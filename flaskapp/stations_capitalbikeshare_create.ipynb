{
 "metadata": {
  "language_info": {
   "codemirror_mode": {
    "name": "ipython",
    "version": 3
   },
   "file_extension": ".py",
   "mimetype": "text/x-python",
   "name": "python",
   "nbconvert_exporter": "python",
   "pygments_lexer": "ipython3",
   "version": "3.8.5-final"
  },
  "orig_nbformat": 2,
  "kernelspec": {
   "name": "python385jvsc74a57bd0b3ba2566441a7c06988d0923437866b63cedc61552a5af99d1f4fb67d367b25f",
   "display_name": "Python 3.8.5 64-bit (conda)"
  }
 },
 "nbformat": 4,
 "nbformat_minor": 2,
 "cells": [
  {
   "cell_type": "code",
   "execution_count": 1,
   "metadata": {},
   "outputs": [],
   "source": [
    "# This file creates a CSV file with all Capital Bikeshare stations from an online stored JSON file.\n",
    "# The new CSV file helps to save storage and calculation capacities when using the bike trip data. \n",
    "\n",
    "import pandas as pd\n",
    "import numpy as np"
   ]
  },
  {
   "cell_type": "code",
   "execution_count": 2,
   "metadata": {},
   "outputs": [
    {
     "output_type": "execute_result",
     "data": {
      "text/plain": [
       "{'short_name': '31000',\n",
       " 'has_kiosk': True,\n",
       " 'legacy_id': '1',\n",
       " 'station_type': 'classic',\n",
       " 'rental_methods': ['CREDITCARD', 'KEY'],\n",
       " 'eightd_station_services': [],\n",
       " 'electric_bike_surcharge_waiver': False,\n",
       " 'external_id': '082469cc-1f3f-11e7-bf6b-3863bb334450',\n",
       " 'eightd_has_key_dispenser': False,\n",
       " 'capacity': 15,\n",
       " 'lon': -77.05323,\n",
       " 'rental_uris': {'ios': 'https://dc.lft.to/lastmile_qr_scan',\n",
       "  'android': 'https://dc.lft.to/lastmile_qr_scan'},\n",
       " 'region_id': '41',\n",
       " 'lat': 38.858971,\n",
       " 'name': 'Eads St & 15th St S',\n",
       " 'station_id': '1'}"
      ]
     },
     "metadata": {},
     "execution_count": 2
    }
   ],
   "source": [
    "# Loading and checking the JSON file\n",
    "\n",
    "df = pd.read_json('https://gbfs.capitalbikeshare.com/gbfs/en/station_information.json')\n",
    "df.data['stations'][0]"
   ]
  },
  {
   "cell_type": "code",
   "execution_count": 3,
   "metadata": {},
   "outputs": [
    {
     "output_type": "execute_result",
     "data": {
      "text/plain": [
       "['CREDITCARD', 'KEY']"
      ]
     },
     "metadata": {},
     "execution_count": 3
    }
   ],
   "source": [
    "df.data[0][0]['rental_methods']"
   ]
  },
  {
   "cell_type": "code",
   "execution_count": 4,
   "metadata": {},
   "outputs": [
    {
     "output_type": "execute_result",
     "data": {
      "text/plain": [
       "627"
      ]
     },
     "metadata": {},
     "execution_count": 4
    }
   ],
   "source": [
    "len(df.data[0])"
   ]
  },
  {
   "cell_type": "code",
   "execution_count": 5,
   "metadata": {},
   "outputs": [],
   "source": [
    "station_id = []\n",
    "all_stations = []\n",
    "lon = []\n",
    "lat = []\n",
    "capacity = []"
   ]
  },
  {
   "cell_type": "code",
   "execution_count": 6,
   "metadata": {},
   "outputs": [],
   "source": [
    "# Extraction of the necessary information and storing it in what will become the dataframe 'all_stations'\n",
    "\n",
    "for i in range(len(df.data[0])):\n",
    "    station_id.append(df.data[0][i]['station_id'])\n",
    "    all_stations.append(df.data[0][i]['name'])\n",
    "    lon.append(df.data[0][i]['lon'])\n",
    "    lat.append(df.data[0][i]['lat'])\n",
    "    capacity.append(df.data[0][i]['capacity'])\n",
    "\n",
    "all_stations = pd.DataFrame(all_stations)\n",
    "station_id = pd.DataFrame(station_id)\n",
    "lat = pd.DataFrame(lat)\n",
    "lon = pd.DataFrame(lon)\n",
    "capacity = pd.DataFrame(capacity)\n",
    "all_stations['station_id'] = station_id\n",
    "all_stations['lat'] = lat\n",
    "all_stations['lon'] = lon\n",
    "all_stations['capacity'] = capacity\n",
    "all_stations.columns = ['street', 'station_id', 'lat', 'lon', 'capacity']"
   ]
  },
  {
   "cell_type": "code",
   "execution_count": 7,
   "metadata": {},
   "outputs": [
    {
     "output_type": "execute_result",
     "data": {
      "text/plain": [
       "                                           street station_id        lat  \\\n",
       "0                             Eads St & 15th St S          1  38.858971   \n",
       "1                             18th St & S Eads St          2  38.857250   \n",
       "2                          Crystal Dr & 20th St S          3  38.856425   \n",
       "3                          Crystal Dr & 15th St S          4  38.861056   \n",
       "4    Aurora Hills Cmty Ctr / 18th St & S Hayes St          5  38.857866   \n",
       "..                                            ...        ...        ...   \n",
       "622                             Whiting & Lane Dr        663  38.809709   \n",
       "623                       N Howard St & Taney Ave        664  38.815842   \n",
       "624            Anacostia Roller Skating Pavillion        665  38.878771   \n",
       "625                          S Clark St & 33rd St        667  38.845028   \n",
       "626               Columbia Pike & S Greenbrier St        668  38.854019   \n",
       "\n",
       "           lon  capacity  \n",
       "0   -77.053230        15  \n",
       "1   -77.053320        11  \n",
       "2   -77.049232        17  \n",
       "3   -77.049417        16  \n",
       "4   -77.059490        11  \n",
       "..         ...       ...  \n",
       "622 -77.135788        15  \n",
       "623 -77.110014        15  \n",
       "624 -76.970930        19  \n",
       "625 -77.051956        11  \n",
       "626 -77.118106        15  \n",
       "\n",
       "[627 rows x 5 columns]"
      ],
      "text/html": "<div>\n<style scoped>\n    .dataframe tbody tr th:only-of-type {\n        vertical-align: middle;\n    }\n\n    .dataframe tbody tr th {\n        vertical-align: top;\n    }\n\n    .dataframe thead th {\n        text-align: right;\n    }\n</style>\n<table border=\"1\" class=\"dataframe\">\n  <thead>\n    <tr style=\"text-align: right;\">\n      <th></th>\n      <th>street</th>\n      <th>station_id</th>\n      <th>lat</th>\n      <th>lon</th>\n      <th>capacity</th>\n    </tr>\n  </thead>\n  <tbody>\n    <tr>\n      <th>0</th>\n      <td>Eads St &amp; 15th St S</td>\n      <td>1</td>\n      <td>38.858971</td>\n      <td>-77.053230</td>\n      <td>15</td>\n    </tr>\n    <tr>\n      <th>1</th>\n      <td>18th St &amp; S Eads St</td>\n      <td>2</td>\n      <td>38.857250</td>\n      <td>-77.053320</td>\n      <td>11</td>\n    </tr>\n    <tr>\n      <th>2</th>\n      <td>Crystal Dr &amp; 20th St S</td>\n      <td>3</td>\n      <td>38.856425</td>\n      <td>-77.049232</td>\n      <td>17</td>\n    </tr>\n    <tr>\n      <th>3</th>\n      <td>Crystal Dr &amp; 15th St S</td>\n      <td>4</td>\n      <td>38.861056</td>\n      <td>-77.049417</td>\n      <td>16</td>\n    </tr>\n    <tr>\n      <th>4</th>\n      <td>Aurora Hills Cmty Ctr / 18th St &amp; S Hayes St</td>\n      <td>5</td>\n      <td>38.857866</td>\n      <td>-77.059490</td>\n      <td>11</td>\n    </tr>\n    <tr>\n      <th>...</th>\n      <td>...</td>\n      <td>...</td>\n      <td>...</td>\n      <td>...</td>\n      <td>...</td>\n    </tr>\n    <tr>\n      <th>622</th>\n      <td>Whiting &amp; Lane Dr</td>\n      <td>663</td>\n      <td>38.809709</td>\n      <td>-77.135788</td>\n      <td>15</td>\n    </tr>\n    <tr>\n      <th>623</th>\n      <td>N Howard St &amp; Taney Ave</td>\n      <td>664</td>\n      <td>38.815842</td>\n      <td>-77.110014</td>\n      <td>15</td>\n    </tr>\n    <tr>\n      <th>624</th>\n      <td>Anacostia Roller Skating Pavillion</td>\n      <td>665</td>\n      <td>38.878771</td>\n      <td>-76.970930</td>\n      <td>19</td>\n    </tr>\n    <tr>\n      <th>625</th>\n      <td>S Clark St &amp; 33rd St</td>\n      <td>667</td>\n      <td>38.845028</td>\n      <td>-77.051956</td>\n      <td>11</td>\n    </tr>\n    <tr>\n      <th>626</th>\n      <td>Columbia Pike &amp; S Greenbrier St</td>\n      <td>668</td>\n      <td>38.854019</td>\n      <td>-77.118106</td>\n      <td>15</td>\n    </tr>\n  </tbody>\n</table>\n<p>627 rows × 5 columns</p>\n</div>"
     },
     "metadata": {},
     "execution_count": 7
    }
   ],
   "source": [
    "all_stations"
   ]
  },
  {
   "cell_type": "code",
   "execution_count": 8,
   "metadata": {},
   "outputs": [],
   "source": [
    "all_stations.to_csv('stations_capitalbikeshare.csv')"
   ]
  }
 ]
}