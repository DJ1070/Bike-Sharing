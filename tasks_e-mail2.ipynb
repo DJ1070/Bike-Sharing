{
 "metadata": {
  "language_info": {
   "codemirror_mode": {
    "name": "ipython",
    "version": 3
   },
   "file_extension": ".py",
   "mimetype": "text/x-python",
   "name": "python",
   "nbconvert_exporter": "python",
   "pygments_lexer": "ipython3",
   "version": "3.8.5-final"
  },
  "orig_nbformat": 2,
  "kernelspec": {
   "name": "python385jvsc74a57bd0b3ba2566441a7c06988d0923437866b63cedc61552a5af99d1f4fb67d367b25f",
   "display_name": "Python 3.8.5 64-bit (conda)"
  }
 },
 "nbformat": 4,
 "nbformat_minor": 2,
 "cells": [
  {
   "cell_type": "code",
   "execution_count": 175,
   "metadata": {},
   "outputs": [],
   "source": [
    "# This code explores the data and answers certain questions \n",
    "# from a given task in this learning project.\n",
    "\n",
    "import pandas as pd\n",
    "import numpy as np\n",
    "import datetime\n",
    "import matplotlib.pyplot as plt\n",
    "import seaborn as sns\n",
    "import plotly.express as px\n",
    "import chart_studio.plotly as py\n",
    "import plotly.graph_objects as go\n",
    "\n",
    "df = pd.read_csv('202012-capitalbikeshare-tripdata.csv')"
   ]
  },
  {
   "cell_type": "code",
   "execution_count": 176,
   "metadata": {},
   "outputs": [
    {
     "output_type": "execute_result",
     "data": {
      "text/plain": [
       "            ride_id rideable_type           started_at             ended_at  \\\n",
       "0  C04E20007D039277   docked_bike  2020-12-02 09:10:36  2020-12-02 09:24:12   \n",
       "1  A488C0D9F4761D06  classic_bike  2020-12-31 12:46:29  2020-12-31 14:01:07   \n",
       "2  9E7E97A927A85552  classic_bike  2020-12-31 12:47:03  2020-12-31 14:01:04   \n",
       "\n",
       "              start_station_name  start_station_id  \\\n",
       "0       18th St & Wyoming Ave NW           31114.0   \n",
       "1  Potomac & Pennsylvania Ave SE           31606.0   \n",
       "2  Potomac & Pennsylvania Ave SE           31606.0   \n",
       "\n",
       "                end_station_name  end_station_id  start_lat  start_lng  \\\n",
       "0  18th St & Pennsylvania Ave NW         31242.0  38.918809 -77.041571   \n",
       "1  17th St & Independence Ave SW         31290.0  38.880300 -76.986200   \n",
       "2  17th St & Independence Ave SW         31290.0  38.880300 -76.986200   \n",
       "\n",
       "     end_lat    end_lng member_casual  \n",
       "0  38.899680 -77.041539        casual  \n",
       "1  38.888097 -77.038325        casual  \n",
       "2  38.888097 -77.038325        casual  "
      ],
      "text/html": "<div>\n<style scoped>\n    .dataframe tbody tr th:only-of-type {\n        vertical-align: middle;\n    }\n\n    .dataframe tbody tr th {\n        vertical-align: top;\n    }\n\n    .dataframe thead th {\n        text-align: right;\n    }\n</style>\n<table border=\"1\" class=\"dataframe\">\n  <thead>\n    <tr style=\"text-align: right;\">\n      <th></th>\n      <th>ride_id</th>\n      <th>rideable_type</th>\n      <th>started_at</th>\n      <th>ended_at</th>\n      <th>start_station_name</th>\n      <th>start_station_id</th>\n      <th>end_station_name</th>\n      <th>end_station_id</th>\n      <th>start_lat</th>\n      <th>start_lng</th>\n      <th>end_lat</th>\n      <th>end_lng</th>\n      <th>member_casual</th>\n    </tr>\n  </thead>\n  <tbody>\n    <tr>\n      <th>0</th>\n      <td>C04E20007D039277</td>\n      <td>docked_bike</td>\n      <td>2020-12-02 09:10:36</td>\n      <td>2020-12-02 09:24:12</td>\n      <td>18th St &amp; Wyoming Ave NW</td>\n      <td>31114.0</td>\n      <td>18th St &amp; Pennsylvania Ave NW</td>\n      <td>31242.0</td>\n      <td>38.918809</td>\n      <td>-77.041571</td>\n      <td>38.899680</td>\n      <td>-77.041539</td>\n      <td>casual</td>\n    </tr>\n    <tr>\n      <th>1</th>\n      <td>A488C0D9F4761D06</td>\n      <td>classic_bike</td>\n      <td>2020-12-31 12:46:29</td>\n      <td>2020-12-31 14:01:07</td>\n      <td>Potomac &amp; Pennsylvania Ave SE</td>\n      <td>31606.0</td>\n      <td>17th St &amp; Independence Ave SW</td>\n      <td>31290.0</td>\n      <td>38.880300</td>\n      <td>-76.986200</td>\n      <td>38.888097</td>\n      <td>-77.038325</td>\n      <td>casual</td>\n    </tr>\n    <tr>\n      <th>2</th>\n      <td>9E7E97A927A85552</td>\n      <td>classic_bike</td>\n      <td>2020-12-31 12:47:03</td>\n      <td>2020-12-31 14:01:04</td>\n      <td>Potomac &amp; Pennsylvania Ave SE</td>\n      <td>31606.0</td>\n      <td>17th St &amp; Independence Ave SW</td>\n      <td>31290.0</td>\n      <td>38.880300</td>\n      <td>-76.986200</td>\n      <td>38.888097</td>\n      <td>-77.038325</td>\n      <td>casual</td>\n    </tr>\n  </tbody>\n</table>\n</div>"
     },
     "metadata": {},
     "execution_count": 176
    }
   ],
   "source": [
    "df.head(3)"
   ]
  },
  {
   "cell_type": "code",
   "execution_count": 177,
   "metadata": {},
   "outputs": [
    {
     "output_type": "execute_result",
     "data": {
      "text/plain": [
       "ride_id                object\n",
       "rideable_type          object\n",
       "started_at             object\n",
       "ended_at               object\n",
       "start_station_name     object\n",
       "start_station_id      float64\n",
       "end_station_name       object\n",
       "end_station_id        float64\n",
       "start_lat             float64\n",
       "start_lng             float64\n",
       "end_lat               float64\n",
       "end_lng               float64\n",
       "member_casual          object\n",
       "dtype: object"
      ]
     },
     "metadata": {},
     "execution_count": 177
    }
   ],
   "source": [
    "df.dtypes"
   ]
  },
  {
   "cell_type": "code",
   "execution_count": 178,
   "metadata": {},
   "outputs": [
    {
     "output_type": "execute_result",
     "data": {
      "text/plain": [
       "classic_bike     48656\n",
       "docked_bike      28924\n",
       "electric_bike    28249\n",
       "Name: rideable_type, dtype: int64"
      ]
     },
     "metadata": {},
     "execution_count": 178
    }
   ],
   "source": [
    "# How many different bike types and how many bikes per type does\n",
    "# Capital Bikeshare provide?\n",
    "\n",
    "df.rideable_type.value_counts()"
   ]
  },
  {
   "cell_type": "code",
   "execution_count": 179,
   "metadata": {},
   "outputs": [
    {
     "output_type": "execute_result",
     "data": {
      "text/plain": [
       "<AxesSubplot:>"
      ]
     },
     "metadata": {},
     "execution_count": 179
    },
    {
     "output_type": "display_data",
     "data": {
      "text/plain": "<Figure size 432x288 with 1 Axes>",
      "image/svg+xml": "<?xml version=\"1.0\" encoding=\"utf-8\" standalone=\"no\"?>\r\n<!DOCTYPE svg PUBLIC \"-//W3C//DTD SVG 1.1//EN\"\r\n  \"http://www.w3.org/Graphics/SVG/1.1/DTD/svg11.dtd\">\r\n<!-- Created with matplotlib (https://matplotlib.org/) -->\r\n<svg height=\"301.438437pt\" version=\"1.1\" viewBox=\"0 0 388.0125 301.438437\" width=\"388.0125pt\" xmlns=\"http://www.w3.org/2000/svg\" xmlns:xlink=\"http://www.w3.org/1999/xlink\">\r\n <metadata>\r\n  <rdf:RDF xmlns:cc=\"http://creativecommons.org/ns#\" xmlns:dc=\"http://purl.org/dc/elements/1.1/\" xmlns:rdf=\"http://www.w3.org/1999/02/22-rdf-syntax-ns#\">\r\n   <cc:Work>\r\n    <dc:type rdf:resource=\"http://purl.org/dc/dcmitype/StillImage\"/>\r\n    <dc:date>2021-04-08T13:24:25.956596</dc:date>\r\n    <dc:format>image/svg+xml</dc:format>\r\n    <dc:creator>\r\n     <cc:Agent>\r\n      <dc:title>Matplotlib v3.3.2, https://matplotlib.org/</dc:title>\r\n     </cc:Agent>\r\n    </dc:creator>\r\n   </cc:Work>\r\n  </rdf:RDF>\r\n </metadata>\r\n <defs>\r\n  <style type=\"text/css\">*{stroke-linecap:butt;stroke-linejoin:round;}</style>\r\n </defs>\r\n <g id=\"figure_1\">\r\n  <g id=\"patch_1\">\r\n   <path d=\"M 0 301.438437 \r\nL 388.0125 301.438437 \r\nL 388.0125 0 \r\nL 0 0 \r\nz\r\n\" style=\"fill:none;\"/>\r\n  </g>\r\n  <g id=\"axes_1\">\r\n   <g id=\"patch_2\">\r\n    <path d=\"M 46.0125 224.64 \r\nL 380.8125 224.64 \r\nL 380.8125 7.2 \r\nL 46.0125 7.2 \r\nz\r\n\" style=\"fill:#ffffff;\"/>\r\n   </g>\r\n   <g id=\"patch_3\">\r\n    <path clip-path=\"url(#p8779ebc629)\" d=\"M 73.9125 224.64 \r\nL 129.7125 224.64 \r\nL 129.7125 17.554286 \r\nL 73.9125 17.554286 \r\nz\r\n\" style=\"fill:#1f77b4;\"/>\r\n   </g>\r\n   <g id=\"patch_4\">\r\n    <path clip-path=\"url(#p8779ebc629)\" d=\"M 185.5125 224.64 \r\nL 241.3125 224.64 \r\nL 241.3125 101.536021 \r\nL 185.5125 101.536021 \r\nz\r\n\" style=\"fill:#1f77b4;\"/>\r\n   </g>\r\n   <g id=\"patch_5\">\r\n    <path clip-path=\"url(#p8779ebc629)\" d=\"M 297.1125 224.64 \r\nL 352.9125 224.64 \r\nL 352.9125 104.408901 \r\nL 297.1125 104.408901 \r\nz\r\n\" style=\"fill:#1f77b4;\"/>\r\n   </g>\r\n   <g id=\"matplotlib.axis_1\">\r\n    <g id=\"xtick_1\">\r\n     <g id=\"line2d_1\">\r\n      <defs>\r\n       <path d=\"M 0 0 \r\nL 0 3.5 \r\n\" id=\"mff4d2668e7\" style=\"stroke:#000000;stroke-width:0.8;\"/>\r\n      </defs>\r\n      <g>\r\n       <use style=\"stroke:#000000;stroke-width:0.8;\" x=\"101.8125\" xlink:href=\"#mff4d2668e7\" y=\"224.64\"/>\r\n      </g>\r\n     </g>\r\n     <g id=\"text_1\">\r\n      <!-- classic_bike -->\r\n      <g transform=\"translate(104.432812 290.447812)rotate(-90)scale(0.1 -0.1)\">\r\n       <defs>\r\n        <path d=\"M 48.78125 52.59375 \r\nL 48.78125 44.1875 \r\nQ 44.96875 46.296875 41.140625 47.34375 \r\nQ 37.3125 48.390625 33.40625 48.390625 \r\nQ 24.65625 48.390625 19.8125 42.84375 \r\nQ 14.984375 37.3125 14.984375 27.296875 \r\nQ 14.984375 17.28125 19.8125 11.734375 \r\nQ 24.65625 6.203125 33.40625 6.203125 \r\nQ 37.3125 6.203125 41.140625 7.25 \r\nQ 44.96875 8.296875 48.78125 10.40625 \r\nL 48.78125 2.09375 \r\nQ 45.015625 0.34375 40.984375 -0.53125 \r\nQ 36.96875 -1.421875 32.421875 -1.421875 \r\nQ 20.0625 -1.421875 12.78125 6.34375 \r\nQ 5.515625 14.109375 5.515625 27.296875 \r\nQ 5.515625 40.671875 12.859375 48.328125 \r\nQ 20.21875 56 33.015625 56 \r\nQ 37.15625 56 41.109375 55.140625 \r\nQ 45.0625 54.296875 48.78125 52.59375 \r\nz\r\n\" id=\"DejaVuSans-99\"/>\r\n        <path d=\"M 9.421875 75.984375 \r\nL 18.40625 75.984375 \r\nL 18.40625 0 \r\nL 9.421875 0 \r\nz\r\n\" id=\"DejaVuSans-108\"/>\r\n        <path d=\"M 34.28125 27.484375 \r\nQ 23.390625 27.484375 19.1875 25 \r\nQ 14.984375 22.515625 14.984375 16.5 \r\nQ 14.984375 11.71875 18.140625 8.90625 \r\nQ 21.296875 6.109375 26.703125 6.109375 \r\nQ 34.1875 6.109375 38.703125 11.40625 \r\nQ 43.21875 16.703125 43.21875 25.484375 \r\nL 43.21875 27.484375 \r\nz\r\nM 52.203125 31.203125 \r\nL 52.203125 0 \r\nL 43.21875 0 \r\nL 43.21875 8.296875 \r\nQ 40.140625 3.328125 35.546875 0.953125 \r\nQ 30.953125 -1.421875 24.3125 -1.421875 \r\nQ 15.921875 -1.421875 10.953125 3.296875 \r\nQ 6 8.015625 6 15.921875 \r\nQ 6 25.140625 12.171875 29.828125 \r\nQ 18.359375 34.515625 30.609375 34.515625 \r\nL 43.21875 34.515625 \r\nL 43.21875 35.40625 \r\nQ 43.21875 41.609375 39.140625 45 \r\nQ 35.0625 48.390625 27.6875 48.390625 \r\nQ 23 48.390625 18.546875 47.265625 \r\nQ 14.109375 46.140625 10.015625 43.890625 \r\nL 10.015625 52.203125 \r\nQ 14.9375 54.109375 19.578125 55.046875 \r\nQ 24.21875 56 28.609375 56 \r\nQ 40.484375 56 46.34375 49.84375 \r\nQ 52.203125 43.703125 52.203125 31.203125 \r\nz\r\n\" id=\"DejaVuSans-97\"/>\r\n        <path d=\"M 44.28125 53.078125 \r\nL 44.28125 44.578125 \r\nQ 40.484375 46.53125 36.375 47.5 \r\nQ 32.28125 48.484375 27.875 48.484375 \r\nQ 21.1875 48.484375 17.84375 46.4375 \r\nQ 14.5 44.390625 14.5 40.28125 \r\nQ 14.5 37.15625 16.890625 35.375 \r\nQ 19.28125 33.59375 26.515625 31.984375 \r\nL 29.59375 31.296875 \r\nQ 39.15625 29.25 43.1875 25.515625 \r\nQ 47.21875 21.78125 47.21875 15.09375 \r\nQ 47.21875 7.46875 41.1875 3.015625 \r\nQ 35.15625 -1.421875 24.609375 -1.421875 \r\nQ 20.21875 -1.421875 15.453125 -0.5625 \r\nQ 10.6875 0.296875 5.421875 2 \r\nL 5.421875 11.28125 \r\nQ 10.40625 8.6875 15.234375 7.390625 \r\nQ 20.0625 6.109375 24.8125 6.109375 \r\nQ 31.15625 6.109375 34.5625 8.28125 \r\nQ 37.984375 10.453125 37.984375 14.40625 \r\nQ 37.984375 18.0625 35.515625 20.015625 \r\nQ 33.0625 21.96875 24.703125 23.78125 \r\nL 21.578125 24.515625 \r\nQ 13.234375 26.265625 9.515625 29.90625 \r\nQ 5.8125 33.546875 5.8125 39.890625 \r\nQ 5.8125 47.609375 11.28125 51.796875 \r\nQ 16.75 56 26.8125 56 \r\nQ 31.78125 56 36.171875 55.265625 \r\nQ 40.578125 54.546875 44.28125 53.078125 \r\nz\r\n\" id=\"DejaVuSans-115\"/>\r\n        <path d=\"M 9.421875 54.6875 \r\nL 18.40625 54.6875 \r\nL 18.40625 0 \r\nL 9.421875 0 \r\nz\r\nM 9.421875 75.984375 \r\nL 18.40625 75.984375 \r\nL 18.40625 64.59375 \r\nL 9.421875 64.59375 \r\nz\r\n\" id=\"DejaVuSans-105\"/>\r\n        <path d=\"M 50.984375 -16.609375 \r\nL 50.984375 -23.578125 \r\nL -0.984375 -23.578125 \r\nL -0.984375 -16.609375 \r\nz\r\n\" id=\"DejaVuSans-95\"/>\r\n        <path d=\"M 48.6875 27.296875 \r\nQ 48.6875 37.203125 44.609375 42.84375 \r\nQ 40.53125 48.484375 33.40625 48.484375 \r\nQ 26.265625 48.484375 22.1875 42.84375 \r\nQ 18.109375 37.203125 18.109375 27.296875 \r\nQ 18.109375 17.390625 22.1875 11.75 \r\nQ 26.265625 6.109375 33.40625 6.109375 \r\nQ 40.53125 6.109375 44.609375 11.75 \r\nQ 48.6875 17.390625 48.6875 27.296875 \r\nz\r\nM 18.109375 46.390625 \r\nQ 20.953125 51.265625 25.265625 53.625 \r\nQ 29.59375 56 35.59375 56 \r\nQ 45.5625 56 51.78125 48.09375 \r\nQ 58.015625 40.1875 58.015625 27.296875 \r\nQ 58.015625 14.40625 51.78125 6.484375 \r\nQ 45.5625 -1.421875 35.59375 -1.421875 \r\nQ 29.59375 -1.421875 25.265625 0.953125 \r\nQ 20.953125 3.328125 18.109375 8.203125 \r\nL 18.109375 0 \r\nL 9.078125 0 \r\nL 9.078125 75.984375 \r\nL 18.109375 75.984375 \r\nz\r\n\" id=\"DejaVuSans-98\"/>\r\n        <path d=\"M 9.078125 75.984375 \r\nL 18.109375 75.984375 \r\nL 18.109375 31.109375 \r\nL 44.921875 54.6875 \r\nL 56.390625 54.6875 \r\nL 27.390625 29.109375 \r\nL 57.625 0 \r\nL 45.90625 0 \r\nL 18.109375 26.703125 \r\nL 18.109375 0 \r\nL 9.078125 0 \r\nz\r\n\" id=\"DejaVuSans-107\"/>\r\n        <path d=\"M 56.203125 29.59375 \r\nL 56.203125 25.203125 \r\nL 14.890625 25.203125 \r\nQ 15.484375 15.921875 20.484375 11.0625 \r\nQ 25.484375 6.203125 34.421875 6.203125 \r\nQ 39.59375 6.203125 44.453125 7.46875 \r\nQ 49.3125 8.734375 54.109375 11.28125 \r\nL 54.109375 2.78125 \r\nQ 49.265625 0.734375 44.1875 -0.34375 \r\nQ 39.109375 -1.421875 33.890625 -1.421875 \r\nQ 20.796875 -1.421875 13.15625 6.1875 \r\nQ 5.515625 13.8125 5.515625 26.8125 \r\nQ 5.515625 40.234375 12.765625 48.109375 \r\nQ 20.015625 56 32.328125 56 \r\nQ 43.359375 56 49.78125 48.890625 \r\nQ 56.203125 41.796875 56.203125 29.59375 \r\nz\r\nM 47.21875 32.234375 \r\nQ 47.125 39.59375 43.09375 43.984375 \r\nQ 39.0625 48.390625 32.421875 48.390625 \r\nQ 24.90625 48.390625 20.390625 44.140625 \r\nQ 15.875 39.890625 15.1875 32.171875 \r\nz\r\n\" id=\"DejaVuSans-101\"/>\r\n       </defs>\r\n       <use xlink:href=\"#DejaVuSans-99\"/>\r\n       <use x=\"54.980469\" xlink:href=\"#DejaVuSans-108\"/>\r\n       <use x=\"82.763672\" xlink:href=\"#DejaVuSans-97\"/>\r\n       <use x=\"144.042969\" xlink:href=\"#DejaVuSans-115\"/>\r\n       <use x=\"196.142578\" xlink:href=\"#DejaVuSans-115\"/>\r\n       <use x=\"248.242188\" xlink:href=\"#DejaVuSans-105\"/>\r\n       <use x=\"276.025391\" xlink:href=\"#DejaVuSans-99\"/>\r\n       <use x=\"331.005859\" xlink:href=\"#DejaVuSans-95\"/>\r\n       <use x=\"381.005859\" xlink:href=\"#DejaVuSans-98\"/>\r\n       <use x=\"444.482422\" xlink:href=\"#DejaVuSans-105\"/>\r\n       <use x=\"472.265625\" xlink:href=\"#DejaVuSans-107\"/>\r\n       <use x=\"526.550781\" xlink:href=\"#DejaVuSans-101\"/>\r\n      </g>\r\n     </g>\r\n    </g>\r\n    <g id=\"xtick_2\">\r\n     <g id=\"line2d_2\">\r\n      <g>\r\n       <use style=\"stroke:#000000;stroke-width:0.8;\" x=\"213.4125\" xlink:href=\"#mff4d2668e7\" y=\"224.64\"/>\r\n      </g>\r\n     </g>\r\n     <g id=\"text_2\">\r\n      <!-- docked_bike -->\r\n      <g transform=\"translate(216.032813 293.243125)rotate(-90)scale(0.1 -0.1)\">\r\n       <defs>\r\n        <path d=\"M 45.40625 46.390625 \r\nL 45.40625 75.984375 \r\nL 54.390625 75.984375 \r\nL 54.390625 0 \r\nL 45.40625 0 \r\nL 45.40625 8.203125 \r\nQ 42.578125 3.328125 38.25 0.953125 \r\nQ 33.9375 -1.421875 27.875 -1.421875 \r\nQ 17.96875 -1.421875 11.734375 6.484375 \r\nQ 5.515625 14.40625 5.515625 27.296875 \r\nQ 5.515625 40.1875 11.734375 48.09375 \r\nQ 17.96875 56 27.875 56 \r\nQ 33.9375 56 38.25 53.625 \r\nQ 42.578125 51.265625 45.40625 46.390625 \r\nz\r\nM 14.796875 27.296875 \r\nQ 14.796875 17.390625 18.875 11.75 \r\nQ 22.953125 6.109375 30.078125 6.109375 \r\nQ 37.203125 6.109375 41.296875 11.75 \r\nQ 45.40625 17.390625 45.40625 27.296875 \r\nQ 45.40625 37.203125 41.296875 42.84375 \r\nQ 37.203125 48.484375 30.078125 48.484375 \r\nQ 22.953125 48.484375 18.875 42.84375 \r\nQ 14.796875 37.203125 14.796875 27.296875 \r\nz\r\n\" id=\"DejaVuSans-100\"/>\r\n        <path d=\"M 30.609375 48.390625 \r\nQ 23.390625 48.390625 19.1875 42.75 \r\nQ 14.984375 37.109375 14.984375 27.296875 \r\nQ 14.984375 17.484375 19.15625 11.84375 \r\nQ 23.34375 6.203125 30.609375 6.203125 \r\nQ 37.796875 6.203125 41.984375 11.859375 \r\nQ 46.1875 17.53125 46.1875 27.296875 \r\nQ 46.1875 37.015625 41.984375 42.703125 \r\nQ 37.796875 48.390625 30.609375 48.390625 \r\nz\r\nM 30.609375 56 \r\nQ 42.328125 56 49.015625 48.375 \r\nQ 55.71875 40.765625 55.71875 27.296875 \r\nQ 55.71875 13.875 49.015625 6.21875 \r\nQ 42.328125 -1.421875 30.609375 -1.421875 \r\nQ 18.84375 -1.421875 12.171875 6.21875 \r\nQ 5.515625 13.875 5.515625 27.296875 \r\nQ 5.515625 40.765625 12.171875 48.375 \r\nQ 18.84375 56 30.609375 56 \r\nz\r\n\" id=\"DejaVuSans-111\"/>\r\n       </defs>\r\n       <use xlink:href=\"#DejaVuSans-100\"/>\r\n       <use x=\"63.476562\" xlink:href=\"#DejaVuSans-111\"/>\r\n       <use x=\"124.658203\" xlink:href=\"#DejaVuSans-99\"/>\r\n       <use x=\"179.638672\" xlink:href=\"#DejaVuSans-107\"/>\r\n       <use x=\"233.923828\" xlink:href=\"#DejaVuSans-101\"/>\r\n       <use x=\"295.447266\" xlink:href=\"#DejaVuSans-100\"/>\r\n       <use x=\"358.923828\" xlink:href=\"#DejaVuSans-95\"/>\r\n       <use x=\"408.923828\" xlink:href=\"#DejaVuSans-98\"/>\r\n       <use x=\"472.400391\" xlink:href=\"#DejaVuSans-105\"/>\r\n       <use x=\"500.183594\" xlink:href=\"#DejaVuSans-107\"/>\r\n       <use x=\"554.46875\" xlink:href=\"#DejaVuSans-101\"/>\r\n      </g>\r\n     </g>\r\n    </g>\r\n    <g id=\"xtick_3\">\r\n     <g id=\"line2d_3\">\r\n      <g>\r\n       <use style=\"stroke:#000000;stroke-width:0.8;\" x=\"325.0125\" xlink:href=\"#mff4d2668e7\" y=\"224.64\"/>\r\n      </g>\r\n     </g>\r\n     <g id=\"text_3\">\r\n      <!-- electric_bike -->\r\n      <g transform=\"translate(327.632812 294.238437)rotate(-90)scale(0.1 -0.1)\">\r\n       <defs>\r\n        <path d=\"M 18.3125 70.21875 \r\nL 18.3125 54.6875 \r\nL 36.8125 54.6875 \r\nL 36.8125 47.703125 \r\nL 18.3125 47.703125 \r\nL 18.3125 18.015625 \r\nQ 18.3125 11.328125 20.140625 9.421875 \r\nQ 21.96875 7.515625 27.59375 7.515625 \r\nL 36.8125 7.515625 \r\nL 36.8125 0 \r\nL 27.59375 0 \r\nQ 17.1875 0 13.234375 3.875 \r\nQ 9.28125 7.765625 9.28125 18.015625 \r\nL 9.28125 47.703125 \r\nL 2.6875 47.703125 \r\nL 2.6875 54.6875 \r\nL 9.28125 54.6875 \r\nL 9.28125 70.21875 \r\nz\r\n\" id=\"DejaVuSans-116\"/>\r\n        <path d=\"M 41.109375 46.296875 \r\nQ 39.59375 47.171875 37.8125 47.578125 \r\nQ 36.03125 48 33.890625 48 \r\nQ 26.265625 48 22.1875 43.046875 \r\nQ 18.109375 38.09375 18.109375 28.8125 \r\nL 18.109375 0 \r\nL 9.078125 0 \r\nL 9.078125 54.6875 \r\nL 18.109375 54.6875 \r\nL 18.109375 46.1875 \r\nQ 20.953125 51.171875 25.484375 53.578125 \r\nQ 30.03125 56 36.53125 56 \r\nQ 37.453125 56 38.578125 55.875 \r\nQ 39.703125 55.765625 41.0625 55.515625 \r\nz\r\n\" id=\"DejaVuSans-114\"/>\r\n       </defs>\r\n       <use xlink:href=\"#DejaVuSans-101\"/>\r\n       <use x=\"61.523438\" xlink:href=\"#DejaVuSans-108\"/>\r\n       <use x=\"89.306641\" xlink:href=\"#DejaVuSans-101\"/>\r\n       <use x=\"150.830078\" xlink:href=\"#DejaVuSans-99\"/>\r\n       <use x=\"205.810547\" xlink:href=\"#DejaVuSans-116\"/>\r\n       <use x=\"245.019531\" xlink:href=\"#DejaVuSans-114\"/>\r\n       <use x=\"286.132812\" xlink:href=\"#DejaVuSans-105\"/>\r\n       <use x=\"313.916016\" xlink:href=\"#DejaVuSans-99\"/>\r\n       <use x=\"368.896484\" xlink:href=\"#DejaVuSans-95\"/>\r\n       <use x=\"418.896484\" xlink:href=\"#DejaVuSans-98\"/>\r\n       <use x=\"482.373047\" xlink:href=\"#DejaVuSans-105\"/>\r\n       <use x=\"510.15625\" xlink:href=\"#DejaVuSans-107\"/>\r\n       <use x=\"564.441406\" xlink:href=\"#DejaVuSans-101\"/>\r\n      </g>\r\n     </g>\r\n    </g>\r\n   </g>\r\n   <g id=\"matplotlib.axis_2\">\r\n    <g id=\"ytick_1\">\r\n     <g id=\"line2d_4\">\r\n      <defs>\r\n       <path d=\"M 0 0 \r\nL -3.5 0 \r\n\" id=\"m01904b513c\" style=\"stroke:#000000;stroke-width:0.8;\"/>\r\n      </defs>\r\n      <g>\r\n       <use style=\"stroke:#000000;stroke-width:0.8;\" x=\"46.0125\" xlink:href=\"#m01904b513c\" y=\"224.64\"/>\r\n      </g>\r\n     </g>\r\n     <g id=\"text_4\">\r\n      <!-- 0 -->\r\n      <g transform=\"translate(32.65 228.439219)scale(0.1 -0.1)\">\r\n       <defs>\r\n        <path d=\"M 31.78125 66.40625 \r\nQ 24.171875 66.40625 20.328125 58.90625 \r\nQ 16.5 51.421875 16.5 36.375 \r\nQ 16.5 21.390625 20.328125 13.890625 \r\nQ 24.171875 6.390625 31.78125 6.390625 \r\nQ 39.453125 6.390625 43.28125 13.890625 \r\nQ 47.125 21.390625 47.125 36.375 \r\nQ 47.125 51.421875 43.28125 58.90625 \r\nQ 39.453125 66.40625 31.78125 66.40625 \r\nz\r\nM 31.78125 74.21875 \r\nQ 44.046875 74.21875 50.515625 64.515625 \r\nQ 56.984375 54.828125 56.984375 36.375 \r\nQ 56.984375 17.96875 50.515625 8.265625 \r\nQ 44.046875 -1.421875 31.78125 -1.421875 \r\nQ 19.53125 -1.421875 13.0625 8.265625 \r\nQ 6.59375 17.96875 6.59375 36.375 \r\nQ 6.59375 54.828125 13.0625 64.515625 \r\nQ 19.53125 74.21875 31.78125 74.21875 \r\nz\r\n\" id=\"DejaVuSans-48\"/>\r\n       </defs>\r\n       <use xlink:href=\"#DejaVuSans-48\"/>\r\n      </g>\r\n     </g>\r\n    </g>\r\n    <g id=\"ytick_2\">\r\n     <g id=\"line2d_5\">\r\n      <g>\r\n       <use style=\"stroke:#000000;stroke-width:0.8;\" x=\"46.0125\" xlink:href=\"#m01904b513c\" y=\"182.078812\"/>\r\n      </g>\r\n     </g>\r\n     <g id=\"text_5\">\r\n      <!-- 10000 -->\r\n      <g transform=\"translate(7.2 185.878031)scale(0.1 -0.1)\">\r\n       <defs>\r\n        <path d=\"M 12.40625 8.296875 \r\nL 28.515625 8.296875 \r\nL 28.515625 63.921875 \r\nL 10.984375 60.40625 \r\nL 10.984375 69.390625 \r\nL 28.421875 72.90625 \r\nL 38.28125 72.90625 \r\nL 38.28125 8.296875 \r\nL 54.390625 8.296875 \r\nL 54.390625 0 \r\nL 12.40625 0 \r\nz\r\n\" id=\"DejaVuSans-49\"/>\r\n       </defs>\r\n       <use xlink:href=\"#DejaVuSans-49\"/>\r\n       <use x=\"63.623047\" xlink:href=\"#DejaVuSans-48\"/>\r\n       <use x=\"127.246094\" xlink:href=\"#DejaVuSans-48\"/>\r\n       <use x=\"190.869141\" xlink:href=\"#DejaVuSans-48\"/>\r\n       <use x=\"254.492188\" xlink:href=\"#DejaVuSans-48\"/>\r\n      </g>\r\n     </g>\r\n    </g>\r\n    <g id=\"ytick_3\">\r\n     <g id=\"line2d_6\">\r\n      <g>\r\n       <use style=\"stroke:#000000;stroke-width:0.8;\" x=\"46.0125\" xlink:href=\"#m01904b513c\" y=\"139.517625\"/>\r\n      </g>\r\n     </g>\r\n     <g id=\"text_6\">\r\n      <!-- 20000 -->\r\n      <g transform=\"translate(7.2 143.316844)scale(0.1 -0.1)\">\r\n       <defs>\r\n        <path d=\"M 19.1875 8.296875 \r\nL 53.609375 8.296875 \r\nL 53.609375 0 \r\nL 7.328125 0 \r\nL 7.328125 8.296875 \r\nQ 12.9375 14.109375 22.625 23.890625 \r\nQ 32.328125 33.6875 34.8125 36.53125 \r\nQ 39.546875 41.84375 41.421875 45.53125 \r\nQ 43.3125 49.21875 43.3125 52.78125 \r\nQ 43.3125 58.59375 39.234375 62.25 \r\nQ 35.15625 65.921875 28.609375 65.921875 \r\nQ 23.96875 65.921875 18.8125 64.3125 \r\nQ 13.671875 62.703125 7.8125 59.421875 \r\nL 7.8125 69.390625 \r\nQ 13.765625 71.78125 18.9375 73 \r\nQ 24.125 74.21875 28.421875 74.21875 \r\nQ 39.75 74.21875 46.484375 68.546875 \r\nQ 53.21875 62.890625 53.21875 53.421875 \r\nQ 53.21875 48.921875 51.53125 44.890625 \r\nQ 49.859375 40.875 45.40625 35.40625 \r\nQ 44.1875 33.984375 37.640625 27.21875 \r\nQ 31.109375 20.453125 19.1875 8.296875 \r\nz\r\n\" id=\"DejaVuSans-50\"/>\r\n       </defs>\r\n       <use xlink:href=\"#DejaVuSans-50\"/>\r\n       <use x=\"63.623047\" xlink:href=\"#DejaVuSans-48\"/>\r\n       <use x=\"127.246094\" xlink:href=\"#DejaVuSans-48\"/>\r\n       <use x=\"190.869141\" xlink:href=\"#DejaVuSans-48\"/>\r\n       <use x=\"254.492188\" xlink:href=\"#DejaVuSans-48\"/>\r\n      </g>\r\n     </g>\r\n    </g>\r\n    <g id=\"ytick_4\">\r\n     <g id=\"line2d_7\">\r\n      <g>\r\n       <use style=\"stroke:#000000;stroke-width:0.8;\" x=\"46.0125\" xlink:href=\"#m01904b513c\" y=\"96.956437\"/>\r\n      </g>\r\n     </g>\r\n     <g id=\"text_7\">\r\n      <!-- 30000 -->\r\n      <g transform=\"translate(7.2 100.755656)scale(0.1 -0.1)\">\r\n       <defs>\r\n        <path d=\"M 40.578125 39.3125 \r\nQ 47.65625 37.796875 51.625 33 \r\nQ 55.609375 28.21875 55.609375 21.1875 \r\nQ 55.609375 10.40625 48.1875 4.484375 \r\nQ 40.765625 -1.421875 27.09375 -1.421875 \r\nQ 22.515625 -1.421875 17.65625 -0.515625 \r\nQ 12.796875 0.390625 7.625 2.203125 \r\nL 7.625 11.71875 \r\nQ 11.71875 9.328125 16.59375 8.109375 \r\nQ 21.484375 6.890625 26.8125 6.890625 \r\nQ 36.078125 6.890625 40.9375 10.546875 \r\nQ 45.796875 14.203125 45.796875 21.1875 \r\nQ 45.796875 27.640625 41.28125 31.265625 \r\nQ 36.765625 34.90625 28.71875 34.90625 \r\nL 20.21875 34.90625 \r\nL 20.21875 43.015625 \r\nL 29.109375 43.015625 \r\nQ 36.375 43.015625 40.234375 45.921875 \r\nQ 44.09375 48.828125 44.09375 54.296875 \r\nQ 44.09375 59.90625 40.109375 62.90625 \r\nQ 36.140625 65.921875 28.71875 65.921875 \r\nQ 24.65625 65.921875 20.015625 65.03125 \r\nQ 15.375 64.15625 9.8125 62.3125 \r\nL 9.8125 71.09375 \r\nQ 15.4375 72.65625 20.34375 73.4375 \r\nQ 25.25 74.21875 29.59375 74.21875 \r\nQ 40.828125 74.21875 47.359375 69.109375 \r\nQ 53.90625 64.015625 53.90625 55.328125 \r\nQ 53.90625 49.265625 50.4375 45.09375 \r\nQ 46.96875 40.921875 40.578125 39.3125 \r\nz\r\n\" id=\"DejaVuSans-51\"/>\r\n       </defs>\r\n       <use xlink:href=\"#DejaVuSans-51\"/>\r\n       <use x=\"63.623047\" xlink:href=\"#DejaVuSans-48\"/>\r\n       <use x=\"127.246094\" xlink:href=\"#DejaVuSans-48\"/>\r\n       <use x=\"190.869141\" xlink:href=\"#DejaVuSans-48\"/>\r\n       <use x=\"254.492188\" xlink:href=\"#DejaVuSans-48\"/>\r\n      </g>\r\n     </g>\r\n    </g>\r\n    <g id=\"ytick_5\">\r\n     <g id=\"line2d_8\">\r\n      <g>\r\n       <use style=\"stroke:#000000;stroke-width:0.8;\" x=\"46.0125\" xlink:href=\"#m01904b513c\" y=\"54.39525\"/>\r\n      </g>\r\n     </g>\r\n     <g id=\"text_8\">\r\n      <!-- 40000 -->\r\n      <g transform=\"translate(7.2 58.194468)scale(0.1 -0.1)\">\r\n       <defs>\r\n        <path d=\"M 37.796875 64.3125 \r\nL 12.890625 25.390625 \r\nL 37.796875 25.390625 \r\nz\r\nM 35.203125 72.90625 \r\nL 47.609375 72.90625 \r\nL 47.609375 25.390625 \r\nL 58.015625 25.390625 \r\nL 58.015625 17.1875 \r\nL 47.609375 17.1875 \r\nL 47.609375 0 \r\nL 37.796875 0 \r\nL 37.796875 17.1875 \r\nL 4.890625 17.1875 \r\nL 4.890625 26.703125 \r\nz\r\n\" id=\"DejaVuSans-52\"/>\r\n       </defs>\r\n       <use xlink:href=\"#DejaVuSans-52\"/>\r\n       <use x=\"63.623047\" xlink:href=\"#DejaVuSans-48\"/>\r\n       <use x=\"127.246094\" xlink:href=\"#DejaVuSans-48\"/>\r\n       <use x=\"190.869141\" xlink:href=\"#DejaVuSans-48\"/>\r\n       <use x=\"254.492188\" xlink:href=\"#DejaVuSans-48\"/>\r\n      </g>\r\n     </g>\r\n    </g>\r\n    <g id=\"ytick_6\">\r\n     <g id=\"line2d_9\">\r\n      <g>\r\n       <use style=\"stroke:#000000;stroke-width:0.8;\" x=\"46.0125\" xlink:href=\"#m01904b513c\" y=\"11.834062\"/>\r\n      </g>\r\n     </g>\r\n     <g id=\"text_9\">\r\n      <!-- 50000 -->\r\n      <g transform=\"translate(7.2 15.633281)scale(0.1 -0.1)\">\r\n       <defs>\r\n        <path d=\"M 10.796875 72.90625 \r\nL 49.515625 72.90625 \r\nL 49.515625 64.59375 \r\nL 19.828125 64.59375 \r\nL 19.828125 46.734375 \r\nQ 21.96875 47.46875 24.109375 47.828125 \r\nQ 26.265625 48.1875 28.421875 48.1875 \r\nQ 40.625 48.1875 47.75 41.5 \r\nQ 54.890625 34.8125 54.890625 23.390625 \r\nQ 54.890625 11.625 47.5625 5.09375 \r\nQ 40.234375 -1.421875 26.90625 -1.421875 \r\nQ 22.3125 -1.421875 17.546875 -0.640625 \r\nQ 12.796875 0.140625 7.71875 1.703125 \r\nL 7.71875 11.625 \r\nQ 12.109375 9.234375 16.796875 8.0625 \r\nQ 21.484375 6.890625 26.703125 6.890625 \r\nQ 35.15625 6.890625 40.078125 11.328125 \r\nQ 45.015625 15.765625 45.015625 23.390625 \r\nQ 45.015625 31 40.078125 35.4375 \r\nQ 35.15625 39.890625 26.703125 39.890625 \r\nQ 22.75 39.890625 18.8125 39.015625 \r\nQ 14.890625 38.140625 10.796875 36.28125 \r\nz\r\n\" id=\"DejaVuSans-53\"/>\r\n       </defs>\r\n       <use xlink:href=\"#DejaVuSans-53\"/>\r\n       <use x=\"63.623047\" xlink:href=\"#DejaVuSans-48\"/>\r\n       <use x=\"127.246094\" xlink:href=\"#DejaVuSans-48\"/>\r\n       <use x=\"190.869141\" xlink:href=\"#DejaVuSans-48\"/>\r\n       <use x=\"254.492188\" xlink:href=\"#DejaVuSans-48\"/>\r\n      </g>\r\n     </g>\r\n    </g>\r\n   </g>\r\n   <g id=\"patch_6\">\r\n    <path d=\"M 46.0125 224.64 \r\nL 46.0125 7.2 \r\n\" style=\"fill:none;stroke:#000000;stroke-linecap:square;stroke-linejoin:miter;stroke-width:0.8;\"/>\r\n   </g>\r\n   <g id=\"patch_7\">\r\n    <path d=\"M 380.8125 224.64 \r\nL 380.8125 7.2 \r\n\" style=\"fill:none;stroke:#000000;stroke-linecap:square;stroke-linejoin:miter;stroke-width:0.8;\"/>\r\n   </g>\r\n   <g id=\"patch_8\">\r\n    <path d=\"M 46.0125 224.64 \r\nL 380.8125 224.64 \r\n\" style=\"fill:none;stroke:#000000;stroke-linecap:square;stroke-linejoin:miter;stroke-width:0.8;\"/>\r\n   </g>\r\n   <g id=\"patch_9\">\r\n    <path d=\"M 46.0125 7.2 \r\nL 380.8125 7.2 \r\n\" style=\"fill:none;stroke:#000000;stroke-linecap:square;stroke-linejoin:miter;stroke-width:0.8;\"/>\r\n   </g>\r\n  </g>\r\n </g>\r\n <defs>\r\n  <clipPath id=\"p8779ebc629\">\r\n   <rect height=\"217.44\" width=\"334.8\" x=\"46.0125\" y=\"7.2\"/>\r\n  </clipPath>\r\n </defs>\r\n</svg>\r\n",
      "image/png": "[encoded data removed]"
     },
     "metadata": {
      "needs_background": "light"
     }
    }
   ],
   "source": [
    "df.rideable_type.value_counts().plot(kind = 'bar')"
   ]
  },
  {
   "cell_type": "code",
   "execution_count": 180,
   "metadata": {},
   "outputs": [
    {
     "output_type": "execute_result",
     "data": {
      "text/plain": [
       "                                   start_station_name  rides\n",
       "0                            20th St & Florida Ave NW    649\n",
       "1                                14th & Belmont St NW    663\n",
       "2                                       3rd & M St NE    663\n",
       "3                                      14th & R St NW    667\n",
       "4                                16th & Harvard St NW    668\n",
       "5                     Columbus Circle / Union Station    698\n",
       "6                         Adams Mill & Columbia Rd NW    709\n",
       "7                Massachusetts Ave & Dupont Circle NW    709\n",
       "8                                       5th & K St NW    723\n",
       "9                               17th & Corcoran St NW    730\n",
       "10                               15th & Euclid St  NW    747\n",
       "11  Eastern Market Metro / Pennsylvania Ave & 8th ...    753\n",
       "12                                     15th & W St NW    754\n",
       "13                                      Thomas Circle    768\n",
       "14                             4th St & Madison Dr NW    795\n",
       "15                                      4th & M St SW    797\n",
       "16                                     14th & V St NW    798\n",
       "17                          Jefferson Dr & 14th St SW    798\n",
       "18                                   Lincoln Memorial    826\n",
       "19                                      8th & O St NW    856\n",
       "20                                     11th & M St NW    879\n",
       "21                                      1st & M St NE    895\n",
       "22                                14th & Irving St NW   1046\n",
       "23                                     15th & P St NW   1155\n",
       "24                        New Hampshire Ave & T St NW   1308"
      ],
      "text/html": "<div>\n<style scoped>\n    .dataframe tbody tr th:only-of-type {\n        vertical-align: middle;\n    }\n\n    .dataframe tbody tr th {\n        vertical-align: top;\n    }\n\n    .dataframe thead th {\n        text-align: right;\n    }\n</style>\n<table border=\"1\" class=\"dataframe\">\n  <thead>\n    <tr style=\"text-align: right;\">\n      <th></th>\n      <th>start_station_name</th>\n      <th>rides</th>\n    </tr>\n  </thead>\n  <tbody>\n    <tr>\n      <th>0</th>\n      <td>20th St &amp; Florida Ave NW</td>\n      <td>649</td>\n    </tr>\n    <tr>\n      <th>1</th>\n      <td>14th &amp; Belmont St NW</td>\n      <td>663</td>\n    </tr>\n    <tr>\n      <th>2</th>\n      <td>3rd &amp; M St NE</td>\n      <td>663</td>\n    </tr>\n    <tr>\n      <th>3</th>\n      <td>14th &amp; R St NW</td>\n      <td>667</td>\n    </tr>\n    <tr>\n      <th>4</th>\n      <td>16th &amp; Harvard St NW</td>\n      <td>668</td>\n    </tr>\n    <tr>\n      <th>5</th>\n      <td>Columbus Circle / Union Station</td>\n      <td>698</td>\n    </tr>\n    <tr>\n      <th>6</th>\n      <td>Adams Mill &amp; Columbia Rd NW</td>\n      <td>709</td>\n    </tr>\n    <tr>\n      <th>7</th>\n      <td>Massachusetts Ave &amp; Dupont Circle NW</td>\n      <td>709</td>\n    </tr>\n    <tr>\n      <th>8</th>\n      <td>5th &amp; K St NW</td>\n      <td>723</td>\n    </tr>\n    <tr>\n      <th>9</th>\n      <td>17th &amp; Corcoran St NW</td>\n      <td>730</td>\n    </tr>\n    <tr>\n      <th>10</th>\n      <td>15th &amp; Euclid St  NW</td>\n      <td>747</td>\n    </tr>\n    <tr>\n      <th>11</th>\n      <td>Eastern Market Metro / Pennsylvania Ave &amp; 8th ...</td>\n      <td>753</td>\n    </tr>\n    <tr>\n      <th>12</th>\n      <td>15th &amp; W St NW</td>\n      <td>754</td>\n    </tr>\n    <tr>\n      <th>13</th>\n      <td>Thomas Circle</td>\n      <td>768</td>\n    </tr>\n    <tr>\n      <th>14</th>\n      <td>4th St &amp; Madison Dr NW</td>\n      <td>795</td>\n    </tr>\n    <tr>\n      <th>15</th>\n      <td>4th &amp; M St SW</td>\n      <td>797</td>\n    </tr>\n    <tr>\n      <th>16</th>\n      <td>14th &amp; V St NW</td>\n      <td>798</td>\n    </tr>\n    <tr>\n      <th>17</th>\n      <td>Jefferson Dr &amp; 14th St SW</td>\n      <td>798</td>\n    </tr>\n    <tr>\n      <th>18</th>\n      <td>Lincoln Memorial</td>\n      <td>826</td>\n    </tr>\n    <tr>\n      <th>19</th>\n      <td>8th &amp; O St NW</td>\n      <td>856</td>\n    </tr>\n    <tr>\n      <th>20</th>\n      <td>11th &amp; M St NW</td>\n      <td>879</td>\n    </tr>\n    <tr>\n      <th>21</th>\n      <td>1st &amp; M St NE</td>\n      <td>895</td>\n    </tr>\n    <tr>\n      <th>22</th>\n      <td>14th &amp; Irving St NW</td>\n      <td>1046</td>\n    </tr>\n    <tr>\n      <th>23</th>\n      <td>15th &amp; P St NW</td>\n      <td>1155</td>\n    </tr>\n    <tr>\n      <th>24</th>\n      <td>New Hampshire Ave &amp; T St NW</td>\n      <td>1308</td>\n    </tr>\n  </tbody>\n</table>\n</div>"
     },
     "metadata": {},
     "execution_count": 180
    }
   ],
   "source": [
    "# Which 25 stations are most popular to start a bike ride (in December 2020)? \n",
    "\n",
    "ride_start = df.start_station_name.value_counts()\n",
    "ride_start = ride_start.sort_values(ascending = False).head(25)\n",
    "ride_start = ride_start.sort_values(ascending = True)\n",
    "#ride_start = ride_start.sort_values(ascending = True).plot(kind='barh')\n",
    "ride_start1 = pd.DataFrame(ride_start).reset_index()\n",
    "ride_start1.columns = ['start_station_name', 'rides']\n",
    "ride_start1"
   ]
  },
  {
   "cell_type": "code",
   "execution_count": 181,
   "metadata": {},
   "outputs": [
    {
     "output_type": "display_data",
     "data": {
      "application/vnd.plotly.v1+json": {
       "config": {
        "plotlyServerURL": "https://plot.ly"
       },
       "data": [
        {
         "alignmentgroup": "True",
         "hovertemplate": "rides=%{x}<br>start_station_name=%{y}<extra></extra>",
         "legendgroup": "",
         "marker": {
          "color": "#636efa"
         },
         "name": "",
         "offsetgroup": "",
         "orientation": "h",
         "showlegend": false,
         "textposition": "auto",
         "type": "bar",
         "x": [
          649,
          663,
          663,
          667,
          668,
          698,
          709,
          709,
          723,
          730,
          747,
          753,
          754,
          768,
          795,
          797,
          798,
          798,
          826,
          856,
          879,
          895,
          1046,
          1155,
          1308
         ],
         "xaxis": "x",
         "y": [
          "20th St & Florida Ave NW",
          "14th & Belmont St NW",
          "3rd & M St NE",
          "14th & R St NW",
          "16th & Harvard St NW",
          "Columbus Circle / Union Station",
          "Adams Mill & Columbia Rd NW",
          "Massachusetts Ave & Dupont Circle NW",
          "5th & K St NW",
          "17th & Corcoran St NW",
          "15th & Euclid St  NW",
          "Eastern Market Metro / Pennsylvania Ave & 8th St SE",
          "15th & W St NW",
          "Thomas Circle",
          "4th St & Madison Dr NW",
          "4th & M St SW",
          "14th & V St NW",
          "Jefferson Dr & 14th St SW",
          "Lincoln Memorial",
          "8th & O St NW",
          "11th & M St NW",
          "1st & M St NE",
          "14th & Irving St NW",
          "15th & P St NW",
          "New Hampshire Ave & T St NW"
         ],
         "yaxis": "y"
        }
       ],
       "layout": {
        "barmode": "relative",
        "legend": {
         "tracegroupgap": 0
        },
        "margin": {
         "t": 60
        },
        "plot_bgcolor": "rgba(0,0,0,0)",
        "template": {
         "data": {
          "bar": [
           {
            "error_x": {
             "color": "#2a3f5f"
            },
            "error_y": {
             "color": "#2a3f5f"
            },
            "marker": {
             "line": {
              "color": "#E5ECF6",
              "width": 0.5
             }
            },
            "type": "bar"
           }
          ],
          "barpolar": [
           {
            "marker": {
             "line": {
              "color": "#E5ECF6",
              "width": 0.5
             }
            },
            "type": "barpolar"
           }
          ],
          "carpet": [
           {
            "aaxis": {
             "endlinecolor": "#2a3f5f",
             "gridcolor": "white",
             "linecolor": "white",
             "minorgridcolor": "white",
             "startlinecolor": "#2a3f5f"
            },
            "baxis": {
             "endlinecolor": "#2a3f5f",
             "gridcolor": "white",
             "linecolor": "white",
             "minorgridcolor": "white",
             "startlinecolor": "#2a3f5f"
            },
            "type": "carpet"
           }
          ],
          "choropleth": [
           {
            "colorbar": {
             "outlinewidth": 0,
             "ticks": ""
            },
            "type": "choropleth"
           }
          ],
          "contour": [
           {
            "colorbar": {
             "outlinewidth": 0,
             "ticks": ""
            },
            "colorscale": [
             [
              0,
              "#0d0887"
             ],
             [
              0.1111111111111111,
              "#46039f"
             ],
             [
              0.2222222222222222,
              "#7201a8"
             ],
             [
              0.3333333333333333,
              "#9c179e"
             ],
             [
              0.4444444444444444,
              "#bd3786"
             ],
             [
              0.5555555555555556,
              "#d8576b"
             ],
             [
              0.6666666666666666,
              "#ed7953"
             ],
             [
              0.7777777777777778,
              "#fb9f3a"
             ],
             [
              0.8888888888888888,
              "#fdca26"
             ],
             [
              1,
              "#f0f921"
             ]
            ],
            "type": "contour"
           }
          ],
          "contourcarpet": [
           {
            "colorbar": {
             "outlinewidth": 0,
             "ticks": ""
            },
            "type": "contourcarpet"
           }
          ],
          "heatmap": [
           {
            "colorbar": {
             "outlinewidth": 0,
             "ticks": ""
            },
            "colorscale": [
             [
              0,
              "#0d0887"
             ],
             [
              0.1111111111111111,
              "#46039f"
             ],
             [
              0.2222222222222222,
              "#7201a8"
             ],
             [
              0.3333333333333333,
              "#9c179e"
             ],
             [
              0.4444444444444444,
              "#bd3786"
             ],
             [
              0.5555555555555556,
              "#d8576b"
             ],
             [
              0.6666666666666666,
              "#ed7953"
             ],
             [
              0.7777777777777778,
              "#fb9f3a"
             ],
             [
              0.8888888888888888,
              "#fdca26"
             ],
             [
              1,
              "#f0f921"
             ]
            ],
            "type": "heatmap"
           }
          ],
          "heatmapgl": [
           {
            "colorbar": {
             "outlinewidth": 0,
             "ticks": ""
            },
            "colorscale": [
             [
              0,
              "#0d0887"
             ],
             [
              0.1111111111111111,
              "#46039f"
             ],
             [
              0.2222222222222222,
              "#7201a8"
             ],
             [
              0.3333333333333333,
              "#9c179e"
             ],
             [
              0.4444444444444444,
              "#bd3786"
             ],
             [
              0.5555555555555556,
              "#d8576b"
             ],
             [
              0.6666666666666666,
              "#ed7953"
             ],
             [
              0.7777777777777778,
              "#fb9f3a"
             ],
             [
              0.8888888888888888,
              "#fdca26"
             ],
             [
              1,
              "#f0f921"
             ]
            ],
            "type": "heatmapgl"
           }
          ],
          "histogram": [
           {
            "marker": {
             "colorbar": {
              "outlinewidth": 0,
              "ticks": ""
             }
            },
            "type": "histogram"
           }
          ],
          "histogram2d": [
           {
            "colorbar": {
             "outlinewidth": 0,
             "ticks": ""
            },
            "colorscale": [
             [
              0,
              "#0d0887"
             ],
             [
              0.1111111111111111,
              "#46039f"
             ],
             [
              0.2222222222222222,
              "#7201a8"
             ],
             [
              0.3333333333333333,
              "#9c179e"
             ],
             [
              0.4444444444444444,
              "#bd3786"
             ],
             [
              0.5555555555555556,
              "#d8576b"
             ],
             [
              0.6666666666666666,
              "#ed7953"
             ],
             [
              0.7777777777777778,
              "#fb9f3a"
             ],
             [
              0.8888888888888888,
              "#fdca26"
             ],
             [
              1,
              "#f0f921"
             ]
            ],
            "type": "histogram2d"
           }
          ],
          "histogram2dcontour": [
           {
            "colorbar": {
             "outlinewidth": 0,
             "ticks": ""
            },
            "colorscale": [
             [
              0,
              "#0d0887"
             ],
             [
              0.1111111111111111,
              "#46039f"
             ],
             [
              0.2222222222222222,
              "#7201a8"
             ],
             [
              0.3333333333333333,
              "#9c179e"
             ],
             [
              0.4444444444444444,
              "#bd3786"
             ],
             [
              0.5555555555555556,
              "#d8576b"
             ],
             [
              0.6666666666666666,
              "#ed7953"
             ],
             [
              0.7777777777777778,
              "#fb9f3a"
             ],
             [
              0.8888888888888888,
              "#fdca26"
             ],
             [
              1,
              "#f0f921"
             ]
            ],
            "type": "histogram2dcontour"
           }
          ],
          "mesh3d": [
           {
            "colorbar": {
             "outlinewidth": 0,
             "ticks": ""
            },
            "type": "mesh3d"
           }
          ],
          "parcoords": [
           {
            "line": {
             "colorbar": {
              "outlinewidth": 0,
              "ticks": ""
             }
            },
            "type": "parcoords"
           }
          ],
          "pie": [
           {
            "automargin": true,
            "type": "pie"
           }
          ],
          "scatter": [
           {
            "marker": {
             "colorbar": {
              "outlinewidth": 0,
              "ticks": ""
             }
            },
            "type": "scatter"
           }
          ],
          "scatter3d": [
           {
            "line": {
             "colorbar": {
              "outlinewidth": 0,
              "ticks": ""
             }
            },
            "marker": {
             "colorbar": {
              "outlinewidth": 0,
              "ticks": ""
             }
            },
            "type": "scatter3d"
           }
          ],
          "scattercarpet": [
           {
            "marker": {
             "colorbar": {
              "outlinewidth": 0,
              "ticks": ""
             }
            },
            "type": "scattercarpet"
           }
          ],
          "scattergeo": [
           {
            "marker": {
             "colorbar": {
              "outlinewidth": 0,
              "ticks": ""
             }
            },
            "type": "scattergeo"
           }
          ],
          "scattergl": [
           {
            "marker": {
             "colorbar": {
              "outlinewidth": 0,
              "ticks": ""
             }
            },
            "type": "scattergl"
           }
          ],
          "scattermapbox": [
           {
            "marker": {
             "colorbar": {
              "outlinewidth": 0,
              "ticks": ""
             }
            },
            "type": "scattermapbox"
           }
          ],
          "scatterpolar": [
           {
            "marker": {
             "colorbar": {
              "outlinewidth": 0,
              "ticks": ""
             }
            },
            "type": "scatterpolar"
           }
          ],
          "scatterpolargl": [
           {
            "marker": {
             "colorbar": {
              "outlinewidth": 0,
              "ticks": ""
             }
            },
            "type": "scatterpolargl"
           }
          ],
          "scatterternary": [
           {
            "marker": {
             "colorbar": {
              "outlinewidth": 0,
              "ticks": ""
             }
            },
            "type": "scatterternary"
           }
          ],
          "surface": [
           {
            "colorbar": {
             "outlinewidth": 0,
             "ticks": ""
            },
            "colorscale": [
             [
              0,
              "#0d0887"
             ],
             [
              0.1111111111111111,
              "#46039f"
             ],
             [
              0.2222222222222222,
              "#7201a8"
             ],
             [
              0.3333333333333333,
              "#9c179e"
             ],
             [
              0.4444444444444444,
              "#bd3786"
             ],
             [
              0.5555555555555556,
              "#d8576b"
             ],
             [
              0.6666666666666666,
              "#ed7953"
             ],
             [
              0.7777777777777778,
              "#fb9f3a"
             ],
             [
              0.8888888888888888,
              "#fdca26"
             ],
             [
              1,
              "#f0f921"
             ]
            ],
            "type": "surface"
           }
          ],
          "table": [
           {
            "cells": {
             "fill": {
              "color": "#EBF0F8"
             },
             "line": {
              "color": "white"
             }
            },
            "header": {
             "fill": {
              "color": "#C8D4E3"
             },
             "line": {
              "color": "white"
             }
            },
            "type": "table"
           }
          ]
         },
         "layout": {
          "annotationdefaults": {
           "arrowcolor": "#2a3f5f",
           "arrowhead": 0,
           "arrowwidth": 1
          },
          "autotypenumbers": "strict",
          "coloraxis": {
           "colorbar": {
            "outlinewidth": 0,
            "ticks": ""
           }
          },
          "colorscale": {
           "diverging": [
            [
             0,
             "#8e0152"
            ],
            [
             0.1,
             "#c51b7d"
            ],
            [
             0.2,
             "#de77ae"
            ],
            [
             0.3,
             "#f1b6da"
            ],
            [
             0.4,
             "#fde0ef"
            ],
            [
             0.5,
             "#f7f7f7"
            ],
            [
             0.6,
             "#e6f5d0"
            ],
            [
             0.7,
             "#b8e186"
            ],
            [
             0.8,
             "#7fbc41"
            ],
            [
             0.9,
             "#4d9221"
            ],
            [
             1,
             "#276419"
            ]
           ],
           "sequential": [
            [
             0,
             "#0d0887"
            ],
            [
             0.1111111111111111,
             "#46039f"
            ],
            [
             0.2222222222222222,
             "#7201a8"
            ],
            [
             0.3333333333333333,
             "#9c179e"
            ],
            [
             0.4444444444444444,
             "#bd3786"
            ],
            [
             0.5555555555555556,
             "#d8576b"
            ],
            [
             0.6666666666666666,
             "#ed7953"
            ],
            [
             0.7777777777777778,
             "#fb9f3a"
            ],
            [
             0.8888888888888888,
             "#fdca26"
            ],
            [
             1,
             "#f0f921"
            ]
           ],
           "sequentialminus": [
            [
             0,
             "#0d0887"
            ],
            [
             0.1111111111111111,
             "#46039f"
            ],
            [
             0.2222222222222222,
             "#7201a8"
            ],
            [
             0.3333333333333333,
             "#9c179e"
            ],
            [
             0.4444444444444444,
             "#bd3786"
            ],
            [
             0.5555555555555556,
             "#d8576b"
            ],
            [
             0.6666666666666666,
             "#ed7953"
            ],
            [
             0.7777777777777778,
             "#fb9f3a"
            ],
            [
             0.8888888888888888,
             "#fdca26"
            ],
            [
             1,
             "#f0f921"
            ]
           ]
          },
          "colorway": [
           "#636efa",
           "#EF553B",
           "#00cc96",
           "#ab63fa",
           "#FFA15A",
           "#19d3f3",
           "#FF6692",
           "#B6E880",
           "#FF97FF",
           "#FECB52"
          ],
          "font": {
           "color": "#2a3f5f"
          },
          "geo": {
           "bgcolor": "white",
           "lakecolor": "white",
           "landcolor": "#E5ECF6",
           "showlakes": true,
           "showland": true,
           "subunitcolor": "white"
          },
          "hoverlabel": {
           "align": "left"
          },
          "hovermode": "closest",
          "mapbox": {
           "style": "light"
          },
          "paper_bgcolor": "white",
          "plot_bgcolor": "#E5ECF6",
          "polar": {
           "angularaxis": {
            "gridcolor": "white",
            "linecolor": "white",
            "ticks": ""
           },
           "bgcolor": "#E5ECF6",
           "radialaxis": {
            "gridcolor": "white",
            "linecolor": "white",
            "ticks": ""
           }
          },
          "scene": {
           "xaxis": {
            "backgroundcolor": "#E5ECF6",
            "gridcolor": "white",
            "gridwidth": 2,
            "linecolor": "white",
            "showbackground": true,
            "ticks": "",
            "zerolinecolor": "white"
           },
           "yaxis": {
            "backgroundcolor": "#E5ECF6",
            "gridcolor": "white",
            "gridwidth": 2,
            "linecolor": "white",
            "showbackground": true,
            "ticks": "",
            "zerolinecolor": "white"
           },
           "zaxis": {
            "backgroundcolor": "#E5ECF6",
            "gridcolor": "white",
            "gridwidth": 2,
            "linecolor": "white",
            "showbackground": true,
            "ticks": "",
            "zerolinecolor": "white"
           }
          },
          "shapedefaults": {
           "line": {
            "color": "#2a3f5f"
           }
          },
          "ternary": {
           "aaxis": {
            "gridcolor": "white",
            "linecolor": "white",
            "ticks": ""
           },
           "baxis": {
            "gridcolor": "white",
            "linecolor": "white",
            "ticks": ""
           },
           "bgcolor": "#E5ECF6",
           "caxis": {
            "gridcolor": "white",
            "linecolor": "white",
            "ticks": ""
           }
          },
          "title": {
           "x": 0.05
          },
          "xaxis": {
           "automargin": true,
           "gridcolor": "white",
           "linecolor": "white",
           "ticks": "",
           "title": {
            "standoff": 15
           },
           "zerolinecolor": "white",
           "zerolinewidth": 2
          },
          "yaxis": {
           "automargin": true,
           "gridcolor": "white",
           "linecolor": "white",
           "ticks": "",
           "title": {
            "standoff": 15
           },
           "zerolinecolor": "white",
           "zerolinewidth": 2
          }
         }
        },
        "xaxis": {
         "anchor": "y",
         "domain": [
          0,
          1
         ],
         "showgrid": false,
         "showline": false,
         "title": {
          "text": "Rides"
         }
        },
        "yaxis": {
         "anchor": "x",
         "domain": [
          0,
          1
         ],
         "title": {
          "text": "Start Station"
         }
        }
       }
      }
     },
     "metadata": {}
    }
   ],
   "source": [
    "fig_start = px.bar(ride_start1, x = 'rides', y = 'start_station_name')\n",
    "fig_start.update_xaxes(\n",
    "    title_text = 'Rides',\n",
    "    showline = False, showgrid = False\n",
    "    )\n",
    "fig_start.update_yaxes(\n",
    "    title_text = 'Start Station'\n",
    "    )\n",
    "fig_start.update_layout(plot_bgcolor='rgba(0,0,0,0)')\n",
    "fig_start.show()"
   ]
  },
  {
   "cell_type": "code",
   "execution_count": 182,
   "metadata": {},
   "outputs": [
    {
     "output_type": "execute_result",
     "data": {
      "text/plain": [
       "                                     end_station_name  rides\n",
       "0         Henry Bacon Dr & Lincoln Memorial Circle NW    659\n",
       "1                                    Lincoln Memorial    672\n",
       "2                            20th St & Florida Ave NW    682\n",
       "3           7th & F St NW / National Portrait Gallery    684\n",
       "4                      New Hampshire Ave & Ward Pl NW    684\n",
       "5                                       1st & K St SE    690\n",
       "6                              4th St & Madison Dr NW    698\n",
       "7                                       5th & K St NW    730\n",
       "8                                       3rd & M St NE    744\n",
       "9                                      11th & M St NW    748\n",
       "10                                      6th & H St NE    749\n",
       "11                          Jefferson Dr & 14th St SW    759\n",
       "12                                     15th & W St NW    778\n",
       "13                    Columbus Circle / Union Station    780\n",
       "14                                      4th & M St SW    790\n",
       "15                                      8th & O St NW    805\n",
       "16                                14th & Irving St NW    810\n",
       "17  Eastern Market Metro / Pennsylvania Ave & 8th ...    819\n",
       "18                              17th & Corcoran St NW    820\n",
       "19                                     14th & R St NW    846\n",
       "20               Massachusetts Ave & Dupont Circle NW    864\n",
       "21                                     14th & V St NW    939\n",
       "22                                      1st & M St NE    992\n",
       "23                        New Hampshire Ave & T St NW   1316\n",
       "24                                     15th & P St NW   1339"
      ],
      "text/html": "<div>\n<style scoped>\n    .dataframe tbody tr th:only-of-type {\n        vertical-align: middle;\n    }\n\n    .dataframe tbody tr th {\n        vertical-align: top;\n    }\n\n    .dataframe thead th {\n        text-align: right;\n    }\n</style>\n<table border=\"1\" class=\"dataframe\">\n  <thead>\n    <tr style=\"text-align: right;\">\n      <th></th>\n      <th>end_station_name</th>\n      <th>rides</th>\n    </tr>\n  </thead>\n  <tbody>\n    <tr>\n      <th>0</th>\n      <td>Henry Bacon Dr &amp; Lincoln Memorial Circle NW</td>\n      <td>659</td>\n    </tr>\n    <tr>\n      <th>1</th>\n      <td>Lincoln Memorial</td>\n      <td>672</td>\n    </tr>\n    <tr>\n      <th>2</th>\n      <td>20th St &amp; Florida Ave NW</td>\n      <td>682</td>\n    </tr>\n    <tr>\n      <th>3</th>\n      <td>7th &amp; F St NW / National Portrait Gallery</td>\n      <td>684</td>\n    </tr>\n    <tr>\n      <th>4</th>\n      <td>New Hampshire Ave &amp; Ward Pl NW</td>\n      <td>684</td>\n    </tr>\n    <tr>\n      <th>5</th>\n      <td>1st &amp; K St SE</td>\n      <td>690</td>\n    </tr>\n    <tr>\n      <th>6</th>\n      <td>4th St &amp; Madison Dr NW</td>\n      <td>698</td>\n    </tr>\n    <tr>\n      <th>7</th>\n      <td>5th &amp; K St NW</td>\n      <td>730</td>\n    </tr>\n    <tr>\n      <th>8</th>\n      <td>3rd &amp; M St NE</td>\n      <td>744</td>\n    </tr>\n    <tr>\n      <th>9</th>\n      <td>11th &amp; M St NW</td>\n      <td>748</td>\n    </tr>\n    <tr>\n      <th>10</th>\n      <td>6th &amp; H St NE</td>\n      <td>749</td>\n    </tr>\n    <tr>\n      <th>11</th>\n      <td>Jefferson Dr &amp; 14th St SW</td>\n      <td>759</td>\n    </tr>\n    <tr>\n      <th>12</th>\n      <td>15th &amp; W St NW</td>\n      <td>778</td>\n    </tr>\n    <tr>\n      <th>13</th>\n      <td>Columbus Circle / Union Station</td>\n      <td>780</td>\n    </tr>\n    <tr>\n      <th>14</th>\n      <td>4th &amp; M St SW</td>\n      <td>790</td>\n    </tr>\n    <tr>\n      <th>15</th>\n      <td>8th &amp; O St NW</td>\n      <td>805</td>\n    </tr>\n    <tr>\n      <th>16</th>\n      <td>14th &amp; Irving St NW</td>\n      <td>810</td>\n    </tr>\n    <tr>\n      <th>17</th>\n      <td>Eastern Market Metro / Pennsylvania Ave &amp; 8th ...</td>\n      <td>819</td>\n    </tr>\n    <tr>\n      <th>18</th>\n      <td>17th &amp; Corcoran St NW</td>\n      <td>820</td>\n    </tr>\n    <tr>\n      <th>19</th>\n      <td>14th &amp; R St NW</td>\n      <td>846</td>\n    </tr>\n    <tr>\n      <th>20</th>\n      <td>Massachusetts Ave &amp; Dupont Circle NW</td>\n      <td>864</td>\n    </tr>\n    <tr>\n      <th>21</th>\n      <td>14th &amp; V St NW</td>\n      <td>939</td>\n    </tr>\n    <tr>\n      <th>22</th>\n      <td>1st &amp; M St NE</td>\n      <td>992</td>\n    </tr>\n    <tr>\n      <th>23</th>\n      <td>New Hampshire Ave &amp; T St NW</td>\n      <td>1316</td>\n    </tr>\n    <tr>\n      <th>24</th>\n      <td>15th &amp; P St NW</td>\n      <td>1339</td>\n    </tr>\n  </tbody>\n</table>\n</div>"
     },
     "metadata": {},
     "execution_count": 182
    }
   ],
   "source": [
    "# Which 25 stations are most popular to end a bike ride? \n",
    "\n",
    "ride_end = df.end_station_name.value_counts()\n",
    "#ride_end.sort_values(ascending = False).head(25).plot(kind='barh')\n",
    "ride_end = ride_end.sort_values(ascending = False).head(25)\n",
    "ride_end = ride_end.sort_values(ascending = True)\n",
    "#ride_start = ride_start.sort_values(ascending = True).plot(kind='barh')\n",
    "ride_end1 = pd.DataFrame(ride_end).reset_index()\n",
    "ride_end1.columns = ['end_station_name', 'rides']\n",
    "ride_end1"
   ]
  },
  {
   "cell_type": "code",
   "execution_count": 183,
   "metadata": {},
   "outputs": [
    {
     "output_type": "display_data",
     "data": {
      "application/vnd.plotly.v1+json": {
       "config": {
        "plotlyServerURL": "https://plot.ly"
       },
       "data": [
        {
         "alignmentgroup": "True",
         "hovertemplate": "rides=%{x}<br>end_station_name=%{y}<extra></extra>",
         "legendgroup": "",
         "marker": {
          "color": "#636efa"
         },
         "name": "",
         "offsetgroup": "",
         "orientation": "h",
         "showlegend": false,
         "textposition": "auto",
         "type": "bar",
         "x": [
          659,
          672,
          682,
          684,
          684,
          690,
          698,
          730,
          744,
          748,
          749,
          759,
          778,
          780,
          790,
          805,
          810,
          819,
          820,
          846,
          864,
          939,
          992,
          1316,
          1339
         ],
         "xaxis": "x",
         "y": [
          "Henry Bacon Dr & Lincoln Memorial Circle NW",
          "Lincoln Memorial",
          "20th St & Florida Ave NW",
          "7th & F St NW / National Portrait Gallery",
          "New Hampshire Ave & Ward Pl NW",
          "1st & K St SE",
          "4th St & Madison Dr NW",
          "5th & K St NW",
          "3rd & M St NE",
          "11th & M St NW",
          "6th & H St NE",
          "Jefferson Dr & 14th St SW",
          "15th & W St NW",
          "Columbus Circle / Union Station",
          "4th & M St SW",
          "8th & O St NW",
          "14th & Irving St NW",
          "Eastern Market Metro / Pennsylvania Ave & 8th St SE",
          "17th & Corcoran St NW",
          "14th & R St NW",
          "Massachusetts Ave & Dupont Circle NW",
          "14th & V St NW",
          "1st & M St NE",
          "New Hampshire Ave & T St NW",
          "15th & P St NW"
         ],
         "yaxis": "y"
        }
       ],
       "layout": {
        "barmode": "relative",
        "legend": {
         "tracegroupgap": 0
        },
        "margin": {
         "t": 60
        },
        "plot_bgcolor": "rgba(0,0,0,0)",
        "template": {
         "data": {
          "bar": [
           {
            "error_x": {
             "color": "#2a3f5f"
            },
            "error_y": {
             "color": "#2a3f5f"
            },
            "marker": {
             "line": {
              "color": "#E5ECF6",
              "width": 0.5
             }
            },
            "type": "bar"
           }
          ],
          "barpolar": [
           {
            "marker": {
             "line": {
              "color": "#E5ECF6",
              "width": 0.5
             }
            },
            "type": "barpolar"
           }
          ],
          "carpet": [
           {
            "aaxis": {
             "endlinecolor": "#2a3f5f",
             "gridcolor": "white",
             "linecolor": "white",
             "minorgridcolor": "white",
             "startlinecolor": "#2a3f5f"
            },
            "baxis": {
             "endlinecolor": "#2a3f5f",
             "gridcolor": "white",
             "linecolor": "white",
             "minorgridcolor": "white",
             "startlinecolor": "#2a3f5f"
            },
            "type": "carpet"
           }
          ],
          "choropleth": [
           {
            "colorbar": {
             "outlinewidth": 0,
             "ticks": ""
            },
            "type": "choropleth"
           }
          ],
          "contour": [
           {
            "colorbar": {
             "outlinewidth": 0,
             "ticks": ""
            },
            "colorscale": [
             [
              0,
              "#0d0887"
             ],
             [
              0.1111111111111111,
              "#46039f"
             ],
             [
              0.2222222222222222,
              "#7201a8"
             ],
             [
              0.3333333333333333,
              "#9c179e"
             ],
             [
              0.4444444444444444,
              "#bd3786"
             ],
             [
              0.5555555555555556,
              "#d8576b"
             ],
             [
              0.6666666666666666,
              "#ed7953"
             ],
             [
              0.7777777777777778,
              "#fb9f3a"
             ],
             [
              0.8888888888888888,
              "#fdca26"
             ],
             [
              1,
              "#f0f921"
             ]
            ],
            "type": "contour"
           }
          ],
          "contourcarpet": [
           {
            "colorbar": {
             "outlinewidth": 0,
             "ticks": ""
            },
            "type": "contourcarpet"
           }
          ],
          "heatmap": [
           {
            "colorbar": {
             "outlinewidth": 0,
             "ticks": ""
            },
            "colorscale": [
             [
              0,
              "#0d0887"
             ],
             [
              0.1111111111111111,
              "#46039f"
             ],
             [
              0.2222222222222222,
              "#7201a8"
             ],
             [
              0.3333333333333333,
              "#9c179e"
             ],
             [
              0.4444444444444444,
              "#bd3786"
             ],
             [
              0.5555555555555556,
              "#d8576b"
             ],
             [
              0.6666666666666666,
              "#ed7953"
             ],
             [
              0.7777777777777778,
              "#fb9f3a"
             ],
             [
              0.8888888888888888,
              "#fdca26"
             ],
             [
              1,
              "#f0f921"
             ]
            ],
            "type": "heatmap"
           }
          ],
          "heatmapgl": [
           {
            "colorbar": {
             "outlinewidth": 0,
             "ticks": ""
            },
            "colorscale": [
             [
              0,
              "#0d0887"
             ],
             [
              0.1111111111111111,
              "#46039f"
             ],
             [
              0.2222222222222222,
              "#7201a8"
             ],
             [
              0.3333333333333333,
              "#9c179e"
             ],
             [
              0.4444444444444444,
              "#bd3786"
             ],
             [
              0.5555555555555556,
              "#d8576b"
             ],
             [
              0.6666666666666666,
              "#ed7953"
             ],
             [
              0.7777777777777778,
              "#fb9f3a"
             ],
             [
              0.8888888888888888,
              "#fdca26"
             ],
             [
              1,
              "#f0f921"
             ]
            ],
            "type": "heatmapgl"
           }
          ],
          "histogram": [
           {
            "marker": {
             "colorbar": {
              "outlinewidth": 0,
              "ticks": ""
             }
            },
            "type": "histogram"
           }
          ],
          "histogram2d": [
           {
            "colorbar": {
             "outlinewidth": 0,
             "ticks": ""
            },
            "colorscale": [
             [
              0,
              "#0d0887"
             ],
             [
              0.1111111111111111,
              "#46039f"
             ],
             [
              0.2222222222222222,
              "#7201a8"
             ],
             [
              0.3333333333333333,
              "#9c179e"
             ],
             [
              0.4444444444444444,
              "#bd3786"
             ],
             [
              0.5555555555555556,
              "#d8576b"
             ],
             [
              0.6666666666666666,
              "#ed7953"
             ],
             [
              0.7777777777777778,
              "#fb9f3a"
             ],
             [
              0.8888888888888888,
              "#fdca26"
             ],
             [
              1,
              "#f0f921"
             ]
            ],
            "type": "histogram2d"
           }
          ],
          "histogram2dcontour": [
           {
            "colorbar": {
             "outlinewidth": 0,
             "ticks": ""
            },
            "colorscale": [
             [
              0,
              "#0d0887"
             ],
             [
              0.1111111111111111,
              "#46039f"
             ],
             [
              0.2222222222222222,
              "#7201a8"
             ],
             [
              0.3333333333333333,
              "#9c179e"
             ],
             [
              0.4444444444444444,
              "#bd3786"
             ],
             [
              0.5555555555555556,
              "#d8576b"
             ],
             [
              0.6666666666666666,
              "#ed7953"
             ],
             [
              0.7777777777777778,
              "#fb9f3a"
             ],
             [
              0.8888888888888888,
              "#fdca26"
             ],
             [
              1,
              "#f0f921"
             ]
            ],
            "type": "histogram2dcontour"
           }
          ],
          "mesh3d": [
           {
            "colorbar": {
             "outlinewidth": 0,
             "ticks": ""
            },
            "type": "mesh3d"
           }
          ],
          "parcoords": [
           {
            "line": {
             "colorbar": {
              "outlinewidth": 0,
              "ticks": ""
             }
            },
            "type": "parcoords"
           }
          ],
          "pie": [
           {
            "automargin": true,
            "type": "pie"
           }
          ],
          "scatter": [
           {
            "marker": {
             "colorbar": {
              "outlinewidth": 0,
              "ticks": ""
             }
            },
            "type": "scatter"
           }
          ],
          "scatter3d": [
           {
            "line": {
             "colorbar": {
              "outlinewidth": 0,
              "ticks": ""
             }
            },
            "marker": {
             "colorbar": {
              "outlinewidth": 0,
              "ticks": ""
             }
            },
            "type": "scatter3d"
           }
          ],
          "scattercarpet": [
           {
            "marker": {
             "colorbar": {
              "outlinewidth": 0,
              "ticks": ""
             }
            },
            "type": "scattercarpet"
           }
          ],
          "scattergeo": [
           {
            "marker": {
             "colorbar": {
              "outlinewidth": 0,
              "ticks": ""
             }
            },
            "type": "scattergeo"
           }
          ],
          "scattergl": [
           {
            "marker": {
             "colorbar": {
              "outlinewidth": 0,
              "ticks": ""
             }
            },
            "type": "scattergl"
           }
          ],
          "scattermapbox": [
           {
            "marker": {
             "colorbar": {
              "outlinewidth": 0,
              "ticks": ""
             }
            },
            "type": "scattermapbox"
           }
          ],
          "scatterpolar": [
           {
            "marker": {
             "colorbar": {
              "outlinewidth": 0,
              "ticks": ""
             }
            },
            "type": "scatterpolar"
           }
          ],
          "scatterpolargl": [
           {
            "marker": {
             "colorbar": {
              "outlinewidth": 0,
              "ticks": ""
             }
            },
            "type": "scatterpolargl"
           }
          ],
          "scatterternary": [
           {
            "marker": {
             "colorbar": {
              "outlinewidth": 0,
              "ticks": ""
             }
            },
            "type": "scatterternary"
           }
          ],
          "surface": [
           {
            "colorbar": {
             "outlinewidth": 0,
             "ticks": ""
            },
            "colorscale": [
             [
              0,
              "#0d0887"
             ],
             [
              0.1111111111111111,
              "#46039f"
             ],
             [
              0.2222222222222222,
              "#7201a8"
             ],
             [
              0.3333333333333333,
              "#9c179e"
             ],
             [
              0.4444444444444444,
              "#bd3786"
             ],
             [
              0.5555555555555556,
              "#d8576b"
             ],
             [
              0.6666666666666666,
              "#ed7953"
             ],
             [
              0.7777777777777778,
              "#fb9f3a"
             ],
             [
              0.8888888888888888,
              "#fdca26"
             ],
             [
              1,
              "#f0f921"
             ]
            ],
            "type": "surface"
           }
          ],
          "table": [
           {
            "cells": {
             "fill": {
              "color": "#EBF0F8"
             },
             "line": {
              "color": "white"
             }
            },
            "header": {
             "fill": {
              "color": "#C8D4E3"
             },
             "line": {
              "color": "white"
             }
            },
            "type": "table"
           }
          ]
         },
         "layout": {
          "annotationdefaults": {
           "arrowcolor": "#2a3f5f",
           "arrowhead": 0,
           "arrowwidth": 1
          },
          "autotypenumbers": "strict",
          "coloraxis": {
           "colorbar": {
            "outlinewidth": 0,
            "ticks": ""
           }
          },
          "colorscale": {
           "diverging": [
            [
             0,
             "#8e0152"
            ],
            [
             0.1,
             "#c51b7d"
            ],
            [
             0.2,
             "#de77ae"
            ],
            [
             0.3,
             "#f1b6da"
            ],
            [
             0.4,
             "#fde0ef"
            ],
            [
             0.5,
             "#f7f7f7"
            ],
            [
             0.6,
             "#e6f5d0"
            ],
            [
             0.7,
             "#b8e186"
            ],
            [
             0.8,
             "#7fbc41"
            ],
            [
             0.9,
             "#4d9221"
            ],
            [
             1,
             "#276419"
            ]
           ],
           "sequential": [
            [
             0,
             "#0d0887"
            ],
            [
             0.1111111111111111,
             "#46039f"
            ],
            [
             0.2222222222222222,
             "#7201a8"
            ],
            [
             0.3333333333333333,
             "#9c179e"
            ],
            [
             0.4444444444444444,
             "#bd3786"
            ],
            [
             0.5555555555555556,
             "#d8576b"
            ],
            [
             0.6666666666666666,
             "#ed7953"
            ],
            [
             0.7777777777777778,
             "#fb9f3a"
            ],
            [
             0.8888888888888888,
             "#fdca26"
            ],
            [
             1,
             "#f0f921"
            ]
           ],
           "sequentialminus": [
            [
             0,
             "#0d0887"
            ],
            [
             0.1111111111111111,
             "#46039f"
            ],
            [
             0.2222222222222222,
             "#7201a8"
            ],
            [
             0.3333333333333333,
             "#9c179e"
            ],
            [
             0.4444444444444444,
             "#bd3786"
            ],
            [
             0.5555555555555556,
             "#d8576b"
            ],
            [
             0.6666666666666666,
             "#ed7953"
            ],
            [
             0.7777777777777778,
             "#fb9f3a"
            ],
            [
             0.8888888888888888,
             "#fdca26"
            ],
            [
             1,
             "#f0f921"
            ]
           ]
          },
          "colorway": [
           "#636efa",
           "#EF553B",
           "#00cc96",
           "#ab63fa",
           "#FFA15A",
           "#19d3f3",
           "#FF6692",
           "#B6E880",
           "#FF97FF",
           "#FECB52"
          ],
          "font": {
           "color": "#2a3f5f"
          },
          "geo": {
           "bgcolor": "white",
           "lakecolor": "white",
           "landcolor": "#E5ECF6",
           "showlakes": true,
           "showland": true,
           "subunitcolor": "white"
          },
          "hoverlabel": {
           "align": "left"
          },
          "hovermode": "closest",
          "mapbox": {
           "style": "light"
          },
          "paper_bgcolor": "white",
          "plot_bgcolor": "#E5ECF6",
          "polar": {
           "angularaxis": {
            "gridcolor": "white",
            "linecolor": "white",
            "ticks": ""
           },
           "bgcolor": "#E5ECF6",
           "radialaxis": {
            "gridcolor": "white",
            "linecolor": "white",
            "ticks": ""
           }
          },
          "scene": {
           "xaxis": {
            "backgroundcolor": "#E5ECF6",
            "gridcolor": "white",
            "gridwidth": 2,
            "linecolor": "white",
            "showbackground": true,
            "ticks": "",
            "zerolinecolor": "white"
           },
           "yaxis": {
            "backgroundcolor": "#E5ECF6",
            "gridcolor": "white",
            "gridwidth": 2,
            "linecolor": "white",
            "showbackground": true,
            "ticks": "",
            "zerolinecolor": "white"
           },
           "zaxis": {
            "backgroundcolor": "#E5ECF6",
            "gridcolor": "white",
            "gridwidth": 2,
            "linecolor": "white",
            "showbackground": true,
            "ticks": "",
            "zerolinecolor": "white"
           }
          },
          "shapedefaults": {
           "line": {
            "color": "#2a3f5f"
           }
          },
          "ternary": {
           "aaxis": {
            "gridcolor": "white",
            "linecolor": "white",
            "ticks": ""
           },
           "baxis": {
            "gridcolor": "white",
            "linecolor": "white",
            "ticks": ""
           },
           "bgcolor": "#E5ECF6",
           "caxis": {
            "gridcolor": "white",
            "linecolor": "white",
            "ticks": ""
           }
          },
          "title": {
           "x": 0.05
          },
          "xaxis": {
           "automargin": true,
           "gridcolor": "white",
           "linecolor": "white",
           "ticks": "",
           "title": {
            "standoff": 15
           },
           "zerolinecolor": "white",
           "zerolinewidth": 2
          },
          "yaxis": {
           "automargin": true,
           "gridcolor": "white",
           "linecolor": "white",
           "ticks": "",
           "title": {
            "standoff": 15
           },
           "zerolinecolor": "white",
           "zerolinewidth": 2
          }
         }
        },
        "xaxis": {
         "anchor": "y",
         "domain": [
          0,
          1
         ],
         "showgrid": false,
         "showline": false,
         "title": {
          "text": "Rides"
         }
        },
        "yaxis": {
         "anchor": "x",
         "domain": [
          0,
          1
         ],
         "title": {
          "text": "End Station"
         }
        }
       }
      }
     },
     "metadata": {}
    }
   ],
   "source": [
    "fig_end = px.bar(ride_end1, x = 'rides', y = 'end_station_name')\n",
    "fig_end.update_xaxes(\n",
    "    title_text = 'Rides',\n",
    "    showline = False, showgrid = False\n",
    "    )\n",
    "fig_end.update_yaxes(\n",
    "    title_text = 'End Station'\n",
    "    )\n",
    "fig_end.update_layout(plot_bgcolor='rgba(0,0,0,0)')\n",
    "fig_end.show()"
   ]
  },
  {
   "cell_type": "code",
   "execution_count": 184,
   "metadata": {},
   "outputs": [
    {
     "output_type": "execute_result",
     "data": {
      "text/plain": [
       "                    Ride Start  Start Sum                     Ride End  \\\n",
       "0  New Hampshire Ave & T St NW       1308               15th & P St NW   \n",
       "1               15th & P St NW       1155  New Hampshire Ave & T St NW   \n",
       "2          14th & Irving St NW       1046                1st & M St NE   \n",
       "\n",
       "   End Sum  \n",
       "0     1339  \n",
       "1     1316  \n",
       "2      992  "
      ],
      "text/html": "<div>\n<style scoped>\n    .dataframe tbody tr th:only-of-type {\n        vertical-align: middle;\n    }\n\n    .dataframe tbody tr th {\n        vertical-align: top;\n    }\n\n    .dataframe thead th {\n        text-align: right;\n    }\n</style>\n<table border=\"1\" class=\"dataframe\">\n  <thead>\n    <tr style=\"text-align: right;\">\n      <th></th>\n      <th>Ride Start</th>\n      <th>Start Sum</th>\n      <th>Ride End</th>\n      <th>End Sum</th>\n    </tr>\n  </thead>\n  <tbody>\n    <tr>\n      <th>0</th>\n      <td>New Hampshire Ave &amp; T St NW</td>\n      <td>1308</td>\n      <td>15th &amp; P St NW</td>\n      <td>1339</td>\n    </tr>\n    <tr>\n      <th>1</th>\n      <td>15th &amp; P St NW</td>\n      <td>1155</td>\n      <td>New Hampshire Ave &amp; T St NW</td>\n      <td>1316</td>\n    </tr>\n    <tr>\n      <th>2</th>\n      <td>14th &amp; Irving St NW</td>\n      <td>1046</td>\n      <td>1st &amp; M St NE</td>\n      <td>992</td>\n    </tr>\n  </tbody>\n</table>\n</div>"
     },
     "metadata": {},
     "execution_count": 184
    }
   ],
   "source": [
    "# This creates a dataframe with the 25 most popular start and end stations for bike rides.\n",
    "\n",
    "ride_start = df.start_station_name.value_counts().nlargest(25,'all')\n",
    "ride_end = df.end_station_name.value_counts().nlargest(25,'all')\n",
    "ride_end = pd.DataFrame(ride_end)\n",
    "ride_end.reset_index(inplace=True)\n",
    "ride_end.rename(columns = {'index':'Ride End', 'end_station_name':'End Sum'}, inplace = True) \n",
    "top_stations = ride_start.copy()\n",
    "top_stations = pd.DataFrame(top_stations)\n",
    "top_stations.reset_index(inplace=True)\n",
    "top_stations.rename(columns = {'index':'Ride Start', 'start_station_name':'Start Sum'}, inplace = True) \n",
    "top_stations['Ride End'] = ride_end['Ride End']\n",
    "top_stations['End Sum'] = ride_end['End Sum']\n",
    "top_stations.head(3)\n",
    "#top_stations.plot(kind='barh')"
   ]
  },
  {
   "cell_type": "code",
   "execution_count": 185,
   "metadata": {},
   "outputs": [
    {
     "output_type": "execute_result",
     "data": {
      "text/plain": [
       "            ride_id rideable_type           started_at             ended_at  \\\n",
       "0  C04E20007D039277   docked_bike  2020-12-02 09:10:36  2020-12-02 09:24:12   \n",
       "1  A488C0D9F4761D06  classic_bike  2020-12-31 12:46:29  2020-12-31 14:01:07   \n",
       "2  9E7E97A927A85552  classic_bike  2020-12-31 12:47:03  2020-12-31 14:01:04   \n",
       "\n",
       "              start_station_name  start_station_id  \\\n",
       "0       18th St & Wyoming Ave NW           31114.0   \n",
       "1  Potomac & Pennsylvania Ave SE           31606.0   \n",
       "2  Potomac & Pennsylvania Ave SE           31606.0   \n",
       "\n",
       "                end_station_name  end_station_id  start_lat  start_lng  \\\n",
       "0  18th St & Pennsylvania Ave NW         31242.0  38.918809 -77.041571   \n",
       "1  17th St & Independence Ave SW         31290.0  38.880300 -76.986200   \n",
       "2  17th St & Independence Ave SW         31290.0  38.880300 -76.986200   \n",
       "\n",
       "     end_lat    end_lng member_casual  \n",
       "0  38.899680 -77.041539        casual  \n",
       "1  38.888097 -77.038325        casual  \n",
       "2  38.888097 -77.038325        casual  "
      ],
      "text/html": "<div>\n<style scoped>\n    .dataframe tbody tr th:only-of-type {\n        vertical-align: middle;\n    }\n\n    .dataframe tbody tr th {\n        vertical-align: top;\n    }\n\n    .dataframe thead th {\n        text-align: right;\n    }\n</style>\n<table border=\"1\" class=\"dataframe\">\n  <thead>\n    <tr style=\"text-align: right;\">\n      <th></th>\n      <th>ride_id</th>\n      <th>rideable_type</th>\n      <th>started_at</th>\n      <th>ended_at</th>\n      <th>start_station_name</th>\n      <th>start_station_id</th>\n      <th>end_station_name</th>\n      <th>end_station_id</th>\n      <th>start_lat</th>\n      <th>start_lng</th>\n      <th>end_lat</th>\n      <th>end_lng</th>\n      <th>member_casual</th>\n    </tr>\n  </thead>\n  <tbody>\n    <tr>\n      <th>0</th>\n      <td>C04E20007D039277</td>\n      <td>docked_bike</td>\n      <td>2020-12-02 09:10:36</td>\n      <td>2020-12-02 09:24:12</td>\n      <td>18th St &amp; Wyoming Ave NW</td>\n      <td>31114.0</td>\n      <td>18th St &amp; Pennsylvania Ave NW</td>\n      <td>31242.0</td>\n      <td>38.918809</td>\n      <td>-77.041571</td>\n      <td>38.899680</td>\n      <td>-77.041539</td>\n      <td>casual</td>\n    </tr>\n    <tr>\n      <th>1</th>\n      <td>A488C0D9F4761D06</td>\n      <td>classic_bike</td>\n      <td>2020-12-31 12:46:29</td>\n      <td>2020-12-31 14:01:07</td>\n      <td>Potomac &amp; Pennsylvania Ave SE</td>\n      <td>31606.0</td>\n      <td>17th St &amp; Independence Ave SW</td>\n      <td>31290.0</td>\n      <td>38.880300</td>\n      <td>-76.986200</td>\n      <td>38.888097</td>\n      <td>-77.038325</td>\n      <td>casual</td>\n    </tr>\n    <tr>\n      <th>2</th>\n      <td>9E7E97A927A85552</td>\n      <td>classic_bike</td>\n      <td>2020-12-31 12:47:03</td>\n      <td>2020-12-31 14:01:04</td>\n      <td>Potomac &amp; Pennsylvania Ave SE</td>\n      <td>31606.0</td>\n      <td>17th St &amp; Independence Ave SW</td>\n      <td>31290.0</td>\n      <td>38.880300</td>\n      <td>-76.986200</td>\n      <td>38.888097</td>\n      <td>-77.038325</td>\n      <td>casual</td>\n    </tr>\n  </tbody>\n</table>\n</div>"
     },
     "metadata": {},
     "execution_count": 185
    }
   ],
   "source": [
    "df.head(3)"
   ]
  },
  {
   "cell_type": "code",
   "execution_count": 186,
   "metadata": {},
   "outputs": [
    {
     "output_type": "execute_result",
     "data": {
      "text/plain": [
       "                                    start_station_name  start_station_id  \\\n",
       "0                             18th St & Wyoming Ave NW           31114.0   \n",
       "1                        Potomac & Pennsylvania Ave SE           31606.0   \n",
       "2                                Wakefield High School           31054.0   \n",
       "3    Washington-Liberty High School / N Stafford St...           31920.0   \n",
       "4                         3rd St & Pennsylvania Ave SE           31269.0   \n",
       "..                                                 ...               ...   \n",
       "606  Baltimore Ave & Van Buren St / Riverdale Park ...           32402.0   \n",
       "607                                      47th & Elm St           32021.0   \n",
       "608                      Greensboro & International Dr           32221.0   \n",
       "609                    New Dominion Pkwy & Fountain Dr           32212.0   \n",
       "610                         Tysons West Transit Center           32208.0   \n",
       "\n",
       "     start_lat  start_lng  \n",
       "0    38.918809 -77.041571  \n",
       "1    38.880300 -76.986200  \n",
       "2    38.847129 -77.112550  \n",
       "3    38.888282 -77.111066  \n",
       "4    38.887378 -77.001955  \n",
       "..         ...        ...  \n",
       "606  38.969581 -76.937349  \n",
       "607  38.982456 -77.091991  \n",
       "608  38.922864 -77.227679  \n",
       "609  38.960574 -77.356324  \n",
       "610  38.932636 -77.231825  \n",
       "\n",
       "[611 rows x 4 columns]"
      ],
      "text/html": "<div>\n<style scoped>\n    .dataframe tbody tr th:only-of-type {\n        vertical-align: middle;\n    }\n\n    .dataframe tbody tr th {\n        vertical-align: top;\n    }\n\n    .dataframe thead th {\n        text-align: right;\n    }\n</style>\n<table border=\"1\" class=\"dataframe\">\n  <thead>\n    <tr style=\"text-align: right;\">\n      <th></th>\n      <th>start_station_name</th>\n      <th>start_station_id</th>\n      <th>start_lat</th>\n      <th>start_lng</th>\n    </tr>\n  </thead>\n  <tbody>\n    <tr>\n      <th>0</th>\n      <td>18th St &amp; Wyoming Ave NW</td>\n      <td>31114.0</td>\n      <td>38.918809</td>\n      <td>-77.041571</td>\n    </tr>\n    <tr>\n      <th>1</th>\n      <td>Potomac &amp; Pennsylvania Ave SE</td>\n      <td>31606.0</td>\n      <td>38.880300</td>\n      <td>-76.986200</td>\n    </tr>\n    <tr>\n      <th>2</th>\n      <td>Wakefield High School</td>\n      <td>31054.0</td>\n      <td>38.847129</td>\n      <td>-77.112550</td>\n    </tr>\n    <tr>\n      <th>3</th>\n      <td>Washington-Liberty High School / N Stafford St...</td>\n      <td>31920.0</td>\n      <td>38.888282</td>\n      <td>-77.111066</td>\n    </tr>\n    <tr>\n      <th>4</th>\n      <td>3rd St &amp; Pennsylvania Ave SE</td>\n      <td>31269.0</td>\n      <td>38.887378</td>\n      <td>-77.001955</td>\n    </tr>\n    <tr>\n      <th>...</th>\n      <td>...</td>\n      <td>...</td>\n      <td>...</td>\n      <td>...</td>\n    </tr>\n    <tr>\n      <th>606</th>\n      <td>Baltimore Ave &amp; Van Buren St / Riverdale Park ...</td>\n      <td>32402.0</td>\n      <td>38.969581</td>\n      <td>-76.937349</td>\n    </tr>\n    <tr>\n      <th>607</th>\n      <td>47th &amp; Elm St</td>\n      <td>32021.0</td>\n      <td>38.982456</td>\n      <td>-77.091991</td>\n    </tr>\n    <tr>\n      <th>608</th>\n      <td>Greensboro &amp; International Dr</td>\n      <td>32221.0</td>\n      <td>38.922864</td>\n      <td>-77.227679</td>\n    </tr>\n    <tr>\n      <th>609</th>\n      <td>New Dominion Pkwy &amp; Fountain Dr</td>\n      <td>32212.0</td>\n      <td>38.960574</td>\n      <td>-77.356324</td>\n    </tr>\n    <tr>\n      <th>610</th>\n      <td>Tysons West Transit Center</td>\n      <td>32208.0</td>\n      <td>38.932636</td>\n      <td>-77.231825</td>\n    </tr>\n  </tbody>\n</table>\n<p>611 rows × 4 columns</p>\n</div>"
     },
     "metadata": {},
     "execution_count": 186
    }
   ],
   "source": [
    "# The station data appears to have multiple slightly different entries for latitude and longitude. \n",
    "# This code part takes reduces all specific station information to a dataframe without duplicates.\n",
    "\n",
    "df_unique_addresses = df.copy()\n",
    "df_unique_addresses = df_unique_addresses[['start_station_name', 'start_station_id', 'start_lat', 'start_lng']]\n",
    "df_unique_addresses = df_unique_addresses.drop_duplicates(subset=['start_station_id'], ignore_index=True)\n",
    "df_unique_addresses"
   ]
  },
  {
   "cell_type": "code",
   "execution_count": 187,
   "metadata": {},
   "outputs": [
    {
     "output_type": "execute_result",
     "data": {
      "text/plain": [
       "                 start_station  start_count  station_id\n",
       "0  New Hampshire Ave & T St NW         1308     31229.0\n",
       "1               15th & P St NW         1155     31201.0\n",
       "2          14th & Irving St NW         1046     31124.0"
      ],
      "text/html": "<div>\n<style scoped>\n    .dataframe tbody tr th:only-of-type {\n        vertical-align: middle;\n    }\n\n    .dataframe tbody tr th {\n        vertical-align: top;\n    }\n\n    .dataframe thead th {\n        text-align: right;\n    }\n</style>\n<table border=\"1\" class=\"dataframe\">\n  <thead>\n    <tr style=\"text-align: right;\">\n      <th></th>\n      <th>start_station</th>\n      <th>start_count</th>\n      <th>station_id</th>\n    </tr>\n  </thead>\n  <tbody>\n    <tr>\n      <th>0</th>\n      <td>New Hampshire Ave &amp; T St NW</td>\n      <td>1308</td>\n      <td>31229.0</td>\n    </tr>\n    <tr>\n      <th>1</th>\n      <td>15th &amp; P St NW</td>\n      <td>1155</td>\n      <td>31201.0</td>\n    </tr>\n    <tr>\n      <th>2</th>\n      <td>14th &amp; Irving St NW</td>\n      <td>1046</td>\n      <td>31124.0</td>\n    </tr>\n  </tbody>\n</table>\n</div>"
     },
     "metadata": {},
     "execution_count": 187
    }
   ],
   "source": [
    "# Building a dataframe with only the necessary information for the 25 top start stations\n",
    "\n",
    "df_main_start_stations_id = df['start_station_id'].value_counts().nlargest(25,'all')\n",
    "df_main_start_stations = df['start_station_name'].value_counts().nlargest(25,'all')\n",
    "df_main_start_stations_id = pd.DataFrame(df_main_start_stations_id)\n",
    "df_main_start_stations = pd.DataFrame(df_main_start_stations)\n",
    "df_main_start_stations_id.reset_index(inplace=True)\n",
    "df_main_start_stations.reset_index(inplace=True)\n",
    "df_main_start_stations.columns = ['start_station', 'start_count']\n",
    "df_main_start_stations_id.columns = ['start_station_id', 'start_count']\n",
    "df_main_start_stations['station_id'] = df_main_start_stations_id.start_station_id\n",
    "df_main_start_stations.head(3)"
   ]
  },
  {
   "cell_type": "code",
   "execution_count": 188,
   "metadata": {},
   "outputs": [],
   "source": [
    "# for j in df_main_start_stations.station_id:\n",
    "#     print(j, df_main_start_stations[df_main_start_stations['station_id'] == j])"
   ]
  },
  {
   "cell_type": "code",
   "execution_count": 189,
   "metadata": {},
   "outputs": [
    {
     "output_type": "stream",
     "name": "stdout",
     "text": [
      "    start_station_name  start_station_id  start_lat  start_lng\n284                NaN               NaN      38.89     -77.04\n"
     ]
    }
   ],
   "source": [
    "# Looking for NaN values and getting rid of them\n",
    "\n",
    "print(df_unique_addresses[df_unique_addresses['start_station_id'].isnull() == True])"
   ]
  },
  {
   "cell_type": "code",
   "execution_count": 190,
   "metadata": {},
   "outputs": [
    {
     "output_type": "execute_result",
     "data": {
      "text/plain": [
       "(610, 4)"
      ]
     },
     "metadata": {},
     "execution_count": 190
    }
   ],
   "source": [
    "df_unique_addresses = df_unique_addresses.dropna()\n",
    "df_unique_addresses.shape"
   ]
  },
  {
   "cell_type": "code",
   "execution_count": 191,
   "metadata": {
    "tags": []
   },
   "outputs": [],
   "source": [
    "# Correcting the multiple different entries for latitude and longitude per station \n",
    "# by inserting this values from the straightened dataframe df_unique_addresses\n",
    "\n",
    "df_lat = []\n",
    "df_long = []\n",
    "df_stat_id = []\n",
    "for j in df_main_start_stations.station_id:\n",
    "    for i in range(len(df_unique_addresses)):\n",
    "        if j == float(df_unique_addresses.start_station_id.iloc[i]):\n",
    "            df_lat.append(df_unique_addresses['start_lat'][i])\n",
    "            df_long.append(df_unique_addresses['start_lng'][i])\n",
    "            df_stat_id.append(df_unique_addresses['start_station_id'][i])"
   ]
  },
  {
   "cell_type": "code",
   "execution_count": 192,
   "metadata": {},
   "outputs": [
    {
     "output_type": "execute_result",
     "data": {
      "text/plain": [
       "Index(['id', 'lat', 'lon'], dtype='object')"
      ]
     },
     "metadata": {},
     "execution_count": 192
    }
   ],
   "source": [
    "df_lat = pd.DataFrame(df_lat)\n",
    "df_long = pd.DataFrame(df_long)\n",
    "df_stat_id = pd.DataFrame(df_stat_id)\n",
    "df_test = df_stat_id\n",
    "df_test['lat'] = df_lat\n",
    "df_test['lon'] = df_long\n",
    "df_test.columns = ['id', 'lat', 'lon']\n",
    "df_test.columns"
   ]
  },
  {
   "cell_type": "code",
   "execution_count": 193,
   "metadata": {},
   "outputs": [],
   "source": [
    "df_main_start_stations['lat'] = df_test.lat\n",
    "df_main_start_stations['lon'] = df_test.lon"
   ]
  },
  {
   "cell_type": "code",
   "execution_count": 194,
   "metadata": {},
   "outputs": [
    {
     "output_type": "execute_result",
     "data": {
      "text/plain": [
       "                 start_station  start_count  station_id        lat        lon\n",
       "0  New Hampshire Ave & T St NW         1308     31229.0  38.915544 -77.038252\n",
       "1               15th & P St NW         1155     31201.0  38.888255 -77.049437\n",
       "2          14th & Irving St NW         1046     31124.0  38.928552 -77.032224"
      ],
      "text/html": "<div>\n<style scoped>\n    .dataframe tbody tr th:only-of-type {\n        vertical-align: middle;\n    }\n\n    .dataframe tbody tr th {\n        vertical-align: top;\n    }\n\n    .dataframe thead th {\n        text-align: right;\n    }\n</style>\n<table border=\"1\" class=\"dataframe\">\n  <thead>\n    <tr style=\"text-align: right;\">\n      <th></th>\n      <th>start_station</th>\n      <th>start_count</th>\n      <th>station_id</th>\n      <th>lat</th>\n      <th>lon</th>\n    </tr>\n  </thead>\n  <tbody>\n    <tr>\n      <th>0</th>\n      <td>New Hampshire Ave &amp; T St NW</td>\n      <td>1308</td>\n      <td>31229.0</td>\n      <td>38.915544</td>\n      <td>-77.038252</td>\n    </tr>\n    <tr>\n      <th>1</th>\n      <td>15th &amp; P St NW</td>\n      <td>1155</td>\n      <td>31201.0</td>\n      <td>38.888255</td>\n      <td>-77.049437</td>\n    </tr>\n    <tr>\n      <th>2</th>\n      <td>14th &amp; Irving St NW</td>\n      <td>1046</td>\n      <td>31124.0</td>\n      <td>38.928552</td>\n      <td>-77.032224</td>\n    </tr>\n  </tbody>\n</table>\n</div>"
     },
     "metadata": {},
     "execution_count": 194
    }
   ],
   "source": [
    "# This is the result: a dataframe with unified latitude and longitude values\n",
    "\n",
    "df_main_start_stations.head(3)"
   ]
  },
  {
   "cell_type": "code",
   "execution_count": 195,
   "metadata": {},
   "outputs": [
    {
     "output_type": "display_data",
     "data": {
      "application/vnd.plotly.v1+json": {
       "config": {
        "plotlyServerURL": "https://plot.ly"
       },
       "data": [
        {
         "hovertemplate": "<b>%{hovertext}</b><br><br>lat=%{lat}<br>lon=%{lon}<extra></extra>",
         "hovertext": [
          "New Hampshire Ave & T St NW",
          "15th & P St NW",
          "14th & Irving St NW",
          "1st & M St NE",
          "11th & M St NW",
          "8th & O St NW",
          "Lincoln Memorial",
          "Jefferson Dr & 14th St SW",
          "14th & V St NW",
          "4th & M St SW",
          "4th St & Madison Dr NW",
          "Thomas Circle",
          "15th & W St NW",
          "Eastern Market Metro / Pennsylvania Ave & 8th St SE",
          "15th & Euclid St  NW",
          "17th & Corcoran St NW",
          "5th & K St NW",
          "Adams Mill & Columbia Rd NW",
          "Massachusetts Ave & Dupont Circle NW",
          "Columbus Circle / Union Station",
          "16th & Harvard St NW",
          "14th & R St NW",
          "14th & Belmont St NW",
          "3rd & M St NE",
          "20th St & Florida Ave NW"
         ],
         "lat": [
          38.915544,
          38.888255,
          38.928552,
          38.90574,
          38.905578000000006,
          38.908640000000005,
          39.03920516666667,
          38.890863,
          38.901755,
          38.876649,
          38.890496,
          38.853002000000004,
          38.9190185,
          38.899632000000004,
          38.89052933333333,
          38.9059,
          38.876893,
          38.923092166666656,
          38.910086166666666,
          38.89696,
          38.89610683333333,
          38.913046,
          38.905483833333335,
          38.921074,
          38.9154
         ],
         "legendgroup": "",
         "lon": [
          -77.038252,
          -77.049437,
          -77.032224,
          -77.00544649999999,
          -77.027313,
          -77.02277,
          -76.99178616666667,
          -77.074893,
          -77.051084,
          -77.01788883333333,
          -77.017247,
          -77.059496,
          -77.034449,
          -77.031686,
          -77.08479466666667,
          -77.0325,
          -77.006072,
          -77.0425385,
          -77.04426550000001,
          -77.00493,
          -77.04976833333333,
          -77.03200799999999,
          -77.00212633333334,
          -77.031887,
          -77.0446
         ],
         "marker": {
          "color": "red"
         },
         "mode": "markers",
         "name": "",
         "showlegend": false,
         "subplot": "mapbox",
         "type": "scattermapbox"
        }
       ],
       "layout": {
        "legend": {
         "tracegroupgap": 0
        },
        "mapbox": {
         "center": {
          "lat": 38.907100039999996,
          "lon": -77.03317851333333
         },
         "domain": {
          "x": [
           0,
           1
          ],
          "y": [
           0,
           1
          ]
         },
         "style": "open-street-map",
         "zoom": 11
        },
        "margin": {
         "b": 0,
         "l": 0,
         "r": 0,
         "t": 0
        },
        "template": {
         "data": {
          "bar": [
           {
            "error_x": {
             "color": "#2a3f5f"
            },
            "error_y": {
             "color": "#2a3f5f"
            },
            "marker": {
             "line": {
              "color": "#E5ECF6",
              "width": 0.5
             }
            },
            "type": "bar"
           }
          ],
          "barpolar": [
           {
            "marker": {
             "line": {
              "color": "#E5ECF6",
              "width": 0.5
             }
            },
            "type": "barpolar"
           }
          ],
          "carpet": [
           {
            "aaxis": {
             "endlinecolor": "#2a3f5f",
             "gridcolor": "white",
             "linecolor": "white",
             "minorgridcolor": "white",
             "startlinecolor": "#2a3f5f"
            },
            "baxis": {
             "endlinecolor": "#2a3f5f",
             "gridcolor": "white",
             "linecolor": "white",
             "minorgridcolor": "white",
             "startlinecolor": "#2a3f5f"
            },
            "type": "carpet"
           }
          ],
          "choropleth": [
           {
            "colorbar": {
             "outlinewidth": 0,
             "ticks": ""
            },
            "type": "choropleth"
           }
          ],
          "contour": [
           {
            "colorbar": {
             "outlinewidth": 0,
             "ticks": ""
            },
            "colorscale": [
             [
              0,
              "#0d0887"
             ],
             [
              0.1111111111111111,
              "#46039f"
             ],
             [
              0.2222222222222222,
              "#7201a8"
             ],
             [
              0.3333333333333333,
              "#9c179e"
             ],
             [
              0.4444444444444444,
              "#bd3786"
             ],
             [
              0.5555555555555556,
              "#d8576b"
             ],
             [
              0.6666666666666666,
              "#ed7953"
             ],
             [
              0.7777777777777778,
              "#fb9f3a"
             ],
             [
              0.8888888888888888,
              "#fdca26"
             ],
             [
              1,
              "#f0f921"
             ]
            ],
            "type": "contour"
           }
          ],
          "contourcarpet": [
           {
            "colorbar": {
             "outlinewidth": 0,
             "ticks": ""
            },
            "type": "contourcarpet"
           }
          ],
          "heatmap": [
           {
            "colorbar": {
             "outlinewidth": 0,
             "ticks": ""
            },
            "colorscale": [
             [
              0,
              "#0d0887"
             ],
             [
              0.1111111111111111,
              "#46039f"
             ],
             [
              0.2222222222222222,
              "#7201a8"
             ],
             [
              0.3333333333333333,
              "#9c179e"
             ],
             [
              0.4444444444444444,
              "#bd3786"
             ],
             [
              0.5555555555555556,
              "#d8576b"
             ],
             [
              0.6666666666666666,
              "#ed7953"
             ],
             [
              0.7777777777777778,
              "#fb9f3a"
             ],
             [
              0.8888888888888888,
              "#fdca26"
             ],
             [
              1,
              "#f0f921"
             ]
            ],
            "type": "heatmap"
           }
          ],
          "heatmapgl": [
           {
            "colorbar": {
             "outlinewidth": 0,
             "ticks": ""
            },
            "colorscale": [
             [
              0,
              "#0d0887"
             ],
             [
              0.1111111111111111,
              "#46039f"
             ],
             [
              0.2222222222222222,
              "#7201a8"
             ],
             [
              0.3333333333333333,
              "#9c179e"
             ],
             [
              0.4444444444444444,
              "#bd3786"
             ],
             [
              0.5555555555555556,
              "#d8576b"
             ],
             [
              0.6666666666666666,
              "#ed7953"
             ],
             [
              0.7777777777777778,
              "#fb9f3a"
             ],
             [
              0.8888888888888888,
              "#fdca26"
             ],
             [
              1,
              "#f0f921"
             ]
            ],
            "type": "heatmapgl"
           }
          ],
          "histogram": [
           {
            "marker": {
             "colorbar": {
              "outlinewidth": 0,
              "ticks": ""
             }
            },
            "type": "histogram"
           }
          ],
          "histogram2d": [
           {
            "colorbar": {
             "outlinewidth": 0,
             "ticks": ""
            },
            "colorscale": [
             [
              0,
              "#0d0887"
             ],
             [
              0.1111111111111111,
              "#46039f"
             ],
             [
              0.2222222222222222,
              "#7201a8"
             ],
             [
              0.3333333333333333,
              "#9c179e"
             ],
             [
              0.4444444444444444,
              "#bd3786"
             ],
             [
              0.5555555555555556,
              "#d8576b"
             ],
             [
              0.6666666666666666,
              "#ed7953"
             ],
             [
              0.7777777777777778,
              "#fb9f3a"
             ],
             [
              0.8888888888888888,
              "#fdca26"
             ],
             [
              1,
              "#f0f921"
             ]
            ],
            "type": "histogram2d"
           }
          ],
          "histogram2dcontour": [
           {
            "colorbar": {
             "outlinewidth": 0,
             "ticks": ""
            },
            "colorscale": [
             [
              0,
              "#0d0887"
             ],
             [
              0.1111111111111111,
              "#46039f"
             ],
             [
              0.2222222222222222,
              "#7201a8"
             ],
             [
              0.3333333333333333,
              "#9c179e"
             ],
             [
              0.4444444444444444,
              "#bd3786"
             ],
             [
              0.5555555555555556,
              "#d8576b"
             ],
             [
              0.6666666666666666,
              "#ed7953"
             ],
             [
              0.7777777777777778,
              "#fb9f3a"
             ],
             [
              0.8888888888888888,
              "#fdca26"
             ],
             [
              1,
              "#f0f921"
             ]
            ],
            "type": "histogram2dcontour"
           }
          ],
          "mesh3d": [
           {
            "colorbar": {
             "outlinewidth": 0,
             "ticks": ""
            },
            "type": "mesh3d"
           }
          ],
          "parcoords": [
           {
            "line": {
             "colorbar": {
              "outlinewidth": 0,
              "ticks": ""
             }
            },
            "type": "parcoords"
           }
          ],
          "pie": [
           {
            "automargin": true,
            "type": "pie"
           }
          ],
          "scatter": [
           {
            "marker": {
             "colorbar": {
              "outlinewidth": 0,
              "ticks": ""
             }
            },
            "type": "scatter"
           }
          ],
          "scatter3d": [
           {
            "line": {
             "colorbar": {
              "outlinewidth": 0,
              "ticks": ""
             }
            },
            "marker": {
             "colorbar": {
              "outlinewidth": 0,
              "ticks": ""
             }
            },
            "type": "scatter3d"
           }
          ],
          "scattercarpet": [
           {
            "marker": {
             "colorbar": {
              "outlinewidth": 0,
              "ticks": ""
             }
            },
            "type": "scattercarpet"
           }
          ],
          "scattergeo": [
           {
            "marker": {
             "colorbar": {
              "outlinewidth": 0,
              "ticks": ""
             }
            },
            "type": "scattergeo"
           }
          ],
          "scattergl": [
           {
            "marker": {
             "colorbar": {
              "outlinewidth": 0,
              "ticks": ""
             }
            },
            "type": "scattergl"
           }
          ],
          "scattermapbox": [
           {
            "marker": {
             "colorbar": {
              "outlinewidth": 0,
              "ticks": ""
             }
            },
            "type": "scattermapbox"
           }
          ],
          "scatterpolar": [
           {
            "marker": {
             "colorbar": {
              "outlinewidth": 0,
              "ticks": ""
             }
            },
            "type": "scatterpolar"
           }
          ],
          "scatterpolargl": [
           {
            "marker": {
             "colorbar": {
              "outlinewidth": 0,
              "ticks": ""
             }
            },
            "type": "scatterpolargl"
           }
          ],
          "scatterternary": [
           {
            "marker": {
             "colorbar": {
              "outlinewidth": 0,
              "ticks": ""
             }
            },
            "type": "scatterternary"
           }
          ],
          "surface": [
           {
            "colorbar": {
             "outlinewidth": 0,
             "ticks": ""
            },
            "colorscale": [
             [
              0,
              "#0d0887"
             ],
             [
              0.1111111111111111,
              "#46039f"
             ],
             [
              0.2222222222222222,
              "#7201a8"
             ],
             [
              0.3333333333333333,
              "#9c179e"
             ],
             [
              0.4444444444444444,
              "#bd3786"
             ],
             [
              0.5555555555555556,
              "#d8576b"
             ],
             [
              0.6666666666666666,
              "#ed7953"
             ],
             [
              0.7777777777777778,
              "#fb9f3a"
             ],
             [
              0.8888888888888888,
              "#fdca26"
             ],
             [
              1,
              "#f0f921"
             ]
            ],
            "type": "surface"
           }
          ],
          "table": [
           {
            "cells": {
             "fill": {
              "color": "#EBF0F8"
             },
             "line": {
              "color": "white"
             }
            },
            "header": {
             "fill": {
              "color": "#C8D4E3"
             },
             "line": {
              "color": "white"
             }
            },
            "type": "table"
           }
          ]
         },
         "layout": {
          "annotationdefaults": {
           "arrowcolor": "#2a3f5f",
           "arrowhead": 0,
           "arrowwidth": 1
          },
          "autotypenumbers": "strict",
          "coloraxis": {
           "colorbar": {
            "outlinewidth": 0,
            "ticks": ""
           }
          },
          "colorscale": {
           "diverging": [
            [
             0,
             "#8e0152"
            ],
            [
             0.1,
             "#c51b7d"
            ],
            [
             0.2,
             "#de77ae"
            ],
            [
             0.3,
             "#f1b6da"
            ],
            [
             0.4,
             "#fde0ef"
            ],
            [
             0.5,
             "#f7f7f7"
            ],
            [
             0.6,
             "#e6f5d0"
            ],
            [
             0.7,
             "#b8e186"
            ],
            [
             0.8,
             "#7fbc41"
            ],
            [
             0.9,
             "#4d9221"
            ],
            [
             1,
             "#276419"
            ]
           ],
           "sequential": [
            [
             0,
             "#0d0887"
            ],
            [
             0.1111111111111111,
             "#46039f"
            ],
            [
             0.2222222222222222,
             "#7201a8"
            ],
            [
             0.3333333333333333,
             "#9c179e"
            ],
            [
             0.4444444444444444,
             "#bd3786"
            ],
            [
             0.5555555555555556,
             "#d8576b"
            ],
            [
             0.6666666666666666,
             "#ed7953"
            ],
            [
             0.7777777777777778,
             "#fb9f3a"
            ],
            [
             0.8888888888888888,
             "#fdca26"
            ],
            [
             1,
             "#f0f921"
            ]
           ],
           "sequentialminus": [
            [
             0,
             "#0d0887"
            ],
            [
             0.1111111111111111,
             "#46039f"
            ],
            [
             0.2222222222222222,
             "#7201a8"
            ],
            [
             0.3333333333333333,
             "#9c179e"
            ],
            [
             0.4444444444444444,
             "#bd3786"
            ],
            [
             0.5555555555555556,
             "#d8576b"
            ],
            [
             0.6666666666666666,
             "#ed7953"
            ],
            [
             0.7777777777777778,
             "#fb9f3a"
            ],
            [
             0.8888888888888888,
             "#fdca26"
            ],
            [
             1,
             "#f0f921"
            ]
           ]
          },
          "colorway": [
           "#636efa",
           "#EF553B",
           "#00cc96",
           "#ab63fa",
           "#FFA15A",
           "#19d3f3",
           "#FF6692",
           "#B6E880",
           "#FF97FF",
           "#FECB52"
          ],
          "font": {
           "color": "#2a3f5f"
          },
          "geo": {
           "bgcolor": "white",
           "lakecolor": "white",
           "landcolor": "#E5ECF6",
           "showlakes": true,
           "showland": true,
           "subunitcolor": "white"
          },
          "hoverlabel": {
           "align": "left"
          },
          "hovermode": "closest",
          "mapbox": {
           "style": "light"
          },
          "paper_bgcolor": "white",
          "plot_bgcolor": "#E5ECF6",
          "polar": {
           "angularaxis": {
            "gridcolor": "white",
            "linecolor": "white",
            "ticks": ""
           },
           "bgcolor": "#E5ECF6",
           "radialaxis": {
            "gridcolor": "white",
            "linecolor": "white",
            "ticks": ""
           }
          },
          "scene": {
           "xaxis": {
            "backgroundcolor": "#E5ECF6",
            "gridcolor": "white",
            "gridwidth": 2,
            "linecolor": "white",
            "showbackground": true,
            "ticks": "",
            "zerolinecolor": "white"
           },
           "yaxis": {
            "backgroundcolor": "#E5ECF6",
            "gridcolor": "white",
            "gridwidth": 2,
            "linecolor": "white",
            "showbackground": true,
            "ticks": "",
            "zerolinecolor": "white"
           },
           "zaxis": {
            "backgroundcolor": "#E5ECF6",
            "gridcolor": "white",
            "gridwidth": 2,
            "linecolor": "white",
            "showbackground": true,
            "ticks": "",
            "zerolinecolor": "white"
           }
          },
          "shapedefaults": {
           "line": {
            "color": "#2a3f5f"
           }
          },
          "ternary": {
           "aaxis": {
            "gridcolor": "white",
            "linecolor": "white",
            "ticks": ""
           },
           "baxis": {
            "gridcolor": "white",
            "linecolor": "white",
            "ticks": ""
           },
           "bgcolor": "#E5ECF6",
           "caxis": {
            "gridcolor": "white",
            "linecolor": "white",
            "ticks": ""
           }
          },
          "title": {
           "x": 0.05
          },
          "xaxis": {
           "automargin": true,
           "gridcolor": "white",
           "linecolor": "white",
           "ticks": "",
           "title": {
            "standoff": 15
           },
           "zerolinecolor": "white",
           "zerolinewidth": 2
          },
          "yaxis": {
           "automargin": true,
           "gridcolor": "white",
           "linecolor": "white",
           "ticks": "",
           "title": {
            "standoff": 15
           },
           "zerolinecolor": "white",
           "zerolinewidth": 2
          }
         }
        }
       }
      }
     },
     "metadata": {}
    }
   ],
   "source": [
    "# This is how the top start stations are distributed \n",
    "\n",
    "fig = px.scatter_mapbox(df_main_start_stations,\n",
    "                    lat='lat',\n",
    "                    lon='lon',\n",
    "                    hover_name=\"start_station\",\n",
    "                    color_discrete_sequence=['red'],\n",
    "                    zoom=11)\n",
    "fig.update_layout(mapbox_style=\"open-street-map\")\n",
    "fig.update_layout(margin={\"r\":0,\"t\":0,\"l\":0,\"b\":0})\n",
    "fig.show()"
   ]
  },
  {
   "cell_type": "code",
   "execution_count": 196,
   "metadata": {},
   "outputs": [],
   "source": [
    "# This was supposed to become a dataframe / map plot with top start and end stations combined \n",
    "\n",
    "ride_start1 = df.start_station_name.value_counts().nlargest(25,'all')\n",
    "ride_end1 = df.end_station_name.value_counts().nlargest(25,'all')\n",
    "ride_end1 = pd.DataFrame(ride_end1)\n",
    "ride_end1.reset_index(inplace=True)\n",
    "ride_end1['Start or End'] = 1\n",
    "ride_end1.rename(columns = {'index':'Station', 'end_station_name':'Sum'}, inplace = True) \n",
    "\n",
    "top_stations1 = ride_start1.copy()\n",
    "top_stations1 = pd.DataFrame(top_stations1)\n",
    "top_stations1['Start or End'] = 0\n",
    "top_stations1.reset_index(inplace=True)\n",
    "top_stations1.rename(columns = {'index':'Station', 'start_station_name':'Sum'}, inplace = True)\n",
    "top_stations1 = top_stations1.append(ride_end1)\n",
    "\n",
    "# top_stations.rename(columns = {'index':'Ride Start', 'start_station_name':'Start Sum'}, inplace = True) \n",
    "# top_stations['Ride End'] = ride_end['Ride End']\n",
    "# top_stations['End Sum'] = ride_end['End Sum']\n"
   ]
  },
  {
   "cell_type": "code",
   "execution_count": 197,
   "metadata": {},
   "outputs": [
    {
     "output_type": "execute_result",
     "data": {
      "text/plain": [
       "                                              Station   Sum  Start or End\n",
       "0                         New Hampshire Ave & T St NW  1308             0\n",
       "1                                      15th & P St NW  1155             0\n",
       "2                                 14th & Irving St NW  1046             0\n",
       "3                                       1st & M St NE   895             0\n",
       "4                                      11th & M St NW   879             0\n",
       "5                                       8th & O St NW   856             0\n",
       "6                                    Lincoln Memorial   826             0\n",
       "7                           Jefferson Dr & 14th St SW   798             0\n",
       "8                                      14th & V St NW   798             0\n",
       "9                                       4th & M St SW   797             0\n",
       "10                             4th St & Madison Dr NW   795             0\n",
       "11                                      Thomas Circle   768             0\n",
       "12                                     15th & W St NW   754             0\n",
       "13  Eastern Market Metro / Pennsylvania Ave & 8th ...   753             0\n",
       "14                               15th & Euclid St  NW   747             0\n",
       "15                              17th & Corcoran St NW   730             0\n",
       "16                                      5th & K St NW   723             0\n",
       "17                        Adams Mill & Columbia Rd NW   709             0\n",
       "18               Massachusetts Ave & Dupont Circle NW   709             0\n",
       "19                    Columbus Circle / Union Station   698             0\n",
       "20                               16th & Harvard St NW   668             0\n",
       "21                                     14th & R St NW   667             0\n",
       "22                               14th & Belmont St NW   663             0\n",
       "23                                      3rd & M St NE   663             0\n",
       "24                           20th St & Florida Ave NW   649             0\n",
       "0                                      15th & P St NW  1339             1\n",
       "1                         New Hampshire Ave & T St NW  1316             1\n",
       "2                                       1st & M St NE   992             1\n",
       "3                                      14th & V St NW   939             1\n",
       "4                Massachusetts Ave & Dupont Circle NW   864             1\n",
       "5                                      14th & R St NW   846             1\n",
       "6                               17th & Corcoran St NW   820             1\n",
       "7   Eastern Market Metro / Pennsylvania Ave & 8th ...   819             1\n",
       "8                                 14th & Irving St NW   810             1\n",
       "9                                       8th & O St NW   805             1\n",
       "10                                      4th & M St SW   790             1\n",
       "11                    Columbus Circle / Union Station   780             1\n",
       "12                                     15th & W St NW   778             1\n",
       "13                          Jefferson Dr & 14th St SW   759             1\n",
       "14                                      6th & H St NE   749             1\n",
       "15                                     11th & M St NW   748             1\n",
       "16                                      3rd & M St NE   744             1\n",
       "17                                      5th & K St NW   730             1\n",
       "18                             4th St & Madison Dr NW   698             1\n",
       "19                                      1st & K St SE   690             1\n",
       "20                     New Hampshire Ave & Ward Pl NW   684             1\n",
       "21          7th & F St NW / National Portrait Gallery   684             1\n",
       "22                           20th St & Florida Ave NW   682             1\n",
       "23                                   Lincoln Memorial   672             1\n",
       "24        Henry Bacon Dr & Lincoln Memorial Circle NW   659             1"
      ],
      "text/html": "<div>\n<style scoped>\n    .dataframe tbody tr th:only-of-type {\n        vertical-align: middle;\n    }\n\n    .dataframe tbody tr th {\n        vertical-align: top;\n    }\n\n    .dataframe thead th {\n        text-align: right;\n    }\n</style>\n<table border=\"1\" class=\"dataframe\">\n  <thead>\n    <tr style=\"text-align: right;\">\n      <th></th>\n      <th>Station</th>\n      <th>Sum</th>\n      <th>Start or End</th>\n    </tr>\n  </thead>\n  <tbody>\n    <tr>\n      <th>0</th>\n      <td>New Hampshire Ave &amp; T St NW</td>\n      <td>1308</td>\n      <td>0</td>\n    </tr>\n    <tr>\n      <th>1</th>\n      <td>15th &amp; P St NW</td>\n      <td>1155</td>\n      <td>0</td>\n    </tr>\n    <tr>\n      <th>2</th>\n      <td>14th &amp; Irving St NW</td>\n      <td>1046</td>\n      <td>0</td>\n    </tr>\n    <tr>\n      <th>3</th>\n      <td>1st &amp; M St NE</td>\n      <td>895</td>\n      <td>0</td>\n    </tr>\n    <tr>\n      <th>4</th>\n      <td>11th &amp; M St NW</td>\n      <td>879</td>\n      <td>0</td>\n    </tr>\n    <tr>\n      <th>5</th>\n      <td>8th &amp; O St NW</td>\n      <td>856</td>\n      <td>0</td>\n    </tr>\n    <tr>\n      <th>6</th>\n      <td>Lincoln Memorial</td>\n      <td>826</td>\n      <td>0</td>\n    </tr>\n    <tr>\n      <th>7</th>\n      <td>Jefferson Dr &amp; 14th St SW</td>\n      <td>798</td>\n      <td>0</td>\n    </tr>\n    <tr>\n      <th>8</th>\n      <td>14th &amp; V St NW</td>\n      <td>798</td>\n      <td>0</td>\n    </tr>\n    <tr>\n      <th>9</th>\n      <td>4th &amp; M St SW</td>\n      <td>797</td>\n      <td>0</td>\n    </tr>\n    <tr>\n      <th>10</th>\n      <td>4th St &amp; Madison Dr NW</td>\n      <td>795</td>\n      <td>0</td>\n    </tr>\n    <tr>\n      <th>11</th>\n      <td>Thomas Circle</td>\n      <td>768</td>\n      <td>0</td>\n    </tr>\n    <tr>\n      <th>12</th>\n      <td>15th &amp; W St NW</td>\n      <td>754</td>\n      <td>0</td>\n    </tr>\n    <tr>\n      <th>13</th>\n      <td>Eastern Market Metro / Pennsylvania Ave &amp; 8th ...</td>\n      <td>753</td>\n      <td>0</td>\n    </tr>\n    <tr>\n      <th>14</th>\n      <td>15th &amp; Euclid St  NW</td>\n      <td>747</td>\n      <td>0</td>\n    </tr>\n    <tr>\n      <th>15</th>\n      <td>17th &amp; Corcoran St NW</td>\n      <td>730</td>\n      <td>0</td>\n    </tr>\n    <tr>\n      <th>16</th>\n      <td>5th &amp; K St NW</td>\n      <td>723</td>\n      <td>0</td>\n    </tr>\n    <tr>\n      <th>17</th>\n      <td>Adams Mill &amp; Columbia Rd NW</td>\n      <td>709</td>\n      <td>0</td>\n    </tr>\n    <tr>\n      <th>18</th>\n      <td>Massachusetts Ave &amp; Dupont Circle NW</td>\n      <td>709</td>\n      <td>0</td>\n    </tr>\n    <tr>\n      <th>19</th>\n      <td>Columbus Circle / Union Station</td>\n      <td>698</td>\n      <td>0</td>\n    </tr>\n    <tr>\n      <th>20</th>\n      <td>16th &amp; Harvard St NW</td>\n      <td>668</td>\n      <td>0</td>\n    </tr>\n    <tr>\n      <th>21</th>\n      <td>14th &amp; R St NW</td>\n      <td>667</td>\n      <td>0</td>\n    </tr>\n    <tr>\n      <th>22</th>\n      <td>14th &amp; Belmont St NW</td>\n      <td>663</td>\n      <td>0</td>\n    </tr>\n    <tr>\n      <th>23</th>\n      <td>3rd &amp; M St NE</td>\n      <td>663</td>\n      <td>0</td>\n    </tr>\n    <tr>\n      <th>24</th>\n      <td>20th St &amp; Florida Ave NW</td>\n      <td>649</td>\n      <td>0</td>\n    </tr>\n    <tr>\n      <th>0</th>\n      <td>15th &amp; P St NW</td>\n      <td>1339</td>\n      <td>1</td>\n    </tr>\n    <tr>\n      <th>1</th>\n      <td>New Hampshire Ave &amp; T St NW</td>\n      <td>1316</td>\n      <td>1</td>\n    </tr>\n    <tr>\n      <th>2</th>\n      <td>1st &amp; M St NE</td>\n      <td>992</td>\n      <td>1</td>\n    </tr>\n    <tr>\n      <th>3</th>\n      <td>14th &amp; V St NW</td>\n      <td>939</td>\n      <td>1</td>\n    </tr>\n    <tr>\n      <th>4</th>\n      <td>Massachusetts Ave &amp; Dupont Circle NW</td>\n      <td>864</td>\n      <td>1</td>\n    </tr>\n    <tr>\n      <th>5</th>\n      <td>14th &amp; R St NW</td>\n      <td>846</td>\n      <td>1</td>\n    </tr>\n    <tr>\n      <th>6</th>\n      <td>17th &amp; Corcoran St NW</td>\n      <td>820</td>\n      <td>1</td>\n    </tr>\n    <tr>\n      <th>7</th>\n      <td>Eastern Market Metro / Pennsylvania Ave &amp; 8th ...</td>\n      <td>819</td>\n      <td>1</td>\n    </tr>\n    <tr>\n      <th>8</th>\n      <td>14th &amp; Irving St NW</td>\n      <td>810</td>\n      <td>1</td>\n    </tr>\n    <tr>\n      <th>9</th>\n      <td>8th &amp; O St NW</td>\n      <td>805</td>\n      <td>1</td>\n    </tr>\n    <tr>\n      <th>10</th>\n      <td>4th &amp; M St SW</td>\n      <td>790</td>\n      <td>1</td>\n    </tr>\n    <tr>\n      <th>11</th>\n      <td>Columbus Circle / Union Station</td>\n      <td>780</td>\n      <td>1</td>\n    </tr>\n    <tr>\n      <th>12</th>\n      <td>15th &amp; W St NW</td>\n      <td>778</td>\n      <td>1</td>\n    </tr>\n    <tr>\n      <th>13</th>\n      <td>Jefferson Dr &amp; 14th St SW</td>\n      <td>759</td>\n      <td>1</td>\n    </tr>\n    <tr>\n      <th>14</th>\n      <td>6th &amp; H St NE</td>\n      <td>749</td>\n      <td>1</td>\n    </tr>\n    <tr>\n      <th>15</th>\n      <td>11th &amp; M St NW</td>\n      <td>748</td>\n      <td>1</td>\n    </tr>\n    <tr>\n      <th>16</th>\n      <td>3rd &amp; M St NE</td>\n      <td>744</td>\n      <td>1</td>\n    </tr>\n    <tr>\n      <th>17</th>\n      <td>5th &amp; K St NW</td>\n      <td>730</td>\n      <td>1</td>\n    </tr>\n    <tr>\n      <th>18</th>\n      <td>4th St &amp; Madison Dr NW</td>\n      <td>698</td>\n      <td>1</td>\n    </tr>\n    <tr>\n      <th>19</th>\n      <td>1st &amp; K St SE</td>\n      <td>690</td>\n      <td>1</td>\n    </tr>\n    <tr>\n      <th>20</th>\n      <td>New Hampshire Ave &amp; Ward Pl NW</td>\n      <td>684</td>\n      <td>1</td>\n    </tr>\n    <tr>\n      <th>21</th>\n      <td>7th &amp; F St NW / National Portrait Gallery</td>\n      <td>684</td>\n      <td>1</td>\n    </tr>\n    <tr>\n      <th>22</th>\n      <td>20th St &amp; Florida Ave NW</td>\n      <td>682</td>\n      <td>1</td>\n    </tr>\n    <tr>\n      <th>23</th>\n      <td>Lincoln Memorial</td>\n      <td>672</td>\n      <td>1</td>\n    </tr>\n    <tr>\n      <th>24</th>\n      <td>Henry Bacon Dr &amp; Lincoln Memorial Circle NW</td>\n      <td>659</td>\n      <td>1</td>\n    </tr>\n  </tbody>\n</table>\n</div>"
     },
     "metadata": {},
     "execution_count": 197
    }
   ],
   "source": [
    "top_stations1"
   ]
  },
  {
   "cell_type": "code",
   "execution_count": 198,
   "metadata": {},
   "outputs": [],
   "source": [
    "# lat and lon must be added!!!\n",
    "\n",
    "# fig = px.scatter_mapbox(top_stations1,\n",
    "#                     lat='lat',\n",
    "#                     lon='lon',\n",
    "#                     hover_name=\"street\",\n",
    "#                     zoom=9,\n",
    "#                     size='sum',\n",
    "#                     color = top_stations1['Start or End'])\n",
    "# fig.update_layout(mapbox_style=\"open-street-map\")\n",
    "# fig.update_layout(margin={\"r\":0,\"t\":0,\"l\":0,\"b\":0})\n",
    "# fig.show()"
   ]
  },
  {
   "cell_type": "code",
   "execution_count": 199,
   "metadata": {},
   "outputs": [
    {
     "output_type": "execute_result",
     "data": {
      "text/plain": [
       "0        2020-12-02 09:24:12\n",
       "1        2020-12-31 14:01:07\n",
       "2        2020-12-31 14:01:04\n",
       "3        2020-12-29 14:12:22\n",
       "4        2020-12-27 12:36:12\n",
       "                 ...        \n",
       "105824   2020-12-12 14:17:02\n",
       "105825   2020-12-03 14:06:11\n",
       "105826   2020-12-06 08:03:46\n",
       "105827   2020-12-21 14:26:59\n",
       "105828   2020-12-18 09:23:54\n",
       "Name: ended_at, Length: 105829, dtype: datetime64[ns]"
      ]
     },
     "metadata": {},
     "execution_count": 199
    }
   ],
   "source": [
    "# And now a few explorations of timeseries possibilities...\n",
    "\n",
    "pd.to_datetime(df.started_at, yearfirst=True)\n",
    "pd.to_datetime(df.ended_at, yearfirst=True)"
   ]
  },
  {
   "cell_type": "code",
   "execution_count": 200,
   "metadata": {},
   "outputs": [
    {
     "output_type": "execute_result",
     "data": {
      "text/plain": [
       "ride_id                   0\n",
       "rideable_type             0\n",
       "started_at                0\n",
       "ended_at                  0\n",
       "start_station_name    11054\n",
       "start_station_id      11054\n",
       "end_station_name      12259\n",
       "end_station_id        12259\n",
       "start_lat                 0\n",
       "start_lng                 0\n",
       "end_lat                 204\n",
       "end_lng                 204\n",
       "member_casual             0\n",
       "dtype: int64"
      ]
     },
     "metadata": {},
     "execution_count": 200
    }
   ],
   "source": [
    "df.isnull().sum()"
   ]
  },
  {
   "cell_type": "code",
   "execution_count": 201,
   "metadata": {},
   "outputs": [
    {
     "output_type": "execute_result",
     "data": {
      "text/plain": [
       "(105829, 13)"
      ]
     },
     "metadata": {},
     "execution_count": 201
    }
   ],
   "source": [
    "df.shape"
   ]
  },
  {
   "cell_type": "code",
   "execution_count": 202,
   "metadata": {},
   "outputs": [
    {
     "output_type": "execute_result",
     "data": {
      "text/plain": [
       "(89908, 13)"
      ]
     },
     "metadata": {},
     "execution_count": 202
    }
   ],
   "source": [
    "df = df.dropna()\n",
    "df.shape"
   ]
  },
  {
   "cell_type": "code",
   "execution_count": 203,
   "metadata": {},
   "outputs": [
    {
     "output_type": "execute_result",
     "data": {
      "text/plain": [
       "0        2020-12-02\n",
       "1        2020-12-31\n",
       "2        2020-12-31\n",
       "3        2020-12-29\n",
       "4        2020-12-27\n",
       "            ...    \n",
       "105824   2020-12-12\n",
       "105825   2020-12-03\n",
       "105826   2020-12-06\n",
       "105827   2020-12-21\n",
       "105828   2020-12-18\n",
       "Name: end_date, Length: 89908, dtype: datetime64[ns]"
      ]
     },
     "metadata": {},
     "execution_count": 203
    }
   ],
   "source": [
    "df['start_date'] = pd.to_datetime(df['started_at']).dt.date\n",
    "df['start_time'] = pd.to_datetime(df['started_at']).dt.time\n",
    "df['end_date'] = pd.to_datetime(df['ended_at']).dt.date\n",
    "df['end_time'] = pd.to_datetime(df['ended_at']).dt.time\n",
    "pd.to_datetime(df.start_date, yearfirst=True)\n",
    "pd.to_datetime(df.end_date, yearfirst=True)"
   ]
  },
  {
   "cell_type": "code",
   "execution_count": 204,
   "metadata": {},
   "outputs": [
    {
     "output_type": "execute_result",
     "data": {
      "text/plain": [
       "28    2020-12-01\n",
       "0     2020-12-02\n",
       "13    2020-12-03\n",
       "10    2020-12-04\n",
       "11    2020-12-05\n",
       "6     2020-12-06\n",
       "9     2020-12-07\n",
       "19    2020-12-08\n",
       "12    2020-12-09\n",
       "26    2020-12-10\n",
       "8     2020-12-11\n",
       "5     2020-12-12\n",
       "4     2020-12-13\n",
       "30    2020-12-14\n",
       "22    2020-12-15\n",
       "20    2020-12-16\n",
       "15    2020-12-17\n",
       "29    2020-12-18\n",
       "17    2020-12-19\n",
       "23    2020-12-20\n",
       "24    2020-12-21\n",
       "16    2020-12-22\n",
       "18    2020-12-23\n",
       "25    2020-12-24\n",
       "14    2020-12-25\n",
       "21    2020-12-26\n",
       "3     2020-12-27\n",
       "7     2020-12-28\n",
       "2     2020-12-29\n",
       "27    2020-12-30\n",
       "1     2020-12-31\n",
       "dtype: object"
      ]
     },
     "metadata": {},
     "execution_count": 204
    }
   ],
   "source": [
    "d = pd.Series(df.start_date.unique())\n",
    "d.sort_values()"
   ]
  },
  {
   "cell_type": "code",
   "execution_count": 205,
   "metadata": {},
   "outputs": [
    {
     "output_type": "execute_result",
     "data": {
      "text/plain": [
       "30    2020-11-25\n",
       "34    2020-11-26\n",
       "28    2020-12-01\n",
       "0     2020-12-02\n",
       "13    2020-12-03\n",
       "10    2020-12-04\n",
       "11    2020-12-05\n",
       "6     2020-12-06\n",
       "9     2020-12-07\n",
       "18    2020-12-08\n",
       "12    2020-12-09\n",
       "26    2020-12-10\n",
       "8     2020-12-11\n",
       "5     2020-12-12\n",
       "4     2020-12-13\n",
       "31    2020-12-14\n",
       "22    2020-12-15\n",
       "19    2020-12-16\n",
       "15    2020-12-17\n",
       "29    2020-12-18\n",
       "17    2020-12-19\n",
       "23    2020-12-20\n",
       "24    2020-12-21\n",
       "20    2020-12-22\n",
       "16    2020-12-23\n",
       "25    2020-12-24\n",
       "14    2020-12-25\n",
       "21    2020-12-26\n",
       "3     2020-12-27\n",
       "7     2020-12-28\n",
       "2     2020-12-29\n",
       "27    2020-12-30\n",
       "1     2020-12-31\n",
       "32    2021-01-01\n",
       "33    2021-01-02\n",
       "35    2021-01-03\n",
       "dtype: object"
      ]
     },
     "metadata": {},
     "execution_count": 205
    }
   ],
   "source": [
    "# This data comparison shows (among other things) \n",
    "# that some rides end before they even started...\n",
    "\n",
    "d = pd.Series(df.end_date.unique())\n",
    "d.sort_values()"
   ]
  },
  {
   "cell_type": "code",
   "execution_count": 206,
   "metadata": {},
   "outputs": [
    {
     "output_type": "execute_result",
     "data": {
      "text/plain": [
       "ride_id               457\n",
       "rideable_type         457\n",
       "started_at            457\n",
       "ended_at              457\n",
       "start_station_name    457\n",
       "start_station_id      457\n",
       "end_station_name      457\n",
       "end_station_id        457\n",
       "start_lat             457\n",
       "start_lng             457\n",
       "end_lat               457\n",
       "end_lng               457\n",
       "member_casual         457\n",
       "start_date            457\n",
       "start_time            457\n",
       "end_date              457\n",
       "end_time              457\n",
       "dtype: int64"
      ]
     },
     "metadata": {},
     "execution_count": 206
    }
   ],
   "source": [
    "df[df.start_date > df.end_date].count()"
   ]
  },
  {
   "cell_type": "code",
   "execution_count": 207,
   "metadata": {},
   "outputs": [
    {
     "output_type": "execute_result",
     "data": {
      "text/plain": [
       "              ride_id rideable_type           started_at             ended_at  \\\n",
       "157  E34D3961C1866FAC   docked_bike  2020-12-15 12:50:52  2020-11-25 15:28:23   \n",
       "619  45000D794C7B16FF   docked_bike  2020-12-15 12:56:37  2020-11-25 16:27:25   \n",
       "654  6603379E602558B9   docked_bike  2020-12-15 12:47:26  2020-11-25 14:27:15   \n",
       "\n",
       "                start_station_name  start_station_id  \\\n",
       "157            14th & Irving St NW           31124.0   \n",
       "619       4th & East Capitol St NE           31618.0   \n",
       "654  Wilson Blvd. & N. Vermont St.           31926.0   \n",
       "\n",
       "                    end_station_name  end_station_id  start_lat  start_lng  \\\n",
       "157                    4th & W St NE         31500.0  38.928552 -77.032224   \n",
       "619  Columbus Circle / Union Station         31623.0  38.889955 -77.000349   \n",
       "654    Wilson Blvd. & N. Vermont St.         31926.0  38.879476 -77.114563   \n",
       "\n",
       "       end_lat    end_lng member_casual  start_date start_time    end_date  \\\n",
       "157  38.919077 -77.000648        member  2020-12-15   12:50:52  2020-11-25   \n",
       "619  38.896960 -77.004930        member  2020-12-15   12:56:37  2020-11-25   \n",
       "654  38.879477 -77.114563        casual  2020-12-15   12:47:26  2020-11-25   \n",
       "\n",
       "     end_time  \n",
       "157  15:28:23  \n",
       "619  16:27:25  \n",
       "654  14:27:15  "
      ],
      "text/html": "<div>\n<style scoped>\n    .dataframe tbody tr th:only-of-type {\n        vertical-align: middle;\n    }\n\n    .dataframe tbody tr th {\n        vertical-align: top;\n    }\n\n    .dataframe thead th {\n        text-align: right;\n    }\n</style>\n<table border=\"1\" class=\"dataframe\">\n  <thead>\n    <tr style=\"text-align: right;\">\n      <th></th>\n      <th>ride_id</th>\n      <th>rideable_type</th>\n      <th>started_at</th>\n      <th>ended_at</th>\n      <th>start_station_name</th>\n      <th>start_station_id</th>\n      <th>end_station_name</th>\n      <th>end_station_id</th>\n      <th>start_lat</th>\n      <th>start_lng</th>\n      <th>end_lat</th>\n      <th>end_lng</th>\n      <th>member_casual</th>\n      <th>start_date</th>\n      <th>start_time</th>\n      <th>end_date</th>\n      <th>end_time</th>\n    </tr>\n  </thead>\n  <tbody>\n    <tr>\n      <th>157</th>\n      <td>E34D3961C1866FAC</td>\n      <td>docked_bike</td>\n      <td>2020-12-15 12:50:52</td>\n      <td>2020-11-25 15:28:23</td>\n      <td>14th &amp; Irving St NW</td>\n      <td>31124.0</td>\n      <td>4th &amp; W St NE</td>\n      <td>31500.0</td>\n      <td>38.928552</td>\n      <td>-77.032224</td>\n      <td>38.919077</td>\n      <td>-77.000648</td>\n      <td>member</td>\n      <td>2020-12-15</td>\n      <td>12:50:52</td>\n      <td>2020-11-25</td>\n      <td>15:28:23</td>\n    </tr>\n    <tr>\n      <th>619</th>\n      <td>45000D794C7B16FF</td>\n      <td>docked_bike</td>\n      <td>2020-12-15 12:56:37</td>\n      <td>2020-11-25 16:27:25</td>\n      <td>4th &amp; East Capitol St NE</td>\n      <td>31618.0</td>\n      <td>Columbus Circle / Union Station</td>\n      <td>31623.0</td>\n      <td>38.889955</td>\n      <td>-77.000349</td>\n      <td>38.896960</td>\n      <td>-77.004930</td>\n      <td>member</td>\n      <td>2020-12-15</td>\n      <td>12:56:37</td>\n      <td>2020-11-25</td>\n      <td>16:27:25</td>\n    </tr>\n    <tr>\n      <th>654</th>\n      <td>6603379E602558B9</td>\n      <td>docked_bike</td>\n      <td>2020-12-15 12:47:26</td>\n      <td>2020-11-25 14:27:15</td>\n      <td>Wilson Blvd. &amp; N. Vermont St.</td>\n      <td>31926.0</td>\n      <td>Wilson Blvd. &amp; N. Vermont St.</td>\n      <td>31926.0</td>\n      <td>38.879476</td>\n      <td>-77.114563</td>\n      <td>38.879477</td>\n      <td>-77.114563</td>\n      <td>casual</td>\n      <td>2020-12-15</td>\n      <td>12:47:26</td>\n      <td>2020-11-25</td>\n      <td>14:27:15</td>\n    </tr>\n  </tbody>\n</table>\n</div>"
     },
     "metadata": {},
     "execution_count": 207
    }
   ],
   "source": [
    "df[df.start_date > df.end_date].head(3)"
   ]
  },
  {
   "cell_type": "code",
   "execution_count": 208,
   "metadata": {},
   "outputs": [],
   "source": [
    "# Keep only the data where bike trips end after they were started\n",
    "\n",
    "df = df[df.start_date <= df.end_date]"
   ]
  },
  {
   "cell_type": "code",
   "execution_count": 209,
   "metadata": {},
   "outputs": [
    {
     "output_type": "execute_result",
     "data": {
      "text/plain": [
       "       start_station_id  end_station_id     start_lat     start_lng  \\\n",
       "count      89451.000000    89451.000000  89451.000000  89451.000000   \n",
       "mean       31361.104169    31362.615488     38.904975    -77.031828   \n",
       "std          253.366143      252.296913      0.026624      0.031253   \n",
       "min        31000.000000    31000.000000     38.782633    -77.363094   \n",
       "25%        31202.000000    31205.000000     38.892220    -77.044400   \n",
       "50%        31275.000000    31273.000000     38.903819    -77.032096   \n",
       "75%        31605.000000    31605.000000     38.916442    -77.015289   \n",
       "max        32901.000000    32901.000000     39.123513    -76.825535   \n",
       "\n",
       "            end_lat       end_lng  \n",
       "count  89451.000000  89451.000000  \n",
       "mean      38.903835    -77.031545  \n",
       "std        0.026284      0.030948  \n",
       "min       38.782633    -77.363094  \n",
       "25%       38.892244    -77.044467  \n",
       "50%       38.903533    -77.032008  \n",
       "75%       38.914204    -77.015289  \n",
       "max       39.123513    -76.825535  "
      ],
      "text/html": "<div>\n<style scoped>\n    .dataframe tbody tr th:only-of-type {\n        vertical-align: middle;\n    }\n\n    .dataframe tbody tr th {\n        vertical-align: top;\n    }\n\n    .dataframe thead th {\n        text-align: right;\n    }\n</style>\n<table border=\"1\" class=\"dataframe\">\n  <thead>\n    <tr style=\"text-align: right;\">\n      <th></th>\n      <th>start_station_id</th>\n      <th>end_station_id</th>\n      <th>start_lat</th>\n      <th>start_lng</th>\n      <th>end_lat</th>\n      <th>end_lng</th>\n    </tr>\n  </thead>\n  <tbody>\n    <tr>\n      <th>count</th>\n      <td>89451.000000</td>\n      <td>89451.000000</td>\n      <td>89451.000000</td>\n      <td>89451.000000</td>\n      <td>89451.000000</td>\n      <td>89451.000000</td>\n    </tr>\n    <tr>\n      <th>mean</th>\n      <td>31361.104169</td>\n      <td>31362.615488</td>\n      <td>38.904975</td>\n      <td>-77.031828</td>\n      <td>38.903835</td>\n      <td>-77.031545</td>\n    </tr>\n    <tr>\n      <th>std</th>\n      <td>253.366143</td>\n      <td>252.296913</td>\n      <td>0.026624</td>\n      <td>0.031253</td>\n      <td>0.026284</td>\n      <td>0.030948</td>\n    </tr>\n    <tr>\n      <th>min</th>\n      <td>31000.000000</td>\n      <td>31000.000000</td>\n      <td>38.782633</td>\n      <td>-77.363094</td>\n      <td>38.782633</td>\n      <td>-77.363094</td>\n    </tr>\n    <tr>\n      <th>25%</th>\n      <td>31202.000000</td>\n      <td>31205.000000</td>\n      <td>38.892220</td>\n      <td>-77.044400</td>\n      <td>38.892244</td>\n      <td>-77.044467</td>\n    </tr>\n    <tr>\n      <th>50%</th>\n      <td>31275.000000</td>\n      <td>31273.000000</td>\n      <td>38.903819</td>\n      <td>-77.032096</td>\n      <td>38.903533</td>\n      <td>-77.032008</td>\n    </tr>\n    <tr>\n      <th>75%</th>\n      <td>31605.000000</td>\n      <td>31605.000000</td>\n      <td>38.916442</td>\n      <td>-77.015289</td>\n      <td>38.914204</td>\n      <td>-77.015289</td>\n    </tr>\n    <tr>\n      <th>max</th>\n      <td>32901.000000</td>\n      <td>32901.000000</td>\n      <td>39.123513</td>\n      <td>-76.825535</td>\n      <td>39.123513</td>\n      <td>-76.825535</td>\n    </tr>\n  </tbody>\n</table>\n</div>"
     },
     "metadata": {},
     "execution_count": 209
    }
   ],
   "source": [
    "df.describe()"
   ]
  },
  {
   "cell_type": "code",
   "execution_count": 210,
   "metadata": {},
   "outputs": [],
   "source": [
    "df.started_at = pd.to_datetime(df.started_at)\n",
    "df.ended_at = pd.to_datetime(df.ended_at)"
   ]
  },
  {
   "cell_type": "code",
   "execution_count": 211,
   "metadata": {},
   "outputs": [
    {
     "output_type": "execute_result",
     "data": {
      "text/plain": [
       "0        2020-12-02 09:24:12\n",
       "1        2020-12-31 14:01:07\n",
       "2        2020-12-31 14:01:04\n",
       "3        2020-12-29 14:12:22\n",
       "4        2020-12-27 12:36:12\n",
       "                 ...        \n",
       "105824   2020-12-12 14:17:02\n",
       "105825   2020-12-03 14:06:11\n",
       "105826   2020-12-06 08:03:46\n",
       "105827   2020-12-21 14:26:59\n",
       "105828   2020-12-18 09:23:54\n",
       "Name: ended_at, Length: 89451, dtype: datetime64[ns]"
      ]
     },
     "metadata": {},
     "execution_count": 211
    }
   ],
   "source": [
    "df.ended_at"
   ]
  },
  {
   "cell_type": "code",
   "execution_count": 212,
   "metadata": {},
   "outputs": [
    {
     "output_type": "execute_result",
     "data": {
      "text/plain": [
       "            ride_id rideable_type          started_at            ended_at  \\\n",
       "0  C04E20007D039277   docked_bike 2020-12-02 09:10:36 2020-12-02 09:24:12   \n",
       "1  A488C0D9F4761D06  classic_bike 2020-12-31 12:46:29 2020-12-31 14:01:07   \n",
       "2  9E7E97A927A85552  classic_bike 2020-12-31 12:47:03 2020-12-31 14:01:04   \n",
       "\n",
       "              start_station_name  start_station_id  \\\n",
       "0       18th St & Wyoming Ave NW           31114.0   \n",
       "1  Potomac & Pennsylvania Ave SE           31606.0   \n",
       "2  Potomac & Pennsylvania Ave SE           31606.0   \n",
       "\n",
       "                end_station_name  end_station_id  start_lat  start_lng  \\\n",
       "0  18th St & Pennsylvania Ave NW         31242.0  38.918809 -77.041571   \n",
       "1  17th St & Independence Ave SW         31290.0  38.880300 -76.986200   \n",
       "2  17th St & Independence Ave SW         31290.0  38.880300 -76.986200   \n",
       "\n",
       "     end_lat    end_lng member_casual  start_date start_time    end_date  \\\n",
       "0  38.899680 -77.041539        casual  2020-12-02   09:10:36  2020-12-02   \n",
       "1  38.888097 -77.038325        casual  2020-12-31   12:46:29  2020-12-31   \n",
       "2  38.888097 -77.038325        casual  2020-12-31   12:47:03  2020-12-31   \n",
       "\n",
       "   end_time  \n",
       "0  09:24:12  \n",
       "1  14:01:07  \n",
       "2  14:01:04  "
      ],
      "text/html": "<div>\n<style scoped>\n    .dataframe tbody tr th:only-of-type {\n        vertical-align: middle;\n    }\n\n    .dataframe tbody tr th {\n        vertical-align: top;\n    }\n\n    .dataframe thead th {\n        text-align: right;\n    }\n</style>\n<table border=\"1\" class=\"dataframe\">\n  <thead>\n    <tr style=\"text-align: right;\">\n      <th></th>\n      <th>ride_id</th>\n      <th>rideable_type</th>\n      <th>started_at</th>\n      <th>ended_at</th>\n      <th>start_station_name</th>\n      <th>start_station_id</th>\n      <th>end_station_name</th>\n      <th>end_station_id</th>\n      <th>start_lat</th>\n      <th>start_lng</th>\n      <th>end_lat</th>\n      <th>end_lng</th>\n      <th>member_casual</th>\n      <th>start_date</th>\n      <th>start_time</th>\n      <th>end_date</th>\n      <th>end_time</th>\n    </tr>\n  </thead>\n  <tbody>\n    <tr>\n      <th>0</th>\n      <td>C04E20007D039277</td>\n      <td>docked_bike</td>\n      <td>2020-12-02 09:10:36</td>\n      <td>2020-12-02 09:24:12</td>\n      <td>18th St &amp; Wyoming Ave NW</td>\n      <td>31114.0</td>\n      <td>18th St &amp; Pennsylvania Ave NW</td>\n      <td>31242.0</td>\n      <td>38.918809</td>\n      <td>-77.041571</td>\n      <td>38.899680</td>\n      <td>-77.041539</td>\n      <td>casual</td>\n      <td>2020-12-02</td>\n      <td>09:10:36</td>\n      <td>2020-12-02</td>\n      <td>09:24:12</td>\n    </tr>\n    <tr>\n      <th>1</th>\n      <td>A488C0D9F4761D06</td>\n      <td>classic_bike</td>\n      <td>2020-12-31 12:46:29</td>\n      <td>2020-12-31 14:01:07</td>\n      <td>Potomac &amp; Pennsylvania Ave SE</td>\n      <td>31606.0</td>\n      <td>17th St &amp; Independence Ave SW</td>\n      <td>31290.0</td>\n      <td>38.880300</td>\n      <td>-76.986200</td>\n      <td>38.888097</td>\n      <td>-77.038325</td>\n      <td>casual</td>\n      <td>2020-12-31</td>\n      <td>12:46:29</td>\n      <td>2020-12-31</td>\n      <td>14:01:07</td>\n    </tr>\n    <tr>\n      <th>2</th>\n      <td>9E7E97A927A85552</td>\n      <td>classic_bike</td>\n      <td>2020-12-31 12:47:03</td>\n      <td>2020-12-31 14:01:04</td>\n      <td>Potomac &amp; Pennsylvania Ave SE</td>\n      <td>31606.0</td>\n      <td>17th St &amp; Independence Ave SW</td>\n      <td>31290.0</td>\n      <td>38.880300</td>\n      <td>-76.986200</td>\n      <td>38.888097</td>\n      <td>-77.038325</td>\n      <td>casual</td>\n      <td>2020-12-31</td>\n      <td>12:47:03</td>\n      <td>2020-12-31</td>\n      <td>14:01:04</td>\n    </tr>\n  </tbody>\n</table>\n</div>"
     },
     "metadata": {},
     "execution_count": 212
    }
   ],
   "source": [
    "#df = df.drop('index', axis = 1)\n",
    "df.reset_index(drop = True, inplace = True)\n",
    "df.head(3)"
   ]
  },
  {
   "cell_type": "code",
   "execution_count": 213,
   "metadata": {},
   "outputs": [],
   "source": [
    "# Extracting the weekday from the timestamp and adding it to df\n",
    "\n",
    "weekday = []\n",
    "for i in range(len(df)):\n",
    "    weekday.append(df['started_at'][i].day_name())\n",
    "\n",
    "weekday = pd.DataFrame(weekday)\n",
    "weekday.rename(columns = {0:'weekday'}, inplace = True)\n",
    "\n",
    "df = pd.concat([df, weekday], axis = 1)"
   ]
  },
  {
   "cell_type": "code",
   "execution_count": 214,
   "metadata": {},
   "outputs": [],
   "source": [
    "df = df.sort_values(by=['started_at', 'ended_at'])"
   ]
  },
  {
   "cell_type": "code",
   "execution_count": 215,
   "metadata": {},
   "outputs": [
    {
     "output_type": "execute_result",
     "data": {
      "text/plain": [
       "                ride_id rideable_type          started_at            ended_at  \\\n",
       "64251  4269E58FC83E91AA   docked_bike 2020-12-01 00:02:29 2020-12-01 00:16:37   \n",
       "86931  1894D51DDCE6F69D   docked_bike 2020-12-01 00:05:07 2020-12-01 00:20:11   \n",
       "14388  D9996DB185E58CA8   docked_bike 2020-12-01 00:07:14 2020-12-01 00:24:17   \n",
       "\n",
       "                     start_station_name  start_station_id  \\\n",
       "64251     Connecticut & Nebraska Ave NW           31310.0   \n",
       "86931  17th & K St NW / Farragut Square           31233.0   \n",
       "14388           Wisconsin Ave & O St NW           31312.0   \n",
       "\n",
       "                    end_station_name  end_station_id  start_lat  start_lng  \\\n",
       "64251    Columbia Rd & Belmont St NW         31113.0  38.955016 -77.069956   \n",
       "86931                  8th & H St NW         31228.0  38.902061 -77.038322   \n",
       "14388  15th St & Constitution Ave NW         31321.0  38.908490 -77.063586   \n",
       "\n",
       "         end_lat    end_lng member_casual  start_date start_time    end_date  \\\n",
       "64251  38.920669 -77.043680        member  2020-12-01   00:02:29  2020-12-01   \n",
       "86931  38.899700 -77.023086        member  2020-12-01   00:05:07  2020-12-01   \n",
       "14388  38.892244 -77.033234        member  2020-12-01   00:07:14  2020-12-01   \n",
       "\n",
       "       end_time  weekday  \n",
       "64251  00:16:37  Tuesday  \n",
       "86931  00:20:11  Tuesday  \n",
       "14388  00:24:17  Tuesday  "
      ],
      "text/html": "<div>\n<style scoped>\n    .dataframe tbody tr th:only-of-type {\n        vertical-align: middle;\n    }\n\n    .dataframe tbody tr th {\n        vertical-align: top;\n    }\n\n    .dataframe thead th {\n        text-align: right;\n    }\n</style>\n<table border=\"1\" class=\"dataframe\">\n  <thead>\n    <tr style=\"text-align: right;\">\n      <th></th>\n      <th>ride_id</th>\n      <th>rideable_type</th>\n      <th>started_at</th>\n      <th>ended_at</th>\n      <th>start_station_name</th>\n      <th>start_station_id</th>\n      <th>end_station_name</th>\n      <th>end_station_id</th>\n      <th>start_lat</th>\n      <th>start_lng</th>\n      <th>end_lat</th>\n      <th>end_lng</th>\n      <th>member_casual</th>\n      <th>start_date</th>\n      <th>start_time</th>\n      <th>end_date</th>\n      <th>end_time</th>\n      <th>weekday</th>\n    </tr>\n  </thead>\n  <tbody>\n    <tr>\n      <th>64251</th>\n      <td>4269E58FC83E91AA</td>\n      <td>docked_bike</td>\n      <td>2020-12-01 00:02:29</td>\n      <td>2020-12-01 00:16:37</td>\n      <td>Connecticut &amp; Nebraska Ave NW</td>\n      <td>31310.0</td>\n      <td>Columbia Rd &amp; Belmont St NW</td>\n      <td>31113.0</td>\n      <td>38.955016</td>\n      <td>-77.069956</td>\n      <td>38.920669</td>\n      <td>-77.043680</td>\n      <td>member</td>\n      <td>2020-12-01</td>\n      <td>00:02:29</td>\n      <td>2020-12-01</td>\n      <td>00:16:37</td>\n      <td>Tuesday</td>\n    </tr>\n    <tr>\n      <th>86931</th>\n      <td>1894D51DDCE6F69D</td>\n      <td>docked_bike</td>\n      <td>2020-12-01 00:05:07</td>\n      <td>2020-12-01 00:20:11</td>\n      <td>17th &amp; K St NW / Farragut Square</td>\n      <td>31233.0</td>\n      <td>8th &amp; H St NW</td>\n      <td>31228.0</td>\n      <td>38.902061</td>\n      <td>-77.038322</td>\n      <td>38.899700</td>\n      <td>-77.023086</td>\n      <td>member</td>\n      <td>2020-12-01</td>\n      <td>00:05:07</td>\n      <td>2020-12-01</td>\n      <td>00:20:11</td>\n      <td>Tuesday</td>\n    </tr>\n    <tr>\n      <th>14388</th>\n      <td>D9996DB185E58CA8</td>\n      <td>docked_bike</td>\n      <td>2020-12-01 00:07:14</td>\n      <td>2020-12-01 00:24:17</td>\n      <td>Wisconsin Ave &amp; O St NW</td>\n      <td>31312.0</td>\n      <td>15th St &amp; Constitution Ave NW</td>\n      <td>31321.0</td>\n      <td>38.908490</td>\n      <td>-77.063586</td>\n      <td>38.892244</td>\n      <td>-77.033234</td>\n      <td>member</td>\n      <td>2020-12-01</td>\n      <td>00:07:14</td>\n      <td>2020-12-01</td>\n      <td>00:24:17</td>\n      <td>Tuesday</td>\n    </tr>\n  </tbody>\n</table>\n</div>"
     },
     "metadata": {},
     "execution_count": 215
    }
   ],
   "source": [
    "df.head(3)"
   ]
  },
  {
   "cell_type": "code",
   "execution_count": 216,
   "metadata": {},
   "outputs": [
    {
     "output_type": "execute_result",
     "data": {
      "text/plain": [
       "ride_id               6983\n",
       "rideable_type         6983\n",
       "started_at            6983\n",
       "ended_at              6983\n",
       "start_station_name    6983\n",
       "start_station_id      6983\n",
       "end_station_name      6983\n",
       "end_station_id        6983\n",
       "start_lat             6983\n",
       "start_lng             6983\n",
       "end_lat               6983\n",
       "end_lng               6983\n",
       "member_casual         6983\n",
       "start_date            6983\n",
       "start_time            6983\n",
       "end_date              6983\n",
       "end_time              6983\n",
       "weekday               6983\n",
       "dtype: int64"
      ]
     },
     "metadata": {},
     "execution_count": 216
    }
   ],
   "source": [
    "# The following map shows the top 50 roundtrip stations, that is stations where customers love to start AND end a trip\n",
    "\n",
    "df[df.start_station_name == df.end_station_name].count()"
   ]
  },
  {
   "cell_type": "code",
   "execution_count": 217,
   "metadata": {},
   "outputs": [],
   "source": [
    "start_stat = pd.DataFrame(df.groupby(['start_station_name', 'end_station_name', 'start_lat', 'start_lng'])['start_date'].count())\n",
    "start_stat.reset_index(inplace=True)\n",
    "start_stat = start_stat.sort_values(by='start_date', ascending = False).head(50)"
   ]
  },
  {
   "cell_type": "code",
   "execution_count": 218,
   "metadata": {},
   "outputs": [
    {
     "output_type": "display_data",
     "data": {
      "application/vnd.plotly.v1+json": {
       "config": {
        "plotlyServerURL": "https://plot.ly"
       },
       "data": [
        {
         "hovertemplate": "<b>%{hovertext}</b><br><br>start_lat=%{lat}<br>start_lng=%{lon}<extra></extra>",
         "hovertext": [
          "15th St & Constitution Ave NW",
          "Hains Point/Buckeye & Ohio Dr SW",
          "17th St & Independence Ave SW",
          "Gravelly Point",
          "Smithsonian-National Mall / Jefferson Dr & 12th St SW",
          "Ohio Dr & West Basin Dr SW / MLK & FDR Memorials",
          "New Hampshire Ave & T St NW",
          "Jefferson Dr & 14th St SW",
          "19th St & Constitution Ave NW",
          "Henry Bacon Dr & Lincoln Memorial Circle NW",
          "New Hampshire Ave & T St NW",
          "Lincoln Memorial",
          "10th & Florida Ave NW",
          "Columbus Circle / Union Station",
          "Roosevelt Island",
          "14th & Irving St NW",
          "Anacostia Park",
          "15th & P St NW",
          "New Hampshire Ave & T St NW",
          "1st & N St  SE",
          "15th & P St NW",
          "Lincoln Park / 13th & East Capitol St NE ",
          "24th & R St NE / National Arboretum",
          "1st & M St NE",
          "8th & O St NW",
          "15th & P St NW",
          "New Hampshire Ave & T St NW",
          "Massachusetts Ave & Dupont Circle NW",
          "New Hampshire Ave & T St NW",
          "4th St & Madison Dr NW",
          "New Hampshire Ave & T St NW",
          "Jefferson Memorial",
          "Florida Ave & R St NW",
          "National Harbor Carousel",
          "California St & Florida Ave NW",
          "5th & K St NW",
          "Jefferson Dr & 14th St SW",
          "17th & Corcoran St NW",
          "15th & P St NW",
          "4th St & Madison Dr NW",
          "18th & New Hampshire Ave NW",
          "11th & Girard St NW",
          "8th & O St NW",
          "15th St & Pennsylvania Ave NW",
          "10th & K St NW",
          "1st & K St NE",
          "Potomac & Pennsylvania Ave SE",
          "17th St & Independence Ave SW",
          "15th & Euclid St  NW",
          "3rd & G St SE"
         ],
         "lat": [
          38.892244,
          38.878433,
          38.888096999999995,
          38.865029,
          38.888774,
          38.88412,
          38.915544,
          38.888553,
          38.8923,
          38.890539000000004,
          38.915544,
          38.888255,
          38.920387,
          38.89696,
          38.896553000000004,
          38.928552,
          38.87335,
          38.909867999999996,
          38.915544,
          38.8743,
          38.909867999999996,
          38.890461,
          38.91263,
          38.905696999999996,
          38.908640000000005,
          38.909867999999996,
          38.915544,
          38.9101,
          38.915544,
          38.8904955,
          38.915544,
          38.879819,
          38.9126,
          38.7859,
          38.917761,
          38.903040000000004,
          38.8885525,
          38.9121,
          38.909867999999996,
          38.890496,
          38.911268,
          38.925636,
          38.908640000000005,
          38.896465,
          38.9024,
          38.902386,
          38.8803,
          38.888096999999995,
          38.92333,
          38.881184999999995
         ],
         "legendgroup": "",
         "lon": [
          -77.033234,
          -77.03023,
          -77.038325,
          -77.039511,
          -77.02869399999999,
          -77.04656999999999,
          -77.038252,
          -77.032427,
          -77.0436,
          -77.04938299999999,
          -77.038252,
          -77.049437,
          -77.025672,
          -77.00493,
          -77.06714000000001,
          -77.032224,
          -76.9834,
          -77.034421,
          -77.038252,
          -77.0057,
          -77.034421,
          -76.988355,
          -76.971923,
          -77.005483,
          -77.02277,
          -77.034421,
          -77.038252,
          -77.0444,
          -77.038252,
          -77.0172465,
          -77.038252,
          -77.037413,
          -77.0135,
          -77.0167,
          -77.04061999999999,
          -77.01902700000001,
          -77.032427,
          -77.0387,
          -77.034421,
          -77.017247,
          -77.041829,
          -77.027112,
          -77.02277,
          -77.033381,
          -77.02622,
          -77.005649,
          -76.9862,
          -77.038325,
          -77.0352,
          -77.001828
         ],
         "marker": {
          "color": "red"
         },
         "mode": "markers",
         "name": "",
         "showlegend": false,
         "subplot": "mapbox",
         "type": "scattermapbox"
        }
       ],
       "layout": {
        "legend": {
         "tracegroupgap": 0
        },
        "mapbox": {
         "center": {
          "lat": 38.89814362,
          "lon": -77.02723997
         },
         "domain": {
          "x": [
           0,
           1
          ],
          "y": [
           0,
           1
          ]
         },
         "style": "open-street-map",
         "zoom": 10
        },
        "margin": {
         "b": 0,
         "l": 0,
         "r": 0,
         "t": 0
        },
        "template": {
         "data": {
          "bar": [
           {
            "error_x": {
             "color": "#2a3f5f"
            },
            "error_y": {
             "color": "#2a3f5f"
            },
            "marker": {
             "line": {
              "color": "#E5ECF6",
              "width": 0.5
             }
            },
            "type": "bar"
           }
          ],
          "barpolar": [
           {
            "marker": {
             "line": {
              "color": "#E5ECF6",
              "width": 0.5
             }
            },
            "type": "barpolar"
           }
          ],
          "carpet": [
           {
            "aaxis": {
             "endlinecolor": "#2a3f5f",
             "gridcolor": "white",
             "linecolor": "white",
             "minorgridcolor": "white",
             "startlinecolor": "#2a3f5f"
            },
            "baxis": {
             "endlinecolor": "#2a3f5f",
             "gridcolor": "white",
             "linecolor": "white",
             "minorgridcolor": "white",
             "startlinecolor": "#2a3f5f"
            },
            "type": "carpet"
           }
          ],
          "choropleth": [
           {
            "colorbar": {
             "outlinewidth": 0,
             "ticks": ""
            },
            "type": "choropleth"
           }
          ],
          "contour": [
           {
            "colorbar": {
             "outlinewidth": 0,
             "ticks": ""
            },
            "colorscale": [
             [
              0,
              "#0d0887"
             ],
             [
              0.1111111111111111,
              "#46039f"
             ],
             [
              0.2222222222222222,
              "#7201a8"
             ],
             [
              0.3333333333333333,
              "#9c179e"
             ],
             [
              0.4444444444444444,
              "#bd3786"
             ],
             [
              0.5555555555555556,
              "#d8576b"
             ],
             [
              0.6666666666666666,
              "#ed7953"
             ],
             [
              0.7777777777777778,
              "#fb9f3a"
             ],
             [
              0.8888888888888888,
              "#fdca26"
             ],
             [
              1,
              "#f0f921"
             ]
            ],
            "type": "contour"
           }
          ],
          "contourcarpet": [
           {
            "colorbar": {
             "outlinewidth": 0,
             "ticks": ""
            },
            "type": "contourcarpet"
           }
          ],
          "heatmap": [
           {
            "colorbar": {
             "outlinewidth": 0,
             "ticks": ""
            },
            "colorscale": [
             [
              0,
              "#0d0887"
             ],
             [
              0.1111111111111111,
              "#46039f"
             ],
             [
              0.2222222222222222,
              "#7201a8"
             ],
             [
              0.3333333333333333,
              "#9c179e"
             ],
             [
              0.4444444444444444,
              "#bd3786"
             ],
             [
              0.5555555555555556,
              "#d8576b"
             ],
             [
              0.6666666666666666,
              "#ed7953"
             ],
             [
              0.7777777777777778,
              "#fb9f3a"
             ],
             [
              0.8888888888888888,
              "#fdca26"
             ],
             [
              1,
              "#f0f921"
             ]
            ],
            "type": "heatmap"
           }
          ],
          "heatmapgl": [
           {
            "colorbar": {
             "outlinewidth": 0,
             "ticks": ""
            },
            "colorscale": [
             [
              0,
              "#0d0887"
             ],
             [
              0.1111111111111111,
              "#46039f"
             ],
             [
              0.2222222222222222,
              "#7201a8"
             ],
             [
              0.3333333333333333,
              "#9c179e"
             ],
             [
              0.4444444444444444,
              "#bd3786"
             ],
             [
              0.5555555555555556,
              "#d8576b"
             ],
             [
              0.6666666666666666,
              "#ed7953"
             ],
             [
              0.7777777777777778,
              "#fb9f3a"
             ],
             [
              0.8888888888888888,
              "#fdca26"
             ],
             [
              1,
              "#f0f921"
             ]
            ],
            "type": "heatmapgl"
           }
          ],
          "histogram": [
           {
            "marker": {
             "colorbar": {
              "outlinewidth": 0,
              "ticks": ""
             }
            },
            "type": "histogram"
           }
          ],
          "histogram2d": [
           {
            "colorbar": {
             "outlinewidth": 0,
             "ticks": ""
            },
            "colorscale": [
             [
              0,
              "#0d0887"
             ],
             [
              0.1111111111111111,
              "#46039f"
             ],
             [
              0.2222222222222222,
              "#7201a8"
             ],
             [
              0.3333333333333333,
              "#9c179e"
             ],
             [
              0.4444444444444444,
              "#bd3786"
             ],
             [
              0.5555555555555556,
              "#d8576b"
             ],
             [
              0.6666666666666666,
              "#ed7953"
             ],
             [
              0.7777777777777778,
              "#fb9f3a"
             ],
             [
              0.8888888888888888,
              "#fdca26"
             ],
             [
              1,
              "#f0f921"
             ]
            ],
            "type": "histogram2d"
           }
          ],
          "histogram2dcontour": [
           {
            "colorbar": {
             "outlinewidth": 0,
             "ticks": ""
            },
            "colorscale": [
             [
              0,
              "#0d0887"
             ],
             [
              0.1111111111111111,
              "#46039f"
             ],
             [
              0.2222222222222222,
              "#7201a8"
             ],
             [
              0.3333333333333333,
              "#9c179e"
             ],
             [
              0.4444444444444444,
              "#bd3786"
             ],
             [
              0.5555555555555556,
              "#d8576b"
             ],
             [
              0.6666666666666666,
              "#ed7953"
             ],
             [
              0.7777777777777778,
              "#fb9f3a"
             ],
             [
              0.8888888888888888,
              "#fdca26"
             ],
             [
              1,
              "#f0f921"
             ]
            ],
            "type": "histogram2dcontour"
           }
          ],
          "mesh3d": [
           {
            "colorbar": {
             "outlinewidth": 0,
             "ticks": ""
            },
            "type": "mesh3d"
           }
          ],
          "parcoords": [
           {
            "line": {
             "colorbar": {
              "outlinewidth": 0,
              "ticks": ""
             }
            },
            "type": "parcoords"
           }
          ],
          "pie": [
           {
            "automargin": true,
            "type": "pie"
           }
          ],
          "scatter": [
           {
            "marker": {
             "colorbar": {
              "outlinewidth": 0,
              "ticks": ""
             }
            },
            "type": "scatter"
           }
          ],
          "scatter3d": [
           {
            "line": {
             "colorbar": {
              "outlinewidth": 0,
              "ticks": ""
             }
            },
            "marker": {
             "colorbar": {
              "outlinewidth": 0,
              "ticks": ""
             }
            },
            "type": "scatter3d"
           }
          ],
          "scattercarpet": [
           {
            "marker": {
             "colorbar": {
              "outlinewidth": 0,
              "ticks": ""
             }
            },
            "type": "scattercarpet"
           }
          ],
          "scattergeo": [
           {
            "marker": {
             "colorbar": {
              "outlinewidth": 0,
              "ticks": ""
             }
            },
            "type": "scattergeo"
           }
          ],
          "scattergl": [
           {
            "marker": {
             "colorbar": {
              "outlinewidth": 0,
              "ticks": ""
             }
            },
            "type": "scattergl"
           }
          ],
          "scattermapbox": [
           {
            "marker": {
             "colorbar": {
              "outlinewidth": 0,
              "ticks": ""
             }
            },
            "type": "scattermapbox"
           }
          ],
          "scatterpolar": [
           {
            "marker": {
             "colorbar": {
              "outlinewidth": 0,
              "ticks": ""
             }
            },
            "type": "scatterpolar"
           }
          ],
          "scatterpolargl": [
           {
            "marker": {
             "colorbar": {
              "outlinewidth": 0,
              "ticks": ""
             }
            },
            "type": "scatterpolargl"
           }
          ],
          "scatterternary": [
           {
            "marker": {
             "colorbar": {
              "outlinewidth": 0,
              "ticks": ""
             }
            },
            "type": "scatterternary"
           }
          ],
          "surface": [
           {
            "colorbar": {
             "outlinewidth": 0,
             "ticks": ""
            },
            "colorscale": [
             [
              0,
              "#0d0887"
             ],
             [
              0.1111111111111111,
              "#46039f"
             ],
             [
              0.2222222222222222,
              "#7201a8"
             ],
             [
              0.3333333333333333,
              "#9c179e"
             ],
             [
              0.4444444444444444,
              "#bd3786"
             ],
             [
              0.5555555555555556,
              "#d8576b"
             ],
             [
              0.6666666666666666,
              "#ed7953"
             ],
             [
              0.7777777777777778,
              "#fb9f3a"
             ],
             [
              0.8888888888888888,
              "#fdca26"
             ],
             [
              1,
              "#f0f921"
             ]
            ],
            "type": "surface"
           }
          ],
          "table": [
           {
            "cells": {
             "fill": {
              "color": "#EBF0F8"
             },
             "line": {
              "color": "white"
             }
            },
            "header": {
             "fill": {
              "color": "#C8D4E3"
             },
             "line": {
              "color": "white"
             }
            },
            "type": "table"
           }
          ]
         },
         "layout": {
          "annotationdefaults": {
           "arrowcolor": "#2a3f5f",
           "arrowhead": 0,
           "arrowwidth": 1
          },
          "autotypenumbers": "strict",
          "coloraxis": {
           "colorbar": {
            "outlinewidth": 0,
            "ticks": ""
           }
          },
          "colorscale": {
           "diverging": [
            [
             0,
             "#8e0152"
            ],
            [
             0.1,
             "#c51b7d"
            ],
            [
             0.2,
             "#de77ae"
            ],
            [
             0.3,
             "#f1b6da"
            ],
            [
             0.4,
             "#fde0ef"
            ],
            [
             0.5,
             "#f7f7f7"
            ],
            [
             0.6,
             "#e6f5d0"
            ],
            [
             0.7,
             "#b8e186"
            ],
            [
             0.8,
             "#7fbc41"
            ],
            [
             0.9,
             "#4d9221"
            ],
            [
             1,
             "#276419"
            ]
           ],
           "sequential": [
            [
             0,
             "#0d0887"
            ],
            [
             0.1111111111111111,
             "#46039f"
            ],
            [
             0.2222222222222222,
             "#7201a8"
            ],
            [
             0.3333333333333333,
             "#9c179e"
            ],
            [
             0.4444444444444444,
             "#bd3786"
            ],
            [
             0.5555555555555556,
             "#d8576b"
            ],
            [
             0.6666666666666666,
             "#ed7953"
            ],
            [
             0.7777777777777778,
             "#fb9f3a"
            ],
            [
             0.8888888888888888,
             "#fdca26"
            ],
            [
             1,
             "#f0f921"
            ]
           ],
           "sequentialminus": [
            [
             0,
             "#0d0887"
            ],
            [
             0.1111111111111111,
             "#46039f"
            ],
            [
             0.2222222222222222,
             "#7201a8"
            ],
            [
             0.3333333333333333,
             "#9c179e"
            ],
            [
             0.4444444444444444,
             "#bd3786"
            ],
            [
             0.5555555555555556,
             "#d8576b"
            ],
            [
             0.6666666666666666,
             "#ed7953"
            ],
            [
             0.7777777777777778,
             "#fb9f3a"
            ],
            [
             0.8888888888888888,
             "#fdca26"
            ],
            [
             1,
             "#f0f921"
            ]
           ]
          },
          "colorway": [
           "#636efa",
           "#EF553B",
           "#00cc96",
           "#ab63fa",
           "#FFA15A",
           "#19d3f3",
           "#FF6692",
           "#B6E880",
           "#FF97FF",
           "#FECB52"
          ],
          "font": {
           "color": "#2a3f5f"
          },
          "geo": {
           "bgcolor": "white",
           "lakecolor": "white",
           "landcolor": "#E5ECF6",
           "showlakes": true,
           "showland": true,
           "subunitcolor": "white"
          },
          "hoverlabel": {
           "align": "left"
          },
          "hovermode": "closest",
          "mapbox": {
           "style": "light"
          },
          "paper_bgcolor": "white",
          "plot_bgcolor": "#E5ECF6",
          "polar": {
           "angularaxis": {
            "gridcolor": "white",
            "linecolor": "white",
            "ticks": ""
           },
           "bgcolor": "#E5ECF6",
           "radialaxis": {
            "gridcolor": "white",
            "linecolor": "white",
            "ticks": ""
           }
          },
          "scene": {
           "xaxis": {
            "backgroundcolor": "#E5ECF6",
            "gridcolor": "white",
            "gridwidth": 2,
            "linecolor": "white",
            "showbackground": true,
            "ticks": "",
            "zerolinecolor": "white"
           },
           "yaxis": {
            "backgroundcolor": "#E5ECF6",
            "gridcolor": "white",
            "gridwidth": 2,
            "linecolor": "white",
            "showbackground": true,
            "ticks": "",
            "zerolinecolor": "white"
           },
           "zaxis": {
            "backgroundcolor": "#E5ECF6",
            "gridcolor": "white",
            "gridwidth": 2,
            "linecolor": "white",
            "showbackground": true,
            "ticks": "",
            "zerolinecolor": "white"
           }
          },
          "shapedefaults": {
           "line": {
            "color": "#2a3f5f"
           }
          },
          "ternary": {
           "aaxis": {
            "gridcolor": "white",
            "linecolor": "white",
            "ticks": ""
           },
           "baxis": {
            "gridcolor": "white",
            "linecolor": "white",
            "ticks": ""
           },
           "bgcolor": "#E5ECF6",
           "caxis": {
            "gridcolor": "white",
            "linecolor": "white",
            "ticks": ""
           }
          },
          "title": {
           "x": 0.05
          },
          "xaxis": {
           "automargin": true,
           "gridcolor": "white",
           "linecolor": "white",
           "ticks": "",
           "title": {
            "standoff": 15
           },
           "zerolinecolor": "white",
           "zerolinewidth": 2
          },
          "yaxis": {
           "automargin": true,
           "gridcolor": "white",
           "linecolor": "white",
           "ticks": "",
           "title": {
            "standoff": 15
           },
           "zerolinecolor": "white",
           "zerolinewidth": 2
          }
         }
        }
       }
      }
     },
     "metadata": {}
    }
   ],
   "source": [
    "fig_circle = px.scatter_mapbox(start_stat,\n",
    "                    lat='start_lat',\n",
    "                    lon='start_lng',\n",
    "                    hover_name=\"start_station_name\",\n",
    "                    color_discrete_sequence=['red'],\n",
    "                    zoom=10)\n",
    "fig_circle.update_layout(mapbox_style=\"open-street-map\")\n",
    "fig_circle.update_layout(margin={\"r\":0,\"t\":0,\"l\":0,\"b\":0})\n",
    "fig_circle.show()"
   ]
  },
  {
   "cell_type": "code",
   "execution_count": 219,
   "metadata": {},
   "outputs": [],
   "source": [
    "fig_circle.write_html(\"top_circle_rides_2020.html\")"
   ]
  },
  {
   "cell_type": "code",
   "execution_count": 220,
   "metadata": {},
   "outputs": [
    {
     "output_type": "execute_result",
     "data": {
      "text/plain": [
       "                                start_station_name  \\\n",
       "773                      15th & East Capitol St NE   \n",
       "1555                                19th & K St NW   \n",
       "1556                                19th & K St NW   \n",
       "1863                     1st & Rhode Island Ave NW   \n",
       "6344                          Rockville Metro East   \n",
       "3139                                 8th & D St NW   \n",
       "5361                     Maryland Ave & 17th St NE   \n",
       "5190     Lincoln Park / 13th & East Capitol St NE    \n",
       "5191     Lincoln Park / 13th & East Capitol St NE    \n",
       "655                                 14th & R St NW   \n",
       "6770  Virginia Square Metro / Monroe St & 9th St N   \n",
       "3825             Convention Center / 7th & M St NW   \n",
       "6627                                  Takoma Metro   \n",
       "3637                      Columbia & Ontario Rd NW   \n",
       "5844            New Jersey Ave & N St NW/Dunbar HS   \n",
       "168                            11th & Girard St NW   \n",
       "3744                     Commonwealth Ave & Oak St   \n",
       "538                            14th & Irving St NW   \n",
       "5479                       Monroe Ave & Leslie Ave   \n",
       "1393                17th St & Massachusetts Ave NW   \n",
       "\n",
       "                                  end_station_name          started_at  \\\n",
       "773                      15th & East Capitol St NE 2020-12-01 00:14:16   \n",
       "1555                                19th & K St NW 2020-12-01 00:23:28   \n",
       "1556                                19th & K St NW 2020-12-01 00:32:08   \n",
       "1863                     1st & Rhode Island Ave NW 2020-12-01 02:01:47   \n",
       "6344                          Rockville Metro East 2020-12-01 03:53:56   \n",
       "3139                                 8th & D St NW 2020-12-01 05:50:08   \n",
       "5361                     Maryland Ave & 17th St NE 2020-12-01 06:23:27   \n",
       "5190     Lincoln Park / 13th & East Capitol St NE  2020-12-01 06:26:06   \n",
       "5191     Lincoln Park / 13th & East Capitol St NE  2020-12-01 06:26:49   \n",
       "655                                 14th & R St NW 2020-12-01 06:27:04   \n",
       "6770  Virginia Square Metro / Monroe St & 9th St N 2020-12-01 06:32:20   \n",
       "3825             Convention Center / 7th & M St NW 2020-12-01 06:57:59   \n",
       "6627                                  Takoma Metro 2020-12-01 07:07:14   \n",
       "3637                      Columbia & Ontario Rd NW 2020-12-01 07:38:26   \n",
       "5844            New Jersey Ave & N St NW/Dunbar HS 2020-12-01 07:46:02   \n",
       "168                            11th & Girard St NW 2020-12-01 07:51:07   \n",
       "3744                     Commonwealth Ave & Oak St 2020-12-01 08:35:31   \n",
       "538                            14th & Irving St NW 2020-12-01 08:42:10   \n",
       "5479                       Monroe Ave & Leslie Ave 2020-12-01 09:09:14   \n",
       "1393                17th St & Massachusetts Ave NW 2020-12-01 09:16:50   \n",
       "\n",
       "                ended_at  start_date  \n",
       "773  2020-12-01 00:32:36           1  \n",
       "1555 2020-12-01 00:47:34           1  \n",
       "1556 2020-12-01 00:47:40           1  \n",
       "1863 2020-12-01 02:02:39           1  \n",
       "6344 2020-12-01 04:10:31           1  \n",
       "3139 2020-12-01 05:53:58           1  \n",
       "5361 2020-12-01 06:24:16           1  \n",
       "5190 2020-12-01 06:26:22           1  \n",
       "5191 2020-12-01 06:37:53           1  \n",
       "655  2020-12-01 06:55:09           1  \n",
       "6770 2020-12-01 07:23:47           1  \n",
       "3825 2020-12-01 07:08:30           1  \n",
       "6627 2020-12-01 15:22:41           1  \n",
       "3637 2020-12-01 07:52:48           1  \n",
       "5844 2020-12-01 08:09:14           1  \n",
       "168  2020-12-01 07:51:40           1  \n",
       "3744 2020-12-01 09:19:43           1  \n",
       "538  2020-12-01 08:42:51           1  \n",
       "5479 2020-12-01 09:34:59           1  \n",
       "1393 2020-12-01 09:17:29           1  "
      ],
      "text/html": "<div>\n<style scoped>\n    .dataframe tbody tr th:only-of-type {\n        vertical-align: middle;\n    }\n\n    .dataframe tbody tr th {\n        vertical-align: top;\n    }\n\n    .dataframe thead th {\n        text-align: right;\n    }\n</style>\n<table border=\"1\" class=\"dataframe\">\n  <thead>\n    <tr style=\"text-align: right;\">\n      <th></th>\n      <th>start_station_name</th>\n      <th>end_station_name</th>\n      <th>started_at</th>\n      <th>ended_at</th>\n      <th>start_date</th>\n    </tr>\n  </thead>\n  <tbody>\n    <tr>\n      <th>773</th>\n      <td>15th &amp; East Capitol St NE</td>\n      <td>15th &amp; East Capitol St NE</td>\n      <td>2020-12-01 00:14:16</td>\n      <td>2020-12-01 00:32:36</td>\n      <td>1</td>\n    </tr>\n    <tr>\n      <th>1555</th>\n      <td>19th &amp; K St NW</td>\n      <td>19th &amp; K St NW</td>\n      <td>2020-12-01 00:23:28</td>\n      <td>2020-12-01 00:47:34</td>\n      <td>1</td>\n    </tr>\n    <tr>\n      <th>1556</th>\n      <td>19th &amp; K St NW</td>\n      <td>19th &amp; K St NW</td>\n      <td>2020-12-01 00:32:08</td>\n      <td>2020-12-01 00:47:40</td>\n      <td>1</td>\n    </tr>\n    <tr>\n      <th>1863</th>\n      <td>1st &amp; Rhode Island Ave NW</td>\n      <td>1st &amp; Rhode Island Ave NW</td>\n      <td>2020-12-01 02:01:47</td>\n      <td>2020-12-01 02:02:39</td>\n      <td>1</td>\n    </tr>\n    <tr>\n      <th>6344</th>\n      <td>Rockville Metro East</td>\n      <td>Rockville Metro East</td>\n      <td>2020-12-01 03:53:56</td>\n      <td>2020-12-01 04:10:31</td>\n      <td>1</td>\n    </tr>\n    <tr>\n      <th>3139</th>\n      <td>8th &amp; D St NW</td>\n      <td>8th &amp; D St NW</td>\n      <td>2020-12-01 05:50:08</td>\n      <td>2020-12-01 05:53:58</td>\n      <td>1</td>\n    </tr>\n    <tr>\n      <th>5361</th>\n      <td>Maryland Ave &amp; 17th St NE</td>\n      <td>Maryland Ave &amp; 17th St NE</td>\n      <td>2020-12-01 06:23:27</td>\n      <td>2020-12-01 06:24:16</td>\n      <td>1</td>\n    </tr>\n    <tr>\n      <th>5190</th>\n      <td>Lincoln Park / 13th &amp; East Capitol St NE</td>\n      <td>Lincoln Park / 13th &amp; East Capitol St NE</td>\n      <td>2020-12-01 06:26:06</td>\n      <td>2020-12-01 06:26:22</td>\n      <td>1</td>\n    </tr>\n    <tr>\n      <th>5191</th>\n      <td>Lincoln Park / 13th &amp; East Capitol St NE</td>\n      <td>Lincoln Park / 13th &amp; East Capitol St NE</td>\n      <td>2020-12-01 06:26:49</td>\n      <td>2020-12-01 06:37:53</td>\n      <td>1</td>\n    </tr>\n    <tr>\n      <th>655</th>\n      <td>14th &amp; R St NW</td>\n      <td>14th &amp; R St NW</td>\n      <td>2020-12-01 06:27:04</td>\n      <td>2020-12-01 06:55:09</td>\n      <td>1</td>\n    </tr>\n    <tr>\n      <th>6770</th>\n      <td>Virginia Square Metro / Monroe St &amp; 9th St N</td>\n      <td>Virginia Square Metro / Monroe St &amp; 9th St N</td>\n      <td>2020-12-01 06:32:20</td>\n      <td>2020-12-01 07:23:47</td>\n      <td>1</td>\n    </tr>\n    <tr>\n      <th>3825</th>\n      <td>Convention Center / 7th &amp; M St NW</td>\n      <td>Convention Center / 7th &amp; M St NW</td>\n      <td>2020-12-01 06:57:59</td>\n      <td>2020-12-01 07:08:30</td>\n      <td>1</td>\n    </tr>\n    <tr>\n      <th>6627</th>\n      <td>Takoma Metro</td>\n      <td>Takoma Metro</td>\n      <td>2020-12-01 07:07:14</td>\n      <td>2020-12-01 15:22:41</td>\n      <td>1</td>\n    </tr>\n    <tr>\n      <th>3637</th>\n      <td>Columbia &amp; Ontario Rd NW</td>\n      <td>Columbia &amp; Ontario Rd NW</td>\n      <td>2020-12-01 07:38:26</td>\n      <td>2020-12-01 07:52:48</td>\n      <td>1</td>\n    </tr>\n    <tr>\n      <th>5844</th>\n      <td>New Jersey Ave &amp; N St NW/Dunbar HS</td>\n      <td>New Jersey Ave &amp; N St NW/Dunbar HS</td>\n      <td>2020-12-01 07:46:02</td>\n      <td>2020-12-01 08:09:14</td>\n      <td>1</td>\n    </tr>\n    <tr>\n      <th>168</th>\n      <td>11th &amp; Girard St NW</td>\n      <td>11th &amp; Girard St NW</td>\n      <td>2020-12-01 07:51:07</td>\n      <td>2020-12-01 07:51:40</td>\n      <td>1</td>\n    </tr>\n    <tr>\n      <th>3744</th>\n      <td>Commonwealth Ave &amp; Oak St</td>\n      <td>Commonwealth Ave &amp; Oak St</td>\n      <td>2020-12-01 08:35:31</td>\n      <td>2020-12-01 09:19:43</td>\n      <td>1</td>\n    </tr>\n    <tr>\n      <th>538</th>\n      <td>14th &amp; Irving St NW</td>\n      <td>14th &amp; Irving St NW</td>\n      <td>2020-12-01 08:42:10</td>\n      <td>2020-12-01 08:42:51</td>\n      <td>1</td>\n    </tr>\n    <tr>\n      <th>5479</th>\n      <td>Monroe Ave &amp; Leslie Ave</td>\n      <td>Monroe Ave &amp; Leslie Ave</td>\n      <td>2020-12-01 09:09:14</td>\n      <td>2020-12-01 09:34:59</td>\n      <td>1</td>\n    </tr>\n    <tr>\n      <th>1393</th>\n      <td>17th St &amp; Massachusetts Ave NW</td>\n      <td>17th St &amp; Massachusetts Ave NW</td>\n      <td>2020-12-01 09:16:50</td>\n      <td>2020-12-01 09:17:29</td>\n      <td>1</td>\n    </tr>\n  </tbody>\n</table>\n</div>"
     },
     "metadata": {},
     "execution_count": 220
    }
   ],
   "source": [
    "df['trip_duration'] = df.ended_at - df.started_at\n",
    "# df.trip_duration.astype('timedelta64[m]')     "
   ]
  },
  {
   "cell_type": "code",
   "execution_count": 221,
   "metadata": {},
   "outputs": [],
   "source": [
    "start_stat2 = df[df.start_station_name == df.end_station_name]\n",
    "start_stat2 = pd.DataFrame(start_stat2.groupby(['start_station_name', 'end_station_name', 'started_at', 'ended_at'])['start_date'].count())\n",
    "start_stat2.reset_index(inplace=True)\n",
    "#start_stat2.sort_values(by='start_date', ascending = False).head(20)\n",
    "start_stat2.sort_values(by='started_at').head(20)"
   ]
  }
 ]
}