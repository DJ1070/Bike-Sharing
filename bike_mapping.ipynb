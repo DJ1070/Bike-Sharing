{
 "metadata": {
  "language_info": {
   "codemirror_mode": {
    "name": "ipython",
    "version": 3
   },
   "file_extension": ".py",
   "mimetype": "text/x-python",
   "name": "python",
   "nbconvert_exporter": "python",
   "pygments_lexer": "ipython3",
   "version": "3.8.5-final"
  },
  "orig_nbformat": 2,
  "kernelspec": {
   "name": "python3",
   "display_name": "Python 3",
   "language": "python"
  }
 },
 "nbformat": 4,
 "nbformat_minor": 2,
 "cells": [
  {
   "cell_type": "code",
   "execution_count": 26,
   "metadata": {},
   "outputs": [],
   "source": [
    "import pandas as pd\n",
    "import numpy as np\n",
    "import plotly.express as px\n",
    "import plotly.graph_objects as go"
   ]
  },
  {
   "cell_type": "code",
   "execution_count": 27,
   "metadata": {},
   "outputs": [
    {
     "output_type": "stream",
     "name": "stdout",
     "text": [
      "Length of d_station_information.data:  621 \nLength of d.data:  621\n"
     ]
    }
   ],
   "source": [
    "d_station_information = pd.read_json('https://gbfs.capitalbikeshare.com/gbfs/en/station_information.json')\n",
    "d = pd.read_json('https://gbfs.capitalbikeshare.com/gbfs/en/station_status.json')\n",
    "\n",
    "print('Length of d_station_information.data: ', len(d_station_information.data['stations']), '\\nLength of d.data: ', len(d.data[0]))"
   ]
  },
  {
   "cell_type": "code",
   "execution_count": 28,
   "metadata": {},
   "outputs": [
    {
     "output_type": "execute_result",
     "data": {
      "text/plain": [
       "{'is_renting': 1,\n",
       " 'num_bikes_available': 8,\n",
       " 'station_id': '1',\n",
       " 'eightd_has_available_keys': False,\n",
       " 'num_docks_disabled': 0,\n",
       " 'is_returning': 1,\n",
       " 'legacy_id': '1',\n",
       " 'is_installed': 1,\n",
       " 'station_status': 'active',\n",
       " 'num_docks_available': 7,\n",
       " 'num_ebikes_available': 0,\n",
       " 'last_reported': 1612322618,\n",
       " 'num_bikes_disabled': 0}"
      ]
     },
     "metadata": {},
     "execution_count": 28
    }
   ],
   "source": [
    "d.data[0][0]"
   ]
  },
  {
   "cell_type": "code",
   "execution_count": 29,
   "metadata": {},
   "outputs": [
    {
     "output_type": "stream",
     "name": "stdout",
     "text": [
      "Available Bikes:  4660\nAvailable E-Bikes:  169\n"
     ]
    }
   ],
   "source": [
    "# Getting real time data about currently available (e-)bikes\n",
    "\n",
    "av_bikes = []\n",
    "av_e_bikes = []\n",
    "for i in range(len(d.data[0])):\n",
    "    av_bikes.append(d.data[0][i]['num_bikes_available'])\n",
    "    av_e_bikes.append(d.data[0][i]['num_ebikes_available'])\n",
    "print('Available Bikes: ', pd.Series(av_bikes).sum())\n",
    "print('Available E-Bikes: ', pd.Series(av_e_bikes).sum())"
   ]
  },
  {
   "cell_type": "code",
   "execution_count": 30,
   "metadata": {},
   "outputs": [],
   "source": [
    "#d.data['stations'][0]['num_bikes_available']"
   ]
  },
  {
   "cell_type": "code",
   "execution_count": 31,
   "metadata": {},
   "outputs": [
    {
     "output_type": "stream",
     "name": "stdout",
     "text": [
      "Active Stations:  618\n"
     ]
    }
   ],
   "source": [
    "# Check: how many stations are active?\n",
    "\n",
    "active_station = []\n",
    "for i in range(len(d.data[0])):\n",
    "    active_station.append(d.data[0][i]['is_renting'])\n",
    "print('Active Stations: ', pd.Series(active_station).sum())"
   ]
  },
  {
   "cell_type": "code",
   "execution_count": 32,
   "metadata": {},
   "outputs": [
    {
     "output_type": "stream",
     "name": "stdout",
     "text": [
      "Stations with 0 bikes available:  22\nStations with 0 e-bikes available:  502\n"
     ]
    }
   ],
   "source": [
    "# Number of stations without (e-) bikes\n",
    "\n",
    "print('Stations with 0 bikes available: ',av_bikes.count(0))\n",
    "print('Stations with 0 e-bikes available: ',av_e_bikes.count(0))"
   ]
  },
  {
   "cell_type": "code",
   "execution_count": 33,
   "metadata": {},
   "outputs": [
    {
     "output_type": "stream",
     "name": "stdout",
     "text": [
      "Available Bikes in Active Stations:  4660\n",
      "Available E-Bikes in Active Stations:  169\n",
      "Active Stations:  618\n",
      "Inactive Station IDs:  ['11', '85', '486']\n"
     ]
    }
   ],
   "source": [
    "# Evaluation: How many bikes and e-bikes are available at ACTIVE stations?\n",
    "# (We learn that the given data for all available (e-)bikes always equals the available (e-)bikes at active stations.)\n",
    "\n",
    "bikes_active_stations = []\n",
    "e_bikes_active_stations = []\n",
    "stat = []\n",
    "inactive_station_id = []\n",
    "for i in range(len(d.data[0])):\n",
    "    if d.data[0][i]['is_renting'] == 1:\n",
    "        bikes_active_stations.append(d.data[0][i]['num_bikes_available'])\n",
    "        e_bikes_active_stations.append(d.data[0][i]['num_ebikes_available'])\n",
    "        stat.append(d.data[0][i]['is_renting'])\n",
    "    else:\n",
    "        inactive_station_id.append(d.data[0][i]['station_id'])\n",
    "print('Available Bikes in Active Stations: ', pd.Series(av_bikes).sum())\n",
    "print('Available E-Bikes in Active Stations: ', pd.Series(av_e_bikes).sum())\n",
    "print('Active Stations: ', pd.Series(stat).count())\n",
    "print('Inactive Station IDs: ', inactive_station_id)"
   ]
  },
  {
   "cell_type": "code",
   "execution_count": 34,
   "metadata": {},
   "outputs": [
    {
     "output_type": "stream",
     "name": "stdout",
     "text": [
      "Number of active stations without available bikes:  22\nNumber of active stations without available e-bikes:  500\n"
     ]
    }
   ],
   "source": [
    "print('Number of active stations without available bikes: ', bikes_active_stations.count(0))\n",
    "print('Number of active stations without available e-bikes: ', e_bikes_active_stations.count(0))"
   ]
  },
  {
   "cell_type": "code",
   "execution_count": 35,
   "metadata": {},
   "outputs": [
    {
     "output_type": "stream",
     "name": "stdout",
     "text": [
      "Stations numbers without bikes:  ['8', '12', '17', '65', '80', '99', '134', '137', '155', '165', '208', '251', '302', '376', '397', '400', '487', '495', '533', '601', '637', '659']\nStations numbers without e-bikes:  ['1', '2', '3', '4', '5', '6', '10', '11', '13', '14', '15', '16', '19', '20', '21', '22', '23', '24', '25', '26', '27', '29', '30', '34', '35', '36', '37', '38', '40', '41', '42', '43', '44', '45', '46', '48', '49', '51', '52', '53', '55', '56', '58', '59', '60', '61', '62', '66', '67', '69', '70', '71', '72', '73', '75', '76', '77', '78', '79', '82', '83', '84', '85', '86', '87', '88', '91', '92', '93', '94', '95', '97', '98', '100', '101', '102', '103', '104', '105', '106', '107', '108', '109', '110', '113', '114', '115', '116', '117', '118', '124', '125', '126', '127', '130', '131', '132', '133', '138', '139', '140', '141', '144', '145', '146', '147', '149', '150', '153', '154', '157', '158', '160', '161', '163', '166', '167', '168', '169', '170', '172', '173', '174', '175', '176', '177', '178', '179', '180', '181', '182', '183', '185', '186', '187', '188', '189', '190', '191', '192', '193', '194', '197', '200', '201', '202', '203', '204', '206', '207', '209', '210', '211', '212', '213', '216', '218', '219', '221', '222', '223', '225', '227', '229', '231', '232', '234', '235', '237', '239', '240', '242', '243', '244', '245', '247', '248', '250', '252', '253', '254', '255', '256', '257', '258', '260', '261', '262', '264', '266', '267', '268', '269', '270', '271', '272', '273', '275', '277', '278', '279', '282', '283', '284', '285', '286', '287', '288', '290', '293', '294', '296', '297', '298', '299', '303', '304', '305', '306', '308', '310', '311', '312', '313', '314', '315', '316', '317', '318', '319', '320', '321', '322', '323', '324', '325', '327', '328', '331', '332', '333', '334', '335', '337', '338', '339', '341', '342', '343', '344', '346', '347', '348', '349', '350', '351', '353', '357', '358', '359', '364', '365', '367', '368', '369', '370', '373', '374', '377', '378', '380', '381', '382', '383', '384', '385', '386', '387', '388', '389', '390', '391', '392', '393', '395', '396', '398', '399', '402', '403', '404', '405', '406', '410', '411', '412', '414', '415', '416', '417', '419', '421', '422', '423', '424', '425', '427', '428', '429', '430', '432', '433', '434', '435', '436', '437', '438', '439', '440', '441', '442', '445', '446', '447', '448', '450', '451', '452', '453', '454', '456', '457', '458', '459', '460', '461', '462', '463', '464', '465', '466', '467', '468', '469', '470', '471', '472', '473', '474', '475', '476', '477', '479', '480', '481', '482', '483', '484', '485', '488', '490', '491', '492', '493', '494', '496', '497', '498', '499', '500', '501', '505', '506', '507', '509', '510', '511', '512', '513', '514', '515', '516', '517', '518', '520', '521', '522', '523', '524', '525', '526', '527', '529', '530', '531', '534', '536', '537', '539', '541', '542', '543', '544', '545', '549', '550', '551', '552', '553', '555', '556', '560', '563', '565', '567', '569', '570', '571', '572', '573', '574', '575', '576', '577', '578', '579', '580', '581', '582', '583', '584', '585', '586', '587', '589', '592', '593', '594', '595', '596', '597', '598', '602', '603', '604', '606', '607', '609', '610', '613', '614', '615', '616', '617', '618', '619', '620', '621', '623', '624', '625', '628', '629', '632', '633', '634', '636', '638', '639', '641', '643', '645', '646', '649', '650', '651', '653', '654', '655', '657']\nStations numbers with only 1 bike left:  ['64', '379', '444']\nStations numbers with only 1 e-bike left:  ['7', '31', '32', '33', '39', '54', '57', '68', '74', '81', '89', '111', '112', '128', '129', '136', '142', '143', '148', '151', '152', '156', '159', '162', '171', '195', '196', '198', '199', '214', '215', '217', '220', '224', '226', '230', '233', '241', '246', '259', '263', '265', '280', '289', '295', '301', '309', '326', '330', '336', '340', '345', '352', '355', '356', '371', '394', '401', '407', '408', '409', '413', '431', '443', '449', '508', '532', '535', '538', '547', '562', '564', '568', '588', '605', '608', '612', '626', '630', '640', '648', '656']\n"
     ]
    }
   ],
   "source": [
    "# Which are the stations with 0 or only 1 available (e-)bike/s?\n",
    "\n",
    "bike_empty_stat_id = []\n",
    "e_bike_empty_stat_id = []\n",
    "only_one_bike_stat_id = []\n",
    "only_one_e_bike_stat_id = []\n",
    "for i in range(len(d.data[0])):\n",
    "    if d.data[0][i]['num_bikes_available'] == 0:\n",
    "        bike_empty_stat_id.append(d.data[0][i]['station_id'])\n",
    "    elif d.data[0][i]['num_ebikes_available'] == 0:\n",
    "        e_bike_empty_stat_id.append(d.data[0][i]['station_id'])\n",
    "    elif d.data[0][i]['num_bikes_available'] == 1:\n",
    "         only_one_bike_stat_id.append(d.data[0][i]['station_id'])\n",
    "    elif d.data[0][i]['num_ebikes_available'] == 1:\n",
    "         only_one_e_bike_stat_id.append(d.data[0][i]['station_id'])\n",
    "\n",
    "print('Stations numbers without bikes: ', bike_empty_stat_id)\n",
    "print('Stations numbers without e-bikes: ', e_bike_empty_stat_id)\n",
    "print('Stations numbers with only 1 bike left: ', only_one_bike_stat_id)\n",
    "print('Stations numbers with only 1 e-bike left: ', only_one_e_bike_stat_id)"
   ]
  },
  {
   "cell_type": "code",
   "execution_count": 36,
   "metadata": {},
   "outputs": [
    {
     "output_type": "execute_result",
     "data": {
      "text/plain": [
       "<AxesSubplot:>"
      ]
     },
     "metadata": {},
     "execution_count": 36
    },
    {
     "output_type": "display_data",
     "data": {
      "text/plain": "<Figure size 432x288 with 1 Axes>",
      "image/svg+xml": "<?xml version=\"1.0\" encoding=\"utf-8\" standalone=\"no\"?>\r\n<!DOCTYPE svg PUBLIC \"-//W3C//DTD SVG 1.1//EN\"\r\n  \"http://www.w3.org/Graphics/SVG/1.1/DTD/svg11.dtd\">\r\n<!-- Created with matplotlib (https://matplotlib.org/) -->\r\n<svg height=\"252.142271pt\" version=\"1.1\" viewBox=\"0 0 375.2875 252.142271\" width=\"375.2875pt\" xmlns=\"http://www.w3.org/2000/svg\" xmlns:xlink=\"http://www.w3.org/1999/xlink\">\r\n <metadata>\r\n  <rdf:RDF xmlns:cc=\"http://creativecommons.org/ns#\" xmlns:dc=\"http://purl.org/dc/elements/1.1/\" xmlns:rdf=\"http://www.w3.org/1999/02/22-rdf-syntax-ns#\">\r\n   <cc:Work>\r\n    <dc:type rdf:resource=\"http://purl.org/dc/dcmitype/StillImage\"/>\r\n    <dc:date>2021-02-03T12:47:32.061704</dc:date>\r\n    <dc:format>image/svg+xml</dc:format>\r\n    <dc:creator>\r\n     <cc:Agent>\r\n      <dc:title>Matplotlib v3.3.2, https://matplotlib.org/</dc:title>\r\n     </cc:Agent>\r\n    </dc:creator>\r\n   </cc:Work>\r\n  </rdf:RDF>\r\n </metadata>\r\n <defs>\r\n  <style type=\"text/css\">*{stroke-linecap:butt;stroke-linejoin:round;}</style>\r\n </defs>\r\n <g id=\"figure_1\">\r\n  <g id=\"patch_1\">\r\n   <path d=\"M 0 252.142271 \r\nL 375.2875 252.142271 \r\nL 375.2875 0 \r\nL 0 0 \r\nz\r\n\" style=\"fill:none;\"/>\r\n  </g>\r\n  <g id=\"axes_1\">\r\n   <g id=\"patch_2\">\r\n    <path d=\"M 33.2875 228.264146 \r\nL 368.0875 228.264146 \r\nL 368.0875 10.824146 \r\nL 33.2875 10.824146 \r\nz\r\n\" style=\"fill:#ffffff;\"/>\r\n   </g>\r\n   <g id=\"patch_3\">\r\n    <path clip-path=\"url(#pfe2bae2009)\" d=\"M 33.2875 228.17661 \r\nL 92.609759 228.17661 \r\nL 92.609759 228.001538 \r\nL 33.2875 228.001538 \r\nz\r\n\" style=\"fill:#1f77b4;\"/>\r\n   </g>\r\n   <g id=\"patch_4\">\r\n    <path clip-path=\"url(#pfe2bae2009)\" d=\"M 33.2875 227.826465 \r\nL 40.702782 227.826465 \r\nL 40.702782 227.651393 \r\nL 33.2875 227.651393 \r\nz\r\n\" style=\"fill:#1f77b4;\"/>\r\n   </g>\r\n   <g id=\"patch_5\">\r\n    <path clip-path=\"url(#pfe2bae2009)\" d=\"M 33.2875 227.47632 \r\nL 92.609759 227.47632 \r\nL 92.609759 227.301248 \r\nL 33.2875 227.301248 \r\nz\r\n\" style=\"fill:#1f77b4;\"/>\r\n   </g>\r\n   <g id=\"patch_6\">\r\n    <path clip-path=\"url(#pfe2bae2009)\" d=\"M 33.2875 227.126175 \r\nL 77.779194 227.126175 \r\nL 77.779194 226.951103 \r\nL 33.2875 226.951103 \r\nz\r\n\" style=\"fill:#1f77b4;\"/>\r\n   </g>\r\n   <g id=\"patch_7\">\r\n    <path clip-path=\"url(#pfe2bae2009)\" d=\"M 33.2875 226.77603 \r\nL 77.779194 226.77603 \r\nL 77.779194 226.600958 \r\nL 33.2875 226.600958 \r\nz\r\n\" style=\"fill:#1f77b4;\"/>\r\n   </g>\r\n   <g id=\"patch_8\">\r\n    <path clip-path=\"url(#pfe2bae2009)\" d=\"M 33.2875 226.425885 \r\nL 144.516736 226.425885 \r\nL 144.516736 226.250813 \r\nL 33.2875 226.250813 \r\nz\r\n\" style=\"fill:#1f77b4;\"/>\r\n   </g>\r\n   <g id=\"patch_9\">\r\n    <path clip-path=\"url(#pfe2bae2009)\" d=\"M 33.2875 226.07574 \r\nL 48.118065 226.07574 \r\nL 48.118065 225.900668 \r\nL 33.2875 225.900668 \r\nz\r\n\" style=\"fill:#1f77b4;\"/>\r\n   </g>\r\n   <g id=\"patch_10\">\r\n    <path clip-path=\"url(#pfe2bae2009)\" d=\"M 33.2875 225.725596 \r\nL 33.2875 225.725596 \r\nL 33.2875 225.550523 \r\nL 33.2875 225.550523 \r\nz\r\n\" style=\"fill:#1f77b4;\"/>\r\n   </g>\r\n   <g id=\"patch_11\">\r\n    <path clip-path=\"url(#pfe2bae2009)\" d=\"M 33.2875 225.375451 \r\nL 40.702782 225.375451 \r\nL 40.702782 225.200378 \r\nL 33.2875 225.200378 \r\nz\r\n\" style=\"fill:#1f77b4;\"/>\r\n   </g>\r\n   <g id=\"patch_12\">\r\n    <path clip-path=\"url(#pfe2bae2009)\" d=\"M 33.2875 225.025306 \r\nL 100.025042 225.025306 \r\nL 100.025042 224.850233 \r\nL 33.2875 224.850233 \r\nz\r\n\" style=\"fill:#1f77b4;\"/>\r\n   </g>\r\n   <g id=\"patch_13\">\r\n    <path clip-path=\"url(#pfe2bae2009)\" d=\"M 33.2875 224.675161 \r\nL 33.2875 224.675161 \r\nL 33.2875 224.500088 \r\nL 33.2875 224.500088 \r\nz\r\n\" style=\"fill:#1f77b4;\"/>\r\n   </g>\r\n   <g id=\"patch_14\">\r\n    <path clip-path=\"url(#pfe2bae2009)\" d=\"M 33.2875 224.325016 \r\nL 70.363912 224.325016 \r\nL 70.363912 224.149943 \r\nL 33.2875 224.149943 \r\nz\r\n\" style=\"fill:#1f77b4;\"/>\r\n   </g>\r\n   <g id=\"patch_15\">\r\n    <path clip-path=\"url(#pfe2bae2009)\" d=\"M 33.2875 223.974871 \r\nL 62.94863 223.974871 \r\nL 62.94863 223.799798 \r\nL 33.2875 223.799798 \r\nz\r\n\" style=\"fill:#1f77b4;\"/>\r\n   </g>\r\n   <g id=\"patch_16\">\r\n    <path clip-path=\"url(#pfe2bae2009)\" d=\"M 33.2875 223.624726 \r\nL 166.762583 223.624726 \r\nL 166.762583 223.449654 \r\nL 33.2875 223.449654 \r\nz\r\n\" style=\"fill:#1f77b4;\"/>\r\n   </g>\r\n   <g id=\"patch_17\">\r\n    <path clip-path=\"url(#pfe2bae2009)\" d=\"M 33.2875 223.274581 \r\nL 114.855606 223.274581 \r\nL 114.855606 223.099509 \r\nL 33.2875 223.099509 \r\nz\r\n\" style=\"fill:#1f77b4;\"/>\r\n   </g>\r\n   <g id=\"patch_18\">\r\n    <path clip-path=\"url(#pfe2bae2009)\" d=\"M 33.2875 222.924436 \r\nL 33.2875 222.924436 \r\nL 33.2875 222.749364 \r\nL 33.2875 222.749364 \r\nz\r\n\" style=\"fill:#1f77b4;\"/>\r\n   </g>\r\n   <g id=\"patch_19\">\r\n    <path clip-path=\"url(#pfe2bae2009)\" d=\"M 33.2875 222.574291 \r\nL 92.609759 222.574291 \r\nL 92.609759 222.399219 \r\nL 33.2875 222.399219 \r\nz\r\n\" style=\"fill:#1f77b4;\"/>\r\n   </g>\r\n   <g id=\"patch_20\">\r\n    <path clip-path=\"url(#pfe2bae2009)\" d=\"M 33.2875 222.224146 \r\nL 85.194477 222.224146 \r\nL 85.194477 222.049074 \r\nL 33.2875 222.049074 \r\nz\r\n\" style=\"fill:#1f77b4;\"/>\r\n   </g>\r\n   <g id=\"patch_21\">\r\n    <path clip-path=\"url(#pfe2bae2009)\" d=\"M 33.2875 221.874001 \r\nL 40.702782 221.874001 \r\nL 40.702782 221.698929 \r\nL 33.2875 221.698929 \r\nz\r\n\" style=\"fill:#1f77b4;\"/>\r\n   </g>\r\n   <g id=\"patch_22\">\r\n    <path clip-path=\"url(#pfe2bae2009)\" d=\"M 33.2875 221.523856 \r\nL 62.94863 221.523856 \r\nL 62.94863 221.348784 \r\nL 33.2875 221.348784 \r\nz\r\n\" style=\"fill:#1f77b4;\"/>\r\n   </g>\r\n   <g id=\"patch_23\">\r\n    <path clip-path=\"url(#pfe2bae2009)\" d=\"M 33.2875 221.173712 \r\nL 62.94863 221.173712 \r\nL 62.94863 220.998639 \r\nL 33.2875 220.998639 \r\nz\r\n\" style=\"fill:#1f77b4;\"/>\r\n   </g>\r\n   <g id=\"patch_24\">\r\n    <path clip-path=\"url(#pfe2bae2009)\" d=\"M 33.2875 220.823567 \r\nL 114.855606 220.823567 \r\nL 114.855606 220.648494 \r\nL 33.2875 220.648494 \r\nz\r\n\" style=\"fill:#1f77b4;\"/>\r\n   </g>\r\n   <g id=\"patch_25\">\r\n    <path clip-path=\"url(#pfe2bae2009)\" d=\"M 33.2875 220.473422 \r\nL 62.94863 220.473422 \r\nL 62.94863 220.298349 \r\nL 33.2875 220.298349 \r\nz\r\n\" style=\"fill:#1f77b4;\"/>\r\n   </g>\r\n   <g id=\"patch_26\">\r\n    <path clip-path=\"url(#pfe2bae2009)\" d=\"M 33.2875 220.123277 \r\nL 100.025042 220.123277 \r\nL 100.025042 219.948204 \r\nL 33.2875 219.948204 \r\nz\r\n\" style=\"fill:#1f77b4;\"/>\r\n   </g>\r\n   <g id=\"patch_27\">\r\n    <path clip-path=\"url(#pfe2bae2009)\" d=\"M 33.2875 219.773132 \r\nL 107.440324 219.773132 \r\nL 107.440324 219.598059 \r\nL 33.2875 219.598059 \r\nz\r\n\" style=\"fill:#1f77b4;\"/>\r\n   </g>\r\n   <g id=\"patch_28\">\r\n    <path clip-path=\"url(#pfe2bae2009)\" d=\"M 33.2875 219.422987 \r\nL 211.254277 219.422987 \r\nL 211.254277 219.247914 \r\nL 33.2875 219.247914 \r\nz\r\n\" style=\"fill:#1f77b4;\"/>\r\n   </g>\r\n   <g id=\"patch_29\">\r\n    <path clip-path=\"url(#pfe2bae2009)\" d=\"M 33.2875 219.072842 \r\nL 114.855606 219.072842 \r\nL 114.855606 218.897769 \r\nL 33.2875 218.897769 \r\nz\r\n\" style=\"fill:#1f77b4;\"/>\r\n   </g>\r\n   <g id=\"patch_30\">\r\n    <path clip-path=\"url(#pfe2bae2009)\" d=\"M 33.2875 218.722697 \r\nL 114.855606 218.722697 \r\nL 114.855606 218.547625 \r\nL 33.2875 218.547625 \r\nz\r\n\" style=\"fill:#1f77b4;\"/>\r\n   </g>\r\n   <g id=\"patch_31\">\r\n    <path clip-path=\"url(#pfe2bae2009)\" d=\"M 33.2875 218.372552 \r\nL 70.363912 218.372552 \r\nL 70.363912 218.19748 \r\nL 33.2875 218.19748 \r\nz\r\n\" style=\"fill:#1f77b4;\"/>\r\n   </g>\r\n   <g id=\"patch_32\">\r\n    <path clip-path=\"url(#pfe2bae2009)\" d=\"M 33.2875 218.022407 \r\nL 122.270889 218.022407 \r\nL 122.270889 217.847335 \r\nL 33.2875 217.847335 \r\nz\r\n\" style=\"fill:#1f77b4;\"/>\r\n   </g>\r\n   <g id=\"patch_33\">\r\n    <path clip-path=\"url(#pfe2bae2009)\" d=\"M 33.2875 217.672262 \r\nL 92.609759 217.672262 \r\nL 92.609759 217.49719 \r\nL 33.2875 217.49719 \r\nz\r\n\" style=\"fill:#1f77b4;\"/>\r\n   </g>\r\n   <g id=\"patch_34\">\r\n    <path clip-path=\"url(#pfe2bae2009)\" d=\"M 33.2875 217.322117 \r\nL 62.94863 217.322117 \r\nL 62.94863 217.147045 \r\nL 33.2875 217.147045 \r\nz\r\n\" style=\"fill:#1f77b4;\"/>\r\n   </g>\r\n   <g id=\"patch_35\">\r\n    <path clip-path=\"url(#pfe2bae2009)\" d=\"M 33.2875 216.971972 \r\nL 62.94863 216.971972 \r\nL 62.94863 216.7969 \r\nL 33.2875 216.7969 \r\nz\r\n\" style=\"fill:#1f77b4;\"/>\r\n   </g>\r\n   <g id=\"patch_36\">\r\n    <path clip-path=\"url(#pfe2bae2009)\" d=\"M 33.2875 216.621827 \r\nL 70.363912 216.621827 \r\nL 70.363912 216.446755 \r\nL 33.2875 216.446755 \r\nz\r\n\" style=\"fill:#1f77b4;\"/>\r\n   </g>\r\n   <g id=\"patch_37\">\r\n    <path clip-path=\"url(#pfe2bae2009)\" d=\"M 33.2875 216.271683 \r\nL 77.779194 216.271683 \r\nL 77.779194 216.09661 \r\nL 33.2875 216.09661 \r\nz\r\n\" style=\"fill:#1f77b4;\"/>\r\n   </g>\r\n   <g id=\"patch_38\">\r\n    <path clip-path=\"url(#pfe2bae2009)\" d=\"M 33.2875 215.921538 \r\nL 48.118065 215.921538 \r\nL 48.118065 215.746465 \r\nL 33.2875 215.746465 \r\nz\r\n\" style=\"fill:#1f77b4;\"/>\r\n   </g>\r\n   <g id=\"patch_39\">\r\n    <path clip-path=\"url(#pfe2bae2009)\" d=\"M 33.2875 215.571393 \r\nL 55.533347 215.571393 \r\nL 55.533347 215.39632 \r\nL 33.2875 215.39632 \r\nz\r\n\" style=\"fill:#1f77b4;\"/>\r\n   </g>\r\n   <g id=\"patch_40\">\r\n    <path clip-path=\"url(#pfe2bae2009)\" d=\"M 33.2875 215.221248 \r\nL 85.194477 215.221248 \r\nL 85.194477 215.046175 \r\nL 33.2875 215.046175 \r\nz\r\n\" style=\"fill:#1f77b4;\"/>\r\n   </g>\r\n   <g id=\"patch_41\">\r\n    <path clip-path=\"url(#pfe2bae2009)\" d=\"M 33.2875 214.871103 \r\nL 70.363912 214.871103 \r\nL 70.363912 214.69603 \r\nL 33.2875 214.69603 \r\nz\r\n\" style=\"fill:#1f77b4;\"/>\r\n   </g>\r\n   <g id=\"patch_42\">\r\n    <path clip-path=\"url(#pfe2bae2009)\" d=\"M 33.2875 214.520958 \r\nL 107.440324 214.520958 \r\nL 107.440324 214.345885 \r\nL 33.2875 214.345885 \r\nz\r\n\" style=\"fill:#1f77b4;\"/>\r\n   </g>\r\n   <g id=\"patch_43\">\r\n    <path clip-path=\"url(#pfe2bae2009)\" d=\"M 33.2875 214.170813 \r\nL 114.855606 214.170813 \r\nL 114.855606 213.99574 \r\nL 33.2875 213.99574 \r\nz\r\n\" style=\"fill:#1f77b4;\"/>\r\n   </g>\r\n   <g id=\"patch_44\">\r\n    <path clip-path=\"url(#pfe2bae2009)\" d=\"M 33.2875 213.820668 \r\nL 70.363912 213.820668 \r\nL 70.363912 213.645596 \r\nL 33.2875 213.645596 \r\nz\r\n\" style=\"fill:#1f77b4;\"/>\r\n   </g>\r\n   <g id=\"patch_45\">\r\n    <path clip-path=\"url(#pfe2bae2009)\" d=\"M 33.2875 213.470523 \r\nL 48.118065 213.470523 \r\nL 48.118065 213.295451 \r\nL 33.2875 213.295451 \r\nz\r\n\" style=\"fill:#1f77b4;\"/>\r\n   </g>\r\n   <g id=\"patch_46\">\r\n    <path clip-path=\"url(#pfe2bae2009)\" d=\"M 33.2875 213.120378 \r\nL 181.593148 213.120378 \r\nL 181.593148 212.945306 \r\nL 33.2875 212.945306 \r\nz\r\n\" style=\"fill:#1f77b4;\"/>\r\n   </g>\r\n   <g id=\"patch_47\">\r\n    <path clip-path=\"url(#pfe2bae2009)\" d=\"M 33.2875 212.770233 \r\nL 100.025042 212.770233 \r\nL 100.025042 212.595161 \r\nL 33.2875 212.595161 \r\nz\r\n\" style=\"fill:#1f77b4;\"/>\r\n   </g>\r\n   <g id=\"patch_48\">\r\n    <path clip-path=\"url(#pfe2bae2009)\" d=\"M 33.2875 212.420088 \r\nL 100.025042 212.420088 \r\nL 100.025042 212.245016 \r\nL 33.2875 212.245016 \r\nz\r\n\" style=\"fill:#1f77b4;\"/>\r\n   </g>\r\n   <g id=\"patch_49\">\r\n    <path clip-path=\"url(#pfe2bae2009)\" d=\"M 33.2875 212.069943 \r\nL 137.101453 212.069943 \r\nL 137.101453 211.894871 \r\nL 33.2875 211.894871 \r\nz\r\n\" style=\"fill:#1f77b4;\"/>\r\n   </g>\r\n   <g id=\"patch_50\">\r\n    <path clip-path=\"url(#pfe2bae2009)\" d=\"M 33.2875 211.719798 \r\nL 85.194477 211.719798 \r\nL 85.194477 211.544726 \r\nL 33.2875 211.544726 \r\nz\r\n\" style=\"fill:#1f77b4;\"/>\r\n   </g>\r\n   <g id=\"patch_51\">\r\n    <path clip-path=\"url(#pfe2bae2009)\" d=\"M 33.2875 211.369654 \r\nL 270.576537 211.369654 \r\nL 270.576537 211.194581 \r\nL 33.2875 211.194581 \r\nz\r\n\" style=\"fill:#1f77b4;\"/>\r\n   </g>\r\n   <g id=\"patch_52\">\r\n    <path clip-path=\"url(#pfe2bae2009)\" d=\"M 33.2875 211.019509 \r\nL 137.101453 211.019509 \r\nL 137.101453 210.844436 \r\nL 33.2875 210.844436 \r\nz\r\n\" style=\"fill:#1f77b4;\"/>\r\n   </g>\r\n   <g id=\"patch_53\">\r\n    <path clip-path=\"url(#pfe2bae2009)\" d=\"M 33.2875 210.669364 \r\nL 137.101453 210.669364 \r\nL 137.101453 210.494291 \r\nL 33.2875 210.494291 \r\nz\r\n\" style=\"fill:#1f77b4;\"/>\r\n   </g>\r\n   <g id=\"patch_54\">\r\n    <path clip-path=\"url(#pfe2bae2009)\" d=\"M 33.2875 210.319219 \r\nL 196.423713 210.319219 \r\nL 196.423713 210.144146 \r\nL 33.2875 210.144146 \r\nz\r\n\" style=\"fill:#1f77b4;\"/>\r\n   </g>\r\n   <g id=\"patch_55\">\r\n    <path clip-path=\"url(#pfe2bae2009)\" d=\"M 33.2875 209.969074 \r\nL 48.118065 209.969074 \r\nL 48.118065 209.794001 \r\nL 33.2875 209.794001 \r\nz\r\n\" style=\"fill:#1f77b4;\"/>\r\n   </g>\r\n   <g id=\"patch_56\">\r\n    <path clip-path=\"url(#pfe2bae2009)\" d=\"M 33.2875 209.618929 \r\nL 55.533347 209.618929 \r\nL 55.533347 209.443856 \r\nL 33.2875 209.443856 \r\nz\r\n\" style=\"fill:#1f77b4;\"/>\r\n   </g>\r\n   <g id=\"patch_57\">\r\n    <path clip-path=\"url(#pfe2bae2009)\" d=\"M 33.2875 209.268784 \r\nL 77.779194 209.268784 \r\nL 77.779194 209.093712 \r\nL 33.2875 209.093712 \r\nz\r\n\" style=\"fill:#1f77b4;\"/>\r\n   </g>\r\n   <g id=\"patch_58\">\r\n    <path clip-path=\"url(#pfe2bae2009)\" d=\"M 33.2875 208.918639 \r\nL 40.702782 208.918639 \r\nL 40.702782 208.743567 \r\nL 33.2875 208.743567 \r\nz\r\n\" style=\"fill:#1f77b4;\"/>\r\n   </g>\r\n   <g id=\"patch_59\">\r\n    <path clip-path=\"url(#pfe2bae2009)\" d=\"M 33.2875 208.568494 \r\nL 129.686171 208.568494 \r\nL 129.686171 208.393422 \r\nL 33.2875 208.393422 \r\nz\r\n\" style=\"fill:#1f77b4;\"/>\r\n   </g>\r\n   <g id=\"patch_60\">\r\n    <path clip-path=\"url(#pfe2bae2009)\" d=\"M 33.2875 208.218349 \r\nL 85.194477 208.218349 \r\nL 85.194477 208.043277 \r\nL 33.2875 208.043277 \r\nz\r\n\" style=\"fill:#1f77b4;\"/>\r\n   </g>\r\n   <g id=\"patch_61\">\r\n    <path clip-path=\"url(#pfe2bae2009)\" d=\"M 33.2875 207.868204 \r\nL 85.194477 207.868204 \r\nL 85.194477 207.693132 \r\nL 33.2875 207.693132 \r\nz\r\n\" style=\"fill:#1f77b4;\"/>\r\n   </g>\r\n   <g id=\"patch_62\">\r\n    <path clip-path=\"url(#pfe2bae2009)\" d=\"M 33.2875 207.518059 \r\nL 40.702782 207.518059 \r\nL 40.702782 207.342987 \r\nL 33.2875 207.342987 \r\nz\r\n\" style=\"fill:#1f77b4;\"/>\r\n   </g>\r\n   <g id=\"patch_63\">\r\n    <path clip-path=\"url(#pfe2bae2009)\" d=\"M 33.2875 207.167914 \r\nL 48.118065 207.167914 \r\nL 48.118065 206.992842 \r\nL 33.2875 206.992842 \r\nz\r\n\" style=\"fill:#1f77b4;\"/>\r\n   </g>\r\n   <g id=\"patch_64\">\r\n    <path clip-path=\"url(#pfe2bae2009)\" d=\"M 33.2875 206.817769 \r\nL 40.702782 206.817769 \r\nL 40.702782 206.642697 \r\nL 33.2875 206.642697 \r\nz\r\n\" style=\"fill:#1f77b4;\"/>\r\n   </g>\r\n   <g id=\"patch_65\">\r\n    <path clip-path=\"url(#pfe2bae2009)\" d=\"M 33.2875 206.467625 \r\nL 33.2875 206.467625 \r\nL 33.2875 206.292552 \r\nL 33.2875 206.292552 \r\nz\r\n\" style=\"fill:#1f77b4;\"/>\r\n   </g>\r\n   <g id=\"patch_66\">\r\n    <path clip-path=\"url(#pfe2bae2009)\" d=\"M 33.2875 206.11748 \r\nL 62.94863 206.11748 \r\nL 62.94863 205.942407 \r\nL 33.2875 205.942407 \r\nz\r\n\" style=\"fill:#1f77b4;\"/>\r\n   </g>\r\n   <g id=\"patch_67\">\r\n    <path clip-path=\"url(#pfe2bae2009)\" d=\"M 33.2875 205.767335 \r\nL 77.779194 205.767335 \r\nL 77.779194 205.592262 \r\nL 33.2875 205.592262 \r\nz\r\n\" style=\"fill:#1f77b4;\"/>\r\n   </g>\r\n   <g id=\"patch_68\">\r\n    <path clip-path=\"url(#pfe2bae2009)\" d=\"M 33.2875 205.41719 \r\nL 48.118065 205.41719 \r\nL 48.118065 205.242117 \r\nL 33.2875 205.242117 \r\nz\r\n\" style=\"fill:#1f77b4;\"/>\r\n   </g>\r\n   <g id=\"patch_69\">\r\n    <path clip-path=\"url(#pfe2bae2009)\" d=\"M 33.2875 205.067045 \r\nL 85.194477 205.067045 \r\nL 85.194477 204.891972 \r\nL 33.2875 204.891972 \r\nz\r\n\" style=\"fill:#1f77b4;\"/>\r\n   </g>\r\n   <g id=\"patch_70\">\r\n    <path clip-path=\"url(#pfe2bae2009)\" d=\"M 33.2875 204.7169 \r\nL 70.363912 204.7169 \r\nL 70.363912 204.541827 \r\nL 33.2875 204.541827 \r\nz\r\n\" style=\"fill:#1f77b4;\"/>\r\n   </g>\r\n   <g id=\"patch_71\">\r\n    <path clip-path=\"url(#pfe2bae2009)\" d=\"M 33.2875 204.366755 \r\nL 144.516736 204.366755 \r\nL 144.516736 204.191683 \r\nL 33.2875 204.191683 \r\nz\r\n\" style=\"fill:#1f77b4;\"/>\r\n   </g>\r\n   <g id=\"patch_72\">\r\n    <path clip-path=\"url(#pfe2bae2009)\" d=\"M 33.2875 204.01661 \r\nL 137.101453 204.01661 \r\nL 137.101453 203.841538 \r\nL 33.2875 203.841538 \r\nz\r\n\" style=\"fill:#1f77b4;\"/>\r\n   </g>\r\n   <g id=\"patch_73\">\r\n    <path clip-path=\"url(#pfe2bae2009)\" d=\"M 33.2875 203.666465 \r\nL 55.533347 203.666465 \r\nL 55.533347 203.491393 \r\nL 33.2875 203.491393 \r\nz\r\n\" style=\"fill:#1f77b4;\"/>\r\n   </g>\r\n   <g id=\"patch_74\">\r\n    <path clip-path=\"url(#pfe2bae2009)\" d=\"M 33.2875 203.31632 \r\nL 55.533347 203.31632 \r\nL 55.533347 203.141248 \r\nL 33.2875 203.141248 \r\nz\r\n\" style=\"fill:#1f77b4;\"/>\r\n   </g>\r\n   <g id=\"patch_75\">\r\n    <path clip-path=\"url(#pfe2bae2009)\" d=\"M 33.2875 202.966175 \r\nL 48.118065 202.966175 \r\nL 48.118065 202.791103 \r\nL 33.2875 202.791103 \r\nz\r\n\" style=\"fill:#1f77b4;\"/>\r\n   </g>\r\n   <g id=\"patch_76\">\r\n    <path clip-path=\"url(#pfe2bae2009)\" d=\"M 33.2875 202.61603 \r\nL 107.440324 202.61603 \r\nL 107.440324 202.440958 \r\nL 33.2875 202.440958 \r\nz\r\n\" style=\"fill:#1f77b4;\"/>\r\n   </g>\r\n   <g id=\"patch_77\">\r\n    <path clip-path=\"url(#pfe2bae2009)\" d=\"M 33.2875 202.265885 \r\nL 70.363912 202.265885 \r\nL 70.363912 202.090813 \r\nL 33.2875 202.090813 \r\nz\r\n\" style=\"fill:#1f77b4;\"/>\r\n   </g>\r\n   <g id=\"patch_78\">\r\n    <path clip-path=\"url(#pfe2bae2009)\" d=\"M 33.2875 201.91574 \r\nL 100.025042 201.91574 \r\nL 100.025042 201.740668 \r\nL 33.2875 201.740668 \r\nz\r\n\" style=\"fill:#1f77b4;\"/>\r\n   </g>\r\n   <g id=\"patch_79\">\r\n    <path clip-path=\"url(#pfe2bae2009)\" d=\"M 33.2875 201.565596 \r\nL 151.932018 201.565596 \r\nL 151.932018 201.390523 \r\nL 33.2875 201.390523 \r\nz\r\n\" style=\"fill:#1f77b4;\"/>\r\n   </g>\r\n   <g id=\"patch_80\">\r\n    <path clip-path=\"url(#pfe2bae2009)\" d=\"M 33.2875 201.215451 \r\nL 33.2875 201.215451 \r\nL 33.2875 201.040378 \r\nL 33.2875 201.040378 \r\nz\r\n\" style=\"fill:#1f77b4;\"/>\r\n   </g>\r\n   <g id=\"patch_81\">\r\n    <path clip-path=\"url(#pfe2bae2009)\" d=\"M 33.2875 200.865306 \r\nL 166.762583 200.865306 \r\nL 166.762583 200.690233 \r\nL 33.2875 200.690233 \r\nz\r\n\" style=\"fill:#1f77b4;\"/>\r\n   </g>\r\n   <g id=\"patch_82\">\r\n    <path clip-path=\"url(#pfe2bae2009)\" d=\"M 33.2875 200.515161 \r\nL 196.423713 200.515161 \r\nL 196.423713 200.340088 \r\nL 33.2875 200.340088 \r\nz\r\n\" style=\"fill:#1f77b4;\"/>\r\n   </g>\r\n   <g id=\"patch_83\">\r\n    <path clip-path=\"url(#pfe2bae2009)\" d=\"M 33.2875 200.165016 \r\nL 122.270889 200.165016 \r\nL 122.270889 199.989943 \r\nL 33.2875 199.989943 \r\nz\r\n\" style=\"fill:#1f77b4;\"/>\r\n   </g>\r\n   <g id=\"patch_84\">\r\n    <path clip-path=\"url(#pfe2bae2009)\" d=\"M 33.2875 199.814871 \r\nL 137.101453 199.814871 \r\nL 137.101453 199.639798 \r\nL 33.2875 199.639798 \r\nz\r\n\" style=\"fill:#1f77b4;\"/>\r\n   </g>\r\n   <g id=\"patch_85\">\r\n    <path clip-path=\"url(#pfe2bae2009)\" d=\"M 33.2875 199.464726 \r\nL 129.686171 199.464726 \r\nL 129.686171 199.289654 \r\nL 33.2875 199.289654 \r\nz\r\n\" style=\"fill:#1f77b4;\"/>\r\n   </g>\r\n   <g id=\"patch_86\">\r\n    <path clip-path=\"url(#pfe2bae2009)\" d=\"M 33.2875 199.114581 \r\nL 92.609759 199.114581 \r\nL 92.609759 198.939509 \r\nL 33.2875 198.939509 \r\nz\r\n\" style=\"fill:#1f77b4;\"/>\r\n   </g>\r\n   <g id=\"patch_87\">\r\n    <path clip-path=\"url(#pfe2bae2009)\" d=\"M 33.2875 198.764436 \r\nL 114.855606 198.764436 \r\nL 114.855606 198.589364 \r\nL 33.2875 198.589364 \r\nz\r\n\" style=\"fill:#1f77b4;\"/>\r\n   </g>\r\n   <g id=\"patch_88\">\r\n    <path clip-path=\"url(#pfe2bae2009)\" d=\"M 33.2875 198.414291 \r\nL 129.686171 198.414291 \r\nL 129.686171 198.239219 \r\nL 33.2875 198.239219 \r\nz\r\n\" style=\"fill:#1f77b4;\"/>\r\n   </g>\r\n   <g id=\"patch_89\">\r\n    <path clip-path=\"url(#pfe2bae2009)\" d=\"M 33.2875 198.064146 \r\nL 70.363912 198.064146 \r\nL 70.363912 197.889074 \r\nL 33.2875 197.889074 \r\nz\r\n\" style=\"fill:#1f77b4;\"/>\r\n   </g>\r\n   <g id=\"patch_90\">\r\n    <path clip-path=\"url(#pfe2bae2009)\" d=\"M 33.2875 197.714001 \r\nL 70.363912 197.714001 \r\nL 70.363912 197.538929 \r\nL 33.2875 197.538929 \r\nz\r\n\" style=\"fill:#1f77b4;\"/>\r\n   </g>\r\n   <g id=\"patch_91\">\r\n    <path clip-path=\"url(#pfe2bae2009)\" d=\"M 33.2875 197.363856 \r\nL 166.762583 197.363856 \r\nL 166.762583 197.188784 \r\nL 33.2875 197.188784 \r\nz\r\n\" style=\"fill:#1f77b4;\"/>\r\n   </g>\r\n   <g id=\"patch_92\">\r\n    <path clip-path=\"url(#pfe2bae2009)\" d=\"M 33.2875 197.013712 \r\nL 166.762583 197.013712 \r\nL 166.762583 196.838639 \r\nL 33.2875 196.838639 \r\nz\r\n\" style=\"fill:#1f77b4;\"/>\r\n   </g>\r\n   <g id=\"patch_93\">\r\n    <path clip-path=\"url(#pfe2bae2009)\" d=\"M 33.2875 196.663567 \r\nL 62.94863 196.663567 \r\nL 62.94863 196.488494 \r\nL 33.2875 196.488494 \r\nz\r\n\" style=\"fill:#1f77b4;\"/>\r\n   </g>\r\n   <g id=\"patch_94\">\r\n    <path clip-path=\"url(#pfe2bae2009)\" d=\"M 33.2875 196.313422 \r\nL 77.779194 196.313422 \r\nL 77.779194 196.138349 \r\nL 33.2875 196.138349 \r\nz\r\n\" style=\"fill:#1f77b4;\"/>\r\n   </g>\r\n   <g id=\"patch_95\">\r\n    <path clip-path=\"url(#pfe2bae2009)\" d=\"M 33.2875 195.963277 \r\nL 137.101453 195.963277 \r\nL 137.101453 195.788204 \r\nL 33.2875 195.788204 \r\nz\r\n\" style=\"fill:#1f77b4;\"/>\r\n   </g>\r\n   <g id=\"patch_96\">\r\n    <path clip-path=\"url(#pfe2bae2009)\" d=\"M 33.2875 195.613132 \r\nL 114.855606 195.613132 \r\nL 114.855606 195.438059 \r\nL 33.2875 195.438059 \r\nz\r\n\" style=\"fill:#1f77b4;\"/>\r\n   </g>\r\n   <g id=\"patch_97\">\r\n    <path clip-path=\"url(#pfe2bae2009)\" d=\"M 33.2875 195.262987 \r\nL 92.609759 195.262987 \r\nL 92.609759 195.087914 \r\nL 33.2875 195.087914 \r\nz\r\n\" style=\"fill:#1f77b4;\"/>\r\n   </g>\r\n   <g id=\"patch_98\">\r\n    <path clip-path=\"url(#pfe2bae2009)\" d=\"M 33.2875 194.912842 \r\nL 40.702782 194.912842 \r\nL 40.702782 194.737769 \r\nL 33.2875 194.737769 \r\nz\r\n\" style=\"fill:#1f77b4;\"/>\r\n   </g>\r\n   <g id=\"patch_99\">\r\n    <path clip-path=\"url(#pfe2bae2009)\" d=\"M 33.2875 194.562697 \r\nL 33.2875 194.562697 \r\nL 33.2875 194.387625 \r\nL 33.2875 194.387625 \r\nz\r\n\" style=\"fill:#1f77b4;\"/>\r\n   </g>\r\n   <g id=\"patch_100\">\r\n    <path clip-path=\"url(#pfe2bae2009)\" d=\"M 33.2875 194.212552 \r\nL 55.533347 194.212552 \r\nL 55.533347 194.03748 \r\nL 33.2875 194.03748 \r\nz\r\n\" style=\"fill:#1f77b4;\"/>\r\n   </g>\r\n   <g id=\"patch_101\">\r\n    <path clip-path=\"url(#pfe2bae2009)\" d=\"M 33.2875 193.862407 \r\nL 48.118065 193.862407 \r\nL 48.118065 193.687335 \r\nL 33.2875 193.687335 \r\nz\r\n\" style=\"fill:#1f77b4;\"/>\r\n   </g>\r\n   <g id=\"patch_102\">\r\n    <path clip-path=\"url(#pfe2bae2009)\" d=\"M 33.2875 193.512262 \r\nL 107.440324 193.512262 \r\nL 107.440324 193.33719 \r\nL 33.2875 193.33719 \r\nz\r\n\" style=\"fill:#1f77b4;\"/>\r\n   </g>\r\n   <g id=\"patch_103\">\r\n    <path clip-path=\"url(#pfe2bae2009)\" d=\"M 33.2875 193.162117 \r\nL 233.500125 193.162117 \r\nL 233.500125 192.987045 \r\nL 33.2875 192.987045 \r\nz\r\n\" style=\"fill:#1f77b4;\"/>\r\n   </g>\r\n   <g id=\"patch_104\">\r\n    <path clip-path=\"url(#pfe2bae2009)\" d=\"M 33.2875 192.811972 \r\nL 100.025042 192.811972 \r\nL 100.025042 192.6369 \r\nL 33.2875 192.6369 \r\nz\r\n\" style=\"fill:#1f77b4;\"/>\r\n   </g>\r\n   <g id=\"patch_105\">\r\n    <path clip-path=\"url(#pfe2bae2009)\" d=\"M 33.2875 192.461827 \r\nL 189.00843 192.461827 \r\nL 189.00843 192.286755 \r\nL 33.2875 192.286755 \r\nz\r\n\" style=\"fill:#1f77b4;\"/>\r\n   </g>\r\n   <g id=\"patch_106\">\r\n    <path clip-path=\"url(#pfe2bae2009)\" d=\"M 33.2875 192.111683 \r\nL 270.576537 192.111683 \r\nL 270.576537 191.93661 \r\nL 33.2875 191.93661 \r\nz\r\n\" style=\"fill:#1f77b4;\"/>\r\n   </g>\r\n   <g id=\"patch_107\">\r\n    <path clip-path=\"url(#pfe2bae2009)\" d=\"M 33.2875 191.761538 \r\nL 85.194477 191.761538 \r\nL 85.194477 191.586465 \r\nL 33.2875 191.586465 \r\nz\r\n\" style=\"fill:#1f77b4;\"/>\r\n   </g>\r\n   <g id=\"patch_108\">\r\n    <path clip-path=\"url(#pfe2bae2009)\" d=\"M 33.2875 191.411393 \r\nL 107.440324 191.411393 \r\nL 107.440324 191.23632 \r\nL 33.2875 191.23632 \r\nz\r\n\" style=\"fill:#1f77b4;\"/>\r\n   </g>\r\n   <g id=\"patch_109\">\r\n    <path clip-path=\"url(#pfe2bae2009)\" d=\"M 33.2875 191.061248 \r\nL 226.084842 191.061248 \r\nL 226.084842 190.886175 \r\nL 33.2875 190.886175 \r\nz\r\n\" style=\"fill:#1f77b4;\"/>\r\n   </g>\r\n   <g id=\"patch_110\">\r\n    <path clip-path=\"url(#pfe2bae2009)\" d=\"M 33.2875 190.711103 \r\nL 40.702782 190.711103 \r\nL 40.702782 190.53603 \r\nL 33.2875 190.53603 \r\nz\r\n\" style=\"fill:#1f77b4;\"/>\r\n   </g>\r\n   <g id=\"patch_111\">\r\n    <path clip-path=\"url(#pfe2bae2009)\" d=\"M 33.2875 190.360958 \r\nL 100.025042 190.360958 \r\nL 100.025042 190.185885 \r\nL 33.2875 190.185885 \r\nz\r\n\" style=\"fill:#1f77b4;\"/>\r\n   </g>\r\n   <g id=\"patch_112\">\r\n    <path clip-path=\"url(#pfe2bae2009)\" d=\"M 33.2875 190.010813 \r\nL 100.025042 190.010813 \r\nL 100.025042 189.83574 \r\nL 33.2875 189.83574 \r\nz\r\n\" style=\"fill:#1f77b4;\"/>\r\n   </g>\r\n   <g id=\"patch_113\">\r\n    <path clip-path=\"url(#pfe2bae2009)\" d=\"M 33.2875 189.660668 \r\nL 352.144643 189.660668 \r\nL 352.144643 189.485596 \r\nL 33.2875 189.485596 \r\nz\r\n\" style=\"fill:#1f77b4;\"/>\r\n   </g>\r\n   <g id=\"patch_114\">\r\n    <path clip-path=\"url(#pfe2bae2009)\" d=\"M 33.2875 189.310523 \r\nL 181.593148 189.310523 \r\nL 181.593148 189.135451 \r\nL 33.2875 189.135451 \r\nz\r\n\" style=\"fill:#1f77b4;\"/>\r\n   </g>\r\n   <g id=\"patch_115\">\r\n    <path clip-path=\"url(#pfe2bae2009)\" d=\"M 33.2875 188.960378 \r\nL 144.516736 188.960378 \r\nL 144.516736 188.785306 \r\nL 33.2875 188.785306 \r\nz\r\n\" style=\"fill:#1f77b4;\"/>\r\n   </g>\r\n   <g id=\"patch_116\">\r\n    <path clip-path=\"url(#pfe2bae2009)\" d=\"M 33.2875 188.610233 \r\nL 62.94863 188.610233 \r\nL 62.94863 188.435161 \r\nL 33.2875 188.435161 \r\nz\r\n\" style=\"fill:#1f77b4;\"/>\r\n   </g>\r\n   <g id=\"patch_117\">\r\n    <path clip-path=\"url(#pfe2bae2009)\" d=\"M 33.2875 188.260088 \r\nL 166.762583 188.260088 \r\nL 166.762583 188.085016 \r\nL 33.2875 188.085016 \r\nz\r\n\" style=\"fill:#1f77b4;\"/>\r\n   </g>\r\n   <g id=\"patch_118\">\r\n    <path clip-path=\"url(#pfe2bae2009)\" d=\"M 33.2875 187.909943 \r\nL 159.347301 187.909943 \r\nL 159.347301 187.734871 \r\nL 33.2875 187.734871 \r\nz\r\n\" style=\"fill:#1f77b4;\"/>\r\n   </g>\r\n   <g id=\"patch_119\">\r\n    <path clip-path=\"url(#pfe2bae2009)\" d=\"M 33.2875 187.559798 \r\nL 100.025042 187.559798 \r\nL 100.025042 187.384726 \r\nL 33.2875 187.384726 \r\nz\r\n\" style=\"fill:#1f77b4;\"/>\r\n   </g>\r\n   <g id=\"patch_120\">\r\n    <path clip-path=\"url(#pfe2bae2009)\" d=\"M 33.2875 187.209654 \r\nL 85.194477 187.209654 \r\nL 85.194477 187.034581 \r\nL 33.2875 187.034581 \r\nz\r\n\" style=\"fill:#1f77b4;\"/>\r\n   </g>\r\n   <g id=\"patch_121\">\r\n    <path clip-path=\"url(#pfe2bae2009)\" d=\"M 33.2875 186.859509 \r\nL 92.609759 186.859509 \r\nL 92.609759 186.684436 \r\nL 33.2875 186.684436 \r\nz\r\n\" style=\"fill:#1f77b4;\"/>\r\n   </g>\r\n   <g id=\"patch_122\">\r\n    <path clip-path=\"url(#pfe2bae2009)\" d=\"M 33.2875 186.509364 \r\nL 203.838995 186.509364 \r\nL 203.838995 186.334291 \r\nL 33.2875 186.334291 \r\nz\r\n\" style=\"fill:#1f77b4;\"/>\r\n   </g>\r\n   <g id=\"patch_123\">\r\n    <path clip-path=\"url(#pfe2bae2009)\" d=\"M 33.2875 186.159219 \r\nL 144.516736 186.159219 \r\nL 144.516736 185.984146 \r\nL 33.2875 185.984146 \r\nz\r\n\" style=\"fill:#1f77b4;\"/>\r\n   </g>\r\n   <g id=\"patch_124\">\r\n    <path clip-path=\"url(#pfe2bae2009)\" d=\"M 33.2875 185.809074 \r\nL 85.194477 185.809074 \r\nL 85.194477 185.634001 \r\nL 33.2875 185.634001 \r\nz\r\n\" style=\"fill:#1f77b4;\"/>\r\n   </g>\r\n   <g id=\"patch_125\">\r\n    <path clip-path=\"url(#pfe2bae2009)\" d=\"M 33.2875 185.458929 \r\nL 40.702782 185.458929 \r\nL 40.702782 185.283856 \r\nL 33.2875 185.283856 \r\nz\r\n\" style=\"fill:#1f77b4;\"/>\r\n   </g>\r\n   <g id=\"patch_126\">\r\n    <path clip-path=\"url(#pfe2bae2009)\" d=\"M 33.2875 185.108784 \r\nL 48.118065 185.108784 \r\nL 48.118065 184.933712 \r\nL 33.2875 184.933712 \r\nz\r\n\" style=\"fill:#1f77b4;\"/>\r\n   </g>\r\n   <g id=\"patch_127\">\r\n    <path clip-path=\"url(#pfe2bae2009)\" d=\"M 33.2875 184.758639 \r\nL 40.702782 184.758639 \r\nL 40.702782 184.583567 \r\nL 33.2875 184.583567 \r\nz\r\n\" style=\"fill:#1f77b4;\"/>\r\n   </g>\r\n   <g id=\"patch_128\">\r\n    <path clip-path=\"url(#pfe2bae2009)\" d=\"M 33.2875 184.408494 \r\nL 70.363912 184.408494 \r\nL 70.363912 184.233422 \r\nL 33.2875 184.233422 \r\nz\r\n\" style=\"fill:#1f77b4;\"/>\r\n   </g>\r\n   <g id=\"patch_129\">\r\n    <path clip-path=\"url(#pfe2bae2009)\" d=\"M 33.2875 184.058349 \r\nL 33.2875 184.058349 \r\nL 33.2875 183.883277 \r\nL 33.2875 183.883277 \r\nz\r\n\" style=\"fill:#1f77b4;\"/>\r\n   </g>\r\n   <g id=\"patch_130\">\r\n    <path clip-path=\"url(#pfe2bae2009)\" d=\"M 33.2875 183.708204 \r\nL 70.363912 183.708204 \r\nL 70.363912 183.533132 \r\nL 33.2875 183.533132 \r\nz\r\n\" style=\"fill:#1f77b4;\"/>\r\n   </g>\r\n   <g id=\"patch_131\">\r\n    <path clip-path=\"url(#pfe2bae2009)\" d=\"M 33.2875 183.358059 \r\nL 100.025042 183.358059 \r\nL 100.025042 183.182987 \r\nL 33.2875 183.182987 \r\nz\r\n\" style=\"fill:#1f77b4;\"/>\r\n   </g>\r\n   <g id=\"patch_132\">\r\n    <path clip-path=\"url(#pfe2bae2009)\" d=\"M 33.2875 183.007914 \r\nL 33.2875 183.007914 \r\nL 33.2875 182.832842 \r\nL 33.2875 182.832842 \r\nz\r\n\" style=\"fill:#1f77b4;\"/>\r\n   </g>\r\n   <g id=\"patch_133\">\r\n    <path clip-path=\"url(#pfe2bae2009)\" d=\"M 33.2875 182.657769 \r\nL 70.363912 182.657769 \r\nL 70.363912 182.482697 \r\nL 33.2875 182.482697 \r\nz\r\n\" style=\"fill:#1f77b4;\"/>\r\n   </g>\r\n   <g id=\"patch_134\">\r\n    <path clip-path=\"url(#pfe2bae2009)\" d=\"M 33.2875 182.307625 \r\nL 70.363912 182.307625 \r\nL 70.363912 182.132552 \r\nL 33.2875 182.132552 \r\nz\r\n\" style=\"fill:#1f77b4;\"/>\r\n   </g>\r\n   <g id=\"patch_135\">\r\n    <path clip-path=\"url(#pfe2bae2009)\" d=\"M 33.2875 181.95748 \r\nL 70.363912 181.95748 \r\nL 70.363912 181.782407 \r\nL 33.2875 181.782407 \r\nz\r\n\" style=\"fill:#1f77b4;\"/>\r\n   </g>\r\n   <g id=\"patch_136\">\r\n    <path clip-path=\"url(#pfe2bae2009)\" d=\"M 33.2875 181.607335 \r\nL 55.533347 181.607335 \r\nL 55.533347 181.432262 \r\nL 33.2875 181.432262 \r\nz\r\n\" style=\"fill:#1f77b4;\"/>\r\n   </g>\r\n   <g id=\"patch_137\">\r\n    <path clip-path=\"url(#pfe2bae2009)\" d=\"M 33.2875 181.25719 \r\nL 300.237666 181.25719 \r\nL 300.237666 181.082117 \r\nL 33.2875 181.082117 \r\nz\r\n\" style=\"fill:#1f77b4;\"/>\r\n   </g>\r\n   <g id=\"patch_138\">\r\n    <path clip-path=\"url(#pfe2bae2009)\" d=\"M 33.2875 180.907045 \r\nL 137.101453 180.907045 \r\nL 137.101453 180.731972 \r\nL 33.2875 180.731972 \r\nz\r\n\" style=\"fill:#1f77b4;\"/>\r\n   </g>\r\n   <g id=\"patch_139\">\r\n    <path clip-path=\"url(#pfe2bae2009)\" d=\"M 33.2875 180.5569 \r\nL 48.118065 180.5569 \r\nL 48.118065 180.381827 \r\nL 33.2875 180.381827 \r\nz\r\n\" style=\"fill:#1f77b4;\"/>\r\n   </g>\r\n   <g id=\"patch_140\">\r\n    <path clip-path=\"url(#pfe2bae2009)\" d=\"M 33.2875 180.206755 \r\nL 100.025042 180.206755 \r\nL 100.025042 180.031683 \r\nL 33.2875 180.031683 \r\nz\r\n\" style=\"fill:#1f77b4;\"/>\r\n   </g>\r\n   <g id=\"patch_141\">\r\n    <path clip-path=\"url(#pfe2bae2009)\" d=\"M 33.2875 179.85661 \r\nL 55.533347 179.85661 \r\nL 55.533347 179.681538 \r\nL 33.2875 179.681538 \r\nz\r\n\" style=\"fill:#1f77b4;\"/>\r\n   </g>\r\n   <g id=\"patch_142\">\r\n    <path clip-path=\"url(#pfe2bae2009)\" d=\"M 33.2875 179.506465 \r\nL 77.779194 179.506465 \r\nL 77.779194 179.331393 \r\nL 33.2875 179.331393 \r\nz\r\n\" style=\"fill:#1f77b4;\"/>\r\n   </g>\r\n   <g id=\"patch_143\">\r\n    <path clip-path=\"url(#pfe2bae2009)\" d=\"M 33.2875 179.15632 \r\nL 55.533347 179.15632 \r\nL 55.533347 178.981248 \r\nL 33.2875 178.981248 \r\nz\r\n\" style=\"fill:#1f77b4;\"/>\r\n   </g>\r\n   <g id=\"patch_144\">\r\n    <path clip-path=\"url(#pfe2bae2009)\" d=\"M 33.2875 178.806175 \r\nL 122.270889 178.806175 \r\nL 122.270889 178.631103 \r\nL 33.2875 178.631103 \r\nz\r\n\" style=\"fill:#1f77b4;\"/>\r\n   </g>\r\n   <g id=\"patch_145\">\r\n    <path clip-path=\"url(#pfe2bae2009)\" d=\"M 33.2875 178.45603 \r\nL 48.118065 178.45603 \r\nL 48.118065 178.280958 \r\nL 33.2875 178.280958 \r\nz\r\n\" style=\"fill:#1f77b4;\"/>\r\n   </g>\r\n   <g id=\"patch_146\">\r\n    <path clip-path=\"url(#pfe2bae2009)\" d=\"M 33.2875 178.105885 \r\nL 62.94863 178.105885 \r\nL 62.94863 177.930813 \r\nL 33.2875 177.930813 \r\nz\r\n\" style=\"fill:#1f77b4;\"/>\r\n   </g>\r\n   <g id=\"patch_147\">\r\n    <path clip-path=\"url(#pfe2bae2009)\" d=\"M 33.2875 177.75574 \r\nL 122.270889 177.75574 \r\nL 122.270889 177.580668 \r\nL 33.2875 177.580668 \r\nz\r\n\" style=\"fill:#1f77b4;\"/>\r\n   </g>\r\n   <g id=\"patch_148\">\r\n    <path clip-path=\"url(#pfe2bae2009)\" d=\"M 33.2875 177.405596 \r\nL 107.440324 177.405596 \r\nL 107.440324 177.230523 \r\nL 33.2875 177.230523 \r\nz\r\n\" style=\"fill:#1f77b4;\"/>\r\n   </g>\r\n   <g id=\"patch_149\">\r\n    <path clip-path=\"url(#pfe2bae2009)\" d=\"M 33.2875 177.055451 \r\nL 92.609759 177.055451 \r\nL 92.609759 176.880378 \r\nL 33.2875 176.880378 \r\nz\r\n\" style=\"fill:#1f77b4;\"/>\r\n   </g>\r\n   <g id=\"patch_150\">\r\n    <path clip-path=\"url(#pfe2bae2009)\" d=\"M 33.2875 176.705306 \r\nL 33.2875 176.705306 \r\nL 33.2875 176.530233 \r\nL 33.2875 176.530233 \r\nz\r\n\" style=\"fill:#1f77b4;\"/>\r\n   </g>\r\n   <g id=\"patch_151\">\r\n    <path clip-path=\"url(#pfe2bae2009)\" d=\"M 33.2875 176.355161 \r\nL 70.363912 176.355161 \r\nL 70.363912 176.180088 \r\nL 33.2875 176.180088 \r\nz\r\n\" style=\"fill:#1f77b4;\"/>\r\n   </g>\r\n   <g id=\"patch_152\">\r\n    <path clip-path=\"url(#pfe2bae2009)\" d=\"M 33.2875 176.005016 \r\nL 85.194477 176.005016 \r\nL 85.194477 175.829943 \r\nL 33.2875 175.829943 \r\nz\r\n\" style=\"fill:#1f77b4;\"/>\r\n   </g>\r\n   <g id=\"patch_153\">\r\n    <path clip-path=\"url(#pfe2bae2009)\" d=\"M 33.2875 175.654871 \r\nL 70.363912 175.654871 \r\nL 70.363912 175.479798 \r\nL 33.2875 175.479798 \r\nz\r\n\" style=\"fill:#1f77b4;\"/>\r\n   </g>\r\n   <g id=\"patch_154\">\r\n    <path clip-path=\"url(#pfe2bae2009)\" d=\"M 33.2875 175.304726 \r\nL 137.101453 175.304726 \r\nL 137.101453 175.129654 \r\nL 33.2875 175.129654 \r\nz\r\n\" style=\"fill:#1f77b4;\"/>\r\n   </g>\r\n   <g id=\"patch_155\">\r\n    <path clip-path=\"url(#pfe2bae2009)\" d=\"M 33.2875 174.954581 \r\nL 48.118065 174.954581 \r\nL 48.118065 174.779509 \r\nL 33.2875 174.779509 \r\nz\r\n\" style=\"fill:#1f77b4;\"/>\r\n   </g>\r\n   <g id=\"patch_156\">\r\n    <path clip-path=\"url(#pfe2bae2009)\" d=\"M 33.2875 174.604436 \r\nL 48.118065 174.604436 \r\nL 48.118065 174.429364 \r\nL 33.2875 174.429364 \r\nz\r\n\" style=\"fill:#1f77b4;\"/>\r\n   </g>\r\n   <g id=\"patch_157\">\r\n    <path clip-path=\"url(#pfe2bae2009)\" d=\"M 33.2875 174.254291 \r\nL 92.609759 174.254291 \r\nL 92.609759 174.079219 \r\nL 33.2875 174.079219 \r\nz\r\n\" style=\"fill:#1f77b4;\"/>\r\n   </g>\r\n   <g id=\"patch_158\">\r\n    <path clip-path=\"url(#pfe2bae2009)\" d=\"M 33.2875 173.904146 \r\nL 85.194477 173.904146 \r\nL 85.194477 173.729074 \r\nL 33.2875 173.729074 \r\nz\r\n\" style=\"fill:#1f77b4;\"/>\r\n   </g>\r\n   <g id=\"patch_159\">\r\n    <path clip-path=\"url(#pfe2bae2009)\" d=\"M 33.2875 173.554001 \r\nL 55.533347 173.554001 \r\nL 55.533347 173.378929 \r\nL 33.2875 173.378929 \r\nz\r\n\" style=\"fill:#1f77b4;\"/>\r\n   </g>\r\n   <g id=\"patch_160\">\r\n    <path clip-path=\"url(#pfe2bae2009)\" d=\"M 33.2875 173.203856 \r\nL 33.2875 173.203856 \r\nL 33.2875 173.028784 \r\nL 33.2875 173.028784 \r\nz\r\n\" style=\"fill:#1f77b4;\"/>\r\n   </g>\r\n   <g id=\"patch_161\">\r\n    <path clip-path=\"url(#pfe2bae2009)\" d=\"M 33.2875 172.853712 \r\nL 48.118065 172.853712 \r\nL 48.118065 172.678639 \r\nL 33.2875 172.678639 \r\nz\r\n\" style=\"fill:#1f77b4;\"/>\r\n   </g>\r\n   <g id=\"patch_162\">\r\n    <path clip-path=\"url(#pfe2bae2009)\" d=\"M 33.2875 172.503567 \r\nL 55.533347 172.503567 \r\nL 55.533347 172.328494 \r\nL 33.2875 172.328494 \r\nz\r\n\" style=\"fill:#1f77b4;\"/>\r\n   </g>\r\n   <g id=\"patch_163\">\r\n    <path clip-path=\"url(#pfe2bae2009)\" d=\"M 33.2875 172.153422 \r\nL 100.025042 172.153422 \r\nL 100.025042 171.978349 \r\nL 33.2875 171.978349 \r\nz\r\n\" style=\"fill:#1f77b4;\"/>\r\n   </g>\r\n   <g id=\"patch_164\">\r\n    <path clip-path=\"url(#pfe2bae2009)\" d=\"M 33.2875 171.803277 \r\nL 203.838995 171.803277 \r\nL 203.838995 171.628204 \r\nL 33.2875 171.628204 \r\nz\r\n\" style=\"fill:#1f77b4;\"/>\r\n   </g>\r\n   <g id=\"patch_165\">\r\n    <path clip-path=\"url(#pfe2bae2009)\" d=\"M 33.2875 171.453132 \r\nL 100.025042 171.453132 \r\nL 100.025042 171.278059 \r\nL 33.2875 171.278059 \r\nz\r\n\" style=\"fill:#1f77b4;\"/>\r\n   </g>\r\n   <g id=\"patch_166\">\r\n    <path clip-path=\"url(#pfe2bae2009)\" d=\"M 33.2875 171.102987 \r\nL 92.609759 171.102987 \r\nL 92.609759 170.927914 \r\nL 33.2875 170.927914 \r\nz\r\n\" style=\"fill:#1f77b4;\"/>\r\n   </g>\r\n   <g id=\"patch_167\">\r\n    <path clip-path=\"url(#pfe2bae2009)\" d=\"M 33.2875 170.752842 \r\nL 55.533347 170.752842 \r\nL 55.533347 170.577769 \r\nL 33.2875 170.577769 \r\nz\r\n\" style=\"fill:#1f77b4;\"/>\r\n   </g>\r\n   <g id=\"patch_168\">\r\n    <path clip-path=\"url(#pfe2bae2009)\" d=\"M 33.2875 170.402697 \r\nL 70.363912 170.402697 \r\nL 70.363912 170.227625 \r\nL 33.2875 170.227625 \r\nz\r\n\" style=\"fill:#1f77b4;\"/>\r\n   </g>\r\n   <g id=\"patch_169\">\r\n    <path clip-path=\"url(#pfe2bae2009)\" d=\"M 33.2875 170.052552 \r\nL 55.533347 170.052552 \r\nL 55.533347 169.87748 \r\nL 33.2875 169.87748 \r\nz\r\n\" style=\"fill:#1f77b4;\"/>\r\n   </g>\r\n   <g id=\"patch_170\">\r\n    <path clip-path=\"url(#pfe2bae2009)\" d=\"M 33.2875 169.702407 \r\nL 48.118065 169.702407 \r\nL 48.118065 169.527335 \r\nL 33.2875 169.527335 \r\nz\r\n\" style=\"fill:#1f77b4;\"/>\r\n   </g>\r\n   <g id=\"patch_171\">\r\n    <path clip-path=\"url(#pfe2bae2009)\" d=\"M 33.2875 169.352262 \r\nL 92.609759 169.352262 \r\nL 92.609759 169.17719 \r\nL 33.2875 169.17719 \r\nz\r\n\" style=\"fill:#1f77b4;\"/>\r\n   </g>\r\n   <g id=\"patch_172\">\r\n    <path clip-path=\"url(#pfe2bae2009)\" d=\"M 33.2875 169.002117 \r\nL 48.118065 169.002117 \r\nL 48.118065 168.827045 \r\nL 33.2875 168.827045 \r\nz\r\n\" style=\"fill:#1f77b4;\"/>\r\n   </g>\r\n   <g id=\"patch_173\">\r\n    <path clip-path=\"url(#pfe2bae2009)\" d=\"M 33.2875 168.651972 \r\nL 100.025042 168.651972 \r\nL 100.025042 168.4769 \r\nL 33.2875 168.4769 \r\nz\r\n\" style=\"fill:#1f77b4;\"/>\r\n   </g>\r\n   <g id=\"patch_174\">\r\n    <path clip-path=\"url(#pfe2bae2009)\" d=\"M 33.2875 168.301827 \r\nL 137.101453 168.301827 \r\nL 137.101453 168.126755 \r\nL 33.2875 168.126755 \r\nz\r\n\" style=\"fill:#1f77b4;\"/>\r\n   </g>\r\n   <g id=\"patch_175\">\r\n    <path clip-path=\"url(#pfe2bae2009)\" d=\"M 33.2875 167.951683 \r\nL 48.118065 167.951683 \r\nL 48.118065 167.77661 \r\nL 33.2875 167.77661 \r\nz\r\n\" style=\"fill:#1f77b4;\"/>\r\n   </g>\r\n   <g id=\"patch_176\">\r\n    <path clip-path=\"url(#pfe2bae2009)\" d=\"M 33.2875 167.601538 \r\nL 55.533347 167.601538 \r\nL 55.533347 167.426465 \r\nL 33.2875 167.426465 \r\nz\r\n\" style=\"fill:#1f77b4;\"/>\r\n   </g>\r\n   <g id=\"patch_177\">\r\n    <path clip-path=\"url(#pfe2bae2009)\" d=\"M 33.2875 167.251393 \r\nL 62.94863 167.251393 \r\nL 62.94863 167.07632 \r\nL 33.2875 167.07632 \r\nz\r\n\" style=\"fill:#1f77b4;\"/>\r\n   </g>\r\n   <g id=\"patch_178\">\r\n    <path clip-path=\"url(#pfe2bae2009)\" d=\"M 33.2875 166.901248 \r\nL 85.194477 166.901248 \r\nL 85.194477 166.726175 \r\nL 33.2875 166.726175 \r\nz\r\n\" style=\"fill:#1f77b4;\"/>\r\n   </g>\r\n   <g id=\"patch_179\">\r\n    <path clip-path=\"url(#pfe2bae2009)\" d=\"M 33.2875 166.551103 \r\nL 114.855606 166.551103 \r\nL 114.855606 166.37603 \r\nL 33.2875 166.37603 \r\nz\r\n\" style=\"fill:#1f77b4;\"/>\r\n   </g>\r\n   <g id=\"patch_180\">\r\n    <path clip-path=\"url(#pfe2bae2009)\" d=\"M 33.2875 166.200958 \r\nL 100.025042 166.200958 \r\nL 100.025042 166.025885 \r\nL 33.2875 166.025885 \r\nz\r\n\" style=\"fill:#1f77b4;\"/>\r\n   </g>\r\n   <g id=\"patch_181\">\r\n    <path clip-path=\"url(#pfe2bae2009)\" d=\"M 33.2875 165.850813 \r\nL 122.270889 165.850813 \r\nL 122.270889 165.67574 \r\nL 33.2875 165.67574 \r\nz\r\n\" style=\"fill:#1f77b4;\"/>\r\n   </g>\r\n   <g id=\"patch_182\">\r\n    <path clip-path=\"url(#pfe2bae2009)\" d=\"M 33.2875 165.500668 \r\nL 174.177865 165.500668 \r\nL 174.177865 165.325596 \r\nL 33.2875 165.325596 \r\nz\r\n\" style=\"fill:#1f77b4;\"/>\r\n   </g>\r\n   <g id=\"patch_183\">\r\n    <path clip-path=\"url(#pfe2bae2009)\" d=\"M 33.2875 165.150523 \r\nL 151.932018 165.150523 \r\nL 151.932018 164.975451 \r\nL 33.2875 164.975451 \r\nz\r\n\" style=\"fill:#1f77b4;\"/>\r\n   </g>\r\n   <g id=\"patch_184\">\r\n    <path clip-path=\"url(#pfe2bae2009)\" d=\"M 33.2875 164.800378 \r\nL 129.686171 164.800378 \r\nL 129.686171 164.625306 \r\nL 33.2875 164.625306 \r\nz\r\n\" style=\"fill:#1f77b4;\"/>\r\n   </g>\r\n   <g id=\"patch_185\">\r\n    <path clip-path=\"url(#pfe2bae2009)\" d=\"M 33.2875 164.450233 \r\nL 92.609759 164.450233 \r\nL 92.609759 164.275161 \r\nL 33.2875 164.275161 \r\nz\r\n\" style=\"fill:#1f77b4;\"/>\r\n   </g>\r\n   <g id=\"patch_186\">\r\n    <path clip-path=\"url(#pfe2bae2009)\" d=\"M 33.2875 164.100088 \r\nL 85.194477 164.100088 \r\nL 85.194477 163.925016 \r\nL 33.2875 163.925016 \r\nz\r\n\" style=\"fill:#1f77b4;\"/>\r\n   </g>\r\n   <g id=\"patch_187\">\r\n    <path clip-path=\"url(#pfe2bae2009)\" d=\"M 33.2875 163.749943 \r\nL 189.00843 163.749943 \r\nL 189.00843 163.574871 \r\nL 33.2875 163.574871 \r\nz\r\n\" style=\"fill:#1f77b4;\"/>\r\n   </g>\r\n   <g id=\"patch_188\">\r\n    <path clip-path=\"url(#pfe2bae2009)\" d=\"M 33.2875 163.399798 \r\nL 129.686171 163.399798 \r\nL 129.686171 163.224726 \r\nL 33.2875 163.224726 \r\nz\r\n\" style=\"fill:#1f77b4;\"/>\r\n   </g>\r\n   <g id=\"patch_189\">\r\n    <path clip-path=\"url(#pfe2bae2009)\" d=\"M 33.2875 163.049654 \r\nL 144.516736 163.049654 \r\nL 144.516736 162.874581 \r\nL 33.2875 162.874581 \r\nz\r\n\" style=\"fill:#1f77b4;\"/>\r\n   </g>\r\n   <g id=\"patch_190\">\r\n    <path clip-path=\"url(#pfe2bae2009)\" d=\"M 33.2875 162.699509 \r\nL 159.347301 162.699509 \r\nL 159.347301 162.524436 \r\nL 33.2875 162.524436 \r\nz\r\n\" style=\"fill:#1f77b4;\"/>\r\n   </g>\r\n   <g id=\"patch_191\">\r\n    <path clip-path=\"url(#pfe2bae2009)\" d=\"M 33.2875 162.349364 \r\nL 77.779194 162.349364 \r\nL 77.779194 162.174291 \r\nL 33.2875 162.174291 \r\nz\r\n\" style=\"fill:#1f77b4;\"/>\r\n   </g>\r\n   <g id=\"patch_192\">\r\n    <path clip-path=\"url(#pfe2bae2009)\" d=\"M 33.2875 161.999219 \r\nL 77.779194 161.999219 \r\nL 77.779194 161.824146 \r\nL 33.2875 161.824146 \r\nz\r\n\" style=\"fill:#1f77b4;\"/>\r\n   </g>\r\n   <g id=\"patch_193\">\r\n    <path clip-path=\"url(#pfe2bae2009)\" d=\"M 33.2875 161.649074 \r\nL 92.609759 161.649074 \r\nL 92.609759 161.474001 \r\nL 33.2875 161.474001 \r\nz\r\n\" style=\"fill:#1f77b4;\"/>\r\n   </g>\r\n   <g id=\"patch_194\">\r\n    <path clip-path=\"url(#pfe2bae2009)\" d=\"M 33.2875 161.298929 \r\nL 77.779194 161.298929 \r\nL 77.779194 161.123856 \r\nL 33.2875 161.123856 \r\nz\r\n\" style=\"fill:#1f77b4;\"/>\r\n   </g>\r\n   <g id=\"patch_195\">\r\n    <path clip-path=\"url(#pfe2bae2009)\" d=\"M 33.2875 160.948784 \r\nL 40.702782 160.948784 \r\nL 40.702782 160.773712 \r\nL 33.2875 160.773712 \r\nz\r\n\" style=\"fill:#1f77b4;\"/>\r\n   </g>\r\n   <g id=\"patch_196\">\r\n    <path clip-path=\"url(#pfe2bae2009)\" d=\"M 33.2875 160.598639 \r\nL 55.533347 160.598639 \r\nL 55.533347 160.423567 \r\nL 33.2875 160.423567 \r\nz\r\n\" style=\"fill:#1f77b4;\"/>\r\n   </g>\r\n   <g id=\"patch_197\">\r\n    <path clip-path=\"url(#pfe2bae2009)\" d=\"M 33.2875 160.248494 \r\nL 92.609759 160.248494 \r\nL 92.609759 160.073422 \r\nL 33.2875 160.073422 \r\nz\r\n\" style=\"fill:#1f77b4;\"/>\r\n   </g>\r\n   <g id=\"patch_198\">\r\n    <path clip-path=\"url(#pfe2bae2009)\" d=\"M 33.2875 159.898349 \r\nL 107.440324 159.898349 \r\nL 107.440324 159.723277 \r\nL 33.2875 159.723277 \r\nz\r\n\" style=\"fill:#1f77b4;\"/>\r\n   </g>\r\n   <g id=\"patch_199\">\r\n    <path clip-path=\"url(#pfe2bae2009)\" d=\"M 33.2875 159.548204 \r\nL 137.101453 159.548204 \r\nL 137.101453 159.373132 \r\nL 33.2875 159.373132 \r\nz\r\n\" style=\"fill:#1f77b4;\"/>\r\n   </g>\r\n   <g id=\"patch_200\">\r\n    <path clip-path=\"url(#pfe2bae2009)\" d=\"M 33.2875 159.198059 \r\nL 92.609759 159.198059 \r\nL 92.609759 159.022987 \r\nL 33.2875 159.022987 \r\nz\r\n\" style=\"fill:#1f77b4;\"/>\r\n   </g>\r\n   <g id=\"patch_201\">\r\n    <path clip-path=\"url(#pfe2bae2009)\" d=\"M 33.2875 158.847914 \r\nL 33.2875 158.847914 \r\nL 33.2875 158.672842 \r\nL 33.2875 158.672842 \r\nz\r\n\" style=\"fill:#1f77b4;\"/>\r\n   </g>\r\n   <g id=\"patch_202\">\r\n    <path clip-path=\"url(#pfe2bae2009)\" d=\"M 33.2875 158.497769 \r\nL 48.118065 158.497769 \r\nL 48.118065 158.322697 \r\nL 33.2875 158.322697 \r\nz\r\n\" style=\"fill:#1f77b4;\"/>\r\n   </g>\r\n   <g id=\"patch_203\">\r\n    <path clip-path=\"url(#pfe2bae2009)\" d=\"M 33.2875 158.147625 \r\nL 107.440324 158.147625 \r\nL 107.440324 157.972552 \r\nL 33.2875 157.972552 \r\nz\r\n\" style=\"fill:#1f77b4;\"/>\r\n   </g>\r\n   <g id=\"patch_204\">\r\n    <path clip-path=\"url(#pfe2bae2009)\" d=\"M 33.2875 157.79748 \r\nL 62.94863 157.79748 \r\nL 62.94863 157.622407 \r\nL 33.2875 157.622407 \r\nz\r\n\" style=\"fill:#1f77b4;\"/>\r\n   </g>\r\n   <g id=\"patch_205\">\r\n    <path clip-path=\"url(#pfe2bae2009)\" d=\"M 33.2875 157.447335 \r\nL 77.779194 157.447335 \r\nL 77.779194 157.272262 \r\nL 33.2875 157.272262 \r\nz\r\n\" style=\"fill:#1f77b4;\"/>\r\n   </g>\r\n   <g id=\"patch_206\">\r\n    <path clip-path=\"url(#pfe2bae2009)\" d=\"M 33.2875 157.09719 \r\nL 85.194477 157.09719 \r\nL 85.194477 156.922117 \r\nL 33.2875 156.922117 \r\nz\r\n\" style=\"fill:#1f77b4;\"/>\r\n   </g>\r\n   <g id=\"patch_207\">\r\n    <path clip-path=\"url(#pfe2bae2009)\" d=\"M 33.2875 156.747045 \r\nL 107.440324 156.747045 \r\nL 107.440324 156.571972 \r\nL 33.2875 156.571972 \r\nz\r\n\" style=\"fill:#1f77b4;\"/>\r\n   </g>\r\n   <g id=\"patch_208\">\r\n    <path clip-path=\"url(#pfe2bae2009)\" d=\"M 33.2875 156.3969 \r\nL 62.94863 156.3969 \r\nL 62.94863 156.221827 \r\nL 33.2875 156.221827 \r\nz\r\n\" style=\"fill:#1f77b4;\"/>\r\n   </g>\r\n   <g id=\"patch_209\">\r\n    <path clip-path=\"url(#pfe2bae2009)\" d=\"M 33.2875 156.046755 \r\nL 55.533347 156.046755 \r\nL 55.533347 155.871683 \r\nL 33.2875 155.871683 \r\nz\r\n\" style=\"fill:#1f77b4;\"/>\r\n   </g>\r\n   <g id=\"patch_210\">\r\n    <path clip-path=\"url(#pfe2bae2009)\" d=\"M 33.2875 155.69661 \r\nL 107.440324 155.69661 \r\nL 107.440324 155.521538 \r\nL 33.2875 155.521538 \r\nz\r\n\" style=\"fill:#1f77b4;\"/>\r\n   </g>\r\n   <g id=\"patch_211\">\r\n    <path clip-path=\"url(#pfe2bae2009)\" d=\"M 33.2875 155.346465 \r\nL 107.440324 155.346465 \r\nL 107.440324 155.171393 \r\nL 33.2875 155.171393 \r\nz\r\n\" style=\"fill:#1f77b4;\"/>\r\n   </g>\r\n   <g id=\"patch_212\">\r\n    <path clip-path=\"url(#pfe2bae2009)\" d=\"M 33.2875 154.99632 \r\nL 55.533347 154.99632 \r\nL 55.533347 154.821248 \r\nL 33.2875 154.821248 \r\nz\r\n\" style=\"fill:#1f77b4;\"/>\r\n   </g>\r\n   <g id=\"patch_213\">\r\n    <path clip-path=\"url(#pfe2bae2009)\" d=\"M 33.2875 154.646175 \r\nL 62.94863 154.646175 \r\nL 62.94863 154.471103 \r\nL 33.2875 154.471103 \r\nz\r\n\" style=\"fill:#1f77b4;\"/>\r\n   </g>\r\n   <g id=\"patch_214\">\r\n    <path clip-path=\"url(#pfe2bae2009)\" d=\"M 33.2875 154.29603 \r\nL 62.94863 154.29603 \r\nL 62.94863 154.120958 \r\nL 33.2875 154.120958 \r\nz\r\n\" style=\"fill:#1f77b4;\"/>\r\n   </g>\r\n   <g id=\"patch_215\">\r\n    <path clip-path=\"url(#pfe2bae2009)\" d=\"M 33.2875 153.945885 \r\nL 55.533347 153.945885 \r\nL 55.533347 153.770813 \r\nL 33.2875 153.770813 \r\nz\r\n\" style=\"fill:#1f77b4;\"/>\r\n   </g>\r\n   <g id=\"patch_216\">\r\n    <path clip-path=\"url(#pfe2bae2009)\" d=\"M 33.2875 153.59574 \r\nL 92.609759 153.59574 \r\nL 92.609759 153.420668 \r\nL 33.2875 153.420668 \r\nz\r\n\" style=\"fill:#1f77b4;\"/>\r\n   </g>\r\n   <g id=\"patch_217\">\r\n    <path clip-path=\"url(#pfe2bae2009)\" d=\"M 33.2875 153.245596 \r\nL 62.94863 153.245596 \r\nL 62.94863 153.070523 \r\nL 33.2875 153.070523 \r\nz\r\n\" style=\"fill:#1f77b4;\"/>\r\n   </g>\r\n   <g id=\"patch_218\">\r\n    <path clip-path=\"url(#pfe2bae2009)\" d=\"M 33.2875 152.895451 \r\nL 107.440324 152.895451 \r\nL 107.440324 152.720378 \r\nL 33.2875 152.720378 \r\nz\r\n\" style=\"fill:#1f77b4;\"/>\r\n   </g>\r\n   <g id=\"patch_219\">\r\n    <path clip-path=\"url(#pfe2bae2009)\" d=\"M 33.2875 152.545306 \r\nL 100.025042 152.545306 \r\nL 100.025042 152.370233 \r\nL 33.2875 152.370233 \r\nz\r\n\" style=\"fill:#1f77b4;\"/>\r\n   </g>\r\n   <g id=\"patch_220\">\r\n    <path clip-path=\"url(#pfe2bae2009)\" d=\"M 33.2875 152.195161 \r\nL 114.855606 152.195161 \r\nL 114.855606 152.020088 \r\nL 33.2875 152.020088 \r\nz\r\n\" style=\"fill:#1f77b4;\"/>\r\n   </g>\r\n   <g id=\"patch_221\">\r\n    <path clip-path=\"url(#pfe2bae2009)\" d=\"M 33.2875 151.845016 \r\nL 122.270889 151.845016 \r\nL 122.270889 151.669943 \r\nL 33.2875 151.669943 \r\nz\r\n\" style=\"fill:#1f77b4;\"/>\r\n   </g>\r\n   <g id=\"patch_222\">\r\n    <path clip-path=\"url(#pfe2bae2009)\" d=\"M 33.2875 151.494871 \r\nL 122.270889 151.494871 \r\nL 122.270889 151.319798 \r\nL 33.2875 151.319798 \r\nz\r\n\" style=\"fill:#1f77b4;\"/>\r\n   </g>\r\n   <g id=\"patch_223\">\r\n    <path clip-path=\"url(#pfe2bae2009)\" d=\"M 33.2875 151.144726 \r\nL 85.194477 151.144726 \r\nL 85.194477 150.969654 \r\nL 33.2875 150.969654 \r\nz\r\n\" style=\"fill:#1f77b4;\"/>\r\n   </g>\r\n   <g id=\"patch_224\">\r\n    <path clip-path=\"url(#pfe2bae2009)\" d=\"M 33.2875 150.794581 \r\nL 62.94863 150.794581 \r\nL 62.94863 150.619509 \r\nL 33.2875 150.619509 \r\nz\r\n\" style=\"fill:#1f77b4;\"/>\r\n   </g>\r\n   <g id=\"patch_225\">\r\n    <path clip-path=\"url(#pfe2bae2009)\" d=\"M 33.2875 150.444436 \r\nL 92.609759 150.444436 \r\nL 92.609759 150.269364 \r\nL 33.2875 150.269364 \r\nz\r\n\" style=\"fill:#1f77b4;\"/>\r\n   </g>\r\n   <g id=\"patch_226\">\r\n    <path clip-path=\"url(#pfe2bae2009)\" d=\"M 33.2875 150.094291 \r\nL 62.94863 150.094291 \r\nL 62.94863 149.919219 \r\nL 33.2875 149.919219 \r\nz\r\n\" style=\"fill:#1f77b4;\"/>\r\n   </g>\r\n   <g id=\"patch_227\">\r\n    <path clip-path=\"url(#pfe2bae2009)\" d=\"M 33.2875 149.744146 \r\nL 55.533347 149.744146 \r\nL 55.533347 149.569074 \r\nL 33.2875 149.569074 \r\nz\r\n\" style=\"fill:#1f77b4;\"/>\r\n   </g>\r\n   <g id=\"patch_228\">\r\n    <path clip-path=\"url(#pfe2bae2009)\" d=\"M 33.2875 149.394001 \r\nL 77.779194 149.394001 \r\nL 77.779194 149.218929 \r\nL 33.2875 149.218929 \r\nz\r\n\" style=\"fill:#1f77b4;\"/>\r\n   </g>\r\n   <g id=\"patch_229\">\r\n    <path clip-path=\"url(#pfe2bae2009)\" d=\"M 33.2875 149.043856 \r\nL 122.270889 149.043856 \r\nL 122.270889 148.868784 \r\nL 33.2875 148.868784 \r\nz\r\n\" style=\"fill:#1f77b4;\"/>\r\n   </g>\r\n   <g id=\"patch_230\">\r\n    <path clip-path=\"url(#pfe2bae2009)\" d=\"M 33.2875 148.693712 \r\nL 77.779194 148.693712 \r\nL 77.779194 148.518639 \r\nL 33.2875 148.518639 \r\nz\r\n\" style=\"fill:#1f77b4;\"/>\r\n   </g>\r\n   <g id=\"patch_231\">\r\n    <path clip-path=\"url(#pfe2bae2009)\" d=\"M 33.2875 148.343567 \r\nL 55.533347 148.343567 \r\nL 55.533347 148.168494 \r\nL 33.2875 148.168494 \r\nz\r\n\" style=\"fill:#1f77b4;\"/>\r\n   </g>\r\n   <g id=\"patch_232\">\r\n    <path clip-path=\"url(#pfe2bae2009)\" d=\"M 33.2875 147.993422 \r\nL 92.609759 147.993422 \r\nL 92.609759 147.818349 \r\nL 33.2875 147.818349 \r\nz\r\n\" style=\"fill:#1f77b4;\"/>\r\n   </g>\r\n   <g id=\"patch_233\">\r\n    <path clip-path=\"url(#pfe2bae2009)\" d=\"M 33.2875 147.643277 \r\nL 48.118065 147.643277 \r\nL 48.118065 147.468204 \r\nL 33.2875 147.468204 \r\nz\r\n\" style=\"fill:#1f77b4;\"/>\r\n   </g>\r\n   <g id=\"patch_234\">\r\n    <path clip-path=\"url(#pfe2bae2009)\" d=\"M 33.2875 147.293132 \r\nL 55.533347 147.293132 \r\nL 55.533347 147.118059 \r\nL 33.2875 147.118059 \r\nz\r\n\" style=\"fill:#1f77b4;\"/>\r\n   </g>\r\n   <g id=\"patch_235\">\r\n    <path clip-path=\"url(#pfe2bae2009)\" d=\"M 33.2875 146.942987 \r\nL 85.194477 146.942987 \r\nL 85.194477 146.767914 \r\nL 33.2875 146.767914 \r\nz\r\n\" style=\"fill:#1f77b4;\"/>\r\n   </g>\r\n   <g id=\"patch_236\">\r\n    <path clip-path=\"url(#pfe2bae2009)\" d=\"M 33.2875 146.592842 \r\nL 85.194477 146.592842 \r\nL 85.194477 146.417769 \r\nL 33.2875 146.417769 \r\nz\r\n\" style=\"fill:#1f77b4;\"/>\r\n   </g>\r\n   <g id=\"patch_237\">\r\n    <path clip-path=\"url(#pfe2bae2009)\" d=\"M 33.2875 146.242697 \r\nL 48.118065 146.242697 \r\nL 48.118065 146.067625 \r\nL 33.2875 146.067625 \r\nz\r\n\" style=\"fill:#1f77b4;\"/>\r\n   </g>\r\n   <g id=\"patch_238\">\r\n    <path clip-path=\"url(#pfe2bae2009)\" d=\"M 33.2875 145.892552 \r\nL 62.94863 145.892552 \r\nL 62.94863 145.71748 \r\nL 33.2875 145.71748 \r\nz\r\n\" style=\"fill:#1f77b4;\"/>\r\n   </g>\r\n   <g id=\"patch_239\">\r\n    <path clip-path=\"url(#pfe2bae2009)\" d=\"M 33.2875 145.542407 \r\nL 70.363912 145.542407 \r\nL 70.363912 145.367335 \r\nL 33.2875 145.367335 \r\nz\r\n\" style=\"fill:#1f77b4;\"/>\r\n   </g>\r\n   <g id=\"patch_240\">\r\n    <path clip-path=\"url(#pfe2bae2009)\" d=\"M 33.2875 145.192262 \r\nL 137.101453 145.192262 \r\nL 137.101453 145.01719 \r\nL 33.2875 145.01719 \r\nz\r\n\" style=\"fill:#1f77b4;\"/>\r\n   </g>\r\n   <g id=\"patch_241\">\r\n    <path clip-path=\"url(#pfe2bae2009)\" d=\"M 33.2875 144.842117 \r\nL 55.533347 144.842117 \r\nL 55.533347 144.667045 \r\nL 33.2875 144.667045 \r\nz\r\n\" style=\"fill:#1f77b4;\"/>\r\n   </g>\r\n   <g id=\"patch_242\">\r\n    <path clip-path=\"url(#pfe2bae2009)\" d=\"M 33.2875 144.491972 \r\nL 55.533347 144.491972 \r\nL 55.533347 144.3169 \r\nL 33.2875 144.3169 \r\nz\r\n\" style=\"fill:#1f77b4;\"/>\r\n   </g>\r\n   <g id=\"patch_243\">\r\n    <path clip-path=\"url(#pfe2bae2009)\" d=\"M 33.2875 144.141827 \r\nL 33.2875 144.141827 \r\nL 33.2875 143.966755 \r\nL 33.2875 143.966755 \r\nz\r\n\" style=\"fill:#1f77b4;\"/>\r\n   </g>\r\n   <g id=\"patch_244\">\r\n    <path clip-path=\"url(#pfe2bae2009)\" d=\"M 33.2875 143.791683 \r\nL 166.762583 143.791683 \r\nL 166.762583 143.61661 \r\nL 33.2875 143.61661 \r\nz\r\n\" style=\"fill:#1f77b4;\"/>\r\n   </g>\r\n   <g id=\"patch_245\">\r\n    <path clip-path=\"url(#pfe2bae2009)\" d=\"M 33.2875 143.441538 \r\nL 62.94863 143.441538 \r\nL 62.94863 143.266465 \r\nL 33.2875 143.266465 \r\nz\r\n\" style=\"fill:#1f77b4;\"/>\r\n   </g>\r\n   <g id=\"patch_246\">\r\n    <path clip-path=\"url(#pfe2bae2009)\" d=\"M 33.2875 143.091393 \r\nL 48.118065 143.091393 \r\nL 48.118065 142.91632 \r\nL 33.2875 142.91632 \r\nz\r\n\" style=\"fill:#1f77b4;\"/>\r\n   </g>\r\n   <g id=\"patch_247\">\r\n    <path clip-path=\"url(#pfe2bae2009)\" d=\"M 33.2875 142.741248 \r\nL 62.94863 142.741248 \r\nL 62.94863 142.566175 \r\nL 33.2875 142.566175 \r\nz\r\n\" style=\"fill:#1f77b4;\"/>\r\n   </g>\r\n   <g id=\"patch_248\">\r\n    <path clip-path=\"url(#pfe2bae2009)\" d=\"M 33.2875 142.391103 \r\nL 62.94863 142.391103 \r\nL 62.94863 142.21603 \r\nL 33.2875 142.21603 \r\nz\r\n\" style=\"fill:#1f77b4;\"/>\r\n   </g>\r\n   <g id=\"patch_249\">\r\n    <path clip-path=\"url(#pfe2bae2009)\" d=\"M 33.2875 142.040958 \r\nL 77.779194 142.040958 \r\nL 77.779194 141.865885 \r\nL 33.2875 141.865885 \r\nz\r\n\" style=\"fill:#1f77b4;\"/>\r\n   </g>\r\n   <g id=\"patch_250\">\r\n    <path clip-path=\"url(#pfe2bae2009)\" d=\"M 33.2875 141.690813 \r\nL 77.779194 141.690813 \r\nL 77.779194 141.51574 \r\nL 33.2875 141.51574 \r\nz\r\n\" style=\"fill:#1f77b4;\"/>\r\n   </g>\r\n   <g id=\"patch_251\">\r\n    <path clip-path=\"url(#pfe2bae2009)\" d=\"M 33.2875 141.340668 \r\nL 92.609759 141.340668 \r\nL 92.609759 141.165596 \r\nL 33.2875 141.165596 \r\nz\r\n\" style=\"fill:#1f77b4;\"/>\r\n   </g>\r\n   <g id=\"patch_252\">\r\n    <path clip-path=\"url(#pfe2bae2009)\" d=\"M 33.2875 140.990523 \r\nL 70.363912 140.990523 \r\nL 70.363912 140.815451 \r\nL 33.2875 140.815451 \r\nz\r\n\" style=\"fill:#1f77b4;\"/>\r\n   </g>\r\n   <g id=\"patch_253\">\r\n    <path clip-path=\"url(#pfe2bae2009)\" d=\"M 33.2875 140.640378 \r\nL 129.686171 140.640378 \r\nL 129.686171 140.465306 \r\nL 33.2875 140.465306 \r\nz\r\n\" style=\"fill:#1f77b4;\"/>\r\n   </g>\r\n   <g id=\"patch_254\">\r\n    <path clip-path=\"url(#pfe2bae2009)\" d=\"M 33.2875 140.290233 \r\nL 70.363912 140.290233 \r\nL 70.363912 140.115161 \r\nL 33.2875 140.115161 \r\nz\r\n\" style=\"fill:#1f77b4;\"/>\r\n   </g>\r\n   <g id=\"patch_255\">\r\n    <path clip-path=\"url(#pfe2bae2009)\" d=\"M 33.2875 139.940088 \r\nL 85.194477 139.940088 \r\nL 85.194477 139.765016 \r\nL 33.2875 139.765016 \r\nz\r\n\" style=\"fill:#1f77b4;\"/>\r\n   </g>\r\n   <g id=\"patch_256\">\r\n    <path clip-path=\"url(#pfe2bae2009)\" d=\"M 33.2875 139.589943 \r\nL 85.194477 139.589943 \r\nL 85.194477 139.414871 \r\nL 33.2875 139.414871 \r\nz\r\n\" style=\"fill:#1f77b4;\"/>\r\n   </g>\r\n   <g id=\"patch_257\">\r\n    <path clip-path=\"url(#pfe2bae2009)\" d=\"M 33.2875 139.239798 \r\nL 100.025042 139.239798 \r\nL 100.025042 139.064726 \r\nL 33.2875 139.064726 \r\nz\r\n\" style=\"fill:#1f77b4;\"/>\r\n   </g>\r\n   <g id=\"patch_258\">\r\n    <path clip-path=\"url(#pfe2bae2009)\" d=\"M 33.2875 138.889654 \r\nL 77.779194 138.889654 \r\nL 77.779194 138.714581 \r\nL 33.2875 138.714581 \r\nz\r\n\" style=\"fill:#1f77b4;\"/>\r\n   </g>\r\n   <g id=\"patch_259\">\r\n    <path clip-path=\"url(#pfe2bae2009)\" d=\"M 33.2875 138.539509 \r\nL 100.025042 138.539509 \r\nL 100.025042 138.364436 \r\nL 33.2875 138.364436 \r\nz\r\n\" style=\"fill:#1f77b4;\"/>\r\n   </g>\r\n   <g id=\"patch_260\">\r\n    <path clip-path=\"url(#pfe2bae2009)\" d=\"M 33.2875 138.189364 \r\nL 129.686171 138.189364 \r\nL 129.686171 138.014291 \r\nL 33.2875 138.014291 \r\nz\r\n\" style=\"fill:#1f77b4;\"/>\r\n   </g>\r\n   <g id=\"patch_261\">\r\n    <path clip-path=\"url(#pfe2bae2009)\" d=\"M 33.2875 137.839219 \r\nL 62.94863 137.839219 \r\nL 62.94863 137.664146 \r\nL 33.2875 137.664146 \r\nz\r\n\" style=\"fill:#1f77b4;\"/>\r\n   </g>\r\n   <g id=\"patch_262\">\r\n    <path clip-path=\"url(#pfe2bae2009)\" d=\"M 33.2875 137.489074 \r\nL 55.533347 137.489074 \r\nL 55.533347 137.314001 \r\nL 33.2875 137.314001 \r\nz\r\n\" style=\"fill:#1f77b4;\"/>\r\n   </g>\r\n   <g id=\"patch_263\">\r\n    <path clip-path=\"url(#pfe2bae2009)\" d=\"M 33.2875 137.138929 \r\nL 129.686171 137.138929 \r\nL 129.686171 136.963856 \r\nL 33.2875 136.963856 \r\nz\r\n\" style=\"fill:#1f77b4;\"/>\r\n   </g>\r\n   <g id=\"patch_264\">\r\n    <path clip-path=\"url(#pfe2bae2009)\" d=\"M 33.2875 136.788784 \r\nL 62.94863 136.788784 \r\nL 62.94863 136.613712 \r\nL 33.2875 136.613712 \r\nz\r\n\" style=\"fill:#1f77b4;\"/>\r\n   </g>\r\n   <g id=\"patch_265\">\r\n    <path clip-path=\"url(#pfe2bae2009)\" d=\"M 33.2875 136.438639 \r\nL 129.686171 136.438639 \r\nL 129.686171 136.263567 \r\nL 33.2875 136.263567 \r\nz\r\n\" style=\"fill:#1f77b4;\"/>\r\n   </g>\r\n   <g id=\"patch_266\">\r\n    <path clip-path=\"url(#pfe2bae2009)\" d=\"M 33.2875 136.088494 \r\nL 129.686171 136.088494 \r\nL 129.686171 135.913422 \r\nL 33.2875 135.913422 \r\nz\r\n\" style=\"fill:#1f77b4;\"/>\r\n   </g>\r\n   <g id=\"patch_267\">\r\n    <path clip-path=\"url(#pfe2bae2009)\" d=\"M 33.2875 135.738349 \r\nL 114.855606 135.738349 \r\nL 114.855606 135.563277 \r\nL 33.2875 135.563277 \r\nz\r\n\" style=\"fill:#1f77b4;\"/>\r\n   </g>\r\n   <g id=\"patch_268\">\r\n    <path clip-path=\"url(#pfe2bae2009)\" d=\"M 33.2875 135.388204 \r\nL 77.779194 135.388204 \r\nL 77.779194 135.213132 \r\nL 33.2875 135.213132 \r\nz\r\n\" style=\"fill:#1f77b4;\"/>\r\n   </g>\r\n   <g id=\"patch_269\">\r\n    <path clip-path=\"url(#pfe2bae2009)\" d=\"M 33.2875 135.038059 \r\nL 122.270889 135.038059 \r\nL 122.270889 134.862987 \r\nL 33.2875 134.862987 \r\nz\r\n\" style=\"fill:#1f77b4;\"/>\r\n   </g>\r\n   <g id=\"patch_270\">\r\n    <path clip-path=\"url(#pfe2bae2009)\" d=\"M 33.2875 134.687914 \r\nL 85.194477 134.687914 \r\nL 85.194477 134.512842 \r\nL 33.2875 134.512842 \r\nz\r\n\" style=\"fill:#1f77b4;\"/>\r\n   </g>\r\n   <g id=\"patch_271\">\r\n    <path clip-path=\"url(#pfe2bae2009)\" d=\"M 33.2875 134.337769 \r\nL 70.363912 134.337769 \r\nL 70.363912 134.162697 \r\nL 33.2875 134.162697 \r\nz\r\n\" style=\"fill:#1f77b4;\"/>\r\n   </g>\r\n   <g id=\"patch_272\">\r\n    <path clip-path=\"url(#pfe2bae2009)\" d=\"M 33.2875 133.987625 \r\nL 70.363912 133.987625 \r\nL 70.363912 133.812552 \r\nL 33.2875 133.812552 \r\nz\r\n\" style=\"fill:#1f77b4;\"/>\r\n   </g>\r\n   <g id=\"patch_273\">\r\n    <path clip-path=\"url(#pfe2bae2009)\" d=\"M 33.2875 133.63748 \r\nL 107.440324 133.63748 \r\nL 107.440324 133.462407 \r\nL 33.2875 133.462407 \r\nz\r\n\" style=\"fill:#1f77b4;\"/>\r\n   </g>\r\n   <g id=\"patch_274\">\r\n    <path clip-path=\"url(#pfe2bae2009)\" d=\"M 33.2875 133.287335 \r\nL 62.94863 133.287335 \r\nL 62.94863 133.112262 \r\nL 33.2875 133.112262 \r\nz\r\n\" style=\"fill:#1f77b4;\"/>\r\n   </g>\r\n   <g id=\"patch_275\">\r\n    <path clip-path=\"url(#pfe2bae2009)\" d=\"M 33.2875 132.93719 \r\nL 62.94863 132.93719 \r\nL 62.94863 132.762117 \r\nL 33.2875 132.762117 \r\nz\r\n\" style=\"fill:#1f77b4;\"/>\r\n   </g>\r\n   <g id=\"patch_276\">\r\n    <path clip-path=\"url(#pfe2bae2009)\" d=\"M 33.2875 132.587045 \r\nL 40.702782 132.587045 \r\nL 40.702782 132.411972 \r\nL 33.2875 132.411972 \r\nz\r\n\" style=\"fill:#1f77b4;\"/>\r\n   </g>\r\n   <g id=\"patch_277\">\r\n    <path clip-path=\"url(#pfe2bae2009)\" d=\"M 33.2875 132.2369 \r\nL 62.94863 132.2369 \r\nL 62.94863 132.061827 \r\nL 33.2875 132.061827 \r\nz\r\n\" style=\"fill:#1f77b4;\"/>\r\n   </g>\r\n   <g id=\"patch_278\">\r\n    <path clip-path=\"url(#pfe2bae2009)\" d=\"M 33.2875 131.886755 \r\nL 122.270889 131.886755 \r\nL 122.270889 131.711683 \r\nL 33.2875 131.711683 \r\nz\r\n\" style=\"fill:#1f77b4;\"/>\r\n   </g>\r\n   <g id=\"patch_279\">\r\n    <path clip-path=\"url(#pfe2bae2009)\" d=\"M 33.2875 131.53661 \r\nL 77.779194 131.53661 \r\nL 77.779194 131.361538 \r\nL 33.2875 131.361538 \r\nz\r\n\" style=\"fill:#1f77b4;\"/>\r\n   </g>\r\n   <g id=\"patch_280\">\r\n    <path clip-path=\"url(#pfe2bae2009)\" d=\"M 33.2875 131.186465 \r\nL 70.363912 131.186465 \r\nL 70.363912 131.011393 \r\nL 33.2875 131.011393 \r\nz\r\n\" style=\"fill:#1f77b4;\"/>\r\n   </g>\r\n   <g id=\"patch_281\">\r\n    <path clip-path=\"url(#pfe2bae2009)\" d=\"M 33.2875 130.83632 \r\nL 100.025042 130.83632 \r\nL 100.025042 130.661248 \r\nL 33.2875 130.661248 \r\nz\r\n\" style=\"fill:#1f77b4;\"/>\r\n   </g>\r\n   <g id=\"patch_282\">\r\n    <path clip-path=\"url(#pfe2bae2009)\" d=\"M 33.2875 130.486175 \r\nL 92.609759 130.486175 \r\nL 92.609759 130.311103 \r\nL 33.2875 130.311103 \r\nz\r\n\" style=\"fill:#1f77b4;\"/>\r\n   </g>\r\n   <g id=\"patch_283\">\r\n    <path clip-path=\"url(#pfe2bae2009)\" d=\"M 33.2875 130.13603 \r\nL 70.363912 130.13603 \r\nL 70.363912 129.960958 \r\nL 33.2875 129.960958 \r\nz\r\n\" style=\"fill:#1f77b4;\"/>\r\n   </g>\r\n   <g id=\"patch_284\">\r\n    <path clip-path=\"url(#pfe2bae2009)\" d=\"M 33.2875 129.785885 \r\nL 92.609759 129.785885 \r\nL 92.609759 129.610813 \r\nL 33.2875 129.610813 \r\nz\r\n\" style=\"fill:#1f77b4;\"/>\r\n   </g>\r\n   <g id=\"patch_285\">\r\n    <path clip-path=\"url(#pfe2bae2009)\" d=\"M 33.2875 129.43574 \r\nL 55.533347 129.43574 \r\nL 55.533347 129.260668 \r\nL 33.2875 129.260668 \r\nz\r\n\" style=\"fill:#1f77b4;\"/>\r\n   </g>\r\n   <g id=\"patch_286\">\r\n    <path clip-path=\"url(#pfe2bae2009)\" d=\"M 33.2875 129.085596 \r\nL 55.533347 129.085596 \r\nL 55.533347 128.910523 \r\nL 33.2875 128.910523 \r\nz\r\n\" style=\"fill:#1f77b4;\"/>\r\n   </g>\r\n   <g id=\"patch_287\">\r\n    <path clip-path=\"url(#pfe2bae2009)\" d=\"M 33.2875 128.735451 \r\nL 77.779194 128.735451 \r\nL 77.779194 128.560378 \r\nL 33.2875 128.560378 \r\nz\r\n\" style=\"fill:#1f77b4;\"/>\r\n   </g>\r\n   <g id=\"patch_288\">\r\n    <path clip-path=\"url(#pfe2bae2009)\" d=\"M 33.2875 128.385306 \r\nL 166.762583 128.385306 \r\nL 166.762583 128.210233 \r\nL 33.2875 128.210233 \r\nz\r\n\" style=\"fill:#1f77b4;\"/>\r\n   </g>\r\n   <g id=\"patch_289\">\r\n    <path clip-path=\"url(#pfe2bae2009)\" d=\"M 33.2875 128.035161 \r\nL 33.2875 128.035161 \r\nL 33.2875 127.860088 \r\nL 33.2875 127.860088 \r\nz\r\n\" style=\"fill:#1f77b4;\"/>\r\n   </g>\r\n   <g id=\"patch_290\">\r\n    <path clip-path=\"url(#pfe2bae2009)\" d=\"M 33.2875 127.685016 \r\nL 55.533347 127.685016 \r\nL 55.533347 127.509943 \r\nL 33.2875 127.509943 \r\nz\r\n\" style=\"fill:#1f77b4;\"/>\r\n   </g>\r\n   <g id=\"patch_291\">\r\n    <path clip-path=\"url(#pfe2bae2009)\" d=\"M 33.2875 127.334871 \r\nL 92.609759 127.334871 \r\nL 92.609759 127.159798 \r\nL 33.2875 127.159798 \r\nz\r\n\" style=\"fill:#1f77b4;\"/>\r\n   </g>\r\n   <g id=\"patch_292\">\r\n    <path clip-path=\"url(#pfe2bae2009)\" d=\"M 33.2875 126.984726 \r\nL 70.363912 126.984726 \r\nL 70.363912 126.809654 \r\nL 33.2875 126.809654 \r\nz\r\n\" style=\"fill:#1f77b4;\"/>\r\n   </g>\r\n   <g id=\"patch_293\">\r\n    <path clip-path=\"url(#pfe2bae2009)\" d=\"M 33.2875 126.634581 \r\nL 70.363912 126.634581 \r\nL 70.363912 126.459509 \r\nL 33.2875 126.459509 \r\nz\r\n\" style=\"fill:#1f77b4;\"/>\r\n   </g>\r\n   <g id=\"patch_294\">\r\n    <path clip-path=\"url(#pfe2bae2009)\" d=\"M 33.2875 126.284436 \r\nL 85.194477 126.284436 \r\nL 85.194477 126.109364 \r\nL 33.2875 126.109364 \r\nz\r\n\" style=\"fill:#1f77b4;\"/>\r\n   </g>\r\n   <g id=\"patch_295\">\r\n    <path clip-path=\"url(#pfe2bae2009)\" d=\"M 33.2875 125.934291 \r\nL 40.702782 125.934291 \r\nL 40.702782 125.759219 \r\nL 33.2875 125.759219 \r\nz\r\n\" style=\"fill:#1f77b4;\"/>\r\n   </g>\r\n   <g id=\"patch_296\">\r\n    <path clip-path=\"url(#pfe2bae2009)\" d=\"M 33.2875 125.584146 \r\nL 92.609759 125.584146 \r\nL 92.609759 125.409074 \r\nL 33.2875 125.409074 \r\nz\r\n\" style=\"fill:#1f77b4;\"/>\r\n   </g>\r\n   <g id=\"patch_297\">\r\n    <path clip-path=\"url(#pfe2bae2009)\" d=\"M 33.2875 125.234001 \r\nL 77.779194 125.234001 \r\nL 77.779194 125.058929 \r\nL 33.2875 125.058929 \r\nz\r\n\" style=\"fill:#1f77b4;\"/>\r\n   </g>\r\n   <g id=\"patch_298\">\r\n    <path clip-path=\"url(#pfe2bae2009)\" d=\"M 33.2875 124.883856 \r\nL 55.533347 124.883856 \r\nL 55.533347 124.708784 \r\nL 33.2875 124.708784 \r\nz\r\n\" style=\"fill:#1f77b4;\"/>\r\n   </g>\r\n   <g id=\"patch_299\">\r\n    <path clip-path=\"url(#pfe2bae2009)\" d=\"M 33.2875 124.533712 \r\nL 92.609759 124.533712 \r\nL 92.609759 124.358639 \r\nL 33.2875 124.358639 \r\nz\r\n\" style=\"fill:#1f77b4;\"/>\r\n   </g>\r\n   <g id=\"patch_300\">\r\n    <path clip-path=\"url(#pfe2bae2009)\" d=\"M 33.2875 124.183567 \r\nL 129.686171 124.183567 \r\nL 129.686171 124.008494 \r\nL 33.2875 124.008494 \r\nz\r\n\" style=\"fill:#1f77b4;\"/>\r\n   </g>\r\n   <g id=\"patch_301\">\r\n    <path clip-path=\"url(#pfe2bae2009)\" d=\"M 33.2875 123.833422 \r\nL 85.194477 123.833422 \r\nL 85.194477 123.658349 \r\nL 33.2875 123.658349 \r\nz\r\n\" style=\"fill:#1f77b4;\"/>\r\n   </g>\r\n   <g id=\"patch_302\">\r\n    <path clip-path=\"url(#pfe2bae2009)\" d=\"M 33.2875 123.483277 \r\nL 40.702782 123.483277 \r\nL 40.702782 123.308204 \r\nL 33.2875 123.308204 \r\nz\r\n\" style=\"fill:#1f77b4;\"/>\r\n   </g>\r\n   <g id=\"patch_303\">\r\n    <path clip-path=\"url(#pfe2bae2009)\" d=\"M 33.2875 123.133132 \r\nL 55.533347 123.133132 \r\nL 55.533347 122.958059 \r\nL 33.2875 122.958059 \r\nz\r\n\" style=\"fill:#1f77b4;\"/>\r\n   </g>\r\n   <g id=\"patch_304\">\r\n    <path clip-path=\"url(#pfe2bae2009)\" d=\"M 33.2875 122.782987 \r\nL 62.94863 122.782987 \r\nL 62.94863 122.607914 \r\nL 33.2875 122.607914 \r\nz\r\n\" style=\"fill:#1f77b4;\"/>\r\n   </g>\r\n   <g id=\"patch_305\">\r\n    <path clip-path=\"url(#pfe2bae2009)\" d=\"M 33.2875 122.432842 \r\nL 70.363912 122.432842 \r\nL 70.363912 122.257769 \r\nL 33.2875 122.257769 \r\nz\r\n\" style=\"fill:#1f77b4;\"/>\r\n   </g>\r\n   <g id=\"patch_306\">\r\n    <path clip-path=\"url(#pfe2bae2009)\" d=\"M 33.2875 122.082697 \r\nL 70.363912 122.082697 \r\nL 70.363912 121.907625 \r\nL 33.2875 121.907625 \r\nz\r\n\" style=\"fill:#1f77b4;\"/>\r\n   </g>\r\n   <g id=\"patch_307\">\r\n    <path clip-path=\"url(#pfe2bae2009)\" d=\"M 33.2875 121.732552 \r\nL 100.025042 121.732552 \r\nL 100.025042 121.55748 \r\nL 33.2875 121.55748 \r\nz\r\n\" style=\"fill:#1f77b4;\"/>\r\n   </g>\r\n   <g id=\"patch_308\">\r\n    <path clip-path=\"url(#pfe2bae2009)\" d=\"M 33.2875 121.382407 \r\nL 92.609759 121.382407 \r\nL 92.609759 121.207335 \r\nL 33.2875 121.207335 \r\nz\r\n\" style=\"fill:#1f77b4;\"/>\r\n   </g>\r\n   <g id=\"patch_309\">\r\n    <path clip-path=\"url(#pfe2bae2009)\" d=\"M 33.2875 121.032262 \r\nL 55.533347 121.032262 \r\nL 55.533347 120.85719 \r\nL 33.2875 120.85719 \r\nz\r\n\" style=\"fill:#1f77b4;\"/>\r\n   </g>\r\n   <g id=\"patch_310\">\r\n    <path clip-path=\"url(#pfe2bae2009)\" d=\"M 33.2875 120.682117 \r\nL 48.118065 120.682117 \r\nL 48.118065 120.507045 \r\nL 33.2875 120.507045 \r\nz\r\n\" style=\"fill:#1f77b4;\"/>\r\n   </g>\r\n   <g id=\"patch_311\">\r\n    <path clip-path=\"url(#pfe2bae2009)\" d=\"M 33.2875 120.331972 \r\nL 77.779194 120.331972 \r\nL 77.779194 120.1569 \r\nL 33.2875 120.1569 \r\nz\r\n\" style=\"fill:#1f77b4;\"/>\r\n   </g>\r\n   <g id=\"patch_312\">\r\n    <path clip-path=\"url(#pfe2bae2009)\" d=\"M 33.2875 119.981827 \r\nL 40.702782 119.981827 \r\nL 40.702782 119.806755 \r\nL 33.2875 119.806755 \r\nz\r\n\" style=\"fill:#1f77b4;\"/>\r\n   </g>\r\n   <g id=\"patch_313\">\r\n    <path clip-path=\"url(#pfe2bae2009)\" d=\"M 33.2875 119.631683 \r\nL 62.94863 119.631683 \r\nL 62.94863 119.45661 \r\nL 33.2875 119.45661 \r\nz\r\n\" style=\"fill:#1f77b4;\"/>\r\n   </g>\r\n   <g id=\"patch_314\">\r\n    <path clip-path=\"url(#pfe2bae2009)\" d=\"M 33.2875 119.281538 \r\nL 100.025042 119.281538 \r\nL 100.025042 119.106465 \r\nL 33.2875 119.106465 \r\nz\r\n\" style=\"fill:#1f77b4;\"/>\r\n   </g>\r\n   <g id=\"patch_315\">\r\n    <path clip-path=\"url(#pfe2bae2009)\" d=\"M 33.2875 118.931393 \r\nL 85.194477 118.931393 \r\nL 85.194477 118.75632 \r\nL 33.2875 118.75632 \r\nz\r\n\" style=\"fill:#1f77b4;\"/>\r\n   </g>\r\n   <g id=\"patch_316\">\r\n    <path clip-path=\"url(#pfe2bae2009)\" d=\"M 33.2875 118.581248 \r\nL 129.686171 118.581248 \r\nL 129.686171 118.406175 \r\nL 33.2875 118.406175 \r\nz\r\n\" style=\"fill:#1f77b4;\"/>\r\n   </g>\r\n   <g id=\"patch_317\">\r\n    <path clip-path=\"url(#pfe2bae2009)\" d=\"M 33.2875 118.231103 \r\nL 151.932018 118.231103 \r\nL 151.932018 118.05603 \r\nL 33.2875 118.05603 \r\nz\r\n\" style=\"fill:#1f77b4;\"/>\r\n   </g>\r\n   <g id=\"patch_318\">\r\n    <path clip-path=\"url(#pfe2bae2009)\" d=\"M 33.2875 117.880958 \r\nL 62.94863 117.880958 \r\nL 62.94863 117.705885 \r\nL 33.2875 117.705885 \r\nz\r\n\" style=\"fill:#1f77b4;\"/>\r\n   </g>\r\n   <g id=\"patch_319\">\r\n    <path clip-path=\"url(#pfe2bae2009)\" d=\"M 33.2875 117.530813 \r\nL 62.94863 117.530813 \r\nL 62.94863 117.35574 \r\nL 33.2875 117.35574 \r\nz\r\n\" style=\"fill:#1f77b4;\"/>\r\n   </g>\r\n   <g id=\"patch_320\">\r\n    <path clip-path=\"url(#pfe2bae2009)\" d=\"M 33.2875 117.180668 \r\nL 70.363912 117.180668 \r\nL 70.363912 117.005596 \r\nL 33.2875 117.005596 \r\nz\r\n\" style=\"fill:#1f77b4;\"/>\r\n   </g>\r\n   <g id=\"patch_321\">\r\n    <path clip-path=\"url(#pfe2bae2009)\" d=\"M 33.2875 116.830523 \r\nL 159.347301 116.830523 \r\nL 159.347301 116.655451 \r\nL 33.2875 116.655451 \r\nz\r\n\" style=\"fill:#1f77b4;\"/>\r\n   </g>\r\n   <g id=\"patch_322\">\r\n    <path clip-path=\"url(#pfe2bae2009)\" d=\"M 33.2875 116.480378 \r\nL 55.533347 116.480378 \r\nL 55.533347 116.305306 \r\nL 33.2875 116.305306 \r\nz\r\n\" style=\"fill:#1f77b4;\"/>\r\n   </g>\r\n   <g id=\"patch_323\">\r\n    <path clip-path=\"url(#pfe2bae2009)\" d=\"M 33.2875 116.130233 \r\nL 159.347301 116.130233 \r\nL 159.347301 115.955161 \r\nL 33.2875 115.955161 \r\nz\r\n\" style=\"fill:#1f77b4;\"/>\r\n   </g>\r\n   <g id=\"patch_324\">\r\n    <path clip-path=\"url(#pfe2bae2009)\" d=\"M 33.2875 115.780088 \r\nL 55.533347 115.780088 \r\nL 55.533347 115.605016 \r\nL 33.2875 115.605016 \r\nz\r\n\" style=\"fill:#1f77b4;\"/>\r\n   </g>\r\n   <g id=\"patch_325\">\r\n    <path clip-path=\"url(#pfe2bae2009)\" d=\"M 33.2875 115.429943 \r\nL 70.363912 115.429943 \r\nL 70.363912 115.254871 \r\nL 33.2875 115.254871 \r\nz\r\n\" style=\"fill:#1f77b4;\"/>\r\n   </g>\r\n   <g id=\"patch_326\">\r\n    <path clip-path=\"url(#pfe2bae2009)\" d=\"M 33.2875 115.079798 \r\nL 62.94863 115.079798 \r\nL 62.94863 114.904726 \r\nL 33.2875 114.904726 \r\nz\r\n\" style=\"fill:#1f77b4;\"/>\r\n   </g>\r\n   <g id=\"patch_327\">\r\n    <path clip-path=\"url(#pfe2bae2009)\" d=\"M 33.2875 114.729654 \r\nL 107.440324 114.729654 \r\nL 107.440324 114.554581 \r\nL 33.2875 114.554581 \r\nz\r\n\" style=\"fill:#1f77b4;\"/>\r\n   </g>\r\n   <g id=\"patch_328\">\r\n    <path clip-path=\"url(#pfe2bae2009)\" d=\"M 33.2875 114.379509 \r\nL 48.118065 114.379509 \r\nL 48.118065 114.204436 \r\nL 33.2875 114.204436 \r\nz\r\n\" style=\"fill:#1f77b4;\"/>\r\n   </g>\r\n   <g id=\"patch_329\">\r\n    <path clip-path=\"url(#pfe2bae2009)\" d=\"M 33.2875 114.029364 \r\nL 100.025042 114.029364 \r\nL 100.025042 113.854291 \r\nL 33.2875 113.854291 \r\nz\r\n\" style=\"fill:#1f77b4;\"/>\r\n   </g>\r\n   <g id=\"patch_330\">\r\n    <path clip-path=\"url(#pfe2bae2009)\" d=\"M 33.2875 113.679219 \r\nL 55.533347 113.679219 \r\nL 55.533347 113.504146 \r\nL 33.2875 113.504146 \r\nz\r\n\" style=\"fill:#1f77b4;\"/>\r\n   </g>\r\n   <g id=\"patch_331\">\r\n    <path clip-path=\"url(#pfe2bae2009)\" d=\"M 33.2875 113.329074 \r\nL 55.533347 113.329074 \r\nL 55.533347 113.154001 \r\nL 33.2875 113.154001 \r\nz\r\n\" style=\"fill:#1f77b4;\"/>\r\n   </g>\r\n   <g id=\"patch_332\">\r\n    <path clip-path=\"url(#pfe2bae2009)\" d=\"M 33.2875 112.978929 \r\nL 107.440324 112.978929 \r\nL 107.440324 112.803856 \r\nL 33.2875 112.803856 \r\nz\r\n\" style=\"fill:#1f77b4;\"/>\r\n   </g>\r\n   <g id=\"patch_333\">\r\n    <path clip-path=\"url(#pfe2bae2009)\" d=\"M 33.2875 112.628784 \r\nL 77.779194 112.628784 \r\nL 77.779194 112.453712 \r\nL 33.2875 112.453712 \r\nz\r\n\" style=\"fill:#1f77b4;\"/>\r\n   </g>\r\n   <g id=\"patch_334\">\r\n    <path clip-path=\"url(#pfe2bae2009)\" d=\"M 33.2875 112.278639 \r\nL 85.194477 112.278639 \r\nL 85.194477 112.103567 \r\nL 33.2875 112.103567 \r\nz\r\n\" style=\"fill:#1f77b4;\"/>\r\n   </g>\r\n   <g id=\"patch_335\">\r\n    <path clip-path=\"url(#pfe2bae2009)\" d=\"M 33.2875 111.928494 \r\nL 48.118065 111.928494 \r\nL 48.118065 111.753422 \r\nL 33.2875 111.753422 \r\nz\r\n\" style=\"fill:#1f77b4;\"/>\r\n   </g>\r\n   <g id=\"patch_336\">\r\n    <path clip-path=\"url(#pfe2bae2009)\" d=\"M 33.2875 111.578349 \r\nL 137.101453 111.578349 \r\nL 137.101453 111.403277 \r\nL 33.2875 111.403277 \r\nz\r\n\" style=\"fill:#1f77b4;\"/>\r\n   </g>\r\n   <g id=\"patch_337\">\r\n    <path clip-path=\"url(#pfe2bae2009)\" d=\"M 33.2875 111.228204 \r\nL 62.94863 111.228204 \r\nL 62.94863 111.053132 \r\nL 33.2875 111.053132 \r\nz\r\n\" style=\"fill:#1f77b4;\"/>\r\n   </g>\r\n   <g id=\"patch_338\">\r\n    <path clip-path=\"url(#pfe2bae2009)\" d=\"M 33.2875 110.878059 \r\nL 114.855606 110.878059 \r\nL 114.855606 110.702987 \r\nL 33.2875 110.702987 \r\nz\r\n\" style=\"fill:#1f77b4;\"/>\r\n   </g>\r\n   <g id=\"patch_339\">\r\n    <path clip-path=\"url(#pfe2bae2009)\" d=\"M 33.2875 110.527914 \r\nL 85.194477 110.527914 \r\nL 85.194477 110.352842 \r\nL 33.2875 110.352842 \r\nz\r\n\" style=\"fill:#1f77b4;\"/>\r\n   </g>\r\n   <g id=\"patch_340\">\r\n    <path clip-path=\"url(#pfe2bae2009)\" d=\"M 33.2875 110.177769 \r\nL 166.762583 110.177769 \r\nL 166.762583 110.002697 \r\nL 33.2875 110.002697 \r\nz\r\n\" style=\"fill:#1f77b4;\"/>\r\n   </g>\r\n   <g id=\"patch_341\">\r\n    <path clip-path=\"url(#pfe2bae2009)\" d=\"M 33.2875 109.827625 \r\nL 70.363912 109.827625 \r\nL 70.363912 109.652552 \r\nL 33.2875 109.652552 \r\nz\r\n\" style=\"fill:#1f77b4;\"/>\r\n   </g>\r\n   <g id=\"patch_342\">\r\n    <path clip-path=\"url(#pfe2bae2009)\" d=\"M 33.2875 109.47748 \r\nL 62.94863 109.47748 \r\nL 62.94863 109.302407 \r\nL 33.2875 109.302407 \r\nz\r\n\" style=\"fill:#1f77b4;\"/>\r\n   </g>\r\n   <g id=\"patch_343\">\r\n    <path clip-path=\"url(#pfe2bae2009)\" d=\"M 33.2875 109.127335 \r\nL 129.686171 109.127335 \r\nL 129.686171 108.952262 \r\nL 33.2875 108.952262 \r\nz\r\n\" style=\"fill:#1f77b4;\"/>\r\n   </g>\r\n   <g id=\"patch_344\">\r\n    <path clip-path=\"url(#pfe2bae2009)\" d=\"M 33.2875 108.77719 \r\nL 203.838995 108.77719 \r\nL 203.838995 108.602117 \r\nL 33.2875 108.602117 \r\nz\r\n\" style=\"fill:#1f77b4;\"/>\r\n   </g>\r\n   <g id=\"patch_345\">\r\n    <path clip-path=\"url(#pfe2bae2009)\" d=\"M 33.2875 108.427045 \r\nL 48.118065 108.427045 \r\nL 48.118065 108.251972 \r\nL 33.2875 108.251972 \r\nz\r\n\" style=\"fill:#1f77b4;\"/>\r\n   </g>\r\n   <g id=\"patch_346\">\r\n    <path clip-path=\"url(#pfe2bae2009)\" d=\"M 33.2875 108.0769 \r\nL 107.440324 108.0769 \r\nL 107.440324 107.901827 \r\nL 33.2875 107.901827 \r\nz\r\n\" style=\"fill:#1f77b4;\"/>\r\n   </g>\r\n   <g id=\"patch_347\">\r\n    <path clip-path=\"url(#pfe2bae2009)\" d=\"M 33.2875 107.726755 \r\nL 70.363912 107.726755 \r\nL 70.363912 107.551683 \r\nL 33.2875 107.551683 \r\nz\r\n\" style=\"fill:#1f77b4;\"/>\r\n   </g>\r\n   <g id=\"patch_348\">\r\n    <path clip-path=\"url(#pfe2bae2009)\" d=\"M 33.2875 107.37661 \r\nL 100.025042 107.37661 \r\nL 100.025042 107.201538 \r\nL 33.2875 107.201538 \r\nz\r\n\" style=\"fill:#1f77b4;\"/>\r\n   </g>\r\n   <g id=\"patch_349\">\r\n    <path clip-path=\"url(#pfe2bae2009)\" d=\"M 33.2875 107.026465 \r\nL 151.932018 107.026465 \r\nL 151.932018 106.851393 \r\nL 33.2875 106.851393 \r\nz\r\n\" style=\"fill:#1f77b4;\"/>\r\n   </g>\r\n   <g id=\"patch_350\">\r\n    <path clip-path=\"url(#pfe2bae2009)\" d=\"M 33.2875 106.67632 \r\nL 62.94863 106.67632 \r\nL 62.94863 106.501248 \r\nL 33.2875 106.501248 \r\nz\r\n\" style=\"fill:#1f77b4;\"/>\r\n   </g>\r\n   <g id=\"patch_351\">\r\n    <path clip-path=\"url(#pfe2bae2009)\" d=\"M 33.2875 106.326175 \r\nL 85.194477 106.326175 \r\nL 85.194477 106.151103 \r\nL 33.2875 106.151103 \r\nz\r\n\" style=\"fill:#1f77b4;\"/>\r\n   </g>\r\n   <g id=\"patch_352\">\r\n    <path clip-path=\"url(#pfe2bae2009)\" d=\"M 33.2875 105.97603 \r\nL 144.516736 105.97603 \r\nL 144.516736 105.800958 \r\nL 33.2875 105.800958 \r\nz\r\n\" style=\"fill:#1f77b4;\"/>\r\n   </g>\r\n   <g id=\"patch_353\">\r\n    <path clip-path=\"url(#pfe2bae2009)\" d=\"M 33.2875 105.625885 \r\nL 122.270889 105.625885 \r\nL 122.270889 105.450813 \r\nL 33.2875 105.450813 \r\nz\r\n\" style=\"fill:#1f77b4;\"/>\r\n   </g>\r\n   <g id=\"patch_354\">\r\n    <path clip-path=\"url(#pfe2bae2009)\" d=\"M 33.2875 105.27574 \r\nL 151.932018 105.27574 \r\nL 151.932018 105.100668 \r\nL 33.2875 105.100668 \r\nz\r\n\" style=\"fill:#1f77b4;\"/>\r\n   </g>\r\n   <g id=\"patch_355\">\r\n    <path clip-path=\"url(#pfe2bae2009)\" d=\"M 33.2875 104.925596 \r\nL 62.94863 104.925596 \r\nL 62.94863 104.750523 \r\nL 33.2875 104.750523 \r\nz\r\n\" style=\"fill:#1f77b4;\"/>\r\n   </g>\r\n   <g id=\"patch_356\">\r\n    <path clip-path=\"url(#pfe2bae2009)\" d=\"M 33.2875 104.575451 \r\nL 151.932018 104.575451 \r\nL 151.932018 104.400378 \r\nL 33.2875 104.400378 \r\nz\r\n\" style=\"fill:#1f77b4;\"/>\r\n   </g>\r\n   <g id=\"patch_357\">\r\n    <path clip-path=\"url(#pfe2bae2009)\" d=\"M 33.2875 104.225306 \r\nL 33.2875 104.225306 \r\nL 33.2875 104.050233 \r\nL 33.2875 104.050233 \r\nz\r\n\" style=\"fill:#1f77b4;\"/>\r\n   </g>\r\n   <g id=\"patch_358\">\r\n    <path clip-path=\"url(#pfe2bae2009)\" d=\"M 33.2875 103.875161 \r\nL 85.194477 103.875161 \r\nL 85.194477 103.700088 \r\nL 33.2875 103.700088 \r\nz\r\n\" style=\"fill:#1f77b4;\"/>\r\n   </g>\r\n   <g id=\"patch_359\">\r\n    <path clip-path=\"url(#pfe2bae2009)\" d=\"M 33.2875 103.525016 \r\nL 85.194477 103.525016 \r\nL 85.194477 103.349943 \r\nL 33.2875 103.349943 \r\nz\r\n\" style=\"fill:#1f77b4;\"/>\r\n   </g>\r\n   <g id=\"patch_360\">\r\n    <path clip-path=\"url(#pfe2bae2009)\" d=\"M 33.2875 103.174871 \r\nL 40.702782 103.174871 \r\nL 40.702782 102.999798 \r\nL 33.2875 102.999798 \r\nz\r\n\" style=\"fill:#1f77b4;\"/>\r\n   </g>\r\n   <g id=\"patch_361\">\r\n    <path clip-path=\"url(#pfe2bae2009)\" d=\"M 33.2875 102.824726 \r\nL 70.363912 102.824726 \r\nL 70.363912 102.649654 \r\nL 33.2875 102.649654 \r\nz\r\n\" style=\"fill:#1f77b4;\"/>\r\n   </g>\r\n   <g id=\"patch_362\">\r\n    <path clip-path=\"url(#pfe2bae2009)\" d=\"M 33.2875 102.474581 \r\nL 70.363912 102.474581 \r\nL 70.363912 102.299509 \r\nL 33.2875 102.299509 \r\nz\r\n\" style=\"fill:#1f77b4;\"/>\r\n   </g>\r\n   <g id=\"patch_363\">\r\n    <path clip-path=\"url(#pfe2bae2009)\" d=\"M 33.2875 102.124436 \r\nL 40.702782 102.124436 \r\nL 40.702782 101.949364 \r\nL 33.2875 101.949364 \r\nz\r\n\" style=\"fill:#1f77b4;\"/>\r\n   </g>\r\n   <g id=\"patch_364\">\r\n    <path clip-path=\"url(#pfe2bae2009)\" d=\"M 33.2875 101.774291 \r\nL 40.702782 101.774291 \r\nL 40.702782 101.599219 \r\nL 33.2875 101.599219 \r\nz\r\n\" style=\"fill:#1f77b4;\"/>\r\n   </g>\r\n   <g id=\"patch_365\">\r\n    <path clip-path=\"url(#pfe2bae2009)\" d=\"M 33.2875 101.424146 \r\nL 77.779194 101.424146 \r\nL 77.779194 101.249074 \r\nL 33.2875 101.249074 \r\nz\r\n\" style=\"fill:#1f77b4;\"/>\r\n   </g>\r\n   <g id=\"patch_366\">\r\n    <path clip-path=\"url(#pfe2bae2009)\" d=\"M 33.2875 101.074001 \r\nL 48.118065 101.074001 \r\nL 48.118065 100.898929 \r\nL 33.2875 100.898929 \r\nz\r\n\" style=\"fill:#1f77b4;\"/>\r\n   </g>\r\n   <g id=\"patch_367\">\r\n    <path clip-path=\"url(#pfe2bae2009)\" d=\"M 33.2875 100.723856 \r\nL 40.702782 100.723856 \r\nL 40.702782 100.548784 \r\nL 33.2875 100.548784 \r\nz\r\n\" style=\"fill:#1f77b4;\"/>\r\n   </g>\r\n   <g id=\"patch_368\">\r\n    <path clip-path=\"url(#pfe2bae2009)\" d=\"M 33.2875 100.373712 \r\nL 144.516736 100.373712 \r\nL 144.516736 100.198639 \r\nL 33.2875 100.198639 \r\nz\r\n\" style=\"fill:#1f77b4;\"/>\r\n   </g>\r\n   <g id=\"patch_369\">\r\n    <path clip-path=\"url(#pfe2bae2009)\" d=\"M 33.2875 100.023567 \r\nL 62.94863 100.023567 \r\nL 62.94863 99.848494 \r\nL 33.2875 99.848494 \r\nz\r\n\" style=\"fill:#1f77b4;\"/>\r\n   </g>\r\n   <g id=\"patch_370\">\r\n    <path clip-path=\"url(#pfe2bae2009)\" d=\"M 33.2875 99.673422 \r\nL 70.363912 99.673422 \r\nL 70.363912 99.498349 \r\nL 33.2875 99.498349 \r\nz\r\n\" style=\"fill:#1f77b4;\"/>\r\n   </g>\r\n   <g id=\"patch_371\">\r\n    <path clip-path=\"url(#pfe2bae2009)\" d=\"M 33.2875 99.323277 \r\nL 122.270889 99.323277 \r\nL 122.270889 99.148204 \r\nL 33.2875 99.148204 \r\nz\r\n\" style=\"fill:#1f77b4;\"/>\r\n   </g>\r\n   <g id=\"patch_372\">\r\n    <path clip-path=\"url(#pfe2bae2009)\" d=\"M 33.2875 98.973132 \r\nL 92.609759 98.973132 \r\nL 92.609759 98.798059 \r\nL 33.2875 98.798059 \r\nz\r\n\" style=\"fill:#1f77b4;\"/>\r\n   </g>\r\n   <g id=\"patch_373\">\r\n    <path clip-path=\"url(#pfe2bae2009)\" d=\"M 33.2875 98.622987 \r\nL 129.686171 98.622987 \r\nL 129.686171 98.447914 \r\nL 33.2875 98.447914 \r\nz\r\n\" style=\"fill:#1f77b4;\"/>\r\n   </g>\r\n   <g id=\"patch_374\">\r\n    <path clip-path=\"url(#pfe2bae2009)\" d=\"M 33.2875 98.272842 \r\nL 92.609759 98.272842 \r\nL 92.609759 98.097769 \r\nL 33.2875 98.097769 \r\nz\r\n\" style=\"fill:#1f77b4;\"/>\r\n   </g>\r\n   <g id=\"patch_375\">\r\n    <path clip-path=\"url(#pfe2bae2009)\" d=\"M 33.2875 97.922697 \r\nL 174.177865 97.922697 \r\nL 174.177865 97.747625 \r\nL 33.2875 97.747625 \r\nz\r\n\" style=\"fill:#1f77b4;\"/>\r\n   </g>\r\n   <g id=\"patch_376\">\r\n    <path clip-path=\"url(#pfe2bae2009)\" d=\"M 33.2875 97.572552 \r\nL 48.118065 97.572552 \r\nL 48.118065 97.39748 \r\nL 33.2875 97.39748 \r\nz\r\n\" style=\"fill:#1f77b4;\"/>\r\n   </g>\r\n   <g id=\"patch_377\">\r\n    <path clip-path=\"url(#pfe2bae2009)\" d=\"M 33.2875 97.222407 \r\nL 107.440324 97.222407 \r\nL 107.440324 97.047335 \r\nL 33.2875 97.047335 \r\nz\r\n\" style=\"fill:#1f77b4;\"/>\r\n   </g>\r\n   <g id=\"patch_378\">\r\n    <path clip-path=\"url(#pfe2bae2009)\" d=\"M 33.2875 96.872262 \r\nL 33.2875 96.872262 \r\nL 33.2875 96.69719 \r\nL 33.2875 96.69719 \r\nz\r\n\" style=\"fill:#1f77b4;\"/>\r\n   </g>\r\n   <g id=\"patch_379\">\r\n    <path clip-path=\"url(#pfe2bae2009)\" d=\"M 33.2875 96.522117 \r\nL 100.025042 96.522117 \r\nL 100.025042 96.347045 \r\nL 33.2875 96.347045 \r\nz\r\n\" style=\"fill:#1f77b4;\"/>\r\n   </g>\r\n   <g id=\"patch_380\">\r\n    <path clip-path=\"url(#pfe2bae2009)\" d=\"M 33.2875 96.171972 \r\nL 77.779194 96.171972 \r\nL 77.779194 95.9969 \r\nL 33.2875 95.9969 \r\nz\r\n\" style=\"fill:#1f77b4;\"/>\r\n   </g>\r\n   <g id=\"patch_381\">\r\n    <path clip-path=\"url(#pfe2bae2009)\" d=\"M 33.2875 95.821827 \r\nL 33.2875 95.821827 \r\nL 33.2875 95.646755 \r\nL 33.2875 95.646755 \r\nz\r\n\" style=\"fill:#1f77b4;\"/>\r\n   </g>\r\n   <g id=\"patch_382\">\r\n    <path clip-path=\"url(#pfe2bae2009)\" d=\"M 33.2875 95.471683 \r\nL 137.101453 95.471683 \r\nL 137.101453 95.29661 \r\nL 33.2875 95.29661 \r\nz\r\n\" style=\"fill:#1f77b4;\"/>\r\n   </g>\r\n   <g id=\"patch_383\">\r\n    <path clip-path=\"url(#pfe2bae2009)\" d=\"M 33.2875 95.121538 \r\nL 40.702782 95.121538 \r\nL 40.702782 94.946465 \r\nL 33.2875 94.946465 \r\nz\r\n\" style=\"fill:#1f77b4;\"/>\r\n   </g>\r\n   <g id=\"patch_384\">\r\n    <path clip-path=\"url(#pfe2bae2009)\" d=\"M 33.2875 94.771393 \r\nL 100.025042 94.771393 \r\nL 100.025042 94.59632 \r\nL 33.2875 94.59632 \r\nz\r\n\" style=\"fill:#1f77b4;\"/>\r\n   </g>\r\n   <g id=\"patch_385\">\r\n    <path clip-path=\"url(#pfe2bae2009)\" d=\"M 33.2875 94.421248 \r\nL 48.118065 94.421248 \r\nL 48.118065 94.246175 \r\nL 33.2875 94.246175 \r\nz\r\n\" style=\"fill:#1f77b4;\"/>\r\n   </g>\r\n   <g id=\"patch_386\">\r\n    <path clip-path=\"url(#pfe2bae2009)\" d=\"M 33.2875 94.071103 \r\nL 40.702782 94.071103 \r\nL 40.702782 93.89603 \r\nL 33.2875 93.89603 \r\nz\r\n\" style=\"fill:#1f77b4;\"/>\r\n   </g>\r\n   <g id=\"patch_387\">\r\n    <path clip-path=\"url(#pfe2bae2009)\" d=\"M 33.2875 93.720958 \r\nL 40.702782 93.720958 \r\nL 40.702782 93.545885 \r\nL 33.2875 93.545885 \r\nz\r\n\" style=\"fill:#1f77b4;\"/>\r\n   </g>\r\n   <g id=\"patch_388\">\r\n    <path clip-path=\"url(#pfe2bae2009)\" d=\"M 33.2875 93.370813 \r\nL 107.440324 93.370813 \r\nL 107.440324 93.19574 \r\nL 33.2875 93.19574 \r\nz\r\n\" style=\"fill:#1f77b4;\"/>\r\n   </g>\r\n   <g id=\"patch_389\">\r\n    <path clip-path=\"url(#pfe2bae2009)\" d=\"M 33.2875 93.020668 \r\nL 166.762583 93.020668 \r\nL 166.762583 92.845596 \r\nL 33.2875 92.845596 \r\nz\r\n\" style=\"fill:#1f77b4;\"/>\r\n   </g>\r\n   <g id=\"patch_390\">\r\n    <path clip-path=\"url(#pfe2bae2009)\" d=\"M 33.2875 92.670523 \r\nL 107.440324 92.670523 \r\nL 107.440324 92.495451 \r\nL 33.2875 92.495451 \r\nz\r\n\" style=\"fill:#1f77b4;\"/>\r\n   </g>\r\n   <g id=\"patch_391\">\r\n    <path clip-path=\"url(#pfe2bae2009)\" d=\"M 33.2875 92.320378 \r\nL 70.363912 92.320378 \r\nL 70.363912 92.145306 \r\nL 33.2875 92.145306 \r\nz\r\n\" style=\"fill:#1f77b4;\"/>\r\n   </g>\r\n   <g id=\"patch_392\">\r\n    <path clip-path=\"url(#pfe2bae2009)\" d=\"M 33.2875 91.970233 \r\nL 85.194477 91.970233 \r\nL 85.194477 91.795161 \r\nL 33.2875 91.795161 \r\nz\r\n\" style=\"fill:#1f77b4;\"/>\r\n   </g>\r\n   <g id=\"patch_393\">\r\n    <path clip-path=\"url(#pfe2bae2009)\" d=\"M 33.2875 91.620088 \r\nL 100.025042 91.620088 \r\nL 100.025042 91.445016 \r\nL 33.2875 91.445016 \r\nz\r\n\" style=\"fill:#1f77b4;\"/>\r\n   </g>\r\n   <g id=\"patch_394\">\r\n    <path clip-path=\"url(#pfe2bae2009)\" d=\"M 33.2875 91.269943 \r\nL 129.686171 91.269943 \r\nL 129.686171 91.094871 \r\nL 33.2875 91.094871 \r\nz\r\n\" style=\"fill:#1f77b4;\"/>\r\n   </g>\r\n   <g id=\"patch_395\">\r\n    <path clip-path=\"url(#pfe2bae2009)\" d=\"M 33.2875 90.919798 \r\nL 100.025042 90.919798 \r\nL 100.025042 90.744726 \r\nL 33.2875 90.744726 \r\nz\r\n\" style=\"fill:#1f77b4;\"/>\r\n   </g>\r\n   <g id=\"patch_396\">\r\n    <path clip-path=\"url(#pfe2bae2009)\" d=\"M 33.2875 90.569654 \r\nL 70.363912 90.569654 \r\nL 70.363912 90.394581 \r\nL 33.2875 90.394581 \r\nz\r\n\" style=\"fill:#1f77b4;\"/>\r\n   </g>\r\n   <g id=\"patch_397\">\r\n    <path clip-path=\"url(#pfe2bae2009)\" d=\"M 33.2875 90.219509 \r\nL 114.855606 90.219509 \r\nL 114.855606 90.044436 \r\nL 33.2875 90.044436 \r\nz\r\n\" style=\"fill:#1f77b4;\"/>\r\n   </g>\r\n   <g id=\"patch_398\">\r\n    <path clip-path=\"url(#pfe2bae2009)\" d=\"M 33.2875 89.869364 \r\nL 114.855606 89.869364 \r\nL 114.855606 89.694291 \r\nL 33.2875 89.694291 \r\nz\r\n\" style=\"fill:#1f77b4;\"/>\r\n   </g>\r\n   <g id=\"patch_399\">\r\n    <path clip-path=\"url(#pfe2bae2009)\" d=\"M 33.2875 89.519219 \r\nL 100.025042 89.519219 \r\nL 100.025042 89.344146 \r\nL 33.2875 89.344146 \r\nz\r\n\" style=\"fill:#1f77b4;\"/>\r\n   </g>\r\n   <g id=\"patch_400\">\r\n    <path clip-path=\"url(#pfe2bae2009)\" d=\"M 33.2875 89.169074 \r\nL 203.838995 89.169074 \r\nL 203.838995 88.994001 \r\nL 33.2875 88.994001 \r\nz\r\n\" style=\"fill:#1f77b4;\"/>\r\n   </g>\r\n   <g id=\"patch_401\">\r\n    <path clip-path=\"url(#pfe2bae2009)\" d=\"M 33.2875 88.818929 \r\nL 55.533347 88.818929 \r\nL 55.533347 88.643856 \r\nL 33.2875 88.643856 \r\nz\r\n\" style=\"fill:#1f77b4;\"/>\r\n   </g>\r\n   <g id=\"patch_402\">\r\n    <path clip-path=\"url(#pfe2bae2009)\" d=\"M 33.2875 88.468784 \r\nL 159.347301 88.468784 \r\nL 159.347301 88.293712 \r\nL 33.2875 88.293712 \r\nz\r\n\" style=\"fill:#1f77b4;\"/>\r\n   </g>\r\n   <g id=\"patch_403\">\r\n    <path clip-path=\"url(#pfe2bae2009)\" d=\"M 33.2875 88.118639 \r\nL 55.533347 88.118639 \r\nL 55.533347 87.943567 \r\nL 33.2875 87.943567 \r\nz\r\n\" style=\"fill:#1f77b4;\"/>\r\n   </g>\r\n   <g id=\"patch_404\">\r\n    <path clip-path=\"url(#pfe2bae2009)\" d=\"M 33.2875 87.768494 \r\nL 85.194477 87.768494 \r\nL 85.194477 87.593422 \r\nL 33.2875 87.593422 \r\nz\r\n\" style=\"fill:#1f77b4;\"/>\r\n   </g>\r\n   <g id=\"patch_405\">\r\n    <path clip-path=\"url(#pfe2bae2009)\" d=\"M 33.2875 87.418349 \r\nL 77.779194 87.418349 \r\nL 77.779194 87.243277 \r\nL 33.2875 87.243277 \r\nz\r\n\" style=\"fill:#1f77b4;\"/>\r\n   </g>\r\n   <g id=\"patch_406\">\r\n    <path clip-path=\"url(#pfe2bae2009)\" d=\"M 33.2875 87.068204 \r\nL 55.533347 87.068204 \r\nL 55.533347 86.893132 \r\nL 33.2875 86.893132 \r\nz\r\n\" style=\"fill:#1f77b4;\"/>\r\n   </g>\r\n   <g id=\"patch_407\">\r\n    <path clip-path=\"url(#pfe2bae2009)\" d=\"M 33.2875 86.718059 \r\nL 48.118065 86.718059 \r\nL 48.118065 86.542987 \r\nL 33.2875 86.542987 \r\nz\r\n\" style=\"fill:#1f77b4;\"/>\r\n   </g>\r\n   <g id=\"patch_408\">\r\n    <path clip-path=\"url(#pfe2bae2009)\" d=\"M 33.2875 86.367914 \r\nL 70.363912 86.367914 \r\nL 70.363912 86.192842 \r\nL 33.2875 86.192842 \r\nz\r\n\" style=\"fill:#1f77b4;\"/>\r\n   </g>\r\n   <g id=\"patch_409\">\r\n    <path clip-path=\"url(#pfe2bae2009)\" d=\"M 33.2875 86.017769 \r\nL 62.94863 86.017769 \r\nL 62.94863 85.842697 \r\nL 33.2875 85.842697 \r\nz\r\n\" style=\"fill:#1f77b4;\"/>\r\n   </g>\r\n   <g id=\"patch_410\">\r\n    <path clip-path=\"url(#pfe2bae2009)\" d=\"M 33.2875 85.667625 \r\nL 62.94863 85.667625 \r\nL 62.94863 85.492552 \r\nL 33.2875 85.492552 \r\nz\r\n\" style=\"fill:#1f77b4;\"/>\r\n   </g>\r\n   <g id=\"patch_411\">\r\n    <path clip-path=\"url(#pfe2bae2009)\" d=\"M 33.2875 85.31748 \r\nL 77.779194 85.31748 \r\nL 77.779194 85.142407 \r\nL 33.2875 85.142407 \r\nz\r\n\" style=\"fill:#1f77b4;\"/>\r\n   </g>\r\n   <g id=\"patch_412\">\r\n    <path clip-path=\"url(#pfe2bae2009)\" d=\"M 33.2875 84.967335 \r\nL 62.94863 84.967335 \r\nL 62.94863 84.792262 \r\nL 33.2875 84.792262 \r\nz\r\n\" style=\"fill:#1f77b4;\"/>\r\n   </g>\r\n   <g id=\"patch_413\">\r\n    <path clip-path=\"url(#pfe2bae2009)\" d=\"M 33.2875 84.61719 \r\nL 62.94863 84.61719 \r\nL 62.94863 84.442117 \r\nL 33.2875 84.442117 \r\nz\r\n\" style=\"fill:#1f77b4;\"/>\r\n   </g>\r\n   <g id=\"patch_414\">\r\n    <path clip-path=\"url(#pfe2bae2009)\" d=\"M 33.2875 84.267045 \r\nL 114.855606 84.267045 \r\nL 114.855606 84.091972 \r\nL 33.2875 84.091972 \r\nz\r\n\" style=\"fill:#1f77b4;\"/>\r\n   </g>\r\n   <g id=\"patch_415\">\r\n    <path clip-path=\"url(#pfe2bae2009)\" d=\"M 33.2875 83.9169 \r\nL 70.363912 83.9169 \r\nL 70.363912 83.741827 \r\nL 33.2875 83.741827 \r\nz\r\n\" style=\"fill:#1f77b4;\"/>\r\n   </g>\r\n   <g id=\"patch_416\">\r\n    <path clip-path=\"url(#pfe2bae2009)\" d=\"M 33.2875 83.566755 \r\nL 92.609759 83.566755 \r\nL 92.609759 83.391683 \r\nL 33.2875 83.391683 \r\nz\r\n\" style=\"fill:#1f77b4;\"/>\r\n   </g>\r\n   <g id=\"patch_417\">\r\n    <path clip-path=\"url(#pfe2bae2009)\" d=\"M 33.2875 83.21661 \r\nL 100.025042 83.21661 \r\nL 100.025042 83.041538 \r\nL 33.2875 83.041538 \r\nz\r\n\" style=\"fill:#1f77b4;\"/>\r\n   </g>\r\n   <g id=\"patch_418\">\r\n    <path clip-path=\"url(#pfe2bae2009)\" d=\"M 33.2875 82.866465 \r\nL 107.440324 82.866465 \r\nL 107.440324 82.691393 \r\nL 33.2875 82.691393 \r\nz\r\n\" style=\"fill:#1f77b4;\"/>\r\n   </g>\r\n   <g id=\"patch_419\">\r\n    <path clip-path=\"url(#pfe2bae2009)\" d=\"M 33.2875 82.51632 \r\nL 100.025042 82.51632 \r\nL 100.025042 82.341248 \r\nL 33.2875 82.341248 \r\nz\r\n\" style=\"fill:#1f77b4;\"/>\r\n   </g>\r\n   <g id=\"patch_420\">\r\n    <path clip-path=\"url(#pfe2bae2009)\" d=\"M 33.2875 82.166175 \r\nL 129.686171 82.166175 \r\nL 129.686171 81.991103 \r\nL 33.2875 81.991103 \r\nz\r\n\" style=\"fill:#1f77b4;\"/>\r\n   </g>\r\n   <g id=\"patch_421\">\r\n    <path clip-path=\"url(#pfe2bae2009)\" d=\"M 33.2875 81.81603 \r\nL 70.363912 81.81603 \r\nL 70.363912 81.640958 \r\nL 33.2875 81.640958 \r\nz\r\n\" style=\"fill:#1f77b4;\"/>\r\n   </g>\r\n   <g id=\"patch_422\">\r\n    <path clip-path=\"url(#pfe2bae2009)\" d=\"M 33.2875 81.465885 \r\nL 70.363912 81.465885 \r\nL 70.363912 81.290813 \r\nL 33.2875 81.290813 \r\nz\r\n\" style=\"fill:#1f77b4;\"/>\r\n   </g>\r\n   <g id=\"patch_423\">\r\n    <path clip-path=\"url(#pfe2bae2009)\" d=\"M 33.2875 81.11574 \r\nL 144.516736 81.11574 \r\nL 144.516736 80.940668 \r\nL 33.2875 80.940668 \r\nz\r\n\" style=\"fill:#1f77b4;\"/>\r\n   </g>\r\n   <g id=\"patch_424\">\r\n    <path clip-path=\"url(#pfe2bae2009)\" d=\"M 33.2875 80.765596 \r\nL 40.702782 80.765596 \r\nL 40.702782 80.590523 \r\nL 33.2875 80.590523 \r\nz\r\n\" style=\"fill:#1f77b4;\"/>\r\n   </g>\r\n   <g id=\"patch_425\">\r\n    <path clip-path=\"url(#pfe2bae2009)\" d=\"M 33.2875 80.415451 \r\nL 40.702782 80.415451 \r\nL 40.702782 80.240378 \r\nL 33.2875 80.240378 \r\nz\r\n\" style=\"fill:#1f77b4;\"/>\r\n   </g>\r\n   <g id=\"patch_426\">\r\n    <path clip-path=\"url(#pfe2bae2009)\" d=\"M 33.2875 80.065306 \r\nL 107.440324 80.065306 \r\nL 107.440324 79.890233 \r\nL 33.2875 79.890233 \r\nz\r\n\" style=\"fill:#1f77b4;\"/>\r\n   </g>\r\n   <g id=\"patch_427\">\r\n    <path clip-path=\"url(#pfe2bae2009)\" d=\"M 33.2875 79.715161 \r\nL 62.94863 79.715161 \r\nL 62.94863 79.540088 \r\nL 33.2875 79.540088 \r\nz\r\n\" style=\"fill:#1f77b4;\"/>\r\n   </g>\r\n   <g id=\"patch_428\">\r\n    <path clip-path=\"url(#pfe2bae2009)\" d=\"M 33.2875 79.365016 \r\nL 144.516736 79.365016 \r\nL 144.516736 79.189943 \r\nL 33.2875 79.189943 \r\nz\r\n\" style=\"fill:#1f77b4;\"/>\r\n   </g>\r\n   <g id=\"patch_429\">\r\n    <path clip-path=\"url(#pfe2bae2009)\" d=\"M 33.2875 79.014871 \r\nL 77.779194 79.014871 \r\nL 77.779194 78.839798 \r\nL 33.2875 78.839798 \r\nz\r\n\" style=\"fill:#1f77b4;\"/>\r\n   </g>\r\n   <g id=\"patch_430\">\r\n    <path clip-path=\"url(#pfe2bae2009)\" d=\"M 33.2875 78.664726 \r\nL 55.533347 78.664726 \r\nL 55.533347 78.489654 \r\nL 33.2875 78.489654 \r\nz\r\n\" style=\"fill:#1f77b4;\"/>\r\n   </g>\r\n   <g id=\"patch_431\">\r\n    <path clip-path=\"url(#pfe2bae2009)\" d=\"M 33.2875 78.314581 \r\nL 62.94863 78.314581 \r\nL 62.94863 78.139509 \r\nL 33.2875 78.139509 \r\nz\r\n\" style=\"fill:#1f77b4;\"/>\r\n   </g>\r\n   <g id=\"patch_432\">\r\n    <path clip-path=\"url(#pfe2bae2009)\" d=\"M 33.2875 77.964436 \r\nL 129.686171 77.964436 \r\nL 129.686171 77.789364 \r\nL 33.2875 77.789364 \r\nz\r\n\" style=\"fill:#1f77b4;\"/>\r\n   </g>\r\n   <g id=\"patch_433\">\r\n    <path clip-path=\"url(#pfe2bae2009)\" d=\"M 33.2875 77.614291 \r\nL 77.779194 77.614291 \r\nL 77.779194 77.439219 \r\nL 33.2875 77.439219 \r\nz\r\n\" style=\"fill:#1f77b4;\"/>\r\n   </g>\r\n   <g id=\"patch_434\">\r\n    <path clip-path=\"url(#pfe2bae2009)\" d=\"M 33.2875 77.264146 \r\nL 48.118065 77.264146 \r\nL 48.118065 77.089074 \r\nL 33.2875 77.089074 \r\nz\r\n\" style=\"fill:#1f77b4;\"/>\r\n   </g>\r\n   <g id=\"patch_435\">\r\n    <path clip-path=\"url(#pfe2bae2009)\" d=\"M 33.2875 76.914001 \r\nL 114.855606 76.914001 \r\nL 114.855606 76.738929 \r\nL 33.2875 76.738929 \r\nz\r\n\" style=\"fill:#1f77b4;\"/>\r\n   </g>\r\n   <g id=\"patch_436\">\r\n    <path clip-path=\"url(#pfe2bae2009)\" d=\"M 33.2875 76.563856 \r\nL 92.609759 76.563856 \r\nL 92.609759 76.388784 \r\nL 33.2875 76.388784 \r\nz\r\n\" style=\"fill:#1f77b4;\"/>\r\n   </g>\r\n   <g id=\"patch_437\">\r\n    <path clip-path=\"url(#pfe2bae2009)\" d=\"M 33.2875 76.213712 \r\nL 70.363912 76.213712 \r\nL 70.363912 76.038639 \r\nL 33.2875 76.038639 \r\nz\r\n\" style=\"fill:#1f77b4;\"/>\r\n   </g>\r\n   <g id=\"patch_438\">\r\n    <path clip-path=\"url(#pfe2bae2009)\" d=\"M 33.2875 75.863567 \r\nL 85.194477 75.863567 \r\nL 85.194477 75.688494 \r\nL 33.2875 75.688494 \r\nz\r\n\" style=\"fill:#1f77b4;\"/>\r\n   </g>\r\n   <g id=\"patch_439\">\r\n    <path clip-path=\"url(#pfe2bae2009)\" d=\"M 33.2875 75.513422 \r\nL 85.194477 75.513422 \r\nL 85.194477 75.338349 \r\nL 33.2875 75.338349 \r\nz\r\n\" style=\"fill:#1f77b4;\"/>\r\n   </g>\r\n   <g id=\"patch_440\">\r\n    <path clip-path=\"url(#pfe2bae2009)\" d=\"M 33.2875 75.163277 \r\nL 85.194477 75.163277 \r\nL 85.194477 74.988204 \r\nL 33.2875 74.988204 \r\nz\r\n\" style=\"fill:#1f77b4;\"/>\r\n   </g>\r\n   <g id=\"patch_441\">\r\n    <path clip-path=\"url(#pfe2bae2009)\" d=\"M 33.2875 74.813132 \r\nL 107.440324 74.813132 \r\nL 107.440324 74.638059 \r\nL 33.2875 74.638059 \r\nz\r\n\" style=\"fill:#1f77b4;\"/>\r\n   </g>\r\n   <g id=\"patch_442\">\r\n    <path clip-path=\"url(#pfe2bae2009)\" d=\"M 33.2875 74.462987 \r\nL 70.363912 74.462987 \r\nL 70.363912 74.287914 \r\nL 33.2875 74.287914 \r\nz\r\n\" style=\"fill:#1f77b4;\"/>\r\n   </g>\r\n   <g id=\"patch_443\">\r\n    <path clip-path=\"url(#pfe2bae2009)\" d=\"M 33.2875 74.112842 \r\nL 62.94863 74.112842 \r\nL 62.94863 73.937769 \r\nL 33.2875 73.937769 \r\nz\r\n\" style=\"fill:#1f77b4;\"/>\r\n   </g>\r\n   <g id=\"patch_444\">\r\n    <path clip-path=\"url(#pfe2bae2009)\" d=\"M 33.2875 73.762697 \r\nL 92.609759 73.762697 \r\nL 92.609759 73.587625 \r\nL 33.2875 73.587625 \r\nz\r\n\" style=\"fill:#1f77b4;\"/>\r\n   </g>\r\n   <g id=\"patch_445\">\r\n    <path clip-path=\"url(#pfe2bae2009)\" d=\"M 33.2875 73.412552 \r\nL 62.94863 73.412552 \r\nL 62.94863 73.23748 \r\nL 33.2875 73.23748 \r\nz\r\n\" style=\"fill:#1f77b4;\"/>\r\n   </g>\r\n   <g id=\"patch_446\">\r\n    <path clip-path=\"url(#pfe2bae2009)\" d=\"M 33.2875 73.062407 \r\nL 85.194477 73.062407 \r\nL 85.194477 72.887335 \r\nL 33.2875 72.887335 \r\nz\r\n\" style=\"fill:#1f77b4;\"/>\r\n   </g>\r\n   <g id=\"patch_447\">\r\n    <path clip-path=\"url(#pfe2bae2009)\" d=\"M 33.2875 72.712262 \r\nL 85.194477 72.712262 \r\nL 85.194477 72.53719 \r\nL 33.2875 72.53719 \r\nz\r\n\" style=\"fill:#1f77b4;\"/>\r\n   </g>\r\n   <g id=\"patch_448\">\r\n    <path clip-path=\"url(#pfe2bae2009)\" d=\"M 33.2875 72.362117 \r\nL 48.118065 72.362117 \r\nL 48.118065 72.187045 \r\nL 33.2875 72.187045 \r\nz\r\n\" style=\"fill:#1f77b4;\"/>\r\n   </g>\r\n   <g id=\"patch_449\">\r\n    <path clip-path=\"url(#pfe2bae2009)\" d=\"M 33.2875 72.011972 \r\nL 129.686171 72.011972 \r\nL 129.686171 71.8369 \r\nL 33.2875 71.8369 \r\nz\r\n\" style=\"fill:#1f77b4;\"/>\r\n   </g>\r\n   <g id=\"patch_450\">\r\n    <path clip-path=\"url(#pfe2bae2009)\" d=\"M 33.2875 71.661827 \r\nL 159.347301 71.661827 \r\nL 159.347301 71.486755 \r\nL 33.2875 71.486755 \r\nz\r\n\" style=\"fill:#1f77b4;\"/>\r\n   </g>\r\n   <g id=\"patch_451\">\r\n    <path clip-path=\"url(#pfe2bae2009)\" d=\"M 33.2875 71.311683 \r\nL 48.118065 71.311683 \r\nL 48.118065 71.13661 \r\nL 33.2875 71.13661 \r\nz\r\n\" style=\"fill:#1f77b4;\"/>\r\n   </g>\r\n   <g id=\"patch_452\">\r\n    <path clip-path=\"url(#pfe2bae2009)\" d=\"M 33.2875 70.961538 \r\nL 70.363912 70.961538 \r\nL 70.363912 70.786465 \r\nL 33.2875 70.786465 \r\nz\r\n\" style=\"fill:#1f77b4;\"/>\r\n   </g>\r\n   <g id=\"patch_453\">\r\n    <path clip-path=\"url(#pfe2bae2009)\" d=\"M 33.2875 70.611393 \r\nL 137.101453 70.611393 \r\nL 137.101453 70.43632 \r\nL 33.2875 70.43632 \r\nz\r\n\" style=\"fill:#1f77b4;\"/>\r\n   </g>\r\n   <g id=\"patch_454\">\r\n    <path clip-path=\"url(#pfe2bae2009)\" d=\"M 33.2875 70.261248 \r\nL 77.779194 70.261248 \r\nL 77.779194 70.086175 \r\nL 33.2875 70.086175 \r\nz\r\n\" style=\"fill:#1f77b4;\"/>\r\n   </g>\r\n   <g id=\"patch_455\">\r\n    <path clip-path=\"url(#pfe2bae2009)\" d=\"M 33.2875 69.911103 \r\nL 70.363912 69.911103 \r\nL 70.363912 69.73603 \r\nL 33.2875 69.73603 \r\nz\r\n\" style=\"fill:#1f77b4;\"/>\r\n   </g>\r\n   <g id=\"patch_456\">\r\n    <path clip-path=\"url(#pfe2bae2009)\" d=\"M 33.2875 69.560958 \r\nL 70.363912 69.560958 \r\nL 70.363912 69.385885 \r\nL 33.2875 69.385885 \r\nz\r\n\" style=\"fill:#1f77b4;\"/>\r\n   </g>\r\n   <g id=\"patch_457\">\r\n    <path clip-path=\"url(#pfe2bae2009)\" d=\"M 33.2875 69.210813 \r\nL 107.440324 69.210813 \r\nL 107.440324 69.03574 \r\nL 33.2875 69.03574 \r\nz\r\n\" style=\"fill:#1f77b4;\"/>\r\n   </g>\r\n   <g id=\"patch_458\">\r\n    <path clip-path=\"url(#pfe2bae2009)\" d=\"M 33.2875 68.860668 \r\nL 48.118065 68.860668 \r\nL 48.118065 68.685596 \r\nL 33.2875 68.685596 \r\nz\r\n\" style=\"fill:#1f77b4;\"/>\r\n   </g>\r\n   <g id=\"patch_459\">\r\n    <path clip-path=\"url(#pfe2bae2009)\" d=\"M 33.2875 68.510523 \r\nL 40.702782 68.510523 \r\nL 40.702782 68.335451 \r\nL 33.2875 68.335451 \r\nz\r\n\" style=\"fill:#1f77b4;\"/>\r\n   </g>\r\n   <g id=\"patch_460\">\r\n    <path clip-path=\"url(#pfe2bae2009)\" d=\"M 33.2875 68.160378 \r\nL 55.533347 68.160378 \r\nL 55.533347 67.985306 \r\nL 33.2875 67.985306 \r\nz\r\n\" style=\"fill:#1f77b4;\"/>\r\n   </g>\r\n   <g id=\"patch_461\">\r\n    <path clip-path=\"url(#pfe2bae2009)\" d=\"M 33.2875 67.810233 \r\nL 137.101453 67.810233 \r\nL 137.101453 67.635161 \r\nL 33.2875 67.635161 \r\nz\r\n\" style=\"fill:#1f77b4;\"/>\r\n   </g>\r\n   <g id=\"patch_462\">\r\n    <path clip-path=\"url(#pfe2bae2009)\" d=\"M 33.2875 67.460088 \r\nL 85.194477 67.460088 \r\nL 85.194477 67.285016 \r\nL 33.2875 67.285016 \r\nz\r\n\" style=\"fill:#1f77b4;\"/>\r\n   </g>\r\n   <g id=\"patch_463\">\r\n    <path clip-path=\"url(#pfe2bae2009)\" d=\"M 33.2875 67.109943 \r\nL 85.194477 67.109943 \r\nL 85.194477 66.934871 \r\nL 33.2875 66.934871 \r\nz\r\n\" style=\"fill:#1f77b4;\"/>\r\n   </g>\r\n   <g id=\"patch_464\">\r\n    <path clip-path=\"url(#pfe2bae2009)\" d=\"M 33.2875 66.759798 \r\nL 62.94863 66.759798 \r\nL 62.94863 66.584726 \r\nL 33.2875 66.584726 \r\nz\r\n\" style=\"fill:#1f77b4;\"/>\r\n   </g>\r\n   <g id=\"patch_465\">\r\n    <path clip-path=\"url(#pfe2bae2009)\" d=\"M 33.2875 66.409654 \r\nL 92.609759 66.409654 \r\nL 92.609759 66.234581 \r\nL 33.2875 66.234581 \r\nz\r\n\" style=\"fill:#1f77b4;\"/>\r\n   </g>\r\n   <g id=\"patch_466\">\r\n    <path clip-path=\"url(#pfe2bae2009)\" d=\"M 33.2875 66.059509 \r\nL 33.2875 66.059509 \r\nL 33.2875 65.884436 \r\nL 33.2875 65.884436 \r\nz\r\n\" style=\"fill:#1f77b4;\"/>\r\n   </g>\r\n   <g id=\"patch_467\">\r\n    <path clip-path=\"url(#pfe2bae2009)\" d=\"M 33.2875 65.709364 \r\nL 129.686171 65.709364 \r\nL 129.686171 65.534291 \r\nL 33.2875 65.534291 \r\nz\r\n\" style=\"fill:#1f77b4;\"/>\r\n   </g>\r\n   <g id=\"patch_468\">\r\n    <path clip-path=\"url(#pfe2bae2009)\" d=\"M 33.2875 65.359219 \r\nL 151.932018 65.359219 \r\nL 151.932018 65.184146 \r\nL 33.2875 65.184146 \r\nz\r\n\" style=\"fill:#1f77b4;\"/>\r\n   </g>\r\n   <g id=\"patch_469\">\r\n    <path clip-path=\"url(#pfe2bae2009)\" d=\"M 33.2875 65.009074 \r\nL 70.363912 65.009074 \r\nL 70.363912 64.834001 \r\nL 33.2875 64.834001 \r\nz\r\n\" style=\"fill:#1f77b4;\"/>\r\n   </g>\r\n   <g id=\"patch_470\">\r\n    <path clip-path=\"url(#pfe2bae2009)\" d=\"M 33.2875 64.658929 \r\nL 70.363912 64.658929 \r\nL 70.363912 64.483856 \r\nL 33.2875 64.483856 \r\nz\r\n\" style=\"fill:#1f77b4;\"/>\r\n   </g>\r\n   <g id=\"patch_471\">\r\n    <path clip-path=\"url(#pfe2bae2009)\" d=\"M 33.2875 64.308784 \r\nL 62.94863 64.308784 \r\nL 62.94863 64.133712 \r\nL 33.2875 64.133712 \r\nz\r\n\" style=\"fill:#1f77b4;\"/>\r\n   </g>\r\n   <g id=\"patch_472\">\r\n    <path clip-path=\"url(#pfe2bae2009)\" d=\"M 33.2875 63.958639 \r\nL 55.533347 63.958639 \r\nL 55.533347 63.783567 \r\nL 33.2875 63.783567 \r\nz\r\n\" style=\"fill:#1f77b4;\"/>\r\n   </g>\r\n   <g id=\"patch_473\">\r\n    <path clip-path=\"url(#pfe2bae2009)\" d=\"M 33.2875 63.608494 \r\nL 33.2875 63.608494 \r\nL 33.2875 63.433422 \r\nL 33.2875 63.433422 \r\nz\r\n\" style=\"fill:#1f77b4;\"/>\r\n   </g>\r\n   <g id=\"patch_474\">\r\n    <path clip-path=\"url(#pfe2bae2009)\" d=\"M 33.2875 63.258349 \r\nL 114.855606 63.258349 \r\nL 114.855606 63.083277 \r\nL 33.2875 63.083277 \r\nz\r\n\" style=\"fill:#1f77b4;\"/>\r\n   </g>\r\n   <g id=\"patch_475\">\r\n    <path clip-path=\"url(#pfe2bae2009)\" d=\"M 33.2875 62.908204 \r\nL 114.855606 62.908204 \r\nL 114.855606 62.733132 \r\nL 33.2875 62.733132 \r\nz\r\n\" style=\"fill:#1f77b4;\"/>\r\n   </g>\r\n   <g id=\"patch_476\">\r\n    <path clip-path=\"url(#pfe2bae2009)\" d=\"M 33.2875 62.558059 \r\nL 107.440324 62.558059 \r\nL 107.440324 62.382987 \r\nL 33.2875 62.382987 \r\nz\r\n\" style=\"fill:#1f77b4;\"/>\r\n   </g>\r\n   <g id=\"patch_477\">\r\n    <path clip-path=\"url(#pfe2bae2009)\" d=\"M 33.2875 62.207914 \r\nL 77.779194 62.207914 \r\nL 77.779194 62.032842 \r\nL 33.2875 62.032842 \r\nz\r\n\" style=\"fill:#1f77b4;\"/>\r\n   </g>\r\n   <g id=\"patch_478\">\r\n    <path clip-path=\"url(#pfe2bae2009)\" d=\"M 33.2875 61.857769 \r\nL 55.533347 61.857769 \r\nL 55.533347 61.682697 \r\nL 33.2875 61.682697 \r\nz\r\n\" style=\"fill:#1f77b4;\"/>\r\n   </g>\r\n   <g id=\"patch_479\">\r\n    <path clip-path=\"url(#pfe2bae2009)\" d=\"M 33.2875 61.507625 \r\nL 92.609759 61.507625 \r\nL 92.609759 61.332552 \r\nL 33.2875 61.332552 \r\nz\r\n\" style=\"fill:#1f77b4;\"/>\r\n   </g>\r\n   <g id=\"patch_480\">\r\n    <path clip-path=\"url(#pfe2bae2009)\" d=\"M 33.2875 61.15748 \r\nL 77.779194 61.15748 \r\nL 77.779194 60.982407 \r\nL 33.2875 60.982407 \r\nz\r\n\" style=\"fill:#1f77b4;\"/>\r\n   </g>\r\n   <g id=\"patch_481\">\r\n    <path clip-path=\"url(#pfe2bae2009)\" d=\"M 33.2875 60.807335 \r\nL 70.363912 60.807335 \r\nL 70.363912 60.632262 \r\nL 33.2875 60.632262 \r\nz\r\n\" style=\"fill:#1f77b4;\"/>\r\n   </g>\r\n   <g id=\"patch_482\">\r\n    <path clip-path=\"url(#pfe2bae2009)\" d=\"M 33.2875 60.45719 \r\nL 70.363912 60.45719 \r\nL 70.363912 60.282117 \r\nL 33.2875 60.282117 \r\nz\r\n\" style=\"fill:#1f77b4;\"/>\r\n   </g>\r\n   <g id=\"patch_483\">\r\n    <path clip-path=\"url(#pfe2bae2009)\" d=\"M 33.2875 60.107045 \r\nL 129.686171 60.107045 \r\nL 129.686171 59.931972 \r\nL 33.2875 59.931972 \r\nz\r\n\" style=\"fill:#1f77b4;\"/>\r\n   </g>\r\n   <g id=\"patch_484\">\r\n    <path clip-path=\"url(#pfe2bae2009)\" d=\"M 33.2875 59.7569 \r\nL 85.194477 59.7569 \r\nL 85.194477 59.581827 \r\nL 33.2875 59.581827 \r\nz\r\n\" style=\"fill:#1f77b4;\"/>\r\n   </g>\r\n   <g id=\"patch_485\">\r\n    <path clip-path=\"url(#pfe2bae2009)\" d=\"M 33.2875 59.406755 \r\nL 107.440324 59.406755 \r\nL 107.440324 59.231683 \r\nL 33.2875 59.231683 \r\nz\r\n\" style=\"fill:#1f77b4;\"/>\r\n   </g>\r\n   <g id=\"patch_486\">\r\n    <path clip-path=\"url(#pfe2bae2009)\" d=\"M 33.2875 59.05661 \r\nL 55.533347 59.05661 \r\nL 55.533347 58.881538 \r\nL 33.2875 58.881538 \r\nz\r\n\" style=\"fill:#1f77b4;\"/>\r\n   </g>\r\n   <g id=\"patch_487\">\r\n    <path clip-path=\"url(#pfe2bae2009)\" d=\"M 33.2875 58.706465 \r\nL 62.94863 58.706465 \r\nL 62.94863 58.531393 \r\nL 33.2875 58.531393 \r\nz\r\n\" style=\"fill:#1f77b4;\"/>\r\n   </g>\r\n   <g id=\"patch_488\">\r\n    <path clip-path=\"url(#pfe2bae2009)\" d=\"M 33.2875 58.35632 \r\nL 62.94863 58.35632 \r\nL 62.94863 58.181248 \r\nL 33.2875 58.181248 \r\nz\r\n\" style=\"fill:#1f77b4;\"/>\r\n   </g>\r\n   <g id=\"patch_489\">\r\n    <path clip-path=\"url(#pfe2bae2009)\" d=\"M 33.2875 58.006175 \r\nL 107.440324 58.006175 \r\nL 107.440324 57.831103 \r\nL 33.2875 57.831103 \r\nz\r\n\" style=\"fill:#1f77b4;\"/>\r\n   </g>\r\n   <g id=\"patch_490\">\r\n    <path clip-path=\"url(#pfe2bae2009)\" d=\"M 33.2875 57.65603 \r\nL 92.609759 57.65603 \r\nL 92.609759 57.480958 \r\nL 33.2875 57.480958 \r\nz\r\n\" style=\"fill:#1f77b4;\"/>\r\n   </g>\r\n   <g id=\"patch_491\">\r\n    <path clip-path=\"url(#pfe2bae2009)\" d=\"M 33.2875 57.305885 \r\nL 122.270889 57.305885 \r\nL 122.270889 57.130813 \r\nL 33.2875 57.130813 \r\nz\r\n\" style=\"fill:#1f77b4;\"/>\r\n   </g>\r\n   <g id=\"patch_492\">\r\n    <path clip-path=\"url(#pfe2bae2009)\" d=\"M 33.2875 56.95574 \r\nL 70.363912 56.95574 \r\nL 70.363912 56.780668 \r\nL 33.2875 56.780668 \r\nz\r\n\" style=\"fill:#1f77b4;\"/>\r\n   </g>\r\n   <g id=\"patch_493\">\r\n    <path clip-path=\"url(#pfe2bae2009)\" d=\"M 33.2875 56.605596 \r\nL 85.194477 56.605596 \r\nL 85.194477 56.430523 \r\nL 33.2875 56.430523 \r\nz\r\n\" style=\"fill:#1f77b4;\"/>\r\n   </g>\r\n   <g id=\"patch_494\">\r\n    <path clip-path=\"url(#pfe2bae2009)\" d=\"M 33.2875 56.255451 \r\nL 92.609759 56.255451 \r\nL 92.609759 56.080378 \r\nL 33.2875 56.080378 \r\nz\r\n\" style=\"fill:#1f77b4;\"/>\r\n   </g>\r\n   <g id=\"patch_495\">\r\n    <path clip-path=\"url(#pfe2bae2009)\" d=\"M 33.2875 55.905306 \r\nL 40.702782 55.905306 \r\nL 40.702782 55.730233 \r\nL 33.2875 55.730233 \r\nz\r\n\" style=\"fill:#1f77b4;\"/>\r\n   </g>\r\n   <g id=\"patch_496\">\r\n    <path clip-path=\"url(#pfe2bae2009)\" d=\"M 33.2875 55.555161 \r\nL 62.94863 55.555161 \r\nL 62.94863 55.380088 \r\nL 33.2875 55.380088 \r\nz\r\n\" style=\"fill:#1f77b4;\"/>\r\n   </g>\r\n   <g id=\"patch_497\">\r\n    <path clip-path=\"url(#pfe2bae2009)\" d=\"M 33.2875 55.205016 \r\nL 55.533347 55.205016 \r\nL 55.533347 55.029943 \r\nL 33.2875 55.029943 \r\nz\r\n\" style=\"fill:#1f77b4;\"/>\r\n   </g>\r\n   <g id=\"patch_498\">\r\n    <path clip-path=\"url(#pfe2bae2009)\" d=\"M 33.2875 54.854871 \r\nL 40.702782 54.854871 \r\nL 40.702782 54.679798 \r\nL 33.2875 54.679798 \r\nz\r\n\" style=\"fill:#1f77b4;\"/>\r\n   </g>\r\n   <g id=\"patch_499\">\r\n    <path clip-path=\"url(#pfe2bae2009)\" d=\"M 33.2875 54.504726 \r\nL 77.779194 54.504726 \r\nL 77.779194 54.329654 \r\nL 33.2875 54.329654 \r\nz\r\n\" style=\"fill:#1f77b4;\"/>\r\n   </g>\r\n   <g id=\"patch_500\">\r\n    <path clip-path=\"url(#pfe2bae2009)\" d=\"M 33.2875 54.154581 \r\nL 92.609759 54.154581 \r\nL 92.609759 53.979509 \r\nL 33.2875 53.979509 \r\nz\r\n\" style=\"fill:#1f77b4;\"/>\r\n   </g>\r\n   <g id=\"patch_501\">\r\n    <path clip-path=\"url(#pfe2bae2009)\" d=\"M 33.2875 53.804436 \r\nL 107.440324 53.804436 \r\nL 107.440324 53.629364 \r\nL 33.2875 53.629364 \r\nz\r\n\" style=\"fill:#1f77b4;\"/>\r\n   </g>\r\n   <g id=\"patch_502\">\r\n    <path clip-path=\"url(#pfe2bae2009)\" d=\"M 33.2875 53.454291 \r\nL 144.516736 53.454291 \r\nL 144.516736 53.279219 \r\nL 33.2875 53.279219 \r\nz\r\n\" style=\"fill:#1f77b4;\"/>\r\n   </g>\r\n   <g id=\"patch_503\">\r\n    <path clip-path=\"url(#pfe2bae2009)\" d=\"M 33.2875 53.104146 \r\nL 100.025042 53.104146 \r\nL 100.025042 52.929074 \r\nL 33.2875 52.929074 \r\nz\r\n\" style=\"fill:#1f77b4;\"/>\r\n   </g>\r\n   <g id=\"patch_504\">\r\n    <path clip-path=\"url(#pfe2bae2009)\" d=\"M 33.2875 52.754001 \r\nL 129.686171 52.754001 \r\nL 129.686171 52.578929 \r\nL 33.2875 52.578929 \r\nz\r\n\" style=\"fill:#1f77b4;\"/>\r\n   </g>\r\n   <g id=\"patch_505\">\r\n    <path clip-path=\"url(#pfe2bae2009)\" d=\"M 33.2875 52.403856 \r\nL 77.779194 52.403856 \r\nL 77.779194 52.228784 \r\nL 33.2875 52.228784 \r\nz\r\n\" style=\"fill:#1f77b4;\"/>\r\n   </g>\r\n   <g id=\"patch_506\">\r\n    <path clip-path=\"url(#pfe2bae2009)\" d=\"M 33.2875 52.053712 \r\nL 114.855606 52.053712 \r\nL 114.855606 51.878639 \r\nL 33.2875 51.878639 \r\nz\r\n\" style=\"fill:#1f77b4;\"/>\r\n   </g>\r\n   <g id=\"patch_507\">\r\n    <path clip-path=\"url(#pfe2bae2009)\" d=\"M 33.2875 51.703567 \r\nL 33.2875 51.703567 \r\nL 33.2875 51.528494 \r\nL 33.2875 51.528494 \r\nz\r\n\" style=\"fill:#1f77b4;\"/>\r\n   </g>\r\n   <g id=\"patch_508\">\r\n    <path clip-path=\"url(#pfe2bae2009)\" d=\"M 33.2875 51.353422 \r\nL 144.516736 51.353422 \r\nL 144.516736 51.178349 \r\nL 33.2875 51.178349 \r\nz\r\n\" style=\"fill:#1f77b4;\"/>\r\n   </g>\r\n   <g id=\"patch_509\">\r\n    <path clip-path=\"url(#pfe2bae2009)\" d=\"M 33.2875 51.003277 \r\nL 92.609759 51.003277 \r\nL 92.609759 50.828204 \r\nL 33.2875 50.828204 \r\nz\r\n\" style=\"fill:#1f77b4;\"/>\r\n   </g>\r\n   <g id=\"patch_510\">\r\n    <path clip-path=\"url(#pfe2bae2009)\" d=\"M 33.2875 50.653132 \r\nL 77.779194 50.653132 \r\nL 77.779194 50.478059 \r\nL 33.2875 50.478059 \r\nz\r\n\" style=\"fill:#1f77b4;\"/>\r\n   </g>\r\n   <g id=\"patch_511\">\r\n    <path clip-path=\"url(#pfe2bae2009)\" d=\"M 33.2875 50.302987 \r\nL 92.609759 50.302987 \r\nL 92.609759 50.127914 \r\nL 33.2875 50.127914 \r\nz\r\n\" style=\"fill:#1f77b4;\"/>\r\n   </g>\r\n   <g id=\"patch_512\">\r\n    <path clip-path=\"url(#pfe2bae2009)\" d=\"M 33.2875 49.952842 \r\nL 85.194477 49.952842 \r\nL 85.194477 49.777769 \r\nL 33.2875 49.777769 \r\nz\r\n\" style=\"fill:#1f77b4;\"/>\r\n   </g>\r\n   <g id=\"patch_513\">\r\n    <path clip-path=\"url(#pfe2bae2009)\" d=\"M 33.2875 49.602697 \r\nL 151.932018 49.602697 \r\nL 151.932018 49.427625 \r\nL 33.2875 49.427625 \r\nz\r\n\" style=\"fill:#1f77b4;\"/>\r\n   </g>\r\n   <g id=\"patch_514\">\r\n    <path clip-path=\"url(#pfe2bae2009)\" d=\"M 33.2875 49.252552 \r\nL 77.779194 49.252552 \r\nL 77.779194 49.07748 \r\nL 33.2875 49.07748 \r\nz\r\n\" style=\"fill:#1f77b4;\"/>\r\n   </g>\r\n   <g id=\"patch_515\">\r\n    <path clip-path=\"url(#pfe2bae2009)\" d=\"M 33.2875 48.902407 \r\nL 100.025042 48.902407 \r\nL 100.025042 48.727335 \r\nL 33.2875 48.727335 \r\nz\r\n\" style=\"fill:#1f77b4;\"/>\r\n   </g>\r\n   <g id=\"patch_516\">\r\n    <path clip-path=\"url(#pfe2bae2009)\" d=\"M 33.2875 48.552262 \r\nL 62.94863 48.552262 \r\nL 62.94863 48.37719 \r\nL 33.2875 48.37719 \r\nz\r\n\" style=\"fill:#1f77b4;\"/>\r\n   </g>\r\n   <g id=\"patch_517\">\r\n    <path clip-path=\"url(#pfe2bae2009)\" d=\"M 33.2875 48.202117 \r\nL 107.440324 48.202117 \r\nL 107.440324 48.027045 \r\nL 33.2875 48.027045 \r\nz\r\n\" style=\"fill:#1f77b4;\"/>\r\n   </g>\r\n   <g id=\"patch_518\">\r\n    <path clip-path=\"url(#pfe2bae2009)\" d=\"M 33.2875 47.851972 \r\nL 122.270889 47.851972 \r\nL 122.270889 47.6769 \r\nL 33.2875 47.6769 \r\nz\r\n\" style=\"fill:#1f77b4;\"/>\r\n   </g>\r\n   <g id=\"patch_519\">\r\n    <path clip-path=\"url(#pfe2bae2009)\" d=\"M 33.2875 47.501827 \r\nL 48.118065 47.501827 \r\nL 48.118065 47.326755 \r\nL 33.2875 47.326755 \r\nz\r\n\" style=\"fill:#1f77b4;\"/>\r\n   </g>\r\n   <g id=\"patch_520\">\r\n    <path clip-path=\"url(#pfe2bae2009)\" d=\"M 33.2875 47.151683 \r\nL 122.270889 47.151683 \r\nL 122.270889 46.97661 \r\nL 33.2875 46.97661 \r\nz\r\n\" style=\"fill:#1f77b4;\"/>\r\n   </g>\r\n   <g id=\"patch_521\">\r\n    <path clip-path=\"url(#pfe2bae2009)\" d=\"M 33.2875 46.801538 \r\nL 48.118065 46.801538 \r\nL 48.118065 46.626465 \r\nL 33.2875 46.626465 \r\nz\r\n\" style=\"fill:#1f77b4;\"/>\r\n   </g>\r\n   <g id=\"patch_522\">\r\n    <path clip-path=\"url(#pfe2bae2009)\" d=\"M 33.2875 46.451393 \r\nL 70.363912 46.451393 \r\nL 70.363912 46.27632 \r\nL 33.2875 46.27632 \r\nz\r\n\" style=\"fill:#1f77b4;\"/>\r\n   </g>\r\n   <g id=\"patch_523\">\r\n    <path clip-path=\"url(#pfe2bae2009)\" d=\"M 33.2875 46.101248 \r\nL 92.609759 46.101248 \r\nL 92.609759 45.926175 \r\nL 33.2875 45.926175 \r\nz\r\n\" style=\"fill:#1f77b4;\"/>\r\n   </g>\r\n   <g id=\"patch_524\">\r\n    <path clip-path=\"url(#pfe2bae2009)\" d=\"M 33.2875 45.751103 \r\nL 70.363912 45.751103 \r\nL 70.363912 45.57603 \r\nL 33.2875 45.57603 \r\nz\r\n\" style=\"fill:#1f77b4;\"/>\r\n   </g>\r\n   <g id=\"patch_525\">\r\n    <path clip-path=\"url(#pfe2bae2009)\" d=\"M 33.2875 45.400958 \r\nL 122.270889 45.400958 \r\nL 122.270889 45.225885 \r\nL 33.2875 45.225885 \r\nz\r\n\" style=\"fill:#1f77b4;\"/>\r\n   </g>\r\n   <g id=\"patch_526\">\r\n    <path clip-path=\"url(#pfe2bae2009)\" d=\"M 33.2875 45.050813 \r\nL 107.440324 45.050813 \r\nL 107.440324 44.87574 \r\nL 33.2875 44.87574 \r\nz\r\n\" style=\"fill:#1f77b4;\"/>\r\n   </g>\r\n   <g id=\"patch_527\">\r\n    <path clip-path=\"url(#pfe2bae2009)\" d=\"M 33.2875 44.700668 \r\nL 114.855606 44.700668 \r\nL 114.855606 44.525596 \r\nL 33.2875 44.525596 \r\nz\r\n\" style=\"fill:#1f77b4;\"/>\r\n   </g>\r\n   <g id=\"patch_528\">\r\n    <path clip-path=\"url(#pfe2bae2009)\" d=\"M 33.2875 44.350523 \r\nL 70.363912 44.350523 \r\nL 70.363912 44.175451 \r\nL 33.2875 44.175451 \r\nz\r\n\" style=\"fill:#1f77b4;\"/>\r\n   </g>\r\n   <g id=\"patch_529\">\r\n    <path clip-path=\"url(#pfe2bae2009)\" d=\"M 33.2875 44.000378 \r\nL 48.118065 44.000378 \r\nL 48.118065 43.825306 \r\nL 33.2875 43.825306 \r\nz\r\n\" style=\"fill:#1f77b4;\"/>\r\n   </g>\r\n   <g id=\"patch_530\">\r\n    <path clip-path=\"url(#pfe2bae2009)\" d=\"M 33.2875 43.650233 \r\nL 92.609759 43.650233 \r\nL 92.609759 43.475161 \r\nL 33.2875 43.475161 \r\nz\r\n\" style=\"fill:#1f77b4;\"/>\r\n   </g>\r\n   <g id=\"patch_531\">\r\n    <path clip-path=\"url(#pfe2bae2009)\" d=\"M 33.2875 43.300088 \r\nL 85.194477 43.300088 \r\nL 85.194477 43.125016 \r\nL 33.2875 43.125016 \r\nz\r\n\" style=\"fill:#1f77b4;\"/>\r\n   </g>\r\n   <g id=\"patch_532\">\r\n    <path clip-path=\"url(#pfe2bae2009)\" d=\"M 33.2875 42.949943 \r\nL 77.779194 42.949943 \r\nL 77.779194 42.774871 \r\nL 33.2875 42.774871 \r\nz\r\n\" style=\"fill:#1f77b4;\"/>\r\n   </g>\r\n   <g id=\"patch_533\">\r\n    <path clip-path=\"url(#pfe2bae2009)\" d=\"M 33.2875 42.599798 \r\nL 100.025042 42.599798 \r\nL 100.025042 42.424726 \r\nL 33.2875 42.424726 \r\nz\r\n\" style=\"fill:#1f77b4;\"/>\r\n   </g>\r\n   <g id=\"patch_534\">\r\n    <path clip-path=\"url(#pfe2bae2009)\" d=\"M 33.2875 42.249654 \r\nL 62.94863 42.249654 \r\nL 62.94863 42.074581 \r\nL 33.2875 42.074581 \r\nz\r\n\" style=\"fill:#1f77b4;\"/>\r\n   </g>\r\n   <g id=\"patch_535\">\r\n    <path clip-path=\"url(#pfe2bae2009)\" d=\"M 33.2875 41.899509 \r\nL 114.855606 41.899509 \r\nL 114.855606 41.724436 \r\nL 33.2875 41.724436 \r\nz\r\n\" style=\"fill:#1f77b4;\"/>\r\n   </g>\r\n   <g id=\"patch_536\">\r\n    <path clip-path=\"url(#pfe2bae2009)\" d=\"M 33.2875 41.549364 \r\nL 70.363912 41.549364 \r\nL 70.363912 41.374291 \r\nL 33.2875 41.374291 \r\nz\r\n\" style=\"fill:#1f77b4;\"/>\r\n   </g>\r\n   <g id=\"patch_537\">\r\n    <path clip-path=\"url(#pfe2bae2009)\" d=\"M 33.2875 41.199219 \r\nL 85.194477 41.199219 \r\nL 85.194477 41.024146 \r\nL 33.2875 41.024146 \r\nz\r\n\" style=\"fill:#1f77b4;\"/>\r\n   </g>\r\n   <g id=\"patch_538\">\r\n    <path clip-path=\"url(#pfe2bae2009)\" d=\"M 33.2875 40.849074 \r\nL 92.609759 40.849074 \r\nL 92.609759 40.674001 \r\nL 33.2875 40.674001 \r\nz\r\n\" style=\"fill:#1f77b4;\"/>\r\n   </g>\r\n   <g id=\"patch_539\">\r\n    <path clip-path=\"url(#pfe2bae2009)\" d=\"M 33.2875 40.498929 \r\nL 55.533347 40.498929 \r\nL 55.533347 40.323856 \r\nL 33.2875 40.323856 \r\nz\r\n\" style=\"fill:#1f77b4;\"/>\r\n   </g>\r\n   <g id=\"patch_540\">\r\n    <path clip-path=\"url(#pfe2bae2009)\" d=\"M 33.2875 40.148784 \r\nL 85.194477 40.148784 \r\nL 85.194477 39.973712 \r\nL 33.2875 39.973712 \r\nz\r\n\" style=\"fill:#1f77b4;\"/>\r\n   </g>\r\n   <g id=\"patch_541\">\r\n    <path clip-path=\"url(#pfe2bae2009)\" d=\"M 33.2875 39.798639 \r\nL 77.779194 39.798639 \r\nL 77.779194 39.623567 \r\nL 33.2875 39.623567 \r\nz\r\n\" style=\"fill:#1f77b4;\"/>\r\n   </g>\r\n   <g id=\"patch_542\">\r\n    <path clip-path=\"url(#pfe2bae2009)\" d=\"M 33.2875 39.448494 \r\nL 77.779194 39.448494 \r\nL 77.779194 39.273422 \r\nL 33.2875 39.273422 \r\nz\r\n\" style=\"fill:#1f77b4;\"/>\r\n   </g>\r\n   <g id=\"patch_543\">\r\n    <path clip-path=\"url(#pfe2bae2009)\" d=\"M 33.2875 39.098349 \r\nL 40.702782 39.098349 \r\nL 40.702782 38.923277 \r\nL 33.2875 38.923277 \r\nz\r\n\" style=\"fill:#1f77b4;\"/>\r\n   </g>\r\n   <g id=\"patch_544\">\r\n    <path clip-path=\"url(#pfe2bae2009)\" d=\"M 33.2875 38.748204 \r\nL 107.440324 38.748204 \r\nL 107.440324 38.573132 \r\nL 33.2875 38.573132 \r\nz\r\n\" style=\"fill:#1f77b4;\"/>\r\n   </g>\r\n   <g id=\"patch_545\">\r\n    <path clip-path=\"url(#pfe2bae2009)\" d=\"M 33.2875 38.398059 \r\nL 70.363912 38.398059 \r\nL 70.363912 38.222987 \r\nL 33.2875 38.222987 \r\nz\r\n\" style=\"fill:#1f77b4;\"/>\r\n   </g>\r\n   <g id=\"patch_546\">\r\n    <path clip-path=\"url(#pfe2bae2009)\" d=\"M 33.2875 38.047914 \r\nL 85.194477 38.047914 \r\nL 85.194477 37.872842 \r\nL 33.2875 37.872842 \r\nz\r\n\" style=\"fill:#1f77b4;\"/>\r\n   </g>\r\n   <g id=\"patch_547\">\r\n    <path clip-path=\"url(#pfe2bae2009)\" d=\"M 33.2875 37.697769 \r\nL 40.702782 37.697769 \r\nL 40.702782 37.522697 \r\nL 33.2875 37.522697 \r\nz\r\n\" style=\"fill:#1f77b4;\"/>\r\n   </g>\r\n   <g id=\"patch_548\">\r\n    <path clip-path=\"url(#pfe2bae2009)\" d=\"M 33.2875 37.347625 \r\nL 85.194477 37.347625 \r\nL 85.194477 37.172552 \r\nL 33.2875 37.172552 \r\nz\r\n\" style=\"fill:#1f77b4;\"/>\r\n   </g>\r\n   <g id=\"patch_549\">\r\n    <path clip-path=\"url(#pfe2bae2009)\" d=\"M 33.2875 36.99748 \r\nL 70.363912 36.99748 \r\nL 70.363912 36.822407 \r\nL 33.2875 36.822407 \r\nz\r\n\" style=\"fill:#1f77b4;\"/>\r\n   </g>\r\n   <g id=\"patch_550\">\r\n    <path clip-path=\"url(#pfe2bae2009)\" d=\"M 33.2875 36.647335 \r\nL 114.855606 36.647335 \r\nL 114.855606 36.472262 \r\nL 33.2875 36.472262 \r\nz\r\n\" style=\"fill:#1f77b4;\"/>\r\n   </g>\r\n   <g id=\"patch_551\">\r\n    <path clip-path=\"url(#pfe2bae2009)\" d=\"M 33.2875 36.29719 \r\nL 55.533347 36.29719 \r\nL 55.533347 36.122117 \r\nL 33.2875 36.122117 \r\nz\r\n\" style=\"fill:#1f77b4;\"/>\r\n   </g>\r\n   <g id=\"patch_552\">\r\n    <path clip-path=\"url(#pfe2bae2009)\" d=\"M 33.2875 35.947045 \r\nL 40.702782 35.947045 \r\nL 40.702782 35.771972 \r\nL 33.2875 35.771972 \r\nz\r\n\" style=\"fill:#1f77b4;\"/>\r\n   </g>\r\n   <g id=\"patch_553\">\r\n    <path clip-path=\"url(#pfe2bae2009)\" d=\"M 33.2875 35.5969 \r\nL 55.533347 35.5969 \r\nL 55.533347 35.421827 \r\nL 33.2875 35.421827 \r\nz\r\n\" style=\"fill:#1f77b4;\"/>\r\n   </g>\r\n   <g id=\"patch_554\">\r\n    <path clip-path=\"url(#pfe2bae2009)\" d=\"M 33.2875 35.246755 \r\nL 48.118065 35.246755 \r\nL 48.118065 35.071683 \r\nL 33.2875 35.071683 \r\nz\r\n\" style=\"fill:#1f77b4;\"/>\r\n   </g>\r\n   <g id=\"patch_555\">\r\n    <path clip-path=\"url(#pfe2bae2009)\" d=\"M 33.2875 34.89661 \r\nL 100.025042 34.89661 \r\nL 100.025042 34.721538 \r\nL 33.2875 34.721538 \r\nz\r\n\" style=\"fill:#1f77b4;\"/>\r\n   </g>\r\n   <g id=\"patch_556\">\r\n    <path clip-path=\"url(#pfe2bae2009)\" d=\"M 33.2875 34.546465 \r\nL 70.363912 34.546465 \r\nL 70.363912 34.371393 \r\nL 33.2875 34.371393 \r\nz\r\n\" style=\"fill:#1f77b4;\"/>\r\n   </g>\r\n   <g id=\"patch_557\">\r\n    <path clip-path=\"url(#pfe2bae2009)\" d=\"M 33.2875 34.19632 \r\nL 40.702782 34.19632 \r\nL 40.702782 34.021248 \r\nL 33.2875 34.021248 \r\nz\r\n\" style=\"fill:#1f77b4;\"/>\r\n   </g>\r\n   <g id=\"patch_558\">\r\n    <path clip-path=\"url(#pfe2bae2009)\" d=\"M 33.2875 33.846175 \r\nL 62.94863 33.846175 \r\nL 62.94863 33.671103 \r\nL 33.2875 33.671103 \r\nz\r\n\" style=\"fill:#1f77b4;\"/>\r\n   </g>\r\n   <g id=\"patch_559\">\r\n    <path clip-path=\"url(#pfe2bae2009)\" d=\"M 33.2875 33.49603 \r\nL 70.363912 33.49603 \r\nL 70.363912 33.320958 \r\nL 33.2875 33.320958 \r\nz\r\n\" style=\"fill:#1f77b4;\"/>\r\n   </g>\r\n   <g id=\"patch_560\">\r\n    <path clip-path=\"url(#pfe2bae2009)\" d=\"M 33.2875 33.145885 \r\nL 77.779194 33.145885 \r\nL 77.779194 32.970813 \r\nL 33.2875 32.970813 \r\nz\r\n\" style=\"fill:#1f77b4;\"/>\r\n   </g>\r\n   <g id=\"patch_561\">\r\n    <path clip-path=\"url(#pfe2bae2009)\" d=\"M 33.2875 32.79574 \r\nL 92.609759 32.79574 \r\nL 92.609759 32.620668 \r\nL 33.2875 32.620668 \r\nz\r\n\" style=\"fill:#1f77b4;\"/>\r\n   </g>\r\n   <g id=\"patch_562\">\r\n    <path clip-path=\"url(#pfe2bae2009)\" d=\"M 33.2875 32.445596 \r\nL 114.855606 32.445596 \r\nL 114.855606 32.270523 \r\nL 33.2875 32.270523 \r\nz\r\n\" style=\"fill:#1f77b4;\"/>\r\n   </g>\r\n   <g id=\"patch_563\">\r\n    <path clip-path=\"url(#pfe2bae2009)\" d=\"M 33.2875 32.095451 \r\nL 107.440324 32.095451 \r\nL 107.440324 31.920378 \r\nL 33.2875 31.920378 \r\nz\r\n\" style=\"fill:#1f77b4;\"/>\r\n   </g>\r\n   <g id=\"patch_564\">\r\n    <path clip-path=\"url(#pfe2bae2009)\" d=\"M 33.2875 31.745306 \r\nL 122.270889 31.745306 \r\nL 122.270889 31.570233 \r\nL 33.2875 31.570233 \r\nz\r\n\" style=\"fill:#1f77b4;\"/>\r\n   </g>\r\n   <g id=\"patch_565\">\r\n    <path clip-path=\"url(#pfe2bae2009)\" d=\"M 33.2875 31.395161 \r\nL 55.533347 31.395161 \r\nL 55.533347 31.220088 \r\nL 33.2875 31.220088 \r\nz\r\n\" style=\"fill:#1f77b4;\"/>\r\n   </g>\r\n   <g id=\"patch_566\">\r\n    <path clip-path=\"url(#pfe2bae2009)\" d=\"M 33.2875 31.045016 \r\nL 100.025042 31.045016 \r\nL 100.025042 30.869943 \r\nL 33.2875 30.869943 \r\nz\r\n\" style=\"fill:#1f77b4;\"/>\r\n   </g>\r\n   <g id=\"patch_567\">\r\n    <path clip-path=\"url(#pfe2bae2009)\" d=\"M 33.2875 30.694871 \r\nL 129.686171 30.694871 \r\nL 129.686171 30.519798 \r\nL 33.2875 30.519798 \r\nz\r\n\" style=\"fill:#1f77b4;\"/>\r\n   </g>\r\n   <g id=\"patch_568\">\r\n    <path clip-path=\"url(#pfe2bae2009)\" d=\"M 33.2875 30.344726 \r\nL 122.270889 30.344726 \r\nL 122.270889 30.169654 \r\nL 33.2875 30.169654 \r\nz\r\n\" style=\"fill:#1f77b4;\"/>\r\n   </g>\r\n   <g id=\"patch_569\">\r\n    <path clip-path=\"url(#pfe2bae2009)\" d=\"M 33.2875 29.994581 \r\nL 48.118065 29.994581 \r\nL 48.118065 29.819509 \r\nL 33.2875 29.819509 \r\nz\r\n\" style=\"fill:#1f77b4;\"/>\r\n   </g>\r\n   <g id=\"patch_570\">\r\n    <path clip-path=\"url(#pfe2bae2009)\" d=\"M 33.2875 29.644436 \r\nL 137.101453 29.644436 \r\nL 137.101453 29.469364 \r\nL 33.2875 29.469364 \r\nz\r\n\" style=\"fill:#1f77b4;\"/>\r\n   </g>\r\n   <g id=\"patch_571\">\r\n    <path clip-path=\"url(#pfe2bae2009)\" d=\"M 33.2875 29.294291 \r\nL 33.2875 29.294291 \r\nL 33.2875 29.119219 \r\nL 33.2875 29.119219 \r\nz\r\n\" style=\"fill:#1f77b4;\"/>\r\n   </g>\r\n   <g id=\"patch_572\">\r\n    <path clip-path=\"url(#pfe2bae2009)\" d=\"M 33.2875 28.944146 \r\nL 144.516736 28.944146 \r\nL 144.516736 28.769074 \r\nL 33.2875 28.769074 \r\nz\r\n\" style=\"fill:#1f77b4;\"/>\r\n   </g>\r\n   <g id=\"patch_573\">\r\n    <path clip-path=\"url(#pfe2bae2009)\" d=\"M 33.2875 28.594001 \r\nL 77.779194 28.594001 \r\nL 77.779194 28.418929 \r\nL 33.2875 28.418929 \r\nz\r\n\" style=\"fill:#1f77b4;\"/>\r\n   </g>\r\n   <g id=\"patch_574\">\r\n    <path clip-path=\"url(#pfe2bae2009)\" d=\"M 33.2875 28.243856 \r\nL 85.194477 28.243856 \r\nL 85.194477 28.068784 \r\nL 33.2875 28.068784 \r\nz\r\n\" style=\"fill:#1f77b4;\"/>\r\n   </g>\r\n   <g id=\"patch_575\">\r\n    <path clip-path=\"url(#pfe2bae2009)\" d=\"M 33.2875 27.893712 \r\nL 92.609759 27.893712 \r\nL 92.609759 27.718639 \r\nL 33.2875 27.718639 \r\nz\r\n\" style=\"fill:#1f77b4;\"/>\r\n   </g>\r\n   <g id=\"patch_576\">\r\n    <path clip-path=\"url(#pfe2bae2009)\" d=\"M 33.2875 27.543567 \r\nL 62.94863 27.543567 \r\nL 62.94863 27.368494 \r\nL 33.2875 27.368494 \r\nz\r\n\" style=\"fill:#1f77b4;\"/>\r\n   </g>\r\n   <g id=\"patch_577\">\r\n    <path clip-path=\"url(#pfe2bae2009)\" d=\"M 33.2875 27.193422 \r\nL 62.94863 27.193422 \r\nL 62.94863 27.018349 \r\nL 33.2875 27.018349 \r\nz\r\n\" style=\"fill:#1f77b4;\"/>\r\n   </g>\r\n   <g id=\"patch_578\">\r\n    <path clip-path=\"url(#pfe2bae2009)\" d=\"M 33.2875 26.843277 \r\nL 70.363912 26.843277 \r\nL 70.363912 26.668204 \r\nL 33.2875 26.668204 \r\nz\r\n\" style=\"fill:#1f77b4;\"/>\r\n   </g>\r\n   <g id=\"patch_579\">\r\n    <path clip-path=\"url(#pfe2bae2009)\" d=\"M 33.2875 26.493132 \r\nL 70.363912 26.493132 \r\nL 70.363912 26.318059 \r\nL 33.2875 26.318059 \r\nz\r\n\" style=\"fill:#1f77b4;\"/>\r\n   </g>\r\n   <g id=\"patch_580\">\r\n    <path clip-path=\"url(#pfe2bae2009)\" d=\"M 33.2875 26.142987 \r\nL 122.270889 26.142987 \r\nL 122.270889 25.967914 \r\nL 33.2875 25.967914 \r\nz\r\n\" style=\"fill:#1f77b4;\"/>\r\n   </g>\r\n   <g id=\"patch_581\">\r\n    <path clip-path=\"url(#pfe2bae2009)\" d=\"M 33.2875 25.792842 \r\nL 92.609759 25.792842 \r\nL 92.609759 25.617769 \r\nL 33.2875 25.617769 \r\nz\r\n\" style=\"fill:#1f77b4;\"/>\r\n   </g>\r\n   <g id=\"patch_582\">\r\n    <path clip-path=\"url(#pfe2bae2009)\" d=\"M 33.2875 25.442697 \r\nL 114.855606 25.442697 \r\nL 114.855606 25.267625 \r\nL 33.2875 25.267625 \r\nz\r\n\" style=\"fill:#1f77b4;\"/>\r\n   </g>\r\n   <g id=\"patch_583\">\r\n    <path clip-path=\"url(#pfe2bae2009)\" d=\"M 33.2875 25.092552 \r\nL 48.118065 25.092552 \r\nL 48.118065 24.91748 \r\nL 33.2875 24.91748 \r\nz\r\n\" style=\"fill:#1f77b4;\"/>\r\n   </g>\r\n   <g id=\"patch_584\">\r\n    <path clip-path=\"url(#pfe2bae2009)\" d=\"M 33.2875 24.742407 \r\nL 122.270889 24.742407 \r\nL 122.270889 24.567335 \r\nL 33.2875 24.567335 \r\nz\r\n\" style=\"fill:#1f77b4;\"/>\r\n   </g>\r\n   <g id=\"patch_585\">\r\n    <path clip-path=\"url(#pfe2bae2009)\" d=\"M 33.2875 24.392262 \r\nL 114.855606 24.392262 \r\nL 114.855606 24.21719 \r\nL 33.2875 24.21719 \r\nz\r\n\" style=\"fill:#1f77b4;\"/>\r\n   </g>\r\n   <g id=\"patch_586\">\r\n    <path clip-path=\"url(#pfe2bae2009)\" d=\"M 33.2875 24.042117 \r\nL 107.440324 24.042117 \r\nL 107.440324 23.867045 \r\nL 33.2875 23.867045 \r\nz\r\n\" style=\"fill:#1f77b4;\"/>\r\n   </g>\r\n   <g id=\"patch_587\">\r\n    <path clip-path=\"url(#pfe2bae2009)\" d=\"M 33.2875 23.691972 \r\nL 77.779194 23.691972 \r\nL 77.779194 23.5169 \r\nL 33.2875 23.5169 \r\nz\r\n\" style=\"fill:#1f77b4;\"/>\r\n   </g>\r\n   <g id=\"patch_588\">\r\n    <path clip-path=\"url(#pfe2bae2009)\" d=\"M 33.2875 23.341827 \r\nL 129.686171 23.341827 \r\nL 129.686171 23.166755 \r\nL 33.2875 23.166755 \r\nz\r\n\" style=\"fill:#1f77b4;\"/>\r\n   </g>\r\n   <g id=\"patch_589\">\r\n    <path clip-path=\"url(#pfe2bae2009)\" d=\"M 33.2875 22.991683 \r\nL 77.779194 22.991683 \r\nL 77.779194 22.81661 \r\nL 33.2875 22.81661 \r\nz\r\n\" style=\"fill:#1f77b4;\"/>\r\n   </g>\r\n   <g id=\"patch_590\">\r\n    <path clip-path=\"url(#pfe2bae2009)\" d=\"M 33.2875 22.641538 \r\nL 100.025042 22.641538 \r\nL 100.025042 22.466465 \r\nL 33.2875 22.466465 \r\nz\r\n\" style=\"fill:#1f77b4;\"/>\r\n   </g>\r\n   <g id=\"patch_591\">\r\n    <path clip-path=\"url(#pfe2bae2009)\" d=\"M 33.2875 22.291393 \r\nL 48.118065 22.291393 \r\nL 48.118065 22.11632 \r\nL 33.2875 22.11632 \r\nz\r\n\" style=\"fill:#1f77b4;\"/>\r\n   </g>\r\n   <g id=\"patch_592\">\r\n    <path clip-path=\"url(#pfe2bae2009)\" d=\"M 33.2875 21.941248 \r\nL 70.363912 21.941248 \r\nL 70.363912 21.766175 \r\nL 33.2875 21.766175 \r\nz\r\n\" style=\"fill:#1f77b4;\"/>\r\n   </g>\r\n   <g id=\"patch_593\">\r\n    <path clip-path=\"url(#pfe2bae2009)\" d=\"M 33.2875 21.591103 \r\nL 77.779194 21.591103 \r\nL 77.779194 21.41603 \r\nL 33.2875 21.41603 \r\nz\r\n\" style=\"fill:#1f77b4;\"/>\r\n   </g>\r\n   <g id=\"patch_594\">\r\n    <path clip-path=\"url(#pfe2bae2009)\" d=\"M 33.2875 21.240958 \r\nL 114.855606 21.240958 \r\nL 114.855606 21.065885 \r\nL 33.2875 21.065885 \r\nz\r\n\" style=\"fill:#1f77b4;\"/>\r\n   </g>\r\n   <g id=\"patch_595\">\r\n    <path clip-path=\"url(#pfe2bae2009)\" d=\"M 33.2875 20.890813 \r\nL 48.118065 20.890813 \r\nL 48.118065 20.71574 \r\nL 33.2875 20.71574 \r\nz\r\n\" style=\"fill:#1f77b4;\"/>\r\n   </g>\r\n   <g id=\"patch_596\">\r\n    <path clip-path=\"url(#pfe2bae2009)\" d=\"M 33.2875 20.540668 \r\nL 114.855606 20.540668 \r\nL 114.855606 20.365596 \r\nL 33.2875 20.365596 \r\nz\r\n\" style=\"fill:#1f77b4;\"/>\r\n   </g>\r\n   <g id=\"patch_597\">\r\n    <path clip-path=\"url(#pfe2bae2009)\" d=\"M 33.2875 20.190523 \r\nL 100.025042 20.190523 \r\nL 100.025042 20.015451 \r\nL 33.2875 20.015451 \r\nz\r\n\" style=\"fill:#1f77b4;\"/>\r\n   </g>\r\n   <g id=\"patch_598\">\r\n    <path clip-path=\"url(#pfe2bae2009)\" d=\"M 33.2875 19.840378 \r\nL 107.440324 19.840378 \r\nL 107.440324 19.665306 \r\nL 33.2875 19.665306 \r\nz\r\n\" style=\"fill:#1f77b4;\"/>\r\n   </g>\r\n   <g id=\"patch_599\">\r\n    <path clip-path=\"url(#pfe2bae2009)\" d=\"M 33.2875 19.490233 \r\nL 70.363912 19.490233 \r\nL 70.363912 19.315161 \r\nL 33.2875 19.315161 \r\nz\r\n\" style=\"fill:#1f77b4;\"/>\r\n   </g>\r\n   <g id=\"patch_600\">\r\n    <path clip-path=\"url(#pfe2bae2009)\" d=\"M 33.2875 19.140088 \r\nL 85.194477 19.140088 \r\nL 85.194477 18.965016 \r\nL 33.2875 18.965016 \r\nz\r\n\" style=\"fill:#1f77b4;\"/>\r\n   </g>\r\n   <g id=\"patch_601\">\r\n    <path clip-path=\"url(#pfe2bae2009)\" d=\"M 33.2875 18.789943 \r\nL 107.440324 18.789943 \r\nL 107.440324 18.614871 \r\nL 33.2875 18.614871 \r\nz\r\n\" style=\"fill:#1f77b4;\"/>\r\n   </g>\r\n   <g id=\"patch_602\">\r\n    <path clip-path=\"url(#pfe2bae2009)\" d=\"M 33.2875 18.439798 \r\nL 92.609759 18.439798 \r\nL 92.609759 18.264726 \r\nL 33.2875 18.264726 \r\nz\r\n\" style=\"fill:#1f77b4;\"/>\r\n   </g>\r\n   <g id=\"patch_603\">\r\n    <path clip-path=\"url(#pfe2bae2009)\" d=\"M 33.2875 18.089654 \r\nL 70.363912 18.089654 \r\nL 70.363912 17.914581 \r\nL 33.2875 17.914581 \r\nz\r\n\" style=\"fill:#1f77b4;\"/>\r\n   </g>\r\n   <g id=\"patch_604\">\r\n    <path clip-path=\"url(#pfe2bae2009)\" d=\"M 33.2875 17.739509 \r\nL 33.2875 17.739509 \r\nL 33.2875 17.564436 \r\nL 33.2875 17.564436 \r\nz\r\n\" style=\"fill:#1f77b4;\"/>\r\n   </g>\r\n   <g id=\"patch_605\">\r\n    <path clip-path=\"url(#pfe2bae2009)\" d=\"M 33.2875 17.389364 \r\nL 137.101453 17.389364 \r\nL 137.101453 17.214291 \r\nL 33.2875 17.214291 \r\nz\r\n\" style=\"fill:#1f77b4;\"/>\r\n   </g>\r\n   <g id=\"patch_606\">\r\n    <path clip-path=\"url(#pfe2bae2009)\" d=\"M 33.2875 17.039219 \r\nL 107.440324 17.039219 \r\nL 107.440324 16.864146 \r\nL 33.2875 16.864146 \r\nz\r\n\" style=\"fill:#1f77b4;\"/>\r\n   </g>\r\n   <g id=\"patch_607\">\r\n    <path clip-path=\"url(#pfe2bae2009)\" d=\"M 33.2875 16.689074 \r\nL 55.533347 16.689074 \r\nL 55.533347 16.514001 \r\nL 33.2875 16.514001 \r\nz\r\n\" style=\"fill:#1f77b4;\"/>\r\n   </g>\r\n   <g id=\"patch_608\">\r\n    <path clip-path=\"url(#pfe2bae2009)\" d=\"M 33.2875 16.338929 \r\nL 122.270889 16.338929 \r\nL 122.270889 16.163856 \r\nL 33.2875 16.163856 \r\nz\r\n\" style=\"fill:#1f77b4;\"/>\r\n   </g>\r\n   <g id=\"patch_609\">\r\n    <path clip-path=\"url(#pfe2bae2009)\" d=\"M 33.2875 15.988784 \r\nL 85.194477 15.988784 \r\nL 85.194477 15.813712 \r\nL 33.2875 15.813712 \r\nz\r\n\" style=\"fill:#1f77b4;\"/>\r\n   </g>\r\n   <g id=\"patch_610\">\r\n    <path clip-path=\"url(#pfe2bae2009)\" d=\"M 33.2875 15.638639 \r\nL 107.440324 15.638639 \r\nL 107.440324 15.463567 \r\nL 33.2875 15.463567 \r\nz\r\n\" style=\"fill:#1f77b4;\"/>\r\n   </g>\r\n   <g id=\"patch_611\">\r\n    <path clip-path=\"url(#pfe2bae2009)\" d=\"M 33.2875 15.288494 \r\nL 77.779194 15.288494 \r\nL 77.779194 15.113422 \r\nL 33.2875 15.113422 \r\nz\r\n\" style=\"fill:#1f77b4;\"/>\r\n   </g>\r\n   <g id=\"patch_612\">\r\n    <path clip-path=\"url(#pfe2bae2009)\" d=\"M 33.2875 14.938349 \r\nL 70.363912 14.938349 \r\nL 70.363912 14.763277 \r\nL 33.2875 14.763277 \r\nz\r\n\" style=\"fill:#1f77b4;\"/>\r\n   </g>\r\n   <g id=\"patch_613\">\r\n    <path clip-path=\"url(#pfe2bae2009)\" d=\"M 33.2875 14.588204 \r\nL 55.533347 14.588204 \r\nL 55.533347 14.413132 \r\nL 33.2875 14.413132 \r\nz\r\n\" style=\"fill:#1f77b4;\"/>\r\n   </g>\r\n   <g id=\"patch_614\">\r\n    <path clip-path=\"url(#pfe2bae2009)\" d=\"M 33.2875 14.238059 \r\nL 92.609759 14.238059 \r\nL 92.609759 14.062987 \r\nL 33.2875 14.062987 \r\nz\r\n\" style=\"fill:#1f77b4;\"/>\r\n   </g>\r\n   <g id=\"patch_615\">\r\n    <path clip-path=\"url(#pfe2bae2009)\" d=\"M 33.2875 13.887914 \r\nL 137.101453 13.887914 \r\nL 137.101453 13.712842 \r\nL 33.2875 13.712842 \r\nz\r\n\" style=\"fill:#1f77b4;\"/>\r\n   </g>\r\n   <g id=\"patch_616\">\r\n    <path clip-path=\"url(#pfe2bae2009)\" d=\"M 33.2875 13.537769 \r\nL 100.025042 13.537769 \r\nL 100.025042 13.362697 \r\nL 33.2875 13.362697 \r\nz\r\n\" style=\"fill:#1f77b4;\"/>\r\n   </g>\r\n   <g id=\"patch_617\">\r\n    <path clip-path=\"url(#pfe2bae2009)\" d=\"M 33.2875 13.187625 \r\nL 92.609759 13.187625 \r\nL 92.609759 13.012552 \r\nL 33.2875 13.012552 \r\nz\r\n\" style=\"fill:#1f77b4;\"/>\r\n   </g>\r\n   <g id=\"patch_618\">\r\n    <path clip-path=\"url(#pfe2bae2009)\" d=\"M 33.2875 12.83748 \r\nL 85.194477 12.83748 \r\nL 85.194477 12.662407 \r\nL 33.2875 12.662407 \r\nz\r\n\" style=\"fill:#1f77b4;\"/>\r\n   </g>\r\n   <g id=\"patch_619\">\r\n    <path clip-path=\"url(#pfe2bae2009)\" d=\"M 33.2875 12.487335 \r\nL 62.94863 12.487335 \r\nL 62.94863 12.312262 \r\nL 33.2875 12.312262 \r\nz\r\n\" style=\"fill:#1f77b4;\"/>\r\n   </g>\r\n   <g id=\"patch_620\">\r\n    <path clip-path=\"url(#pfe2bae2009)\" d=\"M 33.2875 12.13719 \r\nL 159.347301 12.13719 \r\nL 159.347301 11.962117 \r\nL 33.2875 11.962117 \r\nz\r\n\" style=\"fill:#1f77b4;\"/>\r\n   </g>\r\n   <g id=\"patch_621\">\r\n    <path clip-path=\"url(#pfe2bae2009)\" d=\"M 33.2875 11.787045 \r\nL 77.779194 11.787045 \r\nL 77.779194 11.611972 \r\nL 33.2875 11.611972 \r\nz\r\n\" style=\"fill:#1f77b4;\"/>\r\n   </g>\r\n   <g id=\"patch_622\">\r\n    <path clip-path=\"url(#pfe2bae2009)\" d=\"M 33.2875 11.4369 \r\nL 159.347301 11.4369 \r\nL 159.347301 11.261827 \r\nL 33.2875 11.261827 \r\nz\r\n\" style=\"fill:#1f77b4;\"/>\r\n   </g>\r\n   <g id=\"patch_623\">\r\n    <path clip-path=\"url(#pfe2bae2009)\" d=\"M 33.2875 11.086755 \r\nL 33.2875 11.086755 \r\nL 33.2875 10.911683 \r\nL 33.2875 10.911683 \r\nz\r\n\" style=\"fill:#1f77b4;\"/>\r\n   </g>\r\n   <g id=\"matplotlib.axis_1\">\r\n    <g id=\"xtick_1\">\r\n     <g id=\"line2d_1\">\r\n      <defs>\r\n       <path d=\"M 0 0 \r\nL 0 3.5 \r\n\" id=\"m259131d9c3\" style=\"stroke:#000000;stroke-width:0.8;\"/>\r\n      </defs>\r\n      <g>\r\n       <use style=\"stroke:#000000;stroke-width:0.8;\" x=\"33.2875\" xlink:href=\"#m259131d9c3\" y=\"228.264146\"/>\r\n      </g>\r\n     </g>\r\n     <g id=\"text_1\">\r\n      <!-- 0 -->\r\n      <g transform=\"translate(30.10625 242.862584)scale(0.1 -0.1)\">\r\n       <defs>\r\n        <path d=\"M 31.78125 66.40625 \r\nQ 24.171875 66.40625 20.328125 58.90625 \r\nQ 16.5 51.421875 16.5 36.375 \r\nQ 16.5 21.390625 20.328125 13.890625 \r\nQ 24.171875 6.390625 31.78125 6.390625 \r\nQ 39.453125 6.390625 43.28125 13.890625 \r\nQ 47.125 21.390625 47.125 36.375 \r\nQ 47.125 51.421875 43.28125 58.90625 \r\nQ 39.453125 66.40625 31.78125 66.40625 \r\nz\r\nM 31.78125 74.21875 \r\nQ 44.046875 74.21875 50.515625 64.515625 \r\nQ 56.984375 54.828125 56.984375 36.375 \r\nQ 56.984375 17.96875 50.515625 8.265625 \r\nQ 44.046875 -1.421875 31.78125 -1.421875 \r\nQ 19.53125 -1.421875 13.0625 8.265625 \r\nQ 6.59375 17.96875 6.59375 36.375 \r\nQ 6.59375 54.828125 13.0625 64.515625 \r\nQ 19.53125 74.21875 31.78125 74.21875 \r\nz\r\n\" id=\"DejaVuSans-48\"/>\r\n       </defs>\r\n       <use xlink:href=\"#DejaVuSans-48\"/>\r\n      </g>\r\n     </g>\r\n    </g>\r\n    <g id=\"xtick_2\">\r\n     <g id=\"line2d_2\">\r\n      <g>\r\n       <use style=\"stroke:#000000;stroke-width:0.8;\" x=\"107.440324\" xlink:href=\"#m259131d9c3\" y=\"228.264146\"/>\r\n      </g>\r\n     </g>\r\n     <g id=\"text_2\">\r\n      <!-- 10 -->\r\n      <g transform=\"translate(101.077824 242.862584)scale(0.1 -0.1)\">\r\n       <defs>\r\n        <path d=\"M 12.40625 8.296875 \r\nL 28.515625 8.296875 \r\nL 28.515625 63.921875 \r\nL 10.984375 60.40625 \r\nL 10.984375 69.390625 \r\nL 28.421875 72.90625 \r\nL 38.28125 72.90625 \r\nL 38.28125 8.296875 \r\nL 54.390625 8.296875 \r\nL 54.390625 0 \r\nL 12.40625 0 \r\nz\r\n\" id=\"DejaVuSans-49\"/>\r\n       </defs>\r\n       <use xlink:href=\"#DejaVuSans-49\"/>\r\n       <use x=\"63.623047\" xlink:href=\"#DejaVuSans-48\"/>\r\n      </g>\r\n     </g>\r\n    </g>\r\n    <g id=\"xtick_3\">\r\n     <g id=\"line2d_3\">\r\n      <g>\r\n       <use style=\"stroke:#000000;stroke-width:0.8;\" x=\"181.593148\" xlink:href=\"#m259131d9c3\" y=\"228.264146\"/>\r\n      </g>\r\n     </g>\r\n     <g id=\"text_3\">\r\n      <!-- 20 -->\r\n      <g transform=\"translate(175.230648 242.862584)scale(0.1 -0.1)\">\r\n       <defs>\r\n        <path d=\"M 19.1875 8.296875 \r\nL 53.609375 8.296875 \r\nL 53.609375 0 \r\nL 7.328125 0 \r\nL 7.328125 8.296875 \r\nQ 12.9375 14.109375 22.625 23.890625 \r\nQ 32.328125 33.6875 34.8125 36.53125 \r\nQ 39.546875 41.84375 41.421875 45.53125 \r\nQ 43.3125 49.21875 43.3125 52.78125 \r\nQ 43.3125 58.59375 39.234375 62.25 \r\nQ 35.15625 65.921875 28.609375 65.921875 \r\nQ 23.96875 65.921875 18.8125 64.3125 \r\nQ 13.671875 62.703125 7.8125 59.421875 \r\nL 7.8125 69.390625 \r\nQ 13.765625 71.78125 18.9375 73 \r\nQ 24.125 74.21875 28.421875 74.21875 \r\nQ 39.75 74.21875 46.484375 68.546875 \r\nQ 53.21875 62.890625 53.21875 53.421875 \r\nQ 53.21875 48.921875 51.53125 44.890625 \r\nQ 49.859375 40.875 45.40625 35.40625 \r\nQ 44.1875 33.984375 37.640625 27.21875 \r\nQ 31.109375 20.453125 19.1875 8.296875 \r\nz\r\n\" id=\"DejaVuSans-50\"/>\r\n       </defs>\r\n       <use xlink:href=\"#DejaVuSans-50\"/>\r\n       <use x=\"63.623047\" xlink:href=\"#DejaVuSans-48\"/>\r\n      </g>\r\n     </g>\r\n    </g>\r\n    <g id=\"xtick_4\">\r\n     <g id=\"line2d_4\">\r\n      <g>\r\n       <use style=\"stroke:#000000;stroke-width:0.8;\" x=\"255.745972\" xlink:href=\"#m259131d9c3\" y=\"228.264146\"/>\r\n      </g>\r\n     </g>\r\n     <g id=\"text_4\">\r\n      <!-- 30 -->\r\n      <g transform=\"translate(249.383472 242.862584)scale(0.1 -0.1)\">\r\n       <defs>\r\n        <path d=\"M 40.578125 39.3125 \r\nQ 47.65625 37.796875 51.625 33 \r\nQ 55.609375 28.21875 55.609375 21.1875 \r\nQ 55.609375 10.40625 48.1875 4.484375 \r\nQ 40.765625 -1.421875 27.09375 -1.421875 \r\nQ 22.515625 -1.421875 17.65625 -0.515625 \r\nQ 12.796875 0.390625 7.625 2.203125 \r\nL 7.625 11.71875 \r\nQ 11.71875 9.328125 16.59375 8.109375 \r\nQ 21.484375 6.890625 26.8125 6.890625 \r\nQ 36.078125 6.890625 40.9375 10.546875 \r\nQ 45.796875 14.203125 45.796875 21.1875 \r\nQ 45.796875 27.640625 41.28125 31.265625 \r\nQ 36.765625 34.90625 28.71875 34.90625 \r\nL 20.21875 34.90625 \r\nL 20.21875 43.015625 \r\nL 29.109375 43.015625 \r\nQ 36.375 43.015625 40.234375 45.921875 \r\nQ 44.09375 48.828125 44.09375 54.296875 \r\nQ 44.09375 59.90625 40.109375 62.90625 \r\nQ 36.140625 65.921875 28.71875 65.921875 \r\nQ 24.65625 65.921875 20.015625 65.03125 \r\nQ 15.375 64.15625 9.8125 62.3125 \r\nL 9.8125 71.09375 \r\nQ 15.4375 72.65625 20.34375 73.4375 \r\nQ 25.25 74.21875 29.59375 74.21875 \r\nQ 40.828125 74.21875 47.359375 69.109375 \r\nQ 53.90625 64.015625 53.90625 55.328125 \r\nQ 53.90625 49.265625 50.4375 45.09375 \r\nQ 46.96875 40.921875 40.578125 39.3125 \r\nz\r\n\" id=\"DejaVuSans-51\"/>\r\n       </defs>\r\n       <use xlink:href=\"#DejaVuSans-51\"/>\r\n       <use x=\"63.623047\" xlink:href=\"#DejaVuSans-48\"/>\r\n      </g>\r\n     </g>\r\n    </g>\r\n    <g id=\"xtick_5\">\r\n     <g id=\"line2d_5\">\r\n      <g>\r\n       <use style=\"stroke:#000000;stroke-width:0.8;\" x=\"329.898796\" xlink:href=\"#m259131d9c3\" y=\"228.264146\"/>\r\n      </g>\r\n     </g>\r\n     <g id=\"text_5\">\r\n      <!-- 40 -->\r\n      <g transform=\"translate(323.536296 242.862584)scale(0.1 -0.1)\">\r\n       <defs>\r\n        <path d=\"M 37.796875 64.3125 \r\nL 12.890625 25.390625 \r\nL 37.796875 25.390625 \r\nz\r\nM 35.203125 72.90625 \r\nL 47.609375 72.90625 \r\nL 47.609375 25.390625 \r\nL 58.015625 25.390625 \r\nL 58.015625 17.1875 \r\nL 47.609375 17.1875 \r\nL 47.609375 0 \r\nL 37.796875 0 \r\nL 37.796875 17.1875 \r\nL 4.890625 17.1875 \r\nL 4.890625 26.703125 \r\nz\r\n\" id=\"DejaVuSans-52\"/>\r\n       </defs>\r\n       <use xlink:href=\"#DejaVuSans-52\"/>\r\n       <use x=\"63.623047\" xlink:href=\"#DejaVuSans-48\"/>\r\n      </g>\r\n     </g>\r\n    </g>\r\n   </g>\r\n   <g id=\"matplotlib.axis_2\">\r\n    <g id=\"ytick_1\">\r\n     <g id=\"line2d_6\">\r\n      <defs>\r\n       <path d=\"M 0 0 \r\nL -3.5 0 \r\n\" id=\"m7d443d45af\" style=\"stroke:#000000;stroke-width:0.8;\"/>\r\n      </defs>\r\n      <g>\r\n       <use style=\"stroke:#000000;stroke-width:0.8;\" x=\"33.2875\" xlink:href=\"#m7d443d45af\" y=\"228.089074\"/>\r\n      </g>\r\n     </g>\r\n     <g id=\"text_6\">\r\n      <!-- 0 -->\r\n      <g transform=\"translate(19.925 231.888293)scale(0.1 -0.1)\">\r\n       <use xlink:href=\"#DejaVuSans-48\"/>\r\n      </g>\r\n     </g>\r\n    </g>\r\n    <g id=\"ytick_2\">\r\n     <g id=\"line2d_7\">\r\n      <g>\r\n       <use style=\"stroke:#000000;stroke-width:0.8;\" x=\"33.2875\" xlink:href=\"#m7d443d45af\" y=\"227.738929\"/>\r\n      </g>\r\n     </g>\r\n     <g id=\"text_7\">\r\n      <!-- 1 -->\r\n      <g transform=\"translate(19.925 231.538148)scale(0.1 -0.1)\">\r\n       <use xlink:href=\"#DejaVuSans-49\"/>\r\n      </g>\r\n     </g>\r\n    </g>\r\n    <g id=\"ytick_3\">\r\n     <g id=\"line2d_8\">\r\n      <g>\r\n       <use style=\"stroke:#000000;stroke-width:0.8;\" x=\"33.2875\" xlink:href=\"#m7d443d45af\" y=\"227.388784\"/>\r\n      </g>\r\n     </g>\r\n     <g id=\"text_8\">\r\n      <!-- 2 -->\r\n      <g transform=\"translate(19.925 231.188003)scale(0.1 -0.1)\">\r\n       <use xlink:href=\"#DejaVuSans-50\"/>\r\n      </g>\r\n     </g>\r\n    </g>\r\n    <g id=\"ytick_4\">\r\n     <g id=\"line2d_9\">\r\n      <g>\r\n       <use style=\"stroke:#000000;stroke-width:0.8;\" x=\"33.2875\" xlink:href=\"#m7d443d45af\" y=\"227.038639\"/>\r\n      </g>\r\n     </g>\r\n     <g id=\"text_9\">\r\n      <!-- 3 -->\r\n      <g transform=\"translate(19.925 230.837858)scale(0.1 -0.1)\">\r\n       <use xlink:href=\"#DejaVuSans-51\"/>\r\n      </g>\r\n     </g>\r\n    </g>\r\n    <g id=\"ytick_5\">\r\n     <g id=\"line2d_10\">\r\n      <g>\r\n       <use style=\"stroke:#000000;stroke-width:0.8;\" x=\"33.2875\" xlink:href=\"#m7d443d45af\" y=\"226.688494\"/>\r\n      </g>\r\n     </g>\r\n     <g id=\"text_10\">\r\n      <!-- 4 -->\r\n      <g transform=\"translate(19.925 230.487713)scale(0.1 -0.1)\">\r\n       <use xlink:href=\"#DejaVuSans-52\"/>\r\n      </g>\r\n     </g>\r\n    </g>\r\n    <g id=\"ytick_6\">\r\n     <g id=\"line2d_11\">\r\n      <g>\r\n       <use style=\"stroke:#000000;stroke-width:0.8;\" x=\"33.2875\" xlink:href=\"#m7d443d45af\" y=\"226.338349\"/>\r\n      </g>\r\n     </g>\r\n     <g id=\"text_11\">\r\n      <!-- 5 -->\r\n      <g transform=\"translate(19.925 230.137568)scale(0.1 -0.1)\">\r\n       <defs>\r\n        <path d=\"M 10.796875 72.90625 \r\nL 49.515625 72.90625 \r\nL 49.515625 64.59375 \r\nL 19.828125 64.59375 \r\nL 19.828125 46.734375 \r\nQ 21.96875 47.46875 24.109375 47.828125 \r\nQ 26.265625 48.1875 28.421875 48.1875 \r\nQ 40.625 48.1875 47.75 41.5 \r\nQ 54.890625 34.8125 54.890625 23.390625 \r\nQ 54.890625 11.625 47.5625 5.09375 \r\nQ 40.234375 -1.421875 26.90625 -1.421875 \r\nQ 22.3125 -1.421875 17.546875 -0.640625 \r\nQ 12.796875 0.140625 7.71875 1.703125 \r\nL 7.71875 11.625 \r\nQ 12.109375 9.234375 16.796875 8.0625 \r\nQ 21.484375 6.890625 26.703125 6.890625 \r\nQ 35.15625 6.890625 40.078125 11.328125 \r\nQ 45.015625 15.765625 45.015625 23.390625 \r\nQ 45.015625 31 40.078125 35.4375 \r\nQ 35.15625 39.890625 26.703125 39.890625 \r\nQ 22.75 39.890625 18.8125 39.015625 \r\nQ 14.890625 38.140625 10.796875 36.28125 \r\nz\r\n\" id=\"DejaVuSans-53\"/>\r\n       </defs>\r\n       <use xlink:href=\"#DejaVuSans-53\"/>\r\n      </g>\r\n     </g>\r\n    </g>\r\n    <g id=\"ytick_7\">\r\n     <g id=\"line2d_12\">\r\n      <g>\r\n       <use style=\"stroke:#000000;stroke-width:0.8;\" x=\"33.2875\" xlink:href=\"#m7d443d45af\" y=\"225.988204\"/>\r\n      </g>\r\n     </g>\r\n     <g id=\"text_12\">\r\n      <!-- 6 -->\r\n      <g transform=\"translate(19.925 229.787423)scale(0.1 -0.1)\">\r\n       <defs>\r\n        <path d=\"M 33.015625 40.375 \r\nQ 26.375 40.375 22.484375 35.828125 \r\nQ 18.609375 31.296875 18.609375 23.390625 \r\nQ 18.609375 15.53125 22.484375 10.953125 \r\nQ 26.375 6.390625 33.015625 6.390625 \r\nQ 39.65625 6.390625 43.53125 10.953125 \r\nQ 47.40625 15.53125 47.40625 23.390625 \r\nQ 47.40625 31.296875 43.53125 35.828125 \r\nQ 39.65625 40.375 33.015625 40.375 \r\nz\r\nM 52.59375 71.296875 \r\nL 52.59375 62.3125 \r\nQ 48.875 64.0625 45.09375 64.984375 \r\nQ 41.3125 65.921875 37.59375 65.921875 \r\nQ 27.828125 65.921875 22.671875 59.328125 \r\nQ 17.53125 52.734375 16.796875 39.40625 \r\nQ 19.671875 43.65625 24.015625 45.921875 \r\nQ 28.375 48.1875 33.59375 48.1875 \r\nQ 44.578125 48.1875 50.953125 41.515625 \r\nQ 57.328125 34.859375 57.328125 23.390625 \r\nQ 57.328125 12.15625 50.6875 5.359375 \r\nQ 44.046875 -1.421875 33.015625 -1.421875 \r\nQ 20.359375 -1.421875 13.671875 8.265625 \r\nQ 6.984375 17.96875 6.984375 36.375 \r\nQ 6.984375 53.65625 15.1875 63.9375 \r\nQ 23.390625 74.21875 37.203125 74.21875 \r\nQ 40.921875 74.21875 44.703125 73.484375 \r\nQ 48.484375 72.75 52.59375 71.296875 \r\nz\r\n\" id=\"DejaVuSans-54\"/>\r\n       </defs>\r\n       <use xlink:href=\"#DejaVuSans-54\"/>\r\n      </g>\r\n     </g>\r\n    </g>\r\n    <g id=\"ytick_8\">\r\n     <g id=\"line2d_13\">\r\n      <g>\r\n       <use style=\"stroke:#000000;stroke-width:0.8;\" x=\"33.2875\" xlink:href=\"#m7d443d45af\" y=\"225.638059\"/>\r\n      </g>\r\n     </g>\r\n     <g id=\"text_13\">\r\n      <!-- 7 -->\r\n      <g transform=\"translate(19.925 229.437278)scale(0.1 -0.1)\">\r\n       <defs>\r\n        <path d=\"M 8.203125 72.90625 \r\nL 55.078125 72.90625 \r\nL 55.078125 68.703125 \r\nL 28.609375 0 \r\nL 18.3125 0 \r\nL 43.21875 64.59375 \r\nL 8.203125 64.59375 \r\nz\r\n\" id=\"DejaVuSans-55\"/>\r\n       </defs>\r\n       <use xlink:href=\"#DejaVuSans-55\"/>\r\n      </g>\r\n     </g>\r\n    </g>\r\n    <g id=\"ytick_9\">\r\n     <g id=\"line2d_14\">\r\n      <g>\r\n       <use style=\"stroke:#000000;stroke-width:0.8;\" x=\"33.2875\" xlink:href=\"#m7d443d45af\" y=\"225.287914\"/>\r\n      </g>\r\n     </g>\r\n     <g id=\"text_14\">\r\n      <!-- 8 -->\r\n      <g transform=\"translate(19.925 229.087133)scale(0.1 -0.1)\">\r\n       <defs>\r\n        <path d=\"M 31.78125 34.625 \r\nQ 24.75 34.625 20.71875 30.859375 \r\nQ 16.703125 27.09375 16.703125 20.515625 \r\nQ 16.703125 13.921875 20.71875 10.15625 \r\nQ 24.75 6.390625 31.78125 6.390625 \r\nQ 38.8125 6.390625 42.859375 10.171875 \r\nQ 46.921875 13.96875 46.921875 20.515625 \r\nQ 46.921875 27.09375 42.890625 30.859375 \r\nQ 38.875 34.625 31.78125 34.625 \r\nz\r\nM 21.921875 38.8125 \r\nQ 15.578125 40.375 12.03125 44.71875 \r\nQ 8.5 49.078125 8.5 55.328125 \r\nQ 8.5 64.0625 14.71875 69.140625 \r\nQ 20.953125 74.21875 31.78125 74.21875 \r\nQ 42.671875 74.21875 48.875 69.140625 \r\nQ 55.078125 64.0625 55.078125 55.328125 \r\nQ 55.078125 49.078125 51.53125 44.71875 \r\nQ 48 40.375 41.703125 38.8125 \r\nQ 48.828125 37.15625 52.796875 32.3125 \r\nQ 56.78125 27.484375 56.78125 20.515625 \r\nQ 56.78125 9.90625 50.3125 4.234375 \r\nQ 43.84375 -1.421875 31.78125 -1.421875 \r\nQ 19.734375 -1.421875 13.25 4.234375 \r\nQ 6.78125 9.90625 6.78125 20.515625 \r\nQ 6.78125 27.484375 10.78125 32.3125 \r\nQ 14.796875 37.15625 21.921875 38.8125 \r\nz\r\nM 18.3125 54.390625 \r\nQ 18.3125 48.734375 21.84375 45.5625 \r\nQ 25.390625 42.390625 31.78125 42.390625 \r\nQ 38.140625 42.390625 41.71875 45.5625 \r\nQ 45.3125 48.734375 45.3125 54.390625 \r\nQ 45.3125 60.0625 41.71875 63.234375 \r\nQ 38.140625 66.40625 31.78125 66.40625 \r\nQ 25.390625 66.40625 21.84375 63.234375 \r\nQ 18.3125 60.0625 18.3125 54.390625 \r\nz\r\n\" id=\"DejaVuSans-56\"/>\r\n       </defs>\r\n       <use xlink:href=\"#DejaVuSans-56\"/>\r\n      </g>\r\n     </g>\r\n    </g>\r\n    <g id=\"ytick_10\">\r\n     <g id=\"line2d_15\">\r\n      <g>\r\n       <use style=\"stroke:#000000;stroke-width:0.8;\" x=\"33.2875\" xlink:href=\"#m7d443d45af\" y=\"224.937769\"/>\r\n      </g>\r\n     </g>\r\n     <g id=\"text_15\">\r\n      <!-- 9 -->\r\n      <g transform=\"translate(19.925 228.736988)scale(0.1 -0.1)\">\r\n       <defs>\r\n        <path d=\"M 10.984375 1.515625 \r\nL 10.984375 10.5 \r\nQ 14.703125 8.734375 18.5 7.8125 \r\nQ 22.3125 6.890625 25.984375 6.890625 \r\nQ 35.75 6.890625 40.890625 13.453125 \r\nQ 46.046875 20.015625 46.78125 33.40625 \r\nQ 43.953125 29.203125 39.59375 26.953125 \r\nQ 35.25 24.703125 29.984375 24.703125 \r\nQ 19.046875 24.703125 12.671875 31.3125 \r\nQ 6.296875 37.9375 6.296875 49.421875 \r\nQ 6.296875 60.640625 12.9375 67.421875 \r\nQ 19.578125 74.21875 30.609375 74.21875 \r\nQ 43.265625 74.21875 49.921875 64.515625 \r\nQ 56.59375 54.828125 56.59375 36.375 \r\nQ 56.59375 19.140625 48.40625 8.859375 \r\nQ 40.234375 -1.421875 26.421875 -1.421875 \r\nQ 22.703125 -1.421875 18.890625 -0.6875 \r\nQ 15.09375 0.046875 10.984375 1.515625 \r\nz\r\nM 30.609375 32.421875 \r\nQ 37.25 32.421875 41.125 36.953125 \r\nQ 45.015625 41.5 45.015625 49.421875 \r\nQ 45.015625 57.28125 41.125 61.84375 \r\nQ 37.25 66.40625 30.609375 66.40625 \r\nQ 23.96875 66.40625 20.09375 61.84375 \r\nQ 16.21875 57.28125 16.21875 49.421875 \r\nQ 16.21875 41.5 20.09375 36.953125 \r\nQ 23.96875 32.421875 30.609375 32.421875 \r\nz\r\n\" id=\"DejaVuSans-57\"/>\r\n       </defs>\r\n       <use xlink:href=\"#DejaVuSans-57\"/>\r\n      </g>\r\n     </g>\r\n    </g>\r\n    <g id=\"ytick_11\">\r\n     <g id=\"line2d_16\">\r\n      <g>\r\n       <use style=\"stroke:#000000;stroke-width:0.8;\" x=\"33.2875\" xlink:href=\"#m7d443d45af\" y=\"224.587625\"/>\r\n      </g>\r\n     </g>\r\n     <g id=\"text_16\">\r\n      <!-- 10 -->\r\n      <g transform=\"translate(13.5625 228.386843)scale(0.1 -0.1)\">\r\n       <use xlink:href=\"#DejaVuSans-49\"/>\r\n       <use x=\"63.623047\" xlink:href=\"#DejaVuSans-48\"/>\r\n      </g>\r\n     </g>\r\n    </g>\r\n    <g id=\"ytick_12\">\r\n     <g id=\"line2d_17\">\r\n      <g>\r\n       <use style=\"stroke:#000000;stroke-width:0.8;\" x=\"33.2875\" xlink:href=\"#m7d443d45af\" y=\"224.23748\"/>\r\n      </g>\r\n     </g>\r\n     <g id=\"text_17\">\r\n      <!-- 11 -->\r\n      <g transform=\"translate(13.5625 228.036698)scale(0.1 -0.1)\">\r\n       <use xlink:href=\"#DejaVuSans-49\"/>\r\n       <use x=\"63.623047\" xlink:href=\"#DejaVuSans-49\"/>\r\n      </g>\r\n     </g>\r\n    </g>\r\n    <g id=\"ytick_13\">\r\n     <g id=\"line2d_18\">\r\n      <g>\r\n       <use style=\"stroke:#000000;stroke-width:0.8;\" x=\"33.2875\" xlink:href=\"#m7d443d45af\" y=\"223.887335\"/>\r\n      </g>\r\n     </g>\r\n     <g id=\"text_18\">\r\n      <!-- 12 -->\r\n      <g transform=\"translate(13.5625 227.686553)scale(0.1 -0.1)\">\r\n       <use xlink:href=\"#DejaVuSans-49\"/>\r\n       <use x=\"63.623047\" xlink:href=\"#DejaVuSans-50\"/>\r\n      </g>\r\n     </g>\r\n    </g>\r\n    <g id=\"ytick_14\">\r\n     <g id=\"line2d_19\">\r\n      <g>\r\n       <use style=\"stroke:#000000;stroke-width:0.8;\" x=\"33.2875\" xlink:href=\"#m7d443d45af\" y=\"223.53719\"/>\r\n      </g>\r\n     </g>\r\n     <g id=\"text_19\">\r\n      <!-- 13 -->\r\n      <g transform=\"translate(13.5625 227.336409)scale(0.1 -0.1)\">\r\n       <use xlink:href=\"#DejaVuSans-49\"/>\r\n       <use x=\"63.623047\" xlink:href=\"#DejaVuSans-51\"/>\r\n      </g>\r\n     </g>\r\n    </g>\r\n    <g id=\"ytick_15\">\r\n     <g id=\"line2d_20\">\r\n      <g>\r\n       <use style=\"stroke:#000000;stroke-width:0.8;\" x=\"33.2875\" xlink:href=\"#m7d443d45af\" y=\"223.187045\"/>\r\n      </g>\r\n     </g>\r\n     <g id=\"text_20\">\r\n      <!-- 14 -->\r\n      <g transform=\"translate(13.5625 226.986264)scale(0.1 -0.1)\">\r\n       <use xlink:href=\"#DejaVuSans-49\"/>\r\n       <use x=\"63.623047\" xlink:href=\"#DejaVuSans-52\"/>\r\n      </g>\r\n     </g>\r\n    </g>\r\n    <g id=\"ytick_16\">\r\n     <g id=\"line2d_21\">\r\n      <g>\r\n       <use style=\"stroke:#000000;stroke-width:0.8;\" x=\"33.2875\" xlink:href=\"#m7d443d45af\" y=\"222.8369\"/>\r\n      </g>\r\n     </g>\r\n     <g id=\"text_21\">\r\n      <!-- 15 -->\r\n      <g transform=\"translate(13.5625 226.636119)scale(0.1 -0.1)\">\r\n       <use xlink:href=\"#DejaVuSans-49\"/>\r\n       <use x=\"63.623047\" xlink:href=\"#DejaVuSans-53\"/>\r\n      </g>\r\n     </g>\r\n    </g>\r\n    <g id=\"ytick_17\">\r\n     <g id=\"line2d_22\">\r\n      <g>\r\n       <use style=\"stroke:#000000;stroke-width:0.8;\" x=\"33.2875\" xlink:href=\"#m7d443d45af\" y=\"222.486755\"/>\r\n      </g>\r\n     </g>\r\n     <g id=\"text_22\">\r\n      <!-- 16 -->\r\n      <g transform=\"translate(13.5625 226.285974)scale(0.1 -0.1)\">\r\n       <use xlink:href=\"#DejaVuSans-49\"/>\r\n       <use x=\"63.623047\" xlink:href=\"#DejaVuSans-54\"/>\r\n      </g>\r\n     </g>\r\n    </g>\r\n    <g id=\"ytick_18\">\r\n     <g id=\"line2d_23\">\r\n      <g>\r\n       <use style=\"stroke:#000000;stroke-width:0.8;\" x=\"33.2875\" xlink:href=\"#m7d443d45af\" y=\"222.13661\"/>\r\n      </g>\r\n     </g>\r\n     <g id=\"text_23\">\r\n      <!-- 17 -->\r\n      <g transform=\"translate(13.5625 225.935829)scale(0.1 -0.1)\">\r\n       <use xlink:href=\"#DejaVuSans-49\"/>\r\n       <use x=\"63.623047\" xlink:href=\"#DejaVuSans-55\"/>\r\n      </g>\r\n     </g>\r\n    </g>\r\n    <g id=\"ytick_19\">\r\n     <g id=\"line2d_24\">\r\n      <g>\r\n       <use style=\"stroke:#000000;stroke-width:0.8;\" x=\"33.2875\" xlink:href=\"#m7d443d45af\" y=\"221.786465\"/>\r\n      </g>\r\n     </g>\r\n     <g id=\"text_24\">\r\n      <!-- 18 -->\r\n      <g transform=\"translate(13.5625 225.585684)scale(0.1 -0.1)\">\r\n       <use xlink:href=\"#DejaVuSans-49\"/>\r\n       <use x=\"63.623047\" xlink:href=\"#DejaVuSans-56\"/>\r\n      </g>\r\n     </g>\r\n    </g>\r\n    <g id=\"ytick_20\">\r\n     <g id=\"line2d_25\">\r\n      <g>\r\n       <use style=\"stroke:#000000;stroke-width:0.8;\" x=\"33.2875\" xlink:href=\"#m7d443d45af\" y=\"221.43632\"/>\r\n      </g>\r\n     </g>\r\n     <g id=\"text_25\">\r\n      <!-- 19 -->\r\n      <g transform=\"translate(13.5625 225.235539)scale(0.1 -0.1)\">\r\n       <use xlink:href=\"#DejaVuSans-49\"/>\r\n       <use x=\"63.623047\" xlink:href=\"#DejaVuSans-57\"/>\r\n      </g>\r\n     </g>\r\n    </g>\r\n    <g id=\"ytick_21\">\r\n     <g id=\"line2d_26\">\r\n      <g>\r\n       <use style=\"stroke:#000000;stroke-width:0.8;\" x=\"33.2875\" xlink:href=\"#m7d443d45af\" y=\"221.086175\"/>\r\n      </g>\r\n     </g>\r\n     <g id=\"text_26\">\r\n      <!-- 20 -->\r\n      <g transform=\"translate(13.5625 224.885394)scale(0.1 -0.1)\">\r\n       <use xlink:href=\"#DejaVuSans-50\"/>\r\n       <use x=\"63.623047\" xlink:href=\"#DejaVuSans-48\"/>\r\n      </g>\r\n     </g>\r\n    </g>\r\n    <g id=\"ytick_22\">\r\n     <g id=\"line2d_27\">\r\n      <g>\r\n       <use style=\"stroke:#000000;stroke-width:0.8;\" x=\"33.2875\" xlink:href=\"#m7d443d45af\" y=\"220.73603\"/>\r\n      </g>\r\n     </g>\r\n     <g id=\"text_27\">\r\n      <!-- 21 -->\r\n      <g transform=\"translate(13.5625 224.535249)scale(0.1 -0.1)\">\r\n       <use xlink:href=\"#DejaVuSans-50\"/>\r\n       <use x=\"63.623047\" xlink:href=\"#DejaVuSans-49\"/>\r\n      </g>\r\n     </g>\r\n    </g>\r\n    <g id=\"ytick_23\">\r\n     <g id=\"line2d_28\">\r\n      <g>\r\n       <use style=\"stroke:#000000;stroke-width:0.8;\" x=\"33.2875\" xlink:href=\"#m7d443d45af\" y=\"220.385885\"/>\r\n      </g>\r\n     </g>\r\n     <g id=\"text_28\">\r\n      <!-- 22 -->\r\n      <g transform=\"translate(13.5625 224.185104)scale(0.1 -0.1)\">\r\n       <use xlink:href=\"#DejaVuSans-50\"/>\r\n       <use x=\"63.623047\" xlink:href=\"#DejaVuSans-50\"/>\r\n      </g>\r\n     </g>\r\n    </g>\r\n    <g id=\"ytick_24\">\r\n     <g id=\"line2d_29\">\r\n      <g>\r\n       <use style=\"stroke:#000000;stroke-width:0.8;\" x=\"33.2875\" xlink:href=\"#m7d443d45af\" y=\"220.03574\"/>\r\n      </g>\r\n     </g>\r\n     <g id=\"text_29\">\r\n      <!-- 23 -->\r\n      <g transform=\"translate(13.5625 223.834959)scale(0.1 -0.1)\">\r\n       <use xlink:href=\"#DejaVuSans-50\"/>\r\n       <use x=\"63.623047\" xlink:href=\"#DejaVuSans-51\"/>\r\n      </g>\r\n     </g>\r\n    </g>\r\n    <g id=\"ytick_25\">\r\n     <g id=\"line2d_30\">\r\n      <g>\r\n       <use style=\"stroke:#000000;stroke-width:0.8;\" x=\"33.2875\" xlink:href=\"#m7d443d45af\" y=\"219.685596\"/>\r\n      </g>\r\n     </g>\r\n     <g id=\"text_30\">\r\n      <!-- 24 -->\r\n      <g transform=\"translate(13.5625 223.484814)scale(0.1 -0.1)\">\r\n       <use xlink:href=\"#DejaVuSans-50\"/>\r\n       <use x=\"63.623047\" xlink:href=\"#DejaVuSans-52\"/>\r\n      </g>\r\n     </g>\r\n    </g>\r\n    <g id=\"ytick_26\">\r\n     <g id=\"line2d_31\">\r\n      <g>\r\n       <use style=\"stroke:#000000;stroke-width:0.8;\" x=\"33.2875\" xlink:href=\"#m7d443d45af\" y=\"219.335451\"/>\r\n      </g>\r\n     </g>\r\n     <g id=\"text_31\">\r\n      <!-- 25 -->\r\n      <g transform=\"translate(13.5625 223.134669)scale(0.1 -0.1)\">\r\n       <use xlink:href=\"#DejaVuSans-50\"/>\r\n       <use x=\"63.623047\" xlink:href=\"#DejaVuSans-53\"/>\r\n      </g>\r\n     </g>\r\n    </g>\r\n    <g id=\"ytick_27\">\r\n     <g id=\"line2d_32\">\r\n      <g>\r\n       <use style=\"stroke:#000000;stroke-width:0.8;\" x=\"33.2875\" xlink:href=\"#m7d443d45af\" y=\"218.985306\"/>\r\n      </g>\r\n     </g>\r\n     <g id=\"text_32\">\r\n      <!-- 26 -->\r\n      <g transform=\"translate(13.5625 222.784524)scale(0.1 -0.1)\">\r\n       <use xlink:href=\"#DejaVuSans-50\"/>\r\n       <use x=\"63.623047\" xlink:href=\"#DejaVuSans-54\"/>\r\n      </g>\r\n     </g>\r\n    </g>\r\n    <g id=\"ytick_28\">\r\n     <g id=\"line2d_33\">\r\n      <g>\r\n       <use style=\"stroke:#000000;stroke-width:0.8;\" x=\"33.2875\" xlink:href=\"#m7d443d45af\" y=\"218.635161\"/>\r\n      </g>\r\n     </g>\r\n     <g id=\"text_33\">\r\n      <!-- 27 -->\r\n      <g transform=\"translate(13.5625 222.43438)scale(0.1 -0.1)\">\r\n       <use xlink:href=\"#DejaVuSans-50\"/>\r\n       <use x=\"63.623047\" xlink:href=\"#DejaVuSans-55\"/>\r\n      </g>\r\n     </g>\r\n    </g>\r\n    <g id=\"ytick_29\">\r\n     <g id=\"line2d_34\">\r\n      <g>\r\n       <use style=\"stroke:#000000;stroke-width:0.8;\" x=\"33.2875\" xlink:href=\"#m7d443d45af\" y=\"218.285016\"/>\r\n      </g>\r\n     </g>\r\n     <g id=\"text_34\">\r\n      <!-- 28 -->\r\n      <g transform=\"translate(13.5625 222.084235)scale(0.1 -0.1)\">\r\n       <use xlink:href=\"#DejaVuSans-50\"/>\r\n       <use x=\"63.623047\" xlink:href=\"#DejaVuSans-56\"/>\r\n      </g>\r\n     </g>\r\n    </g>\r\n    <g id=\"ytick_30\">\r\n     <g id=\"line2d_35\">\r\n      <g>\r\n       <use style=\"stroke:#000000;stroke-width:0.8;\" x=\"33.2875\" xlink:href=\"#m7d443d45af\" y=\"217.934871\"/>\r\n      </g>\r\n     </g>\r\n     <g id=\"text_35\">\r\n      <!-- 29 -->\r\n      <g transform=\"translate(13.5625 221.73409)scale(0.1 -0.1)\">\r\n       <use xlink:href=\"#DejaVuSans-50\"/>\r\n       <use x=\"63.623047\" xlink:href=\"#DejaVuSans-57\"/>\r\n      </g>\r\n     </g>\r\n    </g>\r\n    <g id=\"ytick_31\">\r\n     <g id=\"line2d_36\">\r\n      <g>\r\n       <use style=\"stroke:#000000;stroke-width:0.8;\" x=\"33.2875\" xlink:href=\"#m7d443d45af\" y=\"217.584726\"/>\r\n      </g>\r\n     </g>\r\n     <g id=\"text_36\">\r\n      <!-- 30 -->\r\n      <g transform=\"translate(13.5625 221.383945)scale(0.1 -0.1)\">\r\n       <use xlink:href=\"#DejaVuSans-51\"/>\r\n       <use x=\"63.623047\" xlink:href=\"#DejaVuSans-48\"/>\r\n      </g>\r\n     </g>\r\n    </g>\r\n    <g id=\"ytick_32\">\r\n     <g id=\"line2d_37\">\r\n      <g>\r\n       <use style=\"stroke:#000000;stroke-width:0.8;\" x=\"33.2875\" xlink:href=\"#m7d443d45af\" y=\"217.234581\"/>\r\n      </g>\r\n     </g>\r\n     <g id=\"text_37\">\r\n      <!-- 31 -->\r\n      <g transform=\"translate(13.5625 221.0338)scale(0.1 -0.1)\">\r\n       <use xlink:href=\"#DejaVuSans-51\"/>\r\n       <use x=\"63.623047\" xlink:href=\"#DejaVuSans-49\"/>\r\n      </g>\r\n     </g>\r\n    </g>\r\n    <g id=\"ytick_33\">\r\n     <g id=\"line2d_38\">\r\n      <g>\r\n       <use style=\"stroke:#000000;stroke-width:0.8;\" x=\"33.2875\" xlink:href=\"#m7d443d45af\" y=\"216.884436\"/>\r\n      </g>\r\n     </g>\r\n     <g id=\"text_38\">\r\n      <!-- 32 -->\r\n      <g transform=\"translate(13.5625 220.683655)scale(0.1 -0.1)\">\r\n       <use xlink:href=\"#DejaVuSans-51\"/>\r\n       <use x=\"63.623047\" xlink:href=\"#DejaVuSans-50\"/>\r\n      </g>\r\n     </g>\r\n    </g>\r\n    <g id=\"ytick_34\">\r\n     <g id=\"line2d_39\">\r\n      <g>\r\n       <use style=\"stroke:#000000;stroke-width:0.8;\" x=\"33.2875\" xlink:href=\"#m7d443d45af\" y=\"216.534291\"/>\r\n      </g>\r\n     </g>\r\n     <g id=\"text_39\">\r\n      <!-- 33 -->\r\n      <g transform=\"translate(13.5625 220.33351)scale(0.1 -0.1)\">\r\n       <use xlink:href=\"#DejaVuSans-51\"/>\r\n       <use x=\"63.623047\" xlink:href=\"#DejaVuSans-51\"/>\r\n      </g>\r\n     </g>\r\n    </g>\r\n    <g id=\"ytick_35\">\r\n     <g id=\"line2d_40\">\r\n      <g>\r\n       <use style=\"stroke:#000000;stroke-width:0.8;\" x=\"33.2875\" xlink:href=\"#m7d443d45af\" y=\"216.184146\"/>\r\n      </g>\r\n     </g>\r\n     <g id=\"text_40\">\r\n      <!-- 34 -->\r\n      <g transform=\"translate(13.5625 219.983365)scale(0.1 -0.1)\">\r\n       <use xlink:href=\"#DejaVuSans-51\"/>\r\n       <use x=\"63.623047\" xlink:href=\"#DejaVuSans-52\"/>\r\n      </g>\r\n     </g>\r\n    </g>\r\n    <g id=\"ytick_36\">\r\n     <g id=\"line2d_41\">\r\n      <g>\r\n       <use style=\"stroke:#000000;stroke-width:0.8;\" x=\"33.2875\" xlink:href=\"#m7d443d45af\" y=\"215.834001\"/>\r\n      </g>\r\n     </g>\r\n     <g id=\"text_41\">\r\n      <!-- 35 -->\r\n      <g transform=\"translate(13.5625 219.63322)scale(0.1 -0.1)\">\r\n       <use xlink:href=\"#DejaVuSans-51\"/>\r\n       <use x=\"63.623047\" xlink:href=\"#DejaVuSans-53\"/>\r\n      </g>\r\n     </g>\r\n    </g>\r\n    <g id=\"ytick_37\">\r\n     <g id=\"line2d_42\">\r\n      <g>\r\n       <use style=\"stroke:#000000;stroke-width:0.8;\" x=\"33.2875\" xlink:href=\"#m7d443d45af\" y=\"215.483856\"/>\r\n      </g>\r\n     </g>\r\n     <g id=\"text_42\">\r\n      <!-- 36 -->\r\n      <g transform=\"translate(13.5625 219.283075)scale(0.1 -0.1)\">\r\n       <use xlink:href=\"#DejaVuSans-51\"/>\r\n       <use x=\"63.623047\" xlink:href=\"#DejaVuSans-54\"/>\r\n      </g>\r\n     </g>\r\n    </g>\r\n    <g id=\"ytick_38\">\r\n     <g id=\"line2d_43\">\r\n      <g>\r\n       <use style=\"stroke:#000000;stroke-width:0.8;\" x=\"33.2875\" xlink:href=\"#m7d443d45af\" y=\"215.133712\"/>\r\n      </g>\r\n     </g>\r\n     <g id=\"text_43\">\r\n      <!-- 37 -->\r\n      <g transform=\"translate(13.5625 218.93293)scale(0.1 -0.1)\">\r\n       <use xlink:href=\"#DejaVuSans-51\"/>\r\n       <use x=\"63.623047\" xlink:href=\"#DejaVuSans-55\"/>\r\n      </g>\r\n     </g>\r\n    </g>\r\n    <g id=\"ytick_39\">\r\n     <g id=\"line2d_44\">\r\n      <g>\r\n       <use style=\"stroke:#000000;stroke-width:0.8;\" x=\"33.2875\" xlink:href=\"#m7d443d45af\" y=\"214.783567\"/>\r\n      </g>\r\n     </g>\r\n     <g id=\"text_44\">\r\n      <!-- 38 -->\r\n      <g transform=\"translate(13.5625 218.582785)scale(0.1 -0.1)\">\r\n       <use xlink:href=\"#DejaVuSans-51\"/>\r\n       <use x=\"63.623047\" xlink:href=\"#DejaVuSans-56\"/>\r\n      </g>\r\n     </g>\r\n    </g>\r\n    <g id=\"ytick_40\">\r\n     <g id=\"line2d_45\">\r\n      <g>\r\n       <use style=\"stroke:#000000;stroke-width:0.8;\" x=\"33.2875\" xlink:href=\"#m7d443d45af\" y=\"214.433422\"/>\r\n      </g>\r\n     </g>\r\n     <g id=\"text_45\">\r\n      <!-- 39 -->\r\n      <g transform=\"translate(13.5625 218.23264)scale(0.1 -0.1)\">\r\n       <use xlink:href=\"#DejaVuSans-51\"/>\r\n       <use x=\"63.623047\" xlink:href=\"#DejaVuSans-57\"/>\r\n      </g>\r\n     </g>\r\n    </g>\r\n    <g id=\"ytick_41\">\r\n     <g id=\"line2d_46\">\r\n      <g>\r\n       <use style=\"stroke:#000000;stroke-width:0.8;\" x=\"33.2875\" xlink:href=\"#m7d443d45af\" y=\"214.083277\"/>\r\n      </g>\r\n     </g>\r\n     <g id=\"text_46\">\r\n      <!-- 40 -->\r\n      <g transform=\"translate(13.5625 217.882495)scale(0.1 -0.1)\">\r\n       <use xlink:href=\"#DejaVuSans-52\"/>\r\n       <use x=\"63.623047\" xlink:href=\"#DejaVuSans-48\"/>\r\n      </g>\r\n     </g>\r\n    </g>\r\n    <g id=\"ytick_42\">\r\n     <g id=\"line2d_47\">\r\n      <g>\r\n       <use style=\"stroke:#000000;stroke-width:0.8;\" x=\"33.2875\" xlink:href=\"#m7d443d45af\" y=\"213.733132\"/>\r\n      </g>\r\n     </g>\r\n     <g id=\"text_47\">\r\n      <!-- 41 -->\r\n      <g transform=\"translate(13.5625 217.532351)scale(0.1 -0.1)\">\r\n       <use xlink:href=\"#DejaVuSans-52\"/>\r\n       <use x=\"63.623047\" xlink:href=\"#DejaVuSans-49\"/>\r\n      </g>\r\n     </g>\r\n    </g>\r\n    <g id=\"ytick_43\">\r\n     <g id=\"line2d_48\">\r\n      <g>\r\n       <use style=\"stroke:#000000;stroke-width:0.8;\" x=\"33.2875\" xlink:href=\"#m7d443d45af\" y=\"213.382987\"/>\r\n      </g>\r\n     </g>\r\n     <g id=\"text_48\">\r\n      <!-- 42 -->\r\n      <g transform=\"translate(13.5625 217.182206)scale(0.1 -0.1)\">\r\n       <use xlink:href=\"#DejaVuSans-52\"/>\r\n       <use x=\"63.623047\" xlink:href=\"#DejaVuSans-50\"/>\r\n      </g>\r\n     </g>\r\n    </g>\r\n    <g id=\"ytick_44\">\r\n     <g id=\"line2d_49\">\r\n      <g>\r\n       <use style=\"stroke:#000000;stroke-width:0.8;\" x=\"33.2875\" xlink:href=\"#m7d443d45af\" y=\"213.032842\"/>\r\n      </g>\r\n     </g>\r\n     <g id=\"text_49\">\r\n      <!-- 43 -->\r\n      <g transform=\"translate(13.5625 216.832061)scale(0.1 -0.1)\">\r\n       <use xlink:href=\"#DejaVuSans-52\"/>\r\n       <use x=\"63.623047\" xlink:href=\"#DejaVuSans-51\"/>\r\n      </g>\r\n     </g>\r\n    </g>\r\n    <g id=\"ytick_45\">\r\n     <g id=\"line2d_50\">\r\n      <g>\r\n       <use style=\"stroke:#000000;stroke-width:0.8;\" x=\"33.2875\" xlink:href=\"#m7d443d45af\" y=\"212.682697\"/>\r\n      </g>\r\n     </g>\r\n     <g id=\"text_50\">\r\n      <!-- 44 -->\r\n      <g transform=\"translate(13.5625 216.481916)scale(0.1 -0.1)\">\r\n       <use xlink:href=\"#DejaVuSans-52\"/>\r\n       <use x=\"63.623047\" xlink:href=\"#DejaVuSans-52\"/>\r\n      </g>\r\n     </g>\r\n    </g>\r\n    <g id=\"ytick_46\">\r\n     <g id=\"line2d_51\">\r\n      <g>\r\n       <use style=\"stroke:#000000;stroke-width:0.8;\" x=\"33.2875\" xlink:href=\"#m7d443d45af\" y=\"212.332552\"/>\r\n      </g>\r\n     </g>\r\n     <g id=\"text_51\">\r\n      <!-- 45 -->\r\n      <g transform=\"translate(13.5625 216.131771)scale(0.1 -0.1)\">\r\n       <use xlink:href=\"#DejaVuSans-52\"/>\r\n       <use x=\"63.623047\" xlink:href=\"#DejaVuSans-53\"/>\r\n      </g>\r\n     </g>\r\n    </g>\r\n    <g id=\"ytick_47\">\r\n     <g id=\"line2d_52\">\r\n      <g>\r\n       <use style=\"stroke:#000000;stroke-width:0.8;\" x=\"33.2875\" xlink:href=\"#m7d443d45af\" y=\"211.982407\"/>\r\n      </g>\r\n     </g>\r\n     <g id=\"text_52\">\r\n      <!-- 46 -->\r\n      <g transform=\"translate(13.5625 215.781626)scale(0.1 -0.1)\">\r\n       <use xlink:href=\"#DejaVuSans-52\"/>\r\n       <use x=\"63.623047\" xlink:href=\"#DejaVuSans-54\"/>\r\n      </g>\r\n     </g>\r\n    </g>\r\n    <g id=\"ytick_48\">\r\n     <g id=\"line2d_53\">\r\n      <g>\r\n       <use style=\"stroke:#000000;stroke-width:0.8;\" x=\"33.2875\" xlink:href=\"#m7d443d45af\" y=\"211.632262\"/>\r\n      </g>\r\n     </g>\r\n     <g id=\"text_53\">\r\n      <!-- 47 -->\r\n      <g transform=\"translate(13.5625 215.431481)scale(0.1 -0.1)\">\r\n       <use xlink:href=\"#DejaVuSans-52\"/>\r\n       <use x=\"63.623047\" xlink:href=\"#DejaVuSans-55\"/>\r\n      </g>\r\n     </g>\r\n    </g>\r\n    <g id=\"ytick_49\">\r\n     <g id=\"line2d_54\">\r\n      <g>\r\n       <use style=\"stroke:#000000;stroke-width:0.8;\" x=\"33.2875\" xlink:href=\"#m7d443d45af\" y=\"211.282117\"/>\r\n      </g>\r\n     </g>\r\n     <g id=\"text_54\">\r\n      <!-- 48 -->\r\n      <g transform=\"translate(13.5625 215.081336)scale(0.1 -0.1)\">\r\n       <use xlink:href=\"#DejaVuSans-52\"/>\r\n       <use x=\"63.623047\" xlink:href=\"#DejaVuSans-56\"/>\r\n      </g>\r\n     </g>\r\n    </g>\r\n    <g id=\"ytick_50\">\r\n     <g id=\"line2d_55\">\r\n      <g>\r\n       <use style=\"stroke:#000000;stroke-width:0.8;\" x=\"33.2875\" xlink:href=\"#m7d443d45af\" y=\"210.931972\"/>\r\n      </g>\r\n     </g>\r\n     <g id=\"text_55\">\r\n      <!-- 49 -->\r\n      <g transform=\"translate(13.5625 214.731191)scale(0.1 -0.1)\">\r\n       <use xlink:href=\"#DejaVuSans-52\"/>\r\n       <use x=\"63.623047\" xlink:href=\"#DejaVuSans-57\"/>\r\n      </g>\r\n     </g>\r\n    </g>\r\n    <g id=\"ytick_51\">\r\n     <g id=\"line2d_56\">\r\n      <g>\r\n       <use style=\"stroke:#000000;stroke-width:0.8;\" x=\"33.2875\" xlink:href=\"#m7d443d45af\" y=\"210.581827\"/>\r\n      </g>\r\n     </g>\r\n     <g id=\"text_56\">\r\n      <!-- 50 -->\r\n      <g transform=\"translate(13.5625 214.381046)scale(0.1 -0.1)\">\r\n       <use xlink:href=\"#DejaVuSans-53\"/>\r\n       <use x=\"63.623047\" xlink:href=\"#DejaVuSans-48\"/>\r\n      </g>\r\n     </g>\r\n    </g>\r\n    <g id=\"ytick_52\">\r\n     <g id=\"line2d_57\">\r\n      <g>\r\n       <use style=\"stroke:#000000;stroke-width:0.8;\" x=\"33.2875\" xlink:href=\"#m7d443d45af\" y=\"210.231683\"/>\r\n      </g>\r\n     </g>\r\n     <g id=\"text_57\">\r\n      <!-- 51 -->\r\n      <g transform=\"translate(13.5625 214.030901)scale(0.1 -0.1)\">\r\n       <use xlink:href=\"#DejaVuSans-53\"/>\r\n       <use x=\"63.623047\" xlink:href=\"#DejaVuSans-49\"/>\r\n      </g>\r\n     </g>\r\n    </g>\r\n    <g id=\"ytick_53\">\r\n     <g id=\"line2d_58\">\r\n      <g>\r\n       <use style=\"stroke:#000000;stroke-width:0.8;\" x=\"33.2875\" xlink:href=\"#m7d443d45af\" y=\"209.881538\"/>\r\n      </g>\r\n     </g>\r\n     <g id=\"text_58\">\r\n      <!-- 52 -->\r\n      <g transform=\"translate(13.5625 213.680756)scale(0.1 -0.1)\">\r\n       <use xlink:href=\"#DejaVuSans-53\"/>\r\n       <use x=\"63.623047\" xlink:href=\"#DejaVuSans-50\"/>\r\n      </g>\r\n     </g>\r\n    </g>\r\n    <g id=\"ytick_54\">\r\n     <g id=\"line2d_59\">\r\n      <g>\r\n       <use style=\"stroke:#000000;stroke-width:0.8;\" x=\"33.2875\" xlink:href=\"#m7d443d45af\" y=\"209.531393\"/>\r\n      </g>\r\n     </g>\r\n     <g id=\"text_59\">\r\n      <!-- 53 -->\r\n      <g transform=\"translate(13.5625 213.330611)scale(0.1 -0.1)\">\r\n       <use xlink:href=\"#DejaVuSans-53\"/>\r\n       <use x=\"63.623047\" xlink:href=\"#DejaVuSans-51\"/>\r\n      </g>\r\n     </g>\r\n    </g>\r\n    <g id=\"ytick_55\">\r\n     <g id=\"line2d_60\">\r\n      <g>\r\n       <use style=\"stroke:#000000;stroke-width:0.8;\" x=\"33.2875\" xlink:href=\"#m7d443d45af\" y=\"209.181248\"/>\r\n      </g>\r\n     </g>\r\n     <g id=\"text_60\">\r\n      <!-- 54 -->\r\n      <g transform=\"translate(13.5625 212.980466)scale(0.1 -0.1)\">\r\n       <use xlink:href=\"#DejaVuSans-53\"/>\r\n       <use x=\"63.623047\" xlink:href=\"#DejaVuSans-52\"/>\r\n      </g>\r\n     </g>\r\n    </g>\r\n    <g id=\"ytick_56\">\r\n     <g id=\"line2d_61\">\r\n      <g>\r\n       <use style=\"stroke:#000000;stroke-width:0.8;\" x=\"33.2875\" xlink:href=\"#m7d443d45af\" y=\"208.831103\"/>\r\n      </g>\r\n     </g>\r\n     <g id=\"text_61\">\r\n      <!-- 55 -->\r\n      <g transform=\"translate(13.5625 212.630322)scale(0.1 -0.1)\">\r\n       <use xlink:href=\"#DejaVuSans-53\"/>\r\n       <use x=\"63.623047\" xlink:href=\"#DejaVuSans-53\"/>\r\n      </g>\r\n     </g>\r\n    </g>\r\n    <g id=\"ytick_57\">\r\n     <g id=\"line2d_62\">\r\n      <g>\r\n       <use style=\"stroke:#000000;stroke-width:0.8;\" x=\"33.2875\" xlink:href=\"#m7d443d45af\" y=\"208.480958\"/>\r\n      </g>\r\n     </g>\r\n     <g id=\"text_62\">\r\n      <!-- 56 -->\r\n      <g transform=\"translate(13.5625 212.280177)scale(0.1 -0.1)\">\r\n       <use xlink:href=\"#DejaVuSans-53\"/>\r\n       <use x=\"63.623047\" xlink:href=\"#DejaVuSans-54\"/>\r\n      </g>\r\n     </g>\r\n    </g>\r\n    <g id=\"ytick_58\">\r\n     <g id=\"line2d_63\">\r\n      <g>\r\n       <use style=\"stroke:#000000;stroke-width:0.8;\" x=\"33.2875\" xlink:href=\"#m7d443d45af\" y=\"208.130813\"/>\r\n      </g>\r\n     </g>\r\n     <g id=\"text_63\">\r\n      <!-- 57 -->\r\n      <g transform=\"translate(13.5625 211.930032)scale(0.1 -0.1)\">\r\n       <use xlink:href=\"#DejaVuSans-53\"/>\r\n       <use x=\"63.623047\" xlink:href=\"#DejaVuSans-55\"/>\r\n      </g>\r\n     </g>\r\n    </g>\r\n    <g id=\"ytick_59\">\r\n     <g id=\"line2d_64\">\r\n      <g>\r\n       <use style=\"stroke:#000000;stroke-width:0.8;\" x=\"33.2875\" xlink:href=\"#m7d443d45af\" y=\"207.780668\"/>\r\n      </g>\r\n     </g>\r\n     <g id=\"text_64\">\r\n      <!-- 58 -->\r\n      <g transform=\"translate(13.5625 211.579887)scale(0.1 -0.1)\">\r\n       <use xlink:href=\"#DejaVuSans-53\"/>\r\n       <use x=\"63.623047\" xlink:href=\"#DejaVuSans-56\"/>\r\n      </g>\r\n     </g>\r\n    </g>\r\n    <g id=\"ytick_60\">\r\n     <g id=\"line2d_65\">\r\n      <g>\r\n       <use style=\"stroke:#000000;stroke-width:0.8;\" x=\"33.2875\" xlink:href=\"#m7d443d45af\" y=\"207.430523\"/>\r\n      </g>\r\n     </g>\r\n     <g id=\"text_65\">\r\n      <!-- 59 -->\r\n      <g transform=\"translate(13.5625 211.229742)scale(0.1 -0.1)\">\r\n       <use xlink:href=\"#DejaVuSans-53\"/>\r\n       <use x=\"63.623047\" xlink:href=\"#DejaVuSans-57\"/>\r\n      </g>\r\n     </g>\r\n    </g>\r\n    <g id=\"ytick_61\">\r\n     <g id=\"line2d_66\">\r\n      <g>\r\n       <use style=\"stroke:#000000;stroke-width:0.8;\" x=\"33.2875\" xlink:href=\"#m7d443d45af\" y=\"207.080378\"/>\r\n      </g>\r\n     </g>\r\n     <g id=\"text_66\">\r\n      <!-- 60 -->\r\n      <g transform=\"translate(13.5625 210.879597)scale(0.1 -0.1)\">\r\n       <use xlink:href=\"#DejaVuSans-54\"/>\r\n       <use x=\"63.623047\" xlink:href=\"#DejaVuSans-48\"/>\r\n      </g>\r\n     </g>\r\n    </g>\r\n    <g id=\"ytick_62\">\r\n     <g id=\"line2d_67\">\r\n      <g>\r\n       <use style=\"stroke:#000000;stroke-width:0.8;\" x=\"33.2875\" xlink:href=\"#m7d443d45af\" y=\"206.730233\"/>\r\n      </g>\r\n     </g>\r\n     <g id=\"text_67\">\r\n      <!-- 61 -->\r\n      <g transform=\"translate(13.5625 210.529452)scale(0.1 -0.1)\">\r\n       <use xlink:href=\"#DejaVuSans-54\"/>\r\n       <use x=\"63.623047\" xlink:href=\"#DejaVuSans-49\"/>\r\n      </g>\r\n     </g>\r\n    </g>\r\n    <g id=\"ytick_63\">\r\n     <g id=\"line2d_68\">\r\n      <g>\r\n       <use style=\"stroke:#000000;stroke-width:0.8;\" x=\"33.2875\" xlink:href=\"#m7d443d45af\" y=\"206.380088\"/>\r\n      </g>\r\n     </g>\r\n     <g id=\"text_68\">\r\n      <!-- 62 -->\r\n      <g transform=\"translate(13.5625 210.179307)scale(0.1 -0.1)\">\r\n       <use xlink:href=\"#DejaVuSans-54\"/>\r\n       <use x=\"63.623047\" xlink:href=\"#DejaVuSans-50\"/>\r\n      </g>\r\n     </g>\r\n    </g>\r\n    <g id=\"ytick_64\">\r\n     <g id=\"line2d_69\">\r\n      <g>\r\n       <use style=\"stroke:#000000;stroke-width:0.8;\" x=\"33.2875\" xlink:href=\"#m7d443d45af\" y=\"206.029943\"/>\r\n      </g>\r\n     </g>\r\n     <g id=\"text_69\">\r\n      <!-- 63 -->\r\n      <g transform=\"translate(13.5625 209.829162)scale(0.1 -0.1)\">\r\n       <use xlink:href=\"#DejaVuSans-54\"/>\r\n       <use x=\"63.623047\" xlink:href=\"#DejaVuSans-51\"/>\r\n      </g>\r\n     </g>\r\n    </g>\r\n    <g id=\"ytick_65\">\r\n     <g id=\"line2d_70\">\r\n      <g>\r\n       <use style=\"stroke:#000000;stroke-width:0.8;\" x=\"33.2875\" xlink:href=\"#m7d443d45af\" y=\"205.679798\"/>\r\n      </g>\r\n     </g>\r\n     <g id=\"text_70\">\r\n      <!-- 64 -->\r\n      <g transform=\"translate(13.5625 209.479017)scale(0.1 -0.1)\">\r\n       <use xlink:href=\"#DejaVuSans-54\"/>\r\n       <use x=\"63.623047\" xlink:href=\"#DejaVuSans-52\"/>\r\n      </g>\r\n     </g>\r\n    </g>\r\n    <g id=\"ytick_66\">\r\n     <g id=\"line2d_71\">\r\n      <g>\r\n       <use style=\"stroke:#000000;stroke-width:0.8;\" x=\"33.2875\" xlink:href=\"#m7d443d45af\" y=\"205.329654\"/>\r\n      </g>\r\n     </g>\r\n     <g id=\"text_71\">\r\n      <!-- 65 -->\r\n      <g transform=\"translate(13.5625 209.128872)scale(0.1 -0.1)\">\r\n       <use xlink:href=\"#DejaVuSans-54\"/>\r\n       <use x=\"63.623047\" xlink:href=\"#DejaVuSans-53\"/>\r\n      </g>\r\n     </g>\r\n    </g>\r\n    <g id=\"ytick_67\">\r\n     <g id=\"line2d_72\">\r\n      <g>\r\n       <use style=\"stroke:#000000;stroke-width:0.8;\" x=\"33.2875\" xlink:href=\"#m7d443d45af\" y=\"204.979509\"/>\r\n      </g>\r\n     </g>\r\n     <g id=\"text_72\">\r\n      <!-- 66 -->\r\n      <g transform=\"translate(13.5625 208.778727)scale(0.1 -0.1)\">\r\n       <use xlink:href=\"#DejaVuSans-54\"/>\r\n       <use x=\"63.623047\" xlink:href=\"#DejaVuSans-54\"/>\r\n      </g>\r\n     </g>\r\n    </g>\r\n    <g id=\"ytick_68\">\r\n     <g id=\"line2d_73\">\r\n      <g>\r\n       <use style=\"stroke:#000000;stroke-width:0.8;\" x=\"33.2875\" xlink:href=\"#m7d443d45af\" y=\"204.629364\"/>\r\n      </g>\r\n     </g>\r\n     <g id=\"text_73\">\r\n      <!-- 67 -->\r\n      <g transform=\"translate(13.5625 208.428582)scale(0.1 -0.1)\">\r\n       <use xlink:href=\"#DejaVuSans-54\"/>\r\n       <use x=\"63.623047\" xlink:href=\"#DejaVuSans-55\"/>\r\n      </g>\r\n     </g>\r\n    </g>\r\n    <g id=\"ytick_69\">\r\n     <g id=\"line2d_74\">\r\n      <g>\r\n       <use style=\"stroke:#000000;stroke-width:0.8;\" x=\"33.2875\" xlink:href=\"#m7d443d45af\" y=\"204.279219\"/>\r\n      </g>\r\n     </g>\r\n     <g id=\"text_74\">\r\n      <!-- 68 -->\r\n      <g transform=\"translate(13.5625 208.078437)scale(0.1 -0.1)\">\r\n       <use xlink:href=\"#DejaVuSans-54\"/>\r\n       <use x=\"63.623047\" xlink:href=\"#DejaVuSans-56\"/>\r\n      </g>\r\n     </g>\r\n    </g>\r\n    <g id=\"ytick_70\">\r\n     <g id=\"line2d_75\">\r\n      <g>\r\n       <use style=\"stroke:#000000;stroke-width:0.8;\" x=\"33.2875\" xlink:href=\"#m7d443d45af\" y=\"203.929074\"/>\r\n      </g>\r\n     </g>\r\n     <g id=\"text_75\">\r\n      <!-- 69 -->\r\n      <g transform=\"translate(13.5625 207.728293)scale(0.1 -0.1)\">\r\n       <use xlink:href=\"#DejaVuSans-54\"/>\r\n       <use x=\"63.623047\" xlink:href=\"#DejaVuSans-57\"/>\r\n      </g>\r\n     </g>\r\n    </g>\r\n    <g id=\"ytick_71\">\r\n     <g id=\"line2d_76\">\r\n      <g>\r\n       <use style=\"stroke:#000000;stroke-width:0.8;\" x=\"33.2875\" xlink:href=\"#m7d443d45af\" y=\"203.578929\"/>\r\n      </g>\r\n     </g>\r\n     <g id=\"text_76\">\r\n      <!-- 70 -->\r\n      <g transform=\"translate(13.5625 207.378148)scale(0.1 -0.1)\">\r\n       <use xlink:href=\"#DejaVuSans-55\"/>\r\n       <use x=\"63.623047\" xlink:href=\"#DejaVuSans-48\"/>\r\n      </g>\r\n     </g>\r\n    </g>\r\n    <g id=\"ytick_72\">\r\n     <g id=\"line2d_77\">\r\n      <g>\r\n       <use style=\"stroke:#000000;stroke-width:0.8;\" x=\"33.2875\" xlink:href=\"#m7d443d45af\" y=\"203.228784\"/>\r\n      </g>\r\n     </g>\r\n     <g id=\"text_77\">\r\n      <!-- 71 -->\r\n      <g transform=\"translate(13.5625 207.028003)scale(0.1 -0.1)\">\r\n       <use xlink:href=\"#DejaVuSans-55\"/>\r\n       <use x=\"63.623047\" xlink:href=\"#DejaVuSans-49\"/>\r\n      </g>\r\n     </g>\r\n    </g>\r\n    <g id=\"ytick_73\">\r\n     <g id=\"line2d_78\">\r\n      <g>\r\n       <use style=\"stroke:#000000;stroke-width:0.8;\" x=\"33.2875\" xlink:href=\"#m7d443d45af\" y=\"202.878639\"/>\r\n      </g>\r\n     </g>\r\n     <g id=\"text_78\">\r\n      <!-- 72 -->\r\n      <g transform=\"translate(13.5625 206.677858)scale(0.1 -0.1)\">\r\n       <use xlink:href=\"#DejaVuSans-55\"/>\r\n       <use x=\"63.623047\" xlink:href=\"#DejaVuSans-50\"/>\r\n      </g>\r\n     </g>\r\n    </g>\r\n    <g id=\"ytick_74\">\r\n     <g id=\"line2d_79\">\r\n      <g>\r\n       <use style=\"stroke:#000000;stroke-width:0.8;\" x=\"33.2875\" xlink:href=\"#m7d443d45af\" y=\"202.528494\"/>\r\n      </g>\r\n     </g>\r\n     <g id=\"text_79\">\r\n      <!-- 73 -->\r\n      <g transform=\"translate(13.5625 206.327713)scale(0.1 -0.1)\">\r\n       <use xlink:href=\"#DejaVuSans-55\"/>\r\n       <use x=\"63.623047\" xlink:href=\"#DejaVuSans-51\"/>\r\n      </g>\r\n     </g>\r\n    </g>\r\n    <g id=\"ytick_75\">\r\n     <g id=\"line2d_80\">\r\n      <g>\r\n       <use style=\"stroke:#000000;stroke-width:0.8;\" x=\"33.2875\" xlink:href=\"#m7d443d45af\" y=\"202.178349\"/>\r\n      </g>\r\n     </g>\r\n     <g id=\"text_80\">\r\n      <!-- 74 -->\r\n      <g transform=\"translate(13.5625 205.977568)scale(0.1 -0.1)\">\r\n       <use xlink:href=\"#DejaVuSans-55\"/>\r\n       <use x=\"63.623047\" xlink:href=\"#DejaVuSans-52\"/>\r\n      </g>\r\n     </g>\r\n    </g>\r\n    <g id=\"ytick_76\">\r\n     <g id=\"line2d_81\">\r\n      <g>\r\n       <use style=\"stroke:#000000;stroke-width:0.8;\" x=\"33.2875\" xlink:href=\"#m7d443d45af\" y=\"201.828204\"/>\r\n      </g>\r\n     </g>\r\n     <g id=\"text_81\">\r\n      <!-- 75 -->\r\n      <g transform=\"translate(13.5625 205.627423)scale(0.1 -0.1)\">\r\n       <use xlink:href=\"#DejaVuSans-55\"/>\r\n       <use x=\"63.623047\" xlink:href=\"#DejaVuSans-53\"/>\r\n      </g>\r\n     </g>\r\n    </g>\r\n    <g id=\"ytick_77\">\r\n     <g id=\"line2d_82\">\r\n      <g>\r\n       <use style=\"stroke:#000000;stroke-width:0.8;\" x=\"33.2875\" xlink:href=\"#m7d443d45af\" y=\"201.478059\"/>\r\n      </g>\r\n     </g>\r\n     <g id=\"text_82\">\r\n      <!-- 76 -->\r\n      <g transform=\"translate(13.5625 205.277278)scale(0.1 -0.1)\">\r\n       <use xlink:href=\"#DejaVuSans-55\"/>\r\n       <use x=\"63.623047\" xlink:href=\"#DejaVuSans-54\"/>\r\n      </g>\r\n     </g>\r\n    </g>\r\n    <g id=\"ytick_78\">\r\n     <g id=\"line2d_83\">\r\n      <g>\r\n       <use style=\"stroke:#000000;stroke-width:0.8;\" x=\"33.2875\" xlink:href=\"#m7d443d45af\" y=\"201.127914\"/>\r\n      </g>\r\n     </g>\r\n     <g id=\"text_83\">\r\n      <!-- 77 -->\r\n      <g transform=\"translate(13.5625 204.927133)scale(0.1 -0.1)\">\r\n       <use xlink:href=\"#DejaVuSans-55\"/>\r\n       <use x=\"63.623047\" xlink:href=\"#DejaVuSans-55\"/>\r\n      </g>\r\n     </g>\r\n    </g>\r\n    <g id=\"ytick_79\">\r\n     <g id=\"line2d_84\">\r\n      <g>\r\n       <use style=\"stroke:#000000;stroke-width:0.8;\" x=\"33.2875\" xlink:href=\"#m7d443d45af\" y=\"200.777769\"/>\r\n      </g>\r\n     </g>\r\n     <g id=\"text_84\">\r\n      <!-- 78 -->\r\n      <g transform=\"translate(13.5625 204.576988)scale(0.1 -0.1)\">\r\n       <use xlink:href=\"#DejaVuSans-55\"/>\r\n       <use x=\"63.623047\" xlink:href=\"#DejaVuSans-56\"/>\r\n      </g>\r\n     </g>\r\n    </g>\r\n    <g id=\"ytick_80\">\r\n     <g id=\"line2d_85\">\r\n      <g>\r\n       <use style=\"stroke:#000000;stroke-width:0.8;\" x=\"33.2875\" xlink:href=\"#m7d443d45af\" y=\"200.427625\"/>\r\n      </g>\r\n     </g>\r\n     <g id=\"text_85\">\r\n      <!-- 79 -->\r\n      <g transform=\"translate(13.5625 204.226843)scale(0.1 -0.1)\">\r\n       <use xlink:href=\"#DejaVuSans-55\"/>\r\n       <use x=\"63.623047\" xlink:href=\"#DejaVuSans-57\"/>\r\n      </g>\r\n     </g>\r\n    </g>\r\n    <g id=\"ytick_81\">\r\n     <g id=\"line2d_86\">\r\n      <g>\r\n       <use style=\"stroke:#000000;stroke-width:0.8;\" x=\"33.2875\" xlink:href=\"#m7d443d45af\" y=\"200.07748\"/>\r\n      </g>\r\n     </g>\r\n     <g id=\"text_86\">\r\n      <!-- 80 -->\r\n      <g transform=\"translate(13.5625 203.876698)scale(0.1 -0.1)\">\r\n       <use xlink:href=\"#DejaVuSans-56\"/>\r\n       <use x=\"63.623047\" xlink:href=\"#DejaVuSans-48\"/>\r\n      </g>\r\n     </g>\r\n    </g>\r\n    <g id=\"ytick_82\">\r\n     <g id=\"line2d_87\">\r\n      <g>\r\n       <use style=\"stroke:#000000;stroke-width:0.8;\" x=\"33.2875\" xlink:href=\"#m7d443d45af\" y=\"199.727335\"/>\r\n      </g>\r\n     </g>\r\n     <g id=\"text_87\">\r\n      <!-- 81 -->\r\n      <g transform=\"translate(13.5625 203.526553)scale(0.1 -0.1)\">\r\n       <use xlink:href=\"#DejaVuSans-56\"/>\r\n       <use x=\"63.623047\" xlink:href=\"#DejaVuSans-49\"/>\r\n      </g>\r\n     </g>\r\n    </g>\r\n    <g id=\"ytick_83\">\r\n     <g id=\"line2d_88\">\r\n      <g>\r\n       <use style=\"stroke:#000000;stroke-width:0.8;\" x=\"33.2875\" xlink:href=\"#m7d443d45af\" y=\"199.37719\"/>\r\n      </g>\r\n     </g>\r\n     <g id=\"text_88\">\r\n      <!-- 82 -->\r\n      <g transform=\"translate(13.5625 203.176409)scale(0.1 -0.1)\">\r\n       <use xlink:href=\"#DejaVuSans-56\"/>\r\n       <use x=\"63.623047\" xlink:href=\"#DejaVuSans-50\"/>\r\n      </g>\r\n     </g>\r\n    </g>\r\n    <g id=\"ytick_84\">\r\n     <g id=\"line2d_89\">\r\n      <g>\r\n       <use style=\"stroke:#000000;stroke-width:0.8;\" x=\"33.2875\" xlink:href=\"#m7d443d45af\" y=\"199.027045\"/>\r\n      </g>\r\n     </g>\r\n     <g id=\"text_89\">\r\n      <!-- 83 -->\r\n      <g transform=\"translate(13.5625 202.826264)scale(0.1 -0.1)\">\r\n       <use xlink:href=\"#DejaVuSans-56\"/>\r\n       <use x=\"63.623047\" xlink:href=\"#DejaVuSans-51\"/>\r\n      </g>\r\n     </g>\r\n    </g>\r\n    <g id=\"ytick_85\">\r\n     <g id=\"line2d_90\">\r\n      <g>\r\n       <use style=\"stroke:#000000;stroke-width:0.8;\" x=\"33.2875\" xlink:href=\"#m7d443d45af\" y=\"198.6769\"/>\r\n      </g>\r\n     </g>\r\n     <g id=\"text_90\">\r\n      <!-- 84 -->\r\n      <g transform=\"translate(13.5625 202.476119)scale(0.1 -0.1)\">\r\n       <use xlink:href=\"#DejaVuSans-56\"/>\r\n       <use x=\"63.623047\" xlink:href=\"#DejaVuSans-52\"/>\r\n      </g>\r\n     </g>\r\n    </g>\r\n    <g id=\"ytick_86\">\r\n     <g id=\"line2d_91\">\r\n      <g>\r\n       <use style=\"stroke:#000000;stroke-width:0.8;\" x=\"33.2875\" xlink:href=\"#m7d443d45af\" y=\"198.326755\"/>\r\n      </g>\r\n     </g>\r\n     <g id=\"text_91\">\r\n      <!-- 85 -->\r\n      <g transform=\"translate(13.5625 202.125974)scale(0.1 -0.1)\">\r\n       <use xlink:href=\"#DejaVuSans-56\"/>\r\n       <use x=\"63.623047\" xlink:href=\"#DejaVuSans-53\"/>\r\n      </g>\r\n     </g>\r\n    </g>\r\n    <g id=\"ytick_87\">\r\n     <g id=\"line2d_92\">\r\n      <g>\r\n       <use style=\"stroke:#000000;stroke-width:0.8;\" x=\"33.2875\" xlink:href=\"#m7d443d45af\" y=\"197.97661\"/>\r\n      </g>\r\n     </g>\r\n     <g id=\"text_92\">\r\n      <!-- 86 -->\r\n      <g transform=\"translate(13.5625 201.775829)scale(0.1 -0.1)\">\r\n       <use xlink:href=\"#DejaVuSans-56\"/>\r\n       <use x=\"63.623047\" xlink:href=\"#DejaVuSans-54\"/>\r\n      </g>\r\n     </g>\r\n    </g>\r\n    <g id=\"ytick_88\">\r\n     <g id=\"line2d_93\">\r\n      <g>\r\n       <use style=\"stroke:#000000;stroke-width:0.8;\" x=\"33.2875\" xlink:href=\"#m7d443d45af\" y=\"197.626465\"/>\r\n      </g>\r\n     </g>\r\n     <g id=\"text_93\">\r\n      <!-- 87 -->\r\n      <g transform=\"translate(13.5625 201.425684)scale(0.1 -0.1)\">\r\n       <use xlink:href=\"#DejaVuSans-56\"/>\r\n       <use x=\"63.623047\" xlink:href=\"#DejaVuSans-55\"/>\r\n      </g>\r\n     </g>\r\n    </g>\r\n    <g id=\"ytick_89\">\r\n     <g id=\"line2d_94\">\r\n      <g>\r\n       <use style=\"stroke:#000000;stroke-width:0.8;\" x=\"33.2875\" xlink:href=\"#m7d443d45af\" y=\"197.27632\"/>\r\n      </g>\r\n     </g>\r\n     <g id=\"text_94\">\r\n      <!-- 88 -->\r\n      <g transform=\"translate(13.5625 201.075539)scale(0.1 -0.1)\">\r\n       <use xlink:href=\"#DejaVuSans-56\"/>\r\n       <use x=\"63.623047\" xlink:href=\"#DejaVuSans-56\"/>\r\n      </g>\r\n     </g>\r\n    </g>\r\n    <g id=\"ytick_90\">\r\n     <g id=\"line2d_95\">\r\n      <g>\r\n       <use style=\"stroke:#000000;stroke-width:0.8;\" x=\"33.2875\" xlink:href=\"#m7d443d45af\" y=\"196.926175\"/>\r\n      </g>\r\n     </g>\r\n     <g id=\"text_95\">\r\n      <!-- 89 -->\r\n      <g transform=\"translate(13.5625 200.725394)scale(0.1 -0.1)\">\r\n       <use xlink:href=\"#DejaVuSans-56\"/>\r\n       <use x=\"63.623047\" xlink:href=\"#DejaVuSans-57\"/>\r\n      </g>\r\n     </g>\r\n    </g>\r\n    <g id=\"ytick_91\">\r\n     <g id=\"line2d_96\">\r\n      <g>\r\n       <use style=\"stroke:#000000;stroke-width:0.8;\" x=\"33.2875\" xlink:href=\"#m7d443d45af\" y=\"196.57603\"/>\r\n      </g>\r\n     </g>\r\n     <g id=\"text_96\">\r\n      <!-- 90 -->\r\n      <g transform=\"translate(13.5625 200.375249)scale(0.1 -0.1)\">\r\n       <use xlink:href=\"#DejaVuSans-57\"/>\r\n       <use x=\"63.623047\" xlink:href=\"#DejaVuSans-48\"/>\r\n      </g>\r\n     </g>\r\n    </g>\r\n    <g id=\"ytick_92\">\r\n     <g id=\"line2d_97\">\r\n      <g>\r\n       <use style=\"stroke:#000000;stroke-width:0.8;\" x=\"33.2875\" xlink:href=\"#m7d443d45af\" y=\"196.225885\"/>\r\n      </g>\r\n     </g>\r\n     <g id=\"text_97\">\r\n      <!-- 91 -->\r\n      <g transform=\"translate(13.5625 200.025104)scale(0.1 -0.1)\">\r\n       <use xlink:href=\"#DejaVuSans-57\"/>\r\n       <use x=\"63.623047\" xlink:href=\"#DejaVuSans-49\"/>\r\n      </g>\r\n     </g>\r\n    </g>\r\n    <g id=\"ytick_93\">\r\n     <g id=\"line2d_98\">\r\n      <g>\r\n       <use style=\"stroke:#000000;stroke-width:0.8;\" x=\"33.2875\" xlink:href=\"#m7d443d45af\" y=\"195.87574\"/>\r\n      </g>\r\n     </g>\r\n     <g id=\"text_98\">\r\n      <!-- 92 -->\r\n      <g transform=\"translate(13.5625 199.674959)scale(0.1 -0.1)\">\r\n       <use xlink:href=\"#DejaVuSans-57\"/>\r\n       <use x=\"63.623047\" xlink:href=\"#DejaVuSans-50\"/>\r\n      </g>\r\n     </g>\r\n    </g>\r\n    <g id=\"ytick_94\">\r\n     <g id=\"line2d_99\">\r\n      <g>\r\n       <use style=\"stroke:#000000;stroke-width:0.8;\" x=\"33.2875\" xlink:href=\"#m7d443d45af\" y=\"195.525596\"/>\r\n      </g>\r\n     </g>\r\n     <g id=\"text_99\">\r\n      <!-- 93 -->\r\n      <g transform=\"translate(13.5625 199.324814)scale(0.1 -0.1)\">\r\n       <use xlink:href=\"#DejaVuSans-57\"/>\r\n       <use x=\"63.623047\" xlink:href=\"#DejaVuSans-51\"/>\r\n      </g>\r\n     </g>\r\n    </g>\r\n    <g id=\"ytick_95\">\r\n     <g id=\"line2d_100\">\r\n      <g>\r\n       <use style=\"stroke:#000000;stroke-width:0.8;\" x=\"33.2875\" xlink:href=\"#m7d443d45af\" y=\"195.175451\"/>\r\n      </g>\r\n     </g>\r\n     <g id=\"text_100\">\r\n      <!-- 94 -->\r\n      <g transform=\"translate(13.5625 198.974669)scale(0.1 -0.1)\">\r\n       <use xlink:href=\"#DejaVuSans-57\"/>\r\n       <use x=\"63.623047\" xlink:href=\"#DejaVuSans-52\"/>\r\n      </g>\r\n     </g>\r\n    </g>\r\n    <g id=\"ytick_96\">\r\n     <g id=\"line2d_101\">\r\n      <g>\r\n       <use style=\"stroke:#000000;stroke-width:0.8;\" x=\"33.2875\" xlink:href=\"#m7d443d45af\" y=\"194.825306\"/>\r\n      </g>\r\n     </g>\r\n     <g id=\"text_101\">\r\n      <!-- 95 -->\r\n      <g transform=\"translate(13.5625 198.624524)scale(0.1 -0.1)\">\r\n       <use xlink:href=\"#DejaVuSans-57\"/>\r\n       <use x=\"63.623047\" xlink:href=\"#DejaVuSans-53\"/>\r\n      </g>\r\n     </g>\r\n    </g>\r\n    <g id=\"ytick_97\">\r\n     <g id=\"line2d_102\">\r\n      <g>\r\n       <use style=\"stroke:#000000;stroke-width:0.8;\" x=\"33.2875\" xlink:href=\"#m7d443d45af\" y=\"194.475161\"/>\r\n      </g>\r\n     </g>\r\n     <g id=\"text_102\">\r\n      <!-- 96 -->\r\n      <g transform=\"translate(13.5625 198.27438)scale(0.1 -0.1)\">\r\n       <use xlink:href=\"#DejaVuSans-57\"/>\r\n       <use x=\"63.623047\" xlink:href=\"#DejaVuSans-54\"/>\r\n      </g>\r\n     </g>\r\n    </g>\r\n    <g id=\"ytick_98\">\r\n     <g id=\"line2d_103\">\r\n      <g>\r\n       <use style=\"stroke:#000000;stroke-width:0.8;\" x=\"33.2875\" xlink:href=\"#m7d443d45af\" y=\"194.125016\"/>\r\n      </g>\r\n     </g>\r\n     <g id=\"text_103\">\r\n      <!-- 97 -->\r\n      <g transform=\"translate(13.5625 197.924235)scale(0.1 -0.1)\">\r\n       <use xlink:href=\"#DejaVuSans-57\"/>\r\n       <use x=\"63.623047\" xlink:href=\"#DejaVuSans-55\"/>\r\n      </g>\r\n     </g>\r\n    </g>\r\n    <g id=\"ytick_99\">\r\n     <g id=\"line2d_104\">\r\n      <g>\r\n       <use style=\"stroke:#000000;stroke-width:0.8;\" x=\"33.2875\" xlink:href=\"#m7d443d45af\" y=\"193.774871\"/>\r\n      </g>\r\n     </g>\r\n     <g id=\"text_104\">\r\n      <!-- 98 -->\r\n      <g transform=\"translate(13.5625 197.57409)scale(0.1 -0.1)\">\r\n       <use xlink:href=\"#DejaVuSans-57\"/>\r\n       <use x=\"63.623047\" xlink:href=\"#DejaVuSans-56\"/>\r\n      </g>\r\n     </g>\r\n    </g>\r\n    <g id=\"ytick_100\">\r\n     <g id=\"line2d_105\">\r\n      <g>\r\n       <use style=\"stroke:#000000;stroke-width:0.8;\" x=\"33.2875\" xlink:href=\"#m7d443d45af\" y=\"193.424726\"/>\r\n      </g>\r\n     </g>\r\n     <g id=\"text_105\">\r\n      <!-- 99 -->\r\n      <g transform=\"translate(13.5625 197.223945)scale(0.1 -0.1)\">\r\n       <use xlink:href=\"#DejaVuSans-57\"/>\r\n       <use x=\"63.623047\" xlink:href=\"#DejaVuSans-57\"/>\r\n      </g>\r\n     </g>\r\n    </g>\r\n    <g id=\"ytick_101\">\r\n     <g id=\"line2d_106\">\r\n      <g>\r\n       <use style=\"stroke:#000000;stroke-width:0.8;\" x=\"33.2875\" xlink:href=\"#m7d443d45af\" y=\"193.074581\"/>\r\n      </g>\r\n     </g>\r\n     <g id=\"text_106\">\r\n      <!-- 100 -->\r\n      <g transform=\"translate(7.2 196.8738)scale(0.1 -0.1)\">\r\n       <use xlink:href=\"#DejaVuSans-49\"/>\r\n       <use x=\"63.623047\" xlink:href=\"#DejaVuSans-48\"/>\r\n       <use x=\"127.246094\" xlink:href=\"#DejaVuSans-48\"/>\r\n      </g>\r\n     </g>\r\n    </g>\r\n    <g id=\"ytick_102\">\r\n     <g id=\"line2d_107\">\r\n      <g>\r\n       <use style=\"stroke:#000000;stroke-width:0.8;\" x=\"33.2875\" xlink:href=\"#m7d443d45af\" y=\"192.724436\"/>\r\n      </g>\r\n     </g>\r\n     <g id=\"text_107\">\r\n      <!-- 101 -->\r\n      <g transform=\"translate(7.2 196.523655)scale(0.1 -0.1)\">\r\n       <use xlink:href=\"#DejaVuSans-49\"/>\r\n       <use x=\"63.623047\" xlink:href=\"#DejaVuSans-48\"/>\r\n       <use x=\"127.246094\" xlink:href=\"#DejaVuSans-49\"/>\r\n      </g>\r\n     </g>\r\n    </g>\r\n    <g id=\"ytick_103\">\r\n     <g id=\"line2d_108\">\r\n      <g>\r\n       <use style=\"stroke:#000000;stroke-width:0.8;\" x=\"33.2875\" xlink:href=\"#m7d443d45af\" y=\"192.374291\"/>\r\n      </g>\r\n     </g>\r\n     <g id=\"text_108\">\r\n      <!-- 102 -->\r\n      <g transform=\"translate(7.2 196.17351)scale(0.1 -0.1)\">\r\n       <use xlink:href=\"#DejaVuSans-49\"/>\r\n       <use x=\"63.623047\" xlink:href=\"#DejaVuSans-48\"/>\r\n       <use x=\"127.246094\" xlink:href=\"#DejaVuSans-50\"/>\r\n      </g>\r\n     </g>\r\n    </g>\r\n    <g id=\"ytick_104\">\r\n     <g id=\"line2d_109\">\r\n      <g>\r\n       <use style=\"stroke:#000000;stroke-width:0.8;\" x=\"33.2875\" xlink:href=\"#m7d443d45af\" y=\"192.024146\"/>\r\n      </g>\r\n     </g>\r\n     <g id=\"text_109\">\r\n      <!-- 103 -->\r\n      <g transform=\"translate(7.2 195.823365)scale(0.1 -0.1)\">\r\n       <use xlink:href=\"#DejaVuSans-49\"/>\r\n       <use x=\"63.623047\" xlink:href=\"#DejaVuSans-48\"/>\r\n       <use x=\"127.246094\" xlink:href=\"#DejaVuSans-51\"/>\r\n      </g>\r\n     </g>\r\n    </g>\r\n    <g id=\"ytick_105\">\r\n     <g id=\"line2d_110\">\r\n      <g>\r\n       <use style=\"stroke:#000000;stroke-width:0.8;\" x=\"33.2875\" xlink:href=\"#m7d443d45af\" y=\"191.674001\"/>\r\n      </g>\r\n     </g>\r\n     <g id=\"text_110\">\r\n      <!-- 104 -->\r\n      <g transform=\"translate(7.2 195.47322)scale(0.1 -0.1)\">\r\n       <use xlink:href=\"#DejaVuSans-49\"/>\r\n       <use x=\"63.623047\" xlink:href=\"#DejaVuSans-48\"/>\r\n       <use x=\"127.246094\" xlink:href=\"#DejaVuSans-52\"/>\r\n      </g>\r\n     </g>\r\n    </g>\r\n    <g id=\"ytick_106\">\r\n     <g id=\"line2d_111\">\r\n      <g>\r\n       <use style=\"stroke:#000000;stroke-width:0.8;\" x=\"33.2875\" xlink:href=\"#m7d443d45af\" y=\"191.323856\"/>\r\n      </g>\r\n     </g>\r\n     <g id=\"text_111\">\r\n      <!-- 105 -->\r\n      <g transform=\"translate(7.2 195.123075)scale(0.1 -0.1)\">\r\n       <use xlink:href=\"#DejaVuSans-49\"/>\r\n       <use x=\"63.623047\" xlink:href=\"#DejaVuSans-48\"/>\r\n       <use x=\"127.246094\" xlink:href=\"#DejaVuSans-53\"/>\r\n      </g>\r\n     </g>\r\n    </g>\r\n    <g id=\"ytick_107\">\r\n     <g id=\"line2d_112\">\r\n      <g>\r\n       <use style=\"stroke:#000000;stroke-width:0.8;\" x=\"33.2875\" xlink:href=\"#m7d443d45af\" y=\"190.973712\"/>\r\n      </g>\r\n     </g>\r\n     <g id=\"text_112\">\r\n      <!-- 106 -->\r\n      <g transform=\"translate(7.2 194.77293)scale(0.1 -0.1)\">\r\n       <use xlink:href=\"#DejaVuSans-49\"/>\r\n       <use x=\"63.623047\" xlink:href=\"#DejaVuSans-48\"/>\r\n       <use x=\"127.246094\" xlink:href=\"#DejaVuSans-54\"/>\r\n      </g>\r\n     </g>\r\n    </g>\r\n    <g id=\"ytick_108\">\r\n     <g id=\"line2d_113\">\r\n      <g>\r\n       <use style=\"stroke:#000000;stroke-width:0.8;\" x=\"33.2875\" xlink:href=\"#m7d443d45af\" y=\"190.623567\"/>\r\n      </g>\r\n     </g>\r\n     <g id=\"text_113\">\r\n      <!-- 107 -->\r\n      <g transform=\"translate(7.2 194.422785)scale(0.1 -0.1)\">\r\n       <use xlink:href=\"#DejaVuSans-49\"/>\r\n       <use x=\"63.623047\" xlink:href=\"#DejaVuSans-48\"/>\r\n       <use x=\"127.246094\" xlink:href=\"#DejaVuSans-55\"/>\r\n      </g>\r\n     </g>\r\n    </g>\r\n    <g id=\"ytick_109\">\r\n     <g id=\"line2d_114\">\r\n      <g>\r\n       <use style=\"stroke:#000000;stroke-width:0.8;\" x=\"33.2875\" xlink:href=\"#m7d443d45af\" y=\"190.273422\"/>\r\n      </g>\r\n     </g>\r\n     <g id=\"text_114\">\r\n      <!-- 108 -->\r\n      <g transform=\"translate(7.2 194.07264)scale(0.1 -0.1)\">\r\n       <use xlink:href=\"#DejaVuSans-49\"/>\r\n       <use x=\"63.623047\" xlink:href=\"#DejaVuSans-48\"/>\r\n       <use x=\"127.246094\" xlink:href=\"#DejaVuSans-56\"/>\r\n      </g>\r\n     </g>\r\n    </g>\r\n    <g id=\"ytick_110\">\r\n     <g id=\"line2d_115\">\r\n      <g>\r\n       <use style=\"stroke:#000000;stroke-width:0.8;\" x=\"33.2875\" xlink:href=\"#m7d443d45af\" y=\"189.923277\"/>\r\n      </g>\r\n     </g>\r\n     <g id=\"text_115\">\r\n      <!-- 109 -->\r\n      <g transform=\"translate(7.2 193.722495)scale(0.1 -0.1)\">\r\n       <use xlink:href=\"#DejaVuSans-49\"/>\r\n       <use x=\"63.623047\" xlink:href=\"#DejaVuSans-48\"/>\r\n       <use x=\"127.246094\" xlink:href=\"#DejaVuSans-57\"/>\r\n      </g>\r\n     </g>\r\n    </g>\r\n    <g id=\"ytick_111\">\r\n     <g id=\"line2d_116\">\r\n      <g>\r\n       <use style=\"stroke:#000000;stroke-width:0.8;\" x=\"33.2875\" xlink:href=\"#m7d443d45af\" y=\"189.573132\"/>\r\n      </g>\r\n     </g>\r\n     <g id=\"text_116\">\r\n      <!-- 110 -->\r\n      <g transform=\"translate(7.2 193.372351)scale(0.1 -0.1)\">\r\n       <use xlink:href=\"#DejaVuSans-49\"/>\r\n       <use x=\"63.623047\" xlink:href=\"#DejaVuSans-49\"/>\r\n       <use x=\"127.246094\" xlink:href=\"#DejaVuSans-48\"/>\r\n      </g>\r\n     </g>\r\n    </g>\r\n    <g id=\"ytick_112\">\r\n     <g id=\"line2d_117\">\r\n      <g>\r\n       <use style=\"stroke:#000000;stroke-width:0.8;\" x=\"33.2875\" xlink:href=\"#m7d443d45af\" y=\"189.222987\"/>\r\n      </g>\r\n     </g>\r\n     <g id=\"text_117\">\r\n      <!-- 111 -->\r\n      <g transform=\"translate(7.2 193.022206)scale(0.1 -0.1)\">\r\n       <use xlink:href=\"#DejaVuSans-49\"/>\r\n       <use x=\"63.623047\" xlink:href=\"#DejaVuSans-49\"/>\r\n       <use x=\"127.246094\" xlink:href=\"#DejaVuSans-49\"/>\r\n      </g>\r\n     </g>\r\n    </g>\r\n    <g id=\"ytick_113\">\r\n     <g id=\"line2d_118\">\r\n      <g>\r\n       <use style=\"stroke:#000000;stroke-width:0.8;\" x=\"33.2875\" xlink:href=\"#m7d443d45af\" y=\"188.872842\"/>\r\n      </g>\r\n     </g>\r\n     <g id=\"text_118\">\r\n      <!-- 112 -->\r\n      <g transform=\"translate(7.2 192.672061)scale(0.1 -0.1)\">\r\n       <use xlink:href=\"#DejaVuSans-49\"/>\r\n       <use x=\"63.623047\" xlink:href=\"#DejaVuSans-49\"/>\r\n       <use x=\"127.246094\" xlink:href=\"#DejaVuSans-50\"/>\r\n      </g>\r\n     </g>\r\n    </g>\r\n    <g id=\"ytick_114\">\r\n     <g id=\"line2d_119\">\r\n      <g>\r\n       <use style=\"stroke:#000000;stroke-width:0.8;\" x=\"33.2875\" xlink:href=\"#m7d443d45af\" y=\"188.522697\"/>\r\n      </g>\r\n     </g>\r\n     <g id=\"text_119\">\r\n      <!-- 113 -->\r\n      <g transform=\"translate(7.2 192.321916)scale(0.1 -0.1)\">\r\n       <use xlink:href=\"#DejaVuSans-49\"/>\r\n       <use x=\"63.623047\" xlink:href=\"#DejaVuSans-49\"/>\r\n       <use x=\"127.246094\" xlink:href=\"#DejaVuSans-51\"/>\r\n      </g>\r\n     </g>\r\n    </g>\r\n    <g id=\"ytick_115\">\r\n     <g id=\"line2d_120\">\r\n      <g>\r\n       <use style=\"stroke:#000000;stroke-width:0.8;\" x=\"33.2875\" xlink:href=\"#m7d443d45af\" y=\"188.172552\"/>\r\n      </g>\r\n     </g>\r\n     <g id=\"text_120\">\r\n      <!-- 114 -->\r\n      <g transform=\"translate(7.2 191.971771)scale(0.1 -0.1)\">\r\n       <use xlink:href=\"#DejaVuSans-49\"/>\r\n       <use x=\"63.623047\" xlink:href=\"#DejaVuSans-49\"/>\r\n       <use x=\"127.246094\" xlink:href=\"#DejaVuSans-52\"/>\r\n      </g>\r\n     </g>\r\n    </g>\r\n    <g id=\"ytick_116\">\r\n     <g id=\"line2d_121\">\r\n      <g>\r\n       <use style=\"stroke:#000000;stroke-width:0.8;\" x=\"33.2875\" xlink:href=\"#m7d443d45af\" y=\"187.822407\"/>\r\n      </g>\r\n     </g>\r\n     <g id=\"text_121\">\r\n      <!-- 115 -->\r\n      <g transform=\"translate(7.2 191.621626)scale(0.1 -0.1)\">\r\n       <use xlink:href=\"#DejaVuSans-49\"/>\r\n       <use x=\"63.623047\" xlink:href=\"#DejaVuSans-49\"/>\r\n       <use x=\"127.246094\" xlink:href=\"#DejaVuSans-53\"/>\r\n      </g>\r\n     </g>\r\n    </g>\r\n    <g id=\"ytick_117\">\r\n     <g id=\"line2d_122\">\r\n      <g>\r\n       <use style=\"stroke:#000000;stroke-width:0.8;\" x=\"33.2875\" xlink:href=\"#m7d443d45af\" y=\"187.472262\"/>\r\n      </g>\r\n     </g>\r\n     <g id=\"text_122\">\r\n      <!-- 116 -->\r\n      <g transform=\"translate(7.2 191.271481)scale(0.1 -0.1)\">\r\n       <use xlink:href=\"#DejaVuSans-49\"/>\r\n       <use x=\"63.623047\" xlink:href=\"#DejaVuSans-49\"/>\r\n       <use x=\"127.246094\" xlink:href=\"#DejaVuSans-54\"/>\r\n      </g>\r\n     </g>\r\n    </g>\r\n    <g id=\"ytick_118\">\r\n     <g id=\"line2d_123\">\r\n      <g>\r\n       <use style=\"stroke:#000000;stroke-width:0.8;\" x=\"33.2875\" xlink:href=\"#m7d443d45af\" y=\"187.122117\"/>\r\n      </g>\r\n     </g>\r\n     <g id=\"text_123\">\r\n      <!-- 117 -->\r\n      <g transform=\"translate(7.2 190.921336)scale(0.1 -0.1)\">\r\n       <use xlink:href=\"#DejaVuSans-49\"/>\r\n       <use x=\"63.623047\" xlink:href=\"#DejaVuSans-49\"/>\r\n       <use x=\"127.246094\" xlink:href=\"#DejaVuSans-55\"/>\r\n      </g>\r\n     </g>\r\n    </g>\r\n    <g id=\"ytick_119\">\r\n     <g id=\"line2d_124\">\r\n      <g>\r\n       <use style=\"stroke:#000000;stroke-width:0.8;\" x=\"33.2875\" xlink:href=\"#m7d443d45af\" y=\"186.771972\"/>\r\n      </g>\r\n     </g>\r\n     <g id=\"text_124\">\r\n      <!-- 118 -->\r\n      <g transform=\"translate(7.2 190.571191)scale(0.1 -0.1)\">\r\n       <use xlink:href=\"#DejaVuSans-49\"/>\r\n       <use x=\"63.623047\" xlink:href=\"#DejaVuSans-49\"/>\r\n       <use x=\"127.246094\" xlink:href=\"#DejaVuSans-56\"/>\r\n      </g>\r\n     </g>\r\n    </g>\r\n    <g id=\"ytick_120\">\r\n     <g id=\"line2d_125\">\r\n      <g>\r\n       <use style=\"stroke:#000000;stroke-width:0.8;\" x=\"33.2875\" xlink:href=\"#m7d443d45af\" y=\"186.421827\"/>\r\n      </g>\r\n     </g>\r\n     <g id=\"text_125\">\r\n      <!-- 119 -->\r\n      <g transform=\"translate(7.2 190.221046)scale(0.1 -0.1)\">\r\n       <use xlink:href=\"#DejaVuSans-49\"/>\r\n       <use x=\"63.623047\" xlink:href=\"#DejaVuSans-49\"/>\r\n       <use x=\"127.246094\" xlink:href=\"#DejaVuSans-57\"/>\r\n      </g>\r\n     </g>\r\n    </g>\r\n    <g id=\"ytick_121\">\r\n     <g id=\"line2d_126\">\r\n      <g>\r\n       <use style=\"stroke:#000000;stroke-width:0.8;\" x=\"33.2875\" xlink:href=\"#m7d443d45af\" y=\"186.071683\"/>\r\n      </g>\r\n     </g>\r\n     <g id=\"text_126\">\r\n      <!-- 120 -->\r\n      <g transform=\"translate(7.2 189.870901)scale(0.1 -0.1)\">\r\n       <use xlink:href=\"#DejaVuSans-49\"/>\r\n       <use x=\"63.623047\" xlink:href=\"#DejaVuSans-50\"/>\r\n       <use x=\"127.246094\" xlink:href=\"#DejaVuSans-48\"/>\r\n      </g>\r\n     </g>\r\n    </g>\r\n    <g id=\"ytick_122\">\r\n     <g id=\"line2d_127\">\r\n      <g>\r\n       <use style=\"stroke:#000000;stroke-width:0.8;\" x=\"33.2875\" xlink:href=\"#m7d443d45af\" y=\"185.721538\"/>\r\n      </g>\r\n     </g>\r\n     <g id=\"text_127\">\r\n      <!-- 121 -->\r\n      <g transform=\"translate(7.2 189.520756)scale(0.1 -0.1)\">\r\n       <use xlink:href=\"#DejaVuSans-49\"/>\r\n       <use x=\"63.623047\" xlink:href=\"#DejaVuSans-50\"/>\r\n       <use x=\"127.246094\" xlink:href=\"#DejaVuSans-49\"/>\r\n      </g>\r\n     </g>\r\n    </g>\r\n    <g id=\"ytick_123\">\r\n     <g id=\"line2d_128\">\r\n      <g>\r\n       <use style=\"stroke:#000000;stroke-width:0.8;\" x=\"33.2875\" xlink:href=\"#m7d443d45af\" y=\"185.371393\"/>\r\n      </g>\r\n     </g>\r\n     <g id=\"text_128\">\r\n      <!-- 122 -->\r\n      <g transform=\"translate(7.2 189.170611)scale(0.1 -0.1)\">\r\n       <use xlink:href=\"#DejaVuSans-49\"/>\r\n       <use x=\"63.623047\" xlink:href=\"#DejaVuSans-50\"/>\r\n       <use x=\"127.246094\" xlink:href=\"#DejaVuSans-50\"/>\r\n      </g>\r\n     </g>\r\n    </g>\r\n    <g id=\"ytick_124\">\r\n     <g id=\"line2d_129\">\r\n      <g>\r\n       <use style=\"stroke:#000000;stroke-width:0.8;\" x=\"33.2875\" xlink:href=\"#m7d443d45af\" y=\"185.021248\"/>\r\n      </g>\r\n     </g>\r\n     <g id=\"text_129\">\r\n      <!-- 123 -->\r\n      <g transform=\"translate(7.2 188.820466)scale(0.1 -0.1)\">\r\n       <use xlink:href=\"#DejaVuSans-49\"/>\r\n       <use x=\"63.623047\" xlink:href=\"#DejaVuSans-50\"/>\r\n       <use x=\"127.246094\" xlink:href=\"#DejaVuSans-51\"/>\r\n      </g>\r\n     </g>\r\n    </g>\r\n    <g id=\"ytick_125\">\r\n     <g id=\"line2d_130\">\r\n      <g>\r\n       <use style=\"stroke:#000000;stroke-width:0.8;\" x=\"33.2875\" xlink:href=\"#m7d443d45af\" y=\"184.671103\"/>\r\n      </g>\r\n     </g>\r\n     <g id=\"text_130\">\r\n      <!-- 124 -->\r\n      <g transform=\"translate(7.2 188.470322)scale(0.1 -0.1)\">\r\n       <use xlink:href=\"#DejaVuSans-49\"/>\r\n       <use x=\"63.623047\" xlink:href=\"#DejaVuSans-50\"/>\r\n       <use x=\"127.246094\" xlink:href=\"#DejaVuSans-52\"/>\r\n      </g>\r\n     </g>\r\n    </g>\r\n    <g id=\"ytick_126\">\r\n     <g id=\"line2d_131\">\r\n      <g>\r\n       <use style=\"stroke:#000000;stroke-width:0.8;\" x=\"33.2875\" xlink:href=\"#m7d443d45af\" y=\"184.320958\"/>\r\n      </g>\r\n     </g>\r\n     <g id=\"text_131\">\r\n      <!-- 125 -->\r\n      <g transform=\"translate(7.2 188.120177)scale(0.1 -0.1)\">\r\n       <use xlink:href=\"#DejaVuSans-49\"/>\r\n       <use x=\"63.623047\" xlink:href=\"#DejaVuSans-50\"/>\r\n       <use x=\"127.246094\" xlink:href=\"#DejaVuSans-53\"/>\r\n      </g>\r\n     </g>\r\n    </g>\r\n    <g id=\"ytick_127\">\r\n     <g id=\"line2d_132\">\r\n      <g>\r\n       <use style=\"stroke:#000000;stroke-width:0.8;\" x=\"33.2875\" xlink:href=\"#m7d443d45af\" y=\"183.970813\"/>\r\n      </g>\r\n     </g>\r\n     <g id=\"text_132\">\r\n      <!-- 126 -->\r\n      <g transform=\"translate(7.2 187.770032)scale(0.1 -0.1)\">\r\n       <use xlink:href=\"#DejaVuSans-49\"/>\r\n       <use x=\"63.623047\" xlink:href=\"#DejaVuSans-50\"/>\r\n       <use x=\"127.246094\" xlink:href=\"#DejaVuSans-54\"/>\r\n      </g>\r\n     </g>\r\n    </g>\r\n    <g id=\"ytick_128\">\r\n     <g id=\"line2d_133\">\r\n      <g>\r\n       <use style=\"stroke:#000000;stroke-width:0.8;\" x=\"33.2875\" xlink:href=\"#m7d443d45af\" y=\"183.620668\"/>\r\n      </g>\r\n     </g>\r\n     <g id=\"text_133\">\r\n      <!-- 127 -->\r\n      <g transform=\"translate(7.2 187.419887)scale(0.1 -0.1)\">\r\n       <use xlink:href=\"#DejaVuSans-49\"/>\r\n       <use x=\"63.623047\" xlink:href=\"#DejaVuSans-50\"/>\r\n       <use x=\"127.246094\" xlink:href=\"#DejaVuSans-55\"/>\r\n      </g>\r\n     </g>\r\n    </g>\r\n    <g id=\"ytick_129\">\r\n     <g id=\"line2d_134\">\r\n      <g>\r\n       <use style=\"stroke:#000000;stroke-width:0.8;\" x=\"33.2875\" xlink:href=\"#m7d443d45af\" y=\"183.270523\"/>\r\n      </g>\r\n     </g>\r\n     <g id=\"text_134\">\r\n      <!-- 128 -->\r\n      <g transform=\"translate(7.2 187.069742)scale(0.1 -0.1)\">\r\n       <use xlink:href=\"#DejaVuSans-49\"/>\r\n       <use x=\"63.623047\" xlink:href=\"#DejaVuSans-50\"/>\r\n       <use x=\"127.246094\" xlink:href=\"#DejaVuSans-56\"/>\r\n      </g>\r\n     </g>\r\n    </g>\r\n    <g id=\"ytick_130\">\r\n     <g id=\"line2d_135\">\r\n      <g>\r\n       <use style=\"stroke:#000000;stroke-width:0.8;\" x=\"33.2875\" xlink:href=\"#m7d443d45af\" y=\"182.920378\"/>\r\n      </g>\r\n     </g>\r\n     <g id=\"text_135\">\r\n      <!-- 129 -->\r\n      <g transform=\"translate(7.2 186.719597)scale(0.1 -0.1)\">\r\n       <use xlink:href=\"#DejaVuSans-49\"/>\r\n       <use x=\"63.623047\" xlink:href=\"#DejaVuSans-50\"/>\r\n       <use x=\"127.246094\" xlink:href=\"#DejaVuSans-57\"/>\r\n      </g>\r\n     </g>\r\n    </g>\r\n    <g id=\"ytick_131\">\r\n     <g id=\"line2d_136\">\r\n      <g>\r\n       <use style=\"stroke:#000000;stroke-width:0.8;\" x=\"33.2875\" xlink:href=\"#m7d443d45af\" y=\"182.570233\"/>\r\n      </g>\r\n     </g>\r\n     <g id=\"text_136\">\r\n      <!-- 130 -->\r\n      <g transform=\"translate(7.2 186.369452)scale(0.1 -0.1)\">\r\n       <use xlink:href=\"#DejaVuSans-49\"/>\r\n       <use x=\"63.623047\" xlink:href=\"#DejaVuSans-51\"/>\r\n       <use x=\"127.246094\" xlink:href=\"#DejaVuSans-48\"/>\r\n      </g>\r\n     </g>\r\n    </g>\r\n    <g id=\"ytick_132\">\r\n     <g id=\"line2d_137\">\r\n      <g>\r\n       <use style=\"stroke:#000000;stroke-width:0.8;\" x=\"33.2875\" xlink:href=\"#m7d443d45af\" y=\"182.220088\"/>\r\n      </g>\r\n     </g>\r\n     <g id=\"text_137\">\r\n      <!-- 131 -->\r\n      <g transform=\"translate(7.2 186.019307)scale(0.1 -0.1)\">\r\n       <use xlink:href=\"#DejaVuSans-49\"/>\r\n       <use x=\"63.623047\" xlink:href=\"#DejaVuSans-51\"/>\r\n       <use x=\"127.246094\" xlink:href=\"#DejaVuSans-49\"/>\r\n      </g>\r\n     </g>\r\n    </g>\r\n    <g id=\"ytick_133\">\r\n     <g id=\"line2d_138\">\r\n      <g>\r\n       <use style=\"stroke:#000000;stroke-width:0.8;\" x=\"33.2875\" xlink:href=\"#m7d443d45af\" y=\"181.869943\"/>\r\n      </g>\r\n     </g>\r\n     <g id=\"text_138\">\r\n      <!-- 132 -->\r\n      <g transform=\"translate(7.2 185.669162)scale(0.1 -0.1)\">\r\n       <use xlink:href=\"#DejaVuSans-49\"/>\r\n       <use x=\"63.623047\" xlink:href=\"#DejaVuSans-51\"/>\r\n       <use x=\"127.246094\" xlink:href=\"#DejaVuSans-50\"/>\r\n      </g>\r\n     </g>\r\n    </g>\r\n    <g id=\"ytick_134\">\r\n     <g id=\"line2d_139\">\r\n      <g>\r\n       <use style=\"stroke:#000000;stroke-width:0.8;\" x=\"33.2875\" xlink:href=\"#m7d443d45af\" y=\"181.519798\"/>\r\n      </g>\r\n     </g>\r\n     <g id=\"text_139\">\r\n      <!-- 133 -->\r\n      <g transform=\"translate(7.2 185.319017)scale(0.1 -0.1)\">\r\n       <use xlink:href=\"#DejaVuSans-49\"/>\r\n       <use x=\"63.623047\" xlink:href=\"#DejaVuSans-51\"/>\r\n       <use x=\"127.246094\" xlink:href=\"#DejaVuSans-51\"/>\r\n      </g>\r\n     </g>\r\n    </g>\r\n    <g id=\"ytick_135\">\r\n     <g id=\"line2d_140\">\r\n      <g>\r\n       <use style=\"stroke:#000000;stroke-width:0.8;\" x=\"33.2875\" xlink:href=\"#m7d443d45af\" y=\"181.169654\"/>\r\n      </g>\r\n     </g>\r\n     <g id=\"text_140\">\r\n      <!-- 134 -->\r\n      <g transform=\"translate(7.2 184.968872)scale(0.1 -0.1)\">\r\n       <use xlink:href=\"#DejaVuSans-49\"/>\r\n       <use x=\"63.623047\" xlink:href=\"#DejaVuSans-51\"/>\r\n       <use x=\"127.246094\" xlink:href=\"#DejaVuSans-52\"/>\r\n      </g>\r\n     </g>\r\n    </g>\r\n    <g id=\"ytick_136\">\r\n     <g id=\"line2d_141\">\r\n      <g>\r\n       <use style=\"stroke:#000000;stroke-width:0.8;\" x=\"33.2875\" xlink:href=\"#m7d443d45af\" y=\"180.819509\"/>\r\n      </g>\r\n     </g>\r\n     <g id=\"text_141\">\r\n      <!-- 135 -->\r\n      <g transform=\"translate(7.2 184.618727)scale(0.1 -0.1)\">\r\n       <use xlink:href=\"#DejaVuSans-49\"/>\r\n       <use x=\"63.623047\" xlink:href=\"#DejaVuSans-51\"/>\r\n       <use x=\"127.246094\" xlink:href=\"#DejaVuSans-53\"/>\r\n      </g>\r\n     </g>\r\n    </g>\r\n    <g id=\"ytick_137\">\r\n     <g id=\"line2d_142\">\r\n      <g>\r\n       <use style=\"stroke:#000000;stroke-width:0.8;\" x=\"33.2875\" xlink:href=\"#m7d443d45af\" y=\"180.469364\"/>\r\n      </g>\r\n     </g>\r\n     <g id=\"text_142\">\r\n      <!-- 136 -->\r\n      <g transform=\"translate(7.2 184.268582)scale(0.1 -0.1)\">\r\n       <use xlink:href=\"#DejaVuSans-49\"/>\r\n       <use x=\"63.623047\" xlink:href=\"#DejaVuSans-51\"/>\r\n       <use x=\"127.246094\" xlink:href=\"#DejaVuSans-54\"/>\r\n      </g>\r\n     </g>\r\n    </g>\r\n    <g id=\"ytick_138\">\r\n     <g id=\"line2d_143\">\r\n      <g>\r\n       <use style=\"stroke:#000000;stroke-width:0.8;\" x=\"33.2875\" xlink:href=\"#m7d443d45af\" y=\"180.119219\"/>\r\n      </g>\r\n     </g>\r\n     <g id=\"text_143\">\r\n      <!-- 137 -->\r\n      <g transform=\"translate(7.2 183.918437)scale(0.1 -0.1)\">\r\n       <use xlink:href=\"#DejaVuSans-49\"/>\r\n       <use x=\"63.623047\" xlink:href=\"#DejaVuSans-51\"/>\r\n       <use x=\"127.246094\" xlink:href=\"#DejaVuSans-55\"/>\r\n      </g>\r\n     </g>\r\n    </g>\r\n    <g id=\"ytick_139\">\r\n     <g id=\"line2d_144\">\r\n      <g>\r\n       <use style=\"stroke:#000000;stroke-width:0.8;\" x=\"33.2875\" xlink:href=\"#m7d443d45af\" y=\"179.769074\"/>\r\n      </g>\r\n     </g>\r\n     <g id=\"text_144\">\r\n      <!-- 138 -->\r\n      <g transform=\"translate(7.2 183.568293)scale(0.1 -0.1)\">\r\n       <use xlink:href=\"#DejaVuSans-49\"/>\r\n       <use x=\"63.623047\" xlink:href=\"#DejaVuSans-51\"/>\r\n       <use x=\"127.246094\" xlink:href=\"#DejaVuSans-56\"/>\r\n      </g>\r\n     </g>\r\n    </g>\r\n    <g id=\"ytick_140\">\r\n     <g id=\"line2d_145\">\r\n      <g>\r\n       <use style=\"stroke:#000000;stroke-width:0.8;\" x=\"33.2875\" xlink:href=\"#m7d443d45af\" y=\"179.418929\"/>\r\n      </g>\r\n     </g>\r\n     <g id=\"text_145\">\r\n      <!-- 139 -->\r\n      <g transform=\"translate(7.2 183.218148)scale(0.1 -0.1)\">\r\n       <use xlink:href=\"#DejaVuSans-49\"/>\r\n       <use x=\"63.623047\" xlink:href=\"#DejaVuSans-51\"/>\r\n       <use x=\"127.246094\" xlink:href=\"#DejaVuSans-57\"/>\r\n      </g>\r\n     </g>\r\n    </g>\r\n    <g id=\"ytick_141\">\r\n     <g id=\"line2d_146\">\r\n      <g>\r\n       <use style=\"stroke:#000000;stroke-width:0.8;\" x=\"33.2875\" xlink:href=\"#m7d443d45af\" y=\"179.068784\"/>\r\n      </g>\r\n     </g>\r\n     <g id=\"text_146\">\r\n      <!-- 140 -->\r\n      <g transform=\"translate(7.2 182.868003)scale(0.1 -0.1)\">\r\n       <use xlink:href=\"#DejaVuSans-49\"/>\r\n       <use x=\"63.623047\" xlink:href=\"#DejaVuSans-52\"/>\r\n       <use x=\"127.246094\" xlink:href=\"#DejaVuSans-48\"/>\r\n      </g>\r\n     </g>\r\n    </g>\r\n    <g id=\"ytick_142\">\r\n     <g id=\"line2d_147\">\r\n      <g>\r\n       <use style=\"stroke:#000000;stroke-width:0.8;\" x=\"33.2875\" xlink:href=\"#m7d443d45af\" y=\"178.718639\"/>\r\n      </g>\r\n     </g>\r\n     <g id=\"text_147\">\r\n      <!-- 141 -->\r\n      <g transform=\"translate(7.2 182.517858)scale(0.1 -0.1)\">\r\n       <use xlink:href=\"#DejaVuSans-49\"/>\r\n       <use x=\"63.623047\" xlink:href=\"#DejaVuSans-52\"/>\r\n       <use x=\"127.246094\" xlink:href=\"#DejaVuSans-49\"/>\r\n      </g>\r\n     </g>\r\n    </g>\r\n    <g id=\"ytick_143\">\r\n     <g id=\"line2d_148\">\r\n      <g>\r\n       <use style=\"stroke:#000000;stroke-width:0.8;\" x=\"33.2875\" xlink:href=\"#m7d443d45af\" y=\"178.368494\"/>\r\n      </g>\r\n     </g>\r\n     <g id=\"text_148\">\r\n      <!-- 142 -->\r\n      <g transform=\"translate(7.2 182.167713)scale(0.1 -0.1)\">\r\n       <use xlink:href=\"#DejaVuSans-49\"/>\r\n       <use x=\"63.623047\" xlink:href=\"#DejaVuSans-52\"/>\r\n       <use x=\"127.246094\" xlink:href=\"#DejaVuSans-50\"/>\r\n      </g>\r\n     </g>\r\n    </g>\r\n    <g id=\"ytick_144\">\r\n     <g id=\"line2d_149\">\r\n      <g>\r\n       <use style=\"stroke:#000000;stroke-width:0.8;\" x=\"33.2875\" xlink:href=\"#m7d443d45af\" y=\"178.018349\"/>\r\n      </g>\r\n     </g>\r\n     <g id=\"text_149\">\r\n      <!-- 143 -->\r\n      <g transform=\"translate(7.2 181.817568)scale(0.1 -0.1)\">\r\n       <use xlink:href=\"#DejaVuSans-49\"/>\r\n       <use x=\"63.623047\" xlink:href=\"#DejaVuSans-52\"/>\r\n       <use x=\"127.246094\" xlink:href=\"#DejaVuSans-51\"/>\r\n      </g>\r\n     </g>\r\n    </g>\r\n    <g id=\"ytick_145\">\r\n     <g id=\"line2d_150\">\r\n      <g>\r\n       <use style=\"stroke:#000000;stroke-width:0.8;\" x=\"33.2875\" xlink:href=\"#m7d443d45af\" y=\"177.668204\"/>\r\n      </g>\r\n     </g>\r\n     <g id=\"text_150\">\r\n      <!-- 144 -->\r\n      <g transform=\"translate(7.2 181.467423)scale(0.1 -0.1)\">\r\n       <use xlink:href=\"#DejaVuSans-49\"/>\r\n       <use x=\"63.623047\" xlink:href=\"#DejaVuSans-52\"/>\r\n       <use x=\"127.246094\" xlink:href=\"#DejaVuSans-52\"/>\r\n      </g>\r\n     </g>\r\n    </g>\r\n    <g id=\"ytick_146\">\r\n     <g id=\"line2d_151\">\r\n      <g>\r\n       <use style=\"stroke:#000000;stroke-width:0.8;\" x=\"33.2875\" xlink:href=\"#m7d443d45af\" y=\"177.318059\"/>\r\n      </g>\r\n     </g>\r\n     <g id=\"text_151\">\r\n      <!-- 145 -->\r\n      <g transform=\"translate(7.2 181.117278)scale(0.1 -0.1)\">\r\n       <use xlink:href=\"#DejaVuSans-49\"/>\r\n       <use x=\"63.623047\" xlink:href=\"#DejaVuSans-52\"/>\r\n       <use x=\"127.246094\" xlink:href=\"#DejaVuSans-53\"/>\r\n      </g>\r\n     </g>\r\n    </g>\r\n    <g id=\"ytick_147\">\r\n     <g id=\"line2d_152\">\r\n      <g>\r\n       <use style=\"stroke:#000000;stroke-width:0.8;\" x=\"33.2875\" xlink:href=\"#m7d443d45af\" y=\"176.967914\"/>\r\n      </g>\r\n     </g>\r\n     <g id=\"text_152\">\r\n      <!-- 146 -->\r\n      <g transform=\"translate(7.2 180.767133)scale(0.1 -0.1)\">\r\n       <use xlink:href=\"#DejaVuSans-49\"/>\r\n       <use x=\"63.623047\" xlink:href=\"#DejaVuSans-52\"/>\r\n       <use x=\"127.246094\" xlink:href=\"#DejaVuSans-54\"/>\r\n      </g>\r\n     </g>\r\n    </g>\r\n    <g id=\"ytick_148\">\r\n     <g id=\"line2d_153\">\r\n      <g>\r\n       <use style=\"stroke:#000000;stroke-width:0.8;\" x=\"33.2875\" xlink:href=\"#m7d443d45af\" y=\"176.617769\"/>\r\n      </g>\r\n     </g>\r\n     <g id=\"text_153\">\r\n      <!-- 147 -->\r\n      <g transform=\"translate(7.2 180.416988)scale(0.1 -0.1)\">\r\n       <use xlink:href=\"#DejaVuSans-49\"/>\r\n       <use x=\"63.623047\" xlink:href=\"#DejaVuSans-52\"/>\r\n       <use x=\"127.246094\" xlink:href=\"#DejaVuSans-55\"/>\r\n      </g>\r\n     </g>\r\n    </g>\r\n    <g id=\"ytick_149\">\r\n     <g id=\"line2d_154\">\r\n      <g>\r\n       <use style=\"stroke:#000000;stroke-width:0.8;\" x=\"33.2875\" xlink:href=\"#m7d443d45af\" y=\"176.267625\"/>\r\n      </g>\r\n     </g>\r\n     <g id=\"text_154\">\r\n      <!-- 148 -->\r\n      <g transform=\"translate(7.2 180.066843)scale(0.1 -0.1)\">\r\n       <use xlink:href=\"#DejaVuSans-49\"/>\r\n       <use x=\"63.623047\" xlink:href=\"#DejaVuSans-52\"/>\r\n       <use x=\"127.246094\" xlink:href=\"#DejaVuSans-56\"/>\r\n      </g>\r\n     </g>\r\n    </g>\r\n    <g id=\"ytick_150\">\r\n     <g id=\"line2d_155\">\r\n      <g>\r\n       <use style=\"stroke:#000000;stroke-width:0.8;\" x=\"33.2875\" xlink:href=\"#m7d443d45af\" y=\"175.91748\"/>\r\n      </g>\r\n     </g>\r\n     <g id=\"text_155\">\r\n      <!-- 149 -->\r\n      <g transform=\"translate(7.2 179.716698)scale(0.1 -0.1)\">\r\n       <use xlink:href=\"#DejaVuSans-49\"/>\r\n       <use x=\"63.623047\" xlink:href=\"#DejaVuSans-52\"/>\r\n       <use x=\"127.246094\" xlink:href=\"#DejaVuSans-57\"/>\r\n      </g>\r\n     </g>\r\n    </g>\r\n    <g id=\"ytick_151\">\r\n     <g id=\"line2d_156\">\r\n      <g>\r\n       <use style=\"stroke:#000000;stroke-width:0.8;\" x=\"33.2875\" xlink:href=\"#m7d443d45af\" y=\"175.567335\"/>\r\n      </g>\r\n     </g>\r\n     <g id=\"text_156\">\r\n      <!-- 150 -->\r\n      <g transform=\"translate(7.2 179.366553)scale(0.1 -0.1)\">\r\n       <use xlink:href=\"#DejaVuSans-49\"/>\r\n       <use x=\"63.623047\" xlink:href=\"#DejaVuSans-53\"/>\r\n       <use x=\"127.246094\" xlink:href=\"#DejaVuSans-48\"/>\r\n      </g>\r\n     </g>\r\n    </g>\r\n    <g id=\"ytick_152\">\r\n     <g id=\"line2d_157\">\r\n      <g>\r\n       <use style=\"stroke:#000000;stroke-width:0.8;\" x=\"33.2875\" xlink:href=\"#m7d443d45af\" y=\"175.21719\"/>\r\n      </g>\r\n     </g>\r\n     <g id=\"text_157\">\r\n      <!-- 151 -->\r\n      <g transform=\"translate(7.2 179.016409)scale(0.1 -0.1)\">\r\n       <use xlink:href=\"#DejaVuSans-49\"/>\r\n       <use x=\"63.623047\" xlink:href=\"#DejaVuSans-53\"/>\r\n       <use x=\"127.246094\" xlink:href=\"#DejaVuSans-49\"/>\r\n      </g>\r\n     </g>\r\n    </g>\r\n    <g id=\"ytick_153\">\r\n     <g id=\"line2d_158\">\r\n      <g>\r\n       <use style=\"stroke:#000000;stroke-width:0.8;\" x=\"33.2875\" xlink:href=\"#m7d443d45af\" y=\"174.867045\"/>\r\n      </g>\r\n     </g>\r\n     <g id=\"text_158\">\r\n      <!-- 152 -->\r\n      <g transform=\"translate(7.2 178.666264)scale(0.1 -0.1)\">\r\n       <use xlink:href=\"#DejaVuSans-49\"/>\r\n       <use x=\"63.623047\" xlink:href=\"#DejaVuSans-53\"/>\r\n       <use x=\"127.246094\" xlink:href=\"#DejaVuSans-50\"/>\r\n      </g>\r\n     </g>\r\n    </g>\r\n    <g id=\"ytick_154\">\r\n     <g id=\"line2d_159\">\r\n      <g>\r\n       <use style=\"stroke:#000000;stroke-width:0.8;\" x=\"33.2875\" xlink:href=\"#m7d443d45af\" y=\"174.5169\"/>\r\n      </g>\r\n     </g>\r\n     <g id=\"text_159\">\r\n      <!-- 153 -->\r\n      <g transform=\"translate(7.2 178.316119)scale(0.1 -0.1)\">\r\n       <use xlink:href=\"#DejaVuSans-49\"/>\r\n       <use x=\"63.623047\" xlink:href=\"#DejaVuSans-53\"/>\r\n       <use x=\"127.246094\" xlink:href=\"#DejaVuSans-51\"/>\r\n      </g>\r\n     </g>\r\n    </g>\r\n    <g id=\"ytick_155\">\r\n     <g id=\"line2d_160\">\r\n      <g>\r\n       <use style=\"stroke:#000000;stroke-width:0.8;\" x=\"33.2875\" xlink:href=\"#m7d443d45af\" y=\"174.166755\"/>\r\n      </g>\r\n     </g>\r\n     <g id=\"text_160\">\r\n      <!-- 154 -->\r\n      <g transform=\"translate(7.2 177.965974)scale(0.1 -0.1)\">\r\n       <use xlink:href=\"#DejaVuSans-49\"/>\r\n       <use x=\"63.623047\" xlink:href=\"#DejaVuSans-53\"/>\r\n       <use x=\"127.246094\" xlink:href=\"#DejaVuSans-52\"/>\r\n      </g>\r\n     </g>\r\n    </g>\r\n    <g id=\"ytick_156\">\r\n     <g id=\"line2d_161\">\r\n      <g>\r\n       <use style=\"stroke:#000000;stroke-width:0.8;\" x=\"33.2875\" xlink:href=\"#m7d443d45af\" y=\"173.81661\"/>\r\n      </g>\r\n     </g>\r\n     <g id=\"text_161\">\r\n      <!-- 155 -->\r\n      <g transform=\"translate(7.2 177.615829)scale(0.1 -0.1)\">\r\n       <use xlink:href=\"#DejaVuSans-49\"/>\r\n       <use x=\"63.623047\" xlink:href=\"#DejaVuSans-53\"/>\r\n       <use x=\"127.246094\" xlink:href=\"#DejaVuSans-53\"/>\r\n      </g>\r\n     </g>\r\n    </g>\r\n    <g id=\"ytick_157\">\r\n     <g id=\"line2d_162\">\r\n      <g>\r\n       <use style=\"stroke:#000000;stroke-width:0.8;\" x=\"33.2875\" xlink:href=\"#m7d443d45af\" y=\"173.466465\"/>\r\n      </g>\r\n     </g>\r\n     <g id=\"text_162\">\r\n      <!-- 156 -->\r\n      <g transform=\"translate(7.2 177.265684)scale(0.1 -0.1)\">\r\n       <use xlink:href=\"#DejaVuSans-49\"/>\r\n       <use x=\"63.623047\" xlink:href=\"#DejaVuSans-53\"/>\r\n       <use x=\"127.246094\" xlink:href=\"#DejaVuSans-54\"/>\r\n      </g>\r\n     </g>\r\n    </g>\r\n    <g id=\"ytick_158\">\r\n     <g id=\"line2d_163\">\r\n      <g>\r\n       <use style=\"stroke:#000000;stroke-width:0.8;\" x=\"33.2875\" xlink:href=\"#m7d443d45af\" y=\"173.11632\"/>\r\n      </g>\r\n     </g>\r\n     <g id=\"text_163\">\r\n      <!-- 157 -->\r\n      <g transform=\"translate(7.2 176.915539)scale(0.1 -0.1)\">\r\n       <use xlink:href=\"#DejaVuSans-49\"/>\r\n       <use x=\"63.623047\" xlink:href=\"#DejaVuSans-53\"/>\r\n       <use x=\"127.246094\" xlink:href=\"#DejaVuSans-55\"/>\r\n      </g>\r\n     </g>\r\n    </g>\r\n    <g id=\"ytick_159\">\r\n     <g id=\"line2d_164\">\r\n      <g>\r\n       <use style=\"stroke:#000000;stroke-width:0.8;\" x=\"33.2875\" xlink:href=\"#m7d443d45af\" y=\"172.766175\"/>\r\n      </g>\r\n     </g>\r\n     <g id=\"text_164\">\r\n      <!-- 158 -->\r\n      <g transform=\"translate(7.2 176.565394)scale(0.1 -0.1)\">\r\n       <use xlink:href=\"#DejaVuSans-49\"/>\r\n       <use x=\"63.623047\" xlink:href=\"#DejaVuSans-53\"/>\r\n       <use x=\"127.246094\" xlink:href=\"#DejaVuSans-56\"/>\r\n      </g>\r\n     </g>\r\n    </g>\r\n    <g id=\"ytick_160\">\r\n     <g id=\"line2d_165\">\r\n      <g>\r\n       <use style=\"stroke:#000000;stroke-width:0.8;\" x=\"33.2875\" xlink:href=\"#m7d443d45af\" y=\"172.41603\"/>\r\n      </g>\r\n     </g>\r\n     <g id=\"text_165\">\r\n      <!-- 159 -->\r\n      <g transform=\"translate(7.2 176.215249)scale(0.1 -0.1)\">\r\n       <use xlink:href=\"#DejaVuSans-49\"/>\r\n       <use x=\"63.623047\" xlink:href=\"#DejaVuSans-53\"/>\r\n       <use x=\"127.246094\" xlink:href=\"#DejaVuSans-57\"/>\r\n      </g>\r\n     </g>\r\n    </g>\r\n    <g id=\"ytick_161\">\r\n     <g id=\"line2d_166\">\r\n      <g>\r\n       <use style=\"stroke:#000000;stroke-width:0.8;\" x=\"33.2875\" xlink:href=\"#m7d443d45af\" y=\"172.065885\"/>\r\n      </g>\r\n     </g>\r\n     <g id=\"text_166\">\r\n      <!-- 160 -->\r\n      <g transform=\"translate(7.2 175.865104)scale(0.1 -0.1)\">\r\n       <use xlink:href=\"#DejaVuSans-49\"/>\r\n       <use x=\"63.623047\" xlink:href=\"#DejaVuSans-54\"/>\r\n       <use x=\"127.246094\" xlink:href=\"#DejaVuSans-48\"/>\r\n      </g>\r\n     </g>\r\n    </g>\r\n    <g id=\"ytick_162\">\r\n     <g id=\"line2d_167\">\r\n      <g>\r\n       <use style=\"stroke:#000000;stroke-width:0.8;\" x=\"33.2875\" xlink:href=\"#m7d443d45af\" y=\"171.71574\"/>\r\n      </g>\r\n     </g>\r\n     <g id=\"text_167\">\r\n      <!-- 161 -->\r\n      <g transform=\"translate(7.2 175.514959)scale(0.1 -0.1)\">\r\n       <use xlink:href=\"#DejaVuSans-49\"/>\r\n       <use x=\"63.623047\" xlink:href=\"#DejaVuSans-54\"/>\r\n       <use x=\"127.246094\" xlink:href=\"#DejaVuSans-49\"/>\r\n      </g>\r\n     </g>\r\n    </g>\r\n    <g id=\"ytick_163\">\r\n     <g id=\"line2d_168\">\r\n      <g>\r\n       <use style=\"stroke:#000000;stroke-width:0.8;\" x=\"33.2875\" xlink:href=\"#m7d443d45af\" y=\"171.365596\"/>\r\n      </g>\r\n     </g>\r\n     <g id=\"text_168\">\r\n      <!-- 162 -->\r\n      <g transform=\"translate(7.2 175.164814)scale(0.1 -0.1)\">\r\n       <use xlink:href=\"#DejaVuSans-49\"/>\r\n       <use x=\"63.623047\" xlink:href=\"#DejaVuSans-54\"/>\r\n       <use x=\"127.246094\" xlink:href=\"#DejaVuSans-50\"/>\r\n      </g>\r\n     </g>\r\n    </g>\r\n    <g id=\"ytick_164\">\r\n     <g id=\"line2d_169\">\r\n      <g>\r\n       <use style=\"stroke:#000000;stroke-width:0.8;\" x=\"33.2875\" xlink:href=\"#m7d443d45af\" y=\"171.015451\"/>\r\n      </g>\r\n     </g>\r\n     <g id=\"text_169\">\r\n      <!-- 163 -->\r\n      <g transform=\"translate(7.2 174.814669)scale(0.1 -0.1)\">\r\n       <use xlink:href=\"#DejaVuSans-49\"/>\r\n       <use x=\"63.623047\" xlink:href=\"#DejaVuSans-54\"/>\r\n       <use x=\"127.246094\" xlink:href=\"#DejaVuSans-51\"/>\r\n      </g>\r\n     </g>\r\n    </g>\r\n    <g id=\"ytick_165\">\r\n     <g id=\"line2d_170\">\r\n      <g>\r\n       <use style=\"stroke:#000000;stroke-width:0.8;\" x=\"33.2875\" xlink:href=\"#m7d443d45af\" y=\"170.665306\"/>\r\n      </g>\r\n     </g>\r\n     <g id=\"text_170\">\r\n      <!-- 164 -->\r\n      <g transform=\"translate(7.2 174.464524)scale(0.1 -0.1)\">\r\n       <use xlink:href=\"#DejaVuSans-49\"/>\r\n       <use x=\"63.623047\" xlink:href=\"#DejaVuSans-54\"/>\r\n       <use x=\"127.246094\" xlink:href=\"#DejaVuSans-52\"/>\r\n      </g>\r\n     </g>\r\n    </g>\r\n    <g id=\"ytick_166\">\r\n     <g id=\"line2d_171\">\r\n      <g>\r\n       <use style=\"stroke:#000000;stroke-width:0.8;\" x=\"33.2875\" xlink:href=\"#m7d443d45af\" y=\"170.315161\"/>\r\n      </g>\r\n     </g>\r\n     <g id=\"text_171\">\r\n      <!-- 165 -->\r\n      <g transform=\"translate(7.2 174.11438)scale(0.1 -0.1)\">\r\n       <use xlink:href=\"#DejaVuSans-49\"/>\r\n       <use x=\"63.623047\" xlink:href=\"#DejaVuSans-54\"/>\r\n       <use x=\"127.246094\" xlink:href=\"#DejaVuSans-53\"/>\r\n      </g>\r\n     </g>\r\n    </g>\r\n    <g id=\"ytick_167\">\r\n     <g id=\"line2d_172\">\r\n      <g>\r\n       <use style=\"stroke:#000000;stroke-width:0.8;\" x=\"33.2875\" xlink:href=\"#m7d443d45af\" y=\"169.965016\"/>\r\n      </g>\r\n     </g>\r\n     <g id=\"text_172\">\r\n      <!-- 166 -->\r\n      <g transform=\"translate(7.2 173.764235)scale(0.1 -0.1)\">\r\n       <use xlink:href=\"#DejaVuSans-49\"/>\r\n       <use x=\"63.623047\" xlink:href=\"#DejaVuSans-54\"/>\r\n       <use x=\"127.246094\" xlink:href=\"#DejaVuSans-54\"/>\r\n      </g>\r\n     </g>\r\n    </g>\r\n    <g id=\"ytick_168\">\r\n     <g id=\"line2d_173\">\r\n      <g>\r\n       <use style=\"stroke:#000000;stroke-width:0.8;\" x=\"33.2875\" xlink:href=\"#m7d443d45af\" y=\"169.614871\"/>\r\n      </g>\r\n     </g>\r\n     <g id=\"text_173\">\r\n      <!-- 167 -->\r\n      <g transform=\"translate(7.2 173.41409)scale(0.1 -0.1)\">\r\n       <use xlink:href=\"#DejaVuSans-49\"/>\r\n       <use x=\"63.623047\" xlink:href=\"#DejaVuSans-54\"/>\r\n       <use x=\"127.246094\" xlink:href=\"#DejaVuSans-55\"/>\r\n      </g>\r\n     </g>\r\n    </g>\r\n    <g id=\"ytick_169\">\r\n     <g id=\"line2d_174\">\r\n      <g>\r\n       <use style=\"stroke:#000000;stroke-width:0.8;\" x=\"33.2875\" xlink:href=\"#m7d443d45af\" y=\"169.264726\"/>\r\n      </g>\r\n     </g>\r\n     <g id=\"text_174\">\r\n      <!-- 168 -->\r\n      <g transform=\"translate(7.2 173.063945)scale(0.1 -0.1)\">\r\n       <use xlink:href=\"#DejaVuSans-49\"/>\r\n       <use x=\"63.623047\" xlink:href=\"#DejaVuSans-54\"/>\r\n       <use x=\"127.246094\" xlink:href=\"#DejaVuSans-56\"/>\r\n      </g>\r\n     </g>\r\n    </g>\r\n    <g id=\"ytick_170\">\r\n     <g id=\"line2d_175\">\r\n      <g>\r\n       <use style=\"stroke:#000000;stroke-width:0.8;\" x=\"33.2875\" xlink:href=\"#m7d443d45af\" y=\"168.914581\"/>\r\n      </g>\r\n     </g>\r\n     <g id=\"text_175\">\r\n      <!-- 169 -->\r\n      <g transform=\"translate(7.2 172.7138)scale(0.1 -0.1)\">\r\n       <use xlink:href=\"#DejaVuSans-49\"/>\r\n       <use x=\"63.623047\" xlink:href=\"#DejaVuSans-54\"/>\r\n       <use x=\"127.246094\" xlink:href=\"#DejaVuSans-57\"/>\r\n      </g>\r\n     </g>\r\n    </g>\r\n    <g id=\"ytick_171\">\r\n     <g id=\"line2d_176\">\r\n      <g>\r\n       <use style=\"stroke:#000000;stroke-width:0.8;\" x=\"33.2875\" xlink:href=\"#m7d443d45af\" y=\"168.564436\"/>\r\n      </g>\r\n     </g>\r\n     <g id=\"text_176\">\r\n      <!-- 170 -->\r\n      <g transform=\"translate(7.2 172.363655)scale(0.1 -0.1)\">\r\n       <use xlink:href=\"#DejaVuSans-49\"/>\r\n       <use x=\"63.623047\" xlink:href=\"#DejaVuSans-55\"/>\r\n       <use x=\"127.246094\" xlink:href=\"#DejaVuSans-48\"/>\r\n      </g>\r\n     </g>\r\n    </g>\r\n    <g id=\"ytick_172\">\r\n     <g id=\"line2d_177\">\r\n      <g>\r\n       <use style=\"stroke:#000000;stroke-width:0.8;\" x=\"33.2875\" xlink:href=\"#m7d443d45af\" y=\"168.214291\"/>\r\n      </g>\r\n     </g>\r\n     <g id=\"text_177\">\r\n      <!-- 171 -->\r\n      <g transform=\"translate(7.2 172.01351)scale(0.1 -0.1)\">\r\n       <use xlink:href=\"#DejaVuSans-49\"/>\r\n       <use x=\"63.623047\" xlink:href=\"#DejaVuSans-55\"/>\r\n       <use x=\"127.246094\" xlink:href=\"#DejaVuSans-49\"/>\r\n      </g>\r\n     </g>\r\n    </g>\r\n    <g id=\"ytick_173\">\r\n     <g id=\"line2d_178\">\r\n      <g>\r\n       <use style=\"stroke:#000000;stroke-width:0.8;\" x=\"33.2875\" xlink:href=\"#m7d443d45af\" y=\"167.864146\"/>\r\n      </g>\r\n     </g>\r\n     <g id=\"text_178\">\r\n      <!-- 172 -->\r\n      <g transform=\"translate(7.2 171.663365)scale(0.1 -0.1)\">\r\n       <use xlink:href=\"#DejaVuSans-49\"/>\r\n       <use x=\"63.623047\" xlink:href=\"#DejaVuSans-55\"/>\r\n       <use x=\"127.246094\" xlink:href=\"#DejaVuSans-50\"/>\r\n      </g>\r\n     </g>\r\n    </g>\r\n    <g id=\"ytick_174\">\r\n     <g id=\"line2d_179\">\r\n      <g>\r\n       <use style=\"stroke:#000000;stroke-width:0.8;\" x=\"33.2875\" xlink:href=\"#m7d443d45af\" y=\"167.514001\"/>\r\n      </g>\r\n     </g>\r\n     <g id=\"text_179\">\r\n      <!-- 173 -->\r\n      <g transform=\"translate(7.2 171.31322)scale(0.1 -0.1)\">\r\n       <use xlink:href=\"#DejaVuSans-49\"/>\r\n       <use x=\"63.623047\" xlink:href=\"#DejaVuSans-55\"/>\r\n       <use x=\"127.246094\" xlink:href=\"#DejaVuSans-51\"/>\r\n      </g>\r\n     </g>\r\n    </g>\r\n    <g id=\"ytick_175\">\r\n     <g id=\"line2d_180\">\r\n      <g>\r\n       <use style=\"stroke:#000000;stroke-width:0.8;\" x=\"33.2875\" xlink:href=\"#m7d443d45af\" y=\"167.163856\"/>\r\n      </g>\r\n     </g>\r\n     <g id=\"text_180\">\r\n      <!-- 174 -->\r\n      <g transform=\"translate(7.2 170.963075)scale(0.1 -0.1)\">\r\n       <use xlink:href=\"#DejaVuSans-49\"/>\r\n       <use x=\"63.623047\" xlink:href=\"#DejaVuSans-55\"/>\r\n       <use x=\"127.246094\" xlink:href=\"#DejaVuSans-52\"/>\r\n      </g>\r\n     </g>\r\n    </g>\r\n    <g id=\"ytick_176\">\r\n     <g id=\"line2d_181\">\r\n      <g>\r\n       <use style=\"stroke:#000000;stroke-width:0.8;\" x=\"33.2875\" xlink:href=\"#m7d443d45af\" y=\"166.813712\"/>\r\n      </g>\r\n     </g>\r\n     <g id=\"text_181\">\r\n      <!-- 175 -->\r\n      <g transform=\"translate(7.2 170.61293)scale(0.1 -0.1)\">\r\n       <use xlink:href=\"#DejaVuSans-49\"/>\r\n       <use x=\"63.623047\" xlink:href=\"#DejaVuSans-55\"/>\r\n       <use x=\"127.246094\" xlink:href=\"#DejaVuSans-53\"/>\r\n      </g>\r\n     </g>\r\n    </g>\r\n    <g id=\"ytick_177\">\r\n     <g id=\"line2d_182\">\r\n      <g>\r\n       <use style=\"stroke:#000000;stroke-width:0.8;\" x=\"33.2875\" xlink:href=\"#m7d443d45af\" y=\"166.463567\"/>\r\n      </g>\r\n     </g>\r\n     <g id=\"text_182\">\r\n      <!-- 176 -->\r\n      <g transform=\"translate(7.2 170.262785)scale(0.1 -0.1)\">\r\n       <use xlink:href=\"#DejaVuSans-49\"/>\r\n       <use x=\"63.623047\" xlink:href=\"#DejaVuSans-55\"/>\r\n       <use x=\"127.246094\" xlink:href=\"#DejaVuSans-54\"/>\r\n      </g>\r\n     </g>\r\n    </g>\r\n    <g id=\"ytick_178\">\r\n     <g id=\"line2d_183\">\r\n      <g>\r\n       <use style=\"stroke:#000000;stroke-width:0.8;\" x=\"33.2875\" xlink:href=\"#m7d443d45af\" y=\"166.113422\"/>\r\n      </g>\r\n     </g>\r\n     <g id=\"text_183\">\r\n      <!-- 177 -->\r\n      <g transform=\"translate(7.2 169.91264)scale(0.1 -0.1)\">\r\n       <use xlink:href=\"#DejaVuSans-49\"/>\r\n       <use x=\"63.623047\" xlink:href=\"#DejaVuSans-55\"/>\r\n       <use x=\"127.246094\" xlink:href=\"#DejaVuSans-55\"/>\r\n      </g>\r\n     </g>\r\n    </g>\r\n    <g id=\"ytick_179\">\r\n     <g id=\"line2d_184\">\r\n      <g>\r\n       <use style=\"stroke:#000000;stroke-width:0.8;\" x=\"33.2875\" xlink:href=\"#m7d443d45af\" y=\"165.763277\"/>\r\n      </g>\r\n     </g>\r\n     <g id=\"text_184\">\r\n      <!-- 178 -->\r\n      <g transform=\"translate(7.2 169.562495)scale(0.1 -0.1)\">\r\n       <use xlink:href=\"#DejaVuSans-49\"/>\r\n       <use x=\"63.623047\" xlink:href=\"#DejaVuSans-55\"/>\r\n       <use x=\"127.246094\" xlink:href=\"#DejaVuSans-56\"/>\r\n      </g>\r\n     </g>\r\n    </g>\r\n    <g id=\"ytick_180\">\r\n     <g id=\"line2d_185\">\r\n      <g>\r\n       <use style=\"stroke:#000000;stroke-width:0.8;\" x=\"33.2875\" xlink:href=\"#m7d443d45af\" y=\"165.413132\"/>\r\n      </g>\r\n     </g>\r\n     <g id=\"text_185\">\r\n      <!-- 179 -->\r\n      <g transform=\"translate(7.2 169.212351)scale(0.1 -0.1)\">\r\n       <use xlink:href=\"#DejaVuSans-49\"/>\r\n       <use x=\"63.623047\" xlink:href=\"#DejaVuSans-55\"/>\r\n       <use x=\"127.246094\" xlink:href=\"#DejaVuSans-57\"/>\r\n      </g>\r\n     </g>\r\n    </g>\r\n    <g id=\"ytick_181\">\r\n     <g id=\"line2d_186\">\r\n      <g>\r\n       <use style=\"stroke:#000000;stroke-width:0.8;\" x=\"33.2875\" xlink:href=\"#m7d443d45af\" y=\"165.062987\"/>\r\n      </g>\r\n     </g>\r\n     <g id=\"text_186\">\r\n      <!-- 180 -->\r\n      <g transform=\"translate(7.2 168.862206)scale(0.1 -0.1)\">\r\n       <use xlink:href=\"#DejaVuSans-49\"/>\r\n       <use x=\"63.623047\" xlink:href=\"#DejaVuSans-56\"/>\r\n       <use x=\"127.246094\" xlink:href=\"#DejaVuSans-48\"/>\r\n      </g>\r\n     </g>\r\n    </g>\r\n    <g id=\"ytick_182\">\r\n     <g id=\"line2d_187\">\r\n      <g>\r\n       <use style=\"stroke:#000000;stroke-width:0.8;\" x=\"33.2875\" xlink:href=\"#m7d443d45af\" y=\"164.712842\"/>\r\n      </g>\r\n     </g>\r\n     <g id=\"text_187\">\r\n      <!-- 181 -->\r\n      <g transform=\"translate(7.2 168.512061)scale(0.1 -0.1)\">\r\n       <use xlink:href=\"#DejaVuSans-49\"/>\r\n       <use x=\"63.623047\" xlink:href=\"#DejaVuSans-56\"/>\r\n       <use x=\"127.246094\" xlink:href=\"#DejaVuSans-49\"/>\r\n      </g>\r\n     </g>\r\n    </g>\r\n    <g id=\"ytick_183\">\r\n     <g id=\"line2d_188\">\r\n      <g>\r\n       <use style=\"stroke:#000000;stroke-width:0.8;\" x=\"33.2875\" xlink:href=\"#m7d443d45af\" y=\"164.362697\"/>\r\n      </g>\r\n     </g>\r\n     <g id=\"text_188\">\r\n      <!-- 182 -->\r\n      <g transform=\"translate(7.2 168.161916)scale(0.1 -0.1)\">\r\n       <use xlink:href=\"#DejaVuSans-49\"/>\r\n       <use x=\"63.623047\" xlink:href=\"#DejaVuSans-56\"/>\r\n       <use x=\"127.246094\" xlink:href=\"#DejaVuSans-50\"/>\r\n      </g>\r\n     </g>\r\n    </g>\r\n    <g id=\"ytick_184\">\r\n     <g id=\"line2d_189\">\r\n      <g>\r\n       <use style=\"stroke:#000000;stroke-width:0.8;\" x=\"33.2875\" xlink:href=\"#m7d443d45af\" y=\"164.012552\"/>\r\n      </g>\r\n     </g>\r\n     <g id=\"text_189\">\r\n      <!-- 183 -->\r\n      <g transform=\"translate(7.2 167.811771)scale(0.1 -0.1)\">\r\n       <use xlink:href=\"#DejaVuSans-49\"/>\r\n       <use x=\"63.623047\" xlink:href=\"#DejaVuSans-56\"/>\r\n       <use x=\"127.246094\" xlink:href=\"#DejaVuSans-51\"/>\r\n      </g>\r\n     </g>\r\n    </g>\r\n    <g id=\"ytick_185\">\r\n     <g id=\"line2d_190\">\r\n      <g>\r\n       <use style=\"stroke:#000000;stroke-width:0.8;\" x=\"33.2875\" xlink:href=\"#m7d443d45af\" y=\"163.662407\"/>\r\n      </g>\r\n     </g>\r\n     <g id=\"text_190\">\r\n      <!-- 184 -->\r\n      <g transform=\"translate(7.2 167.461626)scale(0.1 -0.1)\">\r\n       <use xlink:href=\"#DejaVuSans-49\"/>\r\n       <use x=\"63.623047\" xlink:href=\"#DejaVuSans-56\"/>\r\n       <use x=\"127.246094\" xlink:href=\"#DejaVuSans-52\"/>\r\n      </g>\r\n     </g>\r\n    </g>\r\n    <g id=\"ytick_186\">\r\n     <g id=\"line2d_191\">\r\n      <g>\r\n       <use style=\"stroke:#000000;stroke-width:0.8;\" x=\"33.2875\" xlink:href=\"#m7d443d45af\" y=\"163.312262\"/>\r\n      </g>\r\n     </g>\r\n     <g id=\"text_191\">\r\n      <!-- 185 -->\r\n      <g transform=\"translate(7.2 167.111481)scale(0.1 -0.1)\">\r\n       <use xlink:href=\"#DejaVuSans-49\"/>\r\n       <use x=\"63.623047\" xlink:href=\"#DejaVuSans-56\"/>\r\n       <use x=\"127.246094\" xlink:href=\"#DejaVuSans-53\"/>\r\n      </g>\r\n     </g>\r\n    </g>\r\n    <g id=\"ytick_187\">\r\n     <g id=\"line2d_192\">\r\n      <g>\r\n       <use style=\"stroke:#000000;stroke-width:0.8;\" x=\"33.2875\" xlink:href=\"#m7d443d45af\" y=\"162.962117\"/>\r\n      </g>\r\n     </g>\r\n     <g id=\"text_192\">\r\n      <!-- 186 -->\r\n      <g transform=\"translate(7.2 166.761336)scale(0.1 -0.1)\">\r\n       <use xlink:href=\"#DejaVuSans-49\"/>\r\n       <use x=\"63.623047\" xlink:href=\"#DejaVuSans-56\"/>\r\n       <use x=\"127.246094\" xlink:href=\"#DejaVuSans-54\"/>\r\n      </g>\r\n     </g>\r\n    </g>\r\n    <g id=\"ytick_188\">\r\n     <g id=\"line2d_193\">\r\n      <g>\r\n       <use style=\"stroke:#000000;stroke-width:0.8;\" x=\"33.2875\" xlink:href=\"#m7d443d45af\" y=\"162.611972\"/>\r\n      </g>\r\n     </g>\r\n     <g id=\"text_193\">\r\n      <!-- 187 -->\r\n      <g transform=\"translate(7.2 166.411191)scale(0.1 -0.1)\">\r\n       <use xlink:href=\"#DejaVuSans-49\"/>\r\n       <use x=\"63.623047\" xlink:href=\"#DejaVuSans-56\"/>\r\n       <use x=\"127.246094\" xlink:href=\"#DejaVuSans-55\"/>\r\n      </g>\r\n     </g>\r\n    </g>\r\n    <g id=\"ytick_189\">\r\n     <g id=\"line2d_194\">\r\n      <g>\r\n       <use style=\"stroke:#000000;stroke-width:0.8;\" x=\"33.2875\" xlink:href=\"#m7d443d45af\" y=\"162.261827\"/>\r\n      </g>\r\n     </g>\r\n     <g id=\"text_194\">\r\n      <!-- 188 -->\r\n      <g transform=\"translate(7.2 166.061046)scale(0.1 -0.1)\">\r\n       <use xlink:href=\"#DejaVuSans-49\"/>\r\n       <use x=\"63.623047\" xlink:href=\"#DejaVuSans-56\"/>\r\n       <use x=\"127.246094\" xlink:href=\"#DejaVuSans-56\"/>\r\n      </g>\r\n     </g>\r\n    </g>\r\n    <g id=\"ytick_190\">\r\n     <g id=\"line2d_195\">\r\n      <g>\r\n       <use style=\"stroke:#000000;stroke-width:0.8;\" x=\"33.2875\" xlink:href=\"#m7d443d45af\" y=\"161.911683\"/>\r\n      </g>\r\n     </g>\r\n     <g id=\"text_195\">\r\n      <!-- 189 -->\r\n      <g transform=\"translate(7.2 165.710901)scale(0.1 -0.1)\">\r\n       <use xlink:href=\"#DejaVuSans-49\"/>\r\n       <use x=\"63.623047\" xlink:href=\"#DejaVuSans-56\"/>\r\n       <use x=\"127.246094\" xlink:href=\"#DejaVuSans-57\"/>\r\n      </g>\r\n     </g>\r\n    </g>\r\n    <g id=\"ytick_191\">\r\n     <g id=\"line2d_196\">\r\n      <g>\r\n       <use style=\"stroke:#000000;stroke-width:0.8;\" x=\"33.2875\" xlink:href=\"#m7d443d45af\" y=\"161.561538\"/>\r\n      </g>\r\n     </g>\r\n     <g id=\"text_196\">\r\n      <!-- 190 -->\r\n      <g transform=\"translate(7.2 165.360756)scale(0.1 -0.1)\">\r\n       <use xlink:href=\"#DejaVuSans-49\"/>\r\n       <use x=\"63.623047\" xlink:href=\"#DejaVuSans-57\"/>\r\n       <use x=\"127.246094\" xlink:href=\"#DejaVuSans-48\"/>\r\n      </g>\r\n     </g>\r\n    </g>\r\n    <g id=\"ytick_192\">\r\n     <g id=\"line2d_197\">\r\n      <g>\r\n       <use style=\"stroke:#000000;stroke-width:0.8;\" x=\"33.2875\" xlink:href=\"#m7d443d45af\" y=\"161.211393\"/>\r\n      </g>\r\n     </g>\r\n     <g id=\"text_197\">\r\n      <!-- 191 -->\r\n      <g transform=\"translate(7.2 165.010611)scale(0.1 -0.1)\">\r\n       <use xlink:href=\"#DejaVuSans-49\"/>\r\n       <use x=\"63.623047\" xlink:href=\"#DejaVuSans-57\"/>\r\n       <use x=\"127.246094\" xlink:href=\"#DejaVuSans-49\"/>\r\n      </g>\r\n     </g>\r\n    </g>\r\n    <g id=\"ytick_193\">\r\n     <g id=\"line2d_198\">\r\n      <g>\r\n       <use style=\"stroke:#000000;stroke-width:0.8;\" x=\"33.2875\" xlink:href=\"#m7d443d45af\" y=\"160.861248\"/>\r\n      </g>\r\n     </g>\r\n     <g id=\"text_198\">\r\n      <!-- 192 -->\r\n      <g transform=\"translate(7.2 164.660466)scale(0.1 -0.1)\">\r\n       <use xlink:href=\"#DejaVuSans-49\"/>\r\n       <use x=\"63.623047\" xlink:href=\"#DejaVuSans-57\"/>\r\n       <use x=\"127.246094\" xlink:href=\"#DejaVuSans-50\"/>\r\n      </g>\r\n     </g>\r\n    </g>\r\n    <g id=\"ytick_194\">\r\n     <g id=\"line2d_199\">\r\n      <g>\r\n       <use style=\"stroke:#000000;stroke-width:0.8;\" x=\"33.2875\" xlink:href=\"#m7d443d45af\" y=\"160.511103\"/>\r\n      </g>\r\n     </g>\r\n     <g id=\"text_199\">\r\n      <!-- 193 -->\r\n      <g transform=\"translate(7.2 164.310322)scale(0.1 -0.1)\">\r\n       <use xlink:href=\"#DejaVuSans-49\"/>\r\n       <use x=\"63.623047\" xlink:href=\"#DejaVuSans-57\"/>\r\n       <use x=\"127.246094\" xlink:href=\"#DejaVuSans-51\"/>\r\n      </g>\r\n     </g>\r\n    </g>\r\n    <g id=\"ytick_195\">\r\n     <g id=\"line2d_200\">\r\n      <g>\r\n       <use style=\"stroke:#000000;stroke-width:0.8;\" x=\"33.2875\" xlink:href=\"#m7d443d45af\" y=\"160.160958\"/>\r\n      </g>\r\n     </g>\r\n     <g id=\"text_200\">\r\n      <!-- 194 -->\r\n      <g transform=\"translate(7.2 163.960177)scale(0.1 -0.1)\">\r\n       <use xlink:href=\"#DejaVuSans-49\"/>\r\n       <use x=\"63.623047\" xlink:href=\"#DejaVuSans-57\"/>\r\n       <use x=\"127.246094\" xlink:href=\"#DejaVuSans-52\"/>\r\n      </g>\r\n     </g>\r\n    </g>\r\n    <g id=\"ytick_196\">\r\n     <g id=\"line2d_201\">\r\n      <g>\r\n       <use style=\"stroke:#000000;stroke-width:0.8;\" x=\"33.2875\" xlink:href=\"#m7d443d45af\" y=\"159.810813\"/>\r\n      </g>\r\n     </g>\r\n     <g id=\"text_201\">\r\n      <!-- 195 -->\r\n      <g transform=\"translate(7.2 163.610032)scale(0.1 -0.1)\">\r\n       <use xlink:href=\"#DejaVuSans-49\"/>\r\n       <use x=\"63.623047\" xlink:href=\"#DejaVuSans-57\"/>\r\n       <use x=\"127.246094\" xlink:href=\"#DejaVuSans-53\"/>\r\n      </g>\r\n     </g>\r\n    </g>\r\n    <g id=\"ytick_197\">\r\n     <g id=\"line2d_202\">\r\n      <g>\r\n       <use style=\"stroke:#000000;stroke-width:0.8;\" x=\"33.2875\" xlink:href=\"#m7d443d45af\" y=\"159.460668\"/>\r\n      </g>\r\n     </g>\r\n     <g id=\"text_202\">\r\n      <!-- 196 -->\r\n      <g transform=\"translate(7.2 163.259887)scale(0.1 -0.1)\">\r\n       <use xlink:href=\"#DejaVuSans-49\"/>\r\n       <use x=\"63.623047\" xlink:href=\"#DejaVuSans-57\"/>\r\n       <use x=\"127.246094\" xlink:href=\"#DejaVuSans-54\"/>\r\n      </g>\r\n     </g>\r\n    </g>\r\n    <g id=\"ytick_198\">\r\n     <g id=\"line2d_203\">\r\n      <g>\r\n       <use style=\"stroke:#000000;stroke-width:0.8;\" x=\"33.2875\" xlink:href=\"#m7d443d45af\" y=\"159.110523\"/>\r\n      </g>\r\n     </g>\r\n     <g id=\"text_203\">\r\n      <!-- 197 -->\r\n      <g transform=\"translate(7.2 162.909742)scale(0.1 -0.1)\">\r\n       <use xlink:href=\"#DejaVuSans-49\"/>\r\n       <use x=\"63.623047\" xlink:href=\"#DejaVuSans-57\"/>\r\n       <use x=\"127.246094\" xlink:href=\"#DejaVuSans-55\"/>\r\n      </g>\r\n     </g>\r\n    </g>\r\n    <g id=\"ytick_199\">\r\n     <g id=\"line2d_204\">\r\n      <g>\r\n       <use style=\"stroke:#000000;stroke-width:0.8;\" x=\"33.2875\" xlink:href=\"#m7d443d45af\" y=\"158.760378\"/>\r\n      </g>\r\n     </g>\r\n     <g id=\"text_204\">\r\n      <!-- 198 -->\r\n      <g transform=\"translate(7.2 162.559597)scale(0.1 -0.1)\">\r\n       <use xlink:href=\"#DejaVuSans-49\"/>\r\n       <use x=\"63.623047\" xlink:href=\"#DejaVuSans-57\"/>\r\n       <use x=\"127.246094\" xlink:href=\"#DejaVuSans-56\"/>\r\n      </g>\r\n     </g>\r\n    </g>\r\n    <g id=\"ytick_200\">\r\n     <g id=\"line2d_205\">\r\n      <g>\r\n       <use style=\"stroke:#000000;stroke-width:0.8;\" x=\"33.2875\" xlink:href=\"#m7d443d45af\" y=\"158.410233\"/>\r\n      </g>\r\n     </g>\r\n     <g id=\"text_205\">\r\n      <!-- 199 -->\r\n      <g transform=\"translate(7.2 162.209452)scale(0.1 -0.1)\">\r\n       <use xlink:href=\"#DejaVuSans-49\"/>\r\n       <use x=\"63.623047\" xlink:href=\"#DejaVuSans-57\"/>\r\n       <use x=\"127.246094\" xlink:href=\"#DejaVuSans-57\"/>\r\n      </g>\r\n     </g>\r\n    </g>\r\n    <g id=\"ytick_201\">\r\n     <g id=\"line2d_206\">\r\n      <g>\r\n       <use style=\"stroke:#000000;stroke-width:0.8;\" x=\"33.2875\" xlink:href=\"#m7d443d45af\" y=\"158.060088\"/>\r\n      </g>\r\n     </g>\r\n     <g id=\"text_206\">\r\n      <!-- 200 -->\r\n      <g transform=\"translate(7.2 161.859307)scale(0.1 -0.1)\">\r\n       <use xlink:href=\"#DejaVuSans-50\"/>\r\n       <use x=\"63.623047\" xlink:href=\"#DejaVuSans-48\"/>\r\n       <use x=\"127.246094\" xlink:href=\"#DejaVuSans-48\"/>\r\n      </g>\r\n     </g>\r\n    </g>\r\n    <g id=\"ytick_202\">\r\n     <g id=\"line2d_207\">\r\n      <g>\r\n       <use style=\"stroke:#000000;stroke-width:0.8;\" x=\"33.2875\" xlink:href=\"#m7d443d45af\" y=\"157.709943\"/>\r\n      </g>\r\n     </g>\r\n     <g id=\"text_207\">\r\n      <!-- 201 -->\r\n      <g transform=\"translate(7.2 161.509162)scale(0.1 -0.1)\">\r\n       <use xlink:href=\"#DejaVuSans-50\"/>\r\n       <use x=\"63.623047\" xlink:href=\"#DejaVuSans-48\"/>\r\n       <use x=\"127.246094\" xlink:href=\"#DejaVuSans-49\"/>\r\n      </g>\r\n     </g>\r\n    </g>\r\n    <g id=\"ytick_203\">\r\n     <g id=\"line2d_208\">\r\n      <g>\r\n       <use style=\"stroke:#000000;stroke-width:0.8;\" x=\"33.2875\" xlink:href=\"#m7d443d45af\" y=\"157.359798\"/>\r\n      </g>\r\n     </g>\r\n     <g id=\"text_208\">\r\n      <!-- 202 -->\r\n      <g transform=\"translate(7.2 161.159017)scale(0.1 -0.1)\">\r\n       <use xlink:href=\"#DejaVuSans-50\"/>\r\n       <use x=\"63.623047\" xlink:href=\"#DejaVuSans-48\"/>\r\n       <use x=\"127.246094\" xlink:href=\"#DejaVuSans-50\"/>\r\n      </g>\r\n     </g>\r\n    </g>\r\n    <g id=\"ytick_204\">\r\n     <g id=\"line2d_209\">\r\n      <g>\r\n       <use style=\"stroke:#000000;stroke-width:0.8;\" x=\"33.2875\" xlink:href=\"#m7d443d45af\" y=\"157.009654\"/>\r\n      </g>\r\n     </g>\r\n     <g id=\"text_209\">\r\n      <!-- 203 -->\r\n      <g transform=\"translate(7.2 160.808872)scale(0.1 -0.1)\">\r\n       <use xlink:href=\"#DejaVuSans-50\"/>\r\n       <use x=\"63.623047\" xlink:href=\"#DejaVuSans-48\"/>\r\n       <use x=\"127.246094\" xlink:href=\"#DejaVuSans-51\"/>\r\n      </g>\r\n     </g>\r\n    </g>\r\n    <g id=\"ytick_205\">\r\n     <g id=\"line2d_210\">\r\n      <g>\r\n       <use style=\"stroke:#000000;stroke-width:0.8;\" x=\"33.2875\" xlink:href=\"#m7d443d45af\" y=\"156.659509\"/>\r\n      </g>\r\n     </g>\r\n     <g id=\"text_210\">\r\n      <!-- 204 -->\r\n      <g transform=\"translate(7.2 160.458727)scale(0.1 -0.1)\">\r\n       <use xlink:href=\"#DejaVuSans-50\"/>\r\n       <use x=\"63.623047\" xlink:href=\"#DejaVuSans-48\"/>\r\n       <use x=\"127.246094\" xlink:href=\"#DejaVuSans-52\"/>\r\n      </g>\r\n     </g>\r\n    </g>\r\n    <g id=\"ytick_206\">\r\n     <g id=\"line2d_211\">\r\n      <g>\r\n       <use style=\"stroke:#000000;stroke-width:0.8;\" x=\"33.2875\" xlink:href=\"#m7d443d45af\" y=\"156.309364\"/>\r\n      </g>\r\n     </g>\r\n     <g id=\"text_211\">\r\n      <!-- 205 -->\r\n      <g transform=\"translate(7.2 160.108582)scale(0.1 -0.1)\">\r\n       <use xlink:href=\"#DejaVuSans-50\"/>\r\n       <use x=\"63.623047\" xlink:href=\"#DejaVuSans-48\"/>\r\n       <use x=\"127.246094\" xlink:href=\"#DejaVuSans-53\"/>\r\n      </g>\r\n     </g>\r\n    </g>\r\n    <g id=\"ytick_207\">\r\n     <g id=\"line2d_212\">\r\n      <g>\r\n       <use style=\"stroke:#000000;stroke-width:0.8;\" x=\"33.2875\" xlink:href=\"#m7d443d45af\" y=\"155.959219\"/>\r\n      </g>\r\n     </g>\r\n     <g id=\"text_212\">\r\n      <!-- 206 -->\r\n      <g transform=\"translate(7.2 159.758437)scale(0.1 -0.1)\">\r\n       <use xlink:href=\"#DejaVuSans-50\"/>\r\n       <use x=\"63.623047\" xlink:href=\"#DejaVuSans-48\"/>\r\n       <use x=\"127.246094\" xlink:href=\"#DejaVuSans-54\"/>\r\n      </g>\r\n     </g>\r\n    </g>\r\n    <g id=\"ytick_208\">\r\n     <g id=\"line2d_213\">\r\n      <g>\r\n       <use style=\"stroke:#000000;stroke-width:0.8;\" x=\"33.2875\" xlink:href=\"#m7d443d45af\" y=\"155.609074\"/>\r\n      </g>\r\n     </g>\r\n     <g id=\"text_213\">\r\n      <!-- 207 -->\r\n      <g transform=\"translate(7.2 159.408293)scale(0.1 -0.1)\">\r\n       <use xlink:href=\"#DejaVuSans-50\"/>\r\n       <use x=\"63.623047\" xlink:href=\"#DejaVuSans-48\"/>\r\n       <use x=\"127.246094\" xlink:href=\"#DejaVuSans-55\"/>\r\n      </g>\r\n     </g>\r\n    </g>\r\n    <g id=\"ytick_209\">\r\n     <g id=\"line2d_214\">\r\n      <g>\r\n       <use style=\"stroke:#000000;stroke-width:0.8;\" x=\"33.2875\" xlink:href=\"#m7d443d45af\" y=\"155.258929\"/>\r\n      </g>\r\n     </g>\r\n     <g id=\"text_214\">\r\n      <!-- 208 -->\r\n      <g transform=\"translate(7.2 159.058148)scale(0.1 -0.1)\">\r\n       <use xlink:href=\"#DejaVuSans-50\"/>\r\n       <use x=\"63.623047\" xlink:href=\"#DejaVuSans-48\"/>\r\n       <use x=\"127.246094\" xlink:href=\"#DejaVuSans-56\"/>\r\n      </g>\r\n     </g>\r\n    </g>\r\n    <g id=\"ytick_210\">\r\n     <g id=\"line2d_215\">\r\n      <g>\r\n       <use style=\"stroke:#000000;stroke-width:0.8;\" x=\"33.2875\" xlink:href=\"#m7d443d45af\" y=\"154.908784\"/>\r\n      </g>\r\n     </g>\r\n     <g id=\"text_215\">\r\n      <!-- 209 -->\r\n      <g transform=\"translate(7.2 158.708003)scale(0.1 -0.1)\">\r\n       <use xlink:href=\"#DejaVuSans-50\"/>\r\n       <use x=\"63.623047\" xlink:href=\"#DejaVuSans-48\"/>\r\n       <use x=\"127.246094\" xlink:href=\"#DejaVuSans-57\"/>\r\n      </g>\r\n     </g>\r\n    </g>\r\n    <g id=\"ytick_211\">\r\n     <g id=\"line2d_216\">\r\n      <g>\r\n       <use style=\"stroke:#000000;stroke-width:0.8;\" x=\"33.2875\" xlink:href=\"#m7d443d45af\" y=\"154.558639\"/>\r\n      </g>\r\n     </g>\r\n     <g id=\"text_216\">\r\n      <!-- 210 -->\r\n      <g transform=\"translate(7.2 158.357858)scale(0.1 -0.1)\">\r\n       <use xlink:href=\"#DejaVuSans-50\"/>\r\n       <use x=\"63.623047\" xlink:href=\"#DejaVuSans-49\"/>\r\n       <use x=\"127.246094\" xlink:href=\"#DejaVuSans-48\"/>\r\n      </g>\r\n     </g>\r\n    </g>\r\n    <g id=\"ytick_212\">\r\n     <g id=\"line2d_217\">\r\n      <g>\r\n       <use style=\"stroke:#000000;stroke-width:0.8;\" x=\"33.2875\" xlink:href=\"#m7d443d45af\" y=\"154.208494\"/>\r\n      </g>\r\n     </g>\r\n     <g id=\"text_217\">\r\n      <!-- 211 -->\r\n      <g transform=\"translate(7.2 158.007713)scale(0.1 -0.1)\">\r\n       <use xlink:href=\"#DejaVuSans-50\"/>\r\n       <use x=\"63.623047\" xlink:href=\"#DejaVuSans-49\"/>\r\n       <use x=\"127.246094\" xlink:href=\"#DejaVuSans-49\"/>\r\n      </g>\r\n     </g>\r\n    </g>\r\n    <g id=\"ytick_213\">\r\n     <g id=\"line2d_218\">\r\n      <g>\r\n       <use style=\"stroke:#000000;stroke-width:0.8;\" x=\"33.2875\" xlink:href=\"#m7d443d45af\" y=\"153.858349\"/>\r\n      </g>\r\n     </g>\r\n     <g id=\"text_218\">\r\n      <!-- 212 -->\r\n      <g transform=\"translate(7.2 157.657568)scale(0.1 -0.1)\">\r\n       <use xlink:href=\"#DejaVuSans-50\"/>\r\n       <use x=\"63.623047\" xlink:href=\"#DejaVuSans-49\"/>\r\n       <use x=\"127.246094\" xlink:href=\"#DejaVuSans-50\"/>\r\n      </g>\r\n     </g>\r\n    </g>\r\n    <g id=\"ytick_214\">\r\n     <g id=\"line2d_219\">\r\n      <g>\r\n       <use style=\"stroke:#000000;stroke-width:0.8;\" x=\"33.2875\" xlink:href=\"#m7d443d45af\" y=\"153.508204\"/>\r\n      </g>\r\n     </g>\r\n     <g id=\"text_219\">\r\n      <!-- 213 -->\r\n      <g transform=\"translate(7.2 157.307423)scale(0.1 -0.1)\">\r\n       <use xlink:href=\"#DejaVuSans-50\"/>\r\n       <use x=\"63.623047\" xlink:href=\"#DejaVuSans-49\"/>\r\n       <use x=\"127.246094\" xlink:href=\"#DejaVuSans-51\"/>\r\n      </g>\r\n     </g>\r\n    </g>\r\n    <g id=\"ytick_215\">\r\n     <g id=\"line2d_220\">\r\n      <g>\r\n       <use style=\"stroke:#000000;stroke-width:0.8;\" x=\"33.2875\" xlink:href=\"#m7d443d45af\" y=\"153.158059\"/>\r\n      </g>\r\n     </g>\r\n     <g id=\"text_220\">\r\n      <!-- 214 -->\r\n      <g transform=\"translate(7.2 156.957278)scale(0.1 -0.1)\">\r\n       <use xlink:href=\"#DejaVuSans-50\"/>\r\n       <use x=\"63.623047\" xlink:href=\"#DejaVuSans-49\"/>\r\n       <use x=\"127.246094\" xlink:href=\"#DejaVuSans-52\"/>\r\n      </g>\r\n     </g>\r\n    </g>\r\n    <g id=\"ytick_216\">\r\n     <g id=\"line2d_221\">\r\n      <g>\r\n       <use style=\"stroke:#000000;stroke-width:0.8;\" x=\"33.2875\" xlink:href=\"#m7d443d45af\" y=\"152.807914\"/>\r\n      </g>\r\n     </g>\r\n     <g id=\"text_221\">\r\n      <!-- 215 -->\r\n      <g transform=\"translate(7.2 156.607133)scale(0.1 -0.1)\">\r\n       <use xlink:href=\"#DejaVuSans-50\"/>\r\n       <use x=\"63.623047\" xlink:href=\"#DejaVuSans-49\"/>\r\n       <use x=\"127.246094\" xlink:href=\"#DejaVuSans-53\"/>\r\n      </g>\r\n     </g>\r\n    </g>\r\n    <g id=\"ytick_217\">\r\n     <g id=\"line2d_222\">\r\n      <g>\r\n       <use style=\"stroke:#000000;stroke-width:0.8;\" x=\"33.2875\" xlink:href=\"#m7d443d45af\" y=\"152.457769\"/>\r\n      </g>\r\n     </g>\r\n     <g id=\"text_222\">\r\n      <!-- 216 -->\r\n      <g transform=\"translate(7.2 156.256988)scale(0.1 -0.1)\">\r\n       <use xlink:href=\"#DejaVuSans-50\"/>\r\n       <use x=\"63.623047\" xlink:href=\"#DejaVuSans-49\"/>\r\n       <use x=\"127.246094\" xlink:href=\"#DejaVuSans-54\"/>\r\n      </g>\r\n     </g>\r\n    </g>\r\n    <g id=\"ytick_218\">\r\n     <g id=\"line2d_223\">\r\n      <g>\r\n       <use style=\"stroke:#000000;stroke-width:0.8;\" x=\"33.2875\" xlink:href=\"#m7d443d45af\" y=\"152.107625\"/>\r\n      </g>\r\n     </g>\r\n     <g id=\"text_223\">\r\n      <!-- 217 -->\r\n      <g transform=\"translate(7.2 155.906843)scale(0.1 -0.1)\">\r\n       <use xlink:href=\"#DejaVuSans-50\"/>\r\n       <use x=\"63.623047\" xlink:href=\"#DejaVuSans-49\"/>\r\n       <use x=\"127.246094\" xlink:href=\"#DejaVuSans-55\"/>\r\n      </g>\r\n     </g>\r\n    </g>\r\n    <g id=\"ytick_219\">\r\n     <g id=\"line2d_224\">\r\n      <g>\r\n       <use style=\"stroke:#000000;stroke-width:0.8;\" x=\"33.2875\" xlink:href=\"#m7d443d45af\" y=\"151.75748\"/>\r\n      </g>\r\n     </g>\r\n     <g id=\"text_224\">\r\n      <!-- 218 -->\r\n      <g transform=\"translate(7.2 155.556698)scale(0.1 -0.1)\">\r\n       <use xlink:href=\"#DejaVuSans-50\"/>\r\n       <use x=\"63.623047\" xlink:href=\"#DejaVuSans-49\"/>\r\n       <use x=\"127.246094\" xlink:href=\"#DejaVuSans-56\"/>\r\n      </g>\r\n     </g>\r\n    </g>\r\n    <g id=\"ytick_220\">\r\n     <g id=\"line2d_225\">\r\n      <g>\r\n       <use style=\"stroke:#000000;stroke-width:0.8;\" x=\"33.2875\" xlink:href=\"#m7d443d45af\" y=\"151.407335\"/>\r\n      </g>\r\n     </g>\r\n     <g id=\"text_225\">\r\n      <!-- 219 -->\r\n      <g transform=\"translate(7.2 155.206553)scale(0.1 -0.1)\">\r\n       <use xlink:href=\"#DejaVuSans-50\"/>\r\n       <use x=\"63.623047\" xlink:href=\"#DejaVuSans-49\"/>\r\n       <use x=\"127.246094\" xlink:href=\"#DejaVuSans-57\"/>\r\n      </g>\r\n     </g>\r\n    </g>\r\n    <g id=\"ytick_221\">\r\n     <g id=\"line2d_226\">\r\n      <g>\r\n       <use style=\"stroke:#000000;stroke-width:0.8;\" x=\"33.2875\" xlink:href=\"#m7d443d45af\" y=\"151.05719\"/>\r\n      </g>\r\n     </g>\r\n     <g id=\"text_226\">\r\n      <!-- 220 -->\r\n      <g transform=\"translate(7.2 154.856409)scale(0.1 -0.1)\">\r\n       <use xlink:href=\"#DejaVuSans-50\"/>\r\n       <use x=\"63.623047\" xlink:href=\"#DejaVuSans-50\"/>\r\n       <use x=\"127.246094\" xlink:href=\"#DejaVuSans-48\"/>\r\n      </g>\r\n     </g>\r\n    </g>\r\n    <g id=\"ytick_222\">\r\n     <g id=\"line2d_227\">\r\n      <g>\r\n       <use style=\"stroke:#000000;stroke-width:0.8;\" x=\"33.2875\" xlink:href=\"#m7d443d45af\" y=\"150.707045\"/>\r\n      </g>\r\n     </g>\r\n     <g id=\"text_227\">\r\n      <!-- 221 -->\r\n      <g transform=\"translate(7.2 154.506264)scale(0.1 -0.1)\">\r\n       <use xlink:href=\"#DejaVuSans-50\"/>\r\n       <use x=\"63.623047\" xlink:href=\"#DejaVuSans-50\"/>\r\n       <use x=\"127.246094\" xlink:href=\"#DejaVuSans-49\"/>\r\n      </g>\r\n     </g>\r\n    </g>\r\n    <g id=\"ytick_223\">\r\n     <g id=\"line2d_228\">\r\n      <g>\r\n       <use style=\"stroke:#000000;stroke-width:0.8;\" x=\"33.2875\" xlink:href=\"#m7d443d45af\" y=\"150.3569\"/>\r\n      </g>\r\n     </g>\r\n     <g id=\"text_228\">\r\n      <!-- 222 -->\r\n      <g transform=\"translate(7.2 154.156119)scale(0.1 -0.1)\">\r\n       <use xlink:href=\"#DejaVuSans-50\"/>\r\n       <use x=\"63.623047\" xlink:href=\"#DejaVuSans-50\"/>\r\n       <use x=\"127.246094\" xlink:href=\"#DejaVuSans-50\"/>\r\n      </g>\r\n     </g>\r\n    </g>\r\n    <g id=\"ytick_224\">\r\n     <g id=\"line2d_229\">\r\n      <g>\r\n       <use style=\"stroke:#000000;stroke-width:0.8;\" x=\"33.2875\" xlink:href=\"#m7d443d45af\" y=\"150.006755\"/>\r\n      </g>\r\n     </g>\r\n     <g id=\"text_229\">\r\n      <!-- 223 -->\r\n      <g transform=\"translate(7.2 153.805974)scale(0.1 -0.1)\">\r\n       <use xlink:href=\"#DejaVuSans-50\"/>\r\n       <use x=\"63.623047\" xlink:href=\"#DejaVuSans-50\"/>\r\n       <use x=\"127.246094\" xlink:href=\"#DejaVuSans-51\"/>\r\n      </g>\r\n     </g>\r\n    </g>\r\n    <g id=\"ytick_225\">\r\n     <g id=\"line2d_230\">\r\n      <g>\r\n       <use style=\"stroke:#000000;stroke-width:0.8;\" x=\"33.2875\" xlink:href=\"#m7d443d45af\" y=\"149.65661\"/>\r\n      </g>\r\n     </g>\r\n     <g id=\"text_230\">\r\n      <!-- 224 -->\r\n      <g transform=\"translate(7.2 153.455829)scale(0.1 -0.1)\">\r\n       <use xlink:href=\"#DejaVuSans-50\"/>\r\n       <use x=\"63.623047\" xlink:href=\"#DejaVuSans-50\"/>\r\n       <use x=\"127.246094\" xlink:href=\"#DejaVuSans-52\"/>\r\n      </g>\r\n     </g>\r\n    </g>\r\n    <g id=\"ytick_226\">\r\n     <g id=\"line2d_231\">\r\n      <g>\r\n       <use style=\"stroke:#000000;stroke-width:0.8;\" x=\"33.2875\" xlink:href=\"#m7d443d45af\" y=\"149.306465\"/>\r\n      </g>\r\n     </g>\r\n     <g id=\"text_231\">\r\n      <!-- 225 -->\r\n      <g transform=\"translate(7.2 153.105684)scale(0.1 -0.1)\">\r\n       <use xlink:href=\"#DejaVuSans-50\"/>\r\n       <use x=\"63.623047\" xlink:href=\"#DejaVuSans-50\"/>\r\n       <use x=\"127.246094\" xlink:href=\"#DejaVuSans-53\"/>\r\n      </g>\r\n     </g>\r\n    </g>\r\n    <g id=\"ytick_227\">\r\n     <g id=\"line2d_232\">\r\n      <g>\r\n       <use style=\"stroke:#000000;stroke-width:0.8;\" x=\"33.2875\" xlink:href=\"#m7d443d45af\" y=\"148.95632\"/>\r\n      </g>\r\n     </g>\r\n     <g id=\"text_232\">\r\n      <!-- 226 -->\r\n      <g transform=\"translate(7.2 152.755539)scale(0.1 -0.1)\">\r\n       <use xlink:href=\"#DejaVuSans-50\"/>\r\n       <use x=\"63.623047\" xlink:href=\"#DejaVuSans-50\"/>\r\n       <use x=\"127.246094\" xlink:href=\"#DejaVuSans-54\"/>\r\n      </g>\r\n     </g>\r\n    </g>\r\n    <g id=\"ytick_228\">\r\n     <g id=\"line2d_233\">\r\n      <g>\r\n       <use style=\"stroke:#000000;stroke-width:0.8;\" x=\"33.2875\" xlink:href=\"#m7d443d45af\" y=\"148.606175\"/>\r\n      </g>\r\n     </g>\r\n     <g id=\"text_233\">\r\n      <!-- 227 -->\r\n      <g transform=\"translate(7.2 152.405394)scale(0.1 -0.1)\">\r\n       <use xlink:href=\"#DejaVuSans-50\"/>\r\n       <use x=\"63.623047\" xlink:href=\"#DejaVuSans-50\"/>\r\n       <use x=\"127.246094\" xlink:href=\"#DejaVuSans-55\"/>\r\n      </g>\r\n     </g>\r\n    </g>\r\n    <g id=\"ytick_229\">\r\n     <g id=\"line2d_234\">\r\n      <g>\r\n       <use style=\"stroke:#000000;stroke-width:0.8;\" x=\"33.2875\" xlink:href=\"#m7d443d45af\" y=\"148.25603\"/>\r\n      </g>\r\n     </g>\r\n     <g id=\"text_234\">\r\n      <!-- 228 -->\r\n      <g transform=\"translate(7.2 152.055249)scale(0.1 -0.1)\">\r\n       <use xlink:href=\"#DejaVuSans-50\"/>\r\n       <use x=\"63.623047\" xlink:href=\"#DejaVuSans-50\"/>\r\n       <use x=\"127.246094\" xlink:href=\"#DejaVuSans-56\"/>\r\n      </g>\r\n     </g>\r\n    </g>\r\n    <g id=\"ytick_230\">\r\n     <g id=\"line2d_235\">\r\n      <g>\r\n       <use style=\"stroke:#000000;stroke-width:0.8;\" x=\"33.2875\" xlink:href=\"#m7d443d45af\" y=\"147.905885\"/>\r\n      </g>\r\n     </g>\r\n     <g id=\"text_235\">\r\n      <!-- 229 -->\r\n      <g transform=\"translate(7.2 151.705104)scale(0.1 -0.1)\">\r\n       <use xlink:href=\"#DejaVuSans-50\"/>\r\n       <use x=\"63.623047\" xlink:href=\"#DejaVuSans-50\"/>\r\n       <use x=\"127.246094\" xlink:href=\"#DejaVuSans-57\"/>\r\n      </g>\r\n     </g>\r\n    </g>\r\n    <g id=\"ytick_231\">\r\n     <g id=\"line2d_236\">\r\n      <g>\r\n       <use style=\"stroke:#000000;stroke-width:0.8;\" x=\"33.2875\" xlink:href=\"#m7d443d45af\" y=\"147.55574\"/>\r\n      </g>\r\n     </g>\r\n     <g id=\"text_236\">\r\n      <!-- 230 -->\r\n      <g transform=\"translate(7.2 151.354959)scale(0.1 -0.1)\">\r\n       <use xlink:href=\"#DejaVuSans-50\"/>\r\n       <use x=\"63.623047\" xlink:href=\"#DejaVuSans-51\"/>\r\n       <use x=\"127.246094\" xlink:href=\"#DejaVuSans-48\"/>\r\n      </g>\r\n     </g>\r\n    </g>\r\n    <g id=\"ytick_232\">\r\n     <g id=\"line2d_237\">\r\n      <g>\r\n       <use style=\"stroke:#000000;stroke-width:0.8;\" x=\"33.2875\" xlink:href=\"#m7d443d45af\" y=\"147.205596\"/>\r\n      </g>\r\n     </g>\r\n     <g id=\"text_237\">\r\n      <!-- 231 -->\r\n      <g transform=\"translate(7.2 151.004814)scale(0.1 -0.1)\">\r\n       <use xlink:href=\"#DejaVuSans-50\"/>\r\n       <use x=\"63.623047\" xlink:href=\"#DejaVuSans-51\"/>\r\n       <use x=\"127.246094\" xlink:href=\"#DejaVuSans-49\"/>\r\n      </g>\r\n     </g>\r\n    </g>\r\n    <g id=\"ytick_233\">\r\n     <g id=\"line2d_238\">\r\n      <g>\r\n       <use style=\"stroke:#000000;stroke-width:0.8;\" x=\"33.2875\" xlink:href=\"#m7d443d45af\" y=\"146.855451\"/>\r\n      </g>\r\n     </g>\r\n     <g id=\"text_238\">\r\n      <!-- 232 -->\r\n      <g transform=\"translate(7.2 150.654669)scale(0.1 -0.1)\">\r\n       <use xlink:href=\"#DejaVuSans-50\"/>\r\n       <use x=\"63.623047\" xlink:href=\"#DejaVuSans-51\"/>\r\n       <use x=\"127.246094\" xlink:href=\"#DejaVuSans-50\"/>\r\n      </g>\r\n     </g>\r\n    </g>\r\n    <g id=\"ytick_234\">\r\n     <g id=\"line2d_239\">\r\n      <g>\r\n       <use style=\"stroke:#000000;stroke-width:0.8;\" x=\"33.2875\" xlink:href=\"#m7d443d45af\" y=\"146.505306\"/>\r\n      </g>\r\n     </g>\r\n     <g id=\"text_239\">\r\n      <!-- 233 -->\r\n      <g transform=\"translate(7.2 150.304524)scale(0.1 -0.1)\">\r\n       <use xlink:href=\"#DejaVuSans-50\"/>\r\n       <use x=\"63.623047\" xlink:href=\"#DejaVuSans-51\"/>\r\n       <use x=\"127.246094\" xlink:href=\"#DejaVuSans-51\"/>\r\n      </g>\r\n     </g>\r\n    </g>\r\n    <g id=\"ytick_235\">\r\n     <g id=\"line2d_240\">\r\n      <g>\r\n       <use style=\"stroke:#000000;stroke-width:0.8;\" x=\"33.2875\" xlink:href=\"#m7d443d45af\" y=\"146.155161\"/>\r\n      </g>\r\n     </g>\r\n     <g id=\"text_240\">\r\n      <!-- 234 -->\r\n      <g transform=\"translate(7.2 149.95438)scale(0.1 -0.1)\">\r\n       <use xlink:href=\"#DejaVuSans-50\"/>\r\n       <use x=\"63.623047\" xlink:href=\"#DejaVuSans-51\"/>\r\n       <use x=\"127.246094\" xlink:href=\"#DejaVuSans-52\"/>\r\n      </g>\r\n     </g>\r\n    </g>\r\n    <g id=\"ytick_236\">\r\n     <g id=\"line2d_241\">\r\n      <g>\r\n       <use style=\"stroke:#000000;stroke-width:0.8;\" x=\"33.2875\" xlink:href=\"#m7d443d45af\" y=\"145.805016\"/>\r\n      </g>\r\n     </g>\r\n     <g id=\"text_241\">\r\n      <!-- 235 -->\r\n      <g transform=\"translate(7.2 149.604235)scale(0.1 -0.1)\">\r\n       <use xlink:href=\"#DejaVuSans-50\"/>\r\n       <use x=\"63.623047\" xlink:href=\"#DejaVuSans-51\"/>\r\n       <use x=\"127.246094\" xlink:href=\"#DejaVuSans-53\"/>\r\n      </g>\r\n     </g>\r\n    </g>\r\n    <g id=\"ytick_237\">\r\n     <g id=\"line2d_242\">\r\n      <g>\r\n       <use style=\"stroke:#000000;stroke-width:0.8;\" x=\"33.2875\" xlink:href=\"#m7d443d45af\" y=\"145.454871\"/>\r\n      </g>\r\n     </g>\r\n     <g id=\"text_242\">\r\n      <!-- 236 -->\r\n      <g transform=\"translate(7.2 149.25409)scale(0.1 -0.1)\">\r\n       <use xlink:href=\"#DejaVuSans-50\"/>\r\n       <use x=\"63.623047\" xlink:href=\"#DejaVuSans-51\"/>\r\n       <use x=\"127.246094\" xlink:href=\"#DejaVuSans-54\"/>\r\n      </g>\r\n     </g>\r\n    </g>\r\n    <g id=\"ytick_238\">\r\n     <g id=\"line2d_243\">\r\n      <g>\r\n       <use style=\"stroke:#000000;stroke-width:0.8;\" x=\"33.2875\" xlink:href=\"#m7d443d45af\" y=\"145.104726\"/>\r\n      </g>\r\n     </g>\r\n     <g id=\"text_243\">\r\n      <!-- 237 -->\r\n      <g transform=\"translate(7.2 148.903945)scale(0.1 -0.1)\">\r\n       <use xlink:href=\"#DejaVuSans-50\"/>\r\n       <use x=\"63.623047\" xlink:href=\"#DejaVuSans-51\"/>\r\n       <use x=\"127.246094\" xlink:href=\"#DejaVuSans-55\"/>\r\n      </g>\r\n     </g>\r\n    </g>\r\n    <g id=\"ytick_239\">\r\n     <g id=\"line2d_244\">\r\n      <g>\r\n       <use style=\"stroke:#000000;stroke-width:0.8;\" x=\"33.2875\" xlink:href=\"#m7d443d45af\" y=\"144.754581\"/>\r\n      </g>\r\n     </g>\r\n     <g id=\"text_244\">\r\n      <!-- 238 -->\r\n      <g transform=\"translate(7.2 148.5538)scale(0.1 -0.1)\">\r\n       <use xlink:href=\"#DejaVuSans-50\"/>\r\n       <use x=\"63.623047\" xlink:href=\"#DejaVuSans-51\"/>\r\n       <use x=\"127.246094\" xlink:href=\"#DejaVuSans-56\"/>\r\n      </g>\r\n     </g>\r\n    </g>\r\n    <g id=\"ytick_240\">\r\n     <g id=\"line2d_245\">\r\n      <g>\r\n       <use style=\"stroke:#000000;stroke-width:0.8;\" x=\"33.2875\" xlink:href=\"#m7d443d45af\" y=\"144.404436\"/>\r\n      </g>\r\n     </g>\r\n     <g id=\"text_245\">\r\n      <!-- 239 -->\r\n      <g transform=\"translate(7.2 148.203655)scale(0.1 -0.1)\">\r\n       <use xlink:href=\"#DejaVuSans-50\"/>\r\n       <use x=\"63.623047\" xlink:href=\"#DejaVuSans-51\"/>\r\n       <use x=\"127.246094\" xlink:href=\"#DejaVuSans-57\"/>\r\n      </g>\r\n     </g>\r\n    </g>\r\n    <g id=\"ytick_241\">\r\n     <g id=\"line2d_246\">\r\n      <g>\r\n       <use style=\"stroke:#000000;stroke-width:0.8;\" x=\"33.2875\" xlink:href=\"#m7d443d45af\" y=\"144.054291\"/>\r\n      </g>\r\n     </g>\r\n     <g id=\"text_246\">\r\n      <!-- 240 -->\r\n      <g transform=\"translate(7.2 147.85351)scale(0.1 -0.1)\">\r\n       <use xlink:href=\"#DejaVuSans-50\"/>\r\n       <use x=\"63.623047\" xlink:href=\"#DejaVuSans-52\"/>\r\n       <use x=\"127.246094\" xlink:href=\"#DejaVuSans-48\"/>\r\n      </g>\r\n     </g>\r\n    </g>\r\n    <g id=\"ytick_242\">\r\n     <g id=\"line2d_247\">\r\n      <g>\r\n       <use style=\"stroke:#000000;stroke-width:0.8;\" x=\"33.2875\" xlink:href=\"#m7d443d45af\" y=\"143.704146\"/>\r\n      </g>\r\n     </g>\r\n     <g id=\"text_247\">\r\n      <!-- 241 -->\r\n      <g transform=\"translate(7.2 147.503365)scale(0.1 -0.1)\">\r\n       <use xlink:href=\"#DejaVuSans-50\"/>\r\n       <use x=\"63.623047\" xlink:href=\"#DejaVuSans-52\"/>\r\n       <use x=\"127.246094\" xlink:href=\"#DejaVuSans-49\"/>\r\n      </g>\r\n     </g>\r\n    </g>\r\n    <g id=\"ytick_243\">\r\n     <g id=\"line2d_248\">\r\n      <g>\r\n       <use style=\"stroke:#000000;stroke-width:0.8;\" x=\"33.2875\" xlink:href=\"#m7d443d45af\" y=\"143.354001\"/>\r\n      </g>\r\n     </g>\r\n     <g id=\"text_248\">\r\n      <!-- 242 -->\r\n      <g transform=\"translate(7.2 147.15322)scale(0.1 -0.1)\">\r\n       <use xlink:href=\"#DejaVuSans-50\"/>\r\n       <use x=\"63.623047\" xlink:href=\"#DejaVuSans-52\"/>\r\n       <use x=\"127.246094\" xlink:href=\"#DejaVuSans-50\"/>\r\n      </g>\r\n     </g>\r\n    </g>\r\n    <g id=\"ytick_244\">\r\n     <g id=\"line2d_249\">\r\n      <g>\r\n       <use style=\"stroke:#000000;stroke-width:0.8;\" x=\"33.2875\" xlink:href=\"#m7d443d45af\" y=\"143.003856\"/>\r\n      </g>\r\n     </g>\r\n     <g id=\"text_249\">\r\n      <!-- 243 -->\r\n      <g transform=\"translate(7.2 146.803075)scale(0.1 -0.1)\">\r\n       <use xlink:href=\"#DejaVuSans-50\"/>\r\n       <use x=\"63.623047\" xlink:href=\"#DejaVuSans-52\"/>\r\n       <use x=\"127.246094\" xlink:href=\"#DejaVuSans-51\"/>\r\n      </g>\r\n     </g>\r\n    </g>\r\n    <g id=\"ytick_245\">\r\n     <g id=\"line2d_250\">\r\n      <g>\r\n       <use style=\"stroke:#000000;stroke-width:0.8;\" x=\"33.2875\" xlink:href=\"#m7d443d45af\" y=\"142.653712\"/>\r\n      </g>\r\n     </g>\r\n     <g id=\"text_250\">\r\n      <!-- 244 -->\r\n      <g transform=\"translate(7.2 146.45293)scale(0.1 -0.1)\">\r\n       <use xlink:href=\"#DejaVuSans-50\"/>\r\n       <use x=\"63.623047\" xlink:href=\"#DejaVuSans-52\"/>\r\n       <use x=\"127.246094\" xlink:href=\"#DejaVuSans-52\"/>\r\n      </g>\r\n     </g>\r\n    </g>\r\n    <g id=\"ytick_246\">\r\n     <g id=\"line2d_251\">\r\n      <g>\r\n       <use style=\"stroke:#000000;stroke-width:0.8;\" x=\"33.2875\" xlink:href=\"#m7d443d45af\" y=\"142.303567\"/>\r\n      </g>\r\n     </g>\r\n     <g id=\"text_251\">\r\n      <!-- 245 -->\r\n      <g transform=\"translate(7.2 146.102785)scale(0.1 -0.1)\">\r\n       <use xlink:href=\"#DejaVuSans-50\"/>\r\n       <use x=\"63.623047\" xlink:href=\"#DejaVuSans-52\"/>\r\n       <use x=\"127.246094\" xlink:href=\"#DejaVuSans-53\"/>\r\n      </g>\r\n     </g>\r\n    </g>\r\n    <g id=\"ytick_247\">\r\n     <g id=\"line2d_252\">\r\n      <g>\r\n       <use style=\"stroke:#000000;stroke-width:0.8;\" x=\"33.2875\" xlink:href=\"#m7d443d45af\" y=\"141.953422\"/>\r\n      </g>\r\n     </g>\r\n     <g id=\"text_252\">\r\n      <!-- 246 -->\r\n      <g transform=\"translate(7.2 145.75264)scale(0.1 -0.1)\">\r\n       <use xlink:href=\"#DejaVuSans-50\"/>\r\n       <use x=\"63.623047\" xlink:href=\"#DejaVuSans-52\"/>\r\n       <use x=\"127.246094\" xlink:href=\"#DejaVuSans-54\"/>\r\n      </g>\r\n     </g>\r\n    </g>\r\n    <g id=\"ytick_248\">\r\n     <g id=\"line2d_253\">\r\n      <g>\r\n       <use style=\"stroke:#000000;stroke-width:0.8;\" x=\"33.2875\" xlink:href=\"#m7d443d45af\" y=\"141.603277\"/>\r\n      </g>\r\n     </g>\r\n     <g id=\"text_253\">\r\n      <!-- 247 -->\r\n      <g transform=\"translate(7.2 145.402495)scale(0.1 -0.1)\">\r\n       <use xlink:href=\"#DejaVuSans-50\"/>\r\n       <use x=\"63.623047\" xlink:href=\"#DejaVuSans-52\"/>\r\n       <use x=\"127.246094\" xlink:href=\"#DejaVuSans-55\"/>\r\n      </g>\r\n     </g>\r\n    </g>\r\n    <g id=\"ytick_249\">\r\n     <g id=\"line2d_254\">\r\n      <g>\r\n       <use style=\"stroke:#000000;stroke-width:0.8;\" x=\"33.2875\" xlink:href=\"#m7d443d45af\" y=\"141.253132\"/>\r\n      </g>\r\n     </g>\r\n     <g id=\"text_254\">\r\n      <!-- 248 -->\r\n      <g transform=\"translate(7.2 145.052351)scale(0.1 -0.1)\">\r\n       <use xlink:href=\"#DejaVuSans-50\"/>\r\n       <use x=\"63.623047\" xlink:href=\"#DejaVuSans-52\"/>\r\n       <use x=\"127.246094\" xlink:href=\"#DejaVuSans-56\"/>\r\n      </g>\r\n     </g>\r\n    </g>\r\n    <g id=\"ytick_250\">\r\n     <g id=\"line2d_255\">\r\n      <g>\r\n       <use style=\"stroke:#000000;stroke-width:0.8;\" x=\"33.2875\" xlink:href=\"#m7d443d45af\" y=\"140.902987\"/>\r\n      </g>\r\n     </g>\r\n     <g id=\"text_255\">\r\n      <!-- 249 -->\r\n      <g transform=\"translate(7.2 144.702206)scale(0.1 -0.1)\">\r\n       <use xlink:href=\"#DejaVuSans-50\"/>\r\n       <use x=\"63.623047\" xlink:href=\"#DejaVuSans-52\"/>\r\n       <use x=\"127.246094\" xlink:href=\"#DejaVuSans-57\"/>\r\n      </g>\r\n     </g>\r\n    </g>\r\n    <g id=\"ytick_251\">\r\n     <g id=\"line2d_256\">\r\n      <g>\r\n       <use style=\"stroke:#000000;stroke-width:0.8;\" x=\"33.2875\" xlink:href=\"#m7d443d45af\" y=\"140.552842\"/>\r\n      </g>\r\n     </g>\r\n     <g id=\"text_256\">\r\n      <!-- 250 -->\r\n      <g transform=\"translate(7.2 144.352061)scale(0.1 -0.1)\">\r\n       <use xlink:href=\"#DejaVuSans-50\"/>\r\n       <use x=\"63.623047\" xlink:href=\"#DejaVuSans-53\"/>\r\n       <use x=\"127.246094\" xlink:href=\"#DejaVuSans-48\"/>\r\n      </g>\r\n     </g>\r\n    </g>\r\n    <g id=\"ytick_252\">\r\n     <g id=\"line2d_257\">\r\n      <g>\r\n       <use style=\"stroke:#000000;stroke-width:0.8;\" x=\"33.2875\" xlink:href=\"#m7d443d45af\" y=\"140.202697\"/>\r\n      </g>\r\n     </g>\r\n     <g id=\"text_257\">\r\n      <!-- 251 -->\r\n      <g transform=\"translate(7.2 144.001916)scale(0.1 -0.1)\">\r\n       <use xlink:href=\"#DejaVuSans-50\"/>\r\n       <use x=\"63.623047\" xlink:href=\"#DejaVuSans-53\"/>\r\n       <use x=\"127.246094\" xlink:href=\"#DejaVuSans-49\"/>\r\n      </g>\r\n     </g>\r\n    </g>\r\n    <g id=\"ytick_253\">\r\n     <g id=\"line2d_258\">\r\n      <g>\r\n       <use style=\"stroke:#000000;stroke-width:0.8;\" x=\"33.2875\" xlink:href=\"#m7d443d45af\" y=\"139.852552\"/>\r\n      </g>\r\n     </g>\r\n     <g id=\"text_258\">\r\n      <!-- 252 -->\r\n      <g transform=\"translate(7.2 143.651771)scale(0.1 -0.1)\">\r\n       <use xlink:href=\"#DejaVuSans-50\"/>\r\n       <use x=\"63.623047\" xlink:href=\"#DejaVuSans-53\"/>\r\n       <use x=\"127.246094\" xlink:href=\"#DejaVuSans-50\"/>\r\n      </g>\r\n     </g>\r\n    </g>\r\n    <g id=\"ytick_254\">\r\n     <g id=\"line2d_259\">\r\n      <g>\r\n       <use style=\"stroke:#000000;stroke-width:0.8;\" x=\"33.2875\" xlink:href=\"#m7d443d45af\" y=\"139.502407\"/>\r\n      </g>\r\n     </g>\r\n     <g id=\"text_259\">\r\n      <!-- 253 -->\r\n      <g transform=\"translate(7.2 143.301626)scale(0.1 -0.1)\">\r\n       <use xlink:href=\"#DejaVuSans-50\"/>\r\n       <use x=\"63.623047\" xlink:href=\"#DejaVuSans-53\"/>\r\n       <use x=\"127.246094\" xlink:href=\"#DejaVuSans-51\"/>\r\n      </g>\r\n     </g>\r\n    </g>\r\n    <g id=\"ytick_255\">\r\n     <g id=\"line2d_260\">\r\n      <g>\r\n       <use style=\"stroke:#000000;stroke-width:0.8;\" x=\"33.2875\" xlink:href=\"#m7d443d45af\" y=\"139.152262\"/>\r\n      </g>\r\n     </g>\r\n     <g id=\"text_260\">\r\n      <!-- 254 -->\r\n      <g transform=\"translate(7.2 142.951481)scale(0.1 -0.1)\">\r\n       <use xlink:href=\"#DejaVuSans-50\"/>\r\n       <use x=\"63.623047\" xlink:href=\"#DejaVuSans-53\"/>\r\n       <use x=\"127.246094\" xlink:href=\"#DejaVuSans-52\"/>\r\n      </g>\r\n     </g>\r\n    </g>\r\n    <g id=\"ytick_256\">\r\n     <g id=\"line2d_261\">\r\n      <g>\r\n       <use style=\"stroke:#000000;stroke-width:0.8;\" x=\"33.2875\" xlink:href=\"#m7d443d45af\" y=\"138.802117\"/>\r\n      </g>\r\n     </g>\r\n     <g id=\"text_261\">\r\n      <!-- 255 -->\r\n      <g transform=\"translate(7.2 142.601336)scale(0.1 -0.1)\">\r\n       <use xlink:href=\"#DejaVuSans-50\"/>\r\n       <use x=\"63.623047\" xlink:href=\"#DejaVuSans-53\"/>\r\n       <use x=\"127.246094\" xlink:href=\"#DejaVuSans-53\"/>\r\n      </g>\r\n     </g>\r\n    </g>\r\n    <g id=\"ytick_257\">\r\n     <g id=\"line2d_262\">\r\n      <g>\r\n       <use style=\"stroke:#000000;stroke-width:0.8;\" x=\"33.2875\" xlink:href=\"#m7d443d45af\" y=\"138.451972\"/>\r\n      </g>\r\n     </g>\r\n     <g id=\"text_262\">\r\n      <!-- 256 -->\r\n      <g transform=\"translate(7.2 142.251191)scale(0.1 -0.1)\">\r\n       <use xlink:href=\"#DejaVuSans-50\"/>\r\n       <use x=\"63.623047\" xlink:href=\"#DejaVuSans-53\"/>\r\n       <use x=\"127.246094\" xlink:href=\"#DejaVuSans-54\"/>\r\n      </g>\r\n     </g>\r\n    </g>\r\n    <g id=\"ytick_258\">\r\n     <g id=\"line2d_263\">\r\n      <g>\r\n       <use style=\"stroke:#000000;stroke-width:0.8;\" x=\"33.2875\" xlink:href=\"#m7d443d45af\" y=\"138.101827\"/>\r\n      </g>\r\n     </g>\r\n     <g id=\"text_263\">\r\n      <!-- 257 -->\r\n      <g transform=\"translate(7.2 141.901046)scale(0.1 -0.1)\">\r\n       <use xlink:href=\"#DejaVuSans-50\"/>\r\n       <use x=\"63.623047\" xlink:href=\"#DejaVuSans-53\"/>\r\n       <use x=\"127.246094\" xlink:href=\"#DejaVuSans-55\"/>\r\n      </g>\r\n     </g>\r\n    </g>\r\n    <g id=\"ytick_259\">\r\n     <g id=\"line2d_264\">\r\n      <g>\r\n       <use style=\"stroke:#000000;stroke-width:0.8;\" x=\"33.2875\" xlink:href=\"#m7d443d45af\" y=\"137.751683\"/>\r\n      </g>\r\n     </g>\r\n     <g id=\"text_264\">\r\n      <!-- 258 -->\r\n      <g transform=\"translate(7.2 141.550901)scale(0.1 -0.1)\">\r\n       <use xlink:href=\"#DejaVuSans-50\"/>\r\n       <use x=\"63.623047\" xlink:href=\"#DejaVuSans-53\"/>\r\n       <use x=\"127.246094\" xlink:href=\"#DejaVuSans-56\"/>\r\n      </g>\r\n     </g>\r\n    </g>\r\n    <g id=\"ytick_260\">\r\n     <g id=\"line2d_265\">\r\n      <g>\r\n       <use style=\"stroke:#000000;stroke-width:0.8;\" x=\"33.2875\" xlink:href=\"#m7d443d45af\" y=\"137.401538\"/>\r\n      </g>\r\n     </g>\r\n     <g id=\"text_265\">\r\n      <!-- 259 -->\r\n      <g transform=\"translate(7.2 141.200756)scale(0.1 -0.1)\">\r\n       <use xlink:href=\"#DejaVuSans-50\"/>\r\n       <use x=\"63.623047\" xlink:href=\"#DejaVuSans-53\"/>\r\n       <use x=\"127.246094\" xlink:href=\"#DejaVuSans-57\"/>\r\n      </g>\r\n     </g>\r\n    </g>\r\n    <g id=\"ytick_261\">\r\n     <g id=\"line2d_266\">\r\n      <g>\r\n       <use style=\"stroke:#000000;stroke-width:0.8;\" x=\"33.2875\" xlink:href=\"#m7d443d45af\" y=\"137.051393\"/>\r\n      </g>\r\n     </g>\r\n     <g id=\"text_266\">\r\n      <!-- 260 -->\r\n      <g transform=\"translate(7.2 140.850611)scale(0.1 -0.1)\">\r\n       <use xlink:href=\"#DejaVuSans-50\"/>\r\n       <use x=\"63.623047\" xlink:href=\"#DejaVuSans-54\"/>\r\n       <use x=\"127.246094\" xlink:href=\"#DejaVuSans-48\"/>\r\n      </g>\r\n     </g>\r\n    </g>\r\n    <g id=\"ytick_262\">\r\n     <g id=\"line2d_267\">\r\n      <g>\r\n       <use style=\"stroke:#000000;stroke-width:0.8;\" x=\"33.2875\" xlink:href=\"#m7d443d45af\" y=\"136.701248\"/>\r\n      </g>\r\n     </g>\r\n     <g id=\"text_267\">\r\n      <!-- 261 -->\r\n      <g transform=\"translate(7.2 140.500466)scale(0.1 -0.1)\">\r\n       <use xlink:href=\"#DejaVuSans-50\"/>\r\n       <use x=\"63.623047\" xlink:href=\"#DejaVuSans-54\"/>\r\n       <use x=\"127.246094\" xlink:href=\"#DejaVuSans-49\"/>\r\n      </g>\r\n     </g>\r\n    </g>\r\n    <g id=\"ytick_263\">\r\n     <g id=\"line2d_268\">\r\n      <g>\r\n       <use style=\"stroke:#000000;stroke-width:0.8;\" x=\"33.2875\" xlink:href=\"#m7d443d45af\" y=\"136.351103\"/>\r\n      </g>\r\n     </g>\r\n     <g id=\"text_268\">\r\n      <!-- 262 -->\r\n      <g transform=\"translate(7.2 140.150322)scale(0.1 -0.1)\">\r\n       <use xlink:href=\"#DejaVuSans-50\"/>\r\n       <use x=\"63.623047\" xlink:href=\"#DejaVuSans-54\"/>\r\n       <use x=\"127.246094\" xlink:href=\"#DejaVuSans-50\"/>\r\n      </g>\r\n     </g>\r\n    </g>\r\n    <g id=\"ytick_264\">\r\n     <g id=\"line2d_269\">\r\n      <g>\r\n       <use style=\"stroke:#000000;stroke-width:0.8;\" x=\"33.2875\" xlink:href=\"#m7d443d45af\" y=\"136.000958\"/>\r\n      </g>\r\n     </g>\r\n     <g id=\"text_269\">\r\n      <!-- 263 -->\r\n      <g transform=\"translate(7.2 139.800177)scale(0.1 -0.1)\">\r\n       <use xlink:href=\"#DejaVuSans-50\"/>\r\n       <use x=\"63.623047\" xlink:href=\"#DejaVuSans-54\"/>\r\n       <use x=\"127.246094\" xlink:href=\"#DejaVuSans-51\"/>\r\n      </g>\r\n     </g>\r\n    </g>\r\n    <g id=\"ytick_265\">\r\n     <g id=\"line2d_270\">\r\n      <g>\r\n       <use style=\"stroke:#000000;stroke-width:0.8;\" x=\"33.2875\" xlink:href=\"#m7d443d45af\" y=\"135.650813\"/>\r\n      </g>\r\n     </g>\r\n     <g id=\"text_270\">\r\n      <!-- 264 -->\r\n      <g transform=\"translate(7.2 139.450032)scale(0.1 -0.1)\">\r\n       <use xlink:href=\"#DejaVuSans-50\"/>\r\n       <use x=\"63.623047\" xlink:href=\"#DejaVuSans-54\"/>\r\n       <use x=\"127.246094\" xlink:href=\"#DejaVuSans-52\"/>\r\n      </g>\r\n     </g>\r\n    </g>\r\n    <g id=\"ytick_266\">\r\n     <g id=\"line2d_271\">\r\n      <g>\r\n       <use style=\"stroke:#000000;stroke-width:0.8;\" x=\"33.2875\" xlink:href=\"#m7d443d45af\" y=\"135.300668\"/>\r\n      </g>\r\n     </g>\r\n     <g id=\"text_271\">\r\n      <!-- 265 -->\r\n      <g transform=\"translate(7.2 139.099887)scale(0.1 -0.1)\">\r\n       <use xlink:href=\"#DejaVuSans-50\"/>\r\n       <use x=\"63.623047\" xlink:href=\"#DejaVuSans-54\"/>\r\n       <use x=\"127.246094\" xlink:href=\"#DejaVuSans-53\"/>\r\n      </g>\r\n     </g>\r\n    </g>\r\n    <g id=\"ytick_267\">\r\n     <g id=\"line2d_272\">\r\n      <g>\r\n       <use style=\"stroke:#000000;stroke-width:0.8;\" x=\"33.2875\" xlink:href=\"#m7d443d45af\" y=\"134.950523\"/>\r\n      </g>\r\n     </g>\r\n     <g id=\"text_272\">\r\n      <!-- 266 -->\r\n      <g transform=\"translate(7.2 138.749742)scale(0.1 -0.1)\">\r\n       <use xlink:href=\"#DejaVuSans-50\"/>\r\n       <use x=\"63.623047\" xlink:href=\"#DejaVuSans-54\"/>\r\n       <use x=\"127.246094\" xlink:href=\"#DejaVuSans-54\"/>\r\n      </g>\r\n     </g>\r\n    </g>\r\n    <g id=\"ytick_268\">\r\n     <g id=\"line2d_273\">\r\n      <g>\r\n       <use style=\"stroke:#000000;stroke-width:0.8;\" x=\"33.2875\" xlink:href=\"#m7d443d45af\" y=\"134.600378\"/>\r\n      </g>\r\n     </g>\r\n     <g id=\"text_273\">\r\n      <!-- 267 -->\r\n      <g transform=\"translate(7.2 138.399597)scale(0.1 -0.1)\">\r\n       <use xlink:href=\"#DejaVuSans-50\"/>\r\n       <use x=\"63.623047\" xlink:href=\"#DejaVuSans-54\"/>\r\n       <use x=\"127.246094\" xlink:href=\"#DejaVuSans-55\"/>\r\n      </g>\r\n     </g>\r\n    </g>\r\n    <g id=\"ytick_269\">\r\n     <g id=\"line2d_274\">\r\n      <g>\r\n       <use style=\"stroke:#000000;stroke-width:0.8;\" x=\"33.2875\" xlink:href=\"#m7d443d45af\" y=\"134.250233\"/>\r\n      </g>\r\n     </g>\r\n     <g id=\"text_274\">\r\n      <!-- 268 -->\r\n      <g transform=\"translate(7.2 138.049452)scale(0.1 -0.1)\">\r\n       <use xlink:href=\"#DejaVuSans-50\"/>\r\n       <use x=\"63.623047\" xlink:href=\"#DejaVuSans-54\"/>\r\n       <use x=\"127.246094\" xlink:href=\"#DejaVuSans-56\"/>\r\n      </g>\r\n     </g>\r\n    </g>\r\n    <g id=\"ytick_270\">\r\n     <g id=\"line2d_275\">\r\n      <g>\r\n       <use style=\"stroke:#000000;stroke-width:0.8;\" x=\"33.2875\" xlink:href=\"#m7d443d45af\" y=\"133.900088\"/>\r\n      </g>\r\n     </g>\r\n     <g id=\"text_275\">\r\n      <!-- 269 -->\r\n      <g transform=\"translate(7.2 137.699307)scale(0.1 -0.1)\">\r\n       <use xlink:href=\"#DejaVuSans-50\"/>\r\n       <use x=\"63.623047\" xlink:href=\"#DejaVuSans-54\"/>\r\n       <use x=\"127.246094\" xlink:href=\"#DejaVuSans-57\"/>\r\n      </g>\r\n     </g>\r\n    </g>\r\n    <g id=\"ytick_271\">\r\n     <g id=\"line2d_276\">\r\n      <g>\r\n       <use style=\"stroke:#000000;stroke-width:0.8;\" x=\"33.2875\" xlink:href=\"#m7d443d45af\" y=\"133.549943\"/>\r\n      </g>\r\n     </g>\r\n     <g id=\"text_276\">\r\n      <!-- 270 -->\r\n      <g transform=\"translate(7.2 137.349162)scale(0.1 -0.1)\">\r\n       <use xlink:href=\"#DejaVuSans-50\"/>\r\n       <use x=\"63.623047\" xlink:href=\"#DejaVuSans-55\"/>\r\n       <use x=\"127.246094\" xlink:href=\"#DejaVuSans-48\"/>\r\n      </g>\r\n     </g>\r\n    </g>\r\n    <g id=\"ytick_272\">\r\n     <g id=\"line2d_277\">\r\n      <g>\r\n       <use style=\"stroke:#000000;stroke-width:0.8;\" x=\"33.2875\" xlink:href=\"#m7d443d45af\" y=\"133.199798\"/>\r\n      </g>\r\n     </g>\r\n     <g id=\"text_277\">\r\n      <!-- 271 -->\r\n      <g transform=\"translate(7.2 136.999017)scale(0.1 -0.1)\">\r\n       <use xlink:href=\"#DejaVuSans-50\"/>\r\n       <use x=\"63.623047\" xlink:href=\"#DejaVuSans-55\"/>\r\n       <use x=\"127.246094\" xlink:href=\"#DejaVuSans-49\"/>\r\n      </g>\r\n     </g>\r\n    </g>\r\n    <g id=\"ytick_273\">\r\n     <g id=\"line2d_278\">\r\n      <g>\r\n       <use style=\"stroke:#000000;stroke-width:0.8;\" x=\"33.2875\" xlink:href=\"#m7d443d45af\" y=\"132.849654\"/>\r\n      </g>\r\n     </g>\r\n     <g id=\"text_278\">\r\n      <!-- 272 -->\r\n      <g transform=\"translate(7.2 136.648872)scale(0.1 -0.1)\">\r\n       <use xlink:href=\"#DejaVuSans-50\"/>\r\n       <use x=\"63.623047\" xlink:href=\"#DejaVuSans-55\"/>\r\n       <use x=\"127.246094\" xlink:href=\"#DejaVuSans-50\"/>\r\n      </g>\r\n     </g>\r\n    </g>\r\n    <g id=\"ytick_274\">\r\n     <g id=\"line2d_279\">\r\n      <g>\r\n       <use style=\"stroke:#000000;stroke-width:0.8;\" x=\"33.2875\" xlink:href=\"#m7d443d45af\" y=\"132.499509\"/>\r\n      </g>\r\n     </g>\r\n     <g id=\"text_279\">\r\n      <!-- 273 -->\r\n      <g transform=\"translate(7.2 136.298727)scale(0.1 -0.1)\">\r\n       <use xlink:href=\"#DejaVuSans-50\"/>\r\n       <use x=\"63.623047\" xlink:href=\"#DejaVuSans-55\"/>\r\n       <use x=\"127.246094\" xlink:href=\"#DejaVuSans-51\"/>\r\n      </g>\r\n     </g>\r\n    </g>\r\n    <g id=\"ytick_275\">\r\n     <g id=\"line2d_280\">\r\n      <g>\r\n       <use style=\"stroke:#000000;stroke-width:0.8;\" x=\"33.2875\" xlink:href=\"#m7d443d45af\" y=\"132.149364\"/>\r\n      </g>\r\n     </g>\r\n     <g id=\"text_280\">\r\n      <!-- 274 -->\r\n      <g transform=\"translate(7.2 135.948582)scale(0.1 -0.1)\">\r\n       <use xlink:href=\"#DejaVuSans-50\"/>\r\n       <use x=\"63.623047\" xlink:href=\"#DejaVuSans-55\"/>\r\n       <use x=\"127.246094\" xlink:href=\"#DejaVuSans-52\"/>\r\n      </g>\r\n     </g>\r\n    </g>\r\n    <g id=\"ytick_276\">\r\n     <g id=\"line2d_281\">\r\n      <g>\r\n       <use style=\"stroke:#000000;stroke-width:0.8;\" x=\"33.2875\" xlink:href=\"#m7d443d45af\" y=\"131.799219\"/>\r\n      </g>\r\n     </g>\r\n     <g id=\"text_281\">\r\n      <!-- 275 -->\r\n      <g transform=\"translate(7.2 135.598437)scale(0.1 -0.1)\">\r\n       <use xlink:href=\"#DejaVuSans-50\"/>\r\n       <use x=\"63.623047\" xlink:href=\"#DejaVuSans-55\"/>\r\n       <use x=\"127.246094\" xlink:href=\"#DejaVuSans-53\"/>\r\n      </g>\r\n     </g>\r\n    </g>\r\n    <g id=\"ytick_277\">\r\n     <g id=\"line2d_282\">\r\n      <g>\r\n       <use style=\"stroke:#000000;stroke-width:0.8;\" x=\"33.2875\" xlink:href=\"#m7d443d45af\" y=\"131.449074\"/>\r\n      </g>\r\n     </g>\r\n     <g id=\"text_282\">\r\n      <!-- 276 -->\r\n      <g transform=\"translate(7.2 135.248293)scale(0.1 -0.1)\">\r\n       <use xlink:href=\"#DejaVuSans-50\"/>\r\n       <use x=\"63.623047\" xlink:href=\"#DejaVuSans-55\"/>\r\n       <use x=\"127.246094\" xlink:href=\"#DejaVuSans-54\"/>\r\n      </g>\r\n     </g>\r\n    </g>\r\n    <g id=\"ytick_278\">\r\n     <g id=\"line2d_283\">\r\n      <g>\r\n       <use style=\"stroke:#000000;stroke-width:0.8;\" x=\"33.2875\" xlink:href=\"#m7d443d45af\" y=\"131.098929\"/>\r\n      </g>\r\n     </g>\r\n     <g id=\"text_283\">\r\n      <!-- 277 -->\r\n      <g transform=\"translate(7.2 134.898148)scale(0.1 -0.1)\">\r\n       <use xlink:href=\"#DejaVuSans-50\"/>\r\n       <use x=\"63.623047\" xlink:href=\"#DejaVuSans-55\"/>\r\n       <use x=\"127.246094\" xlink:href=\"#DejaVuSans-55\"/>\r\n      </g>\r\n     </g>\r\n    </g>\r\n    <g id=\"ytick_279\">\r\n     <g id=\"line2d_284\">\r\n      <g>\r\n       <use style=\"stroke:#000000;stroke-width:0.8;\" x=\"33.2875\" xlink:href=\"#m7d443d45af\" y=\"130.748784\"/>\r\n      </g>\r\n     </g>\r\n     <g id=\"text_284\">\r\n      <!-- 278 -->\r\n      <g transform=\"translate(7.2 134.548003)scale(0.1 -0.1)\">\r\n       <use xlink:href=\"#DejaVuSans-50\"/>\r\n       <use x=\"63.623047\" xlink:href=\"#DejaVuSans-55\"/>\r\n       <use x=\"127.246094\" xlink:href=\"#DejaVuSans-56\"/>\r\n      </g>\r\n     </g>\r\n    </g>\r\n    <g id=\"ytick_280\">\r\n     <g id=\"line2d_285\">\r\n      <g>\r\n       <use style=\"stroke:#000000;stroke-width:0.8;\" x=\"33.2875\" xlink:href=\"#m7d443d45af\" y=\"130.398639\"/>\r\n      </g>\r\n     </g>\r\n     <g id=\"text_285\">\r\n      <!-- 279 -->\r\n      <g transform=\"translate(7.2 134.197858)scale(0.1 -0.1)\">\r\n       <use xlink:href=\"#DejaVuSans-50\"/>\r\n       <use x=\"63.623047\" xlink:href=\"#DejaVuSans-55\"/>\r\n       <use x=\"127.246094\" xlink:href=\"#DejaVuSans-57\"/>\r\n      </g>\r\n     </g>\r\n    </g>\r\n    <g id=\"ytick_281\">\r\n     <g id=\"line2d_286\">\r\n      <g>\r\n       <use style=\"stroke:#000000;stroke-width:0.8;\" x=\"33.2875\" xlink:href=\"#m7d443d45af\" y=\"130.048494\"/>\r\n      </g>\r\n     </g>\r\n     <g id=\"text_286\">\r\n      <!-- 280 -->\r\n      <g transform=\"translate(7.2 133.847713)scale(0.1 -0.1)\">\r\n       <use xlink:href=\"#DejaVuSans-50\"/>\r\n       <use x=\"63.623047\" xlink:href=\"#DejaVuSans-56\"/>\r\n       <use x=\"127.246094\" xlink:href=\"#DejaVuSans-48\"/>\r\n      </g>\r\n     </g>\r\n    </g>\r\n    <g id=\"ytick_282\">\r\n     <g id=\"line2d_287\">\r\n      <g>\r\n       <use style=\"stroke:#000000;stroke-width:0.8;\" x=\"33.2875\" xlink:href=\"#m7d443d45af\" y=\"129.698349\"/>\r\n      </g>\r\n     </g>\r\n     <g id=\"text_287\">\r\n      <!-- 281 -->\r\n      <g transform=\"translate(7.2 133.497568)scale(0.1 -0.1)\">\r\n       <use xlink:href=\"#DejaVuSans-50\"/>\r\n       <use x=\"63.623047\" xlink:href=\"#DejaVuSans-56\"/>\r\n       <use x=\"127.246094\" xlink:href=\"#DejaVuSans-49\"/>\r\n      </g>\r\n     </g>\r\n    </g>\r\n    <g id=\"ytick_283\">\r\n     <g id=\"line2d_288\">\r\n      <g>\r\n       <use style=\"stroke:#000000;stroke-width:0.8;\" x=\"33.2875\" xlink:href=\"#m7d443d45af\" y=\"129.348204\"/>\r\n      </g>\r\n     </g>\r\n     <g id=\"text_288\">\r\n      <!-- 282 -->\r\n      <g transform=\"translate(7.2 133.147423)scale(0.1 -0.1)\">\r\n       <use xlink:href=\"#DejaVuSans-50\"/>\r\n       <use x=\"63.623047\" xlink:href=\"#DejaVuSans-56\"/>\r\n       <use x=\"127.246094\" xlink:href=\"#DejaVuSans-50\"/>\r\n      </g>\r\n     </g>\r\n    </g>\r\n    <g id=\"ytick_284\">\r\n     <g id=\"line2d_289\">\r\n      <g>\r\n       <use style=\"stroke:#000000;stroke-width:0.8;\" x=\"33.2875\" xlink:href=\"#m7d443d45af\" y=\"128.998059\"/>\r\n      </g>\r\n     </g>\r\n     <g id=\"text_289\">\r\n      <!-- 283 -->\r\n      <g transform=\"translate(7.2 132.797278)scale(0.1 -0.1)\">\r\n       <use xlink:href=\"#DejaVuSans-50\"/>\r\n       <use x=\"63.623047\" xlink:href=\"#DejaVuSans-56\"/>\r\n       <use x=\"127.246094\" xlink:href=\"#DejaVuSans-51\"/>\r\n      </g>\r\n     </g>\r\n    </g>\r\n    <g id=\"ytick_285\">\r\n     <g id=\"line2d_290\">\r\n      <g>\r\n       <use style=\"stroke:#000000;stroke-width:0.8;\" x=\"33.2875\" xlink:href=\"#m7d443d45af\" y=\"128.647914\"/>\r\n      </g>\r\n     </g>\r\n     <g id=\"text_290\">\r\n      <!-- 284 -->\r\n      <g transform=\"translate(7.2 132.447133)scale(0.1 -0.1)\">\r\n       <use xlink:href=\"#DejaVuSans-50\"/>\r\n       <use x=\"63.623047\" xlink:href=\"#DejaVuSans-56\"/>\r\n       <use x=\"127.246094\" xlink:href=\"#DejaVuSans-52\"/>\r\n      </g>\r\n     </g>\r\n    </g>\r\n    <g id=\"ytick_286\">\r\n     <g id=\"line2d_291\">\r\n      <g>\r\n       <use style=\"stroke:#000000;stroke-width:0.8;\" x=\"33.2875\" xlink:href=\"#m7d443d45af\" y=\"128.297769\"/>\r\n      </g>\r\n     </g>\r\n     <g id=\"text_291\">\r\n      <!-- 285 -->\r\n      <g transform=\"translate(7.2 132.096988)scale(0.1 -0.1)\">\r\n       <use xlink:href=\"#DejaVuSans-50\"/>\r\n       <use x=\"63.623047\" xlink:href=\"#DejaVuSans-56\"/>\r\n       <use x=\"127.246094\" xlink:href=\"#DejaVuSans-53\"/>\r\n      </g>\r\n     </g>\r\n    </g>\r\n    <g id=\"ytick_287\">\r\n     <g id=\"line2d_292\">\r\n      <g>\r\n       <use style=\"stroke:#000000;stroke-width:0.8;\" x=\"33.2875\" xlink:href=\"#m7d443d45af\" y=\"127.947625\"/>\r\n      </g>\r\n     </g>\r\n     <g id=\"text_292\">\r\n      <!-- 286 -->\r\n      <g transform=\"translate(7.2 131.746843)scale(0.1 -0.1)\">\r\n       <use xlink:href=\"#DejaVuSans-50\"/>\r\n       <use x=\"63.623047\" xlink:href=\"#DejaVuSans-56\"/>\r\n       <use x=\"127.246094\" xlink:href=\"#DejaVuSans-54\"/>\r\n      </g>\r\n     </g>\r\n    </g>\r\n    <g id=\"ytick_288\">\r\n     <g id=\"line2d_293\">\r\n      <g>\r\n       <use style=\"stroke:#000000;stroke-width:0.8;\" x=\"33.2875\" xlink:href=\"#m7d443d45af\" y=\"127.59748\"/>\r\n      </g>\r\n     </g>\r\n     <g id=\"text_293\">\r\n      <!-- 287 -->\r\n      <g transform=\"translate(7.2 131.396698)scale(0.1 -0.1)\">\r\n       <use xlink:href=\"#DejaVuSans-50\"/>\r\n       <use x=\"63.623047\" xlink:href=\"#DejaVuSans-56\"/>\r\n       <use x=\"127.246094\" xlink:href=\"#DejaVuSans-55\"/>\r\n      </g>\r\n     </g>\r\n    </g>\r\n    <g id=\"ytick_289\">\r\n     <g id=\"line2d_294\">\r\n      <g>\r\n       <use style=\"stroke:#000000;stroke-width:0.8;\" x=\"33.2875\" xlink:href=\"#m7d443d45af\" y=\"127.247335\"/>\r\n      </g>\r\n     </g>\r\n     <g id=\"text_294\">\r\n      <!-- 288 -->\r\n      <g transform=\"translate(7.2 131.046553)scale(0.1 -0.1)\">\r\n       <use xlink:href=\"#DejaVuSans-50\"/>\r\n       <use x=\"63.623047\" xlink:href=\"#DejaVuSans-56\"/>\r\n       <use x=\"127.246094\" xlink:href=\"#DejaVuSans-56\"/>\r\n      </g>\r\n     </g>\r\n    </g>\r\n    <g id=\"ytick_290\">\r\n     <g id=\"line2d_295\">\r\n      <g>\r\n       <use style=\"stroke:#000000;stroke-width:0.8;\" x=\"33.2875\" xlink:href=\"#m7d443d45af\" y=\"126.89719\"/>\r\n      </g>\r\n     </g>\r\n     <g id=\"text_295\">\r\n      <!-- 289 -->\r\n      <g transform=\"translate(7.2 130.696409)scale(0.1 -0.1)\">\r\n       <use xlink:href=\"#DejaVuSans-50\"/>\r\n       <use x=\"63.623047\" xlink:href=\"#DejaVuSans-56\"/>\r\n       <use x=\"127.246094\" xlink:href=\"#DejaVuSans-57\"/>\r\n      </g>\r\n     </g>\r\n    </g>\r\n    <g id=\"ytick_291\">\r\n     <g id=\"line2d_296\">\r\n      <g>\r\n       <use style=\"stroke:#000000;stroke-width:0.8;\" x=\"33.2875\" xlink:href=\"#m7d443d45af\" y=\"126.547045\"/>\r\n      </g>\r\n     </g>\r\n     <g id=\"text_296\">\r\n      <!-- 290 -->\r\n      <g transform=\"translate(7.2 130.346264)scale(0.1 -0.1)\">\r\n       <use xlink:href=\"#DejaVuSans-50\"/>\r\n       <use x=\"63.623047\" xlink:href=\"#DejaVuSans-57\"/>\r\n       <use x=\"127.246094\" xlink:href=\"#DejaVuSans-48\"/>\r\n      </g>\r\n     </g>\r\n    </g>\r\n    <g id=\"ytick_292\">\r\n     <g id=\"line2d_297\">\r\n      <g>\r\n       <use style=\"stroke:#000000;stroke-width:0.8;\" x=\"33.2875\" xlink:href=\"#m7d443d45af\" y=\"126.1969\"/>\r\n      </g>\r\n     </g>\r\n     <g id=\"text_297\">\r\n      <!-- 291 -->\r\n      <g transform=\"translate(7.2 129.996119)scale(0.1 -0.1)\">\r\n       <use xlink:href=\"#DejaVuSans-50\"/>\r\n       <use x=\"63.623047\" xlink:href=\"#DejaVuSans-57\"/>\r\n       <use x=\"127.246094\" xlink:href=\"#DejaVuSans-49\"/>\r\n      </g>\r\n     </g>\r\n    </g>\r\n    <g id=\"ytick_293\">\r\n     <g id=\"line2d_298\">\r\n      <g>\r\n       <use style=\"stroke:#000000;stroke-width:0.8;\" x=\"33.2875\" xlink:href=\"#m7d443d45af\" y=\"125.846755\"/>\r\n      </g>\r\n     </g>\r\n     <g id=\"text_298\">\r\n      <!-- 292 -->\r\n      <g transform=\"translate(7.2 129.645974)scale(0.1 -0.1)\">\r\n       <use xlink:href=\"#DejaVuSans-50\"/>\r\n       <use x=\"63.623047\" xlink:href=\"#DejaVuSans-57\"/>\r\n       <use x=\"127.246094\" xlink:href=\"#DejaVuSans-50\"/>\r\n      </g>\r\n     </g>\r\n    </g>\r\n    <g id=\"ytick_294\">\r\n     <g id=\"line2d_299\">\r\n      <g>\r\n       <use style=\"stroke:#000000;stroke-width:0.8;\" x=\"33.2875\" xlink:href=\"#m7d443d45af\" y=\"125.49661\"/>\r\n      </g>\r\n     </g>\r\n     <g id=\"text_299\">\r\n      <!-- 293 -->\r\n      <g transform=\"translate(7.2 129.295829)scale(0.1 -0.1)\">\r\n       <use xlink:href=\"#DejaVuSans-50\"/>\r\n       <use x=\"63.623047\" xlink:href=\"#DejaVuSans-57\"/>\r\n       <use x=\"127.246094\" xlink:href=\"#DejaVuSans-51\"/>\r\n      </g>\r\n     </g>\r\n    </g>\r\n    <g id=\"ytick_295\">\r\n     <g id=\"line2d_300\">\r\n      <g>\r\n       <use style=\"stroke:#000000;stroke-width:0.8;\" x=\"33.2875\" xlink:href=\"#m7d443d45af\" y=\"125.146465\"/>\r\n      </g>\r\n     </g>\r\n     <g id=\"text_300\">\r\n      <!-- 294 -->\r\n      <g transform=\"translate(7.2 128.945684)scale(0.1 -0.1)\">\r\n       <use xlink:href=\"#DejaVuSans-50\"/>\r\n       <use x=\"63.623047\" xlink:href=\"#DejaVuSans-57\"/>\r\n       <use x=\"127.246094\" xlink:href=\"#DejaVuSans-52\"/>\r\n      </g>\r\n     </g>\r\n    </g>\r\n    <g id=\"ytick_296\">\r\n     <g id=\"line2d_301\">\r\n      <g>\r\n       <use style=\"stroke:#000000;stroke-width:0.8;\" x=\"33.2875\" xlink:href=\"#m7d443d45af\" y=\"124.79632\"/>\r\n      </g>\r\n     </g>\r\n     <g id=\"text_301\">\r\n      <!-- 295 -->\r\n      <g transform=\"translate(7.2 128.595539)scale(0.1 -0.1)\">\r\n       <use xlink:href=\"#DejaVuSans-50\"/>\r\n       <use x=\"63.623047\" xlink:href=\"#DejaVuSans-57\"/>\r\n       <use x=\"127.246094\" xlink:href=\"#DejaVuSans-53\"/>\r\n      </g>\r\n     </g>\r\n    </g>\r\n    <g id=\"ytick_297\">\r\n     <g id=\"line2d_302\">\r\n      <g>\r\n       <use style=\"stroke:#000000;stroke-width:0.8;\" x=\"33.2875\" xlink:href=\"#m7d443d45af\" y=\"124.446175\"/>\r\n      </g>\r\n     </g>\r\n     <g id=\"text_302\">\r\n      <!-- 296 -->\r\n      <g transform=\"translate(7.2 128.245394)scale(0.1 -0.1)\">\r\n       <use xlink:href=\"#DejaVuSans-50\"/>\r\n       <use x=\"63.623047\" xlink:href=\"#DejaVuSans-57\"/>\r\n       <use x=\"127.246094\" xlink:href=\"#DejaVuSans-54\"/>\r\n      </g>\r\n     </g>\r\n    </g>\r\n    <g id=\"ytick_298\">\r\n     <g id=\"line2d_303\">\r\n      <g>\r\n       <use style=\"stroke:#000000;stroke-width:0.8;\" x=\"33.2875\" xlink:href=\"#m7d443d45af\" y=\"124.09603\"/>\r\n      </g>\r\n     </g>\r\n     <g id=\"text_303\">\r\n      <!-- 297 -->\r\n      <g transform=\"translate(7.2 127.895249)scale(0.1 -0.1)\">\r\n       <use xlink:href=\"#DejaVuSans-50\"/>\r\n       <use x=\"63.623047\" xlink:href=\"#DejaVuSans-57\"/>\r\n       <use x=\"127.246094\" xlink:href=\"#DejaVuSans-55\"/>\r\n      </g>\r\n     </g>\r\n    </g>\r\n    <g id=\"ytick_299\">\r\n     <g id=\"line2d_304\">\r\n      <g>\r\n       <use style=\"stroke:#000000;stroke-width:0.8;\" x=\"33.2875\" xlink:href=\"#m7d443d45af\" y=\"123.745885\"/>\r\n      </g>\r\n     </g>\r\n     <g id=\"text_304\">\r\n      <!-- 298 -->\r\n      <g transform=\"translate(7.2 127.545104)scale(0.1 -0.1)\">\r\n       <use xlink:href=\"#DejaVuSans-50\"/>\r\n       <use x=\"63.623047\" xlink:href=\"#DejaVuSans-57\"/>\r\n       <use x=\"127.246094\" xlink:href=\"#DejaVuSans-56\"/>\r\n      </g>\r\n     </g>\r\n    </g>\r\n    <g id=\"ytick_300\">\r\n     <g id=\"line2d_305\">\r\n      <g>\r\n       <use style=\"stroke:#000000;stroke-width:0.8;\" x=\"33.2875\" xlink:href=\"#m7d443d45af\" y=\"123.39574\"/>\r\n      </g>\r\n     </g>\r\n     <g id=\"text_305\">\r\n      <!-- 299 -->\r\n      <g transform=\"translate(7.2 127.194959)scale(0.1 -0.1)\">\r\n       <use xlink:href=\"#DejaVuSans-50\"/>\r\n       <use x=\"63.623047\" xlink:href=\"#DejaVuSans-57\"/>\r\n       <use x=\"127.246094\" xlink:href=\"#DejaVuSans-57\"/>\r\n      </g>\r\n     </g>\r\n    </g>\r\n    <g id=\"ytick_301\">\r\n     <g id=\"line2d_306\">\r\n      <g>\r\n       <use style=\"stroke:#000000;stroke-width:0.8;\" x=\"33.2875\" xlink:href=\"#m7d443d45af\" y=\"123.045596\"/>\r\n      </g>\r\n     </g>\r\n     <g id=\"text_306\">\r\n      <!-- 300 -->\r\n      <g transform=\"translate(7.2 126.844814)scale(0.1 -0.1)\">\r\n       <use xlink:href=\"#DejaVuSans-51\"/>\r\n       <use x=\"63.623047\" xlink:href=\"#DejaVuSans-48\"/>\r\n       <use x=\"127.246094\" xlink:href=\"#DejaVuSans-48\"/>\r\n      </g>\r\n     </g>\r\n    </g>\r\n    <g id=\"ytick_302\">\r\n     <g id=\"line2d_307\">\r\n      <g>\r\n       <use style=\"stroke:#000000;stroke-width:0.8;\" x=\"33.2875\" xlink:href=\"#m7d443d45af\" y=\"122.695451\"/>\r\n      </g>\r\n     </g>\r\n     <g id=\"text_307\">\r\n      <!-- 301 -->\r\n      <g transform=\"translate(7.2 126.494669)scale(0.1 -0.1)\">\r\n       <use xlink:href=\"#DejaVuSans-51\"/>\r\n       <use x=\"63.623047\" xlink:href=\"#DejaVuSans-48\"/>\r\n       <use x=\"127.246094\" xlink:href=\"#DejaVuSans-49\"/>\r\n      </g>\r\n     </g>\r\n    </g>\r\n    <g id=\"ytick_303\">\r\n     <g id=\"line2d_308\">\r\n      <g>\r\n       <use style=\"stroke:#000000;stroke-width:0.8;\" x=\"33.2875\" xlink:href=\"#m7d443d45af\" y=\"122.345306\"/>\r\n      </g>\r\n     </g>\r\n     <g id=\"text_308\">\r\n      <!-- 302 -->\r\n      <g transform=\"translate(7.2 126.144524)scale(0.1 -0.1)\">\r\n       <use xlink:href=\"#DejaVuSans-51\"/>\r\n       <use x=\"63.623047\" xlink:href=\"#DejaVuSans-48\"/>\r\n       <use x=\"127.246094\" xlink:href=\"#DejaVuSans-50\"/>\r\n      </g>\r\n     </g>\r\n    </g>\r\n    <g id=\"ytick_304\">\r\n     <g id=\"line2d_309\">\r\n      <g>\r\n       <use style=\"stroke:#000000;stroke-width:0.8;\" x=\"33.2875\" xlink:href=\"#m7d443d45af\" y=\"121.995161\"/>\r\n      </g>\r\n     </g>\r\n     <g id=\"text_309\">\r\n      <!-- 303 -->\r\n      <g transform=\"translate(7.2 125.79438)scale(0.1 -0.1)\">\r\n       <use xlink:href=\"#DejaVuSans-51\"/>\r\n       <use x=\"63.623047\" xlink:href=\"#DejaVuSans-48\"/>\r\n       <use x=\"127.246094\" xlink:href=\"#DejaVuSans-51\"/>\r\n      </g>\r\n     </g>\r\n    </g>\r\n    <g id=\"ytick_305\">\r\n     <g id=\"line2d_310\">\r\n      <g>\r\n       <use style=\"stroke:#000000;stroke-width:0.8;\" x=\"33.2875\" xlink:href=\"#m7d443d45af\" y=\"121.645016\"/>\r\n      </g>\r\n     </g>\r\n     <g id=\"text_310\">\r\n      <!-- 304 -->\r\n      <g transform=\"translate(7.2 125.444235)scale(0.1 -0.1)\">\r\n       <use xlink:href=\"#DejaVuSans-51\"/>\r\n       <use x=\"63.623047\" xlink:href=\"#DejaVuSans-48\"/>\r\n       <use x=\"127.246094\" xlink:href=\"#DejaVuSans-52\"/>\r\n      </g>\r\n     </g>\r\n    </g>\r\n    <g id=\"ytick_306\">\r\n     <g id=\"line2d_311\">\r\n      <g>\r\n       <use style=\"stroke:#000000;stroke-width:0.8;\" x=\"33.2875\" xlink:href=\"#m7d443d45af\" y=\"121.294871\"/>\r\n      </g>\r\n     </g>\r\n     <g id=\"text_311\">\r\n      <!-- 305 -->\r\n      <g transform=\"translate(7.2 125.09409)scale(0.1 -0.1)\">\r\n       <use xlink:href=\"#DejaVuSans-51\"/>\r\n       <use x=\"63.623047\" xlink:href=\"#DejaVuSans-48\"/>\r\n       <use x=\"127.246094\" xlink:href=\"#DejaVuSans-53\"/>\r\n      </g>\r\n     </g>\r\n    </g>\r\n    <g id=\"ytick_307\">\r\n     <g id=\"line2d_312\">\r\n      <g>\r\n       <use style=\"stroke:#000000;stroke-width:0.8;\" x=\"33.2875\" xlink:href=\"#m7d443d45af\" y=\"120.944726\"/>\r\n      </g>\r\n     </g>\r\n     <g id=\"text_312\">\r\n      <!-- 306 -->\r\n      <g transform=\"translate(7.2 124.743945)scale(0.1 -0.1)\">\r\n       <use xlink:href=\"#DejaVuSans-51\"/>\r\n       <use x=\"63.623047\" xlink:href=\"#DejaVuSans-48\"/>\r\n       <use x=\"127.246094\" xlink:href=\"#DejaVuSans-54\"/>\r\n      </g>\r\n     </g>\r\n    </g>\r\n    <g id=\"ytick_308\">\r\n     <g id=\"line2d_313\">\r\n      <g>\r\n       <use style=\"stroke:#000000;stroke-width:0.8;\" x=\"33.2875\" xlink:href=\"#m7d443d45af\" y=\"120.594581\"/>\r\n      </g>\r\n     </g>\r\n     <g id=\"text_313\">\r\n      <!-- 307 -->\r\n      <g transform=\"translate(7.2 124.3938)scale(0.1 -0.1)\">\r\n       <use xlink:href=\"#DejaVuSans-51\"/>\r\n       <use x=\"63.623047\" xlink:href=\"#DejaVuSans-48\"/>\r\n       <use x=\"127.246094\" xlink:href=\"#DejaVuSans-55\"/>\r\n      </g>\r\n     </g>\r\n    </g>\r\n    <g id=\"ytick_309\">\r\n     <g id=\"line2d_314\">\r\n      <g>\r\n       <use style=\"stroke:#000000;stroke-width:0.8;\" x=\"33.2875\" xlink:href=\"#m7d443d45af\" y=\"120.244436\"/>\r\n      </g>\r\n     </g>\r\n     <g id=\"text_314\">\r\n      <!-- 308 -->\r\n      <g transform=\"translate(7.2 124.043655)scale(0.1 -0.1)\">\r\n       <use xlink:href=\"#DejaVuSans-51\"/>\r\n       <use x=\"63.623047\" xlink:href=\"#DejaVuSans-48\"/>\r\n       <use x=\"127.246094\" xlink:href=\"#DejaVuSans-56\"/>\r\n      </g>\r\n     </g>\r\n    </g>\r\n    <g id=\"ytick_310\">\r\n     <g id=\"line2d_315\">\r\n      <g>\r\n       <use style=\"stroke:#000000;stroke-width:0.8;\" x=\"33.2875\" xlink:href=\"#m7d443d45af\" y=\"119.894291\"/>\r\n      </g>\r\n     </g>\r\n     <g id=\"text_315\">\r\n      <!-- 309 -->\r\n      <g transform=\"translate(7.2 123.69351)scale(0.1 -0.1)\">\r\n       <use xlink:href=\"#DejaVuSans-51\"/>\r\n       <use x=\"63.623047\" xlink:href=\"#DejaVuSans-48\"/>\r\n       <use x=\"127.246094\" xlink:href=\"#DejaVuSans-57\"/>\r\n      </g>\r\n     </g>\r\n    </g>\r\n    <g id=\"ytick_311\">\r\n     <g id=\"line2d_316\">\r\n      <g>\r\n       <use style=\"stroke:#000000;stroke-width:0.8;\" x=\"33.2875\" xlink:href=\"#m7d443d45af\" y=\"119.544146\"/>\r\n      </g>\r\n     </g>\r\n     <g id=\"text_316\">\r\n      <!-- 310 -->\r\n      <g transform=\"translate(7.2 123.343365)scale(0.1 -0.1)\">\r\n       <use xlink:href=\"#DejaVuSans-51\"/>\r\n       <use x=\"63.623047\" xlink:href=\"#DejaVuSans-49\"/>\r\n       <use x=\"127.246094\" xlink:href=\"#DejaVuSans-48\"/>\r\n      </g>\r\n     </g>\r\n    </g>\r\n    <g id=\"ytick_312\">\r\n     <g id=\"line2d_317\">\r\n      <g>\r\n       <use style=\"stroke:#000000;stroke-width:0.8;\" x=\"33.2875\" xlink:href=\"#m7d443d45af\" y=\"119.194001\"/>\r\n      </g>\r\n     </g>\r\n     <g id=\"text_317\">\r\n      <!-- 311 -->\r\n      <g transform=\"translate(7.2 122.99322)scale(0.1 -0.1)\">\r\n       <use xlink:href=\"#DejaVuSans-51\"/>\r\n       <use x=\"63.623047\" xlink:href=\"#DejaVuSans-49\"/>\r\n       <use x=\"127.246094\" xlink:href=\"#DejaVuSans-49\"/>\r\n      </g>\r\n     </g>\r\n    </g>\r\n    <g id=\"ytick_313\">\r\n     <g id=\"line2d_318\">\r\n      <g>\r\n       <use style=\"stroke:#000000;stroke-width:0.8;\" x=\"33.2875\" xlink:href=\"#m7d443d45af\" y=\"118.843856\"/>\r\n      </g>\r\n     </g>\r\n     <g id=\"text_318\">\r\n      <!-- 312 -->\r\n      <g transform=\"translate(7.2 122.643075)scale(0.1 -0.1)\">\r\n       <use xlink:href=\"#DejaVuSans-51\"/>\r\n       <use x=\"63.623047\" xlink:href=\"#DejaVuSans-49\"/>\r\n       <use x=\"127.246094\" xlink:href=\"#DejaVuSans-50\"/>\r\n      </g>\r\n     </g>\r\n    </g>\r\n    <g id=\"ytick_314\">\r\n     <g id=\"line2d_319\">\r\n      <g>\r\n       <use style=\"stroke:#000000;stroke-width:0.8;\" x=\"33.2875\" xlink:href=\"#m7d443d45af\" y=\"118.493712\"/>\r\n      </g>\r\n     </g>\r\n     <g id=\"text_319\">\r\n      <!-- 313 -->\r\n      <g transform=\"translate(7.2 122.29293)scale(0.1 -0.1)\">\r\n       <use xlink:href=\"#DejaVuSans-51\"/>\r\n       <use x=\"63.623047\" xlink:href=\"#DejaVuSans-49\"/>\r\n       <use x=\"127.246094\" xlink:href=\"#DejaVuSans-51\"/>\r\n      </g>\r\n     </g>\r\n    </g>\r\n    <g id=\"ytick_315\">\r\n     <g id=\"line2d_320\">\r\n      <g>\r\n       <use style=\"stroke:#000000;stroke-width:0.8;\" x=\"33.2875\" xlink:href=\"#m7d443d45af\" y=\"118.143567\"/>\r\n      </g>\r\n     </g>\r\n     <g id=\"text_320\">\r\n      <!-- 314 -->\r\n      <g transform=\"translate(7.2 121.942785)scale(0.1 -0.1)\">\r\n       <use xlink:href=\"#DejaVuSans-51\"/>\r\n       <use x=\"63.623047\" xlink:href=\"#DejaVuSans-49\"/>\r\n       <use x=\"127.246094\" xlink:href=\"#DejaVuSans-52\"/>\r\n      </g>\r\n     </g>\r\n    </g>\r\n    <g id=\"ytick_316\">\r\n     <g id=\"line2d_321\">\r\n      <g>\r\n       <use style=\"stroke:#000000;stroke-width:0.8;\" x=\"33.2875\" xlink:href=\"#m7d443d45af\" y=\"117.793422\"/>\r\n      </g>\r\n     </g>\r\n     <g id=\"text_321\">\r\n      <!-- 315 -->\r\n      <g transform=\"translate(7.2 121.59264)scale(0.1 -0.1)\">\r\n       <use xlink:href=\"#DejaVuSans-51\"/>\r\n       <use x=\"63.623047\" xlink:href=\"#DejaVuSans-49\"/>\r\n       <use x=\"127.246094\" xlink:href=\"#DejaVuSans-53\"/>\r\n      </g>\r\n     </g>\r\n    </g>\r\n    <g id=\"ytick_317\">\r\n     <g id=\"line2d_322\">\r\n      <g>\r\n       <use style=\"stroke:#000000;stroke-width:0.8;\" x=\"33.2875\" xlink:href=\"#m7d443d45af\" y=\"117.443277\"/>\r\n      </g>\r\n     </g>\r\n     <g id=\"text_322\">\r\n      <!-- 316 -->\r\n      <g transform=\"translate(7.2 121.242495)scale(0.1 -0.1)\">\r\n       <use xlink:href=\"#DejaVuSans-51\"/>\r\n       <use x=\"63.623047\" xlink:href=\"#DejaVuSans-49\"/>\r\n       <use x=\"127.246094\" xlink:href=\"#DejaVuSans-54\"/>\r\n      </g>\r\n     </g>\r\n    </g>\r\n    <g id=\"ytick_318\">\r\n     <g id=\"line2d_323\">\r\n      <g>\r\n       <use style=\"stroke:#000000;stroke-width:0.8;\" x=\"33.2875\" xlink:href=\"#m7d443d45af\" y=\"117.093132\"/>\r\n      </g>\r\n     </g>\r\n     <g id=\"text_323\">\r\n      <!-- 317 -->\r\n      <g transform=\"translate(7.2 120.892351)scale(0.1 -0.1)\">\r\n       <use xlink:href=\"#DejaVuSans-51\"/>\r\n       <use x=\"63.623047\" xlink:href=\"#DejaVuSans-49\"/>\r\n       <use x=\"127.246094\" xlink:href=\"#DejaVuSans-55\"/>\r\n      </g>\r\n     </g>\r\n    </g>\r\n    <g id=\"ytick_319\">\r\n     <g id=\"line2d_324\">\r\n      <g>\r\n       <use style=\"stroke:#000000;stroke-width:0.8;\" x=\"33.2875\" xlink:href=\"#m7d443d45af\" y=\"116.742987\"/>\r\n      </g>\r\n     </g>\r\n     <g id=\"text_324\">\r\n      <!-- 318 -->\r\n      <g transform=\"translate(7.2 120.542206)scale(0.1 -0.1)\">\r\n       <use xlink:href=\"#DejaVuSans-51\"/>\r\n       <use x=\"63.623047\" xlink:href=\"#DejaVuSans-49\"/>\r\n       <use x=\"127.246094\" xlink:href=\"#DejaVuSans-56\"/>\r\n      </g>\r\n     </g>\r\n    </g>\r\n    <g id=\"ytick_320\">\r\n     <g id=\"line2d_325\">\r\n      <g>\r\n       <use style=\"stroke:#000000;stroke-width:0.8;\" x=\"33.2875\" xlink:href=\"#m7d443d45af\" y=\"116.392842\"/>\r\n      </g>\r\n     </g>\r\n     <g id=\"text_325\">\r\n      <!-- 319 -->\r\n      <g transform=\"translate(7.2 120.192061)scale(0.1 -0.1)\">\r\n       <use xlink:href=\"#DejaVuSans-51\"/>\r\n       <use x=\"63.623047\" xlink:href=\"#DejaVuSans-49\"/>\r\n       <use x=\"127.246094\" xlink:href=\"#DejaVuSans-57\"/>\r\n      </g>\r\n     </g>\r\n    </g>\r\n    <g id=\"ytick_321\">\r\n     <g id=\"line2d_326\">\r\n      <g>\r\n       <use style=\"stroke:#000000;stroke-width:0.8;\" x=\"33.2875\" xlink:href=\"#m7d443d45af\" y=\"116.042697\"/>\r\n      </g>\r\n     </g>\r\n     <g id=\"text_326\">\r\n      <!-- 320 -->\r\n      <g transform=\"translate(7.2 119.841916)scale(0.1 -0.1)\">\r\n       <use xlink:href=\"#DejaVuSans-51\"/>\r\n       <use x=\"63.623047\" xlink:href=\"#DejaVuSans-50\"/>\r\n       <use x=\"127.246094\" xlink:href=\"#DejaVuSans-48\"/>\r\n      </g>\r\n     </g>\r\n    </g>\r\n    <g id=\"ytick_322\">\r\n     <g id=\"line2d_327\">\r\n      <g>\r\n       <use style=\"stroke:#000000;stroke-width:0.8;\" x=\"33.2875\" xlink:href=\"#m7d443d45af\" y=\"115.692552\"/>\r\n      </g>\r\n     </g>\r\n     <g id=\"text_327\">\r\n      <!-- 321 -->\r\n      <g transform=\"translate(7.2 119.491771)scale(0.1 -0.1)\">\r\n       <use xlink:href=\"#DejaVuSans-51\"/>\r\n       <use x=\"63.623047\" xlink:href=\"#DejaVuSans-50\"/>\r\n       <use x=\"127.246094\" xlink:href=\"#DejaVuSans-49\"/>\r\n      </g>\r\n     </g>\r\n    </g>\r\n    <g id=\"ytick_323\">\r\n     <g id=\"line2d_328\">\r\n      <g>\r\n       <use style=\"stroke:#000000;stroke-width:0.8;\" x=\"33.2875\" xlink:href=\"#m7d443d45af\" y=\"115.342407\"/>\r\n      </g>\r\n     </g>\r\n     <g id=\"text_328\">\r\n      <!-- 322 -->\r\n      <g transform=\"translate(7.2 119.141626)scale(0.1 -0.1)\">\r\n       <use xlink:href=\"#DejaVuSans-51\"/>\r\n       <use x=\"63.623047\" xlink:href=\"#DejaVuSans-50\"/>\r\n       <use x=\"127.246094\" xlink:href=\"#DejaVuSans-50\"/>\r\n      </g>\r\n     </g>\r\n    </g>\r\n    <g id=\"ytick_324\">\r\n     <g id=\"line2d_329\">\r\n      <g>\r\n       <use style=\"stroke:#000000;stroke-width:0.8;\" x=\"33.2875\" xlink:href=\"#m7d443d45af\" y=\"114.992262\"/>\r\n      </g>\r\n     </g>\r\n     <g id=\"text_329\">\r\n      <!-- 323 -->\r\n      <g transform=\"translate(7.2 118.791481)scale(0.1 -0.1)\">\r\n       <use xlink:href=\"#DejaVuSans-51\"/>\r\n       <use x=\"63.623047\" xlink:href=\"#DejaVuSans-50\"/>\r\n       <use x=\"127.246094\" xlink:href=\"#DejaVuSans-51\"/>\r\n      </g>\r\n     </g>\r\n    </g>\r\n    <g id=\"ytick_325\">\r\n     <g id=\"line2d_330\">\r\n      <g>\r\n       <use style=\"stroke:#000000;stroke-width:0.8;\" x=\"33.2875\" xlink:href=\"#m7d443d45af\" y=\"114.642117\"/>\r\n      </g>\r\n     </g>\r\n     <g id=\"text_330\">\r\n      <!-- 324 -->\r\n      <g transform=\"translate(7.2 118.441336)scale(0.1 -0.1)\">\r\n       <use xlink:href=\"#DejaVuSans-51\"/>\r\n       <use x=\"63.623047\" xlink:href=\"#DejaVuSans-50\"/>\r\n       <use x=\"127.246094\" xlink:href=\"#DejaVuSans-52\"/>\r\n      </g>\r\n     </g>\r\n    </g>\r\n    <g id=\"ytick_326\">\r\n     <g id=\"line2d_331\">\r\n      <g>\r\n       <use style=\"stroke:#000000;stroke-width:0.8;\" x=\"33.2875\" xlink:href=\"#m7d443d45af\" y=\"114.291972\"/>\r\n      </g>\r\n     </g>\r\n     <g id=\"text_331\">\r\n      <!-- 325 -->\r\n      <g transform=\"translate(7.2 118.091191)scale(0.1 -0.1)\">\r\n       <use xlink:href=\"#DejaVuSans-51\"/>\r\n       <use x=\"63.623047\" xlink:href=\"#DejaVuSans-50\"/>\r\n       <use x=\"127.246094\" xlink:href=\"#DejaVuSans-53\"/>\r\n      </g>\r\n     </g>\r\n    </g>\r\n    <g id=\"ytick_327\">\r\n     <g id=\"line2d_332\">\r\n      <g>\r\n       <use style=\"stroke:#000000;stroke-width:0.8;\" x=\"33.2875\" xlink:href=\"#m7d443d45af\" y=\"113.941827\"/>\r\n      </g>\r\n     </g>\r\n     <g id=\"text_332\">\r\n      <!-- 326 -->\r\n      <g transform=\"translate(7.2 117.741046)scale(0.1 -0.1)\">\r\n       <use xlink:href=\"#DejaVuSans-51\"/>\r\n       <use x=\"63.623047\" xlink:href=\"#DejaVuSans-50\"/>\r\n       <use x=\"127.246094\" xlink:href=\"#DejaVuSans-54\"/>\r\n      </g>\r\n     </g>\r\n    </g>\r\n    <g id=\"ytick_328\">\r\n     <g id=\"line2d_333\">\r\n      <g>\r\n       <use style=\"stroke:#000000;stroke-width:0.8;\" x=\"33.2875\" xlink:href=\"#m7d443d45af\" y=\"113.591683\"/>\r\n      </g>\r\n     </g>\r\n     <g id=\"text_333\">\r\n      <!-- 327 -->\r\n      <g transform=\"translate(7.2 117.390901)scale(0.1 -0.1)\">\r\n       <use xlink:href=\"#DejaVuSans-51\"/>\r\n       <use x=\"63.623047\" xlink:href=\"#DejaVuSans-50\"/>\r\n       <use x=\"127.246094\" xlink:href=\"#DejaVuSans-55\"/>\r\n      </g>\r\n     </g>\r\n    </g>\r\n    <g id=\"ytick_329\">\r\n     <g id=\"line2d_334\">\r\n      <g>\r\n       <use style=\"stroke:#000000;stroke-width:0.8;\" x=\"33.2875\" xlink:href=\"#m7d443d45af\" y=\"113.241538\"/>\r\n      </g>\r\n     </g>\r\n     <g id=\"text_334\">\r\n      <!-- 328 -->\r\n      <g transform=\"translate(7.2 117.040756)scale(0.1 -0.1)\">\r\n       <use xlink:href=\"#DejaVuSans-51\"/>\r\n       <use x=\"63.623047\" xlink:href=\"#DejaVuSans-50\"/>\r\n       <use x=\"127.246094\" xlink:href=\"#DejaVuSans-56\"/>\r\n      </g>\r\n     </g>\r\n    </g>\r\n    <g id=\"ytick_330\">\r\n     <g id=\"line2d_335\">\r\n      <g>\r\n       <use style=\"stroke:#000000;stroke-width:0.8;\" x=\"33.2875\" xlink:href=\"#m7d443d45af\" y=\"112.891393\"/>\r\n      </g>\r\n     </g>\r\n     <g id=\"text_335\">\r\n      <!-- 329 -->\r\n      <g transform=\"translate(7.2 116.690611)scale(0.1 -0.1)\">\r\n       <use xlink:href=\"#DejaVuSans-51\"/>\r\n       <use x=\"63.623047\" xlink:href=\"#DejaVuSans-50\"/>\r\n       <use x=\"127.246094\" xlink:href=\"#DejaVuSans-57\"/>\r\n      </g>\r\n     </g>\r\n    </g>\r\n    <g id=\"ytick_331\">\r\n     <g id=\"line2d_336\">\r\n      <g>\r\n       <use style=\"stroke:#000000;stroke-width:0.8;\" x=\"33.2875\" xlink:href=\"#m7d443d45af\" y=\"112.541248\"/>\r\n      </g>\r\n     </g>\r\n     <g id=\"text_336\">\r\n      <!-- 330 -->\r\n      <g transform=\"translate(7.2 116.340466)scale(0.1 -0.1)\">\r\n       <use xlink:href=\"#DejaVuSans-51\"/>\r\n       <use x=\"63.623047\" xlink:href=\"#DejaVuSans-51\"/>\r\n       <use x=\"127.246094\" xlink:href=\"#DejaVuSans-48\"/>\r\n      </g>\r\n     </g>\r\n    </g>\r\n    <g id=\"ytick_332\">\r\n     <g id=\"line2d_337\">\r\n      <g>\r\n       <use style=\"stroke:#000000;stroke-width:0.8;\" x=\"33.2875\" xlink:href=\"#m7d443d45af\" y=\"112.191103\"/>\r\n      </g>\r\n     </g>\r\n     <g id=\"text_337\">\r\n      <!-- 331 -->\r\n      <g transform=\"translate(7.2 115.990322)scale(0.1 -0.1)\">\r\n       <use xlink:href=\"#DejaVuSans-51\"/>\r\n       <use x=\"63.623047\" xlink:href=\"#DejaVuSans-51\"/>\r\n       <use x=\"127.246094\" xlink:href=\"#DejaVuSans-49\"/>\r\n      </g>\r\n     </g>\r\n    </g>\r\n    <g id=\"ytick_333\">\r\n     <g id=\"line2d_338\">\r\n      <g>\r\n       <use style=\"stroke:#000000;stroke-width:0.8;\" x=\"33.2875\" xlink:href=\"#m7d443d45af\" y=\"111.840958\"/>\r\n      </g>\r\n     </g>\r\n     <g id=\"text_338\">\r\n      <!-- 332 -->\r\n      <g transform=\"translate(7.2 115.640177)scale(0.1 -0.1)\">\r\n       <use xlink:href=\"#DejaVuSans-51\"/>\r\n       <use x=\"63.623047\" xlink:href=\"#DejaVuSans-51\"/>\r\n       <use x=\"127.246094\" xlink:href=\"#DejaVuSans-50\"/>\r\n      </g>\r\n     </g>\r\n    </g>\r\n    <g id=\"ytick_334\">\r\n     <g id=\"line2d_339\">\r\n      <g>\r\n       <use style=\"stroke:#000000;stroke-width:0.8;\" x=\"33.2875\" xlink:href=\"#m7d443d45af\" y=\"111.490813\"/>\r\n      </g>\r\n     </g>\r\n     <g id=\"text_339\">\r\n      <!-- 333 -->\r\n      <g transform=\"translate(7.2 115.290032)scale(0.1 -0.1)\">\r\n       <use xlink:href=\"#DejaVuSans-51\"/>\r\n       <use x=\"63.623047\" xlink:href=\"#DejaVuSans-51\"/>\r\n       <use x=\"127.246094\" xlink:href=\"#DejaVuSans-51\"/>\r\n      </g>\r\n     </g>\r\n    </g>\r\n    <g id=\"ytick_335\">\r\n     <g id=\"line2d_340\">\r\n      <g>\r\n       <use style=\"stroke:#000000;stroke-width:0.8;\" x=\"33.2875\" xlink:href=\"#m7d443d45af\" y=\"111.140668\"/>\r\n      </g>\r\n     </g>\r\n     <g id=\"text_340\">\r\n      <!-- 334 -->\r\n      <g transform=\"translate(7.2 114.939887)scale(0.1 -0.1)\">\r\n       <use xlink:href=\"#DejaVuSans-51\"/>\r\n       <use x=\"63.623047\" xlink:href=\"#DejaVuSans-51\"/>\r\n       <use x=\"127.246094\" xlink:href=\"#DejaVuSans-52\"/>\r\n      </g>\r\n     </g>\r\n    </g>\r\n    <g id=\"ytick_336\">\r\n     <g id=\"line2d_341\">\r\n      <g>\r\n       <use style=\"stroke:#000000;stroke-width:0.8;\" x=\"33.2875\" xlink:href=\"#m7d443d45af\" y=\"110.790523\"/>\r\n      </g>\r\n     </g>\r\n     <g id=\"text_341\">\r\n      <!-- 335 -->\r\n      <g transform=\"translate(7.2 114.589742)scale(0.1 -0.1)\">\r\n       <use xlink:href=\"#DejaVuSans-51\"/>\r\n       <use x=\"63.623047\" xlink:href=\"#DejaVuSans-51\"/>\r\n       <use x=\"127.246094\" xlink:href=\"#DejaVuSans-53\"/>\r\n      </g>\r\n     </g>\r\n    </g>\r\n    <g id=\"ytick_337\">\r\n     <g id=\"line2d_342\">\r\n      <g>\r\n       <use style=\"stroke:#000000;stroke-width:0.8;\" x=\"33.2875\" xlink:href=\"#m7d443d45af\" y=\"110.440378\"/>\r\n      </g>\r\n     </g>\r\n     <g id=\"text_342\">\r\n      <!-- 336 -->\r\n      <g transform=\"translate(7.2 114.239597)scale(0.1 -0.1)\">\r\n       <use xlink:href=\"#DejaVuSans-51\"/>\r\n       <use x=\"63.623047\" xlink:href=\"#DejaVuSans-51\"/>\r\n       <use x=\"127.246094\" xlink:href=\"#DejaVuSans-54\"/>\r\n      </g>\r\n     </g>\r\n    </g>\r\n    <g id=\"ytick_338\">\r\n     <g id=\"line2d_343\">\r\n      <g>\r\n       <use style=\"stroke:#000000;stroke-width:0.8;\" x=\"33.2875\" xlink:href=\"#m7d443d45af\" y=\"110.090233\"/>\r\n      </g>\r\n     </g>\r\n     <g id=\"text_343\">\r\n      <!-- 337 -->\r\n      <g transform=\"translate(7.2 113.889452)scale(0.1 -0.1)\">\r\n       <use xlink:href=\"#DejaVuSans-51\"/>\r\n       <use x=\"63.623047\" xlink:href=\"#DejaVuSans-51\"/>\r\n       <use x=\"127.246094\" xlink:href=\"#DejaVuSans-55\"/>\r\n      </g>\r\n     </g>\r\n    </g>\r\n    <g id=\"ytick_339\">\r\n     <g id=\"line2d_344\">\r\n      <g>\r\n       <use style=\"stroke:#000000;stroke-width:0.8;\" x=\"33.2875\" xlink:href=\"#m7d443d45af\" y=\"109.740088\"/>\r\n      </g>\r\n     </g>\r\n     <g id=\"text_344\">\r\n      <!-- 338 -->\r\n      <g transform=\"translate(7.2 113.539307)scale(0.1 -0.1)\">\r\n       <use xlink:href=\"#DejaVuSans-51\"/>\r\n       <use x=\"63.623047\" xlink:href=\"#DejaVuSans-51\"/>\r\n       <use x=\"127.246094\" xlink:href=\"#DejaVuSans-56\"/>\r\n      </g>\r\n     </g>\r\n    </g>\r\n    <g id=\"ytick_340\">\r\n     <g id=\"line2d_345\">\r\n      <g>\r\n       <use style=\"stroke:#000000;stroke-width:0.8;\" x=\"33.2875\" xlink:href=\"#m7d443d45af\" y=\"109.389943\"/>\r\n      </g>\r\n     </g>\r\n     <g id=\"text_345\">\r\n      <!-- 339 -->\r\n      <g transform=\"translate(7.2 113.189162)scale(0.1 -0.1)\">\r\n       <use xlink:href=\"#DejaVuSans-51\"/>\r\n       <use x=\"63.623047\" xlink:href=\"#DejaVuSans-51\"/>\r\n       <use x=\"127.246094\" xlink:href=\"#DejaVuSans-57\"/>\r\n      </g>\r\n     </g>\r\n    </g>\r\n    <g id=\"ytick_341\">\r\n     <g id=\"line2d_346\">\r\n      <g>\r\n       <use style=\"stroke:#000000;stroke-width:0.8;\" x=\"33.2875\" xlink:href=\"#m7d443d45af\" y=\"109.039798\"/>\r\n      </g>\r\n     </g>\r\n     <g id=\"text_346\">\r\n      <!-- 340 -->\r\n      <g transform=\"translate(7.2 112.839017)scale(0.1 -0.1)\">\r\n       <use xlink:href=\"#DejaVuSans-51\"/>\r\n       <use x=\"63.623047\" xlink:href=\"#DejaVuSans-52\"/>\r\n       <use x=\"127.246094\" xlink:href=\"#DejaVuSans-48\"/>\r\n      </g>\r\n     </g>\r\n    </g>\r\n    <g id=\"ytick_342\">\r\n     <g id=\"line2d_347\">\r\n      <g>\r\n       <use style=\"stroke:#000000;stroke-width:0.8;\" x=\"33.2875\" xlink:href=\"#m7d443d45af\" y=\"108.689654\"/>\r\n      </g>\r\n     </g>\r\n     <g id=\"text_347\">\r\n      <!-- 341 -->\r\n      <g transform=\"translate(7.2 112.488872)scale(0.1 -0.1)\">\r\n       <use xlink:href=\"#DejaVuSans-51\"/>\r\n       <use x=\"63.623047\" xlink:href=\"#DejaVuSans-52\"/>\r\n       <use x=\"127.246094\" xlink:href=\"#DejaVuSans-49\"/>\r\n      </g>\r\n     </g>\r\n    </g>\r\n    <g id=\"ytick_343\">\r\n     <g id=\"line2d_348\">\r\n      <g>\r\n       <use style=\"stroke:#000000;stroke-width:0.8;\" x=\"33.2875\" xlink:href=\"#m7d443d45af\" y=\"108.339509\"/>\r\n      </g>\r\n     </g>\r\n     <g id=\"text_348\">\r\n      <!-- 342 -->\r\n      <g transform=\"translate(7.2 112.138727)scale(0.1 -0.1)\">\r\n       <use xlink:href=\"#DejaVuSans-51\"/>\r\n       <use x=\"63.623047\" xlink:href=\"#DejaVuSans-52\"/>\r\n       <use x=\"127.246094\" xlink:href=\"#DejaVuSans-50\"/>\r\n      </g>\r\n     </g>\r\n    </g>\r\n    <g id=\"ytick_344\">\r\n     <g id=\"line2d_349\">\r\n      <g>\r\n       <use style=\"stroke:#000000;stroke-width:0.8;\" x=\"33.2875\" xlink:href=\"#m7d443d45af\" y=\"107.989364\"/>\r\n      </g>\r\n     </g>\r\n     <g id=\"text_349\">\r\n      <!-- 343 -->\r\n      <g transform=\"translate(7.2 111.788582)scale(0.1 -0.1)\">\r\n       <use xlink:href=\"#DejaVuSans-51\"/>\r\n       <use x=\"63.623047\" xlink:href=\"#DejaVuSans-52\"/>\r\n       <use x=\"127.246094\" xlink:href=\"#DejaVuSans-51\"/>\r\n      </g>\r\n     </g>\r\n    </g>\r\n    <g id=\"ytick_345\">\r\n     <g id=\"line2d_350\">\r\n      <g>\r\n       <use style=\"stroke:#000000;stroke-width:0.8;\" x=\"33.2875\" xlink:href=\"#m7d443d45af\" y=\"107.639219\"/>\r\n      </g>\r\n     </g>\r\n     <g id=\"text_350\">\r\n      <!-- 344 -->\r\n      <g transform=\"translate(7.2 111.438437)scale(0.1 -0.1)\">\r\n       <use xlink:href=\"#DejaVuSans-51\"/>\r\n       <use x=\"63.623047\" xlink:href=\"#DejaVuSans-52\"/>\r\n       <use x=\"127.246094\" xlink:href=\"#DejaVuSans-52\"/>\r\n      </g>\r\n     </g>\r\n    </g>\r\n    <g id=\"ytick_346\">\r\n     <g id=\"line2d_351\">\r\n      <g>\r\n       <use style=\"stroke:#000000;stroke-width:0.8;\" x=\"33.2875\" xlink:href=\"#m7d443d45af\" y=\"107.289074\"/>\r\n      </g>\r\n     </g>\r\n     <g id=\"text_351\">\r\n      <!-- 345 -->\r\n      <g transform=\"translate(7.2 111.088293)scale(0.1 -0.1)\">\r\n       <use xlink:href=\"#DejaVuSans-51\"/>\r\n       <use x=\"63.623047\" xlink:href=\"#DejaVuSans-52\"/>\r\n       <use x=\"127.246094\" xlink:href=\"#DejaVuSans-53\"/>\r\n      </g>\r\n     </g>\r\n    </g>\r\n    <g id=\"ytick_347\">\r\n     <g id=\"line2d_352\">\r\n      <g>\r\n       <use style=\"stroke:#000000;stroke-width:0.8;\" x=\"33.2875\" xlink:href=\"#m7d443d45af\" y=\"106.938929\"/>\r\n      </g>\r\n     </g>\r\n     <g id=\"text_352\">\r\n      <!-- 346 -->\r\n      <g transform=\"translate(7.2 110.738148)scale(0.1 -0.1)\">\r\n       <use xlink:href=\"#DejaVuSans-51\"/>\r\n       <use x=\"63.623047\" xlink:href=\"#DejaVuSans-52\"/>\r\n       <use x=\"127.246094\" xlink:href=\"#DejaVuSans-54\"/>\r\n      </g>\r\n     </g>\r\n    </g>\r\n    <g id=\"ytick_348\">\r\n     <g id=\"line2d_353\">\r\n      <g>\r\n       <use style=\"stroke:#000000;stroke-width:0.8;\" x=\"33.2875\" xlink:href=\"#m7d443d45af\" y=\"106.588784\"/>\r\n      </g>\r\n     </g>\r\n     <g id=\"text_353\">\r\n      <!-- 347 -->\r\n      <g transform=\"translate(7.2 110.388003)scale(0.1 -0.1)\">\r\n       <use xlink:href=\"#DejaVuSans-51\"/>\r\n       <use x=\"63.623047\" xlink:href=\"#DejaVuSans-52\"/>\r\n       <use x=\"127.246094\" xlink:href=\"#DejaVuSans-55\"/>\r\n      </g>\r\n     </g>\r\n    </g>\r\n    <g id=\"ytick_349\">\r\n     <g id=\"line2d_354\">\r\n      <g>\r\n       <use style=\"stroke:#000000;stroke-width:0.8;\" x=\"33.2875\" xlink:href=\"#m7d443d45af\" y=\"106.238639\"/>\r\n      </g>\r\n     </g>\r\n     <g id=\"text_354\">\r\n      <!-- 348 -->\r\n      <g transform=\"translate(7.2 110.037858)scale(0.1 -0.1)\">\r\n       <use xlink:href=\"#DejaVuSans-51\"/>\r\n       <use x=\"63.623047\" xlink:href=\"#DejaVuSans-52\"/>\r\n       <use x=\"127.246094\" xlink:href=\"#DejaVuSans-56\"/>\r\n      </g>\r\n     </g>\r\n    </g>\r\n    <g id=\"ytick_350\">\r\n     <g id=\"line2d_355\">\r\n      <g>\r\n       <use style=\"stroke:#000000;stroke-width:0.8;\" x=\"33.2875\" xlink:href=\"#m7d443d45af\" y=\"105.888494\"/>\r\n      </g>\r\n     </g>\r\n     <g id=\"text_355\">\r\n      <!-- 349 -->\r\n      <g transform=\"translate(7.2 109.687713)scale(0.1 -0.1)\">\r\n       <use xlink:href=\"#DejaVuSans-51\"/>\r\n       <use x=\"63.623047\" xlink:href=\"#DejaVuSans-52\"/>\r\n       <use x=\"127.246094\" xlink:href=\"#DejaVuSans-57\"/>\r\n      </g>\r\n     </g>\r\n    </g>\r\n    <g id=\"ytick_351\">\r\n     <g id=\"line2d_356\">\r\n      <g>\r\n       <use style=\"stroke:#000000;stroke-width:0.8;\" x=\"33.2875\" xlink:href=\"#m7d443d45af\" y=\"105.538349\"/>\r\n      </g>\r\n     </g>\r\n     <g id=\"text_356\">\r\n      <!-- 350 -->\r\n      <g transform=\"translate(7.2 109.337568)scale(0.1 -0.1)\">\r\n       <use xlink:href=\"#DejaVuSans-51\"/>\r\n       <use x=\"63.623047\" xlink:href=\"#DejaVuSans-53\"/>\r\n       <use x=\"127.246094\" xlink:href=\"#DejaVuSans-48\"/>\r\n      </g>\r\n     </g>\r\n    </g>\r\n    <g id=\"ytick_352\">\r\n     <g id=\"line2d_357\">\r\n      <g>\r\n       <use style=\"stroke:#000000;stroke-width:0.8;\" x=\"33.2875\" xlink:href=\"#m7d443d45af\" y=\"105.188204\"/>\r\n      </g>\r\n     </g>\r\n     <g id=\"text_357\">\r\n      <!-- 351 -->\r\n      <g transform=\"translate(7.2 108.987423)scale(0.1 -0.1)\">\r\n       <use xlink:href=\"#DejaVuSans-51\"/>\r\n       <use x=\"63.623047\" xlink:href=\"#DejaVuSans-53\"/>\r\n       <use x=\"127.246094\" xlink:href=\"#DejaVuSans-49\"/>\r\n      </g>\r\n     </g>\r\n    </g>\r\n    <g id=\"ytick_353\">\r\n     <g id=\"line2d_358\">\r\n      <g>\r\n       <use style=\"stroke:#000000;stroke-width:0.8;\" x=\"33.2875\" xlink:href=\"#m7d443d45af\" y=\"104.838059\"/>\r\n      </g>\r\n     </g>\r\n     <g id=\"text_358\">\r\n      <!-- 352 -->\r\n      <g transform=\"translate(7.2 108.637278)scale(0.1 -0.1)\">\r\n       <use xlink:href=\"#DejaVuSans-51\"/>\r\n       <use x=\"63.623047\" xlink:href=\"#DejaVuSans-53\"/>\r\n       <use x=\"127.246094\" xlink:href=\"#DejaVuSans-50\"/>\r\n      </g>\r\n     </g>\r\n    </g>\r\n    <g id=\"ytick_354\">\r\n     <g id=\"line2d_359\">\r\n      <g>\r\n       <use style=\"stroke:#000000;stroke-width:0.8;\" x=\"33.2875\" xlink:href=\"#m7d443d45af\" y=\"104.487914\"/>\r\n      </g>\r\n     </g>\r\n     <g id=\"text_359\">\r\n      <!-- 353 -->\r\n      <g transform=\"translate(7.2 108.287133)scale(0.1 -0.1)\">\r\n       <use xlink:href=\"#DejaVuSans-51\"/>\r\n       <use x=\"63.623047\" xlink:href=\"#DejaVuSans-53\"/>\r\n       <use x=\"127.246094\" xlink:href=\"#DejaVuSans-51\"/>\r\n      </g>\r\n     </g>\r\n    </g>\r\n    <g id=\"ytick_355\">\r\n     <g id=\"line2d_360\">\r\n      <g>\r\n       <use style=\"stroke:#000000;stroke-width:0.8;\" x=\"33.2875\" xlink:href=\"#m7d443d45af\" y=\"104.137769\"/>\r\n      </g>\r\n     </g>\r\n     <g id=\"text_360\">\r\n      <!-- 354 -->\r\n      <g transform=\"translate(7.2 107.936988)scale(0.1 -0.1)\">\r\n       <use xlink:href=\"#DejaVuSans-51\"/>\r\n       <use x=\"63.623047\" xlink:href=\"#DejaVuSans-53\"/>\r\n       <use x=\"127.246094\" xlink:href=\"#DejaVuSans-52\"/>\r\n      </g>\r\n     </g>\r\n    </g>\r\n    <g id=\"ytick_356\">\r\n     <g id=\"line2d_361\">\r\n      <g>\r\n       <use style=\"stroke:#000000;stroke-width:0.8;\" x=\"33.2875\" xlink:href=\"#m7d443d45af\" y=\"103.787625\"/>\r\n      </g>\r\n     </g>\r\n     <g id=\"text_361\">\r\n      <!-- 355 -->\r\n      <g transform=\"translate(7.2 107.586843)scale(0.1 -0.1)\">\r\n       <use xlink:href=\"#DejaVuSans-51\"/>\r\n       <use x=\"63.623047\" xlink:href=\"#DejaVuSans-53\"/>\r\n       <use x=\"127.246094\" xlink:href=\"#DejaVuSans-53\"/>\r\n      </g>\r\n     </g>\r\n    </g>\r\n    <g id=\"ytick_357\">\r\n     <g id=\"line2d_362\">\r\n      <g>\r\n       <use style=\"stroke:#000000;stroke-width:0.8;\" x=\"33.2875\" xlink:href=\"#m7d443d45af\" y=\"103.43748\"/>\r\n      </g>\r\n     </g>\r\n     <g id=\"text_362\">\r\n      <!-- 356 -->\r\n      <g transform=\"translate(7.2 107.236698)scale(0.1 -0.1)\">\r\n       <use xlink:href=\"#DejaVuSans-51\"/>\r\n       <use x=\"63.623047\" xlink:href=\"#DejaVuSans-53\"/>\r\n       <use x=\"127.246094\" xlink:href=\"#DejaVuSans-54\"/>\r\n      </g>\r\n     </g>\r\n    </g>\r\n    <g id=\"ytick_358\">\r\n     <g id=\"line2d_363\">\r\n      <g>\r\n       <use style=\"stroke:#000000;stroke-width:0.8;\" x=\"33.2875\" xlink:href=\"#m7d443d45af\" y=\"103.087335\"/>\r\n      </g>\r\n     </g>\r\n     <g id=\"text_363\">\r\n      <!-- 357 -->\r\n      <g transform=\"translate(7.2 106.886553)scale(0.1 -0.1)\">\r\n       <use xlink:href=\"#DejaVuSans-51\"/>\r\n       <use x=\"63.623047\" xlink:href=\"#DejaVuSans-53\"/>\r\n       <use x=\"127.246094\" xlink:href=\"#DejaVuSans-55\"/>\r\n      </g>\r\n     </g>\r\n    </g>\r\n    <g id=\"ytick_359\">\r\n     <g id=\"line2d_364\">\r\n      <g>\r\n       <use style=\"stroke:#000000;stroke-width:0.8;\" x=\"33.2875\" xlink:href=\"#m7d443d45af\" y=\"102.73719\"/>\r\n      </g>\r\n     </g>\r\n     <g id=\"text_364\">\r\n      <!-- 358 -->\r\n      <g transform=\"translate(7.2 106.536409)scale(0.1 -0.1)\">\r\n       <use xlink:href=\"#DejaVuSans-51\"/>\r\n       <use x=\"63.623047\" xlink:href=\"#DejaVuSans-53\"/>\r\n       <use x=\"127.246094\" xlink:href=\"#DejaVuSans-56\"/>\r\n      </g>\r\n     </g>\r\n    </g>\r\n    <g id=\"ytick_360\">\r\n     <g id=\"line2d_365\">\r\n      <g>\r\n       <use style=\"stroke:#000000;stroke-width:0.8;\" x=\"33.2875\" xlink:href=\"#m7d443d45af\" y=\"102.387045\"/>\r\n      </g>\r\n     </g>\r\n     <g id=\"text_365\">\r\n      <!-- 359 -->\r\n      <g transform=\"translate(7.2 106.186264)scale(0.1 -0.1)\">\r\n       <use xlink:href=\"#DejaVuSans-51\"/>\r\n       <use x=\"63.623047\" xlink:href=\"#DejaVuSans-53\"/>\r\n       <use x=\"127.246094\" xlink:href=\"#DejaVuSans-57\"/>\r\n      </g>\r\n     </g>\r\n    </g>\r\n    <g id=\"ytick_361\">\r\n     <g id=\"line2d_366\">\r\n      <g>\r\n       <use style=\"stroke:#000000;stroke-width:0.8;\" x=\"33.2875\" xlink:href=\"#m7d443d45af\" y=\"102.0369\"/>\r\n      </g>\r\n     </g>\r\n     <g id=\"text_366\">\r\n      <!-- 360 -->\r\n      <g transform=\"translate(7.2 105.836119)scale(0.1 -0.1)\">\r\n       <use xlink:href=\"#DejaVuSans-51\"/>\r\n       <use x=\"63.623047\" xlink:href=\"#DejaVuSans-54\"/>\r\n       <use x=\"127.246094\" xlink:href=\"#DejaVuSans-48\"/>\r\n      </g>\r\n     </g>\r\n    </g>\r\n    <g id=\"ytick_362\">\r\n     <g id=\"line2d_367\">\r\n      <g>\r\n       <use style=\"stroke:#000000;stroke-width:0.8;\" x=\"33.2875\" xlink:href=\"#m7d443d45af\" y=\"101.686755\"/>\r\n      </g>\r\n     </g>\r\n     <g id=\"text_367\">\r\n      <!-- 361 -->\r\n      <g transform=\"translate(7.2 105.485974)scale(0.1 -0.1)\">\r\n       <use xlink:href=\"#DejaVuSans-51\"/>\r\n       <use x=\"63.623047\" xlink:href=\"#DejaVuSans-54\"/>\r\n       <use x=\"127.246094\" xlink:href=\"#DejaVuSans-49\"/>\r\n      </g>\r\n     </g>\r\n    </g>\r\n    <g id=\"ytick_363\">\r\n     <g id=\"line2d_368\">\r\n      <g>\r\n       <use style=\"stroke:#000000;stroke-width:0.8;\" x=\"33.2875\" xlink:href=\"#m7d443d45af\" y=\"101.33661\"/>\r\n      </g>\r\n     </g>\r\n     <g id=\"text_368\">\r\n      <!-- 362 -->\r\n      <g transform=\"translate(7.2 105.135829)scale(0.1 -0.1)\">\r\n       <use xlink:href=\"#DejaVuSans-51\"/>\r\n       <use x=\"63.623047\" xlink:href=\"#DejaVuSans-54\"/>\r\n       <use x=\"127.246094\" xlink:href=\"#DejaVuSans-50\"/>\r\n      </g>\r\n     </g>\r\n    </g>\r\n    <g id=\"ytick_364\">\r\n     <g id=\"line2d_369\">\r\n      <g>\r\n       <use style=\"stroke:#000000;stroke-width:0.8;\" x=\"33.2875\" xlink:href=\"#m7d443d45af\" y=\"100.986465\"/>\r\n      </g>\r\n     </g>\r\n     <g id=\"text_369\">\r\n      <!-- 363 -->\r\n      <g transform=\"translate(7.2 104.785684)scale(0.1 -0.1)\">\r\n       <use xlink:href=\"#DejaVuSans-51\"/>\r\n       <use x=\"63.623047\" xlink:href=\"#DejaVuSans-54\"/>\r\n       <use x=\"127.246094\" xlink:href=\"#DejaVuSans-51\"/>\r\n      </g>\r\n     </g>\r\n    </g>\r\n    <g id=\"ytick_365\">\r\n     <g id=\"line2d_370\">\r\n      <g>\r\n       <use style=\"stroke:#000000;stroke-width:0.8;\" x=\"33.2875\" xlink:href=\"#m7d443d45af\" y=\"100.63632\"/>\r\n      </g>\r\n     </g>\r\n     <g id=\"text_370\">\r\n      <!-- 364 -->\r\n      <g transform=\"translate(7.2 104.435539)scale(0.1 -0.1)\">\r\n       <use xlink:href=\"#DejaVuSans-51\"/>\r\n       <use x=\"63.623047\" xlink:href=\"#DejaVuSans-54\"/>\r\n       <use x=\"127.246094\" xlink:href=\"#DejaVuSans-52\"/>\r\n      </g>\r\n     </g>\r\n    </g>\r\n    <g id=\"ytick_366\">\r\n     <g id=\"line2d_371\">\r\n      <g>\r\n       <use style=\"stroke:#000000;stroke-width:0.8;\" x=\"33.2875\" xlink:href=\"#m7d443d45af\" y=\"100.286175\"/>\r\n      </g>\r\n     </g>\r\n     <g id=\"text_371\">\r\n      <!-- 365 -->\r\n      <g transform=\"translate(7.2 104.085394)scale(0.1 -0.1)\">\r\n       <use xlink:href=\"#DejaVuSans-51\"/>\r\n       <use x=\"63.623047\" xlink:href=\"#DejaVuSans-54\"/>\r\n       <use x=\"127.246094\" xlink:href=\"#DejaVuSans-53\"/>\r\n      </g>\r\n     </g>\r\n    </g>\r\n    <g id=\"ytick_367\">\r\n     <g id=\"line2d_372\">\r\n      <g>\r\n       <use style=\"stroke:#000000;stroke-width:0.8;\" x=\"33.2875\" xlink:href=\"#m7d443d45af\" y=\"99.93603\"/>\r\n      </g>\r\n     </g>\r\n     <g id=\"text_372\">\r\n      <!-- 366 -->\r\n      <g transform=\"translate(7.2 103.735249)scale(0.1 -0.1)\">\r\n       <use xlink:href=\"#DejaVuSans-51\"/>\r\n       <use x=\"63.623047\" xlink:href=\"#DejaVuSans-54\"/>\r\n       <use x=\"127.246094\" xlink:href=\"#DejaVuSans-54\"/>\r\n      </g>\r\n     </g>\r\n    </g>\r\n    <g id=\"ytick_368\">\r\n     <g id=\"line2d_373\">\r\n      <g>\r\n       <use style=\"stroke:#000000;stroke-width:0.8;\" x=\"33.2875\" xlink:href=\"#m7d443d45af\" y=\"99.585885\"/>\r\n      </g>\r\n     </g>\r\n     <g id=\"text_373\">\r\n      <!-- 367 -->\r\n      <g transform=\"translate(7.2 103.385104)scale(0.1 -0.1)\">\r\n       <use xlink:href=\"#DejaVuSans-51\"/>\r\n       <use x=\"63.623047\" xlink:href=\"#DejaVuSans-54\"/>\r\n       <use x=\"127.246094\" xlink:href=\"#DejaVuSans-55\"/>\r\n      </g>\r\n     </g>\r\n    </g>\r\n    <g id=\"ytick_369\">\r\n     <g id=\"line2d_374\">\r\n      <g>\r\n       <use style=\"stroke:#000000;stroke-width:0.8;\" x=\"33.2875\" xlink:href=\"#m7d443d45af\" y=\"99.23574\"/>\r\n      </g>\r\n     </g>\r\n     <g id=\"text_374\">\r\n      <!-- 368 -->\r\n      <g transform=\"translate(7.2 103.034959)scale(0.1 -0.1)\">\r\n       <use xlink:href=\"#DejaVuSans-51\"/>\r\n       <use x=\"63.623047\" xlink:href=\"#DejaVuSans-54\"/>\r\n       <use x=\"127.246094\" xlink:href=\"#DejaVuSans-56\"/>\r\n      </g>\r\n     </g>\r\n    </g>\r\n    <g id=\"ytick_370\">\r\n     <g id=\"line2d_375\">\r\n      <g>\r\n       <use style=\"stroke:#000000;stroke-width:0.8;\" x=\"33.2875\" xlink:href=\"#m7d443d45af\" y=\"98.885596\"/>\r\n      </g>\r\n     </g>\r\n     <g id=\"text_375\">\r\n      <!-- 369 -->\r\n      <g transform=\"translate(7.2 102.684814)scale(0.1 -0.1)\">\r\n       <use xlink:href=\"#DejaVuSans-51\"/>\r\n       <use x=\"63.623047\" xlink:href=\"#DejaVuSans-54\"/>\r\n       <use x=\"127.246094\" xlink:href=\"#DejaVuSans-57\"/>\r\n      </g>\r\n     </g>\r\n    </g>\r\n    <g id=\"ytick_371\">\r\n     <g id=\"line2d_376\">\r\n      <g>\r\n       <use style=\"stroke:#000000;stroke-width:0.8;\" x=\"33.2875\" xlink:href=\"#m7d443d45af\" y=\"98.535451\"/>\r\n      </g>\r\n     </g>\r\n     <g id=\"text_376\">\r\n      <!-- 370 -->\r\n      <g transform=\"translate(7.2 102.334669)scale(0.1 -0.1)\">\r\n       <use xlink:href=\"#DejaVuSans-51\"/>\r\n       <use x=\"63.623047\" xlink:href=\"#DejaVuSans-55\"/>\r\n       <use x=\"127.246094\" xlink:href=\"#DejaVuSans-48\"/>\r\n      </g>\r\n     </g>\r\n    </g>\r\n    <g id=\"ytick_372\">\r\n     <g id=\"line2d_377\">\r\n      <g>\r\n       <use style=\"stroke:#000000;stroke-width:0.8;\" x=\"33.2875\" xlink:href=\"#m7d443d45af\" y=\"98.185306\"/>\r\n      </g>\r\n     </g>\r\n     <g id=\"text_377\">\r\n      <!-- 371 -->\r\n      <g transform=\"translate(7.2 101.984524)scale(0.1 -0.1)\">\r\n       <use xlink:href=\"#DejaVuSans-51\"/>\r\n       <use x=\"63.623047\" xlink:href=\"#DejaVuSans-55\"/>\r\n       <use x=\"127.246094\" xlink:href=\"#DejaVuSans-49\"/>\r\n      </g>\r\n     </g>\r\n    </g>\r\n    <g id=\"ytick_373\">\r\n     <g id=\"line2d_378\">\r\n      <g>\r\n       <use style=\"stroke:#000000;stroke-width:0.8;\" x=\"33.2875\" xlink:href=\"#m7d443d45af\" y=\"97.835161\"/>\r\n      </g>\r\n     </g>\r\n     <g id=\"text_378\">\r\n      <!-- 372 -->\r\n      <g transform=\"translate(7.2 101.63438)scale(0.1 -0.1)\">\r\n       <use xlink:href=\"#DejaVuSans-51\"/>\r\n       <use x=\"63.623047\" xlink:href=\"#DejaVuSans-55\"/>\r\n       <use x=\"127.246094\" xlink:href=\"#DejaVuSans-50\"/>\r\n      </g>\r\n     </g>\r\n    </g>\r\n    <g id=\"ytick_374\">\r\n     <g id=\"line2d_379\">\r\n      <g>\r\n       <use style=\"stroke:#000000;stroke-width:0.8;\" x=\"33.2875\" xlink:href=\"#m7d443d45af\" y=\"97.485016\"/>\r\n      </g>\r\n     </g>\r\n     <g id=\"text_379\">\r\n      <!-- 373 -->\r\n      <g transform=\"translate(7.2 101.284235)scale(0.1 -0.1)\">\r\n       <use xlink:href=\"#DejaVuSans-51\"/>\r\n       <use x=\"63.623047\" xlink:href=\"#DejaVuSans-55\"/>\r\n       <use x=\"127.246094\" xlink:href=\"#DejaVuSans-51\"/>\r\n      </g>\r\n     </g>\r\n    </g>\r\n    <g id=\"ytick_375\">\r\n     <g id=\"line2d_380\">\r\n      <g>\r\n       <use style=\"stroke:#000000;stroke-width:0.8;\" x=\"33.2875\" xlink:href=\"#m7d443d45af\" y=\"97.134871\"/>\r\n      </g>\r\n     </g>\r\n     <g id=\"text_380\">\r\n      <!-- 374 -->\r\n      <g transform=\"translate(7.2 100.93409)scale(0.1 -0.1)\">\r\n       <use xlink:href=\"#DejaVuSans-51\"/>\r\n       <use x=\"63.623047\" xlink:href=\"#DejaVuSans-55\"/>\r\n       <use x=\"127.246094\" xlink:href=\"#DejaVuSans-52\"/>\r\n      </g>\r\n     </g>\r\n    </g>\r\n    <g id=\"ytick_376\">\r\n     <g id=\"line2d_381\">\r\n      <g>\r\n       <use style=\"stroke:#000000;stroke-width:0.8;\" x=\"33.2875\" xlink:href=\"#m7d443d45af\" y=\"96.784726\"/>\r\n      </g>\r\n     </g>\r\n     <g id=\"text_381\">\r\n      <!-- 375 -->\r\n      <g transform=\"translate(7.2 100.583945)scale(0.1 -0.1)\">\r\n       <use xlink:href=\"#DejaVuSans-51\"/>\r\n       <use x=\"63.623047\" xlink:href=\"#DejaVuSans-55\"/>\r\n       <use x=\"127.246094\" xlink:href=\"#DejaVuSans-53\"/>\r\n      </g>\r\n     </g>\r\n    </g>\r\n    <g id=\"ytick_377\">\r\n     <g id=\"line2d_382\">\r\n      <g>\r\n       <use style=\"stroke:#000000;stroke-width:0.8;\" x=\"33.2875\" xlink:href=\"#m7d443d45af\" y=\"96.434581\"/>\r\n      </g>\r\n     </g>\r\n     <g id=\"text_382\">\r\n      <!-- 376 -->\r\n      <g transform=\"translate(7.2 100.2338)scale(0.1 -0.1)\">\r\n       <use xlink:href=\"#DejaVuSans-51\"/>\r\n       <use x=\"63.623047\" xlink:href=\"#DejaVuSans-55\"/>\r\n       <use x=\"127.246094\" xlink:href=\"#DejaVuSans-54\"/>\r\n      </g>\r\n     </g>\r\n    </g>\r\n    <g id=\"ytick_378\">\r\n     <g id=\"line2d_383\">\r\n      <g>\r\n       <use style=\"stroke:#000000;stroke-width:0.8;\" x=\"33.2875\" xlink:href=\"#m7d443d45af\" y=\"96.084436\"/>\r\n      </g>\r\n     </g>\r\n     <g id=\"text_383\">\r\n      <!-- 377 -->\r\n      <g transform=\"translate(7.2 99.883655)scale(0.1 -0.1)\">\r\n       <use xlink:href=\"#DejaVuSans-51\"/>\r\n       <use x=\"63.623047\" xlink:href=\"#DejaVuSans-55\"/>\r\n       <use x=\"127.246094\" xlink:href=\"#DejaVuSans-55\"/>\r\n      </g>\r\n     </g>\r\n    </g>\r\n    <g id=\"ytick_379\">\r\n     <g id=\"line2d_384\">\r\n      <g>\r\n       <use style=\"stroke:#000000;stroke-width:0.8;\" x=\"33.2875\" xlink:href=\"#m7d443d45af\" y=\"95.734291\"/>\r\n      </g>\r\n     </g>\r\n     <g id=\"text_384\">\r\n      <!-- 378 -->\r\n      <g transform=\"translate(7.2 99.53351)scale(0.1 -0.1)\">\r\n       <use xlink:href=\"#DejaVuSans-51\"/>\r\n       <use x=\"63.623047\" xlink:href=\"#DejaVuSans-55\"/>\r\n       <use x=\"127.246094\" xlink:href=\"#DejaVuSans-56\"/>\r\n      </g>\r\n     </g>\r\n    </g>\r\n    <g id=\"ytick_380\">\r\n     <g id=\"line2d_385\">\r\n      <g>\r\n       <use style=\"stroke:#000000;stroke-width:0.8;\" x=\"33.2875\" xlink:href=\"#m7d443d45af\" y=\"95.384146\"/>\r\n      </g>\r\n     </g>\r\n     <g id=\"text_385\">\r\n      <!-- 379 -->\r\n      <g transform=\"translate(7.2 99.183365)scale(0.1 -0.1)\">\r\n       <use xlink:href=\"#DejaVuSans-51\"/>\r\n       <use x=\"63.623047\" xlink:href=\"#DejaVuSans-55\"/>\r\n       <use x=\"127.246094\" xlink:href=\"#DejaVuSans-57\"/>\r\n      </g>\r\n     </g>\r\n    </g>\r\n    <g id=\"ytick_381\">\r\n     <g id=\"line2d_386\">\r\n      <g>\r\n       <use style=\"stroke:#000000;stroke-width:0.8;\" x=\"33.2875\" xlink:href=\"#m7d443d45af\" y=\"95.034001\"/>\r\n      </g>\r\n     </g>\r\n     <g id=\"text_386\">\r\n      <!-- 380 -->\r\n      <g transform=\"translate(7.2 98.83322)scale(0.1 -0.1)\">\r\n       <use xlink:href=\"#DejaVuSans-51\"/>\r\n       <use x=\"63.623047\" xlink:href=\"#DejaVuSans-56\"/>\r\n       <use x=\"127.246094\" xlink:href=\"#DejaVuSans-48\"/>\r\n      </g>\r\n     </g>\r\n    </g>\r\n    <g id=\"ytick_382\">\r\n     <g id=\"line2d_387\">\r\n      <g>\r\n       <use style=\"stroke:#000000;stroke-width:0.8;\" x=\"33.2875\" xlink:href=\"#m7d443d45af\" y=\"94.683856\"/>\r\n      </g>\r\n     </g>\r\n     <g id=\"text_387\">\r\n      <!-- 381 -->\r\n      <g transform=\"translate(7.2 98.483075)scale(0.1 -0.1)\">\r\n       <use xlink:href=\"#DejaVuSans-51\"/>\r\n       <use x=\"63.623047\" xlink:href=\"#DejaVuSans-56\"/>\r\n       <use x=\"127.246094\" xlink:href=\"#DejaVuSans-49\"/>\r\n      </g>\r\n     </g>\r\n    </g>\r\n    <g id=\"ytick_383\">\r\n     <g id=\"line2d_388\">\r\n      <g>\r\n       <use style=\"stroke:#000000;stroke-width:0.8;\" x=\"33.2875\" xlink:href=\"#m7d443d45af\" y=\"94.333712\"/>\r\n      </g>\r\n     </g>\r\n     <g id=\"text_388\">\r\n      <!-- 382 -->\r\n      <g transform=\"translate(7.2 98.13293)scale(0.1 -0.1)\">\r\n       <use xlink:href=\"#DejaVuSans-51\"/>\r\n       <use x=\"63.623047\" xlink:href=\"#DejaVuSans-56\"/>\r\n       <use x=\"127.246094\" xlink:href=\"#DejaVuSans-50\"/>\r\n      </g>\r\n     </g>\r\n    </g>\r\n    <g id=\"ytick_384\">\r\n     <g id=\"line2d_389\">\r\n      <g>\r\n       <use style=\"stroke:#000000;stroke-width:0.8;\" x=\"33.2875\" xlink:href=\"#m7d443d45af\" y=\"93.983567\"/>\r\n      </g>\r\n     </g>\r\n     <g id=\"text_389\">\r\n      <!-- 383 -->\r\n      <g transform=\"translate(7.2 97.782785)scale(0.1 -0.1)\">\r\n       <use xlink:href=\"#DejaVuSans-51\"/>\r\n       <use x=\"63.623047\" xlink:href=\"#DejaVuSans-56\"/>\r\n       <use x=\"127.246094\" xlink:href=\"#DejaVuSans-51\"/>\r\n      </g>\r\n     </g>\r\n    </g>\r\n    <g id=\"ytick_385\">\r\n     <g id=\"line2d_390\">\r\n      <g>\r\n       <use style=\"stroke:#000000;stroke-width:0.8;\" x=\"33.2875\" xlink:href=\"#m7d443d45af\" y=\"93.633422\"/>\r\n      </g>\r\n     </g>\r\n     <g id=\"text_390\">\r\n      <!-- 384 -->\r\n      <g transform=\"translate(7.2 97.43264)scale(0.1 -0.1)\">\r\n       <use xlink:href=\"#DejaVuSans-51\"/>\r\n       <use x=\"63.623047\" xlink:href=\"#DejaVuSans-56\"/>\r\n       <use x=\"127.246094\" xlink:href=\"#DejaVuSans-52\"/>\r\n      </g>\r\n     </g>\r\n    </g>\r\n    <g id=\"ytick_386\">\r\n     <g id=\"line2d_391\">\r\n      <g>\r\n       <use style=\"stroke:#000000;stroke-width:0.8;\" x=\"33.2875\" xlink:href=\"#m7d443d45af\" y=\"93.283277\"/>\r\n      </g>\r\n     </g>\r\n     <g id=\"text_391\">\r\n      <!-- 385 -->\r\n      <g transform=\"translate(7.2 97.082495)scale(0.1 -0.1)\">\r\n       <use xlink:href=\"#DejaVuSans-51\"/>\r\n       <use x=\"63.623047\" xlink:href=\"#DejaVuSans-56\"/>\r\n       <use x=\"127.246094\" xlink:href=\"#DejaVuSans-53\"/>\r\n      </g>\r\n     </g>\r\n    </g>\r\n    <g id=\"ytick_387\">\r\n     <g id=\"line2d_392\">\r\n      <g>\r\n       <use style=\"stroke:#000000;stroke-width:0.8;\" x=\"33.2875\" xlink:href=\"#m7d443d45af\" y=\"92.933132\"/>\r\n      </g>\r\n     </g>\r\n     <g id=\"text_392\">\r\n      <!-- 386 -->\r\n      <g transform=\"translate(7.2 96.732351)scale(0.1 -0.1)\">\r\n       <use xlink:href=\"#DejaVuSans-51\"/>\r\n       <use x=\"63.623047\" xlink:href=\"#DejaVuSans-56\"/>\r\n       <use x=\"127.246094\" xlink:href=\"#DejaVuSans-54\"/>\r\n      </g>\r\n     </g>\r\n    </g>\r\n    <g id=\"ytick_388\">\r\n     <g id=\"line2d_393\">\r\n      <g>\r\n       <use style=\"stroke:#000000;stroke-width:0.8;\" x=\"33.2875\" xlink:href=\"#m7d443d45af\" y=\"92.582987\"/>\r\n      </g>\r\n     </g>\r\n     <g id=\"text_393\">\r\n      <!-- 387 -->\r\n      <g transform=\"translate(7.2 96.382206)scale(0.1 -0.1)\">\r\n       <use xlink:href=\"#DejaVuSans-51\"/>\r\n       <use x=\"63.623047\" xlink:href=\"#DejaVuSans-56\"/>\r\n       <use x=\"127.246094\" xlink:href=\"#DejaVuSans-55\"/>\r\n      </g>\r\n     </g>\r\n    </g>\r\n    <g id=\"ytick_389\">\r\n     <g id=\"line2d_394\">\r\n      <g>\r\n       <use style=\"stroke:#000000;stroke-width:0.8;\" x=\"33.2875\" xlink:href=\"#m7d443d45af\" y=\"92.232842\"/>\r\n      </g>\r\n     </g>\r\n     <g id=\"text_394\">\r\n      <!-- 388 -->\r\n      <g transform=\"translate(7.2 96.032061)scale(0.1 -0.1)\">\r\n       <use xlink:href=\"#DejaVuSans-51\"/>\r\n       <use x=\"63.623047\" xlink:href=\"#DejaVuSans-56\"/>\r\n       <use x=\"127.246094\" xlink:href=\"#DejaVuSans-56\"/>\r\n      </g>\r\n     </g>\r\n    </g>\r\n    <g id=\"ytick_390\">\r\n     <g id=\"line2d_395\">\r\n      <g>\r\n       <use style=\"stroke:#000000;stroke-width:0.8;\" x=\"33.2875\" xlink:href=\"#m7d443d45af\" y=\"91.882697\"/>\r\n      </g>\r\n     </g>\r\n     <g id=\"text_395\">\r\n      <!-- 389 -->\r\n      <g transform=\"translate(7.2 95.681916)scale(0.1 -0.1)\">\r\n       <use xlink:href=\"#DejaVuSans-51\"/>\r\n       <use x=\"63.623047\" xlink:href=\"#DejaVuSans-56\"/>\r\n       <use x=\"127.246094\" xlink:href=\"#DejaVuSans-57\"/>\r\n      </g>\r\n     </g>\r\n    </g>\r\n    <g id=\"ytick_391\">\r\n     <g id=\"line2d_396\">\r\n      <g>\r\n       <use style=\"stroke:#000000;stroke-width:0.8;\" x=\"33.2875\" xlink:href=\"#m7d443d45af\" y=\"91.532552\"/>\r\n      </g>\r\n     </g>\r\n     <g id=\"text_396\">\r\n      <!-- 390 -->\r\n      <g transform=\"translate(7.2 95.331771)scale(0.1 -0.1)\">\r\n       <use xlink:href=\"#DejaVuSans-51\"/>\r\n       <use x=\"63.623047\" xlink:href=\"#DejaVuSans-57\"/>\r\n       <use x=\"127.246094\" xlink:href=\"#DejaVuSans-48\"/>\r\n      </g>\r\n     </g>\r\n    </g>\r\n    <g id=\"ytick_392\">\r\n     <g id=\"line2d_397\">\r\n      <g>\r\n       <use style=\"stroke:#000000;stroke-width:0.8;\" x=\"33.2875\" xlink:href=\"#m7d443d45af\" y=\"91.182407\"/>\r\n      </g>\r\n     </g>\r\n     <g id=\"text_397\">\r\n      <!-- 391 -->\r\n      <g transform=\"translate(7.2 94.981626)scale(0.1 -0.1)\">\r\n       <use xlink:href=\"#DejaVuSans-51\"/>\r\n       <use x=\"63.623047\" xlink:href=\"#DejaVuSans-57\"/>\r\n       <use x=\"127.246094\" xlink:href=\"#DejaVuSans-49\"/>\r\n      </g>\r\n     </g>\r\n    </g>\r\n    <g id=\"ytick_393\">\r\n     <g id=\"line2d_398\">\r\n      <g>\r\n       <use style=\"stroke:#000000;stroke-width:0.8;\" x=\"33.2875\" xlink:href=\"#m7d443d45af\" y=\"90.832262\"/>\r\n      </g>\r\n     </g>\r\n     <g id=\"text_398\">\r\n      <!-- 392 -->\r\n      <g transform=\"translate(7.2 94.631481)scale(0.1 -0.1)\">\r\n       <use xlink:href=\"#DejaVuSans-51\"/>\r\n       <use x=\"63.623047\" xlink:href=\"#DejaVuSans-57\"/>\r\n       <use x=\"127.246094\" xlink:href=\"#DejaVuSans-50\"/>\r\n      </g>\r\n     </g>\r\n    </g>\r\n    <g id=\"ytick_394\">\r\n     <g id=\"line2d_399\">\r\n      <g>\r\n       <use style=\"stroke:#000000;stroke-width:0.8;\" x=\"33.2875\" xlink:href=\"#m7d443d45af\" y=\"90.482117\"/>\r\n      </g>\r\n     </g>\r\n     <g id=\"text_399\">\r\n      <!-- 393 -->\r\n      <g transform=\"translate(7.2 94.281336)scale(0.1 -0.1)\">\r\n       <use xlink:href=\"#DejaVuSans-51\"/>\r\n       <use x=\"63.623047\" xlink:href=\"#DejaVuSans-57\"/>\r\n       <use x=\"127.246094\" xlink:href=\"#DejaVuSans-51\"/>\r\n      </g>\r\n     </g>\r\n    </g>\r\n    <g id=\"ytick_395\">\r\n     <g id=\"line2d_400\">\r\n      <g>\r\n       <use style=\"stroke:#000000;stroke-width:0.8;\" x=\"33.2875\" xlink:href=\"#m7d443d45af\" y=\"90.131972\"/>\r\n      </g>\r\n     </g>\r\n     <g id=\"text_400\">\r\n      <!-- 394 -->\r\n      <g transform=\"translate(7.2 93.931191)scale(0.1 -0.1)\">\r\n       <use xlink:href=\"#DejaVuSans-51\"/>\r\n       <use x=\"63.623047\" xlink:href=\"#DejaVuSans-57\"/>\r\n       <use x=\"127.246094\" xlink:href=\"#DejaVuSans-52\"/>\r\n      </g>\r\n     </g>\r\n    </g>\r\n    <g id=\"ytick_396\">\r\n     <g id=\"line2d_401\">\r\n      <g>\r\n       <use style=\"stroke:#000000;stroke-width:0.8;\" x=\"33.2875\" xlink:href=\"#m7d443d45af\" y=\"89.781827\"/>\r\n      </g>\r\n     </g>\r\n     <g id=\"text_401\">\r\n      <!-- 395 -->\r\n      <g transform=\"translate(7.2 93.581046)scale(0.1 -0.1)\">\r\n       <use xlink:href=\"#DejaVuSans-51\"/>\r\n       <use x=\"63.623047\" xlink:href=\"#DejaVuSans-57\"/>\r\n       <use x=\"127.246094\" xlink:href=\"#DejaVuSans-53\"/>\r\n      </g>\r\n     </g>\r\n    </g>\r\n    <g id=\"ytick_397\">\r\n     <g id=\"line2d_402\">\r\n      <g>\r\n       <use style=\"stroke:#000000;stroke-width:0.8;\" x=\"33.2875\" xlink:href=\"#m7d443d45af\" y=\"89.431683\"/>\r\n      </g>\r\n     </g>\r\n     <g id=\"text_402\">\r\n      <!-- 396 -->\r\n      <g transform=\"translate(7.2 93.230901)scale(0.1 -0.1)\">\r\n       <use xlink:href=\"#DejaVuSans-51\"/>\r\n       <use x=\"63.623047\" xlink:href=\"#DejaVuSans-57\"/>\r\n       <use x=\"127.246094\" xlink:href=\"#DejaVuSans-54\"/>\r\n      </g>\r\n     </g>\r\n    </g>\r\n    <g id=\"ytick_398\">\r\n     <g id=\"line2d_403\">\r\n      <g>\r\n       <use style=\"stroke:#000000;stroke-width:0.8;\" x=\"33.2875\" xlink:href=\"#m7d443d45af\" y=\"89.081538\"/>\r\n      </g>\r\n     </g>\r\n     <g id=\"text_403\">\r\n      <!-- 397 -->\r\n      <g transform=\"translate(7.2 92.880756)scale(0.1 -0.1)\">\r\n       <use xlink:href=\"#DejaVuSans-51\"/>\r\n       <use x=\"63.623047\" xlink:href=\"#DejaVuSans-57\"/>\r\n       <use x=\"127.246094\" xlink:href=\"#DejaVuSans-55\"/>\r\n      </g>\r\n     </g>\r\n    </g>\r\n    <g id=\"ytick_399\">\r\n     <g id=\"line2d_404\">\r\n      <g>\r\n       <use style=\"stroke:#000000;stroke-width:0.8;\" x=\"33.2875\" xlink:href=\"#m7d443d45af\" y=\"88.731393\"/>\r\n      </g>\r\n     </g>\r\n     <g id=\"text_404\">\r\n      <!-- 398 -->\r\n      <g transform=\"translate(7.2 92.530611)scale(0.1 -0.1)\">\r\n       <use xlink:href=\"#DejaVuSans-51\"/>\r\n       <use x=\"63.623047\" xlink:href=\"#DejaVuSans-57\"/>\r\n       <use x=\"127.246094\" xlink:href=\"#DejaVuSans-56\"/>\r\n      </g>\r\n     </g>\r\n    </g>\r\n    <g id=\"ytick_400\">\r\n     <g id=\"line2d_405\">\r\n      <g>\r\n       <use style=\"stroke:#000000;stroke-width:0.8;\" x=\"33.2875\" xlink:href=\"#m7d443d45af\" y=\"88.381248\"/>\r\n      </g>\r\n     </g>\r\n     <g id=\"text_405\">\r\n      <!-- 399 -->\r\n      <g transform=\"translate(7.2 92.180466)scale(0.1 -0.1)\">\r\n       <use xlink:href=\"#DejaVuSans-51\"/>\r\n       <use x=\"63.623047\" xlink:href=\"#DejaVuSans-57\"/>\r\n       <use x=\"127.246094\" xlink:href=\"#DejaVuSans-57\"/>\r\n      </g>\r\n     </g>\r\n    </g>\r\n    <g id=\"ytick_401\">\r\n     <g id=\"line2d_406\">\r\n      <g>\r\n       <use style=\"stroke:#000000;stroke-width:0.8;\" x=\"33.2875\" xlink:href=\"#m7d443d45af\" y=\"88.031103\"/>\r\n      </g>\r\n     </g>\r\n     <g id=\"text_406\">\r\n      <!-- 400 -->\r\n      <g transform=\"translate(7.2 91.830322)scale(0.1 -0.1)\">\r\n       <use xlink:href=\"#DejaVuSans-52\"/>\r\n       <use x=\"63.623047\" xlink:href=\"#DejaVuSans-48\"/>\r\n       <use x=\"127.246094\" xlink:href=\"#DejaVuSans-48\"/>\r\n      </g>\r\n     </g>\r\n    </g>\r\n    <g id=\"ytick_402\">\r\n     <g id=\"line2d_407\">\r\n      <g>\r\n       <use style=\"stroke:#000000;stroke-width:0.8;\" x=\"33.2875\" xlink:href=\"#m7d443d45af\" y=\"87.680958\"/>\r\n      </g>\r\n     </g>\r\n     <g id=\"text_407\">\r\n      <!-- 401 -->\r\n      <g transform=\"translate(7.2 91.480177)scale(0.1 -0.1)\">\r\n       <use xlink:href=\"#DejaVuSans-52\"/>\r\n       <use x=\"63.623047\" xlink:href=\"#DejaVuSans-48\"/>\r\n       <use x=\"127.246094\" xlink:href=\"#DejaVuSans-49\"/>\r\n      </g>\r\n     </g>\r\n    </g>\r\n    <g id=\"ytick_403\">\r\n     <g id=\"line2d_408\">\r\n      <g>\r\n       <use style=\"stroke:#000000;stroke-width:0.8;\" x=\"33.2875\" xlink:href=\"#m7d443d45af\" y=\"87.330813\"/>\r\n      </g>\r\n     </g>\r\n     <g id=\"text_408\">\r\n      <!-- 402 -->\r\n      <g transform=\"translate(7.2 91.130032)scale(0.1 -0.1)\">\r\n       <use xlink:href=\"#DejaVuSans-52\"/>\r\n       <use x=\"63.623047\" xlink:href=\"#DejaVuSans-48\"/>\r\n       <use x=\"127.246094\" xlink:href=\"#DejaVuSans-50\"/>\r\n      </g>\r\n     </g>\r\n    </g>\r\n    <g id=\"ytick_404\">\r\n     <g id=\"line2d_409\">\r\n      <g>\r\n       <use style=\"stroke:#000000;stroke-width:0.8;\" x=\"33.2875\" xlink:href=\"#m7d443d45af\" y=\"86.980668\"/>\r\n      </g>\r\n     </g>\r\n     <g id=\"text_409\">\r\n      <!-- 403 -->\r\n      <g transform=\"translate(7.2 90.779887)scale(0.1 -0.1)\">\r\n       <use xlink:href=\"#DejaVuSans-52\"/>\r\n       <use x=\"63.623047\" xlink:href=\"#DejaVuSans-48\"/>\r\n       <use x=\"127.246094\" xlink:href=\"#DejaVuSans-51\"/>\r\n      </g>\r\n     </g>\r\n    </g>\r\n    <g id=\"ytick_405\">\r\n     <g id=\"line2d_410\">\r\n      <g>\r\n       <use style=\"stroke:#000000;stroke-width:0.8;\" x=\"33.2875\" xlink:href=\"#m7d443d45af\" y=\"86.630523\"/>\r\n      </g>\r\n     </g>\r\n     <g id=\"text_410\">\r\n      <!-- 404 -->\r\n      <g transform=\"translate(7.2 90.429742)scale(0.1 -0.1)\">\r\n       <use xlink:href=\"#DejaVuSans-52\"/>\r\n       <use x=\"63.623047\" xlink:href=\"#DejaVuSans-48\"/>\r\n       <use x=\"127.246094\" xlink:href=\"#DejaVuSans-52\"/>\r\n      </g>\r\n     </g>\r\n    </g>\r\n    <g id=\"ytick_406\">\r\n     <g id=\"line2d_411\">\r\n      <g>\r\n       <use style=\"stroke:#000000;stroke-width:0.8;\" x=\"33.2875\" xlink:href=\"#m7d443d45af\" y=\"86.280378\"/>\r\n      </g>\r\n     </g>\r\n     <g id=\"text_411\">\r\n      <!-- 405 -->\r\n      <g transform=\"translate(7.2 90.079597)scale(0.1 -0.1)\">\r\n       <use xlink:href=\"#DejaVuSans-52\"/>\r\n       <use x=\"63.623047\" xlink:href=\"#DejaVuSans-48\"/>\r\n       <use x=\"127.246094\" xlink:href=\"#DejaVuSans-53\"/>\r\n      </g>\r\n     </g>\r\n    </g>\r\n    <g id=\"ytick_407\">\r\n     <g id=\"line2d_412\">\r\n      <g>\r\n       <use style=\"stroke:#000000;stroke-width:0.8;\" x=\"33.2875\" xlink:href=\"#m7d443d45af\" y=\"85.930233\"/>\r\n      </g>\r\n     </g>\r\n     <g id=\"text_412\">\r\n      <!-- 406 -->\r\n      <g transform=\"translate(7.2 89.729452)scale(0.1 -0.1)\">\r\n       <use xlink:href=\"#DejaVuSans-52\"/>\r\n       <use x=\"63.623047\" xlink:href=\"#DejaVuSans-48\"/>\r\n       <use x=\"127.246094\" xlink:href=\"#DejaVuSans-54\"/>\r\n      </g>\r\n     </g>\r\n    </g>\r\n    <g id=\"ytick_408\">\r\n     <g id=\"line2d_413\">\r\n      <g>\r\n       <use style=\"stroke:#000000;stroke-width:0.8;\" x=\"33.2875\" xlink:href=\"#m7d443d45af\" y=\"85.580088\"/>\r\n      </g>\r\n     </g>\r\n     <g id=\"text_413\">\r\n      <!-- 407 -->\r\n      <g transform=\"translate(7.2 89.379307)scale(0.1 -0.1)\">\r\n       <use xlink:href=\"#DejaVuSans-52\"/>\r\n       <use x=\"63.623047\" xlink:href=\"#DejaVuSans-48\"/>\r\n       <use x=\"127.246094\" xlink:href=\"#DejaVuSans-55\"/>\r\n      </g>\r\n     </g>\r\n    </g>\r\n    <g id=\"ytick_409\">\r\n     <g id=\"line2d_414\">\r\n      <g>\r\n       <use style=\"stroke:#000000;stroke-width:0.8;\" x=\"33.2875\" xlink:href=\"#m7d443d45af\" y=\"85.229943\"/>\r\n      </g>\r\n     </g>\r\n     <g id=\"text_414\">\r\n      <!-- 408 -->\r\n      <g transform=\"translate(7.2 89.029162)scale(0.1 -0.1)\">\r\n       <use xlink:href=\"#DejaVuSans-52\"/>\r\n       <use x=\"63.623047\" xlink:href=\"#DejaVuSans-48\"/>\r\n       <use x=\"127.246094\" xlink:href=\"#DejaVuSans-56\"/>\r\n      </g>\r\n     </g>\r\n    </g>\r\n    <g id=\"ytick_410\">\r\n     <g id=\"line2d_415\">\r\n      <g>\r\n       <use style=\"stroke:#000000;stroke-width:0.8;\" x=\"33.2875\" xlink:href=\"#m7d443d45af\" y=\"84.879798\"/>\r\n      </g>\r\n     </g>\r\n     <g id=\"text_415\">\r\n      <!-- 409 -->\r\n      <g transform=\"translate(7.2 88.679017)scale(0.1 -0.1)\">\r\n       <use xlink:href=\"#DejaVuSans-52\"/>\r\n       <use x=\"63.623047\" xlink:href=\"#DejaVuSans-48\"/>\r\n       <use x=\"127.246094\" xlink:href=\"#DejaVuSans-57\"/>\r\n      </g>\r\n     </g>\r\n    </g>\r\n    <g id=\"ytick_411\">\r\n     <g id=\"line2d_416\">\r\n      <g>\r\n       <use style=\"stroke:#000000;stroke-width:0.8;\" x=\"33.2875\" xlink:href=\"#m7d443d45af\" y=\"84.529654\"/>\r\n      </g>\r\n     </g>\r\n     <g id=\"text_416\">\r\n      <!-- 410 -->\r\n      <g transform=\"translate(7.2 88.328872)scale(0.1 -0.1)\">\r\n       <use xlink:href=\"#DejaVuSans-52\"/>\r\n       <use x=\"63.623047\" xlink:href=\"#DejaVuSans-49\"/>\r\n       <use x=\"127.246094\" xlink:href=\"#DejaVuSans-48\"/>\r\n      </g>\r\n     </g>\r\n    </g>\r\n    <g id=\"ytick_412\">\r\n     <g id=\"line2d_417\">\r\n      <g>\r\n       <use style=\"stroke:#000000;stroke-width:0.8;\" x=\"33.2875\" xlink:href=\"#m7d443d45af\" y=\"84.179509\"/>\r\n      </g>\r\n     </g>\r\n     <g id=\"text_417\">\r\n      <!-- 411 -->\r\n      <g transform=\"translate(7.2 87.978727)scale(0.1 -0.1)\">\r\n       <use xlink:href=\"#DejaVuSans-52\"/>\r\n       <use x=\"63.623047\" xlink:href=\"#DejaVuSans-49\"/>\r\n       <use x=\"127.246094\" xlink:href=\"#DejaVuSans-49\"/>\r\n      </g>\r\n     </g>\r\n    </g>\r\n    <g id=\"ytick_413\">\r\n     <g id=\"line2d_418\">\r\n      <g>\r\n       <use style=\"stroke:#000000;stroke-width:0.8;\" x=\"33.2875\" xlink:href=\"#m7d443d45af\" y=\"83.829364\"/>\r\n      </g>\r\n     </g>\r\n     <g id=\"text_418\">\r\n      <!-- 412 -->\r\n      <g transform=\"translate(7.2 87.628582)scale(0.1 -0.1)\">\r\n       <use xlink:href=\"#DejaVuSans-52\"/>\r\n       <use x=\"63.623047\" xlink:href=\"#DejaVuSans-49\"/>\r\n       <use x=\"127.246094\" xlink:href=\"#DejaVuSans-50\"/>\r\n      </g>\r\n     </g>\r\n    </g>\r\n    <g id=\"ytick_414\">\r\n     <g id=\"line2d_419\">\r\n      <g>\r\n       <use style=\"stroke:#000000;stroke-width:0.8;\" x=\"33.2875\" xlink:href=\"#m7d443d45af\" y=\"83.479219\"/>\r\n      </g>\r\n     </g>\r\n     <g id=\"text_419\">\r\n      <!-- 413 -->\r\n      <g transform=\"translate(7.2 87.278437)scale(0.1 -0.1)\">\r\n       <use xlink:href=\"#DejaVuSans-52\"/>\r\n       <use x=\"63.623047\" xlink:href=\"#DejaVuSans-49\"/>\r\n       <use x=\"127.246094\" xlink:href=\"#DejaVuSans-51\"/>\r\n      </g>\r\n     </g>\r\n    </g>\r\n    <g id=\"ytick_415\">\r\n     <g id=\"line2d_420\">\r\n      <g>\r\n       <use style=\"stroke:#000000;stroke-width:0.8;\" x=\"33.2875\" xlink:href=\"#m7d443d45af\" y=\"83.129074\"/>\r\n      </g>\r\n     </g>\r\n     <g id=\"text_420\">\r\n      <!-- 414 -->\r\n      <g transform=\"translate(7.2 86.928293)scale(0.1 -0.1)\">\r\n       <use xlink:href=\"#DejaVuSans-52\"/>\r\n       <use x=\"63.623047\" xlink:href=\"#DejaVuSans-49\"/>\r\n       <use x=\"127.246094\" xlink:href=\"#DejaVuSans-52\"/>\r\n      </g>\r\n     </g>\r\n    </g>\r\n    <g id=\"ytick_416\">\r\n     <g id=\"line2d_421\">\r\n      <g>\r\n       <use style=\"stroke:#000000;stroke-width:0.8;\" x=\"33.2875\" xlink:href=\"#m7d443d45af\" y=\"82.778929\"/>\r\n      </g>\r\n     </g>\r\n     <g id=\"text_421\">\r\n      <!-- 415 -->\r\n      <g transform=\"translate(7.2 86.578148)scale(0.1 -0.1)\">\r\n       <use xlink:href=\"#DejaVuSans-52\"/>\r\n       <use x=\"63.623047\" xlink:href=\"#DejaVuSans-49\"/>\r\n       <use x=\"127.246094\" xlink:href=\"#DejaVuSans-53\"/>\r\n      </g>\r\n     </g>\r\n    </g>\r\n    <g id=\"ytick_417\">\r\n     <g id=\"line2d_422\">\r\n      <g>\r\n       <use style=\"stroke:#000000;stroke-width:0.8;\" x=\"33.2875\" xlink:href=\"#m7d443d45af\" y=\"82.428784\"/>\r\n      </g>\r\n     </g>\r\n     <g id=\"text_422\">\r\n      <!-- 416 -->\r\n      <g transform=\"translate(7.2 86.228003)scale(0.1 -0.1)\">\r\n       <use xlink:href=\"#DejaVuSans-52\"/>\r\n       <use x=\"63.623047\" xlink:href=\"#DejaVuSans-49\"/>\r\n       <use x=\"127.246094\" xlink:href=\"#DejaVuSans-54\"/>\r\n      </g>\r\n     </g>\r\n    </g>\r\n    <g id=\"ytick_418\">\r\n     <g id=\"line2d_423\">\r\n      <g>\r\n       <use style=\"stroke:#000000;stroke-width:0.8;\" x=\"33.2875\" xlink:href=\"#m7d443d45af\" y=\"82.078639\"/>\r\n      </g>\r\n     </g>\r\n     <g id=\"text_423\">\r\n      <!-- 417 -->\r\n      <g transform=\"translate(7.2 85.877858)scale(0.1 -0.1)\">\r\n       <use xlink:href=\"#DejaVuSans-52\"/>\r\n       <use x=\"63.623047\" xlink:href=\"#DejaVuSans-49\"/>\r\n       <use x=\"127.246094\" xlink:href=\"#DejaVuSans-55\"/>\r\n      </g>\r\n     </g>\r\n    </g>\r\n    <g id=\"ytick_419\">\r\n     <g id=\"line2d_424\">\r\n      <g>\r\n       <use style=\"stroke:#000000;stroke-width:0.8;\" x=\"33.2875\" xlink:href=\"#m7d443d45af\" y=\"81.728494\"/>\r\n      </g>\r\n     </g>\r\n     <g id=\"text_424\">\r\n      <!-- 418 -->\r\n      <g transform=\"translate(7.2 85.527713)scale(0.1 -0.1)\">\r\n       <use xlink:href=\"#DejaVuSans-52\"/>\r\n       <use x=\"63.623047\" xlink:href=\"#DejaVuSans-49\"/>\r\n       <use x=\"127.246094\" xlink:href=\"#DejaVuSans-56\"/>\r\n      </g>\r\n     </g>\r\n    </g>\r\n    <g id=\"ytick_420\">\r\n     <g id=\"line2d_425\">\r\n      <g>\r\n       <use style=\"stroke:#000000;stroke-width:0.8;\" x=\"33.2875\" xlink:href=\"#m7d443d45af\" y=\"81.378349\"/>\r\n      </g>\r\n     </g>\r\n     <g id=\"text_425\">\r\n      <!-- 419 -->\r\n      <g transform=\"translate(7.2 85.177568)scale(0.1 -0.1)\">\r\n       <use xlink:href=\"#DejaVuSans-52\"/>\r\n       <use x=\"63.623047\" xlink:href=\"#DejaVuSans-49\"/>\r\n       <use x=\"127.246094\" xlink:href=\"#DejaVuSans-57\"/>\r\n      </g>\r\n     </g>\r\n    </g>\r\n    <g id=\"ytick_421\">\r\n     <g id=\"line2d_426\">\r\n      <g>\r\n       <use style=\"stroke:#000000;stroke-width:0.8;\" x=\"33.2875\" xlink:href=\"#m7d443d45af\" y=\"81.028204\"/>\r\n      </g>\r\n     </g>\r\n     <g id=\"text_426\">\r\n      <!-- 420 -->\r\n      <g transform=\"translate(7.2 84.827423)scale(0.1 -0.1)\">\r\n       <use xlink:href=\"#DejaVuSans-52\"/>\r\n       <use x=\"63.623047\" xlink:href=\"#DejaVuSans-50\"/>\r\n       <use x=\"127.246094\" xlink:href=\"#DejaVuSans-48\"/>\r\n      </g>\r\n     </g>\r\n    </g>\r\n    <g id=\"ytick_422\">\r\n     <g id=\"line2d_427\">\r\n      <g>\r\n       <use style=\"stroke:#000000;stroke-width:0.8;\" x=\"33.2875\" xlink:href=\"#m7d443d45af\" y=\"80.678059\"/>\r\n      </g>\r\n     </g>\r\n     <g id=\"text_427\">\r\n      <!-- 421 -->\r\n      <g transform=\"translate(7.2 84.477278)scale(0.1 -0.1)\">\r\n       <use xlink:href=\"#DejaVuSans-52\"/>\r\n       <use x=\"63.623047\" xlink:href=\"#DejaVuSans-50\"/>\r\n       <use x=\"127.246094\" xlink:href=\"#DejaVuSans-49\"/>\r\n      </g>\r\n     </g>\r\n    </g>\r\n    <g id=\"ytick_423\">\r\n     <g id=\"line2d_428\">\r\n      <g>\r\n       <use style=\"stroke:#000000;stroke-width:0.8;\" x=\"33.2875\" xlink:href=\"#m7d443d45af\" y=\"80.327914\"/>\r\n      </g>\r\n     </g>\r\n     <g id=\"text_428\">\r\n      <!-- 422 -->\r\n      <g transform=\"translate(7.2 84.127133)scale(0.1 -0.1)\">\r\n       <use xlink:href=\"#DejaVuSans-52\"/>\r\n       <use x=\"63.623047\" xlink:href=\"#DejaVuSans-50\"/>\r\n       <use x=\"127.246094\" xlink:href=\"#DejaVuSans-50\"/>\r\n      </g>\r\n     </g>\r\n    </g>\r\n    <g id=\"ytick_424\">\r\n     <g id=\"line2d_429\">\r\n      <g>\r\n       <use style=\"stroke:#000000;stroke-width:0.8;\" x=\"33.2875\" xlink:href=\"#m7d443d45af\" y=\"79.977769\"/>\r\n      </g>\r\n     </g>\r\n     <g id=\"text_429\">\r\n      <!-- 423 -->\r\n      <g transform=\"translate(7.2 83.776988)scale(0.1 -0.1)\">\r\n       <use xlink:href=\"#DejaVuSans-52\"/>\r\n       <use x=\"63.623047\" xlink:href=\"#DejaVuSans-50\"/>\r\n       <use x=\"127.246094\" xlink:href=\"#DejaVuSans-51\"/>\r\n      </g>\r\n     </g>\r\n    </g>\r\n    <g id=\"ytick_425\">\r\n     <g id=\"line2d_430\">\r\n      <g>\r\n       <use style=\"stroke:#000000;stroke-width:0.8;\" x=\"33.2875\" xlink:href=\"#m7d443d45af\" y=\"79.627625\"/>\r\n      </g>\r\n     </g>\r\n     <g id=\"text_430\">\r\n      <!-- 424 -->\r\n      <g transform=\"translate(7.2 83.426843)scale(0.1 -0.1)\">\r\n       <use xlink:href=\"#DejaVuSans-52\"/>\r\n       <use x=\"63.623047\" xlink:href=\"#DejaVuSans-50\"/>\r\n       <use x=\"127.246094\" xlink:href=\"#DejaVuSans-52\"/>\r\n      </g>\r\n     </g>\r\n    </g>\r\n    <g id=\"ytick_426\">\r\n     <g id=\"line2d_431\">\r\n      <g>\r\n       <use style=\"stroke:#000000;stroke-width:0.8;\" x=\"33.2875\" xlink:href=\"#m7d443d45af\" y=\"79.27748\"/>\r\n      </g>\r\n     </g>\r\n     <g id=\"text_431\">\r\n      <!-- 425 -->\r\n      <g transform=\"translate(7.2 83.076698)scale(0.1 -0.1)\">\r\n       <use xlink:href=\"#DejaVuSans-52\"/>\r\n       <use x=\"63.623047\" xlink:href=\"#DejaVuSans-50\"/>\r\n       <use x=\"127.246094\" xlink:href=\"#DejaVuSans-53\"/>\r\n      </g>\r\n     </g>\r\n    </g>\r\n    <g id=\"ytick_427\">\r\n     <g id=\"line2d_432\">\r\n      <g>\r\n       <use style=\"stroke:#000000;stroke-width:0.8;\" x=\"33.2875\" xlink:href=\"#m7d443d45af\" y=\"78.927335\"/>\r\n      </g>\r\n     </g>\r\n     <g id=\"text_432\">\r\n      <!-- 426 -->\r\n      <g transform=\"translate(7.2 82.726553)scale(0.1 -0.1)\">\r\n       <use xlink:href=\"#DejaVuSans-52\"/>\r\n       <use x=\"63.623047\" xlink:href=\"#DejaVuSans-50\"/>\r\n       <use x=\"127.246094\" xlink:href=\"#DejaVuSans-54\"/>\r\n      </g>\r\n     </g>\r\n    </g>\r\n    <g id=\"ytick_428\">\r\n     <g id=\"line2d_433\">\r\n      <g>\r\n       <use style=\"stroke:#000000;stroke-width:0.8;\" x=\"33.2875\" xlink:href=\"#m7d443d45af\" y=\"78.57719\"/>\r\n      </g>\r\n     </g>\r\n     <g id=\"text_433\">\r\n      <!-- 427 -->\r\n      <g transform=\"translate(7.2 82.376409)scale(0.1 -0.1)\">\r\n       <use xlink:href=\"#DejaVuSans-52\"/>\r\n       <use x=\"63.623047\" xlink:href=\"#DejaVuSans-50\"/>\r\n       <use x=\"127.246094\" xlink:href=\"#DejaVuSans-55\"/>\r\n      </g>\r\n     </g>\r\n    </g>\r\n    <g id=\"ytick_429\">\r\n     <g id=\"line2d_434\">\r\n      <g>\r\n       <use style=\"stroke:#000000;stroke-width:0.8;\" x=\"33.2875\" xlink:href=\"#m7d443d45af\" y=\"78.227045\"/>\r\n      </g>\r\n     </g>\r\n     <g id=\"text_434\">\r\n      <!-- 428 -->\r\n      <g transform=\"translate(7.2 82.026264)scale(0.1 -0.1)\">\r\n       <use xlink:href=\"#DejaVuSans-52\"/>\r\n       <use x=\"63.623047\" xlink:href=\"#DejaVuSans-50\"/>\r\n       <use x=\"127.246094\" xlink:href=\"#DejaVuSans-56\"/>\r\n      </g>\r\n     </g>\r\n    </g>\r\n    <g id=\"ytick_430\">\r\n     <g id=\"line2d_435\">\r\n      <g>\r\n       <use style=\"stroke:#000000;stroke-width:0.8;\" x=\"33.2875\" xlink:href=\"#m7d443d45af\" y=\"77.8769\"/>\r\n      </g>\r\n     </g>\r\n     <g id=\"text_435\">\r\n      <!-- 429 -->\r\n      <g transform=\"translate(7.2 81.676119)scale(0.1 -0.1)\">\r\n       <use xlink:href=\"#DejaVuSans-52\"/>\r\n       <use x=\"63.623047\" xlink:href=\"#DejaVuSans-50\"/>\r\n       <use x=\"127.246094\" xlink:href=\"#DejaVuSans-57\"/>\r\n      </g>\r\n     </g>\r\n    </g>\r\n    <g id=\"ytick_431\">\r\n     <g id=\"line2d_436\">\r\n      <g>\r\n       <use style=\"stroke:#000000;stroke-width:0.8;\" x=\"33.2875\" xlink:href=\"#m7d443d45af\" y=\"77.526755\"/>\r\n      </g>\r\n     </g>\r\n     <g id=\"text_436\">\r\n      <!-- 430 -->\r\n      <g transform=\"translate(7.2 81.325974)scale(0.1 -0.1)\">\r\n       <use xlink:href=\"#DejaVuSans-52\"/>\r\n       <use x=\"63.623047\" xlink:href=\"#DejaVuSans-51\"/>\r\n       <use x=\"127.246094\" xlink:href=\"#DejaVuSans-48\"/>\r\n      </g>\r\n     </g>\r\n    </g>\r\n    <g id=\"ytick_432\">\r\n     <g id=\"line2d_437\">\r\n      <g>\r\n       <use style=\"stroke:#000000;stroke-width:0.8;\" x=\"33.2875\" xlink:href=\"#m7d443d45af\" y=\"77.17661\"/>\r\n      </g>\r\n     </g>\r\n     <g id=\"text_437\">\r\n      <!-- 431 -->\r\n      <g transform=\"translate(7.2 80.975829)scale(0.1 -0.1)\">\r\n       <use xlink:href=\"#DejaVuSans-52\"/>\r\n       <use x=\"63.623047\" xlink:href=\"#DejaVuSans-51\"/>\r\n       <use x=\"127.246094\" xlink:href=\"#DejaVuSans-49\"/>\r\n      </g>\r\n     </g>\r\n    </g>\r\n    <g id=\"ytick_433\">\r\n     <g id=\"line2d_438\">\r\n      <g>\r\n       <use style=\"stroke:#000000;stroke-width:0.8;\" x=\"33.2875\" xlink:href=\"#m7d443d45af\" y=\"76.826465\"/>\r\n      </g>\r\n     </g>\r\n     <g id=\"text_438\">\r\n      <!-- 432 -->\r\n      <g transform=\"translate(7.2 80.625684)scale(0.1 -0.1)\">\r\n       <use xlink:href=\"#DejaVuSans-52\"/>\r\n       <use x=\"63.623047\" xlink:href=\"#DejaVuSans-51\"/>\r\n       <use x=\"127.246094\" xlink:href=\"#DejaVuSans-50\"/>\r\n      </g>\r\n     </g>\r\n    </g>\r\n    <g id=\"ytick_434\">\r\n     <g id=\"line2d_439\">\r\n      <g>\r\n       <use style=\"stroke:#000000;stroke-width:0.8;\" x=\"33.2875\" xlink:href=\"#m7d443d45af\" y=\"76.47632\"/>\r\n      </g>\r\n     </g>\r\n     <g id=\"text_439\">\r\n      <!-- 433 -->\r\n      <g transform=\"translate(7.2 80.275539)scale(0.1 -0.1)\">\r\n       <use xlink:href=\"#DejaVuSans-52\"/>\r\n       <use x=\"63.623047\" xlink:href=\"#DejaVuSans-51\"/>\r\n       <use x=\"127.246094\" xlink:href=\"#DejaVuSans-51\"/>\r\n      </g>\r\n     </g>\r\n    </g>\r\n    <g id=\"ytick_435\">\r\n     <g id=\"line2d_440\">\r\n      <g>\r\n       <use style=\"stroke:#000000;stroke-width:0.8;\" x=\"33.2875\" xlink:href=\"#m7d443d45af\" y=\"76.126175\"/>\r\n      </g>\r\n     </g>\r\n     <g id=\"text_440\">\r\n      <!-- 434 -->\r\n      <g transform=\"translate(7.2 79.925394)scale(0.1 -0.1)\">\r\n       <use xlink:href=\"#DejaVuSans-52\"/>\r\n       <use x=\"63.623047\" xlink:href=\"#DejaVuSans-51\"/>\r\n       <use x=\"127.246094\" xlink:href=\"#DejaVuSans-52\"/>\r\n      </g>\r\n     </g>\r\n    </g>\r\n    <g id=\"ytick_436\">\r\n     <g id=\"line2d_441\">\r\n      <g>\r\n       <use style=\"stroke:#000000;stroke-width:0.8;\" x=\"33.2875\" xlink:href=\"#m7d443d45af\" y=\"75.77603\"/>\r\n      </g>\r\n     </g>\r\n     <g id=\"text_441\">\r\n      <!-- 435 -->\r\n      <g transform=\"translate(7.2 79.575249)scale(0.1 -0.1)\">\r\n       <use xlink:href=\"#DejaVuSans-52\"/>\r\n       <use x=\"63.623047\" xlink:href=\"#DejaVuSans-51\"/>\r\n       <use x=\"127.246094\" xlink:href=\"#DejaVuSans-53\"/>\r\n      </g>\r\n     </g>\r\n    </g>\r\n    <g id=\"ytick_437\">\r\n     <g id=\"line2d_442\">\r\n      <g>\r\n       <use style=\"stroke:#000000;stroke-width:0.8;\" x=\"33.2875\" xlink:href=\"#m7d443d45af\" y=\"75.425885\"/>\r\n      </g>\r\n     </g>\r\n     <g id=\"text_442\">\r\n      <!-- 436 -->\r\n      <g transform=\"translate(7.2 79.225104)scale(0.1 -0.1)\">\r\n       <use xlink:href=\"#DejaVuSans-52\"/>\r\n       <use x=\"63.623047\" xlink:href=\"#DejaVuSans-51\"/>\r\n       <use x=\"127.246094\" xlink:href=\"#DejaVuSans-54\"/>\r\n      </g>\r\n     </g>\r\n    </g>\r\n    <g id=\"ytick_438\">\r\n     <g id=\"line2d_443\">\r\n      <g>\r\n       <use style=\"stroke:#000000;stroke-width:0.8;\" x=\"33.2875\" xlink:href=\"#m7d443d45af\" y=\"75.07574\"/>\r\n      </g>\r\n     </g>\r\n     <g id=\"text_443\">\r\n      <!-- 437 -->\r\n      <g transform=\"translate(7.2 78.874959)scale(0.1 -0.1)\">\r\n       <use xlink:href=\"#DejaVuSans-52\"/>\r\n       <use x=\"63.623047\" xlink:href=\"#DejaVuSans-51\"/>\r\n       <use x=\"127.246094\" xlink:href=\"#DejaVuSans-55\"/>\r\n      </g>\r\n     </g>\r\n    </g>\r\n    <g id=\"ytick_439\">\r\n     <g id=\"line2d_444\">\r\n      <g>\r\n       <use style=\"stroke:#000000;stroke-width:0.8;\" x=\"33.2875\" xlink:href=\"#m7d443d45af\" y=\"74.725596\"/>\r\n      </g>\r\n     </g>\r\n     <g id=\"text_444\">\r\n      <!-- 438 -->\r\n      <g transform=\"translate(7.2 78.524814)scale(0.1 -0.1)\">\r\n       <use xlink:href=\"#DejaVuSans-52\"/>\r\n       <use x=\"63.623047\" xlink:href=\"#DejaVuSans-51\"/>\r\n       <use x=\"127.246094\" xlink:href=\"#DejaVuSans-56\"/>\r\n      </g>\r\n     </g>\r\n    </g>\r\n    <g id=\"ytick_440\">\r\n     <g id=\"line2d_445\">\r\n      <g>\r\n       <use style=\"stroke:#000000;stroke-width:0.8;\" x=\"33.2875\" xlink:href=\"#m7d443d45af\" y=\"74.375451\"/>\r\n      </g>\r\n     </g>\r\n     <g id=\"text_445\">\r\n      <!-- 439 -->\r\n      <g transform=\"translate(7.2 78.174669)scale(0.1 -0.1)\">\r\n       <use xlink:href=\"#DejaVuSans-52\"/>\r\n       <use x=\"63.623047\" xlink:href=\"#DejaVuSans-51\"/>\r\n       <use x=\"127.246094\" xlink:href=\"#DejaVuSans-57\"/>\r\n      </g>\r\n     </g>\r\n    </g>\r\n    <g id=\"ytick_441\">\r\n     <g id=\"line2d_446\">\r\n      <g>\r\n       <use style=\"stroke:#000000;stroke-width:0.8;\" x=\"33.2875\" xlink:href=\"#m7d443d45af\" y=\"74.025306\"/>\r\n      </g>\r\n     </g>\r\n     <g id=\"text_446\">\r\n      <!-- 440 -->\r\n      <g transform=\"translate(7.2 77.824524)scale(0.1 -0.1)\">\r\n       <use xlink:href=\"#DejaVuSans-52\"/>\r\n       <use x=\"63.623047\" xlink:href=\"#DejaVuSans-52\"/>\r\n       <use x=\"127.246094\" xlink:href=\"#DejaVuSans-48\"/>\r\n      </g>\r\n     </g>\r\n    </g>\r\n    <g id=\"ytick_442\">\r\n     <g id=\"line2d_447\">\r\n      <g>\r\n       <use style=\"stroke:#000000;stroke-width:0.8;\" x=\"33.2875\" xlink:href=\"#m7d443d45af\" y=\"73.675161\"/>\r\n      </g>\r\n     </g>\r\n     <g id=\"text_447\">\r\n      <!-- 441 -->\r\n      <g transform=\"translate(7.2 77.47438)scale(0.1 -0.1)\">\r\n       <use xlink:href=\"#DejaVuSans-52\"/>\r\n       <use x=\"63.623047\" xlink:href=\"#DejaVuSans-52\"/>\r\n       <use x=\"127.246094\" xlink:href=\"#DejaVuSans-49\"/>\r\n      </g>\r\n     </g>\r\n    </g>\r\n    <g id=\"ytick_443\">\r\n     <g id=\"line2d_448\">\r\n      <g>\r\n       <use style=\"stroke:#000000;stroke-width:0.8;\" x=\"33.2875\" xlink:href=\"#m7d443d45af\" y=\"73.325016\"/>\r\n      </g>\r\n     </g>\r\n     <g id=\"text_448\">\r\n      <!-- 442 -->\r\n      <g transform=\"translate(7.2 77.124235)scale(0.1 -0.1)\">\r\n       <use xlink:href=\"#DejaVuSans-52\"/>\r\n       <use x=\"63.623047\" xlink:href=\"#DejaVuSans-52\"/>\r\n       <use x=\"127.246094\" xlink:href=\"#DejaVuSans-50\"/>\r\n      </g>\r\n     </g>\r\n    </g>\r\n    <g id=\"ytick_444\">\r\n     <g id=\"line2d_449\">\r\n      <g>\r\n       <use style=\"stroke:#000000;stroke-width:0.8;\" x=\"33.2875\" xlink:href=\"#m7d443d45af\" y=\"72.974871\"/>\r\n      </g>\r\n     </g>\r\n     <g id=\"text_449\">\r\n      <!-- 443 -->\r\n      <g transform=\"translate(7.2 76.77409)scale(0.1 -0.1)\">\r\n       <use xlink:href=\"#DejaVuSans-52\"/>\r\n       <use x=\"63.623047\" xlink:href=\"#DejaVuSans-52\"/>\r\n       <use x=\"127.246094\" xlink:href=\"#DejaVuSans-51\"/>\r\n      </g>\r\n     </g>\r\n    </g>\r\n    <g id=\"ytick_445\">\r\n     <g id=\"line2d_450\">\r\n      <g>\r\n       <use style=\"stroke:#000000;stroke-width:0.8;\" x=\"33.2875\" xlink:href=\"#m7d443d45af\" y=\"72.624726\"/>\r\n      </g>\r\n     </g>\r\n     <g id=\"text_450\">\r\n      <!-- 444 -->\r\n      <g transform=\"translate(7.2 76.423945)scale(0.1 -0.1)\">\r\n       <use xlink:href=\"#DejaVuSans-52\"/>\r\n       <use x=\"63.623047\" xlink:href=\"#DejaVuSans-52\"/>\r\n       <use x=\"127.246094\" xlink:href=\"#DejaVuSans-52\"/>\r\n      </g>\r\n     </g>\r\n    </g>\r\n    <g id=\"ytick_446\">\r\n     <g id=\"line2d_451\">\r\n      <g>\r\n       <use style=\"stroke:#000000;stroke-width:0.8;\" x=\"33.2875\" xlink:href=\"#m7d443d45af\" y=\"72.274581\"/>\r\n      </g>\r\n     </g>\r\n     <g id=\"text_451\">\r\n      <!-- 445 -->\r\n      <g transform=\"translate(7.2 76.0738)scale(0.1 -0.1)\">\r\n       <use xlink:href=\"#DejaVuSans-52\"/>\r\n       <use x=\"63.623047\" xlink:href=\"#DejaVuSans-52\"/>\r\n       <use x=\"127.246094\" xlink:href=\"#DejaVuSans-53\"/>\r\n      </g>\r\n     </g>\r\n    </g>\r\n    <g id=\"ytick_447\">\r\n     <g id=\"line2d_452\">\r\n      <g>\r\n       <use style=\"stroke:#000000;stroke-width:0.8;\" x=\"33.2875\" xlink:href=\"#m7d443d45af\" y=\"71.924436\"/>\r\n      </g>\r\n     </g>\r\n     <g id=\"text_452\">\r\n      <!-- 446 -->\r\n      <g transform=\"translate(7.2 75.723655)scale(0.1 -0.1)\">\r\n       <use xlink:href=\"#DejaVuSans-52\"/>\r\n       <use x=\"63.623047\" xlink:href=\"#DejaVuSans-52\"/>\r\n       <use x=\"127.246094\" xlink:href=\"#DejaVuSans-54\"/>\r\n      </g>\r\n     </g>\r\n    </g>\r\n    <g id=\"ytick_448\">\r\n     <g id=\"line2d_453\">\r\n      <g>\r\n       <use style=\"stroke:#000000;stroke-width:0.8;\" x=\"33.2875\" xlink:href=\"#m7d443d45af\" y=\"71.574291\"/>\r\n      </g>\r\n     </g>\r\n     <g id=\"text_453\">\r\n      <!-- 447 -->\r\n      <g transform=\"translate(7.2 75.37351)scale(0.1 -0.1)\">\r\n       <use xlink:href=\"#DejaVuSans-52\"/>\r\n       <use x=\"63.623047\" xlink:href=\"#DejaVuSans-52\"/>\r\n       <use x=\"127.246094\" xlink:href=\"#DejaVuSans-55\"/>\r\n      </g>\r\n     </g>\r\n    </g>\r\n    <g id=\"ytick_449\">\r\n     <g id=\"line2d_454\">\r\n      <g>\r\n       <use style=\"stroke:#000000;stroke-width:0.8;\" x=\"33.2875\" xlink:href=\"#m7d443d45af\" y=\"71.224146\"/>\r\n      </g>\r\n     </g>\r\n     <g id=\"text_454\">\r\n      <!-- 448 -->\r\n      <g transform=\"translate(7.2 75.023365)scale(0.1 -0.1)\">\r\n       <use xlink:href=\"#DejaVuSans-52\"/>\r\n       <use x=\"63.623047\" xlink:href=\"#DejaVuSans-52\"/>\r\n       <use x=\"127.246094\" xlink:href=\"#DejaVuSans-56\"/>\r\n      </g>\r\n     </g>\r\n    </g>\r\n    <g id=\"ytick_450\">\r\n     <g id=\"line2d_455\">\r\n      <g>\r\n       <use style=\"stroke:#000000;stroke-width:0.8;\" x=\"33.2875\" xlink:href=\"#m7d443d45af\" y=\"70.874001\"/>\r\n      </g>\r\n     </g>\r\n     <g id=\"text_455\">\r\n      <!-- 449 -->\r\n      <g transform=\"translate(7.2 74.67322)scale(0.1 -0.1)\">\r\n       <use xlink:href=\"#DejaVuSans-52\"/>\r\n       <use x=\"63.623047\" xlink:href=\"#DejaVuSans-52\"/>\r\n       <use x=\"127.246094\" xlink:href=\"#DejaVuSans-57\"/>\r\n      </g>\r\n     </g>\r\n    </g>\r\n    <g id=\"ytick_451\">\r\n     <g id=\"line2d_456\">\r\n      <g>\r\n       <use style=\"stroke:#000000;stroke-width:0.8;\" x=\"33.2875\" xlink:href=\"#m7d443d45af\" y=\"70.523856\"/>\r\n      </g>\r\n     </g>\r\n     <g id=\"text_456\">\r\n      <!-- 450 -->\r\n      <g transform=\"translate(7.2 74.323075)scale(0.1 -0.1)\">\r\n       <use xlink:href=\"#DejaVuSans-52\"/>\r\n       <use x=\"63.623047\" xlink:href=\"#DejaVuSans-53\"/>\r\n       <use x=\"127.246094\" xlink:href=\"#DejaVuSans-48\"/>\r\n      </g>\r\n     </g>\r\n    </g>\r\n    <g id=\"ytick_452\">\r\n     <g id=\"line2d_457\">\r\n      <g>\r\n       <use style=\"stroke:#000000;stroke-width:0.8;\" x=\"33.2875\" xlink:href=\"#m7d443d45af\" y=\"70.173712\"/>\r\n      </g>\r\n     </g>\r\n     <g id=\"text_457\">\r\n      <!-- 451 -->\r\n      <g transform=\"translate(7.2 73.97293)scale(0.1 -0.1)\">\r\n       <use xlink:href=\"#DejaVuSans-52\"/>\r\n       <use x=\"63.623047\" xlink:href=\"#DejaVuSans-53\"/>\r\n       <use x=\"127.246094\" xlink:href=\"#DejaVuSans-49\"/>\r\n      </g>\r\n     </g>\r\n    </g>\r\n    <g id=\"ytick_453\">\r\n     <g id=\"line2d_458\">\r\n      <g>\r\n       <use style=\"stroke:#000000;stroke-width:0.8;\" x=\"33.2875\" xlink:href=\"#m7d443d45af\" y=\"69.823567\"/>\r\n      </g>\r\n     </g>\r\n     <g id=\"text_458\">\r\n      <!-- 452 -->\r\n      <g transform=\"translate(7.2 73.622785)scale(0.1 -0.1)\">\r\n       <use xlink:href=\"#DejaVuSans-52\"/>\r\n       <use x=\"63.623047\" xlink:href=\"#DejaVuSans-53\"/>\r\n       <use x=\"127.246094\" xlink:href=\"#DejaVuSans-50\"/>\r\n      </g>\r\n     </g>\r\n    </g>\r\n    <g id=\"ytick_454\">\r\n     <g id=\"line2d_459\">\r\n      <g>\r\n       <use style=\"stroke:#000000;stroke-width:0.8;\" x=\"33.2875\" xlink:href=\"#m7d443d45af\" y=\"69.473422\"/>\r\n      </g>\r\n     </g>\r\n     <g id=\"text_459\">\r\n      <!-- 453 -->\r\n      <g transform=\"translate(7.2 73.27264)scale(0.1 -0.1)\">\r\n       <use xlink:href=\"#DejaVuSans-52\"/>\r\n       <use x=\"63.623047\" xlink:href=\"#DejaVuSans-53\"/>\r\n       <use x=\"127.246094\" xlink:href=\"#DejaVuSans-51\"/>\r\n      </g>\r\n     </g>\r\n    </g>\r\n    <g id=\"ytick_455\">\r\n     <g id=\"line2d_460\">\r\n      <g>\r\n       <use style=\"stroke:#000000;stroke-width:0.8;\" x=\"33.2875\" xlink:href=\"#m7d443d45af\" y=\"69.123277\"/>\r\n      </g>\r\n     </g>\r\n     <g id=\"text_460\">\r\n      <!-- 454 -->\r\n      <g transform=\"translate(7.2 72.922495)scale(0.1 -0.1)\">\r\n       <use xlink:href=\"#DejaVuSans-52\"/>\r\n       <use x=\"63.623047\" xlink:href=\"#DejaVuSans-53\"/>\r\n       <use x=\"127.246094\" xlink:href=\"#DejaVuSans-52\"/>\r\n      </g>\r\n     </g>\r\n    </g>\r\n    <g id=\"ytick_456\">\r\n     <g id=\"line2d_461\">\r\n      <g>\r\n       <use style=\"stroke:#000000;stroke-width:0.8;\" x=\"33.2875\" xlink:href=\"#m7d443d45af\" y=\"68.773132\"/>\r\n      </g>\r\n     </g>\r\n     <g id=\"text_461\">\r\n      <!-- 455 -->\r\n      <g transform=\"translate(7.2 72.572351)scale(0.1 -0.1)\">\r\n       <use xlink:href=\"#DejaVuSans-52\"/>\r\n       <use x=\"63.623047\" xlink:href=\"#DejaVuSans-53\"/>\r\n       <use x=\"127.246094\" xlink:href=\"#DejaVuSans-53\"/>\r\n      </g>\r\n     </g>\r\n    </g>\r\n    <g id=\"ytick_457\">\r\n     <g id=\"line2d_462\">\r\n      <g>\r\n       <use style=\"stroke:#000000;stroke-width:0.8;\" x=\"33.2875\" xlink:href=\"#m7d443d45af\" y=\"68.422987\"/>\r\n      </g>\r\n     </g>\r\n     <g id=\"text_462\">\r\n      <!-- 456 -->\r\n      <g transform=\"translate(7.2 72.222206)scale(0.1 -0.1)\">\r\n       <use xlink:href=\"#DejaVuSans-52\"/>\r\n       <use x=\"63.623047\" xlink:href=\"#DejaVuSans-53\"/>\r\n       <use x=\"127.246094\" xlink:href=\"#DejaVuSans-54\"/>\r\n      </g>\r\n     </g>\r\n    </g>\r\n    <g id=\"ytick_458\">\r\n     <g id=\"line2d_463\">\r\n      <g>\r\n       <use style=\"stroke:#000000;stroke-width:0.8;\" x=\"33.2875\" xlink:href=\"#m7d443d45af\" y=\"68.072842\"/>\r\n      </g>\r\n     </g>\r\n     <g id=\"text_463\">\r\n      <!-- 457 -->\r\n      <g transform=\"translate(7.2 71.872061)scale(0.1 -0.1)\">\r\n       <use xlink:href=\"#DejaVuSans-52\"/>\r\n       <use x=\"63.623047\" xlink:href=\"#DejaVuSans-53\"/>\r\n       <use x=\"127.246094\" xlink:href=\"#DejaVuSans-55\"/>\r\n      </g>\r\n     </g>\r\n    </g>\r\n    <g id=\"ytick_459\">\r\n     <g id=\"line2d_464\">\r\n      <g>\r\n       <use style=\"stroke:#000000;stroke-width:0.8;\" x=\"33.2875\" xlink:href=\"#m7d443d45af\" y=\"67.722697\"/>\r\n      </g>\r\n     </g>\r\n     <g id=\"text_464\">\r\n      <!-- 458 -->\r\n      <g transform=\"translate(7.2 71.521916)scale(0.1 -0.1)\">\r\n       <use xlink:href=\"#DejaVuSans-52\"/>\r\n       <use x=\"63.623047\" xlink:href=\"#DejaVuSans-53\"/>\r\n       <use x=\"127.246094\" xlink:href=\"#DejaVuSans-56\"/>\r\n      </g>\r\n     </g>\r\n    </g>\r\n    <g id=\"ytick_460\">\r\n     <g id=\"line2d_465\">\r\n      <g>\r\n       <use style=\"stroke:#000000;stroke-width:0.8;\" x=\"33.2875\" xlink:href=\"#m7d443d45af\" y=\"67.372552\"/>\r\n      </g>\r\n     </g>\r\n     <g id=\"text_465\">\r\n      <!-- 459 -->\r\n      <g transform=\"translate(7.2 71.171771)scale(0.1 -0.1)\">\r\n       <use xlink:href=\"#DejaVuSans-52\"/>\r\n       <use x=\"63.623047\" xlink:href=\"#DejaVuSans-53\"/>\r\n       <use x=\"127.246094\" xlink:href=\"#DejaVuSans-57\"/>\r\n      </g>\r\n     </g>\r\n    </g>\r\n    <g id=\"ytick_461\">\r\n     <g id=\"line2d_466\">\r\n      <g>\r\n       <use style=\"stroke:#000000;stroke-width:0.8;\" x=\"33.2875\" xlink:href=\"#m7d443d45af\" y=\"67.022407\"/>\r\n      </g>\r\n     </g>\r\n     <g id=\"text_466\">\r\n      <!-- 460 -->\r\n      <g transform=\"translate(7.2 70.821626)scale(0.1 -0.1)\">\r\n       <use xlink:href=\"#DejaVuSans-52\"/>\r\n       <use x=\"63.623047\" xlink:href=\"#DejaVuSans-54\"/>\r\n       <use x=\"127.246094\" xlink:href=\"#DejaVuSans-48\"/>\r\n      </g>\r\n     </g>\r\n    </g>\r\n    <g id=\"ytick_462\">\r\n     <g id=\"line2d_467\">\r\n      <g>\r\n       <use style=\"stroke:#000000;stroke-width:0.8;\" x=\"33.2875\" xlink:href=\"#m7d443d45af\" y=\"66.672262\"/>\r\n      </g>\r\n     </g>\r\n     <g id=\"text_467\">\r\n      <!-- 461 -->\r\n      <g transform=\"translate(7.2 70.471481)scale(0.1 -0.1)\">\r\n       <use xlink:href=\"#DejaVuSans-52\"/>\r\n       <use x=\"63.623047\" xlink:href=\"#DejaVuSans-54\"/>\r\n       <use x=\"127.246094\" xlink:href=\"#DejaVuSans-49\"/>\r\n      </g>\r\n     </g>\r\n    </g>\r\n    <g id=\"ytick_463\">\r\n     <g id=\"line2d_468\">\r\n      <g>\r\n       <use style=\"stroke:#000000;stroke-width:0.8;\" x=\"33.2875\" xlink:href=\"#m7d443d45af\" y=\"66.322117\"/>\r\n      </g>\r\n     </g>\r\n     <g id=\"text_468\">\r\n      <!-- 462 -->\r\n      <g transform=\"translate(7.2 70.121336)scale(0.1 -0.1)\">\r\n       <use xlink:href=\"#DejaVuSans-52\"/>\r\n       <use x=\"63.623047\" xlink:href=\"#DejaVuSans-54\"/>\r\n       <use x=\"127.246094\" xlink:href=\"#DejaVuSans-50\"/>\r\n      </g>\r\n     </g>\r\n    </g>\r\n    <g id=\"ytick_464\">\r\n     <g id=\"line2d_469\">\r\n      <g>\r\n       <use style=\"stroke:#000000;stroke-width:0.8;\" x=\"33.2875\" xlink:href=\"#m7d443d45af\" y=\"65.971972\"/>\r\n      </g>\r\n     </g>\r\n     <g id=\"text_469\">\r\n      <!-- 463 -->\r\n      <g transform=\"translate(7.2 69.771191)scale(0.1 -0.1)\">\r\n       <use xlink:href=\"#DejaVuSans-52\"/>\r\n       <use x=\"63.623047\" xlink:href=\"#DejaVuSans-54\"/>\r\n       <use x=\"127.246094\" xlink:href=\"#DejaVuSans-51\"/>\r\n      </g>\r\n     </g>\r\n    </g>\r\n    <g id=\"ytick_465\">\r\n     <g id=\"line2d_470\">\r\n      <g>\r\n       <use style=\"stroke:#000000;stroke-width:0.8;\" x=\"33.2875\" xlink:href=\"#m7d443d45af\" y=\"65.621827\"/>\r\n      </g>\r\n     </g>\r\n     <g id=\"text_470\">\r\n      <!-- 464 -->\r\n      <g transform=\"translate(7.2 69.421046)scale(0.1 -0.1)\">\r\n       <use xlink:href=\"#DejaVuSans-52\"/>\r\n       <use x=\"63.623047\" xlink:href=\"#DejaVuSans-54\"/>\r\n       <use x=\"127.246094\" xlink:href=\"#DejaVuSans-52\"/>\r\n      </g>\r\n     </g>\r\n    </g>\r\n    <g id=\"ytick_466\">\r\n     <g id=\"line2d_471\">\r\n      <g>\r\n       <use style=\"stroke:#000000;stroke-width:0.8;\" x=\"33.2875\" xlink:href=\"#m7d443d45af\" y=\"65.271683\"/>\r\n      </g>\r\n     </g>\r\n     <g id=\"text_471\">\r\n      <!-- 465 -->\r\n      <g transform=\"translate(7.2 69.070901)scale(0.1 -0.1)\">\r\n       <use xlink:href=\"#DejaVuSans-52\"/>\r\n       <use x=\"63.623047\" xlink:href=\"#DejaVuSans-54\"/>\r\n       <use x=\"127.246094\" xlink:href=\"#DejaVuSans-53\"/>\r\n      </g>\r\n     </g>\r\n    </g>\r\n    <g id=\"ytick_467\">\r\n     <g id=\"line2d_472\">\r\n      <g>\r\n       <use style=\"stroke:#000000;stroke-width:0.8;\" x=\"33.2875\" xlink:href=\"#m7d443d45af\" y=\"64.921538\"/>\r\n      </g>\r\n     </g>\r\n     <g id=\"text_472\">\r\n      <!-- 466 -->\r\n      <g transform=\"translate(7.2 68.720756)scale(0.1 -0.1)\">\r\n       <use xlink:href=\"#DejaVuSans-52\"/>\r\n       <use x=\"63.623047\" xlink:href=\"#DejaVuSans-54\"/>\r\n       <use x=\"127.246094\" xlink:href=\"#DejaVuSans-54\"/>\r\n      </g>\r\n     </g>\r\n    </g>\r\n    <g id=\"ytick_468\">\r\n     <g id=\"line2d_473\">\r\n      <g>\r\n       <use style=\"stroke:#000000;stroke-width:0.8;\" x=\"33.2875\" xlink:href=\"#m7d443d45af\" y=\"64.571393\"/>\r\n      </g>\r\n     </g>\r\n     <g id=\"text_473\">\r\n      <!-- 467 -->\r\n      <g transform=\"translate(7.2 68.370611)scale(0.1 -0.1)\">\r\n       <use xlink:href=\"#DejaVuSans-52\"/>\r\n       <use x=\"63.623047\" xlink:href=\"#DejaVuSans-54\"/>\r\n       <use x=\"127.246094\" xlink:href=\"#DejaVuSans-55\"/>\r\n      </g>\r\n     </g>\r\n    </g>\r\n    <g id=\"ytick_469\">\r\n     <g id=\"line2d_474\">\r\n      <g>\r\n       <use style=\"stroke:#000000;stroke-width:0.8;\" x=\"33.2875\" xlink:href=\"#m7d443d45af\" y=\"64.221248\"/>\r\n      </g>\r\n     </g>\r\n     <g id=\"text_474\">\r\n      <!-- 468 -->\r\n      <g transform=\"translate(7.2 68.020466)scale(0.1 -0.1)\">\r\n       <use xlink:href=\"#DejaVuSans-52\"/>\r\n       <use x=\"63.623047\" xlink:href=\"#DejaVuSans-54\"/>\r\n       <use x=\"127.246094\" xlink:href=\"#DejaVuSans-56\"/>\r\n      </g>\r\n     </g>\r\n    </g>\r\n    <g id=\"ytick_470\">\r\n     <g id=\"line2d_475\">\r\n      <g>\r\n       <use style=\"stroke:#000000;stroke-width:0.8;\" x=\"33.2875\" xlink:href=\"#m7d443d45af\" y=\"63.871103\"/>\r\n      </g>\r\n     </g>\r\n     <g id=\"text_475\">\r\n      <!-- 469 -->\r\n      <g transform=\"translate(7.2 67.670322)scale(0.1 -0.1)\">\r\n       <use xlink:href=\"#DejaVuSans-52\"/>\r\n       <use x=\"63.623047\" xlink:href=\"#DejaVuSans-54\"/>\r\n       <use x=\"127.246094\" xlink:href=\"#DejaVuSans-57\"/>\r\n      </g>\r\n     </g>\r\n    </g>\r\n    <g id=\"ytick_471\">\r\n     <g id=\"line2d_476\">\r\n      <g>\r\n       <use style=\"stroke:#000000;stroke-width:0.8;\" x=\"33.2875\" xlink:href=\"#m7d443d45af\" y=\"63.520958\"/>\r\n      </g>\r\n     </g>\r\n     <g id=\"text_476\">\r\n      <!-- 470 -->\r\n      <g transform=\"translate(7.2 67.320177)scale(0.1 -0.1)\">\r\n       <use xlink:href=\"#DejaVuSans-52\"/>\r\n       <use x=\"63.623047\" xlink:href=\"#DejaVuSans-55\"/>\r\n       <use x=\"127.246094\" xlink:href=\"#DejaVuSans-48\"/>\r\n      </g>\r\n     </g>\r\n    </g>\r\n    <g id=\"ytick_472\">\r\n     <g id=\"line2d_477\">\r\n      <g>\r\n       <use style=\"stroke:#000000;stroke-width:0.8;\" x=\"33.2875\" xlink:href=\"#m7d443d45af\" y=\"63.170813\"/>\r\n      </g>\r\n     </g>\r\n     <g id=\"text_477\">\r\n      <!-- 471 -->\r\n      <g transform=\"translate(7.2 66.970032)scale(0.1 -0.1)\">\r\n       <use xlink:href=\"#DejaVuSans-52\"/>\r\n       <use x=\"63.623047\" xlink:href=\"#DejaVuSans-55\"/>\r\n       <use x=\"127.246094\" xlink:href=\"#DejaVuSans-49\"/>\r\n      </g>\r\n     </g>\r\n    </g>\r\n    <g id=\"ytick_473\">\r\n     <g id=\"line2d_478\">\r\n      <g>\r\n       <use style=\"stroke:#000000;stroke-width:0.8;\" x=\"33.2875\" xlink:href=\"#m7d443d45af\" y=\"62.820668\"/>\r\n      </g>\r\n     </g>\r\n     <g id=\"text_478\">\r\n      <!-- 472 -->\r\n      <g transform=\"translate(7.2 66.619887)scale(0.1 -0.1)\">\r\n       <use xlink:href=\"#DejaVuSans-52\"/>\r\n       <use x=\"63.623047\" xlink:href=\"#DejaVuSans-55\"/>\r\n       <use x=\"127.246094\" xlink:href=\"#DejaVuSans-50\"/>\r\n      </g>\r\n     </g>\r\n    </g>\r\n    <g id=\"ytick_474\">\r\n     <g id=\"line2d_479\">\r\n      <g>\r\n       <use style=\"stroke:#000000;stroke-width:0.8;\" x=\"33.2875\" xlink:href=\"#m7d443d45af\" y=\"62.470523\"/>\r\n      </g>\r\n     </g>\r\n     <g id=\"text_479\">\r\n      <!-- 473 -->\r\n      <g transform=\"translate(7.2 66.269742)scale(0.1 -0.1)\">\r\n       <use xlink:href=\"#DejaVuSans-52\"/>\r\n       <use x=\"63.623047\" xlink:href=\"#DejaVuSans-55\"/>\r\n       <use x=\"127.246094\" xlink:href=\"#DejaVuSans-51\"/>\r\n      </g>\r\n     </g>\r\n    </g>\r\n    <g id=\"ytick_475\">\r\n     <g id=\"line2d_480\">\r\n      <g>\r\n       <use style=\"stroke:#000000;stroke-width:0.8;\" x=\"33.2875\" xlink:href=\"#m7d443d45af\" y=\"62.120378\"/>\r\n      </g>\r\n     </g>\r\n     <g id=\"text_480\">\r\n      <!-- 474 -->\r\n      <g transform=\"translate(7.2 65.919597)scale(0.1 -0.1)\">\r\n       <use xlink:href=\"#DejaVuSans-52\"/>\r\n       <use x=\"63.623047\" xlink:href=\"#DejaVuSans-55\"/>\r\n       <use x=\"127.246094\" xlink:href=\"#DejaVuSans-52\"/>\r\n      </g>\r\n     </g>\r\n    </g>\r\n    <g id=\"ytick_476\">\r\n     <g id=\"line2d_481\">\r\n      <g>\r\n       <use style=\"stroke:#000000;stroke-width:0.8;\" x=\"33.2875\" xlink:href=\"#m7d443d45af\" y=\"61.770233\"/>\r\n      </g>\r\n     </g>\r\n     <g id=\"text_481\">\r\n      <!-- 475 -->\r\n      <g transform=\"translate(7.2 65.569452)scale(0.1 -0.1)\">\r\n       <use xlink:href=\"#DejaVuSans-52\"/>\r\n       <use x=\"63.623047\" xlink:href=\"#DejaVuSans-55\"/>\r\n       <use x=\"127.246094\" xlink:href=\"#DejaVuSans-53\"/>\r\n      </g>\r\n     </g>\r\n    </g>\r\n    <g id=\"ytick_477\">\r\n     <g id=\"line2d_482\">\r\n      <g>\r\n       <use style=\"stroke:#000000;stroke-width:0.8;\" x=\"33.2875\" xlink:href=\"#m7d443d45af\" y=\"61.420088\"/>\r\n      </g>\r\n     </g>\r\n     <g id=\"text_482\">\r\n      <!-- 476 -->\r\n      <g transform=\"translate(7.2 65.219307)scale(0.1 -0.1)\">\r\n       <use xlink:href=\"#DejaVuSans-52\"/>\r\n       <use x=\"63.623047\" xlink:href=\"#DejaVuSans-55\"/>\r\n       <use x=\"127.246094\" xlink:href=\"#DejaVuSans-54\"/>\r\n      </g>\r\n     </g>\r\n    </g>\r\n    <g id=\"ytick_478\">\r\n     <g id=\"line2d_483\">\r\n      <g>\r\n       <use style=\"stroke:#000000;stroke-width:0.8;\" x=\"33.2875\" xlink:href=\"#m7d443d45af\" y=\"61.069943\"/>\r\n      </g>\r\n     </g>\r\n     <g id=\"text_483\">\r\n      <!-- 477 -->\r\n      <g transform=\"translate(7.2 64.869162)scale(0.1 -0.1)\">\r\n       <use xlink:href=\"#DejaVuSans-52\"/>\r\n       <use x=\"63.623047\" xlink:href=\"#DejaVuSans-55\"/>\r\n       <use x=\"127.246094\" xlink:href=\"#DejaVuSans-55\"/>\r\n      </g>\r\n     </g>\r\n    </g>\r\n    <g id=\"ytick_479\">\r\n     <g id=\"line2d_484\">\r\n      <g>\r\n       <use style=\"stroke:#000000;stroke-width:0.8;\" x=\"33.2875\" xlink:href=\"#m7d443d45af\" y=\"60.719798\"/>\r\n      </g>\r\n     </g>\r\n     <g id=\"text_484\">\r\n      <!-- 478 -->\r\n      <g transform=\"translate(7.2 64.519017)scale(0.1 -0.1)\">\r\n       <use xlink:href=\"#DejaVuSans-52\"/>\r\n       <use x=\"63.623047\" xlink:href=\"#DejaVuSans-55\"/>\r\n       <use x=\"127.246094\" xlink:href=\"#DejaVuSans-56\"/>\r\n      </g>\r\n     </g>\r\n    </g>\r\n    <g id=\"ytick_480\">\r\n     <g id=\"line2d_485\">\r\n      <g>\r\n       <use style=\"stroke:#000000;stroke-width:0.8;\" x=\"33.2875\" xlink:href=\"#m7d443d45af\" y=\"60.369654\"/>\r\n      </g>\r\n     </g>\r\n     <g id=\"text_485\">\r\n      <!-- 479 -->\r\n      <g transform=\"translate(7.2 64.168872)scale(0.1 -0.1)\">\r\n       <use xlink:href=\"#DejaVuSans-52\"/>\r\n       <use x=\"63.623047\" xlink:href=\"#DejaVuSans-55\"/>\r\n       <use x=\"127.246094\" xlink:href=\"#DejaVuSans-57\"/>\r\n      </g>\r\n     </g>\r\n    </g>\r\n    <g id=\"ytick_481\">\r\n     <g id=\"line2d_486\">\r\n      <g>\r\n       <use style=\"stroke:#000000;stroke-width:0.8;\" x=\"33.2875\" xlink:href=\"#m7d443d45af\" y=\"60.019509\"/>\r\n      </g>\r\n     </g>\r\n     <g id=\"text_486\">\r\n      <!-- 480 -->\r\n      <g transform=\"translate(7.2 63.818727)scale(0.1 -0.1)\">\r\n       <use xlink:href=\"#DejaVuSans-52\"/>\r\n       <use x=\"63.623047\" xlink:href=\"#DejaVuSans-56\"/>\r\n       <use x=\"127.246094\" xlink:href=\"#DejaVuSans-48\"/>\r\n      </g>\r\n     </g>\r\n    </g>\r\n    <g id=\"ytick_482\">\r\n     <g id=\"line2d_487\">\r\n      <g>\r\n       <use style=\"stroke:#000000;stroke-width:0.8;\" x=\"33.2875\" xlink:href=\"#m7d443d45af\" y=\"59.669364\"/>\r\n      </g>\r\n     </g>\r\n     <g id=\"text_487\">\r\n      <!-- 481 -->\r\n      <g transform=\"translate(7.2 63.468582)scale(0.1 -0.1)\">\r\n       <use xlink:href=\"#DejaVuSans-52\"/>\r\n       <use x=\"63.623047\" xlink:href=\"#DejaVuSans-56\"/>\r\n       <use x=\"127.246094\" xlink:href=\"#DejaVuSans-49\"/>\r\n      </g>\r\n     </g>\r\n    </g>\r\n    <g id=\"ytick_483\">\r\n     <g id=\"line2d_488\">\r\n      <g>\r\n       <use style=\"stroke:#000000;stroke-width:0.8;\" x=\"33.2875\" xlink:href=\"#m7d443d45af\" y=\"59.319219\"/>\r\n      </g>\r\n     </g>\r\n     <g id=\"text_488\">\r\n      <!-- 482 -->\r\n      <g transform=\"translate(7.2 63.118437)scale(0.1 -0.1)\">\r\n       <use xlink:href=\"#DejaVuSans-52\"/>\r\n       <use x=\"63.623047\" xlink:href=\"#DejaVuSans-56\"/>\r\n       <use x=\"127.246094\" xlink:href=\"#DejaVuSans-50\"/>\r\n      </g>\r\n     </g>\r\n    </g>\r\n    <g id=\"ytick_484\">\r\n     <g id=\"line2d_489\">\r\n      <g>\r\n       <use style=\"stroke:#000000;stroke-width:0.8;\" x=\"33.2875\" xlink:href=\"#m7d443d45af\" y=\"58.969074\"/>\r\n      </g>\r\n     </g>\r\n     <g id=\"text_489\">\r\n      <!-- 483 -->\r\n      <g transform=\"translate(7.2 62.768293)scale(0.1 -0.1)\">\r\n       <use xlink:href=\"#DejaVuSans-52\"/>\r\n       <use x=\"63.623047\" xlink:href=\"#DejaVuSans-56\"/>\r\n       <use x=\"127.246094\" xlink:href=\"#DejaVuSans-51\"/>\r\n      </g>\r\n     </g>\r\n    </g>\r\n    <g id=\"ytick_485\">\r\n     <g id=\"line2d_490\">\r\n      <g>\r\n       <use style=\"stroke:#000000;stroke-width:0.8;\" x=\"33.2875\" xlink:href=\"#m7d443d45af\" y=\"58.618929\"/>\r\n      </g>\r\n     </g>\r\n     <g id=\"text_490\">\r\n      <!-- 484 -->\r\n      <g transform=\"translate(7.2 62.418148)scale(0.1 -0.1)\">\r\n       <use xlink:href=\"#DejaVuSans-52\"/>\r\n       <use x=\"63.623047\" xlink:href=\"#DejaVuSans-56\"/>\r\n       <use x=\"127.246094\" xlink:href=\"#DejaVuSans-52\"/>\r\n      </g>\r\n     </g>\r\n    </g>\r\n    <g id=\"ytick_486\">\r\n     <g id=\"line2d_491\">\r\n      <g>\r\n       <use style=\"stroke:#000000;stroke-width:0.8;\" x=\"33.2875\" xlink:href=\"#m7d443d45af\" y=\"58.268784\"/>\r\n      </g>\r\n     </g>\r\n     <g id=\"text_491\">\r\n      <!-- 485 -->\r\n      <g transform=\"translate(7.2 62.068003)scale(0.1 -0.1)\">\r\n       <use xlink:href=\"#DejaVuSans-52\"/>\r\n       <use x=\"63.623047\" xlink:href=\"#DejaVuSans-56\"/>\r\n       <use x=\"127.246094\" xlink:href=\"#DejaVuSans-53\"/>\r\n      </g>\r\n     </g>\r\n    </g>\r\n    <g id=\"ytick_487\">\r\n     <g id=\"line2d_492\">\r\n      <g>\r\n       <use style=\"stroke:#000000;stroke-width:0.8;\" x=\"33.2875\" xlink:href=\"#m7d443d45af\" y=\"57.918639\"/>\r\n      </g>\r\n     </g>\r\n     <g id=\"text_492\">\r\n      <!-- 486 -->\r\n      <g transform=\"translate(7.2 61.717858)scale(0.1 -0.1)\">\r\n       <use xlink:href=\"#DejaVuSans-52\"/>\r\n       <use x=\"63.623047\" xlink:href=\"#DejaVuSans-56\"/>\r\n       <use x=\"127.246094\" xlink:href=\"#DejaVuSans-54\"/>\r\n      </g>\r\n     </g>\r\n    </g>\r\n    <g id=\"ytick_488\">\r\n     <g id=\"line2d_493\">\r\n      <g>\r\n       <use style=\"stroke:#000000;stroke-width:0.8;\" x=\"33.2875\" xlink:href=\"#m7d443d45af\" y=\"57.568494\"/>\r\n      </g>\r\n     </g>\r\n     <g id=\"text_493\">\r\n      <!-- 487 -->\r\n      <g transform=\"translate(7.2 61.367713)scale(0.1 -0.1)\">\r\n       <use xlink:href=\"#DejaVuSans-52\"/>\r\n       <use x=\"63.623047\" xlink:href=\"#DejaVuSans-56\"/>\r\n       <use x=\"127.246094\" xlink:href=\"#DejaVuSans-55\"/>\r\n      </g>\r\n     </g>\r\n    </g>\r\n    <g id=\"ytick_489\">\r\n     <g id=\"line2d_494\">\r\n      <g>\r\n       <use style=\"stroke:#000000;stroke-width:0.8;\" x=\"33.2875\" xlink:href=\"#m7d443d45af\" y=\"57.218349\"/>\r\n      </g>\r\n     </g>\r\n     <g id=\"text_494\">\r\n      <!-- 488 -->\r\n      <g transform=\"translate(7.2 61.017568)scale(0.1 -0.1)\">\r\n       <use xlink:href=\"#DejaVuSans-52\"/>\r\n       <use x=\"63.623047\" xlink:href=\"#DejaVuSans-56\"/>\r\n       <use x=\"127.246094\" xlink:href=\"#DejaVuSans-56\"/>\r\n      </g>\r\n     </g>\r\n    </g>\r\n    <g id=\"ytick_490\">\r\n     <g id=\"line2d_495\">\r\n      <g>\r\n       <use style=\"stroke:#000000;stroke-width:0.8;\" x=\"33.2875\" xlink:href=\"#m7d443d45af\" y=\"56.868204\"/>\r\n      </g>\r\n     </g>\r\n     <g id=\"text_495\">\r\n      <!-- 489 -->\r\n      <g transform=\"translate(7.2 60.667423)scale(0.1 -0.1)\">\r\n       <use xlink:href=\"#DejaVuSans-52\"/>\r\n       <use x=\"63.623047\" xlink:href=\"#DejaVuSans-56\"/>\r\n       <use x=\"127.246094\" xlink:href=\"#DejaVuSans-57\"/>\r\n      </g>\r\n     </g>\r\n    </g>\r\n    <g id=\"ytick_491\">\r\n     <g id=\"line2d_496\">\r\n      <g>\r\n       <use style=\"stroke:#000000;stroke-width:0.8;\" x=\"33.2875\" xlink:href=\"#m7d443d45af\" y=\"56.518059\"/>\r\n      </g>\r\n     </g>\r\n     <g id=\"text_496\">\r\n      <!-- 490 -->\r\n      <g transform=\"translate(7.2 60.317278)scale(0.1 -0.1)\">\r\n       <use xlink:href=\"#DejaVuSans-52\"/>\r\n       <use x=\"63.623047\" xlink:href=\"#DejaVuSans-57\"/>\r\n       <use x=\"127.246094\" xlink:href=\"#DejaVuSans-48\"/>\r\n      </g>\r\n     </g>\r\n    </g>\r\n    <g id=\"ytick_492\">\r\n     <g id=\"line2d_497\">\r\n      <g>\r\n       <use style=\"stroke:#000000;stroke-width:0.8;\" x=\"33.2875\" xlink:href=\"#m7d443d45af\" y=\"56.167914\"/>\r\n      </g>\r\n     </g>\r\n     <g id=\"text_497\">\r\n      <!-- 491 -->\r\n      <g transform=\"translate(7.2 59.967133)scale(0.1 -0.1)\">\r\n       <use xlink:href=\"#DejaVuSans-52\"/>\r\n       <use x=\"63.623047\" xlink:href=\"#DejaVuSans-57\"/>\r\n       <use x=\"127.246094\" xlink:href=\"#DejaVuSans-49\"/>\r\n      </g>\r\n     </g>\r\n    </g>\r\n    <g id=\"ytick_493\">\r\n     <g id=\"line2d_498\">\r\n      <g>\r\n       <use style=\"stroke:#000000;stroke-width:0.8;\" x=\"33.2875\" xlink:href=\"#m7d443d45af\" y=\"55.817769\"/>\r\n      </g>\r\n     </g>\r\n     <g id=\"text_498\">\r\n      <!-- 492 -->\r\n      <g transform=\"translate(7.2 59.616988)scale(0.1 -0.1)\">\r\n       <use xlink:href=\"#DejaVuSans-52\"/>\r\n       <use x=\"63.623047\" xlink:href=\"#DejaVuSans-57\"/>\r\n       <use x=\"127.246094\" xlink:href=\"#DejaVuSans-50\"/>\r\n      </g>\r\n     </g>\r\n    </g>\r\n    <g id=\"ytick_494\">\r\n     <g id=\"line2d_499\">\r\n      <g>\r\n       <use style=\"stroke:#000000;stroke-width:0.8;\" x=\"33.2875\" xlink:href=\"#m7d443d45af\" y=\"55.467625\"/>\r\n      </g>\r\n     </g>\r\n     <g id=\"text_499\">\r\n      <!-- 493 -->\r\n      <g transform=\"translate(7.2 59.266843)scale(0.1 -0.1)\">\r\n       <use xlink:href=\"#DejaVuSans-52\"/>\r\n       <use x=\"63.623047\" xlink:href=\"#DejaVuSans-57\"/>\r\n       <use x=\"127.246094\" xlink:href=\"#DejaVuSans-51\"/>\r\n      </g>\r\n     </g>\r\n    </g>\r\n    <g id=\"ytick_495\">\r\n     <g id=\"line2d_500\">\r\n      <g>\r\n       <use style=\"stroke:#000000;stroke-width:0.8;\" x=\"33.2875\" xlink:href=\"#m7d443d45af\" y=\"55.11748\"/>\r\n      </g>\r\n     </g>\r\n     <g id=\"text_500\">\r\n      <!-- 494 -->\r\n      <g transform=\"translate(7.2 58.916698)scale(0.1 -0.1)\">\r\n       <use xlink:href=\"#DejaVuSans-52\"/>\r\n       <use x=\"63.623047\" xlink:href=\"#DejaVuSans-57\"/>\r\n       <use x=\"127.246094\" xlink:href=\"#DejaVuSans-52\"/>\r\n      </g>\r\n     </g>\r\n    </g>\r\n    <g id=\"ytick_496\">\r\n     <g id=\"line2d_501\">\r\n      <g>\r\n       <use style=\"stroke:#000000;stroke-width:0.8;\" x=\"33.2875\" xlink:href=\"#m7d443d45af\" y=\"54.767335\"/>\r\n      </g>\r\n     </g>\r\n     <g id=\"text_501\">\r\n      <!-- 495 -->\r\n      <g transform=\"translate(7.2 58.566553)scale(0.1 -0.1)\">\r\n       <use xlink:href=\"#DejaVuSans-52\"/>\r\n       <use x=\"63.623047\" xlink:href=\"#DejaVuSans-57\"/>\r\n       <use x=\"127.246094\" xlink:href=\"#DejaVuSans-53\"/>\r\n      </g>\r\n     </g>\r\n    </g>\r\n    <g id=\"ytick_497\">\r\n     <g id=\"line2d_502\">\r\n      <g>\r\n       <use style=\"stroke:#000000;stroke-width:0.8;\" x=\"33.2875\" xlink:href=\"#m7d443d45af\" y=\"54.41719\"/>\r\n      </g>\r\n     </g>\r\n     <g id=\"text_502\">\r\n      <!-- 496 -->\r\n      <g transform=\"translate(7.2 58.216409)scale(0.1 -0.1)\">\r\n       <use xlink:href=\"#DejaVuSans-52\"/>\r\n       <use x=\"63.623047\" xlink:href=\"#DejaVuSans-57\"/>\r\n       <use x=\"127.246094\" xlink:href=\"#DejaVuSans-54\"/>\r\n      </g>\r\n     </g>\r\n    </g>\r\n    <g id=\"ytick_498\">\r\n     <g id=\"line2d_503\">\r\n      <g>\r\n       <use style=\"stroke:#000000;stroke-width:0.8;\" x=\"33.2875\" xlink:href=\"#m7d443d45af\" y=\"54.067045\"/>\r\n      </g>\r\n     </g>\r\n     <g id=\"text_503\">\r\n      <!-- 497 -->\r\n      <g transform=\"translate(7.2 57.866264)scale(0.1 -0.1)\">\r\n       <use xlink:href=\"#DejaVuSans-52\"/>\r\n       <use x=\"63.623047\" xlink:href=\"#DejaVuSans-57\"/>\r\n       <use x=\"127.246094\" xlink:href=\"#DejaVuSans-55\"/>\r\n      </g>\r\n     </g>\r\n    </g>\r\n    <g id=\"ytick_499\">\r\n     <g id=\"line2d_504\">\r\n      <g>\r\n       <use style=\"stroke:#000000;stroke-width:0.8;\" x=\"33.2875\" xlink:href=\"#m7d443d45af\" y=\"53.7169\"/>\r\n      </g>\r\n     </g>\r\n     <g id=\"text_504\">\r\n      <!-- 498 -->\r\n      <g transform=\"translate(7.2 57.516119)scale(0.1 -0.1)\">\r\n       <use xlink:href=\"#DejaVuSans-52\"/>\r\n       <use x=\"63.623047\" xlink:href=\"#DejaVuSans-57\"/>\r\n       <use x=\"127.246094\" xlink:href=\"#DejaVuSans-56\"/>\r\n      </g>\r\n     </g>\r\n    </g>\r\n    <g id=\"ytick_500\">\r\n     <g id=\"line2d_505\">\r\n      <g>\r\n       <use style=\"stroke:#000000;stroke-width:0.8;\" x=\"33.2875\" xlink:href=\"#m7d443d45af\" y=\"53.366755\"/>\r\n      </g>\r\n     </g>\r\n     <g id=\"text_505\">\r\n      <!-- 499 -->\r\n      <g transform=\"translate(7.2 57.165974)scale(0.1 -0.1)\">\r\n       <use xlink:href=\"#DejaVuSans-52\"/>\r\n       <use x=\"63.623047\" xlink:href=\"#DejaVuSans-57\"/>\r\n       <use x=\"127.246094\" xlink:href=\"#DejaVuSans-57\"/>\r\n      </g>\r\n     </g>\r\n    </g>\r\n    <g id=\"ytick_501\">\r\n     <g id=\"line2d_506\">\r\n      <g>\r\n       <use style=\"stroke:#000000;stroke-width:0.8;\" x=\"33.2875\" xlink:href=\"#m7d443d45af\" y=\"53.01661\"/>\r\n      </g>\r\n     </g>\r\n     <g id=\"text_506\">\r\n      <!-- 500 -->\r\n      <g transform=\"translate(7.2 56.815829)scale(0.1 -0.1)\">\r\n       <use xlink:href=\"#DejaVuSans-53\"/>\r\n       <use x=\"63.623047\" xlink:href=\"#DejaVuSans-48\"/>\r\n       <use x=\"127.246094\" xlink:href=\"#DejaVuSans-48\"/>\r\n      </g>\r\n     </g>\r\n    </g>\r\n    <g id=\"ytick_502\">\r\n     <g id=\"line2d_507\">\r\n      <g>\r\n       <use style=\"stroke:#000000;stroke-width:0.8;\" x=\"33.2875\" xlink:href=\"#m7d443d45af\" y=\"52.666465\"/>\r\n      </g>\r\n     </g>\r\n     <g id=\"text_507\">\r\n      <!-- 501 -->\r\n      <g transform=\"translate(7.2 56.465684)scale(0.1 -0.1)\">\r\n       <use xlink:href=\"#DejaVuSans-53\"/>\r\n       <use x=\"63.623047\" xlink:href=\"#DejaVuSans-48\"/>\r\n       <use x=\"127.246094\" xlink:href=\"#DejaVuSans-49\"/>\r\n      </g>\r\n     </g>\r\n    </g>\r\n    <g id=\"ytick_503\">\r\n     <g id=\"line2d_508\">\r\n      <g>\r\n       <use style=\"stroke:#000000;stroke-width:0.8;\" x=\"33.2875\" xlink:href=\"#m7d443d45af\" y=\"52.31632\"/>\r\n      </g>\r\n     </g>\r\n     <g id=\"text_508\">\r\n      <!-- 502 -->\r\n      <g transform=\"translate(7.2 56.115539)scale(0.1 -0.1)\">\r\n       <use xlink:href=\"#DejaVuSans-53\"/>\r\n       <use x=\"63.623047\" xlink:href=\"#DejaVuSans-48\"/>\r\n       <use x=\"127.246094\" xlink:href=\"#DejaVuSans-50\"/>\r\n      </g>\r\n     </g>\r\n    </g>\r\n    <g id=\"ytick_504\">\r\n     <g id=\"line2d_509\">\r\n      <g>\r\n       <use style=\"stroke:#000000;stroke-width:0.8;\" x=\"33.2875\" xlink:href=\"#m7d443d45af\" y=\"51.966175\"/>\r\n      </g>\r\n     </g>\r\n     <g id=\"text_509\">\r\n      <!-- 503 -->\r\n      <g transform=\"translate(7.2 55.765394)scale(0.1 -0.1)\">\r\n       <use xlink:href=\"#DejaVuSans-53\"/>\r\n       <use x=\"63.623047\" xlink:href=\"#DejaVuSans-48\"/>\r\n       <use x=\"127.246094\" xlink:href=\"#DejaVuSans-51\"/>\r\n      </g>\r\n     </g>\r\n    </g>\r\n    <g id=\"ytick_505\">\r\n     <g id=\"line2d_510\">\r\n      <g>\r\n       <use style=\"stroke:#000000;stroke-width:0.8;\" x=\"33.2875\" xlink:href=\"#m7d443d45af\" y=\"51.61603\"/>\r\n      </g>\r\n     </g>\r\n     <g id=\"text_510\">\r\n      <!-- 504 -->\r\n      <g transform=\"translate(7.2 55.415249)scale(0.1 -0.1)\">\r\n       <use xlink:href=\"#DejaVuSans-53\"/>\r\n       <use x=\"63.623047\" xlink:href=\"#DejaVuSans-48\"/>\r\n       <use x=\"127.246094\" xlink:href=\"#DejaVuSans-52\"/>\r\n      </g>\r\n     </g>\r\n    </g>\r\n    <g id=\"ytick_506\">\r\n     <g id=\"line2d_511\">\r\n      <g>\r\n       <use style=\"stroke:#000000;stroke-width:0.8;\" x=\"33.2875\" xlink:href=\"#m7d443d45af\" y=\"51.265885\"/>\r\n      </g>\r\n     </g>\r\n     <g id=\"text_511\">\r\n      <!-- 505 -->\r\n      <g transform=\"translate(7.2 55.065104)scale(0.1 -0.1)\">\r\n       <use xlink:href=\"#DejaVuSans-53\"/>\r\n       <use x=\"63.623047\" xlink:href=\"#DejaVuSans-48\"/>\r\n       <use x=\"127.246094\" xlink:href=\"#DejaVuSans-53\"/>\r\n      </g>\r\n     </g>\r\n    </g>\r\n    <g id=\"ytick_507\">\r\n     <g id=\"line2d_512\">\r\n      <g>\r\n       <use style=\"stroke:#000000;stroke-width:0.8;\" x=\"33.2875\" xlink:href=\"#m7d443d45af\" y=\"50.91574\"/>\r\n      </g>\r\n     </g>\r\n     <g id=\"text_512\">\r\n      <!-- 506 -->\r\n      <g transform=\"translate(7.2 54.714959)scale(0.1 -0.1)\">\r\n       <use xlink:href=\"#DejaVuSans-53\"/>\r\n       <use x=\"63.623047\" xlink:href=\"#DejaVuSans-48\"/>\r\n       <use x=\"127.246094\" xlink:href=\"#DejaVuSans-54\"/>\r\n      </g>\r\n     </g>\r\n    </g>\r\n    <g id=\"ytick_508\">\r\n     <g id=\"line2d_513\">\r\n      <g>\r\n       <use style=\"stroke:#000000;stroke-width:0.8;\" x=\"33.2875\" xlink:href=\"#m7d443d45af\" y=\"50.565596\"/>\r\n      </g>\r\n     </g>\r\n     <g id=\"text_513\">\r\n      <!-- 507 -->\r\n      <g transform=\"translate(7.2 54.364814)scale(0.1 -0.1)\">\r\n       <use xlink:href=\"#DejaVuSans-53\"/>\r\n       <use x=\"63.623047\" xlink:href=\"#DejaVuSans-48\"/>\r\n       <use x=\"127.246094\" xlink:href=\"#DejaVuSans-55\"/>\r\n      </g>\r\n     </g>\r\n    </g>\r\n    <g id=\"ytick_509\">\r\n     <g id=\"line2d_514\">\r\n      <g>\r\n       <use style=\"stroke:#000000;stroke-width:0.8;\" x=\"33.2875\" xlink:href=\"#m7d443d45af\" y=\"50.215451\"/>\r\n      </g>\r\n     </g>\r\n     <g id=\"text_514\">\r\n      <!-- 508 -->\r\n      <g transform=\"translate(7.2 54.014669)scale(0.1 -0.1)\">\r\n       <use xlink:href=\"#DejaVuSans-53\"/>\r\n       <use x=\"63.623047\" xlink:href=\"#DejaVuSans-48\"/>\r\n       <use x=\"127.246094\" xlink:href=\"#DejaVuSans-56\"/>\r\n      </g>\r\n     </g>\r\n    </g>\r\n    <g id=\"ytick_510\">\r\n     <g id=\"line2d_515\">\r\n      <g>\r\n       <use style=\"stroke:#000000;stroke-width:0.8;\" x=\"33.2875\" xlink:href=\"#m7d443d45af\" y=\"49.865306\"/>\r\n      </g>\r\n     </g>\r\n     <g id=\"text_515\">\r\n      <!-- 509 -->\r\n      <g transform=\"translate(7.2 53.664524)scale(0.1 -0.1)\">\r\n       <use xlink:href=\"#DejaVuSans-53\"/>\r\n       <use x=\"63.623047\" xlink:href=\"#DejaVuSans-48\"/>\r\n       <use x=\"127.246094\" xlink:href=\"#DejaVuSans-57\"/>\r\n      </g>\r\n     </g>\r\n    </g>\r\n    <g id=\"ytick_511\">\r\n     <g id=\"line2d_516\">\r\n      <g>\r\n       <use style=\"stroke:#000000;stroke-width:0.8;\" x=\"33.2875\" xlink:href=\"#m7d443d45af\" y=\"49.515161\"/>\r\n      </g>\r\n     </g>\r\n     <g id=\"text_516\">\r\n      <!-- 510 -->\r\n      <g transform=\"translate(7.2 53.31438)scale(0.1 -0.1)\">\r\n       <use xlink:href=\"#DejaVuSans-53\"/>\r\n       <use x=\"63.623047\" xlink:href=\"#DejaVuSans-49\"/>\r\n       <use x=\"127.246094\" xlink:href=\"#DejaVuSans-48\"/>\r\n      </g>\r\n     </g>\r\n    </g>\r\n    <g id=\"ytick_512\">\r\n     <g id=\"line2d_517\">\r\n      <g>\r\n       <use style=\"stroke:#000000;stroke-width:0.8;\" x=\"33.2875\" xlink:href=\"#m7d443d45af\" y=\"49.165016\"/>\r\n      </g>\r\n     </g>\r\n     <g id=\"text_517\">\r\n      <!-- 511 -->\r\n      <g transform=\"translate(7.2 52.964235)scale(0.1 -0.1)\">\r\n       <use xlink:href=\"#DejaVuSans-53\"/>\r\n       <use x=\"63.623047\" xlink:href=\"#DejaVuSans-49\"/>\r\n       <use x=\"127.246094\" xlink:href=\"#DejaVuSans-49\"/>\r\n      </g>\r\n     </g>\r\n    </g>\r\n    <g id=\"ytick_513\">\r\n     <g id=\"line2d_518\">\r\n      <g>\r\n       <use style=\"stroke:#000000;stroke-width:0.8;\" x=\"33.2875\" xlink:href=\"#m7d443d45af\" y=\"48.814871\"/>\r\n      </g>\r\n     </g>\r\n     <g id=\"text_518\">\r\n      <!-- 512 -->\r\n      <g transform=\"translate(7.2 52.61409)scale(0.1 -0.1)\">\r\n       <use xlink:href=\"#DejaVuSans-53\"/>\r\n       <use x=\"63.623047\" xlink:href=\"#DejaVuSans-49\"/>\r\n       <use x=\"127.246094\" xlink:href=\"#DejaVuSans-50\"/>\r\n      </g>\r\n     </g>\r\n    </g>\r\n    <g id=\"ytick_514\">\r\n     <g id=\"line2d_519\">\r\n      <g>\r\n       <use style=\"stroke:#000000;stroke-width:0.8;\" x=\"33.2875\" xlink:href=\"#m7d443d45af\" y=\"48.464726\"/>\r\n      </g>\r\n     </g>\r\n     <g id=\"text_519\">\r\n      <!-- 513 -->\r\n      <g transform=\"translate(7.2 52.263945)scale(0.1 -0.1)\">\r\n       <use xlink:href=\"#DejaVuSans-53\"/>\r\n       <use x=\"63.623047\" xlink:href=\"#DejaVuSans-49\"/>\r\n       <use x=\"127.246094\" xlink:href=\"#DejaVuSans-51\"/>\r\n      </g>\r\n     </g>\r\n    </g>\r\n    <g id=\"ytick_515\">\r\n     <g id=\"line2d_520\">\r\n      <g>\r\n       <use style=\"stroke:#000000;stroke-width:0.8;\" x=\"33.2875\" xlink:href=\"#m7d443d45af\" y=\"48.114581\"/>\r\n      </g>\r\n     </g>\r\n     <g id=\"text_520\">\r\n      <!-- 514 -->\r\n      <g transform=\"translate(7.2 51.9138)scale(0.1 -0.1)\">\r\n       <use xlink:href=\"#DejaVuSans-53\"/>\r\n       <use x=\"63.623047\" xlink:href=\"#DejaVuSans-49\"/>\r\n       <use x=\"127.246094\" xlink:href=\"#DejaVuSans-52\"/>\r\n      </g>\r\n     </g>\r\n    </g>\r\n    <g id=\"ytick_516\">\r\n     <g id=\"line2d_521\">\r\n      <g>\r\n       <use style=\"stroke:#000000;stroke-width:0.8;\" x=\"33.2875\" xlink:href=\"#m7d443d45af\" y=\"47.764436\"/>\r\n      </g>\r\n     </g>\r\n     <g id=\"text_521\">\r\n      <!-- 515 -->\r\n      <g transform=\"translate(7.2 51.563655)scale(0.1 -0.1)\">\r\n       <use xlink:href=\"#DejaVuSans-53\"/>\r\n       <use x=\"63.623047\" xlink:href=\"#DejaVuSans-49\"/>\r\n       <use x=\"127.246094\" xlink:href=\"#DejaVuSans-53\"/>\r\n      </g>\r\n     </g>\r\n    </g>\r\n    <g id=\"ytick_517\">\r\n     <g id=\"line2d_522\">\r\n      <g>\r\n       <use style=\"stroke:#000000;stroke-width:0.8;\" x=\"33.2875\" xlink:href=\"#m7d443d45af\" y=\"47.414291\"/>\r\n      </g>\r\n     </g>\r\n     <g id=\"text_522\">\r\n      <!-- 516 -->\r\n      <g transform=\"translate(7.2 51.21351)scale(0.1 -0.1)\">\r\n       <use xlink:href=\"#DejaVuSans-53\"/>\r\n       <use x=\"63.623047\" xlink:href=\"#DejaVuSans-49\"/>\r\n       <use x=\"127.246094\" xlink:href=\"#DejaVuSans-54\"/>\r\n      </g>\r\n     </g>\r\n    </g>\r\n    <g id=\"ytick_518\">\r\n     <g id=\"line2d_523\">\r\n      <g>\r\n       <use style=\"stroke:#000000;stroke-width:0.8;\" x=\"33.2875\" xlink:href=\"#m7d443d45af\" y=\"47.064146\"/>\r\n      </g>\r\n     </g>\r\n     <g id=\"text_523\">\r\n      <!-- 517 -->\r\n      <g transform=\"translate(7.2 50.863365)scale(0.1 -0.1)\">\r\n       <use xlink:href=\"#DejaVuSans-53\"/>\r\n       <use x=\"63.623047\" xlink:href=\"#DejaVuSans-49\"/>\r\n       <use x=\"127.246094\" xlink:href=\"#DejaVuSans-55\"/>\r\n      </g>\r\n     </g>\r\n    </g>\r\n    <g id=\"ytick_519\">\r\n     <g id=\"line2d_524\">\r\n      <g>\r\n       <use style=\"stroke:#000000;stroke-width:0.8;\" x=\"33.2875\" xlink:href=\"#m7d443d45af\" y=\"46.714001\"/>\r\n      </g>\r\n     </g>\r\n     <g id=\"text_524\">\r\n      <!-- 518 -->\r\n      <g transform=\"translate(7.2 50.51322)scale(0.1 -0.1)\">\r\n       <use xlink:href=\"#DejaVuSans-53\"/>\r\n       <use x=\"63.623047\" xlink:href=\"#DejaVuSans-49\"/>\r\n       <use x=\"127.246094\" xlink:href=\"#DejaVuSans-56\"/>\r\n      </g>\r\n     </g>\r\n    </g>\r\n    <g id=\"ytick_520\">\r\n     <g id=\"line2d_525\">\r\n      <g>\r\n       <use style=\"stroke:#000000;stroke-width:0.8;\" x=\"33.2875\" xlink:href=\"#m7d443d45af\" y=\"46.363856\"/>\r\n      </g>\r\n     </g>\r\n     <g id=\"text_525\">\r\n      <!-- 519 -->\r\n      <g transform=\"translate(7.2 50.163075)scale(0.1 -0.1)\">\r\n       <use xlink:href=\"#DejaVuSans-53\"/>\r\n       <use x=\"63.623047\" xlink:href=\"#DejaVuSans-49\"/>\r\n       <use x=\"127.246094\" xlink:href=\"#DejaVuSans-57\"/>\r\n      </g>\r\n     </g>\r\n    </g>\r\n    <g id=\"ytick_521\">\r\n     <g id=\"line2d_526\">\r\n      <g>\r\n       <use style=\"stroke:#000000;stroke-width:0.8;\" x=\"33.2875\" xlink:href=\"#m7d443d45af\" y=\"46.013712\"/>\r\n      </g>\r\n     </g>\r\n     <g id=\"text_526\">\r\n      <!-- 520 -->\r\n      <g transform=\"translate(7.2 49.81293)scale(0.1 -0.1)\">\r\n       <use xlink:href=\"#DejaVuSans-53\"/>\r\n       <use x=\"63.623047\" xlink:href=\"#DejaVuSans-50\"/>\r\n       <use x=\"127.246094\" xlink:href=\"#DejaVuSans-48\"/>\r\n      </g>\r\n     </g>\r\n    </g>\r\n    <g id=\"ytick_522\">\r\n     <g id=\"line2d_527\">\r\n      <g>\r\n       <use style=\"stroke:#000000;stroke-width:0.8;\" x=\"33.2875\" xlink:href=\"#m7d443d45af\" y=\"45.663567\"/>\r\n      </g>\r\n     </g>\r\n     <g id=\"text_527\">\r\n      <!-- 521 -->\r\n      <g transform=\"translate(7.2 49.462785)scale(0.1 -0.1)\">\r\n       <use xlink:href=\"#DejaVuSans-53\"/>\r\n       <use x=\"63.623047\" xlink:href=\"#DejaVuSans-50\"/>\r\n       <use x=\"127.246094\" xlink:href=\"#DejaVuSans-49\"/>\r\n      </g>\r\n     </g>\r\n    </g>\r\n    <g id=\"ytick_523\">\r\n     <g id=\"line2d_528\">\r\n      <g>\r\n       <use style=\"stroke:#000000;stroke-width:0.8;\" x=\"33.2875\" xlink:href=\"#m7d443d45af\" y=\"45.313422\"/>\r\n      </g>\r\n     </g>\r\n     <g id=\"text_528\">\r\n      <!-- 522 -->\r\n      <g transform=\"translate(7.2 49.11264)scale(0.1 -0.1)\">\r\n       <use xlink:href=\"#DejaVuSans-53\"/>\r\n       <use x=\"63.623047\" xlink:href=\"#DejaVuSans-50\"/>\r\n       <use x=\"127.246094\" xlink:href=\"#DejaVuSans-50\"/>\r\n      </g>\r\n     </g>\r\n    </g>\r\n    <g id=\"ytick_524\">\r\n     <g id=\"line2d_529\">\r\n      <g>\r\n       <use style=\"stroke:#000000;stroke-width:0.8;\" x=\"33.2875\" xlink:href=\"#m7d443d45af\" y=\"44.963277\"/>\r\n      </g>\r\n     </g>\r\n     <g id=\"text_529\">\r\n      <!-- 523 -->\r\n      <g transform=\"translate(7.2 48.762495)scale(0.1 -0.1)\">\r\n       <use xlink:href=\"#DejaVuSans-53\"/>\r\n       <use x=\"63.623047\" xlink:href=\"#DejaVuSans-50\"/>\r\n       <use x=\"127.246094\" xlink:href=\"#DejaVuSans-51\"/>\r\n      </g>\r\n     </g>\r\n    </g>\r\n    <g id=\"ytick_525\">\r\n     <g id=\"line2d_530\">\r\n      <g>\r\n       <use style=\"stroke:#000000;stroke-width:0.8;\" x=\"33.2875\" xlink:href=\"#m7d443d45af\" y=\"44.613132\"/>\r\n      </g>\r\n     </g>\r\n     <g id=\"text_530\">\r\n      <!-- 524 -->\r\n      <g transform=\"translate(7.2 48.412351)scale(0.1 -0.1)\">\r\n       <use xlink:href=\"#DejaVuSans-53\"/>\r\n       <use x=\"63.623047\" xlink:href=\"#DejaVuSans-50\"/>\r\n       <use x=\"127.246094\" xlink:href=\"#DejaVuSans-52\"/>\r\n      </g>\r\n     </g>\r\n    </g>\r\n    <g id=\"ytick_526\">\r\n     <g id=\"line2d_531\">\r\n      <g>\r\n       <use style=\"stroke:#000000;stroke-width:0.8;\" x=\"33.2875\" xlink:href=\"#m7d443d45af\" y=\"44.262987\"/>\r\n      </g>\r\n     </g>\r\n     <g id=\"text_531\">\r\n      <!-- 525 -->\r\n      <g transform=\"translate(7.2 48.062206)scale(0.1 -0.1)\">\r\n       <use xlink:href=\"#DejaVuSans-53\"/>\r\n       <use x=\"63.623047\" xlink:href=\"#DejaVuSans-50\"/>\r\n       <use x=\"127.246094\" xlink:href=\"#DejaVuSans-53\"/>\r\n      </g>\r\n     </g>\r\n    </g>\r\n    <g id=\"ytick_527\">\r\n     <g id=\"line2d_532\">\r\n      <g>\r\n       <use style=\"stroke:#000000;stroke-width:0.8;\" x=\"33.2875\" xlink:href=\"#m7d443d45af\" y=\"43.912842\"/>\r\n      </g>\r\n     </g>\r\n     <g id=\"text_532\">\r\n      <!-- 526 -->\r\n      <g transform=\"translate(7.2 47.712061)scale(0.1 -0.1)\">\r\n       <use xlink:href=\"#DejaVuSans-53\"/>\r\n       <use x=\"63.623047\" xlink:href=\"#DejaVuSans-50\"/>\r\n       <use x=\"127.246094\" xlink:href=\"#DejaVuSans-54\"/>\r\n      </g>\r\n     </g>\r\n    </g>\r\n    <g id=\"ytick_528\">\r\n     <g id=\"line2d_533\">\r\n      <g>\r\n       <use style=\"stroke:#000000;stroke-width:0.8;\" x=\"33.2875\" xlink:href=\"#m7d443d45af\" y=\"43.562697\"/>\r\n      </g>\r\n     </g>\r\n     <g id=\"text_533\">\r\n      <!-- 527 -->\r\n      <g transform=\"translate(7.2 47.361916)scale(0.1 -0.1)\">\r\n       <use xlink:href=\"#DejaVuSans-53\"/>\r\n       <use x=\"63.623047\" xlink:href=\"#DejaVuSans-50\"/>\r\n       <use x=\"127.246094\" xlink:href=\"#DejaVuSans-55\"/>\r\n      </g>\r\n     </g>\r\n    </g>\r\n    <g id=\"ytick_529\">\r\n     <g id=\"line2d_534\">\r\n      <g>\r\n       <use style=\"stroke:#000000;stroke-width:0.8;\" x=\"33.2875\" xlink:href=\"#m7d443d45af\" y=\"43.212552\"/>\r\n      </g>\r\n     </g>\r\n     <g id=\"text_534\">\r\n      <!-- 528 -->\r\n      <g transform=\"translate(7.2 47.011771)scale(0.1 -0.1)\">\r\n       <use xlink:href=\"#DejaVuSans-53\"/>\r\n       <use x=\"63.623047\" xlink:href=\"#DejaVuSans-50\"/>\r\n       <use x=\"127.246094\" xlink:href=\"#DejaVuSans-56\"/>\r\n      </g>\r\n     </g>\r\n    </g>\r\n    <g id=\"ytick_530\">\r\n     <g id=\"line2d_535\">\r\n      <g>\r\n       <use style=\"stroke:#000000;stroke-width:0.8;\" x=\"33.2875\" xlink:href=\"#m7d443d45af\" y=\"42.862407\"/>\r\n      </g>\r\n     </g>\r\n     <g id=\"text_535\">\r\n      <!-- 529 -->\r\n      <g transform=\"translate(7.2 46.661626)scale(0.1 -0.1)\">\r\n       <use xlink:href=\"#DejaVuSans-53\"/>\r\n       <use x=\"63.623047\" xlink:href=\"#DejaVuSans-50\"/>\r\n       <use x=\"127.246094\" xlink:href=\"#DejaVuSans-57\"/>\r\n      </g>\r\n     </g>\r\n    </g>\r\n    <g id=\"ytick_531\">\r\n     <g id=\"line2d_536\">\r\n      <g>\r\n       <use style=\"stroke:#000000;stroke-width:0.8;\" x=\"33.2875\" xlink:href=\"#m7d443d45af\" y=\"42.512262\"/>\r\n      </g>\r\n     </g>\r\n     <g id=\"text_536\">\r\n      <!-- 530 -->\r\n      <g transform=\"translate(7.2 46.311481)scale(0.1 -0.1)\">\r\n       <use xlink:href=\"#DejaVuSans-53\"/>\r\n       <use x=\"63.623047\" xlink:href=\"#DejaVuSans-51\"/>\r\n       <use x=\"127.246094\" xlink:href=\"#DejaVuSans-48\"/>\r\n      </g>\r\n     </g>\r\n    </g>\r\n    <g id=\"ytick_532\">\r\n     <g id=\"line2d_537\">\r\n      <g>\r\n       <use style=\"stroke:#000000;stroke-width:0.8;\" x=\"33.2875\" xlink:href=\"#m7d443d45af\" y=\"42.162117\"/>\r\n      </g>\r\n     </g>\r\n     <g id=\"text_537\">\r\n      <!-- 531 -->\r\n      <g transform=\"translate(7.2 45.961336)scale(0.1 -0.1)\">\r\n       <use xlink:href=\"#DejaVuSans-53\"/>\r\n       <use x=\"63.623047\" xlink:href=\"#DejaVuSans-51\"/>\r\n       <use x=\"127.246094\" xlink:href=\"#DejaVuSans-49\"/>\r\n      </g>\r\n     </g>\r\n    </g>\r\n    <g id=\"ytick_533\">\r\n     <g id=\"line2d_538\">\r\n      <g>\r\n       <use style=\"stroke:#000000;stroke-width:0.8;\" x=\"33.2875\" xlink:href=\"#m7d443d45af\" y=\"41.811972\"/>\r\n      </g>\r\n     </g>\r\n     <g id=\"text_538\">\r\n      <!-- 532 -->\r\n      <g transform=\"translate(7.2 45.611191)scale(0.1 -0.1)\">\r\n       <use xlink:href=\"#DejaVuSans-53\"/>\r\n       <use x=\"63.623047\" xlink:href=\"#DejaVuSans-51\"/>\r\n       <use x=\"127.246094\" xlink:href=\"#DejaVuSans-50\"/>\r\n      </g>\r\n     </g>\r\n    </g>\r\n    <g id=\"ytick_534\">\r\n     <g id=\"line2d_539\">\r\n      <g>\r\n       <use style=\"stroke:#000000;stroke-width:0.8;\" x=\"33.2875\" xlink:href=\"#m7d443d45af\" y=\"41.461827\"/>\r\n      </g>\r\n     </g>\r\n     <g id=\"text_539\">\r\n      <!-- 533 -->\r\n      <g transform=\"translate(7.2 45.261046)scale(0.1 -0.1)\">\r\n       <use xlink:href=\"#DejaVuSans-53\"/>\r\n       <use x=\"63.623047\" xlink:href=\"#DejaVuSans-51\"/>\r\n       <use x=\"127.246094\" xlink:href=\"#DejaVuSans-51\"/>\r\n      </g>\r\n     </g>\r\n    </g>\r\n    <g id=\"ytick_535\">\r\n     <g id=\"line2d_540\">\r\n      <g>\r\n       <use style=\"stroke:#000000;stroke-width:0.8;\" x=\"33.2875\" xlink:href=\"#m7d443d45af\" y=\"41.111683\"/>\r\n      </g>\r\n     </g>\r\n     <g id=\"text_540\">\r\n      <!-- 534 -->\r\n      <g transform=\"translate(7.2 44.910901)scale(0.1 -0.1)\">\r\n       <use xlink:href=\"#DejaVuSans-53\"/>\r\n       <use x=\"63.623047\" xlink:href=\"#DejaVuSans-51\"/>\r\n       <use x=\"127.246094\" xlink:href=\"#DejaVuSans-52\"/>\r\n      </g>\r\n     </g>\r\n    </g>\r\n    <g id=\"ytick_536\">\r\n     <g id=\"line2d_541\">\r\n      <g>\r\n       <use style=\"stroke:#000000;stroke-width:0.8;\" x=\"33.2875\" xlink:href=\"#m7d443d45af\" y=\"40.761538\"/>\r\n      </g>\r\n     </g>\r\n     <g id=\"text_541\">\r\n      <!-- 535 -->\r\n      <g transform=\"translate(7.2 44.560756)scale(0.1 -0.1)\">\r\n       <use xlink:href=\"#DejaVuSans-53\"/>\r\n       <use x=\"63.623047\" xlink:href=\"#DejaVuSans-51\"/>\r\n       <use x=\"127.246094\" xlink:href=\"#DejaVuSans-53\"/>\r\n      </g>\r\n     </g>\r\n    </g>\r\n    <g id=\"ytick_537\">\r\n     <g id=\"line2d_542\">\r\n      <g>\r\n       <use style=\"stroke:#000000;stroke-width:0.8;\" x=\"33.2875\" xlink:href=\"#m7d443d45af\" y=\"40.411393\"/>\r\n      </g>\r\n     </g>\r\n     <g id=\"text_542\">\r\n      <!-- 536 -->\r\n      <g transform=\"translate(7.2 44.210611)scale(0.1 -0.1)\">\r\n       <use xlink:href=\"#DejaVuSans-53\"/>\r\n       <use x=\"63.623047\" xlink:href=\"#DejaVuSans-51\"/>\r\n       <use x=\"127.246094\" xlink:href=\"#DejaVuSans-54\"/>\r\n      </g>\r\n     </g>\r\n    </g>\r\n    <g id=\"ytick_538\">\r\n     <g id=\"line2d_543\">\r\n      <g>\r\n       <use style=\"stroke:#000000;stroke-width:0.8;\" x=\"33.2875\" xlink:href=\"#m7d443d45af\" y=\"40.061248\"/>\r\n      </g>\r\n     </g>\r\n     <g id=\"text_543\">\r\n      <!-- 537 -->\r\n      <g transform=\"translate(7.2 43.860466)scale(0.1 -0.1)\">\r\n       <use xlink:href=\"#DejaVuSans-53\"/>\r\n       <use x=\"63.623047\" xlink:href=\"#DejaVuSans-51\"/>\r\n       <use x=\"127.246094\" xlink:href=\"#DejaVuSans-55\"/>\r\n      </g>\r\n     </g>\r\n    </g>\r\n    <g id=\"ytick_539\">\r\n     <g id=\"line2d_544\">\r\n      <g>\r\n       <use style=\"stroke:#000000;stroke-width:0.8;\" x=\"33.2875\" xlink:href=\"#m7d443d45af\" y=\"39.711103\"/>\r\n      </g>\r\n     </g>\r\n     <g id=\"text_544\">\r\n      <!-- 538 -->\r\n      <g transform=\"translate(7.2 43.510322)scale(0.1 -0.1)\">\r\n       <use xlink:href=\"#DejaVuSans-53\"/>\r\n       <use x=\"63.623047\" xlink:href=\"#DejaVuSans-51\"/>\r\n       <use x=\"127.246094\" xlink:href=\"#DejaVuSans-56\"/>\r\n      </g>\r\n     </g>\r\n    </g>\r\n    <g id=\"ytick_540\">\r\n     <g id=\"line2d_545\">\r\n      <g>\r\n       <use style=\"stroke:#000000;stroke-width:0.8;\" x=\"33.2875\" xlink:href=\"#m7d443d45af\" y=\"39.360958\"/>\r\n      </g>\r\n     </g>\r\n     <g id=\"text_545\">\r\n      <!-- 539 -->\r\n      <g transform=\"translate(7.2 43.160177)scale(0.1 -0.1)\">\r\n       <use xlink:href=\"#DejaVuSans-53\"/>\r\n       <use x=\"63.623047\" xlink:href=\"#DejaVuSans-51\"/>\r\n       <use x=\"127.246094\" xlink:href=\"#DejaVuSans-57\"/>\r\n      </g>\r\n     </g>\r\n    </g>\r\n    <g id=\"ytick_541\">\r\n     <g id=\"line2d_546\">\r\n      <g>\r\n       <use style=\"stroke:#000000;stroke-width:0.8;\" x=\"33.2875\" xlink:href=\"#m7d443d45af\" y=\"39.010813\"/>\r\n      </g>\r\n     </g>\r\n     <g id=\"text_546\">\r\n      <!-- 540 -->\r\n      <g transform=\"translate(7.2 42.810032)scale(0.1 -0.1)\">\r\n       <use xlink:href=\"#DejaVuSans-53\"/>\r\n       <use x=\"63.623047\" xlink:href=\"#DejaVuSans-52\"/>\r\n       <use x=\"127.246094\" xlink:href=\"#DejaVuSans-48\"/>\r\n      </g>\r\n     </g>\r\n    </g>\r\n    <g id=\"ytick_542\">\r\n     <g id=\"line2d_547\">\r\n      <g>\r\n       <use style=\"stroke:#000000;stroke-width:0.8;\" x=\"33.2875\" xlink:href=\"#m7d443d45af\" y=\"38.660668\"/>\r\n      </g>\r\n     </g>\r\n     <g id=\"text_547\">\r\n      <!-- 541 -->\r\n      <g transform=\"translate(7.2 42.459887)scale(0.1 -0.1)\">\r\n       <use xlink:href=\"#DejaVuSans-53\"/>\r\n       <use x=\"63.623047\" xlink:href=\"#DejaVuSans-52\"/>\r\n       <use x=\"127.246094\" xlink:href=\"#DejaVuSans-49\"/>\r\n      </g>\r\n     </g>\r\n    </g>\r\n    <g id=\"ytick_543\">\r\n     <g id=\"line2d_548\">\r\n      <g>\r\n       <use style=\"stroke:#000000;stroke-width:0.8;\" x=\"33.2875\" xlink:href=\"#m7d443d45af\" y=\"38.310523\"/>\r\n      </g>\r\n     </g>\r\n     <g id=\"text_548\">\r\n      <!-- 542 -->\r\n      <g transform=\"translate(7.2 42.109742)scale(0.1 -0.1)\">\r\n       <use xlink:href=\"#DejaVuSans-53\"/>\r\n       <use x=\"63.623047\" xlink:href=\"#DejaVuSans-52\"/>\r\n       <use x=\"127.246094\" xlink:href=\"#DejaVuSans-50\"/>\r\n      </g>\r\n     </g>\r\n    </g>\r\n    <g id=\"ytick_544\">\r\n     <g id=\"line2d_549\">\r\n      <g>\r\n       <use style=\"stroke:#000000;stroke-width:0.8;\" x=\"33.2875\" xlink:href=\"#m7d443d45af\" y=\"37.960378\"/>\r\n      </g>\r\n     </g>\r\n     <g id=\"text_549\">\r\n      <!-- 543 -->\r\n      <g transform=\"translate(7.2 41.759597)scale(0.1 -0.1)\">\r\n       <use xlink:href=\"#DejaVuSans-53\"/>\r\n       <use x=\"63.623047\" xlink:href=\"#DejaVuSans-52\"/>\r\n       <use x=\"127.246094\" xlink:href=\"#DejaVuSans-51\"/>\r\n      </g>\r\n     </g>\r\n    </g>\r\n    <g id=\"ytick_545\">\r\n     <g id=\"line2d_550\">\r\n      <g>\r\n       <use style=\"stroke:#000000;stroke-width:0.8;\" x=\"33.2875\" xlink:href=\"#m7d443d45af\" y=\"37.610233\"/>\r\n      </g>\r\n     </g>\r\n     <g id=\"text_550\">\r\n      <!-- 544 -->\r\n      <g transform=\"translate(7.2 41.409452)scale(0.1 -0.1)\">\r\n       <use xlink:href=\"#DejaVuSans-53\"/>\r\n       <use x=\"63.623047\" xlink:href=\"#DejaVuSans-52\"/>\r\n       <use x=\"127.246094\" xlink:href=\"#DejaVuSans-52\"/>\r\n      </g>\r\n     </g>\r\n    </g>\r\n    <g id=\"ytick_546\">\r\n     <g id=\"line2d_551\">\r\n      <g>\r\n       <use style=\"stroke:#000000;stroke-width:0.8;\" x=\"33.2875\" xlink:href=\"#m7d443d45af\" y=\"37.260088\"/>\r\n      </g>\r\n     </g>\r\n     <g id=\"text_551\">\r\n      <!-- 545 -->\r\n      <g transform=\"translate(7.2 41.059307)scale(0.1 -0.1)\">\r\n       <use xlink:href=\"#DejaVuSans-53\"/>\r\n       <use x=\"63.623047\" xlink:href=\"#DejaVuSans-52\"/>\r\n       <use x=\"127.246094\" xlink:href=\"#DejaVuSans-53\"/>\r\n      </g>\r\n     </g>\r\n    </g>\r\n    <g id=\"ytick_547\">\r\n     <g id=\"line2d_552\">\r\n      <g>\r\n       <use style=\"stroke:#000000;stroke-width:0.8;\" x=\"33.2875\" xlink:href=\"#m7d443d45af\" y=\"36.909943\"/>\r\n      </g>\r\n     </g>\r\n     <g id=\"text_552\">\r\n      <!-- 546 -->\r\n      <g transform=\"translate(7.2 40.709162)scale(0.1 -0.1)\">\r\n       <use xlink:href=\"#DejaVuSans-53\"/>\r\n       <use x=\"63.623047\" xlink:href=\"#DejaVuSans-52\"/>\r\n       <use x=\"127.246094\" xlink:href=\"#DejaVuSans-54\"/>\r\n      </g>\r\n     </g>\r\n    </g>\r\n    <g id=\"ytick_548\">\r\n     <g id=\"line2d_553\">\r\n      <g>\r\n       <use style=\"stroke:#000000;stroke-width:0.8;\" x=\"33.2875\" xlink:href=\"#m7d443d45af\" y=\"36.559798\"/>\r\n      </g>\r\n     </g>\r\n     <g id=\"text_553\">\r\n      <!-- 547 -->\r\n      <g transform=\"translate(7.2 40.359017)scale(0.1 -0.1)\">\r\n       <use xlink:href=\"#DejaVuSans-53\"/>\r\n       <use x=\"63.623047\" xlink:href=\"#DejaVuSans-52\"/>\r\n       <use x=\"127.246094\" xlink:href=\"#DejaVuSans-55\"/>\r\n      </g>\r\n     </g>\r\n    </g>\r\n    <g id=\"ytick_549\">\r\n     <g id=\"line2d_554\">\r\n      <g>\r\n       <use style=\"stroke:#000000;stroke-width:0.8;\" x=\"33.2875\" xlink:href=\"#m7d443d45af\" y=\"36.209654\"/>\r\n      </g>\r\n     </g>\r\n     <g id=\"text_554\">\r\n      <!-- 548 -->\r\n      <g transform=\"translate(7.2 40.008872)scale(0.1 -0.1)\">\r\n       <use xlink:href=\"#DejaVuSans-53\"/>\r\n       <use x=\"63.623047\" xlink:href=\"#DejaVuSans-52\"/>\r\n       <use x=\"127.246094\" xlink:href=\"#DejaVuSans-56\"/>\r\n      </g>\r\n     </g>\r\n    </g>\r\n    <g id=\"ytick_550\">\r\n     <g id=\"line2d_555\">\r\n      <g>\r\n       <use style=\"stroke:#000000;stroke-width:0.8;\" x=\"33.2875\" xlink:href=\"#m7d443d45af\" y=\"35.859509\"/>\r\n      </g>\r\n     </g>\r\n     <g id=\"text_555\">\r\n      <!-- 549 -->\r\n      <g transform=\"translate(7.2 39.658727)scale(0.1 -0.1)\">\r\n       <use xlink:href=\"#DejaVuSans-53\"/>\r\n       <use x=\"63.623047\" xlink:href=\"#DejaVuSans-52\"/>\r\n       <use x=\"127.246094\" xlink:href=\"#DejaVuSans-57\"/>\r\n      </g>\r\n     </g>\r\n    </g>\r\n    <g id=\"ytick_551\">\r\n     <g id=\"line2d_556\">\r\n      <g>\r\n       <use style=\"stroke:#000000;stroke-width:0.8;\" x=\"33.2875\" xlink:href=\"#m7d443d45af\" y=\"35.509364\"/>\r\n      </g>\r\n     </g>\r\n     <g id=\"text_556\">\r\n      <!-- 550 -->\r\n      <g transform=\"translate(7.2 39.308582)scale(0.1 -0.1)\">\r\n       <use xlink:href=\"#DejaVuSans-53\"/>\r\n       <use x=\"63.623047\" xlink:href=\"#DejaVuSans-53\"/>\r\n       <use x=\"127.246094\" xlink:href=\"#DejaVuSans-48\"/>\r\n      </g>\r\n     </g>\r\n    </g>\r\n    <g id=\"ytick_552\">\r\n     <g id=\"line2d_557\">\r\n      <g>\r\n       <use style=\"stroke:#000000;stroke-width:0.8;\" x=\"33.2875\" xlink:href=\"#m7d443d45af\" y=\"35.159219\"/>\r\n      </g>\r\n     </g>\r\n     <g id=\"text_557\">\r\n      <!-- 551 -->\r\n      <g transform=\"translate(7.2 38.958437)scale(0.1 -0.1)\">\r\n       <use xlink:href=\"#DejaVuSans-53\"/>\r\n       <use x=\"63.623047\" xlink:href=\"#DejaVuSans-53\"/>\r\n       <use x=\"127.246094\" xlink:href=\"#DejaVuSans-49\"/>\r\n      </g>\r\n     </g>\r\n    </g>\r\n    <g id=\"ytick_553\">\r\n     <g id=\"line2d_558\">\r\n      <g>\r\n       <use style=\"stroke:#000000;stroke-width:0.8;\" x=\"33.2875\" xlink:href=\"#m7d443d45af\" y=\"34.809074\"/>\r\n      </g>\r\n     </g>\r\n     <g id=\"text_558\">\r\n      <!-- 552 -->\r\n      <g transform=\"translate(7.2 38.608293)scale(0.1 -0.1)\">\r\n       <use xlink:href=\"#DejaVuSans-53\"/>\r\n       <use x=\"63.623047\" xlink:href=\"#DejaVuSans-53\"/>\r\n       <use x=\"127.246094\" xlink:href=\"#DejaVuSans-50\"/>\r\n      </g>\r\n     </g>\r\n    </g>\r\n    <g id=\"ytick_554\">\r\n     <g id=\"line2d_559\">\r\n      <g>\r\n       <use style=\"stroke:#000000;stroke-width:0.8;\" x=\"33.2875\" xlink:href=\"#m7d443d45af\" y=\"34.458929\"/>\r\n      </g>\r\n     </g>\r\n     <g id=\"text_559\">\r\n      <!-- 553 -->\r\n      <g transform=\"translate(7.2 38.258148)scale(0.1 -0.1)\">\r\n       <use xlink:href=\"#DejaVuSans-53\"/>\r\n       <use x=\"63.623047\" xlink:href=\"#DejaVuSans-53\"/>\r\n       <use x=\"127.246094\" xlink:href=\"#DejaVuSans-51\"/>\r\n      </g>\r\n     </g>\r\n    </g>\r\n    <g id=\"ytick_555\">\r\n     <g id=\"line2d_560\">\r\n      <g>\r\n       <use style=\"stroke:#000000;stroke-width:0.8;\" x=\"33.2875\" xlink:href=\"#m7d443d45af\" y=\"34.108784\"/>\r\n      </g>\r\n     </g>\r\n     <g id=\"text_560\">\r\n      <!-- 554 -->\r\n      <g transform=\"translate(7.2 37.908003)scale(0.1 -0.1)\">\r\n       <use xlink:href=\"#DejaVuSans-53\"/>\r\n       <use x=\"63.623047\" xlink:href=\"#DejaVuSans-53\"/>\r\n       <use x=\"127.246094\" xlink:href=\"#DejaVuSans-52\"/>\r\n      </g>\r\n     </g>\r\n    </g>\r\n    <g id=\"ytick_556\">\r\n     <g id=\"line2d_561\">\r\n      <g>\r\n       <use style=\"stroke:#000000;stroke-width:0.8;\" x=\"33.2875\" xlink:href=\"#m7d443d45af\" y=\"33.758639\"/>\r\n      </g>\r\n     </g>\r\n     <g id=\"text_561\">\r\n      <!-- 555 -->\r\n      <g transform=\"translate(7.2 37.557858)scale(0.1 -0.1)\">\r\n       <use xlink:href=\"#DejaVuSans-53\"/>\r\n       <use x=\"63.623047\" xlink:href=\"#DejaVuSans-53\"/>\r\n       <use x=\"127.246094\" xlink:href=\"#DejaVuSans-53\"/>\r\n      </g>\r\n     </g>\r\n    </g>\r\n    <g id=\"ytick_557\">\r\n     <g id=\"line2d_562\">\r\n      <g>\r\n       <use style=\"stroke:#000000;stroke-width:0.8;\" x=\"33.2875\" xlink:href=\"#m7d443d45af\" y=\"33.408494\"/>\r\n      </g>\r\n     </g>\r\n     <g id=\"text_562\">\r\n      <!-- 556 -->\r\n      <g transform=\"translate(7.2 37.207713)scale(0.1 -0.1)\">\r\n       <use xlink:href=\"#DejaVuSans-53\"/>\r\n       <use x=\"63.623047\" xlink:href=\"#DejaVuSans-53\"/>\r\n       <use x=\"127.246094\" xlink:href=\"#DejaVuSans-54\"/>\r\n      </g>\r\n     </g>\r\n    </g>\r\n    <g id=\"ytick_558\">\r\n     <g id=\"line2d_563\">\r\n      <g>\r\n       <use style=\"stroke:#000000;stroke-width:0.8;\" x=\"33.2875\" xlink:href=\"#m7d443d45af\" y=\"33.058349\"/>\r\n      </g>\r\n     </g>\r\n     <g id=\"text_563\">\r\n      <!-- 557 -->\r\n      <g transform=\"translate(7.2 36.857568)scale(0.1 -0.1)\">\r\n       <use xlink:href=\"#DejaVuSans-53\"/>\r\n       <use x=\"63.623047\" xlink:href=\"#DejaVuSans-53\"/>\r\n       <use x=\"127.246094\" xlink:href=\"#DejaVuSans-55\"/>\r\n      </g>\r\n     </g>\r\n    </g>\r\n    <g id=\"ytick_559\">\r\n     <g id=\"line2d_564\">\r\n      <g>\r\n       <use style=\"stroke:#000000;stroke-width:0.8;\" x=\"33.2875\" xlink:href=\"#m7d443d45af\" y=\"32.708204\"/>\r\n      </g>\r\n     </g>\r\n     <g id=\"text_564\">\r\n      <!-- 558 -->\r\n      <g transform=\"translate(7.2 36.507423)scale(0.1 -0.1)\">\r\n       <use xlink:href=\"#DejaVuSans-53\"/>\r\n       <use x=\"63.623047\" xlink:href=\"#DejaVuSans-53\"/>\r\n       <use x=\"127.246094\" xlink:href=\"#DejaVuSans-56\"/>\r\n      </g>\r\n     </g>\r\n    </g>\r\n    <g id=\"ytick_560\">\r\n     <g id=\"line2d_565\">\r\n      <g>\r\n       <use style=\"stroke:#000000;stroke-width:0.8;\" x=\"33.2875\" xlink:href=\"#m7d443d45af\" y=\"32.358059\"/>\r\n      </g>\r\n     </g>\r\n     <g id=\"text_565\">\r\n      <!-- 559 -->\r\n      <g transform=\"translate(7.2 36.157278)scale(0.1 -0.1)\">\r\n       <use xlink:href=\"#DejaVuSans-53\"/>\r\n       <use x=\"63.623047\" xlink:href=\"#DejaVuSans-53\"/>\r\n       <use x=\"127.246094\" xlink:href=\"#DejaVuSans-57\"/>\r\n      </g>\r\n     </g>\r\n    </g>\r\n    <g id=\"ytick_561\">\r\n     <g id=\"line2d_566\">\r\n      <g>\r\n       <use style=\"stroke:#000000;stroke-width:0.8;\" x=\"33.2875\" xlink:href=\"#m7d443d45af\" y=\"32.007914\"/>\r\n      </g>\r\n     </g>\r\n     <g id=\"text_566\">\r\n      <!-- 560 -->\r\n      <g transform=\"translate(7.2 35.807133)scale(0.1 -0.1)\">\r\n       <use xlink:href=\"#DejaVuSans-53\"/>\r\n       <use x=\"63.623047\" xlink:href=\"#DejaVuSans-54\"/>\r\n       <use x=\"127.246094\" xlink:href=\"#DejaVuSans-48\"/>\r\n      </g>\r\n     </g>\r\n    </g>\r\n    <g id=\"ytick_562\">\r\n     <g id=\"line2d_567\">\r\n      <g>\r\n       <use style=\"stroke:#000000;stroke-width:0.8;\" x=\"33.2875\" xlink:href=\"#m7d443d45af\" y=\"31.657769\"/>\r\n      </g>\r\n     </g>\r\n     <g id=\"text_567\">\r\n      <!-- 561 -->\r\n      <g transform=\"translate(7.2 35.456988)scale(0.1 -0.1)\">\r\n       <use xlink:href=\"#DejaVuSans-53\"/>\r\n       <use x=\"63.623047\" xlink:href=\"#DejaVuSans-54\"/>\r\n       <use x=\"127.246094\" xlink:href=\"#DejaVuSans-49\"/>\r\n      </g>\r\n     </g>\r\n    </g>\r\n    <g id=\"ytick_563\">\r\n     <g id=\"line2d_568\">\r\n      <g>\r\n       <use style=\"stroke:#000000;stroke-width:0.8;\" x=\"33.2875\" xlink:href=\"#m7d443d45af\" y=\"31.307625\"/>\r\n      </g>\r\n     </g>\r\n     <g id=\"text_568\">\r\n      <!-- 562 -->\r\n      <g transform=\"translate(7.2 35.106843)scale(0.1 -0.1)\">\r\n       <use xlink:href=\"#DejaVuSans-53\"/>\r\n       <use x=\"63.623047\" xlink:href=\"#DejaVuSans-54\"/>\r\n       <use x=\"127.246094\" xlink:href=\"#DejaVuSans-50\"/>\r\n      </g>\r\n     </g>\r\n    </g>\r\n    <g id=\"ytick_564\">\r\n     <g id=\"line2d_569\">\r\n      <g>\r\n       <use style=\"stroke:#000000;stroke-width:0.8;\" x=\"33.2875\" xlink:href=\"#m7d443d45af\" y=\"30.95748\"/>\r\n      </g>\r\n     </g>\r\n     <g id=\"text_569\">\r\n      <!-- 563 -->\r\n      <g transform=\"translate(7.2 34.756698)scale(0.1 -0.1)\">\r\n       <use xlink:href=\"#DejaVuSans-53\"/>\r\n       <use x=\"63.623047\" xlink:href=\"#DejaVuSans-54\"/>\r\n       <use x=\"127.246094\" xlink:href=\"#DejaVuSans-51\"/>\r\n      </g>\r\n     </g>\r\n    </g>\r\n    <g id=\"ytick_565\">\r\n     <g id=\"line2d_570\">\r\n      <g>\r\n       <use style=\"stroke:#000000;stroke-width:0.8;\" x=\"33.2875\" xlink:href=\"#m7d443d45af\" y=\"30.607335\"/>\r\n      </g>\r\n     </g>\r\n     <g id=\"text_570\">\r\n      <!-- 564 -->\r\n      <g transform=\"translate(7.2 34.406553)scale(0.1 -0.1)\">\r\n       <use xlink:href=\"#DejaVuSans-53\"/>\r\n       <use x=\"63.623047\" xlink:href=\"#DejaVuSans-54\"/>\r\n       <use x=\"127.246094\" xlink:href=\"#DejaVuSans-52\"/>\r\n      </g>\r\n     </g>\r\n    </g>\r\n    <g id=\"ytick_566\">\r\n     <g id=\"line2d_571\">\r\n      <g>\r\n       <use style=\"stroke:#000000;stroke-width:0.8;\" x=\"33.2875\" xlink:href=\"#m7d443d45af\" y=\"30.25719\"/>\r\n      </g>\r\n     </g>\r\n     <g id=\"text_571\">\r\n      <!-- 565 -->\r\n      <g transform=\"translate(7.2 34.056409)scale(0.1 -0.1)\">\r\n       <use xlink:href=\"#DejaVuSans-53\"/>\r\n       <use x=\"63.623047\" xlink:href=\"#DejaVuSans-54\"/>\r\n       <use x=\"127.246094\" xlink:href=\"#DejaVuSans-53\"/>\r\n      </g>\r\n     </g>\r\n    </g>\r\n    <g id=\"ytick_567\">\r\n     <g id=\"line2d_572\">\r\n      <g>\r\n       <use style=\"stroke:#000000;stroke-width:0.8;\" x=\"33.2875\" xlink:href=\"#m7d443d45af\" y=\"29.907045\"/>\r\n      </g>\r\n     </g>\r\n     <g id=\"text_572\">\r\n      <!-- 566 -->\r\n      <g transform=\"translate(7.2 33.706264)scale(0.1 -0.1)\">\r\n       <use xlink:href=\"#DejaVuSans-53\"/>\r\n       <use x=\"63.623047\" xlink:href=\"#DejaVuSans-54\"/>\r\n       <use x=\"127.246094\" xlink:href=\"#DejaVuSans-54\"/>\r\n      </g>\r\n     </g>\r\n    </g>\r\n    <g id=\"ytick_568\">\r\n     <g id=\"line2d_573\">\r\n      <g>\r\n       <use style=\"stroke:#000000;stroke-width:0.8;\" x=\"33.2875\" xlink:href=\"#m7d443d45af\" y=\"29.5569\"/>\r\n      </g>\r\n     </g>\r\n     <g id=\"text_573\">\r\n      <!-- 567 -->\r\n      <g transform=\"translate(7.2 33.356119)scale(0.1 -0.1)\">\r\n       <use xlink:href=\"#DejaVuSans-53\"/>\r\n       <use x=\"63.623047\" xlink:href=\"#DejaVuSans-54\"/>\r\n       <use x=\"127.246094\" xlink:href=\"#DejaVuSans-55\"/>\r\n      </g>\r\n     </g>\r\n    </g>\r\n    <g id=\"ytick_569\">\r\n     <g id=\"line2d_574\">\r\n      <g>\r\n       <use style=\"stroke:#000000;stroke-width:0.8;\" x=\"33.2875\" xlink:href=\"#m7d443d45af\" y=\"29.206755\"/>\r\n      </g>\r\n     </g>\r\n     <g id=\"text_574\">\r\n      <!-- 568 -->\r\n      <g transform=\"translate(7.2 33.005974)scale(0.1 -0.1)\">\r\n       <use xlink:href=\"#DejaVuSans-53\"/>\r\n       <use x=\"63.623047\" xlink:href=\"#DejaVuSans-54\"/>\r\n       <use x=\"127.246094\" xlink:href=\"#DejaVuSans-56\"/>\r\n      </g>\r\n     </g>\r\n    </g>\r\n    <g id=\"ytick_570\">\r\n     <g id=\"line2d_575\">\r\n      <g>\r\n       <use style=\"stroke:#000000;stroke-width:0.8;\" x=\"33.2875\" xlink:href=\"#m7d443d45af\" y=\"28.85661\"/>\r\n      </g>\r\n     </g>\r\n     <g id=\"text_575\">\r\n      <!-- 569 -->\r\n      <g transform=\"translate(7.2 32.655829)scale(0.1 -0.1)\">\r\n       <use xlink:href=\"#DejaVuSans-53\"/>\r\n       <use x=\"63.623047\" xlink:href=\"#DejaVuSans-54\"/>\r\n       <use x=\"127.246094\" xlink:href=\"#DejaVuSans-57\"/>\r\n      </g>\r\n     </g>\r\n    </g>\r\n    <g id=\"ytick_571\">\r\n     <g id=\"line2d_576\">\r\n      <g>\r\n       <use style=\"stroke:#000000;stroke-width:0.8;\" x=\"33.2875\" xlink:href=\"#m7d443d45af\" y=\"28.506465\"/>\r\n      </g>\r\n     </g>\r\n     <g id=\"text_576\">\r\n      <!-- 570 -->\r\n      <g transform=\"translate(7.2 32.305684)scale(0.1 -0.1)\">\r\n       <use xlink:href=\"#DejaVuSans-53\"/>\r\n       <use x=\"63.623047\" xlink:href=\"#DejaVuSans-55\"/>\r\n       <use x=\"127.246094\" xlink:href=\"#DejaVuSans-48\"/>\r\n      </g>\r\n     </g>\r\n    </g>\r\n    <g id=\"ytick_572\">\r\n     <g id=\"line2d_577\">\r\n      <g>\r\n       <use style=\"stroke:#000000;stroke-width:0.8;\" x=\"33.2875\" xlink:href=\"#m7d443d45af\" y=\"28.15632\"/>\r\n      </g>\r\n     </g>\r\n     <g id=\"text_577\">\r\n      <!-- 571 -->\r\n      <g transform=\"translate(7.2 31.955539)scale(0.1 -0.1)\">\r\n       <use xlink:href=\"#DejaVuSans-53\"/>\r\n       <use x=\"63.623047\" xlink:href=\"#DejaVuSans-55\"/>\r\n       <use x=\"127.246094\" xlink:href=\"#DejaVuSans-49\"/>\r\n      </g>\r\n     </g>\r\n    </g>\r\n    <g id=\"ytick_573\">\r\n     <g id=\"line2d_578\">\r\n      <g>\r\n       <use style=\"stroke:#000000;stroke-width:0.8;\" x=\"33.2875\" xlink:href=\"#m7d443d45af\" y=\"27.806175\"/>\r\n      </g>\r\n     </g>\r\n     <g id=\"text_578\">\r\n      <!-- 572 -->\r\n      <g transform=\"translate(7.2 31.605394)scale(0.1 -0.1)\">\r\n       <use xlink:href=\"#DejaVuSans-53\"/>\r\n       <use x=\"63.623047\" xlink:href=\"#DejaVuSans-55\"/>\r\n       <use x=\"127.246094\" xlink:href=\"#DejaVuSans-50\"/>\r\n      </g>\r\n     </g>\r\n    </g>\r\n    <g id=\"ytick_574\">\r\n     <g id=\"line2d_579\">\r\n      <g>\r\n       <use style=\"stroke:#000000;stroke-width:0.8;\" x=\"33.2875\" xlink:href=\"#m7d443d45af\" y=\"27.45603\"/>\r\n      </g>\r\n     </g>\r\n     <g id=\"text_579\">\r\n      <!-- 573 -->\r\n      <g transform=\"translate(7.2 31.255249)scale(0.1 -0.1)\">\r\n       <use xlink:href=\"#DejaVuSans-53\"/>\r\n       <use x=\"63.623047\" xlink:href=\"#DejaVuSans-55\"/>\r\n       <use x=\"127.246094\" xlink:href=\"#DejaVuSans-51\"/>\r\n      </g>\r\n     </g>\r\n    </g>\r\n    <g id=\"ytick_575\">\r\n     <g id=\"line2d_580\">\r\n      <g>\r\n       <use style=\"stroke:#000000;stroke-width:0.8;\" x=\"33.2875\" xlink:href=\"#m7d443d45af\" y=\"27.105885\"/>\r\n      </g>\r\n     </g>\r\n     <g id=\"text_580\">\r\n      <!-- 574 -->\r\n      <g transform=\"translate(7.2 30.905104)scale(0.1 -0.1)\">\r\n       <use xlink:href=\"#DejaVuSans-53\"/>\r\n       <use x=\"63.623047\" xlink:href=\"#DejaVuSans-55\"/>\r\n       <use x=\"127.246094\" xlink:href=\"#DejaVuSans-52\"/>\r\n      </g>\r\n     </g>\r\n    </g>\r\n    <g id=\"ytick_576\">\r\n     <g id=\"line2d_581\">\r\n      <g>\r\n       <use style=\"stroke:#000000;stroke-width:0.8;\" x=\"33.2875\" xlink:href=\"#m7d443d45af\" y=\"26.75574\"/>\r\n      </g>\r\n     </g>\r\n     <g id=\"text_581\">\r\n      <!-- 575 -->\r\n      <g transform=\"translate(7.2 30.554959)scale(0.1 -0.1)\">\r\n       <use xlink:href=\"#DejaVuSans-53\"/>\r\n       <use x=\"63.623047\" xlink:href=\"#DejaVuSans-55\"/>\r\n       <use x=\"127.246094\" xlink:href=\"#DejaVuSans-53\"/>\r\n      </g>\r\n     </g>\r\n    </g>\r\n    <g id=\"ytick_577\">\r\n     <g id=\"line2d_582\">\r\n      <g>\r\n       <use style=\"stroke:#000000;stroke-width:0.8;\" x=\"33.2875\" xlink:href=\"#m7d443d45af\" y=\"26.405596\"/>\r\n      </g>\r\n     </g>\r\n     <g id=\"text_582\">\r\n      <!-- 576 -->\r\n      <g transform=\"translate(7.2 30.204814)scale(0.1 -0.1)\">\r\n       <use xlink:href=\"#DejaVuSans-53\"/>\r\n       <use x=\"63.623047\" xlink:href=\"#DejaVuSans-55\"/>\r\n       <use x=\"127.246094\" xlink:href=\"#DejaVuSans-54\"/>\r\n      </g>\r\n     </g>\r\n    </g>\r\n    <g id=\"ytick_578\">\r\n     <g id=\"line2d_583\">\r\n      <g>\r\n       <use style=\"stroke:#000000;stroke-width:0.8;\" x=\"33.2875\" xlink:href=\"#m7d443d45af\" y=\"26.055451\"/>\r\n      </g>\r\n     </g>\r\n     <g id=\"text_583\">\r\n      <!-- 577 -->\r\n      <g transform=\"translate(7.2 29.854669)scale(0.1 -0.1)\">\r\n       <use xlink:href=\"#DejaVuSans-53\"/>\r\n       <use x=\"63.623047\" xlink:href=\"#DejaVuSans-55\"/>\r\n       <use x=\"127.246094\" xlink:href=\"#DejaVuSans-55\"/>\r\n      </g>\r\n     </g>\r\n    </g>\r\n    <g id=\"ytick_579\">\r\n     <g id=\"line2d_584\">\r\n      <g>\r\n       <use style=\"stroke:#000000;stroke-width:0.8;\" x=\"33.2875\" xlink:href=\"#m7d443d45af\" y=\"25.705306\"/>\r\n      </g>\r\n     </g>\r\n     <g id=\"text_584\">\r\n      <!-- 578 -->\r\n      <g transform=\"translate(7.2 29.504524)scale(0.1 -0.1)\">\r\n       <use xlink:href=\"#DejaVuSans-53\"/>\r\n       <use x=\"63.623047\" xlink:href=\"#DejaVuSans-55\"/>\r\n       <use x=\"127.246094\" xlink:href=\"#DejaVuSans-56\"/>\r\n      </g>\r\n     </g>\r\n    </g>\r\n    <g id=\"ytick_580\">\r\n     <g id=\"line2d_585\">\r\n      <g>\r\n       <use style=\"stroke:#000000;stroke-width:0.8;\" x=\"33.2875\" xlink:href=\"#m7d443d45af\" y=\"25.355161\"/>\r\n      </g>\r\n     </g>\r\n     <g id=\"text_585\">\r\n      <!-- 579 -->\r\n      <g transform=\"translate(7.2 29.15438)scale(0.1 -0.1)\">\r\n       <use xlink:href=\"#DejaVuSans-53\"/>\r\n       <use x=\"63.623047\" xlink:href=\"#DejaVuSans-55\"/>\r\n       <use x=\"127.246094\" xlink:href=\"#DejaVuSans-57\"/>\r\n      </g>\r\n     </g>\r\n    </g>\r\n    <g id=\"ytick_581\">\r\n     <g id=\"line2d_586\">\r\n      <g>\r\n       <use style=\"stroke:#000000;stroke-width:0.8;\" x=\"33.2875\" xlink:href=\"#m7d443d45af\" y=\"25.005016\"/>\r\n      </g>\r\n     </g>\r\n     <g id=\"text_586\">\r\n      <!-- 580 -->\r\n      <g transform=\"translate(7.2 28.804235)scale(0.1 -0.1)\">\r\n       <use xlink:href=\"#DejaVuSans-53\"/>\r\n       <use x=\"63.623047\" xlink:href=\"#DejaVuSans-56\"/>\r\n       <use x=\"127.246094\" xlink:href=\"#DejaVuSans-48\"/>\r\n      </g>\r\n     </g>\r\n    </g>\r\n    <g id=\"ytick_582\">\r\n     <g id=\"line2d_587\">\r\n      <g>\r\n       <use style=\"stroke:#000000;stroke-width:0.8;\" x=\"33.2875\" xlink:href=\"#m7d443d45af\" y=\"24.654871\"/>\r\n      </g>\r\n     </g>\r\n     <g id=\"text_587\">\r\n      <!-- 581 -->\r\n      <g transform=\"translate(7.2 28.45409)scale(0.1 -0.1)\">\r\n       <use xlink:href=\"#DejaVuSans-53\"/>\r\n       <use x=\"63.623047\" xlink:href=\"#DejaVuSans-56\"/>\r\n       <use x=\"127.246094\" xlink:href=\"#DejaVuSans-49\"/>\r\n      </g>\r\n     </g>\r\n    </g>\r\n    <g id=\"ytick_583\">\r\n     <g id=\"line2d_588\">\r\n      <g>\r\n       <use style=\"stroke:#000000;stroke-width:0.8;\" x=\"33.2875\" xlink:href=\"#m7d443d45af\" y=\"24.304726\"/>\r\n      </g>\r\n     </g>\r\n     <g id=\"text_588\">\r\n      <!-- 582 -->\r\n      <g transform=\"translate(7.2 28.103945)scale(0.1 -0.1)\">\r\n       <use xlink:href=\"#DejaVuSans-53\"/>\r\n       <use x=\"63.623047\" xlink:href=\"#DejaVuSans-56\"/>\r\n       <use x=\"127.246094\" xlink:href=\"#DejaVuSans-50\"/>\r\n      </g>\r\n     </g>\r\n    </g>\r\n    <g id=\"ytick_584\">\r\n     <g id=\"line2d_589\">\r\n      <g>\r\n       <use style=\"stroke:#000000;stroke-width:0.8;\" x=\"33.2875\" xlink:href=\"#m7d443d45af\" y=\"23.954581\"/>\r\n      </g>\r\n     </g>\r\n     <g id=\"text_589\">\r\n      <!-- 583 -->\r\n      <g transform=\"translate(7.2 27.7538)scale(0.1 -0.1)\">\r\n       <use xlink:href=\"#DejaVuSans-53\"/>\r\n       <use x=\"63.623047\" xlink:href=\"#DejaVuSans-56\"/>\r\n       <use x=\"127.246094\" xlink:href=\"#DejaVuSans-51\"/>\r\n      </g>\r\n     </g>\r\n    </g>\r\n    <g id=\"ytick_585\">\r\n     <g id=\"line2d_590\">\r\n      <g>\r\n       <use style=\"stroke:#000000;stroke-width:0.8;\" x=\"33.2875\" xlink:href=\"#m7d443d45af\" y=\"23.604436\"/>\r\n      </g>\r\n     </g>\r\n     <g id=\"text_590\">\r\n      <!-- 584 -->\r\n      <g transform=\"translate(7.2 27.403655)scale(0.1 -0.1)\">\r\n       <use xlink:href=\"#DejaVuSans-53\"/>\r\n       <use x=\"63.623047\" xlink:href=\"#DejaVuSans-56\"/>\r\n       <use x=\"127.246094\" xlink:href=\"#DejaVuSans-52\"/>\r\n      </g>\r\n     </g>\r\n    </g>\r\n    <g id=\"ytick_586\">\r\n     <g id=\"line2d_591\">\r\n      <g>\r\n       <use style=\"stroke:#000000;stroke-width:0.8;\" x=\"33.2875\" xlink:href=\"#m7d443d45af\" y=\"23.254291\"/>\r\n      </g>\r\n     </g>\r\n     <g id=\"text_591\">\r\n      <!-- 585 -->\r\n      <g transform=\"translate(7.2 27.05351)scale(0.1 -0.1)\">\r\n       <use xlink:href=\"#DejaVuSans-53\"/>\r\n       <use x=\"63.623047\" xlink:href=\"#DejaVuSans-56\"/>\r\n       <use x=\"127.246094\" xlink:href=\"#DejaVuSans-53\"/>\r\n      </g>\r\n     </g>\r\n    </g>\r\n    <g id=\"ytick_587\">\r\n     <g id=\"line2d_592\">\r\n      <g>\r\n       <use style=\"stroke:#000000;stroke-width:0.8;\" x=\"33.2875\" xlink:href=\"#m7d443d45af\" y=\"22.904146\"/>\r\n      </g>\r\n     </g>\r\n     <g id=\"text_592\">\r\n      <!-- 586 -->\r\n      <g transform=\"translate(7.2 26.703365)scale(0.1 -0.1)\">\r\n       <use xlink:href=\"#DejaVuSans-53\"/>\r\n       <use x=\"63.623047\" xlink:href=\"#DejaVuSans-56\"/>\r\n       <use x=\"127.246094\" xlink:href=\"#DejaVuSans-54\"/>\r\n      </g>\r\n     </g>\r\n    </g>\r\n    <g id=\"ytick_588\">\r\n     <g id=\"line2d_593\">\r\n      <g>\r\n       <use style=\"stroke:#000000;stroke-width:0.8;\" x=\"33.2875\" xlink:href=\"#m7d443d45af\" y=\"22.554001\"/>\r\n      </g>\r\n     </g>\r\n     <g id=\"text_593\">\r\n      <!-- 587 -->\r\n      <g transform=\"translate(7.2 26.35322)scale(0.1 -0.1)\">\r\n       <use xlink:href=\"#DejaVuSans-53\"/>\r\n       <use x=\"63.623047\" xlink:href=\"#DejaVuSans-56\"/>\r\n       <use x=\"127.246094\" xlink:href=\"#DejaVuSans-55\"/>\r\n      </g>\r\n     </g>\r\n    </g>\r\n    <g id=\"ytick_589\">\r\n     <g id=\"line2d_594\">\r\n      <g>\r\n       <use style=\"stroke:#000000;stroke-width:0.8;\" x=\"33.2875\" xlink:href=\"#m7d443d45af\" y=\"22.203856\"/>\r\n      </g>\r\n     </g>\r\n     <g id=\"text_594\">\r\n      <!-- 588 -->\r\n      <g transform=\"translate(7.2 26.003075)scale(0.1 -0.1)\">\r\n       <use xlink:href=\"#DejaVuSans-53\"/>\r\n       <use x=\"63.623047\" xlink:href=\"#DejaVuSans-56\"/>\r\n       <use x=\"127.246094\" xlink:href=\"#DejaVuSans-56\"/>\r\n      </g>\r\n     </g>\r\n    </g>\r\n    <g id=\"ytick_590\">\r\n     <g id=\"line2d_595\">\r\n      <g>\r\n       <use style=\"stroke:#000000;stroke-width:0.8;\" x=\"33.2875\" xlink:href=\"#m7d443d45af\" y=\"21.853712\"/>\r\n      </g>\r\n     </g>\r\n     <g id=\"text_595\">\r\n      <!-- 589 -->\r\n      <g transform=\"translate(7.2 25.65293)scale(0.1 -0.1)\">\r\n       <use xlink:href=\"#DejaVuSans-53\"/>\r\n       <use x=\"63.623047\" xlink:href=\"#DejaVuSans-56\"/>\r\n       <use x=\"127.246094\" xlink:href=\"#DejaVuSans-57\"/>\r\n      </g>\r\n     </g>\r\n    </g>\r\n    <g id=\"ytick_591\">\r\n     <g id=\"line2d_596\">\r\n      <g>\r\n       <use style=\"stroke:#000000;stroke-width:0.8;\" x=\"33.2875\" xlink:href=\"#m7d443d45af\" y=\"21.503567\"/>\r\n      </g>\r\n     </g>\r\n     <g id=\"text_596\">\r\n      <!-- 590 -->\r\n      <g transform=\"translate(7.2 25.302785)scale(0.1 -0.1)\">\r\n       <use xlink:href=\"#DejaVuSans-53\"/>\r\n       <use x=\"63.623047\" xlink:href=\"#DejaVuSans-57\"/>\r\n       <use x=\"127.246094\" xlink:href=\"#DejaVuSans-48\"/>\r\n      </g>\r\n     </g>\r\n    </g>\r\n    <g id=\"ytick_592\">\r\n     <g id=\"line2d_597\">\r\n      <g>\r\n       <use style=\"stroke:#000000;stroke-width:0.8;\" x=\"33.2875\" xlink:href=\"#m7d443d45af\" y=\"21.153422\"/>\r\n      </g>\r\n     </g>\r\n     <g id=\"text_597\">\r\n      <!-- 591 -->\r\n      <g transform=\"translate(7.2 24.95264)scale(0.1 -0.1)\">\r\n       <use xlink:href=\"#DejaVuSans-53\"/>\r\n       <use x=\"63.623047\" xlink:href=\"#DejaVuSans-57\"/>\r\n       <use x=\"127.246094\" xlink:href=\"#DejaVuSans-49\"/>\r\n      </g>\r\n     </g>\r\n    </g>\r\n    <g id=\"ytick_593\">\r\n     <g id=\"line2d_598\">\r\n      <g>\r\n       <use style=\"stroke:#000000;stroke-width:0.8;\" x=\"33.2875\" xlink:href=\"#m7d443d45af\" y=\"20.803277\"/>\r\n      </g>\r\n     </g>\r\n     <g id=\"text_598\">\r\n      <!-- 592 -->\r\n      <g transform=\"translate(7.2 24.602495)scale(0.1 -0.1)\">\r\n       <use xlink:href=\"#DejaVuSans-53\"/>\r\n       <use x=\"63.623047\" xlink:href=\"#DejaVuSans-57\"/>\r\n       <use x=\"127.246094\" xlink:href=\"#DejaVuSans-50\"/>\r\n      </g>\r\n     </g>\r\n    </g>\r\n    <g id=\"ytick_594\">\r\n     <g id=\"line2d_599\">\r\n      <g>\r\n       <use style=\"stroke:#000000;stroke-width:0.8;\" x=\"33.2875\" xlink:href=\"#m7d443d45af\" y=\"20.453132\"/>\r\n      </g>\r\n     </g>\r\n     <g id=\"text_599\">\r\n      <!-- 593 -->\r\n      <g transform=\"translate(7.2 24.252351)scale(0.1 -0.1)\">\r\n       <use xlink:href=\"#DejaVuSans-53\"/>\r\n       <use x=\"63.623047\" xlink:href=\"#DejaVuSans-57\"/>\r\n       <use x=\"127.246094\" xlink:href=\"#DejaVuSans-51\"/>\r\n      </g>\r\n     </g>\r\n    </g>\r\n    <g id=\"ytick_595\">\r\n     <g id=\"line2d_600\">\r\n      <g>\r\n       <use style=\"stroke:#000000;stroke-width:0.8;\" x=\"33.2875\" xlink:href=\"#m7d443d45af\" y=\"20.102987\"/>\r\n      </g>\r\n     </g>\r\n     <g id=\"text_600\">\r\n      <!-- 594 -->\r\n      <g transform=\"translate(7.2 23.902206)scale(0.1 -0.1)\">\r\n       <use xlink:href=\"#DejaVuSans-53\"/>\r\n       <use x=\"63.623047\" xlink:href=\"#DejaVuSans-57\"/>\r\n       <use x=\"127.246094\" xlink:href=\"#DejaVuSans-52\"/>\r\n      </g>\r\n     </g>\r\n    </g>\r\n    <g id=\"ytick_596\">\r\n     <g id=\"line2d_601\">\r\n      <g>\r\n       <use style=\"stroke:#000000;stroke-width:0.8;\" x=\"33.2875\" xlink:href=\"#m7d443d45af\" y=\"19.752842\"/>\r\n      </g>\r\n     </g>\r\n     <g id=\"text_601\">\r\n      <!-- 595 -->\r\n      <g transform=\"translate(7.2 23.552061)scale(0.1 -0.1)\">\r\n       <use xlink:href=\"#DejaVuSans-53\"/>\r\n       <use x=\"63.623047\" xlink:href=\"#DejaVuSans-57\"/>\r\n       <use x=\"127.246094\" xlink:href=\"#DejaVuSans-53\"/>\r\n      </g>\r\n     </g>\r\n    </g>\r\n    <g id=\"ytick_597\">\r\n     <g id=\"line2d_602\">\r\n      <g>\r\n       <use style=\"stroke:#000000;stroke-width:0.8;\" x=\"33.2875\" xlink:href=\"#m7d443d45af\" y=\"19.402697\"/>\r\n      </g>\r\n     </g>\r\n     <g id=\"text_602\">\r\n      <!-- 596 -->\r\n      <g transform=\"translate(7.2 23.201916)scale(0.1 -0.1)\">\r\n       <use xlink:href=\"#DejaVuSans-53\"/>\r\n       <use x=\"63.623047\" xlink:href=\"#DejaVuSans-57\"/>\r\n       <use x=\"127.246094\" xlink:href=\"#DejaVuSans-54\"/>\r\n      </g>\r\n     </g>\r\n    </g>\r\n    <g id=\"ytick_598\">\r\n     <g id=\"line2d_603\">\r\n      <g>\r\n       <use style=\"stroke:#000000;stroke-width:0.8;\" x=\"33.2875\" xlink:href=\"#m7d443d45af\" y=\"19.052552\"/>\r\n      </g>\r\n     </g>\r\n     <g id=\"text_603\">\r\n      <!-- 597 -->\r\n      <g transform=\"translate(7.2 22.851771)scale(0.1 -0.1)\">\r\n       <use xlink:href=\"#DejaVuSans-53\"/>\r\n       <use x=\"63.623047\" xlink:href=\"#DejaVuSans-57\"/>\r\n       <use x=\"127.246094\" xlink:href=\"#DejaVuSans-55\"/>\r\n      </g>\r\n     </g>\r\n    </g>\r\n    <g id=\"ytick_599\">\r\n     <g id=\"line2d_604\">\r\n      <g>\r\n       <use style=\"stroke:#000000;stroke-width:0.8;\" x=\"33.2875\" xlink:href=\"#m7d443d45af\" y=\"18.702407\"/>\r\n      </g>\r\n     </g>\r\n     <g id=\"text_604\">\r\n      <!-- 598 -->\r\n      <g transform=\"translate(7.2 22.501626)scale(0.1 -0.1)\">\r\n       <use xlink:href=\"#DejaVuSans-53\"/>\r\n       <use x=\"63.623047\" xlink:href=\"#DejaVuSans-57\"/>\r\n       <use x=\"127.246094\" xlink:href=\"#DejaVuSans-56\"/>\r\n      </g>\r\n     </g>\r\n    </g>\r\n    <g id=\"ytick_600\">\r\n     <g id=\"line2d_605\">\r\n      <g>\r\n       <use style=\"stroke:#000000;stroke-width:0.8;\" x=\"33.2875\" xlink:href=\"#m7d443d45af\" y=\"18.352262\"/>\r\n      </g>\r\n     </g>\r\n     <g id=\"text_605\">\r\n      <!-- 599 -->\r\n      <g transform=\"translate(7.2 22.151481)scale(0.1 -0.1)\">\r\n       <use xlink:href=\"#DejaVuSans-53\"/>\r\n       <use x=\"63.623047\" xlink:href=\"#DejaVuSans-57\"/>\r\n       <use x=\"127.246094\" xlink:href=\"#DejaVuSans-57\"/>\r\n      </g>\r\n     </g>\r\n    </g>\r\n    <g id=\"ytick_601\">\r\n     <g id=\"line2d_606\">\r\n      <g>\r\n       <use style=\"stroke:#000000;stroke-width:0.8;\" x=\"33.2875\" xlink:href=\"#m7d443d45af\" y=\"18.002117\"/>\r\n      </g>\r\n     </g>\r\n     <g id=\"text_606\">\r\n      <!-- 600 -->\r\n      <g transform=\"translate(7.2 21.801336)scale(0.1 -0.1)\">\r\n       <use xlink:href=\"#DejaVuSans-54\"/>\r\n       <use x=\"63.623047\" xlink:href=\"#DejaVuSans-48\"/>\r\n       <use x=\"127.246094\" xlink:href=\"#DejaVuSans-48\"/>\r\n      </g>\r\n     </g>\r\n    </g>\r\n    <g id=\"ytick_602\">\r\n     <g id=\"line2d_607\">\r\n      <g>\r\n       <use style=\"stroke:#000000;stroke-width:0.8;\" x=\"33.2875\" xlink:href=\"#m7d443d45af\" y=\"17.651972\"/>\r\n      </g>\r\n     </g>\r\n     <g id=\"text_607\">\r\n      <!-- 601 -->\r\n      <g transform=\"translate(7.2 21.451191)scale(0.1 -0.1)\">\r\n       <use xlink:href=\"#DejaVuSans-54\"/>\r\n       <use x=\"63.623047\" xlink:href=\"#DejaVuSans-48\"/>\r\n       <use x=\"127.246094\" xlink:href=\"#DejaVuSans-49\"/>\r\n      </g>\r\n     </g>\r\n    </g>\r\n    <g id=\"ytick_603\">\r\n     <g id=\"line2d_608\">\r\n      <g>\r\n       <use style=\"stroke:#000000;stroke-width:0.8;\" x=\"33.2875\" xlink:href=\"#m7d443d45af\" y=\"17.301827\"/>\r\n      </g>\r\n     </g>\r\n     <g id=\"text_608\">\r\n      <!-- 602 -->\r\n      <g transform=\"translate(7.2 21.101046)scale(0.1 -0.1)\">\r\n       <use xlink:href=\"#DejaVuSans-54\"/>\r\n       <use x=\"63.623047\" xlink:href=\"#DejaVuSans-48\"/>\r\n       <use x=\"127.246094\" xlink:href=\"#DejaVuSans-50\"/>\r\n      </g>\r\n     </g>\r\n    </g>\r\n    <g id=\"ytick_604\">\r\n     <g id=\"line2d_609\">\r\n      <g>\r\n       <use style=\"stroke:#000000;stroke-width:0.8;\" x=\"33.2875\" xlink:href=\"#m7d443d45af\" y=\"16.951683\"/>\r\n      </g>\r\n     </g>\r\n     <g id=\"text_609\">\r\n      <!-- 603 -->\r\n      <g transform=\"translate(7.2 20.750901)scale(0.1 -0.1)\">\r\n       <use xlink:href=\"#DejaVuSans-54\"/>\r\n       <use x=\"63.623047\" xlink:href=\"#DejaVuSans-48\"/>\r\n       <use x=\"127.246094\" xlink:href=\"#DejaVuSans-51\"/>\r\n      </g>\r\n     </g>\r\n    </g>\r\n    <g id=\"ytick_605\">\r\n     <g id=\"line2d_610\">\r\n      <g>\r\n       <use style=\"stroke:#000000;stroke-width:0.8;\" x=\"33.2875\" xlink:href=\"#m7d443d45af\" y=\"16.601538\"/>\r\n      </g>\r\n     </g>\r\n     <g id=\"text_610\">\r\n      <!-- 604 -->\r\n      <g transform=\"translate(7.2 20.400756)scale(0.1 -0.1)\">\r\n       <use xlink:href=\"#DejaVuSans-54\"/>\r\n       <use x=\"63.623047\" xlink:href=\"#DejaVuSans-48\"/>\r\n       <use x=\"127.246094\" xlink:href=\"#DejaVuSans-52\"/>\r\n      </g>\r\n     </g>\r\n    </g>\r\n    <g id=\"ytick_606\">\r\n     <g id=\"line2d_611\">\r\n      <g>\r\n       <use style=\"stroke:#000000;stroke-width:0.8;\" x=\"33.2875\" xlink:href=\"#m7d443d45af\" y=\"16.251393\"/>\r\n      </g>\r\n     </g>\r\n     <g id=\"text_611\">\r\n      <!-- 605 -->\r\n      <g transform=\"translate(7.2 20.050611)scale(0.1 -0.1)\">\r\n       <use xlink:href=\"#DejaVuSans-54\"/>\r\n       <use x=\"63.623047\" xlink:href=\"#DejaVuSans-48\"/>\r\n       <use x=\"127.246094\" xlink:href=\"#DejaVuSans-53\"/>\r\n      </g>\r\n     </g>\r\n    </g>\r\n    <g id=\"ytick_607\">\r\n     <g id=\"line2d_612\">\r\n      <g>\r\n       <use style=\"stroke:#000000;stroke-width:0.8;\" x=\"33.2875\" xlink:href=\"#m7d443d45af\" y=\"15.901248\"/>\r\n      </g>\r\n     </g>\r\n     <g id=\"text_612\">\r\n      <!-- 606 -->\r\n      <g transform=\"translate(7.2 19.700466)scale(0.1 -0.1)\">\r\n       <use xlink:href=\"#DejaVuSans-54\"/>\r\n       <use x=\"63.623047\" xlink:href=\"#DejaVuSans-48\"/>\r\n       <use x=\"127.246094\" xlink:href=\"#DejaVuSans-54\"/>\r\n      </g>\r\n     </g>\r\n    </g>\r\n    <g id=\"ytick_608\">\r\n     <g id=\"line2d_613\">\r\n      <g>\r\n       <use style=\"stroke:#000000;stroke-width:0.8;\" x=\"33.2875\" xlink:href=\"#m7d443d45af\" y=\"15.551103\"/>\r\n      </g>\r\n     </g>\r\n     <g id=\"text_613\">\r\n      <!-- 607 -->\r\n      <g transform=\"translate(7.2 19.350322)scale(0.1 -0.1)\">\r\n       <use xlink:href=\"#DejaVuSans-54\"/>\r\n       <use x=\"63.623047\" xlink:href=\"#DejaVuSans-48\"/>\r\n       <use x=\"127.246094\" xlink:href=\"#DejaVuSans-55\"/>\r\n      </g>\r\n     </g>\r\n    </g>\r\n    <g id=\"ytick_609\">\r\n     <g id=\"line2d_614\">\r\n      <g>\r\n       <use style=\"stroke:#000000;stroke-width:0.8;\" x=\"33.2875\" xlink:href=\"#m7d443d45af\" y=\"15.200958\"/>\r\n      </g>\r\n     </g>\r\n     <g id=\"text_614\">\r\n      <!-- 608 -->\r\n      <g transform=\"translate(7.2 19.000177)scale(0.1 -0.1)\">\r\n       <use xlink:href=\"#DejaVuSans-54\"/>\r\n       <use x=\"63.623047\" xlink:href=\"#DejaVuSans-48\"/>\r\n       <use x=\"127.246094\" xlink:href=\"#DejaVuSans-56\"/>\r\n      </g>\r\n     </g>\r\n    </g>\r\n    <g id=\"ytick_610\">\r\n     <g id=\"line2d_615\">\r\n      <g>\r\n       <use style=\"stroke:#000000;stroke-width:0.8;\" x=\"33.2875\" xlink:href=\"#m7d443d45af\" y=\"14.850813\"/>\r\n      </g>\r\n     </g>\r\n     <g id=\"text_615\">\r\n      <!-- 609 -->\r\n      <g transform=\"translate(7.2 18.650032)scale(0.1 -0.1)\">\r\n       <use xlink:href=\"#DejaVuSans-54\"/>\r\n       <use x=\"63.623047\" xlink:href=\"#DejaVuSans-48\"/>\r\n       <use x=\"127.246094\" xlink:href=\"#DejaVuSans-57\"/>\r\n      </g>\r\n     </g>\r\n    </g>\r\n    <g id=\"ytick_611\">\r\n     <g id=\"line2d_616\">\r\n      <g>\r\n       <use style=\"stroke:#000000;stroke-width:0.8;\" x=\"33.2875\" xlink:href=\"#m7d443d45af\" y=\"14.500668\"/>\r\n      </g>\r\n     </g>\r\n     <g id=\"text_616\">\r\n      <!-- 610 -->\r\n      <g transform=\"translate(7.2 18.299887)scale(0.1 -0.1)\">\r\n       <use xlink:href=\"#DejaVuSans-54\"/>\r\n       <use x=\"63.623047\" xlink:href=\"#DejaVuSans-49\"/>\r\n       <use x=\"127.246094\" xlink:href=\"#DejaVuSans-48\"/>\r\n      </g>\r\n     </g>\r\n    </g>\r\n    <g id=\"ytick_612\">\r\n     <g id=\"line2d_617\">\r\n      <g>\r\n       <use style=\"stroke:#000000;stroke-width:0.8;\" x=\"33.2875\" xlink:href=\"#m7d443d45af\" y=\"14.150523\"/>\r\n      </g>\r\n     </g>\r\n     <g id=\"text_617\">\r\n      <!-- 611 -->\r\n      <g transform=\"translate(7.2 17.949742)scale(0.1 -0.1)\">\r\n       <use xlink:href=\"#DejaVuSans-54\"/>\r\n       <use x=\"63.623047\" xlink:href=\"#DejaVuSans-49\"/>\r\n       <use x=\"127.246094\" xlink:href=\"#DejaVuSans-49\"/>\r\n      </g>\r\n     </g>\r\n    </g>\r\n    <g id=\"ytick_613\">\r\n     <g id=\"line2d_618\">\r\n      <g>\r\n       <use style=\"stroke:#000000;stroke-width:0.8;\" x=\"33.2875\" xlink:href=\"#m7d443d45af\" y=\"13.800378\"/>\r\n      </g>\r\n     </g>\r\n     <g id=\"text_618\">\r\n      <!-- 612 -->\r\n      <g transform=\"translate(7.2 17.599597)scale(0.1 -0.1)\">\r\n       <use xlink:href=\"#DejaVuSans-54\"/>\r\n       <use x=\"63.623047\" xlink:href=\"#DejaVuSans-49\"/>\r\n       <use x=\"127.246094\" xlink:href=\"#DejaVuSans-50\"/>\r\n      </g>\r\n     </g>\r\n    </g>\r\n    <g id=\"ytick_614\">\r\n     <g id=\"line2d_619\">\r\n      <g>\r\n       <use style=\"stroke:#000000;stroke-width:0.8;\" x=\"33.2875\" xlink:href=\"#m7d443d45af\" y=\"13.450233\"/>\r\n      </g>\r\n     </g>\r\n     <g id=\"text_619\">\r\n      <!-- 613 -->\r\n      <g transform=\"translate(7.2 17.249452)scale(0.1 -0.1)\">\r\n       <use xlink:href=\"#DejaVuSans-54\"/>\r\n       <use x=\"63.623047\" xlink:href=\"#DejaVuSans-49\"/>\r\n       <use x=\"127.246094\" xlink:href=\"#DejaVuSans-51\"/>\r\n      </g>\r\n     </g>\r\n    </g>\r\n    <g id=\"ytick_615\">\r\n     <g id=\"line2d_620\">\r\n      <g>\r\n       <use style=\"stroke:#000000;stroke-width:0.8;\" x=\"33.2875\" xlink:href=\"#m7d443d45af\" y=\"13.100088\"/>\r\n      </g>\r\n     </g>\r\n     <g id=\"text_620\">\r\n      <!-- 614 -->\r\n      <g transform=\"translate(7.2 16.899307)scale(0.1 -0.1)\">\r\n       <use xlink:href=\"#DejaVuSans-54\"/>\r\n       <use x=\"63.623047\" xlink:href=\"#DejaVuSans-49\"/>\r\n       <use x=\"127.246094\" xlink:href=\"#DejaVuSans-52\"/>\r\n      </g>\r\n     </g>\r\n    </g>\r\n    <g id=\"ytick_616\">\r\n     <g id=\"line2d_621\">\r\n      <g>\r\n       <use style=\"stroke:#000000;stroke-width:0.8;\" x=\"33.2875\" xlink:href=\"#m7d443d45af\" y=\"12.749943\"/>\r\n      </g>\r\n     </g>\r\n     <g id=\"text_621\">\r\n      <!-- 615 -->\r\n      <g transform=\"translate(7.2 16.549162)scale(0.1 -0.1)\">\r\n       <use xlink:href=\"#DejaVuSans-54\"/>\r\n       <use x=\"63.623047\" xlink:href=\"#DejaVuSans-49\"/>\r\n       <use x=\"127.246094\" xlink:href=\"#DejaVuSans-53\"/>\r\n      </g>\r\n     </g>\r\n    </g>\r\n    <g id=\"ytick_617\">\r\n     <g id=\"line2d_622\">\r\n      <g>\r\n       <use style=\"stroke:#000000;stroke-width:0.8;\" x=\"33.2875\" xlink:href=\"#m7d443d45af\" y=\"12.399798\"/>\r\n      </g>\r\n     </g>\r\n     <g id=\"text_622\">\r\n      <!-- 616 -->\r\n      <g transform=\"translate(7.2 16.199017)scale(0.1 -0.1)\">\r\n       <use xlink:href=\"#DejaVuSans-54\"/>\r\n       <use x=\"63.623047\" xlink:href=\"#DejaVuSans-49\"/>\r\n       <use x=\"127.246094\" xlink:href=\"#DejaVuSans-54\"/>\r\n      </g>\r\n     </g>\r\n    </g>\r\n    <g id=\"ytick_618\">\r\n     <g id=\"line2d_623\">\r\n      <g>\r\n       <use style=\"stroke:#000000;stroke-width:0.8;\" x=\"33.2875\" xlink:href=\"#m7d443d45af\" y=\"12.049654\"/>\r\n      </g>\r\n     </g>\r\n     <g id=\"text_623\">\r\n      <!-- 617 -->\r\n      <g transform=\"translate(7.2 15.848872)scale(0.1 -0.1)\">\r\n       <use xlink:href=\"#DejaVuSans-54\"/>\r\n       <use x=\"63.623047\" xlink:href=\"#DejaVuSans-49\"/>\r\n       <use x=\"127.246094\" xlink:href=\"#DejaVuSans-55\"/>\r\n      </g>\r\n     </g>\r\n    </g>\r\n    <g id=\"ytick_619\">\r\n     <g id=\"line2d_624\">\r\n      <g>\r\n       <use style=\"stroke:#000000;stroke-width:0.8;\" x=\"33.2875\" xlink:href=\"#m7d443d45af\" y=\"11.699509\"/>\r\n      </g>\r\n     </g>\r\n     <g id=\"text_624\">\r\n      <!-- 618 -->\r\n      <g transform=\"translate(7.2 15.498727)scale(0.1 -0.1)\">\r\n       <use xlink:href=\"#DejaVuSans-54\"/>\r\n       <use x=\"63.623047\" xlink:href=\"#DejaVuSans-49\"/>\r\n       <use x=\"127.246094\" xlink:href=\"#DejaVuSans-56\"/>\r\n      </g>\r\n     </g>\r\n    </g>\r\n    <g id=\"ytick_620\">\r\n     <g id=\"line2d_625\">\r\n      <g>\r\n       <use style=\"stroke:#000000;stroke-width:0.8;\" x=\"33.2875\" xlink:href=\"#m7d443d45af\" y=\"11.349364\"/>\r\n      </g>\r\n     </g>\r\n     <g id=\"text_625\">\r\n      <!-- 619 -->\r\n      <g transform=\"translate(7.2 15.148582)scale(0.1 -0.1)\">\r\n       <use xlink:href=\"#DejaVuSans-54\"/>\r\n       <use x=\"63.623047\" xlink:href=\"#DejaVuSans-49\"/>\r\n       <use x=\"127.246094\" xlink:href=\"#DejaVuSans-57\"/>\r\n      </g>\r\n     </g>\r\n    </g>\r\n    <g id=\"ytick_621\">\r\n     <g id=\"line2d_626\">\r\n      <g>\r\n       <use style=\"stroke:#000000;stroke-width:0.8;\" x=\"33.2875\" xlink:href=\"#m7d443d45af\" y=\"10.999219\"/>\r\n      </g>\r\n     </g>\r\n     <g id=\"text_626\">\r\n      <!-- 620 -->\r\n      <g transform=\"translate(7.2 14.798437)scale(0.1 -0.1)\">\r\n       <use xlink:href=\"#DejaVuSans-54\"/>\r\n       <use x=\"63.623047\" xlink:href=\"#DejaVuSans-50\"/>\r\n       <use x=\"127.246094\" xlink:href=\"#DejaVuSans-48\"/>\r\n      </g>\r\n     </g>\r\n    </g>\r\n   </g>\r\n   <g id=\"patch_624\">\r\n    <path d=\"M 33.2875 228.264146 \r\nL 33.2875 10.824146 \r\n\" style=\"fill:none;stroke:#000000;stroke-linecap:square;stroke-linejoin:miter;stroke-width:0.8;\"/>\r\n   </g>\r\n   <g id=\"patch_625\">\r\n    <path d=\"M 368.0875 228.264146 \r\nL 368.0875 10.824146 \r\n\" style=\"fill:none;stroke:#000000;stroke-linecap:square;stroke-linejoin:miter;stroke-width:0.8;\"/>\r\n   </g>\r\n   <g id=\"patch_626\">\r\n    <path d=\"M 33.2875 228.264146 \r\nL 368.0875 228.264146 \r\n\" style=\"fill:none;stroke:#000000;stroke-linecap:square;stroke-linejoin:miter;stroke-width:0.8;\"/>\r\n   </g>\r\n   <g id=\"patch_627\">\r\n    <path d=\"M 33.2875 10.824146 \r\nL 368.0875 10.824146 \r\n\" style=\"fill:none;stroke:#000000;stroke-linecap:square;stroke-linejoin:miter;stroke-width:0.8;\"/>\r\n   </g>\r\n  </g>\r\n </g>\r\n <defs>\r\n  <clipPath id=\"pfe2bae2009\">\r\n   <rect height=\"217.44\" width=\"334.8\" x=\"33.2875\" y=\"10.824146\"/>\r\n  </clipPath>\r\n </defs>\r\n</svg>\r\n",
      "image/png": "[encoded data removed]"
     },
     "metadata": {
      "needs_background": "light"
     }
    }
   ],
   "source": [
    "number_bikes = []\n",
    "for i in range(len(d.data['stations'])):\n",
    "    number_bikes.append(d.data['stations'][i]['num_bikes_available'])\n",
    "\n",
    "pd.Series(number_bikes)[0:len(d.data['stations'])].plot(kind='barh')"
   ]
  },
  {
   "cell_type": "code",
   "execution_count": 37,
   "metadata": {},
   "outputs": [
    {
     "output_type": "display_data",
     "data": {
      "application/vnd.plotly.v1+json": {
       "config": {
        "plotlyServerURL": "https://plot.ly"
       },
       "data": [
        {
         "type": "bar",
         "y": [
          8,
          1,
          8,
          6,
          6,
          15,
          2,
          0,
          1,
          9,
          0,
          5,
          4,
          18,
          11,
          0,
          8,
          7,
          1,
          4,
          4,
          11,
          4,
          9,
          10,
          24,
          11,
          11,
          5,
          12,
          8,
          4,
          4,
          5,
          6,
          2,
          3,
          7,
          5,
          10,
          11,
          5,
          2,
          20,
          9,
          9,
          14,
          7,
          32,
          14,
          14,
          22,
          2,
          3,
          6,
          1,
          13,
          7,
          7,
          1,
          2,
          1,
          0,
          4,
          6,
          2,
          7,
          5,
          15,
          14,
          3,
          3,
          2,
          10,
          5,
          9,
          16,
          0,
          18,
          22,
          12,
          14,
          13,
          8,
          11,
          13,
          5,
          5,
          18,
          18,
          4,
          6,
          14,
          11,
          8,
          1,
          0,
          3,
          2,
          10,
          27,
          9,
          21,
          32,
          7,
          10,
          26,
          1,
          9,
          9,
          43,
          20,
          15,
          4,
          18,
          17,
          9,
          7,
          8,
          23,
          15,
          7,
          1,
          2,
          1,
          5,
          0,
          5,
          9,
          0,
          5,
          5,
          5,
          3,
          36,
          14,
          2,
          9,
          3,
          6,
          3,
          12,
          2,
          4,
          12,
          10,
          8,
          0,
          5,
          7,
          5,
          14,
          2,
          2,
          8,
          7,
          3,
          0,
          2,
          3,
          9,
          23,
          9,
          8,
          3,
          5,
          3,
          2,
          8,
          2,
          9,
          14,
          2,
          3,
          4,
          7,
          11,
          9,
          12,
          19,
          16,
          13,
          8,
          7,
          21,
          13,
          15,
          17,
          6,
          6,
          8,
          6,
          1,
          3,
          8,
          10,
          14,
          8,
          0,
          2,
          10,
          4,
          6,
          7,
          10,
          4,
          3,
          10,
          10,
          3,
          4,
          4,
          3,
          8,
          4,
          10,
          9,
          11,
          12,
          12,
          7,
          4,
          8,
          4,
          3,
          6,
          12,
          6,
          3,
          8,
          2,
          3,
          7,
          7,
          2,
          4,
          5,
          14,
          3,
          3,
          0,
          18,
          4,
          2,
          4,
          4,
          6,
          6,
          8,
          5,
          13,
          5,
          7,
          7,
          9,
          6,
          9,
          13,
          4,
          3,
          13,
          4,
          13,
          13,
          11,
          6,
          12,
          7,
          5,
          5,
          10,
          4,
          4,
          1,
          4,
          12,
          6,
          5,
          9,
          8,
          5,
          8,
          3,
          3,
          6,
          18,
          0,
          3,
          8,
          5,
          5,
          7,
          1,
          8,
          6,
          3,
          8,
          13,
          7,
          1,
          3,
          4,
          5,
          5,
          9,
          8,
          3,
          2,
          6,
          1,
          4,
          9,
          7,
          13,
          16,
          4,
          4,
          5,
          17,
          3,
          17,
          3,
          5,
          4,
          10,
          2,
          9,
          3,
          3,
          10,
          6,
          7,
          2,
          14,
          4,
          11,
          7,
          18,
          5,
          4,
          13,
          23,
          2,
          10,
          5,
          9,
          16,
          4,
          7,
          15,
          12,
          16,
          4,
          16,
          0,
          7,
          7,
          1,
          5,
          5,
          1,
          1,
          6,
          2,
          1,
          15,
          4,
          5,
          12,
          8,
          13,
          8,
          19,
          2,
          10,
          0,
          9,
          6,
          0,
          14,
          1,
          9,
          2,
          1,
          1,
          10,
          18,
          10,
          5,
          7,
          9,
          13,
          9,
          5,
          11,
          11,
          9,
          23,
          3,
          17,
          3,
          7,
          6,
          3,
          2,
          5,
          4,
          4,
          6,
          4,
          4,
          11,
          5,
          8,
          9,
          10,
          9,
          13,
          5,
          5,
          15,
          1,
          1,
          10,
          4,
          15,
          6,
          3,
          4,
          13,
          6,
          2,
          11,
          8,
          5,
          7,
          7,
          7,
          10,
          5,
          4,
          8,
          4,
          7,
          7,
          2,
          13,
          17,
          2,
          5,
          14,
          6,
          5,
          5,
          10,
          2,
          1,
          3,
          14,
          7,
          7,
          4,
          8,
          0,
          13,
          16,
          5,
          5,
          4,
          3,
          0,
          11,
          11,
          10,
          6,
          3,
          8,
          6,
          5,
          5,
          13,
          7,
          10,
          3,
          4,
          4,
          10,
          8,
          12,
          5,
          7,
          8,
          1,
          4,
          3,
          1,
          6,
          8,
          10,
          15,
          9,
          13,
          6,
          11,
          0,
          15,
          8,
          6,
          8,
          7,
          16,
          6,
          9,
          4,
          10,
          12,
          2,
          12,
          2,
          5,
          8,
          5,
          12,
          10,
          11,
          5,
          2,
          8,
          7,
          6,
          9,
          4,
          11,
          5,
          7,
          8,
          3,
          7,
          6,
          6,
          1,
          10,
          5,
          7,
          1,
          7,
          5,
          11,
          3,
          1,
          3,
          2,
          9,
          5,
          1,
          4,
          5,
          6,
          8,
          11,
          10,
          12,
          3,
          9,
          13,
          12,
          2,
          14,
          0,
          15,
          6,
          7,
          8,
          4,
          4,
          5,
          5,
          12,
          8,
          11,
          2,
          12,
          11,
          10,
          6,
          13,
          6,
          9,
          2,
          5,
          6,
          11,
          2,
          11,
          9,
          10,
          5,
          7,
          10,
          8,
          5,
          0,
          14,
          10,
          3,
          12,
          7,
          10,
          6,
          5,
          3,
          8,
          14,
          9,
          8,
          7,
          4,
          17,
          6,
          17,
          0
         ]
        }
       ],
       "layout": {
        "autosize": false,
        "height": 500,
        "margin": {
         "b": 10,
         "l": 10,
         "pad": 4,
         "r": 10,
         "t": 100
        },
        "template": {
         "data": {
          "bar": [
           {
            "error_x": {
             "color": "#2a3f5f"
            },
            "error_y": {
             "color": "#2a3f5f"
            },
            "marker": {
             "line": {
              "color": "#E5ECF6",
              "width": 0.5
             }
            },
            "type": "bar"
           }
          ],
          "barpolar": [
           {
            "marker": {
             "line": {
              "color": "#E5ECF6",
              "width": 0.5
             }
            },
            "type": "barpolar"
           }
          ],
          "carpet": [
           {
            "aaxis": {
             "endlinecolor": "#2a3f5f",
             "gridcolor": "white",
             "linecolor": "white",
             "minorgridcolor": "white",
             "startlinecolor": "#2a3f5f"
            },
            "baxis": {
             "endlinecolor": "#2a3f5f",
             "gridcolor": "white",
             "linecolor": "white",
             "minorgridcolor": "white",
             "startlinecolor": "#2a3f5f"
            },
            "type": "carpet"
           }
          ],
          "choropleth": [
           {
            "colorbar": {
             "outlinewidth": 0,
             "ticks": ""
            },
            "type": "choropleth"
           }
          ],
          "contour": [
           {
            "colorbar": {
             "outlinewidth": 0,
             "ticks": ""
            },
            "colorscale": [
             [
              0,
              "#0d0887"
             ],
             [
              0.1111111111111111,
              "#46039f"
             ],
             [
              0.2222222222222222,
              "#7201a8"
             ],
             [
              0.3333333333333333,
              "#9c179e"
             ],
             [
              0.4444444444444444,
              "#bd3786"
             ],
             [
              0.5555555555555556,
              "#d8576b"
             ],
             [
              0.6666666666666666,
              "#ed7953"
             ],
             [
              0.7777777777777778,
              "#fb9f3a"
             ],
             [
              0.8888888888888888,
              "#fdca26"
             ],
             [
              1,
              "#f0f921"
             ]
            ],
            "type": "contour"
           }
          ],
          "contourcarpet": [
           {
            "colorbar": {
             "outlinewidth": 0,
             "ticks": ""
            },
            "type": "contourcarpet"
           }
          ],
          "heatmap": [
           {
            "colorbar": {
             "outlinewidth": 0,
             "ticks": ""
            },
            "colorscale": [
             [
              0,
              "#0d0887"
             ],
             [
              0.1111111111111111,
              "#46039f"
             ],
             [
              0.2222222222222222,
              "#7201a8"
             ],
             [
              0.3333333333333333,
              "#9c179e"
             ],
             [
              0.4444444444444444,
              "#bd3786"
             ],
             [
              0.5555555555555556,
              "#d8576b"
             ],
             [
              0.6666666666666666,
              "#ed7953"
             ],
             [
              0.7777777777777778,
              "#fb9f3a"
             ],
             [
              0.8888888888888888,
              "#fdca26"
             ],
             [
              1,
              "#f0f921"
             ]
            ],
            "type": "heatmap"
           }
          ],
          "heatmapgl": [
           {
            "colorbar": {
             "outlinewidth": 0,
             "ticks": ""
            },
            "colorscale": [
             [
              0,
              "#0d0887"
             ],
             [
              0.1111111111111111,
              "#46039f"
             ],
             [
              0.2222222222222222,
              "#7201a8"
             ],
             [
              0.3333333333333333,
              "#9c179e"
             ],
             [
              0.4444444444444444,
              "#bd3786"
             ],
             [
              0.5555555555555556,
              "#d8576b"
             ],
             [
              0.6666666666666666,
              "#ed7953"
             ],
             [
              0.7777777777777778,
              "#fb9f3a"
             ],
             [
              0.8888888888888888,
              "#fdca26"
             ],
             [
              1,
              "#f0f921"
             ]
            ],
            "type": "heatmapgl"
           }
          ],
          "histogram": [
           {
            "marker": {
             "colorbar": {
              "outlinewidth": 0,
              "ticks": ""
             }
            },
            "type": "histogram"
           }
          ],
          "histogram2d": [
           {
            "colorbar": {
             "outlinewidth": 0,
             "ticks": ""
            },
            "colorscale": [
             [
              0,
              "#0d0887"
             ],
             [
              0.1111111111111111,
              "#46039f"
             ],
             [
              0.2222222222222222,
              "#7201a8"
             ],
             [
              0.3333333333333333,
              "#9c179e"
             ],
             [
              0.4444444444444444,
              "#bd3786"
             ],
             [
              0.5555555555555556,
              "#d8576b"
             ],
             [
              0.6666666666666666,
              "#ed7953"
             ],
             [
              0.7777777777777778,
              "#fb9f3a"
             ],
             [
              0.8888888888888888,
              "#fdca26"
             ],
             [
              1,
              "#f0f921"
             ]
            ],
            "type": "histogram2d"
           }
          ],
          "histogram2dcontour": [
           {
            "colorbar": {
             "outlinewidth": 0,
             "ticks": ""
            },
            "colorscale": [
             [
              0,
              "#0d0887"
             ],
             [
              0.1111111111111111,
              "#46039f"
             ],
             [
              0.2222222222222222,
              "#7201a8"
             ],
             [
              0.3333333333333333,
              "#9c179e"
             ],
             [
              0.4444444444444444,
              "#bd3786"
             ],
             [
              0.5555555555555556,
              "#d8576b"
             ],
             [
              0.6666666666666666,
              "#ed7953"
             ],
             [
              0.7777777777777778,
              "#fb9f3a"
             ],
             [
              0.8888888888888888,
              "#fdca26"
             ],
             [
              1,
              "#f0f921"
             ]
            ],
            "type": "histogram2dcontour"
           }
          ],
          "mesh3d": [
           {
            "colorbar": {
             "outlinewidth": 0,
             "ticks": ""
            },
            "type": "mesh3d"
           }
          ],
          "parcoords": [
           {
            "line": {
             "colorbar": {
              "outlinewidth": 0,
              "ticks": ""
             }
            },
            "type": "parcoords"
           }
          ],
          "pie": [
           {
            "automargin": true,
            "type": "pie"
           }
          ],
          "scatter": [
           {
            "marker": {
             "colorbar": {
              "outlinewidth": 0,
              "ticks": ""
             }
            },
            "type": "scatter"
           }
          ],
          "scatter3d": [
           {
            "line": {
             "colorbar": {
              "outlinewidth": 0,
              "ticks": ""
             }
            },
            "marker": {
             "colorbar": {
              "outlinewidth": 0,
              "ticks": ""
             }
            },
            "type": "scatter3d"
           }
          ],
          "scattercarpet": [
           {
            "marker": {
             "colorbar": {
              "outlinewidth": 0,
              "ticks": ""
             }
            },
            "type": "scattercarpet"
           }
          ],
          "scattergeo": [
           {
            "marker": {
             "colorbar": {
              "outlinewidth": 0,
              "ticks": ""
             }
            },
            "type": "scattergeo"
           }
          ],
          "scattergl": [
           {
            "marker": {
             "colorbar": {
              "outlinewidth": 0,
              "ticks": ""
             }
            },
            "type": "scattergl"
           }
          ],
          "scattermapbox": [
           {
            "marker": {
             "colorbar": {
              "outlinewidth": 0,
              "ticks": ""
             }
            },
            "type": "scattermapbox"
           }
          ],
          "scatterpolar": [
           {
            "marker": {
             "colorbar": {
              "outlinewidth": 0,
              "ticks": ""
             }
            },
            "type": "scatterpolar"
           }
          ],
          "scatterpolargl": [
           {
            "marker": {
             "colorbar": {
              "outlinewidth": 0,
              "ticks": ""
             }
            },
            "type": "scatterpolargl"
           }
          ],
          "scatterternary": [
           {
            "marker": {
             "colorbar": {
              "outlinewidth": 0,
              "ticks": ""
             }
            },
            "type": "scatterternary"
           }
          ],
          "surface": [
           {
            "colorbar": {
             "outlinewidth": 0,
             "ticks": ""
            },
            "colorscale": [
             [
              0,
              "#0d0887"
             ],
             [
              0.1111111111111111,
              "#46039f"
             ],
             [
              0.2222222222222222,
              "#7201a8"
             ],
             [
              0.3333333333333333,
              "#9c179e"
             ],
             [
              0.4444444444444444,
              "#bd3786"
             ],
             [
              0.5555555555555556,
              "#d8576b"
             ],
             [
              0.6666666666666666,
              "#ed7953"
             ],
             [
              0.7777777777777778,
              "#fb9f3a"
             ],
             [
              0.8888888888888888,
              "#fdca26"
             ],
             [
              1,
              "#f0f921"
             ]
            ],
            "type": "surface"
           }
          ],
          "table": [
           {
            "cells": {
             "fill": {
              "color": "#EBF0F8"
             },
             "line": {
              "color": "white"
             }
            },
            "header": {
             "fill": {
              "color": "#C8D4E3"
             },
             "line": {
              "color": "white"
             }
            },
            "type": "table"
           }
          ]
         },
         "layout": {
          "annotationdefaults": {
           "arrowcolor": "#2a3f5f",
           "arrowhead": 0,
           "arrowwidth": 1
          },
          "autotypenumbers": "strict",
          "coloraxis": {
           "colorbar": {
            "outlinewidth": 0,
            "ticks": ""
           }
          },
          "colorscale": {
           "diverging": [
            [
             0,
             "#8e0152"
            ],
            [
             0.1,
             "#c51b7d"
            ],
            [
             0.2,
             "#de77ae"
            ],
            [
             0.3,
             "#f1b6da"
            ],
            [
             0.4,
             "#fde0ef"
            ],
            [
             0.5,
             "#f7f7f7"
            ],
            [
             0.6,
             "#e6f5d0"
            ],
            [
             0.7,
             "#b8e186"
            ],
            [
             0.8,
             "#7fbc41"
            ],
            [
             0.9,
             "#4d9221"
            ],
            [
             1,
             "#276419"
            ]
           ],
           "sequential": [
            [
             0,
             "#0d0887"
            ],
            [
             0.1111111111111111,
             "#46039f"
            ],
            [
             0.2222222222222222,
             "#7201a8"
            ],
            [
             0.3333333333333333,
             "#9c179e"
            ],
            [
             0.4444444444444444,
             "#bd3786"
            ],
            [
             0.5555555555555556,
             "#d8576b"
            ],
            [
             0.6666666666666666,
             "#ed7953"
            ],
            [
             0.7777777777777778,
             "#fb9f3a"
            ],
            [
             0.8888888888888888,
             "#fdca26"
            ],
            [
             1,
             "#f0f921"
            ]
           ],
           "sequentialminus": [
            [
             0,
             "#0d0887"
            ],
            [
             0.1111111111111111,
             "#46039f"
            ],
            [
             0.2222222222222222,
             "#7201a8"
            ],
            [
             0.3333333333333333,
             "#9c179e"
            ],
            [
             0.4444444444444444,
             "#bd3786"
            ],
            [
             0.5555555555555556,
             "#d8576b"
            ],
            [
             0.6666666666666666,
             "#ed7953"
            ],
            [
             0.7777777777777778,
             "#fb9f3a"
            ],
            [
             0.8888888888888888,
             "#fdca26"
            ],
            [
             1,
             "#f0f921"
            ]
           ]
          },
          "colorway": [
           "#636efa",
           "#EF553B",
           "#00cc96",
           "#ab63fa",
           "#FFA15A",
           "#19d3f3",
           "#FF6692",
           "#B6E880",
           "#FF97FF",
           "#FECB52"
          ],
          "font": {
           "color": "#2a3f5f"
          },
          "geo": {
           "bgcolor": "white",
           "lakecolor": "white",
           "landcolor": "#E5ECF6",
           "showlakes": true,
           "showland": true,
           "subunitcolor": "white"
          },
          "hoverlabel": {
           "align": "left"
          },
          "hovermode": "closest",
          "mapbox": {
           "style": "light"
          },
          "paper_bgcolor": "white",
          "plot_bgcolor": "#E5ECF6",
          "polar": {
           "angularaxis": {
            "gridcolor": "white",
            "linecolor": "white",
            "ticks": ""
           },
           "bgcolor": "#E5ECF6",
           "radialaxis": {
            "gridcolor": "white",
            "linecolor": "white",
            "ticks": ""
           }
          },
          "scene": {
           "xaxis": {
            "backgroundcolor": "#E5ECF6",
            "gridcolor": "white",
            "gridwidth": 2,
            "linecolor": "white",
            "showbackground": true,
            "ticks": "",
            "zerolinecolor": "white"
           },
           "yaxis": {
            "backgroundcolor": "#E5ECF6",
            "gridcolor": "white",
            "gridwidth": 2,
            "linecolor": "white",
            "showbackground": true,
            "ticks": "",
            "zerolinecolor": "white"
           },
           "zaxis": {
            "backgroundcolor": "#E5ECF6",
            "gridcolor": "white",
            "gridwidth": 2,
            "linecolor": "white",
            "showbackground": true,
            "ticks": "",
            "zerolinecolor": "white"
           }
          },
          "shapedefaults": {
           "line": {
            "color": "#2a3f5f"
           }
          },
          "ternary": {
           "aaxis": {
            "gridcolor": "white",
            "linecolor": "white",
            "ticks": ""
           },
           "baxis": {
            "gridcolor": "white",
            "linecolor": "white",
            "ticks": ""
           },
           "bgcolor": "#E5ECF6",
           "caxis": {
            "gridcolor": "white",
            "linecolor": "white",
            "ticks": ""
           }
          },
          "title": {
           "x": 0.05
          },
          "xaxis": {
           "automargin": true,
           "gridcolor": "white",
           "linecolor": "white",
           "ticks": "",
           "title": {
            "standoff": 15
           },
           "zerolinecolor": "white",
           "zerolinewidth": 2
          },
          "yaxis": {
           "automargin": true,
           "gridcolor": "white",
           "linecolor": "white",
           "ticks": "",
           "title": {
            "standoff": 15
           },
           "zerolinecolor": "white",
           "zerolinewidth": 2
          }
         }
        },
        "title": {
         "text": "Number of Currently Available Bikes in All Different Stations"
        },
        "width": 1500
       }
      }
     },
     "metadata": {}
    }
   ],
   "source": [
    "fig = go.Figure(\n",
    "    data=[go.Bar(y=number_bikes)],\n",
    "    layout_title_text=\"Number of Currently Available Bikes in All Different Stations\"\n",
    ")\n",
    "fig.update_layout(\n",
    "    autosize=False,\n",
    "    width=1500,\n",
    "    height=500,\n",
    "    margin=dict(\n",
    "        l=10,\n",
    "        r=10,\n",
    "        b=10,\n",
    "        t=100,\n",
    "        pad=4\n",
    "    )#,\n",
    "#    paper_bgcolor=\"LightSteelBlue\",\n",
    ")\n",
    "fig.show()"
   ]
  },
  {
   "cell_type": "code",
   "execution_count": 38,
   "metadata": {},
   "outputs": [
    {
     "output_type": "execute_result",
     "data": {
      "text/plain": [
       "{'capacity': 15,\n",
       " 'electric_bike_surcharge_waiver': False,\n",
       " 'name': 'Eads St & 15th St S',\n",
       " 'external_id': '082469cc-1f3f-11e7-bf6b-3863bb334450',\n",
       " 'lat': 38.858971,\n",
       " 'rental_methods': ['CREDITCARD', 'KEY'],\n",
       " 'eightd_has_key_dispenser': False,\n",
       " 'region_id': '41',\n",
       " 'station_id': '1',\n",
       " 'eightd_station_services': [],\n",
       " 'lon': -77.05323,\n",
       " 'short_name': '31000',\n",
       " 'rental_uris': {'android': 'https://dc.lft.to/lastmile_qr_scan',\n",
       "  'ios': 'https://dc.lft.to/lastmile_qr_scan'},\n",
       " 'station_type': 'classic',\n",
       " 'legacy_id': '1',\n",
       " 'has_kiosk': True}"
      ]
     },
     "metadata": {},
     "execution_count": 38
    }
   ],
   "source": [
    "d_station_information.data[0][0]"
   ]
  },
  {
   "cell_type": "code",
   "execution_count": 39,
   "metadata": {},
   "outputs": [],
   "source": [
    "# Building map for all bike stations\n",
    "\n",
    "all_stations = []\n",
    "station_id = []\n",
    "lat = []\n",
    "lon = []\n",
    "\n",
    "for i in range(len(d_station_information.data[0])):\n",
    "    all_stations.append(d_station_information.data[0][i]['name'])\n",
    "    station_id.append(d_station_information.data[0][i]['station_id'])\n",
    "    lat.append(d_station_information.data[0][i]['lat'])\n",
    "    lon.append(d_station_information.data[0][i]['lon'])\n",
    "\n",
    "all_stations = pd.DataFrame(all_stations)\n",
    "station_id = pd.DataFrame(station_id)\n",
    "lat = pd.DataFrame(lat)\n",
    "lon = pd.DataFrame(lon)\n",
    "all_stations['station_id'] = station_id\n",
    "all_stations['lat'] = lat\n",
    "all_stations['lon'] = lon\n",
    "all_stations.columns = ['street', 'station_id', 'lat', 'lon']"
   ]
  },
  {
   "cell_type": "code",
   "execution_count": 40,
   "metadata": {},
   "outputs": [
    {
     "output_type": "display_data",
     "data": {
      "application/vnd.plotly.v1+json": {
       "config": {
        "plotlyServerURL": "https://plot.ly"
       },
       "data": [
        {
         "hovertemplate": "<b>%{hovertext}</b><br><br>lat=%{lat}<br>lon=%{lon}<extra></extra>",
         "hovertext": [
          "Eads St & 15th St S",
          "18th St & S Eads St",
          "Crystal Dr & 20th St S",
          "Crystal Dr & 15th St S",
          "Aurora Hills Cmty Ctr / 18th St & S Hayes St",
          "Pentagon City Metro / 12th St & S Hayes St",
          "Army Navy Dr & S Joyce St",
          "Crystal City Metro / 18th St & S Bell St",
          "Crystal Dr & 27th St S",
          "S Glebe Rd & Potomac Ave",
          "Crystal Dr & 23rd St S",
          "Clark St & 26th St S",
          "19th St & Pennsylvania Ave NW",
          "14th & V St NW",
          "11th & Kenyon St NW",
          "16th & Harvard St NW",
          "Adams Mill & Columbia Rd NW",
          "14th & Harvard St NW",
          "Calvert & Biltmore St NW",
          "Lamont & Mt Pleasant NW",
          "4th & M St SW",
          "15th & P St NW",
          "14th & R St NW",
          "14th & Rhode Island Ave NW",
          "20th & E St NW",
          "21st & I St NW",
          "Georgia & New Hampshire Ave NW",
          "14th St & Spring Rd NW",
          "John McCormack Dr & Michigan Ave NE",
          "5th & K St NW",
          "19th & East Capitol St SE",
          "Park Rd & Holmead Pl NW",
          "Good Hope & Naylor Rd SE",
          "Connecticut Ave & Newark St NW / Cleveland Park",
          "Randle Circle & Minnesota Ave SE",
          "Minnesota Ave Metro/DOES",
          "Nannie Helen Burroughs & Minnesota Ave NE",
          "Anacostia Metro",
          "Good Hope Rd & MLK Ave SE",
          "19th & E Street NW",
          "4th & W St NE",
          "10th & U St NW",
          "Georgia Ave and Fairmont St NW",
          "1st & N St  SE",
          "20th St & Florida Ave NW",
          "7th & T St NW",
          "Eads St & 22nd St S",
          "M St & New Jersey Ave SE",
          "Massachusetts Ave & Dupont Circle NW",
          "1st & M St NE",
          "New Hampshire Ave & Ward Pl NW",
          "17th & K St NW",
          "3rd & H St NW",
          "3rd & D St SE",
          "Potomac & Pennsylvania Ave SE",
          "13th & E St SE",
          "17th & Corcoran St NW",
          "Van Ness Metro / UDC",
          "Florida Ave & R St NW",
          "8th & Eye St SE / Barracks Row",
          "Ward Circle / American University",
          "Wisconsin Ave & Newark St NW",
          "14th St Heights / 14th & Crittenden St NW",
          "Anacostia Library",
          "Pennsylvania & Minnesota Ave SE",
          "Eastern Market / 7th & North Carolina Ave SE",
          "14th St & New York Ave NW",
          "Benning Branch Library",
          "USDA / 12th & C St SW",
          "Georgetown Harbor / 30th St NW",
          "12th & Newton St NE",
          "US Dept of State / Virginia Ave & 21st St NW",
          "L'Enfant Plaza / 7th & C St SW",
          "10th St & Constitution Ave NW",
          "Kennedy Center",
          "Eastern Market Metro / Pennsylvania Ave & 8th St SE",
          "18th & M St NW",
          "Tenleytown / Wisconsin Ave & Albemarle St NW",
          "13th & H St NE",
          "5th & F St NW",
          "New York Ave & 15th St NW",
          "Convention Center / 7th & M St NW",
          "Harvard St & Adams Mill Rd NW",
          "18th & L St NW",
          "C & O Canal & Wisconsin Ave NW",
          "Maine Ave & 7th St SW",
          "D St & Maryland Ave NE",
          "34th St & Wisconsin Ave NW",
          "13th St & New York Ave NW",
          "8th & H St NW",
          "10th & Monroe St NE",
          "Eckington Pl & Q St NE",
          "6th & H St NE",
          "3rd & H St NE",
          "Bladensburg Rd & Benning Rd NE",
          "4th & East Capitol St NE",
          "Lincoln Park / 13th & East Capitol St NE ",
          "Branch & Pennsylvania Ave SE",
          "13th & D St NE",
          "New Hampshire Ave & T St NW",
          "Metro Center / 12th & G St NW",
          "14th & D St NW / Ronald Reagan Building",
          "7th & F St NW / National Portrait Gallery",
          "17th & K St NW / Farragut Square",
          "20th & O St NW / Dupont South",
          "4th & D St NW / Judiciary Square",
          "19th St & Constitution Ave NW",
          "37th & O St NW / Georgetown University",
          "11th & H St NE",
          "25th St & Pennsylvania Ave NW",
          "Columbus Circle / Union Station",
          "North Capitol St & F St NW",
          "11th & M St NW",
          "36th & Calvert St NW / Glover Park",
          "14th & G St NW",
          "Potomac Ave & 35th St S",
          "Ohio Dr & West Basin Dr SW / MLK & FDR Memorials",
          "11th & F St NW",
          "23rd & E St NW ",
          "Lynn St & 19th St North",
          "Rosslyn Metro / Wilson Blvd & Ft Myer Dr",
          "Clarendon Blvd & Pierce St",
          "Wilson Blvd & N Uhle St",
          "Rhodes St & 16th St N",
          "Fairfax Village",
          "21st St & Constitution Ave NW",
          "Wilson Blvd & N Edgewood St",
          "Columbia Rd & Belmont St NW",
          "Rhode Island & Connecticut Ave NW",
          "Thomas Circle",
          "Wilson Blvd & N Franklin Rd",
          "Clarendon Blvd & N Fillmore St",
          "Clarendon Metro / Wilson Blvd & N Highland St",
          "18th St & Pennsylvania Ave NW",
          "4th & C St SW",
          "4th & E St SW",
          "3rd & G St SE",
          "7th & R St NW / Shaw Library",
          "9th & Upshur St NW",
          "1st & Rhode Island Ave NW",
          "Columbia Rd & Georgia Ave NW",
          "California St & Florida Ave NW",
          "Benning Rd & East Capitol St NE / Benning Rd Metro",
          "3000 Connecticut Ave NW / National Zoo",
          "Anacostia Ave & Benning Rd NE / River Terrace ",
          "M St & Pennsylvania Ave NW",
          "15th St & Massachusetts Ave SE",
          "Congress Heights Metro",
          "N Quincy St & Glebe Rd",
          "Barcroft Community Center",
          "N Veitch St & 20th St N",
          "10th & K St NW",
          "Fairfax Dr & Wilson Blvd",
          "Wilson Blvd & N Quinn St",
          "1st & K St SE",
          "39th & Calvert St NW / Stoddert",
          "1st & Washington Hospital Center NW",
          "Virginia Square Metro / Monroe St & 9th St N",
          "Central Library / Quincy St & 10th St N",
          "Washington Blvd & 10th St N",
          "Jefferson Dr & 14th St SW",
          "Smithsonian-National Mall / Jefferson Dr & 12th St SW",
          "George Mason Dr & Wilson Blvd",
          "6th St & Indiana Ave NW",
          "N Veitch St & Key Blvd",
          "Lee Hwy & N Adams St",
          "15th St & N Scott St",
          "Washington Blvd & 7th St N",
          "Ballston Metro / Stuart St & 9th St N",
          "Fairfax Dr & N Randolph St",
          "Jefferson Memorial",
          "Good Hope Rd & 14th St SE",
          "Glebe Rd & 11th St N",
          "Wilson Blvd & N Quincy St",
          "GMU / Fairfax Dr & Kenmore St",
          "Gallaudet / 8th St & Florida Ave NE",
          "20th & L St NW",
          "12th & L St NW",
          "21st St & Pennsylvania Ave NW",
          "19th & K St NW",
          "Prince St & Union St",
          "Market Square / King St & Royal St",
          "St Asaph & Pendleton St",
          "King St & Patrick St",
          "15th & K St NW",
          "Commerce St & Fayette St",
          "Henry St & Pendleton St",
          "Braddock Rd Metro",
          "King St Metro South",
          "24th & N St NW",
          "10th & E St NW",
          "22nd & I St NW / Foggy Bottom",
          "Utah St & 11th St N",
          "Barton St & 10th St N",
          "Arlington Blvd & N Queen St",
          "Lincoln Memorial",
          "20th St & Virginia Ave NW",
          "5th St & Massachusetts Ave NW",
          "39th & Veazey St NW",
          "Fessenden St & Wisconsin Ave NW",
          "3rd & M St NE",
          "Columbia Pike & S Courthouse Rd",
          "Wakefield High School",
          "28th St & S Meade St",
          "18th St & Wyoming Ave NW",
          "5th & Kennedy St NW",
          "Georgia Ave & Emerson St NW",
          "14th & Upshur St NW",
          "14th St & Colorado Ave NW",
          "Troy St & 26th St S",
          "Four Mile Run Dr & S Shirlington Rd",
          "Columbia Pike & S Oakland St",
          "Four Mile Run Dr & S Walter Reed Dr",
          "S Arlington Mill Dr & Campbell Ave",
          "Kenmore St & 24th St S",
          "13th St & Eastern Ave",
          "Wisconsin Ave & O St NW",
          "Roosevelt Island",
          "Connecticut & Nebraska Ave NW",
          "17th St & Massachusetts Ave NW",
          "15th & Euclid St  NW",
          "8th & East Capitol St NE",
          "New Jersey Ave & R St NW",
          "15th & East Capitol St NE",
          "8th & F St NE",
          "18th St & Rhode Island Ave NE",
          "15th & F St NE",
          "12th & Irving St NE",
          "Alabama & MLK Ave SE",
          "Pleasant St & MLK Ave SE",
          "Neal St & Trinidad Ave NE",
          "12th & U St NW",
          "S George Mason & Four Mile Run Dr",
          "Gravelly Point",
          "Pershing Dr & Wayne St",
          "Columbia Pike & S Orme St",
          "3rd St & Pennsylvania Ave SE",
          "8th & D St NW",
          "3rd & Elm St NW",
          "Rhode Island Ave & V St NE",
          "Constitution Ave & 2nd St NW/DOL",
          "Washington & Independence Ave SW/HHS",
          "Independence Ave & L'Enfant Plaza SW/DOE",
          "Hamlin & 7th St NE",
          "Columbia Pike & S Walter Reed Dr",
          "Arlington Mill Cmty Center / Columbia Pike & S Dinwiddie St",
          "Pershing Dr & N George Mason Dr",
          "Fenton St & New York Ave ",
          "Bethesda Ave & Arlington Rd",
          "Montgomery Ave & Waverly St ",
          "Fallsgrove Blvd & Fallsgrove Dr",
          "Traville Gateway Dr & Gudelsky Dr",
          "Norfolk Ave & Fairmont St",
          "E Montgomery Ave & Maryland Ave",
          "Cordell & Norfolk Ave",
          "Frederick Ave & Horners Ln",
          "Philadelphia & Maple Ave",
          "Maple & Ritchie Ave",
          "Silver Spring Metro / Colesville Rd & Wayne Ave",
          "Montgomery & East Ln",
          "Friendship Hts Metro / Wisconsin Ave & Wisconsin Cir",
          "14th & Belmont St NW",
          "3rd & Tingey St SE",
          "10th & Florida Ave NW",
          "Potomac Ave & 8th St SE",
          "Fallsgrove Dr & W Montgomery Ave",
          "Monroe St & Monroe Pl",
          "Needwood Rd & Eagles Head Ct",
          "East West Hwy & Blair Mill Rd",
          "47th & Elm St",
          "Dennis Ave & Amherst Ave",
          "Montgomery College / W Campus Dr & Mannakee St",
          "Fenton St & Gist Ave",
          "Carroll & Westmoreland Ave",
          "Carroll & Ethan Allen Ave",
          "Battery Ln & Trolley Trail",
          "Norfolk & Rugby Ave",
          "Offutt Ln & Chevy Chase Dr",
          "Fleet St & Ritchie Pkwy",
          "Piccard & W Gude Dr",
          "Silver Spring Transit Center - Top Level",
          "Georgia Ave & Spring St",
          "Fenton St & Ellsworth Dr ",
          "King Farm Blvd & Pleasant Dr",
          "King Farm Blvd & Piccard Dr",
          "Calvert St & Woodley Pl NW",
          "New Jersey Ave & N St NW/Dunbar HS",
          "Nannie Helen Burroughs Ave & 49th St NE",
          "Deanwood Rec Center",
          "Hains Point/Buckeye & Ohio Dr SW",
          "Arlington Blvd & Fillmore St",
          "Eads St & 12th St S",
          "Old Georgetown Rd & Southwick St",
          "Friendship Blvd & Willard Ave",
          "North Capitol St & G Pl NE",
          "31st St & S Woodrow St",
          "Washington Blvd & Walter Reed Dr ",
          "TJ Cmty Ctr / 2nd St & S Old Glebe Rd",
          "Connecticut Ave & Tilden St NW",
          "Medical Center Dr & Key West Ave",
          "Shady Grove Hospital",
          "Veterans Pl & Pershing Dr ",
          "Rockville Metro East",
          "1st & H St NW",
          "Fort Totten Metro",
          "Takoma Metro",
          "Rhode Island Ave Metro",
          "Rolfe St & 9th St S",
          "Shirlington Transit Center / Quincy St & Randolph St",
          "Shady Grove Metro West",
          "River Rd & Landy Ln",
          "Rockville Metro West",
          "Bethesda Metro / Wisconsin Ave & Old Georgetown Rd",
          "Iwo Jima Memorial / Meade & 14th St N",
          "34th & Water St NW",
          "Duke St & John Carlyle St",
          "Lee Hwy & N Cleveland St",
          "Arlington Blvd & S George Mason Dr",
          "10th & G St NW",
          "Lee Hwy & N Scott St",
          "New Hampshire Ave & 24th St NW",
          "Eisenhower Ave & Mill Race Ln",
          "Potomac Greens Dr & Slaters Ln",
          "Ballenger Ave & Dulaney St",
          "Mount Vernon Ave & E Nelson Ave",
          "Mount Vernon Ave & E Del Ray Ave",
          "Monroe Ave & Leslie Ave",
          "Mount Vernon Ave & Kennedy St",
          "Court House Metro / 15th St & N Uhle St",
          "WAU / Flower Ave & Division St",
          "Long Bridge Park / Long Bridge Dr & 6th St S",
          "Connecticut Ave & McKinley St NW",
          "15th & L St NW",
          "17th & G St NW",
          "Spring St & 2nd Ave",
          "18th & R St NW",
          "Joyce St & 16th St S",
          "Union Market",
          "Lee Hwy & N Monroe St",
          "21st St & N Pierce St",
          "Lee Hwy & N Kirkwood Rd",
          "19th & G St NW",
          "2nd St & Seaton Pl NE",
          "Wilson Blvd & N Illinois St ",
          "Army Navy Dr & S Nash St",
          "31st & Water St NW",
          "11th & S St NW",
          "Walter Reed Dr & 8th St S",
          "2nd & G St NE",
          "8th & O St NW",
          "Georgia & Missouri Ave NW",
          "Oklahoma Ave & D St NE",
          "Maryland Ave & E St NE",
          "New York Ave & Hecht Ave NE",
          "Yuma St & Tenley Circle NW",
          "Connecticut Ave & Chevy Chase Lake Dr",
          "Key West Ave & Siesta Key Way",
          "Lee Hwy & N Woodstock St",
          "Saint Asaph St & Madison St",
          "King St Metro North / Cameron St",
          "Madison St & N Henry St",
          "Medical Center Metro ",
          "Washington Blvd & N Frederick St",
          "Wisconsin Ave & Ingomar St NW",
          "16th & Irving St NW",
          "16th & R St NW",
          "Lyttonsville Rd & Lyttonsville Pl",
          "Woodmont Ave & Strathmore St",
          "14th & L St NW",
          "1st & O St NW",
          "South Capitol & Atlantic St SW",
          "18th & C St NW",
          "22nd & P ST NW",
          "East West Hwy & 16th St",
          "Royal St & Wilkes St",
          "14th & Girard St NW",
          "Potomac Ave & Main Line Blvd",
          "11th & O St NW",
          "10th St & L'Enfant Plaza SW",
          "Connecticut Ave & Yuma St NW",
          "2nd St & Massachusetts Ave NE",
          "Radford St & Osage St",
          "East Falls Church Metro / Sycamore St & 19th St N",
          "Kennebec St & 11th St N",
          "Commonwealth Ave & Oak St",
          "Commonwealth Ave & E Monroe Ave",
          "4th St & Madison Dr NW",
          "Henry Bacon Dr & Lincoln Memorial Circle NW",
          "17th St & Independence Ave SW",
          "Franklin St & S Washington St",
          "Mount Vernon Ave & Four Mile Run Park",
          "4th St & K St NW",
          "Mount Vernon Ave & Bruce St",
          "Lee Center",
          "Powhatan St & Bashford Ln",
          "Potomac Ave & Swann Ave",
          "14th & Irving St NW",
          "Vermont Ave & I St NW",
          "Wisconsin Ave & Brandywine St NW",
          "24th & R St NE / National Arboretum",
          "Division Ave & Foote St NE",
          "16th & Q St SE / Anacostia HS",
          "Spring Hill Metro",
          "Westpark Dr & Leesburg Pike",
          "Tysons One Pl & Chain Bridge Rd",
          "Tysons Corner Station",
          "Westpark & Jones Branch Dr",
          "Jones Branch & Westbranch Dr",
          "Westpark & Park Run Dr",
          "Tysons West Transit Center",
          "North Shore & Cameron Crescent Dr/Crescent Apartments",
          "Town Center Pkwy & Bowman Towne Dr",
          "Reston Regional Library",
          "New Dominion Pkwy & Fountain Dr",
          "Sunset Hills & Old Reston Ave",
          "Reston Town Center Transit Station",
          "1st & D St SE",
          "Wiehle Ave & Reston Station Blvd",
          "Library St & Freedom Dr",
          "Sunset Hills Rd & Discovery Square",
          "22nd St & Constitution Ave NW",
          "61st St & Banks Pl NE",
          "Temporary Rd & Old Reston Ave",
          "Reston YMCA",
          "Sunset Hills Rd & Isaac Newton Square",
          "N Lynn St & Fairfax Dr",
          "Georgia Ave & Piney Branch Rd NW",
          "Greensboro & International Dr",
          "Madison St & Fairfax St",
          "Sligo Ave & Carroll Ln",
          "15th & W St NW",
          "12th St & Pennsylvania Ave SE",
          "3rd St & Riggs Rd NE",
          "Carlin Springs Rd & N Thomas St",
          "Towers Crescent Dr & Tysons One Pl",
          "6th & K St NE",
          "Pooks Hill Rd & Linden Ave",
          "Takoma Park Rec Center",
          "New Hampshire & Kirklynn Ave",
          "Wheaton Metro / Georgia Ave & Reedie Dr",
          "Amherst Ave & Elkins St",
          "Amherst Ave & Prichard Rd",
          "Grandview & Blueridge Ave",
          "Windham Ln & Amherst Ave",
          "North Shore Dr & Village Rd",
          "Town Center Pkwy & Sunset Hills Rd",
          "3rd & Underwood St NW",
          "18th & Monroe St NE",
          "7th & E St SW",
          "Shady Grove Metro East",
          "Potomac & M St NW",
          "Columbia & Ontario Rd NW",
          "Washington-Liberty High School / N Stafford St & Generals Way",
          "Westover Library / Washington Blvd & N McKinley Rd",
          "Columbia Pike & S Taylor St",
          "Columbus Ave & Gramercy Blvd",
          "Reston Pkwy & Spectrum Dr",
          "Key West Ave & Great Seneca Hwy",
          "Virginia Ave & 25th St NW",
          "15th & M St NW",
          "11th & Girard St NW",
          "Connecticut Ave & R St NW",
          "Wilson Blvd & N Troy St",
          "American University East Campus",
          "15th St & Constitution Ave NW",
          "23rd & M St NW",
          "Corporate Blvd & Omega Dr",
          "Key West Ave & Diamondback Dr",
          "Alabama Ave & Stanton Rd SE / Shops at Park Village",
          "Mississippi Ave & 19th St SE / THEARC",
          "19th & Savannah St SE",
          "4th St & Mississippi Ave SE",
          "1st & S Capitol St SE / Oxon Run Trail",
          "Livingston Rd & 3rd St SE",
          "Joliet St & MLK Ave SW/Bald Eagle Rec Ctr",
          "37th & Ely Pl SE",
          "15th St & Pennsylvania Ave NW",
          "Maine Ave & 9th St SW",
          "Lincoln Rd & Seaton Pl NE/Harry Thomas Rec Center",
          "Blueridge Ave & Elkin St",
          "Georgia Ave & Kennedy St NW",
          "7th St & Massachusetts Ave NE",
          "Anacostia Park",
          "Twinbrook Metro",
          "White Flint Metro",
          "Citadel Ave & McGrath Blvd",
          "Rockville Pike & Old Georgetown Rd",
          "Woodglen Dr & Executive Blvd",
          "Executive Blvd & E Jefferson St",
          "Fishers Ln & Rock Creek Mill Rd",
          "Congressional Ln & E Jefferson St",
          "Garland Ave & Walden Rd",
          "Greensboro & Pinnacle Dr",
          "1301 McCormick Dr / Wayne K. Curry Admin Bldg",
          "Largo Town Center Metro",
          "Baltimore Ave & Van Buren St / Riverdale Park Station",
          "Baltimore Ave & Jefferson St",
          "Perry & 35th St",
          "Rockville Pike & Meeting St",
          "Potomac Ave & Half St SW",
          "Crystal Dr & Potomac Ave",
          "Largo Rd & Campus Way / Prince Georges's Comm Col",
          "Stanton Square SE",
          "14th & Newton St NW",
          "48th Pl & MacArthur Blvd NW",
          "14th & Luzon St NW",
          "1st & M St SE",
          "Fleet St & Waterfront St",
          "Oxon Hill Park & Ride",
          "11th & Park Rd NW",
          "4th & M St SE",
          "Kansas Ave & Sherman Cr NW",
          "Campus Commons",
          "Park Run & Onyx Dr",
          "7th & K St NW",
          "King Greenleaf Rec Center",
          "Montello Ave & Holbrook Terr NE",
          "New Jersey Ave & F St NW",
          "Maryland Ave & 17th St NE",
          "Massachusetts Ave & 6th St NE",
          "Woodley Park Metro / Calvert St & Connecticut Ave NW",
          "McLean Metro",
          "Trinidad Rec Center",
          "Rosedale Rec Center",
          "11th & C St SE",
          "New Hampshire & Gallatin St NW",
          "United Medical Center",
          "18th & New Hampshire Ave NW",
          "Dunn Loring Metro",
          "Oglethorpe St & 42nd Ave",
          "Southern Ave Metro",
          "Queens Chapel & Hamilton St",
          "Northwestern High School",
          "New Hampshire Ave & East-West Hwy",
          "Rhode Island Ave & 39th St / Brentwood Arts Exchange",
          "Riggs Rd & East West Hwy",
          "Tanger Outlets",
          "Chillum Rd & Riggs Rd / Riggs Plaza",
          "Hyattsville Library / Adelphi Rd & Toledo Rd",
          "George Mason High School / Haycock Rd & Leesburg Pike",
          "State Theatre / Park Pl & N Washington St",
          "N Oak St & W Broad St",
          "Pennsylvania Ave & Park Ave",
          "E Fairfax St & S Washington St",
          "N Roosevelt St & Roosevelt Blvd",
          "W Broad St & Little Falls St",
          "S Maple Ave & S Washington St",
          "Falls Church City Hall / Park Ave & Little Falls St",
          "W Columbia St & N Washington St",
          "West Falls Church Metro",
          "Jones Branch Drive & Scotts Crossing Rd",
          "Georgia Ave & Morton St NW",
          "Merrilee Dr & Lauren Elizabeth Lane",
          "Merrifield Cinema & Merrifield Town Center",
          "Rhode Island & Montana Ave NE",
          "7th & S St NW",
          "North Capitol & R St NE",
          "17th & Upshur St NW",
          "Grant Circle",
          "14th & Otis Pl NW",
          "John McCormack Rd NE",
          "West Hyattsville Metro",
          "Capitol Heights Metro",
          "Prince George's Plaza Metro",
          "Riverdale Park Town Center",
          "The Mall at Prince Georges",
          "Wheaton Library & Community Rec Center",
          "Edgewood Rec Center",
          "8th & K St NE",
          "Kingman Island/The Fields at RFK",
          "Kenilworth Terrace & Hayes St. NE",
          "National Harbor Carousel",
          "Valley Ave & Wheeler Rd SE",
          "Ridge Rd Community Center",
          "Fort Stanton Rec Center",
          "Reservoir Rd & 38th St NW",
          "22nd & H St NW",
          "8th & H St NE",
          "Hardy Rec Center",
          "The Shoppes @ Burnt Mills",
          "Briggs Chaney & Castle Dr",
          "White Oak Rec Center",
          "Briggs Chaney Park & Ride",
          "Stewart & April",
          "Stewart Ln & Old Columbia Pike",
          "New Hampshire & Lockwood",
          "Castle Blvd & Castle Ln",
          "Oak Leaf & Lockwood",
          "White Oak Transit Center",
          "Wilson Blvd. & N. Vermont St.",
          "Oklahoma Ave & Benning Rd NE",
          "Minnesota Ave & R St SE",
          "Vy Reston Heights",
          "1st & K St NE",
          "Wheeler Ave & S. Floyd St.",
          "N. Beauregard St. & Berkley St.",
          "Mt Vernon Trail & S. Washington St.",
          "Eisenhower Ave & Ike Dr",
          "Capitol Ave & Kendall St NE",
          "14th & D St SE",
          "Half & Water St SW",
          "14th & Q St NW",
          "13th & U St NW",
          "Stadium Armory Metro",
          "Broad Branch Rd & Northampton St NW",
          "N Pitt St & Montgomery St",
          "Duke St & Strand (Robinson Terminal)",
          "21st St & G st NW",
          "4th St & G St SW",
          "Kansas Ave & Longfellow St NW",
          "National Airport",
          "Fern St & Army Navy Dr",
          "Arlington Blvd & Ft Myer Dr",
          "23rd St S & Hayes St",
          "Wilson Blvd & N Oak St",
          "Arlington Blvd & Fairfax Dr",
          "2nd & V St SW / James Creek Marina",
          "1st St & Potomac Ave SE",
          "20th & Columbia Rd NW",
          "3rd & M st SE",
          "53rd & D St SE/C.W. Harris Elementary"
         ],
         "lat": [
          38.858971,
          38.85725,
          38.856425,
          38.86017,
          38.857866,
          38.862303,
          38.8637,
          38.85740496261504,
          38.848466,
          38.8426,
          38.8533,
          38.850688,
          38.9003,
          38.9177645,
          38.929464,
          38.926088,
          38.922925,
          38.9268,
          38.923203,
          38.9319,
          38.876697,
          38.909868,
          38.913046,
          38.9086,
          38.8963,
          38.90071062547463,
          38.9366839345886,
          38.9375,
          38.9346,
          38.90304,
          38.8896,
          38.9308,
          38.86005647007575,
          38.934267,
          38.878,
          38.897063,
          38.901385,
          38.862669,
          38.867373,
          38.8952,
          38.919077,
          38.9172,
          38.9249,
          38.8743,
          38.9154,
          38.9155,
          38.85438051517749,
          38.8763,
          38.9101,
          38.905697,
          38.90571079190728,
          38.90276,
          38.899408,
          38.8851,
          38.8803,
          38.88291548476762,
          38.9121,
          38.944551,
          38.9126,
          38.8792,
          38.938736,
          38.934881,
          38.947774,
          38.865784,
          38.873057,
          38.886952,
          38.899632,
          38.894,
          38.88627694506511,
          38.902314,
          38.933668,
          38.894919,
          38.886266,
          38.893028,
          38.897293,
          38.884260087971725,
          38.90506687455313,
          38.947607,
          38.90042673988099,
          38.897222,
          38.89903234416315,
          38.905737,
          38.927872,
          38.903741450919384,
          38.90375,
          38.878693599396954,
          38.894758,
          38.916442,
          38.900283,
          38.8997,
          38.932514,
          38.910972,
          38.899972,
          38.900412,
          38.900413,
          38.889955,
          38.890461,
          38.8692,
          38.894832,
          38.915544,
          38.898364,
          38.894514,
          38.89728304853854,
          38.902061,
          38.908905,
          38.895344,
          38.8923,
          38.90774,
          38.899983,
          38.903827,
          38.89696,
          38.897446,
          38.9055785,
          38.922581,
          38.898409,
          38.844015,
          38.88412,
          38.897857,
          38.896104,
          38.897315,
          38.8946,
          38.893438,
          38.891696,
          38.892164,
          38.86559,
          38.892459,
          38.889,
          38.920669,
          38.905995699991145,
          38.9059,
          38.8904,
          38.8881,
          38.88786,
          38.899680000000004,
          38.88637194054526,
          38.88412,
          38.881185,
          38.912719,
          38.9418,
          38.915417,
          38.92812111132096,
          38.917761,
          38.889935,
          38.930282,
          38.896544,
          38.905126,
          38.88732,
          38.844711,
          38.876393,
          38.85033657788445,
          38.896923,
          38.9024,
          38.885801,
          38.893993,
          38.878854378063295,
          38.922649,
          38.928743,
          38.882788,
          38.88397,
          38.884734,
          38.8885525,
          38.888774,
          38.87887,
          38.894573,
          38.893237,
          38.89593,
          38.89054,
          38.88081,
          38.881044,
          38.882629,
          38.879819,
          38.866611,
          38.883921,
          38.880012,
          38.884616,
          38.90509,
          38.903584,
          38.903819,
          38.901539,
          38.902204,
          38.803124,
          38.804718,
          38.81074147938705,
          38.805317,
          38.902,
          38.805648,
          38.811456,
          38.814577,
          38.80576284873485,
          38.9066,
          38.895914,
          38.90088,
          38.883669,
          38.884961,
          38.889365,
          38.888255,
          38.894722,
          38.90093,
          38.943837,
          38.954812,
          38.905469714943266,
          38.863833,
          38.847129045742605,
          38.846222,
          38.918809,
          38.956555547721955,
          38.949662000000004,
          38.942475355602845,
          38.956432,
          38.847977,
          38.8444,
          38.860789,
          38.84736,
          38.84232,
          38.848454,
          38.987,
          38.90849,
          38.896553,
          38.955016,
          38.908142,
          38.92333,
          38.889988,
          38.912659,
          38.889908,
          38.897274,
          38.927095,
          38.897194999999996,
          38.928644,
          38.84322988730829,
          38.863897,
          38.903732,
          38.916787,
          38.852248,
          38.865029,
          38.880705,
          38.867262,
          38.887378,
          38.894851,
          38.917622,
          38.918155,
          38.892275,
          38.886978,
          38.887312,
          38.927497,
          38.862478,
          38.856319,
          38.871822,
          38.985404,
          38.981103,
          38.983838,
          39.096312,
          39.093783,
          38.988562,
          39.084125,
          38.98954,
          39.094772,
          38.98128,
          38.983627,
          38.99489580319022,
          38.983525,
          38.961763,
          38.921074,
          38.87501,
          38.920387,
          38.876737,
          39.099376,
          39.083673,
          39.123513,
          38.990249,
          38.982456,
          39.02538719623632,
          39.095661,
          38.989724,
          38.975,
          38.977933,
          38.992375,
          38.990639,
          38.977092999999996,
          39.076331,
          39.102212,
          38.99403485060837,
          38.999388,
          38.997033,
          39.114688,
          39.110314,
          38.923583,
          38.90733256111448,
          38.898536,
          38.908473,
          38.878433,
          38.873755,
          38.862753,
          38.999634,
          38.96115,
          38.899703,
          38.8378458,
          38.873219,
          38.869418,
          38.94113915653008,
          39.103091,
          39.097636,
          38.997445,
          39.085394,
          38.900358,
          38.952369,
          38.975219,
          38.920682,
          38.866471,
          38.839912,
          39.119765,
          38.964992,
          39.084379,
          38.984691,
          38.889920000000004,
          38.9037315,
          38.804378,
          38.894941,
          38.869442,
          38.89824328774852,
          38.897612,
          38.901755,
          38.801111,
          38.82175,
          38.802677,
          38.820064,
          38.82595,
          38.820932,
          38.833077,
          38.890612,
          38.986743,
          38.865553,
          38.96454350924588,
          38.903649,
          38.898282949523605,
          38.997653,
          38.912648,
          38.859254,
          38.907908,
          38.896456,
          38.898984,
          38.895377,
          38.898412,
          38.914751108831155,
          38.876528,
          38.86215024521491,
          38.902814,
          38.913761,
          38.86612,
          38.89967,
          38.90864,
          38.961339,
          38.894474,
          38.896134,
          38.915604,
          38.946182,
          38.994113,
          39.105295,
          38.898301,
          38.812718,
          38.80704,
          38.813485,
          38.999378,
          38.884829,
          38.958267,
          38.928893,
          38.912652,
          38.999679,
          38.979875,
          38.903658,
          38.908643,
          38.831516,
          38.893511,
          38.909394,
          38.995681,
          38.799267,
          38.925284,
          38.822738,
          38.90843,
          38.88432272414662,
          38.947156,
          38.894972,
          38.828437,
          38.88532071975074,
          38.880992,
          38.812711,
          38.82005823354218,
          38.8904955,
          38.890539,
          38.888097,
          38.798133,
          38.843422,
          38.90240556584194,
          38.841291,
          38.797557,
          38.818748,
          38.829545,
          38.928552,
          38.901136451737045,
          38.949813,
          38.91263,
          38.897407,
          38.870695,
          38.929261,
          38.92403,
          38.919475,
          38.920939,
          38.924437,
          38.931911,
          38.928919,
          38.932636,
          38.970045999999996,
          38.962524,
          38.962095,
          38.960574,
          38.955079,
          38.957037,
          38.884916,
          38.946607921214984,
          38.959633,
          38.95534,
          38.892441,
          38.891805,
          38.960084,
          38.955314,
          38.951443,
          38.893860000000004,
          38.967505,
          38.923083,
          38.812351,
          38.990874,
          38.9190185,
          38.882489,
          38.957463,
          38.876695,
          38.915246,
          38.90293157359119,
          39.014716,
          38.98265,
          38.988101,
          39.038423828518326,
          39.044887,
          39.035965,
          39.043272,
          39.032029,
          38.970412,
          38.955170598044894,
          38.968834,
          38.93293,
          38.88345,
          39.121327,
          38.905368,
          38.924088,
          38.888282,
          38.886048,
          38.858524,
          39.12333,
          38.964207741006206,
          39.105642,
          38.8995,
          38.905424,
          38.925636,
          38.912644,
          38.892556,
          38.936298,
          38.892244,
          38.905303,
          39.106971,
          39.106152,
          38.84627,
          38.84377,
          38.84623,
          38.836,
          38.824481,
          38.82373,
          38.81909,
          38.883011,
          38.89646474748647,
          38.88044,
          38.915,
          39.04313,
          38.95674,
          38.89222,
          38.87335,
          39.062041,
          39.04753,
          39.049,
          39.049765,
          39.04317,
          39.04873,
          39.0629,
          39.06219,
          39.00048,
          38.92245,
          38.908391,
          38.899811,
          38.969581,
          38.95548,
          38.936213,
          39.050539,
          38.86968314861632,
          38.848304,
          38.88994,
          38.855004,
          38.931991,
          38.9170363119413,
          38.969489,
          38.876893,
          38.782633,
          38.798749,
          38.93132185874559,
          38.876751,
          38.94796174822241,
          38.944707,
          38.92755,
          38.902674,
          38.876211,
          38.907444,
          38.897108,
          38.901935,
          38.892934,
          38.923389,
          38.92400207520182,
          38.906299,
          38.897808,
          38.885908,
          38.951596,
          38.835737,
          38.911268,
          38.8828,
          38.959361,
          38.840107,
          38.9546,
          38.975505,
          38.974205,
          38.939271,
          38.9725,
          38.7968,
          38.961737,
          38.9698,
          38.895172,
          38.882746,
          38.88837,
          38.887403,
          38.880612,
          38.878085,
          38.883601,
          38.87972,
          38.885434,
          38.885621,
          38.9001,
          38.928502,
          38.932128,
          38.879355,
          38.870093,
          38.9243,
          38.9142043187298,
          38.912524,
          38.942146,
          38.942024743273045,
          38.934405,
          38.938889,
          38.955349,
          38.888524,
          38.965742,
          38.962119,
          38.968842,
          39.0473228,
          38.924144,
          38.90273216425078,
          38.89595455700754,
          38.90046848783359,
          38.7859,
          38.83664578175751,
          38.876227445751475,
          38.85736903758752,
          38.91261359469192,
          38.89892546716842,
          38.899941626884754,
          38.90970086204467,
          39.0313141,
          39.081638,
          39.0461435,
          39.0778751,
          39.0449444,
          39.0456521,
          39.0391022,
          39.085314,
          39.0379809,
          39.04104,
          38.87947660895433,
          38.8974996,
          38.8693365,
          38.949008,
          38.902386,
          38.808161,
          38.840797,
          38.7930647,
          38.802738,
          38.910993,
          38.8840581,
          38.866277,
          38.910674,
          38.91693645323652,
          38.88548252734069,
          38.96577499342219,
          38.81403111409755,
          38.801947,
          38.898308,
          38.881123,
          38.958098,
          38.852903,
          38.864838,
          38.890863,
          38.853002,
          38.895068,
          38.88625606692058,
          38.863743,
          38.871841,
          38.918036,
          38.876823,
          38.883318
         ],
         "legendgroup": "",
         "lon": [
          -77.05323,
          -77.05332,
          -77.049232,
          -77.049593,
          -77.05949,
          -77.059936,
          -77.0633,
          -77.05113172531128,
          -77.051514,
          -77.0502,
          -77.0498,
          -77.05152,
          -77.0429,
          -77.032096,
          -77.027822,
          -77.036536,
          -77.042581,
          -77.0322,
          -77.047637,
          -77.0388,
          -77.0178975,
          -77.034421,
          -77.032008,
          -77.0323,
          -77.045,
          -77.04644858837128,
          -77.02418088912964,
          -77.0328,
          -76.9955,
          -77.019027,
          -76.9769,
          -77.0315,
          -76.96783974766731,
          -77.057979,
          -76.9607,
          -76.947446,
          -76.941877,
          -76.994637,
          -76.988039,
          -77.0436,
          -77.000648,
          -77.0259,
          -77.0222,
          -77.0057,
          -77.0446,
          -77.0222,
          -77.05341160297394,
          -77.0037,
          -77.0444,
          -77.005483,
          -77.0473176240921,
          -77.03863,
          -77.015289,
          -77.0023,
          -76.9862,
          -76.98790669441223,
          -77.0387,
          -77.063896,
          -77.0135,
          -76.9953,
          -77.087171,
          -77.072755,
          -77.032818,
          -76.9784,
          -76.971015,
          -76.996806,
          -77.031686,
          -76.947974,
          -77.02824175357819,
          -77.0591415,
          -76.991016,
          -77.046587,
          -77.022241,
          -77.026013,
          -77.05557,
          -76.99473559856415,
          -77.04177886247635,
          -77.079382,
          -76.98825001716614,
          -77.019347,
          -77.03335404396057,
          -77.02227,
          -77.043358,
          -77.04245209693909,
          -77.06269,
          -77.02305436134338,
          -76.997114,
          -77.0682,
          -77.029822,
          -77.023086,
          -76.992889,
          -77.00495,
          -76.998347,
          -77.001949,
          -76.982872,
          -77.000349,
          -76.988355,
          -76.9599,
          -76.987633,
          -77.038252,
          -77.027869,
          -77.031617,
          -77.02219069004059,
          -77.038322,
          -77.04478,
          -77.016106,
          -77.0436,
          -77.071652,
          -76.991383,
          -77.053485,
          -77.00493,
          -77.009888,
          -77.027313,
          -77.070334,
          -77.032278,
          -77.050537,
          -77.04657,
          -77.026975,
          -77.049882,
          -77.070993,
          -77.072305,
          -77.076389,
          -77.0846,
          -77.079375,
          -76.952103,
          -77.046567,
          -77.0925,
          -77.04368,
          -77.03980207443237,
          -77.0325,
          -77.0889,
          -77.09308,
          -77.094875,
          -77.041539,
          -77.01770067214966,
          -77.017445,
          -77.001828,
          -77.022155,
          -77.0251,
          -77.012289,
          -77.0237946510315,
          -77.04062,
          -76.93723,
          -77.055599,
          -76.96012,
          -77.056887,
          -76.983569,
          -76.987823,
          -77.107735,
          -77.1009886264801,
          -77.086502,
          -77.02622,
          -77.097745,
          -77.07857,
          -77.00572729110718,
          -77.077271,
          -77.012457,
          -77.103148,
          -77.10783,
          -77.093485,
          -77.032427,
          -77.028694,
          -77.1207,
          -77.01994,
          -77.086063,
          -77.089006,
          -77.08095,
          -77.090792,
          -77.111768,
          -77.109366,
          -77.037413,
          -76.985238,
          -77.116817,
          -77.107854,
          -77.10108,
          -76.9941,
          -77.044789,
          -77.0284,
          -77.046564,
          -77.04337,
          -77.040363,
          -77.043363,
          -77.0446327328682,
          -77.049883,
          -77.03353,
          -77.05293,
          -77.050276,
          -77.052808,
          -77.060626745224,
          -77.05152,
          -77.026064,
          -77.048911,
          -77.113905,
          -77.08777,
          -77.077294,
          -77.0494365,
          -77.045128,
          -77.018677,
          -77.077078,
          -77.082426,
          -77.0021304488182,
          -77.080319,
          -77.1125502884388,
          -77.069275,
          -77.041571,
          -77.0198142528534,
          -77.027333,
          -77.03267812728882,
          -77.032947,
          -77.075104,
          -77.085931,
          -77.09586,
          -77.095431,
          -77.089555,
          -77.084918,
          -77.029417,
          -77.063586,
          -77.06714,
          -77.069956,
          -77.038359,
          -77.0352,
          -76.995193,
          -77.017669,
          -76.983326,
          -76.994749,
          -76.978924,
          -76.983575,
          -76.990955,
          -76.99937582015991,
          -76.990037,
          -76.987211,
          -77.028139,
          -77.105022,
          -77.039511,
          -77.08596,
          -77.072315,
          -77.001955,
          -77.02324,
          -77.01597,
          -77.004746,
          -77.013917,
          -77.013769,
          -77.025762,
          -76.997194,
          -77.086599,
          -77.11153,
          -77.107906,
          -77.023082,
          -77.097426,
          -77.09221,
          -77.192672,
          -77.202501,
          -77.096539,
          -77.151291,
          -77.098029,
          -77.145213,
          -77.011336,
          -77.006311,
          -77.02953189611435,
          -77.095367,
          -77.085998,
          -77.031887,
          -77.0024,
          -77.025672,
          -76.994468,
          -77.188014,
          -77.149162,
          -77.15741,
          -77.02935,
          -77.091991,
          -77.04456299543381,
          -77.159048,
          -77.023854,
          -77.01121,
          -77.006472,
          -77.100104,
          -77.100239,
          -77.094589,
          -77.141378,
          -77.177091,
          -77.03037142753601,
          -77.031555,
          -77.025608,
          -77.171487,
          -77.182669,
          -77.050046,
          -77.01536044478416,
          -76.931862,
          -76.933099,
          -77.03023,
          -77.089233,
          -77.05428,
          -77.109647,
          -77.088659,
          -77.008911,
          -77.0934784,
          -77.082104,
          -77.095596,
          -77.061977237463,
          -77.196442,
          -77.196636,
          -77.023894,
          -77.145803,
          -77.012108,
          -77.002721,
          -77.016855,
          -76.995876,
          -77.076131,
          -77.087083,
          -77.166093,
          -77.103381,
          -77.146866,
          -77.094537,
          -77.071301,
          -77.0675285,
          -77.060866,
          -77.09169,
          -77.104503,
          -77.02623546123505,
          -77.080851,
          -77.051084,
          -77.068952,
          -77.047494,
          -77.063562,
          -77.057619,
          -77.058541,
          -77.053096,
          -77.059821,
          -77.084801,
          -77.000035,
          -77.05003,
          -77.07513481378555,
          -77.034918,
          -77.03973233699799,
          -77.034499,
          -77.041834,
          -77.063275,
          -76.99707,
          -77.104562,
          -77.078317,
          -77.09713,
          -77.043182,
          -77.00356006622314,
          -77.12712,
          -77.06812083721161,
          -77.061043,
          -77.027025,
          -77.08787,
          -77.003666,
          -77.02277,
          -77.027855,
          -76.974828,
          -76.9929,
          -76.983683,
          -77.08059,
          -77.076986,
          -77.194774,
          -77.118009,
          -77.044097,
          -77.059817,
          -77.049468,
          -77.097882,
          -77.127671,
          -77.084636,
          -77.03625,
          -77.036278,
          -77.051168,
          -77.093522,
          -77.031737,
          -77.012365,
          -77.008133,
          -77.041544,
          -77.048728,
          -77.038721,
          -77.0447,
          -77.032375,
          -77.049265,
          -77.02714,
          -77.02601015567778,
          -77.065115,
          -77.003135,
          -77.086031,
          -77.15642720460892,
          -77.135271,
          -77.061715,
          -77.06282079219818,
          -77.0172465,
          -77.049383,
          -77.038325,
          -77.0487,
          -77.064016,
          -77.01600551605225,
          -77.063093,
          -77.053766,
          -77.047783,
          -77.047844,
          -77.032224,
          -77.03445106744766,
          -77.080217,
          -76.971923,
          -76.925907,
          -76.982359,
          -77.240654,
          -77.235955,
          -77.221179,
          -77.222115,
          -77.217664,
          -77.219261,
          -77.225394,
          -77.231825,
          -77.338686,
          -77.361902,
          -77.358815,
          -77.356324,
          -77.351649,
          -77.359718,
          -77.005965,
          -77.3393914103508,
          -77.358741,
          -77.357611,
          -77.048947,
          -76.913563,
          -77.353414,
          -77.368416,
          -77.340377,
          -77.070862,
          -77.027976,
          -77.227417,
          -77.040691,
          -77.016311,
          -77.034449,
          -76.990121,
          -77.002239,
          -77.112982,
          -77.220157,
          -76.99840486049652,
          -77.107143,
          -76.988311,
          -76.988422,
          -77.05102041363716,
          -77.047788,
          -77.048395,
          -77.053085,
          -77.04735,
          -77.340787,
          -77.3630940914154,
          -77.016258,
          -76.979517,
          -77.021741,
          -77.164969,
          -77.065149,
          -77.040787,
          -77.111066,
          -77.142317,
          -77.103728,
          -77.16486,
          -77.35428035259247,
          -77.20386,
          -77.054155,
          -77.034674,
          -77.027112,
          -77.04564,
          -77.082089,
          -77.087128,
          -77.033234,
          -77.050264,
          -77.192645,
          -77.202354,
          -76.98185,
          -76.97557,
          -76.97703,
          -77.0009,
          -77.005497,
          -77.00223,
          -77.01033,
          -76.949709,
          -77.0333808660507,
          -77.025236,
          -77.0078,
          -77.05006,
          -77.02791,
          -76.99602,
          -76.9834,
          -77.120776,
          -77.11287,
          -77.10933,
          -77.11368,
          -77.1135,
          -77.1257,
          -77.113454,
          -77.129235,
          -77.00077,
          -77.23034,
          -76.843263,
          -76.844604,
          -76.937349,
          -76.940133,
          -76.960054,
          -77.115212,
          -77.01081544160843,
          -77.05122,
          -76.825535,
          -76.984512,
          -77.032956,
          -77.0957824587822,
          -77.033509,
          -77.006072,
          -77.016059,
          -77.00103,
          -77.02824711799622,
          -77.000736,
          -77.02154964208603,
          -77.335425,
          -77.226644,
          -77.021392,
          -77.012443,
          -76.986813,
          -77.011616,
          -76.978627,
          -76.998273,
          -77.051833,
          -77.20812678337097,
          -76.983221,
          -76.979634,
          -76.991476,
          -77.012808,
          -76.983144,
          -77.041829,
          -77.2283,
          -76.946361,
          -76.9753,
          -76.9595,
          -76.952199,
          -76.995227,
          -76.955047,
          -76.9807,
          -77.0026,
          -76.995922,
          -76.9493,
          -77.190275,
          -77.170032,
          -77.179832,
          -77.176992,
          -77.171891,
          -77.153953,
          -77.173438,
          -77.178408,
          -77.173605,
          -77.166917,
          -77.1887,
          -77.215624,
          -77.0235,
          -77.230681,
          -77.22997,
          -76.9859,
          -77.0221745967865,
          -77.008798,
          -77.038684,
          -77.01822102069855,
          -77.032687,
          -76.997226,
          -76.968084,
          -76.913188,
          -76.954803,
          -76.935578,
          -76.954171,
          -77.0510969,
          -77.002098,
          -76.99514991079923,
          -76.9678448436025,
          -76.9472873210907,
          -77.0167,
          -76.99358886515256,
          -76.94098126958124,
          -76.97768801437633,
          -77.07432264076488,
          -77.04885238395946,
          -76.99489653110504,
          -77.08564639091492,
          -77.0041217,
          -76.945495,
          -76.9757228,
          -76.9418666,
          -76.9811552,
          -76.9854381,
          -76.9918237,
          -76.940547,
          -76.9945391,
          -76.987125,
          -77.11456328630447,
          -76.9695094,
          -76.978519,
          -77.355299,
          -77.005649,
          -77.100796,
          -77.108938,
          -77.049436,
          -77.0824626,
          -76.985854,
          -76.9863852,
          -77.010551,
          -77.03188,
          -77.0296311378479,
          -76.97718724608421,
          -77.06862643361092,
          -77.04281687736511,
          -77.040293,
          -77.046402,
          -77.017658,
          -77.013821,
          -77.045916,
          -77.056873,
          -77.074893,
          -77.059496,
          -77.07386,
          -77.08426237106323,
          -77.013814,
          -77.00591,
          -77.045487,
          -77.002161,
          -76.925315
         ],
         "marker": {
          "color": "#636efa"
         },
         "mode": "markers",
         "name": "",
         "showlegend": false,
         "subplot": "mapbox",
         "type": "scattermapbox"
        }
       ],
       "layout": {
        "legend": {
         "tracegroupgap": 0
        },
        "mapbox": {
         "center": {
          "lat": 38.914666766552585,
          "lon": -77.0554912770679
         },
         "domain": {
          "x": [
           0,
           1
          ],
          "y": [
           0,
           1
          ]
         },
         "style": "open-street-map",
         "zoom": 9
        },
        "margin": {
         "b": 0,
         "l": 0,
         "r": 0,
         "t": 0
        },
        "template": {
         "data": {
          "bar": [
           {
            "error_x": {
             "color": "#2a3f5f"
            },
            "error_y": {
             "color": "#2a3f5f"
            },
            "marker": {
             "line": {
              "color": "#E5ECF6",
              "width": 0.5
             }
            },
            "type": "bar"
           }
          ],
          "barpolar": [
           {
            "marker": {
             "line": {
              "color": "#E5ECF6",
              "width": 0.5
             }
            },
            "type": "barpolar"
           }
          ],
          "carpet": [
           {
            "aaxis": {
             "endlinecolor": "#2a3f5f",
             "gridcolor": "white",
             "linecolor": "white",
             "minorgridcolor": "white",
             "startlinecolor": "#2a3f5f"
            },
            "baxis": {
             "endlinecolor": "#2a3f5f",
             "gridcolor": "white",
             "linecolor": "white",
             "minorgridcolor": "white",
             "startlinecolor": "#2a3f5f"
            },
            "type": "carpet"
           }
          ],
          "choropleth": [
           {
            "colorbar": {
             "outlinewidth": 0,
             "ticks": ""
            },
            "type": "choropleth"
           }
          ],
          "contour": [
           {
            "colorbar": {
             "outlinewidth": 0,
             "ticks": ""
            },
            "colorscale": [
             [
              0,
              "#0d0887"
             ],
             [
              0.1111111111111111,
              "#46039f"
             ],
             [
              0.2222222222222222,
              "#7201a8"
             ],
             [
              0.3333333333333333,
              "#9c179e"
             ],
             [
              0.4444444444444444,
              "#bd3786"
             ],
             [
              0.5555555555555556,
              "#d8576b"
             ],
             [
              0.6666666666666666,
              "#ed7953"
             ],
             [
              0.7777777777777778,
              "#fb9f3a"
             ],
             [
              0.8888888888888888,
              "#fdca26"
             ],
             [
              1,
              "#f0f921"
             ]
            ],
            "type": "contour"
           }
          ],
          "contourcarpet": [
           {
            "colorbar": {
             "outlinewidth": 0,
             "ticks": ""
            },
            "type": "contourcarpet"
           }
          ],
          "heatmap": [
           {
            "colorbar": {
             "outlinewidth": 0,
             "ticks": ""
            },
            "colorscale": [
             [
              0,
              "#0d0887"
             ],
             [
              0.1111111111111111,
              "#46039f"
             ],
             [
              0.2222222222222222,
              "#7201a8"
             ],
             [
              0.3333333333333333,
              "#9c179e"
             ],
             [
              0.4444444444444444,
              "#bd3786"
             ],
             [
              0.5555555555555556,
              "#d8576b"
             ],
             [
              0.6666666666666666,
              "#ed7953"
             ],
             [
              0.7777777777777778,
              "#fb9f3a"
             ],
             [
              0.8888888888888888,
              "#fdca26"
             ],
             [
              1,
              "#f0f921"
             ]
            ],
            "type": "heatmap"
           }
          ],
          "heatmapgl": [
           {
            "colorbar": {
             "outlinewidth": 0,
             "ticks": ""
            },
            "colorscale": [
             [
              0,
              "#0d0887"
             ],
             [
              0.1111111111111111,
              "#46039f"
             ],
             [
              0.2222222222222222,
              "#7201a8"
             ],
             [
              0.3333333333333333,
              "#9c179e"
             ],
             [
              0.4444444444444444,
              "#bd3786"
             ],
             [
              0.5555555555555556,
              "#d8576b"
             ],
             [
              0.6666666666666666,
              "#ed7953"
             ],
             [
              0.7777777777777778,
              "#fb9f3a"
             ],
             [
              0.8888888888888888,
              "#fdca26"
             ],
             [
              1,
              "#f0f921"
             ]
            ],
            "type": "heatmapgl"
           }
          ],
          "histogram": [
           {
            "marker": {
             "colorbar": {
              "outlinewidth": 0,
              "ticks": ""
             }
            },
            "type": "histogram"
           }
          ],
          "histogram2d": [
           {
            "colorbar": {
             "outlinewidth": 0,
             "ticks": ""
            },
            "colorscale": [
             [
              0,
              "#0d0887"
             ],
             [
              0.1111111111111111,
              "#46039f"
             ],
             [
              0.2222222222222222,
              "#7201a8"
             ],
             [
              0.3333333333333333,
              "#9c179e"
             ],
             [
              0.4444444444444444,
              "#bd3786"
             ],
             [
              0.5555555555555556,
              "#d8576b"
             ],
             [
              0.6666666666666666,
              "#ed7953"
             ],
             [
              0.7777777777777778,
              "#fb9f3a"
             ],
             [
              0.8888888888888888,
              "#fdca26"
             ],
             [
              1,
              "#f0f921"
             ]
            ],
            "type": "histogram2d"
           }
          ],
          "histogram2dcontour": [
           {
            "colorbar": {
             "outlinewidth": 0,
             "ticks": ""
            },
            "colorscale": [
             [
              0,
              "#0d0887"
             ],
             [
              0.1111111111111111,
              "#46039f"
             ],
             [
              0.2222222222222222,
              "#7201a8"
             ],
             [
              0.3333333333333333,
              "#9c179e"
             ],
             [
              0.4444444444444444,
              "#bd3786"
             ],
             [
              0.5555555555555556,
              "#d8576b"
             ],
             [
              0.6666666666666666,
              "#ed7953"
             ],
             [
              0.7777777777777778,
              "#fb9f3a"
             ],
             [
              0.8888888888888888,
              "#fdca26"
             ],
             [
              1,
              "#f0f921"
             ]
            ],
            "type": "histogram2dcontour"
           }
          ],
          "mesh3d": [
           {
            "colorbar": {
             "outlinewidth": 0,
             "ticks": ""
            },
            "type": "mesh3d"
           }
          ],
          "parcoords": [
           {
            "line": {
             "colorbar": {
              "outlinewidth": 0,
              "ticks": ""
             }
            },
            "type": "parcoords"
           }
          ],
          "pie": [
           {
            "automargin": true,
            "type": "pie"
           }
          ],
          "scatter": [
           {
            "marker": {
             "colorbar": {
              "outlinewidth": 0,
              "ticks": ""
             }
            },
            "type": "scatter"
           }
          ],
          "scatter3d": [
           {
            "line": {
             "colorbar": {
              "outlinewidth": 0,
              "ticks": ""
             }
            },
            "marker": {
             "colorbar": {
              "outlinewidth": 0,
              "ticks": ""
             }
            },
            "type": "scatter3d"
           }
          ],
          "scattercarpet": [
           {
            "marker": {
             "colorbar": {
              "outlinewidth": 0,
              "ticks": ""
             }
            },
            "type": "scattercarpet"
           }
          ],
          "scattergeo": [
           {
            "marker": {
             "colorbar": {
              "outlinewidth": 0,
              "ticks": ""
             }
            },
            "type": "scattergeo"
           }
          ],
          "scattergl": [
           {
            "marker": {
             "colorbar": {
              "outlinewidth": 0,
              "ticks": ""
             }
            },
            "type": "scattergl"
           }
          ],
          "scattermapbox": [
           {
            "marker": {
             "colorbar": {
              "outlinewidth": 0,
              "ticks": ""
             }
            },
            "type": "scattermapbox"
           }
          ],
          "scatterpolar": [
           {
            "marker": {
             "colorbar": {
              "outlinewidth": 0,
              "ticks": ""
             }
            },
            "type": "scatterpolar"
           }
          ],
          "scatterpolargl": [
           {
            "marker": {
             "colorbar": {
              "outlinewidth": 0,
              "ticks": ""
             }
            },
            "type": "scatterpolargl"
           }
          ],
          "scatterternary": [
           {
            "marker": {
             "colorbar": {
              "outlinewidth": 0,
              "ticks": ""
             }
            },
            "type": "scatterternary"
           }
          ],
          "surface": [
           {
            "colorbar": {
             "outlinewidth": 0,
             "ticks": ""
            },
            "colorscale": [
             [
              0,
              "#0d0887"
             ],
             [
              0.1111111111111111,
              "#46039f"
             ],
             [
              0.2222222222222222,
              "#7201a8"
             ],
             [
              0.3333333333333333,
              "#9c179e"
             ],
             [
              0.4444444444444444,
              "#bd3786"
             ],
             [
              0.5555555555555556,
              "#d8576b"
             ],
             [
              0.6666666666666666,
              "#ed7953"
             ],
             [
              0.7777777777777778,
              "#fb9f3a"
             ],
             [
              0.8888888888888888,
              "#fdca26"
             ],
             [
              1,
              "#f0f921"
             ]
            ],
            "type": "surface"
           }
          ],
          "table": [
           {
            "cells": {
             "fill": {
              "color": "#EBF0F8"
             },
             "line": {
              "color": "white"
             }
            },
            "header": {
             "fill": {
              "color": "#C8D4E3"
             },
             "line": {
              "color": "white"
             }
            },
            "type": "table"
           }
          ]
         },
         "layout": {
          "annotationdefaults": {
           "arrowcolor": "#2a3f5f",
           "arrowhead": 0,
           "arrowwidth": 1
          },
          "autotypenumbers": "strict",
          "coloraxis": {
           "colorbar": {
            "outlinewidth": 0,
            "ticks": ""
           }
          },
          "colorscale": {
           "diverging": [
            [
             0,
             "#8e0152"
            ],
            [
             0.1,
             "#c51b7d"
            ],
            [
             0.2,
             "#de77ae"
            ],
            [
             0.3,
             "#f1b6da"
            ],
            [
             0.4,
             "#fde0ef"
            ],
            [
             0.5,
             "#f7f7f7"
            ],
            [
             0.6,
             "#e6f5d0"
            ],
            [
             0.7,
             "#b8e186"
            ],
            [
             0.8,
             "#7fbc41"
            ],
            [
             0.9,
             "#4d9221"
            ],
            [
             1,
             "#276419"
            ]
           ],
           "sequential": [
            [
             0,
             "#0d0887"
            ],
            [
             0.1111111111111111,
             "#46039f"
            ],
            [
             0.2222222222222222,
             "#7201a8"
            ],
            [
             0.3333333333333333,
             "#9c179e"
            ],
            [
             0.4444444444444444,
             "#bd3786"
            ],
            [
             0.5555555555555556,
             "#d8576b"
            ],
            [
             0.6666666666666666,
             "#ed7953"
            ],
            [
             0.7777777777777778,
             "#fb9f3a"
            ],
            [
             0.8888888888888888,
             "#fdca26"
            ],
            [
             1,
             "#f0f921"
            ]
           ],
           "sequentialminus": [
            [
             0,
             "#0d0887"
            ],
            [
             0.1111111111111111,
             "#46039f"
            ],
            [
             0.2222222222222222,
             "#7201a8"
            ],
            [
             0.3333333333333333,
             "#9c179e"
            ],
            [
             0.4444444444444444,
             "#bd3786"
            ],
            [
             0.5555555555555556,
             "#d8576b"
            ],
            [
             0.6666666666666666,
             "#ed7953"
            ],
            [
             0.7777777777777778,
             "#fb9f3a"
            ],
            [
             0.8888888888888888,
             "#fdca26"
            ],
            [
             1,
             "#f0f921"
            ]
           ]
          },
          "colorway": [
           "#636efa",
           "#EF553B",
           "#00cc96",
           "#ab63fa",
           "#FFA15A",
           "#19d3f3",
           "#FF6692",
           "#B6E880",
           "#FF97FF",
           "#FECB52"
          ],
          "font": {
           "color": "#2a3f5f"
          },
          "geo": {
           "bgcolor": "white",
           "lakecolor": "white",
           "landcolor": "#E5ECF6",
           "showlakes": true,
           "showland": true,
           "subunitcolor": "white"
          },
          "hoverlabel": {
           "align": "left"
          },
          "hovermode": "closest",
          "mapbox": {
           "style": "light"
          },
          "paper_bgcolor": "white",
          "plot_bgcolor": "#E5ECF6",
          "polar": {
           "angularaxis": {
            "gridcolor": "white",
            "linecolor": "white",
            "ticks": ""
           },
           "bgcolor": "#E5ECF6",
           "radialaxis": {
            "gridcolor": "white",
            "linecolor": "white",
            "ticks": ""
           }
          },
          "scene": {
           "xaxis": {
            "backgroundcolor": "#E5ECF6",
            "gridcolor": "white",
            "gridwidth": 2,
            "linecolor": "white",
            "showbackground": true,
            "ticks": "",
            "zerolinecolor": "white"
           },
           "yaxis": {
            "backgroundcolor": "#E5ECF6",
            "gridcolor": "white",
            "gridwidth": 2,
            "linecolor": "white",
            "showbackground": true,
            "ticks": "",
            "zerolinecolor": "white"
           },
           "zaxis": {
            "backgroundcolor": "#E5ECF6",
            "gridcolor": "white",
            "gridwidth": 2,
            "linecolor": "white",
            "showbackground": true,
            "ticks": "",
            "zerolinecolor": "white"
           }
          },
          "shapedefaults": {
           "line": {
            "color": "#2a3f5f"
           }
          },
          "ternary": {
           "aaxis": {
            "gridcolor": "white",
            "linecolor": "white",
            "ticks": ""
           },
           "baxis": {
            "gridcolor": "white",
            "linecolor": "white",
            "ticks": ""
           },
           "bgcolor": "#E5ECF6",
           "caxis": {
            "gridcolor": "white",
            "linecolor": "white",
            "ticks": ""
           }
          },
          "title": {
           "x": 0.05
          },
          "xaxis": {
           "automargin": true,
           "gridcolor": "white",
           "linecolor": "white",
           "ticks": "",
           "title": {
            "standoff": 15
           },
           "zerolinecolor": "white",
           "zerolinewidth": 2
          },
          "yaxis": {
           "automargin": true,
           "gridcolor": "white",
           "linecolor": "white",
           "ticks": "",
           "title": {
            "standoff": 15
           },
           "zerolinecolor": "white",
           "zerolinewidth": 2
          }
         }
        }
       }
      }
     },
     "metadata": {}
    }
   ],
   "source": [
    "# All Bike Stations\n",
    "\n",
    "fig = px.scatter_mapbox(all_stations,\n",
    "                    lat='lat',\n",
    "                    lon='lon',\n",
    "                    hover_name=\"street\",\n",
    "                    zoom=9)\n",
    "fig.update_layout(mapbox_style=\"open-street-map\")\n",
    "#fig.update_layout(title = 'All Bike Stations')\n",
    "fig.update_layout(margin={\"r\":0,\"t\":0,\"l\":0,\"b\":0})\n",
    "fig.show()"
   ]
  },
  {
   "cell_type": "code",
   "execution_count": 41,
   "metadata": {
    "tags": []
   },
   "outputs": [],
   "source": [
    "# Getting the real station names and lat/lon for empty bike stands / stands with only 1 bike left from https://gbfs.capitalbikeshare.com/gbfs/en/station_information.json\n",
    "\n",
    "bike_empty_stat_name = []\n",
    "e_bike_empty_stat_name = []\n",
    "only_one_bike_stat_name = []\n",
    "eb_lat = []\n",
    "eb_lon = []\n",
    "oob_lat = [] # Only One Bike\n",
    "oob_lon = []\n",
    "e_eb_lat = []\n",
    "e_eb_lon = []\n",
    "\n",
    "for i in range(len(d_station_information.data[0])):\n",
    "    for j in bike_empty_stat_id:\n",
    "        j = int(j)\n",
    "        if j == int(d_station_information.data[0][i]['station_id']):\n",
    "            bike_empty_stat_name.append(d_station_information.data[0][i]['name'])\n",
    "            eb_lat.append(d_station_information.data[0][i]['lat'])\n",
    "            eb_lon.append(d_station_information.data[0][i]['lon'])\n",
    "\n",
    "for i in range(len(d_station_information.data[0])):\n",
    "    for k in only_one_bike_stat_id:\n",
    "        k = int(k)\n",
    "        if k == int(d_station_information.data[0][i]['station_id']):\n",
    "            only_one_bike_stat_name.append(d_station_information.data[0][i]['name'])\n",
    "            oob_lat.append(d_station_information.data[0][i]['lat'])\n",
    "            oob_lon.append(d_station_information.data[0][i]['lon'])\n",
    "\n",
    "for i in range(len(d_station_information.data[0])):\n",
    "    for l in e_bike_empty_stat_id:\n",
    "        l = int(l)\n",
    "        if l == int(d_station_information.data[0][i]['station_id']):\n",
    "            e_bike_empty_stat_name.append(d_station_information.data[0][i]['name'])\n",
    "            e_eb_lat.append(d_station_information.data[0][i]['lat'])\n",
    "            e_eb_lon.append(d_station_information.data[0][i]['lon'])\n",
    "\n",
    "bike_empty_stat = pd.DataFrame(bike_empty_stat_name)\n",
    "bike_empty_stat_id = pd.DataFrame(bike_empty_stat_id)\n",
    "eb_lat = pd.DataFrame(eb_lat)\n",
    "eb_lon = pd.DataFrame(eb_lon)\n",
    "bike_empty_stat['station_id'] = bike_empty_stat_id\n",
    "bike_empty_stat['lat'] = eb_lat\n",
    "bike_empty_stat['lon'] = eb_lon\n",
    "bike_empty_stat.columns = ['street', 'station_id', 'lat', 'lon']\n",
    "\n",
    "only_one_bike_stat = pd.DataFrame(only_one_bike_stat_name)\n",
    "only_one_bike_stat_id = pd.DataFrame(only_one_bike_stat_id)\n",
    "oob_lat = pd.DataFrame(oob_lat)\n",
    "oob_lon = pd.DataFrame(oob_lon)\n",
    "only_one_bike_stat['station_id'] = only_one_bike_stat_id\n",
    "only_one_bike_stat['lat'] = oob_lat\n",
    "only_one_bike_stat['lon'] = oob_lon\n",
    "only_one_bike_stat.columns = ['street', 'station_id', 'lat', 'lon']\n",
    "\n",
    "e_bike_empty_stat = pd.DataFrame(e_bike_empty_stat_name)\n",
    "e_bike_empty_stat_id = pd.DataFrame(e_bike_empty_stat_id)\n",
    "e_eb_lat = pd.DataFrame(e_eb_lat)\n",
    "e_eb_lon = pd.DataFrame(e_eb_lon)\n",
    "e_bike_empty_stat['station_id'] = e_bike_empty_stat_id\n",
    "e_bike_empty_stat['lat'] = e_eb_lat\n",
    "e_bike_empty_stat['lon'] = e_eb_lon\n",
    "e_bike_empty_stat.columns = ['street', 'station_id', 'lat', 'lon']\n",
    "\n",
    "# print('Stations names without bikes: ', bike_empty_stat_name)\n",
    "# print('Stations names without e-bikes: ', e_bike_empty_stat_name)"
   ]
  },
  {
   "cell_type": "code",
   "execution_count": 42,
   "metadata": {},
   "outputs": [
    {
     "output_type": "execute_result",
     "data": {
      "text/plain": [
       "                                           street station_id        lat  \\\n",
       "0        Crystal City Metro / 18th St & S Bell St          8  38.857405   \n",
       "1                          Crystal Dr & 23rd St S         12  38.853300   \n",
       "2                            16th & Harvard St NW         17  38.926088   \n",
       "3       14th St Heights / 14th & Crittenden St NW         65  38.947774   \n",
       "4    Tenleytown / Wisconsin Ave & Albemarle St NW         80  38.947607   \n",
       "..                                            ...        ...        ...   \n",
       "475                          23rd St S & Hayes St        651  38.853002   \n",
       "476                   Arlington Blvd & Fairfax Dr        653  38.886256   \n",
       "477            2nd & V St SW / James Creek Marina        654  38.863743   \n",
       "478                       1st St & Potomac Ave SE        655  38.871841   \n",
       "479                                 3rd & M st SE        657  38.876823   \n",
       "\n",
       "           lon  b_type  \n",
       "0   -77.051132    Bike  \n",
       "1   -77.049800    Bike  \n",
       "2   -77.036536    Bike  \n",
       "3   -77.032818    Bike  \n",
       "4   -77.079382    Bike  \n",
       "..         ...     ...  \n",
       "475 -77.059496  E-Bike  \n",
       "476 -77.084262  E-Bike  \n",
       "477 -77.013814  E-Bike  \n",
       "478 -77.005910  E-Bike  \n",
       "479 -77.002161  E-Bike  \n",
       "\n",
       "[502 rows x 5 columns]"
      ],
      "text/html": "<div>\n<style scoped>\n    .dataframe tbody tr th:only-of-type {\n        vertical-align: middle;\n    }\n\n    .dataframe tbody tr th {\n        vertical-align: top;\n    }\n\n    .dataframe thead th {\n        text-align: right;\n    }\n</style>\n<table border=\"1\" class=\"dataframe\">\n  <thead>\n    <tr style=\"text-align: right;\">\n      <th></th>\n      <th>street</th>\n      <th>station_id</th>\n      <th>lat</th>\n      <th>lon</th>\n      <th>b_type</th>\n    </tr>\n  </thead>\n  <tbody>\n    <tr>\n      <th>0</th>\n      <td>Crystal City Metro / 18th St &amp; S Bell St</td>\n      <td>8</td>\n      <td>38.857405</td>\n      <td>-77.051132</td>\n      <td>Bike</td>\n    </tr>\n    <tr>\n      <th>1</th>\n      <td>Crystal Dr &amp; 23rd St S</td>\n      <td>12</td>\n      <td>38.853300</td>\n      <td>-77.049800</td>\n      <td>Bike</td>\n    </tr>\n    <tr>\n      <th>2</th>\n      <td>16th &amp; Harvard St NW</td>\n      <td>17</td>\n      <td>38.926088</td>\n      <td>-77.036536</td>\n      <td>Bike</td>\n    </tr>\n    <tr>\n      <th>3</th>\n      <td>14th St Heights / 14th &amp; Crittenden St NW</td>\n      <td>65</td>\n      <td>38.947774</td>\n      <td>-77.032818</td>\n      <td>Bike</td>\n    </tr>\n    <tr>\n      <th>4</th>\n      <td>Tenleytown / Wisconsin Ave &amp; Albemarle St NW</td>\n      <td>80</td>\n      <td>38.947607</td>\n      <td>-77.079382</td>\n      <td>Bike</td>\n    </tr>\n    <tr>\n      <th>...</th>\n      <td>...</td>\n      <td>...</td>\n      <td>...</td>\n      <td>...</td>\n      <td>...</td>\n    </tr>\n    <tr>\n      <th>475</th>\n      <td>23rd St S &amp; Hayes St</td>\n      <td>651</td>\n      <td>38.853002</td>\n      <td>-77.059496</td>\n      <td>E-Bike</td>\n    </tr>\n    <tr>\n      <th>476</th>\n      <td>Arlington Blvd &amp; Fairfax Dr</td>\n      <td>653</td>\n      <td>38.886256</td>\n      <td>-77.084262</td>\n      <td>E-Bike</td>\n    </tr>\n    <tr>\n      <th>477</th>\n      <td>2nd &amp; V St SW / James Creek Marina</td>\n      <td>654</td>\n      <td>38.863743</td>\n      <td>-77.013814</td>\n      <td>E-Bike</td>\n    </tr>\n    <tr>\n      <th>478</th>\n      <td>1st St &amp; Potomac Ave SE</td>\n      <td>655</td>\n      <td>38.871841</td>\n      <td>-77.005910</td>\n      <td>E-Bike</td>\n    </tr>\n    <tr>\n      <th>479</th>\n      <td>3rd &amp; M st SE</td>\n      <td>657</td>\n      <td>38.876823</td>\n      <td>-77.002161</td>\n      <td>E-Bike</td>\n    </tr>\n  </tbody>\n</table>\n<p>502 rows × 5 columns</p>\n</div>"
     },
     "metadata": {},
     "execution_count": 42
    }
   ],
   "source": [
    "bike_empty_stat['b_type'] = 'Bike'\n",
    "only_one_bike_stat['b_type'] = 'Bike'\n",
    "e_bike_empty_stat['b_type'] = 'E-Bike'\n",
    "empty_stations = bike_empty_stat.copy()\n",
    "empty_stations = empty_stations.append(e_bike_empty_stat)\n",
    "empty_stations"
   ]
  },
  {
   "cell_type": "code",
   "execution_count": 43,
   "metadata": {},
   "outputs": [
    {
     "output_type": "display_data",
     "data": {
      "application/vnd.plotly.v1+json": {
       "config": {
        "plotlyServerURL": "https://plot.ly"
       },
       "data": [
        {
         "hovertemplate": "<b>%{hovertext}</b><br><br>lat=%{lat}<br>lon=%{lon}<extra></extra>",
         "hovertext": [
          "Crystal City Metro / 18th St & S Bell St",
          "Crystal Dr & 23rd St S",
          "16th & Harvard St NW",
          "14th St Heights / 14th & Crittenden St NW",
          "Tenleytown / Wisconsin Ave & Albemarle St NW",
          "Lincoln Park / 13th & East Capitol St NE ",
          "Wilson Blvd & N Edgewood St",
          "Thomas Circle",
          "Congress Heights Metro",
          "Virginia Square Metro / Monroe St & 9th St N",
          "39th & Veazey St NW",
          "Constitution Ave & 2nd St NW/DOL",
          "New Jersey Ave & N St NW/Dunbar HS",
          "Yuma St & Tenley Circle NW",
          "14th & Girard St NW",
          "10th St & L'Enfant Plaza SW",
          "American University East Campus",
          "19th & Savannah St SE",
          "48th Pl & MacArthur Blvd NW",
          "8th & K St NE",
          "14th & Q St NW",
          "53rd & D St SE/C.W. Harris Elementary"
         ],
         "lat": [
          38.85740496261504,
          38.8533,
          38.926088,
          38.947774,
          38.947607,
          38.890461,
          38.889,
          38.9059,
          38.844711,
          38.882788,
          38.943837,
          38.892275,
          38.90733256111448,
          38.946182,
          38.925284,
          38.88432272414662,
          38.936298,
          38.84623,
          38.9170363119413,
          38.90273216425078,
          38.910674,
          38.883318
         ],
         "legendgroup": "",
         "lon": [
          -77.05113172531128,
          -77.0498,
          -77.036536,
          -77.032818,
          -77.079382,
          -76.988355,
          -77.0925,
          -77.0325,
          -76.987823,
          -77.103148,
          -77.077078,
          -77.013917,
          -77.01536044478416,
          -77.08059,
          -77.032375,
          -77.02601015567778,
          -77.087128,
          -76.97703,
          -77.0957824587822,
          -76.99514991079923,
          -77.03188,
          -76.925315
         ],
         "marker": {
          "color": "red"
         },
         "mode": "markers",
         "name": "",
         "showlegend": false,
         "subplot": "mapbox",
         "type": "scattermapbox"
        }
       ],
       "layout": {
        "legend": {
         "tracegroupgap": 0
        },
        "mapbox": {
         "center": {
          "lat": 38.9018434420031,
          "lon": -77.03689134978886
         },
         "domain": {
          "x": [
           0,
           1
          ],
          "y": [
           0,
           1
          ]
         },
         "style": "open-street-map",
         "zoom": 10
        },
        "margin": {
         "b": 0,
         "l": 0,
         "r": 0,
         "t": 0
        },
        "template": {
         "data": {
          "bar": [
           {
            "error_x": {
             "color": "#2a3f5f"
            },
            "error_y": {
             "color": "#2a3f5f"
            },
            "marker": {
             "line": {
              "color": "#E5ECF6",
              "width": 0.5
             }
            },
            "type": "bar"
           }
          ],
          "barpolar": [
           {
            "marker": {
             "line": {
              "color": "#E5ECF6",
              "width": 0.5
             }
            },
            "type": "barpolar"
           }
          ],
          "carpet": [
           {
            "aaxis": {
             "endlinecolor": "#2a3f5f",
             "gridcolor": "white",
             "linecolor": "white",
             "minorgridcolor": "white",
             "startlinecolor": "#2a3f5f"
            },
            "baxis": {
             "endlinecolor": "#2a3f5f",
             "gridcolor": "white",
             "linecolor": "white",
             "minorgridcolor": "white",
             "startlinecolor": "#2a3f5f"
            },
            "type": "carpet"
           }
          ],
          "choropleth": [
           {
            "colorbar": {
             "outlinewidth": 0,
             "ticks": ""
            },
            "type": "choropleth"
           }
          ],
          "contour": [
           {
            "colorbar": {
             "outlinewidth": 0,
             "ticks": ""
            },
            "colorscale": [
             [
              0,
              "#0d0887"
             ],
             [
              0.1111111111111111,
              "#46039f"
             ],
             [
              0.2222222222222222,
              "#7201a8"
             ],
             [
              0.3333333333333333,
              "#9c179e"
             ],
             [
              0.4444444444444444,
              "#bd3786"
             ],
             [
              0.5555555555555556,
              "#d8576b"
             ],
             [
              0.6666666666666666,
              "#ed7953"
             ],
             [
              0.7777777777777778,
              "#fb9f3a"
             ],
             [
              0.8888888888888888,
              "#fdca26"
             ],
             [
              1,
              "#f0f921"
             ]
            ],
            "type": "contour"
           }
          ],
          "contourcarpet": [
           {
            "colorbar": {
             "outlinewidth": 0,
             "ticks": ""
            },
            "type": "contourcarpet"
           }
          ],
          "heatmap": [
           {
            "colorbar": {
             "outlinewidth": 0,
             "ticks": ""
            },
            "colorscale": [
             [
              0,
              "#0d0887"
             ],
             [
              0.1111111111111111,
              "#46039f"
             ],
             [
              0.2222222222222222,
              "#7201a8"
             ],
             [
              0.3333333333333333,
              "#9c179e"
             ],
             [
              0.4444444444444444,
              "#bd3786"
             ],
             [
              0.5555555555555556,
              "#d8576b"
             ],
             [
              0.6666666666666666,
              "#ed7953"
             ],
             [
              0.7777777777777778,
              "#fb9f3a"
             ],
             [
              0.8888888888888888,
              "#fdca26"
             ],
             [
              1,
              "#f0f921"
             ]
            ],
            "type": "heatmap"
           }
          ],
          "heatmapgl": [
           {
            "colorbar": {
             "outlinewidth": 0,
             "ticks": ""
            },
            "colorscale": [
             [
              0,
              "#0d0887"
             ],
             [
              0.1111111111111111,
              "#46039f"
             ],
             [
              0.2222222222222222,
              "#7201a8"
             ],
             [
              0.3333333333333333,
              "#9c179e"
             ],
             [
              0.4444444444444444,
              "#bd3786"
             ],
             [
              0.5555555555555556,
              "#d8576b"
             ],
             [
              0.6666666666666666,
              "#ed7953"
             ],
             [
              0.7777777777777778,
              "#fb9f3a"
             ],
             [
              0.8888888888888888,
              "#fdca26"
             ],
             [
              1,
              "#f0f921"
             ]
            ],
            "type": "heatmapgl"
           }
          ],
          "histogram": [
           {
            "marker": {
             "colorbar": {
              "outlinewidth": 0,
              "ticks": ""
             }
            },
            "type": "histogram"
           }
          ],
          "histogram2d": [
           {
            "colorbar": {
             "outlinewidth": 0,
             "ticks": ""
            },
            "colorscale": [
             [
              0,
              "#0d0887"
             ],
             [
              0.1111111111111111,
              "#46039f"
             ],
             [
              0.2222222222222222,
              "#7201a8"
             ],
             [
              0.3333333333333333,
              "#9c179e"
             ],
             [
              0.4444444444444444,
              "#bd3786"
             ],
             [
              0.5555555555555556,
              "#d8576b"
             ],
             [
              0.6666666666666666,
              "#ed7953"
             ],
             [
              0.7777777777777778,
              "#fb9f3a"
             ],
             [
              0.8888888888888888,
              "#fdca26"
             ],
             [
              1,
              "#f0f921"
             ]
            ],
            "type": "histogram2d"
           }
          ],
          "histogram2dcontour": [
           {
            "colorbar": {
             "outlinewidth": 0,
             "ticks": ""
            },
            "colorscale": [
             [
              0,
              "#0d0887"
             ],
             [
              0.1111111111111111,
              "#46039f"
             ],
             [
              0.2222222222222222,
              "#7201a8"
             ],
             [
              0.3333333333333333,
              "#9c179e"
             ],
             [
              0.4444444444444444,
              "#bd3786"
             ],
             [
              0.5555555555555556,
              "#d8576b"
             ],
             [
              0.6666666666666666,
              "#ed7953"
             ],
             [
              0.7777777777777778,
              "#fb9f3a"
             ],
             [
              0.8888888888888888,
              "#fdca26"
             ],
             [
              1,
              "#f0f921"
             ]
            ],
            "type": "histogram2dcontour"
           }
          ],
          "mesh3d": [
           {
            "colorbar": {
             "outlinewidth": 0,
             "ticks": ""
            },
            "type": "mesh3d"
           }
          ],
          "parcoords": [
           {
            "line": {
             "colorbar": {
              "outlinewidth": 0,
              "ticks": ""
             }
            },
            "type": "parcoords"
           }
          ],
          "pie": [
           {
            "automargin": true,
            "type": "pie"
           }
          ],
          "scatter": [
           {
            "marker": {
             "colorbar": {
              "outlinewidth": 0,
              "ticks": ""
             }
            },
            "type": "scatter"
           }
          ],
          "scatter3d": [
           {
            "line": {
             "colorbar": {
              "outlinewidth": 0,
              "ticks": ""
             }
            },
            "marker": {
             "colorbar": {
              "outlinewidth": 0,
              "ticks": ""
             }
            },
            "type": "scatter3d"
           }
          ],
          "scattercarpet": [
           {
            "marker": {
             "colorbar": {
              "outlinewidth": 0,
              "ticks": ""
             }
            },
            "type": "scattercarpet"
           }
          ],
          "scattergeo": [
           {
            "marker": {
             "colorbar": {
              "outlinewidth": 0,
              "ticks": ""
             }
            },
            "type": "scattergeo"
           }
          ],
          "scattergl": [
           {
            "marker": {
             "colorbar": {
              "outlinewidth": 0,
              "ticks": ""
             }
            },
            "type": "scattergl"
           }
          ],
          "scattermapbox": [
           {
            "marker": {
             "colorbar": {
              "outlinewidth": 0,
              "ticks": ""
             }
            },
            "type": "scattermapbox"
           }
          ],
          "scatterpolar": [
           {
            "marker": {
             "colorbar": {
              "outlinewidth": 0,
              "ticks": ""
             }
            },
            "type": "scatterpolar"
           }
          ],
          "scatterpolargl": [
           {
            "marker": {
             "colorbar": {
              "outlinewidth": 0,
              "ticks": ""
             }
            },
            "type": "scatterpolargl"
           }
          ],
          "scatterternary": [
           {
            "marker": {
             "colorbar": {
              "outlinewidth": 0,
              "ticks": ""
             }
            },
            "type": "scatterternary"
           }
          ],
          "surface": [
           {
            "colorbar": {
             "outlinewidth": 0,
             "ticks": ""
            },
            "colorscale": [
             [
              0,
              "#0d0887"
             ],
             [
              0.1111111111111111,
              "#46039f"
             ],
             [
              0.2222222222222222,
              "#7201a8"
             ],
             [
              0.3333333333333333,
              "#9c179e"
             ],
             [
              0.4444444444444444,
              "#bd3786"
             ],
             [
              0.5555555555555556,
              "#d8576b"
             ],
             [
              0.6666666666666666,
              "#ed7953"
             ],
             [
              0.7777777777777778,
              "#fb9f3a"
             ],
             [
              0.8888888888888888,
              "#fdca26"
             ],
             [
              1,
              "#f0f921"
             ]
            ],
            "type": "surface"
           }
          ],
          "table": [
           {
            "cells": {
             "fill": {
              "color": "#EBF0F8"
             },
             "line": {
              "color": "white"
             }
            },
            "header": {
             "fill": {
              "color": "#C8D4E3"
             },
             "line": {
              "color": "white"
             }
            },
            "type": "table"
           }
          ]
         },
         "layout": {
          "annotationdefaults": {
           "arrowcolor": "#2a3f5f",
           "arrowhead": 0,
           "arrowwidth": 1
          },
          "autotypenumbers": "strict",
          "coloraxis": {
           "colorbar": {
            "outlinewidth": 0,
            "ticks": ""
           }
          },
          "colorscale": {
           "diverging": [
            [
             0,
             "#8e0152"
            ],
            [
             0.1,
             "#c51b7d"
            ],
            [
             0.2,
             "#de77ae"
            ],
            [
             0.3,
             "#f1b6da"
            ],
            [
             0.4,
             "#fde0ef"
            ],
            [
             0.5,
             "#f7f7f7"
            ],
            [
             0.6,
             "#e6f5d0"
            ],
            [
             0.7,
             "#b8e186"
            ],
            [
             0.8,
             "#7fbc41"
            ],
            [
             0.9,
             "#4d9221"
            ],
            [
             1,
             "#276419"
            ]
           ],
           "sequential": [
            [
             0,
             "#0d0887"
            ],
            [
             0.1111111111111111,
             "#46039f"
            ],
            [
             0.2222222222222222,
             "#7201a8"
            ],
            [
             0.3333333333333333,
             "#9c179e"
            ],
            [
             0.4444444444444444,
             "#bd3786"
            ],
            [
             0.5555555555555556,
             "#d8576b"
            ],
            [
             0.6666666666666666,
             "#ed7953"
            ],
            [
             0.7777777777777778,
             "#fb9f3a"
            ],
            [
             0.8888888888888888,
             "#fdca26"
            ],
            [
             1,
             "#f0f921"
            ]
           ],
           "sequentialminus": [
            [
             0,
             "#0d0887"
            ],
            [
             0.1111111111111111,
             "#46039f"
            ],
            [
             0.2222222222222222,
             "#7201a8"
            ],
            [
             0.3333333333333333,
             "#9c179e"
            ],
            [
             0.4444444444444444,
             "#bd3786"
            ],
            [
             0.5555555555555556,
             "#d8576b"
            ],
            [
             0.6666666666666666,
             "#ed7953"
            ],
            [
             0.7777777777777778,
             "#fb9f3a"
            ],
            [
             0.8888888888888888,
             "#fdca26"
            ],
            [
             1,
             "#f0f921"
            ]
           ]
          },
          "colorway": [
           "#636efa",
           "#EF553B",
           "#00cc96",
           "#ab63fa",
           "#FFA15A",
           "#19d3f3",
           "#FF6692",
           "#B6E880",
           "#FF97FF",
           "#FECB52"
          ],
          "font": {
           "color": "#2a3f5f"
          },
          "geo": {
           "bgcolor": "white",
           "lakecolor": "white",
           "landcolor": "#E5ECF6",
           "showlakes": true,
           "showland": true,
           "subunitcolor": "white"
          },
          "hoverlabel": {
           "align": "left"
          },
          "hovermode": "closest",
          "mapbox": {
           "style": "light"
          },
          "paper_bgcolor": "white",
          "plot_bgcolor": "#E5ECF6",
          "polar": {
           "angularaxis": {
            "gridcolor": "white",
            "linecolor": "white",
            "ticks": ""
           },
           "bgcolor": "#E5ECF6",
           "radialaxis": {
            "gridcolor": "white",
            "linecolor": "white",
            "ticks": ""
           }
          },
          "scene": {
           "xaxis": {
            "backgroundcolor": "#E5ECF6",
            "gridcolor": "white",
            "gridwidth": 2,
            "linecolor": "white",
            "showbackground": true,
            "ticks": "",
            "zerolinecolor": "white"
           },
           "yaxis": {
            "backgroundcolor": "#E5ECF6",
            "gridcolor": "white",
            "gridwidth": 2,
            "linecolor": "white",
            "showbackground": true,
            "ticks": "",
            "zerolinecolor": "white"
           },
           "zaxis": {
            "backgroundcolor": "#E5ECF6",
            "gridcolor": "white",
            "gridwidth": 2,
            "linecolor": "white",
            "showbackground": true,
            "ticks": "",
            "zerolinecolor": "white"
           }
          },
          "shapedefaults": {
           "line": {
            "color": "#2a3f5f"
           }
          },
          "ternary": {
           "aaxis": {
            "gridcolor": "white",
            "linecolor": "white",
            "ticks": ""
           },
           "baxis": {
            "gridcolor": "white",
            "linecolor": "white",
            "ticks": ""
           },
           "bgcolor": "#E5ECF6",
           "caxis": {
            "gridcolor": "white",
            "linecolor": "white",
            "ticks": ""
           }
          },
          "title": {
           "x": 0.05
          },
          "xaxis": {
           "automargin": true,
           "gridcolor": "white",
           "linecolor": "white",
           "ticks": "",
           "title": {
            "standoff": 15
           },
           "zerolinecolor": "white",
           "zerolinewidth": 2
          },
          "yaxis": {
           "automargin": true,
           "gridcolor": "white",
           "linecolor": "white",
           "ticks": "",
           "title": {
            "standoff": 15
           },
           "zerolinecolor": "white",
           "zerolinewidth": 2
          }
         }
        }
       }
      }
     },
     "metadata": {}
    }
   ],
   "source": [
    "# Empty Bike Stations (0 bikes)\n",
    "\n",
    "fig = px.scatter_mapbox(bike_empty_stat,\n",
    "                    lat='lat',\n",
    "                    lon='lon',\n",
    "                    hover_name=\"street\",\n",
    "                    color_discrete_sequence=['red'],\n",
    "                    zoom=10)\n",
    "\n",
    "fig.update_layout(mapbox_style=\"open-street-map\")\n",
    "#fig.update_layout(title = 'All Bike Stations')\n",
    "fig.update_layout(margin={\"r\":0,\"t\":0,\"l\":0,\"b\":0})\n",
    "fig.show()"
   ]
  },
  {
   "cell_type": "code",
   "execution_count": 44,
   "metadata": {},
   "outputs": [
    {
     "output_type": "display_data",
     "data": {
      "application/vnd.plotly.v1+json": {
       "config": {
        "plotlyServerURL": "https://plot.ly"
       },
       "data": [
        {
         "hovertemplate": "<b>%{hovertext}</b><br><br>b_type=Bike<br>lat=%{lat}<br>lon=%{lon}<extra></extra>",
         "hovertext": [
          "Crystal City Metro / 18th St & S Bell St",
          "Crystal Dr & 23rd St S",
          "16th & Harvard St NW",
          "14th St Heights / 14th & Crittenden St NW",
          "Tenleytown / Wisconsin Ave & Albemarle St NW",
          "Lincoln Park / 13th & East Capitol St NE ",
          "Wilson Blvd & N Edgewood St",
          "Thomas Circle",
          "Congress Heights Metro",
          "Virginia Square Metro / Monroe St & 9th St N",
          "39th & Veazey St NW",
          "Constitution Ave & 2nd St NW/DOL",
          "New Jersey Ave & N St NW/Dunbar HS",
          "Yuma St & Tenley Circle NW",
          "14th & Girard St NW",
          "10th St & L'Enfant Plaza SW",
          "American University East Campus",
          "19th & Savannah St SE",
          "48th Pl & MacArthur Blvd NW",
          "8th & K St NE",
          "14th & Q St NW",
          "53rd & D St SE/C.W. Harris Elementary"
         ],
         "lat": [
          38.85740496261504,
          38.8533,
          38.926088,
          38.947774,
          38.947607,
          38.890461,
          38.889,
          38.9059,
          38.844711,
          38.882788,
          38.943837,
          38.892275,
          38.90733256111448,
          38.946182,
          38.925284,
          38.88432272414662,
          38.936298,
          38.84623,
          38.9170363119413,
          38.90273216425078,
          38.910674,
          38.883318
         ],
         "legendgroup": "Bike",
         "lon": [
          -77.05113172531128,
          -77.0498,
          -77.036536,
          -77.032818,
          -77.079382,
          -76.988355,
          -77.0925,
          -77.0325,
          -76.987823,
          -77.103148,
          -77.077078,
          -77.013917,
          -77.01536044478416,
          -77.08059,
          -77.032375,
          -77.02601015567778,
          -77.087128,
          -76.97703,
          -77.0957824587822,
          -76.99514991079923,
          -77.03188,
          -76.925315
         ],
         "marker": {
          "color": "#636efa"
         },
         "mode": "markers",
         "name": "Bike",
         "showlegend": true,
         "subplot": "mapbox",
         "type": "scattermapbox"
        },
        {
         "hovertemplate": "<b>%{hovertext}</b><br><br>b_type=E-Bike<br>lat=%{lat}<br>lon=%{lon}<extra></extra>",
         "hovertext": [
          "Eads St & 15th St S",
          "18th St & S Eads St",
          "Crystal Dr & 20th St S",
          "Crystal Dr & 15th St S",
          "Aurora Hills Cmty Ctr / 18th St & S Hayes St",
          "Pentagon City Metro / 12th St & S Hayes St",
          "Crystal Dr & 27th St S",
          "S Glebe Rd & Potomac Ave",
          "Clark St & 26th St S",
          "19th St & Pennsylvania Ave NW",
          "14th & V St NW",
          "11th & Kenyon St NW",
          "14th & Harvard St NW",
          "Calvert & Biltmore St NW",
          "Lamont & Mt Pleasant NW",
          "4th & M St SW",
          "15th & P St NW",
          "14th & R St NW",
          "14th & Rhode Island Ave NW",
          "20th & E St NW",
          "21st & I St NW",
          "14th St & Spring Rd NW",
          "John McCormack Dr & Michigan Ave NE",
          "Good Hope & Naylor Rd SE",
          "Connecticut Ave & Newark St NW / Cleveland Park",
          "Randle Circle & Minnesota Ave SE",
          "Minnesota Ave Metro/DOES",
          "Nannie Helen Burroughs & Minnesota Ave NE",
          "Good Hope Rd & MLK Ave SE",
          "19th & E Street NW",
          "4th & W St NE",
          "10th & U St NW",
          "Georgia Ave and Fairmont St NW",
          "1st & N St  SE",
          "20th St & Florida Ave NW",
          "Eads St & 22nd St S",
          "M St & New Jersey Ave SE",
          "Massachusetts Ave & Dupont Circle NW",
          "1st & M St NE",
          "New Hampshire Ave & Ward Pl NW",
          "3rd & H St NW",
          "3rd & D St SE",
          "13th & E St SE",
          "17th & Corcoran St NW",
          "Van Ness Metro / UDC",
          "Florida Ave & R St NW",
          "8th & Eye St SE / Barracks Row",
          "Anacostia Library",
          "Pennsylvania & Minnesota Ave SE",
          "14th St & New York Ave NW",
          "Benning Branch Library",
          "USDA / 12th & C St SW",
          "Georgetown Harbor / 30th St NW",
          "12th & Newton St NE",
          "L'Enfant Plaza / 7th & C St SW",
          "10th St & Constitution Ave NW",
          "Kennedy Center",
          "Eastern Market Metro / Pennsylvania Ave & 8th St SE",
          "18th & M St NW",
          "5th & F St NW",
          "New York Ave & 15th St NW",
          "Convention Center / 7th & M St NW",
          "Harvard St & Adams Mill Rd NW",
          "18th & L St NW",
          "C & O Canal & Wisconsin Ave NW",
          "Maine Ave & 7th St SW",
          "13th St & New York Ave NW",
          "8th & H St NW",
          "10th & Monroe St NE",
          "Eckington Pl & Q St NE",
          "6th & H St NE",
          "Bladensburg Rd & Benning Rd NE",
          "4th & East Capitol St NE",
          "Branch & Pennsylvania Ave SE",
          "13th & D St NE",
          "New Hampshire Ave & T St NW",
          "Metro Center / 12th & G St NW",
          "14th & D St NW / Ronald Reagan Building",
          "7th & F St NW / National Portrait Gallery",
          "17th & K St NW / Farragut Square",
          "20th & O St NW / Dupont South",
          "4th & D St NW / Judiciary Square",
          "19th St & Constitution Ave NW",
          "37th & O St NW / Georgetown University",
          "Columbus Circle / Union Station",
          "North Capitol St & F St NW",
          "11th & M St NW",
          "36th & Calvert St NW / Glover Park",
          "14th & G St NW",
          "Potomac Ave & 35th St S",
          "Ohio Dr & West Basin Dr SW / MLK & FDR Memorials",
          "11th & F St NW",
          "23rd & E St NW ",
          "Lynn St & 19th St North",
          "Wilson Blvd & N Uhle St",
          "Rhodes St & 16th St N",
          "Fairfax Village",
          "21st St & Constitution Ave NW",
          "Wilson Blvd & N Franklin Rd",
          "Clarendon Blvd & N Fillmore St",
          "Clarendon Metro / Wilson Blvd & N Highland St",
          "18th St & Pennsylvania Ave NW",
          "3rd & G St SE",
          "7th & R St NW / Shaw Library",
          "9th & Upshur St NW",
          "1st & Rhode Island Ave NW",
          "California St & Florida Ave NW",
          "Benning Rd & East Capitol St NE / Benning Rd Metro",
          "M St & Pennsylvania Ave NW",
          "15th St & Massachusetts Ave SE",
          "Barcroft Community Center",
          "N Veitch St & 20th St N",
          "Fairfax Dr & Wilson Blvd",
          "Wilson Blvd & N Quinn St",
          "39th & Calvert St NW / Stoddert",
          "Central Library / Quincy St & 10th St N",
          "Washington Blvd & 10th St N",
          "Jefferson Dr & 14th St SW",
          "Smithsonian-National Mall / Jefferson Dr & 12th St SW",
          "George Mason Dr & Wilson Blvd",
          "N Veitch St & Key Blvd",
          "Lee Hwy & N Adams St",
          "15th St & N Scott St",
          "Washington Blvd & 7th St N",
          "Ballston Metro / Stuart St & 9th St N",
          "Fairfax Dr & N Randolph St",
          "Jefferson Memorial",
          "Good Hope Rd & 14th St SE",
          "Glebe Rd & 11th St N",
          "Wilson Blvd & N Quincy St",
          "GMU / Fairfax Dr & Kenmore St",
          "Gallaudet / 8th St & Florida Ave NE",
          "20th & L St NW",
          "12th & L St NW",
          "21st St & Pennsylvania Ave NW",
          "19th & K St NW",
          "Prince St & Union St",
          "Market Square / King St & Royal St",
          "St Asaph & Pendleton St",
          "King St & Patrick St",
          "15th & K St NW",
          "Commerce St & Fayette St",
          "King St Metro South",
          "22nd & I St NW / Foggy Bottom",
          "Utah St & 11th St N",
          "Barton St & 10th St N",
          "Arlington Blvd & N Queen St",
          "Lincoln Memorial",
          "20th St & Virginia Ave NW",
          "5th St & Massachusetts Ave NW",
          "Fessenden St & Wisconsin Ave NW",
          "3rd & M St NE",
          "Columbia Pike & S Courthouse Rd",
          "Wakefield High School",
          "28th St & S Meade St",
          "Georgia Ave & Emerson St NW",
          "14th St & Colorado Ave NW",
          "Troy St & 26th St S",
          "Columbia Pike & S Oakland St",
          "Four Mile Run Dr & S Walter Reed Dr",
          "S Arlington Mill Dr & Campbell Ave",
          "13th St & Eastern Ave",
          "Roosevelt Island",
          "17th St & Massachusetts Ave NW",
          "8th & East Capitol St NE",
          "New Jersey Ave & R St NW",
          "8th & F St NE",
          "18th St & Rhode Island Ave NE",
          "12th & Irving St NE",
          "Alabama & MLK Ave SE",
          "Pleasant St & MLK Ave SE",
          "12th & U St NW",
          "S George Mason & Four Mile Run Dr",
          "Gravelly Point",
          "Pershing Dr & Wayne St",
          "3rd St & Pennsylvania Ave SE",
          "8th & D St NW",
          "Rhode Island Ave & V St NE",
          "Washington & Independence Ave SW/HHS",
          "Independence Ave & L'Enfant Plaza SW/DOE",
          "Hamlin & 7th St NE",
          "Columbia Pike & S Walter Reed Dr",
          "Arlington Mill Cmty Center / Columbia Pike & S Dinwiddie St",
          "Pershing Dr & N George Mason Dr",
          "Fenton St & New York Ave ",
          "Montgomery Ave & Waverly St ",
          "Fallsgrove Blvd & Fallsgrove Dr",
          "Traville Gateway Dr & Gudelsky Dr",
          "E Montgomery Ave & Maryland Ave",
          "Frederick Ave & Horners Ln",
          "Philadelphia & Maple Ave",
          "Maple & Ritchie Ave",
          "Silver Spring Metro / Colesville Rd & Wayne Ave",
          "Montgomery & East Ln",
          "Friendship Hts Metro / Wisconsin Ave & Wisconsin Cir",
          "14th & Belmont St NW",
          "3rd & Tingey St SE",
          "Potomac Ave & 8th St SE",
          "Fallsgrove Dr & W Montgomery Ave",
          "Monroe St & Monroe Pl",
          "Needwood Rd & Eagles Head Ct",
          "47th & Elm St",
          "Dennis Ave & Amherst Ave",
          "Montgomery College / W Campus Dr & Mannakee St",
          "Fenton St & Gist Ave",
          "Carroll & Westmoreland Ave",
          "Carroll & Ethan Allen Ave",
          "Battery Ln & Trolley Trail",
          "Offutt Ln & Chevy Chase Dr",
          "Fleet St & Ritchie Pkwy",
          "Piccard & W Gude Dr",
          "Georgia Ave & Spring St",
          "Fenton St & Ellsworth Dr ",
          "King Farm Blvd & Pleasant Dr",
          "King Farm Blvd & Piccard Dr",
          "Nannie Helen Burroughs Ave & 49th St NE",
          "Deanwood Rec Center",
          "Hains Point/Buckeye & Ohio Dr SW",
          "Arlington Blvd & Fillmore St",
          "Old Georgetown Rd & Southwick St",
          "North Capitol St & G Pl NE",
          "31st St & S Woodrow St",
          "Washington Blvd & Walter Reed Dr ",
          "TJ Cmty Ctr / 2nd St & S Old Glebe Rd",
          "Connecticut Ave & Tilden St NW",
          "Medical Center Dr & Key West Ave",
          "Shady Grove Hospital",
          "Veterans Pl & Pershing Dr ",
          "Rockville Metro East",
          "1st & H St NW",
          "Fort Totten Metro",
          "Takoma Metro",
          "Rhode Island Ave Metro",
          "Rolfe St & 9th St S",
          "Shirlington Transit Center / Quincy St & Randolph St",
          "Shady Grove Metro West",
          "Rockville Metro West",
          "Bethesda Metro / Wisconsin Ave & Old Georgetown Rd",
          "Duke St & John Carlyle St",
          "Lee Hwy & N Cleveland St",
          "Arlington Blvd & S George Mason Dr",
          "10th & G St NW",
          "Lee Hwy & N Scott St",
          "Eisenhower Ave & Mill Race Ln",
          "Potomac Greens Dr & Slaters Ln",
          "Ballenger Ave & Dulaney St",
          "Mount Vernon Ave & E Del Ray Ave",
          "Monroe Ave & Leslie Ave",
          "Mount Vernon Ave & Kennedy St",
          "Court House Metro / 15th St & N Uhle St",
          "Long Bridge Park / Long Bridge Dr & 6th St S",
          "Connecticut Ave & McKinley St NW",
          "15th & L St NW",
          "17th & G St NW",
          "Spring St & 2nd Ave",
          "18th & R St NW",
          "Union Market",
          "19th & G St NW",
          "2nd St & Seaton Pl NE",
          "Wilson Blvd & N Illinois St ",
          "Army Navy Dr & S Nash St",
          "31st & Water St NW",
          "11th & S St NW",
          "Walter Reed Dr & 8th St S",
          "2nd & G St NE",
          "8th & O St NW",
          "Oklahoma Ave & D St NE",
          "Maryland Ave & E St NE",
          "Connecticut Ave & Chevy Chase Lake Dr",
          "Key West Ave & Siesta Key Way",
          "Saint Asaph St & Madison St",
          "King St Metro North / Cameron St",
          "Madison St & N Henry St",
          "Medical Center Metro ",
          "Washington Blvd & N Frederick St",
          "Wisconsin Ave & Ingomar St NW",
          "16th & Irving St NW",
          "16th & R St NW",
          "Lyttonsville Rd & Lyttonsville Pl",
          "Woodmont Ave & Strathmore St",
          "14th & L St NW",
          "1st & O St NW",
          "South Capitol & Atlantic St SW",
          "18th & C St NW",
          "East West Hwy & 16th St",
          "Royal St & Wilkes St",
          "Potomac Ave & Main Line Blvd",
          "11th & O St NW",
          "2nd St & Massachusetts Ave NE",
          "Radford St & Osage St",
          "East Falls Church Metro / Sycamore St & 19th St N",
          "Kennebec St & 11th St N",
          "Commonwealth Ave & Oak St",
          "17th St & Independence Ave SW",
          "Franklin St & S Washington St",
          "Mount Vernon Ave & Four Mile Run Park",
          "Mount Vernon Ave & Bruce St",
          "Lee Center",
          "Powhatan St & Bashford Ln",
          "Potomac Ave & Swann Ave",
          "Vermont Ave & I St NW",
          "24th & R St NE / National Arboretum",
          "Division Ave & Foote St NE",
          "16th & Q St SE / Anacostia HS",
          "Spring Hill Metro",
          "Westpark Dr & Leesburg Pike",
          "Tysons One Pl & Chain Bridge Rd",
          "Tysons Corner Station",
          "Westpark & Jones Branch Dr",
          "Jones Branch & Westbranch Dr",
          "Tysons West Transit Center",
          "North Shore & Cameron Crescent Dr/Crescent Apartments",
          "Town Center Pkwy & Bowman Towne Dr",
          "Reston Regional Library",
          "New Dominion Pkwy & Fountain Dr",
          "Sunset Hills & Old Reston Ave",
          "Reston Town Center Transit Station",
          "1st & D St SE",
          "Wiehle Ave & Reston Station Blvd",
          "Library St & Freedom Dr",
          "Sunset Hills Rd & Discovery Square",
          "Temporary Rd & Old Reston Ave",
          "Reston YMCA",
          "Sunset Hills Rd & Isaac Newton Square",
          "N Lynn St & Fairfax Dr",
          "Greensboro & International Dr",
          "Madison St & Fairfax St",
          "Sligo Ave & Carroll Ln",
          "15th & W St NW",
          "12th St & Pennsylvania Ave SE",
          "Carlin Springs Rd & N Thomas St",
          "Towers Crescent Dr & Tysons One Pl",
          "6th & K St NE",
          "Pooks Hill Rd & Linden Ave",
          "Takoma Park Rec Center",
          "New Hampshire & Kirklynn Ave",
          "Wheaton Metro / Georgia Ave & Reedie Dr",
          "Amherst Ave & Elkins St",
          "Amherst Ave & Prichard Rd",
          "Grandview & Blueridge Ave",
          "Windham Ln & Amherst Ave",
          "North Shore Dr & Village Rd",
          "Town Center Pkwy & Sunset Hills Rd",
          "3rd & Underwood St NW",
          "18th & Monroe St NE",
          "7th & E St SW",
          "Shady Grove Metro East",
          "Potomac & M St NW",
          "Columbia & Ontario Rd NW",
          "Washington-Liberty High School / N Stafford St & Generals Way",
          "Westover Library / Washington Blvd & N McKinley Rd",
          "Columbia Pike & S Taylor St",
          "Columbus Ave & Gramercy Blvd",
          "Reston Pkwy & Spectrum Dr",
          "Key West Ave & Great Seneca Hwy",
          "Virginia Ave & 25th St NW",
          "15th & M St NW",
          "11th & Girard St NW",
          "Connecticut Ave & R St NW",
          "15th St & Constitution Ave NW",
          "23rd & M St NW",
          "Corporate Blvd & Omega Dr",
          "Key West Ave & Diamondback Dr",
          "Alabama Ave & Stanton Rd SE / Shops at Park Village",
          "Mississippi Ave & 19th St SE / THEARC",
          "4th St & Mississippi Ave SE",
          "1st & S Capitol St SE / Oxon Run Trail",
          "Livingston Rd & 3rd St SE",
          "Joliet St & MLK Ave SW/Bald Eagle Rec Ctr",
          "37th & Ely Pl SE",
          "15th St & Pennsylvania Ave NW",
          "Maine Ave & 9th St SW",
          "Lincoln Rd & Seaton Pl NE/Harry Thomas Rec Center",
          "Blueridge Ave & Elkin St",
          "7th St & Massachusetts Ave NE",
          "Anacostia Park",
          "Twinbrook Metro",
          "White Flint Metro",
          "Citadel Ave & McGrath Blvd",
          "Rockville Pike & Old Georgetown Rd",
          "Woodglen Dr & Executive Blvd",
          "Executive Blvd & E Jefferson St",
          "Fishers Ln & Rock Creek Mill Rd",
          "Congressional Ln & E Jefferson St",
          "Greensboro & Pinnacle Dr",
          "1301 McCormick Dr / Wayne K. Curry Admin Bldg",
          "Largo Town Center Metro",
          "Baltimore Ave & Van Buren St / Riverdale Park Station",
          "Baltimore Ave & Jefferson St",
          "Perry & 35th St",
          "Rockville Pike & Meeting St",
          "Potomac Ave & Half St SW",
          "Crystal Dr & Potomac Ave",
          "Largo Rd & Campus Way / Prince Georges's Comm Col",
          "Stanton Square SE",
          "14th & Luzon St NW",
          "Fleet St & Waterfront St",
          "Oxon Hill Park & Ride",
          "4th & M St SE",
          "Campus Commons",
          "Park Run & Onyx Dr",
          "7th & K St NW",
          "King Greenleaf Rec Center",
          "Montello Ave & Holbrook Terr NE",
          "Woodley Park Metro / Calvert St & Connecticut Ave NW",
          "McLean Metro",
          "Trinidad Rec Center",
          "Rosedale Rec Center",
          "11th & C St SE",
          "United Medical Center",
          "18th & New Hampshire Ave NW",
          "Dunn Loring Metro",
          "Queens Chapel & Hamilton St",
          "New Hampshire Ave & East-West Hwy",
          "Riggs Rd & East West Hwy",
          "Chillum Rd & Riggs Rd / Riggs Plaza",
          "Hyattsville Library / Adelphi Rd & Toledo Rd",
          "George Mason High School / Haycock Rd & Leesburg Pike",
          "State Theatre / Park Pl & N Washington St",
          "N Oak St & W Broad St",
          "Pennsylvania Ave & Park Ave",
          "E Fairfax St & S Washington St",
          "N Roosevelt St & Roosevelt Blvd",
          "W Broad St & Little Falls St",
          "S Maple Ave & S Washington St",
          "Falls Church City Hall / Park Ave & Little Falls St",
          "W Columbia St & N Washington St",
          "West Falls Church Metro",
          "Jones Branch Drive & Scotts Crossing Rd",
          "Georgia Ave & Morton St NW",
          "Merrilee Dr & Lauren Elizabeth Lane",
          "Merrifield Cinema & Merrifield Town Center",
          "Rhode Island & Montana Ave NE",
          "7th & S St NW",
          "17th & Upshur St NW",
          "John McCormack Rd NE",
          "West Hyattsville Metro",
          "Capitol Heights Metro",
          "Prince George's Plaza Metro",
          "Riverdale Park Town Center",
          "The Mall at Prince Georges",
          "Wheaton Library & Community Rec Center",
          "Kingman Island/The Fields at RFK",
          "Kenilworth Terrace & Hayes St. NE",
          "National Harbor Carousel",
          "Ridge Rd Community Center",
          "Fort Stanton Rec Center",
          "22nd & H St NW",
          "8th & H St NE",
          "Briggs Chaney & Castle Dr",
          "White Oak Rec Center",
          "Briggs Chaney Park & Ride",
          "Stewart & April",
          "Stewart Ln & Old Columbia Pike",
          "New Hampshire & Lockwood",
          "Castle Blvd & Castle Ln",
          "Oak Leaf & Lockwood",
          "White Oak Transit Center",
          "Oklahoma Ave & Benning Rd NE",
          "Minnesota Ave & R St SE",
          "Vy Reston Heights",
          "Wheeler Ave & S. Floyd St.",
          "N. Beauregard St. & Berkley St.",
          "Eisenhower Ave & Ike Dr",
          "Capitol Ave & Kendall St NE",
          "14th & D St SE",
          "Half & Water St SW",
          "13th & U St NW",
          "Stadium Armory Metro",
          "N Pitt St & Montgomery St",
          "Duke St & Strand (Robinson Terminal)",
          "21st St & G st NW",
          "4th St & G St SW",
          "Fern St & Army Navy Dr",
          "Arlington Blvd & Ft Myer Dr",
          "23rd St S & Hayes St",
          "Arlington Blvd & Fairfax Dr",
          "2nd & V St SW / James Creek Marina",
          "1st St & Potomac Ave SE",
          "3rd & M st SE"
         ],
         "lat": [
          38.858971,
          38.85725,
          38.856425,
          38.86017,
          38.857866,
          38.862303,
          38.848466,
          38.8426,
          38.850688,
          38.9003,
          38.9177645,
          38.929464,
          38.9268,
          38.923203,
          38.9319,
          38.876697,
          38.909868,
          38.913046,
          38.9086,
          38.8963,
          38.90071062547463,
          38.9375,
          38.9346,
          38.86005647007575,
          38.934267,
          38.878,
          38.897063,
          38.901385,
          38.867373,
          38.8952,
          38.919077,
          38.9172,
          38.9249,
          38.8743,
          38.9154,
          38.85438051517749,
          38.8763,
          38.9101,
          38.905697,
          38.90571079190728,
          38.899408,
          38.8851,
          38.88291548476762,
          38.9121,
          38.944551,
          38.9126,
          38.8792,
          38.865784,
          38.873057,
          38.899632,
          38.894,
          38.88627694506511,
          38.902314,
          38.933668,
          38.886266,
          38.893028,
          38.897293,
          38.884260087971725,
          38.90506687455313,
          38.897222,
          38.89903234416315,
          38.905737,
          38.927872,
          38.903741450919384,
          38.90375,
          38.878693599396954,
          38.900283,
          38.8997,
          38.932514,
          38.910972,
          38.899972,
          38.900413,
          38.889955,
          38.8692,
          38.894832,
          38.915544,
          38.898364,
          38.894514,
          38.89728304853854,
          38.902061,
          38.908905,
          38.895344,
          38.8923,
          38.90774,
          38.89696,
          38.897446,
          38.9055785,
          38.922581,
          38.898409,
          38.844015,
          38.88412,
          38.897857,
          38.896104,
          38.897315,
          38.891696,
          38.892164,
          38.86559,
          38.892459,
          38.8904,
          38.8881,
          38.88786,
          38.899680000000004,
          38.881185,
          38.912719,
          38.9418,
          38.915417,
          38.917761,
          38.889935,
          38.905126,
          38.88732,
          38.85033657788445,
          38.896923,
          38.885801,
          38.893993,
          38.922649,
          38.88397,
          38.884734,
          38.8885525,
          38.888774,
          38.87887,
          38.893237,
          38.89593,
          38.89054,
          38.88081,
          38.881044,
          38.882629,
          38.879819,
          38.866611,
          38.883921,
          38.880012,
          38.884616,
          38.90509,
          38.903584,
          38.903819,
          38.901539,
          38.902204,
          38.803124,
          38.804718,
          38.81074147938705,
          38.805317,
          38.902,
          38.805648,
          38.80576284873485,
          38.90088,
          38.883669,
          38.884961,
          38.889365,
          38.888255,
          38.894722,
          38.90093,
          38.954812,
          38.905469714943266,
          38.863833,
          38.847129045742605,
          38.846222,
          38.949662000000004,
          38.956432,
          38.847977,
          38.860789,
          38.84736,
          38.84232,
          38.987,
          38.896553,
          38.908142,
          38.889988,
          38.912659,
          38.897274,
          38.927095,
          38.928644,
          38.84322988730829,
          38.863897,
          38.916787,
          38.852248,
          38.865029,
          38.880705,
          38.887378,
          38.894851,
          38.918155,
          38.886978,
          38.887312,
          38.927497,
          38.862478,
          38.856319,
          38.871822,
          38.985404,
          38.983838,
          39.096312,
          39.093783,
          39.084125,
          39.094772,
          38.98128,
          38.983627,
          38.99489580319022,
          38.983525,
          38.961763,
          38.921074,
          38.87501,
          38.876737,
          39.099376,
          39.083673,
          39.123513,
          38.982456,
          39.02538719623632,
          39.095661,
          38.989724,
          38.975,
          38.977933,
          38.992375,
          38.977092999999996,
          39.076331,
          39.102212,
          38.999388,
          38.997033,
          39.114688,
          39.110314,
          38.898536,
          38.908473,
          38.878433,
          38.873755,
          38.999634,
          38.899703,
          38.8378458,
          38.873219,
          38.869418,
          38.94113915653008,
          39.103091,
          39.097636,
          38.997445,
          39.085394,
          38.900358,
          38.952369,
          38.975219,
          38.920682,
          38.866471,
          38.839912,
          39.119765,
          39.084379,
          38.984691,
          38.804378,
          38.894941,
          38.869442,
          38.89824328774852,
          38.897612,
          38.801111,
          38.82175,
          38.802677,
          38.82595,
          38.820932,
          38.833077,
          38.890612,
          38.865553,
          38.96454350924588,
          38.903649,
          38.898282949523605,
          38.997653,
          38.912648,
          38.907908,
          38.898412,
          38.914751108831155,
          38.876528,
          38.86215024521491,
          38.902814,
          38.913761,
          38.86612,
          38.89967,
          38.90864,
          38.894474,
          38.896134,
          38.994113,
          39.105295,
          38.812718,
          38.80704,
          38.813485,
          38.999378,
          38.884829,
          38.958267,
          38.928893,
          38.912652,
          38.999679,
          38.979875,
          38.903658,
          38.908643,
          38.831516,
          38.893511,
          38.995681,
          38.799267,
          38.822738,
          38.90843,
          38.894972,
          38.828437,
          38.88532071975074,
          38.880992,
          38.812711,
          38.888097,
          38.798133,
          38.843422,
          38.841291,
          38.797557,
          38.818748,
          38.829545,
          38.901136451737045,
          38.91263,
          38.897407,
          38.870695,
          38.929261,
          38.92403,
          38.919475,
          38.920939,
          38.924437,
          38.931911,
          38.932636,
          38.970045999999996,
          38.962524,
          38.962095,
          38.960574,
          38.955079,
          38.957037,
          38.884916,
          38.946607921214984,
          38.959633,
          38.95534,
          38.960084,
          38.955314,
          38.951443,
          38.893860000000004,
          38.923083,
          38.812351,
          38.990874,
          38.9190185,
          38.882489,
          38.876695,
          38.915246,
          38.90293157359119,
          39.014716,
          38.98265,
          38.988101,
          39.038423828518326,
          39.044887,
          39.035965,
          39.043272,
          39.032029,
          38.970412,
          38.955170598044894,
          38.968834,
          38.93293,
          38.88345,
          39.121327,
          38.905368,
          38.924088,
          38.888282,
          38.886048,
          38.858524,
          39.12333,
          38.964207741006206,
          39.105642,
          38.8995,
          38.905424,
          38.925636,
          38.912644,
          38.892244,
          38.905303,
          39.106971,
          39.106152,
          38.84627,
          38.84377,
          38.836,
          38.824481,
          38.82373,
          38.81909,
          38.883011,
          38.89646474748647,
          38.88044,
          38.915,
          39.04313,
          38.89222,
          38.87335,
          39.062041,
          39.04753,
          39.049,
          39.049765,
          39.04317,
          39.04873,
          39.0629,
          39.06219,
          38.92245,
          38.908391,
          38.899811,
          38.969581,
          38.95548,
          38.936213,
          39.050539,
          38.86968314861632,
          38.848304,
          38.88994,
          38.855004,
          38.969489,
          38.782633,
          38.798749,
          38.876751,
          38.944707,
          38.92755,
          38.902674,
          38.876211,
          38.907444,
          38.923389,
          38.92400207520182,
          38.906299,
          38.897808,
          38.885908,
          38.835737,
          38.911268,
          38.8828,
          38.9546,
          38.974205,
          38.9725,
          38.961737,
          38.9698,
          38.895172,
          38.882746,
          38.88837,
          38.887403,
          38.880612,
          38.878085,
          38.883601,
          38.87972,
          38.885434,
          38.885621,
          38.9001,
          38.928502,
          38.932128,
          38.879355,
          38.870093,
          38.9243,
          38.9142043187298,
          38.942146,
          38.938889,
          38.955349,
          38.888524,
          38.965742,
          38.962119,
          38.968842,
          39.0473228,
          38.89595455700754,
          38.90046848783359,
          38.7859,
          38.876227445751475,
          38.85736903758752,
          38.89892546716842,
          38.899941626884754,
          39.081638,
          39.0461435,
          39.0778751,
          39.0449444,
          39.0456521,
          39.0391022,
          39.085314,
          39.0379809,
          39.04104,
          38.8974996,
          38.8693365,
          38.949008,
          38.808161,
          38.840797,
          38.802738,
          38.910993,
          38.8840581,
          38.866277,
          38.91693645323652,
          38.88548252734069,
          38.81403111409755,
          38.801947,
          38.898308,
          38.881123,
          38.864838,
          38.890863,
          38.853002,
          38.88625606692058,
          38.863743,
          38.871841,
          38.876823
         ],
         "legendgroup": "E-Bike",
         "lon": [
          -77.05323,
          -77.05332,
          -77.049232,
          -77.049593,
          -77.05949,
          -77.059936,
          -77.051514,
          -77.0502,
          -77.05152,
          -77.0429,
          -77.032096,
          -77.027822,
          -77.0322,
          -77.047637,
          -77.0388,
          -77.0178975,
          -77.034421,
          -77.032008,
          -77.0323,
          -77.045,
          -77.04644858837128,
          -77.0328,
          -76.9955,
          -76.96783974766731,
          -77.057979,
          -76.9607,
          -76.947446,
          -76.941877,
          -76.988039,
          -77.0436,
          -77.000648,
          -77.0259,
          -77.0222,
          -77.0057,
          -77.0446,
          -77.05341160297394,
          -77.0037,
          -77.0444,
          -77.005483,
          -77.0473176240921,
          -77.015289,
          -77.0023,
          -76.98790669441223,
          -77.0387,
          -77.063896,
          -77.0135,
          -76.9953,
          -76.9784,
          -76.971015,
          -77.031686,
          -76.947974,
          -77.02824175357819,
          -77.0591415,
          -76.991016,
          -77.022241,
          -77.026013,
          -77.05557,
          -76.99473559856415,
          -77.04177886247635,
          -77.019347,
          -77.03335404396057,
          -77.02227,
          -77.043358,
          -77.04245209693909,
          -77.06269,
          -77.02305436134338,
          -77.029822,
          -77.023086,
          -76.992889,
          -77.00495,
          -76.998347,
          -76.982872,
          -77.000349,
          -76.9599,
          -76.987633,
          -77.038252,
          -77.027869,
          -77.031617,
          -77.02219069004059,
          -77.038322,
          -77.04478,
          -77.016106,
          -77.0436,
          -77.071652,
          -77.00493,
          -77.009888,
          -77.027313,
          -77.070334,
          -77.032278,
          -77.050537,
          -77.04657,
          -77.026975,
          -77.049882,
          -77.070993,
          -77.0846,
          -77.079375,
          -76.952103,
          -77.046567,
          -77.0889,
          -77.09308,
          -77.094875,
          -77.041539,
          -77.001828,
          -77.022155,
          -77.0251,
          -77.012289,
          -77.04062,
          -76.93723,
          -77.056887,
          -76.983569,
          -77.1009886264801,
          -77.086502,
          -77.097745,
          -77.07857,
          -77.077271,
          -77.10783,
          -77.093485,
          -77.032427,
          -77.028694,
          -77.1207,
          -77.086063,
          -77.089006,
          -77.08095,
          -77.090792,
          -77.111768,
          -77.109366,
          -77.037413,
          -76.985238,
          -77.116817,
          -77.107854,
          -77.10108,
          -76.9941,
          -77.044789,
          -77.0284,
          -77.046564,
          -77.04337,
          -77.040363,
          -77.043363,
          -77.0446327328682,
          -77.049883,
          -77.03353,
          -77.05293,
          -77.060626745224,
          -77.048911,
          -77.113905,
          -77.08777,
          -77.077294,
          -77.0494365,
          -77.045128,
          -77.018677,
          -77.082426,
          -77.0021304488182,
          -77.080319,
          -77.1125502884388,
          -77.069275,
          -77.027333,
          -77.032947,
          -77.075104,
          -77.09586,
          -77.095431,
          -77.089555,
          -77.029417,
          -77.06714,
          -77.038359,
          -76.995193,
          -77.017669,
          -76.994749,
          -76.978924,
          -76.990955,
          -76.99937582015991,
          -76.990037,
          -77.028139,
          -77.105022,
          -77.039511,
          -77.08596,
          -77.001955,
          -77.02324,
          -77.004746,
          -77.013769,
          -77.025762,
          -76.997194,
          -77.086599,
          -77.11153,
          -77.107906,
          -77.023082,
          -77.09221,
          -77.192672,
          -77.202501,
          -77.151291,
          -77.145213,
          -77.011336,
          -77.006311,
          -77.02953189611435,
          -77.095367,
          -77.085998,
          -77.031887,
          -77.0024,
          -76.994468,
          -77.188014,
          -77.149162,
          -77.15741,
          -77.091991,
          -77.04456299543381,
          -77.159048,
          -77.023854,
          -77.01121,
          -77.006472,
          -77.100104,
          -77.094589,
          -77.141378,
          -77.177091,
          -77.031555,
          -77.025608,
          -77.171487,
          -77.182669,
          -76.931862,
          -76.933099,
          -77.03023,
          -77.089233,
          -77.109647,
          -77.008911,
          -77.0934784,
          -77.082104,
          -77.095596,
          -77.061977237463,
          -77.196442,
          -77.196636,
          -77.023894,
          -77.145803,
          -77.012108,
          -77.002721,
          -77.016855,
          -76.995876,
          -77.076131,
          -77.087083,
          -77.166093,
          -77.146866,
          -77.094537,
          -77.060866,
          -77.09169,
          -77.104503,
          -77.02623546123505,
          -77.080851,
          -77.068952,
          -77.047494,
          -77.063562,
          -77.058541,
          -77.053096,
          -77.059821,
          -77.084801,
          -77.05003,
          -77.07513481378555,
          -77.034918,
          -77.03973233699799,
          -77.034499,
          -77.041834,
          -76.99707,
          -77.043182,
          -77.00356006622314,
          -77.12712,
          -77.06812083721161,
          -77.061043,
          -77.027025,
          -77.08787,
          -77.003666,
          -77.02277,
          -76.974828,
          -76.9929,
          -77.076986,
          -77.194774,
          -77.044097,
          -77.059817,
          -77.049468,
          -77.097882,
          -77.127671,
          -77.084636,
          -77.03625,
          -77.036278,
          -77.051168,
          -77.093522,
          -77.031737,
          -77.012365,
          -77.008133,
          -77.041544,
          -77.038721,
          -77.0447,
          -77.049265,
          -77.02714,
          -77.003135,
          -77.086031,
          -77.15642720460892,
          -77.135271,
          -77.061715,
          -77.038325,
          -77.0487,
          -77.064016,
          -77.063093,
          -77.053766,
          -77.047783,
          -77.047844,
          -77.03445106744766,
          -76.971923,
          -76.925907,
          -76.982359,
          -77.240654,
          -77.235955,
          -77.221179,
          -77.222115,
          -77.217664,
          -77.219261,
          -77.231825,
          -77.338686,
          -77.361902,
          -77.358815,
          -77.356324,
          -77.351649,
          -77.359718,
          -77.005965,
          -77.3393914103508,
          -77.358741,
          -77.357611,
          -77.353414,
          -77.368416,
          -77.340377,
          -77.070862,
          -77.227417,
          -77.040691,
          -77.016311,
          -77.034449,
          -76.990121,
          -77.112982,
          -77.220157,
          -76.99840486049652,
          -77.107143,
          -76.988311,
          -76.988422,
          -77.05102041363716,
          -77.047788,
          -77.048395,
          -77.053085,
          -77.04735,
          -77.340787,
          -77.3630940914154,
          -77.016258,
          -76.979517,
          -77.021741,
          -77.164969,
          -77.065149,
          -77.040787,
          -77.111066,
          -77.142317,
          -77.103728,
          -77.16486,
          -77.35428035259247,
          -77.20386,
          -77.054155,
          -77.034674,
          -77.027112,
          -77.04564,
          -77.033234,
          -77.050264,
          -77.192645,
          -77.202354,
          -76.98185,
          -76.97557,
          -77.0009,
          -77.005497,
          -77.00223,
          -77.01033,
          -76.949709,
          -77.0333808660507,
          -77.025236,
          -77.0078,
          -77.05006,
          -76.99602,
          -76.9834,
          -77.120776,
          -77.11287,
          -77.10933,
          -77.11368,
          -77.1135,
          -77.1257,
          -77.113454,
          -77.129235,
          -77.23034,
          -76.843263,
          -76.844604,
          -76.937349,
          -76.940133,
          -76.960054,
          -77.115212,
          -77.01081544160843,
          -77.05122,
          -76.825535,
          -76.984512,
          -77.033509,
          -77.016059,
          -77.00103,
          -77.000736,
          -77.335425,
          -77.226644,
          -77.021392,
          -77.012443,
          -76.986813,
          -77.051833,
          -77.20812678337097,
          -76.983221,
          -76.979634,
          -76.991476,
          -76.983144,
          -77.041829,
          -77.2283,
          -76.9595,
          -76.995227,
          -76.9807,
          -76.995922,
          -76.9493,
          -77.190275,
          -77.170032,
          -77.179832,
          -77.176992,
          -77.171891,
          -77.153953,
          -77.173438,
          -77.178408,
          -77.173605,
          -77.166917,
          -77.1887,
          -77.215624,
          -77.0235,
          -77.230681,
          -77.22997,
          -76.9859,
          -77.0221745967865,
          -77.038684,
          -76.997226,
          -76.968084,
          -76.913188,
          -76.954803,
          -76.935578,
          -76.954171,
          -77.0510969,
          -76.9678448436025,
          -76.9472873210907,
          -77.0167,
          -76.94098126958124,
          -76.97768801437633,
          -77.04885238395946,
          -76.99489653110504,
          -76.945495,
          -76.9757228,
          -76.9418666,
          -76.9811552,
          -76.9854381,
          -76.9918237,
          -76.940547,
          -76.9945391,
          -76.987125,
          -76.9695094,
          -76.978519,
          -77.355299,
          -77.100796,
          -77.108938,
          -77.0824626,
          -76.985854,
          -76.9863852,
          -77.010551,
          -77.0296311378479,
          -76.97718724608421,
          -77.04281687736511,
          -77.040293,
          -77.046402,
          -77.017658,
          -77.056873,
          -77.074893,
          -77.059496,
          -77.08426237106323,
          -77.013814,
          -77.00591,
          -77.002161
         ],
         "marker": {
          "color": "#EF553B"
         },
         "mode": "markers",
         "name": "E-Bike",
         "showlegend": true,
         "subplot": "mapbox",
         "type": "scattermapbox"
        }
       ],
       "layout": {
        "legend": {
         "title": {
          "text": "b_type"
         },
         "tracegroupgap": 0
        },
        "mapbox": {
         "center": {
          "lat": 38.91548613282937,
          "lon": -77.05989656623642
         },
         "domain": {
          "x": [
           0,
           1
          ],
          "y": [
           0,
           1
          ]
         },
         "style": "open-street-map",
         "zoom": 10
        },
        "margin": {
         "b": 0,
         "l": 0,
         "r": 0,
         "t": 0
        },
        "template": {
         "data": {
          "bar": [
           {
            "error_x": {
             "color": "#2a3f5f"
            },
            "error_y": {
             "color": "#2a3f5f"
            },
            "marker": {
             "line": {
              "color": "#E5ECF6",
              "width": 0.5
             }
            },
            "type": "bar"
           }
          ],
          "barpolar": [
           {
            "marker": {
             "line": {
              "color": "#E5ECF6",
              "width": 0.5
             }
            },
            "type": "barpolar"
           }
          ],
          "carpet": [
           {
            "aaxis": {
             "endlinecolor": "#2a3f5f",
             "gridcolor": "white",
             "linecolor": "white",
             "minorgridcolor": "white",
             "startlinecolor": "#2a3f5f"
            },
            "baxis": {
             "endlinecolor": "#2a3f5f",
             "gridcolor": "white",
             "linecolor": "white",
             "minorgridcolor": "white",
             "startlinecolor": "#2a3f5f"
            },
            "type": "carpet"
           }
          ],
          "choropleth": [
           {
            "colorbar": {
             "outlinewidth": 0,
             "ticks": ""
            },
            "type": "choropleth"
           }
          ],
          "contour": [
           {
            "colorbar": {
             "outlinewidth": 0,
             "ticks": ""
            },
            "colorscale": [
             [
              0,
              "#0d0887"
             ],
             [
              0.1111111111111111,
              "#46039f"
             ],
             [
              0.2222222222222222,
              "#7201a8"
             ],
             [
              0.3333333333333333,
              "#9c179e"
             ],
             [
              0.4444444444444444,
              "#bd3786"
             ],
             [
              0.5555555555555556,
              "#d8576b"
             ],
             [
              0.6666666666666666,
              "#ed7953"
             ],
             [
              0.7777777777777778,
              "#fb9f3a"
             ],
             [
              0.8888888888888888,
              "#fdca26"
             ],
             [
              1,
              "#f0f921"
             ]
            ],
            "type": "contour"
           }
          ],
          "contourcarpet": [
           {
            "colorbar": {
             "outlinewidth": 0,
             "ticks": ""
            },
            "type": "contourcarpet"
           }
          ],
          "heatmap": [
           {
            "colorbar": {
             "outlinewidth": 0,
             "ticks": ""
            },
            "colorscale": [
             [
              0,
              "#0d0887"
             ],
             [
              0.1111111111111111,
              "#46039f"
             ],
             [
              0.2222222222222222,
              "#7201a8"
             ],
             [
              0.3333333333333333,
              "#9c179e"
             ],
             [
              0.4444444444444444,
              "#bd3786"
             ],
             [
              0.5555555555555556,
              "#d8576b"
             ],
             [
              0.6666666666666666,
              "#ed7953"
             ],
             [
              0.7777777777777778,
              "#fb9f3a"
             ],
             [
              0.8888888888888888,
              "#fdca26"
             ],
             [
              1,
              "#f0f921"
             ]
            ],
            "type": "heatmap"
           }
          ],
          "heatmapgl": [
           {
            "colorbar": {
             "outlinewidth": 0,
             "ticks": ""
            },
            "colorscale": [
             [
              0,
              "#0d0887"
             ],
             [
              0.1111111111111111,
              "#46039f"
             ],
             [
              0.2222222222222222,
              "#7201a8"
             ],
             [
              0.3333333333333333,
              "#9c179e"
             ],
             [
              0.4444444444444444,
              "#bd3786"
             ],
             [
              0.5555555555555556,
              "#d8576b"
             ],
             [
              0.6666666666666666,
              "#ed7953"
             ],
             [
              0.7777777777777778,
              "#fb9f3a"
             ],
             [
              0.8888888888888888,
              "#fdca26"
             ],
             [
              1,
              "#f0f921"
             ]
            ],
            "type": "heatmapgl"
           }
          ],
          "histogram": [
           {
            "marker": {
             "colorbar": {
              "outlinewidth": 0,
              "ticks": ""
             }
            },
            "type": "histogram"
           }
          ],
          "histogram2d": [
           {
            "colorbar": {
             "outlinewidth": 0,
             "ticks": ""
            },
            "colorscale": [
             [
              0,
              "#0d0887"
             ],
             [
              0.1111111111111111,
              "#46039f"
             ],
             [
              0.2222222222222222,
              "#7201a8"
             ],
             [
              0.3333333333333333,
              "#9c179e"
             ],
             [
              0.4444444444444444,
              "#bd3786"
             ],
             [
              0.5555555555555556,
              "#d8576b"
             ],
             [
              0.6666666666666666,
              "#ed7953"
             ],
             [
              0.7777777777777778,
              "#fb9f3a"
             ],
             [
              0.8888888888888888,
              "#fdca26"
             ],
             [
              1,
              "#f0f921"
             ]
            ],
            "type": "histogram2d"
           }
          ],
          "histogram2dcontour": [
           {
            "colorbar": {
             "outlinewidth": 0,
             "ticks": ""
            },
            "colorscale": [
             [
              0,
              "#0d0887"
             ],
             [
              0.1111111111111111,
              "#46039f"
             ],
             [
              0.2222222222222222,
              "#7201a8"
             ],
             [
              0.3333333333333333,
              "#9c179e"
             ],
             [
              0.4444444444444444,
              "#bd3786"
             ],
             [
              0.5555555555555556,
              "#d8576b"
             ],
             [
              0.6666666666666666,
              "#ed7953"
             ],
             [
              0.7777777777777778,
              "#fb9f3a"
             ],
             [
              0.8888888888888888,
              "#fdca26"
             ],
             [
              1,
              "#f0f921"
             ]
            ],
            "type": "histogram2dcontour"
           }
          ],
          "mesh3d": [
           {
            "colorbar": {
             "outlinewidth": 0,
             "ticks": ""
            },
            "type": "mesh3d"
           }
          ],
          "parcoords": [
           {
            "line": {
             "colorbar": {
              "outlinewidth": 0,
              "ticks": ""
             }
            },
            "type": "parcoords"
           }
          ],
          "pie": [
           {
            "automargin": true,
            "type": "pie"
           }
          ],
          "scatter": [
           {
            "marker": {
             "colorbar": {
              "outlinewidth": 0,
              "ticks": ""
             }
            },
            "type": "scatter"
           }
          ],
          "scatter3d": [
           {
            "line": {
             "colorbar": {
              "outlinewidth": 0,
              "ticks": ""
             }
            },
            "marker": {
             "colorbar": {
              "outlinewidth": 0,
              "ticks": ""
             }
            },
            "type": "scatter3d"
           }
          ],
          "scattercarpet": [
           {
            "marker": {
             "colorbar": {
              "outlinewidth": 0,
              "ticks": ""
             }
            },
            "type": "scattercarpet"
           }
          ],
          "scattergeo": [
           {
            "marker": {
             "colorbar": {
              "outlinewidth": 0,
              "ticks": ""
             }
            },
            "type": "scattergeo"
           }
          ],
          "scattergl": [
           {
            "marker": {
             "colorbar": {
              "outlinewidth": 0,
              "ticks": ""
             }
            },
            "type": "scattergl"
           }
          ],
          "scattermapbox": [
           {
            "marker": {
             "colorbar": {
              "outlinewidth": 0,
              "ticks": ""
             }
            },
            "type": "scattermapbox"
           }
          ],
          "scatterpolar": [
           {
            "marker": {
             "colorbar": {
              "outlinewidth": 0,
              "ticks": ""
             }
            },
            "type": "scatterpolar"
           }
          ],
          "scatterpolargl": [
           {
            "marker": {
             "colorbar": {
              "outlinewidth": 0,
              "ticks": ""
             }
            },
            "type": "scatterpolargl"
           }
          ],
          "scatterternary": [
           {
            "marker": {
             "colorbar": {
              "outlinewidth": 0,
              "ticks": ""
             }
            },
            "type": "scatterternary"
           }
          ],
          "surface": [
           {
            "colorbar": {
             "outlinewidth": 0,
             "ticks": ""
            },
            "colorscale": [
             [
              0,
              "#0d0887"
             ],
             [
              0.1111111111111111,
              "#46039f"
             ],
             [
              0.2222222222222222,
              "#7201a8"
             ],
             [
              0.3333333333333333,
              "#9c179e"
             ],
             [
              0.4444444444444444,
              "#bd3786"
             ],
             [
              0.5555555555555556,
              "#d8576b"
             ],
             [
              0.6666666666666666,
              "#ed7953"
             ],
             [
              0.7777777777777778,
              "#fb9f3a"
             ],
             [
              0.8888888888888888,
              "#fdca26"
             ],
             [
              1,
              "#f0f921"
             ]
            ],
            "type": "surface"
           }
          ],
          "table": [
           {
            "cells": {
             "fill": {
              "color": "#EBF0F8"
             },
             "line": {
              "color": "white"
             }
            },
            "header": {
             "fill": {
              "color": "#C8D4E3"
             },
             "line": {
              "color": "white"
             }
            },
            "type": "table"
           }
          ]
         },
         "layout": {
          "annotationdefaults": {
           "arrowcolor": "#2a3f5f",
           "arrowhead": 0,
           "arrowwidth": 1
          },
          "autotypenumbers": "strict",
          "coloraxis": {
           "colorbar": {
            "outlinewidth": 0,
            "ticks": ""
           }
          },
          "colorscale": {
           "diverging": [
            [
             0,
             "#8e0152"
            ],
            [
             0.1,
             "#c51b7d"
            ],
            [
             0.2,
             "#de77ae"
            ],
            [
             0.3,
             "#f1b6da"
            ],
            [
             0.4,
             "#fde0ef"
            ],
            [
             0.5,
             "#f7f7f7"
            ],
            [
             0.6,
             "#e6f5d0"
            ],
            [
             0.7,
             "#b8e186"
            ],
            [
             0.8,
             "#7fbc41"
            ],
            [
             0.9,
             "#4d9221"
            ],
            [
             1,
             "#276419"
            ]
           ],
           "sequential": [
            [
             0,
             "#0d0887"
            ],
            [
             0.1111111111111111,
             "#46039f"
            ],
            [
             0.2222222222222222,
             "#7201a8"
            ],
            [
             0.3333333333333333,
             "#9c179e"
            ],
            [
             0.4444444444444444,
             "#bd3786"
            ],
            [
             0.5555555555555556,
             "#d8576b"
            ],
            [
             0.6666666666666666,
             "#ed7953"
            ],
            [
             0.7777777777777778,
             "#fb9f3a"
            ],
            [
             0.8888888888888888,
             "#fdca26"
            ],
            [
             1,
             "#f0f921"
            ]
           ],
           "sequentialminus": [
            [
             0,
             "#0d0887"
            ],
            [
             0.1111111111111111,
             "#46039f"
            ],
            [
             0.2222222222222222,
             "#7201a8"
            ],
            [
             0.3333333333333333,
             "#9c179e"
            ],
            [
             0.4444444444444444,
             "#bd3786"
            ],
            [
             0.5555555555555556,
             "#d8576b"
            ],
            [
             0.6666666666666666,
             "#ed7953"
            ],
            [
             0.7777777777777778,
             "#fb9f3a"
            ],
            [
             0.8888888888888888,
             "#fdca26"
            ],
            [
             1,
             "#f0f921"
            ]
           ]
          },
          "colorway": [
           "#636efa",
           "#EF553B",
           "#00cc96",
           "#ab63fa",
           "#FFA15A",
           "#19d3f3",
           "#FF6692",
           "#B6E880",
           "#FF97FF",
           "#FECB52"
          ],
          "font": {
           "color": "#2a3f5f"
          },
          "geo": {
           "bgcolor": "white",
           "lakecolor": "white",
           "landcolor": "#E5ECF6",
           "showlakes": true,
           "showland": true,
           "subunitcolor": "white"
          },
          "hoverlabel": {
           "align": "left"
          },
          "hovermode": "closest",
          "mapbox": {
           "style": "light"
          },
          "paper_bgcolor": "white",
          "plot_bgcolor": "#E5ECF6",
          "polar": {
           "angularaxis": {
            "gridcolor": "white",
            "linecolor": "white",
            "ticks": ""
           },
           "bgcolor": "#E5ECF6",
           "radialaxis": {
            "gridcolor": "white",
            "linecolor": "white",
            "ticks": ""
           }
          },
          "scene": {
           "xaxis": {
            "backgroundcolor": "#E5ECF6",
            "gridcolor": "white",
            "gridwidth": 2,
            "linecolor": "white",
            "showbackground": true,
            "ticks": "",
            "zerolinecolor": "white"
           },
           "yaxis": {
            "backgroundcolor": "#E5ECF6",
            "gridcolor": "white",
            "gridwidth": 2,
            "linecolor": "white",
            "showbackground": true,
            "ticks": "",
            "zerolinecolor": "white"
           },
           "zaxis": {
            "backgroundcolor": "#E5ECF6",
            "gridcolor": "white",
            "gridwidth": 2,
            "linecolor": "white",
            "showbackground": true,
            "ticks": "",
            "zerolinecolor": "white"
           }
          },
          "shapedefaults": {
           "line": {
            "color": "#2a3f5f"
           }
          },
          "ternary": {
           "aaxis": {
            "gridcolor": "white",
            "linecolor": "white",
            "ticks": ""
           },
           "baxis": {
            "gridcolor": "white",
            "linecolor": "white",
            "ticks": ""
           },
           "bgcolor": "#E5ECF6",
           "caxis": {
            "gridcolor": "white",
            "linecolor": "white",
            "ticks": ""
           }
          },
          "title": {
           "x": 0.05
          },
          "xaxis": {
           "automargin": true,
           "gridcolor": "white",
           "linecolor": "white",
           "ticks": "",
           "title": {
            "standoff": 15
           },
           "zerolinecolor": "white",
           "zerolinewidth": 2
          },
          "yaxis": {
           "automargin": true,
           "gridcolor": "white",
           "linecolor": "white",
           "ticks": "",
           "title": {
            "standoff": 15
           },
           "zerolinecolor": "white",
           "zerolinewidth": 2
          }
         }
        }
       }
      }
     },
     "metadata": {}
    }
   ],
   "source": [
    "# Empty Bike + E-Bike Stations (0 bikes)\n",
    "\n",
    "fig = px.scatter_mapbox(empty_stations,\n",
    "                    lat='lat',\n",
    "                    lon='lon',\n",
    "                    hover_name=\"street\",\n",
    "                    color='b_type',\n",
    "                    zoom=10)\n",
    "\n",
    "fig.update_layout(mapbox_style=\"open-street-map\")\n",
    "#fig.update_layout(title = 'All Bike Stations')\n",
    "fig.update_layout(margin={\"r\":0,\"t\":0,\"l\":0,\"b\":0})\n",
    "fig.show()"
   ]
  },
  {
   "cell_type": "code",
   "execution_count": 45,
   "metadata": {},
   "outputs": [
    {
     "output_type": "display_data",
     "data": {
      "application/vnd.plotly.v1+json": {
       "config": {
        "plotlyServerURL": "https://plot.ly"
       },
       "data": [
        {
         "hovertemplate": "<b>%{hovertext}</b><br><br>available_bikes=0<br>lat=%{lat}<br>lon=%{lon}<extra></extra>",
         "hovertext": [
          "Crystal City Metro / 18th St & S Bell St",
          "Crystal Dr & 23rd St S",
          "16th & Harvard St NW",
          "14th St Heights / 14th & Crittenden St NW",
          "Tenleytown / Wisconsin Ave & Albemarle St NW",
          "Lincoln Park / 13th & East Capitol St NE ",
          "Wilson Blvd & N Edgewood St",
          "Thomas Circle",
          "Congress Heights Metro",
          "Virginia Square Metro / Monroe St & 9th St N",
          "39th & Veazey St NW",
          "Constitution Ave & 2nd St NW/DOL",
          "New Jersey Ave & N St NW/Dunbar HS",
          "Yuma St & Tenley Circle NW",
          "14th & Girard St NW",
          "10th St & L'Enfant Plaza SW",
          "American University East Campus",
          "19th & Savannah St SE",
          "48th Pl & MacArthur Blvd NW",
          "8th & K St NE",
          "14th & Q St NW",
          "53rd & D St SE/C.W. Harris Elementary"
         ],
         "lat": [
          38.85740496261504,
          38.8533,
          38.926088,
          38.947774,
          38.947607,
          38.890461,
          38.889,
          38.9059,
          38.844711,
          38.882788,
          38.943837,
          38.892275,
          38.90733256111448,
          38.946182,
          38.925284,
          38.88432272414662,
          38.936298,
          38.84623,
          38.9170363119413,
          38.90273216425078,
          38.910674,
          38.883318
         ],
         "legendgroup": "0",
         "lon": [
          -77.05113172531128,
          -77.0498,
          -77.036536,
          -77.032818,
          -77.079382,
          -76.988355,
          -77.0925,
          -77.0325,
          -76.987823,
          -77.103148,
          -77.077078,
          -77.013917,
          -77.01536044478416,
          -77.08059,
          -77.032375,
          -77.02601015567778,
          -77.087128,
          -76.97703,
          -77.0957824587822,
          -76.99514991079923,
          -77.03188,
          -76.925315
         ],
         "marker": {
          "color": "#636efa"
         },
         "mode": "markers",
         "name": "0",
         "showlegend": true,
         "subplot": "mapbox",
         "type": "scattermapbox"
        },
        {
         "hovertemplate": "<b>%{hovertext}</b><br><br>available_bikes=1<br>lat=%{lat}<br>lon=%{lon}<extra></extra>",
         "hovertext": [
          "Wisconsin Ave & Newark St NW",
          "Lee Hwy & N Woodstock St",
          "61st St & Banks Pl NE"
         ],
         "lat": [
          38.934881,
          38.898301,
          38.891805
         ],
         "legendgroup": "1",
         "lon": [
          -77.072755,
          -77.118009,
          -76.913563
         ],
         "marker": {
          "color": "#EF553B"
         },
         "mode": "markers",
         "name": "1",
         "showlegend": true,
         "subplot": "mapbox",
         "type": "scattermapbox"
        }
       ],
       "layout": {
        "legend": {
         "title": {
          "text": "available_bikes"
         },
         "tracegroupgap": 0
        },
        "mapbox": {
         "center": {
          "lat": 38.90262170896273,
          "lon": -77.0366374678142
         },
         "domain": {
          "x": [
           0,
           1
          ],
          "y": [
           0,
           1
          ]
         },
         "style": "open-street-map",
         "zoom": 9
        },
        "margin": {
         "b": 0,
         "l": 0,
         "r": 0,
         "t": 0
        },
        "template": {
         "data": {
          "bar": [
           {
            "error_x": {
             "color": "#2a3f5f"
            },
            "error_y": {
             "color": "#2a3f5f"
            },
            "marker": {
             "line": {
              "color": "#E5ECF6",
              "width": 0.5
             }
            },
            "type": "bar"
           }
          ],
          "barpolar": [
           {
            "marker": {
             "line": {
              "color": "#E5ECF6",
              "width": 0.5
             }
            },
            "type": "barpolar"
           }
          ],
          "carpet": [
           {
            "aaxis": {
             "endlinecolor": "#2a3f5f",
             "gridcolor": "white",
             "linecolor": "white",
             "minorgridcolor": "white",
             "startlinecolor": "#2a3f5f"
            },
            "baxis": {
             "endlinecolor": "#2a3f5f",
             "gridcolor": "white",
             "linecolor": "white",
             "minorgridcolor": "white",
             "startlinecolor": "#2a3f5f"
            },
            "type": "carpet"
           }
          ],
          "choropleth": [
           {
            "colorbar": {
             "outlinewidth": 0,
             "ticks": ""
            },
            "type": "choropleth"
           }
          ],
          "contour": [
           {
            "colorbar": {
             "outlinewidth": 0,
             "ticks": ""
            },
            "colorscale": [
             [
              0,
              "#0d0887"
             ],
             [
              0.1111111111111111,
              "#46039f"
             ],
             [
              0.2222222222222222,
              "#7201a8"
             ],
             [
              0.3333333333333333,
              "#9c179e"
             ],
             [
              0.4444444444444444,
              "#bd3786"
             ],
             [
              0.5555555555555556,
              "#d8576b"
             ],
             [
              0.6666666666666666,
              "#ed7953"
             ],
             [
              0.7777777777777778,
              "#fb9f3a"
             ],
             [
              0.8888888888888888,
              "#fdca26"
             ],
             [
              1,
              "#f0f921"
             ]
            ],
            "type": "contour"
           }
          ],
          "contourcarpet": [
           {
            "colorbar": {
             "outlinewidth": 0,
             "ticks": ""
            },
            "type": "contourcarpet"
           }
          ],
          "heatmap": [
           {
            "colorbar": {
             "outlinewidth": 0,
             "ticks": ""
            },
            "colorscale": [
             [
              0,
              "#0d0887"
             ],
             [
              0.1111111111111111,
              "#46039f"
             ],
             [
              0.2222222222222222,
              "#7201a8"
             ],
             [
              0.3333333333333333,
              "#9c179e"
             ],
             [
              0.4444444444444444,
              "#bd3786"
             ],
             [
              0.5555555555555556,
              "#d8576b"
             ],
             [
              0.6666666666666666,
              "#ed7953"
             ],
             [
              0.7777777777777778,
              "#fb9f3a"
             ],
             [
              0.8888888888888888,
              "#fdca26"
             ],
             [
              1,
              "#f0f921"
             ]
            ],
            "type": "heatmap"
           }
          ],
          "heatmapgl": [
           {
            "colorbar": {
             "outlinewidth": 0,
             "ticks": ""
            },
            "colorscale": [
             [
              0,
              "#0d0887"
             ],
             [
              0.1111111111111111,
              "#46039f"
             ],
             [
              0.2222222222222222,
              "#7201a8"
             ],
             [
              0.3333333333333333,
              "#9c179e"
             ],
             [
              0.4444444444444444,
              "#bd3786"
             ],
             [
              0.5555555555555556,
              "#d8576b"
             ],
             [
              0.6666666666666666,
              "#ed7953"
             ],
             [
              0.7777777777777778,
              "#fb9f3a"
             ],
             [
              0.8888888888888888,
              "#fdca26"
             ],
             [
              1,
              "#f0f921"
             ]
            ],
            "type": "heatmapgl"
           }
          ],
          "histogram": [
           {
            "marker": {
             "colorbar": {
              "outlinewidth": 0,
              "ticks": ""
             }
            },
            "type": "histogram"
           }
          ],
          "histogram2d": [
           {
            "colorbar": {
             "outlinewidth": 0,
             "ticks": ""
            },
            "colorscale": [
             [
              0,
              "#0d0887"
             ],
             [
              0.1111111111111111,
              "#46039f"
             ],
             [
              0.2222222222222222,
              "#7201a8"
             ],
             [
              0.3333333333333333,
              "#9c179e"
             ],
             [
              0.4444444444444444,
              "#bd3786"
             ],
             [
              0.5555555555555556,
              "#d8576b"
             ],
             [
              0.6666666666666666,
              "#ed7953"
             ],
             [
              0.7777777777777778,
              "#fb9f3a"
             ],
             [
              0.8888888888888888,
              "#fdca26"
             ],
             [
              1,
              "#f0f921"
             ]
            ],
            "type": "histogram2d"
           }
          ],
          "histogram2dcontour": [
           {
            "colorbar": {
             "outlinewidth": 0,
             "ticks": ""
            },
            "colorscale": [
             [
              0,
              "#0d0887"
             ],
             [
              0.1111111111111111,
              "#46039f"
             ],
             [
              0.2222222222222222,
              "#7201a8"
             ],
             [
              0.3333333333333333,
              "#9c179e"
             ],
             [
              0.4444444444444444,
              "#bd3786"
             ],
             [
              0.5555555555555556,
              "#d8576b"
             ],
             [
              0.6666666666666666,
              "#ed7953"
             ],
             [
              0.7777777777777778,
              "#fb9f3a"
             ],
             [
              0.8888888888888888,
              "#fdca26"
             ],
             [
              1,
              "#f0f921"
             ]
            ],
            "type": "histogram2dcontour"
           }
          ],
          "mesh3d": [
           {
            "colorbar": {
             "outlinewidth": 0,
             "ticks": ""
            },
            "type": "mesh3d"
           }
          ],
          "parcoords": [
           {
            "line": {
             "colorbar": {
              "outlinewidth": 0,
              "ticks": ""
             }
            },
            "type": "parcoords"
           }
          ],
          "pie": [
           {
            "automargin": true,
            "type": "pie"
           }
          ],
          "scatter": [
           {
            "marker": {
             "colorbar": {
              "outlinewidth": 0,
              "ticks": ""
             }
            },
            "type": "scatter"
           }
          ],
          "scatter3d": [
           {
            "line": {
             "colorbar": {
              "outlinewidth": 0,
              "ticks": ""
             }
            },
            "marker": {
             "colorbar": {
              "outlinewidth": 0,
              "ticks": ""
             }
            },
            "type": "scatter3d"
           }
          ],
          "scattercarpet": [
           {
            "marker": {
             "colorbar": {
              "outlinewidth": 0,
              "ticks": ""
             }
            },
            "type": "scattercarpet"
           }
          ],
          "scattergeo": [
           {
            "marker": {
             "colorbar": {
              "outlinewidth": 0,
              "ticks": ""
             }
            },
            "type": "scattergeo"
           }
          ],
          "scattergl": [
           {
            "marker": {
             "colorbar": {
              "outlinewidth": 0,
              "ticks": ""
             }
            },
            "type": "scattergl"
           }
          ],
          "scattermapbox": [
           {
            "marker": {
             "colorbar": {
              "outlinewidth": 0,
              "ticks": ""
             }
            },
            "type": "scattermapbox"
           }
          ],
          "scatterpolar": [
           {
            "marker": {
             "colorbar": {
              "outlinewidth": 0,
              "ticks": ""
             }
            },
            "type": "scatterpolar"
           }
          ],
          "scatterpolargl": [
           {
            "marker": {
             "colorbar": {
              "outlinewidth": 0,
              "ticks": ""
             }
            },
            "type": "scatterpolargl"
           }
          ],
          "scatterternary": [
           {
            "marker": {
             "colorbar": {
              "outlinewidth": 0,
              "ticks": ""
             }
            },
            "type": "scatterternary"
           }
          ],
          "surface": [
           {
            "colorbar": {
             "outlinewidth": 0,
             "ticks": ""
            },
            "colorscale": [
             [
              0,
              "#0d0887"
             ],
             [
              0.1111111111111111,
              "#46039f"
             ],
             [
              0.2222222222222222,
              "#7201a8"
             ],
             [
              0.3333333333333333,
              "#9c179e"
             ],
             [
              0.4444444444444444,
              "#bd3786"
             ],
             [
              0.5555555555555556,
              "#d8576b"
             ],
             [
              0.6666666666666666,
              "#ed7953"
             ],
             [
              0.7777777777777778,
              "#fb9f3a"
             ],
             [
              0.8888888888888888,
              "#fdca26"
             ],
             [
              1,
              "#f0f921"
             ]
            ],
            "type": "surface"
           }
          ],
          "table": [
           {
            "cells": {
             "fill": {
              "color": "#EBF0F8"
             },
             "line": {
              "color": "white"
             }
            },
            "header": {
             "fill": {
              "color": "#C8D4E3"
             },
             "line": {
              "color": "white"
             }
            },
            "type": "table"
           }
          ]
         },
         "layout": {
          "annotationdefaults": {
           "arrowcolor": "#2a3f5f",
           "arrowhead": 0,
           "arrowwidth": 1
          },
          "autotypenumbers": "strict",
          "coloraxis": {
           "colorbar": {
            "outlinewidth": 0,
            "ticks": ""
           }
          },
          "colorscale": {
           "diverging": [
            [
             0,
             "#8e0152"
            ],
            [
             0.1,
             "#c51b7d"
            ],
            [
             0.2,
             "#de77ae"
            ],
            [
             0.3,
             "#f1b6da"
            ],
            [
             0.4,
             "#fde0ef"
            ],
            [
             0.5,
             "#f7f7f7"
            ],
            [
             0.6,
             "#e6f5d0"
            ],
            [
             0.7,
             "#b8e186"
            ],
            [
             0.8,
             "#7fbc41"
            ],
            [
             0.9,
             "#4d9221"
            ],
            [
             1,
             "#276419"
            ]
           ],
           "sequential": [
            [
             0,
             "#0d0887"
            ],
            [
             0.1111111111111111,
             "#46039f"
            ],
            [
             0.2222222222222222,
             "#7201a8"
            ],
            [
             0.3333333333333333,
             "#9c179e"
            ],
            [
             0.4444444444444444,
             "#bd3786"
            ],
            [
             0.5555555555555556,
             "#d8576b"
            ],
            [
             0.6666666666666666,
             "#ed7953"
            ],
            [
             0.7777777777777778,
             "#fb9f3a"
            ],
            [
             0.8888888888888888,
             "#fdca26"
            ],
            [
             1,
             "#f0f921"
            ]
           ],
           "sequentialminus": [
            [
             0,
             "#0d0887"
            ],
            [
             0.1111111111111111,
             "#46039f"
            ],
            [
             0.2222222222222222,
             "#7201a8"
            ],
            [
             0.3333333333333333,
             "#9c179e"
            ],
            [
             0.4444444444444444,
             "#bd3786"
            ],
            [
             0.5555555555555556,
             "#d8576b"
            ],
            [
             0.6666666666666666,
             "#ed7953"
            ],
            [
             0.7777777777777778,
             "#fb9f3a"
            ],
            [
             0.8888888888888888,
             "#fdca26"
            ],
            [
             1,
             "#f0f921"
            ]
           ]
          },
          "colorway": [
           "#636efa",
           "#EF553B",
           "#00cc96",
           "#ab63fa",
           "#FFA15A",
           "#19d3f3",
           "#FF6692",
           "#B6E880",
           "#FF97FF",
           "#FECB52"
          ],
          "font": {
           "color": "#2a3f5f"
          },
          "geo": {
           "bgcolor": "white",
           "lakecolor": "white",
           "landcolor": "#E5ECF6",
           "showlakes": true,
           "showland": true,
           "subunitcolor": "white"
          },
          "hoverlabel": {
           "align": "left"
          },
          "hovermode": "closest",
          "mapbox": {
           "style": "light"
          },
          "paper_bgcolor": "white",
          "plot_bgcolor": "#E5ECF6",
          "polar": {
           "angularaxis": {
            "gridcolor": "white",
            "linecolor": "white",
            "ticks": ""
           },
           "bgcolor": "#E5ECF6",
           "radialaxis": {
            "gridcolor": "white",
            "linecolor": "white",
            "ticks": ""
           }
          },
          "scene": {
           "xaxis": {
            "backgroundcolor": "#E5ECF6",
            "gridcolor": "white",
            "gridwidth": 2,
            "linecolor": "white",
            "showbackground": true,
            "ticks": "",
            "zerolinecolor": "white"
           },
           "yaxis": {
            "backgroundcolor": "#E5ECF6",
            "gridcolor": "white",
            "gridwidth": 2,
            "linecolor": "white",
            "showbackground": true,
            "ticks": "",
            "zerolinecolor": "white"
           },
           "zaxis": {
            "backgroundcolor": "#E5ECF6",
            "gridcolor": "white",
            "gridwidth": 2,
            "linecolor": "white",
            "showbackground": true,
            "ticks": "",
            "zerolinecolor": "white"
           }
          },
          "shapedefaults": {
           "line": {
            "color": "#2a3f5f"
           }
          },
          "ternary": {
           "aaxis": {
            "gridcolor": "white",
            "linecolor": "white",
            "ticks": ""
           },
           "baxis": {
            "gridcolor": "white",
            "linecolor": "white",
            "ticks": ""
           },
           "bgcolor": "#E5ECF6",
           "caxis": {
            "gridcolor": "white",
            "linecolor": "white",
            "ticks": ""
           }
          },
          "title": {
           "x": 0.05
          },
          "xaxis": {
           "automargin": true,
           "gridcolor": "white",
           "linecolor": "white",
           "ticks": "",
           "title": {
            "standoff": 15
           },
           "zerolinecolor": "white",
           "zerolinewidth": 2
          },
          "yaxis": {
           "automargin": true,
           "gridcolor": "white",
           "linecolor": "white",
           "ticks": "",
           "title": {
            "standoff": 15
           },
           "zerolinecolor": "white",
           "zerolinewidth": 2
          }
         }
        }
       }
      }
     },
     "metadata": {}
    }
   ],
   "source": [
    "# Stations with 1 or 0 bikes\n",
    "\n",
    "bike_empty_stat['available_bikes'] = '0'\n",
    "only_one_bike_stat['available_bikes'] = '1'\n",
    "\n",
    "bike_alert = bike_empty_stat.copy()\n",
    "bike_alert = bike_alert.append(only_one_bike_stat)\n",
    "\n",
    "fig = px.scatter_mapbox(bike_alert,\n",
    "                    lat='lat',\n",
    "                    lon='lon',\n",
    "                    hover_name=\"street\",\n",
    "                    color='available_bikes',\n",
    "                    zoom=9)\n",
    "\n",
    "fig.update_layout(mapbox_style=\"open-street-map\")\n",
    "#fig.update_layout(title = 'Stations with 1 or 0 Bike/s')\n",
    "fig.update_layout(margin={\"r\":0,\"t\":0,\"l\":0,\"b\":0})\n",
    "fig.show()"
   ]
  },
  {
   "cell_type": "code",
   "execution_count": null,
   "metadata": {},
   "outputs": [],
   "source": []
  }
 ]
}