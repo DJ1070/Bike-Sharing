{
 "metadata": {
  "language_info": {
   "codemirror_mode": {
    "name": "ipython",
    "version": 3
   },
   "file_extension": ".py",
   "mimetype": "text/x-python",
   "name": "python",
   "nbconvert_exporter": "python",
   "pygments_lexer": "ipython3",
   "version": "3.8.5-final"
  },
  "orig_nbformat": 2,
  "kernelspec": {
   "name": "python385jvsc74a57bd0b3ba2566441a7c06988d0923437866b63cedc61552a5af99d1f4fb67d367b25f",
   "display_name": "Python 3.8.5 64-bit (conda)"
  }
 },
 "nbformat": 4,
 "nbformat_minor": 2,
 "cells": [
  {
   "cell_type": "code",
   "execution_count": 1,
   "metadata": {},
   "outputs": [],
   "source": [
    "# This file uses real-time data in JSON format from Capital Bikeshare \n",
    "# to visualize the immediate bike demand of all stations in and around \n",
    "# Washington D.C. using maps.\n",
    "# Therefore 2 different JSON files are combined.\n",
    "\n",
    "import pandas as pd\n",
    "import numpy as np\n",
    "import plotly.express as px\n",
    "import plotly.graph_objects as go"
   ]
  },
  {
   "cell_type": "code",
   "execution_count": 2,
   "metadata": {},
   "outputs": [
    {
     "output_type": "stream",
     "name": "stdout",
     "text": [
      "Length of d_station_information.data:  627 \nLength of d.data:  627\n"
     ]
    }
   ],
   "source": [
    "d_station_information = pd.read_json('https://gbfs.capitalbikeshare.com/gbfs/en/station_information.json')\n",
    "d = pd.read_json('https://gbfs.capitalbikeshare.com/gbfs/en/station_status.json')\n",
    "\n",
    "print('Length of d_station_information.data: ', len(d_station_information.data['stations']), '\\nLength of d.data: ', len(d.data[0]))"
   ]
  },
  {
   "cell_type": "code",
   "execution_count": 3,
   "metadata": {},
   "outputs": [
    {
     "output_type": "execute_result",
     "data": {
      "text/plain": [
       "{'num_bikes_disabled': 0,\n",
       " 'is_renting': 1,\n",
       " 'is_returning': 1,\n",
       " 'is_installed': 1,\n",
       " 'num_bikes_available': 7,\n",
       " 'eightd_has_available_keys': False,\n",
       " 'num_ebikes_available': 0,\n",
       " 'legacy_id': '1',\n",
       " 'station_status': 'active',\n",
       " 'num_docks_disabled': 0,\n",
       " 'station_id': '1',\n",
       " 'num_docks_available': 8,\n",
       " 'last_reported': 1617795432}"
      ]
     },
     "metadata": {},
     "execution_count": 3
    }
   ],
   "source": [
    "d.data[0][0]"
   ]
  },
  {
   "cell_type": "code",
   "execution_count": 4,
   "metadata": {},
   "outputs": [
    {
     "output_type": "stream",
     "name": "stdout",
     "text": [
      "Available Bikes:  4607\nAvailable E-Bikes:  214\n"
     ]
    }
   ],
   "source": [
    "# Getting real time data about currently available (e-)bikes\n",
    "\n",
    "av_bikes = []\n",
    "av_e_bikes = []\n",
    "for i in range(len(d.data[0])):\n",
    "    av_bikes.append(d.data[0][i]['num_bikes_available'])\n",
    "    av_e_bikes.append(d.data[0][i]['num_ebikes_available'])\n",
    "print('Available Bikes: ', pd.Series(av_bikes).sum())\n",
    "print('Available E-Bikes: ', pd.Series(av_e_bikes).sum())"
   ]
  },
  {
   "cell_type": "code",
   "execution_count": 5,
   "metadata": {},
   "outputs": [],
   "source": [
    "#d.data['stations'][0]['num_bikes_available']"
   ]
  },
  {
   "cell_type": "code",
   "execution_count": 6,
   "metadata": {},
   "outputs": [
    {
     "output_type": "stream",
     "name": "stdout",
     "text": [
      "Active Stations:  626\n"
     ]
    }
   ],
   "source": [
    "# Check: how many stations are active?\n",
    "\n",
    "active_station = []\n",
    "for i in range(len(d.data[0])):\n",
    "    active_station.append(d.data[0][i]['is_renting'])\n",
    "print('Active Stations: ', pd.Series(active_station).sum())"
   ]
  },
  {
   "cell_type": "code",
   "execution_count": 7,
   "metadata": {},
   "outputs": [
    {
     "output_type": "stream",
     "name": "stdout",
     "text": [
      "Stations with 0 bikes available:  48\nStations with 0 e-bikes available:  479\n"
     ]
    }
   ],
   "source": [
    "# Number of stations without (e-) bikes\n",
    "\n",
    "print('Stations with 0 bikes available: ',av_bikes.count(0))\n",
    "print('Stations with 0 e-bikes available: ',av_e_bikes.count(0))"
   ]
  },
  {
   "cell_type": "code",
   "execution_count": 8,
   "metadata": {},
   "outputs": [
    {
     "output_type": "stream",
     "name": "stdout",
     "text": [
      "Available Bikes in Active Stations:  4607\nAvailable E-Bikes in Active Stations:  214\nActive Stations:  626\nInactive Station IDs:  ['174']\n"
     ]
    }
   ],
   "source": [
    "# Evaluation: How many bikes and e-bikes are available at ACTIVE stations?\n",
    "# (We learn that the given data for all available (e-)bikes always equals the available (e-)bikes at active stations.)\n",
    "\n",
    "bikes_active_stations = []\n",
    "e_bikes_active_stations = []\n",
    "stat = []\n",
    "inactive_station_id = []\n",
    "for i in range(len(d.data[0])):\n",
    "    if d.data[0][i]['is_renting'] == 1:\n",
    "        bikes_active_stations.append(d.data[0][i]['num_bikes_available'])\n",
    "        e_bikes_active_stations.append(d.data[0][i]['num_ebikes_available'])\n",
    "        stat.append(d.data[0][i]['is_renting'])\n",
    "    else:\n",
    "        inactive_station_id.append(d.data[0][i]['station_id'])\n",
    "print('Available Bikes in Active Stations: ', pd.Series(av_bikes).sum())\n",
    "print('Available E-Bikes in Active Stations: ', pd.Series(av_e_bikes).sum())\n",
    "print('Active Stations: ', pd.Series(stat).count())\n",
    "print('Inactive Station IDs: ', inactive_station_id)"
   ]
  },
  {
   "cell_type": "code",
   "execution_count": 9,
   "metadata": {},
   "outputs": [
    {
     "output_type": "stream",
     "name": "stdout",
     "text": [
      "Number of active stations without available bikes:  48\nNumber of active stations without available e-bikes:  478\n"
     ]
    }
   ],
   "source": [
    "print('Number of active stations without available bikes: ', bikes_active_stations.count(0))\n",
    "print('Number of active stations without available e-bikes: ', e_bikes_active_stations.count(0))"
   ]
  },
  {
   "cell_type": "code",
   "execution_count": 10,
   "metadata": {},
   "outputs": [
    {
     "output_type": "stream",
     "name": "stdout",
     "text": [
      "Stations numbers without bikes:  ['20', '29', '34', '56', '63', '80', '84', '151', '156', '160', '166', '170', '176', '177', '180', '201', '208', '214', '237', '244', '245', '250', '282', '285', '290', '296', '302', '376', '379', '381', '420', '456', '479', '493', '496', '507', '509', '531', '532', '533', '555', '602', '606', '618', '622', '634', '647', '659']\nStations numbers without e-bikes:  ['1', '2', '3', '4', '5', '7', '8', '10', '11', '12', '13', '14', '15', '16', '17', '19', '22', '23', '24', '25', '26', '27', '28', '30', '31', '32', '33', '35', '37', '38', '39', '41', '43', '44', '45', '46', '47', '48', '49', '51', '52', '53', '55', '58', '59', '60', '61', '62', '68', '69', '70', '71', '72', '73', '75', '76', '78', '79', '82', '83', '85', '86', '88', '91', '93', '94', '95', '96', '97', '98', '100', '101', '102', '104', '105', '107', '108', '109', '110', '112', '113', '114', '115', '117', '125', '126', '128', '129', '130', '131', '132', '133', '134', '136', '137', '138', '140', '141', '142', '143', '144', '145', '146', '147', '150', '152', '154', '155', '158', '159', '162', '164', '167', '168', '172', '173', '174', '175', '178', '179', '181', '182', '183', '185', '186', '187', '188', '189', '191', '192', '193', '194', '195', '196', '197', '200', '202', '203', '204', '206', '209', '210', '211', '215', '216', '217', '218', '219', '220', '221', '222', '223', '224', '230', '231', '232', '235', '236', '240', '242', '243', '247', '248', '249', '253', '254', '256', '259', '260', '261', '263', '264', '266', '267', '268', '269', '272', '273', '277', '278', '279', '280', '283', '284', '286', '287', '289', '293', '294', '295', '298', '301', '303', '305', '306', '307', '310', '311', '312', '314', '315', '316', '318', '320', '321', '322', '323', '324', '325', '327', '329', '331', '332', '333', '334', '336', '338', '339', '340', '341', '342', '343', '344', '346', '347', '349', '350', '351', '352', '355', '356', '357', '358', '359', '368', '369', '370', '374', '378', '380', '382', '384', '385', '390', '391', '392', '393', '395', '396', '397', '399', '400', '401', '402', '403', '404', '407', '408', '410', '411', '412', '413', '414', '415', '416', '417', '418', '419', '421', '422', '423', '424', '425', '427', '428', '429', '430', '431', '433', '434', '435', '436', '437', '438', '440', '441', '442', '443', '444', '445', '446', '447', '450', '452', '454', '455', '457', '458', '460', '461', '462', '463', '464', '466', '467', '468', '471', '472', '474', '475', '477', '478', '480', '481', '482', '483', '484', '485', '487', '488', '490', '491', '492', '495', '497', '498', '499', '500', '501', '505', '506', '508', '510', '511', '512', '513', '514', '516', '517', '518', '520', '521', '523', '525', '526', '527', '530', '534', '535', '536', '538', '539', '540', '541', '542', '543', '544', '546', '548', '549', '552', '554', '556', '560', '561', '562', '564', '566', '567', '569', '571', '572', '573', '574', '575', '576', '577', '579', '581', '582', '583', '584', '585', '586', '588', '589', '590', '592', '593', '594', '596', '597', '598', '601', '603', '604', '605', '607', '609', '610', '612', '613', '614', '615', '616', '617', '619', '620', '621', '624', '625', '626', '628', '629', '630', '633', '636', '637', '638', '643', '645', '646', '648', '650', '651', '654', '657', '662', '663', '664', '665']\nStations numbers with only 1 bike left:  ['18', '42', '64', '65', '118', '135', '228', '233', '239', '632', '640', '656', '667']\nStations numbers with only 1 e-bike left:  ['21', '36', '40', '54', '57', '66', '74', '77', '81', '89', '90', '92', '103', '106', '124', '127', '148', '161', '165', '169', '171', '190', '198', '199', '207', '213', '225', '227', '229', '234', '241', '252', '255', '262', '265', '274', '275', '288', '308', '309', '313', '317', '345', '348', '353', '354', '365', '367', '373', '375', '377', '383', '386', '387', '394', '398', '405', '406', '432', '448', '449', '451', '469', '470', '473', '476', '486', '494', '515', '519', '522', '524', '545', '550', '551', '553', '563', '565', '568', '570', '578', '580', '587', '591', '595', '608', '611', '623', '639', '641', '649', '652', '653', '655']\n"
     ]
    }
   ],
   "source": [
    "# Which are the stations with 0 or only 1 available (e-)bike/s?\n",
    "\n",
    "bike_empty_stat_id = []\n",
    "e_bike_empty_stat_id = []\n",
    "only_one_bike_stat_id = []\n",
    "only_one_e_bike_stat_id = []\n",
    "for i in range(len(d.data[0])):\n",
    "    if d.data[0][i]['num_bikes_available'] == 0:\n",
    "        bike_empty_stat_id.append(d.data[0][i]['station_id'])\n",
    "    elif d.data[0][i]['num_ebikes_available'] == 0:\n",
    "        e_bike_empty_stat_id.append(d.data[0][i]['station_id'])\n",
    "    elif d.data[0][i]['num_bikes_available'] == 1:\n",
    "         only_one_bike_stat_id.append(d.data[0][i]['station_id'])\n",
    "    elif d.data[0][i]['num_ebikes_available'] == 1:\n",
    "         only_one_e_bike_stat_id.append(d.data[0][i]['station_id'])\n",
    "\n",
    "print('Stations numbers without bikes: ', bike_empty_stat_id)\n",
    "print('Stations numbers without e-bikes: ', e_bike_empty_stat_id)\n",
    "print('Stations numbers with only 1 bike left: ', only_one_bike_stat_id)\n",
    "print('Stations numbers with only 1 e-bike left: ', only_one_e_bike_stat_id)"
   ]
  },
  {
   "cell_type": "code",
   "execution_count": 11,
   "metadata": {},
   "outputs": [
    {
     "output_type": "execute_result",
     "data": {
      "text/plain": [
       "<AxesSubplot:>"
      ]
     },
     "metadata": {},
     "execution_count": 11
    },
    {
     "output_type": "display_data",
     "data": {
      "text/plain": "<Figure size 432x288 with 1 Axes>",
      "image/svg+xml": "<?xml version=\"1.0\" encoding=\"utf-8\" standalone=\"no\"?>\r\n<!DOCTYPE svg PUBLIC \"-//W3C//DTD SVG 1.1//EN\"\r\n  \"http://www.w3.org/Graphics/SVG/1.1/DTD/svg11.dtd\">\r\n<!-- Created with matplotlib (https://matplotlib.org/) -->\r\n<svg height=\"252.143947pt\" version=\"1.1\" viewBox=\"0 0 375.2875 252.143947\" width=\"375.2875pt\" xmlns=\"http://www.w3.org/2000/svg\" xmlns:xlink=\"http://www.w3.org/1999/xlink\">\r\n <metadata>\r\n  <rdf:RDF xmlns:cc=\"http://creativecommons.org/ns#\" xmlns:dc=\"http://purl.org/dc/elements/1.1/\" xmlns:rdf=\"http://www.w3.org/1999/02/22-rdf-syntax-ns#\">\r\n   <cc:Work>\r\n    <dc:type rdf:resource=\"http://purl.org/dc/dcmitype/StillImage\"/>\r\n    <dc:date>2021-04-07T19:45:29.366701</dc:date>\r\n    <dc:format>image/svg+xml</dc:format>\r\n    <dc:creator>\r\n     <cc:Agent>\r\n      <dc:title>Matplotlib v3.3.2, https://matplotlib.org/</dc:title>\r\n     </cc:Agent>\r\n    </dc:creator>\r\n   </cc:Work>\r\n  </rdf:RDF>\r\n </metadata>\r\n <defs>\r\n  <style type=\"text/css\">*{stroke-linecap:butt;stroke-linejoin:round;}</style>\r\n </defs>\r\n <g id=\"figure_1\">\r\n  <g id=\"patch_1\">\r\n   <path d=\"M 0 252.143947 \r\nL 375.2875 252.143947 \r\nL 375.2875 0 \r\nL 0 0 \r\nz\r\n\" style=\"fill:none;\"/>\r\n  </g>\r\n  <g id=\"axes_1\">\r\n   <g id=\"patch_2\">\r\n    <path d=\"M 33.2875 228.265822 \r\nL 368.0875 228.265822 \r\nL 368.0875 10.825822 \r\nL 33.2875 10.825822 \r\nz\r\n\" style=\"fill:#ffffff;\"/>\r\n   </g>\r\n   <g id=\"patch_3\">\r\n    <path clip-path=\"url(#p5a8e9111bc)\" d=\"M 33.2875 228.179123 \r\nL 97.058929 228.179123 \r\nL 97.058929 228.005726 \r\nL 33.2875 228.005726 \r\nz\r\n\" style=\"fill:#1f77b4;\"/>\r\n   </g>\r\n   <g id=\"patch_4\">\r\n    <path clip-path=\"url(#p5a8e9111bc)\" d=\"M 33.2875 227.832329 \r\nL 87.948724 227.832329 \r\nL 87.948724 227.658932 \r\nL 33.2875 227.658932 \r\nz\r\n\" style=\"fill:#1f77b4;\"/>\r\n   </g>\r\n   <g id=\"patch_5\">\r\n    <path clip-path=\"url(#p5a8e9111bc)\" d=\"M 33.2875 227.485535 \r\nL 133.499745 227.485535 \r\nL 133.499745 227.312137 \r\nL 33.2875 227.312137 \r\nz\r\n\" style=\"fill:#1f77b4;\"/>\r\n   </g>\r\n   <g id=\"patch_6\">\r\n    <path clip-path=\"url(#p5a8e9111bc)\" d=\"M 33.2875 227.13874 \r\nL 151.720153 227.13874 \r\nL 151.720153 226.965343 \r\nL 33.2875 226.965343 \r\nz\r\n\" style=\"fill:#1f77b4;\"/>\r\n   </g>\r\n   <g id=\"patch_7\">\r\n    <path clip-path=\"url(#p5a8e9111bc)\" d=\"M 33.2875 226.791946 \r\nL 69.728316 226.791946 \r\nL 69.728316 226.618549 \r\nL 33.2875 226.618549 \r\nz\r\n\" style=\"fill:#1f77b4;\"/>\r\n   </g>\r\n   <g id=\"patch_8\">\r\n    <path clip-path=\"url(#p5a8e9111bc)\" d=\"M 33.2875 226.445152 \r\nL 179.050765 226.445152 \r\nL 179.050765 226.271755 \r\nL 33.2875 226.271755 \r\nz\r\n\" style=\"fill:#1f77b4;\"/>\r\n   </g>\r\n   <g id=\"patch_9\">\r\n    <path clip-path=\"url(#p5a8e9111bc)\" d=\"M 33.2875 226.098358 \r\nL 151.720153 226.098358 \r\nL 151.720153 225.92496 \r\nL 33.2875 225.92496 \r\nz\r\n\" style=\"fill:#1f77b4;\"/>\r\n   </g>\r\n   <g id=\"patch_10\">\r\n    <path clip-path=\"url(#p5a8e9111bc)\" d=\"M 33.2875 225.751563 \r\nL 42.397704 225.751563 \r\nL 42.397704 225.578166 \r\nL 33.2875 225.578166 \r\nz\r\n\" style=\"fill:#1f77b4;\"/>\r\n   </g>\r\n   <g id=\"patch_11\">\r\n    <path clip-path=\"url(#p5a8e9111bc)\" d=\"M 33.2875 225.404769 \r\nL 106.169133 225.404769 \r\nL 106.169133 225.231372 \r\nL 33.2875 225.231372 \r\nz\r\n\" style=\"fill:#1f77b4;\"/>\r\n   </g>\r\n   <g id=\"patch_12\">\r\n    <path clip-path=\"url(#p5a8e9111bc)\" d=\"M 33.2875 225.057975 \r\nL 42.397704 225.057975 \r\nL 42.397704 224.884578 \r\nL 33.2875 224.884578 \r\nz\r\n\" style=\"fill:#1f77b4;\"/>\r\n   </g>\r\n   <g id=\"patch_13\">\r\n    <path clip-path=\"url(#p5a8e9111bc)\" d=\"M 33.2875 224.71118 \r\nL 115.279337 224.71118 \r\nL 115.279337 224.537783 \r\nL 33.2875 224.537783 \r\nz\r\n\" style=\"fill:#1f77b4;\"/>\r\n   </g>\r\n   <g id=\"patch_14\">\r\n    <path clip-path=\"url(#p5a8e9111bc)\" d=\"M 33.2875 224.364386 \r\nL 78.83852 224.364386 \r\nL 78.83852 224.190989 \r\nL 33.2875 224.190989 \r\nz\r\n\" style=\"fill:#1f77b4;\"/>\r\n   </g>\r\n   <g id=\"patch_15\">\r\n    <path clip-path=\"url(#p5a8e9111bc)\" d=\"M 33.2875 224.017592 \r\nL 160.830357 224.017592 \r\nL 160.830357 223.844195 \r\nL 33.2875 223.844195 \r\nz\r\n\" style=\"fill:#1f77b4;\"/>\r\n   </g>\r\n   <g id=\"patch_16\">\r\n    <path clip-path=\"url(#p5a8e9111bc)\" d=\"M 33.2875 223.670798 \r\nL 197.271173 223.670798 \r\nL 197.271173 223.497401 \r\nL 33.2875 223.497401 \r\nz\r\n\" style=\"fill:#1f77b4;\"/>\r\n   </g>\r\n   <g id=\"patch_17\">\r\n    <path clip-path=\"url(#p5a8e9111bc)\" d=\"M 33.2875 223.324003 \r\nL 106.169133 223.324003 \r\nL 106.169133 223.150606 \r\nL 33.2875 223.150606 \r\nz\r\n\" style=\"fill:#1f77b4;\"/>\r\n   </g>\r\n   <g id=\"patch_18\">\r\n    <path clip-path=\"url(#p5a8e9111bc)\" d=\"M 33.2875 222.977209 \r\nL 42.397704 222.977209 \r\nL 42.397704 222.803812 \r\nL 33.2875 222.803812 \r\nz\r\n\" style=\"fill:#1f77b4;\"/>\r\n   </g>\r\n   <g id=\"patch_19\">\r\n    <path clip-path=\"url(#p5a8e9111bc)\" d=\"M 33.2875 222.630415 \r\nL 42.397704 222.630415 \r\nL 42.397704 222.457018 \r\nL 33.2875 222.457018 \r\nz\r\n\" style=\"fill:#1f77b4;\"/>\r\n   </g>\r\n   <g id=\"patch_20\">\r\n    <path clip-path=\"url(#p5a8e9111bc)\" d=\"M 33.2875 222.283621 \r\nL 42.397704 222.283621 \r\nL 42.397704 222.110224 \r\nL 33.2875 222.110224 \r\nz\r\n\" style=\"fill:#1f77b4;\"/>\r\n   </g>\r\n   <g id=\"patch_21\">\r\n    <path clip-path=\"url(#p5a8e9111bc)\" d=\"M 33.2875 221.936826 \r\nL 33.2875 221.936826 \r\nL 33.2875 221.763429 \r\nL 33.2875 221.763429 \r\nz\r\n\" style=\"fill:#1f77b4;\"/>\r\n   </g>\r\n   <g id=\"patch_22\">\r\n    <path clip-path=\"url(#p5a8e9111bc)\" d=\"M 33.2875 221.590032 \r\nL 142.609949 221.590032 \r\nL 142.609949 221.416635 \r\nL 33.2875 221.416635 \r\nz\r\n\" style=\"fill:#1f77b4;\"/>\r\n   </g>\r\n   <g id=\"patch_23\">\r\n    <path clip-path=\"url(#p5a8e9111bc)\" d=\"M 33.2875 221.243238 \r\nL 169.940561 221.243238 \r\nL 169.940561 221.069841 \r\nL 33.2875 221.069841 \r\nz\r\n\" style=\"fill:#1f77b4;\"/>\r\n   </g>\r\n   <g id=\"patch_24\">\r\n    <path clip-path=\"url(#p5a8e9111bc)\" d=\"M 33.2875 220.896444 \r\nL 151.720153 220.896444 \r\nL 151.720153 220.723047 \r\nL 33.2875 220.723047 \r\nz\r\n\" style=\"fill:#1f77b4;\"/>\r\n   </g>\r\n   <g id=\"patch_25\">\r\n    <path clip-path=\"url(#p5a8e9111bc)\" d=\"M 33.2875 220.549649 \r\nL 160.830357 220.549649 \r\nL 160.830357 220.376252 \r\nL 33.2875 220.376252 \r\nz\r\n\" style=\"fill:#1f77b4;\"/>\r\n   </g>\r\n   <g id=\"patch_26\">\r\n    <path clip-path=\"url(#p5a8e9111bc)\" d=\"M 33.2875 220.202855 \r\nL 151.720153 220.202855 \r\nL 151.720153 220.029458 \r\nL 33.2875 220.029458 \r\nz\r\n\" style=\"fill:#1f77b4;\"/>\r\n   </g>\r\n   <g id=\"patch_27\">\r\n    <path clip-path=\"url(#p5a8e9111bc)\" d=\"M 33.2875 219.856061 \r\nL 142.609949 219.856061 \r\nL 142.609949 219.682664 \r\nL 33.2875 219.682664 \r\nz\r\n\" style=\"fill:#1f77b4;\"/>\r\n   </g>\r\n   <g id=\"patch_28\">\r\n    <path clip-path=\"url(#p5a8e9111bc)\" d=\"M 33.2875 219.509267 \r\nL 251.932398 219.509267 \r\nL 251.932398 219.335869 \r\nL 33.2875 219.335869 \r\nz\r\n\" style=\"fill:#1f77b4;\"/>\r\n   </g>\r\n   <g id=\"patch_29\">\r\n    <path clip-path=\"url(#p5a8e9111bc)\" d=\"M 33.2875 219.162472 \r\nL 42.397704 219.162472 \r\nL 42.397704 218.989075 \r\nL 33.2875 218.989075 \r\nz\r\n\" style=\"fill:#1f77b4;\"/>\r\n   </g>\r\n   <g id=\"patch_30\">\r\n    <path clip-path=\"url(#p5a8e9111bc)\" d=\"M 33.2875 218.815678 \r\nL 33.2875 218.815678 \r\nL 33.2875 218.642281 \r\nL 33.2875 218.642281 \r\nz\r\n\" style=\"fill:#1f77b4;\"/>\r\n   </g>\r\n   <g id=\"patch_31\">\r\n    <path clip-path=\"url(#p5a8e9111bc)\" d=\"M 33.2875 218.468884 \r\nL 97.058929 218.468884 \r\nL 97.058929 218.295487 \r\nL 33.2875 218.295487 \r\nz\r\n\" style=\"fill:#1f77b4;\"/>\r\n   </g>\r\n   <g id=\"patch_32\">\r\n    <path clip-path=\"url(#p5a8e9111bc)\" d=\"M 33.2875 218.12209 \r\nL 160.830357 218.12209 \r\nL 160.830357 217.948692 \r\nL 33.2875 217.948692 \r\nz\r\n\" style=\"fill:#1f77b4;\"/>\r\n   </g>\r\n   <g id=\"patch_33\">\r\n    <path clip-path=\"url(#p5a8e9111bc)\" d=\"M 33.2875 217.775295 \r\nL 78.83852 217.775295 \r\nL 78.83852 217.601898 \r\nL 33.2875 217.601898 \r\nz\r\n\" style=\"fill:#1f77b4;\"/>\r\n   </g>\r\n   <g id=\"patch_34\">\r\n    <path clip-path=\"url(#p5a8e9111bc)\" d=\"M 33.2875 217.428501 \r\nL 42.397704 217.428501 \r\nL 42.397704 217.255104 \r\nL 33.2875 217.255104 \r\nz\r\n\" style=\"fill:#1f77b4;\"/>\r\n   </g>\r\n   <g id=\"patch_35\">\r\n    <path clip-path=\"url(#p5a8e9111bc)\" d=\"M 33.2875 217.081707 \r\nL 33.2875 217.081707 \r\nL 33.2875 216.90831 \r\nL 33.2875 216.90831 \r\nz\r\n\" style=\"fill:#1f77b4;\"/>\r\n   </g>\r\n   <g id=\"patch_36\">\r\n    <path clip-path=\"url(#p5a8e9111bc)\" d=\"M 33.2875 216.734913 \r\nL 51.507908 216.734913 \r\nL 51.507908 216.561515 \r\nL 33.2875 216.561515 \r\nz\r\n\" style=\"fill:#1f77b4;\"/>\r\n   </g>\r\n   <g id=\"patch_37\">\r\n    <path clip-path=\"url(#p5a8e9111bc)\" d=\"M 33.2875 216.388118 \r\nL 60.618112 216.388118 \r\nL 60.618112 216.214721 \r\nL 33.2875 216.214721 \r\nz\r\n\" style=\"fill:#1f77b4;\"/>\r\n   </g>\r\n   <g id=\"patch_38\">\r\n    <path clip-path=\"url(#p5a8e9111bc)\" d=\"M 33.2875 216.041324 \r\nL 106.169133 216.041324 \r\nL 106.169133 215.867927 \r\nL 33.2875 215.867927 \r\nz\r\n\" style=\"fill:#1f77b4;\"/>\r\n   </g>\r\n   <g id=\"patch_39\">\r\n    <path clip-path=\"url(#p5a8e9111bc)\" d=\"M 33.2875 215.69453 \r\nL 97.058929 215.69453 \r\nL 97.058929 215.521133 \r\nL 33.2875 215.521133 \r\nz\r\n\" style=\"fill:#1f77b4;\"/>\r\n   </g>\r\n   <g id=\"patch_40\">\r\n    <path clip-path=\"url(#p5a8e9111bc)\" d=\"M 33.2875 215.347735 \r\nL 78.83852 215.347735 \r\nL 78.83852 215.174338 \r\nL 33.2875 215.174338 \r\nz\r\n\" style=\"fill:#1f77b4;\"/>\r\n   </g>\r\n   <g id=\"patch_41\">\r\n    <path clip-path=\"url(#p5a8e9111bc)\" d=\"M 33.2875 215.000941 \r\nL 106.169133 215.000941 \r\nL 106.169133 214.827544 \r\nL 33.2875 214.827544 \r\nz\r\n\" style=\"fill:#1f77b4;\"/>\r\n   </g>\r\n   <g id=\"patch_42\">\r\n    <path clip-path=\"url(#p5a8e9111bc)\" d=\"M 33.2875 214.654147 \r\nL 87.948724 214.654147 \r\nL 87.948724 214.48075 \r\nL 33.2875 214.48075 \r\nz\r\n\" style=\"fill:#1f77b4;\"/>\r\n   </g>\r\n   <g id=\"patch_43\">\r\n    <path clip-path=\"url(#p5a8e9111bc)\" d=\"M 33.2875 214.307353 \r\nL 42.397704 214.307353 \r\nL 42.397704 214.133956 \r\nL 33.2875 214.133956 \r\nz\r\n\" style=\"fill:#1f77b4;\"/>\r\n   </g>\r\n   <g id=\"patch_44\">\r\n    <path clip-path=\"url(#p5a8e9111bc)\" d=\"M 33.2875 213.960558 \r\nL 133.499745 213.960558 \r\nL 133.499745 213.787161 \r\nL 33.2875 213.787161 \r\nz\r\n\" style=\"fill:#1f77b4;\"/>\r\n   </g>\r\n   <g id=\"patch_45\">\r\n    <path clip-path=\"url(#p5a8e9111bc)\" d=\"M 33.2875 213.613764 \r\nL 42.397704 213.613764 \r\nL 42.397704 213.440367 \r\nL 33.2875 213.440367 \r\nz\r\n\" style=\"fill:#1f77b4;\"/>\r\n   </g>\r\n   <g id=\"patch_46\">\r\n    <path clip-path=\"url(#p5a8e9111bc)\" d=\"M 33.2875 213.26697 \r\nL 352.144643 213.26697 \r\nL 352.144643 213.093573 \r\nL 33.2875 213.093573 \r\nz\r\n\" style=\"fill:#1f77b4;\"/>\r\n   </g>\r\n   <g id=\"patch_47\">\r\n    <path clip-path=\"url(#p5a8e9111bc)\" d=\"M 33.2875 212.920176 \r\nL 87.948724 212.920176 \r\nL 87.948724 212.746779 \r\nL 33.2875 212.746779 \r\nz\r\n\" style=\"fill:#1f77b4;\"/>\r\n   </g>\r\n   <g id=\"patch_48\">\r\n    <path clip-path=\"url(#p5a8e9111bc)\" d=\"M 33.2875 212.573381 \r\nL 151.720153 212.573381 \r\nL 151.720153 212.399984 \r\nL 33.2875 212.399984 \r\nz\r\n\" style=\"fill:#1f77b4;\"/>\r\n   </g>\r\n   <g id=\"patch_49\">\r\n    <path clip-path=\"url(#p5a8e9111bc)\" d=\"M 33.2875 212.226587 \r\nL 115.279337 212.226587 \r\nL 115.279337 212.05319 \r\nL 33.2875 212.05319 \r\nz\r\n\" style=\"fill:#1f77b4;\"/>\r\n   </g>\r\n   <g id=\"patch_50\">\r\n    <path clip-path=\"url(#p5a8e9111bc)\" d=\"M 33.2875 211.879793 \r\nL 169.940561 211.879793 \r\nL 169.940561 211.706396 \r\nL 33.2875 211.706396 \r\nz\r\n\" style=\"fill:#1f77b4;\"/>\r\n   </g>\r\n   <g id=\"patch_51\">\r\n    <path clip-path=\"url(#p5a8e9111bc)\" d=\"M 33.2875 211.532999 \r\nL 315.703827 211.532999 \r\nL 315.703827 211.359602 \r\nL 33.2875 211.359602 \r\nz\r\n\" style=\"fill:#1f77b4;\"/>\r\n   </g>\r\n   <g id=\"patch_52\">\r\n    <path clip-path=\"url(#p5a8e9111bc)\" d=\"M 33.2875 211.186204 \r\nL 115.279337 211.186204 \r\nL 115.279337 211.012807 \r\nL 33.2875 211.012807 \r\nz\r\n\" style=\"fill:#1f77b4;\"/>\r\n   </g>\r\n   <g id=\"patch_53\">\r\n    <path clip-path=\"url(#p5a8e9111bc)\" d=\"M 33.2875 210.83941 \r\nL 206.381378 210.83941 \r\nL 206.381378 210.666013 \r\nL 33.2875 210.666013 \r\nz\r\n\" style=\"fill:#1f77b4;\"/>\r\n   </g>\r\n   <g id=\"patch_54\">\r\n    <path clip-path=\"url(#p5a8e9111bc)\" d=\"M 33.2875 210.492616 \r\nL 124.389541 210.492616 \r\nL 124.389541 210.319219 \r\nL 33.2875 210.319219 \r\nz\r\n\" style=\"fill:#1f77b4;\"/>\r\n   </g>\r\n   <g id=\"patch_55\">\r\n    <path clip-path=\"url(#p5a8e9111bc)\" d=\"M 33.2875 210.145822 \r\nL 60.618112 210.145822 \r\nL 60.618112 209.972424 \r\nL 33.2875 209.972424 \r\nz\r\n\" style=\"fill:#1f77b4;\"/>\r\n   </g>\r\n   <g id=\"patch_56\">\r\n    <path clip-path=\"url(#p5a8e9111bc)\" d=\"M 33.2875 209.799027 \r\nL 33.2875 209.799027 \r\nL 33.2875 209.62563 \r\nL 33.2875 209.62563 \r\nz\r\n\" style=\"fill:#1f77b4;\"/>\r\n   </g>\r\n   <g id=\"patch_57\">\r\n    <path clip-path=\"url(#p5a8e9111bc)\" d=\"M 33.2875 209.452233 \r\nL 60.618112 209.452233 \r\nL 60.618112 209.278836 \r\nL 33.2875 209.278836 \r\nz\r\n\" style=\"fill:#1f77b4;\"/>\r\n   </g>\r\n   <g id=\"patch_58\">\r\n    <path clip-path=\"url(#p5a8e9111bc)\" d=\"M 33.2875 209.105439 \r\nL 51.507908 209.105439 \r\nL 51.507908 208.932042 \r\nL 33.2875 208.932042 \r\nz\r\n\" style=\"fill:#1f77b4;\"/>\r\n   </g>\r\n   <g id=\"patch_59\">\r\n    <path clip-path=\"url(#p5a8e9111bc)\" d=\"M 33.2875 208.758645 \r\nL 151.720153 208.758645 \r\nL 151.720153 208.585247 \r\nL 33.2875 208.585247 \r\nz\r\n\" style=\"fill:#1f77b4;\"/>\r\n   </g>\r\n   <g id=\"patch_60\">\r\n    <path clip-path=\"url(#p5a8e9111bc)\" d=\"M 33.2875 208.41185 \r\nL 106.169133 208.41185 \r\nL 106.169133 208.238453 \r\nL 33.2875 208.238453 \r\nz\r\n\" style=\"fill:#1f77b4;\"/>\r\n   </g>\r\n   <g id=\"patch_61\">\r\n    <path clip-path=\"url(#p5a8e9111bc)\" d=\"M 33.2875 208.065056 \r\nL 60.618112 208.065056 \r\nL 60.618112 207.891659 \r\nL 33.2875 207.891659 \r\nz\r\n\" style=\"fill:#1f77b4;\"/>\r\n   </g>\r\n   <g id=\"patch_62\">\r\n    <path clip-path=\"url(#p5a8e9111bc)\" d=\"M 33.2875 207.718262 \r\nL 115.279337 207.718262 \r\nL 115.279337 207.544865 \r\nL 33.2875 207.544865 \r\nz\r\n\" style=\"fill:#1f77b4;\"/>\r\n   </g>\r\n   <g id=\"patch_63\">\r\n    <path clip-path=\"url(#p5a8e9111bc)\" d=\"M 33.2875 207.371468 \r\nL 33.2875 207.371468 \r\nL 33.2875 207.19807 \r\nL 33.2875 207.19807 \r\nz\r\n\" style=\"fill:#1f77b4;\"/>\r\n   </g>\r\n   <g id=\"patch_64\">\r\n    <path clip-path=\"url(#p5a8e9111bc)\" d=\"M 33.2875 207.024673 \r\nL 42.397704 207.024673 \r\nL 42.397704 206.851276 \r\nL 33.2875 206.851276 \r\nz\r\n\" style=\"fill:#1f77b4;\"/>\r\n   </g>\r\n   <g id=\"patch_65\">\r\n    <path clip-path=\"url(#p5a8e9111bc)\" d=\"M 33.2875 206.677879 \r\nL 42.397704 206.677879 \r\nL 42.397704 206.504482 \r\nL 33.2875 206.504482 \r\nz\r\n\" style=\"fill:#1f77b4;\"/>\r\n   </g>\r\n   <g id=\"patch_66\">\r\n    <path clip-path=\"url(#p5a8e9111bc)\" d=\"M 33.2875 206.331085 \r\nL 124.389541 206.331085 \r\nL 124.389541 206.157688 \r\nL 33.2875 206.157688 \r\nz\r\n\" style=\"fill:#1f77b4;\"/>\r\n   </g>\r\n   <g id=\"patch_67\">\r\n    <path clip-path=\"url(#p5a8e9111bc)\" d=\"M 33.2875 205.984291 \r\nL 124.389541 205.984291 \r\nL 124.389541 205.810893 \r\nL 33.2875 205.810893 \r\nz\r\n\" style=\"fill:#1f77b4;\"/>\r\n   </g>\r\n   <g id=\"patch_68\">\r\n    <path clip-path=\"url(#p5a8e9111bc)\" d=\"M 33.2875 205.637496 \r\nL 133.499745 205.637496 \r\nL 133.499745 205.464099 \r\nL 33.2875 205.464099 \r\nz\r\n\" style=\"fill:#1f77b4;\"/>\r\n   </g>\r\n   <g id=\"patch_69\">\r\n    <path clip-path=\"url(#p5a8e9111bc)\" d=\"M 33.2875 205.290702 \r\nL 115.279337 205.290702 \r\nL 115.279337 205.117305 \r\nL 33.2875 205.117305 \r\nz\r\n\" style=\"fill:#1f77b4;\"/>\r\n   </g>\r\n   <g id=\"patch_70\">\r\n    <path clip-path=\"url(#p5a8e9111bc)\" d=\"M 33.2875 204.943908 \r\nL 106.169133 204.943908 \r\nL 106.169133 204.770511 \r\nL 33.2875 204.770511 \r\nz\r\n\" style=\"fill:#1f77b4;\"/>\r\n   </g>\r\n   <g id=\"patch_71\">\r\n    <path clip-path=\"url(#p5a8e9111bc)\" d=\"M 33.2875 204.597113 \r\nL 306.593622 204.597113 \r\nL 306.593622 204.423716 \r\nL 33.2875 204.423716 \r\nz\r\n\" style=\"fill:#1f77b4;\"/>\r\n   </g>\r\n   <g id=\"patch_72\">\r\n    <path clip-path=\"url(#p5a8e9111bc)\" d=\"M 33.2875 204.250319 \r\nL 133.499745 204.250319 \r\nL 133.499745 204.076922 \r\nL 33.2875 204.076922 \r\nz\r\n\" style=\"fill:#1f77b4;\"/>\r\n   </g>\r\n   <g id=\"patch_73\">\r\n    <path clip-path=\"url(#p5a8e9111bc)\" d=\"M 33.2875 203.903525 \r\nL 42.397704 203.903525 \r\nL 42.397704 203.730128 \r\nL 33.2875 203.730128 \r\nz\r\n\" style=\"fill:#1f77b4;\"/>\r\n   </g>\r\n   <g id=\"patch_74\">\r\n    <path clip-path=\"url(#p5a8e9111bc)\" d=\"M 33.2875 203.556731 \r\nL 106.169133 203.556731 \r\nL 106.169133 203.383334 \r\nL 33.2875 203.383334 \r\nz\r\n\" style=\"fill:#1f77b4;\"/>\r\n   </g>\r\n   <g id=\"patch_75\">\r\n    <path clip-path=\"url(#p5a8e9111bc)\" d=\"M 33.2875 203.209936 \r\nL 124.389541 203.209936 \r\nL 124.389541 203.036539 \r\nL 33.2875 203.036539 \r\nz\r\n\" style=\"fill:#1f77b4;\"/>\r\n   </g>\r\n   <g id=\"patch_76\">\r\n    <path clip-path=\"url(#p5a8e9111bc)\" d=\"M 33.2875 202.863142 \r\nL 279.26301 202.863142 \r\nL 279.26301 202.689745 \r\nL 33.2875 202.689745 \r\nz\r\n\" style=\"fill:#1f77b4;\"/>\r\n   </g>\r\n   <g id=\"patch_77\">\r\n    <path clip-path=\"url(#p5a8e9111bc)\" d=\"M 33.2875 202.516348 \r\nL 169.940561 202.516348 \r\nL 169.940561 202.342951 \r\nL 33.2875 202.342951 \r\nz\r\n\" style=\"fill:#1f77b4;\"/>\r\n   </g>\r\n   <g id=\"patch_78\">\r\n    <path clip-path=\"url(#p5a8e9111bc)\" d=\"M 33.2875 202.169554 \r\nL 115.279337 202.169554 \r\nL 115.279337 201.996157 \r\nL 33.2875 201.996157 \r\nz\r\n\" style=\"fill:#1f77b4;\"/>\r\n   </g>\r\n   <g id=\"patch_79\">\r\n    <path clip-path=\"url(#p5a8e9111bc)\" d=\"M 33.2875 201.822759 \r\nL 251.932398 201.822759 \r\nL 251.932398 201.649362 \r\nL 33.2875 201.649362 \r\nz\r\n\" style=\"fill:#1f77b4;\"/>\r\n   </g>\r\n   <g id=\"patch_80\">\r\n    <path clip-path=\"url(#p5a8e9111bc)\" d=\"M 33.2875 201.475965 \r\nL 33.2875 201.475965 \r\nL 33.2875 201.302568 \r\nL 33.2875 201.302568 \r\nz\r\n\" style=\"fill:#1f77b4;\"/>\r\n   </g>\r\n   <g id=\"patch_81\">\r\n    <path clip-path=\"url(#p5a8e9111bc)\" d=\"M 33.2875 201.129171 \r\nL 224.601786 201.129171 \r\nL 224.601786 200.955774 \r\nL 33.2875 200.955774 \r\nz\r\n\" style=\"fill:#1f77b4;\"/>\r\n   </g>\r\n   <g id=\"patch_82\">\r\n    <path clip-path=\"url(#p5a8e9111bc)\" d=\"M 33.2875 200.782377 \r\nL 242.822194 200.782377 \r\nL 242.822194 200.60898 \r\nL 33.2875 200.60898 \r\nz\r\n\" style=\"fill:#1f77b4;\"/>\r\n   </g>\r\n   <g id=\"patch_83\">\r\n    <path clip-path=\"url(#p5a8e9111bc)\" d=\"M 33.2875 200.435582 \r\nL 97.058929 200.435582 \r\nL 97.058929 200.262185 \r\nL 33.2875 200.262185 \r\nz\r\n\" style=\"fill:#1f77b4;\"/>\r\n   </g>\r\n   <g id=\"patch_84\">\r\n    <path clip-path=\"url(#p5a8e9111bc)\" d=\"M 33.2875 200.088788 \r\nL 33.2875 200.088788 \r\nL 33.2875 199.915391 \r\nL 33.2875 199.915391 \r\nz\r\n\" style=\"fill:#1f77b4;\"/>\r\n   </g>\r\n   <g id=\"patch_85\">\r\n    <path clip-path=\"url(#p5a8e9111bc)\" d=\"M 33.2875 199.741994 \r\nL 87.948724 199.741994 \r\nL 87.948724 199.568597 \r\nL 33.2875 199.568597 \r\nz\r\n\" style=\"fill:#1f77b4;\"/>\r\n   </g>\r\n   <g id=\"patch_86\">\r\n    <path clip-path=\"url(#p5a8e9111bc)\" d=\"M 33.2875 199.3952 \r\nL 179.050765 199.3952 \r\nL 179.050765 199.221802 \r\nL 33.2875 199.221802 \r\nz\r\n\" style=\"fill:#1f77b4;\"/>\r\n   </g>\r\n   <g id=\"patch_87\">\r\n    <path clip-path=\"url(#p5a8e9111bc)\" d=\"M 33.2875 199.048405 \r\nL 215.491582 199.048405 \r\nL 215.491582 198.875008 \r\nL 33.2875 198.875008 \r\nz\r\n\" style=\"fill:#1f77b4;\"/>\r\n   </g>\r\n   <g id=\"patch_88\">\r\n    <path clip-path=\"url(#p5a8e9111bc)\" d=\"M 33.2875 198.701611 \r\nL 169.940561 198.701611 \r\nL 169.940561 198.528214 \r\nL 33.2875 198.528214 \r\nz\r\n\" style=\"fill:#1f77b4;\"/>\r\n   </g>\r\n   <g id=\"patch_89\">\r\n    <path clip-path=\"url(#p5a8e9111bc)\" d=\"M 33.2875 198.354817 \r\nL 60.618112 198.354817 \r\nL 60.618112 198.18142 \r\nL 33.2875 198.18142 \r\nz\r\n\" style=\"fill:#1f77b4;\"/>\r\n   </g>\r\n   <g id=\"patch_90\">\r\n    <path clip-path=\"url(#p5a8e9111bc)\" d=\"M 33.2875 198.008023 \r\nL 115.279337 198.008023 \r\nL 115.279337 197.834625 \r\nL 33.2875 197.834625 \r\nz\r\n\" style=\"fill:#1f77b4;\"/>\r\n   </g>\r\n   <g id=\"patch_91\">\r\n    <path clip-path=\"url(#p5a8e9111bc)\" d=\"M 33.2875 197.661228 \r\nL 197.271173 197.661228 \r\nL 197.271173 197.487831 \r\nL 33.2875 197.487831 \r\nz\r\n\" style=\"fill:#1f77b4;\"/>\r\n   </g>\r\n   <g id=\"patch_92\">\r\n    <path clip-path=\"url(#p5a8e9111bc)\" d=\"M 33.2875 197.314434 \r\nL 315.703827 197.314434 \r\nL 315.703827 197.141037 \r\nL 33.2875 197.141037 \r\nz\r\n\" style=\"fill:#1f77b4;\"/>\r\n   </g>\r\n   <g id=\"patch_93\">\r\n    <path clip-path=\"url(#p5a8e9111bc)\" d=\"M 33.2875 196.96764 \r\nL 87.948724 196.96764 \r\nL 87.948724 196.794243 \r\nL 33.2875 196.794243 \r\nz\r\n\" style=\"fill:#1f77b4;\"/>\r\n   </g>\r\n   <g id=\"patch_94\">\r\n    <path clip-path=\"url(#p5a8e9111bc)\" d=\"M 33.2875 196.620846 \r\nL 60.618112 196.620846 \r\nL 60.618112 196.447448 \r\nL 33.2875 196.447448 \r\nz\r\n\" style=\"fill:#1f77b4;\"/>\r\n   </g>\r\n   <g id=\"patch_95\">\r\n    <path clip-path=\"url(#p5a8e9111bc)\" d=\"M 33.2875 196.274051 \r\nL 188.160969 196.274051 \r\nL 188.160969 196.100654 \r\nL 33.2875 196.100654 \r\nz\r\n\" style=\"fill:#1f77b4;\"/>\r\n   </g>\r\n   <g id=\"patch_96\">\r\n    <path clip-path=\"url(#p5a8e9111bc)\" d=\"M 33.2875 195.927257 \r\nL 160.830357 195.927257 \r\nL 160.830357 195.75386 \r\nL 33.2875 195.75386 \r\nz\r\n\" style=\"fill:#1f77b4;\"/>\r\n   </g>\r\n   <g id=\"patch_97\">\r\n    <path clip-path=\"url(#p5a8e9111bc)\" d=\"M 33.2875 195.580463 \r\nL 97.058929 195.580463 \r\nL 97.058929 195.407066 \r\nL 33.2875 195.407066 \r\nz\r\n\" style=\"fill:#1f77b4;\"/>\r\n   </g>\r\n   <g id=\"patch_98\">\r\n    <path clip-path=\"url(#p5a8e9111bc)\" d=\"M 33.2875 195.233669 \r\nL 42.397704 195.233669 \r\nL 42.397704 195.060271 \r\nL 33.2875 195.060271 \r\nz\r\n\" style=\"fill:#1f77b4;\"/>\r\n   </g>\r\n   <g id=\"patch_99\">\r\n    <path clip-path=\"url(#p5a8e9111bc)\" d=\"M 33.2875 194.886874 \r\nL 60.618112 194.886874 \r\nL 60.618112 194.713477 \r\nL 33.2875 194.713477 \r\nz\r\n\" style=\"fill:#1f77b4;\"/>\r\n   </g>\r\n   <g id=\"patch_100\">\r\n    <path clip-path=\"url(#p5a8e9111bc)\" d=\"M 33.2875 194.54008 \r\nL 42.397704 194.54008 \r\nL 42.397704 194.366683 \r\nL 33.2875 194.366683 \r\nz\r\n\" style=\"fill:#1f77b4;\"/>\r\n   </g>\r\n   <g id=\"patch_101\">\r\n    <path clip-path=\"url(#p5a8e9111bc)\" d=\"M 33.2875 194.193286 \r\nL 78.83852 194.193286 \r\nL 78.83852 194.019889 \r\nL 33.2875 194.019889 \r\nz\r\n\" style=\"fill:#1f77b4;\"/>\r\n   </g>\r\n   <g id=\"patch_102\">\r\n    <path clip-path=\"url(#p5a8e9111bc)\" d=\"M 33.2875 193.846491 \r\nL 87.948724 193.846491 \r\nL 87.948724 193.673094 \r\nL 33.2875 193.673094 \r\nz\r\n\" style=\"fill:#1f77b4;\"/>\r\n   </g>\r\n   <g id=\"patch_103\">\r\n    <path clip-path=\"url(#p5a8e9111bc)\" d=\"M 33.2875 193.499697 \r\nL 343.034439 193.499697 \r\nL 343.034439 193.3263 \r\nL 33.2875 193.3263 \r\nz\r\n\" style=\"fill:#1f77b4;\"/>\r\n   </g>\r\n   <g id=\"patch_104\">\r\n    <path clip-path=\"url(#p5a8e9111bc)\" d=\"M 33.2875 193.152903 \r\nL 97.058929 193.152903 \r\nL 97.058929 192.979506 \r\nL 33.2875 192.979506 \r\nz\r\n\" style=\"fill:#1f77b4;\"/>\r\n   </g>\r\n   <g id=\"patch_105\">\r\n    <path clip-path=\"url(#p5a8e9111bc)\" d=\"M 33.2875 192.806109 \r\nL 188.160969 192.806109 \r\nL 188.160969 192.632712 \r\nL 33.2875 192.632712 \r\nz\r\n\" style=\"fill:#1f77b4;\"/>\r\n   </g>\r\n   <g id=\"patch_106\">\r\n    <path clip-path=\"url(#p5a8e9111bc)\" d=\"M 33.2875 192.459314 \r\nL 224.601786 192.459314 \r\nL 224.601786 192.285917 \r\nL 33.2875 192.285917 \r\nz\r\n\" style=\"fill:#1f77b4;\"/>\r\n   </g>\r\n   <g id=\"patch_107\">\r\n    <path clip-path=\"url(#p5a8e9111bc)\" d=\"M 33.2875 192.11252 \r\nL 188.160969 192.11252 \r\nL 188.160969 191.939123 \r\nL 33.2875 191.939123 \r\nz\r\n\" style=\"fill:#1f77b4;\"/>\r\n   </g>\r\n   <g id=\"patch_108\">\r\n    <path clip-path=\"url(#p5a8e9111bc)\" d=\"M 33.2875 191.765726 \r\nL 133.499745 191.765726 \r\nL 133.499745 191.592329 \r\nL 33.2875 191.592329 \r\nz\r\n\" style=\"fill:#1f77b4;\"/>\r\n   </g>\r\n   <g id=\"patch_109\">\r\n    <path clip-path=\"url(#p5a8e9111bc)\" d=\"M 33.2875 191.418932 \r\nL 315.703827 191.418932 \r\nL 315.703827 191.245535 \r\nL 33.2875 191.245535 \r\nz\r\n\" style=\"fill:#1f77b4;\"/>\r\n   </g>\r\n   <g id=\"patch_110\">\r\n    <path clip-path=\"url(#p5a8e9111bc)\" d=\"M 33.2875 191.072137 \r\nL 179.050765 191.072137 \r\nL 179.050765 190.89874 \r\nL 33.2875 190.89874 \r\nz\r\n\" style=\"fill:#1f77b4;\"/>\r\n   </g>\r\n   <g id=\"patch_111\">\r\n    <path clip-path=\"url(#p5a8e9111bc)\" d=\"M 33.2875 190.725343 \r\nL 179.050765 190.725343 \r\nL 179.050765 190.551946 \r\nL 33.2875 190.551946 \r\nz\r\n\" style=\"fill:#1f77b4;\"/>\r\n   </g>\r\n   <g id=\"patch_112\">\r\n    <path clip-path=\"url(#p5a8e9111bc)\" d=\"M 33.2875 190.378549 \r\nL 87.948724 190.378549 \r\nL 87.948724 190.205152 \r\nL 33.2875 190.205152 \r\nz\r\n\" style=\"fill:#1f77b4;\"/>\r\n   </g>\r\n   <g id=\"patch_113\">\r\n    <path clip-path=\"url(#p5a8e9111bc)\" d=\"M 33.2875 190.031755 \r\nL 224.601786 190.031755 \r\nL 224.601786 189.858358 \r\nL 33.2875 189.858358 \r\nz\r\n\" style=\"fill:#1f77b4;\"/>\r\n   </g>\r\n   <g id=\"patch_114\">\r\n    <path clip-path=\"url(#p5a8e9111bc)\" d=\"M 33.2875 189.68496 \r\nL 215.491582 189.68496 \r\nL 215.491582 189.511563 \r\nL 33.2875 189.511563 \r\nz\r\n\" style=\"fill:#1f77b4;\"/>\r\n   </g>\r\n   <g id=\"patch_115\">\r\n    <path clip-path=\"url(#p5a8e9111bc)\" d=\"M 33.2875 189.338166 \r\nL 69.728316 189.338166 \r\nL 69.728316 189.164769 \r\nL 33.2875 189.164769 \r\nz\r\n\" style=\"fill:#1f77b4;\"/>\r\n   </g>\r\n   <g id=\"patch_116\">\r\n    <path clip-path=\"url(#p5a8e9111bc)\" d=\"M 33.2875 188.991372 \r\nL 87.948724 188.991372 \r\nL 87.948724 188.817975 \r\nL 33.2875 188.817975 \r\nz\r\n\" style=\"fill:#1f77b4;\"/>\r\n   </g>\r\n   <g id=\"patch_117\">\r\n    <path clip-path=\"url(#p5a8e9111bc)\" d=\"M 33.2875 188.644578 \r\nL 179.050765 188.644578 \r\nL 179.050765 188.47118 \r\nL 33.2875 188.47118 \r\nz\r\n\" style=\"fill:#1f77b4;\"/>\r\n   </g>\r\n   <g id=\"patch_118\">\r\n    <path clip-path=\"url(#p5a8e9111bc)\" d=\"M 33.2875 188.297783 \r\nL 42.397704 188.297783 \r\nL 42.397704 188.124386 \r\nL 33.2875 188.124386 \r\nz\r\n\" style=\"fill:#1f77b4;\"/>\r\n   </g>\r\n   <g id=\"patch_119\">\r\n    <path clip-path=\"url(#p5a8e9111bc)\" d=\"M 33.2875 187.950989 \r\nL 133.499745 187.950989 \r\nL 133.499745 187.777592 \r\nL 33.2875 187.777592 \r\nz\r\n\" style=\"fill:#1f77b4;\"/>\r\n   </g>\r\n   <g id=\"patch_120\">\r\n    <path clip-path=\"url(#p5a8e9111bc)\" d=\"M 33.2875 187.604195 \r\nL 160.830357 187.604195 \r\nL 160.830357 187.430798 \r\nL 33.2875 187.430798 \r\nz\r\n\" style=\"fill:#1f77b4;\"/>\r\n   </g>\r\n   <g id=\"patch_121\">\r\n    <path clip-path=\"url(#p5a8e9111bc)\" d=\"M 33.2875 187.257401 \r\nL 133.499745 187.257401 \r\nL 133.499745 187.084003 \r\nL 33.2875 187.084003 \r\nz\r\n\" style=\"fill:#1f77b4;\"/>\r\n   </g>\r\n   <g id=\"patch_122\">\r\n    <path clip-path=\"url(#p5a8e9111bc)\" d=\"M 33.2875 186.910606 \r\nL 233.71199 186.910606 \r\nL 233.71199 186.737209 \r\nL 33.2875 186.737209 \r\nz\r\n\" style=\"fill:#1f77b4;\"/>\r\n   </g>\r\n   <g id=\"patch_123\">\r\n    <path clip-path=\"url(#p5a8e9111bc)\" d=\"M 33.2875 186.563812 \r\nL 160.830357 186.563812 \r\nL 160.830357 186.390415 \r\nL 33.2875 186.390415 \r\nz\r\n\" style=\"fill:#1f77b4;\"/>\r\n   </g>\r\n   <g id=\"patch_124\">\r\n    <path clip-path=\"url(#p5a8e9111bc)\" d=\"M 33.2875 186.217018 \r\nL 42.397704 186.217018 \r\nL 42.397704 186.043621 \r\nL 33.2875 186.043621 \r\nz\r\n\" style=\"fill:#1f77b4;\"/>\r\n   </g>\r\n   <g id=\"patch_125\">\r\n    <path clip-path=\"url(#p5a8e9111bc)\" d=\"M 33.2875 185.870224 \r\nL 51.507908 185.870224 \r\nL 51.507908 185.696826 \r\nL 33.2875 185.696826 \r\nz\r\n\" style=\"fill:#1f77b4;\"/>\r\n   </g>\r\n   <g id=\"patch_126\">\r\n    <path clip-path=\"url(#p5a8e9111bc)\" d=\"M 33.2875 185.523429 \r\nL 51.507908 185.523429 \r\nL 51.507908 185.350032 \r\nL 33.2875 185.350032 \r\nz\r\n\" style=\"fill:#1f77b4;\"/>\r\n   </g>\r\n   <g id=\"patch_127\">\r\n    <path clip-path=\"url(#p5a8e9111bc)\" d=\"M 33.2875 185.176635 \r\nL 42.397704 185.176635 \r\nL 42.397704 185.003238 \r\nL 33.2875 185.003238 \r\nz\r\n\" style=\"fill:#1f77b4;\"/>\r\n   </g>\r\n   <g id=\"patch_128\">\r\n    <path clip-path=\"url(#p5a8e9111bc)\" d=\"M 33.2875 184.829841 \r\nL 69.728316 184.829841 \r\nL 69.728316 184.656444 \r\nL 33.2875 184.656444 \r\nz\r\n\" style=\"fill:#1f77b4;\"/>\r\n   </g>\r\n   <g id=\"patch_129\">\r\n    <path clip-path=\"url(#p5a8e9111bc)\" d=\"M 33.2875 184.483047 \r\nL 51.507908 184.483047 \r\nL 51.507908 184.309649 \r\nL 33.2875 184.309649 \r\nz\r\n\" style=\"fill:#1f77b4;\"/>\r\n   </g>\r\n   <g id=\"patch_130\">\r\n    <path clip-path=\"url(#p5a8e9111bc)\" d=\"M 33.2875 184.136252 \r\nL 42.397704 184.136252 \r\nL 42.397704 183.962855 \r\nL 33.2875 183.962855 \r\nz\r\n\" style=\"fill:#1f77b4;\"/>\r\n   </g>\r\n   <g id=\"patch_131\">\r\n    <path clip-path=\"url(#p5a8e9111bc)\" d=\"M 33.2875 183.789458 \r\nL 206.381378 183.789458 \r\nL 206.381378 183.616061 \r\nL 33.2875 183.616061 \r\nz\r\n\" style=\"fill:#1f77b4;\"/>\r\n   </g>\r\n   <g id=\"patch_132\">\r\n    <path clip-path=\"url(#p5a8e9111bc)\" d=\"M 33.2875 183.442664 \r\nL 87.948724 183.442664 \r\nL 87.948724 183.269267 \r\nL 33.2875 183.269267 \r\nz\r\n\" style=\"fill:#1f77b4;\"/>\r\n   </g>\r\n   <g id=\"patch_133\">\r\n    <path clip-path=\"url(#p5a8e9111bc)\" d=\"M 33.2875 183.095869 \r\nL 42.397704 183.095869 \r\nL 42.397704 182.922472 \r\nL 33.2875 182.922472 \r\nz\r\n\" style=\"fill:#1f77b4;\"/>\r\n   </g>\r\n   <g id=\"patch_134\">\r\n    <path clip-path=\"url(#p5a8e9111bc)\" d=\"M 33.2875 182.749075 \r\nL 51.507908 182.749075 \r\nL 51.507908 182.575678 \r\nL 33.2875 182.575678 \r\nz\r\n\" style=\"fill:#1f77b4;\"/>\r\n   </g>\r\n   <g id=\"patch_135\">\r\n    <path clip-path=\"url(#p5a8e9111bc)\" d=\"M 33.2875 182.402281 \r\nL 115.279337 182.402281 \r\nL 115.279337 182.228884 \r\nL 33.2875 182.228884 \r\nz\r\n\" style=\"fill:#1f77b4;\"/>\r\n   </g>\r\n   <g id=\"patch_136\">\r\n    <path clip-path=\"url(#p5a8e9111bc)\" d=\"M 33.2875 182.055487 \r\nL 233.71199 182.055487 \r\nL 233.71199 181.88209 \r\nL 33.2875 181.88209 \r\nz\r\n\" style=\"fill:#1f77b4;\"/>\r\n   </g>\r\n   <g id=\"patch_137\">\r\n    <path clip-path=\"url(#p5a8e9111bc)\" d=\"M 33.2875 181.708692 \r\nL 261.042602 181.708692 \r\nL 261.042602 181.535295 \r\nL 33.2875 181.535295 \r\nz\r\n\" style=\"fill:#1f77b4;\"/>\r\n   </g>\r\n   <g id=\"patch_138\">\r\n    <path clip-path=\"url(#p5a8e9111bc)\" d=\"M 33.2875 181.361898 \r\nL 188.160969 181.361898 \r\nL 188.160969 181.188501 \r\nL 33.2875 181.188501 \r\nz\r\n\" style=\"fill:#1f77b4;\"/>\r\n   </g>\r\n   <g id=\"patch_139\">\r\n    <path clip-path=\"url(#p5a8e9111bc)\" d=\"M 33.2875 181.015104 \r\nL 133.499745 181.015104 \r\nL 133.499745 180.841707 \r\nL 33.2875 180.841707 \r\nz\r\n\" style=\"fill:#1f77b4;\"/>\r\n   </g>\r\n   <g id=\"patch_140\">\r\n    <path clip-path=\"url(#p5a8e9111bc)\" d=\"M 33.2875 180.66831 \r\nL 97.058929 180.66831 \r\nL 97.058929 180.494913 \r\nL 33.2875 180.494913 \r\nz\r\n\" style=\"fill:#1f77b4;\"/>\r\n   </g>\r\n   <g id=\"patch_141\">\r\n    <path clip-path=\"url(#p5a8e9111bc)\" d=\"M 33.2875 180.321515 \r\nL 78.83852 180.321515 \r\nL 78.83852 180.148118 \r\nL 33.2875 180.148118 \r\nz\r\n\" style=\"fill:#1f77b4;\"/>\r\n   </g>\r\n   <g id=\"patch_142\">\r\n    <path clip-path=\"url(#p5a8e9111bc)\" d=\"M 33.2875 179.974721 \r\nL 87.948724 179.974721 \r\nL 87.948724 179.801324 \r\nL 33.2875 179.801324 \r\nz\r\n\" style=\"fill:#1f77b4;\"/>\r\n   </g>\r\n   <g id=\"patch_143\">\r\n    <path clip-path=\"url(#p5a8e9111bc)\" d=\"M 33.2875 179.627927 \r\nL 51.507908 179.627927 \r\nL 51.507908 179.45453 \r\nL 33.2875 179.45453 \r\nz\r\n\" style=\"fill:#1f77b4;\"/>\r\n   </g>\r\n   <g id=\"patch_144\">\r\n    <path clip-path=\"url(#p5a8e9111bc)\" d=\"M 33.2875 179.281133 \r\nL 69.728316 179.281133 \r\nL 69.728316 179.107735 \r\nL 33.2875 179.107735 \r\nz\r\n\" style=\"fill:#1f77b4;\"/>\r\n   </g>\r\n   <g id=\"patch_145\">\r\n    <path clip-path=\"url(#p5a8e9111bc)\" d=\"M 33.2875 178.934338 \r\nL 42.397704 178.934338 \r\nL 42.397704 178.760941 \r\nL 33.2875 178.760941 \r\nz\r\n\" style=\"fill:#1f77b4;\"/>\r\n   </g>\r\n   <g id=\"patch_146\">\r\n    <path clip-path=\"url(#p5a8e9111bc)\" d=\"M 33.2875 178.587544 \r\nL 33.2875 178.587544 \r\nL 33.2875 178.414147 \r\nL 33.2875 178.414147 \r\nz\r\n\" style=\"fill:#1f77b4;\"/>\r\n   </g>\r\n   <g id=\"patch_147\">\r\n    <path clip-path=\"url(#p5a8e9111bc)\" d=\"M 33.2875 178.24075 \r\nL 42.397704 178.24075 \r\nL 42.397704 178.067353 \r\nL 33.2875 178.067353 \r\nz\r\n\" style=\"fill:#1f77b4;\"/>\r\n   </g>\r\n   <g id=\"patch_148\">\r\n    <path clip-path=\"url(#p5a8e9111bc)\" d=\"M 33.2875 177.893956 \r\nL 151.720153 177.893956 \r\nL 151.720153 177.720558 \r\nL 33.2875 177.720558 \r\nz\r\n\" style=\"fill:#1f77b4;\"/>\r\n   </g>\r\n   <g id=\"patch_149\">\r\n    <path clip-path=\"url(#p5a8e9111bc)\" d=\"M 33.2875 177.547161 \r\nL 87.948724 177.547161 \r\nL 87.948724 177.373764 \r\nL 33.2875 177.373764 \r\nz\r\n\" style=\"fill:#1f77b4;\"/>\r\n   </g>\r\n   <g id=\"patch_150\">\r\n    <path clip-path=\"url(#p5a8e9111bc)\" d=\"M 33.2875 177.200367 \r\nL 42.397704 177.200367 \r\nL 42.397704 177.02697 \r\nL 33.2875 177.02697 \r\nz\r\n\" style=\"fill:#1f77b4;\"/>\r\n   </g>\r\n   <g id=\"patch_151\">\r\n    <path clip-path=\"url(#p5a8e9111bc)\" d=\"M 33.2875 176.853573 \r\nL 33.2875 176.853573 \r\nL 33.2875 176.680176 \r\nL 33.2875 176.680176 \r\nz\r\n\" style=\"fill:#1f77b4;\"/>\r\n   </g>\r\n   <g id=\"patch_152\">\r\n    <path clip-path=\"url(#p5a8e9111bc)\" d=\"M 33.2875 176.506779 \r\nL 87.948724 176.506779 \r\nL 87.948724 176.333381 \r\nL 33.2875 176.333381 \r\nz\r\n\" style=\"fill:#1f77b4;\"/>\r\n   </g>\r\n   <g id=\"patch_153\">\r\n    <path clip-path=\"url(#p5a8e9111bc)\" d=\"M 33.2875 176.159984 \r\nL 51.507908 176.159984 \r\nL 51.507908 175.986587 \r\nL 33.2875 175.986587 \r\nz\r\n\" style=\"fill:#1f77b4;\"/>\r\n   </g>\r\n   <g id=\"patch_154\">\r\n    <path clip-path=\"url(#p5a8e9111bc)\" d=\"M 33.2875 175.81319 \r\nL 60.618112 175.81319 \r\nL 60.618112 175.639793 \r\nL 33.2875 175.639793 \r\nz\r\n\" style=\"fill:#1f77b4;\"/>\r\n   </g>\r\n   <g id=\"patch_155\">\r\n    <path clip-path=\"url(#p5a8e9111bc)\" d=\"M 33.2875 175.466396 \r\nL 33.2875 175.466396 \r\nL 33.2875 175.292999 \r\nL 33.2875 175.292999 \r\nz\r\n\" style=\"fill:#1f77b4;\"/>\r\n   </g>\r\n   <g id=\"patch_156\">\r\n    <path clip-path=\"url(#p5a8e9111bc)\" d=\"M 33.2875 175.119602 \r\nL 106.169133 175.119602 \r\nL 106.169133 174.946204 \r\nL 33.2875 174.946204 \r\nz\r\n\" style=\"fill:#1f77b4;\"/>\r\n   </g>\r\n   <g id=\"patch_157\">\r\n    <path clip-path=\"url(#p5a8e9111bc)\" d=\"M 33.2875 174.772807 \r\nL 87.948724 174.772807 \r\nL 87.948724 174.59941 \r\nL 33.2875 174.59941 \r\nz\r\n\" style=\"fill:#1f77b4;\"/>\r\n   </g>\r\n   <g id=\"patch_158\">\r\n    <path clip-path=\"url(#p5a8e9111bc)\" d=\"M 33.2875 174.426013 \r\nL 60.618112 174.426013 \r\nL 60.618112 174.252616 \r\nL 33.2875 174.252616 \r\nz\r\n\" style=\"fill:#1f77b4;\"/>\r\n   </g>\r\n   <g id=\"patch_159\">\r\n    <path clip-path=\"url(#p5a8e9111bc)\" d=\"M 33.2875 174.079219 \r\nL 60.618112 174.079219 \r\nL 60.618112 173.905822 \r\nL 33.2875 173.905822 \r\nz\r\n\" style=\"fill:#1f77b4;\"/>\r\n   </g>\r\n   <g id=\"patch_160\">\r\n    <path clip-path=\"url(#p5a8e9111bc)\" d=\"M 33.2875 173.732424 \r\nL 51.507908 173.732424 \r\nL 51.507908 173.559027 \r\nL 33.2875 173.559027 \r\nz\r\n\" style=\"fill:#1f77b4;\"/>\r\n   </g>\r\n   <g id=\"patch_161\">\r\n    <path clip-path=\"url(#p5a8e9111bc)\" d=\"M 33.2875 173.38563 \r\nL 33.2875 173.38563 \r\nL 33.2875 173.212233 \r\nL 33.2875 173.212233 \r\nz\r\n\" style=\"fill:#1f77b4;\"/>\r\n   </g>\r\n   <g id=\"patch_162\">\r\n    <path clip-path=\"url(#p5a8e9111bc)\" d=\"M 33.2875 173.038836 \r\nL 42.397704 173.038836 \r\nL 42.397704 172.865439 \r\nL 33.2875 172.865439 \r\nz\r\n\" style=\"fill:#1f77b4;\"/>\r\n   </g>\r\n   <g id=\"patch_163\">\r\n    <path clip-path=\"url(#p5a8e9111bc)\" d=\"M 33.2875 172.692042 \r\nL 69.728316 172.692042 \r\nL 69.728316 172.518645 \r\nL 33.2875 172.518645 \r\nz\r\n\" style=\"fill:#1f77b4;\"/>\r\n   </g>\r\n   <g id=\"patch_164\">\r\n    <path clip-path=\"url(#p5a8e9111bc)\" d=\"M 33.2875 172.345247 \r\nL 78.83852 172.345247 \r\nL 78.83852 172.17185 \r\nL 33.2875 172.17185 \r\nz\r\n\" style=\"fill:#1f77b4;\"/>\r\n   </g>\r\n   <g id=\"patch_165\">\r\n    <path clip-path=\"url(#p5a8e9111bc)\" d=\"M 33.2875 171.998453 \r\nL 33.2875 171.998453 \r\nL 33.2875 171.825056 \r\nL 33.2875 171.825056 \r\nz\r\n\" style=\"fill:#1f77b4;\"/>\r\n   </g>\r\n   <g id=\"patch_166\">\r\n    <path clip-path=\"url(#p5a8e9111bc)\" d=\"M 33.2875 171.651659 \r\nL 197.271173 171.651659 \r\nL 197.271173 171.478262 \r\nL 33.2875 171.478262 \r\nz\r\n\" style=\"fill:#1f77b4;\"/>\r\n   </g>\r\n   <g id=\"patch_167\">\r\n    <path clip-path=\"url(#p5a8e9111bc)\" d=\"M 33.2875 171.304865 \r\nL 42.397704 171.304865 \r\nL 42.397704 171.131468 \r\nL 33.2875 171.131468 \r\nz\r\n\" style=\"fill:#1f77b4;\"/>\r\n   </g>\r\n   <g id=\"patch_168\">\r\n    <path clip-path=\"url(#p5a8e9111bc)\" d=\"M 33.2875 170.95807 \r\nL 69.728316 170.95807 \r\nL 69.728316 170.784673 \r\nL 33.2875 170.784673 \r\nz\r\n\" style=\"fill:#1f77b4;\"/>\r\n   </g>\r\n   <g id=\"patch_169\">\r\n    <path clip-path=\"url(#p5a8e9111bc)\" d=\"M 33.2875 170.611276 \r\nL 51.507908 170.611276 \r\nL 51.507908 170.437879 \r\nL 33.2875 170.437879 \r\nz\r\n\" style=\"fill:#1f77b4;\"/>\r\n   </g>\r\n   <g id=\"patch_170\">\r\n    <path clip-path=\"url(#p5a8e9111bc)\" d=\"M 33.2875 170.264482 \r\nL 60.618112 170.264482 \r\nL 60.618112 170.091085 \r\nL 33.2875 170.091085 \r\nz\r\n\" style=\"fill:#1f77b4;\"/>\r\n   </g>\r\n   <g id=\"patch_171\">\r\n    <path clip-path=\"url(#p5a8e9111bc)\" d=\"M 33.2875 169.917688 \r\nL 33.2875 169.917688 \r\nL 33.2875 169.744291 \r\nL 33.2875 169.744291 \r\nz\r\n\" style=\"fill:#1f77b4;\"/>\r\n   </g>\r\n   <g id=\"patch_172\">\r\n    <path clip-path=\"url(#p5a8e9111bc)\" d=\"M 33.2875 169.570893 \r\nL 33.2875 169.570893 \r\nL 33.2875 169.397496 \r\nL 33.2875 169.397496 \r\nz\r\n\" style=\"fill:#1f77b4;\"/>\r\n   </g>\r\n   <g id=\"patch_173\">\r\n    <path clip-path=\"url(#p5a8e9111bc)\" d=\"M 33.2875 169.224099 \r\nL 115.279337 169.224099 \r\nL 115.279337 169.050702 \r\nL 33.2875 169.050702 \r\nz\r\n\" style=\"fill:#1f77b4;\"/>\r\n   </g>\r\n   <g id=\"patch_174\">\r\n    <path clip-path=\"url(#p5a8e9111bc)\" d=\"M 33.2875 168.877305 \r\nL 151.720153 168.877305 \r\nL 151.720153 168.703908 \r\nL 33.2875 168.703908 \r\nz\r\n\" style=\"fill:#1f77b4;\"/>\r\n   </g>\r\n   <g id=\"patch_175\">\r\n    <path clip-path=\"url(#p5a8e9111bc)\" d=\"M 33.2875 168.530511 \r\nL 33.2875 168.530511 \r\nL 33.2875 168.357113 \r\nL 33.2875 168.357113 \r\nz\r\n\" style=\"fill:#1f77b4;\"/>\r\n   </g>\r\n   <g id=\"patch_176\">\r\n    <path clip-path=\"url(#p5a8e9111bc)\" d=\"M 33.2875 168.183716 \r\nL 42.397704 168.183716 \r\nL 42.397704 168.010319 \r\nL 33.2875 168.010319 \r\nz\r\n\" style=\"fill:#1f77b4;\"/>\r\n   </g>\r\n   <g id=\"patch_177\">\r\n    <path clip-path=\"url(#p5a8e9111bc)\" d=\"M 33.2875 167.836922 \r\nL 69.728316 167.836922 \r\nL 69.728316 167.663525 \r\nL 33.2875 167.663525 \r\nz\r\n\" style=\"fill:#1f77b4;\"/>\r\n   </g>\r\n   <g id=\"patch_178\">\r\n    <path clip-path=\"url(#p5a8e9111bc)\" d=\"M 33.2875 167.490128 \r\nL 169.940561 167.490128 \r\nL 169.940561 167.316731 \r\nL 33.2875 167.316731 \r\nz\r\n\" style=\"fill:#1f77b4;\"/>\r\n   </g>\r\n   <g id=\"patch_179\">\r\n    <path clip-path=\"url(#p5a8e9111bc)\" d=\"M 33.2875 167.143334 \r\nL 188.160969 167.143334 \r\nL 188.160969 166.969936 \r\nL 33.2875 166.969936 \r\nz\r\n\" style=\"fill:#1f77b4;\"/>\r\n   </g>\r\n   <g id=\"patch_180\">\r\n    <path clip-path=\"url(#p5a8e9111bc)\" d=\"M 33.2875 166.796539 \r\nL 51.507908 166.796539 \r\nL 51.507908 166.623142 \r\nL 33.2875 166.623142 \r\nz\r\n\" style=\"fill:#1f77b4;\"/>\r\n   </g>\r\n   <g id=\"patch_181\">\r\n    <path clip-path=\"url(#p5a8e9111bc)\" d=\"M 33.2875 166.449745 \r\nL 206.381378 166.449745 \r\nL 206.381378 166.276348 \r\nL 33.2875 166.276348 \r\nz\r\n\" style=\"fill:#1f77b4;\"/>\r\n   </g>\r\n   <g id=\"patch_182\">\r\n    <path clip-path=\"url(#p5a8e9111bc)\" d=\"M 33.2875 166.102951 \r\nL 215.491582 166.102951 \r\nL 215.491582 165.929554 \r\nL 33.2875 165.929554 \r\nz\r\n\" style=\"fill:#1f77b4;\"/>\r\n   </g>\r\n   <g id=\"patch_183\">\r\n    <path clip-path=\"url(#p5a8e9111bc)\" d=\"M 33.2875 165.756157 \r\nL 160.830357 165.756157 \r\nL 160.830357 165.582759 \r\nL 33.2875 165.582759 \r\nz\r\n\" style=\"fill:#1f77b4;\"/>\r\n   </g>\r\n   <g id=\"patch_184\">\r\n    <path clip-path=\"url(#p5a8e9111bc)\" d=\"M 33.2875 165.409362 \r\nL 124.389541 165.409362 \r\nL 124.389541 165.235965 \r\nL 33.2875 165.235965 \r\nz\r\n\" style=\"fill:#1f77b4;\"/>\r\n   </g>\r\n   <g id=\"patch_185\">\r\n    <path clip-path=\"url(#p5a8e9111bc)\" d=\"M 33.2875 165.062568 \r\nL 160.830357 165.062568 \r\nL 160.830357 164.889171 \r\nL 33.2875 164.889171 \r\nz\r\n\" style=\"fill:#1f77b4;\"/>\r\n   </g>\r\n   <g id=\"patch_186\">\r\n    <path clip-path=\"url(#p5a8e9111bc)\" d=\"M 33.2875 164.715774 \r\nL 97.058929 164.715774 \r\nL 97.058929 164.542377 \r\nL 33.2875 164.542377 \r\nz\r\n\" style=\"fill:#1f77b4;\"/>\r\n   </g>\r\n   <g id=\"patch_187\">\r\n    <path clip-path=\"url(#p5a8e9111bc)\" d=\"M 33.2875 164.36898 \r\nL 206.381378 164.36898 \r\nL 206.381378 164.195582 \r\nL 33.2875 164.195582 \r\nz\r\n\" style=\"fill:#1f77b4;\"/>\r\n   </g>\r\n   <g id=\"patch_188\">\r\n    <path clip-path=\"url(#p5a8e9111bc)\" d=\"M 33.2875 164.022185 \r\nL 160.830357 164.022185 \r\nL 160.830357 163.848788 \r\nL 33.2875 163.848788 \r\nz\r\n\" style=\"fill:#1f77b4;\"/>\r\n   </g>\r\n   <g id=\"patch_189\">\r\n    <path clip-path=\"url(#p5a8e9111bc)\" d=\"M 33.2875 163.675391 \r\nL 106.169133 163.675391 \r\nL 106.169133 163.501994 \r\nL 33.2875 163.501994 \r\nz\r\n\" style=\"fill:#1f77b4;\"/>\r\n   </g>\r\n   <g id=\"patch_190\">\r\n    <path clip-path=\"url(#p5a8e9111bc)\" d=\"M 33.2875 163.328597 \r\nL 115.279337 163.328597 \r\nL 115.279337 163.1552 \r\nL 33.2875 163.1552 \r\nz\r\n\" style=\"fill:#1f77b4;\"/>\r\n   </g>\r\n   <g id=\"patch_191\">\r\n    <path clip-path=\"url(#p5a8e9111bc)\" d=\"M 33.2875 162.981802 \r\nL 69.728316 162.981802 \r\nL 69.728316 162.808405 \r\nL 33.2875 162.808405 \r\nz\r\n\" style=\"fill:#1f77b4;\"/>\r\n   </g>\r\n   <g id=\"patch_192\">\r\n    <path clip-path=\"url(#p5a8e9111bc)\" d=\"M 33.2875 162.635008 \r\nL 142.609949 162.635008 \r\nL 142.609949 162.461611 \r\nL 33.2875 162.461611 \r\nz\r\n\" style=\"fill:#1f77b4;\"/>\r\n   </g>\r\n   <g id=\"patch_193\">\r\n    <path clip-path=\"url(#p5a8e9111bc)\" d=\"M 33.2875 162.288214 \r\nL 160.830357 162.288214 \r\nL 160.830357 162.114817 \r\nL 33.2875 162.114817 \r\nz\r\n\" style=\"fill:#1f77b4;\"/>\r\n   </g>\r\n   <g id=\"patch_194\">\r\n    <path clip-path=\"url(#p5a8e9111bc)\" d=\"M 33.2875 161.94142 \r\nL 87.948724 161.94142 \r\nL 87.948724 161.768023 \r\nL 33.2875 161.768023 \r\nz\r\n\" style=\"fill:#1f77b4;\"/>\r\n   </g>\r\n   <g id=\"patch_195\">\r\n    <path clip-path=\"url(#p5a8e9111bc)\" d=\"M 33.2875 161.594625 \r\nL 33.2875 161.594625 \r\nL 33.2875 161.421228 \r\nL 33.2875 161.421228 \r\nz\r\n\" style=\"fill:#1f77b4;\"/>\r\n   </g>\r\n   <g id=\"patch_196\">\r\n    <path clip-path=\"url(#p5a8e9111bc)\" d=\"M 33.2875 161.247831 \r\nL 51.507908 161.247831 \r\nL 51.507908 161.074434 \r\nL 33.2875 161.074434 \r\nz\r\n\" style=\"fill:#1f77b4;\"/>\r\n   </g>\r\n   <g id=\"patch_197\">\r\n    <path clip-path=\"url(#p5a8e9111bc)\" d=\"M 33.2875 160.901037 \r\nL 69.728316 160.901037 \r\nL 69.728316 160.72764 \r\nL 33.2875 160.72764 \r\nz\r\n\" style=\"fill:#1f77b4;\"/>\r\n   </g>\r\n   <g id=\"patch_198\">\r\n    <path clip-path=\"url(#p5a8e9111bc)\" d=\"M 33.2875 160.554243 \r\nL 115.279337 160.554243 \r\nL 115.279337 160.380846 \r\nL 33.2875 160.380846 \r\nz\r\n\" style=\"fill:#1f77b4;\"/>\r\n   </g>\r\n   <g id=\"patch_199\">\r\n    <path clip-path=\"url(#p5a8e9111bc)\" d=\"M 33.2875 160.207448 \r\nL 115.279337 160.207448 \r\nL 115.279337 160.034051 \r\nL 33.2875 160.034051 \r\nz\r\n\" style=\"fill:#1f77b4;\"/>\r\n   </g>\r\n   <g id=\"patch_200\">\r\n    <path clip-path=\"url(#p5a8e9111bc)\" d=\"M 33.2875 159.860654 \r\nL 69.728316 159.860654 \r\nL 69.728316 159.687257 \r\nL 33.2875 159.687257 \r\nz\r\n\" style=\"fill:#1f77b4;\"/>\r\n   </g>\r\n   <g id=\"patch_201\">\r\n    <path clip-path=\"url(#p5a8e9111bc)\" d=\"M 33.2875 159.51386 \r\nL 33.2875 159.51386 \r\nL 33.2875 159.340463 \r\nL 33.2875 159.340463 \r\nz\r\n\" style=\"fill:#1f77b4;\"/>\r\n   </g>\r\n   <g id=\"patch_202\">\r\n    <path clip-path=\"url(#p5a8e9111bc)\" d=\"M 33.2875 159.167066 \r\nL 42.397704 159.167066 \r\nL 42.397704 158.993669 \r\nL 33.2875 158.993669 \r\nz\r\n\" style=\"fill:#1f77b4;\"/>\r\n   </g>\r\n   <g id=\"patch_203\">\r\n    <path clip-path=\"url(#p5a8e9111bc)\" d=\"M 33.2875 158.820271 \r\nL 215.491582 158.820271 \r\nL 215.491582 158.646874 \r\nL 33.2875 158.646874 \r\nz\r\n\" style=\"fill:#1f77b4;\"/>\r\n   </g>\r\n   <g id=\"patch_204\">\r\n    <path clip-path=\"url(#p5a8e9111bc)\" d=\"M 33.2875 158.473477 \r\nL 42.397704 158.473477 \r\nL 42.397704 158.30008 \r\nL 33.2875 158.30008 \r\nz\r\n\" style=\"fill:#1f77b4;\"/>\r\n   </g>\r\n   <g id=\"patch_205\">\r\n    <path clip-path=\"url(#p5a8e9111bc)\" d=\"M 33.2875 158.126683 \r\nL 87.948724 158.126683 \r\nL 87.948724 157.953286 \r\nL 33.2875 157.953286 \r\nz\r\n\" style=\"fill:#1f77b4;\"/>\r\n   </g>\r\n   <g id=\"patch_206\">\r\n    <path clip-path=\"url(#p5a8e9111bc)\" d=\"M 33.2875 157.779889 \r\nL 78.83852 157.779889 \r\nL 78.83852 157.606491 \r\nL 33.2875 157.606491 \r\nz\r\n\" style=\"fill:#1f77b4;\"/>\r\n   </g>\r\n   <g id=\"patch_207\">\r\n    <path clip-path=\"url(#p5a8e9111bc)\" d=\"M 33.2875 157.433094 \r\nL 33.2875 157.433094 \r\nL 33.2875 157.259697 \r\nL 33.2875 157.259697 \r\nz\r\n\" style=\"fill:#1f77b4;\"/>\r\n   </g>\r\n   <g id=\"patch_208\">\r\n    <path clip-path=\"url(#p5a8e9111bc)\" d=\"M 33.2875 157.0863 \r\nL 115.279337 157.0863 \r\nL 115.279337 156.912903 \r\nL 33.2875 156.912903 \r\nz\r\n\" style=\"fill:#1f77b4;\"/>\r\n   </g>\r\n   <g id=\"patch_209\">\r\n    <path clip-path=\"url(#p5a8e9111bc)\" d=\"M 33.2875 156.739506 \r\nL 78.83852 156.739506 \r\nL 78.83852 156.566109 \r\nL 33.2875 156.566109 \r\nz\r\n\" style=\"fill:#1f77b4;\"/>\r\n   </g>\r\n   <g id=\"patch_210\">\r\n    <path clip-path=\"url(#p5a8e9111bc)\" d=\"M 33.2875 156.392712 \r\nL 160.830357 156.392712 \r\nL 160.830357 156.219314 \r\nL 33.2875 156.219314 \r\nz\r\n\" style=\"fill:#1f77b4;\"/>\r\n   </g>\r\n   <g id=\"patch_211\">\r\n    <path clip-path=\"url(#p5a8e9111bc)\" d=\"M 33.2875 156.045917 \r\nL 160.830357 156.045917 \r\nL 160.830357 155.87252 \r\nL 33.2875 155.87252 \r\nz\r\n\" style=\"fill:#1f77b4;\"/>\r\n   </g>\r\n   <g id=\"patch_212\">\r\n    <path clip-path=\"url(#p5a8e9111bc)\" d=\"M 33.2875 155.699123 \r\nL 51.507908 155.699123 \r\nL 51.507908 155.525726 \r\nL 33.2875 155.525726 \r\nz\r\n\" style=\"fill:#1f77b4;\"/>\r\n   </g>\r\n   <g id=\"patch_213\">\r\n    <path clip-path=\"url(#p5a8e9111bc)\" d=\"M 33.2875 155.352329 \r\nL 97.058929 155.352329 \r\nL 97.058929 155.178932 \r\nL 33.2875 155.178932 \r\nz\r\n\" style=\"fill:#1f77b4;\"/>\r\n   </g>\r\n   <g id=\"patch_214\">\r\n    <path clip-path=\"url(#p5a8e9111bc)\" d=\"M 33.2875 155.005535 \r\nL 60.618112 155.005535 \r\nL 60.618112 154.832137 \r\nL 33.2875 154.832137 \r\nz\r\n\" style=\"fill:#1f77b4;\"/>\r\n   </g>\r\n   <g id=\"patch_215\">\r\n    <path clip-path=\"url(#p5a8e9111bc)\" d=\"M 33.2875 154.65874 \r\nL 78.83852 154.65874 \r\nL 78.83852 154.485343 \r\nL 33.2875 154.485343 \r\nz\r\n\" style=\"fill:#1f77b4;\"/>\r\n   </g>\r\n   <g id=\"patch_216\">\r\n    <path clip-path=\"url(#p5a8e9111bc)\" d=\"M 33.2875 154.311946 \r\nL 115.279337 154.311946 \r\nL 115.279337 154.138549 \r\nL 33.2875 154.138549 \r\nz\r\n\" style=\"fill:#1f77b4;\"/>\r\n   </g>\r\n   <g id=\"patch_217\">\r\n    <path clip-path=\"url(#p5a8e9111bc)\" d=\"M 33.2875 153.965152 \r\nL 51.507908 153.965152 \r\nL 51.507908 153.791755 \r\nL 33.2875 153.791755 \r\nz\r\n\" style=\"fill:#1f77b4;\"/>\r\n   </g>\r\n   <g id=\"patch_218\">\r\n    <path clip-path=\"url(#p5a8e9111bc)\" d=\"M 33.2875 153.618358 \r\nL 97.058929 153.618358 \r\nL 97.058929 153.44496 \r\nL 33.2875 153.44496 \r\nz\r\n\" style=\"fill:#1f77b4;\"/>\r\n   </g>\r\n   <g id=\"patch_219\">\r\n    <path clip-path=\"url(#p5a8e9111bc)\" d=\"M 33.2875 153.271563 \r\nL 87.948724 153.271563 \r\nL 87.948724 153.098166 \r\nL 33.2875 153.098166 \r\nz\r\n\" style=\"fill:#1f77b4;\"/>\r\n   </g>\r\n   <g id=\"patch_220\">\r\n    <path clip-path=\"url(#p5a8e9111bc)\" d=\"M 33.2875 152.924769 \r\nL 97.058929 152.924769 \r\nL 97.058929 152.751372 \r\nL 33.2875 152.751372 \r\nz\r\n\" style=\"fill:#1f77b4;\"/>\r\n   </g>\r\n   <g id=\"patch_221\">\r\n    <path clip-path=\"url(#p5a8e9111bc)\" d=\"M 33.2875 152.577975 \r\nL 42.397704 152.577975 \r\nL 42.397704 152.404578 \r\nL 33.2875 152.404578 \r\nz\r\n\" style=\"fill:#1f77b4;\"/>\r\n   </g>\r\n   <g id=\"patch_222\">\r\n    <path clip-path=\"url(#p5a8e9111bc)\" d=\"M 33.2875 152.23118 \r\nL 124.389541 152.23118 \r\nL 124.389541 152.057783 \r\nL 33.2875 152.057783 \r\nz\r\n\" style=\"fill:#1f77b4;\"/>\r\n   </g>\r\n   <g id=\"patch_223\">\r\n    <path clip-path=\"url(#p5a8e9111bc)\" d=\"M 33.2875 151.884386 \r\nL 51.507908 151.884386 \r\nL 51.507908 151.710989 \r\nL 33.2875 151.710989 \r\nz\r\n\" style=\"fill:#1f77b4;\"/>\r\n   </g>\r\n   <g id=\"patch_224\">\r\n    <path clip-path=\"url(#p5a8e9111bc)\" d=\"M 33.2875 151.537592 \r\nL 42.397704 151.537592 \r\nL 42.397704 151.364195 \r\nL 33.2875 151.364195 \r\nz\r\n\" style=\"fill:#1f77b4;\"/>\r\n   </g>\r\n   <g id=\"patch_225\">\r\n    <path clip-path=\"url(#p5a8e9111bc)\" d=\"M 33.2875 151.190798 \r\nL 60.618112 151.190798 \r\nL 60.618112 151.017401 \r\nL 33.2875 151.017401 \r\nz\r\n\" style=\"fill:#1f77b4;\"/>\r\n   </g>\r\n   <g id=\"patch_226\">\r\n    <path clip-path=\"url(#p5a8e9111bc)\" d=\"M 33.2875 150.844003 \r\nL 42.397704 150.844003 \r\nL 42.397704 150.670606 \r\nL 33.2875 150.670606 \r\nz\r\n\" style=\"fill:#1f77b4;\"/>\r\n   </g>\r\n   <g id=\"patch_227\">\r\n    <path clip-path=\"url(#p5a8e9111bc)\" d=\"M 33.2875 150.497209 \r\nL 188.160969 150.497209 \r\nL 188.160969 150.323812 \r\nL 33.2875 150.323812 \r\nz\r\n\" style=\"fill:#1f77b4;\"/>\r\n   </g>\r\n   <g id=\"patch_228\">\r\n    <path clip-path=\"url(#p5a8e9111bc)\" d=\"M 33.2875 150.150415 \r\nL 42.397704 150.150415 \r\nL 42.397704 149.977018 \r\nL 33.2875 149.977018 \r\nz\r\n\" style=\"fill:#1f77b4;\"/>\r\n   </g>\r\n   <g id=\"patch_229\">\r\n    <path clip-path=\"url(#p5a8e9111bc)\" d=\"M 33.2875 149.803621 \r\nL 42.397704 149.803621 \r\nL 42.397704 149.630224 \r\nL 33.2875 149.630224 \r\nz\r\n\" style=\"fill:#1f77b4;\"/>\r\n   </g>\r\n   <g id=\"patch_230\">\r\n    <path clip-path=\"url(#p5a8e9111bc)\" d=\"M 33.2875 149.456826 \r\nL 33.2875 149.456826 \r\nL 33.2875 149.283429 \r\nL 33.2875 149.283429 \r\nz\r\n\" style=\"fill:#1f77b4;\"/>\r\n   </g>\r\n   <g id=\"patch_231\">\r\n    <path clip-path=\"url(#p5a8e9111bc)\" d=\"M 33.2875 149.110032 \r\nL 42.397704 149.110032 \r\nL 42.397704 148.936635 \r\nL 33.2875 148.936635 \r\nz\r\n\" style=\"fill:#1f77b4;\"/>\r\n   </g>\r\n   <g id=\"patch_232\">\r\n    <path clip-path=\"url(#p5a8e9111bc)\" d=\"M 33.2875 148.763238 \r\nL 115.279337 148.763238 \r\nL 115.279337 148.589841 \r\nL 33.2875 148.589841 \r\nz\r\n\" style=\"fill:#1f77b4;\"/>\r\n   </g>\r\n   <g id=\"patch_233\">\r\n    <path clip-path=\"url(#p5a8e9111bc)\" d=\"M 33.2875 148.416444 \r\nL 87.948724 148.416444 \r\nL 87.948724 148.243047 \r\nL 33.2875 148.243047 \r\nz\r\n\" style=\"fill:#1f77b4;\"/>\r\n   </g>\r\n   <g id=\"patch_234\">\r\n    <path clip-path=\"url(#p5a8e9111bc)\" d=\"M 33.2875 148.069649 \r\nL 78.83852 148.069649 \r\nL 78.83852 147.896252 \r\nL 33.2875 147.896252 \r\nz\r\n\" style=\"fill:#1f77b4;\"/>\r\n   </g>\r\n   <g id=\"patch_235\">\r\n    <path clip-path=\"url(#p5a8e9111bc)\" d=\"M 33.2875 147.722855 \r\nL 97.058929 147.722855 \r\nL 97.058929 147.549458 \r\nL 33.2875 147.549458 \r\nz\r\n\" style=\"fill:#1f77b4;\"/>\r\n   </g>\r\n   <g id=\"patch_236\">\r\n    <path clip-path=\"url(#p5a8e9111bc)\" d=\"M 33.2875 147.376061 \r\nL 33.2875 147.376061 \r\nL 33.2875 147.202664 \r\nL 33.2875 147.202664 \r\nz\r\n\" style=\"fill:#1f77b4;\"/>\r\n   </g>\r\n   <g id=\"patch_237\">\r\n    <path clip-path=\"url(#p5a8e9111bc)\" d=\"M 33.2875 147.029267 \r\nL 33.2875 147.029267 \r\nL 33.2875 146.855869 \r\nL 33.2875 146.855869 \r\nz\r\n\" style=\"fill:#1f77b4;\"/>\r\n   </g>\r\n   <g id=\"patch_238\">\r\n    <path clip-path=\"url(#p5a8e9111bc)\" d=\"M 33.2875 146.682472 \r\nL 115.279337 146.682472 \r\nL 115.279337 146.509075 \r\nL 33.2875 146.509075 \r\nz\r\n\" style=\"fill:#1f77b4;\"/>\r\n   </g>\r\n   <g id=\"patch_239\">\r\n    <path clip-path=\"url(#p5a8e9111bc)\" d=\"M 33.2875 146.335678 \r\nL 69.728316 146.335678 \r\nL 69.728316 146.162281 \r\nL 33.2875 146.162281 \r\nz\r\n\" style=\"fill:#1f77b4;\"/>\r\n   </g>\r\n   <g id=\"patch_240\">\r\n    <path clip-path=\"url(#p5a8e9111bc)\" d=\"M 33.2875 145.988884 \r\nL 151.720153 145.988884 \r\nL 151.720153 145.815487 \r\nL 33.2875 145.815487 \r\nz\r\n\" style=\"fill:#1f77b4;\"/>\r\n   </g>\r\n   <g id=\"patch_241\">\r\n    <path clip-path=\"url(#p5a8e9111bc)\" d=\"M 33.2875 145.64209 \r\nL 60.618112 145.64209 \r\nL 60.618112 145.468692 \r\nL 33.2875 145.468692 \r\nz\r\n\" style=\"fill:#1f77b4;\"/>\r\n   </g>\r\n   <g id=\"patch_242\">\r\n    <path clip-path=\"url(#p5a8e9111bc)\" d=\"M 33.2875 145.295295 \r\nL 33.2875 145.295295 \r\nL 33.2875 145.121898 \r\nL 33.2875 145.121898 \r\nz\r\n\" style=\"fill:#1f77b4;\"/>\r\n   </g>\r\n   <g id=\"patch_243\">\r\n    <path clip-path=\"url(#p5a8e9111bc)\" d=\"M 33.2875 144.948501 \r\nL 124.389541 144.948501 \r\nL 124.389541 144.775104 \r\nL 33.2875 144.775104 \r\nz\r\n\" style=\"fill:#1f77b4;\"/>\r\n   </g>\r\n   <g id=\"patch_244\">\r\n    <path clip-path=\"url(#p5a8e9111bc)\" d=\"M 33.2875 144.601707 \r\nL 115.279337 144.601707 \r\nL 115.279337 144.42831 \r\nL 33.2875 144.42831 \r\nz\r\n\" style=\"fill:#1f77b4;\"/>\r\n   </g>\r\n   <g id=\"patch_245\">\r\n    <path clip-path=\"url(#p5a8e9111bc)\" d=\"M 33.2875 144.254913 \r\nL 124.389541 144.254913 \r\nL 124.389541 144.081515 \r\nL 33.2875 144.081515 \r\nz\r\n\" style=\"fill:#1f77b4;\"/>\r\n   </g>\r\n   <g id=\"patch_246\">\r\n    <path clip-path=\"url(#p5a8e9111bc)\" d=\"M 33.2875 143.908118 \r\nL 60.618112 143.908118 \r\nL 60.618112 143.734721 \r\nL 33.2875 143.734721 \r\nz\r\n\" style=\"fill:#1f77b4;\"/>\r\n   </g>\r\n   <g id=\"patch_247\">\r\n    <path clip-path=\"url(#p5a8e9111bc)\" d=\"M 33.2875 143.561324 \r\nL 60.618112 143.561324 \r\nL 60.618112 143.387927 \r\nL 33.2875 143.387927 \r\nz\r\n\" style=\"fill:#1f77b4;\"/>\r\n   </g>\r\n   <g id=\"patch_248\">\r\n    <path clip-path=\"url(#p5a8e9111bc)\" d=\"M 33.2875 143.21453 \r\nL 60.618112 143.21453 \r\nL 60.618112 143.041133 \r\nL 33.2875 143.041133 \r\nz\r\n\" style=\"fill:#1f77b4;\"/>\r\n   </g>\r\n   <g id=\"patch_249\">\r\n    <path clip-path=\"url(#p5a8e9111bc)\" d=\"M 33.2875 142.867735 \r\nL 69.728316 142.867735 \r\nL 69.728316 142.694338 \r\nL 33.2875 142.694338 \r\nz\r\n\" style=\"fill:#1f77b4;\"/>\r\n   </g>\r\n   <g id=\"patch_250\">\r\n    <path clip-path=\"url(#p5a8e9111bc)\" d=\"M 33.2875 142.520941 \r\nL 87.948724 142.520941 \r\nL 87.948724 142.347544 \r\nL 33.2875 142.347544 \r\nz\r\n\" style=\"fill:#1f77b4;\"/>\r\n   </g>\r\n   <g id=\"patch_251\">\r\n    <path clip-path=\"url(#p5a8e9111bc)\" d=\"M 33.2875 142.174147 \r\nL 42.397704 142.174147 \r\nL 42.397704 142.00075 \r\nL 33.2875 142.00075 \r\nz\r\n\" style=\"fill:#1f77b4;\"/>\r\n   </g>\r\n   <g id=\"patch_252\">\r\n    <path clip-path=\"url(#p5a8e9111bc)\" d=\"M 33.2875 141.827353 \r\nL 42.397704 141.827353 \r\nL 42.397704 141.653956 \r\nL 33.2875 141.653956 \r\nz\r\n\" style=\"fill:#1f77b4;\"/>\r\n   </g>\r\n   <g id=\"patch_253\">\r\n    <path clip-path=\"url(#p5a8e9111bc)\" d=\"M 33.2875 141.480558 \r\nL 78.83852 141.480558 \r\nL 78.83852 141.307161 \r\nL 33.2875 141.307161 \r\nz\r\n\" style=\"fill:#1f77b4;\"/>\r\n   </g>\r\n   <g id=\"patch_254\">\r\n    <path clip-path=\"url(#p5a8e9111bc)\" d=\"M 33.2875 141.133764 \r\nL 78.83852 141.133764 \r\nL 78.83852 140.960367 \r\nL 33.2875 140.960367 \r\nz\r\n\" style=\"fill:#1f77b4;\"/>\r\n   </g>\r\n   <g id=\"patch_255\">\r\n    <path clip-path=\"url(#p5a8e9111bc)\" d=\"M 33.2875 140.78697 \r\nL 87.948724 140.78697 \r\nL 87.948724 140.613573 \r\nL 33.2875 140.613573 \r\nz\r\n\" style=\"fill:#1f77b4;\"/>\r\n   </g>\r\n   <g id=\"patch_256\">\r\n    <path clip-path=\"url(#p5a8e9111bc)\" d=\"M 33.2875 140.440176 \r\nL 60.618112 140.440176 \r\nL 60.618112 140.266779 \r\nL 33.2875 140.266779 \r\nz\r\n\" style=\"fill:#1f77b4;\"/>\r\n   </g>\r\n   <g id=\"patch_257\">\r\n    <path clip-path=\"url(#p5a8e9111bc)\" d=\"M 33.2875 140.093381 \r\nL 60.618112 140.093381 \r\nL 60.618112 139.919984 \r\nL 33.2875 139.919984 \r\nz\r\n\" style=\"fill:#1f77b4;\"/>\r\n   </g>\r\n   <g id=\"patch_258\">\r\n    <path clip-path=\"url(#p5a8e9111bc)\" d=\"M 33.2875 139.746587 \r\nL 78.83852 139.746587 \r\nL 78.83852 139.57319 \r\nL 33.2875 139.57319 \r\nz\r\n\" style=\"fill:#1f77b4;\"/>\r\n   </g>\r\n   <g id=\"patch_259\">\r\n    <path clip-path=\"url(#p5a8e9111bc)\" d=\"M 33.2875 139.399793 \r\nL 169.940561 139.399793 \r\nL 169.940561 139.226396 \r\nL 33.2875 139.226396 \r\nz\r\n\" style=\"fill:#1f77b4;\"/>\r\n   </g>\r\n   <g id=\"patch_260\">\r\n    <path clip-path=\"url(#p5a8e9111bc)\" d=\"M 33.2875 139.052999 \r\nL 206.381378 139.052999 \r\nL 206.381378 138.879602 \r\nL 33.2875 138.879602 \r\nz\r\n\" style=\"fill:#1f77b4;\"/>\r\n   </g>\r\n   <g id=\"patch_261\">\r\n    <path clip-path=\"url(#p5a8e9111bc)\" d=\"M 33.2875 138.706204 \r\nL 42.397704 138.706204 \r\nL 42.397704 138.532807 \r\nL 33.2875 138.532807 \r\nz\r\n\" style=\"fill:#1f77b4;\"/>\r\n   </g>\r\n   <g id=\"patch_262\">\r\n    <path clip-path=\"url(#p5a8e9111bc)\" d=\"M 33.2875 138.35941 \r\nL 51.507908 138.35941 \r\nL 51.507908 138.186013 \r\nL 33.2875 138.186013 \r\nz\r\n\" style=\"fill:#1f77b4;\"/>\r\n   </g>\r\n   <g id=\"patch_263\">\r\n    <path clip-path=\"url(#p5a8e9111bc)\" d=\"M 33.2875 138.012616 \r\nL 78.83852 138.012616 \r\nL 78.83852 137.839219 \r\nL 33.2875 137.839219 \r\nz\r\n\" style=\"fill:#1f77b4;\"/>\r\n   </g>\r\n   <g id=\"patch_264\">\r\n    <path clip-path=\"url(#p5a8e9111bc)\" d=\"M 33.2875 137.665822 \r\nL 87.948724 137.665822 \r\nL 87.948724 137.492424 \r\nL 33.2875 137.492424 \r\nz\r\n\" style=\"fill:#1f77b4;\"/>\r\n   </g>\r\n   <g id=\"patch_265\">\r\n    <path clip-path=\"url(#p5a8e9111bc)\" d=\"M 33.2875 137.319027 \r\nL 179.050765 137.319027 \r\nL 179.050765 137.14563 \r\nL 33.2875 137.14563 \r\nz\r\n\" style=\"fill:#1f77b4;\"/>\r\n   </g>\r\n   <g id=\"patch_266\">\r\n    <path clip-path=\"url(#p5a8e9111bc)\" d=\"M 33.2875 136.972233 \r\nL 78.83852 136.972233 \r\nL 78.83852 136.798836 \r\nL 33.2875 136.798836 \r\nz\r\n\" style=\"fill:#1f77b4;\"/>\r\n   </g>\r\n   <g id=\"patch_267\">\r\n    <path clip-path=\"url(#p5a8e9111bc)\" d=\"M 33.2875 136.625439 \r\nL 142.609949 136.625439 \r\nL 142.609949 136.452042 \r\nL 33.2875 136.452042 \r\nz\r\n\" style=\"fill:#1f77b4;\"/>\r\n   </g>\r\n   <g id=\"patch_268\">\r\n    <path clip-path=\"url(#p5a8e9111bc)\" d=\"M 33.2875 136.278645 \r\nL 60.618112 136.278645 \r\nL 60.618112 136.105247 \r\nL 33.2875 136.105247 \r\nz\r\n\" style=\"fill:#1f77b4;\"/>\r\n   </g>\r\n   <g id=\"patch_269\">\r\n    <path clip-path=\"url(#p5a8e9111bc)\" d=\"M 33.2875 135.93185 \r\nL 115.279337 135.93185 \r\nL 115.279337 135.758453 \r\nL 33.2875 135.758453 \r\nz\r\n\" style=\"fill:#1f77b4;\"/>\r\n   </g>\r\n   <g id=\"patch_270\">\r\n    <path clip-path=\"url(#p5a8e9111bc)\" d=\"M 33.2875 135.585056 \r\nL 78.83852 135.585056 \r\nL 78.83852 135.411659 \r\nL 33.2875 135.411659 \r\nz\r\n\" style=\"fill:#1f77b4;\"/>\r\n   </g>\r\n   <g id=\"patch_271\">\r\n    <path clip-path=\"url(#p5a8e9111bc)\" d=\"M 33.2875 135.238262 \r\nL 60.618112 135.238262 \r\nL 60.618112 135.064865 \r\nL 33.2875 135.064865 \r\nz\r\n\" style=\"fill:#1f77b4;\"/>\r\n   </g>\r\n   <g id=\"patch_272\">\r\n    <path clip-path=\"url(#p5a8e9111bc)\" d=\"M 33.2875 134.891468 \r\nL 33.2875 134.891468 \r\nL 33.2875 134.71807 \r\nL 33.2875 134.71807 \r\nz\r\n\" style=\"fill:#1f77b4;\"/>\r\n   </g>\r\n   <g id=\"patch_273\">\r\n    <path clip-path=\"url(#p5a8e9111bc)\" d=\"M 33.2875 134.544673 \r\nL 142.609949 134.544673 \r\nL 142.609949 134.371276 \r\nL 33.2875 134.371276 \r\nz\r\n\" style=\"fill:#1f77b4;\"/>\r\n   </g>\r\n   <g id=\"patch_274\">\r\n    <path clip-path=\"url(#p5a8e9111bc)\" d=\"M 33.2875 134.197879 \r\nL 133.499745 134.197879 \r\nL 133.499745 134.024482 \r\nL 33.2875 134.024482 \r\nz\r\n\" style=\"fill:#1f77b4;\"/>\r\n   </g>\r\n   <g id=\"patch_275\">\r\n    <path clip-path=\"url(#p5a8e9111bc)\" d=\"M 33.2875 133.851085 \r\nL 33.2875 133.851085 \r\nL 33.2875 133.677688 \r\nL 33.2875 133.677688 \r\nz\r\n\" style=\"fill:#1f77b4;\"/>\r\n   </g>\r\n   <g id=\"patch_276\">\r\n    <path clip-path=\"url(#p5a8e9111bc)\" d=\"M 33.2875 133.504291 \r\nL 42.397704 133.504291 \r\nL 42.397704 133.330893 \r\nL 33.2875 133.330893 \r\nz\r\n\" style=\"fill:#1f77b4;\"/>\r\n   </g>\r\n   <g id=\"patch_277\">\r\n    <path clip-path=\"url(#p5a8e9111bc)\" d=\"M 33.2875 133.157496 \r\nL 51.507908 133.157496 \r\nL 51.507908 132.984099 \r\nL 33.2875 132.984099 \r\nz\r\n\" style=\"fill:#1f77b4;\"/>\r\n   </g>\r\n   <g id=\"patch_278\">\r\n    <path clip-path=\"url(#p5a8e9111bc)\" d=\"M 33.2875 132.810702 \r\nL 87.948724 132.810702 \r\nL 87.948724 132.637305 \r\nL 33.2875 132.637305 \r\nz\r\n\" style=\"fill:#1f77b4;\"/>\r\n   </g>\r\n   <g id=\"patch_279\">\r\n    <path clip-path=\"url(#p5a8e9111bc)\" d=\"M 33.2875 132.463908 \r\nL 51.507908 132.463908 \r\nL 51.507908 132.290511 \r\nL 33.2875 132.290511 \r\nz\r\n\" style=\"fill:#1f77b4;\"/>\r\n   </g>\r\n   <g id=\"patch_280\">\r\n    <path clip-path=\"url(#p5a8e9111bc)\" d=\"M 33.2875 132.117113 \r\nL 33.2875 132.117113 \r\nL 33.2875 131.943716 \r\nL 33.2875 131.943716 \r\nz\r\n\" style=\"fill:#1f77b4;\"/>\r\n   </g>\r\n   <g id=\"patch_281\">\r\n    <path clip-path=\"url(#p5a8e9111bc)\" d=\"M 33.2875 131.770319 \r\nL 51.507908 131.770319 \r\nL 51.507908 131.596922 \r\nL 33.2875 131.596922 \r\nz\r\n\" style=\"fill:#1f77b4;\"/>\r\n   </g>\r\n   <g id=\"patch_282\">\r\n    <path clip-path=\"url(#p5a8e9111bc)\" d=\"M 33.2875 131.423525 \r\nL 160.830357 131.423525 \r\nL 160.830357 131.250128 \r\nL 33.2875 131.250128 \r\nz\r\n\" style=\"fill:#1f77b4;\"/>\r\n   </g>\r\n   <g id=\"patch_283\">\r\n    <path clip-path=\"url(#p5a8e9111bc)\" d=\"M 33.2875 131.076731 \r\nL 42.397704 131.076731 \r\nL 42.397704 130.903334 \r\nL 33.2875 130.903334 \r\nz\r\n\" style=\"fill:#1f77b4;\"/>\r\n   </g>\r\n   <g id=\"patch_284\">\r\n    <path clip-path=\"url(#p5a8e9111bc)\" d=\"M 33.2875 130.729936 \r\nL 33.2875 130.729936 \r\nL 33.2875 130.556539 \r\nL 33.2875 130.556539 \r\nz\r\n\" style=\"fill:#1f77b4;\"/>\r\n   </g>\r\n   <g id=\"patch_285\">\r\n    <path clip-path=\"url(#p5a8e9111bc)\" d=\"M 33.2875 130.383142 \r\nL 69.728316 130.383142 \r\nL 69.728316 130.209745 \r\nL 33.2875 130.209745 \r\nz\r\n\" style=\"fill:#1f77b4;\"/>\r\n   </g>\r\n   <g id=\"patch_286\">\r\n    <path clip-path=\"url(#p5a8e9111bc)\" d=\"M 33.2875 130.036348 \r\nL 78.83852 130.036348 \r\nL 78.83852 129.862951 \r\nL 33.2875 129.862951 \r\nz\r\n\" style=\"fill:#1f77b4;\"/>\r\n   </g>\r\n   <g id=\"patch_287\">\r\n    <path clip-path=\"url(#p5a8e9111bc)\" d=\"M 33.2875 129.689554 \r\nL 87.948724 129.689554 \r\nL 87.948724 129.516157 \r\nL 33.2875 129.516157 \r\nz\r\n\" style=\"fill:#1f77b4;\"/>\r\n   </g>\r\n   <g id=\"patch_288\">\r\n    <path clip-path=\"url(#p5a8e9111bc)\" d=\"M 33.2875 129.342759 \r\nL 51.507908 129.342759 \r\nL 51.507908 129.169362 \r\nL 33.2875 129.169362 \r\nz\r\n\" style=\"fill:#1f77b4;\"/>\r\n   </g>\r\n   <g id=\"patch_289\">\r\n    <path clip-path=\"url(#p5a8e9111bc)\" d=\"M 33.2875 128.995965 \r\nL 33.2875 128.995965 \r\nL 33.2875 128.822568 \r\nL 33.2875 128.822568 \r\nz\r\n\" style=\"fill:#1f77b4;\"/>\r\n   </g>\r\n   <g id=\"patch_290\">\r\n    <path clip-path=\"url(#p5a8e9111bc)\" d=\"M 33.2875 128.649171 \r\nL 87.948724 128.649171 \r\nL 87.948724 128.475774 \r\nL 33.2875 128.475774 \r\nz\r\n\" style=\"fill:#1f77b4;\"/>\r\n   </g>\r\n   <g id=\"patch_291\">\r\n    <path clip-path=\"url(#p5a8e9111bc)\" d=\"M 33.2875 128.302377 \r\nL 115.279337 128.302377 \r\nL 115.279337 128.12898 \r\nL 33.2875 128.12898 \r\nz\r\n\" style=\"fill:#1f77b4;\"/>\r\n   </g>\r\n   <g id=\"patch_292\">\r\n    <path clip-path=\"url(#p5a8e9111bc)\" d=\"M 33.2875 127.955582 \r\nL 106.169133 127.955582 \r\nL 106.169133 127.782185 \r\nL 33.2875 127.782185 \r\nz\r\n\" style=\"fill:#1f77b4;\"/>\r\n   </g>\r\n   <g id=\"patch_293\">\r\n    <path clip-path=\"url(#p5a8e9111bc)\" d=\"M 33.2875 127.608788 \r\nL 60.618112 127.608788 \r\nL 60.618112 127.435391 \r\nL 33.2875 127.435391 \r\nz\r\n\" style=\"fill:#1f77b4;\"/>\r\n   </g>\r\n   <g id=\"patch_294\">\r\n    <path clip-path=\"url(#p5a8e9111bc)\" d=\"M 33.2875 127.261994 \r\nL 160.830357 127.261994 \r\nL 160.830357 127.088597 \r\nL 33.2875 127.088597 \r\nz\r\n\" style=\"fill:#1f77b4;\"/>\r\n   </g>\r\n   <g id=\"patch_295\">\r\n    <path clip-path=\"url(#p5a8e9111bc)\" d=\"M 33.2875 126.9152 \r\nL 78.83852 126.9152 \r\nL 78.83852 126.741802 \r\nL 33.2875 126.741802 \r\nz\r\n\" style=\"fill:#1f77b4;\"/>\r\n   </g>\r\n   <g id=\"patch_296\">\r\n    <path clip-path=\"url(#p5a8e9111bc)\" d=\"M 33.2875 126.568405 \r\nL 87.948724 126.568405 \r\nL 87.948724 126.395008 \r\nL 33.2875 126.395008 \r\nz\r\n\" style=\"fill:#1f77b4;\"/>\r\n   </g>\r\n   <g id=\"patch_297\">\r\n    <path clip-path=\"url(#p5a8e9111bc)\" d=\"M 33.2875 126.221611 \r\nL 206.381378 126.221611 \r\nL 206.381378 126.048214 \r\nL 33.2875 126.048214 \r\nz\r\n\" style=\"fill:#1f77b4;\"/>\r\n   </g>\r\n   <g id=\"patch_298\">\r\n    <path clip-path=\"url(#p5a8e9111bc)\" d=\"M 33.2875 125.874817 \r\nL 69.728316 125.874817 \r\nL 69.728316 125.70142 \r\nL 33.2875 125.70142 \r\nz\r\n\" style=\"fill:#1f77b4;\"/>\r\n   </g>\r\n   <g id=\"patch_299\">\r\n    <path clip-path=\"url(#p5a8e9111bc)\" d=\"M 33.2875 125.528023 \r\nL 51.507908 125.528023 \r\nL 51.507908 125.354625 \r\nL 33.2875 125.354625 \r\nz\r\n\" style=\"fill:#1f77b4;\"/>\r\n   </g>\r\n   <g id=\"patch_300\">\r\n    <path clip-path=\"url(#p5a8e9111bc)\" d=\"M 33.2875 125.181228 \r\nL 133.499745 125.181228 \r\nL 133.499745 125.007831 \r\nL 33.2875 125.007831 \r\nz\r\n\" style=\"fill:#1f77b4;\"/>\r\n   </g>\r\n   <g id=\"patch_301\">\r\n    <path clip-path=\"url(#p5a8e9111bc)\" d=\"M 33.2875 124.834434 \r\nL 42.397704 124.834434 \r\nL 42.397704 124.661037 \r\nL 33.2875 124.661037 \r\nz\r\n\" style=\"fill:#1f77b4;\"/>\r\n   </g>\r\n   <g id=\"patch_302\">\r\n    <path clip-path=\"url(#p5a8e9111bc)\" d=\"M 33.2875 124.48764 \r\nL 78.83852 124.48764 \r\nL 78.83852 124.314243 \r\nL 33.2875 124.314243 \r\nz\r\n\" style=\"fill:#1f77b4;\"/>\r\n   </g>\r\n   <g id=\"patch_303\">\r\n    <path clip-path=\"url(#p5a8e9111bc)\" d=\"M 33.2875 124.140846 \r\nL 42.397704 124.140846 \r\nL 42.397704 123.967448 \r\nL 33.2875 123.967448 \r\nz\r\n\" style=\"fill:#1f77b4;\"/>\r\n   </g>\r\n   <g id=\"patch_304\">\r\n    <path clip-path=\"url(#p5a8e9111bc)\" d=\"M 33.2875 123.794051 \r\nL 51.507908 123.794051 \r\nL 51.507908 123.620654 \r\nL 33.2875 123.620654 \r\nz\r\n\" style=\"fill:#1f77b4;\"/>\r\n   </g>\r\n   <g id=\"patch_305\">\r\n    <path clip-path=\"url(#p5a8e9111bc)\" d=\"M 33.2875 123.447257 \r\nL 115.279337 123.447257 \r\nL 115.279337 123.27386 \r\nL 33.2875 123.27386 \r\nz\r\n\" style=\"fill:#1f77b4;\"/>\r\n   </g>\r\n   <g id=\"patch_306\">\r\n    <path clip-path=\"url(#p5a8e9111bc)\" d=\"M 33.2875 123.100463 \r\nL 160.830357 123.100463 \r\nL 160.830357 122.927066 \r\nL 33.2875 122.927066 \r\nz\r\n\" style=\"fill:#1f77b4;\"/>\r\n   </g>\r\n   <g id=\"patch_307\">\r\n    <path clip-path=\"url(#p5a8e9111bc)\" d=\"M 33.2875 122.753669 \r\nL 115.279337 122.753669 \r\nL 115.279337 122.580271 \r\nL 33.2875 122.580271 \r\nz\r\n\" style=\"fill:#1f77b4;\"/>\r\n   </g>\r\n   <g id=\"patch_308\">\r\n    <path clip-path=\"url(#p5a8e9111bc)\" d=\"M 33.2875 122.406874 \r\nL 115.279337 122.406874 \r\nL 115.279337 122.233477 \r\nL 33.2875 122.233477 \r\nz\r\n\" style=\"fill:#1f77b4;\"/>\r\n   </g>\r\n   <g id=\"patch_309\">\r\n    <path clip-path=\"url(#p5a8e9111bc)\" d=\"M 33.2875 122.06008 \r\nL 78.83852 122.06008 \r\nL 78.83852 121.886683 \r\nL 33.2875 121.886683 \r\nz\r\n\" style=\"fill:#1f77b4;\"/>\r\n   </g>\r\n   <g id=\"patch_310\">\r\n    <path clip-path=\"url(#p5a8e9111bc)\" d=\"M 33.2875 121.713286 \r\nL 60.618112 121.713286 \r\nL 60.618112 121.539889 \r\nL 33.2875 121.539889 \r\nz\r\n\" style=\"fill:#1f77b4;\"/>\r\n   </g>\r\n   <g id=\"patch_311\">\r\n    <path clip-path=\"url(#p5a8e9111bc)\" d=\"M 33.2875 121.366491 \r\nL 97.058929 121.366491 \r\nL 97.058929 121.193094 \r\nL 33.2875 121.193094 \r\nz\r\n\" style=\"fill:#1f77b4;\"/>\r\n   </g>\r\n   <g id=\"patch_312\">\r\n    <path clip-path=\"url(#p5a8e9111bc)\" d=\"M 33.2875 121.019697 \r\nL 124.389541 121.019697 \r\nL 124.389541 120.8463 \r\nL 33.2875 120.8463 \r\nz\r\n\" style=\"fill:#1f77b4;\"/>\r\n   </g>\r\n   <g id=\"patch_313\">\r\n    <path clip-path=\"url(#p5a8e9111bc)\" d=\"M 33.2875 120.672903 \r\nL 97.058929 120.672903 \r\nL 97.058929 120.499506 \r\nL 33.2875 120.499506 \r\nz\r\n\" style=\"fill:#1f77b4;\"/>\r\n   </g>\r\n   <g id=\"patch_314\">\r\n    <path clip-path=\"url(#p5a8e9111bc)\" d=\"M 33.2875 120.326109 \r\nL 133.499745 120.326109 \r\nL 133.499745 120.152712 \r\nL 33.2875 120.152712 \r\nz\r\n\" style=\"fill:#1f77b4;\"/>\r\n   </g>\r\n   <g id=\"patch_315\">\r\n    <path clip-path=\"url(#p5a8e9111bc)\" d=\"M 33.2875 119.979314 \r\nL 78.83852 119.979314 \r\nL 78.83852 119.805917 \r\nL 33.2875 119.805917 \r\nz\r\n\" style=\"fill:#1f77b4;\"/>\r\n   </g>\r\n   <g id=\"patch_316\">\r\n    <path clip-path=\"url(#p5a8e9111bc)\" d=\"M 33.2875 119.63252 \r\nL 160.830357 119.63252 \r\nL 160.830357 119.459123 \r\nL 33.2875 119.459123 \r\nz\r\n\" style=\"fill:#1f77b4;\"/>\r\n   </g>\r\n   <g id=\"patch_317\">\r\n    <path clip-path=\"url(#p5a8e9111bc)\" d=\"M 33.2875 119.285726 \r\nL 142.609949 119.285726 \r\nL 142.609949 119.112329 \r\nL 33.2875 119.112329 \r\nz\r\n\" style=\"fill:#1f77b4;\"/>\r\n   </g>\r\n   <g id=\"patch_318\">\r\n    <path clip-path=\"url(#p5a8e9111bc)\" d=\"M 33.2875 118.938932 \r\nL 97.058929 118.938932 \r\nL 97.058929 118.765535 \r\nL 33.2875 118.765535 \r\nz\r\n\" style=\"fill:#1f77b4;\"/>\r\n   </g>\r\n   <g id=\"patch_319\">\r\n    <path clip-path=\"url(#p5a8e9111bc)\" d=\"M 33.2875 118.592137 \r\nL 42.397704 118.592137 \r\nL 42.397704 118.41874 \r\nL 33.2875 118.41874 \r\nz\r\n\" style=\"fill:#1f77b4;\"/>\r\n   </g>\r\n   <g id=\"patch_320\">\r\n    <path clip-path=\"url(#p5a8e9111bc)\" d=\"M 33.2875 118.245343 \r\nL 60.618112 118.245343 \r\nL 60.618112 118.071946 \r\nL 33.2875 118.071946 \r\nz\r\n\" style=\"fill:#1f77b4;\"/>\r\n   </g>\r\n   <g id=\"patch_321\">\r\n    <path clip-path=\"url(#p5a8e9111bc)\" d=\"M 33.2875 117.898549 \r\nL 224.601786 117.898549 \r\nL 224.601786 117.725152 \r\nL 33.2875 117.725152 \r\nz\r\n\" style=\"fill:#1f77b4;\"/>\r\n   </g>\r\n   <g id=\"patch_322\">\r\n    <path clip-path=\"url(#p5a8e9111bc)\" d=\"M 33.2875 117.551755 \r\nL 51.507908 117.551755 \r\nL 51.507908 117.378358 \r\nL 33.2875 117.378358 \r\nz\r\n\" style=\"fill:#1f77b4;\"/>\r\n   </g>\r\n   <g id=\"patch_323\">\r\n    <path clip-path=\"url(#p5a8e9111bc)\" d=\"M 33.2875 117.20496 \r\nL 160.830357 117.20496 \r\nL 160.830357 117.031563 \r\nL 33.2875 117.031563 \r\nz\r\n\" style=\"fill:#1f77b4;\"/>\r\n   </g>\r\n   <g id=\"patch_324\">\r\n    <path clip-path=\"url(#p5a8e9111bc)\" d=\"M 33.2875 116.858166 \r\nL 124.389541 116.858166 \r\nL 124.389541 116.684769 \r\nL 33.2875 116.684769 \r\nz\r\n\" style=\"fill:#1f77b4;\"/>\r\n   </g>\r\n   <g id=\"patch_325\">\r\n    <path clip-path=\"url(#p5a8e9111bc)\" d=\"M 33.2875 116.511372 \r\nL 115.279337 116.511372 \r\nL 115.279337 116.337975 \r\nL 33.2875 116.337975 \r\nz\r\n\" style=\"fill:#1f77b4;\"/>\r\n   </g>\r\n   <g id=\"patch_326\">\r\n    <path clip-path=\"url(#p5a8e9111bc)\" d=\"M 33.2875 116.164578 \r\nL 60.618112 116.164578 \r\nL 60.618112 115.99118 \r\nL 33.2875 115.99118 \r\nz\r\n\" style=\"fill:#1f77b4;\"/>\r\n   </g>\r\n   <g id=\"patch_327\">\r\n    <path clip-path=\"url(#p5a8e9111bc)\" d=\"M 33.2875 115.817783 \r\nL 133.499745 115.817783 \r\nL 133.499745 115.644386 \r\nL 33.2875 115.644386 \r\nz\r\n\" style=\"fill:#1f77b4;\"/>\r\n   </g>\r\n   <g id=\"patch_328\">\r\n    <path clip-path=\"url(#p5a8e9111bc)\" d=\"M 33.2875 115.470989 \r\nL 87.948724 115.470989 \r\nL 87.948724 115.297592 \r\nL 33.2875 115.297592 \r\nz\r\n\" style=\"fill:#1f77b4;\"/>\r\n   </g>\r\n   <g id=\"patch_329\">\r\n    <path clip-path=\"url(#p5a8e9111bc)\" d=\"M 33.2875 115.124195 \r\nL 142.609949 115.124195 \r\nL 142.609949 114.950798 \r\nL 33.2875 114.950798 \r\nz\r\n\" style=\"fill:#1f77b4;\"/>\r\n   </g>\r\n   <g id=\"patch_330\">\r\n    <path clip-path=\"url(#p5a8e9111bc)\" d=\"M 33.2875 114.777401 \r\nL 142.609949 114.777401 \r\nL 142.609949 114.604003 \r\nL 33.2875 114.604003 \r\nz\r\n\" style=\"fill:#1f77b4;\"/>\r\n   </g>\r\n   <g id=\"patch_331\">\r\n    <path clip-path=\"url(#p5a8e9111bc)\" d=\"M 33.2875 114.430606 \r\nL 97.058929 114.430606 \r\nL 97.058929 114.257209 \r\nL 33.2875 114.257209 \r\nz\r\n\" style=\"fill:#1f77b4;\"/>\r\n   </g>\r\n   <g id=\"patch_332\">\r\n    <path clip-path=\"url(#p5a8e9111bc)\" d=\"M 33.2875 114.083812 \r\nL 115.279337 114.083812 \r\nL 115.279337 113.910415 \r\nL 33.2875 113.910415 \r\nz\r\n\" style=\"fill:#1f77b4;\"/>\r\n   </g>\r\n   <g id=\"patch_333\">\r\n    <path clip-path=\"url(#p5a8e9111bc)\" d=\"M 33.2875 113.737018 \r\nL 60.618112 113.737018 \r\nL 60.618112 113.563621 \r\nL 33.2875 113.563621 \r\nz\r\n\" style=\"fill:#1f77b4;\"/>\r\n   </g>\r\n   <g id=\"patch_334\">\r\n    <path clip-path=\"url(#p5a8e9111bc)\" d=\"M 33.2875 113.390224 \r\nL 42.397704 113.390224 \r\nL 42.397704 113.216826 \r\nL 33.2875 113.216826 \r\nz\r\n\" style=\"fill:#1f77b4;\"/>\r\n   </g>\r\n   <g id=\"patch_335\">\r\n    <path clip-path=\"url(#p5a8e9111bc)\" d=\"M 33.2875 113.043429 \r\nL 115.279337 113.043429 \r\nL 115.279337 112.870032 \r\nL 33.2875 112.870032 \r\nz\r\n\" style=\"fill:#1f77b4;\"/>\r\n   </g>\r\n   <g id=\"patch_336\">\r\n    <path clip-path=\"url(#p5a8e9111bc)\" d=\"M 33.2875 112.696635 \r\nL 288.373214 112.696635 \r\nL 288.373214 112.523238 \r\nL 33.2875 112.523238 \r\nz\r\n\" style=\"fill:#1f77b4;\"/>\r\n   </g>\r\n   <g id=\"patch_337\">\r\n    <path clip-path=\"url(#p5a8e9111bc)\" d=\"M 33.2875 112.349841 \r\nL 60.618112 112.349841 \r\nL 60.618112 112.176444 \r\nL 33.2875 112.176444 \r\nz\r\n\" style=\"fill:#1f77b4;\"/>\r\n   </g>\r\n   <g id=\"patch_338\">\r\n    <path clip-path=\"url(#p5a8e9111bc)\" d=\"M 33.2875 112.003047 \r\nL 87.948724 112.003047 \r\nL 87.948724 111.829649 \r\nL 33.2875 111.829649 \r\nz\r\n\" style=\"fill:#1f77b4;\"/>\r\n   </g>\r\n   <g id=\"patch_339\">\r\n    <path clip-path=\"url(#p5a8e9111bc)\" d=\"M 33.2875 111.656252 \r\nL 97.058929 111.656252 \r\nL 97.058929 111.482855 \r\nL 33.2875 111.482855 \r\nz\r\n\" style=\"fill:#1f77b4;\"/>\r\n   </g>\r\n   <g id=\"patch_340\">\r\n    <path clip-path=\"url(#p5a8e9111bc)\" d=\"M 33.2875 111.309458 \r\nL 151.720153 111.309458 \r\nL 151.720153 111.136061 \r\nL 33.2875 111.136061 \r\nz\r\n\" style=\"fill:#1f77b4;\"/>\r\n   </g>\r\n   <g id=\"patch_341\">\r\n    <path clip-path=\"url(#p5a8e9111bc)\" d=\"M 33.2875 110.962664 \r\nL 78.83852 110.962664 \r\nL 78.83852 110.789267 \r\nL 33.2875 110.789267 \r\nz\r\n\" style=\"fill:#1f77b4;\"/>\r\n   </g>\r\n   <g id=\"patch_342\">\r\n    <path clip-path=\"url(#p5a8e9111bc)\" d=\"M 33.2875 110.615869 \r\nL 42.397704 110.615869 \r\nL 42.397704 110.442472 \r\nL 33.2875 110.442472 \r\nz\r\n\" style=\"fill:#1f77b4;\"/>\r\n   </g>\r\n   <g id=\"patch_343\">\r\n    <path clip-path=\"url(#p5a8e9111bc)\" d=\"M 33.2875 110.269075 \r\nL 42.397704 110.269075 \r\nL 42.397704 110.095678 \r\nL 33.2875 110.095678 \r\nz\r\n\" style=\"fill:#1f77b4;\"/>\r\n   </g>\r\n   <g id=\"patch_344\">\r\n    <path clip-path=\"url(#p5a8e9111bc)\" d=\"M 33.2875 109.922281 \r\nL 206.381378 109.922281 \r\nL 206.381378 109.748884 \r\nL 33.2875 109.748884 \r\nz\r\n\" style=\"fill:#1f77b4;\"/>\r\n   </g>\r\n   <g id=\"patch_345\">\r\n    <path clip-path=\"url(#p5a8e9111bc)\" d=\"M 33.2875 109.575487 \r\nL 42.397704 109.575487 \r\nL 42.397704 109.40209 \r\nL 33.2875 109.40209 \r\nz\r\n\" style=\"fill:#1f77b4;\"/>\r\n   </g>\r\n   <g id=\"patch_346\">\r\n    <path clip-path=\"url(#p5a8e9111bc)\" d=\"M 33.2875 109.228692 \r\nL 142.609949 109.228692 \r\nL 142.609949 109.055295 \r\nL 33.2875 109.055295 \r\nz\r\n\" style=\"fill:#1f77b4;\"/>\r\n   </g>\r\n   <g id=\"patch_347\">\r\n    <path clip-path=\"url(#p5a8e9111bc)\" d=\"M 33.2875 108.881898 \r\nL 97.058929 108.881898 \r\nL 97.058929 108.708501 \r\nL 33.2875 108.708501 \r\nz\r\n\" style=\"fill:#1f77b4;\"/>\r\n   </g>\r\n   <g id=\"patch_348\">\r\n    <path clip-path=\"url(#p5a8e9111bc)\" d=\"M 33.2875 108.535104 \r\nL 197.271173 108.535104 \r\nL 197.271173 108.361707 \r\nL 33.2875 108.361707 \r\nz\r\n\" style=\"fill:#1f77b4;\"/>\r\n   </g>\r\n   <g id=\"patch_349\">\r\n    <path clip-path=\"url(#p5a8e9111bc)\" d=\"M 33.2875 108.18831 \r\nL 115.279337 108.18831 \r\nL 115.279337 108.014913 \r\nL 33.2875 108.014913 \r\nz\r\n\" style=\"fill:#1f77b4;\"/>\r\n   </g>\r\n   <g id=\"patch_350\">\r\n    <path clip-path=\"url(#p5a8e9111bc)\" d=\"M 33.2875 107.841515 \r\nL 106.169133 107.841515 \r\nL 106.169133 107.668118 \r\nL 33.2875 107.668118 \r\nz\r\n\" style=\"fill:#1f77b4;\"/>\r\n   </g>\r\n   <g id=\"patch_351\">\r\n    <path clip-path=\"url(#p5a8e9111bc)\" d=\"M 33.2875 107.494721 \r\nL 206.381378 107.494721 \r\nL 206.381378 107.321324 \r\nL 33.2875 107.321324 \r\nz\r\n\" style=\"fill:#1f77b4;\"/>\r\n   </g>\r\n   <g id=\"patch_352\">\r\n    <path clip-path=\"url(#p5a8e9111bc)\" d=\"M 33.2875 107.147927 \r\nL 115.279337 107.147927 \r\nL 115.279337 106.97453 \r\nL 33.2875 106.97453 \r\nz\r\n\" style=\"fill:#1f77b4;\"/>\r\n   </g>\r\n   <g id=\"patch_353\">\r\n    <path clip-path=\"url(#p5a8e9111bc)\" d=\"M 33.2875 106.801133 \r\nL 87.948724 106.801133 \r\nL 87.948724 106.627735 \r\nL 33.2875 106.627735 \r\nz\r\n\" style=\"fill:#1f77b4;\"/>\r\n   </g>\r\n   <g id=\"patch_354\">\r\n    <path clip-path=\"url(#p5a8e9111bc)\" d=\"M 33.2875 106.454338 \r\nL 188.160969 106.454338 \r\nL 188.160969 106.280941 \r\nL 33.2875 106.280941 \r\nz\r\n\" style=\"fill:#1f77b4;\"/>\r\n   </g>\r\n   <g id=\"patch_355\">\r\n    <path clip-path=\"url(#p5a8e9111bc)\" d=\"M 33.2875 106.107544 \r\nL 60.618112 106.107544 \r\nL 60.618112 105.934147 \r\nL 33.2875 105.934147 \r\nz\r\n\" style=\"fill:#1f77b4;\"/>\r\n   </g>\r\n   <g id=\"patch_356\">\r\n    <path clip-path=\"url(#p5a8e9111bc)\" d=\"M 33.2875 105.76075 \r\nL 224.601786 105.76075 \r\nL 224.601786 105.587353 \r\nL 33.2875 105.587353 \r\nz\r\n\" style=\"fill:#1f77b4;\"/>\r\n   </g>\r\n   <g id=\"patch_357\">\r\n    <path clip-path=\"url(#p5a8e9111bc)\" d=\"M 33.2875 105.413956 \r\nL 33.2875 105.413956 \r\nL 33.2875 105.240558 \r\nL 33.2875 105.240558 \r\nz\r\n\" style=\"fill:#1f77b4;\"/>\r\n   </g>\r\n   <g id=\"patch_358\">\r\n    <path clip-path=\"url(#p5a8e9111bc)\" d=\"M 33.2875 105.067161 \r\nL 60.618112 105.067161 \r\nL 60.618112 104.893764 \r\nL 33.2875 104.893764 \r\nz\r\n\" style=\"fill:#1f77b4;\"/>\r\n   </g>\r\n   <g id=\"patch_359\">\r\n    <path clip-path=\"url(#p5a8e9111bc)\" d=\"M 33.2875 104.720367 \r\nL 97.058929 104.720367 \r\nL 97.058929 104.54697 \r\nL 33.2875 104.54697 \r\nz\r\n\" style=\"fill:#1f77b4;\"/>\r\n   </g>\r\n   <g id=\"patch_360\">\r\n    <path clip-path=\"url(#p5a8e9111bc)\" d=\"M 33.2875 104.373573 \r\nL 33.2875 104.373573 \r\nL 33.2875 104.200176 \r\nL 33.2875 104.200176 \r\nz\r\n\" style=\"fill:#1f77b4;\"/>\r\n   </g>\r\n   <g id=\"patch_361\">\r\n    <path clip-path=\"url(#p5a8e9111bc)\" d=\"M 33.2875 104.026779 \r\nL 133.499745 104.026779 \r\nL 133.499745 103.853381 \r\nL 33.2875 103.853381 \r\nz\r\n\" style=\"fill:#1f77b4;\"/>\r\n   </g>\r\n   <g id=\"patch_362\">\r\n    <path clip-path=\"url(#p5a8e9111bc)\" d=\"M 33.2875 103.679984 \r\nL 33.2875 103.679984 \r\nL 33.2875 103.506587 \r\nL 33.2875 103.506587 \r\nz\r\n\" style=\"fill:#1f77b4;\"/>\r\n   </g>\r\n   <g id=\"patch_363\">\r\n    <path clip-path=\"url(#p5a8e9111bc)\" d=\"M 33.2875 103.33319 \r\nL 78.83852 103.33319 \r\nL 78.83852 103.159793 \r\nL 33.2875 103.159793 \r\nz\r\n\" style=\"fill:#1f77b4;\"/>\r\n   </g>\r\n   <g id=\"patch_364\">\r\n    <path clip-path=\"url(#p5a8e9111bc)\" d=\"M 33.2875 102.986396 \r\nL 78.83852 102.986396 \r\nL 78.83852 102.812999 \r\nL 33.2875 102.812999 \r\nz\r\n\" style=\"fill:#1f77b4;\"/>\r\n   </g>\r\n   <g id=\"patch_365\">\r\n    <path clip-path=\"url(#p5a8e9111bc)\" d=\"M 33.2875 102.639602 \r\nL 51.507908 102.639602 \r\nL 51.507908 102.466204 \r\nL 33.2875 102.466204 \r\nz\r\n\" style=\"fill:#1f77b4;\"/>\r\n   </g>\r\n   <g id=\"patch_366\">\r\n    <path clip-path=\"url(#p5a8e9111bc)\" d=\"M 33.2875 102.292807 \r\nL 78.83852 102.292807 \r\nL 78.83852 102.11941 \r\nL 33.2875 102.11941 \r\nz\r\n\" style=\"fill:#1f77b4;\"/>\r\n   </g>\r\n   <g id=\"patch_367\">\r\n    <path clip-path=\"url(#p5a8e9111bc)\" d=\"M 33.2875 101.946013 \r\nL 60.618112 101.946013 \r\nL 60.618112 101.772616 \r\nL 33.2875 101.772616 \r\nz\r\n\" style=\"fill:#1f77b4;\"/>\r\n   </g>\r\n   <g id=\"patch_368\">\r\n    <path clip-path=\"url(#p5a8e9111bc)\" d=\"M 33.2875 101.599219 \r\nL 87.948724 101.599219 \r\nL 87.948724 101.425822 \r\nL 33.2875 101.425822 \r\nz\r\n\" style=\"fill:#1f77b4;\"/>\r\n   </g>\r\n   <g id=\"patch_369\">\r\n    <path clip-path=\"url(#p5a8e9111bc)\" d=\"M 33.2875 101.252424 \r\nL 106.169133 101.252424 \r\nL 106.169133 101.079027 \r\nL 33.2875 101.079027 \r\nz\r\n\" style=\"fill:#1f77b4;\"/>\r\n   </g>\r\n   <g id=\"patch_370\">\r\n    <path clip-path=\"url(#p5a8e9111bc)\" d=\"M 33.2875 100.90563 \r\nL 51.507908 100.90563 \r\nL 51.507908 100.732233 \r\nL 33.2875 100.732233 \r\nz\r\n\" style=\"fill:#1f77b4;\"/>\r\n   </g>\r\n   <g id=\"patch_371\">\r\n    <path clip-path=\"url(#p5a8e9111bc)\" d=\"M 33.2875 100.558836 \r\nL 160.830357 100.558836 \r\nL 160.830357 100.385439 \r\nL 33.2875 100.385439 \r\nz\r\n\" style=\"fill:#1f77b4;\"/>\r\n   </g>\r\n   <g id=\"patch_372\">\r\n    <path clip-path=\"url(#p5a8e9111bc)\" d=\"M 33.2875 100.212042 \r\nL 69.728316 100.212042 \r\nL 69.728316 100.038645 \r\nL 33.2875 100.038645 \r\nz\r\n\" style=\"fill:#1f77b4;\"/>\r\n   </g>\r\n   <g id=\"patch_373\">\r\n    <path clip-path=\"url(#p5a8e9111bc)\" d=\"M 33.2875 99.865247 \r\nL 133.499745 99.865247 \r\nL 133.499745 99.69185 \r\nL 33.2875 99.69185 \r\nz\r\n\" style=\"fill:#1f77b4;\"/>\r\n   </g>\r\n   <g id=\"patch_374\">\r\n    <path clip-path=\"url(#p5a8e9111bc)\" d=\"M 33.2875 99.518453 \r\nL 169.940561 99.518453 \r\nL 169.940561 99.345056 \r\nL 33.2875 99.345056 \r\nz\r\n\" style=\"fill:#1f77b4;\"/>\r\n   </g>\r\n   <g id=\"patch_375\">\r\n    <path clip-path=\"url(#p5a8e9111bc)\" d=\"M 33.2875 99.171659 \r\nL 169.940561 99.171659 \r\nL 169.940561 98.998262 \r\nL 33.2875 98.998262 \r\nz\r\n\" style=\"fill:#1f77b4;\"/>\r\n   </g>\r\n   <g id=\"patch_376\">\r\n    <path clip-path=\"url(#p5a8e9111bc)\" d=\"M 33.2875 98.824865 \r\nL 51.507908 98.824865 \r\nL 51.507908 98.651468 \r\nL 33.2875 98.651468 \r\nz\r\n\" style=\"fill:#1f77b4;\"/>\r\n   </g>\r\n   <g id=\"patch_377\">\r\n    <path clip-path=\"url(#p5a8e9111bc)\" d=\"M 33.2875 98.47807 \r\nL 160.830357 98.47807 \r\nL 160.830357 98.304673 \r\nL 33.2875 98.304673 \r\nz\r\n\" style=\"fill:#1f77b4;\"/>\r\n   </g>\r\n   <g id=\"patch_378\">\r\n    <path clip-path=\"url(#p5a8e9111bc)\" d=\"M 33.2875 98.131276 \r\nL 97.058929 98.131276 \r\nL 97.058929 97.957879 \r\nL 33.2875 97.957879 \r\nz\r\n\" style=\"fill:#1f77b4;\"/>\r\n   </g>\r\n   <g id=\"patch_379\">\r\n    <path clip-path=\"url(#p5a8e9111bc)\" d=\"M 33.2875 97.784482 \r\nL 115.279337 97.784482 \r\nL 115.279337 97.611085 \r\nL 33.2875 97.611085 \r\nz\r\n\" style=\"fill:#1f77b4;\"/>\r\n   </g>\r\n   <g id=\"patch_380\">\r\n    <path clip-path=\"url(#p5a8e9111bc)\" d=\"M 33.2875 97.437688 \r\nL 42.397704 97.437688 \r\nL 42.397704 97.264291 \r\nL 33.2875 97.264291 \r\nz\r\n\" style=\"fill:#1f77b4;\"/>\r\n   </g>\r\n   <g id=\"patch_381\">\r\n    <path clip-path=\"url(#p5a8e9111bc)\" d=\"M 33.2875 97.090893 \r\nL 97.058929 97.090893 \r\nL 97.058929 96.917496 \r\nL 33.2875 96.917496 \r\nz\r\n\" style=\"fill:#1f77b4;\"/>\r\n   </g>\r\n   <g id=\"patch_382\">\r\n    <path clip-path=\"url(#p5a8e9111bc)\" d=\"M 33.2875 96.744099 \r\nL 60.618112 96.744099 \r\nL 60.618112 96.570702 \r\nL 33.2875 96.570702 \r\nz\r\n\" style=\"fill:#1f77b4;\"/>\r\n   </g>\r\n   <g id=\"patch_383\">\r\n    <path clip-path=\"url(#p5a8e9111bc)\" d=\"M 33.2875 96.397305 \r\nL 206.381378 96.397305 \r\nL 206.381378 96.223908 \r\nL 33.2875 96.223908 \r\nz\r\n\" style=\"fill:#1f77b4;\"/>\r\n   </g>\r\n   <g id=\"patch_384\">\r\n    <path clip-path=\"url(#p5a8e9111bc)\" d=\"M 33.2875 96.050511 \r\nL 78.83852 96.050511 \r\nL 78.83852 95.877113 \r\nL 33.2875 95.877113 \r\nz\r\n\" style=\"fill:#1f77b4;\"/>\r\n   </g>\r\n   <g id=\"patch_385\">\r\n    <path clip-path=\"url(#p5a8e9111bc)\" d=\"M 33.2875 95.703716 \r\nL 124.389541 95.703716 \r\nL 124.389541 95.530319 \r\nL 33.2875 95.530319 \r\nz\r\n\" style=\"fill:#1f77b4;\"/>\r\n   </g>\r\n   <g id=\"patch_386\">\r\n    <path clip-path=\"url(#p5a8e9111bc)\" d=\"M 33.2875 95.356922 \r\nL 51.507908 95.356922 \r\nL 51.507908 95.183525 \r\nL 33.2875 95.183525 \r\nz\r\n\" style=\"fill:#1f77b4;\"/>\r\n   </g>\r\n   <g id=\"patch_387\">\r\n    <path clip-path=\"url(#p5a8e9111bc)\" d=\"M 33.2875 95.010128 \r\nL 69.728316 95.010128 \r\nL 69.728316 94.836731 \r\nL 33.2875 94.836731 \r\nz\r\n\" style=\"fill:#1f77b4;\"/>\r\n   </g>\r\n   <g id=\"patch_388\">\r\n    <path clip-path=\"url(#p5a8e9111bc)\" d=\"M 33.2875 94.663334 \r\nL 78.83852 94.663334 \r\nL 78.83852 94.489936 \r\nL 33.2875 94.489936 \r\nz\r\n\" style=\"fill:#1f77b4;\"/>\r\n   </g>\r\n   <g id=\"patch_389\">\r\n    <path clip-path=\"url(#p5a8e9111bc)\" d=\"M 33.2875 94.316539 \r\nL 215.491582 94.316539 \r\nL 215.491582 94.143142 \r\nL 33.2875 94.143142 \r\nz\r\n\" style=\"fill:#1f77b4;\"/>\r\n   </g>\r\n   <g id=\"patch_390\">\r\n    <path clip-path=\"url(#p5a8e9111bc)\" d=\"M 33.2875 93.969745 \r\nL 106.169133 93.969745 \r\nL 106.169133 93.796348 \r\nL 33.2875 93.796348 \r\nz\r\n\" style=\"fill:#1f77b4;\"/>\r\n   </g>\r\n   <g id=\"patch_391\">\r\n    <path clip-path=\"url(#p5a8e9111bc)\" d=\"M 33.2875 93.622951 \r\nL 106.169133 93.622951 \r\nL 106.169133 93.449554 \r\nL 33.2875 93.449554 \r\nz\r\n\" style=\"fill:#1f77b4;\"/>\r\n   </g>\r\n   <g id=\"patch_392\">\r\n    <path clip-path=\"url(#p5a8e9111bc)\" d=\"M 33.2875 93.276157 \r\nL 197.271173 93.276157 \r\nL 197.271173 93.102759 \r\nL 33.2875 93.102759 \r\nz\r\n\" style=\"fill:#1f77b4;\"/>\r\n   </g>\r\n   <g id=\"patch_393\">\r\n    <path clip-path=\"url(#p5a8e9111bc)\" d=\"M 33.2875 92.929362 \r\nL 78.83852 92.929362 \r\nL 78.83852 92.755965 \r\nL 33.2875 92.755965 \r\nz\r\n\" style=\"fill:#1f77b4;\"/>\r\n   </g>\r\n   <g id=\"patch_394\">\r\n    <path clip-path=\"url(#p5a8e9111bc)\" d=\"M 33.2875 92.582568 \r\nL 142.609949 92.582568 \r\nL 142.609949 92.409171 \r\nL 33.2875 92.409171 \r\nz\r\n\" style=\"fill:#1f77b4;\"/>\r\n   </g>\r\n   <g id=\"patch_395\">\r\n    <path clip-path=\"url(#p5a8e9111bc)\" d=\"M 33.2875 92.235774 \r\nL 69.728316 92.235774 \r\nL 69.728316 92.062377 \r\nL 33.2875 92.062377 \r\nz\r\n\" style=\"fill:#1f77b4;\"/>\r\n   </g>\r\n   <g id=\"patch_396\">\r\n    <path clip-path=\"url(#p5a8e9111bc)\" d=\"M 33.2875 91.88898 \r\nL 51.507908 91.88898 \r\nL 51.507908 91.715582 \r\nL 33.2875 91.715582 \r\nz\r\n\" style=\"fill:#1f77b4;\"/>\r\n   </g>\r\n   <g id=\"patch_397\">\r\n    <path clip-path=\"url(#p5a8e9111bc)\" d=\"M 33.2875 91.542185 \r\nL 151.720153 91.542185 \r\nL 151.720153 91.368788 \r\nL 33.2875 91.368788 \r\nz\r\n\" style=\"fill:#1f77b4;\"/>\r\n   </g>\r\n   <g id=\"patch_398\">\r\n    <path clip-path=\"url(#p5a8e9111bc)\" d=\"M 33.2875 91.195391 \r\nL 97.058929 91.195391 \r\nL 97.058929 91.021994 \r\nL 33.2875 91.021994 \r\nz\r\n\" style=\"fill:#1f77b4;\"/>\r\n   </g>\r\n   <g id=\"patch_399\">\r\n    <path clip-path=\"url(#p5a8e9111bc)\" d=\"M 33.2875 90.848597 \r\nL 115.279337 90.848597 \r\nL 115.279337 90.6752 \r\nL 33.2875 90.6752 \r\nz\r\n\" style=\"fill:#1f77b4;\"/>\r\n   </g>\r\n   <g id=\"patch_400\">\r\n    <path clip-path=\"url(#p5a8e9111bc)\" d=\"M 33.2875 90.501802 \r\nL 133.499745 90.501802 \r\nL 133.499745 90.328405 \r\nL 33.2875 90.328405 \r\nz\r\n\" style=\"fill:#1f77b4;\"/>\r\n   </g>\r\n   <g id=\"patch_401\">\r\n    <path clip-path=\"url(#p5a8e9111bc)\" d=\"M 33.2875 90.155008 \r\nL 33.2875 90.155008 \r\nL 33.2875 89.981611 \r\nL 33.2875 89.981611 \r\nz\r\n\" style=\"fill:#1f77b4;\"/>\r\n   </g>\r\n   <g id=\"patch_402\">\r\n    <path clip-path=\"url(#p5a8e9111bc)\" d=\"M 33.2875 89.808214 \r\nL 97.058929 89.808214 \r\nL 97.058929 89.634817 \r\nL 33.2875 89.634817 \r\nz\r\n\" style=\"fill:#1f77b4;\"/>\r\n   </g>\r\n   <g id=\"patch_403\">\r\n    <path clip-path=\"url(#p5a8e9111bc)\" d=\"M 33.2875 89.46142 \r\nL 51.507908 89.46142 \r\nL 51.507908 89.288023 \r\nL 33.2875 89.288023 \r\nz\r\n\" style=\"fill:#1f77b4;\"/>\r\n   </g>\r\n   <g id=\"patch_404\">\r\n    <path clip-path=\"url(#p5a8e9111bc)\" d=\"M 33.2875 89.114625 \r\nL 42.397704 89.114625 \r\nL 42.397704 88.941228 \r\nL 33.2875 88.941228 \r\nz\r\n\" style=\"fill:#1f77b4;\"/>\r\n   </g>\r\n   <g id=\"patch_405\">\r\n    <path clip-path=\"url(#p5a8e9111bc)\" d=\"M 33.2875 88.767831 \r\nL 133.499745 88.767831 \r\nL 133.499745 88.594434 \r\nL 33.2875 88.594434 \r\nz\r\n\" style=\"fill:#1f77b4;\"/>\r\n   </g>\r\n   <g id=\"patch_406\">\r\n    <path clip-path=\"url(#p5a8e9111bc)\" d=\"M 33.2875 88.421037 \r\nL 87.948724 88.421037 \r\nL 87.948724 88.24764 \r\nL 33.2875 88.24764 \r\nz\r\n\" style=\"fill:#1f77b4;\"/>\r\n   </g>\r\n   <g id=\"patch_407\">\r\n    <path clip-path=\"url(#p5a8e9111bc)\" d=\"M 33.2875 88.074243 \r\nL 115.279337 88.074243 \r\nL 115.279337 87.900846 \r\nL 33.2875 87.900846 \r\nz\r\n\" style=\"fill:#1f77b4;\"/>\r\n   </g>\r\n   <g id=\"patch_408\">\r\n    <path clip-path=\"url(#p5a8e9111bc)\" d=\"M 33.2875 87.727448 \r\nL 42.397704 87.727448 \r\nL 42.397704 87.554051 \r\nL 33.2875 87.554051 \r\nz\r\n\" style=\"fill:#1f77b4;\"/>\r\n   </g>\r\n   <g id=\"patch_409\">\r\n    <path clip-path=\"url(#p5a8e9111bc)\" d=\"M 33.2875 87.380654 \r\nL 97.058929 87.380654 \r\nL 97.058929 87.207257 \r\nL 33.2875 87.207257 \r\nz\r\n\" style=\"fill:#1f77b4;\"/>\r\n   </g>\r\n   <g id=\"patch_410\">\r\n    <path clip-path=\"url(#p5a8e9111bc)\" d=\"M 33.2875 87.03386 \r\nL 51.507908 87.03386 \r\nL 51.507908 86.860463 \r\nL 33.2875 86.860463 \r\nz\r\n\" style=\"fill:#1f77b4;\"/>\r\n   </g>\r\n   <g id=\"patch_411\">\r\n    <path clip-path=\"url(#p5a8e9111bc)\" d=\"M 33.2875 86.687066 \r\nL 42.397704 86.687066 \r\nL 42.397704 86.513669 \r\nL 33.2875 86.513669 \r\nz\r\n\" style=\"fill:#1f77b4;\"/>\r\n   </g>\r\n   <g id=\"patch_412\">\r\n    <path clip-path=\"url(#p5a8e9111bc)\" d=\"M 33.2875 86.340271 \r\nL 97.058929 86.340271 \r\nL 97.058929 86.166874 \r\nL 33.2875 86.166874 \r\nz\r\n\" style=\"fill:#1f77b4;\"/>\r\n   </g>\r\n   <g id=\"patch_413\">\r\n    <path clip-path=\"url(#p5a8e9111bc)\" d=\"M 33.2875 85.993477 \r\nL 69.728316 85.993477 \r\nL 69.728316 85.82008 \r\nL 33.2875 85.82008 \r\nz\r\n\" style=\"fill:#1f77b4;\"/>\r\n   </g>\r\n   <g id=\"patch_414\">\r\n    <path clip-path=\"url(#p5a8e9111bc)\" d=\"M 33.2875 85.646683 \r\nL 87.948724 85.646683 \r\nL 87.948724 85.473286 \r\nL 33.2875 85.473286 \r\nz\r\n\" style=\"fill:#1f77b4;\"/>\r\n   </g>\r\n   <g id=\"patch_415\">\r\n    <path clip-path=\"url(#p5a8e9111bc)\" d=\"M 33.2875 85.299889 \r\nL 97.058929 85.299889 \r\nL 97.058929 85.126491 \r\nL 33.2875 85.126491 \r\nz\r\n\" style=\"fill:#1f77b4;\"/>\r\n   </g>\r\n   <g id=\"patch_416\">\r\n    <path clip-path=\"url(#p5a8e9111bc)\" d=\"M 33.2875 84.953094 \r\nL 87.948724 84.953094 \r\nL 87.948724 84.779697 \r\nL 33.2875 84.779697 \r\nz\r\n\" style=\"fill:#1f77b4;\"/>\r\n   </g>\r\n   <g id=\"patch_417\">\r\n    <path clip-path=\"url(#p5a8e9111bc)\" d=\"M 33.2875 84.6063 \r\nL 78.83852 84.6063 \r\nL 78.83852 84.432903 \r\nL 33.2875 84.432903 \r\nz\r\n\" style=\"fill:#1f77b4;\"/>\r\n   </g>\r\n   <g id=\"patch_418\">\r\n    <path clip-path=\"url(#p5a8e9111bc)\" d=\"M 33.2875 84.259506 \r\nL 124.389541 84.259506 \r\nL 124.389541 84.086109 \r\nL 33.2875 84.086109 \r\nz\r\n\" style=\"fill:#1f77b4;\"/>\r\n   </g>\r\n   <g id=\"patch_419\">\r\n    <path clip-path=\"url(#p5a8e9111bc)\" d=\"M 33.2875 83.912712 \r\nL 179.050765 83.912712 \r\nL 179.050765 83.739314 \r\nL 33.2875 83.739314 \r\nz\r\n\" style=\"fill:#1f77b4;\"/>\r\n   </g>\r\n   <g id=\"patch_420\">\r\n    <path clip-path=\"url(#p5a8e9111bc)\" d=\"M 33.2875 83.565917 \r\nL 106.169133 83.565917 \r\nL 106.169133 83.39252 \r\nL 33.2875 83.39252 \r\nz\r\n\" style=\"fill:#1f77b4;\"/>\r\n   </g>\r\n   <g id=\"patch_421\">\r\n    <path clip-path=\"url(#p5a8e9111bc)\" d=\"M 33.2875 83.219123 \r\nL 78.83852 83.219123 \r\nL 78.83852 83.045726 \r\nL 33.2875 83.045726 \r\nz\r\n\" style=\"fill:#1f77b4;\"/>\r\n   </g>\r\n   <g id=\"patch_422\">\r\n    <path clip-path=\"url(#p5a8e9111bc)\" d=\"M 33.2875 82.872329 \r\nL 87.948724 82.872329 \r\nL 87.948724 82.698932 \r\nL 33.2875 82.698932 \r\nz\r\n\" style=\"fill:#1f77b4;\"/>\r\n   </g>\r\n   <g id=\"patch_423\">\r\n    <path clip-path=\"url(#p5a8e9111bc)\" d=\"M 33.2875 82.525535 \r\nL 51.507908 82.525535 \r\nL 51.507908 82.352137 \r\nL 33.2875 82.352137 \r\nz\r\n\" style=\"fill:#1f77b4;\"/>\r\n   </g>\r\n   <g id=\"patch_424\">\r\n    <path clip-path=\"url(#p5a8e9111bc)\" d=\"M 33.2875 82.17874 \r\nL 97.058929 82.17874 \r\nL 97.058929 82.005343 \r\nL 33.2875 82.005343 \r\nz\r\n\" style=\"fill:#1f77b4;\"/>\r\n   </g>\r\n   <g id=\"patch_425\">\r\n    <path clip-path=\"url(#p5a8e9111bc)\" d=\"M 33.2875 81.831946 \r\nL 87.948724 81.831946 \r\nL 87.948724 81.658549 \r\nL 33.2875 81.658549 \r\nz\r\n\" style=\"fill:#1f77b4;\"/>\r\n   </g>\r\n   <g id=\"patch_426\">\r\n    <path clip-path=\"url(#p5a8e9111bc)\" d=\"M 33.2875 81.485152 \r\nL 151.720153 81.485152 \r\nL 151.720153 81.311755 \r\nL 33.2875 81.311755 \r\nz\r\n\" style=\"fill:#1f77b4;\"/>\r\n   </g>\r\n   <g id=\"patch_427\">\r\n    <path clip-path=\"url(#p5a8e9111bc)\" d=\"M 33.2875 81.138358 \r\nL 60.618112 81.138358 \r\nL 60.618112 80.96496 \r\nL 33.2875 80.96496 \r\nz\r\n\" style=\"fill:#1f77b4;\"/>\r\n   </g>\r\n   <g id=\"patch_428\">\r\n    <path clip-path=\"url(#p5a8e9111bc)\" d=\"M 33.2875 80.791563 \r\nL 142.609949 80.791563 \r\nL 142.609949 80.618166 \r\nL 33.2875 80.618166 \r\nz\r\n\" style=\"fill:#1f77b4;\"/>\r\n   </g>\r\n   <g id=\"patch_429\">\r\n    <path clip-path=\"url(#p5a8e9111bc)\" d=\"M 33.2875 80.444769 \r\nL 78.83852 80.444769 \r\nL 78.83852 80.271372 \r\nL 33.2875 80.271372 \r\nz\r\n\" style=\"fill:#1f77b4;\"/>\r\n   </g>\r\n   <g id=\"patch_430\">\r\n    <path clip-path=\"url(#p5a8e9111bc)\" d=\"M 33.2875 80.097975 \r\nL 69.728316 80.097975 \r\nL 69.728316 79.924578 \r\nL 33.2875 79.924578 \r\nz\r\n\" style=\"fill:#1f77b4;\"/>\r\n   </g>\r\n   <g id=\"patch_431\">\r\n    <path clip-path=\"url(#p5a8e9111bc)\" d=\"M 33.2875 79.75118 \r\nL 142.609949 79.75118 \r\nL 142.609949 79.577783 \r\nL 33.2875 79.577783 \r\nz\r\n\" style=\"fill:#1f77b4;\"/>\r\n   </g>\r\n   <g id=\"patch_432\">\r\n    <path clip-path=\"url(#p5a8e9111bc)\" d=\"M 33.2875 79.404386 \r\nL 69.728316 79.404386 \r\nL 69.728316 79.230989 \r\nL 33.2875 79.230989 \r\nz\r\n\" style=\"fill:#1f77b4;\"/>\r\n   </g>\r\n   <g id=\"patch_433\">\r\n    <path clip-path=\"url(#p5a8e9111bc)\" d=\"M 33.2875 79.057592 \r\nL 78.83852 79.057592 \r\nL 78.83852 78.884195 \r\nL 33.2875 78.884195 \r\nz\r\n\" style=\"fill:#1f77b4;\"/>\r\n   </g>\r\n   <g id=\"patch_434\">\r\n    <path clip-path=\"url(#p5a8e9111bc)\" d=\"M 33.2875 78.710798 \r\nL 60.618112 78.710798 \r\nL 60.618112 78.537401 \r\nL 33.2875 78.537401 \r\nz\r\n\" style=\"fill:#1f77b4;\"/>\r\n   </g>\r\n   <g id=\"patch_435\">\r\n    <path clip-path=\"url(#p5a8e9111bc)\" d=\"M 33.2875 78.364003 \r\nL 97.058929 78.364003 \r\nL 97.058929 78.190606 \r\nL 33.2875 78.190606 \r\nz\r\n\" style=\"fill:#1f77b4;\"/>\r\n   </g>\r\n   <g id=\"patch_436\">\r\n    <path clip-path=\"url(#p5a8e9111bc)\" d=\"M 33.2875 78.017209 \r\nL 33.2875 78.017209 \r\nL 33.2875 77.843812 \r\nL 33.2875 77.843812 \r\nz\r\n\" style=\"fill:#1f77b4;\"/>\r\n   </g>\r\n   <g id=\"patch_437\">\r\n    <path clip-path=\"url(#p5a8e9111bc)\" d=\"M 33.2875 77.670415 \r\nL 97.058929 77.670415 \r\nL 97.058929 77.497018 \r\nL 33.2875 77.497018 \r\nz\r\n\" style=\"fill:#1f77b4;\"/>\r\n   </g>\r\n   <g id=\"patch_438\">\r\n    <path clip-path=\"url(#p5a8e9111bc)\" d=\"M 33.2875 77.323621 \r\nL 179.050765 77.323621 \r\nL 179.050765 77.150224 \r\nL 33.2875 77.150224 \r\nz\r\n\" style=\"fill:#1f77b4;\"/>\r\n   </g>\r\n   <g id=\"patch_439\">\r\n    <path clip-path=\"url(#p5a8e9111bc)\" d=\"M 33.2875 76.976826 \r\nL 87.948724 76.976826 \r\nL 87.948724 76.803429 \r\nL 33.2875 76.803429 \r\nz\r\n\" style=\"fill:#1f77b4;\"/>\r\n   </g>\r\n   <g id=\"patch_440\">\r\n    <path clip-path=\"url(#p5a8e9111bc)\" d=\"M 33.2875 76.630032 \r\nL 142.609949 76.630032 \r\nL 142.609949 76.456635 \r\nL 33.2875 76.456635 \r\nz\r\n\" style=\"fill:#1f77b4;\"/>\r\n   </g>\r\n   <g id=\"patch_441\">\r\n    <path clip-path=\"url(#p5a8e9111bc)\" d=\"M 33.2875 76.283238 \r\nL 160.830357 76.283238 \r\nL 160.830357 76.109841 \r\nL 33.2875 76.109841 \r\nz\r\n\" style=\"fill:#1f77b4;\"/>\r\n   </g>\r\n   <g id=\"patch_442\">\r\n    <path clip-path=\"url(#p5a8e9111bc)\" d=\"M 33.2875 75.936444 \r\nL 87.948724 75.936444 \r\nL 87.948724 75.763047 \r\nL 33.2875 75.763047 \r\nz\r\n\" style=\"fill:#1f77b4;\"/>\r\n   </g>\r\n   <g id=\"patch_443\">\r\n    <path clip-path=\"url(#p5a8e9111bc)\" d=\"M 33.2875 75.589649 \r\nL 78.83852 75.589649 \r\nL 78.83852 75.416252 \r\nL 33.2875 75.416252 \r\nz\r\n\" style=\"fill:#1f77b4;\"/>\r\n   </g>\r\n   <g id=\"patch_444\">\r\n    <path clip-path=\"url(#p5a8e9111bc)\" d=\"M 33.2875 75.242855 \r\nL 60.618112 75.242855 \r\nL 60.618112 75.069458 \r\nL 33.2875 75.069458 \r\nz\r\n\" style=\"fill:#1f77b4;\"/>\r\n   </g>\r\n   <g id=\"patch_445\">\r\n    <path clip-path=\"url(#p5a8e9111bc)\" d=\"M 33.2875 74.896061 \r\nL 124.389541 74.896061 \r\nL 124.389541 74.722664 \r\nL 33.2875 74.722664 \r\nz\r\n\" style=\"fill:#1f77b4;\"/>\r\n   </g>\r\n   <g id=\"patch_446\">\r\n    <path clip-path=\"url(#p5a8e9111bc)\" d=\"M 33.2875 74.549267 \r\nL 106.169133 74.549267 \r\nL 106.169133 74.375869 \r\nL 33.2875 74.375869 \r\nz\r\n\" style=\"fill:#1f77b4;\"/>\r\n   </g>\r\n   <g id=\"patch_447\">\r\n    <path clip-path=\"url(#p5a8e9111bc)\" d=\"M 33.2875 74.202472 \r\nL 87.948724 74.202472 \r\nL 87.948724 74.029075 \r\nL 33.2875 74.029075 \r\nz\r\n\" style=\"fill:#1f77b4;\"/>\r\n   </g>\r\n   <g id=\"patch_448\">\r\n    <path clip-path=\"url(#p5a8e9111bc)\" d=\"M 33.2875 73.855678 \r\nL 69.728316 73.855678 \r\nL 69.728316 73.682281 \r\nL 33.2875 73.682281 \r\nz\r\n\" style=\"fill:#1f77b4;\"/>\r\n   </g>\r\n   <g id=\"patch_449\">\r\n    <path clip-path=\"url(#p5a8e9111bc)\" d=\"M 33.2875 73.508884 \r\nL 115.279337 73.508884 \r\nL 115.279337 73.335487 \r\nL 33.2875 73.335487 \r\nz\r\n\" style=\"fill:#1f77b4;\"/>\r\n   </g>\r\n   <g id=\"patch_450\">\r\n    <path clip-path=\"url(#p5a8e9111bc)\" d=\"M 33.2875 73.16209 \r\nL 133.499745 73.16209 \r\nL 133.499745 72.988692 \r\nL 33.2875 72.988692 \r\nz\r\n\" style=\"fill:#1f77b4;\"/>\r\n   </g>\r\n   <g id=\"patch_451\">\r\n    <path clip-path=\"url(#p5a8e9111bc)\" d=\"M 33.2875 72.815295 \r\nL 188.160969 72.815295 \r\nL 188.160969 72.641898 \r\nL 33.2875 72.641898 \r\nz\r\n\" style=\"fill:#1f77b4;\"/>\r\n   </g>\r\n   <g id=\"patch_452\">\r\n    <path clip-path=\"url(#p5a8e9111bc)\" d=\"M 33.2875 72.468501 \r\nL 87.948724 72.468501 \r\nL 87.948724 72.295104 \r\nL 33.2875 72.295104 \r\nz\r\n\" style=\"fill:#1f77b4;\"/>\r\n   </g>\r\n   <g id=\"patch_453\">\r\n    <path clip-path=\"url(#p5a8e9111bc)\" d=\"M 33.2875 72.121707 \r\nL 197.271173 72.121707 \r\nL 197.271173 71.94831 \r\nL 33.2875 71.94831 \r\nz\r\n\" style=\"fill:#1f77b4;\"/>\r\n   </g>\r\n   <g id=\"patch_454\">\r\n    <path clip-path=\"url(#p5a8e9111bc)\" d=\"M 33.2875 71.774913 \r\nL 60.618112 71.774913 \r\nL 60.618112 71.601515 \r\nL 33.2875 71.601515 \r\nz\r\n\" style=\"fill:#1f77b4;\"/>\r\n   </g>\r\n   <g id=\"patch_455\">\r\n    <path clip-path=\"url(#p5a8e9111bc)\" d=\"M 33.2875 71.428118 \r\nL 51.507908 71.428118 \r\nL 51.507908 71.254721 \r\nL 33.2875 71.254721 \r\nz\r\n\" style=\"fill:#1f77b4;\"/>\r\n   </g>\r\n   <g id=\"patch_456\">\r\n    <path clip-path=\"url(#p5a8e9111bc)\" d=\"M 33.2875 71.081324 \r\nL 87.948724 71.081324 \r\nL 87.948724 70.907927 \r\nL 33.2875 70.907927 \r\nz\r\n\" style=\"fill:#1f77b4;\"/>\r\n   </g>\r\n   <g id=\"patch_457\">\r\n    <path clip-path=\"url(#p5a8e9111bc)\" d=\"M 33.2875 70.73453 \r\nL 133.499745 70.73453 \r\nL 133.499745 70.561133 \r\nL 33.2875 70.561133 \r\nz\r\n\" style=\"fill:#1f77b4;\"/>\r\n   </g>\r\n   <g id=\"patch_458\">\r\n    <path clip-path=\"url(#p5a8e9111bc)\" d=\"M 33.2875 70.387735 \r\nL 51.507908 70.387735 \r\nL 51.507908 70.214338 \r\nL 33.2875 70.214338 \r\nz\r\n\" style=\"fill:#1f77b4;\"/>\r\n   </g>\r\n   <g id=\"patch_459\">\r\n    <path clip-path=\"url(#p5a8e9111bc)\" d=\"M 33.2875 70.040941 \r\nL 33.2875 70.040941 \r\nL 33.2875 69.867544 \r\nL 33.2875 69.867544 \r\nz\r\n\" style=\"fill:#1f77b4;\"/>\r\n   </g>\r\n   <g id=\"patch_460\">\r\n    <path clip-path=\"url(#p5a8e9111bc)\" d=\"M 33.2875 69.694147 \r\nL 60.618112 69.694147 \r\nL 60.618112 69.52075 \r\nL 33.2875 69.52075 \r\nz\r\n\" style=\"fill:#1f77b4;\"/>\r\n   </g>\r\n   <g id=\"patch_461\">\r\n    <path clip-path=\"url(#p5a8e9111bc)\" d=\"M 33.2875 69.347353 \r\nL 124.389541 69.347353 \r\nL 124.389541 69.173956 \r\nL 33.2875 69.173956 \r\nz\r\n\" style=\"fill:#1f77b4;\"/>\r\n   </g>\r\n   <g id=\"patch_462\">\r\n    <path clip-path=\"url(#p5a8e9111bc)\" d=\"M 33.2875 69.000558 \r\nL 69.728316 69.000558 \r\nL 69.728316 68.827161 \r\nL 33.2875 68.827161 \r\nz\r\n\" style=\"fill:#1f77b4;\"/>\r\n   </g>\r\n   <g id=\"patch_463\">\r\n    <path clip-path=\"url(#p5a8e9111bc)\" d=\"M 33.2875 68.653764 \r\nL 115.279337 68.653764 \r\nL 115.279337 68.480367 \r\nL 33.2875 68.480367 \r\nz\r\n\" style=\"fill:#1f77b4;\"/>\r\n   </g>\r\n   <g id=\"patch_464\">\r\n    <path clip-path=\"url(#p5a8e9111bc)\" d=\"M 33.2875 68.30697 \r\nL 106.169133 68.30697 \r\nL 106.169133 68.133573 \r\nL 33.2875 68.133573 \r\nz\r\n\" style=\"fill:#1f77b4;\"/>\r\n   </g>\r\n   <g id=\"patch_465\">\r\n    <path clip-path=\"url(#p5a8e9111bc)\" d=\"M 33.2875 67.960176 \r\nL 169.940561 67.960176 \r\nL 169.940561 67.786779 \r\nL 33.2875 67.786779 \r\nz\r\n\" style=\"fill:#1f77b4;\"/>\r\n   </g>\r\n   <g id=\"patch_466\">\r\n    <path clip-path=\"url(#p5a8e9111bc)\" d=\"M 33.2875 67.613381 \r\nL 69.728316 67.613381 \r\nL 69.728316 67.439984 \r\nL 33.2875 67.439984 \r\nz\r\n\" style=\"fill:#1f77b4;\"/>\r\n   </g>\r\n   <g id=\"patch_467\">\r\n    <path clip-path=\"url(#p5a8e9111bc)\" d=\"M 33.2875 67.266587 \r\nL 51.507908 67.266587 \r\nL 51.507908 67.09319 \r\nL 33.2875 67.09319 \r\nz\r\n\" style=\"fill:#1f77b4;\"/>\r\n   </g>\r\n   <g id=\"patch_468\">\r\n    <path clip-path=\"url(#p5a8e9111bc)\" d=\"M 33.2875 66.919793 \r\nL 169.940561 66.919793 \r\nL 169.940561 66.746396 \r\nL 33.2875 66.746396 \r\nz\r\n\" style=\"fill:#1f77b4;\"/>\r\n   </g>\r\n   <g id=\"patch_469\">\r\n    <path clip-path=\"url(#p5a8e9111bc)\" d=\"M 33.2875 66.572999 \r\nL 206.381378 66.572999 \r\nL 206.381378 66.399602 \r\nL 33.2875 66.399602 \r\nz\r\n\" style=\"fill:#1f77b4;\"/>\r\n   </g>\r\n   <g id=\"patch_470\">\r\n    <path clip-path=\"url(#p5a8e9111bc)\" d=\"M 33.2875 66.226204 \r\nL 51.507908 66.226204 \r\nL 51.507908 66.052807 \r\nL 33.2875 66.052807 \r\nz\r\n\" style=\"fill:#1f77b4;\"/>\r\n   </g>\r\n   <g id=\"patch_471\">\r\n    <path clip-path=\"url(#p5a8e9111bc)\" d=\"M 33.2875 65.87941 \r\nL 51.507908 65.87941 \r\nL 51.507908 65.706013 \r\nL 33.2875 65.706013 \r\nz\r\n\" style=\"fill:#1f77b4;\"/>\r\n   </g>\r\n   <g id=\"patch_472\">\r\n    <path clip-path=\"url(#p5a8e9111bc)\" d=\"M 33.2875 65.532616 \r\nL 33.2875 65.532616 \r\nL 33.2875 65.359219 \r\nL 33.2875 65.359219 \r\nz\r\n\" style=\"fill:#1f77b4;\"/>\r\n   </g>\r\n   <g id=\"patch_473\">\r\n    <path clip-path=\"url(#p5a8e9111bc)\" d=\"M 33.2875 65.185822 \r\nL 69.728316 65.185822 \r\nL 69.728316 65.012424 \r\nL 33.2875 65.012424 \r\nz\r\n\" style=\"fill:#1f77b4;\"/>\r\n   </g>\r\n   <g id=\"patch_474\">\r\n    <path clip-path=\"url(#p5a8e9111bc)\" d=\"M 33.2875 64.839027 \r\nL 42.397704 64.839027 \r\nL 42.397704 64.66563 \r\nL 33.2875 64.66563 \r\nz\r\n\" style=\"fill:#1f77b4;\"/>\r\n   </g>\r\n   <g id=\"patch_475\">\r\n    <path clip-path=\"url(#p5a8e9111bc)\" d=\"M 33.2875 64.492233 \r\nL 33.2875 64.492233 \r\nL 33.2875 64.318836 \r\nL 33.2875 64.318836 \r\nz\r\n\" style=\"fill:#1f77b4;\"/>\r\n   </g>\r\n   <g id=\"patch_476\">\r\n    <path clip-path=\"url(#p5a8e9111bc)\" d=\"M 33.2875 64.145439 \r\nL 160.830357 64.145439 \r\nL 160.830357 63.972042 \r\nL 33.2875 63.972042 \r\nz\r\n\" style=\"fill:#1f77b4;\"/>\r\n   </g>\r\n   <g id=\"patch_477\">\r\n    <path clip-path=\"url(#p5a8e9111bc)\" d=\"M 33.2875 63.798645 \r\nL 160.830357 63.798645 \r\nL 160.830357 63.625247 \r\nL 33.2875 63.625247 \r\nz\r\n\" style=\"fill:#1f77b4;\"/>\r\n   </g>\r\n   <g id=\"patch_478\">\r\n    <path clip-path=\"url(#p5a8e9111bc)\" d=\"M 33.2875 63.45185 \r\nL 60.618112 63.45185 \r\nL 60.618112 63.278453 \r\nL 33.2875 63.278453 \r\nz\r\n\" style=\"fill:#1f77b4;\"/>\r\n   </g>\r\n   <g id=\"patch_479\">\r\n    <path clip-path=\"url(#p5a8e9111bc)\" d=\"M 33.2875 63.105056 \r\nL 42.397704 63.105056 \r\nL 42.397704 62.931659 \r\nL 33.2875 62.931659 \r\nz\r\n\" style=\"fill:#1f77b4;\"/>\r\n   </g>\r\n   <g id=\"patch_480\">\r\n    <path clip-path=\"url(#p5a8e9111bc)\" d=\"M 33.2875 62.758262 \r\nL 78.83852 62.758262 \r\nL 78.83852 62.584865 \r\nL 33.2875 62.584865 \r\nz\r\n\" style=\"fill:#1f77b4;\"/>\r\n   </g>\r\n   <g id=\"patch_481\">\r\n    <path clip-path=\"url(#p5a8e9111bc)\" d=\"M 33.2875 62.411468 \r\nL 151.720153 62.411468 \r\nL 151.720153 62.23807 \r\nL 33.2875 62.23807 \r\nz\r\n\" style=\"fill:#1f77b4;\"/>\r\n   </g>\r\n   <g id=\"patch_482\">\r\n    <path clip-path=\"url(#p5a8e9111bc)\" d=\"M 33.2875 62.064673 \r\nL 42.397704 62.064673 \r\nL 42.397704 61.891276 \r\nL 33.2875 61.891276 \r\nz\r\n\" style=\"fill:#1f77b4;\"/>\r\n   </g>\r\n   <g id=\"patch_483\">\r\n    <path clip-path=\"url(#p5a8e9111bc)\" d=\"M 33.2875 61.717879 \r\nL 33.2875 61.717879 \r\nL 33.2875 61.544482 \r\nL 33.2875 61.544482 \r\nz\r\n\" style=\"fill:#1f77b4;\"/>\r\n   </g>\r\n   <g id=\"patch_484\">\r\n    <path clip-path=\"url(#p5a8e9111bc)\" d=\"M 33.2875 61.371085 \r\nL 60.618112 61.371085 \r\nL 60.618112 61.197688 \r\nL 33.2875 61.197688 \r\nz\r\n\" style=\"fill:#1f77b4;\"/>\r\n   </g>\r\n   <g id=\"patch_485\">\r\n    <path clip-path=\"url(#p5a8e9111bc)\" d=\"M 33.2875 61.024291 \r\nL 33.2875 61.024291 \r\nL 33.2875 60.850893 \r\nL 33.2875 60.850893 \r\nz\r\n\" style=\"fill:#1f77b4;\"/>\r\n   </g>\r\n   <g id=\"patch_486\">\r\n    <path clip-path=\"url(#p5a8e9111bc)\" d=\"M 33.2875 60.677496 \r\nL 97.058929 60.677496 \r\nL 97.058929 60.504099 \r\nL 33.2875 60.504099 \r\nz\r\n\" style=\"fill:#1f77b4;\"/>\r\n   </g>\r\n   <g id=\"patch_487\">\r\n    <path clip-path=\"url(#p5a8e9111bc)\" d=\"M 33.2875 60.330702 \r\nL 60.618112 60.330702 \r\nL 60.618112 60.157305 \r\nL 33.2875 60.157305 \r\nz\r\n\" style=\"fill:#1f77b4;\"/>\r\n   </g>\r\n   <g id=\"patch_488\">\r\n    <path clip-path=\"url(#p5a8e9111bc)\" d=\"M 33.2875 59.983908 \r\nL 133.499745 59.983908 \r\nL 133.499745 59.810511 \r\nL 33.2875 59.810511 \r\nz\r\n\" style=\"fill:#1f77b4;\"/>\r\n   </g>\r\n   <g id=\"patch_489\">\r\n    <path clip-path=\"url(#p5a8e9111bc)\" d=\"M 33.2875 59.637113 \r\nL 142.609949 59.637113 \r\nL 142.609949 59.463716 \r\nL 33.2875 59.463716 \r\nz\r\n\" style=\"fill:#1f77b4;\"/>\r\n   </g>\r\n   <g id=\"patch_490\">\r\n    <path clip-path=\"url(#p5a8e9111bc)\" d=\"M 33.2875 59.290319 \r\nL 69.728316 59.290319 \r\nL 69.728316 59.116922 \r\nL 33.2875 59.116922 \r\nz\r\n\" style=\"fill:#1f77b4;\"/>\r\n   </g>\r\n   <g id=\"patch_491\">\r\n    <path clip-path=\"url(#p5a8e9111bc)\" d=\"M 33.2875 58.943525 \r\nL 106.169133 58.943525 \r\nL 106.169133 58.770128 \r\nL 33.2875 58.770128 \r\nz\r\n\" style=\"fill:#1f77b4;\"/>\r\n   </g>\r\n   <g id=\"patch_492\">\r\n    <path clip-path=\"url(#p5a8e9111bc)\" d=\"M 33.2875 58.596731 \r\nL 151.720153 58.596731 \r\nL 151.720153 58.423334 \r\nL 33.2875 58.423334 \r\nz\r\n\" style=\"fill:#1f77b4;\"/>\r\n   </g>\r\n   <g id=\"patch_493\">\r\n    <path clip-path=\"url(#p5a8e9111bc)\" d=\"M 33.2875 58.249936 \r\nL 97.058929 58.249936 \r\nL 97.058929 58.076539 \r\nL 33.2875 58.076539 \r\nz\r\n\" style=\"fill:#1f77b4;\"/>\r\n   </g>\r\n   <g id=\"patch_494\">\r\n    <path clip-path=\"url(#p5a8e9111bc)\" d=\"M 33.2875 57.903142 \r\nL 106.169133 57.903142 \r\nL 106.169133 57.729745 \r\nL 33.2875 57.729745 \r\nz\r\n\" style=\"fill:#1f77b4;\"/>\r\n   </g>\r\n   <g id=\"patch_495\">\r\n    <path clip-path=\"url(#p5a8e9111bc)\" d=\"M 33.2875 57.556348 \r\nL 151.720153 57.556348 \r\nL 151.720153 57.382951 \r\nL 33.2875 57.382951 \r\nz\r\n\" style=\"fill:#1f77b4;\"/>\r\n   </g>\r\n   <g id=\"patch_496\">\r\n    <path clip-path=\"url(#p5a8e9111bc)\" d=\"M 33.2875 57.209554 \r\nL 78.83852 57.209554 \r\nL 78.83852 57.036157 \r\nL 33.2875 57.036157 \r\nz\r\n\" style=\"fill:#1f77b4;\"/>\r\n   </g>\r\n   <g id=\"patch_497\">\r\n    <path clip-path=\"url(#p5a8e9111bc)\" d=\"M 33.2875 56.862759 \r\nL 87.948724 56.862759 \r\nL 87.948724 56.689362 \r\nL 33.2875 56.689362 \r\nz\r\n\" style=\"fill:#1f77b4;\"/>\r\n   </g>\r\n   <g id=\"patch_498\">\r\n    <path clip-path=\"url(#p5a8e9111bc)\" d=\"M 33.2875 56.515965 \r\nL 69.728316 56.515965 \r\nL 69.728316 56.342568 \r\nL 33.2875 56.342568 \r\nz\r\n\" style=\"fill:#1f77b4;\"/>\r\n   </g>\r\n   <g id=\"patch_499\">\r\n    <path clip-path=\"url(#p5a8e9111bc)\" d=\"M 33.2875 56.169171 \r\nL 151.720153 56.169171 \r\nL 151.720153 55.995774 \r\nL 33.2875 55.995774 \r\nz\r\n\" style=\"fill:#1f77b4;\"/>\r\n   </g>\r\n   <g id=\"patch_500\">\r\n    <path clip-path=\"url(#p5a8e9111bc)\" d=\"M 33.2875 55.822377 \r\nL 78.83852 55.822377 \r\nL 78.83852 55.64898 \r\nL 33.2875 55.64898 \r\nz\r\n\" style=\"fill:#1f77b4;\"/>\r\n   </g>\r\n   <g id=\"patch_501\">\r\n    <path clip-path=\"url(#p5a8e9111bc)\" d=\"M 33.2875 55.475582 \r\nL 151.720153 55.475582 \r\nL 151.720153 55.302185 \r\nL 33.2875 55.302185 \r\nz\r\n\" style=\"fill:#1f77b4;\"/>\r\n   </g>\r\n   <g id=\"patch_502\">\r\n    <path clip-path=\"url(#p5a8e9111bc)\" d=\"M 33.2875 55.128788 \r\nL 69.728316 55.128788 \r\nL 69.728316 54.955391 \r\nL 33.2875 54.955391 \r\nz\r\n\" style=\"fill:#1f77b4;\"/>\r\n   </g>\r\n   <g id=\"patch_503\">\r\n    <path clip-path=\"url(#p5a8e9111bc)\" d=\"M 33.2875 54.781994 \r\nL 160.830357 54.781994 \r\nL 160.830357 54.608597 \r\nL 33.2875 54.608597 \r\nz\r\n\" style=\"fill:#1f77b4;\"/>\r\n   </g>\r\n   <g id=\"patch_504\">\r\n    <path clip-path=\"url(#p5a8e9111bc)\" d=\"M 33.2875 54.4352 \r\nL 124.389541 54.4352 \r\nL 124.389541 54.261802 \r\nL 33.2875 54.261802 \r\nz\r\n\" style=\"fill:#1f77b4;\"/>\r\n   </g>\r\n   <g id=\"patch_505\">\r\n    <path clip-path=\"url(#p5a8e9111bc)\" d=\"M 33.2875 54.088405 \r\nL 33.2875 54.088405 \r\nL 33.2875 53.915008 \r\nL 33.2875 53.915008 \r\nz\r\n\" style=\"fill:#1f77b4;\"/>\r\n   </g>\r\n   <g id=\"patch_506\">\r\n    <path clip-path=\"url(#p5a8e9111bc)\" d=\"M 33.2875 53.741611 \r\nL 33.2875 53.741611 \r\nL 33.2875 53.568214 \r\nL 33.2875 53.568214 \r\nz\r\n\" style=\"fill:#1f77b4;\"/>\r\n   </g>\r\n   <g id=\"patch_507\">\r\n    <path clip-path=\"url(#p5a8e9111bc)\" d=\"M 33.2875 53.394817 \r\nL 33.2875 53.394817 \r\nL 33.2875 53.22142 \r\nL 33.2875 53.22142 \r\nz\r\n\" style=\"fill:#1f77b4;\"/>\r\n   </g>\r\n   <g id=\"patch_508\">\r\n    <path clip-path=\"url(#p5a8e9111bc)\" d=\"M 33.2875 53.048023 \r\nL 51.507908 53.048023 \r\nL 51.507908 52.874625 \r\nL 33.2875 52.874625 \r\nz\r\n\" style=\"fill:#1f77b4;\"/>\r\n   </g>\r\n   <g id=\"patch_509\">\r\n    <path clip-path=\"url(#p5a8e9111bc)\" d=\"M 33.2875 52.701228 \r\nL 197.271173 52.701228 \r\nL 197.271173 52.527831 \r\nL 33.2875 52.527831 \r\nz\r\n\" style=\"fill:#1f77b4;\"/>\r\n   </g>\r\n   <g id=\"patch_510\">\r\n    <path clip-path=\"url(#p5a8e9111bc)\" d=\"M 33.2875 52.354434 \r\nL 60.618112 52.354434 \r\nL 60.618112 52.181037 \r\nL 33.2875 52.181037 \r\nz\r\n\" style=\"fill:#1f77b4;\"/>\r\n   </g>\r\n   <g id=\"patch_511\">\r\n    <path clip-path=\"url(#p5a8e9111bc)\" d=\"M 33.2875 52.00764 \r\nL 124.389541 52.00764 \r\nL 124.389541 51.834243 \r\nL 33.2875 51.834243 \r\nz\r\n\" style=\"fill:#1f77b4;\"/>\r\n   </g>\r\n   <g id=\"patch_512\">\r\n    <path clip-path=\"url(#p5a8e9111bc)\" d=\"M 33.2875 51.660846 \r\nL 51.507908 51.660846 \r\nL 51.507908 51.487448 \r\nL 33.2875 51.487448 \r\nz\r\n\" style=\"fill:#1f77b4;\"/>\r\n   </g>\r\n   <g id=\"patch_513\">\r\n    <path clip-path=\"url(#p5a8e9111bc)\" d=\"M 33.2875 51.314051 \r\nL 188.160969 51.314051 \r\nL 188.160969 51.140654 \r\nL 33.2875 51.140654 \r\nz\r\n\" style=\"fill:#1f77b4;\"/>\r\n   </g>\r\n   <g id=\"patch_514\">\r\n    <path clip-path=\"url(#p5a8e9111bc)\" d=\"M 33.2875 50.967257 \r\nL 169.940561 50.967257 \r\nL 169.940561 50.79386 \r\nL 33.2875 50.79386 \r\nz\r\n\" style=\"fill:#1f77b4;\"/>\r\n   </g>\r\n   <g id=\"patch_515\">\r\n    <path clip-path=\"url(#p5a8e9111bc)\" d=\"M 33.2875 50.620463 \r\nL 106.169133 50.620463 \r\nL 106.169133 50.447066 \r\nL 33.2875 50.447066 \r\nz\r\n\" style=\"fill:#1f77b4;\"/>\r\n   </g>\r\n   <g id=\"patch_516\">\r\n    <path clip-path=\"url(#p5a8e9111bc)\" d=\"M 33.2875 50.273669 \r\nL 124.389541 50.273669 \r\nL 124.389541 50.100271 \r\nL 33.2875 50.100271 \r\nz\r\n\" style=\"fill:#1f77b4;\"/>\r\n   </g>\r\n   <g id=\"patch_517\">\r\n    <path clip-path=\"url(#p5a8e9111bc)\" d=\"M 33.2875 49.926874 \r\nL 188.160969 49.926874 \r\nL 188.160969 49.753477 \r\nL 33.2875 49.753477 \r\nz\r\n\" style=\"fill:#1f77b4;\"/>\r\n   </g>\r\n   <g id=\"patch_518\">\r\n    <path clip-path=\"url(#p5a8e9111bc)\" d=\"M 33.2875 49.58008 \r\nL 188.160969 49.58008 \r\nL 188.160969 49.406683 \r\nL 33.2875 49.406683 \r\nz\r\n\" style=\"fill:#1f77b4;\"/>\r\n   </g>\r\n   <g id=\"patch_519\">\r\n    <path clip-path=\"url(#p5a8e9111bc)\" d=\"M 33.2875 49.233286 \r\nL 69.728316 49.233286 \r\nL 69.728316 49.059889 \r\nL 33.2875 49.059889 \r\nz\r\n\" style=\"fill:#1f77b4;\"/>\r\n   </g>\r\n   <g id=\"patch_520\">\r\n    <path clip-path=\"url(#p5a8e9111bc)\" d=\"M 33.2875 48.886491 \r\nL 215.491582 48.886491 \r\nL 215.491582 48.713094 \r\nL 33.2875 48.713094 \r\nz\r\n\" style=\"fill:#1f77b4;\"/>\r\n   </g>\r\n   <g id=\"patch_521\">\r\n    <path clip-path=\"url(#p5a8e9111bc)\" d=\"M 33.2875 48.539697 \r\nL 133.499745 48.539697 \r\nL 133.499745 48.3663 \r\nL 33.2875 48.3663 \r\nz\r\n\" style=\"fill:#1f77b4;\"/>\r\n   </g>\r\n   <g id=\"patch_522\">\r\n    <path clip-path=\"url(#p5a8e9111bc)\" d=\"M 33.2875 48.192903 \r\nL 42.397704 48.192903 \r\nL 42.397704 48.019506 \r\nL 33.2875 48.019506 \r\nz\r\n\" style=\"fill:#1f77b4;\"/>\r\n   </g>\r\n   <g id=\"patch_523\">\r\n    <path clip-path=\"url(#p5a8e9111bc)\" d=\"M 33.2875 47.846109 \r\nL 142.609949 47.846109 \r\nL 142.609949 47.672712 \r\nL 33.2875 47.672712 \r\nz\r\n\" style=\"fill:#1f77b4;\"/>\r\n   </g>\r\n   <g id=\"patch_524\">\r\n    <path clip-path=\"url(#p5a8e9111bc)\" d=\"M 33.2875 47.499314 \r\nL 124.389541 47.499314 \r\nL 124.389541 47.325917 \r\nL 33.2875 47.325917 \r\nz\r\n\" style=\"fill:#1f77b4;\"/>\r\n   </g>\r\n   <g id=\"patch_525\">\r\n    <path clip-path=\"url(#p5a8e9111bc)\" d=\"M 33.2875 47.15252 \r\nL 133.499745 47.15252 \r\nL 133.499745 46.979123 \r\nL 33.2875 46.979123 \r\nz\r\n\" style=\"fill:#1f77b4;\"/>\r\n   </g>\r\n   <g id=\"patch_526\">\r\n    <path clip-path=\"url(#p5a8e9111bc)\" d=\"M 33.2875 46.805726 \r\nL 78.83852 46.805726 \r\nL 78.83852 46.632329 \r\nL 33.2875 46.632329 \r\nz\r\n\" style=\"fill:#1f77b4;\"/>\r\n   </g>\r\n   <g id=\"patch_527\">\r\n    <path clip-path=\"url(#p5a8e9111bc)\" d=\"M 33.2875 46.458932 \r\nL 69.728316 46.458932 \r\nL 69.728316 46.285535 \r\nL 33.2875 46.285535 \r\nz\r\n\" style=\"fill:#1f77b4;\"/>\r\n   </g>\r\n   <g id=\"patch_528\">\r\n    <path clip-path=\"url(#p5a8e9111bc)\" d=\"M 33.2875 46.112137 \r\nL 169.940561 46.112137 \r\nL 169.940561 45.93874 \r\nL 33.2875 45.93874 \r\nz\r\n\" style=\"fill:#1f77b4;\"/>\r\n   </g>\r\n   <g id=\"patch_529\">\r\n    <path clip-path=\"url(#p5a8e9111bc)\" d=\"M 33.2875 45.765343 \r\nL 33.2875 45.765343 \r\nL 33.2875 45.591946 \r\nL 33.2875 45.591946 \r\nz\r\n\" style=\"fill:#1f77b4;\"/>\r\n   </g>\r\n   <g id=\"patch_530\">\r\n    <path clip-path=\"url(#p5a8e9111bc)\" d=\"M 33.2875 45.418549 \r\nL 115.279337 45.418549 \r\nL 115.279337 45.245152 \r\nL 33.2875 45.245152 \r\nz\r\n\" style=\"fill:#1f77b4;\"/>\r\n   </g>\r\n   <g id=\"patch_531\">\r\n    <path clip-path=\"url(#p5a8e9111bc)\" d=\"M 33.2875 45.071755 \r\nL 69.728316 45.071755 \r\nL 69.728316 44.898358 \r\nL 33.2875 44.898358 \r\nz\r\n\" style=\"fill:#1f77b4;\"/>\r\n   </g>\r\n   <g id=\"patch_532\">\r\n    <path clip-path=\"url(#p5a8e9111bc)\" d=\"M 33.2875 44.72496 \r\nL 106.169133 44.72496 \r\nL 106.169133 44.551563 \r\nL 33.2875 44.551563 \r\nz\r\n\" style=\"fill:#1f77b4;\"/>\r\n   </g>\r\n   <g id=\"patch_533\">\r\n    <path clip-path=\"url(#p5a8e9111bc)\" d=\"M 33.2875 44.378166 \r\nL 78.83852 44.378166 \r\nL 78.83852 44.204769 \r\nL 33.2875 44.204769 \r\nz\r\n\" style=\"fill:#1f77b4;\"/>\r\n   </g>\r\n   <g id=\"patch_534\">\r\n    <path clip-path=\"url(#p5a8e9111bc)\" d=\"M 33.2875 44.031372 \r\nL 78.83852 44.031372 \r\nL 78.83852 43.857975 \r\nL 33.2875 43.857975 \r\nz\r\n\" style=\"fill:#1f77b4;\"/>\r\n   </g>\r\n   <g id=\"patch_535\">\r\n    <path clip-path=\"url(#p5a8e9111bc)\" d=\"M 33.2875 43.684578 \r\nL 97.058929 43.684578 \r\nL 97.058929 43.51118 \r\nL 33.2875 43.51118 \r\nz\r\n\" style=\"fill:#1f77b4;\"/>\r\n   </g>\r\n   <g id=\"patch_536\">\r\n    <path clip-path=\"url(#p5a8e9111bc)\" d=\"M 33.2875 43.337783 \r\nL 106.169133 43.337783 \r\nL 106.169133 43.164386 \r\nL 33.2875 43.164386 \r\nz\r\n\" style=\"fill:#1f77b4;\"/>\r\n   </g>\r\n   <g id=\"patch_537\">\r\n    <path clip-path=\"url(#p5a8e9111bc)\" d=\"M 33.2875 42.990989 \r\nL 78.83852 42.990989 \r\nL 78.83852 42.817592 \r\nL 33.2875 42.817592 \r\nz\r\n\" style=\"fill:#1f77b4;\"/>\r\n   </g>\r\n   <g id=\"patch_538\">\r\n    <path clip-path=\"url(#p5a8e9111bc)\" d=\"M 33.2875 42.644195 \r\nL 69.728316 42.644195 \r\nL 69.728316 42.470798 \r\nL 33.2875 42.470798 \r\nz\r\n\" style=\"fill:#1f77b4;\"/>\r\n   </g>\r\n   <g id=\"patch_539\">\r\n    <path clip-path=\"url(#p5a8e9111bc)\" d=\"M 33.2875 42.297401 \r\nL 151.720153 42.297401 \r\nL 151.720153 42.124003 \r\nL 33.2875 42.124003 \r\nz\r\n\" style=\"fill:#1f77b4;\"/>\r\n   </g>\r\n   <g id=\"patch_540\">\r\n    <path clip-path=\"url(#p5a8e9111bc)\" d=\"M 33.2875 41.950606 \r\nL 42.397704 41.950606 \r\nL 42.397704 41.777209 \r\nL 33.2875 41.777209 \r\nz\r\n\" style=\"fill:#1f77b4;\"/>\r\n   </g>\r\n   <g id=\"patch_541\">\r\n    <path clip-path=\"url(#p5a8e9111bc)\" d=\"M 33.2875 41.603812 \r\nL 78.83852 41.603812 \r\nL 78.83852 41.430415 \r\nL 33.2875 41.430415 \r\nz\r\n\" style=\"fill:#1f77b4;\"/>\r\n   </g>\r\n   <g id=\"patch_542\">\r\n    <path clip-path=\"url(#p5a8e9111bc)\" d=\"M 33.2875 41.257018 \r\nL 69.728316 41.257018 \r\nL 69.728316 41.083621 \r\nL 33.2875 41.083621 \r\nz\r\n\" style=\"fill:#1f77b4;\"/>\r\n   </g>\r\n   <g id=\"patch_543\">\r\n    <path clip-path=\"url(#p5a8e9111bc)\" d=\"M 33.2875 40.910224 \r\nL 106.169133 40.910224 \r\nL 106.169133 40.736826 \r\nL 33.2875 40.736826 \r\nz\r\n\" style=\"fill:#1f77b4;\"/>\r\n   </g>\r\n   <g id=\"patch_544\">\r\n    <path clip-path=\"url(#p5a8e9111bc)\" d=\"M 33.2875 40.563429 \r\nL 51.507908 40.563429 \r\nL 51.507908 40.390032 \r\nL 33.2875 40.390032 \r\nz\r\n\" style=\"fill:#1f77b4;\"/>\r\n   </g>\r\n   <g id=\"patch_545\">\r\n    <path clip-path=\"url(#p5a8e9111bc)\" d=\"M 33.2875 40.216635 \r\nL 115.279337 40.216635 \r\nL 115.279337 40.043238 \r\nL 33.2875 40.043238 \r\nz\r\n\" style=\"fill:#1f77b4;\"/>\r\n   </g>\r\n   <g id=\"patch_546\">\r\n    <path clip-path=\"url(#p5a8e9111bc)\" d=\"M 33.2875 39.869841 \r\nL 78.83852 39.869841 \r\nL 78.83852 39.696444 \r\nL 33.2875 39.696444 \r\nz\r\n\" style=\"fill:#1f77b4;\"/>\r\n   </g>\r\n   <g id=\"patch_547\">\r\n    <path clip-path=\"url(#p5a8e9111bc)\" d=\"M 33.2875 39.523047 \r\nL 106.169133 39.523047 \r\nL 106.169133 39.349649 \r\nL 33.2875 39.349649 \r\nz\r\n\" style=\"fill:#1f77b4;\"/>\r\n   </g>\r\n   <g id=\"patch_548\">\r\n    <path clip-path=\"url(#p5a8e9111bc)\" d=\"M 33.2875 39.176252 \r\nL 78.83852 39.176252 \r\nL 78.83852 39.002855 \r\nL 33.2875 39.002855 \r\nz\r\n\" style=\"fill:#1f77b4;\"/>\r\n   </g>\r\n   <g id=\"patch_549\">\r\n    <path clip-path=\"url(#p5a8e9111bc)\" d=\"M 33.2875 38.829458 \r\nL 87.948724 38.829458 \r\nL 87.948724 38.656061 \r\nL 33.2875 38.656061 \r\nz\r\n\" style=\"fill:#1f77b4;\"/>\r\n   </g>\r\n   <g id=\"patch_550\">\r\n    <path clip-path=\"url(#p5a8e9111bc)\" d=\"M 33.2875 38.482664 \r\nL 60.618112 38.482664 \r\nL 60.618112 38.309267 \r\nL 33.2875 38.309267 \r\nz\r\n\" style=\"fill:#1f77b4;\"/>\r\n   </g>\r\n   <g id=\"patch_551\">\r\n    <path clip-path=\"url(#p5a8e9111bc)\" d=\"M 33.2875 38.135869 \r\nL 106.169133 38.135869 \r\nL 106.169133 37.962472 \r\nL 33.2875 37.962472 \r\nz\r\n\" style=\"fill:#1f77b4;\"/>\r\n   </g>\r\n   <g id=\"patch_552\">\r\n    <path clip-path=\"url(#p5a8e9111bc)\" d=\"M 33.2875 37.789075 \r\nL 60.618112 37.789075 \r\nL 60.618112 37.615678 \r\nL 33.2875 37.615678 \r\nz\r\n\" style=\"fill:#1f77b4;\"/>\r\n   </g>\r\n   <g id=\"patch_553\">\r\n    <path clip-path=\"url(#p5a8e9111bc)\" d=\"M 33.2875 37.442281 \r\nL 60.618112 37.442281 \r\nL 60.618112 37.268884 \r\nL 33.2875 37.268884 \r\nz\r\n\" style=\"fill:#1f77b4;\"/>\r\n   </g>\r\n   <g id=\"patch_554\">\r\n    <path clip-path=\"url(#p5a8e9111bc)\" d=\"M 33.2875 37.095487 \r\nL 51.507908 37.095487 \r\nL 51.507908 36.92209 \r\nL 33.2875 36.92209 \r\nz\r\n\" style=\"fill:#1f77b4;\"/>\r\n   </g>\r\n   <g id=\"patch_555\">\r\n    <path clip-path=\"url(#p5a8e9111bc)\" d=\"M 33.2875 36.748692 \r\nL 60.618112 36.748692 \r\nL 60.618112 36.575295 \r\nL 33.2875 36.575295 \r\nz\r\n\" style=\"fill:#1f77b4;\"/>\r\n   </g>\r\n   <g id=\"patch_556\">\r\n    <path clip-path=\"url(#p5a8e9111bc)\" d=\"M 33.2875 36.401898 \r\nL 97.058929 36.401898 \r\nL 97.058929 36.228501 \r\nL 33.2875 36.228501 \r\nz\r\n\" style=\"fill:#1f77b4;\"/>\r\n   </g>\r\n   <g id=\"patch_557\">\r\n    <path clip-path=\"url(#p5a8e9111bc)\" d=\"M 33.2875 36.055104 \r\nL 60.618112 36.055104 \r\nL 60.618112 35.881707 \r\nL 33.2875 35.881707 \r\nz\r\n\" style=\"fill:#1f77b4;\"/>\r\n   </g>\r\n   <g id=\"patch_558\">\r\n    <path clip-path=\"url(#p5a8e9111bc)\" d=\"M 33.2875 35.70831 \r\nL 97.058929 35.70831 \r\nL 97.058929 35.534913 \r\nL 33.2875 35.534913 \r\nz\r\n\" style=\"fill:#1f77b4;\"/>\r\n   </g>\r\n   <g id=\"patch_559\">\r\n    <path clip-path=\"url(#p5a8e9111bc)\" d=\"M 33.2875 35.361515 \r\nL 60.618112 35.361515 \r\nL 60.618112 35.188118 \r\nL 33.2875 35.188118 \r\nz\r\n\" style=\"fill:#1f77b4;\"/>\r\n   </g>\r\n   <g id=\"patch_560\">\r\n    <path clip-path=\"url(#p5a8e9111bc)\" d=\"M 33.2875 35.014721 \r\nL 60.618112 35.014721 \r\nL 60.618112 34.841324 \r\nL 33.2875 34.841324 \r\nz\r\n\" style=\"fill:#1f77b4;\"/>\r\n   </g>\r\n   <g id=\"patch_561\">\r\n    <path clip-path=\"url(#p5a8e9111bc)\" d=\"M 33.2875 34.667927 \r\nL 60.618112 34.667927 \r\nL 60.618112 34.49453 \r\nL 33.2875 34.49453 \r\nz\r\n\" style=\"fill:#1f77b4;\"/>\r\n   </g>\r\n   <g id=\"patch_562\">\r\n    <path clip-path=\"url(#p5a8e9111bc)\" d=\"M 33.2875 34.321133 \r\nL 78.83852 34.321133 \r\nL 78.83852 34.147735 \r\nL 33.2875 34.147735 \r\nz\r\n\" style=\"fill:#1f77b4;\"/>\r\n   </g>\r\n   <g id=\"patch_563\">\r\n    <path clip-path=\"url(#p5a8e9111bc)\" d=\"M 33.2875 33.974338 \r\nL 51.507908 33.974338 \r\nL 51.507908 33.800941 \r\nL 33.2875 33.800941 \r\nz\r\n\" style=\"fill:#1f77b4;\"/>\r\n   </g>\r\n   <g id=\"patch_564\">\r\n    <path clip-path=\"url(#p5a8e9111bc)\" d=\"M 33.2875 33.627544 \r\nL 115.279337 33.627544 \r\nL 115.279337 33.454147 \r\nL 33.2875 33.454147 \r\nz\r\n\" style=\"fill:#1f77b4;\"/>\r\n   </g>\r\n   <g id=\"patch_565\">\r\n    <path clip-path=\"url(#p5a8e9111bc)\" d=\"M 33.2875 33.28075 \r\nL 78.83852 33.28075 \r\nL 78.83852 33.107353 \r\nL 33.2875 33.107353 \r\nz\r\n\" style=\"fill:#1f77b4;\"/>\r\n   </g>\r\n   <g id=\"patch_566\">\r\n    <path clip-path=\"url(#p5a8e9111bc)\" d=\"M 33.2875 32.933956 \r\nL 69.728316 32.933956 \r\nL 69.728316 32.760558 \r\nL 33.2875 32.760558 \r\nz\r\n\" style=\"fill:#1f77b4;\"/>\r\n   </g>\r\n   <g id=\"patch_567\">\r\n    <path clip-path=\"url(#p5a8e9111bc)\" d=\"M 33.2875 32.587161 \r\nL 151.720153 32.587161 \r\nL 151.720153 32.413764 \r\nL 33.2875 32.413764 \r\nz\r\n\" style=\"fill:#1f77b4;\"/>\r\n   </g>\r\n   <g id=\"patch_568\">\r\n    <path clip-path=\"url(#p5a8e9111bc)\" d=\"M 33.2875 32.240367 \r\nL 87.948724 32.240367 \r\nL 87.948724 32.06697 \r\nL 33.2875 32.06697 \r\nz\r\n\" style=\"fill:#1f77b4;\"/>\r\n   </g>\r\n   <g id=\"patch_569\">\r\n    <path clip-path=\"url(#p5a8e9111bc)\" d=\"M 33.2875 31.893573 \r\nL 78.83852 31.893573 \r\nL 78.83852 31.720176 \r\nL 33.2875 31.720176 \r\nz\r\n\" style=\"fill:#1f77b4;\"/>\r\n   </g>\r\n   <g id=\"patch_570\">\r\n    <path clip-path=\"url(#p5a8e9111bc)\" d=\"M 33.2875 31.546779 \r\nL 160.830357 31.546779 \r\nL 160.830357 31.373381 \r\nL 33.2875 31.373381 \r\nz\r\n\" style=\"fill:#1f77b4;\"/>\r\n   </g>\r\n   <g id=\"patch_571\">\r\n    <path clip-path=\"url(#p5a8e9111bc)\" d=\"M 33.2875 31.199984 \r\nL 124.389541 31.199984 \r\nL 124.389541 31.026587 \r\nL 33.2875 31.026587 \r\nz\r\n\" style=\"fill:#1f77b4;\"/>\r\n   </g>\r\n   <g id=\"patch_572\">\r\n    <path clip-path=\"url(#p5a8e9111bc)\" d=\"M 33.2875 30.85319 \r\nL 33.2875 30.85319 \r\nL 33.2875 30.679793 \r\nL 33.2875 30.679793 \r\nz\r\n\" style=\"fill:#1f77b4;\"/>\r\n   </g>\r\n   <g id=\"patch_573\">\r\n    <path clip-path=\"url(#p5a8e9111bc)\" d=\"M 33.2875 30.506396 \r\nL 97.058929 30.506396 \r\nL 97.058929 30.332999 \r\nL 33.2875 30.332999 \r\nz\r\n\" style=\"fill:#1f77b4;\"/>\r\n   </g>\r\n   <g id=\"patch_574\">\r\n    <path clip-path=\"url(#p5a8e9111bc)\" d=\"M 33.2875 30.159602 \r\nL 106.169133 30.159602 \r\nL 106.169133 29.986204 \r\nL 33.2875 29.986204 \r\nz\r\n\" style=\"fill:#1f77b4;\"/>\r\n   </g>\r\n   <g id=\"patch_575\">\r\n    <path clip-path=\"url(#p5a8e9111bc)\" d=\"M 33.2875 29.812807 \r\nL 188.160969 29.812807 \r\nL 188.160969 29.63941 \r\nL 33.2875 29.63941 \r\nz\r\n\" style=\"fill:#1f77b4;\"/>\r\n   </g>\r\n   <g id=\"patch_576\">\r\n    <path clip-path=\"url(#p5a8e9111bc)\" d=\"M 33.2875 29.466013 \r\nL 33.2875 29.466013 \r\nL 33.2875 29.292616 \r\nL 33.2875 29.292616 \r\nz\r\n\" style=\"fill:#1f77b4;\"/>\r\n   </g>\r\n   <g id=\"patch_577\">\r\n    <path clip-path=\"url(#p5a8e9111bc)\" d=\"M 33.2875 29.119219 \r\nL 51.507908 29.119219 \r\nL 51.507908 28.945822 \r\nL 33.2875 28.945822 \r\nz\r\n\" style=\"fill:#1f77b4;\"/>\r\n   </g>\r\n   <g id=\"patch_578\">\r\n    <path clip-path=\"url(#p5a8e9111bc)\" d=\"M 33.2875 28.772424 \r\nL 160.830357 28.772424 \r\nL 160.830357 28.599027 \r\nL 33.2875 28.599027 \r\nz\r\n\" style=\"fill:#1f77b4;\"/>\r\n   </g>\r\n   <g id=\"patch_579\">\r\n    <path clip-path=\"url(#p5a8e9111bc)\" d=\"M 33.2875 28.42563 \r\nL 151.720153 28.42563 \r\nL 151.720153 28.252233 \r\nL 33.2875 28.252233 \r\nz\r\n\" style=\"fill:#1f77b4;\"/>\r\n   </g>\r\n   <g id=\"patch_580\">\r\n    <path clip-path=\"url(#p5a8e9111bc)\" d=\"M 33.2875 28.078836 \r\nL 169.940561 28.078836 \r\nL 169.940561 27.905439 \r\nL 33.2875 27.905439 \r\nz\r\n\" style=\"fill:#1f77b4;\"/>\r\n   </g>\r\n   <g id=\"patch_581\">\r\n    <path clip-path=\"url(#p5a8e9111bc)\" d=\"M 33.2875 27.732042 \r\nL 60.618112 27.732042 \r\nL 60.618112 27.558645 \r\nL 33.2875 27.558645 \r\nz\r\n\" style=\"fill:#1f77b4;\"/>\r\n   </g>\r\n   <g id=\"patch_582\">\r\n    <path clip-path=\"url(#p5a8e9111bc)\" d=\"M 33.2875 27.385247 \r\nL 169.940561 27.385247 \r\nL 169.940561 27.21185 \r\nL 33.2875 27.21185 \r\nz\r\n\" style=\"fill:#1f77b4;\"/>\r\n   </g>\r\n   <g id=\"patch_583\">\r\n    <path clip-path=\"url(#p5a8e9111bc)\" d=\"M 33.2875 27.038453 \r\nL 60.618112 27.038453 \r\nL 60.618112 26.865056 \r\nL 33.2875 26.865056 \r\nz\r\n\" style=\"fill:#1f77b4;\"/>\r\n   </g>\r\n   <g id=\"patch_584\">\r\n    <path clip-path=\"url(#p5a8e9111bc)\" d=\"M 33.2875 26.691659 \r\nL 78.83852 26.691659 \r\nL 78.83852 26.518262 \r\nL 33.2875 26.518262 \r\nz\r\n\" style=\"fill:#1f77b4;\"/>\r\n   </g>\r\n   <g id=\"patch_585\">\r\n    <path clip-path=\"url(#p5a8e9111bc)\" d=\"M 33.2875 26.344865 \r\nL 133.499745 26.344865 \r\nL 133.499745 26.171468 \r\nL 33.2875 26.171468 \r\nz\r\n\" style=\"fill:#1f77b4;\"/>\r\n   </g>\r\n   <g id=\"patch_586\">\r\n    <path clip-path=\"url(#p5a8e9111bc)\" d=\"M 33.2875 25.99807 \r\nL 133.499745 25.99807 \r\nL 133.499745 25.824673 \r\nL 33.2875 25.824673 \r\nz\r\n\" style=\"fill:#1f77b4;\"/>\r\n   </g>\r\n   <g id=\"patch_587\">\r\n    <path clip-path=\"url(#p5a8e9111bc)\" d=\"M 33.2875 25.651276 \r\nL 51.507908 25.651276 \r\nL 51.507908 25.477879 \r\nL 33.2875 25.477879 \r\nz\r\n\" style=\"fill:#1f77b4;\"/>\r\n   </g>\r\n   <g id=\"patch_588\">\r\n    <path clip-path=\"url(#p5a8e9111bc)\" d=\"M 33.2875 25.304482 \r\nL 33.2875 25.304482 \r\nL 33.2875 25.131085 \r\nL 33.2875 25.131085 \r\nz\r\n\" style=\"fill:#1f77b4;\"/>\r\n   </g>\r\n   <g id=\"patch_589\">\r\n    <path clip-path=\"url(#p5a8e9111bc)\" d=\"M 33.2875 24.957688 \r\nL 51.507908 24.957688 \r\nL 51.507908 24.784291 \r\nL 33.2875 24.784291 \r\nz\r\n\" style=\"fill:#1f77b4;\"/>\r\n   </g>\r\n   <g id=\"patch_590\">\r\n    <path clip-path=\"url(#p5a8e9111bc)\" d=\"M 33.2875 24.610893 \r\nL 42.397704 24.610893 \r\nL 42.397704 24.437496 \r\nL 33.2875 24.437496 \r\nz\r\n\" style=\"fill:#1f77b4;\"/>\r\n   </g>\r\n   <g id=\"patch_591\">\r\n    <path clip-path=\"url(#p5a8e9111bc)\" d=\"M 33.2875 24.264099 \r\nL 60.618112 24.264099 \r\nL 60.618112 24.090702 \r\nL 33.2875 24.090702 \r\nz\r\n\" style=\"fill:#1f77b4;\"/>\r\n   </g>\r\n   <g id=\"patch_592\">\r\n    <path clip-path=\"url(#p5a8e9111bc)\" d=\"M 33.2875 23.917305 \r\nL 33.2875 23.917305 \r\nL 33.2875 23.743908 \r\nL 33.2875 23.743908 \r\nz\r\n\" style=\"fill:#1f77b4;\"/>\r\n   </g>\r\n   <g id=\"patch_593\">\r\n    <path clip-path=\"url(#p5a8e9111bc)\" d=\"M 33.2875 23.570511 \r\nL 51.507908 23.570511 \r\nL 51.507908 23.397113 \r\nL 33.2875 23.397113 \r\nz\r\n\" style=\"fill:#1f77b4;\"/>\r\n   </g>\r\n   <g id=\"patch_594\">\r\n    <path clip-path=\"url(#p5a8e9111bc)\" d=\"M 33.2875 23.223716 \r\nL 42.397704 23.223716 \r\nL 42.397704 23.050319 \r\nL 33.2875 23.050319 \r\nz\r\n\" style=\"fill:#1f77b4;\"/>\r\n   </g>\r\n   <g id=\"patch_595\">\r\n    <path clip-path=\"url(#p5a8e9111bc)\" d=\"M 33.2875 22.876922 \r\nL 69.728316 22.876922 \r\nL 69.728316 22.703525 \r\nL 33.2875 22.703525 \r\nz\r\n\" style=\"fill:#1f77b4;\"/>\r\n   </g>\r\n   <g id=\"patch_596\">\r\n    <path clip-path=\"url(#p5a8e9111bc)\" d=\"M 33.2875 22.530128 \r\nL 142.609949 22.530128 \r\nL 142.609949 22.356731 \r\nL 33.2875 22.356731 \r\nz\r\n\" style=\"fill:#1f77b4;\"/>\r\n   </g>\r\n   <g id=\"patch_597\">\r\n    <path clip-path=\"url(#p5a8e9111bc)\" d=\"M 33.2875 22.183334 \r\nL 78.83852 22.183334 \r\nL 78.83852 22.009936 \r\nL 33.2875 22.009936 \r\nz\r\n\" style=\"fill:#1f77b4;\"/>\r\n   </g>\r\n   <g id=\"patch_598\">\r\n    <path clip-path=\"url(#p5a8e9111bc)\" d=\"M 33.2875 21.836539 \r\nL 42.397704 21.836539 \r\nL 42.397704 21.663142 \r\nL 33.2875 21.663142 \r\nz\r\n\" style=\"fill:#1f77b4;\"/>\r\n   </g>\r\n   <g id=\"patch_599\">\r\n    <path clip-path=\"url(#p5a8e9111bc)\" d=\"M 33.2875 21.489745 \r\nL 87.948724 21.489745 \r\nL 87.948724 21.316348 \r\nL 33.2875 21.316348 \r\nz\r\n\" style=\"fill:#1f77b4;\"/>\r\n   </g>\r\n   <g id=\"patch_600\">\r\n    <path clip-path=\"url(#p5a8e9111bc)\" d=\"M 33.2875 21.142951 \r\nL 42.397704 21.142951 \r\nL 42.397704 20.969554 \r\nL 33.2875 20.969554 \r\nz\r\n\" style=\"fill:#1f77b4;\"/>\r\n   </g>\r\n   <g id=\"patch_601\">\r\n    <path clip-path=\"url(#p5a8e9111bc)\" d=\"M 33.2875 20.796157 \r\nL 206.381378 20.796157 \r\nL 206.381378 20.622759 \r\nL 33.2875 20.622759 \r\nz\r\n\" style=\"fill:#1f77b4;\"/>\r\n   </g>\r\n   <g id=\"patch_602\">\r\n    <path clip-path=\"url(#p5a8e9111bc)\" d=\"M 33.2875 20.449362 \r\nL 33.2875 20.449362 \r\nL 33.2875 20.275965 \r\nL 33.2875 20.275965 \r\nz\r\n\" style=\"fill:#1f77b4;\"/>\r\n   </g>\r\n   <g id=\"patch_603\">\r\n    <path clip-path=\"url(#p5a8e9111bc)\" d=\"M 33.2875 20.102568 \r\nL 42.397704 20.102568 \r\nL 42.397704 19.929171 \r\nL 33.2875 19.929171 \r\nz\r\n\" style=\"fill:#1f77b4;\"/>\r\n   </g>\r\n   <g id=\"patch_604\">\r\n    <path clip-path=\"url(#p5a8e9111bc)\" d=\"M 33.2875 19.755774 \r\nL 179.050765 19.755774 \r\nL 179.050765 19.582377 \r\nL 33.2875 19.582377 \r\nz\r\n\" style=\"fill:#1f77b4;\"/>\r\n   </g>\r\n   <g id=\"patch_605\">\r\n    <path clip-path=\"url(#p5a8e9111bc)\" d=\"M 33.2875 19.40898 \r\nL 78.83852 19.40898 \r\nL 78.83852 19.235582 \r\nL 33.2875 19.235582 \r\nz\r\n\" style=\"fill:#1f77b4;\"/>\r\n   </g>\r\n   <g id=\"patch_606\">\r\n    <path clip-path=\"url(#p5a8e9111bc)\" d=\"M 33.2875 19.062185 \r\nL 51.507908 19.062185 \r\nL 51.507908 18.888788 \r\nL 33.2875 18.888788 \r\nz\r\n\" style=\"fill:#1f77b4;\"/>\r\n   </g>\r\n   <g id=\"patch_607\">\r\n    <path clip-path=\"url(#p5a8e9111bc)\" d=\"M 33.2875 18.715391 \r\nL 42.397704 18.715391 \r\nL 42.397704 18.541994 \r\nL 33.2875 18.541994 \r\nz\r\n\" style=\"fill:#1f77b4;\"/>\r\n   </g>\r\n   <g id=\"patch_608\">\r\n    <path clip-path=\"url(#p5a8e9111bc)\" d=\"M 33.2875 18.368597 \r\nL 133.499745 18.368597 \r\nL 133.499745 18.1952 \r\nL 33.2875 18.1952 \r\nz\r\n\" style=\"fill:#1f77b4;\"/>\r\n   </g>\r\n   <g id=\"patch_609\">\r\n    <path clip-path=\"url(#p5a8e9111bc)\" d=\"M 33.2875 18.021802 \r\nL 133.499745 18.021802 \r\nL 133.499745 17.848405 \r\nL 33.2875 17.848405 \r\nz\r\n\" style=\"fill:#1f77b4;\"/>\r\n   </g>\r\n   <g id=\"patch_610\">\r\n    <path clip-path=\"url(#p5a8e9111bc)\" d=\"M 33.2875 17.675008 \r\nL 87.948724 17.675008 \r\nL 87.948724 17.501611 \r\nL 33.2875 17.501611 \r\nz\r\n\" style=\"fill:#1f77b4;\"/>\r\n   </g>\r\n   <g id=\"patch_611\">\r\n    <path clip-path=\"url(#p5a8e9111bc)\" d=\"M 33.2875 17.328214 \r\nL 142.609949 17.328214 \r\nL 142.609949 17.154817 \r\nL 33.2875 17.154817 \r\nz\r\n\" style=\"fill:#1f77b4;\"/>\r\n   </g>\r\n   <g id=\"patch_612\">\r\n    <path clip-path=\"url(#p5a8e9111bc)\" d=\"M 33.2875 16.98142 \r\nL 33.2875 16.98142 \r\nL 33.2875 16.808023 \r\nL 33.2875 16.808023 \r\nz\r\n\" style=\"fill:#1f77b4;\"/>\r\n   </g>\r\n   <g id=\"patch_613\">\r\n    <path clip-path=\"url(#p5a8e9111bc)\" d=\"M 33.2875 16.634625 \r\nL 60.618112 16.634625 \r\nL 60.618112 16.461228 \r\nL 33.2875 16.461228 \r\nz\r\n\" style=\"fill:#1f77b4;\"/>\r\n   </g>\r\n   <g id=\"patch_614\">\r\n    <path clip-path=\"url(#p5a8e9111bc)\" d=\"M 33.2875 16.287831 \r\nL 133.499745 16.287831 \r\nL 133.499745 16.114434 \r\nL 33.2875 16.114434 \r\nz\r\n\" style=\"fill:#1f77b4;\"/>\r\n   </g>\r\n   <g id=\"patch_615\">\r\n    <path clip-path=\"url(#p5a8e9111bc)\" d=\"M 33.2875 15.941037 \r\nL 142.609949 15.941037 \r\nL 142.609949 15.76764 \r\nL 33.2875 15.76764 \r\nz\r\n\" style=\"fill:#1f77b4;\"/>\r\n   </g>\r\n   <g id=\"patch_616\">\r\n    <path clip-path=\"url(#p5a8e9111bc)\" d=\"M 33.2875 15.594243 \r\nL 51.507908 15.594243 \r\nL 51.507908 15.420846 \r\nL 33.2875 15.420846 \r\nz\r\n\" style=\"fill:#1f77b4;\"/>\r\n   </g>\r\n   <g id=\"patch_617\">\r\n    <path clip-path=\"url(#p5a8e9111bc)\" d=\"M 33.2875 15.247448 \r\nL 115.279337 15.247448 \r\nL 115.279337 15.074051 \r\nL 33.2875 15.074051 \r\nz\r\n\" style=\"fill:#1f77b4;\"/>\r\n   </g>\r\n   <g id=\"patch_618\">\r\n    <path clip-path=\"url(#p5a8e9111bc)\" d=\"M 33.2875 14.900654 \r\nL 142.609949 14.900654 \r\nL 142.609949 14.727257 \r\nL 33.2875 14.727257 \r\nz\r\n\" style=\"fill:#1f77b4;\"/>\r\n   </g>\r\n   <g id=\"patch_619\">\r\n    <path clip-path=\"url(#p5a8e9111bc)\" d=\"M 33.2875 14.55386 \r\nL 69.728316 14.55386 \r\nL 69.728316 14.380463 \r\nL 33.2875 14.380463 \r\nz\r\n\" style=\"fill:#1f77b4;\"/>\r\n   </g>\r\n   <g id=\"patch_620\">\r\n    <path clip-path=\"url(#p5a8e9111bc)\" d=\"M 33.2875 14.207066 \r\nL 169.940561 14.207066 \r\nL 169.940561 14.033669 \r\nL 33.2875 14.033669 \r\nz\r\n\" style=\"fill:#1f77b4;\"/>\r\n   </g>\r\n   <g id=\"patch_621\">\r\n    <path clip-path=\"url(#p5a8e9111bc)\" d=\"M 33.2875 13.860271 \r\nL 42.397704 13.860271 \r\nL 42.397704 13.686874 \r\nL 33.2875 13.686874 \r\nz\r\n\" style=\"fill:#1f77b4;\"/>\r\n   </g>\r\n   <g id=\"patch_622\">\r\n    <path clip-path=\"url(#p5a8e9111bc)\" d=\"M 33.2875 13.513477 \r\nL 242.822194 13.513477 \r\nL 242.822194 13.34008 \r\nL 33.2875 13.34008 \r\nz\r\n\" style=\"fill:#1f77b4;\"/>\r\n   </g>\r\n   <g id=\"patch_623\">\r\n    <path clip-path=\"url(#p5a8e9111bc)\" d=\"M 33.2875 13.166683 \r\nL 33.2875 13.166683 \r\nL 33.2875 12.993286 \r\nL 33.2875 12.993286 \r\nz\r\n\" style=\"fill:#1f77b4;\"/>\r\n   </g>\r\n   <g id=\"patch_624\">\r\n    <path clip-path=\"url(#p5a8e9111bc)\" d=\"M 33.2875 12.819889 \r\nL 69.728316 12.819889 \r\nL 69.728316 12.646491 \r\nL 33.2875 12.646491 \r\nz\r\n\" style=\"fill:#1f77b4;\"/>\r\n   </g>\r\n   <g id=\"patch_625\">\r\n    <path clip-path=\"url(#p5a8e9111bc)\" d=\"M 33.2875 12.473094 \r\nL 97.058929 12.473094 \r\nL 97.058929 12.299697 \r\nL 33.2875 12.299697 \r\nz\r\n\" style=\"fill:#1f77b4;\"/>\r\n   </g>\r\n   <g id=\"patch_626\">\r\n    <path clip-path=\"url(#p5a8e9111bc)\" d=\"M 33.2875 12.1263 \r\nL 60.618112 12.1263 \r\nL 60.618112 11.952903 \r\nL 33.2875 11.952903 \r\nz\r\n\" style=\"fill:#1f77b4;\"/>\r\n   </g>\r\n   <g id=\"patch_627\">\r\n    <path clip-path=\"url(#p5a8e9111bc)\" d=\"M 33.2875 11.779506 \r\nL 42.397704 11.779506 \r\nL 42.397704 11.606109 \r\nL 33.2875 11.606109 \r\nz\r\n\" style=\"fill:#1f77b4;\"/>\r\n   </g>\r\n   <g id=\"patch_628\">\r\n    <path clip-path=\"url(#p5a8e9111bc)\" d=\"M 33.2875 11.432712 \r\nL 42.397704 11.432712 \r\nL 42.397704 11.259314 \r\nL 33.2875 11.259314 \r\nz\r\n\" style=\"fill:#1f77b4;\"/>\r\n   </g>\r\n   <g id=\"patch_629\">\r\n    <path clip-path=\"url(#p5a8e9111bc)\" d=\"M 33.2875 11.085917 \r\nL 60.618112 11.085917 \r\nL 60.618112 10.91252 \r\nL 33.2875 10.91252 \r\nz\r\n\" style=\"fill:#1f77b4;\"/>\r\n   </g>\r\n   <g id=\"matplotlib.axis_1\">\r\n    <g id=\"xtick_1\">\r\n     <g id=\"line2d_1\">\r\n      <defs>\r\n       <path d=\"M 0 0 \r\nL 0 3.5 \r\n\" id=\"m2886360842\" style=\"stroke:#000000;stroke-width:0.8;\"/>\r\n      </defs>\r\n      <g>\r\n       <use style=\"stroke:#000000;stroke-width:0.8;\" x=\"33.2875\" xlink:href=\"#m2886360842\" y=\"228.265822\"/>\r\n      </g>\r\n     </g>\r\n     <g id=\"text_1\">\r\n      <!-- 0 -->\r\n      <g transform=\"translate(30.10625 242.864259)scale(0.1 -0.1)\">\r\n       <defs>\r\n        <path d=\"M 31.78125 66.40625 \r\nQ 24.171875 66.40625 20.328125 58.90625 \r\nQ 16.5 51.421875 16.5 36.375 \r\nQ 16.5 21.390625 20.328125 13.890625 \r\nQ 24.171875 6.390625 31.78125 6.390625 \r\nQ 39.453125 6.390625 43.28125 13.890625 \r\nQ 47.125 21.390625 47.125 36.375 \r\nQ 47.125 51.421875 43.28125 58.90625 \r\nQ 39.453125 66.40625 31.78125 66.40625 \r\nz\r\nM 31.78125 74.21875 \r\nQ 44.046875 74.21875 50.515625 64.515625 \r\nQ 56.984375 54.828125 56.984375 36.375 \r\nQ 56.984375 17.96875 50.515625 8.265625 \r\nQ 44.046875 -1.421875 31.78125 -1.421875 \r\nQ 19.53125 -1.421875 13.0625 8.265625 \r\nQ 6.59375 17.96875 6.59375 36.375 \r\nQ 6.59375 54.828125 13.0625 64.515625 \r\nQ 19.53125 74.21875 31.78125 74.21875 \r\nz\r\n\" id=\"DejaVuSans-48\"/>\r\n       </defs>\r\n       <use xlink:href=\"#DejaVuSans-48\"/>\r\n      </g>\r\n     </g>\r\n    </g>\r\n    <g id=\"xtick_2\">\r\n     <g id=\"line2d_2\">\r\n      <g>\r\n       <use style=\"stroke:#000000;stroke-width:0.8;\" x=\"78.83852\" xlink:href=\"#m2886360842\" y=\"228.265822\"/>\r\n      </g>\r\n     </g>\r\n     <g id=\"text_2\">\r\n      <!-- 5 -->\r\n      <g transform=\"translate(75.65727 242.864259)scale(0.1 -0.1)\">\r\n       <defs>\r\n        <path d=\"M 10.796875 72.90625 \r\nL 49.515625 72.90625 \r\nL 49.515625 64.59375 \r\nL 19.828125 64.59375 \r\nL 19.828125 46.734375 \r\nQ 21.96875 47.46875 24.109375 47.828125 \r\nQ 26.265625 48.1875 28.421875 48.1875 \r\nQ 40.625 48.1875 47.75 41.5 \r\nQ 54.890625 34.8125 54.890625 23.390625 \r\nQ 54.890625 11.625 47.5625 5.09375 \r\nQ 40.234375 -1.421875 26.90625 -1.421875 \r\nQ 22.3125 -1.421875 17.546875 -0.640625 \r\nQ 12.796875 0.140625 7.71875 1.703125 \r\nL 7.71875 11.625 \r\nQ 12.109375 9.234375 16.796875 8.0625 \r\nQ 21.484375 6.890625 26.703125 6.890625 \r\nQ 35.15625 6.890625 40.078125 11.328125 \r\nQ 45.015625 15.765625 45.015625 23.390625 \r\nQ 45.015625 31 40.078125 35.4375 \r\nQ 35.15625 39.890625 26.703125 39.890625 \r\nQ 22.75 39.890625 18.8125 39.015625 \r\nQ 14.890625 38.140625 10.796875 36.28125 \r\nz\r\n\" id=\"DejaVuSans-53\"/>\r\n       </defs>\r\n       <use xlink:href=\"#DejaVuSans-53\"/>\r\n      </g>\r\n     </g>\r\n    </g>\r\n    <g id=\"xtick_3\">\r\n     <g id=\"line2d_3\">\r\n      <g>\r\n       <use style=\"stroke:#000000;stroke-width:0.8;\" x=\"124.389541\" xlink:href=\"#m2886360842\" y=\"228.265822\"/>\r\n      </g>\r\n     </g>\r\n     <g id=\"text_3\">\r\n      <!-- 10 -->\r\n      <g transform=\"translate(118.027041 242.864259)scale(0.1 -0.1)\">\r\n       <defs>\r\n        <path d=\"M 12.40625 8.296875 \r\nL 28.515625 8.296875 \r\nL 28.515625 63.921875 \r\nL 10.984375 60.40625 \r\nL 10.984375 69.390625 \r\nL 28.421875 72.90625 \r\nL 38.28125 72.90625 \r\nL 38.28125 8.296875 \r\nL 54.390625 8.296875 \r\nL 54.390625 0 \r\nL 12.40625 0 \r\nz\r\n\" id=\"DejaVuSans-49\"/>\r\n       </defs>\r\n       <use xlink:href=\"#DejaVuSans-49\"/>\r\n       <use x=\"63.623047\" xlink:href=\"#DejaVuSans-48\"/>\r\n      </g>\r\n     </g>\r\n    </g>\r\n    <g id=\"xtick_4\">\r\n     <g id=\"line2d_4\">\r\n      <g>\r\n       <use style=\"stroke:#000000;stroke-width:0.8;\" x=\"169.940561\" xlink:href=\"#m2886360842\" y=\"228.265822\"/>\r\n      </g>\r\n     </g>\r\n     <g id=\"text_4\">\r\n      <!-- 15 -->\r\n      <g transform=\"translate(163.578061 242.864259)scale(0.1 -0.1)\">\r\n       <use xlink:href=\"#DejaVuSans-49\"/>\r\n       <use x=\"63.623047\" xlink:href=\"#DejaVuSans-53\"/>\r\n      </g>\r\n     </g>\r\n    </g>\r\n    <g id=\"xtick_5\">\r\n     <g id=\"line2d_5\">\r\n      <g>\r\n       <use style=\"stroke:#000000;stroke-width:0.8;\" x=\"215.491582\" xlink:href=\"#m2886360842\" y=\"228.265822\"/>\r\n      </g>\r\n     </g>\r\n     <g id=\"text_5\">\r\n      <!-- 20 -->\r\n      <g transform=\"translate(209.129082 242.864259)scale(0.1 -0.1)\">\r\n       <defs>\r\n        <path d=\"M 19.1875 8.296875 \r\nL 53.609375 8.296875 \r\nL 53.609375 0 \r\nL 7.328125 0 \r\nL 7.328125 8.296875 \r\nQ 12.9375 14.109375 22.625 23.890625 \r\nQ 32.328125 33.6875 34.8125 36.53125 \r\nQ 39.546875 41.84375 41.421875 45.53125 \r\nQ 43.3125 49.21875 43.3125 52.78125 \r\nQ 43.3125 58.59375 39.234375 62.25 \r\nQ 35.15625 65.921875 28.609375 65.921875 \r\nQ 23.96875 65.921875 18.8125 64.3125 \r\nQ 13.671875 62.703125 7.8125 59.421875 \r\nL 7.8125 69.390625 \r\nQ 13.765625 71.78125 18.9375 73 \r\nQ 24.125 74.21875 28.421875 74.21875 \r\nQ 39.75 74.21875 46.484375 68.546875 \r\nQ 53.21875 62.890625 53.21875 53.421875 \r\nQ 53.21875 48.921875 51.53125 44.890625 \r\nQ 49.859375 40.875 45.40625 35.40625 \r\nQ 44.1875 33.984375 37.640625 27.21875 \r\nQ 31.109375 20.453125 19.1875 8.296875 \r\nz\r\n\" id=\"DejaVuSans-50\"/>\r\n       </defs>\r\n       <use xlink:href=\"#DejaVuSans-50\"/>\r\n       <use x=\"63.623047\" xlink:href=\"#DejaVuSans-48\"/>\r\n      </g>\r\n     </g>\r\n    </g>\r\n    <g id=\"xtick_6\">\r\n     <g id=\"line2d_6\">\r\n      <g>\r\n       <use style=\"stroke:#000000;stroke-width:0.8;\" x=\"261.042602\" xlink:href=\"#m2886360842\" y=\"228.265822\"/>\r\n      </g>\r\n     </g>\r\n     <g id=\"text_6\">\r\n      <!-- 25 -->\r\n      <g transform=\"translate(254.680102 242.864259)scale(0.1 -0.1)\">\r\n       <use xlink:href=\"#DejaVuSans-50\"/>\r\n       <use x=\"63.623047\" xlink:href=\"#DejaVuSans-53\"/>\r\n      </g>\r\n     </g>\r\n    </g>\r\n    <g id=\"xtick_7\">\r\n     <g id=\"line2d_7\">\r\n      <g>\r\n       <use style=\"stroke:#000000;stroke-width:0.8;\" x=\"306.593622\" xlink:href=\"#m2886360842\" y=\"228.265822\"/>\r\n      </g>\r\n     </g>\r\n     <g id=\"text_7\">\r\n      <!-- 30 -->\r\n      <g transform=\"translate(300.231122 242.864259)scale(0.1 -0.1)\">\r\n       <defs>\r\n        <path d=\"M 40.578125 39.3125 \r\nQ 47.65625 37.796875 51.625 33 \r\nQ 55.609375 28.21875 55.609375 21.1875 \r\nQ 55.609375 10.40625 48.1875 4.484375 \r\nQ 40.765625 -1.421875 27.09375 -1.421875 \r\nQ 22.515625 -1.421875 17.65625 -0.515625 \r\nQ 12.796875 0.390625 7.625 2.203125 \r\nL 7.625 11.71875 \r\nQ 11.71875 9.328125 16.59375 8.109375 \r\nQ 21.484375 6.890625 26.8125 6.890625 \r\nQ 36.078125 6.890625 40.9375 10.546875 \r\nQ 45.796875 14.203125 45.796875 21.1875 \r\nQ 45.796875 27.640625 41.28125 31.265625 \r\nQ 36.765625 34.90625 28.71875 34.90625 \r\nL 20.21875 34.90625 \r\nL 20.21875 43.015625 \r\nL 29.109375 43.015625 \r\nQ 36.375 43.015625 40.234375 45.921875 \r\nQ 44.09375 48.828125 44.09375 54.296875 \r\nQ 44.09375 59.90625 40.109375 62.90625 \r\nQ 36.140625 65.921875 28.71875 65.921875 \r\nQ 24.65625 65.921875 20.015625 65.03125 \r\nQ 15.375 64.15625 9.8125 62.3125 \r\nL 9.8125 71.09375 \r\nQ 15.4375 72.65625 20.34375 73.4375 \r\nQ 25.25 74.21875 29.59375 74.21875 \r\nQ 40.828125 74.21875 47.359375 69.109375 \r\nQ 53.90625 64.015625 53.90625 55.328125 \r\nQ 53.90625 49.265625 50.4375 45.09375 \r\nQ 46.96875 40.921875 40.578125 39.3125 \r\nz\r\n\" id=\"DejaVuSans-51\"/>\r\n       </defs>\r\n       <use xlink:href=\"#DejaVuSans-51\"/>\r\n       <use x=\"63.623047\" xlink:href=\"#DejaVuSans-48\"/>\r\n      </g>\r\n     </g>\r\n    </g>\r\n    <g id=\"xtick_8\">\r\n     <g id=\"line2d_8\">\r\n      <g>\r\n       <use style=\"stroke:#000000;stroke-width:0.8;\" x=\"352.144643\" xlink:href=\"#m2886360842\" y=\"228.265822\"/>\r\n      </g>\r\n     </g>\r\n     <g id=\"text_8\">\r\n      <!-- 35 -->\r\n      <g transform=\"translate(345.782143 242.864259)scale(0.1 -0.1)\">\r\n       <use xlink:href=\"#DejaVuSans-51\"/>\r\n       <use x=\"63.623047\" xlink:href=\"#DejaVuSans-53\"/>\r\n      </g>\r\n     </g>\r\n    </g>\r\n   </g>\r\n   <g id=\"matplotlib.axis_2\">\r\n    <g id=\"ytick_1\">\r\n     <g id=\"line2d_9\">\r\n      <defs>\r\n       <path d=\"M 0 0 \r\nL -3.5 0 \r\n\" id=\"m2a888fa1a6\" style=\"stroke:#000000;stroke-width:0.8;\"/>\r\n      </defs>\r\n      <g>\r\n       <use style=\"stroke:#000000;stroke-width:0.8;\" x=\"33.2875\" xlink:href=\"#m2a888fa1a6\" y=\"228.092424\"/>\r\n      </g>\r\n     </g>\r\n     <g id=\"text_9\">\r\n      <!-- 0 -->\r\n      <g transform=\"translate(19.925 231.891643)scale(0.1 -0.1)\">\r\n       <use xlink:href=\"#DejaVuSans-48\"/>\r\n      </g>\r\n     </g>\r\n    </g>\r\n    <g id=\"ytick_2\">\r\n     <g id=\"line2d_10\">\r\n      <g>\r\n       <use style=\"stroke:#000000;stroke-width:0.8;\" x=\"33.2875\" xlink:href=\"#m2a888fa1a6\" y=\"227.74563\"/>\r\n      </g>\r\n     </g>\r\n     <g id=\"text_10\">\r\n      <!-- 1 -->\r\n      <g transform=\"translate(19.925 231.544849)scale(0.1 -0.1)\">\r\n       <use xlink:href=\"#DejaVuSans-49\"/>\r\n      </g>\r\n     </g>\r\n    </g>\r\n    <g id=\"ytick_3\">\r\n     <g id=\"line2d_11\">\r\n      <g>\r\n       <use style=\"stroke:#000000;stroke-width:0.8;\" x=\"33.2875\" xlink:href=\"#m2a888fa1a6\" y=\"227.398836\"/>\r\n      </g>\r\n     </g>\r\n     <g id=\"text_11\">\r\n      <!-- 2 -->\r\n      <g transform=\"translate(19.925 231.198055)scale(0.1 -0.1)\">\r\n       <use xlink:href=\"#DejaVuSans-50\"/>\r\n      </g>\r\n     </g>\r\n    </g>\r\n    <g id=\"ytick_4\">\r\n     <g id=\"line2d_12\">\r\n      <g>\r\n       <use style=\"stroke:#000000;stroke-width:0.8;\" x=\"33.2875\" xlink:href=\"#m2a888fa1a6\" y=\"227.052042\"/>\r\n      </g>\r\n     </g>\r\n     <g id=\"text_12\">\r\n      <!-- 3 -->\r\n      <g transform=\"translate(19.925 230.85126)scale(0.1 -0.1)\">\r\n       <use xlink:href=\"#DejaVuSans-51\"/>\r\n      </g>\r\n     </g>\r\n    </g>\r\n    <g id=\"ytick_5\">\r\n     <g id=\"line2d_13\">\r\n      <g>\r\n       <use style=\"stroke:#000000;stroke-width:0.8;\" x=\"33.2875\" xlink:href=\"#m2a888fa1a6\" y=\"226.705247\"/>\r\n      </g>\r\n     </g>\r\n     <g id=\"text_13\">\r\n      <!-- 4 -->\r\n      <g transform=\"translate(19.925 230.504466)scale(0.1 -0.1)\">\r\n       <defs>\r\n        <path d=\"M 37.796875 64.3125 \r\nL 12.890625 25.390625 \r\nL 37.796875 25.390625 \r\nz\r\nM 35.203125 72.90625 \r\nL 47.609375 72.90625 \r\nL 47.609375 25.390625 \r\nL 58.015625 25.390625 \r\nL 58.015625 17.1875 \r\nL 47.609375 17.1875 \r\nL 47.609375 0 \r\nL 37.796875 0 \r\nL 37.796875 17.1875 \r\nL 4.890625 17.1875 \r\nL 4.890625 26.703125 \r\nz\r\n\" id=\"DejaVuSans-52\"/>\r\n       </defs>\r\n       <use xlink:href=\"#DejaVuSans-52\"/>\r\n      </g>\r\n     </g>\r\n    </g>\r\n    <g id=\"ytick_6\">\r\n     <g id=\"line2d_14\">\r\n      <g>\r\n       <use style=\"stroke:#000000;stroke-width:0.8;\" x=\"33.2875\" xlink:href=\"#m2a888fa1a6\" y=\"226.358453\"/>\r\n      </g>\r\n     </g>\r\n     <g id=\"text_14\">\r\n      <!-- 5 -->\r\n      <g transform=\"translate(19.925 230.157672)scale(0.1 -0.1)\">\r\n       <use xlink:href=\"#DejaVuSans-53\"/>\r\n      </g>\r\n     </g>\r\n    </g>\r\n    <g id=\"ytick_7\">\r\n     <g id=\"line2d_15\">\r\n      <g>\r\n       <use style=\"stroke:#000000;stroke-width:0.8;\" x=\"33.2875\" xlink:href=\"#m2a888fa1a6\" y=\"226.011659\"/>\r\n      </g>\r\n     </g>\r\n     <g id=\"text_15\">\r\n      <!-- 6 -->\r\n      <g transform=\"translate(19.925 229.810878)scale(0.1 -0.1)\">\r\n       <defs>\r\n        <path d=\"M 33.015625 40.375 \r\nQ 26.375 40.375 22.484375 35.828125 \r\nQ 18.609375 31.296875 18.609375 23.390625 \r\nQ 18.609375 15.53125 22.484375 10.953125 \r\nQ 26.375 6.390625 33.015625 6.390625 \r\nQ 39.65625 6.390625 43.53125 10.953125 \r\nQ 47.40625 15.53125 47.40625 23.390625 \r\nQ 47.40625 31.296875 43.53125 35.828125 \r\nQ 39.65625 40.375 33.015625 40.375 \r\nz\r\nM 52.59375 71.296875 \r\nL 52.59375 62.3125 \r\nQ 48.875 64.0625 45.09375 64.984375 \r\nQ 41.3125 65.921875 37.59375 65.921875 \r\nQ 27.828125 65.921875 22.671875 59.328125 \r\nQ 17.53125 52.734375 16.796875 39.40625 \r\nQ 19.671875 43.65625 24.015625 45.921875 \r\nQ 28.375 48.1875 33.59375 48.1875 \r\nQ 44.578125 48.1875 50.953125 41.515625 \r\nQ 57.328125 34.859375 57.328125 23.390625 \r\nQ 57.328125 12.15625 50.6875 5.359375 \r\nQ 44.046875 -1.421875 33.015625 -1.421875 \r\nQ 20.359375 -1.421875 13.671875 8.265625 \r\nQ 6.984375 17.96875 6.984375 36.375 \r\nQ 6.984375 53.65625 15.1875 63.9375 \r\nQ 23.390625 74.21875 37.203125 74.21875 \r\nQ 40.921875 74.21875 44.703125 73.484375 \r\nQ 48.484375 72.75 52.59375 71.296875 \r\nz\r\n\" id=\"DejaVuSans-54\"/>\r\n       </defs>\r\n       <use xlink:href=\"#DejaVuSans-54\"/>\r\n      </g>\r\n     </g>\r\n    </g>\r\n    <g id=\"ytick_8\">\r\n     <g id=\"line2d_16\">\r\n      <g>\r\n       <use style=\"stroke:#000000;stroke-width:0.8;\" x=\"33.2875\" xlink:href=\"#m2a888fa1a6\" y=\"225.664865\"/>\r\n      </g>\r\n     </g>\r\n     <g id=\"text_16\">\r\n      <!-- 7 -->\r\n      <g transform=\"translate(19.925 229.464083)scale(0.1 -0.1)\">\r\n       <defs>\r\n        <path d=\"M 8.203125 72.90625 \r\nL 55.078125 72.90625 \r\nL 55.078125 68.703125 \r\nL 28.609375 0 \r\nL 18.3125 0 \r\nL 43.21875 64.59375 \r\nL 8.203125 64.59375 \r\nz\r\n\" id=\"DejaVuSans-55\"/>\r\n       </defs>\r\n       <use xlink:href=\"#DejaVuSans-55\"/>\r\n      </g>\r\n     </g>\r\n    </g>\r\n    <g id=\"ytick_9\">\r\n     <g id=\"line2d_17\">\r\n      <g>\r\n       <use style=\"stroke:#000000;stroke-width:0.8;\" x=\"33.2875\" xlink:href=\"#m2a888fa1a6\" y=\"225.31807\"/>\r\n      </g>\r\n     </g>\r\n     <g id=\"text_17\">\r\n      <!-- 8 -->\r\n      <g transform=\"translate(19.925 229.117289)scale(0.1 -0.1)\">\r\n       <defs>\r\n        <path d=\"M 31.78125 34.625 \r\nQ 24.75 34.625 20.71875 30.859375 \r\nQ 16.703125 27.09375 16.703125 20.515625 \r\nQ 16.703125 13.921875 20.71875 10.15625 \r\nQ 24.75 6.390625 31.78125 6.390625 \r\nQ 38.8125 6.390625 42.859375 10.171875 \r\nQ 46.921875 13.96875 46.921875 20.515625 \r\nQ 46.921875 27.09375 42.890625 30.859375 \r\nQ 38.875 34.625 31.78125 34.625 \r\nz\r\nM 21.921875 38.8125 \r\nQ 15.578125 40.375 12.03125 44.71875 \r\nQ 8.5 49.078125 8.5 55.328125 \r\nQ 8.5 64.0625 14.71875 69.140625 \r\nQ 20.953125 74.21875 31.78125 74.21875 \r\nQ 42.671875 74.21875 48.875 69.140625 \r\nQ 55.078125 64.0625 55.078125 55.328125 \r\nQ 55.078125 49.078125 51.53125 44.71875 \r\nQ 48 40.375 41.703125 38.8125 \r\nQ 48.828125 37.15625 52.796875 32.3125 \r\nQ 56.78125 27.484375 56.78125 20.515625 \r\nQ 56.78125 9.90625 50.3125 4.234375 \r\nQ 43.84375 -1.421875 31.78125 -1.421875 \r\nQ 19.734375 -1.421875 13.25 4.234375 \r\nQ 6.78125 9.90625 6.78125 20.515625 \r\nQ 6.78125 27.484375 10.78125 32.3125 \r\nQ 14.796875 37.15625 21.921875 38.8125 \r\nz\r\nM 18.3125 54.390625 \r\nQ 18.3125 48.734375 21.84375 45.5625 \r\nQ 25.390625 42.390625 31.78125 42.390625 \r\nQ 38.140625 42.390625 41.71875 45.5625 \r\nQ 45.3125 48.734375 45.3125 54.390625 \r\nQ 45.3125 60.0625 41.71875 63.234375 \r\nQ 38.140625 66.40625 31.78125 66.40625 \r\nQ 25.390625 66.40625 21.84375 63.234375 \r\nQ 18.3125 60.0625 18.3125 54.390625 \r\nz\r\n\" id=\"DejaVuSans-56\"/>\r\n       </defs>\r\n       <use xlink:href=\"#DejaVuSans-56\"/>\r\n      </g>\r\n     </g>\r\n    </g>\r\n    <g id=\"ytick_10\">\r\n     <g id=\"line2d_18\">\r\n      <g>\r\n       <use style=\"stroke:#000000;stroke-width:0.8;\" x=\"33.2875\" xlink:href=\"#m2a888fa1a6\" y=\"224.971276\"/>\r\n      </g>\r\n     </g>\r\n     <g id=\"text_18\">\r\n      <!-- 9 -->\r\n      <g transform=\"translate(19.925 228.770495)scale(0.1 -0.1)\">\r\n       <defs>\r\n        <path d=\"M 10.984375 1.515625 \r\nL 10.984375 10.5 \r\nQ 14.703125 8.734375 18.5 7.8125 \r\nQ 22.3125 6.890625 25.984375 6.890625 \r\nQ 35.75 6.890625 40.890625 13.453125 \r\nQ 46.046875 20.015625 46.78125 33.40625 \r\nQ 43.953125 29.203125 39.59375 26.953125 \r\nQ 35.25 24.703125 29.984375 24.703125 \r\nQ 19.046875 24.703125 12.671875 31.3125 \r\nQ 6.296875 37.9375 6.296875 49.421875 \r\nQ 6.296875 60.640625 12.9375 67.421875 \r\nQ 19.578125 74.21875 30.609375 74.21875 \r\nQ 43.265625 74.21875 49.921875 64.515625 \r\nQ 56.59375 54.828125 56.59375 36.375 \r\nQ 56.59375 19.140625 48.40625 8.859375 \r\nQ 40.234375 -1.421875 26.421875 -1.421875 \r\nQ 22.703125 -1.421875 18.890625 -0.6875 \r\nQ 15.09375 0.046875 10.984375 1.515625 \r\nz\r\nM 30.609375 32.421875 \r\nQ 37.25 32.421875 41.125 36.953125 \r\nQ 45.015625 41.5 45.015625 49.421875 \r\nQ 45.015625 57.28125 41.125 61.84375 \r\nQ 37.25 66.40625 30.609375 66.40625 \r\nQ 23.96875 66.40625 20.09375 61.84375 \r\nQ 16.21875 57.28125 16.21875 49.421875 \r\nQ 16.21875 41.5 20.09375 36.953125 \r\nQ 23.96875 32.421875 30.609375 32.421875 \r\nz\r\n\" id=\"DejaVuSans-57\"/>\r\n       </defs>\r\n       <use xlink:href=\"#DejaVuSans-57\"/>\r\n      </g>\r\n     </g>\r\n    </g>\r\n    <g id=\"ytick_11\">\r\n     <g id=\"line2d_19\">\r\n      <g>\r\n       <use style=\"stroke:#000000;stroke-width:0.8;\" x=\"33.2875\" xlink:href=\"#m2a888fa1a6\" y=\"224.624482\"/>\r\n      </g>\r\n     </g>\r\n     <g id=\"text_19\">\r\n      <!-- 10 -->\r\n      <g transform=\"translate(13.5625 228.423701)scale(0.1 -0.1)\">\r\n       <use xlink:href=\"#DejaVuSans-49\"/>\r\n       <use x=\"63.623047\" xlink:href=\"#DejaVuSans-48\"/>\r\n      </g>\r\n     </g>\r\n    </g>\r\n    <g id=\"ytick_12\">\r\n     <g id=\"line2d_20\">\r\n      <g>\r\n       <use style=\"stroke:#000000;stroke-width:0.8;\" x=\"33.2875\" xlink:href=\"#m2a888fa1a6\" y=\"224.277688\"/>\r\n      </g>\r\n     </g>\r\n     <g id=\"text_20\">\r\n      <!-- 11 -->\r\n      <g transform=\"translate(13.5625 228.076906)scale(0.1 -0.1)\">\r\n       <use xlink:href=\"#DejaVuSans-49\"/>\r\n       <use x=\"63.623047\" xlink:href=\"#DejaVuSans-49\"/>\r\n      </g>\r\n     </g>\r\n    </g>\r\n    <g id=\"ytick_13\">\r\n     <g id=\"line2d_21\">\r\n      <g>\r\n       <use style=\"stroke:#000000;stroke-width:0.8;\" x=\"33.2875\" xlink:href=\"#m2a888fa1a6\" y=\"223.930893\"/>\r\n      </g>\r\n     </g>\r\n     <g id=\"text_21\">\r\n      <!-- 12 -->\r\n      <g transform=\"translate(13.5625 227.730112)scale(0.1 -0.1)\">\r\n       <use xlink:href=\"#DejaVuSans-49\"/>\r\n       <use x=\"63.623047\" xlink:href=\"#DejaVuSans-50\"/>\r\n      </g>\r\n     </g>\r\n    </g>\r\n    <g id=\"ytick_14\">\r\n     <g id=\"line2d_22\">\r\n      <g>\r\n       <use style=\"stroke:#000000;stroke-width:0.8;\" x=\"33.2875\" xlink:href=\"#m2a888fa1a6\" y=\"223.584099\"/>\r\n      </g>\r\n     </g>\r\n     <g id=\"text_22\">\r\n      <!-- 13 -->\r\n      <g transform=\"translate(13.5625 227.383318)scale(0.1 -0.1)\">\r\n       <use xlink:href=\"#DejaVuSans-49\"/>\r\n       <use x=\"63.623047\" xlink:href=\"#DejaVuSans-51\"/>\r\n      </g>\r\n     </g>\r\n    </g>\r\n    <g id=\"ytick_15\">\r\n     <g id=\"line2d_23\">\r\n      <g>\r\n       <use style=\"stroke:#000000;stroke-width:0.8;\" x=\"33.2875\" xlink:href=\"#m2a888fa1a6\" y=\"223.237305\"/>\r\n      </g>\r\n     </g>\r\n     <g id=\"text_23\">\r\n      <!-- 14 -->\r\n      <g transform=\"translate(13.5625 227.036524)scale(0.1 -0.1)\">\r\n       <use xlink:href=\"#DejaVuSans-49\"/>\r\n       <use x=\"63.623047\" xlink:href=\"#DejaVuSans-52\"/>\r\n      </g>\r\n     </g>\r\n    </g>\r\n    <g id=\"ytick_16\">\r\n     <g id=\"line2d_24\">\r\n      <g>\r\n       <use style=\"stroke:#000000;stroke-width:0.8;\" x=\"33.2875\" xlink:href=\"#m2a888fa1a6\" y=\"222.890511\"/>\r\n      </g>\r\n     </g>\r\n     <g id=\"text_24\">\r\n      <!-- 15 -->\r\n      <g transform=\"translate(13.5625 226.689729)scale(0.1 -0.1)\">\r\n       <use xlink:href=\"#DejaVuSans-49\"/>\r\n       <use x=\"63.623047\" xlink:href=\"#DejaVuSans-53\"/>\r\n      </g>\r\n     </g>\r\n    </g>\r\n    <g id=\"ytick_17\">\r\n     <g id=\"line2d_25\">\r\n      <g>\r\n       <use style=\"stroke:#000000;stroke-width:0.8;\" x=\"33.2875\" xlink:href=\"#m2a888fa1a6\" y=\"222.543716\"/>\r\n      </g>\r\n     </g>\r\n     <g id=\"text_25\">\r\n      <!-- 16 -->\r\n      <g transform=\"translate(13.5625 226.342935)scale(0.1 -0.1)\">\r\n       <use xlink:href=\"#DejaVuSans-49\"/>\r\n       <use x=\"63.623047\" xlink:href=\"#DejaVuSans-54\"/>\r\n      </g>\r\n     </g>\r\n    </g>\r\n    <g id=\"ytick_18\">\r\n     <g id=\"line2d_26\">\r\n      <g>\r\n       <use style=\"stroke:#000000;stroke-width:0.8;\" x=\"33.2875\" xlink:href=\"#m2a888fa1a6\" y=\"222.196922\"/>\r\n      </g>\r\n     </g>\r\n     <g id=\"text_26\">\r\n      <!-- 17 -->\r\n      <g transform=\"translate(13.5625 225.996141)scale(0.1 -0.1)\">\r\n       <use xlink:href=\"#DejaVuSans-49\"/>\r\n       <use x=\"63.623047\" xlink:href=\"#DejaVuSans-55\"/>\r\n      </g>\r\n     </g>\r\n    </g>\r\n    <g id=\"ytick_19\">\r\n     <g id=\"line2d_27\">\r\n      <g>\r\n       <use style=\"stroke:#000000;stroke-width:0.8;\" x=\"33.2875\" xlink:href=\"#m2a888fa1a6\" y=\"221.850128\"/>\r\n      </g>\r\n     </g>\r\n     <g id=\"text_27\">\r\n      <!-- 18 -->\r\n      <g transform=\"translate(13.5625 225.649347)scale(0.1 -0.1)\">\r\n       <use xlink:href=\"#DejaVuSans-49\"/>\r\n       <use x=\"63.623047\" xlink:href=\"#DejaVuSans-56\"/>\r\n      </g>\r\n     </g>\r\n    </g>\r\n    <g id=\"ytick_20\">\r\n     <g id=\"line2d_28\">\r\n      <g>\r\n       <use style=\"stroke:#000000;stroke-width:0.8;\" x=\"33.2875\" xlink:href=\"#m2a888fa1a6\" y=\"221.503334\"/>\r\n      </g>\r\n     </g>\r\n     <g id=\"text_28\">\r\n      <!-- 19 -->\r\n      <g transform=\"translate(13.5625 225.302552)scale(0.1 -0.1)\">\r\n       <use xlink:href=\"#DejaVuSans-49\"/>\r\n       <use x=\"63.623047\" xlink:href=\"#DejaVuSans-57\"/>\r\n      </g>\r\n     </g>\r\n    </g>\r\n    <g id=\"ytick_21\">\r\n     <g id=\"line2d_29\">\r\n      <g>\r\n       <use style=\"stroke:#000000;stroke-width:0.8;\" x=\"33.2875\" xlink:href=\"#m2a888fa1a6\" y=\"221.156539\"/>\r\n      </g>\r\n     </g>\r\n     <g id=\"text_29\">\r\n      <!-- 20 -->\r\n      <g transform=\"translate(13.5625 224.955758)scale(0.1 -0.1)\">\r\n       <use xlink:href=\"#DejaVuSans-50\"/>\r\n       <use x=\"63.623047\" xlink:href=\"#DejaVuSans-48\"/>\r\n      </g>\r\n     </g>\r\n    </g>\r\n    <g id=\"ytick_22\">\r\n     <g id=\"line2d_30\">\r\n      <g>\r\n       <use style=\"stroke:#000000;stroke-width:0.8;\" x=\"33.2875\" xlink:href=\"#m2a888fa1a6\" y=\"220.809745\"/>\r\n      </g>\r\n     </g>\r\n     <g id=\"text_30\">\r\n      <!-- 21 -->\r\n      <g transform=\"translate(13.5625 224.608964)scale(0.1 -0.1)\">\r\n       <use xlink:href=\"#DejaVuSans-50\"/>\r\n       <use x=\"63.623047\" xlink:href=\"#DejaVuSans-49\"/>\r\n      </g>\r\n     </g>\r\n    </g>\r\n    <g id=\"ytick_23\">\r\n     <g id=\"line2d_31\">\r\n      <g>\r\n       <use style=\"stroke:#000000;stroke-width:0.8;\" x=\"33.2875\" xlink:href=\"#m2a888fa1a6\" y=\"220.462951\"/>\r\n      </g>\r\n     </g>\r\n     <g id=\"text_31\">\r\n      <!-- 22 -->\r\n      <g transform=\"translate(13.5625 224.26217)scale(0.1 -0.1)\">\r\n       <use xlink:href=\"#DejaVuSans-50\"/>\r\n       <use x=\"63.623047\" xlink:href=\"#DejaVuSans-50\"/>\r\n      </g>\r\n     </g>\r\n    </g>\r\n    <g id=\"ytick_24\">\r\n     <g id=\"line2d_32\">\r\n      <g>\r\n       <use style=\"stroke:#000000;stroke-width:0.8;\" x=\"33.2875\" xlink:href=\"#m2a888fa1a6\" y=\"220.116157\"/>\r\n      </g>\r\n     </g>\r\n     <g id=\"text_32\">\r\n      <!-- 23 -->\r\n      <g transform=\"translate(13.5625 223.915375)scale(0.1 -0.1)\">\r\n       <use xlink:href=\"#DejaVuSans-50\"/>\r\n       <use x=\"63.623047\" xlink:href=\"#DejaVuSans-51\"/>\r\n      </g>\r\n     </g>\r\n    </g>\r\n    <g id=\"ytick_25\">\r\n     <g id=\"line2d_33\">\r\n      <g>\r\n       <use style=\"stroke:#000000;stroke-width:0.8;\" x=\"33.2875\" xlink:href=\"#m2a888fa1a6\" y=\"219.769362\"/>\r\n      </g>\r\n     </g>\r\n     <g id=\"text_33\">\r\n      <!-- 24 -->\r\n      <g transform=\"translate(13.5625 223.568581)scale(0.1 -0.1)\">\r\n       <use xlink:href=\"#DejaVuSans-50\"/>\r\n       <use x=\"63.623047\" xlink:href=\"#DejaVuSans-52\"/>\r\n      </g>\r\n     </g>\r\n    </g>\r\n    <g id=\"ytick_26\">\r\n     <g id=\"line2d_34\">\r\n      <g>\r\n       <use style=\"stroke:#000000;stroke-width:0.8;\" x=\"33.2875\" xlink:href=\"#m2a888fa1a6\" y=\"219.422568\"/>\r\n      </g>\r\n     </g>\r\n     <g id=\"text_34\">\r\n      <!-- 25 -->\r\n      <g transform=\"translate(13.5625 223.221787)scale(0.1 -0.1)\">\r\n       <use xlink:href=\"#DejaVuSans-50\"/>\r\n       <use x=\"63.623047\" xlink:href=\"#DejaVuSans-53\"/>\r\n      </g>\r\n     </g>\r\n    </g>\r\n    <g id=\"ytick_27\">\r\n     <g id=\"line2d_35\">\r\n      <g>\r\n       <use style=\"stroke:#000000;stroke-width:0.8;\" x=\"33.2875\" xlink:href=\"#m2a888fa1a6\" y=\"219.075774\"/>\r\n      </g>\r\n     </g>\r\n     <g id=\"text_35\">\r\n      <!-- 26 -->\r\n      <g transform=\"translate(13.5625 222.874993)scale(0.1 -0.1)\">\r\n       <use xlink:href=\"#DejaVuSans-50\"/>\r\n       <use x=\"63.623047\" xlink:href=\"#DejaVuSans-54\"/>\r\n      </g>\r\n     </g>\r\n    </g>\r\n    <g id=\"ytick_28\">\r\n     <g id=\"line2d_36\">\r\n      <g>\r\n       <use style=\"stroke:#000000;stroke-width:0.8;\" x=\"33.2875\" xlink:href=\"#m2a888fa1a6\" y=\"218.72898\"/>\r\n      </g>\r\n     </g>\r\n     <g id=\"text_36\">\r\n      <!-- 27 -->\r\n      <g transform=\"translate(13.5625 222.528198)scale(0.1 -0.1)\">\r\n       <use xlink:href=\"#DejaVuSans-50\"/>\r\n       <use x=\"63.623047\" xlink:href=\"#DejaVuSans-55\"/>\r\n      </g>\r\n     </g>\r\n    </g>\r\n    <g id=\"ytick_29\">\r\n     <g id=\"line2d_37\">\r\n      <g>\r\n       <use style=\"stroke:#000000;stroke-width:0.8;\" x=\"33.2875\" xlink:href=\"#m2a888fa1a6\" y=\"218.382185\"/>\r\n      </g>\r\n     </g>\r\n     <g id=\"text_37\">\r\n      <!-- 28 -->\r\n      <g transform=\"translate(13.5625 222.181404)scale(0.1 -0.1)\">\r\n       <use xlink:href=\"#DejaVuSans-50\"/>\r\n       <use x=\"63.623047\" xlink:href=\"#DejaVuSans-56\"/>\r\n      </g>\r\n     </g>\r\n    </g>\r\n    <g id=\"ytick_30\">\r\n     <g id=\"line2d_38\">\r\n      <g>\r\n       <use style=\"stroke:#000000;stroke-width:0.8;\" x=\"33.2875\" xlink:href=\"#m2a888fa1a6\" y=\"218.035391\"/>\r\n      </g>\r\n     </g>\r\n     <g id=\"text_38\">\r\n      <!-- 29 -->\r\n      <g transform=\"translate(13.5625 221.83461)scale(0.1 -0.1)\">\r\n       <use xlink:href=\"#DejaVuSans-50\"/>\r\n       <use x=\"63.623047\" xlink:href=\"#DejaVuSans-57\"/>\r\n      </g>\r\n     </g>\r\n    </g>\r\n    <g id=\"ytick_31\">\r\n     <g id=\"line2d_39\">\r\n      <g>\r\n       <use style=\"stroke:#000000;stroke-width:0.8;\" x=\"33.2875\" xlink:href=\"#m2a888fa1a6\" y=\"217.688597\"/>\r\n      </g>\r\n     </g>\r\n     <g id=\"text_39\">\r\n      <!-- 30 -->\r\n      <g transform=\"translate(13.5625 221.487815)scale(0.1 -0.1)\">\r\n       <use xlink:href=\"#DejaVuSans-51\"/>\r\n       <use x=\"63.623047\" xlink:href=\"#DejaVuSans-48\"/>\r\n      </g>\r\n     </g>\r\n    </g>\r\n    <g id=\"ytick_32\">\r\n     <g id=\"line2d_40\">\r\n      <g>\r\n       <use style=\"stroke:#000000;stroke-width:0.8;\" x=\"33.2875\" xlink:href=\"#m2a888fa1a6\" y=\"217.341802\"/>\r\n      </g>\r\n     </g>\r\n     <g id=\"text_40\">\r\n      <!-- 31 -->\r\n      <g transform=\"translate(13.5625 221.141021)scale(0.1 -0.1)\">\r\n       <use xlink:href=\"#DejaVuSans-51\"/>\r\n       <use x=\"63.623047\" xlink:href=\"#DejaVuSans-49\"/>\r\n      </g>\r\n     </g>\r\n    </g>\r\n    <g id=\"ytick_33\">\r\n     <g id=\"line2d_41\">\r\n      <g>\r\n       <use style=\"stroke:#000000;stroke-width:0.8;\" x=\"33.2875\" xlink:href=\"#m2a888fa1a6\" y=\"216.995008\"/>\r\n      </g>\r\n     </g>\r\n     <g id=\"text_41\">\r\n      <!-- 32 -->\r\n      <g transform=\"translate(13.5625 220.794227)scale(0.1 -0.1)\">\r\n       <use xlink:href=\"#DejaVuSans-51\"/>\r\n       <use x=\"63.623047\" xlink:href=\"#DejaVuSans-50\"/>\r\n      </g>\r\n     </g>\r\n    </g>\r\n    <g id=\"ytick_34\">\r\n     <g id=\"line2d_42\">\r\n      <g>\r\n       <use style=\"stroke:#000000;stroke-width:0.8;\" x=\"33.2875\" xlink:href=\"#m2a888fa1a6\" y=\"216.648214\"/>\r\n      </g>\r\n     </g>\r\n     <g id=\"text_42\">\r\n      <!-- 33 -->\r\n      <g transform=\"translate(13.5625 220.447433)scale(0.1 -0.1)\">\r\n       <use xlink:href=\"#DejaVuSans-51\"/>\r\n       <use x=\"63.623047\" xlink:href=\"#DejaVuSans-51\"/>\r\n      </g>\r\n     </g>\r\n    </g>\r\n    <g id=\"ytick_35\">\r\n     <g id=\"line2d_43\">\r\n      <g>\r\n       <use style=\"stroke:#000000;stroke-width:0.8;\" x=\"33.2875\" xlink:href=\"#m2a888fa1a6\" y=\"216.30142\"/>\r\n      </g>\r\n     </g>\r\n     <g id=\"text_43\">\r\n      <!-- 34 -->\r\n      <g transform=\"translate(13.5625 220.100638)scale(0.1 -0.1)\">\r\n       <use xlink:href=\"#DejaVuSans-51\"/>\r\n       <use x=\"63.623047\" xlink:href=\"#DejaVuSans-52\"/>\r\n      </g>\r\n     </g>\r\n    </g>\r\n    <g id=\"ytick_36\">\r\n     <g id=\"line2d_44\">\r\n      <g>\r\n       <use style=\"stroke:#000000;stroke-width:0.8;\" x=\"33.2875\" xlink:href=\"#m2a888fa1a6\" y=\"215.954625\"/>\r\n      </g>\r\n     </g>\r\n     <g id=\"text_44\">\r\n      <!-- 35 -->\r\n      <g transform=\"translate(13.5625 219.753844)scale(0.1 -0.1)\">\r\n       <use xlink:href=\"#DejaVuSans-51\"/>\r\n       <use x=\"63.623047\" xlink:href=\"#DejaVuSans-53\"/>\r\n      </g>\r\n     </g>\r\n    </g>\r\n    <g id=\"ytick_37\">\r\n     <g id=\"line2d_45\">\r\n      <g>\r\n       <use style=\"stroke:#000000;stroke-width:0.8;\" x=\"33.2875\" xlink:href=\"#m2a888fa1a6\" y=\"215.607831\"/>\r\n      </g>\r\n     </g>\r\n     <g id=\"text_45\">\r\n      <!-- 36 -->\r\n      <g transform=\"translate(13.5625 219.40705)scale(0.1 -0.1)\">\r\n       <use xlink:href=\"#DejaVuSans-51\"/>\r\n       <use x=\"63.623047\" xlink:href=\"#DejaVuSans-54\"/>\r\n      </g>\r\n     </g>\r\n    </g>\r\n    <g id=\"ytick_38\">\r\n     <g id=\"line2d_46\">\r\n      <g>\r\n       <use style=\"stroke:#000000;stroke-width:0.8;\" x=\"33.2875\" xlink:href=\"#m2a888fa1a6\" y=\"215.261037\"/>\r\n      </g>\r\n     </g>\r\n     <g id=\"text_46\">\r\n      <!-- 37 -->\r\n      <g transform=\"translate(13.5625 219.060256)scale(0.1 -0.1)\">\r\n       <use xlink:href=\"#DejaVuSans-51\"/>\r\n       <use x=\"63.623047\" xlink:href=\"#DejaVuSans-55\"/>\r\n      </g>\r\n     </g>\r\n    </g>\r\n    <g id=\"ytick_39\">\r\n     <g id=\"line2d_47\">\r\n      <g>\r\n       <use style=\"stroke:#000000;stroke-width:0.8;\" x=\"33.2875\" xlink:href=\"#m2a888fa1a6\" y=\"214.914243\"/>\r\n      </g>\r\n     </g>\r\n     <g id=\"text_47\">\r\n      <!-- 38 -->\r\n      <g transform=\"translate(13.5625 218.713461)scale(0.1 -0.1)\">\r\n       <use xlink:href=\"#DejaVuSans-51\"/>\r\n       <use x=\"63.623047\" xlink:href=\"#DejaVuSans-56\"/>\r\n      </g>\r\n     </g>\r\n    </g>\r\n    <g id=\"ytick_40\">\r\n     <g id=\"line2d_48\">\r\n      <g>\r\n       <use style=\"stroke:#000000;stroke-width:0.8;\" x=\"33.2875\" xlink:href=\"#m2a888fa1a6\" y=\"214.567448\"/>\r\n      </g>\r\n     </g>\r\n     <g id=\"text_48\">\r\n      <!-- 39 -->\r\n      <g transform=\"translate(13.5625 218.366667)scale(0.1 -0.1)\">\r\n       <use xlink:href=\"#DejaVuSans-51\"/>\r\n       <use x=\"63.623047\" xlink:href=\"#DejaVuSans-57\"/>\r\n      </g>\r\n     </g>\r\n    </g>\r\n    <g id=\"ytick_41\">\r\n     <g id=\"line2d_49\">\r\n      <g>\r\n       <use style=\"stroke:#000000;stroke-width:0.8;\" x=\"33.2875\" xlink:href=\"#m2a888fa1a6\" y=\"214.220654\"/>\r\n      </g>\r\n     </g>\r\n     <g id=\"text_49\">\r\n      <!-- 40 -->\r\n      <g transform=\"translate(13.5625 218.019873)scale(0.1 -0.1)\">\r\n       <use xlink:href=\"#DejaVuSans-52\"/>\r\n       <use x=\"63.623047\" xlink:href=\"#DejaVuSans-48\"/>\r\n      </g>\r\n     </g>\r\n    </g>\r\n    <g id=\"ytick_42\">\r\n     <g id=\"line2d_50\">\r\n      <g>\r\n       <use style=\"stroke:#000000;stroke-width:0.8;\" x=\"33.2875\" xlink:href=\"#m2a888fa1a6\" y=\"213.87386\"/>\r\n      </g>\r\n     </g>\r\n     <g id=\"text_50\">\r\n      <!-- 41 -->\r\n      <g transform=\"translate(13.5625 217.673079)scale(0.1 -0.1)\">\r\n       <use xlink:href=\"#DejaVuSans-52\"/>\r\n       <use x=\"63.623047\" xlink:href=\"#DejaVuSans-49\"/>\r\n      </g>\r\n     </g>\r\n    </g>\r\n    <g id=\"ytick_43\">\r\n     <g id=\"line2d_51\">\r\n      <g>\r\n       <use style=\"stroke:#000000;stroke-width:0.8;\" x=\"33.2875\" xlink:href=\"#m2a888fa1a6\" y=\"213.527066\"/>\r\n      </g>\r\n     </g>\r\n     <g id=\"text_51\">\r\n      <!-- 42 -->\r\n      <g transform=\"translate(13.5625 217.326284)scale(0.1 -0.1)\">\r\n       <use xlink:href=\"#DejaVuSans-52\"/>\r\n       <use x=\"63.623047\" xlink:href=\"#DejaVuSans-50\"/>\r\n      </g>\r\n     </g>\r\n    </g>\r\n    <g id=\"ytick_44\">\r\n     <g id=\"line2d_52\">\r\n      <g>\r\n       <use style=\"stroke:#000000;stroke-width:0.8;\" x=\"33.2875\" xlink:href=\"#m2a888fa1a6\" y=\"213.180271\"/>\r\n      </g>\r\n     </g>\r\n     <g id=\"text_52\">\r\n      <!-- 43 -->\r\n      <g transform=\"translate(13.5625 216.97949)scale(0.1 -0.1)\">\r\n       <use xlink:href=\"#DejaVuSans-52\"/>\r\n       <use x=\"63.623047\" xlink:href=\"#DejaVuSans-51\"/>\r\n      </g>\r\n     </g>\r\n    </g>\r\n    <g id=\"ytick_45\">\r\n     <g id=\"line2d_53\">\r\n      <g>\r\n       <use style=\"stroke:#000000;stroke-width:0.8;\" x=\"33.2875\" xlink:href=\"#m2a888fa1a6\" y=\"212.833477\"/>\r\n      </g>\r\n     </g>\r\n     <g id=\"text_53\">\r\n      <!-- 44 -->\r\n      <g transform=\"translate(13.5625 216.632696)scale(0.1 -0.1)\">\r\n       <use xlink:href=\"#DejaVuSans-52\"/>\r\n       <use x=\"63.623047\" xlink:href=\"#DejaVuSans-52\"/>\r\n      </g>\r\n     </g>\r\n    </g>\r\n    <g id=\"ytick_46\">\r\n     <g id=\"line2d_54\">\r\n      <g>\r\n       <use style=\"stroke:#000000;stroke-width:0.8;\" x=\"33.2875\" xlink:href=\"#m2a888fa1a6\" y=\"212.486683\"/>\r\n      </g>\r\n     </g>\r\n     <g id=\"text_54\">\r\n      <!-- 45 -->\r\n      <g transform=\"translate(13.5625 216.285902)scale(0.1 -0.1)\">\r\n       <use xlink:href=\"#DejaVuSans-52\"/>\r\n       <use x=\"63.623047\" xlink:href=\"#DejaVuSans-53\"/>\r\n      </g>\r\n     </g>\r\n    </g>\r\n    <g id=\"ytick_47\">\r\n     <g id=\"line2d_55\">\r\n      <g>\r\n       <use style=\"stroke:#000000;stroke-width:0.8;\" x=\"33.2875\" xlink:href=\"#m2a888fa1a6\" y=\"212.139889\"/>\r\n      </g>\r\n     </g>\r\n     <g id=\"text_55\">\r\n      <!-- 46 -->\r\n      <g transform=\"translate(13.5625 215.939107)scale(0.1 -0.1)\">\r\n       <use xlink:href=\"#DejaVuSans-52\"/>\r\n       <use x=\"63.623047\" xlink:href=\"#DejaVuSans-54\"/>\r\n      </g>\r\n     </g>\r\n    </g>\r\n    <g id=\"ytick_48\">\r\n     <g id=\"line2d_56\">\r\n      <g>\r\n       <use style=\"stroke:#000000;stroke-width:0.8;\" x=\"33.2875\" xlink:href=\"#m2a888fa1a6\" y=\"211.793094\"/>\r\n      </g>\r\n     </g>\r\n     <g id=\"text_56\">\r\n      <!-- 47 -->\r\n      <g transform=\"translate(13.5625 215.592313)scale(0.1 -0.1)\">\r\n       <use xlink:href=\"#DejaVuSans-52\"/>\r\n       <use x=\"63.623047\" xlink:href=\"#DejaVuSans-55\"/>\r\n      </g>\r\n     </g>\r\n    </g>\r\n    <g id=\"ytick_49\">\r\n     <g id=\"line2d_57\">\r\n      <g>\r\n       <use style=\"stroke:#000000;stroke-width:0.8;\" x=\"33.2875\" xlink:href=\"#m2a888fa1a6\" y=\"211.4463\"/>\r\n      </g>\r\n     </g>\r\n     <g id=\"text_57\">\r\n      <!-- 48 -->\r\n      <g transform=\"translate(13.5625 215.245519)scale(0.1 -0.1)\">\r\n       <use xlink:href=\"#DejaVuSans-52\"/>\r\n       <use x=\"63.623047\" xlink:href=\"#DejaVuSans-56\"/>\r\n      </g>\r\n     </g>\r\n    </g>\r\n    <g id=\"ytick_50\">\r\n     <g id=\"line2d_58\">\r\n      <g>\r\n       <use style=\"stroke:#000000;stroke-width:0.8;\" x=\"33.2875\" xlink:href=\"#m2a888fa1a6\" y=\"211.099506\"/>\r\n      </g>\r\n     </g>\r\n     <g id=\"text_58\">\r\n      <!-- 49 -->\r\n      <g transform=\"translate(13.5625 214.898725)scale(0.1 -0.1)\">\r\n       <use xlink:href=\"#DejaVuSans-52\"/>\r\n       <use x=\"63.623047\" xlink:href=\"#DejaVuSans-57\"/>\r\n      </g>\r\n     </g>\r\n    </g>\r\n    <g id=\"ytick_51\">\r\n     <g id=\"line2d_59\">\r\n      <g>\r\n       <use style=\"stroke:#000000;stroke-width:0.8;\" x=\"33.2875\" xlink:href=\"#m2a888fa1a6\" y=\"210.752712\"/>\r\n      </g>\r\n     </g>\r\n     <g id=\"text_59\">\r\n      <!-- 50 -->\r\n      <g transform=\"translate(13.5625 214.55193)scale(0.1 -0.1)\">\r\n       <use xlink:href=\"#DejaVuSans-53\"/>\r\n       <use x=\"63.623047\" xlink:href=\"#DejaVuSans-48\"/>\r\n      </g>\r\n     </g>\r\n    </g>\r\n    <g id=\"ytick_52\">\r\n     <g id=\"line2d_60\">\r\n      <g>\r\n       <use style=\"stroke:#000000;stroke-width:0.8;\" x=\"33.2875\" xlink:href=\"#m2a888fa1a6\" y=\"210.405917\"/>\r\n      </g>\r\n     </g>\r\n     <g id=\"text_60\">\r\n      <!-- 51 -->\r\n      <g transform=\"translate(13.5625 214.205136)scale(0.1 -0.1)\">\r\n       <use xlink:href=\"#DejaVuSans-53\"/>\r\n       <use x=\"63.623047\" xlink:href=\"#DejaVuSans-49\"/>\r\n      </g>\r\n     </g>\r\n    </g>\r\n    <g id=\"ytick_53\">\r\n     <g id=\"line2d_61\">\r\n      <g>\r\n       <use style=\"stroke:#000000;stroke-width:0.8;\" x=\"33.2875\" xlink:href=\"#m2a888fa1a6\" y=\"210.059123\"/>\r\n      </g>\r\n     </g>\r\n     <g id=\"text_61\">\r\n      <!-- 52 -->\r\n      <g transform=\"translate(13.5625 213.858342)scale(0.1 -0.1)\">\r\n       <use xlink:href=\"#DejaVuSans-53\"/>\r\n       <use x=\"63.623047\" xlink:href=\"#DejaVuSans-50\"/>\r\n      </g>\r\n     </g>\r\n    </g>\r\n    <g id=\"ytick_54\">\r\n     <g id=\"line2d_62\">\r\n      <g>\r\n       <use style=\"stroke:#000000;stroke-width:0.8;\" x=\"33.2875\" xlink:href=\"#m2a888fa1a6\" y=\"209.712329\"/>\r\n      </g>\r\n     </g>\r\n     <g id=\"text_62\">\r\n      <!-- 53 -->\r\n      <g transform=\"translate(13.5625 213.511548)scale(0.1 -0.1)\">\r\n       <use xlink:href=\"#DejaVuSans-53\"/>\r\n       <use x=\"63.623047\" xlink:href=\"#DejaVuSans-51\"/>\r\n      </g>\r\n     </g>\r\n    </g>\r\n    <g id=\"ytick_55\">\r\n     <g id=\"line2d_63\">\r\n      <g>\r\n       <use style=\"stroke:#000000;stroke-width:0.8;\" x=\"33.2875\" xlink:href=\"#m2a888fa1a6\" y=\"209.365535\"/>\r\n      </g>\r\n     </g>\r\n     <g id=\"text_63\">\r\n      <!-- 54 -->\r\n      <g transform=\"translate(13.5625 213.164753)scale(0.1 -0.1)\">\r\n       <use xlink:href=\"#DejaVuSans-53\"/>\r\n       <use x=\"63.623047\" xlink:href=\"#DejaVuSans-52\"/>\r\n      </g>\r\n     </g>\r\n    </g>\r\n    <g id=\"ytick_56\">\r\n     <g id=\"line2d_64\">\r\n      <g>\r\n       <use style=\"stroke:#000000;stroke-width:0.8;\" x=\"33.2875\" xlink:href=\"#m2a888fa1a6\" y=\"209.01874\"/>\r\n      </g>\r\n     </g>\r\n     <g id=\"text_64\">\r\n      <!-- 55 -->\r\n      <g transform=\"translate(13.5625 212.817959)scale(0.1 -0.1)\">\r\n       <use xlink:href=\"#DejaVuSans-53\"/>\r\n       <use x=\"63.623047\" xlink:href=\"#DejaVuSans-53\"/>\r\n      </g>\r\n     </g>\r\n    </g>\r\n    <g id=\"ytick_57\">\r\n     <g id=\"line2d_65\">\r\n      <g>\r\n       <use style=\"stroke:#000000;stroke-width:0.8;\" x=\"33.2875\" xlink:href=\"#m2a888fa1a6\" y=\"208.671946\"/>\r\n      </g>\r\n     </g>\r\n     <g id=\"text_65\">\r\n      <!-- 56 -->\r\n      <g transform=\"translate(13.5625 212.471165)scale(0.1 -0.1)\">\r\n       <use xlink:href=\"#DejaVuSans-53\"/>\r\n       <use x=\"63.623047\" xlink:href=\"#DejaVuSans-54\"/>\r\n      </g>\r\n     </g>\r\n    </g>\r\n    <g id=\"ytick_58\">\r\n     <g id=\"line2d_66\">\r\n      <g>\r\n       <use style=\"stroke:#000000;stroke-width:0.8;\" x=\"33.2875\" xlink:href=\"#m2a888fa1a6\" y=\"208.325152\"/>\r\n      </g>\r\n     </g>\r\n     <g id=\"text_66\">\r\n      <!-- 57 -->\r\n      <g transform=\"translate(13.5625 212.124371)scale(0.1 -0.1)\">\r\n       <use xlink:href=\"#DejaVuSans-53\"/>\r\n       <use x=\"63.623047\" xlink:href=\"#DejaVuSans-55\"/>\r\n      </g>\r\n     </g>\r\n    </g>\r\n    <g id=\"ytick_59\">\r\n     <g id=\"line2d_67\">\r\n      <g>\r\n       <use style=\"stroke:#000000;stroke-width:0.8;\" x=\"33.2875\" xlink:href=\"#m2a888fa1a6\" y=\"207.978358\"/>\r\n      </g>\r\n     </g>\r\n     <g id=\"text_67\">\r\n      <!-- 58 -->\r\n      <g transform=\"translate(13.5625 211.777576)scale(0.1 -0.1)\">\r\n       <use xlink:href=\"#DejaVuSans-53\"/>\r\n       <use x=\"63.623047\" xlink:href=\"#DejaVuSans-56\"/>\r\n      </g>\r\n     </g>\r\n    </g>\r\n    <g id=\"ytick_60\">\r\n     <g id=\"line2d_68\">\r\n      <g>\r\n       <use style=\"stroke:#000000;stroke-width:0.8;\" x=\"33.2875\" xlink:href=\"#m2a888fa1a6\" y=\"207.631563\"/>\r\n      </g>\r\n     </g>\r\n     <g id=\"text_68\">\r\n      <!-- 59 -->\r\n      <g transform=\"translate(13.5625 211.430782)scale(0.1 -0.1)\">\r\n       <use xlink:href=\"#DejaVuSans-53\"/>\r\n       <use x=\"63.623047\" xlink:href=\"#DejaVuSans-57\"/>\r\n      </g>\r\n     </g>\r\n    </g>\r\n    <g id=\"ytick_61\">\r\n     <g id=\"line2d_69\">\r\n      <g>\r\n       <use style=\"stroke:#000000;stroke-width:0.8;\" x=\"33.2875\" xlink:href=\"#m2a888fa1a6\" y=\"207.284769\"/>\r\n      </g>\r\n     </g>\r\n     <g id=\"text_69\">\r\n      <!-- 60 -->\r\n      <g transform=\"translate(13.5625 211.083988)scale(0.1 -0.1)\">\r\n       <use xlink:href=\"#DejaVuSans-54\"/>\r\n       <use x=\"63.623047\" xlink:href=\"#DejaVuSans-48\"/>\r\n      </g>\r\n     </g>\r\n    </g>\r\n    <g id=\"ytick_62\">\r\n     <g id=\"line2d_70\">\r\n      <g>\r\n       <use style=\"stroke:#000000;stroke-width:0.8;\" x=\"33.2875\" xlink:href=\"#m2a888fa1a6\" y=\"206.937975\"/>\r\n      </g>\r\n     </g>\r\n     <g id=\"text_70\">\r\n      <!-- 61 -->\r\n      <g transform=\"translate(13.5625 210.737193)scale(0.1 -0.1)\">\r\n       <use xlink:href=\"#DejaVuSans-54\"/>\r\n       <use x=\"63.623047\" xlink:href=\"#DejaVuSans-49\"/>\r\n      </g>\r\n     </g>\r\n    </g>\r\n    <g id=\"ytick_63\">\r\n     <g id=\"line2d_71\">\r\n      <g>\r\n       <use style=\"stroke:#000000;stroke-width:0.8;\" x=\"33.2875\" xlink:href=\"#m2a888fa1a6\" y=\"206.59118\"/>\r\n      </g>\r\n     </g>\r\n     <g id=\"text_71\">\r\n      <!-- 62 -->\r\n      <g transform=\"translate(13.5625 210.390399)scale(0.1 -0.1)\">\r\n       <use xlink:href=\"#DejaVuSans-54\"/>\r\n       <use x=\"63.623047\" xlink:href=\"#DejaVuSans-50\"/>\r\n      </g>\r\n     </g>\r\n    </g>\r\n    <g id=\"ytick_64\">\r\n     <g id=\"line2d_72\">\r\n      <g>\r\n       <use style=\"stroke:#000000;stroke-width:0.8;\" x=\"33.2875\" xlink:href=\"#m2a888fa1a6\" y=\"206.244386\"/>\r\n      </g>\r\n     </g>\r\n     <g id=\"text_72\">\r\n      <!-- 63 -->\r\n      <g transform=\"translate(13.5625 210.043605)scale(0.1 -0.1)\">\r\n       <use xlink:href=\"#DejaVuSans-54\"/>\r\n       <use x=\"63.623047\" xlink:href=\"#DejaVuSans-51\"/>\r\n      </g>\r\n     </g>\r\n    </g>\r\n    <g id=\"ytick_65\">\r\n     <g id=\"line2d_73\">\r\n      <g>\r\n       <use style=\"stroke:#000000;stroke-width:0.8;\" x=\"33.2875\" xlink:href=\"#m2a888fa1a6\" y=\"205.897592\"/>\r\n      </g>\r\n     </g>\r\n     <g id=\"text_73\">\r\n      <!-- 64 -->\r\n      <g transform=\"translate(13.5625 209.696811)scale(0.1 -0.1)\">\r\n       <use xlink:href=\"#DejaVuSans-54\"/>\r\n       <use x=\"63.623047\" xlink:href=\"#DejaVuSans-52\"/>\r\n      </g>\r\n     </g>\r\n    </g>\r\n    <g id=\"ytick_66\">\r\n     <g id=\"line2d_74\">\r\n      <g>\r\n       <use style=\"stroke:#000000;stroke-width:0.8;\" x=\"33.2875\" xlink:href=\"#m2a888fa1a6\" y=\"205.550798\"/>\r\n      </g>\r\n     </g>\r\n     <g id=\"text_74\">\r\n      <!-- 65 -->\r\n      <g transform=\"translate(13.5625 209.350016)scale(0.1 -0.1)\">\r\n       <use xlink:href=\"#DejaVuSans-54\"/>\r\n       <use x=\"63.623047\" xlink:href=\"#DejaVuSans-53\"/>\r\n      </g>\r\n     </g>\r\n    </g>\r\n    <g id=\"ytick_67\">\r\n     <g id=\"line2d_75\">\r\n      <g>\r\n       <use style=\"stroke:#000000;stroke-width:0.8;\" x=\"33.2875\" xlink:href=\"#m2a888fa1a6\" y=\"205.204003\"/>\r\n      </g>\r\n     </g>\r\n     <g id=\"text_75\">\r\n      <!-- 66 -->\r\n      <g transform=\"translate(13.5625 209.003222)scale(0.1 -0.1)\">\r\n       <use xlink:href=\"#DejaVuSans-54\"/>\r\n       <use x=\"63.623047\" xlink:href=\"#DejaVuSans-54\"/>\r\n      </g>\r\n     </g>\r\n    </g>\r\n    <g id=\"ytick_68\">\r\n     <g id=\"line2d_76\">\r\n      <g>\r\n       <use style=\"stroke:#000000;stroke-width:0.8;\" x=\"33.2875\" xlink:href=\"#m2a888fa1a6\" y=\"204.857209\"/>\r\n      </g>\r\n     </g>\r\n     <g id=\"text_76\">\r\n      <!-- 67 -->\r\n      <g transform=\"translate(13.5625 208.656428)scale(0.1 -0.1)\">\r\n       <use xlink:href=\"#DejaVuSans-54\"/>\r\n       <use x=\"63.623047\" xlink:href=\"#DejaVuSans-55\"/>\r\n      </g>\r\n     </g>\r\n    </g>\r\n    <g id=\"ytick_69\">\r\n     <g id=\"line2d_77\">\r\n      <g>\r\n       <use style=\"stroke:#000000;stroke-width:0.8;\" x=\"33.2875\" xlink:href=\"#m2a888fa1a6\" y=\"204.510415\"/>\r\n      </g>\r\n     </g>\r\n     <g id=\"text_77\">\r\n      <!-- 68 -->\r\n      <g transform=\"translate(13.5625 208.309634)scale(0.1 -0.1)\">\r\n       <use xlink:href=\"#DejaVuSans-54\"/>\r\n       <use x=\"63.623047\" xlink:href=\"#DejaVuSans-56\"/>\r\n      </g>\r\n     </g>\r\n    </g>\r\n    <g id=\"ytick_70\">\r\n     <g id=\"line2d_78\">\r\n      <g>\r\n       <use style=\"stroke:#000000;stroke-width:0.8;\" x=\"33.2875\" xlink:href=\"#m2a888fa1a6\" y=\"204.163621\"/>\r\n      </g>\r\n     </g>\r\n     <g id=\"text_78\">\r\n      <!-- 69 -->\r\n      <g transform=\"translate(13.5625 207.962839)scale(0.1 -0.1)\">\r\n       <use xlink:href=\"#DejaVuSans-54\"/>\r\n       <use x=\"63.623047\" xlink:href=\"#DejaVuSans-57\"/>\r\n      </g>\r\n     </g>\r\n    </g>\r\n    <g id=\"ytick_71\">\r\n     <g id=\"line2d_79\">\r\n      <g>\r\n       <use style=\"stroke:#000000;stroke-width:0.8;\" x=\"33.2875\" xlink:href=\"#m2a888fa1a6\" y=\"203.816826\"/>\r\n      </g>\r\n     </g>\r\n     <g id=\"text_79\">\r\n      <!-- 70 -->\r\n      <g transform=\"translate(13.5625 207.616045)scale(0.1 -0.1)\">\r\n       <use xlink:href=\"#DejaVuSans-55\"/>\r\n       <use x=\"63.623047\" xlink:href=\"#DejaVuSans-48\"/>\r\n      </g>\r\n     </g>\r\n    </g>\r\n    <g id=\"ytick_72\">\r\n     <g id=\"line2d_80\">\r\n      <g>\r\n       <use style=\"stroke:#000000;stroke-width:0.8;\" x=\"33.2875\" xlink:href=\"#m2a888fa1a6\" y=\"203.470032\"/>\r\n      </g>\r\n     </g>\r\n     <g id=\"text_80\">\r\n      <!-- 71 -->\r\n      <g transform=\"translate(13.5625 207.269251)scale(0.1 -0.1)\">\r\n       <use xlink:href=\"#DejaVuSans-55\"/>\r\n       <use x=\"63.623047\" xlink:href=\"#DejaVuSans-49\"/>\r\n      </g>\r\n     </g>\r\n    </g>\r\n    <g id=\"ytick_73\">\r\n     <g id=\"line2d_81\">\r\n      <g>\r\n       <use style=\"stroke:#000000;stroke-width:0.8;\" x=\"33.2875\" xlink:href=\"#m2a888fa1a6\" y=\"203.123238\"/>\r\n      </g>\r\n     </g>\r\n     <g id=\"text_81\">\r\n      <!-- 72 -->\r\n      <g transform=\"translate(13.5625 206.922457)scale(0.1 -0.1)\">\r\n       <use xlink:href=\"#DejaVuSans-55\"/>\r\n       <use x=\"63.623047\" xlink:href=\"#DejaVuSans-50\"/>\r\n      </g>\r\n     </g>\r\n    </g>\r\n    <g id=\"ytick_74\">\r\n     <g id=\"line2d_82\">\r\n      <g>\r\n       <use style=\"stroke:#000000;stroke-width:0.8;\" x=\"33.2875\" xlink:href=\"#m2a888fa1a6\" y=\"202.776444\"/>\r\n      </g>\r\n     </g>\r\n     <g id=\"text_82\">\r\n      <!-- 73 -->\r\n      <g transform=\"translate(13.5625 206.575662)scale(0.1 -0.1)\">\r\n       <use xlink:href=\"#DejaVuSans-55\"/>\r\n       <use x=\"63.623047\" xlink:href=\"#DejaVuSans-51\"/>\r\n      </g>\r\n     </g>\r\n    </g>\r\n    <g id=\"ytick_75\">\r\n     <g id=\"line2d_83\">\r\n      <g>\r\n       <use style=\"stroke:#000000;stroke-width:0.8;\" x=\"33.2875\" xlink:href=\"#m2a888fa1a6\" y=\"202.429649\"/>\r\n      </g>\r\n     </g>\r\n     <g id=\"text_83\">\r\n      <!-- 74 -->\r\n      <g transform=\"translate(13.5625 206.228868)scale(0.1 -0.1)\">\r\n       <use xlink:href=\"#DejaVuSans-55\"/>\r\n       <use x=\"63.623047\" xlink:href=\"#DejaVuSans-52\"/>\r\n      </g>\r\n     </g>\r\n    </g>\r\n    <g id=\"ytick_76\">\r\n     <g id=\"line2d_84\">\r\n      <g>\r\n       <use style=\"stroke:#000000;stroke-width:0.8;\" x=\"33.2875\" xlink:href=\"#m2a888fa1a6\" y=\"202.082855\"/>\r\n      </g>\r\n     </g>\r\n     <g id=\"text_84\">\r\n      <!-- 75 -->\r\n      <g transform=\"translate(13.5625 205.882074)scale(0.1 -0.1)\">\r\n       <use xlink:href=\"#DejaVuSans-55\"/>\r\n       <use x=\"63.623047\" xlink:href=\"#DejaVuSans-53\"/>\r\n      </g>\r\n     </g>\r\n    </g>\r\n    <g id=\"ytick_77\">\r\n     <g id=\"line2d_85\">\r\n      <g>\r\n       <use style=\"stroke:#000000;stroke-width:0.8;\" x=\"33.2875\" xlink:href=\"#m2a888fa1a6\" y=\"201.736061\"/>\r\n      </g>\r\n     </g>\r\n     <g id=\"text_85\">\r\n      <!-- 76 -->\r\n      <g transform=\"translate(13.5625 205.53528)scale(0.1 -0.1)\">\r\n       <use xlink:href=\"#DejaVuSans-55\"/>\r\n       <use x=\"63.623047\" xlink:href=\"#DejaVuSans-54\"/>\r\n      </g>\r\n     </g>\r\n    </g>\r\n    <g id=\"ytick_78\">\r\n     <g id=\"line2d_86\">\r\n      <g>\r\n       <use style=\"stroke:#000000;stroke-width:0.8;\" x=\"33.2875\" xlink:href=\"#m2a888fa1a6\" y=\"201.389267\"/>\r\n      </g>\r\n     </g>\r\n     <g id=\"text_86\">\r\n      <!-- 77 -->\r\n      <g transform=\"translate(13.5625 205.188485)scale(0.1 -0.1)\">\r\n       <use xlink:href=\"#DejaVuSans-55\"/>\r\n       <use x=\"63.623047\" xlink:href=\"#DejaVuSans-55\"/>\r\n      </g>\r\n     </g>\r\n    </g>\r\n    <g id=\"ytick_79\">\r\n     <g id=\"line2d_87\">\r\n      <g>\r\n       <use style=\"stroke:#000000;stroke-width:0.8;\" x=\"33.2875\" xlink:href=\"#m2a888fa1a6\" y=\"201.042472\"/>\r\n      </g>\r\n     </g>\r\n     <g id=\"text_87\">\r\n      <!-- 78 -->\r\n      <g transform=\"translate(13.5625 204.841691)scale(0.1 -0.1)\">\r\n       <use xlink:href=\"#DejaVuSans-55\"/>\r\n       <use x=\"63.623047\" xlink:href=\"#DejaVuSans-56\"/>\r\n      </g>\r\n     </g>\r\n    </g>\r\n    <g id=\"ytick_80\">\r\n     <g id=\"line2d_88\">\r\n      <g>\r\n       <use style=\"stroke:#000000;stroke-width:0.8;\" x=\"33.2875\" xlink:href=\"#m2a888fa1a6\" y=\"200.695678\"/>\r\n      </g>\r\n     </g>\r\n     <g id=\"text_88\">\r\n      <!-- 79 -->\r\n      <g transform=\"translate(13.5625 204.494897)scale(0.1 -0.1)\">\r\n       <use xlink:href=\"#DejaVuSans-55\"/>\r\n       <use x=\"63.623047\" xlink:href=\"#DejaVuSans-57\"/>\r\n      </g>\r\n     </g>\r\n    </g>\r\n    <g id=\"ytick_81\">\r\n     <g id=\"line2d_89\">\r\n      <g>\r\n       <use style=\"stroke:#000000;stroke-width:0.8;\" x=\"33.2875\" xlink:href=\"#m2a888fa1a6\" y=\"200.348884\"/>\r\n      </g>\r\n     </g>\r\n     <g id=\"text_89\">\r\n      <!-- 80 -->\r\n      <g transform=\"translate(13.5625 204.148103)scale(0.1 -0.1)\">\r\n       <use xlink:href=\"#DejaVuSans-56\"/>\r\n       <use x=\"63.623047\" xlink:href=\"#DejaVuSans-48\"/>\r\n      </g>\r\n     </g>\r\n    </g>\r\n    <g id=\"ytick_82\">\r\n     <g id=\"line2d_90\">\r\n      <g>\r\n       <use style=\"stroke:#000000;stroke-width:0.8;\" x=\"33.2875\" xlink:href=\"#m2a888fa1a6\" y=\"200.00209\"/>\r\n      </g>\r\n     </g>\r\n     <g id=\"text_90\">\r\n      <!-- 81 -->\r\n      <g transform=\"translate(13.5625 203.801308)scale(0.1 -0.1)\">\r\n       <use xlink:href=\"#DejaVuSans-56\"/>\r\n       <use x=\"63.623047\" xlink:href=\"#DejaVuSans-49\"/>\r\n      </g>\r\n     </g>\r\n    </g>\r\n    <g id=\"ytick_83\">\r\n     <g id=\"line2d_91\">\r\n      <g>\r\n       <use style=\"stroke:#000000;stroke-width:0.8;\" x=\"33.2875\" xlink:href=\"#m2a888fa1a6\" y=\"199.655295\"/>\r\n      </g>\r\n     </g>\r\n     <g id=\"text_91\">\r\n      <!-- 82 -->\r\n      <g transform=\"translate(13.5625 203.454514)scale(0.1 -0.1)\">\r\n       <use xlink:href=\"#DejaVuSans-56\"/>\r\n       <use x=\"63.623047\" xlink:href=\"#DejaVuSans-50\"/>\r\n      </g>\r\n     </g>\r\n    </g>\r\n    <g id=\"ytick_84\">\r\n     <g id=\"line2d_92\">\r\n      <g>\r\n       <use style=\"stroke:#000000;stroke-width:0.8;\" x=\"33.2875\" xlink:href=\"#m2a888fa1a6\" y=\"199.308501\"/>\r\n      </g>\r\n     </g>\r\n     <g id=\"text_92\">\r\n      <!-- 83 -->\r\n      <g transform=\"translate(13.5625 203.10772)scale(0.1 -0.1)\">\r\n       <use xlink:href=\"#DejaVuSans-56\"/>\r\n       <use x=\"63.623047\" xlink:href=\"#DejaVuSans-51\"/>\r\n      </g>\r\n     </g>\r\n    </g>\r\n    <g id=\"ytick_85\">\r\n     <g id=\"line2d_93\">\r\n      <g>\r\n       <use style=\"stroke:#000000;stroke-width:0.8;\" x=\"33.2875\" xlink:href=\"#m2a888fa1a6\" y=\"198.961707\"/>\r\n      </g>\r\n     </g>\r\n     <g id=\"text_93\">\r\n      <!-- 84 -->\r\n      <g transform=\"translate(13.5625 202.760926)scale(0.1 -0.1)\">\r\n       <use xlink:href=\"#DejaVuSans-56\"/>\r\n       <use x=\"63.623047\" xlink:href=\"#DejaVuSans-52\"/>\r\n      </g>\r\n     </g>\r\n    </g>\r\n    <g id=\"ytick_86\">\r\n     <g id=\"line2d_94\">\r\n      <g>\r\n       <use style=\"stroke:#000000;stroke-width:0.8;\" x=\"33.2875\" xlink:href=\"#m2a888fa1a6\" y=\"198.614913\"/>\r\n      </g>\r\n     </g>\r\n     <g id=\"text_94\">\r\n      <!-- 85 -->\r\n      <g transform=\"translate(13.5625 202.414131)scale(0.1 -0.1)\">\r\n       <use xlink:href=\"#DejaVuSans-56\"/>\r\n       <use x=\"63.623047\" xlink:href=\"#DejaVuSans-53\"/>\r\n      </g>\r\n     </g>\r\n    </g>\r\n    <g id=\"ytick_87\">\r\n     <g id=\"line2d_95\">\r\n      <g>\r\n       <use style=\"stroke:#000000;stroke-width:0.8;\" x=\"33.2875\" xlink:href=\"#m2a888fa1a6\" y=\"198.268118\"/>\r\n      </g>\r\n     </g>\r\n     <g id=\"text_95\">\r\n      <!-- 86 -->\r\n      <g transform=\"translate(13.5625 202.067337)scale(0.1 -0.1)\">\r\n       <use xlink:href=\"#DejaVuSans-56\"/>\r\n       <use x=\"63.623047\" xlink:href=\"#DejaVuSans-54\"/>\r\n      </g>\r\n     </g>\r\n    </g>\r\n    <g id=\"ytick_88\">\r\n     <g id=\"line2d_96\">\r\n      <g>\r\n       <use style=\"stroke:#000000;stroke-width:0.8;\" x=\"33.2875\" xlink:href=\"#m2a888fa1a6\" y=\"197.921324\"/>\r\n      </g>\r\n     </g>\r\n     <g id=\"text_96\">\r\n      <!-- 87 -->\r\n      <g transform=\"translate(13.5625 201.720543)scale(0.1 -0.1)\">\r\n       <use xlink:href=\"#DejaVuSans-56\"/>\r\n       <use x=\"63.623047\" xlink:href=\"#DejaVuSans-55\"/>\r\n      </g>\r\n     </g>\r\n    </g>\r\n    <g id=\"ytick_89\">\r\n     <g id=\"line2d_97\">\r\n      <g>\r\n       <use style=\"stroke:#000000;stroke-width:0.8;\" x=\"33.2875\" xlink:href=\"#m2a888fa1a6\" y=\"197.57453\"/>\r\n      </g>\r\n     </g>\r\n     <g id=\"text_97\">\r\n      <!-- 88 -->\r\n      <g transform=\"translate(13.5625 201.373749)scale(0.1 -0.1)\">\r\n       <use xlink:href=\"#DejaVuSans-56\"/>\r\n       <use x=\"63.623047\" xlink:href=\"#DejaVuSans-56\"/>\r\n      </g>\r\n     </g>\r\n    </g>\r\n    <g id=\"ytick_90\">\r\n     <g id=\"line2d_98\">\r\n      <g>\r\n       <use style=\"stroke:#000000;stroke-width:0.8;\" x=\"33.2875\" xlink:href=\"#m2a888fa1a6\" y=\"197.227735\"/>\r\n      </g>\r\n     </g>\r\n     <g id=\"text_98\">\r\n      <!-- 89 -->\r\n      <g transform=\"translate(13.5625 201.026954)scale(0.1 -0.1)\">\r\n       <use xlink:href=\"#DejaVuSans-56\"/>\r\n       <use x=\"63.623047\" xlink:href=\"#DejaVuSans-57\"/>\r\n      </g>\r\n     </g>\r\n    </g>\r\n    <g id=\"ytick_91\">\r\n     <g id=\"line2d_99\">\r\n      <g>\r\n       <use style=\"stroke:#000000;stroke-width:0.8;\" x=\"33.2875\" xlink:href=\"#m2a888fa1a6\" y=\"196.880941\"/>\r\n      </g>\r\n     </g>\r\n     <g id=\"text_99\">\r\n      <!-- 90 -->\r\n      <g transform=\"translate(13.5625 200.68016)scale(0.1 -0.1)\">\r\n       <use xlink:href=\"#DejaVuSans-57\"/>\r\n       <use x=\"63.623047\" xlink:href=\"#DejaVuSans-48\"/>\r\n      </g>\r\n     </g>\r\n    </g>\r\n    <g id=\"ytick_92\">\r\n     <g id=\"line2d_100\">\r\n      <g>\r\n       <use style=\"stroke:#000000;stroke-width:0.8;\" x=\"33.2875\" xlink:href=\"#m2a888fa1a6\" y=\"196.534147\"/>\r\n      </g>\r\n     </g>\r\n     <g id=\"text_100\">\r\n      <!-- 91 -->\r\n      <g transform=\"translate(13.5625 200.333366)scale(0.1 -0.1)\">\r\n       <use xlink:href=\"#DejaVuSans-57\"/>\r\n       <use x=\"63.623047\" xlink:href=\"#DejaVuSans-49\"/>\r\n      </g>\r\n     </g>\r\n    </g>\r\n    <g id=\"ytick_93\">\r\n     <g id=\"line2d_101\">\r\n      <g>\r\n       <use style=\"stroke:#000000;stroke-width:0.8;\" x=\"33.2875\" xlink:href=\"#m2a888fa1a6\" y=\"196.187353\"/>\r\n      </g>\r\n     </g>\r\n     <g id=\"text_101\">\r\n      <!-- 92 -->\r\n      <g transform=\"translate(13.5625 199.986571)scale(0.1 -0.1)\">\r\n       <use xlink:href=\"#DejaVuSans-57\"/>\r\n       <use x=\"63.623047\" xlink:href=\"#DejaVuSans-50\"/>\r\n      </g>\r\n     </g>\r\n    </g>\r\n    <g id=\"ytick_94\">\r\n     <g id=\"line2d_102\">\r\n      <g>\r\n       <use style=\"stroke:#000000;stroke-width:0.8;\" x=\"33.2875\" xlink:href=\"#m2a888fa1a6\" y=\"195.840558\"/>\r\n      </g>\r\n     </g>\r\n     <g id=\"text_102\">\r\n      <!-- 93 -->\r\n      <g transform=\"translate(13.5625 199.639777)scale(0.1 -0.1)\">\r\n       <use xlink:href=\"#DejaVuSans-57\"/>\r\n       <use x=\"63.623047\" xlink:href=\"#DejaVuSans-51\"/>\r\n      </g>\r\n     </g>\r\n    </g>\r\n    <g id=\"ytick_95\">\r\n     <g id=\"line2d_103\">\r\n      <g>\r\n       <use style=\"stroke:#000000;stroke-width:0.8;\" x=\"33.2875\" xlink:href=\"#m2a888fa1a6\" y=\"195.493764\"/>\r\n      </g>\r\n     </g>\r\n     <g id=\"text_103\">\r\n      <!-- 94 -->\r\n      <g transform=\"translate(13.5625 199.292983)scale(0.1 -0.1)\">\r\n       <use xlink:href=\"#DejaVuSans-57\"/>\r\n       <use x=\"63.623047\" xlink:href=\"#DejaVuSans-52\"/>\r\n      </g>\r\n     </g>\r\n    </g>\r\n    <g id=\"ytick_96\">\r\n     <g id=\"line2d_104\">\r\n      <g>\r\n       <use style=\"stroke:#000000;stroke-width:0.8;\" x=\"33.2875\" xlink:href=\"#m2a888fa1a6\" y=\"195.14697\"/>\r\n      </g>\r\n     </g>\r\n     <g id=\"text_104\">\r\n      <!-- 95 -->\r\n      <g transform=\"translate(13.5625 198.946189)scale(0.1 -0.1)\">\r\n       <use xlink:href=\"#DejaVuSans-57\"/>\r\n       <use x=\"63.623047\" xlink:href=\"#DejaVuSans-53\"/>\r\n      </g>\r\n     </g>\r\n    </g>\r\n    <g id=\"ytick_97\">\r\n     <g id=\"line2d_105\">\r\n      <g>\r\n       <use style=\"stroke:#000000;stroke-width:0.8;\" x=\"33.2875\" xlink:href=\"#m2a888fa1a6\" y=\"194.800176\"/>\r\n      </g>\r\n     </g>\r\n     <g id=\"text_105\">\r\n      <!-- 96 -->\r\n      <g transform=\"translate(13.5625 198.599394)scale(0.1 -0.1)\">\r\n       <use xlink:href=\"#DejaVuSans-57\"/>\r\n       <use x=\"63.623047\" xlink:href=\"#DejaVuSans-54\"/>\r\n      </g>\r\n     </g>\r\n    </g>\r\n    <g id=\"ytick_98\">\r\n     <g id=\"line2d_106\">\r\n      <g>\r\n       <use style=\"stroke:#000000;stroke-width:0.8;\" x=\"33.2875\" xlink:href=\"#m2a888fa1a6\" y=\"194.453381\"/>\r\n      </g>\r\n     </g>\r\n     <g id=\"text_106\">\r\n      <!-- 97 -->\r\n      <g transform=\"translate(13.5625 198.2526)scale(0.1 -0.1)\">\r\n       <use xlink:href=\"#DejaVuSans-57\"/>\r\n       <use x=\"63.623047\" xlink:href=\"#DejaVuSans-55\"/>\r\n      </g>\r\n     </g>\r\n    </g>\r\n    <g id=\"ytick_99\">\r\n     <g id=\"line2d_107\">\r\n      <g>\r\n       <use style=\"stroke:#000000;stroke-width:0.8;\" x=\"33.2875\" xlink:href=\"#m2a888fa1a6\" y=\"194.106587\"/>\r\n      </g>\r\n     </g>\r\n     <g id=\"text_107\">\r\n      <!-- 98 -->\r\n      <g transform=\"translate(13.5625 197.905806)scale(0.1 -0.1)\">\r\n       <use xlink:href=\"#DejaVuSans-57\"/>\r\n       <use x=\"63.623047\" xlink:href=\"#DejaVuSans-56\"/>\r\n      </g>\r\n     </g>\r\n    </g>\r\n    <g id=\"ytick_100\">\r\n     <g id=\"line2d_108\">\r\n      <g>\r\n       <use style=\"stroke:#000000;stroke-width:0.8;\" x=\"33.2875\" xlink:href=\"#m2a888fa1a6\" y=\"193.759793\"/>\r\n      </g>\r\n     </g>\r\n     <g id=\"text_108\">\r\n      <!-- 99 -->\r\n      <g transform=\"translate(13.5625 197.559012)scale(0.1 -0.1)\">\r\n       <use xlink:href=\"#DejaVuSans-57\"/>\r\n       <use x=\"63.623047\" xlink:href=\"#DejaVuSans-57\"/>\r\n      </g>\r\n     </g>\r\n    </g>\r\n    <g id=\"ytick_101\">\r\n     <g id=\"line2d_109\">\r\n      <g>\r\n       <use style=\"stroke:#000000;stroke-width:0.8;\" x=\"33.2875\" xlink:href=\"#m2a888fa1a6\" y=\"193.412999\"/>\r\n      </g>\r\n     </g>\r\n     <g id=\"text_109\">\r\n      <!-- 100 -->\r\n      <g transform=\"translate(7.2 197.212217)scale(0.1 -0.1)\">\r\n       <use xlink:href=\"#DejaVuSans-49\"/>\r\n       <use x=\"63.623047\" xlink:href=\"#DejaVuSans-48\"/>\r\n       <use x=\"127.246094\" xlink:href=\"#DejaVuSans-48\"/>\r\n      </g>\r\n     </g>\r\n    </g>\r\n    <g id=\"ytick_102\">\r\n     <g id=\"line2d_110\">\r\n      <g>\r\n       <use style=\"stroke:#000000;stroke-width:0.8;\" x=\"33.2875\" xlink:href=\"#m2a888fa1a6\" y=\"193.066204\"/>\r\n      </g>\r\n     </g>\r\n     <g id=\"text_110\">\r\n      <!-- 101 -->\r\n      <g transform=\"translate(7.2 196.865423)scale(0.1 -0.1)\">\r\n       <use xlink:href=\"#DejaVuSans-49\"/>\r\n       <use x=\"63.623047\" xlink:href=\"#DejaVuSans-48\"/>\r\n       <use x=\"127.246094\" xlink:href=\"#DejaVuSans-49\"/>\r\n      </g>\r\n     </g>\r\n    </g>\r\n    <g id=\"ytick_103\">\r\n     <g id=\"line2d_111\">\r\n      <g>\r\n       <use style=\"stroke:#000000;stroke-width:0.8;\" x=\"33.2875\" xlink:href=\"#m2a888fa1a6\" y=\"192.71941\"/>\r\n      </g>\r\n     </g>\r\n     <g id=\"text_111\">\r\n      <!-- 102 -->\r\n      <g transform=\"translate(7.2 196.518629)scale(0.1 -0.1)\">\r\n       <use xlink:href=\"#DejaVuSans-49\"/>\r\n       <use x=\"63.623047\" xlink:href=\"#DejaVuSans-48\"/>\r\n       <use x=\"127.246094\" xlink:href=\"#DejaVuSans-50\"/>\r\n      </g>\r\n     </g>\r\n    </g>\r\n    <g id=\"ytick_104\">\r\n     <g id=\"line2d_112\">\r\n      <g>\r\n       <use style=\"stroke:#000000;stroke-width:0.8;\" x=\"33.2875\" xlink:href=\"#m2a888fa1a6\" y=\"192.372616\"/>\r\n      </g>\r\n     </g>\r\n     <g id=\"text_112\">\r\n      <!-- 103 -->\r\n      <g transform=\"translate(7.2 196.171835)scale(0.1 -0.1)\">\r\n       <use xlink:href=\"#DejaVuSans-49\"/>\r\n       <use x=\"63.623047\" xlink:href=\"#DejaVuSans-48\"/>\r\n       <use x=\"127.246094\" xlink:href=\"#DejaVuSans-51\"/>\r\n      </g>\r\n     </g>\r\n    </g>\r\n    <g id=\"ytick_105\">\r\n     <g id=\"line2d_113\">\r\n      <g>\r\n       <use style=\"stroke:#000000;stroke-width:0.8;\" x=\"33.2875\" xlink:href=\"#m2a888fa1a6\" y=\"192.025822\"/>\r\n      </g>\r\n     </g>\r\n     <g id=\"text_113\">\r\n      <!-- 104 -->\r\n      <g transform=\"translate(7.2 195.82504)scale(0.1 -0.1)\">\r\n       <use xlink:href=\"#DejaVuSans-49\"/>\r\n       <use x=\"63.623047\" xlink:href=\"#DejaVuSans-48\"/>\r\n       <use x=\"127.246094\" xlink:href=\"#DejaVuSans-52\"/>\r\n      </g>\r\n     </g>\r\n    </g>\r\n    <g id=\"ytick_106\">\r\n     <g id=\"line2d_114\">\r\n      <g>\r\n       <use style=\"stroke:#000000;stroke-width:0.8;\" x=\"33.2875\" xlink:href=\"#m2a888fa1a6\" y=\"191.679027\"/>\r\n      </g>\r\n     </g>\r\n     <g id=\"text_114\">\r\n      <!-- 105 -->\r\n      <g transform=\"translate(7.2 195.478246)scale(0.1 -0.1)\">\r\n       <use xlink:href=\"#DejaVuSans-49\"/>\r\n       <use x=\"63.623047\" xlink:href=\"#DejaVuSans-48\"/>\r\n       <use x=\"127.246094\" xlink:href=\"#DejaVuSans-53\"/>\r\n      </g>\r\n     </g>\r\n    </g>\r\n    <g id=\"ytick_107\">\r\n     <g id=\"line2d_115\">\r\n      <g>\r\n       <use style=\"stroke:#000000;stroke-width:0.8;\" x=\"33.2875\" xlink:href=\"#m2a888fa1a6\" y=\"191.332233\"/>\r\n      </g>\r\n     </g>\r\n     <g id=\"text_115\">\r\n      <!-- 106 -->\r\n      <g transform=\"translate(7.2 195.131452)scale(0.1 -0.1)\">\r\n       <use xlink:href=\"#DejaVuSans-49\"/>\r\n       <use x=\"63.623047\" xlink:href=\"#DejaVuSans-48\"/>\r\n       <use x=\"127.246094\" xlink:href=\"#DejaVuSans-54\"/>\r\n      </g>\r\n     </g>\r\n    </g>\r\n    <g id=\"ytick_108\">\r\n     <g id=\"line2d_116\">\r\n      <g>\r\n       <use style=\"stroke:#000000;stroke-width:0.8;\" x=\"33.2875\" xlink:href=\"#m2a888fa1a6\" y=\"190.985439\"/>\r\n      </g>\r\n     </g>\r\n     <g id=\"text_116\">\r\n      <!-- 107 -->\r\n      <g transform=\"translate(7.2 194.784658)scale(0.1 -0.1)\">\r\n       <use xlink:href=\"#DejaVuSans-49\"/>\r\n       <use x=\"63.623047\" xlink:href=\"#DejaVuSans-48\"/>\r\n       <use x=\"127.246094\" xlink:href=\"#DejaVuSans-55\"/>\r\n      </g>\r\n     </g>\r\n    </g>\r\n    <g id=\"ytick_109\">\r\n     <g id=\"line2d_117\">\r\n      <g>\r\n       <use style=\"stroke:#000000;stroke-width:0.8;\" x=\"33.2875\" xlink:href=\"#m2a888fa1a6\" y=\"190.638645\"/>\r\n      </g>\r\n     </g>\r\n     <g id=\"text_117\">\r\n      <!-- 108 -->\r\n      <g transform=\"translate(7.2 194.437863)scale(0.1 -0.1)\">\r\n       <use xlink:href=\"#DejaVuSans-49\"/>\r\n       <use x=\"63.623047\" xlink:href=\"#DejaVuSans-48\"/>\r\n       <use x=\"127.246094\" xlink:href=\"#DejaVuSans-56\"/>\r\n      </g>\r\n     </g>\r\n    </g>\r\n    <g id=\"ytick_110\">\r\n     <g id=\"line2d_118\">\r\n      <g>\r\n       <use style=\"stroke:#000000;stroke-width:0.8;\" x=\"33.2875\" xlink:href=\"#m2a888fa1a6\" y=\"190.29185\"/>\r\n      </g>\r\n     </g>\r\n     <g id=\"text_118\">\r\n      <!-- 109 -->\r\n      <g transform=\"translate(7.2 194.091069)scale(0.1 -0.1)\">\r\n       <use xlink:href=\"#DejaVuSans-49\"/>\r\n       <use x=\"63.623047\" xlink:href=\"#DejaVuSans-48\"/>\r\n       <use x=\"127.246094\" xlink:href=\"#DejaVuSans-57\"/>\r\n      </g>\r\n     </g>\r\n    </g>\r\n    <g id=\"ytick_111\">\r\n     <g id=\"line2d_119\">\r\n      <g>\r\n       <use style=\"stroke:#000000;stroke-width:0.8;\" x=\"33.2875\" xlink:href=\"#m2a888fa1a6\" y=\"189.945056\"/>\r\n      </g>\r\n     </g>\r\n     <g id=\"text_119\">\r\n      <!-- 110 -->\r\n      <g transform=\"translate(7.2 193.744275)scale(0.1 -0.1)\">\r\n       <use xlink:href=\"#DejaVuSans-49\"/>\r\n       <use x=\"63.623047\" xlink:href=\"#DejaVuSans-49\"/>\r\n       <use x=\"127.246094\" xlink:href=\"#DejaVuSans-48\"/>\r\n      </g>\r\n     </g>\r\n    </g>\r\n    <g id=\"ytick_112\">\r\n     <g id=\"line2d_120\">\r\n      <g>\r\n       <use style=\"stroke:#000000;stroke-width:0.8;\" x=\"33.2875\" xlink:href=\"#m2a888fa1a6\" y=\"189.598262\"/>\r\n      </g>\r\n     </g>\r\n     <g id=\"text_120\">\r\n      <!-- 111 -->\r\n      <g transform=\"translate(7.2 193.397481)scale(0.1 -0.1)\">\r\n       <use xlink:href=\"#DejaVuSans-49\"/>\r\n       <use x=\"63.623047\" xlink:href=\"#DejaVuSans-49\"/>\r\n       <use x=\"127.246094\" xlink:href=\"#DejaVuSans-49\"/>\r\n      </g>\r\n     </g>\r\n    </g>\r\n    <g id=\"ytick_113\">\r\n     <g id=\"line2d_121\">\r\n      <g>\r\n       <use style=\"stroke:#000000;stroke-width:0.8;\" x=\"33.2875\" xlink:href=\"#m2a888fa1a6\" y=\"189.251468\"/>\r\n      </g>\r\n     </g>\r\n     <g id=\"text_121\">\r\n      <!-- 112 -->\r\n      <g transform=\"translate(7.2 193.050686)scale(0.1 -0.1)\">\r\n       <use xlink:href=\"#DejaVuSans-49\"/>\r\n       <use x=\"63.623047\" xlink:href=\"#DejaVuSans-49\"/>\r\n       <use x=\"127.246094\" xlink:href=\"#DejaVuSans-50\"/>\r\n      </g>\r\n     </g>\r\n    </g>\r\n    <g id=\"ytick_114\">\r\n     <g id=\"line2d_122\">\r\n      <g>\r\n       <use style=\"stroke:#000000;stroke-width:0.8;\" x=\"33.2875\" xlink:href=\"#m2a888fa1a6\" y=\"188.904673\"/>\r\n      </g>\r\n     </g>\r\n     <g id=\"text_122\">\r\n      <!-- 113 -->\r\n      <g transform=\"translate(7.2 192.703892)scale(0.1 -0.1)\">\r\n       <use xlink:href=\"#DejaVuSans-49\"/>\r\n       <use x=\"63.623047\" xlink:href=\"#DejaVuSans-49\"/>\r\n       <use x=\"127.246094\" xlink:href=\"#DejaVuSans-51\"/>\r\n      </g>\r\n     </g>\r\n    </g>\r\n    <g id=\"ytick_115\">\r\n     <g id=\"line2d_123\">\r\n      <g>\r\n       <use style=\"stroke:#000000;stroke-width:0.8;\" x=\"33.2875\" xlink:href=\"#m2a888fa1a6\" y=\"188.557879\"/>\r\n      </g>\r\n     </g>\r\n     <g id=\"text_123\">\r\n      <!-- 114 -->\r\n      <g transform=\"translate(7.2 192.357098)scale(0.1 -0.1)\">\r\n       <use xlink:href=\"#DejaVuSans-49\"/>\r\n       <use x=\"63.623047\" xlink:href=\"#DejaVuSans-49\"/>\r\n       <use x=\"127.246094\" xlink:href=\"#DejaVuSans-52\"/>\r\n      </g>\r\n     </g>\r\n    </g>\r\n    <g id=\"ytick_116\">\r\n     <g id=\"line2d_124\">\r\n      <g>\r\n       <use style=\"stroke:#000000;stroke-width:0.8;\" x=\"33.2875\" xlink:href=\"#m2a888fa1a6\" y=\"188.211085\"/>\r\n      </g>\r\n     </g>\r\n     <g id=\"text_124\">\r\n      <!-- 115 -->\r\n      <g transform=\"translate(7.2 192.010304)scale(0.1 -0.1)\">\r\n       <use xlink:href=\"#DejaVuSans-49\"/>\r\n       <use x=\"63.623047\" xlink:href=\"#DejaVuSans-49\"/>\r\n       <use x=\"127.246094\" xlink:href=\"#DejaVuSans-53\"/>\r\n      </g>\r\n     </g>\r\n    </g>\r\n    <g id=\"ytick_117\">\r\n     <g id=\"line2d_125\">\r\n      <g>\r\n       <use style=\"stroke:#000000;stroke-width:0.8;\" x=\"33.2875\" xlink:href=\"#m2a888fa1a6\" y=\"187.864291\"/>\r\n      </g>\r\n     </g>\r\n     <g id=\"text_125\">\r\n      <!-- 116 -->\r\n      <g transform=\"translate(7.2 191.663509)scale(0.1 -0.1)\">\r\n       <use xlink:href=\"#DejaVuSans-49\"/>\r\n       <use x=\"63.623047\" xlink:href=\"#DejaVuSans-49\"/>\r\n       <use x=\"127.246094\" xlink:href=\"#DejaVuSans-54\"/>\r\n      </g>\r\n     </g>\r\n    </g>\r\n    <g id=\"ytick_118\">\r\n     <g id=\"line2d_126\">\r\n      <g>\r\n       <use style=\"stroke:#000000;stroke-width:0.8;\" x=\"33.2875\" xlink:href=\"#m2a888fa1a6\" y=\"187.517496\"/>\r\n      </g>\r\n     </g>\r\n     <g id=\"text_126\">\r\n      <!-- 117 -->\r\n      <g transform=\"translate(7.2 191.316715)scale(0.1 -0.1)\">\r\n       <use xlink:href=\"#DejaVuSans-49\"/>\r\n       <use x=\"63.623047\" xlink:href=\"#DejaVuSans-49\"/>\r\n       <use x=\"127.246094\" xlink:href=\"#DejaVuSans-55\"/>\r\n      </g>\r\n     </g>\r\n    </g>\r\n    <g id=\"ytick_119\">\r\n     <g id=\"line2d_127\">\r\n      <g>\r\n       <use style=\"stroke:#000000;stroke-width:0.8;\" x=\"33.2875\" xlink:href=\"#m2a888fa1a6\" y=\"187.170702\"/>\r\n      </g>\r\n     </g>\r\n     <g id=\"text_127\">\r\n      <!-- 118 -->\r\n      <g transform=\"translate(7.2 190.969921)scale(0.1 -0.1)\">\r\n       <use xlink:href=\"#DejaVuSans-49\"/>\r\n       <use x=\"63.623047\" xlink:href=\"#DejaVuSans-49\"/>\r\n       <use x=\"127.246094\" xlink:href=\"#DejaVuSans-56\"/>\r\n      </g>\r\n     </g>\r\n    </g>\r\n    <g id=\"ytick_120\">\r\n     <g id=\"line2d_128\">\r\n      <g>\r\n       <use style=\"stroke:#000000;stroke-width:0.8;\" x=\"33.2875\" xlink:href=\"#m2a888fa1a6\" y=\"186.823908\"/>\r\n      </g>\r\n     </g>\r\n     <g id=\"text_128\">\r\n      <!-- 119 -->\r\n      <g transform=\"translate(7.2 190.623126)scale(0.1 -0.1)\">\r\n       <use xlink:href=\"#DejaVuSans-49\"/>\r\n       <use x=\"63.623047\" xlink:href=\"#DejaVuSans-49\"/>\r\n       <use x=\"127.246094\" xlink:href=\"#DejaVuSans-57\"/>\r\n      </g>\r\n     </g>\r\n    </g>\r\n    <g id=\"ytick_121\">\r\n     <g id=\"line2d_129\">\r\n      <g>\r\n       <use style=\"stroke:#000000;stroke-width:0.8;\" x=\"33.2875\" xlink:href=\"#m2a888fa1a6\" y=\"186.477113\"/>\r\n      </g>\r\n     </g>\r\n     <g id=\"text_129\">\r\n      <!-- 120 -->\r\n      <g transform=\"translate(7.2 190.276332)scale(0.1 -0.1)\">\r\n       <use xlink:href=\"#DejaVuSans-49\"/>\r\n       <use x=\"63.623047\" xlink:href=\"#DejaVuSans-50\"/>\r\n       <use x=\"127.246094\" xlink:href=\"#DejaVuSans-48\"/>\r\n      </g>\r\n     </g>\r\n    </g>\r\n    <g id=\"ytick_122\">\r\n     <g id=\"line2d_130\">\r\n      <g>\r\n       <use style=\"stroke:#000000;stroke-width:0.8;\" x=\"33.2875\" xlink:href=\"#m2a888fa1a6\" y=\"186.130319\"/>\r\n      </g>\r\n     </g>\r\n     <g id=\"text_130\">\r\n      <!-- 121 -->\r\n      <g transform=\"translate(7.2 189.929538)scale(0.1 -0.1)\">\r\n       <use xlink:href=\"#DejaVuSans-49\"/>\r\n       <use x=\"63.623047\" xlink:href=\"#DejaVuSans-50\"/>\r\n       <use x=\"127.246094\" xlink:href=\"#DejaVuSans-49\"/>\r\n      </g>\r\n     </g>\r\n    </g>\r\n    <g id=\"ytick_123\">\r\n     <g id=\"line2d_131\">\r\n      <g>\r\n       <use style=\"stroke:#000000;stroke-width:0.8;\" x=\"33.2875\" xlink:href=\"#m2a888fa1a6\" y=\"185.783525\"/>\r\n      </g>\r\n     </g>\r\n     <g id=\"text_131\">\r\n      <!-- 122 -->\r\n      <g transform=\"translate(7.2 189.582744)scale(0.1 -0.1)\">\r\n       <use xlink:href=\"#DejaVuSans-49\"/>\r\n       <use x=\"63.623047\" xlink:href=\"#DejaVuSans-50\"/>\r\n       <use x=\"127.246094\" xlink:href=\"#DejaVuSans-50\"/>\r\n      </g>\r\n     </g>\r\n    </g>\r\n    <g id=\"ytick_124\">\r\n     <g id=\"line2d_132\">\r\n      <g>\r\n       <use style=\"stroke:#000000;stroke-width:0.8;\" x=\"33.2875\" xlink:href=\"#m2a888fa1a6\" y=\"185.436731\"/>\r\n      </g>\r\n     </g>\r\n     <g id=\"text_132\">\r\n      <!-- 123 -->\r\n      <g transform=\"translate(7.2 189.235949)scale(0.1 -0.1)\">\r\n       <use xlink:href=\"#DejaVuSans-49\"/>\r\n       <use x=\"63.623047\" xlink:href=\"#DejaVuSans-50\"/>\r\n       <use x=\"127.246094\" xlink:href=\"#DejaVuSans-51\"/>\r\n      </g>\r\n     </g>\r\n    </g>\r\n    <g id=\"ytick_125\">\r\n     <g id=\"line2d_133\">\r\n      <g>\r\n       <use style=\"stroke:#000000;stroke-width:0.8;\" x=\"33.2875\" xlink:href=\"#m2a888fa1a6\" y=\"185.089936\"/>\r\n      </g>\r\n     </g>\r\n     <g id=\"text_133\">\r\n      <!-- 124 -->\r\n      <g transform=\"translate(7.2 188.889155)scale(0.1 -0.1)\">\r\n       <use xlink:href=\"#DejaVuSans-49\"/>\r\n       <use x=\"63.623047\" xlink:href=\"#DejaVuSans-50\"/>\r\n       <use x=\"127.246094\" xlink:href=\"#DejaVuSans-52\"/>\r\n      </g>\r\n     </g>\r\n    </g>\r\n    <g id=\"ytick_126\">\r\n     <g id=\"line2d_134\">\r\n      <g>\r\n       <use style=\"stroke:#000000;stroke-width:0.8;\" x=\"33.2875\" xlink:href=\"#m2a888fa1a6\" y=\"184.743142\"/>\r\n      </g>\r\n     </g>\r\n     <g id=\"text_134\">\r\n      <!-- 125 -->\r\n      <g transform=\"translate(7.2 188.542361)scale(0.1 -0.1)\">\r\n       <use xlink:href=\"#DejaVuSans-49\"/>\r\n       <use x=\"63.623047\" xlink:href=\"#DejaVuSans-50\"/>\r\n       <use x=\"127.246094\" xlink:href=\"#DejaVuSans-53\"/>\r\n      </g>\r\n     </g>\r\n    </g>\r\n    <g id=\"ytick_127\">\r\n     <g id=\"line2d_135\">\r\n      <g>\r\n       <use style=\"stroke:#000000;stroke-width:0.8;\" x=\"33.2875\" xlink:href=\"#m2a888fa1a6\" y=\"184.396348\"/>\r\n      </g>\r\n     </g>\r\n     <g id=\"text_135\">\r\n      <!-- 126 -->\r\n      <g transform=\"translate(7.2 188.195567)scale(0.1 -0.1)\">\r\n       <use xlink:href=\"#DejaVuSans-49\"/>\r\n       <use x=\"63.623047\" xlink:href=\"#DejaVuSans-50\"/>\r\n       <use x=\"127.246094\" xlink:href=\"#DejaVuSans-54\"/>\r\n      </g>\r\n     </g>\r\n    </g>\r\n    <g id=\"ytick_128\">\r\n     <g id=\"line2d_136\">\r\n      <g>\r\n       <use style=\"stroke:#000000;stroke-width:0.8;\" x=\"33.2875\" xlink:href=\"#m2a888fa1a6\" y=\"184.049554\"/>\r\n      </g>\r\n     </g>\r\n     <g id=\"text_136\">\r\n      <!-- 127 -->\r\n      <g transform=\"translate(7.2 187.848772)scale(0.1 -0.1)\">\r\n       <use xlink:href=\"#DejaVuSans-49\"/>\r\n       <use x=\"63.623047\" xlink:href=\"#DejaVuSans-50\"/>\r\n       <use x=\"127.246094\" xlink:href=\"#DejaVuSans-55\"/>\r\n      </g>\r\n     </g>\r\n    </g>\r\n    <g id=\"ytick_129\">\r\n     <g id=\"line2d_137\">\r\n      <g>\r\n       <use style=\"stroke:#000000;stroke-width:0.8;\" x=\"33.2875\" xlink:href=\"#m2a888fa1a6\" y=\"183.702759\"/>\r\n      </g>\r\n     </g>\r\n     <g id=\"text_137\">\r\n      <!-- 128 -->\r\n      <g transform=\"translate(7.2 187.501978)scale(0.1 -0.1)\">\r\n       <use xlink:href=\"#DejaVuSans-49\"/>\r\n       <use x=\"63.623047\" xlink:href=\"#DejaVuSans-50\"/>\r\n       <use x=\"127.246094\" xlink:href=\"#DejaVuSans-56\"/>\r\n      </g>\r\n     </g>\r\n    </g>\r\n    <g id=\"ytick_130\">\r\n     <g id=\"line2d_138\">\r\n      <g>\r\n       <use style=\"stroke:#000000;stroke-width:0.8;\" x=\"33.2875\" xlink:href=\"#m2a888fa1a6\" y=\"183.355965\"/>\r\n      </g>\r\n     </g>\r\n     <g id=\"text_138\">\r\n      <!-- 129 -->\r\n      <g transform=\"translate(7.2 187.155184)scale(0.1 -0.1)\">\r\n       <use xlink:href=\"#DejaVuSans-49\"/>\r\n       <use x=\"63.623047\" xlink:href=\"#DejaVuSans-50\"/>\r\n       <use x=\"127.246094\" xlink:href=\"#DejaVuSans-57\"/>\r\n      </g>\r\n     </g>\r\n    </g>\r\n    <g id=\"ytick_131\">\r\n     <g id=\"line2d_139\">\r\n      <g>\r\n       <use style=\"stroke:#000000;stroke-width:0.8;\" x=\"33.2875\" xlink:href=\"#m2a888fa1a6\" y=\"183.009171\"/>\r\n      </g>\r\n     </g>\r\n     <g id=\"text_139\">\r\n      <!-- 130 -->\r\n      <g transform=\"translate(7.2 186.80839)scale(0.1 -0.1)\">\r\n       <use xlink:href=\"#DejaVuSans-49\"/>\r\n       <use x=\"63.623047\" xlink:href=\"#DejaVuSans-51\"/>\r\n       <use x=\"127.246094\" xlink:href=\"#DejaVuSans-48\"/>\r\n      </g>\r\n     </g>\r\n    </g>\r\n    <g id=\"ytick_132\">\r\n     <g id=\"line2d_140\">\r\n      <g>\r\n       <use style=\"stroke:#000000;stroke-width:0.8;\" x=\"33.2875\" xlink:href=\"#m2a888fa1a6\" y=\"182.662377\"/>\r\n      </g>\r\n     </g>\r\n     <g id=\"text_140\">\r\n      <!-- 131 -->\r\n      <g transform=\"translate(7.2 186.461595)scale(0.1 -0.1)\">\r\n       <use xlink:href=\"#DejaVuSans-49\"/>\r\n       <use x=\"63.623047\" xlink:href=\"#DejaVuSans-51\"/>\r\n       <use x=\"127.246094\" xlink:href=\"#DejaVuSans-49\"/>\r\n      </g>\r\n     </g>\r\n    </g>\r\n    <g id=\"ytick_133\">\r\n     <g id=\"line2d_141\">\r\n      <g>\r\n       <use style=\"stroke:#000000;stroke-width:0.8;\" x=\"33.2875\" xlink:href=\"#m2a888fa1a6\" y=\"182.315582\"/>\r\n      </g>\r\n     </g>\r\n     <g id=\"text_141\">\r\n      <!-- 132 -->\r\n      <g transform=\"translate(7.2 186.114801)scale(0.1 -0.1)\">\r\n       <use xlink:href=\"#DejaVuSans-49\"/>\r\n       <use x=\"63.623047\" xlink:href=\"#DejaVuSans-51\"/>\r\n       <use x=\"127.246094\" xlink:href=\"#DejaVuSans-50\"/>\r\n      </g>\r\n     </g>\r\n    </g>\r\n    <g id=\"ytick_134\">\r\n     <g id=\"line2d_142\">\r\n      <g>\r\n       <use style=\"stroke:#000000;stroke-width:0.8;\" x=\"33.2875\" xlink:href=\"#m2a888fa1a6\" y=\"181.968788\"/>\r\n      </g>\r\n     </g>\r\n     <g id=\"text_142\">\r\n      <!-- 133 -->\r\n      <g transform=\"translate(7.2 185.768007)scale(0.1 -0.1)\">\r\n       <use xlink:href=\"#DejaVuSans-49\"/>\r\n       <use x=\"63.623047\" xlink:href=\"#DejaVuSans-51\"/>\r\n       <use x=\"127.246094\" xlink:href=\"#DejaVuSans-51\"/>\r\n      </g>\r\n     </g>\r\n    </g>\r\n    <g id=\"ytick_135\">\r\n     <g id=\"line2d_143\">\r\n      <g>\r\n       <use style=\"stroke:#000000;stroke-width:0.8;\" x=\"33.2875\" xlink:href=\"#m2a888fa1a6\" y=\"181.621994\"/>\r\n      </g>\r\n     </g>\r\n     <g id=\"text_143\">\r\n      <!-- 134 -->\r\n      <g transform=\"translate(7.2 185.421213)scale(0.1 -0.1)\">\r\n       <use xlink:href=\"#DejaVuSans-49\"/>\r\n       <use x=\"63.623047\" xlink:href=\"#DejaVuSans-51\"/>\r\n       <use x=\"127.246094\" xlink:href=\"#DejaVuSans-52\"/>\r\n      </g>\r\n     </g>\r\n    </g>\r\n    <g id=\"ytick_136\">\r\n     <g id=\"line2d_144\">\r\n      <g>\r\n       <use style=\"stroke:#000000;stroke-width:0.8;\" x=\"33.2875\" xlink:href=\"#m2a888fa1a6\" y=\"181.2752\"/>\r\n      </g>\r\n     </g>\r\n     <g id=\"text_144\">\r\n      <!-- 135 -->\r\n      <g transform=\"translate(7.2 185.074418)scale(0.1 -0.1)\">\r\n       <use xlink:href=\"#DejaVuSans-49\"/>\r\n       <use x=\"63.623047\" xlink:href=\"#DejaVuSans-51\"/>\r\n       <use x=\"127.246094\" xlink:href=\"#DejaVuSans-53\"/>\r\n      </g>\r\n     </g>\r\n    </g>\r\n    <g id=\"ytick_137\">\r\n     <g id=\"line2d_145\">\r\n      <g>\r\n       <use style=\"stroke:#000000;stroke-width:0.8;\" x=\"33.2875\" xlink:href=\"#m2a888fa1a6\" y=\"180.928405\"/>\r\n      </g>\r\n     </g>\r\n     <g id=\"text_145\">\r\n      <!-- 136 -->\r\n      <g transform=\"translate(7.2 184.727624)scale(0.1 -0.1)\">\r\n       <use xlink:href=\"#DejaVuSans-49\"/>\r\n       <use x=\"63.623047\" xlink:href=\"#DejaVuSans-51\"/>\r\n       <use x=\"127.246094\" xlink:href=\"#DejaVuSans-54\"/>\r\n      </g>\r\n     </g>\r\n    </g>\r\n    <g id=\"ytick_138\">\r\n     <g id=\"line2d_146\">\r\n      <g>\r\n       <use style=\"stroke:#000000;stroke-width:0.8;\" x=\"33.2875\" xlink:href=\"#m2a888fa1a6\" y=\"180.581611\"/>\r\n      </g>\r\n     </g>\r\n     <g id=\"text_146\">\r\n      <!-- 137 -->\r\n      <g transform=\"translate(7.2 184.38083)scale(0.1 -0.1)\">\r\n       <use xlink:href=\"#DejaVuSans-49\"/>\r\n       <use x=\"63.623047\" xlink:href=\"#DejaVuSans-51\"/>\r\n       <use x=\"127.246094\" xlink:href=\"#DejaVuSans-55\"/>\r\n      </g>\r\n     </g>\r\n    </g>\r\n    <g id=\"ytick_139\">\r\n     <g id=\"line2d_147\">\r\n      <g>\r\n       <use style=\"stroke:#000000;stroke-width:0.8;\" x=\"33.2875\" xlink:href=\"#m2a888fa1a6\" y=\"180.234817\"/>\r\n      </g>\r\n     </g>\r\n     <g id=\"text_147\">\r\n      <!-- 138 -->\r\n      <g transform=\"translate(7.2 184.034036)scale(0.1 -0.1)\">\r\n       <use xlink:href=\"#DejaVuSans-49\"/>\r\n       <use x=\"63.623047\" xlink:href=\"#DejaVuSans-51\"/>\r\n       <use x=\"127.246094\" xlink:href=\"#DejaVuSans-56\"/>\r\n      </g>\r\n     </g>\r\n    </g>\r\n    <g id=\"ytick_140\">\r\n     <g id=\"line2d_148\">\r\n      <g>\r\n       <use style=\"stroke:#000000;stroke-width:0.8;\" x=\"33.2875\" xlink:href=\"#m2a888fa1a6\" y=\"179.888023\"/>\r\n      </g>\r\n     </g>\r\n     <g id=\"text_148\">\r\n      <!-- 139 -->\r\n      <g transform=\"translate(7.2 183.687241)scale(0.1 -0.1)\">\r\n       <use xlink:href=\"#DejaVuSans-49\"/>\r\n       <use x=\"63.623047\" xlink:href=\"#DejaVuSans-51\"/>\r\n       <use x=\"127.246094\" xlink:href=\"#DejaVuSans-57\"/>\r\n      </g>\r\n     </g>\r\n    </g>\r\n    <g id=\"ytick_141\">\r\n     <g id=\"line2d_149\">\r\n      <g>\r\n       <use style=\"stroke:#000000;stroke-width:0.8;\" x=\"33.2875\" xlink:href=\"#m2a888fa1a6\" y=\"179.541228\"/>\r\n      </g>\r\n     </g>\r\n     <g id=\"text_149\">\r\n      <!-- 140 -->\r\n      <g transform=\"translate(7.2 183.340447)scale(0.1 -0.1)\">\r\n       <use xlink:href=\"#DejaVuSans-49\"/>\r\n       <use x=\"63.623047\" xlink:href=\"#DejaVuSans-52\"/>\r\n       <use x=\"127.246094\" xlink:href=\"#DejaVuSans-48\"/>\r\n      </g>\r\n     </g>\r\n    </g>\r\n    <g id=\"ytick_142\">\r\n     <g id=\"line2d_150\">\r\n      <g>\r\n       <use style=\"stroke:#000000;stroke-width:0.8;\" x=\"33.2875\" xlink:href=\"#m2a888fa1a6\" y=\"179.194434\"/>\r\n      </g>\r\n     </g>\r\n     <g id=\"text_150\">\r\n      <!-- 141 -->\r\n      <g transform=\"translate(7.2 182.993653)scale(0.1 -0.1)\">\r\n       <use xlink:href=\"#DejaVuSans-49\"/>\r\n       <use x=\"63.623047\" xlink:href=\"#DejaVuSans-52\"/>\r\n       <use x=\"127.246094\" xlink:href=\"#DejaVuSans-49\"/>\r\n      </g>\r\n     </g>\r\n    </g>\r\n    <g id=\"ytick_143\">\r\n     <g id=\"line2d_151\">\r\n      <g>\r\n       <use style=\"stroke:#000000;stroke-width:0.8;\" x=\"33.2875\" xlink:href=\"#m2a888fa1a6\" y=\"178.84764\"/>\r\n      </g>\r\n     </g>\r\n     <g id=\"text_151\">\r\n      <!-- 142 -->\r\n      <g transform=\"translate(7.2 182.646859)scale(0.1 -0.1)\">\r\n       <use xlink:href=\"#DejaVuSans-49\"/>\r\n       <use x=\"63.623047\" xlink:href=\"#DejaVuSans-52\"/>\r\n       <use x=\"127.246094\" xlink:href=\"#DejaVuSans-50\"/>\r\n      </g>\r\n     </g>\r\n    </g>\r\n    <g id=\"ytick_144\">\r\n     <g id=\"line2d_152\">\r\n      <g>\r\n       <use style=\"stroke:#000000;stroke-width:0.8;\" x=\"33.2875\" xlink:href=\"#m2a888fa1a6\" y=\"178.500846\"/>\r\n      </g>\r\n     </g>\r\n     <g id=\"text_152\">\r\n      <!-- 143 -->\r\n      <g transform=\"translate(7.2 182.300064)scale(0.1 -0.1)\">\r\n       <use xlink:href=\"#DejaVuSans-49\"/>\r\n       <use x=\"63.623047\" xlink:href=\"#DejaVuSans-52\"/>\r\n       <use x=\"127.246094\" xlink:href=\"#DejaVuSans-51\"/>\r\n      </g>\r\n     </g>\r\n    </g>\r\n    <g id=\"ytick_145\">\r\n     <g id=\"line2d_153\">\r\n      <g>\r\n       <use style=\"stroke:#000000;stroke-width:0.8;\" x=\"33.2875\" xlink:href=\"#m2a888fa1a6\" y=\"178.154051\"/>\r\n      </g>\r\n     </g>\r\n     <g id=\"text_153\">\r\n      <!-- 144 -->\r\n      <g transform=\"translate(7.2 181.95327)scale(0.1 -0.1)\">\r\n       <use xlink:href=\"#DejaVuSans-49\"/>\r\n       <use x=\"63.623047\" xlink:href=\"#DejaVuSans-52\"/>\r\n       <use x=\"127.246094\" xlink:href=\"#DejaVuSans-52\"/>\r\n      </g>\r\n     </g>\r\n    </g>\r\n    <g id=\"ytick_146\">\r\n     <g id=\"line2d_154\">\r\n      <g>\r\n       <use style=\"stroke:#000000;stroke-width:0.8;\" x=\"33.2875\" xlink:href=\"#m2a888fa1a6\" y=\"177.807257\"/>\r\n      </g>\r\n     </g>\r\n     <g id=\"text_154\">\r\n      <!-- 145 -->\r\n      <g transform=\"translate(7.2 181.606476)scale(0.1 -0.1)\">\r\n       <use xlink:href=\"#DejaVuSans-49\"/>\r\n       <use x=\"63.623047\" xlink:href=\"#DejaVuSans-52\"/>\r\n       <use x=\"127.246094\" xlink:href=\"#DejaVuSans-53\"/>\r\n      </g>\r\n     </g>\r\n    </g>\r\n    <g id=\"ytick_147\">\r\n     <g id=\"line2d_155\">\r\n      <g>\r\n       <use style=\"stroke:#000000;stroke-width:0.8;\" x=\"33.2875\" xlink:href=\"#m2a888fa1a6\" y=\"177.460463\"/>\r\n      </g>\r\n     </g>\r\n     <g id=\"text_155\">\r\n      <!-- 146 -->\r\n      <g transform=\"translate(7.2 181.259682)scale(0.1 -0.1)\">\r\n       <use xlink:href=\"#DejaVuSans-49\"/>\r\n       <use x=\"63.623047\" xlink:href=\"#DejaVuSans-52\"/>\r\n       <use x=\"127.246094\" xlink:href=\"#DejaVuSans-54\"/>\r\n      </g>\r\n     </g>\r\n    </g>\r\n    <g id=\"ytick_148\">\r\n     <g id=\"line2d_156\">\r\n      <g>\r\n       <use style=\"stroke:#000000;stroke-width:0.8;\" x=\"33.2875\" xlink:href=\"#m2a888fa1a6\" y=\"177.113669\"/>\r\n      </g>\r\n     </g>\r\n     <g id=\"text_156\">\r\n      <!-- 147 -->\r\n      <g transform=\"translate(7.2 180.912887)scale(0.1 -0.1)\">\r\n       <use xlink:href=\"#DejaVuSans-49\"/>\r\n       <use x=\"63.623047\" xlink:href=\"#DejaVuSans-52\"/>\r\n       <use x=\"127.246094\" xlink:href=\"#DejaVuSans-55\"/>\r\n      </g>\r\n     </g>\r\n    </g>\r\n    <g id=\"ytick_149\">\r\n     <g id=\"line2d_157\">\r\n      <g>\r\n       <use style=\"stroke:#000000;stroke-width:0.8;\" x=\"33.2875\" xlink:href=\"#m2a888fa1a6\" y=\"176.766874\"/>\r\n      </g>\r\n     </g>\r\n     <g id=\"text_157\">\r\n      <!-- 148 -->\r\n      <g transform=\"translate(7.2 180.566093)scale(0.1 -0.1)\">\r\n       <use xlink:href=\"#DejaVuSans-49\"/>\r\n       <use x=\"63.623047\" xlink:href=\"#DejaVuSans-52\"/>\r\n       <use x=\"127.246094\" xlink:href=\"#DejaVuSans-56\"/>\r\n      </g>\r\n     </g>\r\n    </g>\r\n    <g id=\"ytick_150\">\r\n     <g id=\"line2d_158\">\r\n      <g>\r\n       <use style=\"stroke:#000000;stroke-width:0.8;\" x=\"33.2875\" xlink:href=\"#m2a888fa1a6\" y=\"176.42008\"/>\r\n      </g>\r\n     </g>\r\n     <g id=\"text_158\">\r\n      <!-- 149 -->\r\n      <g transform=\"translate(7.2 180.219299)scale(0.1 -0.1)\">\r\n       <use xlink:href=\"#DejaVuSans-49\"/>\r\n       <use x=\"63.623047\" xlink:href=\"#DejaVuSans-52\"/>\r\n       <use x=\"127.246094\" xlink:href=\"#DejaVuSans-57\"/>\r\n      </g>\r\n     </g>\r\n    </g>\r\n    <g id=\"ytick_151\">\r\n     <g id=\"line2d_159\">\r\n      <g>\r\n       <use style=\"stroke:#000000;stroke-width:0.8;\" x=\"33.2875\" xlink:href=\"#m2a888fa1a6\" y=\"176.073286\"/>\r\n      </g>\r\n     </g>\r\n     <g id=\"text_159\">\r\n      <!-- 150 -->\r\n      <g transform=\"translate(7.2 179.872504)scale(0.1 -0.1)\">\r\n       <use xlink:href=\"#DejaVuSans-49\"/>\r\n       <use x=\"63.623047\" xlink:href=\"#DejaVuSans-53\"/>\r\n       <use x=\"127.246094\" xlink:href=\"#DejaVuSans-48\"/>\r\n      </g>\r\n     </g>\r\n    </g>\r\n    <g id=\"ytick_152\">\r\n     <g id=\"line2d_160\">\r\n      <g>\r\n       <use style=\"stroke:#000000;stroke-width:0.8;\" x=\"33.2875\" xlink:href=\"#m2a888fa1a6\" y=\"175.726491\"/>\r\n      </g>\r\n     </g>\r\n     <g id=\"text_160\">\r\n      <!-- 151 -->\r\n      <g transform=\"translate(7.2 179.52571)scale(0.1 -0.1)\">\r\n       <use xlink:href=\"#DejaVuSans-49\"/>\r\n       <use x=\"63.623047\" xlink:href=\"#DejaVuSans-53\"/>\r\n       <use x=\"127.246094\" xlink:href=\"#DejaVuSans-49\"/>\r\n      </g>\r\n     </g>\r\n    </g>\r\n    <g id=\"ytick_153\">\r\n     <g id=\"line2d_161\">\r\n      <g>\r\n       <use style=\"stroke:#000000;stroke-width:0.8;\" x=\"33.2875\" xlink:href=\"#m2a888fa1a6\" y=\"175.379697\"/>\r\n      </g>\r\n     </g>\r\n     <g id=\"text_161\">\r\n      <!-- 152 -->\r\n      <g transform=\"translate(7.2 179.178916)scale(0.1 -0.1)\">\r\n       <use xlink:href=\"#DejaVuSans-49\"/>\r\n       <use x=\"63.623047\" xlink:href=\"#DejaVuSans-53\"/>\r\n       <use x=\"127.246094\" xlink:href=\"#DejaVuSans-50\"/>\r\n      </g>\r\n     </g>\r\n    </g>\r\n    <g id=\"ytick_154\">\r\n     <g id=\"line2d_162\">\r\n      <g>\r\n       <use style=\"stroke:#000000;stroke-width:0.8;\" x=\"33.2875\" xlink:href=\"#m2a888fa1a6\" y=\"175.032903\"/>\r\n      </g>\r\n     </g>\r\n     <g id=\"text_162\">\r\n      <!-- 153 -->\r\n      <g transform=\"translate(7.2 178.832122)scale(0.1 -0.1)\">\r\n       <use xlink:href=\"#DejaVuSans-49\"/>\r\n       <use x=\"63.623047\" xlink:href=\"#DejaVuSans-53\"/>\r\n       <use x=\"127.246094\" xlink:href=\"#DejaVuSans-51\"/>\r\n      </g>\r\n     </g>\r\n    </g>\r\n    <g id=\"ytick_155\">\r\n     <g id=\"line2d_163\">\r\n      <g>\r\n       <use style=\"stroke:#000000;stroke-width:0.8;\" x=\"33.2875\" xlink:href=\"#m2a888fa1a6\" y=\"174.686109\"/>\r\n      </g>\r\n     </g>\r\n     <g id=\"text_163\">\r\n      <!-- 154 -->\r\n      <g transform=\"translate(7.2 178.485327)scale(0.1 -0.1)\">\r\n       <use xlink:href=\"#DejaVuSans-49\"/>\r\n       <use x=\"63.623047\" xlink:href=\"#DejaVuSans-53\"/>\r\n       <use x=\"127.246094\" xlink:href=\"#DejaVuSans-52\"/>\r\n      </g>\r\n     </g>\r\n    </g>\r\n    <g id=\"ytick_156\">\r\n     <g id=\"line2d_164\">\r\n      <g>\r\n       <use style=\"stroke:#000000;stroke-width:0.8;\" x=\"33.2875\" xlink:href=\"#m2a888fa1a6\" y=\"174.339314\"/>\r\n      </g>\r\n     </g>\r\n     <g id=\"text_164\">\r\n      <!-- 155 -->\r\n      <g transform=\"translate(7.2 178.138533)scale(0.1 -0.1)\">\r\n       <use xlink:href=\"#DejaVuSans-49\"/>\r\n       <use x=\"63.623047\" xlink:href=\"#DejaVuSans-53\"/>\r\n       <use x=\"127.246094\" xlink:href=\"#DejaVuSans-53\"/>\r\n      </g>\r\n     </g>\r\n    </g>\r\n    <g id=\"ytick_157\">\r\n     <g id=\"line2d_165\">\r\n      <g>\r\n       <use style=\"stroke:#000000;stroke-width:0.8;\" x=\"33.2875\" xlink:href=\"#m2a888fa1a6\" y=\"173.99252\"/>\r\n      </g>\r\n     </g>\r\n     <g id=\"text_165\">\r\n      <!-- 156 -->\r\n      <g transform=\"translate(7.2 177.791739)scale(0.1 -0.1)\">\r\n       <use xlink:href=\"#DejaVuSans-49\"/>\r\n       <use x=\"63.623047\" xlink:href=\"#DejaVuSans-53\"/>\r\n       <use x=\"127.246094\" xlink:href=\"#DejaVuSans-54\"/>\r\n      </g>\r\n     </g>\r\n    </g>\r\n    <g id=\"ytick_158\">\r\n     <g id=\"line2d_166\">\r\n      <g>\r\n       <use style=\"stroke:#000000;stroke-width:0.8;\" x=\"33.2875\" xlink:href=\"#m2a888fa1a6\" y=\"173.645726\"/>\r\n      </g>\r\n     </g>\r\n     <g id=\"text_166\">\r\n      <!-- 157 -->\r\n      <g transform=\"translate(7.2 177.444945)scale(0.1 -0.1)\">\r\n       <use xlink:href=\"#DejaVuSans-49\"/>\r\n       <use x=\"63.623047\" xlink:href=\"#DejaVuSans-53\"/>\r\n       <use x=\"127.246094\" xlink:href=\"#DejaVuSans-55\"/>\r\n      </g>\r\n     </g>\r\n    </g>\r\n    <g id=\"ytick_159\">\r\n     <g id=\"line2d_167\">\r\n      <g>\r\n       <use style=\"stroke:#000000;stroke-width:0.8;\" x=\"33.2875\" xlink:href=\"#m2a888fa1a6\" y=\"173.298932\"/>\r\n      </g>\r\n     </g>\r\n     <g id=\"text_167\">\r\n      <!-- 158 -->\r\n      <g transform=\"translate(7.2 177.09815)scale(0.1 -0.1)\">\r\n       <use xlink:href=\"#DejaVuSans-49\"/>\r\n       <use x=\"63.623047\" xlink:href=\"#DejaVuSans-53\"/>\r\n       <use x=\"127.246094\" xlink:href=\"#DejaVuSans-56\"/>\r\n      </g>\r\n     </g>\r\n    </g>\r\n    <g id=\"ytick_160\">\r\n     <g id=\"line2d_168\">\r\n      <g>\r\n       <use style=\"stroke:#000000;stroke-width:0.8;\" x=\"33.2875\" xlink:href=\"#m2a888fa1a6\" y=\"172.952137\"/>\r\n      </g>\r\n     </g>\r\n     <g id=\"text_168\">\r\n      <!-- 159 -->\r\n      <g transform=\"translate(7.2 176.751356)scale(0.1 -0.1)\">\r\n       <use xlink:href=\"#DejaVuSans-49\"/>\r\n       <use x=\"63.623047\" xlink:href=\"#DejaVuSans-53\"/>\r\n       <use x=\"127.246094\" xlink:href=\"#DejaVuSans-57\"/>\r\n      </g>\r\n     </g>\r\n    </g>\r\n    <g id=\"ytick_161\">\r\n     <g id=\"line2d_169\">\r\n      <g>\r\n       <use style=\"stroke:#000000;stroke-width:0.8;\" x=\"33.2875\" xlink:href=\"#m2a888fa1a6\" y=\"172.605343\"/>\r\n      </g>\r\n     </g>\r\n     <g id=\"text_169\">\r\n      <!-- 160 -->\r\n      <g transform=\"translate(7.2 176.404562)scale(0.1 -0.1)\">\r\n       <use xlink:href=\"#DejaVuSans-49\"/>\r\n       <use x=\"63.623047\" xlink:href=\"#DejaVuSans-54\"/>\r\n       <use x=\"127.246094\" xlink:href=\"#DejaVuSans-48\"/>\r\n      </g>\r\n     </g>\r\n    </g>\r\n    <g id=\"ytick_162\">\r\n     <g id=\"line2d_170\">\r\n      <g>\r\n       <use style=\"stroke:#000000;stroke-width:0.8;\" x=\"33.2875\" xlink:href=\"#m2a888fa1a6\" y=\"172.258549\"/>\r\n      </g>\r\n     </g>\r\n     <g id=\"text_170\">\r\n      <!-- 161 -->\r\n      <g transform=\"translate(7.2 176.057768)scale(0.1 -0.1)\">\r\n       <use xlink:href=\"#DejaVuSans-49\"/>\r\n       <use x=\"63.623047\" xlink:href=\"#DejaVuSans-54\"/>\r\n       <use x=\"127.246094\" xlink:href=\"#DejaVuSans-49\"/>\r\n      </g>\r\n     </g>\r\n    </g>\r\n    <g id=\"ytick_163\">\r\n     <g id=\"line2d_171\">\r\n      <g>\r\n       <use style=\"stroke:#000000;stroke-width:0.8;\" x=\"33.2875\" xlink:href=\"#m2a888fa1a6\" y=\"171.911755\"/>\r\n      </g>\r\n     </g>\r\n     <g id=\"text_171\">\r\n      <!-- 162 -->\r\n      <g transform=\"translate(7.2 175.710973)scale(0.1 -0.1)\">\r\n       <use xlink:href=\"#DejaVuSans-49\"/>\r\n       <use x=\"63.623047\" xlink:href=\"#DejaVuSans-54\"/>\r\n       <use x=\"127.246094\" xlink:href=\"#DejaVuSans-50\"/>\r\n      </g>\r\n     </g>\r\n    </g>\r\n    <g id=\"ytick_164\">\r\n     <g id=\"line2d_172\">\r\n      <g>\r\n       <use style=\"stroke:#000000;stroke-width:0.8;\" x=\"33.2875\" xlink:href=\"#m2a888fa1a6\" y=\"171.56496\"/>\r\n      </g>\r\n     </g>\r\n     <g id=\"text_172\">\r\n      <!-- 163 -->\r\n      <g transform=\"translate(7.2 175.364179)scale(0.1 -0.1)\">\r\n       <use xlink:href=\"#DejaVuSans-49\"/>\r\n       <use x=\"63.623047\" xlink:href=\"#DejaVuSans-54\"/>\r\n       <use x=\"127.246094\" xlink:href=\"#DejaVuSans-51\"/>\r\n      </g>\r\n     </g>\r\n    </g>\r\n    <g id=\"ytick_165\">\r\n     <g id=\"line2d_173\">\r\n      <g>\r\n       <use style=\"stroke:#000000;stroke-width:0.8;\" x=\"33.2875\" xlink:href=\"#m2a888fa1a6\" y=\"171.218166\"/>\r\n      </g>\r\n     </g>\r\n     <g id=\"text_173\">\r\n      <!-- 164 -->\r\n      <g transform=\"translate(7.2 175.017385)scale(0.1 -0.1)\">\r\n       <use xlink:href=\"#DejaVuSans-49\"/>\r\n       <use x=\"63.623047\" xlink:href=\"#DejaVuSans-54\"/>\r\n       <use x=\"127.246094\" xlink:href=\"#DejaVuSans-52\"/>\r\n      </g>\r\n     </g>\r\n    </g>\r\n    <g id=\"ytick_166\">\r\n     <g id=\"line2d_174\">\r\n      <g>\r\n       <use style=\"stroke:#000000;stroke-width:0.8;\" x=\"33.2875\" xlink:href=\"#m2a888fa1a6\" y=\"170.871372\"/>\r\n      </g>\r\n     </g>\r\n     <g id=\"text_174\">\r\n      <!-- 165 -->\r\n      <g transform=\"translate(7.2 174.670591)scale(0.1 -0.1)\">\r\n       <use xlink:href=\"#DejaVuSans-49\"/>\r\n       <use x=\"63.623047\" xlink:href=\"#DejaVuSans-54\"/>\r\n       <use x=\"127.246094\" xlink:href=\"#DejaVuSans-53\"/>\r\n      </g>\r\n     </g>\r\n    </g>\r\n    <g id=\"ytick_167\">\r\n     <g id=\"line2d_175\">\r\n      <g>\r\n       <use style=\"stroke:#000000;stroke-width:0.8;\" x=\"33.2875\" xlink:href=\"#m2a888fa1a6\" y=\"170.524578\"/>\r\n      </g>\r\n     </g>\r\n     <g id=\"text_175\">\r\n      <!-- 166 -->\r\n      <g transform=\"translate(7.2 174.323796)scale(0.1 -0.1)\">\r\n       <use xlink:href=\"#DejaVuSans-49\"/>\r\n       <use x=\"63.623047\" xlink:href=\"#DejaVuSans-54\"/>\r\n       <use x=\"127.246094\" xlink:href=\"#DejaVuSans-54\"/>\r\n      </g>\r\n     </g>\r\n    </g>\r\n    <g id=\"ytick_168\">\r\n     <g id=\"line2d_176\">\r\n      <g>\r\n       <use style=\"stroke:#000000;stroke-width:0.8;\" x=\"33.2875\" xlink:href=\"#m2a888fa1a6\" y=\"170.177783\"/>\r\n      </g>\r\n     </g>\r\n     <g id=\"text_176\">\r\n      <!-- 167 -->\r\n      <g transform=\"translate(7.2 173.977002)scale(0.1 -0.1)\">\r\n       <use xlink:href=\"#DejaVuSans-49\"/>\r\n       <use x=\"63.623047\" xlink:href=\"#DejaVuSans-54\"/>\r\n       <use x=\"127.246094\" xlink:href=\"#DejaVuSans-55\"/>\r\n      </g>\r\n     </g>\r\n    </g>\r\n    <g id=\"ytick_169\">\r\n     <g id=\"line2d_177\">\r\n      <g>\r\n       <use style=\"stroke:#000000;stroke-width:0.8;\" x=\"33.2875\" xlink:href=\"#m2a888fa1a6\" y=\"169.830989\"/>\r\n      </g>\r\n     </g>\r\n     <g id=\"text_177\">\r\n      <!-- 168 -->\r\n      <g transform=\"translate(7.2 173.630208)scale(0.1 -0.1)\">\r\n       <use xlink:href=\"#DejaVuSans-49\"/>\r\n       <use x=\"63.623047\" xlink:href=\"#DejaVuSans-54\"/>\r\n       <use x=\"127.246094\" xlink:href=\"#DejaVuSans-56\"/>\r\n      </g>\r\n     </g>\r\n    </g>\r\n    <g id=\"ytick_170\">\r\n     <g id=\"line2d_178\">\r\n      <g>\r\n       <use style=\"stroke:#000000;stroke-width:0.8;\" x=\"33.2875\" xlink:href=\"#m2a888fa1a6\" y=\"169.484195\"/>\r\n      </g>\r\n     </g>\r\n     <g id=\"text_178\">\r\n      <!-- 169 -->\r\n      <g transform=\"translate(7.2 173.283414)scale(0.1 -0.1)\">\r\n       <use xlink:href=\"#DejaVuSans-49\"/>\r\n       <use x=\"63.623047\" xlink:href=\"#DejaVuSans-54\"/>\r\n       <use x=\"127.246094\" xlink:href=\"#DejaVuSans-57\"/>\r\n      </g>\r\n     </g>\r\n    </g>\r\n    <g id=\"ytick_171\">\r\n     <g id=\"line2d_179\">\r\n      <g>\r\n       <use style=\"stroke:#000000;stroke-width:0.8;\" x=\"33.2875\" xlink:href=\"#m2a888fa1a6\" y=\"169.137401\"/>\r\n      </g>\r\n     </g>\r\n     <g id=\"text_179\">\r\n      <!-- 170 -->\r\n      <g transform=\"translate(7.2 172.936619)scale(0.1 -0.1)\">\r\n       <use xlink:href=\"#DejaVuSans-49\"/>\r\n       <use x=\"63.623047\" xlink:href=\"#DejaVuSans-55\"/>\r\n       <use x=\"127.246094\" xlink:href=\"#DejaVuSans-48\"/>\r\n      </g>\r\n     </g>\r\n    </g>\r\n    <g id=\"ytick_172\">\r\n     <g id=\"line2d_180\">\r\n      <g>\r\n       <use style=\"stroke:#000000;stroke-width:0.8;\" x=\"33.2875\" xlink:href=\"#m2a888fa1a6\" y=\"168.790606\"/>\r\n      </g>\r\n     </g>\r\n     <g id=\"text_180\">\r\n      <!-- 171 -->\r\n      <g transform=\"translate(7.2 172.589825)scale(0.1 -0.1)\">\r\n       <use xlink:href=\"#DejaVuSans-49\"/>\r\n       <use x=\"63.623047\" xlink:href=\"#DejaVuSans-55\"/>\r\n       <use x=\"127.246094\" xlink:href=\"#DejaVuSans-49\"/>\r\n      </g>\r\n     </g>\r\n    </g>\r\n    <g id=\"ytick_173\">\r\n     <g id=\"line2d_181\">\r\n      <g>\r\n       <use style=\"stroke:#000000;stroke-width:0.8;\" x=\"33.2875\" xlink:href=\"#m2a888fa1a6\" y=\"168.443812\"/>\r\n      </g>\r\n     </g>\r\n     <g id=\"text_181\">\r\n      <!-- 172 -->\r\n      <g transform=\"translate(7.2 172.243031)scale(0.1 -0.1)\">\r\n       <use xlink:href=\"#DejaVuSans-49\"/>\r\n       <use x=\"63.623047\" xlink:href=\"#DejaVuSans-55\"/>\r\n       <use x=\"127.246094\" xlink:href=\"#DejaVuSans-50\"/>\r\n      </g>\r\n     </g>\r\n    </g>\r\n    <g id=\"ytick_174\">\r\n     <g id=\"line2d_182\">\r\n      <g>\r\n       <use style=\"stroke:#000000;stroke-width:0.8;\" x=\"33.2875\" xlink:href=\"#m2a888fa1a6\" y=\"168.097018\"/>\r\n      </g>\r\n     </g>\r\n     <g id=\"text_182\">\r\n      <!-- 173 -->\r\n      <g transform=\"translate(7.2 171.896237)scale(0.1 -0.1)\">\r\n       <use xlink:href=\"#DejaVuSans-49\"/>\r\n       <use x=\"63.623047\" xlink:href=\"#DejaVuSans-55\"/>\r\n       <use x=\"127.246094\" xlink:href=\"#DejaVuSans-51\"/>\r\n      </g>\r\n     </g>\r\n    </g>\r\n    <g id=\"ytick_175\">\r\n     <g id=\"line2d_183\">\r\n      <g>\r\n       <use style=\"stroke:#000000;stroke-width:0.8;\" x=\"33.2875\" xlink:href=\"#m2a888fa1a6\" y=\"167.750224\"/>\r\n      </g>\r\n     </g>\r\n     <g id=\"text_183\">\r\n      <!-- 174 -->\r\n      <g transform=\"translate(7.2 171.549442)scale(0.1 -0.1)\">\r\n       <use xlink:href=\"#DejaVuSans-49\"/>\r\n       <use x=\"63.623047\" xlink:href=\"#DejaVuSans-55\"/>\r\n       <use x=\"127.246094\" xlink:href=\"#DejaVuSans-52\"/>\r\n      </g>\r\n     </g>\r\n    </g>\r\n    <g id=\"ytick_176\">\r\n     <g id=\"line2d_184\">\r\n      <g>\r\n       <use style=\"stroke:#000000;stroke-width:0.8;\" x=\"33.2875\" xlink:href=\"#m2a888fa1a6\" y=\"167.403429\"/>\r\n      </g>\r\n     </g>\r\n     <g id=\"text_184\">\r\n      <!-- 175 -->\r\n      <g transform=\"translate(7.2 171.202648)scale(0.1 -0.1)\">\r\n       <use xlink:href=\"#DejaVuSans-49\"/>\r\n       <use x=\"63.623047\" xlink:href=\"#DejaVuSans-55\"/>\r\n       <use x=\"127.246094\" xlink:href=\"#DejaVuSans-53\"/>\r\n      </g>\r\n     </g>\r\n    </g>\r\n    <g id=\"ytick_177\">\r\n     <g id=\"line2d_185\">\r\n      <g>\r\n       <use style=\"stroke:#000000;stroke-width:0.8;\" x=\"33.2875\" xlink:href=\"#m2a888fa1a6\" y=\"167.056635\"/>\r\n      </g>\r\n     </g>\r\n     <g id=\"text_185\">\r\n      <!-- 176 -->\r\n      <g transform=\"translate(7.2 170.855854)scale(0.1 -0.1)\">\r\n       <use xlink:href=\"#DejaVuSans-49\"/>\r\n       <use x=\"63.623047\" xlink:href=\"#DejaVuSans-55\"/>\r\n       <use x=\"127.246094\" xlink:href=\"#DejaVuSans-54\"/>\r\n      </g>\r\n     </g>\r\n    </g>\r\n    <g id=\"ytick_178\">\r\n     <g id=\"line2d_186\">\r\n      <g>\r\n       <use style=\"stroke:#000000;stroke-width:0.8;\" x=\"33.2875\" xlink:href=\"#m2a888fa1a6\" y=\"166.709841\"/>\r\n      </g>\r\n     </g>\r\n     <g id=\"text_186\">\r\n      <!-- 177 -->\r\n      <g transform=\"translate(7.2 170.50906)scale(0.1 -0.1)\">\r\n       <use xlink:href=\"#DejaVuSans-49\"/>\r\n       <use x=\"63.623047\" xlink:href=\"#DejaVuSans-55\"/>\r\n       <use x=\"127.246094\" xlink:href=\"#DejaVuSans-55\"/>\r\n      </g>\r\n     </g>\r\n    </g>\r\n    <g id=\"ytick_179\">\r\n     <g id=\"line2d_187\">\r\n      <g>\r\n       <use style=\"stroke:#000000;stroke-width:0.8;\" x=\"33.2875\" xlink:href=\"#m2a888fa1a6\" y=\"166.363047\"/>\r\n      </g>\r\n     </g>\r\n     <g id=\"text_187\">\r\n      <!-- 178 -->\r\n      <g transform=\"translate(7.2 170.162265)scale(0.1 -0.1)\">\r\n       <use xlink:href=\"#DejaVuSans-49\"/>\r\n       <use x=\"63.623047\" xlink:href=\"#DejaVuSans-55\"/>\r\n       <use x=\"127.246094\" xlink:href=\"#DejaVuSans-56\"/>\r\n      </g>\r\n     </g>\r\n    </g>\r\n    <g id=\"ytick_180\">\r\n     <g id=\"line2d_188\">\r\n      <g>\r\n       <use style=\"stroke:#000000;stroke-width:0.8;\" x=\"33.2875\" xlink:href=\"#m2a888fa1a6\" y=\"166.016252\"/>\r\n      </g>\r\n     </g>\r\n     <g id=\"text_188\">\r\n      <!-- 179 -->\r\n      <g transform=\"translate(7.2 169.815471)scale(0.1 -0.1)\">\r\n       <use xlink:href=\"#DejaVuSans-49\"/>\r\n       <use x=\"63.623047\" xlink:href=\"#DejaVuSans-55\"/>\r\n       <use x=\"127.246094\" xlink:href=\"#DejaVuSans-57\"/>\r\n      </g>\r\n     </g>\r\n    </g>\r\n    <g id=\"ytick_181\">\r\n     <g id=\"line2d_189\">\r\n      <g>\r\n       <use style=\"stroke:#000000;stroke-width:0.8;\" x=\"33.2875\" xlink:href=\"#m2a888fa1a6\" y=\"165.669458\"/>\r\n      </g>\r\n     </g>\r\n     <g id=\"text_189\">\r\n      <!-- 180 -->\r\n      <g transform=\"translate(7.2 169.468677)scale(0.1 -0.1)\">\r\n       <use xlink:href=\"#DejaVuSans-49\"/>\r\n       <use x=\"63.623047\" xlink:href=\"#DejaVuSans-56\"/>\r\n       <use x=\"127.246094\" xlink:href=\"#DejaVuSans-48\"/>\r\n      </g>\r\n     </g>\r\n    </g>\r\n    <g id=\"ytick_182\">\r\n     <g id=\"line2d_190\">\r\n      <g>\r\n       <use style=\"stroke:#000000;stroke-width:0.8;\" x=\"33.2875\" xlink:href=\"#m2a888fa1a6\" y=\"165.322664\"/>\r\n      </g>\r\n     </g>\r\n     <g id=\"text_190\">\r\n      <!-- 181 -->\r\n      <g transform=\"translate(7.2 169.121882)scale(0.1 -0.1)\">\r\n       <use xlink:href=\"#DejaVuSans-49\"/>\r\n       <use x=\"63.623047\" xlink:href=\"#DejaVuSans-56\"/>\r\n       <use x=\"127.246094\" xlink:href=\"#DejaVuSans-49\"/>\r\n      </g>\r\n     </g>\r\n    </g>\r\n    <g id=\"ytick_183\">\r\n     <g id=\"line2d_191\">\r\n      <g>\r\n       <use style=\"stroke:#000000;stroke-width:0.8;\" x=\"33.2875\" xlink:href=\"#m2a888fa1a6\" y=\"164.975869\"/>\r\n      </g>\r\n     </g>\r\n     <g id=\"text_191\">\r\n      <!-- 182 -->\r\n      <g transform=\"translate(7.2 168.775088)scale(0.1 -0.1)\">\r\n       <use xlink:href=\"#DejaVuSans-49\"/>\r\n       <use x=\"63.623047\" xlink:href=\"#DejaVuSans-56\"/>\r\n       <use x=\"127.246094\" xlink:href=\"#DejaVuSans-50\"/>\r\n      </g>\r\n     </g>\r\n    </g>\r\n    <g id=\"ytick_184\">\r\n     <g id=\"line2d_192\">\r\n      <g>\r\n       <use style=\"stroke:#000000;stroke-width:0.8;\" x=\"33.2875\" xlink:href=\"#m2a888fa1a6\" y=\"164.629075\"/>\r\n      </g>\r\n     </g>\r\n     <g id=\"text_192\">\r\n      <!-- 183 -->\r\n      <g transform=\"translate(7.2 168.428294)scale(0.1 -0.1)\">\r\n       <use xlink:href=\"#DejaVuSans-49\"/>\r\n       <use x=\"63.623047\" xlink:href=\"#DejaVuSans-56\"/>\r\n       <use x=\"127.246094\" xlink:href=\"#DejaVuSans-51\"/>\r\n      </g>\r\n     </g>\r\n    </g>\r\n    <g id=\"ytick_185\">\r\n     <g id=\"line2d_193\">\r\n      <g>\r\n       <use style=\"stroke:#000000;stroke-width:0.8;\" x=\"33.2875\" xlink:href=\"#m2a888fa1a6\" y=\"164.282281\"/>\r\n      </g>\r\n     </g>\r\n     <g id=\"text_193\">\r\n      <!-- 184 -->\r\n      <g transform=\"translate(7.2 168.0815)scale(0.1 -0.1)\">\r\n       <use xlink:href=\"#DejaVuSans-49\"/>\r\n       <use x=\"63.623047\" xlink:href=\"#DejaVuSans-56\"/>\r\n       <use x=\"127.246094\" xlink:href=\"#DejaVuSans-52\"/>\r\n      </g>\r\n     </g>\r\n    </g>\r\n    <g id=\"ytick_186\">\r\n     <g id=\"line2d_194\">\r\n      <g>\r\n       <use style=\"stroke:#000000;stroke-width:0.8;\" x=\"33.2875\" xlink:href=\"#m2a888fa1a6\" y=\"163.935487\"/>\r\n      </g>\r\n     </g>\r\n     <g id=\"text_194\">\r\n      <!-- 185 -->\r\n      <g transform=\"translate(7.2 167.734705)scale(0.1 -0.1)\">\r\n       <use xlink:href=\"#DejaVuSans-49\"/>\r\n       <use x=\"63.623047\" xlink:href=\"#DejaVuSans-56\"/>\r\n       <use x=\"127.246094\" xlink:href=\"#DejaVuSans-53\"/>\r\n      </g>\r\n     </g>\r\n    </g>\r\n    <g id=\"ytick_187\">\r\n     <g id=\"line2d_195\">\r\n      <g>\r\n       <use style=\"stroke:#000000;stroke-width:0.8;\" x=\"33.2875\" xlink:href=\"#m2a888fa1a6\" y=\"163.588692\"/>\r\n      </g>\r\n     </g>\r\n     <g id=\"text_195\">\r\n      <!-- 186 -->\r\n      <g transform=\"translate(7.2 167.387911)scale(0.1 -0.1)\">\r\n       <use xlink:href=\"#DejaVuSans-49\"/>\r\n       <use x=\"63.623047\" xlink:href=\"#DejaVuSans-56\"/>\r\n       <use x=\"127.246094\" xlink:href=\"#DejaVuSans-54\"/>\r\n      </g>\r\n     </g>\r\n    </g>\r\n    <g id=\"ytick_188\">\r\n     <g id=\"line2d_196\">\r\n      <g>\r\n       <use style=\"stroke:#000000;stroke-width:0.8;\" x=\"33.2875\" xlink:href=\"#m2a888fa1a6\" y=\"163.241898\"/>\r\n      </g>\r\n     </g>\r\n     <g id=\"text_196\">\r\n      <!-- 187 -->\r\n      <g transform=\"translate(7.2 167.041117)scale(0.1 -0.1)\">\r\n       <use xlink:href=\"#DejaVuSans-49\"/>\r\n       <use x=\"63.623047\" xlink:href=\"#DejaVuSans-56\"/>\r\n       <use x=\"127.246094\" xlink:href=\"#DejaVuSans-55\"/>\r\n      </g>\r\n     </g>\r\n    </g>\r\n    <g id=\"ytick_189\">\r\n     <g id=\"line2d_197\">\r\n      <g>\r\n       <use style=\"stroke:#000000;stroke-width:0.8;\" x=\"33.2875\" xlink:href=\"#m2a888fa1a6\" y=\"162.895104\"/>\r\n      </g>\r\n     </g>\r\n     <g id=\"text_197\">\r\n      <!-- 188 -->\r\n      <g transform=\"translate(7.2 166.694323)scale(0.1 -0.1)\">\r\n       <use xlink:href=\"#DejaVuSans-49\"/>\r\n       <use x=\"63.623047\" xlink:href=\"#DejaVuSans-56\"/>\r\n       <use x=\"127.246094\" xlink:href=\"#DejaVuSans-56\"/>\r\n      </g>\r\n     </g>\r\n    </g>\r\n    <g id=\"ytick_190\">\r\n     <g id=\"line2d_198\">\r\n      <g>\r\n       <use style=\"stroke:#000000;stroke-width:0.8;\" x=\"33.2875\" xlink:href=\"#m2a888fa1a6\" y=\"162.54831\"/>\r\n      </g>\r\n     </g>\r\n     <g id=\"text_198\">\r\n      <!-- 189 -->\r\n      <g transform=\"translate(7.2 166.347528)scale(0.1 -0.1)\">\r\n       <use xlink:href=\"#DejaVuSans-49\"/>\r\n       <use x=\"63.623047\" xlink:href=\"#DejaVuSans-56\"/>\r\n       <use x=\"127.246094\" xlink:href=\"#DejaVuSans-57\"/>\r\n      </g>\r\n     </g>\r\n    </g>\r\n    <g id=\"ytick_191\">\r\n     <g id=\"line2d_199\">\r\n      <g>\r\n       <use style=\"stroke:#000000;stroke-width:0.8;\" x=\"33.2875\" xlink:href=\"#m2a888fa1a6\" y=\"162.201515\"/>\r\n      </g>\r\n     </g>\r\n     <g id=\"text_199\">\r\n      <!-- 190 -->\r\n      <g transform=\"translate(7.2 166.000734)scale(0.1 -0.1)\">\r\n       <use xlink:href=\"#DejaVuSans-49\"/>\r\n       <use x=\"63.623047\" xlink:href=\"#DejaVuSans-57\"/>\r\n       <use x=\"127.246094\" xlink:href=\"#DejaVuSans-48\"/>\r\n      </g>\r\n     </g>\r\n    </g>\r\n    <g id=\"ytick_192\">\r\n     <g id=\"line2d_200\">\r\n      <g>\r\n       <use style=\"stroke:#000000;stroke-width:0.8;\" x=\"33.2875\" xlink:href=\"#m2a888fa1a6\" y=\"161.854721\"/>\r\n      </g>\r\n     </g>\r\n     <g id=\"text_200\">\r\n      <!-- 191 -->\r\n      <g transform=\"translate(7.2 165.65394)scale(0.1 -0.1)\">\r\n       <use xlink:href=\"#DejaVuSans-49\"/>\r\n       <use x=\"63.623047\" xlink:href=\"#DejaVuSans-57\"/>\r\n       <use x=\"127.246094\" xlink:href=\"#DejaVuSans-49\"/>\r\n      </g>\r\n     </g>\r\n    </g>\r\n    <g id=\"ytick_193\">\r\n     <g id=\"line2d_201\">\r\n      <g>\r\n       <use style=\"stroke:#000000;stroke-width:0.8;\" x=\"33.2875\" xlink:href=\"#m2a888fa1a6\" y=\"161.507927\"/>\r\n      </g>\r\n     </g>\r\n     <g id=\"text_201\">\r\n      <!-- 192 -->\r\n      <g transform=\"translate(7.2 165.307146)scale(0.1 -0.1)\">\r\n       <use xlink:href=\"#DejaVuSans-49\"/>\r\n       <use x=\"63.623047\" xlink:href=\"#DejaVuSans-57\"/>\r\n       <use x=\"127.246094\" xlink:href=\"#DejaVuSans-50\"/>\r\n      </g>\r\n     </g>\r\n    </g>\r\n    <g id=\"ytick_194\">\r\n     <g id=\"line2d_202\">\r\n      <g>\r\n       <use style=\"stroke:#000000;stroke-width:0.8;\" x=\"33.2875\" xlink:href=\"#m2a888fa1a6\" y=\"161.161133\"/>\r\n      </g>\r\n     </g>\r\n     <g id=\"text_202\">\r\n      <!-- 193 -->\r\n      <g transform=\"translate(7.2 164.960351)scale(0.1 -0.1)\">\r\n       <use xlink:href=\"#DejaVuSans-49\"/>\r\n       <use x=\"63.623047\" xlink:href=\"#DejaVuSans-57\"/>\r\n       <use x=\"127.246094\" xlink:href=\"#DejaVuSans-51\"/>\r\n      </g>\r\n     </g>\r\n    </g>\r\n    <g id=\"ytick_195\">\r\n     <g id=\"line2d_203\">\r\n      <g>\r\n       <use style=\"stroke:#000000;stroke-width:0.8;\" x=\"33.2875\" xlink:href=\"#m2a888fa1a6\" y=\"160.814338\"/>\r\n      </g>\r\n     </g>\r\n     <g id=\"text_203\">\r\n      <!-- 194 -->\r\n      <g transform=\"translate(7.2 164.613557)scale(0.1 -0.1)\">\r\n       <use xlink:href=\"#DejaVuSans-49\"/>\r\n       <use x=\"63.623047\" xlink:href=\"#DejaVuSans-57\"/>\r\n       <use x=\"127.246094\" xlink:href=\"#DejaVuSans-52\"/>\r\n      </g>\r\n     </g>\r\n    </g>\r\n    <g id=\"ytick_196\">\r\n     <g id=\"line2d_204\">\r\n      <g>\r\n       <use style=\"stroke:#000000;stroke-width:0.8;\" x=\"33.2875\" xlink:href=\"#m2a888fa1a6\" y=\"160.467544\"/>\r\n      </g>\r\n     </g>\r\n     <g id=\"text_204\">\r\n      <!-- 195 -->\r\n      <g transform=\"translate(7.2 164.266763)scale(0.1 -0.1)\">\r\n       <use xlink:href=\"#DejaVuSans-49\"/>\r\n       <use x=\"63.623047\" xlink:href=\"#DejaVuSans-57\"/>\r\n       <use x=\"127.246094\" xlink:href=\"#DejaVuSans-53\"/>\r\n      </g>\r\n     </g>\r\n    </g>\r\n    <g id=\"ytick_197\">\r\n     <g id=\"line2d_205\">\r\n      <g>\r\n       <use style=\"stroke:#000000;stroke-width:0.8;\" x=\"33.2875\" xlink:href=\"#m2a888fa1a6\" y=\"160.12075\"/>\r\n      </g>\r\n     </g>\r\n     <g id=\"text_205\">\r\n      <!-- 196 -->\r\n      <g transform=\"translate(7.2 163.919969)scale(0.1 -0.1)\">\r\n       <use xlink:href=\"#DejaVuSans-49\"/>\r\n       <use x=\"63.623047\" xlink:href=\"#DejaVuSans-57\"/>\r\n       <use x=\"127.246094\" xlink:href=\"#DejaVuSans-54\"/>\r\n      </g>\r\n     </g>\r\n    </g>\r\n    <g id=\"ytick_198\">\r\n     <g id=\"line2d_206\">\r\n      <g>\r\n       <use style=\"stroke:#000000;stroke-width:0.8;\" x=\"33.2875\" xlink:href=\"#m2a888fa1a6\" y=\"159.773956\"/>\r\n      </g>\r\n     </g>\r\n     <g id=\"text_206\">\r\n      <!-- 197 -->\r\n      <g transform=\"translate(7.2 163.573174)scale(0.1 -0.1)\">\r\n       <use xlink:href=\"#DejaVuSans-49\"/>\r\n       <use x=\"63.623047\" xlink:href=\"#DejaVuSans-57\"/>\r\n       <use x=\"127.246094\" xlink:href=\"#DejaVuSans-55\"/>\r\n      </g>\r\n     </g>\r\n    </g>\r\n    <g id=\"ytick_199\">\r\n     <g id=\"line2d_207\">\r\n      <g>\r\n       <use style=\"stroke:#000000;stroke-width:0.8;\" x=\"33.2875\" xlink:href=\"#m2a888fa1a6\" y=\"159.427161\"/>\r\n      </g>\r\n     </g>\r\n     <g id=\"text_207\">\r\n      <!-- 198 -->\r\n      <g transform=\"translate(7.2 163.22638)scale(0.1 -0.1)\">\r\n       <use xlink:href=\"#DejaVuSans-49\"/>\r\n       <use x=\"63.623047\" xlink:href=\"#DejaVuSans-57\"/>\r\n       <use x=\"127.246094\" xlink:href=\"#DejaVuSans-56\"/>\r\n      </g>\r\n     </g>\r\n    </g>\r\n    <g id=\"ytick_200\">\r\n     <g id=\"line2d_208\">\r\n      <g>\r\n       <use style=\"stroke:#000000;stroke-width:0.8;\" x=\"33.2875\" xlink:href=\"#m2a888fa1a6\" y=\"159.080367\"/>\r\n      </g>\r\n     </g>\r\n     <g id=\"text_208\">\r\n      <!-- 199 -->\r\n      <g transform=\"translate(7.2 162.879586)scale(0.1 -0.1)\">\r\n       <use xlink:href=\"#DejaVuSans-49\"/>\r\n       <use x=\"63.623047\" xlink:href=\"#DejaVuSans-57\"/>\r\n       <use x=\"127.246094\" xlink:href=\"#DejaVuSans-57\"/>\r\n      </g>\r\n     </g>\r\n    </g>\r\n    <g id=\"ytick_201\">\r\n     <g id=\"line2d_209\">\r\n      <g>\r\n       <use style=\"stroke:#000000;stroke-width:0.8;\" x=\"33.2875\" xlink:href=\"#m2a888fa1a6\" y=\"158.733573\"/>\r\n      </g>\r\n     </g>\r\n     <g id=\"text_209\">\r\n      <!-- 200 -->\r\n      <g transform=\"translate(7.2 162.532792)scale(0.1 -0.1)\">\r\n       <use xlink:href=\"#DejaVuSans-50\"/>\r\n       <use x=\"63.623047\" xlink:href=\"#DejaVuSans-48\"/>\r\n       <use x=\"127.246094\" xlink:href=\"#DejaVuSans-48\"/>\r\n      </g>\r\n     </g>\r\n    </g>\r\n    <g id=\"ytick_202\">\r\n     <g id=\"line2d_210\">\r\n      <g>\r\n       <use style=\"stroke:#000000;stroke-width:0.8;\" x=\"33.2875\" xlink:href=\"#m2a888fa1a6\" y=\"158.386779\"/>\r\n      </g>\r\n     </g>\r\n     <g id=\"text_210\">\r\n      <!-- 201 -->\r\n      <g transform=\"translate(7.2 162.185997)scale(0.1 -0.1)\">\r\n       <use xlink:href=\"#DejaVuSans-50\"/>\r\n       <use x=\"63.623047\" xlink:href=\"#DejaVuSans-48\"/>\r\n       <use x=\"127.246094\" xlink:href=\"#DejaVuSans-49\"/>\r\n      </g>\r\n     </g>\r\n    </g>\r\n    <g id=\"ytick_203\">\r\n     <g id=\"line2d_211\">\r\n      <g>\r\n       <use style=\"stroke:#000000;stroke-width:0.8;\" x=\"33.2875\" xlink:href=\"#m2a888fa1a6\" y=\"158.039984\"/>\r\n      </g>\r\n     </g>\r\n     <g id=\"text_211\">\r\n      <!-- 202 -->\r\n      <g transform=\"translate(7.2 161.839203)scale(0.1 -0.1)\">\r\n       <use xlink:href=\"#DejaVuSans-50\"/>\r\n       <use x=\"63.623047\" xlink:href=\"#DejaVuSans-48\"/>\r\n       <use x=\"127.246094\" xlink:href=\"#DejaVuSans-50\"/>\r\n      </g>\r\n     </g>\r\n    </g>\r\n    <g id=\"ytick_204\">\r\n     <g id=\"line2d_212\">\r\n      <g>\r\n       <use style=\"stroke:#000000;stroke-width:0.8;\" x=\"33.2875\" xlink:href=\"#m2a888fa1a6\" y=\"157.69319\"/>\r\n      </g>\r\n     </g>\r\n     <g id=\"text_212\">\r\n      <!-- 203 -->\r\n      <g transform=\"translate(7.2 161.492409)scale(0.1 -0.1)\">\r\n       <use xlink:href=\"#DejaVuSans-50\"/>\r\n       <use x=\"63.623047\" xlink:href=\"#DejaVuSans-48\"/>\r\n       <use x=\"127.246094\" xlink:href=\"#DejaVuSans-51\"/>\r\n      </g>\r\n     </g>\r\n    </g>\r\n    <g id=\"ytick_205\">\r\n     <g id=\"line2d_213\">\r\n      <g>\r\n       <use style=\"stroke:#000000;stroke-width:0.8;\" x=\"33.2875\" xlink:href=\"#m2a888fa1a6\" y=\"157.346396\"/>\r\n      </g>\r\n     </g>\r\n     <g id=\"text_213\">\r\n      <!-- 204 -->\r\n      <g transform=\"translate(7.2 161.145615)scale(0.1 -0.1)\">\r\n       <use xlink:href=\"#DejaVuSans-50\"/>\r\n       <use x=\"63.623047\" xlink:href=\"#DejaVuSans-48\"/>\r\n       <use x=\"127.246094\" xlink:href=\"#DejaVuSans-52\"/>\r\n      </g>\r\n     </g>\r\n    </g>\r\n    <g id=\"ytick_206\">\r\n     <g id=\"line2d_214\">\r\n      <g>\r\n       <use style=\"stroke:#000000;stroke-width:0.8;\" x=\"33.2875\" xlink:href=\"#m2a888fa1a6\" y=\"156.999602\"/>\r\n      </g>\r\n     </g>\r\n     <g id=\"text_214\">\r\n      <!-- 205 -->\r\n      <g transform=\"translate(7.2 160.79882)scale(0.1 -0.1)\">\r\n       <use xlink:href=\"#DejaVuSans-50\"/>\r\n       <use x=\"63.623047\" xlink:href=\"#DejaVuSans-48\"/>\r\n       <use x=\"127.246094\" xlink:href=\"#DejaVuSans-53\"/>\r\n      </g>\r\n     </g>\r\n    </g>\r\n    <g id=\"ytick_207\">\r\n     <g id=\"line2d_215\">\r\n      <g>\r\n       <use style=\"stroke:#000000;stroke-width:0.8;\" x=\"33.2875\" xlink:href=\"#m2a888fa1a6\" y=\"156.652807\"/>\r\n      </g>\r\n     </g>\r\n     <g id=\"text_215\">\r\n      <!-- 206 -->\r\n      <g transform=\"translate(7.2 160.452026)scale(0.1 -0.1)\">\r\n       <use xlink:href=\"#DejaVuSans-50\"/>\r\n       <use x=\"63.623047\" xlink:href=\"#DejaVuSans-48\"/>\r\n       <use x=\"127.246094\" xlink:href=\"#DejaVuSans-54\"/>\r\n      </g>\r\n     </g>\r\n    </g>\r\n    <g id=\"ytick_208\">\r\n     <g id=\"line2d_216\">\r\n      <g>\r\n       <use style=\"stroke:#000000;stroke-width:0.8;\" x=\"33.2875\" xlink:href=\"#m2a888fa1a6\" y=\"156.306013\"/>\r\n      </g>\r\n     </g>\r\n     <g id=\"text_216\">\r\n      <!-- 207 -->\r\n      <g transform=\"translate(7.2 160.105232)scale(0.1 -0.1)\">\r\n       <use xlink:href=\"#DejaVuSans-50\"/>\r\n       <use x=\"63.623047\" xlink:href=\"#DejaVuSans-48\"/>\r\n       <use x=\"127.246094\" xlink:href=\"#DejaVuSans-55\"/>\r\n      </g>\r\n     </g>\r\n    </g>\r\n    <g id=\"ytick_209\">\r\n     <g id=\"line2d_217\">\r\n      <g>\r\n       <use style=\"stroke:#000000;stroke-width:0.8;\" x=\"33.2875\" xlink:href=\"#m2a888fa1a6\" y=\"155.959219\"/>\r\n      </g>\r\n     </g>\r\n     <g id=\"text_217\">\r\n      <!-- 208 -->\r\n      <g transform=\"translate(7.2 159.758438)scale(0.1 -0.1)\">\r\n       <use xlink:href=\"#DejaVuSans-50\"/>\r\n       <use x=\"63.623047\" xlink:href=\"#DejaVuSans-48\"/>\r\n       <use x=\"127.246094\" xlink:href=\"#DejaVuSans-56\"/>\r\n      </g>\r\n     </g>\r\n    </g>\r\n    <g id=\"ytick_210\">\r\n     <g id=\"line2d_218\">\r\n      <g>\r\n       <use style=\"stroke:#000000;stroke-width:0.8;\" x=\"33.2875\" xlink:href=\"#m2a888fa1a6\" y=\"155.612424\"/>\r\n      </g>\r\n     </g>\r\n     <g id=\"text_218\">\r\n      <!-- 209 -->\r\n      <g transform=\"translate(7.2 159.411643)scale(0.1 -0.1)\">\r\n       <use xlink:href=\"#DejaVuSans-50\"/>\r\n       <use x=\"63.623047\" xlink:href=\"#DejaVuSans-48\"/>\r\n       <use x=\"127.246094\" xlink:href=\"#DejaVuSans-57\"/>\r\n      </g>\r\n     </g>\r\n    </g>\r\n    <g id=\"ytick_211\">\r\n     <g id=\"line2d_219\">\r\n      <g>\r\n       <use style=\"stroke:#000000;stroke-width:0.8;\" x=\"33.2875\" xlink:href=\"#m2a888fa1a6\" y=\"155.26563\"/>\r\n      </g>\r\n     </g>\r\n     <g id=\"text_219\">\r\n      <!-- 210 -->\r\n      <g transform=\"translate(7.2 159.064849)scale(0.1 -0.1)\">\r\n       <use xlink:href=\"#DejaVuSans-50\"/>\r\n       <use x=\"63.623047\" xlink:href=\"#DejaVuSans-49\"/>\r\n       <use x=\"127.246094\" xlink:href=\"#DejaVuSans-48\"/>\r\n      </g>\r\n     </g>\r\n    </g>\r\n    <g id=\"ytick_212\">\r\n     <g id=\"line2d_220\">\r\n      <g>\r\n       <use style=\"stroke:#000000;stroke-width:0.8;\" x=\"33.2875\" xlink:href=\"#m2a888fa1a6\" y=\"154.918836\"/>\r\n      </g>\r\n     </g>\r\n     <g id=\"text_220\">\r\n      <!-- 211 -->\r\n      <g transform=\"translate(7.2 158.718055)scale(0.1 -0.1)\">\r\n       <use xlink:href=\"#DejaVuSans-50\"/>\r\n       <use x=\"63.623047\" xlink:href=\"#DejaVuSans-49\"/>\r\n       <use x=\"127.246094\" xlink:href=\"#DejaVuSans-49\"/>\r\n      </g>\r\n     </g>\r\n    </g>\r\n    <g id=\"ytick_213\">\r\n     <g id=\"line2d_221\">\r\n      <g>\r\n       <use style=\"stroke:#000000;stroke-width:0.8;\" x=\"33.2875\" xlink:href=\"#m2a888fa1a6\" y=\"154.572042\"/>\r\n      </g>\r\n     </g>\r\n     <g id=\"text_221\">\r\n      <!-- 212 -->\r\n      <g transform=\"translate(7.2 158.37126)scale(0.1 -0.1)\">\r\n       <use xlink:href=\"#DejaVuSans-50\"/>\r\n       <use x=\"63.623047\" xlink:href=\"#DejaVuSans-49\"/>\r\n       <use x=\"127.246094\" xlink:href=\"#DejaVuSans-50\"/>\r\n      </g>\r\n     </g>\r\n    </g>\r\n    <g id=\"ytick_214\">\r\n     <g id=\"line2d_222\">\r\n      <g>\r\n       <use style=\"stroke:#000000;stroke-width:0.8;\" x=\"33.2875\" xlink:href=\"#m2a888fa1a6\" y=\"154.225247\"/>\r\n      </g>\r\n     </g>\r\n     <g id=\"text_222\">\r\n      <!-- 213 -->\r\n      <g transform=\"translate(7.2 158.024466)scale(0.1 -0.1)\">\r\n       <use xlink:href=\"#DejaVuSans-50\"/>\r\n       <use x=\"63.623047\" xlink:href=\"#DejaVuSans-49\"/>\r\n       <use x=\"127.246094\" xlink:href=\"#DejaVuSans-51\"/>\r\n      </g>\r\n     </g>\r\n    </g>\r\n    <g id=\"ytick_215\">\r\n     <g id=\"line2d_223\">\r\n      <g>\r\n       <use style=\"stroke:#000000;stroke-width:0.8;\" x=\"33.2875\" xlink:href=\"#m2a888fa1a6\" y=\"153.878453\"/>\r\n      </g>\r\n     </g>\r\n     <g id=\"text_223\">\r\n      <!-- 214 -->\r\n      <g transform=\"translate(7.2 157.677672)scale(0.1 -0.1)\">\r\n       <use xlink:href=\"#DejaVuSans-50\"/>\r\n       <use x=\"63.623047\" xlink:href=\"#DejaVuSans-49\"/>\r\n       <use x=\"127.246094\" xlink:href=\"#DejaVuSans-52\"/>\r\n      </g>\r\n     </g>\r\n    </g>\r\n    <g id=\"ytick_216\">\r\n     <g id=\"line2d_224\">\r\n      <g>\r\n       <use style=\"stroke:#000000;stroke-width:0.8;\" x=\"33.2875\" xlink:href=\"#m2a888fa1a6\" y=\"153.531659\"/>\r\n      </g>\r\n     </g>\r\n     <g id=\"text_224\">\r\n      <!-- 215 -->\r\n      <g transform=\"translate(7.2 157.330878)scale(0.1 -0.1)\">\r\n       <use xlink:href=\"#DejaVuSans-50\"/>\r\n       <use x=\"63.623047\" xlink:href=\"#DejaVuSans-49\"/>\r\n       <use x=\"127.246094\" xlink:href=\"#DejaVuSans-53\"/>\r\n      </g>\r\n     </g>\r\n    </g>\r\n    <g id=\"ytick_217\">\r\n     <g id=\"line2d_225\">\r\n      <g>\r\n       <use style=\"stroke:#000000;stroke-width:0.8;\" x=\"33.2875\" xlink:href=\"#m2a888fa1a6\" y=\"153.184865\"/>\r\n      </g>\r\n     </g>\r\n     <g id=\"text_225\">\r\n      <!-- 216 -->\r\n      <g transform=\"translate(7.2 156.984083)scale(0.1 -0.1)\">\r\n       <use xlink:href=\"#DejaVuSans-50\"/>\r\n       <use x=\"63.623047\" xlink:href=\"#DejaVuSans-49\"/>\r\n       <use x=\"127.246094\" xlink:href=\"#DejaVuSans-54\"/>\r\n      </g>\r\n     </g>\r\n    </g>\r\n    <g id=\"ytick_218\">\r\n     <g id=\"line2d_226\">\r\n      <g>\r\n       <use style=\"stroke:#000000;stroke-width:0.8;\" x=\"33.2875\" xlink:href=\"#m2a888fa1a6\" y=\"152.83807\"/>\r\n      </g>\r\n     </g>\r\n     <g id=\"text_226\">\r\n      <!-- 217 -->\r\n      <g transform=\"translate(7.2 156.637289)scale(0.1 -0.1)\">\r\n       <use xlink:href=\"#DejaVuSans-50\"/>\r\n       <use x=\"63.623047\" xlink:href=\"#DejaVuSans-49\"/>\r\n       <use x=\"127.246094\" xlink:href=\"#DejaVuSans-55\"/>\r\n      </g>\r\n     </g>\r\n    </g>\r\n    <g id=\"ytick_219\">\r\n     <g id=\"line2d_227\">\r\n      <g>\r\n       <use style=\"stroke:#000000;stroke-width:0.8;\" x=\"33.2875\" xlink:href=\"#m2a888fa1a6\" y=\"152.491276\"/>\r\n      </g>\r\n     </g>\r\n     <g id=\"text_227\">\r\n      <!-- 218 -->\r\n      <g transform=\"translate(7.2 156.290495)scale(0.1 -0.1)\">\r\n       <use xlink:href=\"#DejaVuSans-50\"/>\r\n       <use x=\"63.623047\" xlink:href=\"#DejaVuSans-49\"/>\r\n       <use x=\"127.246094\" xlink:href=\"#DejaVuSans-56\"/>\r\n      </g>\r\n     </g>\r\n    </g>\r\n    <g id=\"ytick_220\">\r\n     <g id=\"line2d_228\">\r\n      <g>\r\n       <use style=\"stroke:#000000;stroke-width:0.8;\" x=\"33.2875\" xlink:href=\"#m2a888fa1a6\" y=\"152.144482\"/>\r\n      </g>\r\n     </g>\r\n     <g id=\"text_228\">\r\n      <!-- 219 -->\r\n      <g transform=\"translate(7.2 155.943701)scale(0.1 -0.1)\">\r\n       <use xlink:href=\"#DejaVuSans-50\"/>\r\n       <use x=\"63.623047\" xlink:href=\"#DejaVuSans-49\"/>\r\n       <use x=\"127.246094\" xlink:href=\"#DejaVuSans-57\"/>\r\n      </g>\r\n     </g>\r\n    </g>\r\n    <g id=\"ytick_221\">\r\n     <g id=\"line2d_229\">\r\n      <g>\r\n       <use style=\"stroke:#000000;stroke-width:0.8;\" x=\"33.2875\" xlink:href=\"#m2a888fa1a6\" y=\"151.797688\"/>\r\n      </g>\r\n     </g>\r\n     <g id=\"text_229\">\r\n      <!-- 220 -->\r\n      <g transform=\"translate(7.2 155.596906)scale(0.1 -0.1)\">\r\n       <use xlink:href=\"#DejaVuSans-50\"/>\r\n       <use x=\"63.623047\" xlink:href=\"#DejaVuSans-50\"/>\r\n       <use x=\"127.246094\" xlink:href=\"#DejaVuSans-48\"/>\r\n      </g>\r\n     </g>\r\n    </g>\r\n    <g id=\"ytick_222\">\r\n     <g id=\"line2d_230\">\r\n      <g>\r\n       <use style=\"stroke:#000000;stroke-width:0.8;\" x=\"33.2875\" xlink:href=\"#m2a888fa1a6\" y=\"151.450893\"/>\r\n      </g>\r\n     </g>\r\n     <g id=\"text_230\">\r\n      <!-- 221 -->\r\n      <g transform=\"translate(7.2 155.250112)scale(0.1 -0.1)\">\r\n       <use xlink:href=\"#DejaVuSans-50\"/>\r\n       <use x=\"63.623047\" xlink:href=\"#DejaVuSans-50\"/>\r\n       <use x=\"127.246094\" xlink:href=\"#DejaVuSans-49\"/>\r\n      </g>\r\n     </g>\r\n    </g>\r\n    <g id=\"ytick_223\">\r\n     <g id=\"line2d_231\">\r\n      <g>\r\n       <use style=\"stroke:#000000;stroke-width:0.8;\" x=\"33.2875\" xlink:href=\"#m2a888fa1a6\" y=\"151.104099\"/>\r\n      </g>\r\n     </g>\r\n     <g id=\"text_231\">\r\n      <!-- 222 -->\r\n      <g transform=\"translate(7.2 154.903318)scale(0.1 -0.1)\">\r\n       <use xlink:href=\"#DejaVuSans-50\"/>\r\n       <use x=\"63.623047\" xlink:href=\"#DejaVuSans-50\"/>\r\n       <use x=\"127.246094\" xlink:href=\"#DejaVuSans-50\"/>\r\n      </g>\r\n     </g>\r\n    </g>\r\n    <g id=\"ytick_224\">\r\n     <g id=\"line2d_232\">\r\n      <g>\r\n       <use style=\"stroke:#000000;stroke-width:0.8;\" x=\"33.2875\" xlink:href=\"#m2a888fa1a6\" y=\"150.757305\"/>\r\n      </g>\r\n     </g>\r\n     <g id=\"text_232\">\r\n      <!-- 223 -->\r\n      <g transform=\"translate(7.2 154.556524)scale(0.1 -0.1)\">\r\n       <use xlink:href=\"#DejaVuSans-50\"/>\r\n       <use x=\"63.623047\" xlink:href=\"#DejaVuSans-50\"/>\r\n       <use x=\"127.246094\" xlink:href=\"#DejaVuSans-51\"/>\r\n      </g>\r\n     </g>\r\n    </g>\r\n    <g id=\"ytick_225\">\r\n     <g id=\"line2d_233\">\r\n      <g>\r\n       <use style=\"stroke:#000000;stroke-width:0.8;\" x=\"33.2875\" xlink:href=\"#m2a888fa1a6\" y=\"150.410511\"/>\r\n      </g>\r\n     </g>\r\n     <g id=\"text_233\">\r\n      <!-- 224 -->\r\n      <g transform=\"translate(7.2 154.209729)scale(0.1 -0.1)\">\r\n       <use xlink:href=\"#DejaVuSans-50\"/>\r\n       <use x=\"63.623047\" xlink:href=\"#DejaVuSans-50\"/>\r\n       <use x=\"127.246094\" xlink:href=\"#DejaVuSans-52\"/>\r\n      </g>\r\n     </g>\r\n    </g>\r\n    <g id=\"ytick_226\">\r\n     <g id=\"line2d_234\">\r\n      <g>\r\n       <use style=\"stroke:#000000;stroke-width:0.8;\" x=\"33.2875\" xlink:href=\"#m2a888fa1a6\" y=\"150.063716\"/>\r\n      </g>\r\n     </g>\r\n     <g id=\"text_234\">\r\n      <!-- 225 -->\r\n      <g transform=\"translate(7.2 153.862935)scale(0.1 -0.1)\">\r\n       <use xlink:href=\"#DejaVuSans-50\"/>\r\n       <use x=\"63.623047\" xlink:href=\"#DejaVuSans-50\"/>\r\n       <use x=\"127.246094\" xlink:href=\"#DejaVuSans-53\"/>\r\n      </g>\r\n     </g>\r\n    </g>\r\n    <g id=\"ytick_227\">\r\n     <g id=\"line2d_235\">\r\n      <g>\r\n       <use style=\"stroke:#000000;stroke-width:0.8;\" x=\"33.2875\" xlink:href=\"#m2a888fa1a6\" y=\"149.716922\"/>\r\n      </g>\r\n     </g>\r\n     <g id=\"text_235\">\r\n      <!-- 226 -->\r\n      <g transform=\"translate(7.2 153.516141)scale(0.1 -0.1)\">\r\n       <use xlink:href=\"#DejaVuSans-50\"/>\r\n       <use x=\"63.623047\" xlink:href=\"#DejaVuSans-50\"/>\r\n       <use x=\"127.246094\" xlink:href=\"#DejaVuSans-54\"/>\r\n      </g>\r\n     </g>\r\n    </g>\r\n    <g id=\"ytick_228\">\r\n     <g id=\"line2d_236\">\r\n      <g>\r\n       <use style=\"stroke:#000000;stroke-width:0.8;\" x=\"33.2875\" xlink:href=\"#m2a888fa1a6\" y=\"149.370128\"/>\r\n      </g>\r\n     </g>\r\n     <g id=\"text_236\">\r\n      <!-- 227 -->\r\n      <g transform=\"translate(7.2 153.169347)scale(0.1 -0.1)\">\r\n       <use xlink:href=\"#DejaVuSans-50\"/>\r\n       <use x=\"63.623047\" xlink:href=\"#DejaVuSans-50\"/>\r\n       <use x=\"127.246094\" xlink:href=\"#DejaVuSans-55\"/>\r\n      </g>\r\n     </g>\r\n    </g>\r\n    <g id=\"ytick_229\">\r\n     <g id=\"line2d_237\">\r\n      <g>\r\n       <use style=\"stroke:#000000;stroke-width:0.8;\" x=\"33.2875\" xlink:href=\"#m2a888fa1a6\" y=\"149.023334\"/>\r\n      </g>\r\n     </g>\r\n     <g id=\"text_237\">\r\n      <!-- 228 -->\r\n      <g transform=\"translate(7.2 152.822552)scale(0.1 -0.1)\">\r\n       <use xlink:href=\"#DejaVuSans-50\"/>\r\n       <use x=\"63.623047\" xlink:href=\"#DejaVuSans-50\"/>\r\n       <use x=\"127.246094\" xlink:href=\"#DejaVuSans-56\"/>\r\n      </g>\r\n     </g>\r\n    </g>\r\n    <g id=\"ytick_230\">\r\n     <g id=\"line2d_238\">\r\n      <g>\r\n       <use style=\"stroke:#000000;stroke-width:0.8;\" x=\"33.2875\" xlink:href=\"#m2a888fa1a6\" y=\"148.676539\"/>\r\n      </g>\r\n     </g>\r\n     <g id=\"text_238\">\r\n      <!-- 229 -->\r\n      <g transform=\"translate(7.2 152.475758)scale(0.1 -0.1)\">\r\n       <use xlink:href=\"#DejaVuSans-50\"/>\r\n       <use x=\"63.623047\" xlink:href=\"#DejaVuSans-50\"/>\r\n       <use x=\"127.246094\" xlink:href=\"#DejaVuSans-57\"/>\r\n      </g>\r\n     </g>\r\n    </g>\r\n    <g id=\"ytick_231\">\r\n     <g id=\"line2d_239\">\r\n      <g>\r\n       <use style=\"stroke:#000000;stroke-width:0.8;\" x=\"33.2875\" xlink:href=\"#m2a888fa1a6\" y=\"148.329745\"/>\r\n      </g>\r\n     </g>\r\n     <g id=\"text_239\">\r\n      <!-- 230 -->\r\n      <g transform=\"translate(7.2 152.128964)scale(0.1 -0.1)\">\r\n       <use xlink:href=\"#DejaVuSans-50\"/>\r\n       <use x=\"63.623047\" xlink:href=\"#DejaVuSans-51\"/>\r\n       <use x=\"127.246094\" xlink:href=\"#DejaVuSans-48\"/>\r\n      </g>\r\n     </g>\r\n    </g>\r\n    <g id=\"ytick_232\">\r\n     <g id=\"line2d_240\">\r\n      <g>\r\n       <use style=\"stroke:#000000;stroke-width:0.8;\" x=\"33.2875\" xlink:href=\"#m2a888fa1a6\" y=\"147.982951\"/>\r\n      </g>\r\n     </g>\r\n     <g id=\"text_240\">\r\n      <!-- 231 -->\r\n      <g transform=\"translate(7.2 151.78217)scale(0.1 -0.1)\">\r\n       <use xlink:href=\"#DejaVuSans-50\"/>\r\n       <use x=\"63.623047\" xlink:href=\"#DejaVuSans-51\"/>\r\n       <use x=\"127.246094\" xlink:href=\"#DejaVuSans-49\"/>\r\n      </g>\r\n     </g>\r\n    </g>\r\n    <g id=\"ytick_233\">\r\n     <g id=\"line2d_241\">\r\n      <g>\r\n       <use style=\"stroke:#000000;stroke-width:0.8;\" x=\"33.2875\" xlink:href=\"#m2a888fa1a6\" y=\"147.636157\"/>\r\n      </g>\r\n     </g>\r\n     <g id=\"text_241\">\r\n      <!-- 232 -->\r\n      <g transform=\"translate(7.2 151.435375)scale(0.1 -0.1)\">\r\n       <use xlink:href=\"#DejaVuSans-50\"/>\r\n       <use x=\"63.623047\" xlink:href=\"#DejaVuSans-51\"/>\r\n       <use x=\"127.246094\" xlink:href=\"#DejaVuSans-50\"/>\r\n      </g>\r\n     </g>\r\n    </g>\r\n    <g id=\"ytick_234\">\r\n     <g id=\"line2d_242\">\r\n      <g>\r\n       <use style=\"stroke:#000000;stroke-width:0.8;\" x=\"33.2875\" xlink:href=\"#m2a888fa1a6\" y=\"147.289362\"/>\r\n      </g>\r\n     </g>\r\n     <g id=\"text_242\">\r\n      <!-- 233 -->\r\n      <g transform=\"translate(7.2 151.088581)scale(0.1 -0.1)\">\r\n       <use xlink:href=\"#DejaVuSans-50\"/>\r\n       <use x=\"63.623047\" xlink:href=\"#DejaVuSans-51\"/>\r\n       <use x=\"127.246094\" xlink:href=\"#DejaVuSans-51\"/>\r\n      </g>\r\n     </g>\r\n    </g>\r\n    <g id=\"ytick_235\">\r\n     <g id=\"line2d_243\">\r\n      <g>\r\n       <use style=\"stroke:#000000;stroke-width:0.8;\" x=\"33.2875\" xlink:href=\"#m2a888fa1a6\" y=\"146.942568\"/>\r\n      </g>\r\n     </g>\r\n     <g id=\"text_243\">\r\n      <!-- 234 -->\r\n      <g transform=\"translate(7.2 150.741787)scale(0.1 -0.1)\">\r\n       <use xlink:href=\"#DejaVuSans-50\"/>\r\n       <use x=\"63.623047\" xlink:href=\"#DejaVuSans-51\"/>\r\n       <use x=\"127.246094\" xlink:href=\"#DejaVuSans-52\"/>\r\n      </g>\r\n     </g>\r\n    </g>\r\n    <g id=\"ytick_236\">\r\n     <g id=\"line2d_244\">\r\n      <g>\r\n       <use style=\"stroke:#000000;stroke-width:0.8;\" x=\"33.2875\" xlink:href=\"#m2a888fa1a6\" y=\"146.595774\"/>\r\n      </g>\r\n     </g>\r\n     <g id=\"text_244\">\r\n      <!-- 235 -->\r\n      <g transform=\"translate(7.2 150.394993)scale(0.1 -0.1)\">\r\n       <use xlink:href=\"#DejaVuSans-50\"/>\r\n       <use x=\"63.623047\" xlink:href=\"#DejaVuSans-51\"/>\r\n       <use x=\"127.246094\" xlink:href=\"#DejaVuSans-53\"/>\r\n      </g>\r\n     </g>\r\n    </g>\r\n    <g id=\"ytick_237\">\r\n     <g id=\"line2d_245\">\r\n      <g>\r\n       <use style=\"stroke:#000000;stroke-width:0.8;\" x=\"33.2875\" xlink:href=\"#m2a888fa1a6\" y=\"146.24898\"/>\r\n      </g>\r\n     </g>\r\n     <g id=\"text_245\">\r\n      <!-- 236 -->\r\n      <g transform=\"translate(7.2 150.048198)scale(0.1 -0.1)\">\r\n       <use xlink:href=\"#DejaVuSans-50\"/>\r\n       <use x=\"63.623047\" xlink:href=\"#DejaVuSans-51\"/>\r\n       <use x=\"127.246094\" xlink:href=\"#DejaVuSans-54\"/>\r\n      </g>\r\n     </g>\r\n    </g>\r\n    <g id=\"ytick_238\">\r\n     <g id=\"line2d_246\">\r\n      <g>\r\n       <use style=\"stroke:#000000;stroke-width:0.8;\" x=\"33.2875\" xlink:href=\"#m2a888fa1a6\" y=\"145.902185\"/>\r\n      </g>\r\n     </g>\r\n     <g id=\"text_246\">\r\n      <!-- 237 -->\r\n      <g transform=\"translate(7.2 149.701404)scale(0.1 -0.1)\">\r\n       <use xlink:href=\"#DejaVuSans-50\"/>\r\n       <use x=\"63.623047\" xlink:href=\"#DejaVuSans-51\"/>\r\n       <use x=\"127.246094\" xlink:href=\"#DejaVuSans-55\"/>\r\n      </g>\r\n     </g>\r\n    </g>\r\n    <g id=\"ytick_239\">\r\n     <g id=\"line2d_247\">\r\n      <g>\r\n       <use style=\"stroke:#000000;stroke-width:0.8;\" x=\"33.2875\" xlink:href=\"#m2a888fa1a6\" y=\"145.555391\"/>\r\n      </g>\r\n     </g>\r\n     <g id=\"text_247\">\r\n      <!-- 238 -->\r\n      <g transform=\"translate(7.2 149.35461)scale(0.1 -0.1)\">\r\n       <use xlink:href=\"#DejaVuSans-50\"/>\r\n       <use x=\"63.623047\" xlink:href=\"#DejaVuSans-51\"/>\r\n       <use x=\"127.246094\" xlink:href=\"#DejaVuSans-56\"/>\r\n      </g>\r\n     </g>\r\n    </g>\r\n    <g id=\"ytick_240\">\r\n     <g id=\"line2d_248\">\r\n      <g>\r\n       <use style=\"stroke:#000000;stroke-width:0.8;\" x=\"33.2875\" xlink:href=\"#m2a888fa1a6\" y=\"145.208597\"/>\r\n      </g>\r\n     </g>\r\n     <g id=\"text_248\">\r\n      <!-- 239 -->\r\n      <g transform=\"translate(7.2 149.007815)scale(0.1 -0.1)\">\r\n       <use xlink:href=\"#DejaVuSans-50\"/>\r\n       <use x=\"63.623047\" xlink:href=\"#DejaVuSans-51\"/>\r\n       <use x=\"127.246094\" xlink:href=\"#DejaVuSans-57\"/>\r\n      </g>\r\n     </g>\r\n    </g>\r\n    <g id=\"ytick_241\">\r\n     <g id=\"line2d_249\">\r\n      <g>\r\n       <use style=\"stroke:#000000;stroke-width:0.8;\" x=\"33.2875\" xlink:href=\"#m2a888fa1a6\" y=\"144.861802\"/>\r\n      </g>\r\n     </g>\r\n     <g id=\"text_249\">\r\n      <!-- 240 -->\r\n      <g transform=\"translate(7.2 148.661021)scale(0.1 -0.1)\">\r\n       <use xlink:href=\"#DejaVuSans-50\"/>\r\n       <use x=\"63.623047\" xlink:href=\"#DejaVuSans-52\"/>\r\n       <use x=\"127.246094\" xlink:href=\"#DejaVuSans-48\"/>\r\n      </g>\r\n     </g>\r\n    </g>\r\n    <g id=\"ytick_242\">\r\n     <g id=\"line2d_250\">\r\n      <g>\r\n       <use style=\"stroke:#000000;stroke-width:0.8;\" x=\"33.2875\" xlink:href=\"#m2a888fa1a6\" y=\"144.515008\"/>\r\n      </g>\r\n     </g>\r\n     <g id=\"text_250\">\r\n      <!-- 241 -->\r\n      <g transform=\"translate(7.2 148.314227)scale(0.1 -0.1)\">\r\n       <use xlink:href=\"#DejaVuSans-50\"/>\r\n       <use x=\"63.623047\" xlink:href=\"#DejaVuSans-52\"/>\r\n       <use x=\"127.246094\" xlink:href=\"#DejaVuSans-49\"/>\r\n      </g>\r\n     </g>\r\n    </g>\r\n    <g id=\"ytick_243\">\r\n     <g id=\"line2d_251\">\r\n      <g>\r\n       <use style=\"stroke:#000000;stroke-width:0.8;\" x=\"33.2875\" xlink:href=\"#m2a888fa1a6\" y=\"144.168214\"/>\r\n      </g>\r\n     </g>\r\n     <g id=\"text_251\">\r\n      <!-- 242 -->\r\n      <g transform=\"translate(7.2 147.967433)scale(0.1 -0.1)\">\r\n       <use xlink:href=\"#DejaVuSans-50\"/>\r\n       <use x=\"63.623047\" xlink:href=\"#DejaVuSans-52\"/>\r\n       <use x=\"127.246094\" xlink:href=\"#DejaVuSans-50\"/>\r\n      </g>\r\n     </g>\r\n    </g>\r\n    <g id=\"ytick_244\">\r\n     <g id=\"line2d_252\">\r\n      <g>\r\n       <use style=\"stroke:#000000;stroke-width:0.8;\" x=\"33.2875\" xlink:href=\"#m2a888fa1a6\" y=\"143.82142\"/>\r\n      </g>\r\n     </g>\r\n     <g id=\"text_252\">\r\n      <!-- 243 -->\r\n      <g transform=\"translate(7.2 147.620638)scale(0.1 -0.1)\">\r\n       <use xlink:href=\"#DejaVuSans-50\"/>\r\n       <use x=\"63.623047\" xlink:href=\"#DejaVuSans-52\"/>\r\n       <use x=\"127.246094\" xlink:href=\"#DejaVuSans-51\"/>\r\n      </g>\r\n     </g>\r\n    </g>\r\n    <g id=\"ytick_245\">\r\n     <g id=\"line2d_253\">\r\n      <g>\r\n       <use style=\"stroke:#000000;stroke-width:0.8;\" x=\"33.2875\" xlink:href=\"#m2a888fa1a6\" y=\"143.474625\"/>\r\n      </g>\r\n     </g>\r\n     <g id=\"text_253\">\r\n      <!-- 244 -->\r\n      <g transform=\"translate(7.2 147.273844)scale(0.1 -0.1)\">\r\n       <use xlink:href=\"#DejaVuSans-50\"/>\r\n       <use x=\"63.623047\" xlink:href=\"#DejaVuSans-52\"/>\r\n       <use x=\"127.246094\" xlink:href=\"#DejaVuSans-52\"/>\r\n      </g>\r\n     </g>\r\n    </g>\r\n    <g id=\"ytick_246\">\r\n     <g id=\"line2d_254\">\r\n      <g>\r\n       <use style=\"stroke:#000000;stroke-width:0.8;\" x=\"33.2875\" xlink:href=\"#m2a888fa1a6\" y=\"143.127831\"/>\r\n      </g>\r\n     </g>\r\n     <g id=\"text_254\">\r\n      <!-- 245 -->\r\n      <g transform=\"translate(7.2 146.92705)scale(0.1 -0.1)\">\r\n       <use xlink:href=\"#DejaVuSans-50\"/>\r\n       <use x=\"63.623047\" xlink:href=\"#DejaVuSans-52\"/>\r\n       <use x=\"127.246094\" xlink:href=\"#DejaVuSans-53\"/>\r\n      </g>\r\n     </g>\r\n    </g>\r\n    <g id=\"ytick_247\">\r\n     <g id=\"line2d_255\">\r\n      <g>\r\n       <use style=\"stroke:#000000;stroke-width:0.8;\" x=\"33.2875\" xlink:href=\"#m2a888fa1a6\" y=\"142.781037\"/>\r\n      </g>\r\n     </g>\r\n     <g id=\"text_255\">\r\n      <!-- 246 -->\r\n      <g transform=\"translate(7.2 146.580256)scale(0.1 -0.1)\">\r\n       <use xlink:href=\"#DejaVuSans-50\"/>\r\n       <use x=\"63.623047\" xlink:href=\"#DejaVuSans-52\"/>\r\n       <use x=\"127.246094\" xlink:href=\"#DejaVuSans-54\"/>\r\n      </g>\r\n     </g>\r\n    </g>\r\n    <g id=\"ytick_248\">\r\n     <g id=\"line2d_256\">\r\n      <g>\r\n       <use style=\"stroke:#000000;stroke-width:0.8;\" x=\"33.2875\" xlink:href=\"#m2a888fa1a6\" y=\"142.434243\"/>\r\n      </g>\r\n     </g>\r\n     <g id=\"text_256\">\r\n      <!-- 247 -->\r\n      <g transform=\"translate(7.2 146.233461)scale(0.1 -0.1)\">\r\n       <use xlink:href=\"#DejaVuSans-50\"/>\r\n       <use x=\"63.623047\" xlink:href=\"#DejaVuSans-52\"/>\r\n       <use x=\"127.246094\" xlink:href=\"#DejaVuSans-55\"/>\r\n      </g>\r\n     </g>\r\n    </g>\r\n    <g id=\"ytick_249\">\r\n     <g id=\"line2d_257\">\r\n      <g>\r\n       <use style=\"stroke:#000000;stroke-width:0.8;\" x=\"33.2875\" xlink:href=\"#m2a888fa1a6\" y=\"142.087448\"/>\r\n      </g>\r\n     </g>\r\n     <g id=\"text_257\">\r\n      <!-- 248 -->\r\n      <g transform=\"translate(7.2 145.886667)scale(0.1 -0.1)\">\r\n       <use xlink:href=\"#DejaVuSans-50\"/>\r\n       <use x=\"63.623047\" xlink:href=\"#DejaVuSans-52\"/>\r\n       <use x=\"127.246094\" xlink:href=\"#DejaVuSans-56\"/>\r\n      </g>\r\n     </g>\r\n    </g>\r\n    <g id=\"ytick_250\">\r\n     <g id=\"line2d_258\">\r\n      <g>\r\n       <use style=\"stroke:#000000;stroke-width:0.8;\" x=\"33.2875\" xlink:href=\"#m2a888fa1a6\" y=\"141.740654\"/>\r\n      </g>\r\n     </g>\r\n     <g id=\"text_258\">\r\n      <!-- 249 -->\r\n      <g transform=\"translate(7.2 145.539873)scale(0.1 -0.1)\">\r\n       <use xlink:href=\"#DejaVuSans-50\"/>\r\n       <use x=\"63.623047\" xlink:href=\"#DejaVuSans-52\"/>\r\n       <use x=\"127.246094\" xlink:href=\"#DejaVuSans-57\"/>\r\n      </g>\r\n     </g>\r\n    </g>\r\n    <g id=\"ytick_251\">\r\n     <g id=\"line2d_259\">\r\n      <g>\r\n       <use style=\"stroke:#000000;stroke-width:0.8;\" x=\"33.2875\" xlink:href=\"#m2a888fa1a6\" y=\"141.39386\"/>\r\n      </g>\r\n     </g>\r\n     <g id=\"text_259\">\r\n      <!-- 250 -->\r\n      <g transform=\"translate(7.2 145.193079)scale(0.1 -0.1)\">\r\n       <use xlink:href=\"#DejaVuSans-50\"/>\r\n       <use x=\"63.623047\" xlink:href=\"#DejaVuSans-53\"/>\r\n       <use x=\"127.246094\" xlink:href=\"#DejaVuSans-48\"/>\r\n      </g>\r\n     </g>\r\n    </g>\r\n    <g id=\"ytick_252\">\r\n     <g id=\"line2d_260\">\r\n      <g>\r\n       <use style=\"stroke:#000000;stroke-width:0.8;\" x=\"33.2875\" xlink:href=\"#m2a888fa1a6\" y=\"141.047066\"/>\r\n      </g>\r\n     </g>\r\n     <g id=\"text_260\">\r\n      <!-- 251 -->\r\n      <g transform=\"translate(7.2 144.846284)scale(0.1 -0.1)\">\r\n       <use xlink:href=\"#DejaVuSans-50\"/>\r\n       <use x=\"63.623047\" xlink:href=\"#DejaVuSans-53\"/>\r\n       <use x=\"127.246094\" xlink:href=\"#DejaVuSans-49\"/>\r\n      </g>\r\n     </g>\r\n    </g>\r\n    <g id=\"ytick_253\">\r\n     <g id=\"line2d_261\">\r\n      <g>\r\n       <use style=\"stroke:#000000;stroke-width:0.8;\" x=\"33.2875\" xlink:href=\"#m2a888fa1a6\" y=\"140.700271\"/>\r\n      </g>\r\n     </g>\r\n     <g id=\"text_261\">\r\n      <!-- 252 -->\r\n      <g transform=\"translate(7.2 144.49949)scale(0.1 -0.1)\">\r\n       <use xlink:href=\"#DejaVuSans-50\"/>\r\n       <use x=\"63.623047\" xlink:href=\"#DejaVuSans-53\"/>\r\n       <use x=\"127.246094\" xlink:href=\"#DejaVuSans-50\"/>\r\n      </g>\r\n     </g>\r\n    </g>\r\n    <g id=\"ytick_254\">\r\n     <g id=\"line2d_262\">\r\n      <g>\r\n       <use style=\"stroke:#000000;stroke-width:0.8;\" x=\"33.2875\" xlink:href=\"#m2a888fa1a6\" y=\"140.353477\"/>\r\n      </g>\r\n     </g>\r\n     <g id=\"text_262\">\r\n      <!-- 253 -->\r\n      <g transform=\"translate(7.2 144.152696)scale(0.1 -0.1)\">\r\n       <use xlink:href=\"#DejaVuSans-50\"/>\r\n       <use x=\"63.623047\" xlink:href=\"#DejaVuSans-53\"/>\r\n       <use x=\"127.246094\" xlink:href=\"#DejaVuSans-51\"/>\r\n      </g>\r\n     </g>\r\n    </g>\r\n    <g id=\"ytick_255\">\r\n     <g id=\"line2d_263\">\r\n      <g>\r\n       <use style=\"stroke:#000000;stroke-width:0.8;\" x=\"33.2875\" xlink:href=\"#m2a888fa1a6\" y=\"140.006683\"/>\r\n      </g>\r\n     </g>\r\n     <g id=\"text_263\">\r\n      <!-- 254 -->\r\n      <g transform=\"translate(7.2 143.805902)scale(0.1 -0.1)\">\r\n       <use xlink:href=\"#DejaVuSans-50\"/>\r\n       <use x=\"63.623047\" xlink:href=\"#DejaVuSans-53\"/>\r\n       <use x=\"127.246094\" xlink:href=\"#DejaVuSans-52\"/>\r\n      </g>\r\n     </g>\r\n    </g>\r\n    <g id=\"ytick_256\">\r\n     <g id=\"line2d_264\">\r\n      <g>\r\n       <use style=\"stroke:#000000;stroke-width:0.8;\" x=\"33.2875\" xlink:href=\"#m2a888fa1a6\" y=\"139.659889\"/>\r\n      </g>\r\n     </g>\r\n     <g id=\"text_264\">\r\n      <!-- 255 -->\r\n      <g transform=\"translate(7.2 143.459107)scale(0.1 -0.1)\">\r\n       <use xlink:href=\"#DejaVuSans-50\"/>\r\n       <use x=\"63.623047\" xlink:href=\"#DejaVuSans-53\"/>\r\n       <use x=\"127.246094\" xlink:href=\"#DejaVuSans-53\"/>\r\n      </g>\r\n     </g>\r\n    </g>\r\n    <g id=\"ytick_257\">\r\n     <g id=\"line2d_265\">\r\n      <g>\r\n       <use style=\"stroke:#000000;stroke-width:0.8;\" x=\"33.2875\" xlink:href=\"#m2a888fa1a6\" y=\"139.313094\"/>\r\n      </g>\r\n     </g>\r\n     <g id=\"text_265\">\r\n      <!-- 256 -->\r\n      <g transform=\"translate(7.2 143.112313)scale(0.1 -0.1)\">\r\n       <use xlink:href=\"#DejaVuSans-50\"/>\r\n       <use x=\"63.623047\" xlink:href=\"#DejaVuSans-53\"/>\r\n       <use x=\"127.246094\" xlink:href=\"#DejaVuSans-54\"/>\r\n      </g>\r\n     </g>\r\n    </g>\r\n    <g id=\"ytick_258\">\r\n     <g id=\"line2d_266\">\r\n      <g>\r\n       <use style=\"stroke:#000000;stroke-width:0.8;\" x=\"33.2875\" xlink:href=\"#m2a888fa1a6\" y=\"138.9663\"/>\r\n      </g>\r\n     </g>\r\n     <g id=\"text_266\">\r\n      <!-- 257 -->\r\n      <g transform=\"translate(7.2 142.765519)scale(0.1 -0.1)\">\r\n       <use xlink:href=\"#DejaVuSans-50\"/>\r\n       <use x=\"63.623047\" xlink:href=\"#DejaVuSans-53\"/>\r\n       <use x=\"127.246094\" xlink:href=\"#DejaVuSans-55\"/>\r\n      </g>\r\n     </g>\r\n    </g>\r\n    <g id=\"ytick_259\">\r\n     <g id=\"line2d_267\">\r\n      <g>\r\n       <use style=\"stroke:#000000;stroke-width:0.8;\" x=\"33.2875\" xlink:href=\"#m2a888fa1a6\" y=\"138.619506\"/>\r\n      </g>\r\n     </g>\r\n     <g id=\"text_267\">\r\n      <!-- 258 -->\r\n      <g transform=\"translate(7.2 142.418725)scale(0.1 -0.1)\">\r\n       <use xlink:href=\"#DejaVuSans-50\"/>\r\n       <use x=\"63.623047\" xlink:href=\"#DejaVuSans-53\"/>\r\n       <use x=\"127.246094\" xlink:href=\"#DejaVuSans-56\"/>\r\n      </g>\r\n     </g>\r\n    </g>\r\n    <g id=\"ytick_260\">\r\n     <g id=\"line2d_268\">\r\n      <g>\r\n       <use style=\"stroke:#000000;stroke-width:0.8;\" x=\"33.2875\" xlink:href=\"#m2a888fa1a6\" y=\"138.272712\"/>\r\n      </g>\r\n     </g>\r\n     <g id=\"text_268\">\r\n      <!-- 259 -->\r\n      <g transform=\"translate(7.2 142.07193)scale(0.1 -0.1)\">\r\n       <use xlink:href=\"#DejaVuSans-50\"/>\r\n       <use x=\"63.623047\" xlink:href=\"#DejaVuSans-53\"/>\r\n       <use x=\"127.246094\" xlink:href=\"#DejaVuSans-57\"/>\r\n      </g>\r\n     </g>\r\n    </g>\r\n    <g id=\"ytick_261\">\r\n     <g id=\"line2d_269\">\r\n      <g>\r\n       <use style=\"stroke:#000000;stroke-width:0.8;\" x=\"33.2875\" xlink:href=\"#m2a888fa1a6\" y=\"137.925917\"/>\r\n      </g>\r\n     </g>\r\n     <g id=\"text_269\">\r\n      <!-- 260 -->\r\n      <g transform=\"translate(7.2 141.725136)scale(0.1 -0.1)\">\r\n       <use xlink:href=\"#DejaVuSans-50\"/>\r\n       <use x=\"63.623047\" xlink:href=\"#DejaVuSans-54\"/>\r\n       <use x=\"127.246094\" xlink:href=\"#DejaVuSans-48\"/>\r\n      </g>\r\n     </g>\r\n    </g>\r\n    <g id=\"ytick_262\">\r\n     <g id=\"line2d_270\">\r\n      <g>\r\n       <use style=\"stroke:#000000;stroke-width:0.8;\" x=\"33.2875\" xlink:href=\"#m2a888fa1a6\" y=\"137.579123\"/>\r\n      </g>\r\n     </g>\r\n     <g id=\"text_270\">\r\n      <!-- 261 -->\r\n      <g transform=\"translate(7.2 141.378342)scale(0.1 -0.1)\">\r\n       <use xlink:href=\"#DejaVuSans-50\"/>\r\n       <use x=\"63.623047\" xlink:href=\"#DejaVuSans-54\"/>\r\n       <use x=\"127.246094\" xlink:href=\"#DejaVuSans-49\"/>\r\n      </g>\r\n     </g>\r\n    </g>\r\n    <g id=\"ytick_263\">\r\n     <g id=\"line2d_271\">\r\n      <g>\r\n       <use style=\"stroke:#000000;stroke-width:0.8;\" x=\"33.2875\" xlink:href=\"#m2a888fa1a6\" y=\"137.232329\"/>\r\n      </g>\r\n     </g>\r\n     <g id=\"text_271\">\r\n      <!-- 262 -->\r\n      <g transform=\"translate(7.2 141.031548)scale(0.1 -0.1)\">\r\n       <use xlink:href=\"#DejaVuSans-50\"/>\r\n       <use x=\"63.623047\" xlink:href=\"#DejaVuSans-54\"/>\r\n       <use x=\"127.246094\" xlink:href=\"#DejaVuSans-50\"/>\r\n      </g>\r\n     </g>\r\n    </g>\r\n    <g id=\"ytick_264\">\r\n     <g id=\"line2d_272\">\r\n      <g>\r\n       <use style=\"stroke:#000000;stroke-width:0.8;\" x=\"33.2875\" xlink:href=\"#m2a888fa1a6\" y=\"136.885535\"/>\r\n      </g>\r\n     </g>\r\n     <g id=\"text_272\">\r\n      <!-- 263 -->\r\n      <g transform=\"translate(7.2 140.684753)scale(0.1 -0.1)\">\r\n       <use xlink:href=\"#DejaVuSans-50\"/>\r\n       <use x=\"63.623047\" xlink:href=\"#DejaVuSans-54\"/>\r\n       <use x=\"127.246094\" xlink:href=\"#DejaVuSans-51\"/>\r\n      </g>\r\n     </g>\r\n    </g>\r\n    <g id=\"ytick_265\">\r\n     <g id=\"line2d_273\">\r\n      <g>\r\n       <use style=\"stroke:#000000;stroke-width:0.8;\" x=\"33.2875\" xlink:href=\"#m2a888fa1a6\" y=\"136.53874\"/>\r\n      </g>\r\n     </g>\r\n     <g id=\"text_273\">\r\n      <!-- 264 -->\r\n      <g transform=\"translate(7.2 140.337959)scale(0.1 -0.1)\">\r\n       <use xlink:href=\"#DejaVuSans-50\"/>\r\n       <use x=\"63.623047\" xlink:href=\"#DejaVuSans-54\"/>\r\n       <use x=\"127.246094\" xlink:href=\"#DejaVuSans-52\"/>\r\n      </g>\r\n     </g>\r\n    </g>\r\n    <g id=\"ytick_266\">\r\n     <g id=\"line2d_274\">\r\n      <g>\r\n       <use style=\"stroke:#000000;stroke-width:0.8;\" x=\"33.2875\" xlink:href=\"#m2a888fa1a6\" y=\"136.191946\"/>\r\n      </g>\r\n     </g>\r\n     <g id=\"text_274\">\r\n      <!-- 265 -->\r\n      <g transform=\"translate(7.2 139.991165)scale(0.1 -0.1)\">\r\n       <use xlink:href=\"#DejaVuSans-50\"/>\r\n       <use x=\"63.623047\" xlink:href=\"#DejaVuSans-54\"/>\r\n       <use x=\"127.246094\" xlink:href=\"#DejaVuSans-53\"/>\r\n      </g>\r\n     </g>\r\n    </g>\r\n    <g id=\"ytick_267\">\r\n     <g id=\"line2d_275\">\r\n      <g>\r\n       <use style=\"stroke:#000000;stroke-width:0.8;\" x=\"33.2875\" xlink:href=\"#m2a888fa1a6\" y=\"135.845152\"/>\r\n      </g>\r\n     </g>\r\n     <g id=\"text_275\">\r\n      <!-- 266 -->\r\n      <g transform=\"translate(7.2 139.644371)scale(0.1 -0.1)\">\r\n       <use xlink:href=\"#DejaVuSans-50\"/>\r\n       <use x=\"63.623047\" xlink:href=\"#DejaVuSans-54\"/>\r\n       <use x=\"127.246094\" xlink:href=\"#DejaVuSans-54\"/>\r\n      </g>\r\n     </g>\r\n    </g>\r\n    <g id=\"ytick_268\">\r\n     <g id=\"line2d_276\">\r\n      <g>\r\n       <use style=\"stroke:#000000;stroke-width:0.8;\" x=\"33.2875\" xlink:href=\"#m2a888fa1a6\" y=\"135.498358\"/>\r\n      </g>\r\n     </g>\r\n     <g id=\"text_276\">\r\n      <!-- 267 -->\r\n      <g transform=\"translate(7.2 139.297576)scale(0.1 -0.1)\">\r\n       <use xlink:href=\"#DejaVuSans-50\"/>\r\n       <use x=\"63.623047\" xlink:href=\"#DejaVuSans-54\"/>\r\n       <use x=\"127.246094\" xlink:href=\"#DejaVuSans-55\"/>\r\n      </g>\r\n     </g>\r\n    </g>\r\n    <g id=\"ytick_269\">\r\n     <g id=\"line2d_277\">\r\n      <g>\r\n       <use style=\"stroke:#000000;stroke-width:0.8;\" x=\"33.2875\" xlink:href=\"#m2a888fa1a6\" y=\"135.151563\"/>\r\n      </g>\r\n     </g>\r\n     <g id=\"text_277\">\r\n      <!-- 268 -->\r\n      <g transform=\"translate(7.2 138.950782)scale(0.1 -0.1)\">\r\n       <use xlink:href=\"#DejaVuSans-50\"/>\r\n       <use x=\"63.623047\" xlink:href=\"#DejaVuSans-54\"/>\r\n       <use x=\"127.246094\" xlink:href=\"#DejaVuSans-56\"/>\r\n      </g>\r\n     </g>\r\n    </g>\r\n    <g id=\"ytick_270\">\r\n     <g id=\"line2d_278\">\r\n      <g>\r\n       <use style=\"stroke:#000000;stroke-width:0.8;\" x=\"33.2875\" xlink:href=\"#m2a888fa1a6\" y=\"134.804769\"/>\r\n      </g>\r\n     </g>\r\n     <g id=\"text_278\">\r\n      <!-- 269 -->\r\n      <g transform=\"translate(7.2 138.603988)scale(0.1 -0.1)\">\r\n       <use xlink:href=\"#DejaVuSans-50\"/>\r\n       <use x=\"63.623047\" xlink:href=\"#DejaVuSans-54\"/>\r\n       <use x=\"127.246094\" xlink:href=\"#DejaVuSans-57\"/>\r\n      </g>\r\n     </g>\r\n    </g>\r\n    <g id=\"ytick_271\">\r\n     <g id=\"line2d_279\">\r\n      <g>\r\n       <use style=\"stroke:#000000;stroke-width:0.8;\" x=\"33.2875\" xlink:href=\"#m2a888fa1a6\" y=\"134.457975\"/>\r\n      </g>\r\n     </g>\r\n     <g id=\"text_279\">\r\n      <!-- 270 -->\r\n      <g transform=\"translate(7.2 138.257193)scale(0.1 -0.1)\">\r\n       <use xlink:href=\"#DejaVuSans-50\"/>\r\n       <use x=\"63.623047\" xlink:href=\"#DejaVuSans-55\"/>\r\n       <use x=\"127.246094\" xlink:href=\"#DejaVuSans-48\"/>\r\n      </g>\r\n     </g>\r\n    </g>\r\n    <g id=\"ytick_272\">\r\n     <g id=\"line2d_280\">\r\n      <g>\r\n       <use style=\"stroke:#000000;stroke-width:0.8;\" x=\"33.2875\" xlink:href=\"#m2a888fa1a6\" y=\"134.11118\"/>\r\n      </g>\r\n     </g>\r\n     <g id=\"text_280\">\r\n      <!-- 271 -->\r\n      <g transform=\"translate(7.2 137.910399)scale(0.1 -0.1)\">\r\n       <use xlink:href=\"#DejaVuSans-50\"/>\r\n       <use x=\"63.623047\" xlink:href=\"#DejaVuSans-55\"/>\r\n       <use x=\"127.246094\" xlink:href=\"#DejaVuSans-49\"/>\r\n      </g>\r\n     </g>\r\n    </g>\r\n    <g id=\"ytick_273\">\r\n     <g id=\"line2d_281\">\r\n      <g>\r\n       <use style=\"stroke:#000000;stroke-width:0.8;\" x=\"33.2875\" xlink:href=\"#m2a888fa1a6\" y=\"133.764386\"/>\r\n      </g>\r\n     </g>\r\n     <g id=\"text_281\">\r\n      <!-- 272 -->\r\n      <g transform=\"translate(7.2 137.563605)scale(0.1 -0.1)\">\r\n       <use xlink:href=\"#DejaVuSans-50\"/>\r\n       <use x=\"63.623047\" xlink:href=\"#DejaVuSans-55\"/>\r\n       <use x=\"127.246094\" xlink:href=\"#DejaVuSans-50\"/>\r\n      </g>\r\n     </g>\r\n    </g>\r\n    <g id=\"ytick_274\">\r\n     <g id=\"line2d_282\">\r\n      <g>\r\n       <use style=\"stroke:#000000;stroke-width:0.8;\" x=\"33.2875\" xlink:href=\"#m2a888fa1a6\" y=\"133.417592\"/>\r\n      </g>\r\n     </g>\r\n     <g id=\"text_282\">\r\n      <!-- 273 -->\r\n      <g transform=\"translate(7.2 137.216811)scale(0.1 -0.1)\">\r\n       <use xlink:href=\"#DejaVuSans-50\"/>\r\n       <use x=\"63.623047\" xlink:href=\"#DejaVuSans-55\"/>\r\n       <use x=\"127.246094\" xlink:href=\"#DejaVuSans-51\"/>\r\n      </g>\r\n     </g>\r\n    </g>\r\n    <g id=\"ytick_275\">\r\n     <g id=\"line2d_283\">\r\n      <g>\r\n       <use style=\"stroke:#000000;stroke-width:0.8;\" x=\"33.2875\" xlink:href=\"#m2a888fa1a6\" y=\"133.070798\"/>\r\n      </g>\r\n     </g>\r\n     <g id=\"text_283\">\r\n      <!-- 274 -->\r\n      <g transform=\"translate(7.2 136.870016)scale(0.1 -0.1)\">\r\n       <use xlink:href=\"#DejaVuSans-50\"/>\r\n       <use x=\"63.623047\" xlink:href=\"#DejaVuSans-55\"/>\r\n       <use x=\"127.246094\" xlink:href=\"#DejaVuSans-52\"/>\r\n      </g>\r\n     </g>\r\n    </g>\r\n    <g id=\"ytick_276\">\r\n     <g id=\"line2d_284\">\r\n      <g>\r\n       <use style=\"stroke:#000000;stroke-width:0.8;\" x=\"33.2875\" xlink:href=\"#m2a888fa1a6\" y=\"132.724003\"/>\r\n      </g>\r\n     </g>\r\n     <g id=\"text_284\">\r\n      <!-- 275 -->\r\n      <g transform=\"translate(7.2 136.523222)scale(0.1 -0.1)\">\r\n       <use xlink:href=\"#DejaVuSans-50\"/>\r\n       <use x=\"63.623047\" xlink:href=\"#DejaVuSans-55\"/>\r\n       <use x=\"127.246094\" xlink:href=\"#DejaVuSans-53\"/>\r\n      </g>\r\n     </g>\r\n    </g>\r\n    <g id=\"ytick_277\">\r\n     <g id=\"line2d_285\">\r\n      <g>\r\n       <use style=\"stroke:#000000;stroke-width:0.8;\" x=\"33.2875\" xlink:href=\"#m2a888fa1a6\" y=\"132.377209\"/>\r\n      </g>\r\n     </g>\r\n     <g id=\"text_285\">\r\n      <!-- 276 -->\r\n      <g transform=\"translate(7.2 136.176428)scale(0.1 -0.1)\">\r\n       <use xlink:href=\"#DejaVuSans-50\"/>\r\n       <use x=\"63.623047\" xlink:href=\"#DejaVuSans-55\"/>\r\n       <use x=\"127.246094\" xlink:href=\"#DejaVuSans-54\"/>\r\n      </g>\r\n     </g>\r\n    </g>\r\n    <g id=\"ytick_278\">\r\n     <g id=\"line2d_286\">\r\n      <g>\r\n       <use style=\"stroke:#000000;stroke-width:0.8;\" x=\"33.2875\" xlink:href=\"#m2a888fa1a6\" y=\"132.030415\"/>\r\n      </g>\r\n     </g>\r\n     <g id=\"text_286\">\r\n      <!-- 277 -->\r\n      <g transform=\"translate(7.2 135.829634)scale(0.1 -0.1)\">\r\n       <use xlink:href=\"#DejaVuSans-50\"/>\r\n       <use x=\"63.623047\" xlink:href=\"#DejaVuSans-55\"/>\r\n       <use x=\"127.246094\" xlink:href=\"#DejaVuSans-55\"/>\r\n      </g>\r\n     </g>\r\n    </g>\r\n    <g id=\"ytick_279\">\r\n     <g id=\"line2d_287\">\r\n      <g>\r\n       <use style=\"stroke:#000000;stroke-width:0.8;\" x=\"33.2875\" xlink:href=\"#m2a888fa1a6\" y=\"131.683621\"/>\r\n      </g>\r\n     </g>\r\n     <g id=\"text_287\">\r\n      <!-- 278 -->\r\n      <g transform=\"translate(7.2 135.482839)scale(0.1 -0.1)\">\r\n       <use xlink:href=\"#DejaVuSans-50\"/>\r\n       <use x=\"63.623047\" xlink:href=\"#DejaVuSans-55\"/>\r\n       <use x=\"127.246094\" xlink:href=\"#DejaVuSans-56\"/>\r\n      </g>\r\n     </g>\r\n    </g>\r\n    <g id=\"ytick_280\">\r\n     <g id=\"line2d_288\">\r\n      <g>\r\n       <use style=\"stroke:#000000;stroke-width:0.8;\" x=\"33.2875\" xlink:href=\"#m2a888fa1a6\" y=\"131.336826\"/>\r\n      </g>\r\n     </g>\r\n     <g id=\"text_288\">\r\n      <!-- 279 -->\r\n      <g transform=\"translate(7.2 135.136045)scale(0.1 -0.1)\">\r\n       <use xlink:href=\"#DejaVuSans-50\"/>\r\n       <use x=\"63.623047\" xlink:href=\"#DejaVuSans-55\"/>\r\n       <use x=\"127.246094\" xlink:href=\"#DejaVuSans-57\"/>\r\n      </g>\r\n     </g>\r\n    </g>\r\n    <g id=\"ytick_281\">\r\n     <g id=\"line2d_289\">\r\n      <g>\r\n       <use style=\"stroke:#000000;stroke-width:0.8;\" x=\"33.2875\" xlink:href=\"#m2a888fa1a6\" y=\"130.990032\"/>\r\n      </g>\r\n     </g>\r\n     <g id=\"text_289\">\r\n      <!-- 280 -->\r\n      <g transform=\"translate(7.2 134.789251)scale(0.1 -0.1)\">\r\n       <use xlink:href=\"#DejaVuSans-50\"/>\r\n       <use x=\"63.623047\" xlink:href=\"#DejaVuSans-56\"/>\r\n       <use x=\"127.246094\" xlink:href=\"#DejaVuSans-48\"/>\r\n      </g>\r\n     </g>\r\n    </g>\r\n    <g id=\"ytick_282\">\r\n     <g id=\"line2d_290\">\r\n      <g>\r\n       <use style=\"stroke:#000000;stroke-width:0.8;\" x=\"33.2875\" xlink:href=\"#m2a888fa1a6\" y=\"130.643238\"/>\r\n      </g>\r\n     </g>\r\n     <g id=\"text_290\">\r\n      <!-- 281 -->\r\n      <g transform=\"translate(7.2 134.442457)scale(0.1 -0.1)\">\r\n       <use xlink:href=\"#DejaVuSans-50\"/>\r\n       <use x=\"63.623047\" xlink:href=\"#DejaVuSans-56\"/>\r\n       <use x=\"127.246094\" xlink:href=\"#DejaVuSans-49\"/>\r\n      </g>\r\n     </g>\r\n    </g>\r\n    <g id=\"ytick_283\">\r\n     <g id=\"line2d_291\">\r\n      <g>\r\n       <use style=\"stroke:#000000;stroke-width:0.8;\" x=\"33.2875\" xlink:href=\"#m2a888fa1a6\" y=\"130.296444\"/>\r\n      </g>\r\n     </g>\r\n     <g id=\"text_291\">\r\n      <!-- 282 -->\r\n      <g transform=\"translate(7.2 134.095662)scale(0.1 -0.1)\">\r\n       <use xlink:href=\"#DejaVuSans-50\"/>\r\n       <use x=\"63.623047\" xlink:href=\"#DejaVuSans-56\"/>\r\n       <use x=\"127.246094\" xlink:href=\"#DejaVuSans-50\"/>\r\n      </g>\r\n     </g>\r\n    </g>\r\n    <g id=\"ytick_284\">\r\n     <g id=\"line2d_292\">\r\n      <g>\r\n       <use style=\"stroke:#000000;stroke-width:0.8;\" x=\"33.2875\" xlink:href=\"#m2a888fa1a6\" y=\"129.949649\"/>\r\n      </g>\r\n     </g>\r\n     <g id=\"text_292\">\r\n      <!-- 283 -->\r\n      <g transform=\"translate(7.2 133.748868)scale(0.1 -0.1)\">\r\n       <use xlink:href=\"#DejaVuSans-50\"/>\r\n       <use x=\"63.623047\" xlink:href=\"#DejaVuSans-56\"/>\r\n       <use x=\"127.246094\" xlink:href=\"#DejaVuSans-51\"/>\r\n      </g>\r\n     </g>\r\n    </g>\r\n    <g id=\"ytick_285\">\r\n     <g id=\"line2d_293\">\r\n      <g>\r\n       <use style=\"stroke:#000000;stroke-width:0.8;\" x=\"33.2875\" xlink:href=\"#m2a888fa1a6\" y=\"129.602855\"/>\r\n      </g>\r\n     </g>\r\n     <g id=\"text_293\">\r\n      <!-- 284 -->\r\n      <g transform=\"translate(7.2 133.402074)scale(0.1 -0.1)\">\r\n       <use xlink:href=\"#DejaVuSans-50\"/>\r\n       <use x=\"63.623047\" xlink:href=\"#DejaVuSans-56\"/>\r\n       <use x=\"127.246094\" xlink:href=\"#DejaVuSans-52\"/>\r\n      </g>\r\n     </g>\r\n    </g>\r\n    <g id=\"ytick_286\">\r\n     <g id=\"line2d_294\">\r\n      <g>\r\n       <use style=\"stroke:#000000;stroke-width:0.8;\" x=\"33.2875\" xlink:href=\"#m2a888fa1a6\" y=\"129.256061\"/>\r\n      </g>\r\n     </g>\r\n     <g id=\"text_294\">\r\n      <!-- 285 -->\r\n      <g transform=\"translate(7.2 133.05528)scale(0.1 -0.1)\">\r\n       <use xlink:href=\"#DejaVuSans-50\"/>\r\n       <use x=\"63.623047\" xlink:href=\"#DejaVuSans-56\"/>\r\n       <use x=\"127.246094\" xlink:href=\"#DejaVuSans-53\"/>\r\n      </g>\r\n     </g>\r\n    </g>\r\n    <g id=\"ytick_287\">\r\n     <g id=\"line2d_295\">\r\n      <g>\r\n       <use style=\"stroke:#000000;stroke-width:0.8;\" x=\"33.2875\" xlink:href=\"#m2a888fa1a6\" y=\"128.909267\"/>\r\n      </g>\r\n     </g>\r\n     <g id=\"text_295\">\r\n      <!-- 286 -->\r\n      <g transform=\"translate(7.2 132.708485)scale(0.1 -0.1)\">\r\n       <use xlink:href=\"#DejaVuSans-50\"/>\r\n       <use x=\"63.623047\" xlink:href=\"#DejaVuSans-56\"/>\r\n       <use x=\"127.246094\" xlink:href=\"#DejaVuSans-54\"/>\r\n      </g>\r\n     </g>\r\n    </g>\r\n    <g id=\"ytick_288\">\r\n     <g id=\"line2d_296\">\r\n      <g>\r\n       <use style=\"stroke:#000000;stroke-width:0.8;\" x=\"33.2875\" xlink:href=\"#m2a888fa1a6\" y=\"128.562472\"/>\r\n      </g>\r\n     </g>\r\n     <g id=\"text_296\">\r\n      <!-- 287 -->\r\n      <g transform=\"translate(7.2 132.361691)scale(0.1 -0.1)\">\r\n       <use xlink:href=\"#DejaVuSans-50\"/>\r\n       <use x=\"63.623047\" xlink:href=\"#DejaVuSans-56\"/>\r\n       <use x=\"127.246094\" xlink:href=\"#DejaVuSans-55\"/>\r\n      </g>\r\n     </g>\r\n    </g>\r\n    <g id=\"ytick_289\">\r\n     <g id=\"line2d_297\">\r\n      <g>\r\n       <use style=\"stroke:#000000;stroke-width:0.8;\" x=\"33.2875\" xlink:href=\"#m2a888fa1a6\" y=\"128.215678\"/>\r\n      </g>\r\n     </g>\r\n     <g id=\"text_297\">\r\n      <!-- 288 -->\r\n      <g transform=\"translate(7.2 132.014897)scale(0.1 -0.1)\">\r\n       <use xlink:href=\"#DejaVuSans-50\"/>\r\n       <use x=\"63.623047\" xlink:href=\"#DejaVuSans-56\"/>\r\n       <use x=\"127.246094\" xlink:href=\"#DejaVuSans-56\"/>\r\n      </g>\r\n     </g>\r\n    </g>\r\n    <g id=\"ytick_290\">\r\n     <g id=\"line2d_298\">\r\n      <g>\r\n       <use style=\"stroke:#000000;stroke-width:0.8;\" x=\"33.2875\" xlink:href=\"#m2a888fa1a6\" y=\"127.868884\"/>\r\n      </g>\r\n     </g>\r\n     <g id=\"text_298\">\r\n      <!-- 289 -->\r\n      <g transform=\"translate(7.2 131.668103)scale(0.1 -0.1)\">\r\n       <use xlink:href=\"#DejaVuSans-50\"/>\r\n       <use x=\"63.623047\" xlink:href=\"#DejaVuSans-56\"/>\r\n       <use x=\"127.246094\" xlink:href=\"#DejaVuSans-57\"/>\r\n      </g>\r\n     </g>\r\n    </g>\r\n    <g id=\"ytick_291\">\r\n     <g id=\"line2d_299\">\r\n      <g>\r\n       <use style=\"stroke:#000000;stroke-width:0.8;\" x=\"33.2875\" xlink:href=\"#m2a888fa1a6\" y=\"127.52209\"/>\r\n      </g>\r\n     </g>\r\n     <g id=\"text_299\">\r\n      <!-- 290 -->\r\n      <g transform=\"translate(7.2 131.321308)scale(0.1 -0.1)\">\r\n       <use xlink:href=\"#DejaVuSans-50\"/>\r\n       <use x=\"63.623047\" xlink:href=\"#DejaVuSans-57\"/>\r\n       <use x=\"127.246094\" xlink:href=\"#DejaVuSans-48\"/>\r\n      </g>\r\n     </g>\r\n    </g>\r\n    <g id=\"ytick_292\">\r\n     <g id=\"line2d_300\">\r\n      <g>\r\n       <use style=\"stroke:#000000;stroke-width:0.8;\" x=\"33.2875\" xlink:href=\"#m2a888fa1a6\" y=\"127.175295\"/>\r\n      </g>\r\n     </g>\r\n     <g id=\"text_300\">\r\n      <!-- 291 -->\r\n      <g transform=\"translate(7.2 130.974514)scale(0.1 -0.1)\">\r\n       <use xlink:href=\"#DejaVuSans-50\"/>\r\n       <use x=\"63.623047\" xlink:href=\"#DejaVuSans-57\"/>\r\n       <use x=\"127.246094\" xlink:href=\"#DejaVuSans-49\"/>\r\n      </g>\r\n     </g>\r\n    </g>\r\n    <g id=\"ytick_293\">\r\n     <g id=\"line2d_301\">\r\n      <g>\r\n       <use style=\"stroke:#000000;stroke-width:0.8;\" x=\"33.2875\" xlink:href=\"#m2a888fa1a6\" y=\"126.828501\"/>\r\n      </g>\r\n     </g>\r\n     <g id=\"text_301\">\r\n      <!-- 292 -->\r\n      <g transform=\"translate(7.2 130.62772)scale(0.1 -0.1)\">\r\n       <use xlink:href=\"#DejaVuSans-50\"/>\r\n       <use x=\"63.623047\" xlink:href=\"#DejaVuSans-57\"/>\r\n       <use x=\"127.246094\" xlink:href=\"#DejaVuSans-50\"/>\r\n      </g>\r\n     </g>\r\n    </g>\r\n    <g id=\"ytick_294\">\r\n     <g id=\"line2d_302\">\r\n      <g>\r\n       <use style=\"stroke:#000000;stroke-width:0.8;\" x=\"33.2875\" xlink:href=\"#m2a888fa1a6\" y=\"126.481707\"/>\r\n      </g>\r\n     </g>\r\n     <g id=\"text_302\">\r\n      <!-- 293 -->\r\n      <g transform=\"translate(7.2 130.280926)scale(0.1 -0.1)\">\r\n       <use xlink:href=\"#DejaVuSans-50\"/>\r\n       <use x=\"63.623047\" xlink:href=\"#DejaVuSans-57\"/>\r\n       <use x=\"127.246094\" xlink:href=\"#DejaVuSans-51\"/>\r\n      </g>\r\n     </g>\r\n    </g>\r\n    <g id=\"ytick_295\">\r\n     <g id=\"line2d_303\">\r\n      <g>\r\n       <use style=\"stroke:#000000;stroke-width:0.8;\" x=\"33.2875\" xlink:href=\"#m2a888fa1a6\" y=\"126.134913\"/>\r\n      </g>\r\n     </g>\r\n     <g id=\"text_303\">\r\n      <!-- 294 -->\r\n      <g transform=\"translate(7.2 129.934131)scale(0.1 -0.1)\">\r\n       <use xlink:href=\"#DejaVuSans-50\"/>\r\n       <use x=\"63.623047\" xlink:href=\"#DejaVuSans-57\"/>\r\n       <use x=\"127.246094\" xlink:href=\"#DejaVuSans-52\"/>\r\n      </g>\r\n     </g>\r\n    </g>\r\n    <g id=\"ytick_296\">\r\n     <g id=\"line2d_304\">\r\n      <g>\r\n       <use style=\"stroke:#000000;stroke-width:0.8;\" x=\"33.2875\" xlink:href=\"#m2a888fa1a6\" y=\"125.788118\"/>\r\n      </g>\r\n     </g>\r\n     <g id=\"text_304\">\r\n      <!-- 295 -->\r\n      <g transform=\"translate(7.2 129.587337)scale(0.1 -0.1)\">\r\n       <use xlink:href=\"#DejaVuSans-50\"/>\r\n       <use x=\"63.623047\" xlink:href=\"#DejaVuSans-57\"/>\r\n       <use x=\"127.246094\" xlink:href=\"#DejaVuSans-53\"/>\r\n      </g>\r\n     </g>\r\n    </g>\r\n    <g id=\"ytick_297\">\r\n     <g id=\"line2d_305\">\r\n      <g>\r\n       <use style=\"stroke:#000000;stroke-width:0.8;\" x=\"33.2875\" xlink:href=\"#m2a888fa1a6\" y=\"125.441324\"/>\r\n      </g>\r\n     </g>\r\n     <g id=\"text_305\">\r\n      <!-- 296 -->\r\n      <g transform=\"translate(7.2 129.240543)scale(0.1 -0.1)\">\r\n       <use xlink:href=\"#DejaVuSans-50\"/>\r\n       <use x=\"63.623047\" xlink:href=\"#DejaVuSans-57\"/>\r\n       <use x=\"127.246094\" xlink:href=\"#DejaVuSans-54\"/>\r\n      </g>\r\n     </g>\r\n    </g>\r\n    <g id=\"ytick_298\">\r\n     <g id=\"line2d_306\">\r\n      <g>\r\n       <use style=\"stroke:#000000;stroke-width:0.8;\" x=\"33.2875\" xlink:href=\"#m2a888fa1a6\" y=\"125.09453\"/>\r\n      </g>\r\n     </g>\r\n     <g id=\"text_306\">\r\n      <!-- 297 -->\r\n      <g transform=\"translate(7.2 128.893749)scale(0.1 -0.1)\">\r\n       <use xlink:href=\"#DejaVuSans-50\"/>\r\n       <use x=\"63.623047\" xlink:href=\"#DejaVuSans-57\"/>\r\n       <use x=\"127.246094\" xlink:href=\"#DejaVuSans-55\"/>\r\n      </g>\r\n     </g>\r\n    </g>\r\n    <g id=\"ytick_299\">\r\n     <g id=\"line2d_307\">\r\n      <g>\r\n       <use style=\"stroke:#000000;stroke-width:0.8;\" x=\"33.2875\" xlink:href=\"#m2a888fa1a6\" y=\"124.747735\"/>\r\n      </g>\r\n     </g>\r\n     <g id=\"text_307\">\r\n      <!-- 298 -->\r\n      <g transform=\"translate(7.2 128.546954)scale(0.1 -0.1)\">\r\n       <use xlink:href=\"#DejaVuSans-50\"/>\r\n       <use x=\"63.623047\" xlink:href=\"#DejaVuSans-57\"/>\r\n       <use x=\"127.246094\" xlink:href=\"#DejaVuSans-56\"/>\r\n      </g>\r\n     </g>\r\n    </g>\r\n    <g id=\"ytick_300\">\r\n     <g id=\"line2d_308\">\r\n      <g>\r\n       <use style=\"stroke:#000000;stroke-width:0.8;\" x=\"33.2875\" xlink:href=\"#m2a888fa1a6\" y=\"124.400941\"/>\r\n      </g>\r\n     </g>\r\n     <g id=\"text_308\">\r\n      <!-- 299 -->\r\n      <g transform=\"translate(7.2 128.20016)scale(0.1 -0.1)\">\r\n       <use xlink:href=\"#DejaVuSans-50\"/>\r\n       <use x=\"63.623047\" xlink:href=\"#DejaVuSans-57\"/>\r\n       <use x=\"127.246094\" xlink:href=\"#DejaVuSans-57\"/>\r\n      </g>\r\n     </g>\r\n    </g>\r\n    <g id=\"ytick_301\">\r\n     <g id=\"line2d_309\">\r\n      <g>\r\n       <use style=\"stroke:#000000;stroke-width:0.8;\" x=\"33.2875\" xlink:href=\"#m2a888fa1a6\" y=\"124.054147\"/>\r\n      </g>\r\n     </g>\r\n     <g id=\"text_309\">\r\n      <!-- 300 -->\r\n      <g transform=\"translate(7.2 127.853366)scale(0.1 -0.1)\">\r\n       <use xlink:href=\"#DejaVuSans-51\"/>\r\n       <use x=\"63.623047\" xlink:href=\"#DejaVuSans-48\"/>\r\n       <use x=\"127.246094\" xlink:href=\"#DejaVuSans-48\"/>\r\n      </g>\r\n     </g>\r\n    </g>\r\n    <g id=\"ytick_302\">\r\n     <g id=\"line2d_310\">\r\n      <g>\r\n       <use style=\"stroke:#000000;stroke-width:0.8;\" x=\"33.2875\" xlink:href=\"#m2a888fa1a6\" y=\"123.707353\"/>\r\n      </g>\r\n     </g>\r\n     <g id=\"text_310\">\r\n      <!-- 301 -->\r\n      <g transform=\"translate(7.2 127.506571)scale(0.1 -0.1)\">\r\n       <use xlink:href=\"#DejaVuSans-51\"/>\r\n       <use x=\"63.623047\" xlink:href=\"#DejaVuSans-48\"/>\r\n       <use x=\"127.246094\" xlink:href=\"#DejaVuSans-49\"/>\r\n      </g>\r\n     </g>\r\n    </g>\r\n    <g id=\"ytick_303\">\r\n     <g id=\"line2d_311\">\r\n      <g>\r\n       <use style=\"stroke:#000000;stroke-width:0.8;\" x=\"33.2875\" xlink:href=\"#m2a888fa1a6\" y=\"123.360558\"/>\r\n      </g>\r\n     </g>\r\n     <g id=\"text_311\">\r\n      <!-- 302 -->\r\n      <g transform=\"translate(7.2 127.159777)scale(0.1 -0.1)\">\r\n       <use xlink:href=\"#DejaVuSans-51\"/>\r\n       <use x=\"63.623047\" xlink:href=\"#DejaVuSans-48\"/>\r\n       <use x=\"127.246094\" xlink:href=\"#DejaVuSans-50\"/>\r\n      </g>\r\n     </g>\r\n    </g>\r\n    <g id=\"ytick_304\">\r\n     <g id=\"line2d_312\">\r\n      <g>\r\n       <use style=\"stroke:#000000;stroke-width:0.8;\" x=\"33.2875\" xlink:href=\"#m2a888fa1a6\" y=\"123.013764\"/>\r\n      </g>\r\n     </g>\r\n     <g id=\"text_312\">\r\n      <!-- 303 -->\r\n      <g transform=\"translate(7.2 126.812983)scale(0.1 -0.1)\">\r\n       <use xlink:href=\"#DejaVuSans-51\"/>\r\n       <use x=\"63.623047\" xlink:href=\"#DejaVuSans-48\"/>\r\n       <use x=\"127.246094\" xlink:href=\"#DejaVuSans-51\"/>\r\n      </g>\r\n     </g>\r\n    </g>\r\n    <g id=\"ytick_305\">\r\n     <g id=\"line2d_313\">\r\n      <g>\r\n       <use style=\"stroke:#000000;stroke-width:0.8;\" x=\"33.2875\" xlink:href=\"#m2a888fa1a6\" y=\"122.66697\"/>\r\n      </g>\r\n     </g>\r\n     <g id=\"text_313\">\r\n      <!-- 304 -->\r\n      <g transform=\"translate(7.2 126.466189)scale(0.1 -0.1)\">\r\n       <use xlink:href=\"#DejaVuSans-51\"/>\r\n       <use x=\"63.623047\" xlink:href=\"#DejaVuSans-48\"/>\r\n       <use x=\"127.246094\" xlink:href=\"#DejaVuSans-52\"/>\r\n      </g>\r\n     </g>\r\n    </g>\r\n    <g id=\"ytick_306\">\r\n     <g id=\"line2d_314\">\r\n      <g>\r\n       <use style=\"stroke:#000000;stroke-width:0.8;\" x=\"33.2875\" xlink:href=\"#m2a888fa1a6\" y=\"122.320176\"/>\r\n      </g>\r\n     </g>\r\n     <g id=\"text_314\">\r\n      <!-- 305 -->\r\n      <g transform=\"translate(7.2 126.119394)scale(0.1 -0.1)\">\r\n       <use xlink:href=\"#DejaVuSans-51\"/>\r\n       <use x=\"63.623047\" xlink:href=\"#DejaVuSans-48\"/>\r\n       <use x=\"127.246094\" xlink:href=\"#DejaVuSans-53\"/>\r\n      </g>\r\n     </g>\r\n    </g>\r\n    <g id=\"ytick_307\">\r\n     <g id=\"line2d_315\">\r\n      <g>\r\n       <use style=\"stroke:#000000;stroke-width:0.8;\" x=\"33.2875\" xlink:href=\"#m2a888fa1a6\" y=\"121.973381\"/>\r\n      </g>\r\n     </g>\r\n     <g id=\"text_315\">\r\n      <!-- 306 -->\r\n      <g transform=\"translate(7.2 125.7726)scale(0.1 -0.1)\">\r\n       <use xlink:href=\"#DejaVuSans-51\"/>\r\n       <use x=\"63.623047\" xlink:href=\"#DejaVuSans-48\"/>\r\n       <use x=\"127.246094\" xlink:href=\"#DejaVuSans-54\"/>\r\n      </g>\r\n     </g>\r\n    </g>\r\n    <g id=\"ytick_308\">\r\n     <g id=\"line2d_316\">\r\n      <g>\r\n       <use style=\"stroke:#000000;stroke-width:0.8;\" x=\"33.2875\" xlink:href=\"#m2a888fa1a6\" y=\"121.626587\"/>\r\n      </g>\r\n     </g>\r\n     <g id=\"text_316\">\r\n      <!-- 307 -->\r\n      <g transform=\"translate(7.2 125.425806)scale(0.1 -0.1)\">\r\n       <use xlink:href=\"#DejaVuSans-51\"/>\r\n       <use x=\"63.623047\" xlink:href=\"#DejaVuSans-48\"/>\r\n       <use x=\"127.246094\" xlink:href=\"#DejaVuSans-55\"/>\r\n      </g>\r\n     </g>\r\n    </g>\r\n    <g id=\"ytick_309\">\r\n     <g id=\"line2d_317\">\r\n      <g>\r\n       <use style=\"stroke:#000000;stroke-width:0.8;\" x=\"33.2875\" xlink:href=\"#m2a888fa1a6\" y=\"121.279793\"/>\r\n      </g>\r\n     </g>\r\n     <g id=\"text_317\">\r\n      <!-- 308 -->\r\n      <g transform=\"translate(7.2 125.079012)scale(0.1 -0.1)\">\r\n       <use xlink:href=\"#DejaVuSans-51\"/>\r\n       <use x=\"63.623047\" xlink:href=\"#DejaVuSans-48\"/>\r\n       <use x=\"127.246094\" xlink:href=\"#DejaVuSans-56\"/>\r\n      </g>\r\n     </g>\r\n    </g>\r\n    <g id=\"ytick_310\">\r\n     <g id=\"line2d_318\">\r\n      <g>\r\n       <use style=\"stroke:#000000;stroke-width:0.8;\" x=\"33.2875\" xlink:href=\"#m2a888fa1a6\" y=\"120.932999\"/>\r\n      </g>\r\n     </g>\r\n     <g id=\"text_318\">\r\n      <!-- 309 -->\r\n      <g transform=\"translate(7.2 124.732217)scale(0.1 -0.1)\">\r\n       <use xlink:href=\"#DejaVuSans-51\"/>\r\n       <use x=\"63.623047\" xlink:href=\"#DejaVuSans-48\"/>\r\n       <use x=\"127.246094\" xlink:href=\"#DejaVuSans-57\"/>\r\n      </g>\r\n     </g>\r\n    </g>\r\n    <g id=\"ytick_311\">\r\n     <g id=\"line2d_319\">\r\n      <g>\r\n       <use style=\"stroke:#000000;stroke-width:0.8;\" x=\"33.2875\" xlink:href=\"#m2a888fa1a6\" y=\"120.586204\"/>\r\n      </g>\r\n     </g>\r\n     <g id=\"text_319\">\r\n      <!-- 310 -->\r\n      <g transform=\"translate(7.2 124.385423)scale(0.1 -0.1)\">\r\n       <use xlink:href=\"#DejaVuSans-51\"/>\r\n       <use x=\"63.623047\" xlink:href=\"#DejaVuSans-49\"/>\r\n       <use x=\"127.246094\" xlink:href=\"#DejaVuSans-48\"/>\r\n      </g>\r\n     </g>\r\n    </g>\r\n    <g id=\"ytick_312\">\r\n     <g id=\"line2d_320\">\r\n      <g>\r\n       <use style=\"stroke:#000000;stroke-width:0.8;\" x=\"33.2875\" xlink:href=\"#m2a888fa1a6\" y=\"120.23941\"/>\r\n      </g>\r\n     </g>\r\n     <g id=\"text_320\">\r\n      <!-- 311 -->\r\n      <g transform=\"translate(7.2 124.038629)scale(0.1 -0.1)\">\r\n       <use xlink:href=\"#DejaVuSans-51\"/>\r\n       <use x=\"63.623047\" xlink:href=\"#DejaVuSans-49\"/>\r\n       <use x=\"127.246094\" xlink:href=\"#DejaVuSans-49\"/>\r\n      </g>\r\n     </g>\r\n    </g>\r\n    <g id=\"ytick_313\">\r\n     <g id=\"line2d_321\">\r\n      <g>\r\n       <use style=\"stroke:#000000;stroke-width:0.8;\" x=\"33.2875\" xlink:href=\"#m2a888fa1a6\" y=\"119.892616\"/>\r\n      </g>\r\n     </g>\r\n     <g id=\"text_321\">\r\n      <!-- 312 -->\r\n      <g transform=\"translate(7.2 123.691835)scale(0.1 -0.1)\">\r\n       <use xlink:href=\"#DejaVuSans-51\"/>\r\n       <use x=\"63.623047\" xlink:href=\"#DejaVuSans-49\"/>\r\n       <use x=\"127.246094\" xlink:href=\"#DejaVuSans-50\"/>\r\n      </g>\r\n     </g>\r\n    </g>\r\n    <g id=\"ytick_314\">\r\n     <g id=\"line2d_322\">\r\n      <g>\r\n       <use style=\"stroke:#000000;stroke-width:0.8;\" x=\"33.2875\" xlink:href=\"#m2a888fa1a6\" y=\"119.545822\"/>\r\n      </g>\r\n     </g>\r\n     <g id=\"text_322\">\r\n      <!-- 313 -->\r\n      <g transform=\"translate(7.2 123.34504)scale(0.1 -0.1)\">\r\n       <use xlink:href=\"#DejaVuSans-51\"/>\r\n       <use x=\"63.623047\" xlink:href=\"#DejaVuSans-49\"/>\r\n       <use x=\"127.246094\" xlink:href=\"#DejaVuSans-51\"/>\r\n      </g>\r\n     </g>\r\n    </g>\r\n    <g id=\"ytick_315\">\r\n     <g id=\"line2d_323\">\r\n      <g>\r\n       <use style=\"stroke:#000000;stroke-width:0.8;\" x=\"33.2875\" xlink:href=\"#m2a888fa1a6\" y=\"119.199027\"/>\r\n      </g>\r\n     </g>\r\n     <g id=\"text_323\">\r\n      <!-- 314 -->\r\n      <g transform=\"translate(7.2 122.998246)scale(0.1 -0.1)\">\r\n       <use xlink:href=\"#DejaVuSans-51\"/>\r\n       <use x=\"63.623047\" xlink:href=\"#DejaVuSans-49\"/>\r\n       <use x=\"127.246094\" xlink:href=\"#DejaVuSans-52\"/>\r\n      </g>\r\n     </g>\r\n    </g>\r\n    <g id=\"ytick_316\">\r\n     <g id=\"line2d_324\">\r\n      <g>\r\n       <use style=\"stroke:#000000;stroke-width:0.8;\" x=\"33.2875\" xlink:href=\"#m2a888fa1a6\" y=\"118.852233\"/>\r\n      </g>\r\n     </g>\r\n     <g id=\"text_324\">\r\n      <!-- 315 -->\r\n      <g transform=\"translate(7.2 122.651452)scale(0.1 -0.1)\">\r\n       <use xlink:href=\"#DejaVuSans-51\"/>\r\n       <use x=\"63.623047\" xlink:href=\"#DejaVuSans-49\"/>\r\n       <use x=\"127.246094\" xlink:href=\"#DejaVuSans-53\"/>\r\n      </g>\r\n     </g>\r\n    </g>\r\n    <g id=\"ytick_317\">\r\n     <g id=\"line2d_325\">\r\n      <g>\r\n       <use style=\"stroke:#000000;stroke-width:0.8;\" x=\"33.2875\" xlink:href=\"#m2a888fa1a6\" y=\"118.505439\"/>\r\n      </g>\r\n     </g>\r\n     <g id=\"text_325\">\r\n      <!-- 316 -->\r\n      <g transform=\"translate(7.2 122.304658)scale(0.1 -0.1)\">\r\n       <use xlink:href=\"#DejaVuSans-51\"/>\r\n       <use x=\"63.623047\" xlink:href=\"#DejaVuSans-49\"/>\r\n       <use x=\"127.246094\" xlink:href=\"#DejaVuSans-54\"/>\r\n      </g>\r\n     </g>\r\n    </g>\r\n    <g id=\"ytick_318\">\r\n     <g id=\"line2d_326\">\r\n      <g>\r\n       <use style=\"stroke:#000000;stroke-width:0.8;\" x=\"33.2875\" xlink:href=\"#m2a888fa1a6\" y=\"118.158645\"/>\r\n      </g>\r\n     </g>\r\n     <g id=\"text_326\">\r\n      <!-- 317 -->\r\n      <g transform=\"translate(7.2 121.957863)scale(0.1 -0.1)\">\r\n       <use xlink:href=\"#DejaVuSans-51\"/>\r\n       <use x=\"63.623047\" xlink:href=\"#DejaVuSans-49\"/>\r\n       <use x=\"127.246094\" xlink:href=\"#DejaVuSans-55\"/>\r\n      </g>\r\n     </g>\r\n    </g>\r\n    <g id=\"ytick_319\">\r\n     <g id=\"line2d_327\">\r\n      <g>\r\n       <use style=\"stroke:#000000;stroke-width:0.8;\" x=\"33.2875\" xlink:href=\"#m2a888fa1a6\" y=\"117.81185\"/>\r\n      </g>\r\n     </g>\r\n     <g id=\"text_327\">\r\n      <!-- 318 -->\r\n      <g transform=\"translate(7.2 121.611069)scale(0.1 -0.1)\">\r\n       <use xlink:href=\"#DejaVuSans-51\"/>\r\n       <use x=\"63.623047\" xlink:href=\"#DejaVuSans-49\"/>\r\n       <use x=\"127.246094\" xlink:href=\"#DejaVuSans-56\"/>\r\n      </g>\r\n     </g>\r\n    </g>\r\n    <g id=\"ytick_320\">\r\n     <g id=\"line2d_328\">\r\n      <g>\r\n       <use style=\"stroke:#000000;stroke-width:0.8;\" x=\"33.2875\" xlink:href=\"#m2a888fa1a6\" y=\"117.465056\"/>\r\n      </g>\r\n     </g>\r\n     <g id=\"text_328\">\r\n      <!-- 319 -->\r\n      <g transform=\"translate(7.2 121.264275)scale(0.1 -0.1)\">\r\n       <use xlink:href=\"#DejaVuSans-51\"/>\r\n       <use x=\"63.623047\" xlink:href=\"#DejaVuSans-49\"/>\r\n       <use x=\"127.246094\" xlink:href=\"#DejaVuSans-57\"/>\r\n      </g>\r\n     </g>\r\n    </g>\r\n    <g id=\"ytick_321\">\r\n     <g id=\"line2d_329\">\r\n      <g>\r\n       <use style=\"stroke:#000000;stroke-width:0.8;\" x=\"33.2875\" xlink:href=\"#m2a888fa1a6\" y=\"117.118262\"/>\r\n      </g>\r\n     </g>\r\n     <g id=\"text_329\">\r\n      <!-- 320 -->\r\n      <g transform=\"translate(7.2 120.917481)scale(0.1 -0.1)\">\r\n       <use xlink:href=\"#DejaVuSans-51\"/>\r\n       <use x=\"63.623047\" xlink:href=\"#DejaVuSans-50\"/>\r\n       <use x=\"127.246094\" xlink:href=\"#DejaVuSans-48\"/>\r\n      </g>\r\n     </g>\r\n    </g>\r\n    <g id=\"ytick_322\">\r\n     <g id=\"line2d_330\">\r\n      <g>\r\n       <use style=\"stroke:#000000;stroke-width:0.8;\" x=\"33.2875\" xlink:href=\"#m2a888fa1a6\" y=\"116.771468\"/>\r\n      </g>\r\n     </g>\r\n     <g id=\"text_330\">\r\n      <!-- 321 -->\r\n      <g transform=\"translate(7.2 120.570686)scale(0.1 -0.1)\">\r\n       <use xlink:href=\"#DejaVuSans-51\"/>\r\n       <use x=\"63.623047\" xlink:href=\"#DejaVuSans-50\"/>\r\n       <use x=\"127.246094\" xlink:href=\"#DejaVuSans-49\"/>\r\n      </g>\r\n     </g>\r\n    </g>\r\n    <g id=\"ytick_323\">\r\n     <g id=\"line2d_331\">\r\n      <g>\r\n       <use style=\"stroke:#000000;stroke-width:0.8;\" x=\"33.2875\" xlink:href=\"#m2a888fa1a6\" y=\"116.424673\"/>\r\n      </g>\r\n     </g>\r\n     <g id=\"text_331\">\r\n      <!-- 322 -->\r\n      <g transform=\"translate(7.2 120.223892)scale(0.1 -0.1)\">\r\n       <use xlink:href=\"#DejaVuSans-51\"/>\r\n       <use x=\"63.623047\" xlink:href=\"#DejaVuSans-50\"/>\r\n       <use x=\"127.246094\" xlink:href=\"#DejaVuSans-50\"/>\r\n      </g>\r\n     </g>\r\n    </g>\r\n    <g id=\"ytick_324\">\r\n     <g id=\"line2d_332\">\r\n      <g>\r\n       <use style=\"stroke:#000000;stroke-width:0.8;\" x=\"33.2875\" xlink:href=\"#m2a888fa1a6\" y=\"116.077879\"/>\r\n      </g>\r\n     </g>\r\n     <g id=\"text_332\">\r\n      <!-- 323 -->\r\n      <g transform=\"translate(7.2 119.877098)scale(0.1 -0.1)\">\r\n       <use xlink:href=\"#DejaVuSans-51\"/>\r\n       <use x=\"63.623047\" xlink:href=\"#DejaVuSans-50\"/>\r\n       <use x=\"127.246094\" xlink:href=\"#DejaVuSans-51\"/>\r\n      </g>\r\n     </g>\r\n    </g>\r\n    <g id=\"ytick_325\">\r\n     <g id=\"line2d_333\">\r\n      <g>\r\n       <use style=\"stroke:#000000;stroke-width:0.8;\" x=\"33.2875\" xlink:href=\"#m2a888fa1a6\" y=\"115.731085\"/>\r\n      </g>\r\n     </g>\r\n     <g id=\"text_333\">\r\n      <!-- 324 -->\r\n      <g transform=\"translate(7.2 119.530304)scale(0.1 -0.1)\">\r\n       <use xlink:href=\"#DejaVuSans-51\"/>\r\n       <use x=\"63.623047\" xlink:href=\"#DejaVuSans-50\"/>\r\n       <use x=\"127.246094\" xlink:href=\"#DejaVuSans-52\"/>\r\n      </g>\r\n     </g>\r\n    </g>\r\n    <g id=\"ytick_326\">\r\n     <g id=\"line2d_334\">\r\n      <g>\r\n       <use style=\"stroke:#000000;stroke-width:0.8;\" x=\"33.2875\" xlink:href=\"#m2a888fa1a6\" y=\"115.384291\"/>\r\n      </g>\r\n     </g>\r\n     <g id=\"text_334\">\r\n      <!-- 325 -->\r\n      <g transform=\"translate(7.2 119.183509)scale(0.1 -0.1)\">\r\n       <use xlink:href=\"#DejaVuSans-51\"/>\r\n       <use x=\"63.623047\" xlink:href=\"#DejaVuSans-50\"/>\r\n       <use x=\"127.246094\" xlink:href=\"#DejaVuSans-53\"/>\r\n      </g>\r\n     </g>\r\n    </g>\r\n    <g id=\"ytick_327\">\r\n     <g id=\"line2d_335\">\r\n      <g>\r\n       <use style=\"stroke:#000000;stroke-width:0.8;\" x=\"33.2875\" xlink:href=\"#m2a888fa1a6\" y=\"115.037496\"/>\r\n      </g>\r\n     </g>\r\n     <g id=\"text_335\">\r\n      <!-- 326 -->\r\n      <g transform=\"translate(7.2 118.836715)scale(0.1 -0.1)\">\r\n       <use xlink:href=\"#DejaVuSans-51\"/>\r\n       <use x=\"63.623047\" xlink:href=\"#DejaVuSans-50\"/>\r\n       <use x=\"127.246094\" xlink:href=\"#DejaVuSans-54\"/>\r\n      </g>\r\n     </g>\r\n    </g>\r\n    <g id=\"ytick_328\">\r\n     <g id=\"line2d_336\">\r\n      <g>\r\n       <use style=\"stroke:#000000;stroke-width:0.8;\" x=\"33.2875\" xlink:href=\"#m2a888fa1a6\" y=\"114.690702\"/>\r\n      </g>\r\n     </g>\r\n     <g id=\"text_336\">\r\n      <!-- 327 -->\r\n      <g transform=\"translate(7.2 118.489921)scale(0.1 -0.1)\">\r\n       <use xlink:href=\"#DejaVuSans-51\"/>\r\n       <use x=\"63.623047\" xlink:href=\"#DejaVuSans-50\"/>\r\n       <use x=\"127.246094\" xlink:href=\"#DejaVuSans-55\"/>\r\n      </g>\r\n     </g>\r\n    </g>\r\n    <g id=\"ytick_329\">\r\n     <g id=\"line2d_337\">\r\n      <g>\r\n       <use style=\"stroke:#000000;stroke-width:0.8;\" x=\"33.2875\" xlink:href=\"#m2a888fa1a6\" y=\"114.343908\"/>\r\n      </g>\r\n     </g>\r\n     <g id=\"text_337\">\r\n      <!-- 328 -->\r\n      <g transform=\"translate(7.2 118.143126)scale(0.1 -0.1)\">\r\n       <use xlink:href=\"#DejaVuSans-51\"/>\r\n       <use x=\"63.623047\" xlink:href=\"#DejaVuSans-50\"/>\r\n       <use x=\"127.246094\" xlink:href=\"#DejaVuSans-56\"/>\r\n      </g>\r\n     </g>\r\n    </g>\r\n    <g id=\"ytick_330\">\r\n     <g id=\"line2d_338\">\r\n      <g>\r\n       <use style=\"stroke:#000000;stroke-width:0.8;\" x=\"33.2875\" xlink:href=\"#m2a888fa1a6\" y=\"113.997113\"/>\r\n      </g>\r\n     </g>\r\n     <g id=\"text_338\">\r\n      <!-- 329 -->\r\n      <g transform=\"translate(7.2 117.796332)scale(0.1 -0.1)\">\r\n       <use xlink:href=\"#DejaVuSans-51\"/>\r\n       <use x=\"63.623047\" xlink:href=\"#DejaVuSans-50\"/>\r\n       <use x=\"127.246094\" xlink:href=\"#DejaVuSans-57\"/>\r\n      </g>\r\n     </g>\r\n    </g>\r\n    <g id=\"ytick_331\">\r\n     <g id=\"line2d_339\">\r\n      <g>\r\n       <use style=\"stroke:#000000;stroke-width:0.8;\" x=\"33.2875\" xlink:href=\"#m2a888fa1a6\" y=\"113.650319\"/>\r\n      </g>\r\n     </g>\r\n     <g id=\"text_339\">\r\n      <!-- 330 -->\r\n      <g transform=\"translate(7.2 117.449538)scale(0.1 -0.1)\">\r\n       <use xlink:href=\"#DejaVuSans-51\"/>\r\n       <use x=\"63.623047\" xlink:href=\"#DejaVuSans-51\"/>\r\n       <use x=\"127.246094\" xlink:href=\"#DejaVuSans-48\"/>\r\n      </g>\r\n     </g>\r\n    </g>\r\n    <g id=\"ytick_332\">\r\n     <g id=\"line2d_340\">\r\n      <g>\r\n       <use style=\"stroke:#000000;stroke-width:0.8;\" x=\"33.2875\" xlink:href=\"#m2a888fa1a6\" y=\"113.303525\"/>\r\n      </g>\r\n     </g>\r\n     <g id=\"text_340\">\r\n      <!-- 331 -->\r\n      <g transform=\"translate(7.2 117.102744)scale(0.1 -0.1)\">\r\n       <use xlink:href=\"#DejaVuSans-51\"/>\r\n       <use x=\"63.623047\" xlink:href=\"#DejaVuSans-51\"/>\r\n       <use x=\"127.246094\" xlink:href=\"#DejaVuSans-49\"/>\r\n      </g>\r\n     </g>\r\n    </g>\r\n    <g id=\"ytick_333\">\r\n     <g id=\"line2d_341\">\r\n      <g>\r\n       <use style=\"stroke:#000000;stroke-width:0.8;\" x=\"33.2875\" xlink:href=\"#m2a888fa1a6\" y=\"112.956731\"/>\r\n      </g>\r\n     </g>\r\n     <g id=\"text_341\">\r\n      <!-- 332 -->\r\n      <g transform=\"translate(7.2 116.755949)scale(0.1 -0.1)\">\r\n       <use xlink:href=\"#DejaVuSans-51\"/>\r\n       <use x=\"63.623047\" xlink:href=\"#DejaVuSans-51\"/>\r\n       <use x=\"127.246094\" xlink:href=\"#DejaVuSans-50\"/>\r\n      </g>\r\n     </g>\r\n    </g>\r\n    <g id=\"ytick_334\">\r\n     <g id=\"line2d_342\">\r\n      <g>\r\n       <use style=\"stroke:#000000;stroke-width:0.8;\" x=\"33.2875\" xlink:href=\"#m2a888fa1a6\" y=\"112.609936\"/>\r\n      </g>\r\n     </g>\r\n     <g id=\"text_342\">\r\n      <!-- 333 -->\r\n      <g transform=\"translate(7.2 116.409155)scale(0.1 -0.1)\">\r\n       <use xlink:href=\"#DejaVuSans-51\"/>\r\n       <use x=\"63.623047\" xlink:href=\"#DejaVuSans-51\"/>\r\n       <use x=\"127.246094\" xlink:href=\"#DejaVuSans-51\"/>\r\n      </g>\r\n     </g>\r\n    </g>\r\n    <g id=\"ytick_335\">\r\n     <g id=\"line2d_343\">\r\n      <g>\r\n       <use style=\"stroke:#000000;stroke-width:0.8;\" x=\"33.2875\" xlink:href=\"#m2a888fa1a6\" y=\"112.263142\"/>\r\n      </g>\r\n     </g>\r\n     <g id=\"text_343\">\r\n      <!-- 334 -->\r\n      <g transform=\"translate(7.2 116.062361)scale(0.1 -0.1)\">\r\n       <use xlink:href=\"#DejaVuSans-51\"/>\r\n       <use x=\"63.623047\" xlink:href=\"#DejaVuSans-51\"/>\r\n       <use x=\"127.246094\" xlink:href=\"#DejaVuSans-52\"/>\r\n      </g>\r\n     </g>\r\n    </g>\r\n    <g id=\"ytick_336\">\r\n     <g id=\"line2d_344\">\r\n      <g>\r\n       <use style=\"stroke:#000000;stroke-width:0.8;\" x=\"33.2875\" xlink:href=\"#m2a888fa1a6\" y=\"111.916348\"/>\r\n      </g>\r\n     </g>\r\n     <g id=\"text_344\">\r\n      <!-- 335 -->\r\n      <g transform=\"translate(7.2 115.715567)scale(0.1 -0.1)\">\r\n       <use xlink:href=\"#DejaVuSans-51\"/>\r\n       <use x=\"63.623047\" xlink:href=\"#DejaVuSans-51\"/>\r\n       <use x=\"127.246094\" xlink:href=\"#DejaVuSans-53\"/>\r\n      </g>\r\n     </g>\r\n    </g>\r\n    <g id=\"ytick_337\">\r\n     <g id=\"line2d_345\">\r\n      <g>\r\n       <use style=\"stroke:#000000;stroke-width:0.8;\" x=\"33.2875\" xlink:href=\"#m2a888fa1a6\" y=\"111.569554\"/>\r\n      </g>\r\n     </g>\r\n     <g id=\"text_345\">\r\n      <!-- 336 -->\r\n      <g transform=\"translate(7.2 115.368772)scale(0.1 -0.1)\">\r\n       <use xlink:href=\"#DejaVuSans-51\"/>\r\n       <use x=\"63.623047\" xlink:href=\"#DejaVuSans-51\"/>\r\n       <use x=\"127.246094\" xlink:href=\"#DejaVuSans-54\"/>\r\n      </g>\r\n     </g>\r\n    </g>\r\n    <g id=\"ytick_338\">\r\n     <g id=\"line2d_346\">\r\n      <g>\r\n       <use style=\"stroke:#000000;stroke-width:0.8;\" x=\"33.2875\" xlink:href=\"#m2a888fa1a6\" y=\"111.222759\"/>\r\n      </g>\r\n     </g>\r\n     <g id=\"text_346\">\r\n      <!-- 337 -->\r\n      <g transform=\"translate(7.2 115.021978)scale(0.1 -0.1)\">\r\n       <use xlink:href=\"#DejaVuSans-51\"/>\r\n       <use x=\"63.623047\" xlink:href=\"#DejaVuSans-51\"/>\r\n       <use x=\"127.246094\" xlink:href=\"#DejaVuSans-55\"/>\r\n      </g>\r\n     </g>\r\n    </g>\r\n    <g id=\"ytick_339\">\r\n     <g id=\"line2d_347\">\r\n      <g>\r\n       <use style=\"stroke:#000000;stroke-width:0.8;\" x=\"33.2875\" xlink:href=\"#m2a888fa1a6\" y=\"110.875965\"/>\r\n      </g>\r\n     </g>\r\n     <g id=\"text_347\">\r\n      <!-- 338 -->\r\n      <g transform=\"translate(7.2 114.675184)scale(0.1 -0.1)\">\r\n       <use xlink:href=\"#DejaVuSans-51\"/>\r\n       <use x=\"63.623047\" xlink:href=\"#DejaVuSans-51\"/>\r\n       <use x=\"127.246094\" xlink:href=\"#DejaVuSans-56\"/>\r\n      </g>\r\n     </g>\r\n    </g>\r\n    <g id=\"ytick_340\">\r\n     <g id=\"line2d_348\">\r\n      <g>\r\n       <use style=\"stroke:#000000;stroke-width:0.8;\" x=\"33.2875\" xlink:href=\"#m2a888fa1a6\" y=\"110.529171\"/>\r\n      </g>\r\n     </g>\r\n     <g id=\"text_348\">\r\n      <!-- 339 -->\r\n      <g transform=\"translate(7.2 114.32839)scale(0.1 -0.1)\">\r\n       <use xlink:href=\"#DejaVuSans-51\"/>\r\n       <use x=\"63.623047\" xlink:href=\"#DejaVuSans-51\"/>\r\n       <use x=\"127.246094\" xlink:href=\"#DejaVuSans-57\"/>\r\n      </g>\r\n     </g>\r\n    </g>\r\n    <g id=\"ytick_341\">\r\n     <g id=\"line2d_349\">\r\n      <g>\r\n       <use style=\"stroke:#000000;stroke-width:0.8;\" x=\"33.2875\" xlink:href=\"#m2a888fa1a6\" y=\"110.182377\"/>\r\n      </g>\r\n     </g>\r\n     <g id=\"text_349\">\r\n      <!-- 340 -->\r\n      <g transform=\"translate(7.2 113.981595)scale(0.1 -0.1)\">\r\n       <use xlink:href=\"#DejaVuSans-51\"/>\r\n       <use x=\"63.623047\" xlink:href=\"#DejaVuSans-52\"/>\r\n       <use x=\"127.246094\" xlink:href=\"#DejaVuSans-48\"/>\r\n      </g>\r\n     </g>\r\n    </g>\r\n    <g id=\"ytick_342\">\r\n     <g id=\"line2d_350\">\r\n      <g>\r\n       <use style=\"stroke:#000000;stroke-width:0.8;\" x=\"33.2875\" xlink:href=\"#m2a888fa1a6\" y=\"109.835582\"/>\r\n      </g>\r\n     </g>\r\n     <g id=\"text_350\">\r\n      <!-- 341 -->\r\n      <g transform=\"translate(7.2 113.634801)scale(0.1 -0.1)\">\r\n       <use xlink:href=\"#DejaVuSans-51\"/>\r\n       <use x=\"63.623047\" xlink:href=\"#DejaVuSans-52\"/>\r\n       <use x=\"127.246094\" xlink:href=\"#DejaVuSans-49\"/>\r\n      </g>\r\n     </g>\r\n    </g>\r\n    <g id=\"ytick_343\">\r\n     <g id=\"line2d_351\">\r\n      <g>\r\n       <use style=\"stroke:#000000;stroke-width:0.8;\" x=\"33.2875\" xlink:href=\"#m2a888fa1a6\" y=\"109.488788\"/>\r\n      </g>\r\n     </g>\r\n     <g id=\"text_351\">\r\n      <!-- 342 -->\r\n      <g transform=\"translate(7.2 113.288007)scale(0.1 -0.1)\">\r\n       <use xlink:href=\"#DejaVuSans-51\"/>\r\n       <use x=\"63.623047\" xlink:href=\"#DejaVuSans-52\"/>\r\n       <use x=\"127.246094\" xlink:href=\"#DejaVuSans-50\"/>\r\n      </g>\r\n     </g>\r\n    </g>\r\n    <g id=\"ytick_344\">\r\n     <g id=\"line2d_352\">\r\n      <g>\r\n       <use style=\"stroke:#000000;stroke-width:0.8;\" x=\"33.2875\" xlink:href=\"#m2a888fa1a6\" y=\"109.141994\"/>\r\n      </g>\r\n     </g>\r\n     <g id=\"text_352\">\r\n      <!-- 343 -->\r\n      <g transform=\"translate(7.2 112.941213)scale(0.1 -0.1)\">\r\n       <use xlink:href=\"#DejaVuSans-51\"/>\r\n       <use x=\"63.623047\" xlink:href=\"#DejaVuSans-52\"/>\r\n       <use x=\"127.246094\" xlink:href=\"#DejaVuSans-51\"/>\r\n      </g>\r\n     </g>\r\n    </g>\r\n    <g id=\"ytick_345\">\r\n     <g id=\"line2d_353\">\r\n      <g>\r\n       <use style=\"stroke:#000000;stroke-width:0.8;\" x=\"33.2875\" xlink:href=\"#m2a888fa1a6\" y=\"108.7952\"/>\r\n      </g>\r\n     </g>\r\n     <g id=\"text_353\">\r\n      <!-- 344 -->\r\n      <g transform=\"translate(7.2 112.594418)scale(0.1 -0.1)\">\r\n       <use xlink:href=\"#DejaVuSans-51\"/>\r\n       <use x=\"63.623047\" xlink:href=\"#DejaVuSans-52\"/>\r\n       <use x=\"127.246094\" xlink:href=\"#DejaVuSans-52\"/>\r\n      </g>\r\n     </g>\r\n    </g>\r\n    <g id=\"ytick_346\">\r\n     <g id=\"line2d_354\">\r\n      <g>\r\n       <use style=\"stroke:#000000;stroke-width:0.8;\" x=\"33.2875\" xlink:href=\"#m2a888fa1a6\" y=\"108.448405\"/>\r\n      </g>\r\n     </g>\r\n     <g id=\"text_354\">\r\n      <!-- 345 -->\r\n      <g transform=\"translate(7.2 112.247624)scale(0.1 -0.1)\">\r\n       <use xlink:href=\"#DejaVuSans-51\"/>\r\n       <use x=\"63.623047\" xlink:href=\"#DejaVuSans-52\"/>\r\n       <use x=\"127.246094\" xlink:href=\"#DejaVuSans-53\"/>\r\n      </g>\r\n     </g>\r\n    </g>\r\n    <g id=\"ytick_347\">\r\n     <g id=\"line2d_355\">\r\n      <g>\r\n       <use style=\"stroke:#000000;stroke-width:0.8;\" x=\"33.2875\" xlink:href=\"#m2a888fa1a6\" y=\"108.101611\"/>\r\n      </g>\r\n     </g>\r\n     <g id=\"text_355\">\r\n      <!-- 346 -->\r\n      <g transform=\"translate(7.2 111.90083)scale(0.1 -0.1)\">\r\n       <use xlink:href=\"#DejaVuSans-51\"/>\r\n       <use x=\"63.623047\" xlink:href=\"#DejaVuSans-52\"/>\r\n       <use x=\"127.246094\" xlink:href=\"#DejaVuSans-54\"/>\r\n      </g>\r\n     </g>\r\n    </g>\r\n    <g id=\"ytick_348\">\r\n     <g id=\"line2d_356\">\r\n      <g>\r\n       <use style=\"stroke:#000000;stroke-width:0.8;\" x=\"33.2875\" xlink:href=\"#m2a888fa1a6\" y=\"107.754817\"/>\r\n      </g>\r\n     </g>\r\n     <g id=\"text_356\">\r\n      <!-- 347 -->\r\n      <g transform=\"translate(7.2 111.554036)scale(0.1 -0.1)\">\r\n       <use xlink:href=\"#DejaVuSans-51\"/>\r\n       <use x=\"63.623047\" xlink:href=\"#DejaVuSans-52\"/>\r\n       <use x=\"127.246094\" xlink:href=\"#DejaVuSans-55\"/>\r\n      </g>\r\n     </g>\r\n    </g>\r\n    <g id=\"ytick_349\">\r\n     <g id=\"line2d_357\">\r\n      <g>\r\n       <use style=\"stroke:#000000;stroke-width:0.8;\" x=\"33.2875\" xlink:href=\"#m2a888fa1a6\" y=\"107.408023\"/>\r\n      </g>\r\n     </g>\r\n     <g id=\"text_357\">\r\n      <!-- 348 -->\r\n      <g transform=\"translate(7.2 111.207241)scale(0.1 -0.1)\">\r\n       <use xlink:href=\"#DejaVuSans-51\"/>\r\n       <use x=\"63.623047\" xlink:href=\"#DejaVuSans-52\"/>\r\n       <use x=\"127.246094\" xlink:href=\"#DejaVuSans-56\"/>\r\n      </g>\r\n     </g>\r\n    </g>\r\n    <g id=\"ytick_350\">\r\n     <g id=\"line2d_358\">\r\n      <g>\r\n       <use style=\"stroke:#000000;stroke-width:0.8;\" x=\"33.2875\" xlink:href=\"#m2a888fa1a6\" y=\"107.061228\"/>\r\n      </g>\r\n     </g>\r\n     <g id=\"text_358\">\r\n      <!-- 349 -->\r\n      <g transform=\"translate(7.2 110.860447)scale(0.1 -0.1)\">\r\n       <use xlink:href=\"#DejaVuSans-51\"/>\r\n       <use x=\"63.623047\" xlink:href=\"#DejaVuSans-52\"/>\r\n       <use x=\"127.246094\" xlink:href=\"#DejaVuSans-57\"/>\r\n      </g>\r\n     </g>\r\n    </g>\r\n    <g id=\"ytick_351\">\r\n     <g id=\"line2d_359\">\r\n      <g>\r\n       <use style=\"stroke:#000000;stroke-width:0.8;\" x=\"33.2875\" xlink:href=\"#m2a888fa1a6\" y=\"106.714434\"/>\r\n      </g>\r\n     </g>\r\n     <g id=\"text_359\">\r\n      <!-- 350 -->\r\n      <g transform=\"translate(7.2 110.513653)scale(0.1 -0.1)\">\r\n       <use xlink:href=\"#DejaVuSans-51\"/>\r\n       <use x=\"63.623047\" xlink:href=\"#DejaVuSans-53\"/>\r\n       <use x=\"127.246094\" xlink:href=\"#DejaVuSans-48\"/>\r\n      </g>\r\n     </g>\r\n    </g>\r\n    <g id=\"ytick_352\">\r\n     <g id=\"line2d_360\">\r\n      <g>\r\n       <use style=\"stroke:#000000;stroke-width:0.8;\" x=\"33.2875\" xlink:href=\"#m2a888fa1a6\" y=\"106.36764\"/>\r\n      </g>\r\n     </g>\r\n     <g id=\"text_360\">\r\n      <!-- 351 -->\r\n      <g transform=\"translate(7.2 110.166859)scale(0.1 -0.1)\">\r\n       <use xlink:href=\"#DejaVuSans-51\"/>\r\n       <use x=\"63.623047\" xlink:href=\"#DejaVuSans-53\"/>\r\n       <use x=\"127.246094\" xlink:href=\"#DejaVuSans-49\"/>\r\n      </g>\r\n     </g>\r\n    </g>\r\n    <g id=\"ytick_353\">\r\n     <g id=\"line2d_361\">\r\n      <g>\r\n       <use style=\"stroke:#000000;stroke-width:0.8;\" x=\"33.2875\" xlink:href=\"#m2a888fa1a6\" y=\"106.020846\"/>\r\n      </g>\r\n     </g>\r\n     <g id=\"text_361\">\r\n      <!-- 352 -->\r\n      <g transform=\"translate(7.2 109.820064)scale(0.1 -0.1)\">\r\n       <use xlink:href=\"#DejaVuSans-51\"/>\r\n       <use x=\"63.623047\" xlink:href=\"#DejaVuSans-53\"/>\r\n       <use x=\"127.246094\" xlink:href=\"#DejaVuSans-50\"/>\r\n      </g>\r\n     </g>\r\n    </g>\r\n    <g id=\"ytick_354\">\r\n     <g id=\"line2d_362\">\r\n      <g>\r\n       <use style=\"stroke:#000000;stroke-width:0.8;\" x=\"33.2875\" xlink:href=\"#m2a888fa1a6\" y=\"105.674051\"/>\r\n      </g>\r\n     </g>\r\n     <g id=\"text_362\">\r\n      <!-- 353 -->\r\n      <g transform=\"translate(7.2 109.47327)scale(0.1 -0.1)\">\r\n       <use xlink:href=\"#DejaVuSans-51\"/>\r\n       <use x=\"63.623047\" xlink:href=\"#DejaVuSans-53\"/>\r\n       <use x=\"127.246094\" xlink:href=\"#DejaVuSans-51\"/>\r\n      </g>\r\n     </g>\r\n    </g>\r\n    <g id=\"ytick_355\">\r\n     <g id=\"line2d_363\">\r\n      <g>\r\n       <use style=\"stroke:#000000;stroke-width:0.8;\" x=\"33.2875\" xlink:href=\"#m2a888fa1a6\" y=\"105.327257\"/>\r\n      </g>\r\n     </g>\r\n     <g id=\"text_363\">\r\n      <!-- 354 -->\r\n      <g transform=\"translate(7.2 109.126476)scale(0.1 -0.1)\">\r\n       <use xlink:href=\"#DejaVuSans-51\"/>\r\n       <use x=\"63.623047\" xlink:href=\"#DejaVuSans-53\"/>\r\n       <use x=\"127.246094\" xlink:href=\"#DejaVuSans-52\"/>\r\n      </g>\r\n     </g>\r\n    </g>\r\n    <g id=\"ytick_356\">\r\n     <g id=\"line2d_364\">\r\n      <g>\r\n       <use style=\"stroke:#000000;stroke-width:0.8;\" x=\"33.2875\" xlink:href=\"#m2a888fa1a6\" y=\"104.980463\"/>\r\n      </g>\r\n     </g>\r\n     <g id=\"text_364\">\r\n      <!-- 355 -->\r\n      <g transform=\"translate(7.2 108.779682)scale(0.1 -0.1)\">\r\n       <use xlink:href=\"#DejaVuSans-51\"/>\r\n       <use x=\"63.623047\" xlink:href=\"#DejaVuSans-53\"/>\r\n       <use x=\"127.246094\" xlink:href=\"#DejaVuSans-53\"/>\r\n      </g>\r\n     </g>\r\n    </g>\r\n    <g id=\"ytick_357\">\r\n     <g id=\"line2d_365\">\r\n      <g>\r\n       <use style=\"stroke:#000000;stroke-width:0.8;\" x=\"33.2875\" xlink:href=\"#m2a888fa1a6\" y=\"104.633669\"/>\r\n      </g>\r\n     </g>\r\n     <g id=\"text_365\">\r\n      <!-- 356 -->\r\n      <g transform=\"translate(7.2 108.432887)scale(0.1 -0.1)\">\r\n       <use xlink:href=\"#DejaVuSans-51\"/>\r\n       <use x=\"63.623047\" xlink:href=\"#DejaVuSans-53\"/>\r\n       <use x=\"127.246094\" xlink:href=\"#DejaVuSans-54\"/>\r\n      </g>\r\n     </g>\r\n    </g>\r\n    <g id=\"ytick_358\">\r\n     <g id=\"line2d_366\">\r\n      <g>\r\n       <use style=\"stroke:#000000;stroke-width:0.8;\" x=\"33.2875\" xlink:href=\"#m2a888fa1a6\" y=\"104.286874\"/>\r\n      </g>\r\n     </g>\r\n     <g id=\"text_366\">\r\n      <!-- 357 -->\r\n      <g transform=\"translate(7.2 108.086093)scale(0.1 -0.1)\">\r\n       <use xlink:href=\"#DejaVuSans-51\"/>\r\n       <use x=\"63.623047\" xlink:href=\"#DejaVuSans-53\"/>\r\n       <use x=\"127.246094\" xlink:href=\"#DejaVuSans-55\"/>\r\n      </g>\r\n     </g>\r\n    </g>\r\n    <g id=\"ytick_359\">\r\n     <g id=\"line2d_367\">\r\n      <g>\r\n       <use style=\"stroke:#000000;stroke-width:0.8;\" x=\"33.2875\" xlink:href=\"#m2a888fa1a6\" y=\"103.94008\"/>\r\n      </g>\r\n     </g>\r\n     <g id=\"text_367\">\r\n      <!-- 358 -->\r\n      <g transform=\"translate(7.2 107.739299)scale(0.1 -0.1)\">\r\n       <use xlink:href=\"#DejaVuSans-51\"/>\r\n       <use x=\"63.623047\" xlink:href=\"#DejaVuSans-53\"/>\r\n       <use x=\"127.246094\" xlink:href=\"#DejaVuSans-56\"/>\r\n      </g>\r\n     </g>\r\n    </g>\r\n    <g id=\"ytick_360\">\r\n     <g id=\"line2d_368\">\r\n      <g>\r\n       <use style=\"stroke:#000000;stroke-width:0.8;\" x=\"33.2875\" xlink:href=\"#m2a888fa1a6\" y=\"103.593286\"/>\r\n      </g>\r\n     </g>\r\n     <g id=\"text_368\">\r\n      <!-- 359 -->\r\n      <g transform=\"translate(7.2 107.392504)scale(0.1 -0.1)\">\r\n       <use xlink:href=\"#DejaVuSans-51\"/>\r\n       <use x=\"63.623047\" xlink:href=\"#DejaVuSans-53\"/>\r\n       <use x=\"127.246094\" xlink:href=\"#DejaVuSans-57\"/>\r\n      </g>\r\n     </g>\r\n    </g>\r\n    <g id=\"ytick_361\">\r\n     <g id=\"line2d_369\">\r\n      <g>\r\n       <use style=\"stroke:#000000;stroke-width:0.8;\" x=\"33.2875\" xlink:href=\"#m2a888fa1a6\" y=\"103.246491\"/>\r\n      </g>\r\n     </g>\r\n     <g id=\"text_369\">\r\n      <!-- 360 -->\r\n      <g transform=\"translate(7.2 107.04571)scale(0.1 -0.1)\">\r\n       <use xlink:href=\"#DejaVuSans-51\"/>\r\n       <use x=\"63.623047\" xlink:href=\"#DejaVuSans-54\"/>\r\n       <use x=\"127.246094\" xlink:href=\"#DejaVuSans-48\"/>\r\n      </g>\r\n     </g>\r\n    </g>\r\n    <g id=\"ytick_362\">\r\n     <g id=\"line2d_370\">\r\n      <g>\r\n       <use style=\"stroke:#000000;stroke-width:0.8;\" x=\"33.2875\" xlink:href=\"#m2a888fa1a6\" y=\"102.899697\"/>\r\n      </g>\r\n     </g>\r\n     <g id=\"text_370\">\r\n      <!-- 361 -->\r\n      <g transform=\"translate(7.2 106.698916)scale(0.1 -0.1)\">\r\n       <use xlink:href=\"#DejaVuSans-51\"/>\r\n       <use x=\"63.623047\" xlink:href=\"#DejaVuSans-54\"/>\r\n       <use x=\"127.246094\" xlink:href=\"#DejaVuSans-49\"/>\r\n      </g>\r\n     </g>\r\n    </g>\r\n    <g id=\"ytick_363\">\r\n     <g id=\"line2d_371\">\r\n      <g>\r\n       <use style=\"stroke:#000000;stroke-width:0.8;\" x=\"33.2875\" xlink:href=\"#m2a888fa1a6\" y=\"102.552903\"/>\r\n      </g>\r\n     </g>\r\n     <g id=\"text_371\">\r\n      <!-- 362 -->\r\n      <g transform=\"translate(7.2 106.352122)scale(0.1 -0.1)\">\r\n       <use xlink:href=\"#DejaVuSans-51\"/>\r\n       <use x=\"63.623047\" xlink:href=\"#DejaVuSans-54\"/>\r\n       <use x=\"127.246094\" xlink:href=\"#DejaVuSans-50\"/>\r\n      </g>\r\n     </g>\r\n    </g>\r\n    <g id=\"ytick_364\">\r\n     <g id=\"line2d_372\">\r\n      <g>\r\n       <use style=\"stroke:#000000;stroke-width:0.8;\" x=\"33.2875\" xlink:href=\"#m2a888fa1a6\" y=\"102.206109\"/>\r\n      </g>\r\n     </g>\r\n     <g id=\"text_372\">\r\n      <!-- 363 -->\r\n      <g transform=\"translate(7.2 106.005327)scale(0.1 -0.1)\">\r\n       <use xlink:href=\"#DejaVuSans-51\"/>\r\n       <use x=\"63.623047\" xlink:href=\"#DejaVuSans-54\"/>\r\n       <use x=\"127.246094\" xlink:href=\"#DejaVuSans-51\"/>\r\n      </g>\r\n     </g>\r\n    </g>\r\n    <g id=\"ytick_365\">\r\n     <g id=\"line2d_373\">\r\n      <g>\r\n       <use style=\"stroke:#000000;stroke-width:0.8;\" x=\"33.2875\" xlink:href=\"#m2a888fa1a6\" y=\"101.859314\"/>\r\n      </g>\r\n     </g>\r\n     <g id=\"text_373\">\r\n      <!-- 364 -->\r\n      <g transform=\"translate(7.2 105.658533)scale(0.1 -0.1)\">\r\n       <use xlink:href=\"#DejaVuSans-51\"/>\r\n       <use x=\"63.623047\" xlink:href=\"#DejaVuSans-54\"/>\r\n       <use x=\"127.246094\" xlink:href=\"#DejaVuSans-52\"/>\r\n      </g>\r\n     </g>\r\n    </g>\r\n    <g id=\"ytick_366\">\r\n     <g id=\"line2d_374\">\r\n      <g>\r\n       <use style=\"stroke:#000000;stroke-width:0.8;\" x=\"33.2875\" xlink:href=\"#m2a888fa1a6\" y=\"101.51252\"/>\r\n      </g>\r\n     </g>\r\n     <g id=\"text_374\">\r\n      <!-- 365 -->\r\n      <g transform=\"translate(7.2 105.311739)scale(0.1 -0.1)\">\r\n       <use xlink:href=\"#DejaVuSans-51\"/>\r\n       <use x=\"63.623047\" xlink:href=\"#DejaVuSans-54\"/>\r\n       <use x=\"127.246094\" xlink:href=\"#DejaVuSans-53\"/>\r\n      </g>\r\n     </g>\r\n    </g>\r\n    <g id=\"ytick_367\">\r\n     <g id=\"line2d_375\">\r\n      <g>\r\n       <use style=\"stroke:#000000;stroke-width:0.8;\" x=\"33.2875\" xlink:href=\"#m2a888fa1a6\" y=\"101.165726\"/>\r\n      </g>\r\n     </g>\r\n     <g id=\"text_375\">\r\n      <!-- 366 -->\r\n      <g transform=\"translate(7.2 104.964945)scale(0.1 -0.1)\">\r\n       <use xlink:href=\"#DejaVuSans-51\"/>\r\n       <use x=\"63.623047\" xlink:href=\"#DejaVuSans-54\"/>\r\n       <use x=\"127.246094\" xlink:href=\"#DejaVuSans-54\"/>\r\n      </g>\r\n     </g>\r\n    </g>\r\n    <g id=\"ytick_368\">\r\n     <g id=\"line2d_376\">\r\n      <g>\r\n       <use style=\"stroke:#000000;stroke-width:0.8;\" x=\"33.2875\" xlink:href=\"#m2a888fa1a6\" y=\"100.818932\"/>\r\n      </g>\r\n     </g>\r\n     <g id=\"text_376\">\r\n      <!-- 367 -->\r\n      <g transform=\"translate(7.2 104.61815)scale(0.1 -0.1)\">\r\n       <use xlink:href=\"#DejaVuSans-51\"/>\r\n       <use x=\"63.623047\" xlink:href=\"#DejaVuSans-54\"/>\r\n       <use x=\"127.246094\" xlink:href=\"#DejaVuSans-55\"/>\r\n      </g>\r\n     </g>\r\n    </g>\r\n    <g id=\"ytick_369\">\r\n     <g id=\"line2d_377\">\r\n      <g>\r\n       <use style=\"stroke:#000000;stroke-width:0.8;\" x=\"33.2875\" xlink:href=\"#m2a888fa1a6\" y=\"100.472137\"/>\r\n      </g>\r\n     </g>\r\n     <g id=\"text_377\">\r\n      <!-- 368 -->\r\n      <g transform=\"translate(7.2 104.271356)scale(0.1 -0.1)\">\r\n       <use xlink:href=\"#DejaVuSans-51\"/>\r\n       <use x=\"63.623047\" xlink:href=\"#DejaVuSans-54\"/>\r\n       <use x=\"127.246094\" xlink:href=\"#DejaVuSans-56\"/>\r\n      </g>\r\n     </g>\r\n    </g>\r\n    <g id=\"ytick_370\">\r\n     <g id=\"line2d_378\">\r\n      <g>\r\n       <use style=\"stroke:#000000;stroke-width:0.8;\" x=\"33.2875\" xlink:href=\"#m2a888fa1a6\" y=\"100.125343\"/>\r\n      </g>\r\n     </g>\r\n     <g id=\"text_378\">\r\n      <!-- 369 -->\r\n      <g transform=\"translate(7.2 103.924562)scale(0.1 -0.1)\">\r\n       <use xlink:href=\"#DejaVuSans-51\"/>\r\n       <use x=\"63.623047\" xlink:href=\"#DejaVuSans-54\"/>\r\n       <use x=\"127.246094\" xlink:href=\"#DejaVuSans-57\"/>\r\n      </g>\r\n     </g>\r\n    </g>\r\n    <g id=\"ytick_371\">\r\n     <g id=\"line2d_379\">\r\n      <g>\r\n       <use style=\"stroke:#000000;stroke-width:0.8;\" x=\"33.2875\" xlink:href=\"#m2a888fa1a6\" y=\"99.778549\"/>\r\n      </g>\r\n     </g>\r\n     <g id=\"text_379\">\r\n      <!-- 370 -->\r\n      <g transform=\"translate(7.2 103.577768)scale(0.1 -0.1)\">\r\n       <use xlink:href=\"#DejaVuSans-51\"/>\r\n       <use x=\"63.623047\" xlink:href=\"#DejaVuSans-55\"/>\r\n       <use x=\"127.246094\" xlink:href=\"#DejaVuSans-48\"/>\r\n      </g>\r\n     </g>\r\n    </g>\r\n    <g id=\"ytick_372\">\r\n     <g id=\"line2d_380\">\r\n      <g>\r\n       <use style=\"stroke:#000000;stroke-width:0.8;\" x=\"33.2875\" xlink:href=\"#m2a888fa1a6\" y=\"99.431755\"/>\r\n      </g>\r\n     </g>\r\n     <g id=\"text_380\">\r\n      <!-- 371 -->\r\n      <g transform=\"translate(7.2 103.230973)scale(0.1 -0.1)\">\r\n       <use xlink:href=\"#DejaVuSans-51\"/>\r\n       <use x=\"63.623047\" xlink:href=\"#DejaVuSans-55\"/>\r\n       <use x=\"127.246094\" xlink:href=\"#DejaVuSans-49\"/>\r\n      </g>\r\n     </g>\r\n    </g>\r\n    <g id=\"ytick_373\">\r\n     <g id=\"line2d_381\">\r\n      <g>\r\n       <use style=\"stroke:#000000;stroke-width:0.8;\" x=\"33.2875\" xlink:href=\"#m2a888fa1a6\" y=\"99.08496\"/>\r\n      </g>\r\n     </g>\r\n     <g id=\"text_381\">\r\n      <!-- 372 -->\r\n      <g transform=\"translate(7.2 102.884179)scale(0.1 -0.1)\">\r\n       <use xlink:href=\"#DejaVuSans-51\"/>\r\n       <use x=\"63.623047\" xlink:href=\"#DejaVuSans-55\"/>\r\n       <use x=\"127.246094\" xlink:href=\"#DejaVuSans-50\"/>\r\n      </g>\r\n     </g>\r\n    </g>\r\n    <g id=\"ytick_374\">\r\n     <g id=\"line2d_382\">\r\n      <g>\r\n       <use style=\"stroke:#000000;stroke-width:0.8;\" x=\"33.2875\" xlink:href=\"#m2a888fa1a6\" y=\"98.738166\"/>\r\n      </g>\r\n     </g>\r\n     <g id=\"text_382\">\r\n      <!-- 373 -->\r\n      <g transform=\"translate(7.2 102.537385)scale(0.1 -0.1)\">\r\n       <use xlink:href=\"#DejaVuSans-51\"/>\r\n       <use x=\"63.623047\" xlink:href=\"#DejaVuSans-55\"/>\r\n       <use x=\"127.246094\" xlink:href=\"#DejaVuSans-51\"/>\r\n      </g>\r\n     </g>\r\n    </g>\r\n    <g id=\"ytick_375\">\r\n     <g id=\"line2d_383\">\r\n      <g>\r\n       <use style=\"stroke:#000000;stroke-width:0.8;\" x=\"33.2875\" xlink:href=\"#m2a888fa1a6\" y=\"98.391372\"/>\r\n      </g>\r\n     </g>\r\n     <g id=\"text_383\">\r\n      <!-- 374 -->\r\n      <g transform=\"translate(7.2 102.190591)scale(0.1 -0.1)\">\r\n       <use xlink:href=\"#DejaVuSans-51\"/>\r\n       <use x=\"63.623047\" xlink:href=\"#DejaVuSans-55\"/>\r\n       <use x=\"127.246094\" xlink:href=\"#DejaVuSans-52\"/>\r\n      </g>\r\n     </g>\r\n    </g>\r\n    <g id=\"ytick_376\">\r\n     <g id=\"line2d_384\">\r\n      <g>\r\n       <use style=\"stroke:#000000;stroke-width:0.8;\" x=\"33.2875\" xlink:href=\"#m2a888fa1a6\" y=\"98.044578\"/>\r\n      </g>\r\n     </g>\r\n     <g id=\"text_384\">\r\n      <!-- 375 -->\r\n      <g transform=\"translate(7.2 101.843796)scale(0.1 -0.1)\">\r\n       <use xlink:href=\"#DejaVuSans-51\"/>\r\n       <use x=\"63.623047\" xlink:href=\"#DejaVuSans-55\"/>\r\n       <use x=\"127.246094\" xlink:href=\"#DejaVuSans-53\"/>\r\n      </g>\r\n     </g>\r\n    </g>\r\n    <g id=\"ytick_377\">\r\n     <g id=\"line2d_385\">\r\n      <g>\r\n       <use style=\"stroke:#000000;stroke-width:0.8;\" x=\"33.2875\" xlink:href=\"#m2a888fa1a6\" y=\"97.697783\"/>\r\n      </g>\r\n     </g>\r\n     <g id=\"text_385\">\r\n      <!-- 376 -->\r\n      <g transform=\"translate(7.2 101.497002)scale(0.1 -0.1)\">\r\n       <use xlink:href=\"#DejaVuSans-51\"/>\r\n       <use x=\"63.623047\" xlink:href=\"#DejaVuSans-55\"/>\r\n       <use x=\"127.246094\" xlink:href=\"#DejaVuSans-54\"/>\r\n      </g>\r\n     </g>\r\n    </g>\r\n    <g id=\"ytick_378\">\r\n     <g id=\"line2d_386\">\r\n      <g>\r\n       <use style=\"stroke:#000000;stroke-width:0.8;\" x=\"33.2875\" xlink:href=\"#m2a888fa1a6\" y=\"97.350989\"/>\r\n      </g>\r\n     </g>\r\n     <g id=\"text_386\">\r\n      <!-- 377 -->\r\n      <g transform=\"translate(7.2 101.150208)scale(0.1 -0.1)\">\r\n       <use xlink:href=\"#DejaVuSans-51\"/>\r\n       <use x=\"63.623047\" xlink:href=\"#DejaVuSans-55\"/>\r\n       <use x=\"127.246094\" xlink:href=\"#DejaVuSans-55\"/>\r\n      </g>\r\n     </g>\r\n    </g>\r\n    <g id=\"ytick_379\">\r\n     <g id=\"line2d_387\">\r\n      <g>\r\n       <use style=\"stroke:#000000;stroke-width:0.8;\" x=\"33.2875\" xlink:href=\"#m2a888fa1a6\" y=\"97.004195\"/>\r\n      </g>\r\n     </g>\r\n     <g id=\"text_387\">\r\n      <!-- 378 -->\r\n      <g transform=\"translate(7.2 100.803414)scale(0.1 -0.1)\">\r\n       <use xlink:href=\"#DejaVuSans-51\"/>\r\n       <use x=\"63.623047\" xlink:href=\"#DejaVuSans-55\"/>\r\n       <use x=\"127.246094\" xlink:href=\"#DejaVuSans-56\"/>\r\n      </g>\r\n     </g>\r\n    </g>\r\n    <g id=\"ytick_380\">\r\n     <g id=\"line2d_388\">\r\n      <g>\r\n       <use style=\"stroke:#000000;stroke-width:0.8;\" x=\"33.2875\" xlink:href=\"#m2a888fa1a6\" y=\"96.657401\"/>\r\n      </g>\r\n     </g>\r\n     <g id=\"text_388\">\r\n      <!-- 379 -->\r\n      <g transform=\"translate(7.2 100.456619)scale(0.1 -0.1)\">\r\n       <use xlink:href=\"#DejaVuSans-51\"/>\r\n       <use x=\"63.623047\" xlink:href=\"#DejaVuSans-55\"/>\r\n       <use x=\"127.246094\" xlink:href=\"#DejaVuSans-57\"/>\r\n      </g>\r\n     </g>\r\n    </g>\r\n    <g id=\"ytick_381\">\r\n     <g id=\"line2d_389\">\r\n      <g>\r\n       <use style=\"stroke:#000000;stroke-width:0.8;\" x=\"33.2875\" xlink:href=\"#m2a888fa1a6\" y=\"96.310606\"/>\r\n      </g>\r\n     </g>\r\n     <g id=\"text_389\">\r\n      <!-- 380 -->\r\n      <g transform=\"translate(7.2 100.109825)scale(0.1 -0.1)\">\r\n       <use xlink:href=\"#DejaVuSans-51\"/>\r\n       <use x=\"63.623047\" xlink:href=\"#DejaVuSans-56\"/>\r\n       <use x=\"127.246094\" xlink:href=\"#DejaVuSans-48\"/>\r\n      </g>\r\n     </g>\r\n    </g>\r\n    <g id=\"ytick_382\">\r\n     <g id=\"line2d_390\">\r\n      <g>\r\n       <use style=\"stroke:#000000;stroke-width:0.8;\" x=\"33.2875\" xlink:href=\"#m2a888fa1a6\" y=\"95.963812\"/>\r\n      </g>\r\n     </g>\r\n     <g id=\"text_390\">\r\n      <!-- 381 -->\r\n      <g transform=\"translate(7.2 99.763031)scale(0.1 -0.1)\">\r\n       <use xlink:href=\"#DejaVuSans-51\"/>\r\n       <use x=\"63.623047\" xlink:href=\"#DejaVuSans-56\"/>\r\n       <use x=\"127.246094\" xlink:href=\"#DejaVuSans-49\"/>\r\n      </g>\r\n     </g>\r\n    </g>\r\n    <g id=\"ytick_383\">\r\n     <g id=\"line2d_391\">\r\n      <g>\r\n       <use style=\"stroke:#000000;stroke-width:0.8;\" x=\"33.2875\" xlink:href=\"#m2a888fa1a6\" y=\"95.617018\"/>\r\n      </g>\r\n     </g>\r\n     <g id=\"text_391\">\r\n      <!-- 382 -->\r\n      <g transform=\"translate(7.2 99.416237)scale(0.1 -0.1)\">\r\n       <use xlink:href=\"#DejaVuSans-51\"/>\r\n       <use x=\"63.623047\" xlink:href=\"#DejaVuSans-56\"/>\r\n       <use x=\"127.246094\" xlink:href=\"#DejaVuSans-50\"/>\r\n      </g>\r\n     </g>\r\n    </g>\r\n    <g id=\"ytick_384\">\r\n     <g id=\"line2d_392\">\r\n      <g>\r\n       <use style=\"stroke:#000000;stroke-width:0.8;\" x=\"33.2875\" xlink:href=\"#m2a888fa1a6\" y=\"95.270224\"/>\r\n      </g>\r\n     </g>\r\n     <g id=\"text_392\">\r\n      <!-- 383 -->\r\n      <g transform=\"translate(7.2 99.069442)scale(0.1 -0.1)\">\r\n       <use xlink:href=\"#DejaVuSans-51\"/>\r\n       <use x=\"63.623047\" xlink:href=\"#DejaVuSans-56\"/>\r\n       <use x=\"127.246094\" xlink:href=\"#DejaVuSans-51\"/>\r\n      </g>\r\n     </g>\r\n    </g>\r\n    <g id=\"ytick_385\">\r\n     <g id=\"line2d_393\">\r\n      <g>\r\n       <use style=\"stroke:#000000;stroke-width:0.8;\" x=\"33.2875\" xlink:href=\"#m2a888fa1a6\" y=\"94.923429\"/>\r\n      </g>\r\n     </g>\r\n     <g id=\"text_393\">\r\n      <!-- 384 -->\r\n      <g transform=\"translate(7.2 98.722648)scale(0.1 -0.1)\">\r\n       <use xlink:href=\"#DejaVuSans-51\"/>\r\n       <use x=\"63.623047\" xlink:href=\"#DejaVuSans-56\"/>\r\n       <use x=\"127.246094\" xlink:href=\"#DejaVuSans-52\"/>\r\n      </g>\r\n     </g>\r\n    </g>\r\n    <g id=\"ytick_386\">\r\n     <g id=\"line2d_394\">\r\n      <g>\r\n       <use style=\"stroke:#000000;stroke-width:0.8;\" x=\"33.2875\" xlink:href=\"#m2a888fa1a6\" y=\"94.576635\"/>\r\n      </g>\r\n     </g>\r\n     <g id=\"text_394\">\r\n      <!-- 385 -->\r\n      <g transform=\"translate(7.2 98.375854)scale(0.1 -0.1)\">\r\n       <use xlink:href=\"#DejaVuSans-51\"/>\r\n       <use x=\"63.623047\" xlink:href=\"#DejaVuSans-56\"/>\r\n       <use x=\"127.246094\" xlink:href=\"#DejaVuSans-53\"/>\r\n      </g>\r\n     </g>\r\n    </g>\r\n    <g id=\"ytick_387\">\r\n     <g id=\"line2d_395\">\r\n      <g>\r\n       <use style=\"stroke:#000000;stroke-width:0.8;\" x=\"33.2875\" xlink:href=\"#m2a888fa1a6\" y=\"94.229841\"/>\r\n      </g>\r\n     </g>\r\n     <g id=\"text_395\">\r\n      <!-- 386 -->\r\n      <g transform=\"translate(7.2 98.02906)scale(0.1 -0.1)\">\r\n       <use xlink:href=\"#DejaVuSans-51\"/>\r\n       <use x=\"63.623047\" xlink:href=\"#DejaVuSans-56\"/>\r\n       <use x=\"127.246094\" xlink:href=\"#DejaVuSans-54\"/>\r\n      </g>\r\n     </g>\r\n    </g>\r\n    <g id=\"ytick_388\">\r\n     <g id=\"line2d_396\">\r\n      <g>\r\n       <use style=\"stroke:#000000;stroke-width:0.8;\" x=\"33.2875\" xlink:href=\"#m2a888fa1a6\" y=\"93.883047\"/>\r\n      </g>\r\n     </g>\r\n     <g id=\"text_396\">\r\n      <!-- 387 -->\r\n      <g transform=\"translate(7.2 97.682265)scale(0.1 -0.1)\">\r\n       <use xlink:href=\"#DejaVuSans-51\"/>\r\n       <use x=\"63.623047\" xlink:href=\"#DejaVuSans-56\"/>\r\n       <use x=\"127.246094\" xlink:href=\"#DejaVuSans-55\"/>\r\n      </g>\r\n     </g>\r\n    </g>\r\n    <g id=\"ytick_389\">\r\n     <g id=\"line2d_397\">\r\n      <g>\r\n       <use style=\"stroke:#000000;stroke-width:0.8;\" x=\"33.2875\" xlink:href=\"#m2a888fa1a6\" y=\"93.536252\"/>\r\n      </g>\r\n     </g>\r\n     <g id=\"text_397\">\r\n      <!-- 388 -->\r\n      <g transform=\"translate(7.2 97.335471)scale(0.1 -0.1)\">\r\n       <use xlink:href=\"#DejaVuSans-51\"/>\r\n       <use x=\"63.623047\" xlink:href=\"#DejaVuSans-56\"/>\r\n       <use x=\"127.246094\" xlink:href=\"#DejaVuSans-56\"/>\r\n      </g>\r\n     </g>\r\n    </g>\r\n    <g id=\"ytick_390\">\r\n     <g id=\"line2d_398\">\r\n      <g>\r\n       <use style=\"stroke:#000000;stroke-width:0.8;\" x=\"33.2875\" xlink:href=\"#m2a888fa1a6\" y=\"93.189458\"/>\r\n      </g>\r\n     </g>\r\n     <g id=\"text_398\">\r\n      <!-- 389 -->\r\n      <g transform=\"translate(7.2 96.988677)scale(0.1 -0.1)\">\r\n       <use xlink:href=\"#DejaVuSans-51\"/>\r\n       <use x=\"63.623047\" xlink:href=\"#DejaVuSans-56\"/>\r\n       <use x=\"127.246094\" xlink:href=\"#DejaVuSans-57\"/>\r\n      </g>\r\n     </g>\r\n    </g>\r\n    <g id=\"ytick_391\">\r\n     <g id=\"line2d_399\">\r\n      <g>\r\n       <use style=\"stroke:#000000;stroke-width:0.8;\" x=\"33.2875\" xlink:href=\"#m2a888fa1a6\" y=\"92.842664\"/>\r\n      </g>\r\n     </g>\r\n     <g id=\"text_399\">\r\n      <!-- 390 -->\r\n      <g transform=\"translate(7.2 96.641882)scale(0.1 -0.1)\">\r\n       <use xlink:href=\"#DejaVuSans-51\"/>\r\n       <use x=\"63.623047\" xlink:href=\"#DejaVuSans-57\"/>\r\n       <use x=\"127.246094\" xlink:href=\"#DejaVuSans-48\"/>\r\n      </g>\r\n     </g>\r\n    </g>\r\n    <g id=\"ytick_392\">\r\n     <g id=\"line2d_400\">\r\n      <g>\r\n       <use style=\"stroke:#000000;stroke-width:0.8;\" x=\"33.2875\" xlink:href=\"#m2a888fa1a6\" y=\"92.495869\"/>\r\n      </g>\r\n     </g>\r\n     <g id=\"text_400\">\r\n      <!-- 391 -->\r\n      <g transform=\"translate(7.2 96.295088)scale(0.1 -0.1)\">\r\n       <use xlink:href=\"#DejaVuSans-51\"/>\r\n       <use x=\"63.623047\" xlink:href=\"#DejaVuSans-57\"/>\r\n       <use x=\"127.246094\" xlink:href=\"#DejaVuSans-49\"/>\r\n      </g>\r\n     </g>\r\n    </g>\r\n    <g id=\"ytick_393\">\r\n     <g id=\"line2d_401\">\r\n      <g>\r\n       <use style=\"stroke:#000000;stroke-width:0.8;\" x=\"33.2875\" xlink:href=\"#m2a888fa1a6\" y=\"92.149075\"/>\r\n      </g>\r\n     </g>\r\n     <g id=\"text_401\">\r\n      <!-- 392 -->\r\n      <g transform=\"translate(7.2 95.948294)scale(0.1 -0.1)\">\r\n       <use xlink:href=\"#DejaVuSans-51\"/>\r\n       <use x=\"63.623047\" xlink:href=\"#DejaVuSans-57\"/>\r\n       <use x=\"127.246094\" xlink:href=\"#DejaVuSans-50\"/>\r\n      </g>\r\n     </g>\r\n    </g>\r\n    <g id=\"ytick_394\">\r\n     <g id=\"line2d_402\">\r\n      <g>\r\n       <use style=\"stroke:#000000;stroke-width:0.8;\" x=\"33.2875\" xlink:href=\"#m2a888fa1a6\" y=\"91.802281\"/>\r\n      </g>\r\n     </g>\r\n     <g id=\"text_402\">\r\n      <!-- 393 -->\r\n      <g transform=\"translate(7.2 95.6015)scale(0.1 -0.1)\">\r\n       <use xlink:href=\"#DejaVuSans-51\"/>\r\n       <use x=\"63.623047\" xlink:href=\"#DejaVuSans-57\"/>\r\n       <use x=\"127.246094\" xlink:href=\"#DejaVuSans-51\"/>\r\n      </g>\r\n     </g>\r\n    </g>\r\n    <g id=\"ytick_395\">\r\n     <g id=\"line2d_403\">\r\n      <g>\r\n       <use style=\"stroke:#000000;stroke-width:0.8;\" x=\"33.2875\" xlink:href=\"#m2a888fa1a6\" y=\"91.455487\"/>\r\n      </g>\r\n     </g>\r\n     <g id=\"text_403\">\r\n      <!-- 394 -->\r\n      <g transform=\"translate(7.2 95.254705)scale(0.1 -0.1)\">\r\n       <use xlink:href=\"#DejaVuSans-51\"/>\r\n       <use x=\"63.623047\" xlink:href=\"#DejaVuSans-57\"/>\r\n       <use x=\"127.246094\" xlink:href=\"#DejaVuSans-52\"/>\r\n      </g>\r\n     </g>\r\n    </g>\r\n    <g id=\"ytick_396\">\r\n     <g id=\"line2d_404\">\r\n      <g>\r\n       <use style=\"stroke:#000000;stroke-width:0.8;\" x=\"33.2875\" xlink:href=\"#m2a888fa1a6\" y=\"91.108692\"/>\r\n      </g>\r\n     </g>\r\n     <g id=\"text_404\">\r\n      <!-- 395 -->\r\n      <g transform=\"translate(7.2 94.907911)scale(0.1 -0.1)\">\r\n       <use xlink:href=\"#DejaVuSans-51\"/>\r\n       <use x=\"63.623047\" xlink:href=\"#DejaVuSans-57\"/>\r\n       <use x=\"127.246094\" xlink:href=\"#DejaVuSans-53\"/>\r\n      </g>\r\n     </g>\r\n    </g>\r\n    <g id=\"ytick_397\">\r\n     <g id=\"line2d_405\">\r\n      <g>\r\n       <use style=\"stroke:#000000;stroke-width:0.8;\" x=\"33.2875\" xlink:href=\"#m2a888fa1a6\" y=\"90.761898\"/>\r\n      </g>\r\n     </g>\r\n     <g id=\"text_405\">\r\n      <!-- 396 -->\r\n      <g transform=\"translate(7.2 94.561117)scale(0.1 -0.1)\">\r\n       <use xlink:href=\"#DejaVuSans-51\"/>\r\n       <use x=\"63.623047\" xlink:href=\"#DejaVuSans-57\"/>\r\n       <use x=\"127.246094\" xlink:href=\"#DejaVuSans-54\"/>\r\n      </g>\r\n     </g>\r\n    </g>\r\n    <g id=\"ytick_398\">\r\n     <g id=\"line2d_406\">\r\n      <g>\r\n       <use style=\"stroke:#000000;stroke-width:0.8;\" x=\"33.2875\" xlink:href=\"#m2a888fa1a6\" y=\"90.415104\"/>\r\n      </g>\r\n     </g>\r\n     <g id=\"text_406\">\r\n      <!-- 397 -->\r\n      <g transform=\"translate(7.2 94.214323)scale(0.1 -0.1)\">\r\n       <use xlink:href=\"#DejaVuSans-51\"/>\r\n       <use x=\"63.623047\" xlink:href=\"#DejaVuSans-57\"/>\r\n       <use x=\"127.246094\" xlink:href=\"#DejaVuSans-55\"/>\r\n      </g>\r\n     </g>\r\n    </g>\r\n    <g id=\"ytick_399\">\r\n     <g id=\"line2d_407\">\r\n      <g>\r\n       <use style=\"stroke:#000000;stroke-width:0.8;\" x=\"33.2875\" xlink:href=\"#m2a888fa1a6\" y=\"90.06831\"/>\r\n      </g>\r\n     </g>\r\n     <g id=\"text_407\">\r\n      <!-- 398 -->\r\n      <g transform=\"translate(7.2 93.867528)scale(0.1 -0.1)\">\r\n       <use xlink:href=\"#DejaVuSans-51\"/>\r\n       <use x=\"63.623047\" xlink:href=\"#DejaVuSans-57\"/>\r\n       <use x=\"127.246094\" xlink:href=\"#DejaVuSans-56\"/>\r\n      </g>\r\n     </g>\r\n    </g>\r\n    <g id=\"ytick_400\">\r\n     <g id=\"line2d_408\">\r\n      <g>\r\n       <use style=\"stroke:#000000;stroke-width:0.8;\" x=\"33.2875\" xlink:href=\"#m2a888fa1a6\" y=\"89.721515\"/>\r\n      </g>\r\n     </g>\r\n     <g id=\"text_408\">\r\n      <!-- 399 -->\r\n      <g transform=\"translate(7.2 93.520734)scale(0.1 -0.1)\">\r\n       <use xlink:href=\"#DejaVuSans-51\"/>\r\n       <use x=\"63.623047\" xlink:href=\"#DejaVuSans-57\"/>\r\n       <use x=\"127.246094\" xlink:href=\"#DejaVuSans-57\"/>\r\n      </g>\r\n     </g>\r\n    </g>\r\n    <g id=\"ytick_401\">\r\n     <g id=\"line2d_409\">\r\n      <g>\r\n       <use style=\"stroke:#000000;stroke-width:0.8;\" x=\"33.2875\" xlink:href=\"#m2a888fa1a6\" y=\"89.374721\"/>\r\n      </g>\r\n     </g>\r\n     <g id=\"text_409\">\r\n      <!-- 400 -->\r\n      <g transform=\"translate(7.2 93.17394)scale(0.1 -0.1)\">\r\n       <use xlink:href=\"#DejaVuSans-52\"/>\r\n       <use x=\"63.623047\" xlink:href=\"#DejaVuSans-48\"/>\r\n       <use x=\"127.246094\" xlink:href=\"#DejaVuSans-48\"/>\r\n      </g>\r\n     </g>\r\n    </g>\r\n    <g id=\"ytick_402\">\r\n     <g id=\"line2d_410\">\r\n      <g>\r\n       <use style=\"stroke:#000000;stroke-width:0.8;\" x=\"33.2875\" xlink:href=\"#m2a888fa1a6\" y=\"89.027927\"/>\r\n      </g>\r\n     </g>\r\n     <g id=\"text_410\">\r\n      <!-- 401 -->\r\n      <g transform=\"translate(7.2 92.827146)scale(0.1 -0.1)\">\r\n       <use xlink:href=\"#DejaVuSans-52\"/>\r\n       <use x=\"63.623047\" xlink:href=\"#DejaVuSans-48\"/>\r\n       <use x=\"127.246094\" xlink:href=\"#DejaVuSans-49\"/>\r\n      </g>\r\n     </g>\r\n    </g>\r\n    <g id=\"ytick_403\">\r\n     <g id=\"line2d_411\">\r\n      <g>\r\n       <use style=\"stroke:#000000;stroke-width:0.8;\" x=\"33.2875\" xlink:href=\"#m2a888fa1a6\" y=\"88.681133\"/>\r\n      </g>\r\n     </g>\r\n     <g id=\"text_411\">\r\n      <!-- 402 -->\r\n      <g transform=\"translate(7.2 92.480351)scale(0.1 -0.1)\">\r\n       <use xlink:href=\"#DejaVuSans-52\"/>\r\n       <use x=\"63.623047\" xlink:href=\"#DejaVuSans-48\"/>\r\n       <use x=\"127.246094\" xlink:href=\"#DejaVuSans-50\"/>\r\n      </g>\r\n     </g>\r\n    </g>\r\n    <g id=\"ytick_404\">\r\n     <g id=\"line2d_412\">\r\n      <g>\r\n       <use style=\"stroke:#000000;stroke-width:0.8;\" x=\"33.2875\" xlink:href=\"#m2a888fa1a6\" y=\"88.334338\"/>\r\n      </g>\r\n     </g>\r\n     <g id=\"text_412\">\r\n      <!-- 403 -->\r\n      <g transform=\"translate(7.2 92.133557)scale(0.1 -0.1)\">\r\n       <use xlink:href=\"#DejaVuSans-52\"/>\r\n       <use x=\"63.623047\" xlink:href=\"#DejaVuSans-48\"/>\r\n       <use x=\"127.246094\" xlink:href=\"#DejaVuSans-51\"/>\r\n      </g>\r\n     </g>\r\n    </g>\r\n    <g id=\"ytick_405\">\r\n     <g id=\"line2d_413\">\r\n      <g>\r\n       <use style=\"stroke:#000000;stroke-width:0.8;\" x=\"33.2875\" xlink:href=\"#m2a888fa1a6\" y=\"87.987544\"/>\r\n      </g>\r\n     </g>\r\n     <g id=\"text_413\">\r\n      <!-- 404 -->\r\n      <g transform=\"translate(7.2 91.786763)scale(0.1 -0.1)\">\r\n       <use xlink:href=\"#DejaVuSans-52\"/>\r\n       <use x=\"63.623047\" xlink:href=\"#DejaVuSans-48\"/>\r\n       <use x=\"127.246094\" xlink:href=\"#DejaVuSans-52\"/>\r\n      </g>\r\n     </g>\r\n    </g>\r\n    <g id=\"ytick_406\">\r\n     <g id=\"line2d_414\">\r\n      <g>\r\n       <use style=\"stroke:#000000;stroke-width:0.8;\" x=\"33.2875\" xlink:href=\"#m2a888fa1a6\" y=\"87.64075\"/>\r\n      </g>\r\n     </g>\r\n     <g id=\"text_414\">\r\n      <!-- 405 -->\r\n      <g transform=\"translate(7.2 91.439969)scale(0.1 -0.1)\">\r\n       <use xlink:href=\"#DejaVuSans-52\"/>\r\n       <use x=\"63.623047\" xlink:href=\"#DejaVuSans-48\"/>\r\n       <use x=\"127.246094\" xlink:href=\"#DejaVuSans-53\"/>\r\n      </g>\r\n     </g>\r\n    </g>\r\n    <g id=\"ytick_407\">\r\n     <g id=\"line2d_415\">\r\n      <g>\r\n       <use style=\"stroke:#000000;stroke-width:0.8;\" x=\"33.2875\" xlink:href=\"#m2a888fa1a6\" y=\"87.293956\"/>\r\n      </g>\r\n     </g>\r\n     <g id=\"text_415\">\r\n      <!-- 406 -->\r\n      <g transform=\"translate(7.2 91.093174)scale(0.1 -0.1)\">\r\n       <use xlink:href=\"#DejaVuSans-52\"/>\r\n       <use x=\"63.623047\" xlink:href=\"#DejaVuSans-48\"/>\r\n       <use x=\"127.246094\" xlink:href=\"#DejaVuSans-54\"/>\r\n      </g>\r\n     </g>\r\n    </g>\r\n    <g id=\"ytick_408\">\r\n     <g id=\"line2d_416\">\r\n      <g>\r\n       <use style=\"stroke:#000000;stroke-width:0.8;\" x=\"33.2875\" xlink:href=\"#m2a888fa1a6\" y=\"86.947161\"/>\r\n      </g>\r\n     </g>\r\n     <g id=\"text_416\">\r\n      <!-- 407 -->\r\n      <g transform=\"translate(7.2 90.74638)scale(0.1 -0.1)\">\r\n       <use xlink:href=\"#DejaVuSans-52\"/>\r\n       <use x=\"63.623047\" xlink:href=\"#DejaVuSans-48\"/>\r\n       <use x=\"127.246094\" xlink:href=\"#DejaVuSans-55\"/>\r\n      </g>\r\n     </g>\r\n    </g>\r\n    <g id=\"ytick_409\">\r\n     <g id=\"line2d_417\">\r\n      <g>\r\n       <use style=\"stroke:#000000;stroke-width:0.8;\" x=\"33.2875\" xlink:href=\"#m2a888fa1a6\" y=\"86.600367\"/>\r\n      </g>\r\n     </g>\r\n     <g id=\"text_417\">\r\n      <!-- 408 -->\r\n      <g transform=\"translate(7.2 90.399586)scale(0.1 -0.1)\">\r\n       <use xlink:href=\"#DejaVuSans-52\"/>\r\n       <use x=\"63.623047\" xlink:href=\"#DejaVuSans-48\"/>\r\n       <use x=\"127.246094\" xlink:href=\"#DejaVuSans-56\"/>\r\n      </g>\r\n     </g>\r\n    </g>\r\n    <g id=\"ytick_410\">\r\n     <g id=\"line2d_418\">\r\n      <g>\r\n       <use style=\"stroke:#000000;stroke-width:0.8;\" x=\"33.2875\" xlink:href=\"#m2a888fa1a6\" y=\"86.253573\"/>\r\n      </g>\r\n     </g>\r\n     <g id=\"text_418\">\r\n      <!-- 409 -->\r\n      <g transform=\"translate(7.2 90.052792)scale(0.1 -0.1)\">\r\n       <use xlink:href=\"#DejaVuSans-52\"/>\r\n       <use x=\"63.623047\" xlink:href=\"#DejaVuSans-48\"/>\r\n       <use x=\"127.246094\" xlink:href=\"#DejaVuSans-57\"/>\r\n      </g>\r\n     </g>\r\n    </g>\r\n    <g id=\"ytick_411\">\r\n     <g id=\"line2d_419\">\r\n      <g>\r\n       <use style=\"stroke:#000000;stroke-width:0.8;\" x=\"33.2875\" xlink:href=\"#m2a888fa1a6\" y=\"85.906779\"/>\r\n      </g>\r\n     </g>\r\n     <g id=\"text_419\">\r\n      <!-- 410 -->\r\n      <g transform=\"translate(7.2 89.705997)scale(0.1 -0.1)\">\r\n       <use xlink:href=\"#DejaVuSans-52\"/>\r\n       <use x=\"63.623047\" xlink:href=\"#DejaVuSans-49\"/>\r\n       <use x=\"127.246094\" xlink:href=\"#DejaVuSans-48\"/>\r\n      </g>\r\n     </g>\r\n    </g>\r\n    <g id=\"ytick_412\">\r\n     <g id=\"line2d_420\">\r\n      <g>\r\n       <use style=\"stroke:#000000;stroke-width:0.8;\" x=\"33.2875\" xlink:href=\"#m2a888fa1a6\" y=\"85.559984\"/>\r\n      </g>\r\n     </g>\r\n     <g id=\"text_420\">\r\n      <!-- 411 -->\r\n      <g transform=\"translate(7.2 89.359203)scale(0.1 -0.1)\">\r\n       <use xlink:href=\"#DejaVuSans-52\"/>\r\n       <use x=\"63.623047\" xlink:href=\"#DejaVuSans-49\"/>\r\n       <use x=\"127.246094\" xlink:href=\"#DejaVuSans-49\"/>\r\n      </g>\r\n     </g>\r\n    </g>\r\n    <g id=\"ytick_413\">\r\n     <g id=\"line2d_421\">\r\n      <g>\r\n       <use style=\"stroke:#000000;stroke-width:0.8;\" x=\"33.2875\" xlink:href=\"#m2a888fa1a6\" y=\"85.21319\"/>\r\n      </g>\r\n     </g>\r\n     <g id=\"text_421\">\r\n      <!-- 412 -->\r\n      <g transform=\"translate(7.2 89.012409)scale(0.1 -0.1)\">\r\n       <use xlink:href=\"#DejaVuSans-52\"/>\r\n       <use x=\"63.623047\" xlink:href=\"#DejaVuSans-49\"/>\r\n       <use x=\"127.246094\" xlink:href=\"#DejaVuSans-50\"/>\r\n      </g>\r\n     </g>\r\n    </g>\r\n    <g id=\"ytick_414\">\r\n     <g id=\"line2d_422\">\r\n      <g>\r\n       <use style=\"stroke:#000000;stroke-width:0.8;\" x=\"33.2875\" xlink:href=\"#m2a888fa1a6\" y=\"84.866396\"/>\r\n      </g>\r\n     </g>\r\n     <g id=\"text_422\">\r\n      <!-- 413 -->\r\n      <g transform=\"translate(7.2 88.665615)scale(0.1 -0.1)\">\r\n       <use xlink:href=\"#DejaVuSans-52\"/>\r\n       <use x=\"63.623047\" xlink:href=\"#DejaVuSans-49\"/>\r\n       <use x=\"127.246094\" xlink:href=\"#DejaVuSans-51\"/>\r\n      </g>\r\n     </g>\r\n    </g>\r\n    <g id=\"ytick_415\">\r\n     <g id=\"line2d_423\">\r\n      <g>\r\n       <use style=\"stroke:#000000;stroke-width:0.8;\" x=\"33.2875\" xlink:href=\"#m2a888fa1a6\" y=\"84.519602\"/>\r\n      </g>\r\n     </g>\r\n     <g id=\"text_423\">\r\n      <!-- 414 -->\r\n      <g transform=\"translate(7.2 88.31882)scale(0.1 -0.1)\">\r\n       <use xlink:href=\"#DejaVuSans-52\"/>\r\n       <use x=\"63.623047\" xlink:href=\"#DejaVuSans-49\"/>\r\n       <use x=\"127.246094\" xlink:href=\"#DejaVuSans-52\"/>\r\n      </g>\r\n     </g>\r\n    </g>\r\n    <g id=\"ytick_416\">\r\n     <g id=\"line2d_424\">\r\n      <g>\r\n       <use style=\"stroke:#000000;stroke-width:0.8;\" x=\"33.2875\" xlink:href=\"#m2a888fa1a6\" y=\"84.172807\"/>\r\n      </g>\r\n     </g>\r\n     <g id=\"text_424\">\r\n      <!-- 415 -->\r\n      <g transform=\"translate(7.2 87.972026)scale(0.1 -0.1)\">\r\n       <use xlink:href=\"#DejaVuSans-52\"/>\r\n       <use x=\"63.623047\" xlink:href=\"#DejaVuSans-49\"/>\r\n       <use x=\"127.246094\" xlink:href=\"#DejaVuSans-53\"/>\r\n      </g>\r\n     </g>\r\n    </g>\r\n    <g id=\"ytick_417\">\r\n     <g id=\"line2d_425\">\r\n      <g>\r\n       <use style=\"stroke:#000000;stroke-width:0.8;\" x=\"33.2875\" xlink:href=\"#m2a888fa1a6\" y=\"83.826013\"/>\r\n      </g>\r\n     </g>\r\n     <g id=\"text_425\">\r\n      <!-- 416 -->\r\n      <g transform=\"translate(7.2 87.625232)scale(0.1 -0.1)\">\r\n       <use xlink:href=\"#DejaVuSans-52\"/>\r\n       <use x=\"63.623047\" xlink:href=\"#DejaVuSans-49\"/>\r\n       <use x=\"127.246094\" xlink:href=\"#DejaVuSans-54\"/>\r\n      </g>\r\n     </g>\r\n    </g>\r\n    <g id=\"ytick_418\">\r\n     <g id=\"line2d_426\">\r\n      <g>\r\n       <use style=\"stroke:#000000;stroke-width:0.8;\" x=\"33.2875\" xlink:href=\"#m2a888fa1a6\" y=\"83.479219\"/>\r\n      </g>\r\n     </g>\r\n     <g id=\"text_426\">\r\n      <!-- 417 -->\r\n      <g transform=\"translate(7.2 87.278437)scale(0.1 -0.1)\">\r\n       <use xlink:href=\"#DejaVuSans-52\"/>\r\n       <use x=\"63.623047\" xlink:href=\"#DejaVuSans-49\"/>\r\n       <use x=\"127.246094\" xlink:href=\"#DejaVuSans-55\"/>\r\n      </g>\r\n     </g>\r\n    </g>\r\n    <g id=\"ytick_419\">\r\n     <g id=\"line2d_427\">\r\n      <g>\r\n       <use style=\"stroke:#000000;stroke-width:0.8;\" x=\"33.2875\" xlink:href=\"#m2a888fa1a6\" y=\"83.132424\"/>\r\n      </g>\r\n     </g>\r\n     <g id=\"text_427\">\r\n      <!-- 418 -->\r\n      <g transform=\"translate(7.2 86.931643)scale(0.1 -0.1)\">\r\n       <use xlink:href=\"#DejaVuSans-52\"/>\r\n       <use x=\"63.623047\" xlink:href=\"#DejaVuSans-49\"/>\r\n       <use x=\"127.246094\" xlink:href=\"#DejaVuSans-56\"/>\r\n      </g>\r\n     </g>\r\n    </g>\r\n    <g id=\"ytick_420\">\r\n     <g id=\"line2d_428\">\r\n      <g>\r\n       <use style=\"stroke:#000000;stroke-width:0.8;\" x=\"33.2875\" xlink:href=\"#m2a888fa1a6\" y=\"82.78563\"/>\r\n      </g>\r\n     </g>\r\n     <g id=\"text_428\">\r\n      <!-- 419 -->\r\n      <g transform=\"translate(7.2 86.584849)scale(0.1 -0.1)\">\r\n       <use xlink:href=\"#DejaVuSans-52\"/>\r\n       <use x=\"63.623047\" xlink:href=\"#DejaVuSans-49\"/>\r\n       <use x=\"127.246094\" xlink:href=\"#DejaVuSans-57\"/>\r\n      </g>\r\n     </g>\r\n    </g>\r\n    <g id=\"ytick_421\">\r\n     <g id=\"line2d_429\">\r\n      <g>\r\n       <use style=\"stroke:#000000;stroke-width:0.8;\" x=\"33.2875\" xlink:href=\"#m2a888fa1a6\" y=\"82.438836\"/>\r\n      </g>\r\n     </g>\r\n     <g id=\"text_429\">\r\n      <!-- 420 -->\r\n      <g transform=\"translate(7.2 86.238055)scale(0.1 -0.1)\">\r\n       <use xlink:href=\"#DejaVuSans-52\"/>\r\n       <use x=\"63.623047\" xlink:href=\"#DejaVuSans-50\"/>\r\n       <use x=\"127.246094\" xlink:href=\"#DejaVuSans-48\"/>\r\n      </g>\r\n     </g>\r\n    </g>\r\n    <g id=\"ytick_422\">\r\n     <g id=\"line2d_430\">\r\n      <g>\r\n       <use style=\"stroke:#000000;stroke-width:0.8;\" x=\"33.2875\" xlink:href=\"#m2a888fa1a6\" y=\"82.092042\"/>\r\n      </g>\r\n     </g>\r\n     <g id=\"text_430\">\r\n      <!-- 421 -->\r\n      <g transform=\"translate(7.2 85.89126)scale(0.1 -0.1)\">\r\n       <use xlink:href=\"#DejaVuSans-52\"/>\r\n       <use x=\"63.623047\" xlink:href=\"#DejaVuSans-50\"/>\r\n       <use x=\"127.246094\" xlink:href=\"#DejaVuSans-49\"/>\r\n      </g>\r\n     </g>\r\n    </g>\r\n    <g id=\"ytick_423\">\r\n     <g id=\"line2d_431\">\r\n      <g>\r\n       <use style=\"stroke:#000000;stroke-width:0.8;\" x=\"33.2875\" xlink:href=\"#m2a888fa1a6\" y=\"81.745247\"/>\r\n      </g>\r\n     </g>\r\n     <g id=\"text_431\">\r\n      <!-- 422 -->\r\n      <g transform=\"translate(7.2 85.544466)scale(0.1 -0.1)\">\r\n       <use xlink:href=\"#DejaVuSans-52\"/>\r\n       <use x=\"63.623047\" xlink:href=\"#DejaVuSans-50\"/>\r\n       <use x=\"127.246094\" xlink:href=\"#DejaVuSans-50\"/>\r\n      </g>\r\n     </g>\r\n    </g>\r\n    <g id=\"ytick_424\">\r\n     <g id=\"line2d_432\">\r\n      <g>\r\n       <use style=\"stroke:#000000;stroke-width:0.8;\" x=\"33.2875\" xlink:href=\"#m2a888fa1a6\" y=\"81.398453\"/>\r\n      </g>\r\n     </g>\r\n     <g id=\"text_432\">\r\n      <!-- 423 -->\r\n      <g transform=\"translate(7.2 85.197672)scale(0.1 -0.1)\">\r\n       <use xlink:href=\"#DejaVuSans-52\"/>\r\n       <use x=\"63.623047\" xlink:href=\"#DejaVuSans-50\"/>\r\n       <use x=\"127.246094\" xlink:href=\"#DejaVuSans-51\"/>\r\n      </g>\r\n     </g>\r\n    </g>\r\n    <g id=\"ytick_425\">\r\n     <g id=\"line2d_433\">\r\n      <g>\r\n       <use style=\"stroke:#000000;stroke-width:0.8;\" x=\"33.2875\" xlink:href=\"#m2a888fa1a6\" y=\"81.051659\"/>\r\n      </g>\r\n     </g>\r\n     <g id=\"text_433\">\r\n      <!-- 424 -->\r\n      <g transform=\"translate(7.2 84.850878)scale(0.1 -0.1)\">\r\n       <use xlink:href=\"#DejaVuSans-52\"/>\r\n       <use x=\"63.623047\" xlink:href=\"#DejaVuSans-50\"/>\r\n       <use x=\"127.246094\" xlink:href=\"#DejaVuSans-52\"/>\r\n      </g>\r\n     </g>\r\n    </g>\r\n    <g id=\"ytick_426\">\r\n     <g id=\"line2d_434\">\r\n      <g>\r\n       <use style=\"stroke:#000000;stroke-width:0.8;\" x=\"33.2875\" xlink:href=\"#m2a888fa1a6\" y=\"80.704865\"/>\r\n      </g>\r\n     </g>\r\n     <g id=\"text_434\">\r\n      <!-- 425 -->\r\n      <g transform=\"translate(7.2 84.504083)scale(0.1 -0.1)\">\r\n       <use xlink:href=\"#DejaVuSans-52\"/>\r\n       <use x=\"63.623047\" xlink:href=\"#DejaVuSans-50\"/>\r\n       <use x=\"127.246094\" xlink:href=\"#DejaVuSans-53\"/>\r\n      </g>\r\n     </g>\r\n    </g>\r\n    <g id=\"ytick_427\">\r\n     <g id=\"line2d_435\">\r\n      <g>\r\n       <use style=\"stroke:#000000;stroke-width:0.8;\" x=\"33.2875\" xlink:href=\"#m2a888fa1a6\" y=\"80.35807\"/>\r\n      </g>\r\n     </g>\r\n     <g id=\"text_435\">\r\n      <!-- 426 -->\r\n      <g transform=\"translate(7.2 84.157289)scale(0.1 -0.1)\">\r\n       <use xlink:href=\"#DejaVuSans-52\"/>\r\n       <use x=\"63.623047\" xlink:href=\"#DejaVuSans-50\"/>\r\n       <use x=\"127.246094\" xlink:href=\"#DejaVuSans-54\"/>\r\n      </g>\r\n     </g>\r\n    </g>\r\n    <g id=\"ytick_428\">\r\n     <g id=\"line2d_436\">\r\n      <g>\r\n       <use style=\"stroke:#000000;stroke-width:0.8;\" x=\"33.2875\" xlink:href=\"#m2a888fa1a6\" y=\"80.011276\"/>\r\n      </g>\r\n     </g>\r\n     <g id=\"text_436\">\r\n      <!-- 427 -->\r\n      <g transform=\"translate(7.2 83.810495)scale(0.1 -0.1)\">\r\n       <use xlink:href=\"#DejaVuSans-52\"/>\r\n       <use x=\"63.623047\" xlink:href=\"#DejaVuSans-50\"/>\r\n       <use x=\"127.246094\" xlink:href=\"#DejaVuSans-55\"/>\r\n      </g>\r\n     </g>\r\n    </g>\r\n    <g id=\"ytick_429\">\r\n     <g id=\"line2d_437\">\r\n      <g>\r\n       <use style=\"stroke:#000000;stroke-width:0.8;\" x=\"33.2875\" xlink:href=\"#m2a888fa1a6\" y=\"79.664482\"/>\r\n      </g>\r\n     </g>\r\n     <g id=\"text_437\">\r\n      <!-- 428 -->\r\n      <g transform=\"translate(7.2 83.463701)scale(0.1 -0.1)\">\r\n       <use xlink:href=\"#DejaVuSans-52\"/>\r\n       <use x=\"63.623047\" xlink:href=\"#DejaVuSans-50\"/>\r\n       <use x=\"127.246094\" xlink:href=\"#DejaVuSans-56\"/>\r\n      </g>\r\n     </g>\r\n    </g>\r\n    <g id=\"ytick_430\">\r\n     <g id=\"line2d_438\">\r\n      <g>\r\n       <use style=\"stroke:#000000;stroke-width:0.8;\" x=\"33.2875\" xlink:href=\"#m2a888fa1a6\" y=\"79.317688\"/>\r\n      </g>\r\n     </g>\r\n     <g id=\"text_438\">\r\n      <!-- 429 -->\r\n      <g transform=\"translate(7.2 83.116906)scale(0.1 -0.1)\">\r\n       <use xlink:href=\"#DejaVuSans-52\"/>\r\n       <use x=\"63.623047\" xlink:href=\"#DejaVuSans-50\"/>\r\n       <use x=\"127.246094\" xlink:href=\"#DejaVuSans-57\"/>\r\n      </g>\r\n     </g>\r\n    </g>\r\n    <g id=\"ytick_431\">\r\n     <g id=\"line2d_439\">\r\n      <g>\r\n       <use style=\"stroke:#000000;stroke-width:0.8;\" x=\"33.2875\" xlink:href=\"#m2a888fa1a6\" y=\"78.970893\"/>\r\n      </g>\r\n     </g>\r\n     <g id=\"text_439\">\r\n      <!-- 430 -->\r\n      <g transform=\"translate(7.2 82.770112)scale(0.1 -0.1)\">\r\n       <use xlink:href=\"#DejaVuSans-52\"/>\r\n       <use x=\"63.623047\" xlink:href=\"#DejaVuSans-51\"/>\r\n       <use x=\"127.246094\" xlink:href=\"#DejaVuSans-48\"/>\r\n      </g>\r\n     </g>\r\n    </g>\r\n    <g id=\"ytick_432\">\r\n     <g id=\"line2d_440\">\r\n      <g>\r\n       <use style=\"stroke:#000000;stroke-width:0.8;\" x=\"33.2875\" xlink:href=\"#m2a888fa1a6\" y=\"78.624099\"/>\r\n      </g>\r\n     </g>\r\n     <g id=\"text_440\">\r\n      <!-- 431 -->\r\n      <g transform=\"translate(7.2 82.423318)scale(0.1 -0.1)\">\r\n       <use xlink:href=\"#DejaVuSans-52\"/>\r\n       <use x=\"63.623047\" xlink:href=\"#DejaVuSans-51\"/>\r\n       <use x=\"127.246094\" xlink:href=\"#DejaVuSans-49\"/>\r\n      </g>\r\n     </g>\r\n    </g>\r\n    <g id=\"ytick_433\">\r\n     <g id=\"line2d_441\">\r\n      <g>\r\n       <use style=\"stroke:#000000;stroke-width:0.8;\" x=\"33.2875\" xlink:href=\"#m2a888fa1a6\" y=\"78.277305\"/>\r\n      </g>\r\n     </g>\r\n     <g id=\"text_441\">\r\n      <!-- 432 -->\r\n      <g transform=\"translate(7.2 82.076524)scale(0.1 -0.1)\">\r\n       <use xlink:href=\"#DejaVuSans-52\"/>\r\n       <use x=\"63.623047\" xlink:href=\"#DejaVuSans-51\"/>\r\n       <use x=\"127.246094\" xlink:href=\"#DejaVuSans-50\"/>\r\n      </g>\r\n     </g>\r\n    </g>\r\n    <g id=\"ytick_434\">\r\n     <g id=\"line2d_442\">\r\n      <g>\r\n       <use style=\"stroke:#000000;stroke-width:0.8;\" x=\"33.2875\" xlink:href=\"#m2a888fa1a6\" y=\"77.930511\"/>\r\n      </g>\r\n     </g>\r\n     <g id=\"text_442\">\r\n      <!-- 433 -->\r\n      <g transform=\"translate(7.2 81.729729)scale(0.1 -0.1)\">\r\n       <use xlink:href=\"#DejaVuSans-52\"/>\r\n       <use x=\"63.623047\" xlink:href=\"#DejaVuSans-51\"/>\r\n       <use x=\"127.246094\" xlink:href=\"#DejaVuSans-51\"/>\r\n      </g>\r\n     </g>\r\n    </g>\r\n    <g id=\"ytick_435\">\r\n     <g id=\"line2d_443\">\r\n      <g>\r\n       <use style=\"stroke:#000000;stroke-width:0.8;\" x=\"33.2875\" xlink:href=\"#m2a888fa1a6\" y=\"77.583716\"/>\r\n      </g>\r\n     </g>\r\n     <g id=\"text_443\">\r\n      <!-- 434 -->\r\n      <g transform=\"translate(7.2 81.382935)scale(0.1 -0.1)\">\r\n       <use xlink:href=\"#DejaVuSans-52\"/>\r\n       <use x=\"63.623047\" xlink:href=\"#DejaVuSans-51\"/>\r\n       <use x=\"127.246094\" xlink:href=\"#DejaVuSans-52\"/>\r\n      </g>\r\n     </g>\r\n    </g>\r\n    <g id=\"ytick_436\">\r\n     <g id=\"line2d_444\">\r\n      <g>\r\n       <use style=\"stroke:#000000;stroke-width:0.8;\" x=\"33.2875\" xlink:href=\"#m2a888fa1a6\" y=\"77.236922\"/>\r\n      </g>\r\n     </g>\r\n     <g id=\"text_444\">\r\n      <!-- 435 -->\r\n      <g transform=\"translate(7.2 81.036141)scale(0.1 -0.1)\">\r\n       <use xlink:href=\"#DejaVuSans-52\"/>\r\n       <use x=\"63.623047\" xlink:href=\"#DejaVuSans-51\"/>\r\n       <use x=\"127.246094\" xlink:href=\"#DejaVuSans-53\"/>\r\n      </g>\r\n     </g>\r\n    </g>\r\n    <g id=\"ytick_437\">\r\n     <g id=\"line2d_445\">\r\n      <g>\r\n       <use style=\"stroke:#000000;stroke-width:0.8;\" x=\"33.2875\" xlink:href=\"#m2a888fa1a6\" y=\"76.890128\"/>\r\n      </g>\r\n     </g>\r\n     <g id=\"text_445\">\r\n      <!-- 436 -->\r\n      <g transform=\"translate(7.2 80.689347)scale(0.1 -0.1)\">\r\n       <use xlink:href=\"#DejaVuSans-52\"/>\r\n       <use x=\"63.623047\" xlink:href=\"#DejaVuSans-51\"/>\r\n       <use x=\"127.246094\" xlink:href=\"#DejaVuSans-54\"/>\r\n      </g>\r\n     </g>\r\n    </g>\r\n    <g id=\"ytick_438\">\r\n     <g id=\"line2d_446\">\r\n      <g>\r\n       <use style=\"stroke:#000000;stroke-width:0.8;\" x=\"33.2875\" xlink:href=\"#m2a888fa1a6\" y=\"76.543334\"/>\r\n      </g>\r\n     </g>\r\n     <g id=\"text_446\">\r\n      <!-- 437 -->\r\n      <g transform=\"translate(7.2 80.342552)scale(0.1 -0.1)\">\r\n       <use xlink:href=\"#DejaVuSans-52\"/>\r\n       <use x=\"63.623047\" xlink:href=\"#DejaVuSans-51\"/>\r\n       <use x=\"127.246094\" xlink:href=\"#DejaVuSans-55\"/>\r\n      </g>\r\n     </g>\r\n    </g>\r\n    <g id=\"ytick_439\">\r\n     <g id=\"line2d_447\">\r\n      <g>\r\n       <use style=\"stroke:#000000;stroke-width:0.8;\" x=\"33.2875\" xlink:href=\"#m2a888fa1a6\" y=\"76.196539\"/>\r\n      </g>\r\n     </g>\r\n     <g id=\"text_447\">\r\n      <!-- 438 -->\r\n      <g transform=\"translate(7.2 79.995758)scale(0.1 -0.1)\">\r\n       <use xlink:href=\"#DejaVuSans-52\"/>\r\n       <use x=\"63.623047\" xlink:href=\"#DejaVuSans-51\"/>\r\n       <use x=\"127.246094\" xlink:href=\"#DejaVuSans-56\"/>\r\n      </g>\r\n     </g>\r\n    </g>\r\n    <g id=\"ytick_440\">\r\n     <g id=\"line2d_448\">\r\n      <g>\r\n       <use style=\"stroke:#000000;stroke-width:0.8;\" x=\"33.2875\" xlink:href=\"#m2a888fa1a6\" y=\"75.849745\"/>\r\n      </g>\r\n     </g>\r\n     <g id=\"text_448\">\r\n      <!-- 439 -->\r\n      <g transform=\"translate(7.2 79.648964)scale(0.1 -0.1)\">\r\n       <use xlink:href=\"#DejaVuSans-52\"/>\r\n       <use x=\"63.623047\" xlink:href=\"#DejaVuSans-51\"/>\r\n       <use x=\"127.246094\" xlink:href=\"#DejaVuSans-57\"/>\r\n      </g>\r\n     </g>\r\n    </g>\r\n    <g id=\"ytick_441\">\r\n     <g id=\"line2d_449\">\r\n      <g>\r\n       <use style=\"stroke:#000000;stroke-width:0.8;\" x=\"33.2875\" xlink:href=\"#m2a888fa1a6\" y=\"75.502951\"/>\r\n      </g>\r\n     </g>\r\n     <g id=\"text_449\">\r\n      <!-- 440 -->\r\n      <g transform=\"translate(7.2 79.30217)scale(0.1 -0.1)\">\r\n       <use xlink:href=\"#DejaVuSans-52\"/>\r\n       <use x=\"63.623047\" xlink:href=\"#DejaVuSans-52\"/>\r\n       <use x=\"127.246094\" xlink:href=\"#DejaVuSans-48\"/>\r\n      </g>\r\n     </g>\r\n    </g>\r\n    <g id=\"ytick_442\">\r\n     <g id=\"line2d_450\">\r\n      <g>\r\n       <use style=\"stroke:#000000;stroke-width:0.8;\" x=\"33.2875\" xlink:href=\"#m2a888fa1a6\" y=\"75.156157\"/>\r\n      </g>\r\n     </g>\r\n     <g id=\"text_450\">\r\n      <!-- 441 -->\r\n      <g transform=\"translate(7.2 78.955375)scale(0.1 -0.1)\">\r\n       <use xlink:href=\"#DejaVuSans-52\"/>\r\n       <use x=\"63.623047\" xlink:href=\"#DejaVuSans-52\"/>\r\n       <use x=\"127.246094\" xlink:href=\"#DejaVuSans-49\"/>\r\n      </g>\r\n     </g>\r\n    </g>\r\n    <g id=\"ytick_443\">\r\n     <g id=\"line2d_451\">\r\n      <g>\r\n       <use style=\"stroke:#000000;stroke-width:0.8;\" x=\"33.2875\" xlink:href=\"#m2a888fa1a6\" y=\"74.809362\"/>\r\n      </g>\r\n     </g>\r\n     <g id=\"text_451\">\r\n      <!-- 442 -->\r\n      <g transform=\"translate(7.2 78.608581)scale(0.1 -0.1)\">\r\n       <use xlink:href=\"#DejaVuSans-52\"/>\r\n       <use x=\"63.623047\" xlink:href=\"#DejaVuSans-52\"/>\r\n       <use x=\"127.246094\" xlink:href=\"#DejaVuSans-50\"/>\r\n      </g>\r\n     </g>\r\n    </g>\r\n    <g id=\"ytick_444\">\r\n     <g id=\"line2d_452\">\r\n      <g>\r\n       <use style=\"stroke:#000000;stroke-width:0.8;\" x=\"33.2875\" xlink:href=\"#m2a888fa1a6\" y=\"74.462568\"/>\r\n      </g>\r\n     </g>\r\n     <g id=\"text_452\">\r\n      <!-- 443 -->\r\n      <g transform=\"translate(7.2 78.261787)scale(0.1 -0.1)\">\r\n       <use xlink:href=\"#DejaVuSans-52\"/>\r\n       <use x=\"63.623047\" xlink:href=\"#DejaVuSans-52\"/>\r\n       <use x=\"127.246094\" xlink:href=\"#DejaVuSans-51\"/>\r\n      </g>\r\n     </g>\r\n    </g>\r\n    <g id=\"ytick_445\">\r\n     <g id=\"line2d_453\">\r\n      <g>\r\n       <use style=\"stroke:#000000;stroke-width:0.8;\" x=\"33.2875\" xlink:href=\"#m2a888fa1a6\" y=\"74.115774\"/>\r\n      </g>\r\n     </g>\r\n     <g id=\"text_453\">\r\n      <!-- 444 -->\r\n      <g transform=\"translate(7.2 77.914993)scale(0.1 -0.1)\">\r\n       <use xlink:href=\"#DejaVuSans-52\"/>\r\n       <use x=\"63.623047\" xlink:href=\"#DejaVuSans-52\"/>\r\n       <use x=\"127.246094\" xlink:href=\"#DejaVuSans-52\"/>\r\n      </g>\r\n     </g>\r\n    </g>\r\n    <g id=\"ytick_446\">\r\n     <g id=\"line2d_454\">\r\n      <g>\r\n       <use style=\"stroke:#000000;stroke-width:0.8;\" x=\"33.2875\" xlink:href=\"#m2a888fa1a6\" y=\"73.76898\"/>\r\n      </g>\r\n     </g>\r\n     <g id=\"text_454\">\r\n      <!-- 445 -->\r\n      <g transform=\"translate(7.2 77.568198)scale(0.1 -0.1)\">\r\n       <use xlink:href=\"#DejaVuSans-52\"/>\r\n       <use x=\"63.623047\" xlink:href=\"#DejaVuSans-52\"/>\r\n       <use x=\"127.246094\" xlink:href=\"#DejaVuSans-53\"/>\r\n      </g>\r\n     </g>\r\n    </g>\r\n    <g id=\"ytick_447\">\r\n     <g id=\"line2d_455\">\r\n      <g>\r\n       <use style=\"stroke:#000000;stroke-width:0.8;\" x=\"33.2875\" xlink:href=\"#m2a888fa1a6\" y=\"73.422185\"/>\r\n      </g>\r\n     </g>\r\n     <g id=\"text_455\">\r\n      <!-- 446 -->\r\n      <g transform=\"translate(7.2 77.221404)scale(0.1 -0.1)\">\r\n       <use xlink:href=\"#DejaVuSans-52\"/>\r\n       <use x=\"63.623047\" xlink:href=\"#DejaVuSans-52\"/>\r\n       <use x=\"127.246094\" xlink:href=\"#DejaVuSans-54\"/>\r\n      </g>\r\n     </g>\r\n    </g>\r\n    <g id=\"ytick_448\">\r\n     <g id=\"line2d_456\">\r\n      <g>\r\n       <use style=\"stroke:#000000;stroke-width:0.8;\" x=\"33.2875\" xlink:href=\"#m2a888fa1a6\" y=\"73.075391\"/>\r\n      </g>\r\n     </g>\r\n     <g id=\"text_456\">\r\n      <!-- 447 -->\r\n      <g transform=\"translate(7.2 76.87461)scale(0.1 -0.1)\">\r\n       <use xlink:href=\"#DejaVuSans-52\"/>\r\n       <use x=\"63.623047\" xlink:href=\"#DejaVuSans-52\"/>\r\n       <use x=\"127.246094\" xlink:href=\"#DejaVuSans-55\"/>\r\n      </g>\r\n     </g>\r\n    </g>\r\n    <g id=\"ytick_449\">\r\n     <g id=\"line2d_457\">\r\n      <g>\r\n       <use style=\"stroke:#000000;stroke-width:0.8;\" x=\"33.2875\" xlink:href=\"#m2a888fa1a6\" y=\"72.728597\"/>\r\n      </g>\r\n     </g>\r\n     <g id=\"text_457\">\r\n      <!-- 448 -->\r\n      <g transform=\"translate(7.2 76.527815)scale(0.1 -0.1)\">\r\n       <use xlink:href=\"#DejaVuSans-52\"/>\r\n       <use x=\"63.623047\" xlink:href=\"#DejaVuSans-52\"/>\r\n       <use x=\"127.246094\" xlink:href=\"#DejaVuSans-56\"/>\r\n      </g>\r\n     </g>\r\n    </g>\r\n    <g id=\"ytick_450\">\r\n     <g id=\"line2d_458\">\r\n      <g>\r\n       <use style=\"stroke:#000000;stroke-width:0.8;\" x=\"33.2875\" xlink:href=\"#m2a888fa1a6\" y=\"72.381802\"/>\r\n      </g>\r\n     </g>\r\n     <g id=\"text_458\">\r\n      <!-- 449 -->\r\n      <g transform=\"translate(7.2 76.181021)scale(0.1 -0.1)\">\r\n       <use xlink:href=\"#DejaVuSans-52\"/>\r\n       <use x=\"63.623047\" xlink:href=\"#DejaVuSans-52\"/>\r\n       <use x=\"127.246094\" xlink:href=\"#DejaVuSans-57\"/>\r\n      </g>\r\n     </g>\r\n    </g>\r\n    <g id=\"ytick_451\">\r\n     <g id=\"line2d_459\">\r\n      <g>\r\n       <use style=\"stroke:#000000;stroke-width:0.8;\" x=\"33.2875\" xlink:href=\"#m2a888fa1a6\" y=\"72.035008\"/>\r\n      </g>\r\n     </g>\r\n     <g id=\"text_459\">\r\n      <!-- 450 -->\r\n      <g transform=\"translate(7.2 75.834227)scale(0.1 -0.1)\">\r\n       <use xlink:href=\"#DejaVuSans-52\"/>\r\n       <use x=\"63.623047\" xlink:href=\"#DejaVuSans-53\"/>\r\n       <use x=\"127.246094\" xlink:href=\"#DejaVuSans-48\"/>\r\n      </g>\r\n     </g>\r\n    </g>\r\n    <g id=\"ytick_452\">\r\n     <g id=\"line2d_460\">\r\n      <g>\r\n       <use style=\"stroke:#000000;stroke-width:0.8;\" x=\"33.2875\" xlink:href=\"#m2a888fa1a6\" y=\"71.688214\"/>\r\n      </g>\r\n     </g>\r\n     <g id=\"text_460\">\r\n      <!-- 451 -->\r\n      <g transform=\"translate(7.2 75.487433)scale(0.1 -0.1)\">\r\n       <use xlink:href=\"#DejaVuSans-52\"/>\r\n       <use x=\"63.623047\" xlink:href=\"#DejaVuSans-53\"/>\r\n       <use x=\"127.246094\" xlink:href=\"#DejaVuSans-49\"/>\r\n      </g>\r\n     </g>\r\n    </g>\r\n    <g id=\"ytick_453\">\r\n     <g id=\"line2d_461\">\r\n      <g>\r\n       <use style=\"stroke:#000000;stroke-width:0.8;\" x=\"33.2875\" xlink:href=\"#m2a888fa1a6\" y=\"71.34142\"/>\r\n      </g>\r\n     </g>\r\n     <g id=\"text_461\">\r\n      <!-- 452 -->\r\n      <g transform=\"translate(7.2 75.140638)scale(0.1 -0.1)\">\r\n       <use xlink:href=\"#DejaVuSans-52\"/>\r\n       <use x=\"63.623047\" xlink:href=\"#DejaVuSans-53\"/>\r\n       <use x=\"127.246094\" xlink:href=\"#DejaVuSans-50\"/>\r\n      </g>\r\n     </g>\r\n    </g>\r\n    <g id=\"ytick_454\">\r\n     <g id=\"line2d_462\">\r\n      <g>\r\n       <use style=\"stroke:#000000;stroke-width:0.8;\" x=\"33.2875\" xlink:href=\"#m2a888fa1a6\" y=\"70.994625\"/>\r\n      </g>\r\n     </g>\r\n     <g id=\"text_462\">\r\n      <!-- 453 -->\r\n      <g transform=\"translate(7.2 74.793844)scale(0.1 -0.1)\">\r\n       <use xlink:href=\"#DejaVuSans-52\"/>\r\n       <use x=\"63.623047\" xlink:href=\"#DejaVuSans-53\"/>\r\n       <use x=\"127.246094\" xlink:href=\"#DejaVuSans-51\"/>\r\n      </g>\r\n     </g>\r\n    </g>\r\n    <g id=\"ytick_455\">\r\n     <g id=\"line2d_463\">\r\n      <g>\r\n       <use style=\"stroke:#000000;stroke-width:0.8;\" x=\"33.2875\" xlink:href=\"#m2a888fa1a6\" y=\"70.647831\"/>\r\n      </g>\r\n     </g>\r\n     <g id=\"text_463\">\r\n      <!-- 454 -->\r\n      <g transform=\"translate(7.2 74.44705)scale(0.1 -0.1)\">\r\n       <use xlink:href=\"#DejaVuSans-52\"/>\r\n       <use x=\"63.623047\" xlink:href=\"#DejaVuSans-53\"/>\r\n       <use x=\"127.246094\" xlink:href=\"#DejaVuSans-52\"/>\r\n      </g>\r\n     </g>\r\n    </g>\r\n    <g id=\"ytick_456\">\r\n     <g id=\"line2d_464\">\r\n      <g>\r\n       <use style=\"stroke:#000000;stroke-width:0.8;\" x=\"33.2875\" xlink:href=\"#m2a888fa1a6\" y=\"70.301037\"/>\r\n      </g>\r\n     </g>\r\n     <g id=\"text_464\">\r\n      <!-- 455 -->\r\n      <g transform=\"translate(7.2 74.100256)scale(0.1 -0.1)\">\r\n       <use xlink:href=\"#DejaVuSans-52\"/>\r\n       <use x=\"63.623047\" xlink:href=\"#DejaVuSans-53\"/>\r\n       <use x=\"127.246094\" xlink:href=\"#DejaVuSans-53\"/>\r\n      </g>\r\n     </g>\r\n    </g>\r\n    <g id=\"ytick_457\">\r\n     <g id=\"line2d_465\">\r\n      <g>\r\n       <use style=\"stroke:#000000;stroke-width:0.8;\" x=\"33.2875\" xlink:href=\"#m2a888fa1a6\" y=\"69.954243\"/>\r\n      </g>\r\n     </g>\r\n     <g id=\"text_465\">\r\n      <!-- 456 -->\r\n      <g transform=\"translate(7.2 73.753461)scale(0.1 -0.1)\">\r\n       <use xlink:href=\"#DejaVuSans-52\"/>\r\n       <use x=\"63.623047\" xlink:href=\"#DejaVuSans-53\"/>\r\n       <use x=\"127.246094\" xlink:href=\"#DejaVuSans-54\"/>\r\n      </g>\r\n     </g>\r\n    </g>\r\n    <g id=\"ytick_458\">\r\n     <g id=\"line2d_466\">\r\n      <g>\r\n       <use style=\"stroke:#000000;stroke-width:0.8;\" x=\"33.2875\" xlink:href=\"#m2a888fa1a6\" y=\"69.607448\"/>\r\n      </g>\r\n     </g>\r\n     <g id=\"text_466\">\r\n      <!-- 457 -->\r\n      <g transform=\"translate(7.2 73.406667)scale(0.1 -0.1)\">\r\n       <use xlink:href=\"#DejaVuSans-52\"/>\r\n       <use x=\"63.623047\" xlink:href=\"#DejaVuSans-53\"/>\r\n       <use x=\"127.246094\" xlink:href=\"#DejaVuSans-55\"/>\r\n      </g>\r\n     </g>\r\n    </g>\r\n    <g id=\"ytick_459\">\r\n     <g id=\"line2d_467\">\r\n      <g>\r\n       <use style=\"stroke:#000000;stroke-width:0.8;\" x=\"33.2875\" xlink:href=\"#m2a888fa1a6\" y=\"69.260654\"/>\r\n      </g>\r\n     </g>\r\n     <g id=\"text_467\">\r\n      <!-- 458 -->\r\n      <g transform=\"translate(7.2 73.059873)scale(0.1 -0.1)\">\r\n       <use xlink:href=\"#DejaVuSans-52\"/>\r\n       <use x=\"63.623047\" xlink:href=\"#DejaVuSans-53\"/>\r\n       <use x=\"127.246094\" xlink:href=\"#DejaVuSans-56\"/>\r\n      </g>\r\n     </g>\r\n    </g>\r\n    <g id=\"ytick_460\">\r\n     <g id=\"line2d_468\">\r\n      <g>\r\n       <use style=\"stroke:#000000;stroke-width:0.8;\" x=\"33.2875\" xlink:href=\"#m2a888fa1a6\" y=\"68.91386\"/>\r\n      </g>\r\n     </g>\r\n     <g id=\"text_468\">\r\n      <!-- 459 -->\r\n      <g transform=\"translate(7.2 72.713079)scale(0.1 -0.1)\">\r\n       <use xlink:href=\"#DejaVuSans-52\"/>\r\n       <use x=\"63.623047\" xlink:href=\"#DejaVuSans-53\"/>\r\n       <use x=\"127.246094\" xlink:href=\"#DejaVuSans-57\"/>\r\n      </g>\r\n     </g>\r\n    </g>\r\n    <g id=\"ytick_461\">\r\n     <g id=\"line2d_469\">\r\n      <g>\r\n       <use style=\"stroke:#000000;stroke-width:0.8;\" x=\"33.2875\" xlink:href=\"#m2a888fa1a6\" y=\"68.567066\"/>\r\n      </g>\r\n     </g>\r\n     <g id=\"text_469\">\r\n      <!-- 460 -->\r\n      <g transform=\"translate(7.2 72.366284)scale(0.1 -0.1)\">\r\n       <use xlink:href=\"#DejaVuSans-52\"/>\r\n       <use x=\"63.623047\" xlink:href=\"#DejaVuSans-54\"/>\r\n       <use x=\"127.246094\" xlink:href=\"#DejaVuSans-48\"/>\r\n      </g>\r\n     </g>\r\n    </g>\r\n    <g id=\"ytick_462\">\r\n     <g id=\"line2d_470\">\r\n      <g>\r\n       <use style=\"stroke:#000000;stroke-width:0.8;\" x=\"33.2875\" xlink:href=\"#m2a888fa1a6\" y=\"68.220271\"/>\r\n      </g>\r\n     </g>\r\n     <g id=\"text_470\">\r\n      <!-- 461 -->\r\n      <g transform=\"translate(7.2 72.01949)scale(0.1 -0.1)\">\r\n       <use xlink:href=\"#DejaVuSans-52\"/>\r\n       <use x=\"63.623047\" xlink:href=\"#DejaVuSans-54\"/>\r\n       <use x=\"127.246094\" xlink:href=\"#DejaVuSans-49\"/>\r\n      </g>\r\n     </g>\r\n    </g>\r\n    <g id=\"ytick_463\">\r\n     <g id=\"line2d_471\">\r\n      <g>\r\n       <use style=\"stroke:#000000;stroke-width:0.8;\" x=\"33.2875\" xlink:href=\"#m2a888fa1a6\" y=\"67.873477\"/>\r\n      </g>\r\n     </g>\r\n     <g id=\"text_471\">\r\n      <!-- 462 -->\r\n      <g transform=\"translate(7.2 71.672696)scale(0.1 -0.1)\">\r\n       <use xlink:href=\"#DejaVuSans-52\"/>\r\n       <use x=\"63.623047\" xlink:href=\"#DejaVuSans-54\"/>\r\n       <use x=\"127.246094\" xlink:href=\"#DejaVuSans-50\"/>\r\n      </g>\r\n     </g>\r\n    </g>\r\n    <g id=\"ytick_464\">\r\n     <g id=\"line2d_472\">\r\n      <g>\r\n       <use style=\"stroke:#000000;stroke-width:0.8;\" x=\"33.2875\" xlink:href=\"#m2a888fa1a6\" y=\"67.526683\"/>\r\n      </g>\r\n     </g>\r\n     <g id=\"text_472\">\r\n      <!-- 463 -->\r\n      <g transform=\"translate(7.2 71.325902)scale(0.1 -0.1)\">\r\n       <use xlink:href=\"#DejaVuSans-52\"/>\r\n       <use x=\"63.623047\" xlink:href=\"#DejaVuSans-54\"/>\r\n       <use x=\"127.246094\" xlink:href=\"#DejaVuSans-51\"/>\r\n      </g>\r\n     </g>\r\n    </g>\r\n    <g id=\"ytick_465\">\r\n     <g id=\"line2d_473\">\r\n      <g>\r\n       <use style=\"stroke:#000000;stroke-width:0.8;\" x=\"33.2875\" xlink:href=\"#m2a888fa1a6\" y=\"67.179889\"/>\r\n      </g>\r\n     </g>\r\n     <g id=\"text_473\">\r\n      <!-- 464 -->\r\n      <g transform=\"translate(7.2 70.979107)scale(0.1 -0.1)\">\r\n       <use xlink:href=\"#DejaVuSans-52\"/>\r\n       <use x=\"63.623047\" xlink:href=\"#DejaVuSans-54\"/>\r\n       <use x=\"127.246094\" xlink:href=\"#DejaVuSans-52\"/>\r\n      </g>\r\n     </g>\r\n    </g>\r\n    <g id=\"ytick_466\">\r\n     <g id=\"line2d_474\">\r\n      <g>\r\n       <use style=\"stroke:#000000;stroke-width:0.8;\" x=\"33.2875\" xlink:href=\"#m2a888fa1a6\" y=\"66.833094\"/>\r\n      </g>\r\n     </g>\r\n     <g id=\"text_474\">\r\n      <!-- 465 -->\r\n      <g transform=\"translate(7.2 70.632313)scale(0.1 -0.1)\">\r\n       <use xlink:href=\"#DejaVuSans-52\"/>\r\n       <use x=\"63.623047\" xlink:href=\"#DejaVuSans-54\"/>\r\n       <use x=\"127.246094\" xlink:href=\"#DejaVuSans-53\"/>\r\n      </g>\r\n     </g>\r\n    </g>\r\n    <g id=\"ytick_467\">\r\n     <g id=\"line2d_475\">\r\n      <g>\r\n       <use style=\"stroke:#000000;stroke-width:0.8;\" x=\"33.2875\" xlink:href=\"#m2a888fa1a6\" y=\"66.4863\"/>\r\n      </g>\r\n     </g>\r\n     <g id=\"text_475\">\r\n      <!-- 466 -->\r\n      <g transform=\"translate(7.2 70.285519)scale(0.1 -0.1)\">\r\n       <use xlink:href=\"#DejaVuSans-52\"/>\r\n       <use x=\"63.623047\" xlink:href=\"#DejaVuSans-54\"/>\r\n       <use x=\"127.246094\" xlink:href=\"#DejaVuSans-54\"/>\r\n      </g>\r\n     </g>\r\n    </g>\r\n    <g id=\"ytick_468\">\r\n     <g id=\"line2d_476\">\r\n      <g>\r\n       <use style=\"stroke:#000000;stroke-width:0.8;\" x=\"33.2875\" xlink:href=\"#m2a888fa1a6\" y=\"66.139506\"/>\r\n      </g>\r\n     </g>\r\n     <g id=\"text_476\">\r\n      <!-- 467 -->\r\n      <g transform=\"translate(7.2 69.938725)scale(0.1 -0.1)\">\r\n       <use xlink:href=\"#DejaVuSans-52\"/>\r\n       <use x=\"63.623047\" xlink:href=\"#DejaVuSans-54\"/>\r\n       <use x=\"127.246094\" xlink:href=\"#DejaVuSans-55\"/>\r\n      </g>\r\n     </g>\r\n    </g>\r\n    <g id=\"ytick_469\">\r\n     <g id=\"line2d_477\">\r\n      <g>\r\n       <use style=\"stroke:#000000;stroke-width:0.8;\" x=\"33.2875\" xlink:href=\"#m2a888fa1a6\" y=\"65.792712\"/>\r\n      </g>\r\n     </g>\r\n     <g id=\"text_477\">\r\n      <!-- 468 -->\r\n      <g transform=\"translate(7.2 69.59193)scale(0.1 -0.1)\">\r\n       <use xlink:href=\"#DejaVuSans-52\"/>\r\n       <use x=\"63.623047\" xlink:href=\"#DejaVuSans-54\"/>\r\n       <use x=\"127.246094\" xlink:href=\"#DejaVuSans-56\"/>\r\n      </g>\r\n     </g>\r\n    </g>\r\n    <g id=\"ytick_470\">\r\n     <g id=\"line2d_478\">\r\n      <g>\r\n       <use style=\"stroke:#000000;stroke-width:0.8;\" x=\"33.2875\" xlink:href=\"#m2a888fa1a6\" y=\"65.445917\"/>\r\n      </g>\r\n     </g>\r\n     <g id=\"text_478\">\r\n      <!-- 469 -->\r\n      <g transform=\"translate(7.2 69.245136)scale(0.1 -0.1)\">\r\n       <use xlink:href=\"#DejaVuSans-52\"/>\r\n       <use x=\"63.623047\" xlink:href=\"#DejaVuSans-54\"/>\r\n       <use x=\"127.246094\" xlink:href=\"#DejaVuSans-57\"/>\r\n      </g>\r\n     </g>\r\n    </g>\r\n    <g id=\"ytick_471\">\r\n     <g id=\"line2d_479\">\r\n      <g>\r\n       <use style=\"stroke:#000000;stroke-width:0.8;\" x=\"33.2875\" xlink:href=\"#m2a888fa1a6\" y=\"65.099123\"/>\r\n      </g>\r\n     </g>\r\n     <g id=\"text_479\">\r\n      <!-- 470 -->\r\n      <g transform=\"translate(7.2 68.898342)scale(0.1 -0.1)\">\r\n       <use xlink:href=\"#DejaVuSans-52\"/>\r\n       <use x=\"63.623047\" xlink:href=\"#DejaVuSans-55\"/>\r\n       <use x=\"127.246094\" xlink:href=\"#DejaVuSans-48\"/>\r\n      </g>\r\n     </g>\r\n    </g>\r\n    <g id=\"ytick_472\">\r\n     <g id=\"line2d_480\">\r\n      <g>\r\n       <use style=\"stroke:#000000;stroke-width:0.8;\" x=\"33.2875\" xlink:href=\"#m2a888fa1a6\" y=\"64.752329\"/>\r\n      </g>\r\n     </g>\r\n     <g id=\"text_480\">\r\n      <!-- 471 -->\r\n      <g transform=\"translate(7.2 68.551548)scale(0.1 -0.1)\">\r\n       <use xlink:href=\"#DejaVuSans-52\"/>\r\n       <use x=\"63.623047\" xlink:href=\"#DejaVuSans-55\"/>\r\n       <use x=\"127.246094\" xlink:href=\"#DejaVuSans-49\"/>\r\n      </g>\r\n     </g>\r\n    </g>\r\n    <g id=\"ytick_473\">\r\n     <g id=\"line2d_481\">\r\n      <g>\r\n       <use style=\"stroke:#000000;stroke-width:0.8;\" x=\"33.2875\" xlink:href=\"#m2a888fa1a6\" y=\"64.405535\"/>\r\n      </g>\r\n     </g>\r\n     <g id=\"text_481\">\r\n      <!-- 472 -->\r\n      <g transform=\"translate(7.2 68.204753)scale(0.1 -0.1)\">\r\n       <use xlink:href=\"#DejaVuSans-52\"/>\r\n       <use x=\"63.623047\" xlink:href=\"#DejaVuSans-55\"/>\r\n       <use x=\"127.246094\" xlink:href=\"#DejaVuSans-50\"/>\r\n      </g>\r\n     </g>\r\n    </g>\r\n    <g id=\"ytick_474\">\r\n     <g id=\"line2d_482\">\r\n      <g>\r\n       <use style=\"stroke:#000000;stroke-width:0.8;\" x=\"33.2875\" xlink:href=\"#m2a888fa1a6\" y=\"64.05874\"/>\r\n      </g>\r\n     </g>\r\n     <g id=\"text_482\">\r\n      <!-- 473 -->\r\n      <g transform=\"translate(7.2 67.857959)scale(0.1 -0.1)\">\r\n       <use xlink:href=\"#DejaVuSans-52\"/>\r\n       <use x=\"63.623047\" xlink:href=\"#DejaVuSans-55\"/>\r\n       <use x=\"127.246094\" xlink:href=\"#DejaVuSans-51\"/>\r\n      </g>\r\n     </g>\r\n    </g>\r\n    <g id=\"ytick_475\">\r\n     <g id=\"line2d_483\">\r\n      <g>\r\n       <use style=\"stroke:#000000;stroke-width:0.8;\" x=\"33.2875\" xlink:href=\"#m2a888fa1a6\" y=\"63.711946\"/>\r\n      </g>\r\n     </g>\r\n     <g id=\"text_483\">\r\n      <!-- 474 -->\r\n      <g transform=\"translate(7.2 67.511165)scale(0.1 -0.1)\">\r\n       <use xlink:href=\"#DejaVuSans-52\"/>\r\n       <use x=\"63.623047\" xlink:href=\"#DejaVuSans-55\"/>\r\n       <use x=\"127.246094\" xlink:href=\"#DejaVuSans-52\"/>\r\n      </g>\r\n     </g>\r\n    </g>\r\n    <g id=\"ytick_476\">\r\n     <g id=\"line2d_484\">\r\n      <g>\r\n       <use style=\"stroke:#000000;stroke-width:0.8;\" x=\"33.2875\" xlink:href=\"#m2a888fa1a6\" y=\"63.365152\"/>\r\n      </g>\r\n     </g>\r\n     <g id=\"text_484\">\r\n      <!-- 475 -->\r\n      <g transform=\"translate(7.2 67.164371)scale(0.1 -0.1)\">\r\n       <use xlink:href=\"#DejaVuSans-52\"/>\r\n       <use x=\"63.623047\" xlink:href=\"#DejaVuSans-55\"/>\r\n       <use x=\"127.246094\" xlink:href=\"#DejaVuSans-53\"/>\r\n      </g>\r\n     </g>\r\n    </g>\r\n    <g id=\"ytick_477\">\r\n     <g id=\"line2d_485\">\r\n      <g>\r\n       <use style=\"stroke:#000000;stroke-width:0.8;\" x=\"33.2875\" xlink:href=\"#m2a888fa1a6\" y=\"63.018358\"/>\r\n      </g>\r\n     </g>\r\n     <g id=\"text_485\">\r\n      <!-- 476 -->\r\n      <g transform=\"translate(7.2 66.817576)scale(0.1 -0.1)\">\r\n       <use xlink:href=\"#DejaVuSans-52\"/>\r\n       <use x=\"63.623047\" xlink:href=\"#DejaVuSans-55\"/>\r\n       <use x=\"127.246094\" xlink:href=\"#DejaVuSans-54\"/>\r\n      </g>\r\n     </g>\r\n    </g>\r\n    <g id=\"ytick_478\">\r\n     <g id=\"line2d_486\">\r\n      <g>\r\n       <use style=\"stroke:#000000;stroke-width:0.8;\" x=\"33.2875\" xlink:href=\"#m2a888fa1a6\" y=\"62.671563\"/>\r\n      </g>\r\n     </g>\r\n     <g id=\"text_486\">\r\n      <!-- 477 -->\r\n      <g transform=\"translate(7.2 66.470782)scale(0.1 -0.1)\">\r\n       <use xlink:href=\"#DejaVuSans-52\"/>\r\n       <use x=\"63.623047\" xlink:href=\"#DejaVuSans-55\"/>\r\n       <use x=\"127.246094\" xlink:href=\"#DejaVuSans-55\"/>\r\n      </g>\r\n     </g>\r\n    </g>\r\n    <g id=\"ytick_479\">\r\n     <g id=\"line2d_487\">\r\n      <g>\r\n       <use style=\"stroke:#000000;stroke-width:0.8;\" x=\"33.2875\" xlink:href=\"#m2a888fa1a6\" y=\"62.324769\"/>\r\n      </g>\r\n     </g>\r\n     <g id=\"text_487\">\r\n      <!-- 478 -->\r\n      <g transform=\"translate(7.2 66.123988)scale(0.1 -0.1)\">\r\n       <use xlink:href=\"#DejaVuSans-52\"/>\r\n       <use x=\"63.623047\" xlink:href=\"#DejaVuSans-55\"/>\r\n       <use x=\"127.246094\" xlink:href=\"#DejaVuSans-56\"/>\r\n      </g>\r\n     </g>\r\n    </g>\r\n    <g id=\"ytick_480\">\r\n     <g id=\"line2d_488\">\r\n      <g>\r\n       <use style=\"stroke:#000000;stroke-width:0.8;\" x=\"33.2875\" xlink:href=\"#m2a888fa1a6\" y=\"61.977975\"/>\r\n      </g>\r\n     </g>\r\n     <g id=\"text_488\">\r\n      <!-- 479 -->\r\n      <g transform=\"translate(7.2 65.777193)scale(0.1 -0.1)\">\r\n       <use xlink:href=\"#DejaVuSans-52\"/>\r\n       <use x=\"63.623047\" xlink:href=\"#DejaVuSans-55\"/>\r\n       <use x=\"127.246094\" xlink:href=\"#DejaVuSans-57\"/>\r\n      </g>\r\n     </g>\r\n    </g>\r\n    <g id=\"ytick_481\">\r\n     <g id=\"line2d_489\">\r\n      <g>\r\n       <use style=\"stroke:#000000;stroke-width:0.8;\" x=\"33.2875\" xlink:href=\"#m2a888fa1a6\" y=\"61.63118\"/>\r\n      </g>\r\n     </g>\r\n     <g id=\"text_489\">\r\n      <!-- 480 -->\r\n      <g transform=\"translate(7.2 65.430399)scale(0.1 -0.1)\">\r\n       <use xlink:href=\"#DejaVuSans-52\"/>\r\n       <use x=\"63.623047\" xlink:href=\"#DejaVuSans-56\"/>\r\n       <use x=\"127.246094\" xlink:href=\"#DejaVuSans-48\"/>\r\n      </g>\r\n     </g>\r\n    </g>\r\n    <g id=\"ytick_482\">\r\n     <g id=\"line2d_490\">\r\n      <g>\r\n       <use style=\"stroke:#000000;stroke-width:0.8;\" x=\"33.2875\" xlink:href=\"#m2a888fa1a6\" y=\"61.284386\"/>\r\n      </g>\r\n     </g>\r\n     <g id=\"text_490\">\r\n      <!-- 481 -->\r\n      <g transform=\"translate(7.2 65.083605)scale(0.1 -0.1)\">\r\n       <use xlink:href=\"#DejaVuSans-52\"/>\r\n       <use x=\"63.623047\" xlink:href=\"#DejaVuSans-56\"/>\r\n       <use x=\"127.246094\" xlink:href=\"#DejaVuSans-49\"/>\r\n      </g>\r\n     </g>\r\n    </g>\r\n    <g id=\"ytick_483\">\r\n     <g id=\"line2d_491\">\r\n      <g>\r\n       <use style=\"stroke:#000000;stroke-width:0.8;\" x=\"33.2875\" xlink:href=\"#m2a888fa1a6\" y=\"60.937592\"/>\r\n      </g>\r\n     </g>\r\n     <g id=\"text_491\">\r\n      <!-- 482 -->\r\n      <g transform=\"translate(7.2 64.736811)scale(0.1 -0.1)\">\r\n       <use xlink:href=\"#DejaVuSans-52\"/>\r\n       <use x=\"63.623047\" xlink:href=\"#DejaVuSans-56\"/>\r\n       <use x=\"127.246094\" xlink:href=\"#DejaVuSans-50\"/>\r\n      </g>\r\n     </g>\r\n    </g>\r\n    <g id=\"ytick_484\">\r\n     <g id=\"line2d_492\">\r\n      <g>\r\n       <use style=\"stroke:#000000;stroke-width:0.8;\" x=\"33.2875\" xlink:href=\"#m2a888fa1a6\" y=\"60.590798\"/>\r\n      </g>\r\n     </g>\r\n     <g id=\"text_492\">\r\n      <!-- 483 -->\r\n      <g transform=\"translate(7.2 64.390016)scale(0.1 -0.1)\">\r\n       <use xlink:href=\"#DejaVuSans-52\"/>\r\n       <use x=\"63.623047\" xlink:href=\"#DejaVuSans-56\"/>\r\n       <use x=\"127.246094\" xlink:href=\"#DejaVuSans-51\"/>\r\n      </g>\r\n     </g>\r\n    </g>\r\n    <g id=\"ytick_485\">\r\n     <g id=\"line2d_493\">\r\n      <g>\r\n       <use style=\"stroke:#000000;stroke-width:0.8;\" x=\"33.2875\" xlink:href=\"#m2a888fa1a6\" y=\"60.244003\"/>\r\n      </g>\r\n     </g>\r\n     <g id=\"text_493\">\r\n      <!-- 484 -->\r\n      <g transform=\"translate(7.2 64.043222)scale(0.1 -0.1)\">\r\n       <use xlink:href=\"#DejaVuSans-52\"/>\r\n       <use x=\"63.623047\" xlink:href=\"#DejaVuSans-56\"/>\r\n       <use x=\"127.246094\" xlink:href=\"#DejaVuSans-52\"/>\r\n      </g>\r\n     </g>\r\n    </g>\r\n    <g id=\"ytick_486\">\r\n     <g id=\"line2d_494\">\r\n      <g>\r\n       <use style=\"stroke:#000000;stroke-width:0.8;\" x=\"33.2875\" xlink:href=\"#m2a888fa1a6\" y=\"59.897209\"/>\r\n      </g>\r\n     </g>\r\n     <g id=\"text_494\">\r\n      <!-- 485 -->\r\n      <g transform=\"translate(7.2 63.696428)scale(0.1 -0.1)\">\r\n       <use xlink:href=\"#DejaVuSans-52\"/>\r\n       <use x=\"63.623047\" xlink:href=\"#DejaVuSans-56\"/>\r\n       <use x=\"127.246094\" xlink:href=\"#DejaVuSans-53\"/>\r\n      </g>\r\n     </g>\r\n    </g>\r\n    <g id=\"ytick_487\">\r\n     <g id=\"line2d_495\">\r\n      <g>\r\n       <use style=\"stroke:#000000;stroke-width:0.8;\" x=\"33.2875\" xlink:href=\"#m2a888fa1a6\" y=\"59.550415\"/>\r\n      </g>\r\n     </g>\r\n     <g id=\"text_495\">\r\n      <!-- 486 -->\r\n      <g transform=\"translate(7.2 63.349634)scale(0.1 -0.1)\">\r\n       <use xlink:href=\"#DejaVuSans-52\"/>\r\n       <use x=\"63.623047\" xlink:href=\"#DejaVuSans-56\"/>\r\n       <use x=\"127.246094\" xlink:href=\"#DejaVuSans-54\"/>\r\n      </g>\r\n     </g>\r\n    </g>\r\n    <g id=\"ytick_488\">\r\n     <g id=\"line2d_496\">\r\n      <g>\r\n       <use style=\"stroke:#000000;stroke-width:0.8;\" x=\"33.2875\" xlink:href=\"#m2a888fa1a6\" y=\"59.203621\"/>\r\n      </g>\r\n     </g>\r\n     <g id=\"text_496\">\r\n      <!-- 487 -->\r\n      <g transform=\"translate(7.2 63.002839)scale(0.1 -0.1)\">\r\n       <use xlink:href=\"#DejaVuSans-52\"/>\r\n       <use x=\"63.623047\" xlink:href=\"#DejaVuSans-56\"/>\r\n       <use x=\"127.246094\" xlink:href=\"#DejaVuSans-55\"/>\r\n      </g>\r\n     </g>\r\n    </g>\r\n    <g id=\"ytick_489\">\r\n     <g id=\"line2d_497\">\r\n      <g>\r\n       <use style=\"stroke:#000000;stroke-width:0.8;\" x=\"33.2875\" xlink:href=\"#m2a888fa1a6\" y=\"58.856826\"/>\r\n      </g>\r\n     </g>\r\n     <g id=\"text_497\">\r\n      <!-- 488 -->\r\n      <g transform=\"translate(7.2 62.656045)scale(0.1 -0.1)\">\r\n       <use xlink:href=\"#DejaVuSans-52\"/>\r\n       <use x=\"63.623047\" xlink:href=\"#DejaVuSans-56\"/>\r\n       <use x=\"127.246094\" xlink:href=\"#DejaVuSans-56\"/>\r\n      </g>\r\n     </g>\r\n    </g>\r\n    <g id=\"ytick_490\">\r\n     <g id=\"line2d_498\">\r\n      <g>\r\n       <use style=\"stroke:#000000;stroke-width:0.8;\" x=\"33.2875\" xlink:href=\"#m2a888fa1a6\" y=\"58.510032\"/>\r\n      </g>\r\n     </g>\r\n     <g id=\"text_498\">\r\n      <!-- 489 -->\r\n      <g transform=\"translate(7.2 62.309251)scale(0.1 -0.1)\">\r\n       <use xlink:href=\"#DejaVuSans-52\"/>\r\n       <use x=\"63.623047\" xlink:href=\"#DejaVuSans-56\"/>\r\n       <use x=\"127.246094\" xlink:href=\"#DejaVuSans-57\"/>\r\n      </g>\r\n     </g>\r\n    </g>\r\n    <g id=\"ytick_491\">\r\n     <g id=\"line2d_499\">\r\n      <g>\r\n       <use style=\"stroke:#000000;stroke-width:0.8;\" x=\"33.2875\" xlink:href=\"#m2a888fa1a6\" y=\"58.163238\"/>\r\n      </g>\r\n     </g>\r\n     <g id=\"text_499\">\r\n      <!-- 490 -->\r\n      <g transform=\"translate(7.2 61.962457)scale(0.1 -0.1)\">\r\n       <use xlink:href=\"#DejaVuSans-52\"/>\r\n       <use x=\"63.623047\" xlink:href=\"#DejaVuSans-57\"/>\r\n       <use x=\"127.246094\" xlink:href=\"#DejaVuSans-48\"/>\r\n      </g>\r\n     </g>\r\n    </g>\r\n    <g id=\"ytick_492\">\r\n     <g id=\"line2d_500\">\r\n      <g>\r\n       <use style=\"stroke:#000000;stroke-width:0.8;\" x=\"33.2875\" xlink:href=\"#m2a888fa1a6\" y=\"57.816444\"/>\r\n      </g>\r\n     </g>\r\n     <g id=\"text_500\">\r\n      <!-- 491 -->\r\n      <g transform=\"translate(7.2 61.615662)scale(0.1 -0.1)\">\r\n       <use xlink:href=\"#DejaVuSans-52\"/>\r\n       <use x=\"63.623047\" xlink:href=\"#DejaVuSans-57\"/>\r\n       <use x=\"127.246094\" xlink:href=\"#DejaVuSans-49\"/>\r\n      </g>\r\n     </g>\r\n    </g>\r\n    <g id=\"ytick_493\">\r\n     <g id=\"line2d_501\">\r\n      <g>\r\n       <use style=\"stroke:#000000;stroke-width:0.8;\" x=\"33.2875\" xlink:href=\"#m2a888fa1a6\" y=\"57.469649\"/>\r\n      </g>\r\n     </g>\r\n     <g id=\"text_501\">\r\n      <!-- 492 -->\r\n      <g transform=\"translate(7.2 61.268868)scale(0.1 -0.1)\">\r\n       <use xlink:href=\"#DejaVuSans-52\"/>\r\n       <use x=\"63.623047\" xlink:href=\"#DejaVuSans-57\"/>\r\n       <use x=\"127.246094\" xlink:href=\"#DejaVuSans-50\"/>\r\n      </g>\r\n     </g>\r\n    </g>\r\n    <g id=\"ytick_494\">\r\n     <g id=\"line2d_502\">\r\n      <g>\r\n       <use style=\"stroke:#000000;stroke-width:0.8;\" x=\"33.2875\" xlink:href=\"#m2a888fa1a6\" y=\"57.122855\"/>\r\n      </g>\r\n     </g>\r\n     <g id=\"text_502\">\r\n      <!-- 493 -->\r\n      <g transform=\"translate(7.2 60.922074)scale(0.1 -0.1)\">\r\n       <use xlink:href=\"#DejaVuSans-52\"/>\r\n       <use x=\"63.623047\" xlink:href=\"#DejaVuSans-57\"/>\r\n       <use x=\"127.246094\" xlink:href=\"#DejaVuSans-51\"/>\r\n      </g>\r\n     </g>\r\n    </g>\r\n    <g id=\"ytick_495\">\r\n     <g id=\"line2d_503\">\r\n      <g>\r\n       <use style=\"stroke:#000000;stroke-width:0.8;\" x=\"33.2875\" xlink:href=\"#m2a888fa1a6\" y=\"56.776061\"/>\r\n      </g>\r\n     </g>\r\n     <g id=\"text_503\">\r\n      <!-- 494 -->\r\n      <g transform=\"translate(7.2 60.57528)scale(0.1 -0.1)\">\r\n       <use xlink:href=\"#DejaVuSans-52\"/>\r\n       <use x=\"63.623047\" xlink:href=\"#DejaVuSans-57\"/>\r\n       <use x=\"127.246094\" xlink:href=\"#DejaVuSans-52\"/>\r\n      </g>\r\n     </g>\r\n    </g>\r\n    <g id=\"ytick_496\">\r\n     <g id=\"line2d_504\">\r\n      <g>\r\n       <use style=\"stroke:#000000;stroke-width:0.8;\" x=\"33.2875\" xlink:href=\"#m2a888fa1a6\" y=\"56.429267\"/>\r\n      </g>\r\n     </g>\r\n     <g id=\"text_504\">\r\n      <!-- 495 -->\r\n      <g transform=\"translate(7.2 60.228485)scale(0.1 -0.1)\">\r\n       <use xlink:href=\"#DejaVuSans-52\"/>\r\n       <use x=\"63.623047\" xlink:href=\"#DejaVuSans-57\"/>\r\n       <use x=\"127.246094\" xlink:href=\"#DejaVuSans-53\"/>\r\n      </g>\r\n     </g>\r\n    </g>\r\n    <g id=\"ytick_497\">\r\n     <g id=\"line2d_505\">\r\n      <g>\r\n       <use style=\"stroke:#000000;stroke-width:0.8;\" x=\"33.2875\" xlink:href=\"#m2a888fa1a6\" y=\"56.082472\"/>\r\n      </g>\r\n     </g>\r\n     <g id=\"text_505\">\r\n      <!-- 496 -->\r\n      <g transform=\"translate(7.2 59.881691)scale(0.1 -0.1)\">\r\n       <use xlink:href=\"#DejaVuSans-52\"/>\r\n       <use x=\"63.623047\" xlink:href=\"#DejaVuSans-57\"/>\r\n       <use x=\"127.246094\" xlink:href=\"#DejaVuSans-54\"/>\r\n      </g>\r\n     </g>\r\n    </g>\r\n    <g id=\"ytick_498\">\r\n     <g id=\"line2d_506\">\r\n      <g>\r\n       <use style=\"stroke:#000000;stroke-width:0.8;\" x=\"33.2875\" xlink:href=\"#m2a888fa1a6\" y=\"55.735678\"/>\r\n      </g>\r\n     </g>\r\n     <g id=\"text_506\">\r\n      <!-- 497 -->\r\n      <g transform=\"translate(7.2 59.534897)scale(0.1 -0.1)\">\r\n       <use xlink:href=\"#DejaVuSans-52\"/>\r\n       <use x=\"63.623047\" xlink:href=\"#DejaVuSans-57\"/>\r\n       <use x=\"127.246094\" xlink:href=\"#DejaVuSans-55\"/>\r\n      </g>\r\n     </g>\r\n    </g>\r\n    <g id=\"ytick_499\">\r\n     <g id=\"line2d_507\">\r\n      <g>\r\n       <use style=\"stroke:#000000;stroke-width:0.8;\" x=\"33.2875\" xlink:href=\"#m2a888fa1a6\" y=\"55.388884\"/>\r\n      </g>\r\n     </g>\r\n     <g id=\"text_507\">\r\n      <!-- 498 -->\r\n      <g transform=\"translate(7.2 59.188103)scale(0.1 -0.1)\">\r\n       <use xlink:href=\"#DejaVuSans-52\"/>\r\n       <use x=\"63.623047\" xlink:href=\"#DejaVuSans-57\"/>\r\n       <use x=\"127.246094\" xlink:href=\"#DejaVuSans-56\"/>\r\n      </g>\r\n     </g>\r\n    </g>\r\n    <g id=\"ytick_500\">\r\n     <g id=\"line2d_508\">\r\n      <g>\r\n       <use style=\"stroke:#000000;stroke-width:0.8;\" x=\"33.2875\" xlink:href=\"#m2a888fa1a6\" y=\"55.04209\"/>\r\n      </g>\r\n     </g>\r\n     <g id=\"text_508\">\r\n      <!-- 499 -->\r\n      <g transform=\"translate(7.2 58.841308)scale(0.1 -0.1)\">\r\n       <use xlink:href=\"#DejaVuSans-52\"/>\r\n       <use x=\"63.623047\" xlink:href=\"#DejaVuSans-57\"/>\r\n       <use x=\"127.246094\" xlink:href=\"#DejaVuSans-57\"/>\r\n      </g>\r\n     </g>\r\n    </g>\r\n    <g id=\"ytick_501\">\r\n     <g id=\"line2d_509\">\r\n      <g>\r\n       <use style=\"stroke:#000000;stroke-width:0.8;\" x=\"33.2875\" xlink:href=\"#m2a888fa1a6\" y=\"54.695295\"/>\r\n      </g>\r\n     </g>\r\n     <g id=\"text_509\">\r\n      <!-- 500 -->\r\n      <g transform=\"translate(7.2 58.494514)scale(0.1 -0.1)\">\r\n       <use xlink:href=\"#DejaVuSans-53\"/>\r\n       <use x=\"63.623047\" xlink:href=\"#DejaVuSans-48\"/>\r\n       <use x=\"127.246094\" xlink:href=\"#DejaVuSans-48\"/>\r\n      </g>\r\n     </g>\r\n    </g>\r\n    <g id=\"ytick_502\">\r\n     <g id=\"line2d_510\">\r\n      <g>\r\n       <use style=\"stroke:#000000;stroke-width:0.8;\" x=\"33.2875\" xlink:href=\"#m2a888fa1a6\" y=\"54.348501\"/>\r\n      </g>\r\n     </g>\r\n     <g id=\"text_510\">\r\n      <!-- 501 -->\r\n      <g transform=\"translate(7.2 58.14772)scale(0.1 -0.1)\">\r\n       <use xlink:href=\"#DejaVuSans-53\"/>\r\n       <use x=\"63.623047\" xlink:href=\"#DejaVuSans-48\"/>\r\n       <use x=\"127.246094\" xlink:href=\"#DejaVuSans-49\"/>\r\n      </g>\r\n     </g>\r\n    </g>\r\n    <g id=\"ytick_503\">\r\n     <g id=\"line2d_511\">\r\n      <g>\r\n       <use style=\"stroke:#000000;stroke-width:0.8;\" x=\"33.2875\" xlink:href=\"#m2a888fa1a6\" y=\"54.001707\"/>\r\n      </g>\r\n     </g>\r\n     <g id=\"text_511\">\r\n      <!-- 502 -->\r\n      <g transform=\"translate(7.2 57.800926)scale(0.1 -0.1)\">\r\n       <use xlink:href=\"#DejaVuSans-53\"/>\r\n       <use x=\"63.623047\" xlink:href=\"#DejaVuSans-48\"/>\r\n       <use x=\"127.246094\" xlink:href=\"#DejaVuSans-50\"/>\r\n      </g>\r\n     </g>\r\n    </g>\r\n    <g id=\"ytick_504\">\r\n     <g id=\"line2d_512\">\r\n      <g>\r\n       <use style=\"stroke:#000000;stroke-width:0.8;\" x=\"33.2875\" xlink:href=\"#m2a888fa1a6\" y=\"53.654913\"/>\r\n      </g>\r\n     </g>\r\n     <g id=\"text_512\">\r\n      <!-- 503 -->\r\n      <g transform=\"translate(7.2 57.454131)scale(0.1 -0.1)\">\r\n       <use xlink:href=\"#DejaVuSans-53\"/>\r\n       <use x=\"63.623047\" xlink:href=\"#DejaVuSans-48\"/>\r\n       <use x=\"127.246094\" xlink:href=\"#DejaVuSans-51\"/>\r\n      </g>\r\n     </g>\r\n    </g>\r\n    <g id=\"ytick_505\">\r\n     <g id=\"line2d_513\">\r\n      <g>\r\n       <use style=\"stroke:#000000;stroke-width:0.8;\" x=\"33.2875\" xlink:href=\"#m2a888fa1a6\" y=\"53.308118\"/>\r\n      </g>\r\n     </g>\r\n     <g id=\"text_513\">\r\n      <!-- 504 -->\r\n      <g transform=\"translate(7.2 57.107337)scale(0.1 -0.1)\">\r\n       <use xlink:href=\"#DejaVuSans-53\"/>\r\n       <use x=\"63.623047\" xlink:href=\"#DejaVuSans-48\"/>\r\n       <use x=\"127.246094\" xlink:href=\"#DejaVuSans-52\"/>\r\n      </g>\r\n     </g>\r\n    </g>\r\n    <g id=\"ytick_506\">\r\n     <g id=\"line2d_514\">\r\n      <g>\r\n       <use style=\"stroke:#000000;stroke-width:0.8;\" x=\"33.2875\" xlink:href=\"#m2a888fa1a6\" y=\"52.961324\"/>\r\n      </g>\r\n     </g>\r\n     <g id=\"text_514\">\r\n      <!-- 505 -->\r\n      <g transform=\"translate(7.2 56.760543)scale(0.1 -0.1)\">\r\n       <use xlink:href=\"#DejaVuSans-53\"/>\r\n       <use x=\"63.623047\" xlink:href=\"#DejaVuSans-48\"/>\r\n       <use x=\"127.246094\" xlink:href=\"#DejaVuSans-53\"/>\r\n      </g>\r\n     </g>\r\n    </g>\r\n    <g id=\"ytick_507\">\r\n     <g id=\"line2d_515\">\r\n      <g>\r\n       <use style=\"stroke:#000000;stroke-width:0.8;\" x=\"33.2875\" xlink:href=\"#m2a888fa1a6\" y=\"52.61453\"/>\r\n      </g>\r\n     </g>\r\n     <g id=\"text_515\">\r\n      <!-- 506 -->\r\n      <g transform=\"translate(7.2 56.413749)scale(0.1 -0.1)\">\r\n       <use xlink:href=\"#DejaVuSans-53\"/>\r\n       <use x=\"63.623047\" xlink:href=\"#DejaVuSans-48\"/>\r\n       <use x=\"127.246094\" xlink:href=\"#DejaVuSans-54\"/>\r\n      </g>\r\n     </g>\r\n    </g>\r\n    <g id=\"ytick_508\">\r\n     <g id=\"line2d_516\">\r\n      <g>\r\n       <use style=\"stroke:#000000;stroke-width:0.8;\" x=\"33.2875\" xlink:href=\"#m2a888fa1a6\" y=\"52.267735\"/>\r\n      </g>\r\n     </g>\r\n     <g id=\"text_516\">\r\n      <!-- 507 -->\r\n      <g transform=\"translate(7.2 56.066954)scale(0.1 -0.1)\">\r\n       <use xlink:href=\"#DejaVuSans-53\"/>\r\n       <use x=\"63.623047\" xlink:href=\"#DejaVuSans-48\"/>\r\n       <use x=\"127.246094\" xlink:href=\"#DejaVuSans-55\"/>\r\n      </g>\r\n     </g>\r\n    </g>\r\n    <g id=\"ytick_509\">\r\n     <g id=\"line2d_517\">\r\n      <g>\r\n       <use style=\"stroke:#000000;stroke-width:0.8;\" x=\"33.2875\" xlink:href=\"#m2a888fa1a6\" y=\"51.920941\"/>\r\n      </g>\r\n     </g>\r\n     <g id=\"text_517\">\r\n      <!-- 508 -->\r\n      <g transform=\"translate(7.2 55.72016)scale(0.1 -0.1)\">\r\n       <use xlink:href=\"#DejaVuSans-53\"/>\r\n       <use x=\"63.623047\" xlink:href=\"#DejaVuSans-48\"/>\r\n       <use x=\"127.246094\" xlink:href=\"#DejaVuSans-56\"/>\r\n      </g>\r\n     </g>\r\n    </g>\r\n    <g id=\"ytick_510\">\r\n     <g id=\"line2d_518\">\r\n      <g>\r\n       <use style=\"stroke:#000000;stroke-width:0.8;\" x=\"33.2875\" xlink:href=\"#m2a888fa1a6\" y=\"51.574147\"/>\r\n      </g>\r\n     </g>\r\n     <g id=\"text_518\">\r\n      <!-- 509 -->\r\n      <g transform=\"translate(7.2 55.373366)scale(0.1 -0.1)\">\r\n       <use xlink:href=\"#DejaVuSans-53\"/>\r\n       <use x=\"63.623047\" xlink:href=\"#DejaVuSans-48\"/>\r\n       <use x=\"127.246094\" xlink:href=\"#DejaVuSans-57\"/>\r\n      </g>\r\n     </g>\r\n    </g>\r\n    <g id=\"ytick_511\">\r\n     <g id=\"line2d_519\">\r\n      <g>\r\n       <use style=\"stroke:#000000;stroke-width:0.8;\" x=\"33.2875\" xlink:href=\"#m2a888fa1a6\" y=\"51.227353\"/>\r\n      </g>\r\n     </g>\r\n     <g id=\"text_519\">\r\n      <!-- 510 -->\r\n      <g transform=\"translate(7.2 55.026571)scale(0.1 -0.1)\">\r\n       <use xlink:href=\"#DejaVuSans-53\"/>\r\n       <use x=\"63.623047\" xlink:href=\"#DejaVuSans-49\"/>\r\n       <use x=\"127.246094\" xlink:href=\"#DejaVuSans-48\"/>\r\n      </g>\r\n     </g>\r\n    </g>\r\n    <g id=\"ytick_512\">\r\n     <g id=\"line2d_520\">\r\n      <g>\r\n       <use style=\"stroke:#000000;stroke-width:0.8;\" x=\"33.2875\" xlink:href=\"#m2a888fa1a6\" y=\"50.880558\"/>\r\n      </g>\r\n     </g>\r\n     <g id=\"text_520\">\r\n      <!-- 511 -->\r\n      <g transform=\"translate(7.2 54.679777)scale(0.1 -0.1)\">\r\n       <use xlink:href=\"#DejaVuSans-53\"/>\r\n       <use x=\"63.623047\" xlink:href=\"#DejaVuSans-49\"/>\r\n       <use x=\"127.246094\" xlink:href=\"#DejaVuSans-49\"/>\r\n      </g>\r\n     </g>\r\n    </g>\r\n    <g id=\"ytick_513\">\r\n     <g id=\"line2d_521\">\r\n      <g>\r\n       <use style=\"stroke:#000000;stroke-width:0.8;\" x=\"33.2875\" xlink:href=\"#m2a888fa1a6\" y=\"50.533764\"/>\r\n      </g>\r\n     </g>\r\n     <g id=\"text_521\">\r\n      <!-- 512 -->\r\n      <g transform=\"translate(7.2 54.332983)scale(0.1 -0.1)\">\r\n       <use xlink:href=\"#DejaVuSans-53\"/>\r\n       <use x=\"63.623047\" xlink:href=\"#DejaVuSans-49\"/>\r\n       <use x=\"127.246094\" xlink:href=\"#DejaVuSans-50\"/>\r\n      </g>\r\n     </g>\r\n    </g>\r\n    <g id=\"ytick_514\">\r\n     <g id=\"line2d_522\">\r\n      <g>\r\n       <use style=\"stroke:#000000;stroke-width:0.8;\" x=\"33.2875\" xlink:href=\"#m2a888fa1a6\" y=\"50.18697\"/>\r\n      </g>\r\n     </g>\r\n     <g id=\"text_522\">\r\n      <!-- 513 -->\r\n      <g transform=\"translate(7.2 53.986189)scale(0.1 -0.1)\">\r\n       <use xlink:href=\"#DejaVuSans-53\"/>\r\n       <use x=\"63.623047\" xlink:href=\"#DejaVuSans-49\"/>\r\n       <use x=\"127.246094\" xlink:href=\"#DejaVuSans-51\"/>\r\n      </g>\r\n     </g>\r\n    </g>\r\n    <g id=\"ytick_515\">\r\n     <g id=\"line2d_523\">\r\n      <g>\r\n       <use style=\"stroke:#000000;stroke-width:0.8;\" x=\"33.2875\" xlink:href=\"#m2a888fa1a6\" y=\"49.840176\"/>\r\n      </g>\r\n     </g>\r\n     <g id=\"text_523\">\r\n      <!-- 514 -->\r\n      <g transform=\"translate(7.2 53.639394)scale(0.1 -0.1)\">\r\n       <use xlink:href=\"#DejaVuSans-53\"/>\r\n       <use x=\"63.623047\" xlink:href=\"#DejaVuSans-49\"/>\r\n       <use x=\"127.246094\" xlink:href=\"#DejaVuSans-52\"/>\r\n      </g>\r\n     </g>\r\n    </g>\r\n    <g id=\"ytick_516\">\r\n     <g id=\"line2d_524\">\r\n      <g>\r\n       <use style=\"stroke:#000000;stroke-width:0.8;\" x=\"33.2875\" xlink:href=\"#m2a888fa1a6\" y=\"49.493381\"/>\r\n      </g>\r\n     </g>\r\n     <g id=\"text_524\">\r\n      <!-- 515 -->\r\n      <g transform=\"translate(7.2 53.2926)scale(0.1 -0.1)\">\r\n       <use xlink:href=\"#DejaVuSans-53\"/>\r\n       <use x=\"63.623047\" xlink:href=\"#DejaVuSans-49\"/>\r\n       <use x=\"127.246094\" xlink:href=\"#DejaVuSans-53\"/>\r\n      </g>\r\n     </g>\r\n    </g>\r\n    <g id=\"ytick_517\">\r\n     <g id=\"line2d_525\">\r\n      <g>\r\n       <use style=\"stroke:#000000;stroke-width:0.8;\" x=\"33.2875\" xlink:href=\"#m2a888fa1a6\" y=\"49.146587\"/>\r\n      </g>\r\n     </g>\r\n     <g id=\"text_525\">\r\n      <!-- 516 -->\r\n      <g transform=\"translate(7.2 52.945806)scale(0.1 -0.1)\">\r\n       <use xlink:href=\"#DejaVuSans-53\"/>\r\n       <use x=\"63.623047\" xlink:href=\"#DejaVuSans-49\"/>\r\n       <use x=\"127.246094\" xlink:href=\"#DejaVuSans-54\"/>\r\n      </g>\r\n     </g>\r\n    </g>\r\n    <g id=\"ytick_518\">\r\n     <g id=\"line2d_526\">\r\n      <g>\r\n       <use style=\"stroke:#000000;stroke-width:0.8;\" x=\"33.2875\" xlink:href=\"#m2a888fa1a6\" y=\"48.799793\"/>\r\n      </g>\r\n     </g>\r\n     <g id=\"text_526\">\r\n      <!-- 517 -->\r\n      <g transform=\"translate(7.2 52.599012)scale(0.1 -0.1)\">\r\n       <use xlink:href=\"#DejaVuSans-53\"/>\r\n       <use x=\"63.623047\" xlink:href=\"#DejaVuSans-49\"/>\r\n       <use x=\"127.246094\" xlink:href=\"#DejaVuSans-55\"/>\r\n      </g>\r\n     </g>\r\n    </g>\r\n    <g id=\"ytick_519\">\r\n     <g id=\"line2d_527\">\r\n      <g>\r\n       <use style=\"stroke:#000000;stroke-width:0.8;\" x=\"33.2875\" xlink:href=\"#m2a888fa1a6\" y=\"48.452999\"/>\r\n      </g>\r\n     </g>\r\n     <g id=\"text_527\">\r\n      <!-- 518 -->\r\n      <g transform=\"translate(7.2 52.252217)scale(0.1 -0.1)\">\r\n       <use xlink:href=\"#DejaVuSans-53\"/>\r\n       <use x=\"63.623047\" xlink:href=\"#DejaVuSans-49\"/>\r\n       <use x=\"127.246094\" xlink:href=\"#DejaVuSans-56\"/>\r\n      </g>\r\n     </g>\r\n    </g>\r\n    <g id=\"ytick_520\">\r\n     <g id=\"line2d_528\">\r\n      <g>\r\n       <use style=\"stroke:#000000;stroke-width:0.8;\" x=\"33.2875\" xlink:href=\"#m2a888fa1a6\" y=\"48.106204\"/>\r\n      </g>\r\n     </g>\r\n     <g id=\"text_528\">\r\n      <!-- 519 -->\r\n      <g transform=\"translate(7.2 51.905423)scale(0.1 -0.1)\">\r\n       <use xlink:href=\"#DejaVuSans-53\"/>\r\n       <use x=\"63.623047\" xlink:href=\"#DejaVuSans-49\"/>\r\n       <use x=\"127.246094\" xlink:href=\"#DejaVuSans-57\"/>\r\n      </g>\r\n     </g>\r\n    </g>\r\n    <g id=\"ytick_521\">\r\n     <g id=\"line2d_529\">\r\n      <g>\r\n       <use style=\"stroke:#000000;stroke-width:0.8;\" x=\"33.2875\" xlink:href=\"#m2a888fa1a6\" y=\"47.75941\"/>\r\n      </g>\r\n     </g>\r\n     <g id=\"text_529\">\r\n      <!-- 520 -->\r\n      <g transform=\"translate(7.2 51.558629)scale(0.1 -0.1)\">\r\n       <use xlink:href=\"#DejaVuSans-53\"/>\r\n       <use x=\"63.623047\" xlink:href=\"#DejaVuSans-50\"/>\r\n       <use x=\"127.246094\" xlink:href=\"#DejaVuSans-48\"/>\r\n      </g>\r\n     </g>\r\n    </g>\r\n    <g id=\"ytick_522\">\r\n     <g id=\"line2d_530\">\r\n      <g>\r\n       <use style=\"stroke:#000000;stroke-width:0.8;\" x=\"33.2875\" xlink:href=\"#m2a888fa1a6\" y=\"47.412616\"/>\r\n      </g>\r\n     </g>\r\n     <g id=\"text_530\">\r\n      <!-- 521 -->\r\n      <g transform=\"translate(7.2 51.211835)scale(0.1 -0.1)\">\r\n       <use xlink:href=\"#DejaVuSans-53\"/>\r\n       <use x=\"63.623047\" xlink:href=\"#DejaVuSans-50\"/>\r\n       <use x=\"127.246094\" xlink:href=\"#DejaVuSans-49\"/>\r\n      </g>\r\n     </g>\r\n    </g>\r\n    <g id=\"ytick_523\">\r\n     <g id=\"line2d_531\">\r\n      <g>\r\n       <use style=\"stroke:#000000;stroke-width:0.8;\" x=\"33.2875\" xlink:href=\"#m2a888fa1a6\" y=\"47.065822\"/>\r\n      </g>\r\n     </g>\r\n     <g id=\"text_531\">\r\n      <!-- 522 -->\r\n      <g transform=\"translate(7.2 50.86504)scale(0.1 -0.1)\">\r\n       <use xlink:href=\"#DejaVuSans-53\"/>\r\n       <use x=\"63.623047\" xlink:href=\"#DejaVuSans-50\"/>\r\n       <use x=\"127.246094\" xlink:href=\"#DejaVuSans-50\"/>\r\n      </g>\r\n     </g>\r\n    </g>\r\n    <g id=\"ytick_524\">\r\n     <g id=\"line2d_532\">\r\n      <g>\r\n       <use style=\"stroke:#000000;stroke-width:0.8;\" x=\"33.2875\" xlink:href=\"#m2a888fa1a6\" y=\"46.719027\"/>\r\n      </g>\r\n     </g>\r\n     <g id=\"text_532\">\r\n      <!-- 523 -->\r\n      <g transform=\"translate(7.2 50.518246)scale(0.1 -0.1)\">\r\n       <use xlink:href=\"#DejaVuSans-53\"/>\r\n       <use x=\"63.623047\" xlink:href=\"#DejaVuSans-50\"/>\r\n       <use x=\"127.246094\" xlink:href=\"#DejaVuSans-51\"/>\r\n      </g>\r\n     </g>\r\n    </g>\r\n    <g id=\"ytick_525\">\r\n     <g id=\"line2d_533\">\r\n      <g>\r\n       <use style=\"stroke:#000000;stroke-width:0.8;\" x=\"33.2875\" xlink:href=\"#m2a888fa1a6\" y=\"46.372233\"/>\r\n      </g>\r\n     </g>\r\n     <g id=\"text_533\">\r\n      <!-- 524 -->\r\n      <g transform=\"translate(7.2 50.171452)scale(0.1 -0.1)\">\r\n       <use xlink:href=\"#DejaVuSans-53\"/>\r\n       <use x=\"63.623047\" xlink:href=\"#DejaVuSans-50\"/>\r\n       <use x=\"127.246094\" xlink:href=\"#DejaVuSans-52\"/>\r\n      </g>\r\n     </g>\r\n    </g>\r\n    <g id=\"ytick_526\">\r\n     <g id=\"line2d_534\">\r\n      <g>\r\n       <use style=\"stroke:#000000;stroke-width:0.8;\" x=\"33.2875\" xlink:href=\"#m2a888fa1a6\" y=\"46.025439\"/>\r\n      </g>\r\n     </g>\r\n     <g id=\"text_534\">\r\n      <!-- 525 -->\r\n      <g transform=\"translate(7.2 49.824658)scale(0.1 -0.1)\">\r\n       <use xlink:href=\"#DejaVuSans-53\"/>\r\n       <use x=\"63.623047\" xlink:href=\"#DejaVuSans-50\"/>\r\n       <use x=\"127.246094\" xlink:href=\"#DejaVuSans-53\"/>\r\n      </g>\r\n     </g>\r\n    </g>\r\n    <g id=\"ytick_527\">\r\n     <g id=\"line2d_535\">\r\n      <g>\r\n       <use style=\"stroke:#000000;stroke-width:0.8;\" x=\"33.2875\" xlink:href=\"#m2a888fa1a6\" y=\"45.678645\"/>\r\n      </g>\r\n     </g>\r\n     <g id=\"text_535\">\r\n      <!-- 526 -->\r\n      <g transform=\"translate(7.2 49.477863)scale(0.1 -0.1)\">\r\n       <use xlink:href=\"#DejaVuSans-53\"/>\r\n       <use x=\"63.623047\" xlink:href=\"#DejaVuSans-50\"/>\r\n       <use x=\"127.246094\" xlink:href=\"#DejaVuSans-54\"/>\r\n      </g>\r\n     </g>\r\n    </g>\r\n    <g id=\"ytick_528\">\r\n     <g id=\"line2d_536\">\r\n      <g>\r\n       <use style=\"stroke:#000000;stroke-width:0.8;\" x=\"33.2875\" xlink:href=\"#m2a888fa1a6\" y=\"45.33185\"/>\r\n      </g>\r\n     </g>\r\n     <g id=\"text_536\">\r\n      <!-- 527 -->\r\n      <g transform=\"translate(7.2 49.131069)scale(0.1 -0.1)\">\r\n       <use xlink:href=\"#DejaVuSans-53\"/>\r\n       <use x=\"63.623047\" xlink:href=\"#DejaVuSans-50\"/>\r\n       <use x=\"127.246094\" xlink:href=\"#DejaVuSans-55\"/>\r\n      </g>\r\n     </g>\r\n    </g>\r\n    <g id=\"ytick_529\">\r\n     <g id=\"line2d_537\">\r\n      <g>\r\n       <use style=\"stroke:#000000;stroke-width:0.8;\" x=\"33.2875\" xlink:href=\"#m2a888fa1a6\" y=\"44.985056\"/>\r\n      </g>\r\n     </g>\r\n     <g id=\"text_537\">\r\n      <!-- 528 -->\r\n      <g transform=\"translate(7.2 48.784275)scale(0.1 -0.1)\">\r\n       <use xlink:href=\"#DejaVuSans-53\"/>\r\n       <use x=\"63.623047\" xlink:href=\"#DejaVuSans-50\"/>\r\n       <use x=\"127.246094\" xlink:href=\"#DejaVuSans-56\"/>\r\n      </g>\r\n     </g>\r\n    </g>\r\n    <g id=\"ytick_530\">\r\n     <g id=\"line2d_538\">\r\n      <g>\r\n       <use style=\"stroke:#000000;stroke-width:0.8;\" x=\"33.2875\" xlink:href=\"#m2a888fa1a6\" y=\"44.638262\"/>\r\n      </g>\r\n     </g>\r\n     <g id=\"text_538\">\r\n      <!-- 529 -->\r\n      <g transform=\"translate(7.2 48.437481)scale(0.1 -0.1)\">\r\n       <use xlink:href=\"#DejaVuSans-53\"/>\r\n       <use x=\"63.623047\" xlink:href=\"#DejaVuSans-50\"/>\r\n       <use x=\"127.246094\" xlink:href=\"#DejaVuSans-57\"/>\r\n      </g>\r\n     </g>\r\n    </g>\r\n    <g id=\"ytick_531\">\r\n     <g id=\"line2d_539\">\r\n      <g>\r\n       <use style=\"stroke:#000000;stroke-width:0.8;\" x=\"33.2875\" xlink:href=\"#m2a888fa1a6\" y=\"44.291468\"/>\r\n      </g>\r\n     </g>\r\n     <g id=\"text_539\">\r\n      <!-- 530 -->\r\n      <g transform=\"translate(7.2 48.090686)scale(0.1 -0.1)\">\r\n       <use xlink:href=\"#DejaVuSans-53\"/>\r\n       <use x=\"63.623047\" xlink:href=\"#DejaVuSans-51\"/>\r\n       <use x=\"127.246094\" xlink:href=\"#DejaVuSans-48\"/>\r\n      </g>\r\n     </g>\r\n    </g>\r\n    <g id=\"ytick_532\">\r\n     <g id=\"line2d_540\">\r\n      <g>\r\n       <use style=\"stroke:#000000;stroke-width:0.8;\" x=\"33.2875\" xlink:href=\"#m2a888fa1a6\" y=\"43.944673\"/>\r\n      </g>\r\n     </g>\r\n     <g id=\"text_540\">\r\n      <!-- 531 -->\r\n      <g transform=\"translate(7.2 47.743892)scale(0.1 -0.1)\">\r\n       <use xlink:href=\"#DejaVuSans-53\"/>\r\n       <use x=\"63.623047\" xlink:href=\"#DejaVuSans-51\"/>\r\n       <use x=\"127.246094\" xlink:href=\"#DejaVuSans-49\"/>\r\n      </g>\r\n     </g>\r\n    </g>\r\n    <g id=\"ytick_533\">\r\n     <g id=\"line2d_541\">\r\n      <g>\r\n       <use style=\"stroke:#000000;stroke-width:0.8;\" x=\"33.2875\" xlink:href=\"#m2a888fa1a6\" y=\"43.597879\"/>\r\n      </g>\r\n     </g>\r\n     <g id=\"text_541\">\r\n      <!-- 532 -->\r\n      <g transform=\"translate(7.2 47.397098)scale(0.1 -0.1)\">\r\n       <use xlink:href=\"#DejaVuSans-53\"/>\r\n       <use x=\"63.623047\" xlink:href=\"#DejaVuSans-51\"/>\r\n       <use x=\"127.246094\" xlink:href=\"#DejaVuSans-50\"/>\r\n      </g>\r\n     </g>\r\n    </g>\r\n    <g id=\"ytick_534\">\r\n     <g id=\"line2d_542\">\r\n      <g>\r\n       <use style=\"stroke:#000000;stroke-width:0.8;\" x=\"33.2875\" xlink:href=\"#m2a888fa1a6\" y=\"43.251085\"/>\r\n      </g>\r\n     </g>\r\n     <g id=\"text_542\">\r\n      <!-- 533 -->\r\n      <g transform=\"translate(7.2 47.050304)scale(0.1 -0.1)\">\r\n       <use xlink:href=\"#DejaVuSans-53\"/>\r\n       <use x=\"63.623047\" xlink:href=\"#DejaVuSans-51\"/>\r\n       <use x=\"127.246094\" xlink:href=\"#DejaVuSans-51\"/>\r\n      </g>\r\n     </g>\r\n    </g>\r\n    <g id=\"ytick_535\">\r\n     <g id=\"line2d_543\">\r\n      <g>\r\n       <use style=\"stroke:#000000;stroke-width:0.8;\" x=\"33.2875\" xlink:href=\"#m2a888fa1a6\" y=\"42.904291\"/>\r\n      </g>\r\n     </g>\r\n     <g id=\"text_543\">\r\n      <!-- 534 -->\r\n      <g transform=\"translate(7.2 46.703509)scale(0.1 -0.1)\">\r\n       <use xlink:href=\"#DejaVuSans-53\"/>\r\n       <use x=\"63.623047\" xlink:href=\"#DejaVuSans-51\"/>\r\n       <use x=\"127.246094\" xlink:href=\"#DejaVuSans-52\"/>\r\n      </g>\r\n     </g>\r\n    </g>\r\n    <g id=\"ytick_536\">\r\n     <g id=\"line2d_544\">\r\n      <g>\r\n       <use style=\"stroke:#000000;stroke-width:0.8;\" x=\"33.2875\" xlink:href=\"#m2a888fa1a6\" y=\"42.557496\"/>\r\n      </g>\r\n     </g>\r\n     <g id=\"text_544\">\r\n      <!-- 535 -->\r\n      <g transform=\"translate(7.2 46.356715)scale(0.1 -0.1)\">\r\n       <use xlink:href=\"#DejaVuSans-53\"/>\r\n       <use x=\"63.623047\" xlink:href=\"#DejaVuSans-51\"/>\r\n       <use x=\"127.246094\" xlink:href=\"#DejaVuSans-53\"/>\r\n      </g>\r\n     </g>\r\n    </g>\r\n    <g id=\"ytick_537\">\r\n     <g id=\"line2d_545\">\r\n      <g>\r\n       <use style=\"stroke:#000000;stroke-width:0.8;\" x=\"33.2875\" xlink:href=\"#m2a888fa1a6\" y=\"42.210702\"/>\r\n      </g>\r\n     </g>\r\n     <g id=\"text_545\">\r\n      <!-- 536 -->\r\n      <g transform=\"translate(7.2 46.009921)scale(0.1 -0.1)\">\r\n       <use xlink:href=\"#DejaVuSans-53\"/>\r\n       <use x=\"63.623047\" xlink:href=\"#DejaVuSans-51\"/>\r\n       <use x=\"127.246094\" xlink:href=\"#DejaVuSans-54\"/>\r\n      </g>\r\n     </g>\r\n    </g>\r\n    <g id=\"ytick_538\">\r\n     <g id=\"line2d_546\">\r\n      <g>\r\n       <use style=\"stroke:#000000;stroke-width:0.8;\" x=\"33.2875\" xlink:href=\"#m2a888fa1a6\" y=\"41.863908\"/>\r\n      </g>\r\n     </g>\r\n     <g id=\"text_546\">\r\n      <!-- 537 -->\r\n      <g transform=\"translate(7.2 45.663126)scale(0.1 -0.1)\">\r\n       <use xlink:href=\"#DejaVuSans-53\"/>\r\n       <use x=\"63.623047\" xlink:href=\"#DejaVuSans-51\"/>\r\n       <use x=\"127.246094\" xlink:href=\"#DejaVuSans-55\"/>\r\n      </g>\r\n     </g>\r\n    </g>\r\n    <g id=\"ytick_539\">\r\n     <g id=\"line2d_547\">\r\n      <g>\r\n       <use style=\"stroke:#000000;stroke-width:0.8;\" x=\"33.2875\" xlink:href=\"#m2a888fa1a6\" y=\"41.517113\"/>\r\n      </g>\r\n     </g>\r\n     <g id=\"text_547\">\r\n      <!-- 538 -->\r\n      <g transform=\"translate(7.2 45.316332)scale(0.1 -0.1)\">\r\n       <use xlink:href=\"#DejaVuSans-53\"/>\r\n       <use x=\"63.623047\" xlink:href=\"#DejaVuSans-51\"/>\r\n       <use x=\"127.246094\" xlink:href=\"#DejaVuSans-56\"/>\r\n      </g>\r\n     </g>\r\n    </g>\r\n    <g id=\"ytick_540\">\r\n     <g id=\"line2d_548\">\r\n      <g>\r\n       <use style=\"stroke:#000000;stroke-width:0.8;\" x=\"33.2875\" xlink:href=\"#m2a888fa1a6\" y=\"41.170319\"/>\r\n      </g>\r\n     </g>\r\n     <g id=\"text_548\">\r\n      <!-- 539 -->\r\n      <g transform=\"translate(7.2 44.969538)scale(0.1 -0.1)\">\r\n       <use xlink:href=\"#DejaVuSans-53\"/>\r\n       <use x=\"63.623047\" xlink:href=\"#DejaVuSans-51\"/>\r\n       <use x=\"127.246094\" xlink:href=\"#DejaVuSans-57\"/>\r\n      </g>\r\n     </g>\r\n    </g>\r\n    <g id=\"ytick_541\">\r\n     <g id=\"line2d_549\">\r\n      <g>\r\n       <use style=\"stroke:#000000;stroke-width:0.8;\" x=\"33.2875\" xlink:href=\"#m2a888fa1a6\" y=\"40.823525\"/>\r\n      </g>\r\n     </g>\r\n     <g id=\"text_549\">\r\n      <!-- 540 -->\r\n      <g transform=\"translate(7.2 44.622744)scale(0.1 -0.1)\">\r\n       <use xlink:href=\"#DejaVuSans-53\"/>\r\n       <use x=\"63.623047\" xlink:href=\"#DejaVuSans-52\"/>\r\n       <use x=\"127.246094\" xlink:href=\"#DejaVuSans-48\"/>\r\n      </g>\r\n     </g>\r\n    </g>\r\n    <g id=\"ytick_542\">\r\n     <g id=\"line2d_550\">\r\n      <g>\r\n       <use style=\"stroke:#000000;stroke-width:0.8;\" x=\"33.2875\" xlink:href=\"#m2a888fa1a6\" y=\"40.476731\"/>\r\n      </g>\r\n     </g>\r\n     <g id=\"text_550\">\r\n      <!-- 541 -->\r\n      <g transform=\"translate(7.2 44.275949)scale(0.1 -0.1)\">\r\n       <use xlink:href=\"#DejaVuSans-53\"/>\r\n       <use x=\"63.623047\" xlink:href=\"#DejaVuSans-52\"/>\r\n       <use x=\"127.246094\" xlink:href=\"#DejaVuSans-49\"/>\r\n      </g>\r\n     </g>\r\n    </g>\r\n    <g id=\"ytick_543\">\r\n     <g id=\"line2d_551\">\r\n      <g>\r\n       <use style=\"stroke:#000000;stroke-width:0.8;\" x=\"33.2875\" xlink:href=\"#m2a888fa1a6\" y=\"40.129936\"/>\r\n      </g>\r\n     </g>\r\n     <g id=\"text_551\">\r\n      <!-- 542 -->\r\n      <g transform=\"translate(7.2 43.929155)scale(0.1 -0.1)\">\r\n       <use xlink:href=\"#DejaVuSans-53\"/>\r\n       <use x=\"63.623047\" xlink:href=\"#DejaVuSans-52\"/>\r\n       <use x=\"127.246094\" xlink:href=\"#DejaVuSans-50\"/>\r\n      </g>\r\n     </g>\r\n    </g>\r\n    <g id=\"ytick_544\">\r\n     <g id=\"line2d_552\">\r\n      <g>\r\n       <use style=\"stroke:#000000;stroke-width:0.8;\" x=\"33.2875\" xlink:href=\"#m2a888fa1a6\" y=\"39.783142\"/>\r\n      </g>\r\n     </g>\r\n     <g id=\"text_552\">\r\n      <!-- 543 -->\r\n      <g transform=\"translate(7.2 43.582361)scale(0.1 -0.1)\">\r\n       <use xlink:href=\"#DejaVuSans-53\"/>\r\n       <use x=\"63.623047\" xlink:href=\"#DejaVuSans-52\"/>\r\n       <use x=\"127.246094\" xlink:href=\"#DejaVuSans-51\"/>\r\n      </g>\r\n     </g>\r\n    </g>\r\n    <g id=\"ytick_545\">\r\n     <g id=\"line2d_553\">\r\n      <g>\r\n       <use style=\"stroke:#000000;stroke-width:0.8;\" x=\"33.2875\" xlink:href=\"#m2a888fa1a6\" y=\"39.436348\"/>\r\n      </g>\r\n     </g>\r\n     <g id=\"text_553\">\r\n      <!-- 544 -->\r\n      <g transform=\"translate(7.2 43.235567)scale(0.1 -0.1)\">\r\n       <use xlink:href=\"#DejaVuSans-53\"/>\r\n       <use x=\"63.623047\" xlink:href=\"#DejaVuSans-52\"/>\r\n       <use x=\"127.246094\" xlink:href=\"#DejaVuSans-52\"/>\r\n      </g>\r\n     </g>\r\n    </g>\r\n    <g id=\"ytick_546\">\r\n     <g id=\"line2d_554\">\r\n      <g>\r\n       <use style=\"stroke:#000000;stroke-width:0.8;\" x=\"33.2875\" xlink:href=\"#m2a888fa1a6\" y=\"39.089554\"/>\r\n      </g>\r\n     </g>\r\n     <g id=\"text_554\">\r\n      <!-- 545 -->\r\n      <g transform=\"translate(7.2 42.888772)scale(0.1 -0.1)\">\r\n       <use xlink:href=\"#DejaVuSans-53\"/>\r\n       <use x=\"63.623047\" xlink:href=\"#DejaVuSans-52\"/>\r\n       <use x=\"127.246094\" xlink:href=\"#DejaVuSans-53\"/>\r\n      </g>\r\n     </g>\r\n    </g>\r\n    <g id=\"ytick_547\">\r\n     <g id=\"line2d_555\">\r\n      <g>\r\n       <use style=\"stroke:#000000;stroke-width:0.8;\" x=\"33.2875\" xlink:href=\"#m2a888fa1a6\" y=\"38.742759\"/>\r\n      </g>\r\n     </g>\r\n     <g id=\"text_555\">\r\n      <!-- 546 -->\r\n      <g transform=\"translate(7.2 42.541978)scale(0.1 -0.1)\">\r\n       <use xlink:href=\"#DejaVuSans-53\"/>\r\n       <use x=\"63.623047\" xlink:href=\"#DejaVuSans-52\"/>\r\n       <use x=\"127.246094\" xlink:href=\"#DejaVuSans-54\"/>\r\n      </g>\r\n     </g>\r\n    </g>\r\n    <g id=\"ytick_548\">\r\n     <g id=\"line2d_556\">\r\n      <g>\r\n       <use style=\"stroke:#000000;stroke-width:0.8;\" x=\"33.2875\" xlink:href=\"#m2a888fa1a6\" y=\"38.395965\"/>\r\n      </g>\r\n     </g>\r\n     <g id=\"text_556\">\r\n      <!-- 547 -->\r\n      <g transform=\"translate(7.2 42.195184)scale(0.1 -0.1)\">\r\n       <use xlink:href=\"#DejaVuSans-53\"/>\r\n       <use x=\"63.623047\" xlink:href=\"#DejaVuSans-52\"/>\r\n       <use x=\"127.246094\" xlink:href=\"#DejaVuSans-55\"/>\r\n      </g>\r\n     </g>\r\n    </g>\r\n    <g id=\"ytick_549\">\r\n     <g id=\"line2d_557\">\r\n      <g>\r\n       <use style=\"stroke:#000000;stroke-width:0.8;\" x=\"33.2875\" xlink:href=\"#m2a888fa1a6\" y=\"38.049171\"/>\r\n      </g>\r\n     </g>\r\n     <g id=\"text_557\">\r\n      <!-- 548 -->\r\n      <g transform=\"translate(7.2 41.84839)scale(0.1 -0.1)\">\r\n       <use xlink:href=\"#DejaVuSans-53\"/>\r\n       <use x=\"63.623047\" xlink:href=\"#DejaVuSans-52\"/>\r\n       <use x=\"127.246094\" xlink:href=\"#DejaVuSans-56\"/>\r\n      </g>\r\n     </g>\r\n    </g>\r\n    <g id=\"ytick_550\">\r\n     <g id=\"line2d_558\">\r\n      <g>\r\n       <use style=\"stroke:#000000;stroke-width:0.8;\" x=\"33.2875\" xlink:href=\"#m2a888fa1a6\" y=\"37.702377\"/>\r\n      </g>\r\n     </g>\r\n     <g id=\"text_558\">\r\n      <!-- 549 -->\r\n      <g transform=\"translate(7.2 41.501595)scale(0.1 -0.1)\">\r\n       <use xlink:href=\"#DejaVuSans-53\"/>\r\n       <use x=\"63.623047\" xlink:href=\"#DejaVuSans-52\"/>\r\n       <use x=\"127.246094\" xlink:href=\"#DejaVuSans-57\"/>\r\n      </g>\r\n     </g>\r\n    </g>\r\n    <g id=\"ytick_551\">\r\n     <g id=\"line2d_559\">\r\n      <g>\r\n       <use style=\"stroke:#000000;stroke-width:0.8;\" x=\"33.2875\" xlink:href=\"#m2a888fa1a6\" y=\"37.355582\"/>\r\n      </g>\r\n     </g>\r\n     <g id=\"text_559\">\r\n      <!-- 550 -->\r\n      <g transform=\"translate(7.2 41.154801)scale(0.1 -0.1)\">\r\n       <use xlink:href=\"#DejaVuSans-53\"/>\r\n       <use x=\"63.623047\" xlink:href=\"#DejaVuSans-53\"/>\r\n       <use x=\"127.246094\" xlink:href=\"#DejaVuSans-48\"/>\r\n      </g>\r\n     </g>\r\n    </g>\r\n    <g id=\"ytick_552\">\r\n     <g id=\"line2d_560\">\r\n      <g>\r\n       <use style=\"stroke:#000000;stroke-width:0.8;\" x=\"33.2875\" xlink:href=\"#m2a888fa1a6\" y=\"37.008788\"/>\r\n      </g>\r\n     </g>\r\n     <g id=\"text_560\">\r\n      <!-- 551 -->\r\n      <g transform=\"translate(7.2 40.808007)scale(0.1 -0.1)\">\r\n       <use xlink:href=\"#DejaVuSans-53\"/>\r\n       <use x=\"63.623047\" xlink:href=\"#DejaVuSans-53\"/>\r\n       <use x=\"127.246094\" xlink:href=\"#DejaVuSans-49\"/>\r\n      </g>\r\n     </g>\r\n    </g>\r\n    <g id=\"ytick_553\">\r\n     <g id=\"line2d_561\">\r\n      <g>\r\n       <use style=\"stroke:#000000;stroke-width:0.8;\" x=\"33.2875\" xlink:href=\"#m2a888fa1a6\" y=\"36.661994\"/>\r\n      </g>\r\n     </g>\r\n     <g id=\"text_561\">\r\n      <!-- 552 -->\r\n      <g transform=\"translate(7.2 40.461213)scale(0.1 -0.1)\">\r\n       <use xlink:href=\"#DejaVuSans-53\"/>\r\n       <use x=\"63.623047\" xlink:href=\"#DejaVuSans-53\"/>\r\n       <use x=\"127.246094\" xlink:href=\"#DejaVuSans-50\"/>\r\n      </g>\r\n     </g>\r\n    </g>\r\n    <g id=\"ytick_554\">\r\n     <g id=\"line2d_562\">\r\n      <g>\r\n       <use style=\"stroke:#000000;stroke-width:0.8;\" x=\"33.2875\" xlink:href=\"#m2a888fa1a6\" y=\"36.3152\"/>\r\n      </g>\r\n     </g>\r\n     <g id=\"text_562\">\r\n      <!-- 553 -->\r\n      <g transform=\"translate(7.2 40.114418)scale(0.1 -0.1)\">\r\n       <use xlink:href=\"#DejaVuSans-53\"/>\r\n       <use x=\"63.623047\" xlink:href=\"#DejaVuSans-53\"/>\r\n       <use x=\"127.246094\" xlink:href=\"#DejaVuSans-51\"/>\r\n      </g>\r\n     </g>\r\n    </g>\r\n    <g id=\"ytick_555\">\r\n     <g id=\"line2d_563\">\r\n      <g>\r\n       <use style=\"stroke:#000000;stroke-width:0.8;\" x=\"33.2875\" xlink:href=\"#m2a888fa1a6\" y=\"35.968405\"/>\r\n      </g>\r\n     </g>\r\n     <g id=\"text_563\">\r\n      <!-- 554 -->\r\n      <g transform=\"translate(7.2 39.767624)scale(0.1 -0.1)\">\r\n       <use xlink:href=\"#DejaVuSans-53\"/>\r\n       <use x=\"63.623047\" xlink:href=\"#DejaVuSans-53\"/>\r\n       <use x=\"127.246094\" xlink:href=\"#DejaVuSans-52\"/>\r\n      </g>\r\n     </g>\r\n    </g>\r\n    <g id=\"ytick_556\">\r\n     <g id=\"line2d_564\">\r\n      <g>\r\n       <use style=\"stroke:#000000;stroke-width:0.8;\" x=\"33.2875\" xlink:href=\"#m2a888fa1a6\" y=\"35.621611\"/>\r\n      </g>\r\n     </g>\r\n     <g id=\"text_564\">\r\n      <!-- 555 -->\r\n      <g transform=\"translate(7.2 39.42083)scale(0.1 -0.1)\">\r\n       <use xlink:href=\"#DejaVuSans-53\"/>\r\n       <use x=\"63.623047\" xlink:href=\"#DejaVuSans-53\"/>\r\n       <use x=\"127.246094\" xlink:href=\"#DejaVuSans-53\"/>\r\n      </g>\r\n     </g>\r\n    </g>\r\n    <g id=\"ytick_557\">\r\n     <g id=\"line2d_565\">\r\n      <g>\r\n       <use style=\"stroke:#000000;stroke-width:0.8;\" x=\"33.2875\" xlink:href=\"#m2a888fa1a6\" y=\"35.274817\"/>\r\n      </g>\r\n     </g>\r\n     <g id=\"text_565\">\r\n      <!-- 556 -->\r\n      <g transform=\"translate(7.2 39.074036)scale(0.1 -0.1)\">\r\n       <use xlink:href=\"#DejaVuSans-53\"/>\r\n       <use x=\"63.623047\" xlink:href=\"#DejaVuSans-53\"/>\r\n       <use x=\"127.246094\" xlink:href=\"#DejaVuSans-54\"/>\r\n      </g>\r\n     </g>\r\n    </g>\r\n    <g id=\"ytick_558\">\r\n     <g id=\"line2d_566\">\r\n      <g>\r\n       <use style=\"stroke:#000000;stroke-width:0.8;\" x=\"33.2875\" xlink:href=\"#m2a888fa1a6\" y=\"34.928023\"/>\r\n      </g>\r\n     </g>\r\n     <g id=\"text_566\">\r\n      <!-- 557 -->\r\n      <g transform=\"translate(7.2 38.727241)scale(0.1 -0.1)\">\r\n       <use xlink:href=\"#DejaVuSans-53\"/>\r\n       <use x=\"63.623047\" xlink:href=\"#DejaVuSans-53\"/>\r\n       <use x=\"127.246094\" xlink:href=\"#DejaVuSans-55\"/>\r\n      </g>\r\n     </g>\r\n    </g>\r\n    <g id=\"ytick_559\">\r\n     <g id=\"line2d_567\">\r\n      <g>\r\n       <use style=\"stroke:#000000;stroke-width:0.8;\" x=\"33.2875\" xlink:href=\"#m2a888fa1a6\" y=\"34.581228\"/>\r\n      </g>\r\n     </g>\r\n     <g id=\"text_567\">\r\n      <!-- 558 -->\r\n      <g transform=\"translate(7.2 38.380447)scale(0.1 -0.1)\">\r\n       <use xlink:href=\"#DejaVuSans-53\"/>\r\n       <use x=\"63.623047\" xlink:href=\"#DejaVuSans-53\"/>\r\n       <use x=\"127.246094\" xlink:href=\"#DejaVuSans-56\"/>\r\n      </g>\r\n     </g>\r\n    </g>\r\n    <g id=\"ytick_560\">\r\n     <g id=\"line2d_568\">\r\n      <g>\r\n       <use style=\"stroke:#000000;stroke-width:0.8;\" x=\"33.2875\" xlink:href=\"#m2a888fa1a6\" y=\"34.234434\"/>\r\n      </g>\r\n     </g>\r\n     <g id=\"text_568\">\r\n      <!-- 559 -->\r\n      <g transform=\"translate(7.2 38.033653)scale(0.1 -0.1)\">\r\n       <use xlink:href=\"#DejaVuSans-53\"/>\r\n       <use x=\"63.623047\" xlink:href=\"#DejaVuSans-53\"/>\r\n       <use x=\"127.246094\" xlink:href=\"#DejaVuSans-57\"/>\r\n      </g>\r\n     </g>\r\n    </g>\r\n    <g id=\"ytick_561\">\r\n     <g id=\"line2d_569\">\r\n      <g>\r\n       <use style=\"stroke:#000000;stroke-width:0.8;\" x=\"33.2875\" xlink:href=\"#m2a888fa1a6\" y=\"33.88764\"/>\r\n      </g>\r\n     </g>\r\n     <g id=\"text_569\">\r\n      <!-- 560 -->\r\n      <g transform=\"translate(7.2 37.686859)scale(0.1 -0.1)\">\r\n       <use xlink:href=\"#DejaVuSans-53\"/>\r\n       <use x=\"63.623047\" xlink:href=\"#DejaVuSans-54\"/>\r\n       <use x=\"127.246094\" xlink:href=\"#DejaVuSans-48\"/>\r\n      </g>\r\n     </g>\r\n    </g>\r\n    <g id=\"ytick_562\">\r\n     <g id=\"line2d_570\">\r\n      <g>\r\n       <use style=\"stroke:#000000;stroke-width:0.8;\" x=\"33.2875\" xlink:href=\"#m2a888fa1a6\" y=\"33.540846\"/>\r\n      </g>\r\n     </g>\r\n     <g id=\"text_570\">\r\n      <!-- 561 -->\r\n      <g transform=\"translate(7.2 37.340064)scale(0.1 -0.1)\">\r\n       <use xlink:href=\"#DejaVuSans-53\"/>\r\n       <use x=\"63.623047\" xlink:href=\"#DejaVuSans-54\"/>\r\n       <use x=\"127.246094\" xlink:href=\"#DejaVuSans-49\"/>\r\n      </g>\r\n     </g>\r\n    </g>\r\n    <g id=\"ytick_563\">\r\n     <g id=\"line2d_571\">\r\n      <g>\r\n       <use style=\"stroke:#000000;stroke-width:0.8;\" x=\"33.2875\" xlink:href=\"#m2a888fa1a6\" y=\"33.194051\"/>\r\n      </g>\r\n     </g>\r\n     <g id=\"text_571\">\r\n      <!-- 562 -->\r\n      <g transform=\"translate(7.2 36.99327)scale(0.1 -0.1)\">\r\n       <use xlink:href=\"#DejaVuSans-53\"/>\r\n       <use x=\"63.623047\" xlink:href=\"#DejaVuSans-54\"/>\r\n       <use x=\"127.246094\" xlink:href=\"#DejaVuSans-50\"/>\r\n      </g>\r\n     </g>\r\n    </g>\r\n    <g id=\"ytick_564\">\r\n     <g id=\"line2d_572\">\r\n      <g>\r\n       <use style=\"stroke:#000000;stroke-width:0.8;\" x=\"33.2875\" xlink:href=\"#m2a888fa1a6\" y=\"32.847257\"/>\r\n      </g>\r\n     </g>\r\n     <g id=\"text_572\">\r\n      <!-- 563 -->\r\n      <g transform=\"translate(7.2 36.646476)scale(0.1 -0.1)\">\r\n       <use xlink:href=\"#DejaVuSans-53\"/>\r\n       <use x=\"63.623047\" xlink:href=\"#DejaVuSans-54\"/>\r\n       <use x=\"127.246094\" xlink:href=\"#DejaVuSans-51\"/>\r\n      </g>\r\n     </g>\r\n    </g>\r\n    <g id=\"ytick_565\">\r\n     <g id=\"line2d_573\">\r\n      <g>\r\n       <use style=\"stroke:#000000;stroke-width:0.8;\" x=\"33.2875\" xlink:href=\"#m2a888fa1a6\" y=\"32.500463\"/>\r\n      </g>\r\n     </g>\r\n     <g id=\"text_573\">\r\n      <!-- 564 -->\r\n      <g transform=\"translate(7.2 36.299682)scale(0.1 -0.1)\">\r\n       <use xlink:href=\"#DejaVuSans-53\"/>\r\n       <use x=\"63.623047\" xlink:href=\"#DejaVuSans-54\"/>\r\n       <use x=\"127.246094\" xlink:href=\"#DejaVuSans-52\"/>\r\n      </g>\r\n     </g>\r\n    </g>\r\n    <g id=\"ytick_566\">\r\n     <g id=\"line2d_574\">\r\n      <g>\r\n       <use style=\"stroke:#000000;stroke-width:0.8;\" x=\"33.2875\" xlink:href=\"#m2a888fa1a6\" y=\"32.153669\"/>\r\n      </g>\r\n     </g>\r\n     <g id=\"text_574\">\r\n      <!-- 565 -->\r\n      <g transform=\"translate(7.2 35.952887)scale(0.1 -0.1)\">\r\n       <use xlink:href=\"#DejaVuSans-53\"/>\r\n       <use x=\"63.623047\" xlink:href=\"#DejaVuSans-54\"/>\r\n       <use x=\"127.246094\" xlink:href=\"#DejaVuSans-53\"/>\r\n      </g>\r\n     </g>\r\n    </g>\r\n    <g id=\"ytick_567\">\r\n     <g id=\"line2d_575\">\r\n      <g>\r\n       <use style=\"stroke:#000000;stroke-width:0.8;\" x=\"33.2875\" xlink:href=\"#m2a888fa1a6\" y=\"31.806874\"/>\r\n      </g>\r\n     </g>\r\n     <g id=\"text_575\">\r\n      <!-- 566 -->\r\n      <g transform=\"translate(7.2 35.606093)scale(0.1 -0.1)\">\r\n       <use xlink:href=\"#DejaVuSans-53\"/>\r\n       <use x=\"63.623047\" xlink:href=\"#DejaVuSans-54\"/>\r\n       <use x=\"127.246094\" xlink:href=\"#DejaVuSans-54\"/>\r\n      </g>\r\n     </g>\r\n    </g>\r\n    <g id=\"ytick_568\">\r\n     <g id=\"line2d_576\">\r\n      <g>\r\n       <use style=\"stroke:#000000;stroke-width:0.8;\" x=\"33.2875\" xlink:href=\"#m2a888fa1a6\" y=\"31.46008\"/>\r\n      </g>\r\n     </g>\r\n     <g id=\"text_576\">\r\n      <!-- 567 -->\r\n      <g transform=\"translate(7.2 35.259299)scale(0.1 -0.1)\">\r\n       <use xlink:href=\"#DejaVuSans-53\"/>\r\n       <use x=\"63.623047\" xlink:href=\"#DejaVuSans-54\"/>\r\n       <use x=\"127.246094\" xlink:href=\"#DejaVuSans-55\"/>\r\n      </g>\r\n     </g>\r\n    </g>\r\n    <g id=\"ytick_569\">\r\n     <g id=\"line2d_577\">\r\n      <g>\r\n       <use style=\"stroke:#000000;stroke-width:0.8;\" x=\"33.2875\" xlink:href=\"#m2a888fa1a6\" y=\"31.113286\"/>\r\n      </g>\r\n     </g>\r\n     <g id=\"text_577\">\r\n      <!-- 568 -->\r\n      <g transform=\"translate(7.2 34.912504)scale(0.1 -0.1)\">\r\n       <use xlink:href=\"#DejaVuSans-53\"/>\r\n       <use x=\"63.623047\" xlink:href=\"#DejaVuSans-54\"/>\r\n       <use x=\"127.246094\" xlink:href=\"#DejaVuSans-56\"/>\r\n      </g>\r\n     </g>\r\n    </g>\r\n    <g id=\"ytick_570\">\r\n     <g id=\"line2d_578\">\r\n      <g>\r\n       <use style=\"stroke:#000000;stroke-width:0.8;\" x=\"33.2875\" xlink:href=\"#m2a888fa1a6\" y=\"30.766491\"/>\r\n      </g>\r\n     </g>\r\n     <g id=\"text_578\">\r\n      <!-- 569 -->\r\n      <g transform=\"translate(7.2 34.56571)scale(0.1 -0.1)\">\r\n       <use xlink:href=\"#DejaVuSans-53\"/>\r\n       <use x=\"63.623047\" xlink:href=\"#DejaVuSans-54\"/>\r\n       <use x=\"127.246094\" xlink:href=\"#DejaVuSans-57\"/>\r\n      </g>\r\n     </g>\r\n    </g>\r\n    <g id=\"ytick_571\">\r\n     <g id=\"line2d_579\">\r\n      <g>\r\n       <use style=\"stroke:#000000;stroke-width:0.8;\" x=\"33.2875\" xlink:href=\"#m2a888fa1a6\" y=\"30.419697\"/>\r\n      </g>\r\n     </g>\r\n     <g id=\"text_579\">\r\n      <!-- 570 -->\r\n      <g transform=\"translate(7.2 34.218916)scale(0.1 -0.1)\">\r\n       <use xlink:href=\"#DejaVuSans-53\"/>\r\n       <use x=\"63.623047\" xlink:href=\"#DejaVuSans-55\"/>\r\n       <use x=\"127.246094\" xlink:href=\"#DejaVuSans-48\"/>\r\n      </g>\r\n     </g>\r\n    </g>\r\n    <g id=\"ytick_572\">\r\n     <g id=\"line2d_580\">\r\n      <g>\r\n       <use style=\"stroke:#000000;stroke-width:0.8;\" x=\"33.2875\" xlink:href=\"#m2a888fa1a6\" y=\"30.072903\"/>\r\n      </g>\r\n     </g>\r\n     <g id=\"text_580\">\r\n      <!-- 571 -->\r\n      <g transform=\"translate(7.2 33.872122)scale(0.1 -0.1)\">\r\n       <use xlink:href=\"#DejaVuSans-53\"/>\r\n       <use x=\"63.623047\" xlink:href=\"#DejaVuSans-55\"/>\r\n       <use x=\"127.246094\" xlink:href=\"#DejaVuSans-49\"/>\r\n      </g>\r\n     </g>\r\n    </g>\r\n    <g id=\"ytick_573\">\r\n     <g id=\"line2d_581\">\r\n      <g>\r\n       <use style=\"stroke:#000000;stroke-width:0.8;\" x=\"33.2875\" xlink:href=\"#m2a888fa1a6\" y=\"29.726109\"/>\r\n      </g>\r\n     </g>\r\n     <g id=\"text_581\">\r\n      <!-- 572 -->\r\n      <g transform=\"translate(7.2 33.525327)scale(0.1 -0.1)\">\r\n       <use xlink:href=\"#DejaVuSans-53\"/>\r\n       <use x=\"63.623047\" xlink:href=\"#DejaVuSans-55\"/>\r\n       <use x=\"127.246094\" xlink:href=\"#DejaVuSans-50\"/>\r\n      </g>\r\n     </g>\r\n    </g>\r\n    <g id=\"ytick_574\">\r\n     <g id=\"line2d_582\">\r\n      <g>\r\n       <use style=\"stroke:#000000;stroke-width:0.8;\" x=\"33.2875\" xlink:href=\"#m2a888fa1a6\" y=\"29.379314\"/>\r\n      </g>\r\n     </g>\r\n     <g id=\"text_582\">\r\n      <!-- 573 -->\r\n      <g transform=\"translate(7.2 33.178533)scale(0.1 -0.1)\">\r\n       <use xlink:href=\"#DejaVuSans-53\"/>\r\n       <use x=\"63.623047\" xlink:href=\"#DejaVuSans-55\"/>\r\n       <use x=\"127.246094\" xlink:href=\"#DejaVuSans-51\"/>\r\n      </g>\r\n     </g>\r\n    </g>\r\n    <g id=\"ytick_575\">\r\n     <g id=\"line2d_583\">\r\n      <g>\r\n       <use style=\"stroke:#000000;stroke-width:0.8;\" x=\"33.2875\" xlink:href=\"#m2a888fa1a6\" y=\"29.03252\"/>\r\n      </g>\r\n     </g>\r\n     <g id=\"text_583\">\r\n      <!-- 574 -->\r\n      <g transform=\"translate(7.2 32.831739)scale(0.1 -0.1)\">\r\n       <use xlink:href=\"#DejaVuSans-53\"/>\r\n       <use x=\"63.623047\" xlink:href=\"#DejaVuSans-55\"/>\r\n       <use x=\"127.246094\" xlink:href=\"#DejaVuSans-52\"/>\r\n      </g>\r\n     </g>\r\n    </g>\r\n    <g id=\"ytick_576\">\r\n     <g id=\"line2d_584\">\r\n      <g>\r\n       <use style=\"stroke:#000000;stroke-width:0.8;\" x=\"33.2875\" xlink:href=\"#m2a888fa1a6\" y=\"28.685726\"/>\r\n      </g>\r\n     </g>\r\n     <g id=\"text_584\">\r\n      <!-- 575 -->\r\n      <g transform=\"translate(7.2 32.484945)scale(0.1 -0.1)\">\r\n       <use xlink:href=\"#DejaVuSans-53\"/>\r\n       <use x=\"63.623047\" xlink:href=\"#DejaVuSans-55\"/>\r\n       <use x=\"127.246094\" xlink:href=\"#DejaVuSans-53\"/>\r\n      </g>\r\n     </g>\r\n    </g>\r\n    <g id=\"ytick_577\">\r\n     <g id=\"line2d_585\">\r\n      <g>\r\n       <use style=\"stroke:#000000;stroke-width:0.8;\" x=\"33.2875\" xlink:href=\"#m2a888fa1a6\" y=\"28.338932\"/>\r\n      </g>\r\n     </g>\r\n     <g id=\"text_585\">\r\n      <!-- 576 -->\r\n      <g transform=\"translate(7.2 32.13815)scale(0.1 -0.1)\">\r\n       <use xlink:href=\"#DejaVuSans-53\"/>\r\n       <use x=\"63.623047\" xlink:href=\"#DejaVuSans-55\"/>\r\n       <use x=\"127.246094\" xlink:href=\"#DejaVuSans-54\"/>\r\n      </g>\r\n     </g>\r\n    </g>\r\n    <g id=\"ytick_578\">\r\n     <g id=\"line2d_586\">\r\n      <g>\r\n       <use style=\"stroke:#000000;stroke-width:0.8;\" x=\"33.2875\" xlink:href=\"#m2a888fa1a6\" y=\"27.992137\"/>\r\n      </g>\r\n     </g>\r\n     <g id=\"text_586\">\r\n      <!-- 577 -->\r\n      <g transform=\"translate(7.2 31.791356)scale(0.1 -0.1)\">\r\n       <use xlink:href=\"#DejaVuSans-53\"/>\r\n       <use x=\"63.623047\" xlink:href=\"#DejaVuSans-55\"/>\r\n       <use x=\"127.246094\" xlink:href=\"#DejaVuSans-55\"/>\r\n      </g>\r\n     </g>\r\n    </g>\r\n    <g id=\"ytick_579\">\r\n     <g id=\"line2d_587\">\r\n      <g>\r\n       <use style=\"stroke:#000000;stroke-width:0.8;\" x=\"33.2875\" xlink:href=\"#m2a888fa1a6\" y=\"27.645343\"/>\r\n      </g>\r\n     </g>\r\n     <g id=\"text_587\">\r\n      <!-- 578 -->\r\n      <g transform=\"translate(7.2 31.444562)scale(0.1 -0.1)\">\r\n       <use xlink:href=\"#DejaVuSans-53\"/>\r\n       <use x=\"63.623047\" xlink:href=\"#DejaVuSans-55\"/>\r\n       <use x=\"127.246094\" xlink:href=\"#DejaVuSans-56\"/>\r\n      </g>\r\n     </g>\r\n    </g>\r\n    <g id=\"ytick_580\">\r\n     <g id=\"line2d_588\">\r\n      <g>\r\n       <use style=\"stroke:#000000;stroke-width:0.8;\" x=\"33.2875\" xlink:href=\"#m2a888fa1a6\" y=\"27.298549\"/>\r\n      </g>\r\n     </g>\r\n     <g id=\"text_588\">\r\n      <!-- 579 -->\r\n      <g transform=\"translate(7.2 31.097768)scale(0.1 -0.1)\">\r\n       <use xlink:href=\"#DejaVuSans-53\"/>\r\n       <use x=\"63.623047\" xlink:href=\"#DejaVuSans-55\"/>\r\n       <use x=\"127.246094\" xlink:href=\"#DejaVuSans-57\"/>\r\n      </g>\r\n     </g>\r\n    </g>\r\n    <g id=\"ytick_581\">\r\n     <g id=\"line2d_589\">\r\n      <g>\r\n       <use style=\"stroke:#000000;stroke-width:0.8;\" x=\"33.2875\" xlink:href=\"#m2a888fa1a6\" y=\"26.951755\"/>\r\n      </g>\r\n     </g>\r\n     <g id=\"text_589\">\r\n      <!-- 580 -->\r\n      <g transform=\"translate(7.2 30.750973)scale(0.1 -0.1)\">\r\n       <use xlink:href=\"#DejaVuSans-53\"/>\r\n       <use x=\"63.623047\" xlink:href=\"#DejaVuSans-56\"/>\r\n       <use x=\"127.246094\" xlink:href=\"#DejaVuSans-48\"/>\r\n      </g>\r\n     </g>\r\n    </g>\r\n    <g id=\"ytick_582\">\r\n     <g id=\"line2d_590\">\r\n      <g>\r\n       <use style=\"stroke:#000000;stroke-width:0.8;\" x=\"33.2875\" xlink:href=\"#m2a888fa1a6\" y=\"26.60496\"/>\r\n      </g>\r\n     </g>\r\n     <g id=\"text_590\">\r\n      <!-- 581 -->\r\n      <g transform=\"translate(7.2 30.404179)scale(0.1 -0.1)\">\r\n       <use xlink:href=\"#DejaVuSans-53\"/>\r\n       <use x=\"63.623047\" xlink:href=\"#DejaVuSans-56\"/>\r\n       <use x=\"127.246094\" xlink:href=\"#DejaVuSans-49\"/>\r\n      </g>\r\n     </g>\r\n    </g>\r\n    <g id=\"ytick_583\">\r\n     <g id=\"line2d_591\">\r\n      <g>\r\n       <use style=\"stroke:#000000;stroke-width:0.8;\" x=\"33.2875\" xlink:href=\"#m2a888fa1a6\" y=\"26.258166\"/>\r\n      </g>\r\n     </g>\r\n     <g id=\"text_591\">\r\n      <!-- 582 -->\r\n      <g transform=\"translate(7.2 30.057385)scale(0.1 -0.1)\">\r\n       <use xlink:href=\"#DejaVuSans-53\"/>\r\n       <use x=\"63.623047\" xlink:href=\"#DejaVuSans-56\"/>\r\n       <use x=\"127.246094\" xlink:href=\"#DejaVuSans-50\"/>\r\n      </g>\r\n     </g>\r\n    </g>\r\n    <g id=\"ytick_584\">\r\n     <g id=\"line2d_592\">\r\n      <g>\r\n       <use style=\"stroke:#000000;stroke-width:0.8;\" x=\"33.2875\" xlink:href=\"#m2a888fa1a6\" y=\"25.911372\"/>\r\n      </g>\r\n     </g>\r\n     <g id=\"text_592\">\r\n      <!-- 583 -->\r\n      <g transform=\"translate(7.2 29.710591)scale(0.1 -0.1)\">\r\n       <use xlink:href=\"#DejaVuSans-53\"/>\r\n       <use x=\"63.623047\" xlink:href=\"#DejaVuSans-56\"/>\r\n       <use x=\"127.246094\" xlink:href=\"#DejaVuSans-51\"/>\r\n      </g>\r\n     </g>\r\n    </g>\r\n    <g id=\"ytick_585\">\r\n     <g id=\"line2d_593\">\r\n      <g>\r\n       <use style=\"stroke:#000000;stroke-width:0.8;\" x=\"33.2875\" xlink:href=\"#m2a888fa1a6\" y=\"25.564578\"/>\r\n      </g>\r\n     </g>\r\n     <g id=\"text_593\">\r\n      <!-- 584 -->\r\n      <g transform=\"translate(7.2 29.363796)scale(0.1 -0.1)\">\r\n       <use xlink:href=\"#DejaVuSans-53\"/>\r\n       <use x=\"63.623047\" xlink:href=\"#DejaVuSans-56\"/>\r\n       <use x=\"127.246094\" xlink:href=\"#DejaVuSans-52\"/>\r\n      </g>\r\n     </g>\r\n    </g>\r\n    <g id=\"ytick_586\">\r\n     <g id=\"line2d_594\">\r\n      <g>\r\n       <use style=\"stroke:#000000;stroke-width:0.8;\" x=\"33.2875\" xlink:href=\"#m2a888fa1a6\" y=\"25.217783\"/>\r\n      </g>\r\n     </g>\r\n     <g id=\"text_594\">\r\n      <!-- 585 -->\r\n      <g transform=\"translate(7.2 29.017002)scale(0.1 -0.1)\">\r\n       <use xlink:href=\"#DejaVuSans-53\"/>\r\n       <use x=\"63.623047\" xlink:href=\"#DejaVuSans-56\"/>\r\n       <use x=\"127.246094\" xlink:href=\"#DejaVuSans-53\"/>\r\n      </g>\r\n     </g>\r\n    </g>\r\n    <g id=\"ytick_587\">\r\n     <g id=\"line2d_595\">\r\n      <g>\r\n       <use style=\"stroke:#000000;stroke-width:0.8;\" x=\"33.2875\" xlink:href=\"#m2a888fa1a6\" y=\"24.870989\"/>\r\n      </g>\r\n     </g>\r\n     <g id=\"text_595\">\r\n      <!-- 586 -->\r\n      <g transform=\"translate(7.2 28.670208)scale(0.1 -0.1)\">\r\n       <use xlink:href=\"#DejaVuSans-53\"/>\r\n       <use x=\"63.623047\" xlink:href=\"#DejaVuSans-56\"/>\r\n       <use x=\"127.246094\" xlink:href=\"#DejaVuSans-54\"/>\r\n      </g>\r\n     </g>\r\n    </g>\r\n    <g id=\"ytick_588\">\r\n     <g id=\"line2d_596\">\r\n      <g>\r\n       <use style=\"stroke:#000000;stroke-width:0.8;\" x=\"33.2875\" xlink:href=\"#m2a888fa1a6\" y=\"24.524195\"/>\r\n      </g>\r\n     </g>\r\n     <g id=\"text_596\">\r\n      <!-- 587 -->\r\n      <g transform=\"translate(7.2 28.323414)scale(0.1 -0.1)\">\r\n       <use xlink:href=\"#DejaVuSans-53\"/>\r\n       <use x=\"63.623047\" xlink:href=\"#DejaVuSans-56\"/>\r\n       <use x=\"127.246094\" xlink:href=\"#DejaVuSans-55\"/>\r\n      </g>\r\n     </g>\r\n    </g>\r\n    <g id=\"ytick_589\">\r\n     <g id=\"line2d_597\">\r\n      <g>\r\n       <use style=\"stroke:#000000;stroke-width:0.8;\" x=\"33.2875\" xlink:href=\"#m2a888fa1a6\" y=\"24.177401\"/>\r\n      </g>\r\n     </g>\r\n     <g id=\"text_597\">\r\n      <!-- 588 -->\r\n      <g transform=\"translate(7.2 27.976619)scale(0.1 -0.1)\">\r\n       <use xlink:href=\"#DejaVuSans-53\"/>\r\n       <use x=\"63.623047\" xlink:href=\"#DejaVuSans-56\"/>\r\n       <use x=\"127.246094\" xlink:href=\"#DejaVuSans-56\"/>\r\n      </g>\r\n     </g>\r\n    </g>\r\n    <g id=\"ytick_590\">\r\n     <g id=\"line2d_598\">\r\n      <g>\r\n       <use style=\"stroke:#000000;stroke-width:0.8;\" x=\"33.2875\" xlink:href=\"#m2a888fa1a6\" y=\"23.830606\"/>\r\n      </g>\r\n     </g>\r\n     <g id=\"text_598\">\r\n      <!-- 589 -->\r\n      <g transform=\"translate(7.2 27.629825)scale(0.1 -0.1)\">\r\n       <use xlink:href=\"#DejaVuSans-53\"/>\r\n       <use x=\"63.623047\" xlink:href=\"#DejaVuSans-56\"/>\r\n       <use x=\"127.246094\" xlink:href=\"#DejaVuSans-57\"/>\r\n      </g>\r\n     </g>\r\n    </g>\r\n    <g id=\"ytick_591\">\r\n     <g id=\"line2d_599\">\r\n      <g>\r\n       <use style=\"stroke:#000000;stroke-width:0.8;\" x=\"33.2875\" xlink:href=\"#m2a888fa1a6\" y=\"23.483812\"/>\r\n      </g>\r\n     </g>\r\n     <g id=\"text_599\">\r\n      <!-- 590 -->\r\n      <g transform=\"translate(7.2 27.283031)scale(0.1 -0.1)\">\r\n       <use xlink:href=\"#DejaVuSans-53\"/>\r\n       <use x=\"63.623047\" xlink:href=\"#DejaVuSans-57\"/>\r\n       <use x=\"127.246094\" xlink:href=\"#DejaVuSans-48\"/>\r\n      </g>\r\n     </g>\r\n    </g>\r\n    <g id=\"ytick_592\">\r\n     <g id=\"line2d_600\">\r\n      <g>\r\n       <use style=\"stroke:#000000;stroke-width:0.8;\" x=\"33.2875\" xlink:href=\"#m2a888fa1a6\" y=\"23.137018\"/>\r\n      </g>\r\n     </g>\r\n     <g id=\"text_600\">\r\n      <!-- 591 -->\r\n      <g transform=\"translate(7.2 26.936237)scale(0.1 -0.1)\">\r\n       <use xlink:href=\"#DejaVuSans-53\"/>\r\n       <use x=\"63.623047\" xlink:href=\"#DejaVuSans-57\"/>\r\n       <use x=\"127.246094\" xlink:href=\"#DejaVuSans-49\"/>\r\n      </g>\r\n     </g>\r\n    </g>\r\n    <g id=\"ytick_593\">\r\n     <g id=\"line2d_601\">\r\n      <g>\r\n       <use style=\"stroke:#000000;stroke-width:0.8;\" x=\"33.2875\" xlink:href=\"#m2a888fa1a6\" y=\"22.790224\"/>\r\n      </g>\r\n     </g>\r\n     <g id=\"text_601\">\r\n      <!-- 592 -->\r\n      <g transform=\"translate(7.2 26.589442)scale(0.1 -0.1)\">\r\n       <use xlink:href=\"#DejaVuSans-53\"/>\r\n       <use x=\"63.623047\" xlink:href=\"#DejaVuSans-57\"/>\r\n       <use x=\"127.246094\" xlink:href=\"#DejaVuSans-50\"/>\r\n      </g>\r\n     </g>\r\n    </g>\r\n    <g id=\"ytick_594\">\r\n     <g id=\"line2d_602\">\r\n      <g>\r\n       <use style=\"stroke:#000000;stroke-width:0.8;\" x=\"33.2875\" xlink:href=\"#m2a888fa1a6\" y=\"22.443429\"/>\r\n      </g>\r\n     </g>\r\n     <g id=\"text_602\">\r\n      <!-- 593 -->\r\n      <g transform=\"translate(7.2 26.242648)scale(0.1 -0.1)\">\r\n       <use xlink:href=\"#DejaVuSans-53\"/>\r\n       <use x=\"63.623047\" xlink:href=\"#DejaVuSans-57\"/>\r\n       <use x=\"127.246094\" xlink:href=\"#DejaVuSans-51\"/>\r\n      </g>\r\n     </g>\r\n    </g>\r\n    <g id=\"ytick_595\">\r\n     <g id=\"line2d_603\">\r\n      <g>\r\n       <use style=\"stroke:#000000;stroke-width:0.8;\" x=\"33.2875\" xlink:href=\"#m2a888fa1a6\" y=\"22.096635\"/>\r\n      </g>\r\n     </g>\r\n     <g id=\"text_603\">\r\n      <!-- 594 -->\r\n      <g transform=\"translate(7.2 25.895854)scale(0.1 -0.1)\">\r\n       <use xlink:href=\"#DejaVuSans-53\"/>\r\n       <use x=\"63.623047\" xlink:href=\"#DejaVuSans-57\"/>\r\n       <use x=\"127.246094\" xlink:href=\"#DejaVuSans-52\"/>\r\n      </g>\r\n     </g>\r\n    </g>\r\n    <g id=\"ytick_596\">\r\n     <g id=\"line2d_604\">\r\n      <g>\r\n       <use style=\"stroke:#000000;stroke-width:0.8;\" x=\"33.2875\" xlink:href=\"#m2a888fa1a6\" y=\"21.749841\"/>\r\n      </g>\r\n     </g>\r\n     <g id=\"text_604\">\r\n      <!-- 595 -->\r\n      <g transform=\"translate(7.2 25.54906)scale(0.1 -0.1)\">\r\n       <use xlink:href=\"#DejaVuSans-53\"/>\r\n       <use x=\"63.623047\" xlink:href=\"#DejaVuSans-57\"/>\r\n       <use x=\"127.246094\" xlink:href=\"#DejaVuSans-53\"/>\r\n      </g>\r\n     </g>\r\n    </g>\r\n    <g id=\"ytick_597\">\r\n     <g id=\"line2d_605\">\r\n      <g>\r\n       <use style=\"stroke:#000000;stroke-width:0.8;\" x=\"33.2875\" xlink:href=\"#m2a888fa1a6\" y=\"21.403047\"/>\r\n      </g>\r\n     </g>\r\n     <g id=\"text_605\">\r\n      <!-- 596 -->\r\n      <g transform=\"translate(7.2 25.202265)scale(0.1 -0.1)\">\r\n       <use xlink:href=\"#DejaVuSans-53\"/>\r\n       <use x=\"63.623047\" xlink:href=\"#DejaVuSans-57\"/>\r\n       <use x=\"127.246094\" xlink:href=\"#DejaVuSans-54\"/>\r\n      </g>\r\n     </g>\r\n    </g>\r\n    <g id=\"ytick_598\">\r\n     <g id=\"line2d_606\">\r\n      <g>\r\n       <use style=\"stroke:#000000;stroke-width:0.8;\" x=\"33.2875\" xlink:href=\"#m2a888fa1a6\" y=\"21.056252\"/>\r\n      </g>\r\n     </g>\r\n     <g id=\"text_606\">\r\n      <!-- 597 -->\r\n      <g transform=\"translate(7.2 24.855471)scale(0.1 -0.1)\">\r\n       <use xlink:href=\"#DejaVuSans-53\"/>\r\n       <use x=\"63.623047\" xlink:href=\"#DejaVuSans-57\"/>\r\n       <use x=\"127.246094\" xlink:href=\"#DejaVuSans-55\"/>\r\n      </g>\r\n     </g>\r\n    </g>\r\n    <g id=\"ytick_599\">\r\n     <g id=\"line2d_607\">\r\n      <g>\r\n       <use style=\"stroke:#000000;stroke-width:0.8;\" x=\"33.2875\" xlink:href=\"#m2a888fa1a6\" y=\"20.709458\"/>\r\n      </g>\r\n     </g>\r\n     <g id=\"text_607\">\r\n      <!-- 598 -->\r\n      <g transform=\"translate(7.2 24.508677)scale(0.1 -0.1)\">\r\n       <use xlink:href=\"#DejaVuSans-53\"/>\r\n       <use x=\"63.623047\" xlink:href=\"#DejaVuSans-57\"/>\r\n       <use x=\"127.246094\" xlink:href=\"#DejaVuSans-56\"/>\r\n      </g>\r\n     </g>\r\n    </g>\r\n    <g id=\"ytick_600\">\r\n     <g id=\"line2d_608\">\r\n      <g>\r\n       <use style=\"stroke:#000000;stroke-width:0.8;\" x=\"33.2875\" xlink:href=\"#m2a888fa1a6\" y=\"20.362664\"/>\r\n      </g>\r\n     </g>\r\n     <g id=\"text_608\">\r\n      <!-- 599 -->\r\n      <g transform=\"translate(7.2 24.161882)scale(0.1 -0.1)\">\r\n       <use xlink:href=\"#DejaVuSans-53\"/>\r\n       <use x=\"63.623047\" xlink:href=\"#DejaVuSans-57\"/>\r\n       <use x=\"127.246094\" xlink:href=\"#DejaVuSans-57\"/>\r\n      </g>\r\n     </g>\r\n    </g>\r\n    <g id=\"ytick_601\">\r\n     <g id=\"line2d_609\">\r\n      <g>\r\n       <use style=\"stroke:#000000;stroke-width:0.8;\" x=\"33.2875\" xlink:href=\"#m2a888fa1a6\" y=\"20.015869\"/>\r\n      </g>\r\n     </g>\r\n     <g id=\"text_609\">\r\n      <!-- 600 -->\r\n      <g transform=\"translate(7.2 23.815088)scale(0.1 -0.1)\">\r\n       <use xlink:href=\"#DejaVuSans-54\"/>\r\n       <use x=\"63.623047\" xlink:href=\"#DejaVuSans-48\"/>\r\n       <use x=\"127.246094\" xlink:href=\"#DejaVuSans-48\"/>\r\n      </g>\r\n     </g>\r\n    </g>\r\n    <g id=\"ytick_602\">\r\n     <g id=\"line2d_610\">\r\n      <g>\r\n       <use style=\"stroke:#000000;stroke-width:0.8;\" x=\"33.2875\" xlink:href=\"#m2a888fa1a6\" y=\"19.669075\"/>\r\n      </g>\r\n     </g>\r\n     <g id=\"text_610\">\r\n      <!-- 601 -->\r\n      <g transform=\"translate(7.2 23.468294)scale(0.1 -0.1)\">\r\n       <use xlink:href=\"#DejaVuSans-54\"/>\r\n       <use x=\"63.623047\" xlink:href=\"#DejaVuSans-48\"/>\r\n       <use x=\"127.246094\" xlink:href=\"#DejaVuSans-49\"/>\r\n      </g>\r\n     </g>\r\n    </g>\r\n    <g id=\"ytick_603\">\r\n     <g id=\"line2d_611\">\r\n      <g>\r\n       <use style=\"stroke:#000000;stroke-width:0.8;\" x=\"33.2875\" xlink:href=\"#m2a888fa1a6\" y=\"19.322281\"/>\r\n      </g>\r\n     </g>\r\n     <g id=\"text_611\">\r\n      <!-- 602 -->\r\n      <g transform=\"translate(7.2 23.1215)scale(0.1 -0.1)\">\r\n       <use xlink:href=\"#DejaVuSans-54\"/>\r\n       <use x=\"63.623047\" xlink:href=\"#DejaVuSans-48\"/>\r\n       <use x=\"127.246094\" xlink:href=\"#DejaVuSans-50\"/>\r\n      </g>\r\n     </g>\r\n    </g>\r\n    <g id=\"ytick_604\">\r\n     <g id=\"line2d_612\">\r\n      <g>\r\n       <use style=\"stroke:#000000;stroke-width:0.8;\" x=\"33.2875\" xlink:href=\"#m2a888fa1a6\" y=\"18.975487\"/>\r\n      </g>\r\n     </g>\r\n     <g id=\"text_612\">\r\n      <!-- 603 -->\r\n      <g transform=\"translate(7.2 22.774705)scale(0.1 -0.1)\">\r\n       <use xlink:href=\"#DejaVuSans-54\"/>\r\n       <use x=\"63.623047\" xlink:href=\"#DejaVuSans-48\"/>\r\n       <use x=\"127.246094\" xlink:href=\"#DejaVuSans-51\"/>\r\n      </g>\r\n     </g>\r\n    </g>\r\n    <g id=\"ytick_605\">\r\n     <g id=\"line2d_613\">\r\n      <g>\r\n       <use style=\"stroke:#000000;stroke-width:0.8;\" x=\"33.2875\" xlink:href=\"#m2a888fa1a6\" y=\"18.628692\"/>\r\n      </g>\r\n     </g>\r\n     <g id=\"text_613\">\r\n      <!-- 604 -->\r\n      <g transform=\"translate(7.2 22.427911)scale(0.1 -0.1)\">\r\n       <use xlink:href=\"#DejaVuSans-54\"/>\r\n       <use x=\"63.623047\" xlink:href=\"#DejaVuSans-48\"/>\r\n       <use x=\"127.246094\" xlink:href=\"#DejaVuSans-52\"/>\r\n      </g>\r\n     </g>\r\n    </g>\r\n    <g id=\"ytick_606\">\r\n     <g id=\"line2d_614\">\r\n      <g>\r\n       <use style=\"stroke:#000000;stroke-width:0.8;\" x=\"33.2875\" xlink:href=\"#m2a888fa1a6\" y=\"18.281898\"/>\r\n      </g>\r\n     </g>\r\n     <g id=\"text_614\">\r\n      <!-- 605 -->\r\n      <g transform=\"translate(7.2 22.081117)scale(0.1 -0.1)\">\r\n       <use xlink:href=\"#DejaVuSans-54\"/>\r\n       <use x=\"63.623047\" xlink:href=\"#DejaVuSans-48\"/>\r\n       <use x=\"127.246094\" xlink:href=\"#DejaVuSans-53\"/>\r\n      </g>\r\n     </g>\r\n    </g>\r\n    <g id=\"ytick_607\">\r\n     <g id=\"line2d_615\">\r\n      <g>\r\n       <use style=\"stroke:#000000;stroke-width:0.8;\" x=\"33.2875\" xlink:href=\"#m2a888fa1a6\" y=\"17.935104\"/>\r\n      </g>\r\n     </g>\r\n     <g id=\"text_615\">\r\n      <!-- 606 -->\r\n      <g transform=\"translate(7.2 21.734323)scale(0.1 -0.1)\">\r\n       <use xlink:href=\"#DejaVuSans-54\"/>\r\n       <use x=\"63.623047\" xlink:href=\"#DejaVuSans-48\"/>\r\n       <use x=\"127.246094\" xlink:href=\"#DejaVuSans-54\"/>\r\n      </g>\r\n     </g>\r\n    </g>\r\n    <g id=\"ytick_608\">\r\n     <g id=\"line2d_616\">\r\n      <g>\r\n       <use style=\"stroke:#000000;stroke-width:0.8;\" x=\"33.2875\" xlink:href=\"#m2a888fa1a6\" y=\"17.58831\"/>\r\n      </g>\r\n     </g>\r\n     <g id=\"text_616\">\r\n      <!-- 607 -->\r\n      <g transform=\"translate(7.2 21.387528)scale(0.1 -0.1)\">\r\n       <use xlink:href=\"#DejaVuSans-54\"/>\r\n       <use x=\"63.623047\" xlink:href=\"#DejaVuSans-48\"/>\r\n       <use x=\"127.246094\" xlink:href=\"#DejaVuSans-55\"/>\r\n      </g>\r\n     </g>\r\n    </g>\r\n    <g id=\"ytick_609\">\r\n     <g id=\"line2d_617\">\r\n      <g>\r\n       <use style=\"stroke:#000000;stroke-width:0.8;\" x=\"33.2875\" xlink:href=\"#m2a888fa1a6\" y=\"17.241515\"/>\r\n      </g>\r\n     </g>\r\n     <g id=\"text_617\">\r\n      <!-- 608 -->\r\n      <g transform=\"translate(7.2 21.040734)scale(0.1 -0.1)\">\r\n       <use xlink:href=\"#DejaVuSans-54\"/>\r\n       <use x=\"63.623047\" xlink:href=\"#DejaVuSans-48\"/>\r\n       <use x=\"127.246094\" xlink:href=\"#DejaVuSans-56\"/>\r\n      </g>\r\n     </g>\r\n    </g>\r\n    <g id=\"ytick_610\">\r\n     <g id=\"line2d_618\">\r\n      <g>\r\n       <use style=\"stroke:#000000;stroke-width:0.8;\" x=\"33.2875\" xlink:href=\"#m2a888fa1a6\" y=\"16.894721\"/>\r\n      </g>\r\n     </g>\r\n     <g id=\"text_618\">\r\n      <!-- 609 -->\r\n      <g transform=\"translate(7.2 20.69394)scale(0.1 -0.1)\">\r\n       <use xlink:href=\"#DejaVuSans-54\"/>\r\n       <use x=\"63.623047\" xlink:href=\"#DejaVuSans-48\"/>\r\n       <use x=\"127.246094\" xlink:href=\"#DejaVuSans-57\"/>\r\n      </g>\r\n     </g>\r\n    </g>\r\n    <g id=\"ytick_611\">\r\n     <g id=\"line2d_619\">\r\n      <g>\r\n       <use style=\"stroke:#000000;stroke-width:0.8;\" x=\"33.2875\" xlink:href=\"#m2a888fa1a6\" y=\"16.547927\"/>\r\n      </g>\r\n     </g>\r\n     <g id=\"text_619\">\r\n      <!-- 610 -->\r\n      <g transform=\"translate(7.2 20.347146)scale(0.1 -0.1)\">\r\n       <use xlink:href=\"#DejaVuSans-54\"/>\r\n       <use x=\"63.623047\" xlink:href=\"#DejaVuSans-49\"/>\r\n       <use x=\"127.246094\" xlink:href=\"#DejaVuSans-48\"/>\r\n      </g>\r\n     </g>\r\n    </g>\r\n    <g id=\"ytick_612\">\r\n     <g id=\"line2d_620\">\r\n      <g>\r\n       <use style=\"stroke:#000000;stroke-width:0.8;\" x=\"33.2875\" xlink:href=\"#m2a888fa1a6\" y=\"16.201133\"/>\r\n      </g>\r\n     </g>\r\n     <g id=\"text_620\">\r\n      <!-- 611 -->\r\n      <g transform=\"translate(7.2 20.000351)scale(0.1 -0.1)\">\r\n       <use xlink:href=\"#DejaVuSans-54\"/>\r\n       <use x=\"63.623047\" xlink:href=\"#DejaVuSans-49\"/>\r\n       <use x=\"127.246094\" xlink:href=\"#DejaVuSans-49\"/>\r\n      </g>\r\n     </g>\r\n    </g>\r\n    <g id=\"ytick_613\">\r\n     <g id=\"line2d_621\">\r\n      <g>\r\n       <use style=\"stroke:#000000;stroke-width:0.8;\" x=\"33.2875\" xlink:href=\"#m2a888fa1a6\" y=\"15.854338\"/>\r\n      </g>\r\n     </g>\r\n     <g id=\"text_621\">\r\n      <!-- 612 -->\r\n      <g transform=\"translate(7.2 19.653557)scale(0.1 -0.1)\">\r\n       <use xlink:href=\"#DejaVuSans-54\"/>\r\n       <use x=\"63.623047\" xlink:href=\"#DejaVuSans-49\"/>\r\n       <use x=\"127.246094\" xlink:href=\"#DejaVuSans-50\"/>\r\n      </g>\r\n     </g>\r\n    </g>\r\n    <g id=\"ytick_614\">\r\n     <g id=\"line2d_622\">\r\n      <g>\r\n       <use style=\"stroke:#000000;stroke-width:0.8;\" x=\"33.2875\" xlink:href=\"#m2a888fa1a6\" y=\"15.507544\"/>\r\n      </g>\r\n     </g>\r\n     <g id=\"text_622\">\r\n      <!-- 613 -->\r\n      <g transform=\"translate(7.2 19.306763)scale(0.1 -0.1)\">\r\n       <use xlink:href=\"#DejaVuSans-54\"/>\r\n       <use x=\"63.623047\" xlink:href=\"#DejaVuSans-49\"/>\r\n       <use x=\"127.246094\" xlink:href=\"#DejaVuSans-51\"/>\r\n      </g>\r\n     </g>\r\n    </g>\r\n    <g id=\"ytick_615\">\r\n     <g id=\"line2d_623\">\r\n      <g>\r\n       <use style=\"stroke:#000000;stroke-width:0.8;\" x=\"33.2875\" xlink:href=\"#m2a888fa1a6\" y=\"15.16075\"/>\r\n      </g>\r\n     </g>\r\n     <g id=\"text_623\">\r\n      <!-- 614 -->\r\n      <g transform=\"translate(7.2 18.959969)scale(0.1 -0.1)\">\r\n       <use xlink:href=\"#DejaVuSans-54\"/>\r\n       <use x=\"63.623047\" xlink:href=\"#DejaVuSans-49\"/>\r\n       <use x=\"127.246094\" xlink:href=\"#DejaVuSans-52\"/>\r\n      </g>\r\n     </g>\r\n    </g>\r\n    <g id=\"ytick_616\">\r\n     <g id=\"line2d_624\">\r\n      <g>\r\n       <use style=\"stroke:#000000;stroke-width:0.8;\" x=\"33.2875\" xlink:href=\"#m2a888fa1a6\" y=\"14.813956\"/>\r\n      </g>\r\n     </g>\r\n     <g id=\"text_624\">\r\n      <!-- 615 -->\r\n      <g transform=\"translate(7.2 18.613174)scale(0.1 -0.1)\">\r\n       <use xlink:href=\"#DejaVuSans-54\"/>\r\n       <use x=\"63.623047\" xlink:href=\"#DejaVuSans-49\"/>\r\n       <use x=\"127.246094\" xlink:href=\"#DejaVuSans-53\"/>\r\n      </g>\r\n     </g>\r\n    </g>\r\n    <g id=\"ytick_617\">\r\n     <g id=\"line2d_625\">\r\n      <g>\r\n       <use style=\"stroke:#000000;stroke-width:0.8;\" x=\"33.2875\" xlink:href=\"#m2a888fa1a6\" y=\"14.467161\"/>\r\n      </g>\r\n     </g>\r\n     <g id=\"text_625\">\r\n      <!-- 616 -->\r\n      <g transform=\"translate(7.2 18.26638)scale(0.1 -0.1)\">\r\n       <use xlink:href=\"#DejaVuSans-54\"/>\r\n       <use x=\"63.623047\" xlink:href=\"#DejaVuSans-49\"/>\r\n       <use x=\"127.246094\" xlink:href=\"#DejaVuSans-54\"/>\r\n      </g>\r\n     </g>\r\n    </g>\r\n    <g id=\"ytick_618\">\r\n     <g id=\"line2d_626\">\r\n      <g>\r\n       <use style=\"stroke:#000000;stroke-width:0.8;\" x=\"33.2875\" xlink:href=\"#m2a888fa1a6\" y=\"14.120367\"/>\r\n      </g>\r\n     </g>\r\n     <g id=\"text_626\">\r\n      <!-- 617 -->\r\n      <g transform=\"translate(7.2 17.919586)scale(0.1 -0.1)\">\r\n       <use xlink:href=\"#DejaVuSans-54\"/>\r\n       <use x=\"63.623047\" xlink:href=\"#DejaVuSans-49\"/>\r\n       <use x=\"127.246094\" xlink:href=\"#DejaVuSans-55\"/>\r\n      </g>\r\n     </g>\r\n    </g>\r\n    <g id=\"ytick_619\">\r\n     <g id=\"line2d_627\">\r\n      <g>\r\n       <use style=\"stroke:#000000;stroke-width:0.8;\" x=\"33.2875\" xlink:href=\"#m2a888fa1a6\" y=\"13.773573\"/>\r\n      </g>\r\n     </g>\r\n     <g id=\"text_627\">\r\n      <!-- 618 -->\r\n      <g transform=\"translate(7.2 17.572792)scale(0.1 -0.1)\">\r\n       <use xlink:href=\"#DejaVuSans-54\"/>\r\n       <use x=\"63.623047\" xlink:href=\"#DejaVuSans-49\"/>\r\n       <use x=\"127.246094\" xlink:href=\"#DejaVuSans-56\"/>\r\n      </g>\r\n     </g>\r\n    </g>\r\n    <g id=\"ytick_620\">\r\n     <g id=\"line2d_628\">\r\n      <g>\r\n       <use style=\"stroke:#000000;stroke-width:0.8;\" x=\"33.2875\" xlink:href=\"#m2a888fa1a6\" y=\"13.426779\"/>\r\n      </g>\r\n     </g>\r\n     <g id=\"text_628\">\r\n      <!-- 619 -->\r\n      <g transform=\"translate(7.2 17.225997)scale(0.1 -0.1)\">\r\n       <use xlink:href=\"#DejaVuSans-54\"/>\r\n       <use x=\"63.623047\" xlink:href=\"#DejaVuSans-49\"/>\r\n       <use x=\"127.246094\" xlink:href=\"#DejaVuSans-57\"/>\r\n      </g>\r\n     </g>\r\n    </g>\r\n    <g id=\"ytick_621\">\r\n     <g id=\"line2d_629\">\r\n      <g>\r\n       <use style=\"stroke:#000000;stroke-width:0.8;\" x=\"33.2875\" xlink:href=\"#m2a888fa1a6\" y=\"13.079984\"/>\r\n      </g>\r\n     </g>\r\n     <g id=\"text_629\">\r\n      <!-- 620 -->\r\n      <g transform=\"translate(7.2 16.879203)scale(0.1 -0.1)\">\r\n       <use xlink:href=\"#DejaVuSans-54\"/>\r\n       <use x=\"63.623047\" xlink:href=\"#DejaVuSans-50\"/>\r\n       <use x=\"127.246094\" xlink:href=\"#DejaVuSans-48\"/>\r\n      </g>\r\n     </g>\r\n    </g>\r\n    <g id=\"ytick_622\">\r\n     <g id=\"line2d_630\">\r\n      <g>\r\n       <use style=\"stroke:#000000;stroke-width:0.8;\" x=\"33.2875\" xlink:href=\"#m2a888fa1a6\" y=\"12.73319\"/>\r\n      </g>\r\n     </g>\r\n     <g id=\"text_630\">\r\n      <!-- 621 -->\r\n      <g transform=\"translate(7.2 16.532409)scale(0.1 -0.1)\">\r\n       <use xlink:href=\"#DejaVuSans-54\"/>\r\n       <use x=\"63.623047\" xlink:href=\"#DejaVuSans-50\"/>\r\n       <use x=\"127.246094\" xlink:href=\"#DejaVuSans-49\"/>\r\n      </g>\r\n     </g>\r\n    </g>\r\n    <g id=\"ytick_623\">\r\n     <g id=\"line2d_631\">\r\n      <g>\r\n       <use style=\"stroke:#000000;stroke-width:0.8;\" x=\"33.2875\" xlink:href=\"#m2a888fa1a6\" y=\"12.386396\"/>\r\n      </g>\r\n     </g>\r\n     <g id=\"text_631\">\r\n      <!-- 622 -->\r\n      <g transform=\"translate(7.2 16.185615)scale(0.1 -0.1)\">\r\n       <use xlink:href=\"#DejaVuSans-54\"/>\r\n       <use x=\"63.623047\" xlink:href=\"#DejaVuSans-50\"/>\r\n       <use x=\"127.246094\" xlink:href=\"#DejaVuSans-50\"/>\r\n      </g>\r\n     </g>\r\n    </g>\r\n    <g id=\"ytick_624\">\r\n     <g id=\"line2d_632\">\r\n      <g>\r\n       <use style=\"stroke:#000000;stroke-width:0.8;\" x=\"33.2875\" xlink:href=\"#m2a888fa1a6\" y=\"12.039602\"/>\r\n      </g>\r\n     </g>\r\n     <g id=\"text_632\">\r\n      <!-- 623 -->\r\n      <g transform=\"translate(7.2 15.83882)scale(0.1 -0.1)\">\r\n       <use xlink:href=\"#DejaVuSans-54\"/>\r\n       <use x=\"63.623047\" xlink:href=\"#DejaVuSans-50\"/>\r\n       <use x=\"127.246094\" xlink:href=\"#DejaVuSans-51\"/>\r\n      </g>\r\n     </g>\r\n    </g>\r\n    <g id=\"ytick_625\">\r\n     <g id=\"line2d_633\">\r\n      <g>\r\n       <use style=\"stroke:#000000;stroke-width:0.8;\" x=\"33.2875\" xlink:href=\"#m2a888fa1a6\" y=\"11.692807\"/>\r\n      </g>\r\n     </g>\r\n     <g id=\"text_633\">\r\n      <!-- 624 -->\r\n      <g transform=\"translate(7.2 15.492026)scale(0.1 -0.1)\">\r\n       <use xlink:href=\"#DejaVuSans-54\"/>\r\n       <use x=\"63.623047\" xlink:href=\"#DejaVuSans-50\"/>\r\n       <use x=\"127.246094\" xlink:href=\"#DejaVuSans-52\"/>\r\n      </g>\r\n     </g>\r\n    </g>\r\n    <g id=\"ytick_626\">\r\n     <g id=\"line2d_634\">\r\n      <g>\r\n       <use style=\"stroke:#000000;stroke-width:0.8;\" x=\"33.2875\" xlink:href=\"#m2a888fa1a6\" y=\"11.346013\"/>\r\n      </g>\r\n     </g>\r\n     <g id=\"text_634\">\r\n      <!-- 625 -->\r\n      <g transform=\"translate(7.2 15.145232)scale(0.1 -0.1)\">\r\n       <use xlink:href=\"#DejaVuSans-54\"/>\r\n       <use x=\"63.623047\" xlink:href=\"#DejaVuSans-50\"/>\r\n       <use x=\"127.246094\" xlink:href=\"#DejaVuSans-53\"/>\r\n      </g>\r\n     </g>\r\n    </g>\r\n    <g id=\"ytick_627\">\r\n     <g id=\"line2d_635\">\r\n      <g>\r\n       <use style=\"stroke:#000000;stroke-width:0.8;\" x=\"33.2875\" xlink:href=\"#m2a888fa1a6\" y=\"10.999219\"/>\r\n      </g>\r\n     </g>\r\n     <g id=\"text_635\">\r\n      <!-- 626 -->\r\n      <g transform=\"translate(7.2 14.798437)scale(0.1 -0.1)\">\r\n       <use xlink:href=\"#DejaVuSans-54\"/>\r\n       <use x=\"63.623047\" xlink:href=\"#DejaVuSans-50\"/>\r\n       <use x=\"127.246094\" xlink:href=\"#DejaVuSans-54\"/>\r\n      </g>\r\n     </g>\r\n    </g>\r\n   </g>\r\n   <g id=\"patch_630\">\r\n    <path d=\"M 33.2875 228.265822 \r\nL 33.2875 10.825822 \r\n\" style=\"fill:none;stroke:#000000;stroke-linecap:square;stroke-linejoin:miter;stroke-width:0.8;\"/>\r\n   </g>\r\n   <g id=\"patch_631\">\r\n    <path d=\"M 368.0875 228.265822 \r\nL 368.0875 10.825822 \r\n\" style=\"fill:none;stroke:#000000;stroke-linecap:square;stroke-linejoin:miter;stroke-width:0.8;\"/>\r\n   </g>\r\n   <g id=\"patch_632\">\r\n    <path d=\"M 33.2875 228.265822 \r\nL 368.0875 228.265822 \r\n\" style=\"fill:none;stroke:#000000;stroke-linecap:square;stroke-linejoin:miter;stroke-width:0.8;\"/>\r\n   </g>\r\n   <g id=\"patch_633\">\r\n    <path d=\"M 33.2875 10.825822 \r\nL 368.0875 10.825822 \r\n\" style=\"fill:none;stroke:#000000;stroke-linecap:square;stroke-linejoin:miter;stroke-width:0.8;\"/>\r\n   </g>\r\n  </g>\r\n </g>\r\n <defs>\r\n  <clipPath id=\"p5a8e9111bc\">\r\n   <rect height=\"217.44\" width=\"334.8\" x=\"33.2875\" y=\"10.825822\"/>\r\n  </clipPath>\r\n </defs>\r\n</svg>\r\n",
      "image/png": "[encoded data removed]"
     },
     "metadata": {
      "needs_background": "light"
     }
    }
   ],
   "source": [
    "number_bikes = []\n",
    "for i in range(len(d.data['stations'])):\n",
    "    number_bikes.append(d.data['stations'][i]['num_bikes_available'])\n",
    "\n",
    "pd.Series(number_bikes)[0:len(d.data['stations'])].plot(kind='barh')"
   ]
  },
  {
   "cell_type": "code",
   "execution_count": 12,
   "metadata": {},
   "outputs": [
    {
     "output_type": "display_data",
     "data": {
      "application/vnd.plotly.v1+json": {
       "config": {
        "plotlyServerURL": "https://plot.ly"
       },
       "data": [
        {
         "type": "bar",
         "y": [
          7,
          6,
          11,
          13,
          4,
          16,
          13,
          1,
          8,
          1,
          9,
          5,
          14,
          18,
          8,
          1,
          1,
          1,
          0,
          12,
          15,
          13,
          14,
          13,
          12,
          24,
          1,
          0,
          7,
          14,
          5,
          1,
          0,
          2,
          3,
          8,
          7,
          5,
          8,
          6,
          1,
          11,
          1,
          35,
          6,
          13,
          9,
          15,
          31,
          9,
          19,
          10,
          3,
          0,
          3,
          2,
          13,
          8,
          3,
          9,
          0,
          1,
          1,
          10,
          10,
          11,
          9,
          8,
          30,
          11,
          1,
          8,
          10,
          27,
          15,
          9,
          24,
          0,
          21,
          23,
          7,
          0,
          6,
          16,
          20,
          15,
          3,
          9,
          18,
          31,
          6,
          3,
          17,
          14,
          7,
          1,
          3,
          1,
          5,
          6,
          34,
          7,
          17,
          21,
          17,
          11,
          31,
          16,
          16,
          6,
          21,
          20,
          4,
          6,
          16,
          1,
          11,
          14,
          11,
          22,
          14,
          1,
          2,
          2,
          1,
          4,
          2,
          1,
          19,
          6,
          1,
          2,
          9,
          22,
          25,
          17,
          11,
          7,
          5,
          6,
          2,
          4,
          1,
          0,
          1,
          13,
          6,
          1,
          0,
          6,
          2,
          3,
          0,
          8,
          6,
          3,
          3,
          2,
          0,
          1,
          4,
          5,
          0,
          18,
          1,
          4,
          2,
          3,
          0,
          0,
          9,
          13,
          0,
          1,
          4,
          15,
          17,
          2,
          19,
          20,
          14,
          10,
          14,
          7,
          19,
          14,
          8,
          9,
          4,
          12,
          14,
          6,
          0,
          2,
          4,
          9,
          9,
          4,
          0,
          1,
          20,
          1,
          6,
          5,
          0,
          9,
          5,
          14,
          14,
          2,
          7,
          3,
          5,
          9,
          2,
          7,
          6,
          7,
          1,
          10,
          2,
          1,
          3,
          1,
          17,
          1,
          1,
          0,
          1,
          9,
          6,
          5,
          7,
          0,
          0,
          9,
          4,
          13,
          3,
          0,
          10,
          9,
          10,
          3,
          3,
          3,
          4,
          6,
          1,
          1,
          5,
          5,
          6,
          3,
          3,
          5,
          15,
          19,
          1,
          2,
          5,
          6,
          16,
          5,
          12,
          3,
          9,
          5,
          3,
          0,
          12,
          11,
          0,
          1,
          2,
          6,
          2,
          0,
          2,
          14,
          1,
          0,
          4,
          5,
          6,
          2,
          0,
          6,
          9,
          8,
          3,
          14,
          5,
          6,
          19,
          4,
          2,
          11,
          1,
          5,
          1,
          2,
          9,
          14,
          9,
          9,
          5,
          3,
          7,
          10,
          7,
          11,
          5,
          14,
          12,
          7,
          1,
          3,
          21,
          2,
          14,
          10,
          9,
          3,
          11,
          6,
          12,
          12,
          7,
          9,
          3,
          1,
          9,
          28,
          3,
          6,
          7,
          13,
          5,
          1,
          1,
          19,
          1,
          12,
          7,
          18,
          9,
          8,
          19,
          9,
          6,
          17,
          3,
          21,
          0,
          3,
          7,
          0,
          11,
          0,
          5,
          5,
          2,
          5,
          3,
          6,
          8,
          2,
          14,
          4,
          11,
          15,
          15,
          2,
          14,
          7,
          9,
          1,
          7,
          3,
          19,
          5,
          10,
          2,
          4,
          5,
          20,
          8,
          8,
          18,
          5,
          12,
          4,
          2,
          13,
          7,
          9,
          11,
          0,
          7,
          2,
          1,
          11,
          6,
          9,
          1,
          7,
          2,
          1,
          7,
          4,
          6,
          7,
          6,
          5,
          10,
          16,
          8,
          5,
          6,
          2,
          7,
          6,
          13,
          3,
          12,
          5,
          4,
          12,
          4,
          5,
          3,
          7,
          0,
          7,
          16,
          6,
          12,
          14,
          6,
          5,
          3,
          10,
          8,
          6,
          4,
          9,
          11,
          17,
          6,
          18,
          3,
          2,
          6,
          11,
          2,
          0,
          3,
          10,
          4,
          9,
          8,
          15,
          4,
          2,
          15,
          19,
          2,
          2,
          0,
          4,
          1,
          0,
          14,
          14,
          3,
          1,
          5,
          13,
          1,
          0,
          3,
          0,
          7,
          3,
          11,
          12,
          4,
          8,
          13,
          7,
          8,
          13,
          5,
          6,
          4,
          13,
          5,
          13,
          4,
          14,
          10,
          0,
          0,
          0,
          2,
          18,
          3,
          10,
          2,
          17,
          15,
          8,
          10,
          17,
          17,
          4,
          20,
          11,
          1,
          12,
          10,
          11,
          5,
          4,
          15,
          0,
          9,
          4,
          8,
          5,
          5,
          7,
          8,
          5,
          4,
          13,
          1,
          5,
          4,
          8,
          2,
          9,
          5,
          8,
          5,
          6,
          3,
          8,
          3,
          3,
          2,
          3,
          7,
          3,
          7,
          3,
          3,
          3,
          5,
          2,
          9,
          5,
          4,
          13,
          6,
          5,
          14,
          10,
          0,
          7,
          8,
          17,
          0,
          2,
          14,
          13,
          15,
          3,
          15,
          3,
          5,
          11,
          11,
          2,
          0,
          2,
          1,
          3,
          0,
          2,
          1,
          4,
          12,
          5,
          1,
          6,
          1,
          19,
          0,
          1,
          16,
          5,
          2,
          1,
          11,
          11,
          6,
          12,
          0,
          3,
          11,
          12,
          2,
          9,
          12,
          4,
          15,
          1,
          23,
          0,
          4,
          7,
          3,
          1,
          1,
          3
         ]
        }
       ],
       "layout": {
        "autosize": false,
        "height": 500,
        "margin": {
         "b": 10,
         "l": 10,
         "pad": 4,
         "r": 10,
         "t": 100
        },
        "template": {
         "data": {
          "bar": [
           {
            "error_x": {
             "color": "#2a3f5f"
            },
            "error_y": {
             "color": "#2a3f5f"
            },
            "marker": {
             "line": {
              "color": "#E5ECF6",
              "width": 0.5
             }
            },
            "type": "bar"
           }
          ],
          "barpolar": [
           {
            "marker": {
             "line": {
              "color": "#E5ECF6",
              "width": 0.5
             }
            },
            "type": "barpolar"
           }
          ],
          "carpet": [
           {
            "aaxis": {
             "endlinecolor": "#2a3f5f",
             "gridcolor": "white",
             "linecolor": "white",
             "minorgridcolor": "white",
             "startlinecolor": "#2a3f5f"
            },
            "baxis": {
             "endlinecolor": "#2a3f5f",
             "gridcolor": "white",
             "linecolor": "white",
             "minorgridcolor": "white",
             "startlinecolor": "#2a3f5f"
            },
            "type": "carpet"
           }
          ],
          "choropleth": [
           {
            "colorbar": {
             "outlinewidth": 0,
             "ticks": ""
            },
            "type": "choropleth"
           }
          ],
          "contour": [
           {
            "colorbar": {
             "outlinewidth": 0,
             "ticks": ""
            },
            "colorscale": [
             [
              0,
              "#0d0887"
             ],
             [
              0.1111111111111111,
              "#46039f"
             ],
             [
              0.2222222222222222,
              "#7201a8"
             ],
             [
              0.3333333333333333,
              "#9c179e"
             ],
             [
              0.4444444444444444,
              "#bd3786"
             ],
             [
              0.5555555555555556,
              "#d8576b"
             ],
             [
              0.6666666666666666,
              "#ed7953"
             ],
             [
              0.7777777777777778,
              "#fb9f3a"
             ],
             [
              0.8888888888888888,
              "#fdca26"
             ],
             [
              1,
              "#f0f921"
             ]
            ],
            "type": "contour"
           }
          ],
          "contourcarpet": [
           {
            "colorbar": {
             "outlinewidth": 0,
             "ticks": ""
            },
            "type": "contourcarpet"
           }
          ],
          "heatmap": [
           {
            "colorbar": {
             "outlinewidth": 0,
             "ticks": ""
            },
            "colorscale": [
             [
              0,
              "#0d0887"
             ],
             [
              0.1111111111111111,
              "#46039f"
             ],
             [
              0.2222222222222222,
              "#7201a8"
             ],
             [
              0.3333333333333333,
              "#9c179e"
             ],
             [
              0.4444444444444444,
              "#bd3786"
             ],
             [
              0.5555555555555556,
              "#d8576b"
             ],
             [
              0.6666666666666666,
              "#ed7953"
             ],
             [
              0.7777777777777778,
              "#fb9f3a"
             ],
             [
              0.8888888888888888,
              "#fdca26"
             ],
             [
              1,
              "#f0f921"
             ]
            ],
            "type": "heatmap"
           }
          ],
          "heatmapgl": [
           {
            "colorbar": {
             "outlinewidth": 0,
             "ticks": ""
            },
            "colorscale": [
             [
              0,
              "#0d0887"
             ],
             [
              0.1111111111111111,
              "#46039f"
             ],
             [
              0.2222222222222222,
              "#7201a8"
             ],
             [
              0.3333333333333333,
              "#9c179e"
             ],
             [
              0.4444444444444444,
              "#bd3786"
             ],
             [
              0.5555555555555556,
              "#d8576b"
             ],
             [
              0.6666666666666666,
              "#ed7953"
             ],
             [
              0.7777777777777778,
              "#fb9f3a"
             ],
             [
              0.8888888888888888,
              "#fdca26"
             ],
             [
              1,
              "#f0f921"
             ]
            ],
            "type": "heatmapgl"
           }
          ],
          "histogram": [
           {
            "marker": {
             "colorbar": {
              "outlinewidth": 0,
              "ticks": ""
             }
            },
            "type": "histogram"
           }
          ],
          "histogram2d": [
           {
            "colorbar": {
             "outlinewidth": 0,
             "ticks": ""
            },
            "colorscale": [
             [
              0,
              "#0d0887"
             ],
             [
              0.1111111111111111,
              "#46039f"
             ],
             [
              0.2222222222222222,
              "#7201a8"
             ],
             [
              0.3333333333333333,
              "#9c179e"
             ],
             [
              0.4444444444444444,
              "#bd3786"
             ],
             [
              0.5555555555555556,
              "#d8576b"
             ],
             [
              0.6666666666666666,
              "#ed7953"
             ],
             [
              0.7777777777777778,
              "#fb9f3a"
             ],
             [
              0.8888888888888888,
              "#fdca26"
             ],
             [
              1,
              "#f0f921"
             ]
            ],
            "type": "histogram2d"
           }
          ],
          "histogram2dcontour": [
           {
            "colorbar": {
             "outlinewidth": 0,
             "ticks": ""
            },
            "colorscale": [
             [
              0,
              "#0d0887"
             ],
             [
              0.1111111111111111,
              "#46039f"
             ],
             [
              0.2222222222222222,
              "#7201a8"
             ],
             [
              0.3333333333333333,
              "#9c179e"
             ],
             [
              0.4444444444444444,
              "#bd3786"
             ],
             [
              0.5555555555555556,
              "#d8576b"
             ],
             [
              0.6666666666666666,
              "#ed7953"
             ],
             [
              0.7777777777777778,
              "#fb9f3a"
             ],
             [
              0.8888888888888888,
              "#fdca26"
             ],
             [
              1,
              "#f0f921"
             ]
            ],
            "type": "histogram2dcontour"
           }
          ],
          "mesh3d": [
           {
            "colorbar": {
             "outlinewidth": 0,
             "ticks": ""
            },
            "type": "mesh3d"
           }
          ],
          "parcoords": [
           {
            "line": {
             "colorbar": {
              "outlinewidth": 0,
              "ticks": ""
             }
            },
            "type": "parcoords"
           }
          ],
          "pie": [
           {
            "automargin": true,
            "type": "pie"
           }
          ],
          "scatter": [
           {
            "marker": {
             "colorbar": {
              "outlinewidth": 0,
              "ticks": ""
             }
            },
            "type": "scatter"
           }
          ],
          "scatter3d": [
           {
            "line": {
             "colorbar": {
              "outlinewidth": 0,
              "ticks": ""
             }
            },
            "marker": {
             "colorbar": {
              "outlinewidth": 0,
              "ticks": ""
             }
            },
            "type": "scatter3d"
           }
          ],
          "scattercarpet": [
           {
            "marker": {
             "colorbar": {
              "outlinewidth": 0,
              "ticks": ""
             }
            },
            "type": "scattercarpet"
           }
          ],
          "scattergeo": [
           {
            "marker": {
             "colorbar": {
              "outlinewidth": 0,
              "ticks": ""
             }
            },
            "type": "scattergeo"
           }
          ],
          "scattergl": [
           {
            "marker": {
             "colorbar": {
              "outlinewidth": 0,
              "ticks": ""
             }
            },
            "type": "scattergl"
           }
          ],
          "scattermapbox": [
           {
            "marker": {
             "colorbar": {
              "outlinewidth": 0,
              "ticks": ""
             }
            },
            "type": "scattermapbox"
           }
          ],
          "scatterpolar": [
           {
            "marker": {
             "colorbar": {
              "outlinewidth": 0,
              "ticks": ""
             }
            },
            "type": "scatterpolar"
           }
          ],
          "scatterpolargl": [
           {
            "marker": {
             "colorbar": {
              "outlinewidth": 0,
              "ticks": ""
             }
            },
            "type": "scatterpolargl"
           }
          ],
          "scatterternary": [
           {
            "marker": {
             "colorbar": {
              "outlinewidth": 0,
              "ticks": ""
             }
            },
            "type": "scatterternary"
           }
          ],
          "surface": [
           {
            "colorbar": {
             "outlinewidth": 0,
             "ticks": ""
            },
            "colorscale": [
             [
              0,
              "#0d0887"
             ],
             [
              0.1111111111111111,
              "#46039f"
             ],
             [
              0.2222222222222222,
              "#7201a8"
             ],
             [
              0.3333333333333333,
              "#9c179e"
             ],
             [
              0.4444444444444444,
              "#bd3786"
             ],
             [
              0.5555555555555556,
              "#d8576b"
             ],
             [
              0.6666666666666666,
              "#ed7953"
             ],
             [
              0.7777777777777778,
              "#fb9f3a"
             ],
             [
              0.8888888888888888,
              "#fdca26"
             ],
             [
              1,
              "#f0f921"
             ]
            ],
            "type": "surface"
           }
          ],
          "table": [
           {
            "cells": {
             "fill": {
              "color": "#EBF0F8"
             },
             "line": {
              "color": "white"
             }
            },
            "header": {
             "fill": {
              "color": "#C8D4E3"
             },
             "line": {
              "color": "white"
             }
            },
            "type": "table"
           }
          ]
         },
         "layout": {
          "annotationdefaults": {
           "arrowcolor": "#2a3f5f",
           "arrowhead": 0,
           "arrowwidth": 1
          },
          "autotypenumbers": "strict",
          "coloraxis": {
           "colorbar": {
            "outlinewidth": 0,
            "ticks": ""
           }
          },
          "colorscale": {
           "diverging": [
            [
             0,
             "#8e0152"
            ],
            [
             0.1,
             "#c51b7d"
            ],
            [
             0.2,
             "#de77ae"
            ],
            [
             0.3,
             "#f1b6da"
            ],
            [
             0.4,
             "#fde0ef"
            ],
            [
             0.5,
             "#f7f7f7"
            ],
            [
             0.6,
             "#e6f5d0"
            ],
            [
             0.7,
             "#b8e186"
            ],
            [
             0.8,
             "#7fbc41"
            ],
            [
             0.9,
             "#4d9221"
            ],
            [
             1,
             "#276419"
            ]
           ],
           "sequential": [
            [
             0,
             "#0d0887"
            ],
            [
             0.1111111111111111,
             "#46039f"
            ],
            [
             0.2222222222222222,
             "#7201a8"
            ],
            [
             0.3333333333333333,
             "#9c179e"
            ],
            [
             0.4444444444444444,
             "#bd3786"
            ],
            [
             0.5555555555555556,
             "#d8576b"
            ],
            [
             0.6666666666666666,
             "#ed7953"
            ],
            [
             0.7777777777777778,
             "#fb9f3a"
            ],
            [
             0.8888888888888888,
             "#fdca26"
            ],
            [
             1,
             "#f0f921"
            ]
           ],
           "sequentialminus": [
            [
             0,
             "#0d0887"
            ],
            [
             0.1111111111111111,
             "#46039f"
            ],
            [
             0.2222222222222222,
             "#7201a8"
            ],
            [
             0.3333333333333333,
             "#9c179e"
            ],
            [
             0.4444444444444444,
             "#bd3786"
            ],
            [
             0.5555555555555556,
             "#d8576b"
            ],
            [
             0.6666666666666666,
             "#ed7953"
            ],
            [
             0.7777777777777778,
             "#fb9f3a"
            ],
            [
             0.8888888888888888,
             "#fdca26"
            ],
            [
             1,
             "#f0f921"
            ]
           ]
          },
          "colorway": [
           "#636efa",
           "#EF553B",
           "#00cc96",
           "#ab63fa",
           "#FFA15A",
           "#19d3f3",
           "#FF6692",
           "#B6E880",
           "#FF97FF",
           "#FECB52"
          ],
          "font": {
           "color": "#2a3f5f"
          },
          "geo": {
           "bgcolor": "white",
           "lakecolor": "white",
           "landcolor": "#E5ECF6",
           "showlakes": true,
           "showland": true,
           "subunitcolor": "white"
          },
          "hoverlabel": {
           "align": "left"
          },
          "hovermode": "closest",
          "mapbox": {
           "style": "light"
          },
          "paper_bgcolor": "white",
          "plot_bgcolor": "#E5ECF6",
          "polar": {
           "angularaxis": {
            "gridcolor": "white",
            "linecolor": "white",
            "ticks": ""
           },
           "bgcolor": "#E5ECF6",
           "radialaxis": {
            "gridcolor": "white",
            "linecolor": "white",
            "ticks": ""
           }
          },
          "scene": {
           "xaxis": {
            "backgroundcolor": "#E5ECF6",
            "gridcolor": "white",
            "gridwidth": 2,
            "linecolor": "white",
            "showbackground": true,
            "ticks": "",
            "zerolinecolor": "white"
           },
           "yaxis": {
            "backgroundcolor": "#E5ECF6",
            "gridcolor": "white",
            "gridwidth": 2,
            "linecolor": "white",
            "showbackground": true,
            "ticks": "",
            "zerolinecolor": "white"
           },
           "zaxis": {
            "backgroundcolor": "#E5ECF6",
            "gridcolor": "white",
            "gridwidth": 2,
            "linecolor": "white",
            "showbackground": true,
            "ticks": "",
            "zerolinecolor": "white"
           }
          },
          "shapedefaults": {
           "line": {
            "color": "#2a3f5f"
           }
          },
          "ternary": {
           "aaxis": {
            "gridcolor": "white",
            "linecolor": "white",
            "ticks": ""
           },
           "baxis": {
            "gridcolor": "white",
            "linecolor": "white",
            "ticks": ""
           },
           "bgcolor": "#E5ECF6",
           "caxis": {
            "gridcolor": "white",
            "linecolor": "white",
            "ticks": ""
           }
          },
          "title": {
           "x": 0.05
          },
          "xaxis": {
           "automargin": true,
           "gridcolor": "white",
           "linecolor": "white",
           "ticks": "",
           "title": {
            "standoff": 15
           },
           "zerolinecolor": "white",
           "zerolinewidth": 2
          },
          "yaxis": {
           "automargin": true,
           "gridcolor": "white",
           "linecolor": "white",
           "ticks": "",
           "title": {
            "standoff": 15
           },
           "zerolinecolor": "white",
           "zerolinewidth": 2
          }
         }
        },
        "title": {
         "text": "Number of Currently Available Bikes in All Different Stations"
        },
        "width": 1500
       }
      }
     },
     "metadata": {}
    }
   ],
   "source": [
    "fig = go.Figure(\n",
    "    data=[go.Bar(y=number_bikes)],\n",
    "    layout_title_text=\"Number of Currently Available Bikes in All Different Stations\"\n",
    ")\n",
    "fig.update_layout(\n",
    "    autosize=False,\n",
    "    width=1500,\n",
    "    height=500,\n",
    "    margin=dict(\n",
    "        l=10,\n",
    "        r=10,\n",
    "        b=10,\n",
    "        t=100,\n",
    "        pad=4\n",
    "    )#,\n",
    "#    paper_bgcolor=\"LightSteelBlue\",\n",
    ")\n",
    "fig.show()"
   ]
  },
  {
   "cell_type": "code",
   "execution_count": 13,
   "metadata": {},
   "outputs": [
    {
     "output_type": "execute_result",
     "data": {
      "text/plain": [
       "{'electric_bike_surcharge_waiver': False,\n",
       " 'rental_methods': ['KEY', 'CREDITCARD'],\n",
       " 'eightd_has_key_dispenser': False,\n",
       " 'legacy_id': '1',\n",
       " 'rental_uris': {'android': 'https://dc.lft.to/lastmile_qr_scan',\n",
       "  'ios': 'https://dc.lft.to/lastmile_qr_scan'},\n",
       " 'name': 'Eads St & 15th St S',\n",
       " 'station_id': '1',\n",
       " 'external_id': '082469cc-1f3f-11e7-bf6b-3863bb334450',\n",
       " 'short_name': '31000',\n",
       " 'lat': 38.858971,\n",
       " 'region_id': '41',\n",
       " 'station_type': 'classic',\n",
       " 'eightd_station_services': [],\n",
       " 'capacity': 15,\n",
       " 'has_kiosk': True,\n",
       " 'lon': -77.05323}"
      ]
     },
     "metadata": {},
     "execution_count": 13
    }
   ],
   "source": [
    "d_station_information.data[0][0]"
   ]
  },
  {
   "cell_type": "code",
   "execution_count": 14,
   "metadata": {},
   "outputs": [],
   "source": [
    "# Building map for all bike stations\n",
    "\n",
    "all_stations = []\n",
    "station_id = []\n",
    "lat = []\n",
    "lon = []\n",
    "\n",
    "for i in range(len(d_station_information.data[0])):\n",
    "    all_stations.append(d_station_information.data[0][i]['name'])\n",
    "    station_id.append(d_station_information.data[0][i]['station_id'])\n",
    "    lat.append(d_station_information.data[0][i]['lat'])\n",
    "    lon.append(d_station_information.data[0][i]['lon'])\n",
    "\n",
    "all_stations = pd.DataFrame(all_stations)\n",
    "station_id = pd.DataFrame(station_id)\n",
    "lat = pd.DataFrame(lat)\n",
    "lon = pd.DataFrame(lon)\n",
    "all_stations['station_id'] = station_id\n",
    "all_stations['lat'] = lat\n",
    "all_stations['lon'] = lon\n",
    "all_stations.columns = ['street', 'station_id', 'lat', 'lon']"
   ]
  },
  {
   "cell_type": "code",
   "execution_count": 15,
   "metadata": {},
   "outputs": [
    {
     "output_type": "display_data",
     "data": {
      "application/vnd.plotly.v1+json": {
       "config": {
        "plotlyServerURL": "https://plot.ly"
       },
       "data": [
        {
         "hovertemplate": "<b>%{hovertext}</b><br><br>lat=%{lat}<br>lon=%{lon}<extra></extra>",
         "hovertext": [
          "Eads St & 15th St S",
          "18th St & S Eads St",
          "Crystal Dr & 20th St S",
          "Crystal Dr & 15th St S",
          "Aurora Hills Cmty Ctr / 18th St & S Hayes St",
          "Pentagon City Metro / 12th St & S Hayes St",
          "Army Navy Dr & S Joyce St",
          "Crystal City Metro / 18th St & S Bell St",
          "Crystal Dr & 27th St S",
          "S Glebe Rd & Potomac Ave",
          "Crystal Dr & 23rd St S",
          "Clark St & 26th St S",
          "19th St & Pennsylvania Ave NW",
          "14th & V St NW",
          "11th & Kenyon St NW",
          "15th & Harvard St NW",
          "Adams Mill & Columbia Rd NW",
          "14th & Harvard St NW",
          "Calvert & Biltmore St NW",
          "Lamont & Mt Pleasant NW",
          "4th & M St SW",
          "15th & P St NW",
          "14th & R St NW",
          "14th & Rhode Island Ave NW",
          "20th & E St NW",
          "21st & I St NW",
          "Georgia & New Hampshire Ave NW",
          "14th St & Spring Rd NW",
          "John McCormack Dr & Michigan Ave NE",
          "5th & K St NW",
          "19th & East Capitol St SE",
          "Park Rd & Holmead Pl NW",
          "Good Hope & Naylor Rd SE",
          "Connecticut Ave & Newark St NW / Cleveland Park",
          "Randle Circle & Minnesota Ave SE",
          "Minnesota Ave Metro/DOES",
          "Nannie Helen Burroughs & Minnesota Ave NE",
          "Anacostia Metro",
          "Good Hope Rd & MLK Ave SE",
          "19th & E Street NW",
          "4th & W St NE",
          "10th & U St NW",
          "Georgia Ave and Fairmont St NW",
          "1st & N St  SE",
          "20th St & Florida Ave NW",
          "7th & T St NW",
          "Eads St & 22nd St S",
          "M St & New Jersey Ave SE",
          "Massachusetts Ave & Dupont Circle NW",
          "1st & M St NE",
          "New Hampshire Ave & Ward Pl NW",
          "17th & K St NW",
          "3rd & H St NW",
          "3rd & D St SE",
          "Potomac & Pennsylvania Ave SE",
          "13th & E St SE",
          "17th & Corcoran St NW",
          "Van Ness Metro / UDC",
          "Florida Ave & R St NW",
          "8th & Eye St SE / Barracks Row",
          "Ward Circle / American University",
          "Wisconsin Ave & Newark St NW",
          "14th St Heights / 14th & Crittenden St NW",
          "Anacostia Library",
          "Pennsylvania & Minnesota Ave SE",
          "Eastern Market / 7th & North Carolina Ave SE",
          "14th St & New York Ave NW",
          "Benning Branch Library",
          "USDA / 12th & C St SW",
          "Georgetown Harbor / 30th St NW",
          "12th & Newton St NE",
          "US Dept of State / Virginia Ave & 21st St NW",
          "L'Enfant Plaza / 7th & C St SW",
          "10th St & Constitution Ave NW",
          "Kennedy Center",
          "Eastern Market Metro / Pennsylvania Ave & 8th St SE",
          "18th & M St NW",
          "Tenleytown / Wisconsin Ave & Albemarle St NW",
          "13th & H St NE",
          "5th & F St NW",
          "New York Ave & 15th St NW",
          "Convention Center / 7th & M St NW",
          "Harvard St & Adams Mill Rd NW",
          "18th & L St NW",
          "C & O Canal & Wisconsin Ave NW",
          "Maine Ave & 7th St SW",
          "D St & Maryland Ave NE",
          "34th St & Wisconsin Ave NW",
          "13th St & New York Ave NW",
          "8th & H St NW",
          "10th & Monroe St NE",
          "Eckington Pl & Q St NE",
          "6th & H St NE",
          "3rd & H St NE",
          "Bladensburg Rd & Benning Rd NE",
          "4th & East Capitol St NE",
          "Lincoln Park / 13th & East Capitol St NE ",
          "Branch & Pennsylvania Ave SE",
          "13th & D St NE",
          "New Hampshire Ave & T St NW",
          "Metro Center / 12th & G St NW",
          "14th & D St NW / Ronald Reagan Building",
          "7th & F St NW / National Portrait Gallery",
          "17th & K St NW / Farragut Square",
          "20th & O St NW / Dupont South",
          "4th & D St NW / Judiciary Square",
          "19th St & Constitution Ave NW",
          "37th & O St NW / Georgetown University",
          "11th & H St NE",
          "25th St & Pennsylvania Ave NW",
          "Columbus Circle / Union Station",
          "North Capitol St & F St NW",
          "11th & M St NW",
          "36th & Calvert St NW / Glover Park",
          "14th & G St NW",
          "Potomac Ave & 35th St S",
          "Ohio Dr & West Basin Dr SW / MLK & FDR Memorials",
          "11th & F St NW",
          "23rd & E St NW ",
          "Lynn St & 19th St North",
          "Rosslyn Metro / Wilson Blvd & Ft Myer Dr",
          "Clarendon Blvd & Pierce St",
          "Wilson Blvd & N Uhle St",
          "Rhodes St & 16th St N",
          "Fairfax Village",
          "21st St & Constitution Ave NW",
          "Wilson Blvd & N Edgewood St",
          "Columbia Rd & Belmont St NW",
          "Rhode Island & Connecticut Ave NW",
          "Thomas Circle",
          "Wilson Blvd & N Franklin Rd",
          "Clarendon Blvd & N Fillmore St",
          "Clarendon Metro / Wilson Blvd & N Highland St",
          "18th St & Pennsylvania Ave NW",
          "4th & C St SW",
          "4th & E St SW",
          "3rd & G St SE",
          "7th & R St NW / Shaw Library",
          "9th & Upshur St NW",
          "1st & Rhode Island Ave NW",
          "Columbia Rd & Georgia Ave NW",
          "California St & Florida Ave NW",
          "Benning Rd & East Capitol St NE / Benning Rd Metro",
          "3000 Connecticut Ave NW / National Zoo",
          "Anacostia Ave & Benning Rd NE / River Terrace ",
          "M St & Pennsylvania Ave NW",
          "15th St & Massachusetts Ave SE",
          "Congress Heights Metro",
          "N Quincy St & Glebe Rd",
          "Barcroft Community Center",
          "N Veitch St & 20th St N",
          "10th & K St NW",
          "Fairfax Dr & Wilson Blvd",
          "Wilson Blvd & N Quinn St",
          "1st & K St SE",
          "39th & Calvert St NW / Stoddert",
          "1st & Washington Hospital Center NW",
          "Virginia Square Metro / Monroe St & 9th St N",
          "Central Library / Quincy St & 10th St N",
          "Washington Blvd & 10th St N",
          "Jefferson Dr & 14th St SW",
          "Smithsonian-National Mall / Jefferson Dr & 12th St SW",
          "George Mason Dr & Wilson Blvd",
          "6th St & Indiana Ave NW",
          "N Veitch St & Key Blvd",
          "Lee Hwy & N Adams St",
          "15th St & N Scott St",
          "Washington Blvd & 7th St N",
          "Ballston Metro / Stuart St & 9th St N",
          "Fairfax Dr & N Randolph St",
          "Jefferson Memorial",
          "Good Hope Rd & 14th St SE",
          "Glebe Rd & 11th St N",
          "Wilson Blvd & N Quincy St",
          "GMU / Fairfax Dr & Kenmore St",
          "Gallaudet / 8th St & Florida Ave NE",
          "20th & L St NW",
          "12th & L St NW",
          "21st St & Pennsylvania Ave NW",
          "19th & K St NW",
          "Prince St & Union St",
          "Market Square / King St & Royal St",
          "St Asaph & Pendleton St",
          "King St & Patrick St",
          "15th & K St NW",
          "Commerce St & Fayette St",
          "Henry St & Pendleton St",
          "Braddock Rd Metro",
          "King St Metro South",
          "24th & N St NW",
          "10th & E St NW",
          "22nd & I St NW / Foggy Bottom",
          "Utah St & 11th St N",
          "Barton St & 10th St N",
          "Arlington Blvd & N Queen St",
          "Lincoln Memorial",
          "20th St & Virginia Ave NW",
          "5th St & Massachusetts Ave NW",
          "39th & Veazey St NW",
          "Fessenden St & Wisconsin Ave NW",
          "3rd & M St NE",
          "Columbia Pike & S Courthouse Rd",
          "Wakefield High School",
          "28th St & S Meade St",
          "18th St & Wyoming Ave NW",
          "5th & Kennedy St NW",
          "Georgia Ave & Emerson St NW",
          "14th & Upshur St NW",
          "14th St & Colorado Ave NW",
          "Troy St & 26th St S",
          "Four Mile Run Dr & S Shirlington Rd",
          "Columbia Pike & S Oakland St",
          "Four Mile Run Dr & S Walter Reed Dr",
          "S Arlington Mill Dr & Campbell Ave",
          "Kenmore St & 24th St S",
          "13th St & Eastern Ave",
          "Wisconsin Ave & O St NW",
          "Roosevelt Island",
          "Connecticut & Nebraska Ave NW",
          "17th St & Massachusetts Ave NW",
          "15th & Euclid St  NW",
          "8th & East Capitol St NE",
          "New Jersey Ave & R St NW",
          "15th & East Capitol St NE",
          "8th & F St NE",
          "18th St & Rhode Island Ave NE",
          "15th & F St NE",
          "12th & Irving St NE",
          "Alabama & MLK Ave SE",
          "Pleasant St & MLK Ave SE",
          "Neal St & Trinidad Ave NE",
          "12th & U St NW",
          "S George Mason & Four Mile Run Dr",
          "Gravelly Point",
          "Pershing Dr & Wayne St",
          "Columbia Pike & S Orme St",
          "3rd St & Pennsylvania Ave SE",
          "8th & D St NW",
          "3rd & Elm St NW",
          "Rhode Island Ave & V St NE",
          "Constitution Ave & 2nd St NW/DOL",
          "Washington & Independence Ave SW/HHS",
          "Independence Ave & L'Enfant Plaza SW/DOE",
          "Hamlin & 7th St NE",
          "Columbia Pike & S Walter Reed Dr",
          "Arlington Mill Cmty Center / Columbia Pike & S Dinwiddie St",
          "Pershing Dr & N George Mason Dr",
          "Fenton St & New York Ave ",
          "Bethesda Ave & Arlington Rd",
          "Montgomery Ave & Waverly St ",
          "Fallsgrove Blvd & Fallsgrove Dr",
          "Traville Gateway Dr & Gudelsky Dr",
          "Norfolk Ave & Fairmont St",
          "E Montgomery Ave & Maryland Ave",
          "Cordell & Norfolk Ave",
          "Frederick Ave & Horners Ln",
          "Philadelphia & Maple Ave",
          "Maple & Ritchie Ave",
          "Silver Spring Metro / Colesville Rd & Wayne Ave",
          "Montgomery & East Ln",
          "Friendship Hts Metro / Wisconsin Ave & Wisconsin Cir",
          "14th & Belmont St NW",
          "3rd & Tingey St SE",
          "10th & Florida Ave NW",
          "Potomac Ave & 8th St SE",
          "Fallsgrove Dr & W Montgomery Ave",
          "Monroe St & Monroe Pl",
          "Needwood Rd & Eagles Head Ct",
          "East West Hwy & Blair Mill Rd",
          "47th & Elm St",
          "Dennis Ave & Amherst Ave",
          "Montgomery College / W Campus Dr & Mannakee St",
          "Fenton St & Gist Ave",
          "Carroll & Westmoreland Ave",
          "Carroll & Ethan Allen Ave",
          "Battery Ln & Trolley Trail",
          "Norfolk & Rugby Ave",
          "Offutt Ln & Chevy Chase Dr",
          "Fleet St & Ritchie Pkwy",
          "Piccard & W Gude Dr",
          "Silver Spring Transit Center - Top Level",
          "Georgia Ave & Spring St",
          "Fenton St & Ellsworth Dr ",
          "King Farm Blvd & Pleasant Dr",
          "King Farm Blvd & Piccard Dr",
          "Calvert St & Woodley Pl NW",
          "New Jersey Ave & N St NW/Dunbar HS",
          "Nannie Helen Burroughs Ave & 49th St NE",
          "Deanwood Rec Center",
          "Hains Point/Buckeye & Ohio Dr SW",
          "Arlington Blvd & Fillmore St",
          "Eads St & 12th St S",
          "Old Georgetown Rd & Southwick St",
          "Friendship Blvd & Willard Ave",
          "North Capitol St & G Pl NE",
          "31st St & S Woodrow St",
          "Washington Blvd & Walter Reed Dr ",
          "TJ Cmty Ctr / 2nd St & S Old Glebe Rd",
          "Connecticut Ave & Tilden St NW",
          "Medical Center Dr & Key West Ave",
          "Shady Grove Hospital",
          "Veterans Pl & Pershing Dr ",
          "Rockville Metro East",
          "1st & H St NW",
          "Fort Totten Metro",
          "Takoma Metro",
          "Rhode Island Ave Metro",
          "Rolfe St & 9th St S",
          "Shirlington Transit Center / Quincy St & Randolph St",
          "Shady Grove Metro West",
          "River Rd & Landy Ln",
          "Rockville Metro West",
          "Bethesda Metro / Wisconsin Ave & Old Georgetown Rd",
          "Iwo Jima Memorial / Meade & 14th St N",
          "34th & Water St NW",
          "Duke St & John Carlyle St",
          "Lee Hwy & N Cleveland St",
          "Arlington Blvd & S George Mason Dr",
          "10th & G St NW",
          "Lee Hwy & N Scott St",
          "New Hampshire Ave & 24th St NW",
          "Eisenhower Ave & Mill Race Ln",
          "Potomac Greens Dr & Slaters Ln",
          "Ballenger Ave & Dulaney St",
          "Mount Vernon Ave & E Nelson Ave",
          "Mount Vernon Ave & E Del Ray Ave",
          "Monroe Ave & Leslie Ave",
          "Mount Vernon Ave & Kennedy St",
          "Court House Metro / 15th St & N Uhle St",
          "WAU / Flower Ave & Division St",
          "Long Bridge Park / Long Bridge Dr & 6th St S",
          "Connecticut Ave & McKinley St NW",
          "15th & L St NW",
          "17th & G St NW",
          "Spring St & 2nd Ave",
          "18th & R St NW",
          "Joyce St & 16th St S",
          "Union Market",
          "Lee Hwy & N Monroe St",
          "21st St & N Pierce St",
          "Lee Hwy & N Kirkwood Rd",
          "19th & G St NW",
          "2nd St & Seaton Pl NE",
          "Wilson Blvd & N Illinois St ",
          "Army Navy Dr & S Nash St",
          "31st & Water St NW",
          "11th & S St NW",
          "Walter Reed Dr & 8th St S",
          "2nd & G St NE",
          "8th & O St NW",
          "Georgia & Missouri Ave NW",
          "Oklahoma Ave & D St NE",
          "Maryland Ave & E St NE",
          "New York Ave & Hecht Ave NE",
          "Yuma St & Tenley Circle NW",
          "Connecticut Ave & Chevy Chase Lake Dr",
          "Key West Ave & Siesta Key Way",
          "Lee Hwy & N Woodstock St",
          "Saint Asaph St & Madison St",
          "King St Metro North / Cameron St",
          "Madison St & N Henry St",
          "Medical Center Metro ",
          "Washington Blvd & N Frederick St",
          "Wisconsin Ave & Ingomar St NW",
          "16th & Irving St NW",
          "16th & R St NW",
          "Lyttonsville Rd & Lyttonsville Pl",
          "Woodmont Ave & Strathmore St",
          "14th & L St NW",
          "1st & O St NW",
          "South Capitol & Atlantic St SW",
          "18th & C St NW",
          "22nd & P ST NW",
          "East West Hwy & 16th St",
          "Royal St & Wilkes St",
          "14th & Girard St NW",
          "Potomac Ave & Main Line Blvd",
          "11th & O St NW",
          "10th St & L'Enfant Plaza SW",
          "Connecticut Ave & Yuma St NW",
          "2nd St & Massachusetts Ave NE",
          "Radford St & Osage St",
          "East Falls Church Metro / Sycamore St & 19th St N",
          "Kennebec St & 11th St N",
          "Commonwealth Ave & Oak St",
          "Commonwealth Ave & E Monroe Ave",
          "4th St & Madison Dr NW",
          "Henry Bacon Dr & Lincoln Memorial Circle NW",
          "17th St & Independence Ave SW",
          "Franklin St & S Washington St",
          "Mount Vernon Ave & Four Mile Run Park",
          "4th St & K St NW",
          "Mount Vernon Ave & Bruce St",
          "Lee Center",
          "Powhatan St & Bashford Ln",
          "Potomac Ave & Swann Ave",
          "14th & Irving St NW",
          "Vermont Ave & I St NW",
          "Wisconsin Ave & Brandywine St NW",
          "24th & R St NE / National Arboretum",
          "Division Ave & Foote St NE",
          "16th & Q St SE / Anacostia HS",
          "Spring Hill Metro",
          "Westpark Dr & Leesburg Pike",
          "Tysons One Pl & Chain Bridge Rd",
          "Tysons Corner Station",
          "Westpark & Jones Branch Dr",
          "Jones Branch & Westbranch Dr",
          "Westpark & Park Run Dr",
          "Tysons West Transit Center",
          "North Shore & Cameron Crescent Dr/Crescent Apartments",
          "Town Center Pkwy & Bowman Towne Dr",
          "Reston Regional Library",
          "New Dominion Pkwy & Fountain Dr",
          "Sunset Hills & Old Reston Ave",
          "Reston Town Center Transit Station",
          "1st & D St SE",
          "Wiehle Ave & Reston Station Blvd",
          "Library St & Freedom Dr",
          "Sunset Hills Rd & Discovery Square",
          "22nd St & Constitution Ave NW",
          "61st St & Banks Pl NE",
          "Temporary Rd & Old Reston Ave",
          "Reston YMCA",
          "Sunset Hills Rd & Isaac Newton Square",
          "N Lynn St & Fairfax Dr",
          "Georgia Ave & Piney Branch Rd NW",
          "Greensboro & International Dr",
          "Madison St & Fairfax St",
          "Sligo Ave & Carroll Ln",
          "15th & W St NW",
          "12th St & Pennsylvania Ave SE",
          "3rd St & Riggs Rd NE",
          "Carlin Springs Rd & N Thomas St",
          "Towers Crescent Dr & Tysons One Pl",
          "6th & K St NE",
          "Pooks Hill Rd & Linden Ave",
          "Takoma Park Rec Center",
          "New Hampshire & Kirklynn Ave",
          "Wheaton Metro / Georgia Ave & Reedie Dr",
          "Amherst Ave & Elkins St",
          "Amherst Ave & Prichard Rd",
          "Grandview & Blueridge Ave",
          "Windham Ln & Amherst Ave",
          "North Shore Dr & Village Rd",
          "Town Center Pkwy & Sunset Hills Rd",
          "3rd & Underwood St NW",
          "18th & Monroe St NE",
          "7th & E St SW",
          "Shady Grove Metro East",
          "Potomac & M St NW",
          "Columbia & Ontario Rd NW",
          "Washington-Liberty High School / N Stafford St & Generals Way",
          "Westover Library / Washington Blvd & N McKinley Rd",
          "Columbia Pike & S Taylor St",
          "Columbus Ave & Tribeca St",
          "Columbus Ave & Gramercy Blvd",
          "Reston Pkwy & Spectrum Dr",
          "Key West Ave & Great Seneca Hwy",
          "Virginia Ave & 25th St NW",
          "15th & M St NW",
          "11th & Girard St NW",
          "Connecticut Ave & R St NW",
          "Wilson Blvd & N Troy St",
          "American University East Campus",
          "15th St & Constitution Ave NW",
          "23rd & M St NW",
          "Corporate Blvd & Omega Dr",
          "Key West Ave & Diamondback Dr",
          "Alabama Ave & Stanton Rd SE / Shops at Park Village",
          "Mississippi Ave & 19th St SE / THEARC",
          "19th & Savannah St SE",
          "4th St & Mississippi Ave SE",
          "1st & S Capitol St SE / Oxon Run Trail",
          "Livingston Rd & 3rd St SE",
          "Joliet St & MLK Ave SW/Bald Eagle Rec Ctr",
          "37th & Ely Pl SE",
          "15th St & Pennsylvania Ave NW",
          "Maine Ave & 9th St SW",
          "Lincoln Rd & Seaton Pl NE/Harry Thomas Rec Center",
          "Blueridge Ave & Elkin St",
          "Georgia Ave & Kennedy St NW",
          "7th St & Massachusetts Ave NE",
          "Anacostia Park",
          "Twinbrook Metro",
          "White Flint Metro",
          "Citadel Ave & McGrath Blvd",
          "Rockville Pike & Old Georgetown Rd",
          "Woodglen Dr & Executive Blvd",
          "Executive Blvd & E Jefferson St",
          "Fishers Ln & Rock Creek Mill Rd",
          "Congressional Ln & E Jefferson St",
          "Garland Ave & Walden Rd",
          "Greensboro & Pinnacle Dr",
          "1301 McCormick Dr / Wayne K. Curry Admin Bldg",
          "Largo Town Center Metro",
          "Baltimore Ave & Van Buren St / Riverdale Park Station",
          "Baltimore Ave & Jefferson St",
          "Perry & 35th St",
          "Rockville Pike & Meeting St",
          "Potomac Ave & Half St SW",
          "Largo Rd & Campus Way / Prince Georges's Comm Col",
          "Stanton Square SE",
          "14th & Newton St NW",
          "48th Pl & MacArthur Blvd NW",
          "14th & Luzon St NW",
          "1st & M St SE",
          "Fleet St & Waterfront St",
          "Oxon Hill Park & Ride",
          "11th & Park Rd NW",
          "4th & M St SE",
          "Kansas Ave & Sherman Cr NW",
          "Campus Commons",
          "Park Run & Onyx Dr",
          "7th & K St NW",
          "King Greenleaf Rec Center",
          "Montello Ave & Holbrook Terr NE",
          "New Jersey Ave & F St NW",
          "Maryland Ave & 17th St NE",
          "Massachusetts Ave & 6th St NE",
          "Woodley Park Metro / Calvert St & Connecticut Ave NW",
          "McLean Metro",
          "Trinidad Rec Center",
          "Rosedale Rec Center",
          "11th & C St SE",
          "New Hampshire & Gallatin St NW",
          "United Medical Center",
          "18th & New Hampshire Ave NW",
          "Dunn Loring Metro",
          "Oglethorpe St & 42nd Ave",
          "Southern Ave Metro",
          "Queens Chapel & Hamilton St",
          "Northwestern High School",
          "New Hampshire Ave & East-West Hwy",
          "Rhode Island Ave & 39th St / Brentwood Arts Exchange",
          "Riggs Rd & East West Hwy",
          "Tanger Outlets",
          "Chillum Rd & Riggs Rd / Riggs Plaza",
          "Hyattsville Library / Adelphi Rd & Toledo Rd",
          "George Mason High School / Haycock Rd & Leesburg Pike",
          "State Theatre / Park Pl & N Washington St",
          "N Oak St & W Broad St",
          "Pennsylvania Ave & Park Ave",
          "E Fairfax St & S Washington St",
          "N Roosevelt St & Roosevelt Blvd",
          "W Broad St & Little Falls St",
          "S Maple Ave & S Washington St",
          "Falls Church City Hall / Park Ave & Little Falls St",
          "W Columbia St & N Washington St",
          "West Falls Church Metro",
          "Jones Branch Drive & Scotts Crossing Rd",
          "Georgia Ave & Morton St NW",
          "Merrilee Dr & Lauren Elizabeth Lane",
          "Merrifield Cinema & Merrifield Town Center",
          "Rhode Island & Montana Ave NE",
          "7th & S St NW",
          "North Capitol & R St NE",
          "17th & Upshur St NW",
          "Grant Circle",
          "14th & Otis Pl NW",
          "John McCormack Rd NE",
          "West Hyattsville Metro",
          "Capitol Heights Metro",
          "Prince George's Plaza Metro",
          "Riverdale Park Town Center",
          "The Mall at Prince Georges",
          "Wheaton Library & Community Rec Center",
          "Edgewood Rec Center",
          "8th & K St NE",
          "Kingman Island/The Fields at RFK",
          "Kenilworth Terrace & Hayes St. NE",
          "National Harbor Carousel",
          "Valley Ave & Wheeler Rd SE",
          "Ridge Rd Community Center",
          "Fort Stanton Rec Center",
          "Reservoir Rd & 38th St NW",
          "22nd & H St NW",
          "8th & H St NE",
          "Hardy Rec Center",
          "The Shoppes @ Burnt Mills",
          "Briggs Chaney & Castle Dr",
          "White Oak Rec Center",
          "Briggs Chaney Park & Ride",
          "Stewart & April",
          "Stewart Ln & Old Columbia Pike",
          "New Hampshire & Lockwood",
          "Castle Blvd & Castle Ln",
          "Oak Leaf & Lockwood",
          "White Oak Transit Center",
          "Wilson Blvd. & N. Vermont St.",
          "Oklahoma Ave & Benning Rd NE",
          "Minnesota Ave & R St SE",
          "Vy Reston Heights",
          "1st & K St NE",
          "Wheeler Ave & S. Floyd St.",
          "N. Beauregard St. & Berkley St.",
          "Mt Vernon Trail & S. Washington St.",
          "Eisenhower Ave & Ike Dr",
          "Capitol Ave & Kendall St NE",
          "14th & D St SE",
          "Half & Water St SW",
          "14th & Q St NW",
          "13th & U St NW",
          "Stadium Armory Metro",
          "Broad Branch Rd & Northampton St NW",
          "N Pitt St & Montgomery St",
          "Duke St & Strand (Robinson Terminal)",
          "21st St & G st NW",
          "4th St & G St SW",
          "Kansas Ave & Longfellow St NW",
          "National Airport",
          "Fern St & Army Navy Dr",
          "Arlington Blvd & Ft Myer Dr",
          "23rd St S & Hayes St",
          "Wilson Blvd & N Oak St",
          "Arlington Blvd & Fairfax Dr",
          "2nd & V St SW / James Creek Marina",
          "1st St & Potomac Ave SE",
          "20th & Columbia Rd NW",
          "3rd & M st SE",
          "53rd & D St SE/C.W. Harris Elementary",
          "N Hampton Dr & Ford Ave",
          "Whiting & Lane Dr",
          "N Howard St & Taney Ave",
          "Anacostia Roller Skating Pavillion",
          "S Clark St & 33rd St",
          "Columbia Pike & S Greenbrier St"
         ],
         "lat": [
          38.858971,
          38.85725,
          38.856425,
          38.861056,
          38.857866,
          38.862303,
          38.8637,
          38.85740496261504,
          38.848466,
          38.8426,
          38.852929,
          38.850688,
          38.9003,
          38.9177645,
          38.929464,
          38.92612422246211,
          38.922925,
          38.9268,
          38.923203,
          38.9319,
          38.876697,
          38.90980062655191,
          38.913046,
          38.9086,
          38.8963,
          38.90071062547463,
          38.9366839345886,
          38.9375,
          38.9346,
          38.90304,
          38.8896,
          38.9308,
          38.86005647007575,
          38.934267,
          38.878,
          38.897063,
          38.901385,
          38.862669,
          38.867373,
          38.8952,
          38.919077,
          38.9172,
          38.9249,
          38.8743,
          38.9154,
          38.9155,
          38.85438051517749,
          38.8763,
          38.9101,
          38.905697,
          38.90571079190728,
          38.90276,
          38.899408,
          38.8851,
          38.8803,
          38.88291548476762,
          38.9121,
          38.944551,
          38.9126,
          38.8792,
          38.938736,
          38.934881,
          38.947774,
          38.865784,
          38.873057,
          38.886952,
          38.899632,
          38.894,
          38.88627694506511,
          38.902314,
          38.933668,
          38.894919,
          38.886266,
          38.893028,
          38.897293,
          38.884260087971725,
          38.90506687455313,
          38.947607,
          38.90042673988099,
          38.897222,
          38.89903234416315,
          38.905737,
          38.927872,
          38.903741450919384,
          38.90375,
          38.878693599396954,
          38.89484064247075,
          38.916442,
          38.900283,
          38.8997,
          38.932514,
          38.910972,
          38.899972,
          38.900412,
          38.900413,
          38.889955,
          38.890461,
          38.8692,
          38.894832,
          38.915544,
          38.898364,
          38.894514,
          38.89728304853854,
          38.902061,
          38.908905,
          38.895344,
          38.8923,
          38.90774,
          38.899983,
          38.903827,
          38.89696,
          38.897446,
          38.9055785,
          38.922581,
          38.898409,
          38.844015,
          38.88412,
          38.897857,
          38.896104,
          38.897315,
          38.8946,
          38.893438,
          38.891696,
          38.892164,
          38.86559,
          38.892459,
          38.889,
          38.920669,
          38.905995699991145,
          38.9059,
          38.8904,
          38.8881,
          38.88786,
          38.899680000000004,
          38.88637194054526,
          38.88412,
          38.881185,
          38.912719,
          38.9418,
          38.915417,
          38.92812111132096,
          38.917761,
          38.889935,
          38.930282,
          38.896544,
          38.905126,
          38.88732,
          38.844711,
          38.876393,
          38.85033657788445,
          38.896923,
          38.9024,
          38.885801,
          38.893993,
          38.878854378063295,
          38.922649,
          38.928743,
          38.882788,
          38.88397,
          38.884734,
          38.8885525,
          38.888774,
          38.87887,
          38.894573,
          38.893237,
          38.89593,
          38.89054,
          38.88081,
          38.881044,
          38.882629,
          38.879819,
          38.866611,
          38.883921,
          38.880012,
          38.884616,
          38.90509,
          38.903584,
          38.903819,
          38.901539,
          38.902204,
          38.803124,
          38.804718,
          38.81074147938705,
          38.805317,
          38.902,
          38.805648,
          38.811456,
          38.814577,
          38.80576284873485,
          38.9066,
          38.895914,
          38.90088,
          38.883669,
          38.884961,
          38.889365,
          38.888255,
          38.894722,
          38.90093,
          38.943837,
          38.954812,
          38.905469714943266,
          38.863833,
          38.847129045742605,
          38.846222,
          38.918809,
          38.956555547721955,
          38.949662000000004,
          38.942475355602845,
          38.956432,
          38.847977,
          38.8444,
          38.860789,
          38.84736,
          38.84232,
          38.848454,
          38.987,
          38.90849,
          38.896553,
          38.955016,
          38.908142,
          38.92333,
          38.889988,
          38.912659,
          38.889908,
          38.897274,
          38.927095,
          38.897194999999996,
          38.928644,
          38.84322988730829,
          38.863897,
          38.903732,
          38.916787,
          38.852248,
          38.865029,
          38.880705,
          38.867262,
          38.887378,
          38.894851,
          38.917622,
          38.918155,
          38.892275,
          38.886978,
          38.887312,
          38.927497,
          38.862478,
          38.856319,
          38.871822,
          38.985404,
          38.981103,
          38.983838,
          39.096312,
          39.093783,
          38.988562,
          39.084125,
          38.98954,
          39.094772,
          38.98128,
          38.983627,
          38.99489580319022,
          38.983525,
          38.961763,
          38.921074,
          38.87501,
          38.920387,
          38.876737,
          39.099376,
          39.083673,
          39.123513,
          38.990249,
          38.982456,
          39.02538719623632,
          39.095661,
          38.989724,
          38.975,
          38.977933,
          38.992375,
          38.990639,
          38.977092999999996,
          39.076331,
          39.102212,
          38.99403485060837,
          38.999388,
          38.997033,
          39.114688,
          39.110314,
          38.923583,
          38.90733256111448,
          38.898536,
          38.908473,
          38.878433,
          38.873755,
          38.862753,
          38.999634,
          38.96115,
          38.899703,
          38.8378458,
          38.873219,
          38.869418,
          38.94113915653008,
          39.103091,
          39.097636,
          38.997445,
          39.085394,
          38.900358,
          38.952369,
          38.975219,
          38.920682,
          38.866471,
          38.839912,
          39.119765,
          38.964992,
          39.084379,
          38.984691,
          38.889920000000004,
          38.9037315,
          38.804378,
          38.894941,
          38.869442,
          38.89824328774852,
          38.897612,
          38.901755,
          38.801111,
          38.82175,
          38.802677,
          38.820064,
          38.82595,
          38.820932,
          38.833077,
          38.890612,
          38.986743,
          38.865553,
          38.96454350924588,
          38.903649,
          38.898282949523605,
          38.997653,
          38.912648,
          38.859254,
          38.907908,
          38.896456,
          38.898984,
          38.895377,
          38.898412,
          38.914751108831155,
          38.876528,
          38.86215024521491,
          38.902814,
          38.913761,
          38.86612,
          38.89967,
          38.90864,
          38.961339,
          38.894474,
          38.89608815884687,
          38.915604,
          38.946182,
          38.994113,
          39.105295,
          38.898301,
          38.812718,
          38.80704,
          38.813485,
          38.999378,
          38.884829,
          38.958267,
          38.928893,
          38.912652,
          38.999679,
          38.979875,
          38.903658,
          38.908643,
          38.831516,
          38.893511,
          38.909394,
          38.995681,
          38.799267,
          38.925284,
          38.822738,
          38.90843,
          38.88432272414662,
          38.947156,
          38.894972,
          38.828437,
          38.88532071975074,
          38.880992,
          38.812711,
          38.82005823354218,
          38.8904955,
          38.890539,
          38.888097,
          38.798133,
          38.843422,
          38.90240556584194,
          38.841291,
          38.797557,
          38.818748,
          38.829545,
          38.928552,
          38.901136451737045,
          38.949813,
          38.91263,
          38.897407,
          38.870695,
          38.929261,
          38.92403,
          38.919475,
          38.920939,
          38.924437,
          38.931911,
          38.928919,
          38.932636,
          38.970045999999996,
          38.962524,
          38.962095,
          38.960574,
          38.955079,
          38.957037,
          38.884916,
          38.946607921214984,
          38.959633,
          38.95534,
          38.892441,
          38.891805,
          38.960084,
          38.955314,
          38.951443,
          38.893860000000004,
          38.967505,
          38.923083,
          38.812351,
          38.990874,
          38.9190185,
          38.882489,
          38.957463,
          38.876695,
          38.915246,
          38.90293157359119,
          39.014716,
          38.98265,
          38.988101,
          39.038423828518326,
          39.044887,
          39.035965,
          39.043272,
          39.032029,
          38.970412,
          38.955170598044894,
          38.968834,
          38.93293,
          38.88345,
          39.121327,
          38.905368,
          38.924088,
          38.888282,
          38.886048,
          38.858524,
          39.12582811177034,
          39.12333,
          38.964207741006206,
          39.105642,
          38.8995,
          38.905424,
          38.925636,
          38.912644,
          38.892556,
          38.936298,
          38.892244,
          38.905303,
          39.106971,
          39.106152,
          38.84627,
          38.84377,
          38.84623,
          38.836,
          38.824481,
          38.82373,
          38.81909,
          38.883011,
          38.89646474748647,
          38.88044,
          38.915,
          39.04313,
          38.95674,
          38.89222,
          38.87335,
          39.062041,
          39.04753,
          39.049,
          39.049765,
          39.04317,
          39.04873,
          39.0629,
          39.06219,
          39.00048,
          38.92245,
          38.908391,
          38.899811,
          38.969581,
          38.95548,
          38.936213,
          39.050539,
          38.86968314861632,
          38.88994,
          38.855004,
          38.931991,
          38.9170363119413,
          38.969489,
          38.876893,
          38.782633,
          38.798749,
          38.93132185874559,
          38.876751,
          38.94796174822241,
          38.944707,
          38.92755,
          38.902674,
          38.876211,
          38.907444,
          38.897108,
          38.901935,
          38.892934,
          38.923389,
          38.92400207520182,
          38.906299,
          38.897808,
          38.885908,
          38.951596,
          38.835737,
          38.911268,
          38.8828,
          38.959361,
          38.840107,
          38.9546,
          38.975505,
          38.974205,
          38.939271,
          38.9725,
          38.7968,
          38.961737,
          38.9698,
          38.895172,
          38.882746,
          38.88837,
          38.887403,
          38.880612,
          38.878085,
          38.883601,
          38.87972,
          38.885434,
          38.885621,
          38.9001,
          38.928502,
          38.932128,
          38.879355,
          38.870093,
          38.9243,
          38.9142043187298,
          38.912524,
          38.942146,
          38.942024743273045,
          38.934405,
          38.938889,
          38.955349,
          38.888524,
          38.965742,
          38.962119,
          38.968842,
          39.0473228,
          38.924144,
          38.90273216425078,
          38.89595455700754,
          38.90046848783359,
          38.7859,
          38.83664578175751,
          38.876227445751475,
          38.85736903758752,
          38.91261359469192,
          38.89892546716842,
          38.899941626884754,
          38.90970086204467,
          39.0313141,
          39.081638,
          39.0461435,
          39.0778751,
          39.0449444,
          39.0456521,
          39.0391022,
          39.085314,
          39.0379809,
          39.04104,
          38.87947660895433,
          38.8974996,
          38.8693365,
          38.949008,
          38.902386,
          38.808161,
          38.840797,
          38.7930647,
          38.802738,
          38.910993,
          38.8840581,
          38.866277,
          38.910674,
          38.91693645323652,
          38.88548252734069,
          38.96577499342219,
          38.81403111409755,
          38.801947,
          38.89830173667249,
          38.881123,
          38.958098,
          38.852903,
          38.864838,
          38.890863,
          38.853002,
          38.895068,
          38.88625606692058,
          38.863743,
          38.871841,
          38.918036,
          38.876823,
          38.883318,
          38.837306,
          38.809709,
          38.815842,
          38.878771,
          38.845028,
          38.854019
         ],
         "legendgroup": "",
         "lon": [
          -77.05323,
          -77.05332,
          -77.049232,
          -77.049417,
          -77.05949,
          -77.059936,
          -77.0633,
          -77.05113172531128,
          -77.051514,
          -77.0502,
          -77.049723,
          -77.05152,
          -77.0429,
          -77.032096,
          -77.027822,
          -77.03542068600655,
          -77.042581,
          -77.0322,
          -77.047637,
          -77.0388,
          -77.0178975,
          -77.03442692756653,
          -77.032008,
          -77.0323,
          -77.045,
          -77.04644858837128,
          -77.02418088912964,
          -77.0328,
          -76.9955,
          -77.019027,
          -76.9769,
          -77.0315,
          -76.96783974766731,
          -77.057979,
          -76.9607,
          -76.947446,
          -76.941877,
          -76.994637,
          -76.988039,
          -77.0436,
          -77.000648,
          -77.0259,
          -77.0222,
          -77.0057,
          -77.0446,
          -77.0222,
          -77.05341160297394,
          -77.0037,
          -77.0444,
          -77.005483,
          -77.0473176240921,
          -77.03863,
          -77.015289,
          -77.0023,
          -76.9862,
          -76.98790669441223,
          -77.0387,
          -77.063896,
          -77.0135,
          -76.9953,
          -77.087171,
          -77.072755,
          -77.032818,
          -76.9784,
          -76.971015,
          -76.996806,
          -77.031686,
          -76.947974,
          -77.02824175357819,
          -77.0591415,
          -76.991016,
          -77.046587,
          -77.022241,
          -77.026013,
          -77.05557,
          -76.99473559856415,
          -77.04177886247635,
          -77.079382,
          -76.98825001716614,
          -77.019347,
          -77.03335404396057,
          -77.02227,
          -77.043358,
          -77.04245209693909,
          -77.06269,
          -77.02305436134338,
          -76.99591577053069,
          -77.0682,
          -77.029822,
          -77.023086,
          -76.992889,
          -77.00495,
          -76.998347,
          -77.001949,
          -76.982872,
          -77.000349,
          -76.988355,
          -76.9599,
          -76.987633,
          -77.038252,
          -77.027869,
          -77.031617,
          -77.02219069004059,
          -77.038322,
          -77.04478,
          -77.016106,
          -77.0436,
          -77.071652,
          -76.991383,
          -77.053485,
          -77.00493,
          -77.009888,
          -77.027313,
          -77.070334,
          -77.032278,
          -77.050537,
          -77.04657,
          -77.026975,
          -77.049882,
          -77.070993,
          -77.072305,
          -77.076389,
          -77.0846,
          -77.079375,
          -76.952103,
          -77.046567,
          -77.0925,
          -77.04368,
          -77.03980207443237,
          -77.0325,
          -77.0889,
          -77.09308,
          -77.094875,
          -77.041539,
          -77.01770067214966,
          -77.017445,
          -77.001828,
          -77.022155,
          -77.0251,
          -77.012289,
          -77.0237946510315,
          -77.04062,
          -76.93723,
          -77.055599,
          -76.96012,
          -77.056887,
          -76.983569,
          -76.987823,
          -77.107735,
          -77.1009886264801,
          -77.086502,
          -77.02622,
          -77.097745,
          -77.07857,
          -77.00572729110718,
          -77.077271,
          -77.012457,
          -77.103148,
          -77.10783,
          -77.093485,
          -77.032427,
          -77.028694,
          -77.1207,
          -77.01994,
          -77.086063,
          -77.089006,
          -77.08095,
          -77.090792,
          -77.111768,
          -77.109366,
          -77.037413,
          -76.985238,
          -77.116817,
          -77.107854,
          -77.10108,
          -76.9941,
          -77.044789,
          -77.0284,
          -77.046564,
          -77.04337,
          -77.040363,
          -77.043363,
          -77.0446327328682,
          -77.049883,
          -77.03353,
          -77.05293,
          -77.050276,
          -77.052808,
          -77.060626745224,
          -77.05152,
          -77.026064,
          -77.048911,
          -77.113905,
          -77.08777,
          -77.077294,
          -77.0494365,
          -77.045128,
          -77.018677,
          -77.077078,
          -77.082426,
          -77.0021304488182,
          -77.080319,
          -77.1125502884388,
          -77.069275,
          -77.041571,
          -77.0198142528534,
          -77.027333,
          -77.03267812728882,
          -77.032947,
          -77.075104,
          -77.085931,
          -77.09586,
          -77.095431,
          -77.089555,
          -77.084918,
          -77.029417,
          -77.063586,
          -77.06714,
          -77.069956,
          -77.038359,
          -77.0352,
          -76.995193,
          -77.017669,
          -76.983326,
          -76.994749,
          -76.978924,
          -76.983575,
          -76.990955,
          -76.99937582015991,
          -76.990037,
          -76.987211,
          -77.028139,
          -77.105022,
          -77.039511,
          -77.08596,
          -77.072315,
          -77.001955,
          -77.02324,
          -77.01597,
          -77.004746,
          -77.013917,
          -77.013769,
          -77.025762,
          -76.997194,
          -77.086599,
          -77.11153,
          -77.107906,
          -77.023082,
          -77.097426,
          -77.09221,
          -77.192672,
          -77.202501,
          -77.096539,
          -77.151291,
          -77.098029,
          -77.145213,
          -77.011336,
          -77.006311,
          -77.02953189611435,
          -77.095367,
          -77.085998,
          -77.031887,
          -77.0024,
          -77.025672,
          -76.994468,
          -77.188014,
          -77.149162,
          -77.15741,
          -77.02935,
          -77.091991,
          -77.04456299543381,
          -77.159048,
          -77.023854,
          -77.01121,
          -77.006472,
          -77.100104,
          -77.100239,
          -77.094589,
          -77.141378,
          -77.177091,
          -77.03037142753601,
          -77.031555,
          -77.025608,
          -77.171487,
          -77.182669,
          -77.050046,
          -77.01536044478416,
          -76.931862,
          -76.933099,
          -77.03023,
          -77.089233,
          -77.05428,
          -77.109647,
          -77.088659,
          -77.008911,
          -77.0934784,
          -77.082104,
          -77.095596,
          -77.061977237463,
          -77.196442,
          -77.196636,
          -77.023894,
          -77.145803,
          -77.012108,
          -77.002721,
          -77.016855,
          -76.995876,
          -77.076131,
          -77.087083,
          -77.166093,
          -77.103381,
          -77.146866,
          -77.094537,
          -77.071301,
          -77.0675285,
          -77.060866,
          -77.09169,
          -77.104503,
          -77.02623546123505,
          -77.080851,
          -77.051084,
          -77.068952,
          -77.047494,
          -77.063562,
          -77.057619,
          -77.058541,
          -77.053096,
          -77.059821,
          -77.084801,
          -77.000035,
          -77.05003,
          -77.07513481378555,
          -77.034918,
          -77.03973233699799,
          -77.034499,
          -77.041834,
          -77.063275,
          -76.99707,
          -77.104562,
          -77.078317,
          -77.09713,
          -77.043182,
          -77.00356006622314,
          -77.12712,
          -77.06812083721161,
          -77.061043,
          -77.027025,
          -77.08787,
          -77.003666,
          -77.02277,
          -77.027855,
          -76.974828,
          -76.99401140213013,
          -76.983683,
          -77.08059,
          -77.076986,
          -77.194774,
          -77.118009,
          -77.044097,
          -77.059817,
          -77.049468,
          -77.097882,
          -77.127671,
          -77.084636,
          -77.03625,
          -77.036278,
          -77.051168,
          -77.093522,
          -77.031737,
          -77.012365,
          -77.008133,
          -77.041544,
          -77.048728,
          -77.038721,
          -77.0447,
          -77.032375,
          -77.049265,
          -77.02714,
          -77.02601015567778,
          -77.065115,
          -77.003135,
          -77.086031,
          -77.15642720460892,
          -77.135271,
          -77.061715,
          -77.06282079219818,
          -77.0172465,
          -77.049383,
          -77.038325,
          -77.0487,
          -77.064016,
          -77.01600551605225,
          -77.063093,
          -77.053766,
          -77.047783,
          -77.047844,
          -77.032224,
          -77.03445106744766,
          -77.080217,
          -76.971923,
          -76.925907,
          -76.982359,
          -77.240654,
          -77.235955,
          -77.221179,
          -77.222115,
          -77.217664,
          -77.219261,
          -77.225394,
          -77.231825,
          -77.338686,
          -77.361902,
          -77.358815,
          -77.356324,
          -77.351649,
          -77.359718,
          -77.005965,
          -77.3393914103508,
          -77.358741,
          -77.357611,
          -77.048947,
          -76.913563,
          -77.353414,
          -77.368416,
          -77.340377,
          -77.070862,
          -77.027976,
          -77.227417,
          -77.040691,
          -77.016311,
          -77.034449,
          -76.990121,
          -77.002239,
          -77.112982,
          -77.220157,
          -76.99840486049652,
          -77.107143,
          -76.988311,
          -76.988422,
          -77.05102041363716,
          -77.047788,
          -77.048395,
          -77.053085,
          -77.04735,
          -77.340787,
          -77.3630940914154,
          -77.016258,
          -76.979517,
          -77.021741,
          -77.164969,
          -77.065149,
          -77.040787,
          -77.111066,
          -77.142317,
          -77.103728,
          -77.16705948114395,
          -77.16486,
          -77.35428035259247,
          -77.20386,
          -77.054155,
          -77.034674,
          -77.027112,
          -77.04564,
          -77.082089,
          -77.087128,
          -77.033234,
          -77.050264,
          -77.192645,
          -77.202354,
          -76.98185,
          -76.97557,
          -76.97703,
          -77.0009,
          -77.005497,
          -77.00223,
          -77.01033,
          -76.949709,
          -77.0333808660507,
          -77.025236,
          -77.0078,
          -77.05006,
          -77.02791,
          -76.99602,
          -76.9834,
          -77.120776,
          -77.11287,
          -77.10933,
          -77.11368,
          -77.1135,
          -77.1257,
          -77.113454,
          -77.129235,
          -77.00077,
          -77.23034,
          -76.843263,
          -76.844604,
          -76.937349,
          -76.940133,
          -76.960054,
          -77.115212,
          -77.01081544160843,
          -76.825535,
          -76.984512,
          -77.032956,
          -77.0957824587822,
          -77.033509,
          -77.006072,
          -77.016059,
          -77.00103,
          -77.02824711799622,
          -77.000736,
          -77.02154964208603,
          -77.335425,
          -77.226644,
          -77.021392,
          -77.012443,
          -76.986813,
          -77.011616,
          -76.978627,
          -76.998273,
          -77.051833,
          -77.20812678337097,
          -76.983221,
          -76.979634,
          -76.991476,
          -77.012808,
          -76.983144,
          -77.041829,
          -77.2283,
          -76.946361,
          -76.9753,
          -76.9595,
          -76.952199,
          -76.995227,
          -76.955047,
          -76.9807,
          -77.0026,
          -76.995922,
          -76.9493,
          -77.190275,
          -77.170032,
          -77.179832,
          -77.176992,
          -77.171891,
          -77.153953,
          -77.173438,
          -77.178408,
          -77.173605,
          -77.166917,
          -77.1887,
          -77.215624,
          -77.0235,
          -77.230681,
          -77.22997,
          -76.9859,
          -77.0221745967865,
          -77.008798,
          -77.038684,
          -77.01822102069855,
          -77.032687,
          -76.997226,
          -76.968084,
          -76.913188,
          -76.954803,
          -76.935578,
          -76.954171,
          -77.0510969,
          -77.002098,
          -76.99514991079923,
          -76.9678448436025,
          -76.9472873210907,
          -77.0167,
          -76.99358886515256,
          -76.94098126958124,
          -76.97768801437633,
          -77.07432264076488,
          -77.04885238395946,
          -76.99489653110504,
          -77.08564639091492,
          -77.0041217,
          -76.945495,
          -76.9757228,
          -76.9418666,
          -76.9811552,
          -76.9854381,
          -76.9918237,
          -76.940547,
          -76.9945391,
          -76.987125,
          -77.11456328630447,
          -76.9695094,
          -76.978519,
          -77.355299,
          -77.005649,
          -77.100796,
          -77.108938,
          -77.049436,
          -77.0824626,
          -76.985854,
          -76.9863852,
          -77.010551,
          -77.03188,
          -77.0296311378479,
          -76.97718724608421,
          -77.06862643361092,
          -77.04281687736511,
          -77.040293,
          -77.04691261053085,
          -77.017658,
          -77.013821,
          -77.045916,
          -77.056873,
          -77.074893,
          -77.059496,
          -77.07386,
          -77.08426237106323,
          -77.013814,
          -77.00591,
          -77.045487,
          -77.002161,
          -76.925315,
          -77.106111,
          -77.135788,
          -77.110014,
          -76.97093,
          -77.051956,
          -77.118106
         ],
         "marker": {
          "color": "#636efa"
         },
         "mode": "markers",
         "name": "",
         "showlegend": false,
         "subplot": "mapbox",
         "type": "scattermapbox"
        }
       ],
       "layout": {
        "legend": {
         "tracegroupgap": 0
        },
        "mapbox": {
         "center": {
          "lat": 38.914396771176925,
          "lon": -77.05592964742756
         },
         "domain": {
          "x": [
           0,
           1
          ],
          "y": [
           0,
           1
          ]
         },
         "style": "open-street-map",
         "zoom": 9
        },
        "margin": {
         "b": 0,
         "l": 0,
         "r": 0,
         "t": 0
        },
        "template": {
         "data": {
          "bar": [
           {
            "error_x": {
             "color": "#2a3f5f"
            },
            "error_y": {
             "color": "#2a3f5f"
            },
            "marker": {
             "line": {
              "color": "#E5ECF6",
              "width": 0.5
             }
            },
            "type": "bar"
           }
          ],
          "barpolar": [
           {
            "marker": {
             "line": {
              "color": "#E5ECF6",
              "width": 0.5
             }
            },
            "type": "barpolar"
           }
          ],
          "carpet": [
           {
            "aaxis": {
             "endlinecolor": "#2a3f5f",
             "gridcolor": "white",
             "linecolor": "white",
             "minorgridcolor": "white",
             "startlinecolor": "#2a3f5f"
            },
            "baxis": {
             "endlinecolor": "#2a3f5f",
             "gridcolor": "white",
             "linecolor": "white",
             "minorgridcolor": "white",
             "startlinecolor": "#2a3f5f"
            },
            "type": "carpet"
           }
          ],
          "choropleth": [
           {
            "colorbar": {
             "outlinewidth": 0,
             "ticks": ""
            },
            "type": "choropleth"
           }
          ],
          "contour": [
           {
            "colorbar": {
             "outlinewidth": 0,
             "ticks": ""
            },
            "colorscale": [
             [
              0,
              "#0d0887"
             ],
             [
              0.1111111111111111,
              "#46039f"
             ],
             [
              0.2222222222222222,
              "#7201a8"
             ],
             [
              0.3333333333333333,
              "#9c179e"
             ],
             [
              0.4444444444444444,
              "#bd3786"
             ],
             [
              0.5555555555555556,
              "#d8576b"
             ],
             [
              0.6666666666666666,
              "#ed7953"
             ],
             [
              0.7777777777777778,
              "#fb9f3a"
             ],
             [
              0.8888888888888888,
              "#fdca26"
             ],
             [
              1,
              "#f0f921"
             ]
            ],
            "type": "contour"
           }
          ],
          "contourcarpet": [
           {
            "colorbar": {
             "outlinewidth": 0,
             "ticks": ""
            },
            "type": "contourcarpet"
           }
          ],
          "heatmap": [
           {
            "colorbar": {
             "outlinewidth": 0,
             "ticks": ""
            },
            "colorscale": [
             [
              0,
              "#0d0887"
             ],
             [
              0.1111111111111111,
              "#46039f"
             ],
             [
              0.2222222222222222,
              "#7201a8"
             ],
             [
              0.3333333333333333,
              "#9c179e"
             ],
             [
              0.4444444444444444,
              "#bd3786"
             ],
             [
              0.5555555555555556,
              "#d8576b"
             ],
             [
              0.6666666666666666,
              "#ed7953"
             ],
             [
              0.7777777777777778,
              "#fb9f3a"
             ],
             [
              0.8888888888888888,
              "#fdca26"
             ],
             [
              1,
              "#f0f921"
             ]
            ],
            "type": "heatmap"
           }
          ],
          "heatmapgl": [
           {
            "colorbar": {
             "outlinewidth": 0,
             "ticks": ""
            },
            "colorscale": [
             [
              0,
              "#0d0887"
             ],
             [
              0.1111111111111111,
              "#46039f"
             ],
             [
              0.2222222222222222,
              "#7201a8"
             ],
             [
              0.3333333333333333,
              "#9c179e"
             ],
             [
              0.4444444444444444,
              "#bd3786"
             ],
             [
              0.5555555555555556,
              "#d8576b"
             ],
             [
              0.6666666666666666,
              "#ed7953"
             ],
             [
              0.7777777777777778,
              "#fb9f3a"
             ],
             [
              0.8888888888888888,
              "#fdca26"
             ],
             [
              1,
              "#f0f921"
             ]
            ],
            "type": "heatmapgl"
           }
          ],
          "histogram": [
           {
            "marker": {
             "colorbar": {
              "outlinewidth": 0,
              "ticks": ""
             }
            },
            "type": "histogram"
           }
          ],
          "histogram2d": [
           {
            "colorbar": {
             "outlinewidth": 0,
             "ticks": ""
            },
            "colorscale": [
             [
              0,
              "#0d0887"
             ],
             [
              0.1111111111111111,
              "#46039f"
             ],
             [
              0.2222222222222222,
              "#7201a8"
             ],
             [
              0.3333333333333333,
              "#9c179e"
             ],
             [
              0.4444444444444444,
              "#bd3786"
             ],
             [
              0.5555555555555556,
              "#d8576b"
             ],
             [
              0.6666666666666666,
              "#ed7953"
             ],
             [
              0.7777777777777778,
              "#fb9f3a"
             ],
             [
              0.8888888888888888,
              "#fdca26"
             ],
             [
              1,
              "#f0f921"
             ]
            ],
            "type": "histogram2d"
           }
          ],
          "histogram2dcontour": [
           {
            "colorbar": {
             "outlinewidth": 0,
             "ticks": ""
            },
            "colorscale": [
             [
              0,
              "#0d0887"
             ],
             [
              0.1111111111111111,
              "#46039f"
             ],
             [
              0.2222222222222222,
              "#7201a8"
             ],
             [
              0.3333333333333333,
              "#9c179e"
             ],
             [
              0.4444444444444444,
              "#bd3786"
             ],
             [
              0.5555555555555556,
              "#d8576b"
             ],
             [
              0.6666666666666666,
              "#ed7953"
             ],
             [
              0.7777777777777778,
              "#fb9f3a"
             ],
             [
              0.8888888888888888,
              "#fdca26"
             ],
             [
              1,
              "#f0f921"
             ]
            ],
            "type": "histogram2dcontour"
           }
          ],
          "mesh3d": [
           {
            "colorbar": {
             "outlinewidth": 0,
             "ticks": ""
            },
            "type": "mesh3d"
           }
          ],
          "parcoords": [
           {
            "line": {
             "colorbar": {
              "outlinewidth": 0,
              "ticks": ""
             }
            },
            "type": "parcoords"
           }
          ],
          "pie": [
           {
            "automargin": true,
            "type": "pie"
           }
          ],
          "scatter": [
           {
            "marker": {
             "colorbar": {
              "outlinewidth": 0,
              "ticks": ""
             }
            },
            "type": "scatter"
           }
          ],
          "scatter3d": [
           {
            "line": {
             "colorbar": {
              "outlinewidth": 0,
              "ticks": ""
             }
            },
            "marker": {
             "colorbar": {
              "outlinewidth": 0,
              "ticks": ""
             }
            },
            "type": "scatter3d"
           }
          ],
          "scattercarpet": [
           {
            "marker": {
             "colorbar": {
              "outlinewidth": 0,
              "ticks": ""
             }
            },
            "type": "scattercarpet"
           }
          ],
          "scattergeo": [
           {
            "marker": {
             "colorbar": {
              "outlinewidth": 0,
              "ticks": ""
             }
            },
            "type": "scattergeo"
           }
          ],
          "scattergl": [
           {
            "marker": {
             "colorbar": {
              "outlinewidth": 0,
              "ticks": ""
             }
            },
            "type": "scattergl"
           }
          ],
          "scattermapbox": [
           {
            "marker": {
             "colorbar": {
              "outlinewidth": 0,
              "ticks": ""
             }
            },
            "type": "scattermapbox"
           }
          ],
          "scatterpolar": [
           {
            "marker": {
             "colorbar": {
              "outlinewidth": 0,
              "ticks": ""
             }
            },
            "type": "scatterpolar"
           }
          ],
          "scatterpolargl": [
           {
            "marker": {
             "colorbar": {
              "outlinewidth": 0,
              "ticks": ""
             }
            },
            "type": "scatterpolargl"
           }
          ],
          "scatterternary": [
           {
            "marker": {
             "colorbar": {
              "outlinewidth": 0,
              "ticks": ""
             }
            },
            "type": "scatterternary"
           }
          ],
          "surface": [
           {
            "colorbar": {
             "outlinewidth": 0,
             "ticks": ""
            },
            "colorscale": [
             [
              0,
              "#0d0887"
             ],
             [
              0.1111111111111111,
              "#46039f"
             ],
             [
              0.2222222222222222,
              "#7201a8"
             ],
             [
              0.3333333333333333,
              "#9c179e"
             ],
             [
              0.4444444444444444,
              "#bd3786"
             ],
             [
              0.5555555555555556,
              "#d8576b"
             ],
             [
              0.6666666666666666,
              "#ed7953"
             ],
             [
              0.7777777777777778,
              "#fb9f3a"
             ],
             [
              0.8888888888888888,
              "#fdca26"
             ],
             [
              1,
              "#f0f921"
             ]
            ],
            "type": "surface"
           }
          ],
          "table": [
           {
            "cells": {
             "fill": {
              "color": "#EBF0F8"
             },
             "line": {
              "color": "white"
             }
            },
            "header": {
             "fill": {
              "color": "#C8D4E3"
             },
             "line": {
              "color": "white"
             }
            },
            "type": "table"
           }
          ]
         },
         "layout": {
          "annotationdefaults": {
           "arrowcolor": "#2a3f5f",
           "arrowhead": 0,
           "arrowwidth": 1
          },
          "autotypenumbers": "strict",
          "coloraxis": {
           "colorbar": {
            "outlinewidth": 0,
            "ticks": ""
           }
          },
          "colorscale": {
           "diverging": [
            [
             0,
             "#8e0152"
            ],
            [
             0.1,
             "#c51b7d"
            ],
            [
             0.2,
             "#de77ae"
            ],
            [
             0.3,
             "#f1b6da"
            ],
            [
             0.4,
             "#fde0ef"
            ],
            [
             0.5,
             "#f7f7f7"
            ],
            [
             0.6,
             "#e6f5d0"
            ],
            [
             0.7,
             "#b8e186"
            ],
            [
             0.8,
             "#7fbc41"
            ],
            [
             0.9,
             "#4d9221"
            ],
            [
             1,
             "#276419"
            ]
           ],
           "sequential": [
            [
             0,
             "#0d0887"
            ],
            [
             0.1111111111111111,
             "#46039f"
            ],
            [
             0.2222222222222222,
             "#7201a8"
            ],
            [
             0.3333333333333333,
             "#9c179e"
            ],
            [
             0.4444444444444444,
             "#bd3786"
            ],
            [
             0.5555555555555556,
             "#d8576b"
            ],
            [
             0.6666666666666666,
             "#ed7953"
            ],
            [
             0.7777777777777778,
             "#fb9f3a"
            ],
            [
             0.8888888888888888,
             "#fdca26"
            ],
            [
             1,
             "#f0f921"
            ]
           ],
           "sequentialminus": [
            [
             0,
             "#0d0887"
            ],
            [
             0.1111111111111111,
             "#46039f"
            ],
            [
             0.2222222222222222,
             "#7201a8"
            ],
            [
             0.3333333333333333,
             "#9c179e"
            ],
            [
             0.4444444444444444,
             "#bd3786"
            ],
            [
             0.5555555555555556,
             "#d8576b"
            ],
            [
             0.6666666666666666,
             "#ed7953"
            ],
            [
             0.7777777777777778,
             "#fb9f3a"
            ],
            [
             0.8888888888888888,
             "#fdca26"
            ],
            [
             1,
             "#f0f921"
            ]
           ]
          },
          "colorway": [
           "#636efa",
           "#EF553B",
           "#00cc96",
           "#ab63fa",
           "#FFA15A",
           "#19d3f3",
           "#FF6692",
           "#B6E880",
           "#FF97FF",
           "#FECB52"
          ],
          "font": {
           "color": "#2a3f5f"
          },
          "geo": {
           "bgcolor": "white",
           "lakecolor": "white",
           "landcolor": "#E5ECF6",
           "showlakes": true,
           "showland": true,
           "subunitcolor": "white"
          },
          "hoverlabel": {
           "align": "left"
          },
          "hovermode": "closest",
          "mapbox": {
           "style": "light"
          },
          "paper_bgcolor": "white",
          "plot_bgcolor": "#E5ECF6",
          "polar": {
           "angularaxis": {
            "gridcolor": "white",
            "linecolor": "white",
            "ticks": ""
           },
           "bgcolor": "#E5ECF6",
           "radialaxis": {
            "gridcolor": "white",
            "linecolor": "white",
            "ticks": ""
           }
          },
          "scene": {
           "xaxis": {
            "backgroundcolor": "#E5ECF6",
            "gridcolor": "white",
            "gridwidth": 2,
            "linecolor": "white",
            "showbackground": true,
            "ticks": "",
            "zerolinecolor": "white"
           },
           "yaxis": {
            "backgroundcolor": "#E5ECF6",
            "gridcolor": "white",
            "gridwidth": 2,
            "linecolor": "white",
            "showbackground": true,
            "ticks": "",
            "zerolinecolor": "white"
           },
           "zaxis": {
            "backgroundcolor": "#E5ECF6",
            "gridcolor": "white",
            "gridwidth": 2,
            "linecolor": "white",
            "showbackground": true,
            "ticks": "",
            "zerolinecolor": "white"
           }
          },
          "shapedefaults": {
           "line": {
            "color": "#2a3f5f"
           }
          },
          "ternary": {
           "aaxis": {
            "gridcolor": "white",
            "linecolor": "white",
            "ticks": ""
           },
           "baxis": {
            "gridcolor": "white",
            "linecolor": "white",
            "ticks": ""
           },
           "bgcolor": "#E5ECF6",
           "caxis": {
            "gridcolor": "white",
            "linecolor": "white",
            "ticks": ""
           }
          },
          "title": {
           "x": 0.05
          },
          "xaxis": {
           "automargin": true,
           "gridcolor": "white",
           "linecolor": "white",
           "ticks": "",
           "title": {
            "standoff": 15
           },
           "zerolinecolor": "white",
           "zerolinewidth": 2
          },
          "yaxis": {
           "automargin": true,
           "gridcolor": "white",
           "linecolor": "white",
           "ticks": "",
           "title": {
            "standoff": 15
           },
           "zerolinecolor": "white",
           "zerolinewidth": 2
          }
         }
        }
       }
      }
     },
     "metadata": {}
    }
   ],
   "source": [
    "# All Bike Stations\n",
    "\n",
    "fig = px.scatter_mapbox(all_stations,\n",
    "                    lat='lat',\n",
    "                    lon='lon',\n",
    "                    hover_name=\"street\",\n",
    "                    zoom=9)\n",
    "fig.update_layout(mapbox_style=\"open-street-map\")\n",
    "#fig.update_layout(title = 'All Bike Stations')\n",
    "fig.update_layout(margin={\"r\":0,\"t\":0,\"l\":0,\"b\":0})\n",
    "fig.show()"
   ]
  },
  {
   "cell_type": "code",
   "execution_count": 16,
   "metadata": {
    "tags": []
   },
   "outputs": [],
   "source": [
    "# Getting the real station names and lat/lon for empty bike stands / stands with only 1 bike left from https://gbfs.capitalbikeshare.com/gbfs/en/station_information.json\n",
    "\n",
    "bike_empty_stat_name = []\n",
    "e_bike_empty_stat_name = []\n",
    "only_one_bike_stat_name = []\n",
    "eb_lat = []\n",
    "eb_lon = []\n",
    "oob_lat = [] # Only One Bike\n",
    "oob_lon = []\n",
    "e_eb_lat = []\n",
    "e_eb_lon = []\n",
    "\n",
    "for i in range(len(d_station_information.data[0])):\n",
    "    for j in bike_empty_stat_id:\n",
    "        j = int(j)\n",
    "        if j == int(d_station_information.data[0][i]['station_id']):\n",
    "            bike_empty_stat_name.append(d_station_information.data[0][i]['name'])\n",
    "            eb_lat.append(d_station_information.data[0][i]['lat'])\n",
    "            eb_lon.append(d_station_information.data[0][i]['lon'])\n",
    "\n",
    "for i in range(len(d_station_information.data[0])):\n",
    "    for k in only_one_bike_stat_id:\n",
    "        k = int(k)\n",
    "        if k == int(d_station_information.data[0][i]['station_id']):\n",
    "            only_one_bike_stat_name.append(d_station_information.data[0][i]['name'])\n",
    "            oob_lat.append(d_station_information.data[0][i]['lat'])\n",
    "            oob_lon.append(d_station_information.data[0][i]['lon'])\n",
    "\n",
    "for i in range(len(d_station_information.data[0])):\n",
    "    for l in e_bike_empty_stat_id:\n",
    "        l = int(l)\n",
    "        if l == int(d_station_information.data[0][i]['station_id']):\n",
    "            e_bike_empty_stat_name.append(d_station_information.data[0][i]['name'])\n",
    "            e_eb_lat.append(d_station_information.data[0][i]['lat'])\n",
    "            e_eb_lon.append(d_station_information.data[0][i]['lon'])\n",
    "\n",
    "bike_empty_stat = pd.DataFrame(bike_empty_stat_name)\n",
    "bike_empty_stat_id = pd.DataFrame(bike_empty_stat_id)\n",
    "eb_lat = pd.DataFrame(eb_lat)\n",
    "eb_lon = pd.DataFrame(eb_lon)\n",
    "bike_empty_stat['station_id'] = bike_empty_stat_id\n",
    "bike_empty_stat['lat'] = eb_lat\n",
    "bike_empty_stat['lon'] = eb_lon\n",
    "bike_empty_stat.columns = ['street', 'station_id', 'lat', 'lon']\n",
    "\n",
    "only_one_bike_stat = pd.DataFrame(only_one_bike_stat_name)\n",
    "only_one_bike_stat_id = pd.DataFrame(only_one_bike_stat_id)\n",
    "oob_lat = pd.DataFrame(oob_lat)\n",
    "oob_lon = pd.DataFrame(oob_lon)\n",
    "only_one_bike_stat['station_id'] = only_one_bike_stat_id\n",
    "only_one_bike_stat['lat'] = oob_lat\n",
    "only_one_bike_stat['lon'] = oob_lon\n",
    "only_one_bike_stat.columns = ['street', 'station_id', 'lat', 'lon']\n",
    "\n",
    "e_bike_empty_stat = pd.DataFrame(e_bike_empty_stat_name)\n",
    "e_bike_empty_stat_id = pd.DataFrame(e_bike_empty_stat_id)\n",
    "e_eb_lat = pd.DataFrame(e_eb_lat)\n",
    "e_eb_lon = pd.DataFrame(e_eb_lon)\n",
    "e_bike_empty_stat['station_id'] = e_bike_empty_stat_id\n",
    "e_bike_empty_stat['lat'] = e_eb_lat\n",
    "e_bike_empty_stat['lon'] = e_eb_lon\n",
    "e_bike_empty_stat.columns = ['street', 'station_id', 'lat', 'lon']\n",
    "\n",
    "# print('Stations names without bikes: ', bike_empty_stat_name)\n",
    "# print('Stations names without e-bikes: ', e_bike_empty_stat_name)"
   ]
  },
  {
   "cell_type": "code",
   "execution_count": 17,
   "metadata": {},
   "outputs": [
    {
     "output_type": "execute_result",
     "data": {
      "text/plain": [
       "                                 street station_id        lat        lon  \\\n",
       "0              Calvert & Biltmore St NW         20  38.923203 -77.047637   \n",
       "1                14th St & Spring Rd NW         29  38.937500 -77.032800   \n",
       "2              Good Hope & Naylor Rd SE         34  38.860056 -76.967840   \n",
       "3                         3rd & D St SE         56  38.885100 -77.002300   \n",
       "4     Ward Circle / American University         63  38.938736 -77.087171   \n",
       "..                                  ...        ...        ...        ...   \n",
       "426                       3rd & M st SE        657  38.876823 -77.002161   \n",
       "427             N Hampton Dr & Ford Ave        662  38.837306 -77.106111   \n",
       "428                   Whiting & Lane Dr        663  38.809709 -77.135788   \n",
       "429             N Howard St & Taney Ave        664  38.815842 -77.110014   \n",
       "430  Anacostia Roller Skating Pavillion        665  38.878771 -76.970930   \n",
       "\n",
       "     b_type  \n",
       "0      Bike  \n",
       "1      Bike  \n",
       "2      Bike  \n",
       "3      Bike  \n",
       "4      Bike  \n",
       "..      ...  \n",
       "426  E-Bike  \n",
       "427  E-Bike  \n",
       "428  E-Bike  \n",
       "429  E-Bike  \n",
       "430  E-Bike  \n",
       "\n",
       "[479 rows x 5 columns]"
      ],
      "text/html": "<div>\n<style scoped>\n    .dataframe tbody tr th:only-of-type {\n        vertical-align: middle;\n    }\n\n    .dataframe tbody tr th {\n        vertical-align: top;\n    }\n\n    .dataframe thead th {\n        text-align: right;\n    }\n</style>\n<table border=\"1\" class=\"dataframe\">\n  <thead>\n    <tr style=\"text-align: right;\">\n      <th></th>\n      <th>street</th>\n      <th>station_id</th>\n      <th>lat</th>\n      <th>lon</th>\n      <th>b_type</th>\n    </tr>\n  </thead>\n  <tbody>\n    <tr>\n      <th>0</th>\n      <td>Calvert &amp; Biltmore St NW</td>\n      <td>20</td>\n      <td>38.923203</td>\n      <td>-77.047637</td>\n      <td>Bike</td>\n    </tr>\n    <tr>\n      <th>1</th>\n      <td>14th St &amp; Spring Rd NW</td>\n      <td>29</td>\n      <td>38.937500</td>\n      <td>-77.032800</td>\n      <td>Bike</td>\n    </tr>\n    <tr>\n      <th>2</th>\n      <td>Good Hope &amp; Naylor Rd SE</td>\n      <td>34</td>\n      <td>38.860056</td>\n      <td>-76.967840</td>\n      <td>Bike</td>\n    </tr>\n    <tr>\n      <th>3</th>\n      <td>3rd &amp; D St SE</td>\n      <td>56</td>\n      <td>38.885100</td>\n      <td>-77.002300</td>\n      <td>Bike</td>\n    </tr>\n    <tr>\n      <th>4</th>\n      <td>Ward Circle / American University</td>\n      <td>63</td>\n      <td>38.938736</td>\n      <td>-77.087171</td>\n      <td>Bike</td>\n    </tr>\n    <tr>\n      <th>...</th>\n      <td>...</td>\n      <td>...</td>\n      <td>...</td>\n      <td>...</td>\n      <td>...</td>\n    </tr>\n    <tr>\n      <th>426</th>\n      <td>3rd &amp; M st SE</td>\n      <td>657</td>\n      <td>38.876823</td>\n      <td>-77.002161</td>\n      <td>E-Bike</td>\n    </tr>\n    <tr>\n      <th>427</th>\n      <td>N Hampton Dr &amp; Ford Ave</td>\n      <td>662</td>\n      <td>38.837306</td>\n      <td>-77.106111</td>\n      <td>E-Bike</td>\n    </tr>\n    <tr>\n      <th>428</th>\n      <td>Whiting &amp; Lane Dr</td>\n      <td>663</td>\n      <td>38.809709</td>\n      <td>-77.135788</td>\n      <td>E-Bike</td>\n    </tr>\n    <tr>\n      <th>429</th>\n      <td>N Howard St &amp; Taney Ave</td>\n      <td>664</td>\n      <td>38.815842</td>\n      <td>-77.110014</td>\n      <td>E-Bike</td>\n    </tr>\n    <tr>\n      <th>430</th>\n      <td>Anacostia Roller Skating Pavillion</td>\n      <td>665</td>\n      <td>38.878771</td>\n      <td>-76.970930</td>\n      <td>E-Bike</td>\n    </tr>\n  </tbody>\n</table>\n<p>479 rows × 5 columns</p>\n</div>"
     },
     "metadata": {},
     "execution_count": 17
    }
   ],
   "source": [
    "bike_empty_stat['b_type'] = 'Bike'\n",
    "only_one_bike_stat['b_type'] = 'Bike'\n",
    "e_bike_empty_stat['b_type'] = 'E-Bike'\n",
    "empty_stations = bike_empty_stat.copy()\n",
    "empty_stations = empty_stations.append(e_bike_empty_stat)\n",
    "empty_stations"
   ]
  },
  {
   "cell_type": "code",
   "execution_count": 18,
   "metadata": {},
   "outputs": [
    {
     "output_type": "display_data",
     "data": {
      "application/vnd.plotly.v1+json": {
       "config": {
        "plotlyServerURL": "https://plot.ly"
       },
       "data": [
        {
         "hovertemplate": "<b>%{hovertext}</b><br><br>lat=%{lat}<br>lon=%{lon}<extra></extra>",
         "hovertext": [
          "Calvert & Biltmore St NW",
          "14th St & Spring Rd NW",
          "Good Hope & Naylor Rd SE",
          "3rd & D St SE",
          "Ward Circle / American University",
          "Tenleytown / Wisconsin Ave & Albemarle St NW",
          "Convention Center / 7th & M St NW",
          "3000 Connecticut Ave NW / National Zoo",
          "N Quincy St & Glebe Rd",
          "Fairfax Dr & Wilson Blvd",
          "Central Library / Quincy St & 10th St N",
          "George Mason Dr & Wilson Blvd",
          "Ballston Metro / Stuart St & 9th St N",
          "Fairfax Dr & N Randolph St",
          "Glebe Rd & 11th St N",
          "Utah St & 11th St N",
          "39th & Veazey St NW",
          "18th St & Wyoming Ave NW",
          "12th & Irving St NE",
          "Gravelly Point",
          "Pershing Dr & Wayne St",
          "Rhode Island Ave & V St NE",
          "47th & Elm St",
          "Fenton St & Gist Ave",
          "Offutt Ln & Chevy Chase Dr",
          "Georgia Ave & Spring St",
          "New Jersey Ave & N St NW/Dunbar HS",
          "Yuma St & Tenley Circle NW",
          "Lee Hwy & N Woodstock St",
          "King St Metro North / Cameron St",
          "Wisconsin Ave & Brandywine St NW",
          "Carlin Springs Rd & N Thomas St",
          "Columbus Ave & Gramercy Blvd",
          "Alabama Ave & Stanton Rd SE / Shops at Park Village",
          "4th St & Mississippi Ave SE",
          "Blueridge Ave & Elkin St",
          "7th St & Massachusetts Ave NE",
          "Stanton Square SE",
          "14th & Newton St NW",
          "48th Pl & MacArthur Blvd NW",
          "United Medical Center",
          "Kingman Island/The Fields at RFK",
          "Ridge Rd Community Center",
          "New Hampshire & Lockwood",
          "Wilson Blvd. & N. Vermont St.",
          "14th & D St SE",
          "Kansas Ave & Longfellow St NW",
          "53rd & D St SE/C.W. Harris Elementary"
         ],
         "lat": [
          38.923203,
          38.9375,
          38.86005647007575,
          38.8851,
          38.938736,
          38.947607,
          38.905737,
          38.930282,
          38.876393,
          38.885801,
          38.88397,
          38.87887,
          38.881044,
          38.882629,
          38.883921,
          38.883669,
          38.943837,
          38.918809,
          38.928644,
          38.865029,
          38.880705,
          38.918155,
          38.982456,
          38.989724,
          38.977092999999996,
          38.999388,
          38.90733256111448,
          38.946182,
          38.898301,
          38.80704,
          38.949813,
          38.876695,
          39.12333,
          38.84627,
          38.836,
          39.04313,
          38.89222,
          38.855004,
          38.931991,
          38.9170363119413,
          38.835737,
          38.89595455700754,
          38.876227445751475,
          39.0391022,
          38.87947660895433,
          38.8840581,
          38.958098,
          38.883318
         ],
         "legendgroup": "",
         "lon": [
          -77.047637,
          -77.0328,
          -76.96783974766731,
          -77.0023,
          -77.087171,
          -77.079382,
          -77.02227,
          -77.055599,
          -77.107735,
          -77.097745,
          -77.10783,
          -77.1207,
          -77.111768,
          -77.109366,
          -77.116817,
          -77.113905,
          -77.077078,
          -77.041571,
          -76.990955,
          -77.039511,
          -77.08596,
          -77.004746,
          -77.091991,
          -77.023854,
          -77.094589,
          -77.031555,
          -77.01536044478416,
          -77.08059,
          -77.118009,
          -77.059817,
          -77.080217,
          -77.112982,
          -77.16486,
          -76.98185,
          -77.0009,
          -77.05006,
          -76.99602,
          -76.984512,
          -77.032956,
          -77.0957824587822,
          -76.983144,
          -76.9678448436025,
          -76.94098126958124,
          -76.9918237,
          -77.11456328630447,
          -76.9863852,
          -77.013821,
          -76.925315
         ],
         "marker": {
          "color": "red"
         },
         "mode": "markers",
         "name": "",
         "showlegend": false,
         "subplot": "mapbox",
         "type": "scattermapbox"
        }
       ],
       "layout": {
        "legend": {
         "tracegroupgap": 0
        },
        "mapbox": {
         "center": {
          "lat": 38.91397240114259,
          "lon": -77.04917643647337
         },
         "domain": {
          "x": [
           0,
           1
          ],
          "y": [
           0,
           1
          ]
         },
         "style": "open-street-map",
         "zoom": 10
        },
        "margin": {
         "b": 0,
         "l": 0,
         "r": 0,
         "t": 0
        },
        "template": {
         "data": {
          "bar": [
           {
            "error_x": {
             "color": "#2a3f5f"
            },
            "error_y": {
             "color": "#2a3f5f"
            },
            "marker": {
             "line": {
              "color": "#E5ECF6",
              "width": 0.5
             }
            },
            "type": "bar"
           }
          ],
          "barpolar": [
           {
            "marker": {
             "line": {
              "color": "#E5ECF6",
              "width": 0.5
             }
            },
            "type": "barpolar"
           }
          ],
          "carpet": [
           {
            "aaxis": {
             "endlinecolor": "#2a3f5f",
             "gridcolor": "white",
             "linecolor": "white",
             "minorgridcolor": "white",
             "startlinecolor": "#2a3f5f"
            },
            "baxis": {
             "endlinecolor": "#2a3f5f",
             "gridcolor": "white",
             "linecolor": "white",
             "minorgridcolor": "white",
             "startlinecolor": "#2a3f5f"
            },
            "type": "carpet"
           }
          ],
          "choropleth": [
           {
            "colorbar": {
             "outlinewidth": 0,
             "ticks": ""
            },
            "type": "choropleth"
           }
          ],
          "contour": [
           {
            "colorbar": {
             "outlinewidth": 0,
             "ticks": ""
            },
            "colorscale": [
             [
              0,
              "#0d0887"
             ],
             [
              0.1111111111111111,
              "#46039f"
             ],
             [
              0.2222222222222222,
              "#7201a8"
             ],
             [
              0.3333333333333333,
              "#9c179e"
             ],
             [
              0.4444444444444444,
              "#bd3786"
             ],
             [
              0.5555555555555556,
              "#d8576b"
             ],
             [
              0.6666666666666666,
              "#ed7953"
             ],
             [
              0.7777777777777778,
              "#fb9f3a"
             ],
             [
              0.8888888888888888,
              "#fdca26"
             ],
             [
              1,
              "#f0f921"
             ]
            ],
            "type": "contour"
           }
          ],
          "contourcarpet": [
           {
            "colorbar": {
             "outlinewidth": 0,
             "ticks": ""
            },
            "type": "contourcarpet"
           }
          ],
          "heatmap": [
           {
            "colorbar": {
             "outlinewidth": 0,
             "ticks": ""
            },
            "colorscale": [
             [
              0,
              "#0d0887"
             ],
             [
              0.1111111111111111,
              "#46039f"
             ],
             [
              0.2222222222222222,
              "#7201a8"
             ],
             [
              0.3333333333333333,
              "#9c179e"
             ],
             [
              0.4444444444444444,
              "#bd3786"
             ],
             [
              0.5555555555555556,
              "#d8576b"
             ],
             [
              0.6666666666666666,
              "#ed7953"
             ],
             [
              0.7777777777777778,
              "#fb9f3a"
             ],
             [
              0.8888888888888888,
              "#fdca26"
             ],
             [
              1,
              "#f0f921"
             ]
            ],
            "type": "heatmap"
           }
          ],
          "heatmapgl": [
           {
            "colorbar": {
             "outlinewidth": 0,
             "ticks": ""
            },
            "colorscale": [
             [
              0,
              "#0d0887"
             ],
             [
              0.1111111111111111,
              "#46039f"
             ],
             [
              0.2222222222222222,
              "#7201a8"
             ],
             [
              0.3333333333333333,
              "#9c179e"
             ],
             [
              0.4444444444444444,
              "#bd3786"
             ],
             [
              0.5555555555555556,
              "#d8576b"
             ],
             [
              0.6666666666666666,
              "#ed7953"
             ],
             [
              0.7777777777777778,
              "#fb9f3a"
             ],
             [
              0.8888888888888888,
              "#fdca26"
             ],
             [
              1,
              "#f0f921"
             ]
            ],
            "type": "heatmapgl"
           }
          ],
          "histogram": [
           {
            "marker": {
             "colorbar": {
              "outlinewidth": 0,
              "ticks": ""
             }
            },
            "type": "histogram"
           }
          ],
          "histogram2d": [
           {
            "colorbar": {
             "outlinewidth": 0,
             "ticks": ""
            },
            "colorscale": [
             [
              0,
              "#0d0887"
             ],
             [
              0.1111111111111111,
              "#46039f"
             ],
             [
              0.2222222222222222,
              "#7201a8"
             ],
             [
              0.3333333333333333,
              "#9c179e"
             ],
             [
              0.4444444444444444,
              "#bd3786"
             ],
             [
              0.5555555555555556,
              "#d8576b"
             ],
             [
              0.6666666666666666,
              "#ed7953"
             ],
             [
              0.7777777777777778,
              "#fb9f3a"
             ],
             [
              0.8888888888888888,
              "#fdca26"
             ],
             [
              1,
              "#f0f921"
             ]
            ],
            "type": "histogram2d"
           }
          ],
          "histogram2dcontour": [
           {
            "colorbar": {
             "outlinewidth": 0,
             "ticks": ""
            },
            "colorscale": [
             [
              0,
              "#0d0887"
             ],
             [
              0.1111111111111111,
              "#46039f"
             ],
             [
              0.2222222222222222,
              "#7201a8"
             ],
             [
              0.3333333333333333,
              "#9c179e"
             ],
             [
              0.4444444444444444,
              "#bd3786"
             ],
             [
              0.5555555555555556,
              "#d8576b"
             ],
             [
              0.6666666666666666,
              "#ed7953"
             ],
             [
              0.7777777777777778,
              "#fb9f3a"
             ],
             [
              0.8888888888888888,
              "#fdca26"
             ],
             [
              1,
              "#f0f921"
             ]
            ],
            "type": "histogram2dcontour"
           }
          ],
          "mesh3d": [
           {
            "colorbar": {
             "outlinewidth": 0,
             "ticks": ""
            },
            "type": "mesh3d"
           }
          ],
          "parcoords": [
           {
            "line": {
             "colorbar": {
              "outlinewidth": 0,
              "ticks": ""
             }
            },
            "type": "parcoords"
           }
          ],
          "pie": [
           {
            "automargin": true,
            "type": "pie"
           }
          ],
          "scatter": [
           {
            "marker": {
             "colorbar": {
              "outlinewidth": 0,
              "ticks": ""
             }
            },
            "type": "scatter"
           }
          ],
          "scatter3d": [
           {
            "line": {
             "colorbar": {
              "outlinewidth": 0,
              "ticks": ""
             }
            },
            "marker": {
             "colorbar": {
              "outlinewidth": 0,
              "ticks": ""
             }
            },
            "type": "scatter3d"
           }
          ],
          "scattercarpet": [
           {
            "marker": {
             "colorbar": {
              "outlinewidth": 0,
              "ticks": ""
             }
            },
            "type": "scattercarpet"
           }
          ],
          "scattergeo": [
           {
            "marker": {
             "colorbar": {
              "outlinewidth": 0,
              "ticks": ""
             }
            },
            "type": "scattergeo"
           }
          ],
          "scattergl": [
           {
            "marker": {
             "colorbar": {
              "outlinewidth": 0,
              "ticks": ""
             }
            },
            "type": "scattergl"
           }
          ],
          "scattermapbox": [
           {
            "marker": {
             "colorbar": {
              "outlinewidth": 0,
              "ticks": ""
             }
            },
            "type": "scattermapbox"
           }
          ],
          "scatterpolar": [
           {
            "marker": {
             "colorbar": {
              "outlinewidth": 0,
              "ticks": ""
             }
            },
            "type": "scatterpolar"
           }
          ],
          "scatterpolargl": [
           {
            "marker": {
             "colorbar": {
              "outlinewidth": 0,
              "ticks": ""
             }
            },
            "type": "scatterpolargl"
           }
          ],
          "scatterternary": [
           {
            "marker": {
             "colorbar": {
              "outlinewidth": 0,
              "ticks": ""
             }
            },
            "type": "scatterternary"
           }
          ],
          "surface": [
           {
            "colorbar": {
             "outlinewidth": 0,
             "ticks": ""
            },
            "colorscale": [
             [
              0,
              "#0d0887"
             ],
             [
              0.1111111111111111,
              "#46039f"
             ],
             [
              0.2222222222222222,
              "#7201a8"
             ],
             [
              0.3333333333333333,
              "#9c179e"
             ],
             [
              0.4444444444444444,
              "#bd3786"
             ],
             [
              0.5555555555555556,
              "#d8576b"
             ],
             [
              0.6666666666666666,
              "#ed7953"
             ],
             [
              0.7777777777777778,
              "#fb9f3a"
             ],
             [
              0.8888888888888888,
              "#fdca26"
             ],
             [
              1,
              "#f0f921"
             ]
            ],
            "type": "surface"
           }
          ],
          "table": [
           {
            "cells": {
             "fill": {
              "color": "#EBF0F8"
             },
             "line": {
              "color": "white"
             }
            },
            "header": {
             "fill": {
              "color": "#C8D4E3"
             },
             "line": {
              "color": "white"
             }
            },
            "type": "table"
           }
          ]
         },
         "layout": {
          "annotationdefaults": {
           "arrowcolor": "#2a3f5f",
           "arrowhead": 0,
           "arrowwidth": 1
          },
          "autotypenumbers": "strict",
          "coloraxis": {
           "colorbar": {
            "outlinewidth": 0,
            "ticks": ""
           }
          },
          "colorscale": {
           "diverging": [
            [
             0,
             "#8e0152"
            ],
            [
             0.1,
             "#c51b7d"
            ],
            [
             0.2,
             "#de77ae"
            ],
            [
             0.3,
             "#f1b6da"
            ],
            [
             0.4,
             "#fde0ef"
            ],
            [
             0.5,
             "#f7f7f7"
            ],
            [
             0.6,
             "#e6f5d0"
            ],
            [
             0.7,
             "#b8e186"
            ],
            [
             0.8,
             "#7fbc41"
            ],
            [
             0.9,
             "#4d9221"
            ],
            [
             1,
             "#276419"
            ]
           ],
           "sequential": [
            [
             0,
             "#0d0887"
            ],
            [
             0.1111111111111111,
             "#46039f"
            ],
            [
             0.2222222222222222,
             "#7201a8"
            ],
            [
             0.3333333333333333,
             "#9c179e"
            ],
            [
             0.4444444444444444,
             "#bd3786"
            ],
            [
             0.5555555555555556,
             "#d8576b"
            ],
            [
             0.6666666666666666,
             "#ed7953"
            ],
            [
             0.7777777777777778,
             "#fb9f3a"
            ],
            [
             0.8888888888888888,
             "#fdca26"
            ],
            [
             1,
             "#f0f921"
            ]
           ],
           "sequentialminus": [
            [
             0,
             "#0d0887"
            ],
            [
             0.1111111111111111,
             "#46039f"
            ],
            [
             0.2222222222222222,
             "#7201a8"
            ],
            [
             0.3333333333333333,
             "#9c179e"
            ],
            [
             0.4444444444444444,
             "#bd3786"
            ],
            [
             0.5555555555555556,
             "#d8576b"
            ],
            [
             0.6666666666666666,
             "#ed7953"
            ],
            [
             0.7777777777777778,
             "#fb9f3a"
            ],
            [
             0.8888888888888888,
             "#fdca26"
            ],
            [
             1,
             "#f0f921"
            ]
           ]
          },
          "colorway": [
           "#636efa",
           "#EF553B",
           "#00cc96",
           "#ab63fa",
           "#FFA15A",
           "#19d3f3",
           "#FF6692",
           "#B6E880",
           "#FF97FF",
           "#FECB52"
          ],
          "font": {
           "color": "#2a3f5f"
          },
          "geo": {
           "bgcolor": "white",
           "lakecolor": "white",
           "landcolor": "#E5ECF6",
           "showlakes": true,
           "showland": true,
           "subunitcolor": "white"
          },
          "hoverlabel": {
           "align": "left"
          },
          "hovermode": "closest",
          "mapbox": {
           "style": "light"
          },
          "paper_bgcolor": "white",
          "plot_bgcolor": "#E5ECF6",
          "polar": {
           "angularaxis": {
            "gridcolor": "white",
            "linecolor": "white",
            "ticks": ""
           },
           "bgcolor": "#E5ECF6",
           "radialaxis": {
            "gridcolor": "white",
            "linecolor": "white",
            "ticks": ""
           }
          },
          "scene": {
           "xaxis": {
            "backgroundcolor": "#E5ECF6",
            "gridcolor": "white",
            "gridwidth": 2,
            "linecolor": "white",
            "showbackground": true,
            "ticks": "",
            "zerolinecolor": "white"
           },
           "yaxis": {
            "backgroundcolor": "#E5ECF6",
            "gridcolor": "white",
            "gridwidth": 2,
            "linecolor": "white",
            "showbackground": true,
            "ticks": "",
            "zerolinecolor": "white"
           },
           "zaxis": {
            "backgroundcolor": "#E5ECF6",
            "gridcolor": "white",
            "gridwidth": 2,
            "linecolor": "white",
            "showbackground": true,
            "ticks": "",
            "zerolinecolor": "white"
           }
          },
          "shapedefaults": {
           "line": {
            "color": "#2a3f5f"
           }
          },
          "ternary": {
           "aaxis": {
            "gridcolor": "white",
            "linecolor": "white",
            "ticks": ""
           },
           "baxis": {
            "gridcolor": "white",
            "linecolor": "white",
            "ticks": ""
           },
           "bgcolor": "#E5ECF6",
           "caxis": {
            "gridcolor": "white",
            "linecolor": "white",
            "ticks": ""
           }
          },
          "title": {
           "x": 0.05
          },
          "xaxis": {
           "automargin": true,
           "gridcolor": "white",
           "linecolor": "white",
           "ticks": "",
           "title": {
            "standoff": 15
           },
           "zerolinecolor": "white",
           "zerolinewidth": 2
          },
          "yaxis": {
           "automargin": true,
           "gridcolor": "white",
           "linecolor": "white",
           "ticks": "",
           "title": {
            "standoff": 15
           },
           "zerolinecolor": "white",
           "zerolinewidth": 2
          }
         }
        }
       }
      }
     },
     "metadata": {}
    }
   ],
   "source": [
    "# Empty Bike Stations (0 bikes)\n",
    "\n",
    "fig = px.scatter_mapbox(bike_empty_stat,\n",
    "                    lat='lat',\n",
    "                    lon='lon',\n",
    "                    hover_name=\"street\",\n",
    "                    color_discrete_sequence=['red'],\n",
    "                    zoom=10)\n",
    "\n",
    "fig.update_layout(mapbox_style=\"open-street-map\")\n",
    "#fig.update_layout(title = 'All Bike Stations')\n",
    "fig.update_layout(margin={\"r\":0,\"t\":0,\"l\":0,\"b\":0})\n",
    "fig.show()"
   ]
  },
  {
   "cell_type": "code",
   "execution_count": 19,
   "metadata": {},
   "outputs": [
    {
     "output_type": "display_data",
     "data": {
      "application/vnd.plotly.v1+json": {
       "config": {
        "plotlyServerURL": "https://plot.ly"
       },
       "data": [
        {
         "hovertemplate": "<b>%{hovertext}</b><br><br>b_type=Bike<br>lat=%{lat}<br>lon=%{lon}<extra></extra>",
         "hovertext": [
          "Calvert & Biltmore St NW",
          "14th St & Spring Rd NW",
          "Good Hope & Naylor Rd SE",
          "3rd & D St SE",
          "Ward Circle / American University",
          "Tenleytown / Wisconsin Ave & Albemarle St NW",
          "Convention Center / 7th & M St NW",
          "3000 Connecticut Ave NW / National Zoo",
          "N Quincy St & Glebe Rd",
          "Fairfax Dr & Wilson Blvd",
          "Central Library / Quincy St & 10th St N",
          "George Mason Dr & Wilson Blvd",
          "Ballston Metro / Stuart St & 9th St N",
          "Fairfax Dr & N Randolph St",
          "Glebe Rd & 11th St N",
          "Utah St & 11th St N",
          "39th & Veazey St NW",
          "18th St & Wyoming Ave NW",
          "12th & Irving St NE",
          "Gravelly Point",
          "Pershing Dr & Wayne St",
          "Rhode Island Ave & V St NE",
          "47th & Elm St",
          "Fenton St & Gist Ave",
          "Offutt Ln & Chevy Chase Dr",
          "Georgia Ave & Spring St",
          "New Jersey Ave & N St NW/Dunbar HS",
          "Yuma St & Tenley Circle NW",
          "Lee Hwy & N Woodstock St",
          "King St Metro North / Cameron St",
          "Wisconsin Ave & Brandywine St NW",
          "Carlin Springs Rd & N Thomas St",
          "Columbus Ave & Gramercy Blvd",
          "Alabama Ave & Stanton Rd SE / Shops at Park Village",
          "4th St & Mississippi Ave SE",
          "Blueridge Ave & Elkin St",
          "7th St & Massachusetts Ave NE",
          "Stanton Square SE",
          "14th & Newton St NW",
          "48th Pl & MacArthur Blvd NW",
          "United Medical Center",
          "Kingman Island/The Fields at RFK",
          "Ridge Rd Community Center",
          "New Hampshire & Lockwood",
          "Wilson Blvd. & N. Vermont St.",
          "14th & D St SE",
          "Kansas Ave & Longfellow St NW",
          "53rd & D St SE/C.W. Harris Elementary"
         ],
         "lat": [
          38.923203,
          38.9375,
          38.86005647007575,
          38.8851,
          38.938736,
          38.947607,
          38.905737,
          38.930282,
          38.876393,
          38.885801,
          38.88397,
          38.87887,
          38.881044,
          38.882629,
          38.883921,
          38.883669,
          38.943837,
          38.918809,
          38.928644,
          38.865029,
          38.880705,
          38.918155,
          38.982456,
          38.989724,
          38.977092999999996,
          38.999388,
          38.90733256111448,
          38.946182,
          38.898301,
          38.80704,
          38.949813,
          38.876695,
          39.12333,
          38.84627,
          38.836,
          39.04313,
          38.89222,
          38.855004,
          38.931991,
          38.9170363119413,
          38.835737,
          38.89595455700754,
          38.876227445751475,
          39.0391022,
          38.87947660895433,
          38.8840581,
          38.958098,
          38.883318
         ],
         "legendgroup": "Bike",
         "lon": [
          -77.047637,
          -77.0328,
          -76.96783974766731,
          -77.0023,
          -77.087171,
          -77.079382,
          -77.02227,
          -77.055599,
          -77.107735,
          -77.097745,
          -77.10783,
          -77.1207,
          -77.111768,
          -77.109366,
          -77.116817,
          -77.113905,
          -77.077078,
          -77.041571,
          -76.990955,
          -77.039511,
          -77.08596,
          -77.004746,
          -77.091991,
          -77.023854,
          -77.094589,
          -77.031555,
          -77.01536044478416,
          -77.08059,
          -77.118009,
          -77.059817,
          -77.080217,
          -77.112982,
          -77.16486,
          -76.98185,
          -77.0009,
          -77.05006,
          -76.99602,
          -76.984512,
          -77.032956,
          -77.0957824587822,
          -76.983144,
          -76.9678448436025,
          -76.94098126958124,
          -76.9918237,
          -77.11456328630447,
          -76.9863852,
          -77.013821,
          -76.925315
         ],
         "marker": {
          "color": "#636efa"
         },
         "mode": "markers",
         "name": "Bike",
         "showlegend": true,
         "subplot": "mapbox",
         "type": "scattermapbox"
        },
        {
         "hovertemplate": "<b>%{hovertext}</b><br><br>b_type=E-Bike<br>lat=%{lat}<br>lon=%{lon}<extra></extra>",
         "hovertext": [
          "Eads St & 15th St S",
          "18th St & S Eads St",
          "Crystal Dr & 20th St S",
          "Crystal Dr & 15th St S",
          "Aurora Hills Cmty Ctr / 18th St & S Hayes St",
          "Army Navy Dr & S Joyce St",
          "Crystal City Metro / 18th St & S Bell St",
          "Crystal Dr & 27th St S",
          "S Glebe Rd & Potomac Ave",
          "Crystal Dr & 23rd St S",
          "Clark St & 26th St S",
          "19th St & Pennsylvania Ave NW",
          "14th & V St NW",
          "11th & Kenyon St NW",
          "15th & Harvard St NW",
          "14th & Harvard St NW",
          "4th & M St SW",
          "15th & P St NW",
          "14th & R St NW",
          "14th & Rhode Island Ave NW",
          "20th & E St NW",
          "21st & I St NW",
          "Georgia & New Hampshire Ave NW",
          "John McCormack Dr & Michigan Ave NE",
          "5th & K St NW",
          "19th & East Capitol St SE",
          "Park Rd & Holmead Pl NW",
          "Connecticut Ave & Newark St NW / Cleveland Park",
          "Minnesota Ave Metro/DOES",
          "Nannie Helen Burroughs & Minnesota Ave NE",
          "Anacostia Metro",
          "19th & E Street NW",
          "10th & U St NW",
          "Georgia Ave and Fairmont St NW",
          "1st & N St  SE",
          "20th St & Florida Ave NW",
          "7th & T St NW",
          "Eads St & 22nd St S",
          "M St & New Jersey Ave SE",
          "Massachusetts Ave & Dupont Circle NW",
          "1st & M St NE",
          "New Hampshire Ave & Ward Pl NW",
          "3rd & H St NW",
          "13th & E St SE",
          "17th & Corcoran St NW",
          "Van Ness Metro / UDC",
          "Florida Ave & R St NW",
          "8th & Eye St SE / Barracks Row",
          "Eastern Market / 7th & North Carolina Ave SE",
          "14th St & New York Ave NW",
          "Benning Branch Library",
          "USDA / 12th & C St SW",
          "Georgetown Harbor / 30th St NW",
          "12th & Newton St NE",
          "L'Enfant Plaza / 7th & C St SW",
          "10th St & Constitution Ave NW",
          "Eastern Market Metro / Pennsylvania Ave & 8th St SE",
          "18th & M St NW",
          "5th & F St NW",
          "New York Ave & 15th St NW",
          "Harvard St & Adams Mill Rd NW",
          "18th & L St NW",
          "Maine Ave & 7th St SW",
          "13th St & New York Ave NW",
          "10th & Monroe St NE",
          "Eckington Pl & Q St NE",
          "6th & H St NE",
          "3rd & H St NE",
          "Bladensburg Rd & Benning Rd NE",
          "4th & East Capitol St NE",
          "Branch & Pennsylvania Ave SE",
          "13th & D St NE",
          "New Hampshire Ave & T St NW",
          "14th & D St NW / Ronald Reagan Building",
          "7th & F St NW / National Portrait Gallery",
          "20th & O St NW / Dupont South",
          "4th & D St NW / Judiciary Square",
          "19th St & Constitution Ave NW",
          "37th & O St NW / Georgetown University",
          "25th St & Pennsylvania Ave NW",
          "Columbus Circle / Union Station",
          "North Capitol St & F St NW",
          "11th & M St NW",
          "14th & G St NW",
          "11th & F St NW",
          "23rd & E St NW ",
          "Rosslyn Metro / Wilson Blvd & Ft Myer Dr",
          "Clarendon Blvd & Pierce St",
          "Wilson Blvd & N Uhle St",
          "Rhodes St & 16th St N",
          "Fairfax Village",
          "21st St & Constitution Ave NW",
          "Wilson Blvd & N Edgewood St",
          "Rhode Island & Connecticut Ave NW",
          "Thomas Circle",
          "Wilson Blvd & N Franklin Rd",
          "Clarendon Metro / Wilson Blvd & N Highland St",
          "18th St & Pennsylvania Ave NW",
          "4th & C St SW",
          "4th & E St SW",
          "3rd & G St SE",
          "7th & R St NW / Shaw Library",
          "9th & Upshur St NW",
          "1st & Rhode Island Ave NW",
          "Benning Rd & East Capitol St NE / Benning Rd Metro",
          "Anacostia Ave & Benning Rd NE / River Terrace ",
          "15th St & Massachusetts Ave SE",
          "Congress Heights Metro",
          "N Veitch St & 20th St N",
          "10th & K St NW",
          "1st & K St SE",
          "1st & Washington Hospital Center NW",
          "Washington Blvd & 10th St N",
          "Jefferson Dr & 14th St SW",
          "N Veitch St & Key Blvd",
          "Lee Hwy & N Adams St",
          "15th St & N Scott St",
          "Washington Blvd & 7th St N",
          "Jefferson Memorial",
          "Good Hope Rd & 14th St SE",
          "Wilson Blvd & N Quincy St",
          "GMU / Fairfax Dr & Kenmore St",
          "Gallaudet / 8th St & Florida Ave NE",
          "20th & L St NW",
          "12th & L St NW",
          "21st St & Pennsylvania Ave NW",
          "19th & K St NW",
          "Prince St & Union St",
          "St Asaph & Pendleton St",
          "King St & Patrick St",
          "15th & K St NW",
          "Commerce St & Fayette St",
          "Henry St & Pendleton St",
          "Braddock Rd Metro",
          "King St Metro South",
          "22nd & I St NW / Foggy Bottom",
          "Barton St & 10th St N",
          "Arlington Blvd & N Queen St",
          "Lincoln Memorial",
          "20th St & Virginia Ave NW",
          "Fessenden St & Wisconsin Ave NW",
          "3rd & M St NE",
          "Columbia Pike & S Courthouse Rd",
          "5th & Kennedy St NW",
          "Georgia Ave & Emerson St NW",
          "14th & Upshur St NW",
          "14th St & Colorado Ave NW",
          "Troy St & 26th St S",
          "Four Mile Run Dr & S Shirlington Rd",
          "Columbia Pike & S Oakland St",
          "Four Mile Run Dr & S Walter Reed Dr",
          "S Arlington Mill Dr & Campbell Ave",
          "Kenmore St & 24th St S",
          "15th & Euclid St  NW",
          "8th & East Capitol St NE",
          "New Jersey Ave & R St NW",
          "18th St & Rhode Island Ave NE",
          "15th & F St NE",
          "Pleasant St & MLK Ave SE",
          "12th & U St NW",
          "S George Mason & Four Mile Run Dr",
          "3rd St & Pennsylvania Ave SE",
          "8th & D St NW",
          "3rd & Elm St NW",
          "Independence Ave & L'Enfant Plaza SW/DOE",
          "Hamlin & 7th St NE",
          "Arlington Mill Cmty Center / Columbia Pike & S Dinwiddie St",
          "Bethesda Ave & Arlington Rd",
          "Montgomery Ave & Waverly St ",
          "Fallsgrove Blvd & Fallsgrove Dr",
          "Norfolk Ave & Fairmont St",
          "E Montgomery Ave & Maryland Ave",
          "Frederick Ave & Horners Ln",
          "Philadelphia & Maple Ave",
          "Maple & Ritchie Ave",
          "Silver Spring Metro / Colesville Rd & Wayne Ave",
          "14th & Belmont St NW",
          "3rd & Tingey St SE",
          "Fallsgrove Dr & W Montgomery Ave",
          "Monroe St & Monroe Pl",
          "Needwood Rd & Eagles Head Ct",
          "East West Hwy & Blair Mill Rd",
          "Dennis Ave & Amherst Ave",
          "Montgomery College / W Campus Dr & Mannakee St",
          "Carroll & Westmoreland Ave",
          "Carroll & Ethan Allen Ave",
          "Norfolk & Rugby Ave",
          "Fleet St & Ritchie Pkwy",
          "Piccard & W Gude Dr",
          "Silver Spring Transit Center - Top Level",
          "King Farm Blvd & Pleasant Dr",
          "Calvert St & Woodley Pl NW",
          "Nannie Helen Burroughs Ave & 49th St NE",
          "Hains Point/Buckeye & Ohio Dr SW",
          "Arlington Blvd & Fillmore St",
          "Eads St & 12th St S",
          "North Capitol St & G Pl NE",
          "31st St & S Woodrow St",
          "Washington Blvd & Walter Reed Dr ",
          "Connecticut Ave & Tilden St NW",
          "Medical Center Dr & Key West Ave",
          "Shady Grove Hospital",
          "Rockville Metro East",
          "Fort Totten Metro",
          "Takoma Metro",
          "Rhode Island Ave Metro",
          "Rolfe St & 9th St S",
          "Shirlington Transit Center / Quincy St & Randolph St",
          "Shady Grove Metro West",
          "Rockville Metro West",
          "Iwo Jima Memorial / Meade & 14th St N",
          "Duke St & John Carlyle St",
          "Lee Hwy & N Cleveland St",
          "Arlington Blvd & S George Mason Dr",
          "10th & G St NW",
          "New Hampshire Ave & 24th St NW",
          "Potomac Greens Dr & Slaters Ln",
          "Ballenger Ave & Dulaney St",
          "Mount Vernon Ave & E Nelson Ave",
          "Mount Vernon Ave & E Del Ray Ave",
          "Monroe Ave & Leslie Ave",
          "Mount Vernon Ave & Kennedy St",
          "Court House Metro / 15th St & N Uhle St",
          "Long Bridge Park / Long Bridge Dr & 6th St S",
          "Connecticut Ave & McKinley St NW",
          "17th & G St NW",
          "Spring St & 2nd Ave",
          "18th & R St NW",
          "Joyce St & 16th St S",
          "21st St & N Pierce St",
          "Lee Hwy & N Kirkwood Rd",
          "19th & G St NW",
          "2nd St & Seaton Pl NE",
          "Wilson Blvd & N Illinois St ",
          "Walter Reed Dr & 8th St S",
          "2nd & G St NE",
          "8th & O St NW",
          "Maryland Ave & E St NE",
          "Key West Ave & Siesta Key Way",
          "Saint Asaph St & Madison St",
          "Madison St & N Henry St",
          "Washington Blvd & N Frederick St",
          "Wisconsin Ave & Ingomar St NW",
          "14th & L St NW",
          "1st & O St NW",
          "South Capitol & Atlantic St SW",
          "18th & C St NW",
          "East West Hwy & 16th St",
          "Royal St & Wilkes St",
          "14th & Girard St NW",
          "11th & O St NW",
          "10th St & L'Enfant Plaza SW",
          "Connecticut Ave & Yuma St NW",
          "2nd St & Massachusetts Ave NE",
          "Radford St & Osage St",
          "East Falls Church Metro / Sycamore St & 19th St N",
          "Commonwealth Ave & E Monroe Ave",
          "4th St & Madison Dr NW",
          "17th St & Independence Ave SW",
          "Franklin St & S Washington St",
          "Mount Vernon Ave & Four Mile Run Park",
          "4th St & K St NW",
          "Mount Vernon Ave & Bruce St",
          "Lee Center",
          "Powhatan St & Bashford Ln",
          "Potomac Ave & Swann Ave",
          "14th & Irving St NW",
          "Vermont Ave & I St NW",
          "24th & R St NE / National Arboretum",
          "Division Ave & Foote St NE",
          "16th & Q St SE / Anacostia HS",
          "Spring Hill Metro",
          "Westpark Dr & Leesburg Pike",
          "Tysons One Pl & Chain Bridge Rd",
          "Tysons Corner Station",
          "Westpark & Jones Branch Dr",
          "Jones Branch & Westbranch Dr",
          "Westpark & Park Run Dr",
          "North Shore & Cameron Crescent Dr/Crescent Apartments",
          "Town Center Pkwy & Bowman Towne Dr",
          "Reston Regional Library",
          "New Dominion Pkwy & Fountain Dr",
          "Sunset Hills & Old Reston Ave",
          "Reston Town Center Transit Station",
          "Wiehle Ave & Reston Station Blvd",
          "Library St & Freedom Dr",
          "Sunset Hills Rd & Discovery Square",
          "22nd St & Constitution Ave NW",
          "61st St & Banks Pl NE",
          "Temporary Rd & Old Reston Ave",
          "Reston YMCA",
          "Sunset Hills Rd & Isaac Newton Square",
          "Greensboro & International Dr",
          "Sligo Ave & Carroll Ln",
          "12th St & Pennsylvania Ave SE",
          "3rd St & Riggs Rd NE",
          "Towers Crescent Dr & Tysons One Pl",
          "6th & K St NE",
          "Takoma Park Rec Center",
          "New Hampshire & Kirklynn Ave",
          "Wheaton Metro / Georgia Ave & Reedie Dr",
          "Amherst Ave & Elkins St",
          "Amherst Ave & Prichard Rd",
          "Windham Ln & Amherst Ave",
          "North Shore Dr & Village Rd",
          "Town Center Pkwy & Sunset Hills Rd",
          "7th & E St SW",
          "Shady Grove Metro East",
          "Columbia & Ontario Rd NW",
          "Washington-Liberty High School / N Stafford St & Generals Way",
          "Columbia Pike & S Taylor St",
          "Columbus Ave & Tribeca St",
          "Reston Pkwy & Spectrum Dr",
          "Key West Ave & Great Seneca Hwy",
          "Virginia Ave & 25th St NW",
          "15th & M St NW",
          "11th & Girard St NW",
          "Connecticut Ave & R St NW",
          "American University East Campus",
          "15th St & Constitution Ave NW",
          "23rd & M St NW",
          "Corporate Blvd & Omega Dr",
          "Key West Ave & Diamondback Dr",
          "19th & Savannah St SE",
          "1st & S Capitol St SE / Oxon Run Trail",
          "Livingston Rd & 3rd St SE",
          "Joliet St & MLK Ave SW/Bald Eagle Rec Ctr",
          "37th & Ely Pl SE",
          "15th St & Pennsylvania Ave NW",
          "Maine Ave & 9th St SW",
          "Lincoln Rd & Seaton Pl NE/Harry Thomas Rec Center",
          "Georgia Ave & Kennedy St NW",
          "Anacostia Park",
          "Twinbrook Metro",
          "White Flint Metro",
          "Citadel Ave & McGrath Blvd",
          "Rockville Pike & Old Georgetown Rd",
          "Executive Blvd & E Jefferson St",
          "Fishers Ln & Rock Creek Mill Rd",
          "Congressional Ln & E Jefferson St",
          "Greensboro & Pinnacle Dr",
          "1301 McCormick Dr / Wayne K. Curry Admin Bldg",
          "Baltimore Ave & Van Buren St / Riverdale Park Station",
          "Perry & 35th St",
          "Rockville Pike & Meeting St",
          "Potomac Ave & Half St SW",
          "Largo Rd & Campus Way / Prince Georges's Comm Col",
          "14th & Luzon St NW",
          "1st & M St SE",
          "Fleet St & Waterfront St",
          "11th & Park Rd NW",
          "4th & M St SE",
          "Kansas Ave & Sherman Cr NW",
          "Campus Commons",
          "Park Run & Onyx Dr",
          "7th & K St NW",
          "King Greenleaf Rec Center",
          "New Jersey Ave & F St NW",
          "Massachusetts Ave & 6th St NE",
          "Woodley Park Metro / Calvert St & Connecticut Ave NW",
          "Rosedale Rec Center",
          "New Hampshire & Gallatin St NW",
          "18th & New Hampshire Ave NW",
          "Dunn Loring Metro",
          "Oglethorpe St & 42nd Ave",
          "Southern Ave Metro",
          "Northwestern High School",
          "Rhode Island Ave & 39th St / Brentwood Arts Exchange",
          "Riggs Rd & East West Hwy",
          "Chillum Rd & Riggs Rd / Riggs Plaza",
          "George Mason High School / Haycock Rd & Leesburg Pike",
          "State Theatre / Park Pl & N Washington St",
          "N Oak St & W Broad St",
          "Pennsylvania Ave & Park Ave",
          "E Fairfax St & S Washington St",
          "N Roosevelt St & Roosevelt Blvd",
          "W Broad St & Little Falls St",
          "Falls Church City Hall / Park Ave & Little Falls St",
          "West Falls Church Metro",
          "Jones Branch Drive & Scotts Crossing Rd",
          "Georgia Ave & Morton St NW",
          "Merrilee Dr & Lauren Elizabeth Lane",
          "Merrifield Cinema & Merrifield Town Center",
          "Rhode Island & Montana Ave NE",
          "North Capitol & R St NE",
          "17th & Upshur St NW",
          "Grant Circle",
          "John McCormack Rd NE",
          "West Hyattsville Metro",
          "Capitol Heights Metro",
          "Riverdale Park Town Center",
          "The Mall at Prince Georges",
          "Wheaton Library & Community Rec Center",
          "8th & K St NE",
          "Kenilworth Terrace & Hayes St. NE",
          "National Harbor Carousel",
          "Valley Ave & Wheeler Rd SE",
          "Fort Stanton Rec Center",
          "22nd & H St NW",
          "8th & H St NE",
          "The Shoppes @ Burnt Mills",
          "Briggs Chaney & Castle Dr",
          "White Oak Rec Center",
          "Briggs Chaney Park & Ride",
          "Stewart & April",
          "Stewart Ln & Old Columbia Pike",
          "Castle Blvd & Castle Ln",
          "Oak Leaf & Lockwood",
          "White Oak Transit Center",
          "Minnesota Ave & R St SE",
          "Vy Reston Heights",
          "1st & K St NE",
          "Wheeler Ave & S. Floyd St.",
          "N. Beauregard St. & Berkley St.",
          "Mt Vernon Trail & S. Washington St.",
          "Capitol Ave & Kendall St NE",
          "Half & Water St SW",
          "14th & Q St NW",
          "13th & U St NW",
          "Duke St & Strand (Robinson Terminal)",
          "21st St & G st NW",
          "4th St & G St SW",
          "National Airport",
          "Arlington Blvd & Ft Myer Dr",
          "23rd St S & Hayes St",
          "2nd & V St SW / James Creek Marina",
          "3rd & M st SE",
          "N Hampton Dr & Ford Ave",
          "Whiting & Lane Dr",
          "N Howard St & Taney Ave",
          "Anacostia Roller Skating Pavillion"
         ],
         "lat": [
          38.858971,
          38.85725,
          38.856425,
          38.861056,
          38.857866,
          38.8637,
          38.85740496261504,
          38.848466,
          38.8426,
          38.852929,
          38.850688,
          38.9003,
          38.9177645,
          38.929464,
          38.92612422246211,
          38.9268,
          38.876697,
          38.90980062655191,
          38.913046,
          38.9086,
          38.8963,
          38.90071062547463,
          38.9366839345886,
          38.9346,
          38.90304,
          38.8896,
          38.9308,
          38.934267,
          38.897063,
          38.901385,
          38.862669,
          38.8952,
          38.9172,
          38.9249,
          38.8743,
          38.9154,
          38.9155,
          38.85438051517749,
          38.8763,
          38.9101,
          38.905697,
          38.90571079190728,
          38.899408,
          38.88291548476762,
          38.9121,
          38.944551,
          38.9126,
          38.8792,
          38.886952,
          38.899632,
          38.894,
          38.88627694506511,
          38.902314,
          38.933668,
          38.886266,
          38.893028,
          38.884260087971725,
          38.90506687455313,
          38.897222,
          38.89903234416315,
          38.927872,
          38.903741450919384,
          38.878693599396954,
          38.900283,
          38.932514,
          38.910972,
          38.899972,
          38.900412,
          38.900413,
          38.889955,
          38.8692,
          38.894832,
          38.915544,
          38.894514,
          38.89728304853854,
          38.908905,
          38.895344,
          38.8923,
          38.90774,
          38.903827,
          38.89696,
          38.897446,
          38.9055785,
          38.898409,
          38.897857,
          38.896104,
          38.8946,
          38.893438,
          38.891696,
          38.892164,
          38.86559,
          38.892459,
          38.889,
          38.905995699991145,
          38.9059,
          38.8904,
          38.88786,
          38.899680000000004,
          38.88637194054526,
          38.88412,
          38.881185,
          38.912719,
          38.9418,
          38.915417,
          38.889935,
          38.896544,
          38.88732,
          38.844711,
          38.896923,
          38.9024,
          38.878854378063295,
          38.928743,
          38.884734,
          38.8885525,
          38.893237,
          38.89593,
          38.89054,
          38.88081,
          38.879819,
          38.866611,
          38.880012,
          38.884616,
          38.90509,
          38.903584,
          38.903819,
          38.901539,
          38.902204,
          38.803124,
          38.81074147938705,
          38.805317,
          38.902,
          38.805648,
          38.811456,
          38.814577,
          38.80576284873485,
          38.90088,
          38.884961,
          38.889365,
          38.888255,
          38.894722,
          38.954812,
          38.905469714943266,
          38.863833,
          38.956555547721955,
          38.949662000000004,
          38.942475355602845,
          38.956432,
          38.847977,
          38.8444,
          38.860789,
          38.84736,
          38.84232,
          38.848454,
          38.92333,
          38.889988,
          38.912659,
          38.927095,
          38.897194999999996,
          38.863897,
          38.916787,
          38.852248,
          38.887378,
          38.894851,
          38.917622,
          38.887312,
          38.927497,
          38.856319,
          38.981103,
          38.983838,
          39.096312,
          38.988562,
          39.084125,
          39.094772,
          38.98128,
          38.983627,
          38.99489580319022,
          38.921074,
          38.87501,
          39.099376,
          39.083673,
          39.123513,
          38.990249,
          39.02538719623632,
          39.095661,
          38.975,
          38.977933,
          38.990639,
          39.076331,
          39.102212,
          38.99403485060837,
          39.114688,
          38.923583,
          38.898536,
          38.878433,
          38.873755,
          38.862753,
          38.899703,
          38.8378458,
          38.873219,
          38.94113915653008,
          39.103091,
          39.097636,
          39.085394,
          38.952369,
          38.975219,
          38.920682,
          38.866471,
          38.839912,
          39.119765,
          39.084379,
          38.889920000000004,
          38.804378,
          38.894941,
          38.869442,
          38.89824328774852,
          38.901755,
          38.82175,
          38.802677,
          38.820064,
          38.82595,
          38.820932,
          38.833077,
          38.890612,
          38.865553,
          38.96454350924588,
          38.898282949523605,
          38.997653,
          38.912648,
          38.859254,
          38.898984,
          38.895377,
          38.898412,
          38.914751108831155,
          38.876528,
          38.86612,
          38.89967,
          38.90864,
          38.89608815884687,
          39.105295,
          38.812718,
          38.813485,
          38.884829,
          38.958267,
          38.903658,
          38.908643,
          38.831516,
          38.893511,
          38.995681,
          38.799267,
          38.925284,
          38.90843,
          38.88432272414662,
          38.947156,
          38.894972,
          38.828437,
          38.88532071975074,
          38.82005823354218,
          38.8904955,
          38.888097,
          38.798133,
          38.843422,
          38.90240556584194,
          38.841291,
          38.797557,
          38.818748,
          38.829545,
          38.928552,
          38.901136451737045,
          38.91263,
          38.897407,
          38.870695,
          38.929261,
          38.92403,
          38.919475,
          38.920939,
          38.924437,
          38.931911,
          38.928919,
          38.970045999999996,
          38.962524,
          38.962095,
          38.960574,
          38.955079,
          38.957037,
          38.946607921214984,
          38.959633,
          38.95534,
          38.892441,
          38.891805,
          38.960084,
          38.955314,
          38.951443,
          38.923083,
          38.990874,
          38.882489,
          38.957463,
          38.915246,
          38.90293157359119,
          38.98265,
          38.988101,
          39.038423828518326,
          39.044887,
          39.035965,
          39.032029,
          38.970412,
          38.955170598044894,
          38.88345,
          39.121327,
          38.924088,
          38.888282,
          38.858524,
          39.12582811177034,
          38.964207741006206,
          39.105642,
          38.8995,
          38.905424,
          38.925636,
          38.912644,
          38.936298,
          38.892244,
          38.905303,
          39.106971,
          39.106152,
          38.84623,
          38.824481,
          38.82373,
          38.81909,
          38.883011,
          38.89646474748647,
          38.88044,
          38.915,
          38.95674,
          38.87335,
          39.062041,
          39.04753,
          39.049,
          39.049765,
          39.04873,
          39.0629,
          39.06219,
          38.92245,
          38.908391,
          38.969581,
          38.936213,
          39.050539,
          38.86968314861632,
          38.88994,
          38.969489,
          38.876893,
          38.782633,
          38.93132185874559,
          38.876751,
          38.94796174822241,
          38.944707,
          38.92755,
          38.902674,
          38.876211,
          38.897108,
          38.892934,
          38.923389,
          38.897808,
          38.951596,
          38.911268,
          38.8828,
          38.959361,
          38.840107,
          38.975505,
          38.939271,
          38.9725,
          38.961737,
          38.895172,
          38.882746,
          38.88837,
          38.887403,
          38.880612,
          38.878085,
          38.883601,
          38.885434,
          38.9001,
          38.928502,
          38.932128,
          38.879355,
          38.870093,
          38.9243,
          38.912524,
          38.942146,
          38.942024743273045,
          38.938889,
          38.955349,
          38.888524,
          38.962119,
          38.968842,
          39.0473228,
          38.90273216425078,
          38.90046848783359,
          38.7859,
          38.83664578175751,
          38.85736903758752,
          38.89892546716842,
          38.899941626884754,
          39.0313141,
          39.081638,
          39.0461435,
          39.0778751,
          39.0449444,
          39.0456521,
          39.085314,
          39.0379809,
          39.04104,
          38.8693365,
          38.949008,
          38.902386,
          38.808161,
          38.840797,
          38.7930647,
          38.910993,
          38.866277,
          38.910674,
          38.91693645323652,
          38.801947,
          38.89830173667249,
          38.881123,
          38.852903,
          38.890863,
          38.853002,
          38.863743,
          38.876823,
          38.837306,
          38.809709,
          38.815842,
          38.878771
         ],
         "legendgroup": "E-Bike",
         "lon": [
          -77.05323,
          -77.05332,
          -77.049232,
          -77.049417,
          -77.05949,
          -77.0633,
          -77.05113172531128,
          -77.051514,
          -77.0502,
          -77.049723,
          -77.05152,
          -77.0429,
          -77.032096,
          -77.027822,
          -77.03542068600655,
          -77.0322,
          -77.0178975,
          -77.03442692756653,
          -77.032008,
          -77.0323,
          -77.045,
          -77.04644858837128,
          -77.02418088912964,
          -76.9955,
          -77.019027,
          -76.9769,
          -77.0315,
          -77.057979,
          -76.947446,
          -76.941877,
          -76.994637,
          -77.0436,
          -77.0259,
          -77.0222,
          -77.0057,
          -77.0446,
          -77.0222,
          -77.05341160297394,
          -77.0037,
          -77.0444,
          -77.005483,
          -77.0473176240921,
          -77.015289,
          -76.98790669441223,
          -77.0387,
          -77.063896,
          -77.0135,
          -76.9953,
          -76.996806,
          -77.031686,
          -76.947974,
          -77.02824175357819,
          -77.0591415,
          -76.991016,
          -77.022241,
          -77.026013,
          -76.99473559856415,
          -77.04177886247635,
          -77.019347,
          -77.03335404396057,
          -77.043358,
          -77.04245209693909,
          -77.02305436134338,
          -77.029822,
          -76.992889,
          -77.00495,
          -76.998347,
          -77.001949,
          -76.982872,
          -77.000349,
          -76.9599,
          -76.987633,
          -77.038252,
          -77.031617,
          -77.02219069004059,
          -77.04478,
          -77.016106,
          -77.0436,
          -77.071652,
          -77.053485,
          -77.00493,
          -77.009888,
          -77.027313,
          -77.032278,
          -77.026975,
          -77.049882,
          -77.072305,
          -77.076389,
          -77.0846,
          -77.079375,
          -76.952103,
          -77.046567,
          -77.0925,
          -77.03980207443237,
          -77.0325,
          -77.0889,
          -77.094875,
          -77.041539,
          -77.01770067214966,
          -77.017445,
          -77.001828,
          -77.022155,
          -77.0251,
          -77.012289,
          -76.93723,
          -76.96012,
          -76.983569,
          -76.987823,
          -77.086502,
          -77.02622,
          -77.00572729110718,
          -77.012457,
          -77.093485,
          -77.032427,
          -77.086063,
          -77.089006,
          -77.08095,
          -77.090792,
          -77.037413,
          -76.985238,
          -77.107854,
          -77.10108,
          -76.9941,
          -77.044789,
          -77.0284,
          -77.046564,
          -77.04337,
          -77.040363,
          -77.0446327328682,
          -77.049883,
          -77.03353,
          -77.05293,
          -77.050276,
          -77.052808,
          -77.060626745224,
          -77.048911,
          -77.08777,
          -77.077294,
          -77.0494365,
          -77.045128,
          -77.082426,
          -77.0021304488182,
          -77.080319,
          -77.0198142528534,
          -77.027333,
          -77.03267812728882,
          -77.032947,
          -77.075104,
          -77.085931,
          -77.09586,
          -77.095431,
          -77.089555,
          -77.084918,
          -77.0352,
          -76.995193,
          -77.017669,
          -76.978924,
          -76.983575,
          -76.990037,
          -77.028139,
          -77.105022,
          -77.001955,
          -77.02324,
          -77.01597,
          -77.025762,
          -76.997194,
          -77.11153,
          -77.097426,
          -77.09221,
          -77.192672,
          -77.096539,
          -77.151291,
          -77.145213,
          -77.011336,
          -77.006311,
          -77.02953189611435,
          -77.031887,
          -77.0024,
          -77.188014,
          -77.149162,
          -77.15741,
          -77.02935,
          -77.04456299543381,
          -77.159048,
          -77.01121,
          -77.006472,
          -77.100239,
          -77.141378,
          -77.177091,
          -77.03037142753601,
          -77.171487,
          -77.050046,
          -76.931862,
          -77.03023,
          -77.089233,
          -77.05428,
          -77.008911,
          -77.0934784,
          -77.082104,
          -77.061977237463,
          -77.196442,
          -77.196636,
          -77.145803,
          -77.002721,
          -77.016855,
          -76.995876,
          -77.076131,
          -77.087083,
          -77.166093,
          -77.146866,
          -77.071301,
          -77.060866,
          -77.09169,
          -77.104503,
          -77.02623546123505,
          -77.051084,
          -77.047494,
          -77.063562,
          -77.057619,
          -77.058541,
          -77.053096,
          -77.059821,
          -77.084801,
          -77.05003,
          -77.07513481378555,
          -77.03973233699799,
          -77.034499,
          -77.041834,
          -77.063275,
          -77.078317,
          -77.09713,
          -77.043182,
          -77.00356006622314,
          -77.12712,
          -77.08787,
          -77.003666,
          -77.02277,
          -76.99401140213013,
          -77.194774,
          -77.044097,
          -77.049468,
          -77.127671,
          -77.084636,
          -77.031737,
          -77.012365,
          -77.008133,
          -77.041544,
          -77.038721,
          -77.0447,
          -77.032375,
          -77.02714,
          -77.02601015567778,
          -77.065115,
          -77.003135,
          -77.086031,
          -77.15642720460892,
          -77.06282079219818,
          -77.0172465,
          -77.038325,
          -77.0487,
          -77.064016,
          -77.01600551605225,
          -77.063093,
          -77.053766,
          -77.047783,
          -77.047844,
          -77.032224,
          -77.03445106744766,
          -76.971923,
          -76.925907,
          -76.982359,
          -77.240654,
          -77.235955,
          -77.221179,
          -77.222115,
          -77.217664,
          -77.219261,
          -77.225394,
          -77.338686,
          -77.361902,
          -77.358815,
          -77.356324,
          -77.351649,
          -77.359718,
          -77.3393914103508,
          -77.358741,
          -77.357611,
          -77.048947,
          -76.913563,
          -77.353414,
          -77.368416,
          -77.340377,
          -77.227417,
          -77.016311,
          -76.990121,
          -77.002239,
          -77.220157,
          -76.99840486049652,
          -76.988311,
          -76.988422,
          -77.05102041363716,
          -77.047788,
          -77.048395,
          -77.04735,
          -77.340787,
          -77.3630940914154,
          -77.021741,
          -77.164969,
          -77.040787,
          -77.111066,
          -77.103728,
          -77.16705948114395,
          -77.35428035259247,
          -77.20386,
          -77.054155,
          -77.034674,
          -77.027112,
          -77.04564,
          -77.087128,
          -77.033234,
          -77.050264,
          -77.192645,
          -77.202354,
          -76.97703,
          -77.005497,
          -77.00223,
          -77.01033,
          -76.949709,
          -77.0333808660507,
          -77.025236,
          -77.0078,
          -77.02791,
          -76.9834,
          -77.120776,
          -77.11287,
          -77.10933,
          -77.11368,
          -77.1257,
          -77.113454,
          -77.129235,
          -77.23034,
          -76.843263,
          -76.937349,
          -76.960054,
          -77.115212,
          -77.01081544160843,
          -76.825535,
          -77.033509,
          -77.006072,
          -77.016059,
          -77.02824711799622,
          -77.000736,
          -77.02154964208603,
          -77.335425,
          -77.226644,
          -77.021392,
          -77.012443,
          -77.011616,
          -76.998273,
          -77.051833,
          -76.979634,
          -77.012808,
          -77.041829,
          -77.2283,
          -76.946361,
          -76.9753,
          -76.952199,
          -76.955047,
          -76.9807,
          -76.995922,
          -77.190275,
          -77.170032,
          -77.179832,
          -77.176992,
          -77.171891,
          -77.153953,
          -77.173438,
          -77.173605,
          -77.1887,
          -77.215624,
          -77.0235,
          -77.230681,
          -77.22997,
          -76.9859,
          -77.008798,
          -77.038684,
          -77.01822102069855,
          -76.997226,
          -76.968084,
          -76.913188,
          -76.935578,
          -76.954171,
          -77.0510969,
          -76.99514991079923,
          -76.9472873210907,
          -77.0167,
          -76.99358886515256,
          -76.97768801437633,
          -77.04885238395946,
          -76.99489653110504,
          -77.0041217,
          -76.945495,
          -76.9757228,
          -76.9418666,
          -76.9811552,
          -76.9854381,
          -76.940547,
          -76.9945391,
          -76.987125,
          -76.978519,
          -77.355299,
          -77.005649,
          -77.100796,
          -77.108938,
          -77.049436,
          -76.985854,
          -77.010551,
          -77.03188,
          -77.0296311378479,
          -77.040293,
          -77.04691261053085,
          -77.017658,
          -77.045916,
          -77.074893,
          -77.059496,
          -77.013814,
          -77.002161,
          -77.106111,
          -77.135788,
          -77.110014,
          -76.97093
         ],
         "marker": {
          "color": "#EF553B"
         },
         "mode": "markers",
         "name": "E-Bike",
         "showlegend": true,
         "subplot": "mapbox",
         "type": "scattermapbox"
        }
       ],
       "layout": {
        "legend": {
         "title": {
          "text": "b_type"
         },
         "tracegroupgap": 0
        },
        "mapbox": {
         "center": {
          "lat": 38.91526355141056,
          "lon": -77.05938973086862
         },
         "domain": {
          "x": [
           0,
           1
          ],
          "y": [
           0,
           1
          ]
         },
         "style": "open-street-map",
         "zoom": 10
        },
        "margin": {
         "b": 0,
         "l": 0,
         "r": 0,
         "t": 0
        },
        "template": {
         "data": {
          "bar": [
           {
            "error_x": {
             "color": "#2a3f5f"
            },
            "error_y": {
             "color": "#2a3f5f"
            },
            "marker": {
             "line": {
              "color": "#E5ECF6",
              "width": 0.5
             }
            },
            "type": "bar"
           }
          ],
          "barpolar": [
           {
            "marker": {
             "line": {
              "color": "#E5ECF6",
              "width": 0.5
             }
            },
            "type": "barpolar"
           }
          ],
          "carpet": [
           {
            "aaxis": {
             "endlinecolor": "#2a3f5f",
             "gridcolor": "white",
             "linecolor": "white",
             "minorgridcolor": "white",
             "startlinecolor": "#2a3f5f"
            },
            "baxis": {
             "endlinecolor": "#2a3f5f",
             "gridcolor": "white",
             "linecolor": "white",
             "minorgridcolor": "white",
             "startlinecolor": "#2a3f5f"
            },
            "type": "carpet"
           }
          ],
          "choropleth": [
           {
            "colorbar": {
             "outlinewidth": 0,
             "ticks": ""
            },
            "type": "choropleth"
           }
          ],
          "contour": [
           {
            "colorbar": {
             "outlinewidth": 0,
             "ticks": ""
            },
            "colorscale": [
             [
              0,
              "#0d0887"
             ],
             [
              0.1111111111111111,
              "#46039f"
             ],
             [
              0.2222222222222222,
              "#7201a8"
             ],
             [
              0.3333333333333333,
              "#9c179e"
             ],
             [
              0.4444444444444444,
              "#bd3786"
             ],
             [
              0.5555555555555556,
              "#d8576b"
             ],
             [
              0.6666666666666666,
              "#ed7953"
             ],
             [
              0.7777777777777778,
              "#fb9f3a"
             ],
             [
              0.8888888888888888,
              "#fdca26"
             ],
             [
              1,
              "#f0f921"
             ]
            ],
            "type": "contour"
           }
          ],
          "contourcarpet": [
           {
            "colorbar": {
             "outlinewidth": 0,
             "ticks": ""
            },
            "type": "contourcarpet"
           }
          ],
          "heatmap": [
           {
            "colorbar": {
             "outlinewidth": 0,
             "ticks": ""
            },
            "colorscale": [
             [
              0,
              "#0d0887"
             ],
             [
              0.1111111111111111,
              "#46039f"
             ],
             [
              0.2222222222222222,
              "#7201a8"
             ],
             [
              0.3333333333333333,
              "#9c179e"
             ],
             [
              0.4444444444444444,
              "#bd3786"
             ],
             [
              0.5555555555555556,
              "#d8576b"
             ],
             [
              0.6666666666666666,
              "#ed7953"
             ],
             [
              0.7777777777777778,
              "#fb9f3a"
             ],
             [
              0.8888888888888888,
              "#fdca26"
             ],
             [
              1,
              "#f0f921"
             ]
            ],
            "type": "heatmap"
           }
          ],
          "heatmapgl": [
           {
            "colorbar": {
             "outlinewidth": 0,
             "ticks": ""
            },
            "colorscale": [
             [
              0,
              "#0d0887"
             ],
             [
              0.1111111111111111,
              "#46039f"
             ],
             [
              0.2222222222222222,
              "#7201a8"
             ],
             [
              0.3333333333333333,
              "#9c179e"
             ],
             [
              0.4444444444444444,
              "#bd3786"
             ],
             [
              0.5555555555555556,
              "#d8576b"
             ],
             [
              0.6666666666666666,
              "#ed7953"
             ],
             [
              0.7777777777777778,
              "#fb9f3a"
             ],
             [
              0.8888888888888888,
              "#fdca26"
             ],
             [
              1,
              "#f0f921"
             ]
            ],
            "type": "heatmapgl"
           }
          ],
          "histogram": [
           {
            "marker": {
             "colorbar": {
              "outlinewidth": 0,
              "ticks": ""
             }
            },
            "type": "histogram"
           }
          ],
          "histogram2d": [
           {
            "colorbar": {
             "outlinewidth": 0,
             "ticks": ""
            },
            "colorscale": [
             [
              0,
              "#0d0887"
             ],
             [
              0.1111111111111111,
              "#46039f"
             ],
             [
              0.2222222222222222,
              "#7201a8"
             ],
             [
              0.3333333333333333,
              "#9c179e"
             ],
             [
              0.4444444444444444,
              "#bd3786"
             ],
             [
              0.5555555555555556,
              "#d8576b"
             ],
             [
              0.6666666666666666,
              "#ed7953"
             ],
             [
              0.7777777777777778,
              "#fb9f3a"
             ],
             [
              0.8888888888888888,
              "#fdca26"
             ],
             [
              1,
              "#f0f921"
             ]
            ],
            "type": "histogram2d"
           }
          ],
          "histogram2dcontour": [
           {
            "colorbar": {
             "outlinewidth": 0,
             "ticks": ""
            },
            "colorscale": [
             [
              0,
              "#0d0887"
             ],
             [
              0.1111111111111111,
              "#46039f"
             ],
             [
              0.2222222222222222,
              "#7201a8"
             ],
             [
              0.3333333333333333,
              "#9c179e"
             ],
             [
              0.4444444444444444,
              "#bd3786"
             ],
             [
              0.5555555555555556,
              "#d8576b"
             ],
             [
              0.6666666666666666,
              "#ed7953"
             ],
             [
              0.7777777777777778,
              "#fb9f3a"
             ],
             [
              0.8888888888888888,
              "#fdca26"
             ],
             [
              1,
              "#f0f921"
             ]
            ],
            "type": "histogram2dcontour"
           }
          ],
          "mesh3d": [
           {
            "colorbar": {
             "outlinewidth": 0,
             "ticks": ""
            },
            "type": "mesh3d"
           }
          ],
          "parcoords": [
           {
            "line": {
             "colorbar": {
              "outlinewidth": 0,
              "ticks": ""
             }
            },
            "type": "parcoords"
           }
          ],
          "pie": [
           {
            "automargin": true,
            "type": "pie"
           }
          ],
          "scatter": [
           {
            "marker": {
             "colorbar": {
              "outlinewidth": 0,
              "ticks": ""
             }
            },
            "type": "scatter"
           }
          ],
          "scatter3d": [
           {
            "line": {
             "colorbar": {
              "outlinewidth": 0,
              "ticks": ""
             }
            },
            "marker": {
             "colorbar": {
              "outlinewidth": 0,
              "ticks": ""
             }
            },
            "type": "scatter3d"
           }
          ],
          "scattercarpet": [
           {
            "marker": {
             "colorbar": {
              "outlinewidth": 0,
              "ticks": ""
             }
            },
            "type": "scattercarpet"
           }
          ],
          "scattergeo": [
           {
            "marker": {
             "colorbar": {
              "outlinewidth": 0,
              "ticks": ""
             }
            },
            "type": "scattergeo"
           }
          ],
          "scattergl": [
           {
            "marker": {
             "colorbar": {
              "outlinewidth": 0,
              "ticks": ""
             }
            },
            "type": "scattergl"
           }
          ],
          "scattermapbox": [
           {
            "marker": {
             "colorbar": {
              "outlinewidth": 0,
              "ticks": ""
             }
            },
            "type": "scattermapbox"
           }
          ],
          "scatterpolar": [
           {
            "marker": {
             "colorbar": {
              "outlinewidth": 0,
              "ticks": ""
             }
            },
            "type": "scatterpolar"
           }
          ],
          "scatterpolargl": [
           {
            "marker": {
             "colorbar": {
              "outlinewidth": 0,
              "ticks": ""
             }
            },
            "type": "scatterpolargl"
           }
          ],
          "scatterternary": [
           {
            "marker": {
             "colorbar": {
              "outlinewidth": 0,
              "ticks": ""
             }
            },
            "type": "scatterternary"
           }
          ],
          "surface": [
           {
            "colorbar": {
             "outlinewidth": 0,
             "ticks": ""
            },
            "colorscale": [
             [
              0,
              "#0d0887"
             ],
             [
              0.1111111111111111,
              "#46039f"
             ],
             [
              0.2222222222222222,
              "#7201a8"
             ],
             [
              0.3333333333333333,
              "#9c179e"
             ],
             [
              0.4444444444444444,
              "#bd3786"
             ],
             [
              0.5555555555555556,
              "#d8576b"
             ],
             [
              0.6666666666666666,
              "#ed7953"
             ],
             [
              0.7777777777777778,
              "#fb9f3a"
             ],
             [
              0.8888888888888888,
              "#fdca26"
             ],
             [
              1,
              "#f0f921"
             ]
            ],
            "type": "surface"
           }
          ],
          "table": [
           {
            "cells": {
             "fill": {
              "color": "#EBF0F8"
             },
             "line": {
              "color": "white"
             }
            },
            "header": {
             "fill": {
              "color": "#C8D4E3"
             },
             "line": {
              "color": "white"
             }
            },
            "type": "table"
           }
          ]
         },
         "layout": {
          "annotationdefaults": {
           "arrowcolor": "#2a3f5f",
           "arrowhead": 0,
           "arrowwidth": 1
          },
          "autotypenumbers": "strict",
          "coloraxis": {
           "colorbar": {
            "outlinewidth": 0,
            "ticks": ""
           }
          },
          "colorscale": {
           "diverging": [
            [
             0,
             "#8e0152"
            ],
            [
             0.1,
             "#c51b7d"
            ],
            [
             0.2,
             "#de77ae"
            ],
            [
             0.3,
             "#f1b6da"
            ],
            [
             0.4,
             "#fde0ef"
            ],
            [
             0.5,
             "#f7f7f7"
            ],
            [
             0.6,
             "#e6f5d0"
            ],
            [
             0.7,
             "#b8e186"
            ],
            [
             0.8,
             "#7fbc41"
            ],
            [
             0.9,
             "#4d9221"
            ],
            [
             1,
             "#276419"
            ]
           ],
           "sequential": [
            [
             0,
             "#0d0887"
            ],
            [
             0.1111111111111111,
             "#46039f"
            ],
            [
             0.2222222222222222,
             "#7201a8"
            ],
            [
             0.3333333333333333,
             "#9c179e"
            ],
            [
             0.4444444444444444,
             "#bd3786"
            ],
            [
             0.5555555555555556,
             "#d8576b"
            ],
            [
             0.6666666666666666,
             "#ed7953"
            ],
            [
             0.7777777777777778,
             "#fb9f3a"
            ],
            [
             0.8888888888888888,
             "#fdca26"
            ],
            [
             1,
             "#f0f921"
            ]
           ],
           "sequentialminus": [
            [
             0,
             "#0d0887"
            ],
            [
             0.1111111111111111,
             "#46039f"
            ],
            [
             0.2222222222222222,
             "#7201a8"
            ],
            [
             0.3333333333333333,
             "#9c179e"
            ],
            [
             0.4444444444444444,
             "#bd3786"
            ],
            [
             0.5555555555555556,
             "#d8576b"
            ],
            [
             0.6666666666666666,
             "#ed7953"
            ],
            [
             0.7777777777777778,
             "#fb9f3a"
            ],
            [
             0.8888888888888888,
             "#fdca26"
            ],
            [
             1,
             "#f0f921"
            ]
           ]
          },
          "colorway": [
           "#636efa",
           "#EF553B",
           "#00cc96",
           "#ab63fa",
           "#FFA15A",
           "#19d3f3",
           "#FF6692",
           "#B6E880",
           "#FF97FF",
           "#FECB52"
          ],
          "font": {
           "color": "#2a3f5f"
          },
          "geo": {
           "bgcolor": "white",
           "lakecolor": "white",
           "landcolor": "#E5ECF6",
           "showlakes": true,
           "showland": true,
           "subunitcolor": "white"
          },
          "hoverlabel": {
           "align": "left"
          },
          "hovermode": "closest",
          "mapbox": {
           "style": "light"
          },
          "paper_bgcolor": "white",
          "plot_bgcolor": "#E5ECF6",
          "polar": {
           "angularaxis": {
            "gridcolor": "white",
            "linecolor": "white",
            "ticks": ""
           },
           "bgcolor": "#E5ECF6",
           "radialaxis": {
            "gridcolor": "white",
            "linecolor": "white",
            "ticks": ""
           }
          },
          "scene": {
           "xaxis": {
            "backgroundcolor": "#E5ECF6",
            "gridcolor": "white",
            "gridwidth": 2,
            "linecolor": "white",
            "showbackground": true,
            "ticks": "",
            "zerolinecolor": "white"
           },
           "yaxis": {
            "backgroundcolor": "#E5ECF6",
            "gridcolor": "white",
            "gridwidth": 2,
            "linecolor": "white",
            "showbackground": true,
            "ticks": "",
            "zerolinecolor": "white"
           },
           "zaxis": {
            "backgroundcolor": "#E5ECF6",
            "gridcolor": "white",
            "gridwidth": 2,
            "linecolor": "white",
            "showbackground": true,
            "ticks": "",
            "zerolinecolor": "white"
           }
          },
          "shapedefaults": {
           "line": {
            "color": "#2a3f5f"
           }
          },
          "ternary": {
           "aaxis": {
            "gridcolor": "white",
            "linecolor": "white",
            "ticks": ""
           },
           "baxis": {
            "gridcolor": "white",
            "linecolor": "white",
            "ticks": ""
           },
           "bgcolor": "#E5ECF6",
           "caxis": {
            "gridcolor": "white",
            "linecolor": "white",
            "ticks": ""
           }
          },
          "title": {
           "x": 0.05
          },
          "xaxis": {
           "automargin": true,
           "gridcolor": "white",
           "linecolor": "white",
           "ticks": "",
           "title": {
            "standoff": 15
           },
           "zerolinecolor": "white",
           "zerolinewidth": 2
          },
          "yaxis": {
           "automargin": true,
           "gridcolor": "white",
           "linecolor": "white",
           "ticks": "",
           "title": {
            "standoff": 15
           },
           "zerolinecolor": "white",
           "zerolinewidth": 2
          }
         }
        }
       }
      }
     },
     "metadata": {}
    }
   ],
   "source": [
    "# Empty Bike + E-Bike Stations (0 bikes)\n",
    "\n",
    "fig = px.scatter_mapbox(empty_stations,\n",
    "                    lat='lat',\n",
    "                    lon='lon',\n",
    "                    hover_name=\"street\",\n",
    "                    color='b_type',\n",
    "                    zoom=10)\n",
    "\n",
    "fig.update_layout(mapbox_style=\"open-street-map\")\n",
    "#fig.update_layout(title = 'All Bike Stations')\n",
    "fig.update_layout(margin={\"r\":0,\"t\":0,\"l\":0,\"b\":0})\n",
    "fig.show()"
   ]
  },
  {
   "cell_type": "code",
   "execution_count": 20,
   "metadata": {},
   "outputs": [
    {
     "output_type": "display_data",
     "data": {
      "application/vnd.plotly.v1+json": {
       "config": {
        "plotlyServerURL": "https://plot.ly"
       },
       "data": [
        {
         "hovertemplate": "<b>%{hovertext}</b><br><br>available_bikes=0<br>lat=%{lat}<br>lon=%{lon}<extra></extra>",
         "hovertext": [
          "Calvert & Biltmore St NW",
          "14th St & Spring Rd NW",
          "Good Hope & Naylor Rd SE",
          "3rd & D St SE",
          "Ward Circle / American University",
          "Tenleytown / Wisconsin Ave & Albemarle St NW",
          "Convention Center / 7th & M St NW",
          "3000 Connecticut Ave NW / National Zoo",
          "N Quincy St & Glebe Rd",
          "Fairfax Dr & Wilson Blvd",
          "Central Library / Quincy St & 10th St N",
          "George Mason Dr & Wilson Blvd",
          "Ballston Metro / Stuart St & 9th St N",
          "Fairfax Dr & N Randolph St",
          "Glebe Rd & 11th St N",
          "Utah St & 11th St N",
          "39th & Veazey St NW",
          "18th St & Wyoming Ave NW",
          "12th & Irving St NE",
          "Gravelly Point",
          "Pershing Dr & Wayne St",
          "Rhode Island Ave & V St NE",
          "47th & Elm St",
          "Fenton St & Gist Ave",
          "Offutt Ln & Chevy Chase Dr",
          "Georgia Ave & Spring St",
          "New Jersey Ave & N St NW/Dunbar HS",
          "Yuma St & Tenley Circle NW",
          "Lee Hwy & N Woodstock St",
          "King St Metro North / Cameron St",
          "Wisconsin Ave & Brandywine St NW",
          "Carlin Springs Rd & N Thomas St",
          "Columbus Ave & Gramercy Blvd",
          "Alabama Ave & Stanton Rd SE / Shops at Park Village",
          "4th St & Mississippi Ave SE",
          "Blueridge Ave & Elkin St",
          "7th St & Massachusetts Ave NE",
          "Stanton Square SE",
          "14th & Newton St NW",
          "48th Pl & MacArthur Blvd NW",
          "United Medical Center",
          "Kingman Island/The Fields at RFK",
          "Ridge Rd Community Center",
          "New Hampshire & Lockwood",
          "Wilson Blvd. & N. Vermont St.",
          "14th & D St SE",
          "Kansas Ave & Longfellow St NW",
          "53rd & D St SE/C.W. Harris Elementary"
         ],
         "lat": [
          38.923203,
          38.9375,
          38.86005647007575,
          38.8851,
          38.938736,
          38.947607,
          38.905737,
          38.930282,
          38.876393,
          38.885801,
          38.88397,
          38.87887,
          38.881044,
          38.882629,
          38.883921,
          38.883669,
          38.943837,
          38.918809,
          38.928644,
          38.865029,
          38.880705,
          38.918155,
          38.982456,
          38.989724,
          38.977092999999996,
          38.999388,
          38.90733256111448,
          38.946182,
          38.898301,
          38.80704,
          38.949813,
          38.876695,
          39.12333,
          38.84627,
          38.836,
          39.04313,
          38.89222,
          38.855004,
          38.931991,
          38.9170363119413,
          38.835737,
          38.89595455700754,
          38.876227445751475,
          39.0391022,
          38.87947660895433,
          38.8840581,
          38.958098,
          38.883318
         ],
         "legendgroup": "0",
         "lon": [
          -77.047637,
          -77.0328,
          -76.96783974766731,
          -77.0023,
          -77.087171,
          -77.079382,
          -77.02227,
          -77.055599,
          -77.107735,
          -77.097745,
          -77.10783,
          -77.1207,
          -77.111768,
          -77.109366,
          -77.116817,
          -77.113905,
          -77.077078,
          -77.041571,
          -76.990955,
          -77.039511,
          -77.08596,
          -77.004746,
          -77.091991,
          -77.023854,
          -77.094589,
          -77.031555,
          -77.01536044478416,
          -77.08059,
          -77.118009,
          -77.059817,
          -77.080217,
          -77.112982,
          -77.16486,
          -76.98185,
          -77.0009,
          -77.05006,
          -76.99602,
          -76.984512,
          -77.032956,
          -77.0957824587822,
          -76.983144,
          -76.9678448436025,
          -76.94098126958124,
          -76.9918237,
          -77.11456328630447,
          -76.9863852,
          -77.013821,
          -76.925315
         ],
         "marker": {
          "color": "#636efa"
         },
         "mode": "markers",
         "name": "0",
         "showlegend": true,
         "subplot": "mapbox",
         "type": "scattermapbox"
        },
        {
         "hovertemplate": "<b>%{hovertext}</b><br><br>available_bikes=1<br>lat=%{lat}<br>lon=%{lon}<extra></extra>",
         "hovertext": [
          "Adams Mill & Columbia Rd NW",
          "4th & W St NE",
          "Wisconsin Ave & Newark St NW",
          "14th St Heights / 14th & Crittenden St NW",
          "Potomac Ave & 35th St S",
          "Columbia Rd & Belmont St NW",
          "Connecticut & Nebraska Ave NW",
          "15th & East Capitol St NE",
          "Alabama & MLK Ave SE",
          "Eisenhower Ave & Ike Dr",
          "Broad Branch Rd & Northampton St NW",
          "20th & Columbia Rd NW",
          "S Clark St & 33rd St"
         ],
         "lat": [
          38.922925,
          38.919077,
          38.934881,
          38.947774,
          38.844015,
          38.920669,
          38.955016,
          38.889908,
          38.84322988730829,
          38.802738,
          38.96577499342219,
          38.918036,
          38.845028
         ],
         "legendgroup": "1",
         "lon": [
          -77.042581,
          -77.000648,
          -77.072755,
          -77.032818,
          -77.050537,
          -77.04368,
          -77.069956,
          -76.983326,
          -76.99937582015991,
          -77.0824626,
          -77.06862643361092,
          -77.045487,
          -77.051956
         ],
         "marker": {
          "color": "#EF553B"
         },
         "mode": "markers",
         "name": "1",
         "showlegend": true,
         "subplot": "mapbox",
         "type": "scattermapbox"
        }
       ],
       "layout": {
        "legend": {
         "title": {
          "text": "available_bikes"
         },
         "tracegroupgap": 0
        },
        "mapbox": {
         "center": {
          "lat": 38.91114339566516,
          "lon": -77.04761766892614
         },
         "domain": {
          "x": [
           0,
           1
          ],
          "y": [
           0,
           1
          ]
         },
         "style": "open-street-map",
         "zoom": 9
        },
        "margin": {
         "b": 0,
         "l": 0,
         "r": 0,
         "t": 0
        },
        "template": {
         "data": {
          "bar": [
           {
            "error_x": {
             "color": "#2a3f5f"
            },
            "error_y": {
             "color": "#2a3f5f"
            },
            "marker": {
             "line": {
              "color": "#E5ECF6",
              "width": 0.5
             }
            },
            "type": "bar"
           }
          ],
          "barpolar": [
           {
            "marker": {
             "line": {
              "color": "#E5ECF6",
              "width": 0.5
             }
            },
            "type": "barpolar"
           }
          ],
          "carpet": [
           {
            "aaxis": {
             "endlinecolor": "#2a3f5f",
             "gridcolor": "white",
             "linecolor": "white",
             "minorgridcolor": "white",
             "startlinecolor": "#2a3f5f"
            },
            "baxis": {
             "endlinecolor": "#2a3f5f",
             "gridcolor": "white",
             "linecolor": "white",
             "minorgridcolor": "white",
             "startlinecolor": "#2a3f5f"
            },
            "type": "carpet"
           }
          ],
          "choropleth": [
           {
            "colorbar": {
             "outlinewidth": 0,
             "ticks": ""
            },
            "type": "choropleth"
           }
          ],
          "contour": [
           {
            "colorbar": {
             "outlinewidth": 0,
             "ticks": ""
            },
            "colorscale": [
             [
              0,
              "#0d0887"
             ],
             [
              0.1111111111111111,
              "#46039f"
             ],
             [
              0.2222222222222222,
              "#7201a8"
             ],
             [
              0.3333333333333333,
              "#9c179e"
             ],
             [
              0.4444444444444444,
              "#bd3786"
             ],
             [
              0.5555555555555556,
              "#d8576b"
             ],
             [
              0.6666666666666666,
              "#ed7953"
             ],
             [
              0.7777777777777778,
              "#fb9f3a"
             ],
             [
              0.8888888888888888,
              "#fdca26"
             ],
             [
              1,
              "#f0f921"
             ]
            ],
            "type": "contour"
           }
          ],
          "contourcarpet": [
           {
            "colorbar": {
             "outlinewidth": 0,
             "ticks": ""
            },
            "type": "contourcarpet"
           }
          ],
          "heatmap": [
           {
            "colorbar": {
             "outlinewidth": 0,
             "ticks": ""
            },
            "colorscale": [
             [
              0,
              "#0d0887"
             ],
             [
              0.1111111111111111,
              "#46039f"
             ],
             [
              0.2222222222222222,
              "#7201a8"
             ],
             [
              0.3333333333333333,
              "#9c179e"
             ],
             [
              0.4444444444444444,
              "#bd3786"
             ],
             [
              0.5555555555555556,
              "#d8576b"
             ],
             [
              0.6666666666666666,
              "#ed7953"
             ],
             [
              0.7777777777777778,
              "#fb9f3a"
             ],
             [
              0.8888888888888888,
              "#fdca26"
             ],
             [
              1,
              "#f0f921"
             ]
            ],
            "type": "heatmap"
           }
          ],
          "heatmapgl": [
           {
            "colorbar": {
             "outlinewidth": 0,
             "ticks": ""
            },
            "colorscale": [
             [
              0,
              "#0d0887"
             ],
             [
              0.1111111111111111,
              "#46039f"
             ],
             [
              0.2222222222222222,
              "#7201a8"
             ],
             [
              0.3333333333333333,
              "#9c179e"
             ],
             [
              0.4444444444444444,
              "#bd3786"
             ],
             [
              0.5555555555555556,
              "#d8576b"
             ],
             [
              0.6666666666666666,
              "#ed7953"
             ],
             [
              0.7777777777777778,
              "#fb9f3a"
             ],
             [
              0.8888888888888888,
              "#fdca26"
             ],
             [
              1,
              "#f0f921"
             ]
            ],
            "type": "heatmapgl"
           }
          ],
          "histogram": [
           {
            "marker": {
             "colorbar": {
              "outlinewidth": 0,
              "ticks": ""
             }
            },
            "type": "histogram"
           }
          ],
          "histogram2d": [
           {
            "colorbar": {
             "outlinewidth": 0,
             "ticks": ""
            },
            "colorscale": [
             [
              0,
              "#0d0887"
             ],
             [
              0.1111111111111111,
              "#46039f"
             ],
             [
              0.2222222222222222,
              "#7201a8"
             ],
             [
              0.3333333333333333,
              "#9c179e"
             ],
             [
              0.4444444444444444,
              "#bd3786"
             ],
             [
              0.5555555555555556,
              "#d8576b"
             ],
             [
              0.6666666666666666,
              "#ed7953"
             ],
             [
              0.7777777777777778,
              "#fb9f3a"
             ],
             [
              0.8888888888888888,
              "#fdca26"
             ],
             [
              1,
              "#f0f921"
             ]
            ],
            "type": "histogram2d"
           }
          ],
          "histogram2dcontour": [
           {
            "colorbar": {
             "outlinewidth": 0,
             "ticks": ""
            },
            "colorscale": [
             [
              0,
              "#0d0887"
             ],
             [
              0.1111111111111111,
              "#46039f"
             ],
             [
              0.2222222222222222,
              "#7201a8"
             ],
             [
              0.3333333333333333,
              "#9c179e"
             ],
             [
              0.4444444444444444,
              "#bd3786"
             ],
             [
              0.5555555555555556,
              "#d8576b"
             ],
             [
              0.6666666666666666,
              "#ed7953"
             ],
             [
              0.7777777777777778,
              "#fb9f3a"
             ],
             [
              0.8888888888888888,
              "#fdca26"
             ],
             [
              1,
              "#f0f921"
             ]
            ],
            "type": "histogram2dcontour"
           }
          ],
          "mesh3d": [
           {
            "colorbar": {
             "outlinewidth": 0,
             "ticks": ""
            },
            "type": "mesh3d"
           }
          ],
          "parcoords": [
           {
            "line": {
             "colorbar": {
              "outlinewidth": 0,
              "ticks": ""
             }
            },
            "type": "parcoords"
           }
          ],
          "pie": [
           {
            "automargin": true,
            "type": "pie"
           }
          ],
          "scatter": [
           {
            "marker": {
             "colorbar": {
              "outlinewidth": 0,
              "ticks": ""
             }
            },
            "type": "scatter"
           }
          ],
          "scatter3d": [
           {
            "line": {
             "colorbar": {
              "outlinewidth": 0,
              "ticks": ""
             }
            },
            "marker": {
             "colorbar": {
              "outlinewidth": 0,
              "ticks": ""
             }
            },
            "type": "scatter3d"
           }
          ],
          "scattercarpet": [
           {
            "marker": {
             "colorbar": {
              "outlinewidth": 0,
              "ticks": ""
             }
            },
            "type": "scattercarpet"
           }
          ],
          "scattergeo": [
           {
            "marker": {
             "colorbar": {
              "outlinewidth": 0,
              "ticks": ""
             }
            },
            "type": "scattergeo"
           }
          ],
          "scattergl": [
           {
            "marker": {
             "colorbar": {
              "outlinewidth": 0,
              "ticks": ""
             }
            },
            "type": "scattergl"
           }
          ],
          "scattermapbox": [
           {
            "marker": {
             "colorbar": {
              "outlinewidth": 0,
              "ticks": ""
             }
            },
            "type": "scattermapbox"
           }
          ],
          "scatterpolar": [
           {
            "marker": {
             "colorbar": {
              "outlinewidth": 0,
              "ticks": ""
             }
            },
            "type": "scatterpolar"
           }
          ],
          "scatterpolargl": [
           {
            "marker": {
             "colorbar": {
              "outlinewidth": 0,
              "ticks": ""
             }
            },
            "type": "scatterpolargl"
           }
          ],
          "scatterternary": [
           {
            "marker": {
             "colorbar": {
              "outlinewidth": 0,
              "ticks": ""
             }
            },
            "type": "scatterternary"
           }
          ],
          "surface": [
           {
            "colorbar": {
             "outlinewidth": 0,
             "ticks": ""
            },
            "colorscale": [
             [
              0,
              "#0d0887"
             ],
             [
              0.1111111111111111,
              "#46039f"
             ],
             [
              0.2222222222222222,
              "#7201a8"
             ],
             [
              0.3333333333333333,
              "#9c179e"
             ],
             [
              0.4444444444444444,
              "#bd3786"
             ],
             [
              0.5555555555555556,
              "#d8576b"
             ],
             [
              0.6666666666666666,
              "#ed7953"
             ],
             [
              0.7777777777777778,
              "#fb9f3a"
             ],
             [
              0.8888888888888888,
              "#fdca26"
             ],
             [
              1,
              "#f0f921"
             ]
            ],
            "type": "surface"
           }
          ],
          "table": [
           {
            "cells": {
             "fill": {
              "color": "#EBF0F8"
             },
             "line": {
              "color": "white"
             }
            },
            "header": {
             "fill": {
              "color": "#C8D4E3"
             },
             "line": {
              "color": "white"
             }
            },
            "type": "table"
           }
          ]
         },
         "layout": {
          "annotationdefaults": {
           "arrowcolor": "#2a3f5f",
           "arrowhead": 0,
           "arrowwidth": 1
          },
          "autotypenumbers": "strict",
          "coloraxis": {
           "colorbar": {
            "outlinewidth": 0,
            "ticks": ""
           }
          },
          "colorscale": {
           "diverging": [
            [
             0,
             "#8e0152"
            ],
            [
             0.1,
             "#c51b7d"
            ],
            [
             0.2,
             "#de77ae"
            ],
            [
             0.3,
             "#f1b6da"
            ],
            [
             0.4,
             "#fde0ef"
            ],
            [
             0.5,
             "#f7f7f7"
            ],
            [
             0.6,
             "#e6f5d0"
            ],
            [
             0.7,
             "#b8e186"
            ],
            [
             0.8,
             "#7fbc41"
            ],
            [
             0.9,
             "#4d9221"
            ],
            [
             1,
             "#276419"
            ]
           ],
           "sequential": [
            [
             0,
             "#0d0887"
            ],
            [
             0.1111111111111111,
             "#46039f"
            ],
            [
             0.2222222222222222,
             "#7201a8"
            ],
            [
             0.3333333333333333,
             "#9c179e"
            ],
            [
             0.4444444444444444,
             "#bd3786"
            ],
            [
             0.5555555555555556,
             "#d8576b"
            ],
            [
             0.6666666666666666,
             "#ed7953"
            ],
            [
             0.7777777777777778,
             "#fb9f3a"
            ],
            [
             0.8888888888888888,
             "#fdca26"
            ],
            [
             1,
             "#f0f921"
            ]
           ],
           "sequentialminus": [
            [
             0,
             "#0d0887"
            ],
            [
             0.1111111111111111,
             "#46039f"
            ],
            [
             0.2222222222222222,
             "#7201a8"
            ],
            [
             0.3333333333333333,
             "#9c179e"
            ],
            [
             0.4444444444444444,
             "#bd3786"
            ],
            [
             0.5555555555555556,
             "#d8576b"
            ],
            [
             0.6666666666666666,
             "#ed7953"
            ],
            [
             0.7777777777777778,
             "#fb9f3a"
            ],
            [
             0.8888888888888888,
             "#fdca26"
            ],
            [
             1,
             "#f0f921"
            ]
           ]
          },
          "colorway": [
           "#636efa",
           "#EF553B",
           "#00cc96",
           "#ab63fa",
           "#FFA15A",
           "#19d3f3",
           "#FF6692",
           "#B6E880",
           "#FF97FF",
           "#FECB52"
          ],
          "font": {
           "color": "#2a3f5f"
          },
          "geo": {
           "bgcolor": "white",
           "lakecolor": "white",
           "landcolor": "#E5ECF6",
           "showlakes": true,
           "showland": true,
           "subunitcolor": "white"
          },
          "hoverlabel": {
           "align": "left"
          },
          "hovermode": "closest",
          "mapbox": {
           "style": "light"
          },
          "paper_bgcolor": "white",
          "plot_bgcolor": "#E5ECF6",
          "polar": {
           "angularaxis": {
            "gridcolor": "white",
            "linecolor": "white",
            "ticks": ""
           },
           "bgcolor": "#E5ECF6",
           "radialaxis": {
            "gridcolor": "white",
            "linecolor": "white",
            "ticks": ""
           }
          },
          "scene": {
           "xaxis": {
            "backgroundcolor": "#E5ECF6",
            "gridcolor": "white",
            "gridwidth": 2,
            "linecolor": "white",
            "showbackground": true,
            "ticks": "",
            "zerolinecolor": "white"
           },
           "yaxis": {
            "backgroundcolor": "#E5ECF6",
            "gridcolor": "white",
            "gridwidth": 2,
            "linecolor": "white",
            "showbackground": true,
            "ticks": "",
            "zerolinecolor": "white"
           },
           "zaxis": {
            "backgroundcolor": "#E5ECF6",
            "gridcolor": "white",
            "gridwidth": 2,
            "linecolor": "white",
            "showbackground": true,
            "ticks": "",
            "zerolinecolor": "white"
           }
          },
          "shapedefaults": {
           "line": {
            "color": "#2a3f5f"
           }
          },
          "ternary": {
           "aaxis": {
            "gridcolor": "white",
            "linecolor": "white",
            "ticks": ""
           },
           "baxis": {
            "gridcolor": "white",
            "linecolor": "white",
            "ticks": ""
           },
           "bgcolor": "#E5ECF6",
           "caxis": {
            "gridcolor": "white",
            "linecolor": "white",
            "ticks": ""
           }
          },
          "title": {
           "x": 0.05
          },
          "xaxis": {
           "automargin": true,
           "gridcolor": "white",
           "linecolor": "white",
           "ticks": "",
           "title": {
            "standoff": 15
           },
           "zerolinecolor": "white",
           "zerolinewidth": 2
          },
          "yaxis": {
           "automargin": true,
           "gridcolor": "white",
           "linecolor": "white",
           "ticks": "",
           "title": {
            "standoff": 15
           },
           "zerolinecolor": "white",
           "zerolinewidth": 2
          }
         }
        }
       }
      }
     },
     "metadata": {}
    }
   ],
   "source": [
    "# Stations with 1 or 0 bikes\n",
    "\n",
    "bike_empty_stat['available_bikes'] = '0'\n",
    "only_one_bike_stat['available_bikes'] = '1'\n",
    "\n",
    "bike_alert = bike_empty_stat.copy()\n",
    "bike_alert = bike_alert.append(only_one_bike_stat)\n",
    "\n",
    "fig = px.scatter_mapbox(bike_alert,\n",
    "                    lat='lat',\n",
    "                    lon='lon',\n",
    "                    hover_name=\"street\",\n",
    "                    color='available_bikes',\n",
    "                    zoom=9)\n",
    "\n",
    "fig.update_layout(mapbox_style=\"open-street-map\")\n",
    "#fig.update_layout(title = 'Stations with 1 or 0 Bike/s')\n",
    "fig.update_layout(margin={\"r\":0,\"t\":0,\"l\":0,\"b\":0})\n",
    "fig.show()"
   ]
  },
  {
   "cell_type": "code",
   "execution_count": null,
   "metadata": {},
   "outputs": [],
   "source": []
  }
 ]
}