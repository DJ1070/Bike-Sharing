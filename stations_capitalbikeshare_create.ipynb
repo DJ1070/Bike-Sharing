{
 "metadata": {
  "language_info": {
   "codemirror_mode": {
    "name": "ipython",
    "version": 3
   },
   "file_extension": ".py",
   "mimetype": "text/x-python",
   "name": "python",
   "nbconvert_exporter": "python",
   "pygments_lexer": "ipython3",
   "version": "3.8.5-final"
  },
  "orig_nbformat": 2,
  "kernelspec": {
   "name": "python3",
   "display_name": "Python 3",
   "language": "python"
  }
 },
 "nbformat": 4,
 "nbformat_minor": 2,
 "cells": [
  {
   "cell_type": "code",
   "execution_count": 1,
   "metadata": {},
   "outputs": [],
   "source": [
    "import pandas as pd\n",
    "import numpy as np\n",
    "import plotly.express as px\n",
    "import plotly.graph_objects as go"
   ]
  },
  {
   "cell_type": "code",
   "execution_count": 2,
   "metadata": {},
   "outputs": [
    {
     "output_type": "execute_result",
     "data": {
      "text/plain": [
       "{'region_id': '41',\n",
       " 'rental_uris': {'android': 'https://dc.lft.to/lastmile_qr_scan',\n",
       "  'ios': 'https://dc.lft.to/lastmile_qr_scan'},\n",
       " 'electric_bike_surcharge_waiver': False,\n",
       " 'lon': -77.05323,\n",
       " 'external_id': '082469cc-1f3f-11e7-bf6b-3863bb334450',\n",
       " 'legacy_id': '1',\n",
       " 'lat': 38.858971,\n",
       " 'capacity': 15,\n",
       " 'eightd_station_services': [],\n",
       " 'rental_methods': ['CREDITCARD', 'KEY'],\n",
       " 'short_name': '31000',\n",
       " 'has_kiosk': True,\n",
       " 'station_type': 'classic',\n",
       " 'station_id': '1',\n",
       " 'name': 'Eads St & 15th St S',\n",
       " 'eightd_has_key_dispenser': False}"
      ]
     },
     "metadata": {},
     "execution_count": 2
    }
   ],
   "source": [
    "df = pd.read_json('https://gbfs.capitalbikeshare.com/gbfs/en/station_information.json')\n",
    "df.data['stations'][0]"
   ]
  },
  {
   "cell_type": "code",
   "execution_count": 3,
   "metadata": {},
   "outputs": [
    {
     "output_type": "execute_result",
     "data": {
      "text/plain": [
       "['CREDITCARD', 'KEY']"
      ]
     },
     "metadata": {},
     "execution_count": 3
    }
   ],
   "source": [
    "df.data[0][0]['rental_methods']"
   ]
  },
  {
   "cell_type": "code",
   "execution_count": 4,
   "metadata": {},
   "outputs": [
    {
     "output_type": "execute_result",
     "data": {
      "text/plain": [
       "621"
      ]
     },
     "metadata": {},
     "execution_count": 4
    }
   ],
   "source": [
    "len(df.data[0])"
   ]
  },
  {
   "cell_type": "code",
   "execution_count": 5,
   "metadata": {},
   "outputs": [],
   "source": [
    "station_id = []\n",
    "all_stations = []\n",
    "lon = []\n",
    "lat = []\n",
    "capacity = []"
   ]
  },
  {
   "cell_type": "code",
   "execution_count": 6,
   "metadata": {},
   "outputs": [],
   "source": [
    "for i in range(len(df.data[0])):\n",
    "    station_id.append(df.data[0][i]['station_id'])\n",
    "    all_stations.append(df.data[0][i]['name'])\n",
    "    lon.append(df.data[0][i]['lon'])\n",
    "    lat.append(df.data[0][i]['lat'])\n",
    "    capacity.append(df.data[0][i]['capacity'])\n",
    "\n",
    "all_stations = pd.DataFrame(all_stations)\n",
    "station_id = pd.DataFrame(station_id)\n",
    "lat = pd.DataFrame(lat)\n",
    "lon = pd.DataFrame(lon)\n",
    "capacity = pd.DataFrame(capacity)\n",
    "all_stations['station_id'] = station_id\n",
    "all_stations['lat'] = lat\n",
    "all_stations['lon'] = lon\n",
    "all_stations['capacity'] = capacity\n",
    "all_stations.columns = ['street', 'station_id', 'lat', 'lon', 'capacity']"
   ]
  },
  {
   "cell_type": "code",
   "execution_count": 7,
   "metadata": {},
   "outputs": [
    {
     "output_type": "execute_result",
     "data": {
      "text/plain": [
       "                                           street station_id        lat  \\\n",
       "0                             Eads St & 15th St S          1  38.858971   \n",
       "1                             18th St & S Eads St          2  38.857250   \n",
       "2                          Crystal Dr & 20th St S          3  38.856425   \n",
       "3                          Crystal Dr & 15th St S          4  38.860170   \n",
       "4    Aurora Hills Cmty Ctr / 18th St & S Hayes St          5  38.857866   \n",
       "..                                            ...        ...        ...   \n",
       "616            2nd & V St SW / James Creek Marina        654  38.863743   \n",
       "617                       1st St & Potomac Ave SE        655  38.871841   \n",
       "618                         20th & Columbia Rd NW        656  38.918036   \n",
       "619                                 3rd & M st SE        657  38.876823   \n",
       "620         53rd & D St SE/C.W. Harris Elementary        659  38.883318   \n",
       "\n",
       "           lon  capacity  \n",
       "0   -77.053230        15  \n",
       "1   -77.053320        11  \n",
       "2   -77.049232        17  \n",
       "3   -77.049593        11  \n",
       "4   -77.059490        11  \n",
       "..         ...       ...  \n",
       "616 -77.013814        19  \n",
       "617 -77.005910        19  \n",
       "618 -77.045487        19  \n",
       "619 -77.002161        23  \n",
       "620 -76.925315        19  \n",
       "\n",
       "[621 rows x 5 columns]"
      ],
      "text/html": "<div>\n<style scoped>\n    .dataframe tbody tr th:only-of-type {\n        vertical-align: middle;\n    }\n\n    .dataframe tbody tr th {\n        vertical-align: top;\n    }\n\n    .dataframe thead th {\n        text-align: right;\n    }\n</style>\n<table border=\"1\" class=\"dataframe\">\n  <thead>\n    <tr style=\"text-align: right;\">\n      <th></th>\n      <th>street</th>\n      <th>station_id</th>\n      <th>lat</th>\n      <th>lon</th>\n      <th>capacity</th>\n    </tr>\n  </thead>\n  <tbody>\n    <tr>\n      <th>0</th>\n      <td>Eads St &amp; 15th St S</td>\n      <td>1</td>\n      <td>38.858971</td>\n      <td>-77.053230</td>\n      <td>15</td>\n    </tr>\n    <tr>\n      <th>1</th>\n      <td>18th St &amp; S Eads St</td>\n      <td>2</td>\n      <td>38.857250</td>\n      <td>-77.053320</td>\n      <td>11</td>\n    </tr>\n    <tr>\n      <th>2</th>\n      <td>Crystal Dr &amp; 20th St S</td>\n      <td>3</td>\n      <td>38.856425</td>\n      <td>-77.049232</td>\n      <td>17</td>\n    </tr>\n    <tr>\n      <th>3</th>\n      <td>Crystal Dr &amp; 15th St S</td>\n      <td>4</td>\n      <td>38.860170</td>\n      <td>-77.049593</td>\n      <td>11</td>\n    </tr>\n    <tr>\n      <th>4</th>\n      <td>Aurora Hills Cmty Ctr / 18th St &amp; S Hayes St</td>\n      <td>5</td>\n      <td>38.857866</td>\n      <td>-77.059490</td>\n      <td>11</td>\n    </tr>\n    <tr>\n      <th>...</th>\n      <td>...</td>\n      <td>...</td>\n      <td>...</td>\n      <td>...</td>\n      <td>...</td>\n    </tr>\n    <tr>\n      <th>616</th>\n      <td>2nd &amp; V St SW / James Creek Marina</td>\n      <td>654</td>\n      <td>38.863743</td>\n      <td>-77.013814</td>\n      <td>19</td>\n    </tr>\n    <tr>\n      <th>617</th>\n      <td>1st St &amp; Potomac Ave SE</td>\n      <td>655</td>\n      <td>38.871841</td>\n      <td>-77.005910</td>\n      <td>19</td>\n    </tr>\n    <tr>\n      <th>618</th>\n      <td>20th &amp; Columbia Rd NW</td>\n      <td>656</td>\n      <td>38.918036</td>\n      <td>-77.045487</td>\n      <td>19</td>\n    </tr>\n    <tr>\n      <th>619</th>\n      <td>3rd &amp; M st SE</td>\n      <td>657</td>\n      <td>38.876823</td>\n      <td>-77.002161</td>\n      <td>23</td>\n    </tr>\n    <tr>\n      <th>620</th>\n      <td>53rd &amp; D St SE/C.W. Harris Elementary</td>\n      <td>659</td>\n      <td>38.883318</td>\n      <td>-76.925315</td>\n      <td>19</td>\n    </tr>\n  </tbody>\n</table>\n<p>621 rows × 5 columns</p>\n</div>"
     },
     "metadata": {},
     "execution_count": 7
    }
   ],
   "source": [
    "all_stations"
   ]
  },
  {
   "cell_type": "code",
   "execution_count": 8,
   "metadata": {},
   "outputs": [],
   "source": [
    "all_stations.to_csv('stations_capitalbikeshare.csv')"
   ]
  }
 ]
}