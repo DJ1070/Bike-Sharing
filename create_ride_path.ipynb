{
 "metadata": {
  "language_info": {
   "codemirror_mode": {
    "name": "ipython",
    "version": 3
   },
   "file_extension": ".py",
   "mimetype": "text/x-python",
   "name": "python",
   "nbconvert_exporter": "python",
   "pygments_lexer": "ipython3",
   "version": "3.8.5-final"
  },
  "orig_nbformat": 2,
  "kernelspec": {
   "name": "python3",
   "display_name": "Python 3.8.5 64-bit (conda)",
   "metadata": {
    "interpreter": {
     "hash": "b3ba2566441a7c06988d0923437866b63cedc61552a5af99d1f4fb67d367b25f"
    }
   }
  }
 },
 "nbformat": 4,
 "nbformat_minor": 2,
 "cells": [
  {
   "cell_type": "code",
   "execution_count": 1,
   "metadata": {},
   "outputs": [],
   "source": [
    "import pandas as pd\n",
    "import numpy as np"
   ]
  },
  {
   "cell_type": "code",
   "execution_count": 2,
   "metadata": {},
   "outputs": [],
   "source": [
    "df = pd.read_csv('202010-capitalbikeshare-tripdata.csv')"
   ]
  },
  {
   "cell_type": "code",
<<<<<<< HEAD
   "execution_count": 4,
=======
   "execution_count": 3,
>>>>>>> 021c79fc4dd9f302c2cc34621b450f2140c5f4e0
   "metadata": {},
   "outputs": [],
   "source": [
    "df = df.dropna()"
   ]
  },
  {
   "cell_type": "code",
<<<<<<< HEAD
   "execution_count": 7,
=======
   "execution_count": 4,
>>>>>>> 021c79fc4dd9f302c2cc34621b450f2140c5f4e0
   "metadata": {},
   "outputs": [],
   "source": [
    "df = df.drop(['rideable_type', 'started_at', 'ended_at'], axis = 1)"
   ]
  },
  {
   "cell_type": "code",
<<<<<<< HEAD
   "execution_count": 8,
=======
   "execution_count": 5,
>>>>>>> 021c79fc4dd9f302c2cc34621b450f2140c5f4e0
   "metadata": {},
   "outputs": [],
   "source": [
    "df.start_station_id = df.start_station_id.astype(int)\n",
    "df.end_station_id = df.end_station_id.astype(int)"
   ]
  },
  {
   "cell_type": "code",
<<<<<<< HEAD
   "execution_count": 9,
=======
   "execution_count": 6,
>>>>>>> 021c79fc4dd9f302c2cc34621b450f2140c5f4e0
   "metadata": {},
   "outputs": [],
   "source": [
    "df['start'] = df.start_station_id\n",
    "df['end'] = df.end_station_id"
   ]
  },
  {
   "cell_type": "code",
<<<<<<< HEAD
   "execution_count": 10,
=======
   "execution_count": 7,
>>>>>>> 021c79fc4dd9f302c2cc34621b450f2140c5f4e0
   "metadata": {},
   "outputs": [],
   "source": [
    "df.start = df.start.astype(str)\n",
    "df.end = df.end.astype(str)"
   ]
  },
  {
   "cell_type": "code",
<<<<<<< HEAD
=======
   "execution_count": 50,
   "metadata": {},
   "outputs": [
    {
     "output_type": "execute_result",
     "data": {
      "text/plain": [
       "ride_id                object\n",
       "start_station_name     object\n",
       "start_station_id        int32\n",
       "end_station_name       object\n",
       "end_station_id          int32\n",
       "start_lat             float64\n",
       "start_lng             float64\n",
       "end_lat               float64\n",
       "end_lng               float64\n",
       "member_casual          object\n",
       "Path_ID                object\n",
       "start                  object\n",
       "end                    object\n",
       "dtype: object"
      ]
     },
     "metadata": {},
     "execution_count": 50
    }
   ],
   "source": []
  },
  {
   "cell_type": "code",
>>>>>>> 021c79fc4dd9f302c2cc34621b450f2140c5f4e0
   "execution_count": 9,
   "metadata": {},
   "outputs": [
    {
     "output_type": "execute_result",
     "data": {
      "text/plain": [
       "543       31265\n",
       "1515      31101\n",
       "1903      31101\n",
       "1904      31101\n",
       "1991      31265\n",
       "          ...  \n",
       "229826    31324\n",
       "229827    31324\n",
       "229828    31324\n",
       "229829    31512\n",
       "229831    31018\n",
       "Name: end, Length: 202426, dtype: object"
      ]
     },
     "metadata": {},
     "execution_count": 9
    }
   ],
   "source": [
    "df.end"
   ]
  },
  {
   "cell_type": "code",
   "execution_count": 10,
   "metadata": {},
   "outputs": [],
   "source": [
    "df['Path_ID'] = df.start + '_' + df.end"
   ]
  },
  {
   "cell_type": "code",
   "execution_count": 11,
   "metadata": {},
   "outputs": [
    {
     "output_type": "execute_result",
     "data": {
      "text/plain": [
       "543       31265_31265\n",
       "1515      31101_31101\n",
       "1903      31101_31101\n",
       "1904      31101_31101\n",
       "1991      31265_31265\n",
       "             ...     \n",
       "229826    31224_31324\n",
       "229827    31306_31324\n",
       "229828    31224_31324\n",
       "229829    31224_31512\n",
       "229831    31219_31018\n",
       "Name: Path_ID, Length: 202426, dtype: object"
      ]
     },
     "metadata": {},
     "execution_count": 11
    }
   ],
   "source": [
    "df.Path_ID"
   ]
  },
  {
   "cell_type": "code",
   "execution_count": 12,
   "metadata": {},
   "outputs": [],
   "source": [
    "df = df.drop(['start', 'end'], axis = 1)"
   ]
  },
  {
   "cell_type": "code",
   "execution_count": 14,
   "metadata": {},
   "outputs": [],
   "source": [
    "df2 = df.copy()\n",
    "df3 = df.copy()"
   ]
  },
  {
   "cell_type": "code",
   "execution_count": 16,
   "metadata": {},
   "outputs": [],
   "source": [
    "df2 = df2.drop(['end_station_name', 'end_station_id', 'end_lat', 'end_lng'], axis = 1)\n",
    "df3 = df3.drop(['start_station_name', 'start_station_id', 'start_lat', 'start_lng'], axis = 1)"
   ]
  },
  {
   "cell_type": "code",
   "execution_count": 19,
   "metadata": {},
   "outputs": [],
   "source": [
    "df2['origin-destination'] = 'Origin'\n",
    "df3['origin-destination'] = 'Destination'"
   ]
  },
  {
   "cell_type": "code",
   "execution_count": 24,
   "metadata": {},
   "outputs": [
    {
     "output_type": "execute_result",
     "data": {
      "text/plain": [
       "Index(['ride_id', 'station_name', 'station_id', 'lat', 'lon', 'member_casual',\n",
       "       'Path_ID', 'origin-destination'],\n",
       "      dtype='object')"
      ]
     },
     "metadata": {},
     "execution_count": 24
    }
   ],
   "source": [
    "df2.columns"
   ]
  },
  {
   "cell_type": "code",
   "execution_count": 23,
   "metadata": {},
   "outputs": [],
   "source": [
    "df2.columns = ['ride_id', 'station_name', 'station_id', 'lat', 'lon', 'member_casual', 'Path_ID', 'origin-destination']\n",
    "df3.columns = ['ride_id', 'station_name', 'station_id', 'lat', 'lon', 'member_casual', 'Path_ID', 'origin-destination']"
   ]
  },
  {
   "cell_type": "code",
   "execution_count": 25,
   "metadata": {},
   "outputs": [],
   "source": [
    "frames = [df2, df3]\n",
    "df4 = pd.concat(frames)"
   ]
  },
  {
   "cell_type": "code",
   "execution_count": 86,
   "metadata": {},
   "outputs": [],
   "source": [
    "#df4 = df4.drop_duplicates(subset = ['station_name'], keep = 'first')"
   ]
  },
  {
   "cell_type": "code",
   "execution_count": 27,
   "metadata": {},
   "outputs": [],
   "source": [
    "df4.reset_index(inplace = True)"
   ]
  },
  {
   "cell_type": "code",
   "execution_count": 29,
   "metadata": {},
   "outputs": [],
   "source": [
    "df4 = df4.drop('index', axis = 1)"
   ]
  },
  {
   "cell_type": "code",
   "execution_count": 30,
   "metadata": {},
   "outputs": [
    {
     "output_type": "execute_result",
     "data": {
      "text/plain": [
       "            ride_id                   station_name  station_id        lat  \\\n",
       "0  0D1F5C5A51025980  5th St & Massachusetts Ave NW       31265  38.900948   \n",
       "1  635724443DEF21CB                 14th & V St NW       31101  38.917737   \n",
       "2  2A4308298BF46457                 14th & V St NW       31101  38.917765   \n",
       "\n",
       "         lon member_casual      Path_ID origin-destination  \n",
       "0 -77.018713        casual  31265_31265             Origin  \n",
       "1 -77.031856        casual  31101_31101             Origin  \n",
       "2 -77.031757        member  31101_31101             Origin  "
      ],
      "text/html": "<div>\n<style scoped>\n    .dataframe tbody tr th:only-of-type {\n        vertical-align: middle;\n    }\n\n    .dataframe tbody tr th {\n        vertical-align: top;\n    }\n\n    .dataframe thead th {\n        text-align: right;\n    }\n</style>\n<table border=\"1\" class=\"dataframe\">\n  <thead>\n    <tr style=\"text-align: right;\">\n      <th></th>\n      <th>ride_id</th>\n      <th>station_name</th>\n      <th>station_id</th>\n      <th>lat</th>\n      <th>lon</th>\n      <th>member_casual</th>\n      <th>Path_ID</th>\n      <th>origin-destination</th>\n    </tr>\n  </thead>\n  <tbody>\n    <tr>\n      <th>0</th>\n      <td>0D1F5C5A51025980</td>\n      <td>5th St &amp; Massachusetts Ave NW</td>\n      <td>31265</td>\n      <td>38.900948</td>\n      <td>-77.018713</td>\n      <td>casual</td>\n      <td>31265_31265</td>\n      <td>Origin</td>\n    </tr>\n    <tr>\n      <th>1</th>\n      <td>635724443DEF21CB</td>\n      <td>14th &amp; V St NW</td>\n      <td>31101</td>\n      <td>38.917737</td>\n      <td>-77.031856</td>\n      <td>casual</td>\n      <td>31101_31101</td>\n      <td>Origin</td>\n    </tr>\n    <tr>\n      <th>2</th>\n      <td>2A4308298BF46457</td>\n      <td>14th &amp; V St NW</td>\n      <td>31101</td>\n      <td>38.917765</td>\n      <td>-77.031757</td>\n      <td>member</td>\n      <td>31101_31101</td>\n      <td>Origin</td>\n    </tr>\n  </tbody>\n</table>\n</div>"
     },
     "metadata": {},
     "execution_count": 30
    }
   ],
   "source": [
    "df4.head(3)"
   ]
  },
  {
   "cell_type": "code",
   "execution_count": 32,
   "metadata": {},
   "outputs": [],
   "source": [
    "df4.to_csv('rides_2020_10_paths.csv', sep = ';')"
   ]
  },
  {
   "cell_type": "code",
   "execution_count": null,
   "metadata": {},
   "outputs": [],
   "source": []
  }
 ]
}