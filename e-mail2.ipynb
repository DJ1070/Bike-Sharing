{
 "metadata": {
  "language_info": {
   "codemirror_mode": {
    "name": "ipython",
    "version": 3
   },
   "file_extension": ".py",
   "mimetype": "text/x-python",
   "name": "python",
   "nbconvert_exporter": "python",
   "pygments_lexer": "ipython3",
   "version": "3.8.5-final"
  },
  "orig_nbformat": 2,
  "kernelspec": {
   "name": "python3",
   "display_name": "Python 3",
   "language": "python"
  }
 },
 "nbformat": 4,
 "nbformat_minor": 2,
 "cells": [
  {
   "cell_type": "code",
   "execution_count": 42,
   "metadata": {},
   "outputs": [],
   "source": [
    "import pandas as pd\n",
    "import numpy as np\n",
    "import matplotlib.pyplot as plt\n",
    "import seaborn as sns\n",
    "import plotly.express as px\n",
    "import chart_studio.plotly as py\n",
    "import plotly.graph_objects as go\n",
    "\n",
    "df = pd.read_csv('202012-capitalbikeshare-tripdata.csv')"
   ]
  },
  {
   "cell_type": "code",
   "execution_count": 43,
   "metadata": {},
   "outputs": [
    {
     "output_type": "execute_result",
     "data": {
      "text/plain": [
       "            ride_id rideable_type           started_at             ended_at  \\\n",
       "0  C04E20007D039277   docked_bike  2020-12-02 09:10:36  2020-12-02 09:24:12   \n",
       "1  A488C0D9F4761D06  classic_bike  2020-12-31 12:46:29  2020-12-31 14:01:07   \n",
       "2  9E7E97A927A85552  classic_bike  2020-12-31 12:47:03  2020-12-31 14:01:04   \n",
       "\n",
       "              start_station_name  start_station_id  \\\n",
       "0       18th St & Wyoming Ave NW           31114.0   \n",
       "1  Potomac & Pennsylvania Ave SE           31606.0   \n",
       "2  Potomac & Pennsylvania Ave SE           31606.0   \n",
       "\n",
       "                end_station_name  end_station_id  start_lat  start_lng  \\\n",
       "0  18th St & Pennsylvania Ave NW         31242.0  38.918809 -77.041571   \n",
       "1  17th St & Independence Ave SW         31290.0  38.880300 -76.986200   \n",
       "2  17th St & Independence Ave SW         31290.0  38.880300 -76.986200   \n",
       "\n",
       "     end_lat    end_lng member_casual  \n",
       "0  38.899680 -77.041539        casual  \n",
       "1  38.888097 -77.038325        casual  \n",
       "2  38.888097 -77.038325        casual  "
      ],
      "text/html": "<div>\n<style scoped>\n    .dataframe tbody tr th:only-of-type {\n        vertical-align: middle;\n    }\n\n    .dataframe tbody tr th {\n        vertical-align: top;\n    }\n\n    .dataframe thead th {\n        text-align: right;\n    }\n</style>\n<table border=\"1\" class=\"dataframe\">\n  <thead>\n    <tr style=\"text-align: right;\">\n      <th></th>\n      <th>ride_id</th>\n      <th>rideable_type</th>\n      <th>started_at</th>\n      <th>ended_at</th>\n      <th>start_station_name</th>\n      <th>start_station_id</th>\n      <th>end_station_name</th>\n      <th>end_station_id</th>\n      <th>start_lat</th>\n      <th>start_lng</th>\n      <th>end_lat</th>\n      <th>end_lng</th>\n      <th>member_casual</th>\n    </tr>\n  </thead>\n  <tbody>\n    <tr>\n      <th>0</th>\n      <td>C04E20007D039277</td>\n      <td>docked_bike</td>\n      <td>2020-12-02 09:10:36</td>\n      <td>2020-12-02 09:24:12</td>\n      <td>18th St &amp; Wyoming Ave NW</td>\n      <td>31114.0</td>\n      <td>18th St &amp; Pennsylvania Ave NW</td>\n      <td>31242.0</td>\n      <td>38.918809</td>\n      <td>-77.041571</td>\n      <td>38.899680</td>\n      <td>-77.041539</td>\n      <td>casual</td>\n    </tr>\n    <tr>\n      <th>1</th>\n      <td>A488C0D9F4761D06</td>\n      <td>classic_bike</td>\n      <td>2020-12-31 12:46:29</td>\n      <td>2020-12-31 14:01:07</td>\n      <td>Potomac &amp; Pennsylvania Ave SE</td>\n      <td>31606.0</td>\n      <td>17th St &amp; Independence Ave SW</td>\n      <td>31290.0</td>\n      <td>38.880300</td>\n      <td>-76.986200</td>\n      <td>38.888097</td>\n      <td>-77.038325</td>\n      <td>casual</td>\n    </tr>\n    <tr>\n      <th>2</th>\n      <td>9E7E97A927A85552</td>\n      <td>classic_bike</td>\n      <td>2020-12-31 12:47:03</td>\n      <td>2020-12-31 14:01:04</td>\n      <td>Potomac &amp; Pennsylvania Ave SE</td>\n      <td>31606.0</td>\n      <td>17th St &amp; Independence Ave SW</td>\n      <td>31290.0</td>\n      <td>38.880300</td>\n      <td>-76.986200</td>\n      <td>38.888097</td>\n      <td>-77.038325</td>\n      <td>casual</td>\n    </tr>\n  </tbody>\n</table>\n</div>"
     },
     "metadata": {},
     "execution_count": 43
    }
   ],
   "source": [
    "df.head(3)"
   ]
  },
  {
   "cell_type": "code",
   "execution_count": 44,
   "metadata": {},
   "outputs": [
    {
     "output_type": "execute_result",
     "data": {
      "text/plain": [
       "Index(['ride_id', 'rideable_type', 'started_at', 'ended_at',\n",
       "       'start_station_name', 'start_station_id', 'end_station_name',\n",
       "       'end_station_id', 'start_lat', 'start_lng', 'end_lat', 'end_lng',\n",
       "       'member_casual'],\n",
       "      dtype='object')"
      ]
     },
     "metadata": {},
     "execution_count": 44
    }
   ],
   "source": [
    "df.columns"
   ]
  },
  {
   "cell_type": "code",
   "execution_count": 45,
   "metadata": {},
   "outputs": [
    {
     "output_type": "execute_result",
     "data": {
      "text/plain": [
       "ride_id                object\n",
       "rideable_type          object\n",
       "started_at             object\n",
       "ended_at               object\n",
       "start_station_name     object\n",
       "start_station_id      float64\n",
       "end_station_name       object\n",
       "end_station_id        float64\n",
       "start_lat             float64\n",
       "start_lng             float64\n",
       "end_lat               float64\n",
       "end_lng               float64\n",
       "member_casual          object\n",
       "dtype: object"
      ]
     },
     "metadata": {},
     "execution_count": 45
    }
   ],
   "source": [
    "df.dtypes"
   ]
  },
  {
   "cell_type": "code",
   "execution_count": 46,
   "metadata": {},
   "outputs": [
    {
     "output_type": "execute_result",
     "data": {
      "text/plain": [
       "classic_bike     48656\n",
       "docked_bike      28924\n",
       "electric_bike    28249\n",
       "Name: rideable_type, dtype: int64"
      ]
     },
     "metadata": {},
     "execution_count": 46
    }
   ],
   "source": [
    "df.rideable_type.value_counts()"
   ]
  },
  {
   "cell_type": "code",
   "execution_count": 47,
   "metadata": {},
   "outputs": [
    {
     "output_type": "execute_result",
     "data": {
      "text/plain": [
       "<AxesSubplot:>"
      ]
     },
     "metadata": {},
     "execution_count": 47
    },
    {
     "output_type": "display_data",
     "data": {
      "text/plain": "<Figure size 432x288 with 1 Axes>",
      "image/svg+xml": "<?xml version=\"1.0\" encoding=\"utf-8\" standalone=\"no\"?>\r\n<!DOCTYPE svg PUBLIC \"-//W3C//DTD SVG 1.1//EN\"\r\n  \"http://www.w3.org/Graphics/SVG/1.1/DTD/svg11.dtd\">\r\n<!-- Created with matplotlib (https://matplotlib.org/) -->\r\n<svg height=\"301.438437pt\" version=\"1.1\" viewBox=\"0 0 388.0125 301.438437\" width=\"388.0125pt\" xmlns=\"http://www.w3.org/2000/svg\" xmlns:xlink=\"http://www.w3.org/1999/xlink\">\r\n <metadata>\r\n  <rdf:RDF xmlns:cc=\"http://creativecommons.org/ns#\" xmlns:dc=\"http://purl.org/dc/elements/1.1/\" xmlns:rdf=\"http://www.w3.org/1999/02/22-rdf-syntax-ns#\">\r\n   <cc:Work>\r\n    <dc:type rdf:resource=\"http://purl.org/dc/dcmitype/StillImage\"/>\r\n    <dc:date>2021-02-03T16:12:32.468335</dc:date>\r\n    <dc:format>image/svg+xml</dc:format>\r\n    <dc:creator>\r\n     <cc:Agent>\r\n      <dc:title>Matplotlib v3.3.2, https://matplotlib.org/</dc:title>\r\n     </cc:Agent>\r\n    </dc:creator>\r\n   </cc:Work>\r\n  </rdf:RDF>\r\n </metadata>\r\n <defs>\r\n  <style type=\"text/css\">*{stroke-linecap:butt;stroke-linejoin:round;}</style>\r\n </defs>\r\n <g id=\"figure_1\">\r\n  <g id=\"patch_1\">\r\n   <path d=\"M 0 301.438437 \r\nL 388.0125 301.438437 \r\nL 388.0125 0 \r\nL 0 0 \r\nz\r\n\" style=\"fill:none;\"/>\r\n  </g>\r\n  <g id=\"axes_1\">\r\n   <g id=\"patch_2\">\r\n    <path d=\"M 46.0125 224.64 \r\nL 380.8125 224.64 \r\nL 380.8125 7.2 \r\nL 46.0125 7.2 \r\nz\r\n\" style=\"fill:#ffffff;\"/>\r\n   </g>\r\n   <g id=\"patch_3\">\r\n    <path clip-path=\"url(#p29643a47ca)\" d=\"M 73.9125 224.64 \r\nL 129.7125 224.64 \r\nL 129.7125 17.554286 \r\nL 73.9125 17.554286 \r\nz\r\n\" style=\"fill:#1f77b4;\"/>\r\n   </g>\r\n   <g id=\"patch_4\">\r\n    <path clip-path=\"url(#p29643a47ca)\" d=\"M 185.5125 224.64 \r\nL 241.3125 224.64 \r\nL 241.3125 101.536021 \r\nL 185.5125 101.536021 \r\nz\r\n\" style=\"fill:#1f77b4;\"/>\r\n   </g>\r\n   <g id=\"patch_5\">\r\n    <path clip-path=\"url(#p29643a47ca)\" d=\"M 297.1125 224.64 \r\nL 352.9125 224.64 \r\nL 352.9125 104.408901 \r\nL 297.1125 104.408901 \r\nz\r\n\" style=\"fill:#1f77b4;\"/>\r\n   </g>\r\n   <g id=\"matplotlib.axis_1\">\r\n    <g id=\"xtick_1\">\r\n     <g id=\"line2d_1\">\r\n      <defs>\r\n       <path d=\"M 0 0 \r\nL 0 3.5 \r\n\" id=\"me19855fcd1\" style=\"stroke:#000000;stroke-width:0.8;\"/>\r\n      </defs>\r\n      <g>\r\n       <use style=\"stroke:#000000;stroke-width:0.8;\" x=\"101.8125\" xlink:href=\"#me19855fcd1\" y=\"224.64\"/>\r\n      </g>\r\n     </g>\r\n     <g id=\"text_1\">\r\n      <!-- classic_bike -->\r\n      <g transform=\"translate(104.432812 290.447812)rotate(-90)scale(0.1 -0.1)\">\r\n       <defs>\r\n        <path d=\"M 48.78125 52.59375 \r\nL 48.78125 44.1875 \r\nQ 44.96875 46.296875 41.140625 47.34375 \r\nQ 37.3125 48.390625 33.40625 48.390625 \r\nQ 24.65625 48.390625 19.8125 42.84375 \r\nQ 14.984375 37.3125 14.984375 27.296875 \r\nQ 14.984375 17.28125 19.8125 11.734375 \r\nQ 24.65625 6.203125 33.40625 6.203125 \r\nQ 37.3125 6.203125 41.140625 7.25 \r\nQ 44.96875 8.296875 48.78125 10.40625 \r\nL 48.78125 2.09375 \r\nQ 45.015625 0.34375 40.984375 -0.53125 \r\nQ 36.96875 -1.421875 32.421875 -1.421875 \r\nQ 20.0625 -1.421875 12.78125 6.34375 \r\nQ 5.515625 14.109375 5.515625 27.296875 \r\nQ 5.515625 40.671875 12.859375 48.328125 \r\nQ 20.21875 56 33.015625 56 \r\nQ 37.15625 56 41.109375 55.140625 \r\nQ 45.0625 54.296875 48.78125 52.59375 \r\nz\r\n\" id=\"DejaVuSans-99\"/>\r\n        <path d=\"M 9.421875 75.984375 \r\nL 18.40625 75.984375 \r\nL 18.40625 0 \r\nL 9.421875 0 \r\nz\r\n\" id=\"DejaVuSans-108\"/>\r\n        <path d=\"M 34.28125 27.484375 \r\nQ 23.390625 27.484375 19.1875 25 \r\nQ 14.984375 22.515625 14.984375 16.5 \r\nQ 14.984375 11.71875 18.140625 8.90625 \r\nQ 21.296875 6.109375 26.703125 6.109375 \r\nQ 34.1875 6.109375 38.703125 11.40625 \r\nQ 43.21875 16.703125 43.21875 25.484375 \r\nL 43.21875 27.484375 \r\nz\r\nM 52.203125 31.203125 \r\nL 52.203125 0 \r\nL 43.21875 0 \r\nL 43.21875 8.296875 \r\nQ 40.140625 3.328125 35.546875 0.953125 \r\nQ 30.953125 -1.421875 24.3125 -1.421875 \r\nQ 15.921875 -1.421875 10.953125 3.296875 \r\nQ 6 8.015625 6 15.921875 \r\nQ 6 25.140625 12.171875 29.828125 \r\nQ 18.359375 34.515625 30.609375 34.515625 \r\nL 43.21875 34.515625 \r\nL 43.21875 35.40625 \r\nQ 43.21875 41.609375 39.140625 45 \r\nQ 35.0625 48.390625 27.6875 48.390625 \r\nQ 23 48.390625 18.546875 47.265625 \r\nQ 14.109375 46.140625 10.015625 43.890625 \r\nL 10.015625 52.203125 \r\nQ 14.9375 54.109375 19.578125 55.046875 \r\nQ 24.21875 56 28.609375 56 \r\nQ 40.484375 56 46.34375 49.84375 \r\nQ 52.203125 43.703125 52.203125 31.203125 \r\nz\r\n\" id=\"DejaVuSans-97\"/>\r\n        <path d=\"M 44.28125 53.078125 \r\nL 44.28125 44.578125 \r\nQ 40.484375 46.53125 36.375 47.5 \r\nQ 32.28125 48.484375 27.875 48.484375 \r\nQ 21.1875 48.484375 17.84375 46.4375 \r\nQ 14.5 44.390625 14.5 40.28125 \r\nQ 14.5 37.15625 16.890625 35.375 \r\nQ 19.28125 33.59375 26.515625 31.984375 \r\nL 29.59375 31.296875 \r\nQ 39.15625 29.25 43.1875 25.515625 \r\nQ 47.21875 21.78125 47.21875 15.09375 \r\nQ 47.21875 7.46875 41.1875 3.015625 \r\nQ 35.15625 -1.421875 24.609375 -1.421875 \r\nQ 20.21875 -1.421875 15.453125 -0.5625 \r\nQ 10.6875 0.296875 5.421875 2 \r\nL 5.421875 11.28125 \r\nQ 10.40625 8.6875 15.234375 7.390625 \r\nQ 20.0625 6.109375 24.8125 6.109375 \r\nQ 31.15625 6.109375 34.5625 8.28125 \r\nQ 37.984375 10.453125 37.984375 14.40625 \r\nQ 37.984375 18.0625 35.515625 20.015625 \r\nQ 33.0625 21.96875 24.703125 23.78125 \r\nL 21.578125 24.515625 \r\nQ 13.234375 26.265625 9.515625 29.90625 \r\nQ 5.8125 33.546875 5.8125 39.890625 \r\nQ 5.8125 47.609375 11.28125 51.796875 \r\nQ 16.75 56 26.8125 56 \r\nQ 31.78125 56 36.171875 55.265625 \r\nQ 40.578125 54.546875 44.28125 53.078125 \r\nz\r\n\" id=\"DejaVuSans-115\"/>\r\n        <path d=\"M 9.421875 54.6875 \r\nL 18.40625 54.6875 \r\nL 18.40625 0 \r\nL 9.421875 0 \r\nz\r\nM 9.421875 75.984375 \r\nL 18.40625 75.984375 \r\nL 18.40625 64.59375 \r\nL 9.421875 64.59375 \r\nz\r\n\" id=\"DejaVuSans-105\"/>\r\n        <path d=\"M 50.984375 -16.609375 \r\nL 50.984375 -23.578125 \r\nL -0.984375 -23.578125 \r\nL -0.984375 -16.609375 \r\nz\r\n\" id=\"DejaVuSans-95\"/>\r\n        <path d=\"M 48.6875 27.296875 \r\nQ 48.6875 37.203125 44.609375 42.84375 \r\nQ 40.53125 48.484375 33.40625 48.484375 \r\nQ 26.265625 48.484375 22.1875 42.84375 \r\nQ 18.109375 37.203125 18.109375 27.296875 \r\nQ 18.109375 17.390625 22.1875 11.75 \r\nQ 26.265625 6.109375 33.40625 6.109375 \r\nQ 40.53125 6.109375 44.609375 11.75 \r\nQ 48.6875 17.390625 48.6875 27.296875 \r\nz\r\nM 18.109375 46.390625 \r\nQ 20.953125 51.265625 25.265625 53.625 \r\nQ 29.59375 56 35.59375 56 \r\nQ 45.5625 56 51.78125 48.09375 \r\nQ 58.015625 40.1875 58.015625 27.296875 \r\nQ 58.015625 14.40625 51.78125 6.484375 \r\nQ 45.5625 -1.421875 35.59375 -1.421875 \r\nQ 29.59375 -1.421875 25.265625 0.953125 \r\nQ 20.953125 3.328125 18.109375 8.203125 \r\nL 18.109375 0 \r\nL 9.078125 0 \r\nL 9.078125 75.984375 \r\nL 18.109375 75.984375 \r\nz\r\n\" id=\"DejaVuSans-98\"/>\r\n        <path d=\"M 9.078125 75.984375 \r\nL 18.109375 75.984375 \r\nL 18.109375 31.109375 \r\nL 44.921875 54.6875 \r\nL 56.390625 54.6875 \r\nL 27.390625 29.109375 \r\nL 57.625 0 \r\nL 45.90625 0 \r\nL 18.109375 26.703125 \r\nL 18.109375 0 \r\nL 9.078125 0 \r\nz\r\n\" id=\"DejaVuSans-107\"/>\r\n        <path d=\"M 56.203125 29.59375 \r\nL 56.203125 25.203125 \r\nL 14.890625 25.203125 \r\nQ 15.484375 15.921875 20.484375 11.0625 \r\nQ 25.484375 6.203125 34.421875 6.203125 \r\nQ 39.59375 6.203125 44.453125 7.46875 \r\nQ 49.3125 8.734375 54.109375 11.28125 \r\nL 54.109375 2.78125 \r\nQ 49.265625 0.734375 44.1875 -0.34375 \r\nQ 39.109375 -1.421875 33.890625 -1.421875 \r\nQ 20.796875 -1.421875 13.15625 6.1875 \r\nQ 5.515625 13.8125 5.515625 26.8125 \r\nQ 5.515625 40.234375 12.765625 48.109375 \r\nQ 20.015625 56 32.328125 56 \r\nQ 43.359375 56 49.78125 48.890625 \r\nQ 56.203125 41.796875 56.203125 29.59375 \r\nz\r\nM 47.21875 32.234375 \r\nQ 47.125 39.59375 43.09375 43.984375 \r\nQ 39.0625 48.390625 32.421875 48.390625 \r\nQ 24.90625 48.390625 20.390625 44.140625 \r\nQ 15.875 39.890625 15.1875 32.171875 \r\nz\r\n\" id=\"DejaVuSans-101\"/>\r\n       </defs>\r\n       <use xlink:href=\"#DejaVuSans-99\"/>\r\n       <use x=\"54.980469\" xlink:href=\"#DejaVuSans-108\"/>\r\n       <use x=\"82.763672\" xlink:href=\"#DejaVuSans-97\"/>\r\n       <use x=\"144.042969\" xlink:href=\"#DejaVuSans-115\"/>\r\n       <use x=\"196.142578\" xlink:href=\"#DejaVuSans-115\"/>\r\n       <use x=\"248.242188\" xlink:href=\"#DejaVuSans-105\"/>\r\n       <use x=\"276.025391\" xlink:href=\"#DejaVuSans-99\"/>\r\n       <use x=\"331.005859\" xlink:href=\"#DejaVuSans-95\"/>\r\n       <use x=\"381.005859\" xlink:href=\"#DejaVuSans-98\"/>\r\n       <use x=\"444.482422\" xlink:href=\"#DejaVuSans-105\"/>\r\n       <use x=\"472.265625\" xlink:href=\"#DejaVuSans-107\"/>\r\n       <use x=\"526.550781\" xlink:href=\"#DejaVuSans-101\"/>\r\n      </g>\r\n     </g>\r\n    </g>\r\n    <g id=\"xtick_2\">\r\n     <g id=\"line2d_2\">\r\n      <g>\r\n       <use style=\"stroke:#000000;stroke-width:0.8;\" x=\"213.4125\" xlink:href=\"#me19855fcd1\" y=\"224.64\"/>\r\n      </g>\r\n     </g>\r\n     <g id=\"text_2\">\r\n      <!-- docked_bike -->\r\n      <g transform=\"translate(216.032813 293.243125)rotate(-90)scale(0.1 -0.1)\">\r\n       <defs>\r\n        <path d=\"M 45.40625 46.390625 \r\nL 45.40625 75.984375 \r\nL 54.390625 75.984375 \r\nL 54.390625 0 \r\nL 45.40625 0 \r\nL 45.40625 8.203125 \r\nQ 42.578125 3.328125 38.25 0.953125 \r\nQ 33.9375 -1.421875 27.875 -1.421875 \r\nQ 17.96875 -1.421875 11.734375 6.484375 \r\nQ 5.515625 14.40625 5.515625 27.296875 \r\nQ 5.515625 40.1875 11.734375 48.09375 \r\nQ 17.96875 56 27.875 56 \r\nQ 33.9375 56 38.25 53.625 \r\nQ 42.578125 51.265625 45.40625 46.390625 \r\nz\r\nM 14.796875 27.296875 \r\nQ 14.796875 17.390625 18.875 11.75 \r\nQ 22.953125 6.109375 30.078125 6.109375 \r\nQ 37.203125 6.109375 41.296875 11.75 \r\nQ 45.40625 17.390625 45.40625 27.296875 \r\nQ 45.40625 37.203125 41.296875 42.84375 \r\nQ 37.203125 48.484375 30.078125 48.484375 \r\nQ 22.953125 48.484375 18.875 42.84375 \r\nQ 14.796875 37.203125 14.796875 27.296875 \r\nz\r\n\" id=\"DejaVuSans-100\"/>\r\n        <path d=\"M 30.609375 48.390625 \r\nQ 23.390625 48.390625 19.1875 42.75 \r\nQ 14.984375 37.109375 14.984375 27.296875 \r\nQ 14.984375 17.484375 19.15625 11.84375 \r\nQ 23.34375 6.203125 30.609375 6.203125 \r\nQ 37.796875 6.203125 41.984375 11.859375 \r\nQ 46.1875 17.53125 46.1875 27.296875 \r\nQ 46.1875 37.015625 41.984375 42.703125 \r\nQ 37.796875 48.390625 30.609375 48.390625 \r\nz\r\nM 30.609375 56 \r\nQ 42.328125 56 49.015625 48.375 \r\nQ 55.71875 40.765625 55.71875 27.296875 \r\nQ 55.71875 13.875 49.015625 6.21875 \r\nQ 42.328125 -1.421875 30.609375 -1.421875 \r\nQ 18.84375 -1.421875 12.171875 6.21875 \r\nQ 5.515625 13.875 5.515625 27.296875 \r\nQ 5.515625 40.765625 12.171875 48.375 \r\nQ 18.84375 56 30.609375 56 \r\nz\r\n\" id=\"DejaVuSans-111\"/>\r\n       </defs>\r\n       <use xlink:href=\"#DejaVuSans-100\"/>\r\n       <use x=\"63.476562\" xlink:href=\"#DejaVuSans-111\"/>\r\n       <use x=\"124.658203\" xlink:href=\"#DejaVuSans-99\"/>\r\n       <use x=\"179.638672\" xlink:href=\"#DejaVuSans-107\"/>\r\n       <use x=\"233.923828\" xlink:href=\"#DejaVuSans-101\"/>\r\n       <use x=\"295.447266\" xlink:href=\"#DejaVuSans-100\"/>\r\n       <use x=\"358.923828\" xlink:href=\"#DejaVuSans-95\"/>\r\n       <use x=\"408.923828\" xlink:href=\"#DejaVuSans-98\"/>\r\n       <use x=\"472.400391\" xlink:href=\"#DejaVuSans-105\"/>\r\n       <use x=\"500.183594\" xlink:href=\"#DejaVuSans-107\"/>\r\n       <use x=\"554.46875\" xlink:href=\"#DejaVuSans-101\"/>\r\n      </g>\r\n     </g>\r\n    </g>\r\n    <g id=\"xtick_3\">\r\n     <g id=\"line2d_3\">\r\n      <g>\r\n       <use style=\"stroke:#000000;stroke-width:0.8;\" x=\"325.0125\" xlink:href=\"#me19855fcd1\" y=\"224.64\"/>\r\n      </g>\r\n     </g>\r\n     <g id=\"text_3\">\r\n      <!-- electric_bike -->\r\n      <g transform=\"translate(327.632812 294.238437)rotate(-90)scale(0.1 -0.1)\">\r\n       <defs>\r\n        <path d=\"M 18.3125 70.21875 \r\nL 18.3125 54.6875 \r\nL 36.8125 54.6875 \r\nL 36.8125 47.703125 \r\nL 18.3125 47.703125 \r\nL 18.3125 18.015625 \r\nQ 18.3125 11.328125 20.140625 9.421875 \r\nQ 21.96875 7.515625 27.59375 7.515625 \r\nL 36.8125 7.515625 \r\nL 36.8125 0 \r\nL 27.59375 0 \r\nQ 17.1875 0 13.234375 3.875 \r\nQ 9.28125 7.765625 9.28125 18.015625 \r\nL 9.28125 47.703125 \r\nL 2.6875 47.703125 \r\nL 2.6875 54.6875 \r\nL 9.28125 54.6875 \r\nL 9.28125 70.21875 \r\nz\r\n\" id=\"DejaVuSans-116\"/>\r\n        <path d=\"M 41.109375 46.296875 \r\nQ 39.59375 47.171875 37.8125 47.578125 \r\nQ 36.03125 48 33.890625 48 \r\nQ 26.265625 48 22.1875 43.046875 \r\nQ 18.109375 38.09375 18.109375 28.8125 \r\nL 18.109375 0 \r\nL 9.078125 0 \r\nL 9.078125 54.6875 \r\nL 18.109375 54.6875 \r\nL 18.109375 46.1875 \r\nQ 20.953125 51.171875 25.484375 53.578125 \r\nQ 30.03125 56 36.53125 56 \r\nQ 37.453125 56 38.578125 55.875 \r\nQ 39.703125 55.765625 41.0625 55.515625 \r\nz\r\n\" id=\"DejaVuSans-114\"/>\r\n       </defs>\r\n       <use xlink:href=\"#DejaVuSans-101\"/>\r\n       <use x=\"61.523438\" xlink:href=\"#DejaVuSans-108\"/>\r\n       <use x=\"89.306641\" xlink:href=\"#DejaVuSans-101\"/>\r\n       <use x=\"150.830078\" xlink:href=\"#DejaVuSans-99\"/>\r\n       <use x=\"205.810547\" xlink:href=\"#DejaVuSans-116\"/>\r\n       <use x=\"245.019531\" xlink:href=\"#DejaVuSans-114\"/>\r\n       <use x=\"286.132812\" xlink:href=\"#DejaVuSans-105\"/>\r\n       <use x=\"313.916016\" xlink:href=\"#DejaVuSans-99\"/>\r\n       <use x=\"368.896484\" xlink:href=\"#DejaVuSans-95\"/>\r\n       <use x=\"418.896484\" xlink:href=\"#DejaVuSans-98\"/>\r\n       <use x=\"482.373047\" xlink:href=\"#DejaVuSans-105\"/>\r\n       <use x=\"510.15625\" xlink:href=\"#DejaVuSans-107\"/>\r\n       <use x=\"564.441406\" xlink:href=\"#DejaVuSans-101\"/>\r\n      </g>\r\n     </g>\r\n    </g>\r\n   </g>\r\n   <g id=\"matplotlib.axis_2\">\r\n    <g id=\"ytick_1\">\r\n     <g id=\"line2d_4\">\r\n      <defs>\r\n       <path d=\"M 0 0 \r\nL -3.5 0 \r\n\" id=\"m660d070f8f\" style=\"stroke:#000000;stroke-width:0.8;\"/>\r\n      </defs>\r\n      <g>\r\n       <use style=\"stroke:#000000;stroke-width:0.8;\" x=\"46.0125\" xlink:href=\"#m660d070f8f\" y=\"224.64\"/>\r\n      </g>\r\n     </g>\r\n     <g id=\"text_4\">\r\n      <!-- 0 -->\r\n      <g transform=\"translate(32.65 228.439219)scale(0.1 -0.1)\">\r\n       <defs>\r\n        <path d=\"M 31.78125 66.40625 \r\nQ 24.171875 66.40625 20.328125 58.90625 \r\nQ 16.5 51.421875 16.5 36.375 \r\nQ 16.5 21.390625 20.328125 13.890625 \r\nQ 24.171875 6.390625 31.78125 6.390625 \r\nQ 39.453125 6.390625 43.28125 13.890625 \r\nQ 47.125 21.390625 47.125 36.375 \r\nQ 47.125 51.421875 43.28125 58.90625 \r\nQ 39.453125 66.40625 31.78125 66.40625 \r\nz\r\nM 31.78125 74.21875 \r\nQ 44.046875 74.21875 50.515625 64.515625 \r\nQ 56.984375 54.828125 56.984375 36.375 \r\nQ 56.984375 17.96875 50.515625 8.265625 \r\nQ 44.046875 -1.421875 31.78125 -1.421875 \r\nQ 19.53125 -1.421875 13.0625 8.265625 \r\nQ 6.59375 17.96875 6.59375 36.375 \r\nQ 6.59375 54.828125 13.0625 64.515625 \r\nQ 19.53125 74.21875 31.78125 74.21875 \r\nz\r\n\" id=\"DejaVuSans-48\"/>\r\n       </defs>\r\n       <use xlink:href=\"#DejaVuSans-48\"/>\r\n      </g>\r\n     </g>\r\n    </g>\r\n    <g id=\"ytick_2\">\r\n     <g id=\"line2d_5\">\r\n      <g>\r\n       <use style=\"stroke:#000000;stroke-width:0.8;\" x=\"46.0125\" xlink:href=\"#m660d070f8f\" y=\"182.078812\"/>\r\n      </g>\r\n     </g>\r\n     <g id=\"text_5\">\r\n      <!-- 10000 -->\r\n      <g transform=\"translate(7.2 185.878031)scale(0.1 -0.1)\">\r\n       <defs>\r\n        <path d=\"M 12.40625 8.296875 \r\nL 28.515625 8.296875 \r\nL 28.515625 63.921875 \r\nL 10.984375 60.40625 \r\nL 10.984375 69.390625 \r\nL 28.421875 72.90625 \r\nL 38.28125 72.90625 \r\nL 38.28125 8.296875 \r\nL 54.390625 8.296875 \r\nL 54.390625 0 \r\nL 12.40625 0 \r\nz\r\n\" id=\"DejaVuSans-49\"/>\r\n       </defs>\r\n       <use xlink:href=\"#DejaVuSans-49\"/>\r\n       <use x=\"63.623047\" xlink:href=\"#DejaVuSans-48\"/>\r\n       <use x=\"127.246094\" xlink:href=\"#DejaVuSans-48\"/>\r\n       <use x=\"190.869141\" xlink:href=\"#DejaVuSans-48\"/>\r\n       <use x=\"254.492188\" xlink:href=\"#DejaVuSans-48\"/>\r\n      </g>\r\n     </g>\r\n    </g>\r\n    <g id=\"ytick_3\">\r\n     <g id=\"line2d_6\">\r\n      <g>\r\n       <use style=\"stroke:#000000;stroke-width:0.8;\" x=\"46.0125\" xlink:href=\"#m660d070f8f\" y=\"139.517625\"/>\r\n      </g>\r\n     </g>\r\n     <g id=\"text_6\">\r\n      <!-- 20000 -->\r\n      <g transform=\"translate(7.2 143.316844)scale(0.1 -0.1)\">\r\n       <defs>\r\n        <path d=\"M 19.1875 8.296875 \r\nL 53.609375 8.296875 \r\nL 53.609375 0 \r\nL 7.328125 0 \r\nL 7.328125 8.296875 \r\nQ 12.9375 14.109375 22.625 23.890625 \r\nQ 32.328125 33.6875 34.8125 36.53125 \r\nQ 39.546875 41.84375 41.421875 45.53125 \r\nQ 43.3125 49.21875 43.3125 52.78125 \r\nQ 43.3125 58.59375 39.234375 62.25 \r\nQ 35.15625 65.921875 28.609375 65.921875 \r\nQ 23.96875 65.921875 18.8125 64.3125 \r\nQ 13.671875 62.703125 7.8125 59.421875 \r\nL 7.8125 69.390625 \r\nQ 13.765625 71.78125 18.9375 73 \r\nQ 24.125 74.21875 28.421875 74.21875 \r\nQ 39.75 74.21875 46.484375 68.546875 \r\nQ 53.21875 62.890625 53.21875 53.421875 \r\nQ 53.21875 48.921875 51.53125 44.890625 \r\nQ 49.859375 40.875 45.40625 35.40625 \r\nQ 44.1875 33.984375 37.640625 27.21875 \r\nQ 31.109375 20.453125 19.1875 8.296875 \r\nz\r\n\" id=\"DejaVuSans-50\"/>\r\n       </defs>\r\n       <use xlink:href=\"#DejaVuSans-50\"/>\r\n       <use x=\"63.623047\" xlink:href=\"#DejaVuSans-48\"/>\r\n       <use x=\"127.246094\" xlink:href=\"#DejaVuSans-48\"/>\r\n       <use x=\"190.869141\" xlink:href=\"#DejaVuSans-48\"/>\r\n       <use x=\"254.492188\" xlink:href=\"#DejaVuSans-48\"/>\r\n      </g>\r\n     </g>\r\n    </g>\r\n    <g id=\"ytick_4\">\r\n     <g id=\"line2d_7\">\r\n      <g>\r\n       <use style=\"stroke:#000000;stroke-width:0.8;\" x=\"46.0125\" xlink:href=\"#m660d070f8f\" y=\"96.956437\"/>\r\n      </g>\r\n     </g>\r\n     <g id=\"text_7\">\r\n      <!-- 30000 -->\r\n      <g transform=\"translate(7.2 100.755656)scale(0.1 -0.1)\">\r\n       <defs>\r\n        <path d=\"M 40.578125 39.3125 \r\nQ 47.65625 37.796875 51.625 33 \r\nQ 55.609375 28.21875 55.609375 21.1875 \r\nQ 55.609375 10.40625 48.1875 4.484375 \r\nQ 40.765625 -1.421875 27.09375 -1.421875 \r\nQ 22.515625 -1.421875 17.65625 -0.515625 \r\nQ 12.796875 0.390625 7.625 2.203125 \r\nL 7.625 11.71875 \r\nQ 11.71875 9.328125 16.59375 8.109375 \r\nQ 21.484375 6.890625 26.8125 6.890625 \r\nQ 36.078125 6.890625 40.9375 10.546875 \r\nQ 45.796875 14.203125 45.796875 21.1875 \r\nQ 45.796875 27.640625 41.28125 31.265625 \r\nQ 36.765625 34.90625 28.71875 34.90625 \r\nL 20.21875 34.90625 \r\nL 20.21875 43.015625 \r\nL 29.109375 43.015625 \r\nQ 36.375 43.015625 40.234375 45.921875 \r\nQ 44.09375 48.828125 44.09375 54.296875 \r\nQ 44.09375 59.90625 40.109375 62.90625 \r\nQ 36.140625 65.921875 28.71875 65.921875 \r\nQ 24.65625 65.921875 20.015625 65.03125 \r\nQ 15.375 64.15625 9.8125 62.3125 \r\nL 9.8125 71.09375 \r\nQ 15.4375 72.65625 20.34375 73.4375 \r\nQ 25.25 74.21875 29.59375 74.21875 \r\nQ 40.828125 74.21875 47.359375 69.109375 \r\nQ 53.90625 64.015625 53.90625 55.328125 \r\nQ 53.90625 49.265625 50.4375 45.09375 \r\nQ 46.96875 40.921875 40.578125 39.3125 \r\nz\r\n\" id=\"DejaVuSans-51\"/>\r\n       </defs>\r\n       <use xlink:href=\"#DejaVuSans-51\"/>\r\n       <use x=\"63.623047\" xlink:href=\"#DejaVuSans-48\"/>\r\n       <use x=\"127.246094\" xlink:href=\"#DejaVuSans-48\"/>\r\n       <use x=\"190.869141\" xlink:href=\"#DejaVuSans-48\"/>\r\n       <use x=\"254.492188\" xlink:href=\"#DejaVuSans-48\"/>\r\n      </g>\r\n     </g>\r\n    </g>\r\n    <g id=\"ytick_5\">\r\n     <g id=\"line2d_8\">\r\n      <g>\r\n       <use style=\"stroke:#000000;stroke-width:0.8;\" x=\"46.0125\" xlink:href=\"#m660d070f8f\" y=\"54.39525\"/>\r\n      </g>\r\n     </g>\r\n     <g id=\"text_8\">\r\n      <!-- 40000 -->\r\n      <g transform=\"translate(7.2 58.194468)scale(0.1 -0.1)\">\r\n       <defs>\r\n        <path d=\"M 37.796875 64.3125 \r\nL 12.890625 25.390625 \r\nL 37.796875 25.390625 \r\nz\r\nM 35.203125 72.90625 \r\nL 47.609375 72.90625 \r\nL 47.609375 25.390625 \r\nL 58.015625 25.390625 \r\nL 58.015625 17.1875 \r\nL 47.609375 17.1875 \r\nL 47.609375 0 \r\nL 37.796875 0 \r\nL 37.796875 17.1875 \r\nL 4.890625 17.1875 \r\nL 4.890625 26.703125 \r\nz\r\n\" id=\"DejaVuSans-52\"/>\r\n       </defs>\r\n       <use xlink:href=\"#DejaVuSans-52\"/>\r\n       <use x=\"63.623047\" xlink:href=\"#DejaVuSans-48\"/>\r\n       <use x=\"127.246094\" xlink:href=\"#DejaVuSans-48\"/>\r\n       <use x=\"190.869141\" xlink:href=\"#DejaVuSans-48\"/>\r\n       <use x=\"254.492188\" xlink:href=\"#DejaVuSans-48\"/>\r\n      </g>\r\n     </g>\r\n    </g>\r\n    <g id=\"ytick_6\">\r\n     <g id=\"line2d_9\">\r\n      <g>\r\n       <use style=\"stroke:#000000;stroke-width:0.8;\" x=\"46.0125\" xlink:href=\"#m660d070f8f\" y=\"11.834062\"/>\r\n      </g>\r\n     </g>\r\n     <g id=\"text_9\">\r\n      <!-- 50000 -->\r\n      <g transform=\"translate(7.2 15.633281)scale(0.1 -0.1)\">\r\n       <defs>\r\n        <path d=\"M 10.796875 72.90625 \r\nL 49.515625 72.90625 \r\nL 49.515625 64.59375 \r\nL 19.828125 64.59375 \r\nL 19.828125 46.734375 \r\nQ 21.96875 47.46875 24.109375 47.828125 \r\nQ 26.265625 48.1875 28.421875 48.1875 \r\nQ 40.625 48.1875 47.75 41.5 \r\nQ 54.890625 34.8125 54.890625 23.390625 \r\nQ 54.890625 11.625 47.5625 5.09375 \r\nQ 40.234375 -1.421875 26.90625 -1.421875 \r\nQ 22.3125 -1.421875 17.546875 -0.640625 \r\nQ 12.796875 0.140625 7.71875 1.703125 \r\nL 7.71875 11.625 \r\nQ 12.109375 9.234375 16.796875 8.0625 \r\nQ 21.484375 6.890625 26.703125 6.890625 \r\nQ 35.15625 6.890625 40.078125 11.328125 \r\nQ 45.015625 15.765625 45.015625 23.390625 \r\nQ 45.015625 31 40.078125 35.4375 \r\nQ 35.15625 39.890625 26.703125 39.890625 \r\nQ 22.75 39.890625 18.8125 39.015625 \r\nQ 14.890625 38.140625 10.796875 36.28125 \r\nz\r\n\" id=\"DejaVuSans-53\"/>\r\n       </defs>\r\n       <use xlink:href=\"#DejaVuSans-53\"/>\r\n       <use x=\"63.623047\" xlink:href=\"#DejaVuSans-48\"/>\r\n       <use x=\"127.246094\" xlink:href=\"#DejaVuSans-48\"/>\r\n       <use x=\"190.869141\" xlink:href=\"#DejaVuSans-48\"/>\r\n       <use x=\"254.492188\" xlink:href=\"#DejaVuSans-48\"/>\r\n      </g>\r\n     </g>\r\n    </g>\r\n   </g>\r\n   <g id=\"patch_6\">\r\n    <path d=\"M 46.0125 224.64 \r\nL 46.0125 7.2 \r\n\" style=\"fill:none;stroke:#000000;stroke-linecap:square;stroke-linejoin:miter;stroke-width:0.8;\"/>\r\n   </g>\r\n   <g id=\"patch_7\">\r\n    <path d=\"M 380.8125 224.64 \r\nL 380.8125 7.2 \r\n\" style=\"fill:none;stroke:#000000;stroke-linecap:square;stroke-linejoin:miter;stroke-width:0.8;\"/>\r\n   </g>\r\n   <g id=\"patch_8\">\r\n    <path d=\"M 46.0125 224.64 \r\nL 380.8125 224.64 \r\n\" style=\"fill:none;stroke:#000000;stroke-linecap:square;stroke-linejoin:miter;stroke-width:0.8;\"/>\r\n   </g>\r\n   <g id=\"patch_9\">\r\n    <path d=\"M 46.0125 7.2 \r\nL 380.8125 7.2 \r\n\" style=\"fill:none;stroke:#000000;stroke-linecap:square;stroke-linejoin:miter;stroke-width:0.8;\"/>\r\n   </g>\r\n  </g>\r\n </g>\r\n <defs>\r\n  <clipPath id=\"p29643a47ca\">\r\n   <rect height=\"217.44\" width=\"334.8\" x=\"46.0125\" y=\"7.2\"/>\r\n  </clipPath>\r\n </defs>\r\n</svg>\r\n",
      "image/png": "[encoded data removed]"
     },
     "metadata": {
      "needs_background": "light"
     }
    }
   ],
   "source": [
    "df.rideable_type.value_counts().plot(kind = 'bar')"
   ]
  },
  {
   "cell_type": "code",
   "execution_count": 48,
   "metadata": {},
   "outputs": [
    {
     "output_type": "execute_result",
     "data": {
      "text/plain": [
       "<AxesSubplot:>"
      ]
     },
     "metadata": {},
     "execution_count": 48
    },
    {
     "output_type": "display_data",
     "data": {
      "text/plain": "<Figure size 432x288 with 1 Axes>",
      "image/svg+xml": "<?xml version=\"1.0\" encoding=\"utf-8\" standalone=\"no\"?>\r\n<!DOCTYPE svg PUBLIC \"-//W3C//DTD SVG 1.1//EN\"\r\n  \"http://www.w3.org/Graphics/SVG/1.1/DTD/svg11.dtd\">\r\n<!-- Created with matplotlib (https://matplotlib.org/) -->\r\n<svg height=\"248.518125pt\" version=\"1.1\" viewBox=\"0 0 620.621875 248.518125\" width=\"620.621875pt\" xmlns=\"http://www.w3.org/2000/svg\" xmlns:xlink=\"http://www.w3.org/1999/xlink\">\r\n <metadata>\r\n  <rdf:RDF xmlns:cc=\"http://creativecommons.org/ns#\" xmlns:dc=\"http://purl.org/dc/elements/1.1/\" xmlns:rdf=\"http://www.w3.org/1999/02/22-rdf-syntax-ns#\">\r\n   <cc:Work>\r\n    <dc:type rdf:resource=\"http://purl.org/dc/dcmitype/StillImage\"/>\r\n    <dc:date>2021-02-03T16:12:33.091668</dc:date>\r\n    <dc:format>image/svg+xml</dc:format>\r\n    <dc:creator>\r\n     <cc:Agent>\r\n      <dc:title>Matplotlib v3.3.2, https://matplotlib.org/</dc:title>\r\n     </cc:Agent>\r\n    </dc:creator>\r\n   </cc:Work>\r\n  </rdf:RDF>\r\n </metadata>\r\n <defs>\r\n  <style type=\"text/css\">*{stroke-linecap:butt;stroke-linejoin:round;}</style>\r\n </defs>\r\n <g id=\"figure_1\">\r\n  <g id=\"patch_1\">\r\n   <path d=\"M -0 248.518125 \r\nL 620.621875 248.518125 \r\nL 620.621875 0 \r\nL -0 0 \r\nz\r\n\" style=\"fill:none;\"/>\r\n  </g>\r\n  <g id=\"axes_1\">\r\n   <g id=\"patch_2\">\r\n    <path d=\"M 278.621875 224.64 \r\nL 613.421875 224.64 \r\nL 613.421875 7.2 \r\nL 278.621875 7.2 \r\nz\r\n\" style=\"fill:#ffffff;\"/>\r\n   </g>\r\n   <g id=\"patch_3\">\r\n    <path clip-path=\"url(#p94a865a97e)\" d=\"M 278.621875 221.922 \r\nL 597.479018 221.922 \r\nL 597.479018 216.486 \r\nL 278.621875 216.486 \r\nz\r\n\" style=\"fill:#1f77b4;\"/>\r\n   </g>\r\n   <g id=\"patch_4\">\r\n    <path clip-path=\"url(#p94a865a97e)\" d=\"M 278.621875 211.05 \r\nL 560.181508 211.05 \r\nL 560.181508 205.614 \r\nL 278.621875 205.614 \r\nz\r\n\" style=\"fill:#1f77b4;\"/>\r\n   </g>\r\n   <g id=\"patch_5\">\r\n    <path clip-path=\"url(#p94a865a97e)\" d=\"M 278.621875 200.178 \r\nL 533.610079 200.178 \r\nL 533.610079 194.742 \r\nL 278.621875 194.742 \r\nz\r\n\" style=\"fill:#1f77b4;\"/>\r\n   </g>\r\n   <g id=\"patch_6\">\r\n    <path clip-path=\"url(#p94a865a97e)\" d=\"M 278.621875 189.306 \r\nL 496.800119 189.306 \r\nL 496.800119 183.87 \r\nL 278.621875 183.87 \r\nz\r\n\" style=\"fill:#1f77b4;\"/>\r\n   </g>\r\n   <g id=\"patch_7\">\r\n    <path clip-path=\"url(#p94a865a97e)\" d=\"M 278.621875 178.434 \r\nL 492.899726 178.434 \r\nL 492.899726 172.998 \r\nL 278.621875 172.998 \r\nz\r\n\" style=\"fill:#1f77b4;\"/>\r\n   </g>\r\n   <g id=\"patch_8\">\r\n    <path clip-path=\"url(#p94a865a97e)\" d=\"M 278.621875 167.562 \r\nL 487.29291 167.562 \r\nL 487.29291 162.126 \r\nL 278.621875 162.126 \r\nz\r\n\" style=\"fill:#1f77b4;\"/>\r\n   </g>\r\n   <g id=\"patch_9\">\r\n    <path clip-path=\"url(#p94a865a97e)\" d=\"M 278.621875 156.69 \r\nL 479.979673 156.69 \r\nL 479.979673 151.254 \r\nL 278.621875 151.254 \r\nz\r\n\" style=\"fill:#1f77b4;\"/>\r\n   </g>\r\n   <g id=\"patch_10\">\r\n    <path clip-path=\"url(#p94a865a97e)\" d=\"M 278.621875 145.818 \r\nL 473.153985 145.818 \r\nL 473.153985 140.382 \r\nL 278.621875 140.382 \r\nz\r\n\" style=\"fill:#1f77b4;\"/>\r\n   </g>\r\n   <g id=\"patch_11\">\r\n    <path clip-path=\"url(#p94a865a97e)\" d=\"M 278.621875 134.946 \r\nL 473.153985 134.946 \r\nL 473.153985 129.51 \r\nL 278.621875 129.51 \r\nz\r\n\" style=\"fill:#1f77b4;\"/>\r\n   </g>\r\n   <g id=\"patch_12\">\r\n    <path clip-path=\"url(#p94a865a97e)\" d=\"M 278.621875 124.074 \r\nL 472.910211 124.074 \r\nL 472.910211 118.638 \r\nL 278.621875 118.638 \r\nz\r\n\" style=\"fill:#1f77b4;\"/>\r\n   </g>\r\n   <g id=\"patch_13\">\r\n    <path clip-path=\"url(#p94a865a97e)\" d=\"M 278.621875 113.202 \r\nL 472.422661 113.202 \r\nL 472.422661 107.766 \r\nL 278.621875 107.766 \r\nz\r\n\" style=\"fill:#1f77b4;\"/>\r\n   </g>\r\n   <g id=\"patch_14\">\r\n    <path clip-path=\"url(#p94a865a97e)\" d=\"M 278.621875 102.33 \r\nL 465.840748 102.33 \r\nL 465.840748 96.894 \r\nL 278.621875 96.894 \r\nz\r\n\" style=\"fill:#1f77b4;\"/>\r\n   </g>\r\n   <g id=\"patch_15\">\r\n    <path clip-path=\"url(#p94a865a97e)\" d=\"M 278.621875 91.458 \r\nL 462.427904 91.458 \r\nL 462.427904 86.022 \r\nL 278.621875 86.022 \r\nz\r\n\" style=\"fill:#1f77b4;\"/>\r\n   </g>\r\n   <g id=\"patch_16\">\r\n    <path clip-path=\"url(#p94a865a97e)\" d=\"M 278.621875 80.586 \r\nL 462.184129 80.586 \r\nL 462.184129 75.15 \r\nL 278.621875 75.15 \r\nz\r\n\" style=\"fill:#1f77b4;\"/>\r\n   </g>\r\n   <g id=\"patch_17\">\r\n    <path clip-path=\"url(#p94a865a97e)\" d=\"M 278.621875 69.714 \r\nL 460.721482 69.714 \r\nL 460.721482 64.278 \r\nL 278.621875 64.278 \r\nz\r\n\" style=\"fill:#1f77b4;\"/>\r\n   </g>\r\n   <g id=\"patch_18\">\r\n    <path clip-path=\"url(#p94a865a97e)\" d=\"M 278.621875 58.842 \r\nL 456.577314 58.842 \r\nL 456.577314 53.406 \r\nL 278.621875 53.406 \r\nz\r\n\" style=\"fill:#1f77b4;\"/>\r\n   </g>\r\n   <g id=\"patch_19\">\r\n    <path clip-path=\"url(#p94a865a97e)\" d=\"M 278.621875 47.97 \r\nL 454.870892 47.97 \r\nL 454.870892 42.534 \r\nL 278.621875 42.534 \r\nz\r\n\" style=\"fill:#1f77b4;\"/>\r\n   </g>\r\n   <g id=\"patch_20\">\r\n    <path clip-path=\"url(#p94a865a97e)\" d=\"M 278.621875 37.098 \r\nL 451.458048 37.098 \r\nL 451.458048 31.662 \r\nL 278.621875 31.662 \r\nz\r\n\" style=\"fill:#1f77b4;\"/>\r\n   </g>\r\n   <g id=\"patch_21\">\r\n    <path clip-path=\"url(#p94a865a97e)\" d=\"M 278.621875 26.226 \r\nL 451.458048 26.226 \r\nL 451.458048 20.79 \r\nL 278.621875 20.79 \r\nz\r\n\" style=\"fill:#1f77b4;\"/>\r\n   </g>\r\n   <g id=\"patch_22\">\r\n    <path clip-path=\"url(#p94a865a97e)\" d=\"M 278.621875 15.354 \r\nL 448.776528 15.354 \r\nL 448.776528 9.918 \r\nL 278.621875 9.918 \r\nz\r\n\" style=\"fill:#1f77b4;\"/>\r\n   </g>\r\n   <g id=\"matplotlib.axis_1\">\r\n    <g id=\"xtick_1\">\r\n     <g id=\"line2d_1\">\r\n      <defs>\r\n       <path d=\"M 0 0 \r\nL 0 3.5 \r\n\" id=\"m43f05d3b7e\" style=\"stroke:#000000;stroke-width:0.8;\"/>\r\n      </defs>\r\n      <g>\r\n       <use style=\"stroke:#000000;stroke-width:0.8;\" x=\"278.621875\" xlink:href=\"#m43f05d3b7e\" y=\"224.64\"/>\r\n      </g>\r\n     </g>\r\n     <g id=\"text_1\">\r\n      <!-- 0 -->\r\n      <g transform=\"translate(275.440625 239.238437)scale(0.1 -0.1)\">\r\n       <defs>\r\n        <path d=\"M 31.78125 66.40625 \r\nQ 24.171875 66.40625 20.328125 58.90625 \r\nQ 16.5 51.421875 16.5 36.375 \r\nQ 16.5 21.390625 20.328125 13.890625 \r\nQ 24.171875 6.390625 31.78125 6.390625 \r\nQ 39.453125 6.390625 43.28125 13.890625 \r\nQ 47.125 21.390625 47.125 36.375 \r\nQ 47.125 51.421875 43.28125 58.90625 \r\nQ 39.453125 66.40625 31.78125 66.40625 \r\nz\r\nM 31.78125 74.21875 \r\nQ 44.046875 74.21875 50.515625 64.515625 \r\nQ 56.984375 54.828125 56.984375 36.375 \r\nQ 56.984375 17.96875 50.515625 8.265625 \r\nQ 44.046875 -1.421875 31.78125 -1.421875 \r\nQ 19.53125 -1.421875 13.0625 8.265625 \r\nQ 6.59375 17.96875 6.59375 36.375 \r\nQ 6.59375 54.828125 13.0625 64.515625 \r\nQ 19.53125 74.21875 31.78125 74.21875 \r\nz\r\n\" id=\"DejaVuSans-48\"/>\r\n       </defs>\r\n       <use xlink:href=\"#DejaVuSans-48\"/>\r\n      </g>\r\n     </g>\r\n    </g>\r\n    <g id=\"xtick_2\">\r\n     <g id=\"line2d_2\">\r\n      <g>\r\n       <use style=\"stroke:#000000;stroke-width:0.8;\" x=\"327.37679\" xlink:href=\"#m43f05d3b7e\" y=\"224.64\"/>\r\n      </g>\r\n     </g>\r\n     <g id=\"text_2\">\r\n      <!-- 200 -->\r\n      <g transform=\"translate(317.83304 239.238437)scale(0.1 -0.1)\">\r\n       <defs>\r\n        <path d=\"M 19.1875 8.296875 \r\nL 53.609375 8.296875 \r\nL 53.609375 0 \r\nL 7.328125 0 \r\nL 7.328125 8.296875 \r\nQ 12.9375 14.109375 22.625 23.890625 \r\nQ 32.328125 33.6875 34.8125 36.53125 \r\nQ 39.546875 41.84375 41.421875 45.53125 \r\nQ 43.3125 49.21875 43.3125 52.78125 \r\nQ 43.3125 58.59375 39.234375 62.25 \r\nQ 35.15625 65.921875 28.609375 65.921875 \r\nQ 23.96875 65.921875 18.8125 64.3125 \r\nQ 13.671875 62.703125 7.8125 59.421875 \r\nL 7.8125 69.390625 \r\nQ 13.765625 71.78125 18.9375 73 \r\nQ 24.125 74.21875 28.421875 74.21875 \r\nQ 39.75 74.21875 46.484375 68.546875 \r\nQ 53.21875 62.890625 53.21875 53.421875 \r\nQ 53.21875 48.921875 51.53125 44.890625 \r\nQ 49.859375 40.875 45.40625 35.40625 \r\nQ 44.1875 33.984375 37.640625 27.21875 \r\nQ 31.109375 20.453125 19.1875 8.296875 \r\nz\r\n\" id=\"DejaVuSans-50\"/>\r\n       </defs>\r\n       <use xlink:href=\"#DejaVuSans-50\"/>\r\n       <use x=\"63.623047\" xlink:href=\"#DejaVuSans-48\"/>\r\n       <use x=\"127.246094\" xlink:href=\"#DejaVuSans-48\"/>\r\n      </g>\r\n     </g>\r\n    </g>\r\n    <g id=\"xtick_3\">\r\n     <g id=\"line2d_3\">\r\n      <g>\r\n       <use style=\"stroke:#000000;stroke-width:0.8;\" x=\"376.131705\" xlink:href=\"#m43f05d3b7e\" y=\"224.64\"/>\r\n      </g>\r\n     </g>\r\n     <g id=\"text_3\">\r\n      <!-- 400 -->\r\n      <g transform=\"translate(366.587955 239.238437)scale(0.1 -0.1)\">\r\n       <defs>\r\n        <path d=\"M 37.796875 64.3125 \r\nL 12.890625 25.390625 \r\nL 37.796875 25.390625 \r\nz\r\nM 35.203125 72.90625 \r\nL 47.609375 72.90625 \r\nL 47.609375 25.390625 \r\nL 58.015625 25.390625 \r\nL 58.015625 17.1875 \r\nL 47.609375 17.1875 \r\nL 47.609375 0 \r\nL 37.796875 0 \r\nL 37.796875 17.1875 \r\nL 4.890625 17.1875 \r\nL 4.890625 26.703125 \r\nz\r\n\" id=\"DejaVuSans-52\"/>\r\n       </defs>\r\n       <use xlink:href=\"#DejaVuSans-52\"/>\r\n       <use x=\"63.623047\" xlink:href=\"#DejaVuSans-48\"/>\r\n       <use x=\"127.246094\" xlink:href=\"#DejaVuSans-48\"/>\r\n      </g>\r\n     </g>\r\n    </g>\r\n    <g id=\"xtick_4\">\r\n     <g id=\"line2d_4\">\r\n      <g>\r\n       <use style=\"stroke:#000000;stroke-width:0.8;\" x=\"424.886619\" xlink:href=\"#m43f05d3b7e\" y=\"224.64\"/>\r\n      </g>\r\n     </g>\r\n     <g id=\"text_4\">\r\n      <!-- 600 -->\r\n      <g transform=\"translate(415.342869 239.238437)scale(0.1 -0.1)\">\r\n       <defs>\r\n        <path d=\"M 33.015625 40.375 \r\nQ 26.375 40.375 22.484375 35.828125 \r\nQ 18.609375 31.296875 18.609375 23.390625 \r\nQ 18.609375 15.53125 22.484375 10.953125 \r\nQ 26.375 6.390625 33.015625 6.390625 \r\nQ 39.65625 6.390625 43.53125 10.953125 \r\nQ 47.40625 15.53125 47.40625 23.390625 \r\nQ 47.40625 31.296875 43.53125 35.828125 \r\nQ 39.65625 40.375 33.015625 40.375 \r\nz\r\nM 52.59375 71.296875 \r\nL 52.59375 62.3125 \r\nQ 48.875 64.0625 45.09375 64.984375 \r\nQ 41.3125 65.921875 37.59375 65.921875 \r\nQ 27.828125 65.921875 22.671875 59.328125 \r\nQ 17.53125 52.734375 16.796875 39.40625 \r\nQ 19.671875 43.65625 24.015625 45.921875 \r\nQ 28.375 48.1875 33.59375 48.1875 \r\nQ 44.578125 48.1875 50.953125 41.515625 \r\nQ 57.328125 34.859375 57.328125 23.390625 \r\nQ 57.328125 12.15625 50.6875 5.359375 \r\nQ 44.046875 -1.421875 33.015625 -1.421875 \r\nQ 20.359375 -1.421875 13.671875 8.265625 \r\nQ 6.984375 17.96875 6.984375 36.375 \r\nQ 6.984375 53.65625 15.1875 63.9375 \r\nQ 23.390625 74.21875 37.203125 74.21875 \r\nQ 40.921875 74.21875 44.703125 73.484375 \r\nQ 48.484375 72.75 52.59375 71.296875 \r\nz\r\n\" id=\"DejaVuSans-54\"/>\r\n       </defs>\r\n       <use xlink:href=\"#DejaVuSans-54\"/>\r\n       <use x=\"63.623047\" xlink:href=\"#DejaVuSans-48\"/>\r\n       <use x=\"127.246094\" xlink:href=\"#DejaVuSans-48\"/>\r\n      </g>\r\n     </g>\r\n    </g>\r\n    <g id=\"xtick_5\">\r\n     <g id=\"line2d_5\">\r\n      <g>\r\n       <use style=\"stroke:#000000;stroke-width:0.8;\" x=\"473.641534\" xlink:href=\"#m43f05d3b7e\" y=\"224.64\"/>\r\n      </g>\r\n     </g>\r\n     <g id=\"text_5\">\r\n      <!-- 800 -->\r\n      <g transform=\"translate(464.097784 239.238437)scale(0.1 -0.1)\">\r\n       <defs>\r\n        <path d=\"M 31.78125 34.625 \r\nQ 24.75 34.625 20.71875 30.859375 \r\nQ 16.703125 27.09375 16.703125 20.515625 \r\nQ 16.703125 13.921875 20.71875 10.15625 \r\nQ 24.75 6.390625 31.78125 6.390625 \r\nQ 38.8125 6.390625 42.859375 10.171875 \r\nQ 46.921875 13.96875 46.921875 20.515625 \r\nQ 46.921875 27.09375 42.890625 30.859375 \r\nQ 38.875 34.625 31.78125 34.625 \r\nz\r\nM 21.921875 38.8125 \r\nQ 15.578125 40.375 12.03125 44.71875 \r\nQ 8.5 49.078125 8.5 55.328125 \r\nQ 8.5 64.0625 14.71875 69.140625 \r\nQ 20.953125 74.21875 31.78125 74.21875 \r\nQ 42.671875 74.21875 48.875 69.140625 \r\nQ 55.078125 64.0625 55.078125 55.328125 \r\nQ 55.078125 49.078125 51.53125 44.71875 \r\nQ 48 40.375 41.703125 38.8125 \r\nQ 48.828125 37.15625 52.796875 32.3125 \r\nQ 56.78125 27.484375 56.78125 20.515625 \r\nQ 56.78125 9.90625 50.3125 4.234375 \r\nQ 43.84375 -1.421875 31.78125 -1.421875 \r\nQ 19.734375 -1.421875 13.25 4.234375 \r\nQ 6.78125 9.90625 6.78125 20.515625 \r\nQ 6.78125 27.484375 10.78125 32.3125 \r\nQ 14.796875 37.15625 21.921875 38.8125 \r\nz\r\nM 18.3125 54.390625 \r\nQ 18.3125 48.734375 21.84375 45.5625 \r\nQ 25.390625 42.390625 31.78125 42.390625 \r\nQ 38.140625 42.390625 41.71875 45.5625 \r\nQ 45.3125 48.734375 45.3125 54.390625 \r\nQ 45.3125 60.0625 41.71875 63.234375 \r\nQ 38.140625 66.40625 31.78125 66.40625 \r\nQ 25.390625 66.40625 21.84375 63.234375 \r\nQ 18.3125 60.0625 18.3125 54.390625 \r\nz\r\n\" id=\"DejaVuSans-56\"/>\r\n       </defs>\r\n       <use xlink:href=\"#DejaVuSans-56\"/>\r\n       <use x=\"63.623047\" xlink:href=\"#DejaVuSans-48\"/>\r\n       <use x=\"127.246094\" xlink:href=\"#DejaVuSans-48\"/>\r\n      </g>\r\n     </g>\r\n    </g>\r\n    <g id=\"xtick_6\">\r\n     <g id=\"line2d_6\">\r\n      <g>\r\n       <use style=\"stroke:#000000;stroke-width:0.8;\" x=\"522.396449\" xlink:href=\"#m43f05d3b7e\" y=\"224.64\"/>\r\n      </g>\r\n     </g>\r\n     <g id=\"text_6\">\r\n      <!-- 1000 -->\r\n      <g transform=\"translate(509.671449 239.238437)scale(0.1 -0.1)\">\r\n       <defs>\r\n        <path d=\"M 12.40625 8.296875 \r\nL 28.515625 8.296875 \r\nL 28.515625 63.921875 \r\nL 10.984375 60.40625 \r\nL 10.984375 69.390625 \r\nL 28.421875 72.90625 \r\nL 38.28125 72.90625 \r\nL 38.28125 8.296875 \r\nL 54.390625 8.296875 \r\nL 54.390625 0 \r\nL 12.40625 0 \r\nz\r\n\" id=\"DejaVuSans-49\"/>\r\n       </defs>\r\n       <use xlink:href=\"#DejaVuSans-49\"/>\r\n       <use x=\"63.623047\" xlink:href=\"#DejaVuSans-48\"/>\r\n       <use x=\"127.246094\" xlink:href=\"#DejaVuSans-48\"/>\r\n       <use x=\"190.869141\" xlink:href=\"#DejaVuSans-48\"/>\r\n      </g>\r\n     </g>\r\n    </g>\r\n    <g id=\"xtick_7\">\r\n     <g id=\"line2d_7\">\r\n      <g>\r\n       <use style=\"stroke:#000000;stroke-width:0.8;\" x=\"571.151364\" xlink:href=\"#m43f05d3b7e\" y=\"224.64\"/>\r\n      </g>\r\n     </g>\r\n     <g id=\"text_7\">\r\n      <!-- 1200 -->\r\n      <g transform=\"translate(558.426364 239.238437)scale(0.1 -0.1)\">\r\n       <use xlink:href=\"#DejaVuSans-49\"/>\r\n       <use x=\"63.623047\" xlink:href=\"#DejaVuSans-50\"/>\r\n       <use x=\"127.246094\" xlink:href=\"#DejaVuSans-48\"/>\r\n       <use x=\"190.869141\" xlink:href=\"#DejaVuSans-48\"/>\r\n      </g>\r\n     </g>\r\n    </g>\r\n   </g>\r\n   <g id=\"matplotlib.axis_2\">\r\n    <g id=\"ytick_1\">\r\n     <g id=\"line2d_8\">\r\n      <defs>\r\n       <path d=\"M 0 0 \r\nL -3.5 0 \r\n\" id=\"ma87e0ba1bb\" style=\"stroke:#000000;stroke-width:0.8;\"/>\r\n      </defs>\r\n      <g>\r\n       <use style=\"stroke:#000000;stroke-width:0.8;\" x=\"278.621875\" xlink:href=\"#ma87e0ba1bb\" y=\"219.204\"/>\r\n      </g>\r\n     </g>\r\n     <g id=\"text_8\">\r\n      <!-- New Hampshire Ave &amp; T St NW -->\r\n      <g transform=\"translate(116.770312 223.003219)scale(0.1 -0.1)\">\r\n       <defs>\r\n        <path d=\"M 9.8125 72.90625 \r\nL 23.09375 72.90625 \r\nL 55.421875 11.921875 \r\nL 55.421875 72.90625 \r\nL 64.984375 72.90625 \r\nL 64.984375 0 \r\nL 51.703125 0 \r\nL 19.390625 60.984375 \r\nL 19.390625 0 \r\nL 9.8125 0 \r\nz\r\n\" id=\"DejaVuSans-78\"/>\r\n        <path d=\"M 56.203125 29.59375 \r\nL 56.203125 25.203125 \r\nL 14.890625 25.203125 \r\nQ 15.484375 15.921875 20.484375 11.0625 \r\nQ 25.484375 6.203125 34.421875 6.203125 \r\nQ 39.59375 6.203125 44.453125 7.46875 \r\nQ 49.3125 8.734375 54.109375 11.28125 \r\nL 54.109375 2.78125 \r\nQ 49.265625 0.734375 44.1875 -0.34375 \r\nQ 39.109375 -1.421875 33.890625 -1.421875 \r\nQ 20.796875 -1.421875 13.15625 6.1875 \r\nQ 5.515625 13.8125 5.515625 26.8125 \r\nQ 5.515625 40.234375 12.765625 48.109375 \r\nQ 20.015625 56 32.328125 56 \r\nQ 43.359375 56 49.78125 48.890625 \r\nQ 56.203125 41.796875 56.203125 29.59375 \r\nz\r\nM 47.21875 32.234375 \r\nQ 47.125 39.59375 43.09375 43.984375 \r\nQ 39.0625 48.390625 32.421875 48.390625 \r\nQ 24.90625 48.390625 20.390625 44.140625 \r\nQ 15.875 39.890625 15.1875 32.171875 \r\nz\r\n\" id=\"DejaVuSans-101\"/>\r\n        <path d=\"M 4.203125 54.6875 \r\nL 13.1875 54.6875 \r\nL 24.421875 12.015625 \r\nL 35.59375 54.6875 \r\nL 46.1875 54.6875 \r\nL 57.421875 12.015625 \r\nL 68.609375 54.6875 \r\nL 77.59375 54.6875 \r\nL 63.28125 0 \r\nL 52.6875 0 \r\nL 40.921875 44.828125 \r\nL 29.109375 0 \r\nL 18.5 0 \r\nz\r\n\" id=\"DejaVuSans-119\"/>\r\n        <path id=\"DejaVuSans-32\"/>\r\n        <path d=\"M 9.8125 72.90625 \r\nL 19.671875 72.90625 \r\nL 19.671875 43.015625 \r\nL 55.515625 43.015625 \r\nL 55.515625 72.90625 \r\nL 65.375 72.90625 \r\nL 65.375 0 \r\nL 55.515625 0 \r\nL 55.515625 34.71875 \r\nL 19.671875 34.71875 \r\nL 19.671875 0 \r\nL 9.8125 0 \r\nz\r\n\" id=\"DejaVuSans-72\"/>\r\n        <path d=\"M 34.28125 27.484375 \r\nQ 23.390625 27.484375 19.1875 25 \r\nQ 14.984375 22.515625 14.984375 16.5 \r\nQ 14.984375 11.71875 18.140625 8.90625 \r\nQ 21.296875 6.109375 26.703125 6.109375 \r\nQ 34.1875 6.109375 38.703125 11.40625 \r\nQ 43.21875 16.703125 43.21875 25.484375 \r\nL 43.21875 27.484375 \r\nz\r\nM 52.203125 31.203125 \r\nL 52.203125 0 \r\nL 43.21875 0 \r\nL 43.21875 8.296875 \r\nQ 40.140625 3.328125 35.546875 0.953125 \r\nQ 30.953125 -1.421875 24.3125 -1.421875 \r\nQ 15.921875 -1.421875 10.953125 3.296875 \r\nQ 6 8.015625 6 15.921875 \r\nQ 6 25.140625 12.171875 29.828125 \r\nQ 18.359375 34.515625 30.609375 34.515625 \r\nL 43.21875 34.515625 \r\nL 43.21875 35.40625 \r\nQ 43.21875 41.609375 39.140625 45 \r\nQ 35.0625 48.390625 27.6875 48.390625 \r\nQ 23 48.390625 18.546875 47.265625 \r\nQ 14.109375 46.140625 10.015625 43.890625 \r\nL 10.015625 52.203125 \r\nQ 14.9375 54.109375 19.578125 55.046875 \r\nQ 24.21875 56 28.609375 56 \r\nQ 40.484375 56 46.34375 49.84375 \r\nQ 52.203125 43.703125 52.203125 31.203125 \r\nz\r\n\" id=\"DejaVuSans-97\"/>\r\n        <path d=\"M 52 44.1875 \r\nQ 55.375 50.25 60.0625 53.125 \r\nQ 64.75 56 71.09375 56 \r\nQ 79.640625 56 84.28125 50.015625 \r\nQ 88.921875 44.046875 88.921875 33.015625 \r\nL 88.921875 0 \r\nL 79.890625 0 \r\nL 79.890625 32.71875 \r\nQ 79.890625 40.578125 77.09375 44.375 \r\nQ 74.3125 48.1875 68.609375 48.1875 \r\nQ 61.625 48.1875 57.5625 43.546875 \r\nQ 53.515625 38.921875 53.515625 30.90625 \r\nL 53.515625 0 \r\nL 44.484375 0 \r\nL 44.484375 32.71875 \r\nQ 44.484375 40.625 41.703125 44.40625 \r\nQ 38.921875 48.1875 33.109375 48.1875 \r\nQ 26.21875 48.1875 22.15625 43.53125 \r\nQ 18.109375 38.875 18.109375 30.90625 \r\nL 18.109375 0 \r\nL 9.078125 0 \r\nL 9.078125 54.6875 \r\nL 18.109375 54.6875 \r\nL 18.109375 46.1875 \r\nQ 21.1875 51.21875 25.484375 53.609375 \r\nQ 29.78125 56 35.6875 56 \r\nQ 41.65625 56 45.828125 52.96875 \r\nQ 50 49.953125 52 44.1875 \r\nz\r\n\" id=\"DejaVuSans-109\"/>\r\n        <path d=\"M 18.109375 8.203125 \r\nL 18.109375 -20.796875 \r\nL 9.078125 -20.796875 \r\nL 9.078125 54.6875 \r\nL 18.109375 54.6875 \r\nL 18.109375 46.390625 \r\nQ 20.953125 51.265625 25.265625 53.625 \r\nQ 29.59375 56 35.59375 56 \r\nQ 45.5625 56 51.78125 48.09375 \r\nQ 58.015625 40.1875 58.015625 27.296875 \r\nQ 58.015625 14.40625 51.78125 6.484375 \r\nQ 45.5625 -1.421875 35.59375 -1.421875 \r\nQ 29.59375 -1.421875 25.265625 0.953125 \r\nQ 20.953125 3.328125 18.109375 8.203125 \r\nz\r\nM 48.6875 27.296875 \r\nQ 48.6875 37.203125 44.609375 42.84375 \r\nQ 40.53125 48.484375 33.40625 48.484375 \r\nQ 26.265625 48.484375 22.1875 42.84375 \r\nQ 18.109375 37.203125 18.109375 27.296875 \r\nQ 18.109375 17.390625 22.1875 11.75 \r\nQ 26.265625 6.109375 33.40625 6.109375 \r\nQ 40.53125 6.109375 44.609375 11.75 \r\nQ 48.6875 17.390625 48.6875 27.296875 \r\nz\r\n\" id=\"DejaVuSans-112\"/>\r\n        <path d=\"M 44.28125 53.078125 \r\nL 44.28125 44.578125 \r\nQ 40.484375 46.53125 36.375 47.5 \r\nQ 32.28125 48.484375 27.875 48.484375 \r\nQ 21.1875 48.484375 17.84375 46.4375 \r\nQ 14.5 44.390625 14.5 40.28125 \r\nQ 14.5 37.15625 16.890625 35.375 \r\nQ 19.28125 33.59375 26.515625 31.984375 \r\nL 29.59375 31.296875 \r\nQ 39.15625 29.25 43.1875 25.515625 \r\nQ 47.21875 21.78125 47.21875 15.09375 \r\nQ 47.21875 7.46875 41.1875 3.015625 \r\nQ 35.15625 -1.421875 24.609375 -1.421875 \r\nQ 20.21875 -1.421875 15.453125 -0.5625 \r\nQ 10.6875 0.296875 5.421875 2 \r\nL 5.421875 11.28125 \r\nQ 10.40625 8.6875 15.234375 7.390625 \r\nQ 20.0625 6.109375 24.8125 6.109375 \r\nQ 31.15625 6.109375 34.5625 8.28125 \r\nQ 37.984375 10.453125 37.984375 14.40625 \r\nQ 37.984375 18.0625 35.515625 20.015625 \r\nQ 33.0625 21.96875 24.703125 23.78125 \r\nL 21.578125 24.515625 \r\nQ 13.234375 26.265625 9.515625 29.90625 \r\nQ 5.8125 33.546875 5.8125 39.890625 \r\nQ 5.8125 47.609375 11.28125 51.796875 \r\nQ 16.75 56 26.8125 56 \r\nQ 31.78125 56 36.171875 55.265625 \r\nQ 40.578125 54.546875 44.28125 53.078125 \r\nz\r\n\" id=\"DejaVuSans-115\"/>\r\n        <path d=\"M 54.890625 33.015625 \r\nL 54.890625 0 \r\nL 45.90625 0 \r\nL 45.90625 32.71875 \r\nQ 45.90625 40.484375 42.875 44.328125 \r\nQ 39.84375 48.1875 33.796875 48.1875 \r\nQ 26.515625 48.1875 22.3125 43.546875 \r\nQ 18.109375 38.921875 18.109375 30.90625 \r\nL 18.109375 0 \r\nL 9.078125 0 \r\nL 9.078125 75.984375 \r\nL 18.109375 75.984375 \r\nL 18.109375 46.1875 \r\nQ 21.34375 51.125 25.703125 53.5625 \r\nQ 30.078125 56 35.796875 56 \r\nQ 45.21875 56 50.046875 50.171875 \r\nQ 54.890625 44.34375 54.890625 33.015625 \r\nz\r\n\" id=\"DejaVuSans-104\"/>\r\n        <path d=\"M 9.421875 54.6875 \r\nL 18.40625 54.6875 \r\nL 18.40625 0 \r\nL 9.421875 0 \r\nz\r\nM 9.421875 75.984375 \r\nL 18.40625 75.984375 \r\nL 18.40625 64.59375 \r\nL 9.421875 64.59375 \r\nz\r\n\" id=\"DejaVuSans-105\"/>\r\n        <path d=\"M 41.109375 46.296875 \r\nQ 39.59375 47.171875 37.8125 47.578125 \r\nQ 36.03125 48 33.890625 48 \r\nQ 26.265625 48 22.1875 43.046875 \r\nQ 18.109375 38.09375 18.109375 28.8125 \r\nL 18.109375 0 \r\nL 9.078125 0 \r\nL 9.078125 54.6875 \r\nL 18.109375 54.6875 \r\nL 18.109375 46.1875 \r\nQ 20.953125 51.171875 25.484375 53.578125 \r\nQ 30.03125 56 36.53125 56 \r\nQ 37.453125 56 38.578125 55.875 \r\nQ 39.703125 55.765625 41.0625 55.515625 \r\nz\r\n\" id=\"DejaVuSans-114\"/>\r\n        <path d=\"M 34.1875 63.1875 \r\nL 20.796875 26.90625 \r\nL 47.609375 26.90625 \r\nz\r\nM 28.609375 72.90625 \r\nL 39.796875 72.90625 \r\nL 67.578125 0 \r\nL 57.328125 0 \r\nL 50.6875 18.703125 \r\nL 17.828125 18.703125 \r\nL 11.1875 0 \r\nL 0.78125 0 \r\nz\r\n\" id=\"DejaVuSans-65\"/>\r\n        <path d=\"M 2.984375 54.6875 \r\nL 12.5 54.6875 \r\nL 29.59375 8.796875 \r\nL 46.6875 54.6875 \r\nL 56.203125 54.6875 \r\nL 35.6875 0 \r\nL 23.484375 0 \r\nz\r\n\" id=\"DejaVuSans-118\"/>\r\n        <path d=\"M 24.3125 39.203125 \r\nQ 19.875 35.25 17.796875 31.3125 \r\nQ 15.71875 27.390625 15.71875 23.09375 \r\nQ 15.71875 15.96875 20.890625 11.234375 \r\nQ 26.078125 6.5 33.890625 6.5 \r\nQ 38.53125 6.5 42.578125 8.03125 \r\nQ 46.625 9.578125 50.203125 12.703125 \r\nz\r\nM 31.203125 44.671875 \r\nL 56 19.28125 \r\nQ 58.890625 23.640625 60.5 28.59375 \r\nQ 62.109375 33.546875 62.40625 39.109375 \r\nL 71.484375 39.109375 \r\nQ 70.90625 32.671875 68.359375 26.359375 \r\nQ 65.828125 20.0625 61.28125 13.921875 \r\nL 74.90625 0 \r\nL 62.59375 0 \r\nL 55.609375 7.171875 \r\nQ 50.53125 2.828125 44.96875 0.703125 \r\nQ 39.40625 -1.421875 33.015625 -1.421875 \r\nQ 21.234375 -1.421875 13.765625 5.296875 \r\nQ 6.296875 12.015625 6.296875 22.515625 \r\nQ 6.296875 28.765625 9.5625 34.25 \r\nQ 12.84375 39.75 19.390625 44.578125 \r\nQ 17.046875 47.65625 15.8125 50.703125 \r\nQ 14.59375 53.765625 14.59375 56.6875 \r\nQ 14.59375 64.59375 20.015625 69.40625 \r\nQ 25.4375 74.21875 34.421875 74.21875 \r\nQ 38.484375 74.21875 42.5 73.34375 \r\nQ 46.53125 72.46875 50.6875 70.703125 \r\nL 50.6875 61.8125 \r\nQ 46.4375 64.109375 42.578125 65.296875 \r\nQ 38.71875 66.5 35.40625 66.5 \r\nQ 30.28125 66.5 27.078125 63.78125 \r\nQ 23.875 61.078125 23.875 56.78125 \r\nQ 23.875 54.296875 25.3125 51.78125 \r\nQ 26.765625 49.265625 31.203125 44.671875 \r\nz\r\n\" id=\"DejaVuSans-38\"/>\r\n        <path d=\"M -0.296875 72.90625 \r\nL 61.375 72.90625 \r\nL 61.375 64.59375 \r\nL 35.5 64.59375 \r\nL 35.5 0 \r\nL 25.59375 0 \r\nL 25.59375 64.59375 \r\nL -0.296875 64.59375 \r\nz\r\n\" id=\"DejaVuSans-84\"/>\r\n        <path d=\"M 53.515625 70.515625 \r\nL 53.515625 60.890625 \r\nQ 47.90625 63.578125 42.921875 64.890625 \r\nQ 37.9375 66.21875 33.296875 66.21875 \r\nQ 25.25 66.21875 20.875 63.09375 \r\nQ 16.5 59.96875 16.5 54.203125 \r\nQ 16.5 49.359375 19.40625 46.890625 \r\nQ 22.3125 44.4375 30.421875 42.921875 \r\nL 36.375 41.703125 \r\nQ 47.40625 39.59375 52.65625 34.296875 \r\nQ 57.90625 29 57.90625 20.125 \r\nQ 57.90625 9.515625 50.796875 4.046875 \r\nQ 43.703125 -1.421875 29.984375 -1.421875 \r\nQ 24.8125 -1.421875 18.96875 -0.25 \r\nQ 13.140625 0.921875 6.890625 3.21875 \r\nL 6.890625 13.375 \r\nQ 12.890625 10.015625 18.65625 8.296875 \r\nQ 24.421875 6.59375 29.984375 6.59375 \r\nQ 38.421875 6.59375 43.015625 9.90625 \r\nQ 47.609375 13.234375 47.609375 19.390625 \r\nQ 47.609375 24.75 44.3125 27.78125 \r\nQ 41.015625 30.8125 33.5 32.328125 \r\nL 27.484375 33.5 \r\nQ 16.453125 35.6875 11.515625 40.375 \r\nQ 6.59375 45.0625 6.59375 53.421875 \r\nQ 6.59375 63.09375 13.40625 68.65625 \r\nQ 20.21875 74.21875 32.171875 74.21875 \r\nQ 37.3125 74.21875 42.625 73.28125 \r\nQ 47.953125 72.359375 53.515625 70.515625 \r\nz\r\n\" id=\"DejaVuSans-83\"/>\r\n        <path d=\"M 18.3125 70.21875 \r\nL 18.3125 54.6875 \r\nL 36.8125 54.6875 \r\nL 36.8125 47.703125 \r\nL 18.3125 47.703125 \r\nL 18.3125 18.015625 \r\nQ 18.3125 11.328125 20.140625 9.421875 \r\nQ 21.96875 7.515625 27.59375 7.515625 \r\nL 36.8125 7.515625 \r\nL 36.8125 0 \r\nL 27.59375 0 \r\nQ 17.1875 0 13.234375 3.875 \r\nQ 9.28125 7.765625 9.28125 18.015625 \r\nL 9.28125 47.703125 \r\nL 2.6875 47.703125 \r\nL 2.6875 54.6875 \r\nL 9.28125 54.6875 \r\nL 9.28125 70.21875 \r\nz\r\n\" id=\"DejaVuSans-116\"/>\r\n        <path d=\"M 3.328125 72.90625 \r\nL 13.28125 72.90625 \r\nL 28.609375 11.28125 \r\nL 43.890625 72.90625 \r\nL 54.984375 72.90625 \r\nL 70.3125 11.28125 \r\nL 85.59375 72.90625 \r\nL 95.609375 72.90625 \r\nL 77.296875 0 \r\nL 64.890625 0 \r\nL 49.515625 63.28125 \r\nL 33.984375 0 \r\nL 21.578125 0 \r\nz\r\n\" id=\"DejaVuSans-87\"/>\r\n       </defs>\r\n       <use xlink:href=\"#DejaVuSans-78\"/>\r\n       <use x=\"74.804688\" xlink:href=\"#DejaVuSans-101\"/>\r\n       <use x=\"136.328125\" xlink:href=\"#DejaVuSans-119\"/>\r\n       <use x=\"218.115234\" xlink:href=\"#DejaVuSans-32\"/>\r\n       <use x=\"249.902344\" xlink:href=\"#DejaVuSans-72\"/>\r\n       <use x=\"325.097656\" xlink:href=\"#DejaVuSans-97\"/>\r\n       <use x=\"386.376953\" xlink:href=\"#DejaVuSans-109\"/>\r\n       <use x=\"483.789062\" xlink:href=\"#DejaVuSans-112\"/>\r\n       <use x=\"547.265625\" xlink:href=\"#DejaVuSans-115\"/>\r\n       <use x=\"599.365234\" xlink:href=\"#DejaVuSans-104\"/>\r\n       <use x=\"662.744141\" xlink:href=\"#DejaVuSans-105\"/>\r\n       <use x=\"690.527344\" xlink:href=\"#DejaVuSans-114\"/>\r\n       <use x=\"729.390625\" xlink:href=\"#DejaVuSans-101\"/>\r\n       <use x=\"790.914062\" xlink:href=\"#DejaVuSans-32\"/>\r\n       <use x=\"822.701172\" xlink:href=\"#DejaVuSans-65\"/>\r\n       <use x=\"885.234375\" xlink:href=\"#DejaVuSans-118\"/>\r\n       <use x=\"944.414062\" xlink:href=\"#DejaVuSans-101\"/>\r\n       <use x=\"1005.9375\" xlink:href=\"#DejaVuSans-32\"/>\r\n       <use x=\"1037.724609\" xlink:href=\"#DejaVuSans-38\"/>\r\n       <use x=\"1115.703125\" xlink:href=\"#DejaVuSans-32\"/>\r\n       <use x=\"1147.490234\" xlink:href=\"#DejaVuSans-84\"/>\r\n       <use x=\"1208.574219\" xlink:href=\"#DejaVuSans-32\"/>\r\n       <use x=\"1240.361328\" xlink:href=\"#DejaVuSans-83\"/>\r\n       <use x=\"1303.837891\" xlink:href=\"#DejaVuSans-116\"/>\r\n       <use x=\"1343.046875\" xlink:href=\"#DejaVuSans-32\"/>\r\n       <use x=\"1374.833984\" xlink:href=\"#DejaVuSans-78\"/>\r\n       <use x=\"1449.638672\" xlink:href=\"#DejaVuSans-87\"/>\r\n      </g>\r\n     </g>\r\n    </g>\r\n    <g id=\"ytick_2\">\r\n     <g id=\"line2d_9\">\r\n      <g>\r\n       <use style=\"stroke:#000000;stroke-width:0.8;\" x=\"278.621875\" xlink:href=\"#ma87e0ba1bb\" y=\"208.332\"/>\r\n      </g>\r\n     </g>\r\n     <g id=\"text_9\">\r\n      <!-- 15th &amp; P St NW -->\r\n      <g transform=\"translate(194.460938 212.131219)scale(0.1 -0.1)\">\r\n       <defs>\r\n        <path d=\"M 10.796875 72.90625 \r\nL 49.515625 72.90625 \r\nL 49.515625 64.59375 \r\nL 19.828125 64.59375 \r\nL 19.828125 46.734375 \r\nQ 21.96875 47.46875 24.109375 47.828125 \r\nQ 26.265625 48.1875 28.421875 48.1875 \r\nQ 40.625 48.1875 47.75 41.5 \r\nQ 54.890625 34.8125 54.890625 23.390625 \r\nQ 54.890625 11.625 47.5625 5.09375 \r\nQ 40.234375 -1.421875 26.90625 -1.421875 \r\nQ 22.3125 -1.421875 17.546875 -0.640625 \r\nQ 12.796875 0.140625 7.71875 1.703125 \r\nL 7.71875 11.625 \r\nQ 12.109375 9.234375 16.796875 8.0625 \r\nQ 21.484375 6.890625 26.703125 6.890625 \r\nQ 35.15625 6.890625 40.078125 11.328125 \r\nQ 45.015625 15.765625 45.015625 23.390625 \r\nQ 45.015625 31 40.078125 35.4375 \r\nQ 35.15625 39.890625 26.703125 39.890625 \r\nQ 22.75 39.890625 18.8125 39.015625 \r\nQ 14.890625 38.140625 10.796875 36.28125 \r\nz\r\n\" id=\"DejaVuSans-53\"/>\r\n        <path d=\"M 19.671875 64.796875 \r\nL 19.671875 37.40625 \r\nL 32.078125 37.40625 \r\nQ 38.96875 37.40625 42.71875 40.96875 \r\nQ 46.484375 44.53125 46.484375 51.125 \r\nQ 46.484375 57.671875 42.71875 61.234375 \r\nQ 38.96875 64.796875 32.078125 64.796875 \r\nz\r\nM 9.8125 72.90625 \r\nL 32.078125 72.90625 \r\nQ 44.34375 72.90625 50.609375 67.359375 \r\nQ 56.890625 61.8125 56.890625 51.125 \r\nQ 56.890625 40.328125 50.609375 34.8125 \r\nQ 44.34375 29.296875 32.078125 29.296875 \r\nL 19.671875 29.296875 \r\nL 19.671875 0 \r\nL 9.8125 0 \r\nz\r\n\" id=\"DejaVuSans-80\"/>\r\n       </defs>\r\n       <use xlink:href=\"#DejaVuSans-49\"/>\r\n       <use x=\"63.623047\" xlink:href=\"#DejaVuSans-53\"/>\r\n       <use x=\"127.246094\" xlink:href=\"#DejaVuSans-116\"/>\r\n       <use x=\"166.455078\" xlink:href=\"#DejaVuSans-104\"/>\r\n       <use x=\"229.833984\" xlink:href=\"#DejaVuSans-32\"/>\r\n       <use x=\"261.621094\" xlink:href=\"#DejaVuSans-38\"/>\r\n       <use x=\"339.599609\" xlink:href=\"#DejaVuSans-32\"/>\r\n       <use x=\"371.386719\" xlink:href=\"#DejaVuSans-80\"/>\r\n       <use x=\"431.689453\" xlink:href=\"#DejaVuSans-32\"/>\r\n       <use x=\"463.476562\" xlink:href=\"#DejaVuSans-83\"/>\r\n       <use x=\"526.953125\" xlink:href=\"#DejaVuSans-116\"/>\r\n       <use x=\"566.162109\" xlink:href=\"#DejaVuSans-32\"/>\r\n       <use x=\"597.949219\" xlink:href=\"#DejaVuSans-78\"/>\r\n       <use x=\"672.753906\" xlink:href=\"#DejaVuSans-87\"/>\r\n      </g>\r\n     </g>\r\n    </g>\r\n    <g id=\"ytick_3\">\r\n     <g id=\"line2d_10\">\r\n      <g>\r\n       <use style=\"stroke:#000000;stroke-width:0.8;\" x=\"278.621875\" xlink:href=\"#ma87e0ba1bb\" y=\"197.46\"/>\r\n      </g>\r\n     </g>\r\n     <g id=\"text_10\">\r\n      <!-- 14th &amp; Irving St NW -->\r\n      <g transform=\"translate(172.046875 201.259219)scale(0.1 -0.1)\">\r\n       <defs>\r\n        <path d=\"M 9.8125 72.90625 \r\nL 19.671875 72.90625 \r\nL 19.671875 0 \r\nL 9.8125 0 \r\nz\r\n\" id=\"DejaVuSans-73\"/>\r\n        <path d=\"M 54.890625 33.015625 \r\nL 54.890625 0 \r\nL 45.90625 0 \r\nL 45.90625 32.71875 \r\nQ 45.90625 40.484375 42.875 44.328125 \r\nQ 39.84375 48.1875 33.796875 48.1875 \r\nQ 26.515625 48.1875 22.3125 43.546875 \r\nQ 18.109375 38.921875 18.109375 30.90625 \r\nL 18.109375 0 \r\nL 9.078125 0 \r\nL 9.078125 54.6875 \r\nL 18.109375 54.6875 \r\nL 18.109375 46.1875 \r\nQ 21.34375 51.125 25.703125 53.5625 \r\nQ 30.078125 56 35.796875 56 \r\nQ 45.21875 56 50.046875 50.171875 \r\nQ 54.890625 44.34375 54.890625 33.015625 \r\nz\r\n\" id=\"DejaVuSans-110\"/>\r\n        <path d=\"M 45.40625 27.984375 \r\nQ 45.40625 37.75 41.375 43.109375 \r\nQ 37.359375 48.484375 30.078125 48.484375 \r\nQ 22.859375 48.484375 18.828125 43.109375 \r\nQ 14.796875 37.75 14.796875 27.984375 \r\nQ 14.796875 18.265625 18.828125 12.890625 \r\nQ 22.859375 7.515625 30.078125 7.515625 \r\nQ 37.359375 7.515625 41.375 12.890625 \r\nQ 45.40625 18.265625 45.40625 27.984375 \r\nz\r\nM 54.390625 6.78125 \r\nQ 54.390625 -7.171875 48.1875 -13.984375 \r\nQ 42 -20.796875 29.203125 -20.796875 \r\nQ 24.46875 -20.796875 20.265625 -20.09375 \r\nQ 16.0625 -19.390625 12.109375 -17.921875 \r\nL 12.109375 -9.1875 \r\nQ 16.0625 -11.328125 19.921875 -12.34375 \r\nQ 23.78125 -13.375 27.78125 -13.375 \r\nQ 36.625 -13.375 41.015625 -8.765625 \r\nQ 45.40625 -4.15625 45.40625 5.171875 \r\nL 45.40625 9.625 \r\nQ 42.625 4.78125 38.28125 2.390625 \r\nQ 33.9375 0 27.875 0 \r\nQ 17.828125 0 11.671875 7.65625 \r\nQ 5.515625 15.328125 5.515625 27.984375 \r\nQ 5.515625 40.671875 11.671875 48.328125 \r\nQ 17.828125 56 27.875 56 \r\nQ 33.9375 56 38.28125 53.609375 \r\nQ 42.625 51.21875 45.40625 46.390625 \r\nL 45.40625 54.6875 \r\nL 54.390625 54.6875 \r\nz\r\n\" id=\"DejaVuSans-103\"/>\r\n       </defs>\r\n       <use xlink:href=\"#DejaVuSans-49\"/>\r\n       <use x=\"63.623047\" xlink:href=\"#DejaVuSans-52\"/>\r\n       <use x=\"127.246094\" xlink:href=\"#DejaVuSans-116\"/>\r\n       <use x=\"166.455078\" xlink:href=\"#DejaVuSans-104\"/>\r\n       <use x=\"229.833984\" xlink:href=\"#DejaVuSans-32\"/>\r\n       <use x=\"261.621094\" xlink:href=\"#DejaVuSans-38\"/>\r\n       <use x=\"339.599609\" xlink:href=\"#DejaVuSans-32\"/>\r\n       <use x=\"371.386719\" xlink:href=\"#DejaVuSans-73\"/>\r\n       <use x=\"400.878906\" xlink:href=\"#DejaVuSans-114\"/>\r\n       <use x=\"441.992188\" xlink:href=\"#DejaVuSans-118\"/>\r\n       <use x=\"501.171875\" xlink:href=\"#DejaVuSans-105\"/>\r\n       <use x=\"528.955078\" xlink:href=\"#DejaVuSans-110\"/>\r\n       <use x=\"592.333984\" xlink:href=\"#DejaVuSans-103\"/>\r\n       <use x=\"655.810547\" xlink:href=\"#DejaVuSans-32\"/>\r\n       <use x=\"687.597656\" xlink:href=\"#DejaVuSans-83\"/>\r\n       <use x=\"751.074219\" xlink:href=\"#DejaVuSans-116\"/>\r\n       <use x=\"790.283203\" xlink:href=\"#DejaVuSans-32\"/>\r\n       <use x=\"822.070312\" xlink:href=\"#DejaVuSans-78\"/>\r\n       <use x=\"896.875\" xlink:href=\"#DejaVuSans-87\"/>\r\n      </g>\r\n     </g>\r\n    </g>\r\n    <g id=\"ytick_4\">\r\n     <g id=\"line2d_11\">\r\n      <g>\r\n       <use style=\"stroke:#000000;stroke-width:0.8;\" x=\"278.621875\" xlink:href=\"#ma87e0ba1bb\" y=\"186.588\"/>\r\n      </g>\r\n     </g>\r\n     <g id=\"text_11\">\r\n      <!-- 1st &amp; M St NE -->\r\n      <g transform=\"translate(202.921875 190.387219)scale(0.1 -0.1)\">\r\n       <defs>\r\n        <path d=\"M 9.8125 72.90625 \r\nL 24.515625 72.90625 \r\nL 43.109375 23.296875 \r\nL 61.8125 72.90625 \r\nL 76.515625 72.90625 \r\nL 76.515625 0 \r\nL 66.890625 0 \r\nL 66.890625 64.015625 \r\nL 48.09375 14.015625 \r\nL 38.1875 14.015625 \r\nL 19.390625 64.015625 \r\nL 19.390625 0 \r\nL 9.8125 0 \r\nz\r\n\" id=\"DejaVuSans-77\"/>\r\n        <path d=\"M 9.8125 72.90625 \r\nL 55.90625 72.90625 \r\nL 55.90625 64.59375 \r\nL 19.671875 64.59375 \r\nL 19.671875 43.015625 \r\nL 54.390625 43.015625 \r\nL 54.390625 34.71875 \r\nL 19.671875 34.71875 \r\nL 19.671875 8.296875 \r\nL 56.78125 8.296875 \r\nL 56.78125 0 \r\nL 9.8125 0 \r\nz\r\n\" id=\"DejaVuSans-69\"/>\r\n       </defs>\r\n       <use xlink:href=\"#DejaVuSans-49\"/>\r\n       <use x=\"63.623047\" xlink:href=\"#DejaVuSans-115\"/>\r\n       <use x=\"115.722656\" xlink:href=\"#DejaVuSans-116\"/>\r\n       <use x=\"154.931641\" xlink:href=\"#DejaVuSans-32\"/>\r\n       <use x=\"186.71875\" xlink:href=\"#DejaVuSans-38\"/>\r\n       <use x=\"264.697266\" xlink:href=\"#DejaVuSans-32\"/>\r\n       <use x=\"296.484375\" xlink:href=\"#DejaVuSans-77\"/>\r\n       <use x=\"382.763672\" xlink:href=\"#DejaVuSans-32\"/>\r\n       <use x=\"414.550781\" xlink:href=\"#DejaVuSans-83\"/>\r\n       <use x=\"478.027344\" xlink:href=\"#DejaVuSans-116\"/>\r\n       <use x=\"517.236328\" xlink:href=\"#DejaVuSans-32\"/>\r\n       <use x=\"549.023438\" xlink:href=\"#DejaVuSans-78\"/>\r\n       <use x=\"623.828125\" xlink:href=\"#DejaVuSans-69\"/>\r\n      </g>\r\n     </g>\r\n    </g>\r\n    <g id=\"ytick_5\">\r\n     <g id=\"line2d_12\">\r\n      <g>\r\n       <use style=\"stroke:#000000;stroke-width:0.8;\" x=\"278.621875\" xlink:href=\"#ma87e0ba1bb\" y=\"175.716\"/>\r\n      </g>\r\n     </g>\r\n     <g id=\"text_12\">\r\n      <!-- 11th &amp; M St NW -->\r\n      <g transform=\"translate(191.8625 179.515219)scale(0.1 -0.1)\">\r\n       <use xlink:href=\"#DejaVuSans-49\"/>\r\n       <use x=\"63.623047\" xlink:href=\"#DejaVuSans-49\"/>\r\n       <use x=\"127.246094\" xlink:href=\"#DejaVuSans-116\"/>\r\n       <use x=\"166.455078\" xlink:href=\"#DejaVuSans-104\"/>\r\n       <use x=\"229.833984\" xlink:href=\"#DejaVuSans-32\"/>\r\n       <use x=\"261.621094\" xlink:href=\"#DejaVuSans-38\"/>\r\n       <use x=\"339.599609\" xlink:href=\"#DejaVuSans-32\"/>\r\n       <use x=\"371.386719\" xlink:href=\"#DejaVuSans-77\"/>\r\n       <use x=\"457.666016\" xlink:href=\"#DejaVuSans-32\"/>\r\n       <use x=\"489.453125\" xlink:href=\"#DejaVuSans-83\"/>\r\n       <use x=\"552.929688\" xlink:href=\"#DejaVuSans-116\"/>\r\n       <use x=\"592.138672\" xlink:href=\"#DejaVuSans-32\"/>\r\n       <use x=\"623.925781\" xlink:href=\"#DejaVuSans-78\"/>\r\n       <use x=\"698.730469\" xlink:href=\"#DejaVuSans-87\"/>\r\n      </g>\r\n     </g>\r\n    </g>\r\n    <g id=\"ytick_6\">\r\n     <g id=\"line2d_13\">\r\n      <g>\r\n       <use style=\"stroke:#000000;stroke-width:0.8;\" x=\"278.621875\" xlink:href=\"#ma87e0ba1bb\" y=\"164.844\"/>\r\n      </g>\r\n     </g>\r\n     <g id=\"text_13\">\r\n      <!-- 8th &amp; O St NW -->\r\n      <g transform=\"translate(198.98125 168.643219)scale(0.1 -0.1)\">\r\n       <defs>\r\n        <path d=\"M 39.40625 66.21875 \r\nQ 28.65625 66.21875 22.328125 58.203125 \r\nQ 16.015625 50.203125 16.015625 36.375 \r\nQ 16.015625 22.609375 22.328125 14.59375 \r\nQ 28.65625 6.59375 39.40625 6.59375 \r\nQ 50.140625 6.59375 56.421875 14.59375 \r\nQ 62.703125 22.609375 62.703125 36.375 \r\nQ 62.703125 50.203125 56.421875 58.203125 \r\nQ 50.140625 66.21875 39.40625 66.21875 \r\nz\r\nM 39.40625 74.21875 \r\nQ 54.734375 74.21875 63.90625 63.9375 \r\nQ 73.09375 53.65625 73.09375 36.375 \r\nQ 73.09375 19.140625 63.90625 8.859375 \r\nQ 54.734375 -1.421875 39.40625 -1.421875 \r\nQ 24.03125 -1.421875 14.8125 8.828125 \r\nQ 5.609375 19.09375 5.609375 36.375 \r\nQ 5.609375 53.65625 14.8125 63.9375 \r\nQ 24.03125 74.21875 39.40625 74.21875 \r\nz\r\n\" id=\"DejaVuSans-79\"/>\r\n       </defs>\r\n       <use xlink:href=\"#DejaVuSans-56\"/>\r\n       <use x=\"63.623047\" xlink:href=\"#DejaVuSans-116\"/>\r\n       <use x=\"102.832031\" xlink:href=\"#DejaVuSans-104\"/>\r\n       <use x=\"166.210938\" xlink:href=\"#DejaVuSans-32\"/>\r\n       <use x=\"197.998047\" xlink:href=\"#DejaVuSans-38\"/>\r\n       <use x=\"275.976562\" xlink:href=\"#DejaVuSans-32\"/>\r\n       <use x=\"307.763672\" xlink:href=\"#DejaVuSans-79\"/>\r\n       <use x=\"386.474609\" xlink:href=\"#DejaVuSans-32\"/>\r\n       <use x=\"418.261719\" xlink:href=\"#DejaVuSans-83\"/>\r\n       <use x=\"481.738281\" xlink:href=\"#DejaVuSans-116\"/>\r\n       <use x=\"520.947266\" xlink:href=\"#DejaVuSans-32\"/>\r\n       <use x=\"552.734375\" xlink:href=\"#DejaVuSans-78\"/>\r\n       <use x=\"627.539062\" xlink:href=\"#DejaVuSans-87\"/>\r\n      </g>\r\n     </g>\r\n    </g>\r\n    <g id=\"ytick_7\">\r\n     <g id=\"line2d_14\">\r\n      <g>\r\n       <use style=\"stroke:#000000;stroke-width:0.8;\" x=\"278.621875\" xlink:href=\"#ma87e0ba1bb\" y=\"153.972\"/>\r\n      </g>\r\n     </g>\r\n     <g id=\"text_14\">\r\n      <!-- Lincoln Memorial -->\r\n      <g transform=\"translate(186.5875 157.771219)scale(0.1 -0.1)\">\r\n       <defs>\r\n        <path d=\"M 9.8125 72.90625 \r\nL 19.671875 72.90625 \r\nL 19.671875 8.296875 \r\nL 55.171875 8.296875 \r\nL 55.171875 0 \r\nL 9.8125 0 \r\nz\r\n\" id=\"DejaVuSans-76\"/>\r\n        <path d=\"M 48.78125 52.59375 \r\nL 48.78125 44.1875 \r\nQ 44.96875 46.296875 41.140625 47.34375 \r\nQ 37.3125 48.390625 33.40625 48.390625 \r\nQ 24.65625 48.390625 19.8125 42.84375 \r\nQ 14.984375 37.3125 14.984375 27.296875 \r\nQ 14.984375 17.28125 19.8125 11.734375 \r\nQ 24.65625 6.203125 33.40625 6.203125 \r\nQ 37.3125 6.203125 41.140625 7.25 \r\nQ 44.96875 8.296875 48.78125 10.40625 \r\nL 48.78125 2.09375 \r\nQ 45.015625 0.34375 40.984375 -0.53125 \r\nQ 36.96875 -1.421875 32.421875 -1.421875 \r\nQ 20.0625 -1.421875 12.78125 6.34375 \r\nQ 5.515625 14.109375 5.515625 27.296875 \r\nQ 5.515625 40.671875 12.859375 48.328125 \r\nQ 20.21875 56 33.015625 56 \r\nQ 37.15625 56 41.109375 55.140625 \r\nQ 45.0625 54.296875 48.78125 52.59375 \r\nz\r\n\" id=\"DejaVuSans-99\"/>\r\n        <path d=\"M 30.609375 48.390625 \r\nQ 23.390625 48.390625 19.1875 42.75 \r\nQ 14.984375 37.109375 14.984375 27.296875 \r\nQ 14.984375 17.484375 19.15625 11.84375 \r\nQ 23.34375 6.203125 30.609375 6.203125 \r\nQ 37.796875 6.203125 41.984375 11.859375 \r\nQ 46.1875 17.53125 46.1875 27.296875 \r\nQ 46.1875 37.015625 41.984375 42.703125 \r\nQ 37.796875 48.390625 30.609375 48.390625 \r\nz\r\nM 30.609375 56 \r\nQ 42.328125 56 49.015625 48.375 \r\nQ 55.71875 40.765625 55.71875 27.296875 \r\nQ 55.71875 13.875 49.015625 6.21875 \r\nQ 42.328125 -1.421875 30.609375 -1.421875 \r\nQ 18.84375 -1.421875 12.171875 6.21875 \r\nQ 5.515625 13.875 5.515625 27.296875 \r\nQ 5.515625 40.765625 12.171875 48.375 \r\nQ 18.84375 56 30.609375 56 \r\nz\r\n\" id=\"DejaVuSans-111\"/>\r\n        <path d=\"M 9.421875 75.984375 \r\nL 18.40625 75.984375 \r\nL 18.40625 0 \r\nL 9.421875 0 \r\nz\r\n\" id=\"DejaVuSans-108\"/>\r\n       </defs>\r\n       <use xlink:href=\"#DejaVuSans-76\"/>\r\n       <use x=\"55.712891\" xlink:href=\"#DejaVuSans-105\"/>\r\n       <use x=\"83.496094\" xlink:href=\"#DejaVuSans-110\"/>\r\n       <use x=\"146.875\" xlink:href=\"#DejaVuSans-99\"/>\r\n       <use x=\"201.855469\" xlink:href=\"#DejaVuSans-111\"/>\r\n       <use x=\"263.037109\" xlink:href=\"#DejaVuSans-108\"/>\r\n       <use x=\"290.820312\" xlink:href=\"#DejaVuSans-110\"/>\r\n       <use x=\"354.199219\" xlink:href=\"#DejaVuSans-32\"/>\r\n       <use x=\"385.986328\" xlink:href=\"#DejaVuSans-77\"/>\r\n       <use x=\"472.265625\" xlink:href=\"#DejaVuSans-101\"/>\r\n       <use x=\"533.789062\" xlink:href=\"#DejaVuSans-109\"/>\r\n       <use x=\"631.201172\" xlink:href=\"#DejaVuSans-111\"/>\r\n       <use x=\"692.382812\" xlink:href=\"#DejaVuSans-114\"/>\r\n       <use x=\"733.496094\" xlink:href=\"#DejaVuSans-105\"/>\r\n       <use x=\"761.279297\" xlink:href=\"#DejaVuSans-97\"/>\r\n       <use x=\"822.558594\" xlink:href=\"#DejaVuSans-108\"/>\r\n      </g>\r\n     </g>\r\n    </g>\r\n    <g id=\"ytick_8\">\r\n     <g id=\"line2d_15\">\r\n      <g>\r\n       <use style=\"stroke:#000000;stroke-width:0.8;\" x=\"278.621875\" xlink:href=\"#ma87e0ba1bb\" y=\"143.1\"/>\r\n      </g>\r\n     </g>\r\n     <g id=\"text_15\">\r\n      <!-- Jefferson Dr &amp; 14th St SW -->\r\n      <g transform=\"translate(142.560937 146.899219)scale(0.1 -0.1)\">\r\n       <defs>\r\n        <path d=\"M 9.8125 72.90625 \r\nL 19.671875 72.90625 \r\nL 19.671875 5.078125 \r\nQ 19.671875 -8.109375 14.671875 -14.0625 \r\nQ 9.671875 -20.015625 -1.421875 -20.015625 \r\nL -5.171875 -20.015625 \r\nL -5.171875 -11.71875 \r\nL -2.09375 -11.71875 \r\nQ 4.4375 -11.71875 7.125 -8.046875 \r\nQ 9.8125 -4.390625 9.8125 5.078125 \r\nz\r\n\" id=\"DejaVuSans-74\"/>\r\n        <path d=\"M 37.109375 75.984375 \r\nL 37.109375 68.5 \r\nL 28.515625 68.5 \r\nQ 23.6875 68.5 21.796875 66.546875 \r\nQ 19.921875 64.59375 19.921875 59.515625 \r\nL 19.921875 54.6875 \r\nL 34.71875 54.6875 \r\nL 34.71875 47.703125 \r\nL 19.921875 47.703125 \r\nL 19.921875 0 \r\nL 10.890625 0 \r\nL 10.890625 47.703125 \r\nL 2.296875 47.703125 \r\nL 2.296875 54.6875 \r\nL 10.890625 54.6875 \r\nL 10.890625 58.5 \r\nQ 10.890625 67.625 15.140625 71.796875 \r\nQ 19.390625 75.984375 28.609375 75.984375 \r\nz\r\n\" id=\"DejaVuSans-102\"/>\r\n        <path d=\"M 19.671875 64.796875 \r\nL 19.671875 8.109375 \r\nL 31.59375 8.109375 \r\nQ 46.6875 8.109375 53.6875 14.9375 \r\nQ 60.6875 21.78125 60.6875 36.53125 \r\nQ 60.6875 51.171875 53.6875 57.984375 \r\nQ 46.6875 64.796875 31.59375 64.796875 \r\nz\r\nM 9.8125 72.90625 \r\nL 30.078125 72.90625 \r\nQ 51.265625 72.90625 61.171875 64.09375 \r\nQ 71.09375 55.28125 71.09375 36.53125 \r\nQ 71.09375 17.671875 61.125 8.828125 \r\nQ 51.171875 0 30.078125 0 \r\nL 9.8125 0 \r\nz\r\n\" id=\"DejaVuSans-68\"/>\r\n       </defs>\r\n       <use xlink:href=\"#DejaVuSans-74\"/>\r\n       <use x=\"29.492188\" xlink:href=\"#DejaVuSans-101\"/>\r\n       <use x=\"91.015625\" xlink:href=\"#DejaVuSans-102\"/>\r\n       <use x=\"126.220703\" xlink:href=\"#DejaVuSans-102\"/>\r\n       <use x=\"161.425781\" xlink:href=\"#DejaVuSans-101\"/>\r\n       <use x=\"222.949219\" xlink:href=\"#DejaVuSans-114\"/>\r\n       <use x=\"264.0625\" xlink:href=\"#DejaVuSans-115\"/>\r\n       <use x=\"316.162109\" xlink:href=\"#DejaVuSans-111\"/>\r\n       <use x=\"377.34375\" xlink:href=\"#DejaVuSans-110\"/>\r\n       <use x=\"440.722656\" xlink:href=\"#DejaVuSans-32\"/>\r\n       <use x=\"472.509766\" xlink:href=\"#DejaVuSans-68\"/>\r\n       <use x=\"549.511719\" xlink:href=\"#DejaVuSans-114\"/>\r\n       <use x=\"590.625\" xlink:href=\"#DejaVuSans-32\"/>\r\n       <use x=\"622.412109\" xlink:href=\"#DejaVuSans-38\"/>\r\n       <use x=\"700.390625\" xlink:href=\"#DejaVuSans-32\"/>\r\n       <use x=\"732.177734\" xlink:href=\"#DejaVuSans-49\"/>\r\n       <use x=\"795.800781\" xlink:href=\"#DejaVuSans-52\"/>\r\n       <use x=\"859.423828\" xlink:href=\"#DejaVuSans-116\"/>\r\n       <use x=\"898.632812\" xlink:href=\"#DejaVuSans-104\"/>\r\n       <use x=\"962.011719\" xlink:href=\"#DejaVuSans-32\"/>\r\n       <use x=\"993.798828\" xlink:href=\"#DejaVuSans-83\"/>\r\n       <use x=\"1057.275391\" xlink:href=\"#DejaVuSans-116\"/>\r\n       <use x=\"1096.484375\" xlink:href=\"#DejaVuSans-32\"/>\r\n       <use x=\"1128.271484\" xlink:href=\"#DejaVuSans-83\"/>\r\n       <use x=\"1191.748047\" xlink:href=\"#DejaVuSans-87\"/>\r\n      </g>\r\n     </g>\r\n    </g>\r\n    <g id=\"ytick_9\">\r\n     <g id=\"line2d_16\">\r\n      <g>\r\n       <use style=\"stroke:#000000;stroke-width:0.8;\" x=\"278.621875\" xlink:href=\"#ma87e0ba1bb\" y=\"132.228\"/>\r\n      </g>\r\n     </g>\r\n     <g id=\"text_16\">\r\n      <!-- 14th &amp; V St NW -->\r\n      <g transform=\"translate(193.65 136.027219)scale(0.1 -0.1)\">\r\n       <defs>\r\n        <path d=\"M 28.609375 0 \r\nL 0.78125 72.90625 \r\nL 11.078125 72.90625 \r\nL 34.1875 11.53125 \r\nL 57.328125 72.90625 \r\nL 67.578125 72.90625 \r\nL 39.796875 0 \r\nz\r\n\" id=\"DejaVuSans-86\"/>\r\n       </defs>\r\n       <use xlink:href=\"#DejaVuSans-49\"/>\r\n       <use x=\"63.623047\" xlink:href=\"#DejaVuSans-52\"/>\r\n       <use x=\"127.246094\" xlink:href=\"#DejaVuSans-116\"/>\r\n       <use x=\"166.455078\" xlink:href=\"#DejaVuSans-104\"/>\r\n       <use x=\"229.833984\" xlink:href=\"#DejaVuSans-32\"/>\r\n       <use x=\"261.621094\" xlink:href=\"#DejaVuSans-38\"/>\r\n       <use x=\"339.599609\" xlink:href=\"#DejaVuSans-32\"/>\r\n       <use x=\"371.386719\" xlink:href=\"#DejaVuSans-86\"/>\r\n       <use x=\"439.794922\" xlink:href=\"#DejaVuSans-32\"/>\r\n       <use x=\"471.582031\" xlink:href=\"#DejaVuSans-83\"/>\r\n       <use x=\"535.058594\" xlink:href=\"#DejaVuSans-116\"/>\r\n       <use x=\"574.267578\" xlink:href=\"#DejaVuSans-32\"/>\r\n       <use x=\"606.054688\" xlink:href=\"#DejaVuSans-78\"/>\r\n       <use x=\"680.859375\" xlink:href=\"#DejaVuSans-87\"/>\r\n      </g>\r\n     </g>\r\n    </g>\r\n    <g id=\"ytick_10\">\r\n     <g id=\"line2d_17\">\r\n      <g>\r\n       <use style=\"stroke:#000000;stroke-width:0.8;\" x=\"278.621875\" xlink:href=\"#ma87e0ba1bb\" y=\"121.356\"/>\r\n      </g>\r\n     </g>\r\n     <g id=\"text_17\">\r\n      <!-- 4th &amp; M St SW -->\r\n      <g transform=\"translate(199.357812 125.155219)scale(0.1 -0.1)\">\r\n       <use xlink:href=\"#DejaVuSans-52\"/>\r\n       <use x=\"63.623047\" xlink:href=\"#DejaVuSans-116\"/>\r\n       <use x=\"102.832031\" xlink:href=\"#DejaVuSans-104\"/>\r\n       <use x=\"166.210938\" xlink:href=\"#DejaVuSans-32\"/>\r\n       <use x=\"197.998047\" xlink:href=\"#DejaVuSans-38\"/>\r\n       <use x=\"275.976562\" xlink:href=\"#DejaVuSans-32\"/>\r\n       <use x=\"307.763672\" xlink:href=\"#DejaVuSans-77\"/>\r\n       <use x=\"394.042969\" xlink:href=\"#DejaVuSans-32\"/>\r\n       <use x=\"425.830078\" xlink:href=\"#DejaVuSans-83\"/>\r\n       <use x=\"489.306641\" xlink:href=\"#DejaVuSans-116\"/>\r\n       <use x=\"528.515625\" xlink:href=\"#DejaVuSans-32\"/>\r\n       <use x=\"560.302734\" xlink:href=\"#DejaVuSans-83\"/>\r\n       <use x=\"623.779297\" xlink:href=\"#DejaVuSans-87\"/>\r\n      </g>\r\n     </g>\r\n    </g>\r\n    <g id=\"ytick_11\">\r\n     <g id=\"line2d_18\">\r\n      <g>\r\n       <use style=\"stroke:#000000;stroke-width:0.8;\" x=\"278.621875\" xlink:href=\"#ma87e0ba1bb\" y=\"110.484\"/>\r\n      </g>\r\n     </g>\r\n     <g id=\"text_18\">\r\n      <!-- 4th St &amp; Madison Dr NW -->\r\n      <g transform=\"translate(150.315625 114.283219)scale(0.1 -0.1)\">\r\n       <defs>\r\n        <path d=\"M 45.40625 46.390625 \r\nL 45.40625 75.984375 \r\nL 54.390625 75.984375 \r\nL 54.390625 0 \r\nL 45.40625 0 \r\nL 45.40625 8.203125 \r\nQ 42.578125 3.328125 38.25 0.953125 \r\nQ 33.9375 -1.421875 27.875 -1.421875 \r\nQ 17.96875 -1.421875 11.734375 6.484375 \r\nQ 5.515625 14.40625 5.515625 27.296875 \r\nQ 5.515625 40.1875 11.734375 48.09375 \r\nQ 17.96875 56 27.875 56 \r\nQ 33.9375 56 38.25 53.625 \r\nQ 42.578125 51.265625 45.40625 46.390625 \r\nz\r\nM 14.796875 27.296875 \r\nQ 14.796875 17.390625 18.875 11.75 \r\nQ 22.953125 6.109375 30.078125 6.109375 \r\nQ 37.203125 6.109375 41.296875 11.75 \r\nQ 45.40625 17.390625 45.40625 27.296875 \r\nQ 45.40625 37.203125 41.296875 42.84375 \r\nQ 37.203125 48.484375 30.078125 48.484375 \r\nQ 22.953125 48.484375 18.875 42.84375 \r\nQ 14.796875 37.203125 14.796875 27.296875 \r\nz\r\n\" id=\"DejaVuSans-100\"/>\r\n       </defs>\r\n       <use xlink:href=\"#DejaVuSans-52\"/>\r\n       <use x=\"63.623047\" xlink:href=\"#DejaVuSans-116\"/>\r\n       <use x=\"102.832031\" xlink:href=\"#DejaVuSans-104\"/>\r\n       <use x=\"166.210938\" xlink:href=\"#DejaVuSans-32\"/>\r\n       <use x=\"197.998047\" xlink:href=\"#DejaVuSans-83\"/>\r\n       <use x=\"261.474609\" xlink:href=\"#DejaVuSans-116\"/>\r\n       <use x=\"300.683594\" xlink:href=\"#DejaVuSans-32\"/>\r\n       <use x=\"332.470703\" xlink:href=\"#DejaVuSans-38\"/>\r\n       <use x=\"410.449219\" xlink:href=\"#DejaVuSans-32\"/>\r\n       <use x=\"442.236328\" xlink:href=\"#DejaVuSans-77\"/>\r\n       <use x=\"528.515625\" xlink:href=\"#DejaVuSans-97\"/>\r\n       <use x=\"589.794922\" xlink:href=\"#DejaVuSans-100\"/>\r\n       <use x=\"653.271484\" xlink:href=\"#DejaVuSans-105\"/>\r\n       <use x=\"681.054688\" xlink:href=\"#DejaVuSans-115\"/>\r\n       <use x=\"733.154297\" xlink:href=\"#DejaVuSans-111\"/>\r\n       <use x=\"794.335938\" xlink:href=\"#DejaVuSans-110\"/>\r\n       <use x=\"857.714844\" xlink:href=\"#DejaVuSans-32\"/>\r\n       <use x=\"889.501953\" xlink:href=\"#DejaVuSans-68\"/>\r\n       <use x=\"966.503906\" xlink:href=\"#DejaVuSans-114\"/>\r\n       <use x=\"1007.617188\" xlink:href=\"#DejaVuSans-32\"/>\r\n       <use x=\"1039.404297\" xlink:href=\"#DejaVuSans-78\"/>\r\n       <use x=\"1114.208984\" xlink:href=\"#DejaVuSans-87\"/>\r\n      </g>\r\n     </g>\r\n    </g>\r\n    <g id=\"ytick_12\">\r\n     <g id=\"line2d_19\">\r\n      <g>\r\n       <use style=\"stroke:#000000;stroke-width:0.8;\" x=\"278.621875\" xlink:href=\"#ma87e0ba1bb\" y=\"99.612\"/>\r\n      </g>\r\n     </g>\r\n     <g id=\"text_19\">\r\n      <!-- Thomas Circle -->\r\n      <g transform=\"translate(200.725 103.411219)scale(0.1 -0.1)\">\r\n       <defs>\r\n        <path d=\"M 64.40625 67.28125 \r\nL 64.40625 56.890625 \r\nQ 59.421875 61.53125 53.78125 63.8125 \r\nQ 48.140625 66.109375 41.796875 66.109375 \r\nQ 29.296875 66.109375 22.65625 58.46875 \r\nQ 16.015625 50.828125 16.015625 36.375 \r\nQ 16.015625 21.96875 22.65625 14.328125 \r\nQ 29.296875 6.6875 41.796875 6.6875 \r\nQ 48.140625 6.6875 53.78125 8.984375 \r\nQ 59.421875 11.28125 64.40625 15.921875 \r\nL 64.40625 5.609375 \r\nQ 59.234375 2.09375 53.4375 0.328125 \r\nQ 47.65625 -1.421875 41.21875 -1.421875 \r\nQ 24.65625 -1.421875 15.125 8.703125 \r\nQ 5.609375 18.84375 5.609375 36.375 \r\nQ 5.609375 53.953125 15.125 64.078125 \r\nQ 24.65625 74.21875 41.21875 74.21875 \r\nQ 47.75 74.21875 53.53125 72.484375 \r\nQ 59.328125 70.75 64.40625 67.28125 \r\nz\r\n\" id=\"DejaVuSans-67\"/>\r\n       </defs>\r\n       <use xlink:href=\"#DejaVuSans-84\"/>\r\n       <use x=\"61.083984\" xlink:href=\"#DejaVuSans-104\"/>\r\n       <use x=\"124.462891\" xlink:href=\"#DejaVuSans-111\"/>\r\n       <use x=\"185.644531\" xlink:href=\"#DejaVuSans-109\"/>\r\n       <use x=\"283.056641\" xlink:href=\"#DejaVuSans-97\"/>\r\n       <use x=\"344.335938\" xlink:href=\"#DejaVuSans-115\"/>\r\n       <use x=\"396.435547\" xlink:href=\"#DejaVuSans-32\"/>\r\n       <use x=\"428.222656\" xlink:href=\"#DejaVuSans-67\"/>\r\n       <use x=\"498.046875\" xlink:href=\"#DejaVuSans-105\"/>\r\n       <use x=\"525.830078\" xlink:href=\"#DejaVuSans-114\"/>\r\n       <use x=\"564.693359\" xlink:href=\"#DejaVuSans-99\"/>\r\n       <use x=\"619.673828\" xlink:href=\"#DejaVuSans-108\"/>\r\n       <use x=\"647.457031\" xlink:href=\"#DejaVuSans-101\"/>\r\n      </g>\r\n     </g>\r\n    </g>\r\n    <g id=\"ytick_13\">\r\n     <g id=\"line2d_20\">\r\n      <g>\r\n       <use style=\"stroke:#000000;stroke-width:0.8;\" x=\"278.621875\" xlink:href=\"#ma87e0ba1bb\" y=\"88.74\"/>\r\n      </g>\r\n     </g>\r\n     <g id=\"text_20\">\r\n      <!-- 15th &amp; W St NW -->\r\n      <g transform=\"translate(190.603125 92.539219)scale(0.1 -0.1)\">\r\n       <use xlink:href=\"#DejaVuSans-49\"/>\r\n       <use x=\"63.623047\" xlink:href=\"#DejaVuSans-53\"/>\r\n       <use x=\"127.246094\" xlink:href=\"#DejaVuSans-116\"/>\r\n       <use x=\"166.455078\" xlink:href=\"#DejaVuSans-104\"/>\r\n       <use x=\"229.833984\" xlink:href=\"#DejaVuSans-32\"/>\r\n       <use x=\"261.621094\" xlink:href=\"#DejaVuSans-38\"/>\r\n       <use x=\"339.599609\" xlink:href=\"#DejaVuSans-32\"/>\r\n       <use x=\"371.386719\" xlink:href=\"#DejaVuSans-87\"/>\r\n       <use x=\"470.263672\" xlink:href=\"#DejaVuSans-32\"/>\r\n       <use x=\"502.050781\" xlink:href=\"#DejaVuSans-83\"/>\r\n       <use x=\"565.527344\" xlink:href=\"#DejaVuSans-116\"/>\r\n       <use x=\"604.736328\" xlink:href=\"#DejaVuSans-32\"/>\r\n       <use x=\"636.523438\" xlink:href=\"#DejaVuSans-78\"/>\r\n       <use x=\"711.328125\" xlink:href=\"#DejaVuSans-87\"/>\r\n      </g>\r\n     </g>\r\n    </g>\r\n    <g id=\"ytick_14\">\r\n     <g id=\"line2d_21\">\r\n      <g>\r\n       <use style=\"stroke:#000000;stroke-width:0.8;\" x=\"278.621875\" xlink:href=\"#ma87e0ba1bb\" y=\"77.868\"/>\r\n      </g>\r\n     </g>\r\n     <g id=\"text_21\">\r\n      <!-- Eastern Market Metro / Pennsylvania Ave &amp; 8th St SE -->\r\n      <g transform=\"translate(7.2 81.667219)scale(0.1 -0.1)\">\r\n       <defs>\r\n        <path d=\"M 9.078125 75.984375 \r\nL 18.109375 75.984375 \r\nL 18.109375 31.109375 \r\nL 44.921875 54.6875 \r\nL 56.390625 54.6875 \r\nL 27.390625 29.109375 \r\nL 57.625 0 \r\nL 45.90625 0 \r\nL 18.109375 26.703125 \r\nL 18.109375 0 \r\nL 9.078125 0 \r\nz\r\n\" id=\"DejaVuSans-107\"/>\r\n        <path d=\"M 25.390625 72.90625 \r\nL 33.6875 72.90625 \r\nL 8.296875 -9.28125 \r\nL 0 -9.28125 \r\nz\r\n\" id=\"DejaVuSans-47\"/>\r\n        <path d=\"M 32.171875 -5.078125 \r\nQ 28.375 -14.84375 24.75 -17.8125 \r\nQ 21.140625 -20.796875 15.09375 -20.796875 \r\nL 7.90625 -20.796875 \r\nL 7.90625 -13.28125 \r\nL 13.1875 -13.28125 \r\nQ 16.890625 -13.28125 18.9375 -11.515625 \r\nQ 21 -9.765625 23.484375 -3.21875 \r\nL 25.09375 0.875 \r\nL 2.984375 54.6875 \r\nL 12.5 54.6875 \r\nL 29.59375 11.921875 \r\nL 46.6875 54.6875 \r\nL 56.203125 54.6875 \r\nz\r\n\" id=\"DejaVuSans-121\"/>\r\n       </defs>\r\n       <use xlink:href=\"#DejaVuSans-69\"/>\r\n       <use x=\"63.183594\" xlink:href=\"#DejaVuSans-97\"/>\r\n       <use x=\"124.462891\" xlink:href=\"#DejaVuSans-115\"/>\r\n       <use x=\"176.5625\" xlink:href=\"#DejaVuSans-116\"/>\r\n       <use x=\"215.771484\" xlink:href=\"#DejaVuSans-101\"/>\r\n       <use x=\"277.294922\" xlink:href=\"#DejaVuSans-114\"/>\r\n       <use x=\"316.658203\" xlink:href=\"#DejaVuSans-110\"/>\r\n       <use x=\"380.037109\" xlink:href=\"#DejaVuSans-32\"/>\r\n       <use x=\"411.824219\" xlink:href=\"#DejaVuSans-77\"/>\r\n       <use x=\"498.103516\" xlink:href=\"#DejaVuSans-97\"/>\r\n       <use x=\"559.382812\" xlink:href=\"#DejaVuSans-114\"/>\r\n       <use x=\"600.496094\" xlink:href=\"#DejaVuSans-107\"/>\r\n       <use x=\"654.78125\" xlink:href=\"#DejaVuSans-101\"/>\r\n       <use x=\"716.304688\" xlink:href=\"#DejaVuSans-116\"/>\r\n       <use x=\"755.513672\" xlink:href=\"#DejaVuSans-32\"/>\r\n       <use x=\"787.300781\" xlink:href=\"#DejaVuSans-77\"/>\r\n       <use x=\"873.580078\" xlink:href=\"#DejaVuSans-101\"/>\r\n       <use x=\"935.103516\" xlink:href=\"#DejaVuSans-116\"/>\r\n       <use x=\"974.3125\" xlink:href=\"#DejaVuSans-114\"/>\r\n       <use x=\"1013.175781\" xlink:href=\"#DejaVuSans-111\"/>\r\n       <use x=\"1074.357422\" xlink:href=\"#DejaVuSans-32\"/>\r\n       <use x=\"1106.144531\" xlink:href=\"#DejaVuSans-47\"/>\r\n       <use x=\"1139.835938\" xlink:href=\"#DejaVuSans-32\"/>\r\n       <use x=\"1171.623047\" xlink:href=\"#DejaVuSans-80\"/>\r\n       <use x=\"1228.300781\" xlink:href=\"#DejaVuSans-101\"/>\r\n       <use x=\"1289.824219\" xlink:href=\"#DejaVuSans-110\"/>\r\n       <use x=\"1353.203125\" xlink:href=\"#DejaVuSans-110\"/>\r\n       <use x=\"1416.582031\" xlink:href=\"#DejaVuSans-115\"/>\r\n       <use x=\"1468.681641\" xlink:href=\"#DejaVuSans-121\"/>\r\n       <use x=\"1527.861328\" xlink:href=\"#DejaVuSans-108\"/>\r\n       <use x=\"1555.644531\" xlink:href=\"#DejaVuSans-118\"/>\r\n       <use x=\"1614.824219\" xlink:href=\"#DejaVuSans-97\"/>\r\n       <use x=\"1676.103516\" xlink:href=\"#DejaVuSans-110\"/>\r\n       <use x=\"1739.482422\" xlink:href=\"#DejaVuSans-105\"/>\r\n       <use x=\"1767.265625\" xlink:href=\"#DejaVuSans-97\"/>\r\n       <use x=\"1828.544922\" xlink:href=\"#DejaVuSans-32\"/>\r\n       <use x=\"1860.332031\" xlink:href=\"#DejaVuSans-65\"/>\r\n       <use x=\"1922.865234\" xlink:href=\"#DejaVuSans-118\"/>\r\n       <use x=\"1982.044922\" xlink:href=\"#DejaVuSans-101\"/>\r\n       <use x=\"2043.568359\" xlink:href=\"#DejaVuSans-32\"/>\r\n       <use x=\"2075.355469\" xlink:href=\"#DejaVuSans-38\"/>\r\n       <use x=\"2153.333984\" xlink:href=\"#DejaVuSans-32\"/>\r\n       <use x=\"2185.121094\" xlink:href=\"#DejaVuSans-56\"/>\r\n       <use x=\"2248.744141\" xlink:href=\"#DejaVuSans-116\"/>\r\n       <use x=\"2287.953125\" xlink:href=\"#DejaVuSans-104\"/>\r\n       <use x=\"2351.332031\" xlink:href=\"#DejaVuSans-32\"/>\r\n       <use x=\"2383.119141\" xlink:href=\"#DejaVuSans-83\"/>\r\n       <use x=\"2446.595703\" xlink:href=\"#DejaVuSans-116\"/>\r\n       <use x=\"2485.804688\" xlink:href=\"#DejaVuSans-32\"/>\r\n       <use x=\"2517.591797\" xlink:href=\"#DejaVuSans-83\"/>\r\n       <use x=\"2581.068359\" xlink:href=\"#DejaVuSans-69\"/>\r\n      </g>\r\n     </g>\r\n    </g>\r\n    <g id=\"ytick_15\">\r\n     <g id=\"line2d_22\">\r\n      <g>\r\n       <use style=\"stroke:#000000;stroke-width:0.8;\" x=\"278.621875\" xlink:href=\"#ma87e0ba1bb\" y=\"66.996\"/>\r\n      </g>\r\n     </g>\r\n     <g id=\"text_22\">\r\n      <!-- 15th &amp; Euclid St  NW -->\r\n      <g transform=\"translate(167.253125 70.795219)scale(0.1 -0.1)\">\r\n       <defs>\r\n        <path d=\"M 8.5 21.578125 \r\nL 8.5 54.6875 \r\nL 17.484375 54.6875 \r\nL 17.484375 21.921875 \r\nQ 17.484375 14.15625 20.5 10.265625 \r\nQ 23.53125 6.390625 29.59375 6.390625 \r\nQ 36.859375 6.390625 41.078125 11.03125 \r\nQ 45.3125 15.671875 45.3125 23.6875 \r\nL 45.3125 54.6875 \r\nL 54.296875 54.6875 \r\nL 54.296875 0 \r\nL 45.3125 0 \r\nL 45.3125 8.40625 \r\nQ 42.046875 3.421875 37.71875 1 \r\nQ 33.40625 -1.421875 27.6875 -1.421875 \r\nQ 18.265625 -1.421875 13.375 4.4375 \r\nQ 8.5 10.296875 8.5 21.578125 \r\nz\r\nM 31.109375 56 \r\nz\r\n\" id=\"DejaVuSans-117\"/>\r\n       </defs>\r\n       <use xlink:href=\"#DejaVuSans-49\"/>\r\n       <use x=\"63.623047\" xlink:href=\"#DejaVuSans-53\"/>\r\n       <use x=\"127.246094\" xlink:href=\"#DejaVuSans-116\"/>\r\n       <use x=\"166.455078\" xlink:href=\"#DejaVuSans-104\"/>\r\n       <use x=\"229.833984\" xlink:href=\"#DejaVuSans-32\"/>\r\n       <use x=\"261.621094\" xlink:href=\"#DejaVuSans-38\"/>\r\n       <use x=\"339.599609\" xlink:href=\"#DejaVuSans-32\"/>\r\n       <use x=\"371.386719\" xlink:href=\"#DejaVuSans-69\"/>\r\n       <use x=\"434.570312\" xlink:href=\"#DejaVuSans-117\"/>\r\n       <use x=\"497.949219\" xlink:href=\"#DejaVuSans-99\"/>\r\n       <use x=\"552.929688\" xlink:href=\"#DejaVuSans-108\"/>\r\n       <use x=\"580.712891\" xlink:href=\"#DejaVuSans-105\"/>\r\n       <use x=\"608.496094\" xlink:href=\"#DejaVuSans-100\"/>\r\n       <use x=\"671.972656\" xlink:href=\"#DejaVuSans-32\"/>\r\n       <use x=\"703.759766\" xlink:href=\"#DejaVuSans-83\"/>\r\n       <use x=\"767.236328\" xlink:href=\"#DejaVuSans-116\"/>\r\n       <use x=\"806.445312\" xlink:href=\"#DejaVuSans-32\"/>\r\n       <use x=\"838.232422\" xlink:href=\"#DejaVuSans-32\"/>\r\n       <use x=\"870.019531\" xlink:href=\"#DejaVuSans-78\"/>\r\n       <use x=\"944.824219\" xlink:href=\"#DejaVuSans-87\"/>\r\n      </g>\r\n     </g>\r\n    </g>\r\n    <g id=\"ytick_16\">\r\n     <g id=\"line2d_23\">\r\n      <g>\r\n       <use style=\"stroke:#000000;stroke-width:0.8;\" x=\"278.621875\" xlink:href=\"#ma87e0ba1bb\" y=\"56.124\"/>\r\n      </g>\r\n     </g>\r\n     <g id=\"text_23\">\r\n      <!-- 17th &amp; Corcoran St NW -->\r\n      <g transform=\"translate(155.309375 59.923219)scale(0.1 -0.1)\">\r\n       <defs>\r\n        <path d=\"M 8.203125 72.90625 \r\nL 55.078125 72.90625 \r\nL 55.078125 68.703125 \r\nL 28.609375 0 \r\nL 18.3125 0 \r\nL 43.21875 64.59375 \r\nL 8.203125 64.59375 \r\nz\r\n\" id=\"DejaVuSans-55\"/>\r\n       </defs>\r\n       <use xlink:href=\"#DejaVuSans-49\"/>\r\n       <use x=\"63.623047\" xlink:href=\"#DejaVuSans-55\"/>\r\n       <use x=\"127.246094\" xlink:href=\"#DejaVuSans-116\"/>\r\n       <use x=\"166.455078\" xlink:href=\"#DejaVuSans-104\"/>\r\n       <use x=\"229.833984\" xlink:href=\"#DejaVuSans-32\"/>\r\n       <use x=\"261.621094\" xlink:href=\"#DejaVuSans-38\"/>\r\n       <use x=\"339.599609\" xlink:href=\"#DejaVuSans-32\"/>\r\n       <use x=\"371.386719\" xlink:href=\"#DejaVuSans-67\"/>\r\n       <use x=\"441.210938\" xlink:href=\"#DejaVuSans-111\"/>\r\n       <use x=\"502.392578\" xlink:href=\"#DejaVuSans-114\"/>\r\n       <use x=\"541.255859\" xlink:href=\"#DejaVuSans-99\"/>\r\n       <use x=\"596.236328\" xlink:href=\"#DejaVuSans-111\"/>\r\n       <use x=\"657.417969\" xlink:href=\"#DejaVuSans-114\"/>\r\n       <use x=\"698.53125\" xlink:href=\"#DejaVuSans-97\"/>\r\n       <use x=\"759.810547\" xlink:href=\"#DejaVuSans-110\"/>\r\n       <use x=\"823.189453\" xlink:href=\"#DejaVuSans-32\"/>\r\n       <use x=\"854.976562\" xlink:href=\"#DejaVuSans-83\"/>\r\n       <use x=\"918.453125\" xlink:href=\"#DejaVuSans-116\"/>\r\n       <use x=\"957.662109\" xlink:href=\"#DejaVuSans-32\"/>\r\n       <use x=\"989.449219\" xlink:href=\"#DejaVuSans-78\"/>\r\n       <use x=\"1064.253906\" xlink:href=\"#DejaVuSans-87\"/>\r\n      </g>\r\n     </g>\r\n    </g>\r\n    <g id=\"ytick_17\">\r\n     <g id=\"line2d_24\">\r\n      <g>\r\n       <use style=\"stroke:#000000;stroke-width:0.8;\" x=\"278.621875\" xlink:href=\"#ma87e0ba1bb\" y=\"45.252\"/>\r\n      </g>\r\n     </g>\r\n     <g id=\"text_24\">\r\n      <!-- 5th &amp; K St NW -->\r\n      <g transform=\"translate(200.295312 49.051219)scale(0.1 -0.1)\">\r\n       <defs>\r\n        <path d=\"M 9.8125 72.90625 \r\nL 19.671875 72.90625 \r\nL 19.671875 42.09375 \r\nL 52.390625 72.90625 \r\nL 65.09375 72.90625 \r\nL 28.90625 38.921875 \r\nL 67.671875 0 \r\nL 54.6875 0 \r\nL 19.671875 35.109375 \r\nL 19.671875 0 \r\nL 9.8125 0 \r\nz\r\n\" id=\"DejaVuSans-75\"/>\r\n       </defs>\r\n       <use xlink:href=\"#DejaVuSans-53\"/>\r\n       <use x=\"63.623047\" xlink:href=\"#DejaVuSans-116\"/>\r\n       <use x=\"102.832031\" xlink:href=\"#DejaVuSans-104\"/>\r\n       <use x=\"166.210938\" xlink:href=\"#DejaVuSans-32\"/>\r\n       <use x=\"197.998047\" xlink:href=\"#DejaVuSans-38\"/>\r\n       <use x=\"275.976562\" xlink:href=\"#DejaVuSans-32\"/>\r\n       <use x=\"307.763672\" xlink:href=\"#DejaVuSans-75\"/>\r\n       <use x=\"373.339844\" xlink:href=\"#DejaVuSans-32\"/>\r\n       <use x=\"405.126953\" xlink:href=\"#DejaVuSans-83\"/>\r\n       <use x=\"468.603516\" xlink:href=\"#DejaVuSans-116\"/>\r\n       <use x=\"507.8125\" xlink:href=\"#DejaVuSans-32\"/>\r\n       <use x=\"539.599609\" xlink:href=\"#DejaVuSans-78\"/>\r\n       <use x=\"614.404297\" xlink:href=\"#DejaVuSans-87\"/>\r\n      </g>\r\n     </g>\r\n    </g>\r\n    <g id=\"ytick_18\">\r\n     <g id=\"line2d_25\">\r\n      <g>\r\n       <use style=\"stroke:#000000;stroke-width:0.8;\" x=\"278.621875\" xlink:href=\"#ma87e0ba1bb\" y=\"34.38\"/>\r\n      </g>\r\n     </g>\r\n     <g id=\"text_25\">\r\n      <!-- Massachusetts Ave &amp; Dupont Circle NW -->\r\n      <g transform=\"translate(73.510937 38.179219)scale(0.1 -0.1)\">\r\n       <use xlink:href=\"#DejaVuSans-77\"/>\r\n       <use x=\"86.279297\" xlink:href=\"#DejaVuSans-97\"/>\r\n       <use x=\"147.558594\" xlink:href=\"#DejaVuSans-115\"/>\r\n       <use x=\"199.658203\" xlink:href=\"#DejaVuSans-115\"/>\r\n       <use x=\"251.757812\" xlink:href=\"#DejaVuSans-97\"/>\r\n       <use x=\"313.037109\" xlink:href=\"#DejaVuSans-99\"/>\r\n       <use x=\"368.017578\" xlink:href=\"#DejaVuSans-104\"/>\r\n       <use x=\"431.396484\" xlink:href=\"#DejaVuSans-117\"/>\r\n       <use x=\"494.775391\" xlink:href=\"#DejaVuSans-115\"/>\r\n       <use x=\"546.875\" xlink:href=\"#DejaVuSans-101\"/>\r\n       <use x=\"608.398438\" xlink:href=\"#DejaVuSans-116\"/>\r\n       <use x=\"647.607422\" xlink:href=\"#DejaVuSans-116\"/>\r\n       <use x=\"686.816406\" xlink:href=\"#DejaVuSans-115\"/>\r\n       <use x=\"738.916016\" xlink:href=\"#DejaVuSans-32\"/>\r\n       <use x=\"770.703125\" xlink:href=\"#DejaVuSans-65\"/>\r\n       <use x=\"833.236328\" xlink:href=\"#DejaVuSans-118\"/>\r\n       <use x=\"892.416016\" xlink:href=\"#DejaVuSans-101\"/>\r\n       <use x=\"953.939453\" xlink:href=\"#DejaVuSans-32\"/>\r\n       <use x=\"985.726562\" xlink:href=\"#DejaVuSans-38\"/>\r\n       <use x=\"1063.705078\" xlink:href=\"#DejaVuSans-32\"/>\r\n       <use x=\"1095.492188\" xlink:href=\"#DejaVuSans-68\"/>\r\n       <use x=\"1172.494141\" xlink:href=\"#DejaVuSans-117\"/>\r\n       <use x=\"1235.873047\" xlink:href=\"#DejaVuSans-112\"/>\r\n       <use x=\"1299.349609\" xlink:href=\"#DejaVuSans-111\"/>\r\n       <use x=\"1360.53125\" xlink:href=\"#DejaVuSans-110\"/>\r\n       <use x=\"1423.910156\" xlink:href=\"#DejaVuSans-116\"/>\r\n       <use x=\"1463.119141\" xlink:href=\"#DejaVuSans-32\"/>\r\n       <use x=\"1494.90625\" xlink:href=\"#DejaVuSans-67\"/>\r\n       <use x=\"1564.730469\" xlink:href=\"#DejaVuSans-105\"/>\r\n       <use x=\"1592.513672\" xlink:href=\"#DejaVuSans-114\"/>\r\n       <use x=\"1631.376953\" xlink:href=\"#DejaVuSans-99\"/>\r\n       <use x=\"1686.357422\" xlink:href=\"#DejaVuSans-108\"/>\r\n       <use x=\"1714.140625\" xlink:href=\"#DejaVuSans-101\"/>\r\n       <use x=\"1775.664062\" xlink:href=\"#DejaVuSans-32\"/>\r\n       <use x=\"1807.451172\" xlink:href=\"#DejaVuSans-78\"/>\r\n       <use x=\"1882.255859\" xlink:href=\"#DejaVuSans-87\"/>\r\n      </g>\r\n     </g>\r\n    </g>\r\n    <g id=\"ytick_19\">\r\n     <g id=\"line2d_26\">\r\n      <g>\r\n       <use style=\"stroke:#000000;stroke-width:0.8;\" x=\"278.621875\" xlink:href=\"#ma87e0ba1bb\" y=\"23.508\"/>\r\n      </g>\r\n     </g>\r\n     <g id=\"text_26\">\r\n      <!-- Adams Mill &amp; Columbia Rd NW -->\r\n      <g transform=\"translate(119 27.307219)scale(0.1 -0.1)\">\r\n       <defs>\r\n        <path d=\"M 48.6875 27.296875 \r\nQ 48.6875 37.203125 44.609375 42.84375 \r\nQ 40.53125 48.484375 33.40625 48.484375 \r\nQ 26.265625 48.484375 22.1875 42.84375 \r\nQ 18.109375 37.203125 18.109375 27.296875 \r\nQ 18.109375 17.390625 22.1875 11.75 \r\nQ 26.265625 6.109375 33.40625 6.109375 \r\nQ 40.53125 6.109375 44.609375 11.75 \r\nQ 48.6875 17.390625 48.6875 27.296875 \r\nz\r\nM 18.109375 46.390625 \r\nQ 20.953125 51.265625 25.265625 53.625 \r\nQ 29.59375 56 35.59375 56 \r\nQ 45.5625 56 51.78125 48.09375 \r\nQ 58.015625 40.1875 58.015625 27.296875 \r\nQ 58.015625 14.40625 51.78125 6.484375 \r\nQ 45.5625 -1.421875 35.59375 -1.421875 \r\nQ 29.59375 -1.421875 25.265625 0.953125 \r\nQ 20.953125 3.328125 18.109375 8.203125 \r\nL 18.109375 0 \r\nL 9.078125 0 \r\nL 9.078125 75.984375 \r\nL 18.109375 75.984375 \r\nz\r\n\" id=\"DejaVuSans-98\"/>\r\n        <path d=\"M 44.390625 34.1875 \r\nQ 47.5625 33.109375 50.5625 29.59375 \r\nQ 53.5625 26.078125 56.59375 19.921875 \r\nL 66.609375 0 \r\nL 56 0 \r\nL 46.6875 18.703125 \r\nQ 43.0625 26.03125 39.671875 28.421875 \r\nQ 36.28125 30.8125 30.421875 30.8125 \r\nL 19.671875 30.8125 \r\nL 19.671875 0 \r\nL 9.8125 0 \r\nL 9.8125 72.90625 \r\nL 32.078125 72.90625 \r\nQ 44.578125 72.90625 50.734375 67.671875 \r\nQ 56.890625 62.453125 56.890625 51.90625 \r\nQ 56.890625 45.015625 53.6875 40.46875 \r\nQ 50.484375 35.9375 44.390625 34.1875 \r\nz\r\nM 19.671875 64.796875 \r\nL 19.671875 38.921875 \r\nL 32.078125 38.921875 \r\nQ 39.203125 38.921875 42.84375 42.21875 \r\nQ 46.484375 45.515625 46.484375 51.90625 \r\nQ 46.484375 58.296875 42.84375 61.546875 \r\nQ 39.203125 64.796875 32.078125 64.796875 \r\nz\r\n\" id=\"DejaVuSans-82\"/>\r\n       </defs>\r\n       <use xlink:href=\"#DejaVuSans-65\"/>\r\n       <use x=\"66.658203\" xlink:href=\"#DejaVuSans-100\"/>\r\n       <use x=\"130.134766\" xlink:href=\"#DejaVuSans-97\"/>\r\n       <use x=\"191.414062\" xlink:href=\"#DejaVuSans-109\"/>\r\n       <use x=\"288.826172\" xlink:href=\"#DejaVuSans-115\"/>\r\n       <use x=\"340.925781\" xlink:href=\"#DejaVuSans-32\"/>\r\n       <use x=\"372.712891\" xlink:href=\"#DejaVuSans-77\"/>\r\n       <use x=\"458.992188\" xlink:href=\"#DejaVuSans-105\"/>\r\n       <use x=\"486.775391\" xlink:href=\"#DejaVuSans-108\"/>\r\n       <use x=\"514.558594\" xlink:href=\"#DejaVuSans-108\"/>\r\n       <use x=\"542.341797\" xlink:href=\"#DejaVuSans-32\"/>\r\n       <use x=\"574.128906\" xlink:href=\"#DejaVuSans-38\"/>\r\n       <use x=\"652.107422\" xlink:href=\"#DejaVuSans-32\"/>\r\n       <use x=\"683.894531\" xlink:href=\"#DejaVuSans-67\"/>\r\n       <use x=\"753.71875\" xlink:href=\"#DejaVuSans-111\"/>\r\n       <use x=\"814.900391\" xlink:href=\"#DejaVuSans-108\"/>\r\n       <use x=\"842.683594\" xlink:href=\"#DejaVuSans-117\"/>\r\n       <use x=\"906.0625\" xlink:href=\"#DejaVuSans-109\"/>\r\n       <use x=\"1003.474609\" xlink:href=\"#DejaVuSans-98\"/>\r\n       <use x=\"1066.951172\" xlink:href=\"#DejaVuSans-105\"/>\r\n       <use x=\"1094.734375\" xlink:href=\"#DejaVuSans-97\"/>\r\n       <use x=\"1156.013672\" xlink:href=\"#DejaVuSans-32\"/>\r\n       <use x=\"1187.800781\" xlink:href=\"#DejaVuSans-82\"/>\r\n       <use x=\"1257.283203\" xlink:href=\"#DejaVuSans-100\"/>\r\n       <use x=\"1320.759766\" xlink:href=\"#DejaVuSans-32\"/>\r\n       <use x=\"1352.546875\" xlink:href=\"#DejaVuSans-78\"/>\r\n       <use x=\"1427.351562\" xlink:href=\"#DejaVuSans-87\"/>\r\n      </g>\r\n     </g>\r\n    </g>\r\n    <g id=\"ytick_20\">\r\n     <g id=\"line2d_27\">\r\n      <g>\r\n       <use style=\"stroke:#000000;stroke-width:0.8;\" x=\"278.621875\" xlink:href=\"#ma87e0ba1bb\" y=\"12.636\"/>\r\n      </g>\r\n     </g>\r\n     <g id=\"text_27\">\r\n      <!-- Columbus Circle / Union Station -->\r\n      <g transform=\"translate(113.16875 16.435219)scale(0.1 -0.1)\">\r\n       <defs>\r\n        <path d=\"M 8.6875 72.90625 \r\nL 18.609375 72.90625 \r\nL 18.609375 28.609375 \r\nQ 18.609375 16.890625 22.84375 11.734375 \r\nQ 27.09375 6.59375 36.625 6.59375 \r\nQ 46.09375 6.59375 50.34375 11.734375 \r\nQ 54.59375 16.890625 54.59375 28.609375 \r\nL 54.59375 72.90625 \r\nL 64.5 72.90625 \r\nL 64.5 27.390625 \r\nQ 64.5 13.140625 57.4375 5.859375 \r\nQ 50.390625 -1.421875 36.625 -1.421875 \r\nQ 22.796875 -1.421875 15.734375 5.859375 \r\nQ 8.6875 13.140625 8.6875 27.390625 \r\nz\r\n\" id=\"DejaVuSans-85\"/>\r\n       </defs>\r\n       <use xlink:href=\"#DejaVuSans-67\"/>\r\n       <use x=\"69.824219\" xlink:href=\"#DejaVuSans-111\"/>\r\n       <use x=\"131.005859\" xlink:href=\"#DejaVuSans-108\"/>\r\n       <use x=\"158.789062\" xlink:href=\"#DejaVuSans-117\"/>\r\n       <use x=\"222.167969\" xlink:href=\"#DejaVuSans-109\"/>\r\n       <use x=\"319.580078\" xlink:href=\"#DejaVuSans-98\"/>\r\n       <use x=\"383.056641\" xlink:href=\"#DejaVuSans-117\"/>\r\n       <use x=\"446.435547\" xlink:href=\"#DejaVuSans-115\"/>\r\n       <use x=\"498.535156\" xlink:href=\"#DejaVuSans-32\"/>\r\n       <use x=\"530.322266\" xlink:href=\"#DejaVuSans-67\"/>\r\n       <use x=\"600.146484\" xlink:href=\"#DejaVuSans-105\"/>\r\n       <use x=\"627.929688\" xlink:href=\"#DejaVuSans-114\"/>\r\n       <use x=\"666.792969\" xlink:href=\"#DejaVuSans-99\"/>\r\n       <use x=\"721.773438\" xlink:href=\"#DejaVuSans-108\"/>\r\n       <use x=\"749.556641\" xlink:href=\"#DejaVuSans-101\"/>\r\n       <use x=\"811.080078\" xlink:href=\"#DejaVuSans-32\"/>\r\n       <use x=\"842.867188\" xlink:href=\"#DejaVuSans-47\"/>\r\n       <use x=\"876.558594\" xlink:href=\"#DejaVuSans-32\"/>\r\n       <use x=\"908.345703\" xlink:href=\"#DejaVuSans-85\"/>\r\n       <use x=\"981.539062\" xlink:href=\"#DejaVuSans-110\"/>\r\n       <use x=\"1044.917969\" xlink:href=\"#DejaVuSans-105\"/>\r\n       <use x=\"1072.701172\" xlink:href=\"#DejaVuSans-111\"/>\r\n       <use x=\"1133.882812\" xlink:href=\"#DejaVuSans-110\"/>\r\n       <use x=\"1197.261719\" xlink:href=\"#DejaVuSans-32\"/>\r\n       <use x=\"1229.048828\" xlink:href=\"#DejaVuSans-83\"/>\r\n       <use x=\"1292.525391\" xlink:href=\"#DejaVuSans-116\"/>\r\n       <use x=\"1331.734375\" xlink:href=\"#DejaVuSans-97\"/>\r\n       <use x=\"1393.013672\" xlink:href=\"#DejaVuSans-116\"/>\r\n       <use x=\"1432.222656\" xlink:href=\"#DejaVuSans-105\"/>\r\n       <use x=\"1460.005859\" xlink:href=\"#DejaVuSans-111\"/>\r\n       <use x=\"1521.1875\" xlink:href=\"#DejaVuSans-110\"/>\r\n      </g>\r\n     </g>\r\n    </g>\r\n   </g>\r\n   <g id=\"patch_23\">\r\n    <path d=\"M 278.621875 224.64 \r\nL 278.621875 7.2 \r\n\" style=\"fill:none;stroke:#000000;stroke-linecap:square;stroke-linejoin:miter;stroke-width:0.8;\"/>\r\n   </g>\r\n   <g id=\"patch_24\">\r\n    <path d=\"M 613.421875 224.64 \r\nL 613.421875 7.2 \r\n\" style=\"fill:none;stroke:#000000;stroke-linecap:square;stroke-linejoin:miter;stroke-width:0.8;\"/>\r\n   </g>\r\n   <g id=\"patch_25\">\r\n    <path d=\"M 278.621875 224.64 \r\nL 613.421875 224.64 \r\n\" style=\"fill:none;stroke:#000000;stroke-linecap:square;stroke-linejoin:miter;stroke-width:0.8;\"/>\r\n   </g>\r\n   <g id=\"patch_26\">\r\n    <path d=\"M 278.621875 7.2 \r\nL 613.421875 7.2 \r\n\" style=\"fill:none;stroke:#000000;stroke-linecap:square;stroke-linejoin:miter;stroke-width:0.8;\"/>\r\n   </g>\r\n  </g>\r\n </g>\r\n <defs>\r\n  <clipPath id=\"p94a865a97e\">\r\n   <rect height=\"217.44\" width=\"334.8\" x=\"278.621875\" y=\"7.2\"/>\r\n  </clipPath>\r\n </defs>\r\n</svg>\r\n",
      "image/png": "[encoded data removed]"
     },
     "metadata": {
      "needs_background": "light"
     }
    }
   ],
   "source": [
    "ride_start = df.start_station_name.value_counts()\n",
    "ride_start.sort_values(ascending = False).head(20).plot(kind='barh')"
   ]
  },
  {
   "cell_type": "code",
   "execution_count": 49,
   "metadata": {},
   "outputs": [
    {
     "output_type": "execute_result",
     "data": {
      "text/plain": [
       "<AxesSubplot:>"
      ]
     },
     "metadata": {},
     "execution_count": 49
    },
    {
     "output_type": "display_data",
     "data": {
      "text/plain": "<Figure size 432x288 with 1 Axes>",
      "image/svg+xml": "<?xml version=\"1.0\" encoding=\"utf-8\" standalone=\"no\"?>\r\n<!DOCTYPE svg PUBLIC \"-//W3C//DTD SVG 1.1//EN\"\r\n  \"http://www.w3.org/Graphics/SVG/1.1/DTD/svg11.dtd\">\r\n<!-- Created with matplotlib (https://matplotlib.org/) -->\r\n<svg height=\"248.518125pt\" version=\"1.1\" viewBox=\"0 0 631.929997 248.518125\" width=\"631.929997pt\" xmlns=\"http://www.w3.org/2000/svg\" xmlns:xlink=\"http://www.w3.org/1999/xlink\">\r\n <metadata>\r\n  <rdf:RDF xmlns:cc=\"http://creativecommons.org/ns#\" xmlns:dc=\"http://purl.org/dc/elements/1.1/\" xmlns:rdf=\"http://www.w3.org/1999/02/22-rdf-syntax-ns#\">\r\n   <cc:Work>\r\n    <dc:type rdf:resource=\"http://purl.org/dc/dcmitype/StillImage\"/>\r\n    <dc:date>2021-02-03T16:12:34.218656</dc:date>\r\n    <dc:format>image/svg+xml</dc:format>\r\n    <dc:creator>\r\n     <cc:Agent>\r\n      <dc:title>Matplotlib v3.3.2, https://matplotlib.org/</dc:title>\r\n     </cc:Agent>\r\n    </dc:creator>\r\n   </cc:Work>\r\n  </rdf:RDF>\r\n </metadata>\r\n <defs>\r\n  <style type=\"text/css\">*{stroke-linecap:butt;stroke-linejoin:round;}</style>\r\n </defs>\r\n <g id=\"figure_1\">\r\n  <g id=\"patch_1\">\r\n   <path d=\"M -0 248.518125 \r\nL 631.929997 248.518125 \r\nL 631.929997 0 \r\nL -0 0 \r\nz\r\n\" style=\"fill:none;\"/>\r\n  </g>\r\n  <g id=\"axes_1\">\r\n   <g id=\"patch_2\">\r\n    <path d=\"M 278.621875 224.64 \r\nL 613.421875 224.64 \r\nL 613.421875 7.2 \r\nL 278.621875 7.2 \r\nz\r\n\" style=\"fill:#ffffff;\"/>\r\n   </g>\r\n   <g id=\"patch_3\">\r\n    <path clip-path=\"url(#pdaab7cfbc4)\" d=\"M 278.621875 221.922 \r\nL 597.479018 221.922 \r\nL 597.479018 216.486 \r\nL 278.621875 216.486 \r\nz\r\n\" style=\"fill:#1f77b4;\"/>\r\n   </g>\r\n   <g id=\"patch_4\">\r\n    <path clip-path=\"url(#pdaab7cfbc4)\" d=\"M 278.621875 211.05 \r\nL 592.002009 211.05 \r\nL 592.002009 205.614 \r\nL 278.621875 205.614 \r\nz\r\n\" style=\"fill:#1f77b4;\"/>\r\n   </g>\r\n   <g id=\"patch_5\">\r\n    <path clip-path=\"url(#pdaab7cfbc4)\" d=\"M 278.621875 200.178 \r\nL 514.84763 200.178 \r\nL 514.84763 194.742 \r\nL 278.621875 194.742 \r\nz\r\n\" style=\"fill:#1f77b4;\"/>\r\n   </g>\r\n   <g id=\"patch_6\">\r\n    <path clip-path=\"url(#pdaab7cfbc4)\" d=\"M 278.621875 189.306 \r\nL 502.226697 189.306 \r\nL 502.226697 183.87 \r\nL 278.621875 183.87 \r\nz\r\n\" style=\"fill:#1f77b4;\"/>\r\n   </g>\r\n   <g id=\"patch_7\">\r\n    <path clip-path=\"url(#pdaab7cfbc4)\" d=\"M 278.621875 178.434 \r\nL 484.366887 178.434 \r\nL 484.366887 172.998 \r\nL 278.621875 172.998 \r\nz\r\n\" style=\"fill:#1f77b4;\"/>\r\n   </g>\r\n   <g id=\"patch_8\">\r\n    <path clip-path=\"url(#pdaab7cfbc4)\" d=\"M 278.621875 167.562 \r\nL 480.080533 167.562 \r\nL 480.080533 162.126 \r\nL 278.621875 162.126 \r\nz\r\n\" style=\"fill:#1f77b4;\"/>\r\n   </g>\r\n   <g id=\"patch_9\">\r\n    <path clip-path=\"url(#pdaab7cfbc4)\" d=\"M 278.621875 156.69 \r\nL 473.889132 156.69 \r\nL 473.889132 151.254 \r\nL 278.621875 151.254 \r\nz\r\n\" style=\"fill:#1f77b4;\"/>\r\n   </g>\r\n   <g id=\"patch_10\">\r\n    <path clip-path=\"url(#pdaab7cfbc4)\" d=\"M 278.621875 145.818 \r\nL 473.651001 145.818 \r\nL 473.651001 140.382 \r\nL 278.621875 140.382 \r\nz\r\n\" style=\"fill:#1f77b4;\"/>\r\n   </g>\r\n   <g id=\"patch_11\">\r\n    <path clip-path=\"url(#pdaab7cfbc4)\" d=\"M 278.621875 134.946 \r\nL 471.507824 134.946 \r\nL 471.507824 129.51 \r\nL 278.621875 129.51 \r\nz\r\n\" style=\"fill:#1f77b4;\"/>\r\n   </g>\r\n   <g id=\"patch_12\">\r\n    <path clip-path=\"url(#pdaab7cfbc4)\" d=\"M 278.621875 124.074 \r\nL 470.31717 124.074 \r\nL 470.31717 118.638 \r\nL 278.621875 118.638 \r\nz\r\n\" style=\"fill:#1f77b4;\"/>\r\n   </g>\r\n   <g id=\"patch_13\">\r\n    <path clip-path=\"url(#pdaab7cfbc4)\" d=\"M 278.621875 113.202 \r\nL 466.745208 113.202 \r\nL 466.745208 107.766 \r\nL 278.621875 107.766 \r\nz\r\n\" style=\"fill:#1f77b4;\"/>\r\n   </g>\r\n   <g id=\"patch_14\">\r\n    <path clip-path=\"url(#pdaab7cfbc4)\" d=\"M 278.621875 102.33 \r\nL 464.3639 102.33 \r\nL 464.3639 96.894 \r\nL 278.621875 96.894 \r\nz\r\n\" style=\"fill:#1f77b4;\"/>\r\n   </g>\r\n   <g id=\"patch_15\">\r\n    <path clip-path=\"url(#pdaab7cfbc4)\" d=\"M 278.621875 91.458 \r\nL 463.887638 91.458 \r\nL 463.887638 86.022 \r\nL 278.621875 86.022 \r\nz\r\n\" style=\"fill:#1f77b4;\"/>\r\n   </g>\r\n   <g id=\"patch_16\">\r\n    <path clip-path=\"url(#pdaab7cfbc4)\" d=\"M 278.621875 80.586 \r\nL 459.363153 80.586 \r\nL 459.363153 75.15 \r\nL 278.621875 75.15 \r\nz\r\n\" style=\"fill:#1f77b4;\"/>\r\n   </g>\r\n   <g id=\"patch_17\">\r\n    <path clip-path=\"url(#pdaab7cfbc4)\" d=\"M 278.621875 69.714 \r\nL 456.981845 69.714 \r\nL 456.981845 64.278 \r\nL 278.621875 64.278 \r\nz\r\n\" style=\"fill:#1f77b4;\"/>\r\n   </g>\r\n   <g id=\"patch_18\">\r\n    <path clip-path=\"url(#pdaab7cfbc4)\" d=\"M 278.621875 58.842 \r\nL 456.743714 58.842 \r\nL 456.743714 53.406 \r\nL 278.621875 53.406 \r\nz\r\n\" style=\"fill:#1f77b4;\"/>\r\n   </g>\r\n   <g id=\"patch_19\">\r\n    <path clip-path=\"url(#pdaab7cfbc4)\" d=\"M 278.621875 47.97 \r\nL 455.791191 47.97 \r\nL 455.791191 42.534 \r\nL 278.621875 42.534 \r\nz\r\n\" style=\"fill:#1f77b4;\"/>\r\n   </g>\r\n   <g id=\"patch_20\">\r\n    <path clip-path=\"url(#pdaab7cfbc4)\" d=\"M 278.621875 37.098 \r\nL 452.45736 37.098 \r\nL 452.45736 31.662 \r\nL 278.621875 31.662 \r\nz\r\n\" style=\"fill:#1f77b4;\"/>\r\n   </g>\r\n   <g id=\"patch_21\">\r\n    <path clip-path=\"url(#pdaab7cfbc4)\" d=\"M 278.621875 26.226 \r\nL 444.837174 26.226 \r\nL 444.837174 20.79 \r\nL 278.621875 20.79 \r\nz\r\n\" style=\"fill:#1f77b4;\"/>\r\n   </g>\r\n   <g id=\"patch_22\">\r\n    <path clip-path=\"url(#pdaab7cfbc4)\" d=\"M 278.621875 15.354 \r\nL 442.932128 15.354 \r\nL 442.932128 9.918 \r\nL 278.621875 9.918 \r\nz\r\n\" style=\"fill:#1f77b4;\"/>\r\n   </g>\r\n   <g id=\"matplotlib.axis_1\">\r\n    <g id=\"xtick_1\">\r\n     <g id=\"line2d_1\">\r\n      <defs>\r\n       <path d=\"M 0 0 \r\nL 0 3.5 \r\n\" id=\"maf2b0591b8\" style=\"stroke:#000000;stroke-width:0.8;\"/>\r\n      </defs>\r\n      <g>\r\n       <use style=\"stroke:#000000;stroke-width:0.8;\" x=\"278.621875\" xlink:href=\"#maf2b0591b8\" y=\"224.64\"/>\r\n      </g>\r\n     </g>\r\n     <g id=\"text_1\">\r\n      <!-- 0 -->\r\n      <g transform=\"translate(275.440625 239.238437)scale(0.1 -0.1)\">\r\n       <defs>\r\n        <path d=\"M 31.78125 66.40625 \r\nQ 24.171875 66.40625 20.328125 58.90625 \r\nQ 16.5 51.421875 16.5 36.375 \r\nQ 16.5 21.390625 20.328125 13.890625 \r\nQ 24.171875 6.390625 31.78125 6.390625 \r\nQ 39.453125 6.390625 43.28125 13.890625 \r\nQ 47.125 21.390625 47.125 36.375 \r\nQ 47.125 51.421875 43.28125 58.90625 \r\nQ 39.453125 66.40625 31.78125 66.40625 \r\nz\r\nM 31.78125 74.21875 \r\nQ 44.046875 74.21875 50.515625 64.515625 \r\nQ 56.984375 54.828125 56.984375 36.375 \r\nQ 56.984375 17.96875 50.515625 8.265625 \r\nQ 44.046875 -1.421875 31.78125 -1.421875 \r\nQ 19.53125 -1.421875 13.0625 8.265625 \r\nQ 6.59375 17.96875 6.59375 36.375 \r\nQ 6.59375 54.828125 13.0625 64.515625 \r\nQ 19.53125 74.21875 31.78125 74.21875 \r\nz\r\n\" id=\"DejaVuSans-48\"/>\r\n       </defs>\r\n       <use xlink:href=\"#DejaVuSans-48\"/>\r\n      </g>\r\n     </g>\r\n    </g>\r\n    <g id=\"xtick_2\">\r\n     <g id=\"line2d_2\">\r\n      <g>\r\n       <use style=\"stroke:#000000;stroke-width:0.8;\" x=\"326.248035\" xlink:href=\"#maf2b0591b8\" y=\"224.64\"/>\r\n      </g>\r\n     </g>\r\n     <g id=\"text_2\">\r\n      <!-- 200 -->\r\n      <g transform=\"translate(316.704285 239.238437)scale(0.1 -0.1)\">\r\n       <defs>\r\n        <path d=\"M 19.1875 8.296875 \r\nL 53.609375 8.296875 \r\nL 53.609375 0 \r\nL 7.328125 0 \r\nL 7.328125 8.296875 \r\nQ 12.9375 14.109375 22.625 23.890625 \r\nQ 32.328125 33.6875 34.8125 36.53125 \r\nQ 39.546875 41.84375 41.421875 45.53125 \r\nQ 43.3125 49.21875 43.3125 52.78125 \r\nQ 43.3125 58.59375 39.234375 62.25 \r\nQ 35.15625 65.921875 28.609375 65.921875 \r\nQ 23.96875 65.921875 18.8125 64.3125 \r\nQ 13.671875 62.703125 7.8125 59.421875 \r\nL 7.8125 69.390625 \r\nQ 13.765625 71.78125 18.9375 73 \r\nQ 24.125 74.21875 28.421875 74.21875 \r\nQ 39.75 74.21875 46.484375 68.546875 \r\nQ 53.21875 62.890625 53.21875 53.421875 \r\nQ 53.21875 48.921875 51.53125 44.890625 \r\nQ 49.859375 40.875 45.40625 35.40625 \r\nQ 44.1875 33.984375 37.640625 27.21875 \r\nQ 31.109375 20.453125 19.1875 8.296875 \r\nz\r\n\" id=\"DejaVuSans-50\"/>\r\n       </defs>\r\n       <use xlink:href=\"#DejaVuSans-50\"/>\r\n       <use x=\"63.623047\" xlink:href=\"#DejaVuSans-48\"/>\r\n       <use x=\"127.246094\" xlink:href=\"#DejaVuSans-48\"/>\r\n      </g>\r\n     </g>\r\n    </g>\r\n    <g id=\"xtick_3\">\r\n     <g id=\"line2d_3\">\r\n      <g>\r\n       <use style=\"stroke:#000000;stroke-width:0.8;\" x=\"373.874195\" xlink:href=\"#maf2b0591b8\" y=\"224.64\"/>\r\n      </g>\r\n     </g>\r\n     <g id=\"text_3\">\r\n      <!-- 400 -->\r\n      <g transform=\"translate(364.330445 239.238437)scale(0.1 -0.1)\">\r\n       <defs>\r\n        <path d=\"M 37.796875 64.3125 \r\nL 12.890625 25.390625 \r\nL 37.796875 25.390625 \r\nz\r\nM 35.203125 72.90625 \r\nL 47.609375 72.90625 \r\nL 47.609375 25.390625 \r\nL 58.015625 25.390625 \r\nL 58.015625 17.1875 \r\nL 47.609375 17.1875 \r\nL 47.609375 0 \r\nL 37.796875 0 \r\nL 37.796875 17.1875 \r\nL 4.890625 17.1875 \r\nL 4.890625 26.703125 \r\nz\r\n\" id=\"DejaVuSans-52\"/>\r\n       </defs>\r\n       <use xlink:href=\"#DejaVuSans-52\"/>\r\n       <use x=\"63.623047\" xlink:href=\"#DejaVuSans-48\"/>\r\n       <use x=\"127.246094\" xlink:href=\"#DejaVuSans-48\"/>\r\n      </g>\r\n     </g>\r\n    </g>\r\n    <g id=\"xtick_4\">\r\n     <g id=\"line2d_4\">\r\n      <g>\r\n       <use style=\"stroke:#000000;stroke-width:0.8;\" x=\"421.500356\" xlink:href=\"#maf2b0591b8\" y=\"224.64\"/>\r\n      </g>\r\n     </g>\r\n     <g id=\"text_4\">\r\n      <!-- 600 -->\r\n      <g transform=\"translate(411.956606 239.238437)scale(0.1 -0.1)\">\r\n       <defs>\r\n        <path d=\"M 33.015625 40.375 \r\nQ 26.375 40.375 22.484375 35.828125 \r\nQ 18.609375 31.296875 18.609375 23.390625 \r\nQ 18.609375 15.53125 22.484375 10.953125 \r\nQ 26.375 6.390625 33.015625 6.390625 \r\nQ 39.65625 6.390625 43.53125 10.953125 \r\nQ 47.40625 15.53125 47.40625 23.390625 \r\nQ 47.40625 31.296875 43.53125 35.828125 \r\nQ 39.65625 40.375 33.015625 40.375 \r\nz\r\nM 52.59375 71.296875 \r\nL 52.59375 62.3125 \r\nQ 48.875 64.0625 45.09375 64.984375 \r\nQ 41.3125 65.921875 37.59375 65.921875 \r\nQ 27.828125 65.921875 22.671875 59.328125 \r\nQ 17.53125 52.734375 16.796875 39.40625 \r\nQ 19.671875 43.65625 24.015625 45.921875 \r\nQ 28.375 48.1875 33.59375 48.1875 \r\nQ 44.578125 48.1875 50.953125 41.515625 \r\nQ 57.328125 34.859375 57.328125 23.390625 \r\nQ 57.328125 12.15625 50.6875 5.359375 \r\nQ 44.046875 -1.421875 33.015625 -1.421875 \r\nQ 20.359375 -1.421875 13.671875 8.265625 \r\nQ 6.984375 17.96875 6.984375 36.375 \r\nQ 6.984375 53.65625 15.1875 63.9375 \r\nQ 23.390625 74.21875 37.203125 74.21875 \r\nQ 40.921875 74.21875 44.703125 73.484375 \r\nQ 48.484375 72.75 52.59375 71.296875 \r\nz\r\n\" id=\"DejaVuSans-54\"/>\r\n       </defs>\r\n       <use xlink:href=\"#DejaVuSans-54\"/>\r\n       <use x=\"63.623047\" xlink:href=\"#DejaVuSans-48\"/>\r\n       <use x=\"127.246094\" xlink:href=\"#DejaVuSans-48\"/>\r\n      </g>\r\n     </g>\r\n    </g>\r\n    <g id=\"xtick_5\">\r\n     <g id=\"line2d_5\">\r\n      <g>\r\n       <use style=\"stroke:#000000;stroke-width:0.8;\" x=\"469.126516\" xlink:href=\"#maf2b0591b8\" y=\"224.64\"/>\r\n      </g>\r\n     </g>\r\n     <g id=\"text_5\">\r\n      <!-- 800 -->\r\n      <g transform=\"translate(459.582766 239.238437)scale(0.1 -0.1)\">\r\n       <defs>\r\n        <path d=\"M 31.78125 34.625 \r\nQ 24.75 34.625 20.71875 30.859375 \r\nQ 16.703125 27.09375 16.703125 20.515625 \r\nQ 16.703125 13.921875 20.71875 10.15625 \r\nQ 24.75 6.390625 31.78125 6.390625 \r\nQ 38.8125 6.390625 42.859375 10.171875 \r\nQ 46.921875 13.96875 46.921875 20.515625 \r\nQ 46.921875 27.09375 42.890625 30.859375 \r\nQ 38.875 34.625 31.78125 34.625 \r\nz\r\nM 21.921875 38.8125 \r\nQ 15.578125 40.375 12.03125 44.71875 \r\nQ 8.5 49.078125 8.5 55.328125 \r\nQ 8.5 64.0625 14.71875 69.140625 \r\nQ 20.953125 74.21875 31.78125 74.21875 \r\nQ 42.671875 74.21875 48.875 69.140625 \r\nQ 55.078125 64.0625 55.078125 55.328125 \r\nQ 55.078125 49.078125 51.53125 44.71875 \r\nQ 48 40.375 41.703125 38.8125 \r\nQ 48.828125 37.15625 52.796875 32.3125 \r\nQ 56.78125 27.484375 56.78125 20.515625 \r\nQ 56.78125 9.90625 50.3125 4.234375 \r\nQ 43.84375 -1.421875 31.78125 -1.421875 \r\nQ 19.734375 -1.421875 13.25 4.234375 \r\nQ 6.78125 9.90625 6.78125 20.515625 \r\nQ 6.78125 27.484375 10.78125 32.3125 \r\nQ 14.796875 37.15625 21.921875 38.8125 \r\nz\r\nM 18.3125 54.390625 \r\nQ 18.3125 48.734375 21.84375 45.5625 \r\nQ 25.390625 42.390625 31.78125 42.390625 \r\nQ 38.140625 42.390625 41.71875 45.5625 \r\nQ 45.3125 48.734375 45.3125 54.390625 \r\nQ 45.3125 60.0625 41.71875 63.234375 \r\nQ 38.140625 66.40625 31.78125 66.40625 \r\nQ 25.390625 66.40625 21.84375 63.234375 \r\nQ 18.3125 60.0625 18.3125 54.390625 \r\nz\r\n\" id=\"DejaVuSans-56\"/>\r\n       </defs>\r\n       <use xlink:href=\"#DejaVuSans-56\"/>\r\n       <use x=\"63.623047\" xlink:href=\"#DejaVuSans-48\"/>\r\n       <use x=\"127.246094\" xlink:href=\"#DejaVuSans-48\"/>\r\n      </g>\r\n     </g>\r\n    </g>\r\n    <g id=\"xtick_6\">\r\n     <g id=\"line2d_6\">\r\n      <g>\r\n       <use style=\"stroke:#000000;stroke-width:0.8;\" x=\"516.752676\" xlink:href=\"#maf2b0591b8\" y=\"224.64\"/>\r\n      </g>\r\n     </g>\r\n     <g id=\"text_6\">\r\n      <!-- 1000 -->\r\n      <g transform=\"translate(504.027676 239.238437)scale(0.1 -0.1)\">\r\n       <defs>\r\n        <path d=\"M 12.40625 8.296875 \r\nL 28.515625 8.296875 \r\nL 28.515625 63.921875 \r\nL 10.984375 60.40625 \r\nL 10.984375 69.390625 \r\nL 28.421875 72.90625 \r\nL 38.28125 72.90625 \r\nL 38.28125 8.296875 \r\nL 54.390625 8.296875 \r\nL 54.390625 0 \r\nL 12.40625 0 \r\nz\r\n\" id=\"DejaVuSans-49\"/>\r\n       </defs>\r\n       <use xlink:href=\"#DejaVuSans-49\"/>\r\n       <use x=\"63.623047\" xlink:href=\"#DejaVuSans-48\"/>\r\n       <use x=\"127.246094\" xlink:href=\"#DejaVuSans-48\"/>\r\n       <use x=\"190.869141\" xlink:href=\"#DejaVuSans-48\"/>\r\n      </g>\r\n     </g>\r\n    </g>\r\n    <g id=\"xtick_7\">\r\n     <g id=\"line2d_7\">\r\n      <g>\r\n       <use style=\"stroke:#000000;stroke-width:0.8;\" x=\"564.378836\" xlink:href=\"#maf2b0591b8\" y=\"224.64\"/>\r\n      </g>\r\n     </g>\r\n     <g id=\"text_7\">\r\n      <!-- 1200 -->\r\n      <g transform=\"translate(551.653836 239.238437)scale(0.1 -0.1)\">\r\n       <use xlink:href=\"#DejaVuSans-49\"/>\r\n       <use x=\"63.623047\" xlink:href=\"#DejaVuSans-50\"/>\r\n       <use x=\"127.246094\" xlink:href=\"#DejaVuSans-48\"/>\r\n       <use x=\"190.869141\" xlink:href=\"#DejaVuSans-48\"/>\r\n      </g>\r\n     </g>\r\n    </g>\r\n    <g id=\"xtick_8\">\r\n     <g id=\"line2d_8\">\r\n      <g>\r\n       <use style=\"stroke:#000000;stroke-width:0.8;\" x=\"612.004997\" xlink:href=\"#maf2b0591b8\" y=\"224.64\"/>\r\n      </g>\r\n     </g>\r\n     <g id=\"text_8\">\r\n      <!-- 1400 -->\r\n      <g transform=\"translate(599.279997 239.238437)scale(0.1 -0.1)\">\r\n       <use xlink:href=\"#DejaVuSans-49\"/>\r\n       <use x=\"63.623047\" xlink:href=\"#DejaVuSans-52\"/>\r\n       <use x=\"127.246094\" xlink:href=\"#DejaVuSans-48\"/>\r\n       <use x=\"190.869141\" xlink:href=\"#DejaVuSans-48\"/>\r\n      </g>\r\n     </g>\r\n    </g>\r\n   </g>\r\n   <g id=\"matplotlib.axis_2\">\r\n    <g id=\"ytick_1\">\r\n     <g id=\"line2d_9\">\r\n      <defs>\r\n       <path d=\"M 0 0 \r\nL -3.5 0 \r\n\" id=\"m85283566d7\" style=\"stroke:#000000;stroke-width:0.8;\"/>\r\n      </defs>\r\n      <g>\r\n       <use style=\"stroke:#000000;stroke-width:0.8;\" x=\"278.621875\" xlink:href=\"#m85283566d7\" y=\"219.204\"/>\r\n      </g>\r\n     </g>\r\n     <g id=\"text_9\">\r\n      <!-- 15th &amp; P St NW -->\r\n      <g transform=\"translate(194.460938 223.003219)scale(0.1 -0.1)\">\r\n       <defs>\r\n        <path d=\"M 10.796875 72.90625 \r\nL 49.515625 72.90625 \r\nL 49.515625 64.59375 \r\nL 19.828125 64.59375 \r\nL 19.828125 46.734375 \r\nQ 21.96875 47.46875 24.109375 47.828125 \r\nQ 26.265625 48.1875 28.421875 48.1875 \r\nQ 40.625 48.1875 47.75 41.5 \r\nQ 54.890625 34.8125 54.890625 23.390625 \r\nQ 54.890625 11.625 47.5625 5.09375 \r\nQ 40.234375 -1.421875 26.90625 -1.421875 \r\nQ 22.3125 -1.421875 17.546875 -0.640625 \r\nQ 12.796875 0.140625 7.71875 1.703125 \r\nL 7.71875 11.625 \r\nQ 12.109375 9.234375 16.796875 8.0625 \r\nQ 21.484375 6.890625 26.703125 6.890625 \r\nQ 35.15625 6.890625 40.078125 11.328125 \r\nQ 45.015625 15.765625 45.015625 23.390625 \r\nQ 45.015625 31 40.078125 35.4375 \r\nQ 35.15625 39.890625 26.703125 39.890625 \r\nQ 22.75 39.890625 18.8125 39.015625 \r\nQ 14.890625 38.140625 10.796875 36.28125 \r\nz\r\n\" id=\"DejaVuSans-53\"/>\r\n        <path d=\"M 18.3125 70.21875 \r\nL 18.3125 54.6875 \r\nL 36.8125 54.6875 \r\nL 36.8125 47.703125 \r\nL 18.3125 47.703125 \r\nL 18.3125 18.015625 \r\nQ 18.3125 11.328125 20.140625 9.421875 \r\nQ 21.96875 7.515625 27.59375 7.515625 \r\nL 36.8125 7.515625 \r\nL 36.8125 0 \r\nL 27.59375 0 \r\nQ 17.1875 0 13.234375 3.875 \r\nQ 9.28125 7.765625 9.28125 18.015625 \r\nL 9.28125 47.703125 \r\nL 2.6875 47.703125 \r\nL 2.6875 54.6875 \r\nL 9.28125 54.6875 \r\nL 9.28125 70.21875 \r\nz\r\n\" id=\"DejaVuSans-116\"/>\r\n        <path d=\"M 54.890625 33.015625 \r\nL 54.890625 0 \r\nL 45.90625 0 \r\nL 45.90625 32.71875 \r\nQ 45.90625 40.484375 42.875 44.328125 \r\nQ 39.84375 48.1875 33.796875 48.1875 \r\nQ 26.515625 48.1875 22.3125 43.546875 \r\nQ 18.109375 38.921875 18.109375 30.90625 \r\nL 18.109375 0 \r\nL 9.078125 0 \r\nL 9.078125 75.984375 \r\nL 18.109375 75.984375 \r\nL 18.109375 46.1875 \r\nQ 21.34375 51.125 25.703125 53.5625 \r\nQ 30.078125 56 35.796875 56 \r\nQ 45.21875 56 50.046875 50.171875 \r\nQ 54.890625 44.34375 54.890625 33.015625 \r\nz\r\n\" id=\"DejaVuSans-104\"/>\r\n        <path id=\"DejaVuSans-32\"/>\r\n        <path d=\"M 24.3125 39.203125 \r\nQ 19.875 35.25 17.796875 31.3125 \r\nQ 15.71875 27.390625 15.71875 23.09375 \r\nQ 15.71875 15.96875 20.890625 11.234375 \r\nQ 26.078125 6.5 33.890625 6.5 \r\nQ 38.53125 6.5 42.578125 8.03125 \r\nQ 46.625 9.578125 50.203125 12.703125 \r\nz\r\nM 31.203125 44.671875 \r\nL 56 19.28125 \r\nQ 58.890625 23.640625 60.5 28.59375 \r\nQ 62.109375 33.546875 62.40625 39.109375 \r\nL 71.484375 39.109375 \r\nQ 70.90625 32.671875 68.359375 26.359375 \r\nQ 65.828125 20.0625 61.28125 13.921875 \r\nL 74.90625 0 \r\nL 62.59375 0 \r\nL 55.609375 7.171875 \r\nQ 50.53125 2.828125 44.96875 0.703125 \r\nQ 39.40625 -1.421875 33.015625 -1.421875 \r\nQ 21.234375 -1.421875 13.765625 5.296875 \r\nQ 6.296875 12.015625 6.296875 22.515625 \r\nQ 6.296875 28.765625 9.5625 34.25 \r\nQ 12.84375 39.75 19.390625 44.578125 \r\nQ 17.046875 47.65625 15.8125 50.703125 \r\nQ 14.59375 53.765625 14.59375 56.6875 \r\nQ 14.59375 64.59375 20.015625 69.40625 \r\nQ 25.4375 74.21875 34.421875 74.21875 \r\nQ 38.484375 74.21875 42.5 73.34375 \r\nQ 46.53125 72.46875 50.6875 70.703125 \r\nL 50.6875 61.8125 \r\nQ 46.4375 64.109375 42.578125 65.296875 \r\nQ 38.71875 66.5 35.40625 66.5 \r\nQ 30.28125 66.5 27.078125 63.78125 \r\nQ 23.875 61.078125 23.875 56.78125 \r\nQ 23.875 54.296875 25.3125 51.78125 \r\nQ 26.765625 49.265625 31.203125 44.671875 \r\nz\r\n\" id=\"DejaVuSans-38\"/>\r\n        <path d=\"M 19.671875 64.796875 \r\nL 19.671875 37.40625 \r\nL 32.078125 37.40625 \r\nQ 38.96875 37.40625 42.71875 40.96875 \r\nQ 46.484375 44.53125 46.484375 51.125 \r\nQ 46.484375 57.671875 42.71875 61.234375 \r\nQ 38.96875 64.796875 32.078125 64.796875 \r\nz\r\nM 9.8125 72.90625 \r\nL 32.078125 72.90625 \r\nQ 44.34375 72.90625 50.609375 67.359375 \r\nQ 56.890625 61.8125 56.890625 51.125 \r\nQ 56.890625 40.328125 50.609375 34.8125 \r\nQ 44.34375 29.296875 32.078125 29.296875 \r\nL 19.671875 29.296875 \r\nL 19.671875 0 \r\nL 9.8125 0 \r\nz\r\n\" id=\"DejaVuSans-80\"/>\r\n        <path d=\"M 53.515625 70.515625 \r\nL 53.515625 60.890625 \r\nQ 47.90625 63.578125 42.921875 64.890625 \r\nQ 37.9375 66.21875 33.296875 66.21875 \r\nQ 25.25 66.21875 20.875 63.09375 \r\nQ 16.5 59.96875 16.5 54.203125 \r\nQ 16.5 49.359375 19.40625 46.890625 \r\nQ 22.3125 44.4375 30.421875 42.921875 \r\nL 36.375 41.703125 \r\nQ 47.40625 39.59375 52.65625 34.296875 \r\nQ 57.90625 29 57.90625 20.125 \r\nQ 57.90625 9.515625 50.796875 4.046875 \r\nQ 43.703125 -1.421875 29.984375 -1.421875 \r\nQ 24.8125 -1.421875 18.96875 -0.25 \r\nQ 13.140625 0.921875 6.890625 3.21875 \r\nL 6.890625 13.375 \r\nQ 12.890625 10.015625 18.65625 8.296875 \r\nQ 24.421875 6.59375 29.984375 6.59375 \r\nQ 38.421875 6.59375 43.015625 9.90625 \r\nQ 47.609375 13.234375 47.609375 19.390625 \r\nQ 47.609375 24.75 44.3125 27.78125 \r\nQ 41.015625 30.8125 33.5 32.328125 \r\nL 27.484375 33.5 \r\nQ 16.453125 35.6875 11.515625 40.375 \r\nQ 6.59375 45.0625 6.59375 53.421875 \r\nQ 6.59375 63.09375 13.40625 68.65625 \r\nQ 20.21875 74.21875 32.171875 74.21875 \r\nQ 37.3125 74.21875 42.625 73.28125 \r\nQ 47.953125 72.359375 53.515625 70.515625 \r\nz\r\n\" id=\"DejaVuSans-83\"/>\r\n        <path d=\"M 9.8125 72.90625 \r\nL 23.09375 72.90625 \r\nL 55.421875 11.921875 \r\nL 55.421875 72.90625 \r\nL 64.984375 72.90625 \r\nL 64.984375 0 \r\nL 51.703125 0 \r\nL 19.390625 60.984375 \r\nL 19.390625 0 \r\nL 9.8125 0 \r\nz\r\n\" id=\"DejaVuSans-78\"/>\r\n        <path d=\"M 3.328125 72.90625 \r\nL 13.28125 72.90625 \r\nL 28.609375 11.28125 \r\nL 43.890625 72.90625 \r\nL 54.984375 72.90625 \r\nL 70.3125 11.28125 \r\nL 85.59375 72.90625 \r\nL 95.609375 72.90625 \r\nL 77.296875 0 \r\nL 64.890625 0 \r\nL 49.515625 63.28125 \r\nL 33.984375 0 \r\nL 21.578125 0 \r\nz\r\n\" id=\"DejaVuSans-87\"/>\r\n       </defs>\r\n       <use xlink:href=\"#DejaVuSans-49\"/>\r\n       <use x=\"63.623047\" xlink:href=\"#DejaVuSans-53\"/>\r\n       <use x=\"127.246094\" xlink:href=\"#DejaVuSans-116\"/>\r\n       <use x=\"166.455078\" xlink:href=\"#DejaVuSans-104\"/>\r\n       <use x=\"229.833984\" xlink:href=\"#DejaVuSans-32\"/>\r\n       <use x=\"261.621094\" xlink:href=\"#DejaVuSans-38\"/>\r\n       <use x=\"339.599609\" xlink:href=\"#DejaVuSans-32\"/>\r\n       <use x=\"371.386719\" xlink:href=\"#DejaVuSans-80\"/>\r\n       <use x=\"431.689453\" xlink:href=\"#DejaVuSans-32\"/>\r\n       <use x=\"463.476562\" xlink:href=\"#DejaVuSans-83\"/>\r\n       <use x=\"526.953125\" xlink:href=\"#DejaVuSans-116\"/>\r\n       <use x=\"566.162109\" xlink:href=\"#DejaVuSans-32\"/>\r\n       <use x=\"597.949219\" xlink:href=\"#DejaVuSans-78\"/>\r\n       <use x=\"672.753906\" xlink:href=\"#DejaVuSans-87\"/>\r\n      </g>\r\n     </g>\r\n    </g>\r\n    <g id=\"ytick_2\">\r\n     <g id=\"line2d_10\">\r\n      <g>\r\n       <use style=\"stroke:#000000;stroke-width:0.8;\" x=\"278.621875\" xlink:href=\"#m85283566d7\" y=\"208.332\"/>\r\n      </g>\r\n     </g>\r\n     <g id=\"text_10\">\r\n      <!-- New Hampshire Ave &amp; T St NW -->\r\n      <g transform=\"translate(116.770312 212.131219)scale(0.1 -0.1)\">\r\n       <defs>\r\n        <path d=\"M 56.203125 29.59375 \r\nL 56.203125 25.203125 \r\nL 14.890625 25.203125 \r\nQ 15.484375 15.921875 20.484375 11.0625 \r\nQ 25.484375 6.203125 34.421875 6.203125 \r\nQ 39.59375 6.203125 44.453125 7.46875 \r\nQ 49.3125 8.734375 54.109375 11.28125 \r\nL 54.109375 2.78125 \r\nQ 49.265625 0.734375 44.1875 -0.34375 \r\nQ 39.109375 -1.421875 33.890625 -1.421875 \r\nQ 20.796875 -1.421875 13.15625 6.1875 \r\nQ 5.515625 13.8125 5.515625 26.8125 \r\nQ 5.515625 40.234375 12.765625 48.109375 \r\nQ 20.015625 56 32.328125 56 \r\nQ 43.359375 56 49.78125 48.890625 \r\nQ 56.203125 41.796875 56.203125 29.59375 \r\nz\r\nM 47.21875 32.234375 \r\nQ 47.125 39.59375 43.09375 43.984375 \r\nQ 39.0625 48.390625 32.421875 48.390625 \r\nQ 24.90625 48.390625 20.390625 44.140625 \r\nQ 15.875 39.890625 15.1875 32.171875 \r\nz\r\n\" id=\"DejaVuSans-101\"/>\r\n        <path d=\"M 4.203125 54.6875 \r\nL 13.1875 54.6875 \r\nL 24.421875 12.015625 \r\nL 35.59375 54.6875 \r\nL 46.1875 54.6875 \r\nL 57.421875 12.015625 \r\nL 68.609375 54.6875 \r\nL 77.59375 54.6875 \r\nL 63.28125 0 \r\nL 52.6875 0 \r\nL 40.921875 44.828125 \r\nL 29.109375 0 \r\nL 18.5 0 \r\nz\r\n\" id=\"DejaVuSans-119\"/>\r\n        <path d=\"M 9.8125 72.90625 \r\nL 19.671875 72.90625 \r\nL 19.671875 43.015625 \r\nL 55.515625 43.015625 \r\nL 55.515625 72.90625 \r\nL 65.375 72.90625 \r\nL 65.375 0 \r\nL 55.515625 0 \r\nL 55.515625 34.71875 \r\nL 19.671875 34.71875 \r\nL 19.671875 0 \r\nL 9.8125 0 \r\nz\r\n\" id=\"DejaVuSans-72\"/>\r\n        <path d=\"M 34.28125 27.484375 \r\nQ 23.390625 27.484375 19.1875 25 \r\nQ 14.984375 22.515625 14.984375 16.5 \r\nQ 14.984375 11.71875 18.140625 8.90625 \r\nQ 21.296875 6.109375 26.703125 6.109375 \r\nQ 34.1875 6.109375 38.703125 11.40625 \r\nQ 43.21875 16.703125 43.21875 25.484375 \r\nL 43.21875 27.484375 \r\nz\r\nM 52.203125 31.203125 \r\nL 52.203125 0 \r\nL 43.21875 0 \r\nL 43.21875 8.296875 \r\nQ 40.140625 3.328125 35.546875 0.953125 \r\nQ 30.953125 -1.421875 24.3125 -1.421875 \r\nQ 15.921875 -1.421875 10.953125 3.296875 \r\nQ 6 8.015625 6 15.921875 \r\nQ 6 25.140625 12.171875 29.828125 \r\nQ 18.359375 34.515625 30.609375 34.515625 \r\nL 43.21875 34.515625 \r\nL 43.21875 35.40625 \r\nQ 43.21875 41.609375 39.140625 45 \r\nQ 35.0625 48.390625 27.6875 48.390625 \r\nQ 23 48.390625 18.546875 47.265625 \r\nQ 14.109375 46.140625 10.015625 43.890625 \r\nL 10.015625 52.203125 \r\nQ 14.9375 54.109375 19.578125 55.046875 \r\nQ 24.21875 56 28.609375 56 \r\nQ 40.484375 56 46.34375 49.84375 \r\nQ 52.203125 43.703125 52.203125 31.203125 \r\nz\r\n\" id=\"DejaVuSans-97\"/>\r\n        <path d=\"M 52 44.1875 \r\nQ 55.375 50.25 60.0625 53.125 \r\nQ 64.75 56 71.09375 56 \r\nQ 79.640625 56 84.28125 50.015625 \r\nQ 88.921875 44.046875 88.921875 33.015625 \r\nL 88.921875 0 \r\nL 79.890625 0 \r\nL 79.890625 32.71875 \r\nQ 79.890625 40.578125 77.09375 44.375 \r\nQ 74.3125 48.1875 68.609375 48.1875 \r\nQ 61.625 48.1875 57.5625 43.546875 \r\nQ 53.515625 38.921875 53.515625 30.90625 \r\nL 53.515625 0 \r\nL 44.484375 0 \r\nL 44.484375 32.71875 \r\nQ 44.484375 40.625 41.703125 44.40625 \r\nQ 38.921875 48.1875 33.109375 48.1875 \r\nQ 26.21875 48.1875 22.15625 43.53125 \r\nQ 18.109375 38.875 18.109375 30.90625 \r\nL 18.109375 0 \r\nL 9.078125 0 \r\nL 9.078125 54.6875 \r\nL 18.109375 54.6875 \r\nL 18.109375 46.1875 \r\nQ 21.1875 51.21875 25.484375 53.609375 \r\nQ 29.78125 56 35.6875 56 \r\nQ 41.65625 56 45.828125 52.96875 \r\nQ 50 49.953125 52 44.1875 \r\nz\r\n\" id=\"DejaVuSans-109\"/>\r\n        <path d=\"M 18.109375 8.203125 \r\nL 18.109375 -20.796875 \r\nL 9.078125 -20.796875 \r\nL 9.078125 54.6875 \r\nL 18.109375 54.6875 \r\nL 18.109375 46.390625 \r\nQ 20.953125 51.265625 25.265625 53.625 \r\nQ 29.59375 56 35.59375 56 \r\nQ 45.5625 56 51.78125 48.09375 \r\nQ 58.015625 40.1875 58.015625 27.296875 \r\nQ 58.015625 14.40625 51.78125 6.484375 \r\nQ 45.5625 -1.421875 35.59375 -1.421875 \r\nQ 29.59375 -1.421875 25.265625 0.953125 \r\nQ 20.953125 3.328125 18.109375 8.203125 \r\nz\r\nM 48.6875 27.296875 \r\nQ 48.6875 37.203125 44.609375 42.84375 \r\nQ 40.53125 48.484375 33.40625 48.484375 \r\nQ 26.265625 48.484375 22.1875 42.84375 \r\nQ 18.109375 37.203125 18.109375 27.296875 \r\nQ 18.109375 17.390625 22.1875 11.75 \r\nQ 26.265625 6.109375 33.40625 6.109375 \r\nQ 40.53125 6.109375 44.609375 11.75 \r\nQ 48.6875 17.390625 48.6875 27.296875 \r\nz\r\n\" id=\"DejaVuSans-112\"/>\r\n        <path d=\"M 44.28125 53.078125 \r\nL 44.28125 44.578125 \r\nQ 40.484375 46.53125 36.375 47.5 \r\nQ 32.28125 48.484375 27.875 48.484375 \r\nQ 21.1875 48.484375 17.84375 46.4375 \r\nQ 14.5 44.390625 14.5 40.28125 \r\nQ 14.5 37.15625 16.890625 35.375 \r\nQ 19.28125 33.59375 26.515625 31.984375 \r\nL 29.59375 31.296875 \r\nQ 39.15625 29.25 43.1875 25.515625 \r\nQ 47.21875 21.78125 47.21875 15.09375 \r\nQ 47.21875 7.46875 41.1875 3.015625 \r\nQ 35.15625 -1.421875 24.609375 -1.421875 \r\nQ 20.21875 -1.421875 15.453125 -0.5625 \r\nQ 10.6875 0.296875 5.421875 2 \r\nL 5.421875 11.28125 \r\nQ 10.40625 8.6875 15.234375 7.390625 \r\nQ 20.0625 6.109375 24.8125 6.109375 \r\nQ 31.15625 6.109375 34.5625 8.28125 \r\nQ 37.984375 10.453125 37.984375 14.40625 \r\nQ 37.984375 18.0625 35.515625 20.015625 \r\nQ 33.0625 21.96875 24.703125 23.78125 \r\nL 21.578125 24.515625 \r\nQ 13.234375 26.265625 9.515625 29.90625 \r\nQ 5.8125 33.546875 5.8125 39.890625 \r\nQ 5.8125 47.609375 11.28125 51.796875 \r\nQ 16.75 56 26.8125 56 \r\nQ 31.78125 56 36.171875 55.265625 \r\nQ 40.578125 54.546875 44.28125 53.078125 \r\nz\r\n\" id=\"DejaVuSans-115\"/>\r\n        <path d=\"M 9.421875 54.6875 \r\nL 18.40625 54.6875 \r\nL 18.40625 0 \r\nL 9.421875 0 \r\nz\r\nM 9.421875 75.984375 \r\nL 18.40625 75.984375 \r\nL 18.40625 64.59375 \r\nL 9.421875 64.59375 \r\nz\r\n\" id=\"DejaVuSans-105\"/>\r\n        <path d=\"M 41.109375 46.296875 \r\nQ 39.59375 47.171875 37.8125 47.578125 \r\nQ 36.03125 48 33.890625 48 \r\nQ 26.265625 48 22.1875 43.046875 \r\nQ 18.109375 38.09375 18.109375 28.8125 \r\nL 18.109375 0 \r\nL 9.078125 0 \r\nL 9.078125 54.6875 \r\nL 18.109375 54.6875 \r\nL 18.109375 46.1875 \r\nQ 20.953125 51.171875 25.484375 53.578125 \r\nQ 30.03125 56 36.53125 56 \r\nQ 37.453125 56 38.578125 55.875 \r\nQ 39.703125 55.765625 41.0625 55.515625 \r\nz\r\n\" id=\"DejaVuSans-114\"/>\r\n        <path d=\"M 34.1875 63.1875 \r\nL 20.796875 26.90625 \r\nL 47.609375 26.90625 \r\nz\r\nM 28.609375 72.90625 \r\nL 39.796875 72.90625 \r\nL 67.578125 0 \r\nL 57.328125 0 \r\nL 50.6875 18.703125 \r\nL 17.828125 18.703125 \r\nL 11.1875 0 \r\nL 0.78125 0 \r\nz\r\n\" id=\"DejaVuSans-65\"/>\r\n        <path d=\"M 2.984375 54.6875 \r\nL 12.5 54.6875 \r\nL 29.59375 8.796875 \r\nL 46.6875 54.6875 \r\nL 56.203125 54.6875 \r\nL 35.6875 0 \r\nL 23.484375 0 \r\nz\r\n\" id=\"DejaVuSans-118\"/>\r\n        <path d=\"M -0.296875 72.90625 \r\nL 61.375 72.90625 \r\nL 61.375 64.59375 \r\nL 35.5 64.59375 \r\nL 35.5 0 \r\nL 25.59375 0 \r\nL 25.59375 64.59375 \r\nL -0.296875 64.59375 \r\nz\r\n\" id=\"DejaVuSans-84\"/>\r\n       </defs>\r\n       <use xlink:href=\"#DejaVuSans-78\"/>\r\n       <use x=\"74.804688\" xlink:href=\"#DejaVuSans-101\"/>\r\n       <use x=\"136.328125\" xlink:href=\"#DejaVuSans-119\"/>\r\n       <use x=\"218.115234\" xlink:href=\"#DejaVuSans-32\"/>\r\n       <use x=\"249.902344\" xlink:href=\"#DejaVuSans-72\"/>\r\n       <use x=\"325.097656\" xlink:href=\"#DejaVuSans-97\"/>\r\n       <use x=\"386.376953\" xlink:href=\"#DejaVuSans-109\"/>\r\n       <use x=\"483.789062\" xlink:href=\"#DejaVuSans-112\"/>\r\n       <use x=\"547.265625\" xlink:href=\"#DejaVuSans-115\"/>\r\n       <use x=\"599.365234\" xlink:href=\"#DejaVuSans-104\"/>\r\n       <use x=\"662.744141\" xlink:href=\"#DejaVuSans-105\"/>\r\n       <use x=\"690.527344\" xlink:href=\"#DejaVuSans-114\"/>\r\n       <use x=\"729.390625\" xlink:href=\"#DejaVuSans-101\"/>\r\n       <use x=\"790.914062\" xlink:href=\"#DejaVuSans-32\"/>\r\n       <use x=\"822.701172\" xlink:href=\"#DejaVuSans-65\"/>\r\n       <use x=\"885.234375\" xlink:href=\"#DejaVuSans-118\"/>\r\n       <use x=\"944.414062\" xlink:href=\"#DejaVuSans-101\"/>\r\n       <use x=\"1005.9375\" xlink:href=\"#DejaVuSans-32\"/>\r\n       <use x=\"1037.724609\" xlink:href=\"#DejaVuSans-38\"/>\r\n       <use x=\"1115.703125\" xlink:href=\"#DejaVuSans-32\"/>\r\n       <use x=\"1147.490234\" xlink:href=\"#DejaVuSans-84\"/>\r\n       <use x=\"1208.574219\" xlink:href=\"#DejaVuSans-32\"/>\r\n       <use x=\"1240.361328\" xlink:href=\"#DejaVuSans-83\"/>\r\n       <use x=\"1303.837891\" xlink:href=\"#DejaVuSans-116\"/>\r\n       <use x=\"1343.046875\" xlink:href=\"#DejaVuSans-32\"/>\r\n       <use x=\"1374.833984\" xlink:href=\"#DejaVuSans-78\"/>\r\n       <use x=\"1449.638672\" xlink:href=\"#DejaVuSans-87\"/>\r\n      </g>\r\n     </g>\r\n    </g>\r\n    <g id=\"ytick_3\">\r\n     <g id=\"line2d_11\">\r\n      <g>\r\n       <use style=\"stroke:#000000;stroke-width:0.8;\" x=\"278.621875\" xlink:href=\"#m85283566d7\" y=\"197.46\"/>\r\n      </g>\r\n     </g>\r\n     <g id=\"text_11\">\r\n      <!-- 1st &amp; M St NE -->\r\n      <g transform=\"translate(202.921875 201.259219)scale(0.1 -0.1)\">\r\n       <defs>\r\n        <path d=\"M 9.8125 72.90625 \r\nL 24.515625 72.90625 \r\nL 43.109375 23.296875 \r\nL 61.8125 72.90625 \r\nL 76.515625 72.90625 \r\nL 76.515625 0 \r\nL 66.890625 0 \r\nL 66.890625 64.015625 \r\nL 48.09375 14.015625 \r\nL 38.1875 14.015625 \r\nL 19.390625 64.015625 \r\nL 19.390625 0 \r\nL 9.8125 0 \r\nz\r\n\" id=\"DejaVuSans-77\"/>\r\n        <path d=\"M 9.8125 72.90625 \r\nL 55.90625 72.90625 \r\nL 55.90625 64.59375 \r\nL 19.671875 64.59375 \r\nL 19.671875 43.015625 \r\nL 54.390625 43.015625 \r\nL 54.390625 34.71875 \r\nL 19.671875 34.71875 \r\nL 19.671875 8.296875 \r\nL 56.78125 8.296875 \r\nL 56.78125 0 \r\nL 9.8125 0 \r\nz\r\n\" id=\"DejaVuSans-69\"/>\r\n       </defs>\r\n       <use xlink:href=\"#DejaVuSans-49\"/>\r\n       <use x=\"63.623047\" xlink:href=\"#DejaVuSans-115\"/>\r\n       <use x=\"115.722656\" xlink:href=\"#DejaVuSans-116\"/>\r\n       <use x=\"154.931641\" xlink:href=\"#DejaVuSans-32\"/>\r\n       <use x=\"186.71875\" xlink:href=\"#DejaVuSans-38\"/>\r\n       <use x=\"264.697266\" xlink:href=\"#DejaVuSans-32\"/>\r\n       <use x=\"296.484375\" xlink:href=\"#DejaVuSans-77\"/>\r\n       <use x=\"382.763672\" xlink:href=\"#DejaVuSans-32\"/>\r\n       <use x=\"414.550781\" xlink:href=\"#DejaVuSans-83\"/>\r\n       <use x=\"478.027344\" xlink:href=\"#DejaVuSans-116\"/>\r\n       <use x=\"517.236328\" xlink:href=\"#DejaVuSans-32\"/>\r\n       <use x=\"549.023438\" xlink:href=\"#DejaVuSans-78\"/>\r\n       <use x=\"623.828125\" xlink:href=\"#DejaVuSans-69\"/>\r\n      </g>\r\n     </g>\r\n    </g>\r\n    <g id=\"ytick_4\">\r\n     <g id=\"line2d_12\">\r\n      <g>\r\n       <use style=\"stroke:#000000;stroke-width:0.8;\" x=\"278.621875\" xlink:href=\"#m85283566d7\" y=\"186.588\"/>\r\n      </g>\r\n     </g>\r\n     <g id=\"text_12\">\r\n      <!-- 14th &amp; V St NW -->\r\n      <g transform=\"translate(193.65 190.387219)scale(0.1 -0.1)\">\r\n       <defs>\r\n        <path d=\"M 28.609375 0 \r\nL 0.78125 72.90625 \r\nL 11.078125 72.90625 \r\nL 34.1875 11.53125 \r\nL 57.328125 72.90625 \r\nL 67.578125 72.90625 \r\nL 39.796875 0 \r\nz\r\n\" id=\"DejaVuSans-86\"/>\r\n       </defs>\r\n       <use xlink:href=\"#DejaVuSans-49\"/>\r\n       <use x=\"63.623047\" xlink:href=\"#DejaVuSans-52\"/>\r\n       <use x=\"127.246094\" xlink:href=\"#DejaVuSans-116\"/>\r\n       <use x=\"166.455078\" xlink:href=\"#DejaVuSans-104\"/>\r\n       <use x=\"229.833984\" xlink:href=\"#DejaVuSans-32\"/>\r\n       <use x=\"261.621094\" xlink:href=\"#DejaVuSans-38\"/>\r\n       <use x=\"339.599609\" xlink:href=\"#DejaVuSans-32\"/>\r\n       <use x=\"371.386719\" xlink:href=\"#DejaVuSans-86\"/>\r\n       <use x=\"439.794922\" xlink:href=\"#DejaVuSans-32\"/>\r\n       <use x=\"471.582031\" xlink:href=\"#DejaVuSans-83\"/>\r\n       <use x=\"535.058594\" xlink:href=\"#DejaVuSans-116\"/>\r\n       <use x=\"574.267578\" xlink:href=\"#DejaVuSans-32\"/>\r\n       <use x=\"606.054688\" xlink:href=\"#DejaVuSans-78\"/>\r\n       <use x=\"680.859375\" xlink:href=\"#DejaVuSans-87\"/>\r\n      </g>\r\n     </g>\r\n    </g>\r\n    <g id=\"ytick_5\">\r\n     <g id=\"line2d_13\">\r\n      <g>\r\n       <use style=\"stroke:#000000;stroke-width:0.8;\" x=\"278.621875\" xlink:href=\"#m85283566d7\" y=\"175.716\"/>\r\n      </g>\r\n     </g>\r\n     <g id=\"text_13\">\r\n      <!-- Massachusetts Ave &amp; Dupont Circle NW -->\r\n      <g transform=\"translate(73.510937 179.515219)scale(0.1 -0.1)\">\r\n       <defs>\r\n        <path d=\"M 48.78125 52.59375 \r\nL 48.78125 44.1875 \r\nQ 44.96875 46.296875 41.140625 47.34375 \r\nQ 37.3125 48.390625 33.40625 48.390625 \r\nQ 24.65625 48.390625 19.8125 42.84375 \r\nQ 14.984375 37.3125 14.984375 27.296875 \r\nQ 14.984375 17.28125 19.8125 11.734375 \r\nQ 24.65625 6.203125 33.40625 6.203125 \r\nQ 37.3125 6.203125 41.140625 7.25 \r\nQ 44.96875 8.296875 48.78125 10.40625 \r\nL 48.78125 2.09375 \r\nQ 45.015625 0.34375 40.984375 -0.53125 \r\nQ 36.96875 -1.421875 32.421875 -1.421875 \r\nQ 20.0625 -1.421875 12.78125 6.34375 \r\nQ 5.515625 14.109375 5.515625 27.296875 \r\nQ 5.515625 40.671875 12.859375 48.328125 \r\nQ 20.21875 56 33.015625 56 \r\nQ 37.15625 56 41.109375 55.140625 \r\nQ 45.0625 54.296875 48.78125 52.59375 \r\nz\r\n\" id=\"DejaVuSans-99\"/>\r\n        <path d=\"M 8.5 21.578125 \r\nL 8.5 54.6875 \r\nL 17.484375 54.6875 \r\nL 17.484375 21.921875 \r\nQ 17.484375 14.15625 20.5 10.265625 \r\nQ 23.53125 6.390625 29.59375 6.390625 \r\nQ 36.859375 6.390625 41.078125 11.03125 \r\nQ 45.3125 15.671875 45.3125 23.6875 \r\nL 45.3125 54.6875 \r\nL 54.296875 54.6875 \r\nL 54.296875 0 \r\nL 45.3125 0 \r\nL 45.3125 8.40625 \r\nQ 42.046875 3.421875 37.71875 1 \r\nQ 33.40625 -1.421875 27.6875 -1.421875 \r\nQ 18.265625 -1.421875 13.375 4.4375 \r\nQ 8.5 10.296875 8.5 21.578125 \r\nz\r\nM 31.109375 56 \r\nz\r\n\" id=\"DejaVuSans-117\"/>\r\n        <path d=\"M 19.671875 64.796875 \r\nL 19.671875 8.109375 \r\nL 31.59375 8.109375 \r\nQ 46.6875 8.109375 53.6875 14.9375 \r\nQ 60.6875 21.78125 60.6875 36.53125 \r\nQ 60.6875 51.171875 53.6875 57.984375 \r\nQ 46.6875 64.796875 31.59375 64.796875 \r\nz\r\nM 9.8125 72.90625 \r\nL 30.078125 72.90625 \r\nQ 51.265625 72.90625 61.171875 64.09375 \r\nQ 71.09375 55.28125 71.09375 36.53125 \r\nQ 71.09375 17.671875 61.125 8.828125 \r\nQ 51.171875 0 30.078125 0 \r\nL 9.8125 0 \r\nz\r\n\" id=\"DejaVuSans-68\"/>\r\n        <path d=\"M 30.609375 48.390625 \r\nQ 23.390625 48.390625 19.1875 42.75 \r\nQ 14.984375 37.109375 14.984375 27.296875 \r\nQ 14.984375 17.484375 19.15625 11.84375 \r\nQ 23.34375 6.203125 30.609375 6.203125 \r\nQ 37.796875 6.203125 41.984375 11.859375 \r\nQ 46.1875 17.53125 46.1875 27.296875 \r\nQ 46.1875 37.015625 41.984375 42.703125 \r\nQ 37.796875 48.390625 30.609375 48.390625 \r\nz\r\nM 30.609375 56 \r\nQ 42.328125 56 49.015625 48.375 \r\nQ 55.71875 40.765625 55.71875 27.296875 \r\nQ 55.71875 13.875 49.015625 6.21875 \r\nQ 42.328125 -1.421875 30.609375 -1.421875 \r\nQ 18.84375 -1.421875 12.171875 6.21875 \r\nQ 5.515625 13.875 5.515625 27.296875 \r\nQ 5.515625 40.765625 12.171875 48.375 \r\nQ 18.84375 56 30.609375 56 \r\nz\r\n\" id=\"DejaVuSans-111\"/>\r\n        <path d=\"M 54.890625 33.015625 \r\nL 54.890625 0 \r\nL 45.90625 0 \r\nL 45.90625 32.71875 \r\nQ 45.90625 40.484375 42.875 44.328125 \r\nQ 39.84375 48.1875 33.796875 48.1875 \r\nQ 26.515625 48.1875 22.3125 43.546875 \r\nQ 18.109375 38.921875 18.109375 30.90625 \r\nL 18.109375 0 \r\nL 9.078125 0 \r\nL 9.078125 54.6875 \r\nL 18.109375 54.6875 \r\nL 18.109375 46.1875 \r\nQ 21.34375 51.125 25.703125 53.5625 \r\nQ 30.078125 56 35.796875 56 \r\nQ 45.21875 56 50.046875 50.171875 \r\nQ 54.890625 44.34375 54.890625 33.015625 \r\nz\r\n\" id=\"DejaVuSans-110\"/>\r\n        <path d=\"M 64.40625 67.28125 \r\nL 64.40625 56.890625 \r\nQ 59.421875 61.53125 53.78125 63.8125 \r\nQ 48.140625 66.109375 41.796875 66.109375 \r\nQ 29.296875 66.109375 22.65625 58.46875 \r\nQ 16.015625 50.828125 16.015625 36.375 \r\nQ 16.015625 21.96875 22.65625 14.328125 \r\nQ 29.296875 6.6875 41.796875 6.6875 \r\nQ 48.140625 6.6875 53.78125 8.984375 \r\nQ 59.421875 11.28125 64.40625 15.921875 \r\nL 64.40625 5.609375 \r\nQ 59.234375 2.09375 53.4375 0.328125 \r\nQ 47.65625 -1.421875 41.21875 -1.421875 \r\nQ 24.65625 -1.421875 15.125 8.703125 \r\nQ 5.609375 18.84375 5.609375 36.375 \r\nQ 5.609375 53.953125 15.125 64.078125 \r\nQ 24.65625 74.21875 41.21875 74.21875 \r\nQ 47.75 74.21875 53.53125 72.484375 \r\nQ 59.328125 70.75 64.40625 67.28125 \r\nz\r\n\" id=\"DejaVuSans-67\"/>\r\n        <path d=\"M 9.421875 75.984375 \r\nL 18.40625 75.984375 \r\nL 18.40625 0 \r\nL 9.421875 0 \r\nz\r\n\" id=\"DejaVuSans-108\"/>\r\n       </defs>\r\n       <use xlink:href=\"#DejaVuSans-77\"/>\r\n       <use x=\"86.279297\" xlink:href=\"#DejaVuSans-97\"/>\r\n       <use x=\"147.558594\" xlink:href=\"#DejaVuSans-115\"/>\r\n       <use x=\"199.658203\" xlink:href=\"#DejaVuSans-115\"/>\r\n       <use x=\"251.757812\" xlink:href=\"#DejaVuSans-97\"/>\r\n       <use x=\"313.037109\" xlink:href=\"#DejaVuSans-99\"/>\r\n       <use x=\"368.017578\" xlink:href=\"#DejaVuSans-104\"/>\r\n       <use x=\"431.396484\" xlink:href=\"#DejaVuSans-117\"/>\r\n       <use x=\"494.775391\" xlink:href=\"#DejaVuSans-115\"/>\r\n       <use x=\"546.875\" xlink:href=\"#DejaVuSans-101\"/>\r\n       <use x=\"608.398438\" xlink:href=\"#DejaVuSans-116\"/>\r\n       <use x=\"647.607422\" xlink:href=\"#DejaVuSans-116\"/>\r\n       <use x=\"686.816406\" xlink:href=\"#DejaVuSans-115\"/>\r\n       <use x=\"738.916016\" xlink:href=\"#DejaVuSans-32\"/>\r\n       <use x=\"770.703125\" xlink:href=\"#DejaVuSans-65\"/>\r\n       <use x=\"833.236328\" xlink:href=\"#DejaVuSans-118\"/>\r\n       <use x=\"892.416016\" xlink:href=\"#DejaVuSans-101\"/>\r\n       <use x=\"953.939453\" xlink:href=\"#DejaVuSans-32\"/>\r\n       <use x=\"985.726562\" xlink:href=\"#DejaVuSans-38\"/>\r\n       <use x=\"1063.705078\" xlink:href=\"#DejaVuSans-32\"/>\r\n       <use x=\"1095.492188\" xlink:href=\"#DejaVuSans-68\"/>\r\n       <use x=\"1172.494141\" xlink:href=\"#DejaVuSans-117\"/>\r\n       <use x=\"1235.873047\" xlink:href=\"#DejaVuSans-112\"/>\r\n       <use x=\"1299.349609\" xlink:href=\"#DejaVuSans-111\"/>\r\n       <use x=\"1360.53125\" xlink:href=\"#DejaVuSans-110\"/>\r\n       <use x=\"1423.910156\" xlink:href=\"#DejaVuSans-116\"/>\r\n       <use x=\"1463.119141\" xlink:href=\"#DejaVuSans-32\"/>\r\n       <use x=\"1494.90625\" xlink:href=\"#DejaVuSans-67\"/>\r\n       <use x=\"1564.730469\" xlink:href=\"#DejaVuSans-105\"/>\r\n       <use x=\"1592.513672\" xlink:href=\"#DejaVuSans-114\"/>\r\n       <use x=\"1631.376953\" xlink:href=\"#DejaVuSans-99\"/>\r\n       <use x=\"1686.357422\" xlink:href=\"#DejaVuSans-108\"/>\r\n       <use x=\"1714.140625\" xlink:href=\"#DejaVuSans-101\"/>\r\n       <use x=\"1775.664062\" xlink:href=\"#DejaVuSans-32\"/>\r\n       <use x=\"1807.451172\" xlink:href=\"#DejaVuSans-78\"/>\r\n       <use x=\"1882.255859\" xlink:href=\"#DejaVuSans-87\"/>\r\n      </g>\r\n     </g>\r\n    </g>\r\n    <g id=\"ytick_6\">\r\n     <g id=\"line2d_14\">\r\n      <g>\r\n       <use style=\"stroke:#000000;stroke-width:0.8;\" x=\"278.621875\" xlink:href=\"#m85283566d7\" y=\"164.844\"/>\r\n      </g>\r\n     </g>\r\n     <g id=\"text_14\">\r\n      <!-- 14th &amp; R St NW -->\r\n      <g transform=\"translate(193.542187 168.643219)scale(0.1 -0.1)\">\r\n       <defs>\r\n        <path d=\"M 44.390625 34.1875 \r\nQ 47.5625 33.109375 50.5625 29.59375 \r\nQ 53.5625 26.078125 56.59375 19.921875 \r\nL 66.609375 0 \r\nL 56 0 \r\nL 46.6875 18.703125 \r\nQ 43.0625 26.03125 39.671875 28.421875 \r\nQ 36.28125 30.8125 30.421875 30.8125 \r\nL 19.671875 30.8125 \r\nL 19.671875 0 \r\nL 9.8125 0 \r\nL 9.8125 72.90625 \r\nL 32.078125 72.90625 \r\nQ 44.578125 72.90625 50.734375 67.671875 \r\nQ 56.890625 62.453125 56.890625 51.90625 \r\nQ 56.890625 45.015625 53.6875 40.46875 \r\nQ 50.484375 35.9375 44.390625 34.1875 \r\nz\r\nM 19.671875 64.796875 \r\nL 19.671875 38.921875 \r\nL 32.078125 38.921875 \r\nQ 39.203125 38.921875 42.84375 42.21875 \r\nQ 46.484375 45.515625 46.484375 51.90625 \r\nQ 46.484375 58.296875 42.84375 61.546875 \r\nQ 39.203125 64.796875 32.078125 64.796875 \r\nz\r\n\" id=\"DejaVuSans-82\"/>\r\n       </defs>\r\n       <use xlink:href=\"#DejaVuSans-49\"/>\r\n       <use x=\"63.623047\" xlink:href=\"#DejaVuSans-52\"/>\r\n       <use x=\"127.246094\" xlink:href=\"#DejaVuSans-116\"/>\r\n       <use x=\"166.455078\" xlink:href=\"#DejaVuSans-104\"/>\r\n       <use x=\"229.833984\" xlink:href=\"#DejaVuSans-32\"/>\r\n       <use x=\"261.621094\" xlink:href=\"#DejaVuSans-38\"/>\r\n       <use x=\"339.599609\" xlink:href=\"#DejaVuSans-32\"/>\r\n       <use x=\"371.386719\" xlink:href=\"#DejaVuSans-82\"/>\r\n       <use x=\"440.869141\" xlink:href=\"#DejaVuSans-32\"/>\r\n       <use x=\"472.65625\" xlink:href=\"#DejaVuSans-83\"/>\r\n       <use x=\"536.132812\" xlink:href=\"#DejaVuSans-116\"/>\r\n       <use x=\"575.341797\" xlink:href=\"#DejaVuSans-32\"/>\r\n       <use x=\"607.128906\" xlink:href=\"#DejaVuSans-78\"/>\r\n       <use x=\"681.933594\" xlink:href=\"#DejaVuSans-87\"/>\r\n      </g>\r\n     </g>\r\n    </g>\r\n    <g id=\"ytick_7\">\r\n     <g id=\"line2d_15\">\r\n      <g>\r\n       <use style=\"stroke:#000000;stroke-width:0.8;\" x=\"278.621875\" xlink:href=\"#m85283566d7\" y=\"153.972\"/>\r\n      </g>\r\n     </g>\r\n     <g id=\"text_15\">\r\n      <!-- 17th &amp; Corcoran St NW -->\r\n      <g transform=\"translate(155.309375 157.771219)scale(0.1 -0.1)\">\r\n       <defs>\r\n        <path d=\"M 8.203125 72.90625 \r\nL 55.078125 72.90625 \r\nL 55.078125 68.703125 \r\nL 28.609375 0 \r\nL 18.3125 0 \r\nL 43.21875 64.59375 \r\nL 8.203125 64.59375 \r\nz\r\n\" id=\"DejaVuSans-55\"/>\r\n       </defs>\r\n       <use xlink:href=\"#DejaVuSans-49\"/>\r\n       <use x=\"63.623047\" xlink:href=\"#DejaVuSans-55\"/>\r\n       <use x=\"127.246094\" xlink:href=\"#DejaVuSans-116\"/>\r\n       <use x=\"166.455078\" xlink:href=\"#DejaVuSans-104\"/>\r\n       <use x=\"229.833984\" xlink:href=\"#DejaVuSans-32\"/>\r\n       <use x=\"261.621094\" xlink:href=\"#DejaVuSans-38\"/>\r\n       <use x=\"339.599609\" xlink:href=\"#DejaVuSans-32\"/>\r\n       <use x=\"371.386719\" xlink:href=\"#DejaVuSans-67\"/>\r\n       <use x=\"441.210938\" xlink:href=\"#DejaVuSans-111\"/>\r\n       <use x=\"502.392578\" xlink:href=\"#DejaVuSans-114\"/>\r\n       <use x=\"541.255859\" xlink:href=\"#DejaVuSans-99\"/>\r\n       <use x=\"596.236328\" xlink:href=\"#DejaVuSans-111\"/>\r\n       <use x=\"657.417969\" xlink:href=\"#DejaVuSans-114\"/>\r\n       <use x=\"698.53125\" xlink:href=\"#DejaVuSans-97\"/>\r\n       <use x=\"759.810547\" xlink:href=\"#DejaVuSans-110\"/>\r\n       <use x=\"823.189453\" xlink:href=\"#DejaVuSans-32\"/>\r\n       <use x=\"854.976562\" xlink:href=\"#DejaVuSans-83\"/>\r\n       <use x=\"918.453125\" xlink:href=\"#DejaVuSans-116\"/>\r\n       <use x=\"957.662109\" xlink:href=\"#DejaVuSans-32\"/>\r\n       <use x=\"989.449219\" xlink:href=\"#DejaVuSans-78\"/>\r\n       <use x=\"1064.253906\" xlink:href=\"#DejaVuSans-87\"/>\r\n      </g>\r\n     </g>\r\n    </g>\r\n    <g id=\"ytick_8\">\r\n     <g id=\"line2d_16\">\r\n      <g>\r\n       <use style=\"stroke:#000000;stroke-width:0.8;\" x=\"278.621875\" xlink:href=\"#m85283566d7\" y=\"143.1\"/>\r\n      </g>\r\n     </g>\r\n     <g id=\"text_16\">\r\n      <!-- Eastern Market Metro / Pennsylvania Ave &amp; 8th St SE -->\r\n      <g transform=\"translate(7.2 146.899219)scale(0.1 -0.1)\">\r\n       <defs>\r\n        <path d=\"M 9.078125 75.984375 \r\nL 18.109375 75.984375 \r\nL 18.109375 31.109375 \r\nL 44.921875 54.6875 \r\nL 56.390625 54.6875 \r\nL 27.390625 29.109375 \r\nL 57.625 0 \r\nL 45.90625 0 \r\nL 18.109375 26.703125 \r\nL 18.109375 0 \r\nL 9.078125 0 \r\nz\r\n\" id=\"DejaVuSans-107\"/>\r\n        <path d=\"M 25.390625 72.90625 \r\nL 33.6875 72.90625 \r\nL 8.296875 -9.28125 \r\nL 0 -9.28125 \r\nz\r\n\" id=\"DejaVuSans-47\"/>\r\n        <path d=\"M 32.171875 -5.078125 \r\nQ 28.375 -14.84375 24.75 -17.8125 \r\nQ 21.140625 -20.796875 15.09375 -20.796875 \r\nL 7.90625 -20.796875 \r\nL 7.90625 -13.28125 \r\nL 13.1875 -13.28125 \r\nQ 16.890625 -13.28125 18.9375 -11.515625 \r\nQ 21 -9.765625 23.484375 -3.21875 \r\nL 25.09375 0.875 \r\nL 2.984375 54.6875 \r\nL 12.5 54.6875 \r\nL 29.59375 11.921875 \r\nL 46.6875 54.6875 \r\nL 56.203125 54.6875 \r\nz\r\n\" id=\"DejaVuSans-121\"/>\r\n       </defs>\r\n       <use xlink:href=\"#DejaVuSans-69\"/>\r\n       <use x=\"63.183594\" xlink:href=\"#DejaVuSans-97\"/>\r\n       <use x=\"124.462891\" xlink:href=\"#DejaVuSans-115\"/>\r\n       <use x=\"176.5625\" xlink:href=\"#DejaVuSans-116\"/>\r\n       <use x=\"215.771484\" xlink:href=\"#DejaVuSans-101\"/>\r\n       <use x=\"277.294922\" xlink:href=\"#DejaVuSans-114\"/>\r\n       <use x=\"316.658203\" xlink:href=\"#DejaVuSans-110\"/>\r\n       <use x=\"380.037109\" xlink:href=\"#DejaVuSans-32\"/>\r\n       <use x=\"411.824219\" xlink:href=\"#DejaVuSans-77\"/>\r\n       <use x=\"498.103516\" xlink:href=\"#DejaVuSans-97\"/>\r\n       <use x=\"559.382812\" xlink:href=\"#DejaVuSans-114\"/>\r\n       <use x=\"600.496094\" xlink:href=\"#DejaVuSans-107\"/>\r\n       <use x=\"654.78125\" xlink:href=\"#DejaVuSans-101\"/>\r\n       <use x=\"716.304688\" xlink:href=\"#DejaVuSans-116\"/>\r\n       <use x=\"755.513672\" xlink:href=\"#DejaVuSans-32\"/>\r\n       <use x=\"787.300781\" xlink:href=\"#DejaVuSans-77\"/>\r\n       <use x=\"873.580078\" xlink:href=\"#DejaVuSans-101\"/>\r\n       <use x=\"935.103516\" xlink:href=\"#DejaVuSans-116\"/>\r\n       <use x=\"974.3125\" xlink:href=\"#DejaVuSans-114\"/>\r\n       <use x=\"1013.175781\" xlink:href=\"#DejaVuSans-111\"/>\r\n       <use x=\"1074.357422\" xlink:href=\"#DejaVuSans-32\"/>\r\n       <use x=\"1106.144531\" xlink:href=\"#DejaVuSans-47\"/>\r\n       <use x=\"1139.835938\" xlink:href=\"#DejaVuSans-32\"/>\r\n       <use x=\"1171.623047\" xlink:href=\"#DejaVuSans-80\"/>\r\n       <use x=\"1228.300781\" xlink:href=\"#DejaVuSans-101\"/>\r\n       <use x=\"1289.824219\" xlink:href=\"#DejaVuSans-110\"/>\r\n       <use x=\"1353.203125\" xlink:href=\"#DejaVuSans-110\"/>\r\n       <use x=\"1416.582031\" xlink:href=\"#DejaVuSans-115\"/>\r\n       <use x=\"1468.681641\" xlink:href=\"#DejaVuSans-121\"/>\r\n       <use x=\"1527.861328\" xlink:href=\"#DejaVuSans-108\"/>\r\n       <use x=\"1555.644531\" xlink:href=\"#DejaVuSans-118\"/>\r\n       <use x=\"1614.824219\" xlink:href=\"#DejaVuSans-97\"/>\r\n       <use x=\"1676.103516\" xlink:href=\"#DejaVuSans-110\"/>\r\n       <use x=\"1739.482422\" xlink:href=\"#DejaVuSans-105\"/>\r\n       <use x=\"1767.265625\" xlink:href=\"#DejaVuSans-97\"/>\r\n       <use x=\"1828.544922\" xlink:href=\"#DejaVuSans-32\"/>\r\n       <use x=\"1860.332031\" xlink:href=\"#DejaVuSans-65\"/>\r\n       <use x=\"1922.865234\" xlink:href=\"#DejaVuSans-118\"/>\r\n       <use x=\"1982.044922\" xlink:href=\"#DejaVuSans-101\"/>\r\n       <use x=\"2043.568359\" xlink:href=\"#DejaVuSans-32\"/>\r\n       <use x=\"2075.355469\" xlink:href=\"#DejaVuSans-38\"/>\r\n       <use x=\"2153.333984\" xlink:href=\"#DejaVuSans-32\"/>\r\n       <use x=\"2185.121094\" xlink:href=\"#DejaVuSans-56\"/>\r\n       <use x=\"2248.744141\" xlink:href=\"#DejaVuSans-116\"/>\r\n       <use x=\"2287.953125\" xlink:href=\"#DejaVuSans-104\"/>\r\n       <use x=\"2351.332031\" xlink:href=\"#DejaVuSans-32\"/>\r\n       <use x=\"2383.119141\" xlink:href=\"#DejaVuSans-83\"/>\r\n       <use x=\"2446.595703\" xlink:href=\"#DejaVuSans-116\"/>\r\n       <use x=\"2485.804688\" xlink:href=\"#DejaVuSans-32\"/>\r\n       <use x=\"2517.591797\" xlink:href=\"#DejaVuSans-83\"/>\r\n       <use x=\"2581.068359\" xlink:href=\"#DejaVuSans-69\"/>\r\n      </g>\r\n     </g>\r\n    </g>\r\n    <g id=\"ytick_9\">\r\n     <g id=\"line2d_17\">\r\n      <g>\r\n       <use style=\"stroke:#000000;stroke-width:0.8;\" x=\"278.621875\" xlink:href=\"#m85283566d7\" y=\"132.228\"/>\r\n      </g>\r\n     </g>\r\n     <g id=\"text_17\">\r\n      <!-- 14th &amp; Irving St NW -->\r\n      <g transform=\"translate(172.046875 136.027219)scale(0.1 -0.1)\">\r\n       <defs>\r\n        <path d=\"M 9.8125 72.90625 \r\nL 19.671875 72.90625 \r\nL 19.671875 0 \r\nL 9.8125 0 \r\nz\r\n\" id=\"DejaVuSans-73\"/>\r\n        <path d=\"M 45.40625 27.984375 \r\nQ 45.40625 37.75 41.375 43.109375 \r\nQ 37.359375 48.484375 30.078125 48.484375 \r\nQ 22.859375 48.484375 18.828125 43.109375 \r\nQ 14.796875 37.75 14.796875 27.984375 \r\nQ 14.796875 18.265625 18.828125 12.890625 \r\nQ 22.859375 7.515625 30.078125 7.515625 \r\nQ 37.359375 7.515625 41.375 12.890625 \r\nQ 45.40625 18.265625 45.40625 27.984375 \r\nz\r\nM 54.390625 6.78125 \r\nQ 54.390625 -7.171875 48.1875 -13.984375 \r\nQ 42 -20.796875 29.203125 -20.796875 \r\nQ 24.46875 -20.796875 20.265625 -20.09375 \r\nQ 16.0625 -19.390625 12.109375 -17.921875 \r\nL 12.109375 -9.1875 \r\nQ 16.0625 -11.328125 19.921875 -12.34375 \r\nQ 23.78125 -13.375 27.78125 -13.375 \r\nQ 36.625 -13.375 41.015625 -8.765625 \r\nQ 45.40625 -4.15625 45.40625 5.171875 \r\nL 45.40625 9.625 \r\nQ 42.625 4.78125 38.28125 2.390625 \r\nQ 33.9375 0 27.875 0 \r\nQ 17.828125 0 11.671875 7.65625 \r\nQ 5.515625 15.328125 5.515625 27.984375 \r\nQ 5.515625 40.671875 11.671875 48.328125 \r\nQ 17.828125 56 27.875 56 \r\nQ 33.9375 56 38.28125 53.609375 \r\nQ 42.625 51.21875 45.40625 46.390625 \r\nL 45.40625 54.6875 \r\nL 54.390625 54.6875 \r\nz\r\n\" id=\"DejaVuSans-103\"/>\r\n       </defs>\r\n       <use xlink:href=\"#DejaVuSans-49\"/>\r\n       <use x=\"63.623047\" xlink:href=\"#DejaVuSans-52\"/>\r\n       <use x=\"127.246094\" xlink:href=\"#DejaVuSans-116\"/>\r\n       <use x=\"166.455078\" xlink:href=\"#DejaVuSans-104\"/>\r\n       <use x=\"229.833984\" xlink:href=\"#DejaVuSans-32\"/>\r\n       <use x=\"261.621094\" xlink:href=\"#DejaVuSans-38\"/>\r\n       <use x=\"339.599609\" xlink:href=\"#DejaVuSans-32\"/>\r\n       <use x=\"371.386719\" xlink:href=\"#DejaVuSans-73\"/>\r\n       <use x=\"400.878906\" xlink:href=\"#DejaVuSans-114\"/>\r\n       <use x=\"441.992188\" xlink:href=\"#DejaVuSans-118\"/>\r\n       <use x=\"501.171875\" xlink:href=\"#DejaVuSans-105\"/>\r\n       <use x=\"528.955078\" xlink:href=\"#DejaVuSans-110\"/>\r\n       <use x=\"592.333984\" xlink:href=\"#DejaVuSans-103\"/>\r\n       <use x=\"655.810547\" xlink:href=\"#DejaVuSans-32\"/>\r\n       <use x=\"687.597656\" xlink:href=\"#DejaVuSans-83\"/>\r\n       <use x=\"751.074219\" xlink:href=\"#DejaVuSans-116\"/>\r\n       <use x=\"790.283203\" xlink:href=\"#DejaVuSans-32\"/>\r\n       <use x=\"822.070312\" xlink:href=\"#DejaVuSans-78\"/>\r\n       <use x=\"896.875\" xlink:href=\"#DejaVuSans-87\"/>\r\n      </g>\r\n     </g>\r\n    </g>\r\n    <g id=\"ytick_10\">\r\n     <g id=\"line2d_18\">\r\n      <g>\r\n       <use style=\"stroke:#000000;stroke-width:0.8;\" x=\"278.621875\" xlink:href=\"#m85283566d7\" y=\"121.356\"/>\r\n      </g>\r\n     </g>\r\n     <g id=\"text_18\">\r\n      <!-- 8th &amp; O St NW -->\r\n      <g transform=\"translate(198.98125 125.155219)scale(0.1 -0.1)\">\r\n       <defs>\r\n        <path d=\"M 39.40625 66.21875 \r\nQ 28.65625 66.21875 22.328125 58.203125 \r\nQ 16.015625 50.203125 16.015625 36.375 \r\nQ 16.015625 22.609375 22.328125 14.59375 \r\nQ 28.65625 6.59375 39.40625 6.59375 \r\nQ 50.140625 6.59375 56.421875 14.59375 \r\nQ 62.703125 22.609375 62.703125 36.375 \r\nQ 62.703125 50.203125 56.421875 58.203125 \r\nQ 50.140625 66.21875 39.40625 66.21875 \r\nz\r\nM 39.40625 74.21875 \r\nQ 54.734375 74.21875 63.90625 63.9375 \r\nQ 73.09375 53.65625 73.09375 36.375 \r\nQ 73.09375 19.140625 63.90625 8.859375 \r\nQ 54.734375 -1.421875 39.40625 -1.421875 \r\nQ 24.03125 -1.421875 14.8125 8.828125 \r\nQ 5.609375 19.09375 5.609375 36.375 \r\nQ 5.609375 53.65625 14.8125 63.9375 \r\nQ 24.03125 74.21875 39.40625 74.21875 \r\nz\r\n\" id=\"DejaVuSans-79\"/>\r\n       </defs>\r\n       <use xlink:href=\"#DejaVuSans-56\"/>\r\n       <use x=\"63.623047\" xlink:href=\"#DejaVuSans-116\"/>\r\n       <use x=\"102.832031\" xlink:href=\"#DejaVuSans-104\"/>\r\n       <use x=\"166.210938\" xlink:href=\"#DejaVuSans-32\"/>\r\n       <use x=\"197.998047\" xlink:href=\"#DejaVuSans-38\"/>\r\n       <use x=\"275.976562\" xlink:href=\"#DejaVuSans-32\"/>\r\n       <use x=\"307.763672\" xlink:href=\"#DejaVuSans-79\"/>\r\n       <use x=\"386.474609\" xlink:href=\"#DejaVuSans-32\"/>\r\n       <use x=\"418.261719\" xlink:href=\"#DejaVuSans-83\"/>\r\n       <use x=\"481.738281\" xlink:href=\"#DejaVuSans-116\"/>\r\n       <use x=\"520.947266\" xlink:href=\"#DejaVuSans-32\"/>\r\n       <use x=\"552.734375\" xlink:href=\"#DejaVuSans-78\"/>\r\n       <use x=\"627.539062\" xlink:href=\"#DejaVuSans-87\"/>\r\n      </g>\r\n     </g>\r\n    </g>\r\n    <g id=\"ytick_11\">\r\n     <g id=\"line2d_19\">\r\n      <g>\r\n       <use style=\"stroke:#000000;stroke-width:0.8;\" x=\"278.621875\" xlink:href=\"#m85283566d7\" y=\"110.484\"/>\r\n      </g>\r\n     </g>\r\n     <g id=\"text_19\">\r\n      <!-- 4th &amp; M St SW -->\r\n      <g transform=\"translate(199.357812 114.283219)scale(0.1 -0.1)\">\r\n       <use xlink:href=\"#DejaVuSans-52\"/>\r\n       <use x=\"63.623047\" xlink:href=\"#DejaVuSans-116\"/>\r\n       <use x=\"102.832031\" xlink:href=\"#DejaVuSans-104\"/>\r\n       <use x=\"166.210938\" xlink:href=\"#DejaVuSans-32\"/>\r\n       <use x=\"197.998047\" xlink:href=\"#DejaVuSans-38\"/>\r\n       <use x=\"275.976562\" xlink:href=\"#DejaVuSans-32\"/>\r\n       <use x=\"307.763672\" xlink:href=\"#DejaVuSans-77\"/>\r\n       <use x=\"394.042969\" xlink:href=\"#DejaVuSans-32\"/>\r\n       <use x=\"425.830078\" xlink:href=\"#DejaVuSans-83\"/>\r\n       <use x=\"489.306641\" xlink:href=\"#DejaVuSans-116\"/>\r\n       <use x=\"528.515625\" xlink:href=\"#DejaVuSans-32\"/>\r\n       <use x=\"560.302734\" xlink:href=\"#DejaVuSans-83\"/>\r\n       <use x=\"623.779297\" xlink:href=\"#DejaVuSans-87\"/>\r\n      </g>\r\n     </g>\r\n    </g>\r\n    <g id=\"ytick_12\">\r\n     <g id=\"line2d_20\">\r\n      <g>\r\n       <use style=\"stroke:#000000;stroke-width:0.8;\" x=\"278.621875\" xlink:href=\"#m85283566d7\" y=\"99.612\"/>\r\n      </g>\r\n     </g>\r\n     <g id=\"text_20\">\r\n      <!-- Columbus Circle / Union Station -->\r\n      <g transform=\"translate(113.16875 103.411219)scale(0.1 -0.1)\">\r\n       <defs>\r\n        <path d=\"M 48.6875 27.296875 \r\nQ 48.6875 37.203125 44.609375 42.84375 \r\nQ 40.53125 48.484375 33.40625 48.484375 \r\nQ 26.265625 48.484375 22.1875 42.84375 \r\nQ 18.109375 37.203125 18.109375 27.296875 \r\nQ 18.109375 17.390625 22.1875 11.75 \r\nQ 26.265625 6.109375 33.40625 6.109375 \r\nQ 40.53125 6.109375 44.609375 11.75 \r\nQ 48.6875 17.390625 48.6875 27.296875 \r\nz\r\nM 18.109375 46.390625 \r\nQ 20.953125 51.265625 25.265625 53.625 \r\nQ 29.59375 56 35.59375 56 \r\nQ 45.5625 56 51.78125 48.09375 \r\nQ 58.015625 40.1875 58.015625 27.296875 \r\nQ 58.015625 14.40625 51.78125 6.484375 \r\nQ 45.5625 -1.421875 35.59375 -1.421875 \r\nQ 29.59375 -1.421875 25.265625 0.953125 \r\nQ 20.953125 3.328125 18.109375 8.203125 \r\nL 18.109375 0 \r\nL 9.078125 0 \r\nL 9.078125 75.984375 \r\nL 18.109375 75.984375 \r\nz\r\n\" id=\"DejaVuSans-98\"/>\r\n        <path d=\"M 8.6875 72.90625 \r\nL 18.609375 72.90625 \r\nL 18.609375 28.609375 \r\nQ 18.609375 16.890625 22.84375 11.734375 \r\nQ 27.09375 6.59375 36.625 6.59375 \r\nQ 46.09375 6.59375 50.34375 11.734375 \r\nQ 54.59375 16.890625 54.59375 28.609375 \r\nL 54.59375 72.90625 \r\nL 64.5 72.90625 \r\nL 64.5 27.390625 \r\nQ 64.5 13.140625 57.4375 5.859375 \r\nQ 50.390625 -1.421875 36.625 -1.421875 \r\nQ 22.796875 -1.421875 15.734375 5.859375 \r\nQ 8.6875 13.140625 8.6875 27.390625 \r\nz\r\n\" id=\"DejaVuSans-85\"/>\r\n       </defs>\r\n       <use xlink:href=\"#DejaVuSans-67\"/>\r\n       <use x=\"69.824219\" xlink:href=\"#DejaVuSans-111\"/>\r\n       <use x=\"131.005859\" xlink:href=\"#DejaVuSans-108\"/>\r\n       <use x=\"158.789062\" xlink:href=\"#DejaVuSans-117\"/>\r\n       <use x=\"222.167969\" xlink:href=\"#DejaVuSans-109\"/>\r\n       <use x=\"319.580078\" xlink:href=\"#DejaVuSans-98\"/>\r\n       <use x=\"383.056641\" xlink:href=\"#DejaVuSans-117\"/>\r\n       <use x=\"446.435547\" xlink:href=\"#DejaVuSans-115\"/>\r\n       <use x=\"498.535156\" xlink:href=\"#DejaVuSans-32\"/>\r\n       <use x=\"530.322266\" xlink:href=\"#DejaVuSans-67\"/>\r\n       <use x=\"600.146484\" xlink:href=\"#DejaVuSans-105\"/>\r\n       <use x=\"627.929688\" xlink:href=\"#DejaVuSans-114\"/>\r\n       <use x=\"666.792969\" xlink:href=\"#DejaVuSans-99\"/>\r\n       <use x=\"721.773438\" xlink:href=\"#DejaVuSans-108\"/>\r\n       <use x=\"749.556641\" xlink:href=\"#DejaVuSans-101\"/>\r\n       <use x=\"811.080078\" xlink:href=\"#DejaVuSans-32\"/>\r\n       <use x=\"842.867188\" xlink:href=\"#DejaVuSans-47\"/>\r\n       <use x=\"876.558594\" xlink:href=\"#DejaVuSans-32\"/>\r\n       <use x=\"908.345703\" xlink:href=\"#DejaVuSans-85\"/>\r\n       <use x=\"981.539062\" xlink:href=\"#DejaVuSans-110\"/>\r\n       <use x=\"1044.917969\" xlink:href=\"#DejaVuSans-105\"/>\r\n       <use x=\"1072.701172\" xlink:href=\"#DejaVuSans-111\"/>\r\n       <use x=\"1133.882812\" xlink:href=\"#DejaVuSans-110\"/>\r\n       <use x=\"1197.261719\" xlink:href=\"#DejaVuSans-32\"/>\r\n       <use x=\"1229.048828\" xlink:href=\"#DejaVuSans-83\"/>\r\n       <use x=\"1292.525391\" xlink:href=\"#DejaVuSans-116\"/>\r\n       <use x=\"1331.734375\" xlink:href=\"#DejaVuSans-97\"/>\r\n       <use x=\"1393.013672\" xlink:href=\"#DejaVuSans-116\"/>\r\n       <use x=\"1432.222656\" xlink:href=\"#DejaVuSans-105\"/>\r\n       <use x=\"1460.005859\" xlink:href=\"#DejaVuSans-111\"/>\r\n       <use x=\"1521.1875\" xlink:href=\"#DejaVuSans-110\"/>\r\n      </g>\r\n     </g>\r\n    </g>\r\n    <g id=\"ytick_13\">\r\n     <g id=\"line2d_21\">\r\n      <g>\r\n       <use style=\"stroke:#000000;stroke-width:0.8;\" x=\"278.621875\" xlink:href=\"#m85283566d7\" y=\"88.74\"/>\r\n      </g>\r\n     </g>\r\n     <g id=\"text_21\">\r\n      <!-- 15th &amp; W St NW -->\r\n      <g transform=\"translate(190.603125 92.539219)scale(0.1 -0.1)\">\r\n       <use xlink:href=\"#DejaVuSans-49\"/>\r\n       <use x=\"63.623047\" xlink:href=\"#DejaVuSans-53\"/>\r\n       <use x=\"127.246094\" xlink:href=\"#DejaVuSans-116\"/>\r\n       <use x=\"166.455078\" xlink:href=\"#DejaVuSans-104\"/>\r\n       <use x=\"229.833984\" xlink:href=\"#DejaVuSans-32\"/>\r\n       <use x=\"261.621094\" xlink:href=\"#DejaVuSans-38\"/>\r\n       <use x=\"339.599609\" xlink:href=\"#DejaVuSans-32\"/>\r\n       <use x=\"371.386719\" xlink:href=\"#DejaVuSans-87\"/>\r\n       <use x=\"470.263672\" xlink:href=\"#DejaVuSans-32\"/>\r\n       <use x=\"502.050781\" xlink:href=\"#DejaVuSans-83\"/>\r\n       <use x=\"565.527344\" xlink:href=\"#DejaVuSans-116\"/>\r\n       <use x=\"604.736328\" xlink:href=\"#DejaVuSans-32\"/>\r\n       <use x=\"636.523438\" xlink:href=\"#DejaVuSans-78\"/>\r\n       <use x=\"711.328125\" xlink:href=\"#DejaVuSans-87\"/>\r\n      </g>\r\n     </g>\r\n    </g>\r\n    <g id=\"ytick_14\">\r\n     <g id=\"line2d_22\">\r\n      <g>\r\n       <use style=\"stroke:#000000;stroke-width:0.8;\" x=\"278.621875\" xlink:href=\"#m85283566d7\" y=\"77.868\"/>\r\n      </g>\r\n     </g>\r\n     <g id=\"text_22\">\r\n      <!-- Jefferson Dr &amp; 14th St SW -->\r\n      <g transform=\"translate(142.560937 81.667219)scale(0.1 -0.1)\">\r\n       <defs>\r\n        <path d=\"M 9.8125 72.90625 \r\nL 19.671875 72.90625 \r\nL 19.671875 5.078125 \r\nQ 19.671875 -8.109375 14.671875 -14.0625 \r\nQ 9.671875 -20.015625 -1.421875 -20.015625 \r\nL -5.171875 -20.015625 \r\nL -5.171875 -11.71875 \r\nL -2.09375 -11.71875 \r\nQ 4.4375 -11.71875 7.125 -8.046875 \r\nQ 9.8125 -4.390625 9.8125 5.078125 \r\nz\r\n\" id=\"DejaVuSans-74\"/>\r\n        <path d=\"M 37.109375 75.984375 \r\nL 37.109375 68.5 \r\nL 28.515625 68.5 \r\nQ 23.6875 68.5 21.796875 66.546875 \r\nQ 19.921875 64.59375 19.921875 59.515625 \r\nL 19.921875 54.6875 \r\nL 34.71875 54.6875 \r\nL 34.71875 47.703125 \r\nL 19.921875 47.703125 \r\nL 19.921875 0 \r\nL 10.890625 0 \r\nL 10.890625 47.703125 \r\nL 2.296875 47.703125 \r\nL 2.296875 54.6875 \r\nL 10.890625 54.6875 \r\nL 10.890625 58.5 \r\nQ 10.890625 67.625 15.140625 71.796875 \r\nQ 19.390625 75.984375 28.609375 75.984375 \r\nz\r\n\" id=\"DejaVuSans-102\"/>\r\n       </defs>\r\n       <use xlink:href=\"#DejaVuSans-74\"/>\r\n       <use x=\"29.492188\" xlink:href=\"#DejaVuSans-101\"/>\r\n       <use x=\"91.015625\" xlink:href=\"#DejaVuSans-102\"/>\r\n       <use x=\"126.220703\" xlink:href=\"#DejaVuSans-102\"/>\r\n       <use x=\"161.425781\" xlink:href=\"#DejaVuSans-101\"/>\r\n       <use x=\"222.949219\" xlink:href=\"#DejaVuSans-114\"/>\r\n       <use x=\"264.0625\" xlink:href=\"#DejaVuSans-115\"/>\r\n       <use x=\"316.162109\" xlink:href=\"#DejaVuSans-111\"/>\r\n       <use x=\"377.34375\" xlink:href=\"#DejaVuSans-110\"/>\r\n       <use x=\"440.722656\" xlink:href=\"#DejaVuSans-32\"/>\r\n       <use x=\"472.509766\" xlink:href=\"#DejaVuSans-68\"/>\r\n       <use x=\"549.511719\" xlink:href=\"#DejaVuSans-114\"/>\r\n       <use x=\"590.625\" xlink:href=\"#DejaVuSans-32\"/>\r\n       <use x=\"622.412109\" xlink:href=\"#DejaVuSans-38\"/>\r\n       <use x=\"700.390625\" xlink:href=\"#DejaVuSans-32\"/>\r\n       <use x=\"732.177734\" xlink:href=\"#DejaVuSans-49\"/>\r\n       <use x=\"795.800781\" xlink:href=\"#DejaVuSans-52\"/>\r\n       <use x=\"859.423828\" xlink:href=\"#DejaVuSans-116\"/>\r\n       <use x=\"898.632812\" xlink:href=\"#DejaVuSans-104\"/>\r\n       <use x=\"962.011719\" xlink:href=\"#DejaVuSans-32\"/>\r\n       <use x=\"993.798828\" xlink:href=\"#DejaVuSans-83\"/>\r\n       <use x=\"1057.275391\" xlink:href=\"#DejaVuSans-116\"/>\r\n       <use x=\"1096.484375\" xlink:href=\"#DejaVuSans-32\"/>\r\n       <use x=\"1128.271484\" xlink:href=\"#DejaVuSans-83\"/>\r\n       <use x=\"1191.748047\" xlink:href=\"#DejaVuSans-87\"/>\r\n      </g>\r\n     </g>\r\n    </g>\r\n    <g id=\"ytick_15\">\r\n     <g id=\"line2d_23\">\r\n      <g>\r\n       <use style=\"stroke:#000000;stroke-width:0.8;\" x=\"278.621875\" xlink:href=\"#m85283566d7\" y=\"66.996\"/>\r\n      </g>\r\n     </g>\r\n     <g id=\"text_23\">\r\n      <!-- 6th &amp; H St NE -->\r\n      <g transform=\"translate(202.901562 70.795219)scale(0.1 -0.1)\">\r\n       <use xlink:href=\"#DejaVuSans-54\"/>\r\n       <use x=\"63.623047\" xlink:href=\"#DejaVuSans-116\"/>\r\n       <use x=\"102.832031\" xlink:href=\"#DejaVuSans-104\"/>\r\n       <use x=\"166.210938\" xlink:href=\"#DejaVuSans-32\"/>\r\n       <use x=\"197.998047\" xlink:href=\"#DejaVuSans-38\"/>\r\n       <use x=\"275.976562\" xlink:href=\"#DejaVuSans-32\"/>\r\n       <use x=\"307.763672\" xlink:href=\"#DejaVuSans-72\"/>\r\n       <use x=\"382.958984\" xlink:href=\"#DejaVuSans-32\"/>\r\n       <use x=\"414.746094\" xlink:href=\"#DejaVuSans-83\"/>\r\n       <use x=\"478.222656\" xlink:href=\"#DejaVuSans-116\"/>\r\n       <use x=\"517.431641\" xlink:href=\"#DejaVuSans-32\"/>\r\n       <use x=\"549.21875\" xlink:href=\"#DejaVuSans-78\"/>\r\n       <use x=\"624.023438\" xlink:href=\"#DejaVuSans-69\"/>\r\n      </g>\r\n     </g>\r\n    </g>\r\n    <g id=\"ytick_16\">\r\n     <g id=\"line2d_24\">\r\n      <g>\r\n       <use style=\"stroke:#000000;stroke-width:0.8;\" x=\"278.621875\" xlink:href=\"#m85283566d7\" y=\"56.124\"/>\r\n      </g>\r\n     </g>\r\n     <g id=\"text_24\">\r\n      <!-- 11th &amp; M St NW -->\r\n      <g transform=\"translate(191.8625 59.923219)scale(0.1 -0.1)\">\r\n       <use xlink:href=\"#DejaVuSans-49\"/>\r\n       <use x=\"63.623047\" xlink:href=\"#DejaVuSans-49\"/>\r\n       <use x=\"127.246094\" xlink:href=\"#DejaVuSans-116\"/>\r\n       <use x=\"166.455078\" xlink:href=\"#DejaVuSans-104\"/>\r\n       <use x=\"229.833984\" xlink:href=\"#DejaVuSans-32\"/>\r\n       <use x=\"261.621094\" xlink:href=\"#DejaVuSans-38\"/>\r\n       <use x=\"339.599609\" xlink:href=\"#DejaVuSans-32\"/>\r\n       <use x=\"371.386719\" xlink:href=\"#DejaVuSans-77\"/>\r\n       <use x=\"457.666016\" xlink:href=\"#DejaVuSans-32\"/>\r\n       <use x=\"489.453125\" xlink:href=\"#DejaVuSans-83\"/>\r\n       <use x=\"552.929688\" xlink:href=\"#DejaVuSans-116\"/>\r\n       <use x=\"592.138672\" xlink:href=\"#DejaVuSans-32\"/>\r\n       <use x=\"623.925781\" xlink:href=\"#DejaVuSans-78\"/>\r\n       <use x=\"698.730469\" xlink:href=\"#DejaVuSans-87\"/>\r\n      </g>\r\n     </g>\r\n    </g>\r\n    <g id=\"ytick_17\">\r\n     <g id=\"line2d_25\">\r\n      <g>\r\n       <use style=\"stroke:#000000;stroke-width:0.8;\" x=\"278.621875\" xlink:href=\"#m85283566d7\" y=\"45.252\"/>\r\n      </g>\r\n     </g>\r\n     <g id=\"text_25\">\r\n      <!-- 3rd &amp; M St NE -->\r\n      <g transform=\"translate(201.767187 49.051219)scale(0.1 -0.1)\">\r\n       <defs>\r\n        <path d=\"M 40.578125 39.3125 \r\nQ 47.65625 37.796875 51.625 33 \r\nQ 55.609375 28.21875 55.609375 21.1875 \r\nQ 55.609375 10.40625 48.1875 4.484375 \r\nQ 40.765625 -1.421875 27.09375 -1.421875 \r\nQ 22.515625 -1.421875 17.65625 -0.515625 \r\nQ 12.796875 0.390625 7.625 2.203125 \r\nL 7.625 11.71875 \r\nQ 11.71875 9.328125 16.59375 8.109375 \r\nQ 21.484375 6.890625 26.8125 6.890625 \r\nQ 36.078125 6.890625 40.9375 10.546875 \r\nQ 45.796875 14.203125 45.796875 21.1875 \r\nQ 45.796875 27.640625 41.28125 31.265625 \r\nQ 36.765625 34.90625 28.71875 34.90625 \r\nL 20.21875 34.90625 \r\nL 20.21875 43.015625 \r\nL 29.109375 43.015625 \r\nQ 36.375 43.015625 40.234375 45.921875 \r\nQ 44.09375 48.828125 44.09375 54.296875 \r\nQ 44.09375 59.90625 40.109375 62.90625 \r\nQ 36.140625 65.921875 28.71875 65.921875 \r\nQ 24.65625 65.921875 20.015625 65.03125 \r\nQ 15.375 64.15625 9.8125 62.3125 \r\nL 9.8125 71.09375 \r\nQ 15.4375 72.65625 20.34375 73.4375 \r\nQ 25.25 74.21875 29.59375 74.21875 \r\nQ 40.828125 74.21875 47.359375 69.109375 \r\nQ 53.90625 64.015625 53.90625 55.328125 \r\nQ 53.90625 49.265625 50.4375 45.09375 \r\nQ 46.96875 40.921875 40.578125 39.3125 \r\nz\r\n\" id=\"DejaVuSans-51\"/>\r\n        <path d=\"M 45.40625 46.390625 \r\nL 45.40625 75.984375 \r\nL 54.390625 75.984375 \r\nL 54.390625 0 \r\nL 45.40625 0 \r\nL 45.40625 8.203125 \r\nQ 42.578125 3.328125 38.25 0.953125 \r\nQ 33.9375 -1.421875 27.875 -1.421875 \r\nQ 17.96875 -1.421875 11.734375 6.484375 \r\nQ 5.515625 14.40625 5.515625 27.296875 \r\nQ 5.515625 40.1875 11.734375 48.09375 \r\nQ 17.96875 56 27.875 56 \r\nQ 33.9375 56 38.25 53.625 \r\nQ 42.578125 51.265625 45.40625 46.390625 \r\nz\r\nM 14.796875 27.296875 \r\nQ 14.796875 17.390625 18.875 11.75 \r\nQ 22.953125 6.109375 30.078125 6.109375 \r\nQ 37.203125 6.109375 41.296875 11.75 \r\nQ 45.40625 17.390625 45.40625 27.296875 \r\nQ 45.40625 37.203125 41.296875 42.84375 \r\nQ 37.203125 48.484375 30.078125 48.484375 \r\nQ 22.953125 48.484375 18.875 42.84375 \r\nQ 14.796875 37.203125 14.796875 27.296875 \r\nz\r\n\" id=\"DejaVuSans-100\"/>\r\n       </defs>\r\n       <use xlink:href=\"#DejaVuSans-51\"/>\r\n       <use x=\"63.623047\" xlink:href=\"#DejaVuSans-114\"/>\r\n       <use x=\"102.986328\" xlink:href=\"#DejaVuSans-100\"/>\r\n       <use x=\"166.462891\" xlink:href=\"#DejaVuSans-32\"/>\r\n       <use x=\"198.25\" xlink:href=\"#DejaVuSans-38\"/>\r\n       <use x=\"276.228516\" xlink:href=\"#DejaVuSans-32\"/>\r\n       <use x=\"308.015625\" xlink:href=\"#DejaVuSans-77\"/>\r\n       <use x=\"394.294922\" xlink:href=\"#DejaVuSans-32\"/>\r\n       <use x=\"426.082031\" xlink:href=\"#DejaVuSans-83\"/>\r\n       <use x=\"489.558594\" xlink:href=\"#DejaVuSans-116\"/>\r\n       <use x=\"528.767578\" xlink:href=\"#DejaVuSans-32\"/>\r\n       <use x=\"560.554688\" xlink:href=\"#DejaVuSans-78\"/>\r\n       <use x=\"635.359375\" xlink:href=\"#DejaVuSans-69\"/>\r\n      </g>\r\n     </g>\r\n    </g>\r\n    <g id=\"ytick_18\">\r\n     <g id=\"line2d_26\">\r\n      <g>\r\n       <use style=\"stroke:#000000;stroke-width:0.8;\" x=\"278.621875\" xlink:href=\"#m85283566d7\" y=\"34.38\"/>\r\n      </g>\r\n     </g>\r\n     <g id=\"text_26\">\r\n      <!-- 5th &amp; K St NW -->\r\n      <g transform=\"translate(200.295312 38.179219)scale(0.1 -0.1)\">\r\n       <defs>\r\n        <path d=\"M 9.8125 72.90625 \r\nL 19.671875 72.90625 \r\nL 19.671875 42.09375 \r\nL 52.390625 72.90625 \r\nL 65.09375 72.90625 \r\nL 28.90625 38.921875 \r\nL 67.671875 0 \r\nL 54.6875 0 \r\nL 19.671875 35.109375 \r\nL 19.671875 0 \r\nL 9.8125 0 \r\nz\r\n\" id=\"DejaVuSans-75\"/>\r\n       </defs>\r\n       <use xlink:href=\"#DejaVuSans-53\"/>\r\n       <use x=\"63.623047\" xlink:href=\"#DejaVuSans-116\"/>\r\n       <use x=\"102.832031\" xlink:href=\"#DejaVuSans-104\"/>\r\n       <use x=\"166.210938\" xlink:href=\"#DejaVuSans-32\"/>\r\n       <use x=\"197.998047\" xlink:href=\"#DejaVuSans-38\"/>\r\n       <use x=\"275.976562\" xlink:href=\"#DejaVuSans-32\"/>\r\n       <use x=\"307.763672\" xlink:href=\"#DejaVuSans-75\"/>\r\n       <use x=\"373.339844\" xlink:href=\"#DejaVuSans-32\"/>\r\n       <use x=\"405.126953\" xlink:href=\"#DejaVuSans-83\"/>\r\n       <use x=\"468.603516\" xlink:href=\"#DejaVuSans-116\"/>\r\n       <use x=\"507.8125\" xlink:href=\"#DejaVuSans-32\"/>\r\n       <use x=\"539.599609\" xlink:href=\"#DejaVuSans-78\"/>\r\n       <use x=\"614.404297\" xlink:href=\"#DejaVuSans-87\"/>\r\n      </g>\r\n     </g>\r\n    </g>\r\n    <g id=\"ytick_19\">\r\n     <g id=\"line2d_27\">\r\n      <g>\r\n       <use style=\"stroke:#000000;stroke-width:0.8;\" x=\"278.621875\" xlink:href=\"#m85283566d7\" y=\"23.508\"/>\r\n      </g>\r\n     </g>\r\n     <g id=\"text_27\">\r\n      <!-- 4th St &amp; Madison Dr NW -->\r\n      <g transform=\"translate(150.315625 27.307219)scale(0.1 -0.1)\">\r\n       <use xlink:href=\"#DejaVuSans-52\"/>\r\n       <use x=\"63.623047\" xlink:href=\"#DejaVuSans-116\"/>\r\n       <use x=\"102.832031\" xlink:href=\"#DejaVuSans-104\"/>\r\n       <use x=\"166.210938\" xlink:href=\"#DejaVuSans-32\"/>\r\n       <use x=\"197.998047\" xlink:href=\"#DejaVuSans-83\"/>\r\n       <use x=\"261.474609\" xlink:href=\"#DejaVuSans-116\"/>\r\n       <use x=\"300.683594\" xlink:href=\"#DejaVuSans-32\"/>\r\n       <use x=\"332.470703\" xlink:href=\"#DejaVuSans-38\"/>\r\n       <use x=\"410.449219\" xlink:href=\"#DejaVuSans-32\"/>\r\n       <use x=\"442.236328\" xlink:href=\"#DejaVuSans-77\"/>\r\n       <use x=\"528.515625\" xlink:href=\"#DejaVuSans-97\"/>\r\n       <use x=\"589.794922\" xlink:href=\"#DejaVuSans-100\"/>\r\n       <use x=\"653.271484\" xlink:href=\"#DejaVuSans-105\"/>\r\n       <use x=\"681.054688\" xlink:href=\"#DejaVuSans-115\"/>\r\n       <use x=\"733.154297\" xlink:href=\"#DejaVuSans-111\"/>\r\n       <use x=\"794.335938\" xlink:href=\"#DejaVuSans-110\"/>\r\n       <use x=\"857.714844\" xlink:href=\"#DejaVuSans-32\"/>\r\n       <use x=\"889.501953\" xlink:href=\"#DejaVuSans-68\"/>\r\n       <use x=\"966.503906\" xlink:href=\"#DejaVuSans-114\"/>\r\n       <use x=\"1007.617188\" xlink:href=\"#DejaVuSans-32\"/>\r\n       <use x=\"1039.404297\" xlink:href=\"#DejaVuSans-78\"/>\r\n       <use x=\"1114.208984\" xlink:href=\"#DejaVuSans-87\"/>\r\n      </g>\r\n     </g>\r\n    </g>\r\n    <g id=\"ytick_20\">\r\n     <g id=\"line2d_28\">\r\n      <g>\r\n       <use style=\"stroke:#000000;stroke-width:0.8;\" x=\"278.621875\" xlink:href=\"#m85283566d7\" y=\"12.636\"/>\r\n      </g>\r\n     </g>\r\n     <g id=\"text_28\">\r\n      <!-- 1st &amp; K St SE -->\r\n      <g transform=\"translate(206.125 16.435219)scale(0.1 -0.1)\">\r\n       <use xlink:href=\"#DejaVuSans-49\"/>\r\n       <use x=\"63.623047\" xlink:href=\"#DejaVuSans-115\"/>\r\n       <use x=\"115.722656\" xlink:href=\"#DejaVuSans-116\"/>\r\n       <use x=\"154.931641\" xlink:href=\"#DejaVuSans-32\"/>\r\n       <use x=\"186.71875\" xlink:href=\"#DejaVuSans-38\"/>\r\n       <use x=\"264.697266\" xlink:href=\"#DejaVuSans-32\"/>\r\n       <use x=\"296.484375\" xlink:href=\"#DejaVuSans-75\"/>\r\n       <use x=\"362.060547\" xlink:href=\"#DejaVuSans-32\"/>\r\n       <use x=\"393.847656\" xlink:href=\"#DejaVuSans-83\"/>\r\n       <use x=\"457.324219\" xlink:href=\"#DejaVuSans-116\"/>\r\n       <use x=\"496.533203\" xlink:href=\"#DejaVuSans-32\"/>\r\n       <use x=\"528.320312\" xlink:href=\"#DejaVuSans-83\"/>\r\n       <use x=\"591.796875\" xlink:href=\"#DejaVuSans-69\"/>\r\n      </g>\r\n     </g>\r\n    </g>\r\n   </g>\r\n   <g id=\"patch_23\">\r\n    <path d=\"M 278.621875 224.64 \r\nL 278.621875 7.2 \r\n\" style=\"fill:none;stroke:#000000;stroke-linecap:square;stroke-linejoin:miter;stroke-width:0.8;\"/>\r\n   </g>\r\n   <g id=\"patch_24\">\r\n    <path d=\"M 613.421875 224.64 \r\nL 613.421875 7.2 \r\n\" style=\"fill:none;stroke:#000000;stroke-linecap:square;stroke-linejoin:miter;stroke-width:0.8;\"/>\r\n   </g>\r\n   <g id=\"patch_25\">\r\n    <path d=\"M 278.621875 224.64 \r\nL 613.421875 224.64 \r\n\" style=\"fill:none;stroke:#000000;stroke-linecap:square;stroke-linejoin:miter;stroke-width:0.8;\"/>\r\n   </g>\r\n   <g id=\"patch_26\">\r\n    <path d=\"M 278.621875 7.2 \r\nL 613.421875 7.2 \r\n\" style=\"fill:none;stroke:#000000;stroke-linecap:square;stroke-linejoin:miter;stroke-width:0.8;\"/>\r\n   </g>\r\n  </g>\r\n </g>\r\n <defs>\r\n  <clipPath id=\"pdaab7cfbc4\">\r\n   <rect height=\"217.44\" width=\"334.8\" x=\"278.621875\" y=\"7.2\"/>\r\n  </clipPath>\r\n </defs>\r\n</svg>\r\n",
      "image/png": "[encoded data removed]"
     },
     "metadata": {
      "needs_background": "light"
     }
    }
   ],
   "source": [
    "ride_end = df.end_station_name.value_counts()\n",
    "ride_end.sort_values(ascending = False).head(20).plot(kind='barh')"
   ]
  },
  {
   "cell_type": "code",
   "execution_count": 50,
   "metadata": {},
   "outputs": [
    {
     "output_type": "execute_result",
     "data": {
      "text/plain": [
       "                    Ride Start  Start Sum                     Ride End  \\\n",
       "0  New Hampshire Ave & T St NW       1308               15th & P St NW   \n",
       "1               15th & P St NW       1155  New Hampshire Ave & T St NW   \n",
       "2          14th & Irving St NW       1046                1st & M St NE   \n",
       "\n",
       "   End Sum  \n",
       "0     1339  \n",
       "1     1316  \n",
       "2      992  "
      ],
      "text/html": "<div>\n<style scoped>\n    .dataframe tbody tr th:only-of-type {\n        vertical-align: middle;\n    }\n\n    .dataframe tbody tr th {\n        vertical-align: top;\n    }\n\n    .dataframe thead th {\n        text-align: right;\n    }\n</style>\n<table border=\"1\" class=\"dataframe\">\n  <thead>\n    <tr style=\"text-align: right;\">\n      <th></th>\n      <th>Ride Start</th>\n      <th>Start Sum</th>\n      <th>Ride End</th>\n      <th>End Sum</th>\n    </tr>\n  </thead>\n  <tbody>\n    <tr>\n      <th>0</th>\n      <td>New Hampshire Ave &amp; T St NW</td>\n      <td>1308</td>\n      <td>15th &amp; P St NW</td>\n      <td>1339</td>\n    </tr>\n    <tr>\n      <th>1</th>\n      <td>15th &amp; P St NW</td>\n      <td>1155</td>\n      <td>New Hampshire Ave &amp; T St NW</td>\n      <td>1316</td>\n    </tr>\n    <tr>\n      <th>2</th>\n      <td>14th &amp; Irving St NW</td>\n      <td>1046</td>\n      <td>1st &amp; M St NE</td>\n      <td>992</td>\n    </tr>\n  </tbody>\n</table>\n</div>"
     },
     "metadata": {},
     "execution_count": 50
    }
   ],
   "source": [
    "ride_start = df.start_station_name.value_counts().nlargest(25,'all')\n",
    "ride_end = df.end_station_name.value_counts().nlargest(25,'all')\n",
    "ride_end = pd.DataFrame(ride_end)\n",
    "ride_end.reset_index(inplace=True)\n",
    "ride_end.rename(columns = {'index':'Ride End', 'end_station_name':'End Sum'}, inplace = True) \n",
    "top_stations = ride_start.copy()\n",
    "top_stations = pd.DataFrame(top_stations)\n",
    "top_stations.reset_index(inplace=True)\n",
    "top_stations.rename(columns = {'index':'Ride Start', 'start_station_name':'Start Sum'}, inplace = True) \n",
    "top_stations['Ride End'] = ride_end['Ride End']\n",
    "top_stations['End Sum'] = ride_end['End Sum']\n",
    "top_stations.head(3)\n",
    "#top_stations.plot(kind='barh')"
   ]
  },
  {
   "cell_type": "code",
   "execution_count": 51,
   "metadata": {},
   "outputs": [
    {
     "output_type": "execute_result",
     "data": {
      "text/plain": [
       "            ride_id rideable_type           started_at             ended_at  \\\n",
       "0  C04E20007D039277   docked_bike  2020-12-02 09:10:36  2020-12-02 09:24:12   \n",
       "1  A488C0D9F4761D06  classic_bike  2020-12-31 12:46:29  2020-12-31 14:01:07   \n",
       "2  9E7E97A927A85552  classic_bike  2020-12-31 12:47:03  2020-12-31 14:01:04   \n",
       "\n",
       "              start_station_name  start_station_id  \\\n",
       "0       18th St & Wyoming Ave NW           31114.0   \n",
       "1  Potomac & Pennsylvania Ave SE           31606.0   \n",
       "2  Potomac & Pennsylvania Ave SE           31606.0   \n",
       "\n",
       "                end_station_name  end_station_id  start_lat  start_lng  \\\n",
       "0  18th St & Pennsylvania Ave NW         31242.0  38.918809 -77.041571   \n",
       "1  17th St & Independence Ave SW         31290.0  38.880300 -76.986200   \n",
       "2  17th St & Independence Ave SW         31290.0  38.880300 -76.986200   \n",
       "\n",
       "     end_lat    end_lng member_casual  \n",
       "0  38.899680 -77.041539        casual  \n",
       "1  38.888097 -77.038325        casual  \n",
       "2  38.888097 -77.038325        casual  "
      ],
      "text/html": "<div>\n<style scoped>\n    .dataframe tbody tr th:only-of-type {\n        vertical-align: middle;\n    }\n\n    .dataframe tbody tr th {\n        vertical-align: top;\n    }\n\n    .dataframe thead th {\n        text-align: right;\n    }\n</style>\n<table border=\"1\" class=\"dataframe\">\n  <thead>\n    <tr style=\"text-align: right;\">\n      <th></th>\n      <th>ride_id</th>\n      <th>rideable_type</th>\n      <th>started_at</th>\n      <th>ended_at</th>\n      <th>start_station_name</th>\n      <th>start_station_id</th>\n      <th>end_station_name</th>\n      <th>end_station_id</th>\n      <th>start_lat</th>\n      <th>start_lng</th>\n      <th>end_lat</th>\n      <th>end_lng</th>\n      <th>member_casual</th>\n    </tr>\n  </thead>\n  <tbody>\n    <tr>\n      <th>0</th>\n      <td>C04E20007D039277</td>\n      <td>docked_bike</td>\n      <td>2020-12-02 09:10:36</td>\n      <td>2020-12-02 09:24:12</td>\n      <td>18th St &amp; Wyoming Ave NW</td>\n      <td>31114.0</td>\n      <td>18th St &amp; Pennsylvania Ave NW</td>\n      <td>31242.0</td>\n      <td>38.918809</td>\n      <td>-77.041571</td>\n      <td>38.899680</td>\n      <td>-77.041539</td>\n      <td>casual</td>\n    </tr>\n    <tr>\n      <th>1</th>\n      <td>A488C0D9F4761D06</td>\n      <td>classic_bike</td>\n      <td>2020-12-31 12:46:29</td>\n      <td>2020-12-31 14:01:07</td>\n      <td>Potomac &amp; Pennsylvania Ave SE</td>\n      <td>31606.0</td>\n      <td>17th St &amp; Independence Ave SW</td>\n      <td>31290.0</td>\n      <td>38.880300</td>\n      <td>-76.986200</td>\n      <td>38.888097</td>\n      <td>-77.038325</td>\n      <td>casual</td>\n    </tr>\n    <tr>\n      <th>2</th>\n      <td>9E7E97A927A85552</td>\n      <td>classic_bike</td>\n      <td>2020-12-31 12:47:03</td>\n      <td>2020-12-31 14:01:04</td>\n      <td>Potomac &amp; Pennsylvania Ave SE</td>\n      <td>31606.0</td>\n      <td>17th St &amp; Independence Ave SW</td>\n      <td>31290.0</td>\n      <td>38.880300</td>\n      <td>-76.986200</td>\n      <td>38.888097</td>\n      <td>-77.038325</td>\n      <td>casual</td>\n    </tr>\n  </tbody>\n</table>\n</div>"
     },
     "metadata": {},
     "execution_count": 51
    }
   ],
   "source": [
    "df.head(3)"
   ]
  },
  {
   "cell_type": "code",
   "execution_count": 52,
   "metadata": {},
   "outputs": [
    {
     "output_type": "execute_result",
     "data": {
      "text/plain": [
       "                                    start_station_name  start_station_id  \\\n",
       "0                             18th St & Wyoming Ave NW           31114.0   \n",
       "1                        Potomac & Pennsylvania Ave SE           31606.0   \n",
       "2                                Wakefield High School           31054.0   \n",
       "3    Washington-Liberty High School / N Stafford St...           31920.0   \n",
       "4                         3rd St & Pennsylvania Ave SE           31269.0   \n",
       "..                                                 ...               ...   \n",
       "606  Baltimore Ave & Van Buren St / Riverdale Park ...           32402.0   \n",
       "607                                      47th & Elm St           32021.0   \n",
       "608                      Greensboro & International Dr           32221.0   \n",
       "609                    New Dominion Pkwy & Fountain Dr           32212.0   \n",
       "610                         Tysons West Transit Center           32208.0   \n",
       "\n",
       "     start_lat  start_lng  \n",
       "0    38.918809 -77.041571  \n",
       "1    38.880300 -76.986200  \n",
       "2    38.847129 -77.112550  \n",
       "3    38.888282 -77.111066  \n",
       "4    38.887378 -77.001955  \n",
       "..         ...        ...  \n",
       "606  38.969581 -76.937349  \n",
       "607  38.982456 -77.091991  \n",
       "608  38.922864 -77.227679  \n",
       "609  38.960574 -77.356324  \n",
       "610  38.932636 -77.231825  \n",
       "\n",
       "[611 rows x 4 columns]"
      ],
      "text/html": "<div>\n<style scoped>\n    .dataframe tbody tr th:only-of-type {\n        vertical-align: middle;\n    }\n\n    .dataframe tbody tr th {\n        vertical-align: top;\n    }\n\n    .dataframe thead th {\n        text-align: right;\n    }\n</style>\n<table border=\"1\" class=\"dataframe\">\n  <thead>\n    <tr style=\"text-align: right;\">\n      <th></th>\n      <th>start_station_name</th>\n      <th>start_station_id</th>\n      <th>start_lat</th>\n      <th>start_lng</th>\n    </tr>\n  </thead>\n  <tbody>\n    <tr>\n      <th>0</th>\n      <td>18th St &amp; Wyoming Ave NW</td>\n      <td>31114.0</td>\n      <td>38.918809</td>\n      <td>-77.041571</td>\n    </tr>\n    <tr>\n      <th>1</th>\n      <td>Potomac &amp; Pennsylvania Ave SE</td>\n      <td>31606.0</td>\n      <td>38.880300</td>\n      <td>-76.986200</td>\n    </tr>\n    <tr>\n      <th>2</th>\n      <td>Wakefield High School</td>\n      <td>31054.0</td>\n      <td>38.847129</td>\n      <td>-77.112550</td>\n    </tr>\n    <tr>\n      <th>3</th>\n      <td>Washington-Liberty High School / N Stafford St...</td>\n      <td>31920.0</td>\n      <td>38.888282</td>\n      <td>-77.111066</td>\n    </tr>\n    <tr>\n      <th>4</th>\n      <td>3rd St &amp; Pennsylvania Ave SE</td>\n      <td>31269.0</td>\n      <td>38.887378</td>\n      <td>-77.001955</td>\n    </tr>\n    <tr>\n      <th>...</th>\n      <td>...</td>\n      <td>...</td>\n      <td>...</td>\n      <td>...</td>\n    </tr>\n    <tr>\n      <th>606</th>\n      <td>Baltimore Ave &amp; Van Buren St / Riverdale Park ...</td>\n      <td>32402.0</td>\n      <td>38.969581</td>\n      <td>-76.937349</td>\n    </tr>\n    <tr>\n      <th>607</th>\n      <td>47th &amp; Elm St</td>\n      <td>32021.0</td>\n      <td>38.982456</td>\n      <td>-77.091991</td>\n    </tr>\n    <tr>\n      <th>608</th>\n      <td>Greensboro &amp; International Dr</td>\n      <td>32221.0</td>\n      <td>38.922864</td>\n      <td>-77.227679</td>\n    </tr>\n    <tr>\n      <th>609</th>\n      <td>New Dominion Pkwy &amp; Fountain Dr</td>\n      <td>32212.0</td>\n      <td>38.960574</td>\n      <td>-77.356324</td>\n    </tr>\n    <tr>\n      <th>610</th>\n      <td>Tysons West Transit Center</td>\n      <td>32208.0</td>\n      <td>38.932636</td>\n      <td>-77.231825</td>\n    </tr>\n  </tbody>\n</table>\n<p>611 rows × 4 columns</p>\n</div>"
     },
     "metadata": {},
     "execution_count": 52
    }
   ],
   "source": [
    "df_unique_addresses = df.copy()\n",
    "df_unique_addresses = df_unique_addresses[['start_station_name', 'start_station_id', 'start_lat', 'start_lng']]\n",
    "df_unique_addresses = df_unique_addresses.drop_duplicates(subset=['start_station_id'], ignore_index=True)\n",
    "df_unique_addresses"
   ]
  },
  {
   "cell_type": "code",
   "execution_count": 53,
   "metadata": {},
   "outputs": [
    {
     "output_type": "execute_result",
     "data": {
      "text/plain": [
       "                 start_station  start_count  station_id\n",
       "0  New Hampshire Ave & T St NW         1308     31229.0\n",
       "1               15th & P St NW         1155     31201.0\n",
       "2          14th & Irving St NW         1046     31124.0"
      ],
      "text/html": "<div>\n<style scoped>\n    .dataframe tbody tr th:only-of-type {\n        vertical-align: middle;\n    }\n\n    .dataframe tbody tr th {\n        vertical-align: top;\n    }\n\n    .dataframe thead th {\n        text-align: right;\n    }\n</style>\n<table border=\"1\" class=\"dataframe\">\n  <thead>\n    <tr style=\"text-align: right;\">\n      <th></th>\n      <th>start_station</th>\n      <th>start_count</th>\n      <th>station_id</th>\n    </tr>\n  </thead>\n  <tbody>\n    <tr>\n      <th>0</th>\n      <td>New Hampshire Ave &amp; T St NW</td>\n      <td>1308</td>\n      <td>31229.0</td>\n    </tr>\n    <tr>\n      <th>1</th>\n      <td>15th &amp; P St NW</td>\n      <td>1155</td>\n      <td>31201.0</td>\n    </tr>\n    <tr>\n      <th>2</th>\n      <td>14th &amp; Irving St NW</td>\n      <td>1046</td>\n      <td>31124.0</td>\n    </tr>\n  </tbody>\n</table>\n</div>"
     },
     "metadata": {},
     "execution_count": 53
    }
   ],
   "source": [
    "df_main_start_stations_id = df['start_station_id'].value_counts().nlargest(25,'all')\n",
    "df_main_start_stations = df['start_station_name'].value_counts().nlargest(25,'all')\n",
    "df_main_start_stations_id = pd.DataFrame(df_main_start_stations_id)\n",
    "df_main_start_stations = pd.DataFrame(df_main_start_stations)\n",
    "df_main_start_stations_id.reset_index(inplace=True)\n",
    "df_main_start_stations.reset_index(inplace=True)\n",
    "df_main_start_stations.columns = ['start_station', 'start_count']\n",
    "df_main_start_stations_id.columns = ['start_station_id', 'start_count']\n",
    "df_main_start_stations['station_id'] = df_main_start_stations_id.start_station_id\n",
    "df_main_start_stations.head(3)"
   ]
  },
  {
   "cell_type": "code",
   "execution_count": 54,
   "metadata": {},
   "outputs": [
    {
     "output_type": "stream",
     "name": "stdout",
     "text": [
      "31229.0                  start_station  start_count  station_id\n0  New Hampshire Ave & T St NW         1308     31229.0\n31201.0     start_station  start_count  station_id\n1  15th & P St NW         1155     31201.0\n31124.0          start_station  start_count  station_id\n2  14th & Irving St NW         1046     31124.0\n31603.0    start_station  start_count  station_id\n3  1st & M St NE          895     31603.0\n31266.0     start_station  start_count  station_id\n4  11th & M St NW          879     31266.0\n31281.0    start_station  start_count  station_id\n5  8th & O St NW          856     31281.0\n31258.0       start_station  start_count  station_id\n6  Lincoln Memorial          826     31258.0\n31101.0                start_station  start_count  station_id\n7  Jefferson Dr & 14th St SW          798     31101.0\n31247.0     start_station  start_count  station_id\n8  14th & V St NW          798     31247.0\n31108.0    start_station  start_count  station_id\n9  4th & M St SW          797     31108.0\n31288.0              start_station  start_count  station_id\n10  4th St & Madison Dr NW          795     31288.0\n31241.0     start_station  start_count  station_id\n11  Thomas Circle          768     31241.0\n31125.0      start_station  start_count  station_id\n12  15th & W St NW          754     31125.0\n31613.0                                         start_station  start_count  station_id\n13  Eastern Market Metro / Pennsylvania Ave & 8th ...          753     31613.0\n31117.0            start_station  start_count  station_id\n14  15th & Euclid St  NW          747     31117.0\n31214.0             start_station  start_count  station_id\n15  17th & Corcoran St NW          730     31214.0\n31600.0     start_station  start_count  station_id\n16  5th & K St NW          723     31600.0\n31104.0                   start_station  start_count  station_id\n17  Adams Mill & Columbia Rd NW          709     31104.0\n31200.0                            start_station  start_count  station_id\n18  Massachusetts Ave & Dupont Circle NW          709     31200.0\n31623.0                       start_station  start_count  station_id\n19  Columbus Circle / Union Station          698     31623.0\n31103.0            start_station  start_count  station_id\n20  16th & Harvard St NW          668     31103.0\n31202.0      start_station  start_count  station_id\n21  14th & R St NW          667     31202.0\n31627.0     start_station  start_count  station_id\n22  3rd & M St NE          663     31627.0\n31119.0            start_station  start_count  station_id\n23  14th & Belmont St NW          663     31119.0\n31110.0                start_station  start_count  station_id\n24  20th St & Florida Ave NW          649     31110.0\n"
     ]
    }
   ],
   "source": [
    "for j in df_main_start_stations.station_id:\n",
    "    print(j, df_main_start_stations[df_main_start_stations['station_id'] == j])"
   ]
  },
  {
   "cell_type": "code",
   "execution_count": 55,
   "metadata": {},
   "outputs": [
    {
     "output_type": "stream",
     "name": "stdout",
     "text": [
      "    start_station_name  start_station_id  start_lat  start_lng\n284                NaN               NaN      38.89     -77.04\n"
     ]
    }
   ],
   "source": [
    "print(df_unique_addresses[df_unique_addresses['start_station_id'].isnull() == True])"
   ]
  },
  {
   "cell_type": "code",
   "execution_count": 56,
   "metadata": {},
   "outputs": [
    {
     "output_type": "execute_result",
     "data": {
      "text/plain": [
       "(610, 4)"
      ]
     },
     "metadata": {},
     "execution_count": 56
    }
   ],
   "source": [
    "df_unique_addresses = df_unique_addresses.dropna()\n",
    "df_unique_addresses.shape"
   ]
  },
  {
   "cell_type": "code",
   "execution_count": 57,
   "metadata": {},
   "outputs": [
    {
     "output_type": "execute_result",
     "data": {
      "text/plain": [
       "                 start_station  start_count  station_id\n",
       "0  New Hampshire Ave & T St NW         1308     31229.0\n",
       "1               15th & P St NW         1155     31201.0\n",
       "2          14th & Irving St NW         1046     31124.0"
      ],
      "text/html": "<div>\n<style scoped>\n    .dataframe tbody tr th:only-of-type {\n        vertical-align: middle;\n    }\n\n    .dataframe tbody tr th {\n        vertical-align: top;\n    }\n\n    .dataframe thead th {\n        text-align: right;\n    }\n</style>\n<table border=\"1\" class=\"dataframe\">\n  <thead>\n    <tr style=\"text-align: right;\">\n      <th></th>\n      <th>start_station</th>\n      <th>start_count</th>\n      <th>station_id</th>\n    </tr>\n  </thead>\n  <tbody>\n    <tr>\n      <th>0</th>\n      <td>New Hampshire Ave &amp; T St NW</td>\n      <td>1308</td>\n      <td>31229.0</td>\n    </tr>\n    <tr>\n      <th>1</th>\n      <td>15th &amp; P St NW</td>\n      <td>1155</td>\n      <td>31201.0</td>\n    </tr>\n    <tr>\n      <th>2</th>\n      <td>14th &amp; Irving St NW</td>\n      <td>1046</td>\n      <td>31124.0</td>\n    </tr>\n  </tbody>\n</table>\n</div>"
     },
     "metadata": {},
     "execution_count": 57
    }
   ],
   "source": [
    "df_main_start_stations.head(3)"
   ]
  },
  {
   "cell_type": "code",
   "execution_count": 58,
   "metadata": {
    "tags": []
   },
   "outputs": [],
   "source": [
    "df_lat = []\n",
    "df_long = []\n",
    "df_stat_id = []\n",
    "for j in df_main_start_stations.station_id:\n",
    "    for i in range(len(df_unique_addresses)):\n",
    "        if j == float(df_unique_addresses.start_station_id.iloc[i]):\n",
    "            df_lat.append(df_unique_addresses['start_lat'][i])\n",
    "            df_long.append(df_unique_addresses['start_lng'][i])\n",
    "            df_stat_id.append(df_unique_addresses['start_station_id'][i])\n",
    "\n",
    "            # df_main_start_stations['lat'] = df_unique_addresses['start_lat'][k]\n",
    "            # df_main_start_stations['lon'] = df_unique_addresses['start_lng'][k]"
   ]
  },
  {
   "cell_type": "code",
   "execution_count": 59,
   "metadata": {},
   "outputs": [
    {
     "output_type": "execute_result",
     "data": {
      "text/plain": [
       "Index(['id', 'lat', 'lon'], dtype='object')"
      ]
     },
     "metadata": {},
     "execution_count": 59
    }
   ],
   "source": [
    "df_lat = pd.DataFrame(df_lat)\n",
    "df_long = pd.DataFrame(df_long)\n",
    "df_stat_id = pd.DataFrame(df_stat_id)\n",
    "df_test = df_stat_id\n",
    "df_test['lat'] = df_lat\n",
    "df_test['lon'] = df_long\n",
    "df_test.columns = ['id', 'lat', 'lon']\n",
    "df_test.columns"
   ]
  },
  {
   "cell_type": "code",
   "execution_count": 60,
   "metadata": {},
   "outputs": [],
   "source": [
    "df_main_start_stations['lat'] = df_test.lat\n",
    "df_main_start_stations['lon'] = df_test.lon\n",
    "#df_main_start_stations['id'] = df_test.id"
   ]
  },
  {
   "cell_type": "code",
   "execution_count": 61,
   "metadata": {},
   "outputs": [
    {
     "output_type": "execute_result",
     "data": {
      "text/plain": [
       "                 start_station  start_count  station_id        lat        lon\n",
       "0  New Hampshire Ave & T St NW         1308     31229.0  38.915544 -77.038252\n",
       "1               15th & P St NW         1155     31201.0  38.888255 -77.049437\n",
       "2          14th & Irving St NW         1046     31124.0  38.928552 -77.032224"
      ],
      "text/html": "<div>\n<style scoped>\n    .dataframe tbody tr th:only-of-type {\n        vertical-align: middle;\n    }\n\n    .dataframe tbody tr th {\n        vertical-align: top;\n    }\n\n    .dataframe thead th {\n        text-align: right;\n    }\n</style>\n<table border=\"1\" class=\"dataframe\">\n  <thead>\n    <tr style=\"text-align: right;\">\n      <th></th>\n      <th>start_station</th>\n      <th>start_count</th>\n      <th>station_id</th>\n      <th>lat</th>\n      <th>lon</th>\n    </tr>\n  </thead>\n  <tbody>\n    <tr>\n      <th>0</th>\n      <td>New Hampshire Ave &amp; T St NW</td>\n      <td>1308</td>\n      <td>31229.0</td>\n      <td>38.915544</td>\n      <td>-77.038252</td>\n    </tr>\n    <tr>\n      <th>1</th>\n      <td>15th &amp; P St NW</td>\n      <td>1155</td>\n      <td>31201.0</td>\n      <td>38.888255</td>\n      <td>-77.049437</td>\n    </tr>\n    <tr>\n      <th>2</th>\n      <td>14th &amp; Irving St NW</td>\n      <td>1046</td>\n      <td>31124.0</td>\n      <td>38.928552</td>\n      <td>-77.032224</td>\n    </tr>\n  </tbody>\n</table>\n</div>"
     },
     "metadata": {},
     "execution_count": 61
    }
   ],
   "source": [
    "df_main_start_stations.head(3)"
   ]
  },
  {
   "cell_type": "code",
   "execution_count": 62,
   "metadata": {},
   "outputs": [
    {
     "output_type": "display_data",
     "data": {
      "application/vnd.plotly.v1+json": {
       "config": {
        "plotlyServerURL": "https://plot.ly"
       },
       "data": [
        {
         "hovertemplate": "<b>%{hovertext}</b><br><br>lat=%{lat}<br>lon=%{lon}<extra></extra>",
         "hovertext": [
          "New Hampshire Ave & T St NW",
          "15th & P St NW",
          "14th & Irving St NW",
          "1st & M St NE",
          "11th & M St NW",
          "8th & O St NW",
          "Lincoln Memorial",
          "Jefferson Dr & 14th St SW",
          "14th & V St NW",
          "4th & M St SW",
          "4th St & Madison Dr NW",
          "Thomas Circle",
          "15th & W St NW",
          "Eastern Market Metro / Pennsylvania Ave & 8th St SE",
          "15th & Euclid St  NW",
          "17th & Corcoran St NW",
          "5th & K St NW",
          "Adams Mill & Columbia Rd NW",
          "Massachusetts Ave & Dupont Circle NW",
          "Columbus Circle / Union Station",
          "16th & Harvard St NW",
          "14th & R St NW",
          "3rd & M St NE",
          "14th & Belmont St NW",
          "20th St & Florida Ave NW"
         ],
         "lat": [
          38.915544,
          38.888255,
          38.928552,
          38.90574,
          38.905578000000006,
          38.908640000000005,
          39.03920516666667,
          38.890863,
          38.901755,
          38.876649,
          38.890496,
          38.853002000000004,
          38.9190185,
          38.899632000000004,
          38.89052933333333,
          38.9059,
          38.876893,
          38.923092166666656,
          38.910086166666666,
          38.89696,
          38.89610683333333,
          38.913046,
          38.905483833333335,
          38.921074,
          38.9154
         ],
         "legendgroup": "",
         "lon": [
          -77.038252,
          -77.049437,
          -77.032224,
          -77.00544649999999,
          -77.027313,
          -77.02277,
          -76.99178616666667,
          -77.074893,
          -77.051084,
          -77.01788883333333,
          -77.017247,
          -77.059496,
          -77.034449,
          -77.031686,
          -77.08479466666667,
          -77.0325,
          -77.006072,
          -77.0425385,
          -77.04426550000001,
          -77.00493,
          -77.04976833333333,
          -77.03200799999999,
          -77.00212633333334,
          -77.031887,
          -77.0446
         ],
         "marker": {
          "color": "red"
         },
         "mode": "markers",
         "name": "",
         "showlegend": false,
         "subplot": "mapbox",
         "type": "scattermapbox"
        }
       ],
       "layout": {
        "legend": {
         "tracegroupgap": 0
        },
        "mapbox": {
         "center": {
          "lat": 38.907100039999996,
          "lon": -77.03317851333333
         },
         "domain": {
          "x": [
           0,
           1
          ],
          "y": [
           0,
           1
          ]
         },
         "style": "open-street-map",
         "zoom": 11
        },
        "margin": {
         "b": 0,
         "l": 0,
         "r": 0,
         "t": 0
        },
        "template": {
         "data": {
          "bar": [
           {
            "error_x": {
             "color": "#2a3f5f"
            },
            "error_y": {
             "color": "#2a3f5f"
            },
            "marker": {
             "line": {
              "color": "#E5ECF6",
              "width": 0.5
             }
            },
            "type": "bar"
           }
          ],
          "barpolar": [
           {
            "marker": {
             "line": {
              "color": "#E5ECF6",
              "width": 0.5
             }
            },
            "type": "barpolar"
           }
          ],
          "carpet": [
           {
            "aaxis": {
             "endlinecolor": "#2a3f5f",
             "gridcolor": "white",
             "linecolor": "white",
             "minorgridcolor": "white",
             "startlinecolor": "#2a3f5f"
            },
            "baxis": {
             "endlinecolor": "#2a3f5f",
             "gridcolor": "white",
             "linecolor": "white",
             "minorgridcolor": "white",
             "startlinecolor": "#2a3f5f"
            },
            "type": "carpet"
           }
          ],
          "choropleth": [
           {
            "colorbar": {
             "outlinewidth": 0,
             "ticks": ""
            },
            "type": "choropleth"
           }
          ],
          "contour": [
           {
            "colorbar": {
             "outlinewidth": 0,
             "ticks": ""
            },
            "colorscale": [
             [
              0,
              "#0d0887"
             ],
             [
              0.1111111111111111,
              "#46039f"
             ],
             [
              0.2222222222222222,
              "#7201a8"
             ],
             [
              0.3333333333333333,
              "#9c179e"
             ],
             [
              0.4444444444444444,
              "#bd3786"
             ],
             [
              0.5555555555555556,
              "#d8576b"
             ],
             [
              0.6666666666666666,
              "#ed7953"
             ],
             [
              0.7777777777777778,
              "#fb9f3a"
             ],
             [
              0.8888888888888888,
              "#fdca26"
             ],
             [
              1,
              "#f0f921"
             ]
            ],
            "type": "contour"
           }
          ],
          "contourcarpet": [
           {
            "colorbar": {
             "outlinewidth": 0,
             "ticks": ""
            },
            "type": "contourcarpet"
           }
          ],
          "heatmap": [
           {
            "colorbar": {
             "outlinewidth": 0,
             "ticks": ""
            },
            "colorscale": [
             [
              0,
              "#0d0887"
             ],
             [
              0.1111111111111111,
              "#46039f"
             ],
             [
              0.2222222222222222,
              "#7201a8"
             ],
             [
              0.3333333333333333,
              "#9c179e"
             ],
             [
              0.4444444444444444,
              "#bd3786"
             ],
             [
              0.5555555555555556,
              "#d8576b"
             ],
             [
              0.6666666666666666,
              "#ed7953"
             ],
             [
              0.7777777777777778,
              "#fb9f3a"
             ],
             [
              0.8888888888888888,
              "#fdca26"
             ],
             [
              1,
              "#f0f921"
             ]
            ],
            "type": "heatmap"
           }
          ],
          "heatmapgl": [
           {
            "colorbar": {
             "outlinewidth": 0,
             "ticks": ""
            },
            "colorscale": [
             [
              0,
              "#0d0887"
             ],
             [
              0.1111111111111111,
              "#46039f"
             ],
             [
              0.2222222222222222,
              "#7201a8"
             ],
             [
              0.3333333333333333,
              "#9c179e"
             ],
             [
              0.4444444444444444,
              "#bd3786"
             ],
             [
              0.5555555555555556,
              "#d8576b"
             ],
             [
              0.6666666666666666,
              "#ed7953"
             ],
             [
              0.7777777777777778,
              "#fb9f3a"
             ],
             [
              0.8888888888888888,
              "#fdca26"
             ],
             [
              1,
              "#f0f921"
             ]
            ],
            "type": "heatmapgl"
           }
          ],
          "histogram": [
           {
            "marker": {
             "colorbar": {
              "outlinewidth": 0,
              "ticks": ""
             }
            },
            "type": "histogram"
           }
          ],
          "histogram2d": [
           {
            "colorbar": {
             "outlinewidth": 0,
             "ticks": ""
            },
            "colorscale": [
             [
              0,
              "#0d0887"
             ],
             [
              0.1111111111111111,
              "#46039f"
             ],
             [
              0.2222222222222222,
              "#7201a8"
             ],
             [
              0.3333333333333333,
              "#9c179e"
             ],
             [
              0.4444444444444444,
              "#bd3786"
             ],
             [
              0.5555555555555556,
              "#d8576b"
             ],
             [
              0.6666666666666666,
              "#ed7953"
             ],
             [
              0.7777777777777778,
              "#fb9f3a"
             ],
             [
              0.8888888888888888,
              "#fdca26"
             ],
             [
              1,
              "#f0f921"
             ]
            ],
            "type": "histogram2d"
           }
          ],
          "histogram2dcontour": [
           {
            "colorbar": {
             "outlinewidth": 0,
             "ticks": ""
            },
            "colorscale": [
             [
              0,
              "#0d0887"
             ],
             [
              0.1111111111111111,
              "#46039f"
             ],
             [
              0.2222222222222222,
              "#7201a8"
             ],
             [
              0.3333333333333333,
              "#9c179e"
             ],
             [
              0.4444444444444444,
              "#bd3786"
             ],
             [
              0.5555555555555556,
              "#d8576b"
             ],
             [
              0.6666666666666666,
              "#ed7953"
             ],
             [
              0.7777777777777778,
              "#fb9f3a"
             ],
             [
              0.8888888888888888,
              "#fdca26"
             ],
             [
              1,
              "#f0f921"
             ]
            ],
            "type": "histogram2dcontour"
           }
          ],
          "mesh3d": [
           {
            "colorbar": {
             "outlinewidth": 0,
             "ticks": ""
            },
            "type": "mesh3d"
           }
          ],
          "parcoords": [
           {
            "line": {
             "colorbar": {
              "outlinewidth": 0,
              "ticks": ""
             }
            },
            "type": "parcoords"
           }
          ],
          "pie": [
           {
            "automargin": true,
            "type": "pie"
           }
          ],
          "scatter": [
           {
            "marker": {
             "colorbar": {
              "outlinewidth": 0,
              "ticks": ""
             }
            },
            "type": "scatter"
           }
          ],
          "scatter3d": [
           {
            "line": {
             "colorbar": {
              "outlinewidth": 0,
              "ticks": ""
             }
            },
            "marker": {
             "colorbar": {
              "outlinewidth": 0,
              "ticks": ""
             }
            },
            "type": "scatter3d"
           }
          ],
          "scattercarpet": [
           {
            "marker": {
             "colorbar": {
              "outlinewidth": 0,
              "ticks": ""
             }
            },
            "type": "scattercarpet"
           }
          ],
          "scattergeo": [
           {
            "marker": {
             "colorbar": {
              "outlinewidth": 0,
              "ticks": ""
             }
            },
            "type": "scattergeo"
           }
          ],
          "scattergl": [
           {
            "marker": {
             "colorbar": {
              "outlinewidth": 0,
              "ticks": ""
             }
            },
            "type": "scattergl"
           }
          ],
          "scattermapbox": [
           {
            "marker": {
             "colorbar": {
              "outlinewidth": 0,
              "ticks": ""
             }
            },
            "type": "scattermapbox"
           }
          ],
          "scatterpolar": [
           {
            "marker": {
             "colorbar": {
              "outlinewidth": 0,
              "ticks": ""
             }
            },
            "type": "scatterpolar"
           }
          ],
          "scatterpolargl": [
           {
            "marker": {
             "colorbar": {
              "outlinewidth": 0,
              "ticks": ""
             }
            },
            "type": "scatterpolargl"
           }
          ],
          "scatterternary": [
           {
            "marker": {
             "colorbar": {
              "outlinewidth": 0,
              "ticks": ""
             }
            },
            "type": "scatterternary"
           }
          ],
          "surface": [
           {
            "colorbar": {
             "outlinewidth": 0,
             "ticks": ""
            },
            "colorscale": [
             [
              0,
              "#0d0887"
             ],
             [
              0.1111111111111111,
              "#46039f"
             ],
             [
              0.2222222222222222,
              "#7201a8"
             ],
             [
              0.3333333333333333,
              "#9c179e"
             ],
             [
              0.4444444444444444,
              "#bd3786"
             ],
             [
              0.5555555555555556,
              "#d8576b"
             ],
             [
              0.6666666666666666,
              "#ed7953"
             ],
             [
              0.7777777777777778,
              "#fb9f3a"
             ],
             [
              0.8888888888888888,
              "#fdca26"
             ],
             [
              1,
              "#f0f921"
             ]
            ],
            "type": "surface"
           }
          ],
          "table": [
           {
            "cells": {
             "fill": {
              "color": "#EBF0F8"
             },
             "line": {
              "color": "white"
             }
            },
            "header": {
             "fill": {
              "color": "#C8D4E3"
             },
             "line": {
              "color": "white"
             }
            },
            "type": "table"
           }
          ]
         },
         "layout": {
          "annotationdefaults": {
           "arrowcolor": "#2a3f5f",
           "arrowhead": 0,
           "arrowwidth": 1
          },
          "autotypenumbers": "strict",
          "coloraxis": {
           "colorbar": {
            "outlinewidth": 0,
            "ticks": ""
           }
          },
          "colorscale": {
           "diverging": [
            [
             0,
             "#8e0152"
            ],
            [
             0.1,
             "#c51b7d"
            ],
            [
             0.2,
             "#de77ae"
            ],
            [
             0.3,
             "#f1b6da"
            ],
            [
             0.4,
             "#fde0ef"
            ],
            [
             0.5,
             "#f7f7f7"
            ],
            [
             0.6,
             "#e6f5d0"
            ],
            [
             0.7,
             "#b8e186"
            ],
            [
             0.8,
             "#7fbc41"
            ],
            [
             0.9,
             "#4d9221"
            ],
            [
             1,
             "#276419"
            ]
           ],
           "sequential": [
            [
             0,
             "#0d0887"
            ],
            [
             0.1111111111111111,
             "#46039f"
            ],
            [
             0.2222222222222222,
             "#7201a8"
            ],
            [
             0.3333333333333333,
             "#9c179e"
            ],
            [
             0.4444444444444444,
             "#bd3786"
            ],
            [
             0.5555555555555556,
             "#d8576b"
            ],
            [
             0.6666666666666666,
             "#ed7953"
            ],
            [
             0.7777777777777778,
             "#fb9f3a"
            ],
            [
             0.8888888888888888,
             "#fdca26"
            ],
            [
             1,
             "#f0f921"
            ]
           ],
           "sequentialminus": [
            [
             0,
             "#0d0887"
            ],
            [
             0.1111111111111111,
             "#46039f"
            ],
            [
             0.2222222222222222,
             "#7201a8"
            ],
            [
             0.3333333333333333,
             "#9c179e"
            ],
            [
             0.4444444444444444,
             "#bd3786"
            ],
            [
             0.5555555555555556,
             "#d8576b"
            ],
            [
             0.6666666666666666,
             "#ed7953"
            ],
            [
             0.7777777777777778,
             "#fb9f3a"
            ],
            [
             0.8888888888888888,
             "#fdca26"
            ],
            [
             1,
             "#f0f921"
            ]
           ]
          },
          "colorway": [
           "#636efa",
           "#EF553B",
           "#00cc96",
           "#ab63fa",
           "#FFA15A",
           "#19d3f3",
           "#FF6692",
           "#B6E880",
           "#FF97FF",
           "#FECB52"
          ],
          "font": {
           "color": "#2a3f5f"
          },
          "geo": {
           "bgcolor": "white",
           "lakecolor": "white",
           "landcolor": "#E5ECF6",
           "showlakes": true,
           "showland": true,
           "subunitcolor": "white"
          },
          "hoverlabel": {
           "align": "left"
          },
          "hovermode": "closest",
          "mapbox": {
           "style": "light"
          },
          "paper_bgcolor": "white",
          "plot_bgcolor": "#E5ECF6",
          "polar": {
           "angularaxis": {
            "gridcolor": "white",
            "linecolor": "white",
            "ticks": ""
           },
           "bgcolor": "#E5ECF6",
           "radialaxis": {
            "gridcolor": "white",
            "linecolor": "white",
            "ticks": ""
           }
          },
          "scene": {
           "xaxis": {
            "backgroundcolor": "#E5ECF6",
            "gridcolor": "white",
            "gridwidth": 2,
            "linecolor": "white",
            "showbackground": true,
            "ticks": "",
            "zerolinecolor": "white"
           },
           "yaxis": {
            "backgroundcolor": "#E5ECF6",
            "gridcolor": "white",
            "gridwidth": 2,
            "linecolor": "white",
            "showbackground": true,
            "ticks": "",
            "zerolinecolor": "white"
           },
           "zaxis": {
            "backgroundcolor": "#E5ECF6",
            "gridcolor": "white",
            "gridwidth": 2,
            "linecolor": "white",
            "showbackground": true,
            "ticks": "",
            "zerolinecolor": "white"
           }
          },
          "shapedefaults": {
           "line": {
            "color": "#2a3f5f"
           }
          },
          "ternary": {
           "aaxis": {
            "gridcolor": "white",
            "linecolor": "white",
            "ticks": ""
           },
           "baxis": {
            "gridcolor": "white",
            "linecolor": "white",
            "ticks": ""
           },
           "bgcolor": "#E5ECF6",
           "caxis": {
            "gridcolor": "white",
            "linecolor": "white",
            "ticks": ""
           }
          },
          "title": {
           "x": 0.05
          },
          "xaxis": {
           "automargin": true,
           "gridcolor": "white",
           "linecolor": "white",
           "ticks": "",
           "title": {
            "standoff": 15
           },
           "zerolinecolor": "white",
           "zerolinewidth": 2
          },
          "yaxis": {
           "automargin": true,
           "gridcolor": "white",
           "linecolor": "white",
           "ticks": "",
           "title": {
            "standoff": 15
           },
           "zerolinecolor": "white",
           "zerolinewidth": 2
          }
         }
        }
       }
      }
     },
     "metadata": {}
    }
   ],
   "source": [
    "#df_main_start_stations = df[df.start_station_name.value_counts().nlargest(25,'all')]\n",
    "fig = px.scatter_mapbox(df_main_start_stations,\n",
    "                    lat='lat',\n",
    "                    lon='lon',\n",
    "                    hover_name=\"start_station\",\n",
    "                    color_discrete_sequence=['red'],\n",
    "                    zoom=11)\n",
    "fig.update_layout(mapbox_style=\"open-street-map\")\n",
    "fig.update_layout(margin={\"r\":0,\"t\":0,\"l\":0,\"b\":0})\n",
    "fig.show()"
   ]
  },
  {
   "cell_type": "code",
   "execution_count": 63,
   "metadata": {},
   "outputs": [
    {
     "output_type": "execute_result",
     "data": {
      "text/plain": [
       "Index(['ride_id', 'rideable_type', 'started_at', 'ended_at',\n",
       "       'start_station_name', 'start_station_id', 'end_station_name',\n",
       "       'end_station_id', 'start_lat', 'start_lng', 'end_lat', 'end_lng',\n",
       "       'member_casual'],\n",
       "      dtype='object')"
      ]
     },
     "metadata": {},
     "execution_count": 63
    }
   ],
   "source": [
    "df.columns"
   ]
  },
  {
   "cell_type": "code",
   "execution_count": 64,
   "metadata": {},
   "outputs": [],
   "source": [
    "ride_start1 = df.start_station_name.value_counts().nlargest(25,'all')\n",
    "ride_end1 = df.end_station_name.value_counts().nlargest(25,'all')\n",
    "ride_end1 = pd.DataFrame(ride_end1)\n",
    "ride_end1.reset_index(inplace=True)\n",
    "ride_end1['Start or End'] = 1\n",
    "ride_end1.rename(columns = {'index':'Station', 'end_station_name':'Sum'}, inplace = True) \n",
    "\n",
    "top_stations1 = ride_start1.copy()\n",
    "top_stations1 = pd.DataFrame(top_stations1)\n",
    "top_stations1['Start or End'] = 0\n",
    "top_stations1.reset_index(inplace=True)\n",
    "top_stations1.rename(columns = {'index':'Station', 'start_station_name':'Sum'}, inplace = True)\n",
    "top_stations1 = top_stations1.append(ride_end1)\n",
    "\n",
    "# top_stations.rename(columns = {'index':'Ride Start', 'start_station_name':'Start Sum'}, inplace = True) \n",
    "# top_stations['Ride End'] = ride_end['Ride End']\n",
    "# top_stations['End Sum'] = ride_end['End Sum']\n"
   ]
  },
  {
   "cell_type": "code",
   "execution_count": 65,
   "metadata": {},
   "outputs": [
    {
     "output_type": "execute_result",
     "data": {
      "text/plain": [
       "                                              Station   Sum  Start or End\n",
       "0                         New Hampshire Ave & T St NW  1308             0\n",
       "1                                      15th & P St NW  1155             0\n",
       "2                                 14th & Irving St NW  1046             0\n",
       "3                                       1st & M St NE   895             0\n",
       "4                                      11th & M St NW   879             0\n",
       "5                                       8th & O St NW   856             0\n",
       "6                                    Lincoln Memorial   826             0\n",
       "7                           Jefferson Dr & 14th St SW   798             0\n",
       "8                                      14th & V St NW   798             0\n",
       "9                                       4th & M St SW   797             0\n",
       "10                             4th St & Madison Dr NW   795             0\n",
       "11                                      Thomas Circle   768             0\n",
       "12                                     15th & W St NW   754             0\n",
       "13  Eastern Market Metro / Pennsylvania Ave & 8th ...   753             0\n",
       "14                               15th & Euclid St  NW   747             0\n",
       "15                              17th & Corcoran St NW   730             0\n",
       "16                                      5th & K St NW   723             0\n",
       "17                        Adams Mill & Columbia Rd NW   709             0\n",
       "18               Massachusetts Ave & Dupont Circle NW   709             0\n",
       "19                    Columbus Circle / Union Station   698             0\n",
       "20                               16th & Harvard St NW   668             0\n",
       "21                                     14th & R St NW   667             0\n",
       "22                                      3rd & M St NE   663             0\n",
       "23                               14th & Belmont St NW   663             0\n",
       "24                           20th St & Florida Ave NW   649             0\n",
       "0                                      15th & P St NW  1339             1\n",
       "1                         New Hampshire Ave & T St NW  1316             1\n",
       "2                                       1st & M St NE   992             1\n",
       "3                                      14th & V St NW   939             1\n",
       "4                Massachusetts Ave & Dupont Circle NW   864             1\n",
       "5                                      14th & R St NW   846             1\n",
       "6                               17th & Corcoran St NW   820             1\n",
       "7   Eastern Market Metro / Pennsylvania Ave & 8th ...   819             1\n",
       "8                                 14th & Irving St NW   810             1\n",
       "9                                       8th & O St NW   805             1\n",
       "10                                      4th & M St SW   790             1\n",
       "11                    Columbus Circle / Union Station   780             1\n",
       "12                                     15th & W St NW   778             1\n",
       "13                          Jefferson Dr & 14th St SW   759             1\n",
       "14                                      6th & H St NE   749             1\n",
       "15                                     11th & M St NW   748             1\n",
       "16                                      3rd & M St NE   744             1\n",
       "17                                      5th & K St NW   730             1\n",
       "18                             4th St & Madison Dr NW   698             1\n",
       "19                                      1st & K St SE   690             1\n",
       "20          7th & F St NW / National Portrait Gallery   684             1\n",
       "21                     New Hampshire Ave & Ward Pl NW   684             1\n",
       "22                           20th St & Florida Ave NW   682             1\n",
       "23                                   Lincoln Memorial   672             1\n",
       "24        Henry Bacon Dr & Lincoln Memorial Circle NW   659             1"
      ],
      "text/html": "<div>\n<style scoped>\n    .dataframe tbody tr th:only-of-type {\n        vertical-align: middle;\n    }\n\n    .dataframe tbody tr th {\n        vertical-align: top;\n    }\n\n    .dataframe thead th {\n        text-align: right;\n    }\n</style>\n<table border=\"1\" class=\"dataframe\">\n  <thead>\n    <tr style=\"text-align: right;\">\n      <th></th>\n      <th>Station</th>\n      <th>Sum</th>\n      <th>Start or End</th>\n    </tr>\n  </thead>\n  <tbody>\n    <tr>\n      <th>0</th>\n      <td>New Hampshire Ave &amp; T St NW</td>\n      <td>1308</td>\n      <td>0</td>\n    </tr>\n    <tr>\n      <th>1</th>\n      <td>15th &amp; P St NW</td>\n      <td>1155</td>\n      <td>0</td>\n    </tr>\n    <tr>\n      <th>2</th>\n      <td>14th &amp; Irving St NW</td>\n      <td>1046</td>\n      <td>0</td>\n    </tr>\n    <tr>\n      <th>3</th>\n      <td>1st &amp; M St NE</td>\n      <td>895</td>\n      <td>0</td>\n    </tr>\n    <tr>\n      <th>4</th>\n      <td>11th &amp; M St NW</td>\n      <td>879</td>\n      <td>0</td>\n    </tr>\n    <tr>\n      <th>5</th>\n      <td>8th &amp; O St NW</td>\n      <td>856</td>\n      <td>0</td>\n    </tr>\n    <tr>\n      <th>6</th>\n      <td>Lincoln Memorial</td>\n      <td>826</td>\n      <td>0</td>\n    </tr>\n    <tr>\n      <th>7</th>\n      <td>Jefferson Dr &amp; 14th St SW</td>\n      <td>798</td>\n      <td>0</td>\n    </tr>\n    <tr>\n      <th>8</th>\n      <td>14th &amp; V St NW</td>\n      <td>798</td>\n      <td>0</td>\n    </tr>\n    <tr>\n      <th>9</th>\n      <td>4th &amp; M St SW</td>\n      <td>797</td>\n      <td>0</td>\n    </tr>\n    <tr>\n      <th>10</th>\n      <td>4th St &amp; Madison Dr NW</td>\n      <td>795</td>\n      <td>0</td>\n    </tr>\n    <tr>\n      <th>11</th>\n      <td>Thomas Circle</td>\n      <td>768</td>\n      <td>0</td>\n    </tr>\n    <tr>\n      <th>12</th>\n      <td>15th &amp; W St NW</td>\n      <td>754</td>\n      <td>0</td>\n    </tr>\n    <tr>\n      <th>13</th>\n      <td>Eastern Market Metro / Pennsylvania Ave &amp; 8th ...</td>\n      <td>753</td>\n      <td>0</td>\n    </tr>\n    <tr>\n      <th>14</th>\n      <td>15th &amp; Euclid St  NW</td>\n      <td>747</td>\n      <td>0</td>\n    </tr>\n    <tr>\n      <th>15</th>\n      <td>17th &amp; Corcoran St NW</td>\n      <td>730</td>\n      <td>0</td>\n    </tr>\n    <tr>\n      <th>16</th>\n      <td>5th &amp; K St NW</td>\n      <td>723</td>\n      <td>0</td>\n    </tr>\n    <tr>\n      <th>17</th>\n      <td>Adams Mill &amp; Columbia Rd NW</td>\n      <td>709</td>\n      <td>0</td>\n    </tr>\n    <tr>\n      <th>18</th>\n      <td>Massachusetts Ave &amp; Dupont Circle NW</td>\n      <td>709</td>\n      <td>0</td>\n    </tr>\n    <tr>\n      <th>19</th>\n      <td>Columbus Circle / Union Station</td>\n      <td>698</td>\n      <td>0</td>\n    </tr>\n    <tr>\n      <th>20</th>\n      <td>16th &amp; Harvard St NW</td>\n      <td>668</td>\n      <td>0</td>\n    </tr>\n    <tr>\n      <th>21</th>\n      <td>14th &amp; R St NW</td>\n      <td>667</td>\n      <td>0</td>\n    </tr>\n    <tr>\n      <th>22</th>\n      <td>3rd &amp; M St NE</td>\n      <td>663</td>\n      <td>0</td>\n    </tr>\n    <tr>\n      <th>23</th>\n      <td>14th &amp; Belmont St NW</td>\n      <td>663</td>\n      <td>0</td>\n    </tr>\n    <tr>\n      <th>24</th>\n      <td>20th St &amp; Florida Ave NW</td>\n      <td>649</td>\n      <td>0</td>\n    </tr>\n    <tr>\n      <th>0</th>\n      <td>15th &amp; P St NW</td>\n      <td>1339</td>\n      <td>1</td>\n    </tr>\n    <tr>\n      <th>1</th>\n      <td>New Hampshire Ave &amp; T St NW</td>\n      <td>1316</td>\n      <td>1</td>\n    </tr>\n    <tr>\n      <th>2</th>\n      <td>1st &amp; M St NE</td>\n      <td>992</td>\n      <td>1</td>\n    </tr>\n    <tr>\n      <th>3</th>\n      <td>14th &amp; V St NW</td>\n      <td>939</td>\n      <td>1</td>\n    </tr>\n    <tr>\n      <th>4</th>\n      <td>Massachusetts Ave &amp; Dupont Circle NW</td>\n      <td>864</td>\n      <td>1</td>\n    </tr>\n    <tr>\n      <th>5</th>\n      <td>14th &amp; R St NW</td>\n      <td>846</td>\n      <td>1</td>\n    </tr>\n    <tr>\n      <th>6</th>\n      <td>17th &amp; Corcoran St NW</td>\n      <td>820</td>\n      <td>1</td>\n    </tr>\n    <tr>\n      <th>7</th>\n      <td>Eastern Market Metro / Pennsylvania Ave &amp; 8th ...</td>\n      <td>819</td>\n      <td>1</td>\n    </tr>\n    <tr>\n      <th>8</th>\n      <td>14th &amp; Irving St NW</td>\n      <td>810</td>\n      <td>1</td>\n    </tr>\n    <tr>\n      <th>9</th>\n      <td>8th &amp; O St NW</td>\n      <td>805</td>\n      <td>1</td>\n    </tr>\n    <tr>\n      <th>10</th>\n      <td>4th &amp; M St SW</td>\n      <td>790</td>\n      <td>1</td>\n    </tr>\n    <tr>\n      <th>11</th>\n      <td>Columbus Circle / Union Station</td>\n      <td>780</td>\n      <td>1</td>\n    </tr>\n    <tr>\n      <th>12</th>\n      <td>15th &amp; W St NW</td>\n      <td>778</td>\n      <td>1</td>\n    </tr>\n    <tr>\n      <th>13</th>\n      <td>Jefferson Dr &amp; 14th St SW</td>\n      <td>759</td>\n      <td>1</td>\n    </tr>\n    <tr>\n      <th>14</th>\n      <td>6th &amp; H St NE</td>\n      <td>749</td>\n      <td>1</td>\n    </tr>\n    <tr>\n      <th>15</th>\n      <td>11th &amp; M St NW</td>\n      <td>748</td>\n      <td>1</td>\n    </tr>\n    <tr>\n      <th>16</th>\n      <td>3rd &amp; M St NE</td>\n      <td>744</td>\n      <td>1</td>\n    </tr>\n    <tr>\n      <th>17</th>\n      <td>5th &amp; K St NW</td>\n      <td>730</td>\n      <td>1</td>\n    </tr>\n    <tr>\n      <th>18</th>\n      <td>4th St &amp; Madison Dr NW</td>\n      <td>698</td>\n      <td>1</td>\n    </tr>\n    <tr>\n      <th>19</th>\n      <td>1st &amp; K St SE</td>\n      <td>690</td>\n      <td>1</td>\n    </tr>\n    <tr>\n      <th>20</th>\n      <td>7th &amp; F St NW / National Portrait Gallery</td>\n      <td>684</td>\n      <td>1</td>\n    </tr>\n    <tr>\n      <th>21</th>\n      <td>New Hampshire Ave &amp; Ward Pl NW</td>\n      <td>684</td>\n      <td>1</td>\n    </tr>\n    <tr>\n      <th>22</th>\n      <td>20th St &amp; Florida Ave NW</td>\n      <td>682</td>\n      <td>1</td>\n    </tr>\n    <tr>\n      <th>23</th>\n      <td>Lincoln Memorial</td>\n      <td>672</td>\n      <td>1</td>\n    </tr>\n    <tr>\n      <th>24</th>\n      <td>Henry Bacon Dr &amp; Lincoln Memorial Circle NW</td>\n      <td>659</td>\n      <td>1</td>\n    </tr>\n  </tbody>\n</table>\n</div>"
     },
     "metadata": {},
     "execution_count": 65
    }
   ],
   "source": [
    "top_stations1"
   ]
  },
  {
   "cell_type": "code",
   "execution_count": 66,
   "metadata": {},
   "outputs": [],
   "source": [
    "# lat and lon must be added!!!\n",
    "\n",
    "# fig = px.scatter_mapbox(top_stations1,\n",
    "#                     lat='lat',\n",
    "#                     lon='lon',\n",
    "#                     hover_name=\"street\",\n",
    "#                     zoom=9,\n",
    "#                     size='sum',\n",
    "#                     color = top_stations1['Start or End'])\n",
    "# fig.update_layout(mapbox_style=\"open-street-map\")\n",
    "# fig.update_layout(margin={\"r\":0,\"t\":0,\"l\":0,\"b\":0})\n",
    "# fig.show()"
   ]
  },
  {
   "cell_type": "code",
   "execution_count": 67,
   "metadata": {},
   "outputs": [
    {
     "output_type": "execute_result",
     "data": {
      "text/plain": [
       "0        2020-12-02 09:24:12\n",
       "1        2020-12-31 14:01:07\n",
       "2        2020-12-31 14:01:04\n",
       "3        2020-12-29 14:12:22\n",
       "4        2020-12-27 12:36:12\n",
       "                 ...        \n",
       "105824   2020-12-12 14:17:02\n",
       "105825   2020-12-03 14:06:11\n",
       "105826   2020-12-06 08:03:46\n",
       "105827   2020-12-21 14:26:59\n",
       "105828   2020-12-18 09:23:54\n",
       "Name: ended_at, Length: 105829, dtype: datetime64[ns]"
      ]
     },
     "metadata": {},
     "execution_count": 67
    }
   ],
   "source": [
    "pd.to_datetime(df.started_at, yearfirst=True)\n",
    "pd.to_datetime(df.ended_at, yearfirst=True)"
   ]
  },
  {
   "cell_type": "code",
   "execution_count": 68,
   "metadata": {},
   "outputs": [
    {
     "output_type": "execute_result",
     "data": {
      "text/plain": [
       "Index(['ride_id', 'rideable_type', 'started_at', 'ended_at',\n",
       "       'start_station_name', 'start_station_id', 'end_station_name',\n",
       "       'end_station_id', 'start_lat', 'start_lng', 'end_lat', 'end_lng',\n",
       "       'member_casual'],\n",
       "      dtype='object')"
      ]
     },
     "metadata": {},
     "execution_count": 68
    }
   ],
   "source": [
    "df.columns"
   ]
  },
  {
   "cell_type": "code",
   "execution_count": 69,
   "metadata": {},
   "outputs": [
    {
     "output_type": "execute_result",
     "data": {
      "text/plain": [
       "ride_id                   0\n",
       "rideable_type             0\n",
       "started_at                0\n",
       "ended_at                  0\n",
       "start_station_name    11054\n",
       "start_station_id      11054\n",
       "end_station_name      12259\n",
       "end_station_id        12259\n",
       "start_lat                 0\n",
       "start_lng                 0\n",
       "end_lat                 204\n",
       "end_lng                 204\n",
       "member_casual             0\n",
       "dtype: int64"
      ]
     },
     "metadata": {},
     "execution_count": 69
    }
   ],
   "source": [
    "df.isnull().sum()"
   ]
  },
  {
   "cell_type": "code",
   "execution_count": 70,
   "metadata": {},
   "outputs": [
    {
     "output_type": "execute_result",
     "data": {
      "text/plain": [
       "(105829, 13)"
      ]
     },
     "metadata": {},
     "execution_count": 70
    }
   ],
   "source": [
    "df.shape"
   ]
  },
  {
   "cell_type": "code",
   "execution_count": 71,
   "metadata": {},
   "outputs": [
    {
     "output_type": "execute_result",
     "data": {
      "text/plain": [
       "(89908, 13)"
      ]
     },
     "metadata": {},
     "execution_count": 71
    }
   ],
   "source": [
    "df = df.dropna()\n",
    "df.shape"
   ]
  },
  {
   "cell_type": "code",
   "execution_count": 72,
   "metadata": {},
   "outputs": [
    {
     "output_type": "execute_result",
     "data": {
      "text/plain": [
       "0        2020-12-02\n",
       "1        2020-12-31\n",
       "2        2020-12-31\n",
       "3        2020-12-29\n",
       "4        2020-12-27\n",
       "            ...    \n",
       "105824   2020-12-12\n",
       "105825   2020-12-03\n",
       "105826   2020-12-06\n",
       "105827   2020-12-21\n",
       "105828   2020-12-18\n",
       "Name: end_date, Length: 89908, dtype: datetime64[ns]"
      ]
     },
     "metadata": {},
     "execution_count": 72
    }
   ],
   "source": [
    "df['start_date'] = pd.to_datetime(df['started_at']).dt.date\n",
    "df['start_time'] = pd.to_datetime(df['started_at']).dt.time\n",
    "df['end_date'] = pd.to_datetime(df['ended_at']).dt.date\n",
    "df['end_time'] = pd.to_datetime(df['ended_at']).dt.time\n",
    "pd.to_datetime(df.start_date, yearfirst=True)\n",
    "pd.to_datetime(df.end_date, yearfirst=True)"
   ]
  },
  {
   "cell_type": "code",
   "execution_count": 73,
   "metadata": {},
   "outputs": [
    {
     "output_type": "execute_result",
     "data": {
      "text/plain": [
       "28    2020-12-01\n",
       "0     2020-12-02\n",
       "13    2020-12-03\n",
       "10    2020-12-04\n",
       "11    2020-12-05\n",
       "6     2020-12-06\n",
       "9     2020-12-07\n",
       "19    2020-12-08\n",
       "12    2020-12-09\n",
       "26    2020-12-10\n",
       "8     2020-12-11\n",
       "5     2020-12-12\n",
       "4     2020-12-13\n",
       "30    2020-12-14\n",
       "22    2020-12-15\n",
       "20    2020-12-16\n",
       "15    2020-12-17\n",
       "29    2020-12-18\n",
       "17    2020-12-19\n",
       "23    2020-12-20\n",
       "24    2020-12-21\n",
       "16    2020-12-22\n",
       "18    2020-12-23\n",
       "25    2020-12-24\n",
       "14    2020-12-25\n",
       "21    2020-12-26\n",
       "3     2020-12-27\n",
       "7     2020-12-28\n",
       "2     2020-12-29\n",
       "27    2020-12-30\n",
       "1     2020-12-31\n",
       "dtype: object"
      ]
     },
     "metadata": {},
     "execution_count": 73
    }
   ],
   "source": [
    "d = pd.Series(df.start_date.unique())\n",
    "d.sort_values()"
   ]
  },
  {
   "cell_type": "code",
   "execution_count": 74,
   "metadata": {},
   "outputs": [
    {
     "output_type": "execute_result",
     "data": {
      "text/plain": [
       "30    2020-11-25\n",
       "34    2020-11-26\n",
       "28    2020-12-01\n",
       "0     2020-12-02\n",
       "13    2020-12-03\n",
       "10    2020-12-04\n",
       "11    2020-12-05\n",
       "6     2020-12-06\n",
       "9     2020-12-07\n",
       "18    2020-12-08\n",
       "12    2020-12-09\n",
       "26    2020-12-10\n",
       "8     2020-12-11\n",
       "5     2020-12-12\n",
       "4     2020-12-13\n",
       "31    2020-12-14\n",
       "22    2020-12-15\n",
       "19    2020-12-16\n",
       "15    2020-12-17\n",
       "29    2020-12-18\n",
       "17    2020-12-19\n",
       "23    2020-12-20\n",
       "24    2020-12-21\n",
       "20    2020-12-22\n",
       "16    2020-12-23\n",
       "25    2020-12-24\n",
       "14    2020-12-25\n",
       "21    2020-12-26\n",
       "3     2020-12-27\n",
       "7     2020-12-28\n",
       "2     2020-12-29\n",
       "27    2020-12-30\n",
       "1     2020-12-31\n",
       "32    2021-01-01\n",
       "33    2021-01-02\n",
       "35    2021-01-03\n",
       "dtype: object"
      ]
     },
     "metadata": {},
     "execution_count": 74
    }
   ],
   "source": [
    "d = pd.Series(df.end_date.unique())\n",
    "d.sort_values()"
   ]
  },
  {
   "cell_type": "code",
   "execution_count": 75,
   "metadata": {},
   "outputs": [
    {
     "output_type": "execute_result",
     "data": {
      "text/plain": [
       "ride_id               457\n",
       "rideable_type         457\n",
       "started_at            457\n",
       "ended_at              457\n",
       "start_station_name    457\n",
       "start_station_id      457\n",
       "end_station_name      457\n",
       "end_station_id        457\n",
       "start_lat             457\n",
       "start_lng             457\n",
       "end_lat               457\n",
       "end_lng               457\n",
       "member_casual         457\n",
       "start_date            457\n",
       "start_time            457\n",
       "end_date              457\n",
       "end_time              457\n",
       "dtype: int64"
      ]
     },
     "metadata": {},
     "execution_count": 75
    }
   ],
   "source": [
    "df[df.start_date > df.end_date].count()"
   ]
  },
  {
   "cell_type": "code",
   "execution_count": 76,
   "metadata": {},
   "outputs": [
    {
     "output_type": "execute_result",
     "data": {
      "text/plain": [
       "              ride_id rideable_type           started_at             ended_at  \\\n",
       "157  E34D3961C1866FAC   docked_bike  2020-12-15 12:50:52  2020-11-25 15:28:23   \n",
       "619  45000D794C7B16FF   docked_bike  2020-12-15 12:56:37  2020-11-25 16:27:25   \n",
       "654  6603379E602558B9   docked_bike  2020-12-15 12:47:26  2020-11-25 14:27:15   \n",
       "\n",
       "                start_station_name  start_station_id  \\\n",
       "157            14th & Irving St NW           31124.0   \n",
       "619       4th & East Capitol St NE           31618.0   \n",
       "654  Wilson Blvd. & N. Vermont St.           31926.0   \n",
       "\n",
       "                    end_station_name  end_station_id  start_lat  start_lng  \\\n",
       "157                    4th & W St NE         31500.0  38.928552 -77.032224   \n",
       "619  Columbus Circle / Union Station         31623.0  38.889955 -77.000349   \n",
       "654    Wilson Blvd. & N. Vermont St.         31926.0  38.879476 -77.114563   \n",
       "\n",
       "       end_lat    end_lng member_casual  start_date start_time    end_date  \\\n",
       "157  38.919077 -77.000648        member  2020-12-15   12:50:52  2020-11-25   \n",
       "619  38.896960 -77.004930        member  2020-12-15   12:56:37  2020-11-25   \n",
       "654  38.879477 -77.114563        casual  2020-12-15   12:47:26  2020-11-25   \n",
       "\n",
       "     end_time  \n",
       "157  15:28:23  \n",
       "619  16:27:25  \n",
       "654  14:27:15  "
      ],
      "text/html": "<div>\n<style scoped>\n    .dataframe tbody tr th:only-of-type {\n        vertical-align: middle;\n    }\n\n    .dataframe tbody tr th {\n        vertical-align: top;\n    }\n\n    .dataframe thead th {\n        text-align: right;\n    }\n</style>\n<table border=\"1\" class=\"dataframe\">\n  <thead>\n    <tr style=\"text-align: right;\">\n      <th></th>\n      <th>ride_id</th>\n      <th>rideable_type</th>\n      <th>started_at</th>\n      <th>ended_at</th>\n      <th>start_station_name</th>\n      <th>start_station_id</th>\n      <th>end_station_name</th>\n      <th>end_station_id</th>\n      <th>start_lat</th>\n      <th>start_lng</th>\n      <th>end_lat</th>\n      <th>end_lng</th>\n      <th>member_casual</th>\n      <th>start_date</th>\n      <th>start_time</th>\n      <th>end_date</th>\n      <th>end_time</th>\n    </tr>\n  </thead>\n  <tbody>\n    <tr>\n      <th>157</th>\n      <td>E34D3961C1866FAC</td>\n      <td>docked_bike</td>\n      <td>2020-12-15 12:50:52</td>\n      <td>2020-11-25 15:28:23</td>\n      <td>14th &amp; Irving St NW</td>\n      <td>31124.0</td>\n      <td>4th &amp; W St NE</td>\n      <td>31500.0</td>\n      <td>38.928552</td>\n      <td>-77.032224</td>\n      <td>38.919077</td>\n      <td>-77.000648</td>\n      <td>member</td>\n      <td>2020-12-15</td>\n      <td>12:50:52</td>\n      <td>2020-11-25</td>\n      <td>15:28:23</td>\n    </tr>\n    <tr>\n      <th>619</th>\n      <td>45000D794C7B16FF</td>\n      <td>docked_bike</td>\n      <td>2020-12-15 12:56:37</td>\n      <td>2020-11-25 16:27:25</td>\n      <td>4th &amp; East Capitol St NE</td>\n      <td>31618.0</td>\n      <td>Columbus Circle / Union Station</td>\n      <td>31623.0</td>\n      <td>38.889955</td>\n      <td>-77.000349</td>\n      <td>38.896960</td>\n      <td>-77.004930</td>\n      <td>member</td>\n      <td>2020-12-15</td>\n      <td>12:56:37</td>\n      <td>2020-11-25</td>\n      <td>16:27:25</td>\n    </tr>\n    <tr>\n      <th>654</th>\n      <td>6603379E602558B9</td>\n      <td>docked_bike</td>\n      <td>2020-12-15 12:47:26</td>\n      <td>2020-11-25 14:27:15</td>\n      <td>Wilson Blvd. &amp; N. Vermont St.</td>\n      <td>31926.0</td>\n      <td>Wilson Blvd. &amp; N. Vermont St.</td>\n      <td>31926.0</td>\n      <td>38.879476</td>\n      <td>-77.114563</td>\n      <td>38.879477</td>\n      <td>-77.114563</td>\n      <td>casual</td>\n      <td>2020-12-15</td>\n      <td>12:47:26</td>\n      <td>2020-11-25</td>\n      <td>14:27:15</td>\n    </tr>\n  </tbody>\n</table>\n</div>"
     },
     "metadata": {},
     "execution_count": 76
    }
   ],
   "source": [
    "df[df.start_date > df.end_date].head(3)"
   ]
  },
  {
   "cell_type": "code",
   "execution_count": 77,
   "metadata": {},
   "outputs": [],
   "source": [
    "df = df[df.start_date <= df.end_date]"
   ]
  },
  {
   "cell_type": "code",
   "execution_count": 78,
   "metadata": {},
   "outputs": [
    {
     "output_type": "execute_result",
     "data": {
      "text/plain": [
       "       start_station_id  end_station_id     start_lat     start_lng  \\\n",
       "count      89451.000000    89451.000000  89451.000000  89451.000000   \n",
       "mean       31361.104169    31362.615488     38.904975    -77.031828   \n",
       "std          253.366143      252.296913      0.026624      0.031253   \n",
       "min        31000.000000    31000.000000     38.782633    -77.363094   \n",
       "25%        31202.000000    31205.000000     38.892220    -77.044400   \n",
       "50%        31275.000000    31273.000000     38.903819    -77.032096   \n",
       "75%        31605.000000    31605.000000     38.916442    -77.015289   \n",
       "max        32901.000000    32901.000000     39.123513    -76.825535   \n",
       "\n",
       "            end_lat       end_lng  \n",
       "count  89451.000000  89451.000000  \n",
       "mean      38.903835    -77.031545  \n",
       "std        0.026284      0.030948  \n",
       "min       38.782633    -77.363094  \n",
       "25%       38.892244    -77.044467  \n",
       "50%       38.903533    -77.032008  \n",
       "75%       38.914204    -77.015289  \n",
       "max       39.123513    -76.825535  "
      ],
      "text/html": "<div>\n<style scoped>\n    .dataframe tbody tr th:only-of-type {\n        vertical-align: middle;\n    }\n\n    .dataframe tbody tr th {\n        vertical-align: top;\n    }\n\n    .dataframe thead th {\n        text-align: right;\n    }\n</style>\n<table border=\"1\" class=\"dataframe\">\n  <thead>\n    <tr style=\"text-align: right;\">\n      <th></th>\n      <th>start_station_id</th>\n      <th>end_station_id</th>\n      <th>start_lat</th>\n      <th>start_lng</th>\n      <th>end_lat</th>\n      <th>end_lng</th>\n    </tr>\n  </thead>\n  <tbody>\n    <tr>\n      <th>count</th>\n      <td>89451.000000</td>\n      <td>89451.000000</td>\n      <td>89451.000000</td>\n      <td>89451.000000</td>\n      <td>89451.000000</td>\n      <td>89451.000000</td>\n    </tr>\n    <tr>\n      <th>mean</th>\n      <td>31361.104169</td>\n      <td>31362.615488</td>\n      <td>38.904975</td>\n      <td>-77.031828</td>\n      <td>38.903835</td>\n      <td>-77.031545</td>\n    </tr>\n    <tr>\n      <th>std</th>\n      <td>253.366143</td>\n      <td>252.296913</td>\n      <td>0.026624</td>\n      <td>0.031253</td>\n      <td>0.026284</td>\n      <td>0.030948</td>\n    </tr>\n    <tr>\n      <th>min</th>\n      <td>31000.000000</td>\n      <td>31000.000000</td>\n      <td>38.782633</td>\n      <td>-77.363094</td>\n      <td>38.782633</td>\n      <td>-77.363094</td>\n    </tr>\n    <tr>\n      <th>25%</th>\n      <td>31202.000000</td>\n      <td>31205.000000</td>\n      <td>38.892220</td>\n      <td>-77.044400</td>\n      <td>38.892244</td>\n      <td>-77.044467</td>\n    </tr>\n    <tr>\n      <th>50%</th>\n      <td>31275.000000</td>\n      <td>31273.000000</td>\n      <td>38.903819</td>\n      <td>-77.032096</td>\n      <td>38.903533</td>\n      <td>-77.032008</td>\n    </tr>\n    <tr>\n      <th>75%</th>\n      <td>31605.000000</td>\n      <td>31605.000000</td>\n      <td>38.916442</td>\n      <td>-77.015289</td>\n      <td>38.914204</td>\n      <td>-77.015289</td>\n    </tr>\n    <tr>\n      <th>max</th>\n      <td>32901.000000</td>\n      <td>32901.000000</td>\n      <td>39.123513</td>\n      <td>-76.825535</td>\n      <td>39.123513</td>\n      <td>-76.825535</td>\n    </tr>\n  </tbody>\n</table>\n</div>"
     },
     "metadata": {},
     "execution_count": 78
    }
   ],
   "source": [
    "df.describe()"
   ]
  },
  {
   "cell_type": "code",
   "execution_count": 79,
   "metadata": {},
   "outputs": [],
   "source": [
    "df.started_at = pd.to_datetime(df.started_at)\n",
    "df.ended_at = pd.to_datetime(df.ended_at)"
   ]
  },
  {
   "cell_type": "code",
   "execution_count": 80,
   "metadata": {},
   "outputs": [
    {
     "output_type": "execute_result",
     "data": {
      "text/plain": [
       "0        2020-12-02 09:24:12\n",
       "1        2020-12-31 14:01:07\n",
       "2        2020-12-31 14:01:04\n",
       "3        2020-12-29 14:12:22\n",
       "4        2020-12-27 12:36:12\n",
       "                 ...        \n",
       "105824   2020-12-12 14:17:02\n",
       "105825   2020-12-03 14:06:11\n",
       "105826   2020-12-06 08:03:46\n",
       "105827   2020-12-21 14:26:59\n",
       "105828   2020-12-18 09:23:54\n",
       "Name: ended_at, Length: 89451, dtype: datetime64[ns]"
      ]
     },
     "metadata": {},
     "execution_count": 80
    }
   ],
   "source": [
    "df.ended_at"
   ]
  },
  {
   "cell_type": "code",
   "execution_count": 81,
   "metadata": {},
   "outputs": [
    {
     "output_type": "error",
     "ename": "AttributeError",
     "evalue": "'Series' object has no attribute 'day_name'",
     "traceback": [
      "\u001b[1;31m---------------------------------------------------------------------------\u001b[0m",
      "\u001b[1;31mAttributeError\u001b[0m                            Traceback (most recent call last)",
      "\u001b[1;32m<ipython-input-81-ce5c842191df>\u001b[0m in \u001b[0;36m<module>\u001b[1;34m\u001b[0m\n\u001b[1;32m----> 1\u001b[1;33m \u001b[0mdf\u001b[0m\u001b[1;33m[\u001b[0m\u001b[1;34m'weekday'\u001b[0m\u001b[1;33m]\u001b[0m \u001b[1;33m=\u001b[0m \u001b[0mdf\u001b[0m\u001b[1;33m.\u001b[0m\u001b[0mstarted_at\u001b[0m\u001b[1;33m.\u001b[0m\u001b[0mday_name\u001b[0m\u001b[1;33m(\u001b[0m\u001b[1;33m)\u001b[0m\u001b[1;33m\u001b[0m\u001b[1;33m\u001b[0m\u001b[0m\n\u001b[0m\u001b[0;32m      2\u001b[0m \u001b[1;31m# for i in range(len(df)):\u001b[0m\u001b[1;33m\u001b[0m\u001b[1;33m\u001b[0m\u001b[1;33m\u001b[0m\u001b[0m\n\u001b[0;32m      3\u001b[0m \u001b[1;31m#     df['weekday'].iloc[i] = df['started_at'].iloc[i].day_name()\u001b[0m\u001b[1;33m\u001b[0m\u001b[1;33m\u001b[0m\u001b[1;33m\u001b[0m\u001b[0m\n\u001b[0;32m      4\u001b[0m \u001b[0mdf\u001b[0m\u001b[1;33m.\u001b[0m\u001b[0mhead\u001b[0m\u001b[1;33m(\u001b[0m\u001b[1;33m)\u001b[0m\u001b[1;33m\u001b[0m\u001b[1;33m\u001b[0m\u001b[0m\n",
      "\u001b[1;32mC:\\ProgramData\\Anaconda3\\lib\\site-packages\\pandas\\core\\generic.py\u001b[0m in \u001b[0;36m__getattr__\u001b[1;34m(self, name)\u001b[0m\n\u001b[0;32m   5137\u001b[0m             \u001b[1;32mif\u001b[0m \u001b[0mself\u001b[0m\u001b[1;33m.\u001b[0m\u001b[0m_info_axis\u001b[0m\u001b[1;33m.\u001b[0m\u001b[0m_can_hold_identifiers_and_holds_name\u001b[0m\u001b[1;33m(\u001b[0m\u001b[0mname\u001b[0m\u001b[1;33m)\u001b[0m\u001b[1;33m:\u001b[0m\u001b[1;33m\u001b[0m\u001b[1;33m\u001b[0m\u001b[0m\n\u001b[0;32m   5138\u001b[0m                 \u001b[1;32mreturn\u001b[0m \u001b[0mself\u001b[0m\u001b[1;33m[\u001b[0m\u001b[0mname\u001b[0m\u001b[1;33m]\u001b[0m\u001b[1;33m\u001b[0m\u001b[1;33m\u001b[0m\u001b[0m\n\u001b[1;32m-> 5139\u001b[1;33m             \u001b[1;32mreturn\u001b[0m \u001b[0mobject\u001b[0m\u001b[1;33m.\u001b[0m\u001b[0m__getattribute__\u001b[0m\u001b[1;33m(\u001b[0m\u001b[0mself\u001b[0m\u001b[1;33m,\u001b[0m \u001b[0mname\u001b[0m\u001b[1;33m)\u001b[0m\u001b[1;33m\u001b[0m\u001b[1;33m\u001b[0m\u001b[0m\n\u001b[0m\u001b[0;32m   5140\u001b[0m \u001b[1;33m\u001b[0m\u001b[0m\n\u001b[0;32m   5141\u001b[0m     \u001b[1;32mdef\u001b[0m \u001b[0m__setattr__\u001b[0m\u001b[1;33m(\u001b[0m\u001b[0mself\u001b[0m\u001b[1;33m,\u001b[0m \u001b[0mname\u001b[0m\u001b[1;33m:\u001b[0m \u001b[0mstr\u001b[0m\u001b[1;33m,\u001b[0m \u001b[0mvalue\u001b[0m\u001b[1;33m)\u001b[0m \u001b[1;33m->\u001b[0m \u001b[1;32mNone\u001b[0m\u001b[1;33m:\u001b[0m\u001b[1;33m\u001b[0m\u001b[1;33m\u001b[0m\u001b[0m\n",
      "\u001b[1;31mAttributeError\u001b[0m: 'Series' object has no attribute 'day_name'"
     ]
    }
   ],
   "source": [
    "df['weekday'] = df.started_at.day_name()\n",
    "# for i in range(len(df)):\n",
    "#     df['weekday'].iloc[i] = df['started_at'].iloc[i].day_name()\n",
    "df.head()"
   ]
  },
  {
   "cell_type": "code",
   "execution_count": 82,
   "metadata": {},
   "outputs": [],
   "source": [
    "df = df.sort_values(by=['started_at', 'ended_at'])"
   ]
  },
  {
   "cell_type": "code",
   "execution_count": 83,
   "metadata": {},
   "outputs": [
    {
     "output_type": "execute_result",
     "data": {
      "text/plain": [
       "                 ride_id rideable_type          started_at  \\\n",
       "79151   4269E58FC83E91AA   docked_bike 2020-12-01 00:02:29   \n",
       "103232  1894D51DDCE6F69D   docked_bike 2020-12-01 00:05:07   \n",
       "16062   D9996DB185E58CA8   docked_bike 2020-12-01 00:07:14   \n",
       "93895   4E3F5F011D87D8BF   docked_bike 2020-12-01 00:14:16   \n",
       "79702   014FE6DBF0FEE5CF   docked_bike 2020-12-01 00:23:28   \n",
       "\n",
       "                  ended_at                start_station_name  \\\n",
       "79151  2020-12-01 00:16:37     Connecticut & Nebraska Ave NW   \n",
       "103232 2020-12-01 00:20:11  17th & K St NW / Farragut Square   \n",
       "16062  2020-12-01 00:24:17           Wisconsin Ave & O St NW   \n",
       "93895  2020-12-01 00:32:36         15th & East Capitol St NE   \n",
       "79702  2020-12-01 00:47:34                    19th & K St NW   \n",
       "\n",
       "        start_station_id               end_station_name  end_station_id  \\\n",
       "79151            31310.0    Columbia Rd & Belmont St NW         31113.0   \n",
       "103232           31233.0                  8th & H St NW         31228.0   \n",
       "16062            31312.0  15th St & Constitution Ave NW         31321.0   \n",
       "93895            31630.0      15th & East Capitol St NE         31630.0   \n",
       "79702            31253.0                 19th & K St NW         31253.0   \n",
       "\n",
       "        start_lat  start_lng    end_lat    end_lng member_casual  start_date  \\\n",
       "79151   38.955016 -77.069956  38.920669 -77.043680        member  2020-12-01   \n",
       "103232  38.902061 -77.038322  38.899700 -77.023086        member  2020-12-01   \n",
       "16062   38.908490 -77.063586  38.892244 -77.033234        member  2020-12-01   \n",
       "93895   38.889908 -76.983326  38.889908 -76.983326        member  2020-12-01   \n",
       "79702   38.902204 -77.043370  38.902204 -77.043370        casual  2020-12-01   \n",
       "\n",
       "       start_time    end_date  end_time  \n",
       "79151    00:02:29  2020-12-01  00:16:37  \n",
       "103232   00:05:07  2020-12-01  00:20:11  \n",
       "16062    00:07:14  2020-12-01  00:24:17  \n",
       "93895    00:14:16  2020-12-01  00:32:36  \n",
       "79702    00:23:28  2020-12-01  00:47:34  "
      ],
      "text/html": "<div>\n<style scoped>\n    .dataframe tbody tr th:only-of-type {\n        vertical-align: middle;\n    }\n\n    .dataframe tbody tr th {\n        vertical-align: top;\n    }\n\n    .dataframe thead th {\n        text-align: right;\n    }\n</style>\n<table border=\"1\" class=\"dataframe\">\n  <thead>\n    <tr style=\"text-align: right;\">\n      <th></th>\n      <th>ride_id</th>\n      <th>rideable_type</th>\n      <th>started_at</th>\n      <th>ended_at</th>\n      <th>start_station_name</th>\n      <th>start_station_id</th>\n      <th>end_station_name</th>\n      <th>end_station_id</th>\n      <th>start_lat</th>\n      <th>start_lng</th>\n      <th>end_lat</th>\n      <th>end_lng</th>\n      <th>member_casual</th>\n      <th>start_date</th>\n      <th>start_time</th>\n      <th>end_date</th>\n      <th>end_time</th>\n    </tr>\n  </thead>\n  <tbody>\n    <tr>\n      <th>79151</th>\n      <td>4269E58FC83E91AA</td>\n      <td>docked_bike</td>\n      <td>2020-12-01 00:02:29</td>\n      <td>2020-12-01 00:16:37</td>\n      <td>Connecticut &amp; Nebraska Ave NW</td>\n      <td>31310.0</td>\n      <td>Columbia Rd &amp; Belmont St NW</td>\n      <td>31113.0</td>\n      <td>38.955016</td>\n      <td>-77.069956</td>\n      <td>38.920669</td>\n      <td>-77.043680</td>\n      <td>member</td>\n      <td>2020-12-01</td>\n      <td>00:02:29</td>\n      <td>2020-12-01</td>\n      <td>00:16:37</td>\n    </tr>\n    <tr>\n      <th>103232</th>\n      <td>1894D51DDCE6F69D</td>\n      <td>docked_bike</td>\n      <td>2020-12-01 00:05:07</td>\n      <td>2020-12-01 00:20:11</td>\n      <td>17th &amp; K St NW / Farragut Square</td>\n      <td>31233.0</td>\n      <td>8th &amp; H St NW</td>\n      <td>31228.0</td>\n      <td>38.902061</td>\n      <td>-77.038322</td>\n      <td>38.899700</td>\n      <td>-77.023086</td>\n      <td>member</td>\n      <td>2020-12-01</td>\n      <td>00:05:07</td>\n      <td>2020-12-01</td>\n      <td>00:20:11</td>\n    </tr>\n    <tr>\n      <th>16062</th>\n      <td>D9996DB185E58CA8</td>\n      <td>docked_bike</td>\n      <td>2020-12-01 00:07:14</td>\n      <td>2020-12-01 00:24:17</td>\n      <td>Wisconsin Ave &amp; O St NW</td>\n      <td>31312.0</td>\n      <td>15th St &amp; Constitution Ave NW</td>\n      <td>31321.0</td>\n      <td>38.908490</td>\n      <td>-77.063586</td>\n      <td>38.892244</td>\n      <td>-77.033234</td>\n      <td>member</td>\n      <td>2020-12-01</td>\n      <td>00:07:14</td>\n      <td>2020-12-01</td>\n      <td>00:24:17</td>\n    </tr>\n    <tr>\n      <th>93895</th>\n      <td>4E3F5F011D87D8BF</td>\n      <td>docked_bike</td>\n      <td>2020-12-01 00:14:16</td>\n      <td>2020-12-01 00:32:36</td>\n      <td>15th &amp; East Capitol St NE</td>\n      <td>31630.0</td>\n      <td>15th &amp; East Capitol St NE</td>\n      <td>31630.0</td>\n      <td>38.889908</td>\n      <td>-76.983326</td>\n      <td>38.889908</td>\n      <td>-76.983326</td>\n      <td>member</td>\n      <td>2020-12-01</td>\n      <td>00:14:16</td>\n      <td>2020-12-01</td>\n      <td>00:32:36</td>\n    </tr>\n    <tr>\n      <th>79702</th>\n      <td>014FE6DBF0FEE5CF</td>\n      <td>docked_bike</td>\n      <td>2020-12-01 00:23:28</td>\n      <td>2020-12-01 00:47:34</td>\n      <td>19th &amp; K St NW</td>\n      <td>31253.0</td>\n      <td>19th &amp; K St NW</td>\n      <td>31253.0</td>\n      <td>38.902204</td>\n      <td>-77.043370</td>\n      <td>38.902204</td>\n      <td>-77.043370</td>\n      <td>casual</td>\n      <td>2020-12-01</td>\n      <td>00:23:28</td>\n      <td>2020-12-01</td>\n      <td>00:47:34</td>\n    </tr>\n  </tbody>\n</table>\n</div>"
     },
     "metadata": {},
     "execution_count": 83
    }
   ],
   "source": [
    "df.head()"
   ]
  },
  {
   "cell_type": "code",
   "execution_count": 84,
   "metadata": {},
   "outputs": [
    {
     "output_type": "execute_result",
     "data": {
      "text/plain": [
       "                                      start_station_name  \\\n",
       "5189                       15th St & Constitution Ave NW   \n",
       "19799                          Jefferson Dr & 14th St SW   \n",
       "19326                   Hains Point/Buckeye & Ohio Dr SW   \n",
       "12577                             4th St & Madison Dr NW   \n",
       "6273                       17th St & Independence Ave SW   \n",
       "20767                                   Lincoln Memorial   \n",
       "19250                                     Gravelly Point   \n",
       "25255  Smithsonian-National Mall / Jefferson Dr & 12t...   \n",
       "23753   Ohio Dr & West Basin Dr SW / MLK & FDR Memorials   \n",
       "18288                          Fenton St & Ellsworth Dr    \n",
       "22837                        New Hampshire Ave & T St NW   \n",
       "10536                                 34th & Water St NW   \n",
       "12162                                      4th & M St SW   \n",
       "7937                                       1st & M St NE   \n",
       "7367                       19th St & Constitution Ave NW   \n",
       "20761                                   Lincoln Memorial   \n",
       "131                                10th & Florida Ave NW   \n",
       "5001                                      15th & P St NW   \n",
       "22725                        New Hampshire Ave & T St NW   \n",
       "12611                             4th St & Madison Dr NW   \n",
       "\n",
       "                                        end_station_name  start_date  \n",
       "5189                       15th St & Constitution Ave NW         141  \n",
       "19799                          Jefferson Dr & 14th St SW         134  \n",
       "19326                   Hains Point/Buckeye & Ohio Dr SW         115  \n",
       "12577                             4th St & Madison Dr NW         106  \n",
       "6273                       17th St & Independence Ave SW         100  \n",
       "20767                                   Lincoln Memorial          91  \n",
       "19250                                     Gravelly Point          88  \n",
       "25255  Smithsonian-National Mall / Jefferson Dr & 12t...          87  \n",
       "23753   Ohio Dr & West Basin Dr SW / MLK & FDR Memorials          83  \n",
       "18288                          Fenton St & Ellsworth Dr           77  \n",
       "22837                        New Hampshire Ave & T St NW          68  \n",
       "10536                                 34th & Water St NW          67  \n",
       "12162                                      4th & M St SW          65  \n",
       "7937                                       1st & M St NE          64  \n",
       "7367                       19th St & Constitution Ave NW          63  \n",
       "20761                          Jefferson Dr & 14th St SW          63  \n",
       "131                                       15th & P St NW          62  \n",
       "5001                         New Hampshire Ave & T St NW          61  \n",
       "22725                                     15th & P St NW          61  \n",
       "12611                          Jefferson Dr & 14th St SW          61  "
      ],
      "text/html": "<div>\n<style scoped>\n    .dataframe tbody tr th:only-of-type {\n        vertical-align: middle;\n    }\n\n    .dataframe tbody tr th {\n        vertical-align: top;\n    }\n\n    .dataframe thead th {\n        text-align: right;\n    }\n</style>\n<table border=\"1\" class=\"dataframe\">\n  <thead>\n    <tr style=\"text-align: right;\">\n      <th></th>\n      <th>start_station_name</th>\n      <th>end_station_name</th>\n      <th>start_date</th>\n    </tr>\n  </thead>\n  <tbody>\n    <tr>\n      <th>5189</th>\n      <td>15th St &amp; Constitution Ave NW</td>\n      <td>15th St &amp; Constitution Ave NW</td>\n      <td>141</td>\n    </tr>\n    <tr>\n      <th>19799</th>\n      <td>Jefferson Dr &amp; 14th St SW</td>\n      <td>Jefferson Dr &amp; 14th St SW</td>\n      <td>134</td>\n    </tr>\n    <tr>\n      <th>19326</th>\n      <td>Hains Point/Buckeye &amp; Ohio Dr SW</td>\n      <td>Hains Point/Buckeye &amp; Ohio Dr SW</td>\n      <td>115</td>\n    </tr>\n    <tr>\n      <th>12577</th>\n      <td>4th St &amp; Madison Dr NW</td>\n      <td>4th St &amp; Madison Dr NW</td>\n      <td>106</td>\n    </tr>\n    <tr>\n      <th>6273</th>\n      <td>17th St &amp; Independence Ave SW</td>\n      <td>17th St &amp; Independence Ave SW</td>\n      <td>100</td>\n    </tr>\n    <tr>\n      <th>20767</th>\n      <td>Lincoln Memorial</td>\n      <td>Lincoln Memorial</td>\n      <td>91</td>\n    </tr>\n    <tr>\n      <th>19250</th>\n      <td>Gravelly Point</td>\n      <td>Gravelly Point</td>\n      <td>88</td>\n    </tr>\n    <tr>\n      <th>25255</th>\n      <td>Smithsonian-National Mall / Jefferson Dr &amp; 12t...</td>\n      <td>Smithsonian-National Mall / Jefferson Dr &amp; 12t...</td>\n      <td>87</td>\n    </tr>\n    <tr>\n      <th>23753</th>\n      <td>Ohio Dr &amp; West Basin Dr SW / MLK &amp; FDR Memorials</td>\n      <td>Ohio Dr &amp; West Basin Dr SW / MLK &amp; FDR Memorials</td>\n      <td>83</td>\n    </tr>\n    <tr>\n      <th>18288</th>\n      <td>Fenton St &amp; Ellsworth Dr</td>\n      <td>Fenton St &amp; Ellsworth Dr</td>\n      <td>77</td>\n    </tr>\n    <tr>\n      <th>22837</th>\n      <td>New Hampshire Ave &amp; T St NW</td>\n      <td>New Hampshire Ave &amp; T St NW</td>\n      <td>68</td>\n    </tr>\n    <tr>\n      <th>10536</th>\n      <td>34th &amp; Water St NW</td>\n      <td>34th &amp; Water St NW</td>\n      <td>67</td>\n    </tr>\n    <tr>\n      <th>12162</th>\n      <td>4th &amp; M St SW</td>\n      <td>4th &amp; M St SW</td>\n      <td>65</td>\n    </tr>\n    <tr>\n      <th>7937</th>\n      <td>1st &amp; M St NE</td>\n      <td>1st &amp; M St NE</td>\n      <td>64</td>\n    </tr>\n    <tr>\n      <th>7367</th>\n      <td>19th St &amp; Constitution Ave NW</td>\n      <td>19th St &amp; Constitution Ave NW</td>\n      <td>63</td>\n    </tr>\n    <tr>\n      <th>20761</th>\n      <td>Lincoln Memorial</td>\n      <td>Jefferson Dr &amp; 14th St SW</td>\n      <td>63</td>\n    </tr>\n    <tr>\n      <th>131</th>\n      <td>10th &amp; Florida Ave NW</td>\n      <td>15th &amp; P St NW</td>\n      <td>62</td>\n    </tr>\n    <tr>\n      <th>5001</th>\n      <td>15th &amp; P St NW</td>\n      <td>New Hampshire Ave &amp; T St NW</td>\n      <td>61</td>\n    </tr>\n    <tr>\n      <th>22725</th>\n      <td>New Hampshire Ave &amp; T St NW</td>\n      <td>15th &amp; P St NW</td>\n      <td>61</td>\n    </tr>\n    <tr>\n      <th>12611</th>\n      <td>4th St &amp; Madison Dr NW</td>\n      <td>Jefferson Dr &amp; 14th St SW</td>\n      <td>61</td>\n    </tr>\n  </tbody>\n</table>\n</div>"
     },
     "metadata": {},
     "execution_count": 84
    }
   ],
   "source": [
    "start_stat = pd.DataFrame(df.groupby(['start_station_name', 'end_station_name'])['start_date'].count())\n",
    "start_stat.reset_index(inplace=True)\n",
    "start_stat.sort_values(by='start_date', ascending = False).head(20)"
   ]
  },
  {
   "cell_type": "code",
   "execution_count": 85,
   "metadata": {},
   "outputs": [
    {
     "output_type": "execute_result",
     "data": {
      "text/plain": [
       "ride_id               6983\n",
       "rideable_type         6983\n",
       "started_at            6983\n",
       "ended_at              6983\n",
       "start_station_name    6983\n",
       "start_station_id      6983\n",
       "end_station_name      6983\n",
       "end_station_id        6983\n",
       "start_lat             6983\n",
       "start_lng             6983\n",
       "end_lat               6983\n",
       "end_lng               6983\n",
       "member_casual         6983\n",
       "start_date            6983\n",
       "start_time            6983\n",
       "end_date              6983\n",
       "end_time              6983\n",
       "dtype: int64"
      ]
     },
     "metadata": {},
     "execution_count": 85
    }
   ],
   "source": [
    "df[df.start_station_name == df.end_station_name].count()"
   ]
  },
  {
   "cell_type": "code",
   "execution_count": 82,
   "metadata": {},
   "outputs": [
    {
     "output_type": "execute_result",
     "data": {
      "text/plain": [
       "<AxesSubplot:>"
      ]
     },
     "metadata": {},
     "execution_count": 82
    }
   ],
   "source": [
    "df['trip_duration'] = df.ended_at - df.started_at\n",
    "#df.trip_duration = pd.to_timedelta(df.trip_duration)\n",
    "#df.trip_duration.astype('timedelta64[s]').plot(kind = 'bar')\n",
    "df.trip_duration.astype('timedelta64[m]').plot(kind = 'bar')"
   ]
  },
  {
   "cell_type": "code",
   "execution_count": 98,
   "metadata": {},
   "outputs": [
    {
     "output_type": "execute_result",
     "data": {
      "text/plain": [
       "                                start_station_name  \\\n",
       "773                      15th & East Capitol St NE   \n",
       "1555                                19th & K St NW   \n",
       "1556                                19th & K St NW   \n",
       "1863                     1st & Rhode Island Ave NW   \n",
       "6344                          Rockville Metro East   \n",
       "3139                                 8th & D St NW   \n",
       "5361                     Maryland Ave & 17th St NE   \n",
       "5190     Lincoln Park / 13th & East Capitol St NE    \n",
       "5191     Lincoln Park / 13th & East Capitol St NE    \n",
       "655                                 14th & R St NW   \n",
       "6770  Virginia Square Metro / Monroe St & 9th St N   \n",
       "3825             Convention Center / 7th & M St NW   \n",
       "6627                                  Takoma Metro   \n",
       "3637                      Columbia & Ontario Rd NW   \n",
       "5844            New Jersey Ave & N St NW/Dunbar HS   \n",
       "168                            11th & Girard St NW   \n",
       "3744                     Commonwealth Ave & Oak St   \n",
       "538                            14th & Irving St NW   \n",
       "5479                       Monroe Ave & Leslie Ave   \n",
       "1393                17th St & Massachusetts Ave NW   \n",
       "\n",
       "                                  end_station_name          started_at  \\\n",
       "773                      15th & East Capitol St NE 2020-12-01 00:14:16   \n",
       "1555                                19th & K St NW 2020-12-01 00:23:28   \n",
       "1556                                19th & K St NW 2020-12-01 00:32:08   \n",
       "1863                     1st & Rhode Island Ave NW 2020-12-01 02:01:47   \n",
       "6344                          Rockville Metro East 2020-12-01 03:53:56   \n",
       "3139                                 8th & D St NW 2020-12-01 05:50:08   \n",
       "5361                     Maryland Ave & 17th St NE 2020-12-01 06:23:27   \n",
       "5190     Lincoln Park / 13th & East Capitol St NE  2020-12-01 06:26:06   \n",
       "5191     Lincoln Park / 13th & East Capitol St NE  2020-12-01 06:26:49   \n",
       "655                                 14th & R St NW 2020-12-01 06:27:04   \n",
       "6770  Virginia Square Metro / Monroe St & 9th St N 2020-12-01 06:32:20   \n",
       "3825             Convention Center / 7th & M St NW 2020-12-01 06:57:59   \n",
       "6627                                  Takoma Metro 2020-12-01 07:07:14   \n",
       "3637                      Columbia & Ontario Rd NW 2020-12-01 07:38:26   \n",
       "5844            New Jersey Ave & N St NW/Dunbar HS 2020-12-01 07:46:02   \n",
       "168                            11th & Girard St NW 2020-12-01 07:51:07   \n",
       "3744                     Commonwealth Ave & Oak St 2020-12-01 08:35:31   \n",
       "538                            14th & Irving St NW 2020-12-01 08:42:10   \n",
       "5479                       Monroe Ave & Leslie Ave 2020-12-01 09:09:14   \n",
       "1393                17th St & Massachusetts Ave NW 2020-12-01 09:16:50   \n",
       "\n",
       "                 ended_at  start_date  \n",
       "773   2020-12-01 00:32:36           1  \n",
       "1555  2020-12-01 00:47:34           1  \n",
       "1556  2020-12-01 00:47:40           1  \n",
       "1863  2020-12-01 02:02:39           1  \n",
       "6344  2020-12-01 04:10:31           1  \n",
       "3139  2020-12-01 05:53:58           1  \n",
       "5361  2020-12-01 06:24:16           1  \n",
       "5190  2020-12-01 06:26:22           1  \n",
       "5191  2020-12-01 06:37:53           1  \n",
       "655   2020-12-01 06:55:09           1  \n",
       "6770  2020-12-01 07:23:47           1  \n",
       "3825  2020-12-01 07:08:30           1  \n",
       "6627  2020-12-01 15:22:41           1  \n",
       "3637  2020-12-01 07:52:48           1  \n",
       "5844  2020-12-01 08:09:14           1  \n",
       "168   2020-12-01 07:51:40           1  \n",
       "3744  2020-12-01 09:19:43           1  \n",
       "538   2020-12-01 08:42:51           1  \n",
       "5479  2020-12-01 09:34:59           1  \n",
       "1393  2020-12-01 09:17:29           1  "
      ],
      "text/html": "<div>\n<style scoped>\n    .dataframe tbody tr th:only-of-type {\n        vertical-align: middle;\n    }\n\n    .dataframe tbody tr th {\n        vertical-align: top;\n    }\n\n    .dataframe thead th {\n        text-align: right;\n    }\n</style>\n<table border=\"1\" class=\"dataframe\">\n  <thead>\n    <tr style=\"text-align: right;\">\n      <th></th>\n      <th>start_station_name</th>\n      <th>end_station_name</th>\n      <th>started_at</th>\n      <th>ended_at</th>\n      <th>start_date</th>\n    </tr>\n  </thead>\n  <tbody>\n    <tr>\n      <th>773</th>\n      <td>15th &amp; East Capitol St NE</td>\n      <td>15th &amp; East Capitol St NE</td>\n      <td>2020-12-01 00:14:16</td>\n      <td>2020-12-01 00:32:36</td>\n      <td>1</td>\n    </tr>\n    <tr>\n      <th>1555</th>\n      <td>19th &amp; K St NW</td>\n      <td>19th &amp; K St NW</td>\n      <td>2020-12-01 00:23:28</td>\n      <td>2020-12-01 00:47:34</td>\n      <td>1</td>\n    </tr>\n    <tr>\n      <th>1556</th>\n      <td>19th &amp; K St NW</td>\n      <td>19th &amp; K St NW</td>\n      <td>2020-12-01 00:32:08</td>\n      <td>2020-12-01 00:47:40</td>\n      <td>1</td>\n    </tr>\n    <tr>\n      <th>1863</th>\n      <td>1st &amp; Rhode Island Ave NW</td>\n      <td>1st &amp; Rhode Island Ave NW</td>\n      <td>2020-12-01 02:01:47</td>\n      <td>2020-12-01 02:02:39</td>\n      <td>1</td>\n    </tr>\n    <tr>\n      <th>6344</th>\n      <td>Rockville Metro East</td>\n      <td>Rockville Metro East</td>\n      <td>2020-12-01 03:53:56</td>\n      <td>2020-12-01 04:10:31</td>\n      <td>1</td>\n    </tr>\n    <tr>\n      <th>3139</th>\n      <td>8th &amp; D St NW</td>\n      <td>8th &amp; D St NW</td>\n      <td>2020-12-01 05:50:08</td>\n      <td>2020-12-01 05:53:58</td>\n      <td>1</td>\n    </tr>\n    <tr>\n      <th>5361</th>\n      <td>Maryland Ave &amp; 17th St NE</td>\n      <td>Maryland Ave &amp; 17th St NE</td>\n      <td>2020-12-01 06:23:27</td>\n      <td>2020-12-01 06:24:16</td>\n      <td>1</td>\n    </tr>\n    <tr>\n      <th>5190</th>\n      <td>Lincoln Park / 13th &amp; East Capitol St NE</td>\n      <td>Lincoln Park / 13th &amp; East Capitol St NE</td>\n      <td>2020-12-01 06:26:06</td>\n      <td>2020-12-01 06:26:22</td>\n      <td>1</td>\n    </tr>\n    <tr>\n      <th>5191</th>\n      <td>Lincoln Park / 13th &amp; East Capitol St NE</td>\n      <td>Lincoln Park / 13th &amp; East Capitol St NE</td>\n      <td>2020-12-01 06:26:49</td>\n      <td>2020-12-01 06:37:53</td>\n      <td>1</td>\n    </tr>\n    <tr>\n      <th>655</th>\n      <td>14th &amp; R St NW</td>\n      <td>14th &amp; R St NW</td>\n      <td>2020-12-01 06:27:04</td>\n      <td>2020-12-01 06:55:09</td>\n      <td>1</td>\n    </tr>\n    <tr>\n      <th>6770</th>\n      <td>Virginia Square Metro / Monroe St &amp; 9th St N</td>\n      <td>Virginia Square Metro / Monroe St &amp; 9th St N</td>\n      <td>2020-12-01 06:32:20</td>\n      <td>2020-12-01 07:23:47</td>\n      <td>1</td>\n    </tr>\n    <tr>\n      <th>3825</th>\n      <td>Convention Center / 7th &amp; M St NW</td>\n      <td>Convention Center / 7th &amp; M St NW</td>\n      <td>2020-12-01 06:57:59</td>\n      <td>2020-12-01 07:08:30</td>\n      <td>1</td>\n    </tr>\n    <tr>\n      <th>6627</th>\n      <td>Takoma Metro</td>\n      <td>Takoma Metro</td>\n      <td>2020-12-01 07:07:14</td>\n      <td>2020-12-01 15:22:41</td>\n      <td>1</td>\n    </tr>\n    <tr>\n      <th>3637</th>\n      <td>Columbia &amp; Ontario Rd NW</td>\n      <td>Columbia &amp; Ontario Rd NW</td>\n      <td>2020-12-01 07:38:26</td>\n      <td>2020-12-01 07:52:48</td>\n      <td>1</td>\n    </tr>\n    <tr>\n      <th>5844</th>\n      <td>New Jersey Ave &amp; N St NW/Dunbar HS</td>\n      <td>New Jersey Ave &amp; N St NW/Dunbar HS</td>\n      <td>2020-12-01 07:46:02</td>\n      <td>2020-12-01 08:09:14</td>\n      <td>1</td>\n    </tr>\n    <tr>\n      <th>168</th>\n      <td>11th &amp; Girard St NW</td>\n      <td>11th &amp; Girard St NW</td>\n      <td>2020-12-01 07:51:07</td>\n      <td>2020-12-01 07:51:40</td>\n      <td>1</td>\n    </tr>\n    <tr>\n      <th>3744</th>\n      <td>Commonwealth Ave &amp; Oak St</td>\n      <td>Commonwealth Ave &amp; Oak St</td>\n      <td>2020-12-01 08:35:31</td>\n      <td>2020-12-01 09:19:43</td>\n      <td>1</td>\n    </tr>\n    <tr>\n      <th>538</th>\n      <td>14th &amp; Irving St NW</td>\n      <td>14th &amp; Irving St NW</td>\n      <td>2020-12-01 08:42:10</td>\n      <td>2020-12-01 08:42:51</td>\n      <td>1</td>\n    </tr>\n    <tr>\n      <th>5479</th>\n      <td>Monroe Ave &amp; Leslie Ave</td>\n      <td>Monroe Ave &amp; Leslie Ave</td>\n      <td>2020-12-01 09:09:14</td>\n      <td>2020-12-01 09:34:59</td>\n      <td>1</td>\n    </tr>\n    <tr>\n      <th>1393</th>\n      <td>17th St &amp; Massachusetts Ave NW</td>\n      <td>17th St &amp; Massachusetts Ave NW</td>\n      <td>2020-12-01 09:16:50</td>\n      <td>2020-12-01 09:17:29</td>\n      <td>1</td>\n    </tr>\n  </tbody>\n</table>\n</div>"
     },
     "metadata": {},
     "execution_count": 98
    }
   ],
   "source": [
    "start_stat2 = df[df.start_station_name == df.end_station_name]\n",
    "start_stat2 = pd.DataFrame(start_stat2.groupby(['start_station_name', 'end_station_name', 'started_at', 'ended_at'])['start_date'].count())\n",
    "start_stat2.reset_index(inplace=True)\n",
    "#start_stat2.sort_values(by='start_date', ascending = False).head(20)\n",
    "start_stat2.sort_values(by='started_at').head(20)"
   ]
  }
 ]
}