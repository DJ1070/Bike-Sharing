{
 "metadata": {
  "language_info": {
   "codemirror_mode": {
    "name": "ipython",
    "version": 3
   },
   "file_extension": ".py",
   "mimetype": "text/x-python",
   "name": "python",
   "nbconvert_exporter": "python",
   "pygments_lexer": "ipython3",
   "version": "3.8.5-final"
  },
  "orig_nbformat": 2,
  "kernelspec": {
   "name": "python385jvsc74a57bd0b3ba2566441a7c06988d0923437866b63cedc61552a5af99d1f4fb67d367b25f",
   "display_name": "Python 3.8.5 64-bit (conda)"
  }
 },
 "nbformat": 4,
 "nbformat_minor": 2,
 "cells": [
  {
   "cell_type": "code",
   "execution_count": 35,
   "metadata": {},
   "outputs": [],
   "source": [
    "# This file creates automatically 1 big CSV file from previously 24 files with monthly data from January 2019 until December 2020. \n",
    "# Furthermore it is making a few necessary changes for later data processing. \n",
    "\n",
    "\n",
    "import pandas as pd\n",
    "import numpy as np"
   ]
  },
  {
   "cell_type": "code",
   "execution_count": 36,
   "metadata": {},
   "outputs": [],
   "source": [
    "# These 2 files contain the main data structures with changes in April 2020. \n",
    "# The data before and after the change of structure needs to be adjusted.\n",
    "\n",
    "df1 = pd.read_csv('201901-capitalbikeshare-tripdata.csv')\n",
    "df16 = pd.read_csv('202004-capitalbikeshare-tripdata.csv')"
   ]
  },
  {
   "cell_type": "code",
   "execution_count": 37,
   "metadata": {},
   "outputs": [],
   "source": [
    "df1 = pd.DataFrame(df1)\n",
    "df16 = pd.DataFrame(df16)"
   ]
  },
  {
   "cell_type": "code",
   "execution_count": 38,
   "metadata": {},
   "outputs": [
    {
     "output_type": "execute_result",
     "data": {
      "text/plain": [
       "   Duration           Start date             End date  Start station number  \\\n",
       "0       230  2019-01-01 00:04:48  2019-01-01 00:08:39                 31203   \n",
       "1      1549  2019-01-01 00:06:37  2019-01-01 00:32:27                 31321   \n",
       "2       177  2019-01-01 00:08:46  2019-01-01 00:11:44                 31104   \n",
       "\n",
       "                   Start station  End station number  \\\n",
       "0     14th & Rhode Island Ave NW               31200   \n",
       "1  15th St & Constitution Ave NW               31114   \n",
       "2    Adams Mill & Columbia Rd NW               31323   \n",
       "\n",
       "                                         End station Bike number Member type  \n",
       "0               Massachusetts Ave & Dupont Circle NW      E00141      Member  \n",
       "1                           18th St & Wyoming Ave NW      W24067      Casual  \n",
       "2  Woodley Park Metro / Calvert St & Connecticut ...      W22654      Casual  "
      ],
      "text/html": "<div>\n<style scoped>\n    .dataframe tbody tr th:only-of-type {\n        vertical-align: middle;\n    }\n\n    .dataframe tbody tr th {\n        vertical-align: top;\n    }\n\n    .dataframe thead th {\n        text-align: right;\n    }\n</style>\n<table border=\"1\" class=\"dataframe\">\n  <thead>\n    <tr style=\"text-align: right;\">\n      <th></th>\n      <th>Duration</th>\n      <th>Start date</th>\n      <th>End date</th>\n      <th>Start station number</th>\n      <th>Start station</th>\n      <th>End station number</th>\n      <th>End station</th>\n      <th>Bike number</th>\n      <th>Member type</th>\n    </tr>\n  </thead>\n  <tbody>\n    <tr>\n      <th>0</th>\n      <td>230</td>\n      <td>2019-01-01 00:04:48</td>\n      <td>2019-01-01 00:08:39</td>\n      <td>31203</td>\n      <td>14th &amp; Rhode Island Ave NW</td>\n      <td>31200</td>\n      <td>Massachusetts Ave &amp; Dupont Circle NW</td>\n      <td>E00141</td>\n      <td>Member</td>\n    </tr>\n    <tr>\n      <th>1</th>\n      <td>1549</td>\n      <td>2019-01-01 00:06:37</td>\n      <td>2019-01-01 00:32:27</td>\n      <td>31321</td>\n      <td>15th St &amp; Constitution Ave NW</td>\n      <td>31114</td>\n      <td>18th St &amp; Wyoming Ave NW</td>\n      <td>W24067</td>\n      <td>Casual</td>\n    </tr>\n    <tr>\n      <th>2</th>\n      <td>177</td>\n      <td>2019-01-01 00:08:46</td>\n      <td>2019-01-01 00:11:44</td>\n      <td>31104</td>\n      <td>Adams Mill &amp; Columbia Rd NW</td>\n      <td>31323</td>\n      <td>Woodley Park Metro / Calvert St &amp; Connecticut ...</td>\n      <td>W22654</td>\n      <td>Casual</td>\n    </tr>\n  </tbody>\n</table>\n</div>"
     },
     "metadata": {},
     "execution_count": 38
    }
   ],
   "source": [
    "df1.head(3)"
   ]
  },
  {
   "cell_type": "code",
   "execution_count": 39,
   "metadata": {},
   "outputs": [
    {
     "output_type": "execute_result",
     "data": {
      "text/plain": [
       "            ride_id rideable_type           started_at             ended_at  \\\n",
       "0  574D7036265F871A   docked_bike  2020-04-06 16:14:44  2020-04-06 16:21:11   \n",
       "1  599129C4D2E63705   docked_bike  2020-04-07 13:23:05  2020-04-07 13:28:05   \n",
       "2  51968E3A179DF45D   docked_bike  2020-04-07 14:26:56  2020-04-07 14:33:25   \n",
       "\n",
       "              start_station_name  start_station_id  \\\n",
       "0  25th St & Pennsylvania Ave NW             31237   \n",
       "1  25th St & Pennsylvania Ave NW             31237   \n",
       "2  25th St & Pennsylvania Ave NW             31237   \n",
       "\n",
       "                end_station_name  end_station_id  start_lat  start_lng  \\\n",
       "0                 20th & E St NW         31204.0  38.903827 -77.053485   \n",
       "1  22nd & I St NW / Foggy Bottom         31257.0  38.903827 -77.053485   \n",
       "2             34th & Water St NW         31314.0  38.903827 -77.053485   \n",
       "\n",
       "     end_lat    end_lng member_casual  \n",
       "0  38.896300 -77.045000        member  \n",
       "1  38.900880 -77.048911        member  \n",
       "2  38.903663 -77.067668        member  "
      ],
      "text/html": "<div>\n<style scoped>\n    .dataframe tbody tr th:only-of-type {\n        vertical-align: middle;\n    }\n\n    .dataframe tbody tr th {\n        vertical-align: top;\n    }\n\n    .dataframe thead th {\n        text-align: right;\n    }\n</style>\n<table border=\"1\" class=\"dataframe\">\n  <thead>\n    <tr style=\"text-align: right;\">\n      <th></th>\n      <th>ride_id</th>\n      <th>rideable_type</th>\n      <th>started_at</th>\n      <th>ended_at</th>\n      <th>start_station_name</th>\n      <th>start_station_id</th>\n      <th>end_station_name</th>\n      <th>end_station_id</th>\n      <th>start_lat</th>\n      <th>start_lng</th>\n      <th>end_lat</th>\n      <th>end_lng</th>\n      <th>member_casual</th>\n    </tr>\n  </thead>\n  <tbody>\n    <tr>\n      <th>0</th>\n      <td>574D7036265F871A</td>\n      <td>docked_bike</td>\n      <td>2020-04-06 16:14:44</td>\n      <td>2020-04-06 16:21:11</td>\n      <td>25th St &amp; Pennsylvania Ave NW</td>\n      <td>31237</td>\n      <td>20th &amp; E St NW</td>\n      <td>31204.0</td>\n      <td>38.903827</td>\n      <td>-77.053485</td>\n      <td>38.896300</td>\n      <td>-77.045000</td>\n      <td>member</td>\n    </tr>\n    <tr>\n      <th>1</th>\n      <td>599129C4D2E63705</td>\n      <td>docked_bike</td>\n      <td>2020-04-07 13:23:05</td>\n      <td>2020-04-07 13:28:05</td>\n      <td>25th St &amp; Pennsylvania Ave NW</td>\n      <td>31237</td>\n      <td>22nd &amp; I St NW / Foggy Bottom</td>\n      <td>31257.0</td>\n      <td>38.903827</td>\n      <td>-77.053485</td>\n      <td>38.900880</td>\n      <td>-77.048911</td>\n      <td>member</td>\n    </tr>\n    <tr>\n      <th>2</th>\n      <td>51968E3A179DF45D</td>\n      <td>docked_bike</td>\n      <td>2020-04-07 14:26:56</td>\n      <td>2020-04-07 14:33:25</td>\n      <td>25th St &amp; Pennsylvania Ave NW</td>\n      <td>31237</td>\n      <td>34th &amp; Water St NW</td>\n      <td>31314.0</td>\n      <td>38.903827</td>\n      <td>-77.053485</td>\n      <td>38.903663</td>\n      <td>-77.067668</td>\n      <td>member</td>\n    </tr>\n  </tbody>\n</table>\n</div>"
     },
     "metadata": {},
     "execution_count": 39
    }
   ],
   "source": [
    "df16.head(3)"
   ]
  },
  {
   "cell_type": "code",
   "execution_count": 40,
   "metadata": {},
   "outputs": [],
   "source": [
    "all_files_p1 = ['201902-capitalbikeshare-tripdata.csv', '201903-capitalbikeshare-tripdata.csv', '201904-capitalbikeshare-tripdata.csv', '201905-capitalbikeshare-tripdata.csv', '201906-capitalbikeshare-tripdata.csv', '201907-capitalbikeshare-tripdata.csv', '201908-capitalbikeshare-tripdata.csv', '201909-capitalbikeshare-tripdata.csv', '201910-capitalbikeshare-tripdata.csv', '201911-capitalbikeshare-tripdata.csv', '201912-capitalbikeshare-tripdata.csv', '202001-capitalbikeshare-tripdata.csv', '202002-capitalbikeshare-tripdata.csv', '202003-capitalbikeshare-tripdata.csv']\n",
    "all_files_p2 = ['202005-capitalbikeshare-tripdata.csv', '202006-capitalbikeshare-tripdata.csv', '202007-capitalbikeshare-tripdata.csv', '202008-capitalbikeshare-tripdata.csv', '202009-capitalbikeshare-tripdata.csv', '202010-capitalbikeshare-tripdata.csv', '202011-capitalbikeshare-tripdata.csv', '202012-capitalbikeshare-tripdata.csv']"
   ]
  },
  {
   "cell_type": "code",
   "execution_count": 41,
   "metadata": {},
   "outputs": [],
   "source": [
    "df1.columns = ['duration', 'start_date', 'end_date', 'start_station_id', 'start_station_name', 'end_station_id', 'end_station_name', 'bike_number', 'member_type']"
   ]
  },
  {
   "cell_type": "code",
   "execution_count": 42,
   "metadata": {},
   "outputs": [],
   "source": [
    "# Adjustment of the customer type notation\n",
    "\n",
    "customer = []\n",
    "for i in range(len(df1)):\n",
    "    if df1['member_type'][i] == 'Member':\n",
    "        customer.append('M') \n",
    "    else: \n",
    "        customer.append('C')\n",
    "\n",
    "customer = pd.DataFrame(customer)\n",
    "df1['customer'] = customer"
   ]
  },
  {
   "cell_type": "code",
   "execution_count": 43,
   "metadata": {},
   "outputs": [],
   "source": [
    "df1 = df1.drop(['start_station_name', 'end_station_name', 'member_type'], axis = 1)     # This specific station information will be provided by a specific CSV file.\n",
    "df = df1"
   ]
  },
  {
   "cell_type": "code",
   "execution_count": 44,
   "metadata": {},
   "outputs": [
    {
     "output_type": "execute_result",
     "data": {
      "text/plain": [
       "   duration           start_date             end_date  start_station_id  \\\n",
       "0       230  2019-01-01 00:04:48  2019-01-01 00:08:39             31203   \n",
       "1      1549  2019-01-01 00:06:37  2019-01-01 00:32:27             31321   \n",
       "2       177  2019-01-01 00:08:46  2019-01-01 00:11:44             31104   \n",
       "\n",
       "   end_station_id bike_number customer  \n",
       "0           31200      E00141        M  \n",
       "1           31114      W24067        C  \n",
       "2           31323      W22654        C  "
      ],
      "text/html": "<div>\n<style scoped>\n    .dataframe tbody tr th:only-of-type {\n        vertical-align: middle;\n    }\n\n    .dataframe tbody tr th {\n        vertical-align: top;\n    }\n\n    .dataframe thead th {\n        text-align: right;\n    }\n</style>\n<table border=\"1\" class=\"dataframe\">\n  <thead>\n    <tr style=\"text-align: right;\">\n      <th></th>\n      <th>duration</th>\n      <th>start_date</th>\n      <th>end_date</th>\n      <th>start_station_id</th>\n      <th>end_station_id</th>\n      <th>bike_number</th>\n      <th>customer</th>\n    </tr>\n  </thead>\n  <tbody>\n    <tr>\n      <th>0</th>\n      <td>230</td>\n      <td>2019-01-01 00:04:48</td>\n      <td>2019-01-01 00:08:39</td>\n      <td>31203</td>\n      <td>31200</td>\n      <td>E00141</td>\n      <td>M</td>\n    </tr>\n    <tr>\n      <th>1</th>\n      <td>1549</td>\n      <td>2019-01-01 00:06:37</td>\n      <td>2019-01-01 00:32:27</td>\n      <td>31321</td>\n      <td>31114</td>\n      <td>W24067</td>\n      <td>C</td>\n    </tr>\n    <tr>\n      <th>2</th>\n      <td>177</td>\n      <td>2019-01-01 00:08:46</td>\n      <td>2019-01-01 00:11:44</td>\n      <td>31104</td>\n      <td>31323</td>\n      <td>W22654</td>\n      <td>C</td>\n    </tr>\n  </tbody>\n</table>\n</div>"
     },
     "metadata": {},
     "execution_count": 44
    }
   ],
   "source": [
    "df.head(3)"
   ]
  },
  {
   "cell_type": "code",
   "execution_count": 45,
   "metadata": {},
   "outputs": [],
   "source": [
    "# This loop serves the purpose of automatically read and process all files until March 2020.\n",
    "\n",
    "for i in all_files_p1:\n",
    "    data = pd.read_csv(i)\n",
    "    data = pd.DataFrame(data)\n",
    "    data.columns = ['duration', 'start_date', 'end_date', 'start_station_id', 'start_station_name', 'end_station_id', 'end_station_name', 'bike_number', 'member_type']\n",
    "    customer = []\n",
    "    for i in range(len(data)):\n",
    "        if data['member_type'][i] == 'Member':\n",
    "            customer.append('M') \n",
    "        else: \n",
    "            customer.append('C')\n",
    "    customer = pd.DataFrame(customer)\n",
    "    data['customer'] = customer\n",
    "    data = data.drop(['start_station_name', 'end_station_name', 'member_type'], axis = 1)\n",
    "    df = pd.concat([df, data], axis=0) "
   ]
  },
  {
   "cell_type": "code",
   "execution_count": 46,
   "metadata": {},
   "outputs": [
    {
     "output_type": "execute_result",
     "data": {
      "text/plain": [
       "        duration           start_date             end_date  start_station_id  \\\n",
       "0            230  2019-01-01 00:04:48  2019-01-01 00:08:39             31203   \n",
       "1           1549  2019-01-01 00:06:37  2019-01-01 00:32:27             31321   \n",
       "2            177  2019-01-01 00:08:46  2019-01-01 00:11:44             31104   \n",
       "3            228  2019-01-01 00:08:47  2019-01-01 00:12:35             31281   \n",
       "4           1300  2019-01-01 00:12:29  2019-01-01 00:34:10             31014   \n",
       "...          ...                  ...                  ...               ...   \n",
       "162525       673  2020-03-31 23:17:58  2020-03-31 23:29:12             31235   \n",
       "162526       514  2020-03-31 23:18:13  2020-03-31 23:26:47             31203   \n",
       "162527      1524  2020-03-31 23:29:00  2020-03-31 23:54:25             31110   \n",
       "162528       565  2020-03-31 23:41:17  2020-03-31 23:50:43             31603   \n",
       "162529      1054  2020-03-31 23:45:05  2020-04-01 00:02:40             31325   \n",
       "\n",
       "        end_station_id bike_number customer  \n",
       "0                31200      E00141        M  \n",
       "1                31114      W24067        C  \n",
       "2                31323      W22654        C  \n",
       "3                31280      W22336        M  \n",
       "4                31923       70004        M  \n",
       "...                ...         ...      ...  \n",
       "162525           31265      W22920        M  \n",
       "162526           31324       21054        M  \n",
       "162527           31403      W24341        M  \n",
       "162528           31256      W22691        M  \n",
       "162529           31214      W24051        M  \n",
       "\n",
       "[3935817 rows x 7 columns]"
      ],
      "text/html": "<div>\n<style scoped>\n    .dataframe tbody tr th:only-of-type {\n        vertical-align: middle;\n    }\n\n    .dataframe tbody tr th {\n        vertical-align: top;\n    }\n\n    .dataframe thead th {\n        text-align: right;\n    }\n</style>\n<table border=\"1\" class=\"dataframe\">\n  <thead>\n    <tr style=\"text-align: right;\">\n      <th></th>\n      <th>duration</th>\n      <th>start_date</th>\n      <th>end_date</th>\n      <th>start_station_id</th>\n      <th>end_station_id</th>\n      <th>bike_number</th>\n      <th>customer</th>\n    </tr>\n  </thead>\n  <tbody>\n    <tr>\n      <th>0</th>\n      <td>230</td>\n      <td>2019-01-01 00:04:48</td>\n      <td>2019-01-01 00:08:39</td>\n      <td>31203</td>\n      <td>31200</td>\n      <td>E00141</td>\n      <td>M</td>\n    </tr>\n    <tr>\n      <th>1</th>\n      <td>1549</td>\n      <td>2019-01-01 00:06:37</td>\n      <td>2019-01-01 00:32:27</td>\n      <td>31321</td>\n      <td>31114</td>\n      <td>W24067</td>\n      <td>C</td>\n    </tr>\n    <tr>\n      <th>2</th>\n      <td>177</td>\n      <td>2019-01-01 00:08:46</td>\n      <td>2019-01-01 00:11:44</td>\n      <td>31104</td>\n      <td>31323</td>\n      <td>W22654</td>\n      <td>C</td>\n    </tr>\n    <tr>\n      <th>3</th>\n      <td>228</td>\n      <td>2019-01-01 00:08:47</td>\n      <td>2019-01-01 00:12:35</td>\n      <td>31281</td>\n      <td>31280</td>\n      <td>W22336</td>\n      <td>M</td>\n    </tr>\n    <tr>\n      <th>4</th>\n      <td>1300</td>\n      <td>2019-01-01 00:12:29</td>\n      <td>2019-01-01 00:34:10</td>\n      <td>31014</td>\n      <td>31923</td>\n      <td>70004</td>\n      <td>M</td>\n    </tr>\n    <tr>\n      <th>...</th>\n      <td>...</td>\n      <td>...</td>\n      <td>...</td>\n      <td>...</td>\n      <td>...</td>\n      <td>...</td>\n      <td>...</td>\n    </tr>\n    <tr>\n      <th>162525</th>\n      <td>673</td>\n      <td>2020-03-31 23:17:58</td>\n      <td>2020-03-31 23:29:12</td>\n      <td>31235</td>\n      <td>31265</td>\n      <td>W22920</td>\n      <td>M</td>\n    </tr>\n    <tr>\n      <th>162526</th>\n      <td>514</td>\n      <td>2020-03-31 23:18:13</td>\n      <td>2020-03-31 23:26:47</td>\n      <td>31203</td>\n      <td>31324</td>\n      <td>21054</td>\n      <td>M</td>\n    </tr>\n    <tr>\n      <th>162527</th>\n      <td>1524</td>\n      <td>2020-03-31 23:29:00</td>\n      <td>2020-03-31 23:54:25</td>\n      <td>31110</td>\n      <td>31403</td>\n      <td>W24341</td>\n      <td>M</td>\n    </tr>\n    <tr>\n      <th>162528</th>\n      <td>565</td>\n      <td>2020-03-31 23:41:17</td>\n      <td>2020-03-31 23:50:43</td>\n      <td>31603</td>\n      <td>31256</td>\n      <td>W22691</td>\n      <td>M</td>\n    </tr>\n    <tr>\n      <th>162529</th>\n      <td>1054</td>\n      <td>2020-03-31 23:45:05</td>\n      <td>2020-04-01 00:02:40</td>\n      <td>31325</td>\n      <td>31214</td>\n      <td>W24051</td>\n      <td>M</td>\n    </tr>\n  </tbody>\n</table>\n<p>3935817 rows × 7 columns</p>\n</div>"
     },
     "metadata": {},
     "execution_count": 46
    }
   ],
   "source": [
    "df"
   ]
  },
  {
   "cell_type": "code",
   "execution_count": 47,
   "metadata": {},
   "outputs": [
    {
     "output_type": "execute_result",
     "data": {
      "text/plain": [
       "duration             0\n",
       "start_date           0\n",
       "end_date             0\n",
       "start_station_id     0\n",
       "end_station_id       0\n",
       "bike_number         14\n",
       "customer             0\n",
       "dtype: int64"
      ]
     },
     "metadata": {},
     "execution_count": 47
    }
   ],
   "source": [
    "df.isnull().sum()"
   ]
  },
  {
   "cell_type": "code",
   "execution_count": 48,
   "metadata": {},
   "outputs": [],
   "source": [
    "df = df.fillna(0)   # Filling Null values with '0' in bike_number "
   ]
  },
  {
   "cell_type": "code",
   "execution_count": 49,
   "metadata": {},
   "outputs": [],
   "source": [
    "df.start_date = pd.to_datetime(df.start_date, yearfirst=True)\n",
    "df.end_date = pd.to_datetime(df.end_date, yearfirst=True)\n",
    "df = df[['start_date','end_date','duration', 'start_station_id','end_station_id', 'bike_number', 'customer']]"
   ]
  },
  {
   "cell_type": "code",
   "execution_count": 50,
   "metadata": {},
   "outputs": [
    {
     "output_type": "execute_result",
     "data": {
      "text/plain": [
       "            ride_id rideable_type           started_at             ended_at  \\\n",
       "0  574D7036265F871A   docked_bike  2020-04-06 16:14:44  2020-04-06 16:21:11   \n",
       "1  599129C4D2E63705   docked_bike  2020-04-07 13:23:05  2020-04-07 13:28:05   \n",
       "2  51968E3A179DF45D   docked_bike  2020-04-07 14:26:56  2020-04-07 14:33:25   \n",
       "\n",
       "              start_station_name  start_station_id  \\\n",
       "0  25th St & Pennsylvania Ave NW             31237   \n",
       "1  25th St & Pennsylvania Ave NW             31237   \n",
       "2  25th St & Pennsylvania Ave NW             31237   \n",
       "\n",
       "                end_station_name  end_station_id  start_lat  start_lng  \\\n",
       "0                 20th & E St NW         31204.0  38.903827 -77.053485   \n",
       "1  22nd & I St NW / Foggy Bottom         31257.0  38.903827 -77.053485   \n",
       "2             34th & Water St NW         31314.0  38.903827 -77.053485   \n",
       "\n",
       "     end_lat    end_lng member_casual  \n",
       "0  38.896300 -77.045000        member  \n",
       "1  38.900880 -77.048911        member  \n",
       "2  38.903663 -77.067668        member  "
      ],
      "text/html": "<div>\n<style scoped>\n    .dataframe tbody tr th:only-of-type {\n        vertical-align: middle;\n    }\n\n    .dataframe tbody tr th {\n        vertical-align: top;\n    }\n\n    .dataframe thead th {\n        text-align: right;\n    }\n</style>\n<table border=\"1\" class=\"dataframe\">\n  <thead>\n    <tr style=\"text-align: right;\">\n      <th></th>\n      <th>ride_id</th>\n      <th>rideable_type</th>\n      <th>started_at</th>\n      <th>ended_at</th>\n      <th>start_station_name</th>\n      <th>start_station_id</th>\n      <th>end_station_name</th>\n      <th>end_station_id</th>\n      <th>start_lat</th>\n      <th>start_lng</th>\n      <th>end_lat</th>\n      <th>end_lng</th>\n      <th>member_casual</th>\n    </tr>\n  </thead>\n  <tbody>\n    <tr>\n      <th>0</th>\n      <td>574D7036265F871A</td>\n      <td>docked_bike</td>\n      <td>2020-04-06 16:14:44</td>\n      <td>2020-04-06 16:21:11</td>\n      <td>25th St &amp; Pennsylvania Ave NW</td>\n      <td>31237</td>\n      <td>20th &amp; E St NW</td>\n      <td>31204.0</td>\n      <td>38.903827</td>\n      <td>-77.053485</td>\n      <td>38.896300</td>\n      <td>-77.045000</td>\n      <td>member</td>\n    </tr>\n    <tr>\n      <th>1</th>\n      <td>599129C4D2E63705</td>\n      <td>docked_bike</td>\n      <td>2020-04-07 13:23:05</td>\n      <td>2020-04-07 13:28:05</td>\n      <td>25th St &amp; Pennsylvania Ave NW</td>\n      <td>31237</td>\n      <td>22nd &amp; I St NW / Foggy Bottom</td>\n      <td>31257.0</td>\n      <td>38.903827</td>\n      <td>-77.053485</td>\n      <td>38.900880</td>\n      <td>-77.048911</td>\n      <td>member</td>\n    </tr>\n    <tr>\n      <th>2</th>\n      <td>51968E3A179DF45D</td>\n      <td>docked_bike</td>\n      <td>2020-04-07 14:26:56</td>\n      <td>2020-04-07 14:33:25</td>\n      <td>25th St &amp; Pennsylvania Ave NW</td>\n      <td>31237</td>\n      <td>34th &amp; Water St NW</td>\n      <td>31314.0</td>\n      <td>38.903827</td>\n      <td>-77.053485</td>\n      <td>38.903663</td>\n      <td>-77.067668</td>\n      <td>member</td>\n    </tr>\n  </tbody>\n</table>\n</div>"
     },
     "metadata": {},
     "execution_count": 50
    }
   ],
   "source": [
    "df16.head(3)"
   ]
  },
  {
   "cell_type": "code",
   "execution_count": 51,
   "metadata": {},
   "outputs": [],
   "source": [
    "\n",
    "df16 = df16.drop(['ride_id', 'rideable_type', 'start_station_name', 'end_station_name', 'start_lat', 'start_lng', 'end_lat', 'end_lng'], axis = 1)\n",
    "customer = []\n",
    "for j in range(len(df16)):\n",
    "    if df16['member_casual'][j] == 'member':\n",
    "        customer.append('M') \n",
    "    elif df16['member_casual'][j] == 'casual': \n",
    "        customer.append('C')\n",
    "customer = pd.DataFrame(customer)\n",
    "df16['customer'] = customer\n",
    "df16 = df16.drop(['member_casual'], axis = 1)\n",
    "df16.columns = ['start_date', 'end_date', 'start_station_id', 'end_station_id', 'customer']\n",
    "df16['bike_number'] = 0"
   ]
  },
  {
   "cell_type": "code",
   "execution_count": 52,
   "metadata": {},
   "outputs": [],
   "source": [
    "df16.start_date = pd.to_datetime(df16.start_date, yearfirst=True)\n",
    "df16.end_date = pd.to_datetime(df16.end_date, yearfirst=True)\n",
    "df16['duration'] = (df16.end_date - df16.start_date)\n",
    "df16['duration'] = df16['duration'].dt.total_seconds()"
   ]
  },
  {
   "cell_type": "code",
   "execution_count": 53,
   "metadata": {},
   "outputs": [
    {
     "output_type": "execute_result",
     "data": {
      "text/plain": [
       "start_date          0\n",
       "end_date            0\n",
       "start_station_id    0\n",
       "end_station_id      0\n",
       "customer            0\n",
       "bike_number         0\n",
       "duration            0\n",
       "dtype: int64"
      ]
     },
     "metadata": {},
     "execution_count": 53
    }
   ],
   "source": [
    "df16 = df16.fillna(0)\n",
    "df16.isnull().sum()"
   ]
  },
  {
   "cell_type": "code",
   "execution_count": 54,
   "metadata": {},
   "outputs": [],
   "source": [
    "# Change of data types in specified columns\n",
    "\n",
    "df16[['start_station_id', 'end_station_id']] = df16[['start_station_id', 'end_station_id']].astype(int)\n",
    "df16[['duration']] = df16[['duration']].astype(int)\n",
    "df16['bike_number'] = df16['bike_number'].astype(str)"
   ]
  },
  {
   "cell_type": "code",
   "execution_count": 55,
   "metadata": {},
   "outputs": [],
   "source": [
    "df16 = df16[['start_date','end_date','duration', 'start_station_id','end_station_id', 'bike_number', 'customer']]"
   ]
  },
  {
   "cell_type": "code",
   "execution_count": 56,
   "metadata": {},
   "outputs": [
    {
     "output_type": "execute_result",
     "data": {
      "text/plain": [
       "start_date          datetime64[ns]\n",
       "end_date            datetime64[ns]\n",
       "duration                     int64\n",
       "start_station_id             int64\n",
       "end_station_id               int64\n",
       "bike_number                 object\n",
       "customer                    object\n",
       "dtype: object"
      ]
     },
     "metadata": {},
     "execution_count": 56
    }
   ],
   "source": [
    "df.dtypes"
   ]
  },
  {
   "cell_type": "code",
   "execution_count": 57,
   "metadata": {},
   "outputs": [
    {
     "output_type": "execute_result",
     "data": {
      "text/plain": [
       "start_date          datetime64[ns]\n",
       "end_date            datetime64[ns]\n",
       "duration                     int32\n",
       "start_station_id             int32\n",
       "end_station_id               int32\n",
       "bike_number                 object\n",
       "customer                    object\n",
       "dtype: object"
      ]
     },
     "metadata": {},
     "execution_count": 57
    }
   ],
   "source": [
    "df16.dtypes"
   ]
  },
  {
   "cell_type": "code",
   "execution_count": 58,
   "metadata": {},
   "outputs": [
    {
     "output_type": "execute_result",
     "data": {
      "text/plain": [
       "            ride_id rideable_type           started_at             ended_at  \\\n",
       "0  946D42AD89539210   docked_bike  2020-05-30 17:25:29  2020-05-31 18:25:22   \n",
       "1  CC46FAAB662B8613   docked_bike  2020-05-09 14:42:04  2020-05-09 15:06:33   \n",
       "2  72F00B2FB833D6ED   docked_bike  2020-05-24 17:27:19  2020-05-24 17:43:51   \n",
       "\n",
       "                                start_station_name  start_station_id  \\\n",
       "0                                Anacostia Library             31804   \n",
       "1                                   10th & E St NW             31256   \n",
       "2  Connecticut Ave & Newark St NW / Cleveland Park             31305   \n",
       "\n",
       "                end_station_name  end_station_id  start_lat  start_lng  \\\n",
       "0                 11th & H St NE         31614.0  38.865784 -76.978400   \n",
       "1  21st St & Constitution Ave NW         31261.0  38.895914 -77.026064   \n",
       "2                 12th & U St NW         31268.0  38.934267 -77.057979   \n",
       "\n",
       "     end_lat    end_lng member_casual  \n",
       "0  38.899983 -76.991383        casual  \n",
       "1  38.892459 -77.046567        member  \n",
       "2  38.916787 -77.028139        member  "
      ],
      "text/html": "<div>\n<style scoped>\n    .dataframe tbody tr th:only-of-type {\n        vertical-align: middle;\n    }\n\n    .dataframe tbody tr th {\n        vertical-align: top;\n    }\n\n    .dataframe thead th {\n        text-align: right;\n    }\n</style>\n<table border=\"1\" class=\"dataframe\">\n  <thead>\n    <tr style=\"text-align: right;\">\n      <th></th>\n      <th>ride_id</th>\n      <th>rideable_type</th>\n      <th>started_at</th>\n      <th>ended_at</th>\n      <th>start_station_name</th>\n      <th>start_station_id</th>\n      <th>end_station_name</th>\n      <th>end_station_id</th>\n      <th>start_lat</th>\n      <th>start_lng</th>\n      <th>end_lat</th>\n      <th>end_lng</th>\n      <th>member_casual</th>\n    </tr>\n  </thead>\n  <tbody>\n    <tr>\n      <th>0</th>\n      <td>946D42AD89539210</td>\n      <td>docked_bike</td>\n      <td>2020-05-30 17:25:29</td>\n      <td>2020-05-31 18:25:22</td>\n      <td>Anacostia Library</td>\n      <td>31804</td>\n      <td>11th &amp; H St NE</td>\n      <td>31614.0</td>\n      <td>38.865784</td>\n      <td>-76.978400</td>\n      <td>38.899983</td>\n      <td>-76.991383</td>\n      <td>casual</td>\n    </tr>\n    <tr>\n      <th>1</th>\n      <td>CC46FAAB662B8613</td>\n      <td>docked_bike</td>\n      <td>2020-05-09 14:42:04</td>\n      <td>2020-05-09 15:06:33</td>\n      <td>10th &amp; E St NW</td>\n      <td>31256</td>\n      <td>21st St &amp; Constitution Ave NW</td>\n      <td>31261.0</td>\n      <td>38.895914</td>\n      <td>-77.026064</td>\n      <td>38.892459</td>\n      <td>-77.046567</td>\n      <td>member</td>\n    </tr>\n    <tr>\n      <th>2</th>\n      <td>72F00B2FB833D6ED</td>\n      <td>docked_bike</td>\n      <td>2020-05-24 17:27:19</td>\n      <td>2020-05-24 17:43:51</td>\n      <td>Connecticut Ave &amp; Newark St NW / Cleveland Park</td>\n      <td>31305</td>\n      <td>12th &amp; U St NW</td>\n      <td>31268.0</td>\n      <td>38.934267</td>\n      <td>-77.057979</td>\n      <td>38.916787</td>\n      <td>-77.028139</td>\n      <td>member</td>\n    </tr>\n  </tbody>\n</table>\n</div>"
     },
     "metadata": {},
     "execution_count": 58
    }
   ],
   "source": [
    "df17 = pd.read_csv('202005-capitalbikeshare-tripdata.csv')\n",
    "df17.head(3)"
   ]
  },
  {
   "cell_type": "code",
   "execution_count": 59,
   "metadata": {},
   "outputs": [],
   "source": [
    "df_new = df16"
   ]
  },
  {
   "cell_type": "code",
   "execution_count": 60,
   "metadata": {},
   "outputs": [],
   "source": [
    "# This loop serves the purpose of automatically read and process all files starting April 2020.\n",
    "\n",
    "for i in all_files_p2:\n",
    "    data = pd.read_csv(i)\n",
    "    data = pd.DataFrame(data)\n",
    "    data = data.drop(['ride_id', 'rideable_type', 'start_station_name', 'end_station_name', 'start_lat', 'start_lng', 'end_lat', 'end_lng'], axis = 1)\n",
    "    customer = []\n",
    "    for j in range(len(data)):\n",
    "        if data['member_casual'][j] == 'member':\n",
    "            customer.append('M') \n",
    "        elif data['member_casual'][j] == 'casual': \n",
    "            customer.append('C')\n",
    "    customer = pd.DataFrame(customer)\n",
    "    data['customer'] = customer\n",
    "    data['bike_number'] = 0\n",
    "    data = data.drop(['member_casual'], axis = 1)\n",
    "    data.columns = ['start_date', 'end_date', 'start_station_id', 'end_station_id', 'customer', 'bike_number']\n",
    "    data.start_date = pd.to_datetime(data.start_date, yearfirst=True)\n",
    "    data.end_date = pd.to_datetime(data.end_date, yearfirst=True)\n",
    "    data['duration'] = (data.end_date - data.start_date)\n",
    "    data['duration'] = data['duration'].dt.total_seconds()\n",
    "    data = data.fillna(0)\n",
    "    data[['start_station_id', 'end_station_id']] = data[['start_station_id', 'end_station_id']].astype(int)\n",
    "    data[['duration']] = data[['duration']].astype(int)\n",
    "    data['bike_number'] = data['bike_number'].astype(str)\n",
    "    data = data[['start_date','end_date','duration', 'start_station_id','end_station_id', 'bike_number', 'customer']]\n",
    "    df_new = pd.concat([df_new, data], axis=0) "
   ]
  },
  {
   "cell_type": "code",
   "execution_count": 61,
   "metadata": {},
   "outputs": [
    {
     "output_type": "execute_result",
     "data": {
      "text/plain": [
       "start_date          0\n",
       "end_date            0\n",
       "duration            0\n",
       "start_station_id    0\n",
       "end_station_id      0\n",
       "bike_number         0\n",
       "customer            0\n",
       "dtype: int64"
      ]
     },
     "metadata": {},
     "execution_count": 61
    }
   ],
   "source": [
    "df_new.isnull().sum()"
   ]
  },
  {
   "cell_type": "code",
   "execution_count": 62,
   "metadata": {},
   "outputs": [],
   "source": [
    "# This is where the two different dataframes are concatenated.\n",
    "\n",
    "df = pd.concat([df, df_new], axis=0) "
   ]
  },
  {
   "cell_type": "code",
   "execution_count": 63,
   "metadata": {},
   "outputs": [],
   "source": [
    "df = df.drop_duplicates()"
   ]
  },
  {
   "cell_type": "code",
   "execution_count": 64,
   "metadata": {},
   "outputs": [],
   "source": [
    "# And save...\n",
    "\n",
    "df.to_csv('rides_2019_2020.csv')"
   ]
  },
  {
   "cell_type": "code",
   "execution_count": null,
   "metadata": {},
   "outputs": [],
   "source": []
  }
 ]
}