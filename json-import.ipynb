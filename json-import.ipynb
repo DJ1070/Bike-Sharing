{
 "metadata": {
  "language_info": {
   "codemirror_mode": {
    "name": "ipython",
    "version": 3
   },
   "file_extension": ".py",
   "mimetype": "text/x-python",
   "name": "python",
   "nbconvert_exporter": "python",
   "pygments_lexer": "ipython3",
   "version": "3.8.5-final"
  },
  "orig_nbformat": 2,
  "kernelspec": {
   "name": "python3",
   "display_name": "Python 3",
   "language": "python"
  }
 },
 "nbformat": 4,
 "nbformat_minor": 2,
 "cells": [
  {
   "cell_type": "code",
   "execution_count": 2,
   "metadata": {},
   "outputs": [],
   "source": [
    "import pandas as pd\n",
    "import numpy as np\n",
    "import plotly.express as px\n",
    "#import geopandas as gpd"
   ]
  },
  {
   "cell_type": "code",
   "execution_count": 3,
   "metadata": {},
   "outputs": [
    {
     "output_type": "execute_result",
     "data": {
      "text/plain": [
       "621"
      ]
     },
     "metadata": {},
     "execution_count": 3
    }
   ],
   "source": [
    "#d = pd.read_json(\"station_information.json\")\n",
    "d_station_information = pd.read_json('https://gbfs.capitalbikeshare.com/gbfs/en/station_information.json')\n",
    "d = pd.read_json('https://gbfs.capitalbikeshare.com/gbfs/en/station_status.json')\n",
    "len(d_station_information.data['stations'])"
   ]
  },
  {
   "cell_type": "code",
   "execution_count": 4,
   "metadata": {},
   "outputs": [
    {
     "output_type": "execute_result",
     "data": {
      "text/plain": [
       "621"
      ]
     },
     "metadata": {},
     "execution_count": 4
    }
   ],
   "source": [
    "len(d.data[0])"
   ]
  },
  {
   "cell_type": "code",
   "execution_count": 5,
   "metadata": {},
   "outputs": [
    {
     "output_type": "execute_result",
     "data": {
      "text/plain": [
       "{'num_bikes_disabled': 0,\n",
       " 'is_renting': 1,\n",
       " 'num_docks_disabled': 0,\n",
       " 'station_id': '1',\n",
       " 'last_reported': 1611516406,\n",
       " 'is_returning': 1,\n",
       " 'is_installed': 1,\n",
       " 'station_status': 'active',\n",
       " 'num_bikes_available': 4,\n",
       " 'eightd_has_available_keys': False,\n",
       " 'num_docks_available': 11,\n",
       " 'legacy_id': '1',\n",
       " 'num_ebikes_available': 0}"
      ]
     },
     "metadata": {},
     "execution_count": 5
    }
   ],
   "source": [
    "d.data[0][0]"
   ]
  },
  {
   "cell_type": "code",
   "execution_count": 6,
   "metadata": {},
   "outputs": [
    {
     "output_type": "stream",
     "name": "stdout",
     "text": [
      "Available Bikes:  4777\nAvailable E-Bikes:  308\n"
     ]
    }
   ],
   "source": [
    "av_bikes = []\n",
    "av_e_bikes = []\n",
    "for i in range(len(d.data[0])):\n",
    "    av_bikes.append(d.data[0][i]['num_bikes_available'])\n",
    "    av_e_bikes.append(d.data[0][i]['num_ebikes_available'])\n",
    "print('Available Bikes: ', pd.Series(av_bikes).sum())\n",
    "print('Available E-Bikes: ', pd.Series(av_e_bikes).sum())"
   ]
  },
  {
   "cell_type": "code",
   "execution_count": 7,
   "metadata": {},
   "outputs": [],
   "source": [
    "#d.data['stations'][0]['num_bikes_available']"
   ]
  },
  {
   "cell_type": "code",
   "execution_count": 8,
   "metadata": {},
   "outputs": [
    {
     "output_type": "stream",
     "name": "stdout",
     "text": [
      "Active Stations:  620\n"
     ]
    }
   ],
   "source": [
    "active_station = []\n",
    "for i in range(len(d.data[0])):\n",
    "    active_station.append(d.data[0][i]['is_renting'])\n",
    "print('Active Stations: ', pd.Series(active_station).sum())"
   ]
  },
  {
   "cell_type": "code",
   "execution_count": 9,
   "metadata": {},
   "outputs": [
    {
     "output_type": "stream",
     "name": "stdout",
     "text": [
      "Stations with 0 bikes available:  12\nStations with 0 e-bikes available:  437\n"
     ]
    }
   ],
   "source": [
    "print('Stations with 0 bikes available: ',av_bikes.count(0))\n",
    "print('Stations with 0 e-bikes available: ',av_e_bikes.count(0))"
   ]
  },
  {
   "cell_type": "code",
   "execution_count": 10,
   "metadata": {},
   "outputs": [
    {
     "output_type": "stream",
     "name": "stdout",
     "text": [
      "Available Bikes in Active Stations:  4777\nAvailable E-Bikes in Active Stations:  308\nActive Stations:  620\nInactive Station IDs:  ['377']\n"
     ]
    }
   ],
   "source": [
    "# Evaluation: How many bikes and e-bikes are available at ACTIVE stations?\n",
    "# (We learn that the given data for all available (e-)bikes always equals the available (e-)bikes at active stations.)\n",
    "\n",
    "bikes_active_stations = []\n",
    "e_bikes_active_stations = []\n",
    "stat = []\n",
    "inactive_station_id = []\n",
    "for i in range(len(d.data[0])):\n",
    "    if d.data[0][i]['is_renting'] == 1:\n",
    "        bikes_active_stations.append(d.data[0][i]['num_bikes_available'])\n",
    "        e_bikes_active_stations.append(d.data[0][i]['num_ebikes_available'])\n",
    "        stat.append(d.data[0][i]['is_renting'])\n",
    "    else:\n",
    "        inactive_station_id.append(d.data[0][i]['station_id'])\n",
    "print('Available Bikes in Active Stations: ', pd.Series(av_bikes).sum())\n",
    "print('Available E-Bikes in Active Stations: ', pd.Series(av_e_bikes).sum())\n",
    "print('Active Stations: ', pd.Series(stat).count())\n",
    "print('Inactive Station IDs: ', inactive_station_id)"
   ]
  },
  {
   "cell_type": "code",
   "execution_count": 11,
   "metadata": {},
   "outputs": [
    {
     "output_type": "stream",
     "name": "stdout",
     "text": [
      "Number of active stations without available bikes:  12\nNumber of active stations without available e-bikes:  437\n"
     ]
    }
   ],
   "source": [
    "print('Number of active stations without available bikes: ', bikes_active_stations.count(0))\n",
    "print('Number of active stations without available e-bikes: ', e_bikes_active_stations.count(0))"
   ]
  },
  {
   "cell_type": "code",
   "execution_count": 12,
   "metadata": {},
   "outputs": [
    {
     "output_type": "stream",
     "name": "stdout",
     "text": [
      "Stations numbers without bikes:  ['19', '93', '100', '166', '211', '255', '376', '397', '400', '495', '609', '659']\nStations numbers without e-bikes:  ['1', '2', '3', '5', '6', '7', '8', '10', '11', '12', '13', '14', '15', '17', '18', '24', '25', '26', '29', '30', '32', '33', '36', '37', '38', '39', '40', '41', '42', '43', '44', '48', '49', '51', '54', '55', '56', '57', '58', '59', '60', '63', '64', '70', '71', '73', '74', '75', '76', '77', '80', '82', '83', '85', '86', '87', '88', '89', '90', '91', '92', '94', '96', '99', '101', '103', '104', '105', '106', '107', '108', '111', '112', '113', '114', '116', '117', '124', '125', '126', '127', '128', '130', '131', '132', '134', '136', '137', '138', '140', '142', '143', '145', '146', '148', '149', '150', '151', '152', '153', '154', '155', '156', '158', '159', '160', '161', '162', '163', '164', '165', '167', '168', '169', '170', '171', '173', '175', '176', '177', '178', '180', '181', '182', '183', '185', '186', '187', '188', '189', '191', '192', '193', '194', '195', '197', '198', '199', '202', '203', '204', '212', '213', '215', '219', '222', '223', '224', '225', '227', '231', '232', '234', '235', '237', '239', '242', '243', '244', '246', '247', '248', '250', '251', '252', '253', '254', '259', '260', '261', '262', '263', '264', '265', '266', '267', '268', '269', '270', '272', '273', '275', '277', '278', '279', '283', '284', '285', '286', '287', '293', '294', '295', '296', '297', '299', '302', '303', '305', '308', '309', '310', '311', '312', '313', '315', '316', '317', '318', '319', '323', '324', '325', '326', '327', '329', '330', '331', '333', '334', '335', '336', '337', '339', '340', '341', '343', '344', '345', '347', '348', '349', '350', '351', '352', '357', '359', '364', '367', '368', '373', '375', '378', '380', '381', '382', '384', '389', '390', '392', '393', '395', '396', '398', '399', '402', '403', '405', '406', '408', '409', '410', '411', '414', '416', '417', '419', '420', '421', '423', '424', '425', '427', '428', '429', '430', '432', '433', '434', '435', '436', '437', '438', '439', '441', '442', '443', '445', '447', '448', '450', '451', '452', '453', '456', '457', '458', '459', '461', '463', '464', '466', '467', '468', '470', '471', '472', '473', '474', '476', '477', '479', '480', '481', '482', '483', '485', '486', '487', '488', '490', '491', '492', '493', '494', '496', '497', '498', '499', '500', '501', '505', '506', '507', '508', '509', '511', '512', '513', '514', '515', '516', '517', '518', '520', '521', '522', '523', '525', '529', '531', '533', '535', '536', '537', '539', '541', '542', '543', '546', '548', '549', '550', '552', '553', '554', '560', '563', '565', '567', '569', '570', '573', '574', '575', '577', '579', '580', '582', '584', '586', '587', '589', '592', '595', '596', '597', '598', '599', '601', '602', '603', '604', '606', '608', '610', '611', '613', '614', '615', '617', '618', '619', '621', '622', '623', '624', '625', '626', '628', '632', '633', '636', '637', '638', '643', '645', '649', '650', '651', '653', '654', '655', '656', '657']\n"
     ]
    }
   ],
   "source": [
    "# Which are the stations without available (e-)bikes?\n",
    "\n",
    "bike_empty_stat_id = []\n",
    "e_bike_empty_stat_id = []\n",
    "for i in range(len(d.data[0])):\n",
    "    if d.data[0][i]['num_bikes_available'] == 0:\n",
    "        bike_empty_stat_id.append(d.data[0][i]['station_id'])\n",
    "    elif d.data[0][i]['num_ebikes_available'] == 0:\n",
    "        e_bike_empty_stat_id.append(d.data[0][i]['station_id'])\n",
    "\n",
    "print('Stations numbers without bikes: ', bike_empty_stat_id)\n",
    "print('Stations numbers without e-bikes: ', e_bike_empty_stat_id)"
   ]
  },
  {
   "cell_type": "code",
   "execution_count": 13,
   "metadata": {},
   "outputs": [
    {
     "output_type": "execute_result",
     "data": {
      "text/plain": [
       "{'classic'}"
      ]
     },
     "metadata": {},
     "execution_count": 13
    }
   ],
   "source": [
    "# Check: Which (different) data does \"station_type\" contain?\n",
    "# Ignore if there's no difference between bikes and e-bikes.\n",
    "\n",
    "a = []\n",
    "for i in range(len(d_station_information.data[0])):\n",
    "    a.append(d_station_information.data[0][i]['station_type'])\n",
    "\n",
    "b = set(a)\n",
    "b"
   ]
  },
  {
   "cell_type": "code",
   "execution_count": 14,
   "metadata": {},
   "outputs": [
    {
     "output_type": "stream",
     "name": "stdout",
     "text": [
      "{'KEY', 'CREDITCARD'}\n"
     ]
    }
   ],
   "source": [
    "# Check: Which different payment types does \"rental_methods\" contain?\n",
    "\n",
    "payment_types = []\n",
    "for i in range(len(d_station_information.data[0])):\n",
    "    payment_types.append(d_station_information.data[0][i]['rental_methods'])\n",
    "\n",
    "payment_types = list(np.concatenate(payment_types).flat)\n",
    "unique_payment_values = set(payment_types)\n",
    "print(unique_payment_values)"
   ]
  },
  {
   "cell_type": "code",
   "execution_count": 15,
   "metadata": {},
   "outputs": [
    {
     "output_type": "execute_result",
     "data": {
      "text/plain": [
       "{'short_name': '31000',\n",
       " 'rental_uris': {'ios': 'https://dc.lft.to/lastmile_qr_scan',\n",
       "  'android': 'https://dc.lft.to/lastmile_qr_scan'},\n",
       " 'capacity': 15,\n",
       " 'external_id': '082469cc-1f3f-11e7-bf6b-3863bb334450',\n",
       " 'eightd_station_services': [],\n",
       " 'electric_bike_surcharge_waiver': False,\n",
       " 'name': 'Eads St & 15th St S',\n",
       " 'lat': 38.858971,\n",
       " 'station_id': '1',\n",
       " 'eightd_has_key_dispenser': False,\n",
       " 'lon': -77.05323,\n",
       " 'has_kiosk': True,\n",
       " 'region_id': '41',\n",
       " 'rental_methods': ['KEY', 'CREDITCARD'],\n",
       " 'legacy_id': '1',\n",
       " 'station_type': 'classic'}"
      ]
     },
     "metadata": {},
     "execution_count": 15
    }
   ],
   "source": [
    "d_station_information.data[0][0]"
   ]
  },
  {
   "cell_type": "code",
   "execution_count": 16,
   "metadata": {
    "tags": []
   },
   "outputs": [],
   "source": [
    "# Getting the real station names for empty bike stands from https://gbfs.capitalbikeshare.com/gbfs/en/station_information.json\n",
    "\n",
    "bike_empty_stat_name = []\n",
    "e_bike_empty_stat_name = []\n",
    "\n",
    "for i in range(len(d_station_information.data[0])):\n",
    "    for j in bike_empty_stat_id:\n",
    "        j = int(j)\n",
    "        if j == int(d_station_information.data[0][i]['station_id']):\n",
    "            bike_empty_stat_name.append(d_station_information.data[0][i]['name'])\n",
    "\n",
    "for i in range(len(d_station_information.data[0])):\n",
    "    for k in e_bike_empty_stat_id:\n",
    "        k = int(k)\n",
    "        if k == int(d_station_information.data[0][i]['station_id']):\n",
    "            e_bike_empty_stat_name.append(d_station_information.data[0][i]['name'])\n",
    "\n",
    "# print('Stations names without bikes: ', bike_empty_stat_name)\n",
    "# print('Stations names without e-bikes: ', e_bike_empty_stat_name)"
   ]
  },
  {
   "cell_type": "code",
   "execution_count": 17,
   "metadata": {},
   "outputs": [
    {
     "output_type": "execute_result",
     "data": {
      "text/plain": [
       "['14th & Harvard St NW',\n",
       " '10th & Monroe St NE',\n",
       " 'Branch & Pennsylvania Ave SE',\n",
       " 'Central Library / Quincy St & 10th St N',\n",
       " 'Columbia Pike & S Courthouse Rd',\n",
       " 'Columbia Pike & S Walter Reed Dr',\n",
       " 'Yuma St & Tenley Circle NW',\n",
       " '14th & Girard St NW',\n",
       " \"10th St & L'Enfant Plaza SW\",\n",
       " '19th & Savannah St SE',\n",
       " '22nd & H St NW',\n",
       " '53rd & D St SE/C.W. Harris Elementary']"
      ]
     },
     "metadata": {},
     "execution_count": 17
    }
   ],
   "source": [
    "# Stations names without bikes:\n",
    "bike_empty_stat_name"
   ]
  },
  {
   "cell_type": "code",
   "execution_count": 18,
   "metadata": {},
   "outputs": [
    {
     "output_type": "execute_result",
     "data": {
      "text/plain": [
       "                                          0\n",
       "0                      14th & Harvard St NW\n",
       "1                       10th & Monroe St NE\n",
       "2              Branch & Pennsylvania Ave SE\n",
       "3   Central Library / Quincy St & 10th St N\n",
       "4           Columbia Pike & S Courthouse Rd\n",
       "5          Columbia Pike & S Walter Reed Dr\n",
       "6                Yuma St & Tenley Circle NW\n",
       "7                       14th & Girard St NW\n",
       "8               10th St & L'Enfant Plaza SW\n",
       "9                     19th & Savannah St SE\n",
       "10                           22nd & H St NW\n",
       "11    53rd & D St SE/C.W. Harris Elementary"
      ],
      "text/html": "<div>\n<style scoped>\n    .dataframe tbody tr th:only-of-type {\n        vertical-align: middle;\n    }\n\n    .dataframe tbody tr th {\n        vertical-align: top;\n    }\n\n    .dataframe thead th {\n        text-align: right;\n    }\n</style>\n<table border=\"1\" class=\"dataframe\">\n  <thead>\n    <tr style=\"text-align: right;\">\n      <th></th>\n      <th>0</th>\n    </tr>\n  </thead>\n  <tbody>\n    <tr>\n      <th>0</th>\n      <td>14th &amp; Harvard St NW</td>\n    </tr>\n    <tr>\n      <th>1</th>\n      <td>10th &amp; Monroe St NE</td>\n    </tr>\n    <tr>\n      <th>2</th>\n      <td>Branch &amp; Pennsylvania Ave SE</td>\n    </tr>\n    <tr>\n      <th>3</th>\n      <td>Central Library / Quincy St &amp; 10th St N</td>\n    </tr>\n    <tr>\n      <th>4</th>\n      <td>Columbia Pike &amp; S Courthouse Rd</td>\n    </tr>\n    <tr>\n      <th>5</th>\n      <td>Columbia Pike &amp; S Walter Reed Dr</td>\n    </tr>\n    <tr>\n      <th>6</th>\n      <td>Yuma St &amp; Tenley Circle NW</td>\n    </tr>\n    <tr>\n      <th>7</th>\n      <td>14th &amp; Girard St NW</td>\n    </tr>\n    <tr>\n      <th>8</th>\n      <td>10th St &amp; L'Enfant Plaza SW</td>\n    </tr>\n    <tr>\n      <th>9</th>\n      <td>19th &amp; Savannah St SE</td>\n    </tr>\n    <tr>\n      <th>10</th>\n      <td>22nd &amp; H St NW</td>\n    </tr>\n    <tr>\n      <th>11</th>\n      <td>53rd &amp; D St SE/C.W. Harris Elementary</td>\n    </tr>\n  </tbody>\n</table>\n</div>"
     },
     "metadata": {},
     "execution_count": 18
    }
   ],
   "source": [
    "besn = pd.DataFrame(bike_empty_stat_name)\n",
    "besn"
   ]
  },
  {
   "cell_type": "code",
   "execution_count": 19,
   "metadata": {},
   "outputs": [],
   "source": [
    "# Stations names without e-bikes:\n",
    "#e_bike_empty_stat_name"
   ]
  },
  {
   "cell_type": "code",
   "execution_count": 20,
   "metadata": {},
   "outputs": [
    {
     "output_type": "execute_result",
     "data": {
      "text/plain": [
       "{'short_name': '31000',\n",
       " 'rental_uris': {'ios': 'https://dc.lft.to/lastmile_qr_scan',\n",
       "  'android': 'https://dc.lft.to/lastmile_qr_scan'},\n",
       " 'capacity': 15,\n",
       " 'external_id': '082469cc-1f3f-11e7-bf6b-3863bb334450',\n",
       " 'eightd_station_services': [],\n",
       " 'electric_bike_surcharge_waiver': False,\n",
       " 'name': 'Eads St & 15th St S',\n",
       " 'lat': 38.858971,\n",
       " 'station_id': '1',\n",
       " 'eightd_has_key_dispenser': False,\n",
       " 'lon': -77.05323,\n",
       " 'has_kiosk': True,\n",
       " 'region_id': '41',\n",
       " 'rental_methods': ['KEY', 'CREDITCARD'],\n",
       " 'legacy_id': '1',\n",
       " 'station_type': 'classic'}"
      ]
     },
     "metadata": {},
     "execution_count": 20
    }
   ],
   "source": [
    "d_station_information.data[0][0]"
   ]
  },
  {
   "cell_type": "code",
   "execution_count": 30,
   "metadata": {},
   "outputs": [
    {
     "output_type": "execute_result",
     "data": {
      "text/plain": [
       "38.848466"
      ]
     },
     "metadata": {},
     "execution_count": 30
    }
   ],
   "source": [
    "d_station_information.data[0][8]['lat']"
   ]
  },
  {
   "cell_type": "code",
   "execution_count": 35,
   "metadata": {},
   "outputs": [
    {
     "output_type": "execute_result",
     "data": {
      "text/plain": [
       "                                         street        lat        lon\n",
       "0                           Eads St & 15th St S  38.858971 -77.053230\n",
       "1                           18th St & S Eads St  38.857250 -77.053320\n",
       "2                        Crystal Dr & 20th St S  38.856425 -77.049232\n",
       "3                        Crystal Dr & 15th St S  38.860170 -77.049593\n",
       "4  Aurora Hills Cmty Ctr / 18th St & S Hayes St  38.857866 -77.059490"
      ],
      "text/html": "<div>\n<style scoped>\n    .dataframe tbody tr th:only-of-type {\n        vertical-align: middle;\n    }\n\n    .dataframe tbody tr th {\n        vertical-align: top;\n    }\n\n    .dataframe thead th {\n        text-align: right;\n    }\n</style>\n<table border=\"1\" class=\"dataframe\">\n  <thead>\n    <tr style=\"text-align: right;\">\n      <th></th>\n      <th>street</th>\n      <th>lat</th>\n      <th>lon</th>\n    </tr>\n  </thead>\n  <tbody>\n    <tr>\n      <th>0</th>\n      <td>Eads St &amp; 15th St S</td>\n      <td>38.858971</td>\n      <td>-77.053230</td>\n    </tr>\n    <tr>\n      <th>1</th>\n      <td>18th St &amp; S Eads St</td>\n      <td>38.857250</td>\n      <td>-77.053320</td>\n    </tr>\n    <tr>\n      <th>2</th>\n      <td>Crystal Dr &amp; 20th St S</td>\n      <td>38.856425</td>\n      <td>-77.049232</td>\n    </tr>\n    <tr>\n      <th>3</th>\n      <td>Crystal Dr &amp; 15th St S</td>\n      <td>38.860170</td>\n      <td>-77.049593</td>\n    </tr>\n    <tr>\n      <th>4</th>\n      <td>Aurora Hills Cmty Ctr / 18th St &amp; S Hayes St</td>\n      <td>38.857866</td>\n      <td>-77.059490</td>\n    </tr>\n  </tbody>\n</table>\n</div>"
     },
     "metadata": {},
     "execution_count": 35
    }
   ],
   "source": [
    "# Building map for all bike stations\n",
    "\n",
    "all_stations = []\n",
    "lat = []\n",
    "lon = []\n",
    "\n",
    "for i in range(len(d_station_information.data[0])):\n",
    "    all_stations.append(d_station_information.data[0][i]['name'])\n",
    "    lat.append(d_station_information.data[0][i]['lat'])\n",
    "    lon.append(d_station_information.data[0][i]['lon'])\n",
    "\n",
    "all_stations = pd.DataFrame(all_stations)\n",
    "lat = pd.DataFrame(lat)\n",
    "lon = pd.DataFrame(lon)\n",
    "all_stations['lat'] = lat\n",
    "all_stations['lon'] = lon\n",
    "all_stations.columns = ['street', 'lat', 'lon']"
   ]
  },
  {
   "cell_type": "code",
   "execution_count": 39,
   "metadata": {},
   "outputs": [
    {
     "output_type": "display_data",
     "data": {
      "application/vnd.plotly.v1+json": {
       "config": {
        "plotlyServerURL": "https://plot.ly"
       },
       "data": [
        {
         "geo": "geo",
         "hovertemplate": "<b>%{hovertext}</b><br><br>lat=%{lat}<br>lon=%{lon}<extra></extra>",
         "hovertext": [
          "Eads St & 15th St S",
          "18th St & S Eads St",
          "Crystal Dr & 20th St S",
          "Crystal Dr & 15th St S",
          "Aurora Hills Cmty Ctr / 18th St & S Hayes St",
          "Pentagon City Metro / 12th St & S Hayes St",
          "Army Navy Dr & S Joyce St",
          "Crystal City Metro / 18th St & S Bell St",
          "Crystal Dr & 27th St S",
          "S Glebe Rd & Potomac Ave",
          "Crystal Dr & 23rd St S",
          "Clark St & 26th St S",
          "19th St & Pennsylvania Ave NW",
          "14th & V St NW",
          "11th & Kenyon St NW",
          "16th & Harvard St NW",
          "Adams Mill & Columbia Rd NW",
          "14th & Harvard St NW",
          "Calvert & Biltmore St NW",
          "Lamont & Mt Pleasant NW",
          "4th & M St SW",
          "15th & P St NW",
          "14th & R St NW",
          "14th & Rhode Island Ave NW",
          "20th & E St NW",
          "21st & I St NW",
          "Georgia & New Hampshire Ave NW",
          "14th St & Spring Rd NW",
          "John McCormack Dr & Michigan Ave NE",
          "5th & K St NW",
          "19th & East Capitol St SE",
          "Park Rd & Holmead Pl NW",
          "Good Hope & Naylor Rd SE",
          "Connecticut Ave & Newark St NW / Cleveland Park",
          "Randle Circle & Minnesota Ave SE",
          "Minnesota Ave Metro/DOES",
          "Nannie Helen Burroughs & Minnesota Ave NE",
          "Anacostia Metro",
          "Good Hope Rd & MLK Ave SE",
          "19th & E Street NW",
          "4th & W St NE",
          "10th & U St NW",
          "Georgia Ave and Fairmont St NW",
          "1st & N St  SE",
          "20th St & Florida Ave NW",
          "7th & T St NW",
          "Eads St & 22nd St S",
          "M St & New Jersey Ave SE",
          "Massachusetts Ave & Dupont Circle NW",
          "1st & M St NE",
          "New Hampshire Ave & Ward Pl NW",
          "17th & K St NW",
          "3rd & H St NW",
          "3rd & D St SE",
          "Potomac & Pennsylvania Ave SE",
          "13th & E St SE",
          "17th & Corcoran St NW",
          "Van Ness Metro / UDC",
          "Florida Ave & R St NW",
          "8th & Eye St SE / Barracks Row",
          "Ward Circle / American University",
          "Wisconsin Ave & Newark St NW",
          "14th St Heights / 14th & Crittenden St NW",
          "Anacostia Library",
          "Pennsylvania & Minnesota Ave SE",
          "Eastern Market / 7th & North Carolina Ave SE",
          "14th St & New York Ave NW",
          "Benning Branch Library",
          "USDA / 12th & C St SW",
          "Georgetown Harbor / 30th St NW",
          "12th & Newton St NE",
          "US Dept of State / Virginia Ave & 21st St NW",
          "L'Enfant Plaza / 7th & C St SW",
          "10th St & Constitution Ave NW",
          "Kennedy Center",
          "Eastern Market Metro / Pennsylvania Ave & 8th St SE",
          "18th & M St NW",
          "Tenleytown / Wisconsin Ave & Albemarle St NW",
          "13th & H St NE",
          "5th & F St NW",
          "New York Ave & 15th St NW",
          "Convention Center / 7th & M St NW",
          "Harvard St & Adams Mill Rd NW",
          "18th & L St NW",
          "C & O Canal & Wisconsin Ave NW",
          "Maine Ave & 7th St SW",
          "D St & Maryland Ave NE",
          "34th St & Wisconsin Ave NW",
          "13th St & New York Ave NW",
          "8th & H St NW",
          "10th & Monroe St NE",
          "Eckington Pl & Q St NE",
          "6th & H St NE",
          "3rd & H St NE",
          "Bladensburg Rd & Benning Rd NE",
          "4th & East Capitol St NE",
          "Lincoln Park / 13th & East Capitol St NE ",
          "Branch & Pennsylvania Ave SE",
          "13th & D St NE",
          "New Hampshire Ave & T St NW",
          "Metro Center / 12th & G St NW",
          "14th & D St NW / Ronald Reagan Building",
          "7th & F St NW / National Portrait Gallery",
          "17th & K St NW / Farragut Square",
          "20th & O St NW / Dupont South",
          "4th & D St NW / Judiciary Square",
          "19th St & Constitution Ave NW",
          "37th & O St NW / Georgetown University",
          "11th & H St NE",
          "25th St & Pennsylvania Ave NW",
          "Columbus Circle / Union Station",
          "North Capitol St & F St NW",
          "11th & M St NW",
          "36th & Calvert St NW / Glover Park",
          "14th & G St NW",
          "Potomac Ave & 35th St S",
          "Ohio Dr & West Basin Dr SW / MLK & FDR Memorials",
          "11th & F St NW",
          "23rd & E St NW ",
          "Lynn St & 19th St North",
          "Rosslyn Metro / Wilson Blvd & Ft Myer Dr",
          "Clarendon Blvd & Pierce St",
          "Wilson Blvd & N Uhle St",
          "Rhodes St & 16th St N",
          "Fairfax Village",
          "21st St & Constitution Ave NW",
          "Wilson Blvd & N Edgewood St",
          "Columbia Rd & Belmont St NW",
          "Rhode Island & Connecticut Ave NW",
          "Thomas Circle",
          "Wilson Blvd & N Franklin Rd",
          "Clarendon Blvd & N Fillmore St",
          "Clarendon Metro / Wilson Blvd & N Highland St",
          "18th St & Pennsylvania Ave NW",
          "4th & C St SW",
          "4th & E St SW",
          "3rd & G St SE",
          "7th & R St NW / Shaw Library",
          "9th & Upshur St NW",
          "1st & Rhode Island Ave NW",
          "Columbia Rd & Georgia Ave NW",
          "California St & Florida Ave NW",
          "Benning Rd & East Capitol St NE / Benning Rd Metro",
          "3000 Connecticut Ave NW / National Zoo",
          "Anacostia Ave & Benning Rd NE / River Terrace ",
          "M St & Pennsylvania Ave NW",
          "15th St & Massachusetts Ave SE",
          "Congress Heights Metro",
          "N Quincy St & Glebe Rd",
          "Barcroft Community Center",
          "N Veitch St & 20th St N",
          "10th & K St NW",
          "Fairfax Dr & Wilson Blvd",
          "Key Blvd & N Quinn St",
          "1st & K St SE",
          "39th & Calvert St NW / Stoddert",
          "1st & Washington Hospital Center NW",
          "Virginia Square Metro / Monroe St & 9th St N",
          "Central Library / Quincy St & 10th St N",
          "Washington Blvd & 10th St N",
          "Jefferson Dr & 14th St SW",
          "Smithsonian-National Mall / Jefferson Dr & 12th St SW",
          "George Mason Dr & Wilson Blvd",
          "6th St & Indiana Ave NW",
          "N Veitch St & Key Blvd",
          "Lee Hwy & N Adams St",
          "15th St & N Scott St",
          "Washington Blvd & 7th St N",
          "Ballston Metro / Stuart St & 9th St N",
          "Fairfax Dr & N Randolph St",
          "Jefferson Memorial",
          "Good Hope Rd & 14th St SE",
          "Glebe Rd & 11th St N",
          "Wilson Blvd & N Quincy St",
          "GMU / Fairfax Dr & Kenmore St",
          "Gallaudet / 8th St & Florida Ave NE",
          "20th & L St NW",
          "12th & L St NW",
          "21st St & Pennsylvania Ave NW",
          "19th & K St NW",
          "Prince St & Union St",
          "Market Square / King St & Royal St",
          "St Asaph & Pendleton St",
          "King St & Patrick St",
          "15th & K St NW",
          "Commerce St & Fayette St",
          "Henry St & Pendleton St",
          "Braddock Rd Metro",
          "King St Metro South",
          "24th & N St NW",
          "10th & E St NW",
          "22nd & I St NW / Foggy Bottom",
          "Utah St & 11th St N",
          "Barton St & 10th St N",
          "Arlington Blvd & N Queen St",
          "Lincoln Memorial",
          "20th St & Virginia Ave NW",
          "5th St & Massachusetts Ave NW",
          "39th & Veazey St NW",
          "Fessenden St & Wisconsin Ave NW",
          "3rd & M St NE",
          "Columbia Pike & S Courthouse Rd",
          "Wakefield High School",
          "28th St & S Meade St",
          "18th St & Wyoming Ave NW",
          "5th & Kennedy St NW",
          "Georgia Ave & Emerson St NW",
          "14th & Upshur St NW",
          "14th St & Colorado Ave NW",
          "Troy St & 26th St S",
          "Four Mile Run Dr & S Shirlington Rd",
          "Columbia Pike & S Oakland St",
          "Four Mile Run Dr & S Walter Reed Dr",
          "S Arlington Mill Dr & Campbell Ave",
          "Kenmore St & 24th St S",
          "13th St & Eastern Ave",
          "Wisconsin Ave & O St NW",
          "Roosevelt Island",
          "Connecticut & Nebraska Ave NW",
          "17th St & Massachusetts Ave NW",
          "15th & Euclid St  NW",
          "8th & East Capitol St NE",
          "New Jersey Ave & R St NW",
          "15th & East Capitol St NE",
          "8th & F St NE",
          "18th St & Rhode Island Ave NE",
          "15th & F St NE",
          "12th & Irving St NE",
          "Alabama & MLK Ave SE",
          "Pleasant St & MLK Ave SE",
          "Neal St & Trinidad Ave NE",
          "12th & U St NW",
          "S George Mason & Four Mile Run Dr",
          "Gravelly Point",
          "Pershing Dr & Wayne St",
          "Columbia Pike & S Orme St",
          "3rd St & Pennsylvania Ave SE",
          "8th & D St NW",
          "3rd & Elm St NW",
          "Rhode Island Ave & V St NE",
          "Constitution Ave & 2nd St NW/DOL",
          "Washington & Independence Ave SW/HHS",
          "Independence Ave & L'Enfant Plaza SW/DOE",
          "Hamlin & 7th St NE",
          "Columbia Pike & S Walter Reed Dr",
          "Arlington Mill Cmty Center / Columbia Pike & S Dinwiddie St",
          "Pershing Dr & N George Mason Dr",
          "Fenton St & New York Ave ",
          "Bethesda Ave & Arlington Rd",
          "Montgomery Ave & Waverly St ",
          "Fallsgrove Blvd & Fallsgrove Dr",
          "Traville Gateway Dr & Gudelsky Dr",
          "Norfolk Ave & Fairmont St",
          "E Montgomery Ave & Maryland Ave",
          "Cordell & Norfolk Ave",
          "Frederick Ave & Horners Ln",
          "Philadelphia & Maple Ave",
          "Maple & Ritchie Ave",
          "Silver Spring Metro / Colesville Rd & Wayne Ave",
          "Montgomery & East Ln",
          "Friendship Hts Metro / Wisconsin Ave & Wisconsin Cir",
          "14th & Belmont St NW",
          "3rd & Tingey St SE",
          "10th & Florida Ave NW",
          "Potomac Ave & 8th St SE",
          "Fallsgrove Dr & W Montgomery Ave",
          "Monroe St & Monroe Pl",
          "Needwood Rd & Eagles Head Ct",
          "East West Hwy & Blair Mill Rd",
          "47th & Elm St",
          "Dennis Ave & Amherst Ave",
          "Montgomery College / W Campus Dr & Mannakee St",
          "Fenton St & Gist Ave",
          "Carroll & Westmoreland Ave",
          "Carroll & Ethan Allen Ave",
          "Battery Ln & Trolley Trail",
          "Norfolk & Rugby Ave",
          "Offutt Ln & Chevy Chase Dr",
          "Fleet St & Ritchie Pkwy",
          "Piccard & W Gude Dr",
          "Silver Spring Transit Center - Top Level",
          "Georgia Ave & Spring St",
          "Fenton St & Ellsworth Dr ",
          "King Farm Blvd & Pleasant Dr",
          "King Farm Blvd & Piccard Dr",
          "Calvert St & Woodley Pl NW",
          "New Jersey Ave & N St NW/Dunbar HS",
          "Nannie Helen Burroughs Ave & 49th St NE",
          "Deanwood Rec Center",
          "Hains Point/Buckeye & Ohio Dr SW",
          "Arlington Blvd & Fillmore St",
          "Eads St & 12th St S",
          "Old Georgetown Rd & Southwick St",
          "Friendship Blvd & Willard Ave",
          "North Capitol St & G Pl NE",
          "31st St & S Woodrow St",
          "Washington Blvd & Walter Reed Dr ",
          "TJ Cmty Ctr / 2nd St & S Old Glebe Rd",
          "Connecticut Ave & Tilden St NW",
          "Medical Center Dr & Key West Ave",
          "Shady Grove Hospital",
          "Veterans Pl & Pershing Dr ",
          "Rockville Metro East",
          "1st & H St NW",
          "Fort Totten Metro",
          "Takoma Metro",
          "Rhode Island Ave Metro",
          "Rolfe St & 9th St S",
          "Shirlington Transit Center / Quincy St & Randolph St",
          "Shady Grove Metro West",
          "River Rd & Landy Ln",
          "Rockville Metro West",
          "Bethesda Metro / Wisconsin Ave & Old Georgetown Rd",
          "Iwo Jima Memorial / Meade & 14th St N",
          "34th & Water St NW",
          "Duke St & John Carlyle St",
          "Lee Hwy & N Cleveland St",
          "Arlington Blvd & S George Mason Dr",
          "10th & G St NW",
          "Lee Hwy & N Scott St",
          "New Hampshire Ave & 24th St NW",
          "Eisenhower Ave & Mill Race Ln",
          "Potomac Greens Dr & Slaters Ln",
          "Ballenger Ave & Dulaney St",
          "Mount Vernon Ave & E Nelson Ave",
          "Mount Vernon Ave & E Del Ray Ave",
          "Monroe Ave & Leslie Ave",
          "Mount Vernon Ave & Kennedy St",
          "Court House Metro / 15th St & N Uhle St",
          "WAU / Flower Ave & Division St",
          "Long Bridge Park / Long Bridge Dr & 6th St S",
          "Connecticut Ave & McKinley St NW",
          "15th & L St NW",
          "17th & G St NW",
          "Spring St & 2nd Ave",
          "18th & R St NW",
          "Joyce St & 16th St S",
          "Union Market",
          "Lee Hwy & N Monroe St",
          "21st St & N Pierce St",
          "Lee Hwy & N Kirkwood Rd",
          "19th & G St NW",
          "2nd St & Seaton Pl NE",
          "Wilson Blvd & N Illinois St ",
          "Army Navy Dr & S Nash St",
          "31st & Water St NW",
          "11th & S St NW",
          "Walter Reed Dr & 8th St S",
          "2nd & G St NE",
          "8th & O St NW",
          "Georgia & Missouri Ave NW",
          "Oklahoma Ave & D St NE",
          "Maryland Ave & E St NE",
          "New York Ave & Hecht Ave NE",
          "Yuma St & Tenley Circle NW",
          "Connecticut Ave & Chevy Chase Lake Dr",
          "Key West Ave & Siesta Key Way",
          "Lee Hwy & N Woodstock St",
          "Saint Asaph St & Madison St",
          "King St Metro North / Cameron St",
          "Madison St & N Henry St",
          "Medical Center Metro ",
          "Washington Blvd & N Frederick St",
          "Wisconsin Ave & Ingomar St NW",
          "16th & Irving St NW",
          "16th & R St NW",
          "Lyttonsville Rd & Lyttonsville Pl",
          "Woodmont Ave & Strathmore St",
          "14th & L St NW",
          "1st & O St NW",
          "South Capitol & Atlantic St SW",
          "18th & C St NW",
          "22nd & P ST NW",
          "East West Hwy & 16th St",
          "Royal St & Wilkes St",
          "14th & Girard St NW",
          "Potomac Ave & Main Line Blvd",
          "11th & O St NW",
          "10th St & L'Enfant Plaza SW",
          "Connecticut Ave & Yuma St NW",
          "2nd St & Massachusetts Ave NE",
          "Radford St & Osage St",
          "East Falls Church Metro / Sycamore St & 19th St N",
          "Kennebec St & 11th St N",
          "Commonwealth Ave & Oak St",
          "Commonwealth Ave & E Monroe Ave",
          "4th St & Madison Dr NW",
          "Henry Bacon Dr & Lincoln Memorial Circle NW",
          "17th St & Independence Ave SW",
          "Franklin St & S Washington St",
          "Mount Vernon Ave & Four Mile Run Park",
          "4th St & K St NW",
          "Mount Vernon Ave & Bruce St",
          "Lee Center",
          "Powhatan St & Bashford Ln",
          "Potomac Ave & Swann Ave",
          "14th & Irving St NW",
          "Vermont Ave & I St NW",
          "Wisconsin Ave & Brandywine St NW",
          "24th & R St NE / National Arboretum",
          "Division Ave & Foote St NE",
          "16th & Q St SE / Anacostia HS",
          "Spring Hill Metro",
          "Westpark Dr & Leesburg Pike",
          "Tysons One Pl & Chain Bridge Rd",
          "Tysons Corner Station",
          "Westpark & Jones Branch Dr",
          "Jones Branch & Westbranch Dr",
          "Westpark & Park Run Dr",
          "Tysons West Transit Center",
          "North Shore & Cameron Crescent Dr/Crescent Apartments",
          "Town Center Pkwy & Bowman Towne Dr",
          "Reston Regional Library",
          "New Dominion Pkwy & Fountain Dr",
          "Sunset Hills & Old Reston Ave",
          "Reston Town Center Transit Station",
          "1st & D St SE",
          "Wiehle Ave & Reston Station Blvd",
          "Library St & Freedom Dr",
          "Sunset Hills Rd & Discovery Square",
          "22nd St & Constitution Ave NW",
          "61st St & Banks Pl NE",
          "Temporary Rd & Old Reston Ave",
          "Reston YMCA",
          "Sunset Hills Rd & Isaac Newton Square",
          "N Lynn St & Fairfax Dr",
          "Georgia Ave & Piney Branch Rd NW",
          "Greensboro & International Dr",
          "Madison St & Fairfax St",
          "Sligo Ave & Carroll Ln",
          "15th & W St NW",
          "12th St & Pennsylvania Ave SE",
          "3rd St & Riggs Rd NE",
          "Carlin Springs Rd & N Thomas St",
          "Towers Crescent Dr & Tysons One Pl",
          "6th & K St NE",
          "Pooks Hill Rd & Linden Ave",
          "Takoma Park Rec Center",
          "New Hampshire & Kirklynn Ave",
          "Wheaton Metro / Georgia Ave & Reedie Dr",
          "Amherst Ave & Elkins St",
          "Amherst Ave & Prichard Rd",
          "Grandview & Blueridge Ave",
          "Windham Ln & Amherst Ave",
          "North Shore Dr & Village Rd",
          "Town Center Pkwy & Sunset Hills Rd",
          "3rd & Underwood St NW",
          "18th & Monroe St NE",
          "7th & E St SW",
          "Shady Grove Metro East",
          "Potomac & M St NW",
          "Columbia & Ontario Rd NW",
          "Washington-Liberty High School / N Stafford St & Generals Way",
          "Westover Library / Washington Blvd & N McKinley Rd",
          "Columbia Pike & S Taylor St",
          "Columbus Ave & Gramercy Blvd",
          "Reston Pkwy & Spectrum Dr",
          "Key West Ave & Great Seneca Hwy",
          "Virginia Ave & 25th St NW",
          "15th & M St NW",
          "11th & Girard St NW",
          "Connecticut Ave & R St NW",
          "Wilson Blvd & N Troy St",
          "American University East Campus",
          "15th St & Constitution Ave NW",
          "23rd & M St NW",
          "Corporate Blvd & Omega Dr",
          "Key West Ave & Diamondback Dr",
          "Alabama Ave & Stanton Rd SE / Shops at Park Village",
          "Mississippi Ave & 19th St SE / THEARC",
          "19th & Savannah St SE",
          "4th St & Mississippi Ave SE",
          "1st & S Capitol St SE / Oxon Run Trail",
          "Livingston Rd & 3rd St SE",
          "Joliet St & MLK Ave SW/Bald Eagle Rec Ctr",
          "37th & Ely Pl SE",
          "15th St & Pennsylvania Ave NW",
          "Maine Ave & 9th St SW",
          "Lincoln Rd & Seaton Pl NE/Harry Thomas Rec Center",
          "Blueridge Ave & Elkin St",
          "Georgia Ave & Kennedy St NW",
          "7th St & Massachusetts Ave NE",
          "Anacostia Park",
          "Twinbrook Metro",
          "White Flint Metro",
          "Citadel Ave & McGrath Blvd",
          "Rockville Pike & Old Georgetown Rd",
          "Woodglen Dr & Executive Blvd",
          "Executive Blvd & E Jefferson St",
          "Fishers Ln & Rock Creek Mill Rd",
          "Congressional Ln & E Jefferson St",
          "Garland Ave & Walden Rd",
          "Greensboro & Pinnacle Dr",
          "1301 McCormick Dr / Wayne K. Curry Admin Bldg",
          "Largo Town Center Metro",
          "Baltimore Ave & Van Buren St / Riverdale Park Station",
          "Baltimore Ave & Jefferson St",
          "Perry & 35th St",
          "Rockville Pike & Meeting St",
          "Potomac Ave & Half St SW",
          "Crystal Dr & Potomac Ave",
          "Largo Rd & Campus Way / Prince Georges's Comm Col",
          "Stanton Square SE",
          "14th & Newton St NW",
          "48th Pl & MacArthur Blvd NW",
          "14th & Luzon St NW",
          "1st & M St SE",
          "Fleet St & Waterfront St",
          "Oxon Hill Park & Ride",
          "11th & Park Rd NW",
          "4th & M St SE",
          "Kansas Ave & Sherman Cr NW",
          "Campus Commons",
          "Park Run & Onyx Dr",
          "7th & K St NW",
          "King Greenleaf Rec Center",
          "Montello Ave & Holbrook Terr NE",
          "New Jersey Ave & F St NW",
          "Maryland Ave & 17th St NE",
          "Massachusetts Ave & 6th St NE",
          "Woodley Park Metro / Calvert St & Connecticut Ave NW",
          "McLean Metro",
          "Trinidad Rec Center",
          "Rosedale Rec Center",
          "11th & C St SE",
          "New Hampshire & Gallatin St NW",
          "United Medical Center",
          "18th & New Hampshire Ave NW",
          "Dunn Loring Metro",
          "Oglethorpe St & 42nd Ave",
          "Southern Ave Metro",
          "Queens Chapel & Hamilton St",
          "Northwestern High School",
          "New Hampshire Ave & East-West Hwy",
          "Rhode Island Ave & 39th St / Brentwood Arts Exchange",
          "Riggs Rd & East West Hwy",
          "Tanger Outlets",
          "Chillum Rd & Riggs Rd / Riggs Plaza",
          "Hyattsville Library / Adelphi Rd & Toledo Rd",
          "George Mason High School / Haycock Rd & Leesburg Pike",
          "State Theatre / Park Pl & N Washington St",
          "N Oak St & W Broad St",
          "Pennsylvania Ave & Park Ave",
          "E Fairfax St & S Washington St",
          "N Roosevelt St & Roosevelt Blvd",
          "W Broad St & Little Falls St",
          "S Maple Ave & S Washington St",
          "Falls Church City Hall / Park Ave & Little Falls St",
          "W Columbia St & N Washington St",
          "West Falls Church Metro",
          "Jones Branch Drive & Scotts Crossing Rd",
          "Georgia Ave & Morton St NW",
          "Merrilee Dr & Lauren Elizabeth Lane",
          "Merrifield Cinema & Merrifield Town Center",
          "Rhode Island & Montana Ave NE",
          "7th & S St NW",
          "North Capitol & R St NE",
          "17th & Upshur St NW",
          "Grant Circle",
          "14th & Otis Pl NW",
          "John McCormack Rd NE",
          "West Hyattsville Metro",
          "Capitol Heights Metro",
          "Prince George's Plaza Metro",
          "Riverdale Park Town Center",
          "The Mall at Prince Georges",
          "Wheaton Library & Community Rec Center",
          "Edgewood Rec Center",
          "8th & K St NE",
          "Kingman Island/The Fields at RFK",
          "Kenilworth Terrace & Hayes St. NE",
          "National Harbor Carousel",
          "Valley Ave & Wheeler Rd SE",
          "Ridge Rd Community Center",
          "Fort Stanton Rec Center",
          "Reservoir Rd & 38th St NW",
          "22nd & H St NW",
          "8th & H St NE",
          "Hardy Rec Center",
          "The Shoppes @ Burnt Mills",
          "Briggs Chaney & Castle Dr",
          "White Oak Rec Center",
          "Briggs Chaney Park & Ride",
          "Stewart & April",
          "Stewart Ln & Old Columbia Pike",
          "New Hampshire & Lockwood",
          "Castle Blvd & Castle Ln",
          "Oak Leaf & Lockwood",
          "White Oak Transit Center",
          "Wilson Blvd. & N. Vermont St.",
          "Oklahoma Ave & Benning Rd NE",
          "Minnesota Ave & R St SE",
          "Vy Reston Heights",
          "1st & K St NE",
          "Wheeler Ave & S. Floyd St.",
          "N. Beauregard St. & Berkley St.",
          "Mt Vernon Trail & S. Washington St.",
          "Eisenhower Ave & Ike Dr",
          "Capitol Ave & Kendall St NE",
          "14th & D St SE",
          "Half & Water St SW",
          "14th & Q St NW",
          "13th & U St NW",
          "Stadium Armory Metro",
          "Broad Branch Rd & Northampton St NW",
          "St. Asaph & Montgomery St",
          "Duke St & Strand (Robinson Terminal)",
          "21st St & G st NW",
          "4th St & G St SW",
          "Kansas Ave & Longfellow St NW",
          "National Airport",
          "Fern St & Army Navy Dr",
          "Arlington Blvd & Ft Myer Dr",
          "23rd St S & Hayes St",
          "Wilson Blvd & N Oak St",
          "Arlington Blvd & Fairfax Dr",
          "2nd & V St SW / James Creek Marina",
          "1st St & Potomac Ave SE",
          "20th & Columbia Rd NW",
          "3rd & M st SE",
          "53rd & D St SE/C.W. Harris Elementary"
         ],
         "lat": [
          38.858971,
          38.85725,
          38.856425,
          38.86017,
          38.857866,
          38.862303,
          38.8637,
          38.85740496261504,
          38.848466,
          38.8426,
          38.8533,
          38.850688,
          38.9003,
          38.9177645,
          38.929464,
          38.926088,
          38.922925,
          38.9268,
          38.923203,
          38.9319,
          38.876697,
          38.909868,
          38.913046,
          38.9086,
          38.8963,
          38.90071062547463,
          38.9366839345886,
          38.9375,
          38.9346,
          38.90304,
          38.8896,
          38.9308,
          38.86005647007575,
          38.934267,
          38.878,
          38.897063,
          38.901385,
          38.862669,
          38.867373,
          38.8952,
          38.919077,
          38.9172,
          38.9249,
          38.8743,
          38.9154,
          38.9155,
          38.85438051517749,
          38.8763,
          38.9101,
          38.905697,
          38.90571079190728,
          38.90276,
          38.899408,
          38.8851,
          38.8803,
          38.88291548476762,
          38.9121,
          38.944551,
          38.9126,
          38.8792,
          38.938736,
          38.934881,
          38.947774,
          38.865784,
          38.873057,
          38.886952,
          38.899632,
          38.894,
          38.88627694506511,
          38.902314,
          38.933668,
          38.894919,
          38.886266,
          38.893028,
          38.897293,
          38.884260087971725,
          38.90506687455313,
          38.947607,
          38.90042673988099,
          38.897222,
          38.89903234416315,
          38.905737,
          38.927872,
          38.903741450919384,
          38.90375,
          38.878693599396954,
          38.894758,
          38.916442,
          38.900283,
          38.8997,
          38.932514,
          38.910972,
          38.899972,
          38.900412,
          38.900413,
          38.889955,
          38.890461,
          38.8692,
          38.894832,
          38.915544,
          38.898364,
          38.894514,
          38.89728304853854,
          38.902061,
          38.908905,
          38.895344,
          38.8923,
          38.90774,
          38.899983,
          38.903827,
          38.89696,
          38.897446,
          38.9055785,
          38.922581,
          38.898409,
          38.844015,
          38.88412,
          38.897857,
          38.896104,
          38.897315,
          38.8946,
          38.893438,
          38.891696,
          38.892164,
          38.86559,
          38.892459,
          38.889,
          38.920669,
          38.905995699991145,
          38.9059,
          38.8904,
          38.8881,
          38.88786,
          38.899680000000004,
          38.88637194054526,
          38.88412,
          38.881185,
          38.912719,
          38.9418,
          38.915417,
          38.92812111132096,
          38.917761,
          38.889935,
          38.930282,
          38.896544,
          38.905126,
          38.88732,
          38.844711,
          38.876393,
          38.85033657788445,
          38.896923,
          38.9024,
          38.885801,
          38.896355,
          38.878854378063295,
          38.922649,
          38.928743,
          38.882788,
          38.88397,
          38.884734,
          38.8885525,
          38.888774,
          38.87887,
          38.894573,
          38.893237,
          38.89593,
          38.89054,
          38.88081,
          38.881044,
          38.882629,
          38.879819,
          38.866611,
          38.883921,
          38.880012,
          38.884616,
          38.90509,
          38.903584,
          38.903819,
          38.901539,
          38.902204,
          38.803124,
          38.804718,
          38.81074147938705,
          38.805317,
          38.902,
          38.805648,
          38.811456,
          38.814577,
          38.80576284873485,
          38.9066,
          38.895914,
          38.90088,
          38.883669,
          38.884961,
          38.889365,
          38.888255,
          38.894722,
          38.90093,
          38.943837,
          38.954812,
          38.905469714943266,
          38.863833,
          38.847129045742605,
          38.846222,
          38.918809,
          38.956555547721955,
          38.949662000000004,
          38.942475355602845,
          38.956432,
          38.847977,
          38.8444,
          38.860789,
          38.84736,
          38.84232,
          38.848454,
          38.987,
          38.90849,
          38.896553,
          38.955016,
          38.908142,
          38.92333,
          38.889988,
          38.912659,
          38.889908,
          38.897274,
          38.927095,
          38.897194999999996,
          38.928644,
          38.84322988730829,
          38.863897,
          38.903732,
          38.916787,
          38.852248,
          38.865029,
          38.880705,
          38.867262,
          38.887378,
          38.894851,
          38.917622,
          38.918155,
          38.892275,
          38.886978,
          38.887312,
          38.927497,
          38.862478,
          38.856319,
          38.871822,
          38.985404,
          38.981103,
          38.983838,
          39.096312,
          39.093783,
          38.988562,
          39.084125,
          38.98954,
          39.094772,
          38.98128,
          38.983627,
          38.99489580319022,
          38.983525,
          38.961763,
          38.921074,
          38.87501,
          38.920387,
          38.876737,
          39.099376,
          39.083673,
          39.123513,
          38.990249,
          38.982456,
          39.02538719623632,
          39.095661,
          38.989724,
          38.975,
          38.977933,
          38.992375,
          38.990639,
          38.977092999999996,
          39.076331,
          39.102212,
          38.99403485060837,
          38.999388,
          38.997033,
          39.114688,
          39.110314,
          38.923583,
          38.90733256111448,
          38.898536,
          38.908473,
          38.878433,
          38.873755,
          38.862753,
          38.999634,
          38.96115,
          38.899703,
          38.837666,
          38.873219,
          38.869418,
          38.94113915653008,
          39.103091,
          39.097636,
          38.997445,
          39.085394,
          38.900358,
          38.952369,
          38.975219,
          38.920682,
          38.866471,
          38.839912,
          39.119765,
          38.964992,
          39.084379,
          38.984691,
          38.889920000000004,
          38.9037315,
          38.804378,
          38.894941,
          38.869442,
          38.89824328774852,
          38.897612,
          38.901755,
          38.801111,
          38.82175,
          38.802677,
          38.820064,
          38.82595,
          38.820932,
          38.833077,
          38.890612,
          38.986743,
          38.865553,
          38.96454350924588,
          38.903649,
          38.898282949523605,
          38.997653,
          38.912648,
          38.859254,
          38.907908,
          38.896456,
          38.898984,
          38.895377,
          38.898412,
          38.914751108831155,
          38.876528,
          38.86215024521491,
          38.902814,
          38.913761,
          38.86612,
          38.89967,
          38.90864,
          38.961339,
          38.894474,
          38.896134,
          38.915604,
          38.946182,
          38.994113,
          39.105295,
          38.898301,
          38.812718,
          38.80704,
          38.813485,
          38.999378,
          38.884829,
          38.958267,
          38.928893,
          38.912652,
          38.999679,
          38.979875,
          38.903658,
          38.908643,
          38.831516,
          38.893511,
          38.909394,
          38.995681,
          38.799267,
          38.925284,
          38.822738,
          38.90843,
          38.88432272414662,
          38.947156,
          38.894972,
          38.828437,
          38.88532071975074,
          38.880992,
          38.812711,
          38.82005823354218,
          38.8904955,
          38.890539,
          38.888097,
          38.798133,
          38.843422,
          38.90240556584194,
          38.841291,
          38.797557,
          38.818748,
          38.829545,
          38.928552,
          38.901136451737045,
          38.949813,
          38.91263,
          38.897407,
          38.870695,
          38.929261,
          38.92403,
          38.919475,
          38.920939,
          38.924437,
          38.931911,
          38.928919,
          38.932636,
          38.970045999999996,
          38.962524,
          38.962095,
          38.960574,
          38.955079,
          38.957037,
          38.884916,
          38.946607921214984,
          38.959633,
          38.95534,
          38.892441,
          38.891805,
          38.960084,
          38.955314,
          38.951443,
          38.893860000000004,
          38.967505,
          38.923083,
          38.812351,
          38.990874,
          38.9190185,
          38.882489,
          38.957463,
          38.876695,
          38.915246,
          38.90293157359119,
          39.014716,
          38.98265,
          38.988101,
          39.038423828518326,
          39.044887,
          39.035965,
          39.043272,
          39.032029,
          38.970412,
          38.955170598044894,
          38.968834,
          38.93293,
          38.88345,
          39.121327,
          38.905368,
          38.924088,
          38.888282,
          38.886048,
          38.858524,
          39.12333,
          38.964207741006206,
          39.105642,
          38.8995,
          38.905424,
          38.925636,
          38.912644,
          38.892556,
          38.936298,
          38.892244,
          38.905303,
          39.106971,
          39.106152,
          38.84627,
          38.84377,
          38.84623,
          38.836,
          38.824481,
          38.82373,
          38.81909,
          38.883011,
          38.89646474748647,
          38.88044,
          38.915,
          39.04313,
          38.95674,
          38.89222,
          38.87335,
          39.062041,
          39.04753,
          39.049,
          39.049765,
          39.04317,
          39.04873,
          39.0629,
          39.06219,
          39.00048,
          38.92245,
          38.908391,
          38.899811,
          38.969581,
          38.95548,
          38.936213,
          39.050539,
          38.86968314861632,
          38.848304,
          38.88994,
          38.855004,
          38.931991,
          38.9170363119413,
          38.969489,
          38.876893,
          38.782633,
          38.798749,
          38.93132185874559,
          38.876751,
          38.94796174822241,
          38.944707,
          38.92755,
          38.902674,
          38.876211,
          38.907444,
          38.897108,
          38.901935,
          38.892934,
          38.923389,
          38.92400207520182,
          38.906299,
          38.897808,
          38.885908,
          38.951596,
          38.835737,
          38.911268,
          38.8828,
          38.959361,
          38.840107,
          38.9546,
          38.975505,
          38.974205,
          38.939271,
          38.9725,
          38.7968,
          38.961737,
          38.9698,
          38.895172,
          38.882746,
          38.88837,
          38.887403,
          38.880612,
          38.878085,
          38.883601,
          38.87972,
          38.885434,
          38.885621,
          38.9001,
          38.928502,
          38.932128,
          38.879355,
          38.870093,
          38.9243,
          38.9142043187298,
          38.912524,
          38.942146,
          38.942024743273045,
          38.934405,
          38.938889,
          38.955349,
          38.888524,
          38.965742,
          38.962119,
          38.968842,
          39.0473228,
          38.924144,
          38.90273216425078,
          38.89595455700754,
          38.90046848783359,
          38.7859,
          38.83664578175751,
          38.876227445751475,
          38.85736903758752,
          38.91261359469192,
          38.89892546716842,
          38.899941626884754,
          38.90970086204467,
          39.0313141,
          39.081638,
          39.0461435,
          39.0778751,
          39.0449444,
          39.0456521,
          39.0391022,
          39.085314,
          39.0379809,
          39.04104,
          38.87947660895433,
          38.8974996,
          38.8693365,
          38.949008,
          38.902386,
          38.808161,
          38.840797,
          38.7930647,
          38.802738,
          38.910993,
          38.8840581,
          38.866277,
          38.910674,
          38.91693645323652,
          38.88548252734069,
          38.96577499342219,
          38.814185,
          38.801947,
          38.898308,
          38.881123,
          38.958098,
          38.852903,
          38.864838,
          38.890863,
          38.853002,
          38.895068,
          38.88625606692058,
          38.863743,
          38.871841,
          38.918036,
          38.876823,
          38.883318
         ],
         "legendgroup": "",
         "lon": [
          -77.05323,
          -77.05332,
          -77.049232,
          -77.049593,
          -77.05949,
          -77.059936,
          -77.0633,
          -77.05113172531128,
          -77.051514,
          -77.0502,
          -77.0498,
          -77.05152,
          -77.0429,
          -77.032096,
          -77.027822,
          -77.036536,
          -77.042581,
          -77.0322,
          -77.047637,
          -77.0388,
          -77.0178975,
          -77.034421,
          -77.032008,
          -77.0323,
          -77.045,
          -77.04644858837128,
          -77.02418088912964,
          -77.0328,
          -76.9955,
          -77.019027,
          -76.9769,
          -77.0315,
          -76.96783974766731,
          -77.057979,
          -76.9607,
          -76.947446,
          -76.941877,
          -76.994637,
          -76.988039,
          -77.0436,
          -77.000648,
          -77.0259,
          -77.0222,
          -77.0057,
          -77.0446,
          -77.0222,
          -77.05341160297394,
          -77.0037,
          -77.0444,
          -77.005483,
          -77.0473176240921,
          -77.03863,
          -77.015289,
          -77.0023,
          -76.9862,
          -76.98790669441223,
          -77.0387,
          -77.063896,
          -77.0135,
          -76.9953,
          -77.087171,
          -77.072755,
          -77.032818,
          -76.9784,
          -76.971015,
          -76.996806,
          -77.031686,
          -76.947974,
          -77.02824175357819,
          -77.0591415,
          -76.991016,
          -77.046587,
          -77.022241,
          -77.026013,
          -77.05557,
          -76.99473559856415,
          -77.04177886247635,
          -77.079382,
          -76.98825001716614,
          -77.019347,
          -77.03335404396057,
          -77.02227,
          -77.043358,
          -77.04245209693909,
          -77.06269,
          -77.02305436134338,
          -76.997114,
          -77.0682,
          -77.029822,
          -77.023086,
          -76.992889,
          -77.00495,
          -76.998347,
          -77.001949,
          -76.982872,
          -77.000349,
          -76.988355,
          -76.9599,
          -76.987633,
          -77.038252,
          -77.027869,
          -77.031617,
          -77.02219069004059,
          -77.038322,
          -77.04478,
          -77.016106,
          -77.0436,
          -77.071652,
          -76.991383,
          -77.053485,
          -77.00493,
          -77.009888,
          -77.027313,
          -77.070334,
          -77.032278,
          -77.050537,
          -77.04657,
          -77.026975,
          -77.049882,
          -77.070993,
          -77.072305,
          -77.076389,
          -77.0846,
          -77.079375,
          -76.952103,
          -77.046567,
          -77.0925,
          -77.04368,
          -77.03980207443237,
          -77.0325,
          -77.0889,
          -77.09308,
          -77.094875,
          -77.041539,
          -77.01770067214966,
          -77.017445,
          -77.001828,
          -77.022155,
          -77.0251,
          -77.012289,
          -77.0237946510315,
          -77.04062,
          -76.93723,
          -77.055599,
          -76.96012,
          -77.056887,
          -76.983569,
          -76.987823,
          -77.107735,
          -77.1009886264801,
          -77.086502,
          -77.02622,
          -77.097745,
          -77.078408,
          -77.00572729110718,
          -77.077271,
          -77.012457,
          -77.103148,
          -77.10783,
          -77.093485,
          -77.032427,
          -77.028694,
          -77.1207,
          -77.01994,
          -77.086063,
          -77.089006,
          -77.08095,
          -77.090792,
          -77.111768,
          -77.109366,
          -77.037413,
          -76.985238,
          -77.116817,
          -77.107854,
          -77.10108,
          -76.9941,
          -77.044789,
          -77.0284,
          -77.046564,
          -77.04337,
          -77.040363,
          -77.043363,
          -77.0446327328682,
          -77.049883,
          -77.03353,
          -77.05293,
          -77.050276,
          -77.052808,
          -77.060626745224,
          -77.05152,
          -77.026064,
          -77.048911,
          -77.113905,
          -77.08777,
          -77.077294,
          -77.0494365,
          -77.045128,
          -77.018677,
          -77.077078,
          -77.082426,
          -77.0021304488182,
          -77.080319,
          -77.1125502884388,
          -77.069275,
          -77.041571,
          -77.0198142528534,
          -77.027333,
          -77.03267812728882,
          -77.032947,
          -77.075104,
          -77.085931,
          -77.09586,
          -77.095431,
          -77.089555,
          -77.084918,
          -77.029417,
          -77.063586,
          -77.06714,
          -77.069956,
          -77.038359,
          -77.0352,
          -76.995193,
          -77.017669,
          -76.983326,
          -76.994749,
          -76.978924,
          -76.983575,
          -76.990955,
          -76.99937582015991,
          -76.990037,
          -76.987211,
          -77.028139,
          -77.105022,
          -77.039511,
          -77.08596,
          -77.072315,
          -77.001955,
          -77.02324,
          -77.01597,
          -77.004746,
          -77.013917,
          -77.013769,
          -77.025762,
          -76.997194,
          -77.086599,
          -77.11153,
          -77.107906,
          -77.023082,
          -77.097426,
          -77.09221,
          -77.192672,
          -77.202501,
          -77.096539,
          -77.151291,
          -77.098029,
          -77.145213,
          -77.011336,
          -77.006311,
          -77.02953189611435,
          -77.095367,
          -77.085998,
          -77.031887,
          -77.0024,
          -77.025672,
          -76.994468,
          -77.188014,
          -77.149162,
          -77.15741,
          -77.02935,
          -77.091991,
          -77.04456299543381,
          -77.159048,
          -77.023854,
          -77.01121,
          -77.006472,
          -77.100104,
          -77.100239,
          -77.094589,
          -77.141378,
          -77.177091,
          -77.03037142753601,
          -77.031555,
          -77.025608,
          -77.171487,
          -77.182669,
          -77.050046,
          -77.01536044478416,
          -76.931862,
          -76.933099,
          -77.03023,
          -77.089233,
          -77.05428,
          -77.109647,
          -77.088659,
          -77.008911,
          -77.09482,
          -77.082104,
          -77.095596,
          -77.061977237463,
          -77.196442,
          -77.196636,
          -77.023894,
          -77.145803,
          -77.012108,
          -77.002721,
          -77.016855,
          -76.995876,
          -77.076131,
          -77.087083,
          -77.166093,
          -77.103381,
          -77.146866,
          -77.094537,
          -77.071301,
          -77.0675285,
          -77.060866,
          -77.09169,
          -77.104503,
          -77.02623546123505,
          -77.080851,
          -77.051084,
          -77.068952,
          -77.047494,
          -77.063562,
          -77.057619,
          -77.058541,
          -77.053096,
          -77.059821,
          -77.084801,
          -77.000035,
          -77.05003,
          -77.07513481378555,
          -77.034918,
          -77.03973233699799,
          -77.034499,
          -77.041834,
          -77.063275,
          -76.99707,
          -77.104562,
          -77.078317,
          -77.09713,
          -77.043182,
          -77.00356006622314,
          -77.12712,
          -77.06812083721161,
          -77.061043,
          -77.027025,
          -77.08787,
          -77.003666,
          -77.02277,
          -77.027855,
          -76.974828,
          -76.9929,
          -76.983683,
          -77.08059,
          -77.076986,
          -77.194774,
          -77.118009,
          -77.044097,
          -77.059817,
          -77.049468,
          -77.097882,
          -77.127671,
          -77.084636,
          -77.03625,
          -77.036278,
          -77.051168,
          -77.093522,
          -77.031737,
          -77.012365,
          -77.008133,
          -77.041544,
          -77.048728,
          -77.038721,
          -77.0447,
          -77.032375,
          -77.049265,
          -77.02714,
          -77.02601015567778,
          -77.065115,
          -77.003135,
          -77.086031,
          -77.15642720460892,
          -77.135271,
          -77.061715,
          -77.06282079219818,
          -77.0172465,
          -77.049383,
          -77.038325,
          -77.0487,
          -77.064016,
          -77.01600551605225,
          -77.063093,
          -77.053766,
          -77.047783,
          -77.047844,
          -77.032224,
          -77.03445106744766,
          -77.080217,
          -76.971923,
          -76.925907,
          -76.982359,
          -77.240654,
          -77.235955,
          -77.221179,
          -77.222115,
          -77.217664,
          -77.219261,
          -77.225394,
          -77.231825,
          -77.338686,
          -77.361902,
          -77.358815,
          -77.356324,
          -77.351649,
          -77.359718,
          -77.005965,
          -77.3393914103508,
          -77.358741,
          -77.357611,
          -77.048947,
          -76.913563,
          -77.353414,
          -77.368416,
          -77.340377,
          -77.070862,
          -77.027976,
          -77.227417,
          -77.040691,
          -77.016311,
          -77.034449,
          -76.990121,
          -77.002239,
          -77.112982,
          -77.220157,
          -76.99840486049652,
          -77.107143,
          -76.988311,
          -76.988422,
          -77.05102041363716,
          -77.047788,
          -77.048395,
          -77.053085,
          -77.04735,
          -77.340787,
          -77.3630940914154,
          -77.016258,
          -76.979517,
          -77.021741,
          -77.164969,
          -77.065149,
          -77.040787,
          -77.111066,
          -77.142317,
          -77.103728,
          -77.16486,
          -77.35428035259247,
          -77.20386,
          -77.054155,
          -77.034674,
          -77.027112,
          -77.04564,
          -77.082089,
          -77.087128,
          -77.033234,
          -77.050264,
          -77.192645,
          -77.202354,
          -76.98185,
          -76.97557,
          -76.97703,
          -77.0009,
          -77.005497,
          -77.00223,
          -77.01033,
          -76.949709,
          -77.0333808660507,
          -77.025236,
          -77.0078,
          -77.05006,
          -77.02791,
          -76.99602,
          -76.9834,
          -77.120776,
          -77.11287,
          -77.10933,
          -77.11368,
          -77.1135,
          -77.1257,
          -77.113454,
          -77.129235,
          -77.00077,
          -77.23034,
          -76.843263,
          -76.844604,
          -76.937349,
          -76.940133,
          -76.960054,
          -77.115212,
          -77.01081544160843,
          -77.05122,
          -76.825535,
          -76.984512,
          -77.032956,
          -77.0957824587822,
          -77.033509,
          -77.006072,
          -77.016059,
          -77.00103,
          -77.02824711799622,
          -77.000736,
          -77.02154964208603,
          -77.335425,
          -77.226644,
          -77.021392,
          -77.012443,
          -76.986813,
          -77.011616,
          -76.978627,
          -76.998273,
          -77.051833,
          -77.20812678337097,
          -76.983221,
          -76.979634,
          -76.991476,
          -77.012808,
          -76.983144,
          -77.041829,
          -77.2283,
          -76.946361,
          -76.9753,
          -76.9595,
          -76.952199,
          -76.995227,
          -76.955047,
          -76.9807,
          -77.0026,
          -76.995922,
          -76.9493,
          -77.190275,
          -77.170032,
          -77.179832,
          -77.176992,
          -77.171891,
          -77.153953,
          -77.173438,
          -77.178408,
          -77.173605,
          -77.166917,
          -77.1887,
          -77.215624,
          -77.0235,
          -77.230681,
          -77.22997,
          -76.9859,
          -77.0221745967865,
          -77.008798,
          -77.038684,
          -77.01822102069855,
          -77.032687,
          -76.997226,
          -76.968084,
          -76.913188,
          -76.954803,
          -76.935578,
          -76.954171,
          -77.0510969,
          -77.002098,
          -76.99514991079923,
          -76.9678448436025,
          -76.9472873210907,
          -77.0167,
          -76.99358886515256,
          -76.94098126958124,
          -76.97768801437633,
          -77.07432264076488,
          -77.04885238395946,
          -76.99489653110504,
          -77.08564639091492,
          -77.0041217,
          -76.945495,
          -76.9757228,
          -76.9418666,
          -76.9811552,
          -76.9854381,
          -76.9918237,
          -76.940547,
          -76.9945391,
          -76.987125,
          -77.11456328630447,
          -76.9695094,
          -76.978519,
          -77.355299,
          -77.005649,
          -77.100796,
          -77.108938,
          -77.049436,
          -77.0824626,
          -76.985854,
          -76.9863852,
          -77.010551,
          -77.03188,
          -77.0296311378479,
          -76.97718724608421,
          -77.06862643361092,
          -77.043809,
          -77.040293,
          -77.046402,
          -77.017658,
          -77.013821,
          -77.045916,
          -77.056873,
          -77.074893,
          -77.059496,
          -77.07386,
          -77.08426237106323,
          -77.013814,
          -77.00591,
          -77.045487,
          -77.002161,
          -76.925315
         ],
         "marker": {
          "color": "#636efa",
          "symbol": "circle"
         },
         "mode": "markers",
         "name": "",
         "showlegend": false,
         "type": "scattergeo"
        }
       ],
       "layout": {
        "geo": {
         "center": {},
         "domain": {
          "x": [
           0,
           1
          ],
          "y": [
           0,
           1
          ]
         }
        },
        "legend": {
         "tracegroupgap": 0
        },
        "margin": {
         "t": 60
        },
        "template": {
         "data": {
          "bar": [
           {
            "error_x": {
             "color": "#2a3f5f"
            },
            "error_y": {
             "color": "#2a3f5f"
            },
            "marker": {
             "line": {
              "color": "#E5ECF6",
              "width": 0.5
             }
            },
            "type": "bar"
           }
          ],
          "barpolar": [
           {
            "marker": {
             "line": {
              "color": "#E5ECF6",
              "width": 0.5
             }
            },
            "type": "barpolar"
           }
          ],
          "carpet": [
           {
            "aaxis": {
             "endlinecolor": "#2a3f5f",
             "gridcolor": "white",
             "linecolor": "white",
             "minorgridcolor": "white",
             "startlinecolor": "#2a3f5f"
            },
            "baxis": {
             "endlinecolor": "#2a3f5f",
             "gridcolor": "white",
             "linecolor": "white",
             "minorgridcolor": "white",
             "startlinecolor": "#2a3f5f"
            },
            "type": "carpet"
           }
          ],
          "choropleth": [
           {
            "colorbar": {
             "outlinewidth": 0,
             "ticks": ""
            },
            "type": "choropleth"
           }
          ],
          "contour": [
           {
            "colorbar": {
             "outlinewidth": 0,
             "ticks": ""
            },
            "colorscale": [
             [
              0,
              "#0d0887"
             ],
             [
              0.1111111111111111,
              "#46039f"
             ],
             [
              0.2222222222222222,
              "#7201a8"
             ],
             [
              0.3333333333333333,
              "#9c179e"
             ],
             [
              0.4444444444444444,
              "#bd3786"
             ],
             [
              0.5555555555555556,
              "#d8576b"
             ],
             [
              0.6666666666666666,
              "#ed7953"
             ],
             [
              0.7777777777777778,
              "#fb9f3a"
             ],
             [
              0.8888888888888888,
              "#fdca26"
             ],
             [
              1,
              "#f0f921"
             ]
            ],
            "type": "contour"
           }
          ],
          "contourcarpet": [
           {
            "colorbar": {
             "outlinewidth": 0,
             "ticks": ""
            },
            "type": "contourcarpet"
           }
          ],
          "heatmap": [
           {
            "colorbar": {
             "outlinewidth": 0,
             "ticks": ""
            },
            "colorscale": [
             [
              0,
              "#0d0887"
             ],
             [
              0.1111111111111111,
              "#46039f"
             ],
             [
              0.2222222222222222,
              "#7201a8"
             ],
             [
              0.3333333333333333,
              "#9c179e"
             ],
             [
              0.4444444444444444,
              "#bd3786"
             ],
             [
              0.5555555555555556,
              "#d8576b"
             ],
             [
              0.6666666666666666,
              "#ed7953"
             ],
             [
              0.7777777777777778,
              "#fb9f3a"
             ],
             [
              0.8888888888888888,
              "#fdca26"
             ],
             [
              1,
              "#f0f921"
             ]
            ],
            "type": "heatmap"
           }
          ],
          "heatmapgl": [
           {
            "colorbar": {
             "outlinewidth": 0,
             "ticks": ""
            },
            "colorscale": [
             [
              0,
              "#0d0887"
             ],
             [
              0.1111111111111111,
              "#46039f"
             ],
             [
              0.2222222222222222,
              "#7201a8"
             ],
             [
              0.3333333333333333,
              "#9c179e"
             ],
             [
              0.4444444444444444,
              "#bd3786"
             ],
             [
              0.5555555555555556,
              "#d8576b"
             ],
             [
              0.6666666666666666,
              "#ed7953"
             ],
             [
              0.7777777777777778,
              "#fb9f3a"
             ],
             [
              0.8888888888888888,
              "#fdca26"
             ],
             [
              1,
              "#f0f921"
             ]
            ],
            "type": "heatmapgl"
           }
          ],
          "histogram": [
           {
            "marker": {
             "colorbar": {
              "outlinewidth": 0,
              "ticks": ""
             }
            },
            "type": "histogram"
           }
          ],
          "histogram2d": [
           {
            "colorbar": {
             "outlinewidth": 0,
             "ticks": ""
            },
            "colorscale": [
             [
              0,
              "#0d0887"
             ],
             [
              0.1111111111111111,
              "#46039f"
             ],
             [
              0.2222222222222222,
              "#7201a8"
             ],
             [
              0.3333333333333333,
              "#9c179e"
             ],
             [
              0.4444444444444444,
              "#bd3786"
             ],
             [
              0.5555555555555556,
              "#d8576b"
             ],
             [
              0.6666666666666666,
              "#ed7953"
             ],
             [
              0.7777777777777778,
              "#fb9f3a"
             ],
             [
              0.8888888888888888,
              "#fdca26"
             ],
             [
              1,
              "#f0f921"
             ]
            ],
            "type": "histogram2d"
           }
          ],
          "histogram2dcontour": [
           {
            "colorbar": {
             "outlinewidth": 0,
             "ticks": ""
            },
            "colorscale": [
             [
              0,
              "#0d0887"
             ],
             [
              0.1111111111111111,
              "#46039f"
             ],
             [
              0.2222222222222222,
              "#7201a8"
             ],
             [
              0.3333333333333333,
              "#9c179e"
             ],
             [
              0.4444444444444444,
              "#bd3786"
             ],
             [
              0.5555555555555556,
              "#d8576b"
             ],
             [
              0.6666666666666666,
              "#ed7953"
             ],
             [
              0.7777777777777778,
              "#fb9f3a"
             ],
             [
              0.8888888888888888,
              "#fdca26"
             ],
             [
              1,
              "#f0f921"
             ]
            ],
            "type": "histogram2dcontour"
           }
          ],
          "mesh3d": [
           {
            "colorbar": {
             "outlinewidth": 0,
             "ticks": ""
            },
            "type": "mesh3d"
           }
          ],
          "parcoords": [
           {
            "line": {
             "colorbar": {
              "outlinewidth": 0,
              "ticks": ""
             }
            },
            "type": "parcoords"
           }
          ],
          "pie": [
           {
            "automargin": true,
            "type": "pie"
           }
          ],
          "scatter": [
           {
            "marker": {
             "colorbar": {
              "outlinewidth": 0,
              "ticks": ""
             }
            },
            "type": "scatter"
           }
          ],
          "scatter3d": [
           {
            "line": {
             "colorbar": {
              "outlinewidth": 0,
              "ticks": ""
             }
            },
            "marker": {
             "colorbar": {
              "outlinewidth": 0,
              "ticks": ""
             }
            },
            "type": "scatter3d"
           }
          ],
          "scattercarpet": [
           {
            "marker": {
             "colorbar": {
              "outlinewidth": 0,
              "ticks": ""
             }
            },
            "type": "scattercarpet"
           }
          ],
          "scattergeo": [
           {
            "marker": {
             "colorbar": {
              "outlinewidth": 0,
              "ticks": ""
             }
            },
            "type": "scattergeo"
           }
          ],
          "scattergl": [
           {
            "marker": {
             "colorbar": {
              "outlinewidth": 0,
              "ticks": ""
             }
            },
            "type": "scattergl"
           }
          ],
          "scattermapbox": [
           {
            "marker": {
             "colorbar": {
              "outlinewidth": 0,
              "ticks": ""
             }
            },
            "type": "scattermapbox"
           }
          ],
          "scatterpolar": [
           {
            "marker": {
             "colorbar": {
              "outlinewidth": 0,
              "ticks": ""
             }
            },
            "type": "scatterpolar"
           }
          ],
          "scatterpolargl": [
           {
            "marker": {
             "colorbar": {
              "outlinewidth": 0,
              "ticks": ""
             }
            },
            "type": "scatterpolargl"
           }
          ],
          "scatterternary": [
           {
            "marker": {
             "colorbar": {
              "outlinewidth": 0,
              "ticks": ""
             }
            },
            "type": "scatterternary"
           }
          ],
          "surface": [
           {
            "colorbar": {
             "outlinewidth": 0,
             "ticks": ""
            },
            "colorscale": [
             [
              0,
              "#0d0887"
             ],
             [
              0.1111111111111111,
              "#46039f"
             ],
             [
              0.2222222222222222,
              "#7201a8"
             ],
             [
              0.3333333333333333,
              "#9c179e"
             ],
             [
              0.4444444444444444,
              "#bd3786"
             ],
             [
              0.5555555555555556,
              "#d8576b"
             ],
             [
              0.6666666666666666,
              "#ed7953"
             ],
             [
              0.7777777777777778,
              "#fb9f3a"
             ],
             [
              0.8888888888888888,
              "#fdca26"
             ],
             [
              1,
              "#f0f921"
             ]
            ],
            "type": "surface"
           }
          ],
          "table": [
           {
            "cells": {
             "fill": {
              "color": "#EBF0F8"
             },
             "line": {
              "color": "white"
             }
            },
            "header": {
             "fill": {
              "color": "#C8D4E3"
             },
             "line": {
              "color": "white"
             }
            },
            "type": "table"
           }
          ]
         },
         "layout": {
          "annotationdefaults": {
           "arrowcolor": "#2a3f5f",
           "arrowhead": 0,
           "arrowwidth": 1
          },
          "autotypenumbers": "strict",
          "coloraxis": {
           "colorbar": {
            "outlinewidth": 0,
            "ticks": ""
           }
          },
          "colorscale": {
           "diverging": [
            [
             0,
             "#8e0152"
            ],
            [
             0.1,
             "#c51b7d"
            ],
            [
             0.2,
             "#de77ae"
            ],
            [
             0.3,
             "#f1b6da"
            ],
            [
             0.4,
             "#fde0ef"
            ],
            [
             0.5,
             "#f7f7f7"
            ],
            [
             0.6,
             "#e6f5d0"
            ],
            [
             0.7,
             "#b8e186"
            ],
            [
             0.8,
             "#7fbc41"
            ],
            [
             0.9,
             "#4d9221"
            ],
            [
             1,
             "#276419"
            ]
           ],
           "sequential": [
            [
             0,
             "#0d0887"
            ],
            [
             0.1111111111111111,
             "#46039f"
            ],
            [
             0.2222222222222222,
             "#7201a8"
            ],
            [
             0.3333333333333333,
             "#9c179e"
            ],
            [
             0.4444444444444444,
             "#bd3786"
            ],
            [
             0.5555555555555556,
             "#d8576b"
            ],
            [
             0.6666666666666666,
             "#ed7953"
            ],
            [
             0.7777777777777778,
             "#fb9f3a"
            ],
            [
             0.8888888888888888,
             "#fdca26"
            ],
            [
             1,
             "#f0f921"
            ]
           ],
           "sequentialminus": [
            [
             0,
             "#0d0887"
            ],
            [
             0.1111111111111111,
             "#46039f"
            ],
            [
             0.2222222222222222,
             "#7201a8"
            ],
            [
             0.3333333333333333,
             "#9c179e"
            ],
            [
             0.4444444444444444,
             "#bd3786"
            ],
            [
             0.5555555555555556,
             "#d8576b"
            ],
            [
             0.6666666666666666,
             "#ed7953"
            ],
            [
             0.7777777777777778,
             "#fb9f3a"
            ],
            [
             0.8888888888888888,
             "#fdca26"
            ],
            [
             1,
             "#f0f921"
            ]
           ]
          },
          "colorway": [
           "#636efa",
           "#EF553B",
           "#00cc96",
           "#ab63fa",
           "#FFA15A",
           "#19d3f3",
           "#FF6692",
           "#B6E880",
           "#FF97FF",
           "#FECB52"
          ],
          "font": {
           "color": "#2a3f5f"
          },
          "geo": {
           "bgcolor": "white",
           "lakecolor": "white",
           "landcolor": "#E5ECF6",
           "showlakes": true,
           "showland": true,
           "subunitcolor": "white"
          },
          "hoverlabel": {
           "align": "left"
          },
          "hovermode": "closest",
          "mapbox": {
           "style": "light"
          },
          "paper_bgcolor": "white",
          "plot_bgcolor": "#E5ECF6",
          "polar": {
           "angularaxis": {
            "gridcolor": "white",
            "linecolor": "white",
            "ticks": ""
           },
           "bgcolor": "#E5ECF6",
           "radialaxis": {
            "gridcolor": "white",
            "linecolor": "white",
            "ticks": ""
           }
          },
          "scene": {
           "xaxis": {
            "backgroundcolor": "#E5ECF6",
            "gridcolor": "white",
            "gridwidth": 2,
            "linecolor": "white",
            "showbackground": true,
            "ticks": "",
            "zerolinecolor": "white"
           },
           "yaxis": {
            "backgroundcolor": "#E5ECF6",
            "gridcolor": "white",
            "gridwidth": 2,
            "linecolor": "white",
            "showbackground": true,
            "ticks": "",
            "zerolinecolor": "white"
           },
           "zaxis": {
            "backgroundcolor": "#E5ECF6",
            "gridcolor": "white",
            "gridwidth": 2,
            "linecolor": "white",
            "showbackground": true,
            "ticks": "",
            "zerolinecolor": "white"
           }
          },
          "shapedefaults": {
           "line": {
            "color": "#2a3f5f"
           }
          },
          "ternary": {
           "aaxis": {
            "gridcolor": "white",
            "linecolor": "white",
            "ticks": ""
           },
           "baxis": {
            "gridcolor": "white",
            "linecolor": "white",
            "ticks": ""
           },
           "bgcolor": "#E5ECF6",
           "caxis": {
            "gridcolor": "white",
            "linecolor": "white",
            "ticks": ""
           }
          },
          "title": {
           "x": 0.05
          },
          "xaxis": {
           "automargin": true,
           "gridcolor": "white",
           "linecolor": "white",
           "ticks": "",
           "title": {
            "standoff": 15
           },
           "zerolinecolor": "white",
           "zerolinewidth": 2
          },
          "yaxis": {
           "automargin": true,
           "gridcolor": "white",
           "linecolor": "white",
           "ticks": "",
           "title": {
            "standoff": 15
           },
           "zerolinecolor": "white",
           "zerolinewidth": 2
          }
         }
        }
       }
      }
     },
     "metadata": {}
    }
   ],
   "source": [
    "#px.set_mapbox_access_token(open(\".mapbox_token\").read())\n",
    "fig = px.scatter_geo(all_stations,\n",
    "                    lat='lat',\n",
    "                    lon='lon',\n",
    "                    hover_name=\"street\")\n",
    "\n",
    "fig.show()"
   ]
  },
  {
   "cell_type": "code",
   "execution_count": null,
   "metadata": {},
   "outputs": [],
   "source": []
  }
 ]
}