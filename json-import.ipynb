{
 "metadata": {
  "language_info": {
   "codemirror_mode": {
    "name": "ipython",
    "version": 3
   },
   "file_extension": ".py",
   "mimetype": "text/x-python",
   "name": "python",
   "nbconvert_exporter": "python",
   "pygments_lexer": "ipython3",
   "version": "3.8.5-final"
  },
  "orig_nbformat": 2,
  "kernelspec": {
   "name": "python3",
   "display_name": "Python 3",
   "language": "python"
  }
 },
 "nbformat": 4,
 "nbformat_minor": 2,
 "cells": [
  {
   "cell_type": "code",
   "execution_count": 123,
   "metadata": {},
   "outputs": [],
   "source": [
    "import pandas as pd\n",
    "import numpy as np"
   ]
  },
  {
   "cell_type": "code",
   "execution_count": 124,
   "metadata": {},
   "outputs": [
    {
     "output_type": "execute_result",
     "data": {
      "text/plain": [
       "621"
      ]
     },
     "metadata": {},
     "execution_count": 124
    }
   ],
   "source": [
    "#d = pd.read_json(\"station_information.json\")\n",
    "d_station_information = pd.read_json('https://gbfs.capitalbikeshare.com/gbfs/en/station_information.json')\n",
    "d = pd.read_json('https://gbfs.capitalbikeshare.com/gbfs/en/station_status.json')\n",
    "len(d_station_information.data['stations'])"
   ]
  },
  {
   "cell_type": "code",
   "execution_count": 125,
   "metadata": {},
   "outputs": [
    {
     "output_type": "execute_result",
     "data": {
      "text/plain": [
       "621"
      ]
     },
     "metadata": {},
     "execution_count": 125
    }
   ],
   "source": [
    "len(d.data[0])"
   ]
  },
  {
   "cell_type": "code",
   "execution_count": 126,
   "metadata": {},
   "outputs": [
    {
     "output_type": "execute_result",
     "data": {
      "text/plain": [
       "{'station_id': '1',\n",
       " 'num_docks_disabled': 0,\n",
       " 'num_bikes_disabled': 0,\n",
       " 'legacy_id': '1',\n",
       " 'is_renting': 1,\n",
       " 'eightd_has_available_keys': False,\n",
       " 'is_installed': 1,\n",
       " 'is_returning': 1,\n",
       " 'num_docks_available': 12,\n",
       " 'last_reported': 1611322881,\n",
       " 'num_ebikes_available': 0,\n",
       " 'num_bikes_available': 3,\n",
       " 'station_status': 'active'}"
      ]
     },
     "metadata": {},
     "execution_count": 126
    }
   ],
   "source": [
    "d.data[0][0]"
   ]
  },
  {
   "cell_type": "code",
   "execution_count": 127,
   "metadata": {},
   "outputs": [
    {
     "output_type": "stream",
     "name": "stdout",
     "text": [
      "Available Bikes:  4050\nAvailable E-Bikes:  225\n"
     ]
    }
   ],
   "source": [
    "av_bikes = []\n",
    "av_e_bikes = []\n",
    "for i in range(len(d.data[0])):\n",
    "    av_bikes.append(d.data[0][i]['num_bikes_available'])\n",
    "    av_e_bikes.append(d.data[0][i]['num_ebikes_available'])\n",
    "print('Available Bikes: ', pd.Series(av_bikes).sum())\n",
    "print('Available E-Bikes: ', pd.Series(av_e_bikes).sum())"
   ]
  },
  {
   "cell_type": "code",
   "execution_count": 128,
   "metadata": {},
   "outputs": [],
   "source": [
    "#d.data['stations'][0]['num_bikes_available']"
   ]
  },
  {
   "cell_type": "code",
   "execution_count": 129,
   "metadata": {},
   "outputs": [
    {
     "output_type": "stream",
     "name": "stdout",
     "text": [
      "Active Stations:  584\n"
     ]
    }
   ],
   "source": [
    "active_station = []\n",
    "for i in range(len(d.data[0])):\n",
    "    active_station.append(d.data[0][i]['is_renting'])\n",
    "print('Active Stations: ', pd.Series(active_station).sum())"
   ]
  },
  {
   "cell_type": "code",
   "execution_count": 130,
   "metadata": {},
   "outputs": [
    {
     "output_type": "execute_result",
     "data": {
      "text/plain": [
       "54"
      ]
     },
     "metadata": {},
     "execution_count": 130
    }
   ],
   "source": [
    "av_bikes.count(0)"
   ]
  },
  {
   "cell_type": "code",
   "execution_count": 131,
   "metadata": {},
   "outputs": [
    {
     "output_type": "stream",
     "name": "stdout",
     "text": [
      "Available Bikes in Active Stations:  4050\n",
      "Available E-Bikes in Active Stations:  225\n",
      "Active Stations:  584\n"
     ]
    }
   ],
   "source": [
    "bikes_active_stations = []\n",
    "e_bikes_active_stations = []\n",
    "stat = []\n",
    "for i in range(len(d.data[0])):\n",
    "    if d.data[0][i]['is_renting'] == 1:\n",
    "        bikes_active_stations.append(d.data[0][i]['num_bikes_available'])\n",
    "        e_bikes_active_stations.append(d.data[0][i]['num_ebikes_available'])\n",
    "        stat.append(d.data[0][i]['is_renting'])\n",
    "print('Available Bikes in Active Stations: ', pd.Series(av_bikes).sum())\n",
    "print('Available E-Bikes in Active Stations: ', pd.Series(av_e_bikes).sum())\n",
    "print('Active Stations: ', pd.Series(stat).count())"
   ]
  },
  {
   "cell_type": "code",
   "execution_count": 132,
   "metadata": {},
   "outputs": [
    {
     "output_type": "stream",
     "name": "stdout",
     "text": [
      "Number of Stations without Available Bikes:  28\nNumber of Stations without Available E-Bikes:  449\n"
     ]
    }
   ],
   "source": [
    "print('Number of Stations without Available Bikes: ', bikes_active_stations.count(0))\n",
    "print('Number of Stations without Available E-Bikes: ', e_bikes_active_stations.count(0))"
   ]
  },
  {
   "cell_type": "code",
   "execution_count": null,
   "metadata": {},
   "outputs": [],
   "source": []
  }
 ]
}