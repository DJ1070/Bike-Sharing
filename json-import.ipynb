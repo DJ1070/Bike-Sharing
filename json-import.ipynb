{
 "metadata": {
  "language_info": {
   "codemirror_mode": {
    "name": "ipython",
    "version": 3
   },
   "file_extension": ".py",
   "mimetype": "text/x-python",
   "name": "python",
   "nbconvert_exporter": "python",
   "pygments_lexer": "ipython3",
   "version": "3.8.5-final"
  },
  "orig_nbformat": 2,
  "kernelspec": {
   "name": "python3",
   "display_name": "Python 3",
   "language": "python"
  }
 },
 "nbformat": 4,
 "nbformat_minor": 2,
 "cells": [
  {
   "cell_type": "code",
   "execution_count": 138,
   "metadata": {},
   "outputs": [],
   "source": [
    "import pandas as pd\n",
    "import numpy as np"
   ]
  },
  {
   "cell_type": "code",
   "execution_count": 139,
   "metadata": {},
   "outputs": [
    {
     "output_type": "execute_result",
     "data": {
      "text/plain": [
       "621"
      ]
     },
     "metadata": {},
     "execution_count": 139
    }
   ],
   "source": [
    "#d = pd.read_json(\"station_information.json\")\n",
    "d_station_information = pd.read_json('https://gbfs.capitalbikeshare.com/gbfs/en/station_information.json')\n",
    "d = pd.read_json('https://gbfs.capitalbikeshare.com/gbfs/en/station_status.json')\n",
    "len(d_station_information.data['stations'])"
   ]
  },
  {
   "cell_type": "code",
   "execution_count": 140,
   "metadata": {},
   "outputs": [
    {
     "output_type": "execute_result",
     "data": {
      "text/plain": [
       "621"
      ]
     },
     "metadata": {},
     "execution_count": 140
    }
   ],
   "source": [
    "len(d.data[0])"
   ]
  },
  {
   "cell_type": "code",
   "execution_count": 141,
   "metadata": {},
   "outputs": [
    {
     "output_type": "execute_result",
     "data": {
      "text/plain": [
       "{'station_id': '1',\n",
       " 'num_docks_disabled': 0,\n",
       " 'num_bikes_disabled': 0,\n",
       " 'legacy_id': '1',\n",
       " 'is_renting': 1,\n",
       " 'eightd_has_available_keys': False,\n",
       " 'is_installed': 1,\n",
       " 'is_returning': 1,\n",
       " 'num_docks_available': 12,\n",
       " 'last_reported': 1611322881,\n",
       " 'num_ebikes_available': 0,\n",
       " 'num_bikes_available': 3,\n",
       " 'station_status': 'active'}"
      ]
     },
     "metadata": {},
     "execution_count": 141
    }
   ],
   "source": [
    "d.data[0][0]"
   ]
  },
  {
   "cell_type": "code",
   "execution_count": 142,
   "metadata": {},
   "outputs": [
    {
     "output_type": "stream",
     "name": "stdout",
     "text": [
      "Available Bikes:  4061\nAvailable E-Bikes:  232\n"
     ]
    }
   ],
   "source": [
    "av_bikes = []\n",
    "av_e_bikes = []\n",
    "for i in range(len(d.data[0])):\n",
    "    av_bikes.append(d.data[0][i]['num_bikes_available'])\n",
    "    av_e_bikes.append(d.data[0][i]['num_ebikes_available'])\n",
    "print('Available Bikes: ', pd.Series(av_bikes).sum())\n",
    "print('Available E-Bikes: ', pd.Series(av_e_bikes).sum())"
   ]
  },
  {
   "cell_type": "code",
   "execution_count": 143,
   "metadata": {},
   "outputs": [],
   "source": [
    "#d.data['stations'][0]['num_bikes_available']"
   ]
  },
  {
   "cell_type": "code",
   "execution_count": 144,
   "metadata": {},
   "outputs": [
    {
     "output_type": "stream",
     "name": "stdout",
     "text": [
      "Active Stations:  585\n"
     ]
    }
   ],
   "source": [
    "active_station = []\n",
    "for i in range(len(d.data[0])):\n",
    "    active_station.append(d.data[0][i]['is_renting'])\n",
    "print('Active Stations: ', pd.Series(active_station).sum())"
   ]
  },
  {
   "cell_type": "code",
   "execution_count": 145,
   "metadata": {},
   "outputs": [
    {
     "output_type": "execute_result",
     "data": {
      "text/plain": [
       "51"
      ]
     },
     "metadata": {},
     "execution_count": 145
    }
   ],
   "source": [
    "av_bikes.count(0)"
   ]
  },
  {
   "cell_type": "code",
   "execution_count": 146,
   "metadata": {},
   "outputs": [
    {
     "output_type": "stream",
     "name": "stdout",
     "text": [
      "Available Bikes in Active Stations:  4061\n",
      "Available E-Bikes in Active Stations:  232\n",
      "Active Stations:  585\n",
      "Inactive Station IDs:  ['41', '55', '76', '82', '83', '103', '104', '105', '108', '109', '113', '117', '124', '133', '141', '168', '169', '171', '199', '204', '248', '251', '252', '253', '310', '369', '393', '408', '409', '410', '419', '439', '443', '456', '488', '501']\n"
     ]
    }
   ],
   "source": [
    "# Evaluation: How many bikes and e-bikes are available at ACTIVE stations?\n",
    "# (We learn that the given data for all available (e-)bikes always equals the available (e-)bikes at active stations.)\n",
    "\n",
    "bikes_active_stations = []\n",
    "e_bikes_active_stations = []\n",
    "stat = []\n",
    "inactive_station_id = []\n",
    "for i in range(len(d.data[0])):\n",
    "    if d.data[0][i]['is_renting'] == 1:\n",
    "        bikes_active_stations.append(d.data[0][i]['num_bikes_available'])\n",
    "        e_bikes_active_stations.append(d.data[0][i]['num_ebikes_available'])\n",
    "        stat.append(d.data[0][i]['is_renting'])\n",
    "    else:\n",
    "        inactive_station_id.append(d.data[0][i]['station_id'])\n",
    "print('Available Bikes in Active Stations: ', pd.Series(av_bikes).sum())\n",
    "print('Available E-Bikes in Active Stations: ', pd.Series(av_e_bikes).sum())\n",
    "print('Active Stations: ', pd.Series(stat).count())\n",
    "print('Inactive Station IDs: ', inactive_station_id)"
   ]
  },
  {
   "cell_type": "code",
   "execution_count": 147,
   "metadata": {},
   "outputs": [
    {
     "output_type": "stream",
     "name": "stdout",
     "text": [
      "Number of Stations without Available Bikes:  26\nNumber of Stations without Available E-Bikes:  446\n"
     ]
    }
   ],
   "source": [
    "print('Number of stations without available bikes: ', bikes_active_stations.count(0))\n",
    "print('Number of stations without available e-bikes: ', e_bikes_active_stations.count(0))"
   ]
  },
  {
   "cell_type": "code",
   "execution_count": 148,
   "metadata": {},
   "outputs": [
    {
     "output_type": "stream",
     "name": "stdout",
     "text": [
      "Stations Numbers without Bikes:  ['7', '26', '41', '56', '76', '82', '83', '98', '108', '117', '124', '130', '133', '139', '140', '141', '158', '166', '167', '168', '169', '182', '199', '204', '206', '233', '251', '252', '253', '255', '266', '310', '332', '349', '393', '400', '408', '409', '410', '443', '456', '482', '488', '493', '495', '501', '509', '645', '646', '648', '659']\nStations Numbers without E-Bikes:  ['1', '2', '3', '5', '6', '8', '10', '11', '12', '13', '14', '15', '16', '17', '18', '20', '21', '23', '24', '25', '29', '30', '31', '32', '34', '36', '37', '38', '40', '42', '44', '45', '46', '47', '48', '49', '51', '52', '54', '58', '59', '60', '62', '64', '65', '67', '69', '70', '71', '72', '73', '74', '77', '79', '80', '81', '84', '86', '88', '89', '90', '91', '92', '94', '95', '96', '100', '102', '106', '107', '111', '112', '114', '115', '116', '118', '126', '127', '128', '131', '132', '134', '135', '136', '137', '138', '143', '144', '145', '146', '148', '149', '150', '152', '153', '154', '155', '156', '159', '165', '170', '172', '173', '174', '175', '176', '177', '178', '180', '183', '185', '186', '187', '190', '191', '192', '193', '194', '195', '196', '197', '198', '201', '202', '203', '207', '209', '210', '212', '213', '216', '217', '218', '219', '221', '222', '223', '224', '225', '227', '229', '230', '231', '232', '234', '237', '239', '240', '241', '244', '246', '249', '250', '254', '257', '259', '260', '261', '262', '263', '264', '267', '269', '270', '272', '273', '274', '275', '277', '278', '279', '280', '282', '283', '284', '285', '286', '287', '288', '293', '294', '295', '296', '298', '299', '302', '303', '305', '306', '311', '312', '313', '315', '316', '318', '320', '321', '322', '323', '324', '325', '326', '327', '329', '330', '331', '333', '334', '335', '337', '339', '340', '341', '346', '350', '351', '352', '353', '355', '356', '357', '358', '359', '364', '365', '367', '368', '370', '373', '374', '375', '376', '378', '379', '381', '382', '384', '385', '386', '387', '389', '390', '391', '392', '394', '395', '396', '397', '399', '401', '402', '403', '405', '406', '407', '411', '412', '413', '414', '416', '417', '420', '421', '423', '425', '427', '428', '429', '430', '432', '433', '434', '435', '436', '437', '438', '440', '441', '442', '445', '447', '448', '450', '451', '453', '455', '457', '458', '459', '461', '463', '464', '465', '466', '467', '468', '470', '471', '472', '473', '474', '475', '476', '477', '479', '480', '481', '483', '484', '485', '486', '490', '491', '492', '494', '496', '497', '498', '499', '500', '505', '506', '507', '508', '511', '512', '513', '514', '515', '516', '517', '518', '519', '520', '521', '522', '523', '525', '527', '529', '531', '533', '536', '537', '539', '540', '541', '542', '543', '545', '548', '549', '550', '552', '553', '554', '556', '560', '563', '564', '565', '567', '568', '569', '570', '573', '575', '577', '579', '580', '582', '583', '584', '586', '587', '589', '593', '595', '596', '597', '598', '601', '602', '603', '604', '606', '609', '610', '613', '614', '615', '617', '618', '619', '621', '623', '624', '625', '626', '628', '630', '632', '633', '634', '636', '637', '638', '639', '640', '643', '647', '649', '650', '651', '652', '653', '654', '655', '656', '657']\n"
     ]
    }
   ],
   "source": [
    "# Which are the stations without available (e-)bikes?\n",
    "\n",
    "bike_empty_stat_id = []\n",
    "e_bike_empty_stat_id = []\n",
    "for i in range(len(d.data[0])):\n",
    "    if d.data[0][i]['num_bikes_available'] == 0:\n",
    "        bike_empty_stat_id.append(d.data[0][i]['station_id'])\n",
    "    elif d.data[0][i]['num_ebikes_available'] == 0:\n",
    "        e_bike_empty_stat_id.append(d.data[0][i]['station_id'])\n",
    "\n",
    "print('Stations numbers without bikes: ', bike_empty_stat_id)\n",
    "print('Stations numbers without e-bikes: ', e_bike_empty_stat_id)"
   ]
  },
  {
   "cell_type": "code",
   "execution_count": 162,
   "metadata": {},
   "outputs": [
    {
     "output_type": "execute_result",
     "data": {
      "text/plain": [
       "{'classic'}"
      ]
     },
     "metadata": {},
     "execution_count": 162
    }
   ],
   "source": [
    "# Check: Which (different) data does \"station_type\" contain?\n",
    "# Ignore if there's no difference between bikes and e-bikes.\n",
    "\n",
    "a = []\n",
    "for i in range(len(d_station_information.data[0])):\n",
    "    a.append(d_station_information.data[0][i]['station_type'])\n",
    "\n",
    "b = set(a)\n",
    "b"
   ]
  },
  {
   "cell_type": "code",
   "execution_count": null,
   "metadata": {},
   "outputs": [],
   "source": [
    "# Getting the real station names from "
   ]
  }
 ]
}