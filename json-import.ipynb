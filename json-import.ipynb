{
 "metadata": {
  "language_info": {
   "codemirror_mode": {
    "name": "ipython",
    "version": 3
   },
   "file_extension": ".py",
   "mimetype": "text/x-python",
   "name": "python",
   "nbconvert_exporter": "python",
   "pygments_lexer": "ipython3",
   "version": "3.8.5-final"
  },
  "orig_nbformat": 2,
  "kernelspec": {
   "name": "python3",
   "display_name": "Python 3",
   "language": "python"
  }
 },
 "nbformat": 4,
 "nbformat_minor": 2,
 "cells": [
  {
   "cell_type": "code",
   "execution_count": 138,
   "metadata": {},
   "outputs": [],
   "source": [
    "import pandas as pd\n",
    "import numpy as np\n",
    "import plotly.express as px"
   ]
  },
  {
   "cell_type": "code",
   "execution_count": 139,
   "metadata": {},
   "outputs": [
    {
     "output_type": "execute_result",
     "data": {
      "text/plain": [
       "621"
      ]
     },
     "metadata": {},
     "execution_count": 139
    }
   ],
   "source": [
    "d_station_information = pd.read_json('https://gbfs.capitalbikeshare.com/gbfs/en/station_information.json')\n",
    "d = pd.read_json('https://gbfs.capitalbikeshare.com/gbfs/en/station_status.json')\n",
    "len(d_station_information.data['stations'])"
   ]
  },
  {
   "cell_type": "code",
   "execution_count": 140,
   "metadata": {},
   "outputs": [
    {
     "output_type": "execute_result",
     "data": {
      "text/plain": [
       "621"
      ]
     },
     "metadata": {},
     "execution_count": 140
    }
   ],
   "source": [
    "len(d.data[0])"
   ]
  },
  {
   "cell_type": "code",
   "execution_count": 141,
   "metadata": {},
   "outputs": [
    {
     "output_type": "execute_result",
     "data": {
      "text/plain": [
       "{'station_id': '1',\n",
       " 'num_docks_disabled': 0,\n",
       " 'num_bikes_disabled': 0,\n",
       " 'legacy_id': '1',\n",
       " 'is_renting': 1,\n",
       " 'eightd_has_available_keys': False,\n",
       " 'is_installed': 1,\n",
       " 'is_returning': 1,\n",
       " 'num_docks_available': 11,\n",
       " 'last_reported': 1611652631,\n",
       " 'num_ebikes_available': 0,\n",
       " 'num_bikes_available': 4,\n",
       " 'station_status': 'active'}"
      ]
     },
     "metadata": {},
     "execution_count": 141
    }
   ],
   "source": [
    "d.data[0][0]"
   ]
  },
  {
   "cell_type": "code",
   "execution_count": 142,
   "metadata": {},
   "outputs": [
    {
     "output_type": "stream",
     "name": "stdout",
     "text": [
      "Available Bikes:  4744\nAvailable E-Bikes:  280\n"
     ]
    }
   ],
   "source": [
    "av_bikes = []\n",
    "av_e_bikes = []\n",
    "for i in range(len(d.data[0])):\n",
    "    av_bikes.append(d.data[0][i]['num_bikes_available'])\n",
    "    av_e_bikes.append(d.data[0][i]['num_ebikes_available'])\n",
    "print('Available Bikes: ', pd.Series(av_bikes).sum())\n",
    "print('Available E-Bikes: ', pd.Series(av_e_bikes).sum())"
   ]
  },
  {
   "cell_type": "code",
   "execution_count": 143,
   "metadata": {},
   "outputs": [],
   "source": [
    "#d.data['stations'][0]['num_bikes_available']"
   ]
  },
  {
   "cell_type": "code",
   "execution_count": 144,
   "metadata": {},
   "outputs": [
    {
     "output_type": "stream",
     "name": "stdout",
     "text": [
      "Active Stations:  618\n"
     ]
    }
   ],
   "source": [
    "active_station = []\n",
    "for i in range(len(d.data[0])):\n",
    "    active_station.append(d.data[0][i]['is_renting'])\n",
    "print('Active Stations: ', pd.Series(active_station).sum())"
   ]
  },
  {
   "cell_type": "code",
   "execution_count": 145,
   "metadata": {},
   "outputs": [
    {
     "output_type": "stream",
     "name": "stdout",
     "text": [
      "Stations with 0 bikes available:  19\nStations with 0 e-bikes available:  436\n"
     ]
    }
   ],
   "source": [
    "print('Stations with 0 bikes available: ',av_bikes.count(0))\n",
    "print('Stations with 0 e-bikes available: ',av_e_bikes.count(0))"
   ]
  },
  {
   "cell_type": "code",
   "execution_count": 146,
   "metadata": {},
   "outputs": [
    {
     "output_type": "stream",
     "name": "stdout",
     "text": [
      "Available Bikes in Active Stations:  4744\nAvailable E-Bikes in Active Stations:  280\nActive Stations:  618\nInactive Station IDs:  ['248', '249', '342']\n"
     ]
    }
   ],
   "source": [
    "# Evaluation: How many bikes and e-bikes are available at ACTIVE stations?\n",
    "# (We learn that the given data for all available (e-)bikes always equals the available (e-)bikes at active stations.)\n",
    "\n",
    "bikes_active_stations = []\n",
    "e_bikes_active_stations = []\n",
    "stat = []\n",
    "inactive_station_id = []\n",
    "for i in range(len(d.data[0])):\n",
    "    if d.data[0][i]['is_renting'] == 1:\n",
    "        bikes_active_stations.append(d.data[0][i]['num_bikes_available'])\n",
    "        e_bikes_active_stations.append(d.data[0][i]['num_ebikes_available'])\n",
    "        stat.append(d.data[0][i]['is_renting'])\n",
    "    else:\n",
    "        inactive_station_id.append(d.data[0][i]['station_id'])\n",
    "print('Available Bikes in Active Stations: ', pd.Series(av_bikes).sum())\n",
    "print('Available E-Bikes in Active Stations: ', pd.Series(av_e_bikes).sum())\n",
    "print('Active Stations: ', pd.Series(stat).count())\n",
    "print('Inactive Station IDs: ', inactive_station_id)"
   ]
  },
  {
   "cell_type": "code",
   "execution_count": 147,
   "metadata": {},
   "outputs": [
    {
     "output_type": "stream",
     "name": "stdout",
     "text": [
      "Number of active stations without available bikes:  19\nNumber of active stations without available e-bikes:  434\n"
     ]
    }
   ],
   "source": [
    "print('Number of active stations without available bikes: ', bikes_active_stations.count(0))\n",
    "print('Number of active stations without available e-bikes: ', e_bikes_active_stations.count(0))"
   ]
  },
  {
   "cell_type": "code",
   "execution_count": 148,
   "metadata": {},
   "outputs": [
    {
     "output_type": "stream",
     "name": "stdout",
     "text": [
      "Stations numbers without bikes:  ['17', '63', '64', '93', '98', '100', '130', '140', '156', '158', '172', '231', '255', '287', '376', '379', '495', '652', '659']\nStations numbers without e-bikes:  ['1', '2', '3', '5', '6', '7', '8', '10', '11', '12', '13', '14', '19', '20', '21', '22', '23', '24', '25', '26', '30', '32', '34', '36', '37', '38', '39', '40', '41', '44', '48', '51', '52', '53', '54', '55', '56', '58', '59', '60', '67', '68', '69', '70', '71', '73', '74', '75', '76', '77', '79', '80', '83', '85', '86', '89', '91', '92', '95', '96', '97', '101', '103', '104', '105', '106', '107', '108', '110', '111', '112', '113', '114', '116', '117', '124', '125', '126', '127', '128', '132', '133', '134', '136', '138', '141', '142', '144', '145', '146', '147', '149', '150', '151', '152', '153', '154', '155', '159', '160', '161', '162', '163', '164', '165', '167', '168', '169', '170', '173', '175', '176', '177', '178', '181', '182', '183', '185', '186', '187', '188', '189', '191', '192', '193', '194', '195', '197', '198', '199', '200', '202', '203', '204', '208', '209', '211', '212', '213', '214', '215', '217', '219', '220', '222', '223', '224', '225', '227', '228', '233', '235', '237', '239', '243', '246', '247', '248', '251', '252', '253', '259', '260', '261', '262', '263', '264', '265', '266', '267', '268', '269', '270', '271', '273', '274', '275', '277', '278', '279', '283', '284', '285', '286', '290', '293', '294', '295', '296', '297', '299', '301', '302', '303', '305', '309', '310', '311', '312', '313', '315', '316', '317', '322', '323', '324', '325', '326', '327', '329', '330', '331', '332', '333', '334', '336', '337', '339', '340', '341', '342', '343', '344', '345', '348', '349', '350', '351', '352', '357', '359', '364', '365', '368', '369', '371', '373', '378', '380', '381', '382', '384', '385', '386', '387', '388', '389', '391', '392', '393', '394', '395', '396', '397', '398', '400', '401', '402', '403', '404', '405', '406', '408', '409', '410', '411', '413', '414', '416', '417', '419', '421', '423', '424', '425', '427', '428', '429', '430', '432', '433', '434', '435', '436', '437', '438', '439', '441', '442', '443', '445', '447', '450', '451', '452', '454', '456', '457', '459', '460', '461', '463', '464', '466', '467', '468', '470', '471', '472', '474', '475', '476', '477', '479', '480', '481', '483', '484', '485', '488', '490', '491', '492', '493', '494', '496', '497', '498', '499', '500', '501', '505', '507', '508', '509', '511', '512', '513', '514', '515', '516', '517', '518', '520', '521', '522', '523', '524', '525', '530', '531', '535', '536', '537', '539', '541', '542', '543', '546', '548', '549', '550', '552', '553', '554', '556', '560', '563', '565', '567', '569', '570', '573', '574', '575', '577', '579', '582', '584', '586', '587', '589', '591', '592', '593', '596', '597', '598', '599', '602', '603', '604', '606', '609', '610', '613', '614', '615', '617', '618', '619', '621', '623', '624', '625', '628', '632', '636', '643', '646', '649', '650', '651', '653', '654', '655', '657']\nStations numbers with only 1 bike left:  ['166', '221', '335', '420', '444', '533']\nStations numbers with only 1 e-bike left:  ['4', '15', '18', '27', '28', '29', '31', '33', '47', '49', '62', '66', '72', '78', '81', '82', '84', '88', '94', '99', '102', '109', '118', '131', '137', '139', '143', '148', '171', '174', '179', '180', '190', '196', '201', '210', '216', '218', '234', '236', '240', '241', '242', '245', '249', '250', '254', '258', '289', '298', '304', '306', '308', '318', '319', '320', '338', '346', '347', '354', '356', '358', '367', '375', '377', '383', '390', '399', '407', '412', '415', '422', '431', '446', '448', '453', '462', '469', '473', '482', '486', '487', '506', '519', '526', '527', '529', '534', '538', '540', '544', '545', '551', '555', '562', '564', '568', '572', '576', '580', '581', '583', '585', '588', '594', '595', '605', '611', '612', '622', '626', '630', '633', '634', '637', '638', '641', '645', '647']\n"
     ]
    }
   ],
   "source": [
    "# Which are the stations without available (e-)bikes?\n",
    "\n",
    "bike_empty_stat_id = []\n",
    "e_bike_empty_stat_id = []\n",
    "only_one_bike_stat_id = []\n",
    "only_one_e_bike_stat_id = []\n",
    "for i in range(len(d.data[0])):\n",
    "    if d.data[0][i]['num_bikes_available'] == 0:\n",
    "        bike_empty_stat_id.append(d.data[0][i]['station_id'])\n",
    "    elif d.data[0][i]['num_ebikes_available'] == 0:\n",
    "        e_bike_empty_stat_id.append(d.data[0][i]['station_id'])\n",
    "    elif d.data[0][i]['num_bikes_available'] == 1:\n",
    "         only_one_bike_stat_id.append(d.data[0][i]['station_id'])\n",
    "    elif d.data[0][i]['num_ebikes_available'] == 1:\n",
    "         only_one_e_bike_stat_id.append(d.data[0][i]['station_id'])\n",
    "\n",
    "print('Stations numbers without bikes: ', bike_empty_stat_id)\n",
    "print('Stations numbers without e-bikes: ', e_bike_empty_stat_id)\n",
    "print('Stations numbers with only 1 bike left: ', only_one_bike_stat_id)\n",
    "print('Stations numbers with only 1 e-bike left: ', only_one_e_bike_stat_id)"
   ]
  },
  {
   "cell_type": "code",
   "execution_count": 149,
   "metadata": {},
   "outputs": [
    {
     "output_type": "execute_result",
     "data": {
      "text/plain": [
       "{'classic'}"
      ]
     },
     "metadata": {},
     "execution_count": 149
    }
   ],
   "source": [
    "# Check: Which (different) data does \"station_type\" contain?\n",
    "# Ignore if there's no difference between bikes and e-bikes.\n",
    "\n",
    "a = []\n",
    "for i in range(len(d_station_information.data[0])):\n",
    "    a.append(d_station_information.data[0][i]['station_type'])\n",
    "\n",
    "b = set(a)\n",
    "b"
   ]
  },
  {
   "cell_type": "code",
   "execution_count": 150,
   "metadata": {},
   "outputs": [
    {
     "output_type": "stream",
     "name": "stdout",
     "text": [
      "{'CREDITCARD', 'KEY'}\n"
     ]
    }
   ],
   "source": [
    "# Check: Which different payment types does \"rental_methods\" contain?\n",
    "\n",
    "payment_types = []\n",
    "for i in range(len(d_station_information.data[0])):\n",
    "    payment_types.append(d_station_information.data[0][i]['rental_methods'])\n",
    "\n",
    "payment_types = list(np.concatenate(payment_types).flat)\n",
    "unique_payment_values = set(payment_types)\n",
    "print(unique_payment_values)"
   ]
  },
  {
   "cell_type": "code",
   "execution_count": 151,
   "metadata": {},
   "outputs": [
    {
     "output_type": "execute_result",
     "data": {
      "text/plain": [
       "<AxesSubplot:>"
      ]
     },
     "metadata": {},
     "execution_count": 151
    },
    {
     "output_type": "display_data",
     "data": {
      "text/plain": "<Figure size 432x288 with 1 Axes>",
      "image/svg+xml": "<?xml version=\"1.0\" encoding=\"utf-8\" standalone=\"no\"?>\r\n<!DOCTYPE svg PUBLIC \"-//W3C//DTD SVG 1.1//EN\"\r\n  \"http://www.w3.org/Graphics/SVG/1.1/DTD/svg11.dtd\">\r\n<!-- Created with matplotlib (https://matplotlib.org/) -->\r\n<svg height=\"252.141989pt\" version=\"1.1\" viewBox=\"0 0 375.2875 252.141989\" width=\"375.2875pt\" xmlns=\"http://www.w3.org/2000/svg\" xmlns:xlink=\"http://www.w3.org/1999/xlink\">\r\n <metadata>\r\n  <rdf:RDF xmlns:cc=\"http://creativecommons.org/ns#\" xmlns:dc=\"http://purl.org/dc/elements/1.1/\" xmlns:rdf=\"http://www.w3.org/1999/02/22-rdf-syntax-ns#\">\r\n   <cc:Work>\r\n    <dc:type rdf:resource=\"http://purl.org/dc/dcmitype/StillImage\"/>\r\n    <dc:date>2021-01-26T11:42:44.268833</dc:date>\r\n    <dc:format>image/svg+xml</dc:format>\r\n    <dc:creator>\r\n     <cc:Agent>\r\n      <dc:title>Matplotlib v3.3.2, https://matplotlib.org/</dc:title>\r\n     </cc:Agent>\r\n    </dc:creator>\r\n   </cc:Work>\r\n  </rdf:RDF>\r\n </metadata>\r\n <defs>\r\n  <style type=\"text/css\">*{stroke-linecap:butt;stroke-linejoin:round;}</style>\r\n </defs>\r\n <g id=\"figure_1\">\r\n  <g id=\"patch_1\">\r\n   <path d=\"M 0 252.141989 \r\nL 375.2875 252.141989 \r\nL 375.2875 0 \r\nL 0 0 \r\nz\r\n\" style=\"fill:none;\"/>\r\n  </g>\r\n  <g id=\"axes_1\">\r\n   <g id=\"patch_2\">\r\n    <path d=\"M 33.2875 228.263864 \r\nL 368.0875 228.263864 \r\nL 368.0875 10.823864 \r\nL 33.2875 10.823864 \r\nz\r\n\" style=\"fill:#ffffff;\"/>\r\n   </g>\r\n   <g id=\"patch_3\">\r\n    <path clip-path=\"url(#pb9532bb2fe)\" d=\"M 33.2875 228.176186 \r\nL 65.173214 228.176186 \r\nL 65.173214 228.000832 \r\nL 33.2875 228.000832 \r\nz\r\n\" style=\"fill:#1f77b4;\"/>\r\n   </g>\r\n   <g id=\"patch_4\">\r\n    <path clip-path=\"url(#pb9532bb2fe)\" d=\"M 33.2875 227.825477 \r\nL 41.258929 227.825477 \r\nL 41.258929 227.650122 \r\nL 33.2875 227.650122 \r\nz\r\n\" style=\"fill:#1f77b4;\"/>\r\n   </g>\r\n   <g id=\"patch_5\">\r\n    <path clip-path=\"url(#pb9532bb2fe)\" d=\"M 33.2875 227.474767 \r\nL 152.858929 227.474767 \r\nL 152.858929 227.299412 \r\nL 33.2875 227.299412 \r\nz\r\n\" style=\"fill:#1f77b4;\"/>\r\n   </g>\r\n   <g id=\"patch_6\">\r\n    <path clip-path=\"url(#pb9532bb2fe)\" d=\"M 33.2875 227.124057 \r\nL 81.116071 227.124057 \r\nL 81.116071 226.948703 \r\nL 33.2875 226.948703 \r\nz\r\n\" style=\"fill:#1f77b4;\"/>\r\n   </g>\r\n   <g id=\"patch_7\">\r\n    <path clip-path=\"url(#pb9532bb2fe)\" d=\"M 33.2875 226.773348 \r\nL 57.201786 226.773348 \r\nL 57.201786 226.597993 \r\nL 33.2875 226.597993 \r\nz\r\n\" style=\"fill:#1f77b4;\"/>\r\n   </g>\r\n   <g id=\"patch_8\">\r\n    <path clip-path=\"url(#pb9532bb2fe)\" d=\"M 33.2875 226.422638 \r\nL 160.830357 226.422638 \r\nL 160.830357 226.247283 \r\nL 33.2875 226.247283 \r\nz\r\n\" style=\"fill:#1f77b4;\"/>\r\n   </g>\r\n   <g id=\"patch_9\">\r\n    <path clip-path=\"url(#pb9532bb2fe)\" d=\"M 33.2875 226.071928 \r\nL 41.258929 226.071928 \r\nL 41.258929 225.896574 \r\nL 33.2875 225.896574 \r\nz\r\n\" style=\"fill:#1f77b4;\"/>\r\n   </g>\r\n   <g id=\"patch_10\">\r\n    <path clip-path=\"url(#pb9532bb2fe)\" d=\"M 33.2875 225.721219 \r\nL 81.116071 225.721219 \r\nL 81.116071 225.545864 \r\nL 33.2875 225.545864 \r\nz\r\n\" style=\"fill:#1f77b4;\"/>\r\n   </g>\r\n   <g id=\"patch_11\">\r\n    <path clip-path=\"url(#pb9532bb2fe)\" d=\"M 33.2875 225.370509 \r\nL 89.0875 225.370509 \r\nL 89.0875 225.195154 \r\nL 33.2875 225.195154 \r\nz\r\n\" style=\"fill:#1f77b4;\"/>\r\n   </g>\r\n   <g id=\"patch_12\">\r\n    <path clip-path=\"url(#pb9532bb2fe)\" d=\"M 33.2875 225.019799 \r\nL 105.030357 225.019799 \r\nL 105.030357 224.844445 \r\nL 33.2875 224.844445 \r\nz\r\n\" style=\"fill:#1f77b4;\"/>\r\n   </g>\r\n   <g id=\"patch_13\">\r\n    <path clip-path=\"url(#pb9532bb2fe)\" d=\"M 33.2875 224.66909 \r\nL 73.144643 224.66909 \r\nL 73.144643 224.493735 \r\nL 33.2875 224.493735 \r\nz\r\n\" style=\"fill:#1f77b4;\"/>\r\n   </g>\r\n   <g id=\"patch_14\">\r\n    <path clip-path=\"url(#pb9532bb2fe)\" d=\"M 33.2875 224.31838 \r\nL 49.230357 224.31838 \r\nL 49.230357 224.143025 \r\nL 33.2875 224.143025 \r\nz\r\n\" style=\"fill:#1f77b4;\"/>\r\n   </g>\r\n   <g id=\"patch_15\">\r\n    <path clip-path=\"url(#pb9532bb2fe)\" d=\"M 33.2875 223.96767 \r\nL 65.173214 223.96767 \r\nL 65.173214 223.792316 \r\nL 33.2875 223.792316 \r\nz\r\n\" style=\"fill:#1f77b4;\"/>\r\n   </g>\r\n   <g id=\"patch_16\">\r\n    <path clip-path=\"url(#pb9532bb2fe)\" d=\"M 33.2875 223.616961 \r\nL 200.6875 223.616961 \r\nL 200.6875 223.441606 \r\nL 33.2875 223.441606 \r\nz\r\n\" style=\"fill:#1f77b4;\"/>\r\n   </g>\r\n   <g id=\"patch_17\">\r\n    <path clip-path=\"url(#pb9532bb2fe)\" d=\"M 33.2875 223.266251 \r\nL 120.973214 223.266251 \r\nL 120.973214 223.090896 \r\nL 33.2875 223.090896 \r\nz\r\n\" style=\"fill:#1f77b4;\"/>\r\n   </g>\r\n   <g id=\"patch_18\">\r\n    <path clip-path=\"url(#pb9532bb2fe)\" d=\"M 33.2875 222.915541 \r\nL 33.2875 222.915541 \r\nL 33.2875 222.740186 \r\nL 33.2875 222.740186 \r\nz\r\n\" style=\"fill:#1f77b4;\"/>\r\n   </g>\r\n   <g id=\"patch_19\">\r\n    <path clip-path=\"url(#pb9532bb2fe)\" d=\"M 33.2875 222.564832 \r\nL 89.0875 222.564832 \r\nL 89.0875 222.389477 \r\nL 33.2875 222.389477 \r\nz\r\n\" style=\"fill:#1f77b4;\"/>\r\n   </g>\r\n   <g id=\"patch_20\">\r\n    <path clip-path=\"url(#pb9532bb2fe)\" d=\"M 33.2875 222.214122 \r\nL 41.258929 222.214122 \r\nL 41.258929 222.038767 \r\nL 33.2875 222.038767 \r\nz\r\n\" style=\"fill:#1f77b4;\"/>\r\n   </g>\r\n   <g id=\"patch_21\">\r\n    <path clip-path=\"url(#pb9532bb2fe)\" d=\"M 33.2875 221.863412 \r\nL 136.916071 221.863412 \r\nL 136.916071 221.688057 \r\nL 33.2875 221.688057 \r\nz\r\n\" style=\"fill:#1f77b4;\"/>\r\n   </g>\r\n   <g id=\"patch_22\">\r\n    <path clip-path=\"url(#pb9532bb2fe)\" d=\"M 33.2875 221.512703 \r\nL 105.030357 221.512703 \r\nL 105.030357 221.337348 \r\nL 33.2875 221.337348 \r\nz\r\n\" style=\"fill:#1f77b4;\"/>\r\n   </g>\r\n   <g id=\"patch_23\">\r\n    <path clip-path=\"url(#pb9532bb2fe)\" d=\"M 33.2875 221.161993 \r\nL 128.944643 221.161993 \r\nL 128.944643 220.986638 \r\nL 33.2875 220.986638 \r\nz\r\n\" style=\"fill:#1f77b4;\"/>\r\n   </g>\r\n   <g id=\"patch_24\">\r\n    <path clip-path=\"url(#pb9532bb2fe)\" d=\"M 33.2875 220.811283 \r\nL 97.058929 220.811283 \r\nL 97.058929 220.635928 \r\nL 33.2875 220.635928 \r\nz\r\n\" style=\"fill:#1f77b4;\"/>\r\n   </g>\r\n   <g id=\"patch_25\">\r\n    <path clip-path=\"url(#pb9532bb2fe)\" d=\"M 33.2875 220.460574 \r\nL 89.0875 220.460574 \r\nL 89.0875 220.285219 \r\nL 33.2875 220.285219 \r\nz\r\n\" style=\"fill:#1f77b4;\"/>\r\n   </g>\r\n   <g id=\"patch_26\">\r\n    <path clip-path=\"url(#pb9532bb2fe)\" d=\"M 33.2875 220.109864 \r\nL 65.173214 220.109864 \r\nL 65.173214 219.934509 \r\nL 33.2875 219.934509 \r\nz\r\n\" style=\"fill:#1f77b4;\"/>\r\n   </g>\r\n   <g id=\"patch_27\">\r\n    <path clip-path=\"url(#pb9532bb2fe)\" d=\"M 33.2875 219.759154 \r\nL 97.058929 219.759154 \r\nL 97.058929 219.583799 \r\nL 33.2875 219.583799 \r\nz\r\n\" style=\"fill:#1f77b4;\"/>\r\n   </g>\r\n   <g id=\"patch_28\">\r\n    <path clip-path=\"url(#pb9532bb2fe)\" d=\"M 33.2875 219.408445 \r\nL 184.744643 219.408445 \r\nL 184.744643 219.23309 \r\nL 33.2875 219.23309 \r\nz\r\n\" style=\"fill:#1f77b4;\"/>\r\n   </g>\r\n   <g id=\"patch_29\">\r\n    <path clip-path=\"url(#pb9532bb2fe)\" d=\"M 33.2875 219.057735 \r\nL 57.201786 219.057735 \r\nL 57.201786 218.88238 \r\nL 33.2875 218.88238 \r\nz\r\n\" style=\"fill:#1f77b4;\"/>\r\n   </g>\r\n   <g id=\"patch_30\">\r\n    <path clip-path=\"url(#pb9532bb2fe)\" d=\"M 33.2875 218.707025 \r\nL 81.116071 218.707025 \r\nL 81.116071 218.53167 \r\nL 33.2875 218.53167 \r\nz\r\n\" style=\"fill:#1f77b4;\"/>\r\n   </g>\r\n   <g id=\"patch_31\">\r\n    <path clip-path=\"url(#pb9532bb2fe)\" d=\"M 33.2875 218.356316 \r\nL 81.116071 218.356316 \r\nL 81.116071 218.180961 \r\nL 33.2875 218.180961 \r\nz\r\n\" style=\"fill:#1f77b4;\"/>\r\n   </g>\r\n   <g id=\"patch_32\">\r\n    <path clip-path=\"url(#pb9532bb2fe)\" d=\"M 33.2875 218.005606 \r\nL 89.0875 218.005606 \r\nL 89.0875 217.830251 \r\nL 33.2875 217.830251 \r\nz\r\n\" style=\"fill:#1f77b4;\"/>\r\n   </g>\r\n   <g id=\"patch_33\">\r\n    <path clip-path=\"url(#pb9532bb2fe)\" d=\"M 33.2875 217.654896 \r\nL 89.0875 217.654896 \r\nL 89.0875 217.479541 \r\nL 33.2875 217.479541 \r\nz\r\n\" style=\"fill:#1f77b4;\"/>\r\n   </g>\r\n   <g id=\"patch_34\">\r\n    <path clip-path=\"url(#pb9532bb2fe)\" d=\"M 33.2875 217.304186 \r\nL 81.116071 217.304186 \r\nL 81.116071 217.128832 \r\nL 33.2875 217.128832 \r\nz\r\n\" style=\"fill:#1f77b4;\"/>\r\n   </g>\r\n   <g id=\"patch_35\">\r\n    <path clip-path=\"url(#pb9532bb2fe)\" d=\"M 33.2875 216.953477 \r\nL 65.173214 216.953477 \r\nL 65.173214 216.778122 \r\nL 33.2875 216.778122 \r\nz\r\n\" style=\"fill:#1f77b4;\"/>\r\n   </g>\r\n   <g id=\"patch_36\">\r\n    <path clip-path=\"url(#pb9532bb2fe)\" d=\"M 33.2875 216.602767 \r\nL 73.144643 216.602767 \r\nL 73.144643 216.427412 \r\nL 33.2875 216.427412 \r\nz\r\n\" style=\"fill:#1f77b4;\"/>\r\n   </g>\r\n   <g id=\"patch_37\">\r\n    <path clip-path=\"url(#pb9532bb2fe)\" d=\"M 33.2875 216.252057 \r\nL 81.116071 216.252057 \r\nL 81.116071 216.076703 \r\nL 33.2875 216.076703 \r\nz\r\n\" style=\"fill:#1f77b4;\"/>\r\n   </g>\r\n   <g id=\"patch_38\">\r\n    <path clip-path=\"url(#pb9532bb2fe)\" d=\"M 33.2875 215.901348 \r\nL 57.201786 215.901348 \r\nL 57.201786 215.725993 \r\nL 33.2875 215.725993 \r\nz\r\n\" style=\"fill:#1f77b4;\"/>\r\n   </g>\r\n   <g id=\"patch_39\">\r\n    <path clip-path=\"url(#pb9532bb2fe)\" d=\"M 33.2875 215.550638 \r\nL 49.230357 215.550638 \r\nL 49.230357 215.375283 \r\nL 33.2875 215.375283 \r\nz\r\n\" style=\"fill:#1f77b4;\"/>\r\n   </g>\r\n   <g id=\"patch_40\">\r\n    <path clip-path=\"url(#pb9532bb2fe)\" d=\"M 33.2875 215.199928 \r\nL 89.0875 215.199928 \r\nL 89.0875 215.024574 \r\nL 33.2875 215.024574 \r\nz\r\n\" style=\"fill:#1f77b4;\"/>\r\n   </g>\r\n   <g id=\"patch_41\">\r\n    <path clip-path=\"url(#pb9532bb2fe)\" d=\"M 33.2875 214.849219 \r\nL 49.230357 214.849219 \r\nL 49.230357 214.673864 \r\nL 33.2875 214.673864 \r\nz\r\n\" style=\"fill:#1f77b4;\"/>\r\n   </g>\r\n   <g id=\"patch_42\">\r\n    <path clip-path=\"url(#pb9532bb2fe)\" d=\"M 33.2875 214.498509 \r\nL 81.116071 214.498509 \r\nL 81.116071 214.323154 \r\nL 33.2875 214.323154 \r\nz\r\n\" style=\"fill:#1f77b4;\"/>\r\n   </g>\r\n   <g id=\"patch_43\">\r\n    <path clip-path=\"url(#pb9532bb2fe)\" d=\"M 33.2875 214.147799 \r\nL 136.916071 214.147799 \r\nL 136.916071 213.972445 \r\nL 33.2875 213.972445 \r\nz\r\n\" style=\"fill:#1f77b4;\"/>\r\n   </g>\r\n   <g id=\"patch_44\">\r\n    <path clip-path=\"url(#pb9532bb2fe)\" d=\"M 33.2875 213.79709 \r\nL 81.116071 213.79709 \r\nL 81.116071 213.621735 \r\nL 33.2875 213.621735 \r\nz\r\n\" style=\"fill:#1f77b4;\"/>\r\n   </g>\r\n   <g id=\"patch_45\">\r\n    <path clip-path=\"url(#pb9532bb2fe)\" d=\"M 33.2875 213.44638 \r\nL 65.173214 213.44638 \r\nL 65.173214 213.271025 \r\nL 33.2875 213.271025 \r\nz\r\n\" style=\"fill:#1f77b4;\"/>\r\n   </g>\r\n   <g id=\"patch_46\">\r\n    <path clip-path=\"url(#pb9532bb2fe)\" d=\"M 33.2875 213.09567 \r\nL 232.573214 213.09567 \r\nL 232.573214 212.920316 \r\nL 33.2875 212.920316 \r\nz\r\n\" style=\"fill:#1f77b4;\"/>\r\n   </g>\r\n   <g id=\"patch_47\">\r\n    <path clip-path=\"url(#pb9532bb2fe)\" d=\"M 33.2875 212.744961 \r\nL 128.944643 212.744961 \r\nL 128.944643 212.569606 \r\nL 33.2875 212.569606 \r\nz\r\n\" style=\"fill:#1f77b4;\"/>\r\n   </g>\r\n   <g id=\"patch_48\">\r\n    <path clip-path=\"url(#pb9532bb2fe)\" d=\"M 33.2875 212.394251 \r\nL 136.916071 212.394251 \r\nL 136.916071 212.218896 \r\nL 33.2875 212.218896 \r\nz\r\n\" style=\"fill:#1f77b4;\"/>\r\n   </g>\r\n   <g id=\"patch_49\">\r\n    <path clip-path=\"url(#pb9532bb2fe)\" d=\"M 33.2875 212.043541 \r\nL 128.944643 212.043541 \r\nL 128.944643 211.868186 \r\nL 33.2875 211.868186 \r\nz\r\n\" style=\"fill:#1f77b4;\"/>\r\n   </g>\r\n   <g id=\"patch_50\">\r\n    <path clip-path=\"url(#pb9532bb2fe)\" d=\"M 33.2875 211.692832 \r\nL 65.173214 211.692832 \r\nL 65.173214 211.517477 \r\nL 33.2875 211.517477 \r\nz\r\n\" style=\"fill:#1f77b4;\"/>\r\n   </g>\r\n   <g id=\"patch_51\">\r\n    <path clip-path=\"url(#pb9532bb2fe)\" d=\"M 33.2875 211.342122 \r\nL 352.144643 211.342122 \r\nL 352.144643 211.166767 \r\nL 33.2875 211.166767 \r\nz\r\n\" style=\"fill:#1f77b4;\"/>\r\n   </g>\r\n   <g id=\"patch_52\">\r\n    <path clip-path=\"url(#pb9532bb2fe)\" d=\"M 33.2875 210.991412 \r\nL 73.144643 210.991412 \r\nL 73.144643 210.816057 \r\nL 33.2875 210.816057 \r\nz\r\n\" style=\"fill:#1f77b4;\"/>\r\n   </g>\r\n   <g id=\"patch_53\">\r\n    <path clip-path=\"url(#pb9532bb2fe)\" d=\"M 33.2875 210.640703 \r\nL 136.916071 210.640703 \r\nL 136.916071 210.465348 \r\nL 33.2875 210.465348 \r\nz\r\n\" style=\"fill:#1f77b4;\"/>\r\n   </g>\r\n   <g id=\"patch_54\">\r\n    <path clip-path=\"url(#pb9532bb2fe)\" d=\"M 33.2875 210.289993 \r\nL 176.773214 210.289993 \r\nL 176.773214 210.114638 \r\nL 33.2875 210.114638 \r\nz\r\n\" style=\"fill:#1f77b4;\"/>\r\n   </g>\r\n   <g id=\"patch_55\">\r\n    <path clip-path=\"url(#pb9532bb2fe)\" d=\"M 33.2875 209.939283 \r\nL 128.944643 209.939283 \r\nL 128.944643 209.763928 \r\nL 33.2875 209.763928 \r\nz\r\n\" style=\"fill:#1f77b4;\"/>\r\n   </g>\r\n   <g id=\"patch_56\">\r\n    <path clip-path=\"url(#pb9532bb2fe)\" d=\"M 33.2875 209.588574 \r\nL 73.144643 209.588574 \r\nL 73.144643 209.413219 \r\nL 33.2875 209.413219 \r\nz\r\n\" style=\"fill:#1f77b4;\"/>\r\n   </g>\r\n   <g id=\"patch_57\">\r\n    <path clip-path=\"url(#pb9532bb2fe)\" d=\"M 33.2875 209.237864 \r\nL 65.173214 209.237864 \r\nL 65.173214 209.062509 \r\nL 33.2875 209.062509 \r\nz\r\n\" style=\"fill:#1f77b4;\"/>\r\n   </g>\r\n   <g id=\"patch_58\">\r\n    <path clip-path=\"url(#pb9532bb2fe)\" d=\"M 33.2875 208.887154 \r\nL 89.0875 208.887154 \r\nL 89.0875 208.711799 \r\nL 33.2875 208.711799 \r\nz\r\n\" style=\"fill:#1f77b4;\"/>\r\n   </g>\r\n   <g id=\"patch_59\">\r\n    <path clip-path=\"url(#pb9532bb2fe)\" d=\"M 33.2875 208.536445 \r\nL 184.744643 208.536445 \r\nL 184.744643 208.36109 \r\nL 33.2875 208.36109 \r\nz\r\n\" style=\"fill:#1f77b4;\"/>\r\n   </g>\r\n   <g id=\"patch_60\">\r\n    <path clip-path=\"url(#pb9532bb2fe)\" d=\"M 33.2875 208.185735 \r\nL 89.0875 208.185735 \r\nL 89.0875 208.01038 \r\nL 33.2875 208.01038 \r\nz\r\n\" style=\"fill:#1f77b4;\"/>\r\n   </g>\r\n   <g id=\"patch_61\">\r\n    <path clip-path=\"url(#pb9532bb2fe)\" d=\"M 33.2875 207.835025 \r\nL 97.058929 207.835025 \r\nL 97.058929 207.65967 \r\nL 33.2875 207.65967 \r\nz\r\n\" style=\"fill:#1f77b4;\"/>\r\n   </g>\r\n   <g id=\"patch_62\">\r\n    <path clip-path=\"url(#pb9532bb2fe)\" d=\"M 33.2875 207.484316 \r\nL 81.116071 207.484316 \r\nL 81.116071 207.308961 \r\nL 33.2875 207.308961 \r\nz\r\n\" style=\"fill:#1f77b4;\"/>\r\n   </g>\r\n   <g id=\"patch_63\">\r\n    <path clip-path=\"url(#pb9532bb2fe)\" d=\"M 33.2875 207.133606 \r\nL 33.2875 207.133606 \r\nL 33.2875 206.958251 \r\nL 33.2875 206.958251 \r\nz\r\n\" style=\"fill:#1f77b4;\"/>\r\n   </g>\r\n   <g id=\"patch_64\">\r\n    <path clip-path=\"url(#pb9532bb2fe)\" d=\"M 33.2875 206.782896 \r\nL 33.2875 206.782896 \r\nL 33.2875 206.607541 \r\nL 33.2875 206.607541 \r\nz\r\n\" style=\"fill:#1f77b4;\"/>\r\n   </g>\r\n   <g id=\"patch_65\">\r\n    <path clip-path=\"url(#pb9532bb2fe)\" d=\"M 33.2875 206.432186 \r\nL 97.058929 206.432186 \r\nL 97.058929 206.256832 \r\nL 33.2875 206.256832 \r\nz\r\n\" style=\"fill:#1f77b4;\"/>\r\n   </g>\r\n   <g id=\"patch_66\">\r\n    <path clip-path=\"url(#pb9532bb2fe)\" d=\"M 33.2875 206.081477 \r\nL 81.116071 206.081477 \r\nL 81.116071 205.906122 \r\nL 33.2875 205.906122 \r\nz\r\n\" style=\"fill:#1f77b4;\"/>\r\n   </g>\r\n   <g id=\"patch_67\">\r\n    <path clip-path=\"url(#pb9532bb2fe)\" d=\"M 33.2875 205.730767 \r\nL 105.030357 205.730767 \r\nL 105.030357 205.555412 \r\nL 33.2875 205.555412 \r\nz\r\n\" style=\"fill:#1f77b4;\"/>\r\n   </g>\r\n   <g id=\"patch_68\">\r\n    <path clip-path=\"url(#pb9532bb2fe)\" d=\"M 33.2875 205.380057 \r\nL 57.201786 205.380057 \r\nL 57.201786 205.204703 \r\nL 33.2875 205.204703 \r\nz\r\n\" style=\"fill:#1f77b4;\"/>\r\n   </g>\r\n   <g id=\"patch_69\">\r\n    <path clip-path=\"url(#pb9532bb2fe)\" d=\"M 33.2875 205.029348 \r\nL 192.716071 205.029348 \r\nL 192.716071 204.853993 \r\nL 33.2875 204.853993 \r\nz\r\n\" style=\"fill:#1f77b4;\"/>\r\n   </g>\r\n   <g id=\"patch_70\">\r\n    <path clip-path=\"url(#pb9532bb2fe)\" d=\"M 33.2875 204.678638 \r\nL 65.173214 204.678638 \r\nL 65.173214 204.503283 \r\nL 33.2875 204.503283 \r\nz\r\n\" style=\"fill:#1f77b4;\"/>\r\n   </g>\r\n   <g id=\"patch_71\">\r\n    <path clip-path=\"url(#pb9532bb2fe)\" d=\"M 33.2875 204.327928 \r\nL 81.116071 204.327928 \r\nL 81.116071 204.152574 \r\nL 33.2875 204.152574 \r\nz\r\n\" style=\"fill:#1f77b4;\"/>\r\n   </g>\r\n   <g id=\"patch_72\">\r\n    <path clip-path=\"url(#pb9532bb2fe)\" d=\"M 33.2875 203.977219 \r\nL 128.944643 203.977219 \r\nL 128.944643 203.801864 \r\nL 33.2875 203.801864 \r\nz\r\n\" style=\"fill:#1f77b4;\"/>\r\n   </g>\r\n   <g id=\"patch_73\">\r\n    <path clip-path=\"url(#pb9532bb2fe)\" d=\"M 33.2875 203.626509 \r\nL 81.116071 203.626509 \r\nL 81.116071 203.451154 \r\nL 33.2875 203.451154 \r\nz\r\n\" style=\"fill:#1f77b4;\"/>\r\n   </g>\r\n   <g id=\"patch_74\">\r\n    <path clip-path=\"url(#pb9532bb2fe)\" d=\"M 33.2875 203.275799 \r\nL 65.173214 203.275799 \r\nL 65.173214 203.100445 \r\nL 33.2875 203.100445 \r\nz\r\n\" style=\"fill:#1f77b4;\"/>\r\n   </g>\r\n   <g id=\"patch_75\">\r\n    <path clip-path=\"url(#pb9532bb2fe)\" d=\"M 33.2875 202.92509 \r\nL 41.258929 202.92509 \r\nL 41.258929 202.749735 \r\nL 33.2875 202.749735 \r\nz\r\n\" style=\"fill:#1f77b4;\"/>\r\n   </g>\r\n   <g id=\"patch_76\">\r\n    <path clip-path=\"url(#pb9532bb2fe)\" d=\"M 33.2875 202.57438 \r\nL 144.8875 202.57438 \r\nL 144.8875 202.399025 \r\nL 33.2875 202.399025 \r\nz\r\n\" style=\"fill:#1f77b4;\"/>\r\n   </g>\r\n   <g id=\"patch_77\">\r\n    <path clip-path=\"url(#pb9532bb2fe)\" d=\"M 33.2875 202.22367 \r\nL 160.830357 202.22367 \r\nL 160.830357 202.048316 \r\nL 33.2875 202.048316 \r\nz\r\n\" style=\"fill:#1f77b4;\"/>\r\n   </g>\r\n   <g id=\"patch_78\">\r\n    <path clip-path=\"url(#pb9532bb2fe)\" d=\"M 33.2875 201.872961 \r\nL 120.973214 201.872961 \r\nL 120.973214 201.697606 \r\nL 33.2875 201.697606 \r\nz\r\n\" style=\"fill:#1f77b4;\"/>\r\n   </g>\r\n   <g id=\"patch_79\">\r\n    <path clip-path=\"url(#pb9532bb2fe)\" d=\"M 33.2875 201.522251 \r\nL 208.658929 201.522251 \r\nL 208.658929 201.346896 \r\nL 33.2875 201.346896 \r\nz\r\n\" style=\"fill:#1f77b4;\"/>\r\n   </g>\r\n   <g id=\"patch_80\">\r\n    <path clip-path=\"url(#pb9532bb2fe)\" d=\"M 33.2875 201.171541 \r\nL 49.230357 201.171541 \r\nL 49.230357 200.996186 \r\nL 33.2875 200.996186 \r\nz\r\n\" style=\"fill:#1f77b4;\"/>\r\n   </g>\r\n   <g id=\"patch_81\">\r\n    <path clip-path=\"url(#pb9532bb2fe)\" d=\"M 33.2875 200.820832 \r\nL 136.916071 200.820832 \r\nL 136.916071 200.645477 \r\nL 33.2875 200.645477 \r\nz\r\n\" style=\"fill:#1f77b4;\"/>\r\n   </g>\r\n   <g id=\"patch_82\">\r\n    <path clip-path=\"url(#pb9532bb2fe)\" d=\"M 33.2875 200.470122 \r\nL 184.744643 200.470122 \r\nL 184.744643 200.294767 \r\nL 33.2875 200.294767 \r\nz\r\n\" style=\"fill:#1f77b4;\"/>\r\n   </g>\r\n   <g id=\"patch_83\">\r\n    <path clip-path=\"url(#pb9532bb2fe)\" d=\"M 33.2875 200.119412 \r\nL 81.116071 200.119412 \r\nL 81.116071 199.944057 \r\nL 33.2875 199.944057 \r\nz\r\n\" style=\"fill:#1f77b4;\"/>\r\n   </g>\r\n   <g id=\"patch_84\">\r\n    <path clip-path=\"url(#pb9532bb2fe)\" d=\"M 33.2875 199.768703 \r\nL 65.173214 199.768703 \r\nL 65.173214 199.593348 \r\nL 33.2875 199.593348 \r\nz\r\n\" style=\"fill:#1f77b4;\"/>\r\n   </g>\r\n   <g id=\"patch_85\">\r\n    <path clip-path=\"url(#pb9532bb2fe)\" d=\"M 33.2875 199.417993 \r\nL 105.030357 199.417993 \r\nL 105.030357 199.242638 \r\nL 33.2875 199.242638 \r\nz\r\n\" style=\"fill:#1f77b4;\"/>\r\n   </g>\r\n   <g id=\"patch_86\">\r\n    <path clip-path=\"url(#pb9532bb2fe)\" d=\"M 33.2875 199.067283 \r\nL 81.116071 199.067283 \r\nL 81.116071 198.891928 \r\nL 33.2875 198.891928 \r\nz\r\n\" style=\"fill:#1f77b4;\"/>\r\n   </g>\r\n   <g id=\"patch_87\">\r\n    <path clip-path=\"url(#pb9532bb2fe)\" d=\"M 33.2875 198.716574 \r\nL 168.801786 198.716574 \r\nL 168.801786 198.541219 \r\nL 33.2875 198.541219 \r\nz\r\n\" style=\"fill:#1f77b4;\"/>\r\n   </g>\r\n   <g id=\"patch_88\">\r\n    <path clip-path=\"url(#pb9532bb2fe)\" d=\"M 33.2875 198.365864 \r\nL 128.944643 198.365864 \r\nL 128.944643 198.190509 \r\nL 33.2875 198.190509 \r\nz\r\n\" style=\"fill:#1f77b4;\"/>\r\n   </g>\r\n   <g id=\"patch_89\">\r\n    <path clip-path=\"url(#pb9532bb2fe)\" d=\"M 33.2875 198.015154 \r\nL 41.258929 198.015154 \r\nL 41.258929 197.839799 \r\nL 33.2875 197.839799 \r\nz\r\n\" style=\"fill:#1f77b4;\"/>\r\n   </g>\r\n   <g id=\"patch_90\">\r\n    <path clip-path=\"url(#pb9532bb2fe)\" d=\"M 33.2875 197.664445 \r\nL 81.116071 197.664445 \r\nL 81.116071 197.48909 \r\nL 33.2875 197.48909 \r\nz\r\n\" style=\"fill:#1f77b4;\"/>\r\n   </g>\r\n   <g id=\"patch_91\">\r\n    <path clip-path=\"url(#pb9532bb2fe)\" d=\"M 33.2875 197.313735 \r\nL 184.744643 197.313735 \r\nL 184.744643 197.13838 \r\nL 33.2875 197.13838 \r\nz\r\n\" style=\"fill:#1f77b4;\"/>\r\n   </g>\r\n   <g id=\"patch_92\">\r\n    <path clip-path=\"url(#pb9532bb2fe)\" d=\"M 33.2875 196.963025 \r\nL 89.0875 196.963025 \r\nL 89.0875 196.78767 \r\nL 33.2875 196.78767 \r\nz\r\n\" style=\"fill:#1f77b4;\"/>\r\n   </g>\r\n   <g id=\"patch_93\">\r\n    <path clip-path=\"url(#pb9532bb2fe)\" d=\"M 33.2875 196.612316 \r\nL 33.2875 196.612316 \r\nL 33.2875 196.436961 \r\nL 33.2875 196.436961 \r\nz\r\n\" style=\"fill:#1f77b4;\"/>\r\n   </g>\r\n   <g id=\"patch_94\">\r\n    <path clip-path=\"url(#pb9532bb2fe)\" d=\"M 33.2875 196.261606 \r\nL 73.144643 196.261606 \r\nL 73.144643 196.086251 \r\nL 33.2875 196.086251 \r\nz\r\n\" style=\"fill:#1f77b4;\"/>\r\n   </g>\r\n   <g id=\"patch_95\">\r\n    <path clip-path=\"url(#pb9532bb2fe)\" d=\"M 33.2875 195.910896 \r\nL 128.944643 195.910896 \r\nL 128.944643 195.735541 \r\nL 33.2875 195.735541 \r\nz\r\n\" style=\"fill:#1f77b4;\"/>\r\n   </g>\r\n   <g id=\"patch_96\">\r\n    <path clip-path=\"url(#pb9532bb2fe)\" d=\"M 33.2875 195.560186 \r\nL 128.944643 195.560186 \r\nL 128.944643 195.384832 \r\nL 33.2875 195.384832 \r\nz\r\n\" style=\"fill:#1f77b4;\"/>\r\n   </g>\r\n   <g id=\"patch_97\">\r\n    <path clip-path=\"url(#pb9532bb2fe)\" d=\"M 33.2875 195.209477 \r\nL 113.001786 195.209477 \r\nL 113.001786 195.034122 \r\nL 33.2875 195.034122 \r\nz\r\n\" style=\"fill:#1f77b4;\"/>\r\n   </g>\r\n   <g id=\"patch_98\">\r\n    <path clip-path=\"url(#pb9532bb2fe)\" d=\"M 33.2875 194.858767 \r\nL 33.2875 194.858767 \r\nL 33.2875 194.683412 \r\nL 33.2875 194.683412 \r\nz\r\n\" style=\"fill:#1f77b4;\"/>\r\n   </g>\r\n   <g id=\"patch_99\">\r\n    <path clip-path=\"url(#pb9532bb2fe)\" d=\"M 33.2875 194.508057 \r\nL 113.001786 194.508057 \r\nL 113.001786 194.332703 \r\nL 33.2875 194.332703 \r\nz\r\n\" style=\"fill:#1f77b4;\"/>\r\n   </g>\r\n   <g id=\"patch_100\">\r\n    <path clip-path=\"url(#pb9532bb2fe)\" d=\"M 33.2875 194.157348 \r\nL 33.2875 194.157348 \r\nL 33.2875 193.981993 \r\nL 33.2875 193.981993 \r\nz\r\n\" style=\"fill:#1f77b4;\"/>\r\n   </g>\r\n   <g id=\"patch_101\">\r\n    <path clip-path=\"url(#pb9532bb2fe)\" d=\"M 33.2875 193.806638 \r\nL 97.058929 193.806638 \r\nL 97.058929 193.631283 \r\nL 33.2875 193.631283 \r\nz\r\n\" style=\"fill:#1f77b4;\"/>\r\n   </g>\r\n   <g id=\"patch_102\">\r\n    <path clip-path=\"url(#pb9532bb2fe)\" d=\"M 33.2875 193.455928 \r\nL 160.830357 193.455928 \r\nL 160.830357 193.280574 \r\nL 33.2875 193.280574 \r\nz\r\n\" style=\"fill:#1f77b4;\"/>\r\n   </g>\r\n   <g id=\"patch_103\">\r\n    <path clip-path=\"url(#pb9532bb2fe)\" d=\"M 33.2875 193.105219 \r\nL 288.373214 193.105219 \r\nL 288.373214 192.929864 \r\nL 33.2875 192.929864 \r\nz\r\n\" style=\"fill:#1f77b4;\"/>\r\n   </g>\r\n   <g id=\"patch_104\">\r\n    <path clip-path=\"url(#pb9532bb2fe)\" d=\"M 33.2875 192.754509 \r\nL 41.258929 192.754509 \r\nL 41.258929 192.579154 \r\nL 33.2875 192.579154 \r\nz\r\n\" style=\"fill:#1f77b4;\"/>\r\n   </g>\r\n   <g id=\"patch_105\">\r\n    <path clip-path=\"url(#pb9532bb2fe)\" d=\"M 33.2875 192.403799 \r\nL 128.944643 192.403799 \r\nL 128.944643 192.228445 \r\nL 33.2875 192.228445 \r\nz\r\n\" style=\"fill:#1f77b4;\"/>\r\n   </g>\r\n   <g id=\"patch_106\">\r\n    <path clip-path=\"url(#pb9532bb2fe)\" d=\"M 33.2875 192.05309 \r\nL 152.858929 192.05309 \r\nL 152.858929 191.877735 \r\nL 33.2875 191.877735 \r\nz\r\n\" style=\"fill:#1f77b4;\"/>\r\n   </g>\r\n   <g id=\"patch_107\">\r\n    <path clip-path=\"url(#pb9532bb2fe)\" d=\"M 33.2875 191.70238 \r\nL 128.944643 191.70238 \r\nL 128.944643 191.527025 \r\nL 33.2875 191.527025 \r\nz\r\n\" style=\"fill:#1f77b4;\"/>\r\n   </g>\r\n   <g id=\"patch_108\">\r\n    <path clip-path=\"url(#pb9532bb2fe)\" d=\"M 33.2875 191.35167 \r\nL 105.030357 191.35167 \r\nL 105.030357 191.176316 \r\nL 33.2875 191.176316 \r\nz\r\n\" style=\"fill:#1f77b4;\"/>\r\n   </g>\r\n   <g id=\"patch_109\">\r\n    <path clip-path=\"url(#pb9532bb2fe)\" d=\"M 33.2875 191.000961 \r\nL 232.573214 191.000961 \r\nL 232.573214 190.825606 \r\nL 33.2875 190.825606 \r\nz\r\n\" style=\"fill:#1f77b4;\"/>\r\n   </g>\r\n   <g id=\"patch_110\">\r\n    <path clip-path=\"url(#pb9532bb2fe)\" d=\"M 33.2875 190.650251 \r\nL 128.944643 190.650251 \r\nL 128.944643 190.474896 \r\nL 33.2875 190.474896 \r\nz\r\n\" style=\"fill:#1f77b4;\"/>\r\n   </g>\r\n   <g id=\"patch_111\">\r\n    <path clip-path=\"url(#pb9532bb2fe)\" d=\"M 33.2875 190.299541 \r\nL 105.030357 190.299541 \r\nL 105.030357 190.124186 \r\nL 33.2875 190.124186 \r\nz\r\n\" style=\"fill:#1f77b4;\"/>\r\n   </g>\r\n   <g id=\"patch_112\">\r\n    <path clip-path=\"url(#pb9532bb2fe)\" d=\"M 33.2875 189.948832 \r\nL 65.173214 189.948832 \r\nL 65.173214 189.773477 \r\nL 33.2875 189.773477 \r\nz\r\n\" style=\"fill:#1f77b4;\"/>\r\n   </g>\r\n   <g id=\"patch_113\">\r\n    <path clip-path=\"url(#pb9532bb2fe)\" d=\"M 33.2875 189.598122 \r\nL 264.458929 189.598122 \r\nL 264.458929 189.422767 \r\nL 33.2875 189.422767 \r\nz\r\n\" style=\"fill:#1f77b4;\"/>\r\n   </g>\r\n   <g id=\"patch_114\">\r\n    <path clip-path=\"url(#pb9532bb2fe)\" d=\"M 33.2875 189.247412 \r\nL 105.030357 189.247412 \r\nL 105.030357 189.072057 \r\nL 33.2875 189.072057 \r\nz\r\n\" style=\"fill:#1f77b4;\"/>\r\n   </g>\r\n   <g id=\"patch_115\">\r\n    <path clip-path=\"url(#pb9532bb2fe)\" d=\"M 33.2875 188.896703 \r\nL 160.830357 188.896703 \r\nL 160.830357 188.721348 \r\nL 33.2875 188.721348 \r\nz\r\n\" style=\"fill:#1f77b4;\"/>\r\n   </g>\r\n   <g id=\"patch_116\">\r\n    <path clip-path=\"url(#pb9532bb2fe)\" d=\"M 33.2875 188.545993 \r\nL 49.230357 188.545993 \r\nL 49.230357 188.370638 \r\nL 33.2875 188.370638 \r\nz\r\n\" style=\"fill:#1f77b4;\"/>\r\n   </g>\r\n   <g id=\"patch_117\">\r\n    <path clip-path=\"url(#pb9532bb2fe)\" d=\"M 33.2875 188.195283 \r\nL 152.858929 188.195283 \r\nL 152.858929 188.019928 \r\nL 33.2875 188.019928 \r\nz\r\n\" style=\"fill:#1f77b4;\"/>\r\n   </g>\r\n   <g id=\"patch_118\">\r\n    <path clip-path=\"url(#pb9532bb2fe)\" d=\"M 33.2875 187.844574 \r\nL 160.830357 187.844574 \r\nL 160.830357 187.669219 \r\nL 33.2875 187.669219 \r\nz\r\n\" style=\"fill:#1f77b4;\"/>\r\n   </g>\r\n   <g id=\"patch_119\">\r\n    <path clip-path=\"url(#pb9532bb2fe)\" d=\"M 33.2875 187.493864 \r\nL 120.973214 187.493864 \r\nL 120.973214 187.318509 \r\nL 33.2875 187.318509 \r\nz\r\n\" style=\"fill:#1f77b4;\"/>\r\n   </g>\r\n   <g id=\"patch_120\">\r\n    <path clip-path=\"url(#pb9532bb2fe)\" d=\"M 33.2875 187.143154 \r\nL 89.0875 187.143154 \r\nL 89.0875 186.967799 \r\nL 33.2875 186.967799 \r\nz\r\n\" style=\"fill:#1f77b4;\"/>\r\n   </g>\r\n   <g id=\"patch_121\">\r\n    <path clip-path=\"url(#pb9532bb2fe)\" d=\"M 33.2875 186.792445 \r\nL 128.944643 186.792445 \r\nL 128.944643 186.61709 \r\nL 33.2875 186.61709 \r\nz\r\n\" style=\"fill:#1f77b4;\"/>\r\n   </g>\r\n   <g id=\"patch_122\">\r\n    <path clip-path=\"url(#pb9532bb2fe)\" d=\"M 33.2875 186.441735 \r\nL 224.601786 186.441735 \r\nL 224.601786 186.26638 \r\nL 33.2875 186.26638 \r\nz\r\n\" style=\"fill:#1f77b4;\"/>\r\n   </g>\r\n   <g id=\"patch_123\">\r\n    <path clip-path=\"url(#pb9532bb2fe)\" d=\"M 33.2875 186.091025 \r\nL 176.773214 186.091025 \r\nL 176.773214 185.91567 \r\nL 33.2875 185.91567 \r\nz\r\n\" style=\"fill:#1f77b4;\"/>\r\n   </g>\r\n   <g id=\"patch_124\">\r\n    <path clip-path=\"url(#pb9532bb2fe)\" d=\"M 33.2875 185.740316 \r\nL 128.944643 185.740316 \r\nL 128.944643 185.564961 \r\nL 33.2875 185.564961 \r\nz\r\n\" style=\"fill:#1f77b4;\"/>\r\n   </g>\r\n   <g id=\"patch_125\">\r\n    <path clip-path=\"url(#pb9532bb2fe)\" d=\"M 33.2875 185.389606 \r\nL 33.2875 185.389606 \r\nL 33.2875 185.214251 \r\nL 33.2875 185.214251 \r\nz\r\n\" style=\"fill:#1f77b4;\"/>\r\n   </g>\r\n   <g id=\"patch_126\">\r\n    <path clip-path=\"url(#pb9532bb2fe)\" d=\"M 33.2875 185.038896 \r\nL 49.230357 185.038896 \r\nL 49.230357 184.863541 \r\nL 33.2875 184.863541 \r\nz\r\n\" style=\"fill:#1f77b4;\"/>\r\n   </g>\r\n   <g id=\"patch_127\">\r\n    <path clip-path=\"url(#pb9532bb2fe)\" d=\"M 33.2875 184.688186 \r\nL 65.173214 184.688186 \r\nL 65.173214 184.512832 \r\nL 33.2875 184.512832 \r\nz\r\n\" style=\"fill:#1f77b4;\"/>\r\n   </g>\r\n   <g id=\"patch_128\">\r\n    <path clip-path=\"url(#pb9532bb2fe)\" d=\"M 33.2875 184.337477 \r\nL 49.230357 184.337477 \r\nL 49.230357 184.162122 \r\nL 33.2875 184.162122 \r\nz\r\n\" style=\"fill:#1f77b4;\"/>\r\n   </g>\r\n   <g id=\"patch_129\">\r\n    <path clip-path=\"url(#pb9532bb2fe)\" d=\"M 33.2875 183.986767 \r\nL 41.258929 183.986767 \r\nL 41.258929 183.811412 \r\nL 33.2875 183.811412 \r\nz\r\n\" style=\"fill:#1f77b4;\"/>\r\n   </g>\r\n   <g id=\"patch_130\">\r\n    <path clip-path=\"url(#pb9532bb2fe)\" d=\"M 33.2875 183.636057 \r\nL 136.916071 183.636057 \r\nL 136.916071 183.460703 \r\nL 33.2875 183.460703 \r\nz\r\n\" style=\"fill:#1f77b4;\"/>\r\n   </g>\r\n   <g id=\"patch_131\">\r\n    <path clip-path=\"url(#pb9532bb2fe)\" d=\"M 33.2875 183.285348 \r\nL 144.8875 183.285348 \r\nL 144.8875 183.109993 \r\nL 33.2875 183.109993 \r\nz\r\n\" style=\"fill:#1f77b4;\"/>\r\n   </g>\r\n   <g id=\"patch_132\">\r\n    <path clip-path=\"url(#pb9532bb2fe)\" d=\"M 33.2875 182.934638 \r\nL 89.0875 182.934638 \r\nL 89.0875 182.759283 \r\nL 33.2875 182.759283 \r\nz\r\n\" style=\"fill:#1f77b4;\"/>\r\n   </g>\r\n   <g id=\"patch_133\">\r\n    <path clip-path=\"url(#pb9532bb2fe)\" d=\"M 33.2875 182.583928 \r\nL 81.116071 182.583928 \r\nL 81.116071 182.408574 \r\nL 33.2875 182.408574 \r\nz\r\n\" style=\"fill:#1f77b4;\"/>\r\n   </g>\r\n   <g id=\"patch_134\">\r\n    <path clip-path=\"url(#pb9532bb2fe)\" d=\"M 33.2875 182.233219 \r\nL 89.0875 182.233219 \r\nL 89.0875 182.057864 \r\nL 33.2875 182.057864 \r\nz\r\n\" style=\"fill:#1f77b4;\"/>\r\n   </g>\r\n   <g id=\"patch_135\">\r\n    <path clip-path=\"url(#pb9532bb2fe)\" d=\"M 33.2875 181.882509 \r\nL 33.2875 181.882509 \r\nL 33.2875 181.707154 \r\nL 33.2875 181.707154 \r\nz\r\n\" style=\"fill:#1f77b4;\"/>\r\n   </g>\r\n   <g id=\"patch_136\">\r\n    <path clip-path=\"url(#pb9532bb2fe)\" d=\"M 33.2875 181.531799 \r\nL 49.230357 181.531799 \r\nL 49.230357 181.356445 \r\nL 33.2875 181.356445 \r\nz\r\n\" style=\"fill:#1f77b4;\"/>\r\n   </g>\r\n   <g id=\"patch_137\">\r\n    <path clip-path=\"url(#pb9532bb2fe)\" d=\"M 33.2875 181.18109 \r\nL 208.658929 181.18109 \r\nL 208.658929 181.005735 \r\nL 33.2875 181.005735 \r\nz\r\n\" style=\"fill:#1f77b4;\"/>\r\n   </g>\r\n   <g id=\"patch_138\">\r\n    <path clip-path=\"url(#pb9532bb2fe)\" d=\"M 33.2875 180.83038 \r\nL 113.001786 180.83038 \r\nL 113.001786 180.655025 \r\nL 33.2875 180.655025 \r\nz\r\n\" style=\"fill:#1f77b4;\"/>\r\n   </g>\r\n   <g id=\"patch_139\">\r\n    <path clip-path=\"url(#pb9532bb2fe)\" d=\"M 33.2875 180.47967 \r\nL 73.144643 180.47967 \r\nL 73.144643 180.304316 \r\nL 33.2875 180.304316 \r\nz\r\n\" style=\"fill:#1f77b4;\"/>\r\n   </g>\r\n   <g id=\"patch_140\">\r\n    <path clip-path=\"url(#pb9532bb2fe)\" d=\"M 33.2875 180.128961 \r\nL 97.058929 180.128961 \r\nL 97.058929 179.953606 \r\nL 33.2875 179.953606 \r\nz\r\n\" style=\"fill:#1f77b4;\"/>\r\n   </g>\r\n   <g id=\"patch_141\">\r\n    <path clip-path=\"url(#pb9532bb2fe)\" d=\"M 33.2875 179.778251 \r\nL 97.058929 179.778251 \r\nL 97.058929 179.602896 \r\nL 33.2875 179.602896 \r\nz\r\n\" style=\"fill:#1f77b4;\"/>\r\n   </g>\r\n   <g id=\"patch_142\">\r\n    <path clip-path=\"url(#pb9532bb2fe)\" d=\"M 33.2875 179.427541 \r\nL 97.058929 179.427541 \r\nL 97.058929 179.252186 \r\nL 33.2875 179.252186 \r\nz\r\n\" style=\"fill:#1f77b4;\"/>\r\n   </g>\r\n   <g id=\"patch_143\">\r\n    <path clip-path=\"url(#pb9532bb2fe)\" d=\"M 33.2875 179.076832 \r\nL 97.058929 179.076832 \r\nL 97.058929 178.901477 \r\nL 33.2875 178.901477 \r\nz\r\n\" style=\"fill:#1f77b4;\"/>\r\n   </g>\r\n   <g id=\"patch_144\">\r\n    <path clip-path=\"url(#pb9532bb2fe)\" d=\"M 33.2875 178.726122 \r\nL 97.058929 178.726122 \r\nL 97.058929 178.550767 \r\nL 33.2875 178.550767 \r\nz\r\n\" style=\"fill:#1f77b4;\"/>\r\n   </g>\r\n   <g id=\"patch_145\">\r\n    <path clip-path=\"url(#pb9532bb2fe)\" d=\"M 33.2875 178.375412 \r\nL 57.201786 178.375412 \r\nL 57.201786 178.200057 \r\nL 33.2875 178.200057 \r\nz\r\n\" style=\"fill:#1f77b4;\"/>\r\n   </g>\r\n   <g id=\"patch_146\">\r\n    <path clip-path=\"url(#pb9532bb2fe)\" d=\"M 33.2875 178.024703 \r\nL 57.201786 178.024703 \r\nL 57.201786 177.849348 \r\nL 33.2875 177.849348 \r\nz\r\n\" style=\"fill:#1f77b4;\"/>\r\n   </g>\r\n   <g id=\"patch_147\">\r\n    <path clip-path=\"url(#pb9532bb2fe)\" d=\"M 33.2875 177.673993 \r\nL 105.030357 177.673993 \r\nL 105.030357 177.498638 \r\nL 33.2875 177.498638 \r\nz\r\n\" style=\"fill:#1f77b4;\"/>\r\n   </g>\r\n   <g id=\"patch_148\">\r\n    <path clip-path=\"url(#pb9532bb2fe)\" d=\"M 33.2875 177.323283 \r\nL 160.830357 177.323283 \r\nL 160.830357 177.147928 \r\nL 33.2875 177.147928 \r\nz\r\n\" style=\"fill:#1f77b4;\"/>\r\n   </g>\r\n   <g id=\"patch_149\">\r\n    <path clip-path=\"url(#pb9532bb2fe)\" d=\"M 33.2875 176.972574 \r\nL 113.001786 176.972574 \r\nL 113.001786 176.797219 \r\nL 33.2875 176.797219 \r\nz\r\n\" style=\"fill:#1f77b4;\"/>\r\n   </g>\r\n   <g id=\"patch_150\">\r\n    <path clip-path=\"url(#pb9532bb2fe)\" d=\"M 33.2875 176.621864 \r\nL 57.201786 176.621864 \r\nL 57.201786 176.446509 \r\nL 33.2875 176.446509 \r\nz\r\n\" style=\"fill:#1f77b4;\"/>\r\n   </g>\r\n   <g id=\"patch_151\">\r\n    <path clip-path=\"url(#pb9532bb2fe)\" d=\"M 33.2875 176.271154 \r\nL 33.2875 176.271154 \r\nL 33.2875 176.095799 \r\nL 33.2875 176.095799 \r\nz\r\n\" style=\"fill:#1f77b4;\"/>\r\n   </g>\r\n   <g id=\"patch_152\">\r\n    <path clip-path=\"url(#pb9532bb2fe)\" d=\"M 33.2875 175.920445 \r\nL 113.001786 175.920445 \r\nL 113.001786 175.74509 \r\nL 33.2875 175.74509 \r\nz\r\n\" style=\"fill:#1f77b4;\"/>\r\n   </g>\r\n   <g id=\"patch_153\">\r\n    <path clip-path=\"url(#pb9532bb2fe)\" d=\"M 33.2875 175.569735 \r\nL 33.2875 175.569735 \r\nL 33.2875 175.39438 \r\nL 33.2875 175.39438 \r\nz\r\n\" style=\"fill:#1f77b4;\"/>\r\n   </g>\r\n   <g id=\"patch_154\">\r\n    <path clip-path=\"url(#pb9532bb2fe)\" d=\"M 33.2875 175.219025 \r\nL 160.830357 175.219025 \r\nL 160.830357 175.04367 \r\nL 33.2875 175.04367 \r\nz\r\n\" style=\"fill:#1f77b4;\"/>\r\n   </g>\r\n   <g id=\"patch_155\">\r\n    <path clip-path=\"url(#pb9532bb2fe)\" d=\"M 33.2875 174.868316 \r\nL 81.116071 174.868316 \r\nL 81.116071 174.692961 \r\nL 33.2875 174.692961 \r\nz\r\n\" style=\"fill:#1f77b4;\"/>\r\n   </g>\r\n   <g id=\"patch_156\">\r\n    <path clip-path=\"url(#pb9532bb2fe)\" d=\"M 33.2875 174.517606 \r\nL 57.201786 174.517606 \r\nL 57.201786 174.342251 \r\nL 33.2875 174.342251 \r\nz\r\n\" style=\"fill:#1f77b4;\"/>\r\n   </g>\r\n   <g id=\"patch_157\">\r\n    <path clip-path=\"url(#pb9532bb2fe)\" d=\"M 33.2875 174.166896 \r\nL 105.030357 174.166896 \r\nL 105.030357 173.991541 \r\nL 33.2875 173.991541 \r\nz\r\n\" style=\"fill:#1f77b4;\"/>\r\n   </g>\r\n   <g id=\"patch_158\">\r\n    <path clip-path=\"url(#pb9532bb2fe)\" d=\"M 33.2875 173.816186 \r\nL 41.258929 173.816186 \r\nL 41.258929 173.640832 \r\nL 33.2875 173.640832 \r\nz\r\n\" style=\"fill:#1f77b4;\"/>\r\n   </g>\r\n   <g id=\"patch_159\">\r\n    <path clip-path=\"url(#pb9532bb2fe)\" d=\"M 33.2875 173.465477 \r\nL 49.230357 173.465477 \r\nL 49.230357 173.290122 \r\nL 33.2875 173.290122 \r\nz\r\n\" style=\"fill:#1f77b4;\"/>\r\n   </g>\r\n   <g id=\"patch_160\">\r\n    <path clip-path=\"url(#pb9532bb2fe)\" d=\"M 33.2875 173.114767 \r\nL 41.258929 173.114767 \r\nL 41.258929 172.939412 \r\nL 33.2875 172.939412 \r\nz\r\n\" style=\"fill:#1f77b4;\"/>\r\n   </g>\r\n   <g id=\"patch_161\">\r\n    <path clip-path=\"url(#pb9532bb2fe)\" d=\"M 33.2875 172.764057 \r\nL 41.258929 172.764057 \r\nL 41.258929 172.588703 \r\nL 33.2875 172.588703 \r\nz\r\n\" style=\"fill:#1f77b4;\"/>\r\n   </g>\r\n   <g id=\"patch_162\">\r\n    <path clip-path=\"url(#pb9532bb2fe)\" d=\"M 33.2875 172.413348 \r\nL 65.173214 172.413348 \r\nL 65.173214 172.237993 \r\nL 33.2875 172.237993 \r\nz\r\n\" style=\"fill:#1f77b4;\"/>\r\n   </g>\r\n   <g id=\"patch_163\">\r\n    <path clip-path=\"url(#pb9532bb2fe)\" d=\"M 33.2875 172.062638 \r\nL 144.8875 172.062638 \r\nL 144.8875 171.887283 \r\nL 33.2875 171.887283 \r\nz\r\n\" style=\"fill:#1f77b4;\"/>\r\n   </g>\r\n   <g id=\"patch_164\">\r\n    <path clip-path=\"url(#pb9532bb2fe)\" d=\"M 33.2875 171.711928 \r\nL 89.0875 171.711928 \r\nL 89.0875 171.536574 \r\nL 33.2875 171.536574 \r\nz\r\n\" style=\"fill:#1f77b4;\"/>\r\n   </g>\r\n   <g id=\"patch_165\">\r\n    <path clip-path=\"url(#pb9532bb2fe)\" d=\"M 33.2875 171.361219 \r\nL 89.0875 171.361219 \r\nL 89.0875 171.185864 \r\nL 33.2875 171.185864 \r\nz\r\n\" style=\"fill:#1f77b4;\"/>\r\n   </g>\r\n   <g id=\"patch_166\">\r\n    <path clip-path=\"url(#pb9532bb2fe)\" d=\"M 33.2875 171.010509 \r\nL 128.944643 171.010509 \r\nL 128.944643 170.835154 \r\nL 33.2875 170.835154 \r\nz\r\n\" style=\"fill:#1f77b4;\"/>\r\n   </g>\r\n   <g id=\"patch_167\">\r\n    <path clip-path=\"url(#pb9532bb2fe)\" d=\"M 33.2875 170.659799 \r\nL 33.2875 170.659799 \r\nL 33.2875 170.484445 \r\nL 33.2875 170.484445 \r\nz\r\n\" style=\"fill:#1f77b4;\"/>\r\n   </g>\r\n   <g id=\"patch_168\">\r\n    <path clip-path=\"url(#pb9532bb2fe)\" d=\"M 33.2875 170.30909 \r\nL 41.258929 170.30909 \r\nL 41.258929 170.133735 \r\nL 33.2875 170.133735 \r\nz\r\n\" style=\"fill:#1f77b4;\"/>\r\n   </g>\r\n   <g id=\"patch_169\">\r\n    <path clip-path=\"url(#pb9532bb2fe)\" d=\"M 33.2875 169.95838 \r\nL 73.144643 169.95838 \r\nL 73.144643 169.783025 \r\nL 33.2875 169.783025 \r\nz\r\n\" style=\"fill:#1f77b4;\"/>\r\n   </g>\r\n   <g id=\"patch_170\">\r\n    <path clip-path=\"url(#pb9532bb2fe)\" d=\"M 33.2875 169.60767 \r\nL 57.201786 169.60767 \r\nL 57.201786 169.432316 \r\nL 33.2875 169.432316 \r\nz\r\n\" style=\"fill:#1f77b4;\"/>\r\n   </g>\r\n   <g id=\"patch_171\">\r\n    <path clip-path=\"url(#pb9532bb2fe)\" d=\"M 33.2875 169.256961 \r\nL 73.144643 169.256961 \r\nL 73.144643 169.081606 \r\nL 33.2875 169.081606 \r\nz\r\n\" style=\"fill:#1f77b4;\"/>\r\n   </g>\r\n   <g id=\"patch_172\">\r\n    <path clip-path=\"url(#pb9532bb2fe)\" d=\"M 33.2875 168.906251 \r\nL 41.258929 168.906251 \r\nL 41.258929 168.730896 \r\nL 33.2875 168.730896 \r\nz\r\n\" style=\"fill:#1f77b4;\"/>\r\n   </g>\r\n   <g id=\"patch_173\">\r\n    <path clip-path=\"url(#pb9532bb2fe)\" d=\"M 33.2875 168.555541 \r\nL 120.973214 168.555541 \r\nL 120.973214 168.380186 \r\nL 33.2875 168.380186 \r\nz\r\n\" style=\"fill:#1f77b4;\"/>\r\n   </g>\r\n   <g id=\"patch_174\">\r\n    <path clip-path=\"url(#pb9532bb2fe)\" d=\"M 33.2875 168.204832 \r\nL 128.944643 168.204832 \r\nL 128.944643 168.029477 \r\nL 33.2875 168.029477 \r\nz\r\n\" style=\"fill:#1f77b4;\"/>\r\n   </g>\r\n   <g id=\"patch_175\">\r\n    <path clip-path=\"url(#pb9532bb2fe)\" d=\"M 33.2875 167.854122 \r\nL 49.230357 167.854122 \r\nL 49.230357 167.678767 \r\nL 33.2875 167.678767 \r\nz\r\n\" style=\"fill:#1f77b4;\"/>\r\n   </g>\r\n   <g id=\"patch_176\">\r\n    <path clip-path=\"url(#pb9532bb2fe)\" d=\"M 33.2875 167.503412 \r\nL 89.0875 167.503412 \r\nL 89.0875 167.328057 \r\nL 33.2875 167.328057 \r\nz\r\n\" style=\"fill:#1f77b4;\"/>\r\n   </g>\r\n   <g id=\"patch_177\">\r\n    <path clip-path=\"url(#pb9532bb2fe)\" d=\"M 33.2875 167.152703 \r\nL 41.258929 167.152703 \r\nL 41.258929 166.977348 \r\nL 33.2875 166.977348 \r\nz\r\n\" style=\"fill:#1f77b4;\"/>\r\n   </g>\r\n   <g id=\"patch_178\">\r\n    <path clip-path=\"url(#pb9532bb2fe)\" d=\"M 33.2875 166.801993 \r\nL 128.944643 166.801993 \r\nL 128.944643 166.626638 \r\nL 33.2875 166.626638 \r\nz\r\n\" style=\"fill:#1f77b4;\"/>\r\n   </g>\r\n   <g id=\"patch_179\">\r\n    <path clip-path=\"url(#pb9532bb2fe)\" d=\"M 33.2875 166.451283 \r\nL 152.858929 166.451283 \r\nL 152.858929 166.275928 \r\nL 33.2875 166.275928 \r\nz\r\n\" style=\"fill:#1f77b4;\"/>\r\n   </g>\r\n   <g id=\"patch_180\">\r\n    <path clip-path=\"url(#pb9532bb2fe)\" d=\"M 33.2875 166.100574 \r\nL 97.058929 166.100574 \r\nL 97.058929 165.925219 \r\nL 33.2875 165.925219 \r\nz\r\n\" style=\"fill:#1f77b4;\"/>\r\n   </g>\r\n   <g id=\"patch_181\">\r\n    <path clip-path=\"url(#pb9532bb2fe)\" d=\"M 33.2875 165.749864 \r\nL 160.830357 165.749864 \r\nL 160.830357 165.574509 \r\nL 33.2875 165.574509 \r\nz\r\n\" style=\"fill:#1f77b4;\"/>\r\n   </g>\r\n   <g id=\"patch_182\">\r\n    <path clip-path=\"url(#pb9532bb2fe)\" d=\"M 33.2875 165.399154 \r\nL 168.801786 165.399154 \r\nL 168.801786 165.223799 \r\nL 33.2875 165.223799 \r\nz\r\n\" style=\"fill:#1f77b4;\"/>\r\n   </g>\r\n   <g id=\"patch_183\">\r\n    <path clip-path=\"url(#pb9532bb2fe)\" d=\"M 33.2875 165.048445 \r\nL 160.830357 165.048445 \r\nL 160.830357 164.87309 \r\nL 33.2875 164.87309 \r\nz\r\n\" style=\"fill:#1f77b4;\"/>\r\n   </g>\r\n   <g id=\"patch_184\">\r\n    <path clip-path=\"url(#pb9532bb2fe)\" d=\"M 33.2875 164.697735 \r\nL 105.030357 164.697735 \r\nL 105.030357 164.52238 \r\nL 33.2875 164.52238 \r\nz\r\n\" style=\"fill:#1f77b4;\"/>\r\n   </g>\r\n   <g id=\"patch_185\">\r\n    <path clip-path=\"url(#pb9532bb2fe)\" d=\"M 33.2875 164.347025 \r\nL 73.144643 164.347025 \r\nL 73.144643 164.17167 \r\nL 33.2875 164.17167 \r\nz\r\n\" style=\"fill:#1f77b4;\"/>\r\n   </g>\r\n   <g id=\"patch_186\">\r\n    <path clip-path=\"url(#pb9532bb2fe)\" d=\"M 33.2875 163.996316 \r\nL 136.916071 163.996316 \r\nL 136.916071 163.820961 \r\nL 33.2875 163.820961 \r\nz\r\n\" style=\"fill:#1f77b4;\"/>\r\n   </g>\r\n   <g id=\"patch_187\">\r\n    <path clip-path=\"url(#pb9532bb2fe)\" d=\"M 33.2875 163.645606 \r\nL 208.658929 163.645606 \r\nL 208.658929 163.470251 \r\nL 33.2875 163.470251 \r\nz\r\n\" style=\"fill:#1f77b4;\"/>\r\n   </g>\r\n   <g id=\"patch_188\">\r\n    <path clip-path=\"url(#pb9532bb2fe)\" d=\"M 33.2875 163.294896 \r\nL 113.001786 163.294896 \r\nL 113.001786 163.119541 \r\nL 33.2875 163.119541 \r\nz\r\n\" style=\"fill:#1f77b4;\"/>\r\n   </g>\r\n   <g id=\"patch_189\">\r\n    <path clip-path=\"url(#pb9532bb2fe)\" d=\"M 33.2875 162.944186 \r\nL 160.830357 162.944186 \r\nL 160.830357 162.768832 \r\nL 33.2875 162.768832 \r\nz\r\n\" style=\"fill:#1f77b4;\"/>\r\n   </g>\r\n   <g id=\"patch_190\">\r\n    <path clip-path=\"url(#pb9532bb2fe)\" d=\"M 33.2875 162.593477 \r\nL 168.801786 162.593477 \r\nL 168.801786 162.418122 \r\nL 33.2875 162.418122 \r\nz\r\n\" style=\"fill:#1f77b4;\"/>\r\n   </g>\r\n   <g id=\"patch_191\">\r\n    <path clip-path=\"url(#pb9532bb2fe)\" d=\"M 33.2875 162.242767 \r\nL 41.258929 162.242767 \r\nL 41.258929 162.067412 \r\nL 33.2875 162.067412 \r\nz\r\n\" style=\"fill:#1f77b4;\"/>\r\n   </g>\r\n   <g id=\"patch_192\">\r\n    <path clip-path=\"url(#pb9532bb2fe)\" d=\"M 33.2875 161.892057 \r\nL 89.0875 161.892057 \r\nL 89.0875 161.716703 \r\nL 33.2875 161.716703 \r\nz\r\n\" style=\"fill:#1f77b4;\"/>\r\n   </g>\r\n   <g id=\"patch_193\">\r\n    <path clip-path=\"url(#pb9532bb2fe)\" d=\"M 33.2875 161.541348 \r\nL 97.058929 161.541348 \r\nL 97.058929 161.365993 \r\nL 33.2875 161.365993 \r\nz\r\n\" style=\"fill:#1f77b4;\"/>\r\n   </g>\r\n   <g id=\"patch_194\">\r\n    <path clip-path=\"url(#pb9532bb2fe)\" d=\"M 33.2875 161.190638 \r\nL 49.230357 161.190638 \r\nL 49.230357 161.015283 \r\nL 33.2875 161.015283 \r\nz\r\n\" style=\"fill:#1f77b4;\"/>\r\n   </g>\r\n   <g id=\"patch_195\">\r\n    <path clip-path=\"url(#pb9532bb2fe)\" d=\"M 33.2875 160.839928 \r\nL 57.201786 160.839928 \r\nL 57.201786 160.664574 \r\nL 33.2875 160.664574 \r\nz\r\n\" style=\"fill:#1f77b4;\"/>\r\n   </g>\r\n   <g id=\"patch_196\">\r\n    <path clip-path=\"url(#pb9532bb2fe)\" d=\"M 33.2875 160.489219 \r\nL 41.258929 160.489219 \r\nL 41.258929 160.313864 \r\nL 33.2875 160.313864 \r\nz\r\n\" style=\"fill:#1f77b4;\"/>\r\n   </g>\r\n   <g id=\"patch_197\">\r\n    <path clip-path=\"url(#pb9532bb2fe)\" d=\"M 33.2875 160.138509 \r\nL 120.973214 160.138509 \r\nL 120.973214 159.963154 \r\nL 33.2875 159.963154 \r\nz\r\n\" style=\"fill:#1f77b4;\"/>\r\n   </g>\r\n   <g id=\"patch_198\">\r\n    <path clip-path=\"url(#pb9532bb2fe)\" d=\"M 33.2875 159.787799 \r\nL 128.944643 159.787799 \r\nL 128.944643 159.612445 \r\nL 33.2875 159.612445 \r\nz\r\n\" style=\"fill:#1f77b4;\"/>\r\n   </g>\r\n   <g id=\"patch_199\">\r\n    <path clip-path=\"url(#pb9532bb2fe)\" d=\"M 33.2875 159.43709 \r\nL 97.058929 159.43709 \r\nL 97.058929 159.261735 \r\nL 33.2875 159.261735 \r\nz\r\n\" style=\"fill:#1f77b4;\"/>\r\n   </g>\r\n   <g id=\"patch_200\">\r\n    <path clip-path=\"url(#pb9532bb2fe)\" d=\"M 33.2875 159.08638 \r\nL 113.001786 159.08638 \r\nL 113.001786 158.911025 \r\nL 33.2875 158.911025 \r\nz\r\n\" style=\"fill:#1f77b4;\"/>\r\n   </g>\r\n   <g id=\"patch_201\">\r\n    <path clip-path=\"url(#pb9532bb2fe)\" d=\"M 33.2875 158.73567 \r\nL 73.144643 158.73567 \r\nL 73.144643 158.560316 \r\nL 33.2875 158.560316 \r\nz\r\n\" style=\"fill:#1f77b4;\"/>\r\n   </g>\r\n   <g id=\"patch_202\">\r\n    <path clip-path=\"url(#pb9532bb2fe)\" d=\"M 33.2875 158.384961 \r\nL 65.173214 158.384961 \r\nL 65.173214 158.209606 \r\nL 33.2875 158.209606 \r\nz\r\n\" style=\"fill:#1f77b4;\"/>\r\n   </g>\r\n   <g id=\"patch_203\">\r\n    <path clip-path=\"url(#pb9532bb2fe)\" d=\"M 33.2875 158.034251 \r\nL 176.773214 158.034251 \r\nL 176.773214 157.858896 \r\nL 33.2875 157.858896 \r\nz\r\n\" style=\"fill:#1f77b4;\"/>\r\n   </g>\r\n   <g id=\"patch_204\">\r\n    <path clip-path=\"url(#pb9532bb2fe)\" d=\"M 33.2875 157.683541 \r\nL 73.144643 157.683541 \r\nL 73.144643 157.508186 \r\nL 33.2875 157.508186 \r\nz\r\n\" style=\"fill:#1f77b4;\"/>\r\n   </g>\r\n   <g id=\"patch_205\">\r\n    <path clip-path=\"url(#pb9532bb2fe)\" d=\"M 33.2875 157.332832 \r\nL 81.116071 157.332832 \r\nL 81.116071 157.157477 \r\nL 33.2875 157.157477 \r\nz\r\n\" style=\"fill:#1f77b4;\"/>\r\n   </g>\r\n   <g id=\"patch_206\">\r\n    <path clip-path=\"url(#pb9532bb2fe)\" d=\"M 33.2875 156.982122 \r\nL 89.0875 156.982122 \r\nL 89.0875 156.806767 \r\nL 33.2875 156.806767 \r\nz\r\n\" style=\"fill:#1f77b4;\"/>\r\n   </g>\r\n   <g id=\"patch_207\">\r\n    <path clip-path=\"url(#pb9532bb2fe)\" d=\"M 33.2875 156.631412 \r\nL 65.173214 156.631412 \r\nL 65.173214 156.456057 \r\nL 33.2875 156.456057 \r\nz\r\n\" style=\"fill:#1f77b4;\"/>\r\n   </g>\r\n   <g id=\"patch_208\">\r\n    <path clip-path=\"url(#pb9532bb2fe)\" d=\"M 33.2875 156.280703 \r\nL 41.258929 156.280703 \r\nL 41.258929 156.105348 \r\nL 33.2875 156.105348 \r\nz\r\n\" style=\"fill:#1f77b4;\"/>\r\n   </g>\r\n   <g id=\"patch_209\">\r\n    <path clip-path=\"url(#pb9532bb2fe)\" d=\"M 33.2875 155.929993 \r\nL 105.030357 155.929993 \r\nL 105.030357 155.754638 \r\nL 33.2875 155.754638 \r\nz\r\n\" style=\"fill:#1f77b4;\"/>\r\n   </g>\r\n   <g id=\"patch_210\">\r\n    <path clip-path=\"url(#pb9532bb2fe)\" d=\"M 33.2875 155.579283 \r\nL 97.058929 155.579283 \r\nL 97.058929 155.403928 \r\nL 33.2875 155.403928 \r\nz\r\n\" style=\"fill:#1f77b4;\"/>\r\n   </g>\r\n   <g id=\"patch_211\">\r\n    <path clip-path=\"url(#pb9532bb2fe)\" d=\"M 33.2875 155.228574 \r\nL 57.201786 155.228574 \r\nL 57.201786 155.053219 \r\nL 33.2875 155.053219 \r\nz\r\n\" style=\"fill:#1f77b4;\"/>\r\n   </g>\r\n   <g id=\"patch_212\">\r\n    <path clip-path=\"url(#pb9532bb2fe)\" d=\"M 33.2875 154.877864 \r\nL 65.173214 154.877864 \r\nL 65.173214 154.702509 \r\nL 33.2875 154.702509 \r\nz\r\n\" style=\"fill:#1f77b4;\"/>\r\n   </g>\r\n   <g id=\"patch_213\">\r\n    <path clip-path=\"url(#pb9532bb2fe)\" d=\"M 33.2875 154.527154 \r\nL 65.173214 154.527154 \r\nL 65.173214 154.351799 \r\nL 33.2875 154.351799 \r\nz\r\n\" style=\"fill:#1f77b4;\"/>\r\n   </g>\r\n   <g id=\"patch_214\">\r\n    <path clip-path=\"url(#pb9532bb2fe)\" d=\"M 33.2875 154.176445 \r\nL 41.258929 154.176445 \r\nL 41.258929 154.00109 \r\nL 33.2875 154.00109 \r\nz\r\n\" style=\"fill:#1f77b4;\"/>\r\n   </g>\r\n   <g id=\"patch_215\">\r\n    <path clip-path=\"url(#pb9532bb2fe)\" d=\"M 33.2875 153.825735 \r\nL 81.116071 153.825735 \r\nL 81.116071 153.65038 \r\nL 33.2875 153.65038 \r\nz\r\n\" style=\"fill:#1f77b4;\"/>\r\n   </g>\r\n   <g id=\"patch_216\">\r\n    <path clip-path=\"url(#pb9532bb2fe)\" d=\"M 33.2875 153.475025 \r\nL 120.973214 153.475025 \r\nL 120.973214 153.29967 \r\nL 33.2875 153.29967 \r\nz\r\n\" style=\"fill:#1f77b4;\"/>\r\n   </g>\r\n   <g id=\"patch_217\">\r\n    <path clip-path=\"url(#pb9532bb2fe)\" d=\"M 33.2875 153.124316 \r\nL 49.230357 153.124316 \r\nL 49.230357 152.948961 \r\nL 33.2875 152.948961 \r\nz\r\n\" style=\"fill:#1f77b4;\"/>\r\n   </g>\r\n   <g id=\"patch_218\">\r\n    <path clip-path=\"url(#pb9532bb2fe)\" d=\"M 33.2875 152.773606 \r\nL 128.944643 152.773606 \r\nL 128.944643 152.598251 \r\nL 33.2875 152.598251 \r\nz\r\n\" style=\"fill:#1f77b4;\"/>\r\n   </g>\r\n   <g id=\"patch_219\">\r\n    <path clip-path=\"url(#pb9532bb2fe)\" d=\"M 33.2875 152.422896 \r\nL 128.944643 152.422896 \r\nL 128.944643 152.247541 \r\nL 33.2875 152.247541 \r\nz\r\n\" style=\"fill:#1f77b4;\"/>\r\n   </g>\r\n   <g id=\"patch_220\">\r\n    <path clip-path=\"url(#pb9532bb2fe)\" d=\"M 33.2875 152.072186 \r\nL 89.0875 152.072186 \r\nL 89.0875 151.896832 \r\nL 33.2875 151.896832 \r\nz\r\n\" style=\"fill:#1f77b4;\"/>\r\n   </g>\r\n   <g id=\"patch_221\">\r\n    <path clip-path=\"url(#pb9532bb2fe)\" d=\"M 33.2875 151.721477 \r\nL 57.201786 151.721477 \r\nL 57.201786 151.546122 \r\nL 33.2875 151.546122 \r\nz\r\n\" style=\"fill:#1f77b4;\"/>\r\n   </g>\r\n   <g id=\"patch_222\">\r\n    <path clip-path=\"url(#pb9532bb2fe)\" d=\"M 33.2875 151.370767 \r\nL 73.144643 151.370767 \r\nL 73.144643 151.195412 \r\nL 33.2875 151.195412 \r\nz\r\n\" style=\"fill:#1f77b4;\"/>\r\n   </g>\r\n   <g id=\"patch_223\">\r\n    <path clip-path=\"url(#pb9532bb2fe)\" d=\"M 33.2875 151.020057 \r\nL 89.0875 151.020057 \r\nL 89.0875 150.844703 \r\nL 33.2875 150.844703 \r\nz\r\n\" style=\"fill:#1f77b4;\"/>\r\n   </g>\r\n   <g id=\"patch_224\">\r\n    <path clip-path=\"url(#pb9532bb2fe)\" d=\"M 33.2875 150.669348 \r\nL 33.2875 150.669348 \r\nL 33.2875 150.493993 \r\nL 33.2875 150.493993 \r\nz\r\n\" style=\"fill:#1f77b4;\"/>\r\n   </g>\r\n   <g id=\"patch_225\">\r\n    <path clip-path=\"url(#pb9532bb2fe)\" d=\"M 33.2875 150.318638 \r\nL 113.001786 150.318638 \r\nL 113.001786 150.143283 \r\nL 33.2875 150.143283 \r\nz\r\n\" style=\"fill:#1f77b4;\"/>\r\n   </g>\r\n   <g id=\"patch_226\">\r\n    <path clip-path=\"url(#pb9532bb2fe)\" d=\"M 33.2875 149.967928 \r\nL 89.0875 149.967928 \r\nL 89.0875 149.792574 \r\nL 33.2875 149.792574 \r\nz\r\n\" style=\"fill:#1f77b4;\"/>\r\n   </g>\r\n   <g id=\"patch_227\">\r\n    <path clip-path=\"url(#pb9532bb2fe)\" d=\"M 33.2875 149.617219 \r\nL 89.0875 149.617219 \r\nL 89.0875 149.441864 \r\nL 33.2875 149.441864 \r\nz\r\n\" style=\"fill:#1f77b4;\"/>\r\n   </g>\r\n   <g id=\"patch_228\">\r\n    <path clip-path=\"url(#pb9532bb2fe)\" d=\"M 33.2875 149.266509 \r\nL 65.173214 149.266509 \r\nL 65.173214 149.091154 \r\nL 33.2875 149.091154 \r\nz\r\n\" style=\"fill:#1f77b4;\"/>\r\n   </g>\r\n   <g id=\"patch_229\">\r\n    <path clip-path=\"url(#pb9532bb2fe)\" d=\"M 33.2875 148.915799 \r\nL 168.801786 148.915799 \r\nL 168.801786 148.740445 \r\nL 33.2875 148.740445 \r\nz\r\n\" style=\"fill:#1f77b4;\"/>\r\n   </g>\r\n   <g id=\"patch_230\">\r\n    <path clip-path=\"url(#pb9532bb2fe)\" d=\"M 33.2875 148.56509 \r\nL 89.0875 148.56509 \r\nL 89.0875 148.389735 \r\nL 33.2875 148.389735 \r\nz\r\n\" style=\"fill:#1f77b4;\"/>\r\n   </g>\r\n   <g id=\"patch_231\">\r\n    <path clip-path=\"url(#pb9532bb2fe)\" d=\"M 33.2875 148.21438 \r\nL 73.144643 148.21438 \r\nL 73.144643 148.039025 \r\nL 33.2875 148.039025 \r\nz\r\n\" style=\"fill:#1f77b4;\"/>\r\n   </g>\r\n   <g id=\"patch_232\">\r\n    <path clip-path=\"url(#pb9532bb2fe)\" d=\"M 33.2875 147.86367 \r\nL 89.0875 147.86367 \r\nL 89.0875 147.688316 \r\nL 33.2875 147.688316 \r\nz\r\n\" style=\"fill:#1f77b4;\"/>\r\n   </g>\r\n   <g id=\"patch_233\">\r\n    <path clip-path=\"url(#pb9532bb2fe)\" d=\"M 33.2875 147.512961 \r\nL 73.144643 147.512961 \r\nL 73.144643 147.337606 \r\nL 33.2875 147.337606 \r\nz\r\n\" style=\"fill:#1f77b4;\"/>\r\n   </g>\r\n   <g id=\"patch_234\">\r\n    <path clip-path=\"url(#pb9532bb2fe)\" d=\"M 33.2875 147.162251 \r\nL 65.173214 147.162251 \r\nL 65.173214 146.986896 \r\nL 33.2875 146.986896 \r\nz\r\n\" style=\"fill:#1f77b4;\"/>\r\n   </g>\r\n   <g id=\"patch_235\">\r\n    <path clip-path=\"url(#pb9532bb2fe)\" d=\"M 33.2875 146.811541 \r\nL 105.030357 146.811541 \r\nL 105.030357 146.636186 \r\nL 33.2875 146.636186 \r\nz\r\n\" style=\"fill:#1f77b4;\"/>\r\n   </g>\r\n   <g id=\"patch_236\">\r\n    <path clip-path=\"url(#pb9532bb2fe)\" d=\"M 33.2875 146.460832 \r\nL 97.058929 146.460832 \r\nL 97.058929 146.285477 \r\nL 33.2875 146.285477 \r\nz\r\n\" style=\"fill:#1f77b4;\"/>\r\n   </g>\r\n   <g id=\"patch_237\">\r\n    <path clip-path=\"url(#pb9532bb2fe)\" d=\"M 33.2875 146.110122 \r\nL 73.144643 146.110122 \r\nL 73.144643 145.934767 \r\nL 33.2875 145.934767 \r\nz\r\n\" style=\"fill:#1f77b4;\"/>\r\n   </g>\r\n   <g id=\"patch_238\">\r\n    <path clip-path=\"url(#pb9532bb2fe)\" d=\"M 33.2875 145.759412 \r\nL 81.116071 145.759412 \r\nL 81.116071 145.584057 \r\nL 33.2875 145.584057 \r\nz\r\n\" style=\"fill:#1f77b4;\"/>\r\n   </g>\r\n   <g id=\"patch_239\">\r\n    <path clip-path=\"url(#pb9532bb2fe)\" d=\"M 33.2875 145.408703 \r\nL 97.058929 145.408703 \r\nL 97.058929 145.233348 \r\nL 33.2875 145.233348 \r\nz\r\n\" style=\"fill:#1f77b4;\"/>\r\n   </g>\r\n   <g id=\"patch_240\">\r\n    <path clip-path=\"url(#pb9532bb2fe)\" d=\"M 33.2875 145.057993 \r\nL 136.916071 145.057993 \r\nL 136.916071 144.882638 \r\nL 33.2875 144.882638 \r\nz\r\n\" style=\"fill:#1f77b4;\"/>\r\n   </g>\r\n   <g id=\"patch_241\">\r\n    <path clip-path=\"url(#pb9532bb2fe)\" d=\"M 33.2875 144.707283 \r\nL 97.058929 144.707283 \r\nL 97.058929 144.531928 \r\nL 33.2875 144.531928 \r\nz\r\n\" style=\"fill:#1f77b4;\"/>\r\n   </g>\r\n   <g id=\"patch_242\">\r\n    <path clip-path=\"url(#pb9532bb2fe)\" d=\"M 33.2875 144.356574 \r\nL 97.058929 144.356574 \r\nL 97.058929 144.181219 \r\nL 33.2875 144.181219 \r\nz\r\n\" style=\"fill:#1f77b4;\"/>\r\n   </g>\r\n   <g id=\"patch_243\">\r\n    <path clip-path=\"url(#pb9532bb2fe)\" d=\"M 33.2875 144.005864 \r\nL 105.030357 144.005864 \r\nL 105.030357 143.830509 \r\nL 33.2875 143.830509 \r\nz\r\n\" style=\"fill:#1f77b4;\"/>\r\n   </g>\r\n   <g id=\"patch_244\">\r\n    <path clip-path=\"url(#pb9532bb2fe)\" d=\"M 33.2875 143.655154 \r\nL 168.801786 143.655154 \r\nL 168.801786 143.479799 \r\nL 33.2875 143.479799 \r\nz\r\n\" style=\"fill:#1f77b4;\"/>\r\n   </g>\r\n   <g id=\"patch_245\">\r\n    <path clip-path=\"url(#pb9532bb2fe)\" d=\"M 33.2875 143.304445 \r\nL 73.144643 143.304445 \r\nL 73.144643 143.12909 \r\nL 33.2875 143.12909 \r\nz\r\n\" style=\"fill:#1f77b4;\"/>\r\n   </g>\r\n   <g id=\"patch_246\">\r\n    <path clip-path=\"url(#pb9532bb2fe)\" d=\"M 33.2875 142.953735 \r\nL 57.201786 142.953735 \r\nL 57.201786 142.77838 \r\nL 33.2875 142.77838 \r\nz\r\n\" style=\"fill:#1f77b4;\"/>\r\n   </g>\r\n   <g id=\"patch_247\">\r\n    <path clip-path=\"url(#pb9532bb2fe)\" d=\"M 33.2875 142.603025 \r\nL 33.2875 142.603025 \r\nL 33.2875 142.42767 \r\nL 33.2875 142.42767 \r\nz\r\n\" style=\"fill:#1f77b4;\"/>\r\n   </g>\r\n   <g id=\"patch_248\">\r\n    <path clip-path=\"url(#pb9532bb2fe)\" d=\"M 33.2875 142.252316 \r\nL 120.973214 142.252316 \r\nL 120.973214 142.076961 \r\nL 33.2875 142.076961 \r\nz\r\n\" style=\"fill:#1f77b4;\"/>\r\n   </g>\r\n   <g id=\"patch_249\">\r\n    <path clip-path=\"url(#pb9532bb2fe)\" d=\"M 33.2875 141.901606 \r\nL 57.201786 141.901606 \r\nL 57.201786 141.726251 \r\nL 33.2875 141.726251 \r\nz\r\n\" style=\"fill:#1f77b4;\"/>\r\n   </g>\r\n   <g id=\"patch_250\">\r\n    <path clip-path=\"url(#pb9532bb2fe)\" d=\"M 33.2875 141.550896 \r\nL 81.116071 141.550896 \r\nL 81.116071 141.375541 \r\nL 33.2875 141.375541 \r\nz\r\n\" style=\"fill:#1f77b4;\"/>\r\n   </g>\r\n   <g id=\"patch_251\">\r\n    <path clip-path=\"url(#pb9532bb2fe)\" d=\"M 33.2875 141.200186 \r\nL 73.144643 141.200186 \r\nL 73.144643 141.024832 \r\nL 33.2875 141.024832 \r\nz\r\n\" style=\"fill:#1f77b4;\"/>\r\n   </g>\r\n   <g id=\"patch_252\">\r\n    <path clip-path=\"url(#pb9532bb2fe)\" d=\"M 33.2875 140.849477 \r\nL 49.230357 140.849477 \r\nL 49.230357 140.674122 \r\nL 33.2875 140.674122 \r\nz\r\n\" style=\"fill:#1f77b4;\"/>\r\n   </g>\r\n   <g id=\"patch_253\">\r\n    <path clip-path=\"url(#pb9532bb2fe)\" d=\"M 33.2875 140.498767 \r\nL 136.916071 140.498767 \r\nL 136.916071 140.323412 \r\nL 33.2875 140.323412 \r\nz\r\n\" style=\"fill:#1f77b4;\"/>\r\n   </g>\r\n   <g id=\"patch_254\">\r\n    <path clip-path=\"url(#pb9532bb2fe)\" d=\"M 33.2875 140.148057 \r\nL 65.173214 140.148057 \r\nL 65.173214 139.972703 \r\nL 33.2875 139.972703 \r\nz\r\n\" style=\"fill:#1f77b4;\"/>\r\n   </g>\r\n   <g id=\"patch_255\">\r\n    <path clip-path=\"url(#pb9532bb2fe)\" d=\"M 33.2875 139.797348 \r\nL 65.173214 139.797348 \r\nL 65.173214 139.621993 \r\nL 33.2875 139.621993 \r\nz\r\n\" style=\"fill:#1f77b4;\"/>\r\n   </g>\r\n   <g id=\"patch_256\">\r\n    <path clip-path=\"url(#pb9532bb2fe)\" d=\"M 33.2875 139.446638 \r\nL 81.116071 139.446638 \r\nL 81.116071 139.271283 \r\nL 33.2875 139.271283 \r\nz\r\n\" style=\"fill:#1f77b4;\"/>\r\n   </g>\r\n   <g id=\"patch_257\">\r\n    <path clip-path=\"url(#pb9532bb2fe)\" d=\"M 33.2875 139.095928 \r\nL 113.001786 139.095928 \r\nL 113.001786 138.920574 \r\nL 33.2875 138.920574 \r\nz\r\n\" style=\"fill:#1f77b4;\"/>\r\n   </g>\r\n   <g id=\"patch_258\">\r\n    <path clip-path=\"url(#pb9532bb2fe)\" d=\"M 33.2875 138.745219 \r\nL 81.116071 138.745219 \r\nL 81.116071 138.569864 \r\nL 33.2875 138.569864 \r\nz\r\n\" style=\"fill:#1f77b4;\"/>\r\n   </g>\r\n   <g id=\"patch_259\">\r\n    <path clip-path=\"url(#pb9532bb2fe)\" d=\"M 33.2875 138.394509 \r\nL 113.001786 138.394509 \r\nL 113.001786 138.219154 \r\nL 33.2875 138.219154 \r\nz\r\n\" style=\"fill:#1f77b4;\"/>\r\n   </g>\r\n   <g id=\"patch_260\">\r\n    <path clip-path=\"url(#pb9532bb2fe)\" d=\"M 33.2875 138.043799 \r\nL 136.916071 138.043799 \r\nL 136.916071 137.868445 \r\nL 33.2875 137.868445 \r\nz\r\n\" style=\"fill:#1f77b4;\"/>\r\n   </g>\r\n   <g id=\"patch_261\">\r\n    <path clip-path=\"url(#pb9532bb2fe)\" d=\"M 33.2875 137.69309 \r\nL 65.173214 137.69309 \r\nL 65.173214 137.517735 \r\nL 33.2875 137.517735 \r\nz\r\n\" style=\"fill:#1f77b4;\"/>\r\n   </g>\r\n   <g id=\"patch_262\">\r\n    <path clip-path=\"url(#pb9532bb2fe)\" d=\"M 33.2875 137.34238 \r\nL 65.173214 137.34238 \r\nL 65.173214 137.167025 \r\nL 33.2875 137.167025 \r\nz\r\n\" style=\"fill:#1f77b4;\"/>\r\n   </g>\r\n   <g id=\"patch_263\">\r\n    <path clip-path=\"url(#pb9532bb2fe)\" d=\"M 33.2875 136.99167 \r\nL 136.916071 136.99167 \r\nL 136.916071 136.816316 \r\nL 33.2875 136.816316 \r\nz\r\n\" style=\"fill:#1f77b4;\"/>\r\n   </g>\r\n   <g id=\"patch_264\">\r\n    <path clip-path=\"url(#pb9532bb2fe)\" d=\"M 33.2875 136.640961 \r\nL 120.973214 136.640961 \r\nL 120.973214 136.465606 \r\nL 33.2875 136.465606 \r\nz\r\n\" style=\"fill:#1f77b4;\"/>\r\n   </g>\r\n   <g id=\"patch_265\">\r\n    <path clip-path=\"url(#pb9532bb2fe)\" d=\"M 33.2875 136.290251 \r\nL 128.944643 136.290251 \r\nL 128.944643 136.114896 \r\nL 33.2875 136.114896 \r\nz\r\n\" style=\"fill:#1f77b4;\"/>\r\n   </g>\r\n   <g id=\"patch_266\">\r\n    <path clip-path=\"url(#pb9532bb2fe)\" d=\"M 33.2875 135.939541 \r\nL 89.0875 135.939541 \r\nL 89.0875 135.764186 \r\nL 33.2875 135.764186 \r\nz\r\n\" style=\"fill:#1f77b4;\"/>\r\n   </g>\r\n   <g id=\"patch_267\">\r\n    <path clip-path=\"url(#pb9532bb2fe)\" d=\"M 33.2875 135.588832 \r\nL 113.001786 135.588832 \r\nL 113.001786 135.413477 \r\nL 33.2875 135.413477 \r\nz\r\n\" style=\"fill:#1f77b4;\"/>\r\n   </g>\r\n   <g id=\"patch_268\">\r\n    <path clip-path=\"url(#pb9532bb2fe)\" d=\"M 33.2875 135.238122 \r\nL 73.144643 135.238122 \r\nL 73.144643 135.062767 \r\nL 33.2875 135.062767 \r\nz\r\n\" style=\"fill:#1f77b4;\"/>\r\n   </g>\r\n   <g id=\"patch_269\">\r\n    <path clip-path=\"url(#pb9532bb2fe)\" d=\"M 33.2875 134.887412 \r\nL 144.8875 134.887412 \r\nL 144.8875 134.712057 \r\nL 33.2875 134.712057 \r\nz\r\n\" style=\"fill:#1f77b4;\"/>\r\n   </g>\r\n   <g id=\"patch_270\">\r\n    <path clip-path=\"url(#pb9532bb2fe)\" d=\"M 33.2875 134.536703 \r\nL 105.030357 134.536703 \r\nL 105.030357 134.361348 \r\nL 33.2875 134.361348 \r\nz\r\n\" style=\"fill:#1f77b4;\"/>\r\n   </g>\r\n   <g id=\"patch_271\">\r\n    <path clip-path=\"url(#pb9532bb2fe)\" d=\"M 33.2875 134.185993 \r\nL 81.116071 134.185993 \r\nL 81.116071 134.010638 \r\nL 33.2875 134.010638 \r\nz\r\n\" style=\"fill:#1f77b4;\"/>\r\n   </g>\r\n   <g id=\"patch_272\">\r\n    <path clip-path=\"url(#pb9532bb2fe)\" d=\"M 33.2875 133.835283 \r\nL 73.144643 133.835283 \r\nL 73.144643 133.659928 \r\nL 33.2875 133.659928 \r\nz\r\n\" style=\"fill:#1f77b4;\"/>\r\n   </g>\r\n   <g id=\"patch_273\">\r\n    <path clip-path=\"url(#pb9532bb2fe)\" d=\"M 33.2875 133.484574 \r\nL 113.001786 133.484574 \r\nL 113.001786 133.309219 \r\nL 33.2875 133.309219 \r\nz\r\n\" style=\"fill:#1f77b4;\"/>\r\n   </g>\r\n   <g id=\"patch_274\">\r\n    <path clip-path=\"url(#pb9532bb2fe)\" d=\"M 33.2875 133.133864 \r\nL 65.173214 133.133864 \r\nL 65.173214 132.958509 \r\nL 33.2875 132.958509 \r\nz\r\n\" style=\"fill:#1f77b4;\"/>\r\n   </g>\r\n   <g id=\"patch_275\">\r\n    <path clip-path=\"url(#pb9532bb2fe)\" d=\"M 33.2875 132.783154 \r\nL 57.201786 132.783154 \r\nL 57.201786 132.607799 \r\nL 33.2875 132.607799 \r\nz\r\n\" style=\"fill:#1f77b4;\"/>\r\n   </g>\r\n   <g id=\"patch_276\">\r\n    <path clip-path=\"url(#pb9532bb2fe)\" d=\"M 33.2875 132.432445 \r\nL 65.173214 132.432445 \r\nL 65.173214 132.25709 \r\nL 33.2875 132.25709 \r\nz\r\n\" style=\"fill:#1f77b4;\"/>\r\n   </g>\r\n   <g id=\"patch_277\">\r\n    <path clip-path=\"url(#pb9532bb2fe)\" d=\"M 33.2875 132.081735 \r\nL 41.258929 132.081735 \r\nL 41.258929 131.90638 \r\nL 33.2875 131.90638 \r\nz\r\n\" style=\"fill:#1f77b4;\"/>\r\n   </g>\r\n   <g id=\"patch_278\">\r\n    <path clip-path=\"url(#pb9532bb2fe)\" d=\"M 33.2875 131.731025 \r\nL 128.944643 131.731025 \r\nL 128.944643 131.55567 \r\nL 33.2875 131.55567 \r\nz\r\n\" style=\"fill:#1f77b4;\"/>\r\n   </g>\r\n   <g id=\"patch_279\">\r\n    <path clip-path=\"url(#pb9532bb2fe)\" d=\"M 33.2875 131.380316 \r\nL 89.0875 131.380316 \r\nL 89.0875 131.204961 \r\nL 33.2875 131.204961 \r\nz\r\n\" style=\"fill:#1f77b4;\"/>\r\n   </g>\r\n   <g id=\"patch_280\">\r\n    <path clip-path=\"url(#pb9532bb2fe)\" d=\"M 33.2875 131.029606 \r\nL 81.116071 131.029606 \r\nL 81.116071 130.854251 \r\nL 33.2875 130.854251 \r\nz\r\n\" style=\"fill:#1f77b4;\"/>\r\n   </g>\r\n   <g id=\"patch_281\">\r\n    <path clip-path=\"url(#pb9532bb2fe)\" d=\"M 33.2875 130.678896 \r\nL 105.030357 130.678896 \r\nL 105.030357 130.503541 \r\nL 33.2875 130.503541 \r\nz\r\n\" style=\"fill:#1f77b4;\"/>\r\n   </g>\r\n   <g id=\"patch_282\">\r\n    <path clip-path=\"url(#pb9532bb2fe)\" d=\"M 33.2875 130.328186 \r\nL 105.030357 130.328186 \r\nL 105.030357 130.152832 \r\nL 33.2875 130.152832 \r\nz\r\n\" style=\"fill:#1f77b4;\"/>\r\n   </g>\r\n   <g id=\"patch_283\">\r\n    <path clip-path=\"url(#pb9532bb2fe)\" d=\"M 33.2875 129.977477 \r\nL 81.116071 129.977477 \r\nL 81.116071 129.802122 \r\nL 33.2875 129.802122 \r\nz\r\n\" style=\"fill:#1f77b4;\"/>\r\n   </g>\r\n   <g id=\"patch_284\">\r\n    <path clip-path=\"url(#pb9532bb2fe)\" d=\"M 33.2875 129.626767 \r\nL 89.0875 129.626767 \r\nL 89.0875 129.451412 \r\nL 33.2875 129.451412 \r\nz\r\n\" style=\"fill:#1f77b4;\"/>\r\n   </g>\r\n   <g id=\"patch_285\">\r\n    <path clip-path=\"url(#pb9532bb2fe)\" d=\"M 33.2875 129.276057 \r\nL 73.144643 129.276057 \r\nL 73.144643 129.100703 \r\nL 33.2875 129.100703 \r\nz\r\n\" style=\"fill:#1f77b4;\"/>\r\n   </g>\r\n   <g id=\"patch_286\">\r\n    <path clip-path=\"url(#pb9532bb2fe)\" d=\"M 33.2875 128.925348 \r\nL 81.116071 128.925348 \r\nL 81.116071 128.749993 \r\nL 33.2875 128.749993 \r\nz\r\n\" style=\"fill:#1f77b4;\"/>\r\n   </g>\r\n   <g id=\"patch_287\">\r\n    <path clip-path=\"url(#pb9532bb2fe)\" d=\"M 33.2875 128.574638 \r\nL 97.058929 128.574638 \r\nL 97.058929 128.399283 \r\nL 33.2875 128.399283 \r\nz\r\n\" style=\"fill:#1f77b4;\"/>\r\n   </g>\r\n   <g id=\"patch_288\">\r\n    <path clip-path=\"url(#pb9532bb2fe)\" d=\"M 33.2875 128.223928 \r\nL 57.201786 128.223928 \r\nL 57.201786 128.048574 \r\nL 33.2875 128.048574 \r\nz\r\n\" style=\"fill:#1f77b4;\"/>\r\n   </g>\r\n   <g id=\"patch_289\">\r\n    <path clip-path=\"url(#pb9532bb2fe)\" d=\"M 33.2875 127.873219 \r\nL 49.230357 127.873219 \r\nL 49.230357 127.697864 \r\nL 33.2875 127.697864 \r\nz\r\n\" style=\"fill:#1f77b4;\"/>\r\n   </g>\r\n   <g id=\"patch_290\">\r\n    <path clip-path=\"url(#pb9532bb2fe)\" d=\"M 33.2875 127.522509 \r\nL 57.201786 127.522509 \r\nL 57.201786 127.347154 \r\nL 33.2875 127.347154 \r\nz\r\n\" style=\"fill:#1f77b4;\"/>\r\n   </g>\r\n   <g id=\"patch_291\">\r\n    <path clip-path=\"url(#pb9532bb2fe)\" d=\"M 33.2875 127.171799 \r\nL 105.030357 127.171799 \r\nL 105.030357 126.996445 \r\nL 33.2875 126.996445 \r\nz\r\n\" style=\"fill:#1f77b4;\"/>\r\n   </g>\r\n   <g id=\"patch_292\">\r\n    <path clip-path=\"url(#pb9532bb2fe)\" d=\"M 33.2875 126.82109 \r\nL 73.144643 126.82109 \r\nL 73.144643 126.645735 \r\nL 33.2875 126.645735 \r\nz\r\n\" style=\"fill:#1f77b4;\"/>\r\n   </g>\r\n   <g id=\"patch_293\">\r\n    <path clip-path=\"url(#pb9532bb2fe)\" d=\"M 33.2875 126.47038 \r\nL 65.173214 126.47038 \r\nL 65.173214 126.295025 \r\nL 33.2875 126.295025 \r\nz\r\n\" style=\"fill:#1f77b4;\"/>\r\n   </g>\r\n   <g id=\"patch_294\">\r\n    <path clip-path=\"url(#pb9532bb2fe)\" d=\"M 33.2875 126.11967 \r\nL 113.001786 126.11967 \r\nL 113.001786 125.944316 \r\nL 33.2875 125.944316 \r\nz\r\n\" style=\"fill:#1f77b4;\"/>\r\n   </g>\r\n   <g id=\"patch_295\">\r\n    <path clip-path=\"url(#pb9532bb2fe)\" d=\"M 33.2875 125.768961 \r\nL 57.201786 125.768961 \r\nL 57.201786 125.593606 \r\nL 33.2875 125.593606 \r\nz\r\n\" style=\"fill:#1f77b4;\"/>\r\n   </g>\r\n   <g id=\"patch_296\">\r\n    <path clip-path=\"url(#pb9532bb2fe)\" d=\"M 33.2875 125.418251 \r\nL 97.058929 125.418251 \r\nL 97.058929 125.242896 \r\nL 33.2875 125.242896 \r\nz\r\n\" style=\"fill:#1f77b4;\"/>\r\n   </g>\r\n   <g id=\"patch_297\">\r\n    <path clip-path=\"url(#pb9532bb2fe)\" d=\"M 33.2875 125.067541 \r\nL 105.030357 125.067541 \r\nL 105.030357 124.892186 \r\nL 33.2875 124.892186 \r\nz\r\n\" style=\"fill:#1f77b4;\"/>\r\n   </g>\r\n   <g id=\"patch_298\">\r\n    <path clip-path=\"url(#pb9532bb2fe)\" d=\"M 33.2875 124.716832 \r\nL 65.173214 124.716832 \r\nL 65.173214 124.541477 \r\nL 33.2875 124.541477 \r\nz\r\n\" style=\"fill:#1f77b4;\"/>\r\n   </g>\r\n   <g id=\"patch_299\">\r\n    <path clip-path=\"url(#pb9532bb2fe)\" d=\"M 33.2875 124.366122 \r\nL 65.173214 124.366122 \r\nL 65.173214 124.190767 \r\nL 33.2875 124.190767 \r\nz\r\n\" style=\"fill:#1f77b4;\"/>\r\n   </g>\r\n   <g id=\"patch_300\">\r\n    <path clip-path=\"url(#pb9532bb2fe)\" d=\"M 33.2875 124.015412 \r\nL 136.916071 124.015412 \r\nL 136.916071 123.840057 \r\nL 33.2875 123.840057 \r\nz\r\n\" style=\"fill:#1f77b4;\"/>\r\n   </g>\r\n   <g id=\"patch_301\">\r\n    <path clip-path=\"url(#pb9532bb2fe)\" d=\"M 33.2875 123.664703 \r\nL 113.001786 123.664703 \r\nL 113.001786 123.489348 \r\nL 33.2875 123.489348 \r\nz\r\n\" style=\"fill:#1f77b4;\"/>\r\n   </g>\r\n   <g id=\"patch_302\">\r\n    <path clip-path=\"url(#pb9532bb2fe)\" d=\"M 33.2875 123.313993 \r\nL 41.258929 123.313993 \r\nL 41.258929 123.138638 \r\nL 33.2875 123.138638 \r\nz\r\n\" style=\"fill:#1f77b4;\"/>\r\n   </g>\r\n   <g id=\"patch_303\">\r\n    <path clip-path=\"url(#pb9532bb2fe)\" d=\"M 33.2875 122.963283 \r\nL 65.173214 122.963283 \r\nL 65.173214 122.787928 \r\nL 33.2875 122.787928 \r\nz\r\n\" style=\"fill:#1f77b4;\"/>\r\n   </g>\r\n   <g id=\"patch_304\">\r\n    <path clip-path=\"url(#pb9532bb2fe)\" d=\"M 33.2875 122.612574 \r\nL 73.144643 122.612574 \r\nL 73.144643 122.437219 \r\nL 33.2875 122.437219 \r\nz\r\n\" style=\"fill:#1f77b4;\"/>\r\n   </g>\r\n   <g id=\"patch_305\">\r\n    <path clip-path=\"url(#pb9532bb2fe)\" d=\"M 33.2875 122.261864 \r\nL 73.144643 122.261864 \r\nL 73.144643 122.086509 \r\nL 33.2875 122.086509 \r\nz\r\n\" style=\"fill:#1f77b4;\"/>\r\n   </g>\r\n   <g id=\"patch_306\">\r\n    <path clip-path=\"url(#pb9532bb2fe)\" d=\"M 33.2875 121.911154 \r\nL 105.030357 121.911154 \r\nL 105.030357 121.735799 \r\nL 33.2875 121.735799 \r\nz\r\n\" style=\"fill:#1f77b4;\"/>\r\n   </g>\r\n   <g id=\"patch_307\">\r\n    <path clip-path=\"url(#pb9532bb2fe)\" d=\"M 33.2875 121.560445 \r\nL 105.030357 121.560445 \r\nL 105.030357 121.38509 \r\nL 33.2875 121.38509 \r\nz\r\n\" style=\"fill:#1f77b4;\"/>\r\n   </g>\r\n   <g id=\"patch_308\">\r\n    <path clip-path=\"url(#pb9532bb2fe)\" d=\"M 33.2875 121.209735 \r\nL 128.944643 121.209735 \r\nL 128.944643 121.03438 \r\nL 33.2875 121.03438 \r\nz\r\n\" style=\"fill:#1f77b4;\"/>\r\n   </g>\r\n   <g id=\"patch_309\">\r\n    <path clip-path=\"url(#pb9532bb2fe)\" d=\"M 33.2875 120.859025 \r\nL 81.116071 120.859025 \r\nL 81.116071 120.68367 \r\nL 33.2875 120.68367 \r\nz\r\n\" style=\"fill:#1f77b4;\"/>\r\n   </g>\r\n   <g id=\"patch_310\">\r\n    <path clip-path=\"url(#pb9532bb2fe)\" d=\"M 33.2875 120.508316 \r\nL 41.258929 120.508316 \r\nL 41.258929 120.332961 \r\nL 33.2875 120.332961 \r\nz\r\n\" style=\"fill:#1f77b4;\"/>\r\n   </g>\r\n   <g id=\"patch_311\">\r\n    <path clip-path=\"url(#pb9532bb2fe)\" d=\"M 33.2875 120.157606 \r\nL 81.116071 120.157606 \r\nL 81.116071 119.982251 \r\nL 33.2875 119.982251 \r\nz\r\n\" style=\"fill:#1f77b4;\"/>\r\n   </g>\r\n   <g id=\"patch_312\">\r\n    <path clip-path=\"url(#pb9532bb2fe)\" d=\"M 33.2875 119.806896 \r\nL 49.230357 119.806896 \r\nL 49.230357 119.631541 \r\nL 33.2875 119.631541 \r\nz\r\n\" style=\"fill:#1f77b4;\"/>\r\n   </g>\r\n   <g id=\"patch_313\">\r\n    <path clip-path=\"url(#pb9532bb2fe)\" d=\"M 33.2875 119.456186 \r\nL 97.058929 119.456186 \r\nL 97.058929 119.280832 \r\nL 33.2875 119.280832 \r\nz\r\n\" style=\"fill:#1f77b4;\"/>\r\n   </g>\r\n   <g id=\"patch_314\">\r\n    <path clip-path=\"url(#pb9532bb2fe)\" d=\"M 33.2875 119.105477 \r\nL 41.258929 119.105477 \r\nL 41.258929 118.930122 \r\nL 33.2875 118.930122 \r\nz\r\n\" style=\"fill:#1f77b4;\"/>\r\n   </g>\r\n   <g id=\"patch_315\">\r\n    <path clip-path=\"url(#pb9532bb2fe)\" d=\"M 33.2875 118.754767 \r\nL 120.973214 118.754767 \r\nL 120.973214 118.579412 \r\nL 33.2875 118.579412 \r\nz\r\n\" style=\"fill:#1f77b4;\"/>\r\n   </g>\r\n   <g id=\"patch_316\">\r\n    <path clip-path=\"url(#pb9532bb2fe)\" d=\"M 33.2875 118.404057 \r\nL 113.001786 118.404057 \r\nL 113.001786 118.228703 \r\nL 33.2875 118.228703 \r\nz\r\n\" style=\"fill:#1f77b4;\"/>\r\n   </g>\r\n   <g id=\"patch_317\">\r\n    <path clip-path=\"url(#pb9532bb2fe)\" d=\"M 33.2875 118.053348 \r\nL 176.773214 118.053348 \r\nL 176.773214 117.877993 \r\nL 33.2875 117.877993 \r\nz\r\n\" style=\"fill:#1f77b4;\"/>\r\n   </g>\r\n   <g id=\"patch_318\">\r\n    <path clip-path=\"url(#pb9532bb2fe)\" d=\"M 33.2875 117.702638 \r\nL 65.173214 117.702638 \r\nL 65.173214 117.527283 \r\nL 33.2875 117.527283 \r\nz\r\n\" style=\"fill:#1f77b4;\"/>\r\n   </g>\r\n   <g id=\"patch_319\">\r\n    <path clip-path=\"url(#pb9532bb2fe)\" d=\"M 33.2875 117.351928 \r\nL 57.201786 117.351928 \r\nL 57.201786 117.176574 \r\nL 33.2875 117.176574 \r\nz\r\n\" style=\"fill:#1f77b4;\"/>\r\n   </g>\r\n   <g id=\"patch_320\">\r\n    <path clip-path=\"url(#pb9532bb2fe)\" d=\"M 33.2875 117.001219 \r\nL 73.144643 117.001219 \r\nL 73.144643 116.825864 \r\nL 33.2875 116.825864 \r\nz\r\n\" style=\"fill:#1f77b4;\"/>\r\n   </g>\r\n   <g id=\"patch_321\">\r\n    <path clip-path=\"url(#pb9532bb2fe)\" d=\"M 33.2875 116.650509 \r\nL 89.0875 116.650509 \r\nL 89.0875 116.475154 \r\nL 33.2875 116.475154 \r\nz\r\n\" style=\"fill:#1f77b4;\"/>\r\n   </g>\r\n   <g id=\"patch_322\">\r\n    <path clip-path=\"url(#pb9532bb2fe)\" d=\"M 33.2875 116.299799 \r\nL 41.258929 116.299799 \r\nL 41.258929 116.124445 \r\nL 33.2875 116.124445 \r\nz\r\n\" style=\"fill:#1f77b4;\"/>\r\n   </g>\r\n   <g id=\"patch_323\">\r\n    <path clip-path=\"url(#pb9532bb2fe)\" d=\"M 33.2875 115.94909 \r\nL 120.973214 115.94909 \r\nL 120.973214 115.773735 \r\nL 33.2875 115.773735 \r\nz\r\n\" style=\"fill:#1f77b4;\"/>\r\n   </g>\r\n   <g id=\"patch_324\">\r\n    <path clip-path=\"url(#pb9532bb2fe)\" d=\"M 33.2875 115.59838 \r\nL 89.0875 115.59838 \r\nL 89.0875 115.423025 \r\nL 33.2875 115.423025 \r\nz\r\n\" style=\"fill:#1f77b4;\"/>\r\n   </g>\r\n   <g id=\"patch_325\">\r\n    <path clip-path=\"url(#pb9532bb2fe)\" d=\"M 33.2875 115.24767 \r\nL 89.0875 115.24767 \r\nL 89.0875 115.072316 \r\nL 33.2875 115.072316 \r\nz\r\n\" style=\"fill:#1f77b4;\"/>\r\n   </g>\r\n   <g id=\"patch_326\">\r\n    <path clip-path=\"url(#pb9532bb2fe)\" d=\"M 33.2875 114.896961 \r\nL 65.173214 114.896961 \r\nL 65.173214 114.721606 \r\nL 33.2875 114.721606 \r\nz\r\n\" style=\"fill:#1f77b4;\"/>\r\n   </g>\r\n   <g id=\"patch_327\">\r\n    <path clip-path=\"url(#pb9532bb2fe)\" d=\"M 33.2875 114.546251 \r\nL 49.230357 114.546251 \r\nL 49.230357 114.370896 \r\nL 33.2875 114.370896 \r\nz\r\n\" style=\"fill:#1f77b4;\"/>\r\n   </g>\r\n   <g id=\"patch_328\">\r\n    <path clip-path=\"url(#pb9532bb2fe)\" d=\"M 33.2875 114.195541 \r\nL 57.201786 114.195541 \r\nL 57.201786 114.020186 \r\nL 33.2875 114.020186 \r\nz\r\n\" style=\"fill:#1f77b4;\"/>\r\n   </g>\r\n   <g id=\"patch_329\">\r\n    <path clip-path=\"url(#pb9532bb2fe)\" d=\"M 33.2875 113.844832 \r\nL 105.030357 113.844832 \r\nL 105.030357 113.669477 \r\nL 33.2875 113.669477 \r\nz\r\n\" style=\"fill:#1f77b4;\"/>\r\n   </g>\r\n   <g id=\"patch_330\">\r\n    <path clip-path=\"url(#pb9532bb2fe)\" d=\"M 33.2875 113.494122 \r\nL 65.173214 113.494122 \r\nL 65.173214 113.318767 \r\nL 33.2875 113.318767 \r\nz\r\n\" style=\"fill:#1f77b4;\"/>\r\n   </g>\r\n   <g id=\"patch_331\">\r\n    <path clip-path=\"url(#pb9532bb2fe)\" d=\"M 33.2875 113.143412 \r\nL 41.258929 113.143412 \r\nL 41.258929 112.968057 \r\nL 33.2875 112.968057 \r\nz\r\n\" style=\"fill:#1f77b4;\"/>\r\n   </g>\r\n   <g id=\"patch_332\">\r\n    <path clip-path=\"url(#pb9532bb2fe)\" d=\"M 33.2875 112.792703 \r\nL 105.030357 112.792703 \r\nL 105.030357 112.617348 \r\nL 33.2875 112.617348 \r\nz\r\n\" style=\"fill:#1f77b4;\"/>\r\n   </g>\r\n   <g id=\"patch_333\">\r\n    <path clip-path=\"url(#pb9532bb2fe)\" d=\"M 33.2875 112.441993 \r\nL 105.030357 112.441993 \r\nL 105.030357 112.266638 \r\nL 33.2875 112.266638 \r\nz\r\n\" style=\"fill:#1f77b4;\"/>\r\n   </g>\r\n   <g id=\"patch_334\">\r\n    <path clip-path=\"url(#pb9532bb2fe)\" d=\"M 33.2875 112.091283 \r\nL 89.0875 112.091283 \r\nL 89.0875 111.915928 \r\nL 33.2875 111.915928 \r\nz\r\n\" style=\"fill:#1f77b4;\"/>\r\n   </g>\r\n   <g id=\"patch_335\">\r\n    <path clip-path=\"url(#pb9532bb2fe)\" d=\"M 33.2875 111.740574 \r\nL 81.116071 111.740574 \r\nL 81.116071 111.565219 \r\nL 33.2875 111.565219 \r\nz\r\n\" style=\"fill:#1f77b4;\"/>\r\n   </g>\r\n   <g id=\"patch_336\">\r\n    <path clip-path=\"url(#pb9532bb2fe)\" d=\"M 33.2875 111.389864 \r\nL 81.116071 111.389864 \r\nL 81.116071 111.214509 \r\nL 33.2875 111.214509 \r\nz\r\n\" style=\"fill:#1f77b4;\"/>\r\n   </g>\r\n   <g id=\"patch_337\">\r\n    <path clip-path=\"url(#pb9532bb2fe)\" d=\"M 33.2875 111.039154 \r\nL 65.173214 111.039154 \r\nL 65.173214 110.863799 \r\nL 33.2875 110.863799 \r\nz\r\n\" style=\"fill:#1f77b4;\"/>\r\n   </g>\r\n   <g id=\"patch_338\">\r\n    <path clip-path=\"url(#pb9532bb2fe)\" d=\"M 33.2875 110.688445 \r\nL 176.773214 110.688445 \r\nL 176.773214 110.51309 \r\nL 33.2875 110.51309 \r\nz\r\n\" style=\"fill:#1f77b4;\"/>\r\n   </g>\r\n   <g id=\"patch_339\">\r\n    <path clip-path=\"url(#pb9532bb2fe)\" d=\"M 33.2875 110.337735 \r\nL 49.230357 110.337735 \r\nL 49.230357 110.16238 \r\nL 33.2875 110.16238 \r\nz\r\n\" style=\"fill:#1f77b4;\"/>\r\n   </g>\r\n   <g id=\"patch_340\">\r\n    <path clip-path=\"url(#pb9532bb2fe)\" d=\"M 33.2875 109.987025 \r\nL 192.716071 109.987025 \r\nL 192.716071 109.81167 \r\nL 33.2875 109.81167 \r\nz\r\n\" style=\"fill:#1f77b4;\"/>\r\n   </g>\r\n   <g id=\"patch_341\">\r\n    <path clip-path=\"url(#pb9532bb2fe)\" d=\"M 33.2875 109.636316 \r\nL 65.173214 109.636316 \r\nL 65.173214 109.460961 \r\nL 33.2875 109.460961 \r\nz\r\n\" style=\"fill:#1f77b4;\"/>\r\n   </g>\r\n   <g id=\"patch_342\">\r\n    <path clip-path=\"url(#pb9532bb2fe)\" d=\"M 33.2875 109.285606 \r\nL 65.173214 109.285606 \r\nL 65.173214 109.110251 \r\nL 33.2875 109.110251 \r\nz\r\n\" style=\"fill:#1f77b4;\"/>\r\n   </g>\r\n   <g id=\"patch_343\">\r\n    <path clip-path=\"url(#pb9532bb2fe)\" d=\"M 33.2875 108.934896 \r\nL 128.944643 108.934896 \r\nL 128.944643 108.759541 \r\nL 33.2875 108.759541 \r\nz\r\n\" style=\"fill:#1f77b4;\"/>\r\n   </g>\r\n   <g id=\"patch_344\">\r\n    <path clip-path=\"url(#pb9532bb2fe)\" d=\"M 33.2875 108.584186 \r\nL 152.858929 108.584186 \r\nL 152.858929 108.408832 \r\nL 33.2875 108.408832 \r\nz\r\n\" style=\"fill:#1f77b4;\"/>\r\n   </g>\r\n   <g id=\"patch_345\">\r\n    <path clip-path=\"url(#pb9532bb2fe)\" d=\"M 33.2875 108.233477 \r\nL 73.144643 108.233477 \r\nL 73.144643 108.058122 \r\nL 33.2875 108.058122 \r\nz\r\n\" style=\"fill:#1f77b4;\"/>\r\n   </g>\r\n   <g id=\"patch_346\">\r\n    <path clip-path=\"url(#pb9532bb2fe)\" d=\"M 33.2875 107.882767 \r\nL 105.030357 107.882767 \r\nL 105.030357 107.707412 \r\nL 33.2875 107.707412 \r\nz\r\n\" style=\"fill:#1f77b4;\"/>\r\n   </g>\r\n   <g id=\"patch_347\">\r\n    <path clip-path=\"url(#pb9532bb2fe)\" d=\"M 33.2875 107.532057 \r\nL 41.258929 107.532057 \r\nL 41.258929 107.356703 \r\nL 33.2875 107.356703 \r\nz\r\n\" style=\"fill:#1f77b4;\"/>\r\n   </g>\r\n   <g id=\"patch_348\">\r\n    <path clip-path=\"url(#pb9532bb2fe)\" d=\"M 33.2875 107.181348 \r\nL 65.173214 107.181348 \r\nL 65.173214 107.005993 \r\nL 33.2875 107.005993 \r\nz\r\n\" style=\"fill:#1f77b4;\"/>\r\n   </g>\r\n   <g id=\"patch_349\">\r\n    <path clip-path=\"url(#pb9532bb2fe)\" d=\"M 33.2875 106.830638 \r\nL 160.830357 106.830638 \r\nL 160.830357 106.655283 \r\nL 33.2875 106.655283 \r\nz\r\n\" style=\"fill:#1f77b4;\"/>\r\n   </g>\r\n   <g id=\"patch_350\">\r\n    <path clip-path=\"url(#pb9532bb2fe)\" d=\"M 33.2875 106.479928 \r\nL 73.144643 106.479928 \r\nL 73.144643 106.304574 \r\nL 33.2875 106.304574 \r\nz\r\n\" style=\"fill:#1f77b4;\"/>\r\n   </g>\r\n   <g id=\"patch_351\">\r\n    <path clip-path=\"url(#pb9532bb2fe)\" d=\"M 33.2875 106.129219 \r\nL 192.716071 106.129219 \r\nL 192.716071 105.953864 \r\nL 33.2875 105.953864 \r\nz\r\n\" style=\"fill:#1f77b4;\"/>\r\n   </g>\r\n   <g id=\"patch_352\">\r\n    <path clip-path=\"url(#pb9532bb2fe)\" d=\"M 33.2875 105.778509 \r\nL 113.001786 105.778509 \r\nL 113.001786 105.603154 \r\nL 33.2875 105.603154 \r\nz\r\n\" style=\"fill:#1f77b4;\"/>\r\n   </g>\r\n   <g id=\"patch_353\">\r\n    <path clip-path=\"url(#pb9532bb2fe)\" d=\"M 33.2875 105.427799 \r\nL 97.058929 105.427799 \r\nL 97.058929 105.252445 \r\nL 33.2875 105.252445 \r\nz\r\n\" style=\"fill:#1f77b4;\"/>\r\n   </g>\r\n   <g id=\"patch_354\">\r\n    <path clip-path=\"url(#pb9532bb2fe)\" d=\"M 33.2875 105.07709 \r\nL 152.858929 105.07709 \r\nL 152.858929 104.901735 \r\nL 33.2875 104.901735 \r\nz\r\n\" style=\"fill:#1f77b4;\"/>\r\n   </g>\r\n   <g id=\"patch_355\">\r\n    <path clip-path=\"url(#pb9532bb2fe)\" d=\"M 33.2875 104.72638 \r\nL 81.116071 104.72638 \r\nL 81.116071 104.551025 \r\nL 33.2875 104.551025 \r\nz\r\n\" style=\"fill:#1f77b4;\"/>\r\n   </g>\r\n   <g id=\"patch_356\">\r\n    <path clip-path=\"url(#pb9532bb2fe)\" d=\"M 33.2875 104.37567 \r\nL 144.8875 104.37567 \r\nL 144.8875 104.200316 \r\nL 33.2875 104.200316 \r\nz\r\n\" style=\"fill:#1f77b4;\"/>\r\n   </g>\r\n   <g id=\"patch_357\">\r\n    <path clip-path=\"url(#pb9532bb2fe)\" d=\"M 33.2875 104.024961 \r\nL 33.2875 104.024961 \r\nL 33.2875 103.849606 \r\nL 33.2875 103.849606 \r\nz\r\n\" style=\"fill:#1f77b4;\"/>\r\n   </g>\r\n   <g id=\"patch_358\">\r\n    <path clip-path=\"url(#pb9532bb2fe)\" d=\"M 33.2875 103.674251 \r\nL 97.058929 103.674251 \r\nL 97.058929 103.498896 \r\nL 33.2875 103.498896 \r\nz\r\n\" style=\"fill:#1f77b4;\"/>\r\n   </g>\r\n   <g id=\"patch_359\">\r\n    <path clip-path=\"url(#pb9532bb2fe)\" d=\"M 33.2875 103.323541 \r\nL 89.0875 103.323541 \r\nL 89.0875 103.148186 \r\nL 33.2875 103.148186 \r\nz\r\n\" style=\"fill:#1f77b4;\"/>\r\n   </g>\r\n   <g id=\"patch_360\">\r\n    <path clip-path=\"url(#pb9532bb2fe)\" d=\"M 33.2875 102.972832 \r\nL 33.2875 102.972832 \r\nL 33.2875 102.797477 \r\nL 33.2875 102.797477 \r\nz\r\n\" style=\"fill:#1f77b4;\"/>\r\n   </g>\r\n   <g id=\"patch_361\">\r\n    <path clip-path=\"url(#pb9532bb2fe)\" d=\"M 33.2875 102.622122 \r\nL 81.116071 102.622122 \r\nL 81.116071 102.446767 \r\nL 33.2875 102.446767 \r\nz\r\n\" style=\"fill:#1f77b4;\"/>\r\n   </g>\r\n   <g id=\"patch_362\">\r\n    <path clip-path=\"url(#pb9532bb2fe)\" d=\"M 33.2875 102.271412 \r\nL 73.144643 102.271412 \r\nL 73.144643 102.096057 \r\nL 33.2875 102.096057 \r\nz\r\n\" style=\"fill:#1f77b4;\"/>\r\n   </g>\r\n   <g id=\"patch_363\">\r\n    <path clip-path=\"url(#pb9532bb2fe)\" d=\"M 33.2875 101.920703 \r\nL 65.173214 101.920703 \r\nL 65.173214 101.745348 \r\nL 33.2875 101.745348 \r\nz\r\n\" style=\"fill:#1f77b4;\"/>\r\n   </g>\r\n   <g id=\"patch_364\">\r\n    <path clip-path=\"url(#pb9532bb2fe)\" d=\"M 33.2875 101.569993 \r\nL 81.116071 101.569993 \r\nL 81.116071 101.394638 \r\nL 33.2875 101.394638 \r\nz\r\n\" style=\"fill:#1f77b4;\"/>\r\n   </g>\r\n   <g id=\"patch_365\">\r\n    <path clip-path=\"url(#pb9532bb2fe)\" d=\"M 33.2875 101.219283 \r\nL 73.144643 101.219283 \r\nL 73.144643 101.043928 \r\nL 33.2875 101.043928 \r\nz\r\n\" style=\"fill:#1f77b4;\"/>\r\n   </g>\r\n   <g id=\"patch_366\">\r\n    <path clip-path=\"url(#pb9532bb2fe)\" d=\"M 33.2875 100.868574 \r\nL 97.058929 100.868574 \r\nL 97.058929 100.693219 \r\nL 33.2875 100.693219 \r\nz\r\n\" style=\"fill:#1f77b4;\"/>\r\n   </g>\r\n   <g id=\"patch_367\">\r\n    <path clip-path=\"url(#pb9532bb2fe)\" d=\"M 33.2875 100.517864 \r\nL 120.973214 100.517864 \r\nL 120.973214 100.342509 \r\nL 33.2875 100.342509 \r\nz\r\n\" style=\"fill:#1f77b4;\"/>\r\n   </g>\r\n   <g id=\"patch_368\">\r\n    <path clip-path=\"url(#pb9532bb2fe)\" d=\"M 33.2875 100.167154 \r\nL 160.830357 100.167154 \r\nL 160.830357 99.991799 \r\nL 33.2875 99.991799 \r\nz\r\n\" style=\"fill:#1f77b4;\"/>\r\n   </g>\r\n   <g id=\"patch_369\">\r\n    <path clip-path=\"url(#pb9532bb2fe)\" d=\"M 33.2875 99.816445 \r\nL 65.173214 99.816445 \r\nL 65.173214 99.64109 \r\nL 33.2875 99.64109 \r\nz\r\n\" style=\"fill:#1f77b4;\"/>\r\n   </g>\r\n   <g id=\"patch_370\">\r\n    <path clip-path=\"url(#pb9532bb2fe)\" d=\"M 33.2875 99.465735 \r\nL 65.173214 99.465735 \r\nL 65.173214 99.29038 \r\nL 33.2875 99.29038 \r\nz\r\n\" style=\"fill:#1f77b4;\"/>\r\n   </g>\r\n   <g id=\"patch_371\">\r\n    <path clip-path=\"url(#pb9532bb2fe)\" d=\"M 33.2875 99.115025 \r\nL 176.773214 99.115025 \r\nL 176.773214 98.93967 \r\nL 33.2875 98.93967 \r\nz\r\n\" style=\"fill:#1f77b4;\"/>\r\n   </g>\r\n   <g id=\"patch_372\">\r\n    <path clip-path=\"url(#pb9532bb2fe)\" d=\"M 33.2875 98.764316 \r\nL 128.944643 98.764316 \r\nL 128.944643 98.588961 \r\nL 33.2875 98.588961 \r\nz\r\n\" style=\"fill:#1f77b4;\"/>\r\n   </g>\r\n   <g id=\"patch_373\">\r\n    <path clip-path=\"url(#pb9532bb2fe)\" d=\"M 33.2875 98.413606 \r\nL 144.8875 98.413606 \r\nL 144.8875 98.238251 \r\nL 33.2875 98.238251 \r\nz\r\n\" style=\"fill:#1f77b4;\"/>\r\n   </g>\r\n   <g id=\"patch_374\">\r\n    <path clip-path=\"url(#pb9532bb2fe)\" d=\"M 33.2875 98.062896 \r\nL 89.0875 98.062896 \r\nL 89.0875 97.887541 \r\nL 33.2875 97.887541 \r\nz\r\n\" style=\"fill:#1f77b4;\"/>\r\n   </g>\r\n   <g id=\"patch_375\">\r\n    <path clip-path=\"url(#pb9532bb2fe)\" d=\"M 33.2875 97.712186 \r\nL 128.944643 97.712186 \r\nL 128.944643 97.536832 \r\nL 33.2875 97.536832 \r\nz\r\n\" style=\"fill:#1f77b4;\"/>\r\n   </g>\r\n   <g id=\"patch_376\">\r\n    <path clip-path=\"url(#pb9532bb2fe)\" d=\"M 33.2875 97.361477 \r\nL 41.258929 97.361477 \r\nL 41.258929 97.186122 \r\nL 33.2875 97.186122 \r\nz\r\n\" style=\"fill:#1f77b4;\"/>\r\n   </g>\r\n   <g id=\"patch_377\">\r\n    <path clip-path=\"url(#pb9532bb2fe)\" d=\"M 33.2875 97.010767 \r\nL 105.030357 97.010767 \r\nL 105.030357 96.835412 \r\nL 33.2875 96.835412 \r\nz\r\n\" style=\"fill:#1f77b4;\"/>\r\n   </g>\r\n   <g id=\"patch_378\">\r\n    <path clip-path=\"url(#pb9532bb2fe)\" d=\"M 33.2875 96.660057 \r\nL 57.201786 96.660057 \r\nL 57.201786 96.484703 \r\nL 33.2875 96.484703 \r\nz\r\n\" style=\"fill:#1f77b4;\"/>\r\n   </g>\r\n   <g id=\"patch_379\">\r\n    <path clip-path=\"url(#pb9532bb2fe)\" d=\"M 33.2875 96.309348 \r\nL 105.030357 96.309348 \r\nL 105.030357 96.133993 \r\nL 33.2875 96.133993 \r\nz\r\n\" style=\"fill:#1f77b4;\"/>\r\n   </g>\r\n   <g id=\"patch_380\">\r\n    <path clip-path=\"url(#pb9532bb2fe)\" d=\"M 33.2875 95.958638 \r\nL 113.001786 95.958638 \r\nL 113.001786 95.783283 \r\nL 33.2875 95.783283 \r\nz\r\n\" style=\"fill:#1f77b4;\"/>\r\n   </g>\r\n   <g id=\"patch_381\">\r\n    <path clip-path=\"url(#pb9532bb2fe)\" d=\"M 33.2875 95.607928 \r\nL 41.258929 95.607928 \r\nL 41.258929 95.432574 \r\nL 33.2875 95.432574 \r\nz\r\n\" style=\"fill:#1f77b4;\"/>\r\n   </g>\r\n   <g id=\"patch_382\">\r\n    <path clip-path=\"url(#pb9532bb2fe)\" d=\"M 33.2875 95.257219 \r\nL 120.973214 95.257219 \r\nL 120.973214 95.081864 \r\nL 33.2875 95.081864 \r\nz\r\n\" style=\"fill:#1f77b4;\"/>\r\n   </g>\r\n   <g id=\"patch_383\">\r\n    <path clip-path=\"url(#pb9532bb2fe)\" d=\"M 33.2875 94.906509 \r\nL 97.058929 94.906509 \r\nL 97.058929 94.731154 \r\nL 33.2875 94.731154 \r\nz\r\n\" style=\"fill:#1f77b4;\"/>\r\n   </g>\r\n   <g id=\"patch_384\">\r\n    <path clip-path=\"url(#pb9532bb2fe)\" d=\"M 33.2875 94.555799 \r\nL 113.001786 94.555799 \r\nL 113.001786 94.380445 \r\nL 33.2875 94.380445 \r\nz\r\n\" style=\"fill:#1f77b4;\"/>\r\n   </g>\r\n   <g id=\"patch_385\">\r\n    <path clip-path=\"url(#pb9532bb2fe)\" d=\"M 33.2875 94.20509 \r\nL 65.173214 94.20509 \r\nL 65.173214 94.029735 \r\nL 33.2875 94.029735 \r\nz\r\n\" style=\"fill:#1f77b4;\"/>\r\n   </g>\r\n   <g id=\"patch_386\">\r\n    <path clip-path=\"url(#pb9532bb2fe)\" d=\"M 33.2875 93.85438 \r\nL 65.173214 93.85438 \r\nL 65.173214 93.679025 \r\nL 33.2875 93.679025 \r\nz\r\n\" style=\"fill:#1f77b4;\"/>\r\n   </g>\r\n   <g id=\"patch_387\">\r\n    <path clip-path=\"url(#pb9532bb2fe)\" d=\"M 33.2875 93.50367 \r\nL 57.201786 93.50367 \r\nL 57.201786 93.328316 \r\nL 33.2875 93.328316 \r\nz\r\n\" style=\"fill:#1f77b4;\"/>\r\n   </g>\r\n   <g id=\"patch_388\">\r\n    <path clip-path=\"url(#pb9532bb2fe)\" d=\"M 33.2875 93.152961 \r\nL 113.001786 93.152961 \r\nL 113.001786 92.977606 \r\nL 33.2875 92.977606 \r\nz\r\n\" style=\"fill:#1f77b4;\"/>\r\n   </g>\r\n   <g id=\"patch_389\">\r\n    <path clip-path=\"url(#pb9532bb2fe)\" d=\"M 33.2875 92.802251 \r\nL 89.0875 92.802251 \r\nL 89.0875 92.626896 \r\nL 33.2875 92.626896 \r\nz\r\n\" style=\"fill:#1f77b4;\"/>\r\n   </g>\r\n   <g id=\"patch_390\">\r\n    <path clip-path=\"url(#pb9532bb2fe)\" d=\"M 33.2875 92.451541 \r\nL 97.058929 92.451541 \r\nL 97.058929 92.276186 \r\nL 33.2875 92.276186 \r\nz\r\n\" style=\"fill:#1f77b4;\"/>\r\n   </g>\r\n   <g id=\"patch_391\">\r\n    <path clip-path=\"url(#pb9532bb2fe)\" d=\"M 33.2875 92.100832 \r\nL 89.0875 92.100832 \r\nL 89.0875 91.925477 \r\nL 33.2875 91.925477 \r\nz\r\n\" style=\"fill:#1f77b4;\"/>\r\n   </g>\r\n   <g id=\"patch_392\">\r\n    <path clip-path=\"url(#pb9532bb2fe)\" d=\"M 33.2875 91.750122 \r\nL 97.058929 91.750122 \r\nL 97.058929 91.574767 \r\nL 33.2875 91.574767 \r\nz\r\n\" style=\"fill:#1f77b4;\"/>\r\n   </g>\r\n   <g id=\"patch_393\">\r\n    <path clip-path=\"url(#pb9532bb2fe)\" d=\"M 33.2875 91.399412 \r\nL 113.001786 91.399412 \r\nL 113.001786 91.224057 \r\nL 33.2875 91.224057 \r\nz\r\n\" style=\"fill:#1f77b4;\"/>\r\n   </g>\r\n   <g id=\"patch_394\">\r\n    <path clip-path=\"url(#pb9532bb2fe)\" d=\"M 33.2875 91.048703 \r\nL 152.858929 91.048703 \r\nL 152.858929 90.873348 \r\nL 33.2875 90.873348 \r\nz\r\n\" style=\"fill:#1f77b4;\"/>\r\n   </g>\r\n   <g id=\"patch_395\">\r\n    <path clip-path=\"url(#pb9532bb2fe)\" d=\"M 33.2875 90.697993 \r\nL 97.058929 90.697993 \r\nL 97.058929 90.522638 \r\nL 33.2875 90.522638 \r\nz\r\n\" style=\"fill:#1f77b4;\"/>\r\n   </g>\r\n   <g id=\"patch_396\">\r\n    <path clip-path=\"url(#pb9532bb2fe)\" d=\"M 33.2875 90.347283 \r\nL 89.0875 90.347283 \r\nL 89.0875 90.171928 \r\nL 33.2875 90.171928 \r\nz\r\n\" style=\"fill:#1f77b4;\"/>\r\n   </g>\r\n   <g id=\"patch_397\">\r\n    <path clip-path=\"url(#pb9532bb2fe)\" d=\"M 33.2875 89.996574 \r\nL 120.973214 89.996574 \r\nL 120.973214 89.821219 \r\nL 33.2875 89.821219 \r\nz\r\n\" style=\"fill:#1f77b4;\"/>\r\n   </g>\r\n   <g id=\"patch_398\">\r\n    <path clip-path=\"url(#pb9532bb2fe)\" d=\"M 33.2875 89.645864 \r\nL 105.030357 89.645864 \r\nL 105.030357 89.470509 \r\nL 33.2875 89.470509 \r\nz\r\n\" style=\"fill:#1f77b4;\"/>\r\n   </g>\r\n   <g id=\"patch_399\">\r\n    <path clip-path=\"url(#pb9532bb2fe)\" d=\"M 33.2875 89.295154 \r\nL 128.944643 89.295154 \r\nL 128.944643 89.119799 \r\nL 33.2875 89.119799 \r\nz\r\n\" style=\"fill:#1f77b4;\"/>\r\n   </g>\r\n   <g id=\"patch_400\">\r\n    <path clip-path=\"url(#pb9532bb2fe)\" d=\"M 33.2875 88.944445 \r\nL 105.030357 88.944445 \r\nL 105.030357 88.76909 \r\nL 33.2875 88.76909 \r\nz\r\n\" style=\"fill:#1f77b4;\"/>\r\n   </g>\r\n   <g id=\"patch_401\">\r\n    <path clip-path=\"url(#pb9532bb2fe)\" d=\"M 33.2875 88.593735 \r\nL 41.258929 88.593735 \r\nL 41.258929 88.41838 \r\nL 33.2875 88.41838 \r\nz\r\n\" style=\"fill:#1f77b4;\"/>\r\n   </g>\r\n   <g id=\"patch_402\">\r\n    <path clip-path=\"url(#pb9532bb2fe)\" d=\"M 33.2875 88.243025 \r\nL 152.858929 88.243025 \r\nL 152.858929 88.06767 \r\nL 33.2875 88.06767 \r\nz\r\n\" style=\"fill:#1f77b4;\"/>\r\n   </g>\r\n   <g id=\"patch_403\">\r\n    <path clip-path=\"url(#pb9532bb2fe)\" d=\"M 33.2875 87.892316 \r\nL 73.144643 87.892316 \r\nL 73.144643 87.716961 \r\nL 33.2875 87.716961 \r\nz\r\n\" style=\"fill:#1f77b4;\"/>\r\n   </g>\r\n   <g id=\"patch_404\">\r\n    <path clip-path=\"url(#pb9532bb2fe)\" d=\"M 33.2875 87.541606 \r\nL 65.173214 87.541606 \r\nL 65.173214 87.366251 \r\nL 33.2875 87.366251 \r\nz\r\n\" style=\"fill:#1f77b4;\"/>\r\n   </g>\r\n   <g id=\"patch_405\">\r\n    <path clip-path=\"url(#pb9532bb2fe)\" d=\"M 33.2875 87.190896 \r\nL 81.116071 87.190896 \r\nL 81.116071 87.015541 \r\nL 33.2875 87.015541 \r\nz\r\n\" style=\"fill:#1f77b4;\"/>\r\n   </g>\r\n   <g id=\"patch_406\">\r\n    <path clip-path=\"url(#pb9532bb2fe)\" d=\"M 33.2875 86.840186 \r\nL 57.201786 86.840186 \r\nL 57.201786 86.664832 \r\nL 33.2875 86.664832 \r\nz\r\n\" style=\"fill:#1f77b4;\"/>\r\n   </g>\r\n   <g id=\"patch_407\">\r\n    <path clip-path=\"url(#pb9532bb2fe)\" d=\"M 33.2875 86.489477 \r\nL 57.201786 86.489477 \r\nL 57.201786 86.314122 \r\nL 33.2875 86.314122 \r\nz\r\n\" style=\"fill:#1f77b4;\"/>\r\n   </g>\r\n   <g id=\"patch_408\">\r\n    <path clip-path=\"url(#pb9532bb2fe)\" d=\"M 33.2875 86.138767 \r\nL 73.144643 86.138767 \r\nL 73.144643 85.963412 \r\nL 33.2875 85.963412 \r\nz\r\n\" style=\"fill:#1f77b4;\"/>\r\n   </g>\r\n   <g id=\"patch_409\">\r\n    <path clip-path=\"url(#pb9532bb2fe)\" d=\"M 33.2875 85.788057 \r\nL 65.173214 85.788057 \r\nL 65.173214 85.612703 \r\nL 33.2875 85.612703 \r\nz\r\n\" style=\"fill:#1f77b4;\"/>\r\n   </g>\r\n   <g id=\"patch_410\">\r\n    <path clip-path=\"url(#pb9532bb2fe)\" d=\"M 33.2875 85.437348 \r\nL 65.173214 85.437348 \r\nL 65.173214 85.261993 \r\nL 33.2875 85.261993 \r\nz\r\n\" style=\"fill:#1f77b4;\"/>\r\n   </g>\r\n   <g id=\"patch_411\">\r\n    <path clip-path=\"url(#pb9532bb2fe)\" d=\"M 33.2875 85.086638 \r\nL 81.116071 85.086638 \r\nL 81.116071 84.911283 \r\nL 33.2875 84.911283 \r\nz\r\n\" style=\"fill:#1f77b4;\"/>\r\n   </g>\r\n   <g id=\"patch_412\">\r\n    <path clip-path=\"url(#pb9532bb2fe)\" d=\"M 33.2875 84.735928 \r\nL 57.201786 84.735928 \r\nL 57.201786 84.560574 \r\nL 33.2875 84.560574 \r\nz\r\n\" style=\"fill:#1f77b4;\"/>\r\n   </g>\r\n   <g id=\"patch_413\">\r\n    <path clip-path=\"url(#pb9532bb2fe)\" d=\"M 33.2875 84.385219 \r\nL 49.230357 84.385219 \r\nL 49.230357 84.209864 \r\nL 33.2875 84.209864 \r\nz\r\n\" style=\"fill:#1f77b4;\"/>\r\n   </g>\r\n   <g id=\"patch_414\">\r\n    <path clip-path=\"url(#pb9532bb2fe)\" d=\"M 33.2875 84.034509 \r\nL 120.973214 84.034509 \r\nL 120.973214 83.859154 \r\nL 33.2875 83.859154 \r\nz\r\n\" style=\"fill:#1f77b4;\"/>\r\n   </g>\r\n   <g id=\"patch_415\">\r\n    <path clip-path=\"url(#pb9532bb2fe)\" d=\"M 33.2875 83.683799 \r\nL 81.116071 83.683799 \r\nL 81.116071 83.508445 \r\nL 33.2875 83.508445 \r\nz\r\n\" style=\"fill:#1f77b4;\"/>\r\n   </g>\r\n   <g id=\"patch_416\">\r\n    <path clip-path=\"url(#pb9532bb2fe)\" d=\"M 33.2875 83.33309 \r\nL 97.058929 83.33309 \r\nL 97.058929 83.157735 \r\nL 33.2875 83.157735 \r\nz\r\n\" style=\"fill:#1f77b4;\"/>\r\n   </g>\r\n   <g id=\"patch_417\">\r\n    <path clip-path=\"url(#pb9532bb2fe)\" d=\"M 33.2875 82.98238 \r\nL 97.058929 82.98238 \r\nL 97.058929 82.807025 \r\nL 33.2875 82.807025 \r\nz\r\n\" style=\"fill:#1f77b4;\"/>\r\n   </g>\r\n   <g id=\"patch_418\">\r\n    <path clip-path=\"url(#pb9532bb2fe)\" d=\"M 33.2875 82.63167 \r\nL 113.001786 82.63167 \r\nL 113.001786 82.456316 \r\nL 33.2875 82.456316 \r\nz\r\n\" style=\"fill:#1f77b4;\"/>\r\n   </g>\r\n   <g id=\"patch_419\">\r\n    <path clip-path=\"url(#pb9532bb2fe)\" d=\"M 33.2875 82.280961 \r\nL 97.058929 82.280961 \r\nL 97.058929 82.105606 \r\nL 33.2875 82.105606 \r\nz\r\n\" style=\"fill:#1f77b4;\"/>\r\n   </g>\r\n   <g id=\"patch_420\">\r\n    <path clip-path=\"url(#pb9532bb2fe)\" d=\"M 33.2875 81.930251 \r\nL 160.830357 81.930251 \r\nL 160.830357 81.754896 \r\nL 33.2875 81.754896 \r\nz\r\n\" style=\"fill:#1f77b4;\"/>\r\n   </g>\r\n   <g id=\"patch_421\">\r\n    <path clip-path=\"url(#pb9532bb2fe)\" d=\"M 33.2875 81.579541 \r\nL 73.144643 81.579541 \r\nL 73.144643 81.404186 \r\nL 33.2875 81.404186 \r\nz\r\n\" style=\"fill:#1f77b4;\"/>\r\n   </g>\r\n   <g id=\"patch_422\">\r\n    <path clip-path=\"url(#pb9532bb2fe)\" d=\"M 33.2875 81.228832 \r\nL 41.258929 81.228832 \r\nL 41.258929 81.053477 \r\nL 33.2875 81.053477 \r\nz\r\n\" style=\"fill:#1f77b4;\"/>\r\n   </g>\r\n   <g id=\"patch_423\">\r\n    <path clip-path=\"url(#pb9532bb2fe)\" d=\"M 33.2875 80.878122 \r\nL 152.858929 80.878122 \r\nL 152.858929 80.702767 \r\nL 33.2875 80.702767 \r\nz\r\n\" style=\"fill:#1f77b4;\"/>\r\n   </g>\r\n   <g id=\"patch_424\">\r\n    <path clip-path=\"url(#pb9532bb2fe)\" d=\"M 33.2875 80.527412 \r\nL 41.258929 80.527412 \r\nL 41.258929 80.352057 \r\nL 33.2875 80.352057 \r\nz\r\n\" style=\"fill:#1f77b4;\"/>\r\n   </g>\r\n   <g id=\"patch_425\">\r\n    <path clip-path=\"url(#pb9532bb2fe)\" d=\"M 33.2875 80.176703 \r\nL 41.258929 80.176703 \r\nL 41.258929 80.001348 \r\nL 33.2875 80.001348 \r\nz\r\n\" style=\"fill:#1f77b4;\"/>\r\n   </g>\r\n   <g id=\"patch_426\">\r\n    <path clip-path=\"url(#pb9532bb2fe)\" d=\"M 33.2875 79.825993 \r\nL 113.001786 79.825993 \r\nL 113.001786 79.650638 \r\nL 33.2875 79.650638 \r\nz\r\n\" style=\"fill:#1f77b4;\"/>\r\n   </g>\r\n   <g id=\"patch_427\">\r\n    <path clip-path=\"url(#pb9532bb2fe)\" d=\"M 33.2875 79.475283 \r\nL 49.230357 79.475283 \r\nL 49.230357 79.299928 \r\nL 33.2875 79.299928 \r\nz\r\n\" style=\"fill:#1f77b4;\"/>\r\n   </g>\r\n   <g id=\"patch_428\">\r\n    <path clip-path=\"url(#pb9532bb2fe)\" d=\"M 33.2875 79.124574 \r\nL 113.001786 79.124574 \r\nL 113.001786 78.949219 \r\nL 33.2875 78.949219 \r\nz\r\n\" style=\"fill:#1f77b4;\"/>\r\n   </g>\r\n   <g id=\"patch_429\">\r\n    <path clip-path=\"url(#pb9532bb2fe)\" d=\"M 33.2875 78.773864 \r\nL 97.058929 78.773864 \r\nL 97.058929 78.598509 \r\nL 33.2875 78.598509 \r\nz\r\n\" style=\"fill:#1f77b4;\"/>\r\n   </g>\r\n   <g id=\"patch_430\">\r\n    <path clip-path=\"url(#pb9532bb2fe)\" d=\"M 33.2875 78.423154 \r\nL 57.201786 78.423154 \r\nL 57.201786 78.247799 \r\nL 33.2875 78.247799 \r\nz\r\n\" style=\"fill:#1f77b4;\"/>\r\n   </g>\r\n   <g id=\"patch_431\">\r\n    <path clip-path=\"url(#pb9532bb2fe)\" d=\"M 33.2875 78.072445 \r\nL 65.173214 78.072445 \r\nL 65.173214 77.89709 \r\nL 33.2875 77.89709 \r\nz\r\n\" style=\"fill:#1f77b4;\"/>\r\n   </g>\r\n   <g id=\"patch_432\">\r\n    <path clip-path=\"url(#pb9532bb2fe)\" d=\"M 33.2875 77.721735 \r\nL 128.944643 77.721735 \r\nL 128.944643 77.54638 \r\nL 33.2875 77.54638 \r\nz\r\n\" style=\"fill:#1f77b4;\"/>\r\n   </g>\r\n   <g id=\"patch_433\">\r\n    <path clip-path=\"url(#pb9532bb2fe)\" d=\"M 33.2875 77.371025 \r\nL 144.8875 77.371025 \r\nL 144.8875 77.19567 \r\nL 33.2875 77.19567 \r\nz\r\n\" style=\"fill:#1f77b4;\"/>\r\n   </g>\r\n   <g id=\"patch_434\">\r\n    <path clip-path=\"url(#pb9532bb2fe)\" d=\"M 33.2875 77.020316 \r\nL 41.258929 77.020316 \r\nL 41.258929 76.844961 \r\nL 33.2875 76.844961 \r\nz\r\n\" style=\"fill:#1f77b4;\"/>\r\n   </g>\r\n   <g id=\"patch_435\">\r\n    <path clip-path=\"url(#pb9532bb2fe)\" d=\"M 33.2875 76.669606 \r\nL 128.944643 76.669606 \r\nL 128.944643 76.494251 \r\nL 33.2875 76.494251 \r\nz\r\n\" style=\"fill:#1f77b4;\"/>\r\n   </g>\r\n   <g id=\"patch_436\">\r\n    <path clip-path=\"url(#pb9532bb2fe)\" d=\"M 33.2875 76.318896 \r\nL 89.0875 76.318896 \r\nL 89.0875 76.143541 \r\nL 33.2875 76.143541 \r\nz\r\n\" style=\"fill:#1f77b4;\"/>\r\n   </g>\r\n   <g id=\"patch_437\">\r\n    <path clip-path=\"url(#pb9532bb2fe)\" d=\"M 33.2875 75.968186 \r\nL 73.144643 75.968186 \r\nL 73.144643 75.792832 \r\nL 33.2875 75.792832 \r\nz\r\n\" style=\"fill:#1f77b4;\"/>\r\n   </g>\r\n   <g id=\"patch_438\">\r\n    <path clip-path=\"url(#pb9532bb2fe)\" d=\"M 33.2875 75.617477 \r\nL 176.773214 75.617477 \r\nL 176.773214 75.442122 \r\nL 33.2875 75.442122 \r\nz\r\n\" style=\"fill:#1f77b4;\"/>\r\n   </g>\r\n   <g id=\"patch_439\">\r\n    <path clip-path=\"url(#pb9532bb2fe)\" d=\"M 33.2875 75.266767 \r\nL 49.230357 75.266767 \r\nL 49.230357 75.091412 \r\nL 33.2875 75.091412 \r\nz\r\n\" style=\"fill:#1f77b4;\"/>\r\n   </g>\r\n   <g id=\"patch_440\">\r\n    <path clip-path=\"url(#pb9532bb2fe)\" d=\"M 33.2875 74.916057 \r\nL 97.058929 74.916057 \r\nL 97.058929 74.740703 \r\nL 33.2875 74.740703 \r\nz\r\n\" style=\"fill:#1f77b4;\"/>\r\n   </g>\r\n   <g id=\"patch_441\">\r\n    <path clip-path=\"url(#pb9532bb2fe)\" d=\"M 33.2875 74.565348 \r\nL 113.001786 74.565348 \r\nL 113.001786 74.389993 \r\nL 33.2875 74.389993 \r\nz\r\n\" style=\"fill:#1f77b4;\"/>\r\n   </g>\r\n   <g id=\"patch_442\">\r\n    <path clip-path=\"url(#pb9532bb2fe)\" d=\"M 33.2875 74.214638 \r\nL 81.116071 74.214638 \r\nL 81.116071 74.039283 \r\nL 33.2875 74.039283 \r\nz\r\n\" style=\"fill:#1f77b4;\"/>\r\n   </g>\r\n   <g id=\"patch_443\">\r\n    <path clip-path=\"url(#pb9532bb2fe)\" d=\"M 33.2875 73.863928 \r\nL 65.173214 73.863928 \r\nL 65.173214 73.688574 \r\nL 33.2875 73.688574 \r\nz\r\n\" style=\"fill:#1f77b4;\"/>\r\n   </g>\r\n   <g id=\"patch_444\">\r\n    <path clip-path=\"url(#pb9532bb2fe)\" d=\"M 33.2875 73.513219 \r\nL 97.058929 73.513219 \r\nL 97.058929 73.337864 \r\nL 33.2875 73.337864 \r\nz\r\n\" style=\"fill:#1f77b4;\"/>\r\n   </g>\r\n   <g id=\"patch_445\">\r\n    <path clip-path=\"url(#pb9532bb2fe)\" d=\"M 33.2875 73.162509 \r\nL 113.001786 73.162509 \r\nL 113.001786 72.987154 \r\nL 33.2875 72.987154 \r\nz\r\n\" style=\"fill:#1f77b4;\"/>\r\n   </g>\r\n   <g id=\"patch_446\">\r\n    <path clip-path=\"url(#pb9532bb2fe)\" d=\"M 33.2875 72.811799 \r\nL 89.0875 72.811799 \r\nL 89.0875 72.636445 \r\nL 33.2875 72.636445 \r\nz\r\n\" style=\"fill:#1f77b4;\"/>\r\n   </g>\r\n   <g id=\"patch_447\">\r\n    <path clip-path=\"url(#pb9532bb2fe)\" d=\"M 33.2875 72.46109 \r\nL 89.0875 72.46109 \r\nL 89.0875 72.285735 \r\nL 33.2875 72.285735 \r\nz\r\n\" style=\"fill:#1f77b4;\"/>\r\n   </g>\r\n   <g id=\"patch_448\">\r\n    <path clip-path=\"url(#pb9532bb2fe)\" d=\"M 33.2875 72.11038 \r\nL 49.230357 72.11038 \r\nL 49.230357 71.935025 \r\nL 33.2875 71.935025 \r\nz\r\n\" style=\"fill:#1f77b4;\"/>\r\n   </g>\r\n   <g id=\"patch_449\">\r\n    <path clip-path=\"url(#pb9532bb2fe)\" d=\"M 33.2875 71.75967 \r\nL 128.944643 71.75967 \r\nL 128.944643 71.584316 \r\nL 33.2875 71.584316 \r\nz\r\n\" style=\"fill:#1f77b4;\"/>\r\n   </g>\r\n   <g id=\"patch_450\">\r\n    <path clip-path=\"url(#pb9532bb2fe)\" d=\"M 33.2875 71.408961 \r\nL 136.916071 71.408961 \r\nL 136.916071 71.233606 \r\nL 33.2875 71.233606 \r\nz\r\n\" style=\"fill:#1f77b4;\"/>\r\n   </g>\r\n   <g id=\"patch_451\">\r\n    <path clip-path=\"url(#pb9532bb2fe)\" d=\"M 33.2875 71.058251 \r\nL 65.173214 71.058251 \r\nL 65.173214 70.882896 \r\nL 33.2875 70.882896 \r\nz\r\n\" style=\"fill:#1f77b4;\"/>\r\n   </g>\r\n   <g id=\"patch_452\">\r\n    <path clip-path=\"url(#pb9532bb2fe)\" d=\"M 33.2875 70.707541 \r\nL 41.258929 70.707541 \r\nL 41.258929 70.532186 \r\nL 33.2875 70.532186 \r\nz\r\n\" style=\"fill:#1f77b4;\"/>\r\n   </g>\r\n   <g id=\"patch_453\">\r\n    <path clip-path=\"url(#pb9532bb2fe)\" d=\"M 33.2875 70.356832 \r\nL 144.8875 70.356832 \r\nL 144.8875 70.181477 \r\nL 33.2875 70.181477 \r\nz\r\n\" style=\"fill:#1f77b4;\"/>\r\n   </g>\r\n   <g id=\"patch_454\">\r\n    <path clip-path=\"url(#pb9532bb2fe)\" d=\"M 33.2875 70.006122 \r\nL 105.030357 70.006122 \r\nL 105.030357 69.830767 \r\nL 33.2875 69.830767 \r\nz\r\n\" style=\"fill:#1f77b4;\"/>\r\n   </g>\r\n   <g id=\"patch_455\">\r\n    <path clip-path=\"url(#pb9532bb2fe)\" d=\"M 33.2875 69.655412 \r\nL 41.258929 69.655412 \r\nL 41.258929 69.480057 \r\nL 33.2875 69.480057 \r\nz\r\n\" style=\"fill:#1f77b4;\"/>\r\n   </g>\r\n   <g id=\"patch_456\">\r\n    <path clip-path=\"url(#pb9532bb2fe)\" d=\"M 33.2875 69.304703 \r\nL 73.144643 69.304703 \r\nL 73.144643 69.129348 \r\nL 33.2875 69.129348 \r\nz\r\n\" style=\"fill:#1f77b4;\"/>\r\n   </g>\r\n   <g id=\"patch_457\">\r\n    <path clip-path=\"url(#pb9532bb2fe)\" d=\"M 33.2875 68.953993 \r\nL 152.858929 68.953993 \r\nL 152.858929 68.778638 \r\nL 33.2875 68.778638 \r\nz\r\n\" style=\"fill:#1f77b4;\"/>\r\n   </g>\r\n   <g id=\"patch_458\">\r\n    <path clip-path=\"url(#pb9532bb2fe)\" d=\"M 33.2875 68.603283 \r\nL 49.230357 68.603283 \r\nL 49.230357 68.427928 \r\nL 33.2875 68.427928 \r\nz\r\n\" style=\"fill:#1f77b4;\"/>\r\n   </g>\r\n   <g id=\"patch_459\">\r\n    <path clip-path=\"url(#pb9532bb2fe)\" d=\"M 33.2875 68.252574 \r\nL 41.258929 68.252574 \r\nL 41.258929 68.077219 \r\nL 33.2875 68.077219 \r\nz\r\n\" style=\"fill:#1f77b4;\"/>\r\n   </g>\r\n   <g id=\"patch_460\">\r\n    <path clip-path=\"url(#pb9532bb2fe)\" d=\"M 33.2875 67.901864 \r\nL 57.201786 67.901864 \r\nL 57.201786 67.726509 \r\nL 33.2875 67.726509 \r\nz\r\n\" style=\"fill:#1f77b4;\"/>\r\n   </g>\r\n   <g id=\"patch_461\">\r\n    <path clip-path=\"url(#pb9532bb2fe)\" d=\"M 33.2875 67.551154 \r\nL 57.201786 67.551154 \r\nL 57.201786 67.375799 \r\nL 33.2875 67.375799 \r\nz\r\n\" style=\"fill:#1f77b4;\"/>\r\n   </g>\r\n   <g id=\"patch_462\">\r\n    <path clip-path=\"url(#pb9532bb2fe)\" d=\"M 33.2875 67.200445 \r\nL 57.201786 67.200445 \r\nL 57.201786 67.02509 \r\nL 33.2875 67.02509 \r\nz\r\n\" style=\"fill:#1f77b4;\"/>\r\n   </g>\r\n   <g id=\"patch_463\">\r\n    <path clip-path=\"url(#pb9532bb2fe)\" d=\"M 33.2875 66.849735 \r\nL 81.116071 66.849735 \r\nL 81.116071 66.67438 \r\nL 33.2875 66.67438 \r\nz\r\n\" style=\"fill:#1f77b4;\"/>\r\n   </g>\r\n   <g id=\"patch_464\">\r\n    <path clip-path=\"url(#pb9532bb2fe)\" d=\"M 33.2875 66.499025 \r\nL 89.0875 66.499025 \r\nL 89.0875 66.32367 \r\nL 33.2875 66.32367 \r\nz\r\n\" style=\"fill:#1f77b4;\"/>\r\n   </g>\r\n   <g id=\"patch_465\">\r\n    <path clip-path=\"url(#pb9532bb2fe)\" d=\"M 33.2875 66.148316 \r\nL 120.973214 66.148316 \r\nL 120.973214 65.972961 \r\nL 33.2875 65.972961 \r\nz\r\n\" style=\"fill:#1f77b4;\"/>\r\n   </g>\r\n   <g id=\"patch_466\">\r\n    <path clip-path=\"url(#pb9532bb2fe)\" d=\"M 33.2875 65.797606 \r\nL 57.201786 65.797606 \r\nL 57.201786 65.622251 \r\nL 33.2875 65.622251 \r\nz\r\n\" style=\"fill:#1f77b4;\"/>\r\n   </g>\r\n   <g id=\"patch_467\">\r\n    <path clip-path=\"url(#pb9532bb2fe)\" d=\"M 33.2875 65.446896 \r\nL 73.144643 65.446896 \r\nL 73.144643 65.271541 \r\nL 33.2875 65.271541 \r\nz\r\n\" style=\"fill:#1f77b4;\"/>\r\n   </g>\r\n   <g id=\"patch_468\">\r\n    <path clip-path=\"url(#pb9532bb2fe)\" d=\"M 33.2875 65.096186 \r\nL 152.858929 65.096186 \r\nL 152.858929 64.920832 \r\nL 33.2875 64.920832 \r\nz\r\n\" style=\"fill:#1f77b4;\"/>\r\n   </g>\r\n   <g id=\"patch_469\">\r\n    <path clip-path=\"url(#pb9532bb2fe)\" d=\"M 33.2875 64.745477 \r\nL 73.144643 64.745477 \r\nL 73.144643 64.570122 \r\nL 33.2875 64.570122 \r\nz\r\n\" style=\"fill:#1f77b4;\"/>\r\n   </g>\r\n   <g id=\"patch_470\">\r\n    <path clip-path=\"url(#pb9532bb2fe)\" d=\"M 33.2875 64.394767 \r\nL 65.173214 64.394767 \r\nL 65.173214 64.219412 \r\nL 33.2875 64.219412 \r\nz\r\n\" style=\"fill:#1f77b4;\"/>\r\n   </g>\r\n   <g id=\"patch_471\">\r\n    <path clip-path=\"url(#pb9532bb2fe)\" d=\"M 33.2875 64.044057 \r\nL 65.173214 64.044057 \r\nL 65.173214 63.868703 \r\nL 33.2875 63.868703 \r\nz\r\n\" style=\"fill:#1f77b4;\"/>\r\n   </g>\r\n   <g id=\"patch_472\">\r\n    <path clip-path=\"url(#pb9532bb2fe)\" d=\"M 33.2875 63.693348 \r\nL 57.201786 63.693348 \r\nL 57.201786 63.517993 \r\nL 33.2875 63.517993 \r\nz\r\n\" style=\"fill:#1f77b4;\"/>\r\n   </g>\r\n   <g id=\"patch_473\">\r\n    <path clip-path=\"url(#pb9532bb2fe)\" d=\"M 33.2875 63.342638 \r\nL 33.2875 63.342638 \r\nL 33.2875 63.167283 \r\nL 33.2875 63.167283 \r\nz\r\n\" style=\"fill:#1f77b4;\"/>\r\n   </g>\r\n   <g id=\"patch_474\">\r\n    <path clip-path=\"url(#pb9532bb2fe)\" d=\"M 33.2875 62.991928 \r\nL 128.944643 62.991928 \r\nL 128.944643 62.816574 \r\nL 33.2875 62.816574 \r\nz\r\n\" style=\"fill:#1f77b4;\"/>\r\n   </g>\r\n   <g id=\"patch_475\">\r\n    <path clip-path=\"url(#pb9532bb2fe)\" d=\"M 33.2875 62.641219 \r\nL 120.973214 62.641219 \r\nL 120.973214 62.465864 \r\nL 33.2875 62.465864 \r\nz\r\n\" style=\"fill:#1f77b4;\"/>\r\n   </g>\r\n   <g id=\"patch_476\">\r\n    <path clip-path=\"url(#pb9532bb2fe)\" d=\"M 33.2875 62.290509 \r\nL 113.001786 62.290509 \r\nL 113.001786 62.115154 \r\nL 33.2875 62.115154 \r\nz\r\n\" style=\"fill:#1f77b4;\"/>\r\n   </g>\r\n   <g id=\"patch_477\">\r\n    <path clip-path=\"url(#pb9532bb2fe)\" d=\"M 33.2875 61.939799 \r\nL 81.116071 61.939799 \r\nL 81.116071 61.764445 \r\nL 33.2875 61.764445 \r\nz\r\n\" style=\"fill:#1f77b4;\"/>\r\n   </g>\r\n   <g id=\"patch_478\">\r\n    <path clip-path=\"url(#pb9532bb2fe)\" d=\"M 33.2875 61.58909 \r\nL 49.230357 61.58909 \r\nL 49.230357 61.413735 \r\nL 33.2875 61.413735 \r\nz\r\n\" style=\"fill:#1f77b4;\"/>\r\n   </g>\r\n   <g id=\"patch_479\">\r\n    <path clip-path=\"url(#pb9532bb2fe)\" d=\"M 33.2875 61.23838 \r\nL 113.001786 61.23838 \r\nL 113.001786 61.063025 \r\nL 33.2875 61.063025 \r\nz\r\n\" style=\"fill:#1f77b4;\"/>\r\n   </g>\r\n   <g id=\"patch_480\">\r\n    <path clip-path=\"url(#pb9532bb2fe)\" d=\"M 33.2875 60.88767 \r\nL 144.8875 60.88767 \r\nL 144.8875 60.712316 \r\nL 33.2875 60.712316 \r\nz\r\n\" style=\"fill:#1f77b4;\"/>\r\n   </g>\r\n   <g id=\"patch_481\">\r\n    <path clip-path=\"url(#pb9532bb2fe)\" d=\"M 33.2875 60.536961 \r\nL 97.058929 60.536961 \r\nL 97.058929 60.361606 \r\nL 33.2875 60.361606 \r\nz\r\n\" style=\"fill:#1f77b4;\"/>\r\n   </g>\r\n   <g id=\"patch_482\">\r\n    <path clip-path=\"url(#pb9532bb2fe)\" d=\"M 33.2875 60.186251 \r\nL 81.116071 60.186251 \r\nL 81.116071 60.010896 \r\nL 33.2875 60.010896 \r\nz\r\n\" style=\"fill:#1f77b4;\"/>\r\n   </g>\r\n   <g id=\"patch_483\">\r\n    <path clip-path=\"url(#pb9532bb2fe)\" d=\"M 33.2875 59.835541 \r\nL 144.8875 59.835541 \r\nL 144.8875 59.660186 \r\nL 33.2875 59.660186 \r\nz\r\n\" style=\"fill:#1f77b4;\"/>\r\n   </g>\r\n   <g id=\"patch_484\">\r\n    <path clip-path=\"url(#pb9532bb2fe)\" d=\"M 33.2875 59.484832 \r\nL 65.173214 59.484832 \r\nL 65.173214 59.309477 \r\nL 33.2875 59.309477 \r\nz\r\n\" style=\"fill:#1f77b4;\"/>\r\n   </g>\r\n   <g id=\"patch_485\">\r\n    <path clip-path=\"url(#pb9532bb2fe)\" d=\"M 33.2875 59.134122 \r\nL 120.973214 59.134122 \r\nL 120.973214 58.958767 \r\nL 33.2875 58.958767 \r\nz\r\n\" style=\"fill:#1f77b4;\"/>\r\n   </g>\r\n   <g id=\"patch_486\">\r\n    <path clip-path=\"url(#pb9532bb2fe)\" d=\"M 33.2875 58.783412 \r\nL 49.230357 58.783412 \r\nL 49.230357 58.608057 \r\nL 33.2875 58.608057 \r\nz\r\n\" style=\"fill:#1f77b4;\"/>\r\n   </g>\r\n   <g id=\"patch_487\">\r\n    <path clip-path=\"url(#pb9532bb2fe)\" d=\"M 33.2875 58.432703 \r\nL 97.058929 58.432703 \r\nL 97.058929 58.257348 \r\nL 33.2875 58.257348 \r\nz\r\n\" style=\"fill:#1f77b4;\"/>\r\n   </g>\r\n   <g id=\"patch_488\">\r\n    <path clip-path=\"url(#pb9532bb2fe)\" d=\"M 33.2875 58.081993 \r\nL 65.173214 58.081993 \r\nL 65.173214 57.906638 \r\nL 33.2875 57.906638 \r\nz\r\n\" style=\"fill:#1f77b4;\"/>\r\n   </g>\r\n   <g id=\"patch_489\">\r\n    <path clip-path=\"url(#pb9532bb2fe)\" d=\"M 33.2875 57.731283 \r\nL 113.001786 57.731283 \r\nL 113.001786 57.555928 \r\nL 33.2875 57.555928 \r\nz\r\n\" style=\"fill:#1f77b4;\"/>\r\n   </g>\r\n   <g id=\"patch_490\">\r\n    <path clip-path=\"url(#pb9532bb2fe)\" d=\"M 33.2875 57.380574 \r\nL 41.258929 57.380574 \r\nL 41.258929 57.205219 \r\nL 33.2875 57.205219 \r\nz\r\n\" style=\"fill:#1f77b4;\"/>\r\n   </g>\r\n   <g id=\"patch_491\">\r\n    <path clip-path=\"url(#pb9532bb2fe)\" d=\"M 33.2875 57.029864 \r\nL 128.944643 57.029864 \r\nL 128.944643 56.854509 \r\nL 33.2875 56.854509 \r\nz\r\n\" style=\"fill:#1f77b4;\"/>\r\n   </g>\r\n   <g id=\"patch_492\">\r\n    <path clip-path=\"url(#pb9532bb2fe)\" d=\"M 33.2875 56.679154 \r\nL 73.144643 56.679154 \r\nL 73.144643 56.503799 \r\nL 33.2875 56.503799 \r\nz\r\n\" style=\"fill:#1f77b4;\"/>\r\n   </g>\r\n   <g id=\"patch_493\">\r\n    <path clip-path=\"url(#pb9532bb2fe)\" d=\"M 33.2875 56.328445 \r\nL 97.058929 56.328445 \r\nL 97.058929 56.15309 \r\nL 33.2875 56.15309 \r\nz\r\n\" style=\"fill:#1f77b4;\"/>\r\n   </g>\r\n   <g id=\"patch_494\">\r\n    <path clip-path=\"url(#pb9532bb2fe)\" d=\"M 33.2875 55.977735 \r\nL 81.116071 55.977735 \r\nL 81.116071 55.80238 \r\nL 33.2875 55.80238 \r\nz\r\n\" style=\"fill:#1f77b4;\"/>\r\n   </g>\r\n   <g id=\"patch_495\">\r\n    <path clip-path=\"url(#pb9532bb2fe)\" d=\"M 33.2875 55.627025 \r\nL 41.258929 55.627025 \r\nL 41.258929 55.45167 \r\nL 33.2875 55.45167 \r\nz\r\n\" style=\"fill:#1f77b4;\"/>\r\n   </g>\r\n   <g id=\"patch_496\">\r\n    <path clip-path=\"url(#pb9532bb2fe)\" d=\"M 33.2875 55.276316 \r\nL 65.173214 55.276316 \r\nL 65.173214 55.100961 \r\nL 33.2875 55.100961 \r\nz\r\n\" style=\"fill:#1f77b4;\"/>\r\n   </g>\r\n   <g id=\"patch_497\">\r\n    <path clip-path=\"url(#pb9532bb2fe)\" d=\"M 33.2875 54.925606 \r\nL 65.173214 54.925606 \r\nL 65.173214 54.750251 \r\nL 33.2875 54.750251 \r\nz\r\n\" style=\"fill:#1f77b4;\"/>\r\n   </g>\r\n   <g id=\"patch_498\">\r\n    <path clip-path=\"url(#pb9532bb2fe)\" d=\"M 33.2875 54.574896 \r\nL 49.230357 54.574896 \r\nL 49.230357 54.399541 \r\nL 33.2875 54.399541 \r\nz\r\n\" style=\"fill:#1f77b4;\"/>\r\n   </g>\r\n   <g id=\"patch_499\">\r\n    <path clip-path=\"url(#pb9532bb2fe)\" d=\"M 33.2875 54.224186 \r\nL 65.173214 54.224186 \r\nL 65.173214 54.048832 \r\nL 33.2875 54.048832 \r\nz\r\n\" style=\"fill:#1f77b4;\"/>\r\n   </g>\r\n   <g id=\"patch_500\">\r\n    <path clip-path=\"url(#pb9532bb2fe)\" d=\"M 33.2875 53.873477 \r\nL 97.058929 53.873477 \r\nL 97.058929 53.698122 \r\nL 33.2875 53.698122 \r\nz\r\n\" style=\"fill:#1f77b4;\"/>\r\n   </g>\r\n   <g id=\"patch_501\">\r\n    <path clip-path=\"url(#pb9532bb2fe)\" d=\"M 33.2875 53.522767 \r\nL 113.001786 53.522767 \r\nL 113.001786 53.347412 \r\nL 33.2875 53.347412 \r\nz\r\n\" style=\"fill:#1f77b4;\"/>\r\n   </g>\r\n   <g id=\"patch_502\">\r\n    <path clip-path=\"url(#pb9532bb2fe)\" d=\"M 33.2875 53.172057 \r\nL 176.773214 53.172057 \r\nL 176.773214 52.996703 \r\nL 33.2875 52.996703 \r\nz\r\n\" style=\"fill:#1f77b4;\"/>\r\n   </g>\r\n   <g id=\"patch_503\">\r\n    <path clip-path=\"url(#pb9532bb2fe)\" d=\"M 33.2875 52.821348 \r\nL 113.001786 52.821348 \r\nL 113.001786 52.645993 \r\nL 33.2875 52.645993 \r\nz\r\n\" style=\"fill:#1f77b4;\"/>\r\n   </g>\r\n   <g id=\"patch_504\">\r\n    <path clip-path=\"url(#pb9532bb2fe)\" d=\"M 33.2875 52.470638 \r\nL 136.916071 52.470638 \r\nL 136.916071 52.295283 \r\nL 33.2875 52.295283 \r\nz\r\n\" style=\"fill:#1f77b4;\"/>\r\n   </g>\r\n   <g id=\"patch_505\">\r\n    <path clip-path=\"url(#pb9532bb2fe)\" d=\"M 33.2875 52.119928 \r\nL 81.116071 52.119928 \r\nL 81.116071 51.944574 \r\nL 33.2875 51.944574 \r\nz\r\n\" style=\"fill:#1f77b4;\"/>\r\n   </g>\r\n   <g id=\"patch_506\">\r\n    <path clip-path=\"url(#pb9532bb2fe)\" d=\"M 33.2875 51.769219 \r\nL 120.973214 51.769219 \r\nL 120.973214 51.593864 \r\nL 33.2875 51.593864 \r\nz\r\n\" style=\"fill:#1f77b4;\"/>\r\n   </g>\r\n   <g id=\"patch_507\">\r\n    <path clip-path=\"url(#pb9532bb2fe)\" d=\"M 33.2875 51.418509 \r\nL 41.258929 51.418509 \r\nL 41.258929 51.243154 \r\nL 33.2875 51.243154 \r\nz\r\n\" style=\"fill:#1f77b4;\"/>\r\n   </g>\r\n   <g id=\"patch_508\">\r\n    <path clip-path=\"url(#pb9532bb2fe)\" d=\"M 33.2875 51.067799 \r\nL 152.858929 51.067799 \r\nL 152.858929 50.892445 \r\nL 33.2875 50.892445 \r\nz\r\n\" style=\"fill:#1f77b4;\"/>\r\n   </g>\r\n   <g id=\"patch_509\">\r\n    <path clip-path=\"url(#pb9532bb2fe)\" d=\"M 33.2875 50.71709 \r\nL 113.001786 50.71709 \r\nL 113.001786 50.541735 \r\nL 33.2875 50.541735 \r\nz\r\n\" style=\"fill:#1f77b4;\"/>\r\n   </g>\r\n   <g id=\"patch_510\">\r\n    <path clip-path=\"url(#pb9532bb2fe)\" d=\"M 33.2875 50.36638 \r\nL 81.116071 50.36638 \r\nL 81.116071 50.191025 \r\nL 33.2875 50.191025 \r\nz\r\n\" style=\"fill:#1f77b4;\"/>\r\n   </g>\r\n   <g id=\"patch_511\">\r\n    <path clip-path=\"url(#pb9532bb2fe)\" d=\"M 33.2875 50.01567 \r\nL 97.058929 50.01567 \r\nL 97.058929 49.840316 \r\nL 33.2875 49.840316 \r\nz\r\n\" style=\"fill:#1f77b4;\"/>\r\n   </g>\r\n   <g id=\"patch_512\">\r\n    <path clip-path=\"url(#pb9532bb2fe)\" d=\"M 33.2875 49.664961 \r\nL 73.144643 49.664961 \r\nL 73.144643 49.489606 \r\nL 33.2875 49.489606 \r\nz\r\n\" style=\"fill:#1f77b4;\"/>\r\n   </g>\r\n   <g id=\"patch_513\">\r\n    <path clip-path=\"url(#pb9532bb2fe)\" d=\"M 33.2875 49.314251 \r\nL 105.030357 49.314251 \r\nL 105.030357 49.138896 \r\nL 33.2875 49.138896 \r\nz\r\n\" style=\"fill:#1f77b4;\"/>\r\n   </g>\r\n   <g id=\"patch_514\">\r\n    <path clip-path=\"url(#pb9532bb2fe)\" d=\"M 33.2875 48.963541 \r\nL 73.144643 48.963541 \r\nL 73.144643 48.788186 \r\nL 33.2875 48.788186 \r\nz\r\n\" style=\"fill:#1f77b4;\"/>\r\n   </g>\r\n   <g id=\"patch_515\">\r\n    <path clip-path=\"url(#pb9532bb2fe)\" d=\"M 33.2875 48.612832 \r\nL 97.058929 48.612832 \r\nL 97.058929 48.437477 \r\nL 33.2875 48.437477 \r\nz\r\n\" style=\"fill:#1f77b4;\"/>\r\n   </g>\r\n   <g id=\"patch_516\">\r\n    <path clip-path=\"url(#pb9532bb2fe)\" d=\"M 33.2875 48.262122 \r\nL 65.173214 48.262122 \r\nL 65.173214 48.086767 \r\nL 33.2875 48.086767 \r\nz\r\n\" style=\"fill:#1f77b4;\"/>\r\n   </g>\r\n   <g id=\"patch_517\">\r\n    <path clip-path=\"url(#pb9532bb2fe)\" d=\"M 33.2875 47.911412 \r\nL 152.858929 47.911412 \r\nL 152.858929 47.736057 \r\nL 33.2875 47.736057 \r\nz\r\n\" style=\"fill:#1f77b4;\"/>\r\n   </g>\r\n   <g id=\"patch_518\">\r\n    <path clip-path=\"url(#pb9532bb2fe)\" d=\"M 33.2875 47.560703 \r\nL 97.058929 47.560703 \r\nL 97.058929 47.385348 \r\nL 33.2875 47.385348 \r\nz\r\n\" style=\"fill:#1f77b4;\"/>\r\n   </g>\r\n   <g id=\"patch_519\">\r\n    <path clip-path=\"url(#pb9532bb2fe)\" d=\"M 33.2875 47.209993 \r\nL 57.201786 47.209993 \r\nL 57.201786 47.034638 \r\nL 33.2875 47.034638 \r\nz\r\n\" style=\"fill:#1f77b4;\"/>\r\n   </g>\r\n   <g id=\"patch_520\">\r\n    <path clip-path=\"url(#pb9532bb2fe)\" d=\"M 33.2875 46.859283 \r\nL 81.116071 46.859283 \r\nL 81.116071 46.683928 \r\nL 33.2875 46.683928 \r\nz\r\n\" style=\"fill:#1f77b4;\"/>\r\n   </g>\r\n   <g id=\"patch_521\">\r\n    <path clip-path=\"url(#pb9532bb2fe)\" d=\"M 33.2875 46.508574 \r\nL 120.973214 46.508574 \r\nL 120.973214 46.333219 \r\nL 33.2875 46.333219 \r\nz\r\n\" style=\"fill:#1f77b4;\"/>\r\n   </g>\r\n   <g id=\"patch_522\">\r\n    <path clip-path=\"url(#pb9532bb2fe)\" d=\"M 33.2875 46.157864 \r\nL 120.973214 46.157864 \r\nL 120.973214 45.982509 \r\nL 33.2875 45.982509 \r\nz\r\n\" style=\"fill:#1f77b4;\"/>\r\n   </g>\r\n   <g id=\"patch_523\">\r\n    <path clip-path=\"url(#pb9532bb2fe)\" d=\"M 33.2875 45.807154 \r\nL 57.201786 45.807154 \r\nL 57.201786 45.631799 \r\nL 33.2875 45.631799 \r\nz\r\n\" style=\"fill:#1f77b4;\"/>\r\n   </g>\r\n   <g id=\"patch_524\">\r\n    <path clip-path=\"url(#pb9532bb2fe)\" d=\"M 33.2875 45.456445 \r\nL 73.144643 45.456445 \r\nL 73.144643 45.28109 \r\nL 33.2875 45.28109 \r\nz\r\n\" style=\"fill:#1f77b4;\"/>\r\n   </g>\r\n   <g id=\"patch_525\">\r\n    <path clip-path=\"url(#pb9532bb2fe)\" d=\"M 33.2875 45.105735 \r\nL 113.001786 45.105735 \r\nL 113.001786 44.93038 \r\nL 33.2875 44.93038 \r\nz\r\n\" style=\"fill:#1f77b4;\"/>\r\n   </g>\r\n   <g id=\"patch_526\">\r\n    <path clip-path=\"url(#pb9532bb2fe)\" d=\"M 33.2875 44.755025 \r\nL 120.973214 44.755025 \r\nL 120.973214 44.57967 \r\nL 33.2875 44.57967 \r\nz\r\n\" style=\"fill:#1f77b4;\"/>\r\n   </g>\r\n   <g id=\"patch_527\">\r\n    <path clip-path=\"url(#pb9532bb2fe)\" d=\"M 33.2875 44.404316 \r\nL 128.944643 44.404316 \r\nL 128.944643 44.228961 \r\nL 33.2875 44.228961 \r\nz\r\n\" style=\"fill:#1f77b4;\"/>\r\n   </g>\r\n   <g id=\"patch_528\">\r\n    <path clip-path=\"url(#pb9532bb2fe)\" d=\"M 33.2875 44.053606 \r\nL 89.0875 44.053606 \r\nL 89.0875 43.878251 \r\nL 33.2875 43.878251 \r\nz\r\n\" style=\"fill:#1f77b4;\"/>\r\n   </g>\r\n   <g id=\"patch_529\">\r\n    <path clip-path=\"url(#pb9532bb2fe)\" d=\"M 33.2875 43.702896 \r\nL 57.201786 43.702896 \r\nL 57.201786 43.527541 \r\nL 33.2875 43.527541 \r\nz\r\n\" style=\"fill:#1f77b4;\"/>\r\n   </g>\r\n   <g id=\"patch_530\">\r\n    <path clip-path=\"url(#pb9532bb2fe)\" d=\"M 33.2875 43.352186 \r\nL 128.944643 43.352186 \r\nL 128.944643 43.176832 \r\nL 33.2875 43.176832 \r\nz\r\n\" style=\"fill:#1f77b4;\"/>\r\n   </g>\r\n   <g id=\"patch_531\">\r\n    <path clip-path=\"url(#pb9532bb2fe)\" d=\"M 33.2875 43.001477 \r\nL 97.058929 43.001477 \r\nL 97.058929 42.826122 \r\nL 33.2875 42.826122 \r\nz\r\n\" style=\"fill:#1f77b4;\"/>\r\n   </g>\r\n   <g id=\"patch_532\">\r\n    <path clip-path=\"url(#pb9532bb2fe)\" d=\"M 33.2875 42.650767 \r\nL 105.030357 42.650767 \r\nL 105.030357 42.475412 \r\nL 33.2875 42.475412 \r\nz\r\n\" style=\"fill:#1f77b4;\"/>\r\n   </g>\r\n   <g id=\"patch_533\">\r\n    <path clip-path=\"url(#pb9532bb2fe)\" d=\"M 33.2875 42.300057 \r\nL 97.058929 42.300057 \r\nL 97.058929 42.124703 \r\nL 33.2875 42.124703 \r\nz\r\n\" style=\"fill:#1f77b4;\"/>\r\n   </g>\r\n   <g id=\"patch_534\">\r\n    <path clip-path=\"url(#pb9532bb2fe)\" d=\"M 33.2875 41.949348 \r\nL 97.058929 41.949348 \r\nL 97.058929 41.773993 \r\nL 33.2875 41.773993 \r\nz\r\n\" style=\"fill:#1f77b4;\"/>\r\n   </g>\r\n   <g id=\"patch_535\">\r\n    <path clip-path=\"url(#pb9532bb2fe)\" d=\"M 33.2875 41.598638 \r\nL 120.973214 41.598638 \r\nL 120.973214 41.423283 \r\nL 33.2875 41.423283 \r\nz\r\n\" style=\"fill:#1f77b4;\"/>\r\n   </g>\r\n   <g id=\"patch_536\">\r\n    <path clip-path=\"url(#pb9532bb2fe)\" d=\"M 33.2875 41.247928 \r\nL 81.116071 41.247928 \r\nL 81.116071 41.072574 \r\nL 33.2875 41.072574 \r\nz\r\n\" style=\"fill:#1f77b4;\"/>\r\n   </g>\r\n   <g id=\"patch_537\">\r\n    <path clip-path=\"url(#pb9532bb2fe)\" d=\"M 33.2875 40.897219 \r\nL 89.0875 40.897219 \r\nL 89.0875 40.721864 \r\nL 33.2875 40.721864 \r\nz\r\n\" style=\"fill:#1f77b4;\"/>\r\n   </g>\r\n   <g id=\"patch_538\">\r\n    <path clip-path=\"url(#pb9532bb2fe)\" d=\"M 33.2875 40.546509 \r\nL 97.058929 40.546509 \r\nL 97.058929 40.371154 \r\nL 33.2875 40.371154 \r\nz\r\n\" style=\"fill:#1f77b4;\"/>\r\n   </g>\r\n   <g id=\"patch_539\">\r\n    <path clip-path=\"url(#pb9532bb2fe)\" d=\"M 33.2875 40.195799 \r\nL 57.201786 40.195799 \r\nL 57.201786 40.020445 \r\nL 33.2875 40.020445 \r\nz\r\n\" style=\"fill:#1f77b4;\"/>\r\n   </g>\r\n   <g id=\"patch_540\">\r\n    <path clip-path=\"url(#pb9532bb2fe)\" d=\"M 33.2875 39.84509 \r\nL 81.116071 39.84509 \r\nL 81.116071 39.669735 \r\nL 33.2875 39.669735 \r\nz\r\n\" style=\"fill:#1f77b4;\"/>\r\n   </g>\r\n   <g id=\"patch_541\">\r\n    <path clip-path=\"url(#pb9532bb2fe)\" d=\"M 33.2875 39.49438 \r\nL 81.116071 39.49438 \r\nL 81.116071 39.319025 \r\nL 33.2875 39.319025 \r\nz\r\n\" style=\"fill:#1f77b4;\"/>\r\n   </g>\r\n   <g id=\"patch_542\">\r\n    <path clip-path=\"url(#pb9532bb2fe)\" d=\"M 33.2875 39.14367 \r\nL 97.058929 39.14367 \r\nL 97.058929 38.968316 \r\nL 33.2875 38.968316 \r\nz\r\n\" style=\"fill:#1f77b4;\"/>\r\n   </g>\r\n   <g id=\"patch_543\">\r\n    <path clip-path=\"url(#pb9532bb2fe)\" d=\"M 33.2875 38.792961 \r\nL 49.230357 38.792961 \r\nL 49.230357 38.617606 \r\nL 33.2875 38.617606 \r\nz\r\n\" style=\"fill:#1f77b4;\"/>\r\n   </g>\r\n   <g id=\"patch_544\">\r\n    <path clip-path=\"url(#pb9532bb2fe)\" d=\"M 33.2875 38.442251 \r\nL 113.001786 38.442251 \r\nL 113.001786 38.266896 \r\nL 33.2875 38.266896 \r\nz\r\n\" style=\"fill:#1f77b4;\"/>\r\n   </g>\r\n   <g id=\"patch_545\">\r\n    <path clip-path=\"url(#pb9532bb2fe)\" d=\"M 33.2875 38.091541 \r\nL 41.258929 38.091541 \r\nL 41.258929 37.916186 \r\nL 33.2875 37.916186 \r\nz\r\n\" style=\"fill:#1f77b4;\"/>\r\n   </g>\r\n   <g id=\"patch_546\">\r\n    <path clip-path=\"url(#pb9532bb2fe)\" d=\"M 33.2875 37.740832 \r\nL 89.0875 37.740832 \r\nL 89.0875 37.565477 \r\nL 33.2875 37.565477 \r\nz\r\n\" style=\"fill:#1f77b4;\"/>\r\n   </g>\r\n   <g id=\"patch_547\">\r\n    <path clip-path=\"url(#pb9532bb2fe)\" d=\"M 33.2875 37.390122 \r\nL 49.230357 37.390122 \r\nL 49.230357 37.214767 \r\nL 33.2875 37.214767 \r\nz\r\n\" style=\"fill:#1f77b4;\"/>\r\n   </g>\r\n   <g id=\"patch_548\">\r\n    <path clip-path=\"url(#pb9532bb2fe)\" d=\"M 33.2875 37.039412 \r\nL 65.173214 37.039412 \r\nL 65.173214 36.864057 \r\nL 33.2875 36.864057 \r\nz\r\n\" style=\"fill:#1f77b4;\"/>\r\n   </g>\r\n   <g id=\"patch_549\">\r\n    <path clip-path=\"url(#pb9532bb2fe)\" d=\"M 33.2875 36.688703 \r\nL 113.001786 36.688703 \r\nL 113.001786 36.513348 \r\nL 33.2875 36.513348 \r\nz\r\n\" style=\"fill:#1f77b4;\"/>\r\n   </g>\r\n   <g id=\"patch_550\">\r\n    <path clip-path=\"url(#pb9532bb2fe)\" d=\"M 33.2875 36.337993 \r\nL 120.973214 36.337993 \r\nL 120.973214 36.162638 \r\nL 33.2875 36.162638 \r\nz\r\n\" style=\"fill:#1f77b4;\"/>\r\n   </g>\r\n   <g id=\"patch_551\">\r\n    <path clip-path=\"url(#pb9532bb2fe)\" d=\"M 33.2875 35.987283 \r\nL 65.173214 35.987283 \r\nL 65.173214 35.811928 \r\nL 33.2875 35.811928 \r\nz\r\n\" style=\"fill:#1f77b4;\"/>\r\n   </g>\r\n   <g id=\"patch_552\">\r\n    <path clip-path=\"url(#pb9532bb2fe)\" d=\"M 33.2875 35.636574 \r\nL 49.230357 35.636574 \r\nL 49.230357 35.461219 \r\nL 33.2875 35.461219 \r\nz\r\n\" style=\"fill:#1f77b4;\"/>\r\n   </g>\r\n   <g id=\"patch_553\">\r\n    <path clip-path=\"url(#pb9532bb2fe)\" d=\"M 33.2875 35.285864 \r\nL 57.201786 35.285864 \r\nL 57.201786 35.110509 \r\nL 33.2875 35.110509 \r\nz\r\n\" style=\"fill:#1f77b4;\"/>\r\n   </g>\r\n   <g id=\"patch_554\">\r\n    <path clip-path=\"url(#pb9532bb2fe)\" d=\"M 33.2875 34.935154 \r\nL 152.858929 34.935154 \r\nL 152.858929 34.759799 \r\nL 33.2875 34.759799 \r\nz\r\n\" style=\"fill:#1f77b4;\"/>\r\n   </g>\r\n   <g id=\"patch_555\">\r\n    <path clip-path=\"url(#pb9532bb2fe)\" d=\"M 33.2875 34.584445 \r\nL 105.030357 34.584445 \r\nL 105.030357 34.40909 \r\nL 33.2875 34.40909 \r\nz\r\n\" style=\"fill:#1f77b4;\"/>\r\n   </g>\r\n   <g id=\"patch_556\">\r\n    <path clip-path=\"url(#pb9532bb2fe)\" d=\"M 33.2875 34.233735 \r\nL 65.173214 34.233735 \r\nL 65.173214 34.05838 \r\nL 33.2875 34.05838 \r\nz\r\n\" style=\"fill:#1f77b4;\"/>\r\n   </g>\r\n   <g id=\"patch_557\">\r\n    <path clip-path=\"url(#pb9532bb2fe)\" d=\"M 33.2875 33.883025 \r\nL 49.230357 33.883025 \r\nL 49.230357 33.70767 \r\nL 33.2875 33.70767 \r\nz\r\n\" style=\"fill:#1f77b4;\"/>\r\n   </g>\r\n   <g id=\"patch_558\">\r\n    <path clip-path=\"url(#pb9532bb2fe)\" d=\"M 33.2875 33.532316 \r\nL 41.258929 33.532316 \r\nL 41.258929 33.356961 \r\nL 33.2875 33.356961 \r\nz\r\n\" style=\"fill:#1f77b4;\"/>\r\n   </g>\r\n   <g id=\"patch_559\">\r\n    <path clip-path=\"url(#pb9532bb2fe)\" d=\"M 33.2875 33.181606 \r\nL 73.144643 33.181606 \r\nL 73.144643 33.006251 \r\nL 33.2875 33.006251 \r\nz\r\n\" style=\"fill:#1f77b4;\"/>\r\n   </g>\r\n   <g id=\"patch_560\">\r\n    <path clip-path=\"url(#pb9532bb2fe)\" d=\"M 33.2875 32.830896 \r\nL 120.973214 32.830896 \r\nL 120.973214 32.655541 \r\nL 33.2875 32.655541 \r\nz\r\n\" style=\"fill:#1f77b4;\"/>\r\n   </g>\r\n   <g id=\"patch_561\">\r\n    <path clip-path=\"url(#pb9532bb2fe)\" d=\"M 33.2875 32.480186 \r\nL 89.0875 32.480186 \r\nL 89.0875 32.304832 \r\nL 33.2875 32.304832 \r\nz\r\n\" style=\"fill:#1f77b4;\"/>\r\n   </g>\r\n   <g id=\"patch_562\">\r\n    <path clip-path=\"url(#pb9532bb2fe)\" d=\"M 33.2875 32.129477 \r\nL 128.944643 32.129477 \r\nL 128.944643 31.954122 \r\nL 33.2875 31.954122 \r\nz\r\n\" style=\"fill:#1f77b4;\"/>\r\n   </g>\r\n   <g id=\"patch_563\">\r\n    <path clip-path=\"url(#pb9532bb2fe)\" d=\"M 33.2875 31.778767 \r\nL 113.001786 31.778767 \r\nL 113.001786 31.603412 \r\nL 33.2875 31.603412 \r\nz\r\n\" style=\"fill:#1f77b4;\"/>\r\n   </g>\r\n   <g id=\"patch_564\">\r\n    <path clip-path=\"url(#pb9532bb2fe)\" d=\"M 33.2875 31.428057 \r\nL 105.030357 31.428057 \r\nL 105.030357 31.252703 \r\nL 33.2875 31.252703 \r\nz\r\n\" style=\"fill:#1f77b4;\"/>\r\n   </g>\r\n   <g id=\"patch_565\">\r\n    <path clip-path=\"url(#pb9532bb2fe)\" d=\"M 33.2875 31.077348 \r\nL 65.173214 31.077348 \r\nL 65.173214 30.901993 \r\nL 33.2875 30.901993 \r\nz\r\n\" style=\"fill:#1f77b4;\"/>\r\n   </g>\r\n   <g id=\"patch_566\">\r\n    <path clip-path=\"url(#pb9532bb2fe)\" d=\"M 33.2875 30.726638 \r\nL 57.201786 30.726638 \r\nL 57.201786 30.551283 \r\nL 33.2875 30.551283 \r\nz\r\n\" style=\"fill:#1f77b4;\"/>\r\n   </g>\r\n   <g id=\"patch_567\">\r\n    <path clip-path=\"url(#pb9532bb2fe)\" d=\"M 33.2875 30.375928 \r\nL 152.858929 30.375928 \r\nL 152.858929 30.200574 \r\nL 33.2875 30.200574 \r\nz\r\n\" style=\"fill:#1f77b4;\"/>\r\n   </g>\r\n   <g id=\"patch_568\">\r\n    <path clip-path=\"url(#pb9532bb2fe)\" d=\"M 33.2875 30.025219 \r\nL 128.944643 30.025219 \r\nL 128.944643 29.849864 \r\nL 33.2875 29.849864 \r\nz\r\n\" style=\"fill:#1f77b4;\"/>\r\n   </g>\r\n   <g id=\"patch_569\">\r\n    <path clip-path=\"url(#pb9532bb2fe)\" d=\"M 33.2875 29.674509 \r\nL 49.230357 29.674509 \r\nL 49.230357 29.499154 \r\nL 33.2875 29.499154 \r\nz\r\n\" style=\"fill:#1f77b4;\"/>\r\n   </g>\r\n   <g id=\"patch_570\">\r\n    <path clip-path=\"url(#pb9532bb2fe)\" d=\"M 33.2875 29.323799 \r\nL 65.173214 29.323799 \r\nL 65.173214 29.148445 \r\nL 33.2875 29.148445 \r\nz\r\n\" style=\"fill:#1f77b4;\"/>\r\n   </g>\r\n   <g id=\"patch_571\">\r\n    <path clip-path=\"url(#pb9532bb2fe)\" d=\"M 33.2875 28.97309 \r\nL 120.973214 28.97309 \r\nL 120.973214 28.797735 \r\nL 33.2875 28.797735 \r\nz\r\n\" style=\"fill:#1f77b4;\"/>\r\n   </g>\r\n   <g id=\"patch_572\">\r\n    <path clip-path=\"url(#pb9532bb2fe)\" d=\"M 33.2875 28.62238 \r\nL 160.830357 28.62238 \r\nL 160.830357 28.447025 \r\nL 33.2875 28.447025 \r\nz\r\n\" style=\"fill:#1f77b4;\"/>\r\n   </g>\r\n   <g id=\"patch_573\">\r\n    <path clip-path=\"url(#pb9532bb2fe)\" d=\"M 33.2875 28.27167 \r\nL 89.0875 28.27167 \r\nL 89.0875 28.096316 \r\nL 33.2875 28.096316 \r\nz\r\n\" style=\"fill:#1f77b4;\"/>\r\n   </g>\r\n   <g id=\"patch_574\">\r\n    <path clip-path=\"url(#pb9532bb2fe)\" d=\"M 33.2875 27.920961 \r\nL 105.030357 27.920961 \r\nL 105.030357 27.745606 \r\nL 33.2875 27.745606 \r\nz\r\n\" style=\"fill:#1f77b4;\"/>\r\n   </g>\r\n   <g id=\"patch_575\">\r\n    <path clip-path=\"url(#pb9532bb2fe)\" d=\"M 33.2875 27.570251 \r\nL 81.116071 27.570251 \r\nL 81.116071 27.394896 \r\nL 33.2875 27.394896 \r\nz\r\n\" style=\"fill:#1f77b4;\"/>\r\n   </g>\r\n   <g id=\"patch_576\">\r\n    <path clip-path=\"url(#pb9532bb2fe)\" d=\"M 33.2875 27.219541 \r\nL 65.173214 27.219541 \r\nL 65.173214 27.044186 \r\nL 33.2875 27.044186 \r\nz\r\n\" style=\"fill:#1f77b4;\"/>\r\n   </g>\r\n   <g id=\"patch_577\">\r\n    <path clip-path=\"url(#pb9532bb2fe)\" d=\"M 33.2875 26.868832 \r\nL 105.030357 26.868832 \r\nL 105.030357 26.693477 \r\nL 33.2875 26.693477 \r\nz\r\n\" style=\"fill:#1f77b4;\"/>\r\n   </g>\r\n   <g id=\"patch_578\">\r\n    <path clip-path=\"url(#pb9532bb2fe)\" d=\"M 33.2875 26.518122 \r\nL 113.001786 26.518122 \r\nL 113.001786 26.342767 \r\nL 33.2875 26.342767 \r\nz\r\n\" style=\"fill:#1f77b4;\"/>\r\n   </g>\r\n   <g id=\"patch_579\">\r\n    <path clip-path=\"url(#pb9532bb2fe)\" d=\"M 33.2875 26.167412 \r\nL 41.258929 26.167412 \r\nL 41.258929 25.992057 \r\nL 33.2875 25.992057 \r\nz\r\n\" style=\"fill:#1f77b4;\"/>\r\n   </g>\r\n   <g id=\"patch_580\">\r\n    <path clip-path=\"url(#pb9532bb2fe)\" d=\"M 33.2875 25.816703 \r\nL 105.030357 25.816703 \r\nL 105.030357 25.641348 \r\nL 33.2875 25.641348 \r\nz\r\n\" style=\"fill:#1f77b4;\"/>\r\n   </g>\r\n   <g id=\"patch_581\">\r\n    <path clip-path=\"url(#pb9532bb2fe)\" d=\"M 33.2875 25.465993 \r\nL 113.001786 25.465993 \r\nL 113.001786 25.290638 \r\nL 33.2875 25.290638 \r\nz\r\n\" style=\"fill:#1f77b4;\"/>\r\n   </g>\r\n   <g id=\"patch_582\">\r\n    <path clip-path=\"url(#pb9532bb2fe)\" d=\"M 33.2875 25.115283 \r\nL 136.916071 25.115283 \r\nL 136.916071 24.939928 \r\nL 33.2875 24.939928 \r\nz\r\n\" style=\"fill:#1f77b4;\"/>\r\n   </g>\r\n   <g id=\"patch_583\">\r\n    <path clip-path=\"url(#pb9532bb2fe)\" d=\"M 33.2875 24.764574 \r\nL 49.230357 24.764574 \r\nL 49.230357 24.589219 \r\nL 33.2875 24.589219 \r\nz\r\n\" style=\"fill:#1f77b4;\"/>\r\n   </g>\r\n   <g id=\"patch_584\">\r\n    <path clip-path=\"url(#pb9532bb2fe)\" d=\"M 33.2875 24.413864 \r\nL 128.944643 24.413864 \r\nL 128.944643 24.238509 \r\nL 33.2875 24.238509 \r\nz\r\n\" style=\"fill:#1f77b4;\"/>\r\n   </g>\r\n   <g id=\"patch_585\">\r\n    <path clip-path=\"url(#pb9532bb2fe)\" d=\"M 33.2875 24.063154 \r\nL 120.973214 24.063154 \r\nL 120.973214 23.887799 \r\nL 33.2875 23.887799 \r\nz\r\n\" style=\"fill:#1f77b4;\"/>\r\n   </g>\r\n   <g id=\"patch_586\">\r\n    <path clip-path=\"url(#pb9532bb2fe)\" d=\"M 33.2875 23.712445 \r\nL 120.973214 23.712445 \r\nL 120.973214 23.53709 \r\nL 33.2875 23.53709 \r\nz\r\n\" style=\"fill:#1f77b4;\"/>\r\n   </g>\r\n   <g id=\"patch_587\">\r\n    <path clip-path=\"url(#pb9532bb2fe)\" d=\"M 33.2875 23.361735 \r\nL 81.116071 23.361735 \r\nL 81.116071 23.18638 \r\nL 33.2875 23.18638 \r\nz\r\n\" style=\"fill:#1f77b4;\"/>\r\n   </g>\r\n   <g id=\"patch_588\">\r\n    <path clip-path=\"url(#pb9532bb2fe)\" d=\"M 33.2875 23.011025 \r\nL 152.858929 23.011025 \r\nL 152.858929 22.83567 \r\nL 33.2875 22.83567 \r\nz\r\n\" style=\"fill:#1f77b4;\"/>\r\n   </g>\r\n   <g id=\"patch_589\">\r\n    <path clip-path=\"url(#pb9532bb2fe)\" d=\"M 33.2875 22.660316 \r\nL 81.116071 22.660316 \r\nL 81.116071 22.484961 \r\nL 33.2875 22.484961 \r\nz\r\n\" style=\"fill:#1f77b4;\"/>\r\n   </g>\r\n   <g id=\"patch_590\">\r\n    <path clip-path=\"url(#pb9532bb2fe)\" d=\"M 33.2875 22.309606 \r\nL 136.916071 22.309606 \r\nL 136.916071 22.134251 \r\nL 33.2875 22.134251 \r\nz\r\n\" style=\"fill:#1f77b4;\"/>\r\n   </g>\r\n   <g id=\"patch_591\">\r\n    <path clip-path=\"url(#pb9532bb2fe)\" d=\"M 33.2875 21.958896 \r\nL 57.201786 21.958896 \r\nL 57.201786 21.783541 \r\nL 33.2875 21.783541 \r\nz\r\n\" style=\"fill:#1f77b4;\"/>\r\n   </g>\r\n   <g id=\"patch_592\">\r\n    <path clip-path=\"url(#pb9532bb2fe)\" d=\"M 33.2875 21.608186 \r\nL 57.201786 21.608186 \r\nL 57.201786 21.432832 \r\nL 33.2875 21.432832 \r\nz\r\n\" style=\"fill:#1f77b4;\"/>\r\n   </g>\r\n   <g id=\"patch_593\">\r\n    <path clip-path=\"url(#pb9532bb2fe)\" d=\"M 33.2875 21.257477 \r\nL 73.144643 21.257477 \r\nL 73.144643 21.082122 \r\nL 33.2875 21.082122 \r\nz\r\n\" style=\"fill:#1f77b4;\"/>\r\n   </g>\r\n   <g id=\"patch_594\">\r\n    <path clip-path=\"url(#pb9532bb2fe)\" d=\"M 33.2875 20.906767 \r\nL 105.030357 20.906767 \r\nL 105.030357 20.731412 \r\nL 33.2875 20.731412 \r\nz\r\n\" style=\"fill:#1f77b4;\"/>\r\n   </g>\r\n   <g id=\"patch_595\">\r\n    <path clip-path=\"url(#pb9532bb2fe)\" d=\"M 33.2875 20.556057 \r\nL 57.201786 20.556057 \r\nL 57.201786 20.380703 \r\nL 33.2875 20.380703 \r\nz\r\n\" style=\"fill:#1f77b4;\"/>\r\n   </g>\r\n   <g id=\"patch_596\">\r\n    <path clip-path=\"url(#pb9532bb2fe)\" d=\"M 33.2875 20.205348 \r\nL 113.001786 20.205348 \r\nL 113.001786 20.029993 \r\nL 33.2875 20.029993 \r\nz\r\n\" style=\"fill:#1f77b4;\"/>\r\n   </g>\r\n   <g id=\"patch_597\">\r\n    <path clip-path=\"url(#pb9532bb2fe)\" d=\"M 33.2875 19.854638 \r\nL 97.058929 19.854638 \r\nL 97.058929 19.679283 \r\nL 33.2875 19.679283 \r\nz\r\n\" style=\"fill:#1f77b4;\"/>\r\n   </g>\r\n   <g id=\"patch_598\">\r\n    <path clip-path=\"url(#pb9532bb2fe)\" d=\"M 33.2875 19.503928 \r\nL 128.944643 19.503928 \r\nL 128.944643 19.328574 \r\nL 33.2875 19.328574 \r\nz\r\n\" style=\"fill:#1f77b4;\"/>\r\n   </g>\r\n   <g id=\"patch_599\">\r\n    <path clip-path=\"url(#pb9532bb2fe)\" d=\"M 33.2875 19.153219 \r\nL 81.116071 19.153219 \r\nL 81.116071 18.977864 \r\nL 33.2875 18.977864 \r\nz\r\n\" style=\"fill:#1f77b4;\"/>\r\n   </g>\r\n   <g id=\"patch_600\">\r\n    <path clip-path=\"url(#pb9532bb2fe)\" d=\"M 33.2875 18.802509 \r\nL 49.230357 18.802509 \r\nL 49.230357 18.627154 \r\nL 33.2875 18.627154 \r\nz\r\n\" style=\"fill:#1f77b4;\"/>\r\n   </g>\r\n   <g id=\"patch_601\">\r\n    <path clip-path=\"url(#pb9532bb2fe)\" d=\"M 33.2875 18.451799 \r\nL 160.830357 18.451799 \r\nL 160.830357 18.276445 \r\nL 33.2875 18.276445 \r\nz\r\n\" style=\"fill:#1f77b4;\"/>\r\n   </g>\r\n   <g id=\"patch_602\">\r\n    <path clip-path=\"url(#pb9532bb2fe)\" d=\"M 33.2875 18.10109 \r\nL 120.973214 18.10109 \r\nL 120.973214 17.925735 \r\nL 33.2875 17.925735 \r\nz\r\n\" style=\"fill:#1f77b4;\"/>\r\n   </g>\r\n   <g id=\"patch_603\">\r\n    <path clip-path=\"url(#pb9532bb2fe)\" d=\"M 33.2875 17.75038 \r\nL 97.058929 17.75038 \r\nL 97.058929 17.575025 \r\nL 33.2875 17.575025 \r\nz\r\n\" style=\"fill:#1f77b4;\"/>\r\n   </g>\r\n   <g id=\"patch_604\">\r\n    <path clip-path=\"url(#pb9532bb2fe)\" d=\"M 33.2875 17.39967 \r\nL 73.144643 17.39967 \r\nL 73.144643 17.224316 \r\nL 33.2875 17.224316 \r\nz\r\n\" style=\"fill:#1f77b4;\"/>\r\n   </g>\r\n   <g id=\"patch_605\">\r\n    <path clip-path=\"url(#pb9532bb2fe)\" d=\"M 33.2875 17.048961 \r\nL 81.116071 17.048961 \r\nL 81.116071 16.873606 \r\nL 33.2875 16.873606 \r\nz\r\n\" style=\"fill:#1f77b4;\"/>\r\n   </g>\r\n   <g id=\"patch_606\">\r\n    <path clip-path=\"url(#pb9532bb2fe)\" d=\"M 33.2875 16.698251 \r\nL 113.001786 16.698251 \r\nL 113.001786 16.522896 \r\nL 33.2875 16.522896 \r\nz\r\n\" style=\"fill:#1f77b4;\"/>\r\n   </g>\r\n   <g id=\"patch_607\">\r\n    <path clip-path=\"url(#pb9532bb2fe)\" d=\"M 33.2875 16.347541 \r\nL 113.001786 16.347541 \r\nL 113.001786 16.172186 \r\nL 33.2875 16.172186 \r\nz\r\n\" style=\"fill:#1f77b4;\"/>\r\n   </g>\r\n   <g id=\"patch_608\">\r\n    <path clip-path=\"url(#pb9532bb2fe)\" d=\"M 33.2875 15.996832 \r\nL 144.8875 15.996832 \r\nL 144.8875 15.821477 \r\nL 33.2875 15.821477 \r\nz\r\n\" style=\"fill:#1f77b4;\"/>\r\n   </g>\r\n   <g id=\"patch_609\">\r\n    <path clip-path=\"url(#pb9532bb2fe)\" d=\"M 33.2875 15.646122 \r\nL 113.001786 15.646122 \r\nL 113.001786 15.470767 \r\nL 33.2875 15.470767 \r\nz\r\n\" style=\"fill:#1f77b4;\"/>\r\n   </g>\r\n   <g id=\"patch_610\">\r\n    <path clip-path=\"url(#pb9532bb2fe)\" d=\"M 33.2875 15.295412 \r\nL 81.116071 15.295412 \r\nL 81.116071 15.120057 \r\nL 33.2875 15.120057 \r\nz\r\n\" style=\"fill:#1f77b4;\"/>\r\n   </g>\r\n   <g id=\"patch_611\">\r\n    <path clip-path=\"url(#pb9532bb2fe)\" d=\"M 33.2875 14.944703 \r\nL 120.973214 14.944703 \r\nL 120.973214 14.769348 \r\nL 33.2875 14.769348 \r\nz\r\n\" style=\"fill:#1f77b4;\"/>\r\n   </g>\r\n   <g id=\"patch_612\">\r\n    <path clip-path=\"url(#pb9532bb2fe)\" d=\"M 33.2875 14.593993 \r\nL 57.201786 14.593993 \r\nL 57.201786 14.418638 \r\nL 33.2875 14.418638 \r\nz\r\n\" style=\"fill:#1f77b4;\"/>\r\n   </g>\r\n   <g id=\"patch_613\">\r\n    <path clip-path=\"url(#pb9532bb2fe)\" d=\"M 33.2875 14.243283 \r\nL 49.230357 14.243283 \r\nL 49.230357 14.067928 \r\nL 33.2875 14.067928 \r\nz\r\n\" style=\"fill:#1f77b4;\"/>\r\n   </g>\r\n   <g id=\"patch_614\">\r\n    <path clip-path=\"url(#pb9532bb2fe)\" d=\"M 33.2875 13.892574 \r\nL 97.058929 13.892574 \r\nL 97.058929 13.717219 \r\nL 33.2875 13.717219 \r\nz\r\n\" style=\"fill:#1f77b4;\"/>\r\n   </g>\r\n   <g id=\"patch_615\">\r\n    <path clip-path=\"url(#pb9532bb2fe)\" d=\"M 33.2875 13.541864 \r\nL 128.944643 13.541864 \r\nL 128.944643 13.366509 \r\nL 33.2875 13.366509 \r\nz\r\n\" style=\"fill:#1f77b4;\"/>\r\n   </g>\r\n   <g id=\"patch_616\">\r\n    <path clip-path=\"url(#pb9532bb2fe)\" d=\"M 33.2875 13.191154 \r\nL 105.030357 13.191154 \r\nL 105.030357 13.015799 \r\nL 33.2875 13.015799 \r\nz\r\n\" style=\"fill:#1f77b4;\"/>\r\n   </g>\r\n   <g id=\"patch_617\">\r\n    <path clip-path=\"url(#pb9532bb2fe)\" d=\"M 33.2875 12.840445 \r\nL 41.258929 12.840445 \r\nL 41.258929 12.66509 \r\nL 33.2875 12.66509 \r\nz\r\n\" style=\"fill:#1f77b4;\"/>\r\n   </g>\r\n   <g id=\"patch_618\">\r\n    <path clip-path=\"url(#pb9532bb2fe)\" d=\"M 33.2875 12.489735 \r\nL 81.116071 12.489735 \r\nL 81.116071 12.31438 \r\nL 33.2875 12.31438 \r\nz\r\n\" style=\"fill:#1f77b4;\"/>\r\n   </g>\r\n   <g id=\"patch_619\">\r\n    <path clip-path=\"url(#pb9532bb2fe)\" d=\"M 33.2875 12.139025 \r\nL 65.173214 12.139025 \r\nL 65.173214 11.96367 \r\nL 33.2875 11.96367 \r\nz\r\n\" style=\"fill:#1f77b4;\"/>\r\n   </g>\r\n   <g id=\"patch_620\">\r\n    <path clip-path=\"url(#pb9532bb2fe)\" d=\"M 33.2875 11.788316 \r\nL 152.858929 11.788316 \r\nL 152.858929 11.612961 \r\nL 33.2875 11.612961 \r\nz\r\n\" style=\"fill:#1f77b4;\"/>\r\n   </g>\r\n   <g id=\"patch_621\">\r\n    <path clip-path=\"url(#pb9532bb2fe)\" d=\"M 33.2875 11.437606 \r\nL 105.030357 11.437606 \r\nL 105.030357 11.262251 \r\nL 33.2875 11.262251 \r\nz\r\n\" style=\"fill:#1f77b4;\"/>\r\n   </g>\r\n   <g id=\"patch_622\">\r\n    <path clip-path=\"url(#pb9532bb2fe)\" d=\"M 33.2875 11.086896 \r\nL 105.030357 11.086896 \r\nL 105.030357 10.911541 \r\nL 33.2875 10.911541 \r\nz\r\n\" style=\"fill:#1f77b4;\"/>\r\n   </g>\r\n   <g id=\"matplotlib.axis_1\">\r\n    <g id=\"xtick_1\">\r\n     <g id=\"line2d_1\">\r\n      <defs>\r\n       <path d=\"M 0 0 \r\nL 0 3.5 \r\n\" id=\"m930abf2a44\" style=\"stroke:#000000;stroke-width:0.8;\"/>\r\n      </defs>\r\n      <g>\r\n       <use style=\"stroke:#000000;stroke-width:0.8;\" x=\"33.2875\" xlink:href=\"#m930abf2a44\" y=\"228.263864\"/>\r\n      </g>\r\n     </g>\r\n     <g id=\"text_1\">\r\n      <!-- 0 -->\r\n      <g transform=\"translate(30.10625 242.862301)scale(0.1 -0.1)\">\r\n       <defs>\r\n        <path d=\"M 31.78125 66.40625 \r\nQ 24.171875 66.40625 20.328125 58.90625 \r\nQ 16.5 51.421875 16.5 36.375 \r\nQ 16.5 21.390625 20.328125 13.890625 \r\nQ 24.171875 6.390625 31.78125 6.390625 \r\nQ 39.453125 6.390625 43.28125 13.890625 \r\nQ 47.125 21.390625 47.125 36.375 \r\nQ 47.125 51.421875 43.28125 58.90625 \r\nQ 39.453125 66.40625 31.78125 66.40625 \r\nz\r\nM 31.78125 74.21875 \r\nQ 44.046875 74.21875 50.515625 64.515625 \r\nQ 56.984375 54.828125 56.984375 36.375 \r\nQ 56.984375 17.96875 50.515625 8.265625 \r\nQ 44.046875 -1.421875 31.78125 -1.421875 \r\nQ 19.53125 -1.421875 13.0625 8.265625 \r\nQ 6.59375 17.96875 6.59375 36.375 \r\nQ 6.59375 54.828125 13.0625 64.515625 \r\nQ 19.53125 74.21875 31.78125 74.21875 \r\nz\r\n\" id=\"DejaVuSans-48\"/>\r\n       </defs>\r\n       <use xlink:href=\"#DejaVuSans-48\"/>\r\n      </g>\r\n     </g>\r\n    </g>\r\n    <g id=\"xtick_2\">\r\n     <g id=\"line2d_2\">\r\n      <g>\r\n       <use style=\"stroke:#000000;stroke-width:0.8;\" x=\"73.144643\" xlink:href=\"#m930abf2a44\" y=\"228.263864\"/>\r\n      </g>\r\n     </g>\r\n     <g id=\"text_2\">\r\n      <!-- 5 -->\r\n      <g transform=\"translate(69.963393 242.862301)scale(0.1 -0.1)\">\r\n       <defs>\r\n        <path d=\"M 10.796875 72.90625 \r\nL 49.515625 72.90625 \r\nL 49.515625 64.59375 \r\nL 19.828125 64.59375 \r\nL 19.828125 46.734375 \r\nQ 21.96875 47.46875 24.109375 47.828125 \r\nQ 26.265625 48.1875 28.421875 48.1875 \r\nQ 40.625 48.1875 47.75 41.5 \r\nQ 54.890625 34.8125 54.890625 23.390625 \r\nQ 54.890625 11.625 47.5625 5.09375 \r\nQ 40.234375 -1.421875 26.90625 -1.421875 \r\nQ 22.3125 -1.421875 17.546875 -0.640625 \r\nQ 12.796875 0.140625 7.71875 1.703125 \r\nL 7.71875 11.625 \r\nQ 12.109375 9.234375 16.796875 8.0625 \r\nQ 21.484375 6.890625 26.703125 6.890625 \r\nQ 35.15625 6.890625 40.078125 11.328125 \r\nQ 45.015625 15.765625 45.015625 23.390625 \r\nQ 45.015625 31 40.078125 35.4375 \r\nQ 35.15625 39.890625 26.703125 39.890625 \r\nQ 22.75 39.890625 18.8125 39.015625 \r\nQ 14.890625 38.140625 10.796875 36.28125 \r\nz\r\n\" id=\"DejaVuSans-53\"/>\r\n       </defs>\r\n       <use xlink:href=\"#DejaVuSans-53\"/>\r\n      </g>\r\n     </g>\r\n    </g>\r\n    <g id=\"xtick_3\">\r\n     <g id=\"line2d_3\">\r\n      <g>\r\n       <use style=\"stroke:#000000;stroke-width:0.8;\" x=\"113.001786\" xlink:href=\"#m930abf2a44\" y=\"228.263864\"/>\r\n      </g>\r\n     </g>\r\n     <g id=\"text_3\">\r\n      <!-- 10 -->\r\n      <g transform=\"translate(106.639286 242.862301)scale(0.1 -0.1)\">\r\n       <defs>\r\n        <path d=\"M 12.40625 8.296875 \r\nL 28.515625 8.296875 \r\nL 28.515625 63.921875 \r\nL 10.984375 60.40625 \r\nL 10.984375 69.390625 \r\nL 28.421875 72.90625 \r\nL 38.28125 72.90625 \r\nL 38.28125 8.296875 \r\nL 54.390625 8.296875 \r\nL 54.390625 0 \r\nL 12.40625 0 \r\nz\r\n\" id=\"DejaVuSans-49\"/>\r\n       </defs>\r\n       <use xlink:href=\"#DejaVuSans-49\"/>\r\n       <use x=\"63.623047\" xlink:href=\"#DejaVuSans-48\"/>\r\n      </g>\r\n     </g>\r\n    </g>\r\n    <g id=\"xtick_4\">\r\n     <g id=\"line2d_4\">\r\n      <g>\r\n       <use style=\"stroke:#000000;stroke-width:0.8;\" x=\"152.858929\" xlink:href=\"#m930abf2a44\" y=\"228.263864\"/>\r\n      </g>\r\n     </g>\r\n     <g id=\"text_4\">\r\n      <!-- 15 -->\r\n      <g transform=\"translate(146.496429 242.862301)scale(0.1 -0.1)\">\r\n       <use xlink:href=\"#DejaVuSans-49\"/>\r\n       <use x=\"63.623047\" xlink:href=\"#DejaVuSans-53\"/>\r\n      </g>\r\n     </g>\r\n    </g>\r\n    <g id=\"xtick_5\">\r\n     <g id=\"line2d_5\">\r\n      <g>\r\n       <use style=\"stroke:#000000;stroke-width:0.8;\" x=\"192.716071\" xlink:href=\"#m930abf2a44\" y=\"228.263864\"/>\r\n      </g>\r\n     </g>\r\n     <g id=\"text_5\">\r\n      <!-- 20 -->\r\n      <g transform=\"translate(186.353571 242.862301)scale(0.1 -0.1)\">\r\n       <defs>\r\n        <path d=\"M 19.1875 8.296875 \r\nL 53.609375 8.296875 \r\nL 53.609375 0 \r\nL 7.328125 0 \r\nL 7.328125 8.296875 \r\nQ 12.9375 14.109375 22.625 23.890625 \r\nQ 32.328125 33.6875 34.8125 36.53125 \r\nQ 39.546875 41.84375 41.421875 45.53125 \r\nQ 43.3125 49.21875 43.3125 52.78125 \r\nQ 43.3125 58.59375 39.234375 62.25 \r\nQ 35.15625 65.921875 28.609375 65.921875 \r\nQ 23.96875 65.921875 18.8125 64.3125 \r\nQ 13.671875 62.703125 7.8125 59.421875 \r\nL 7.8125 69.390625 \r\nQ 13.765625 71.78125 18.9375 73 \r\nQ 24.125 74.21875 28.421875 74.21875 \r\nQ 39.75 74.21875 46.484375 68.546875 \r\nQ 53.21875 62.890625 53.21875 53.421875 \r\nQ 53.21875 48.921875 51.53125 44.890625 \r\nQ 49.859375 40.875 45.40625 35.40625 \r\nQ 44.1875 33.984375 37.640625 27.21875 \r\nQ 31.109375 20.453125 19.1875 8.296875 \r\nz\r\n\" id=\"DejaVuSans-50\"/>\r\n       </defs>\r\n       <use xlink:href=\"#DejaVuSans-50\"/>\r\n       <use x=\"63.623047\" xlink:href=\"#DejaVuSans-48\"/>\r\n      </g>\r\n     </g>\r\n    </g>\r\n    <g id=\"xtick_6\">\r\n     <g id=\"line2d_6\">\r\n      <g>\r\n       <use style=\"stroke:#000000;stroke-width:0.8;\" x=\"232.573214\" xlink:href=\"#m930abf2a44\" y=\"228.263864\"/>\r\n      </g>\r\n     </g>\r\n     <g id=\"text_6\">\r\n      <!-- 25 -->\r\n      <g transform=\"translate(226.210714 242.862301)scale(0.1 -0.1)\">\r\n       <use xlink:href=\"#DejaVuSans-50\"/>\r\n       <use x=\"63.623047\" xlink:href=\"#DejaVuSans-53\"/>\r\n      </g>\r\n     </g>\r\n    </g>\r\n    <g id=\"xtick_7\">\r\n     <g id=\"line2d_7\">\r\n      <g>\r\n       <use style=\"stroke:#000000;stroke-width:0.8;\" x=\"272.430357\" xlink:href=\"#m930abf2a44\" y=\"228.263864\"/>\r\n      </g>\r\n     </g>\r\n     <g id=\"text_7\">\r\n      <!-- 30 -->\r\n      <g transform=\"translate(266.067857 242.862301)scale(0.1 -0.1)\">\r\n       <defs>\r\n        <path d=\"M 40.578125 39.3125 \r\nQ 47.65625 37.796875 51.625 33 \r\nQ 55.609375 28.21875 55.609375 21.1875 \r\nQ 55.609375 10.40625 48.1875 4.484375 \r\nQ 40.765625 -1.421875 27.09375 -1.421875 \r\nQ 22.515625 -1.421875 17.65625 -0.515625 \r\nQ 12.796875 0.390625 7.625 2.203125 \r\nL 7.625 11.71875 \r\nQ 11.71875 9.328125 16.59375 8.109375 \r\nQ 21.484375 6.890625 26.8125 6.890625 \r\nQ 36.078125 6.890625 40.9375 10.546875 \r\nQ 45.796875 14.203125 45.796875 21.1875 \r\nQ 45.796875 27.640625 41.28125 31.265625 \r\nQ 36.765625 34.90625 28.71875 34.90625 \r\nL 20.21875 34.90625 \r\nL 20.21875 43.015625 \r\nL 29.109375 43.015625 \r\nQ 36.375 43.015625 40.234375 45.921875 \r\nQ 44.09375 48.828125 44.09375 54.296875 \r\nQ 44.09375 59.90625 40.109375 62.90625 \r\nQ 36.140625 65.921875 28.71875 65.921875 \r\nQ 24.65625 65.921875 20.015625 65.03125 \r\nQ 15.375 64.15625 9.8125 62.3125 \r\nL 9.8125 71.09375 \r\nQ 15.4375 72.65625 20.34375 73.4375 \r\nQ 25.25 74.21875 29.59375 74.21875 \r\nQ 40.828125 74.21875 47.359375 69.109375 \r\nQ 53.90625 64.015625 53.90625 55.328125 \r\nQ 53.90625 49.265625 50.4375 45.09375 \r\nQ 46.96875 40.921875 40.578125 39.3125 \r\nz\r\n\" id=\"DejaVuSans-51\"/>\r\n       </defs>\r\n       <use xlink:href=\"#DejaVuSans-51\"/>\r\n       <use x=\"63.623047\" xlink:href=\"#DejaVuSans-48\"/>\r\n      </g>\r\n     </g>\r\n    </g>\r\n    <g id=\"xtick_8\">\r\n     <g id=\"line2d_8\">\r\n      <g>\r\n       <use style=\"stroke:#000000;stroke-width:0.8;\" x=\"312.2875\" xlink:href=\"#m930abf2a44\" y=\"228.263864\"/>\r\n      </g>\r\n     </g>\r\n     <g id=\"text_8\">\r\n      <!-- 35 -->\r\n      <g transform=\"translate(305.925 242.862301)scale(0.1 -0.1)\">\r\n       <use xlink:href=\"#DejaVuSans-51\"/>\r\n       <use x=\"63.623047\" xlink:href=\"#DejaVuSans-53\"/>\r\n      </g>\r\n     </g>\r\n    </g>\r\n    <g id=\"xtick_9\">\r\n     <g id=\"line2d_9\">\r\n      <g>\r\n       <use style=\"stroke:#000000;stroke-width:0.8;\" x=\"352.144643\" xlink:href=\"#m930abf2a44\" y=\"228.263864\"/>\r\n      </g>\r\n     </g>\r\n     <g id=\"text_9\">\r\n      <!-- 40 -->\r\n      <g transform=\"translate(345.782143 242.862301)scale(0.1 -0.1)\">\r\n       <defs>\r\n        <path d=\"M 37.796875 64.3125 \r\nL 12.890625 25.390625 \r\nL 37.796875 25.390625 \r\nz\r\nM 35.203125 72.90625 \r\nL 47.609375 72.90625 \r\nL 47.609375 25.390625 \r\nL 58.015625 25.390625 \r\nL 58.015625 17.1875 \r\nL 47.609375 17.1875 \r\nL 47.609375 0 \r\nL 37.796875 0 \r\nL 37.796875 17.1875 \r\nL 4.890625 17.1875 \r\nL 4.890625 26.703125 \r\nz\r\n\" id=\"DejaVuSans-52\"/>\r\n       </defs>\r\n       <use xlink:href=\"#DejaVuSans-52\"/>\r\n       <use x=\"63.623047\" xlink:href=\"#DejaVuSans-48\"/>\r\n      </g>\r\n     </g>\r\n    </g>\r\n   </g>\r\n   <g id=\"matplotlib.axis_2\">\r\n    <g id=\"ytick_1\">\r\n     <g id=\"line2d_10\">\r\n      <defs>\r\n       <path d=\"M 0 0 \r\nL -3.5 0 \r\n\" id=\"m086e67bf75\" style=\"stroke:#000000;stroke-width:0.8;\"/>\r\n      </defs>\r\n      <g>\r\n       <use style=\"stroke:#000000;stroke-width:0.8;\" x=\"33.2875\" xlink:href=\"#m086e67bf75\" y=\"228.088509\"/>\r\n      </g>\r\n     </g>\r\n     <g id=\"text_10\">\r\n      <!-- 0 -->\r\n      <g transform=\"translate(19.925 231.887728)scale(0.1 -0.1)\">\r\n       <use xlink:href=\"#DejaVuSans-48\"/>\r\n      </g>\r\n     </g>\r\n    </g>\r\n    <g id=\"ytick_2\">\r\n     <g id=\"line2d_11\">\r\n      <g>\r\n       <use style=\"stroke:#000000;stroke-width:0.8;\" x=\"33.2875\" xlink:href=\"#m086e67bf75\" y=\"227.737799\"/>\r\n      </g>\r\n     </g>\r\n     <g id=\"text_11\">\r\n      <!-- 1 -->\r\n      <g transform=\"translate(19.925 231.537018)scale(0.1 -0.1)\">\r\n       <use xlink:href=\"#DejaVuSans-49\"/>\r\n      </g>\r\n     </g>\r\n    </g>\r\n    <g id=\"ytick_3\">\r\n     <g id=\"line2d_12\">\r\n      <g>\r\n       <use style=\"stroke:#000000;stroke-width:0.8;\" x=\"33.2875\" xlink:href=\"#m086e67bf75\" y=\"227.38709\"/>\r\n      </g>\r\n     </g>\r\n     <g id=\"text_12\">\r\n      <!-- 2 -->\r\n      <g transform=\"translate(19.925 231.186308)scale(0.1 -0.1)\">\r\n       <use xlink:href=\"#DejaVuSans-50\"/>\r\n      </g>\r\n     </g>\r\n    </g>\r\n    <g id=\"ytick_4\">\r\n     <g id=\"line2d_13\">\r\n      <g>\r\n       <use style=\"stroke:#000000;stroke-width:0.8;\" x=\"33.2875\" xlink:href=\"#m086e67bf75\" y=\"227.03638\"/>\r\n      </g>\r\n     </g>\r\n     <g id=\"text_13\">\r\n      <!-- 3 -->\r\n      <g transform=\"translate(19.925 230.835599)scale(0.1 -0.1)\">\r\n       <use xlink:href=\"#DejaVuSans-51\"/>\r\n      </g>\r\n     </g>\r\n    </g>\r\n    <g id=\"ytick_5\">\r\n     <g id=\"line2d_14\">\r\n      <g>\r\n       <use style=\"stroke:#000000;stroke-width:0.8;\" x=\"33.2875\" xlink:href=\"#m086e67bf75\" y=\"226.68567\"/>\r\n      </g>\r\n     </g>\r\n     <g id=\"text_14\">\r\n      <!-- 4 -->\r\n      <g transform=\"translate(19.925 230.484889)scale(0.1 -0.1)\">\r\n       <use xlink:href=\"#DejaVuSans-52\"/>\r\n      </g>\r\n     </g>\r\n    </g>\r\n    <g id=\"ytick_6\">\r\n     <g id=\"line2d_15\">\r\n      <g>\r\n       <use style=\"stroke:#000000;stroke-width:0.8;\" x=\"33.2875\" xlink:href=\"#m086e67bf75\" y=\"226.334961\"/>\r\n      </g>\r\n     </g>\r\n     <g id=\"text_15\">\r\n      <!-- 5 -->\r\n      <g transform=\"translate(19.925 230.134179)scale(0.1 -0.1)\">\r\n       <use xlink:href=\"#DejaVuSans-53\"/>\r\n      </g>\r\n     </g>\r\n    </g>\r\n    <g id=\"ytick_7\">\r\n     <g id=\"line2d_16\">\r\n      <g>\r\n       <use style=\"stroke:#000000;stroke-width:0.8;\" x=\"33.2875\" xlink:href=\"#m086e67bf75\" y=\"225.984251\"/>\r\n      </g>\r\n     </g>\r\n     <g id=\"text_16\">\r\n      <!-- 6 -->\r\n      <g transform=\"translate(19.925 229.78347)scale(0.1 -0.1)\">\r\n       <defs>\r\n        <path d=\"M 33.015625 40.375 \r\nQ 26.375 40.375 22.484375 35.828125 \r\nQ 18.609375 31.296875 18.609375 23.390625 \r\nQ 18.609375 15.53125 22.484375 10.953125 \r\nQ 26.375 6.390625 33.015625 6.390625 \r\nQ 39.65625 6.390625 43.53125 10.953125 \r\nQ 47.40625 15.53125 47.40625 23.390625 \r\nQ 47.40625 31.296875 43.53125 35.828125 \r\nQ 39.65625 40.375 33.015625 40.375 \r\nz\r\nM 52.59375 71.296875 \r\nL 52.59375 62.3125 \r\nQ 48.875 64.0625 45.09375 64.984375 \r\nQ 41.3125 65.921875 37.59375 65.921875 \r\nQ 27.828125 65.921875 22.671875 59.328125 \r\nQ 17.53125 52.734375 16.796875 39.40625 \r\nQ 19.671875 43.65625 24.015625 45.921875 \r\nQ 28.375 48.1875 33.59375 48.1875 \r\nQ 44.578125 48.1875 50.953125 41.515625 \r\nQ 57.328125 34.859375 57.328125 23.390625 \r\nQ 57.328125 12.15625 50.6875 5.359375 \r\nQ 44.046875 -1.421875 33.015625 -1.421875 \r\nQ 20.359375 -1.421875 13.671875 8.265625 \r\nQ 6.984375 17.96875 6.984375 36.375 \r\nQ 6.984375 53.65625 15.1875 63.9375 \r\nQ 23.390625 74.21875 37.203125 74.21875 \r\nQ 40.921875 74.21875 44.703125 73.484375 \r\nQ 48.484375 72.75 52.59375 71.296875 \r\nz\r\n\" id=\"DejaVuSans-54\"/>\r\n       </defs>\r\n       <use xlink:href=\"#DejaVuSans-54\"/>\r\n      </g>\r\n     </g>\r\n    </g>\r\n    <g id=\"ytick_8\">\r\n     <g id=\"line2d_17\">\r\n      <g>\r\n       <use style=\"stroke:#000000;stroke-width:0.8;\" x=\"33.2875\" xlink:href=\"#m086e67bf75\" y=\"225.633541\"/>\r\n      </g>\r\n     </g>\r\n     <g id=\"text_17\">\r\n      <!-- 7 -->\r\n      <g transform=\"translate(19.925 229.43276)scale(0.1 -0.1)\">\r\n       <defs>\r\n        <path d=\"M 8.203125 72.90625 \r\nL 55.078125 72.90625 \r\nL 55.078125 68.703125 \r\nL 28.609375 0 \r\nL 18.3125 0 \r\nL 43.21875 64.59375 \r\nL 8.203125 64.59375 \r\nz\r\n\" id=\"DejaVuSans-55\"/>\r\n       </defs>\r\n       <use xlink:href=\"#DejaVuSans-55\"/>\r\n      </g>\r\n     </g>\r\n    </g>\r\n    <g id=\"ytick_9\">\r\n     <g id=\"line2d_18\">\r\n      <g>\r\n       <use style=\"stroke:#000000;stroke-width:0.8;\" x=\"33.2875\" xlink:href=\"#m086e67bf75\" y=\"225.282832\"/>\r\n      </g>\r\n     </g>\r\n     <g id=\"text_18\">\r\n      <!-- 8 -->\r\n      <g transform=\"translate(19.925 229.08205)scale(0.1 -0.1)\">\r\n       <defs>\r\n        <path d=\"M 31.78125 34.625 \r\nQ 24.75 34.625 20.71875 30.859375 \r\nQ 16.703125 27.09375 16.703125 20.515625 \r\nQ 16.703125 13.921875 20.71875 10.15625 \r\nQ 24.75 6.390625 31.78125 6.390625 \r\nQ 38.8125 6.390625 42.859375 10.171875 \r\nQ 46.921875 13.96875 46.921875 20.515625 \r\nQ 46.921875 27.09375 42.890625 30.859375 \r\nQ 38.875 34.625 31.78125 34.625 \r\nz\r\nM 21.921875 38.8125 \r\nQ 15.578125 40.375 12.03125 44.71875 \r\nQ 8.5 49.078125 8.5 55.328125 \r\nQ 8.5 64.0625 14.71875 69.140625 \r\nQ 20.953125 74.21875 31.78125 74.21875 \r\nQ 42.671875 74.21875 48.875 69.140625 \r\nQ 55.078125 64.0625 55.078125 55.328125 \r\nQ 55.078125 49.078125 51.53125 44.71875 \r\nQ 48 40.375 41.703125 38.8125 \r\nQ 48.828125 37.15625 52.796875 32.3125 \r\nQ 56.78125 27.484375 56.78125 20.515625 \r\nQ 56.78125 9.90625 50.3125 4.234375 \r\nQ 43.84375 -1.421875 31.78125 -1.421875 \r\nQ 19.734375 -1.421875 13.25 4.234375 \r\nQ 6.78125 9.90625 6.78125 20.515625 \r\nQ 6.78125 27.484375 10.78125 32.3125 \r\nQ 14.796875 37.15625 21.921875 38.8125 \r\nz\r\nM 18.3125 54.390625 \r\nQ 18.3125 48.734375 21.84375 45.5625 \r\nQ 25.390625 42.390625 31.78125 42.390625 \r\nQ 38.140625 42.390625 41.71875 45.5625 \r\nQ 45.3125 48.734375 45.3125 54.390625 \r\nQ 45.3125 60.0625 41.71875 63.234375 \r\nQ 38.140625 66.40625 31.78125 66.40625 \r\nQ 25.390625 66.40625 21.84375 63.234375 \r\nQ 18.3125 60.0625 18.3125 54.390625 \r\nz\r\n\" id=\"DejaVuSans-56\"/>\r\n       </defs>\r\n       <use xlink:href=\"#DejaVuSans-56\"/>\r\n      </g>\r\n     </g>\r\n    </g>\r\n    <g id=\"ytick_10\">\r\n     <g id=\"line2d_19\">\r\n      <g>\r\n       <use style=\"stroke:#000000;stroke-width:0.8;\" x=\"33.2875\" xlink:href=\"#m086e67bf75\" y=\"224.932122\"/>\r\n      </g>\r\n     </g>\r\n     <g id=\"text_19\">\r\n      <!-- 9 -->\r\n      <g transform=\"translate(19.925 228.731341)scale(0.1 -0.1)\">\r\n       <defs>\r\n        <path d=\"M 10.984375 1.515625 \r\nL 10.984375 10.5 \r\nQ 14.703125 8.734375 18.5 7.8125 \r\nQ 22.3125 6.890625 25.984375 6.890625 \r\nQ 35.75 6.890625 40.890625 13.453125 \r\nQ 46.046875 20.015625 46.78125 33.40625 \r\nQ 43.953125 29.203125 39.59375 26.953125 \r\nQ 35.25 24.703125 29.984375 24.703125 \r\nQ 19.046875 24.703125 12.671875 31.3125 \r\nQ 6.296875 37.9375 6.296875 49.421875 \r\nQ 6.296875 60.640625 12.9375 67.421875 \r\nQ 19.578125 74.21875 30.609375 74.21875 \r\nQ 43.265625 74.21875 49.921875 64.515625 \r\nQ 56.59375 54.828125 56.59375 36.375 \r\nQ 56.59375 19.140625 48.40625 8.859375 \r\nQ 40.234375 -1.421875 26.421875 -1.421875 \r\nQ 22.703125 -1.421875 18.890625 -0.6875 \r\nQ 15.09375 0.046875 10.984375 1.515625 \r\nz\r\nM 30.609375 32.421875 \r\nQ 37.25 32.421875 41.125 36.953125 \r\nQ 45.015625 41.5 45.015625 49.421875 \r\nQ 45.015625 57.28125 41.125 61.84375 \r\nQ 37.25 66.40625 30.609375 66.40625 \r\nQ 23.96875 66.40625 20.09375 61.84375 \r\nQ 16.21875 57.28125 16.21875 49.421875 \r\nQ 16.21875 41.5 20.09375 36.953125 \r\nQ 23.96875 32.421875 30.609375 32.421875 \r\nz\r\n\" id=\"DejaVuSans-57\"/>\r\n       </defs>\r\n       <use xlink:href=\"#DejaVuSans-57\"/>\r\n      </g>\r\n     </g>\r\n    </g>\r\n    <g id=\"ytick_11\">\r\n     <g id=\"line2d_20\">\r\n      <g>\r\n       <use style=\"stroke:#000000;stroke-width:0.8;\" x=\"33.2875\" xlink:href=\"#m086e67bf75\" y=\"224.581412\"/>\r\n      </g>\r\n     </g>\r\n     <g id=\"text_20\">\r\n      <!-- 10 -->\r\n      <g transform=\"translate(13.5625 228.380631)scale(0.1 -0.1)\">\r\n       <use xlink:href=\"#DejaVuSans-49\"/>\r\n       <use x=\"63.623047\" xlink:href=\"#DejaVuSans-48\"/>\r\n      </g>\r\n     </g>\r\n    </g>\r\n    <g id=\"ytick_12\">\r\n     <g id=\"line2d_21\">\r\n      <g>\r\n       <use style=\"stroke:#000000;stroke-width:0.8;\" x=\"33.2875\" xlink:href=\"#m086e67bf75\" y=\"224.230703\"/>\r\n      </g>\r\n     </g>\r\n     <g id=\"text_21\">\r\n      <!-- 11 -->\r\n      <g transform=\"translate(13.5625 228.029921)scale(0.1 -0.1)\">\r\n       <use xlink:href=\"#DejaVuSans-49\"/>\r\n       <use x=\"63.623047\" xlink:href=\"#DejaVuSans-49\"/>\r\n      </g>\r\n     </g>\r\n    </g>\r\n    <g id=\"ytick_13\">\r\n     <g id=\"line2d_22\">\r\n      <g>\r\n       <use style=\"stroke:#000000;stroke-width:0.8;\" x=\"33.2875\" xlink:href=\"#m086e67bf75\" y=\"223.879993\"/>\r\n      </g>\r\n     </g>\r\n     <g id=\"text_22\">\r\n      <!-- 12 -->\r\n      <g transform=\"translate(13.5625 227.679212)scale(0.1 -0.1)\">\r\n       <use xlink:href=\"#DejaVuSans-49\"/>\r\n       <use x=\"63.623047\" xlink:href=\"#DejaVuSans-50\"/>\r\n      </g>\r\n     </g>\r\n    </g>\r\n    <g id=\"ytick_14\">\r\n     <g id=\"line2d_23\">\r\n      <g>\r\n       <use style=\"stroke:#000000;stroke-width:0.8;\" x=\"33.2875\" xlink:href=\"#m086e67bf75\" y=\"223.529283\"/>\r\n      </g>\r\n     </g>\r\n     <g id=\"text_23\">\r\n      <!-- 13 -->\r\n      <g transform=\"translate(13.5625 227.328502)scale(0.1 -0.1)\">\r\n       <use xlink:href=\"#DejaVuSans-49\"/>\r\n       <use x=\"63.623047\" xlink:href=\"#DejaVuSans-51\"/>\r\n      </g>\r\n     </g>\r\n    </g>\r\n    <g id=\"ytick_15\">\r\n     <g id=\"line2d_24\">\r\n      <g>\r\n       <use style=\"stroke:#000000;stroke-width:0.8;\" x=\"33.2875\" xlink:href=\"#m086e67bf75\" y=\"223.178574\"/>\r\n      </g>\r\n     </g>\r\n     <g id=\"text_24\">\r\n      <!-- 14 -->\r\n      <g transform=\"translate(13.5625 226.977792)scale(0.1 -0.1)\">\r\n       <use xlink:href=\"#DejaVuSans-49\"/>\r\n       <use x=\"63.623047\" xlink:href=\"#DejaVuSans-52\"/>\r\n      </g>\r\n     </g>\r\n    </g>\r\n    <g id=\"ytick_16\">\r\n     <g id=\"line2d_25\">\r\n      <g>\r\n       <use style=\"stroke:#000000;stroke-width:0.8;\" x=\"33.2875\" xlink:href=\"#m086e67bf75\" y=\"222.827864\"/>\r\n      </g>\r\n     </g>\r\n     <g id=\"text_25\">\r\n      <!-- 15 -->\r\n      <g transform=\"translate(13.5625 226.627083)scale(0.1 -0.1)\">\r\n       <use xlink:href=\"#DejaVuSans-49\"/>\r\n       <use x=\"63.623047\" xlink:href=\"#DejaVuSans-53\"/>\r\n      </g>\r\n     </g>\r\n    </g>\r\n    <g id=\"ytick_17\">\r\n     <g id=\"line2d_26\">\r\n      <g>\r\n       <use style=\"stroke:#000000;stroke-width:0.8;\" x=\"33.2875\" xlink:href=\"#m086e67bf75\" y=\"222.477154\"/>\r\n      </g>\r\n     </g>\r\n     <g id=\"text_26\">\r\n      <!-- 16 -->\r\n      <g transform=\"translate(13.5625 226.276373)scale(0.1 -0.1)\">\r\n       <use xlink:href=\"#DejaVuSans-49\"/>\r\n       <use x=\"63.623047\" xlink:href=\"#DejaVuSans-54\"/>\r\n      </g>\r\n     </g>\r\n    </g>\r\n    <g id=\"ytick_18\">\r\n     <g id=\"line2d_27\">\r\n      <g>\r\n       <use style=\"stroke:#000000;stroke-width:0.8;\" x=\"33.2875\" xlink:href=\"#m086e67bf75\" y=\"222.126445\"/>\r\n      </g>\r\n     </g>\r\n     <g id=\"text_27\">\r\n      <!-- 17 -->\r\n      <g transform=\"translate(13.5625 225.925663)scale(0.1 -0.1)\">\r\n       <use xlink:href=\"#DejaVuSans-49\"/>\r\n       <use x=\"63.623047\" xlink:href=\"#DejaVuSans-55\"/>\r\n      </g>\r\n     </g>\r\n    </g>\r\n    <g id=\"ytick_19\">\r\n     <g id=\"line2d_28\">\r\n      <g>\r\n       <use style=\"stroke:#000000;stroke-width:0.8;\" x=\"33.2875\" xlink:href=\"#m086e67bf75\" y=\"221.775735\"/>\r\n      </g>\r\n     </g>\r\n     <g id=\"text_28\">\r\n      <!-- 18 -->\r\n      <g transform=\"translate(13.5625 225.574954)scale(0.1 -0.1)\">\r\n       <use xlink:href=\"#DejaVuSans-49\"/>\r\n       <use x=\"63.623047\" xlink:href=\"#DejaVuSans-56\"/>\r\n      </g>\r\n     </g>\r\n    </g>\r\n    <g id=\"ytick_20\">\r\n     <g id=\"line2d_29\">\r\n      <g>\r\n       <use style=\"stroke:#000000;stroke-width:0.8;\" x=\"33.2875\" xlink:href=\"#m086e67bf75\" y=\"221.425025\"/>\r\n      </g>\r\n     </g>\r\n     <g id=\"text_29\">\r\n      <!-- 19 -->\r\n      <g transform=\"translate(13.5625 225.224244)scale(0.1 -0.1)\">\r\n       <use xlink:href=\"#DejaVuSans-49\"/>\r\n       <use x=\"63.623047\" xlink:href=\"#DejaVuSans-57\"/>\r\n      </g>\r\n     </g>\r\n    </g>\r\n    <g id=\"ytick_21\">\r\n     <g id=\"line2d_30\">\r\n      <g>\r\n       <use style=\"stroke:#000000;stroke-width:0.8;\" x=\"33.2875\" xlink:href=\"#m086e67bf75\" y=\"221.074316\"/>\r\n      </g>\r\n     </g>\r\n     <g id=\"text_30\">\r\n      <!-- 20 -->\r\n      <g transform=\"translate(13.5625 224.873534)scale(0.1 -0.1)\">\r\n       <use xlink:href=\"#DejaVuSans-50\"/>\r\n       <use x=\"63.623047\" xlink:href=\"#DejaVuSans-48\"/>\r\n      </g>\r\n     </g>\r\n    </g>\r\n    <g id=\"ytick_22\">\r\n     <g id=\"line2d_31\">\r\n      <g>\r\n       <use style=\"stroke:#000000;stroke-width:0.8;\" x=\"33.2875\" xlink:href=\"#m086e67bf75\" y=\"220.723606\"/>\r\n      </g>\r\n     </g>\r\n     <g id=\"text_31\">\r\n      <!-- 21 -->\r\n      <g transform=\"translate(13.5625 224.522825)scale(0.1 -0.1)\">\r\n       <use xlink:href=\"#DejaVuSans-50\"/>\r\n       <use x=\"63.623047\" xlink:href=\"#DejaVuSans-49\"/>\r\n      </g>\r\n     </g>\r\n    </g>\r\n    <g id=\"ytick_23\">\r\n     <g id=\"line2d_32\">\r\n      <g>\r\n       <use style=\"stroke:#000000;stroke-width:0.8;\" x=\"33.2875\" xlink:href=\"#m086e67bf75\" y=\"220.372896\"/>\r\n      </g>\r\n     </g>\r\n     <g id=\"text_32\">\r\n      <!-- 22 -->\r\n      <g transform=\"translate(13.5625 224.172115)scale(0.1 -0.1)\">\r\n       <use xlink:href=\"#DejaVuSans-50\"/>\r\n       <use x=\"63.623047\" xlink:href=\"#DejaVuSans-50\"/>\r\n      </g>\r\n     </g>\r\n    </g>\r\n    <g id=\"ytick_24\">\r\n     <g id=\"line2d_33\">\r\n      <g>\r\n       <use style=\"stroke:#000000;stroke-width:0.8;\" x=\"33.2875\" xlink:href=\"#m086e67bf75\" y=\"220.022186\"/>\r\n      </g>\r\n     </g>\r\n     <g id=\"text_33\">\r\n      <!-- 23 -->\r\n      <g transform=\"translate(13.5625 223.821405)scale(0.1 -0.1)\">\r\n       <use xlink:href=\"#DejaVuSans-50\"/>\r\n       <use x=\"63.623047\" xlink:href=\"#DejaVuSans-51\"/>\r\n      </g>\r\n     </g>\r\n    </g>\r\n    <g id=\"ytick_25\">\r\n     <g id=\"line2d_34\">\r\n      <g>\r\n       <use style=\"stroke:#000000;stroke-width:0.8;\" x=\"33.2875\" xlink:href=\"#m086e67bf75\" y=\"219.671477\"/>\r\n      </g>\r\n     </g>\r\n     <g id=\"text_34\">\r\n      <!-- 24 -->\r\n      <g transform=\"translate(13.5625 223.470696)scale(0.1 -0.1)\">\r\n       <use xlink:href=\"#DejaVuSans-50\"/>\r\n       <use x=\"63.623047\" xlink:href=\"#DejaVuSans-52\"/>\r\n      </g>\r\n     </g>\r\n    </g>\r\n    <g id=\"ytick_26\">\r\n     <g id=\"line2d_35\">\r\n      <g>\r\n       <use style=\"stroke:#000000;stroke-width:0.8;\" x=\"33.2875\" xlink:href=\"#m086e67bf75\" y=\"219.320767\"/>\r\n      </g>\r\n     </g>\r\n     <g id=\"text_35\">\r\n      <!-- 25 -->\r\n      <g transform=\"translate(13.5625 223.119986)scale(0.1 -0.1)\">\r\n       <use xlink:href=\"#DejaVuSans-50\"/>\r\n       <use x=\"63.623047\" xlink:href=\"#DejaVuSans-53\"/>\r\n      </g>\r\n     </g>\r\n    </g>\r\n    <g id=\"ytick_27\">\r\n     <g id=\"line2d_36\">\r\n      <g>\r\n       <use style=\"stroke:#000000;stroke-width:0.8;\" x=\"33.2875\" xlink:href=\"#m086e67bf75\" y=\"218.970057\"/>\r\n      </g>\r\n     </g>\r\n     <g id=\"text_36\">\r\n      <!-- 26 -->\r\n      <g transform=\"translate(13.5625 222.769276)scale(0.1 -0.1)\">\r\n       <use xlink:href=\"#DejaVuSans-50\"/>\r\n       <use x=\"63.623047\" xlink:href=\"#DejaVuSans-54\"/>\r\n      </g>\r\n     </g>\r\n    </g>\r\n    <g id=\"ytick_28\">\r\n     <g id=\"line2d_37\">\r\n      <g>\r\n       <use style=\"stroke:#000000;stroke-width:0.8;\" x=\"33.2875\" xlink:href=\"#m086e67bf75\" y=\"218.619348\"/>\r\n      </g>\r\n     </g>\r\n     <g id=\"text_37\">\r\n      <!-- 27 -->\r\n      <g transform=\"translate(13.5625 222.418567)scale(0.1 -0.1)\">\r\n       <use xlink:href=\"#DejaVuSans-50\"/>\r\n       <use x=\"63.623047\" xlink:href=\"#DejaVuSans-55\"/>\r\n      </g>\r\n     </g>\r\n    </g>\r\n    <g id=\"ytick_29\">\r\n     <g id=\"line2d_38\">\r\n      <g>\r\n       <use style=\"stroke:#000000;stroke-width:0.8;\" x=\"33.2875\" xlink:href=\"#m086e67bf75\" y=\"218.268638\"/>\r\n      </g>\r\n     </g>\r\n     <g id=\"text_38\">\r\n      <!-- 28 -->\r\n      <g transform=\"translate(13.5625 222.067857)scale(0.1 -0.1)\">\r\n       <use xlink:href=\"#DejaVuSans-50\"/>\r\n       <use x=\"63.623047\" xlink:href=\"#DejaVuSans-56\"/>\r\n      </g>\r\n     </g>\r\n    </g>\r\n    <g id=\"ytick_30\">\r\n     <g id=\"line2d_39\">\r\n      <g>\r\n       <use style=\"stroke:#000000;stroke-width:0.8;\" x=\"33.2875\" xlink:href=\"#m086e67bf75\" y=\"217.917928\"/>\r\n      </g>\r\n     </g>\r\n     <g id=\"text_39\">\r\n      <!-- 29 -->\r\n      <g transform=\"translate(13.5625 221.717147)scale(0.1 -0.1)\">\r\n       <use xlink:href=\"#DejaVuSans-50\"/>\r\n       <use x=\"63.623047\" xlink:href=\"#DejaVuSans-57\"/>\r\n      </g>\r\n     </g>\r\n    </g>\r\n    <g id=\"ytick_31\">\r\n     <g id=\"line2d_40\">\r\n      <g>\r\n       <use style=\"stroke:#000000;stroke-width:0.8;\" x=\"33.2875\" xlink:href=\"#m086e67bf75\" y=\"217.567219\"/>\r\n      </g>\r\n     </g>\r\n     <g id=\"text_40\">\r\n      <!-- 30 -->\r\n      <g transform=\"translate(13.5625 221.366438)scale(0.1 -0.1)\">\r\n       <use xlink:href=\"#DejaVuSans-51\"/>\r\n       <use x=\"63.623047\" xlink:href=\"#DejaVuSans-48\"/>\r\n      </g>\r\n     </g>\r\n    </g>\r\n    <g id=\"ytick_32\">\r\n     <g id=\"line2d_41\">\r\n      <g>\r\n       <use style=\"stroke:#000000;stroke-width:0.8;\" x=\"33.2875\" xlink:href=\"#m086e67bf75\" y=\"217.216509\"/>\r\n      </g>\r\n     </g>\r\n     <g id=\"text_41\">\r\n      <!-- 31 -->\r\n      <g transform=\"translate(13.5625 221.015728)scale(0.1 -0.1)\">\r\n       <use xlink:href=\"#DejaVuSans-51\"/>\r\n       <use x=\"63.623047\" xlink:href=\"#DejaVuSans-49\"/>\r\n      </g>\r\n     </g>\r\n    </g>\r\n    <g id=\"ytick_33\">\r\n     <g id=\"line2d_42\">\r\n      <g>\r\n       <use style=\"stroke:#000000;stroke-width:0.8;\" x=\"33.2875\" xlink:href=\"#m086e67bf75\" y=\"216.865799\"/>\r\n      </g>\r\n     </g>\r\n     <g id=\"text_42\">\r\n      <!-- 32 -->\r\n      <g transform=\"translate(13.5625 220.665018)scale(0.1 -0.1)\">\r\n       <use xlink:href=\"#DejaVuSans-51\"/>\r\n       <use x=\"63.623047\" xlink:href=\"#DejaVuSans-50\"/>\r\n      </g>\r\n     </g>\r\n    </g>\r\n    <g id=\"ytick_34\">\r\n     <g id=\"line2d_43\">\r\n      <g>\r\n       <use style=\"stroke:#000000;stroke-width:0.8;\" x=\"33.2875\" xlink:href=\"#m086e67bf75\" y=\"216.51509\"/>\r\n      </g>\r\n     </g>\r\n     <g id=\"text_43\">\r\n      <!-- 33 -->\r\n      <g transform=\"translate(13.5625 220.314308)scale(0.1 -0.1)\">\r\n       <use xlink:href=\"#DejaVuSans-51\"/>\r\n       <use x=\"63.623047\" xlink:href=\"#DejaVuSans-51\"/>\r\n      </g>\r\n     </g>\r\n    </g>\r\n    <g id=\"ytick_35\">\r\n     <g id=\"line2d_44\">\r\n      <g>\r\n       <use style=\"stroke:#000000;stroke-width:0.8;\" x=\"33.2875\" xlink:href=\"#m086e67bf75\" y=\"216.16438\"/>\r\n      </g>\r\n     </g>\r\n     <g id=\"text_44\">\r\n      <!-- 34 -->\r\n      <g transform=\"translate(13.5625 219.963599)scale(0.1 -0.1)\">\r\n       <use xlink:href=\"#DejaVuSans-51\"/>\r\n       <use x=\"63.623047\" xlink:href=\"#DejaVuSans-52\"/>\r\n      </g>\r\n     </g>\r\n    </g>\r\n    <g id=\"ytick_36\">\r\n     <g id=\"line2d_45\">\r\n      <g>\r\n       <use style=\"stroke:#000000;stroke-width:0.8;\" x=\"33.2875\" xlink:href=\"#m086e67bf75\" y=\"215.81367\"/>\r\n      </g>\r\n     </g>\r\n     <g id=\"text_45\">\r\n      <!-- 35 -->\r\n      <g transform=\"translate(13.5625 219.612889)scale(0.1 -0.1)\">\r\n       <use xlink:href=\"#DejaVuSans-51\"/>\r\n       <use x=\"63.623047\" xlink:href=\"#DejaVuSans-53\"/>\r\n      </g>\r\n     </g>\r\n    </g>\r\n    <g id=\"ytick_37\">\r\n     <g id=\"line2d_46\">\r\n      <g>\r\n       <use style=\"stroke:#000000;stroke-width:0.8;\" x=\"33.2875\" xlink:href=\"#m086e67bf75\" y=\"215.462961\"/>\r\n      </g>\r\n     </g>\r\n     <g id=\"text_46\">\r\n      <!-- 36 -->\r\n      <g transform=\"translate(13.5625 219.262179)scale(0.1 -0.1)\">\r\n       <use xlink:href=\"#DejaVuSans-51\"/>\r\n       <use x=\"63.623047\" xlink:href=\"#DejaVuSans-54\"/>\r\n      </g>\r\n     </g>\r\n    </g>\r\n    <g id=\"ytick_38\">\r\n     <g id=\"line2d_47\">\r\n      <g>\r\n       <use style=\"stroke:#000000;stroke-width:0.8;\" x=\"33.2875\" xlink:href=\"#m086e67bf75\" y=\"215.112251\"/>\r\n      </g>\r\n     </g>\r\n     <g id=\"text_47\">\r\n      <!-- 37 -->\r\n      <g transform=\"translate(13.5625 218.91147)scale(0.1 -0.1)\">\r\n       <use xlink:href=\"#DejaVuSans-51\"/>\r\n       <use x=\"63.623047\" xlink:href=\"#DejaVuSans-55\"/>\r\n      </g>\r\n     </g>\r\n    </g>\r\n    <g id=\"ytick_39\">\r\n     <g id=\"line2d_48\">\r\n      <g>\r\n       <use style=\"stroke:#000000;stroke-width:0.8;\" x=\"33.2875\" xlink:href=\"#m086e67bf75\" y=\"214.761541\"/>\r\n      </g>\r\n     </g>\r\n     <g id=\"text_48\">\r\n      <!-- 38 -->\r\n      <g transform=\"translate(13.5625 218.56076)scale(0.1 -0.1)\">\r\n       <use xlink:href=\"#DejaVuSans-51\"/>\r\n       <use x=\"63.623047\" xlink:href=\"#DejaVuSans-56\"/>\r\n      </g>\r\n     </g>\r\n    </g>\r\n    <g id=\"ytick_40\">\r\n     <g id=\"line2d_49\">\r\n      <g>\r\n       <use style=\"stroke:#000000;stroke-width:0.8;\" x=\"33.2875\" xlink:href=\"#m086e67bf75\" y=\"214.410832\"/>\r\n      </g>\r\n     </g>\r\n     <g id=\"text_49\">\r\n      <!-- 39 -->\r\n      <g transform=\"translate(13.5625 218.21005)scale(0.1 -0.1)\">\r\n       <use xlink:href=\"#DejaVuSans-51\"/>\r\n       <use x=\"63.623047\" xlink:href=\"#DejaVuSans-57\"/>\r\n      </g>\r\n     </g>\r\n    </g>\r\n    <g id=\"ytick_41\">\r\n     <g id=\"line2d_50\">\r\n      <g>\r\n       <use style=\"stroke:#000000;stroke-width:0.8;\" x=\"33.2875\" xlink:href=\"#m086e67bf75\" y=\"214.060122\"/>\r\n      </g>\r\n     </g>\r\n     <g id=\"text_50\">\r\n      <!-- 40 -->\r\n      <g transform=\"translate(13.5625 217.859341)scale(0.1 -0.1)\">\r\n       <use xlink:href=\"#DejaVuSans-52\"/>\r\n       <use x=\"63.623047\" xlink:href=\"#DejaVuSans-48\"/>\r\n      </g>\r\n     </g>\r\n    </g>\r\n    <g id=\"ytick_42\">\r\n     <g id=\"line2d_51\">\r\n      <g>\r\n       <use style=\"stroke:#000000;stroke-width:0.8;\" x=\"33.2875\" xlink:href=\"#m086e67bf75\" y=\"213.709412\"/>\r\n      </g>\r\n     </g>\r\n     <g id=\"text_51\">\r\n      <!-- 41 -->\r\n      <g transform=\"translate(13.5625 217.508631)scale(0.1 -0.1)\">\r\n       <use xlink:href=\"#DejaVuSans-52\"/>\r\n       <use x=\"63.623047\" xlink:href=\"#DejaVuSans-49\"/>\r\n      </g>\r\n     </g>\r\n    </g>\r\n    <g id=\"ytick_43\">\r\n     <g id=\"line2d_52\">\r\n      <g>\r\n       <use style=\"stroke:#000000;stroke-width:0.8;\" x=\"33.2875\" xlink:href=\"#m086e67bf75\" y=\"213.358703\"/>\r\n      </g>\r\n     </g>\r\n     <g id=\"text_52\">\r\n      <!-- 42 -->\r\n      <g transform=\"translate(13.5625 217.157921)scale(0.1 -0.1)\">\r\n       <use xlink:href=\"#DejaVuSans-52\"/>\r\n       <use x=\"63.623047\" xlink:href=\"#DejaVuSans-50\"/>\r\n      </g>\r\n     </g>\r\n    </g>\r\n    <g id=\"ytick_44\">\r\n     <g id=\"line2d_53\">\r\n      <g>\r\n       <use style=\"stroke:#000000;stroke-width:0.8;\" x=\"33.2875\" xlink:href=\"#m086e67bf75\" y=\"213.007993\"/>\r\n      </g>\r\n     </g>\r\n     <g id=\"text_53\">\r\n      <!-- 43 -->\r\n      <g transform=\"translate(13.5625 216.807212)scale(0.1 -0.1)\">\r\n       <use xlink:href=\"#DejaVuSans-52\"/>\r\n       <use x=\"63.623047\" xlink:href=\"#DejaVuSans-51\"/>\r\n      </g>\r\n     </g>\r\n    </g>\r\n    <g id=\"ytick_45\">\r\n     <g id=\"line2d_54\">\r\n      <g>\r\n       <use style=\"stroke:#000000;stroke-width:0.8;\" x=\"33.2875\" xlink:href=\"#m086e67bf75\" y=\"212.657283\"/>\r\n      </g>\r\n     </g>\r\n     <g id=\"text_54\">\r\n      <!-- 44 -->\r\n      <g transform=\"translate(13.5625 216.456502)scale(0.1 -0.1)\">\r\n       <use xlink:href=\"#DejaVuSans-52\"/>\r\n       <use x=\"63.623047\" xlink:href=\"#DejaVuSans-52\"/>\r\n      </g>\r\n     </g>\r\n    </g>\r\n    <g id=\"ytick_46\">\r\n     <g id=\"line2d_55\">\r\n      <g>\r\n       <use style=\"stroke:#000000;stroke-width:0.8;\" x=\"33.2875\" xlink:href=\"#m086e67bf75\" y=\"212.306574\"/>\r\n      </g>\r\n     </g>\r\n     <g id=\"text_55\">\r\n      <!-- 45 -->\r\n      <g transform=\"translate(13.5625 216.105792)scale(0.1 -0.1)\">\r\n       <use xlink:href=\"#DejaVuSans-52\"/>\r\n       <use x=\"63.623047\" xlink:href=\"#DejaVuSans-53\"/>\r\n      </g>\r\n     </g>\r\n    </g>\r\n    <g id=\"ytick_47\">\r\n     <g id=\"line2d_56\">\r\n      <g>\r\n       <use style=\"stroke:#000000;stroke-width:0.8;\" x=\"33.2875\" xlink:href=\"#m086e67bf75\" y=\"211.955864\"/>\r\n      </g>\r\n     </g>\r\n     <g id=\"text_56\">\r\n      <!-- 46 -->\r\n      <g transform=\"translate(13.5625 215.755083)scale(0.1 -0.1)\">\r\n       <use xlink:href=\"#DejaVuSans-52\"/>\r\n       <use x=\"63.623047\" xlink:href=\"#DejaVuSans-54\"/>\r\n      </g>\r\n     </g>\r\n    </g>\r\n    <g id=\"ytick_48\">\r\n     <g id=\"line2d_57\">\r\n      <g>\r\n       <use style=\"stroke:#000000;stroke-width:0.8;\" x=\"33.2875\" xlink:href=\"#m086e67bf75\" y=\"211.605154\"/>\r\n      </g>\r\n     </g>\r\n     <g id=\"text_57\">\r\n      <!-- 47 -->\r\n      <g transform=\"translate(13.5625 215.404373)scale(0.1 -0.1)\">\r\n       <use xlink:href=\"#DejaVuSans-52\"/>\r\n       <use x=\"63.623047\" xlink:href=\"#DejaVuSans-55\"/>\r\n      </g>\r\n     </g>\r\n    </g>\r\n    <g id=\"ytick_49\">\r\n     <g id=\"line2d_58\">\r\n      <g>\r\n       <use style=\"stroke:#000000;stroke-width:0.8;\" x=\"33.2875\" xlink:href=\"#m086e67bf75\" y=\"211.254445\"/>\r\n      </g>\r\n     </g>\r\n     <g id=\"text_58\">\r\n      <!-- 48 -->\r\n      <g transform=\"translate(13.5625 215.053663)scale(0.1 -0.1)\">\r\n       <use xlink:href=\"#DejaVuSans-52\"/>\r\n       <use x=\"63.623047\" xlink:href=\"#DejaVuSans-56\"/>\r\n      </g>\r\n     </g>\r\n    </g>\r\n    <g id=\"ytick_50\">\r\n     <g id=\"line2d_59\">\r\n      <g>\r\n       <use style=\"stroke:#000000;stroke-width:0.8;\" x=\"33.2875\" xlink:href=\"#m086e67bf75\" y=\"210.903735\"/>\r\n      </g>\r\n     </g>\r\n     <g id=\"text_59\">\r\n      <!-- 49 -->\r\n      <g transform=\"translate(13.5625 214.702954)scale(0.1 -0.1)\">\r\n       <use xlink:href=\"#DejaVuSans-52\"/>\r\n       <use x=\"63.623047\" xlink:href=\"#DejaVuSans-57\"/>\r\n      </g>\r\n     </g>\r\n    </g>\r\n    <g id=\"ytick_51\">\r\n     <g id=\"line2d_60\">\r\n      <g>\r\n       <use style=\"stroke:#000000;stroke-width:0.8;\" x=\"33.2875\" xlink:href=\"#m086e67bf75\" y=\"210.553025\"/>\r\n      </g>\r\n     </g>\r\n     <g id=\"text_60\">\r\n      <!-- 50 -->\r\n      <g transform=\"translate(13.5625 214.352244)scale(0.1 -0.1)\">\r\n       <use xlink:href=\"#DejaVuSans-53\"/>\r\n       <use x=\"63.623047\" xlink:href=\"#DejaVuSans-48\"/>\r\n      </g>\r\n     </g>\r\n    </g>\r\n    <g id=\"ytick_52\">\r\n     <g id=\"line2d_61\">\r\n      <g>\r\n       <use style=\"stroke:#000000;stroke-width:0.8;\" x=\"33.2875\" xlink:href=\"#m086e67bf75\" y=\"210.202316\"/>\r\n      </g>\r\n     </g>\r\n     <g id=\"text_61\">\r\n      <!-- 51 -->\r\n      <g transform=\"translate(13.5625 214.001534)scale(0.1 -0.1)\">\r\n       <use xlink:href=\"#DejaVuSans-53\"/>\r\n       <use x=\"63.623047\" xlink:href=\"#DejaVuSans-49\"/>\r\n      </g>\r\n     </g>\r\n    </g>\r\n    <g id=\"ytick_53\">\r\n     <g id=\"line2d_62\">\r\n      <g>\r\n       <use style=\"stroke:#000000;stroke-width:0.8;\" x=\"33.2875\" xlink:href=\"#m086e67bf75\" y=\"209.851606\"/>\r\n      </g>\r\n     </g>\r\n     <g id=\"text_62\">\r\n      <!-- 52 -->\r\n      <g transform=\"translate(13.5625 213.650825)scale(0.1 -0.1)\">\r\n       <use xlink:href=\"#DejaVuSans-53\"/>\r\n       <use x=\"63.623047\" xlink:href=\"#DejaVuSans-50\"/>\r\n      </g>\r\n     </g>\r\n    </g>\r\n    <g id=\"ytick_54\">\r\n     <g id=\"line2d_63\">\r\n      <g>\r\n       <use style=\"stroke:#000000;stroke-width:0.8;\" x=\"33.2875\" xlink:href=\"#m086e67bf75\" y=\"209.500896\"/>\r\n      </g>\r\n     </g>\r\n     <g id=\"text_63\">\r\n      <!-- 53 -->\r\n      <g transform=\"translate(13.5625 213.300115)scale(0.1 -0.1)\">\r\n       <use xlink:href=\"#DejaVuSans-53\"/>\r\n       <use x=\"63.623047\" xlink:href=\"#DejaVuSans-51\"/>\r\n      </g>\r\n     </g>\r\n    </g>\r\n    <g id=\"ytick_55\">\r\n     <g id=\"line2d_64\">\r\n      <g>\r\n       <use style=\"stroke:#000000;stroke-width:0.8;\" x=\"33.2875\" xlink:href=\"#m086e67bf75\" y=\"209.150186\"/>\r\n      </g>\r\n     </g>\r\n     <g id=\"text_64\">\r\n      <!-- 54 -->\r\n      <g transform=\"translate(13.5625 212.949405)scale(0.1 -0.1)\">\r\n       <use xlink:href=\"#DejaVuSans-53\"/>\r\n       <use x=\"63.623047\" xlink:href=\"#DejaVuSans-52\"/>\r\n      </g>\r\n     </g>\r\n    </g>\r\n    <g id=\"ytick_56\">\r\n     <g id=\"line2d_65\">\r\n      <g>\r\n       <use style=\"stroke:#000000;stroke-width:0.8;\" x=\"33.2875\" xlink:href=\"#m086e67bf75\" y=\"208.799477\"/>\r\n      </g>\r\n     </g>\r\n     <g id=\"text_65\">\r\n      <!-- 55 -->\r\n      <g transform=\"translate(13.5625 212.598696)scale(0.1 -0.1)\">\r\n       <use xlink:href=\"#DejaVuSans-53\"/>\r\n       <use x=\"63.623047\" xlink:href=\"#DejaVuSans-53\"/>\r\n      </g>\r\n     </g>\r\n    </g>\r\n    <g id=\"ytick_57\">\r\n     <g id=\"line2d_66\">\r\n      <g>\r\n       <use style=\"stroke:#000000;stroke-width:0.8;\" x=\"33.2875\" xlink:href=\"#m086e67bf75\" y=\"208.448767\"/>\r\n      </g>\r\n     </g>\r\n     <g id=\"text_66\">\r\n      <!-- 56 -->\r\n      <g transform=\"translate(13.5625 212.247986)scale(0.1 -0.1)\">\r\n       <use xlink:href=\"#DejaVuSans-53\"/>\r\n       <use x=\"63.623047\" xlink:href=\"#DejaVuSans-54\"/>\r\n      </g>\r\n     </g>\r\n    </g>\r\n    <g id=\"ytick_58\">\r\n     <g id=\"line2d_67\">\r\n      <g>\r\n       <use style=\"stroke:#000000;stroke-width:0.8;\" x=\"33.2875\" xlink:href=\"#m086e67bf75\" y=\"208.098057\"/>\r\n      </g>\r\n     </g>\r\n     <g id=\"text_67\">\r\n      <!-- 57 -->\r\n      <g transform=\"translate(13.5625 211.897276)scale(0.1 -0.1)\">\r\n       <use xlink:href=\"#DejaVuSans-53\"/>\r\n       <use x=\"63.623047\" xlink:href=\"#DejaVuSans-55\"/>\r\n      </g>\r\n     </g>\r\n    </g>\r\n    <g id=\"ytick_59\">\r\n     <g id=\"line2d_68\">\r\n      <g>\r\n       <use style=\"stroke:#000000;stroke-width:0.8;\" x=\"33.2875\" xlink:href=\"#m086e67bf75\" y=\"207.747348\"/>\r\n      </g>\r\n     </g>\r\n     <g id=\"text_68\">\r\n      <!-- 58 -->\r\n      <g transform=\"translate(13.5625 211.546567)scale(0.1 -0.1)\">\r\n       <use xlink:href=\"#DejaVuSans-53\"/>\r\n       <use x=\"63.623047\" xlink:href=\"#DejaVuSans-56\"/>\r\n      </g>\r\n     </g>\r\n    </g>\r\n    <g id=\"ytick_60\">\r\n     <g id=\"line2d_69\">\r\n      <g>\r\n       <use style=\"stroke:#000000;stroke-width:0.8;\" x=\"33.2875\" xlink:href=\"#m086e67bf75\" y=\"207.396638\"/>\r\n      </g>\r\n     </g>\r\n     <g id=\"text_69\">\r\n      <!-- 59 -->\r\n      <g transform=\"translate(13.5625 211.195857)scale(0.1 -0.1)\">\r\n       <use xlink:href=\"#DejaVuSans-53\"/>\r\n       <use x=\"63.623047\" xlink:href=\"#DejaVuSans-57\"/>\r\n      </g>\r\n     </g>\r\n    </g>\r\n    <g id=\"ytick_61\">\r\n     <g id=\"line2d_70\">\r\n      <g>\r\n       <use style=\"stroke:#000000;stroke-width:0.8;\" x=\"33.2875\" xlink:href=\"#m086e67bf75\" y=\"207.045928\"/>\r\n      </g>\r\n     </g>\r\n     <g id=\"text_70\">\r\n      <!-- 60 -->\r\n      <g transform=\"translate(13.5625 210.845147)scale(0.1 -0.1)\">\r\n       <use xlink:href=\"#DejaVuSans-54\"/>\r\n       <use x=\"63.623047\" xlink:href=\"#DejaVuSans-48\"/>\r\n      </g>\r\n     </g>\r\n    </g>\r\n    <g id=\"ytick_62\">\r\n     <g id=\"line2d_71\">\r\n      <g>\r\n       <use style=\"stroke:#000000;stroke-width:0.8;\" x=\"33.2875\" xlink:href=\"#m086e67bf75\" y=\"206.695219\"/>\r\n      </g>\r\n     </g>\r\n     <g id=\"text_71\">\r\n      <!-- 61 -->\r\n      <g transform=\"translate(13.5625 210.494438)scale(0.1 -0.1)\">\r\n       <use xlink:href=\"#DejaVuSans-54\"/>\r\n       <use x=\"63.623047\" xlink:href=\"#DejaVuSans-49\"/>\r\n      </g>\r\n     </g>\r\n    </g>\r\n    <g id=\"ytick_63\">\r\n     <g id=\"line2d_72\">\r\n      <g>\r\n       <use style=\"stroke:#000000;stroke-width:0.8;\" x=\"33.2875\" xlink:href=\"#m086e67bf75\" y=\"206.344509\"/>\r\n      </g>\r\n     </g>\r\n     <g id=\"text_72\">\r\n      <!-- 62 -->\r\n      <g transform=\"translate(13.5625 210.143728)scale(0.1 -0.1)\">\r\n       <use xlink:href=\"#DejaVuSans-54\"/>\r\n       <use x=\"63.623047\" xlink:href=\"#DejaVuSans-50\"/>\r\n      </g>\r\n     </g>\r\n    </g>\r\n    <g id=\"ytick_64\">\r\n     <g id=\"line2d_73\">\r\n      <g>\r\n       <use style=\"stroke:#000000;stroke-width:0.8;\" x=\"33.2875\" xlink:href=\"#m086e67bf75\" y=\"205.993799\"/>\r\n      </g>\r\n     </g>\r\n     <g id=\"text_73\">\r\n      <!-- 63 -->\r\n      <g transform=\"translate(13.5625 209.793018)scale(0.1 -0.1)\">\r\n       <use xlink:href=\"#DejaVuSans-54\"/>\r\n       <use x=\"63.623047\" xlink:href=\"#DejaVuSans-51\"/>\r\n      </g>\r\n     </g>\r\n    </g>\r\n    <g id=\"ytick_65\">\r\n     <g id=\"line2d_74\">\r\n      <g>\r\n       <use style=\"stroke:#000000;stroke-width:0.8;\" x=\"33.2875\" xlink:href=\"#m086e67bf75\" y=\"205.64309\"/>\r\n      </g>\r\n     </g>\r\n     <g id=\"text_74\">\r\n      <!-- 64 -->\r\n      <g transform=\"translate(13.5625 209.442308)scale(0.1 -0.1)\">\r\n       <use xlink:href=\"#DejaVuSans-54\"/>\r\n       <use x=\"63.623047\" xlink:href=\"#DejaVuSans-52\"/>\r\n      </g>\r\n     </g>\r\n    </g>\r\n    <g id=\"ytick_66\">\r\n     <g id=\"line2d_75\">\r\n      <g>\r\n       <use style=\"stroke:#000000;stroke-width:0.8;\" x=\"33.2875\" xlink:href=\"#m086e67bf75\" y=\"205.29238\"/>\r\n      </g>\r\n     </g>\r\n     <g id=\"text_75\">\r\n      <!-- 65 -->\r\n      <g transform=\"translate(13.5625 209.091599)scale(0.1 -0.1)\">\r\n       <use xlink:href=\"#DejaVuSans-54\"/>\r\n       <use x=\"63.623047\" xlink:href=\"#DejaVuSans-53\"/>\r\n      </g>\r\n     </g>\r\n    </g>\r\n    <g id=\"ytick_67\">\r\n     <g id=\"line2d_76\">\r\n      <g>\r\n       <use style=\"stroke:#000000;stroke-width:0.8;\" x=\"33.2875\" xlink:href=\"#m086e67bf75\" y=\"204.94167\"/>\r\n      </g>\r\n     </g>\r\n     <g id=\"text_76\">\r\n      <!-- 66 -->\r\n      <g transform=\"translate(13.5625 208.740889)scale(0.1 -0.1)\">\r\n       <use xlink:href=\"#DejaVuSans-54\"/>\r\n       <use x=\"63.623047\" xlink:href=\"#DejaVuSans-54\"/>\r\n      </g>\r\n     </g>\r\n    </g>\r\n    <g id=\"ytick_68\">\r\n     <g id=\"line2d_77\">\r\n      <g>\r\n       <use style=\"stroke:#000000;stroke-width:0.8;\" x=\"33.2875\" xlink:href=\"#m086e67bf75\" y=\"204.590961\"/>\r\n      </g>\r\n     </g>\r\n     <g id=\"text_77\">\r\n      <!-- 67 -->\r\n      <g transform=\"translate(13.5625 208.390179)scale(0.1 -0.1)\">\r\n       <use xlink:href=\"#DejaVuSans-54\"/>\r\n       <use x=\"63.623047\" xlink:href=\"#DejaVuSans-55\"/>\r\n      </g>\r\n     </g>\r\n    </g>\r\n    <g id=\"ytick_69\">\r\n     <g id=\"line2d_78\">\r\n      <g>\r\n       <use style=\"stroke:#000000;stroke-width:0.8;\" x=\"33.2875\" xlink:href=\"#m086e67bf75\" y=\"204.240251\"/>\r\n      </g>\r\n     </g>\r\n     <g id=\"text_78\">\r\n      <!-- 68 -->\r\n      <g transform=\"translate(13.5625 208.03947)scale(0.1 -0.1)\">\r\n       <use xlink:href=\"#DejaVuSans-54\"/>\r\n       <use x=\"63.623047\" xlink:href=\"#DejaVuSans-56\"/>\r\n      </g>\r\n     </g>\r\n    </g>\r\n    <g id=\"ytick_70\">\r\n     <g id=\"line2d_79\">\r\n      <g>\r\n       <use style=\"stroke:#000000;stroke-width:0.8;\" x=\"33.2875\" xlink:href=\"#m086e67bf75\" y=\"203.889541\"/>\r\n      </g>\r\n     </g>\r\n     <g id=\"text_79\">\r\n      <!-- 69 -->\r\n      <g transform=\"translate(13.5625 207.68876)scale(0.1 -0.1)\">\r\n       <use xlink:href=\"#DejaVuSans-54\"/>\r\n       <use x=\"63.623047\" xlink:href=\"#DejaVuSans-57\"/>\r\n      </g>\r\n     </g>\r\n    </g>\r\n    <g id=\"ytick_71\">\r\n     <g id=\"line2d_80\">\r\n      <g>\r\n       <use style=\"stroke:#000000;stroke-width:0.8;\" x=\"33.2875\" xlink:href=\"#m086e67bf75\" y=\"203.538832\"/>\r\n      </g>\r\n     </g>\r\n     <g id=\"text_80\">\r\n      <!-- 70 -->\r\n      <g transform=\"translate(13.5625 207.33805)scale(0.1 -0.1)\">\r\n       <use xlink:href=\"#DejaVuSans-55\"/>\r\n       <use x=\"63.623047\" xlink:href=\"#DejaVuSans-48\"/>\r\n      </g>\r\n     </g>\r\n    </g>\r\n    <g id=\"ytick_72\">\r\n     <g id=\"line2d_81\">\r\n      <g>\r\n       <use style=\"stroke:#000000;stroke-width:0.8;\" x=\"33.2875\" xlink:href=\"#m086e67bf75\" y=\"203.188122\"/>\r\n      </g>\r\n     </g>\r\n     <g id=\"text_81\">\r\n      <!-- 71 -->\r\n      <g transform=\"translate(13.5625 206.987341)scale(0.1 -0.1)\">\r\n       <use xlink:href=\"#DejaVuSans-55\"/>\r\n       <use x=\"63.623047\" xlink:href=\"#DejaVuSans-49\"/>\r\n      </g>\r\n     </g>\r\n    </g>\r\n    <g id=\"ytick_73\">\r\n     <g id=\"line2d_82\">\r\n      <g>\r\n       <use style=\"stroke:#000000;stroke-width:0.8;\" x=\"33.2875\" xlink:href=\"#m086e67bf75\" y=\"202.837412\"/>\r\n      </g>\r\n     </g>\r\n     <g id=\"text_82\">\r\n      <!-- 72 -->\r\n      <g transform=\"translate(13.5625 206.636631)scale(0.1 -0.1)\">\r\n       <use xlink:href=\"#DejaVuSans-55\"/>\r\n       <use x=\"63.623047\" xlink:href=\"#DejaVuSans-50\"/>\r\n      </g>\r\n     </g>\r\n    </g>\r\n    <g id=\"ytick_74\">\r\n     <g id=\"line2d_83\">\r\n      <g>\r\n       <use style=\"stroke:#000000;stroke-width:0.8;\" x=\"33.2875\" xlink:href=\"#m086e67bf75\" y=\"202.486703\"/>\r\n      </g>\r\n     </g>\r\n     <g id=\"text_83\">\r\n      <!-- 73 -->\r\n      <g transform=\"translate(13.5625 206.285921)scale(0.1 -0.1)\">\r\n       <use xlink:href=\"#DejaVuSans-55\"/>\r\n       <use x=\"63.623047\" xlink:href=\"#DejaVuSans-51\"/>\r\n      </g>\r\n     </g>\r\n    </g>\r\n    <g id=\"ytick_75\">\r\n     <g id=\"line2d_84\">\r\n      <g>\r\n       <use style=\"stroke:#000000;stroke-width:0.8;\" x=\"33.2875\" xlink:href=\"#m086e67bf75\" y=\"202.135993\"/>\r\n      </g>\r\n     </g>\r\n     <g id=\"text_84\">\r\n      <!-- 74 -->\r\n      <g transform=\"translate(13.5625 205.935212)scale(0.1 -0.1)\">\r\n       <use xlink:href=\"#DejaVuSans-55\"/>\r\n       <use x=\"63.623047\" xlink:href=\"#DejaVuSans-52\"/>\r\n      </g>\r\n     </g>\r\n    </g>\r\n    <g id=\"ytick_76\">\r\n     <g id=\"line2d_85\">\r\n      <g>\r\n       <use style=\"stroke:#000000;stroke-width:0.8;\" x=\"33.2875\" xlink:href=\"#m086e67bf75\" y=\"201.785283\"/>\r\n      </g>\r\n     </g>\r\n     <g id=\"text_85\">\r\n      <!-- 75 -->\r\n      <g transform=\"translate(13.5625 205.584502)scale(0.1 -0.1)\">\r\n       <use xlink:href=\"#DejaVuSans-55\"/>\r\n       <use x=\"63.623047\" xlink:href=\"#DejaVuSans-53\"/>\r\n      </g>\r\n     </g>\r\n    </g>\r\n    <g id=\"ytick_77\">\r\n     <g id=\"line2d_86\">\r\n      <g>\r\n       <use style=\"stroke:#000000;stroke-width:0.8;\" x=\"33.2875\" xlink:href=\"#m086e67bf75\" y=\"201.434574\"/>\r\n      </g>\r\n     </g>\r\n     <g id=\"text_86\">\r\n      <!-- 76 -->\r\n      <g transform=\"translate(13.5625 205.233792)scale(0.1 -0.1)\">\r\n       <use xlink:href=\"#DejaVuSans-55\"/>\r\n       <use x=\"63.623047\" xlink:href=\"#DejaVuSans-54\"/>\r\n      </g>\r\n     </g>\r\n    </g>\r\n    <g id=\"ytick_78\">\r\n     <g id=\"line2d_87\">\r\n      <g>\r\n       <use style=\"stroke:#000000;stroke-width:0.8;\" x=\"33.2875\" xlink:href=\"#m086e67bf75\" y=\"201.083864\"/>\r\n      </g>\r\n     </g>\r\n     <g id=\"text_87\">\r\n      <!-- 77 -->\r\n      <g transform=\"translate(13.5625 204.883083)scale(0.1 -0.1)\">\r\n       <use xlink:href=\"#DejaVuSans-55\"/>\r\n       <use x=\"63.623047\" xlink:href=\"#DejaVuSans-55\"/>\r\n      </g>\r\n     </g>\r\n    </g>\r\n    <g id=\"ytick_79\">\r\n     <g id=\"line2d_88\">\r\n      <g>\r\n       <use style=\"stroke:#000000;stroke-width:0.8;\" x=\"33.2875\" xlink:href=\"#m086e67bf75\" y=\"200.733154\"/>\r\n      </g>\r\n     </g>\r\n     <g id=\"text_88\">\r\n      <!-- 78 -->\r\n      <g transform=\"translate(13.5625 204.532373)scale(0.1 -0.1)\">\r\n       <use xlink:href=\"#DejaVuSans-55\"/>\r\n       <use x=\"63.623047\" xlink:href=\"#DejaVuSans-56\"/>\r\n      </g>\r\n     </g>\r\n    </g>\r\n    <g id=\"ytick_80\">\r\n     <g id=\"line2d_89\">\r\n      <g>\r\n       <use style=\"stroke:#000000;stroke-width:0.8;\" x=\"33.2875\" xlink:href=\"#m086e67bf75\" y=\"200.382445\"/>\r\n      </g>\r\n     </g>\r\n     <g id=\"text_89\">\r\n      <!-- 79 -->\r\n      <g transform=\"translate(13.5625 204.181663)scale(0.1 -0.1)\">\r\n       <use xlink:href=\"#DejaVuSans-55\"/>\r\n       <use x=\"63.623047\" xlink:href=\"#DejaVuSans-57\"/>\r\n      </g>\r\n     </g>\r\n    </g>\r\n    <g id=\"ytick_81\">\r\n     <g id=\"line2d_90\">\r\n      <g>\r\n       <use style=\"stroke:#000000;stroke-width:0.8;\" x=\"33.2875\" xlink:href=\"#m086e67bf75\" y=\"200.031735\"/>\r\n      </g>\r\n     </g>\r\n     <g id=\"text_90\">\r\n      <!-- 80 -->\r\n      <g transform=\"translate(13.5625 203.830954)scale(0.1 -0.1)\">\r\n       <use xlink:href=\"#DejaVuSans-56\"/>\r\n       <use x=\"63.623047\" xlink:href=\"#DejaVuSans-48\"/>\r\n      </g>\r\n     </g>\r\n    </g>\r\n    <g id=\"ytick_82\">\r\n     <g id=\"line2d_91\">\r\n      <g>\r\n       <use style=\"stroke:#000000;stroke-width:0.8;\" x=\"33.2875\" xlink:href=\"#m086e67bf75\" y=\"199.681025\"/>\r\n      </g>\r\n     </g>\r\n     <g id=\"text_91\">\r\n      <!-- 81 -->\r\n      <g transform=\"translate(13.5625 203.480244)scale(0.1 -0.1)\">\r\n       <use xlink:href=\"#DejaVuSans-56\"/>\r\n       <use x=\"63.623047\" xlink:href=\"#DejaVuSans-49\"/>\r\n      </g>\r\n     </g>\r\n    </g>\r\n    <g id=\"ytick_83\">\r\n     <g id=\"line2d_92\">\r\n      <g>\r\n       <use style=\"stroke:#000000;stroke-width:0.8;\" x=\"33.2875\" xlink:href=\"#m086e67bf75\" y=\"199.330316\"/>\r\n      </g>\r\n     </g>\r\n     <g id=\"text_92\">\r\n      <!-- 82 -->\r\n      <g transform=\"translate(13.5625 203.129534)scale(0.1 -0.1)\">\r\n       <use xlink:href=\"#DejaVuSans-56\"/>\r\n       <use x=\"63.623047\" xlink:href=\"#DejaVuSans-50\"/>\r\n      </g>\r\n     </g>\r\n    </g>\r\n    <g id=\"ytick_84\">\r\n     <g id=\"line2d_93\">\r\n      <g>\r\n       <use style=\"stroke:#000000;stroke-width:0.8;\" x=\"33.2875\" xlink:href=\"#m086e67bf75\" y=\"198.979606\"/>\r\n      </g>\r\n     </g>\r\n     <g id=\"text_93\">\r\n      <!-- 83 -->\r\n      <g transform=\"translate(13.5625 202.778825)scale(0.1 -0.1)\">\r\n       <use xlink:href=\"#DejaVuSans-56\"/>\r\n       <use x=\"63.623047\" xlink:href=\"#DejaVuSans-51\"/>\r\n      </g>\r\n     </g>\r\n    </g>\r\n    <g id=\"ytick_85\">\r\n     <g id=\"line2d_94\">\r\n      <g>\r\n       <use style=\"stroke:#000000;stroke-width:0.8;\" x=\"33.2875\" xlink:href=\"#m086e67bf75\" y=\"198.628896\"/>\r\n      </g>\r\n     </g>\r\n     <g id=\"text_94\">\r\n      <!-- 84 -->\r\n      <g transform=\"translate(13.5625 202.428115)scale(0.1 -0.1)\">\r\n       <use xlink:href=\"#DejaVuSans-56\"/>\r\n       <use x=\"63.623047\" xlink:href=\"#DejaVuSans-52\"/>\r\n      </g>\r\n     </g>\r\n    </g>\r\n    <g id=\"ytick_86\">\r\n     <g id=\"line2d_95\">\r\n      <g>\r\n       <use style=\"stroke:#000000;stroke-width:0.8;\" x=\"33.2875\" xlink:href=\"#m086e67bf75\" y=\"198.278186\"/>\r\n      </g>\r\n     </g>\r\n     <g id=\"text_95\">\r\n      <!-- 85 -->\r\n      <g transform=\"translate(13.5625 202.077405)scale(0.1 -0.1)\">\r\n       <use xlink:href=\"#DejaVuSans-56\"/>\r\n       <use x=\"63.623047\" xlink:href=\"#DejaVuSans-53\"/>\r\n      </g>\r\n     </g>\r\n    </g>\r\n    <g id=\"ytick_87\">\r\n     <g id=\"line2d_96\">\r\n      <g>\r\n       <use style=\"stroke:#000000;stroke-width:0.8;\" x=\"33.2875\" xlink:href=\"#m086e67bf75\" y=\"197.927477\"/>\r\n      </g>\r\n     </g>\r\n     <g id=\"text_96\">\r\n      <!-- 86 -->\r\n      <g transform=\"translate(13.5625 201.726696)scale(0.1 -0.1)\">\r\n       <use xlink:href=\"#DejaVuSans-56\"/>\r\n       <use x=\"63.623047\" xlink:href=\"#DejaVuSans-54\"/>\r\n      </g>\r\n     </g>\r\n    </g>\r\n    <g id=\"ytick_88\">\r\n     <g id=\"line2d_97\">\r\n      <g>\r\n       <use style=\"stroke:#000000;stroke-width:0.8;\" x=\"33.2875\" xlink:href=\"#m086e67bf75\" y=\"197.576767\"/>\r\n      </g>\r\n     </g>\r\n     <g id=\"text_97\">\r\n      <!-- 87 -->\r\n      <g transform=\"translate(13.5625 201.375986)scale(0.1 -0.1)\">\r\n       <use xlink:href=\"#DejaVuSans-56\"/>\r\n       <use x=\"63.623047\" xlink:href=\"#DejaVuSans-55\"/>\r\n      </g>\r\n     </g>\r\n    </g>\r\n    <g id=\"ytick_89\">\r\n     <g id=\"line2d_98\">\r\n      <g>\r\n       <use style=\"stroke:#000000;stroke-width:0.8;\" x=\"33.2875\" xlink:href=\"#m086e67bf75\" y=\"197.226057\"/>\r\n      </g>\r\n     </g>\r\n     <g id=\"text_98\">\r\n      <!-- 88 -->\r\n      <g transform=\"translate(13.5625 201.025276)scale(0.1 -0.1)\">\r\n       <use xlink:href=\"#DejaVuSans-56\"/>\r\n       <use x=\"63.623047\" xlink:href=\"#DejaVuSans-56\"/>\r\n      </g>\r\n     </g>\r\n    </g>\r\n    <g id=\"ytick_90\">\r\n     <g id=\"line2d_99\">\r\n      <g>\r\n       <use style=\"stroke:#000000;stroke-width:0.8;\" x=\"33.2875\" xlink:href=\"#m086e67bf75\" y=\"196.875348\"/>\r\n      </g>\r\n     </g>\r\n     <g id=\"text_99\">\r\n      <!-- 89 -->\r\n      <g transform=\"translate(13.5625 200.674567)scale(0.1 -0.1)\">\r\n       <use xlink:href=\"#DejaVuSans-56\"/>\r\n       <use x=\"63.623047\" xlink:href=\"#DejaVuSans-57\"/>\r\n      </g>\r\n     </g>\r\n    </g>\r\n    <g id=\"ytick_91\">\r\n     <g id=\"line2d_100\">\r\n      <g>\r\n       <use style=\"stroke:#000000;stroke-width:0.8;\" x=\"33.2875\" xlink:href=\"#m086e67bf75\" y=\"196.524638\"/>\r\n      </g>\r\n     </g>\r\n     <g id=\"text_100\">\r\n      <!-- 90 -->\r\n      <g transform=\"translate(13.5625 200.323857)scale(0.1 -0.1)\">\r\n       <use xlink:href=\"#DejaVuSans-57\"/>\r\n       <use x=\"63.623047\" xlink:href=\"#DejaVuSans-48\"/>\r\n      </g>\r\n     </g>\r\n    </g>\r\n    <g id=\"ytick_92\">\r\n     <g id=\"line2d_101\">\r\n      <g>\r\n       <use style=\"stroke:#000000;stroke-width:0.8;\" x=\"33.2875\" xlink:href=\"#m086e67bf75\" y=\"196.173928\"/>\r\n      </g>\r\n     </g>\r\n     <g id=\"text_101\">\r\n      <!-- 91 -->\r\n      <g transform=\"translate(13.5625 199.973147)scale(0.1 -0.1)\">\r\n       <use xlink:href=\"#DejaVuSans-57\"/>\r\n       <use x=\"63.623047\" xlink:href=\"#DejaVuSans-49\"/>\r\n      </g>\r\n     </g>\r\n    </g>\r\n    <g id=\"ytick_93\">\r\n     <g id=\"line2d_102\">\r\n      <g>\r\n       <use style=\"stroke:#000000;stroke-width:0.8;\" x=\"33.2875\" xlink:href=\"#m086e67bf75\" y=\"195.823219\"/>\r\n      </g>\r\n     </g>\r\n     <g id=\"text_102\">\r\n      <!-- 92 -->\r\n      <g transform=\"translate(13.5625 199.622438)scale(0.1 -0.1)\">\r\n       <use xlink:href=\"#DejaVuSans-57\"/>\r\n       <use x=\"63.623047\" xlink:href=\"#DejaVuSans-50\"/>\r\n      </g>\r\n     </g>\r\n    </g>\r\n    <g id=\"ytick_94\">\r\n     <g id=\"line2d_103\">\r\n      <g>\r\n       <use style=\"stroke:#000000;stroke-width:0.8;\" x=\"33.2875\" xlink:href=\"#m086e67bf75\" y=\"195.472509\"/>\r\n      </g>\r\n     </g>\r\n     <g id=\"text_103\">\r\n      <!-- 93 -->\r\n      <g transform=\"translate(13.5625 199.271728)scale(0.1 -0.1)\">\r\n       <use xlink:href=\"#DejaVuSans-57\"/>\r\n       <use x=\"63.623047\" xlink:href=\"#DejaVuSans-51\"/>\r\n      </g>\r\n     </g>\r\n    </g>\r\n    <g id=\"ytick_95\">\r\n     <g id=\"line2d_104\">\r\n      <g>\r\n       <use style=\"stroke:#000000;stroke-width:0.8;\" x=\"33.2875\" xlink:href=\"#m086e67bf75\" y=\"195.121799\"/>\r\n      </g>\r\n     </g>\r\n     <g id=\"text_104\">\r\n      <!-- 94 -->\r\n      <g transform=\"translate(13.5625 198.921018)scale(0.1 -0.1)\">\r\n       <use xlink:href=\"#DejaVuSans-57\"/>\r\n       <use x=\"63.623047\" xlink:href=\"#DejaVuSans-52\"/>\r\n      </g>\r\n     </g>\r\n    </g>\r\n    <g id=\"ytick_96\">\r\n     <g id=\"line2d_105\">\r\n      <g>\r\n       <use style=\"stroke:#000000;stroke-width:0.8;\" x=\"33.2875\" xlink:href=\"#m086e67bf75\" y=\"194.77109\"/>\r\n      </g>\r\n     </g>\r\n     <g id=\"text_105\">\r\n      <!-- 95 -->\r\n      <g transform=\"translate(13.5625 198.570308)scale(0.1 -0.1)\">\r\n       <use xlink:href=\"#DejaVuSans-57\"/>\r\n       <use x=\"63.623047\" xlink:href=\"#DejaVuSans-53\"/>\r\n      </g>\r\n     </g>\r\n    </g>\r\n    <g id=\"ytick_97\">\r\n     <g id=\"line2d_106\">\r\n      <g>\r\n       <use style=\"stroke:#000000;stroke-width:0.8;\" x=\"33.2875\" xlink:href=\"#m086e67bf75\" y=\"194.42038\"/>\r\n      </g>\r\n     </g>\r\n     <g id=\"text_106\">\r\n      <!-- 96 -->\r\n      <g transform=\"translate(13.5625 198.219599)scale(0.1 -0.1)\">\r\n       <use xlink:href=\"#DejaVuSans-57\"/>\r\n       <use x=\"63.623047\" xlink:href=\"#DejaVuSans-54\"/>\r\n      </g>\r\n     </g>\r\n    </g>\r\n    <g id=\"ytick_98\">\r\n     <g id=\"line2d_107\">\r\n      <g>\r\n       <use style=\"stroke:#000000;stroke-width:0.8;\" x=\"33.2875\" xlink:href=\"#m086e67bf75\" y=\"194.06967\"/>\r\n      </g>\r\n     </g>\r\n     <g id=\"text_107\">\r\n      <!-- 97 -->\r\n      <g transform=\"translate(13.5625 197.868889)scale(0.1 -0.1)\">\r\n       <use xlink:href=\"#DejaVuSans-57\"/>\r\n       <use x=\"63.623047\" xlink:href=\"#DejaVuSans-55\"/>\r\n      </g>\r\n     </g>\r\n    </g>\r\n    <g id=\"ytick_99\">\r\n     <g id=\"line2d_108\">\r\n      <g>\r\n       <use style=\"stroke:#000000;stroke-width:0.8;\" x=\"33.2875\" xlink:href=\"#m086e67bf75\" y=\"193.718961\"/>\r\n      </g>\r\n     </g>\r\n     <g id=\"text_108\">\r\n      <!-- 98 -->\r\n      <g transform=\"translate(13.5625 197.518179)scale(0.1 -0.1)\">\r\n       <use xlink:href=\"#DejaVuSans-57\"/>\r\n       <use x=\"63.623047\" xlink:href=\"#DejaVuSans-56\"/>\r\n      </g>\r\n     </g>\r\n    </g>\r\n    <g id=\"ytick_100\">\r\n     <g id=\"line2d_109\">\r\n      <g>\r\n       <use style=\"stroke:#000000;stroke-width:0.8;\" x=\"33.2875\" xlink:href=\"#m086e67bf75\" y=\"193.368251\"/>\r\n      </g>\r\n     </g>\r\n     <g id=\"text_109\">\r\n      <!-- 99 -->\r\n      <g transform=\"translate(13.5625 197.16747)scale(0.1 -0.1)\">\r\n       <use xlink:href=\"#DejaVuSans-57\"/>\r\n       <use x=\"63.623047\" xlink:href=\"#DejaVuSans-57\"/>\r\n      </g>\r\n     </g>\r\n    </g>\r\n    <g id=\"ytick_101\">\r\n     <g id=\"line2d_110\">\r\n      <g>\r\n       <use style=\"stroke:#000000;stroke-width:0.8;\" x=\"33.2875\" xlink:href=\"#m086e67bf75\" y=\"193.017541\"/>\r\n      </g>\r\n     </g>\r\n     <g id=\"text_110\">\r\n      <!-- 100 -->\r\n      <g transform=\"translate(7.2 196.81676)scale(0.1 -0.1)\">\r\n       <use xlink:href=\"#DejaVuSans-49\"/>\r\n       <use x=\"63.623047\" xlink:href=\"#DejaVuSans-48\"/>\r\n       <use x=\"127.246094\" xlink:href=\"#DejaVuSans-48\"/>\r\n      </g>\r\n     </g>\r\n    </g>\r\n    <g id=\"ytick_102\">\r\n     <g id=\"line2d_111\">\r\n      <g>\r\n       <use style=\"stroke:#000000;stroke-width:0.8;\" x=\"33.2875\" xlink:href=\"#m086e67bf75\" y=\"192.666832\"/>\r\n      </g>\r\n     </g>\r\n     <g id=\"text_111\">\r\n      <!-- 101 -->\r\n      <g transform=\"translate(7.2 196.46605)scale(0.1 -0.1)\">\r\n       <use xlink:href=\"#DejaVuSans-49\"/>\r\n       <use x=\"63.623047\" xlink:href=\"#DejaVuSans-48\"/>\r\n       <use x=\"127.246094\" xlink:href=\"#DejaVuSans-49\"/>\r\n      </g>\r\n     </g>\r\n    </g>\r\n    <g id=\"ytick_103\">\r\n     <g id=\"line2d_112\">\r\n      <g>\r\n       <use style=\"stroke:#000000;stroke-width:0.8;\" x=\"33.2875\" xlink:href=\"#m086e67bf75\" y=\"192.316122\"/>\r\n      </g>\r\n     </g>\r\n     <g id=\"text_112\">\r\n      <!-- 102 -->\r\n      <g transform=\"translate(7.2 196.115341)scale(0.1 -0.1)\">\r\n       <use xlink:href=\"#DejaVuSans-49\"/>\r\n       <use x=\"63.623047\" xlink:href=\"#DejaVuSans-48\"/>\r\n       <use x=\"127.246094\" xlink:href=\"#DejaVuSans-50\"/>\r\n      </g>\r\n     </g>\r\n    </g>\r\n    <g id=\"ytick_104\">\r\n     <g id=\"line2d_113\">\r\n      <g>\r\n       <use style=\"stroke:#000000;stroke-width:0.8;\" x=\"33.2875\" xlink:href=\"#m086e67bf75\" y=\"191.965412\"/>\r\n      </g>\r\n     </g>\r\n     <g id=\"text_113\">\r\n      <!-- 103 -->\r\n      <g transform=\"translate(7.2 195.764631)scale(0.1 -0.1)\">\r\n       <use xlink:href=\"#DejaVuSans-49\"/>\r\n       <use x=\"63.623047\" xlink:href=\"#DejaVuSans-48\"/>\r\n       <use x=\"127.246094\" xlink:href=\"#DejaVuSans-51\"/>\r\n      </g>\r\n     </g>\r\n    </g>\r\n    <g id=\"ytick_105\">\r\n     <g id=\"line2d_114\">\r\n      <g>\r\n       <use style=\"stroke:#000000;stroke-width:0.8;\" x=\"33.2875\" xlink:href=\"#m086e67bf75\" y=\"191.614703\"/>\r\n      </g>\r\n     </g>\r\n     <g id=\"text_114\">\r\n      <!-- 104 -->\r\n      <g transform=\"translate(7.2 195.413921)scale(0.1 -0.1)\">\r\n       <use xlink:href=\"#DejaVuSans-49\"/>\r\n       <use x=\"63.623047\" xlink:href=\"#DejaVuSans-48\"/>\r\n       <use x=\"127.246094\" xlink:href=\"#DejaVuSans-52\"/>\r\n      </g>\r\n     </g>\r\n    </g>\r\n    <g id=\"ytick_106\">\r\n     <g id=\"line2d_115\">\r\n      <g>\r\n       <use style=\"stroke:#000000;stroke-width:0.8;\" x=\"33.2875\" xlink:href=\"#m086e67bf75\" y=\"191.263993\"/>\r\n      </g>\r\n     </g>\r\n     <g id=\"text_115\">\r\n      <!-- 105 -->\r\n      <g transform=\"translate(7.2 195.063212)scale(0.1 -0.1)\">\r\n       <use xlink:href=\"#DejaVuSans-49\"/>\r\n       <use x=\"63.623047\" xlink:href=\"#DejaVuSans-48\"/>\r\n       <use x=\"127.246094\" xlink:href=\"#DejaVuSans-53\"/>\r\n      </g>\r\n     </g>\r\n    </g>\r\n    <g id=\"ytick_107\">\r\n     <g id=\"line2d_116\">\r\n      <g>\r\n       <use style=\"stroke:#000000;stroke-width:0.8;\" x=\"33.2875\" xlink:href=\"#m086e67bf75\" y=\"190.913283\"/>\r\n      </g>\r\n     </g>\r\n     <g id=\"text_116\">\r\n      <!-- 106 -->\r\n      <g transform=\"translate(7.2 194.712502)scale(0.1 -0.1)\">\r\n       <use xlink:href=\"#DejaVuSans-49\"/>\r\n       <use x=\"63.623047\" xlink:href=\"#DejaVuSans-48\"/>\r\n       <use x=\"127.246094\" xlink:href=\"#DejaVuSans-54\"/>\r\n      </g>\r\n     </g>\r\n    </g>\r\n    <g id=\"ytick_108\">\r\n     <g id=\"line2d_117\">\r\n      <g>\r\n       <use style=\"stroke:#000000;stroke-width:0.8;\" x=\"33.2875\" xlink:href=\"#m086e67bf75\" y=\"190.562574\"/>\r\n      </g>\r\n     </g>\r\n     <g id=\"text_117\">\r\n      <!-- 107 -->\r\n      <g transform=\"translate(7.2 194.361792)scale(0.1 -0.1)\">\r\n       <use xlink:href=\"#DejaVuSans-49\"/>\r\n       <use x=\"63.623047\" xlink:href=\"#DejaVuSans-48\"/>\r\n       <use x=\"127.246094\" xlink:href=\"#DejaVuSans-55\"/>\r\n      </g>\r\n     </g>\r\n    </g>\r\n    <g id=\"ytick_109\">\r\n     <g id=\"line2d_118\">\r\n      <g>\r\n       <use style=\"stroke:#000000;stroke-width:0.8;\" x=\"33.2875\" xlink:href=\"#m086e67bf75\" y=\"190.211864\"/>\r\n      </g>\r\n     </g>\r\n     <g id=\"text_118\">\r\n      <!-- 108 -->\r\n      <g transform=\"translate(7.2 194.011083)scale(0.1 -0.1)\">\r\n       <use xlink:href=\"#DejaVuSans-49\"/>\r\n       <use x=\"63.623047\" xlink:href=\"#DejaVuSans-48\"/>\r\n       <use x=\"127.246094\" xlink:href=\"#DejaVuSans-56\"/>\r\n      </g>\r\n     </g>\r\n    </g>\r\n    <g id=\"ytick_110\">\r\n     <g id=\"line2d_119\">\r\n      <g>\r\n       <use style=\"stroke:#000000;stroke-width:0.8;\" x=\"33.2875\" xlink:href=\"#m086e67bf75\" y=\"189.861154\"/>\r\n      </g>\r\n     </g>\r\n     <g id=\"text_119\">\r\n      <!-- 109 -->\r\n      <g transform=\"translate(7.2 193.660373)scale(0.1 -0.1)\">\r\n       <use xlink:href=\"#DejaVuSans-49\"/>\r\n       <use x=\"63.623047\" xlink:href=\"#DejaVuSans-48\"/>\r\n       <use x=\"127.246094\" xlink:href=\"#DejaVuSans-57\"/>\r\n      </g>\r\n     </g>\r\n    </g>\r\n    <g id=\"ytick_111\">\r\n     <g id=\"line2d_120\">\r\n      <g>\r\n       <use style=\"stroke:#000000;stroke-width:0.8;\" x=\"33.2875\" xlink:href=\"#m086e67bf75\" y=\"189.510445\"/>\r\n      </g>\r\n     </g>\r\n     <g id=\"text_120\">\r\n      <!-- 110 -->\r\n      <g transform=\"translate(7.2 193.309663)scale(0.1 -0.1)\">\r\n       <use xlink:href=\"#DejaVuSans-49\"/>\r\n       <use x=\"63.623047\" xlink:href=\"#DejaVuSans-49\"/>\r\n       <use x=\"127.246094\" xlink:href=\"#DejaVuSans-48\"/>\r\n      </g>\r\n     </g>\r\n    </g>\r\n    <g id=\"ytick_112\">\r\n     <g id=\"line2d_121\">\r\n      <g>\r\n       <use style=\"stroke:#000000;stroke-width:0.8;\" x=\"33.2875\" xlink:href=\"#m086e67bf75\" y=\"189.159735\"/>\r\n      </g>\r\n     </g>\r\n     <g id=\"text_121\">\r\n      <!-- 111 -->\r\n      <g transform=\"translate(7.2 192.958954)scale(0.1 -0.1)\">\r\n       <use xlink:href=\"#DejaVuSans-49\"/>\r\n       <use x=\"63.623047\" xlink:href=\"#DejaVuSans-49\"/>\r\n       <use x=\"127.246094\" xlink:href=\"#DejaVuSans-49\"/>\r\n      </g>\r\n     </g>\r\n    </g>\r\n    <g id=\"ytick_113\">\r\n     <g id=\"line2d_122\">\r\n      <g>\r\n       <use style=\"stroke:#000000;stroke-width:0.8;\" x=\"33.2875\" xlink:href=\"#m086e67bf75\" y=\"188.809025\"/>\r\n      </g>\r\n     </g>\r\n     <g id=\"text_122\">\r\n      <!-- 112 -->\r\n      <g transform=\"translate(7.2 192.608244)scale(0.1 -0.1)\">\r\n       <use xlink:href=\"#DejaVuSans-49\"/>\r\n       <use x=\"63.623047\" xlink:href=\"#DejaVuSans-49\"/>\r\n       <use x=\"127.246094\" xlink:href=\"#DejaVuSans-50\"/>\r\n      </g>\r\n     </g>\r\n    </g>\r\n    <g id=\"ytick_114\">\r\n     <g id=\"line2d_123\">\r\n      <g>\r\n       <use style=\"stroke:#000000;stroke-width:0.8;\" x=\"33.2875\" xlink:href=\"#m086e67bf75\" y=\"188.458316\"/>\r\n      </g>\r\n     </g>\r\n     <g id=\"text_123\">\r\n      <!-- 113 -->\r\n      <g transform=\"translate(7.2 192.257534)scale(0.1 -0.1)\">\r\n       <use xlink:href=\"#DejaVuSans-49\"/>\r\n       <use x=\"63.623047\" xlink:href=\"#DejaVuSans-49\"/>\r\n       <use x=\"127.246094\" xlink:href=\"#DejaVuSans-51\"/>\r\n      </g>\r\n     </g>\r\n    </g>\r\n    <g id=\"ytick_115\">\r\n     <g id=\"line2d_124\">\r\n      <g>\r\n       <use style=\"stroke:#000000;stroke-width:0.8;\" x=\"33.2875\" xlink:href=\"#m086e67bf75\" y=\"188.107606\"/>\r\n      </g>\r\n     </g>\r\n     <g id=\"text_124\">\r\n      <!-- 114 -->\r\n      <g transform=\"translate(7.2 191.906825)scale(0.1 -0.1)\">\r\n       <use xlink:href=\"#DejaVuSans-49\"/>\r\n       <use x=\"63.623047\" xlink:href=\"#DejaVuSans-49\"/>\r\n       <use x=\"127.246094\" xlink:href=\"#DejaVuSans-52\"/>\r\n      </g>\r\n     </g>\r\n    </g>\r\n    <g id=\"ytick_116\">\r\n     <g id=\"line2d_125\">\r\n      <g>\r\n       <use style=\"stroke:#000000;stroke-width:0.8;\" x=\"33.2875\" xlink:href=\"#m086e67bf75\" y=\"187.756896\"/>\r\n      </g>\r\n     </g>\r\n     <g id=\"text_125\">\r\n      <!-- 115 -->\r\n      <g transform=\"translate(7.2 191.556115)scale(0.1 -0.1)\">\r\n       <use xlink:href=\"#DejaVuSans-49\"/>\r\n       <use x=\"63.623047\" xlink:href=\"#DejaVuSans-49\"/>\r\n       <use x=\"127.246094\" xlink:href=\"#DejaVuSans-53\"/>\r\n      </g>\r\n     </g>\r\n    </g>\r\n    <g id=\"ytick_117\">\r\n     <g id=\"line2d_126\">\r\n      <g>\r\n       <use style=\"stroke:#000000;stroke-width:0.8;\" x=\"33.2875\" xlink:href=\"#m086e67bf75\" y=\"187.406186\"/>\r\n      </g>\r\n     </g>\r\n     <g id=\"text_126\">\r\n      <!-- 116 -->\r\n      <g transform=\"translate(7.2 191.205405)scale(0.1 -0.1)\">\r\n       <use xlink:href=\"#DejaVuSans-49\"/>\r\n       <use x=\"63.623047\" xlink:href=\"#DejaVuSans-49\"/>\r\n       <use x=\"127.246094\" xlink:href=\"#DejaVuSans-54\"/>\r\n      </g>\r\n     </g>\r\n    </g>\r\n    <g id=\"ytick_118\">\r\n     <g id=\"line2d_127\">\r\n      <g>\r\n       <use style=\"stroke:#000000;stroke-width:0.8;\" x=\"33.2875\" xlink:href=\"#m086e67bf75\" y=\"187.055477\"/>\r\n      </g>\r\n     </g>\r\n     <g id=\"text_127\">\r\n      <!-- 117 -->\r\n      <g transform=\"translate(7.2 190.854696)scale(0.1 -0.1)\">\r\n       <use xlink:href=\"#DejaVuSans-49\"/>\r\n       <use x=\"63.623047\" xlink:href=\"#DejaVuSans-49\"/>\r\n       <use x=\"127.246094\" xlink:href=\"#DejaVuSans-55\"/>\r\n      </g>\r\n     </g>\r\n    </g>\r\n    <g id=\"ytick_119\">\r\n     <g id=\"line2d_128\">\r\n      <g>\r\n       <use style=\"stroke:#000000;stroke-width:0.8;\" x=\"33.2875\" xlink:href=\"#m086e67bf75\" y=\"186.704767\"/>\r\n      </g>\r\n     </g>\r\n     <g id=\"text_128\">\r\n      <!-- 118 -->\r\n      <g transform=\"translate(7.2 190.503986)scale(0.1 -0.1)\">\r\n       <use xlink:href=\"#DejaVuSans-49\"/>\r\n       <use x=\"63.623047\" xlink:href=\"#DejaVuSans-49\"/>\r\n       <use x=\"127.246094\" xlink:href=\"#DejaVuSans-56\"/>\r\n      </g>\r\n     </g>\r\n    </g>\r\n    <g id=\"ytick_120\">\r\n     <g id=\"line2d_129\">\r\n      <g>\r\n       <use style=\"stroke:#000000;stroke-width:0.8;\" x=\"33.2875\" xlink:href=\"#m086e67bf75\" y=\"186.354057\"/>\r\n      </g>\r\n     </g>\r\n     <g id=\"text_129\">\r\n      <!-- 119 -->\r\n      <g transform=\"translate(7.2 190.153276)scale(0.1 -0.1)\">\r\n       <use xlink:href=\"#DejaVuSans-49\"/>\r\n       <use x=\"63.623047\" xlink:href=\"#DejaVuSans-49\"/>\r\n       <use x=\"127.246094\" xlink:href=\"#DejaVuSans-57\"/>\r\n      </g>\r\n     </g>\r\n    </g>\r\n    <g id=\"ytick_121\">\r\n     <g id=\"line2d_130\">\r\n      <g>\r\n       <use style=\"stroke:#000000;stroke-width:0.8;\" x=\"33.2875\" xlink:href=\"#m086e67bf75\" y=\"186.003348\"/>\r\n      </g>\r\n     </g>\r\n     <g id=\"text_130\">\r\n      <!-- 120 -->\r\n      <g transform=\"translate(7.2 189.802567)scale(0.1 -0.1)\">\r\n       <use xlink:href=\"#DejaVuSans-49\"/>\r\n       <use x=\"63.623047\" xlink:href=\"#DejaVuSans-50\"/>\r\n       <use x=\"127.246094\" xlink:href=\"#DejaVuSans-48\"/>\r\n      </g>\r\n     </g>\r\n    </g>\r\n    <g id=\"ytick_122\">\r\n     <g id=\"line2d_131\">\r\n      <g>\r\n       <use style=\"stroke:#000000;stroke-width:0.8;\" x=\"33.2875\" xlink:href=\"#m086e67bf75\" y=\"185.652638\"/>\r\n      </g>\r\n     </g>\r\n     <g id=\"text_131\">\r\n      <!-- 121 -->\r\n      <g transform=\"translate(7.2 189.451857)scale(0.1 -0.1)\">\r\n       <use xlink:href=\"#DejaVuSans-49\"/>\r\n       <use x=\"63.623047\" xlink:href=\"#DejaVuSans-50\"/>\r\n       <use x=\"127.246094\" xlink:href=\"#DejaVuSans-49\"/>\r\n      </g>\r\n     </g>\r\n    </g>\r\n    <g id=\"ytick_123\">\r\n     <g id=\"line2d_132\">\r\n      <g>\r\n       <use style=\"stroke:#000000;stroke-width:0.8;\" x=\"33.2875\" xlink:href=\"#m086e67bf75\" y=\"185.301928\"/>\r\n      </g>\r\n     </g>\r\n     <g id=\"text_132\">\r\n      <!-- 122 -->\r\n      <g transform=\"translate(7.2 189.101147)scale(0.1 -0.1)\">\r\n       <use xlink:href=\"#DejaVuSans-49\"/>\r\n       <use x=\"63.623047\" xlink:href=\"#DejaVuSans-50\"/>\r\n       <use x=\"127.246094\" xlink:href=\"#DejaVuSans-50\"/>\r\n      </g>\r\n     </g>\r\n    </g>\r\n    <g id=\"ytick_124\">\r\n     <g id=\"line2d_133\">\r\n      <g>\r\n       <use style=\"stroke:#000000;stroke-width:0.8;\" x=\"33.2875\" xlink:href=\"#m086e67bf75\" y=\"184.951219\"/>\r\n      </g>\r\n     </g>\r\n     <g id=\"text_133\">\r\n      <!-- 123 -->\r\n      <g transform=\"translate(7.2 188.750438)scale(0.1 -0.1)\">\r\n       <use xlink:href=\"#DejaVuSans-49\"/>\r\n       <use x=\"63.623047\" xlink:href=\"#DejaVuSans-50\"/>\r\n       <use x=\"127.246094\" xlink:href=\"#DejaVuSans-51\"/>\r\n      </g>\r\n     </g>\r\n    </g>\r\n    <g id=\"ytick_125\">\r\n     <g id=\"line2d_134\">\r\n      <g>\r\n       <use style=\"stroke:#000000;stroke-width:0.8;\" x=\"33.2875\" xlink:href=\"#m086e67bf75\" y=\"184.600509\"/>\r\n      </g>\r\n     </g>\r\n     <g id=\"text_134\">\r\n      <!-- 124 -->\r\n      <g transform=\"translate(7.2 188.399728)scale(0.1 -0.1)\">\r\n       <use xlink:href=\"#DejaVuSans-49\"/>\r\n       <use x=\"63.623047\" xlink:href=\"#DejaVuSans-50\"/>\r\n       <use x=\"127.246094\" xlink:href=\"#DejaVuSans-52\"/>\r\n      </g>\r\n     </g>\r\n    </g>\r\n    <g id=\"ytick_126\">\r\n     <g id=\"line2d_135\">\r\n      <g>\r\n       <use style=\"stroke:#000000;stroke-width:0.8;\" x=\"33.2875\" xlink:href=\"#m086e67bf75\" y=\"184.249799\"/>\r\n      </g>\r\n     </g>\r\n     <g id=\"text_135\">\r\n      <!-- 125 -->\r\n      <g transform=\"translate(7.2 188.049018)scale(0.1 -0.1)\">\r\n       <use xlink:href=\"#DejaVuSans-49\"/>\r\n       <use x=\"63.623047\" xlink:href=\"#DejaVuSans-50\"/>\r\n       <use x=\"127.246094\" xlink:href=\"#DejaVuSans-53\"/>\r\n      </g>\r\n     </g>\r\n    </g>\r\n    <g id=\"ytick_127\">\r\n     <g id=\"line2d_136\">\r\n      <g>\r\n       <use style=\"stroke:#000000;stroke-width:0.8;\" x=\"33.2875\" xlink:href=\"#m086e67bf75\" y=\"183.89909\"/>\r\n      </g>\r\n     </g>\r\n     <g id=\"text_136\">\r\n      <!-- 126 -->\r\n      <g transform=\"translate(7.2 187.698308)scale(0.1 -0.1)\">\r\n       <use xlink:href=\"#DejaVuSans-49\"/>\r\n       <use x=\"63.623047\" xlink:href=\"#DejaVuSans-50\"/>\r\n       <use x=\"127.246094\" xlink:href=\"#DejaVuSans-54\"/>\r\n      </g>\r\n     </g>\r\n    </g>\r\n    <g id=\"ytick_128\">\r\n     <g id=\"line2d_137\">\r\n      <g>\r\n       <use style=\"stroke:#000000;stroke-width:0.8;\" x=\"33.2875\" xlink:href=\"#m086e67bf75\" y=\"183.54838\"/>\r\n      </g>\r\n     </g>\r\n     <g id=\"text_137\">\r\n      <!-- 127 -->\r\n      <g transform=\"translate(7.2 187.347599)scale(0.1 -0.1)\">\r\n       <use xlink:href=\"#DejaVuSans-49\"/>\r\n       <use x=\"63.623047\" xlink:href=\"#DejaVuSans-50\"/>\r\n       <use x=\"127.246094\" xlink:href=\"#DejaVuSans-55\"/>\r\n      </g>\r\n     </g>\r\n    </g>\r\n    <g id=\"ytick_129\">\r\n     <g id=\"line2d_138\">\r\n      <g>\r\n       <use style=\"stroke:#000000;stroke-width:0.8;\" x=\"33.2875\" xlink:href=\"#m086e67bf75\" y=\"183.19767\"/>\r\n      </g>\r\n     </g>\r\n     <g id=\"text_138\">\r\n      <!-- 128 -->\r\n      <g transform=\"translate(7.2 186.996889)scale(0.1 -0.1)\">\r\n       <use xlink:href=\"#DejaVuSans-49\"/>\r\n       <use x=\"63.623047\" xlink:href=\"#DejaVuSans-50\"/>\r\n       <use x=\"127.246094\" xlink:href=\"#DejaVuSans-56\"/>\r\n      </g>\r\n     </g>\r\n    </g>\r\n    <g id=\"ytick_130\">\r\n     <g id=\"line2d_139\">\r\n      <g>\r\n       <use style=\"stroke:#000000;stroke-width:0.8;\" x=\"33.2875\" xlink:href=\"#m086e67bf75\" y=\"182.846961\"/>\r\n      </g>\r\n     </g>\r\n     <g id=\"text_139\">\r\n      <!-- 129 -->\r\n      <g transform=\"translate(7.2 186.646179)scale(0.1 -0.1)\">\r\n       <use xlink:href=\"#DejaVuSans-49\"/>\r\n       <use x=\"63.623047\" xlink:href=\"#DejaVuSans-50\"/>\r\n       <use x=\"127.246094\" xlink:href=\"#DejaVuSans-57\"/>\r\n      </g>\r\n     </g>\r\n    </g>\r\n    <g id=\"ytick_131\">\r\n     <g id=\"line2d_140\">\r\n      <g>\r\n       <use style=\"stroke:#000000;stroke-width:0.8;\" x=\"33.2875\" xlink:href=\"#m086e67bf75\" y=\"182.496251\"/>\r\n      </g>\r\n     </g>\r\n     <g id=\"text_140\">\r\n      <!-- 130 -->\r\n      <g transform=\"translate(7.2 186.29547)scale(0.1 -0.1)\">\r\n       <use xlink:href=\"#DejaVuSans-49\"/>\r\n       <use x=\"63.623047\" xlink:href=\"#DejaVuSans-51\"/>\r\n       <use x=\"127.246094\" xlink:href=\"#DejaVuSans-48\"/>\r\n      </g>\r\n     </g>\r\n    </g>\r\n    <g id=\"ytick_132\">\r\n     <g id=\"line2d_141\">\r\n      <g>\r\n       <use style=\"stroke:#000000;stroke-width:0.8;\" x=\"33.2875\" xlink:href=\"#m086e67bf75\" y=\"182.145541\"/>\r\n      </g>\r\n     </g>\r\n     <g id=\"text_141\">\r\n      <!-- 131 -->\r\n      <g transform=\"translate(7.2 185.94476)scale(0.1 -0.1)\">\r\n       <use xlink:href=\"#DejaVuSans-49\"/>\r\n       <use x=\"63.623047\" xlink:href=\"#DejaVuSans-51\"/>\r\n       <use x=\"127.246094\" xlink:href=\"#DejaVuSans-49\"/>\r\n      </g>\r\n     </g>\r\n    </g>\r\n    <g id=\"ytick_133\">\r\n     <g id=\"line2d_142\">\r\n      <g>\r\n       <use style=\"stroke:#000000;stroke-width:0.8;\" x=\"33.2875\" xlink:href=\"#m086e67bf75\" y=\"181.794832\"/>\r\n      </g>\r\n     </g>\r\n     <g id=\"text_142\">\r\n      <!-- 132 -->\r\n      <g transform=\"translate(7.2 185.59405)scale(0.1 -0.1)\">\r\n       <use xlink:href=\"#DejaVuSans-49\"/>\r\n       <use x=\"63.623047\" xlink:href=\"#DejaVuSans-51\"/>\r\n       <use x=\"127.246094\" xlink:href=\"#DejaVuSans-50\"/>\r\n      </g>\r\n     </g>\r\n    </g>\r\n    <g id=\"ytick_134\">\r\n     <g id=\"line2d_143\">\r\n      <g>\r\n       <use style=\"stroke:#000000;stroke-width:0.8;\" x=\"33.2875\" xlink:href=\"#m086e67bf75\" y=\"181.444122\"/>\r\n      </g>\r\n     </g>\r\n     <g id=\"text_143\">\r\n      <!-- 133 -->\r\n      <g transform=\"translate(7.2 185.243341)scale(0.1 -0.1)\">\r\n       <use xlink:href=\"#DejaVuSans-49\"/>\r\n       <use x=\"63.623047\" xlink:href=\"#DejaVuSans-51\"/>\r\n       <use x=\"127.246094\" xlink:href=\"#DejaVuSans-51\"/>\r\n      </g>\r\n     </g>\r\n    </g>\r\n    <g id=\"ytick_135\">\r\n     <g id=\"line2d_144\">\r\n      <g>\r\n       <use style=\"stroke:#000000;stroke-width:0.8;\" x=\"33.2875\" xlink:href=\"#m086e67bf75\" y=\"181.093412\"/>\r\n      </g>\r\n     </g>\r\n     <g id=\"text_144\">\r\n      <!-- 134 -->\r\n      <g transform=\"translate(7.2 184.892631)scale(0.1 -0.1)\">\r\n       <use xlink:href=\"#DejaVuSans-49\"/>\r\n       <use x=\"63.623047\" xlink:href=\"#DejaVuSans-51\"/>\r\n       <use x=\"127.246094\" xlink:href=\"#DejaVuSans-52\"/>\r\n      </g>\r\n     </g>\r\n    </g>\r\n    <g id=\"ytick_136\">\r\n     <g id=\"line2d_145\">\r\n      <g>\r\n       <use style=\"stroke:#000000;stroke-width:0.8;\" x=\"33.2875\" xlink:href=\"#m086e67bf75\" y=\"180.742703\"/>\r\n      </g>\r\n     </g>\r\n     <g id=\"text_145\">\r\n      <!-- 135 -->\r\n      <g transform=\"translate(7.2 184.541921)scale(0.1 -0.1)\">\r\n       <use xlink:href=\"#DejaVuSans-49\"/>\r\n       <use x=\"63.623047\" xlink:href=\"#DejaVuSans-51\"/>\r\n       <use x=\"127.246094\" xlink:href=\"#DejaVuSans-53\"/>\r\n      </g>\r\n     </g>\r\n    </g>\r\n    <g id=\"ytick_137\">\r\n     <g id=\"line2d_146\">\r\n      <g>\r\n       <use style=\"stroke:#000000;stroke-width:0.8;\" x=\"33.2875\" xlink:href=\"#m086e67bf75\" y=\"180.391993\"/>\r\n      </g>\r\n     </g>\r\n     <g id=\"text_146\">\r\n      <!-- 136 -->\r\n      <g transform=\"translate(7.2 184.191212)scale(0.1 -0.1)\">\r\n       <use xlink:href=\"#DejaVuSans-49\"/>\r\n       <use x=\"63.623047\" xlink:href=\"#DejaVuSans-51\"/>\r\n       <use x=\"127.246094\" xlink:href=\"#DejaVuSans-54\"/>\r\n      </g>\r\n     </g>\r\n    </g>\r\n    <g id=\"ytick_138\">\r\n     <g id=\"line2d_147\">\r\n      <g>\r\n       <use style=\"stroke:#000000;stroke-width:0.8;\" x=\"33.2875\" xlink:href=\"#m086e67bf75\" y=\"180.041283\"/>\r\n      </g>\r\n     </g>\r\n     <g id=\"text_147\">\r\n      <!-- 137 -->\r\n      <g transform=\"translate(7.2 183.840502)scale(0.1 -0.1)\">\r\n       <use xlink:href=\"#DejaVuSans-49\"/>\r\n       <use x=\"63.623047\" xlink:href=\"#DejaVuSans-51\"/>\r\n       <use x=\"127.246094\" xlink:href=\"#DejaVuSans-55\"/>\r\n      </g>\r\n     </g>\r\n    </g>\r\n    <g id=\"ytick_139\">\r\n     <g id=\"line2d_148\">\r\n      <g>\r\n       <use style=\"stroke:#000000;stroke-width:0.8;\" x=\"33.2875\" xlink:href=\"#m086e67bf75\" y=\"179.690574\"/>\r\n      </g>\r\n     </g>\r\n     <g id=\"text_148\">\r\n      <!-- 138 -->\r\n      <g transform=\"translate(7.2 183.489792)scale(0.1 -0.1)\">\r\n       <use xlink:href=\"#DejaVuSans-49\"/>\r\n       <use x=\"63.623047\" xlink:href=\"#DejaVuSans-51\"/>\r\n       <use x=\"127.246094\" xlink:href=\"#DejaVuSans-56\"/>\r\n      </g>\r\n     </g>\r\n    </g>\r\n    <g id=\"ytick_140\">\r\n     <g id=\"line2d_149\">\r\n      <g>\r\n       <use style=\"stroke:#000000;stroke-width:0.8;\" x=\"33.2875\" xlink:href=\"#m086e67bf75\" y=\"179.339864\"/>\r\n      </g>\r\n     </g>\r\n     <g id=\"text_149\">\r\n      <!-- 139 -->\r\n      <g transform=\"translate(7.2 183.139083)scale(0.1 -0.1)\">\r\n       <use xlink:href=\"#DejaVuSans-49\"/>\r\n       <use x=\"63.623047\" xlink:href=\"#DejaVuSans-51\"/>\r\n       <use x=\"127.246094\" xlink:href=\"#DejaVuSans-57\"/>\r\n      </g>\r\n     </g>\r\n    </g>\r\n    <g id=\"ytick_141\">\r\n     <g id=\"line2d_150\">\r\n      <g>\r\n       <use style=\"stroke:#000000;stroke-width:0.8;\" x=\"33.2875\" xlink:href=\"#m086e67bf75\" y=\"178.989154\"/>\r\n      </g>\r\n     </g>\r\n     <g id=\"text_150\">\r\n      <!-- 140 -->\r\n      <g transform=\"translate(7.2 182.788373)scale(0.1 -0.1)\">\r\n       <use xlink:href=\"#DejaVuSans-49\"/>\r\n       <use x=\"63.623047\" xlink:href=\"#DejaVuSans-52\"/>\r\n       <use x=\"127.246094\" xlink:href=\"#DejaVuSans-48\"/>\r\n      </g>\r\n     </g>\r\n    </g>\r\n    <g id=\"ytick_142\">\r\n     <g id=\"line2d_151\">\r\n      <g>\r\n       <use style=\"stroke:#000000;stroke-width:0.8;\" x=\"33.2875\" xlink:href=\"#m086e67bf75\" y=\"178.638445\"/>\r\n      </g>\r\n     </g>\r\n     <g id=\"text_151\">\r\n      <!-- 141 -->\r\n      <g transform=\"translate(7.2 182.437663)scale(0.1 -0.1)\">\r\n       <use xlink:href=\"#DejaVuSans-49\"/>\r\n       <use x=\"63.623047\" xlink:href=\"#DejaVuSans-52\"/>\r\n       <use x=\"127.246094\" xlink:href=\"#DejaVuSans-49\"/>\r\n      </g>\r\n     </g>\r\n    </g>\r\n    <g id=\"ytick_143\">\r\n     <g id=\"line2d_152\">\r\n      <g>\r\n       <use style=\"stroke:#000000;stroke-width:0.8;\" x=\"33.2875\" xlink:href=\"#m086e67bf75\" y=\"178.287735\"/>\r\n      </g>\r\n     </g>\r\n     <g id=\"text_152\">\r\n      <!-- 142 -->\r\n      <g transform=\"translate(7.2 182.086954)scale(0.1 -0.1)\">\r\n       <use xlink:href=\"#DejaVuSans-49\"/>\r\n       <use x=\"63.623047\" xlink:href=\"#DejaVuSans-52\"/>\r\n       <use x=\"127.246094\" xlink:href=\"#DejaVuSans-50\"/>\r\n      </g>\r\n     </g>\r\n    </g>\r\n    <g id=\"ytick_144\">\r\n     <g id=\"line2d_153\">\r\n      <g>\r\n       <use style=\"stroke:#000000;stroke-width:0.8;\" x=\"33.2875\" xlink:href=\"#m086e67bf75\" y=\"177.937025\"/>\r\n      </g>\r\n     </g>\r\n     <g id=\"text_153\">\r\n      <!-- 143 -->\r\n      <g transform=\"translate(7.2 181.736244)scale(0.1 -0.1)\">\r\n       <use xlink:href=\"#DejaVuSans-49\"/>\r\n       <use x=\"63.623047\" xlink:href=\"#DejaVuSans-52\"/>\r\n       <use x=\"127.246094\" xlink:href=\"#DejaVuSans-51\"/>\r\n      </g>\r\n     </g>\r\n    </g>\r\n    <g id=\"ytick_145\">\r\n     <g id=\"line2d_154\">\r\n      <g>\r\n       <use style=\"stroke:#000000;stroke-width:0.8;\" x=\"33.2875\" xlink:href=\"#m086e67bf75\" y=\"177.586316\"/>\r\n      </g>\r\n     </g>\r\n     <g id=\"text_154\">\r\n      <!-- 144 -->\r\n      <g transform=\"translate(7.2 181.385534)scale(0.1 -0.1)\">\r\n       <use xlink:href=\"#DejaVuSans-49\"/>\r\n       <use x=\"63.623047\" xlink:href=\"#DejaVuSans-52\"/>\r\n       <use x=\"127.246094\" xlink:href=\"#DejaVuSans-52\"/>\r\n      </g>\r\n     </g>\r\n    </g>\r\n    <g id=\"ytick_146\">\r\n     <g id=\"line2d_155\">\r\n      <g>\r\n       <use style=\"stroke:#000000;stroke-width:0.8;\" x=\"33.2875\" xlink:href=\"#m086e67bf75\" y=\"177.235606\"/>\r\n      </g>\r\n     </g>\r\n     <g id=\"text_155\">\r\n      <!-- 145 -->\r\n      <g transform=\"translate(7.2 181.034825)scale(0.1 -0.1)\">\r\n       <use xlink:href=\"#DejaVuSans-49\"/>\r\n       <use x=\"63.623047\" xlink:href=\"#DejaVuSans-52\"/>\r\n       <use x=\"127.246094\" xlink:href=\"#DejaVuSans-53\"/>\r\n      </g>\r\n     </g>\r\n    </g>\r\n    <g id=\"ytick_147\">\r\n     <g id=\"line2d_156\">\r\n      <g>\r\n       <use style=\"stroke:#000000;stroke-width:0.8;\" x=\"33.2875\" xlink:href=\"#m086e67bf75\" y=\"176.884896\"/>\r\n      </g>\r\n     </g>\r\n     <g id=\"text_156\">\r\n      <!-- 146 -->\r\n      <g transform=\"translate(7.2 180.684115)scale(0.1 -0.1)\">\r\n       <use xlink:href=\"#DejaVuSans-49\"/>\r\n       <use x=\"63.623047\" xlink:href=\"#DejaVuSans-52\"/>\r\n       <use x=\"127.246094\" xlink:href=\"#DejaVuSans-54\"/>\r\n      </g>\r\n     </g>\r\n    </g>\r\n    <g id=\"ytick_148\">\r\n     <g id=\"line2d_157\">\r\n      <g>\r\n       <use style=\"stroke:#000000;stroke-width:0.8;\" x=\"33.2875\" xlink:href=\"#m086e67bf75\" y=\"176.534186\"/>\r\n      </g>\r\n     </g>\r\n     <g id=\"text_157\">\r\n      <!-- 147 -->\r\n      <g transform=\"translate(7.2 180.333405)scale(0.1 -0.1)\">\r\n       <use xlink:href=\"#DejaVuSans-49\"/>\r\n       <use x=\"63.623047\" xlink:href=\"#DejaVuSans-52\"/>\r\n       <use x=\"127.246094\" xlink:href=\"#DejaVuSans-55\"/>\r\n      </g>\r\n     </g>\r\n    </g>\r\n    <g id=\"ytick_149\">\r\n     <g id=\"line2d_158\">\r\n      <g>\r\n       <use style=\"stroke:#000000;stroke-width:0.8;\" x=\"33.2875\" xlink:href=\"#m086e67bf75\" y=\"176.183477\"/>\r\n      </g>\r\n     </g>\r\n     <g id=\"text_158\">\r\n      <!-- 148 -->\r\n      <g transform=\"translate(7.2 179.982696)scale(0.1 -0.1)\">\r\n       <use xlink:href=\"#DejaVuSans-49\"/>\r\n       <use x=\"63.623047\" xlink:href=\"#DejaVuSans-52\"/>\r\n       <use x=\"127.246094\" xlink:href=\"#DejaVuSans-56\"/>\r\n      </g>\r\n     </g>\r\n    </g>\r\n    <g id=\"ytick_150\">\r\n     <g id=\"line2d_159\">\r\n      <g>\r\n       <use style=\"stroke:#000000;stroke-width:0.8;\" x=\"33.2875\" xlink:href=\"#m086e67bf75\" y=\"175.832767\"/>\r\n      </g>\r\n     </g>\r\n     <g id=\"text_159\">\r\n      <!-- 149 -->\r\n      <g transform=\"translate(7.2 179.631986)scale(0.1 -0.1)\">\r\n       <use xlink:href=\"#DejaVuSans-49\"/>\r\n       <use x=\"63.623047\" xlink:href=\"#DejaVuSans-52\"/>\r\n       <use x=\"127.246094\" xlink:href=\"#DejaVuSans-57\"/>\r\n      </g>\r\n     </g>\r\n    </g>\r\n    <g id=\"ytick_151\">\r\n     <g id=\"line2d_160\">\r\n      <g>\r\n       <use style=\"stroke:#000000;stroke-width:0.8;\" x=\"33.2875\" xlink:href=\"#m086e67bf75\" y=\"175.482057\"/>\r\n      </g>\r\n     </g>\r\n     <g id=\"text_160\">\r\n      <!-- 150 -->\r\n      <g transform=\"translate(7.2 179.281276)scale(0.1 -0.1)\">\r\n       <use xlink:href=\"#DejaVuSans-49\"/>\r\n       <use x=\"63.623047\" xlink:href=\"#DejaVuSans-53\"/>\r\n       <use x=\"127.246094\" xlink:href=\"#DejaVuSans-48\"/>\r\n      </g>\r\n     </g>\r\n    </g>\r\n    <g id=\"ytick_152\">\r\n     <g id=\"line2d_161\">\r\n      <g>\r\n       <use style=\"stroke:#000000;stroke-width:0.8;\" x=\"33.2875\" xlink:href=\"#m086e67bf75\" y=\"175.131348\"/>\r\n      </g>\r\n     </g>\r\n     <g id=\"text_161\">\r\n      <!-- 151 -->\r\n      <g transform=\"translate(7.2 178.930567)scale(0.1 -0.1)\">\r\n       <use xlink:href=\"#DejaVuSans-49\"/>\r\n       <use x=\"63.623047\" xlink:href=\"#DejaVuSans-53\"/>\r\n       <use x=\"127.246094\" xlink:href=\"#DejaVuSans-49\"/>\r\n      </g>\r\n     </g>\r\n    </g>\r\n    <g id=\"ytick_153\">\r\n     <g id=\"line2d_162\">\r\n      <g>\r\n       <use style=\"stroke:#000000;stroke-width:0.8;\" x=\"33.2875\" xlink:href=\"#m086e67bf75\" y=\"174.780638\"/>\r\n      </g>\r\n     </g>\r\n     <g id=\"text_162\">\r\n      <!-- 152 -->\r\n      <g transform=\"translate(7.2 178.579857)scale(0.1 -0.1)\">\r\n       <use xlink:href=\"#DejaVuSans-49\"/>\r\n       <use x=\"63.623047\" xlink:href=\"#DejaVuSans-53\"/>\r\n       <use x=\"127.246094\" xlink:href=\"#DejaVuSans-50\"/>\r\n      </g>\r\n     </g>\r\n    </g>\r\n    <g id=\"ytick_154\">\r\n     <g id=\"line2d_163\">\r\n      <g>\r\n       <use style=\"stroke:#000000;stroke-width:0.8;\" x=\"33.2875\" xlink:href=\"#m086e67bf75\" y=\"174.429928\"/>\r\n      </g>\r\n     </g>\r\n     <g id=\"text_163\">\r\n      <!-- 153 -->\r\n      <g transform=\"translate(7.2 178.229147)scale(0.1 -0.1)\">\r\n       <use xlink:href=\"#DejaVuSans-49\"/>\r\n       <use x=\"63.623047\" xlink:href=\"#DejaVuSans-53\"/>\r\n       <use x=\"127.246094\" xlink:href=\"#DejaVuSans-51\"/>\r\n      </g>\r\n     </g>\r\n    </g>\r\n    <g id=\"ytick_155\">\r\n     <g id=\"line2d_164\">\r\n      <g>\r\n       <use style=\"stroke:#000000;stroke-width:0.8;\" x=\"33.2875\" xlink:href=\"#m086e67bf75\" y=\"174.079219\"/>\r\n      </g>\r\n     </g>\r\n     <g id=\"text_164\">\r\n      <!-- 154 -->\r\n      <g transform=\"translate(7.2 177.878438)scale(0.1 -0.1)\">\r\n       <use xlink:href=\"#DejaVuSans-49\"/>\r\n       <use x=\"63.623047\" xlink:href=\"#DejaVuSans-53\"/>\r\n       <use x=\"127.246094\" xlink:href=\"#DejaVuSans-52\"/>\r\n      </g>\r\n     </g>\r\n    </g>\r\n    <g id=\"ytick_156\">\r\n     <g id=\"line2d_165\">\r\n      <g>\r\n       <use style=\"stroke:#000000;stroke-width:0.8;\" x=\"33.2875\" xlink:href=\"#m086e67bf75\" y=\"173.728509\"/>\r\n      </g>\r\n     </g>\r\n     <g id=\"text_165\">\r\n      <!-- 155 -->\r\n      <g transform=\"translate(7.2 177.527728)scale(0.1 -0.1)\">\r\n       <use xlink:href=\"#DejaVuSans-49\"/>\r\n       <use x=\"63.623047\" xlink:href=\"#DejaVuSans-53\"/>\r\n       <use x=\"127.246094\" xlink:href=\"#DejaVuSans-53\"/>\r\n      </g>\r\n     </g>\r\n    </g>\r\n    <g id=\"ytick_157\">\r\n     <g id=\"line2d_166\">\r\n      <g>\r\n       <use style=\"stroke:#000000;stroke-width:0.8;\" x=\"33.2875\" xlink:href=\"#m086e67bf75\" y=\"173.377799\"/>\r\n      </g>\r\n     </g>\r\n     <g id=\"text_166\">\r\n      <!-- 156 -->\r\n      <g transform=\"translate(7.2 177.177018)scale(0.1 -0.1)\">\r\n       <use xlink:href=\"#DejaVuSans-49\"/>\r\n       <use x=\"63.623047\" xlink:href=\"#DejaVuSans-53\"/>\r\n       <use x=\"127.246094\" xlink:href=\"#DejaVuSans-54\"/>\r\n      </g>\r\n     </g>\r\n    </g>\r\n    <g id=\"ytick_158\">\r\n     <g id=\"line2d_167\">\r\n      <g>\r\n       <use style=\"stroke:#000000;stroke-width:0.8;\" x=\"33.2875\" xlink:href=\"#m086e67bf75\" y=\"173.02709\"/>\r\n      </g>\r\n     </g>\r\n     <g id=\"text_167\">\r\n      <!-- 157 -->\r\n      <g transform=\"translate(7.2 176.826308)scale(0.1 -0.1)\">\r\n       <use xlink:href=\"#DejaVuSans-49\"/>\r\n       <use x=\"63.623047\" xlink:href=\"#DejaVuSans-53\"/>\r\n       <use x=\"127.246094\" xlink:href=\"#DejaVuSans-55\"/>\r\n      </g>\r\n     </g>\r\n    </g>\r\n    <g id=\"ytick_159\">\r\n     <g id=\"line2d_168\">\r\n      <g>\r\n       <use style=\"stroke:#000000;stroke-width:0.8;\" x=\"33.2875\" xlink:href=\"#m086e67bf75\" y=\"172.67638\"/>\r\n      </g>\r\n     </g>\r\n     <g id=\"text_168\">\r\n      <!-- 158 -->\r\n      <g transform=\"translate(7.2 176.475599)scale(0.1 -0.1)\">\r\n       <use xlink:href=\"#DejaVuSans-49\"/>\r\n       <use x=\"63.623047\" xlink:href=\"#DejaVuSans-53\"/>\r\n       <use x=\"127.246094\" xlink:href=\"#DejaVuSans-56\"/>\r\n      </g>\r\n     </g>\r\n    </g>\r\n    <g id=\"ytick_160\">\r\n     <g id=\"line2d_169\">\r\n      <g>\r\n       <use style=\"stroke:#000000;stroke-width:0.8;\" x=\"33.2875\" xlink:href=\"#m086e67bf75\" y=\"172.32567\"/>\r\n      </g>\r\n     </g>\r\n     <g id=\"text_169\">\r\n      <!-- 159 -->\r\n      <g transform=\"translate(7.2 176.124889)scale(0.1 -0.1)\">\r\n       <use xlink:href=\"#DejaVuSans-49\"/>\r\n       <use x=\"63.623047\" xlink:href=\"#DejaVuSans-53\"/>\r\n       <use x=\"127.246094\" xlink:href=\"#DejaVuSans-57\"/>\r\n      </g>\r\n     </g>\r\n    </g>\r\n    <g id=\"ytick_161\">\r\n     <g id=\"line2d_170\">\r\n      <g>\r\n       <use style=\"stroke:#000000;stroke-width:0.8;\" x=\"33.2875\" xlink:href=\"#m086e67bf75\" y=\"171.974961\"/>\r\n      </g>\r\n     </g>\r\n     <g id=\"text_170\">\r\n      <!-- 160 -->\r\n      <g transform=\"translate(7.2 175.774179)scale(0.1 -0.1)\">\r\n       <use xlink:href=\"#DejaVuSans-49\"/>\r\n       <use x=\"63.623047\" xlink:href=\"#DejaVuSans-54\"/>\r\n       <use x=\"127.246094\" xlink:href=\"#DejaVuSans-48\"/>\r\n      </g>\r\n     </g>\r\n    </g>\r\n    <g id=\"ytick_162\">\r\n     <g id=\"line2d_171\">\r\n      <g>\r\n       <use style=\"stroke:#000000;stroke-width:0.8;\" x=\"33.2875\" xlink:href=\"#m086e67bf75\" y=\"171.624251\"/>\r\n      </g>\r\n     </g>\r\n     <g id=\"text_171\">\r\n      <!-- 161 -->\r\n      <g transform=\"translate(7.2 175.42347)scale(0.1 -0.1)\">\r\n       <use xlink:href=\"#DejaVuSans-49\"/>\r\n       <use x=\"63.623047\" xlink:href=\"#DejaVuSans-54\"/>\r\n       <use x=\"127.246094\" xlink:href=\"#DejaVuSans-49\"/>\r\n      </g>\r\n     </g>\r\n    </g>\r\n    <g id=\"ytick_163\">\r\n     <g id=\"line2d_172\">\r\n      <g>\r\n       <use style=\"stroke:#000000;stroke-width:0.8;\" x=\"33.2875\" xlink:href=\"#m086e67bf75\" y=\"171.273541\"/>\r\n      </g>\r\n     </g>\r\n     <g id=\"text_172\">\r\n      <!-- 162 -->\r\n      <g transform=\"translate(7.2 175.07276)scale(0.1 -0.1)\">\r\n       <use xlink:href=\"#DejaVuSans-49\"/>\r\n       <use x=\"63.623047\" xlink:href=\"#DejaVuSans-54\"/>\r\n       <use x=\"127.246094\" xlink:href=\"#DejaVuSans-50\"/>\r\n      </g>\r\n     </g>\r\n    </g>\r\n    <g id=\"ytick_164\">\r\n     <g id=\"line2d_173\">\r\n      <g>\r\n       <use style=\"stroke:#000000;stroke-width:0.8;\" x=\"33.2875\" xlink:href=\"#m086e67bf75\" y=\"170.922832\"/>\r\n      </g>\r\n     </g>\r\n     <g id=\"text_173\">\r\n      <!-- 163 -->\r\n      <g transform=\"translate(7.2 174.72205)scale(0.1 -0.1)\">\r\n       <use xlink:href=\"#DejaVuSans-49\"/>\r\n       <use x=\"63.623047\" xlink:href=\"#DejaVuSans-54\"/>\r\n       <use x=\"127.246094\" xlink:href=\"#DejaVuSans-51\"/>\r\n      </g>\r\n     </g>\r\n    </g>\r\n    <g id=\"ytick_165\">\r\n     <g id=\"line2d_174\">\r\n      <g>\r\n       <use style=\"stroke:#000000;stroke-width:0.8;\" x=\"33.2875\" xlink:href=\"#m086e67bf75\" y=\"170.572122\"/>\r\n      </g>\r\n     </g>\r\n     <g id=\"text_174\">\r\n      <!-- 164 -->\r\n      <g transform=\"translate(7.2 174.371341)scale(0.1 -0.1)\">\r\n       <use xlink:href=\"#DejaVuSans-49\"/>\r\n       <use x=\"63.623047\" xlink:href=\"#DejaVuSans-54\"/>\r\n       <use x=\"127.246094\" xlink:href=\"#DejaVuSans-52\"/>\r\n      </g>\r\n     </g>\r\n    </g>\r\n    <g id=\"ytick_166\">\r\n     <g id=\"line2d_175\">\r\n      <g>\r\n       <use style=\"stroke:#000000;stroke-width:0.8;\" x=\"33.2875\" xlink:href=\"#m086e67bf75\" y=\"170.221412\"/>\r\n      </g>\r\n     </g>\r\n     <g id=\"text_175\">\r\n      <!-- 165 -->\r\n      <g transform=\"translate(7.2 174.020631)scale(0.1 -0.1)\">\r\n       <use xlink:href=\"#DejaVuSans-49\"/>\r\n       <use x=\"63.623047\" xlink:href=\"#DejaVuSans-54\"/>\r\n       <use x=\"127.246094\" xlink:href=\"#DejaVuSans-53\"/>\r\n      </g>\r\n     </g>\r\n    </g>\r\n    <g id=\"ytick_167\">\r\n     <g id=\"line2d_176\">\r\n      <g>\r\n       <use style=\"stroke:#000000;stroke-width:0.8;\" x=\"33.2875\" xlink:href=\"#m086e67bf75\" y=\"169.870703\"/>\r\n      </g>\r\n     </g>\r\n     <g id=\"text_176\">\r\n      <!-- 166 -->\r\n      <g transform=\"translate(7.2 173.669921)scale(0.1 -0.1)\">\r\n       <use xlink:href=\"#DejaVuSans-49\"/>\r\n       <use x=\"63.623047\" xlink:href=\"#DejaVuSans-54\"/>\r\n       <use x=\"127.246094\" xlink:href=\"#DejaVuSans-54\"/>\r\n      </g>\r\n     </g>\r\n    </g>\r\n    <g id=\"ytick_168\">\r\n     <g id=\"line2d_177\">\r\n      <g>\r\n       <use style=\"stroke:#000000;stroke-width:0.8;\" x=\"33.2875\" xlink:href=\"#m086e67bf75\" y=\"169.519993\"/>\r\n      </g>\r\n     </g>\r\n     <g id=\"text_177\">\r\n      <!-- 167 -->\r\n      <g transform=\"translate(7.2 173.319212)scale(0.1 -0.1)\">\r\n       <use xlink:href=\"#DejaVuSans-49\"/>\r\n       <use x=\"63.623047\" xlink:href=\"#DejaVuSans-54\"/>\r\n       <use x=\"127.246094\" xlink:href=\"#DejaVuSans-55\"/>\r\n      </g>\r\n     </g>\r\n    </g>\r\n    <g id=\"ytick_169\">\r\n     <g id=\"line2d_178\">\r\n      <g>\r\n       <use style=\"stroke:#000000;stroke-width:0.8;\" x=\"33.2875\" xlink:href=\"#m086e67bf75\" y=\"169.169283\"/>\r\n      </g>\r\n     </g>\r\n     <g id=\"text_178\">\r\n      <!-- 168 -->\r\n      <g transform=\"translate(7.2 172.968502)scale(0.1 -0.1)\">\r\n       <use xlink:href=\"#DejaVuSans-49\"/>\r\n       <use x=\"63.623047\" xlink:href=\"#DejaVuSans-54\"/>\r\n       <use x=\"127.246094\" xlink:href=\"#DejaVuSans-56\"/>\r\n      </g>\r\n     </g>\r\n    </g>\r\n    <g id=\"ytick_170\">\r\n     <g id=\"line2d_179\">\r\n      <g>\r\n       <use style=\"stroke:#000000;stroke-width:0.8;\" x=\"33.2875\" xlink:href=\"#m086e67bf75\" y=\"168.818574\"/>\r\n      </g>\r\n     </g>\r\n     <g id=\"text_179\">\r\n      <!-- 169 -->\r\n      <g transform=\"translate(7.2 172.617792)scale(0.1 -0.1)\">\r\n       <use xlink:href=\"#DejaVuSans-49\"/>\r\n       <use x=\"63.623047\" xlink:href=\"#DejaVuSans-54\"/>\r\n       <use x=\"127.246094\" xlink:href=\"#DejaVuSans-57\"/>\r\n      </g>\r\n     </g>\r\n    </g>\r\n    <g id=\"ytick_171\">\r\n     <g id=\"line2d_180\">\r\n      <g>\r\n       <use style=\"stroke:#000000;stroke-width:0.8;\" x=\"33.2875\" xlink:href=\"#m086e67bf75\" y=\"168.467864\"/>\r\n      </g>\r\n     </g>\r\n     <g id=\"text_180\">\r\n      <!-- 170 -->\r\n      <g transform=\"translate(7.2 172.267083)scale(0.1 -0.1)\">\r\n       <use xlink:href=\"#DejaVuSans-49\"/>\r\n       <use x=\"63.623047\" xlink:href=\"#DejaVuSans-55\"/>\r\n       <use x=\"127.246094\" xlink:href=\"#DejaVuSans-48\"/>\r\n      </g>\r\n     </g>\r\n    </g>\r\n    <g id=\"ytick_172\">\r\n     <g id=\"line2d_181\">\r\n      <g>\r\n       <use style=\"stroke:#000000;stroke-width:0.8;\" x=\"33.2875\" xlink:href=\"#m086e67bf75\" y=\"168.117154\"/>\r\n      </g>\r\n     </g>\r\n     <g id=\"text_181\">\r\n      <!-- 171 -->\r\n      <g transform=\"translate(7.2 171.916373)scale(0.1 -0.1)\">\r\n       <use xlink:href=\"#DejaVuSans-49\"/>\r\n       <use x=\"63.623047\" xlink:href=\"#DejaVuSans-55\"/>\r\n       <use x=\"127.246094\" xlink:href=\"#DejaVuSans-49\"/>\r\n      </g>\r\n     </g>\r\n    </g>\r\n    <g id=\"ytick_173\">\r\n     <g id=\"line2d_182\">\r\n      <g>\r\n       <use style=\"stroke:#000000;stroke-width:0.8;\" x=\"33.2875\" xlink:href=\"#m086e67bf75\" y=\"167.766445\"/>\r\n      </g>\r\n     </g>\r\n     <g id=\"text_182\">\r\n      <!-- 172 -->\r\n      <g transform=\"translate(7.2 171.565663)scale(0.1 -0.1)\">\r\n       <use xlink:href=\"#DejaVuSans-49\"/>\r\n       <use x=\"63.623047\" xlink:href=\"#DejaVuSans-55\"/>\r\n       <use x=\"127.246094\" xlink:href=\"#DejaVuSans-50\"/>\r\n      </g>\r\n     </g>\r\n    </g>\r\n    <g id=\"ytick_174\">\r\n     <g id=\"line2d_183\">\r\n      <g>\r\n       <use style=\"stroke:#000000;stroke-width:0.8;\" x=\"33.2875\" xlink:href=\"#m086e67bf75\" y=\"167.415735\"/>\r\n      </g>\r\n     </g>\r\n     <g id=\"text_183\">\r\n      <!-- 173 -->\r\n      <g transform=\"translate(7.2 171.214954)scale(0.1 -0.1)\">\r\n       <use xlink:href=\"#DejaVuSans-49\"/>\r\n       <use x=\"63.623047\" xlink:href=\"#DejaVuSans-55\"/>\r\n       <use x=\"127.246094\" xlink:href=\"#DejaVuSans-51\"/>\r\n      </g>\r\n     </g>\r\n    </g>\r\n    <g id=\"ytick_175\">\r\n     <g id=\"line2d_184\">\r\n      <g>\r\n       <use style=\"stroke:#000000;stroke-width:0.8;\" x=\"33.2875\" xlink:href=\"#m086e67bf75\" y=\"167.065025\"/>\r\n      </g>\r\n     </g>\r\n     <g id=\"text_184\">\r\n      <!-- 174 -->\r\n      <g transform=\"translate(7.2 170.864244)scale(0.1 -0.1)\">\r\n       <use xlink:href=\"#DejaVuSans-49\"/>\r\n       <use x=\"63.623047\" xlink:href=\"#DejaVuSans-55\"/>\r\n       <use x=\"127.246094\" xlink:href=\"#DejaVuSans-52\"/>\r\n      </g>\r\n     </g>\r\n    </g>\r\n    <g id=\"ytick_176\">\r\n     <g id=\"line2d_185\">\r\n      <g>\r\n       <use style=\"stroke:#000000;stroke-width:0.8;\" x=\"33.2875\" xlink:href=\"#m086e67bf75\" y=\"166.714316\"/>\r\n      </g>\r\n     </g>\r\n     <g id=\"text_185\">\r\n      <!-- 175 -->\r\n      <g transform=\"translate(7.2 170.513534)scale(0.1 -0.1)\">\r\n       <use xlink:href=\"#DejaVuSans-49\"/>\r\n       <use x=\"63.623047\" xlink:href=\"#DejaVuSans-55\"/>\r\n       <use x=\"127.246094\" xlink:href=\"#DejaVuSans-53\"/>\r\n      </g>\r\n     </g>\r\n    </g>\r\n    <g id=\"ytick_177\">\r\n     <g id=\"line2d_186\">\r\n      <g>\r\n       <use style=\"stroke:#000000;stroke-width:0.8;\" x=\"33.2875\" xlink:href=\"#m086e67bf75\" y=\"166.363606\"/>\r\n      </g>\r\n     </g>\r\n     <g id=\"text_186\">\r\n      <!-- 176 -->\r\n      <g transform=\"translate(7.2 170.162825)scale(0.1 -0.1)\">\r\n       <use xlink:href=\"#DejaVuSans-49\"/>\r\n       <use x=\"63.623047\" xlink:href=\"#DejaVuSans-55\"/>\r\n       <use x=\"127.246094\" xlink:href=\"#DejaVuSans-54\"/>\r\n      </g>\r\n     </g>\r\n    </g>\r\n    <g id=\"ytick_178\">\r\n     <g id=\"line2d_187\">\r\n      <g>\r\n       <use style=\"stroke:#000000;stroke-width:0.8;\" x=\"33.2875\" xlink:href=\"#m086e67bf75\" y=\"166.012896\"/>\r\n      </g>\r\n     </g>\r\n     <g id=\"text_187\">\r\n      <!-- 177 -->\r\n      <g transform=\"translate(7.2 169.812115)scale(0.1 -0.1)\">\r\n       <use xlink:href=\"#DejaVuSans-49\"/>\r\n       <use x=\"63.623047\" xlink:href=\"#DejaVuSans-55\"/>\r\n       <use x=\"127.246094\" xlink:href=\"#DejaVuSans-55\"/>\r\n      </g>\r\n     </g>\r\n    </g>\r\n    <g id=\"ytick_179\">\r\n     <g id=\"line2d_188\">\r\n      <g>\r\n       <use style=\"stroke:#000000;stroke-width:0.8;\" x=\"33.2875\" xlink:href=\"#m086e67bf75\" y=\"165.662186\"/>\r\n      </g>\r\n     </g>\r\n     <g id=\"text_188\">\r\n      <!-- 178 -->\r\n      <g transform=\"translate(7.2 169.461405)scale(0.1 -0.1)\">\r\n       <use xlink:href=\"#DejaVuSans-49\"/>\r\n       <use x=\"63.623047\" xlink:href=\"#DejaVuSans-55\"/>\r\n       <use x=\"127.246094\" xlink:href=\"#DejaVuSans-56\"/>\r\n      </g>\r\n     </g>\r\n    </g>\r\n    <g id=\"ytick_180\">\r\n     <g id=\"line2d_189\">\r\n      <g>\r\n       <use style=\"stroke:#000000;stroke-width:0.8;\" x=\"33.2875\" xlink:href=\"#m086e67bf75\" y=\"165.311477\"/>\r\n      </g>\r\n     </g>\r\n     <g id=\"text_189\">\r\n      <!-- 179 -->\r\n      <g transform=\"translate(7.2 169.110696)scale(0.1 -0.1)\">\r\n       <use xlink:href=\"#DejaVuSans-49\"/>\r\n       <use x=\"63.623047\" xlink:href=\"#DejaVuSans-55\"/>\r\n       <use x=\"127.246094\" xlink:href=\"#DejaVuSans-57\"/>\r\n      </g>\r\n     </g>\r\n    </g>\r\n    <g id=\"ytick_181\">\r\n     <g id=\"line2d_190\">\r\n      <g>\r\n       <use style=\"stroke:#000000;stroke-width:0.8;\" x=\"33.2875\" xlink:href=\"#m086e67bf75\" y=\"164.960767\"/>\r\n      </g>\r\n     </g>\r\n     <g id=\"text_190\">\r\n      <!-- 180 -->\r\n      <g transform=\"translate(7.2 168.759986)scale(0.1 -0.1)\">\r\n       <use xlink:href=\"#DejaVuSans-49\"/>\r\n       <use x=\"63.623047\" xlink:href=\"#DejaVuSans-56\"/>\r\n       <use x=\"127.246094\" xlink:href=\"#DejaVuSans-48\"/>\r\n      </g>\r\n     </g>\r\n    </g>\r\n    <g id=\"ytick_182\">\r\n     <g id=\"line2d_191\">\r\n      <g>\r\n       <use style=\"stroke:#000000;stroke-width:0.8;\" x=\"33.2875\" xlink:href=\"#m086e67bf75\" y=\"164.610057\"/>\r\n      </g>\r\n     </g>\r\n     <g id=\"text_191\">\r\n      <!-- 181 -->\r\n      <g transform=\"translate(7.2 168.409276)scale(0.1 -0.1)\">\r\n       <use xlink:href=\"#DejaVuSans-49\"/>\r\n       <use x=\"63.623047\" xlink:href=\"#DejaVuSans-56\"/>\r\n       <use x=\"127.246094\" xlink:href=\"#DejaVuSans-49\"/>\r\n      </g>\r\n     </g>\r\n    </g>\r\n    <g id=\"ytick_183\">\r\n     <g id=\"line2d_192\">\r\n      <g>\r\n       <use style=\"stroke:#000000;stroke-width:0.8;\" x=\"33.2875\" xlink:href=\"#m086e67bf75\" y=\"164.259348\"/>\r\n      </g>\r\n     </g>\r\n     <g id=\"text_192\">\r\n      <!-- 182 -->\r\n      <g transform=\"translate(7.2 168.058567)scale(0.1 -0.1)\">\r\n       <use xlink:href=\"#DejaVuSans-49\"/>\r\n       <use x=\"63.623047\" xlink:href=\"#DejaVuSans-56\"/>\r\n       <use x=\"127.246094\" xlink:href=\"#DejaVuSans-50\"/>\r\n      </g>\r\n     </g>\r\n    </g>\r\n    <g id=\"ytick_184\">\r\n     <g id=\"line2d_193\">\r\n      <g>\r\n       <use style=\"stroke:#000000;stroke-width:0.8;\" x=\"33.2875\" xlink:href=\"#m086e67bf75\" y=\"163.908638\"/>\r\n      </g>\r\n     </g>\r\n     <g id=\"text_193\">\r\n      <!-- 183 -->\r\n      <g transform=\"translate(7.2 167.707857)scale(0.1 -0.1)\">\r\n       <use xlink:href=\"#DejaVuSans-49\"/>\r\n       <use x=\"63.623047\" xlink:href=\"#DejaVuSans-56\"/>\r\n       <use x=\"127.246094\" xlink:href=\"#DejaVuSans-51\"/>\r\n      </g>\r\n     </g>\r\n    </g>\r\n    <g id=\"ytick_185\">\r\n     <g id=\"line2d_194\">\r\n      <g>\r\n       <use style=\"stroke:#000000;stroke-width:0.8;\" x=\"33.2875\" xlink:href=\"#m086e67bf75\" y=\"163.557928\"/>\r\n      </g>\r\n     </g>\r\n     <g id=\"text_194\">\r\n      <!-- 184 -->\r\n      <g transform=\"translate(7.2 167.357147)scale(0.1 -0.1)\">\r\n       <use xlink:href=\"#DejaVuSans-49\"/>\r\n       <use x=\"63.623047\" xlink:href=\"#DejaVuSans-56\"/>\r\n       <use x=\"127.246094\" xlink:href=\"#DejaVuSans-52\"/>\r\n      </g>\r\n     </g>\r\n    </g>\r\n    <g id=\"ytick_186\">\r\n     <g id=\"line2d_195\">\r\n      <g>\r\n       <use style=\"stroke:#000000;stroke-width:0.8;\" x=\"33.2875\" xlink:href=\"#m086e67bf75\" y=\"163.207219\"/>\r\n      </g>\r\n     </g>\r\n     <g id=\"text_195\">\r\n      <!-- 185 -->\r\n      <g transform=\"translate(7.2 167.006438)scale(0.1 -0.1)\">\r\n       <use xlink:href=\"#DejaVuSans-49\"/>\r\n       <use x=\"63.623047\" xlink:href=\"#DejaVuSans-56\"/>\r\n       <use x=\"127.246094\" xlink:href=\"#DejaVuSans-53\"/>\r\n      </g>\r\n     </g>\r\n    </g>\r\n    <g id=\"ytick_187\">\r\n     <g id=\"line2d_196\">\r\n      <g>\r\n       <use style=\"stroke:#000000;stroke-width:0.8;\" x=\"33.2875\" xlink:href=\"#m086e67bf75\" y=\"162.856509\"/>\r\n      </g>\r\n     </g>\r\n     <g id=\"text_196\">\r\n      <!-- 186 -->\r\n      <g transform=\"translate(7.2 166.655728)scale(0.1 -0.1)\">\r\n       <use xlink:href=\"#DejaVuSans-49\"/>\r\n       <use x=\"63.623047\" xlink:href=\"#DejaVuSans-56\"/>\r\n       <use x=\"127.246094\" xlink:href=\"#DejaVuSans-54\"/>\r\n      </g>\r\n     </g>\r\n    </g>\r\n    <g id=\"ytick_188\">\r\n     <g id=\"line2d_197\">\r\n      <g>\r\n       <use style=\"stroke:#000000;stroke-width:0.8;\" x=\"33.2875\" xlink:href=\"#m086e67bf75\" y=\"162.505799\"/>\r\n      </g>\r\n     </g>\r\n     <g id=\"text_197\">\r\n      <!-- 187 -->\r\n      <g transform=\"translate(7.2 166.305018)scale(0.1 -0.1)\">\r\n       <use xlink:href=\"#DejaVuSans-49\"/>\r\n       <use x=\"63.623047\" xlink:href=\"#DejaVuSans-56\"/>\r\n       <use x=\"127.246094\" xlink:href=\"#DejaVuSans-55\"/>\r\n      </g>\r\n     </g>\r\n    </g>\r\n    <g id=\"ytick_189\">\r\n     <g id=\"line2d_198\">\r\n      <g>\r\n       <use style=\"stroke:#000000;stroke-width:0.8;\" x=\"33.2875\" xlink:href=\"#m086e67bf75\" y=\"162.15509\"/>\r\n      </g>\r\n     </g>\r\n     <g id=\"text_198\">\r\n      <!-- 188 -->\r\n      <g transform=\"translate(7.2 165.954308)scale(0.1 -0.1)\">\r\n       <use xlink:href=\"#DejaVuSans-49\"/>\r\n       <use x=\"63.623047\" xlink:href=\"#DejaVuSans-56\"/>\r\n       <use x=\"127.246094\" xlink:href=\"#DejaVuSans-56\"/>\r\n      </g>\r\n     </g>\r\n    </g>\r\n    <g id=\"ytick_190\">\r\n     <g id=\"line2d_199\">\r\n      <g>\r\n       <use style=\"stroke:#000000;stroke-width:0.8;\" x=\"33.2875\" xlink:href=\"#m086e67bf75\" y=\"161.80438\"/>\r\n      </g>\r\n     </g>\r\n     <g id=\"text_199\">\r\n      <!-- 189 -->\r\n      <g transform=\"translate(7.2 165.603599)scale(0.1 -0.1)\">\r\n       <use xlink:href=\"#DejaVuSans-49\"/>\r\n       <use x=\"63.623047\" xlink:href=\"#DejaVuSans-56\"/>\r\n       <use x=\"127.246094\" xlink:href=\"#DejaVuSans-57\"/>\r\n      </g>\r\n     </g>\r\n    </g>\r\n    <g id=\"ytick_191\">\r\n     <g id=\"line2d_200\">\r\n      <g>\r\n       <use style=\"stroke:#000000;stroke-width:0.8;\" x=\"33.2875\" xlink:href=\"#m086e67bf75\" y=\"161.45367\"/>\r\n      </g>\r\n     </g>\r\n     <g id=\"text_200\">\r\n      <!-- 190 -->\r\n      <g transform=\"translate(7.2 165.252889)scale(0.1 -0.1)\">\r\n       <use xlink:href=\"#DejaVuSans-49\"/>\r\n       <use x=\"63.623047\" xlink:href=\"#DejaVuSans-57\"/>\r\n       <use x=\"127.246094\" xlink:href=\"#DejaVuSans-48\"/>\r\n      </g>\r\n     </g>\r\n    </g>\r\n    <g id=\"ytick_192\">\r\n     <g id=\"line2d_201\">\r\n      <g>\r\n       <use style=\"stroke:#000000;stroke-width:0.8;\" x=\"33.2875\" xlink:href=\"#m086e67bf75\" y=\"161.102961\"/>\r\n      </g>\r\n     </g>\r\n     <g id=\"text_201\">\r\n      <!-- 191 -->\r\n      <g transform=\"translate(7.2 164.902179)scale(0.1 -0.1)\">\r\n       <use xlink:href=\"#DejaVuSans-49\"/>\r\n       <use x=\"63.623047\" xlink:href=\"#DejaVuSans-57\"/>\r\n       <use x=\"127.246094\" xlink:href=\"#DejaVuSans-49\"/>\r\n      </g>\r\n     </g>\r\n    </g>\r\n    <g id=\"ytick_193\">\r\n     <g id=\"line2d_202\">\r\n      <g>\r\n       <use style=\"stroke:#000000;stroke-width:0.8;\" x=\"33.2875\" xlink:href=\"#m086e67bf75\" y=\"160.752251\"/>\r\n      </g>\r\n     </g>\r\n     <g id=\"text_202\">\r\n      <!-- 192 -->\r\n      <g transform=\"translate(7.2 164.55147)scale(0.1 -0.1)\">\r\n       <use xlink:href=\"#DejaVuSans-49\"/>\r\n       <use x=\"63.623047\" xlink:href=\"#DejaVuSans-57\"/>\r\n       <use x=\"127.246094\" xlink:href=\"#DejaVuSans-50\"/>\r\n      </g>\r\n     </g>\r\n    </g>\r\n    <g id=\"ytick_194\">\r\n     <g id=\"line2d_203\">\r\n      <g>\r\n       <use style=\"stroke:#000000;stroke-width:0.8;\" x=\"33.2875\" xlink:href=\"#m086e67bf75\" y=\"160.401541\"/>\r\n      </g>\r\n     </g>\r\n     <g id=\"text_203\">\r\n      <!-- 193 -->\r\n      <g transform=\"translate(7.2 164.20076)scale(0.1 -0.1)\">\r\n       <use xlink:href=\"#DejaVuSans-49\"/>\r\n       <use x=\"63.623047\" xlink:href=\"#DejaVuSans-57\"/>\r\n       <use x=\"127.246094\" xlink:href=\"#DejaVuSans-51\"/>\r\n      </g>\r\n     </g>\r\n    </g>\r\n    <g id=\"ytick_195\">\r\n     <g id=\"line2d_204\">\r\n      <g>\r\n       <use style=\"stroke:#000000;stroke-width:0.8;\" x=\"33.2875\" xlink:href=\"#m086e67bf75\" y=\"160.050832\"/>\r\n      </g>\r\n     </g>\r\n     <g id=\"text_204\">\r\n      <!-- 194 -->\r\n      <g transform=\"translate(7.2 163.85005)scale(0.1 -0.1)\">\r\n       <use xlink:href=\"#DejaVuSans-49\"/>\r\n       <use x=\"63.623047\" xlink:href=\"#DejaVuSans-57\"/>\r\n       <use x=\"127.246094\" xlink:href=\"#DejaVuSans-52\"/>\r\n      </g>\r\n     </g>\r\n    </g>\r\n    <g id=\"ytick_196\">\r\n     <g id=\"line2d_205\">\r\n      <g>\r\n       <use style=\"stroke:#000000;stroke-width:0.8;\" x=\"33.2875\" xlink:href=\"#m086e67bf75\" y=\"159.700122\"/>\r\n      </g>\r\n     </g>\r\n     <g id=\"text_205\">\r\n      <!-- 195 -->\r\n      <g transform=\"translate(7.2 163.499341)scale(0.1 -0.1)\">\r\n       <use xlink:href=\"#DejaVuSans-49\"/>\r\n       <use x=\"63.623047\" xlink:href=\"#DejaVuSans-57\"/>\r\n       <use x=\"127.246094\" xlink:href=\"#DejaVuSans-53\"/>\r\n      </g>\r\n     </g>\r\n    </g>\r\n    <g id=\"ytick_197\">\r\n     <g id=\"line2d_206\">\r\n      <g>\r\n       <use style=\"stroke:#000000;stroke-width:0.8;\" x=\"33.2875\" xlink:href=\"#m086e67bf75\" y=\"159.349412\"/>\r\n      </g>\r\n     </g>\r\n     <g id=\"text_206\">\r\n      <!-- 196 -->\r\n      <g transform=\"translate(7.2 163.148631)scale(0.1 -0.1)\">\r\n       <use xlink:href=\"#DejaVuSans-49\"/>\r\n       <use x=\"63.623047\" xlink:href=\"#DejaVuSans-57\"/>\r\n       <use x=\"127.246094\" xlink:href=\"#DejaVuSans-54\"/>\r\n      </g>\r\n     </g>\r\n    </g>\r\n    <g id=\"ytick_198\">\r\n     <g id=\"line2d_207\">\r\n      <g>\r\n       <use style=\"stroke:#000000;stroke-width:0.8;\" x=\"33.2875\" xlink:href=\"#m086e67bf75\" y=\"158.998703\"/>\r\n      </g>\r\n     </g>\r\n     <g id=\"text_207\">\r\n      <!-- 197 -->\r\n      <g transform=\"translate(7.2 162.797921)scale(0.1 -0.1)\">\r\n       <use xlink:href=\"#DejaVuSans-49\"/>\r\n       <use x=\"63.623047\" xlink:href=\"#DejaVuSans-57\"/>\r\n       <use x=\"127.246094\" xlink:href=\"#DejaVuSans-55\"/>\r\n      </g>\r\n     </g>\r\n    </g>\r\n    <g id=\"ytick_199\">\r\n     <g id=\"line2d_208\">\r\n      <g>\r\n       <use style=\"stroke:#000000;stroke-width:0.8;\" x=\"33.2875\" xlink:href=\"#m086e67bf75\" y=\"158.647993\"/>\r\n      </g>\r\n     </g>\r\n     <g id=\"text_208\">\r\n      <!-- 198 -->\r\n      <g transform=\"translate(7.2 162.447212)scale(0.1 -0.1)\">\r\n       <use xlink:href=\"#DejaVuSans-49\"/>\r\n       <use x=\"63.623047\" xlink:href=\"#DejaVuSans-57\"/>\r\n       <use x=\"127.246094\" xlink:href=\"#DejaVuSans-56\"/>\r\n      </g>\r\n     </g>\r\n    </g>\r\n    <g id=\"ytick_200\">\r\n     <g id=\"line2d_209\">\r\n      <g>\r\n       <use style=\"stroke:#000000;stroke-width:0.8;\" x=\"33.2875\" xlink:href=\"#m086e67bf75\" y=\"158.297283\"/>\r\n      </g>\r\n     </g>\r\n     <g id=\"text_209\">\r\n      <!-- 199 -->\r\n      <g transform=\"translate(7.2 162.096502)scale(0.1 -0.1)\">\r\n       <use xlink:href=\"#DejaVuSans-49\"/>\r\n       <use x=\"63.623047\" xlink:href=\"#DejaVuSans-57\"/>\r\n       <use x=\"127.246094\" xlink:href=\"#DejaVuSans-57\"/>\r\n      </g>\r\n     </g>\r\n    </g>\r\n    <g id=\"ytick_201\">\r\n     <g id=\"line2d_210\">\r\n      <g>\r\n       <use style=\"stroke:#000000;stroke-width:0.8;\" x=\"33.2875\" xlink:href=\"#m086e67bf75\" y=\"157.946574\"/>\r\n      </g>\r\n     </g>\r\n     <g id=\"text_210\">\r\n      <!-- 200 -->\r\n      <g transform=\"translate(7.2 161.745792)scale(0.1 -0.1)\">\r\n       <use xlink:href=\"#DejaVuSans-50\"/>\r\n       <use x=\"63.623047\" xlink:href=\"#DejaVuSans-48\"/>\r\n       <use x=\"127.246094\" xlink:href=\"#DejaVuSans-48\"/>\r\n      </g>\r\n     </g>\r\n    </g>\r\n    <g id=\"ytick_202\">\r\n     <g id=\"line2d_211\">\r\n      <g>\r\n       <use style=\"stroke:#000000;stroke-width:0.8;\" x=\"33.2875\" xlink:href=\"#m086e67bf75\" y=\"157.595864\"/>\r\n      </g>\r\n     </g>\r\n     <g id=\"text_211\">\r\n      <!-- 201 -->\r\n      <g transform=\"translate(7.2 161.395083)scale(0.1 -0.1)\">\r\n       <use xlink:href=\"#DejaVuSans-50\"/>\r\n       <use x=\"63.623047\" xlink:href=\"#DejaVuSans-48\"/>\r\n       <use x=\"127.246094\" xlink:href=\"#DejaVuSans-49\"/>\r\n      </g>\r\n     </g>\r\n    </g>\r\n    <g id=\"ytick_203\">\r\n     <g id=\"line2d_212\">\r\n      <g>\r\n       <use style=\"stroke:#000000;stroke-width:0.8;\" x=\"33.2875\" xlink:href=\"#m086e67bf75\" y=\"157.245154\"/>\r\n      </g>\r\n     </g>\r\n     <g id=\"text_212\">\r\n      <!-- 202 -->\r\n      <g transform=\"translate(7.2 161.044373)scale(0.1 -0.1)\">\r\n       <use xlink:href=\"#DejaVuSans-50\"/>\r\n       <use x=\"63.623047\" xlink:href=\"#DejaVuSans-48\"/>\r\n       <use x=\"127.246094\" xlink:href=\"#DejaVuSans-50\"/>\r\n      </g>\r\n     </g>\r\n    </g>\r\n    <g id=\"ytick_204\">\r\n     <g id=\"line2d_213\">\r\n      <g>\r\n       <use style=\"stroke:#000000;stroke-width:0.8;\" x=\"33.2875\" xlink:href=\"#m086e67bf75\" y=\"156.894445\"/>\r\n      </g>\r\n     </g>\r\n     <g id=\"text_213\">\r\n      <!-- 203 -->\r\n      <g transform=\"translate(7.2 160.693663)scale(0.1 -0.1)\">\r\n       <use xlink:href=\"#DejaVuSans-50\"/>\r\n       <use x=\"63.623047\" xlink:href=\"#DejaVuSans-48\"/>\r\n       <use x=\"127.246094\" xlink:href=\"#DejaVuSans-51\"/>\r\n      </g>\r\n     </g>\r\n    </g>\r\n    <g id=\"ytick_205\">\r\n     <g id=\"line2d_214\">\r\n      <g>\r\n       <use style=\"stroke:#000000;stroke-width:0.8;\" x=\"33.2875\" xlink:href=\"#m086e67bf75\" y=\"156.543735\"/>\r\n      </g>\r\n     </g>\r\n     <g id=\"text_214\">\r\n      <!-- 204 -->\r\n      <g transform=\"translate(7.2 160.342954)scale(0.1 -0.1)\">\r\n       <use xlink:href=\"#DejaVuSans-50\"/>\r\n       <use x=\"63.623047\" xlink:href=\"#DejaVuSans-48\"/>\r\n       <use x=\"127.246094\" xlink:href=\"#DejaVuSans-52\"/>\r\n      </g>\r\n     </g>\r\n    </g>\r\n    <g id=\"ytick_206\">\r\n     <g id=\"line2d_215\">\r\n      <g>\r\n       <use style=\"stroke:#000000;stroke-width:0.8;\" x=\"33.2875\" xlink:href=\"#m086e67bf75\" y=\"156.193025\"/>\r\n      </g>\r\n     </g>\r\n     <g id=\"text_215\">\r\n      <!-- 205 -->\r\n      <g transform=\"translate(7.2 159.992244)scale(0.1 -0.1)\">\r\n       <use xlink:href=\"#DejaVuSans-50\"/>\r\n       <use x=\"63.623047\" xlink:href=\"#DejaVuSans-48\"/>\r\n       <use x=\"127.246094\" xlink:href=\"#DejaVuSans-53\"/>\r\n      </g>\r\n     </g>\r\n    </g>\r\n    <g id=\"ytick_207\">\r\n     <g id=\"line2d_216\">\r\n      <g>\r\n       <use style=\"stroke:#000000;stroke-width:0.8;\" x=\"33.2875\" xlink:href=\"#m086e67bf75\" y=\"155.842316\"/>\r\n      </g>\r\n     </g>\r\n     <g id=\"text_216\">\r\n      <!-- 206 -->\r\n      <g transform=\"translate(7.2 159.641534)scale(0.1 -0.1)\">\r\n       <use xlink:href=\"#DejaVuSans-50\"/>\r\n       <use x=\"63.623047\" xlink:href=\"#DejaVuSans-48\"/>\r\n       <use x=\"127.246094\" xlink:href=\"#DejaVuSans-54\"/>\r\n      </g>\r\n     </g>\r\n    </g>\r\n    <g id=\"ytick_208\">\r\n     <g id=\"line2d_217\">\r\n      <g>\r\n       <use style=\"stroke:#000000;stroke-width:0.8;\" x=\"33.2875\" xlink:href=\"#m086e67bf75\" y=\"155.491606\"/>\r\n      </g>\r\n     </g>\r\n     <g id=\"text_217\">\r\n      <!-- 207 -->\r\n      <g transform=\"translate(7.2 159.290825)scale(0.1 -0.1)\">\r\n       <use xlink:href=\"#DejaVuSans-50\"/>\r\n       <use x=\"63.623047\" xlink:href=\"#DejaVuSans-48\"/>\r\n       <use x=\"127.246094\" xlink:href=\"#DejaVuSans-55\"/>\r\n      </g>\r\n     </g>\r\n    </g>\r\n    <g id=\"ytick_209\">\r\n     <g id=\"line2d_218\">\r\n      <g>\r\n       <use style=\"stroke:#000000;stroke-width:0.8;\" x=\"33.2875\" xlink:href=\"#m086e67bf75\" y=\"155.140896\"/>\r\n      </g>\r\n     </g>\r\n     <g id=\"text_218\">\r\n      <!-- 208 -->\r\n      <g transform=\"translate(7.2 158.940115)scale(0.1 -0.1)\">\r\n       <use xlink:href=\"#DejaVuSans-50\"/>\r\n       <use x=\"63.623047\" xlink:href=\"#DejaVuSans-48\"/>\r\n       <use x=\"127.246094\" xlink:href=\"#DejaVuSans-56\"/>\r\n      </g>\r\n     </g>\r\n    </g>\r\n    <g id=\"ytick_210\">\r\n     <g id=\"line2d_219\">\r\n      <g>\r\n       <use style=\"stroke:#000000;stroke-width:0.8;\" x=\"33.2875\" xlink:href=\"#m086e67bf75\" y=\"154.790186\"/>\r\n      </g>\r\n     </g>\r\n     <g id=\"text_219\">\r\n      <!-- 209 -->\r\n      <g transform=\"translate(7.2 158.589405)scale(0.1 -0.1)\">\r\n       <use xlink:href=\"#DejaVuSans-50\"/>\r\n       <use x=\"63.623047\" xlink:href=\"#DejaVuSans-48\"/>\r\n       <use x=\"127.246094\" xlink:href=\"#DejaVuSans-57\"/>\r\n      </g>\r\n     </g>\r\n    </g>\r\n    <g id=\"ytick_211\">\r\n     <g id=\"line2d_220\">\r\n      <g>\r\n       <use style=\"stroke:#000000;stroke-width:0.8;\" x=\"33.2875\" xlink:href=\"#m086e67bf75\" y=\"154.439477\"/>\r\n      </g>\r\n     </g>\r\n     <g id=\"text_220\">\r\n      <!-- 210 -->\r\n      <g transform=\"translate(7.2 158.238696)scale(0.1 -0.1)\">\r\n       <use xlink:href=\"#DejaVuSans-50\"/>\r\n       <use x=\"63.623047\" xlink:href=\"#DejaVuSans-49\"/>\r\n       <use x=\"127.246094\" xlink:href=\"#DejaVuSans-48\"/>\r\n      </g>\r\n     </g>\r\n    </g>\r\n    <g id=\"ytick_212\">\r\n     <g id=\"line2d_221\">\r\n      <g>\r\n       <use style=\"stroke:#000000;stroke-width:0.8;\" x=\"33.2875\" xlink:href=\"#m086e67bf75\" y=\"154.088767\"/>\r\n      </g>\r\n     </g>\r\n     <g id=\"text_221\">\r\n      <!-- 211 -->\r\n      <g transform=\"translate(7.2 157.887986)scale(0.1 -0.1)\">\r\n       <use xlink:href=\"#DejaVuSans-50\"/>\r\n       <use x=\"63.623047\" xlink:href=\"#DejaVuSans-49\"/>\r\n       <use x=\"127.246094\" xlink:href=\"#DejaVuSans-49\"/>\r\n      </g>\r\n     </g>\r\n    </g>\r\n    <g id=\"ytick_213\">\r\n     <g id=\"line2d_222\">\r\n      <g>\r\n       <use style=\"stroke:#000000;stroke-width:0.8;\" x=\"33.2875\" xlink:href=\"#m086e67bf75\" y=\"153.738057\"/>\r\n      </g>\r\n     </g>\r\n     <g id=\"text_222\">\r\n      <!-- 212 -->\r\n      <g transform=\"translate(7.2 157.537276)scale(0.1 -0.1)\">\r\n       <use xlink:href=\"#DejaVuSans-50\"/>\r\n       <use x=\"63.623047\" xlink:href=\"#DejaVuSans-49\"/>\r\n       <use x=\"127.246094\" xlink:href=\"#DejaVuSans-50\"/>\r\n      </g>\r\n     </g>\r\n    </g>\r\n    <g id=\"ytick_214\">\r\n     <g id=\"line2d_223\">\r\n      <g>\r\n       <use style=\"stroke:#000000;stroke-width:0.8;\" x=\"33.2875\" xlink:href=\"#m086e67bf75\" y=\"153.387348\"/>\r\n      </g>\r\n     </g>\r\n     <g id=\"text_223\">\r\n      <!-- 213 -->\r\n      <g transform=\"translate(7.2 157.186567)scale(0.1 -0.1)\">\r\n       <use xlink:href=\"#DejaVuSans-50\"/>\r\n       <use x=\"63.623047\" xlink:href=\"#DejaVuSans-49\"/>\r\n       <use x=\"127.246094\" xlink:href=\"#DejaVuSans-51\"/>\r\n      </g>\r\n     </g>\r\n    </g>\r\n    <g id=\"ytick_215\">\r\n     <g id=\"line2d_224\">\r\n      <g>\r\n       <use style=\"stroke:#000000;stroke-width:0.8;\" x=\"33.2875\" xlink:href=\"#m086e67bf75\" y=\"153.036638\"/>\r\n      </g>\r\n     </g>\r\n     <g id=\"text_224\">\r\n      <!-- 214 -->\r\n      <g transform=\"translate(7.2 156.835857)scale(0.1 -0.1)\">\r\n       <use xlink:href=\"#DejaVuSans-50\"/>\r\n       <use x=\"63.623047\" xlink:href=\"#DejaVuSans-49\"/>\r\n       <use x=\"127.246094\" xlink:href=\"#DejaVuSans-52\"/>\r\n      </g>\r\n     </g>\r\n    </g>\r\n    <g id=\"ytick_216\">\r\n     <g id=\"line2d_225\">\r\n      <g>\r\n       <use style=\"stroke:#000000;stroke-width:0.8;\" x=\"33.2875\" xlink:href=\"#m086e67bf75\" y=\"152.685928\"/>\r\n      </g>\r\n     </g>\r\n     <g id=\"text_225\">\r\n      <!-- 215 -->\r\n      <g transform=\"translate(7.2 156.485147)scale(0.1 -0.1)\">\r\n       <use xlink:href=\"#DejaVuSans-50\"/>\r\n       <use x=\"63.623047\" xlink:href=\"#DejaVuSans-49\"/>\r\n       <use x=\"127.246094\" xlink:href=\"#DejaVuSans-53\"/>\r\n      </g>\r\n     </g>\r\n    </g>\r\n    <g id=\"ytick_217\">\r\n     <g id=\"line2d_226\">\r\n      <g>\r\n       <use style=\"stroke:#000000;stroke-width:0.8;\" x=\"33.2875\" xlink:href=\"#m086e67bf75\" y=\"152.335219\"/>\r\n      </g>\r\n     </g>\r\n     <g id=\"text_226\">\r\n      <!-- 216 -->\r\n      <g transform=\"translate(7.2 156.134438)scale(0.1 -0.1)\">\r\n       <use xlink:href=\"#DejaVuSans-50\"/>\r\n       <use x=\"63.623047\" xlink:href=\"#DejaVuSans-49\"/>\r\n       <use x=\"127.246094\" xlink:href=\"#DejaVuSans-54\"/>\r\n      </g>\r\n     </g>\r\n    </g>\r\n    <g id=\"ytick_218\">\r\n     <g id=\"line2d_227\">\r\n      <g>\r\n       <use style=\"stroke:#000000;stroke-width:0.8;\" x=\"33.2875\" xlink:href=\"#m086e67bf75\" y=\"151.984509\"/>\r\n      </g>\r\n     </g>\r\n     <g id=\"text_227\">\r\n      <!-- 217 -->\r\n      <g transform=\"translate(7.2 155.783728)scale(0.1 -0.1)\">\r\n       <use xlink:href=\"#DejaVuSans-50\"/>\r\n       <use x=\"63.623047\" xlink:href=\"#DejaVuSans-49\"/>\r\n       <use x=\"127.246094\" xlink:href=\"#DejaVuSans-55\"/>\r\n      </g>\r\n     </g>\r\n    </g>\r\n    <g id=\"ytick_219\">\r\n     <g id=\"line2d_228\">\r\n      <g>\r\n       <use style=\"stroke:#000000;stroke-width:0.8;\" x=\"33.2875\" xlink:href=\"#m086e67bf75\" y=\"151.633799\"/>\r\n      </g>\r\n     </g>\r\n     <g id=\"text_228\">\r\n      <!-- 218 -->\r\n      <g transform=\"translate(7.2 155.433018)scale(0.1 -0.1)\">\r\n       <use xlink:href=\"#DejaVuSans-50\"/>\r\n       <use x=\"63.623047\" xlink:href=\"#DejaVuSans-49\"/>\r\n       <use x=\"127.246094\" xlink:href=\"#DejaVuSans-56\"/>\r\n      </g>\r\n     </g>\r\n    </g>\r\n    <g id=\"ytick_220\">\r\n     <g id=\"line2d_229\">\r\n      <g>\r\n       <use style=\"stroke:#000000;stroke-width:0.8;\" x=\"33.2875\" xlink:href=\"#m086e67bf75\" y=\"151.28309\"/>\r\n      </g>\r\n     </g>\r\n     <g id=\"text_229\">\r\n      <!-- 219 -->\r\n      <g transform=\"translate(7.2 155.082308)scale(0.1 -0.1)\">\r\n       <use xlink:href=\"#DejaVuSans-50\"/>\r\n       <use x=\"63.623047\" xlink:href=\"#DejaVuSans-49\"/>\r\n       <use x=\"127.246094\" xlink:href=\"#DejaVuSans-57\"/>\r\n      </g>\r\n     </g>\r\n    </g>\r\n    <g id=\"ytick_221\">\r\n     <g id=\"line2d_230\">\r\n      <g>\r\n       <use style=\"stroke:#000000;stroke-width:0.8;\" x=\"33.2875\" xlink:href=\"#m086e67bf75\" y=\"150.93238\"/>\r\n      </g>\r\n     </g>\r\n     <g id=\"text_230\">\r\n      <!-- 220 -->\r\n      <g transform=\"translate(7.2 154.731599)scale(0.1 -0.1)\">\r\n       <use xlink:href=\"#DejaVuSans-50\"/>\r\n       <use x=\"63.623047\" xlink:href=\"#DejaVuSans-50\"/>\r\n       <use x=\"127.246094\" xlink:href=\"#DejaVuSans-48\"/>\r\n      </g>\r\n     </g>\r\n    </g>\r\n    <g id=\"ytick_222\">\r\n     <g id=\"line2d_231\">\r\n      <g>\r\n       <use style=\"stroke:#000000;stroke-width:0.8;\" x=\"33.2875\" xlink:href=\"#m086e67bf75\" y=\"150.58167\"/>\r\n      </g>\r\n     </g>\r\n     <g id=\"text_231\">\r\n      <!-- 221 -->\r\n      <g transform=\"translate(7.2 154.380889)scale(0.1 -0.1)\">\r\n       <use xlink:href=\"#DejaVuSans-50\"/>\r\n       <use x=\"63.623047\" xlink:href=\"#DejaVuSans-50\"/>\r\n       <use x=\"127.246094\" xlink:href=\"#DejaVuSans-49\"/>\r\n      </g>\r\n     </g>\r\n    </g>\r\n    <g id=\"ytick_223\">\r\n     <g id=\"line2d_232\">\r\n      <g>\r\n       <use style=\"stroke:#000000;stroke-width:0.8;\" x=\"33.2875\" xlink:href=\"#m086e67bf75\" y=\"150.230961\"/>\r\n      </g>\r\n     </g>\r\n     <g id=\"text_232\">\r\n      <!-- 222 -->\r\n      <g transform=\"translate(7.2 154.030179)scale(0.1 -0.1)\">\r\n       <use xlink:href=\"#DejaVuSans-50\"/>\r\n       <use x=\"63.623047\" xlink:href=\"#DejaVuSans-50\"/>\r\n       <use x=\"127.246094\" xlink:href=\"#DejaVuSans-50\"/>\r\n      </g>\r\n     </g>\r\n    </g>\r\n    <g id=\"ytick_224\">\r\n     <g id=\"line2d_233\">\r\n      <g>\r\n       <use style=\"stroke:#000000;stroke-width:0.8;\" x=\"33.2875\" xlink:href=\"#m086e67bf75\" y=\"149.880251\"/>\r\n      </g>\r\n     </g>\r\n     <g id=\"text_233\">\r\n      <!-- 223 -->\r\n      <g transform=\"translate(7.2 153.67947)scale(0.1 -0.1)\">\r\n       <use xlink:href=\"#DejaVuSans-50\"/>\r\n       <use x=\"63.623047\" xlink:href=\"#DejaVuSans-50\"/>\r\n       <use x=\"127.246094\" xlink:href=\"#DejaVuSans-51\"/>\r\n      </g>\r\n     </g>\r\n    </g>\r\n    <g id=\"ytick_225\">\r\n     <g id=\"line2d_234\">\r\n      <g>\r\n       <use style=\"stroke:#000000;stroke-width:0.8;\" x=\"33.2875\" xlink:href=\"#m086e67bf75\" y=\"149.529541\"/>\r\n      </g>\r\n     </g>\r\n     <g id=\"text_234\">\r\n      <!-- 224 -->\r\n      <g transform=\"translate(7.2 153.32876)scale(0.1 -0.1)\">\r\n       <use xlink:href=\"#DejaVuSans-50\"/>\r\n       <use x=\"63.623047\" xlink:href=\"#DejaVuSans-50\"/>\r\n       <use x=\"127.246094\" xlink:href=\"#DejaVuSans-52\"/>\r\n      </g>\r\n     </g>\r\n    </g>\r\n    <g id=\"ytick_226\">\r\n     <g id=\"line2d_235\">\r\n      <g>\r\n       <use style=\"stroke:#000000;stroke-width:0.8;\" x=\"33.2875\" xlink:href=\"#m086e67bf75\" y=\"149.178832\"/>\r\n      </g>\r\n     </g>\r\n     <g id=\"text_235\">\r\n      <!-- 225 -->\r\n      <g transform=\"translate(7.2 152.97805)scale(0.1 -0.1)\">\r\n       <use xlink:href=\"#DejaVuSans-50\"/>\r\n       <use x=\"63.623047\" xlink:href=\"#DejaVuSans-50\"/>\r\n       <use x=\"127.246094\" xlink:href=\"#DejaVuSans-53\"/>\r\n      </g>\r\n     </g>\r\n    </g>\r\n    <g id=\"ytick_227\">\r\n     <g id=\"line2d_236\">\r\n      <g>\r\n       <use style=\"stroke:#000000;stroke-width:0.8;\" x=\"33.2875\" xlink:href=\"#m086e67bf75\" y=\"148.828122\"/>\r\n      </g>\r\n     </g>\r\n     <g id=\"text_236\">\r\n      <!-- 226 -->\r\n      <g transform=\"translate(7.2 152.627341)scale(0.1 -0.1)\">\r\n       <use xlink:href=\"#DejaVuSans-50\"/>\r\n       <use x=\"63.623047\" xlink:href=\"#DejaVuSans-50\"/>\r\n       <use x=\"127.246094\" xlink:href=\"#DejaVuSans-54\"/>\r\n      </g>\r\n     </g>\r\n    </g>\r\n    <g id=\"ytick_228\">\r\n     <g id=\"line2d_237\">\r\n      <g>\r\n       <use style=\"stroke:#000000;stroke-width:0.8;\" x=\"33.2875\" xlink:href=\"#m086e67bf75\" y=\"148.477412\"/>\r\n      </g>\r\n     </g>\r\n     <g id=\"text_237\">\r\n      <!-- 227 -->\r\n      <g transform=\"translate(7.2 152.276631)scale(0.1 -0.1)\">\r\n       <use xlink:href=\"#DejaVuSans-50\"/>\r\n       <use x=\"63.623047\" xlink:href=\"#DejaVuSans-50\"/>\r\n       <use x=\"127.246094\" xlink:href=\"#DejaVuSans-55\"/>\r\n      </g>\r\n     </g>\r\n    </g>\r\n    <g id=\"ytick_229\">\r\n     <g id=\"line2d_238\">\r\n      <g>\r\n       <use style=\"stroke:#000000;stroke-width:0.8;\" x=\"33.2875\" xlink:href=\"#m086e67bf75\" y=\"148.126703\"/>\r\n      </g>\r\n     </g>\r\n     <g id=\"text_238\">\r\n      <!-- 228 -->\r\n      <g transform=\"translate(7.2 151.925921)scale(0.1 -0.1)\">\r\n       <use xlink:href=\"#DejaVuSans-50\"/>\r\n       <use x=\"63.623047\" xlink:href=\"#DejaVuSans-50\"/>\r\n       <use x=\"127.246094\" xlink:href=\"#DejaVuSans-56\"/>\r\n      </g>\r\n     </g>\r\n    </g>\r\n    <g id=\"ytick_230\">\r\n     <g id=\"line2d_239\">\r\n      <g>\r\n       <use style=\"stroke:#000000;stroke-width:0.8;\" x=\"33.2875\" xlink:href=\"#m086e67bf75\" y=\"147.775993\"/>\r\n      </g>\r\n     </g>\r\n     <g id=\"text_239\">\r\n      <!-- 229 -->\r\n      <g transform=\"translate(7.2 151.575212)scale(0.1 -0.1)\">\r\n       <use xlink:href=\"#DejaVuSans-50\"/>\r\n       <use x=\"63.623047\" xlink:href=\"#DejaVuSans-50\"/>\r\n       <use x=\"127.246094\" xlink:href=\"#DejaVuSans-57\"/>\r\n      </g>\r\n     </g>\r\n    </g>\r\n    <g id=\"ytick_231\">\r\n     <g id=\"line2d_240\">\r\n      <g>\r\n       <use style=\"stroke:#000000;stroke-width:0.8;\" x=\"33.2875\" xlink:href=\"#m086e67bf75\" y=\"147.425283\"/>\r\n      </g>\r\n     </g>\r\n     <g id=\"text_240\">\r\n      <!-- 230 -->\r\n      <g transform=\"translate(7.2 151.224502)scale(0.1 -0.1)\">\r\n       <use xlink:href=\"#DejaVuSans-50\"/>\r\n       <use x=\"63.623047\" xlink:href=\"#DejaVuSans-51\"/>\r\n       <use x=\"127.246094\" xlink:href=\"#DejaVuSans-48\"/>\r\n      </g>\r\n     </g>\r\n    </g>\r\n    <g id=\"ytick_232\">\r\n     <g id=\"line2d_241\">\r\n      <g>\r\n       <use style=\"stroke:#000000;stroke-width:0.8;\" x=\"33.2875\" xlink:href=\"#m086e67bf75\" y=\"147.074574\"/>\r\n      </g>\r\n     </g>\r\n     <g id=\"text_241\">\r\n      <!-- 231 -->\r\n      <g transform=\"translate(7.2 150.873792)scale(0.1 -0.1)\">\r\n       <use xlink:href=\"#DejaVuSans-50\"/>\r\n       <use x=\"63.623047\" xlink:href=\"#DejaVuSans-51\"/>\r\n       <use x=\"127.246094\" xlink:href=\"#DejaVuSans-49\"/>\r\n      </g>\r\n     </g>\r\n    </g>\r\n    <g id=\"ytick_233\">\r\n     <g id=\"line2d_242\">\r\n      <g>\r\n       <use style=\"stroke:#000000;stroke-width:0.8;\" x=\"33.2875\" xlink:href=\"#m086e67bf75\" y=\"146.723864\"/>\r\n      </g>\r\n     </g>\r\n     <g id=\"text_242\">\r\n      <!-- 232 -->\r\n      <g transform=\"translate(7.2 150.523083)scale(0.1 -0.1)\">\r\n       <use xlink:href=\"#DejaVuSans-50\"/>\r\n       <use x=\"63.623047\" xlink:href=\"#DejaVuSans-51\"/>\r\n       <use x=\"127.246094\" xlink:href=\"#DejaVuSans-50\"/>\r\n      </g>\r\n     </g>\r\n    </g>\r\n    <g id=\"ytick_234\">\r\n     <g id=\"line2d_243\">\r\n      <g>\r\n       <use style=\"stroke:#000000;stroke-width:0.8;\" x=\"33.2875\" xlink:href=\"#m086e67bf75\" y=\"146.373154\"/>\r\n      </g>\r\n     </g>\r\n     <g id=\"text_243\">\r\n      <!-- 233 -->\r\n      <g transform=\"translate(7.2 150.172373)scale(0.1 -0.1)\">\r\n       <use xlink:href=\"#DejaVuSans-50\"/>\r\n       <use x=\"63.623047\" xlink:href=\"#DejaVuSans-51\"/>\r\n       <use x=\"127.246094\" xlink:href=\"#DejaVuSans-51\"/>\r\n      </g>\r\n     </g>\r\n    </g>\r\n    <g id=\"ytick_235\">\r\n     <g id=\"line2d_244\">\r\n      <g>\r\n       <use style=\"stroke:#000000;stroke-width:0.8;\" x=\"33.2875\" xlink:href=\"#m086e67bf75\" y=\"146.022445\"/>\r\n      </g>\r\n     </g>\r\n     <g id=\"text_244\">\r\n      <!-- 234 -->\r\n      <g transform=\"translate(7.2 149.821663)scale(0.1 -0.1)\">\r\n       <use xlink:href=\"#DejaVuSans-50\"/>\r\n       <use x=\"63.623047\" xlink:href=\"#DejaVuSans-51\"/>\r\n       <use x=\"127.246094\" xlink:href=\"#DejaVuSans-52\"/>\r\n      </g>\r\n     </g>\r\n    </g>\r\n    <g id=\"ytick_236\">\r\n     <g id=\"line2d_245\">\r\n      <g>\r\n       <use style=\"stroke:#000000;stroke-width:0.8;\" x=\"33.2875\" xlink:href=\"#m086e67bf75\" y=\"145.671735\"/>\r\n      </g>\r\n     </g>\r\n     <g id=\"text_245\">\r\n      <!-- 235 -->\r\n      <g transform=\"translate(7.2 149.470954)scale(0.1 -0.1)\">\r\n       <use xlink:href=\"#DejaVuSans-50\"/>\r\n       <use x=\"63.623047\" xlink:href=\"#DejaVuSans-51\"/>\r\n       <use x=\"127.246094\" xlink:href=\"#DejaVuSans-53\"/>\r\n      </g>\r\n     </g>\r\n    </g>\r\n    <g id=\"ytick_237\">\r\n     <g id=\"line2d_246\">\r\n      <g>\r\n       <use style=\"stroke:#000000;stroke-width:0.8;\" x=\"33.2875\" xlink:href=\"#m086e67bf75\" y=\"145.321025\"/>\r\n      </g>\r\n     </g>\r\n     <g id=\"text_246\">\r\n      <!-- 236 -->\r\n      <g transform=\"translate(7.2 149.120244)scale(0.1 -0.1)\">\r\n       <use xlink:href=\"#DejaVuSans-50\"/>\r\n       <use x=\"63.623047\" xlink:href=\"#DejaVuSans-51\"/>\r\n       <use x=\"127.246094\" xlink:href=\"#DejaVuSans-54\"/>\r\n      </g>\r\n     </g>\r\n    </g>\r\n    <g id=\"ytick_238\">\r\n     <g id=\"line2d_247\">\r\n      <g>\r\n       <use style=\"stroke:#000000;stroke-width:0.8;\" x=\"33.2875\" xlink:href=\"#m086e67bf75\" y=\"144.970316\"/>\r\n      </g>\r\n     </g>\r\n     <g id=\"text_247\">\r\n      <!-- 237 -->\r\n      <g transform=\"translate(7.2 148.769534)scale(0.1 -0.1)\">\r\n       <use xlink:href=\"#DejaVuSans-50\"/>\r\n       <use x=\"63.623047\" xlink:href=\"#DejaVuSans-51\"/>\r\n       <use x=\"127.246094\" xlink:href=\"#DejaVuSans-55\"/>\r\n      </g>\r\n     </g>\r\n    </g>\r\n    <g id=\"ytick_239\">\r\n     <g id=\"line2d_248\">\r\n      <g>\r\n       <use style=\"stroke:#000000;stroke-width:0.8;\" x=\"33.2875\" xlink:href=\"#m086e67bf75\" y=\"144.619606\"/>\r\n      </g>\r\n     </g>\r\n     <g id=\"text_248\">\r\n      <!-- 238 -->\r\n      <g transform=\"translate(7.2 148.418825)scale(0.1 -0.1)\">\r\n       <use xlink:href=\"#DejaVuSans-50\"/>\r\n       <use x=\"63.623047\" xlink:href=\"#DejaVuSans-51\"/>\r\n       <use x=\"127.246094\" xlink:href=\"#DejaVuSans-56\"/>\r\n      </g>\r\n     </g>\r\n    </g>\r\n    <g id=\"ytick_240\">\r\n     <g id=\"line2d_249\">\r\n      <g>\r\n       <use style=\"stroke:#000000;stroke-width:0.8;\" x=\"33.2875\" xlink:href=\"#m086e67bf75\" y=\"144.268896\"/>\r\n      </g>\r\n     </g>\r\n     <g id=\"text_249\">\r\n      <!-- 239 -->\r\n      <g transform=\"translate(7.2 148.068115)scale(0.1 -0.1)\">\r\n       <use xlink:href=\"#DejaVuSans-50\"/>\r\n       <use x=\"63.623047\" xlink:href=\"#DejaVuSans-51\"/>\r\n       <use x=\"127.246094\" xlink:href=\"#DejaVuSans-57\"/>\r\n      </g>\r\n     </g>\r\n    </g>\r\n    <g id=\"ytick_241\">\r\n     <g id=\"line2d_250\">\r\n      <g>\r\n       <use style=\"stroke:#000000;stroke-width:0.8;\" x=\"33.2875\" xlink:href=\"#m086e67bf75\" y=\"143.918186\"/>\r\n      </g>\r\n     </g>\r\n     <g id=\"text_250\">\r\n      <!-- 240 -->\r\n      <g transform=\"translate(7.2 147.717405)scale(0.1 -0.1)\">\r\n       <use xlink:href=\"#DejaVuSans-50\"/>\r\n       <use x=\"63.623047\" xlink:href=\"#DejaVuSans-52\"/>\r\n       <use x=\"127.246094\" xlink:href=\"#DejaVuSans-48\"/>\r\n      </g>\r\n     </g>\r\n    </g>\r\n    <g id=\"ytick_242\">\r\n     <g id=\"line2d_251\">\r\n      <g>\r\n       <use style=\"stroke:#000000;stroke-width:0.8;\" x=\"33.2875\" xlink:href=\"#m086e67bf75\" y=\"143.567477\"/>\r\n      </g>\r\n     </g>\r\n     <g id=\"text_251\">\r\n      <!-- 241 -->\r\n      <g transform=\"translate(7.2 147.366696)scale(0.1 -0.1)\">\r\n       <use xlink:href=\"#DejaVuSans-50\"/>\r\n       <use x=\"63.623047\" xlink:href=\"#DejaVuSans-52\"/>\r\n       <use x=\"127.246094\" xlink:href=\"#DejaVuSans-49\"/>\r\n      </g>\r\n     </g>\r\n    </g>\r\n    <g id=\"ytick_243\">\r\n     <g id=\"line2d_252\">\r\n      <g>\r\n       <use style=\"stroke:#000000;stroke-width:0.8;\" x=\"33.2875\" xlink:href=\"#m086e67bf75\" y=\"143.216767\"/>\r\n      </g>\r\n     </g>\r\n     <g id=\"text_252\">\r\n      <!-- 242 -->\r\n      <g transform=\"translate(7.2 147.015986)scale(0.1 -0.1)\">\r\n       <use xlink:href=\"#DejaVuSans-50\"/>\r\n       <use x=\"63.623047\" xlink:href=\"#DejaVuSans-52\"/>\r\n       <use x=\"127.246094\" xlink:href=\"#DejaVuSans-50\"/>\r\n      </g>\r\n     </g>\r\n    </g>\r\n    <g id=\"ytick_244\">\r\n     <g id=\"line2d_253\">\r\n      <g>\r\n       <use style=\"stroke:#000000;stroke-width:0.8;\" x=\"33.2875\" xlink:href=\"#m086e67bf75\" y=\"142.866057\"/>\r\n      </g>\r\n     </g>\r\n     <g id=\"text_253\">\r\n      <!-- 243 -->\r\n      <g transform=\"translate(7.2 146.665276)scale(0.1 -0.1)\">\r\n       <use xlink:href=\"#DejaVuSans-50\"/>\r\n       <use x=\"63.623047\" xlink:href=\"#DejaVuSans-52\"/>\r\n       <use x=\"127.246094\" xlink:href=\"#DejaVuSans-51\"/>\r\n      </g>\r\n     </g>\r\n    </g>\r\n    <g id=\"ytick_245\">\r\n     <g id=\"line2d_254\">\r\n      <g>\r\n       <use style=\"stroke:#000000;stroke-width:0.8;\" x=\"33.2875\" xlink:href=\"#m086e67bf75\" y=\"142.515348\"/>\r\n      </g>\r\n     </g>\r\n     <g id=\"text_254\">\r\n      <!-- 244 -->\r\n      <g transform=\"translate(7.2 146.314567)scale(0.1 -0.1)\">\r\n       <use xlink:href=\"#DejaVuSans-50\"/>\r\n       <use x=\"63.623047\" xlink:href=\"#DejaVuSans-52\"/>\r\n       <use x=\"127.246094\" xlink:href=\"#DejaVuSans-52\"/>\r\n      </g>\r\n     </g>\r\n    </g>\r\n    <g id=\"ytick_246\">\r\n     <g id=\"line2d_255\">\r\n      <g>\r\n       <use style=\"stroke:#000000;stroke-width:0.8;\" x=\"33.2875\" xlink:href=\"#m086e67bf75\" y=\"142.164638\"/>\r\n      </g>\r\n     </g>\r\n     <g id=\"text_255\">\r\n      <!-- 245 -->\r\n      <g transform=\"translate(7.2 145.963857)scale(0.1 -0.1)\">\r\n       <use xlink:href=\"#DejaVuSans-50\"/>\r\n       <use x=\"63.623047\" xlink:href=\"#DejaVuSans-52\"/>\r\n       <use x=\"127.246094\" xlink:href=\"#DejaVuSans-53\"/>\r\n      </g>\r\n     </g>\r\n    </g>\r\n    <g id=\"ytick_247\">\r\n     <g id=\"line2d_256\">\r\n      <g>\r\n       <use style=\"stroke:#000000;stroke-width:0.8;\" x=\"33.2875\" xlink:href=\"#m086e67bf75\" y=\"141.813928\"/>\r\n      </g>\r\n     </g>\r\n     <g id=\"text_256\">\r\n      <!-- 246 -->\r\n      <g transform=\"translate(7.2 145.613147)scale(0.1 -0.1)\">\r\n       <use xlink:href=\"#DejaVuSans-50\"/>\r\n       <use x=\"63.623047\" xlink:href=\"#DejaVuSans-52\"/>\r\n       <use x=\"127.246094\" xlink:href=\"#DejaVuSans-54\"/>\r\n      </g>\r\n     </g>\r\n    </g>\r\n    <g id=\"ytick_248\">\r\n     <g id=\"line2d_257\">\r\n      <g>\r\n       <use style=\"stroke:#000000;stroke-width:0.8;\" x=\"33.2875\" xlink:href=\"#m086e67bf75\" y=\"141.463219\"/>\r\n      </g>\r\n     </g>\r\n     <g id=\"text_257\">\r\n      <!-- 247 -->\r\n      <g transform=\"translate(7.2 145.262438)scale(0.1 -0.1)\">\r\n       <use xlink:href=\"#DejaVuSans-50\"/>\r\n       <use x=\"63.623047\" xlink:href=\"#DejaVuSans-52\"/>\r\n       <use x=\"127.246094\" xlink:href=\"#DejaVuSans-55\"/>\r\n      </g>\r\n     </g>\r\n    </g>\r\n    <g id=\"ytick_249\">\r\n     <g id=\"line2d_258\">\r\n      <g>\r\n       <use style=\"stroke:#000000;stroke-width:0.8;\" x=\"33.2875\" xlink:href=\"#m086e67bf75\" y=\"141.112509\"/>\r\n      </g>\r\n     </g>\r\n     <g id=\"text_258\">\r\n      <!-- 248 -->\r\n      <g transform=\"translate(7.2 144.911728)scale(0.1 -0.1)\">\r\n       <use xlink:href=\"#DejaVuSans-50\"/>\r\n       <use x=\"63.623047\" xlink:href=\"#DejaVuSans-52\"/>\r\n       <use x=\"127.246094\" xlink:href=\"#DejaVuSans-56\"/>\r\n      </g>\r\n     </g>\r\n    </g>\r\n    <g id=\"ytick_250\">\r\n     <g id=\"line2d_259\">\r\n      <g>\r\n       <use style=\"stroke:#000000;stroke-width:0.8;\" x=\"33.2875\" xlink:href=\"#m086e67bf75\" y=\"140.761799\"/>\r\n      </g>\r\n     </g>\r\n     <g id=\"text_259\">\r\n      <!-- 249 -->\r\n      <g transform=\"translate(7.2 144.561018)scale(0.1 -0.1)\">\r\n       <use xlink:href=\"#DejaVuSans-50\"/>\r\n       <use x=\"63.623047\" xlink:href=\"#DejaVuSans-52\"/>\r\n       <use x=\"127.246094\" xlink:href=\"#DejaVuSans-57\"/>\r\n      </g>\r\n     </g>\r\n    </g>\r\n    <g id=\"ytick_251\">\r\n     <g id=\"line2d_260\">\r\n      <g>\r\n       <use style=\"stroke:#000000;stroke-width:0.8;\" x=\"33.2875\" xlink:href=\"#m086e67bf75\" y=\"140.41109\"/>\r\n      </g>\r\n     </g>\r\n     <g id=\"text_260\">\r\n      <!-- 250 -->\r\n      <g transform=\"translate(7.2 144.210308)scale(0.1 -0.1)\">\r\n       <use xlink:href=\"#DejaVuSans-50\"/>\r\n       <use x=\"63.623047\" xlink:href=\"#DejaVuSans-53\"/>\r\n       <use x=\"127.246094\" xlink:href=\"#DejaVuSans-48\"/>\r\n      </g>\r\n     </g>\r\n    </g>\r\n    <g id=\"ytick_252\">\r\n     <g id=\"line2d_261\">\r\n      <g>\r\n       <use style=\"stroke:#000000;stroke-width:0.8;\" x=\"33.2875\" xlink:href=\"#m086e67bf75\" y=\"140.06038\"/>\r\n      </g>\r\n     </g>\r\n     <g id=\"text_261\">\r\n      <!-- 251 -->\r\n      <g transform=\"translate(7.2 143.859599)scale(0.1 -0.1)\">\r\n       <use xlink:href=\"#DejaVuSans-50\"/>\r\n       <use x=\"63.623047\" xlink:href=\"#DejaVuSans-53\"/>\r\n       <use x=\"127.246094\" xlink:href=\"#DejaVuSans-49\"/>\r\n      </g>\r\n     </g>\r\n    </g>\r\n    <g id=\"ytick_253\">\r\n     <g id=\"line2d_262\">\r\n      <g>\r\n       <use style=\"stroke:#000000;stroke-width:0.8;\" x=\"33.2875\" xlink:href=\"#m086e67bf75\" y=\"139.70967\"/>\r\n      </g>\r\n     </g>\r\n     <g id=\"text_262\">\r\n      <!-- 252 -->\r\n      <g transform=\"translate(7.2 143.508889)scale(0.1 -0.1)\">\r\n       <use xlink:href=\"#DejaVuSans-50\"/>\r\n       <use x=\"63.623047\" xlink:href=\"#DejaVuSans-53\"/>\r\n       <use x=\"127.246094\" xlink:href=\"#DejaVuSans-50\"/>\r\n      </g>\r\n     </g>\r\n    </g>\r\n    <g id=\"ytick_254\">\r\n     <g id=\"line2d_263\">\r\n      <g>\r\n       <use style=\"stroke:#000000;stroke-width:0.8;\" x=\"33.2875\" xlink:href=\"#m086e67bf75\" y=\"139.358961\"/>\r\n      </g>\r\n     </g>\r\n     <g id=\"text_263\">\r\n      <!-- 253 -->\r\n      <g transform=\"translate(7.2 143.158179)scale(0.1 -0.1)\">\r\n       <use xlink:href=\"#DejaVuSans-50\"/>\r\n       <use x=\"63.623047\" xlink:href=\"#DejaVuSans-53\"/>\r\n       <use x=\"127.246094\" xlink:href=\"#DejaVuSans-51\"/>\r\n      </g>\r\n     </g>\r\n    </g>\r\n    <g id=\"ytick_255\">\r\n     <g id=\"line2d_264\">\r\n      <g>\r\n       <use style=\"stroke:#000000;stroke-width:0.8;\" x=\"33.2875\" xlink:href=\"#m086e67bf75\" y=\"139.008251\"/>\r\n      </g>\r\n     </g>\r\n     <g id=\"text_264\">\r\n      <!-- 254 -->\r\n      <g transform=\"translate(7.2 142.80747)scale(0.1 -0.1)\">\r\n       <use xlink:href=\"#DejaVuSans-50\"/>\r\n       <use x=\"63.623047\" xlink:href=\"#DejaVuSans-53\"/>\r\n       <use x=\"127.246094\" xlink:href=\"#DejaVuSans-52\"/>\r\n      </g>\r\n     </g>\r\n    </g>\r\n    <g id=\"ytick_256\">\r\n     <g id=\"line2d_265\">\r\n      <g>\r\n       <use style=\"stroke:#000000;stroke-width:0.8;\" x=\"33.2875\" xlink:href=\"#m086e67bf75\" y=\"138.657541\"/>\r\n      </g>\r\n     </g>\r\n     <g id=\"text_265\">\r\n      <!-- 255 -->\r\n      <g transform=\"translate(7.2 142.45676)scale(0.1 -0.1)\">\r\n       <use xlink:href=\"#DejaVuSans-50\"/>\r\n       <use x=\"63.623047\" xlink:href=\"#DejaVuSans-53\"/>\r\n       <use x=\"127.246094\" xlink:href=\"#DejaVuSans-53\"/>\r\n      </g>\r\n     </g>\r\n    </g>\r\n    <g id=\"ytick_257\">\r\n     <g id=\"line2d_266\">\r\n      <g>\r\n       <use style=\"stroke:#000000;stroke-width:0.8;\" x=\"33.2875\" xlink:href=\"#m086e67bf75\" y=\"138.306832\"/>\r\n      </g>\r\n     </g>\r\n     <g id=\"text_266\">\r\n      <!-- 256 -->\r\n      <g transform=\"translate(7.2 142.10605)scale(0.1 -0.1)\">\r\n       <use xlink:href=\"#DejaVuSans-50\"/>\r\n       <use x=\"63.623047\" xlink:href=\"#DejaVuSans-53\"/>\r\n       <use x=\"127.246094\" xlink:href=\"#DejaVuSans-54\"/>\r\n      </g>\r\n     </g>\r\n    </g>\r\n    <g id=\"ytick_258\">\r\n     <g id=\"line2d_267\">\r\n      <g>\r\n       <use style=\"stroke:#000000;stroke-width:0.8;\" x=\"33.2875\" xlink:href=\"#m086e67bf75\" y=\"137.956122\"/>\r\n      </g>\r\n     </g>\r\n     <g id=\"text_267\">\r\n      <!-- 257 -->\r\n      <g transform=\"translate(7.2 141.755341)scale(0.1 -0.1)\">\r\n       <use xlink:href=\"#DejaVuSans-50\"/>\r\n       <use x=\"63.623047\" xlink:href=\"#DejaVuSans-53\"/>\r\n       <use x=\"127.246094\" xlink:href=\"#DejaVuSans-55\"/>\r\n      </g>\r\n     </g>\r\n    </g>\r\n    <g id=\"ytick_259\">\r\n     <g id=\"line2d_268\">\r\n      <g>\r\n       <use style=\"stroke:#000000;stroke-width:0.8;\" x=\"33.2875\" xlink:href=\"#m086e67bf75\" y=\"137.605412\"/>\r\n      </g>\r\n     </g>\r\n     <g id=\"text_268\">\r\n      <!-- 258 -->\r\n      <g transform=\"translate(7.2 141.404631)scale(0.1 -0.1)\">\r\n       <use xlink:href=\"#DejaVuSans-50\"/>\r\n       <use x=\"63.623047\" xlink:href=\"#DejaVuSans-53\"/>\r\n       <use x=\"127.246094\" xlink:href=\"#DejaVuSans-56\"/>\r\n      </g>\r\n     </g>\r\n    </g>\r\n    <g id=\"ytick_260\">\r\n     <g id=\"line2d_269\">\r\n      <g>\r\n       <use style=\"stroke:#000000;stroke-width:0.8;\" x=\"33.2875\" xlink:href=\"#m086e67bf75\" y=\"137.254703\"/>\r\n      </g>\r\n     </g>\r\n     <g id=\"text_269\">\r\n      <!-- 259 -->\r\n      <g transform=\"translate(7.2 141.053921)scale(0.1 -0.1)\">\r\n       <use xlink:href=\"#DejaVuSans-50\"/>\r\n       <use x=\"63.623047\" xlink:href=\"#DejaVuSans-53\"/>\r\n       <use x=\"127.246094\" xlink:href=\"#DejaVuSans-57\"/>\r\n      </g>\r\n     </g>\r\n    </g>\r\n    <g id=\"ytick_261\">\r\n     <g id=\"line2d_270\">\r\n      <g>\r\n       <use style=\"stroke:#000000;stroke-width:0.8;\" x=\"33.2875\" xlink:href=\"#m086e67bf75\" y=\"136.903993\"/>\r\n      </g>\r\n     </g>\r\n     <g id=\"text_270\">\r\n      <!-- 260 -->\r\n      <g transform=\"translate(7.2 140.703212)scale(0.1 -0.1)\">\r\n       <use xlink:href=\"#DejaVuSans-50\"/>\r\n       <use x=\"63.623047\" xlink:href=\"#DejaVuSans-54\"/>\r\n       <use x=\"127.246094\" xlink:href=\"#DejaVuSans-48\"/>\r\n      </g>\r\n     </g>\r\n    </g>\r\n    <g id=\"ytick_262\">\r\n     <g id=\"line2d_271\">\r\n      <g>\r\n       <use style=\"stroke:#000000;stroke-width:0.8;\" x=\"33.2875\" xlink:href=\"#m086e67bf75\" y=\"136.553283\"/>\r\n      </g>\r\n     </g>\r\n     <g id=\"text_271\">\r\n      <!-- 261 -->\r\n      <g transform=\"translate(7.2 140.352502)scale(0.1 -0.1)\">\r\n       <use xlink:href=\"#DejaVuSans-50\"/>\r\n       <use x=\"63.623047\" xlink:href=\"#DejaVuSans-54\"/>\r\n       <use x=\"127.246094\" xlink:href=\"#DejaVuSans-49\"/>\r\n      </g>\r\n     </g>\r\n    </g>\r\n    <g id=\"ytick_263\">\r\n     <g id=\"line2d_272\">\r\n      <g>\r\n       <use style=\"stroke:#000000;stroke-width:0.8;\" x=\"33.2875\" xlink:href=\"#m086e67bf75\" y=\"136.202574\"/>\r\n      </g>\r\n     </g>\r\n     <g id=\"text_272\">\r\n      <!-- 262 -->\r\n      <g transform=\"translate(7.2 140.001792)scale(0.1 -0.1)\">\r\n       <use xlink:href=\"#DejaVuSans-50\"/>\r\n       <use x=\"63.623047\" xlink:href=\"#DejaVuSans-54\"/>\r\n       <use x=\"127.246094\" xlink:href=\"#DejaVuSans-50\"/>\r\n      </g>\r\n     </g>\r\n    </g>\r\n    <g id=\"ytick_264\">\r\n     <g id=\"line2d_273\">\r\n      <g>\r\n       <use style=\"stroke:#000000;stroke-width:0.8;\" x=\"33.2875\" xlink:href=\"#m086e67bf75\" y=\"135.851864\"/>\r\n      </g>\r\n     </g>\r\n     <g id=\"text_273\">\r\n      <!-- 263 -->\r\n      <g transform=\"translate(7.2 139.651083)scale(0.1 -0.1)\">\r\n       <use xlink:href=\"#DejaVuSans-50\"/>\r\n       <use x=\"63.623047\" xlink:href=\"#DejaVuSans-54\"/>\r\n       <use x=\"127.246094\" xlink:href=\"#DejaVuSans-51\"/>\r\n      </g>\r\n     </g>\r\n    </g>\r\n    <g id=\"ytick_265\">\r\n     <g id=\"line2d_274\">\r\n      <g>\r\n       <use style=\"stroke:#000000;stroke-width:0.8;\" x=\"33.2875\" xlink:href=\"#m086e67bf75\" y=\"135.501154\"/>\r\n      </g>\r\n     </g>\r\n     <g id=\"text_274\">\r\n      <!-- 264 -->\r\n      <g transform=\"translate(7.2 139.300373)scale(0.1 -0.1)\">\r\n       <use xlink:href=\"#DejaVuSans-50\"/>\r\n       <use x=\"63.623047\" xlink:href=\"#DejaVuSans-54\"/>\r\n       <use x=\"127.246094\" xlink:href=\"#DejaVuSans-52\"/>\r\n      </g>\r\n     </g>\r\n    </g>\r\n    <g id=\"ytick_266\">\r\n     <g id=\"line2d_275\">\r\n      <g>\r\n       <use style=\"stroke:#000000;stroke-width:0.8;\" x=\"33.2875\" xlink:href=\"#m086e67bf75\" y=\"135.150445\"/>\r\n      </g>\r\n     </g>\r\n     <g id=\"text_275\">\r\n      <!-- 265 -->\r\n      <g transform=\"translate(7.2 138.949663)scale(0.1 -0.1)\">\r\n       <use xlink:href=\"#DejaVuSans-50\"/>\r\n       <use x=\"63.623047\" xlink:href=\"#DejaVuSans-54\"/>\r\n       <use x=\"127.246094\" xlink:href=\"#DejaVuSans-53\"/>\r\n      </g>\r\n     </g>\r\n    </g>\r\n    <g id=\"ytick_267\">\r\n     <g id=\"line2d_276\">\r\n      <g>\r\n       <use style=\"stroke:#000000;stroke-width:0.8;\" x=\"33.2875\" xlink:href=\"#m086e67bf75\" y=\"134.799735\"/>\r\n      </g>\r\n     </g>\r\n     <g id=\"text_276\">\r\n      <!-- 266 -->\r\n      <g transform=\"translate(7.2 138.598954)scale(0.1 -0.1)\">\r\n       <use xlink:href=\"#DejaVuSans-50\"/>\r\n       <use x=\"63.623047\" xlink:href=\"#DejaVuSans-54\"/>\r\n       <use x=\"127.246094\" xlink:href=\"#DejaVuSans-54\"/>\r\n      </g>\r\n     </g>\r\n    </g>\r\n    <g id=\"ytick_268\">\r\n     <g id=\"line2d_277\">\r\n      <g>\r\n       <use style=\"stroke:#000000;stroke-width:0.8;\" x=\"33.2875\" xlink:href=\"#m086e67bf75\" y=\"134.449025\"/>\r\n      </g>\r\n     </g>\r\n     <g id=\"text_277\">\r\n      <!-- 267 -->\r\n      <g transform=\"translate(7.2 138.248244)scale(0.1 -0.1)\">\r\n       <use xlink:href=\"#DejaVuSans-50\"/>\r\n       <use x=\"63.623047\" xlink:href=\"#DejaVuSans-54\"/>\r\n       <use x=\"127.246094\" xlink:href=\"#DejaVuSans-55\"/>\r\n      </g>\r\n     </g>\r\n    </g>\r\n    <g id=\"ytick_269\">\r\n     <g id=\"line2d_278\">\r\n      <g>\r\n       <use style=\"stroke:#000000;stroke-width:0.8;\" x=\"33.2875\" xlink:href=\"#m086e67bf75\" y=\"134.098316\"/>\r\n      </g>\r\n     </g>\r\n     <g id=\"text_278\">\r\n      <!-- 268 -->\r\n      <g transform=\"translate(7.2 137.897534)scale(0.1 -0.1)\">\r\n       <use xlink:href=\"#DejaVuSans-50\"/>\r\n       <use x=\"63.623047\" xlink:href=\"#DejaVuSans-54\"/>\r\n       <use x=\"127.246094\" xlink:href=\"#DejaVuSans-56\"/>\r\n      </g>\r\n     </g>\r\n    </g>\r\n    <g id=\"ytick_270\">\r\n     <g id=\"line2d_279\">\r\n      <g>\r\n       <use style=\"stroke:#000000;stroke-width:0.8;\" x=\"33.2875\" xlink:href=\"#m086e67bf75\" y=\"133.747606\"/>\r\n      </g>\r\n     </g>\r\n     <g id=\"text_279\">\r\n      <!-- 269 -->\r\n      <g transform=\"translate(7.2 137.546825)scale(0.1 -0.1)\">\r\n       <use xlink:href=\"#DejaVuSans-50\"/>\r\n       <use x=\"63.623047\" xlink:href=\"#DejaVuSans-54\"/>\r\n       <use x=\"127.246094\" xlink:href=\"#DejaVuSans-57\"/>\r\n      </g>\r\n     </g>\r\n    </g>\r\n    <g id=\"ytick_271\">\r\n     <g id=\"line2d_280\">\r\n      <g>\r\n       <use style=\"stroke:#000000;stroke-width:0.8;\" x=\"33.2875\" xlink:href=\"#m086e67bf75\" y=\"133.396896\"/>\r\n      </g>\r\n     </g>\r\n     <g id=\"text_280\">\r\n      <!-- 270 -->\r\n      <g transform=\"translate(7.2 137.196115)scale(0.1 -0.1)\">\r\n       <use xlink:href=\"#DejaVuSans-50\"/>\r\n       <use x=\"63.623047\" xlink:href=\"#DejaVuSans-55\"/>\r\n       <use x=\"127.246094\" xlink:href=\"#DejaVuSans-48\"/>\r\n      </g>\r\n     </g>\r\n    </g>\r\n    <g id=\"ytick_272\">\r\n     <g id=\"line2d_281\">\r\n      <g>\r\n       <use style=\"stroke:#000000;stroke-width:0.8;\" x=\"33.2875\" xlink:href=\"#m086e67bf75\" y=\"133.046186\"/>\r\n      </g>\r\n     </g>\r\n     <g id=\"text_281\">\r\n      <!-- 271 -->\r\n      <g transform=\"translate(7.2 136.845405)scale(0.1 -0.1)\">\r\n       <use xlink:href=\"#DejaVuSans-50\"/>\r\n       <use x=\"63.623047\" xlink:href=\"#DejaVuSans-55\"/>\r\n       <use x=\"127.246094\" xlink:href=\"#DejaVuSans-49\"/>\r\n      </g>\r\n     </g>\r\n    </g>\r\n    <g id=\"ytick_273\">\r\n     <g id=\"line2d_282\">\r\n      <g>\r\n       <use style=\"stroke:#000000;stroke-width:0.8;\" x=\"33.2875\" xlink:href=\"#m086e67bf75\" y=\"132.695477\"/>\r\n      </g>\r\n     </g>\r\n     <g id=\"text_282\">\r\n      <!-- 272 -->\r\n      <g transform=\"translate(7.2 136.494696)scale(0.1 -0.1)\">\r\n       <use xlink:href=\"#DejaVuSans-50\"/>\r\n       <use x=\"63.623047\" xlink:href=\"#DejaVuSans-55\"/>\r\n       <use x=\"127.246094\" xlink:href=\"#DejaVuSans-50\"/>\r\n      </g>\r\n     </g>\r\n    </g>\r\n    <g id=\"ytick_274\">\r\n     <g id=\"line2d_283\">\r\n      <g>\r\n       <use style=\"stroke:#000000;stroke-width:0.8;\" x=\"33.2875\" xlink:href=\"#m086e67bf75\" y=\"132.344767\"/>\r\n      </g>\r\n     </g>\r\n     <g id=\"text_283\">\r\n      <!-- 273 -->\r\n      <g transform=\"translate(7.2 136.143986)scale(0.1 -0.1)\">\r\n       <use xlink:href=\"#DejaVuSans-50\"/>\r\n       <use x=\"63.623047\" xlink:href=\"#DejaVuSans-55\"/>\r\n       <use x=\"127.246094\" xlink:href=\"#DejaVuSans-51\"/>\r\n      </g>\r\n     </g>\r\n    </g>\r\n    <g id=\"ytick_275\">\r\n     <g id=\"line2d_284\">\r\n      <g>\r\n       <use style=\"stroke:#000000;stroke-width:0.8;\" x=\"33.2875\" xlink:href=\"#m086e67bf75\" y=\"131.994057\"/>\r\n      </g>\r\n     </g>\r\n     <g id=\"text_284\">\r\n      <!-- 274 -->\r\n      <g transform=\"translate(7.2 135.793276)scale(0.1 -0.1)\">\r\n       <use xlink:href=\"#DejaVuSans-50\"/>\r\n       <use x=\"63.623047\" xlink:href=\"#DejaVuSans-55\"/>\r\n       <use x=\"127.246094\" xlink:href=\"#DejaVuSans-52\"/>\r\n      </g>\r\n     </g>\r\n    </g>\r\n    <g id=\"ytick_276\">\r\n     <g id=\"line2d_285\">\r\n      <g>\r\n       <use style=\"stroke:#000000;stroke-width:0.8;\" x=\"33.2875\" xlink:href=\"#m086e67bf75\" y=\"131.643348\"/>\r\n      </g>\r\n     </g>\r\n     <g id=\"text_285\">\r\n      <!-- 275 -->\r\n      <g transform=\"translate(7.2 135.442567)scale(0.1 -0.1)\">\r\n       <use xlink:href=\"#DejaVuSans-50\"/>\r\n       <use x=\"63.623047\" xlink:href=\"#DejaVuSans-55\"/>\r\n       <use x=\"127.246094\" xlink:href=\"#DejaVuSans-53\"/>\r\n      </g>\r\n     </g>\r\n    </g>\r\n    <g id=\"ytick_277\">\r\n     <g id=\"line2d_286\">\r\n      <g>\r\n       <use style=\"stroke:#000000;stroke-width:0.8;\" x=\"33.2875\" xlink:href=\"#m086e67bf75\" y=\"131.292638\"/>\r\n      </g>\r\n     </g>\r\n     <g id=\"text_286\">\r\n      <!-- 276 -->\r\n      <g transform=\"translate(7.2 135.091857)scale(0.1 -0.1)\">\r\n       <use xlink:href=\"#DejaVuSans-50\"/>\r\n       <use x=\"63.623047\" xlink:href=\"#DejaVuSans-55\"/>\r\n       <use x=\"127.246094\" xlink:href=\"#DejaVuSans-54\"/>\r\n      </g>\r\n     </g>\r\n    </g>\r\n    <g id=\"ytick_278\">\r\n     <g id=\"line2d_287\">\r\n      <g>\r\n       <use style=\"stroke:#000000;stroke-width:0.8;\" x=\"33.2875\" xlink:href=\"#m086e67bf75\" y=\"130.941928\"/>\r\n      </g>\r\n     </g>\r\n     <g id=\"text_287\">\r\n      <!-- 277 -->\r\n      <g transform=\"translate(7.2 134.741147)scale(0.1 -0.1)\">\r\n       <use xlink:href=\"#DejaVuSans-50\"/>\r\n       <use x=\"63.623047\" xlink:href=\"#DejaVuSans-55\"/>\r\n       <use x=\"127.246094\" xlink:href=\"#DejaVuSans-55\"/>\r\n      </g>\r\n     </g>\r\n    </g>\r\n    <g id=\"ytick_279\">\r\n     <g id=\"line2d_288\">\r\n      <g>\r\n       <use style=\"stroke:#000000;stroke-width:0.8;\" x=\"33.2875\" xlink:href=\"#m086e67bf75\" y=\"130.591219\"/>\r\n      </g>\r\n     </g>\r\n     <g id=\"text_288\">\r\n      <!-- 278 -->\r\n      <g transform=\"translate(7.2 134.390438)scale(0.1 -0.1)\">\r\n       <use xlink:href=\"#DejaVuSans-50\"/>\r\n       <use x=\"63.623047\" xlink:href=\"#DejaVuSans-55\"/>\r\n       <use x=\"127.246094\" xlink:href=\"#DejaVuSans-56\"/>\r\n      </g>\r\n     </g>\r\n    </g>\r\n    <g id=\"ytick_280\">\r\n     <g id=\"line2d_289\">\r\n      <g>\r\n       <use style=\"stroke:#000000;stroke-width:0.8;\" x=\"33.2875\" xlink:href=\"#m086e67bf75\" y=\"130.240509\"/>\r\n      </g>\r\n     </g>\r\n     <g id=\"text_289\">\r\n      <!-- 279 -->\r\n      <g transform=\"translate(7.2 134.039728)scale(0.1 -0.1)\">\r\n       <use xlink:href=\"#DejaVuSans-50\"/>\r\n       <use x=\"63.623047\" xlink:href=\"#DejaVuSans-55\"/>\r\n       <use x=\"127.246094\" xlink:href=\"#DejaVuSans-57\"/>\r\n      </g>\r\n     </g>\r\n    </g>\r\n    <g id=\"ytick_281\">\r\n     <g id=\"line2d_290\">\r\n      <g>\r\n       <use style=\"stroke:#000000;stroke-width:0.8;\" x=\"33.2875\" xlink:href=\"#m086e67bf75\" y=\"129.889799\"/>\r\n      </g>\r\n     </g>\r\n     <g id=\"text_290\">\r\n      <!-- 280 -->\r\n      <g transform=\"translate(7.2 133.689018)scale(0.1 -0.1)\">\r\n       <use xlink:href=\"#DejaVuSans-50\"/>\r\n       <use x=\"63.623047\" xlink:href=\"#DejaVuSans-56\"/>\r\n       <use x=\"127.246094\" xlink:href=\"#DejaVuSans-48\"/>\r\n      </g>\r\n     </g>\r\n    </g>\r\n    <g id=\"ytick_282\">\r\n     <g id=\"line2d_291\">\r\n      <g>\r\n       <use style=\"stroke:#000000;stroke-width:0.8;\" x=\"33.2875\" xlink:href=\"#m086e67bf75\" y=\"129.53909\"/>\r\n      </g>\r\n     </g>\r\n     <g id=\"text_291\">\r\n      <!-- 281 -->\r\n      <g transform=\"translate(7.2 133.338308)scale(0.1 -0.1)\">\r\n       <use xlink:href=\"#DejaVuSans-50\"/>\r\n       <use x=\"63.623047\" xlink:href=\"#DejaVuSans-56\"/>\r\n       <use x=\"127.246094\" xlink:href=\"#DejaVuSans-49\"/>\r\n      </g>\r\n     </g>\r\n    </g>\r\n    <g id=\"ytick_283\">\r\n     <g id=\"line2d_292\">\r\n      <g>\r\n       <use style=\"stroke:#000000;stroke-width:0.8;\" x=\"33.2875\" xlink:href=\"#m086e67bf75\" y=\"129.18838\"/>\r\n      </g>\r\n     </g>\r\n     <g id=\"text_292\">\r\n      <!-- 282 -->\r\n      <g transform=\"translate(7.2 132.987599)scale(0.1 -0.1)\">\r\n       <use xlink:href=\"#DejaVuSans-50\"/>\r\n       <use x=\"63.623047\" xlink:href=\"#DejaVuSans-56\"/>\r\n       <use x=\"127.246094\" xlink:href=\"#DejaVuSans-50\"/>\r\n      </g>\r\n     </g>\r\n    </g>\r\n    <g id=\"ytick_284\">\r\n     <g id=\"line2d_293\">\r\n      <g>\r\n       <use style=\"stroke:#000000;stroke-width:0.8;\" x=\"33.2875\" xlink:href=\"#m086e67bf75\" y=\"128.83767\"/>\r\n      </g>\r\n     </g>\r\n     <g id=\"text_293\">\r\n      <!-- 283 -->\r\n      <g transform=\"translate(7.2 132.636889)scale(0.1 -0.1)\">\r\n       <use xlink:href=\"#DejaVuSans-50\"/>\r\n       <use x=\"63.623047\" xlink:href=\"#DejaVuSans-56\"/>\r\n       <use x=\"127.246094\" xlink:href=\"#DejaVuSans-51\"/>\r\n      </g>\r\n     </g>\r\n    </g>\r\n    <g id=\"ytick_285\">\r\n     <g id=\"line2d_294\">\r\n      <g>\r\n       <use style=\"stroke:#000000;stroke-width:0.8;\" x=\"33.2875\" xlink:href=\"#m086e67bf75\" y=\"128.486961\"/>\r\n      </g>\r\n     </g>\r\n     <g id=\"text_294\">\r\n      <!-- 284 -->\r\n      <g transform=\"translate(7.2 132.286179)scale(0.1 -0.1)\">\r\n       <use xlink:href=\"#DejaVuSans-50\"/>\r\n       <use x=\"63.623047\" xlink:href=\"#DejaVuSans-56\"/>\r\n       <use x=\"127.246094\" xlink:href=\"#DejaVuSans-52\"/>\r\n      </g>\r\n     </g>\r\n    </g>\r\n    <g id=\"ytick_286\">\r\n     <g id=\"line2d_295\">\r\n      <g>\r\n       <use style=\"stroke:#000000;stroke-width:0.8;\" x=\"33.2875\" xlink:href=\"#m086e67bf75\" y=\"128.136251\"/>\r\n      </g>\r\n     </g>\r\n     <g id=\"text_295\">\r\n      <!-- 285 -->\r\n      <g transform=\"translate(7.2 131.93547)scale(0.1 -0.1)\">\r\n       <use xlink:href=\"#DejaVuSans-50\"/>\r\n       <use x=\"63.623047\" xlink:href=\"#DejaVuSans-56\"/>\r\n       <use x=\"127.246094\" xlink:href=\"#DejaVuSans-53\"/>\r\n      </g>\r\n     </g>\r\n    </g>\r\n    <g id=\"ytick_287\">\r\n     <g id=\"line2d_296\">\r\n      <g>\r\n       <use style=\"stroke:#000000;stroke-width:0.8;\" x=\"33.2875\" xlink:href=\"#m086e67bf75\" y=\"127.785541\"/>\r\n      </g>\r\n     </g>\r\n     <g id=\"text_296\">\r\n      <!-- 286 -->\r\n      <g transform=\"translate(7.2 131.58476)scale(0.1 -0.1)\">\r\n       <use xlink:href=\"#DejaVuSans-50\"/>\r\n       <use x=\"63.623047\" xlink:href=\"#DejaVuSans-56\"/>\r\n       <use x=\"127.246094\" xlink:href=\"#DejaVuSans-54\"/>\r\n      </g>\r\n     </g>\r\n    </g>\r\n    <g id=\"ytick_288\">\r\n     <g id=\"line2d_297\">\r\n      <g>\r\n       <use style=\"stroke:#000000;stroke-width:0.8;\" x=\"33.2875\" xlink:href=\"#m086e67bf75\" y=\"127.434832\"/>\r\n      </g>\r\n     </g>\r\n     <g id=\"text_297\">\r\n      <!-- 287 -->\r\n      <g transform=\"translate(7.2 131.23405)scale(0.1 -0.1)\">\r\n       <use xlink:href=\"#DejaVuSans-50\"/>\r\n       <use x=\"63.623047\" xlink:href=\"#DejaVuSans-56\"/>\r\n       <use x=\"127.246094\" xlink:href=\"#DejaVuSans-55\"/>\r\n      </g>\r\n     </g>\r\n    </g>\r\n    <g id=\"ytick_289\">\r\n     <g id=\"line2d_298\">\r\n      <g>\r\n       <use style=\"stroke:#000000;stroke-width:0.8;\" x=\"33.2875\" xlink:href=\"#m086e67bf75\" y=\"127.084122\"/>\r\n      </g>\r\n     </g>\r\n     <g id=\"text_298\">\r\n      <!-- 288 -->\r\n      <g transform=\"translate(7.2 130.883341)scale(0.1 -0.1)\">\r\n       <use xlink:href=\"#DejaVuSans-50\"/>\r\n       <use x=\"63.623047\" xlink:href=\"#DejaVuSans-56\"/>\r\n       <use x=\"127.246094\" xlink:href=\"#DejaVuSans-56\"/>\r\n      </g>\r\n     </g>\r\n    </g>\r\n    <g id=\"ytick_290\">\r\n     <g id=\"line2d_299\">\r\n      <g>\r\n       <use style=\"stroke:#000000;stroke-width:0.8;\" x=\"33.2875\" xlink:href=\"#m086e67bf75\" y=\"126.733412\"/>\r\n      </g>\r\n     </g>\r\n     <g id=\"text_299\">\r\n      <!-- 289 -->\r\n      <g transform=\"translate(7.2 130.532631)scale(0.1 -0.1)\">\r\n       <use xlink:href=\"#DejaVuSans-50\"/>\r\n       <use x=\"63.623047\" xlink:href=\"#DejaVuSans-56\"/>\r\n       <use x=\"127.246094\" xlink:href=\"#DejaVuSans-57\"/>\r\n      </g>\r\n     </g>\r\n    </g>\r\n    <g id=\"ytick_291\">\r\n     <g id=\"line2d_300\">\r\n      <g>\r\n       <use style=\"stroke:#000000;stroke-width:0.8;\" x=\"33.2875\" xlink:href=\"#m086e67bf75\" y=\"126.382703\"/>\r\n      </g>\r\n     </g>\r\n     <g id=\"text_300\">\r\n      <!-- 290 -->\r\n      <g transform=\"translate(7.2 130.181921)scale(0.1 -0.1)\">\r\n       <use xlink:href=\"#DejaVuSans-50\"/>\r\n       <use x=\"63.623047\" xlink:href=\"#DejaVuSans-57\"/>\r\n       <use x=\"127.246094\" xlink:href=\"#DejaVuSans-48\"/>\r\n      </g>\r\n     </g>\r\n    </g>\r\n    <g id=\"ytick_292\">\r\n     <g id=\"line2d_301\">\r\n      <g>\r\n       <use style=\"stroke:#000000;stroke-width:0.8;\" x=\"33.2875\" xlink:href=\"#m086e67bf75\" y=\"126.031993\"/>\r\n      </g>\r\n     </g>\r\n     <g id=\"text_301\">\r\n      <!-- 291 -->\r\n      <g transform=\"translate(7.2 129.831212)scale(0.1 -0.1)\">\r\n       <use xlink:href=\"#DejaVuSans-50\"/>\r\n       <use x=\"63.623047\" xlink:href=\"#DejaVuSans-57\"/>\r\n       <use x=\"127.246094\" xlink:href=\"#DejaVuSans-49\"/>\r\n      </g>\r\n     </g>\r\n    </g>\r\n    <g id=\"ytick_293\">\r\n     <g id=\"line2d_302\">\r\n      <g>\r\n       <use style=\"stroke:#000000;stroke-width:0.8;\" x=\"33.2875\" xlink:href=\"#m086e67bf75\" y=\"125.681283\"/>\r\n      </g>\r\n     </g>\r\n     <g id=\"text_302\">\r\n      <!-- 292 -->\r\n      <g transform=\"translate(7.2 129.480502)scale(0.1 -0.1)\">\r\n       <use xlink:href=\"#DejaVuSans-50\"/>\r\n       <use x=\"63.623047\" xlink:href=\"#DejaVuSans-57\"/>\r\n       <use x=\"127.246094\" xlink:href=\"#DejaVuSans-50\"/>\r\n      </g>\r\n     </g>\r\n    </g>\r\n    <g id=\"ytick_294\">\r\n     <g id=\"line2d_303\">\r\n      <g>\r\n       <use style=\"stroke:#000000;stroke-width:0.8;\" x=\"33.2875\" xlink:href=\"#m086e67bf75\" y=\"125.330574\"/>\r\n      </g>\r\n     </g>\r\n     <g id=\"text_303\">\r\n      <!-- 293 -->\r\n      <g transform=\"translate(7.2 129.129792)scale(0.1 -0.1)\">\r\n       <use xlink:href=\"#DejaVuSans-50\"/>\r\n       <use x=\"63.623047\" xlink:href=\"#DejaVuSans-57\"/>\r\n       <use x=\"127.246094\" xlink:href=\"#DejaVuSans-51\"/>\r\n      </g>\r\n     </g>\r\n    </g>\r\n    <g id=\"ytick_295\">\r\n     <g id=\"line2d_304\">\r\n      <g>\r\n       <use style=\"stroke:#000000;stroke-width:0.8;\" x=\"33.2875\" xlink:href=\"#m086e67bf75\" y=\"124.979864\"/>\r\n      </g>\r\n     </g>\r\n     <g id=\"text_304\">\r\n      <!-- 294 -->\r\n      <g transform=\"translate(7.2 128.779083)scale(0.1 -0.1)\">\r\n       <use xlink:href=\"#DejaVuSans-50\"/>\r\n       <use x=\"63.623047\" xlink:href=\"#DejaVuSans-57\"/>\r\n       <use x=\"127.246094\" xlink:href=\"#DejaVuSans-52\"/>\r\n      </g>\r\n     </g>\r\n    </g>\r\n    <g id=\"ytick_296\">\r\n     <g id=\"line2d_305\">\r\n      <g>\r\n       <use style=\"stroke:#000000;stroke-width:0.8;\" x=\"33.2875\" xlink:href=\"#m086e67bf75\" y=\"124.629154\"/>\r\n      </g>\r\n     </g>\r\n     <g id=\"text_305\">\r\n      <!-- 295 -->\r\n      <g transform=\"translate(7.2 128.428373)scale(0.1 -0.1)\">\r\n       <use xlink:href=\"#DejaVuSans-50\"/>\r\n       <use x=\"63.623047\" xlink:href=\"#DejaVuSans-57\"/>\r\n       <use x=\"127.246094\" xlink:href=\"#DejaVuSans-53\"/>\r\n      </g>\r\n     </g>\r\n    </g>\r\n    <g id=\"ytick_297\">\r\n     <g id=\"line2d_306\">\r\n      <g>\r\n       <use style=\"stroke:#000000;stroke-width:0.8;\" x=\"33.2875\" xlink:href=\"#m086e67bf75\" y=\"124.278445\"/>\r\n      </g>\r\n     </g>\r\n     <g id=\"text_306\">\r\n      <!-- 296 -->\r\n      <g transform=\"translate(7.2 128.077663)scale(0.1 -0.1)\">\r\n       <use xlink:href=\"#DejaVuSans-50\"/>\r\n       <use x=\"63.623047\" xlink:href=\"#DejaVuSans-57\"/>\r\n       <use x=\"127.246094\" xlink:href=\"#DejaVuSans-54\"/>\r\n      </g>\r\n     </g>\r\n    </g>\r\n    <g id=\"ytick_298\">\r\n     <g id=\"line2d_307\">\r\n      <g>\r\n       <use style=\"stroke:#000000;stroke-width:0.8;\" x=\"33.2875\" xlink:href=\"#m086e67bf75\" y=\"123.927735\"/>\r\n      </g>\r\n     </g>\r\n     <g id=\"text_307\">\r\n      <!-- 297 -->\r\n      <g transform=\"translate(7.2 127.726954)scale(0.1 -0.1)\">\r\n       <use xlink:href=\"#DejaVuSans-50\"/>\r\n       <use x=\"63.623047\" xlink:href=\"#DejaVuSans-57\"/>\r\n       <use x=\"127.246094\" xlink:href=\"#DejaVuSans-55\"/>\r\n      </g>\r\n     </g>\r\n    </g>\r\n    <g id=\"ytick_299\">\r\n     <g id=\"line2d_308\">\r\n      <g>\r\n       <use style=\"stroke:#000000;stroke-width:0.8;\" x=\"33.2875\" xlink:href=\"#m086e67bf75\" y=\"123.577025\"/>\r\n      </g>\r\n     </g>\r\n     <g id=\"text_308\">\r\n      <!-- 298 -->\r\n      <g transform=\"translate(7.2 127.376244)scale(0.1 -0.1)\">\r\n       <use xlink:href=\"#DejaVuSans-50\"/>\r\n       <use x=\"63.623047\" xlink:href=\"#DejaVuSans-57\"/>\r\n       <use x=\"127.246094\" xlink:href=\"#DejaVuSans-56\"/>\r\n      </g>\r\n     </g>\r\n    </g>\r\n    <g id=\"ytick_300\">\r\n     <g id=\"line2d_309\">\r\n      <g>\r\n       <use style=\"stroke:#000000;stroke-width:0.8;\" x=\"33.2875\" xlink:href=\"#m086e67bf75\" y=\"123.226316\"/>\r\n      </g>\r\n     </g>\r\n     <g id=\"text_309\">\r\n      <!-- 299 -->\r\n      <g transform=\"translate(7.2 127.025534)scale(0.1 -0.1)\">\r\n       <use xlink:href=\"#DejaVuSans-50\"/>\r\n       <use x=\"63.623047\" xlink:href=\"#DejaVuSans-57\"/>\r\n       <use x=\"127.246094\" xlink:href=\"#DejaVuSans-57\"/>\r\n      </g>\r\n     </g>\r\n    </g>\r\n    <g id=\"ytick_301\">\r\n     <g id=\"line2d_310\">\r\n      <g>\r\n       <use style=\"stroke:#000000;stroke-width:0.8;\" x=\"33.2875\" xlink:href=\"#m086e67bf75\" y=\"122.875606\"/>\r\n      </g>\r\n     </g>\r\n     <g id=\"text_310\">\r\n      <!-- 300 -->\r\n      <g transform=\"translate(7.2 126.674825)scale(0.1 -0.1)\">\r\n       <use xlink:href=\"#DejaVuSans-51\"/>\r\n       <use x=\"63.623047\" xlink:href=\"#DejaVuSans-48\"/>\r\n       <use x=\"127.246094\" xlink:href=\"#DejaVuSans-48\"/>\r\n      </g>\r\n     </g>\r\n    </g>\r\n    <g id=\"ytick_302\">\r\n     <g id=\"line2d_311\">\r\n      <g>\r\n       <use style=\"stroke:#000000;stroke-width:0.8;\" x=\"33.2875\" xlink:href=\"#m086e67bf75\" y=\"122.524896\"/>\r\n      </g>\r\n     </g>\r\n     <g id=\"text_311\">\r\n      <!-- 301 -->\r\n      <g transform=\"translate(7.2 126.324115)scale(0.1 -0.1)\">\r\n       <use xlink:href=\"#DejaVuSans-51\"/>\r\n       <use x=\"63.623047\" xlink:href=\"#DejaVuSans-48\"/>\r\n       <use x=\"127.246094\" xlink:href=\"#DejaVuSans-49\"/>\r\n      </g>\r\n     </g>\r\n    </g>\r\n    <g id=\"ytick_303\">\r\n     <g id=\"line2d_312\">\r\n      <g>\r\n       <use style=\"stroke:#000000;stroke-width:0.8;\" x=\"33.2875\" xlink:href=\"#m086e67bf75\" y=\"122.174186\"/>\r\n      </g>\r\n     </g>\r\n     <g id=\"text_312\">\r\n      <!-- 302 -->\r\n      <g transform=\"translate(7.2 125.973405)scale(0.1 -0.1)\">\r\n       <use xlink:href=\"#DejaVuSans-51\"/>\r\n       <use x=\"63.623047\" xlink:href=\"#DejaVuSans-48\"/>\r\n       <use x=\"127.246094\" xlink:href=\"#DejaVuSans-50\"/>\r\n      </g>\r\n     </g>\r\n    </g>\r\n    <g id=\"ytick_304\">\r\n     <g id=\"line2d_313\">\r\n      <g>\r\n       <use style=\"stroke:#000000;stroke-width:0.8;\" x=\"33.2875\" xlink:href=\"#m086e67bf75\" y=\"121.823477\"/>\r\n      </g>\r\n     </g>\r\n     <g id=\"text_313\">\r\n      <!-- 303 -->\r\n      <g transform=\"translate(7.2 125.622696)scale(0.1 -0.1)\">\r\n       <use xlink:href=\"#DejaVuSans-51\"/>\r\n       <use x=\"63.623047\" xlink:href=\"#DejaVuSans-48\"/>\r\n       <use x=\"127.246094\" xlink:href=\"#DejaVuSans-51\"/>\r\n      </g>\r\n     </g>\r\n    </g>\r\n    <g id=\"ytick_305\">\r\n     <g id=\"line2d_314\">\r\n      <g>\r\n       <use style=\"stroke:#000000;stroke-width:0.8;\" x=\"33.2875\" xlink:href=\"#m086e67bf75\" y=\"121.472767\"/>\r\n      </g>\r\n     </g>\r\n     <g id=\"text_314\">\r\n      <!-- 304 -->\r\n      <g transform=\"translate(7.2 125.271986)scale(0.1 -0.1)\">\r\n       <use xlink:href=\"#DejaVuSans-51\"/>\r\n       <use x=\"63.623047\" xlink:href=\"#DejaVuSans-48\"/>\r\n       <use x=\"127.246094\" xlink:href=\"#DejaVuSans-52\"/>\r\n      </g>\r\n     </g>\r\n    </g>\r\n    <g id=\"ytick_306\">\r\n     <g id=\"line2d_315\">\r\n      <g>\r\n       <use style=\"stroke:#000000;stroke-width:0.8;\" x=\"33.2875\" xlink:href=\"#m086e67bf75\" y=\"121.122057\"/>\r\n      </g>\r\n     </g>\r\n     <g id=\"text_315\">\r\n      <!-- 305 -->\r\n      <g transform=\"translate(7.2 124.921276)scale(0.1 -0.1)\">\r\n       <use xlink:href=\"#DejaVuSans-51\"/>\r\n       <use x=\"63.623047\" xlink:href=\"#DejaVuSans-48\"/>\r\n       <use x=\"127.246094\" xlink:href=\"#DejaVuSans-53\"/>\r\n      </g>\r\n     </g>\r\n    </g>\r\n    <g id=\"ytick_307\">\r\n     <g id=\"line2d_316\">\r\n      <g>\r\n       <use style=\"stroke:#000000;stroke-width:0.8;\" x=\"33.2875\" xlink:href=\"#m086e67bf75\" y=\"120.771348\"/>\r\n      </g>\r\n     </g>\r\n     <g id=\"text_316\">\r\n      <!-- 306 -->\r\n      <g transform=\"translate(7.2 124.570567)scale(0.1 -0.1)\">\r\n       <use xlink:href=\"#DejaVuSans-51\"/>\r\n       <use x=\"63.623047\" xlink:href=\"#DejaVuSans-48\"/>\r\n       <use x=\"127.246094\" xlink:href=\"#DejaVuSans-54\"/>\r\n      </g>\r\n     </g>\r\n    </g>\r\n    <g id=\"ytick_308\">\r\n     <g id=\"line2d_317\">\r\n      <g>\r\n       <use style=\"stroke:#000000;stroke-width:0.8;\" x=\"33.2875\" xlink:href=\"#m086e67bf75\" y=\"120.420638\"/>\r\n      </g>\r\n     </g>\r\n     <g id=\"text_317\">\r\n      <!-- 307 -->\r\n      <g transform=\"translate(7.2 124.219857)scale(0.1 -0.1)\">\r\n       <use xlink:href=\"#DejaVuSans-51\"/>\r\n       <use x=\"63.623047\" xlink:href=\"#DejaVuSans-48\"/>\r\n       <use x=\"127.246094\" xlink:href=\"#DejaVuSans-55\"/>\r\n      </g>\r\n     </g>\r\n    </g>\r\n    <g id=\"ytick_309\">\r\n     <g id=\"line2d_318\">\r\n      <g>\r\n       <use style=\"stroke:#000000;stroke-width:0.8;\" x=\"33.2875\" xlink:href=\"#m086e67bf75\" y=\"120.069928\"/>\r\n      </g>\r\n     </g>\r\n     <g id=\"text_318\">\r\n      <!-- 308 -->\r\n      <g transform=\"translate(7.2 123.869147)scale(0.1 -0.1)\">\r\n       <use xlink:href=\"#DejaVuSans-51\"/>\r\n       <use x=\"63.623047\" xlink:href=\"#DejaVuSans-48\"/>\r\n       <use x=\"127.246094\" xlink:href=\"#DejaVuSans-56\"/>\r\n      </g>\r\n     </g>\r\n    </g>\r\n    <g id=\"ytick_310\">\r\n     <g id=\"line2d_319\">\r\n      <g>\r\n       <use style=\"stroke:#000000;stroke-width:0.8;\" x=\"33.2875\" xlink:href=\"#m086e67bf75\" y=\"119.719219\"/>\r\n      </g>\r\n     </g>\r\n     <g id=\"text_319\">\r\n      <!-- 309 -->\r\n      <g transform=\"translate(7.2 123.518438)scale(0.1 -0.1)\">\r\n       <use xlink:href=\"#DejaVuSans-51\"/>\r\n       <use x=\"63.623047\" xlink:href=\"#DejaVuSans-48\"/>\r\n       <use x=\"127.246094\" xlink:href=\"#DejaVuSans-57\"/>\r\n      </g>\r\n     </g>\r\n    </g>\r\n    <g id=\"ytick_311\">\r\n     <g id=\"line2d_320\">\r\n      <g>\r\n       <use style=\"stroke:#000000;stroke-width:0.8;\" x=\"33.2875\" xlink:href=\"#m086e67bf75\" y=\"119.368509\"/>\r\n      </g>\r\n     </g>\r\n     <g id=\"text_320\">\r\n      <!-- 310 -->\r\n      <g transform=\"translate(7.2 123.167728)scale(0.1 -0.1)\">\r\n       <use xlink:href=\"#DejaVuSans-51\"/>\r\n       <use x=\"63.623047\" xlink:href=\"#DejaVuSans-49\"/>\r\n       <use x=\"127.246094\" xlink:href=\"#DejaVuSans-48\"/>\r\n      </g>\r\n     </g>\r\n    </g>\r\n    <g id=\"ytick_312\">\r\n     <g id=\"line2d_321\">\r\n      <g>\r\n       <use style=\"stroke:#000000;stroke-width:0.8;\" x=\"33.2875\" xlink:href=\"#m086e67bf75\" y=\"119.017799\"/>\r\n      </g>\r\n     </g>\r\n     <g id=\"text_321\">\r\n      <!-- 311 -->\r\n      <g transform=\"translate(7.2 122.817018)scale(0.1 -0.1)\">\r\n       <use xlink:href=\"#DejaVuSans-51\"/>\r\n       <use x=\"63.623047\" xlink:href=\"#DejaVuSans-49\"/>\r\n       <use x=\"127.246094\" xlink:href=\"#DejaVuSans-49\"/>\r\n      </g>\r\n     </g>\r\n    </g>\r\n    <g id=\"ytick_313\">\r\n     <g id=\"line2d_322\">\r\n      <g>\r\n       <use style=\"stroke:#000000;stroke-width:0.8;\" x=\"33.2875\" xlink:href=\"#m086e67bf75\" y=\"118.66709\"/>\r\n      </g>\r\n     </g>\r\n     <g id=\"text_322\">\r\n      <!-- 312 -->\r\n      <g transform=\"translate(7.2 122.466308)scale(0.1 -0.1)\">\r\n       <use xlink:href=\"#DejaVuSans-51\"/>\r\n       <use x=\"63.623047\" xlink:href=\"#DejaVuSans-49\"/>\r\n       <use x=\"127.246094\" xlink:href=\"#DejaVuSans-50\"/>\r\n      </g>\r\n     </g>\r\n    </g>\r\n    <g id=\"ytick_314\">\r\n     <g id=\"line2d_323\">\r\n      <g>\r\n       <use style=\"stroke:#000000;stroke-width:0.8;\" x=\"33.2875\" xlink:href=\"#m086e67bf75\" y=\"118.31638\"/>\r\n      </g>\r\n     </g>\r\n     <g id=\"text_323\">\r\n      <!-- 313 -->\r\n      <g transform=\"translate(7.2 122.115599)scale(0.1 -0.1)\">\r\n       <use xlink:href=\"#DejaVuSans-51\"/>\r\n       <use x=\"63.623047\" xlink:href=\"#DejaVuSans-49\"/>\r\n       <use x=\"127.246094\" xlink:href=\"#DejaVuSans-51\"/>\r\n      </g>\r\n     </g>\r\n    </g>\r\n    <g id=\"ytick_315\">\r\n     <g id=\"line2d_324\">\r\n      <g>\r\n       <use style=\"stroke:#000000;stroke-width:0.8;\" x=\"33.2875\" xlink:href=\"#m086e67bf75\" y=\"117.96567\"/>\r\n      </g>\r\n     </g>\r\n     <g id=\"text_324\">\r\n      <!-- 314 -->\r\n      <g transform=\"translate(7.2 121.764889)scale(0.1 -0.1)\">\r\n       <use xlink:href=\"#DejaVuSans-51\"/>\r\n       <use x=\"63.623047\" xlink:href=\"#DejaVuSans-49\"/>\r\n       <use x=\"127.246094\" xlink:href=\"#DejaVuSans-52\"/>\r\n      </g>\r\n     </g>\r\n    </g>\r\n    <g id=\"ytick_316\">\r\n     <g id=\"line2d_325\">\r\n      <g>\r\n       <use style=\"stroke:#000000;stroke-width:0.8;\" x=\"33.2875\" xlink:href=\"#m086e67bf75\" y=\"117.614961\"/>\r\n      </g>\r\n     </g>\r\n     <g id=\"text_325\">\r\n      <!-- 315 -->\r\n      <g transform=\"translate(7.2 121.414179)scale(0.1 -0.1)\">\r\n       <use xlink:href=\"#DejaVuSans-51\"/>\r\n       <use x=\"63.623047\" xlink:href=\"#DejaVuSans-49\"/>\r\n       <use x=\"127.246094\" xlink:href=\"#DejaVuSans-53\"/>\r\n      </g>\r\n     </g>\r\n    </g>\r\n    <g id=\"ytick_317\">\r\n     <g id=\"line2d_326\">\r\n      <g>\r\n       <use style=\"stroke:#000000;stroke-width:0.8;\" x=\"33.2875\" xlink:href=\"#m086e67bf75\" y=\"117.264251\"/>\r\n      </g>\r\n     </g>\r\n     <g id=\"text_326\">\r\n      <!-- 316 -->\r\n      <g transform=\"translate(7.2 121.06347)scale(0.1 -0.1)\">\r\n       <use xlink:href=\"#DejaVuSans-51\"/>\r\n       <use x=\"63.623047\" xlink:href=\"#DejaVuSans-49\"/>\r\n       <use x=\"127.246094\" xlink:href=\"#DejaVuSans-54\"/>\r\n      </g>\r\n     </g>\r\n    </g>\r\n    <g id=\"ytick_318\">\r\n     <g id=\"line2d_327\">\r\n      <g>\r\n       <use style=\"stroke:#000000;stroke-width:0.8;\" x=\"33.2875\" xlink:href=\"#m086e67bf75\" y=\"116.913541\"/>\r\n      </g>\r\n     </g>\r\n     <g id=\"text_327\">\r\n      <!-- 317 -->\r\n      <g transform=\"translate(7.2 120.71276)scale(0.1 -0.1)\">\r\n       <use xlink:href=\"#DejaVuSans-51\"/>\r\n       <use x=\"63.623047\" xlink:href=\"#DejaVuSans-49\"/>\r\n       <use x=\"127.246094\" xlink:href=\"#DejaVuSans-55\"/>\r\n      </g>\r\n     </g>\r\n    </g>\r\n    <g id=\"ytick_319\">\r\n     <g id=\"line2d_328\">\r\n      <g>\r\n       <use style=\"stroke:#000000;stroke-width:0.8;\" x=\"33.2875\" xlink:href=\"#m086e67bf75\" y=\"116.562832\"/>\r\n      </g>\r\n     </g>\r\n     <g id=\"text_328\">\r\n      <!-- 318 -->\r\n      <g transform=\"translate(7.2 120.36205)scale(0.1 -0.1)\">\r\n       <use xlink:href=\"#DejaVuSans-51\"/>\r\n       <use x=\"63.623047\" xlink:href=\"#DejaVuSans-49\"/>\r\n       <use x=\"127.246094\" xlink:href=\"#DejaVuSans-56\"/>\r\n      </g>\r\n     </g>\r\n    </g>\r\n    <g id=\"ytick_320\">\r\n     <g id=\"line2d_329\">\r\n      <g>\r\n       <use style=\"stroke:#000000;stroke-width:0.8;\" x=\"33.2875\" xlink:href=\"#m086e67bf75\" y=\"116.212122\"/>\r\n      </g>\r\n     </g>\r\n     <g id=\"text_329\">\r\n      <!-- 319 -->\r\n      <g transform=\"translate(7.2 120.011341)scale(0.1 -0.1)\">\r\n       <use xlink:href=\"#DejaVuSans-51\"/>\r\n       <use x=\"63.623047\" xlink:href=\"#DejaVuSans-49\"/>\r\n       <use x=\"127.246094\" xlink:href=\"#DejaVuSans-57\"/>\r\n      </g>\r\n     </g>\r\n    </g>\r\n    <g id=\"ytick_321\">\r\n     <g id=\"line2d_330\">\r\n      <g>\r\n       <use style=\"stroke:#000000;stroke-width:0.8;\" x=\"33.2875\" xlink:href=\"#m086e67bf75\" y=\"115.861412\"/>\r\n      </g>\r\n     </g>\r\n     <g id=\"text_330\">\r\n      <!-- 320 -->\r\n      <g transform=\"translate(7.2 119.660631)scale(0.1 -0.1)\">\r\n       <use xlink:href=\"#DejaVuSans-51\"/>\r\n       <use x=\"63.623047\" xlink:href=\"#DejaVuSans-50\"/>\r\n       <use x=\"127.246094\" xlink:href=\"#DejaVuSans-48\"/>\r\n      </g>\r\n     </g>\r\n    </g>\r\n    <g id=\"ytick_322\">\r\n     <g id=\"line2d_331\">\r\n      <g>\r\n       <use style=\"stroke:#000000;stroke-width:0.8;\" x=\"33.2875\" xlink:href=\"#m086e67bf75\" y=\"115.510703\"/>\r\n      </g>\r\n     </g>\r\n     <g id=\"text_331\">\r\n      <!-- 321 -->\r\n      <g transform=\"translate(7.2 119.309921)scale(0.1 -0.1)\">\r\n       <use xlink:href=\"#DejaVuSans-51\"/>\r\n       <use x=\"63.623047\" xlink:href=\"#DejaVuSans-50\"/>\r\n       <use x=\"127.246094\" xlink:href=\"#DejaVuSans-49\"/>\r\n      </g>\r\n     </g>\r\n    </g>\r\n    <g id=\"ytick_323\">\r\n     <g id=\"line2d_332\">\r\n      <g>\r\n       <use style=\"stroke:#000000;stroke-width:0.8;\" x=\"33.2875\" xlink:href=\"#m086e67bf75\" y=\"115.159993\"/>\r\n      </g>\r\n     </g>\r\n     <g id=\"text_332\">\r\n      <!-- 322 -->\r\n      <g transform=\"translate(7.2 118.959212)scale(0.1 -0.1)\">\r\n       <use xlink:href=\"#DejaVuSans-51\"/>\r\n       <use x=\"63.623047\" xlink:href=\"#DejaVuSans-50\"/>\r\n       <use x=\"127.246094\" xlink:href=\"#DejaVuSans-50\"/>\r\n      </g>\r\n     </g>\r\n    </g>\r\n    <g id=\"ytick_324\">\r\n     <g id=\"line2d_333\">\r\n      <g>\r\n       <use style=\"stroke:#000000;stroke-width:0.8;\" x=\"33.2875\" xlink:href=\"#m086e67bf75\" y=\"114.809283\"/>\r\n      </g>\r\n     </g>\r\n     <g id=\"text_333\">\r\n      <!-- 323 -->\r\n      <g transform=\"translate(7.2 118.608502)scale(0.1 -0.1)\">\r\n       <use xlink:href=\"#DejaVuSans-51\"/>\r\n       <use x=\"63.623047\" xlink:href=\"#DejaVuSans-50\"/>\r\n       <use x=\"127.246094\" xlink:href=\"#DejaVuSans-51\"/>\r\n      </g>\r\n     </g>\r\n    </g>\r\n    <g id=\"ytick_325\">\r\n     <g id=\"line2d_334\">\r\n      <g>\r\n       <use style=\"stroke:#000000;stroke-width:0.8;\" x=\"33.2875\" xlink:href=\"#m086e67bf75\" y=\"114.458574\"/>\r\n      </g>\r\n     </g>\r\n     <g id=\"text_334\">\r\n      <!-- 324 -->\r\n      <g transform=\"translate(7.2 118.257792)scale(0.1 -0.1)\">\r\n       <use xlink:href=\"#DejaVuSans-51\"/>\r\n       <use x=\"63.623047\" xlink:href=\"#DejaVuSans-50\"/>\r\n       <use x=\"127.246094\" xlink:href=\"#DejaVuSans-52\"/>\r\n      </g>\r\n     </g>\r\n    </g>\r\n    <g id=\"ytick_326\">\r\n     <g id=\"line2d_335\">\r\n      <g>\r\n       <use style=\"stroke:#000000;stroke-width:0.8;\" x=\"33.2875\" xlink:href=\"#m086e67bf75\" y=\"114.107864\"/>\r\n      </g>\r\n     </g>\r\n     <g id=\"text_335\">\r\n      <!-- 325 -->\r\n      <g transform=\"translate(7.2 117.907083)scale(0.1 -0.1)\">\r\n       <use xlink:href=\"#DejaVuSans-51\"/>\r\n       <use x=\"63.623047\" xlink:href=\"#DejaVuSans-50\"/>\r\n       <use x=\"127.246094\" xlink:href=\"#DejaVuSans-53\"/>\r\n      </g>\r\n     </g>\r\n    </g>\r\n    <g id=\"ytick_327\">\r\n     <g id=\"line2d_336\">\r\n      <g>\r\n       <use style=\"stroke:#000000;stroke-width:0.8;\" x=\"33.2875\" xlink:href=\"#m086e67bf75\" y=\"113.757154\"/>\r\n      </g>\r\n     </g>\r\n     <g id=\"text_336\">\r\n      <!-- 326 -->\r\n      <g transform=\"translate(7.2 117.556373)scale(0.1 -0.1)\">\r\n       <use xlink:href=\"#DejaVuSans-51\"/>\r\n       <use x=\"63.623047\" xlink:href=\"#DejaVuSans-50\"/>\r\n       <use x=\"127.246094\" xlink:href=\"#DejaVuSans-54\"/>\r\n      </g>\r\n     </g>\r\n    </g>\r\n    <g id=\"ytick_328\">\r\n     <g id=\"line2d_337\">\r\n      <g>\r\n       <use style=\"stroke:#000000;stroke-width:0.8;\" x=\"33.2875\" xlink:href=\"#m086e67bf75\" y=\"113.406445\"/>\r\n      </g>\r\n     </g>\r\n     <g id=\"text_337\">\r\n      <!-- 327 -->\r\n      <g transform=\"translate(7.2 117.205663)scale(0.1 -0.1)\">\r\n       <use xlink:href=\"#DejaVuSans-51\"/>\r\n       <use x=\"63.623047\" xlink:href=\"#DejaVuSans-50\"/>\r\n       <use x=\"127.246094\" xlink:href=\"#DejaVuSans-55\"/>\r\n      </g>\r\n     </g>\r\n    </g>\r\n    <g id=\"ytick_329\">\r\n     <g id=\"line2d_338\">\r\n      <g>\r\n       <use style=\"stroke:#000000;stroke-width:0.8;\" x=\"33.2875\" xlink:href=\"#m086e67bf75\" y=\"113.055735\"/>\r\n      </g>\r\n     </g>\r\n     <g id=\"text_338\">\r\n      <!-- 328 -->\r\n      <g transform=\"translate(7.2 116.854954)scale(0.1 -0.1)\">\r\n       <use xlink:href=\"#DejaVuSans-51\"/>\r\n       <use x=\"63.623047\" xlink:href=\"#DejaVuSans-50\"/>\r\n       <use x=\"127.246094\" xlink:href=\"#DejaVuSans-56\"/>\r\n      </g>\r\n     </g>\r\n    </g>\r\n    <g id=\"ytick_330\">\r\n     <g id=\"line2d_339\">\r\n      <g>\r\n       <use style=\"stroke:#000000;stroke-width:0.8;\" x=\"33.2875\" xlink:href=\"#m086e67bf75\" y=\"112.705025\"/>\r\n      </g>\r\n     </g>\r\n     <g id=\"text_339\">\r\n      <!-- 329 -->\r\n      <g transform=\"translate(7.2 116.504244)scale(0.1 -0.1)\">\r\n       <use xlink:href=\"#DejaVuSans-51\"/>\r\n       <use x=\"63.623047\" xlink:href=\"#DejaVuSans-50\"/>\r\n       <use x=\"127.246094\" xlink:href=\"#DejaVuSans-57\"/>\r\n      </g>\r\n     </g>\r\n    </g>\r\n    <g id=\"ytick_331\">\r\n     <g id=\"line2d_340\">\r\n      <g>\r\n       <use style=\"stroke:#000000;stroke-width:0.8;\" x=\"33.2875\" xlink:href=\"#m086e67bf75\" y=\"112.354316\"/>\r\n      </g>\r\n     </g>\r\n     <g id=\"text_340\">\r\n      <!-- 330 -->\r\n      <g transform=\"translate(7.2 116.153534)scale(0.1 -0.1)\">\r\n       <use xlink:href=\"#DejaVuSans-51\"/>\r\n       <use x=\"63.623047\" xlink:href=\"#DejaVuSans-51\"/>\r\n       <use x=\"127.246094\" xlink:href=\"#DejaVuSans-48\"/>\r\n      </g>\r\n     </g>\r\n    </g>\r\n    <g id=\"ytick_332\">\r\n     <g id=\"line2d_341\">\r\n      <g>\r\n       <use style=\"stroke:#000000;stroke-width:0.8;\" x=\"33.2875\" xlink:href=\"#m086e67bf75\" y=\"112.003606\"/>\r\n      </g>\r\n     </g>\r\n     <g id=\"text_341\">\r\n      <!-- 331 -->\r\n      <g transform=\"translate(7.2 115.802825)scale(0.1 -0.1)\">\r\n       <use xlink:href=\"#DejaVuSans-51\"/>\r\n       <use x=\"63.623047\" xlink:href=\"#DejaVuSans-51\"/>\r\n       <use x=\"127.246094\" xlink:href=\"#DejaVuSans-49\"/>\r\n      </g>\r\n     </g>\r\n    </g>\r\n    <g id=\"ytick_333\">\r\n     <g id=\"line2d_342\">\r\n      <g>\r\n       <use style=\"stroke:#000000;stroke-width:0.8;\" x=\"33.2875\" xlink:href=\"#m086e67bf75\" y=\"111.652896\"/>\r\n      </g>\r\n     </g>\r\n     <g id=\"text_342\">\r\n      <!-- 332 -->\r\n      <g transform=\"translate(7.2 115.452115)scale(0.1 -0.1)\">\r\n       <use xlink:href=\"#DejaVuSans-51\"/>\r\n       <use x=\"63.623047\" xlink:href=\"#DejaVuSans-51\"/>\r\n       <use x=\"127.246094\" xlink:href=\"#DejaVuSans-50\"/>\r\n      </g>\r\n     </g>\r\n    </g>\r\n    <g id=\"ytick_334\">\r\n     <g id=\"line2d_343\">\r\n      <g>\r\n       <use style=\"stroke:#000000;stroke-width:0.8;\" x=\"33.2875\" xlink:href=\"#m086e67bf75\" y=\"111.302186\"/>\r\n      </g>\r\n     </g>\r\n     <g id=\"text_343\">\r\n      <!-- 333 -->\r\n      <g transform=\"translate(7.2 115.101405)scale(0.1 -0.1)\">\r\n       <use xlink:href=\"#DejaVuSans-51\"/>\r\n       <use x=\"63.623047\" xlink:href=\"#DejaVuSans-51\"/>\r\n       <use x=\"127.246094\" xlink:href=\"#DejaVuSans-51\"/>\r\n      </g>\r\n     </g>\r\n    </g>\r\n    <g id=\"ytick_335\">\r\n     <g id=\"line2d_344\">\r\n      <g>\r\n       <use style=\"stroke:#000000;stroke-width:0.8;\" x=\"33.2875\" xlink:href=\"#m086e67bf75\" y=\"110.951477\"/>\r\n      </g>\r\n     </g>\r\n     <g id=\"text_344\">\r\n      <!-- 334 -->\r\n      <g transform=\"translate(7.2 114.750696)scale(0.1 -0.1)\">\r\n       <use xlink:href=\"#DejaVuSans-51\"/>\r\n       <use x=\"63.623047\" xlink:href=\"#DejaVuSans-51\"/>\r\n       <use x=\"127.246094\" xlink:href=\"#DejaVuSans-52\"/>\r\n      </g>\r\n     </g>\r\n    </g>\r\n    <g id=\"ytick_336\">\r\n     <g id=\"line2d_345\">\r\n      <g>\r\n       <use style=\"stroke:#000000;stroke-width:0.8;\" x=\"33.2875\" xlink:href=\"#m086e67bf75\" y=\"110.600767\"/>\r\n      </g>\r\n     </g>\r\n     <g id=\"text_345\">\r\n      <!-- 335 -->\r\n      <g transform=\"translate(7.2 114.399986)scale(0.1 -0.1)\">\r\n       <use xlink:href=\"#DejaVuSans-51\"/>\r\n       <use x=\"63.623047\" xlink:href=\"#DejaVuSans-51\"/>\r\n       <use x=\"127.246094\" xlink:href=\"#DejaVuSans-53\"/>\r\n      </g>\r\n     </g>\r\n    </g>\r\n    <g id=\"ytick_337\">\r\n     <g id=\"line2d_346\">\r\n      <g>\r\n       <use style=\"stroke:#000000;stroke-width:0.8;\" x=\"33.2875\" xlink:href=\"#m086e67bf75\" y=\"110.250057\"/>\r\n      </g>\r\n     </g>\r\n     <g id=\"text_346\">\r\n      <!-- 336 -->\r\n      <g transform=\"translate(7.2 114.049276)scale(0.1 -0.1)\">\r\n       <use xlink:href=\"#DejaVuSans-51\"/>\r\n       <use x=\"63.623047\" xlink:href=\"#DejaVuSans-51\"/>\r\n       <use x=\"127.246094\" xlink:href=\"#DejaVuSans-54\"/>\r\n      </g>\r\n     </g>\r\n    </g>\r\n    <g id=\"ytick_338\">\r\n     <g id=\"line2d_347\">\r\n      <g>\r\n       <use style=\"stroke:#000000;stroke-width:0.8;\" x=\"33.2875\" xlink:href=\"#m086e67bf75\" y=\"109.899348\"/>\r\n      </g>\r\n     </g>\r\n     <g id=\"text_347\">\r\n      <!-- 337 -->\r\n      <g transform=\"translate(7.2 113.698567)scale(0.1 -0.1)\">\r\n       <use xlink:href=\"#DejaVuSans-51\"/>\r\n       <use x=\"63.623047\" xlink:href=\"#DejaVuSans-51\"/>\r\n       <use x=\"127.246094\" xlink:href=\"#DejaVuSans-55\"/>\r\n      </g>\r\n     </g>\r\n    </g>\r\n    <g id=\"ytick_339\">\r\n     <g id=\"line2d_348\">\r\n      <g>\r\n       <use style=\"stroke:#000000;stroke-width:0.8;\" x=\"33.2875\" xlink:href=\"#m086e67bf75\" y=\"109.548638\"/>\r\n      </g>\r\n     </g>\r\n     <g id=\"text_348\">\r\n      <!-- 338 -->\r\n      <g transform=\"translate(7.2 113.347857)scale(0.1 -0.1)\">\r\n       <use xlink:href=\"#DejaVuSans-51\"/>\r\n       <use x=\"63.623047\" xlink:href=\"#DejaVuSans-51\"/>\r\n       <use x=\"127.246094\" xlink:href=\"#DejaVuSans-56\"/>\r\n      </g>\r\n     </g>\r\n    </g>\r\n    <g id=\"ytick_340\">\r\n     <g id=\"line2d_349\">\r\n      <g>\r\n       <use style=\"stroke:#000000;stroke-width:0.8;\" x=\"33.2875\" xlink:href=\"#m086e67bf75\" y=\"109.197928\"/>\r\n      </g>\r\n     </g>\r\n     <g id=\"text_349\">\r\n      <!-- 339 -->\r\n      <g transform=\"translate(7.2 112.997147)scale(0.1 -0.1)\">\r\n       <use xlink:href=\"#DejaVuSans-51\"/>\r\n       <use x=\"63.623047\" xlink:href=\"#DejaVuSans-51\"/>\r\n       <use x=\"127.246094\" xlink:href=\"#DejaVuSans-57\"/>\r\n      </g>\r\n     </g>\r\n    </g>\r\n    <g id=\"ytick_341\">\r\n     <g id=\"line2d_350\">\r\n      <g>\r\n       <use style=\"stroke:#000000;stroke-width:0.8;\" x=\"33.2875\" xlink:href=\"#m086e67bf75\" y=\"108.847219\"/>\r\n      </g>\r\n     </g>\r\n     <g id=\"text_350\">\r\n      <!-- 340 -->\r\n      <g transform=\"translate(7.2 112.646438)scale(0.1 -0.1)\">\r\n       <use xlink:href=\"#DejaVuSans-51\"/>\r\n       <use x=\"63.623047\" xlink:href=\"#DejaVuSans-52\"/>\r\n       <use x=\"127.246094\" xlink:href=\"#DejaVuSans-48\"/>\r\n      </g>\r\n     </g>\r\n    </g>\r\n    <g id=\"ytick_342\">\r\n     <g id=\"line2d_351\">\r\n      <g>\r\n       <use style=\"stroke:#000000;stroke-width:0.8;\" x=\"33.2875\" xlink:href=\"#m086e67bf75\" y=\"108.496509\"/>\r\n      </g>\r\n     </g>\r\n     <g id=\"text_351\">\r\n      <!-- 341 -->\r\n      <g transform=\"translate(7.2 112.295728)scale(0.1 -0.1)\">\r\n       <use xlink:href=\"#DejaVuSans-51\"/>\r\n       <use x=\"63.623047\" xlink:href=\"#DejaVuSans-52\"/>\r\n       <use x=\"127.246094\" xlink:href=\"#DejaVuSans-49\"/>\r\n      </g>\r\n     </g>\r\n    </g>\r\n    <g id=\"ytick_343\">\r\n     <g id=\"line2d_352\">\r\n      <g>\r\n       <use style=\"stroke:#000000;stroke-width:0.8;\" x=\"33.2875\" xlink:href=\"#m086e67bf75\" y=\"108.145799\"/>\r\n      </g>\r\n     </g>\r\n     <g id=\"text_352\">\r\n      <!-- 342 -->\r\n      <g transform=\"translate(7.2 111.945018)scale(0.1 -0.1)\">\r\n       <use xlink:href=\"#DejaVuSans-51\"/>\r\n       <use x=\"63.623047\" xlink:href=\"#DejaVuSans-52\"/>\r\n       <use x=\"127.246094\" xlink:href=\"#DejaVuSans-50\"/>\r\n      </g>\r\n     </g>\r\n    </g>\r\n    <g id=\"ytick_344\">\r\n     <g id=\"line2d_353\">\r\n      <g>\r\n       <use style=\"stroke:#000000;stroke-width:0.8;\" x=\"33.2875\" xlink:href=\"#m086e67bf75\" y=\"107.79509\"/>\r\n      </g>\r\n     </g>\r\n     <g id=\"text_353\">\r\n      <!-- 343 -->\r\n      <g transform=\"translate(7.2 111.594308)scale(0.1 -0.1)\">\r\n       <use xlink:href=\"#DejaVuSans-51\"/>\r\n       <use x=\"63.623047\" xlink:href=\"#DejaVuSans-52\"/>\r\n       <use x=\"127.246094\" xlink:href=\"#DejaVuSans-51\"/>\r\n      </g>\r\n     </g>\r\n    </g>\r\n    <g id=\"ytick_345\">\r\n     <g id=\"line2d_354\">\r\n      <g>\r\n       <use style=\"stroke:#000000;stroke-width:0.8;\" x=\"33.2875\" xlink:href=\"#m086e67bf75\" y=\"107.44438\"/>\r\n      </g>\r\n     </g>\r\n     <g id=\"text_354\">\r\n      <!-- 344 -->\r\n      <g transform=\"translate(7.2 111.243599)scale(0.1 -0.1)\">\r\n       <use xlink:href=\"#DejaVuSans-51\"/>\r\n       <use x=\"63.623047\" xlink:href=\"#DejaVuSans-52\"/>\r\n       <use x=\"127.246094\" xlink:href=\"#DejaVuSans-52\"/>\r\n      </g>\r\n     </g>\r\n    </g>\r\n    <g id=\"ytick_346\">\r\n     <g id=\"line2d_355\">\r\n      <g>\r\n       <use style=\"stroke:#000000;stroke-width:0.8;\" x=\"33.2875\" xlink:href=\"#m086e67bf75\" y=\"107.09367\"/>\r\n      </g>\r\n     </g>\r\n     <g id=\"text_355\">\r\n      <!-- 345 -->\r\n      <g transform=\"translate(7.2 110.892889)scale(0.1 -0.1)\">\r\n       <use xlink:href=\"#DejaVuSans-51\"/>\r\n       <use x=\"63.623047\" xlink:href=\"#DejaVuSans-52\"/>\r\n       <use x=\"127.246094\" xlink:href=\"#DejaVuSans-53\"/>\r\n      </g>\r\n     </g>\r\n    </g>\r\n    <g id=\"ytick_347\">\r\n     <g id=\"line2d_356\">\r\n      <g>\r\n       <use style=\"stroke:#000000;stroke-width:0.8;\" x=\"33.2875\" xlink:href=\"#m086e67bf75\" y=\"106.742961\"/>\r\n      </g>\r\n     </g>\r\n     <g id=\"text_356\">\r\n      <!-- 346 -->\r\n      <g transform=\"translate(7.2 110.542179)scale(0.1 -0.1)\">\r\n       <use xlink:href=\"#DejaVuSans-51\"/>\r\n       <use x=\"63.623047\" xlink:href=\"#DejaVuSans-52\"/>\r\n       <use x=\"127.246094\" xlink:href=\"#DejaVuSans-54\"/>\r\n      </g>\r\n     </g>\r\n    </g>\r\n    <g id=\"ytick_348\">\r\n     <g id=\"line2d_357\">\r\n      <g>\r\n       <use style=\"stroke:#000000;stroke-width:0.8;\" x=\"33.2875\" xlink:href=\"#m086e67bf75\" y=\"106.392251\"/>\r\n      </g>\r\n     </g>\r\n     <g id=\"text_357\">\r\n      <!-- 347 -->\r\n      <g transform=\"translate(7.2 110.19147)scale(0.1 -0.1)\">\r\n       <use xlink:href=\"#DejaVuSans-51\"/>\r\n       <use x=\"63.623047\" xlink:href=\"#DejaVuSans-52\"/>\r\n       <use x=\"127.246094\" xlink:href=\"#DejaVuSans-55\"/>\r\n      </g>\r\n     </g>\r\n    </g>\r\n    <g id=\"ytick_349\">\r\n     <g id=\"line2d_358\">\r\n      <g>\r\n       <use style=\"stroke:#000000;stroke-width:0.8;\" x=\"33.2875\" xlink:href=\"#m086e67bf75\" y=\"106.041541\"/>\r\n      </g>\r\n     </g>\r\n     <g id=\"text_358\">\r\n      <!-- 348 -->\r\n      <g transform=\"translate(7.2 109.84076)scale(0.1 -0.1)\">\r\n       <use xlink:href=\"#DejaVuSans-51\"/>\r\n       <use x=\"63.623047\" xlink:href=\"#DejaVuSans-52\"/>\r\n       <use x=\"127.246094\" xlink:href=\"#DejaVuSans-56\"/>\r\n      </g>\r\n     </g>\r\n    </g>\r\n    <g id=\"ytick_350\">\r\n     <g id=\"line2d_359\">\r\n      <g>\r\n       <use style=\"stroke:#000000;stroke-width:0.8;\" x=\"33.2875\" xlink:href=\"#m086e67bf75\" y=\"105.690832\"/>\r\n      </g>\r\n     </g>\r\n     <g id=\"text_359\">\r\n      <!-- 349 -->\r\n      <g transform=\"translate(7.2 109.49005)scale(0.1 -0.1)\">\r\n       <use xlink:href=\"#DejaVuSans-51\"/>\r\n       <use x=\"63.623047\" xlink:href=\"#DejaVuSans-52\"/>\r\n       <use x=\"127.246094\" xlink:href=\"#DejaVuSans-57\"/>\r\n      </g>\r\n     </g>\r\n    </g>\r\n    <g id=\"ytick_351\">\r\n     <g id=\"line2d_360\">\r\n      <g>\r\n       <use style=\"stroke:#000000;stroke-width:0.8;\" x=\"33.2875\" xlink:href=\"#m086e67bf75\" y=\"105.340122\"/>\r\n      </g>\r\n     </g>\r\n     <g id=\"text_360\">\r\n      <!-- 350 -->\r\n      <g transform=\"translate(7.2 109.139341)scale(0.1 -0.1)\">\r\n       <use xlink:href=\"#DejaVuSans-51\"/>\r\n       <use x=\"63.623047\" xlink:href=\"#DejaVuSans-53\"/>\r\n       <use x=\"127.246094\" xlink:href=\"#DejaVuSans-48\"/>\r\n      </g>\r\n     </g>\r\n    </g>\r\n    <g id=\"ytick_352\">\r\n     <g id=\"line2d_361\">\r\n      <g>\r\n       <use style=\"stroke:#000000;stroke-width:0.8;\" x=\"33.2875\" xlink:href=\"#m086e67bf75\" y=\"104.989412\"/>\r\n      </g>\r\n     </g>\r\n     <g id=\"text_361\">\r\n      <!-- 351 -->\r\n      <g transform=\"translate(7.2 108.788631)scale(0.1 -0.1)\">\r\n       <use xlink:href=\"#DejaVuSans-51\"/>\r\n       <use x=\"63.623047\" xlink:href=\"#DejaVuSans-53\"/>\r\n       <use x=\"127.246094\" xlink:href=\"#DejaVuSans-49\"/>\r\n      </g>\r\n     </g>\r\n    </g>\r\n    <g id=\"ytick_353\">\r\n     <g id=\"line2d_362\">\r\n      <g>\r\n       <use style=\"stroke:#000000;stroke-width:0.8;\" x=\"33.2875\" xlink:href=\"#m086e67bf75\" y=\"104.638703\"/>\r\n      </g>\r\n     </g>\r\n     <g id=\"text_362\">\r\n      <!-- 352 -->\r\n      <g transform=\"translate(7.2 108.437921)scale(0.1 -0.1)\">\r\n       <use xlink:href=\"#DejaVuSans-51\"/>\r\n       <use x=\"63.623047\" xlink:href=\"#DejaVuSans-53\"/>\r\n       <use x=\"127.246094\" xlink:href=\"#DejaVuSans-50\"/>\r\n      </g>\r\n     </g>\r\n    </g>\r\n    <g id=\"ytick_354\">\r\n     <g id=\"line2d_363\">\r\n      <g>\r\n       <use style=\"stroke:#000000;stroke-width:0.8;\" x=\"33.2875\" xlink:href=\"#m086e67bf75\" y=\"104.287993\"/>\r\n      </g>\r\n     </g>\r\n     <g id=\"text_363\">\r\n      <!-- 353 -->\r\n      <g transform=\"translate(7.2 108.087212)scale(0.1 -0.1)\">\r\n       <use xlink:href=\"#DejaVuSans-51\"/>\r\n       <use x=\"63.623047\" xlink:href=\"#DejaVuSans-53\"/>\r\n       <use x=\"127.246094\" xlink:href=\"#DejaVuSans-51\"/>\r\n      </g>\r\n     </g>\r\n    </g>\r\n    <g id=\"ytick_355\">\r\n     <g id=\"line2d_364\">\r\n      <g>\r\n       <use style=\"stroke:#000000;stroke-width:0.8;\" x=\"33.2875\" xlink:href=\"#m086e67bf75\" y=\"103.937283\"/>\r\n      </g>\r\n     </g>\r\n     <g id=\"text_364\">\r\n      <!-- 354 -->\r\n      <g transform=\"translate(7.2 107.736502)scale(0.1 -0.1)\">\r\n       <use xlink:href=\"#DejaVuSans-51\"/>\r\n       <use x=\"63.623047\" xlink:href=\"#DejaVuSans-53\"/>\r\n       <use x=\"127.246094\" xlink:href=\"#DejaVuSans-52\"/>\r\n      </g>\r\n     </g>\r\n    </g>\r\n    <g id=\"ytick_356\">\r\n     <g id=\"line2d_365\">\r\n      <g>\r\n       <use style=\"stroke:#000000;stroke-width:0.8;\" x=\"33.2875\" xlink:href=\"#m086e67bf75\" y=\"103.586574\"/>\r\n      </g>\r\n     </g>\r\n     <g id=\"text_365\">\r\n      <!-- 355 -->\r\n      <g transform=\"translate(7.2 107.385792)scale(0.1 -0.1)\">\r\n       <use xlink:href=\"#DejaVuSans-51\"/>\r\n       <use x=\"63.623047\" xlink:href=\"#DejaVuSans-53\"/>\r\n       <use x=\"127.246094\" xlink:href=\"#DejaVuSans-53\"/>\r\n      </g>\r\n     </g>\r\n    </g>\r\n    <g id=\"ytick_357\">\r\n     <g id=\"line2d_366\">\r\n      <g>\r\n       <use style=\"stroke:#000000;stroke-width:0.8;\" x=\"33.2875\" xlink:href=\"#m086e67bf75\" y=\"103.235864\"/>\r\n      </g>\r\n     </g>\r\n     <g id=\"text_366\">\r\n      <!-- 356 -->\r\n      <g transform=\"translate(7.2 107.035083)scale(0.1 -0.1)\">\r\n       <use xlink:href=\"#DejaVuSans-51\"/>\r\n       <use x=\"63.623047\" xlink:href=\"#DejaVuSans-53\"/>\r\n       <use x=\"127.246094\" xlink:href=\"#DejaVuSans-54\"/>\r\n      </g>\r\n     </g>\r\n    </g>\r\n    <g id=\"ytick_358\">\r\n     <g id=\"line2d_367\">\r\n      <g>\r\n       <use style=\"stroke:#000000;stroke-width:0.8;\" x=\"33.2875\" xlink:href=\"#m086e67bf75\" y=\"102.885154\"/>\r\n      </g>\r\n     </g>\r\n     <g id=\"text_367\">\r\n      <!-- 357 -->\r\n      <g transform=\"translate(7.2 106.684373)scale(0.1 -0.1)\">\r\n       <use xlink:href=\"#DejaVuSans-51\"/>\r\n       <use x=\"63.623047\" xlink:href=\"#DejaVuSans-53\"/>\r\n       <use x=\"127.246094\" xlink:href=\"#DejaVuSans-55\"/>\r\n      </g>\r\n     </g>\r\n    </g>\r\n    <g id=\"ytick_359\">\r\n     <g id=\"line2d_368\">\r\n      <g>\r\n       <use style=\"stroke:#000000;stroke-width:0.8;\" x=\"33.2875\" xlink:href=\"#m086e67bf75\" y=\"102.534445\"/>\r\n      </g>\r\n     </g>\r\n     <g id=\"text_368\">\r\n      <!-- 358 -->\r\n      <g transform=\"translate(7.2 106.333663)scale(0.1 -0.1)\">\r\n       <use xlink:href=\"#DejaVuSans-51\"/>\r\n       <use x=\"63.623047\" xlink:href=\"#DejaVuSans-53\"/>\r\n       <use x=\"127.246094\" xlink:href=\"#DejaVuSans-56\"/>\r\n      </g>\r\n     </g>\r\n    </g>\r\n    <g id=\"ytick_360\">\r\n     <g id=\"line2d_369\">\r\n      <g>\r\n       <use style=\"stroke:#000000;stroke-width:0.8;\" x=\"33.2875\" xlink:href=\"#m086e67bf75\" y=\"102.183735\"/>\r\n      </g>\r\n     </g>\r\n     <g id=\"text_369\">\r\n      <!-- 359 -->\r\n      <g transform=\"translate(7.2 105.982954)scale(0.1 -0.1)\">\r\n       <use xlink:href=\"#DejaVuSans-51\"/>\r\n       <use x=\"63.623047\" xlink:href=\"#DejaVuSans-53\"/>\r\n       <use x=\"127.246094\" xlink:href=\"#DejaVuSans-57\"/>\r\n      </g>\r\n     </g>\r\n    </g>\r\n    <g id=\"ytick_361\">\r\n     <g id=\"line2d_370\">\r\n      <g>\r\n       <use style=\"stroke:#000000;stroke-width:0.8;\" x=\"33.2875\" xlink:href=\"#m086e67bf75\" y=\"101.833025\"/>\r\n      </g>\r\n     </g>\r\n     <g id=\"text_370\">\r\n      <!-- 360 -->\r\n      <g transform=\"translate(7.2 105.632244)scale(0.1 -0.1)\">\r\n       <use xlink:href=\"#DejaVuSans-51\"/>\r\n       <use x=\"63.623047\" xlink:href=\"#DejaVuSans-54\"/>\r\n       <use x=\"127.246094\" xlink:href=\"#DejaVuSans-48\"/>\r\n      </g>\r\n     </g>\r\n    </g>\r\n    <g id=\"ytick_362\">\r\n     <g id=\"line2d_371\">\r\n      <g>\r\n       <use style=\"stroke:#000000;stroke-width:0.8;\" x=\"33.2875\" xlink:href=\"#m086e67bf75\" y=\"101.482316\"/>\r\n      </g>\r\n     </g>\r\n     <g id=\"text_371\">\r\n      <!-- 361 -->\r\n      <g transform=\"translate(7.2 105.281534)scale(0.1 -0.1)\">\r\n       <use xlink:href=\"#DejaVuSans-51\"/>\r\n       <use x=\"63.623047\" xlink:href=\"#DejaVuSans-54\"/>\r\n       <use x=\"127.246094\" xlink:href=\"#DejaVuSans-49\"/>\r\n      </g>\r\n     </g>\r\n    </g>\r\n    <g id=\"ytick_363\">\r\n     <g id=\"line2d_372\">\r\n      <g>\r\n       <use style=\"stroke:#000000;stroke-width:0.8;\" x=\"33.2875\" xlink:href=\"#m086e67bf75\" y=\"101.131606\"/>\r\n      </g>\r\n     </g>\r\n     <g id=\"text_372\">\r\n      <!-- 362 -->\r\n      <g transform=\"translate(7.2 104.930825)scale(0.1 -0.1)\">\r\n       <use xlink:href=\"#DejaVuSans-51\"/>\r\n       <use x=\"63.623047\" xlink:href=\"#DejaVuSans-54\"/>\r\n       <use x=\"127.246094\" xlink:href=\"#DejaVuSans-50\"/>\r\n      </g>\r\n     </g>\r\n    </g>\r\n    <g id=\"ytick_364\">\r\n     <g id=\"line2d_373\">\r\n      <g>\r\n       <use style=\"stroke:#000000;stroke-width:0.8;\" x=\"33.2875\" xlink:href=\"#m086e67bf75\" y=\"100.780896\"/>\r\n      </g>\r\n     </g>\r\n     <g id=\"text_373\">\r\n      <!-- 363 -->\r\n      <g transform=\"translate(7.2 104.580115)scale(0.1 -0.1)\">\r\n       <use xlink:href=\"#DejaVuSans-51\"/>\r\n       <use x=\"63.623047\" xlink:href=\"#DejaVuSans-54\"/>\r\n       <use x=\"127.246094\" xlink:href=\"#DejaVuSans-51\"/>\r\n      </g>\r\n     </g>\r\n    </g>\r\n    <g id=\"ytick_365\">\r\n     <g id=\"line2d_374\">\r\n      <g>\r\n       <use style=\"stroke:#000000;stroke-width:0.8;\" x=\"33.2875\" xlink:href=\"#m086e67bf75\" y=\"100.430186\"/>\r\n      </g>\r\n     </g>\r\n     <g id=\"text_374\">\r\n      <!-- 364 -->\r\n      <g transform=\"translate(7.2 104.229405)scale(0.1 -0.1)\">\r\n       <use xlink:href=\"#DejaVuSans-51\"/>\r\n       <use x=\"63.623047\" xlink:href=\"#DejaVuSans-54\"/>\r\n       <use x=\"127.246094\" xlink:href=\"#DejaVuSans-52\"/>\r\n      </g>\r\n     </g>\r\n    </g>\r\n    <g id=\"ytick_366\">\r\n     <g id=\"line2d_375\">\r\n      <g>\r\n       <use style=\"stroke:#000000;stroke-width:0.8;\" x=\"33.2875\" xlink:href=\"#m086e67bf75\" y=\"100.079477\"/>\r\n      </g>\r\n     </g>\r\n     <g id=\"text_375\">\r\n      <!-- 365 -->\r\n      <g transform=\"translate(7.2 103.878696)scale(0.1 -0.1)\">\r\n       <use xlink:href=\"#DejaVuSans-51\"/>\r\n       <use x=\"63.623047\" xlink:href=\"#DejaVuSans-54\"/>\r\n       <use x=\"127.246094\" xlink:href=\"#DejaVuSans-53\"/>\r\n      </g>\r\n     </g>\r\n    </g>\r\n    <g id=\"ytick_367\">\r\n     <g id=\"line2d_376\">\r\n      <g>\r\n       <use style=\"stroke:#000000;stroke-width:0.8;\" x=\"33.2875\" xlink:href=\"#m086e67bf75\" y=\"99.728767\"/>\r\n      </g>\r\n     </g>\r\n     <g id=\"text_376\">\r\n      <!-- 366 -->\r\n      <g transform=\"translate(7.2 103.527986)scale(0.1 -0.1)\">\r\n       <use xlink:href=\"#DejaVuSans-51\"/>\r\n       <use x=\"63.623047\" xlink:href=\"#DejaVuSans-54\"/>\r\n       <use x=\"127.246094\" xlink:href=\"#DejaVuSans-54\"/>\r\n      </g>\r\n     </g>\r\n    </g>\r\n    <g id=\"ytick_368\">\r\n     <g id=\"line2d_377\">\r\n      <g>\r\n       <use style=\"stroke:#000000;stroke-width:0.8;\" x=\"33.2875\" xlink:href=\"#m086e67bf75\" y=\"99.378057\"/>\r\n      </g>\r\n     </g>\r\n     <g id=\"text_377\">\r\n      <!-- 367 -->\r\n      <g transform=\"translate(7.2 103.177276)scale(0.1 -0.1)\">\r\n       <use xlink:href=\"#DejaVuSans-51\"/>\r\n       <use x=\"63.623047\" xlink:href=\"#DejaVuSans-54\"/>\r\n       <use x=\"127.246094\" xlink:href=\"#DejaVuSans-55\"/>\r\n      </g>\r\n     </g>\r\n    </g>\r\n    <g id=\"ytick_369\">\r\n     <g id=\"line2d_378\">\r\n      <g>\r\n       <use style=\"stroke:#000000;stroke-width:0.8;\" x=\"33.2875\" xlink:href=\"#m086e67bf75\" y=\"99.027348\"/>\r\n      </g>\r\n     </g>\r\n     <g id=\"text_378\">\r\n      <!-- 368 -->\r\n      <g transform=\"translate(7.2 102.826567)scale(0.1 -0.1)\">\r\n       <use xlink:href=\"#DejaVuSans-51\"/>\r\n       <use x=\"63.623047\" xlink:href=\"#DejaVuSans-54\"/>\r\n       <use x=\"127.246094\" xlink:href=\"#DejaVuSans-56\"/>\r\n      </g>\r\n     </g>\r\n    </g>\r\n    <g id=\"ytick_370\">\r\n     <g id=\"line2d_379\">\r\n      <g>\r\n       <use style=\"stroke:#000000;stroke-width:0.8;\" x=\"33.2875\" xlink:href=\"#m086e67bf75\" y=\"98.676638\"/>\r\n      </g>\r\n     </g>\r\n     <g id=\"text_379\">\r\n      <!-- 369 -->\r\n      <g transform=\"translate(7.2 102.475857)scale(0.1 -0.1)\">\r\n       <use xlink:href=\"#DejaVuSans-51\"/>\r\n       <use x=\"63.623047\" xlink:href=\"#DejaVuSans-54\"/>\r\n       <use x=\"127.246094\" xlink:href=\"#DejaVuSans-57\"/>\r\n      </g>\r\n     </g>\r\n    </g>\r\n    <g id=\"ytick_371\">\r\n     <g id=\"line2d_380\">\r\n      <g>\r\n       <use style=\"stroke:#000000;stroke-width:0.8;\" x=\"33.2875\" xlink:href=\"#m086e67bf75\" y=\"98.325928\"/>\r\n      </g>\r\n     </g>\r\n     <g id=\"text_380\">\r\n      <!-- 370 -->\r\n      <g transform=\"translate(7.2 102.125147)scale(0.1 -0.1)\">\r\n       <use xlink:href=\"#DejaVuSans-51\"/>\r\n       <use x=\"63.623047\" xlink:href=\"#DejaVuSans-55\"/>\r\n       <use x=\"127.246094\" xlink:href=\"#DejaVuSans-48\"/>\r\n      </g>\r\n     </g>\r\n    </g>\r\n    <g id=\"ytick_372\">\r\n     <g id=\"line2d_381\">\r\n      <g>\r\n       <use style=\"stroke:#000000;stroke-width:0.8;\" x=\"33.2875\" xlink:href=\"#m086e67bf75\" y=\"97.975219\"/>\r\n      </g>\r\n     </g>\r\n     <g id=\"text_381\">\r\n      <!-- 371 -->\r\n      <g transform=\"translate(7.2 101.774438)scale(0.1 -0.1)\">\r\n       <use xlink:href=\"#DejaVuSans-51\"/>\r\n       <use x=\"63.623047\" xlink:href=\"#DejaVuSans-55\"/>\r\n       <use x=\"127.246094\" xlink:href=\"#DejaVuSans-49\"/>\r\n      </g>\r\n     </g>\r\n    </g>\r\n    <g id=\"ytick_373\">\r\n     <g id=\"line2d_382\">\r\n      <g>\r\n       <use style=\"stroke:#000000;stroke-width:0.8;\" x=\"33.2875\" xlink:href=\"#m086e67bf75\" y=\"97.624509\"/>\r\n      </g>\r\n     </g>\r\n     <g id=\"text_382\">\r\n      <!-- 372 -->\r\n      <g transform=\"translate(7.2 101.423728)scale(0.1 -0.1)\">\r\n       <use xlink:href=\"#DejaVuSans-51\"/>\r\n       <use x=\"63.623047\" xlink:href=\"#DejaVuSans-55\"/>\r\n       <use x=\"127.246094\" xlink:href=\"#DejaVuSans-50\"/>\r\n      </g>\r\n     </g>\r\n    </g>\r\n    <g id=\"ytick_374\">\r\n     <g id=\"line2d_383\">\r\n      <g>\r\n       <use style=\"stroke:#000000;stroke-width:0.8;\" x=\"33.2875\" xlink:href=\"#m086e67bf75\" y=\"97.273799\"/>\r\n      </g>\r\n     </g>\r\n     <g id=\"text_383\">\r\n      <!-- 373 -->\r\n      <g transform=\"translate(7.2 101.073018)scale(0.1 -0.1)\">\r\n       <use xlink:href=\"#DejaVuSans-51\"/>\r\n       <use x=\"63.623047\" xlink:href=\"#DejaVuSans-55\"/>\r\n       <use x=\"127.246094\" xlink:href=\"#DejaVuSans-51\"/>\r\n      </g>\r\n     </g>\r\n    </g>\r\n    <g id=\"ytick_375\">\r\n     <g id=\"line2d_384\">\r\n      <g>\r\n       <use style=\"stroke:#000000;stroke-width:0.8;\" x=\"33.2875\" xlink:href=\"#m086e67bf75\" y=\"96.92309\"/>\r\n      </g>\r\n     </g>\r\n     <g id=\"text_384\">\r\n      <!-- 374 -->\r\n      <g transform=\"translate(7.2 100.722308)scale(0.1 -0.1)\">\r\n       <use xlink:href=\"#DejaVuSans-51\"/>\r\n       <use x=\"63.623047\" xlink:href=\"#DejaVuSans-55\"/>\r\n       <use x=\"127.246094\" xlink:href=\"#DejaVuSans-52\"/>\r\n      </g>\r\n     </g>\r\n    </g>\r\n    <g id=\"ytick_376\">\r\n     <g id=\"line2d_385\">\r\n      <g>\r\n       <use style=\"stroke:#000000;stroke-width:0.8;\" x=\"33.2875\" xlink:href=\"#m086e67bf75\" y=\"96.57238\"/>\r\n      </g>\r\n     </g>\r\n     <g id=\"text_385\">\r\n      <!-- 375 -->\r\n      <g transform=\"translate(7.2 100.371599)scale(0.1 -0.1)\">\r\n       <use xlink:href=\"#DejaVuSans-51\"/>\r\n       <use x=\"63.623047\" xlink:href=\"#DejaVuSans-55\"/>\r\n       <use x=\"127.246094\" xlink:href=\"#DejaVuSans-53\"/>\r\n      </g>\r\n     </g>\r\n    </g>\r\n    <g id=\"ytick_377\">\r\n     <g id=\"line2d_386\">\r\n      <g>\r\n       <use style=\"stroke:#000000;stroke-width:0.8;\" x=\"33.2875\" xlink:href=\"#m086e67bf75\" y=\"96.22167\"/>\r\n      </g>\r\n     </g>\r\n     <g id=\"text_386\">\r\n      <!-- 376 -->\r\n      <g transform=\"translate(7.2 100.020889)scale(0.1 -0.1)\">\r\n       <use xlink:href=\"#DejaVuSans-51\"/>\r\n       <use x=\"63.623047\" xlink:href=\"#DejaVuSans-55\"/>\r\n       <use x=\"127.246094\" xlink:href=\"#DejaVuSans-54\"/>\r\n      </g>\r\n     </g>\r\n    </g>\r\n    <g id=\"ytick_378\">\r\n     <g id=\"line2d_387\">\r\n      <g>\r\n       <use style=\"stroke:#000000;stroke-width:0.8;\" x=\"33.2875\" xlink:href=\"#m086e67bf75\" y=\"95.870961\"/>\r\n      </g>\r\n     </g>\r\n     <g id=\"text_387\">\r\n      <!-- 377 -->\r\n      <g transform=\"translate(7.2 99.670179)scale(0.1 -0.1)\">\r\n       <use xlink:href=\"#DejaVuSans-51\"/>\r\n       <use x=\"63.623047\" xlink:href=\"#DejaVuSans-55\"/>\r\n       <use x=\"127.246094\" xlink:href=\"#DejaVuSans-55\"/>\r\n      </g>\r\n     </g>\r\n    </g>\r\n    <g id=\"ytick_379\">\r\n     <g id=\"line2d_388\">\r\n      <g>\r\n       <use style=\"stroke:#000000;stroke-width:0.8;\" x=\"33.2875\" xlink:href=\"#m086e67bf75\" y=\"95.520251\"/>\r\n      </g>\r\n     </g>\r\n     <g id=\"text_388\">\r\n      <!-- 378 -->\r\n      <g transform=\"translate(7.2 99.31947)scale(0.1 -0.1)\">\r\n       <use xlink:href=\"#DejaVuSans-51\"/>\r\n       <use x=\"63.623047\" xlink:href=\"#DejaVuSans-55\"/>\r\n       <use x=\"127.246094\" xlink:href=\"#DejaVuSans-56\"/>\r\n      </g>\r\n     </g>\r\n    </g>\r\n    <g id=\"ytick_380\">\r\n     <g id=\"line2d_389\">\r\n      <g>\r\n       <use style=\"stroke:#000000;stroke-width:0.8;\" x=\"33.2875\" xlink:href=\"#m086e67bf75\" y=\"95.169541\"/>\r\n      </g>\r\n     </g>\r\n     <g id=\"text_389\">\r\n      <!-- 379 -->\r\n      <g transform=\"translate(7.2 98.96876)scale(0.1 -0.1)\">\r\n       <use xlink:href=\"#DejaVuSans-51\"/>\r\n       <use x=\"63.623047\" xlink:href=\"#DejaVuSans-55\"/>\r\n       <use x=\"127.246094\" xlink:href=\"#DejaVuSans-57\"/>\r\n      </g>\r\n     </g>\r\n    </g>\r\n    <g id=\"ytick_381\">\r\n     <g id=\"line2d_390\">\r\n      <g>\r\n       <use style=\"stroke:#000000;stroke-width:0.8;\" x=\"33.2875\" xlink:href=\"#m086e67bf75\" y=\"94.818832\"/>\r\n      </g>\r\n     </g>\r\n     <g id=\"text_390\">\r\n      <!-- 380 -->\r\n      <g transform=\"translate(7.2 98.61805)scale(0.1 -0.1)\">\r\n       <use xlink:href=\"#DejaVuSans-51\"/>\r\n       <use x=\"63.623047\" xlink:href=\"#DejaVuSans-56\"/>\r\n       <use x=\"127.246094\" xlink:href=\"#DejaVuSans-48\"/>\r\n      </g>\r\n     </g>\r\n    </g>\r\n    <g id=\"ytick_382\">\r\n     <g id=\"line2d_391\">\r\n      <g>\r\n       <use style=\"stroke:#000000;stroke-width:0.8;\" x=\"33.2875\" xlink:href=\"#m086e67bf75\" y=\"94.468122\"/>\r\n      </g>\r\n     </g>\r\n     <g id=\"text_391\">\r\n      <!-- 381 -->\r\n      <g transform=\"translate(7.2 98.267341)scale(0.1 -0.1)\">\r\n       <use xlink:href=\"#DejaVuSans-51\"/>\r\n       <use x=\"63.623047\" xlink:href=\"#DejaVuSans-56\"/>\r\n       <use x=\"127.246094\" xlink:href=\"#DejaVuSans-49\"/>\r\n      </g>\r\n     </g>\r\n    </g>\r\n    <g id=\"ytick_383\">\r\n     <g id=\"line2d_392\">\r\n      <g>\r\n       <use style=\"stroke:#000000;stroke-width:0.8;\" x=\"33.2875\" xlink:href=\"#m086e67bf75\" y=\"94.117412\"/>\r\n      </g>\r\n     </g>\r\n     <g id=\"text_392\">\r\n      <!-- 382 -->\r\n      <g transform=\"translate(7.2 97.916631)scale(0.1 -0.1)\">\r\n       <use xlink:href=\"#DejaVuSans-51\"/>\r\n       <use x=\"63.623047\" xlink:href=\"#DejaVuSans-56\"/>\r\n       <use x=\"127.246094\" xlink:href=\"#DejaVuSans-50\"/>\r\n      </g>\r\n     </g>\r\n    </g>\r\n    <g id=\"ytick_384\">\r\n     <g id=\"line2d_393\">\r\n      <g>\r\n       <use style=\"stroke:#000000;stroke-width:0.8;\" x=\"33.2875\" xlink:href=\"#m086e67bf75\" y=\"93.766703\"/>\r\n      </g>\r\n     </g>\r\n     <g id=\"text_393\">\r\n      <!-- 383 -->\r\n      <g transform=\"translate(7.2 97.565921)scale(0.1 -0.1)\">\r\n       <use xlink:href=\"#DejaVuSans-51\"/>\r\n       <use x=\"63.623047\" xlink:href=\"#DejaVuSans-56\"/>\r\n       <use x=\"127.246094\" xlink:href=\"#DejaVuSans-51\"/>\r\n      </g>\r\n     </g>\r\n    </g>\r\n    <g id=\"ytick_385\">\r\n     <g id=\"line2d_394\">\r\n      <g>\r\n       <use style=\"stroke:#000000;stroke-width:0.8;\" x=\"33.2875\" xlink:href=\"#m086e67bf75\" y=\"93.415993\"/>\r\n      </g>\r\n     </g>\r\n     <g id=\"text_394\">\r\n      <!-- 384 -->\r\n      <g transform=\"translate(7.2 97.215212)scale(0.1 -0.1)\">\r\n       <use xlink:href=\"#DejaVuSans-51\"/>\r\n       <use x=\"63.623047\" xlink:href=\"#DejaVuSans-56\"/>\r\n       <use x=\"127.246094\" xlink:href=\"#DejaVuSans-52\"/>\r\n      </g>\r\n     </g>\r\n    </g>\r\n    <g id=\"ytick_386\">\r\n     <g id=\"line2d_395\">\r\n      <g>\r\n       <use style=\"stroke:#000000;stroke-width:0.8;\" x=\"33.2875\" xlink:href=\"#m086e67bf75\" y=\"93.065283\"/>\r\n      </g>\r\n     </g>\r\n     <g id=\"text_395\">\r\n      <!-- 385 -->\r\n      <g transform=\"translate(7.2 96.864502)scale(0.1 -0.1)\">\r\n       <use xlink:href=\"#DejaVuSans-51\"/>\r\n       <use x=\"63.623047\" xlink:href=\"#DejaVuSans-56\"/>\r\n       <use x=\"127.246094\" xlink:href=\"#DejaVuSans-53\"/>\r\n      </g>\r\n     </g>\r\n    </g>\r\n    <g id=\"ytick_387\">\r\n     <g id=\"line2d_396\">\r\n      <g>\r\n       <use style=\"stroke:#000000;stroke-width:0.8;\" x=\"33.2875\" xlink:href=\"#m086e67bf75\" y=\"92.714574\"/>\r\n      </g>\r\n     </g>\r\n     <g id=\"text_396\">\r\n      <!-- 386 -->\r\n      <g transform=\"translate(7.2 96.513792)scale(0.1 -0.1)\">\r\n       <use xlink:href=\"#DejaVuSans-51\"/>\r\n       <use x=\"63.623047\" xlink:href=\"#DejaVuSans-56\"/>\r\n       <use x=\"127.246094\" xlink:href=\"#DejaVuSans-54\"/>\r\n      </g>\r\n     </g>\r\n    </g>\r\n    <g id=\"ytick_388\">\r\n     <g id=\"line2d_397\">\r\n      <g>\r\n       <use style=\"stroke:#000000;stroke-width:0.8;\" x=\"33.2875\" xlink:href=\"#m086e67bf75\" y=\"92.363864\"/>\r\n      </g>\r\n     </g>\r\n     <g id=\"text_397\">\r\n      <!-- 387 -->\r\n      <g transform=\"translate(7.2 96.163083)scale(0.1 -0.1)\">\r\n       <use xlink:href=\"#DejaVuSans-51\"/>\r\n       <use x=\"63.623047\" xlink:href=\"#DejaVuSans-56\"/>\r\n       <use x=\"127.246094\" xlink:href=\"#DejaVuSans-55\"/>\r\n      </g>\r\n     </g>\r\n    </g>\r\n    <g id=\"ytick_389\">\r\n     <g id=\"line2d_398\">\r\n      <g>\r\n       <use style=\"stroke:#000000;stroke-width:0.8;\" x=\"33.2875\" xlink:href=\"#m086e67bf75\" y=\"92.013154\"/>\r\n      </g>\r\n     </g>\r\n     <g id=\"text_398\">\r\n      <!-- 388 -->\r\n      <g transform=\"translate(7.2 95.812373)scale(0.1 -0.1)\">\r\n       <use xlink:href=\"#DejaVuSans-51\"/>\r\n       <use x=\"63.623047\" xlink:href=\"#DejaVuSans-56\"/>\r\n       <use x=\"127.246094\" xlink:href=\"#DejaVuSans-56\"/>\r\n      </g>\r\n     </g>\r\n    </g>\r\n    <g id=\"ytick_390\">\r\n     <g id=\"line2d_399\">\r\n      <g>\r\n       <use style=\"stroke:#000000;stroke-width:0.8;\" x=\"33.2875\" xlink:href=\"#m086e67bf75\" y=\"91.662445\"/>\r\n      </g>\r\n     </g>\r\n     <g id=\"text_399\">\r\n      <!-- 389 -->\r\n      <g transform=\"translate(7.2 95.461663)scale(0.1 -0.1)\">\r\n       <use xlink:href=\"#DejaVuSans-51\"/>\r\n       <use x=\"63.623047\" xlink:href=\"#DejaVuSans-56\"/>\r\n       <use x=\"127.246094\" xlink:href=\"#DejaVuSans-57\"/>\r\n      </g>\r\n     </g>\r\n    </g>\r\n    <g id=\"ytick_391\">\r\n     <g id=\"line2d_400\">\r\n      <g>\r\n       <use style=\"stroke:#000000;stroke-width:0.8;\" x=\"33.2875\" xlink:href=\"#m086e67bf75\" y=\"91.311735\"/>\r\n      </g>\r\n     </g>\r\n     <g id=\"text_400\">\r\n      <!-- 390 -->\r\n      <g transform=\"translate(7.2 95.110954)scale(0.1 -0.1)\">\r\n       <use xlink:href=\"#DejaVuSans-51\"/>\r\n       <use x=\"63.623047\" xlink:href=\"#DejaVuSans-57\"/>\r\n       <use x=\"127.246094\" xlink:href=\"#DejaVuSans-48\"/>\r\n      </g>\r\n     </g>\r\n    </g>\r\n    <g id=\"ytick_392\">\r\n     <g id=\"line2d_401\">\r\n      <g>\r\n       <use style=\"stroke:#000000;stroke-width:0.8;\" x=\"33.2875\" xlink:href=\"#m086e67bf75\" y=\"90.961025\"/>\r\n      </g>\r\n     </g>\r\n     <g id=\"text_401\">\r\n      <!-- 391 -->\r\n      <g transform=\"translate(7.2 94.760244)scale(0.1 -0.1)\">\r\n       <use xlink:href=\"#DejaVuSans-51\"/>\r\n       <use x=\"63.623047\" xlink:href=\"#DejaVuSans-57\"/>\r\n       <use x=\"127.246094\" xlink:href=\"#DejaVuSans-49\"/>\r\n      </g>\r\n     </g>\r\n    </g>\r\n    <g id=\"ytick_393\">\r\n     <g id=\"line2d_402\">\r\n      <g>\r\n       <use style=\"stroke:#000000;stroke-width:0.8;\" x=\"33.2875\" xlink:href=\"#m086e67bf75\" y=\"90.610316\"/>\r\n      </g>\r\n     </g>\r\n     <g id=\"text_402\">\r\n      <!-- 392 -->\r\n      <g transform=\"translate(7.2 94.409534)scale(0.1 -0.1)\">\r\n       <use xlink:href=\"#DejaVuSans-51\"/>\r\n       <use x=\"63.623047\" xlink:href=\"#DejaVuSans-57\"/>\r\n       <use x=\"127.246094\" xlink:href=\"#DejaVuSans-50\"/>\r\n      </g>\r\n     </g>\r\n    </g>\r\n    <g id=\"ytick_394\">\r\n     <g id=\"line2d_403\">\r\n      <g>\r\n       <use style=\"stroke:#000000;stroke-width:0.8;\" x=\"33.2875\" xlink:href=\"#m086e67bf75\" y=\"90.259606\"/>\r\n      </g>\r\n     </g>\r\n     <g id=\"text_403\">\r\n      <!-- 393 -->\r\n      <g transform=\"translate(7.2 94.058825)scale(0.1 -0.1)\">\r\n       <use xlink:href=\"#DejaVuSans-51\"/>\r\n       <use x=\"63.623047\" xlink:href=\"#DejaVuSans-57\"/>\r\n       <use x=\"127.246094\" xlink:href=\"#DejaVuSans-51\"/>\r\n      </g>\r\n     </g>\r\n    </g>\r\n    <g id=\"ytick_395\">\r\n     <g id=\"line2d_404\">\r\n      <g>\r\n       <use style=\"stroke:#000000;stroke-width:0.8;\" x=\"33.2875\" xlink:href=\"#m086e67bf75\" y=\"89.908896\"/>\r\n      </g>\r\n     </g>\r\n     <g id=\"text_404\">\r\n      <!-- 394 -->\r\n      <g transform=\"translate(7.2 93.708115)scale(0.1 -0.1)\">\r\n       <use xlink:href=\"#DejaVuSans-51\"/>\r\n       <use x=\"63.623047\" xlink:href=\"#DejaVuSans-57\"/>\r\n       <use x=\"127.246094\" xlink:href=\"#DejaVuSans-52\"/>\r\n      </g>\r\n     </g>\r\n    </g>\r\n    <g id=\"ytick_396\">\r\n     <g id=\"line2d_405\">\r\n      <g>\r\n       <use style=\"stroke:#000000;stroke-width:0.8;\" x=\"33.2875\" xlink:href=\"#m086e67bf75\" y=\"89.558186\"/>\r\n      </g>\r\n     </g>\r\n     <g id=\"text_405\">\r\n      <!-- 395 -->\r\n      <g transform=\"translate(7.2 93.357405)scale(0.1 -0.1)\">\r\n       <use xlink:href=\"#DejaVuSans-51\"/>\r\n       <use x=\"63.623047\" xlink:href=\"#DejaVuSans-57\"/>\r\n       <use x=\"127.246094\" xlink:href=\"#DejaVuSans-53\"/>\r\n      </g>\r\n     </g>\r\n    </g>\r\n    <g id=\"ytick_397\">\r\n     <g id=\"line2d_406\">\r\n      <g>\r\n       <use style=\"stroke:#000000;stroke-width:0.8;\" x=\"33.2875\" xlink:href=\"#m086e67bf75\" y=\"89.207477\"/>\r\n      </g>\r\n     </g>\r\n     <g id=\"text_406\">\r\n      <!-- 396 -->\r\n      <g transform=\"translate(7.2 93.006696)scale(0.1 -0.1)\">\r\n       <use xlink:href=\"#DejaVuSans-51\"/>\r\n       <use x=\"63.623047\" xlink:href=\"#DejaVuSans-57\"/>\r\n       <use x=\"127.246094\" xlink:href=\"#DejaVuSans-54\"/>\r\n      </g>\r\n     </g>\r\n    </g>\r\n    <g id=\"ytick_398\">\r\n     <g id=\"line2d_407\">\r\n      <g>\r\n       <use style=\"stroke:#000000;stroke-width:0.8;\" x=\"33.2875\" xlink:href=\"#m086e67bf75\" y=\"88.856767\"/>\r\n      </g>\r\n     </g>\r\n     <g id=\"text_407\">\r\n      <!-- 397 -->\r\n      <g transform=\"translate(7.2 92.655986)scale(0.1 -0.1)\">\r\n       <use xlink:href=\"#DejaVuSans-51\"/>\r\n       <use x=\"63.623047\" xlink:href=\"#DejaVuSans-57\"/>\r\n       <use x=\"127.246094\" xlink:href=\"#DejaVuSans-55\"/>\r\n      </g>\r\n     </g>\r\n    </g>\r\n    <g id=\"ytick_399\">\r\n     <g id=\"line2d_408\">\r\n      <g>\r\n       <use style=\"stroke:#000000;stroke-width:0.8;\" x=\"33.2875\" xlink:href=\"#m086e67bf75\" y=\"88.506057\"/>\r\n      </g>\r\n     </g>\r\n     <g id=\"text_408\">\r\n      <!-- 398 -->\r\n      <g transform=\"translate(7.2 92.305276)scale(0.1 -0.1)\">\r\n       <use xlink:href=\"#DejaVuSans-51\"/>\r\n       <use x=\"63.623047\" xlink:href=\"#DejaVuSans-57\"/>\r\n       <use x=\"127.246094\" xlink:href=\"#DejaVuSans-56\"/>\r\n      </g>\r\n     </g>\r\n    </g>\r\n    <g id=\"ytick_400\">\r\n     <g id=\"line2d_409\">\r\n      <g>\r\n       <use style=\"stroke:#000000;stroke-width:0.8;\" x=\"33.2875\" xlink:href=\"#m086e67bf75\" y=\"88.155348\"/>\r\n      </g>\r\n     </g>\r\n     <g id=\"text_409\">\r\n      <!-- 399 -->\r\n      <g transform=\"translate(7.2 91.954567)scale(0.1 -0.1)\">\r\n       <use xlink:href=\"#DejaVuSans-51\"/>\r\n       <use x=\"63.623047\" xlink:href=\"#DejaVuSans-57\"/>\r\n       <use x=\"127.246094\" xlink:href=\"#DejaVuSans-57\"/>\r\n      </g>\r\n     </g>\r\n    </g>\r\n    <g id=\"ytick_401\">\r\n     <g id=\"line2d_410\">\r\n      <g>\r\n       <use style=\"stroke:#000000;stroke-width:0.8;\" x=\"33.2875\" xlink:href=\"#m086e67bf75\" y=\"87.804638\"/>\r\n      </g>\r\n     </g>\r\n     <g id=\"text_410\">\r\n      <!-- 400 -->\r\n      <g transform=\"translate(7.2 91.603857)scale(0.1 -0.1)\">\r\n       <use xlink:href=\"#DejaVuSans-52\"/>\r\n       <use x=\"63.623047\" xlink:href=\"#DejaVuSans-48\"/>\r\n       <use x=\"127.246094\" xlink:href=\"#DejaVuSans-48\"/>\r\n      </g>\r\n     </g>\r\n    </g>\r\n    <g id=\"ytick_402\">\r\n     <g id=\"line2d_411\">\r\n      <g>\r\n       <use style=\"stroke:#000000;stroke-width:0.8;\" x=\"33.2875\" xlink:href=\"#m086e67bf75\" y=\"87.453928\"/>\r\n      </g>\r\n     </g>\r\n     <g id=\"text_411\">\r\n      <!-- 401 -->\r\n      <g transform=\"translate(7.2 91.253147)scale(0.1 -0.1)\">\r\n       <use xlink:href=\"#DejaVuSans-52\"/>\r\n       <use x=\"63.623047\" xlink:href=\"#DejaVuSans-48\"/>\r\n       <use x=\"127.246094\" xlink:href=\"#DejaVuSans-49\"/>\r\n      </g>\r\n     </g>\r\n    </g>\r\n    <g id=\"ytick_403\">\r\n     <g id=\"line2d_412\">\r\n      <g>\r\n       <use style=\"stroke:#000000;stroke-width:0.8;\" x=\"33.2875\" xlink:href=\"#m086e67bf75\" y=\"87.103219\"/>\r\n      </g>\r\n     </g>\r\n     <g id=\"text_412\">\r\n      <!-- 402 -->\r\n      <g transform=\"translate(7.2 90.902438)scale(0.1 -0.1)\">\r\n       <use xlink:href=\"#DejaVuSans-52\"/>\r\n       <use x=\"63.623047\" xlink:href=\"#DejaVuSans-48\"/>\r\n       <use x=\"127.246094\" xlink:href=\"#DejaVuSans-50\"/>\r\n      </g>\r\n     </g>\r\n    </g>\r\n    <g id=\"ytick_404\">\r\n     <g id=\"line2d_413\">\r\n      <g>\r\n       <use style=\"stroke:#000000;stroke-width:0.8;\" x=\"33.2875\" xlink:href=\"#m086e67bf75\" y=\"86.752509\"/>\r\n      </g>\r\n     </g>\r\n     <g id=\"text_413\">\r\n      <!-- 403 -->\r\n      <g transform=\"translate(7.2 90.551728)scale(0.1 -0.1)\">\r\n       <use xlink:href=\"#DejaVuSans-52\"/>\r\n       <use x=\"63.623047\" xlink:href=\"#DejaVuSans-48\"/>\r\n       <use x=\"127.246094\" xlink:href=\"#DejaVuSans-51\"/>\r\n      </g>\r\n     </g>\r\n    </g>\r\n    <g id=\"ytick_405\">\r\n     <g id=\"line2d_414\">\r\n      <g>\r\n       <use style=\"stroke:#000000;stroke-width:0.8;\" x=\"33.2875\" xlink:href=\"#m086e67bf75\" y=\"86.401799\"/>\r\n      </g>\r\n     </g>\r\n     <g id=\"text_414\">\r\n      <!-- 404 -->\r\n      <g transform=\"translate(7.2 90.201018)scale(0.1 -0.1)\">\r\n       <use xlink:href=\"#DejaVuSans-52\"/>\r\n       <use x=\"63.623047\" xlink:href=\"#DejaVuSans-48\"/>\r\n       <use x=\"127.246094\" xlink:href=\"#DejaVuSans-52\"/>\r\n      </g>\r\n     </g>\r\n    </g>\r\n    <g id=\"ytick_406\">\r\n     <g id=\"line2d_415\">\r\n      <g>\r\n       <use style=\"stroke:#000000;stroke-width:0.8;\" x=\"33.2875\" xlink:href=\"#m086e67bf75\" y=\"86.05109\"/>\r\n      </g>\r\n     </g>\r\n     <g id=\"text_415\">\r\n      <!-- 405 -->\r\n      <g transform=\"translate(7.2 89.850308)scale(0.1 -0.1)\">\r\n       <use xlink:href=\"#DejaVuSans-52\"/>\r\n       <use x=\"63.623047\" xlink:href=\"#DejaVuSans-48\"/>\r\n       <use x=\"127.246094\" xlink:href=\"#DejaVuSans-53\"/>\r\n      </g>\r\n     </g>\r\n    </g>\r\n    <g id=\"ytick_407\">\r\n     <g id=\"line2d_416\">\r\n      <g>\r\n       <use style=\"stroke:#000000;stroke-width:0.8;\" x=\"33.2875\" xlink:href=\"#m086e67bf75\" y=\"85.70038\"/>\r\n      </g>\r\n     </g>\r\n     <g id=\"text_416\">\r\n      <!-- 406 -->\r\n      <g transform=\"translate(7.2 89.499599)scale(0.1 -0.1)\">\r\n       <use xlink:href=\"#DejaVuSans-52\"/>\r\n       <use x=\"63.623047\" xlink:href=\"#DejaVuSans-48\"/>\r\n       <use x=\"127.246094\" xlink:href=\"#DejaVuSans-54\"/>\r\n      </g>\r\n     </g>\r\n    </g>\r\n    <g id=\"ytick_408\">\r\n     <g id=\"line2d_417\">\r\n      <g>\r\n       <use style=\"stroke:#000000;stroke-width:0.8;\" x=\"33.2875\" xlink:href=\"#m086e67bf75\" y=\"85.34967\"/>\r\n      </g>\r\n     </g>\r\n     <g id=\"text_417\">\r\n      <!-- 407 -->\r\n      <g transform=\"translate(7.2 89.148889)scale(0.1 -0.1)\">\r\n       <use xlink:href=\"#DejaVuSans-52\"/>\r\n       <use x=\"63.623047\" xlink:href=\"#DejaVuSans-48\"/>\r\n       <use x=\"127.246094\" xlink:href=\"#DejaVuSans-55\"/>\r\n      </g>\r\n     </g>\r\n    </g>\r\n    <g id=\"ytick_409\">\r\n     <g id=\"line2d_418\">\r\n      <g>\r\n       <use style=\"stroke:#000000;stroke-width:0.8;\" x=\"33.2875\" xlink:href=\"#m086e67bf75\" y=\"84.998961\"/>\r\n      </g>\r\n     </g>\r\n     <g id=\"text_418\">\r\n      <!-- 408 -->\r\n      <g transform=\"translate(7.2 88.798179)scale(0.1 -0.1)\">\r\n       <use xlink:href=\"#DejaVuSans-52\"/>\r\n       <use x=\"63.623047\" xlink:href=\"#DejaVuSans-48\"/>\r\n       <use x=\"127.246094\" xlink:href=\"#DejaVuSans-56\"/>\r\n      </g>\r\n     </g>\r\n    </g>\r\n    <g id=\"ytick_410\">\r\n     <g id=\"line2d_419\">\r\n      <g>\r\n       <use style=\"stroke:#000000;stroke-width:0.8;\" x=\"33.2875\" xlink:href=\"#m086e67bf75\" y=\"84.648251\"/>\r\n      </g>\r\n     </g>\r\n     <g id=\"text_419\">\r\n      <!-- 409 -->\r\n      <g transform=\"translate(7.2 88.44747)scale(0.1 -0.1)\">\r\n       <use xlink:href=\"#DejaVuSans-52\"/>\r\n       <use x=\"63.623047\" xlink:href=\"#DejaVuSans-48\"/>\r\n       <use x=\"127.246094\" xlink:href=\"#DejaVuSans-57\"/>\r\n      </g>\r\n     </g>\r\n    </g>\r\n    <g id=\"ytick_411\">\r\n     <g id=\"line2d_420\">\r\n      <g>\r\n       <use style=\"stroke:#000000;stroke-width:0.8;\" x=\"33.2875\" xlink:href=\"#m086e67bf75\" y=\"84.297541\"/>\r\n      </g>\r\n     </g>\r\n     <g id=\"text_420\">\r\n      <!-- 410 -->\r\n      <g transform=\"translate(7.2 88.09676)scale(0.1 -0.1)\">\r\n       <use xlink:href=\"#DejaVuSans-52\"/>\r\n       <use x=\"63.623047\" xlink:href=\"#DejaVuSans-49\"/>\r\n       <use x=\"127.246094\" xlink:href=\"#DejaVuSans-48\"/>\r\n      </g>\r\n     </g>\r\n    </g>\r\n    <g id=\"ytick_412\">\r\n     <g id=\"line2d_421\">\r\n      <g>\r\n       <use style=\"stroke:#000000;stroke-width:0.8;\" x=\"33.2875\" xlink:href=\"#m086e67bf75\" y=\"83.946832\"/>\r\n      </g>\r\n     </g>\r\n     <g id=\"text_421\">\r\n      <!-- 411 -->\r\n      <g transform=\"translate(7.2 87.74605)scale(0.1 -0.1)\">\r\n       <use xlink:href=\"#DejaVuSans-52\"/>\r\n       <use x=\"63.623047\" xlink:href=\"#DejaVuSans-49\"/>\r\n       <use x=\"127.246094\" xlink:href=\"#DejaVuSans-49\"/>\r\n      </g>\r\n     </g>\r\n    </g>\r\n    <g id=\"ytick_413\">\r\n     <g id=\"line2d_422\">\r\n      <g>\r\n       <use style=\"stroke:#000000;stroke-width:0.8;\" x=\"33.2875\" xlink:href=\"#m086e67bf75\" y=\"83.596122\"/>\r\n      </g>\r\n     </g>\r\n     <g id=\"text_422\">\r\n      <!-- 412 -->\r\n      <g transform=\"translate(7.2 87.395341)scale(0.1 -0.1)\">\r\n       <use xlink:href=\"#DejaVuSans-52\"/>\r\n       <use x=\"63.623047\" xlink:href=\"#DejaVuSans-49\"/>\r\n       <use x=\"127.246094\" xlink:href=\"#DejaVuSans-50\"/>\r\n      </g>\r\n     </g>\r\n    </g>\r\n    <g id=\"ytick_414\">\r\n     <g id=\"line2d_423\">\r\n      <g>\r\n       <use style=\"stroke:#000000;stroke-width:0.8;\" x=\"33.2875\" xlink:href=\"#m086e67bf75\" y=\"83.245412\"/>\r\n      </g>\r\n     </g>\r\n     <g id=\"text_423\">\r\n      <!-- 413 -->\r\n      <g transform=\"translate(7.2 87.044631)scale(0.1 -0.1)\">\r\n       <use xlink:href=\"#DejaVuSans-52\"/>\r\n       <use x=\"63.623047\" xlink:href=\"#DejaVuSans-49\"/>\r\n       <use x=\"127.246094\" xlink:href=\"#DejaVuSans-51\"/>\r\n      </g>\r\n     </g>\r\n    </g>\r\n    <g id=\"ytick_415\">\r\n     <g id=\"line2d_424\">\r\n      <g>\r\n       <use style=\"stroke:#000000;stroke-width:0.8;\" x=\"33.2875\" xlink:href=\"#m086e67bf75\" y=\"82.894703\"/>\r\n      </g>\r\n     </g>\r\n     <g id=\"text_424\">\r\n      <!-- 414 -->\r\n      <g transform=\"translate(7.2 86.693921)scale(0.1 -0.1)\">\r\n       <use xlink:href=\"#DejaVuSans-52\"/>\r\n       <use x=\"63.623047\" xlink:href=\"#DejaVuSans-49\"/>\r\n       <use x=\"127.246094\" xlink:href=\"#DejaVuSans-52\"/>\r\n      </g>\r\n     </g>\r\n    </g>\r\n    <g id=\"ytick_416\">\r\n     <g id=\"line2d_425\">\r\n      <g>\r\n       <use style=\"stroke:#000000;stroke-width:0.8;\" x=\"33.2875\" xlink:href=\"#m086e67bf75\" y=\"82.543993\"/>\r\n      </g>\r\n     </g>\r\n     <g id=\"text_425\">\r\n      <!-- 415 -->\r\n      <g transform=\"translate(7.2 86.343212)scale(0.1 -0.1)\">\r\n       <use xlink:href=\"#DejaVuSans-52\"/>\r\n       <use x=\"63.623047\" xlink:href=\"#DejaVuSans-49\"/>\r\n       <use x=\"127.246094\" xlink:href=\"#DejaVuSans-53\"/>\r\n      </g>\r\n     </g>\r\n    </g>\r\n    <g id=\"ytick_417\">\r\n     <g id=\"line2d_426\">\r\n      <g>\r\n       <use style=\"stroke:#000000;stroke-width:0.8;\" x=\"33.2875\" xlink:href=\"#m086e67bf75\" y=\"82.193283\"/>\r\n      </g>\r\n     </g>\r\n     <g id=\"text_426\">\r\n      <!-- 416 -->\r\n      <g transform=\"translate(7.2 85.992502)scale(0.1 -0.1)\">\r\n       <use xlink:href=\"#DejaVuSans-52\"/>\r\n       <use x=\"63.623047\" xlink:href=\"#DejaVuSans-49\"/>\r\n       <use x=\"127.246094\" xlink:href=\"#DejaVuSans-54\"/>\r\n      </g>\r\n     </g>\r\n    </g>\r\n    <g id=\"ytick_418\">\r\n     <g id=\"line2d_427\">\r\n      <g>\r\n       <use style=\"stroke:#000000;stroke-width:0.8;\" x=\"33.2875\" xlink:href=\"#m086e67bf75\" y=\"81.842574\"/>\r\n      </g>\r\n     </g>\r\n     <g id=\"text_427\">\r\n      <!-- 417 -->\r\n      <g transform=\"translate(7.2 85.641792)scale(0.1 -0.1)\">\r\n       <use xlink:href=\"#DejaVuSans-52\"/>\r\n       <use x=\"63.623047\" xlink:href=\"#DejaVuSans-49\"/>\r\n       <use x=\"127.246094\" xlink:href=\"#DejaVuSans-55\"/>\r\n      </g>\r\n     </g>\r\n    </g>\r\n    <g id=\"ytick_419\">\r\n     <g id=\"line2d_428\">\r\n      <g>\r\n       <use style=\"stroke:#000000;stroke-width:0.8;\" x=\"33.2875\" xlink:href=\"#m086e67bf75\" y=\"81.491864\"/>\r\n      </g>\r\n     </g>\r\n     <g id=\"text_428\">\r\n      <!-- 418 -->\r\n      <g transform=\"translate(7.2 85.291083)scale(0.1 -0.1)\">\r\n       <use xlink:href=\"#DejaVuSans-52\"/>\r\n       <use x=\"63.623047\" xlink:href=\"#DejaVuSans-49\"/>\r\n       <use x=\"127.246094\" xlink:href=\"#DejaVuSans-56\"/>\r\n      </g>\r\n     </g>\r\n    </g>\r\n    <g id=\"ytick_420\">\r\n     <g id=\"line2d_429\">\r\n      <g>\r\n       <use style=\"stroke:#000000;stroke-width:0.8;\" x=\"33.2875\" xlink:href=\"#m086e67bf75\" y=\"81.141154\"/>\r\n      </g>\r\n     </g>\r\n     <g id=\"text_429\">\r\n      <!-- 419 -->\r\n      <g transform=\"translate(7.2 84.940373)scale(0.1 -0.1)\">\r\n       <use xlink:href=\"#DejaVuSans-52\"/>\r\n       <use x=\"63.623047\" xlink:href=\"#DejaVuSans-49\"/>\r\n       <use x=\"127.246094\" xlink:href=\"#DejaVuSans-57\"/>\r\n      </g>\r\n     </g>\r\n    </g>\r\n    <g id=\"ytick_421\">\r\n     <g id=\"line2d_430\">\r\n      <g>\r\n       <use style=\"stroke:#000000;stroke-width:0.8;\" x=\"33.2875\" xlink:href=\"#m086e67bf75\" y=\"80.790445\"/>\r\n      </g>\r\n     </g>\r\n     <g id=\"text_430\">\r\n      <!-- 420 -->\r\n      <g transform=\"translate(7.2 84.589663)scale(0.1 -0.1)\">\r\n       <use xlink:href=\"#DejaVuSans-52\"/>\r\n       <use x=\"63.623047\" xlink:href=\"#DejaVuSans-50\"/>\r\n       <use x=\"127.246094\" xlink:href=\"#DejaVuSans-48\"/>\r\n      </g>\r\n     </g>\r\n    </g>\r\n    <g id=\"ytick_422\">\r\n     <g id=\"line2d_431\">\r\n      <g>\r\n       <use style=\"stroke:#000000;stroke-width:0.8;\" x=\"33.2875\" xlink:href=\"#m086e67bf75\" y=\"80.439735\"/>\r\n      </g>\r\n     </g>\r\n     <g id=\"text_431\">\r\n      <!-- 421 -->\r\n      <g transform=\"translate(7.2 84.238954)scale(0.1 -0.1)\">\r\n       <use xlink:href=\"#DejaVuSans-52\"/>\r\n       <use x=\"63.623047\" xlink:href=\"#DejaVuSans-50\"/>\r\n       <use x=\"127.246094\" xlink:href=\"#DejaVuSans-49\"/>\r\n      </g>\r\n     </g>\r\n    </g>\r\n    <g id=\"ytick_423\">\r\n     <g id=\"line2d_432\">\r\n      <g>\r\n       <use style=\"stroke:#000000;stroke-width:0.8;\" x=\"33.2875\" xlink:href=\"#m086e67bf75\" y=\"80.089025\"/>\r\n      </g>\r\n     </g>\r\n     <g id=\"text_432\">\r\n      <!-- 422 -->\r\n      <g transform=\"translate(7.2 83.888244)scale(0.1 -0.1)\">\r\n       <use xlink:href=\"#DejaVuSans-52\"/>\r\n       <use x=\"63.623047\" xlink:href=\"#DejaVuSans-50\"/>\r\n       <use x=\"127.246094\" xlink:href=\"#DejaVuSans-50\"/>\r\n      </g>\r\n     </g>\r\n    </g>\r\n    <g id=\"ytick_424\">\r\n     <g id=\"line2d_433\">\r\n      <g>\r\n       <use style=\"stroke:#000000;stroke-width:0.8;\" x=\"33.2875\" xlink:href=\"#m086e67bf75\" y=\"79.738316\"/>\r\n      </g>\r\n     </g>\r\n     <g id=\"text_433\">\r\n      <!-- 423 -->\r\n      <g transform=\"translate(7.2 83.537534)scale(0.1 -0.1)\">\r\n       <use xlink:href=\"#DejaVuSans-52\"/>\r\n       <use x=\"63.623047\" xlink:href=\"#DejaVuSans-50\"/>\r\n       <use x=\"127.246094\" xlink:href=\"#DejaVuSans-51\"/>\r\n      </g>\r\n     </g>\r\n    </g>\r\n    <g id=\"ytick_425\">\r\n     <g id=\"line2d_434\">\r\n      <g>\r\n       <use style=\"stroke:#000000;stroke-width:0.8;\" x=\"33.2875\" xlink:href=\"#m086e67bf75\" y=\"79.387606\"/>\r\n      </g>\r\n     </g>\r\n     <g id=\"text_434\">\r\n      <!-- 424 -->\r\n      <g transform=\"translate(7.2 83.186825)scale(0.1 -0.1)\">\r\n       <use xlink:href=\"#DejaVuSans-52\"/>\r\n       <use x=\"63.623047\" xlink:href=\"#DejaVuSans-50\"/>\r\n       <use x=\"127.246094\" xlink:href=\"#DejaVuSans-52\"/>\r\n      </g>\r\n     </g>\r\n    </g>\r\n    <g id=\"ytick_426\">\r\n     <g id=\"line2d_435\">\r\n      <g>\r\n       <use style=\"stroke:#000000;stroke-width:0.8;\" x=\"33.2875\" xlink:href=\"#m086e67bf75\" y=\"79.036896\"/>\r\n      </g>\r\n     </g>\r\n     <g id=\"text_435\">\r\n      <!-- 425 -->\r\n      <g transform=\"translate(7.2 82.836115)scale(0.1 -0.1)\">\r\n       <use xlink:href=\"#DejaVuSans-52\"/>\r\n       <use x=\"63.623047\" xlink:href=\"#DejaVuSans-50\"/>\r\n       <use x=\"127.246094\" xlink:href=\"#DejaVuSans-53\"/>\r\n      </g>\r\n     </g>\r\n    </g>\r\n    <g id=\"ytick_427\">\r\n     <g id=\"line2d_436\">\r\n      <g>\r\n       <use style=\"stroke:#000000;stroke-width:0.8;\" x=\"33.2875\" xlink:href=\"#m086e67bf75\" y=\"78.686186\"/>\r\n      </g>\r\n     </g>\r\n     <g id=\"text_436\">\r\n      <!-- 426 -->\r\n      <g transform=\"translate(7.2 82.485405)scale(0.1 -0.1)\">\r\n       <use xlink:href=\"#DejaVuSans-52\"/>\r\n       <use x=\"63.623047\" xlink:href=\"#DejaVuSans-50\"/>\r\n       <use x=\"127.246094\" xlink:href=\"#DejaVuSans-54\"/>\r\n      </g>\r\n     </g>\r\n    </g>\r\n    <g id=\"ytick_428\">\r\n     <g id=\"line2d_437\">\r\n      <g>\r\n       <use style=\"stroke:#000000;stroke-width:0.8;\" x=\"33.2875\" xlink:href=\"#m086e67bf75\" y=\"78.335477\"/>\r\n      </g>\r\n     </g>\r\n     <g id=\"text_437\">\r\n      <!-- 427 -->\r\n      <g transform=\"translate(7.2 82.134696)scale(0.1 -0.1)\">\r\n       <use xlink:href=\"#DejaVuSans-52\"/>\r\n       <use x=\"63.623047\" xlink:href=\"#DejaVuSans-50\"/>\r\n       <use x=\"127.246094\" xlink:href=\"#DejaVuSans-55\"/>\r\n      </g>\r\n     </g>\r\n    </g>\r\n    <g id=\"ytick_429\">\r\n     <g id=\"line2d_438\">\r\n      <g>\r\n       <use style=\"stroke:#000000;stroke-width:0.8;\" x=\"33.2875\" xlink:href=\"#m086e67bf75\" y=\"77.984767\"/>\r\n      </g>\r\n     </g>\r\n     <g id=\"text_438\">\r\n      <!-- 428 -->\r\n      <g transform=\"translate(7.2 81.783986)scale(0.1 -0.1)\">\r\n       <use xlink:href=\"#DejaVuSans-52\"/>\r\n       <use x=\"63.623047\" xlink:href=\"#DejaVuSans-50\"/>\r\n       <use x=\"127.246094\" xlink:href=\"#DejaVuSans-56\"/>\r\n      </g>\r\n     </g>\r\n    </g>\r\n    <g id=\"ytick_430\">\r\n     <g id=\"line2d_439\">\r\n      <g>\r\n       <use style=\"stroke:#000000;stroke-width:0.8;\" x=\"33.2875\" xlink:href=\"#m086e67bf75\" y=\"77.634057\"/>\r\n      </g>\r\n     </g>\r\n     <g id=\"text_439\">\r\n      <!-- 429 -->\r\n      <g transform=\"translate(7.2 81.433276)scale(0.1 -0.1)\">\r\n       <use xlink:href=\"#DejaVuSans-52\"/>\r\n       <use x=\"63.623047\" xlink:href=\"#DejaVuSans-50\"/>\r\n       <use x=\"127.246094\" xlink:href=\"#DejaVuSans-57\"/>\r\n      </g>\r\n     </g>\r\n    </g>\r\n    <g id=\"ytick_431\">\r\n     <g id=\"line2d_440\">\r\n      <g>\r\n       <use style=\"stroke:#000000;stroke-width:0.8;\" x=\"33.2875\" xlink:href=\"#m086e67bf75\" y=\"77.283348\"/>\r\n      </g>\r\n     </g>\r\n     <g id=\"text_440\">\r\n      <!-- 430 -->\r\n      <g transform=\"translate(7.2 81.082567)scale(0.1 -0.1)\">\r\n       <use xlink:href=\"#DejaVuSans-52\"/>\r\n       <use x=\"63.623047\" xlink:href=\"#DejaVuSans-51\"/>\r\n       <use x=\"127.246094\" xlink:href=\"#DejaVuSans-48\"/>\r\n      </g>\r\n     </g>\r\n    </g>\r\n    <g id=\"ytick_432\">\r\n     <g id=\"line2d_441\">\r\n      <g>\r\n       <use style=\"stroke:#000000;stroke-width:0.8;\" x=\"33.2875\" xlink:href=\"#m086e67bf75\" y=\"76.932638\"/>\r\n      </g>\r\n     </g>\r\n     <g id=\"text_441\">\r\n      <!-- 431 -->\r\n      <g transform=\"translate(7.2 80.731857)scale(0.1 -0.1)\">\r\n       <use xlink:href=\"#DejaVuSans-52\"/>\r\n       <use x=\"63.623047\" xlink:href=\"#DejaVuSans-51\"/>\r\n       <use x=\"127.246094\" xlink:href=\"#DejaVuSans-49\"/>\r\n      </g>\r\n     </g>\r\n    </g>\r\n    <g id=\"ytick_433\">\r\n     <g id=\"line2d_442\">\r\n      <g>\r\n       <use style=\"stroke:#000000;stroke-width:0.8;\" x=\"33.2875\" xlink:href=\"#m086e67bf75\" y=\"76.581928\"/>\r\n      </g>\r\n     </g>\r\n     <g id=\"text_442\">\r\n      <!-- 432 -->\r\n      <g transform=\"translate(7.2 80.381147)scale(0.1 -0.1)\">\r\n       <use xlink:href=\"#DejaVuSans-52\"/>\r\n       <use x=\"63.623047\" xlink:href=\"#DejaVuSans-51\"/>\r\n       <use x=\"127.246094\" xlink:href=\"#DejaVuSans-50\"/>\r\n      </g>\r\n     </g>\r\n    </g>\r\n    <g id=\"ytick_434\">\r\n     <g id=\"line2d_443\">\r\n      <g>\r\n       <use style=\"stroke:#000000;stroke-width:0.8;\" x=\"33.2875\" xlink:href=\"#m086e67bf75\" y=\"76.231219\"/>\r\n      </g>\r\n     </g>\r\n     <g id=\"text_443\">\r\n      <!-- 433 -->\r\n      <g transform=\"translate(7.2 80.030438)scale(0.1 -0.1)\">\r\n       <use xlink:href=\"#DejaVuSans-52\"/>\r\n       <use x=\"63.623047\" xlink:href=\"#DejaVuSans-51\"/>\r\n       <use x=\"127.246094\" xlink:href=\"#DejaVuSans-51\"/>\r\n      </g>\r\n     </g>\r\n    </g>\r\n    <g id=\"ytick_435\">\r\n     <g id=\"line2d_444\">\r\n      <g>\r\n       <use style=\"stroke:#000000;stroke-width:0.8;\" x=\"33.2875\" xlink:href=\"#m086e67bf75\" y=\"75.880509\"/>\r\n      </g>\r\n     </g>\r\n     <g id=\"text_444\">\r\n      <!-- 434 -->\r\n      <g transform=\"translate(7.2 79.679728)scale(0.1 -0.1)\">\r\n       <use xlink:href=\"#DejaVuSans-52\"/>\r\n       <use x=\"63.623047\" xlink:href=\"#DejaVuSans-51\"/>\r\n       <use x=\"127.246094\" xlink:href=\"#DejaVuSans-52\"/>\r\n      </g>\r\n     </g>\r\n    </g>\r\n    <g id=\"ytick_436\">\r\n     <g id=\"line2d_445\">\r\n      <g>\r\n       <use style=\"stroke:#000000;stroke-width:0.8;\" x=\"33.2875\" xlink:href=\"#m086e67bf75\" y=\"75.529799\"/>\r\n      </g>\r\n     </g>\r\n     <g id=\"text_445\">\r\n      <!-- 435 -->\r\n      <g transform=\"translate(7.2 79.329018)scale(0.1 -0.1)\">\r\n       <use xlink:href=\"#DejaVuSans-52\"/>\r\n       <use x=\"63.623047\" xlink:href=\"#DejaVuSans-51\"/>\r\n       <use x=\"127.246094\" xlink:href=\"#DejaVuSans-53\"/>\r\n      </g>\r\n     </g>\r\n    </g>\r\n    <g id=\"ytick_437\">\r\n     <g id=\"line2d_446\">\r\n      <g>\r\n       <use style=\"stroke:#000000;stroke-width:0.8;\" x=\"33.2875\" xlink:href=\"#m086e67bf75\" y=\"75.17909\"/>\r\n      </g>\r\n     </g>\r\n     <g id=\"text_446\">\r\n      <!-- 436 -->\r\n      <g transform=\"translate(7.2 78.978308)scale(0.1 -0.1)\">\r\n       <use xlink:href=\"#DejaVuSans-52\"/>\r\n       <use x=\"63.623047\" xlink:href=\"#DejaVuSans-51\"/>\r\n       <use x=\"127.246094\" xlink:href=\"#DejaVuSans-54\"/>\r\n      </g>\r\n     </g>\r\n    </g>\r\n    <g id=\"ytick_438\">\r\n     <g id=\"line2d_447\">\r\n      <g>\r\n       <use style=\"stroke:#000000;stroke-width:0.8;\" x=\"33.2875\" xlink:href=\"#m086e67bf75\" y=\"74.82838\"/>\r\n      </g>\r\n     </g>\r\n     <g id=\"text_447\">\r\n      <!-- 437 -->\r\n      <g transform=\"translate(7.2 78.627599)scale(0.1 -0.1)\">\r\n       <use xlink:href=\"#DejaVuSans-52\"/>\r\n       <use x=\"63.623047\" xlink:href=\"#DejaVuSans-51\"/>\r\n       <use x=\"127.246094\" xlink:href=\"#DejaVuSans-55\"/>\r\n      </g>\r\n     </g>\r\n    </g>\r\n    <g id=\"ytick_439\">\r\n     <g id=\"line2d_448\">\r\n      <g>\r\n       <use style=\"stroke:#000000;stroke-width:0.8;\" x=\"33.2875\" xlink:href=\"#m086e67bf75\" y=\"74.47767\"/>\r\n      </g>\r\n     </g>\r\n     <g id=\"text_448\">\r\n      <!-- 438 -->\r\n      <g transform=\"translate(7.2 78.276889)scale(0.1 -0.1)\">\r\n       <use xlink:href=\"#DejaVuSans-52\"/>\r\n       <use x=\"63.623047\" xlink:href=\"#DejaVuSans-51\"/>\r\n       <use x=\"127.246094\" xlink:href=\"#DejaVuSans-56\"/>\r\n      </g>\r\n     </g>\r\n    </g>\r\n    <g id=\"ytick_440\">\r\n     <g id=\"line2d_449\">\r\n      <g>\r\n       <use style=\"stroke:#000000;stroke-width:0.8;\" x=\"33.2875\" xlink:href=\"#m086e67bf75\" y=\"74.126961\"/>\r\n      </g>\r\n     </g>\r\n     <g id=\"text_449\">\r\n      <!-- 439 -->\r\n      <g transform=\"translate(7.2 77.926179)scale(0.1 -0.1)\">\r\n       <use xlink:href=\"#DejaVuSans-52\"/>\r\n       <use x=\"63.623047\" xlink:href=\"#DejaVuSans-51\"/>\r\n       <use x=\"127.246094\" xlink:href=\"#DejaVuSans-57\"/>\r\n      </g>\r\n     </g>\r\n    </g>\r\n    <g id=\"ytick_441\">\r\n     <g id=\"line2d_450\">\r\n      <g>\r\n       <use style=\"stroke:#000000;stroke-width:0.8;\" x=\"33.2875\" xlink:href=\"#m086e67bf75\" y=\"73.776251\"/>\r\n      </g>\r\n     </g>\r\n     <g id=\"text_450\">\r\n      <!-- 440 -->\r\n      <g transform=\"translate(7.2 77.57547)scale(0.1 -0.1)\">\r\n       <use xlink:href=\"#DejaVuSans-52\"/>\r\n       <use x=\"63.623047\" xlink:href=\"#DejaVuSans-52\"/>\r\n       <use x=\"127.246094\" xlink:href=\"#DejaVuSans-48\"/>\r\n      </g>\r\n     </g>\r\n    </g>\r\n    <g id=\"ytick_442\">\r\n     <g id=\"line2d_451\">\r\n      <g>\r\n       <use style=\"stroke:#000000;stroke-width:0.8;\" x=\"33.2875\" xlink:href=\"#m086e67bf75\" y=\"73.425541\"/>\r\n      </g>\r\n     </g>\r\n     <g id=\"text_451\">\r\n      <!-- 441 -->\r\n      <g transform=\"translate(7.2 77.22476)scale(0.1 -0.1)\">\r\n       <use xlink:href=\"#DejaVuSans-52\"/>\r\n       <use x=\"63.623047\" xlink:href=\"#DejaVuSans-52\"/>\r\n       <use x=\"127.246094\" xlink:href=\"#DejaVuSans-49\"/>\r\n      </g>\r\n     </g>\r\n    </g>\r\n    <g id=\"ytick_443\">\r\n     <g id=\"line2d_452\">\r\n      <g>\r\n       <use style=\"stroke:#000000;stroke-width:0.8;\" x=\"33.2875\" xlink:href=\"#m086e67bf75\" y=\"73.074832\"/>\r\n      </g>\r\n     </g>\r\n     <g id=\"text_452\">\r\n      <!-- 442 -->\r\n      <g transform=\"translate(7.2 76.87405)scale(0.1 -0.1)\">\r\n       <use xlink:href=\"#DejaVuSans-52\"/>\r\n       <use x=\"63.623047\" xlink:href=\"#DejaVuSans-52\"/>\r\n       <use x=\"127.246094\" xlink:href=\"#DejaVuSans-50\"/>\r\n      </g>\r\n     </g>\r\n    </g>\r\n    <g id=\"ytick_444\">\r\n     <g id=\"line2d_453\">\r\n      <g>\r\n       <use style=\"stroke:#000000;stroke-width:0.8;\" x=\"33.2875\" xlink:href=\"#m086e67bf75\" y=\"72.724122\"/>\r\n      </g>\r\n     </g>\r\n     <g id=\"text_453\">\r\n      <!-- 443 -->\r\n      <g transform=\"translate(7.2 76.523341)scale(0.1 -0.1)\">\r\n       <use xlink:href=\"#DejaVuSans-52\"/>\r\n       <use x=\"63.623047\" xlink:href=\"#DejaVuSans-52\"/>\r\n       <use x=\"127.246094\" xlink:href=\"#DejaVuSans-51\"/>\r\n      </g>\r\n     </g>\r\n    </g>\r\n    <g id=\"ytick_445\">\r\n     <g id=\"line2d_454\">\r\n      <g>\r\n       <use style=\"stroke:#000000;stroke-width:0.8;\" x=\"33.2875\" xlink:href=\"#m086e67bf75\" y=\"72.373412\"/>\r\n      </g>\r\n     </g>\r\n     <g id=\"text_454\">\r\n      <!-- 444 -->\r\n      <g transform=\"translate(7.2 76.172631)scale(0.1 -0.1)\">\r\n       <use xlink:href=\"#DejaVuSans-52\"/>\r\n       <use x=\"63.623047\" xlink:href=\"#DejaVuSans-52\"/>\r\n       <use x=\"127.246094\" xlink:href=\"#DejaVuSans-52\"/>\r\n      </g>\r\n     </g>\r\n    </g>\r\n    <g id=\"ytick_446\">\r\n     <g id=\"line2d_455\">\r\n      <g>\r\n       <use style=\"stroke:#000000;stroke-width:0.8;\" x=\"33.2875\" xlink:href=\"#m086e67bf75\" y=\"72.022703\"/>\r\n      </g>\r\n     </g>\r\n     <g id=\"text_455\">\r\n      <!-- 445 -->\r\n      <g transform=\"translate(7.2 75.821921)scale(0.1 -0.1)\">\r\n       <use xlink:href=\"#DejaVuSans-52\"/>\r\n       <use x=\"63.623047\" xlink:href=\"#DejaVuSans-52\"/>\r\n       <use x=\"127.246094\" xlink:href=\"#DejaVuSans-53\"/>\r\n      </g>\r\n     </g>\r\n    </g>\r\n    <g id=\"ytick_447\">\r\n     <g id=\"line2d_456\">\r\n      <g>\r\n       <use style=\"stroke:#000000;stroke-width:0.8;\" x=\"33.2875\" xlink:href=\"#m086e67bf75\" y=\"71.671993\"/>\r\n      </g>\r\n     </g>\r\n     <g id=\"text_456\">\r\n      <!-- 446 -->\r\n      <g transform=\"translate(7.2 75.471212)scale(0.1 -0.1)\">\r\n       <use xlink:href=\"#DejaVuSans-52\"/>\r\n       <use x=\"63.623047\" xlink:href=\"#DejaVuSans-52\"/>\r\n       <use x=\"127.246094\" xlink:href=\"#DejaVuSans-54\"/>\r\n      </g>\r\n     </g>\r\n    </g>\r\n    <g id=\"ytick_448\">\r\n     <g id=\"line2d_457\">\r\n      <g>\r\n       <use style=\"stroke:#000000;stroke-width:0.8;\" x=\"33.2875\" xlink:href=\"#m086e67bf75\" y=\"71.321283\"/>\r\n      </g>\r\n     </g>\r\n     <g id=\"text_457\">\r\n      <!-- 447 -->\r\n      <g transform=\"translate(7.2 75.120502)scale(0.1 -0.1)\">\r\n       <use xlink:href=\"#DejaVuSans-52\"/>\r\n       <use x=\"63.623047\" xlink:href=\"#DejaVuSans-52\"/>\r\n       <use x=\"127.246094\" xlink:href=\"#DejaVuSans-55\"/>\r\n      </g>\r\n     </g>\r\n    </g>\r\n    <g id=\"ytick_449\">\r\n     <g id=\"line2d_458\">\r\n      <g>\r\n       <use style=\"stroke:#000000;stroke-width:0.8;\" x=\"33.2875\" xlink:href=\"#m086e67bf75\" y=\"70.970574\"/>\r\n      </g>\r\n     </g>\r\n     <g id=\"text_458\">\r\n      <!-- 448 -->\r\n      <g transform=\"translate(7.2 74.769792)scale(0.1 -0.1)\">\r\n       <use xlink:href=\"#DejaVuSans-52\"/>\r\n       <use x=\"63.623047\" xlink:href=\"#DejaVuSans-52\"/>\r\n       <use x=\"127.246094\" xlink:href=\"#DejaVuSans-56\"/>\r\n      </g>\r\n     </g>\r\n    </g>\r\n    <g id=\"ytick_450\">\r\n     <g id=\"line2d_459\">\r\n      <g>\r\n       <use style=\"stroke:#000000;stroke-width:0.8;\" x=\"33.2875\" xlink:href=\"#m086e67bf75\" y=\"70.619864\"/>\r\n      </g>\r\n     </g>\r\n     <g id=\"text_459\">\r\n      <!-- 449 -->\r\n      <g transform=\"translate(7.2 74.419083)scale(0.1 -0.1)\">\r\n       <use xlink:href=\"#DejaVuSans-52\"/>\r\n       <use x=\"63.623047\" xlink:href=\"#DejaVuSans-52\"/>\r\n       <use x=\"127.246094\" xlink:href=\"#DejaVuSans-57\"/>\r\n      </g>\r\n     </g>\r\n    </g>\r\n    <g id=\"ytick_451\">\r\n     <g id=\"line2d_460\">\r\n      <g>\r\n       <use style=\"stroke:#000000;stroke-width:0.8;\" x=\"33.2875\" xlink:href=\"#m086e67bf75\" y=\"70.269154\"/>\r\n      </g>\r\n     </g>\r\n     <g id=\"text_460\">\r\n      <!-- 450 -->\r\n      <g transform=\"translate(7.2 74.068373)scale(0.1 -0.1)\">\r\n       <use xlink:href=\"#DejaVuSans-52\"/>\r\n       <use x=\"63.623047\" xlink:href=\"#DejaVuSans-53\"/>\r\n       <use x=\"127.246094\" xlink:href=\"#DejaVuSans-48\"/>\r\n      </g>\r\n     </g>\r\n    </g>\r\n    <g id=\"ytick_452\">\r\n     <g id=\"line2d_461\">\r\n      <g>\r\n       <use style=\"stroke:#000000;stroke-width:0.8;\" x=\"33.2875\" xlink:href=\"#m086e67bf75\" y=\"69.918445\"/>\r\n      </g>\r\n     </g>\r\n     <g id=\"text_461\">\r\n      <!-- 451 -->\r\n      <g transform=\"translate(7.2 73.717663)scale(0.1 -0.1)\">\r\n       <use xlink:href=\"#DejaVuSans-52\"/>\r\n       <use x=\"63.623047\" xlink:href=\"#DejaVuSans-53\"/>\r\n       <use x=\"127.246094\" xlink:href=\"#DejaVuSans-49\"/>\r\n      </g>\r\n     </g>\r\n    </g>\r\n    <g id=\"ytick_453\">\r\n     <g id=\"line2d_462\">\r\n      <g>\r\n       <use style=\"stroke:#000000;stroke-width:0.8;\" x=\"33.2875\" xlink:href=\"#m086e67bf75\" y=\"69.567735\"/>\r\n      </g>\r\n     </g>\r\n     <g id=\"text_462\">\r\n      <!-- 452 -->\r\n      <g transform=\"translate(7.2 73.366954)scale(0.1 -0.1)\">\r\n       <use xlink:href=\"#DejaVuSans-52\"/>\r\n       <use x=\"63.623047\" xlink:href=\"#DejaVuSans-53\"/>\r\n       <use x=\"127.246094\" xlink:href=\"#DejaVuSans-50\"/>\r\n      </g>\r\n     </g>\r\n    </g>\r\n    <g id=\"ytick_454\">\r\n     <g id=\"line2d_463\">\r\n      <g>\r\n       <use style=\"stroke:#000000;stroke-width:0.8;\" x=\"33.2875\" xlink:href=\"#m086e67bf75\" y=\"69.217025\"/>\r\n      </g>\r\n     </g>\r\n     <g id=\"text_463\">\r\n      <!-- 453 -->\r\n      <g transform=\"translate(7.2 73.016244)scale(0.1 -0.1)\">\r\n       <use xlink:href=\"#DejaVuSans-52\"/>\r\n       <use x=\"63.623047\" xlink:href=\"#DejaVuSans-53\"/>\r\n       <use x=\"127.246094\" xlink:href=\"#DejaVuSans-51\"/>\r\n      </g>\r\n     </g>\r\n    </g>\r\n    <g id=\"ytick_455\">\r\n     <g id=\"line2d_464\">\r\n      <g>\r\n       <use style=\"stroke:#000000;stroke-width:0.8;\" x=\"33.2875\" xlink:href=\"#m086e67bf75\" y=\"68.866316\"/>\r\n      </g>\r\n     </g>\r\n     <g id=\"text_464\">\r\n      <!-- 454 -->\r\n      <g transform=\"translate(7.2 72.665534)scale(0.1 -0.1)\">\r\n       <use xlink:href=\"#DejaVuSans-52\"/>\r\n       <use x=\"63.623047\" xlink:href=\"#DejaVuSans-53\"/>\r\n       <use x=\"127.246094\" xlink:href=\"#DejaVuSans-52\"/>\r\n      </g>\r\n     </g>\r\n    </g>\r\n    <g id=\"ytick_456\">\r\n     <g id=\"line2d_465\">\r\n      <g>\r\n       <use style=\"stroke:#000000;stroke-width:0.8;\" x=\"33.2875\" xlink:href=\"#m086e67bf75\" y=\"68.515606\"/>\r\n      </g>\r\n     </g>\r\n     <g id=\"text_465\">\r\n      <!-- 455 -->\r\n      <g transform=\"translate(7.2 72.314825)scale(0.1 -0.1)\">\r\n       <use xlink:href=\"#DejaVuSans-52\"/>\r\n       <use x=\"63.623047\" xlink:href=\"#DejaVuSans-53\"/>\r\n       <use x=\"127.246094\" xlink:href=\"#DejaVuSans-53\"/>\r\n      </g>\r\n     </g>\r\n    </g>\r\n    <g id=\"ytick_457\">\r\n     <g id=\"line2d_466\">\r\n      <g>\r\n       <use style=\"stroke:#000000;stroke-width:0.8;\" x=\"33.2875\" xlink:href=\"#m086e67bf75\" y=\"68.164896\"/>\r\n      </g>\r\n     </g>\r\n     <g id=\"text_466\">\r\n      <!-- 456 -->\r\n      <g transform=\"translate(7.2 71.964115)scale(0.1 -0.1)\">\r\n       <use xlink:href=\"#DejaVuSans-52\"/>\r\n       <use x=\"63.623047\" xlink:href=\"#DejaVuSans-53\"/>\r\n       <use x=\"127.246094\" xlink:href=\"#DejaVuSans-54\"/>\r\n      </g>\r\n     </g>\r\n    </g>\r\n    <g id=\"ytick_458\">\r\n     <g id=\"line2d_467\">\r\n      <g>\r\n       <use style=\"stroke:#000000;stroke-width:0.8;\" x=\"33.2875\" xlink:href=\"#m086e67bf75\" y=\"67.814186\"/>\r\n      </g>\r\n     </g>\r\n     <g id=\"text_467\">\r\n      <!-- 457 -->\r\n      <g transform=\"translate(7.2 71.613405)scale(0.1 -0.1)\">\r\n       <use xlink:href=\"#DejaVuSans-52\"/>\r\n       <use x=\"63.623047\" xlink:href=\"#DejaVuSans-53\"/>\r\n       <use x=\"127.246094\" xlink:href=\"#DejaVuSans-55\"/>\r\n      </g>\r\n     </g>\r\n    </g>\r\n    <g id=\"ytick_459\">\r\n     <g id=\"line2d_468\">\r\n      <g>\r\n       <use style=\"stroke:#000000;stroke-width:0.8;\" x=\"33.2875\" xlink:href=\"#m086e67bf75\" y=\"67.463477\"/>\r\n      </g>\r\n     </g>\r\n     <g id=\"text_468\">\r\n      <!-- 458 -->\r\n      <g transform=\"translate(7.2 71.262696)scale(0.1 -0.1)\">\r\n       <use xlink:href=\"#DejaVuSans-52\"/>\r\n       <use x=\"63.623047\" xlink:href=\"#DejaVuSans-53\"/>\r\n       <use x=\"127.246094\" xlink:href=\"#DejaVuSans-56\"/>\r\n      </g>\r\n     </g>\r\n    </g>\r\n    <g id=\"ytick_460\">\r\n     <g id=\"line2d_469\">\r\n      <g>\r\n       <use style=\"stroke:#000000;stroke-width:0.8;\" x=\"33.2875\" xlink:href=\"#m086e67bf75\" y=\"67.112767\"/>\r\n      </g>\r\n     </g>\r\n     <g id=\"text_469\">\r\n      <!-- 459 -->\r\n      <g transform=\"translate(7.2 70.911986)scale(0.1 -0.1)\">\r\n       <use xlink:href=\"#DejaVuSans-52\"/>\r\n       <use x=\"63.623047\" xlink:href=\"#DejaVuSans-53\"/>\r\n       <use x=\"127.246094\" xlink:href=\"#DejaVuSans-57\"/>\r\n      </g>\r\n     </g>\r\n    </g>\r\n    <g id=\"ytick_461\">\r\n     <g id=\"line2d_470\">\r\n      <g>\r\n       <use style=\"stroke:#000000;stroke-width:0.8;\" x=\"33.2875\" xlink:href=\"#m086e67bf75\" y=\"66.762057\"/>\r\n      </g>\r\n     </g>\r\n     <g id=\"text_470\">\r\n      <!-- 460 -->\r\n      <g transform=\"translate(7.2 70.561276)scale(0.1 -0.1)\">\r\n       <use xlink:href=\"#DejaVuSans-52\"/>\r\n       <use x=\"63.623047\" xlink:href=\"#DejaVuSans-54\"/>\r\n       <use x=\"127.246094\" xlink:href=\"#DejaVuSans-48\"/>\r\n      </g>\r\n     </g>\r\n    </g>\r\n    <g id=\"ytick_462\">\r\n     <g id=\"line2d_471\">\r\n      <g>\r\n       <use style=\"stroke:#000000;stroke-width:0.8;\" x=\"33.2875\" xlink:href=\"#m086e67bf75\" y=\"66.411348\"/>\r\n      </g>\r\n     </g>\r\n     <g id=\"text_471\">\r\n      <!-- 461 -->\r\n      <g transform=\"translate(7.2 70.210567)scale(0.1 -0.1)\">\r\n       <use xlink:href=\"#DejaVuSans-52\"/>\r\n       <use x=\"63.623047\" xlink:href=\"#DejaVuSans-54\"/>\r\n       <use x=\"127.246094\" xlink:href=\"#DejaVuSans-49\"/>\r\n      </g>\r\n     </g>\r\n    </g>\r\n    <g id=\"ytick_463\">\r\n     <g id=\"line2d_472\">\r\n      <g>\r\n       <use style=\"stroke:#000000;stroke-width:0.8;\" x=\"33.2875\" xlink:href=\"#m086e67bf75\" y=\"66.060638\"/>\r\n      </g>\r\n     </g>\r\n     <g id=\"text_472\">\r\n      <!-- 462 -->\r\n      <g transform=\"translate(7.2 69.859857)scale(0.1 -0.1)\">\r\n       <use xlink:href=\"#DejaVuSans-52\"/>\r\n       <use x=\"63.623047\" xlink:href=\"#DejaVuSans-54\"/>\r\n       <use x=\"127.246094\" xlink:href=\"#DejaVuSans-50\"/>\r\n      </g>\r\n     </g>\r\n    </g>\r\n    <g id=\"ytick_464\">\r\n     <g id=\"line2d_473\">\r\n      <g>\r\n       <use style=\"stroke:#000000;stroke-width:0.8;\" x=\"33.2875\" xlink:href=\"#m086e67bf75\" y=\"65.709928\"/>\r\n      </g>\r\n     </g>\r\n     <g id=\"text_473\">\r\n      <!-- 463 -->\r\n      <g transform=\"translate(7.2 69.509147)scale(0.1 -0.1)\">\r\n       <use xlink:href=\"#DejaVuSans-52\"/>\r\n       <use x=\"63.623047\" xlink:href=\"#DejaVuSans-54\"/>\r\n       <use x=\"127.246094\" xlink:href=\"#DejaVuSans-51\"/>\r\n      </g>\r\n     </g>\r\n    </g>\r\n    <g id=\"ytick_465\">\r\n     <g id=\"line2d_474\">\r\n      <g>\r\n       <use style=\"stroke:#000000;stroke-width:0.8;\" x=\"33.2875\" xlink:href=\"#m086e67bf75\" y=\"65.359219\"/>\r\n      </g>\r\n     </g>\r\n     <g id=\"text_474\">\r\n      <!-- 464 -->\r\n      <g transform=\"translate(7.2 69.158438)scale(0.1 -0.1)\">\r\n       <use xlink:href=\"#DejaVuSans-52\"/>\r\n       <use x=\"63.623047\" xlink:href=\"#DejaVuSans-54\"/>\r\n       <use x=\"127.246094\" xlink:href=\"#DejaVuSans-52\"/>\r\n      </g>\r\n     </g>\r\n    </g>\r\n    <g id=\"ytick_466\">\r\n     <g id=\"line2d_475\">\r\n      <g>\r\n       <use style=\"stroke:#000000;stroke-width:0.8;\" x=\"33.2875\" xlink:href=\"#m086e67bf75\" y=\"65.008509\"/>\r\n      </g>\r\n     </g>\r\n     <g id=\"text_475\">\r\n      <!-- 465 -->\r\n      <g transform=\"translate(7.2 68.807728)scale(0.1 -0.1)\">\r\n       <use xlink:href=\"#DejaVuSans-52\"/>\r\n       <use x=\"63.623047\" xlink:href=\"#DejaVuSans-54\"/>\r\n       <use x=\"127.246094\" xlink:href=\"#DejaVuSans-53\"/>\r\n      </g>\r\n     </g>\r\n    </g>\r\n    <g id=\"ytick_467\">\r\n     <g id=\"line2d_476\">\r\n      <g>\r\n       <use style=\"stroke:#000000;stroke-width:0.8;\" x=\"33.2875\" xlink:href=\"#m086e67bf75\" y=\"64.657799\"/>\r\n      </g>\r\n     </g>\r\n     <g id=\"text_476\">\r\n      <!-- 466 -->\r\n      <g transform=\"translate(7.2 68.457018)scale(0.1 -0.1)\">\r\n       <use xlink:href=\"#DejaVuSans-52\"/>\r\n       <use x=\"63.623047\" xlink:href=\"#DejaVuSans-54\"/>\r\n       <use x=\"127.246094\" xlink:href=\"#DejaVuSans-54\"/>\r\n      </g>\r\n     </g>\r\n    </g>\r\n    <g id=\"ytick_468\">\r\n     <g id=\"line2d_477\">\r\n      <g>\r\n       <use style=\"stroke:#000000;stroke-width:0.8;\" x=\"33.2875\" xlink:href=\"#m086e67bf75\" y=\"64.30709\"/>\r\n      </g>\r\n     </g>\r\n     <g id=\"text_477\">\r\n      <!-- 467 -->\r\n      <g transform=\"translate(7.2 68.106308)scale(0.1 -0.1)\">\r\n       <use xlink:href=\"#DejaVuSans-52\"/>\r\n       <use x=\"63.623047\" xlink:href=\"#DejaVuSans-54\"/>\r\n       <use x=\"127.246094\" xlink:href=\"#DejaVuSans-55\"/>\r\n      </g>\r\n     </g>\r\n    </g>\r\n    <g id=\"ytick_469\">\r\n     <g id=\"line2d_478\">\r\n      <g>\r\n       <use style=\"stroke:#000000;stroke-width:0.8;\" x=\"33.2875\" xlink:href=\"#m086e67bf75\" y=\"63.95638\"/>\r\n      </g>\r\n     </g>\r\n     <g id=\"text_478\">\r\n      <!-- 468 -->\r\n      <g transform=\"translate(7.2 67.755599)scale(0.1 -0.1)\">\r\n       <use xlink:href=\"#DejaVuSans-52\"/>\r\n       <use x=\"63.623047\" xlink:href=\"#DejaVuSans-54\"/>\r\n       <use x=\"127.246094\" xlink:href=\"#DejaVuSans-56\"/>\r\n      </g>\r\n     </g>\r\n    </g>\r\n    <g id=\"ytick_470\">\r\n     <g id=\"line2d_479\">\r\n      <g>\r\n       <use style=\"stroke:#000000;stroke-width:0.8;\" x=\"33.2875\" xlink:href=\"#m086e67bf75\" y=\"63.60567\"/>\r\n      </g>\r\n     </g>\r\n     <g id=\"text_479\">\r\n      <!-- 469 -->\r\n      <g transform=\"translate(7.2 67.404889)scale(0.1 -0.1)\">\r\n       <use xlink:href=\"#DejaVuSans-52\"/>\r\n       <use x=\"63.623047\" xlink:href=\"#DejaVuSans-54\"/>\r\n       <use x=\"127.246094\" xlink:href=\"#DejaVuSans-57\"/>\r\n      </g>\r\n     </g>\r\n    </g>\r\n    <g id=\"ytick_471\">\r\n     <g id=\"line2d_480\">\r\n      <g>\r\n       <use style=\"stroke:#000000;stroke-width:0.8;\" x=\"33.2875\" xlink:href=\"#m086e67bf75\" y=\"63.254961\"/>\r\n      </g>\r\n     </g>\r\n     <g id=\"text_480\">\r\n      <!-- 470 -->\r\n      <g transform=\"translate(7.2 67.054179)scale(0.1 -0.1)\">\r\n       <use xlink:href=\"#DejaVuSans-52\"/>\r\n       <use x=\"63.623047\" xlink:href=\"#DejaVuSans-55\"/>\r\n       <use x=\"127.246094\" xlink:href=\"#DejaVuSans-48\"/>\r\n      </g>\r\n     </g>\r\n    </g>\r\n    <g id=\"ytick_472\">\r\n     <g id=\"line2d_481\">\r\n      <g>\r\n       <use style=\"stroke:#000000;stroke-width:0.8;\" x=\"33.2875\" xlink:href=\"#m086e67bf75\" y=\"62.904251\"/>\r\n      </g>\r\n     </g>\r\n     <g id=\"text_481\">\r\n      <!-- 471 -->\r\n      <g transform=\"translate(7.2 66.70347)scale(0.1 -0.1)\">\r\n       <use xlink:href=\"#DejaVuSans-52\"/>\r\n       <use x=\"63.623047\" xlink:href=\"#DejaVuSans-55\"/>\r\n       <use x=\"127.246094\" xlink:href=\"#DejaVuSans-49\"/>\r\n      </g>\r\n     </g>\r\n    </g>\r\n    <g id=\"ytick_473\">\r\n     <g id=\"line2d_482\">\r\n      <g>\r\n       <use style=\"stroke:#000000;stroke-width:0.8;\" x=\"33.2875\" xlink:href=\"#m086e67bf75\" y=\"62.553541\"/>\r\n      </g>\r\n     </g>\r\n     <g id=\"text_482\">\r\n      <!-- 472 -->\r\n      <g transform=\"translate(7.2 66.35276)scale(0.1 -0.1)\">\r\n       <use xlink:href=\"#DejaVuSans-52\"/>\r\n       <use x=\"63.623047\" xlink:href=\"#DejaVuSans-55\"/>\r\n       <use x=\"127.246094\" xlink:href=\"#DejaVuSans-50\"/>\r\n      </g>\r\n     </g>\r\n    </g>\r\n    <g id=\"ytick_474\">\r\n     <g id=\"line2d_483\">\r\n      <g>\r\n       <use style=\"stroke:#000000;stroke-width:0.8;\" x=\"33.2875\" xlink:href=\"#m086e67bf75\" y=\"62.202832\"/>\r\n      </g>\r\n     </g>\r\n     <g id=\"text_483\">\r\n      <!-- 473 -->\r\n      <g transform=\"translate(7.2 66.00205)scale(0.1 -0.1)\">\r\n       <use xlink:href=\"#DejaVuSans-52\"/>\r\n       <use x=\"63.623047\" xlink:href=\"#DejaVuSans-55\"/>\r\n       <use x=\"127.246094\" xlink:href=\"#DejaVuSans-51\"/>\r\n      </g>\r\n     </g>\r\n    </g>\r\n    <g id=\"ytick_475\">\r\n     <g id=\"line2d_484\">\r\n      <g>\r\n       <use style=\"stroke:#000000;stroke-width:0.8;\" x=\"33.2875\" xlink:href=\"#m086e67bf75\" y=\"61.852122\"/>\r\n      </g>\r\n     </g>\r\n     <g id=\"text_484\">\r\n      <!-- 474 -->\r\n      <g transform=\"translate(7.2 65.651341)scale(0.1 -0.1)\">\r\n       <use xlink:href=\"#DejaVuSans-52\"/>\r\n       <use x=\"63.623047\" xlink:href=\"#DejaVuSans-55\"/>\r\n       <use x=\"127.246094\" xlink:href=\"#DejaVuSans-52\"/>\r\n      </g>\r\n     </g>\r\n    </g>\r\n    <g id=\"ytick_476\">\r\n     <g id=\"line2d_485\">\r\n      <g>\r\n       <use style=\"stroke:#000000;stroke-width:0.8;\" x=\"33.2875\" xlink:href=\"#m086e67bf75\" y=\"61.501412\"/>\r\n      </g>\r\n     </g>\r\n     <g id=\"text_485\">\r\n      <!-- 475 -->\r\n      <g transform=\"translate(7.2 65.300631)scale(0.1 -0.1)\">\r\n       <use xlink:href=\"#DejaVuSans-52\"/>\r\n       <use x=\"63.623047\" xlink:href=\"#DejaVuSans-55\"/>\r\n       <use x=\"127.246094\" xlink:href=\"#DejaVuSans-53\"/>\r\n      </g>\r\n     </g>\r\n    </g>\r\n    <g id=\"ytick_477\">\r\n     <g id=\"line2d_486\">\r\n      <g>\r\n       <use style=\"stroke:#000000;stroke-width:0.8;\" x=\"33.2875\" xlink:href=\"#m086e67bf75\" y=\"61.150703\"/>\r\n      </g>\r\n     </g>\r\n     <g id=\"text_486\">\r\n      <!-- 476 -->\r\n      <g transform=\"translate(7.2 64.949921)scale(0.1 -0.1)\">\r\n       <use xlink:href=\"#DejaVuSans-52\"/>\r\n       <use x=\"63.623047\" xlink:href=\"#DejaVuSans-55\"/>\r\n       <use x=\"127.246094\" xlink:href=\"#DejaVuSans-54\"/>\r\n      </g>\r\n     </g>\r\n    </g>\r\n    <g id=\"ytick_478\">\r\n     <g id=\"line2d_487\">\r\n      <g>\r\n       <use style=\"stroke:#000000;stroke-width:0.8;\" x=\"33.2875\" xlink:href=\"#m086e67bf75\" y=\"60.799993\"/>\r\n      </g>\r\n     </g>\r\n     <g id=\"text_487\">\r\n      <!-- 477 -->\r\n      <g transform=\"translate(7.2 64.599212)scale(0.1 -0.1)\">\r\n       <use xlink:href=\"#DejaVuSans-52\"/>\r\n       <use x=\"63.623047\" xlink:href=\"#DejaVuSans-55\"/>\r\n       <use x=\"127.246094\" xlink:href=\"#DejaVuSans-55\"/>\r\n      </g>\r\n     </g>\r\n    </g>\r\n    <g id=\"ytick_479\">\r\n     <g id=\"line2d_488\">\r\n      <g>\r\n       <use style=\"stroke:#000000;stroke-width:0.8;\" x=\"33.2875\" xlink:href=\"#m086e67bf75\" y=\"60.449283\"/>\r\n      </g>\r\n     </g>\r\n     <g id=\"text_488\">\r\n      <!-- 478 -->\r\n      <g transform=\"translate(7.2 64.248502)scale(0.1 -0.1)\">\r\n       <use xlink:href=\"#DejaVuSans-52\"/>\r\n       <use x=\"63.623047\" xlink:href=\"#DejaVuSans-55\"/>\r\n       <use x=\"127.246094\" xlink:href=\"#DejaVuSans-56\"/>\r\n      </g>\r\n     </g>\r\n    </g>\r\n    <g id=\"ytick_480\">\r\n     <g id=\"line2d_489\">\r\n      <g>\r\n       <use style=\"stroke:#000000;stroke-width:0.8;\" x=\"33.2875\" xlink:href=\"#m086e67bf75\" y=\"60.098574\"/>\r\n      </g>\r\n     </g>\r\n     <g id=\"text_489\">\r\n      <!-- 479 -->\r\n      <g transform=\"translate(7.2 63.897792)scale(0.1 -0.1)\">\r\n       <use xlink:href=\"#DejaVuSans-52\"/>\r\n       <use x=\"63.623047\" xlink:href=\"#DejaVuSans-55\"/>\r\n       <use x=\"127.246094\" xlink:href=\"#DejaVuSans-57\"/>\r\n      </g>\r\n     </g>\r\n    </g>\r\n    <g id=\"ytick_481\">\r\n     <g id=\"line2d_490\">\r\n      <g>\r\n       <use style=\"stroke:#000000;stroke-width:0.8;\" x=\"33.2875\" xlink:href=\"#m086e67bf75\" y=\"59.747864\"/>\r\n      </g>\r\n     </g>\r\n     <g id=\"text_490\">\r\n      <!-- 480 -->\r\n      <g transform=\"translate(7.2 63.547083)scale(0.1 -0.1)\">\r\n       <use xlink:href=\"#DejaVuSans-52\"/>\r\n       <use x=\"63.623047\" xlink:href=\"#DejaVuSans-56\"/>\r\n       <use x=\"127.246094\" xlink:href=\"#DejaVuSans-48\"/>\r\n      </g>\r\n     </g>\r\n    </g>\r\n    <g id=\"ytick_482\">\r\n     <g id=\"line2d_491\">\r\n      <g>\r\n       <use style=\"stroke:#000000;stroke-width:0.8;\" x=\"33.2875\" xlink:href=\"#m086e67bf75\" y=\"59.397154\"/>\r\n      </g>\r\n     </g>\r\n     <g id=\"text_491\">\r\n      <!-- 481 -->\r\n      <g transform=\"translate(7.2 63.196373)scale(0.1 -0.1)\">\r\n       <use xlink:href=\"#DejaVuSans-52\"/>\r\n       <use x=\"63.623047\" xlink:href=\"#DejaVuSans-56\"/>\r\n       <use x=\"127.246094\" xlink:href=\"#DejaVuSans-49\"/>\r\n      </g>\r\n     </g>\r\n    </g>\r\n    <g id=\"ytick_483\">\r\n     <g id=\"line2d_492\">\r\n      <g>\r\n       <use style=\"stroke:#000000;stroke-width:0.8;\" x=\"33.2875\" xlink:href=\"#m086e67bf75\" y=\"59.046445\"/>\r\n      </g>\r\n     </g>\r\n     <g id=\"text_492\">\r\n      <!-- 482 -->\r\n      <g transform=\"translate(7.2 62.845663)scale(0.1 -0.1)\">\r\n       <use xlink:href=\"#DejaVuSans-52\"/>\r\n       <use x=\"63.623047\" xlink:href=\"#DejaVuSans-56\"/>\r\n       <use x=\"127.246094\" xlink:href=\"#DejaVuSans-50\"/>\r\n      </g>\r\n     </g>\r\n    </g>\r\n    <g id=\"ytick_484\">\r\n     <g id=\"line2d_493\">\r\n      <g>\r\n       <use style=\"stroke:#000000;stroke-width:0.8;\" x=\"33.2875\" xlink:href=\"#m086e67bf75\" y=\"58.695735\"/>\r\n      </g>\r\n     </g>\r\n     <g id=\"text_493\">\r\n      <!-- 483 -->\r\n      <g transform=\"translate(7.2 62.494954)scale(0.1 -0.1)\">\r\n       <use xlink:href=\"#DejaVuSans-52\"/>\r\n       <use x=\"63.623047\" xlink:href=\"#DejaVuSans-56\"/>\r\n       <use x=\"127.246094\" xlink:href=\"#DejaVuSans-51\"/>\r\n      </g>\r\n     </g>\r\n    </g>\r\n    <g id=\"ytick_485\">\r\n     <g id=\"line2d_494\">\r\n      <g>\r\n       <use style=\"stroke:#000000;stroke-width:0.8;\" x=\"33.2875\" xlink:href=\"#m086e67bf75\" y=\"58.345025\"/>\r\n      </g>\r\n     </g>\r\n     <g id=\"text_494\">\r\n      <!-- 484 -->\r\n      <g transform=\"translate(7.2 62.144244)scale(0.1 -0.1)\">\r\n       <use xlink:href=\"#DejaVuSans-52\"/>\r\n       <use x=\"63.623047\" xlink:href=\"#DejaVuSans-56\"/>\r\n       <use x=\"127.246094\" xlink:href=\"#DejaVuSans-52\"/>\r\n      </g>\r\n     </g>\r\n    </g>\r\n    <g id=\"ytick_486\">\r\n     <g id=\"line2d_495\">\r\n      <g>\r\n       <use style=\"stroke:#000000;stroke-width:0.8;\" x=\"33.2875\" xlink:href=\"#m086e67bf75\" y=\"57.994316\"/>\r\n      </g>\r\n     </g>\r\n     <g id=\"text_495\">\r\n      <!-- 485 -->\r\n      <g transform=\"translate(7.2 61.793534)scale(0.1 -0.1)\">\r\n       <use xlink:href=\"#DejaVuSans-52\"/>\r\n       <use x=\"63.623047\" xlink:href=\"#DejaVuSans-56\"/>\r\n       <use x=\"127.246094\" xlink:href=\"#DejaVuSans-53\"/>\r\n      </g>\r\n     </g>\r\n    </g>\r\n    <g id=\"ytick_487\">\r\n     <g id=\"line2d_496\">\r\n      <g>\r\n       <use style=\"stroke:#000000;stroke-width:0.8;\" x=\"33.2875\" xlink:href=\"#m086e67bf75\" y=\"57.643606\"/>\r\n      </g>\r\n     </g>\r\n     <g id=\"text_496\">\r\n      <!-- 486 -->\r\n      <g transform=\"translate(7.2 61.442825)scale(0.1 -0.1)\">\r\n       <use xlink:href=\"#DejaVuSans-52\"/>\r\n       <use x=\"63.623047\" xlink:href=\"#DejaVuSans-56\"/>\r\n       <use x=\"127.246094\" xlink:href=\"#DejaVuSans-54\"/>\r\n      </g>\r\n     </g>\r\n    </g>\r\n    <g id=\"ytick_488\">\r\n     <g id=\"line2d_497\">\r\n      <g>\r\n       <use style=\"stroke:#000000;stroke-width:0.8;\" x=\"33.2875\" xlink:href=\"#m086e67bf75\" y=\"57.292896\"/>\r\n      </g>\r\n     </g>\r\n     <g id=\"text_497\">\r\n      <!-- 487 -->\r\n      <g transform=\"translate(7.2 61.092115)scale(0.1 -0.1)\">\r\n       <use xlink:href=\"#DejaVuSans-52\"/>\r\n       <use x=\"63.623047\" xlink:href=\"#DejaVuSans-56\"/>\r\n       <use x=\"127.246094\" xlink:href=\"#DejaVuSans-55\"/>\r\n      </g>\r\n     </g>\r\n    </g>\r\n    <g id=\"ytick_489\">\r\n     <g id=\"line2d_498\">\r\n      <g>\r\n       <use style=\"stroke:#000000;stroke-width:0.8;\" x=\"33.2875\" xlink:href=\"#m086e67bf75\" y=\"56.942186\"/>\r\n      </g>\r\n     </g>\r\n     <g id=\"text_498\">\r\n      <!-- 488 -->\r\n      <g transform=\"translate(7.2 60.741405)scale(0.1 -0.1)\">\r\n       <use xlink:href=\"#DejaVuSans-52\"/>\r\n       <use x=\"63.623047\" xlink:href=\"#DejaVuSans-56\"/>\r\n       <use x=\"127.246094\" xlink:href=\"#DejaVuSans-56\"/>\r\n      </g>\r\n     </g>\r\n    </g>\r\n    <g id=\"ytick_490\">\r\n     <g id=\"line2d_499\">\r\n      <g>\r\n       <use style=\"stroke:#000000;stroke-width:0.8;\" x=\"33.2875\" xlink:href=\"#m086e67bf75\" y=\"56.591477\"/>\r\n      </g>\r\n     </g>\r\n     <g id=\"text_499\">\r\n      <!-- 489 -->\r\n      <g transform=\"translate(7.2 60.390696)scale(0.1 -0.1)\">\r\n       <use xlink:href=\"#DejaVuSans-52\"/>\r\n       <use x=\"63.623047\" xlink:href=\"#DejaVuSans-56\"/>\r\n       <use x=\"127.246094\" xlink:href=\"#DejaVuSans-57\"/>\r\n      </g>\r\n     </g>\r\n    </g>\r\n    <g id=\"ytick_491\">\r\n     <g id=\"line2d_500\">\r\n      <g>\r\n       <use style=\"stroke:#000000;stroke-width:0.8;\" x=\"33.2875\" xlink:href=\"#m086e67bf75\" y=\"56.240767\"/>\r\n      </g>\r\n     </g>\r\n     <g id=\"text_500\">\r\n      <!-- 490 -->\r\n      <g transform=\"translate(7.2 60.039986)scale(0.1 -0.1)\">\r\n       <use xlink:href=\"#DejaVuSans-52\"/>\r\n       <use x=\"63.623047\" xlink:href=\"#DejaVuSans-57\"/>\r\n       <use x=\"127.246094\" xlink:href=\"#DejaVuSans-48\"/>\r\n      </g>\r\n     </g>\r\n    </g>\r\n    <g id=\"ytick_492\">\r\n     <g id=\"line2d_501\">\r\n      <g>\r\n       <use style=\"stroke:#000000;stroke-width:0.8;\" x=\"33.2875\" xlink:href=\"#m086e67bf75\" y=\"55.890057\"/>\r\n      </g>\r\n     </g>\r\n     <g id=\"text_501\">\r\n      <!-- 491 -->\r\n      <g transform=\"translate(7.2 59.689276)scale(0.1 -0.1)\">\r\n       <use xlink:href=\"#DejaVuSans-52\"/>\r\n       <use x=\"63.623047\" xlink:href=\"#DejaVuSans-57\"/>\r\n       <use x=\"127.246094\" xlink:href=\"#DejaVuSans-49\"/>\r\n      </g>\r\n     </g>\r\n    </g>\r\n    <g id=\"ytick_493\">\r\n     <g id=\"line2d_502\">\r\n      <g>\r\n       <use style=\"stroke:#000000;stroke-width:0.8;\" x=\"33.2875\" xlink:href=\"#m086e67bf75\" y=\"55.539348\"/>\r\n      </g>\r\n     </g>\r\n     <g id=\"text_502\">\r\n      <!-- 492 -->\r\n      <g transform=\"translate(7.2 59.338567)scale(0.1 -0.1)\">\r\n       <use xlink:href=\"#DejaVuSans-52\"/>\r\n       <use x=\"63.623047\" xlink:href=\"#DejaVuSans-57\"/>\r\n       <use x=\"127.246094\" xlink:href=\"#DejaVuSans-50\"/>\r\n      </g>\r\n     </g>\r\n    </g>\r\n    <g id=\"ytick_494\">\r\n     <g id=\"line2d_503\">\r\n      <g>\r\n       <use style=\"stroke:#000000;stroke-width:0.8;\" x=\"33.2875\" xlink:href=\"#m086e67bf75\" y=\"55.188638\"/>\r\n      </g>\r\n     </g>\r\n     <g id=\"text_503\">\r\n      <!-- 493 -->\r\n      <g transform=\"translate(7.2 58.987857)scale(0.1 -0.1)\">\r\n       <use xlink:href=\"#DejaVuSans-52\"/>\r\n       <use x=\"63.623047\" xlink:href=\"#DejaVuSans-57\"/>\r\n       <use x=\"127.246094\" xlink:href=\"#DejaVuSans-51\"/>\r\n      </g>\r\n     </g>\r\n    </g>\r\n    <g id=\"ytick_495\">\r\n     <g id=\"line2d_504\">\r\n      <g>\r\n       <use style=\"stroke:#000000;stroke-width:0.8;\" x=\"33.2875\" xlink:href=\"#m086e67bf75\" y=\"54.837928\"/>\r\n      </g>\r\n     </g>\r\n     <g id=\"text_504\">\r\n      <!-- 494 -->\r\n      <g transform=\"translate(7.2 58.637147)scale(0.1 -0.1)\">\r\n       <use xlink:href=\"#DejaVuSans-52\"/>\r\n       <use x=\"63.623047\" xlink:href=\"#DejaVuSans-57\"/>\r\n       <use x=\"127.246094\" xlink:href=\"#DejaVuSans-52\"/>\r\n      </g>\r\n     </g>\r\n    </g>\r\n    <g id=\"ytick_496\">\r\n     <g id=\"line2d_505\">\r\n      <g>\r\n       <use style=\"stroke:#000000;stroke-width:0.8;\" x=\"33.2875\" xlink:href=\"#m086e67bf75\" y=\"54.487219\"/>\r\n      </g>\r\n     </g>\r\n     <g id=\"text_505\">\r\n      <!-- 495 -->\r\n      <g transform=\"translate(7.2 58.286438)scale(0.1 -0.1)\">\r\n       <use xlink:href=\"#DejaVuSans-52\"/>\r\n       <use x=\"63.623047\" xlink:href=\"#DejaVuSans-57\"/>\r\n       <use x=\"127.246094\" xlink:href=\"#DejaVuSans-53\"/>\r\n      </g>\r\n     </g>\r\n    </g>\r\n    <g id=\"ytick_497\">\r\n     <g id=\"line2d_506\">\r\n      <g>\r\n       <use style=\"stroke:#000000;stroke-width:0.8;\" x=\"33.2875\" xlink:href=\"#m086e67bf75\" y=\"54.136509\"/>\r\n      </g>\r\n     </g>\r\n     <g id=\"text_506\">\r\n      <!-- 496 -->\r\n      <g transform=\"translate(7.2 57.935728)scale(0.1 -0.1)\">\r\n       <use xlink:href=\"#DejaVuSans-52\"/>\r\n       <use x=\"63.623047\" xlink:href=\"#DejaVuSans-57\"/>\r\n       <use x=\"127.246094\" xlink:href=\"#DejaVuSans-54\"/>\r\n      </g>\r\n     </g>\r\n    </g>\r\n    <g id=\"ytick_498\">\r\n     <g id=\"line2d_507\">\r\n      <g>\r\n       <use style=\"stroke:#000000;stroke-width:0.8;\" x=\"33.2875\" xlink:href=\"#m086e67bf75\" y=\"53.785799\"/>\r\n      </g>\r\n     </g>\r\n     <g id=\"text_507\">\r\n      <!-- 497 -->\r\n      <g transform=\"translate(7.2 57.585018)scale(0.1 -0.1)\">\r\n       <use xlink:href=\"#DejaVuSans-52\"/>\r\n       <use x=\"63.623047\" xlink:href=\"#DejaVuSans-57\"/>\r\n       <use x=\"127.246094\" xlink:href=\"#DejaVuSans-55\"/>\r\n      </g>\r\n     </g>\r\n    </g>\r\n    <g id=\"ytick_499\">\r\n     <g id=\"line2d_508\">\r\n      <g>\r\n       <use style=\"stroke:#000000;stroke-width:0.8;\" x=\"33.2875\" xlink:href=\"#m086e67bf75\" y=\"53.43509\"/>\r\n      </g>\r\n     </g>\r\n     <g id=\"text_508\">\r\n      <!-- 498 -->\r\n      <g transform=\"translate(7.2 57.234308)scale(0.1 -0.1)\">\r\n       <use xlink:href=\"#DejaVuSans-52\"/>\r\n       <use x=\"63.623047\" xlink:href=\"#DejaVuSans-57\"/>\r\n       <use x=\"127.246094\" xlink:href=\"#DejaVuSans-56\"/>\r\n      </g>\r\n     </g>\r\n    </g>\r\n    <g id=\"ytick_500\">\r\n     <g id=\"line2d_509\">\r\n      <g>\r\n       <use style=\"stroke:#000000;stroke-width:0.8;\" x=\"33.2875\" xlink:href=\"#m086e67bf75\" y=\"53.08438\"/>\r\n      </g>\r\n     </g>\r\n     <g id=\"text_509\">\r\n      <!-- 499 -->\r\n      <g transform=\"translate(7.2 56.883599)scale(0.1 -0.1)\">\r\n       <use xlink:href=\"#DejaVuSans-52\"/>\r\n       <use x=\"63.623047\" xlink:href=\"#DejaVuSans-57\"/>\r\n       <use x=\"127.246094\" xlink:href=\"#DejaVuSans-57\"/>\r\n      </g>\r\n     </g>\r\n    </g>\r\n    <g id=\"ytick_501\">\r\n     <g id=\"line2d_510\">\r\n      <g>\r\n       <use style=\"stroke:#000000;stroke-width:0.8;\" x=\"33.2875\" xlink:href=\"#m086e67bf75\" y=\"52.73367\"/>\r\n      </g>\r\n     </g>\r\n     <g id=\"text_510\">\r\n      <!-- 500 -->\r\n      <g transform=\"translate(7.2 56.532889)scale(0.1 -0.1)\">\r\n       <use xlink:href=\"#DejaVuSans-53\"/>\r\n       <use x=\"63.623047\" xlink:href=\"#DejaVuSans-48\"/>\r\n       <use x=\"127.246094\" xlink:href=\"#DejaVuSans-48\"/>\r\n      </g>\r\n     </g>\r\n    </g>\r\n    <g id=\"ytick_502\">\r\n     <g id=\"line2d_511\">\r\n      <g>\r\n       <use style=\"stroke:#000000;stroke-width:0.8;\" x=\"33.2875\" xlink:href=\"#m086e67bf75\" y=\"52.382961\"/>\r\n      </g>\r\n     </g>\r\n     <g id=\"text_511\">\r\n      <!-- 501 -->\r\n      <g transform=\"translate(7.2 56.182179)scale(0.1 -0.1)\">\r\n       <use xlink:href=\"#DejaVuSans-53\"/>\r\n       <use x=\"63.623047\" xlink:href=\"#DejaVuSans-48\"/>\r\n       <use x=\"127.246094\" xlink:href=\"#DejaVuSans-49\"/>\r\n      </g>\r\n     </g>\r\n    </g>\r\n    <g id=\"ytick_503\">\r\n     <g id=\"line2d_512\">\r\n      <g>\r\n       <use style=\"stroke:#000000;stroke-width:0.8;\" x=\"33.2875\" xlink:href=\"#m086e67bf75\" y=\"52.032251\"/>\r\n      </g>\r\n     </g>\r\n     <g id=\"text_512\">\r\n      <!-- 502 -->\r\n      <g transform=\"translate(7.2 55.83147)scale(0.1 -0.1)\">\r\n       <use xlink:href=\"#DejaVuSans-53\"/>\r\n       <use x=\"63.623047\" xlink:href=\"#DejaVuSans-48\"/>\r\n       <use x=\"127.246094\" xlink:href=\"#DejaVuSans-50\"/>\r\n      </g>\r\n     </g>\r\n    </g>\r\n    <g id=\"ytick_504\">\r\n     <g id=\"line2d_513\">\r\n      <g>\r\n       <use style=\"stroke:#000000;stroke-width:0.8;\" x=\"33.2875\" xlink:href=\"#m086e67bf75\" y=\"51.681541\"/>\r\n      </g>\r\n     </g>\r\n     <g id=\"text_513\">\r\n      <!-- 503 -->\r\n      <g transform=\"translate(7.2 55.48076)scale(0.1 -0.1)\">\r\n       <use xlink:href=\"#DejaVuSans-53\"/>\r\n       <use x=\"63.623047\" xlink:href=\"#DejaVuSans-48\"/>\r\n       <use x=\"127.246094\" xlink:href=\"#DejaVuSans-51\"/>\r\n      </g>\r\n     </g>\r\n    </g>\r\n    <g id=\"ytick_505\">\r\n     <g id=\"line2d_514\">\r\n      <g>\r\n       <use style=\"stroke:#000000;stroke-width:0.8;\" x=\"33.2875\" xlink:href=\"#m086e67bf75\" y=\"51.330832\"/>\r\n      </g>\r\n     </g>\r\n     <g id=\"text_514\">\r\n      <!-- 504 -->\r\n      <g transform=\"translate(7.2 55.13005)scale(0.1 -0.1)\">\r\n       <use xlink:href=\"#DejaVuSans-53\"/>\r\n       <use x=\"63.623047\" xlink:href=\"#DejaVuSans-48\"/>\r\n       <use x=\"127.246094\" xlink:href=\"#DejaVuSans-52\"/>\r\n      </g>\r\n     </g>\r\n    </g>\r\n    <g id=\"ytick_506\">\r\n     <g id=\"line2d_515\">\r\n      <g>\r\n       <use style=\"stroke:#000000;stroke-width:0.8;\" x=\"33.2875\" xlink:href=\"#m086e67bf75\" y=\"50.980122\"/>\r\n      </g>\r\n     </g>\r\n     <g id=\"text_515\">\r\n      <!-- 505 -->\r\n      <g transform=\"translate(7.2 54.779341)scale(0.1 -0.1)\">\r\n       <use xlink:href=\"#DejaVuSans-53\"/>\r\n       <use x=\"63.623047\" xlink:href=\"#DejaVuSans-48\"/>\r\n       <use x=\"127.246094\" xlink:href=\"#DejaVuSans-53\"/>\r\n      </g>\r\n     </g>\r\n    </g>\r\n    <g id=\"ytick_507\">\r\n     <g id=\"line2d_516\">\r\n      <g>\r\n       <use style=\"stroke:#000000;stroke-width:0.8;\" x=\"33.2875\" xlink:href=\"#m086e67bf75\" y=\"50.629412\"/>\r\n      </g>\r\n     </g>\r\n     <g id=\"text_516\">\r\n      <!-- 506 -->\r\n      <g transform=\"translate(7.2 54.428631)scale(0.1 -0.1)\">\r\n       <use xlink:href=\"#DejaVuSans-53\"/>\r\n       <use x=\"63.623047\" xlink:href=\"#DejaVuSans-48\"/>\r\n       <use x=\"127.246094\" xlink:href=\"#DejaVuSans-54\"/>\r\n      </g>\r\n     </g>\r\n    </g>\r\n    <g id=\"ytick_508\">\r\n     <g id=\"line2d_517\">\r\n      <g>\r\n       <use style=\"stroke:#000000;stroke-width:0.8;\" x=\"33.2875\" xlink:href=\"#m086e67bf75\" y=\"50.278703\"/>\r\n      </g>\r\n     </g>\r\n     <g id=\"text_517\">\r\n      <!-- 507 -->\r\n      <g transform=\"translate(7.2 54.077921)scale(0.1 -0.1)\">\r\n       <use xlink:href=\"#DejaVuSans-53\"/>\r\n       <use x=\"63.623047\" xlink:href=\"#DejaVuSans-48\"/>\r\n       <use x=\"127.246094\" xlink:href=\"#DejaVuSans-55\"/>\r\n      </g>\r\n     </g>\r\n    </g>\r\n    <g id=\"ytick_509\">\r\n     <g id=\"line2d_518\">\r\n      <g>\r\n       <use style=\"stroke:#000000;stroke-width:0.8;\" x=\"33.2875\" xlink:href=\"#m086e67bf75\" y=\"49.927993\"/>\r\n      </g>\r\n     </g>\r\n     <g id=\"text_518\">\r\n      <!-- 508 -->\r\n      <g transform=\"translate(7.2 53.727212)scale(0.1 -0.1)\">\r\n       <use xlink:href=\"#DejaVuSans-53\"/>\r\n       <use x=\"63.623047\" xlink:href=\"#DejaVuSans-48\"/>\r\n       <use x=\"127.246094\" xlink:href=\"#DejaVuSans-56\"/>\r\n      </g>\r\n     </g>\r\n    </g>\r\n    <g id=\"ytick_510\">\r\n     <g id=\"line2d_519\">\r\n      <g>\r\n       <use style=\"stroke:#000000;stroke-width:0.8;\" x=\"33.2875\" xlink:href=\"#m086e67bf75\" y=\"49.577283\"/>\r\n      </g>\r\n     </g>\r\n     <g id=\"text_519\">\r\n      <!-- 509 -->\r\n      <g transform=\"translate(7.2 53.376502)scale(0.1 -0.1)\">\r\n       <use xlink:href=\"#DejaVuSans-53\"/>\r\n       <use x=\"63.623047\" xlink:href=\"#DejaVuSans-48\"/>\r\n       <use x=\"127.246094\" xlink:href=\"#DejaVuSans-57\"/>\r\n      </g>\r\n     </g>\r\n    </g>\r\n    <g id=\"ytick_511\">\r\n     <g id=\"line2d_520\">\r\n      <g>\r\n       <use style=\"stroke:#000000;stroke-width:0.8;\" x=\"33.2875\" xlink:href=\"#m086e67bf75\" y=\"49.226574\"/>\r\n      </g>\r\n     </g>\r\n     <g id=\"text_520\">\r\n      <!-- 510 -->\r\n      <g transform=\"translate(7.2 53.025792)scale(0.1 -0.1)\">\r\n       <use xlink:href=\"#DejaVuSans-53\"/>\r\n       <use x=\"63.623047\" xlink:href=\"#DejaVuSans-49\"/>\r\n       <use x=\"127.246094\" xlink:href=\"#DejaVuSans-48\"/>\r\n      </g>\r\n     </g>\r\n    </g>\r\n    <g id=\"ytick_512\">\r\n     <g id=\"line2d_521\">\r\n      <g>\r\n       <use style=\"stroke:#000000;stroke-width:0.8;\" x=\"33.2875\" xlink:href=\"#m086e67bf75\" y=\"48.875864\"/>\r\n      </g>\r\n     </g>\r\n     <g id=\"text_521\">\r\n      <!-- 511 -->\r\n      <g transform=\"translate(7.2 52.675083)scale(0.1 -0.1)\">\r\n       <use xlink:href=\"#DejaVuSans-53\"/>\r\n       <use x=\"63.623047\" xlink:href=\"#DejaVuSans-49\"/>\r\n       <use x=\"127.246094\" xlink:href=\"#DejaVuSans-49\"/>\r\n      </g>\r\n     </g>\r\n    </g>\r\n    <g id=\"ytick_513\">\r\n     <g id=\"line2d_522\">\r\n      <g>\r\n       <use style=\"stroke:#000000;stroke-width:0.8;\" x=\"33.2875\" xlink:href=\"#m086e67bf75\" y=\"48.525154\"/>\r\n      </g>\r\n     </g>\r\n     <g id=\"text_522\">\r\n      <!-- 512 -->\r\n      <g transform=\"translate(7.2 52.324373)scale(0.1 -0.1)\">\r\n       <use xlink:href=\"#DejaVuSans-53\"/>\r\n       <use x=\"63.623047\" xlink:href=\"#DejaVuSans-49\"/>\r\n       <use x=\"127.246094\" xlink:href=\"#DejaVuSans-50\"/>\r\n      </g>\r\n     </g>\r\n    </g>\r\n    <g id=\"ytick_514\">\r\n     <g id=\"line2d_523\">\r\n      <g>\r\n       <use style=\"stroke:#000000;stroke-width:0.8;\" x=\"33.2875\" xlink:href=\"#m086e67bf75\" y=\"48.174445\"/>\r\n      </g>\r\n     </g>\r\n     <g id=\"text_523\">\r\n      <!-- 513 -->\r\n      <g transform=\"translate(7.2 51.973663)scale(0.1 -0.1)\">\r\n       <use xlink:href=\"#DejaVuSans-53\"/>\r\n       <use x=\"63.623047\" xlink:href=\"#DejaVuSans-49\"/>\r\n       <use x=\"127.246094\" xlink:href=\"#DejaVuSans-51\"/>\r\n      </g>\r\n     </g>\r\n    </g>\r\n    <g id=\"ytick_515\">\r\n     <g id=\"line2d_524\">\r\n      <g>\r\n       <use style=\"stroke:#000000;stroke-width:0.8;\" x=\"33.2875\" xlink:href=\"#m086e67bf75\" y=\"47.823735\"/>\r\n      </g>\r\n     </g>\r\n     <g id=\"text_524\">\r\n      <!-- 514 -->\r\n      <g transform=\"translate(7.2 51.622954)scale(0.1 -0.1)\">\r\n       <use xlink:href=\"#DejaVuSans-53\"/>\r\n       <use x=\"63.623047\" xlink:href=\"#DejaVuSans-49\"/>\r\n       <use x=\"127.246094\" xlink:href=\"#DejaVuSans-52\"/>\r\n      </g>\r\n     </g>\r\n    </g>\r\n    <g id=\"ytick_516\">\r\n     <g id=\"line2d_525\">\r\n      <g>\r\n       <use style=\"stroke:#000000;stroke-width:0.8;\" x=\"33.2875\" xlink:href=\"#m086e67bf75\" y=\"47.473025\"/>\r\n      </g>\r\n     </g>\r\n     <g id=\"text_525\">\r\n      <!-- 515 -->\r\n      <g transform=\"translate(7.2 51.272244)scale(0.1 -0.1)\">\r\n       <use xlink:href=\"#DejaVuSans-53\"/>\r\n       <use x=\"63.623047\" xlink:href=\"#DejaVuSans-49\"/>\r\n       <use x=\"127.246094\" xlink:href=\"#DejaVuSans-53\"/>\r\n      </g>\r\n     </g>\r\n    </g>\r\n    <g id=\"ytick_517\">\r\n     <g id=\"line2d_526\">\r\n      <g>\r\n       <use style=\"stroke:#000000;stroke-width:0.8;\" x=\"33.2875\" xlink:href=\"#m086e67bf75\" y=\"47.122316\"/>\r\n      </g>\r\n     </g>\r\n     <g id=\"text_526\">\r\n      <!-- 516 -->\r\n      <g transform=\"translate(7.2 50.921534)scale(0.1 -0.1)\">\r\n       <use xlink:href=\"#DejaVuSans-53\"/>\r\n       <use x=\"63.623047\" xlink:href=\"#DejaVuSans-49\"/>\r\n       <use x=\"127.246094\" xlink:href=\"#DejaVuSans-54\"/>\r\n      </g>\r\n     </g>\r\n    </g>\r\n    <g id=\"ytick_518\">\r\n     <g id=\"line2d_527\">\r\n      <g>\r\n       <use style=\"stroke:#000000;stroke-width:0.8;\" x=\"33.2875\" xlink:href=\"#m086e67bf75\" y=\"46.771606\"/>\r\n      </g>\r\n     </g>\r\n     <g id=\"text_527\">\r\n      <!-- 517 -->\r\n      <g transform=\"translate(7.2 50.570825)scale(0.1 -0.1)\">\r\n       <use xlink:href=\"#DejaVuSans-53\"/>\r\n       <use x=\"63.623047\" xlink:href=\"#DejaVuSans-49\"/>\r\n       <use x=\"127.246094\" xlink:href=\"#DejaVuSans-55\"/>\r\n      </g>\r\n     </g>\r\n    </g>\r\n    <g id=\"ytick_519\">\r\n     <g id=\"line2d_528\">\r\n      <g>\r\n       <use style=\"stroke:#000000;stroke-width:0.8;\" x=\"33.2875\" xlink:href=\"#m086e67bf75\" y=\"46.420896\"/>\r\n      </g>\r\n     </g>\r\n     <g id=\"text_528\">\r\n      <!-- 518 -->\r\n      <g transform=\"translate(7.2 50.220115)scale(0.1 -0.1)\">\r\n       <use xlink:href=\"#DejaVuSans-53\"/>\r\n       <use x=\"63.623047\" xlink:href=\"#DejaVuSans-49\"/>\r\n       <use x=\"127.246094\" xlink:href=\"#DejaVuSans-56\"/>\r\n      </g>\r\n     </g>\r\n    </g>\r\n    <g id=\"ytick_520\">\r\n     <g id=\"line2d_529\">\r\n      <g>\r\n       <use style=\"stroke:#000000;stroke-width:0.8;\" x=\"33.2875\" xlink:href=\"#m086e67bf75\" y=\"46.070186\"/>\r\n      </g>\r\n     </g>\r\n     <g id=\"text_529\">\r\n      <!-- 519 -->\r\n      <g transform=\"translate(7.2 49.869405)scale(0.1 -0.1)\">\r\n       <use xlink:href=\"#DejaVuSans-53\"/>\r\n       <use x=\"63.623047\" xlink:href=\"#DejaVuSans-49\"/>\r\n       <use x=\"127.246094\" xlink:href=\"#DejaVuSans-57\"/>\r\n      </g>\r\n     </g>\r\n    </g>\r\n    <g id=\"ytick_521\">\r\n     <g id=\"line2d_530\">\r\n      <g>\r\n       <use style=\"stroke:#000000;stroke-width:0.8;\" x=\"33.2875\" xlink:href=\"#m086e67bf75\" y=\"45.719477\"/>\r\n      </g>\r\n     </g>\r\n     <g id=\"text_530\">\r\n      <!-- 520 -->\r\n      <g transform=\"translate(7.2 49.518696)scale(0.1 -0.1)\">\r\n       <use xlink:href=\"#DejaVuSans-53\"/>\r\n       <use x=\"63.623047\" xlink:href=\"#DejaVuSans-50\"/>\r\n       <use x=\"127.246094\" xlink:href=\"#DejaVuSans-48\"/>\r\n      </g>\r\n     </g>\r\n    </g>\r\n    <g id=\"ytick_522\">\r\n     <g id=\"line2d_531\">\r\n      <g>\r\n       <use style=\"stroke:#000000;stroke-width:0.8;\" x=\"33.2875\" xlink:href=\"#m086e67bf75\" y=\"45.368767\"/>\r\n      </g>\r\n     </g>\r\n     <g id=\"text_531\">\r\n      <!-- 521 -->\r\n      <g transform=\"translate(7.2 49.167986)scale(0.1 -0.1)\">\r\n       <use xlink:href=\"#DejaVuSans-53\"/>\r\n       <use x=\"63.623047\" xlink:href=\"#DejaVuSans-50\"/>\r\n       <use x=\"127.246094\" xlink:href=\"#DejaVuSans-49\"/>\r\n      </g>\r\n     </g>\r\n    </g>\r\n    <g id=\"ytick_523\">\r\n     <g id=\"line2d_532\">\r\n      <g>\r\n       <use style=\"stroke:#000000;stroke-width:0.8;\" x=\"33.2875\" xlink:href=\"#m086e67bf75\" y=\"45.018057\"/>\r\n      </g>\r\n     </g>\r\n     <g id=\"text_532\">\r\n      <!-- 522 -->\r\n      <g transform=\"translate(7.2 48.817276)scale(0.1 -0.1)\">\r\n       <use xlink:href=\"#DejaVuSans-53\"/>\r\n       <use x=\"63.623047\" xlink:href=\"#DejaVuSans-50\"/>\r\n       <use x=\"127.246094\" xlink:href=\"#DejaVuSans-50\"/>\r\n      </g>\r\n     </g>\r\n    </g>\r\n    <g id=\"ytick_524\">\r\n     <g id=\"line2d_533\">\r\n      <g>\r\n       <use style=\"stroke:#000000;stroke-width:0.8;\" x=\"33.2875\" xlink:href=\"#m086e67bf75\" y=\"44.667348\"/>\r\n      </g>\r\n     </g>\r\n     <g id=\"text_533\">\r\n      <!-- 523 -->\r\n      <g transform=\"translate(7.2 48.466567)scale(0.1 -0.1)\">\r\n       <use xlink:href=\"#DejaVuSans-53\"/>\r\n       <use x=\"63.623047\" xlink:href=\"#DejaVuSans-50\"/>\r\n       <use x=\"127.246094\" xlink:href=\"#DejaVuSans-51\"/>\r\n      </g>\r\n     </g>\r\n    </g>\r\n    <g id=\"ytick_525\">\r\n     <g id=\"line2d_534\">\r\n      <g>\r\n       <use style=\"stroke:#000000;stroke-width:0.8;\" x=\"33.2875\" xlink:href=\"#m086e67bf75\" y=\"44.316638\"/>\r\n      </g>\r\n     </g>\r\n     <g id=\"text_534\">\r\n      <!-- 524 -->\r\n      <g transform=\"translate(7.2 48.115857)scale(0.1 -0.1)\">\r\n       <use xlink:href=\"#DejaVuSans-53\"/>\r\n       <use x=\"63.623047\" xlink:href=\"#DejaVuSans-50\"/>\r\n       <use x=\"127.246094\" xlink:href=\"#DejaVuSans-52\"/>\r\n      </g>\r\n     </g>\r\n    </g>\r\n    <g id=\"ytick_526\">\r\n     <g id=\"line2d_535\">\r\n      <g>\r\n       <use style=\"stroke:#000000;stroke-width:0.8;\" x=\"33.2875\" xlink:href=\"#m086e67bf75\" y=\"43.965928\"/>\r\n      </g>\r\n     </g>\r\n     <g id=\"text_535\">\r\n      <!-- 525 -->\r\n      <g transform=\"translate(7.2 47.765147)scale(0.1 -0.1)\">\r\n       <use xlink:href=\"#DejaVuSans-53\"/>\r\n       <use x=\"63.623047\" xlink:href=\"#DejaVuSans-50\"/>\r\n       <use x=\"127.246094\" xlink:href=\"#DejaVuSans-53\"/>\r\n      </g>\r\n     </g>\r\n    </g>\r\n    <g id=\"ytick_527\">\r\n     <g id=\"line2d_536\">\r\n      <g>\r\n       <use style=\"stroke:#000000;stroke-width:0.8;\" x=\"33.2875\" xlink:href=\"#m086e67bf75\" y=\"43.615219\"/>\r\n      </g>\r\n     </g>\r\n     <g id=\"text_536\">\r\n      <!-- 526 -->\r\n      <g transform=\"translate(7.2 47.414438)scale(0.1 -0.1)\">\r\n       <use xlink:href=\"#DejaVuSans-53\"/>\r\n       <use x=\"63.623047\" xlink:href=\"#DejaVuSans-50\"/>\r\n       <use x=\"127.246094\" xlink:href=\"#DejaVuSans-54\"/>\r\n      </g>\r\n     </g>\r\n    </g>\r\n    <g id=\"ytick_528\">\r\n     <g id=\"line2d_537\">\r\n      <g>\r\n       <use style=\"stroke:#000000;stroke-width:0.8;\" x=\"33.2875\" xlink:href=\"#m086e67bf75\" y=\"43.264509\"/>\r\n      </g>\r\n     </g>\r\n     <g id=\"text_537\">\r\n      <!-- 527 -->\r\n      <g transform=\"translate(7.2 47.063728)scale(0.1 -0.1)\">\r\n       <use xlink:href=\"#DejaVuSans-53\"/>\r\n       <use x=\"63.623047\" xlink:href=\"#DejaVuSans-50\"/>\r\n       <use x=\"127.246094\" xlink:href=\"#DejaVuSans-55\"/>\r\n      </g>\r\n     </g>\r\n    </g>\r\n    <g id=\"ytick_529\">\r\n     <g id=\"line2d_538\">\r\n      <g>\r\n       <use style=\"stroke:#000000;stroke-width:0.8;\" x=\"33.2875\" xlink:href=\"#m086e67bf75\" y=\"42.913799\"/>\r\n      </g>\r\n     </g>\r\n     <g id=\"text_538\">\r\n      <!-- 528 -->\r\n      <g transform=\"translate(7.2 46.713018)scale(0.1 -0.1)\">\r\n       <use xlink:href=\"#DejaVuSans-53\"/>\r\n       <use x=\"63.623047\" xlink:href=\"#DejaVuSans-50\"/>\r\n       <use x=\"127.246094\" xlink:href=\"#DejaVuSans-56\"/>\r\n      </g>\r\n     </g>\r\n    </g>\r\n    <g id=\"ytick_530\">\r\n     <g id=\"line2d_539\">\r\n      <g>\r\n       <use style=\"stroke:#000000;stroke-width:0.8;\" x=\"33.2875\" xlink:href=\"#m086e67bf75\" y=\"42.56309\"/>\r\n      </g>\r\n     </g>\r\n     <g id=\"text_539\">\r\n      <!-- 529 -->\r\n      <g transform=\"translate(7.2 46.362308)scale(0.1 -0.1)\">\r\n       <use xlink:href=\"#DejaVuSans-53\"/>\r\n       <use x=\"63.623047\" xlink:href=\"#DejaVuSans-50\"/>\r\n       <use x=\"127.246094\" xlink:href=\"#DejaVuSans-57\"/>\r\n      </g>\r\n     </g>\r\n    </g>\r\n    <g id=\"ytick_531\">\r\n     <g id=\"line2d_540\">\r\n      <g>\r\n       <use style=\"stroke:#000000;stroke-width:0.8;\" x=\"33.2875\" xlink:href=\"#m086e67bf75\" y=\"42.21238\"/>\r\n      </g>\r\n     </g>\r\n     <g id=\"text_540\">\r\n      <!-- 530 -->\r\n      <g transform=\"translate(7.2 46.011599)scale(0.1 -0.1)\">\r\n       <use xlink:href=\"#DejaVuSans-53\"/>\r\n       <use x=\"63.623047\" xlink:href=\"#DejaVuSans-51\"/>\r\n       <use x=\"127.246094\" xlink:href=\"#DejaVuSans-48\"/>\r\n      </g>\r\n     </g>\r\n    </g>\r\n    <g id=\"ytick_532\">\r\n     <g id=\"line2d_541\">\r\n      <g>\r\n       <use style=\"stroke:#000000;stroke-width:0.8;\" x=\"33.2875\" xlink:href=\"#m086e67bf75\" y=\"41.86167\"/>\r\n      </g>\r\n     </g>\r\n     <g id=\"text_541\">\r\n      <!-- 531 -->\r\n      <g transform=\"translate(7.2 45.660889)scale(0.1 -0.1)\">\r\n       <use xlink:href=\"#DejaVuSans-53\"/>\r\n       <use x=\"63.623047\" xlink:href=\"#DejaVuSans-51\"/>\r\n       <use x=\"127.246094\" xlink:href=\"#DejaVuSans-49\"/>\r\n      </g>\r\n     </g>\r\n    </g>\r\n    <g id=\"ytick_533\">\r\n     <g id=\"line2d_542\">\r\n      <g>\r\n       <use style=\"stroke:#000000;stroke-width:0.8;\" x=\"33.2875\" xlink:href=\"#m086e67bf75\" y=\"41.510961\"/>\r\n      </g>\r\n     </g>\r\n     <g id=\"text_542\">\r\n      <!-- 532 -->\r\n      <g transform=\"translate(7.2 45.310179)scale(0.1 -0.1)\">\r\n       <use xlink:href=\"#DejaVuSans-53\"/>\r\n       <use x=\"63.623047\" xlink:href=\"#DejaVuSans-51\"/>\r\n       <use x=\"127.246094\" xlink:href=\"#DejaVuSans-50\"/>\r\n      </g>\r\n     </g>\r\n    </g>\r\n    <g id=\"ytick_534\">\r\n     <g id=\"line2d_543\">\r\n      <g>\r\n       <use style=\"stroke:#000000;stroke-width:0.8;\" x=\"33.2875\" xlink:href=\"#m086e67bf75\" y=\"41.160251\"/>\r\n      </g>\r\n     </g>\r\n     <g id=\"text_543\">\r\n      <!-- 533 -->\r\n      <g transform=\"translate(7.2 44.95947)scale(0.1 -0.1)\">\r\n       <use xlink:href=\"#DejaVuSans-53\"/>\r\n       <use x=\"63.623047\" xlink:href=\"#DejaVuSans-51\"/>\r\n       <use x=\"127.246094\" xlink:href=\"#DejaVuSans-51\"/>\r\n      </g>\r\n     </g>\r\n    </g>\r\n    <g id=\"ytick_535\">\r\n     <g id=\"line2d_544\">\r\n      <g>\r\n       <use style=\"stroke:#000000;stroke-width:0.8;\" x=\"33.2875\" xlink:href=\"#m086e67bf75\" y=\"40.809541\"/>\r\n      </g>\r\n     </g>\r\n     <g id=\"text_544\">\r\n      <!-- 534 -->\r\n      <g transform=\"translate(7.2 44.60876)scale(0.1 -0.1)\">\r\n       <use xlink:href=\"#DejaVuSans-53\"/>\r\n       <use x=\"63.623047\" xlink:href=\"#DejaVuSans-51\"/>\r\n       <use x=\"127.246094\" xlink:href=\"#DejaVuSans-52\"/>\r\n      </g>\r\n     </g>\r\n    </g>\r\n    <g id=\"ytick_536\">\r\n     <g id=\"line2d_545\">\r\n      <g>\r\n       <use style=\"stroke:#000000;stroke-width:0.8;\" x=\"33.2875\" xlink:href=\"#m086e67bf75\" y=\"40.458832\"/>\r\n      </g>\r\n     </g>\r\n     <g id=\"text_545\">\r\n      <!-- 535 -->\r\n      <g transform=\"translate(7.2 44.25805)scale(0.1 -0.1)\">\r\n       <use xlink:href=\"#DejaVuSans-53\"/>\r\n       <use x=\"63.623047\" xlink:href=\"#DejaVuSans-51\"/>\r\n       <use x=\"127.246094\" xlink:href=\"#DejaVuSans-53\"/>\r\n      </g>\r\n     </g>\r\n    </g>\r\n    <g id=\"ytick_537\">\r\n     <g id=\"line2d_546\">\r\n      <g>\r\n       <use style=\"stroke:#000000;stroke-width:0.8;\" x=\"33.2875\" xlink:href=\"#m086e67bf75\" y=\"40.108122\"/>\r\n      </g>\r\n     </g>\r\n     <g id=\"text_546\">\r\n      <!-- 536 -->\r\n      <g transform=\"translate(7.2 43.907341)scale(0.1 -0.1)\">\r\n       <use xlink:href=\"#DejaVuSans-53\"/>\r\n       <use x=\"63.623047\" xlink:href=\"#DejaVuSans-51\"/>\r\n       <use x=\"127.246094\" xlink:href=\"#DejaVuSans-54\"/>\r\n      </g>\r\n     </g>\r\n    </g>\r\n    <g id=\"ytick_538\">\r\n     <g id=\"line2d_547\">\r\n      <g>\r\n       <use style=\"stroke:#000000;stroke-width:0.8;\" x=\"33.2875\" xlink:href=\"#m086e67bf75\" y=\"39.757412\"/>\r\n      </g>\r\n     </g>\r\n     <g id=\"text_547\">\r\n      <!-- 537 -->\r\n      <g transform=\"translate(7.2 43.556631)scale(0.1 -0.1)\">\r\n       <use xlink:href=\"#DejaVuSans-53\"/>\r\n       <use x=\"63.623047\" xlink:href=\"#DejaVuSans-51\"/>\r\n       <use x=\"127.246094\" xlink:href=\"#DejaVuSans-55\"/>\r\n      </g>\r\n     </g>\r\n    </g>\r\n    <g id=\"ytick_539\">\r\n     <g id=\"line2d_548\">\r\n      <g>\r\n       <use style=\"stroke:#000000;stroke-width:0.8;\" x=\"33.2875\" xlink:href=\"#m086e67bf75\" y=\"39.406703\"/>\r\n      </g>\r\n     </g>\r\n     <g id=\"text_548\">\r\n      <!-- 538 -->\r\n      <g transform=\"translate(7.2 43.205921)scale(0.1 -0.1)\">\r\n       <use xlink:href=\"#DejaVuSans-53\"/>\r\n       <use x=\"63.623047\" xlink:href=\"#DejaVuSans-51\"/>\r\n       <use x=\"127.246094\" xlink:href=\"#DejaVuSans-56\"/>\r\n      </g>\r\n     </g>\r\n    </g>\r\n    <g id=\"ytick_540\">\r\n     <g id=\"line2d_549\">\r\n      <g>\r\n       <use style=\"stroke:#000000;stroke-width:0.8;\" x=\"33.2875\" xlink:href=\"#m086e67bf75\" y=\"39.055993\"/>\r\n      </g>\r\n     </g>\r\n     <g id=\"text_549\">\r\n      <!-- 539 -->\r\n      <g transform=\"translate(7.2 42.855212)scale(0.1 -0.1)\">\r\n       <use xlink:href=\"#DejaVuSans-53\"/>\r\n       <use x=\"63.623047\" xlink:href=\"#DejaVuSans-51\"/>\r\n       <use x=\"127.246094\" xlink:href=\"#DejaVuSans-57\"/>\r\n      </g>\r\n     </g>\r\n    </g>\r\n    <g id=\"ytick_541\">\r\n     <g id=\"line2d_550\">\r\n      <g>\r\n       <use style=\"stroke:#000000;stroke-width:0.8;\" x=\"33.2875\" xlink:href=\"#m086e67bf75\" y=\"38.705283\"/>\r\n      </g>\r\n     </g>\r\n     <g id=\"text_550\">\r\n      <!-- 540 -->\r\n      <g transform=\"translate(7.2 42.504502)scale(0.1 -0.1)\">\r\n       <use xlink:href=\"#DejaVuSans-53\"/>\r\n       <use x=\"63.623047\" xlink:href=\"#DejaVuSans-52\"/>\r\n       <use x=\"127.246094\" xlink:href=\"#DejaVuSans-48\"/>\r\n      </g>\r\n     </g>\r\n    </g>\r\n    <g id=\"ytick_542\">\r\n     <g id=\"line2d_551\">\r\n      <g>\r\n       <use style=\"stroke:#000000;stroke-width:0.8;\" x=\"33.2875\" xlink:href=\"#m086e67bf75\" y=\"38.354574\"/>\r\n      </g>\r\n     </g>\r\n     <g id=\"text_551\">\r\n      <!-- 541 -->\r\n      <g transform=\"translate(7.2 42.153792)scale(0.1 -0.1)\">\r\n       <use xlink:href=\"#DejaVuSans-53\"/>\r\n       <use x=\"63.623047\" xlink:href=\"#DejaVuSans-52\"/>\r\n       <use x=\"127.246094\" xlink:href=\"#DejaVuSans-49\"/>\r\n      </g>\r\n     </g>\r\n    </g>\r\n    <g id=\"ytick_543\">\r\n     <g id=\"line2d_552\">\r\n      <g>\r\n       <use style=\"stroke:#000000;stroke-width:0.8;\" x=\"33.2875\" xlink:href=\"#m086e67bf75\" y=\"38.003864\"/>\r\n      </g>\r\n     </g>\r\n     <g id=\"text_552\">\r\n      <!-- 542 -->\r\n      <g transform=\"translate(7.2 41.803083)scale(0.1 -0.1)\">\r\n       <use xlink:href=\"#DejaVuSans-53\"/>\r\n       <use x=\"63.623047\" xlink:href=\"#DejaVuSans-52\"/>\r\n       <use x=\"127.246094\" xlink:href=\"#DejaVuSans-50\"/>\r\n      </g>\r\n     </g>\r\n    </g>\r\n    <g id=\"ytick_544\">\r\n     <g id=\"line2d_553\">\r\n      <g>\r\n       <use style=\"stroke:#000000;stroke-width:0.8;\" x=\"33.2875\" xlink:href=\"#m086e67bf75\" y=\"37.653154\"/>\r\n      </g>\r\n     </g>\r\n     <g id=\"text_553\">\r\n      <!-- 543 -->\r\n      <g transform=\"translate(7.2 41.452373)scale(0.1 -0.1)\">\r\n       <use xlink:href=\"#DejaVuSans-53\"/>\r\n       <use x=\"63.623047\" xlink:href=\"#DejaVuSans-52\"/>\r\n       <use x=\"127.246094\" xlink:href=\"#DejaVuSans-51\"/>\r\n      </g>\r\n     </g>\r\n    </g>\r\n    <g id=\"ytick_545\">\r\n     <g id=\"line2d_554\">\r\n      <g>\r\n       <use style=\"stroke:#000000;stroke-width:0.8;\" x=\"33.2875\" xlink:href=\"#m086e67bf75\" y=\"37.302445\"/>\r\n      </g>\r\n     </g>\r\n     <g id=\"text_554\">\r\n      <!-- 544 -->\r\n      <g transform=\"translate(7.2 41.101663)scale(0.1 -0.1)\">\r\n       <use xlink:href=\"#DejaVuSans-53\"/>\r\n       <use x=\"63.623047\" xlink:href=\"#DejaVuSans-52\"/>\r\n       <use x=\"127.246094\" xlink:href=\"#DejaVuSans-52\"/>\r\n      </g>\r\n     </g>\r\n    </g>\r\n    <g id=\"ytick_546\">\r\n     <g id=\"line2d_555\">\r\n      <g>\r\n       <use style=\"stroke:#000000;stroke-width:0.8;\" x=\"33.2875\" xlink:href=\"#m086e67bf75\" y=\"36.951735\"/>\r\n      </g>\r\n     </g>\r\n     <g id=\"text_555\">\r\n      <!-- 545 -->\r\n      <g transform=\"translate(7.2 40.750954)scale(0.1 -0.1)\">\r\n       <use xlink:href=\"#DejaVuSans-53\"/>\r\n       <use x=\"63.623047\" xlink:href=\"#DejaVuSans-52\"/>\r\n       <use x=\"127.246094\" xlink:href=\"#DejaVuSans-53\"/>\r\n      </g>\r\n     </g>\r\n    </g>\r\n    <g id=\"ytick_547\">\r\n     <g id=\"line2d_556\">\r\n      <g>\r\n       <use style=\"stroke:#000000;stroke-width:0.8;\" x=\"33.2875\" xlink:href=\"#m086e67bf75\" y=\"36.601025\"/>\r\n      </g>\r\n     </g>\r\n     <g id=\"text_556\">\r\n      <!-- 546 -->\r\n      <g transform=\"translate(7.2 40.400244)scale(0.1 -0.1)\">\r\n       <use xlink:href=\"#DejaVuSans-53\"/>\r\n       <use x=\"63.623047\" xlink:href=\"#DejaVuSans-52\"/>\r\n       <use x=\"127.246094\" xlink:href=\"#DejaVuSans-54\"/>\r\n      </g>\r\n     </g>\r\n    </g>\r\n    <g id=\"ytick_548\">\r\n     <g id=\"line2d_557\">\r\n      <g>\r\n       <use style=\"stroke:#000000;stroke-width:0.8;\" x=\"33.2875\" xlink:href=\"#m086e67bf75\" y=\"36.250316\"/>\r\n      </g>\r\n     </g>\r\n     <g id=\"text_557\">\r\n      <!-- 547 -->\r\n      <g transform=\"translate(7.2 40.049534)scale(0.1 -0.1)\">\r\n       <use xlink:href=\"#DejaVuSans-53\"/>\r\n       <use x=\"63.623047\" xlink:href=\"#DejaVuSans-52\"/>\r\n       <use x=\"127.246094\" xlink:href=\"#DejaVuSans-55\"/>\r\n      </g>\r\n     </g>\r\n    </g>\r\n    <g id=\"ytick_549\">\r\n     <g id=\"line2d_558\">\r\n      <g>\r\n       <use style=\"stroke:#000000;stroke-width:0.8;\" x=\"33.2875\" xlink:href=\"#m086e67bf75\" y=\"35.899606\"/>\r\n      </g>\r\n     </g>\r\n     <g id=\"text_558\">\r\n      <!-- 548 -->\r\n      <g transform=\"translate(7.2 39.698825)scale(0.1 -0.1)\">\r\n       <use xlink:href=\"#DejaVuSans-53\"/>\r\n       <use x=\"63.623047\" xlink:href=\"#DejaVuSans-52\"/>\r\n       <use x=\"127.246094\" xlink:href=\"#DejaVuSans-56\"/>\r\n      </g>\r\n     </g>\r\n    </g>\r\n    <g id=\"ytick_550\">\r\n     <g id=\"line2d_559\">\r\n      <g>\r\n       <use style=\"stroke:#000000;stroke-width:0.8;\" x=\"33.2875\" xlink:href=\"#m086e67bf75\" y=\"35.548896\"/>\r\n      </g>\r\n     </g>\r\n     <g id=\"text_559\">\r\n      <!-- 549 -->\r\n      <g transform=\"translate(7.2 39.348115)scale(0.1 -0.1)\">\r\n       <use xlink:href=\"#DejaVuSans-53\"/>\r\n       <use x=\"63.623047\" xlink:href=\"#DejaVuSans-52\"/>\r\n       <use x=\"127.246094\" xlink:href=\"#DejaVuSans-57\"/>\r\n      </g>\r\n     </g>\r\n    </g>\r\n    <g id=\"ytick_551\">\r\n     <g id=\"line2d_560\">\r\n      <g>\r\n       <use style=\"stroke:#000000;stroke-width:0.8;\" x=\"33.2875\" xlink:href=\"#m086e67bf75\" y=\"35.198186\"/>\r\n      </g>\r\n     </g>\r\n     <g id=\"text_560\">\r\n      <!-- 550 -->\r\n      <g transform=\"translate(7.2 38.997405)scale(0.1 -0.1)\">\r\n       <use xlink:href=\"#DejaVuSans-53\"/>\r\n       <use x=\"63.623047\" xlink:href=\"#DejaVuSans-53\"/>\r\n       <use x=\"127.246094\" xlink:href=\"#DejaVuSans-48\"/>\r\n      </g>\r\n     </g>\r\n    </g>\r\n    <g id=\"ytick_552\">\r\n     <g id=\"line2d_561\">\r\n      <g>\r\n       <use style=\"stroke:#000000;stroke-width:0.8;\" x=\"33.2875\" xlink:href=\"#m086e67bf75\" y=\"34.847477\"/>\r\n      </g>\r\n     </g>\r\n     <g id=\"text_561\">\r\n      <!-- 551 -->\r\n      <g transform=\"translate(7.2 38.646696)scale(0.1 -0.1)\">\r\n       <use xlink:href=\"#DejaVuSans-53\"/>\r\n       <use x=\"63.623047\" xlink:href=\"#DejaVuSans-53\"/>\r\n       <use x=\"127.246094\" xlink:href=\"#DejaVuSans-49\"/>\r\n      </g>\r\n     </g>\r\n    </g>\r\n    <g id=\"ytick_553\">\r\n     <g id=\"line2d_562\">\r\n      <g>\r\n       <use style=\"stroke:#000000;stroke-width:0.8;\" x=\"33.2875\" xlink:href=\"#m086e67bf75\" y=\"34.496767\"/>\r\n      </g>\r\n     </g>\r\n     <g id=\"text_562\">\r\n      <!-- 552 -->\r\n      <g transform=\"translate(7.2 38.295986)scale(0.1 -0.1)\">\r\n       <use xlink:href=\"#DejaVuSans-53\"/>\r\n       <use x=\"63.623047\" xlink:href=\"#DejaVuSans-53\"/>\r\n       <use x=\"127.246094\" xlink:href=\"#DejaVuSans-50\"/>\r\n      </g>\r\n     </g>\r\n    </g>\r\n    <g id=\"ytick_554\">\r\n     <g id=\"line2d_563\">\r\n      <g>\r\n       <use style=\"stroke:#000000;stroke-width:0.8;\" x=\"33.2875\" xlink:href=\"#m086e67bf75\" y=\"34.146057\"/>\r\n      </g>\r\n     </g>\r\n     <g id=\"text_563\">\r\n      <!-- 553 -->\r\n      <g transform=\"translate(7.2 37.945276)scale(0.1 -0.1)\">\r\n       <use xlink:href=\"#DejaVuSans-53\"/>\r\n       <use x=\"63.623047\" xlink:href=\"#DejaVuSans-53\"/>\r\n       <use x=\"127.246094\" xlink:href=\"#DejaVuSans-51\"/>\r\n      </g>\r\n     </g>\r\n    </g>\r\n    <g id=\"ytick_555\">\r\n     <g id=\"line2d_564\">\r\n      <g>\r\n       <use style=\"stroke:#000000;stroke-width:0.8;\" x=\"33.2875\" xlink:href=\"#m086e67bf75\" y=\"33.795348\"/>\r\n      </g>\r\n     </g>\r\n     <g id=\"text_564\">\r\n      <!-- 554 -->\r\n      <g transform=\"translate(7.2 37.594567)scale(0.1 -0.1)\">\r\n       <use xlink:href=\"#DejaVuSans-53\"/>\r\n       <use x=\"63.623047\" xlink:href=\"#DejaVuSans-53\"/>\r\n       <use x=\"127.246094\" xlink:href=\"#DejaVuSans-52\"/>\r\n      </g>\r\n     </g>\r\n    </g>\r\n    <g id=\"ytick_556\">\r\n     <g id=\"line2d_565\">\r\n      <g>\r\n       <use style=\"stroke:#000000;stroke-width:0.8;\" x=\"33.2875\" xlink:href=\"#m086e67bf75\" y=\"33.444638\"/>\r\n      </g>\r\n     </g>\r\n     <g id=\"text_565\">\r\n      <!-- 555 -->\r\n      <g transform=\"translate(7.2 37.243857)scale(0.1 -0.1)\">\r\n       <use xlink:href=\"#DejaVuSans-53\"/>\r\n       <use x=\"63.623047\" xlink:href=\"#DejaVuSans-53\"/>\r\n       <use x=\"127.246094\" xlink:href=\"#DejaVuSans-53\"/>\r\n      </g>\r\n     </g>\r\n    </g>\r\n    <g id=\"ytick_557\">\r\n     <g id=\"line2d_566\">\r\n      <g>\r\n       <use style=\"stroke:#000000;stroke-width:0.8;\" x=\"33.2875\" xlink:href=\"#m086e67bf75\" y=\"33.093928\"/>\r\n      </g>\r\n     </g>\r\n     <g id=\"text_566\">\r\n      <!-- 556 -->\r\n      <g transform=\"translate(7.2 36.893147)scale(0.1 -0.1)\">\r\n       <use xlink:href=\"#DejaVuSans-53\"/>\r\n       <use x=\"63.623047\" xlink:href=\"#DejaVuSans-53\"/>\r\n       <use x=\"127.246094\" xlink:href=\"#DejaVuSans-54\"/>\r\n      </g>\r\n     </g>\r\n    </g>\r\n    <g id=\"ytick_558\">\r\n     <g id=\"line2d_567\">\r\n      <g>\r\n       <use style=\"stroke:#000000;stroke-width:0.8;\" x=\"33.2875\" xlink:href=\"#m086e67bf75\" y=\"32.743219\"/>\r\n      </g>\r\n     </g>\r\n     <g id=\"text_567\">\r\n      <!-- 557 -->\r\n      <g transform=\"translate(7.2 36.542438)scale(0.1 -0.1)\">\r\n       <use xlink:href=\"#DejaVuSans-53\"/>\r\n       <use x=\"63.623047\" xlink:href=\"#DejaVuSans-53\"/>\r\n       <use x=\"127.246094\" xlink:href=\"#DejaVuSans-55\"/>\r\n      </g>\r\n     </g>\r\n    </g>\r\n    <g id=\"ytick_559\">\r\n     <g id=\"line2d_568\">\r\n      <g>\r\n       <use style=\"stroke:#000000;stroke-width:0.8;\" x=\"33.2875\" xlink:href=\"#m086e67bf75\" y=\"32.392509\"/>\r\n      </g>\r\n     </g>\r\n     <g id=\"text_568\">\r\n      <!-- 558 -->\r\n      <g transform=\"translate(7.2 36.191728)scale(0.1 -0.1)\">\r\n       <use xlink:href=\"#DejaVuSans-53\"/>\r\n       <use x=\"63.623047\" xlink:href=\"#DejaVuSans-53\"/>\r\n       <use x=\"127.246094\" xlink:href=\"#DejaVuSans-56\"/>\r\n      </g>\r\n     </g>\r\n    </g>\r\n    <g id=\"ytick_560\">\r\n     <g id=\"line2d_569\">\r\n      <g>\r\n       <use style=\"stroke:#000000;stroke-width:0.8;\" x=\"33.2875\" xlink:href=\"#m086e67bf75\" y=\"32.041799\"/>\r\n      </g>\r\n     </g>\r\n     <g id=\"text_569\">\r\n      <!-- 559 -->\r\n      <g transform=\"translate(7.2 35.841018)scale(0.1 -0.1)\">\r\n       <use xlink:href=\"#DejaVuSans-53\"/>\r\n       <use x=\"63.623047\" xlink:href=\"#DejaVuSans-53\"/>\r\n       <use x=\"127.246094\" xlink:href=\"#DejaVuSans-57\"/>\r\n      </g>\r\n     </g>\r\n    </g>\r\n    <g id=\"ytick_561\">\r\n     <g id=\"line2d_570\">\r\n      <g>\r\n       <use style=\"stroke:#000000;stroke-width:0.8;\" x=\"33.2875\" xlink:href=\"#m086e67bf75\" y=\"31.69109\"/>\r\n      </g>\r\n     </g>\r\n     <g id=\"text_570\">\r\n      <!-- 560 -->\r\n      <g transform=\"translate(7.2 35.490308)scale(0.1 -0.1)\">\r\n       <use xlink:href=\"#DejaVuSans-53\"/>\r\n       <use x=\"63.623047\" xlink:href=\"#DejaVuSans-54\"/>\r\n       <use x=\"127.246094\" xlink:href=\"#DejaVuSans-48\"/>\r\n      </g>\r\n     </g>\r\n    </g>\r\n    <g id=\"ytick_562\">\r\n     <g id=\"line2d_571\">\r\n      <g>\r\n       <use style=\"stroke:#000000;stroke-width:0.8;\" x=\"33.2875\" xlink:href=\"#m086e67bf75\" y=\"31.34038\"/>\r\n      </g>\r\n     </g>\r\n     <g id=\"text_571\">\r\n      <!-- 561 -->\r\n      <g transform=\"translate(7.2 35.139599)scale(0.1 -0.1)\">\r\n       <use xlink:href=\"#DejaVuSans-53\"/>\r\n       <use x=\"63.623047\" xlink:href=\"#DejaVuSans-54\"/>\r\n       <use x=\"127.246094\" xlink:href=\"#DejaVuSans-49\"/>\r\n      </g>\r\n     </g>\r\n    </g>\r\n    <g id=\"ytick_563\">\r\n     <g id=\"line2d_572\">\r\n      <g>\r\n       <use style=\"stroke:#000000;stroke-width:0.8;\" x=\"33.2875\" xlink:href=\"#m086e67bf75\" y=\"30.98967\"/>\r\n      </g>\r\n     </g>\r\n     <g id=\"text_572\">\r\n      <!-- 562 -->\r\n      <g transform=\"translate(7.2 34.788889)scale(0.1 -0.1)\">\r\n       <use xlink:href=\"#DejaVuSans-53\"/>\r\n       <use x=\"63.623047\" xlink:href=\"#DejaVuSans-54\"/>\r\n       <use x=\"127.246094\" xlink:href=\"#DejaVuSans-50\"/>\r\n      </g>\r\n     </g>\r\n    </g>\r\n    <g id=\"ytick_564\">\r\n     <g id=\"line2d_573\">\r\n      <g>\r\n       <use style=\"stroke:#000000;stroke-width:0.8;\" x=\"33.2875\" xlink:href=\"#m086e67bf75\" y=\"30.638961\"/>\r\n      </g>\r\n     </g>\r\n     <g id=\"text_573\">\r\n      <!-- 563 -->\r\n      <g transform=\"translate(7.2 34.438179)scale(0.1 -0.1)\">\r\n       <use xlink:href=\"#DejaVuSans-53\"/>\r\n       <use x=\"63.623047\" xlink:href=\"#DejaVuSans-54\"/>\r\n       <use x=\"127.246094\" xlink:href=\"#DejaVuSans-51\"/>\r\n      </g>\r\n     </g>\r\n    </g>\r\n    <g id=\"ytick_565\">\r\n     <g id=\"line2d_574\">\r\n      <g>\r\n       <use style=\"stroke:#000000;stroke-width:0.8;\" x=\"33.2875\" xlink:href=\"#m086e67bf75\" y=\"30.288251\"/>\r\n      </g>\r\n     </g>\r\n     <g id=\"text_574\">\r\n      <!-- 564 -->\r\n      <g transform=\"translate(7.2 34.08747)scale(0.1 -0.1)\">\r\n       <use xlink:href=\"#DejaVuSans-53\"/>\r\n       <use x=\"63.623047\" xlink:href=\"#DejaVuSans-54\"/>\r\n       <use x=\"127.246094\" xlink:href=\"#DejaVuSans-52\"/>\r\n      </g>\r\n     </g>\r\n    </g>\r\n    <g id=\"ytick_566\">\r\n     <g id=\"line2d_575\">\r\n      <g>\r\n       <use style=\"stroke:#000000;stroke-width:0.8;\" x=\"33.2875\" xlink:href=\"#m086e67bf75\" y=\"29.937541\"/>\r\n      </g>\r\n     </g>\r\n     <g id=\"text_575\">\r\n      <!-- 565 -->\r\n      <g transform=\"translate(7.2 33.73676)scale(0.1 -0.1)\">\r\n       <use xlink:href=\"#DejaVuSans-53\"/>\r\n       <use x=\"63.623047\" xlink:href=\"#DejaVuSans-54\"/>\r\n       <use x=\"127.246094\" xlink:href=\"#DejaVuSans-53\"/>\r\n      </g>\r\n     </g>\r\n    </g>\r\n    <g id=\"ytick_567\">\r\n     <g id=\"line2d_576\">\r\n      <g>\r\n       <use style=\"stroke:#000000;stroke-width:0.8;\" x=\"33.2875\" xlink:href=\"#m086e67bf75\" y=\"29.586832\"/>\r\n      </g>\r\n     </g>\r\n     <g id=\"text_576\">\r\n      <!-- 566 -->\r\n      <g transform=\"translate(7.2 33.38605)scale(0.1 -0.1)\">\r\n       <use xlink:href=\"#DejaVuSans-53\"/>\r\n       <use x=\"63.623047\" xlink:href=\"#DejaVuSans-54\"/>\r\n       <use x=\"127.246094\" xlink:href=\"#DejaVuSans-54\"/>\r\n      </g>\r\n     </g>\r\n    </g>\r\n    <g id=\"ytick_568\">\r\n     <g id=\"line2d_577\">\r\n      <g>\r\n       <use style=\"stroke:#000000;stroke-width:0.8;\" x=\"33.2875\" xlink:href=\"#m086e67bf75\" y=\"29.236122\"/>\r\n      </g>\r\n     </g>\r\n     <g id=\"text_577\">\r\n      <!-- 567 -->\r\n      <g transform=\"translate(7.2 33.035341)scale(0.1 -0.1)\">\r\n       <use xlink:href=\"#DejaVuSans-53\"/>\r\n       <use x=\"63.623047\" xlink:href=\"#DejaVuSans-54\"/>\r\n       <use x=\"127.246094\" xlink:href=\"#DejaVuSans-55\"/>\r\n      </g>\r\n     </g>\r\n    </g>\r\n    <g id=\"ytick_569\">\r\n     <g id=\"line2d_578\">\r\n      <g>\r\n       <use style=\"stroke:#000000;stroke-width:0.8;\" x=\"33.2875\" xlink:href=\"#m086e67bf75\" y=\"28.885412\"/>\r\n      </g>\r\n     </g>\r\n     <g id=\"text_578\">\r\n      <!-- 568 -->\r\n      <g transform=\"translate(7.2 32.684631)scale(0.1 -0.1)\">\r\n       <use xlink:href=\"#DejaVuSans-53\"/>\r\n       <use x=\"63.623047\" xlink:href=\"#DejaVuSans-54\"/>\r\n       <use x=\"127.246094\" xlink:href=\"#DejaVuSans-56\"/>\r\n      </g>\r\n     </g>\r\n    </g>\r\n    <g id=\"ytick_570\">\r\n     <g id=\"line2d_579\">\r\n      <g>\r\n       <use style=\"stroke:#000000;stroke-width:0.8;\" x=\"33.2875\" xlink:href=\"#m086e67bf75\" y=\"28.534703\"/>\r\n      </g>\r\n     </g>\r\n     <g id=\"text_579\">\r\n      <!-- 569 -->\r\n      <g transform=\"translate(7.2 32.333921)scale(0.1 -0.1)\">\r\n       <use xlink:href=\"#DejaVuSans-53\"/>\r\n       <use x=\"63.623047\" xlink:href=\"#DejaVuSans-54\"/>\r\n       <use x=\"127.246094\" xlink:href=\"#DejaVuSans-57\"/>\r\n      </g>\r\n     </g>\r\n    </g>\r\n    <g id=\"ytick_571\">\r\n     <g id=\"line2d_580\">\r\n      <g>\r\n       <use style=\"stroke:#000000;stroke-width:0.8;\" x=\"33.2875\" xlink:href=\"#m086e67bf75\" y=\"28.183993\"/>\r\n      </g>\r\n     </g>\r\n     <g id=\"text_580\">\r\n      <!-- 570 -->\r\n      <g transform=\"translate(7.2 31.983212)scale(0.1 -0.1)\">\r\n       <use xlink:href=\"#DejaVuSans-53\"/>\r\n       <use x=\"63.623047\" xlink:href=\"#DejaVuSans-55\"/>\r\n       <use x=\"127.246094\" xlink:href=\"#DejaVuSans-48\"/>\r\n      </g>\r\n     </g>\r\n    </g>\r\n    <g id=\"ytick_572\">\r\n     <g id=\"line2d_581\">\r\n      <g>\r\n       <use style=\"stroke:#000000;stroke-width:0.8;\" x=\"33.2875\" xlink:href=\"#m086e67bf75\" y=\"27.833283\"/>\r\n      </g>\r\n     </g>\r\n     <g id=\"text_581\">\r\n      <!-- 571 -->\r\n      <g transform=\"translate(7.2 31.632502)scale(0.1 -0.1)\">\r\n       <use xlink:href=\"#DejaVuSans-53\"/>\r\n       <use x=\"63.623047\" xlink:href=\"#DejaVuSans-55\"/>\r\n       <use x=\"127.246094\" xlink:href=\"#DejaVuSans-49\"/>\r\n      </g>\r\n     </g>\r\n    </g>\r\n    <g id=\"ytick_573\">\r\n     <g id=\"line2d_582\">\r\n      <g>\r\n       <use style=\"stroke:#000000;stroke-width:0.8;\" x=\"33.2875\" xlink:href=\"#m086e67bf75\" y=\"27.482574\"/>\r\n      </g>\r\n     </g>\r\n     <g id=\"text_582\">\r\n      <!-- 572 -->\r\n      <g transform=\"translate(7.2 31.281792)scale(0.1 -0.1)\">\r\n       <use xlink:href=\"#DejaVuSans-53\"/>\r\n       <use x=\"63.623047\" xlink:href=\"#DejaVuSans-55\"/>\r\n       <use x=\"127.246094\" xlink:href=\"#DejaVuSans-50\"/>\r\n      </g>\r\n     </g>\r\n    </g>\r\n    <g id=\"ytick_574\">\r\n     <g id=\"line2d_583\">\r\n      <g>\r\n       <use style=\"stroke:#000000;stroke-width:0.8;\" x=\"33.2875\" xlink:href=\"#m086e67bf75\" y=\"27.131864\"/>\r\n      </g>\r\n     </g>\r\n     <g id=\"text_583\">\r\n      <!-- 573 -->\r\n      <g transform=\"translate(7.2 30.931083)scale(0.1 -0.1)\">\r\n       <use xlink:href=\"#DejaVuSans-53\"/>\r\n       <use x=\"63.623047\" xlink:href=\"#DejaVuSans-55\"/>\r\n       <use x=\"127.246094\" xlink:href=\"#DejaVuSans-51\"/>\r\n      </g>\r\n     </g>\r\n    </g>\r\n    <g id=\"ytick_575\">\r\n     <g id=\"line2d_584\">\r\n      <g>\r\n       <use style=\"stroke:#000000;stroke-width:0.8;\" x=\"33.2875\" xlink:href=\"#m086e67bf75\" y=\"26.781154\"/>\r\n      </g>\r\n     </g>\r\n     <g id=\"text_584\">\r\n      <!-- 574 -->\r\n      <g transform=\"translate(7.2 30.580373)scale(0.1 -0.1)\">\r\n       <use xlink:href=\"#DejaVuSans-53\"/>\r\n       <use x=\"63.623047\" xlink:href=\"#DejaVuSans-55\"/>\r\n       <use x=\"127.246094\" xlink:href=\"#DejaVuSans-52\"/>\r\n      </g>\r\n     </g>\r\n    </g>\r\n    <g id=\"ytick_576\">\r\n     <g id=\"line2d_585\">\r\n      <g>\r\n       <use style=\"stroke:#000000;stroke-width:0.8;\" x=\"33.2875\" xlink:href=\"#m086e67bf75\" y=\"26.430445\"/>\r\n      </g>\r\n     </g>\r\n     <g id=\"text_585\">\r\n      <!-- 575 -->\r\n      <g transform=\"translate(7.2 30.229663)scale(0.1 -0.1)\">\r\n       <use xlink:href=\"#DejaVuSans-53\"/>\r\n       <use x=\"63.623047\" xlink:href=\"#DejaVuSans-55\"/>\r\n       <use x=\"127.246094\" xlink:href=\"#DejaVuSans-53\"/>\r\n      </g>\r\n     </g>\r\n    </g>\r\n    <g id=\"ytick_577\">\r\n     <g id=\"line2d_586\">\r\n      <g>\r\n       <use style=\"stroke:#000000;stroke-width:0.8;\" x=\"33.2875\" xlink:href=\"#m086e67bf75\" y=\"26.079735\"/>\r\n      </g>\r\n     </g>\r\n     <g id=\"text_586\">\r\n      <!-- 576 -->\r\n      <g transform=\"translate(7.2 29.878954)scale(0.1 -0.1)\">\r\n       <use xlink:href=\"#DejaVuSans-53\"/>\r\n       <use x=\"63.623047\" xlink:href=\"#DejaVuSans-55\"/>\r\n       <use x=\"127.246094\" xlink:href=\"#DejaVuSans-54\"/>\r\n      </g>\r\n     </g>\r\n    </g>\r\n    <g id=\"ytick_578\">\r\n     <g id=\"line2d_587\">\r\n      <g>\r\n       <use style=\"stroke:#000000;stroke-width:0.8;\" x=\"33.2875\" xlink:href=\"#m086e67bf75\" y=\"25.729025\"/>\r\n      </g>\r\n     </g>\r\n     <g id=\"text_587\">\r\n      <!-- 577 -->\r\n      <g transform=\"translate(7.2 29.528244)scale(0.1 -0.1)\">\r\n       <use xlink:href=\"#DejaVuSans-53\"/>\r\n       <use x=\"63.623047\" xlink:href=\"#DejaVuSans-55\"/>\r\n       <use x=\"127.246094\" xlink:href=\"#DejaVuSans-55\"/>\r\n      </g>\r\n     </g>\r\n    </g>\r\n    <g id=\"ytick_579\">\r\n     <g id=\"line2d_588\">\r\n      <g>\r\n       <use style=\"stroke:#000000;stroke-width:0.8;\" x=\"33.2875\" xlink:href=\"#m086e67bf75\" y=\"25.378316\"/>\r\n      </g>\r\n     </g>\r\n     <g id=\"text_588\">\r\n      <!-- 578 -->\r\n      <g transform=\"translate(7.2 29.177534)scale(0.1 -0.1)\">\r\n       <use xlink:href=\"#DejaVuSans-53\"/>\r\n       <use x=\"63.623047\" xlink:href=\"#DejaVuSans-55\"/>\r\n       <use x=\"127.246094\" xlink:href=\"#DejaVuSans-56\"/>\r\n      </g>\r\n     </g>\r\n    </g>\r\n    <g id=\"ytick_580\">\r\n     <g id=\"line2d_589\">\r\n      <g>\r\n       <use style=\"stroke:#000000;stroke-width:0.8;\" x=\"33.2875\" xlink:href=\"#m086e67bf75\" y=\"25.027606\"/>\r\n      </g>\r\n     </g>\r\n     <g id=\"text_589\">\r\n      <!-- 579 -->\r\n      <g transform=\"translate(7.2 28.826825)scale(0.1 -0.1)\">\r\n       <use xlink:href=\"#DejaVuSans-53\"/>\r\n       <use x=\"63.623047\" xlink:href=\"#DejaVuSans-55\"/>\r\n       <use x=\"127.246094\" xlink:href=\"#DejaVuSans-57\"/>\r\n      </g>\r\n     </g>\r\n    </g>\r\n    <g id=\"ytick_581\">\r\n     <g id=\"line2d_590\">\r\n      <g>\r\n       <use style=\"stroke:#000000;stroke-width:0.8;\" x=\"33.2875\" xlink:href=\"#m086e67bf75\" y=\"24.676896\"/>\r\n      </g>\r\n     </g>\r\n     <g id=\"text_590\">\r\n      <!-- 580 -->\r\n      <g transform=\"translate(7.2 28.476115)scale(0.1 -0.1)\">\r\n       <use xlink:href=\"#DejaVuSans-53\"/>\r\n       <use x=\"63.623047\" xlink:href=\"#DejaVuSans-56\"/>\r\n       <use x=\"127.246094\" xlink:href=\"#DejaVuSans-48\"/>\r\n      </g>\r\n     </g>\r\n    </g>\r\n    <g id=\"ytick_582\">\r\n     <g id=\"line2d_591\">\r\n      <g>\r\n       <use style=\"stroke:#000000;stroke-width:0.8;\" x=\"33.2875\" xlink:href=\"#m086e67bf75\" y=\"24.326186\"/>\r\n      </g>\r\n     </g>\r\n     <g id=\"text_591\">\r\n      <!-- 581 -->\r\n      <g transform=\"translate(7.2 28.125405)scale(0.1 -0.1)\">\r\n       <use xlink:href=\"#DejaVuSans-53\"/>\r\n       <use x=\"63.623047\" xlink:href=\"#DejaVuSans-56\"/>\r\n       <use x=\"127.246094\" xlink:href=\"#DejaVuSans-49\"/>\r\n      </g>\r\n     </g>\r\n    </g>\r\n    <g id=\"ytick_583\">\r\n     <g id=\"line2d_592\">\r\n      <g>\r\n       <use style=\"stroke:#000000;stroke-width:0.8;\" x=\"33.2875\" xlink:href=\"#m086e67bf75\" y=\"23.975477\"/>\r\n      </g>\r\n     </g>\r\n     <g id=\"text_592\">\r\n      <!-- 582 -->\r\n      <g transform=\"translate(7.2 27.774696)scale(0.1 -0.1)\">\r\n       <use xlink:href=\"#DejaVuSans-53\"/>\r\n       <use x=\"63.623047\" xlink:href=\"#DejaVuSans-56\"/>\r\n       <use x=\"127.246094\" xlink:href=\"#DejaVuSans-50\"/>\r\n      </g>\r\n     </g>\r\n    </g>\r\n    <g id=\"ytick_584\">\r\n     <g id=\"line2d_593\">\r\n      <g>\r\n       <use style=\"stroke:#000000;stroke-width:0.8;\" x=\"33.2875\" xlink:href=\"#m086e67bf75\" y=\"23.624767\"/>\r\n      </g>\r\n     </g>\r\n     <g id=\"text_593\">\r\n      <!-- 583 -->\r\n      <g transform=\"translate(7.2 27.423986)scale(0.1 -0.1)\">\r\n       <use xlink:href=\"#DejaVuSans-53\"/>\r\n       <use x=\"63.623047\" xlink:href=\"#DejaVuSans-56\"/>\r\n       <use x=\"127.246094\" xlink:href=\"#DejaVuSans-51\"/>\r\n      </g>\r\n     </g>\r\n    </g>\r\n    <g id=\"ytick_585\">\r\n     <g id=\"line2d_594\">\r\n      <g>\r\n       <use style=\"stroke:#000000;stroke-width:0.8;\" x=\"33.2875\" xlink:href=\"#m086e67bf75\" y=\"23.274057\"/>\r\n      </g>\r\n     </g>\r\n     <g id=\"text_594\">\r\n      <!-- 584 -->\r\n      <g transform=\"translate(7.2 27.073276)scale(0.1 -0.1)\">\r\n       <use xlink:href=\"#DejaVuSans-53\"/>\r\n       <use x=\"63.623047\" xlink:href=\"#DejaVuSans-56\"/>\r\n       <use x=\"127.246094\" xlink:href=\"#DejaVuSans-52\"/>\r\n      </g>\r\n     </g>\r\n    </g>\r\n    <g id=\"ytick_586\">\r\n     <g id=\"line2d_595\">\r\n      <g>\r\n       <use style=\"stroke:#000000;stroke-width:0.8;\" x=\"33.2875\" xlink:href=\"#m086e67bf75\" y=\"22.923348\"/>\r\n      </g>\r\n     </g>\r\n     <g id=\"text_595\">\r\n      <!-- 585 -->\r\n      <g transform=\"translate(7.2 26.722567)scale(0.1 -0.1)\">\r\n       <use xlink:href=\"#DejaVuSans-53\"/>\r\n       <use x=\"63.623047\" xlink:href=\"#DejaVuSans-56\"/>\r\n       <use x=\"127.246094\" xlink:href=\"#DejaVuSans-53\"/>\r\n      </g>\r\n     </g>\r\n    </g>\r\n    <g id=\"ytick_587\">\r\n     <g id=\"line2d_596\">\r\n      <g>\r\n       <use style=\"stroke:#000000;stroke-width:0.8;\" x=\"33.2875\" xlink:href=\"#m086e67bf75\" y=\"22.572638\"/>\r\n      </g>\r\n     </g>\r\n     <g id=\"text_596\">\r\n      <!-- 586 -->\r\n      <g transform=\"translate(7.2 26.371857)scale(0.1 -0.1)\">\r\n       <use xlink:href=\"#DejaVuSans-53\"/>\r\n       <use x=\"63.623047\" xlink:href=\"#DejaVuSans-56\"/>\r\n       <use x=\"127.246094\" xlink:href=\"#DejaVuSans-54\"/>\r\n      </g>\r\n     </g>\r\n    </g>\r\n    <g id=\"ytick_588\">\r\n     <g id=\"line2d_597\">\r\n      <g>\r\n       <use style=\"stroke:#000000;stroke-width:0.8;\" x=\"33.2875\" xlink:href=\"#m086e67bf75\" y=\"22.221928\"/>\r\n      </g>\r\n     </g>\r\n     <g id=\"text_597\">\r\n      <!-- 587 -->\r\n      <g transform=\"translate(7.2 26.021147)scale(0.1 -0.1)\">\r\n       <use xlink:href=\"#DejaVuSans-53\"/>\r\n       <use x=\"63.623047\" xlink:href=\"#DejaVuSans-56\"/>\r\n       <use x=\"127.246094\" xlink:href=\"#DejaVuSans-55\"/>\r\n      </g>\r\n     </g>\r\n    </g>\r\n    <g id=\"ytick_589\">\r\n     <g id=\"line2d_598\">\r\n      <g>\r\n       <use style=\"stroke:#000000;stroke-width:0.8;\" x=\"33.2875\" xlink:href=\"#m086e67bf75\" y=\"21.871219\"/>\r\n      </g>\r\n     </g>\r\n     <g id=\"text_598\">\r\n      <!-- 588 -->\r\n      <g transform=\"translate(7.2 25.670438)scale(0.1 -0.1)\">\r\n       <use xlink:href=\"#DejaVuSans-53\"/>\r\n       <use x=\"63.623047\" xlink:href=\"#DejaVuSans-56\"/>\r\n       <use x=\"127.246094\" xlink:href=\"#DejaVuSans-56\"/>\r\n      </g>\r\n     </g>\r\n    </g>\r\n    <g id=\"ytick_590\">\r\n     <g id=\"line2d_599\">\r\n      <g>\r\n       <use style=\"stroke:#000000;stroke-width:0.8;\" x=\"33.2875\" xlink:href=\"#m086e67bf75\" y=\"21.520509\"/>\r\n      </g>\r\n     </g>\r\n     <g id=\"text_599\">\r\n      <!-- 589 -->\r\n      <g transform=\"translate(7.2 25.319728)scale(0.1 -0.1)\">\r\n       <use xlink:href=\"#DejaVuSans-53\"/>\r\n       <use x=\"63.623047\" xlink:href=\"#DejaVuSans-56\"/>\r\n       <use x=\"127.246094\" xlink:href=\"#DejaVuSans-57\"/>\r\n      </g>\r\n     </g>\r\n    </g>\r\n    <g id=\"ytick_591\">\r\n     <g id=\"line2d_600\">\r\n      <g>\r\n       <use style=\"stroke:#000000;stroke-width:0.8;\" x=\"33.2875\" xlink:href=\"#m086e67bf75\" y=\"21.169799\"/>\r\n      </g>\r\n     </g>\r\n     <g id=\"text_600\">\r\n      <!-- 590 -->\r\n      <g transform=\"translate(7.2 24.969018)scale(0.1 -0.1)\">\r\n       <use xlink:href=\"#DejaVuSans-53\"/>\r\n       <use x=\"63.623047\" xlink:href=\"#DejaVuSans-57\"/>\r\n       <use x=\"127.246094\" xlink:href=\"#DejaVuSans-48\"/>\r\n      </g>\r\n     </g>\r\n    </g>\r\n    <g id=\"ytick_592\">\r\n     <g id=\"line2d_601\">\r\n      <g>\r\n       <use style=\"stroke:#000000;stroke-width:0.8;\" x=\"33.2875\" xlink:href=\"#m086e67bf75\" y=\"20.81909\"/>\r\n      </g>\r\n     </g>\r\n     <g id=\"text_601\">\r\n      <!-- 591 -->\r\n      <g transform=\"translate(7.2 24.618308)scale(0.1 -0.1)\">\r\n       <use xlink:href=\"#DejaVuSans-53\"/>\r\n       <use x=\"63.623047\" xlink:href=\"#DejaVuSans-57\"/>\r\n       <use x=\"127.246094\" xlink:href=\"#DejaVuSans-49\"/>\r\n      </g>\r\n     </g>\r\n    </g>\r\n    <g id=\"ytick_593\">\r\n     <g id=\"line2d_602\">\r\n      <g>\r\n       <use style=\"stroke:#000000;stroke-width:0.8;\" x=\"33.2875\" xlink:href=\"#m086e67bf75\" y=\"20.46838\"/>\r\n      </g>\r\n     </g>\r\n     <g id=\"text_602\">\r\n      <!-- 592 -->\r\n      <g transform=\"translate(7.2 24.267599)scale(0.1 -0.1)\">\r\n       <use xlink:href=\"#DejaVuSans-53\"/>\r\n       <use x=\"63.623047\" xlink:href=\"#DejaVuSans-57\"/>\r\n       <use x=\"127.246094\" xlink:href=\"#DejaVuSans-50\"/>\r\n      </g>\r\n     </g>\r\n    </g>\r\n    <g id=\"ytick_594\">\r\n     <g id=\"line2d_603\">\r\n      <g>\r\n       <use style=\"stroke:#000000;stroke-width:0.8;\" x=\"33.2875\" xlink:href=\"#m086e67bf75\" y=\"20.11767\"/>\r\n      </g>\r\n     </g>\r\n     <g id=\"text_603\">\r\n      <!-- 593 -->\r\n      <g transform=\"translate(7.2 23.916889)scale(0.1 -0.1)\">\r\n       <use xlink:href=\"#DejaVuSans-53\"/>\r\n       <use x=\"63.623047\" xlink:href=\"#DejaVuSans-57\"/>\r\n       <use x=\"127.246094\" xlink:href=\"#DejaVuSans-51\"/>\r\n      </g>\r\n     </g>\r\n    </g>\r\n    <g id=\"ytick_595\">\r\n     <g id=\"line2d_604\">\r\n      <g>\r\n       <use style=\"stroke:#000000;stroke-width:0.8;\" x=\"33.2875\" xlink:href=\"#m086e67bf75\" y=\"19.766961\"/>\r\n      </g>\r\n     </g>\r\n     <g id=\"text_604\">\r\n      <!-- 594 -->\r\n      <g transform=\"translate(7.2 23.566179)scale(0.1 -0.1)\">\r\n       <use xlink:href=\"#DejaVuSans-53\"/>\r\n       <use x=\"63.623047\" xlink:href=\"#DejaVuSans-57\"/>\r\n       <use x=\"127.246094\" xlink:href=\"#DejaVuSans-52\"/>\r\n      </g>\r\n     </g>\r\n    </g>\r\n    <g id=\"ytick_596\">\r\n     <g id=\"line2d_605\">\r\n      <g>\r\n       <use style=\"stroke:#000000;stroke-width:0.8;\" x=\"33.2875\" xlink:href=\"#m086e67bf75\" y=\"19.416251\"/>\r\n      </g>\r\n     </g>\r\n     <g id=\"text_605\">\r\n      <!-- 595 -->\r\n      <g transform=\"translate(7.2 23.21547)scale(0.1 -0.1)\">\r\n       <use xlink:href=\"#DejaVuSans-53\"/>\r\n       <use x=\"63.623047\" xlink:href=\"#DejaVuSans-57\"/>\r\n       <use x=\"127.246094\" xlink:href=\"#DejaVuSans-53\"/>\r\n      </g>\r\n     </g>\r\n    </g>\r\n    <g id=\"ytick_597\">\r\n     <g id=\"line2d_606\">\r\n      <g>\r\n       <use style=\"stroke:#000000;stroke-width:0.8;\" x=\"33.2875\" xlink:href=\"#m086e67bf75\" y=\"19.065541\"/>\r\n      </g>\r\n     </g>\r\n     <g id=\"text_606\">\r\n      <!-- 596 -->\r\n      <g transform=\"translate(7.2 22.86476)scale(0.1 -0.1)\">\r\n       <use xlink:href=\"#DejaVuSans-53\"/>\r\n       <use x=\"63.623047\" xlink:href=\"#DejaVuSans-57\"/>\r\n       <use x=\"127.246094\" xlink:href=\"#DejaVuSans-54\"/>\r\n      </g>\r\n     </g>\r\n    </g>\r\n    <g id=\"ytick_598\">\r\n     <g id=\"line2d_607\">\r\n      <g>\r\n       <use style=\"stroke:#000000;stroke-width:0.8;\" x=\"33.2875\" xlink:href=\"#m086e67bf75\" y=\"18.714832\"/>\r\n      </g>\r\n     </g>\r\n     <g id=\"text_607\">\r\n      <!-- 597 -->\r\n      <g transform=\"translate(7.2 22.51405)scale(0.1 -0.1)\">\r\n       <use xlink:href=\"#DejaVuSans-53\"/>\r\n       <use x=\"63.623047\" xlink:href=\"#DejaVuSans-57\"/>\r\n       <use x=\"127.246094\" xlink:href=\"#DejaVuSans-55\"/>\r\n      </g>\r\n     </g>\r\n    </g>\r\n    <g id=\"ytick_599\">\r\n     <g id=\"line2d_608\">\r\n      <g>\r\n       <use style=\"stroke:#000000;stroke-width:0.8;\" x=\"33.2875\" xlink:href=\"#m086e67bf75\" y=\"18.364122\"/>\r\n      </g>\r\n     </g>\r\n     <g id=\"text_608\">\r\n      <!-- 598 -->\r\n      <g transform=\"translate(7.2 22.163341)scale(0.1 -0.1)\">\r\n       <use xlink:href=\"#DejaVuSans-53\"/>\r\n       <use x=\"63.623047\" xlink:href=\"#DejaVuSans-57\"/>\r\n       <use x=\"127.246094\" xlink:href=\"#DejaVuSans-56\"/>\r\n      </g>\r\n     </g>\r\n    </g>\r\n    <g id=\"ytick_600\">\r\n     <g id=\"line2d_609\">\r\n      <g>\r\n       <use style=\"stroke:#000000;stroke-width:0.8;\" x=\"33.2875\" xlink:href=\"#m086e67bf75\" y=\"18.013412\"/>\r\n      </g>\r\n     </g>\r\n     <g id=\"text_609\">\r\n      <!-- 599 -->\r\n      <g transform=\"translate(7.2 21.812631)scale(0.1 -0.1)\">\r\n       <use xlink:href=\"#DejaVuSans-53\"/>\r\n       <use x=\"63.623047\" xlink:href=\"#DejaVuSans-57\"/>\r\n       <use x=\"127.246094\" xlink:href=\"#DejaVuSans-57\"/>\r\n      </g>\r\n     </g>\r\n    </g>\r\n    <g id=\"ytick_601\">\r\n     <g id=\"line2d_610\">\r\n      <g>\r\n       <use style=\"stroke:#000000;stroke-width:0.8;\" x=\"33.2875\" xlink:href=\"#m086e67bf75\" y=\"17.662703\"/>\r\n      </g>\r\n     </g>\r\n     <g id=\"text_610\">\r\n      <!-- 600 -->\r\n      <g transform=\"translate(7.2 21.461921)scale(0.1 -0.1)\">\r\n       <use xlink:href=\"#DejaVuSans-54\"/>\r\n       <use x=\"63.623047\" xlink:href=\"#DejaVuSans-48\"/>\r\n       <use x=\"127.246094\" xlink:href=\"#DejaVuSans-48\"/>\r\n      </g>\r\n     </g>\r\n    </g>\r\n    <g id=\"ytick_602\">\r\n     <g id=\"line2d_611\">\r\n      <g>\r\n       <use style=\"stroke:#000000;stroke-width:0.8;\" x=\"33.2875\" xlink:href=\"#m086e67bf75\" y=\"17.311993\"/>\r\n      </g>\r\n     </g>\r\n     <g id=\"text_611\">\r\n      <!-- 601 -->\r\n      <g transform=\"translate(7.2 21.111212)scale(0.1 -0.1)\">\r\n       <use xlink:href=\"#DejaVuSans-54\"/>\r\n       <use x=\"63.623047\" xlink:href=\"#DejaVuSans-48\"/>\r\n       <use x=\"127.246094\" xlink:href=\"#DejaVuSans-49\"/>\r\n      </g>\r\n     </g>\r\n    </g>\r\n    <g id=\"ytick_603\">\r\n     <g id=\"line2d_612\">\r\n      <g>\r\n       <use style=\"stroke:#000000;stroke-width:0.8;\" x=\"33.2875\" xlink:href=\"#m086e67bf75\" y=\"16.961283\"/>\r\n      </g>\r\n     </g>\r\n     <g id=\"text_612\">\r\n      <!-- 602 -->\r\n      <g transform=\"translate(7.2 20.760502)scale(0.1 -0.1)\">\r\n       <use xlink:href=\"#DejaVuSans-54\"/>\r\n       <use x=\"63.623047\" xlink:href=\"#DejaVuSans-48\"/>\r\n       <use x=\"127.246094\" xlink:href=\"#DejaVuSans-50\"/>\r\n      </g>\r\n     </g>\r\n    </g>\r\n    <g id=\"ytick_604\">\r\n     <g id=\"line2d_613\">\r\n      <g>\r\n       <use style=\"stroke:#000000;stroke-width:0.8;\" x=\"33.2875\" xlink:href=\"#m086e67bf75\" y=\"16.610574\"/>\r\n      </g>\r\n     </g>\r\n     <g id=\"text_613\">\r\n      <!-- 603 -->\r\n      <g transform=\"translate(7.2 20.409792)scale(0.1 -0.1)\">\r\n       <use xlink:href=\"#DejaVuSans-54\"/>\r\n       <use x=\"63.623047\" xlink:href=\"#DejaVuSans-48\"/>\r\n       <use x=\"127.246094\" xlink:href=\"#DejaVuSans-51\"/>\r\n      </g>\r\n     </g>\r\n    </g>\r\n    <g id=\"ytick_605\">\r\n     <g id=\"line2d_614\">\r\n      <g>\r\n       <use style=\"stroke:#000000;stroke-width:0.8;\" x=\"33.2875\" xlink:href=\"#m086e67bf75\" y=\"16.259864\"/>\r\n      </g>\r\n     </g>\r\n     <g id=\"text_614\">\r\n      <!-- 604 -->\r\n      <g transform=\"translate(7.2 20.059083)scale(0.1 -0.1)\">\r\n       <use xlink:href=\"#DejaVuSans-54\"/>\r\n       <use x=\"63.623047\" xlink:href=\"#DejaVuSans-48\"/>\r\n       <use x=\"127.246094\" xlink:href=\"#DejaVuSans-52\"/>\r\n      </g>\r\n     </g>\r\n    </g>\r\n    <g id=\"ytick_606\">\r\n     <g id=\"line2d_615\">\r\n      <g>\r\n       <use style=\"stroke:#000000;stroke-width:0.8;\" x=\"33.2875\" xlink:href=\"#m086e67bf75\" y=\"15.909154\"/>\r\n      </g>\r\n     </g>\r\n     <g id=\"text_615\">\r\n      <!-- 605 -->\r\n      <g transform=\"translate(7.2 19.708373)scale(0.1 -0.1)\">\r\n       <use xlink:href=\"#DejaVuSans-54\"/>\r\n       <use x=\"63.623047\" xlink:href=\"#DejaVuSans-48\"/>\r\n       <use x=\"127.246094\" xlink:href=\"#DejaVuSans-53\"/>\r\n      </g>\r\n     </g>\r\n    </g>\r\n    <g id=\"ytick_607\">\r\n     <g id=\"line2d_616\">\r\n      <g>\r\n       <use style=\"stroke:#000000;stroke-width:0.8;\" x=\"33.2875\" xlink:href=\"#m086e67bf75\" y=\"15.558445\"/>\r\n      </g>\r\n     </g>\r\n     <g id=\"text_616\">\r\n      <!-- 606 -->\r\n      <g transform=\"translate(7.2 19.357663)scale(0.1 -0.1)\">\r\n       <use xlink:href=\"#DejaVuSans-54\"/>\r\n       <use x=\"63.623047\" xlink:href=\"#DejaVuSans-48\"/>\r\n       <use x=\"127.246094\" xlink:href=\"#DejaVuSans-54\"/>\r\n      </g>\r\n     </g>\r\n    </g>\r\n    <g id=\"ytick_608\">\r\n     <g id=\"line2d_617\">\r\n      <g>\r\n       <use style=\"stroke:#000000;stroke-width:0.8;\" x=\"33.2875\" xlink:href=\"#m086e67bf75\" y=\"15.207735\"/>\r\n      </g>\r\n     </g>\r\n     <g id=\"text_617\">\r\n      <!-- 607 -->\r\n      <g transform=\"translate(7.2 19.006954)scale(0.1 -0.1)\">\r\n       <use xlink:href=\"#DejaVuSans-54\"/>\r\n       <use x=\"63.623047\" xlink:href=\"#DejaVuSans-48\"/>\r\n       <use x=\"127.246094\" xlink:href=\"#DejaVuSans-55\"/>\r\n      </g>\r\n     </g>\r\n    </g>\r\n    <g id=\"ytick_609\">\r\n     <g id=\"line2d_618\">\r\n      <g>\r\n       <use style=\"stroke:#000000;stroke-width:0.8;\" x=\"33.2875\" xlink:href=\"#m086e67bf75\" y=\"14.857025\"/>\r\n      </g>\r\n     </g>\r\n     <g id=\"text_618\">\r\n      <!-- 608 -->\r\n      <g transform=\"translate(7.2 18.656244)scale(0.1 -0.1)\">\r\n       <use xlink:href=\"#DejaVuSans-54\"/>\r\n       <use x=\"63.623047\" xlink:href=\"#DejaVuSans-48\"/>\r\n       <use x=\"127.246094\" xlink:href=\"#DejaVuSans-56\"/>\r\n      </g>\r\n     </g>\r\n    </g>\r\n    <g id=\"ytick_610\">\r\n     <g id=\"line2d_619\">\r\n      <g>\r\n       <use style=\"stroke:#000000;stroke-width:0.8;\" x=\"33.2875\" xlink:href=\"#m086e67bf75\" y=\"14.506316\"/>\r\n      </g>\r\n     </g>\r\n     <g id=\"text_619\">\r\n      <!-- 609 -->\r\n      <g transform=\"translate(7.2 18.305534)scale(0.1 -0.1)\">\r\n       <use xlink:href=\"#DejaVuSans-54\"/>\r\n       <use x=\"63.623047\" xlink:href=\"#DejaVuSans-48\"/>\r\n       <use x=\"127.246094\" xlink:href=\"#DejaVuSans-57\"/>\r\n      </g>\r\n     </g>\r\n    </g>\r\n    <g id=\"ytick_611\">\r\n     <g id=\"line2d_620\">\r\n      <g>\r\n       <use style=\"stroke:#000000;stroke-width:0.8;\" x=\"33.2875\" xlink:href=\"#m086e67bf75\" y=\"14.155606\"/>\r\n      </g>\r\n     </g>\r\n     <g id=\"text_620\">\r\n      <!-- 610 -->\r\n      <g transform=\"translate(7.2 17.954825)scale(0.1 -0.1)\">\r\n       <use xlink:href=\"#DejaVuSans-54\"/>\r\n       <use x=\"63.623047\" xlink:href=\"#DejaVuSans-49\"/>\r\n       <use x=\"127.246094\" xlink:href=\"#DejaVuSans-48\"/>\r\n      </g>\r\n     </g>\r\n    </g>\r\n    <g id=\"ytick_612\">\r\n     <g id=\"line2d_621\">\r\n      <g>\r\n       <use style=\"stroke:#000000;stroke-width:0.8;\" x=\"33.2875\" xlink:href=\"#m086e67bf75\" y=\"13.804896\"/>\r\n      </g>\r\n     </g>\r\n     <g id=\"text_621\">\r\n      <!-- 611 -->\r\n      <g transform=\"translate(7.2 17.604115)scale(0.1 -0.1)\">\r\n       <use xlink:href=\"#DejaVuSans-54\"/>\r\n       <use x=\"63.623047\" xlink:href=\"#DejaVuSans-49\"/>\r\n       <use x=\"127.246094\" xlink:href=\"#DejaVuSans-49\"/>\r\n      </g>\r\n     </g>\r\n    </g>\r\n    <g id=\"ytick_613\">\r\n     <g id=\"line2d_622\">\r\n      <g>\r\n       <use style=\"stroke:#000000;stroke-width:0.8;\" x=\"33.2875\" xlink:href=\"#m086e67bf75\" y=\"13.454186\"/>\r\n      </g>\r\n     </g>\r\n     <g id=\"text_622\">\r\n      <!-- 612 -->\r\n      <g transform=\"translate(7.2 17.253405)scale(0.1 -0.1)\">\r\n       <use xlink:href=\"#DejaVuSans-54\"/>\r\n       <use x=\"63.623047\" xlink:href=\"#DejaVuSans-49\"/>\r\n       <use x=\"127.246094\" xlink:href=\"#DejaVuSans-50\"/>\r\n      </g>\r\n     </g>\r\n    </g>\r\n    <g id=\"ytick_614\">\r\n     <g id=\"line2d_623\">\r\n      <g>\r\n       <use style=\"stroke:#000000;stroke-width:0.8;\" x=\"33.2875\" xlink:href=\"#m086e67bf75\" y=\"13.103477\"/>\r\n      </g>\r\n     </g>\r\n     <g id=\"text_623\">\r\n      <!-- 613 -->\r\n      <g transform=\"translate(7.2 16.902696)scale(0.1 -0.1)\">\r\n       <use xlink:href=\"#DejaVuSans-54\"/>\r\n       <use x=\"63.623047\" xlink:href=\"#DejaVuSans-49\"/>\r\n       <use x=\"127.246094\" xlink:href=\"#DejaVuSans-51\"/>\r\n      </g>\r\n     </g>\r\n    </g>\r\n    <g id=\"ytick_615\">\r\n     <g id=\"line2d_624\">\r\n      <g>\r\n       <use style=\"stroke:#000000;stroke-width:0.8;\" x=\"33.2875\" xlink:href=\"#m086e67bf75\" y=\"12.752767\"/>\r\n      </g>\r\n     </g>\r\n     <g id=\"text_624\">\r\n      <!-- 614 -->\r\n      <g transform=\"translate(7.2 16.551986)scale(0.1 -0.1)\">\r\n       <use xlink:href=\"#DejaVuSans-54\"/>\r\n       <use x=\"63.623047\" xlink:href=\"#DejaVuSans-49\"/>\r\n       <use x=\"127.246094\" xlink:href=\"#DejaVuSans-52\"/>\r\n      </g>\r\n     </g>\r\n    </g>\r\n    <g id=\"ytick_616\">\r\n     <g id=\"line2d_625\">\r\n      <g>\r\n       <use style=\"stroke:#000000;stroke-width:0.8;\" x=\"33.2875\" xlink:href=\"#m086e67bf75\" y=\"12.402057\"/>\r\n      </g>\r\n     </g>\r\n     <g id=\"text_625\">\r\n      <!-- 615 -->\r\n      <g transform=\"translate(7.2 16.201276)scale(0.1 -0.1)\">\r\n       <use xlink:href=\"#DejaVuSans-54\"/>\r\n       <use x=\"63.623047\" xlink:href=\"#DejaVuSans-49\"/>\r\n       <use x=\"127.246094\" xlink:href=\"#DejaVuSans-53\"/>\r\n      </g>\r\n     </g>\r\n    </g>\r\n    <g id=\"ytick_617\">\r\n     <g id=\"line2d_626\">\r\n      <g>\r\n       <use style=\"stroke:#000000;stroke-width:0.8;\" x=\"33.2875\" xlink:href=\"#m086e67bf75\" y=\"12.051348\"/>\r\n      </g>\r\n     </g>\r\n     <g id=\"text_626\">\r\n      <!-- 616 -->\r\n      <g transform=\"translate(7.2 15.850567)scale(0.1 -0.1)\">\r\n       <use xlink:href=\"#DejaVuSans-54\"/>\r\n       <use x=\"63.623047\" xlink:href=\"#DejaVuSans-49\"/>\r\n       <use x=\"127.246094\" xlink:href=\"#DejaVuSans-54\"/>\r\n      </g>\r\n     </g>\r\n    </g>\r\n    <g id=\"ytick_618\">\r\n     <g id=\"line2d_627\">\r\n      <g>\r\n       <use style=\"stroke:#000000;stroke-width:0.8;\" x=\"33.2875\" xlink:href=\"#m086e67bf75\" y=\"11.700638\"/>\r\n      </g>\r\n     </g>\r\n     <g id=\"text_627\">\r\n      <!-- 617 -->\r\n      <g transform=\"translate(7.2 15.499857)scale(0.1 -0.1)\">\r\n       <use xlink:href=\"#DejaVuSans-54\"/>\r\n       <use x=\"63.623047\" xlink:href=\"#DejaVuSans-49\"/>\r\n       <use x=\"127.246094\" xlink:href=\"#DejaVuSans-55\"/>\r\n      </g>\r\n     </g>\r\n    </g>\r\n    <g id=\"ytick_619\">\r\n     <g id=\"line2d_628\">\r\n      <g>\r\n       <use style=\"stroke:#000000;stroke-width:0.8;\" x=\"33.2875\" xlink:href=\"#m086e67bf75\" y=\"11.349928\"/>\r\n      </g>\r\n     </g>\r\n     <g id=\"text_628\">\r\n      <!-- 618 -->\r\n      <g transform=\"translate(7.2 15.149147)scale(0.1 -0.1)\">\r\n       <use xlink:href=\"#DejaVuSans-54\"/>\r\n       <use x=\"63.623047\" xlink:href=\"#DejaVuSans-49\"/>\r\n       <use x=\"127.246094\" xlink:href=\"#DejaVuSans-56\"/>\r\n      </g>\r\n     </g>\r\n    </g>\r\n    <g id=\"ytick_620\">\r\n     <g id=\"line2d_629\">\r\n      <g>\r\n       <use style=\"stroke:#000000;stroke-width:0.8;\" x=\"33.2875\" xlink:href=\"#m086e67bf75\" y=\"10.999219\"/>\r\n      </g>\r\n     </g>\r\n     <g id=\"text_629\">\r\n      <!-- 619 -->\r\n      <g transform=\"translate(7.2 14.798438)scale(0.1 -0.1)\">\r\n       <use xlink:href=\"#DejaVuSans-54\"/>\r\n       <use x=\"63.623047\" xlink:href=\"#DejaVuSans-49\"/>\r\n       <use x=\"127.246094\" xlink:href=\"#DejaVuSans-57\"/>\r\n      </g>\r\n     </g>\r\n    </g>\r\n   </g>\r\n   <g id=\"patch_623\">\r\n    <path d=\"M 33.2875 228.263864 \r\nL 33.2875 10.823864 \r\n\" style=\"fill:none;stroke:#000000;stroke-linecap:square;stroke-linejoin:miter;stroke-width:0.8;\"/>\r\n   </g>\r\n   <g id=\"patch_624\">\r\n    <path d=\"M 368.0875 228.263864 \r\nL 368.0875 10.823864 \r\n\" style=\"fill:none;stroke:#000000;stroke-linecap:square;stroke-linejoin:miter;stroke-width:0.8;\"/>\r\n   </g>\r\n   <g id=\"patch_625\">\r\n    <path d=\"M 33.2875 228.263864 \r\nL 368.0875 228.263864 \r\n\" style=\"fill:none;stroke:#000000;stroke-linecap:square;stroke-linejoin:miter;stroke-width:0.8;\"/>\r\n   </g>\r\n   <g id=\"patch_626\">\r\n    <path d=\"M 33.2875 10.823864 \r\nL 368.0875 10.823864 \r\n\" style=\"fill:none;stroke:#000000;stroke-linecap:square;stroke-linejoin:miter;stroke-width:0.8;\"/>\r\n   </g>\r\n  </g>\r\n </g>\r\n <defs>\r\n  <clipPath id=\"pb9532bb2fe\">\r\n   <rect height=\"217.44\" width=\"334.8\" x=\"33.2875\" y=\"10.823864\"/>\r\n  </clipPath>\r\n </defs>\r\n</svg>\r\n",
      "image/png": "[encoded data removed]"
     },
     "metadata": {
      "needs_background": "light"
     }
    }
   ],
   "source": [
    "number_bikes = []\n",
    "for i in range(len(d.data['stations'])):\n",
    "    number_bikes.append(d.data['stations'][i]['num_bikes_available'])\n",
    "\n",
    "pd.Series(no_bikes)[0:len(d.data['stations'])-1].plot(kind='barh')"
   ]
  },
  {
   "cell_type": "code",
   "execution_count": 152,
   "metadata": {},
   "outputs": [
    {
     "output_type": "execute_result",
     "data": {
      "text/plain": [
       "{'short_name': '31000',\n",
       " 'rental_uris': {'ios': 'https://dc.lft.to/lastmile_qr_scan',\n",
       "  'android': 'https://dc.lft.to/lastmile_qr_scan'},\n",
       " 'capacity': 15,\n",
       " 'external_id': '082469cc-1f3f-11e7-bf6b-3863bb334450',\n",
       " 'eightd_station_services': [],\n",
       " 'electric_bike_surcharge_waiver': False,\n",
       " 'name': 'Eads St & 15th St S',\n",
       " 'lat': 38.858971,\n",
       " 'station_id': '1',\n",
       " 'eightd_has_key_dispenser': False,\n",
       " 'lon': -77.05323,\n",
       " 'has_kiosk': True,\n",
       " 'region_id': '41',\n",
       " 'rental_methods': ['KEY', 'CREDITCARD'],\n",
       " 'legacy_id': '1',\n",
       " 'station_type': 'classic'}"
      ]
     },
     "metadata": {},
     "execution_count": 152
    }
   ],
   "source": [
    "d_station_information.data[0][0]"
   ]
  },
  {
   "cell_type": "code",
   "execution_count": 153,
   "metadata": {
    "tags": []
   },
   "outputs": [],
   "source": [
    "# Getting the real station names and lat/lon for empty bike stands from https://gbfs.capitalbikeshare.com/gbfs/en/station_information.json\n",
    "\n",
    "bike_empty_stat_name = []\n",
    "e_bike_empty_stat_name = []\n",
    "eb_lat = []\n",
    "eb_lon = []\n",
    "e_eb_lat = []\n",
    "e_eb_lon = []\n",
    "\n",
    "for i in range(len(d_station_information.data[0])):\n",
    "    for j in bike_empty_stat_id:\n",
    "        j = int(j)\n",
    "        if j == int(d_station_information.data[0][i]['station_id']):\n",
    "            bike_empty_stat_name.append(d_station_information.data[0][i]['name'])\n",
    "            eb_lat.append(d_station_information.data[0][i]['lat'])\n",
    "            eb_lon.append(d_station_information.data[0][i]['lon'])\n",
    "\n",
    "for i in range(len(d_station_information.data[0])):\n",
    "    for k in e_bike_empty_stat_id:\n",
    "        k = int(k)\n",
    "        if k == int(d_station_information.data[0][i]['station_id']):\n",
    "            e_bike_empty_stat_name.append(d_station_information.data[0][i]['name'])\n",
    "            e_eb_lat.append(d_station_information.data[0][i]['lat'])\n",
    "            e_eb_lon.append(d_station_information.data[0][i]['lon'])\n",
    "\n",
    "bike_empty_stat = pd.DataFrame(bike_empty_stat_name)\n",
    "bike_empty_stat_id = pd.DataFrame(bike_empty_stat_id)\n",
    "eb_lat = pd.DataFrame(eb_lat)\n",
    "eb_lon = pd.DataFrame(eb_lon)\n",
    "bike_empty_stat['station_id'] = bike_empty_stat_id\n",
    "bike_empty_stat['lat'] = eb_lat\n",
    "bike_empty_stat['lon'] = eb_lon\n",
    "bike_empty_stat.columns = ['street', 'station_id', 'lat', 'lon']\n",
    "\n",
    "e_bike_empty_stat = pd.DataFrame(e_bike_empty_stat_name)\n",
    "e_bike_empty_stat_id = pd.DataFrame(e_bike_empty_stat_id)\n",
    "e_eb_lat = pd.DataFrame(e_eb_lat)\n",
    "e_eb_lon = pd.DataFrame(e_eb_lon)\n",
    "e_bike_empty_stat['station_id'] = e_bike_empty_stat_id\n",
    "e_bike_empty_stat['lat'] = e_eb_lat\n",
    "e_bike_empty_stat['lon'] = e_eb_lon\n",
    "e_bike_empty_stat.columns = ['street', 'station_id', 'lat', 'lon']\n",
    "\n",
    "# print('Stations names without bikes: ', bike_empty_stat_name)\n",
    "# print('Stations names without e-bikes: ', e_bike_empty_stat_name)"
   ]
  },
  {
   "cell_type": "code",
   "execution_count": 154,
   "metadata": {},
   "outputs": [
    {
     "output_type": "execute_result",
     "data": {
      "text/plain": [
       "{'short_name': '31002',\n",
       " 'rental_uris': {'ios': 'https://dc.lft.to/lastmile_qr_scan',\n",
       "  'android': 'https://dc.lft.to/lastmile_qr_scan'},\n",
       " 'capacity': 17,\n",
       " 'external_id': '08246c35-1f3f-11e7-bf6b-3863bb334450',\n",
       " 'eightd_station_services': [],\n",
       " 'electric_bike_surcharge_waiver': False,\n",
       " 'name': 'Crystal Dr & 20th St S',\n",
       " 'lat': 38.856425,\n",
       " 'station_id': '3',\n",
       " 'eightd_has_key_dispenser': False,\n",
       " 'lon': -77.049232,\n",
       " 'has_kiosk': True,\n",
       " 'region_id': '41',\n",
       " 'rental_methods': ['KEY', 'CREDITCARD'],\n",
       " 'legacy_id': '3',\n",
       " 'station_type': 'classic'}"
      ]
     },
     "metadata": {},
     "execution_count": 154
    }
   ],
   "source": [
    "d_station_information.data[0][2]"
   ]
  },
  {
   "cell_type": "code",
   "execution_count": 155,
   "metadata": {},
   "outputs": [
    {
     "output_type": "execute_result",
     "data": {
      "text/plain": [
       "38.848466"
      ]
     },
     "metadata": {},
     "execution_count": 155
    }
   ],
   "source": [
    "d_station_information.data[0][8]['lat']"
   ]
  },
  {
   "cell_type": "code",
   "execution_count": 156,
   "metadata": {},
   "outputs": [],
   "source": [
    "# Building map for all bike stations\n",
    "\n",
    "all_stations = []\n",
    "station_id = []\n",
    "lat = []\n",
    "lon = []\n",
    "\n",
    "for i in range(len(d_station_information.data[0])):\n",
    "    all_stations.append(d_station_information.data[0][i]['name'])\n",
    "    station_id.append(d_station_information.data[0][i]['station_id'])\n",
    "    lat.append(d_station_information.data[0][i]['lat'])\n",
    "    lon.append(d_station_information.data[0][i]['lon'])\n",
    "\n",
    "all_stations = pd.DataFrame(all_stations)\n",
    "station_id = pd.DataFrame(station_id)\n",
    "lat = pd.DataFrame(lat)\n",
    "lon = pd.DataFrame(lon)\n",
    "all_stations['station_id'] = station_id\n",
    "all_stations['lat'] = lat\n",
    "all_stations['lon'] = lon\n",
    "all_stations.columns = ['street', 'station_id', 'lat', 'lon']"
   ]
  },
  {
   "cell_type": "code",
   "execution_count": null,
   "metadata": {},
   "outputs": [],
   "source": []
  },
  {
   "cell_type": "code",
   "execution_count": 157,
   "metadata": {},
   "outputs": [
    {
     "output_type": "display_data",
     "data": {
      "application/vnd.plotly.v1+json": {
       "config": {
        "plotlyServerURL": "https://plot.ly"
       },
       "data": [
        {
         "hovertemplate": "<b>%{hovertext}</b><br><br>lat=%{lat}<br>lon=%{lon}<extra></extra>",
         "hovertext": [
          "Eads St & 15th St S",
          "18th St & S Eads St",
          "Crystal Dr & 20th St S",
          "Crystal Dr & 15th St S",
          "Aurora Hills Cmty Ctr / 18th St & S Hayes St",
          "Pentagon City Metro / 12th St & S Hayes St",
          "Army Navy Dr & S Joyce St",
          "Crystal City Metro / 18th St & S Bell St",
          "Crystal Dr & 27th St S",
          "S Glebe Rd & Potomac Ave",
          "Crystal Dr & 23rd St S",
          "Clark St & 26th St S",
          "19th St & Pennsylvania Ave NW",
          "14th & V St NW",
          "11th & Kenyon St NW",
          "16th & Harvard St NW",
          "Adams Mill & Columbia Rd NW",
          "14th & Harvard St NW",
          "Calvert & Biltmore St NW",
          "Lamont & Mt Pleasant NW",
          "4th & M St SW",
          "15th & P St NW",
          "14th & R St NW",
          "14th & Rhode Island Ave NW",
          "20th & E St NW",
          "21st & I St NW",
          "Georgia & New Hampshire Ave NW",
          "14th St & Spring Rd NW",
          "John McCormack Dr & Michigan Ave NE",
          "5th & K St NW",
          "19th & East Capitol St SE",
          "Park Rd & Holmead Pl NW",
          "Good Hope & Naylor Rd SE",
          "Connecticut Ave & Newark St NW / Cleveland Park",
          "Randle Circle & Minnesota Ave SE",
          "Minnesota Ave Metro/DOES",
          "Nannie Helen Burroughs & Minnesota Ave NE",
          "Anacostia Metro",
          "Good Hope Rd & MLK Ave SE",
          "19th & E Street NW",
          "4th & W St NE",
          "10th & U St NW",
          "Georgia Ave and Fairmont St NW",
          "1st & N St  SE",
          "20th St & Florida Ave NW",
          "7th & T St NW",
          "Eads St & 22nd St S",
          "M St & New Jersey Ave SE",
          "Massachusetts Ave & Dupont Circle NW",
          "1st & M St NE",
          "New Hampshire Ave & Ward Pl NW",
          "17th & K St NW",
          "3rd & H St NW",
          "3rd & D St SE",
          "Potomac & Pennsylvania Ave SE",
          "13th & E St SE",
          "17th & Corcoran St NW",
          "Van Ness Metro / UDC",
          "Florida Ave & R St NW",
          "8th & Eye St SE / Barracks Row",
          "Ward Circle / American University",
          "Wisconsin Ave & Newark St NW",
          "14th St Heights / 14th & Crittenden St NW",
          "Anacostia Library",
          "Pennsylvania & Minnesota Ave SE",
          "Eastern Market / 7th & North Carolina Ave SE",
          "14th St & New York Ave NW",
          "Benning Branch Library",
          "USDA / 12th & C St SW",
          "Georgetown Harbor / 30th St NW",
          "12th & Newton St NE",
          "US Dept of State / Virginia Ave & 21st St NW",
          "L'Enfant Plaza / 7th & C St SW",
          "10th St & Constitution Ave NW",
          "Kennedy Center",
          "Eastern Market Metro / Pennsylvania Ave & 8th St SE",
          "18th & M St NW",
          "Tenleytown / Wisconsin Ave & Albemarle St NW",
          "13th & H St NE",
          "5th & F St NW",
          "New York Ave & 15th St NW",
          "Convention Center / 7th & M St NW",
          "Harvard St & Adams Mill Rd NW",
          "18th & L St NW",
          "C & O Canal & Wisconsin Ave NW",
          "Maine Ave & 7th St SW",
          "D St & Maryland Ave NE",
          "34th St & Wisconsin Ave NW",
          "13th St & New York Ave NW",
          "8th & H St NW",
          "10th & Monroe St NE",
          "Eckington Pl & Q St NE",
          "6th & H St NE",
          "3rd & H St NE",
          "Bladensburg Rd & Benning Rd NE",
          "4th & East Capitol St NE",
          "Lincoln Park / 13th & East Capitol St NE ",
          "Branch & Pennsylvania Ave SE",
          "13th & D St NE",
          "New Hampshire Ave & T St NW",
          "Metro Center / 12th & G St NW",
          "14th & D St NW / Ronald Reagan Building",
          "7th & F St NW / National Portrait Gallery",
          "17th & K St NW / Farragut Square",
          "20th & O St NW / Dupont South",
          "4th & D St NW / Judiciary Square",
          "19th St & Constitution Ave NW",
          "37th & O St NW / Georgetown University",
          "11th & H St NE",
          "25th St & Pennsylvania Ave NW",
          "Columbus Circle / Union Station",
          "North Capitol St & F St NW",
          "11th & M St NW",
          "36th & Calvert St NW / Glover Park",
          "14th & G St NW",
          "Potomac Ave & 35th St S",
          "Ohio Dr & West Basin Dr SW / MLK & FDR Memorials",
          "11th & F St NW",
          "23rd & E St NW ",
          "Lynn St & 19th St North",
          "Rosslyn Metro / Wilson Blvd & Ft Myer Dr",
          "Clarendon Blvd & Pierce St",
          "Wilson Blvd & N Uhle St",
          "Rhodes St & 16th St N",
          "Fairfax Village",
          "21st St & Constitution Ave NW",
          "Wilson Blvd & N Edgewood St",
          "Columbia Rd & Belmont St NW",
          "Rhode Island & Connecticut Ave NW",
          "Thomas Circle",
          "Wilson Blvd & N Franklin Rd",
          "Clarendon Blvd & N Fillmore St",
          "Clarendon Metro / Wilson Blvd & N Highland St",
          "18th St & Pennsylvania Ave NW",
          "4th & C St SW",
          "4th & E St SW",
          "3rd & G St SE",
          "7th & R St NW / Shaw Library",
          "9th & Upshur St NW",
          "1st & Rhode Island Ave NW",
          "Columbia Rd & Georgia Ave NW",
          "California St & Florida Ave NW",
          "Benning Rd & East Capitol St NE / Benning Rd Metro",
          "3000 Connecticut Ave NW / National Zoo",
          "Anacostia Ave & Benning Rd NE / River Terrace ",
          "M St & Pennsylvania Ave NW",
          "15th St & Massachusetts Ave SE",
          "Congress Heights Metro",
          "N Quincy St & Glebe Rd",
          "Barcroft Community Center",
          "N Veitch St & 20th St N",
          "10th & K St NW",
          "Fairfax Dr & Wilson Blvd",
          "Key Blvd & N Quinn St",
          "1st & K St SE",
          "39th & Calvert St NW / Stoddert",
          "1st & Washington Hospital Center NW",
          "Virginia Square Metro / Monroe St & 9th St N",
          "Central Library / Quincy St & 10th St N",
          "Washington Blvd & 10th St N",
          "Jefferson Dr & 14th St SW",
          "Smithsonian-National Mall / Jefferson Dr & 12th St SW",
          "George Mason Dr & Wilson Blvd",
          "6th St & Indiana Ave NW",
          "N Veitch St & Key Blvd",
          "Lee Hwy & N Adams St",
          "15th St & N Scott St",
          "Washington Blvd & 7th St N",
          "Ballston Metro / Stuart St & 9th St N",
          "Fairfax Dr & N Randolph St",
          "Jefferson Memorial",
          "Good Hope Rd & 14th St SE",
          "Glebe Rd & 11th St N",
          "Wilson Blvd & N Quincy St",
          "GMU / Fairfax Dr & Kenmore St",
          "Gallaudet / 8th St & Florida Ave NE",
          "20th & L St NW",
          "12th & L St NW",
          "21st St & Pennsylvania Ave NW",
          "19th & K St NW",
          "Prince St & Union St",
          "Market Square / King St & Royal St",
          "St Asaph & Pendleton St",
          "King St & Patrick St",
          "15th & K St NW",
          "Commerce St & Fayette St",
          "Henry St & Pendleton St",
          "Braddock Rd Metro",
          "King St Metro South",
          "24th & N St NW",
          "10th & E St NW",
          "22nd & I St NW / Foggy Bottom",
          "Utah St & 11th St N",
          "Barton St & 10th St N",
          "Arlington Blvd & N Queen St",
          "Lincoln Memorial",
          "20th St & Virginia Ave NW",
          "5th St & Massachusetts Ave NW",
          "39th & Veazey St NW",
          "Fessenden St & Wisconsin Ave NW",
          "3rd & M St NE",
          "Columbia Pike & S Courthouse Rd",
          "Wakefield High School",
          "28th St & S Meade St",
          "18th St & Wyoming Ave NW",
          "5th & Kennedy St NW",
          "Georgia Ave & Emerson St NW",
          "14th & Upshur St NW",
          "14th St & Colorado Ave NW",
          "Troy St & 26th St S",
          "Four Mile Run Dr & S Shirlington Rd",
          "Columbia Pike & S Oakland St",
          "Four Mile Run Dr & S Walter Reed Dr",
          "S Arlington Mill Dr & Campbell Ave",
          "Kenmore St & 24th St S",
          "13th St & Eastern Ave",
          "Wisconsin Ave & O St NW",
          "Roosevelt Island",
          "Connecticut & Nebraska Ave NW",
          "17th St & Massachusetts Ave NW",
          "15th & Euclid St  NW",
          "8th & East Capitol St NE",
          "New Jersey Ave & R St NW",
          "15th & East Capitol St NE",
          "8th & F St NE",
          "18th St & Rhode Island Ave NE",
          "15th & F St NE",
          "12th & Irving St NE",
          "Alabama & MLK Ave SE",
          "Pleasant St & MLK Ave SE",
          "Neal St & Trinidad Ave NE",
          "12th & U St NW",
          "S George Mason & Four Mile Run Dr",
          "Gravelly Point",
          "Pershing Dr & Wayne St",
          "Columbia Pike & S Orme St",
          "3rd St & Pennsylvania Ave SE",
          "8th & D St NW",
          "3rd & Elm St NW",
          "Rhode Island Ave & V St NE",
          "Constitution Ave & 2nd St NW/DOL",
          "Washington & Independence Ave SW/HHS",
          "Independence Ave & L'Enfant Plaza SW/DOE",
          "Hamlin & 7th St NE",
          "Columbia Pike & S Walter Reed Dr",
          "Arlington Mill Cmty Center / Columbia Pike & S Dinwiddie St",
          "Pershing Dr & N George Mason Dr",
          "Fenton St & New York Ave ",
          "Bethesda Ave & Arlington Rd",
          "Montgomery Ave & Waverly St ",
          "Fallsgrove Blvd & Fallsgrove Dr",
          "Traville Gateway Dr & Gudelsky Dr",
          "Norfolk Ave & Fairmont St",
          "E Montgomery Ave & Maryland Ave",
          "Cordell & Norfolk Ave",
          "Frederick Ave & Horners Ln",
          "Philadelphia & Maple Ave",
          "Maple & Ritchie Ave",
          "Silver Spring Metro / Colesville Rd & Wayne Ave",
          "Montgomery & East Ln",
          "Friendship Hts Metro / Wisconsin Ave & Wisconsin Cir",
          "14th & Belmont St NW",
          "3rd & Tingey St SE",
          "10th & Florida Ave NW",
          "Potomac Ave & 8th St SE",
          "Fallsgrove Dr & W Montgomery Ave",
          "Monroe St & Monroe Pl",
          "Needwood Rd & Eagles Head Ct",
          "East West Hwy & Blair Mill Rd",
          "47th & Elm St",
          "Dennis Ave & Amherst Ave",
          "Montgomery College / W Campus Dr & Mannakee St",
          "Fenton St & Gist Ave",
          "Carroll & Westmoreland Ave",
          "Carroll & Ethan Allen Ave",
          "Battery Ln & Trolley Trail",
          "Norfolk & Rugby Ave",
          "Offutt Ln & Chevy Chase Dr",
          "Fleet St & Ritchie Pkwy",
          "Piccard & W Gude Dr",
          "Silver Spring Transit Center - Top Level",
          "Georgia Ave & Spring St",
          "Fenton St & Ellsworth Dr ",
          "King Farm Blvd & Pleasant Dr",
          "King Farm Blvd & Piccard Dr",
          "Calvert St & Woodley Pl NW",
          "New Jersey Ave & N St NW/Dunbar HS",
          "Nannie Helen Burroughs Ave & 49th St NE",
          "Deanwood Rec Center",
          "Hains Point/Buckeye & Ohio Dr SW",
          "Arlington Blvd & Fillmore St",
          "Eads St & 12th St S",
          "Old Georgetown Rd & Southwick St",
          "Friendship Blvd & Willard Ave",
          "North Capitol St & G Pl NE",
          "31st St & S Woodrow St",
          "Washington Blvd & Walter Reed Dr ",
          "TJ Cmty Ctr / 2nd St & S Old Glebe Rd",
          "Connecticut Ave & Tilden St NW",
          "Medical Center Dr & Key West Ave",
          "Shady Grove Hospital",
          "Veterans Pl & Pershing Dr ",
          "Rockville Metro East",
          "1st & H St NW",
          "Fort Totten Metro",
          "Takoma Metro",
          "Rhode Island Ave Metro",
          "Rolfe St & 9th St S",
          "Shirlington Transit Center / Quincy St & Randolph St",
          "Shady Grove Metro West",
          "River Rd & Landy Ln",
          "Rockville Metro West",
          "Bethesda Metro / Wisconsin Ave & Old Georgetown Rd",
          "Iwo Jima Memorial / Meade & 14th St N",
          "34th & Water St NW",
          "Duke St & John Carlyle St",
          "Lee Hwy & N Cleveland St",
          "Arlington Blvd & S George Mason Dr",
          "10th & G St NW",
          "Lee Hwy & N Scott St",
          "New Hampshire Ave & 24th St NW",
          "Eisenhower Ave & Mill Race Ln",
          "Potomac Greens Dr & Slaters Ln",
          "Ballenger Ave & Dulaney St",
          "Mount Vernon Ave & E Nelson Ave",
          "Mount Vernon Ave & E Del Ray Ave",
          "Monroe Ave & Leslie Ave",
          "Mount Vernon Ave & Kennedy St",
          "Court House Metro / 15th St & N Uhle St",
          "WAU / Flower Ave & Division St",
          "Long Bridge Park / Long Bridge Dr & 6th St S",
          "Connecticut Ave & McKinley St NW",
          "15th & L St NW",
          "17th & G St NW",
          "Spring St & 2nd Ave",
          "18th & R St NW",
          "Joyce St & 16th St S",
          "Union Market",
          "Lee Hwy & N Monroe St",
          "21st St & N Pierce St",
          "Lee Hwy & N Kirkwood Rd",
          "19th & G St NW",
          "2nd St & Seaton Pl NE",
          "Wilson Blvd & N Illinois St ",
          "Army Navy Dr & S Nash St",
          "31st & Water St NW",
          "11th & S St NW",
          "Walter Reed Dr & 8th St S",
          "2nd & G St NE",
          "8th & O St NW",
          "Georgia & Missouri Ave NW",
          "Oklahoma Ave & D St NE",
          "Maryland Ave & E St NE",
          "New York Ave & Hecht Ave NE",
          "Yuma St & Tenley Circle NW",
          "Connecticut Ave & Chevy Chase Lake Dr",
          "Key West Ave & Siesta Key Way",
          "Lee Hwy & N Woodstock St",
          "Saint Asaph St & Madison St",
          "King St Metro North / Cameron St",
          "Madison St & N Henry St",
          "Medical Center Metro ",
          "Washington Blvd & N Frederick St",
          "Wisconsin Ave & Ingomar St NW",
          "16th & Irving St NW",
          "16th & R St NW",
          "Lyttonsville Rd & Lyttonsville Pl",
          "Woodmont Ave & Strathmore St",
          "14th & L St NW",
          "1st & O St NW",
          "South Capitol & Atlantic St SW",
          "18th & C St NW",
          "22nd & P ST NW",
          "East West Hwy & 16th St",
          "Royal St & Wilkes St",
          "14th & Girard St NW",
          "Potomac Ave & Main Line Blvd",
          "11th & O St NW",
          "10th St & L'Enfant Plaza SW",
          "Connecticut Ave & Yuma St NW",
          "2nd St & Massachusetts Ave NE",
          "Radford St & Osage St",
          "East Falls Church Metro / Sycamore St & 19th St N",
          "Kennebec St & 11th St N",
          "Commonwealth Ave & Oak St",
          "Commonwealth Ave & E Monroe Ave",
          "4th St & Madison Dr NW",
          "Henry Bacon Dr & Lincoln Memorial Circle NW",
          "17th St & Independence Ave SW",
          "Franklin St & S Washington St",
          "Mount Vernon Ave & Four Mile Run Park",
          "4th St & K St NW",
          "Mount Vernon Ave & Bruce St",
          "Lee Center",
          "Powhatan St & Bashford Ln",
          "Potomac Ave & Swann Ave",
          "14th & Irving St NW",
          "Vermont Ave & I St NW",
          "Wisconsin Ave & Brandywine St NW",
          "24th & R St NE / National Arboretum",
          "Division Ave & Foote St NE",
          "16th & Q St SE / Anacostia HS",
          "Spring Hill Metro",
          "Westpark Dr & Leesburg Pike",
          "Tysons One Pl & Chain Bridge Rd",
          "Tysons Corner Station",
          "Westpark & Jones Branch Dr",
          "Jones Branch & Westbranch Dr",
          "Westpark & Park Run Dr",
          "Tysons West Transit Center",
          "North Shore & Cameron Crescent Dr/Crescent Apartments",
          "Town Center Pkwy & Bowman Towne Dr",
          "Reston Regional Library",
          "New Dominion Pkwy & Fountain Dr",
          "Sunset Hills & Old Reston Ave",
          "Reston Town Center Transit Station",
          "1st & D St SE",
          "Wiehle Ave & Reston Station Blvd",
          "Library St & Freedom Dr",
          "Sunset Hills Rd & Discovery Square",
          "22nd St & Constitution Ave NW",
          "61st St & Banks Pl NE",
          "Temporary Rd & Old Reston Ave",
          "Reston YMCA",
          "Sunset Hills Rd & Isaac Newton Square",
          "N Lynn St & Fairfax Dr",
          "Georgia Ave & Piney Branch Rd NW",
          "Greensboro & International Dr",
          "Madison St & Fairfax St",
          "Sligo Ave & Carroll Ln",
          "15th & W St NW",
          "12th St & Pennsylvania Ave SE",
          "3rd St & Riggs Rd NE",
          "Carlin Springs Rd & N Thomas St",
          "Towers Crescent Dr & Tysons One Pl",
          "6th & K St NE",
          "Pooks Hill Rd & Linden Ave",
          "Takoma Park Rec Center",
          "New Hampshire & Kirklynn Ave",
          "Wheaton Metro / Georgia Ave & Reedie Dr",
          "Amherst Ave & Elkins St",
          "Amherst Ave & Prichard Rd",
          "Grandview & Blueridge Ave",
          "Windham Ln & Amherst Ave",
          "North Shore Dr & Village Rd",
          "Town Center Pkwy & Sunset Hills Rd",
          "3rd & Underwood St NW",
          "18th & Monroe St NE",
          "7th & E St SW",
          "Shady Grove Metro East",
          "Potomac & M St NW",
          "Columbia & Ontario Rd NW",
          "Washington-Liberty High School / N Stafford St & Generals Way",
          "Westover Library / Washington Blvd & N McKinley Rd",
          "Columbia Pike & S Taylor St",
          "Columbus Ave & Gramercy Blvd",
          "Reston Pkwy & Spectrum Dr",
          "Key West Ave & Great Seneca Hwy",
          "Virginia Ave & 25th St NW",
          "15th & M St NW",
          "11th & Girard St NW",
          "Connecticut Ave & R St NW",
          "Wilson Blvd & N Troy St",
          "American University East Campus",
          "15th St & Constitution Ave NW",
          "23rd & M St NW",
          "Corporate Blvd & Omega Dr",
          "Key West Ave & Diamondback Dr",
          "Alabama Ave & Stanton Rd SE / Shops at Park Village",
          "Mississippi Ave & 19th St SE / THEARC",
          "19th & Savannah St SE",
          "4th St & Mississippi Ave SE",
          "1st & S Capitol St SE / Oxon Run Trail",
          "Livingston Rd & 3rd St SE",
          "Joliet St & MLK Ave SW/Bald Eagle Rec Ctr",
          "37th & Ely Pl SE",
          "15th St & Pennsylvania Ave NW",
          "Maine Ave & 9th St SW",
          "Lincoln Rd & Seaton Pl NE/Harry Thomas Rec Center",
          "Blueridge Ave & Elkin St",
          "Georgia Ave & Kennedy St NW",
          "7th St & Massachusetts Ave NE",
          "Anacostia Park",
          "Twinbrook Metro",
          "White Flint Metro",
          "Citadel Ave & McGrath Blvd",
          "Rockville Pike & Old Georgetown Rd",
          "Woodglen Dr & Executive Blvd",
          "Executive Blvd & E Jefferson St",
          "Fishers Ln & Rock Creek Mill Rd",
          "Congressional Ln & E Jefferson St",
          "Garland Ave & Walden Rd",
          "Greensboro & Pinnacle Dr",
          "1301 McCormick Dr / Wayne K. Curry Admin Bldg",
          "Largo Town Center Metro",
          "Baltimore Ave & Van Buren St / Riverdale Park Station",
          "Baltimore Ave & Jefferson St",
          "Perry & 35th St",
          "Rockville Pike & Meeting St",
          "Potomac Ave & Half St SW",
          "Crystal Dr & Potomac Ave",
          "Largo Rd & Campus Way / Prince Georges's Comm Col",
          "Stanton Square SE",
          "14th & Newton St NW",
          "48th Pl & MacArthur Blvd NW",
          "14th & Luzon St NW",
          "1st & M St SE",
          "Fleet St & Waterfront St",
          "Oxon Hill Park & Ride",
          "11th & Park Rd NW",
          "4th & M St SE",
          "Kansas Ave & Sherman Cr NW",
          "Campus Commons",
          "Park Run & Onyx Dr",
          "7th & K St NW",
          "King Greenleaf Rec Center",
          "Montello Ave & Holbrook Terr NE",
          "New Jersey Ave & F St NW",
          "Maryland Ave & 17th St NE",
          "Massachusetts Ave & 6th St NE",
          "Woodley Park Metro / Calvert St & Connecticut Ave NW",
          "McLean Metro",
          "Trinidad Rec Center",
          "Rosedale Rec Center",
          "11th & C St SE",
          "New Hampshire & Gallatin St NW",
          "United Medical Center",
          "18th & New Hampshire Ave NW",
          "Dunn Loring Metro",
          "Oglethorpe St & 42nd Ave",
          "Southern Ave Metro",
          "Queens Chapel & Hamilton St",
          "Northwestern High School",
          "New Hampshire Ave & East-West Hwy",
          "Rhode Island Ave & 39th St / Brentwood Arts Exchange",
          "Riggs Rd & East West Hwy",
          "Tanger Outlets",
          "Chillum Rd & Riggs Rd / Riggs Plaza",
          "Hyattsville Library / Adelphi Rd & Toledo Rd",
          "George Mason High School / Haycock Rd & Leesburg Pike",
          "State Theatre / Park Pl & N Washington St",
          "N Oak St & W Broad St",
          "Pennsylvania Ave & Park Ave",
          "E Fairfax St & S Washington St",
          "N Roosevelt St & Roosevelt Blvd",
          "W Broad St & Little Falls St",
          "S Maple Ave & S Washington St",
          "Falls Church City Hall / Park Ave & Little Falls St",
          "W Columbia St & N Washington St",
          "West Falls Church Metro",
          "Jones Branch Drive & Scotts Crossing Rd",
          "Georgia Ave & Morton St NW",
          "Merrilee Dr & Lauren Elizabeth Lane",
          "Merrifield Cinema & Merrifield Town Center",
          "Rhode Island & Montana Ave NE",
          "7th & S St NW",
          "North Capitol & R St NE",
          "17th & Upshur St NW",
          "Grant Circle",
          "14th & Otis Pl NW",
          "John McCormack Rd NE",
          "West Hyattsville Metro",
          "Capitol Heights Metro",
          "Prince George's Plaza Metro",
          "Riverdale Park Town Center",
          "The Mall at Prince Georges",
          "Wheaton Library & Community Rec Center",
          "Edgewood Rec Center",
          "8th & K St NE",
          "Kingman Island/The Fields at RFK",
          "Kenilworth Terrace & Hayes St. NE",
          "National Harbor Carousel",
          "Valley Ave & Wheeler Rd SE",
          "Ridge Rd Community Center",
          "Fort Stanton Rec Center",
          "Reservoir Rd & 38th St NW",
          "22nd & H St NW",
          "8th & H St NE",
          "Hardy Rec Center",
          "The Shoppes @ Burnt Mills",
          "Briggs Chaney & Castle Dr",
          "White Oak Rec Center",
          "Briggs Chaney Park & Ride",
          "Stewart & April",
          "Stewart Ln & Old Columbia Pike",
          "New Hampshire & Lockwood",
          "Castle Blvd & Castle Ln",
          "Oak Leaf & Lockwood",
          "White Oak Transit Center",
          "Wilson Blvd. & N. Vermont St.",
          "Oklahoma Ave & Benning Rd NE",
          "Minnesota Ave & R St SE",
          "Vy Reston Heights",
          "1st & K St NE",
          "Wheeler Ave & S. Floyd St.",
          "N. Beauregard St. & Berkley St.",
          "Mt Vernon Trail & S. Washington St.",
          "Eisenhower Ave & Ike Dr",
          "Capitol Ave & Kendall St NE",
          "14th & D St SE",
          "Half & Water St SW",
          "14th & Q St NW",
          "13th & U St NW",
          "Stadium Armory Metro",
          "Broad Branch Rd & Northampton St NW",
          "St. Asaph & Montgomery St",
          "Duke St & Strand (Robinson Terminal)",
          "21st St & G st NW",
          "4th St & G St SW",
          "Kansas Ave & Longfellow St NW",
          "National Airport",
          "Fern St & Army Navy Dr",
          "Arlington Blvd & Ft Myer Dr",
          "23rd St S & Hayes St",
          "Wilson Blvd & N Oak St",
          "Arlington Blvd & Fairfax Dr",
          "2nd & V St SW / James Creek Marina",
          "1st St & Potomac Ave SE",
          "20th & Columbia Rd NW",
          "3rd & M st SE",
          "53rd & D St SE/C.W. Harris Elementary"
         ],
         "lat": [
          38.858971,
          38.85725,
          38.856425,
          38.86017,
          38.857866,
          38.862303,
          38.8637,
          38.85740496261504,
          38.848466,
          38.8426,
          38.8533,
          38.850688,
          38.9003,
          38.9177645,
          38.929464,
          38.926088,
          38.922925,
          38.9268,
          38.923203,
          38.9319,
          38.876697,
          38.909868,
          38.913046,
          38.9086,
          38.8963,
          38.90071062547463,
          38.9366839345886,
          38.9375,
          38.9346,
          38.90304,
          38.8896,
          38.9308,
          38.86005647007575,
          38.934267,
          38.878,
          38.897063,
          38.901385,
          38.862669,
          38.867373,
          38.8952,
          38.919077,
          38.9172,
          38.9249,
          38.8743,
          38.9154,
          38.9155,
          38.85438051517749,
          38.8763,
          38.9101,
          38.905697,
          38.90571079190728,
          38.90276,
          38.899408,
          38.8851,
          38.8803,
          38.88291548476762,
          38.9121,
          38.944551,
          38.9126,
          38.8792,
          38.938736,
          38.934881,
          38.947774,
          38.865784,
          38.873057,
          38.886952,
          38.899632,
          38.894,
          38.88627694506511,
          38.902314,
          38.933668,
          38.894919,
          38.886266,
          38.893028,
          38.897293,
          38.884260087971725,
          38.90506687455313,
          38.947607,
          38.90042673988099,
          38.897222,
          38.89903234416315,
          38.905737,
          38.927872,
          38.903741450919384,
          38.90375,
          38.878693599396954,
          38.894758,
          38.916442,
          38.900283,
          38.8997,
          38.932514,
          38.910972,
          38.899972,
          38.900412,
          38.900413,
          38.889955,
          38.890461,
          38.8692,
          38.894832,
          38.915544,
          38.898364,
          38.894514,
          38.89728304853854,
          38.902061,
          38.908905,
          38.895344,
          38.8923,
          38.90774,
          38.899983,
          38.903827,
          38.89696,
          38.897446,
          38.9055785,
          38.922581,
          38.898409,
          38.844015,
          38.88412,
          38.897857,
          38.896104,
          38.897315,
          38.8946,
          38.893438,
          38.891696,
          38.892164,
          38.86559,
          38.892459,
          38.889,
          38.920669,
          38.905995699991145,
          38.9059,
          38.8904,
          38.8881,
          38.88786,
          38.899680000000004,
          38.88637194054526,
          38.88412,
          38.881185,
          38.912719,
          38.9418,
          38.915417,
          38.92812111132096,
          38.917761,
          38.889935,
          38.930282,
          38.896544,
          38.905126,
          38.88732,
          38.844711,
          38.876393,
          38.85033657788445,
          38.896923,
          38.9024,
          38.885801,
          38.896355,
          38.878854378063295,
          38.922649,
          38.928743,
          38.882788,
          38.88397,
          38.884734,
          38.8885525,
          38.888774,
          38.87887,
          38.894573,
          38.893237,
          38.89593,
          38.89054,
          38.88081,
          38.881044,
          38.882629,
          38.879819,
          38.866611,
          38.883921,
          38.880012,
          38.884616,
          38.90509,
          38.903584,
          38.903819,
          38.901539,
          38.902204,
          38.803124,
          38.804718,
          38.81074147938705,
          38.805317,
          38.902,
          38.805648,
          38.811456,
          38.814577,
          38.80576284873485,
          38.9066,
          38.895914,
          38.90088,
          38.883669,
          38.884961,
          38.889365,
          38.888255,
          38.894722,
          38.90093,
          38.943837,
          38.954812,
          38.905469714943266,
          38.863833,
          38.847129045742605,
          38.846222,
          38.918809,
          38.956555547721955,
          38.949662000000004,
          38.942475355602845,
          38.956432,
          38.847977,
          38.8444,
          38.860789,
          38.84736,
          38.84232,
          38.848454,
          38.987,
          38.90849,
          38.896553,
          38.955016,
          38.908142,
          38.92333,
          38.889988,
          38.912659,
          38.889908,
          38.897274,
          38.927095,
          38.897194999999996,
          38.928644,
          38.84322988730829,
          38.863897,
          38.903732,
          38.916787,
          38.852248,
          38.865029,
          38.880705,
          38.867262,
          38.887378,
          38.894851,
          38.917622,
          38.918155,
          38.892275,
          38.886978,
          38.887312,
          38.927497,
          38.862478,
          38.856319,
          38.871822,
          38.985404,
          38.981103,
          38.983838,
          39.096312,
          39.093783,
          38.988562,
          39.084125,
          38.98954,
          39.094772,
          38.98128,
          38.983627,
          38.99489580319022,
          38.983525,
          38.961763,
          38.921074,
          38.87501,
          38.920387,
          38.876737,
          39.099376,
          39.083673,
          39.123513,
          38.990249,
          38.982456,
          39.02538719623632,
          39.095661,
          38.989724,
          38.975,
          38.977933,
          38.992375,
          38.990639,
          38.977092999999996,
          39.076331,
          39.102212,
          38.99403485060837,
          38.999388,
          38.997033,
          39.114688,
          39.110314,
          38.923583,
          38.90733256111448,
          38.898536,
          38.908473,
          38.878433,
          38.873755,
          38.862753,
          38.999634,
          38.96115,
          38.899703,
          38.837666,
          38.873219,
          38.869418,
          38.94113915653008,
          39.103091,
          39.097636,
          38.997445,
          39.085394,
          38.900358,
          38.952369,
          38.975219,
          38.920682,
          38.866471,
          38.839912,
          39.119765,
          38.964992,
          39.084379,
          38.984691,
          38.889920000000004,
          38.9037315,
          38.804378,
          38.894941,
          38.869442,
          38.89824328774852,
          38.897612,
          38.901755,
          38.801111,
          38.82175,
          38.802677,
          38.820064,
          38.82595,
          38.820932,
          38.833077,
          38.890612,
          38.986743,
          38.865553,
          38.96454350924588,
          38.903649,
          38.898282949523605,
          38.997653,
          38.912648,
          38.859254,
          38.907908,
          38.896456,
          38.898984,
          38.895377,
          38.898412,
          38.914751108831155,
          38.876528,
          38.86215024521491,
          38.902814,
          38.913761,
          38.86612,
          38.89967,
          38.90864,
          38.961339,
          38.894474,
          38.896134,
          38.915604,
          38.946182,
          38.994113,
          39.105295,
          38.898301,
          38.812718,
          38.80704,
          38.813485,
          38.999378,
          38.884829,
          38.958267,
          38.928893,
          38.912652,
          38.999679,
          38.979875,
          38.903658,
          38.908643,
          38.831516,
          38.893511,
          38.909394,
          38.995681,
          38.799267,
          38.925284,
          38.822738,
          38.90843,
          38.88432272414662,
          38.947156,
          38.894972,
          38.828437,
          38.88532071975074,
          38.880992,
          38.812711,
          38.82005823354218,
          38.8904955,
          38.890539,
          38.888097,
          38.798133,
          38.843422,
          38.90240556584194,
          38.841291,
          38.797557,
          38.818748,
          38.829545,
          38.928552,
          38.901136451737045,
          38.949813,
          38.91263,
          38.897407,
          38.870695,
          38.929261,
          38.92403,
          38.919475,
          38.920939,
          38.924437,
          38.931911,
          38.928919,
          38.932636,
          38.970045999999996,
          38.962524,
          38.962095,
          38.960574,
          38.955079,
          38.957037,
          38.884916,
          38.946607921214984,
          38.959633,
          38.95534,
          38.892441,
          38.891805,
          38.960084,
          38.955314,
          38.951443,
          38.893860000000004,
          38.967505,
          38.923083,
          38.812351,
          38.990874,
          38.9190185,
          38.882489,
          38.957463,
          38.876695,
          38.915246,
          38.90293157359119,
          39.014716,
          38.98265,
          38.988101,
          39.038423828518326,
          39.044887,
          39.035965,
          39.043272,
          39.032029,
          38.970412,
          38.955170598044894,
          38.968834,
          38.93293,
          38.88345,
          39.121327,
          38.905368,
          38.924088,
          38.888282,
          38.886048,
          38.858524,
          39.12333,
          38.964207741006206,
          39.105642,
          38.8995,
          38.905424,
          38.925636,
          38.912644,
          38.892556,
          38.936298,
          38.892244,
          38.905303,
          39.106971,
          39.106152,
          38.84627,
          38.84377,
          38.84623,
          38.836,
          38.824481,
          38.82373,
          38.81909,
          38.883011,
          38.89646474748647,
          38.88044,
          38.915,
          39.04313,
          38.95674,
          38.89222,
          38.87335,
          39.062041,
          39.04753,
          39.049,
          39.049765,
          39.04317,
          39.04873,
          39.0629,
          39.06219,
          39.00048,
          38.92245,
          38.908391,
          38.899811,
          38.969581,
          38.95548,
          38.936213,
          39.050539,
          38.86968314861632,
          38.848304,
          38.88994,
          38.855004,
          38.931991,
          38.9170363119413,
          38.969489,
          38.876893,
          38.782633,
          38.798749,
          38.93132185874559,
          38.876751,
          38.94796174822241,
          38.944707,
          38.92755,
          38.902674,
          38.876211,
          38.907444,
          38.897108,
          38.901935,
          38.892934,
          38.923389,
          38.92400207520182,
          38.906299,
          38.897808,
          38.885908,
          38.951596,
          38.835737,
          38.911268,
          38.8828,
          38.959361,
          38.840107,
          38.9546,
          38.975505,
          38.974205,
          38.939271,
          38.9725,
          38.7968,
          38.961737,
          38.9698,
          38.895172,
          38.882746,
          38.88837,
          38.887403,
          38.880612,
          38.878085,
          38.883601,
          38.87972,
          38.885434,
          38.885621,
          38.9001,
          38.928502,
          38.932128,
          38.879355,
          38.870093,
          38.9243,
          38.9142043187298,
          38.912524,
          38.942146,
          38.942024743273045,
          38.934405,
          38.938889,
          38.955349,
          38.888524,
          38.965742,
          38.962119,
          38.968842,
          39.0473228,
          38.924144,
          38.90273216425078,
          38.89595455700754,
          38.90046848783359,
          38.7859,
          38.83664578175751,
          38.876227445751475,
          38.85736903758752,
          38.91261359469192,
          38.89892546716842,
          38.899941626884754,
          38.90970086204467,
          39.0313141,
          39.081638,
          39.0461435,
          39.0778751,
          39.0449444,
          39.0456521,
          39.0391022,
          39.085314,
          39.0379809,
          39.04104,
          38.87947660895433,
          38.8974996,
          38.8693365,
          38.949008,
          38.902386,
          38.808161,
          38.840797,
          38.7930647,
          38.802738,
          38.910993,
          38.8840581,
          38.866277,
          38.910674,
          38.91693645323652,
          38.88548252734069,
          38.96577499342219,
          38.814185,
          38.801947,
          38.898308,
          38.881123,
          38.958098,
          38.852903,
          38.864838,
          38.890863,
          38.853002,
          38.895068,
          38.88625606692058,
          38.863743,
          38.871841,
          38.918036,
          38.876823,
          38.883318
         ],
         "legendgroup": "",
         "lon": [
          -77.05323,
          -77.05332,
          -77.049232,
          -77.049593,
          -77.05949,
          -77.059936,
          -77.0633,
          -77.05113172531128,
          -77.051514,
          -77.0502,
          -77.0498,
          -77.05152,
          -77.0429,
          -77.032096,
          -77.027822,
          -77.036536,
          -77.042581,
          -77.0322,
          -77.047637,
          -77.0388,
          -77.0178975,
          -77.034421,
          -77.032008,
          -77.0323,
          -77.045,
          -77.04644858837128,
          -77.02418088912964,
          -77.0328,
          -76.9955,
          -77.019027,
          -76.9769,
          -77.0315,
          -76.96783974766731,
          -77.057979,
          -76.9607,
          -76.947446,
          -76.941877,
          -76.994637,
          -76.988039,
          -77.0436,
          -77.000648,
          -77.0259,
          -77.0222,
          -77.0057,
          -77.0446,
          -77.0222,
          -77.05341160297394,
          -77.0037,
          -77.0444,
          -77.005483,
          -77.0473176240921,
          -77.03863,
          -77.015289,
          -77.0023,
          -76.9862,
          -76.98790669441223,
          -77.0387,
          -77.063896,
          -77.0135,
          -76.9953,
          -77.087171,
          -77.072755,
          -77.032818,
          -76.9784,
          -76.971015,
          -76.996806,
          -77.031686,
          -76.947974,
          -77.02824175357819,
          -77.0591415,
          -76.991016,
          -77.046587,
          -77.022241,
          -77.026013,
          -77.05557,
          -76.99473559856415,
          -77.04177886247635,
          -77.079382,
          -76.98825001716614,
          -77.019347,
          -77.03335404396057,
          -77.02227,
          -77.043358,
          -77.04245209693909,
          -77.06269,
          -77.02305436134338,
          -76.997114,
          -77.0682,
          -77.029822,
          -77.023086,
          -76.992889,
          -77.00495,
          -76.998347,
          -77.001949,
          -76.982872,
          -77.000349,
          -76.988355,
          -76.9599,
          -76.987633,
          -77.038252,
          -77.027869,
          -77.031617,
          -77.02219069004059,
          -77.038322,
          -77.04478,
          -77.016106,
          -77.0436,
          -77.071652,
          -76.991383,
          -77.053485,
          -77.00493,
          -77.009888,
          -77.027313,
          -77.070334,
          -77.032278,
          -77.050537,
          -77.04657,
          -77.026975,
          -77.049882,
          -77.070993,
          -77.072305,
          -77.076389,
          -77.0846,
          -77.079375,
          -76.952103,
          -77.046567,
          -77.0925,
          -77.04368,
          -77.03980207443237,
          -77.0325,
          -77.0889,
          -77.09308,
          -77.094875,
          -77.041539,
          -77.01770067214966,
          -77.017445,
          -77.001828,
          -77.022155,
          -77.0251,
          -77.012289,
          -77.0237946510315,
          -77.04062,
          -76.93723,
          -77.055599,
          -76.96012,
          -77.056887,
          -76.983569,
          -76.987823,
          -77.107735,
          -77.1009886264801,
          -77.086502,
          -77.02622,
          -77.097745,
          -77.078408,
          -77.00572729110718,
          -77.077271,
          -77.012457,
          -77.103148,
          -77.10783,
          -77.093485,
          -77.032427,
          -77.028694,
          -77.1207,
          -77.01994,
          -77.086063,
          -77.089006,
          -77.08095,
          -77.090792,
          -77.111768,
          -77.109366,
          -77.037413,
          -76.985238,
          -77.116817,
          -77.107854,
          -77.10108,
          -76.9941,
          -77.044789,
          -77.0284,
          -77.046564,
          -77.04337,
          -77.040363,
          -77.043363,
          -77.0446327328682,
          -77.049883,
          -77.03353,
          -77.05293,
          -77.050276,
          -77.052808,
          -77.060626745224,
          -77.05152,
          -77.026064,
          -77.048911,
          -77.113905,
          -77.08777,
          -77.077294,
          -77.0494365,
          -77.045128,
          -77.018677,
          -77.077078,
          -77.082426,
          -77.0021304488182,
          -77.080319,
          -77.1125502884388,
          -77.069275,
          -77.041571,
          -77.0198142528534,
          -77.027333,
          -77.03267812728882,
          -77.032947,
          -77.075104,
          -77.085931,
          -77.09586,
          -77.095431,
          -77.089555,
          -77.084918,
          -77.029417,
          -77.063586,
          -77.06714,
          -77.069956,
          -77.038359,
          -77.0352,
          -76.995193,
          -77.017669,
          -76.983326,
          -76.994749,
          -76.978924,
          -76.983575,
          -76.990955,
          -76.99937582015991,
          -76.990037,
          -76.987211,
          -77.028139,
          -77.105022,
          -77.039511,
          -77.08596,
          -77.072315,
          -77.001955,
          -77.02324,
          -77.01597,
          -77.004746,
          -77.013917,
          -77.013769,
          -77.025762,
          -76.997194,
          -77.086599,
          -77.11153,
          -77.107906,
          -77.023082,
          -77.097426,
          -77.09221,
          -77.192672,
          -77.202501,
          -77.096539,
          -77.151291,
          -77.098029,
          -77.145213,
          -77.011336,
          -77.006311,
          -77.02953189611435,
          -77.095367,
          -77.085998,
          -77.031887,
          -77.0024,
          -77.025672,
          -76.994468,
          -77.188014,
          -77.149162,
          -77.15741,
          -77.02935,
          -77.091991,
          -77.04456299543381,
          -77.159048,
          -77.023854,
          -77.01121,
          -77.006472,
          -77.100104,
          -77.100239,
          -77.094589,
          -77.141378,
          -77.177091,
          -77.03037142753601,
          -77.031555,
          -77.025608,
          -77.171487,
          -77.182669,
          -77.050046,
          -77.01536044478416,
          -76.931862,
          -76.933099,
          -77.03023,
          -77.089233,
          -77.05428,
          -77.109647,
          -77.088659,
          -77.008911,
          -77.09482,
          -77.082104,
          -77.095596,
          -77.061977237463,
          -77.196442,
          -77.196636,
          -77.023894,
          -77.145803,
          -77.012108,
          -77.002721,
          -77.016855,
          -76.995876,
          -77.076131,
          -77.087083,
          -77.166093,
          -77.103381,
          -77.146866,
          -77.094537,
          -77.071301,
          -77.0675285,
          -77.060866,
          -77.09169,
          -77.104503,
          -77.02623546123505,
          -77.080851,
          -77.051084,
          -77.068952,
          -77.047494,
          -77.063562,
          -77.057619,
          -77.058541,
          -77.053096,
          -77.059821,
          -77.084801,
          -77.000035,
          -77.05003,
          -77.07513481378555,
          -77.034918,
          -77.03973233699799,
          -77.034499,
          -77.041834,
          -77.063275,
          -76.99707,
          -77.104562,
          -77.078317,
          -77.09713,
          -77.043182,
          -77.00356006622314,
          -77.12712,
          -77.06812083721161,
          -77.061043,
          -77.027025,
          -77.08787,
          -77.003666,
          -77.02277,
          -77.027855,
          -76.974828,
          -76.9929,
          -76.983683,
          -77.08059,
          -77.076986,
          -77.194774,
          -77.118009,
          -77.044097,
          -77.059817,
          -77.049468,
          -77.097882,
          -77.127671,
          -77.084636,
          -77.03625,
          -77.036278,
          -77.051168,
          -77.093522,
          -77.031737,
          -77.012365,
          -77.008133,
          -77.041544,
          -77.048728,
          -77.038721,
          -77.0447,
          -77.032375,
          -77.049265,
          -77.02714,
          -77.02601015567778,
          -77.065115,
          -77.003135,
          -77.086031,
          -77.15642720460892,
          -77.135271,
          -77.061715,
          -77.06282079219818,
          -77.0172465,
          -77.049383,
          -77.038325,
          -77.0487,
          -77.064016,
          -77.01600551605225,
          -77.063093,
          -77.053766,
          -77.047783,
          -77.047844,
          -77.032224,
          -77.03445106744766,
          -77.080217,
          -76.971923,
          -76.925907,
          -76.982359,
          -77.240654,
          -77.235955,
          -77.221179,
          -77.222115,
          -77.217664,
          -77.219261,
          -77.225394,
          -77.231825,
          -77.338686,
          -77.361902,
          -77.358815,
          -77.356324,
          -77.351649,
          -77.359718,
          -77.005965,
          -77.3393914103508,
          -77.358741,
          -77.357611,
          -77.048947,
          -76.913563,
          -77.353414,
          -77.368416,
          -77.340377,
          -77.070862,
          -77.027976,
          -77.227417,
          -77.040691,
          -77.016311,
          -77.034449,
          -76.990121,
          -77.002239,
          -77.112982,
          -77.220157,
          -76.99840486049652,
          -77.107143,
          -76.988311,
          -76.988422,
          -77.05102041363716,
          -77.047788,
          -77.048395,
          -77.053085,
          -77.04735,
          -77.340787,
          -77.3630940914154,
          -77.016258,
          -76.979517,
          -77.021741,
          -77.164969,
          -77.065149,
          -77.040787,
          -77.111066,
          -77.142317,
          -77.103728,
          -77.16486,
          -77.35428035259247,
          -77.20386,
          -77.054155,
          -77.034674,
          -77.027112,
          -77.04564,
          -77.082089,
          -77.087128,
          -77.033234,
          -77.050264,
          -77.192645,
          -77.202354,
          -76.98185,
          -76.97557,
          -76.97703,
          -77.0009,
          -77.005497,
          -77.00223,
          -77.01033,
          -76.949709,
          -77.0333808660507,
          -77.025236,
          -77.0078,
          -77.05006,
          -77.02791,
          -76.99602,
          -76.9834,
          -77.120776,
          -77.11287,
          -77.10933,
          -77.11368,
          -77.1135,
          -77.1257,
          -77.113454,
          -77.129235,
          -77.00077,
          -77.23034,
          -76.843263,
          -76.844604,
          -76.937349,
          -76.940133,
          -76.960054,
          -77.115212,
          -77.01081544160843,
          -77.05122,
          -76.825535,
          -76.984512,
          -77.032956,
          -77.0957824587822,
          -77.033509,
          -77.006072,
          -77.016059,
          -77.00103,
          -77.02824711799622,
          -77.000736,
          -77.02154964208603,
          -77.335425,
          -77.226644,
          -77.021392,
          -77.012443,
          -76.986813,
          -77.011616,
          -76.978627,
          -76.998273,
          -77.051833,
          -77.20812678337097,
          -76.983221,
          -76.979634,
          -76.991476,
          -77.012808,
          -76.983144,
          -77.041829,
          -77.2283,
          -76.946361,
          -76.9753,
          -76.9595,
          -76.952199,
          -76.995227,
          -76.955047,
          -76.9807,
          -77.0026,
          -76.995922,
          -76.9493,
          -77.190275,
          -77.170032,
          -77.179832,
          -77.176992,
          -77.171891,
          -77.153953,
          -77.173438,
          -77.178408,
          -77.173605,
          -77.166917,
          -77.1887,
          -77.215624,
          -77.0235,
          -77.230681,
          -77.22997,
          -76.9859,
          -77.0221745967865,
          -77.008798,
          -77.038684,
          -77.01822102069855,
          -77.032687,
          -76.997226,
          -76.968084,
          -76.913188,
          -76.954803,
          -76.935578,
          -76.954171,
          -77.0510969,
          -77.002098,
          -76.99514991079923,
          -76.9678448436025,
          -76.9472873210907,
          -77.0167,
          -76.99358886515256,
          -76.94098126958124,
          -76.97768801437633,
          -77.07432264076488,
          -77.04885238395946,
          -76.99489653110504,
          -77.08564639091492,
          -77.0041217,
          -76.945495,
          -76.9757228,
          -76.9418666,
          -76.9811552,
          -76.9854381,
          -76.9918237,
          -76.940547,
          -76.9945391,
          -76.987125,
          -77.11456328630447,
          -76.9695094,
          -76.978519,
          -77.355299,
          -77.005649,
          -77.100796,
          -77.108938,
          -77.049436,
          -77.0824626,
          -76.985854,
          -76.9863852,
          -77.010551,
          -77.03188,
          -77.0296311378479,
          -76.97718724608421,
          -77.06862643361092,
          -77.043809,
          -77.040293,
          -77.046402,
          -77.017658,
          -77.013821,
          -77.045916,
          -77.056873,
          -77.074893,
          -77.059496,
          -77.07386,
          -77.08426237106323,
          -77.013814,
          -77.00591,
          -77.045487,
          -77.002161,
          -76.925315
         ],
         "marker": {
          "color": "#636efa"
         },
         "mode": "markers",
         "name": "",
         "showlegend": false,
         "subplot": "mapbox",
         "type": "scattermapbox"
        }
       ],
       "layout": {
        "legend": {
         "tracegroupgap": 0
        },
        "mapbox": {
         "center": {
          "lat": 38.91467052836563,
          "lon": -77.05549477420581
         },
         "domain": {
          "x": [
           0,
           1
          ],
          "y": [
           0,
           1
          ]
         },
         "style": "open-street-map",
         "zoom": 9
        },
        "margin": {
         "b": 0,
         "l": 0,
         "r": 0,
         "t": 0
        },
        "template": {
         "data": {
          "bar": [
           {
            "error_x": {
             "color": "#2a3f5f"
            },
            "error_y": {
             "color": "#2a3f5f"
            },
            "marker": {
             "line": {
              "color": "#E5ECF6",
              "width": 0.5
             }
            },
            "type": "bar"
           }
          ],
          "barpolar": [
           {
            "marker": {
             "line": {
              "color": "#E5ECF6",
              "width": 0.5
             }
            },
            "type": "barpolar"
           }
          ],
          "carpet": [
           {
            "aaxis": {
             "endlinecolor": "#2a3f5f",
             "gridcolor": "white",
             "linecolor": "white",
             "minorgridcolor": "white",
             "startlinecolor": "#2a3f5f"
            },
            "baxis": {
             "endlinecolor": "#2a3f5f",
             "gridcolor": "white",
             "linecolor": "white",
             "minorgridcolor": "white",
             "startlinecolor": "#2a3f5f"
            },
            "type": "carpet"
           }
          ],
          "choropleth": [
           {
            "colorbar": {
             "outlinewidth": 0,
             "ticks": ""
            },
            "type": "choropleth"
           }
          ],
          "contour": [
           {
            "colorbar": {
             "outlinewidth": 0,
             "ticks": ""
            },
            "colorscale": [
             [
              0,
              "#0d0887"
             ],
             [
              0.1111111111111111,
              "#46039f"
             ],
             [
              0.2222222222222222,
              "#7201a8"
             ],
             [
              0.3333333333333333,
              "#9c179e"
             ],
             [
              0.4444444444444444,
              "#bd3786"
             ],
             [
              0.5555555555555556,
              "#d8576b"
             ],
             [
              0.6666666666666666,
              "#ed7953"
             ],
             [
              0.7777777777777778,
              "#fb9f3a"
             ],
             [
              0.8888888888888888,
              "#fdca26"
             ],
             [
              1,
              "#f0f921"
             ]
            ],
            "type": "contour"
           }
          ],
          "contourcarpet": [
           {
            "colorbar": {
             "outlinewidth": 0,
             "ticks": ""
            },
            "type": "contourcarpet"
           }
          ],
          "heatmap": [
           {
            "colorbar": {
             "outlinewidth": 0,
             "ticks": ""
            },
            "colorscale": [
             [
              0,
              "#0d0887"
             ],
             [
              0.1111111111111111,
              "#46039f"
             ],
             [
              0.2222222222222222,
              "#7201a8"
             ],
             [
              0.3333333333333333,
              "#9c179e"
             ],
             [
              0.4444444444444444,
              "#bd3786"
             ],
             [
              0.5555555555555556,
              "#d8576b"
             ],
             [
              0.6666666666666666,
              "#ed7953"
             ],
             [
              0.7777777777777778,
              "#fb9f3a"
             ],
             [
              0.8888888888888888,
              "#fdca26"
             ],
             [
              1,
              "#f0f921"
             ]
            ],
            "type": "heatmap"
           }
          ],
          "heatmapgl": [
           {
            "colorbar": {
             "outlinewidth": 0,
             "ticks": ""
            },
            "colorscale": [
             [
              0,
              "#0d0887"
             ],
             [
              0.1111111111111111,
              "#46039f"
             ],
             [
              0.2222222222222222,
              "#7201a8"
             ],
             [
              0.3333333333333333,
              "#9c179e"
             ],
             [
              0.4444444444444444,
              "#bd3786"
             ],
             [
              0.5555555555555556,
              "#d8576b"
             ],
             [
              0.6666666666666666,
              "#ed7953"
             ],
             [
              0.7777777777777778,
              "#fb9f3a"
             ],
             [
              0.8888888888888888,
              "#fdca26"
             ],
             [
              1,
              "#f0f921"
             ]
            ],
            "type": "heatmapgl"
           }
          ],
          "histogram": [
           {
            "marker": {
             "colorbar": {
              "outlinewidth": 0,
              "ticks": ""
             }
            },
            "type": "histogram"
           }
          ],
          "histogram2d": [
           {
            "colorbar": {
             "outlinewidth": 0,
             "ticks": ""
            },
            "colorscale": [
             [
              0,
              "#0d0887"
             ],
             [
              0.1111111111111111,
              "#46039f"
             ],
             [
              0.2222222222222222,
              "#7201a8"
             ],
             [
              0.3333333333333333,
              "#9c179e"
             ],
             [
              0.4444444444444444,
              "#bd3786"
             ],
             [
              0.5555555555555556,
              "#d8576b"
             ],
             [
              0.6666666666666666,
              "#ed7953"
             ],
             [
              0.7777777777777778,
              "#fb9f3a"
             ],
             [
              0.8888888888888888,
              "#fdca26"
             ],
             [
              1,
              "#f0f921"
             ]
            ],
            "type": "histogram2d"
           }
          ],
          "histogram2dcontour": [
           {
            "colorbar": {
             "outlinewidth": 0,
             "ticks": ""
            },
            "colorscale": [
             [
              0,
              "#0d0887"
             ],
             [
              0.1111111111111111,
              "#46039f"
             ],
             [
              0.2222222222222222,
              "#7201a8"
             ],
             [
              0.3333333333333333,
              "#9c179e"
             ],
             [
              0.4444444444444444,
              "#bd3786"
             ],
             [
              0.5555555555555556,
              "#d8576b"
             ],
             [
              0.6666666666666666,
              "#ed7953"
             ],
             [
              0.7777777777777778,
              "#fb9f3a"
             ],
             [
              0.8888888888888888,
              "#fdca26"
             ],
             [
              1,
              "#f0f921"
             ]
            ],
            "type": "histogram2dcontour"
           }
          ],
          "mesh3d": [
           {
            "colorbar": {
             "outlinewidth": 0,
             "ticks": ""
            },
            "type": "mesh3d"
           }
          ],
          "parcoords": [
           {
            "line": {
             "colorbar": {
              "outlinewidth": 0,
              "ticks": ""
             }
            },
            "type": "parcoords"
           }
          ],
          "pie": [
           {
            "automargin": true,
            "type": "pie"
           }
          ],
          "scatter": [
           {
            "marker": {
             "colorbar": {
              "outlinewidth": 0,
              "ticks": ""
             }
            },
            "type": "scatter"
           }
          ],
          "scatter3d": [
           {
            "line": {
             "colorbar": {
              "outlinewidth": 0,
              "ticks": ""
             }
            },
            "marker": {
             "colorbar": {
              "outlinewidth": 0,
              "ticks": ""
             }
            },
            "type": "scatter3d"
           }
          ],
          "scattercarpet": [
           {
            "marker": {
             "colorbar": {
              "outlinewidth": 0,
              "ticks": ""
             }
            },
            "type": "scattercarpet"
           }
          ],
          "scattergeo": [
           {
            "marker": {
             "colorbar": {
              "outlinewidth": 0,
              "ticks": ""
             }
            },
            "type": "scattergeo"
           }
          ],
          "scattergl": [
           {
            "marker": {
             "colorbar": {
              "outlinewidth": 0,
              "ticks": ""
             }
            },
            "type": "scattergl"
           }
          ],
          "scattermapbox": [
           {
            "marker": {
             "colorbar": {
              "outlinewidth": 0,
              "ticks": ""
             }
            },
            "type": "scattermapbox"
           }
          ],
          "scatterpolar": [
           {
            "marker": {
             "colorbar": {
              "outlinewidth": 0,
              "ticks": ""
             }
            },
            "type": "scatterpolar"
           }
          ],
          "scatterpolargl": [
           {
            "marker": {
             "colorbar": {
              "outlinewidth": 0,
              "ticks": ""
             }
            },
            "type": "scatterpolargl"
           }
          ],
          "scatterternary": [
           {
            "marker": {
             "colorbar": {
              "outlinewidth": 0,
              "ticks": ""
             }
            },
            "type": "scatterternary"
           }
          ],
          "surface": [
           {
            "colorbar": {
             "outlinewidth": 0,
             "ticks": ""
            },
            "colorscale": [
             [
              0,
              "#0d0887"
             ],
             [
              0.1111111111111111,
              "#46039f"
             ],
             [
              0.2222222222222222,
              "#7201a8"
             ],
             [
              0.3333333333333333,
              "#9c179e"
             ],
             [
              0.4444444444444444,
              "#bd3786"
             ],
             [
              0.5555555555555556,
              "#d8576b"
             ],
             [
              0.6666666666666666,
              "#ed7953"
             ],
             [
              0.7777777777777778,
              "#fb9f3a"
             ],
             [
              0.8888888888888888,
              "#fdca26"
             ],
             [
              1,
              "#f0f921"
             ]
            ],
            "type": "surface"
           }
          ],
          "table": [
           {
            "cells": {
             "fill": {
              "color": "#EBF0F8"
             },
             "line": {
              "color": "white"
             }
            },
            "header": {
             "fill": {
              "color": "#C8D4E3"
             },
             "line": {
              "color": "white"
             }
            },
            "type": "table"
           }
          ]
         },
         "layout": {
          "annotationdefaults": {
           "arrowcolor": "#2a3f5f",
           "arrowhead": 0,
           "arrowwidth": 1
          },
          "autotypenumbers": "strict",
          "coloraxis": {
           "colorbar": {
            "outlinewidth": 0,
            "ticks": ""
           }
          },
          "colorscale": {
           "diverging": [
            [
             0,
             "#8e0152"
            ],
            [
             0.1,
             "#c51b7d"
            ],
            [
             0.2,
             "#de77ae"
            ],
            [
             0.3,
             "#f1b6da"
            ],
            [
             0.4,
             "#fde0ef"
            ],
            [
             0.5,
             "#f7f7f7"
            ],
            [
             0.6,
             "#e6f5d0"
            ],
            [
             0.7,
             "#b8e186"
            ],
            [
             0.8,
             "#7fbc41"
            ],
            [
             0.9,
             "#4d9221"
            ],
            [
             1,
             "#276419"
            ]
           ],
           "sequential": [
            [
             0,
             "#0d0887"
            ],
            [
             0.1111111111111111,
             "#46039f"
            ],
            [
             0.2222222222222222,
             "#7201a8"
            ],
            [
             0.3333333333333333,
             "#9c179e"
            ],
            [
             0.4444444444444444,
             "#bd3786"
            ],
            [
             0.5555555555555556,
             "#d8576b"
            ],
            [
             0.6666666666666666,
             "#ed7953"
            ],
            [
             0.7777777777777778,
             "#fb9f3a"
            ],
            [
             0.8888888888888888,
             "#fdca26"
            ],
            [
             1,
             "#f0f921"
            ]
           ],
           "sequentialminus": [
            [
             0,
             "#0d0887"
            ],
            [
             0.1111111111111111,
             "#46039f"
            ],
            [
             0.2222222222222222,
             "#7201a8"
            ],
            [
             0.3333333333333333,
             "#9c179e"
            ],
            [
             0.4444444444444444,
             "#bd3786"
            ],
            [
             0.5555555555555556,
             "#d8576b"
            ],
            [
             0.6666666666666666,
             "#ed7953"
            ],
            [
             0.7777777777777778,
             "#fb9f3a"
            ],
            [
             0.8888888888888888,
             "#fdca26"
            ],
            [
             1,
             "#f0f921"
            ]
           ]
          },
          "colorway": [
           "#636efa",
           "#EF553B",
           "#00cc96",
           "#ab63fa",
           "#FFA15A",
           "#19d3f3",
           "#FF6692",
           "#B6E880",
           "#FF97FF",
           "#FECB52"
          ],
          "font": {
           "color": "#2a3f5f"
          },
          "geo": {
           "bgcolor": "white",
           "lakecolor": "white",
           "landcolor": "#E5ECF6",
           "showlakes": true,
           "showland": true,
           "subunitcolor": "white"
          },
          "hoverlabel": {
           "align": "left"
          },
          "hovermode": "closest",
          "mapbox": {
           "style": "light"
          },
          "paper_bgcolor": "white",
          "plot_bgcolor": "#E5ECF6",
          "polar": {
           "angularaxis": {
            "gridcolor": "white",
            "linecolor": "white",
            "ticks": ""
           },
           "bgcolor": "#E5ECF6",
           "radialaxis": {
            "gridcolor": "white",
            "linecolor": "white",
            "ticks": ""
           }
          },
          "scene": {
           "xaxis": {
            "backgroundcolor": "#E5ECF6",
            "gridcolor": "white",
            "gridwidth": 2,
            "linecolor": "white",
            "showbackground": true,
            "ticks": "",
            "zerolinecolor": "white"
           },
           "yaxis": {
            "backgroundcolor": "#E5ECF6",
            "gridcolor": "white",
            "gridwidth": 2,
            "linecolor": "white",
            "showbackground": true,
            "ticks": "",
            "zerolinecolor": "white"
           },
           "zaxis": {
            "backgroundcolor": "#E5ECF6",
            "gridcolor": "white",
            "gridwidth": 2,
            "linecolor": "white",
            "showbackground": true,
            "ticks": "",
            "zerolinecolor": "white"
           }
          },
          "shapedefaults": {
           "line": {
            "color": "#2a3f5f"
           }
          },
          "ternary": {
           "aaxis": {
            "gridcolor": "white",
            "linecolor": "white",
            "ticks": ""
           },
           "baxis": {
            "gridcolor": "white",
            "linecolor": "white",
            "ticks": ""
           },
           "bgcolor": "#E5ECF6",
           "caxis": {
            "gridcolor": "white",
            "linecolor": "white",
            "ticks": ""
           }
          },
          "title": {
           "x": 0.05
          },
          "xaxis": {
           "automargin": true,
           "gridcolor": "white",
           "linecolor": "white",
           "ticks": "",
           "title": {
            "standoff": 15
           },
           "zerolinecolor": "white",
           "zerolinewidth": 2
          },
          "yaxis": {
           "automargin": true,
           "gridcolor": "white",
           "linecolor": "white",
           "ticks": "",
           "title": {
            "standoff": 15
           },
           "zerolinecolor": "white",
           "zerolinewidth": 2
          }
         }
        }
       }
      }
     },
     "metadata": {}
    }
   ],
   "source": [
    "# All Bike Stations\n",
    "\n",
    "fig = px.scatter_mapbox(all_stations,\n",
    "                    lat='lat',\n",
    "                    lon='lon',\n",
    "                    hover_name=\"street\",\n",
    "                    zoom=9)\n",
    "fig.update_layout(mapbox_style=\"open-street-map\")\n",
    "#fig.update_layout(title = 'All Bike Stations')\n",
    "fig.update_layout(margin={\"r\":0,\"t\":0,\"l\":0,\"b\":0})\n",
    "fig.show()"
   ]
  },
  {
   "cell_type": "code",
   "execution_count": 164,
   "metadata": {},
   "outputs": [
    {
     "output_type": "display_data",
     "data": {
      "application/vnd.plotly.v1+json": {
       "config": {
        "plotlyServerURL": "https://plot.ly"
       },
       "data": [
        {
         "hovertemplate": "<b>%{hovertext}</b><br><br>lat=%{lat}<br>lon=%{lon}<extra></extra>",
         "hovertext": [
          "16th & Harvard St NW",
          "Ward Circle / American University",
          "Wisconsin Ave & Newark St NW",
          "10th & Monroe St NE",
          "4th & East Capitol St NE",
          "Branch & Pennsylvania Ave SE",
          "Wilson Blvd & N Uhle St",
          "Clarendon Metro / Wilson Blvd & N Highland St",
          "N Quincy St & Glebe Rd",
          "N Veitch St & 20th St N",
          "N Veitch St & Key Blvd",
          "8th & East Capitol St NE",
          "Columbia Pike & S Walter Reed Dr",
          "Carroll & Ethan Allen Ave",
          "Yuma St & Tenley Circle NW",
          "Lee Hwy & N Woodstock St",
          "19th & Savannah St SE",
          "Wilson Blvd & N Oak St",
          "53rd & D St SE/C.W. Harris Elementary"
         ],
         "lat": [
          38.926088,
          38.938736,
          38.934881,
          38.932514,
          38.889955,
          38.8692,
          38.891696,
          38.88786,
          38.876393,
          38.896923,
          38.893237,
          38.889988,
          38.862478,
          38.977933,
          38.946182,
          38.898301,
          38.84623,
          38.895068,
          38.883318
         ],
         "legendgroup": "",
         "lon": [
          -77.036536,
          -77.087171,
          -77.072755,
          -76.992889,
          -77.000349,
          -76.9599,
          -77.0846,
          -77.094875,
          -77.107735,
          -77.086502,
          -77.086063,
          -76.995193,
          -77.086599,
          -77.006472,
          -77.08059,
          -77.118009,
          -76.97703,
          -77.07386,
          -76.925315
         ],
         "marker": {
          "color": "red"
         },
         "mode": "markers",
         "name": "",
         "showlegend": false,
         "subplot": "mapbox",
         "type": "scattermapbox"
        }
       ],
       "layout": {
        "legend": {
         "tracegroupgap": 0
        },
        "mapbox": {
         "center": {
          "lat": 38.90194636842105,
          "lon": -77.04591805263158
         },
         "domain": {
          "x": [
           0,
           1
          ],
          "y": [
           0,
           1
          ]
         },
         "style": "open-street-map",
         "zoom": 10
        },
        "margin": {
         "b": 0,
         "l": 0,
         "r": 0,
         "t": 0
        },
        "template": {
         "data": {
          "bar": [
           {
            "error_x": {
             "color": "#2a3f5f"
            },
            "error_y": {
             "color": "#2a3f5f"
            },
            "marker": {
             "line": {
              "color": "#E5ECF6",
              "width": 0.5
             }
            },
            "type": "bar"
           }
          ],
          "barpolar": [
           {
            "marker": {
             "line": {
              "color": "#E5ECF6",
              "width": 0.5
             }
            },
            "type": "barpolar"
           }
          ],
          "carpet": [
           {
            "aaxis": {
             "endlinecolor": "#2a3f5f",
             "gridcolor": "white",
             "linecolor": "white",
             "minorgridcolor": "white",
             "startlinecolor": "#2a3f5f"
            },
            "baxis": {
             "endlinecolor": "#2a3f5f",
             "gridcolor": "white",
             "linecolor": "white",
             "minorgridcolor": "white",
             "startlinecolor": "#2a3f5f"
            },
            "type": "carpet"
           }
          ],
          "choropleth": [
           {
            "colorbar": {
             "outlinewidth": 0,
             "ticks": ""
            },
            "type": "choropleth"
           }
          ],
          "contour": [
           {
            "colorbar": {
             "outlinewidth": 0,
             "ticks": ""
            },
            "colorscale": [
             [
              0,
              "#0d0887"
             ],
             [
              0.1111111111111111,
              "#46039f"
             ],
             [
              0.2222222222222222,
              "#7201a8"
             ],
             [
              0.3333333333333333,
              "#9c179e"
             ],
             [
              0.4444444444444444,
              "#bd3786"
             ],
             [
              0.5555555555555556,
              "#d8576b"
             ],
             [
              0.6666666666666666,
              "#ed7953"
             ],
             [
              0.7777777777777778,
              "#fb9f3a"
             ],
             [
              0.8888888888888888,
              "#fdca26"
             ],
             [
              1,
              "#f0f921"
             ]
            ],
            "type": "contour"
           }
          ],
          "contourcarpet": [
           {
            "colorbar": {
             "outlinewidth": 0,
             "ticks": ""
            },
            "type": "contourcarpet"
           }
          ],
          "heatmap": [
           {
            "colorbar": {
             "outlinewidth": 0,
             "ticks": ""
            },
            "colorscale": [
             [
              0,
              "#0d0887"
             ],
             [
              0.1111111111111111,
              "#46039f"
             ],
             [
              0.2222222222222222,
              "#7201a8"
             ],
             [
              0.3333333333333333,
              "#9c179e"
             ],
             [
              0.4444444444444444,
              "#bd3786"
             ],
             [
              0.5555555555555556,
              "#d8576b"
             ],
             [
              0.6666666666666666,
              "#ed7953"
             ],
             [
              0.7777777777777778,
              "#fb9f3a"
             ],
             [
              0.8888888888888888,
              "#fdca26"
             ],
             [
              1,
              "#f0f921"
             ]
            ],
            "type": "heatmap"
           }
          ],
          "heatmapgl": [
           {
            "colorbar": {
             "outlinewidth": 0,
             "ticks": ""
            },
            "colorscale": [
             [
              0,
              "#0d0887"
             ],
             [
              0.1111111111111111,
              "#46039f"
             ],
             [
              0.2222222222222222,
              "#7201a8"
             ],
             [
              0.3333333333333333,
              "#9c179e"
             ],
             [
              0.4444444444444444,
              "#bd3786"
             ],
             [
              0.5555555555555556,
              "#d8576b"
             ],
             [
              0.6666666666666666,
              "#ed7953"
             ],
             [
              0.7777777777777778,
              "#fb9f3a"
             ],
             [
              0.8888888888888888,
              "#fdca26"
             ],
             [
              1,
              "#f0f921"
             ]
            ],
            "type": "heatmapgl"
           }
          ],
          "histogram": [
           {
            "marker": {
             "colorbar": {
              "outlinewidth": 0,
              "ticks": ""
             }
            },
            "type": "histogram"
           }
          ],
          "histogram2d": [
           {
            "colorbar": {
             "outlinewidth": 0,
             "ticks": ""
            },
            "colorscale": [
             [
              0,
              "#0d0887"
             ],
             [
              0.1111111111111111,
              "#46039f"
             ],
             [
              0.2222222222222222,
              "#7201a8"
             ],
             [
              0.3333333333333333,
              "#9c179e"
             ],
             [
              0.4444444444444444,
              "#bd3786"
             ],
             [
              0.5555555555555556,
              "#d8576b"
             ],
             [
              0.6666666666666666,
              "#ed7953"
             ],
             [
              0.7777777777777778,
              "#fb9f3a"
             ],
             [
              0.8888888888888888,
              "#fdca26"
             ],
             [
              1,
              "#f0f921"
             ]
            ],
            "type": "histogram2d"
           }
          ],
          "histogram2dcontour": [
           {
            "colorbar": {
             "outlinewidth": 0,
             "ticks": ""
            },
            "colorscale": [
             [
              0,
              "#0d0887"
             ],
             [
              0.1111111111111111,
              "#46039f"
             ],
             [
              0.2222222222222222,
              "#7201a8"
             ],
             [
              0.3333333333333333,
              "#9c179e"
             ],
             [
              0.4444444444444444,
              "#bd3786"
             ],
             [
              0.5555555555555556,
              "#d8576b"
             ],
             [
              0.6666666666666666,
              "#ed7953"
             ],
             [
              0.7777777777777778,
              "#fb9f3a"
             ],
             [
              0.8888888888888888,
              "#fdca26"
             ],
             [
              1,
              "#f0f921"
             ]
            ],
            "type": "histogram2dcontour"
           }
          ],
          "mesh3d": [
           {
            "colorbar": {
             "outlinewidth": 0,
             "ticks": ""
            },
            "type": "mesh3d"
           }
          ],
          "parcoords": [
           {
            "line": {
             "colorbar": {
              "outlinewidth": 0,
              "ticks": ""
             }
            },
            "type": "parcoords"
           }
          ],
          "pie": [
           {
            "automargin": true,
            "type": "pie"
           }
          ],
          "scatter": [
           {
            "marker": {
             "colorbar": {
              "outlinewidth": 0,
              "ticks": ""
             }
            },
            "type": "scatter"
           }
          ],
          "scatter3d": [
           {
            "line": {
             "colorbar": {
              "outlinewidth": 0,
              "ticks": ""
             }
            },
            "marker": {
             "colorbar": {
              "outlinewidth": 0,
              "ticks": ""
             }
            },
            "type": "scatter3d"
           }
          ],
          "scattercarpet": [
           {
            "marker": {
             "colorbar": {
              "outlinewidth": 0,
              "ticks": ""
             }
            },
            "type": "scattercarpet"
           }
          ],
          "scattergeo": [
           {
            "marker": {
             "colorbar": {
              "outlinewidth": 0,
              "ticks": ""
             }
            },
            "type": "scattergeo"
           }
          ],
          "scattergl": [
           {
            "marker": {
             "colorbar": {
              "outlinewidth": 0,
              "ticks": ""
             }
            },
            "type": "scattergl"
           }
          ],
          "scattermapbox": [
           {
            "marker": {
             "colorbar": {
              "outlinewidth": 0,
              "ticks": ""
             }
            },
            "type": "scattermapbox"
           }
          ],
          "scatterpolar": [
           {
            "marker": {
             "colorbar": {
              "outlinewidth": 0,
              "ticks": ""
             }
            },
            "type": "scatterpolar"
           }
          ],
          "scatterpolargl": [
           {
            "marker": {
             "colorbar": {
              "outlinewidth": 0,
              "ticks": ""
             }
            },
            "type": "scatterpolargl"
           }
          ],
          "scatterternary": [
           {
            "marker": {
             "colorbar": {
              "outlinewidth": 0,
              "ticks": ""
             }
            },
            "type": "scatterternary"
           }
          ],
          "surface": [
           {
            "colorbar": {
             "outlinewidth": 0,
             "ticks": ""
            },
            "colorscale": [
             [
              0,
              "#0d0887"
             ],
             [
              0.1111111111111111,
              "#46039f"
             ],
             [
              0.2222222222222222,
              "#7201a8"
             ],
             [
              0.3333333333333333,
              "#9c179e"
             ],
             [
              0.4444444444444444,
              "#bd3786"
             ],
             [
              0.5555555555555556,
              "#d8576b"
             ],
             [
              0.6666666666666666,
              "#ed7953"
             ],
             [
              0.7777777777777778,
              "#fb9f3a"
             ],
             [
              0.8888888888888888,
              "#fdca26"
             ],
             [
              1,
              "#f0f921"
             ]
            ],
            "type": "surface"
           }
          ],
          "table": [
           {
            "cells": {
             "fill": {
              "color": "#EBF0F8"
             },
             "line": {
              "color": "white"
             }
            },
            "header": {
             "fill": {
              "color": "#C8D4E3"
             },
             "line": {
              "color": "white"
             }
            },
            "type": "table"
           }
          ]
         },
         "layout": {
          "annotationdefaults": {
           "arrowcolor": "#2a3f5f",
           "arrowhead": 0,
           "arrowwidth": 1
          },
          "autotypenumbers": "strict",
          "coloraxis": {
           "colorbar": {
            "outlinewidth": 0,
            "ticks": ""
           }
          },
          "colorscale": {
           "diverging": [
            [
             0,
             "#8e0152"
            ],
            [
             0.1,
             "#c51b7d"
            ],
            [
             0.2,
             "#de77ae"
            ],
            [
             0.3,
             "#f1b6da"
            ],
            [
             0.4,
             "#fde0ef"
            ],
            [
             0.5,
             "#f7f7f7"
            ],
            [
             0.6,
             "#e6f5d0"
            ],
            [
             0.7,
             "#b8e186"
            ],
            [
             0.8,
             "#7fbc41"
            ],
            [
             0.9,
             "#4d9221"
            ],
            [
             1,
             "#276419"
            ]
           ],
           "sequential": [
            [
             0,
             "#0d0887"
            ],
            [
             0.1111111111111111,
             "#46039f"
            ],
            [
             0.2222222222222222,
             "#7201a8"
            ],
            [
             0.3333333333333333,
             "#9c179e"
            ],
            [
             0.4444444444444444,
             "#bd3786"
            ],
            [
             0.5555555555555556,
             "#d8576b"
            ],
            [
             0.6666666666666666,
             "#ed7953"
            ],
            [
             0.7777777777777778,
             "#fb9f3a"
            ],
            [
             0.8888888888888888,
             "#fdca26"
            ],
            [
             1,
             "#f0f921"
            ]
           ],
           "sequentialminus": [
            [
             0,
             "#0d0887"
            ],
            [
             0.1111111111111111,
             "#46039f"
            ],
            [
             0.2222222222222222,
             "#7201a8"
            ],
            [
             0.3333333333333333,
             "#9c179e"
            ],
            [
             0.4444444444444444,
             "#bd3786"
            ],
            [
             0.5555555555555556,
             "#d8576b"
            ],
            [
             0.6666666666666666,
             "#ed7953"
            ],
            [
             0.7777777777777778,
             "#fb9f3a"
            ],
            [
             0.8888888888888888,
             "#fdca26"
            ],
            [
             1,
             "#f0f921"
            ]
           ]
          },
          "colorway": [
           "#636efa",
           "#EF553B",
           "#00cc96",
           "#ab63fa",
           "#FFA15A",
           "#19d3f3",
           "#FF6692",
           "#B6E880",
           "#FF97FF",
           "#FECB52"
          ],
          "font": {
           "color": "#2a3f5f"
          },
          "geo": {
           "bgcolor": "white",
           "lakecolor": "white",
           "landcolor": "#E5ECF6",
           "showlakes": true,
           "showland": true,
           "subunitcolor": "white"
          },
          "hoverlabel": {
           "align": "left"
          },
          "hovermode": "closest",
          "mapbox": {
           "style": "light"
          },
          "paper_bgcolor": "white",
          "plot_bgcolor": "#E5ECF6",
          "polar": {
           "angularaxis": {
            "gridcolor": "white",
            "linecolor": "white",
            "ticks": ""
           },
           "bgcolor": "#E5ECF6",
           "radialaxis": {
            "gridcolor": "white",
            "linecolor": "white",
            "ticks": ""
           }
          },
          "scene": {
           "xaxis": {
            "backgroundcolor": "#E5ECF6",
            "gridcolor": "white",
            "gridwidth": 2,
            "linecolor": "white",
            "showbackground": true,
            "ticks": "",
            "zerolinecolor": "white"
           },
           "yaxis": {
            "backgroundcolor": "#E5ECF6",
            "gridcolor": "white",
            "gridwidth": 2,
            "linecolor": "white",
            "showbackground": true,
            "ticks": "",
            "zerolinecolor": "white"
           },
           "zaxis": {
            "backgroundcolor": "#E5ECF6",
            "gridcolor": "white",
            "gridwidth": 2,
            "linecolor": "white",
            "showbackground": true,
            "ticks": "",
            "zerolinecolor": "white"
           }
          },
          "shapedefaults": {
           "line": {
            "color": "#2a3f5f"
           }
          },
          "ternary": {
           "aaxis": {
            "gridcolor": "white",
            "linecolor": "white",
            "ticks": ""
           },
           "baxis": {
            "gridcolor": "white",
            "linecolor": "white",
            "ticks": ""
           },
           "bgcolor": "#E5ECF6",
           "caxis": {
            "gridcolor": "white",
            "linecolor": "white",
            "ticks": ""
           }
          },
          "title": {
           "x": 0.05
          },
          "xaxis": {
           "automargin": true,
           "gridcolor": "white",
           "linecolor": "white",
           "ticks": "",
           "title": {
            "standoff": 15
           },
           "zerolinecolor": "white",
           "zerolinewidth": 2
          },
          "yaxis": {
           "automargin": true,
           "gridcolor": "white",
           "linecolor": "white",
           "ticks": "",
           "title": {
            "standoff": 15
           },
           "zerolinecolor": "white",
           "zerolinewidth": 2
          }
         }
        }
       }
      }
     },
     "metadata": {}
    }
   ],
   "source": [
    "# Empty Bike Stations\n",
    "\n",
    "fig = px.scatter_mapbox(bike_empty_stat,\n",
    "                    lat='lat',\n",
    "                    lon='lon',\n",
    "                    hover_name=\"street\",\n",
    "                    color_discrete_sequence=['red'],\n",
    "                    zoom=10)\n",
    "fig.update_layout(mapbox_style=\"open-street-map\")\n",
    "#fig.update_layout(title = 'All Bike Stations')\n",
    "fig.update_layout(margin={\"r\":0,\"t\":0,\"l\":0,\"b\":0})\n",
    "fig.show()"
   ]
  },
  {
   "cell_type": "code",
   "execution_count": 163,
   "metadata": {},
   "outputs": [
    {
     "output_type": "execute_result",
     "data": {
      "text/plain": [
       "[{'short_name': '31000',\n",
       "  'rental_uris': {'ios': 'https://dc.lft.to/lastmile_qr_scan',\n",
       "   'android': 'https://dc.lft.to/lastmile_qr_scan'},\n",
       "  'capacity': 15,\n",
       "  'external_id': '082469cc-1f3f-11e7-bf6b-3863bb334450',\n",
       "  'eightd_station_services': [],\n",
       "  'electric_bike_surcharge_waiver': False,\n",
       "  'name': 'Eads St & 15th St S',\n",
       "  'lat': 38.858971,\n",
       "  'station_id': '1',\n",
       "  'eightd_has_key_dispenser': False,\n",
       "  'lon': -77.05323,\n",
       "  'has_kiosk': True,\n",
       "  'region_id': '41',\n",
       "  'rental_methods': ['KEY', 'CREDITCARD'],\n",
       "  'legacy_id': '1',\n",
       "  'station_type': 'classic'},\n",
       " {'short_name': '31001',\n",
       "  'rental_uris': {'ios': 'https://dc.lft.to/lastmile_qr_scan',\n",
       "   'android': 'https://dc.lft.to/lastmile_qr_scan'},\n",
       "  'capacity': 11,\n",
       "  'external_id': '08246b69-1f3f-11e7-bf6b-3863bb334450',\n",
       "  'eightd_station_services': [],\n",
       "  'electric_bike_surcharge_waiver': False,\n",
       "  'name': '18th St & S Eads St',\n",
       "  'lat': 38.85725,\n",
       "  'station_id': '2',\n",
       "  'eightd_has_key_dispenser': False,\n",
       "  'lon': -77.05332,\n",
       "  'has_kiosk': True,\n",
       "  'region_id': '41',\n",
       "  'rental_methods': ['KEY', 'CREDITCARD'],\n",
       "  'legacy_id': '2',\n",
       "  'station_type': 'classic'}]"
      ]
     },
     "metadata": {},
     "execution_count": 163
    }
   ],
   "source": [
    "d_station_information.data[0][0:2]"
   ]
  },
  {
   "cell_type": "code",
   "execution_count": null,
   "metadata": {},
   "outputs": [],
   "source": []
  }
 ]
}