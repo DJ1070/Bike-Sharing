{
 "metadata": {
  "language_info": {
   "codemirror_mode": {
    "name": "ipython",
    "version": 3
   },
   "file_extension": ".py",
   "mimetype": "text/x-python",
   "name": "python",
   "nbconvert_exporter": "python",
   "pygments_lexer": "ipython3",
   "version": "3.8.5-final"
  },
  "orig_nbformat": 2,
  "kernelspec": {
   "name": "python3",
   "display_name": "Python 3",
   "language": "python"
  }
 },
 "nbformat": 4,
 "nbformat_minor": 2,
 "cells": [
  {
   "cell_type": "code",
   "execution_count": 27,
   "metadata": {},
   "outputs": [],
   "source": [
    "import pandas as pd\n",
    "import numpy as np"
   ]
  },
  {
   "cell_type": "code",
   "execution_count": 28,
   "metadata": {},
   "outputs": [
    {
     "output_type": "execute_result",
     "data": {
      "text/plain": [
       "621"
      ]
     },
     "metadata": {},
     "execution_count": 28
    }
   ],
   "source": [
    "#d = pd.read_json(\"station_information.json\")\n",
    "d_station_information = pd.read_json('https://gbfs.capitalbikeshare.com/gbfs/en/station_information.json')\n",
    "d = pd.read_json('https://gbfs.capitalbikeshare.com/gbfs/en/station_status.json')\n",
    "len(d_station_information.data['stations'])"
   ]
  },
  {
   "cell_type": "code",
   "execution_count": 29,
   "metadata": {},
   "outputs": [
    {
     "output_type": "execute_result",
     "data": {
      "text/plain": [
       "621"
      ]
     },
     "metadata": {},
     "execution_count": 29
    }
   ],
   "source": [
    "len(d.data[0])"
   ]
  },
  {
   "cell_type": "code",
   "execution_count": 30,
   "metadata": {},
   "outputs": [
    {
     "output_type": "execute_result",
     "data": {
      "text/plain": [
       "{'is_installed': 1,\n",
       " 'is_renting': 1,\n",
       " 'station_id': '1',\n",
       " 'num_bikes_disabled': 0,\n",
       " 'eightd_has_available_keys': False,\n",
       " 'num_bikes_available': 3,\n",
       " 'last_reported': 1611393212,\n",
       " 'num_docks_disabled': 0,\n",
       " 'legacy_id': '1',\n",
       " 'station_status': 'active',\n",
       " 'num_docks_available': 12,\n",
       " 'num_ebikes_available': 0,\n",
       " 'is_returning': 1}"
      ]
     },
     "metadata": {},
     "execution_count": 30
    }
   ],
   "source": [
    "d.data[0][0]"
   ]
  },
  {
   "cell_type": "code",
   "execution_count": 31,
   "metadata": {},
   "outputs": [
    {
     "output_type": "stream",
     "name": "stdout",
     "text": [
      "Available Bikes:  4636\nAvailable E-Bikes:  231\n"
     ]
    }
   ],
   "source": [
    "av_bikes = []\n",
    "av_e_bikes = []\n",
    "for i in range(len(d.data[0])):\n",
    "    av_bikes.append(d.data[0][i]['num_bikes_available'])\n",
    "    av_e_bikes.append(d.data[0][i]['num_ebikes_available'])\n",
    "print('Available Bikes: ', pd.Series(av_bikes).sum())\n",
    "print('Available E-Bikes: ', pd.Series(av_e_bikes).sum())"
   ]
  },
  {
   "cell_type": "code",
   "execution_count": 32,
   "metadata": {},
   "outputs": [],
   "source": [
    "#d.data['stations'][0]['num_bikes_available']"
   ]
  },
  {
   "cell_type": "code",
   "execution_count": 33,
   "metadata": {},
   "outputs": [
    {
     "output_type": "stream",
     "name": "stdout",
     "text": [
      "Active Stations:  621\n"
     ]
    }
   ],
   "source": [
    "active_station = []\n",
    "for i in range(len(d.data[0])):\n",
    "    active_station.append(d.data[0][i]['is_renting'])\n",
    "print('Active Stations: ', pd.Series(active_station).sum())"
   ]
  },
  {
   "cell_type": "code",
   "execution_count": 34,
   "metadata": {},
   "outputs": [
    {
     "output_type": "stream",
     "name": "stdout",
     "text": [
      "Stations with 0 bikes available:  22\nStations with 0 e-bikes available:  465\n"
     ]
    }
   ],
   "source": [
    "print('Stations with 0 bikes available: ',av_bikes.count(0))\n",
    "print('Stations with 0 e-bikes available: ',av_e_bikes.count(0))"
   ]
  },
  {
   "cell_type": "code",
   "execution_count": 35,
   "metadata": {},
   "outputs": [
    {
     "output_type": "stream",
     "name": "stdout",
     "text": [
      "Available Bikes in Active Stations:  4636\n",
      "Available E-Bikes in Active Stations:  231\n",
      "Active Stations:  621\n",
      "Inactive Station IDs:  []\n"
     ]
    }
   ],
   "source": [
    "# Evaluation: How many bikes and e-bikes are available at ACTIVE stations?\n",
    "# (We learn that the given data for all available (e-)bikes always equals the available (e-)bikes at active stations.)\n",
    "\n",
    "bikes_active_stations = []\n",
    "e_bikes_active_stations = []\n",
    "stat = []\n",
    "inactive_station_id = []\n",
    "for i in range(len(d.data[0])):\n",
    "    if d.data[0][i]['is_renting'] == 1:\n",
    "        bikes_active_stations.append(d.data[0][i]['num_bikes_available'])\n",
    "        e_bikes_active_stations.append(d.data[0][i]['num_ebikes_available'])\n",
    "        stat.append(d.data[0][i]['is_renting'])\n",
    "    else:\n",
    "        inactive_station_id.append(d.data[0][i]['station_id'])\n",
    "print('Available Bikes in Active Stations: ', pd.Series(av_bikes).sum())\n",
    "print('Available E-Bikes in Active Stations: ', pd.Series(av_e_bikes).sum())\n",
    "print('Active Stations: ', pd.Series(stat).count())\n",
    "print('Inactive Station IDs: ', inactive_station_id)"
   ]
  },
  {
   "cell_type": "code",
   "execution_count": 36,
   "metadata": {},
   "outputs": [
    {
     "output_type": "stream",
     "name": "stdout",
     "text": [
      "Number of stations without available bikes:  22\nNumber of stations without available e-bikes:  465\n"
     ]
    }
   ],
   "source": [
    "print('Number of active stations without available bikes: ', bikes_active_stations.count(0))\n",
    "print('Number of active stations without available e-bikes: ', e_bikes_active_stations.count(0))"
   ]
  },
  {
   "cell_type": "code",
   "execution_count": 37,
   "metadata": {},
   "outputs": [
    {
     "output_type": "stream",
     "name": "stdout",
     "text": [
      "Stations numbers without bikes:  ['8', '13', '17', '63', '89', '130', '140', '174', '177', '182', '255', '266', '288', '328', '400', '456', '464', '465', '487', '495', '507', '659']\nStations numbers without e-bikes:  ['1', '2', '3', '5', '6', '10', '11', '12', '14', '19', '20', '22', '23', '24', '27', '29', '30', '31', '32', '33', '34', '36', '37', '38', '40', '41', '42', '43', '44', '45', '46', '47', '48', '49', '51', '52', '53', '54', '55', '56', '58', '59', '61', '62', '64', '65', '69', '71', '72', '73', '74', '76', '77', '78', '79', '80', '81', '83', '86', '87', '88', '91', '92', '93', '94', '96', '97', '98', '99', '100', '101', '102', '103', '104', '105', '106', '107', '108', '110', '111', '112', '114', '115', '117', '118', '124', '125', '126', '127', '128', '129', '131', '132', '133', '134', '135', '136', '137', '138', '139', '141', '143', '144', '145', '146', '148', '150', '152', '153', '154', '155', '156', '158', '159', '160', '161', '163', '164', '167', '168', '169', '170', '175', '178', '180', '181', '183', '185', '186', '188', '189', '190', '191', '192', '193', '194', '195', '196', '197', '198', '199', '200', '201', '202', '203', '204', '208', '209', '211', '212', '213', '215', '216', '217', '218', '219', '222', '223', '224', '225', '227', '231', '233', '234', '235', '236', '237', '239', '240', '241', '242', '243', '244', '246', '251', '252', '253', '254', '257', '260', '261', '262', '263', '264', '267', '269', '270', '272', '273', '274', '275', '277', '278', '279', '280', '282', '283', '284', '285', '286', '287', '293', '294', '295', '296', '298', '299', '301', '302', '303', '305', '306', '307', '308', '309', '310', '311', '312', '313', '314', '315', '316', '318', '322', '323', '324', '325', '327', '329', '330', '331', '332', '333', '334', '336', '337', '339', '340', '341', '344', '346', '348', '349', '350', '351', '352', '353', '359', '364', '365', '367', '368', '369', '370', '373', '374', '375', '376', '378', '379', '381', '382', '384', '385', '386', '389', '390', '391', '392', '393', '395', '396', '399', '401', '403', '405', '406', '407', '408', '410', '411', '412', '413', '414', '416', '417', '419', '420', '422', '423', '424', '425', '427', '428', '429', '430', '432', '433', '434', '435', '436', '437', '438', '439', '441', '442', '443', '445', '447', '450', '451', '457', '459', '461', '463', '466', '467', '468', '470', '471', '472', '474', '475', '476', '477', '479', '480', '481', '482', '483', '485', '486', '488', '490', '491', '492', '493', '494', '496', '497', '498', '499', '500', '501', '505', '506', '508', '509', '511', '512', '513', '514', '515', '516', '517', '518', '519', '520', '521', '522', '523', '525', '529', '531', '536', '537', '538', '539', '541', '542', '543', '544', '545', '548', '550', '552', '553', '556', '560', '563', '565', '567', '568', '569', '570', '571', '573', '575', '577', '579', '580', '582', '584', '586', '587', '588', '589', '590', '593', '595', '596', '597', '598', '599', '601', '602', '603', '604', '606', '608', '609', '611', '613', '614', '615', '616', '617', '618', '619', '621', '622', '623', '624', '625', '626', '628', '630', '632', '633', '636', '638', '639', '640', '643', '645', '646', '649', '651', '652', '654', '655', '656', '657']\n"
     ]
    }
   ],
   "source": [
    "# Which are the stations without available (e-)bikes?\n",
    "\n",
    "bike_empty_stat_id = []\n",
    "e_bike_empty_stat_id = []\n",
    "for i in range(len(d.data[0])):\n",
    "    if d.data[0][i]['num_bikes_available'] == 0:\n",
    "        bike_empty_stat_id.append(d.data[0][i]['station_id'])\n",
    "    elif d.data[0][i]['num_ebikes_available'] == 0:\n",
    "        e_bike_empty_stat_id.append(d.data[0][i]['station_id'])\n",
    "\n",
    "print('Stations numbers without bikes: ', bike_empty_stat_id)\n",
    "print('Stations numbers without e-bikes: ', e_bike_empty_stat_id)"
   ]
  },
  {
   "cell_type": "code",
   "execution_count": 38,
   "metadata": {},
   "outputs": [
    {
     "output_type": "execute_result",
     "data": {
      "text/plain": [
       "{'classic'}"
      ]
     },
     "metadata": {},
     "execution_count": 38
    }
   ],
   "source": [
    "# Check: Which (different) data does \"station_type\" contain?\n",
    "# Ignore if there's no difference between bikes and e-bikes.\n",
    "\n",
    "a = []\n",
    "for i in range(len(d_station_information.data[0])):\n",
    "    a.append(d_station_information.data[0][i]['station_type'])\n",
    "\n",
    "b = set(a)\n",
    "b"
   ]
  },
  {
   "cell_type": "code",
   "execution_count": 39,
   "metadata": {},
   "outputs": [
    {
     "output_type": "stream",
     "name": "stdout",
     "text": [
      "{'CREDITCARD', 'KEY'}\n"
     ]
    }
   ],
   "source": [
    "# Check: Which different payment types does \"rental_methods\" contain?\n",
    "\n",
    "payment_types = []\n",
    "for i in range(len(d_station_information.data[0])):\n",
    "    payment_types.append(d_station_information.data[0][i]['rental_methods'])\n",
    "\n",
    "payment_types = list(np.concatenate(payment_types).flat)\n",
    "unique_payment_values = set(payment_types)\n",
    "print(unique_payment_values)"
   ]
  },
  {
   "cell_type": "code",
   "execution_count": 40,
   "metadata": {},
   "outputs": [
    {
     "output_type": "execute_result",
     "data": {
      "text/plain": [
       "{'short_name': '31000',\n",
       " 'rental_uris': {'ios': 'https://dc.lft.to/lastmile_qr_scan',\n",
       "  'android': 'https://dc.lft.to/lastmile_qr_scan'},\n",
       " 'station_type': 'classic',\n",
       " 'eightd_has_key_dispenser': False,\n",
       " 'external_id': '082469cc-1f3f-11e7-bf6b-3863bb334450',\n",
       " 'region_id': '41',\n",
       " 'electric_bike_surcharge_waiver': False,\n",
       " 'station_id': '1',\n",
       " 'lat': 38.858971,\n",
       " 'rental_methods': ['KEY', 'CREDITCARD'],\n",
       " 'has_kiosk': True,\n",
       " 'capacity': 15,\n",
       " 'name': 'Eads St & 15th St S',\n",
       " 'lon': -77.05323,\n",
       " 'legacy_id': '1',\n",
       " 'eightd_station_services': []}"
      ]
     },
     "metadata": {},
     "execution_count": 40
    }
   ],
   "source": [
    "d_station_information.data[0][0]"
   ]
  },
  {
   "cell_type": "code",
   "execution_count": 41,
   "metadata": {
    "tags": []
   },
   "outputs": [],
   "source": [
    "# Getting the real station names for empty bike stands from https://gbfs.capitalbikeshare.com/gbfs/en/station_information.json\n",
    "\n",
    "bike_empty_stat_name = []\n",
    "e_bike_empty_stat_name = []\n",
    "\n",
    "for i in range(len(d_station_information.data[0])):\n",
    "    for j in bike_empty_stat_id:\n",
    "        j = int(j)\n",
    "        if j == int(d_station_information.data[0][i]['station_id']):\n",
    "            bike_empty_stat_name.append(d_station_information.data[0][i]['name'])\n",
    "\n",
    "for i in range(len(d_station_information.data[0])):\n",
    "    for k in e_bike_empty_stat_id:\n",
    "        k = int(k)\n",
    "        if k == int(d_station_information.data[0][i]['station_id']):\n",
    "            e_bike_empty_stat_name.append(d_station_information.data[0][i]['name'])\n",
    "\n",
    "# print('Stations names without bikes: ', bike_empty_stat_name)\n",
    "# print('Stations names without e-bikes: ', e_bike_empty_stat_name)"
   ]
  },
  {
   "cell_type": "code",
   "execution_count": 45,
   "metadata": {},
   "outputs": [
    {
     "output_type": "execute_result",
     "data": {
      "text/plain": [
       "['Crystal City Metro / 18th St & S Bell St',\n",
       " 'Clark St & 26th St S',\n",
       " '16th & Harvard St NW',\n",
       " 'Ward Circle / American University',\n",
       " 'D St & Maryland Ave NE',\n",
       " 'Wilson Blvd & N Uhle St',\n",
       " 'Clarendon Metro / Wilson Blvd & N Highland St',\n",
       " '15th St & N Scott St',\n",
       " 'Fairfax Dr & N Randolph St',\n",
       " 'GMU / Fairfax Dr & Kenmore St',\n",
       " 'Columbia Pike & S Walter Reed Dr',\n",
       " 'Frederick Ave & Horners Ln',\n",
       " 'Battery Ln & Trolley Trail',\n",
       " 'Bethesda Metro / Wisconsin Ave & Old Georgetown Rd',\n",
       " \"10th St & L'Enfant Plaza SW\",\n",
       " 'Carlin Springs Rd & N Thomas St',\n",
       " 'Amherst Ave & Prichard Rd',\n",
       " 'Grandview & Blueridge Ave',\n",
       " 'American University East Campus',\n",
       " '19th & Savannah St SE',\n",
       " 'Blueridge Ave & Elkin St',\n",
       " '53rd & D St SE/C.W. Harris Elementary']"
      ]
     },
     "metadata": {},
     "execution_count": 45
    }
   ],
   "source": [
    "# Stations names without bikes:\n",
    "bike_empty_stat_name"
   ]
  },
  {
   "cell_type": "code",
   "execution_count": 43,
   "metadata": {},
   "outputs": [
    {
     "output_type": "execute_result",
     "data": {
      "text/plain": [
       "['Eads St & 15th St S',\n",
       " '18th St & S Eads St',\n",
       " 'Crystal Dr & 20th St S',\n",
       " 'Aurora Hills Cmty Ctr / 18th St & S Hayes St',\n",
       " 'Pentagon City Metro / 12th St & S Hayes St',\n",
       " 'Crystal Dr & 27th St S',\n",
       " 'S Glebe Rd & Potomac Ave',\n",
       " 'Crystal Dr & 23rd St S',\n",
       " '19th St & Pennsylvania Ave NW',\n",
       " '14th & Harvard St NW',\n",
       " 'Calvert & Biltmore St NW',\n",
       " '4th & M St SW',\n",
       " '15th & P St NW',\n",
       " '14th & R St NW',\n",
       " '21st & I St NW',\n",
       " '14th St & Spring Rd NW',\n",
       " 'John McCormack Dr & Michigan Ave NE',\n",
       " '5th & K St NW',\n",
       " '19th & East Capitol St SE',\n",
       " 'Park Rd & Holmead Pl NW',\n",
       " 'Good Hope & Naylor Rd SE',\n",
       " 'Randle Circle & Minnesota Ave SE',\n",
       " 'Minnesota Ave Metro/DOES',\n",
       " 'Nannie Helen Burroughs & Minnesota Ave NE',\n",
       " 'Good Hope Rd & MLK Ave SE',\n",
       " '19th & E Street NW',\n",
       " '4th & W St NE',\n",
       " '10th & U St NW',\n",
       " 'Georgia Ave and Fairmont St NW',\n",
       " '1st & N St  SE',\n",
       " '20th St & Florida Ave NW',\n",
       " '7th & T St NW',\n",
       " 'Eads St & 22nd St S',\n",
       " 'M St & New Jersey Ave SE',\n",
       " 'Massachusetts Ave & Dupont Circle NW',\n",
       " '1st & M St NE',\n",
       " 'New Hampshire Ave & Ward Pl NW',\n",
       " '17th & K St NW',\n",
       " '3rd & H St NW',\n",
       " '3rd & D St SE',\n",
       " '13th & E St SE',\n",
       " '17th & Corcoran St NW',\n",
       " 'Florida Ave & R St NW',\n",
       " '8th & Eye St SE / Barracks Row',\n",
       " 'Wisconsin Ave & Newark St NW',\n",
       " '14th St Heights / 14th & Crittenden St NW',\n",
       " '14th St & New York Ave NW',\n",
       " 'USDA / 12th & C St SW',\n",
       " 'Georgetown Harbor / 30th St NW',\n",
       " '12th & Newton St NE',\n",
       " 'US Dept of State / Virginia Ave & 21st St NW',\n",
       " '10th St & Constitution Ave NW',\n",
       " 'Kennedy Center',\n",
       " 'Eastern Market Metro / Pennsylvania Ave & 8th St SE',\n",
       " '18th & M St NW',\n",
       " 'Tenleytown / Wisconsin Ave & Albemarle St NW',\n",
       " '13th & H St NE',\n",
       " 'New York Ave & 15th St NW',\n",
       " '18th & L St NW',\n",
       " 'C & O Canal & Wisconsin Ave NW',\n",
       " 'Maine Ave & 7th St SW',\n",
       " '13th St & New York Ave NW',\n",
       " '8th & H St NW',\n",
       " '10th & Monroe St NE',\n",
       " 'Eckington Pl & Q St NE',\n",
       " '3rd & H St NE',\n",
       " 'Bladensburg Rd & Benning Rd NE',\n",
       " '4th & East Capitol St NE',\n",
       " 'Lincoln Park / 13th & East Capitol St NE ',\n",
       " 'Branch & Pennsylvania Ave SE',\n",
       " '13th & D St NE',\n",
       " 'New Hampshire Ave & T St NW',\n",
       " 'Metro Center / 12th & G St NW',\n",
       " '14th & D St NW / Ronald Reagan Building',\n",
       " '7th & F St NW / National Portrait Gallery',\n",
       " '17th & K St NW / Farragut Square',\n",
       " '20th & O St NW / Dupont South',\n",
       " '4th & D St NW / Judiciary Square',\n",
       " '37th & O St NW / Georgetown University',\n",
       " '11th & H St NE',\n",
       " '25th St & Pennsylvania Ave NW',\n",
       " 'North Capitol St & F St NW',\n",
       " '11th & M St NW',\n",
       " '14th & G St NW',\n",
       " 'Potomac Ave & 35th St S',\n",
       " 'Ohio Dr & West Basin Dr SW / MLK & FDR Memorials',\n",
       " '11th & F St NW',\n",
       " '23rd & E St NW ',\n",
       " 'Lynn St & 19th St North',\n",
       " 'Rosslyn Metro / Wilson Blvd & Ft Myer Dr',\n",
       " 'Clarendon Blvd & Pierce St',\n",
       " 'Rhodes St & 16th St N',\n",
       " 'Fairfax Village',\n",
       " '21st St & Constitution Ave NW',\n",
       " 'Wilson Blvd & N Edgewood St',\n",
       " 'Columbia Rd & Belmont St NW',\n",
       " 'Rhode Island & Connecticut Ave NW',\n",
       " 'Thomas Circle',\n",
       " 'Wilson Blvd & N Franklin Rd',\n",
       " 'Clarendon Blvd & N Fillmore St',\n",
       " '18th St & Pennsylvania Ave NW',\n",
       " '4th & E St SW',\n",
       " '3rd & G St SE',\n",
       " '7th & R St NW / Shaw Library',\n",
       " '9th & Upshur St NW',\n",
       " 'Columbia Rd & Georgia Ave NW',\n",
       " 'Benning Rd & East Capitol St NE / Benning Rd Metro',\n",
       " 'Anacostia Ave & Benning Rd NE / River Terrace ',\n",
       " 'M St & Pennsylvania Ave NW',\n",
       " '15th St & Massachusetts Ave SE',\n",
       " 'Congress Heights Metro',\n",
       " 'N Quincy St & Glebe Rd',\n",
       " 'N Veitch St & 20th St N',\n",
       " '10th & K St NW',\n",
       " 'Fairfax Dr & Wilson Blvd',\n",
       " 'Key Blvd & N Quinn St',\n",
       " '39th & Calvert St NW / Stoddert',\n",
       " '1st & Washington Hospital Center NW',\n",
       " 'Washington Blvd & 10th St N',\n",
       " 'Jefferson Dr & 14th St SW',\n",
       " 'Smithsonian-National Mall / Jefferson Dr & 12th St SW',\n",
       " 'George Mason Dr & Wilson Blvd',\n",
       " 'Washington Blvd & 7th St N',\n",
       " 'Jefferson Memorial',\n",
       " 'Glebe Rd & 11th St N',\n",
       " 'Wilson Blvd & N Quincy St',\n",
       " 'Gallaudet / 8th St & Florida Ave NE',\n",
       " '20th & L St NW',\n",
       " '12th & L St NW',\n",
       " '19th & K St NW',\n",
       " 'Prince St & Union St',\n",
       " 'Market Square / King St & Royal St',\n",
       " 'St Asaph & Pendleton St',\n",
       " 'King St & Patrick St',\n",
       " '15th & K St NW',\n",
       " 'Commerce St & Fayette St',\n",
       " 'Henry St & Pendleton St',\n",
       " 'Braddock Rd Metro',\n",
       " 'King St Metro South',\n",
       " '24th & N St NW',\n",
       " '10th & E St NW',\n",
       " '22nd & I St NW / Foggy Bottom',\n",
       " 'Utah St & 11th St N',\n",
       " 'Barton St & 10th St N',\n",
       " 'Arlington Blvd & N Queen St',\n",
       " 'Lincoln Memorial',\n",
       " '39th & Veazey St NW',\n",
       " 'Fessenden St & Wisconsin Ave NW',\n",
       " 'Columbia Pike & S Courthouse Rd',\n",
       " 'Wakefield High School',\n",
       " '28th St & S Meade St',\n",
       " '5th & Kennedy St NW',\n",
       " 'Georgia Ave & Emerson St NW',\n",
       " '14th & Upshur St NW',\n",
       " '14th St & Colorado Ave NW',\n",
       " 'Troy St & 26th St S',\n",
       " 'Four Mile Run Dr & S Walter Reed Dr',\n",
       " 'S Arlington Mill Dr & Campbell Ave',\n",
       " 'Kenmore St & 24th St S',\n",
       " '13th St & Eastern Ave',\n",
       " 'Roosevelt Island',\n",
       " '8th & East Capitol St NE',\n",
       " '15th & East Capitol St NE',\n",
       " '8th & F St NE',\n",
       " '18th St & Rhode Island Ave NE',\n",
       " '15th & F St NE',\n",
       " '12th & Irving St NE',\n",
       " 'Alabama & MLK Ave SE',\n",
       " 'Pleasant St & MLK Ave SE',\n",
       " 'Neal St & Trinidad Ave NE',\n",
       " '12th & U St NW',\n",
       " 'S George Mason & Four Mile Run Dr',\n",
       " 'Gravelly Point',\n",
       " 'Columbia Pike & S Orme St',\n",
       " 'Constitution Ave & 2nd St NW/DOL',\n",
       " 'Washington & Independence Ave SW/HHS',\n",
       " \"Independence Ave & L'Enfant Plaza SW/DOE\",\n",
       " 'Hamlin & 7th St NE',\n",
       " 'Pershing Dr & N George Mason Dr',\n",
       " 'Montgomery Ave & Waverly St ',\n",
       " 'Fallsgrove Blvd & Fallsgrove Dr',\n",
       " 'Traville Gateway Dr & Gudelsky Dr',\n",
       " 'Norfolk Ave & Fairmont St',\n",
       " 'E Montgomery Ave & Maryland Ave',\n",
       " 'Philadelphia & Maple Ave',\n",
       " 'Silver Spring Metro / Colesville Rd & Wayne Ave',\n",
       " 'Montgomery & East Ln',\n",
       " '14th & Belmont St NW',\n",
       " '3rd & Tingey St SE',\n",
       " '10th & Florida Ave NW',\n",
       " 'Potomac Ave & 8th St SE',\n",
       " 'Fallsgrove Dr & W Montgomery Ave',\n",
       " 'Monroe St & Monroe Pl',\n",
       " 'Needwood Rd & Eagles Head Ct',\n",
       " 'East West Hwy & Blair Mill Rd',\n",
       " '47th & Elm St',\n",
       " 'Dennis Ave & Amherst Ave',\n",
       " 'Montgomery College / W Campus Dr & Mannakee St',\n",
       " 'Fenton St & Gist Ave',\n",
       " 'Carroll & Westmoreland Ave',\n",
       " 'Carroll & Ethan Allen Ave',\n",
       " 'Fleet St & Ritchie Pkwy',\n",
       " 'Piccard & W Gude Dr',\n",
       " 'Silver Spring Transit Center - Top Level',\n",
       " 'Georgia Ave & Spring St',\n",
       " 'King Farm Blvd & Pleasant Dr',\n",
       " 'King Farm Blvd & Piccard Dr',\n",
       " 'Calvert St & Woodley Pl NW',\n",
       " 'New Jersey Ave & N St NW/Dunbar HS',\n",
       " 'Nannie Helen Burroughs Ave & 49th St NE',\n",
       " 'Hains Point/Buckeye & Ohio Dr SW',\n",
       " 'Arlington Blvd & Fillmore St',\n",
       " 'Eads St & 12th St S',\n",
       " 'Old Georgetown Rd & Southwick St',\n",
       " 'Friendship Blvd & Willard Ave',\n",
       " 'North Capitol St & G Pl NE',\n",
       " '31st St & S Woodrow St',\n",
       " 'Washington Blvd & Walter Reed Dr ',\n",
       " 'TJ Cmty Ctr / 2nd St & S Old Glebe Rd',\n",
       " 'Connecticut Ave & Tilden St NW',\n",
       " 'Medical Center Dr & Key West Ave',\n",
       " 'Shady Grove Hospital',\n",
       " 'Rockville Metro East',\n",
       " 'Rhode Island Ave Metro',\n",
       " 'Rolfe St & 9th St S',\n",
       " 'Shirlington Transit Center / Quincy St & Randolph St',\n",
       " 'Shady Grove Metro West',\n",
       " 'Rockville Metro West',\n",
       " 'Iwo Jima Memorial / Meade & 14th St N',\n",
       " '34th & Water St NW',\n",
       " 'Duke St & John Carlyle St',\n",
       " 'Lee Hwy & N Cleveland St',\n",
       " 'Arlington Blvd & S George Mason Dr',\n",
       " '10th & G St NW',\n",
       " 'New Hampshire Ave & 24th St NW',\n",
       " 'Eisenhower Ave & Mill Race Ln',\n",
       " 'Ballenger Ave & Dulaney St',\n",
       " 'Mount Vernon Ave & E Nelson Ave',\n",
       " 'Mount Vernon Ave & E Del Ray Ave',\n",
       " 'Court House Metro / 15th St & N Uhle St',\n",
       " 'Long Bridge Park / Long Bridge Dr & 6th St S',\n",
       " '15th & L St NW',\n",
       " '17th & G St NW',\n",
       " 'Spring St & 2nd Ave',\n",
       " '18th & R St NW',\n",
       " 'Joyce St & 16th St S',\n",
       " 'Union Market',\n",
       " 'Wilson Blvd & N Illinois St ',\n",
       " 'Army Navy Dr & S Nash St',\n",
       " '31st & Water St NW',\n",
       " '11th & S St NW',\n",
       " 'Walter Reed Dr & 8th St S',\n",
       " '2nd & G St NE',\n",
       " '8th & O St NW',\n",
       " 'Oklahoma Ave & D St NE',\n",
       " 'Maryland Ave & E St NE',\n",
       " 'New York Ave & Hecht Ave NE',\n",
       " 'Yuma St & Tenley Circle NW',\n",
       " 'Key West Ave & Siesta Key Way',\n",
       " 'Lee Hwy & N Woodstock St',\n",
       " 'King St Metro North / Cameron St',\n",
       " 'Madison St & N Henry St',\n",
       " 'Washington Blvd & N Frederick St',\n",
       " 'Wisconsin Ave & Ingomar St NW',\n",
       " '16th & Irving St NW',\n",
       " 'Woodmont Ave & Strathmore St',\n",
       " '14th & L St NW',\n",
       " '1st & O St NW',\n",
       " 'South Capitol & Atlantic St SW',\n",
       " '18th & C St NW',\n",
       " 'East West Hwy & 16th St',\n",
       " 'Royal St & Wilkes St',\n",
       " '11th & O St NW',\n",
       " 'Connecticut Ave & Yuma St NW',\n",
       " 'Radford St & Osage St',\n",
       " 'Kennebec St & 11th St N',\n",
       " 'Commonwealth Ave & Oak St',\n",
       " 'Commonwealth Ave & E Monroe Ave',\n",
       " '4th St & Madison Dr NW',\n",
       " '17th St & Independence Ave SW',\n",
       " 'Franklin St & S Washington St',\n",
       " 'Mount Vernon Ave & Four Mile Run Park',\n",
       " '4th St & K St NW',\n",
       " 'Mount Vernon Ave & Bruce St',\n",
       " 'Powhatan St & Bashford Ln',\n",
       " 'Potomac Ave & Swann Ave',\n",
       " 'Vermont Ave & I St NW',\n",
       " 'Wisconsin Ave & Brandywine St NW',\n",
       " 'Division Ave & Foote St NE',\n",
       " '16th & Q St SE / Anacostia HS',\n",
       " 'Spring Hill Metro',\n",
       " 'Westpark Dr & Leesburg Pike',\n",
       " 'Tysons One Pl & Chain Bridge Rd',\n",
       " 'Tysons Corner Station',\n",
       " 'Westpark & Jones Branch Dr',\n",
       " 'Jones Branch & Westbranch Dr',\n",
       " 'Tysons West Transit Center',\n",
       " 'North Shore & Cameron Crescent Dr/Crescent Apartments',\n",
       " 'Town Center Pkwy & Bowman Towne Dr',\n",
       " 'Reston Regional Library',\n",
       " 'New Dominion Pkwy & Fountain Dr',\n",
       " 'Sunset Hills & Old Reston Ave',\n",
       " 'Reston Town Center Transit Station',\n",
       " '1st & D St SE',\n",
       " 'Library St & Freedom Dr',\n",
       " 'Sunset Hills Rd & Discovery Square',\n",
       " '22nd St & Constitution Ave NW',\n",
       " 'Temporary Rd & Old Reston Ave',\n",
       " 'Sunset Hills Rd & Isaac Newton Square',\n",
       " 'Greensboro & International Dr',\n",
       " 'Madison St & Fairfax St',\n",
       " 'Towers Crescent Dr & Tysons One Pl',\n",
       " 'Pooks Hill Rd & Linden Ave',\n",
       " 'New Hampshire & Kirklynn Ave',\n",
       " 'Amherst Ave & Elkins St',\n",
       " 'Windham Ln & Amherst Ave',\n",
       " 'North Shore Dr & Village Rd',\n",
       " 'Town Center Pkwy & Sunset Hills Rd',\n",
       " '18th & Monroe St NE',\n",
       " '7th & E St SW',\n",
       " 'Shady Grove Metro East',\n",
       " 'Columbia & Ontario Rd NW',\n",
       " 'Washington-Liberty High School / N Stafford St & Generals Way',\n",
       " 'Westover Library / Washington Blvd & N McKinley Rd',\n",
       " 'Columbia Pike & S Taylor St',\n",
       " 'Columbus Ave & Gramercy Blvd',\n",
       " 'Reston Pkwy & Spectrum Dr',\n",
       " 'Key West Ave & Great Seneca Hwy',\n",
       " 'Virginia Ave & 25th St NW',\n",
       " '15th & M St NW',\n",
       " 'Connecticut Ave & R St NW',\n",
       " 'Wilson Blvd & N Troy St',\n",
       " '15th St & Constitution Ave NW',\n",
       " '23rd & M St NW',\n",
       " 'Corporate Blvd & Omega Dr',\n",
       " 'Key West Ave & Diamondback Dr',\n",
       " 'Alabama Ave & Stanton Rd SE / Shops at Park Village',\n",
       " 'Mississippi Ave & 19th St SE / THEARC',\n",
       " '4th St & Mississippi Ave SE',\n",
       " '1st & S Capitol St SE / Oxon Run Trail',\n",
       " 'Livingston Rd & 3rd St SE',\n",
       " 'Joliet St & MLK Ave SW/Bald Eagle Rec Ctr',\n",
       " '37th & Ely Pl SE',\n",
       " '15th St & Pennsylvania Ave NW',\n",
       " 'Maine Ave & 9th St SW',\n",
       " 'Lincoln Rd & Seaton Pl NE/Harry Thomas Rec Center',\n",
       " 'Georgia Ave & Kennedy St NW',\n",
       " '7th St & Massachusetts Ave NE',\n",
       " 'Twinbrook Metro',\n",
       " 'White Flint Metro',\n",
       " 'Citadel Ave & McGrath Blvd',\n",
       " 'Rockville Pike & Old Georgetown Rd',\n",
       " 'Woodglen Dr & Executive Blvd',\n",
       " 'Executive Blvd & E Jefferson St',\n",
       " 'Fishers Ln & Rock Creek Mill Rd',\n",
       " 'Congressional Ln & E Jefferson St',\n",
       " 'Garland Ave & Walden Rd',\n",
       " 'Greensboro & Pinnacle Dr',\n",
       " '1301 McCormick Dr / Wayne K. Curry Admin Bldg',\n",
       " 'Largo Town Center Metro',\n",
       " 'Baltimore Ave & Van Buren St / Riverdale Park Station',\n",
       " 'Perry & 35th St',\n",
       " 'Crystal Dr & Potomac Ave',\n",
       " 'Stanton Square SE',\n",
       " 'Fleet St & Waterfront St',\n",
       " 'Oxon Hill Park & Ride',\n",
       " '11th & Park Rd NW',\n",
       " '4th & M St SE',\n",
       " 'Campus Commons',\n",
       " 'Park Run & Onyx Dr',\n",
       " '7th & K St NW',\n",
       " 'King Greenleaf Rec Center',\n",
       " 'Montello Ave & Holbrook Terr NE',\n",
       " 'Massachusetts Ave & 6th St NE',\n",
       " 'McLean Metro',\n",
       " 'Rosedale Rec Center',\n",
       " '11th & C St SE',\n",
       " '18th & New Hampshire Ave NW',\n",
       " 'Dunn Loring Metro',\n",
       " 'Queens Chapel & Hamilton St',\n",
       " 'New Hampshire Ave & East-West Hwy',\n",
       " 'Riggs Rd & East West Hwy',\n",
       " 'Tanger Outlets',\n",
       " 'Chillum Rd & Riggs Rd / Riggs Plaza',\n",
       " 'Hyattsville Library / Adelphi Rd & Toledo Rd',\n",
       " 'George Mason High School / Haycock Rd & Leesburg Pike',\n",
       " 'N Oak St & W Broad St',\n",
       " 'E Fairfax St & S Washington St',\n",
       " 'W Broad St & Little Falls St',\n",
       " 'Falls Church City Hall / Park Ave & Little Falls St',\n",
       " 'W Columbia St & N Washington St',\n",
       " 'Jones Branch Drive & Scotts Crossing Rd',\n",
       " 'Merrilee Dr & Lauren Elizabeth Lane',\n",
       " 'Rhode Island & Montana Ave NE',\n",
       " '7th & S St NW',\n",
       " 'North Capitol & R St NE',\n",
       " '17th & Upshur St NW',\n",
       " 'Grant Circle',\n",
       " 'West Hyattsville Metro',\n",
       " \"Prince George's Plaza Metro\",\n",
       " 'Riverdale Park Town Center',\n",
       " 'The Mall at Prince Georges',\n",
       " 'Wheaton Library & Community Rec Center',\n",
       " 'Edgewood Rec Center',\n",
       " '8th & K St NE',\n",
       " 'Kingman Island/The Fields at RFK',\n",
       " 'Kenilworth Terrace & Hayes St. NE',\n",
       " 'National Harbor Carousel',\n",
       " 'Ridge Rd Community Center',\n",
       " 'Reservoir Rd & 38th St NW',\n",
       " '22nd & H St NW',\n",
       " 'Hardy Rec Center',\n",
       " 'Briggs Chaney & Castle Dr',\n",
       " 'White Oak Rec Center',\n",
       " 'Briggs Chaney Park & Ride',\n",
       " 'Stewart & April',\n",
       " 'Stewart Ln & Old Columbia Pike',\n",
       " 'New Hampshire & Lockwood',\n",
       " 'Castle Blvd & Castle Ln',\n",
       " 'White Oak Transit Center',\n",
       " 'Wilson Blvd. & N. Vermont St.',\n",
       " 'Oklahoma Ave & Benning Rd NE',\n",
       " 'Minnesota Ave & R St SE',\n",
       " 'Vy Reston Heights',\n",
       " '1st & K St NE',\n",
       " 'Wheeler Ave & S. Floyd St.',\n",
       " 'Mt Vernon Trail & S. Washington St.',\n",
       " 'Eisenhower Ave & Ike Dr',\n",
       " 'Capitol Ave & Kendall St NE',\n",
       " 'Half & Water St SW',\n",
       " '13th & U St NW',\n",
       " 'Stadium Armory Metro',\n",
       " 'Broad Branch Rd & Northampton St NW',\n",
       " 'Duke St & Strand (Robinson Terminal)',\n",
       " '21st St & G st NW',\n",
       " '4th St & G St SW',\n",
       " 'Fern St & Army Navy Dr',\n",
       " '23rd St S & Hayes St',\n",
       " 'Wilson Blvd & N Oak St',\n",
       " '2nd & V St SW / James Creek Marina',\n",
       " '1st St & Potomac Ave SE',\n",
       " '20th & Columbia Rd NW',\n",
       " '3rd & M st SE']"
      ]
     },
     "metadata": {},
     "execution_count": 43
    }
   ],
   "source": [
    "# Stations names without e-bikes:\n",
    "e_bike_empty_stat_name"
   ]
  },
  {
   "cell_type": "code",
   "execution_count": null,
   "metadata": {},
   "outputs": [],
   "source": []
  }
 ]
}