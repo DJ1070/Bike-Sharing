{
 "metadata": {
  "language_info": {
   "codemirror_mode": {
    "name": "ipython",
    "version": 3
   },
   "file_extension": ".py",
   "mimetype": "text/x-python",
   "name": "python",
   "nbconvert_exporter": "python",
   "pygments_lexer": "ipython3",
   "version": "3.8.5-final"
  },
  "orig_nbformat": 2,
  "kernelspec": {
   "name": "python3",
   "display_name": "Python 3",
   "language": "python"
  }
 },
 "nbformat": 4,
 "nbformat_minor": 2,
 "cells": [
  {
   "cell_type": "code",
   "execution_count": 19,
   "metadata": {},
   "outputs": [],
   "source": [
    "import pandas as pd\n",
    "import numpy as np\n",
    "import plotly.express as px\n",
    "import chart_studio.plotly as py"
   ]
  },
  {
   "cell_type": "code",
   "execution_count": 20,
   "metadata": {},
   "outputs": [
    {
     "output_type": "execute_result",
     "data": {
      "text/plain": [
       "621"
      ]
     },
     "metadata": {},
     "execution_count": 20
    }
   ],
   "source": [
    "#d = pd.read_json(\"station_information.json\")\n",
    "d_station_information = pd.read_json('https://gbfs.capitalbikeshare.com/gbfs/en/station_information.json')\n",
    "d = pd.read_json('https://gbfs.capitalbikeshare.com/gbfs/en/station_status.json')\n",
    "len(d_station_information.data['stations'])"
   ]
  },
  {
   "cell_type": "code",
   "execution_count": 21,
   "metadata": {},
   "outputs": [
    {
     "output_type": "execute_result",
     "data": {
      "text/plain": [
       "621"
      ]
     },
     "metadata": {},
     "execution_count": 21
    }
   ],
   "source": [
    "len(d.data[0])"
   ]
  },
  {
   "cell_type": "code",
   "execution_count": 22,
   "metadata": {},
   "outputs": [
    {
     "output_type": "execute_result",
     "data": {
      "text/plain": [
       "{'num_bikes_disabled': 0,\n",
       " 'is_renting': 1,\n",
       " 'num_docks_disabled': 0,\n",
       " 'station_id': '1',\n",
       " 'last_reported': 1611479697,\n",
       " 'is_returning': 1,\n",
       " 'is_installed': 1,\n",
       " 'station_status': 'active',\n",
       " 'num_bikes_available': 3,\n",
       " 'eightd_has_available_keys': False,\n",
       " 'num_docks_available': 12,\n",
       " 'legacy_id': '1',\n",
       " 'num_ebikes_available': 0}"
      ]
     },
     "metadata": {},
     "execution_count": 22
    }
   ],
   "source": [
    "d.data[0][0]"
   ]
  },
  {
   "cell_type": "code",
   "execution_count": 23,
   "metadata": {},
   "outputs": [
    {
     "output_type": "stream",
     "name": "stdout",
     "text": [
      "Available Bikes:  4762\nAvailable E-Bikes:  310\n"
     ]
    }
   ],
   "source": [
    "av_bikes = []\n",
    "av_e_bikes = []\n",
    "for i in range(len(d.data[0])):\n",
    "    av_bikes.append(d.data[0][i]['num_bikes_available'])\n",
    "    av_e_bikes.append(d.data[0][i]['num_ebikes_available'])\n",
    "print('Available Bikes: ', pd.Series(av_bikes).sum())\n",
    "print('Available E-Bikes: ', pd.Series(av_e_bikes).sum())"
   ]
  },
  {
   "cell_type": "code",
   "execution_count": 24,
   "metadata": {},
   "outputs": [],
   "source": [
    "#d.data['stations'][0]['num_bikes_available']"
   ]
  },
  {
   "cell_type": "code",
   "execution_count": 25,
   "metadata": {},
   "outputs": [
    {
     "output_type": "stream",
     "name": "stdout",
     "text": [
      "Active Stations:  619\n"
     ]
    }
   ],
   "source": [
    "active_station = []\n",
    "for i in range(len(d.data[0])):\n",
    "    active_station.append(d.data[0][i]['is_renting'])\n",
    "print('Active Stations: ', pd.Series(active_station).sum())"
   ]
  },
  {
   "cell_type": "code",
   "execution_count": 26,
   "metadata": {},
   "outputs": [
    {
     "output_type": "stream",
     "name": "stdout",
     "text": [
      "Stations with 0 bikes available:  15\nStations with 0 e-bikes available:  439\n"
     ]
    }
   ],
   "source": [
    "print('Stations with 0 bikes available: ',av_bikes.count(0))\n",
    "print('Stations with 0 e-bikes available: ',av_e_bikes.count(0))"
   ]
  },
  {
   "cell_type": "code",
   "execution_count": 27,
   "metadata": {},
   "outputs": [
    {
     "output_type": "stream",
     "name": "stdout",
     "text": [
      "Available Bikes in Active Stations:  4762\n",
      "Available E-Bikes in Active Stations:  310\n",
      "Active Stations:  619\n",
      "Inactive Station IDs:  ['377', '587']\n"
     ]
    }
   ],
   "source": [
    "# Evaluation: How many bikes and e-bikes are available at ACTIVE stations?\n",
    "# (We learn that the given data for all available (e-)bikes always equals the available (e-)bikes at active stations.)\n",
    "\n",
    "bikes_active_stations = []\n",
    "e_bikes_active_stations = []\n",
    "stat = []\n",
    "inactive_station_id = []\n",
    "for i in range(len(d.data[0])):\n",
    "    if d.data[0][i]['is_renting'] == 1:\n",
    "        bikes_active_stations.append(d.data[0][i]['num_bikes_available'])\n",
    "        e_bikes_active_stations.append(d.data[0][i]['num_ebikes_available'])\n",
    "        stat.append(d.data[0][i]['is_renting'])\n",
    "    else:\n",
    "        inactive_station_id.append(d.data[0][i]['station_id'])\n",
    "print('Available Bikes in Active Stations: ', pd.Series(av_bikes).sum())\n",
    "print('Available E-Bikes in Active Stations: ', pd.Series(av_e_bikes).sum())\n",
    "print('Active Stations: ', pd.Series(stat).count())\n",
    "print('Inactive Station IDs: ', inactive_station_id)"
   ]
  },
  {
   "cell_type": "code",
   "execution_count": 28,
   "metadata": {},
   "outputs": [
    {
     "output_type": "stream",
     "name": "stdout",
     "text": [
      "Number of active stations without available bikes:  15\nNumber of active stations without available e-bikes:  438\n"
     ]
    }
   ],
   "source": [
    "print('Number of active stations without available bikes: ', bikes_active_stations.count(0))\n",
    "print('Number of active stations without available e-bikes: ', e_bikes_active_stations.count(0))"
   ]
  },
  {
   "cell_type": "code",
   "execution_count": 29,
   "metadata": {},
   "outputs": [
    {
     "output_type": "stream",
     "name": "stdout",
     "text": [
      "Stations numbers without bikes:  ['8', '27', '89', '93', '134', '172', '176', '211', '400', '420', '464', '465', '495', '507', '659']\nStations numbers without e-bikes:  ['1', '2', '4', '5', '6', '10', '11', '12', '13', '14', '15', '17', '20', '21', '22', '23', '24', '25', '26', '28', '31', '32', '33', '34', '36', '37', '38', '40', '41', '42', '43', '44', '45', '46', '47', '48', '49', '54', '55', '56', '58', '59', '60', '61', '63', '68', '69', '71', '73', '74', '75', '76', '77', '79', '80', '81', '82', '83', '84', '86', '88', '92', '94', '95', '96', '97', '98', '99', '100', '101', '102', '103', '104', '105', '106', '107', '108', '110', '111', '112', '113', '114', '115', '117', '124', '125', '126', '127', '129', '130', '131', '132', '136', '137', '141', '142', '143', '144', '146', '147', '148', '150', '152', '155', '156', '158', '159', '161', '162', '166', '168', '169', '170', '171', '173', '174', '175', '177', '178', '180', '182', '183', '186', '188', '189', '190', '191', '192', '194', '195', '196', '197', '198', '200', '201', '202', '203', '207', '209', '212', '213', '214', '215', '216', '217', '219', '222', '223', '224', '225', '226', '227', '228', '229', '231', '233', '234', '235', '236', '237', '239', '240', '242', '244', '246', '248', '250', '251', '252', '253', '254', '255', '259', '260', '261', '262', '263', '264', '265', '266', '267', '268', '269', '270', '272', '273', '275', '277', '278', '279', '283', '284', '285', '286', '287', '293', '294', '295', '297', '299', '302', '303', '305', '308', '309', '310', '311', '312', '313', '315', '316', '318', '323', '324', '325', '327', '328', '330', '331', '332', '333', '334', '337', '339', '340', '341', '344', '346', '347', '348', '349', '350', '351', '352', '355', '357', '358', '359', '364', '365', '368', '369', '371', '373', '378', '380', '381', '382', '384', '386', '389', '390', '392', '393', '395', '396', '398', '399', '402', '403', '405', '406', '407', '410', '411', '414', '416', '417', '419', '422', '423', '425', '427', '428', '429', '430', '432', '433', '434', '435', '436', '437', '438', '439', '441', '442', '443', '445', '447', '448', '450', '451', '454', '456', '457', '458', '459', '461', '463', '466', '467', '468', '470', '471', '472', '473', '474', '476', '477', '479', '480', '481', '485', '486', '487', '488', '491', '492', '493', '494', '496', '497', '498', '499', '500', '501', '505', '506', '508', '509', '511', '512', '513', '514', '515', '516', '517', '518', '519', '520', '521', '522', '523', '525', '529', '531', '533', '535', '536', '537', '539', '540', '541', '542', '543', '548', '549', '550', '552', '553', '554', '556', '560', '563', '565', '567', '568', '569', '570', '571', '573', '575', '576', '577', '579', '580', '582', '583', '584', '586', '587', '590', '592', '593', '595', '596', '597', '598', '599', '601', '602', '603', '604', '606', '608', '610', '613', '614', '615', '617', '618', '619', '621', '622', '623', '625', '628', '630', '632', '633', '636', '637', '638', '643', '645', '646', '649', '650', '651', '653', '654', '655', '656', '657']\n"
     ]
    }
   ],
   "source": [
    "# Which are the stations without available (e-)bikes?\n",
    "\n",
    "bike_empty_stat_id = []\n",
    "e_bike_empty_stat_id = []\n",
    "for i in range(len(d.data[0])):\n",
    "    if d.data[0][i]['num_bikes_available'] == 0:\n",
    "        bike_empty_stat_id.append(d.data[0][i]['station_id'])\n",
    "    elif d.data[0][i]['num_ebikes_available'] == 0:\n",
    "        e_bike_empty_stat_id.append(d.data[0][i]['station_id'])\n",
    "\n",
    "print('Stations numbers without bikes: ', bike_empty_stat_id)\n",
    "print('Stations numbers without e-bikes: ', e_bike_empty_stat_id)"
   ]
  },
  {
   "cell_type": "code",
   "execution_count": 30,
   "metadata": {},
   "outputs": [
    {
     "output_type": "execute_result",
     "data": {
      "text/plain": [
       "{'classic'}"
      ]
     },
     "metadata": {},
     "execution_count": 30
    }
   ],
   "source": [
    "# Check: Which (different) data does \"station_type\" contain?\n",
    "# Ignore if there's no difference between bikes and e-bikes.\n",
    "\n",
    "a = []\n",
    "for i in range(len(d_station_information.data[0])):\n",
    "    a.append(d_station_information.data[0][i]['station_type'])\n",
    "\n",
    "b = set(a)\n",
    "b"
   ]
  },
  {
   "cell_type": "code",
   "execution_count": 31,
   "metadata": {},
   "outputs": [
    {
     "output_type": "stream",
     "name": "stdout",
     "text": [
      "{'CREDITCARD', 'KEY'}\n"
     ]
    }
   ],
   "source": [
    "# Check: Which different payment types does \"rental_methods\" contain?\n",
    "\n",
    "payment_types = []\n",
    "for i in range(len(d_station_information.data[0])):\n",
    "    payment_types.append(d_station_information.data[0][i]['rental_methods'])\n",
    "\n",
    "payment_types = list(np.concatenate(payment_types).flat)\n",
    "unique_payment_values = set(payment_types)\n",
    "print(unique_payment_values)"
   ]
  },
  {
   "cell_type": "code",
   "execution_count": 32,
   "metadata": {},
   "outputs": [
    {
     "output_type": "execute_result",
     "data": {
      "text/plain": [
       "{'short_name': '31000',\n",
       " 'rental_uris': {'ios': 'https://dc.lft.to/lastmile_qr_scan',\n",
       "  'android': 'https://dc.lft.to/lastmile_qr_scan'},\n",
       " 'capacity': 15,\n",
       " 'external_id': '082469cc-1f3f-11e7-bf6b-3863bb334450',\n",
       " 'eightd_station_services': [],\n",
       " 'electric_bike_surcharge_waiver': False,\n",
       " 'name': 'Eads St & 15th St S',\n",
       " 'lat': 38.858971,\n",
       " 'station_id': '1',\n",
       " 'eightd_has_key_dispenser': False,\n",
       " 'lon': -77.05323,\n",
       " 'has_kiosk': True,\n",
       " 'region_id': '41',\n",
       " 'rental_methods': ['KEY', 'CREDITCARD'],\n",
       " 'legacy_id': '1',\n",
       " 'station_type': 'classic'}"
      ]
     },
     "metadata": {},
     "execution_count": 32
    }
   ],
   "source": [
    "d_station_information.data[0][0]"
   ]
  },
  {
   "cell_type": "code",
   "execution_count": 33,
   "metadata": {
    "tags": []
   },
   "outputs": [],
   "source": [
    "# Getting the real station names for empty bike stands from https://gbfs.capitalbikeshare.com/gbfs/en/station_information.json\n",
    "\n",
    "bike_empty_stat_name = []\n",
    "e_bike_empty_stat_name = []\n",
    "\n",
    "for i in range(len(d_station_information.data[0])):\n",
    "    for j in bike_empty_stat_id:\n",
    "        j = int(j)\n",
    "        if j == int(d_station_information.data[0][i]['station_id']):\n",
    "            bike_empty_stat_name.append(d_station_information.data[0][i]['name'])\n",
    "\n",
    "for i in range(len(d_station_information.data[0])):\n",
    "    for k in e_bike_empty_stat_id:\n",
    "        k = int(k)\n",
    "        if k == int(d_station_information.data[0][i]['station_id']):\n",
    "            e_bike_empty_stat_name.append(d_station_information.data[0][i]['name'])\n",
    "\n",
    "# print('Stations names without bikes: ', bike_empty_stat_name)\n",
    "# print('Stations names without e-bikes: ', e_bike_empty_stat_name)"
   ]
  },
  {
   "cell_type": "code",
   "execution_count": 34,
   "metadata": {},
   "outputs": [
    {
     "output_type": "execute_result",
     "data": {
      "text/plain": [
       "['Crystal City Metro / 18th St & S Bell St',\n",
       " '21st & I St NW',\n",
       " 'D St & Maryland Ave NE',\n",
       " '10th & Monroe St NE',\n",
       " 'Wilson Blvd & N Edgewood St',\n",
       " 'N Veitch St & Key Blvd',\n",
       " 'Ballston Metro / Stuart St & 9th St N',\n",
       " 'Columbia Pike & S Courthouse Rd',\n",
       " \"10th St & L'Enfant Plaza SW\",\n",
       " 'Wisconsin Ave & Brandywine St NW',\n",
       " 'Amherst Ave & Prichard Rd',\n",
       " 'Grandview & Blueridge Ave',\n",
       " '19th & Savannah St SE',\n",
       " 'Blueridge Ave & Elkin St',\n",
       " '53rd & D St SE/C.W. Harris Elementary']"
      ]
     },
     "metadata": {},
     "execution_count": 34
    }
   ],
   "source": [
    "# Stations names without bikes:\n",
    "bike_empty_stat_name"
   ]
  },
  {
   "cell_type": "code",
   "execution_count": 50,
   "metadata": {},
   "outputs": [
    {
     "output_type": "execute_result",
     "data": {
      "text/plain": [
       "                                           0\n",
       "0   Crystal City Metro / 18th St & S Bell St\n",
       "1                             21st & I St NW\n",
       "2                     D St & Maryland Ave NE\n",
       "3                        10th & Monroe St NE\n",
       "4                Wilson Blvd & N Edgewood St\n",
       "5                     N Veitch St & Key Blvd\n",
       "6      Ballston Metro / Stuart St & 9th St N\n",
       "7            Columbia Pike & S Courthouse Rd\n",
       "8                10th St & L'Enfant Plaza SW\n",
       "9           Wisconsin Ave & Brandywine St NW\n",
       "10                 Amherst Ave & Prichard Rd\n",
       "11                 Grandview & Blueridge Ave\n",
       "12                     19th & Savannah St SE\n",
       "13                  Blueridge Ave & Elkin St\n",
       "14     53rd & D St SE/C.W. Harris Elementary"
      ],
      "text/html": "<div>\n<style scoped>\n    .dataframe tbody tr th:only-of-type {\n        vertical-align: middle;\n    }\n\n    .dataframe tbody tr th {\n        vertical-align: top;\n    }\n\n    .dataframe thead th {\n        text-align: right;\n    }\n</style>\n<table border=\"1\" class=\"dataframe\">\n  <thead>\n    <tr style=\"text-align: right;\">\n      <th></th>\n      <th>0</th>\n    </tr>\n  </thead>\n  <tbody>\n    <tr>\n      <th>0</th>\n      <td>Crystal City Metro / 18th St &amp; S Bell St</td>\n    </tr>\n    <tr>\n      <th>1</th>\n      <td>21st &amp; I St NW</td>\n    </tr>\n    <tr>\n      <th>2</th>\n      <td>D St &amp; Maryland Ave NE</td>\n    </tr>\n    <tr>\n      <th>3</th>\n      <td>10th &amp; Monroe St NE</td>\n    </tr>\n    <tr>\n      <th>4</th>\n      <td>Wilson Blvd &amp; N Edgewood St</td>\n    </tr>\n    <tr>\n      <th>5</th>\n      <td>N Veitch St &amp; Key Blvd</td>\n    </tr>\n    <tr>\n      <th>6</th>\n      <td>Ballston Metro / Stuart St &amp; 9th St N</td>\n    </tr>\n    <tr>\n      <th>7</th>\n      <td>Columbia Pike &amp; S Courthouse Rd</td>\n    </tr>\n    <tr>\n      <th>8</th>\n      <td>10th St &amp; L'Enfant Plaza SW</td>\n    </tr>\n    <tr>\n      <th>9</th>\n      <td>Wisconsin Ave &amp; Brandywine St NW</td>\n    </tr>\n    <tr>\n      <th>10</th>\n      <td>Amherst Ave &amp; Prichard Rd</td>\n    </tr>\n    <tr>\n      <th>11</th>\n      <td>Grandview &amp; Blueridge Ave</td>\n    </tr>\n    <tr>\n      <th>12</th>\n      <td>19th &amp; Savannah St SE</td>\n    </tr>\n    <tr>\n      <th>13</th>\n      <td>Blueridge Ave &amp; Elkin St</td>\n    </tr>\n    <tr>\n      <th>14</th>\n      <td>53rd &amp; D St SE/C.W. Harris Elementary</td>\n    </tr>\n  </tbody>\n</table>\n</div>"
     },
     "metadata": {},
     "execution_count": 50
    }
   ],
   "source": [
    "besn = pd.DataFrame(bike_empty_stat_name)\n",
    "besn"
   ]
  },
  {
   "cell_type": "code",
   "execution_count": 35,
   "metadata": {},
   "outputs": [],
   "source": [
    "# Stations names without e-bikes:\n",
    "#e_bike_empty_stat_name"
   ]
  },
  {
   "cell_type": "code",
   "execution_count": 44,
   "metadata": {},
   "outputs": [
    {
     "output_type": "execute_result",
     "data": {
      "text/plain": [
       "{'num_bikes_disabled': 0,\n",
       " 'is_renting': 1,\n",
       " 'num_docks_disabled': 0,\n",
       " 'station_id': '1',\n",
       " 'last_reported': 1611479697,\n",
       " 'is_returning': 1,\n",
       " 'is_installed': 1,\n",
       " 'station_status': 'active',\n",
       " 'num_bikes_available': 3,\n",
       " 'eightd_has_available_keys': False,\n",
       " 'num_docks_available': 12,\n",
       " 'legacy_id': '1',\n",
       " 'num_ebikes_available': 0}"
      ]
     },
     "metadata": {},
     "execution_count": 44
    }
   ],
   "source": [
    "d.data[0][0]"
   ]
  },
  {
   "cell_type": "code",
   "execution_count": 52,
   "metadata": {},
   "outputs": [
    {
     "output_type": "display_data",
     "data": {
      "application/vnd.plotly.v1+json": {
       "config": {
        "plotlyServerURL": "https://plot.ly"
       },
       "data": [
        {
         "geo": "geo",
         "hovertemplate": "locations=%{location}<extra></extra>",
         "legendgroup": "",
         "locations": [
          0
         ],
         "marker": {
          "color": "#636efa",
          "symbol": "circle"
         },
         "mode": "markers",
         "name": "",
         "showlegend": false,
         "type": "scattergeo"
        }
       ],
       "layout": {
        "geo": {
         "center": {},
         "domain": {
          "x": [
           0,
           1
          ],
          "y": [
           0,
           1
          ]
         }
        },
        "legend": {
         "tracegroupgap": 0
        },
        "margin": {
         "t": 60
        },
        "template": {
         "data": {
          "bar": [
           {
            "error_x": {
             "color": "#2a3f5f"
            },
            "error_y": {
             "color": "#2a3f5f"
            },
            "marker": {
             "line": {
              "color": "#E5ECF6",
              "width": 0.5
             }
            },
            "type": "bar"
           }
          ],
          "barpolar": [
           {
            "marker": {
             "line": {
              "color": "#E5ECF6",
              "width": 0.5
             }
            },
            "type": "barpolar"
           }
          ],
          "carpet": [
           {
            "aaxis": {
             "endlinecolor": "#2a3f5f",
             "gridcolor": "white",
             "linecolor": "white",
             "minorgridcolor": "white",
             "startlinecolor": "#2a3f5f"
            },
            "baxis": {
             "endlinecolor": "#2a3f5f",
             "gridcolor": "white",
             "linecolor": "white",
             "minorgridcolor": "white",
             "startlinecolor": "#2a3f5f"
            },
            "type": "carpet"
           }
          ],
          "choropleth": [
           {
            "colorbar": {
             "outlinewidth": 0,
             "ticks": ""
            },
            "type": "choropleth"
           }
          ],
          "contour": [
           {
            "colorbar": {
             "outlinewidth": 0,
             "ticks": ""
            },
            "colorscale": [
             [
              0,
              "#0d0887"
             ],
             [
              0.1111111111111111,
              "#46039f"
             ],
             [
              0.2222222222222222,
              "#7201a8"
             ],
             [
              0.3333333333333333,
              "#9c179e"
             ],
             [
              0.4444444444444444,
              "#bd3786"
             ],
             [
              0.5555555555555556,
              "#d8576b"
             ],
             [
              0.6666666666666666,
              "#ed7953"
             ],
             [
              0.7777777777777778,
              "#fb9f3a"
             ],
             [
              0.8888888888888888,
              "#fdca26"
             ],
             [
              1,
              "#f0f921"
             ]
            ],
            "type": "contour"
           }
          ],
          "contourcarpet": [
           {
            "colorbar": {
             "outlinewidth": 0,
             "ticks": ""
            },
            "type": "contourcarpet"
           }
          ],
          "heatmap": [
           {
            "colorbar": {
             "outlinewidth": 0,
             "ticks": ""
            },
            "colorscale": [
             [
              0,
              "#0d0887"
             ],
             [
              0.1111111111111111,
              "#46039f"
             ],
             [
              0.2222222222222222,
              "#7201a8"
             ],
             [
              0.3333333333333333,
              "#9c179e"
             ],
             [
              0.4444444444444444,
              "#bd3786"
             ],
             [
              0.5555555555555556,
              "#d8576b"
             ],
             [
              0.6666666666666666,
              "#ed7953"
             ],
             [
              0.7777777777777778,
              "#fb9f3a"
             ],
             [
              0.8888888888888888,
              "#fdca26"
             ],
             [
              1,
              "#f0f921"
             ]
            ],
            "type": "heatmap"
           }
          ],
          "heatmapgl": [
           {
            "colorbar": {
             "outlinewidth": 0,
             "ticks": ""
            },
            "colorscale": [
             [
              0,
              "#0d0887"
             ],
             [
              0.1111111111111111,
              "#46039f"
             ],
             [
              0.2222222222222222,
              "#7201a8"
             ],
             [
              0.3333333333333333,
              "#9c179e"
             ],
             [
              0.4444444444444444,
              "#bd3786"
             ],
             [
              0.5555555555555556,
              "#d8576b"
             ],
             [
              0.6666666666666666,
              "#ed7953"
             ],
             [
              0.7777777777777778,
              "#fb9f3a"
             ],
             [
              0.8888888888888888,
              "#fdca26"
             ],
             [
              1,
              "#f0f921"
             ]
            ],
            "type": "heatmapgl"
           }
          ],
          "histogram": [
           {
            "marker": {
             "colorbar": {
              "outlinewidth": 0,
              "ticks": ""
             }
            },
            "type": "histogram"
           }
          ],
          "histogram2d": [
           {
            "colorbar": {
             "outlinewidth": 0,
             "ticks": ""
            },
            "colorscale": [
             [
              0,
              "#0d0887"
             ],
             [
              0.1111111111111111,
              "#46039f"
             ],
             [
              0.2222222222222222,
              "#7201a8"
             ],
             [
              0.3333333333333333,
              "#9c179e"
             ],
             [
              0.4444444444444444,
              "#bd3786"
             ],
             [
              0.5555555555555556,
              "#d8576b"
             ],
             [
              0.6666666666666666,
              "#ed7953"
             ],
             [
              0.7777777777777778,
              "#fb9f3a"
             ],
             [
              0.8888888888888888,
              "#fdca26"
             ],
             [
              1,
              "#f0f921"
             ]
            ],
            "type": "histogram2d"
           }
          ],
          "histogram2dcontour": [
           {
            "colorbar": {
             "outlinewidth": 0,
             "ticks": ""
            },
            "colorscale": [
             [
              0,
              "#0d0887"
             ],
             [
              0.1111111111111111,
              "#46039f"
             ],
             [
              0.2222222222222222,
              "#7201a8"
             ],
             [
              0.3333333333333333,
              "#9c179e"
             ],
             [
              0.4444444444444444,
              "#bd3786"
             ],
             [
              0.5555555555555556,
              "#d8576b"
             ],
             [
              0.6666666666666666,
              "#ed7953"
             ],
             [
              0.7777777777777778,
              "#fb9f3a"
             ],
             [
              0.8888888888888888,
              "#fdca26"
             ],
             [
              1,
              "#f0f921"
             ]
            ],
            "type": "histogram2dcontour"
           }
          ],
          "mesh3d": [
           {
            "colorbar": {
             "outlinewidth": 0,
             "ticks": ""
            },
            "type": "mesh3d"
           }
          ],
          "parcoords": [
           {
            "line": {
             "colorbar": {
              "outlinewidth": 0,
              "ticks": ""
             }
            },
            "type": "parcoords"
           }
          ],
          "pie": [
           {
            "automargin": true,
            "type": "pie"
           }
          ],
          "scatter": [
           {
            "marker": {
             "colorbar": {
              "outlinewidth": 0,
              "ticks": ""
             }
            },
            "type": "scatter"
           }
          ],
          "scatter3d": [
           {
            "line": {
             "colorbar": {
              "outlinewidth": 0,
              "ticks": ""
             }
            },
            "marker": {
             "colorbar": {
              "outlinewidth": 0,
              "ticks": ""
             }
            },
            "type": "scatter3d"
           }
          ],
          "scattercarpet": [
           {
            "marker": {
             "colorbar": {
              "outlinewidth": 0,
              "ticks": ""
             }
            },
            "type": "scattercarpet"
           }
          ],
          "scattergeo": [
           {
            "marker": {
             "colorbar": {
              "outlinewidth": 0,
              "ticks": ""
             }
            },
            "type": "scattergeo"
           }
          ],
          "scattergl": [
           {
            "marker": {
             "colorbar": {
              "outlinewidth": 0,
              "ticks": ""
             }
            },
            "type": "scattergl"
           }
          ],
          "scattermapbox": [
           {
            "marker": {
             "colorbar": {
              "outlinewidth": 0,
              "ticks": ""
             }
            },
            "type": "scattermapbox"
           }
          ],
          "scatterpolar": [
           {
            "marker": {
             "colorbar": {
              "outlinewidth": 0,
              "ticks": ""
             }
            },
            "type": "scatterpolar"
           }
          ],
          "scatterpolargl": [
           {
            "marker": {
             "colorbar": {
              "outlinewidth": 0,
              "ticks": ""
             }
            },
            "type": "scatterpolargl"
           }
          ],
          "scatterternary": [
           {
            "marker": {
             "colorbar": {
              "outlinewidth": 0,
              "ticks": ""
             }
            },
            "type": "scatterternary"
           }
          ],
          "surface": [
           {
            "colorbar": {
             "outlinewidth": 0,
             "ticks": ""
            },
            "colorscale": [
             [
              0,
              "#0d0887"
             ],
             [
              0.1111111111111111,
              "#46039f"
             ],
             [
              0.2222222222222222,
              "#7201a8"
             ],
             [
              0.3333333333333333,
              "#9c179e"
             ],
             [
              0.4444444444444444,
              "#bd3786"
             ],
             [
              0.5555555555555556,
              "#d8576b"
             ],
             [
              0.6666666666666666,
              "#ed7953"
             ],
             [
              0.7777777777777778,
              "#fb9f3a"
             ],
             [
              0.8888888888888888,
              "#fdca26"
             ],
             [
              1,
              "#f0f921"
             ]
            ],
            "type": "surface"
           }
          ],
          "table": [
           {
            "cells": {
             "fill": {
              "color": "#EBF0F8"
             },
             "line": {
              "color": "white"
             }
            },
            "header": {
             "fill": {
              "color": "#C8D4E3"
             },
             "line": {
              "color": "white"
             }
            },
            "type": "table"
           }
          ]
         },
         "layout": {
          "annotationdefaults": {
           "arrowcolor": "#2a3f5f",
           "arrowhead": 0,
           "arrowwidth": 1
          },
          "autotypenumbers": "strict",
          "coloraxis": {
           "colorbar": {
            "outlinewidth": 0,
            "ticks": ""
           }
          },
          "colorscale": {
           "diverging": [
            [
             0,
             "#8e0152"
            ],
            [
             0.1,
             "#c51b7d"
            ],
            [
             0.2,
             "#de77ae"
            ],
            [
             0.3,
             "#f1b6da"
            ],
            [
             0.4,
             "#fde0ef"
            ],
            [
             0.5,
             "#f7f7f7"
            ],
            [
             0.6,
             "#e6f5d0"
            ],
            [
             0.7,
             "#b8e186"
            ],
            [
             0.8,
             "#7fbc41"
            ],
            [
             0.9,
             "#4d9221"
            ],
            [
             1,
             "#276419"
            ]
           ],
           "sequential": [
            [
             0,
             "#0d0887"
            ],
            [
             0.1111111111111111,
             "#46039f"
            ],
            [
             0.2222222222222222,
             "#7201a8"
            ],
            [
             0.3333333333333333,
             "#9c179e"
            ],
            [
             0.4444444444444444,
             "#bd3786"
            ],
            [
             0.5555555555555556,
             "#d8576b"
            ],
            [
             0.6666666666666666,
             "#ed7953"
            ],
            [
             0.7777777777777778,
             "#fb9f3a"
            ],
            [
             0.8888888888888888,
             "#fdca26"
            ],
            [
             1,
             "#f0f921"
            ]
           ],
           "sequentialminus": [
            [
             0,
             "#0d0887"
            ],
            [
             0.1111111111111111,
             "#46039f"
            ],
            [
             0.2222222222222222,
             "#7201a8"
            ],
            [
             0.3333333333333333,
             "#9c179e"
            ],
            [
             0.4444444444444444,
             "#bd3786"
            ],
            [
             0.5555555555555556,
             "#d8576b"
            ],
            [
             0.6666666666666666,
             "#ed7953"
            ],
            [
             0.7777777777777778,
             "#fb9f3a"
            ],
            [
             0.8888888888888888,
             "#fdca26"
            ],
            [
             1,
             "#f0f921"
            ]
           ]
          },
          "colorway": [
           "#636efa",
           "#EF553B",
           "#00cc96",
           "#ab63fa",
           "#FFA15A",
           "#19d3f3",
           "#FF6692",
           "#B6E880",
           "#FF97FF",
           "#FECB52"
          ],
          "font": {
           "color": "#2a3f5f"
          },
          "geo": {
           "bgcolor": "white",
           "lakecolor": "white",
           "landcolor": "#E5ECF6",
           "showlakes": true,
           "showland": true,
           "subunitcolor": "white"
          },
          "hoverlabel": {
           "align": "left"
          },
          "hovermode": "closest",
          "mapbox": {
           "style": "light"
          },
          "paper_bgcolor": "white",
          "plot_bgcolor": "#E5ECF6",
          "polar": {
           "angularaxis": {
            "gridcolor": "white",
            "linecolor": "white",
            "ticks": ""
           },
           "bgcolor": "#E5ECF6",
           "radialaxis": {
            "gridcolor": "white",
            "linecolor": "white",
            "ticks": ""
           }
          },
          "scene": {
           "xaxis": {
            "backgroundcolor": "#E5ECF6",
            "gridcolor": "white",
            "gridwidth": 2,
            "linecolor": "white",
            "showbackground": true,
            "ticks": "",
            "zerolinecolor": "white"
           },
           "yaxis": {
            "backgroundcolor": "#E5ECF6",
            "gridcolor": "white",
            "gridwidth": 2,
            "linecolor": "white",
            "showbackground": true,
            "ticks": "",
            "zerolinecolor": "white"
           },
           "zaxis": {
            "backgroundcolor": "#E5ECF6",
            "gridcolor": "white",
            "gridwidth": 2,
            "linecolor": "white",
            "showbackground": true,
            "ticks": "",
            "zerolinecolor": "white"
           }
          },
          "shapedefaults": {
           "line": {
            "color": "#2a3f5f"
           }
          },
          "ternary": {
           "aaxis": {
            "gridcolor": "white",
            "linecolor": "white",
            "ticks": ""
           },
           "baxis": {
            "gridcolor": "white",
            "linecolor": "white",
            "ticks": ""
           },
           "bgcolor": "#E5ECF6",
           "caxis": {
            "gridcolor": "white",
            "linecolor": "white",
            "ticks": ""
           }
          },
          "title": {
           "x": 0.05
          },
          "xaxis": {
           "automargin": true,
           "gridcolor": "white",
           "linecolor": "white",
           "ticks": "",
           "title": {
            "standoff": 15
           },
           "zerolinecolor": "white",
           "zerolinewidth": 2
          },
          "yaxis": {
           "automargin": true,
           "gridcolor": "white",
           "linecolor": "white",
           "ticks": "",
           "title": {
            "standoff": 15
           },
           "zerolinecolor": "white",
           "zerolinewidth": 2
          }
         }
        }
       }
      }
     },
     "metadata": {}
    }
   ],
   "source": [
    "fig = px.scatter_geo(besn, locations=[0])\n",
    "fig.show()"
   ]
  },
  {
   "cell_type": "code",
   "execution_count": null,
   "metadata": {},
   "outputs": [],
   "source": []
  }
 ]
}